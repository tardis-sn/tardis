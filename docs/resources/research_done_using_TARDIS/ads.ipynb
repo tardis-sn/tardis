{
 "cells": [
  {
   "cell_type": "code",
   "execution_count": 5,
   "metadata": {},
   "outputs": [],
   "source": [
    "import requests\n",
    "from urllib.parse import urlencode\n",
    "import os"
   ]
  },
  {
   "cell_type": "code",
   "execution_count": null,
   "metadata": {},
   "outputs": [],
   "source": [
    "BASE_URL = \"https://api.adsabs.harvard.edu/v1/search\"\n",
    "tardis_bibcode = \"2014MNRAS.440..387K\" \n",
    "tardis_articles = []\n",
    "query = {\n",
    "    \"q\": f'bibcode:\"{tardis_bibcode}\"',\n",
    "    \"fl\": \"title, year, author, bibstem, citation, bibcode\"\n",
    "}\n",
    "\n",
    "encoded_query = urlencode(query)\n",
    "all_cited_articles = []\n",
    "not_refereed = []\n",
    "results = requests.get(f\"{BASE_URL}/query?{encoded_query}\", \n",
    "                    headers={'Authorization': 'Bearer ' + os.environ['NASA_ADS_TOKEN']})\n",
    "cited_bib_codes = results.json()['response']['docs'][0]['citation']\n",
    "all_cited_articles.append(results.json()['response']['docs'][0])\n",
    "for single_bib_code in cited_bib_codes:\n",
    "    start = 0\n",
    "    numFound = None\n",
    "    while numFound == None or start < numFound:\n",
    "        query = {\n",
    "            \"q\": f'bibcode:\"{single_bib_code}\"',\n",
    "            \"fl\": \"title, author, bibstem, year, property\",\n",
    "            \"sort\": \"year desc\",\n",
    "            \"start\": start\n",
    "        }\n",
    "        encoded_query_bib = urlencode(query)\n",
    "\n",
    "        bib_results = requests.get(f\"{BASE_URL}/query?{encoded_query_bib}\", \n",
    "                            headers={'Authorization': 'Bearer ' + os.environ['NASA_ADS_TOKEN']})\n",
    "        numFound = bib_results.json()['response']['numFound']\n",
    "        articles = bib_results.json()['response']['docs']\n",
    "        fetched_rows = len(articles)\n",
    "        start += fetched_rows\n",
    "        for entry in articles:\n",
    "            entry['bibcode'] = single_bib_code\n",
    "            not_refereed.append(entry)\n",
    "            if 'REFEREED' in entry['property']:\n",
    "                entry['bibcode'] = single_bib_code\n",
    "                all_cited_articles.append(entry)"
   ]
  },
  {
   "cell_type": "code",
   "execution_count": null,
   "metadata": {},
   "outputs": [],
   "source": [
    "all_cited_articles.sort(key=lambda x: x['year'], reverse=True)"
   ]
  },
  {
   "cell_type": "code",
   "execution_count": null,
   "metadata": {},
   "outputs": [],
   "source": [
    "def format_citation(entry):\n",
    "    authors = entry['author']\n",
    "    if len(authors) > 3:\n",
    "        author_str = ', '.join(authors[:3]) + ', et al.'\n",
    "    else:\n",
    "        author_str = ', '.join(authors)\n",
    "    citation = f\"**{author_str}** {entry['year']}, {entry['bibstem'][0]}, *\\\"{entry['title']}\\\"* `(ADS Link) <https://ui.adsabs.harvard.edu/abs/{entry['bibcode']}>`__\"\n",
    "    return citation"
   ]
  },
  {
   "cell_type": "code",
   "execution_count": null,
   "metadata": {},
   "outputs": [],
   "source": [
    "with open('resource_papers.rst', 'w') as rst_file:\n",
    "    rst_file.write('###################\\n')\n",
    "    rst_file.write('Papers Using TARDIS\\n')\n",
    "    rst_file.write('###################\\n\\n')\n",
    "    for article in all_cited_articles:\n",
    "        formatted_citation = format_citation(article)\n",
    "        rst_file.write(formatted_citation + '\\n\\n')"
   ]
  }
 ],
 "metadata": {
  "kernelspec": {
   "display_name": "tardis",
   "language": "python",
   "name": "python3"
  },
  "language_info": {
   "codemirror_mode": {
    "name": "ipython",
    "version": 3
   },
   "file_extension": ".py",
   "mimetype": "text/x-python",
   "name": "python",
   "nbconvert_exporter": "python",
   "pygments_lexer": "ipython3",
   "version": "3.12.4"
  }
 },
 "nbformat": 4,
 "nbformat_minor": 2
}
