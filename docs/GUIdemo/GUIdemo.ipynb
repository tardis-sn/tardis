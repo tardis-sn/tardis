{
 "cells": [
  {
   "cell_type": "code",
   "execution_count": 1,
   "id": "loaded-discount",
   "metadata": {},
   "outputs": [
    {
     "name": "stderr",
     "output_type": "stream",
     "text": [
      "/Users/yuyizheng/opt/anaconda3/envs/tardis/lib/python3.7/importlib/_bootstrap.py:219: QAWarning: pyne.data is not yet QA compliant.\n",
      "  return f(*args, **kwds)\n"
     ]
    }
   ],
   "source": [
    "import pandas as pd\n",
    "import numpy as np\n",
    "import ipywidgets as ipw\n",
    "import plotly.graph_objects as go\n",
    "\n",
    "import tardis\n",
    "from tardis.visualization import CustomAbundanceWidget\n",
    "from tardis.util.base import (\n",
    "    atomic_number2element_symbol,\n",
    "    species_tuple_to_string,\n",
    ")"
   ]
  },
  {
   "cell_type": "code",
   "execution_count": 2,
   "id": "db952059",
   "metadata": {},
   "outputs": [],
   "source": [
    "# sim = tardis.run_tardis('my_yml.yml')"
   ]
  },
  {
   "cell_type": "markdown",
   "id": "4c6800f5",
   "metadata": {},
   "source": [
    "### Load from Simulation object"
   ]
  },
  {
   "cell_type": "code",
   "execution_count": 3,
   "id": "8ecedb2e",
   "metadata": {
    "scrolled": true
   },
   "outputs": [],
   "source": [
    "# CustomAbundanceWidget.from_simulation(sim)"
   ]
  },
  {
   "cell_type": "markdown",
   "id": "8f27b660",
   "metadata": {},
   "source": [
    "### If config file contains 'csvy_model' module, 'from_yml()' fails"
   ]
  },
  {
   "cell_type": "code",
   "execution_count": 4,
   "id": "6ac81b93",
   "metadata": {
    "scrolled": true
   },
   "outputs": [],
   "source": [
    "# CustomAbundanceWidget.from_yml('my_yml.yml')"
   ]
  },
  {
   "cell_type": "markdown",
   "id": "7ec48f70",
   "metadata": {},
   "source": [
    "### Call 'from_csvy()' then"
   ]
  },
  {
   "cell_type": "code",
   "execution_count": 5,
   "id": "d773f27f",
   "metadata": {
    "scrolled": false
   },
   "outputs": [],
   "source": [
    "# my_cawidget = CustomAbundanceWidget.from_csvy('my_csvy.csvy')"
   ]
  },
  {
   "cell_type": "markdown",
   "id": "1d8d493c",
   "metadata": {},
   "source": [
    "### How abundance data is stored in this class"
   ]
  },
  {
   "cell_type": "code",
   "execution_count": 6,
   "id": "b7c772e5",
   "metadata": {},
   "outputs": [],
   "source": [
    "# my_cawidget.abundance"
   ]
  },
  {
   "cell_type": "markdown",
   "id": "5f99c538",
   "metadata": {},
   "source": [
    "### Load from YAML file"
   ]
  },
  {
   "cell_type": "code",
   "execution_count": 7,
   "id": "b6a012d9",
   "metadata": {},
   "outputs": [],
   "source": [
    "cawidget = CustomAbundanceWidget.from_yml('tardis_example.yml')"
   ]
  },
  {
   "cell_type": "code",
   "execution_count": 8,
   "id": "86b4cfd5",
   "metadata": {},
   "outputs": [
    {
     "data": {
      "text/html": [
       "<div>\n",
       "<style scoped>\n",
       "    .dataframe tbody tr th:only-of-type {\n",
       "        vertical-align: middle;\n",
       "    }\n",
       "\n",
       "    .dataframe tbody tr th {\n",
       "        vertical-align: top;\n",
       "    }\n",
       "\n",
       "    .dataframe thead th {\n",
       "        text-align: right;\n",
       "    }\n",
       "</style>\n",
       "<table border=\"1\" class=\"dataframe\">\n",
       "  <thead>\n",
       "    <tr style=\"text-align: right;\">\n",
       "      <th></th>\n",
       "      <th></th>\n",
       "      <th>0</th>\n",
       "      <th>1</th>\n",
       "      <th>2</th>\n",
       "      <th>3</th>\n",
       "      <th>4</th>\n",
       "      <th>5</th>\n",
       "      <th>6</th>\n",
       "      <th>7</th>\n",
       "      <th>8</th>\n",
       "      <th>9</th>\n",
       "      <th>10</th>\n",
       "      <th>11</th>\n",
       "      <th>12</th>\n",
       "      <th>13</th>\n",
       "      <th>14</th>\n",
       "      <th>15</th>\n",
       "      <th>16</th>\n",
       "      <th>17</th>\n",
       "      <th>18</th>\n",
       "      <th>19</th>\n",
       "    </tr>\n",
       "    <tr>\n",
       "      <th>atomic_number</th>\n",
       "      <th>mass_number</th>\n",
       "      <th></th>\n",
       "      <th></th>\n",
       "      <th></th>\n",
       "      <th></th>\n",
       "      <th></th>\n",
       "      <th></th>\n",
       "      <th></th>\n",
       "      <th></th>\n",
       "      <th></th>\n",
       "      <th></th>\n",
       "      <th></th>\n",
       "      <th></th>\n",
       "      <th></th>\n",
       "      <th></th>\n",
       "      <th></th>\n",
       "      <th></th>\n",
       "      <th></th>\n",
       "      <th></th>\n",
       "      <th></th>\n",
       "      <th></th>\n",
       "    </tr>\n",
       "  </thead>\n",
       "  <tbody>\n",
       "    <tr>\n",
       "      <th>8</th>\n",
       "      <th></th>\n",
       "      <td>0.19</td>\n",
       "      <td>0.19</td>\n",
       "      <td>0.19</td>\n",
       "      <td>0.19</td>\n",
       "      <td>0.19</td>\n",
       "      <td>0.19</td>\n",
       "      <td>0.19</td>\n",
       "      <td>0.19</td>\n",
       "      <td>0.19</td>\n",
       "      <td>0.19</td>\n",
       "      <td>0.19</td>\n",
       "      <td>0.19</td>\n",
       "      <td>0.19</td>\n",
       "      <td>0.19</td>\n",
       "      <td>0.19</td>\n",
       "      <td>0.19</td>\n",
       "      <td>0.19</td>\n",
       "      <td>0.19</td>\n",
       "      <td>0.19</td>\n",
       "      <td>0.19</td>\n",
       "    </tr>\n",
       "    <tr>\n",
       "      <th>12</th>\n",
       "      <th></th>\n",
       "      <td>0.03</td>\n",
       "      <td>0.03</td>\n",
       "      <td>0.03</td>\n",
       "      <td>0.03</td>\n",
       "      <td>0.03</td>\n",
       "      <td>0.03</td>\n",
       "      <td>0.03</td>\n",
       "      <td>0.03</td>\n",
       "      <td>0.03</td>\n",
       "      <td>0.03</td>\n",
       "      <td>0.03</td>\n",
       "      <td>0.03</td>\n",
       "      <td>0.03</td>\n",
       "      <td>0.03</td>\n",
       "      <td>0.03</td>\n",
       "      <td>0.03</td>\n",
       "      <td>0.03</td>\n",
       "      <td>0.03</td>\n",
       "      <td>0.03</td>\n",
       "      <td>0.03</td>\n",
       "    </tr>\n",
       "    <tr>\n",
       "      <th>14</th>\n",
       "      <th></th>\n",
       "      <td>0.52</td>\n",
       "      <td>0.52</td>\n",
       "      <td>0.52</td>\n",
       "      <td>0.52</td>\n",
       "      <td>0.52</td>\n",
       "      <td>0.52</td>\n",
       "      <td>0.52</td>\n",
       "      <td>0.52</td>\n",
       "      <td>0.52</td>\n",
       "      <td>0.52</td>\n",
       "      <td>0.52</td>\n",
       "      <td>0.52</td>\n",
       "      <td>0.52</td>\n",
       "      <td>0.52</td>\n",
       "      <td>0.52</td>\n",
       "      <td>0.52</td>\n",
       "      <td>0.52</td>\n",
       "      <td>0.52</td>\n",
       "      <td>0.52</td>\n",
       "      <td>0.52</td>\n",
       "    </tr>\n",
       "    <tr>\n",
       "      <th>16</th>\n",
       "      <th></th>\n",
       "      <td>0.19</td>\n",
       "      <td>0.19</td>\n",
       "      <td>0.19</td>\n",
       "      <td>0.19</td>\n",
       "      <td>0.19</td>\n",
       "      <td>0.19</td>\n",
       "      <td>0.19</td>\n",
       "      <td>0.19</td>\n",
       "      <td>0.19</td>\n",
       "      <td>0.19</td>\n",
       "      <td>0.19</td>\n",
       "      <td>0.19</td>\n",
       "      <td>0.19</td>\n",
       "      <td>0.19</td>\n",
       "      <td>0.19</td>\n",
       "      <td>0.19</td>\n",
       "      <td>0.19</td>\n",
       "      <td>0.19</td>\n",
       "      <td>0.19</td>\n",
       "      <td>0.19</td>\n",
       "    </tr>\n",
       "    <tr>\n",
       "      <th>18</th>\n",
       "      <th></th>\n",
       "      <td>0.04</td>\n",
       "      <td>0.04</td>\n",
       "      <td>0.04</td>\n",
       "      <td>0.04</td>\n",
       "      <td>0.04</td>\n",
       "      <td>0.04</td>\n",
       "      <td>0.04</td>\n",
       "      <td>0.04</td>\n",
       "      <td>0.04</td>\n",
       "      <td>0.04</td>\n",
       "      <td>0.04</td>\n",
       "      <td>0.04</td>\n",
       "      <td>0.04</td>\n",
       "      <td>0.04</td>\n",
       "      <td>0.04</td>\n",
       "      <td>0.04</td>\n",
       "      <td>0.04</td>\n",
       "      <td>0.04</td>\n",
       "      <td>0.04</td>\n",
       "      <td>0.04</td>\n",
       "    </tr>\n",
       "    <tr>\n",
       "      <th>20</th>\n",
       "      <th></th>\n",
       "      <td>0.03</td>\n",
       "      <td>0.03</td>\n",
       "      <td>0.03</td>\n",
       "      <td>0.03</td>\n",
       "      <td>0.03</td>\n",
       "      <td>0.03</td>\n",
       "      <td>0.03</td>\n",
       "      <td>0.03</td>\n",
       "      <td>0.03</td>\n",
       "      <td>0.03</td>\n",
       "      <td>0.03</td>\n",
       "      <td>0.03</td>\n",
       "      <td>0.03</td>\n",
       "      <td>0.03</td>\n",
       "      <td>0.03</td>\n",
       "      <td>0.03</td>\n",
       "      <td>0.03</td>\n",
       "      <td>0.03</td>\n",
       "      <td>0.03</td>\n",
       "      <td>0.03</td>\n",
       "    </tr>\n",
       "  </tbody>\n",
       "</table>\n",
       "</div>"
      ],
      "text/plain": [
       "                             0     1     2     3     4     5     6     7   \\\n",
       "atomic_number mass_number                                                   \n",
       "8                          0.19  0.19  0.19  0.19  0.19  0.19  0.19  0.19   \n",
       "12                         0.03  0.03  0.03  0.03  0.03  0.03  0.03  0.03   \n",
       "14                         0.52  0.52  0.52  0.52  0.52  0.52  0.52  0.52   \n",
       "16                         0.19  0.19  0.19  0.19  0.19  0.19  0.19  0.19   \n",
       "18                         0.04  0.04  0.04  0.04  0.04  0.04  0.04  0.04   \n",
       "20                         0.03  0.03  0.03  0.03  0.03  0.03  0.03  0.03   \n",
       "\n",
       "                             8     9     10    11    12    13    14    15  \\\n",
       "atomic_number mass_number                                                   \n",
       "8                          0.19  0.19  0.19  0.19  0.19  0.19  0.19  0.19   \n",
       "12                         0.03  0.03  0.03  0.03  0.03  0.03  0.03  0.03   \n",
       "14                         0.52  0.52  0.52  0.52  0.52  0.52  0.52  0.52   \n",
       "16                         0.19  0.19  0.19  0.19  0.19  0.19  0.19  0.19   \n",
       "18                         0.04  0.04  0.04  0.04  0.04  0.04  0.04  0.04   \n",
       "20                         0.03  0.03  0.03  0.03  0.03  0.03  0.03  0.03   \n",
       "\n",
       "                             16    17    18    19  \n",
       "atomic_number mass_number                          \n",
       "8                          0.19  0.19  0.19  0.19  \n",
       "12                         0.03  0.03  0.03  0.03  \n",
       "14                         0.52  0.52  0.52  0.52  \n",
       "16                         0.19  0.19  0.19  0.19  \n",
       "18                         0.04  0.04  0.04  0.04  \n",
       "20                         0.03  0.03  0.03  0.03  "
      ]
     },
     "execution_count": 8,
     "metadata": {},
     "output_type": "execute_result"
    }
   ],
   "source": [
    "cawidget.abundance"
   ]
  },
  {
   "cell_type": "markdown",
   "id": "3f3ebe50",
   "metadata": {},
   "source": [
    "### Codes to generate GUI"
   ]
  },
  {
   "cell_type": "code",
   "execution_count": 9,
   "id": "painted-disclaimer",
   "metadata": {
    "scrolled": true
   },
   "outputs": [],
   "source": [
    "abundance = cawidget.abundance.copy()\n",
    "velocity = cawidget.velocity.copy()\n",
    "no_of_elements = abundance.shape[0]\n",
    "no_of_shells = abundance.shape[1]\n",
    "\n",
    "def get_symbols(abundance):\n",
    "    str_symbols = np.array(abundance.index.get_level_values(0).map(atomic_number2element_symbol))\n",
    "    str_mass = np.array(abundance.index.get_level_values(1), dtype='str')\n",
    "    return(np.add(str_symbols, str_mass))\n",
    "\n",
    "elements = get_symbols(abundance)"
   ]
  },
  {
   "cell_type": "code",
   "execution_count": 10,
   "id": "97be63d1",
   "metadata": {},
   "outputs": [],
   "source": [
    "from IPython.display import display\n",
    "\n",
    "fig = go.FigureWidget()\n",
    "\n",
    "l = list(range(1, no_of_shells+1))\n",
    "dropdown = ipw.Dropdown(options=l, \n",
    "                        description='Shell No. ', \n",
    "                        layout=ipw.Layout(width='160px')\n",
    "                       )\n",
    "\n",
    "# shell_no = dropdown.value\n",
    "\n",
    "btn_previous = ipw.Button(icon=\"chevron-left\", \n",
    "                          disabled=True, \n",
    "                          layout=ipw.Layout(width='30px', height='30px')\n",
    "                         )\n",
    "btn_next = ipw.Button(icon=\"chevron-right\", \n",
    "                      layout=ipw.Layout(width='30px', height='30px')\n",
    "                     )\n",
    "\n",
    "head = ipw.HBox([dropdown, btn_previous, btn_next])\n",
    "\n",
    "locks = [ipw.Checkbox(indent=False, \n",
    "                      layout=ipw.Layout(width='50px')\n",
    "                     ) for element in elements]\n",
    "\n",
    "items = [ipw.BoundedFloatText(min=0, \n",
    "                              max=1, \n",
    "                              step=0.01, \n",
    "                              description=element) \n",
    "         for element in elements]\n",
    "\n",
    "btn_normalize = ipw.Button(description='Normalize',\n",
    "                           icon='cog', \n",
    "                           layout=ipw.Layout(margin='0 0 0 100px')\n",
    "                          )\n",
    "abundance_edit_container = ipw.HBox([ipw.VBox(items), ipw.VBox(locks)])\n",
    "# abundance_edit_container = ipw.HBox([ipw.VBox(items), ipw.VBox(locks, layout=ipw.Layout(width='20%'))], layout=ipw.Layout(width='50%'))"
   ]
  },
  {
   "cell_type": "code",
   "execution_count": 11,
   "id": "8d4edc9a",
   "metadata": {},
   "outputs": [],
   "source": [
    "# generate abundance vs velocity plot using Plotly\n",
    "plot_output = ipw.Output()\n",
    "def generate_abundance_plot():\n",
    "    plot_output.clear_output()\n",
    "    with plot_output:\n",
    "        title = \"Abundance vs Velocity\"\n",
    "        data = abundance.T\n",
    "\n",
    "        for i in range(no_of_elements):\n",
    "            fig.add_trace(\n",
    "                go.Scatter(\n",
    "                    x=velocity[1:] / 10e5, # convert to km/s\n",
    "                    y=data.iloc[:,i],\n",
    "                    mode=\"lines+markers\",\n",
    "                    name=elements[i],\n",
    "                )\n",
    "            )\n",
    "\n",
    "        fig.update_layout(\n",
    "            xaxis=dict(\n",
    "                title=\"Velocity of outer boundary (km/s)\",\n",
    "                exponentformat=\"e\",\n",
    "            ),\n",
    "            yaxis=dict(title=\"Fractional Abundance\", \n",
    "                       exponentformat=\"e\"),\n",
    "            yaxis_range = [0, 1],\n",
    "            height=500,\n",
    "            title=title,\n",
    "        )\n",
    "\n",
    "        display(fig)"
   ]
  },
  {
   "cell_type": "code",
   "execution_count": 12,
   "id": "799c6f36",
   "metadata": {},
   "outputs": [],
   "source": [
    "locked_list = np.array([False] * no_of_elements)\n",
    "\n",
    "def lock_checkbox_handler(obj):\n",
    "    abundance_index = obj.owner.name\n",
    "    shell_no = dropdown.value\n",
    "    \n",
    "    if obj.new == True:\n",
    "        locked_list[abundance_index] = True\n",
    "        \n",
    "        # Ensure the sum of locked elements less than 1\n",
    "        locked_sum = abundance.loc[locked_list, shell_no-1].sum()\n",
    "        if locked_sum > 1:\n",
    "            items[abundance_index].value = 1 - (abundance.loc[locked_list, shell_no-1].sum() - items[abundance_index].value)\n",
    "    \n",
    "    else:\n",
    "        locked_list[abundance_index] = False"
   ]
  },
  {
   "cell_type": "code",
   "execution_count": 13,
   "id": "bd01d405",
   "metadata": {},
   "outputs": [],
   "source": [
    "def update_abundance(obj):\n",
    "    shell_no = dropdown.value\n",
    "    element_no = obj.owner.name # start from 0\n",
    "\n",
    "    # Ensure the sum of locked elements less than 1\n",
    "    if locked_list[element_no] == True: # if the element is locked\n",
    "        locked_sum = abundance.loc[locked_list, shell_no-1].sum() - obj.old + obj.new\n",
    "        if locked_sum > 1:\n",
    "            obj.new = 1 - (abundance.loc[locked_list, shell_no-1].sum() - obj.old)\n",
    "            obj.owner.value = obj.new\n",
    "    \n",
    "    abundance.iloc[element_no, shell_no-1] = obj.new\n",
    "    \n",
    "    # Update plot\n",
    "    fig.data[element_no].y = abundance.iloc[element_no]\n",
    "    \n",
    "def read_abundance(shell_no):\n",
    "    for i, item in enumerate(items):\n",
    "        item.value = abundance.iloc[i,shell_no-1]\n",
    "\n",
    "# def display_abundance_df():\n",
    "#     abundance_view = abundance.copy()\n",
    "#     abundance_view.index = elements\n",
    "#     abundance_view.columns=range(1, no_of_shells+1)\n",
    "#     abundance_view.columns.name = 'Shell No.'\n",
    "#     display(abundance_view)"
   ]
  },
  {
   "cell_type": "code",
   "execution_count": 14,
   "id": "bce62e25",
   "metadata": {},
   "outputs": [],
   "source": [
    "# out = ipw.Output()\n",
    "\n",
    "# Change the shell\n",
    "def dropdown_eventhandler(obj):   \n",
    "    locked_list = np.array([False] * no_of_elements)\n",
    "    for lock in locks:\n",
    "        lock.value = False \n",
    "    shell_no_new = obj.new\n",
    "    read_abundance(shell_no_new)\n",
    "    \n",
    "    # Control 'previous' and 'next' buttons.\n",
    "    if obj.new == 1:\n",
    "        btn_previous.disabled = True\n",
    "    else:\n",
    "        btn_previous.disabled = False\n",
    "    \n",
    "    if obj.new == no_of_shells:\n",
    "        btn_next.disabled = True\n",
    "    else:\n",
    "        btn_next.disabled = False\n",
    "\n",
    "dropdown.observe(dropdown_eventhandler, names='value')\n",
    "\n",
    "for i, item in enumerate(items):\n",
    "    item.observe(update_abundance, names='value')\n",
    "    item.name = i\n",
    "    locks[i].observe(lock_checkbox_handler, names='value')\n",
    "    locks[i].name = i"
   ]
  },
  {
   "cell_type": "code",
   "execution_count": 15,
   "id": "1e386382",
   "metadata": {},
   "outputs": [],
   "source": [
    "def to_previous_shell(obj):\n",
    "    dropdown.value -= 1\n",
    "    \n",
    "def to_next_shell(obj):\n",
    "    dropdown.value += 1\n",
    "\n",
    "def normalize(obj):\n",
    "    shell_no = dropdown.value\n",
    "    locked_sum = abundance.loc[locked_list, shell_no-1].sum()\n",
    "    \n",
    "    # if abundances are all zero\n",
    "    if abundance.loc[~locked_list, shell_no-1].sum() == 0:\n",
    "        return\n",
    "    \n",
    "    abundance.loc[~locked_list, shell_no-1] = (1 - locked_sum) * abundance.loc[~locked_list, shell_no-1] / abundance.loc[~locked_list, shell_no-1].sum()\n",
    "    #abundance.iloc[:, shell_no-1] = abundance.iloc[:, shell_no-1] / abundance.iloc[:, shell_no-1].sum()\n",
    "    \n",
    "    read_abundance(shell_no)\n",
    "    \n",
    "\n",
    "btn_normalize.on_click(normalize)\n",
    "btn_previous.on_click(to_previous_shell)\n",
    "btn_next.on_click(to_next_shell)"
   ]
  },
  {
   "cell_type": "code",
   "execution_count": 16,
   "id": "a24747bb",
   "metadata": {},
   "outputs": [],
   "source": [
    "# def reset_widgets():\n",
    "#     pass"
   ]
  },
  {
   "cell_type": "code",
   "execution_count": 17,
   "id": "12d3d092",
   "metadata": {},
   "outputs": [],
   "source": [
    "help_note = ipw.HTML(value=\"<p style=\\\"text-indent: 40px\\\"><b>Help:</b> Click the checkbox to lock the abundance\\n\\n you don't want to normalize.</p>\",\n",
    "                        indent=True\n",
    "                        )"
   ]
  },
  {
   "cell_type": "markdown",
   "id": "3f9e7d11",
   "metadata": {},
   "source": [
    "### Additional Feature 1: Add new elements"
   ]
  },
  {
   "cell_type": "code",
   "execution_count": 18,
   "id": "bcd44629",
   "metadata": {},
   "outputs": [],
   "source": [
    "import asyncio\n",
    "\n",
    "class Timer:\n",
    "    \"\"\"\n",
    "    Cited from https://ipywidgets.readthedocs.io/en/latest/examples/Widget%20Events.html\n",
    "    \"\"\"\n",
    "    def __init__(self, timeout, callback):\n",
    "        self._timeout = timeout\n",
    "        self._callback = callback\n",
    "\n",
    "    async def _job(self):\n",
    "        await asyncio.sleep(self._timeout)\n",
    "        self._callback()\n",
    "\n",
    "    def start(self):\n",
    "        self._task = asyncio.ensure_future(self._job())\n",
    "\n",
    "    def cancel(self):\n",
    "        self._task.cancel()\n",
    "\n",
    "def debounce(wait):\n",
    "    \"\"\" \n",
    "    Decorator that will postpone a function's\n",
    "    execution until after `wait` seconds\n",
    "    have elapsed since the last time it was invoked. \n",
    "    Cired from https://ipywidgets.readthedocs.io/en/latest/examples/Widget%20Events.html\n",
    "    \"\"\"\n",
    "    def decorator(fn):\n",
    "        timer = None\n",
    "        def debounced(*args, **kwargs):\n",
    "            nonlocal timer\n",
    "            def call_it():\n",
    "                fn(*args, **kwargs)\n",
    "            if timer is not None:\n",
    "                timer.cancel()\n",
    "            timer = Timer(wait, call_it)\n",
    "            timer.start()\n",
    "        return debounced\n",
    "    return decorator"
   ]
  },
  {
   "cell_type": "code",
   "execution_count": 19,
   "id": "79dc3b6b",
   "metadata": {},
   "outputs": [],
   "source": [
    "from pyne import nucname"
   ]
  },
  {
   "cell_type": "code",
   "execution_count": 20,
   "id": "52de947b",
   "metadata": {},
   "outputs": [],
   "source": [
    "invalid = ipw.Valid(value=False,\n",
    "                    description='',\n",
    "                    style={'description_width': 'initial'},\n",
    "                    layout=ipw.Layout(visibility='hidden',\n",
    "                                      width='250px')\n",
    "                    )\n",
    "symbol_text = ipw.Text(description='Element: ',\n",
    "                       placeholder='symbol',\n",
    "                       layout=ipw.Layout(width='200px')\n",
    "                      )\n",
    "symbol_box = ipw.HBox([symbol_text, invalid])\n",
    "\n",
    "mass_text = ipw.BoundedFloatText(\n",
    "                                value=0,\n",
    "                                min=0,\n",
    "                                max=1.0,\n",
    "                                step=0.1,\n",
    "                                description='Abundance: ',\n",
    "                                layout=ipw.Layout(width='200px')\n",
    "                            )\n",
    "\n",
    "btn_add_element = ipw.Button(icon='plus-square', \n",
    "                             description=' New Element',\n",
    "                             disabled=True,\n",
    "                             layout=ipw.Layout(margin='0 0 0 50px')\n",
    "                            )"
   ]
  },
  {
   "cell_type": "code",
   "execution_count": 21,
   "id": "ee3c6dc0",
   "metadata": {},
   "outputs": [],
   "source": [
    "@debounce(0.5)\n",
    "def symbol_validation(obj):\n",
    "    element_symbol_string = obj.new.capitalize()\n",
    "    \n",
    "    if element_symbol_string in elements:        \n",
    "        invalid.description = 'Already exists!'\n",
    "        invalid.layout.visibility = 'visible'\n",
    "        btn_add_element.disabled = True\n",
    "        return\n",
    "    \n",
    "    try:\n",
    "        if nucname.iselement(element_symbol_string) or nucname.isnuclide(element_symbol_string):\n",
    "            invalid.layout.visibility = 'hidden'\n",
    "            btn_add_element.disabled = False\n",
    "        elif element_symbol_string == \"\":\n",
    "            invalid.layout.visibility = 'hidden' \n",
    "            btn_add_element.disabled = True\n",
    "   \n",
    "        else:\n",
    "            invalid.description = ''\n",
    "            invalid.layout.visibility = 'visible'\n",
    "            btn_add_element.disabled = True\n",
    "\n",
    "    except RuntimeError:\n",
    "        invalid.description = ''\n",
    "        invalid.layout.visibility = 'visible'\n",
    "        btn_add_element.disabled = True\n",
    "    \n",
    "symbol_text.observe(symbol_validation, names='value')"
   ]
  },
  {
   "cell_type": "code",
   "execution_count": 22,
   "id": "d93adba0",
   "metadata": {},
   "outputs": [],
   "source": [
    "def add_element(obj):\n",
    "    global no_of_elements, no_of_shells, locked_list, elements, abundance_edit_container, main_box\n",
    "    \n",
    "    element_symbol_string = symbol_text.value.capitalize()\n",
    "    fractional_abundance = mass_text.value\n",
    "    \n",
    "    if element_symbol_string in nucname.name_zz:\n",
    "        z = nucname.name_zz[element_symbol_string]\n",
    "        abundance.loc[(z, ''), :] = fractional_abundance\n",
    "    else:\n",
    "        mass_no = nucname.anum(element_symbol_string)\n",
    "        z = nucname.znum(element_symbol_string)\n",
    "        abundance.loc[(z, mass_no), :] = fractional_abundance\n",
    "    \n",
    "    abundance.sort_index(inplace=True)\n",
    "    no_of_elements += 1\n",
    "    no_of_shells += 1\n",
    "    \n",
    "    # Add new BoundedFloatText control and Checkbox control.\n",
    "    new_item = ipw.BoundedFloatText(min=0, max=1, step=0.01)\n",
    "    new_lock = ipw.Checkbox(indent=False, layout=ipw.Layout(width='50px'))\n",
    "    new_item.name = no_of_elements - 1\n",
    "    new_lock.name = no_of_elements - 1\n",
    "    items.append(new_item)\n",
    "    locks.append(new_lock)\n",
    "    \n",
    "    locked_list = np.append(locked_list, False)\n",
    "    \n",
    "    # Keep the order of description same with atomic number\n",
    "    elements = get_symbols(abundance)\n",
    "    for i in range(no_of_elements):\n",
    "        items[i].description = elements[i]\n",
    "\n",
    "    abundance_edit_container.children = [ipw.VBox(items), ipw.VBox(locks)]\n",
    "    \n",
    "    # Add new trace to plot.\n",
    "    fig.add_scatter(x=velocity[1:] / 10e5, # convert to km/s\n",
    "                    y=[fractional_abundance]*no_of_shells,\n",
    "                    mode=\"lines+markers\",\n",
    "                    name=element_symbol_string,\n",
    "                   )\n",
    "    \n",
    "    read_abundance(dropdown.value)\n",
    "        \n",
    "    new_item.observe(update_abundance, names='value')\n",
    "    new_lock.observe(lock_checkbox_handler, names='value')\n",
    "    \n",
    "    # Recover the text boxes.\n",
    "    symbol_text.value = ''\n",
    "    mass_text.value = 0\n",
    "    \n",
    "btn_add_element.on_click(add_element)"
   ]
  },
  {
   "cell_type": "code",
   "execution_count": 23,
   "id": "3122c44d",
   "metadata": {},
   "outputs": [],
   "source": [
    "add_element_box = ipw.VBox([symbol_box, mass_text, btn_add_element], layout=ipw.Layout(margin='0 0 0 100px'))\n",
    "main_box = ipw.HBox([abundance_edit_container, add_element_box])\n",
    "# main_output = ipw.Output()\n",
    "# with main_output:\n",
    "#     display(main_box)"
   ]
  },
  {
   "cell_type": "code",
   "execution_count": 24,
   "id": "a0fc9043",
   "metadata": {
    "scrolled": false
   },
   "outputs": [
    {
     "data": {
      "application/vnd.jupyter.widget-view+json": {
       "model_id": "76b95b22406849d884fe07a4bb23e549",
       "version_major": 2,
       "version_minor": 0
      },
      "text/plain": [
       "Output()"
      ]
     },
     "metadata": {},
     "output_type": "display_data"
    },
    {
     "data": {
      "application/vnd.jupyter.widget-view+json": {
       "model_id": "0666312cc0354281a438388c11221e31",
       "version_major": 2,
       "version_minor": 0
      },
      "text/plain": [
       "HBox(children=(Dropdown(description='Shell No. ', layout=Layout(width='160px'), options=(1, 2, 3, 4, 5, 6, 7, …"
      ]
     },
     "metadata": {},
     "output_type": "display_data"
    },
    {
     "data": {
      "application/vnd.jupyter.widget-view+json": {
       "model_id": "61683321040d4a0f9f101e968b0faec8",
       "version_major": 2,
       "version_minor": 0
      },
      "text/plain": [
       "HTML(value='<p style=\"text-indent: 40px\"><b>Help:</b> Click the checkbox to lock the abundance\\n\\n you don\\'t …"
      ]
     },
     "metadata": {},
     "output_type": "display_data"
    },
    {
     "data": {
      "application/vnd.jupyter.widget-view+json": {
       "model_id": "9d9fa1caca704ce7ab2c58c395ac7dd0",
       "version_major": 2,
       "version_minor": 0
      },
      "text/plain": [
       "HBox(children=(HBox(children=(VBox(children=(BoundedFloatText(value=0.19, description='O', max=1.0, step=0.01)…"
      ]
     },
     "metadata": {},
     "output_type": "display_data"
    },
    {
     "data": {
      "application/vnd.jupyter.widget-view+json": {
       "model_id": "c70bd426d2e04c2aa4d525afa8ab3d55",
       "version_major": 2,
       "version_minor": 0
      },
      "text/plain": [
       "Button(description='Normalize', icon='cog', layout=Layout(margin='0 0 0 100px'), style=ButtonStyle())"
      ]
     },
     "metadata": {},
     "output_type": "display_data"
    }
   ],
   "source": [
    "# Display the widget.\n",
    "generate_abundance_plot()\n",
    "display(plot_output)\n",
    "display(head, help_note)\n",
    "read_abundance(shell_no=1)\n",
    "display(main_box, btn_normalize)"
   ]
  },
  {
   "cell_type": "code",
   "execution_count": null,
   "id": "d1cfba11",
   "metadata": {},
   "outputs": [],
   "source": []
  }
 ],
 "metadata": {
  "kernelspec": {
   "display_name": "Python 3",
   "language": "python",
   "name": "python3"
  },
  "language_info": {
   "codemirror_mode": {
    "name": "ipython",
    "version": 3
   },
   "file_extension": ".py",
   "mimetype": "text/x-python",
   "name": "python",
   "nbconvert_exporter": "python",
   "pygments_lexer": "ipython3",
   "version": "3.7.10"
  }
 },
 "nbformat": 4,
 "nbformat_minor": 5
}
