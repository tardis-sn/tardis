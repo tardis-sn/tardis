{
 "cells": [
  {
   "cell_type": "markdown",
   "metadata": {},
   "source": [
    "### Quickstart for TARDIS ###"
   ]
  },
  {
   "cell_type": "markdown",
   "metadata": {},
   "source": [
    "Every simulation run requires the atomic database (for more info refer to [atomic data](io/configuration/components/atomic/atomic_data.rst)) and a configuration file (more info at [configuration](io/configuration/index.rst)).\n",
    "You can obtain a copy of the atomic database from the\n",
    "(https://github.com/tardis-sn/tardis-refdata) repository\n",
    "(`atom_data` subfolder). We recommended to use the\n",
    "`kurucz_cd23_chianti_H_He.h5` dataset (which is auto-downloaded in the second cell already). The configuration file for this quickstart is `tardis_example.yml`, which can be downloaded [here](https://raw.githubusercontent.com/tardis-sn/tardis/master/docs/tardis_example.yml)), though this file is auto-downloaded in the third cell.\n",
    "\n",
    "After the [installation](installation.rst), start a Jupyter server executing `jupyter notebook` on the command line in a directory that contains this quickstart."
   ]
  },
  {
   "cell_type": "code",
   "execution_count": 1,
   "metadata": {},
   "outputs": [
    {
     "name": "stderr",
     "output_type": "stream",
     "text": [
      "/home/jobrien/.conda/envs/tardis/lib/python3.7/importlib/_bootstrap.py:219: QAWarning: pyne.data is not yet QA compliant.\n",
      "  return f(*args, **kwds)\n"
     ]
    },
    {
     "data": {
      "application/vnd.jupyter.widget-view+json": {
       "model_id": "",
       "version_major": 2,
       "version_minor": 0
      },
      "text/plain": [
       "Iterations:          0/? [00:00<?, ?it/s]"
      ]
     },
     "metadata": {},
     "output_type": "display_data"
    },
    {
     "data": {
      "application/vnd.jupyter.widget-view+json": {
       "model_id": "",
       "version_major": 2,
       "version_minor": 0
      },
      "text/plain": [
       "Packets:             0/? [00:00<?, ?it/s]"
      ]
     },
     "metadata": {},
     "output_type": "display_data"
    }
   ],
   "source": [
    "\n",
    "import os\n",
    "\n",
    "import llvmlite.binding as llvm\n",
    "llvm.set_option('', '--debug-only=loop-vectorize')\n",
    "os.environ['NUMBA_WARNINGS'] = '1'\n",
    "os.environ['NUMBA_BOUNDSCHECK'] = '1'\n",
    "os.environ['NUMBA_DEVELOPER_MODE'] = '1'\n",
    "os.environ['NUMBA_FULL_TRACEBACKS'] = '1'\n",
    "os.environ['NUMBA_ENABLE_PROFILING'] = '1'\n",
    "#os.environ['NUMBA_DEBUG'] = '1'\n",
    "\n",
    "from tardis import run_tardis\n",
    "from tardis.io.atom_data.util import download_atom_data\n",
    "#\n",
    "\n"
   ]
  },
  {
   "cell_type": "code",
   "execution_count": 2,
   "metadata": {},
   "outputs": [],
   "source": [
    "import numba, numpy as np\n",
    "arr1 = np.array([1,2,3,4,5,6.0])\n",
    "arr2 = np.array([1,2,3,4,5,6.0])+0.5\n",
    "@numba.njit(error_model=\"numpy\", fastmath=True)\n",
    "def test(x):\n",
    "    current = np.where(np.logical_and(x >= arr1, x <= arr2))[0]\n",
    "    return current\n",
    "\n",
    "@numba.njit(fastmath=True, parallel=True, error_model=\"numpy\")\n",
    "def test2(x1, x2):\n",
    "    for i in numba.prange(16):\n",
    "        n = (x2-x1)/16.0*i+1.0\n",
    "        test(n)"
   ]
  },
  {
   "cell_type": "code",
   "execution_count": 3,
   "metadata": {},
   "outputs": [
    {
     "data": {
      "text/plain": [
       "array([], dtype=int64)"
      ]
     },
     "execution_count": 3,
     "metadata": {},
     "output_type": "execute_result"
    }
   ],
   "source": [
    "test(5.0)\n",
    "test(7.0)"
   ]
  },
  {
   "cell_type": "code",
   "execution_count": 4,
   "metadata": {},
   "outputs": [
    {
     "data": {
      "text/plain": [
       "array([3])"
      ]
     },
     "execution_count": 4,
     "metadata": {},
     "output_type": "execute_result"
    }
   ],
   "source": [
    "test(4.0)"
   ]
  },
  {
   "cell_type": "code",
   "execution_count": null,
   "metadata": {},
   "outputs": [],
   "source": [
    "import numba, random, numpy as np\n",
    "numba.__version__"
   ]
  },
  {
   "cell_type": "markdown",
   "metadata": {},
   "source": [
    "#### Downloading the atomic data ####"
   ]
  },
  {
   "cell_type": "markdown",
   "metadata": {},
   "source": [
    "# The data are automatically downloaded\n",
    "download_atom_data('kurucz_cd23_chianti_H_He')"
   ]
  },
  {
   "cell_type": "markdown",
   "metadata": {},
   "source": [
    "#### Downloading the example file ####"
   ]
  },
  {
   "cell_type": "markdown",
   "metadata": {},
   "source": [
    "!curl -O https://raw.githubusercontent.com/tardis-sn/tardis/master/docs/tardis_example.yml"
   ]
  },
  {
   "cell_type": "markdown",
   "metadata": {},
   "source": [
    "#### Running the simulation (long output) ####"
   ]
  },
  {
   "cell_type": "markdown",
   "metadata": {},
   "source": [
    "<div class=\"alert alert-info\">\n",
    "\n",
    "Note\n",
    "    \n",
    "The progress of the simulation can be tracked using progress bars which are displayed when the notebook is run, but are not displayed in the documentation. \n",
    "    \n",
    "</div>"
   ]
  },
  {
   "cell_type": "code",
   "execution_count": 5,
   "metadata": {
    "scrolled": false
   },
   "outputs": [
    {
     "name": "stdout",
     "output_type": "stream",
     "text": [
      "[\u001b[1mtardis.plasma.standard_plasmas\u001b[0m][\u001b[1;37mINFO\u001b[0m   ]  \n",
      "\t\n",
      "\tReading Atomic Data from kurucz_cd23_chianti_H_He.h5 (\u001b[1mstandard_plasmas.py\u001b[0m:92)\n",
      "[\u001b[1mtardis.io.atom_data.util\u001b[0m][\u001b[1;37mINFO\u001b[0m   ]  \n",
      "\t\n",
      "\tAtom Data kurucz_cd23_chianti_H_He.h5 not found in local path.\n",
      "\tExists in TARDIS Data repo /home/jobrien/Downloads/tardis-data/kurucz_cd23_chianti_H_He.h5 (\u001b[1mutil.py\u001b[0m:34)\n",
      "[\u001b[1mtardis.io.atom_data.base\u001b[0m][\u001b[1;37mINFO\u001b[0m   ]  \n",
      "\tReading Atom Data with: UUID = 6f7b09e887a311e7a06b246e96350010 MD5  = 864f1753714343c41f99cb065710cace  (\u001b[1mbase.py\u001b[0m:204)\n",
      "[\u001b[1mtardis.io.atom_data.base\u001b[0m][\u001b[1;37mINFO\u001b[0m   ]  \n",
      "\tNon provided Atomic Data: synpp_refs, photoionization_data, yg_data, two_photon_data (\u001b[1mbase.py\u001b[0m:209)\n",
      "[\u001b[1mpy.warnings         \u001b[0m][\u001b[1;33mWARNING\u001b[0m]  \n",
      "\t/home/jobrien/Documents/soft/tardis/tardis/plasma/properties/radiative_properties.py:93: RuntimeWarning: invalid value encountered in true_divide\n",
      "  (g_lower * n_upper) / (g_upper * n_lower)\n",
      " (\u001b[1mwarnings.py\u001b[0m:110)\n",
      "[\u001b[1mpy.warnings         \u001b[0m][\u001b[1;33mWARNING\u001b[0m]  \n",
      "\t/home/jobrien/.conda/envs/tardis/lib/python3.7/site-packages/numba/np/ufunc/parallel.py:365: NumbaWarning: \u001b[1mThe TBB threading layer requires TBB version 2019.5 or later i.e., TBB_INTERFACE_VERSION >= 11005. Found TBB_INTERFACE_VERSION = 10002. The TBB threading layer is disabled.\u001b[0m\n",
      "  warnings.warn(problem)\n",
      " (\u001b[1mwarnings.py\u001b[0m:110)\n",
      "[\u001b[1mpy.warnings         \u001b[0m][\u001b[1;33mWARNING\u001b[0m]  \n",
      "\t/home/jobrien/Documents/soft/tardis/tardis/plasma/properties/radiative_properties.py:93: RuntimeWarning: invalid value encountered in true_divide\n",
      "  (g_lower * n_upper) / (g_upper * n_lower)\n",
      " (\u001b[1mwarnings.py\u001b[0m:110)\n",
      "[\u001b[1mtardis.simulation.base\u001b[0m][\u001b[1;37mINFO\u001b[0m   ]  \n",
      "\t\n",
      "\tStarting iteration 1 of 20 (\u001b[1mbase.py\u001b[0m:378)\n",
      "RUNNING WITHOUT CONTINUUM\n"
     ]
    },
    {
     "name": "stderr",
     "output_type": "stream",
     "text": [
      "warning: ignoring debug info with an invalid version (0) in <string>\n",
      "warning: ignoring debug info with an invalid version (0) in <string>\n",
      "warning: ignoring debug info with an invalid version (0) in <string>\n"
     ]
    },
    {
     "name": "stdout",
     "output_type": "stream",
     "text": [
      "[\u001b[1mpy.warnings         \u001b[0m][\u001b[1;33mWARNING\u001b[0m]  \n",
      "\t/home/jobrien/Documents/soft/tardis/tardis/montecarlo/montecarlo_numba/base.py:144: NumbaWarning: \u001b[1mCannot cache compiled function \"montecarlo_main_loop\" as it uses dynamic globals (such as ctypes pointers and large global arrays)\u001b[0m\n",
      "  @njit(**njit_dict)\n",
      " (\u001b[1mwarnings.py\u001b[0m:110)\n"
     ]
    },
    {
     "data": {
      "application/vnd.jupyter.widget-view+json": {
       "model_id": "b4e8db8f1c4f4ed2a5c6f88745cd1f8f",
       "version_major": 2,
       "version_minor": 0
      },
      "text/plain": [
       "TqdmHBox(children=(HTML(value='Iterations:', layout=Layout(width='6%')), FloatProgress(value=0.0, layout=Layou…"
      ]
     },
     "metadata": {},
     "output_type": "display_data"
    },
    {
     "data": {
      "application/vnd.jupyter.widget-view+json": {
       "model_id": "8a1f138445c04f44b48282f2cd50d6da",
       "version_major": 2,
       "version_minor": 0
      },
      "text/plain": [
       "TqdmHBox(children=(HTML(value='Packets:   ', layout=Layout(width='6%')), FloatProgress(value=0.0, layout=Layou…"
      ]
     },
     "metadata": {},
     "output_type": "display_data"
    },
    {
     "name": "stdout",
     "output_type": "stream",
     "text": [
      "Done with Montecarlo Radial 1D\n",
      "[\u001b[1mtardis.simulation.base\u001b[0m][\u001b[1;37mINFO\u001b[0m   ]  \n",
      "\t\n",
      "\tLuminosity emitted   = 7.942e+42 erg / s\n",
      "\tLuminosity absorbed  = 2.659e+42 erg / s\n",
      "\tLuminosity requested = 1.059e+43 erg / s\n",
      " (\u001b[1mbase.py\u001b[0m:547)\n",
      "[\u001b[1mtardis.simulation.base\u001b[0m][\u001b[1;37mINFO\u001b[0m   ]  \n",
      "\t\n",
      "\tPlasma stratification: (\u001b[1mbase.py\u001b[0m:514)\n"
     ]
    },
    {
     "data": {
      "text/html": [
       "<style  type=\"text/css\" >\n",
       "</style><table id=\"T_9a99eb00_99ad_11ec_bac0_f8f21e712850\" ><thead>    <tr>        <th class=\"index_name level0\" >Shell No.</th>        <th class=\"col_heading level0 col0\" >t_rad</th>        <th class=\"col_heading level0 col1\" >next_t_rad</th>        <th class=\"col_heading level0 col2\" >w</th>        <th class=\"col_heading level0 col3\" >next_w</th>    </tr></thead><tbody>\n",
       "                <tr>\n",
       "                        <th id=\"T_9a99eb00_99ad_11ec_bac0_f8f21e712850level0_row0\" class=\"row_heading level0 row0\" >0</th>\n",
       "                        <td id=\"T_9a99eb00_99ad_11ec_bac0_f8f21e712850row0_col0\" class=\"data row0 col0\" >9.93e+03</td>\n",
       "                        <td id=\"T_9a99eb00_99ad_11ec_bac0_f8f21e712850row0_col1\" class=\"data row0 col1\" >1.01e+04</td>\n",
       "                        <td id=\"T_9a99eb00_99ad_11ec_bac0_f8f21e712850row0_col2\" class=\"data row0 col2\" >0.4</td>\n",
       "                        <td id=\"T_9a99eb00_99ad_11ec_bac0_f8f21e712850row0_col3\" class=\"data row0 col3\" >0.507</td>\n",
       "            </tr>\n",
       "            <tr>\n",
       "                        <th id=\"T_9a99eb00_99ad_11ec_bac0_f8f21e712850level0_row1\" class=\"row_heading level0 row1\" >5</th>\n",
       "                        <td id=\"T_9a99eb00_99ad_11ec_bac0_f8f21e712850row1_col0\" class=\"data row1 col0\" >9.85e+03</td>\n",
       "                        <td id=\"T_9a99eb00_99ad_11ec_bac0_f8f21e712850row1_col1\" class=\"data row1 col1\" >1.02e+04</td>\n",
       "                        <td id=\"T_9a99eb00_99ad_11ec_bac0_f8f21e712850row1_col2\" class=\"data row1 col2\" >0.211</td>\n",
       "                        <td id=\"T_9a99eb00_99ad_11ec_bac0_f8f21e712850row1_col3\" class=\"data row1 col3\" >0.197</td>\n",
       "            </tr>\n",
       "            <tr>\n",
       "                        <th id=\"T_9a99eb00_99ad_11ec_bac0_f8f21e712850level0_row2\" class=\"row_heading level0 row2\" >10</th>\n",
       "                        <td id=\"T_9a99eb00_99ad_11ec_bac0_f8f21e712850row2_col0\" class=\"data row2 col0\" >9.78e+03</td>\n",
       "                        <td id=\"T_9a99eb00_99ad_11ec_bac0_f8f21e712850row2_col1\" class=\"data row2 col1\" >1.01e+04</td>\n",
       "                        <td id=\"T_9a99eb00_99ad_11ec_bac0_f8f21e712850row2_col2\" class=\"data row2 col2\" >0.143</td>\n",
       "                        <td id=\"T_9a99eb00_99ad_11ec_bac0_f8f21e712850row2_col3\" class=\"data row2 col3\" >0.117</td>\n",
       "            </tr>\n",
       "            <tr>\n",
       "                        <th id=\"T_9a99eb00_99ad_11ec_bac0_f8f21e712850level0_row3\" class=\"row_heading level0 row3\" >15</th>\n",
       "                        <td id=\"T_9a99eb00_99ad_11ec_bac0_f8f21e712850row3_col0\" class=\"data row3 col0\" >9.71e+03</td>\n",
       "                        <td id=\"T_9a99eb00_99ad_11ec_bac0_f8f21e712850row3_col1\" class=\"data row3 col1\" >9.87e+03</td>\n",
       "                        <td id=\"T_9a99eb00_99ad_11ec_bac0_f8f21e712850row3_col2\" class=\"data row3 col2\" >0.105</td>\n",
       "                        <td id=\"T_9a99eb00_99ad_11ec_bac0_f8f21e712850row3_col3\" class=\"data row3 col3\" >0.0869</td>\n",
       "            </tr>\n",
       "    </tbody></table>"
      ],
      "text/plain": [
       "<pandas.io.formats.style.Styler at 0x7fabbe401c90>"
      ]
     },
     "metadata": {},
     "output_type": "display_data"
    },
    {
     "name": "stdout",
     "output_type": "stream",
     "text": [
      "[\u001b[1mtardis.simulation.base\u001b[0m][\u001b[1;37mINFO\u001b[0m   ]  \n",
      "\t\n",
      "\tCurrent t_inner = 9933.952 K\n",
      "\tExpected t_inner for next iteration = 10703.212 K\n",
      " (\u001b[1mbase.py\u001b[0m:542)\n",
      "[\u001b[1mpy.warnings         \u001b[0m][\u001b[1;33mWARNING\u001b[0m]  \n",
      "\t/home/jobrien/Documents/soft/tardis/tardis/plasma/properties/radiative_properties.py:93: RuntimeWarning: invalid value encountered in true_divide\n",
      "  (g_lower * n_upper) / (g_upper * n_lower)\n",
      " (\u001b[1mwarnings.py\u001b[0m:110)\n"
     ]
    },
    {
     "data": {
      "application/vnd.jupyter.widget-view+json": {
       "model_id": "fa18262ea0da40a0b8da88b76d5ea630",
       "version_major": 2,
       "version_minor": 0
      },
      "text/plain": [
       "VBox(children=(FigureWidget({\n",
       "    'data': [{'type': 'scatter', 'uid': 'e3a59774-54c0-4c06-be0f-f12bdf40602e', …"
      ]
     },
     "metadata": {},
     "output_type": "display_data"
    },
    {
     "name": "stdout",
     "output_type": "stream",
     "text": [
      "[\u001b[1mtardis.simulation.base\u001b[0m][\u001b[1;37mINFO\u001b[0m   ]  \n",
      "\t\n",
      "\tStarting iteration 2 of 20 (\u001b[1mbase.py\u001b[0m:378)\n",
      "RUNNING WITHOUT CONTINUUM\n"
     ]
    },
    {
     "name": "stderr",
     "output_type": "stream",
     "text": [
      "warning: ignoring debug info with an invalid version (0) in <string>\n"
     ]
    },
    {
     "name": "stdout",
     "output_type": "stream",
     "text": [
      "[\u001b[1mpy.warnings         \u001b[0m][\u001b[1;33mWARNING\u001b[0m]  \n",
      "\t/home/jobrien/Documents/soft/tardis/tardis/montecarlo/montecarlo_numba/base.py:144: NumbaWarning:\n",
      "\n",
      "\u001b[1mCannot cache compiled function \"montecarlo_main_loop\" as it uses dynamic globals (such as ctypes pointers and large global arrays)\u001b[0m\n",
      "\n",
      " (\u001b[1mwarnings.py\u001b[0m:110)\n",
      "Done with Montecarlo Radial 1D\n",
      "[\u001b[1mtardis.simulation.base\u001b[0m][\u001b[1;37mINFO\u001b[0m   ]  \n",
      "\t\n",
      "\tLuminosity emitted   = 1.071e+43 erg / s\n",
      "\tLuminosity absorbed  = 3.576e+42 erg / s\n",
      "\tLuminosity requested = 1.059e+43 erg / s\n",
      " (\u001b[1mbase.py\u001b[0m:547)\n",
      "[\u001b[1mtardis.simulation.base\u001b[0m][\u001b[1;37mINFO\u001b[0m   ]  \n",
      "\t\n",
      "\tPlasma stratification: (\u001b[1mbase.py\u001b[0m:514)\n"
     ]
    },
    {
     "data": {
      "text/html": [
       "<style  type=\"text/css\" >\n",
       "</style><table id=\"T_a23366de_99ad_11ec_bac0_f8f21e712850\" ><thead>    <tr>        <th class=\"index_name level0\" >Shell No.</th>        <th class=\"col_heading level0 col0\" >t_rad</th>        <th class=\"col_heading level0 col1\" >next_t_rad</th>        <th class=\"col_heading level0 col2\" >w</th>        <th class=\"col_heading level0 col3\" >next_w</th>    </tr></thead><tbody>\n",
       "                <tr>\n",
       "                        <th id=\"T_a23366de_99ad_11ec_bac0_f8f21e712850level0_row0\" class=\"row_heading level0 row0\" >0</th>\n",
       "                        <td id=\"T_a23366de_99ad_11ec_bac0_f8f21e712850row0_col0\" class=\"data row0 col0\" >1.01e+04</td>\n",
       "                        <td id=\"T_a23366de_99ad_11ec_bac0_f8f21e712850row0_col1\" class=\"data row0 col1\" >1.08e+04</td>\n",
       "                        <td id=\"T_a23366de_99ad_11ec_bac0_f8f21e712850row0_col2\" class=\"data row0 col2\" >0.507</td>\n",
       "                        <td id=\"T_a23366de_99ad_11ec_bac0_f8f21e712850row0_col3\" class=\"data row0 col3\" >0.525</td>\n",
       "            </tr>\n",
       "            <tr>\n",
       "                        <th id=\"T_a23366de_99ad_11ec_bac0_f8f21e712850level0_row1\" class=\"row_heading level0 row1\" >5</th>\n",
       "                        <td id=\"T_a23366de_99ad_11ec_bac0_f8f21e712850row1_col0\" class=\"data row1 col0\" >1.02e+04</td>\n",
       "                        <td id=\"T_a23366de_99ad_11ec_bac0_f8f21e712850row1_col1\" class=\"data row1 col1\" >1.1e+04</td>\n",
       "                        <td id=\"T_a23366de_99ad_11ec_bac0_f8f21e712850row1_col2\" class=\"data row1 col2\" >0.197</td>\n",
       "                        <td id=\"T_a23366de_99ad_11ec_bac0_f8f21e712850row1_col3\" class=\"data row1 col3\" >0.203</td>\n",
       "            </tr>\n",
       "            <tr>\n",
       "                        <th id=\"T_a23366de_99ad_11ec_bac0_f8f21e712850level0_row2\" class=\"row_heading level0 row2\" >10</th>\n",
       "                        <td id=\"T_a23366de_99ad_11ec_bac0_f8f21e712850row2_col0\" class=\"data row2 col0\" >1.01e+04</td>\n",
       "                        <td id=\"T_a23366de_99ad_11ec_bac0_f8f21e712850row2_col1\" class=\"data row2 col1\" >1.08e+04</td>\n",
       "                        <td id=\"T_a23366de_99ad_11ec_bac0_f8f21e712850row2_col2\" class=\"data row2 col2\" >0.117</td>\n",
       "                        <td id=\"T_a23366de_99ad_11ec_bac0_f8f21e712850row2_col3\" class=\"data row2 col3\" >0.125</td>\n",
       "            </tr>\n",
       "            <tr>\n",
       "                        <th id=\"T_a23366de_99ad_11ec_bac0_f8f21e712850level0_row3\" class=\"row_heading level0 row3\" >15</th>\n",
       "                        <td id=\"T_a23366de_99ad_11ec_bac0_f8f21e712850row3_col0\" class=\"data row3 col0\" >9.87e+03</td>\n",
       "                        <td id=\"T_a23366de_99ad_11ec_bac0_f8f21e712850row3_col1\" class=\"data row3 col1\" >1.05e+04</td>\n",
       "                        <td id=\"T_a23366de_99ad_11ec_bac0_f8f21e712850row3_col2\" class=\"data row3 col2\" >0.0869</td>\n",
       "                        <td id=\"T_a23366de_99ad_11ec_bac0_f8f21e712850row3_col3\" class=\"data row3 col3\" >0.0933</td>\n",
       "            </tr>\n",
       "    </tbody></table>"
      ],
      "text/plain": [
       "<pandas.io.formats.style.Styler at 0x7faff5e24d90>"
      ]
     },
     "metadata": {},
     "output_type": "display_data"
    },
    {
     "name": "stdout",
     "output_type": "stream",
     "text": [
      "[\u001b[1mtardis.simulation.base\u001b[0m][\u001b[1;37mINFO\u001b[0m   ]  \n",
      "\t\n",
      "\tCurrent t_inner = 10703.212 K\n",
      "\tExpected t_inner for next iteration = 10673.712 K\n",
      " (\u001b[1mbase.py\u001b[0m:542)\n",
      "[\u001b[1mpy.warnings         \u001b[0m][\u001b[1;33mWARNING\u001b[0m]  \n",
      "\t/home/jobrien/Documents/soft/tardis/tardis/plasma/properties/radiative_properties.py:93: RuntimeWarning:\n",
      "\n",
      "invalid value encountered in true_divide\n",
      "\n",
      " (\u001b[1mwarnings.py\u001b[0m:110)\n",
      "[\u001b[1mtardis.simulation.base\u001b[0m][\u001b[1;37mINFO\u001b[0m   ]  \n",
      "\t\n",
      "\tStarting iteration 3 of 20 (\u001b[1mbase.py\u001b[0m:378)\n",
      "RUNNING WITHOUT CONTINUUM\n"
     ]
    },
    {
     "name": "stderr",
     "output_type": "stream",
     "text": [
      "warning: ignoring debug info with an invalid version (0) in <string>\n"
     ]
    },
    {
     "name": "stdout",
     "output_type": "stream",
     "text": [
      "[\u001b[1mpy.warnings         \u001b[0m][\u001b[1;33mWARNING\u001b[0m]  \n",
      "\t/home/jobrien/Documents/soft/tardis/tardis/montecarlo/montecarlo_numba/base.py:144: NumbaWarning:\n",
      "\n",
      "\u001b[1mCannot cache compiled function \"montecarlo_main_loop\" as it uses dynamic globals (such as ctypes pointers and large global arrays)\u001b[0m\n",
      "\n",
      " (\u001b[1mwarnings.py\u001b[0m:110)\n",
      "Done with Montecarlo Radial 1D\n",
      "[\u001b[1mtardis.simulation.base\u001b[0m][\u001b[1;37mINFO\u001b[0m   ]  \n",
      "\t\n",
      "\tLuminosity emitted   = 1.074e+43 erg / s\n",
      "\tLuminosity absorbed  = 3.391e+42 erg / s\n",
      "\tLuminosity requested = 1.059e+43 erg / s\n",
      " (\u001b[1mbase.py\u001b[0m:547)\n",
      "[\u001b[1mtardis.simulation.base\u001b[0m][\u001b[1;37mINFO\u001b[0m   ]  \n",
      "\t\n",
      "\tPlasma stratification: (\u001b[1mbase.py\u001b[0m:514)\n"
     ]
    },
    {
     "data": {
      "text/html": [
       "<style  type=\"text/css\" >\n",
       "</style><table id=\"T_a9b9d1a4_99ad_11ec_bac0_f8f21e712850\" ><thead>    <tr>        <th class=\"index_name level0\" >Shell No.</th>        <th class=\"col_heading level0 col0\" >t_rad</th>        <th class=\"col_heading level0 col1\" >next_t_rad</th>        <th class=\"col_heading level0 col2\" >w</th>        <th class=\"col_heading level0 col3\" >next_w</th>    </tr></thead><tbody>\n",
       "                <tr>\n",
       "                        <th id=\"T_a9b9d1a4_99ad_11ec_bac0_f8f21e712850level0_row0\" class=\"row_heading level0 row0\" >0</th>\n",
       "                        <td id=\"T_a9b9d1a4_99ad_11ec_bac0_f8f21e712850row0_col0\" class=\"data row0 col0\" >1.08e+04</td>\n",
       "                        <td id=\"T_a9b9d1a4_99ad_11ec_bac0_f8f21e712850row0_col1\" class=\"data row0 col1\" >1.1e+04</td>\n",
       "                        <td id=\"T_a9b9d1a4_99ad_11ec_bac0_f8f21e712850row0_col2\" class=\"data row0 col2\" >0.525</td>\n",
       "                        <td id=\"T_a9b9d1a4_99ad_11ec_bac0_f8f21e712850row0_col3\" class=\"data row0 col3\" >0.483</td>\n",
       "            </tr>\n",
       "            <tr>\n",
       "                        <th id=\"T_a9b9d1a4_99ad_11ec_bac0_f8f21e712850level0_row1\" class=\"row_heading level0 row1\" >5</th>\n",
       "                        <td id=\"T_a9b9d1a4_99ad_11ec_bac0_f8f21e712850row1_col0\" class=\"data row1 col0\" >1.1e+04</td>\n",
       "                        <td id=\"T_a9b9d1a4_99ad_11ec_bac0_f8f21e712850row1_col1\" class=\"data row1 col1\" >1.12e+04</td>\n",
       "                        <td id=\"T_a9b9d1a4_99ad_11ec_bac0_f8f21e712850row1_col2\" class=\"data row1 col2\" >0.203</td>\n",
       "                        <td id=\"T_a9b9d1a4_99ad_11ec_bac0_f8f21e712850row1_col3\" class=\"data row1 col3\" >0.189</td>\n",
       "            </tr>\n",
       "            <tr>\n",
       "                        <th id=\"T_a9b9d1a4_99ad_11ec_bac0_f8f21e712850level0_row2\" class=\"row_heading level0 row2\" >10</th>\n",
       "                        <td id=\"T_a9b9d1a4_99ad_11ec_bac0_f8f21e712850row2_col0\" class=\"data row2 col0\" >1.08e+04</td>\n",
       "                        <td id=\"T_a9b9d1a4_99ad_11ec_bac0_f8f21e712850row2_col1\" class=\"data row2 col1\" >1.1e+04</td>\n",
       "                        <td id=\"T_a9b9d1a4_99ad_11ec_bac0_f8f21e712850row2_col2\" class=\"data row2 col2\" >0.125</td>\n",
       "                        <td id=\"T_a9b9d1a4_99ad_11ec_bac0_f8f21e712850row2_col3\" class=\"data row2 col3\" >0.118</td>\n",
       "            </tr>\n",
       "            <tr>\n",
       "                        <th id=\"T_a9b9d1a4_99ad_11ec_bac0_f8f21e712850level0_row3\" class=\"row_heading level0 row3\" >15</th>\n",
       "                        <td id=\"T_a9b9d1a4_99ad_11ec_bac0_f8f21e712850row3_col0\" class=\"data row3 col0\" >1.05e+04</td>\n",
       "                        <td id=\"T_a9b9d1a4_99ad_11ec_bac0_f8f21e712850row3_col1\" class=\"data row3 col1\" >1.06e+04</td>\n",
       "                        <td id=\"T_a9b9d1a4_99ad_11ec_bac0_f8f21e712850row3_col2\" class=\"data row3 col2\" >0.0933</td>\n",
       "                        <td id=\"T_a9b9d1a4_99ad_11ec_bac0_f8f21e712850row3_col3\" class=\"data row3 col3\" >0.0895</td>\n",
       "            </tr>\n",
       "    </tbody></table>"
      ],
      "text/plain": [
       "<pandas.io.formats.style.Styler at 0x7fb02592de10>"
      ]
     },
     "metadata": {},
     "output_type": "display_data"
    },
    {
     "name": "stdout",
     "output_type": "stream",
     "text": [
      "[\u001b[1mtardis.simulation.base\u001b[0m][\u001b[1;37mINFO\u001b[0m   ]  \n",
      "\t\n",
      "\tCurrent t_inner = 10673.712 K\n",
      "\tExpected t_inner for next iteration = 10635.953 K\n",
      " (\u001b[1mbase.py\u001b[0m:542)\n",
      "[\u001b[1mpy.warnings         \u001b[0m][\u001b[1;33mWARNING\u001b[0m]  \n",
      "\t/home/jobrien/Documents/soft/tardis/tardis/plasma/properties/radiative_properties.py:93: RuntimeWarning:\n",
      "\n",
      "invalid value encountered in true_divide\n",
      "\n",
      " (\u001b[1mwarnings.py\u001b[0m:110)\n",
      "[\u001b[1mtardis.simulation.base\u001b[0m][\u001b[1;37mINFO\u001b[0m   ]  \n",
      "\t\n",
      "\tStarting iteration 4 of 20 (\u001b[1mbase.py\u001b[0m:378)\n",
      "RUNNING WITHOUT CONTINUUM\n"
     ]
    },
    {
     "name": "stderr",
     "output_type": "stream",
     "text": [
      "warning: ignoring debug info with an invalid version (0) in <string>\n"
     ]
    },
    {
     "name": "stdout",
     "output_type": "stream",
     "text": [
      "[\u001b[1mpy.warnings         \u001b[0m][\u001b[1;33mWARNING\u001b[0m]  \n",
      "\t/home/jobrien/Documents/soft/tardis/tardis/montecarlo/montecarlo_numba/base.py:144: NumbaWarning:\n",
      "\n",
      "\u001b[1mCannot cache compiled function \"montecarlo_main_loop\" as it uses dynamic globals (such as ctypes pointers and large global arrays)\u001b[0m\n",
      "\n",
      " (\u001b[1mwarnings.py\u001b[0m:110)\n",
      "Done with Montecarlo Radial 1D\n",
      "[\u001b[1mtardis.simulation.base\u001b[0m][\u001b[1;37mINFO\u001b[0m   ]  \n",
      "\t\n",
      "\tLuminosity emitted   = 1.058e+43 erg / s\n",
      "\tLuminosity absorbed  = 3.352e+42 erg / s\n",
      "\tLuminosity requested = 1.059e+43 erg / s\n",
      " (\u001b[1mbase.py\u001b[0m:547)\n",
      "[\u001b[1mtardis.simulation.base\u001b[0m][\u001b[1;37mINFO\u001b[0m   ]  \n",
      "\t\n",
      "\tPlasma stratification: (\u001b[1mbase.py\u001b[0m:514)\n"
     ]
    },
    {
     "data": {
      "text/html": [
       "<style  type=\"text/css\" >\n",
       "</style><table id=\"T_b1230ad2_99ad_11ec_bac0_f8f21e712850\" ><thead>    <tr>        <th class=\"index_name level0\" >Shell No.</th>        <th class=\"col_heading level0 col0\" >t_rad</th>        <th class=\"col_heading level0 col1\" >next_t_rad</th>        <th class=\"col_heading level0 col2\" >w</th>        <th class=\"col_heading level0 col3\" >next_w</th>    </tr></thead><tbody>\n",
       "                <tr>\n",
       "                        <th id=\"T_b1230ad2_99ad_11ec_bac0_f8f21e712850level0_row0\" class=\"row_heading level0 row0\" >0</th>\n",
       "                        <td id=\"T_b1230ad2_99ad_11ec_bac0_f8f21e712850row0_col0\" class=\"data row0 col0\" >1.1e+04</td>\n",
       "                        <td id=\"T_b1230ad2_99ad_11ec_bac0_f8f21e712850row0_col1\" class=\"data row0 col1\" >1.1e+04</td>\n",
       "                        <td id=\"T_b1230ad2_99ad_11ec_bac0_f8f21e712850row0_col2\" class=\"data row0 col2\" >0.483</td>\n",
       "                        <td id=\"T_b1230ad2_99ad_11ec_bac0_f8f21e712850row0_col3\" class=\"data row0 col3\" >0.469</td>\n",
       "            </tr>\n",
       "            <tr>\n",
       "                        <th id=\"T_b1230ad2_99ad_11ec_bac0_f8f21e712850level0_row1\" class=\"row_heading level0 row1\" >5</th>\n",
       "                        <td id=\"T_b1230ad2_99ad_11ec_bac0_f8f21e712850row1_col0\" class=\"data row1 col0\" >1.12e+04</td>\n",
       "                        <td id=\"T_b1230ad2_99ad_11ec_bac0_f8f21e712850row1_col1\" class=\"data row1 col1\" >1.12e+04</td>\n",
       "                        <td id=\"T_b1230ad2_99ad_11ec_bac0_f8f21e712850row1_col2\" class=\"data row1 col2\" >0.189</td>\n",
       "                        <td id=\"T_b1230ad2_99ad_11ec_bac0_f8f21e712850row1_col3\" class=\"data row1 col3\" >0.182</td>\n",
       "            </tr>\n",
       "            <tr>\n",
       "                        <th id=\"T_b1230ad2_99ad_11ec_bac0_f8f21e712850level0_row2\" class=\"row_heading level0 row2\" >10</th>\n",
       "                        <td id=\"T_b1230ad2_99ad_11ec_bac0_f8f21e712850row2_col0\" class=\"data row2 col0\" >1.1e+04</td>\n",
       "                        <td id=\"T_b1230ad2_99ad_11ec_bac0_f8f21e712850row2_col1\" class=\"data row2 col1\" >1.1e+04</td>\n",
       "                        <td id=\"T_b1230ad2_99ad_11ec_bac0_f8f21e712850row2_col2\" class=\"data row2 col2\" >0.118</td>\n",
       "                        <td id=\"T_b1230ad2_99ad_11ec_bac0_f8f21e712850row2_col3\" class=\"data row2 col3\" >0.113</td>\n",
       "            </tr>\n",
       "            <tr>\n",
       "                        <th id=\"T_b1230ad2_99ad_11ec_bac0_f8f21e712850level0_row3\" class=\"row_heading level0 row3\" >15</th>\n",
       "                        <td id=\"T_b1230ad2_99ad_11ec_bac0_f8f21e712850row3_col0\" class=\"data row3 col0\" >1.06e+04</td>\n",
       "                        <td id=\"T_b1230ad2_99ad_11ec_bac0_f8f21e712850row3_col1\" class=\"data row3 col1\" >1.07e+04</td>\n",
       "                        <td id=\"T_b1230ad2_99ad_11ec_bac0_f8f21e712850row3_col2\" class=\"data row3 col2\" >0.0895</td>\n",
       "                        <td id=\"T_b1230ad2_99ad_11ec_bac0_f8f21e712850row3_col3\" class=\"data row3 col3\" >0.0861</td>\n",
       "            </tr>\n",
       "    </tbody></table>"
      ],
      "text/plain": [
       "<pandas.io.formats.style.Styler at 0x7fafe4748dd0>"
      ]
     },
     "metadata": {},
     "output_type": "display_data"
    },
    {
     "name": "stdout",
     "output_type": "stream",
     "text": [
      "[\u001b[1mtardis.simulation.base\u001b[0m][\u001b[1;37mINFO\u001b[0m   ]  \n",
      "\t\n",
      "\tCurrent t_inner = 10635.953 K\n",
      "\tExpected t_inner for next iteration = 10638.407 K\n",
      " (\u001b[1mbase.py\u001b[0m:542)\n",
      "[\u001b[1mpy.warnings         \u001b[0m][\u001b[1;33mWARNING\u001b[0m]  \n",
      "\t/home/jobrien/Documents/soft/tardis/tardis/plasma/properties/radiative_properties.py:93: RuntimeWarning:\n",
      "\n",
      "invalid value encountered in true_divide\n",
      "\n",
      " (\u001b[1mwarnings.py\u001b[0m:110)\n",
      "[\u001b[1mtardis.simulation.base\u001b[0m][\u001b[1;37mINFO\u001b[0m   ]  \n",
      "\t\n",
      "\tStarting iteration 5 of 20 (\u001b[1mbase.py\u001b[0m:378)\n",
      "RUNNING WITHOUT CONTINUUM\n"
     ]
    },
    {
     "name": "stderr",
     "output_type": "stream",
     "text": [
      "warning: ignoring debug info with an invalid version (0) in <string>\n"
     ]
    },
    {
     "name": "stdout",
     "output_type": "stream",
     "text": [
      "[\u001b[1mpy.warnings         \u001b[0m][\u001b[1;33mWARNING\u001b[0m]  \n",
      "\t/home/jobrien/Documents/soft/tardis/tardis/montecarlo/montecarlo_numba/base.py:144: NumbaWarning:\n",
      "\n",
      "\u001b[1mCannot cache compiled function \"montecarlo_main_loop\" as it uses dynamic globals (such as ctypes pointers and large global arrays)\u001b[0m\n",
      "\n",
      " (\u001b[1mwarnings.py\u001b[0m:110)\n",
      "Done with Montecarlo Radial 1D\n",
      "[\u001b[1mtardis.simulation.base\u001b[0m][\u001b[1;37mINFO\u001b[0m   ]  \n",
      "\t\n",
      "\tLuminosity emitted   = 1.055e+43 erg / s\n",
      "\tLuminosity absorbed  = 3.399e+42 erg / s\n",
      "\tLuminosity requested = 1.059e+43 erg / s\n",
      " (\u001b[1mbase.py\u001b[0m:547)\n",
      "[\u001b[1mtardis.simulation.base\u001b[0m][\u001b[1;37mINFO\u001b[0m   ]  \n",
      "\tIteration converged 1/4 consecutive times. (\u001b[1mbase.py\u001b[0m:259)\n",
      "[\u001b[1mtardis.simulation.base\u001b[0m][\u001b[1;37mINFO\u001b[0m   ]  \n",
      "\t\n",
      "\tPlasma stratification: (\u001b[1mbase.py\u001b[0m:514)\n"
     ]
    },
    {
     "data": {
      "text/html": [
       "<style  type=\"text/css\" >\n",
       "</style><table id=\"T_b8a0ad82_99ad_11ec_bac0_f8f21e712850\" ><thead>    <tr>        <th class=\"index_name level0\" >Shell No.</th>        <th class=\"col_heading level0 col0\" >t_rad</th>        <th class=\"col_heading level0 col1\" >next_t_rad</th>        <th class=\"col_heading level0 col2\" >w</th>        <th class=\"col_heading level0 col3\" >next_w</th>    </tr></thead><tbody>\n",
       "                <tr>\n",
       "                        <th id=\"T_b8a0ad82_99ad_11ec_bac0_f8f21e712850level0_row0\" class=\"row_heading level0 row0\" >0</th>\n",
       "                        <td id=\"T_b8a0ad82_99ad_11ec_bac0_f8f21e712850row0_col0\" class=\"data row0 col0\" >1.1e+04</td>\n",
       "                        <td id=\"T_b8a0ad82_99ad_11ec_bac0_f8f21e712850row0_col1\" class=\"data row0 col1\" >1.1e+04</td>\n",
       "                        <td id=\"T_b8a0ad82_99ad_11ec_bac0_f8f21e712850row0_col2\" class=\"data row0 col2\" >0.469</td>\n",
       "                        <td id=\"T_b8a0ad82_99ad_11ec_bac0_f8f21e712850row0_col3\" class=\"data row0 col3\" >0.479</td>\n",
       "            </tr>\n",
       "            <tr>\n",
       "                        <th id=\"T_b8a0ad82_99ad_11ec_bac0_f8f21e712850level0_row1\" class=\"row_heading level0 row1\" >5</th>\n",
       "                        <td id=\"T_b8a0ad82_99ad_11ec_bac0_f8f21e712850row1_col0\" class=\"data row1 col0\" >1.12e+04</td>\n",
       "                        <td id=\"T_b8a0ad82_99ad_11ec_bac0_f8f21e712850row1_col1\" class=\"data row1 col1\" >1.13e+04</td>\n",
       "                        <td id=\"T_b8a0ad82_99ad_11ec_bac0_f8f21e712850row1_col2\" class=\"data row1 col2\" >0.182</td>\n",
       "                        <td id=\"T_b8a0ad82_99ad_11ec_bac0_f8f21e712850row1_col3\" class=\"data row1 col3\" >0.178</td>\n",
       "            </tr>\n",
       "            <tr>\n",
       "                        <th id=\"T_b8a0ad82_99ad_11ec_bac0_f8f21e712850level0_row2\" class=\"row_heading level0 row2\" >10</th>\n",
       "                        <td id=\"T_b8a0ad82_99ad_11ec_bac0_f8f21e712850row2_col0\" class=\"data row2 col0\" >1.1e+04</td>\n",
       "                        <td id=\"T_b8a0ad82_99ad_11ec_bac0_f8f21e712850row2_col1\" class=\"data row2 col1\" >1.1e+04</td>\n",
       "                        <td id=\"T_b8a0ad82_99ad_11ec_bac0_f8f21e712850row2_col2\" class=\"data row2 col2\" >0.113</td>\n",
       "                        <td id=\"T_b8a0ad82_99ad_11ec_bac0_f8f21e712850row2_col3\" class=\"data row2 col3\" >0.113</td>\n",
       "            </tr>\n",
       "            <tr>\n",
       "                        <th id=\"T_b8a0ad82_99ad_11ec_bac0_f8f21e712850level0_row3\" class=\"row_heading level0 row3\" >15</th>\n",
       "                        <td id=\"T_b8a0ad82_99ad_11ec_bac0_f8f21e712850row3_col0\" class=\"data row3 col0\" >1.07e+04</td>\n",
       "                        <td id=\"T_b8a0ad82_99ad_11ec_bac0_f8f21e712850row3_col1\" class=\"data row3 col1\" >1.07e+04</td>\n",
       "                        <td id=\"T_b8a0ad82_99ad_11ec_bac0_f8f21e712850row3_col2\" class=\"data row3 col2\" >0.0861</td>\n",
       "                        <td id=\"T_b8a0ad82_99ad_11ec_bac0_f8f21e712850row3_col3\" class=\"data row3 col3\" >0.0839</td>\n",
       "            </tr>\n",
       "    </tbody></table>"
      ],
      "text/plain": [
       "<pandas.io.formats.style.Styler at 0x7fafd3de0110>"
      ]
     },
     "metadata": {},
     "output_type": "display_data"
    },
    {
     "name": "stdout",
     "output_type": "stream",
     "text": [
      "[\u001b[1mtardis.simulation.base\u001b[0m][\u001b[1;37mINFO\u001b[0m   ]  \n",
      "\t\n",
      "\tCurrent t_inner = 10638.407 K\n",
      "\tExpected t_inner for next iteration = 10650.202 K\n",
      " (\u001b[1mbase.py\u001b[0m:542)\n",
      "[\u001b[1mpy.warnings         \u001b[0m][\u001b[1;33mWARNING\u001b[0m]  \n",
      "\t/home/jobrien/Documents/soft/tardis/tardis/plasma/properties/radiative_properties.py:93: RuntimeWarning:\n",
      "\n",
      "invalid value encountered in true_divide\n",
      "\n",
      " (\u001b[1mwarnings.py\u001b[0m:110)\n",
      "[\u001b[1mtardis.simulation.base\u001b[0m][\u001b[1;37mINFO\u001b[0m   ]  \n",
      "\t\n",
      "\tStarting iteration 6 of 20 (\u001b[1mbase.py\u001b[0m:378)\n",
      "RUNNING WITHOUT CONTINUUM\n"
     ]
    },
    {
     "name": "stderr",
     "output_type": "stream",
     "text": [
      "warning: ignoring debug info with an invalid version (0) in <string>\n"
     ]
    },
    {
     "name": "stdout",
     "output_type": "stream",
     "text": [
      "[\u001b[1mpy.warnings         \u001b[0m][\u001b[1;33mWARNING\u001b[0m]  \n",
      "\t/home/jobrien/Documents/soft/tardis/tardis/montecarlo/montecarlo_numba/base.py:144: NumbaWarning:\n",
      "\n",
      "\u001b[1mCannot cache compiled function \"montecarlo_main_loop\" as it uses dynamic globals (such as ctypes pointers and large global arrays)\u001b[0m\n",
      "\n",
      " (\u001b[1mwarnings.py\u001b[0m:110)\n",
      "Done with Montecarlo Radial 1D\n",
      "[\u001b[1mtardis.simulation.base\u001b[0m][\u001b[1;37mINFO\u001b[0m   ]  \n",
      "\t\n",
      "\tLuminosity emitted   = 1.061e+43 erg / s\n",
      "\tLuminosity absorbed  = 3.398e+42 erg / s\n",
      "\tLuminosity requested = 1.059e+43 erg / s\n",
      " (\u001b[1mbase.py\u001b[0m:547)\n",
      "[\u001b[1mtardis.simulation.base\u001b[0m][\u001b[1;37mINFO\u001b[0m   ]  \n",
      "\tIteration converged 2/4 consecutive times. (\u001b[1mbase.py\u001b[0m:259)\n",
      "[\u001b[1mtardis.simulation.base\u001b[0m][\u001b[1;37mINFO\u001b[0m   ]  \n",
      "\t\n",
      "\tPlasma stratification: (\u001b[1mbase.py\u001b[0m:514)\n"
     ]
    },
    {
     "data": {
      "text/html": [
       "<style  type=\"text/css\" >\n",
       "</style><table id=\"T_c024e14a_99ad_11ec_bac0_f8f21e712850\" ><thead>    <tr>        <th class=\"index_name level0\" >Shell No.</th>        <th class=\"col_heading level0 col0\" >t_rad</th>        <th class=\"col_heading level0 col1\" >next_t_rad</th>        <th class=\"col_heading level0 col2\" >w</th>        <th class=\"col_heading level0 col3\" >next_w</th>    </tr></thead><tbody>\n",
       "                <tr>\n",
       "                        <th id=\"T_c024e14a_99ad_11ec_bac0_f8f21e712850level0_row0\" class=\"row_heading level0 row0\" >0</th>\n",
       "                        <td id=\"T_c024e14a_99ad_11ec_bac0_f8f21e712850row0_col0\" class=\"data row0 col0\" >1.1e+04</td>\n",
       "                        <td id=\"T_c024e14a_99ad_11ec_bac0_f8f21e712850row0_col1\" class=\"data row0 col1\" >1.1e+04</td>\n",
       "                        <td id=\"T_c024e14a_99ad_11ec_bac0_f8f21e712850row0_col2\" class=\"data row0 col2\" >0.479</td>\n",
       "                        <td id=\"T_c024e14a_99ad_11ec_bac0_f8f21e712850row0_col3\" class=\"data row0 col3\" >0.47</td>\n",
       "            </tr>\n",
       "            <tr>\n",
       "                        <th id=\"T_c024e14a_99ad_11ec_bac0_f8f21e712850level0_row1\" class=\"row_heading level0 row1\" >5</th>\n",
       "                        <td id=\"T_c024e14a_99ad_11ec_bac0_f8f21e712850row1_col0\" class=\"data row1 col0\" >1.13e+04</td>\n",
       "                        <td id=\"T_c024e14a_99ad_11ec_bac0_f8f21e712850row1_col1\" class=\"data row1 col1\" >1.12e+04</td>\n",
       "                        <td id=\"T_c024e14a_99ad_11ec_bac0_f8f21e712850row1_col2\" class=\"data row1 col2\" >0.178</td>\n",
       "                        <td id=\"T_c024e14a_99ad_11ec_bac0_f8f21e712850row1_col3\" class=\"data row1 col3\" >0.185</td>\n",
       "            </tr>\n",
       "            <tr>\n",
       "                        <th id=\"T_c024e14a_99ad_11ec_bac0_f8f21e712850level0_row2\" class=\"row_heading level0 row2\" >10</th>\n",
       "                        <td id=\"T_c024e14a_99ad_11ec_bac0_f8f21e712850row2_col0\" class=\"data row2 col0\" >1.1e+04</td>\n",
       "                        <td id=\"T_c024e14a_99ad_11ec_bac0_f8f21e712850row2_col1\" class=\"data row2 col1\" >1.11e+04</td>\n",
       "                        <td id=\"T_c024e14a_99ad_11ec_bac0_f8f21e712850row2_col2\" class=\"data row2 col2\" >0.113</td>\n",
       "                        <td id=\"T_c024e14a_99ad_11ec_bac0_f8f21e712850row2_col3\" class=\"data row2 col3\" >0.112</td>\n",
       "            </tr>\n",
       "            <tr>\n",
       "                        <th id=\"T_c024e14a_99ad_11ec_bac0_f8f21e712850level0_row3\" class=\"row_heading level0 row3\" >15</th>\n",
       "                        <td id=\"T_c024e14a_99ad_11ec_bac0_f8f21e712850row3_col0\" class=\"data row3 col0\" >1.07e+04</td>\n",
       "                        <td id=\"T_c024e14a_99ad_11ec_bac0_f8f21e712850row3_col1\" class=\"data row3 col1\" >1.07e+04</td>\n",
       "                        <td id=\"T_c024e14a_99ad_11ec_bac0_f8f21e712850row3_col2\" class=\"data row3 col2\" >0.0839</td>\n",
       "                        <td id=\"T_c024e14a_99ad_11ec_bac0_f8f21e712850row3_col3\" class=\"data row3 col3\" >0.0856</td>\n",
       "            </tr>\n",
       "    </tbody></table>"
      ],
      "text/plain": [
       "<pandas.io.formats.style.Styler at 0x7fafcb413a10>"
      ]
     },
     "metadata": {},
     "output_type": "display_data"
    },
    {
     "name": "stdout",
     "output_type": "stream",
     "text": [
      "[\u001b[1mtardis.simulation.base\u001b[0m][\u001b[1;37mINFO\u001b[0m   ]  \n",
      "\t\n",
      "\tCurrent t_inner = 10650.202 K\n",
      "\tExpected t_inner for next iteration = 10645.955 K\n",
      " (\u001b[1mbase.py\u001b[0m:542)\n",
      "[\u001b[1mpy.warnings         \u001b[0m][\u001b[1;33mWARNING\u001b[0m]  \n",
      "\t/home/jobrien/Documents/soft/tardis/tardis/plasma/properties/radiative_properties.py:93: RuntimeWarning:\n",
      "\n",
      "invalid value encountered in true_divide\n",
      "\n",
      " (\u001b[1mwarnings.py\u001b[0m:110)\n",
      "[\u001b[1mtardis.simulation.base\u001b[0m][\u001b[1;37mINFO\u001b[0m   ]  \n",
      "\t\n",
      "\tStarting iteration 7 of 20 (\u001b[1mbase.py\u001b[0m:378)\n",
      "RUNNING WITHOUT CONTINUUM\n"
     ]
    },
    {
     "name": "stderr",
     "output_type": "stream",
     "text": [
      "warning: ignoring debug info with an invalid version (0) in <string>\n"
     ]
    },
    {
     "name": "stdout",
     "output_type": "stream",
     "text": [
      "[\u001b[1mpy.warnings         \u001b[0m][\u001b[1;33mWARNING\u001b[0m]  \n",
      "\t/home/jobrien/Documents/soft/tardis/tardis/montecarlo/montecarlo_numba/base.py:144: NumbaWarning:\n",
      "\n",
      "\u001b[1mCannot cache compiled function \"montecarlo_main_loop\" as it uses dynamic globals (such as ctypes pointers and large global arrays)\u001b[0m\n",
      "\n",
      " (\u001b[1mwarnings.py\u001b[0m:110)\n",
      "Done with Montecarlo Radial 1D\n",
      "[\u001b[1mtardis.simulation.base\u001b[0m][\u001b[1;37mINFO\u001b[0m   ]  \n",
      "\t\n",
      "\tLuminosity emitted   = 1.061e+43 erg / s\n",
      "\tLuminosity absorbed  = 3.382e+42 erg / s\n",
      "\tLuminosity requested = 1.059e+43 erg / s\n",
      " (\u001b[1mbase.py\u001b[0m:547)\n",
      "[\u001b[1mtardis.simulation.base\u001b[0m][\u001b[1;37mINFO\u001b[0m   ]  \n",
      "\tIteration converged 3/4 consecutive times. (\u001b[1mbase.py\u001b[0m:259)\n",
      "[\u001b[1mtardis.simulation.base\u001b[0m][\u001b[1;37mINFO\u001b[0m   ]  \n",
      "\t\n",
      "\tPlasma stratification: (\u001b[1mbase.py\u001b[0m:514)\n"
     ]
    },
    {
     "data": {
      "text/html": [
       "<style  type=\"text/css\" >\n",
       "</style><table id=\"T_c78039bc_99ad_11ec_bac0_f8f21e712850\" ><thead>    <tr>        <th class=\"index_name level0\" >Shell No.</th>        <th class=\"col_heading level0 col0\" >t_rad</th>        <th class=\"col_heading level0 col1\" >next_t_rad</th>        <th class=\"col_heading level0 col2\" >w</th>        <th class=\"col_heading level0 col3\" >next_w</th>    </tr></thead><tbody>\n",
       "                <tr>\n",
       "                        <th id=\"T_c78039bc_99ad_11ec_bac0_f8f21e712850level0_row0\" class=\"row_heading level0 row0\" >0</th>\n",
       "                        <td id=\"T_c78039bc_99ad_11ec_bac0_f8f21e712850row0_col0\" class=\"data row0 col0\" >1.1e+04</td>\n",
       "                        <td id=\"T_c78039bc_99ad_11ec_bac0_f8f21e712850row0_col1\" class=\"data row0 col1\" >1.1e+04</td>\n",
       "                        <td id=\"T_c78039bc_99ad_11ec_bac0_f8f21e712850row0_col2\" class=\"data row0 col2\" >0.47</td>\n",
       "                        <td id=\"T_c78039bc_99ad_11ec_bac0_f8f21e712850row0_col3\" class=\"data row0 col3\" >0.47</td>\n",
       "            </tr>\n",
       "            <tr>\n",
       "                        <th id=\"T_c78039bc_99ad_11ec_bac0_f8f21e712850level0_row1\" class=\"row_heading level0 row1\" >5</th>\n",
       "                        <td id=\"T_c78039bc_99ad_11ec_bac0_f8f21e712850row1_col0\" class=\"data row1 col0\" >1.12e+04</td>\n",
       "                        <td id=\"T_c78039bc_99ad_11ec_bac0_f8f21e712850row1_col1\" class=\"data row1 col1\" >1.13e+04</td>\n",
       "                        <td id=\"T_c78039bc_99ad_11ec_bac0_f8f21e712850row1_col2\" class=\"data row1 col2\" >0.185</td>\n",
       "                        <td id=\"T_c78039bc_99ad_11ec_bac0_f8f21e712850row1_col3\" class=\"data row1 col3\" >0.178</td>\n",
       "            </tr>\n",
       "            <tr>\n",
       "                        <th id=\"T_c78039bc_99ad_11ec_bac0_f8f21e712850level0_row2\" class=\"row_heading level0 row2\" >10</th>\n",
       "                        <td id=\"T_c78039bc_99ad_11ec_bac0_f8f21e712850row2_col0\" class=\"data row2 col0\" >1.11e+04</td>\n",
       "                        <td id=\"T_c78039bc_99ad_11ec_bac0_f8f21e712850row2_col1\" class=\"data row2 col1\" >1.11e+04</td>\n",
       "                        <td id=\"T_c78039bc_99ad_11ec_bac0_f8f21e712850row2_col2\" class=\"data row2 col2\" >0.112</td>\n",
       "                        <td id=\"T_c78039bc_99ad_11ec_bac0_f8f21e712850row2_col3\" class=\"data row2 col3\" >0.112</td>\n",
       "            </tr>\n",
       "            <tr>\n",
       "                        <th id=\"T_c78039bc_99ad_11ec_bac0_f8f21e712850level0_row3\" class=\"row_heading level0 row3\" >15</th>\n",
       "                        <td id=\"T_c78039bc_99ad_11ec_bac0_f8f21e712850row3_col0\" class=\"data row3 col0\" >1.07e+04</td>\n",
       "                        <td id=\"T_c78039bc_99ad_11ec_bac0_f8f21e712850row3_col1\" class=\"data row3 col1\" >1.07e+04</td>\n",
       "                        <td id=\"T_c78039bc_99ad_11ec_bac0_f8f21e712850row3_col2\" class=\"data row3 col2\" >0.0856</td>\n",
       "                        <td id=\"T_c78039bc_99ad_11ec_bac0_f8f21e712850row3_col3\" class=\"data row3 col3\" >0.086</td>\n",
       "            </tr>\n",
       "    </tbody></table>"
      ],
      "text/plain": [
       "<pandas.io.formats.style.Styler at 0x7faffe635d90>"
      ]
     },
     "metadata": {},
     "output_type": "display_data"
    },
    {
     "name": "stdout",
     "output_type": "stream",
     "text": [
      "[\u001b[1mtardis.simulation.base\u001b[0m][\u001b[1;37mINFO\u001b[0m   ]  \n",
      "\t\n",
      "\tCurrent t_inner = 10645.955 K\n",
      "\tExpected t_inner for next iteration = 10642.050 K\n",
      " (\u001b[1mbase.py\u001b[0m:542)\n",
      "[\u001b[1mpy.warnings         \u001b[0m][\u001b[1;33mWARNING\u001b[0m]  \n",
      "\t/home/jobrien/Documents/soft/tardis/tardis/plasma/properties/radiative_properties.py:93: RuntimeWarning:\n",
      "\n",
      "invalid value encountered in true_divide\n",
      "\n",
      " (\u001b[1mwarnings.py\u001b[0m:110)\n",
      "[\u001b[1mtardis.simulation.base\u001b[0m][\u001b[1;37mINFO\u001b[0m   ]  \n",
      "\t\n",
      "\tStarting iteration 8 of 20 (\u001b[1mbase.py\u001b[0m:378)\n",
      "RUNNING WITHOUT CONTINUUM\n"
     ]
    },
    {
     "name": "stderr",
     "output_type": "stream",
     "text": [
      "warning: ignoring debug info with an invalid version (0) in <string>\n"
     ]
    },
    {
     "name": "stdout",
     "output_type": "stream",
     "text": [
      "[\u001b[1mpy.warnings         \u001b[0m][\u001b[1;33mWARNING\u001b[0m]  \n",
      "\t/home/jobrien/Documents/soft/tardis/tardis/montecarlo/montecarlo_numba/base.py:144: NumbaWarning:\n",
      "\n",
      "\u001b[1mCannot cache compiled function \"montecarlo_main_loop\" as it uses dynamic globals (such as ctypes pointers and large global arrays)\u001b[0m\n",
      "\n",
      " (\u001b[1mwarnings.py\u001b[0m:110)\n",
      "Done with Montecarlo Radial 1D\n",
      "[\u001b[1mtardis.simulation.base\u001b[0m][\u001b[1;37mINFO\u001b[0m   ]  \n",
      "\t\n",
      "\tLuminosity emitted   = 1.062e+43 erg / s\n",
      "\tLuminosity absorbed  = 3.350e+42 erg / s\n",
      "\tLuminosity requested = 1.059e+43 erg / s\n",
      " (\u001b[1mbase.py\u001b[0m:547)\n",
      "[\u001b[1mtardis.simulation.base\u001b[0m][\u001b[1;37mINFO\u001b[0m   ]  \n",
      "\tIteration converged 4/4 consecutive times. (\u001b[1mbase.py\u001b[0m:259)\n",
      "[\u001b[1mtardis.simulation.base\u001b[0m][\u001b[1;37mINFO\u001b[0m   ]  \n",
      "\t\n",
      "\tPlasma stratification: (\u001b[1mbase.py\u001b[0m:514)\n"
     ]
    },
    {
     "data": {
      "text/html": [
       "<style  type=\"text/css\" >\n",
       "</style><table id=\"T_cef1c7c4_99ad_11ec_bac0_f8f21e712850\" ><thead>    <tr>        <th class=\"index_name level0\" >Shell No.</th>        <th class=\"col_heading level0 col0\" >t_rad</th>        <th class=\"col_heading level0 col1\" >next_t_rad</th>        <th class=\"col_heading level0 col2\" >w</th>        <th class=\"col_heading level0 col3\" >next_w</th>    </tr></thead><tbody>\n",
       "                <tr>\n",
       "                        <th id=\"T_cef1c7c4_99ad_11ec_bac0_f8f21e712850level0_row0\" class=\"row_heading level0 row0\" >0</th>\n",
       "                        <td id=\"T_cef1c7c4_99ad_11ec_bac0_f8f21e712850row0_col0\" class=\"data row0 col0\" >1.1e+04</td>\n",
       "                        <td id=\"T_cef1c7c4_99ad_11ec_bac0_f8f21e712850row0_col1\" class=\"data row0 col1\" >1.11e+04</td>\n",
       "                        <td id=\"T_cef1c7c4_99ad_11ec_bac0_f8f21e712850row0_col2\" class=\"data row0 col2\" >0.47</td>\n",
       "                        <td id=\"T_cef1c7c4_99ad_11ec_bac0_f8f21e712850row0_col3\" class=\"data row0 col3\" >0.472</td>\n",
       "            </tr>\n",
       "            <tr>\n",
       "                        <th id=\"T_cef1c7c4_99ad_11ec_bac0_f8f21e712850level0_row1\" class=\"row_heading level0 row1\" >5</th>\n",
       "                        <td id=\"T_cef1c7c4_99ad_11ec_bac0_f8f21e712850row1_col0\" class=\"data row1 col0\" >1.13e+04</td>\n",
       "                        <td id=\"T_cef1c7c4_99ad_11ec_bac0_f8f21e712850row1_col1\" class=\"data row1 col1\" >1.14e+04</td>\n",
       "                        <td id=\"T_cef1c7c4_99ad_11ec_bac0_f8f21e712850row1_col2\" class=\"data row1 col2\" >0.178</td>\n",
       "                        <td id=\"T_cef1c7c4_99ad_11ec_bac0_f8f21e712850row1_col3\" class=\"data row1 col3\" >0.175</td>\n",
       "            </tr>\n",
       "            <tr>\n",
       "                        <th id=\"T_cef1c7c4_99ad_11ec_bac0_f8f21e712850level0_row2\" class=\"row_heading level0 row2\" >10</th>\n",
       "                        <td id=\"T_cef1c7c4_99ad_11ec_bac0_f8f21e712850row2_col0\" class=\"data row2 col0\" >1.11e+04</td>\n",
       "                        <td id=\"T_cef1c7c4_99ad_11ec_bac0_f8f21e712850row2_col1\" class=\"data row2 col1\" >1.11e+04</td>\n",
       "                        <td id=\"T_cef1c7c4_99ad_11ec_bac0_f8f21e712850row2_col2\" class=\"data row2 col2\" >0.112</td>\n",
       "                        <td id=\"T_cef1c7c4_99ad_11ec_bac0_f8f21e712850row2_col3\" class=\"data row2 col3\" >0.111</td>\n",
       "            </tr>\n",
       "            <tr>\n",
       "                        <th id=\"T_cef1c7c4_99ad_11ec_bac0_f8f21e712850level0_row3\" class=\"row_heading level0 row3\" >15</th>\n",
       "                        <td id=\"T_cef1c7c4_99ad_11ec_bac0_f8f21e712850row3_col0\" class=\"data row3 col0\" >1.07e+04</td>\n",
       "                        <td id=\"T_cef1c7c4_99ad_11ec_bac0_f8f21e712850row3_col1\" class=\"data row3 col1\" >1.07e+04</td>\n",
       "                        <td id=\"T_cef1c7c4_99ad_11ec_bac0_f8f21e712850row3_col2\" class=\"data row3 col2\" >0.086</td>\n",
       "                        <td id=\"T_cef1c7c4_99ad_11ec_bac0_f8f21e712850row3_col3\" class=\"data row3 col3\" >0.084</td>\n",
       "            </tr>\n",
       "    </tbody></table>"
      ],
      "text/plain": [
       "<pandas.io.formats.style.Styler at 0x7fafb9ff1550>"
      ]
     },
     "metadata": {},
     "output_type": "display_data"
    },
    {
     "name": "stdout",
     "output_type": "stream",
     "text": [
      "[\u001b[1mtardis.simulation.base\u001b[0m][\u001b[1;37mINFO\u001b[0m   ]  \n",
      "\t\n",
      "\tCurrent t_inner = 10642.050 K\n",
      "\tExpected t_inner for next iteration = 10636.106 K\n",
      " (\u001b[1mbase.py\u001b[0m:542)\n",
      "[\u001b[1mpy.warnings         \u001b[0m][\u001b[1;33mWARNING\u001b[0m]  \n",
      "\t/home/jobrien/Documents/soft/tardis/tardis/plasma/properties/radiative_properties.py:93: RuntimeWarning:\n",
      "\n",
      "invalid value encountered in true_divide\n",
      "\n",
      " (\u001b[1mwarnings.py\u001b[0m:110)\n",
      "[\u001b[1mtardis.simulation.base\u001b[0m][\u001b[1;37mINFO\u001b[0m   ]  \n",
      "\t\n",
      "\tStarting iteration 9 of 20 (\u001b[1mbase.py\u001b[0m:378)\n",
      "RUNNING WITHOUT CONTINUUM\n"
     ]
    },
    {
     "name": "stderr",
     "output_type": "stream",
     "text": [
      "warning: ignoring debug info with an invalid version (0) in <string>\n"
     ]
    },
    {
     "name": "stdout",
     "output_type": "stream",
     "text": [
      "[\u001b[1mpy.warnings         \u001b[0m][\u001b[1;33mWARNING\u001b[0m]  \n",
      "\t/home/jobrien/Documents/soft/tardis/tardis/montecarlo/montecarlo_numba/base.py:144: NumbaWarning:\n",
      "\n",
      "\u001b[1mCannot cache compiled function \"montecarlo_main_loop\" as it uses dynamic globals (such as ctypes pointers and large global arrays)\u001b[0m\n",
      "\n",
      " (\u001b[1mwarnings.py\u001b[0m:110)\n",
      "Done with Montecarlo Radial 1D\n",
      "[\u001b[1mtardis.simulation.base\u001b[0m][\u001b[1;37mINFO\u001b[0m   ]  \n",
      "\t\n",
      "\tLuminosity emitted   = 1.052e+43 erg / s\n",
      "\tLuminosity absorbed  = 3.411e+42 erg / s\n",
      "\tLuminosity requested = 1.059e+43 erg / s\n",
      " (\u001b[1mbase.py\u001b[0m:547)\n",
      "[\u001b[1mtardis.simulation.base\u001b[0m][\u001b[1;37mINFO\u001b[0m   ]  \n",
      "\tIteration converged 5/4 consecutive times. (\u001b[1mbase.py\u001b[0m:259)\n",
      "[\u001b[1mtardis.simulation.base\u001b[0m][\u001b[1;37mINFO\u001b[0m   ]  \n",
      "\t\n",
      "\tPlasma stratification: (\u001b[1mbase.py\u001b[0m:514)\n"
     ]
    },
    {
     "data": {
      "text/html": [
       "<style  type=\"text/css\" >\n",
       "</style><table id=\"T_d69d7662_99ad_11ec_bac0_f8f21e712850\" ><thead>    <tr>        <th class=\"index_name level0\" >Shell No.</th>        <th class=\"col_heading level0 col0\" >t_rad</th>        <th class=\"col_heading level0 col1\" >next_t_rad</th>        <th class=\"col_heading level0 col2\" >w</th>        <th class=\"col_heading level0 col3\" >next_w</th>    </tr></thead><tbody>\n",
       "                <tr>\n",
       "                        <th id=\"T_d69d7662_99ad_11ec_bac0_f8f21e712850level0_row0\" class=\"row_heading level0 row0\" >0</th>\n",
       "                        <td id=\"T_d69d7662_99ad_11ec_bac0_f8f21e712850row0_col0\" class=\"data row0 col0\" >1.11e+04</td>\n",
       "                        <td id=\"T_d69d7662_99ad_11ec_bac0_f8f21e712850row0_col1\" class=\"data row0 col1\" >1.11e+04</td>\n",
       "                        <td id=\"T_d69d7662_99ad_11ec_bac0_f8f21e712850row0_col2\" class=\"data row0 col2\" >0.472</td>\n",
       "                        <td id=\"T_d69d7662_99ad_11ec_bac0_f8f21e712850row0_col3\" class=\"data row0 col3\" >0.469</td>\n",
       "            </tr>\n",
       "            <tr>\n",
       "                        <th id=\"T_d69d7662_99ad_11ec_bac0_f8f21e712850level0_row1\" class=\"row_heading level0 row1\" >5</th>\n",
       "                        <td id=\"T_d69d7662_99ad_11ec_bac0_f8f21e712850row1_col0\" class=\"data row1 col0\" >1.14e+04</td>\n",
       "                        <td id=\"T_d69d7662_99ad_11ec_bac0_f8f21e712850row1_col1\" class=\"data row1 col1\" >1.15e+04</td>\n",
       "                        <td id=\"T_d69d7662_99ad_11ec_bac0_f8f21e712850row1_col2\" class=\"data row1 col2\" >0.175</td>\n",
       "                        <td id=\"T_d69d7662_99ad_11ec_bac0_f8f21e712850row1_col3\" class=\"data row1 col3\" >0.17</td>\n",
       "            </tr>\n",
       "            <tr>\n",
       "                        <th id=\"T_d69d7662_99ad_11ec_bac0_f8f21e712850level0_row2\" class=\"row_heading level0 row2\" >10</th>\n",
       "                        <td id=\"T_d69d7662_99ad_11ec_bac0_f8f21e712850row2_col0\" class=\"data row2 col0\" >1.11e+04</td>\n",
       "                        <td id=\"T_d69d7662_99ad_11ec_bac0_f8f21e712850row2_col1\" class=\"data row2 col1\" >1.11e+04</td>\n",
       "                        <td id=\"T_d69d7662_99ad_11ec_bac0_f8f21e712850row2_col2\" class=\"data row2 col2\" >0.111</td>\n",
       "                        <td id=\"T_d69d7662_99ad_11ec_bac0_f8f21e712850row2_col3\" class=\"data row2 col3\" >0.109</td>\n",
       "            </tr>\n",
       "            <tr>\n",
       "                        <th id=\"T_d69d7662_99ad_11ec_bac0_f8f21e712850level0_row3\" class=\"row_heading level0 row3\" >15</th>\n",
       "                        <td id=\"T_d69d7662_99ad_11ec_bac0_f8f21e712850row3_col0\" class=\"data row3 col0\" >1.07e+04</td>\n",
       "                        <td id=\"T_d69d7662_99ad_11ec_bac0_f8f21e712850row3_col1\" class=\"data row3 col1\" >1.08e+04</td>\n",
       "                        <td id=\"T_d69d7662_99ad_11ec_bac0_f8f21e712850row3_col2\" class=\"data row3 col2\" >0.084</td>\n",
       "                        <td id=\"T_d69d7662_99ad_11ec_bac0_f8f21e712850row3_col3\" class=\"data row3 col3\" >0.0822</td>\n",
       "            </tr>\n",
       "    </tbody></table>"
      ],
      "text/plain": [
       "<pandas.io.formats.style.Styler at 0x7fafed3afd50>"
      ]
     },
     "metadata": {},
     "output_type": "display_data"
    },
    {
     "name": "stdout",
     "output_type": "stream",
     "text": [
      "[\u001b[1mtardis.simulation.base\u001b[0m][\u001b[1;37mINFO\u001b[0m   ]  \n",
      "\t\n",
      "\tCurrent t_inner = 10636.106 K\n",
      "\tExpected t_inner for next iteration = 10654.313 K\n",
      " (\u001b[1mbase.py\u001b[0m:542)\n",
      "[\u001b[1mpy.warnings         \u001b[0m][\u001b[1;33mWARNING\u001b[0m]  \n",
      "\t/home/jobrien/Documents/soft/tardis/tardis/plasma/properties/radiative_properties.py:93: RuntimeWarning:\n",
      "\n",
      "invalid value encountered in true_divide\n",
      "\n",
      " (\u001b[1mwarnings.py\u001b[0m:110)\n",
      "[\u001b[1mtardis.simulation.base\u001b[0m][\u001b[1;37mINFO\u001b[0m   ]  \n",
      "\t\n",
      "\tStarting iteration 10 of 20 (\u001b[1mbase.py\u001b[0m:378)\n",
      "RUNNING WITHOUT CONTINUUM\n"
     ]
    },
    {
     "name": "stderr",
     "output_type": "stream",
     "text": [
      "warning: ignoring debug info with an invalid version (0) in <string>\n"
     ]
    },
    {
     "name": "stdout",
     "output_type": "stream",
     "text": [
      "[\u001b[1mpy.warnings         \u001b[0m][\u001b[1;33mWARNING\u001b[0m]  \n",
      "\t/home/jobrien/Documents/soft/tardis/tardis/montecarlo/montecarlo_numba/base.py:144: NumbaWarning:\n",
      "\n",
      "\u001b[1mCannot cache compiled function \"montecarlo_main_loop\" as it uses dynamic globals (such as ctypes pointers and large global arrays)\u001b[0m\n",
      "\n",
      " (\u001b[1mwarnings.py\u001b[0m:110)\n",
      "Done with Montecarlo Radial 1D\n",
      "[\u001b[1mtardis.simulation.base\u001b[0m][\u001b[1;37mINFO\u001b[0m   ]  \n",
      "\t\n",
      "\tLuminosity emitted   = 1.070e+43 erg / s\n",
      "\tLuminosity absorbed  = 3.335e+42 erg / s\n",
      "\tLuminosity requested = 1.059e+43 erg / s\n",
      " (\u001b[1mbase.py\u001b[0m:547)\n",
      "[\u001b[1mtardis.simulation.base\u001b[0m][\u001b[1;37mINFO\u001b[0m   ]  \n",
      "\t\n",
      "\tPlasma stratification: (\u001b[1mbase.py\u001b[0m:514)\n"
     ]
    },
    {
     "data": {
      "text/html": [
       "<style  type=\"text/css\" >\n",
       "</style><table id=\"T_dde41ff2_99ad_11ec_bac0_f8f21e712850\" ><thead>    <tr>        <th class=\"index_name level0\" >Shell No.</th>        <th class=\"col_heading level0 col0\" >t_rad</th>        <th class=\"col_heading level0 col1\" >next_t_rad</th>        <th class=\"col_heading level0 col2\" >w</th>        <th class=\"col_heading level0 col3\" >next_w</th>    </tr></thead><tbody>\n",
       "                <tr>\n",
       "                        <th id=\"T_dde41ff2_99ad_11ec_bac0_f8f21e712850level0_row0\" class=\"row_heading level0 row0\" >0</th>\n",
       "                        <td id=\"T_dde41ff2_99ad_11ec_bac0_f8f21e712850row0_col0\" class=\"data row0 col0\" >1.11e+04</td>\n",
       "                        <td id=\"T_dde41ff2_99ad_11ec_bac0_f8f21e712850row0_col1\" class=\"data row0 col1\" >1.1e+04</td>\n",
       "                        <td id=\"T_dde41ff2_99ad_11ec_bac0_f8f21e712850row0_col2\" class=\"data row0 col2\" >0.469</td>\n",
       "                        <td id=\"T_dde41ff2_99ad_11ec_bac0_f8f21e712850row0_col3\" class=\"data row0 col3\" >0.475</td>\n",
       "            </tr>\n",
       "            <tr>\n",
       "                        <th id=\"T_dde41ff2_99ad_11ec_bac0_f8f21e712850level0_row1\" class=\"row_heading level0 row1\" >5</th>\n",
       "                        <td id=\"T_dde41ff2_99ad_11ec_bac0_f8f21e712850row1_col0\" class=\"data row1 col0\" >1.15e+04</td>\n",
       "                        <td id=\"T_dde41ff2_99ad_11ec_bac0_f8f21e712850row1_col1\" class=\"data row1 col1\" >1.14e+04</td>\n",
       "                        <td id=\"T_dde41ff2_99ad_11ec_bac0_f8f21e712850row1_col2\" class=\"data row1 col2\" >0.17</td>\n",
       "                        <td id=\"T_dde41ff2_99ad_11ec_bac0_f8f21e712850row1_col3\" class=\"data row1 col3\" >0.177</td>\n",
       "            </tr>\n",
       "            <tr>\n",
       "                        <th id=\"T_dde41ff2_99ad_11ec_bac0_f8f21e712850level0_row2\" class=\"row_heading level0 row2\" >10</th>\n",
       "                        <td id=\"T_dde41ff2_99ad_11ec_bac0_f8f21e712850row2_col0\" class=\"data row2 col0\" >1.11e+04</td>\n",
       "                        <td id=\"T_dde41ff2_99ad_11ec_bac0_f8f21e712850row2_col1\" class=\"data row2 col1\" >1.11e+04</td>\n",
       "                        <td id=\"T_dde41ff2_99ad_11ec_bac0_f8f21e712850row2_col2\" class=\"data row2 col2\" >0.109</td>\n",
       "                        <td id=\"T_dde41ff2_99ad_11ec_bac0_f8f21e712850row2_col3\" class=\"data row2 col3\" >0.112</td>\n",
       "            </tr>\n",
       "            <tr>\n",
       "                        <th id=\"T_dde41ff2_99ad_11ec_bac0_f8f21e712850level0_row3\" class=\"row_heading level0 row3\" >15</th>\n",
       "                        <td id=\"T_dde41ff2_99ad_11ec_bac0_f8f21e712850row3_col0\" class=\"data row3 col0\" >1.08e+04</td>\n",
       "                        <td id=\"T_dde41ff2_99ad_11ec_bac0_f8f21e712850row3_col1\" class=\"data row3 col1\" >1.06e+04</td>\n",
       "                        <td id=\"T_dde41ff2_99ad_11ec_bac0_f8f21e712850row3_col2\" class=\"data row3 col2\" >0.0822</td>\n",
       "                        <td id=\"T_dde41ff2_99ad_11ec_bac0_f8f21e712850row3_col3\" class=\"data row3 col3\" >0.0878</td>\n",
       "            </tr>\n",
       "    </tbody></table>"
      ],
      "text/plain": [
       "<pandas.io.formats.style.Styler at 0x7fafb9fc8510>"
      ]
     },
     "metadata": {},
     "output_type": "display_data"
    },
    {
     "name": "stdout",
     "output_type": "stream",
     "text": [
      "[\u001b[1mtardis.simulation.base\u001b[0m][\u001b[1;37mINFO\u001b[0m   ]  \n",
      "\t\n",
      "\tCurrent t_inner = 10654.313 K\n",
      "\tExpected t_inner for next iteration = 10628.190 K\n",
      " (\u001b[1mbase.py\u001b[0m:542)\n",
      "[\u001b[1mpy.warnings         \u001b[0m][\u001b[1;33mWARNING\u001b[0m]  \n",
      "\t/home/jobrien/Documents/soft/tardis/tardis/plasma/properties/radiative_properties.py:93: RuntimeWarning:\n",
      "\n",
      "invalid value encountered in true_divide\n",
      "\n",
      " (\u001b[1mwarnings.py\u001b[0m:110)\n",
      "[\u001b[1mtardis.simulation.base\u001b[0m][\u001b[1;37mINFO\u001b[0m   ]  \n",
      "\t\n",
      "\tStarting iteration 11 of 20 (\u001b[1mbase.py\u001b[0m:378)\n",
      "RUNNING WITHOUT CONTINUUM\n"
     ]
    },
    {
     "name": "stderr",
     "output_type": "stream",
     "text": [
      "warning: ignoring debug info with an invalid version (0) in <string>\n"
     ]
    },
    {
     "name": "stdout",
     "output_type": "stream",
     "text": [
      "[\u001b[1mpy.warnings         \u001b[0m][\u001b[1;33mWARNING\u001b[0m]  \n",
      "\t/home/jobrien/Documents/soft/tardis/tardis/montecarlo/montecarlo_numba/base.py:144: NumbaWarning:\n",
      "\n",
      "\u001b[1mCannot cache compiled function \"montecarlo_main_loop\" as it uses dynamic globals (such as ctypes pointers and large global arrays)\u001b[0m\n",
      "\n",
      " (\u001b[1mwarnings.py\u001b[0m:110)\n",
      "Done with Montecarlo Radial 1D\n",
      "[\u001b[1mtardis.simulation.base\u001b[0m][\u001b[1;37mINFO\u001b[0m   ]  \n",
      "\t\n",
      "\tLuminosity emitted   = 1.053e+43 erg / s\n",
      "\tLuminosity absorbed  = 3.363e+42 erg / s\n",
      "\tLuminosity requested = 1.059e+43 erg / s\n",
      " (\u001b[1mbase.py\u001b[0m:547)\n",
      "[\u001b[1mtardis.simulation.base\u001b[0m][\u001b[1;37mINFO\u001b[0m   ]  \n",
      "\tIteration converged 1/4 consecutive times. (\u001b[1mbase.py\u001b[0m:259)\n",
      "[\u001b[1mtardis.simulation.base\u001b[0m][\u001b[1;37mINFO\u001b[0m   ]  \n",
      "\t\n",
      "\tPlasma stratification: (\u001b[1mbase.py\u001b[0m:514)\n"
     ]
    },
    {
     "data": {
      "text/html": [
       "<style  type=\"text/css\" >\n",
       "</style><table id=\"T_e57775f2_99ad_11ec_bac0_f8f21e712850\" ><thead>    <tr>        <th class=\"index_name level0\" >Shell No.</th>        <th class=\"col_heading level0 col0\" >t_rad</th>        <th class=\"col_heading level0 col1\" >next_t_rad</th>        <th class=\"col_heading level0 col2\" >w</th>        <th class=\"col_heading level0 col3\" >next_w</th>    </tr></thead><tbody>\n",
       "                <tr>\n",
       "                        <th id=\"T_e57775f2_99ad_11ec_bac0_f8f21e712850level0_row0\" class=\"row_heading level0 row0\" >0</th>\n",
       "                        <td id=\"T_e57775f2_99ad_11ec_bac0_f8f21e712850row0_col0\" class=\"data row0 col0\" >1.1e+04</td>\n",
       "                        <td id=\"T_e57775f2_99ad_11ec_bac0_f8f21e712850row0_col1\" class=\"data row0 col1\" >1.1e+04</td>\n",
       "                        <td id=\"T_e57775f2_99ad_11ec_bac0_f8f21e712850row0_col2\" class=\"data row0 col2\" >0.475</td>\n",
       "                        <td id=\"T_e57775f2_99ad_11ec_bac0_f8f21e712850row0_col3\" class=\"data row0 col3\" >0.472</td>\n",
       "            </tr>\n",
       "            <tr>\n",
       "                        <th id=\"T_e57775f2_99ad_11ec_bac0_f8f21e712850level0_row1\" class=\"row_heading level0 row1\" >5</th>\n",
       "                        <td id=\"T_e57775f2_99ad_11ec_bac0_f8f21e712850row1_col0\" class=\"data row1 col0\" >1.14e+04</td>\n",
       "                        <td id=\"T_e57775f2_99ad_11ec_bac0_f8f21e712850row1_col1\" class=\"data row1 col1\" >1.12e+04</td>\n",
       "                        <td id=\"T_e57775f2_99ad_11ec_bac0_f8f21e712850row1_col2\" class=\"data row1 col2\" >0.177</td>\n",
       "                        <td id=\"T_e57775f2_99ad_11ec_bac0_f8f21e712850row1_col3\" class=\"data row1 col3\" >0.184</td>\n",
       "            </tr>\n",
       "            <tr>\n",
       "                        <th id=\"T_e57775f2_99ad_11ec_bac0_f8f21e712850level0_row2\" class=\"row_heading level0 row2\" >10</th>\n",
       "                        <td id=\"T_e57775f2_99ad_11ec_bac0_f8f21e712850row2_col0\" class=\"data row2 col0\" >1.11e+04</td>\n",
       "                        <td id=\"T_e57775f2_99ad_11ec_bac0_f8f21e712850row2_col1\" class=\"data row2 col1\" >1.1e+04</td>\n",
       "                        <td id=\"T_e57775f2_99ad_11ec_bac0_f8f21e712850row2_col2\" class=\"data row2 col2\" >0.112</td>\n",
       "                        <td id=\"T_e57775f2_99ad_11ec_bac0_f8f21e712850row2_col3\" class=\"data row2 col3\" >0.114</td>\n",
       "            </tr>\n",
       "            <tr>\n",
       "                        <th id=\"T_e57775f2_99ad_11ec_bac0_f8f21e712850level0_row3\" class=\"row_heading level0 row3\" >15</th>\n",
       "                        <td id=\"T_e57775f2_99ad_11ec_bac0_f8f21e712850row3_col0\" class=\"data row3 col0\" >1.06e+04</td>\n",
       "                        <td id=\"T_e57775f2_99ad_11ec_bac0_f8f21e712850row3_col1\" class=\"data row3 col1\" >1.06e+04</td>\n",
       "                        <td id=\"T_e57775f2_99ad_11ec_bac0_f8f21e712850row3_col2\" class=\"data row3 col2\" >0.0878</td>\n",
       "                        <td id=\"T_e57775f2_99ad_11ec_bac0_f8f21e712850row3_col3\" class=\"data row3 col3\" >0.0859</td>\n",
       "            </tr>\n",
       "    </tbody></table>"
      ],
      "text/plain": [
       "<pandas.io.formats.style.Styler at 0x7fafa0cbb1d0>"
      ]
     },
     "metadata": {},
     "output_type": "display_data"
    },
    {
     "name": "stdout",
     "output_type": "stream",
     "text": [
      "[\u001b[1mtardis.simulation.base\u001b[0m][\u001b[1;37mINFO\u001b[0m   ]  \n",
      "\t\n",
      "\tCurrent t_inner = 10628.190 K\n",
      "\tExpected t_inner for next iteration = 10644.054 K\n",
      " (\u001b[1mbase.py\u001b[0m:542)\n",
      "[\u001b[1mpy.warnings         \u001b[0m][\u001b[1;33mWARNING\u001b[0m]  \n",
      "\t/home/jobrien/Documents/soft/tardis/tardis/plasma/properties/radiative_properties.py:93: RuntimeWarning:\n",
      "\n",
      "invalid value encountered in true_divide\n",
      "\n",
      " (\u001b[1mwarnings.py\u001b[0m:110)\n",
      "[\u001b[1mtardis.simulation.base\u001b[0m][\u001b[1;37mINFO\u001b[0m   ]  \n",
      "\t\n",
      "\tStarting iteration 12 of 20 (\u001b[1mbase.py\u001b[0m:378)\n",
      "RUNNING WITHOUT CONTINUUM\n"
     ]
    },
    {
     "name": "stderr",
     "output_type": "stream",
     "text": [
      "warning: ignoring debug info with an invalid version (0) in <string>\n"
     ]
    },
    {
     "name": "stdout",
     "output_type": "stream",
     "text": [
      "[\u001b[1mpy.warnings         \u001b[0m][\u001b[1;33mWARNING\u001b[0m]  \n",
      "\t/home/jobrien/Documents/soft/tardis/tardis/montecarlo/montecarlo_numba/base.py:144: NumbaWarning:\n",
      "\n",
      "\u001b[1mCannot cache compiled function \"montecarlo_main_loop\" as it uses dynamic globals (such as ctypes pointers and large global arrays)\u001b[0m\n",
      "\n",
      " (\u001b[1mwarnings.py\u001b[0m:110)\n",
      "Done with Montecarlo Radial 1D\n",
      "[\u001b[1mtardis.simulation.base\u001b[0m][\u001b[1;37mINFO\u001b[0m   ]  \n",
      "\t\n",
      "\tLuminosity emitted   = 1.056e+43 erg / s\n",
      "\tLuminosity absorbed  = 3.420e+42 erg / s\n",
      "\tLuminosity requested = 1.059e+43 erg / s\n",
      " (\u001b[1mbase.py\u001b[0m:547)\n",
      "[\u001b[1mtardis.simulation.base\u001b[0m][\u001b[1;37mINFO\u001b[0m   ]  \n",
      "\t\n",
      "\tPlasma stratification: (\u001b[1mbase.py\u001b[0m:514)\n"
     ]
    },
    {
     "data": {
      "text/html": [
       "<style  type=\"text/css\" >\n",
       "</style><table id=\"T_ed00f140_99ad_11ec_bac0_f8f21e712850\" ><thead>    <tr>        <th class=\"index_name level0\" >Shell No.</th>        <th class=\"col_heading level0 col0\" >t_rad</th>        <th class=\"col_heading level0 col1\" >next_t_rad</th>        <th class=\"col_heading level0 col2\" >w</th>        <th class=\"col_heading level0 col3\" >next_w</th>    </tr></thead><tbody>\n",
       "                <tr>\n",
       "                        <th id=\"T_ed00f140_99ad_11ec_bac0_f8f21e712850level0_row0\" class=\"row_heading level0 row0\" >0</th>\n",
       "                        <td id=\"T_ed00f140_99ad_11ec_bac0_f8f21e712850row0_col0\" class=\"data row0 col0\" >1.1e+04</td>\n",
       "                        <td id=\"T_ed00f140_99ad_11ec_bac0_f8f21e712850row0_col1\" class=\"data row0 col1\" >1.11e+04</td>\n",
       "                        <td id=\"T_ed00f140_99ad_11ec_bac0_f8f21e712850row0_col2\" class=\"data row0 col2\" >0.472</td>\n",
       "                        <td id=\"T_ed00f140_99ad_11ec_bac0_f8f21e712850row0_col3\" class=\"data row0 col3\" >0.467</td>\n",
       "            </tr>\n",
       "            <tr>\n",
       "                        <th id=\"T_ed00f140_99ad_11ec_bac0_f8f21e712850level0_row1\" class=\"row_heading level0 row1\" >5</th>\n",
       "                        <td id=\"T_ed00f140_99ad_11ec_bac0_f8f21e712850row1_col0\" class=\"data row1 col0\" >1.12e+04</td>\n",
       "                        <td id=\"T_ed00f140_99ad_11ec_bac0_f8f21e712850row1_col1\" class=\"data row1 col1\" >1.13e+04</td>\n",
       "                        <td id=\"T_ed00f140_99ad_11ec_bac0_f8f21e712850row1_col2\" class=\"data row1 col2\" >0.184</td>\n",
       "                        <td id=\"T_ed00f140_99ad_11ec_bac0_f8f21e712850row1_col3\" class=\"data row1 col3\" >0.176</td>\n",
       "            </tr>\n",
       "            <tr>\n",
       "                        <th id=\"T_ed00f140_99ad_11ec_bac0_f8f21e712850level0_row2\" class=\"row_heading level0 row2\" >10</th>\n",
       "                        <td id=\"T_ed00f140_99ad_11ec_bac0_f8f21e712850row2_col0\" class=\"data row2 col0\" >1.1e+04</td>\n",
       "                        <td id=\"T_ed00f140_99ad_11ec_bac0_f8f21e712850row2_col1\" class=\"data row2 col1\" >1.11e+04</td>\n",
       "                        <td id=\"T_ed00f140_99ad_11ec_bac0_f8f21e712850row2_col2\" class=\"data row2 col2\" >0.114</td>\n",
       "                        <td id=\"T_ed00f140_99ad_11ec_bac0_f8f21e712850row2_col3\" class=\"data row2 col3\" >0.11</td>\n",
       "            </tr>\n",
       "            <tr>\n",
       "                        <th id=\"T_ed00f140_99ad_11ec_bac0_f8f21e712850level0_row3\" class=\"row_heading level0 row3\" >15</th>\n",
       "                        <td id=\"T_ed00f140_99ad_11ec_bac0_f8f21e712850row3_col0\" class=\"data row3 col0\" >1.06e+04</td>\n",
       "                        <td id=\"T_ed00f140_99ad_11ec_bac0_f8f21e712850row3_col1\" class=\"data row3 col1\" >1.08e+04</td>\n",
       "                        <td id=\"T_ed00f140_99ad_11ec_bac0_f8f21e712850row3_col2\" class=\"data row3 col2\" >0.0859</td>\n",
       "                        <td id=\"T_ed00f140_99ad_11ec_bac0_f8f21e712850row3_col3\" class=\"data row3 col3\" >0.0821</td>\n",
       "            </tr>\n",
       "    </tbody></table>"
      ],
      "text/plain": [
       "<pandas.io.formats.style.Styler at 0x7fafa8f152d0>"
      ]
     },
     "metadata": {},
     "output_type": "display_data"
    },
    {
     "name": "stdout",
     "output_type": "stream",
     "text": [
      "[\u001b[1mtardis.simulation.base\u001b[0m][\u001b[1;37mINFO\u001b[0m   ]  \n",
      "\t\n",
      "\tCurrent t_inner = 10644.054 K\n",
      "\tExpected t_inner for next iteration = 10653.543 K\n",
      " (\u001b[1mbase.py\u001b[0m:542)\n",
      "[\u001b[1mpy.warnings         \u001b[0m][\u001b[1;33mWARNING\u001b[0m]  \n",
      "\t/home/jobrien/Documents/soft/tardis/tardis/plasma/properties/radiative_properties.py:93: RuntimeWarning:\n",
      "\n",
      "invalid value encountered in true_divide\n",
      "\n",
      " (\u001b[1mwarnings.py\u001b[0m:110)\n",
      "[\u001b[1mtardis.simulation.base\u001b[0m][\u001b[1;37mINFO\u001b[0m   ]  \n",
      "\t\n",
      "\tStarting iteration 13 of 20 (\u001b[1mbase.py\u001b[0m:378)\n",
      "RUNNING WITHOUT CONTINUUM\n"
     ]
    },
    {
     "name": "stderr",
     "output_type": "stream",
     "text": [
      "warning: ignoring debug info with an invalid version (0) in <string>\n"
     ]
    },
    {
     "name": "stdout",
     "output_type": "stream",
     "text": [
      "[\u001b[1mpy.warnings         \u001b[0m][\u001b[1;33mWARNING\u001b[0m]  \n",
      "\t/home/jobrien/Documents/soft/tardis/tardis/montecarlo/montecarlo_numba/base.py:144: NumbaWarning:\n",
      "\n",
      "\u001b[1mCannot cache compiled function \"montecarlo_main_loop\" as it uses dynamic globals (such as ctypes pointers and large global arrays)\u001b[0m\n",
      "\n",
      " (\u001b[1mwarnings.py\u001b[0m:110)\n",
      "Done with Montecarlo Radial 1D\n",
      "[\u001b[1mtardis.simulation.base\u001b[0m][\u001b[1;37mINFO\u001b[0m   ]  \n",
      "\t\n",
      "\tLuminosity emitted   = 1.062e+43 erg / s\n",
      "\tLuminosity absorbed  = 3.406e+42 erg / s\n",
      "\tLuminosity requested = 1.059e+43 erg / s\n",
      " (\u001b[1mbase.py\u001b[0m:547)\n",
      "[\u001b[1mtardis.simulation.base\u001b[0m][\u001b[1;37mINFO\u001b[0m   ]  \n",
      "\tIteration converged 1/4 consecutive times. (\u001b[1mbase.py\u001b[0m:259)\n",
      "[\u001b[1mtardis.simulation.base\u001b[0m][\u001b[1;37mINFO\u001b[0m   ]  \n",
      "\t\n",
      "\tPlasma stratification: (\u001b[1mbase.py\u001b[0m:514)\n"
     ]
    },
    {
     "data": {
      "text/html": [
       "<style  type=\"text/css\" >\n",
       "</style><table id=\"T_f4949e20_99ad_11ec_bac0_f8f21e712850\" ><thead>    <tr>        <th class=\"index_name level0\" >Shell No.</th>        <th class=\"col_heading level0 col0\" >t_rad</th>        <th class=\"col_heading level0 col1\" >next_t_rad</th>        <th class=\"col_heading level0 col2\" >w</th>        <th class=\"col_heading level0 col3\" >next_w</th>    </tr></thead><tbody>\n",
       "                <tr>\n",
       "                        <th id=\"T_f4949e20_99ad_11ec_bac0_f8f21e712850level0_row0\" class=\"row_heading level0 row0\" >0</th>\n",
       "                        <td id=\"T_f4949e20_99ad_11ec_bac0_f8f21e712850row0_col0\" class=\"data row0 col0\" >1.11e+04</td>\n",
       "                        <td id=\"T_f4949e20_99ad_11ec_bac0_f8f21e712850row0_col1\" class=\"data row0 col1\" >1.11e+04</td>\n",
       "                        <td id=\"T_f4949e20_99ad_11ec_bac0_f8f21e712850row0_col2\" class=\"data row0 col2\" >0.467</td>\n",
       "                        <td id=\"T_f4949e20_99ad_11ec_bac0_f8f21e712850row0_col3\" class=\"data row0 col3\" >0.466</td>\n",
       "            </tr>\n",
       "            <tr>\n",
       "                        <th id=\"T_f4949e20_99ad_11ec_bac0_f8f21e712850level0_row1\" class=\"row_heading level0 row1\" >5</th>\n",
       "                        <td id=\"T_f4949e20_99ad_11ec_bac0_f8f21e712850row1_col0\" class=\"data row1 col0\" >1.13e+04</td>\n",
       "                        <td id=\"T_f4949e20_99ad_11ec_bac0_f8f21e712850row1_col1\" class=\"data row1 col1\" >1.13e+04</td>\n",
       "                        <td id=\"T_f4949e20_99ad_11ec_bac0_f8f21e712850row1_col2\" class=\"data row1 col2\" >0.176</td>\n",
       "                        <td id=\"T_f4949e20_99ad_11ec_bac0_f8f21e712850row1_col3\" class=\"data row1 col3\" >0.18</td>\n",
       "            </tr>\n",
       "            <tr>\n",
       "                        <th id=\"T_f4949e20_99ad_11ec_bac0_f8f21e712850level0_row2\" class=\"row_heading level0 row2\" >10</th>\n",
       "                        <td id=\"T_f4949e20_99ad_11ec_bac0_f8f21e712850row2_col0\" class=\"data row2 col0\" >1.11e+04</td>\n",
       "                        <td id=\"T_f4949e20_99ad_11ec_bac0_f8f21e712850row2_col1\" class=\"data row2 col1\" >1.11e+04</td>\n",
       "                        <td id=\"T_f4949e20_99ad_11ec_bac0_f8f21e712850row2_col2\" class=\"data row2 col2\" >0.11</td>\n",
       "                        <td id=\"T_f4949e20_99ad_11ec_bac0_f8f21e712850row2_col3\" class=\"data row2 col3\" >0.111</td>\n",
       "            </tr>\n",
       "            <tr>\n",
       "                        <th id=\"T_f4949e20_99ad_11ec_bac0_f8f21e712850level0_row3\" class=\"row_heading level0 row3\" >15</th>\n",
       "                        <td id=\"T_f4949e20_99ad_11ec_bac0_f8f21e712850row3_col0\" class=\"data row3 col0\" >1.08e+04</td>\n",
       "                        <td id=\"T_f4949e20_99ad_11ec_bac0_f8f21e712850row3_col1\" class=\"data row3 col1\" >1.08e+04</td>\n",
       "                        <td id=\"T_f4949e20_99ad_11ec_bac0_f8f21e712850row3_col2\" class=\"data row3 col2\" >0.0821</td>\n",
       "                        <td id=\"T_f4949e20_99ad_11ec_bac0_f8f21e712850row3_col3\" class=\"data row3 col3\" >0.0841</td>\n",
       "            </tr>\n",
       "    </tbody></table>"
      ],
      "text/plain": [
       "<pandas.io.formats.style.Styler at 0x7fafd397ee50>"
      ]
     },
     "metadata": {},
     "output_type": "display_data"
    },
    {
     "name": "stdout",
     "output_type": "stream",
     "text": [
      "[\u001b[1mtardis.simulation.base\u001b[0m][\u001b[1;37mINFO\u001b[0m   ]  \n",
      "\t\n",
      "\tCurrent t_inner = 10653.543 K\n",
      "\tExpected t_inner for next iteration = 10647.277 K\n",
      " (\u001b[1mbase.py\u001b[0m:542)\n",
      "[\u001b[1mpy.warnings         \u001b[0m][\u001b[1;33mWARNING\u001b[0m]  \n",
      "\t/home/jobrien/Documents/soft/tardis/tardis/plasma/properties/radiative_properties.py:93: RuntimeWarning:\n",
      "\n",
      "invalid value encountered in true_divide\n",
      "\n",
      " (\u001b[1mwarnings.py\u001b[0m:110)\n",
      "[\u001b[1mtardis.simulation.base\u001b[0m][\u001b[1;37mINFO\u001b[0m   ]  \n",
      "\t\n",
      "\tStarting iteration 14 of 20 (\u001b[1mbase.py\u001b[0m:378)\n",
      "RUNNING WITHOUT CONTINUUM\n"
     ]
    },
    {
     "name": "stderr",
     "output_type": "stream",
     "text": [
      "warning: ignoring debug info with an invalid version (0) in <string>\n"
     ]
    },
    {
     "name": "stdout",
     "output_type": "stream",
     "text": [
      "[\u001b[1mpy.warnings         \u001b[0m][\u001b[1;33mWARNING\u001b[0m]  \n",
      "\t/home/jobrien/Documents/soft/tardis/tardis/montecarlo/montecarlo_numba/base.py:144: NumbaWarning:\n",
      "\n",
      "\u001b[1mCannot cache compiled function \"montecarlo_main_loop\" as it uses dynamic globals (such as ctypes pointers and large global arrays)\u001b[0m\n",
      "\n",
      " (\u001b[1mwarnings.py\u001b[0m:110)\n",
      "Done with Montecarlo Radial 1D\n",
      "[\u001b[1mtardis.simulation.base\u001b[0m][\u001b[1;37mINFO\u001b[0m   ]  \n",
      "\t\n",
      "\tLuminosity emitted   = 1.063e+43 erg / s\n",
      "\tLuminosity absorbed  = 3.369e+42 erg / s\n",
      "\tLuminosity requested = 1.059e+43 erg / s\n",
      " (\u001b[1mbase.py\u001b[0m:547)\n",
      "[\u001b[1mtardis.simulation.base\u001b[0m][\u001b[1;37mINFO\u001b[0m   ]  \n",
      "\tIteration converged 2/4 consecutive times. (\u001b[1mbase.py\u001b[0m:259)\n",
      "[\u001b[1mtardis.simulation.base\u001b[0m][\u001b[1;37mINFO\u001b[0m   ]  \n",
      "\t\n",
      "\tPlasma stratification: (\u001b[1mbase.py\u001b[0m:514)\n"
     ]
    },
    {
     "data": {
      "text/html": [
       "<style  type=\"text/css\" >\n",
       "</style><table id=\"T_fbdf0c10_99ad_11ec_bac0_f8f21e712850\" ><thead>    <tr>        <th class=\"index_name level0\" >Shell No.</th>        <th class=\"col_heading level0 col0\" >t_rad</th>        <th class=\"col_heading level0 col1\" >next_t_rad</th>        <th class=\"col_heading level0 col2\" >w</th>        <th class=\"col_heading level0 col3\" >next_w</th>    </tr></thead><tbody>\n",
       "                <tr>\n",
       "                        <th id=\"T_fbdf0c10_99ad_11ec_bac0_f8f21e712850level0_row0\" class=\"row_heading level0 row0\" >0</th>\n",
       "                        <td id=\"T_fbdf0c10_99ad_11ec_bac0_f8f21e712850row0_col0\" class=\"data row0 col0\" >1.11e+04</td>\n",
       "                        <td id=\"T_fbdf0c10_99ad_11ec_bac0_f8f21e712850row0_col1\" class=\"data row0 col1\" >1.11e+04</td>\n",
       "                        <td id=\"T_fbdf0c10_99ad_11ec_bac0_f8f21e712850row0_col2\" class=\"data row0 col2\" >0.466</td>\n",
       "                        <td id=\"T_fbdf0c10_99ad_11ec_bac0_f8f21e712850row0_col3\" class=\"data row0 col3\" >0.469</td>\n",
       "            </tr>\n",
       "            <tr>\n",
       "                        <th id=\"T_fbdf0c10_99ad_11ec_bac0_f8f21e712850level0_row1\" class=\"row_heading level0 row1\" >5</th>\n",
       "                        <td id=\"T_fbdf0c10_99ad_11ec_bac0_f8f21e712850row1_col0\" class=\"data row1 col0\" >1.13e+04</td>\n",
       "                        <td id=\"T_fbdf0c10_99ad_11ec_bac0_f8f21e712850row1_col1\" class=\"data row1 col1\" >1.13e+04</td>\n",
       "                        <td id=\"T_fbdf0c10_99ad_11ec_bac0_f8f21e712850row1_col2\" class=\"data row1 col2\" >0.18</td>\n",
       "                        <td id=\"T_fbdf0c10_99ad_11ec_bac0_f8f21e712850row1_col3\" class=\"data row1 col3\" >0.182</td>\n",
       "            </tr>\n",
       "            <tr>\n",
       "                        <th id=\"T_fbdf0c10_99ad_11ec_bac0_f8f21e712850level0_row2\" class=\"row_heading level0 row2\" >10</th>\n",
       "                        <td id=\"T_fbdf0c10_99ad_11ec_bac0_f8f21e712850row2_col0\" class=\"data row2 col0\" >1.11e+04</td>\n",
       "                        <td id=\"T_fbdf0c10_99ad_11ec_bac0_f8f21e712850row2_col1\" class=\"data row2 col1\" >1.1e+04</td>\n",
       "                        <td id=\"T_fbdf0c10_99ad_11ec_bac0_f8f21e712850row2_col2\" class=\"data row2 col2\" >0.111</td>\n",
       "                        <td id=\"T_fbdf0c10_99ad_11ec_bac0_f8f21e712850row2_col3\" class=\"data row2 col3\" >0.113</td>\n",
       "            </tr>\n",
       "            <tr>\n",
       "                        <th id=\"T_fbdf0c10_99ad_11ec_bac0_f8f21e712850level0_row3\" class=\"row_heading level0 row3\" >15</th>\n",
       "                        <td id=\"T_fbdf0c10_99ad_11ec_bac0_f8f21e712850row3_col0\" class=\"data row3 col0\" >1.08e+04</td>\n",
       "                        <td id=\"T_fbdf0c10_99ad_11ec_bac0_f8f21e712850row3_col1\" class=\"data row3 col1\" >1.07e+04</td>\n",
       "                        <td id=\"T_fbdf0c10_99ad_11ec_bac0_f8f21e712850row3_col2\" class=\"data row3 col2\" >0.0841</td>\n",
       "                        <td id=\"T_fbdf0c10_99ad_11ec_bac0_f8f21e712850row3_col3\" class=\"data row3 col3\" >0.0854</td>\n",
       "            </tr>\n",
       "    </tbody></table>"
      ],
      "text/plain": [
       "<pandas.io.formats.style.Styler at 0x7faf7e7185d0>"
      ]
     },
     "metadata": {},
     "output_type": "display_data"
    },
    {
     "name": "stdout",
     "output_type": "stream",
     "text": [
      "[\u001b[1mtardis.simulation.base\u001b[0m][\u001b[1;37mINFO\u001b[0m   ]  \n",
      "\t\n",
      "\tCurrent t_inner = 10647.277 K\n",
      "\tExpected t_inner for next iteration = 10638.875 K\n",
      " (\u001b[1mbase.py\u001b[0m:542)\n",
      "[\u001b[1mpy.warnings         \u001b[0m][\u001b[1;33mWARNING\u001b[0m]  \n",
      "\t/home/jobrien/Documents/soft/tardis/tardis/plasma/properties/radiative_properties.py:93: RuntimeWarning:\n",
      "\n",
      "invalid value encountered in true_divide\n",
      "\n",
      " (\u001b[1mwarnings.py\u001b[0m:110)\n",
      "[\u001b[1mtardis.simulation.base\u001b[0m][\u001b[1;37mINFO\u001b[0m   ]  \n",
      "\t\n",
      "\tStarting iteration 15 of 20 (\u001b[1mbase.py\u001b[0m:378)\n",
      "RUNNING WITHOUT CONTINUUM\n"
     ]
    },
    {
     "name": "stderr",
     "output_type": "stream",
     "text": [
      "warning: ignoring debug info with an invalid version (0) in <string>\n"
     ]
    },
    {
     "name": "stdout",
     "output_type": "stream",
     "text": [
      "[\u001b[1mpy.warnings         \u001b[0m][\u001b[1;33mWARNING\u001b[0m]  \n",
      "\t/home/jobrien/Documents/soft/tardis/tardis/montecarlo/montecarlo_numba/base.py:144: NumbaWarning:\n",
      "\n",
      "\u001b[1mCannot cache compiled function \"montecarlo_main_loop\" as it uses dynamic globals (such as ctypes pointers and large global arrays)\u001b[0m\n",
      "\n",
      " (\u001b[1mwarnings.py\u001b[0m:110)\n",
      "Done with Montecarlo Radial 1D\n",
      "[\u001b[1mtardis.simulation.base\u001b[0m][\u001b[1;37mINFO\u001b[0m   ]  \n",
      "\t\n",
      "\tLuminosity emitted   = 1.053e+43 erg / s\n",
      "\tLuminosity absorbed  = 3.417e+42 erg / s\n",
      "\tLuminosity requested = 1.059e+43 erg / s\n",
      " (\u001b[1mbase.py\u001b[0m:547)\n",
      "[\u001b[1mtardis.simulation.base\u001b[0m][\u001b[1;37mINFO\u001b[0m   ]  \n",
      "\tIteration converged 3/4 consecutive times. (\u001b[1mbase.py\u001b[0m:259)\n",
      "[\u001b[1mtardis.simulation.base\u001b[0m][\u001b[1;37mINFO\u001b[0m   ]  \n",
      "\t\n",
      "\tPlasma stratification: (\u001b[1mbase.py\u001b[0m:514)\n"
     ]
    },
    {
     "data": {
      "text/html": [
       "<style  type=\"text/css\" >\n",
       "</style><table id=\"T_0387d28a_99ae_11ec_bac0_f8f21e712850\" ><thead>    <tr>        <th class=\"index_name level0\" >Shell No.</th>        <th class=\"col_heading level0 col0\" >t_rad</th>        <th class=\"col_heading level0 col1\" >next_t_rad</th>        <th class=\"col_heading level0 col2\" >w</th>        <th class=\"col_heading level0 col3\" >next_w</th>    </tr></thead><tbody>\n",
       "                <tr>\n",
       "                        <th id=\"T_0387d28a_99ae_11ec_bac0_f8f21e712850level0_row0\" class=\"row_heading level0 row0\" >0</th>\n",
       "                        <td id=\"T_0387d28a_99ae_11ec_bac0_f8f21e712850row0_col0\" class=\"data row0 col0\" >1.11e+04</td>\n",
       "                        <td id=\"T_0387d28a_99ae_11ec_bac0_f8f21e712850row0_col1\" class=\"data row0 col1\" >1.1e+04</td>\n",
       "                        <td id=\"T_0387d28a_99ae_11ec_bac0_f8f21e712850row0_col2\" class=\"data row0 col2\" >0.469</td>\n",
       "                        <td id=\"T_0387d28a_99ae_11ec_bac0_f8f21e712850row0_col3\" class=\"data row0 col3\" >0.484</td>\n",
       "            </tr>\n",
       "            <tr>\n",
       "                        <th id=\"T_0387d28a_99ae_11ec_bac0_f8f21e712850level0_row1\" class=\"row_heading level0 row1\" >5</th>\n",
       "                        <td id=\"T_0387d28a_99ae_11ec_bac0_f8f21e712850row1_col0\" class=\"data row1 col0\" >1.13e+04</td>\n",
       "                        <td id=\"T_0387d28a_99ae_11ec_bac0_f8f21e712850row1_col1\" class=\"data row1 col1\" >1.13e+04</td>\n",
       "                        <td id=\"T_0387d28a_99ae_11ec_bac0_f8f21e712850row1_col2\" class=\"data row1 col2\" >0.182</td>\n",
       "                        <td id=\"T_0387d28a_99ae_11ec_bac0_f8f21e712850row1_col3\" class=\"data row1 col3\" >0.181</td>\n",
       "            </tr>\n",
       "            <tr>\n",
       "                        <th id=\"T_0387d28a_99ae_11ec_bac0_f8f21e712850level0_row2\" class=\"row_heading level0 row2\" >10</th>\n",
       "                        <td id=\"T_0387d28a_99ae_11ec_bac0_f8f21e712850row2_col0\" class=\"data row2 col0\" >1.1e+04</td>\n",
       "                        <td id=\"T_0387d28a_99ae_11ec_bac0_f8f21e712850row2_col1\" class=\"data row2 col1\" >1.1e+04</td>\n",
       "                        <td id=\"T_0387d28a_99ae_11ec_bac0_f8f21e712850row2_col2\" class=\"data row2 col2\" >0.113</td>\n",
       "                        <td id=\"T_0387d28a_99ae_11ec_bac0_f8f21e712850row2_col3\" class=\"data row2 col3\" >0.113</td>\n",
       "            </tr>\n",
       "            <tr>\n",
       "                        <th id=\"T_0387d28a_99ae_11ec_bac0_f8f21e712850level0_row3\" class=\"row_heading level0 row3\" >15</th>\n",
       "                        <td id=\"T_0387d28a_99ae_11ec_bac0_f8f21e712850row3_col0\" class=\"data row3 col0\" >1.07e+04</td>\n",
       "                        <td id=\"T_0387d28a_99ae_11ec_bac0_f8f21e712850row3_col1\" class=\"data row3 col1\" >1.07e+04</td>\n",
       "                        <td id=\"T_0387d28a_99ae_11ec_bac0_f8f21e712850row3_col2\" class=\"data row3 col2\" >0.0854</td>\n",
       "                        <td id=\"T_0387d28a_99ae_11ec_bac0_f8f21e712850row3_col3\" class=\"data row3 col3\" >0.0858</td>\n",
       "            </tr>\n",
       "    </tbody></table>"
      ],
      "text/plain": [
       "<pandas.io.formats.style.Styler at 0x7fafa0d14450>"
      ]
     },
     "metadata": {},
     "output_type": "display_data"
    },
    {
     "name": "stdout",
     "output_type": "stream",
     "text": [
      "[\u001b[1mtardis.simulation.base\u001b[0m][\u001b[1;37mINFO\u001b[0m   ]  \n",
      "\t\n",
      "\tCurrent t_inner = 10638.875 K\n",
      "\tExpected t_inner for next iteration = 10655.125 K\n",
      " (\u001b[1mbase.py\u001b[0m:542)\n",
      "[\u001b[1mpy.warnings         \u001b[0m][\u001b[1;33mWARNING\u001b[0m]  \n",
      "\t/home/jobrien/Documents/soft/tardis/tardis/plasma/properties/radiative_properties.py:93: RuntimeWarning:\n",
      "\n",
      "invalid value encountered in true_divide\n",
      "\n",
      " (\u001b[1mwarnings.py\u001b[0m:110)\n",
      "[\u001b[1mtardis.simulation.base\u001b[0m][\u001b[1;37mINFO\u001b[0m   ]  \n",
      "\t\n",
      "\tStarting iteration 16 of 20 (\u001b[1mbase.py\u001b[0m:378)\n",
      "RUNNING WITHOUT CONTINUUM\n"
     ]
    },
    {
     "name": "stderr",
     "output_type": "stream",
     "text": [
      "warning: ignoring debug info with an invalid version (0) in <string>\n"
     ]
    },
    {
     "name": "stdout",
     "output_type": "stream",
     "text": [
      "[\u001b[1mpy.warnings         \u001b[0m][\u001b[1;33mWARNING\u001b[0m]  \n",
      "\t/home/jobrien/Documents/soft/tardis/tardis/montecarlo/montecarlo_numba/base.py:144: NumbaWarning:\n",
      "\n",
      "\u001b[1mCannot cache compiled function \"montecarlo_main_loop\" as it uses dynamic globals (such as ctypes pointers and large global arrays)\u001b[0m\n",
      "\n",
      " (\u001b[1mwarnings.py\u001b[0m:110)\n",
      "Done with Montecarlo Radial 1D\n",
      "[\u001b[1mtardis.simulation.base\u001b[0m][\u001b[1;37mINFO\u001b[0m   ]  \n",
      "\t\n",
      "\tLuminosity emitted   = 1.059e+43 erg / s\n",
      "\tLuminosity absorbed  = 3.445e+42 erg / s\n",
      "\tLuminosity requested = 1.059e+43 erg / s\n",
      " (\u001b[1mbase.py\u001b[0m:547)\n",
      "[\u001b[1mtardis.simulation.base\u001b[0m][\u001b[1;37mINFO\u001b[0m   ]  \n",
      "\tIteration converged 4/4 consecutive times. (\u001b[1mbase.py\u001b[0m:259)\n",
      "[\u001b[1mtardis.simulation.base\u001b[0m][\u001b[1;37mINFO\u001b[0m   ]  \n",
      "\t\n",
      "\tPlasma stratification: (\u001b[1mbase.py\u001b[0m:514)\n"
     ]
    },
    {
     "data": {
      "text/html": [
       "<style  type=\"text/css\" >\n",
       "</style><table id=\"T_0ae3bfb2_99ae_11ec_bac0_f8f21e712850\" ><thead>    <tr>        <th class=\"index_name level0\" >Shell No.</th>        <th class=\"col_heading level0 col0\" >t_rad</th>        <th class=\"col_heading level0 col1\" >next_t_rad</th>        <th class=\"col_heading level0 col2\" >w</th>        <th class=\"col_heading level0 col3\" >next_w</th>    </tr></thead><tbody>\n",
       "                <tr>\n",
       "                        <th id=\"T_0ae3bfb2_99ae_11ec_bac0_f8f21e712850level0_row0\" class=\"row_heading level0 row0\" >0</th>\n",
       "                        <td id=\"T_0ae3bfb2_99ae_11ec_bac0_f8f21e712850row0_col0\" class=\"data row0 col0\" >1.1e+04</td>\n",
       "                        <td id=\"T_0ae3bfb2_99ae_11ec_bac0_f8f21e712850row0_col1\" class=\"data row0 col1\" >1.1e+04</td>\n",
       "                        <td id=\"T_0ae3bfb2_99ae_11ec_bac0_f8f21e712850row0_col2\" class=\"data row0 col2\" >0.484</td>\n",
       "                        <td id=\"T_0ae3bfb2_99ae_11ec_bac0_f8f21e712850row0_col3\" class=\"data row0 col3\" >0.472</td>\n",
       "            </tr>\n",
       "            <tr>\n",
       "                        <th id=\"T_0ae3bfb2_99ae_11ec_bac0_f8f21e712850level0_row1\" class=\"row_heading level0 row1\" >5</th>\n",
       "                        <td id=\"T_0ae3bfb2_99ae_11ec_bac0_f8f21e712850row1_col0\" class=\"data row1 col0\" >1.13e+04</td>\n",
       "                        <td id=\"T_0ae3bfb2_99ae_11ec_bac0_f8f21e712850row1_col1\" class=\"data row1 col1\" >1.13e+04</td>\n",
       "                        <td id=\"T_0ae3bfb2_99ae_11ec_bac0_f8f21e712850row1_col2\" class=\"data row1 col2\" >0.181</td>\n",
       "                        <td id=\"T_0ae3bfb2_99ae_11ec_bac0_f8f21e712850row1_col3\" class=\"data row1 col3\" >0.177</td>\n",
       "            </tr>\n",
       "            <tr>\n",
       "                        <th id=\"T_0ae3bfb2_99ae_11ec_bac0_f8f21e712850level0_row2\" class=\"row_heading level0 row2\" >10</th>\n",
       "                        <td id=\"T_0ae3bfb2_99ae_11ec_bac0_f8f21e712850row2_col0\" class=\"data row2 col0\" >1.1e+04</td>\n",
       "                        <td id=\"T_0ae3bfb2_99ae_11ec_bac0_f8f21e712850row2_col1\" class=\"data row2 col1\" >1.1e+04</td>\n",
       "                        <td id=\"T_0ae3bfb2_99ae_11ec_bac0_f8f21e712850row2_col2\" class=\"data row2 col2\" >0.113</td>\n",
       "                        <td id=\"T_0ae3bfb2_99ae_11ec_bac0_f8f21e712850row2_col3\" class=\"data row2 col3\" >0.113</td>\n",
       "            </tr>\n",
       "            <tr>\n",
       "                        <th id=\"T_0ae3bfb2_99ae_11ec_bac0_f8f21e712850level0_row3\" class=\"row_heading level0 row3\" >15</th>\n",
       "                        <td id=\"T_0ae3bfb2_99ae_11ec_bac0_f8f21e712850row3_col0\" class=\"data row3 col0\" >1.07e+04</td>\n",
       "                        <td id=\"T_0ae3bfb2_99ae_11ec_bac0_f8f21e712850row3_col1\" class=\"data row3 col1\" >1.06e+04</td>\n",
       "                        <td id=\"T_0ae3bfb2_99ae_11ec_bac0_f8f21e712850row3_col2\" class=\"data row3 col2\" >0.0858</td>\n",
       "                        <td id=\"T_0ae3bfb2_99ae_11ec_bac0_f8f21e712850row3_col3\" class=\"data row3 col3\" >0.0858</td>\n",
       "            </tr>\n",
       "    </tbody></table>"
      ],
      "text/plain": [
       "<pandas.io.formats.style.Styler at 0x7fafa0bf2590>"
      ]
     },
     "metadata": {},
     "output_type": "display_data"
    },
    {
     "name": "stdout",
     "output_type": "stream",
     "text": [
      "[\u001b[1mtardis.simulation.base\u001b[0m][\u001b[1;37mINFO\u001b[0m   ]  \n",
      "\t\n",
      "\tCurrent t_inner = 10655.125 K\n",
      "\tExpected t_inner for next iteration = 10655.561 K\n",
      " (\u001b[1mbase.py\u001b[0m:542)\n",
      "[\u001b[1mpy.warnings         \u001b[0m][\u001b[1;33mWARNING\u001b[0m]  \n",
      "\t/home/jobrien/Documents/soft/tardis/tardis/plasma/properties/radiative_properties.py:93: RuntimeWarning:\n",
      "\n",
      "invalid value encountered in true_divide\n",
      "\n",
      " (\u001b[1mwarnings.py\u001b[0m:110)\n",
      "[\u001b[1mtardis.simulation.base\u001b[0m][\u001b[1;37mINFO\u001b[0m   ]  \n",
      "\t\n",
      "\tStarting iteration 17 of 20 (\u001b[1mbase.py\u001b[0m:378)\n",
      "RUNNING WITHOUT CONTINUUM\n"
     ]
    },
    {
     "name": "stderr",
     "output_type": "stream",
     "text": [
      "warning: ignoring debug info with an invalid version (0) in <string>\n"
     ]
    },
    {
     "name": "stdout",
     "output_type": "stream",
     "text": [
      "[\u001b[1mpy.warnings         \u001b[0m][\u001b[1;33mWARNING\u001b[0m]  \n",
      "\t/home/jobrien/Documents/soft/tardis/tardis/montecarlo/montecarlo_numba/base.py:144: NumbaWarning:\n",
      "\n",
      "\u001b[1mCannot cache compiled function \"montecarlo_main_loop\" as it uses dynamic globals (such as ctypes pointers and large global arrays)\u001b[0m\n",
      "\n",
      " (\u001b[1mwarnings.py\u001b[0m:110)\n",
      "Done with Montecarlo Radial 1D\n",
      "[\u001b[1mtardis.simulation.base\u001b[0m][\u001b[1;37mINFO\u001b[0m   ]  \n",
      "\t\n",
      "\tLuminosity emitted   = 1.067e+43 erg / s\n",
      "\tLuminosity absorbed  = 3.372e+42 erg / s\n",
      "\tLuminosity requested = 1.059e+43 erg / s\n",
      " (\u001b[1mbase.py\u001b[0m:547)\n",
      "[\u001b[1mtardis.simulation.base\u001b[0m][\u001b[1;37mINFO\u001b[0m   ]  \n",
      "\t\n",
      "\tPlasma stratification: (\u001b[1mbase.py\u001b[0m:514)\n"
     ]
    },
    {
     "data": {
      "text/html": [
       "<style  type=\"text/css\" >\n",
       "</style><table id=\"T_1241941e_99ae_11ec_bac0_f8f21e712850\" ><thead>    <tr>        <th class=\"index_name level0\" >Shell No.</th>        <th class=\"col_heading level0 col0\" >t_rad</th>        <th class=\"col_heading level0 col1\" >next_t_rad</th>        <th class=\"col_heading level0 col2\" >w</th>        <th class=\"col_heading level0 col3\" >next_w</th>    </tr></thead><tbody>\n",
       "                <tr>\n",
       "                        <th id=\"T_1241941e_99ae_11ec_bac0_f8f21e712850level0_row0\" class=\"row_heading level0 row0\" >0</th>\n",
       "                        <td id=\"T_1241941e_99ae_11ec_bac0_f8f21e712850row0_col0\" class=\"data row0 col0\" >1.1e+04</td>\n",
       "                        <td id=\"T_1241941e_99ae_11ec_bac0_f8f21e712850row0_col1\" class=\"data row0 col1\" >1.11e+04</td>\n",
       "                        <td id=\"T_1241941e_99ae_11ec_bac0_f8f21e712850row0_col2\" class=\"data row0 col2\" >0.472</td>\n",
       "                        <td id=\"T_1241941e_99ae_11ec_bac0_f8f21e712850row0_col3\" class=\"data row0 col3\" >0.468</td>\n",
       "            </tr>\n",
       "            <tr>\n",
       "                        <th id=\"T_1241941e_99ae_11ec_bac0_f8f21e712850level0_row1\" class=\"row_heading level0 row1\" >5</th>\n",
       "                        <td id=\"T_1241941e_99ae_11ec_bac0_f8f21e712850row1_col0\" class=\"data row1 col0\" >1.13e+04</td>\n",
       "                        <td id=\"T_1241941e_99ae_11ec_bac0_f8f21e712850row1_col1\" class=\"data row1 col1\" >1.14e+04</td>\n",
       "                        <td id=\"T_1241941e_99ae_11ec_bac0_f8f21e712850row1_col2\" class=\"data row1 col2\" >0.177</td>\n",
       "                        <td id=\"T_1241941e_99ae_11ec_bac0_f8f21e712850row1_col3\" class=\"data row1 col3\" >0.175</td>\n",
       "            </tr>\n",
       "            <tr>\n",
       "                        <th id=\"T_1241941e_99ae_11ec_bac0_f8f21e712850level0_row2\" class=\"row_heading level0 row2\" >10</th>\n",
       "                        <td id=\"T_1241941e_99ae_11ec_bac0_f8f21e712850row2_col0\" class=\"data row2 col0\" >1.1e+04</td>\n",
       "                        <td id=\"T_1241941e_99ae_11ec_bac0_f8f21e712850row2_col1\" class=\"data row2 col1\" >1.11e+04</td>\n",
       "                        <td id=\"T_1241941e_99ae_11ec_bac0_f8f21e712850row2_col2\" class=\"data row2 col2\" >0.113</td>\n",
       "                        <td id=\"T_1241941e_99ae_11ec_bac0_f8f21e712850row2_col3\" class=\"data row2 col3\" >0.11</td>\n",
       "            </tr>\n",
       "            <tr>\n",
       "                        <th id=\"T_1241941e_99ae_11ec_bac0_f8f21e712850level0_row3\" class=\"row_heading level0 row3\" >15</th>\n",
       "                        <td id=\"T_1241941e_99ae_11ec_bac0_f8f21e712850row3_col0\" class=\"data row3 col0\" >1.06e+04</td>\n",
       "                        <td id=\"T_1241941e_99ae_11ec_bac0_f8f21e712850row3_col1\" class=\"data row3 col1\" >1.08e+04</td>\n",
       "                        <td id=\"T_1241941e_99ae_11ec_bac0_f8f21e712850row3_col2\" class=\"data row3 col2\" >0.0858</td>\n",
       "                        <td id=\"T_1241941e_99ae_11ec_bac0_f8f21e712850row3_col3\" class=\"data row3 col3\" >0.0816</td>\n",
       "            </tr>\n",
       "    </tbody></table>"
      ],
      "text/plain": [
       "<pandas.io.formats.style.Styler at 0x7faf6d85c290>"
      ]
     },
     "metadata": {},
     "output_type": "display_data"
    },
    {
     "name": "stdout",
     "output_type": "stream",
     "text": [
      "[\u001b[1mtardis.simulation.base\u001b[0m][\u001b[1;37mINFO\u001b[0m   ]  \n",
      "\t\n",
      "\tCurrent t_inner = 10655.561 K\n",
      "\tExpected t_inner for next iteration = 10636.536 K\n",
      " (\u001b[1mbase.py\u001b[0m:542)\n",
      "[\u001b[1mpy.warnings         \u001b[0m][\u001b[1;33mWARNING\u001b[0m]  \n",
      "\t/home/jobrien/Documents/soft/tardis/tardis/plasma/properties/radiative_properties.py:93: RuntimeWarning:\n",
      "\n",
      "invalid value encountered in true_divide\n",
      "\n",
      " (\u001b[1mwarnings.py\u001b[0m:110)\n",
      "[\u001b[1mtardis.simulation.base\u001b[0m][\u001b[1;37mINFO\u001b[0m   ]  \n",
      "\t\n",
      "\tStarting iteration 18 of 20 (\u001b[1mbase.py\u001b[0m:378)\n",
      "RUNNING WITHOUT CONTINUUM\n"
     ]
    },
    {
     "name": "stderr",
     "output_type": "stream",
     "text": [
      "warning: ignoring debug info with an invalid version (0) in <string>\n"
     ]
    },
    {
     "name": "stdout",
     "output_type": "stream",
     "text": [
      "[\u001b[1mpy.warnings         \u001b[0m][\u001b[1;33mWARNING\u001b[0m]  \n",
      "\t/home/jobrien/Documents/soft/tardis/tardis/montecarlo/montecarlo_numba/base.py:144: NumbaWarning:\n",
      "\n",
      "\u001b[1mCannot cache compiled function \"montecarlo_main_loop\" as it uses dynamic globals (such as ctypes pointers and large global arrays)\u001b[0m\n",
      "\n",
      " (\u001b[1mwarnings.py\u001b[0m:110)\n",
      "Done with Montecarlo Radial 1D\n",
      "[\u001b[1mtardis.simulation.base\u001b[0m][\u001b[1;37mINFO\u001b[0m   ]  \n",
      "\t\n",
      "\tLuminosity emitted   = 1.057e+43 erg / s\n",
      "\tLuminosity absorbed  = 3.365e+42 erg / s\n",
      "\tLuminosity requested = 1.059e+43 erg / s\n",
      " (\u001b[1mbase.py\u001b[0m:547)\n",
      "[\u001b[1mtardis.simulation.base\u001b[0m][\u001b[1;37mINFO\u001b[0m   ]  \n",
      "\tIteration converged 1/4 consecutive times. (\u001b[1mbase.py\u001b[0m:259)\n",
      "[\u001b[1mtardis.simulation.base\u001b[0m][\u001b[1;37mINFO\u001b[0m   ]  \n",
      "\t\n",
      "\tPlasma stratification: (\u001b[1mbase.py\u001b[0m:514)\n"
     ]
    },
    {
     "data": {
      "text/html": [
       "<style  type=\"text/css\" >\n",
       "</style><table id=\"T_1a0ad318_99ae_11ec_bac0_f8f21e712850\" ><thead>    <tr>        <th class=\"index_name level0\" >Shell No.</th>        <th class=\"col_heading level0 col0\" >t_rad</th>        <th class=\"col_heading level0 col1\" >next_t_rad</th>        <th class=\"col_heading level0 col2\" >w</th>        <th class=\"col_heading level0 col3\" >next_w</th>    </tr></thead><tbody>\n",
       "                <tr>\n",
       "                        <th id=\"T_1a0ad318_99ae_11ec_bac0_f8f21e712850level0_row0\" class=\"row_heading level0 row0\" >0</th>\n",
       "                        <td id=\"T_1a0ad318_99ae_11ec_bac0_f8f21e712850row0_col0\" class=\"data row0 col0\" >1.11e+04</td>\n",
       "                        <td id=\"T_1a0ad318_99ae_11ec_bac0_f8f21e712850row0_col1\" class=\"data row0 col1\" >1.11e+04</td>\n",
       "                        <td id=\"T_1a0ad318_99ae_11ec_bac0_f8f21e712850row0_col2\" class=\"data row0 col2\" >0.468</td>\n",
       "                        <td id=\"T_1a0ad318_99ae_11ec_bac0_f8f21e712850row0_col3\" class=\"data row0 col3\" >0.464</td>\n",
       "            </tr>\n",
       "            <tr>\n",
       "                        <th id=\"T_1a0ad318_99ae_11ec_bac0_f8f21e712850level0_row1\" class=\"row_heading level0 row1\" >5</th>\n",
       "                        <td id=\"T_1a0ad318_99ae_11ec_bac0_f8f21e712850row1_col0\" class=\"data row1 col0\" >1.14e+04</td>\n",
       "                        <td id=\"T_1a0ad318_99ae_11ec_bac0_f8f21e712850row1_col1\" class=\"data row1 col1\" >1.13e+04</td>\n",
       "                        <td id=\"T_1a0ad318_99ae_11ec_bac0_f8f21e712850row1_col2\" class=\"data row1 col2\" >0.175</td>\n",
       "                        <td id=\"T_1a0ad318_99ae_11ec_bac0_f8f21e712850row1_col3\" class=\"data row1 col3\" >0.177</td>\n",
       "            </tr>\n",
       "            <tr>\n",
       "                        <th id=\"T_1a0ad318_99ae_11ec_bac0_f8f21e712850level0_row2\" class=\"row_heading level0 row2\" >10</th>\n",
       "                        <td id=\"T_1a0ad318_99ae_11ec_bac0_f8f21e712850row2_col0\" class=\"data row2 col0\" >1.11e+04</td>\n",
       "                        <td id=\"T_1a0ad318_99ae_11ec_bac0_f8f21e712850row2_col1\" class=\"data row2 col1\" >1.1e+04</td>\n",
       "                        <td id=\"T_1a0ad318_99ae_11ec_bac0_f8f21e712850row2_col2\" class=\"data row2 col2\" >0.11</td>\n",
       "                        <td id=\"T_1a0ad318_99ae_11ec_bac0_f8f21e712850row2_col3\" class=\"data row2 col3\" >0.113</td>\n",
       "            </tr>\n",
       "            <tr>\n",
       "                        <th id=\"T_1a0ad318_99ae_11ec_bac0_f8f21e712850level0_row3\" class=\"row_heading level0 row3\" >15</th>\n",
       "                        <td id=\"T_1a0ad318_99ae_11ec_bac0_f8f21e712850row3_col0\" class=\"data row3 col0\" >1.08e+04</td>\n",
       "                        <td id=\"T_1a0ad318_99ae_11ec_bac0_f8f21e712850row3_col1\" class=\"data row3 col1\" >1.07e+04</td>\n",
       "                        <td id=\"T_1a0ad318_99ae_11ec_bac0_f8f21e712850row3_col2\" class=\"data row3 col2\" >0.0816</td>\n",
       "                        <td id=\"T_1a0ad318_99ae_11ec_bac0_f8f21e712850row3_col3\" class=\"data row3 col3\" >0.0848</td>\n",
       "            </tr>\n",
       "    </tbody></table>"
      ],
      "text/plain": [
       "<pandas.io.formats.style.Styler at 0x7faf6534b6d0>"
      ]
     },
     "metadata": {},
     "output_type": "display_data"
    },
    {
     "name": "stdout",
     "output_type": "stream",
     "text": [
      "[\u001b[1mtardis.simulation.base\u001b[0m][\u001b[1;37mINFO\u001b[0m   ]  \n",
      "\t\n",
      "\tCurrent t_inner = 10636.536 K\n",
      "\tExpected t_inner for next iteration = 10641.692 K\n",
      " (\u001b[1mbase.py\u001b[0m:542)\n",
      "[\u001b[1mpy.warnings         \u001b[0m][\u001b[1;33mWARNING\u001b[0m]  \n",
      "\t/home/jobrien/Documents/soft/tardis/tardis/plasma/properties/radiative_properties.py:93: RuntimeWarning:\n",
      "\n",
      "invalid value encountered in true_divide\n",
      "\n",
      " (\u001b[1mwarnings.py\u001b[0m:110)\n",
      "[\u001b[1mtardis.simulation.base\u001b[0m][\u001b[1;37mINFO\u001b[0m   ]  \n",
      "\t\n",
      "\tStarting iteration 19 of 20 (\u001b[1mbase.py\u001b[0m:378)\n",
      "RUNNING WITHOUT CONTINUUM\n"
     ]
    },
    {
     "name": "stderr",
     "output_type": "stream",
     "text": [
      "warning: ignoring debug info with an invalid version (0) in <string>\n"
     ]
    },
    {
     "name": "stdout",
     "output_type": "stream",
     "text": [
      "[\u001b[1mpy.warnings         \u001b[0m][\u001b[1;33mWARNING\u001b[0m]  \n",
      "\t/home/jobrien/Documents/soft/tardis/tardis/montecarlo/montecarlo_numba/base.py:144: NumbaWarning:\n",
      "\n",
      "\u001b[1mCannot cache compiled function \"montecarlo_main_loop\" as it uses dynamic globals (such as ctypes pointers and large global arrays)\u001b[0m\n",
      "\n",
      " (\u001b[1mwarnings.py\u001b[0m:110)\n",
      "Done with Montecarlo Radial 1D\n",
      "[\u001b[1mtardis.simulation.base\u001b[0m][\u001b[1;37mINFO\u001b[0m   ]  \n",
      "\t\n",
      "\tLuminosity emitted   = 1.056e+43 erg / s\n",
      "\tLuminosity absorbed  = 3.405e+42 erg / s\n",
      "\tLuminosity requested = 1.059e+43 erg / s\n",
      " (\u001b[1mbase.py\u001b[0m:547)\n",
      "[\u001b[1mtardis.simulation.base\u001b[0m][\u001b[1;37mINFO\u001b[0m   ]  \n",
      "\tIteration converged 2/4 consecutive times. (\u001b[1mbase.py\u001b[0m:259)\n",
      "[\u001b[1mtardis.simulation.base\u001b[0m][\u001b[1;37mINFO\u001b[0m   ]  \n",
      "\t\n",
      "\tPlasma stratification: (\u001b[1mbase.py\u001b[0m:514)\n"
     ]
    },
    {
     "data": {
      "text/html": [
       "<style  type=\"text/css\" >\n",
       "</style><table id=\"T_217a6546_99ae_11ec_bac0_f8f21e712850\" ><thead>    <tr>        <th class=\"index_name level0\" >Shell No.</th>        <th class=\"col_heading level0 col0\" >t_rad</th>        <th class=\"col_heading level0 col1\" >next_t_rad</th>        <th class=\"col_heading level0 col2\" >w</th>        <th class=\"col_heading level0 col3\" >next_w</th>    </tr></thead><tbody>\n",
       "                <tr>\n",
       "                        <th id=\"T_217a6546_99ae_11ec_bac0_f8f21e712850level0_row0\" class=\"row_heading level0 row0\" >0</th>\n",
       "                        <td id=\"T_217a6546_99ae_11ec_bac0_f8f21e712850row0_col0\" class=\"data row0 col0\" >1.11e+04</td>\n",
       "                        <td id=\"T_217a6546_99ae_11ec_bac0_f8f21e712850row0_col1\" class=\"data row0 col1\" >1.11e+04</td>\n",
       "                        <td id=\"T_217a6546_99ae_11ec_bac0_f8f21e712850row0_col2\" class=\"data row0 col2\" >0.464</td>\n",
       "                        <td id=\"T_217a6546_99ae_11ec_bac0_f8f21e712850row0_col3\" class=\"data row0 col3\" >0.466</td>\n",
       "            </tr>\n",
       "            <tr>\n",
       "                        <th id=\"T_217a6546_99ae_11ec_bac0_f8f21e712850level0_row1\" class=\"row_heading level0 row1\" >5</th>\n",
       "                        <td id=\"T_217a6546_99ae_11ec_bac0_f8f21e712850row1_col0\" class=\"data row1 col0\" >1.13e+04</td>\n",
       "                        <td id=\"T_217a6546_99ae_11ec_bac0_f8f21e712850row1_col1\" class=\"data row1 col1\" >1.13e+04</td>\n",
       "                        <td id=\"T_217a6546_99ae_11ec_bac0_f8f21e712850row1_col2\" class=\"data row1 col2\" >0.177</td>\n",
       "                        <td id=\"T_217a6546_99ae_11ec_bac0_f8f21e712850row1_col3\" class=\"data row1 col3\" >0.177</td>\n",
       "            </tr>\n",
       "            <tr>\n",
       "                        <th id=\"T_217a6546_99ae_11ec_bac0_f8f21e712850level0_row2\" class=\"row_heading level0 row2\" >10</th>\n",
       "                        <td id=\"T_217a6546_99ae_11ec_bac0_f8f21e712850row2_col0\" class=\"data row2 col0\" >1.1e+04</td>\n",
       "                        <td id=\"T_217a6546_99ae_11ec_bac0_f8f21e712850row2_col1\" class=\"data row2 col1\" >1.11e+04</td>\n",
       "                        <td id=\"T_217a6546_99ae_11ec_bac0_f8f21e712850row2_col2\" class=\"data row2 col2\" >0.113</td>\n",
       "                        <td id=\"T_217a6546_99ae_11ec_bac0_f8f21e712850row2_col3\" class=\"data row2 col3\" >0.111</td>\n",
       "            </tr>\n",
       "            <tr>\n",
       "                        <th id=\"T_217a6546_99ae_11ec_bac0_f8f21e712850level0_row3\" class=\"row_heading level0 row3\" >15</th>\n",
       "                        <td id=\"T_217a6546_99ae_11ec_bac0_f8f21e712850row3_col0\" class=\"data row3 col0\" >1.07e+04</td>\n",
       "                        <td id=\"T_217a6546_99ae_11ec_bac0_f8f21e712850row3_col1\" class=\"data row3 col1\" >1.07e+04</td>\n",
       "                        <td id=\"T_217a6546_99ae_11ec_bac0_f8f21e712850row3_col2\" class=\"data row3 col2\" >0.0848</td>\n",
       "                        <td id=\"T_217a6546_99ae_11ec_bac0_f8f21e712850row3_col3\" class=\"data row3 col3\" >0.0853</td>\n",
       "            </tr>\n",
       "    </tbody></table>"
      ],
      "text/plain": [
       "<pandas.io.formats.style.Styler at 0x7faf65342290>"
      ]
     },
     "metadata": {},
     "output_type": "display_data"
    },
    {
     "name": "stdout",
     "output_type": "stream",
     "text": [
      "[\u001b[1mtardis.simulation.base\u001b[0m][\u001b[1;37mINFO\u001b[0m   ]  \n",
      "\t\n",
      "\tCurrent t_inner = 10641.692 K\n",
      "\tExpected t_inner for next iteration = 10650.463 K\n",
      " (\u001b[1mbase.py\u001b[0m:542)\n",
      "[\u001b[1mpy.warnings         \u001b[0m][\u001b[1;33mWARNING\u001b[0m]  \n",
      "\t/home/jobrien/Documents/soft/tardis/tardis/plasma/properties/radiative_properties.py:93: RuntimeWarning:\n",
      "\n",
      "invalid value encountered in true_divide\n",
      "\n",
      " (\u001b[1mwarnings.py\u001b[0m:110)\n",
      "[\u001b[1mtardis.simulation.base\u001b[0m][\u001b[1;37mINFO\u001b[0m   ]  \n",
      "\t\n",
      "\tStarting iteration 20 of 20 (\u001b[1mbase.py\u001b[0m:378)\n",
      "RUNNING WITHOUT CONTINUUM\n"
     ]
    },
    {
     "name": "stderr",
     "output_type": "stream",
     "text": [
      "warning: ignoring debug info with an invalid version (0) in <string>\n"
     ]
    },
    {
     "name": "stdout",
     "output_type": "stream",
     "text": [
      "[\u001b[1mpy.warnings         \u001b[0m][\u001b[1;33mWARNING\u001b[0m]  \n",
      "\t/home/jobrien/Documents/soft/tardis/tardis/montecarlo/montecarlo_numba/base.py:144: NumbaWarning:\n",
      "\n",
      "\u001b[1mCannot cache compiled function \"montecarlo_main_loop\" as it uses dynamic globals (such as ctypes pointers and large global arrays)\u001b[0m\n",
      "\n",
      " (\u001b[1mwarnings.py\u001b[0m:110)\n",
      "Done with Montecarlo Radial 1D\n",
      "[\u001b[1mtardis.simulation.base\u001b[0m][\u001b[1;37mINFO\u001b[0m   ]  \n",
      "\t\n",
      "\tLuminosity emitted   = 1.061e+43 erg / s\n",
      "\tLuminosity absorbed  = 3.401e+42 erg / s\n",
      "\tLuminosity requested = 1.059e+43 erg / s\n",
      " (\u001b[1mbase.py\u001b[0m:547)\n",
      "[\u001b[1mtardis.simulation.base\u001b[0m][\u001b[1;37mINFO\u001b[0m   ]  \n",
      "\t\n",
      "\tSimulation finished in 20 iterations \n",
      "\tSimulation took 272.72 s\n",
      " (\u001b[1mbase.py\u001b[0m:468)\n"
     ]
    }
   ],
   "source": [
    "sim = run_tardis('tardis_example.yml')"
   ]
  },
  {
   "cell_type": "markdown",
   "metadata": {},
   "source": [
    "<div class=\"alert alert-info\">\n",
    "    \n",
    "Note\n",
    "\n",
    "When running this notebook locally or in interactive mode, a [convergence plot](io/visualization/convergence_plot.ipynb) will show up.\n",
    "\n",
    "</div>"
   ]
  },
  {
   "cell_type": "markdown",
   "metadata": {},
   "source": [
    "#### Plotting the Spectrum ####"
   ]
  },
  {
   "cell_type": "code",
   "execution_count": null,
   "metadata": {},
   "outputs": [],
   "source": [
    "%pylab inline\n",
    "\n",
    "spectrum = sim.runner.spectrum\n",
    "spectrum_virtual = sim.runner.spectrum_virtual\n",
    "spectrum_integrated = sim.runner.spectrum_integrated\n",
    "\n",
    "figure(figsize=(10,6))\n",
    "spectrum.plot(label='normal packets')\n",
    "spectrum_virtual.plot(label='virtual packets')\n",
    "spectrum_integrated.plot(label='formal integral')\n",
    "xlabel('Wavelength [$\\AA$]')\n",
    "ylabel('Luminosity Density [erg/s/$\\AA$]')\n",
    "legend()\n",
    "xlim(500, 9000)"
   ]
  }
 ],
 "metadata": {
  "interpreter": {
   "hash": "14c438b85bc0c5441332c56c5d68185f391ef15672c5492b27fc26d9164316c1"
  },
  "kernelspec": {
   "display_name": "tardis",
   "language": "python",
   "name": "tardis"
  },
  "language_info": {
   "codemirror_mode": {
    "name": "ipython",
    "version": 3
   },
   "file_extension": ".py",
   "mimetype": "text/x-python",
   "name": "python",
   "nbconvert_exporter": "python",
   "pygments_lexer": "ipython3",
   "version": "3.7.12"
  }
 },
 "nbformat": 4,
 "nbformat_minor": 2
}
