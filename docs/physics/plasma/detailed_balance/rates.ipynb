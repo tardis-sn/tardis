{
 "cells": [
  {
   "cell_type": "markdown",
   "metadata": {},
   "source": [
    "# Exploring rates"
   ]
  },
  {
   "cell_type": "code",
   "execution_count": 1,
   "metadata": {},
   "outputs": [
    {
     "name": "stderr",
     "output_type": "stream",
     "text": [
      "/Users/wkerzend/python/tardis/tardis/__init__.py:20: UserWarning: Astropy is already imported externally. Astropy should be imported after TARDIS.\n",
      "  warnings.warn(\n"
     ]
    },
    {
     "data": {
      "application/vnd.jupyter.widget-view+json": {
       "model_id": "b77c4a495bfa487c86c094769acb8caa",
       "version_major": 2,
       "version_minor": 0
      },
      "text/plain": [
       "Iterations:          0/? [00:00<?, ?it/s]"
      ]
     },
     "metadata": {},
     "output_type": "display_data"
    },
    {
     "data": {
      "application/vnd.jupyter.widget-view+json": {
       "model_id": "c22543a5b0034a9b91173dfc59dc187c",
       "version_major": 2,
       "version_minor": 0
      },
      "text/plain": [
       "Packets:             0/? [00:00<?, ?it/s]"
      ]
     },
     "metadata": {},
     "output_type": "display_data"
    }
   ],
   "source": [
    "import numpy as np\n",
    "from astropy import units as u\n",
    "\n",
    "from tardis.io.atom_data import AtomData\n",
    "from tardis.plasma.detailed_balance.rates import RadiativeRatesSolver\n",
    "from tardis.plasma.radiation_field import (\n",
    "    PlanckianRadiationField,\n",
    ")\n"
   ]
  },
  {
   "cell_type": "code",
   "execution_count": 2,
   "metadata": {},
   "outputs": [],
   "source": [
    "atom_data = AtomData.from_hdf('kurucz_cd23_chianti_H_He.h5')\n",
    "lines_df = atom_data.lines"
   ]
  },
  {
   "cell_type": "code",
   "execution_count": 18,
   "metadata": {},
   "outputs": [],
   "source": [
    "einstein_coefficients_he1 = lines_df.loc[(2,0, slice(None), slice(None)), :]"
   ]
  },
  {
   "cell_type": "code",
   "execution_count": 21,
   "metadata": {},
   "outputs": [
    {
     "data": {
      "text/html": [
       "<div>\n",
       "<style scoped>\n",
       "    .dataframe tbody tr th:only-of-type {\n",
       "        vertical-align: middle;\n",
       "    }\n",
       "\n",
       "    .dataframe tbody tr th {\n",
       "        vertical-align: top;\n",
       "    }\n",
       "\n",
       "    .dataframe thead th {\n",
       "        text-align: right;\n",
       "    }\n",
       "</style>\n",
       "<table border=\"1\" class=\"dataframe\">\n",
       "  <thead>\n",
       "    <tr style=\"text-align: right;\">\n",
       "      <th></th>\n",
       "      <th></th>\n",
       "      <th></th>\n",
       "      <th></th>\n",
       "      <th>line_id</th>\n",
       "      <th>wavelength</th>\n",
       "      <th>f_ul</th>\n",
       "      <th>f_lu</th>\n",
       "      <th>nu</th>\n",
       "      <th>B_lu</th>\n",
       "      <th>B_ul</th>\n",
       "      <th>A_ul</th>\n",
       "      <th>wavelength_cm</th>\n",
       "    </tr>\n",
       "    <tr>\n",
       "      <th>atomic_number</th>\n",
       "      <th>ion_number</th>\n",
       "      <th>level_number_lower</th>\n",
       "      <th>level_number_upper</th>\n",
       "      <th></th>\n",
       "      <th></th>\n",
       "      <th></th>\n",
       "      <th></th>\n",
       "      <th></th>\n",
       "      <th></th>\n",
       "      <th></th>\n",
       "      <th></th>\n",
       "      <th></th>\n",
       "    </tr>\n",
       "  </thead>\n",
       "  <tbody>\n",
       "    <tr>\n",
       "      <th rowspan=\"11\" valign=\"top\">2</th>\n",
       "      <th rowspan=\"11\" valign=\"top\">0</th>\n",
       "      <th rowspan=\"2\" valign=\"top\">1</th>\n",
       "      <th>3</th>\n",
       "      <td>533170</td>\n",
       "      <td>10833.307</td>\n",
       "      <td>0.365400</td>\n",
       "      <td>0.609000</td>\n",
       "      <td>2.767322e+14</td>\n",
       "      <td>1.107679e+11</td>\n",
       "      <td>6.646073e+10</td>\n",
       "      <td>2.076771e+07</td>\n",
       "      <td>0.000108</td>\n",
       "    </tr>\n",
       "    <tr>\n",
       "      <th>4</th>\n",
       "      <td>533171</td>\n",
       "      <td>10833.217</td>\n",
       "      <td>0.608000</td>\n",
       "      <td>0.608000</td>\n",
       "      <td>2.767345e+14</td>\n",
       "      <td>1.105851e+11</td>\n",
       "      <td>1.105851e+11</td>\n",
       "      <td>3.455659e+07</td>\n",
       "      <td>0.000108</td>\n",
       "    </tr>\n",
       "    <tr>\n",
       "      <th>0</th>\n",
       "      <th>6</th>\n",
       "      <td>533166</td>\n",
       "      <td>584.335</td>\n",
       "      <td>0.092000</td>\n",
       "      <td>0.276000</td>\n",
       "      <td>5.130489e+15</td>\n",
       "      <td>2.707737e+09</td>\n",
       "      <td>9.025791e+08</td>\n",
       "      <td>1.797241e+09</td>\n",
       "      <td>0.000006</td>\n",
       "    </tr>\n",
       "    <tr>\n",
       "      <th>2</th>\n",
       "      <th>6</th>\n",
       "      <td>533182</td>\n",
       "      <td>20586.937</td>\n",
       "      <td>0.125667</td>\n",
       "      <td>0.377000</td>\n",
       "      <td>1.456227e+14</td>\n",
       "      <td>1.303073e+11</td>\n",
       "      <td>4.343575e+10</td>\n",
       "      <td>1.977784e+06</td>\n",
       "      <td>0.000206</td>\n",
       "    </tr>\n",
       "    <tr>\n",
       "      <th>0</th>\n",
       "      <th>16</th>\n",
       "      <td>533167</td>\n",
       "      <td>537.031</td>\n",
       "      <td>0.024467</td>\n",
       "      <td>0.073400</td>\n",
       "      <td>5.582405e+15</td>\n",
       "      <td>6.618064e+08</td>\n",
       "      <td>2.206021e+08</td>\n",
       "      <td>5.658722e+08</td>\n",
       "      <td>0.000005</td>\n",
       "    </tr>\n",
       "    <tr>\n",
       "      <th>...</th>\n",
       "      <th>...</th>\n",
       "      <td>...</td>\n",
       "      <td>...</td>\n",
       "      <td>...</td>\n",
       "      <td>...</td>\n",
       "      <td>...</td>\n",
       "      <td>...</td>\n",
       "      <td>...</td>\n",
       "      <td>...</td>\n",
       "      <td>...</td>\n",
       "    </tr>\n",
       "    <tr>\n",
       "      <th>26</th>\n",
       "      <th>46</th>\n",
       "      <td>533336</td>\n",
       "      <td>40490.052</td>\n",
       "      <td>0.028000</td>\n",
       "      <td>0.028000</td>\n",
       "      <td>7.404102e+13</td>\n",
       "      <td>1.903452e+10</td>\n",
       "      <td>1.903452e+10</td>\n",
       "      <td>1.139209e+05</td>\n",
       "      <td>0.000405</td>\n",
       "    </tr>\n",
       "    <tr>\n",
       "      <th>27</th>\n",
       "      <th>46</th>\n",
       "      <td>533340</td>\n",
       "      <td>40490.167</td>\n",
       "      <td>0.000571</td>\n",
       "      <td>0.000444</td>\n",
       "      <td>7.404081e+13</td>\n",
       "      <td>3.019850e+08</td>\n",
       "      <td>3.882664e+08</td>\n",
       "      <td>2.323742e+03</td>\n",
       "      <td>0.000405</td>\n",
       "    </tr>\n",
       "    <tr>\n",
       "      <th>28</th>\n",
       "      <th>46</th>\n",
       "      <td>533344</td>\n",
       "      <td>40490.314</td>\n",
       "      <td>0.228857</td>\n",
       "      <td>0.320400</td>\n",
       "      <td>7.404054e+13</td>\n",
       "      <td>2.178107e+11</td>\n",
       "      <td>1.555791e+11</td>\n",
       "      <td>9.311173e+05</td>\n",
       "      <td>0.000405</td>\n",
       "    </tr>\n",
       "    <tr>\n",
       "      <th>27</th>\n",
       "      <th>45</th>\n",
       "      <td>533339</td>\n",
       "      <td>40490.216</td>\n",
       "      <td>0.448636</td>\n",
       "      <td>0.548333</td>\n",
       "      <td>7.404072e+13</td>\n",
       "      <td>3.727608e+11</td>\n",
       "      <td>3.049861e+11</td>\n",
       "      <td>1.825309e+06</td>\n",
       "      <td>0.000405</td>\n",
       "    </tr>\n",
       "    <tr>\n",
       "      <th>29</th>\n",
       "      <th>47</th>\n",
       "      <td>533346</td>\n",
       "      <td>40490.429</td>\n",
       "      <td>1.046889</td>\n",
       "      <td>1.346000</td>\n",
       "      <td>7.404033e+13</td>\n",
       "      <td>9.150250e+11</td>\n",
       "      <td>7.116861e+11</td>\n",
       "      <td>4.259298e+06</td>\n",
       "      <td>0.000405</td>\n",
       "    </tr>\n",
       "  </tbody>\n",
       "</table>\n",
       "<p>180 rows × 9 columns</p>\n",
       "</div>"
      ],
      "text/plain": [
       "                                                                line_id  \\\n",
       "atomic_number ion_number level_number_lower level_number_upper            \n",
       "2             0          1                  3                    533170   \n",
       "                                            4                    533171   \n",
       "                         0                  6                    533166   \n",
       "                         2                  6                    533182   \n",
       "                         0                  16                   533167   \n",
       "...                                                                 ...   \n",
       "                         26                 46                   533336   \n",
       "                         27                 46                   533340   \n",
       "                         28                 46                   533344   \n",
       "                         27                 45                   533339   \n",
       "                         29                 47                   533346   \n",
       "\n",
       "                                                                wavelength  \\\n",
       "atomic_number ion_number level_number_lower level_number_upper               \n",
       "2             0          1                  3                    10833.307   \n",
       "                                            4                    10833.217   \n",
       "                         0                  6                      584.335   \n",
       "                         2                  6                    20586.937   \n",
       "                         0                  16                     537.031   \n",
       "...                                                                    ...   \n",
       "                         26                 46                   40490.052   \n",
       "                         27                 46                   40490.167   \n",
       "                         28                 46                   40490.314   \n",
       "                         27                 45                   40490.216   \n",
       "                         29                 47                   40490.429   \n",
       "\n",
       "                                                                    f_ul  \\\n",
       "atomic_number ion_number level_number_lower level_number_upper             \n",
       "2             0          1                  3                   0.365400   \n",
       "                                            4                   0.608000   \n",
       "                         0                  6                   0.092000   \n",
       "                         2                  6                   0.125667   \n",
       "                         0                  16                  0.024467   \n",
       "...                                                                  ...   \n",
       "                         26                 46                  0.028000   \n",
       "                         27                 46                  0.000571   \n",
       "                         28                 46                  0.228857   \n",
       "                         27                 45                  0.448636   \n",
       "                         29                 47                  1.046889   \n",
       "\n",
       "                                                                    f_lu  \\\n",
       "atomic_number ion_number level_number_lower level_number_upper             \n",
       "2             0          1                  3                   0.609000   \n",
       "                                            4                   0.608000   \n",
       "                         0                  6                   0.276000   \n",
       "                         2                  6                   0.377000   \n",
       "                         0                  16                  0.073400   \n",
       "...                                                                  ...   \n",
       "                         26                 46                  0.028000   \n",
       "                         27                 46                  0.000444   \n",
       "                         28                 46                  0.320400   \n",
       "                         27                 45                  0.548333   \n",
       "                         29                 47                  1.346000   \n",
       "\n",
       "                                                                          nu  \\\n",
       "atomic_number ion_number level_number_lower level_number_upper                 \n",
       "2             0          1                  3                   2.767322e+14   \n",
       "                                            4                   2.767345e+14   \n",
       "                         0                  6                   5.130489e+15   \n",
       "                         2                  6                   1.456227e+14   \n",
       "                         0                  16                  5.582405e+15   \n",
       "...                                                                      ...   \n",
       "                         26                 46                  7.404102e+13   \n",
       "                         27                 46                  7.404081e+13   \n",
       "                         28                 46                  7.404054e+13   \n",
       "                         27                 45                  7.404072e+13   \n",
       "                         29                 47                  7.404033e+13   \n",
       "\n",
       "                                                                        B_lu  \\\n",
       "atomic_number ion_number level_number_lower level_number_upper                 \n",
       "2             0          1                  3                   1.107679e+11   \n",
       "                                            4                   1.105851e+11   \n",
       "                         0                  6                   2.707737e+09   \n",
       "                         2                  6                   1.303073e+11   \n",
       "                         0                  16                  6.618064e+08   \n",
       "...                                                                      ...   \n",
       "                         26                 46                  1.903452e+10   \n",
       "                         27                 46                  3.019850e+08   \n",
       "                         28                 46                  2.178107e+11   \n",
       "                         27                 45                  3.727608e+11   \n",
       "                         29                 47                  9.150250e+11   \n",
       "\n",
       "                                                                        B_ul  \\\n",
       "atomic_number ion_number level_number_lower level_number_upper                 \n",
       "2             0          1                  3                   6.646073e+10   \n",
       "                                            4                   1.105851e+11   \n",
       "                         0                  6                   9.025791e+08   \n",
       "                         2                  6                   4.343575e+10   \n",
       "                         0                  16                  2.206021e+08   \n",
       "...                                                                      ...   \n",
       "                         26                 46                  1.903452e+10   \n",
       "                         27                 46                  3.882664e+08   \n",
       "                         28                 46                  1.555791e+11   \n",
       "                         27                 45                  3.049861e+11   \n",
       "                         29                 47                  7.116861e+11   \n",
       "\n",
       "                                                                        A_ul  \\\n",
       "atomic_number ion_number level_number_lower level_number_upper                 \n",
       "2             0          1                  3                   2.076771e+07   \n",
       "                                            4                   3.455659e+07   \n",
       "                         0                  6                   1.797241e+09   \n",
       "                         2                  6                   1.977784e+06   \n",
       "                         0                  16                  5.658722e+08   \n",
       "...                                                                      ...   \n",
       "                         26                 46                  1.139209e+05   \n",
       "                         27                 46                  2.323742e+03   \n",
       "                         28                 46                  9.311173e+05   \n",
       "                         27                 45                  1.825309e+06   \n",
       "                         29                 47                  4.259298e+06   \n",
       "\n",
       "                                                                wavelength_cm  \n",
       "atomic_number ion_number level_number_lower level_number_upper                 \n",
       "2             0          1                  3                        0.000108  \n",
       "                                            4                        0.000108  \n",
       "                         0                  6                        0.000006  \n",
       "                         2                  6                        0.000206  \n",
       "                         0                  16                       0.000005  \n",
       "...                                                                       ...  \n",
       "                         26                 46                       0.000405  \n",
       "                         27                 46                       0.000405  \n",
       "                         28                 46                       0.000405  \n",
       "                         27                 45                       0.000405  \n",
       "                         29                 47                       0.000405  \n",
       "\n",
       "[180 rows x 9 columns]"
      ]
     },
     "execution_count": 21,
     "metadata": {},
     "output_type": "execute_result"
    }
   ],
   "source": []
  },
  {
   "cell_type": "code",
   "execution_count": 19,
   "metadata": {},
   "outputs": [],
   "source": [
    "rad_rate_solver = RadiativeRatesSolver(einstein_coefficients_he1)\n",
    "rad_field = PlanckianRadiationField(temperature=[10000, 20000] * u.K)"
   ]
  },
  {
   "cell_type": "code",
   "execution_count": 8,
   "metadata": {},
   "outputs": [],
   "source": [
    "rates_df = rad_rate_solver.solve(rad_field)"
   ]
  },
  {
   "cell_type": "code",
   "execution_count": 20,
   "metadata": {},
   "outputs": [
    {
     "data": {
      "text/plain": [
       "<tardis.plasma.radiation_field.planck_rad_field.PlanckianRadiationField at 0x31f3e31a0>"
      ]
     },
     "execution_count": 20,
     "metadata": {},
     "output_type": "execute_result"
    }
   ],
   "source": [
    "rad_field"
   ]
  },
  {
   "cell_type": "code",
   "execution_count": 11,
   "metadata": {},
   "outputs": [],
   "source": [
    "rad_rate_solver.solve(rad_field.calculate_mean_intensity(rad_rate_solver.einstein_coefficients.nu.values))"
   ]
  },
  {
   "cell_type": "code",
   "execution_count": 32,
   "metadata": {},
   "outputs": [
    {
     "data": {
      "text/plain": [
       "True"
      ]
     },
     "execution_count": 32,
     "metadata": {},
     "output_type": "execute_result"
    }
   ],
   "source": [
    "np.all(test.index.get_level_values(0).values < test.index.get_level_values(1).values)"
   ]
  },
  {
   "cell_type": "code",
   "execution_count": 23,
   "metadata": {},
   "outputs": [
    {
     "data": {
      "text/plain": [
       "MultiIndex([(  0,  96),\n",
       "            ( 10,  96),\n",
       "            ( 14,  96),\n",
       "            ( 23,  96),\n",
       "            ( 24,  96),\n",
       "            ( 26,  96),\n",
       "            ( 31,  96),\n",
       "            ( 49,  96),\n",
       "            ( 50,  96),\n",
       "            ( 52,  96),\n",
       "            ...\n",
       "            (141, 164),\n",
       "            (141, 164),\n",
       "            (142, 164),\n",
       "            (140, 164),\n",
       "            (141, 165),\n",
       "            (141, 165),\n",
       "            (141, 165),\n",
       "            (142, 165),\n",
       "            (142, 165),\n",
       "            (142, 166)],\n",
       "           names=['level_number_lower', 'level_number_upper'], length=1248)"
      ]
     },
     "execution_count": 23,
     "metadata": {},
     "output_type": "execute_result"
    }
   ],
   "source": [
    "test.index"
   ]
  },
  {
   "cell_type": "code",
   "execution_count": 15,
   "metadata": {},
   "outputs": [
    {
     "ename": "AttributeError",
     "evalue": "'AtomData' object has no attribute 'keys'",
     "output_type": "error",
     "traceback": [
      "\u001b[0;31m---------------------------------------------------------------------------\u001b[0m",
      "\u001b[0;31mAttributeError\u001b[0m                            Traceback (most recent call last)",
      "Cell \u001b[0;32mIn[15], line 1\u001b[0m\n\u001b[0;32m----> 1\u001b[0m \u001b[43matom_data\u001b[49m\u001b[38;5;241;43m.\u001b[39;49m\u001b[43mkeys\u001b[49m()\n",
      "\u001b[0;31mAttributeError\u001b[0m: 'AtomData' object has no attribute 'keys'"
     ]
    }
   ],
   "source": [
    "atom_data.keys()"
   ]
  },
  {
   "cell_type": "code",
   "execution_count": null,
   "metadata": {},
   "outputs": [],
   "source": []
  }
 ],
 "metadata": {
  "kernelspec": {
   "display_name": "tardis-devel",
   "language": "python",
   "name": "python3"
  },
  "language_info": {
   "codemirror_mode": {
    "name": "ipython",
    "version": 3
   },
   "file_extension": ".py",
   "mimetype": "text/x-python",
   "name": "python",
   "nbconvert_exporter": "python",
   "pygments_lexer": "ipython3",
   "version": "3.12.4"
  }
 },
 "nbformat": 4,
 "nbformat_minor": 2
}
