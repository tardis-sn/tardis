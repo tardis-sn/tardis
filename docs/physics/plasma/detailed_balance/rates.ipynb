{
 "cells": [
  {
   "cell_type": "markdown",
   "metadata": {},
   "source": [
    "# Exploring rates"
   ]
  },
  {
   "cell_type": "code",
   "execution_count": 1,
   "metadata": {},
   "outputs": [
    {
     "name": "stderr",
     "output_type": "stream",
     "text": [
      "/Users/wkerzend/python/tardis/tardis/__init__.py:20: UserWarning: Astropy is already imported externally. Astropy should be imported after TARDIS.\n",
      "  warnings.warn(\n"
     ]
    },
    {
     "data": {
      "application/vnd.jupyter.widget-view+json": {
       "model_id": "c626f94aacb24beead4c9be4d9690d3e",
       "version_major": 2,
       "version_minor": 0
      },
      "text/plain": [
       "Iterations:          0/? [00:00<?, ?it/s]"
      ]
     },
     "metadata": {},
     "output_type": "display_data"
    },
    {
     "data": {
      "application/vnd.jupyter.widget-view+json": {
       "model_id": "8941a2bf7dfe422585ff3f52204f863f",
       "version_major": 2,
       "version_minor": 0
      },
      "text/plain": [
       "Packets:             0/? [00:00<?, ?it/s]"
      ]
     },
     "metadata": {},
     "output_type": "display_data"
    }
   ],
   "source": [
    "import numpy as np\n",
    "from astropy import units as u\n",
    "\n",
    "from tardis.io.atom_data import AtomData\n",
    "from tardis.plasma.detailed_balance.rates import RadiativeRatesSolver, CollisionCrossSectionRegemorter\n",
    "from tardis.plasma.radiation_field import (\n",
    "    PlanckianRadiationField,\n",
    ")\n",
    "from astropy import constants as const"
   ]
  },
  {
   "cell_type": "code",
   "execution_count": 2,
   "metadata": {},
   "outputs": [],
   "source": [
    "atom_data = AtomData.from_hdf('kurucz_cd23_chianti_H_He.h5')\n",
    "lines_df = atom_data.lines"
   ]
  },
  {
   "cell_type": "code",
   "execution_count": 3,
   "metadata": {},
   "outputs": [],
   "source": [
    "selected_transitions = lines_df.loc[(2,0, slice(None), slice(None)), :]"
   ]
  },
  {
   "cell_type": "code",
   "execution_count": 4,
   "metadata": {},
   "outputs": [],
   "source": [
    "temperature = [10000, 20000] * u.K\n",
    "rad_field = PlanckianRadiationField(temperature=temperature)\n",
    "\n",
    "rad_rate_solver = RadiativeRatesSolver(selected_transitions)\n",
    "\n"
   ]
  },
  {
   "cell_type": "code",
   "execution_count": 5,
   "metadata": {},
   "outputs": [],
   "source": [
    "rad_rates_df = rad_rate_solver.solve(rad_field)"
   ]
  },
  {
   "cell_type": "code",
   "execution_count": 6,
   "metadata": {},
   "outputs": [
    {
     "data": {
      "text/html": [
       "<div>\n",
       "<style scoped>\n",
       "    .dataframe tbody tr th:only-of-type {\n",
       "        vertical-align: middle;\n",
       "    }\n",
       "\n",
       "    .dataframe tbody tr th {\n",
       "        vertical-align: top;\n",
       "    }\n",
       "\n",
       "    .dataframe thead th {\n",
       "        text-align: right;\n",
       "    }\n",
       "</style>\n",
       "<table border=\"1\" class=\"dataframe\">\n",
       "  <thead>\n",
       "    <tr style=\"text-align: right;\">\n",
       "      <th></th>\n",
       "      <th></th>\n",
       "      <th></th>\n",
       "      <th></th>\n",
       "      <th>0</th>\n",
       "      <th>1</th>\n",
       "    </tr>\n",
       "    <tr>\n",
       "      <th>atomic_number</th>\n",
       "      <th>ion_number</th>\n",
       "      <th>level_number_source</th>\n",
       "      <th>level_number_destination</th>\n",
       "      <th></th>\n",
       "      <th></th>\n",
       "    </tr>\n",
       "  </thead>\n",
       "  <tbody>\n",
       "    <tr>\n",
       "      <th rowspan=\"11\" valign=\"top\">2</th>\n",
       "      <th rowspan=\"11\" valign=\"top\">0</th>\n",
       "      <th rowspan=\"4\" valign=\"top\">0</th>\n",
       "      <th>6</th>\n",
       "      <td>1.092259e-01</td>\n",
       "      <td>2.426770e+04</td>\n",
       "    </tr>\n",
       "    <tr>\n",
       "      <th>16</th>\n",
       "      <td>3.931126e-03</td>\n",
       "      <td>2.583324e+03</td>\n",
       "    </tr>\n",
       "    <tr>\n",
       "      <th>30</th>\n",
       "      <td>7.998261e-04</td>\n",
       "      <td>7.686424e+02</td>\n",
       "    </tr>\n",
       "    <tr>\n",
       "      <th>48</th>\n",
       "      <td>2.921823e-04</td>\n",
       "      <td>3.349007e+02</td>\n",
       "    </tr>\n",
       "    <tr>\n",
       "      <th>1</th>\n",
       "      <th>3</th>\n",
       "      <td>1.247811e+07</td>\n",
       "      <td>3.671871e+07</td>\n",
       "    </tr>\n",
       "    <tr>\n",
       "      <th>...</th>\n",
       "      <th>...</th>\n",
       "      <td>...</td>\n",
       "      <td>...</td>\n",
       "    </tr>\n",
       "    <tr>\n",
       "      <th>46</th>\n",
       "      <th>28</th>\n",
       "      <td>3.113439e+06</td>\n",
       "      <td>5.720071e+06</td>\n",
       "    </tr>\n",
       "    <tr>\n",
       "      <th>39</th>\n",
       "      <th>29</th>\n",
       "      <td>1.741319e+05</td>\n",
       "      <td>3.199534e+05</td>\n",
       "    </tr>\n",
       "    <tr>\n",
       "      <th>47</th>\n",
       "      <th>29</th>\n",
       "      <td>1.424213e+07</td>\n",
       "      <td>2.616593e+07</td>\n",
       "    </tr>\n",
       "    <tr>\n",
       "      <th>32</th>\n",
       "      <th>30</th>\n",
       "      <td>5.589118e+06</td>\n",
       "      <td>1.037015e+07</td>\n",
       "    </tr>\n",
       "    <tr>\n",
       "      <th>39</th>\n",
       "      <th>30</th>\n",
       "      <td>5.195260e+06</td>\n",
       "      <td>9.558669e+06</td>\n",
       "    </tr>\n",
       "  </tbody>\n",
       "</table>\n",
       "<p>360 rows × 2 columns</p>\n",
       "</div>"
      ],
      "text/plain": [
       "                                                                                  0  \\\n",
       "atomic_number ion_number level_number_source level_number_destination                 \n",
       "2             0          0                   6                         1.092259e-01   \n",
       "                                             16                        3.931126e-03   \n",
       "                                             30                        7.998261e-04   \n",
       "                                             48                        2.921823e-04   \n",
       "                         1                   3                         1.247811e+07   \n",
       "...                                                                             ...   \n",
       "                         46                  28                        3.113439e+06   \n",
       "                         39                  29                        1.741319e+05   \n",
       "                         47                  29                        1.424213e+07   \n",
       "                         32                  30                        5.589118e+06   \n",
       "                         39                  30                        5.195260e+06   \n",
       "\n",
       "                                                                                  1  \n",
       "atomic_number ion_number level_number_source level_number_destination                \n",
       "2             0          0                   6                         2.426770e+04  \n",
       "                                             16                        2.583324e+03  \n",
       "                                             30                        7.686424e+02  \n",
       "                                             48                        3.349007e+02  \n",
       "                         1                   3                         3.671871e+07  \n",
       "...                                                                             ...  \n",
       "                         46                  28                        5.720071e+06  \n",
       "                         39                  29                        3.199534e+05  \n",
       "                         47                  29                        2.616593e+07  \n",
       "                         32                  30                        1.037015e+07  \n",
       "                         39                  30                        9.558669e+06  \n",
       "\n",
       "[360 rows x 2 columns]"
      ]
     },
     "execution_count": 6,
     "metadata": {},
     "output_type": "execute_result"
    }
   ],
   "source": [
    "rad_rates_df"
   ]
  },
  {
   "cell_type": "markdown",
   "metadata": {},
   "source": [
    "## Collisional Rates"
   ]
  },
  {
   "cell_type": "code",
   "execution_count": 7,
   "metadata": {},
   "outputs": [],
   "source": [
    "col_rate_reg_solver = CollisionCrossSectionRegemorter(selected_transitions)"
   ]
  },
  {
   "cell_type": "code",
   "execution_count": 8,
   "metadata": {},
   "outputs": [],
   "source": [
    "x = col_rate_reg_solver.solve(temperature)"
   ]
  },
  {
   "cell_type": "code",
   "execution_count": 9,
   "metadata": {},
   "outputs": [
    {
     "data": {
      "text/html": [
       "<div>\n",
       "<style scoped>\n",
       "    .dataframe tbody tr th:only-of-type {\n",
       "        vertical-align: middle;\n",
       "    }\n",
       "\n",
       "    .dataframe tbody tr th {\n",
       "        vertical-align: top;\n",
       "    }\n",
       "\n",
       "    .dataframe thead th {\n",
       "        text-align: right;\n",
       "    }\n",
       "</style>\n",
       "<table border=\"1\" class=\"dataframe\">\n",
       "  <thead>\n",
       "    <tr style=\"text-align: right;\">\n",
       "      <th></th>\n",
       "      <th></th>\n",
       "      <th></th>\n",
       "      <th></th>\n",
       "      <th>10000.0</th>\n",
       "      <th>20000.0</th>\n",
       "    </tr>\n",
       "    <tr>\n",
       "      <th>atomic_number</th>\n",
       "      <th>ion_number</th>\n",
       "      <th>level_number_lower</th>\n",
       "      <th>level_number_upper</th>\n",
       "      <th></th>\n",
       "      <th></th>\n",
       "    </tr>\n",
       "  </thead>\n",
       "  <tbody>\n",
       "    <tr>\n",
       "      <th rowspan=\"11\" valign=\"top\">2</th>\n",
       "      <th rowspan=\"11\" valign=\"top\">0</th>\n",
       "      <th rowspan=\"4\" valign=\"top\">0</th>\n",
       "      <th>6</th>\n",
       "      <td>0.512696</td>\n",
       "      <td>0.512696</td>\n",
       "    </tr>\n",
       "    <tr>\n",
       "      <th>16</th>\n",
       "      <td>0.125310</td>\n",
       "      <td>0.125310</td>\n",
       "    </tr>\n",
       "    <tr>\n",
       "      <th>30</th>\n",
       "      <td>0.050135</td>\n",
       "      <td>0.050135</td>\n",
       "    </tr>\n",
       "    <tr>\n",
       "      <th>48</th>\n",
       "      <td>0.025079</td>\n",
       "      <td>0.025079</td>\n",
       "    </tr>\n",
       "    <tr>\n",
       "      <th>1</th>\n",
       "      <th>3</th>\n",
       "      <td>20.973321</td>\n",
       "      <td>22.514689</td>\n",
       "    </tr>\n",
       "    <tr>\n",
       "      <th>...</th>\n",
       "      <th>...</th>\n",
       "      <td>...</td>\n",
       "      <td>...</td>\n",
       "    </tr>\n",
       "    <tr>\n",
       "      <th>28</th>\n",
       "      <th>46</th>\n",
       "      <td>63.623049</td>\n",
       "      <td>89.779029</td>\n",
       "    </tr>\n",
       "    <tr>\n",
       "      <th rowspan=\"2\" valign=\"top\">29</th>\n",
       "      <th>39</th>\n",
       "      <td>1.822159</td>\n",
       "      <td>2.570976</td>\n",
       "    </tr>\n",
       "    <tr>\n",
       "      <th>47</th>\n",
       "      <td>267.281517</td>\n",
       "      <td>377.163149</td>\n",
       "    </tr>\n",
       "    <tr>\n",
       "      <th rowspan=\"2\" valign=\"top\">30</th>\n",
       "      <th>32</th>\n",
       "      <td>38.468438</td>\n",
       "      <td>53.712390</td>\n",
       "    </tr>\n",
       "    <tr>\n",
       "      <th>39</th>\n",
       "      <td>132.704403</td>\n",
       "      <td>186.980810</td>\n",
       "    </tr>\n",
       "  </tbody>\n",
       "</table>\n",
       "<p>180 rows × 2 columns</p>\n",
       "</div>"
      ],
      "text/plain": [
       "                                                                   10000.0  \\\n",
       "atomic_number ion_number level_number_lower level_number_upper               \n",
       "2             0          0                  6                     0.512696   \n",
       "                                            16                    0.125310   \n",
       "                                            30                    0.050135   \n",
       "                                            48                    0.025079   \n",
       "                         1                  3                    20.973321   \n",
       "...                                                                    ...   \n",
       "                         28                 46                   63.623049   \n",
       "                         29                 39                    1.822159   \n",
       "                                            47                  267.281517   \n",
       "                         30                 32                   38.468438   \n",
       "                                            39                  132.704403   \n",
       "\n",
       "                                                                   20000.0  \n",
       "atomic_number ion_number level_number_lower level_number_upper              \n",
       "2             0          0                  6                     0.512696  \n",
       "                                            16                    0.125310  \n",
       "                                            30                    0.050135  \n",
       "                                            48                    0.025079  \n",
       "                         1                  3                    22.514689  \n",
       "...                                                                    ...  \n",
       "                         28                 46                   89.779029  \n",
       "                         29                 39                    2.570976  \n",
       "                                            47                  377.163149  \n",
       "                         30                 32                   53.712390  \n",
       "                                            39                  186.980810  \n",
       "\n",
       "[180 rows x 2 columns]"
      ]
     },
     "execution_count": 9,
     "metadata": {},
     "output_type": "execute_result"
    }
   ],
   "source": [
    "x"
   ]
  },
  {
   "cell_type": "code",
   "execution_count": null,
   "metadata": {},
   "outputs": [],
   "source": []
  },
  {
   "cell_type": "code",
   "execution_count": null,
   "metadata": {},
   "outputs": [],
   "source": []
  }
 ],
 "metadata": {
  "kernelspec": {
   "display_name": "tardis-devel",
   "language": "python",
   "name": "python3"
  },
  "language_info": {
   "codemirror_mode": {
    "name": "ipython",
    "version": 3
   },
   "file_extension": ".py",
   "mimetype": "text/x-python",
   "name": "python",
   "nbconvert_exporter": "python",
   "pygments_lexer": "ipython3",
   "version": "3.12.4"
  }
 },
 "nbformat": 4,
 "nbformat_minor": 2
}
