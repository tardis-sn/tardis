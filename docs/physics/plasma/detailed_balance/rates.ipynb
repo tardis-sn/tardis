{
 "cells": [
  {
   "cell_type": "markdown",
   "metadata": {},
   "source": [
    "# Exploring rates"
   ]
  },
  {
   "cell_type": "code",
   "execution_count": 1,
   "metadata": {},
   "outputs": [
    {
     "name": "stderr",
     "output_type": "stream",
     "text": [
      "/Users/wkerzend/python/tardis/tardis/__init__.py:20: UserWarning: Astropy is already imported externally. Astropy should be imported after TARDIS.\n",
      "  warnings.warn(\n"
     ]
    },
    {
     "data": {
      "application/vnd.jupyter.widget-view+json": {
       "model_id": "74a48383035b4868ada4aaff3479bc62",
       "version_major": 2,
       "version_minor": 0
      },
      "text/plain": [
       "Iterations:          0/? [00:00<?, ?it/s]"
      ]
     },
     "metadata": {},
     "output_type": "display_data"
    },
    {
     "data": {
      "application/vnd.jupyter.widget-view+json": {
       "model_id": "2805425db52440e39ecd235c4da831aa",
       "version_major": 2,
       "version_minor": 0
      },
      "text/plain": [
       "Packets:             0/? [00:00<?, ?it/s]"
      ]
     },
     "metadata": {},
     "output_type": "display_data"
    }
   ],
   "source": [
    "import numpy as np\n",
    "import pandas as pd\n",
    "from astropy import units as u\n",
    "\n",
    "from tardis.io.atom_data import AtomData\n",
    "from tardis.plasma.assembly.base import PlasmaSolverFactory\n",
    "from tardis.plasma.radiation_field import DilutePlanckianRadiationField, PlanckianRadiationField\n",
    "from tardis.plasma.detailed_balance.rates import RadiativeRatesSolver\n"
   ]
  },
  {
   "cell_type": "code",
   "execution_count": 2,
   "metadata": {},
   "outputs": [],
   "source": [
    "atom_data = AtomData.from_hdf('kurucz_cd23_chianti_H_He.h5')\n",
    "lines_df = atom_data.lines"
   ]
  },
  {
   "cell_type": "code",
   "execution_count": 3,
   "metadata": {},
   "outputs": [],
   "source": [
    "einstein_coefficients = lines_df.loc[(14, 2, slice(None), slice(None)), :]"
   ]
  },
  {
   "cell_type": "code",
   "execution_count": 4,
   "metadata": {},
   "outputs": [],
   "source": [
    "rad_rate_solver = RadiativeRatesSolver(lines_df.loc[(14, 2, slice(None), slice(None)), :])\n",
    "rad_field = PlanckianRadiationField(temperature=10000 * u.K)"
   ]
  },
  {
   "cell_type": "code",
   "execution_count": 5,
   "metadata": {},
   "outputs": [
    {
     "ename": "TypeError",
     "evalue": "PlanckianRadiationField.calculate_mean_intensity() missing 1 required positional argument: 'nu'",
     "output_type": "error",
     "traceback": [
      "\u001b[0;31m---------------------------------------------------------------------------\u001b[0m",
      "\u001b[0;31mTypeError\u001b[0m                                 Traceback (most recent call last)",
      "Cell \u001b[0;32mIn[5], line 1\u001b[0m\n\u001b[0;32m----> 1\u001b[0m rates_df \u001b[38;5;241m=\u001b[39m \u001b[43mrad_rate_solver\u001b[49m\u001b[38;5;241;43m.\u001b[39;49m\u001b[43msolve\u001b[49m\u001b[43m(\u001b[49m\u001b[43mrad_field\u001b[49m\u001b[43m)\u001b[49m\n",
      "File \u001b[0;32m~/python/tardis/tardis/plasma/detailed_balance/rates.py:29\u001b[0m, in \u001b[0;36mRadiativeRatesSolver.solve\u001b[0;34m(self, radiation_field)\u001b[0m\n\u001b[1;32m     27\u001b[0m \u001b[38;5;28;01mdef\u001b[39;00m \u001b[38;5;21msolve\u001b[39m(\u001b[38;5;28mself\u001b[39m, radiation_field):\n\u001b[1;32m     28\u001b[0m     rates_index \u001b[38;5;241m=\u001b[39m \u001b[38;5;28mself\u001b[39m\u001b[38;5;241m.\u001b[39meinstein_coefficients\u001b[38;5;241m.\u001b[39mindex\u001b[38;5;241m.\u001b[39mcopy()\n\u001b[0;32m---> 29\u001b[0m     mean_intensity \u001b[38;5;241m=\u001b[39m \u001b[43mradiation_field\u001b[49m\u001b[38;5;241;43m.\u001b[39;49m\u001b[43mcalculate_mean_intensity\u001b[49m\u001b[43m(\u001b[49m\u001b[43m)\u001b[49m\n\u001b[1;32m     31\u001b[0m     \u001b[38;5;66;03m# first half is r_lu - second half is r_lu\u001b[39;00m\n\u001b[1;32m     32\u001b[0m     r_lu \u001b[38;5;241m=\u001b[39m \u001b[38;5;28mself\u001b[39m\u001b[38;5;241m.\u001b[39meinstein_coefficients[\u001b[38;5;124m\"\u001b[39m\u001b[38;5;124mB_lu\u001b[39m\u001b[38;5;124m\"\u001b[39m]\u001b[38;5;241m.\u001b[39mvalues \u001b[38;5;241m*\u001b[39m mean_intensity\n",
      "\u001b[0;31mTypeError\u001b[0m: PlanckianRadiationField.calculate_mean_intensity() missing 1 required positional argument: 'nu'"
     ]
    }
   ],
   "source": [
    "rates_df = rad_rate_solver.solve(rad_field)"
   ]
  },
  {
   "cell_type": "code",
   "execution_count": 11,
   "metadata": {},
   "outputs": [],
   "source": [
    "rad_rate_solver.solve(rad_field.calculate_mean_intensity(rad_rate_solver.einstein_coefficients.nu.values))"
   ]
  },
  {
   "cell_type": "code",
   "execution_count": 32,
   "metadata": {},
   "outputs": [
    {
     "data": {
      "text/plain": [
       "True"
      ]
     },
     "execution_count": 32,
     "metadata": {},
     "output_type": "execute_result"
    }
   ],
   "source": [
    "np.all(test.index.get_level_values(0).values < test.index.get_level_values(1).values)"
   ]
  },
  {
   "cell_type": "code",
   "execution_count": 23,
   "metadata": {},
   "outputs": [
    {
     "data": {
      "text/plain": [
       "MultiIndex([(  0,  96),\n",
       "            ( 10,  96),\n",
       "            ( 14,  96),\n",
       "            ( 23,  96),\n",
       "            ( 24,  96),\n",
       "            ( 26,  96),\n",
       "            ( 31,  96),\n",
       "            ( 49,  96),\n",
       "            ( 50,  96),\n",
       "            ( 52,  96),\n",
       "            ...\n",
       "            (141, 164),\n",
       "            (141, 164),\n",
       "            (142, 164),\n",
       "            (140, 164),\n",
       "            (141, 165),\n",
       "            (141, 165),\n",
       "            (141, 165),\n",
       "            (142, 165),\n",
       "            (142, 165),\n",
       "            (142, 166)],\n",
       "           names=['level_number_lower', 'level_number_upper'], length=1248)"
      ]
     },
     "execution_count": 23,
     "metadata": {},
     "output_type": "execute_result"
    }
   ],
   "source": [
    "test.index"
   ]
  },
  {
   "cell_type": "code",
   "execution_count": null,
   "metadata": {},
   "outputs": [],
   "source": []
  }
 ],
 "metadata": {
  "kernelspec": {
   "display_name": "tardis-devel",
   "language": "python",
   "name": "python3"
  },
  "language_info": {
   "codemirror_mode": {
    "name": "ipython",
    "version": 3
   },
   "file_extension": ".py",
   "mimetype": "text/x-python",
   "name": "python",
   "nbconvert_exporter": "python",
   "pygments_lexer": "ipython3",
   "version": "3.12.4"
  }
 },
 "nbformat": 4,
 "nbformat_minor": 2
}
