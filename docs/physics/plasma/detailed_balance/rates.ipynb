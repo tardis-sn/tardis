{
 "cells": [
  {
   "cell_type": "markdown",
   "metadata": {},
   "source": [
    "# Exploring rates"
   ]
  },
  {
   "cell_type": "code",
   "execution_count": 1,
   "metadata": {},
   "outputs": [
    {
     "name": "stderr",
     "output_type": "stream",
     "text": [
      "/Users/wkerzend/python/tardis/tardis/__init__.py:20: UserWarning: Astropy is already imported externally. Astropy should be imported after TARDIS.\n",
      "  warnings.warn(\n"
     ]
    },
    {
     "data": {
      "application/vnd.jupyter.widget-view+json": {
       "model_id": "d0cd45fbce2e4b6aaacc4535aa747073",
       "version_major": 2,
       "version_minor": 0
      },
      "text/plain": [
       "Iterations:          0/? [00:00<?, ?it/s]"
      ]
     },
     "metadata": {},
     "output_type": "display_data"
    },
    {
     "data": {
      "application/vnd.jupyter.widget-view+json": {
       "model_id": "a90468983bdc400aa206685472715bb3",
       "version_major": 2,
       "version_minor": 0
      },
      "text/plain": [
       "Packets:             0/? [00:00<?, ?it/s]"
      ]
     },
     "metadata": {},
     "output_type": "display_data"
    }
   ],
   "source": [
    "import numpy as np\n",
    "import pandas as pd\n",
    "from astropy import units as u\n",
    "\n",
    "from tardis.io.atom_data import AtomData\n",
    "from tardis.plasma.assembly.base import PlasmaSolverFactory\n",
    "from tardis.plasma.radiation_field import DilutePlanckianRadiationField\n",
    "\n"
   ]
  },
  {
   "cell_type": "code",
   "execution_count": 2,
   "metadata": {},
   "outputs": [],
   "source": [
    "atom_data = AtomData.from_hdf('kurucz_cd23_chianti_H_He.h5')"
   ]
  },
  {
   "cell_type": "code",
   "execution_count": 8,
   "metadata": {},
   "outputs": [
    {
     "name": "stderr",
     "output_type": "stream",
     "text": [
      "/var/folders/fg/nwmb1mss6kq3hwhj10dt0qh00000gn/T/ipykernel_36508/3652199509.py:1: PerformanceWarning: indexing past lexsort depth may impact performance.\n",
      "  atom_data.lines.loc[(14, 2), ['nu', 'A_ul', 'B_ul', 'B_lu', 'line_id']]\n"
     ]
    },
    {
     "data": {
      "text/html": [
       "<div>\n",
       "<style scoped>\n",
       "    .dataframe tbody tr th:only-of-type {\n",
       "        vertical-align: middle;\n",
       "    }\n",
       "\n",
       "    .dataframe tbody tr th {\n",
       "        vertical-align: top;\n",
       "    }\n",
       "\n",
       "    .dataframe thead th {\n",
       "        text-align: right;\n",
       "    }\n",
       "</style>\n",
       "<table border=\"1\" class=\"dataframe\">\n",
       "  <thead>\n",
       "    <tr style=\"text-align: right;\">\n",
       "      <th></th>\n",
       "      <th></th>\n",
       "      <th>nu</th>\n",
       "      <th>A_ul</th>\n",
       "      <th>B_ul</th>\n",
       "      <th>B_lu</th>\n",
       "      <th>line_id</th>\n",
       "    </tr>\n",
       "    <tr>\n",
       "      <th>level_number_lower</th>\n",
       "      <th>level_number_upper</th>\n",
       "      <th></th>\n",
       "      <th></th>\n",
       "      <th></th>\n",
       "      <th></th>\n",
       "      <th></th>\n",
       "    </tr>\n",
       "  </thead>\n",
       "  <tbody>\n",
       "    <tr>\n",
       "      <th>0</th>\n",
       "      <th>96</th>\n",
       "      <td>7.342923e+15</td>\n",
       "      <td>4.416900e+07</td>\n",
       "      <td>7.565994e+06</td>\n",
       "      <td>2.269798e+07</td>\n",
       "      <td>65821</td>\n",
       "    </tr>\n",
       "    <tr>\n",
       "      <th>10</th>\n",
       "      <th>96</th>\n",
       "      <td>3.057509e+15</td>\n",
       "      <td>3.119717e+06</td>\n",
       "      <td>7.402309e+06</td>\n",
       "      <td>4.441385e+06</td>\n",
       "      <td>65936</td>\n",
       "    </tr>\n",
       "    <tr>\n",
       "      <th>14</th>\n",
       "      <th>96</th>\n",
       "      <td>2.574130e+15</td>\n",
       "      <td>8.215624e+06</td>\n",
       "      <td>3.266664e+07</td>\n",
       "      <td>9.799993e+07</td>\n",
       "      <td>65995</td>\n",
       "    </tr>\n",
       "    <tr>\n",
       "      <th>23</th>\n",
       "      <th>96</th>\n",
       "      <td>1.299170e+15</td>\n",
       "      <td>9.788389e+05</td>\n",
       "      <td>3.027395e+07</td>\n",
       "      <td>3.027395e+07</td>\n",
       "      <td>66231</td>\n",
       "    </tr>\n",
       "    <tr>\n",
       "      <th>24</th>\n",
       "      <th>96</th>\n",
       "      <td>1.299153e+15</td>\n",
       "      <td>2.955972e+06</td>\n",
       "      <td>9.142703e+07</td>\n",
       "      <td>5.485622e+07</td>\n",
       "      <td>66232</td>\n",
       "    </tr>\n",
       "    <tr>\n",
       "      <th>...</th>\n",
       "      <th>...</th>\n",
       "      <td>...</td>\n",
       "      <td>...</td>\n",
       "      <td>...</td>\n",
       "      <td>...</td>\n",
       "      <td>...</td>\n",
       "    </tr>\n",
       "    <tr>\n",
       "      <th rowspan=\"2\" valign=\"top\">141</th>\n",
       "      <th>165</th>\n",
       "      <td>9.719751e+13</td>\n",
       "      <td>1.641959e+07</td>\n",
       "      <td>1.212697e+12</td>\n",
       "      <td>1.374390e+12</td>\n",
       "      <td>67281</td>\n",
       "    </tr>\n",
       "    <tr>\n",
       "      <th>165</th>\n",
       "      <td>9.719751e+13</td>\n",
       "      <td>1.568058e+03</td>\n",
       "      <td>1.158116e+08</td>\n",
       "      <td>1.312532e+08</td>\n",
       "      <td>67284</td>\n",
       "    </tr>\n",
       "    <tr>\n",
       "      <th rowspan=\"3\" valign=\"top\">142</th>\n",
       "      <th>165</th>\n",
       "      <td>9.719751e+13</td>\n",
       "      <td>1.397533e+05</td>\n",
       "      <td>1.032172e+10</td>\n",
       "      <td>1.032172e+10</td>\n",
       "      <td>67280</td>\n",
       "    </tr>\n",
       "    <tr>\n",
       "      <th>165</th>\n",
       "      <td>9.719751e+13</td>\n",
       "      <td>1.189494e+05</td>\n",
       "      <td>8.785211e+09</td>\n",
       "      <td>8.785211e+09</td>\n",
       "      <td>67285</td>\n",
       "    </tr>\n",
       "    <tr>\n",
       "      <th>166</th>\n",
       "      <td>9.719751e+13</td>\n",
       "      <td>1.648381e+07</td>\n",
       "      <td>1.217440e+12</td>\n",
       "      <td>1.360668e+12</td>\n",
       "      <td>67283</td>\n",
       "    </tr>\n",
       "  </tbody>\n",
       "</table>\n",
       "<p>1248 rows × 5 columns</p>\n",
       "</div>"
      ],
      "text/plain": [
       "                                                 nu          A_ul  \\\n",
       "level_number_lower level_number_upper                               \n",
       "0                  96                  7.342923e+15  4.416900e+07   \n",
       "10                 96                  3.057509e+15  3.119717e+06   \n",
       "14                 96                  2.574130e+15  8.215624e+06   \n",
       "23                 96                  1.299170e+15  9.788389e+05   \n",
       "24                 96                  1.299153e+15  2.955972e+06   \n",
       "...                                             ...           ...   \n",
       "141                165                 9.719751e+13  1.641959e+07   \n",
       "                   165                 9.719751e+13  1.568058e+03   \n",
       "142                165                 9.719751e+13  1.397533e+05   \n",
       "                   165                 9.719751e+13  1.189494e+05   \n",
       "                   166                 9.719751e+13  1.648381e+07   \n",
       "\n",
       "                                               B_ul          B_lu  line_id  \n",
       "level_number_lower level_number_upper                                       \n",
       "0                  96                  7.565994e+06  2.269798e+07    65821  \n",
       "10                 96                  7.402309e+06  4.441385e+06    65936  \n",
       "14                 96                  3.266664e+07  9.799993e+07    65995  \n",
       "23                 96                  3.027395e+07  3.027395e+07    66231  \n",
       "24                 96                  9.142703e+07  5.485622e+07    66232  \n",
       "...                                             ...           ...      ...  \n",
       "141                165                 1.212697e+12  1.374390e+12    67281  \n",
       "                   165                 1.158116e+08  1.312532e+08    67284  \n",
       "142                165                 1.032172e+10  1.032172e+10    67280  \n",
       "                   165                 8.785211e+09  8.785211e+09    67285  \n",
       "                   166                 1.217440e+12  1.360668e+12    67283  \n",
       "\n",
       "[1248 rows x 5 columns]"
      ]
     },
     "execution_count": 8,
     "metadata": {},
     "output_type": "execute_result"
    }
   ],
   "source": [
    "atom_data.lines.loc[(14, 2), ['nu', 'A_ul', 'B_ul', 'B_lu', 'line_id']]"
   ]
  },
  {
   "cell_type": "code",
   "execution_count": null,
   "metadata": {},
   "outputs": [],
   "source": []
  }
 ],
 "metadata": {
  "kernelspec": {
   "display_name": "tardis-devel",
   "language": "python",
   "name": "python3"
  },
  "language_info": {
   "codemirror_mode": {
    "name": "ipython",
    "version": 3
   },
   "file_extension": ".py",
   "mimetype": "text/x-python",
   "name": "python",
   "nbconvert_exporter": "python",
   "pygments_lexer": "ipython3",
   "version": "3.12.4"
  }
 },
 "nbformat": 4,
 "nbformat_minor": 2
}
