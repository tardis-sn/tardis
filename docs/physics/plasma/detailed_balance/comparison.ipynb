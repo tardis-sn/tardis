{
 "cells": [
  {
   "cell_type": "code",
   "execution_count": null,
   "metadata": {},
   "outputs": [],
   "source": [
    "from tardis.io.atom_data import AtomData\n",
    "from tardis.plasma.detailed_balance.rates import (\n",
    "    RadiativeRatesSolver,\n",
    "    ThermalCollisionalRateSolver,\n",
    "    UpsilonRegemorterSolver,\n",
    ")\n",
    "from tardis.plasma.radiation_field import (\n",
    "    PlanckianRadiationField,\n",
    ")\n",
    "\n",
    "from astropy import units as u"
   ]
  },
  {
   "cell_type": "code",
   "execution_count": null,
   "metadata": {},
   "outputs": [],
   "source": [
    "from tardis.model.base import SimulationState\n",
    "from tardis.io.configuration.config_reader import Configuration\n",
    "\n",
    "config = Configuration.from_yaml(\"/home/afullard/tardis/test_continuum_template_wkerzen_rate_coeffs.yml\")"
   ]
  },
  {
   "cell_type": "code",
   "execution_count": 3,
   "metadata": {},
   "outputs": [],
   "source": [
    "def get_radiative_rates(rad_field, radiative_transitions):\n",
    "    rad_rate_solver = RadiativeRatesSolver(radiative_transitions)\n",
    "    return rad_rate_solver.solve(rad_field)"
   ]
  },
  {
   "cell_type": "code",
   "execution_count": 4,
   "metadata": {},
   "outputs": [],
   "source": [
    "def get_estimated_upsilon_rates(temperature, radiative_transitions):\n",
    "    col_strength_solver = UpsilonRegemorterSolver(radiative_transitions)\n",
    "    return col_strength_solver.solve(temperature)"
   ]
  },
  {
   "cell_type": "code",
   "execution_count": 5,
   "metadata": {},
   "outputs": [],
   "source": [
    "def get_cmfgen_collisional_rates(atom_data, temperature, radiative_transitions,):\n",
    "    col_strength_temperatures = atom_data.collision_data_temperatures\n",
    "    col_strengths = atom_data.yg_data.loc[(1,0, slice(None), slice(None)), :]\n",
    "    collisional_rate_solver = ThermalCollisionalRateSolver(atom_data.levels, radiative_transitions, col_strength_temperatures, col_strengths, 'cmfgen')\n",
    "    return collisional_rate_solver.solve(temperature)"
   ]
  },
  {
   "cell_type": "code",
   "execution_count": 6,
   "metadata": {},
   "outputs": [],
   "source": [
    "def get_chianti_collisional_rates(atom_data, temperature, radiative_transitions,):\n",
    "    col_strength_temperatures = atom_data.collision_data_temperatures\n",
    "    col_strengths = atom_data.collision_data.loc[(1,0, slice(None), slice(None)), :]\n",
    "    collisional_rate_solver = ThermalCollisionalRateSolver(atom_data.levels, radiative_transitions, col_strength_temperatures, col_strengths, 'chianti')\n",
    "    return collisional_rate_solver.solve(temperature)"
   ]
  },
  {
   "cell_type": "markdown",
   "metadata": {},
   "source": [
    "## Chianti rates"
   ]
  },
  {
   "cell_type": "code",
   "execution_count": 62,
   "metadata": {},
   "outputs": [],
   "source": [
    "chianti_atom_data = AtomData.from_hdf('~/carsus/docs/kurucz_cd23_chianti_H_He.h5')\n",
    "chianti_radiative_transitions = chianti_atom_data.lines.loc[(1,0, slice(None), slice(None)), :]"
   ]
  },
  {
   "cell_type": "code",
   "execution_count": null,
   "metadata": {},
   "outputs": [],
   "source": [
    "import pandas as pd\n",
    "\n",
    "chianti_sim_state = SimulationState.from_config(config, atom_data=chianti_atom_data)\n",
    "\n",
    "christian_coeff = pd.HDFStore(\"~/tardis/collisional_rate_coefficients.hdf\")\n",
    "christian_rate_coeff_df = pd.concat([christian_coeff[\"coll_exc_coeff\"], christian_coeff[\"coll_deexc_coeff\"].reorder_levels([0,1,3,2])])\n",
    "\n",
    "temperature = christian_coeff[\"t_electrons\"].values * u.K\n",
    "rad_field = PlanckianRadiationField(temperature=temperature)"
   ]
  },
  {
   "cell_type": "markdown",
   "metadata": {},
   "source": [
    "Chianti data comes from Carsus as `g_ratio = g_lower / g_upper`, `delta_E = energy_upper - energy_lower`, and a table of `beta_coll * upsilon / (g_upper * sqrt(T))`. See eq 9.57 Hubeny and Mihelas. Multiply by the boltzmann factor `exp(-delta_E / k * T)` to get the excitation rate. De-excitation rate should be `Excitation rate * (g_upper / g_lower) / boltzmann_factor` which for the Chianti data is `Excitation rate * (1 / g_ratio) / boltzmann_factor`"
   ]
  },
  {
   "cell_type": "code",
   "execution_count": 9,
   "metadata": {},
   "outputs": [],
   "source": [
    "chianti_radiative_rates = get_radiative_rates(rad_field, chianti_radiative_transitions)"
   ]
  },
  {
   "cell_type": "code",
   "execution_count": 10,
   "metadata": {},
   "outputs": [],
   "source": [
    "chianti_upsilon_rates = get_estimated_upsilon_rates(temperature, chianti_radiative_transitions)"
   ]
  },
  {
   "cell_type": "code",
   "execution_count": 11,
   "metadata": {},
   "outputs": [],
   "source": [
    "chianti_collisional_rates = get_chianti_collisional_rates(chianti_atom_data, temperature, chianti_radiative_transitions)"
   ]
  },
  {
   "cell_type": "markdown",
   "metadata": {},
   "source": [
    "Raw Chianti upsilon/g values currently differ from CMFGEN by factor of ~10^-7. Delta energies are the same (within data error). Chianti level data is very different. `g` values are basically the same ballpark though. Conversion of Chianti rate data into upsilon/g seems correct, but there may be an extra Boltzmann factor in the Chianti data. Changed to divide by lower level `g` to match CMFGEN."
   ]
  },
  {
   "cell_type": "code",
   "execution_count": null,
   "metadata": {},
   "outputs": [],
   "source": [
    "chianti_collisional_rates"
   ]
  },
  {
   "cell_type": "code",
   "execution_count": null,
   "metadata": {},
   "outputs": [],
   "source": [
    "chianti_collisional_rates.loc[1,0,0,1].plot(logy=True,label=\"TARDIS exc\",legend=True)\n",
    "chianti_collisional_rates.loc[1,0,1,0].plot(logy=True,label=\"TARDIS deexc\",legend=True)\n",
    "christian_coeff[\"coll_exc_coeff\"].loc[1,0,0,1].plot(logy=True,label=\"Christian exc\",legend=True,ylabel=\"Coeff\",xlabel=\"Shell\",ls=\"\", marker = '+')\n",
    "christian_coeff[\"coll_deexc_coeff\"].loc[1,0,0,1].plot(logy=True,label=\"Christian deexc\",legend=True,ylabel=\"Coeff\",xlabel=\"Shell\",ls=\"\", marker = '+')"
   ]
  },
  {
   "cell_type": "code",
   "execution_count": null,
   "metadata": {},
   "outputs": [],
   "source": [
    "chianti_collisional_rates.loc[1,0,0,2].plot(logy=True,label=\"TARDIS exc\",legend=True)\n",
    "chianti_collisional_rates.loc[1,0,2,0].plot(logy=True,label=\"TARDIS deexc\",legend=True)\n",
    "christian_coeff[\"coll_exc_coeff\"].loc[1,0,0,2].plot(logy=True,label=\"Christian exc\",legend=True,ylabel=\"Coeff\",xlabel=\"Shell\",ls=\"\", marker = '+')\n",
    "christian_coeff[\"coll_deexc_coeff\"].loc[1,0,0,2].plot(logy=True,label=\"Christian deexc\",legend=True,ylabel=\"Coeff\",xlabel=\"Shell\",ls=\"\", marker = '+')"
   ]
  },
  {
   "cell_type": "code",
   "execution_count": null,
   "metadata": {},
   "outputs": [],
   "source": [
    "chianti_collisional_rates.loc[1,0,0,3].plot(logy=True,label=\"TARDIS exc\",legend=True)\n",
    "chianti_collisional_rates.loc[1,0,3,0].plot(logy=True,label=\"TARDIS deexc\",legend=True)\n",
    "christian_coeff[\"coll_exc_coeff\"].loc[1,0,0,3].plot(logy=True,label=\"Christian exc\",legend=True,ylabel=\"Coeff\",xlabel=\"Shell\",ls=\"\", marker = '+')\n",
    "christian_coeff[\"coll_deexc_coeff\"].loc[1,0,0,3].plot(logy=True,label=\"Christian deexc\",legend=True,ylabel=\"Coeff\",xlabel=\"Shell\",ls=\"\", marker = '+')"
   ]
  },
  {
   "cell_type": "code",
   "execution_count": null,
   "metadata": {},
   "outputs": [],
   "source": [
    "chianti_collisional_rates"
   ]
  },
  {
   "cell_type": "markdown",
   "metadata": {},
   "source": [
    "## CMFGEN collisional rates"
   ]
  },
  {
   "cell_type": "code",
   "execution_count": 17,
   "metadata": {},
   "outputs": [],
   "source": [
    "cmfgen_atom_data = AtomData.from_hdf('~/tardis-refdata/nlte_atom_data/TestNLTE_He_Ti.h5')\n",
    "cmfgen_radiative_transitions = cmfgen_atom_data.lines.loc[(1,0, slice(None), slice(None)), :]"
   ]
  },
  {
   "cell_type": "code",
   "execution_count": null,
   "metadata": {},
   "outputs": [],
   "source": [
    "cmfgen_sim_state = SimulationState.from_config(config, atom_data=cmfgen_atom_data)\n",
    "\n",
    "temperature = christian_coeff[\"t_electrons\"].values * u.K\n",
    "rad_field = PlanckianRadiationField(temperature=temperature)"
   ]
  },
  {
   "cell_type": "code",
   "execution_count": 19,
   "metadata": {},
   "outputs": [],
   "source": [
    "cmfgen_radiative_rates = get_radiative_rates(rad_field, cmfgen_radiative_transitions)"
   ]
  },
  {
   "cell_type": "code",
   "execution_count": 20,
   "metadata": {},
   "outputs": [],
   "source": [
    "cmfgen_upsilon_rates = get_estimated_upsilon_rates(temperature, cmfgen_radiative_transitions)"
   ]
  },
  {
   "cell_type": "code",
   "execution_count": 21,
   "metadata": {},
   "outputs": [],
   "source": [
    "cmfgen_collisional_rates = get_cmfgen_collisional_rates(cmfgen_atom_data, temperature, cmfgen_radiative_transitions)"
   ]
  },
  {
   "cell_type": "code",
   "execution_count": null,
   "metadata": {},
   "outputs": [],
   "source": [
    "cmfgen_collisional_rates"
   ]
  },
  {
   "cell_type": "code",
   "execution_count": null,
   "metadata": {},
   "outputs": [],
   "source": [
    "chianti_collisional_rates"
   ]
  },
  {
   "cell_type": "code",
   "execution_count": 24,
   "metadata": {},
   "outputs": [],
   "source": [
    "assert cmfgen_collisional_rates.shape == christian_rate_coeff_df.shape"
   ]
  },
  {
   "cell_type": "code",
   "execution_count": 25,
   "metadata": {},
   "outputs": [],
   "source": [
    "pd.testing.assert_frame_equal(cmfgen_collisional_rates.sort_index() * (1-0.000015),christian_rate_coeff_df.sort_index(),check_names=False)"
   ]
  },
  {
   "cell_type": "code",
   "execution_count": 26,
   "metadata": {},
   "outputs": [],
   "source": [
    "christian_rate_coeff_df = christian_rate_coeff_df.sort_index()"
   ]
  },
  {
   "cell_type": "code",
   "execution_count": 27,
   "metadata": {},
   "outputs": [],
   "source": [
    "christian_rate_coeff_df.index.names=cmfgen_collisional_rates.sort_index().index.names"
   ]
  },
  {
   "cell_type": "code",
   "execution_count": null,
   "metadata": {},
   "outputs": [],
   "source": [
    "(cmfgen_collisional_rates - christian_rate_coeff_df) / christian_rate_coeff_df"
   ]
  },
  {
   "cell_type": "code",
   "execution_count": 29,
   "metadata": {},
   "outputs": [],
   "source": [
    "from tardis import constants as const\n",
    "import numpy as np\n",
    "beta_coll = (\n",
    "    (const.h**4 / (8 * const.k_B * const.m_e**3 * np.pi**3)) ** 0.5\n",
    ").cgs"
   ]
  },
  {
   "cell_type": "code",
   "execution_count": null,
   "metadata": {},
   "outputs": [],
   "source": [
    "abs(8.63e-6 - beta_coll.value) / min(8.63e-6, beta_coll.value)"
   ]
  },
  {
   "cell_type": "code",
   "execution_count": null,
   "metadata": {},
   "outputs": [],
   "source": [
    "cmfgen_collisional_rates.loc[1,0,1,2].plot(logy=False,label=\"TARDIS exc\",legend=True)\n",
    "cmfgen_collisional_rates.loc[1,0,2,1].plot(logy=False,label=\"TARDIS deexc\",legend=True)\n",
    "#plasma.coll_exc_coeff.loc[1,0,1,2].plot(logy=True,label=\"TARDIS old exc\",legend=True)\n",
    "#plasma.coll_deexc_coeff.loc[1,0,1,2].plot(logy=True,label=\"TARDIS old deexc\",legend=True)\n",
    "christian_coeff[\"coll_exc_coeff\"].loc[1,0,1,2].plot(logy=False,label=\"Christian exc\",legend=True,ylabel=\"Coeff\",xlabel=\"Shell\",ls=\"\", marker = '+')\n",
    "christian_coeff[\"coll_deexc_coeff\"].loc[1,0,1,2].plot(logy=False,label=\"Christian deexc\",legend=True,ylabel=\"Coeff\",xlabel=\"Shell\",ls=\"\", marker = '+')"
   ]
  },
  {
   "cell_type": "code",
   "execution_count": null,
   "metadata": {},
   "outputs": [],
   "source": [
    "cmfgen_collisional_rates.loc[1,0,0,1].plot(logy=False,label=\"TARDIS exc\",legend=True)\n",
    "cmfgen_collisional_rates.loc[1,0,1,0].plot(logy=False,label=\"TARDIS deexc\",legend=True)\n",
    "#plasma.coll_exc_coeff.loc[1,0,1,2].plot(logy=True,label=\"TARDIS old exc\",legend=True)\n",
    "#plasma.coll_deexc_coeff.loc[1,0,1,2].plot(logy=True,label=\"TARDIS old deexc\",legend=True)\n",
    "christian_coeff[\"coll_exc_coeff\"].loc[1,0,0,1].plot(logy=False,label=\"Christian exc\",legend=True,ylabel=\"Coeff\",xlabel=\"Shell\",ls=\"\", marker = '+')\n",
    "christian_coeff[\"coll_deexc_coeff\"].loc[1,0,0,1].plot(logy=False,label=\"Christian deexc\",legend=True,ylabel=\"Coeff\",xlabel=\"Shell\",ls=\"\", marker = '+')"
   ]
  },
  {
   "cell_type": "code",
   "execution_count": null,
   "metadata": {},
   "outputs": [],
   "source": [
    "cmfgen_collisional_rates.loc[1,0,1,29].plot(logy=False,label=\"TARDIS exc\",legend=True)\n",
    "cmfgen_collisional_rates.loc[1,0,29,1].plot(logy=False,label=\"TARDIS deexc\",legend=True)\n",
    "christian_coeff[\"coll_exc_coeff\"].loc[1,0,1,29].plot(logy=False,label=\"Christian exc\",legend=True,ylabel=\"Coeff\",xlabel=\"Shell\",ls=\"\", marker = '+')\n",
    "christian_coeff[\"coll_deexc_coeff\"].loc[1,0,1,29].plot(logy=False,label=\"Christian deexc\",legend=True,ylabel=\"Coeff\",xlabel=\"Shell\",ls=\"\", marker = '+')"
   ]
  },
  {
   "cell_type": "code",
   "execution_count": null,
   "metadata": {},
   "outputs": [],
   "source": [
    "cmfgen_collisional_rates.sort_index().plot(logy=True,label=\"TARDIS\",legend=True)\n",
    "christian_coeff[\"coll_deexc_coeff\"].sort_index().plot(logy=True,label=\"Christian\",legend=True,ylabel=\"Coeff\",xlabel=\"Shell\")"
   ]
  },
  {
   "cell_type": "code",
   "execution_count": null,
   "metadata": {},
   "outputs": [],
   "source": [
    "cmfgen_collisional_rates[0].sort_index().plot(logy=True,label=\"CMFGEN\",legend=True)"
   ]
  },
  {
   "cell_type": "code",
   "execution_count": null,
   "metadata": {},
   "outputs": [],
   "source": [
    "chianti_collisional_rates[0].sort_index().plot(logy=True,label=\"Chianti\",legend=True, ylabel=\"Coeff\")"
   ]
  },
  {
   "cell_type": "code",
   "execution_count": 37,
   "metadata": {},
   "outputs": [],
   "source": [
    "chianti_collisional_rates_full = chianti_collisional_rates.reindex(cmfgen_collisional_rates.index)"
   ]
  },
  {
   "cell_type": "code",
   "execution_count": null,
   "metadata": {},
   "outputs": [],
   "source": [
    "cmfgen_collisional_rates[0].sort_index().plot(logy=True,label=\"CMFGEN\",legend=True)\n",
    "chianti_collisional_rates_full[0].sort_index().plot(logy=True,label=\"Chianti\",legend=True, ylabel=\"Coeff\")"
   ]
  },
  {
   "cell_type": "code",
   "execution_count": null,
   "metadata": {},
   "outputs": [],
   "source": [
    "chianti_atom_data_old = AtomData.from_hdf('/home/afullard/tardis-refdata/atom_data/kurucz_atom_chianti_many.h5')\n",
    "chianti_atom_data_old.prepare_atom_data([1],'macroatom',[(1, 0)],[])\n",
    "coll_matrix = chianti_atom_data_old.nlte_data.get_collision_matrix((1,0), temperature.value)"
   ]
  },
  {
   "cell_type": "code",
   "execution_count": null,
   "metadata": {},
   "outputs": [],
   "source": [
    "import matplotlib.pyplot as plt\n",
    "\n",
    "plt.imshow(coll_matrix[:,:,0])"
   ]
  },
  {
   "cell_type": "code",
   "execution_count": null,
   "metadata": {},
   "outputs": [],
   "source": [
    "plt.plot(coll_matrix[0,1,:],label=\"Old TARDIS scheme\")\n",
    "plt.plot(chianti_collisional_rates.loc[1,0,1,0],label=\"New TARDIS scheme\")\n",
    "plt.xlabel(\"Shell\")\n",
    "plt.ylabel(\"Coeff\")\n",
    "plt.legend()"
   ]
  },
  {
   "cell_type": "code",
   "execution_count": null,
   "metadata": {},
   "outputs": [],
   "source": [
    "(coll_matrix[0,1,:] - chianti_collisional_rates.loc[1,0,1,0]) / chianti_collisional_rates.loc[1,0,1,0]"
   ]
  },
  {
   "cell_type": "code",
   "execution_count": null,
   "metadata": {},
   "outputs": [],
   "source": [
    "coll_matrix[1,0,:] / chianti_collisional_rates.loc[1,0,0,1]"
   ]
  },
  {
   "cell_type": "code",
   "execution_count": null,
   "metadata": {},
   "outputs": [],
   "source": [
    "plt.plot(coll_matrix[1,0,:],label=\"Old TARDIS scheme\")\n",
    "plt.plot(chianti_collisional_rates.loc[1,0,0,1],label=\"New TARDIS scheme\")\n",
    "plt.xlabel(\"Shell\")\n",
    "plt.ylabel(\"Coeff\")\n",
    "plt.legend()"
   ]
  },
  {
   "cell_type": "code",
   "execution_count": null,
   "metadata": {},
   "outputs": [],
   "source": []
  }
 ],
 "metadata": {
  "kernelspec": {
   "display_name": "tardis",
   "language": "python",
   "name": "python3"
  },
  "language_info": {
   "codemirror_mode": {
    "name": "ipython",
    "version": 3
   },
   "file_extension": ".py",
   "mimetype": "text/x-python",
   "name": "python",
   "nbconvert_exporter": "python",
   "pygments_lexer": "ipython3",
   "version": "3.12.4"
  }
 },
 "nbformat": 4,
 "nbformat_minor": 2
}
