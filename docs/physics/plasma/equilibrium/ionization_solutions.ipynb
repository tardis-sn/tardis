{
 "cells": [
  {
   "cell_type": "markdown",
   "id": "0edde63f",
   "metadata": {},
   "source": [
    "# Calculating ion solutions"
   ]
  },
  {
   "cell_type": "markdown",
   "id": "39d6aea8",
   "metadata": {},
   "source": [
    "## Configuration\n",
    "\n",
    "Hydrogen only. Requires `dilute-lte` excitation and `nebular` ionization to provide the first approximation for the solver"
   ]
  },
  {
   "cell_type": "code",
   "execution_count": 1,
   "id": "ac65f71f",
   "metadata": {},
   "outputs": [
    {
     "data": {
      "application/vnd.jupyter.widget-view+json": {
       "model_id": "713b3c177c20482c90b5cb7e03b0f06a",
       "version_major": 2,
       "version_minor": 0
      },
      "text/plain": [
       "Iterations:          0/? [00:00<?, ?it/s]"
      ]
     },
     "metadata": {},
     "output_type": "display_data"
    },
    {
     "data": {
      "application/vnd.jupyter.widget-view+json": {
       "model_id": "7d90494dc9d24c33b984307de92ff175",
       "version_major": 2,
       "version_minor": 0
      },
      "text/plain": [
       "Packets:             0/? [00:00<?, ?it/s]"
      ]
     },
     "metadata": {},
     "output_type": "display_data"
    }
   ],
   "source": [
    "from pathlib import Path\n",
    "\n",
    "import tardis\n",
    "from tardis.io.configuration.config_reader import Configuration\n",
    "\n",
    "config = Configuration.from_yaml((Path(tardis.__file__).parent / \"plasma/tests/data/plasma_base_test_config.yml\"))\n",
    "\n",
    "config.model.abundances.He = 0\n",
    "config.model.abundances.H = 1\n",
    "\n",
    "config.plasma.excitation = \"dilute-lte\"\n",
    "config.plasma.ionization = \"nebular\""
   ]
  },
  {
   "cell_type": "markdown",
   "id": "2d0d97b2",
   "metadata": {},
   "source": [
    "## Atomic data\n",
    "\n",
    "Requires photoionization cross section data"
   ]
  },
  {
   "cell_type": "code",
   "execution_count": 2,
   "id": "5d619814",
   "metadata": {},
   "outputs": [
    {
     "name": "stderr",
     "output_type": "stream",
     "text": [
      "Number of density points larger than number of shells. Assuming inner point irrelevant\n",
      "model_isotope_time_0 is not set in the configuration. Isotopic mass fractions will not be decayed and is assumed to be correct for the time_explosion. THIS IS NOT RECOMMENDED!\n"
     ]
    }
   ],
   "source": [
    "from copy import deepcopy\n",
    "\n",
    "from tardis.io.atom_data import AtomData\n",
    "from tardis.model.base import SimulationState\n",
    "\n",
    "atom_data = AtomData.from_hdf('/tardis-regression-data/atom_data/nlte_atom_data/TestNLTE_He_Ti.h5')\n",
    "\n",
    "atom_data2 = deepcopy(atom_data)\n",
    "\n",
    "# Prepare atom data for Hydrogen only, so we have access to the H photoionization data\n",
    "atom_data2.prepare_atom_data([1], \"macroatom\", [], [(1, 0)])\n",
    "\n",
    "sim_state = SimulationState.from_config(config, atom_data=atom_data)"
   ]
  },
  {
   "cell_type": "code",
   "execution_count": 3,
   "id": "7748425f",
   "metadata": {},
   "outputs": [],
   "source": [
    "import astropy.units as u\n",
    "import numpy as np\n",
    "\n",
    "from tardis.plasma.electron_energy_distribution import (\n",
    "    ThermalElectronEnergyDistribution,\n",
    ")\n",
    "from tardis.plasma.radiation_field import (\n",
    "    DilutePlanckianRadiationField,\n",
    ")\n",
    "\n",
    "# Test that the ionization calculations work for multiple cells and match the density config\n",
    "rad_field = DilutePlanckianRadiationField(np.ones(20) * 10000 * u.K, dilution_factor=np.ones(20) * 1.0)\n",
    "\n",
    "electron_dist = ThermalElectronEnergyDistribution(0, np.ones(20) * 10000 * u.K, np.ones(20) * 2e9 * u.cm**-3)"
   ]
  },
  {
   "cell_type": "markdown",
   "id": "1eeb8c8c",
   "metadata": {},
   "source": [
    "# Create a plasma"
   ]
  },
  {
   "cell_type": "code",
   "execution_count": 4,
   "id": "73708f4a",
   "metadata": {},
   "outputs": [
    {
     "name": "stderr",
     "output_type": "stream",
     "text": [
      "Zeta_data missing - replaced with 1s. Missing ions: []\n",
      "Zeta_data missing - replaced with 1s. Missing ions: []\n"
     ]
    }
   ],
   "source": [
    "from tardis.plasma.assembly.base import PlasmaSolverFactory\n",
    "\n",
    "plasma_solver_factory = PlasmaSolverFactory(atom_data, config)\n",
    "plasma_solver_factory.prepare_factory([1],\"tardis.plasma.properties.property_collections\" )\n",
    "plasma = plasma_solver_factory.assemble(sim_state.calculate_elemental_number_density(atom_data.atom_data.mass), rad_field, sim_state.time_explosion, electron_dist.number_density, link_t_rad_t_electron=1)"
   ]
  },
  {
   "cell_type": "markdown",
   "id": "626e0683",
   "metadata": {},
   "source": [
    "# Create LTE properties"
   ]
  },
  {
   "cell_type": "code",
   "execution_count": 5,
   "id": "6eac3960",
   "metadata": {},
   "outputs": [],
   "source": [
    "from tardis.plasma.properties.ion_population import IonNumberDensity\n",
    "\n",
    "\n",
    "class LTEIonNumberDensity(IonNumberDensity):\n",
    "    outputs = ('lte_ion_number_density', )\n",
    "    latex_name = ('N_{i,j}^*',)\n",
    "\n",
    "    def calculate(self, phi_Te, lte_partition_function_Te, number_density, block_ids, ion_threshold):\n",
    "        return self.calculate_with_n_electron(\n",
    "            phi_Te, lte_partition_function_Te, number_density, self._electron_densities, block_ids, ion_threshold)"
   ]
  },
  {
   "cell_type": "code",
   "execution_count": 6,
   "id": "e7ba7c5c",
   "metadata": {},
   "outputs": [],
   "source": [
    "from tardis.plasma.properties.level_population import (\n",
    "    LevelNumberDensity,\n",
    ")\n",
    "\n",
    "\n",
    "class LTELevelNumberDensity(LevelNumberDensity):\n",
    "    outputs = ('lte_level_number_density',)\n",
    "    latex_name = ('N_{i,j,k}^*',)\n",
    "\n",
    "    def _calculate_dilute_lte(self, lte_level_boltzmann_factor_Te, lte_ion_number_density,\n",
    "                              levels, lte_partition_function_Te):\n",
    "        return super()._calculate_dilute_lte(\n",
    "            lte_level_boltzmann_factor_Te, lte_ion_number_density, levels, lte_partition_function_Te)"
   ]
  },
  {
   "cell_type": "code",
   "execution_count": 7,
   "id": "891296ad",
   "metadata": {},
   "outputs": [],
   "source": [
    "lte_ion_number_density = LTEIonNumberDensity(plasma,\n",
    "                                             electron_densities=plasma.electron_densities\n",
    "                                             ).calculate(\n",
    "                                                 plasma.thermal_phi_lte,\n",
    "                                                 plasma.thermal_lte_partition_function,\n",
    "                                                 plasma.number_density,\n",
    "                                                 None, 1e-20)[0]"
   ]
  },
  {
   "cell_type": "code",
   "execution_count": 8,
   "id": "a01c3d46",
   "metadata": {},
   "outputs": [],
   "source": [
    "lte_level_number_density = LTELevelNumberDensity(plasma).calculate(\n",
    "                                                     plasma.thermal_lte_level_boltzmann_factor,\n",
    "                                                     lte_ion_number_density,\n",
    "                                                     plasma.levels,\n",
    "                                                     plasma.thermal_lte_partition_function)"
   ]
  },
  {
   "cell_type": "markdown",
   "id": "f452d166",
   "metadata": {},
   "source": [
    "# Initialize ionization solvers"
   ]
  },
  {
   "cell_type": "code",
   "execution_count": 9,
   "id": "893abf04",
   "metadata": {},
   "outputs": [],
   "source": [
    "from tardis.plasma.equilibrium.rate_matrix import IonRateMatrix\n",
    "from tardis.plasma.equilibrium.rates import (\n",
    "    AnalyticPhotoionizationRateSolver,\n",
    "    CollisionalIonizationRateSolver,\n",
    ")\n",
    "\n",
    "photoionization_rate_solver = AnalyticPhotoionizationRateSolver(atom_data2.photoionization_data)\n",
    "\n",
    "collisional_rate_solver = CollisionalIonizationRateSolver(atom_data2.photoionization_data)\n",
    "\n",
    "ion_rate_matrix_solver = IonRateMatrix(photoionization_rate_solver, collisional_rate_solver)"
   ]
  },
  {
   "cell_type": "markdown",
   "id": "e35b573f",
   "metadata": {},
   "source": [
    "## Optional: solve for radiative ionization rates"
   ]
  },
  {
   "cell_type": "code",
   "execution_count": 10,
   "id": "baccf820",
   "metadata": {},
   "outputs": [],
   "source": [
    "photoion_rates, recomb_rates = photoionization_rate_solver.solve(\n",
    "    rad_field,\n",
    "    electron_dist,\n",
    "    lte_level_number_density.loc[lte_level_number_density.index.get_level_values('ion_number') < 1],\n",
    "    plasma.level_number_density.loc[plasma.level_number_density.index.get_level_values('ion_number') < 1],\n",
    "    lte_ion_number_density.loc[lte_ion_number_density.index.get_level_values('ion_number') >= 1],\n",
    "    plasma.ion_number_density.loc[plasma.ion_number_density.index.get_level_values('ion_number') >= 1],\n",
    "    plasma.partition_function,\n",
    "    plasma.general_level_boltzmann_factor,\n",
    "    )"
   ]
  },
  {
   "cell_type": "markdown",
   "id": "0e746978",
   "metadata": {},
   "source": [
    "## Optional: solve for collisional ionization rates"
   ]
  },
  {
   "cell_type": "code",
   "execution_count": 11,
   "id": "bafa9cbb",
   "metadata": {},
   "outputs": [],
   "source": [
    "level_to_ion_population_factor = lte_level_number_density.loc[lte_level_number_density.index.get_level_values('ion_number') < 1] / (\n",
    "            lte_ion_number_density.loc[lte_ion_number_density.index.get_level_values('ion_number') >= 1].values\n",
    "            * electron_dist.number_density.value\n",
    "        )\n",
    "\n",
    "coll_ionization_rate, coll_recomb_rate = collisional_rate_solver.solve(\n",
    "    electron_dist,\n",
    "    level_to_ion_population_factor,\n",
    "    plasma.partition_function,\n",
    "    plasma.general_level_boltzmann_factor,\n",
    ")"
   ]
  },
  {
   "cell_type": "markdown",
   "id": "9f9adff2",
   "metadata": {},
   "source": [
    "## Optional: solve for the ionization rate matrix"
   ]
  },
  {
   "cell_type": "code",
   "execution_count": 12,
   "id": "0161d35b",
   "metadata": {},
   "outputs": [],
   "source": [
    "ion_rate_matrix = ion_rate_matrix_solver.solve(\n",
    "    rad_field,\n",
    "    electron_dist,\n",
    "    lte_level_number_density.loc[lte_level_number_density.index.get_level_values('ion_number') < 1],\n",
    "    plasma.level_number_density.loc[plasma.level_number_density.index.get_level_values('ion_number') < 1],\n",
    "    lte_ion_number_density.loc[lte_ion_number_density.index.get_level_values('ion_number') >= 1],\n",
    "    plasma.ion_number_density.loc[plasma.ion_number_density.index.get_level_values('ion_number') >= 1],\n",
    "    plasma.partition_function,\n",
    "    plasma.general_level_boltzmann_factor,\n",
    "    charge_conservation=True)"
   ]
  },
  {
   "cell_type": "markdown",
   "id": "79912e76",
   "metadata": {},
   "source": [
    "Ionization rate matrix for cell 0. First row is charge conservation. Second row is number conservation."
   ]
  },
  {
   "cell_type": "code",
   "execution_count": 13,
   "id": "1b1dc4c9",
   "metadata": {},
   "outputs": [
    {
     "data": {
      "text/plain": [
       "array([array([[ 0.00000000e+00,  1.00000000e+00, -1.00000000e+00],\n",
       "              [-4.36681796e+02,  2.19607750e-03,  0.00000000e+00],\n",
       "              [ 1.00000000e+00,  1.00000000e+00,  0.00000000e+00]])],\n",
       "      dtype=object)"
      ]
     },
     "execution_count": 13,
     "metadata": {},
     "output_type": "execute_result"
    }
   ],
   "source": [
    "ion_rate_matrix[0].values"
   ]
  },
  {
   "cell_type": "markdown",
   "id": "3816c66b",
   "metadata": {},
   "source": [
    "# Solve ion population"
   ]
  },
  {
   "cell_type": "code",
   "execution_count": 14,
   "id": "4b5adfa4",
   "metadata": {},
   "outputs": [],
   "source": [
    "from tardis.plasma.equilibrium.ion_populations import IonPopulationSolver\n",
    "\n",
    "solver = IonPopulationSolver(ion_rate_matrix_solver)\n",
    "\n",
    "# Charge conservation is currently required to be False for the solver to work correctly.\n",
    "\n",
    "ion_pops, electron_densities = solver.solve(\n",
    "    rad_field,\n",
    "    electron_dist,\n",
    "    plasma.number_density,\n",
    "    lte_level_number_density,\n",
    "    plasma.level_number_density,\n",
    "    lte_ion_number_density,\n",
    "    plasma.ion_number_density,\n",
    "    plasma.partition_function,\n",
    "    plasma.general_level_boltzmann_factor,\n",
    "    charge_conservation=False)"
   ]
  },
  {
   "cell_type": "code",
   "execution_count": 15,
   "id": "5fb44e5d",
   "metadata": {},
   "outputs": [
    {
     "data": {
      "text/html": [
       "<div>\n",
       "<style scoped>\n",
       "    .dataframe tbody tr th:only-of-type {\n",
       "        vertical-align: middle;\n",
       "    }\n",
       "\n",
       "    .dataframe tbody tr th {\n",
       "        vertical-align: top;\n",
       "    }\n",
       "\n",
       "    .dataframe thead th {\n",
       "        text-align: right;\n",
       "    }\n",
       "</style>\n",
       "<table border=\"1\" class=\"dataframe\">\n",
       "  <thead>\n",
       "    <tr style=\"text-align: right;\">\n",
       "      <th></th>\n",
       "      <th></th>\n",
       "      <th>0</th>\n",
       "      <th>1</th>\n",
       "      <th>2</th>\n",
       "      <th>3</th>\n",
       "      <th>4</th>\n",
       "      <th>5</th>\n",
       "      <th>6</th>\n",
       "      <th>7</th>\n",
       "      <th>8</th>\n",
       "      <th>9</th>\n",
       "      <th>10</th>\n",
       "      <th>11</th>\n",
       "      <th>12</th>\n",
       "      <th>13</th>\n",
       "      <th>14</th>\n",
       "      <th>15</th>\n",
       "      <th>16</th>\n",
       "      <th>17</th>\n",
       "      <th>18</th>\n",
       "      <th>19</th>\n",
       "    </tr>\n",
       "    <tr>\n",
       "      <th>atomic_number</th>\n",
       "      <th>ion_number</th>\n",
       "      <th></th>\n",
       "      <th></th>\n",
       "      <th></th>\n",
       "      <th></th>\n",
       "      <th></th>\n",
       "      <th></th>\n",
       "      <th></th>\n",
       "      <th></th>\n",
       "      <th></th>\n",
       "      <th></th>\n",
       "      <th></th>\n",
       "      <th></th>\n",
       "      <th></th>\n",
       "      <th></th>\n",
       "      <th></th>\n",
       "      <th></th>\n",
       "      <th></th>\n",
       "      <th></th>\n",
       "      <th></th>\n",
       "      <th></th>\n",
       "    </tr>\n",
       "  </thead>\n",
       "  <tbody>\n",
       "    <tr>\n",
       "      <th rowspan=\"2\" valign=\"top\">1</th>\n",
       "      <th>0</th>\n",
       "      <td>2.639896e+05</td>\n",
       "      <td>1.998712e+05</td>\n",
       "      <td>1.527937e+05</td>\n",
       "      <td>1.178332e+05</td>\n",
       "      <td>9.159744e+04</td>\n",
       "      <td>7.171794e+04</td>\n",
       "      <td>5.652026e+04</td>\n",
       "      <td>4.480670e+04</td>\n",
       "      <td>3.571110e+04</td>\n",
       "      <td>2.860052e+04</td>\n",
       "      <td>2.300787e+04</td>\n",
       "      <td>1.858514e+04</td>\n",
       "      <td>1.507070e+04</td>\n",
       "      <td>1.226605e+04</td>\n",
       "      <td>1.001935e+04</td>\n",
       "      <td>8.213483e+03</td>\n",
       "      <td>6.757461e+03</td>\n",
       "      <td>5.580090e+03</td>\n",
       "      <td>4.625355e+03</td>\n",
       "      <td>3.848962e+03</td>\n",
       "    </tr>\n",
       "    <tr>\n",
       "      <th>1</th>\n",
       "      <td>4.506418e+10</td>\n",
       "      <td>3.422454e+10</td>\n",
       "      <td>2.626417e+10</td>\n",
       "      <td>2.035073e+10</td>\n",
       "      <td>1.591079e+10</td>\n",
       "      <td>1.254396e+10</td>\n",
       "      <td>9.967117e+09</td>\n",
       "      <td>7.977761e+09</td>\n",
       "      <td>6.429439e+09</td>\n",
       "      <td>5.215159e+09</td>\n",
       "      <td>4.255999e+09</td>\n",
       "      <td>3.493221e+09</td>\n",
       "      <td>2.882734e+09</td>\n",
       "      <td>2.391174e+09</td>\n",
       "      <td>1.993104e+09</td>\n",
       "      <td>1.668991e+09</td>\n",
       "      <td>1.403731e+09</td>\n",
       "      <td>1.185571e+09</td>\n",
       "      <td>1.005310e+09</td>\n",
       "      <td>8.556990e+08</td>\n",
       "    </tr>\n",
       "  </tbody>\n",
       "</table>\n",
       "</div>"
      ],
      "text/plain": [
       "                                     0             1             2  \\\n",
       "atomic_number ion_number                                             \n",
       "1             0           2.639896e+05  1.998712e+05  1.527937e+05   \n",
       "              1           4.506418e+10  3.422454e+10  2.626417e+10   \n",
       "\n",
       "                                     3             4             5  \\\n",
       "atomic_number ion_number                                             \n",
       "1             0           1.178332e+05  9.159744e+04  7.171794e+04   \n",
       "              1           2.035073e+10  1.591079e+10  1.254396e+10   \n",
       "\n",
       "                                     6             7             8  \\\n",
       "atomic_number ion_number                                             \n",
       "1             0           5.652026e+04  4.480670e+04  3.571110e+04   \n",
       "              1           9.967117e+09  7.977761e+09  6.429439e+09   \n",
       "\n",
       "                                     9            10            11  \\\n",
       "atomic_number ion_number                                             \n",
       "1             0           2.860052e+04  2.300787e+04  1.858514e+04   \n",
       "              1           5.215159e+09  4.255999e+09  3.493221e+09   \n",
       "\n",
       "                                    12            13            14  \\\n",
       "atomic_number ion_number                                             \n",
       "1             0           1.507070e+04  1.226605e+04  1.001935e+04   \n",
       "              1           2.882734e+09  2.391174e+09  1.993104e+09   \n",
       "\n",
       "                                    15            16            17  \\\n",
       "atomic_number ion_number                                             \n",
       "1             0           8.213483e+03  6.757461e+03  5.580090e+03   \n",
       "              1           1.668991e+09  1.403731e+09  1.185571e+09   \n",
       "\n",
       "                                    18            19  \n",
       "atomic_number ion_number                              \n",
       "1             0           4.625355e+03  3.848962e+03  \n",
       "              1           1.005310e+09  8.556990e+08  "
      ]
     },
     "execution_count": 15,
     "metadata": {},
     "output_type": "execute_result"
    }
   ],
   "source": [
    "ion_pops"
   ]
  },
  {
   "cell_type": "code",
   "execution_count": 16,
   "id": "fd67a081",
   "metadata": {},
   "outputs": [
    {
     "data": {
      "text/html": [
       "<div>\n",
       "<style scoped>\n",
       "    .dataframe tbody tr th:only-of-type {\n",
       "        vertical-align: middle;\n",
       "    }\n",
       "\n",
       "    .dataframe tbody tr th {\n",
       "        vertical-align: top;\n",
       "    }\n",
       "\n",
       "    .dataframe thead th {\n",
       "        text-align: right;\n",
       "    }\n",
       "</style>\n",
       "<table border=\"1\" class=\"dataframe\">\n",
       "  <thead>\n",
       "    <tr style=\"text-align: right;\">\n",
       "      <th></th>\n",
       "      <th></th>\n",
       "      <th>0</th>\n",
       "      <th>1</th>\n",
       "      <th>2</th>\n",
       "      <th>3</th>\n",
       "      <th>4</th>\n",
       "      <th>5</th>\n",
       "      <th>6</th>\n",
       "      <th>7</th>\n",
       "      <th>8</th>\n",
       "      <th>9</th>\n",
       "      <th>10</th>\n",
       "      <th>11</th>\n",
       "      <th>12</th>\n",
       "      <th>13</th>\n",
       "      <th>14</th>\n",
       "      <th>15</th>\n",
       "      <th>16</th>\n",
       "      <th>17</th>\n",
       "      <th>18</th>\n",
       "      <th>19</th>\n",
       "    </tr>\n",
       "    <tr>\n",
       "      <th>atomic_number</th>\n",
       "      <th>ion_number</th>\n",
       "      <th></th>\n",
       "      <th></th>\n",
       "      <th></th>\n",
       "      <th></th>\n",
       "      <th></th>\n",
       "      <th></th>\n",
       "      <th></th>\n",
       "      <th></th>\n",
       "      <th></th>\n",
       "      <th></th>\n",
       "      <th></th>\n",
       "      <th></th>\n",
       "      <th></th>\n",
       "      <th></th>\n",
       "      <th></th>\n",
       "      <th></th>\n",
       "      <th></th>\n",
       "      <th></th>\n",
       "      <th></th>\n",
       "      <th></th>\n",
       "    </tr>\n",
       "  </thead>\n",
       "  <tbody>\n",
       "    <tr>\n",
       "      <th rowspan=\"2\" valign=\"top\">1</th>\n",
       "      <th>0</th>\n",
       "      <td>0.000006</td>\n",
       "      <td>0.000006</td>\n",
       "      <td>0.000006</td>\n",
       "      <td>0.000006</td>\n",
       "      <td>0.000006</td>\n",
       "      <td>0.000006</td>\n",
       "      <td>0.000006</td>\n",
       "      <td>0.000006</td>\n",
       "      <td>0.000006</td>\n",
       "      <td>0.000006</td>\n",
       "      <td>0.000006</td>\n",
       "      <td>0.000006</td>\n",
       "      <td>0.000006</td>\n",
       "      <td>0.000006</td>\n",
       "      <td>0.000006</td>\n",
       "      <td>0.000006</td>\n",
       "      <td>0.000006</td>\n",
       "      <td>0.000006</td>\n",
       "      <td>0.000006</td>\n",
       "      <td>0.000006</td>\n",
       "    </tr>\n",
       "    <tr>\n",
       "      <th>1</th>\n",
       "      <td>0.999994</td>\n",
       "      <td>0.999994</td>\n",
       "      <td>0.999994</td>\n",
       "      <td>0.999994</td>\n",
       "      <td>0.999994</td>\n",
       "      <td>0.999994</td>\n",
       "      <td>0.999994</td>\n",
       "      <td>0.999994</td>\n",
       "      <td>0.999994</td>\n",
       "      <td>0.999994</td>\n",
       "      <td>0.999994</td>\n",
       "      <td>0.999994</td>\n",
       "      <td>0.999994</td>\n",
       "      <td>0.999994</td>\n",
       "      <td>0.999994</td>\n",
       "      <td>0.999994</td>\n",
       "      <td>0.999994</td>\n",
       "      <td>0.999994</td>\n",
       "      <td>0.999994</td>\n",
       "      <td>0.999994</td>\n",
       "    </tr>\n",
       "  </tbody>\n",
       "</table>\n",
       "</div>"
      ],
      "text/plain": [
       "                                0         1         2         3         4   \\\n",
       "atomic_number ion_number                                                     \n",
       "1             0           0.000006  0.000006  0.000006  0.000006  0.000006   \n",
       "              1           0.999994  0.999994  0.999994  0.999994  0.999994   \n",
       "\n",
       "                                5         6         7         8         9   \\\n",
       "atomic_number ion_number                                                     \n",
       "1             0           0.000006  0.000006  0.000006  0.000006  0.000006   \n",
       "              1           0.999994  0.999994  0.999994  0.999994  0.999994   \n",
       "\n",
       "                                10        11        12        13        14  \\\n",
       "atomic_number ion_number                                                     \n",
       "1             0           0.000006  0.000006  0.000006  0.000006  0.000006   \n",
       "              1           0.999994  0.999994  0.999994  0.999994  0.999994   \n",
       "\n",
       "                                15        16        17        18        19  \n",
       "atomic_number ion_number                                                    \n",
       "1             0           0.000006  0.000006  0.000006  0.000006  0.000006  \n",
       "              1           0.999994  0.999994  0.999994  0.999994  0.999994  "
      ]
     },
     "execution_count": 16,
     "metadata": {},
     "output_type": "execute_result"
    }
   ],
   "source": [
    "lte_ion_number_density / lte_ion_number_density.sum()"
   ]
  },
  {
   "cell_type": "code",
   "execution_count": 17,
   "id": "8d24f067",
   "metadata": {},
   "outputs": [
    {
     "data": {
      "text/plain": [
       "0     4.506418e+10\n",
       "1     3.422454e+10\n",
       "2     2.626417e+10\n",
       "3     2.035073e+10\n",
       "4     1.591079e+10\n",
       "5     1.254396e+10\n",
       "6     9.967117e+09\n",
       "7     7.977761e+09\n",
       "8     6.429439e+09\n",
       "9     5.215159e+09\n",
       "10    4.255999e+09\n",
       "11    3.493221e+09\n",
       "12    2.882734e+09\n",
       "13    2.391174e+09\n",
       "14    1.993104e+09\n",
       "15    1.668991e+09\n",
       "16    1.403731e+09\n",
       "17    1.185571e+09\n",
       "18    1.005310e+09\n",
       "19    8.556990e+08\n",
       "dtype: float64"
      ]
     },
     "execution_count": 17,
     "metadata": {},
     "output_type": "execute_result"
    }
   ],
   "source": [
    "electron_densities"
   ]
  },
  {
   "cell_type": "code",
   "execution_count": null,
   "id": "90376e5f",
   "metadata": {},
   "outputs": [],
   "source": []
  }
 ],
 "metadata": {
  "kernelspec": {
   "display_name": "tardis-new",
   "language": "python",
   "name": "python3"
  },
  "language_info": {
   "codemirror_mode": {
    "name": "ipython",
    "version": 3
   },
   "file_extension": ".py",
   "mimetype": "text/x-python",
   "name": "python",
   "nbconvert_exporter": "python",
   "pygments_lexer": "ipython3",
   "version": "3.13.3"
  }
 },
 "nbformat": 4,
 "nbformat_minor": 5
}
