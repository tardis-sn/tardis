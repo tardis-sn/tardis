{
 "cells": [
  {
   "cell_type": "markdown",
   "id": "0edde63f",
   "metadata": {},
   "source": [
    "# Calculating ion solutions"
   ]
  },
  {
   "cell_type": "markdown",
   "id": "39d6aea8",
   "metadata": {},
   "source": [
    "## Configuration\n",
    "\n",
    "Hydrogen only. Requires `dilute-lte` excitation and `nebular` ionization to provide the first approximation for the solver"
   ]
  },
  {
   "cell_type": "code",
   "execution_count": null,
   "id": "ac65f71f",
   "metadata": {},
   "outputs": [],
   "source": [
    "from pathlib import Path\n",
    "\n",
    "import tardis\n",
    "from tardis.io.configuration.config_reader import Configuration\n",
    "\n",
    "config = Configuration.from_yaml((Path(tardis.__file__).parent / \"plasma/tests/data/plasma_base_test_config.yml\"))\n",
    "\n",
    "config.model.abundances.He = 0\n",
    "config.model.abundances.H = 1\n",
    "\n",
    "config.plasma.excitation = \"dilute-lte\"\n",
    "config.plasma.ionization = \"nebular\""
   ]
  },
  {
   "cell_type": "markdown",
   "id": "2d0d97b2",
   "metadata": {},
   "source": [
    "## Atomic data\n",
    "\n",
    "Requires photoionization cross section data"
   ]
  },
  {
   "cell_type": "code",
   "execution_count": null,
   "id": "5d619814",
   "metadata": {},
   "outputs": [],
   "source": [
    "from copy import deepcopy\n",
    "\n",
    "from tardis.io.atom_data import AtomData\n",
    "from tardis.model.base import SimulationState\n",
    "\n",
    "atom_data = AtomData.from_hdf('/tardis-regression-data/atom_data/nlte_atom_data/TestNLTE_He_Ti.h5')\n",
    "\n",
    "atom_data2 = deepcopy(atom_data)\n",
    "\n",
    "# Prepare atom data for Hydrogen only, so we have access to the H photoionization data\n",
    "atom_data2.prepare_atom_data([1], \"macroatom\", [], [(1, 0)])\n",
    "\n",
    "sim_state = SimulationState.from_config(config, atom_data=atom_data)"
   ]
  },
  {
   "cell_type": "code",
   "execution_count": null,
   "id": "7748425f",
   "metadata": {},
   "outputs": [],
   "source": [
    "import astropy.units as u\n",
    "import numpy as np\n",
    "\n",
    "from tardis.plasma.electron_energy_distribution import (\n",
    "    ThermalElectronEnergyDistribution,\n",
    ")\n",
    "from tardis.plasma.radiation_field import (\n",
    "    DilutePlanckianRadiationField,\n",
    ")\n",
    "\n",
    "# Test that the ionization calculations work for multiple cells and match the density config\n",
    "rad_field = DilutePlanckianRadiationField(np.ones(20) * 10000 * u.K, dilution_factor=np.ones(20) * 1.0)\n",
    "\n",
    "electron_dist = ThermalElectronEnergyDistribution(0, np.ones(20) * 10000 * u.K, np.ones(20) * 2e9 * u.cm**-3)"
   ]
  },
  {
   "cell_type": "markdown",
   "id": "1eeb8c8c",
   "metadata": {},
   "source": [
    "# Create a plasma"
   ]
  },
  {
   "cell_type": "code",
   "execution_count": null,
   "id": "73708f4a",
   "metadata": {},
   "outputs": [],
   "source": [
    "from tardis.plasma.assembly.base import PlasmaSolverFactory\n",
    "\n",
    "plasma_solver_factory = PlasmaSolverFactory(atom_data, config)\n",
    "plasma_solver_factory.prepare_factory([1],\"tardis.plasma.properties.property_collections\" )\n",
    "plasma = plasma_solver_factory.assemble(sim_state.elemental_number_density, rad_field, sim_state.time_explosion, electron_dist.number_density, link_t_rad_t_electron=1)"
   ]
  },
  {
   "cell_type": "markdown",
   "id": "626e0683",
   "metadata": {},
   "source": [
    "# Create LTE properties"
   ]
  },
  {
   "cell_type": "code",
   "execution_count": null,
   "id": "6eac3960",
   "metadata": {},
   "outputs": [],
   "source": [
    "from tardis.plasma.properties.ion_population import IonNumberDensity\n",
    "\n",
    "\n",
    "class LTEIonNumberDensity(IonNumberDensity):\n",
    "    outputs = ('lte_ion_number_density', )\n",
    "    latex_name = ('N_{i,j}^*',)\n",
    "\n",
    "    def calculate(self, phi_Te, lte_partition_function_Te, number_density, block_ids, ion_threshold):\n",
    "        return self.calculate_with_n_electron(\n",
    "            phi_Te, lte_partition_function_Te, number_density, self._electron_densities, block_ids, ion_threshold)"
   ]
  },
  {
   "cell_type": "code",
   "execution_count": null,
   "id": "e7ba7c5c",
   "metadata": {},
   "outputs": [],
   "source": [
    "from tardis.plasma.properties.level_population import (\n",
    "    LevelNumberDensity,\n",
    ")\n",
    "\n",
    "\n",
    "class LTELevelNumberDensity(LevelNumberDensity):\n",
    "    outputs = ('lte_level_number_density',)\n",
    "    latex_name = ('N_{i,j,k}^*',)\n",
    "\n",
    "    def _calculate_dilute_lte(self, lte_level_boltzmann_factor_Te, lte_ion_number_density,\n",
    "                              levels, lte_partition_function_Te):\n",
    "        return super()._calculate_dilute_lte(\n",
    "            lte_level_boltzmann_factor_Te, lte_ion_number_density, levels, lte_partition_function_Te)"
   ]
  },
  {
   "cell_type": "code",
   "execution_count": null,
   "id": "891296ad",
   "metadata": {},
   "outputs": [],
   "source": [
    "lte_ion_number_density = LTEIonNumberDensity(plasma,\n",
    "                                             electron_densities=plasma.electron_densities\n",
    "                                             ).calculate(\n",
    "                                                 plasma.thermal_phi_lte,\n",
    "                                                 plasma.thermal_lte_partition_function,\n",
    "                                                 sim_state.elemental_number_density,\n",
    "                                                 None, 1e-20)[0]"
   ]
  },
  {
   "cell_type": "code",
   "execution_count": null,
   "id": "a01c3d46",
   "metadata": {},
   "outputs": [],
   "source": [
    "lte_level_number_density = LTELevelNumberDensity(plasma).calculate(\n",
    "                                                     plasma.thermal_lte_level_boltzmann_factor,\n",
    "                                                     lte_ion_number_density,\n",
    "                                                     plasma.levels,\n",
    "                                                     plasma.thermal_lte_partition_function)"
   ]
  },
  {
   "cell_type": "markdown",
   "id": "f452d166",
   "metadata": {},
   "source": [
    "# Initialize ionization solvers"
   ]
  },
  {
   "cell_type": "code",
   "execution_count": null,
   "id": "893abf04",
   "metadata": {},
   "outputs": [],
   "source": [
    "from tardis.plasma.equilibrium.rate_matrix import IonRateMatrix\n",
    "from tardis.plasma.equilibrium.rates import (\n",
    "    AnalyticPhotoionizationRateSolver,\n",
    "    CollisionalIonizationRateSolver,\n",
    ")\n",
    "\n",
    "photoionization_rate_solver = AnalyticPhotoionizationRateSolver(atom_data2.photoionization_data)\n",
    "\n",
    "collisional_rate_solver = CollisionalIonizationRateSolver(atom_data2.photoionization_data)\n",
    "\n",
    "ion_rate_matrix_solver = IonRateMatrix(photoionization_rate_solver, collisional_rate_solver)"
   ]
  },
  {
   "cell_type": "markdown",
   "id": "e35b573f",
   "metadata": {},
   "source": [
    "## Optional: solve for radiative ionization rates"
   ]
  },
  {
   "cell_type": "code",
   "execution_count": null,
   "id": "baccf820",
   "metadata": {},
   "outputs": [],
   "source": [
    "photoion_rates, recomb_rates = photoionization_rate_solver.solve(\n",
    "    rad_field,\n",
    "    electron_dist,\n",
    "    lte_level_number_density.loc[lte_level_number_density.index.get_level_values('ion_number') < 1],\n",
    "    plasma.level_number_density.loc[plasma.level_number_density.index.get_level_values('ion_number') < 1],\n",
    "    lte_ion_number_density.loc[lte_ion_number_density.index.get_level_values('ion_number') >= 1],\n",
    "    plasma.ion_number_density.loc[plasma.ion_number_density.index.get_level_values('ion_number') >= 1],)"
   ]
  },
  {
   "cell_type": "markdown",
   "id": "0e746978",
   "metadata": {},
   "source": [
    "## Optional: solve for collisional ionization rates"
   ]
  },
  {
   "cell_type": "code",
   "execution_count": null,
   "id": "bafa9cbb",
   "metadata": {},
   "outputs": [],
   "source": [
    "level_to_ion_population_factor = lte_level_number_density.loc[lte_level_number_density.index.get_level_values('ion_number') < 1] / (\n",
    "            lte_ion_number_density.loc[lte_ion_number_density.index.get_level_values('ion_number') >= 1].values\n",
    "            * electron_dist.number_density.value\n",
    "        )\n",
    "\n",
    "coll_ionization_rate, coll_recomb_rate = collisional_rate_solver.solve(\n",
    "    electron_dist,\n",
    "    level_to_ion_population_factor,\n",
    ")"
   ]
  },
  {
   "cell_type": "code",
   "execution_count": null,
   "id": "f3837dfa",
   "metadata": {},
   "outputs": [],
   "source": [
    "level_to_ion_population_factor"
   ]
  },
  {
   "cell_type": "markdown",
   "id": "9f9adff2",
   "metadata": {},
   "source": [
    "## Optional: solve for the ionization rate matrix"
   ]
  },
  {
   "cell_type": "code",
   "execution_count": null,
   "id": "0161d35b",
   "metadata": {},
   "outputs": [],
   "source": [
    "ion_rate_matrix = ion_rate_matrix_solver.solve(\n",
    "    rad_field,\n",
    "    electron_dist,\n",
    "    lte_level_number_density.loc[lte_level_number_density.index.get_level_values('ion_number') < 1],\n",
    "    plasma.level_number_density.loc[plasma.level_number_density.index.get_level_values('ion_number') < 1],\n",
    "    lte_ion_number_density.loc[lte_ion_number_density.index.get_level_values('ion_number') >= 1],\n",
    "    plasma.ion_number_density.loc[plasma.ion_number_density.index.get_level_values('ion_number') >= 1],\n",
    "    charge_conservation=True)"
   ]
  },
  {
   "cell_type": "markdown",
   "id": "79912e76",
   "metadata": {},
   "source": [
    "Ionization rate matrix for cell 0. First row is charge conservation. Second row is number conservation."
   ]
  },
  {
   "cell_type": "code",
   "execution_count": null,
   "id": "1b1dc4c9",
   "metadata": {},
   "outputs": [],
   "source": [
    "ion_rate_matrix[0].values"
   ]
  },
  {
   "cell_type": "markdown",
   "id": "3816c66b",
   "metadata": {},
   "source": [
    "# Solve ion population"
   ]
  },
  {
   "cell_type": "code",
   "execution_count": null,
   "id": "4b5adfa4",
   "metadata": {},
   "outputs": [],
   "source": [
    "from tardis.plasma.equilibrium.ion_populations import IonPopulationSolver\n",
    "\n",
    "solver = IonPopulationSolver(ion_rate_matrix_solver)\n",
    "\n",
    "# Charge conservation is currently required to be True for the solver to work correctly.\n",
    "\n",
    "ion_pops, electron_densities = solver.solve(\n",
    "    rad_field,\n",
    "    electron_dist,\n",
    "    lte_level_number_density,\n",
    "    plasma.level_number_density,\n",
    "    lte_ion_number_density,\n",
    "    plasma.ion_number_density,\n",
    "    charge_conservation=True)"
   ]
  },
  {
   "cell_type": "code",
   "execution_count": null,
   "id": "5fb44e5d",
   "metadata": {},
   "outputs": [],
   "source": [
    "ion_pops"
   ]
  },
  {
   "cell_type": "code",
   "execution_count": null,
   "id": "fd67a081",
   "metadata": {},
   "outputs": [],
   "source": [
    "lte_ion_number_density / lte_ion_number_density.sum()"
   ]
  },
  {
   "cell_type": "code",
   "execution_count": null,
   "id": "8d24f067",
   "metadata": {},
   "outputs": [],
   "source": [
    "electron_densities"
   ]
  },
  {
   "cell_type": "code",
   "execution_count": null,
   "id": "90376e5f",
   "metadata": {},
   "outputs": [],
   "source": []
  }
 ],
 "metadata": {
  "kernelspec": {
   "display_name": "tardis",
   "language": "python",
   "name": "python3"
  },
  "language_info": {
   "codemirror_mode": {
    "name": "ipython",
    "version": 3
   },
   "file_extension": ".py",
   "mimetype": "text/x-python",
   "name": "python",
   "nbconvert_exporter": "python",
   "pygments_lexer": "ipython3",
   "version": "3.13.2"
  }
 },
 "nbformat": 4,
 "nbformat_minor": 5
}
