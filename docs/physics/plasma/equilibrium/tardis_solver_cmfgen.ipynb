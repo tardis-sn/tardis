{
 "cells": [
  {
   "cell_type": "markdown",
   "metadata": {},
   "source": [
    "# Rates using CMFGEN data"
   ]
  },
  {
   "cell_type": "code",
   "execution_count": 1,
   "metadata": {},
   "outputs": [
    {
     "name": "stderr",
     "output_type": "stream",
     "text": [
      "/home/afullard/tardis/tardis/__init__.py:20: UserWarning: Astropy is already imported externally. Astropy should be imported after TARDIS.\n",
      "  warnings.warn(\n"
     ]
    },
    {
     "data": {
      "application/vnd.jupyter.widget-view+json": {
       "model_id": "a9004b0713d345fc84b58a8cafbfde62",
       "version_major": 2,
       "version_minor": 0
      },
      "text/plain": [
       "Iterations:          0/? [00:00<?, ?it/s]"
      ]
     },
     "metadata": {},
     "output_type": "display_data"
    },
    {
     "data": {
      "application/vnd.jupyter.widget-view+json": {
       "model_id": "7c19eecf4feb41b3a46f142d7d315314",
       "version_major": 2,
       "version_minor": 0
      },
      "text/plain": [
       "Packets:             0/? [00:00<?, ?it/s]"
      ]
     },
     "metadata": {},
     "output_type": "display_data"
    },
    {
     "name": "stderr",
     "output_type": "stream",
     "text": [
      "Number of density points larger than number of shells. Assuming inner point irrelevant\n"
     ]
    }
   ],
   "source": [
    "from pathlib import Path\n",
    "\n",
    "import astropy.units as u\n",
    "import matplotlib.pyplot as plt\n",
    "import numpy as np\n",
    "\n",
    "from tardis.io.atom_data import AtomData\n",
    "from tardis.io.configuration.config_reader import Configuration\n",
    "from tardis.model.base import SimulationState\n",
    "from tardis.plasma.equilibrium.rates import (\n",
    "    AnalyticPhotoionizationCoeffSolver,\n",
    "    EstimatedPhotoionizationCoeffSolver,\n",
    "    RadiativeRatesSolver,\n",
    "    SpontaneousRecombinationCoeffSolver,\n",
    "    ThermalCollisionalRateSolver,\n",
    ")\n",
    "from tardis.plasma.radiation_field import (\n",
    "    DilutePlanckianRadiationField,\n",
    ")\n",
    "\n",
    "home = str(Path('~').expanduser())\n",
    "\n",
    "config = Configuration.from_yaml(home+\"/tardis/tardis/plasma/tests/data/plasma_base_test_config.yml\")\n",
    "\n",
    "config.model.structure.velocity.num = 5\n",
    "\n",
    "ion_slice = (1, 0, slice(None), slice(None))\n",
    "\n",
    "\n",
    "def get_radiative_rate_solver(radiative_transitions):\n",
    "    rad_rate_solver = RadiativeRatesSolver(radiative_transitions)\n",
    "    return rad_rate_solver\n",
    "\n",
    "def get_chianti_collisional_rate_solver(atom_data, radiative_transitions,):\n",
    "    col_strength_temperatures = atom_data.collision_data_temperatures\n",
    "    col_strengths = atom_data.collision_data.loc[ion_slice, :]\n",
    "    collisional_rate_solver = ThermalCollisionalRateSolver(atom_data.levels, radiative_transitions, col_strength_temperatures, col_strengths, 'chianti', \"none\")\n",
    "    return collisional_rate_solver\n",
    "\n",
    "def get_cmfgen_collisional_rate_solver(atom_data, radiative_transitions,):\n",
    "    col_strength_temperatures = atom_data.yg_data.columns\n",
    "    col_strengths = atom_data.yg_data.loc[ion_slice, :]\n",
    "    collisional_rate_solver = ThermalCollisionalRateSolver(atom_data.levels, radiative_transitions, col_strength_temperatures, col_strengths, 'cmfgen', \"regemorter\")\n",
    "    return collisional_rate_solver\n",
    "\n",
    "#cmfgen_atom_data = AtomData.from_hdf(home+'/carsus/docs/kurucz_cd23_cmfgen_H_Ti.h5')\n",
    "cmfgen_atom_data = AtomData.from_hdf(home+'/tardis-regression-data/atom-data/nlte_atom_data/TestNLTE_He_Ti.h5')\n",
    "\n",
    "cmfgen_radiative_transitions = cmfgen_atom_data.lines.loc[ion_slice, :]\n",
    "\n",
    "cmfgen_sim_state = SimulationState.from_config(config, atom_data=cmfgen_atom_data)\n",
    "\n",
    "cmfgen_atom_data.prepare_atom_data([1], \"macroatom\", [], [(1, 0)])"
   ]
  },
  {
   "cell_type": "code",
   "execution_count": 2,
   "metadata": {},
   "outputs": [],
   "source": [
    "from tardis.plasma.electron_energy_distribution import (\n",
    "    ThermalElectronEnergyDistribution,\n",
    ")\n",
    "\n",
    "cmfgen_radiative_rate_solver = get_radiative_rate_solver(cmfgen_radiative_transitions)\n",
    "\n",
    "cmfgen_collisional_rate_solver = get_cmfgen_collisional_rate_solver(cmfgen_atom_data, cmfgen_radiative_transitions)\n",
    "\n",
    "# need a better way to make a custom radiation field where the intensity is zero\n",
    "# in specific locations as desired\n",
    "rad_field = DilutePlanckianRadiationField(cmfgen_sim_state.t_radiative, dilution_factor=np.ones_like(cmfgen_sim_state.t_radiative) * 0.5)\n",
    "electron_dist = ThermalElectronEnergyDistribution(0, [11975.61275678, 11927.13443539, 11879.04702049, 11831.34580294,\n",
    "       11784.02614893] * u.K, [4.059924e+10, 8.142510e+09, 2.040517e+09, 6.051676e+08, 2.047733e+08] * u.cm**-3)\n",
    "\n",
    "temperature = electron_dist.temperature"
   ]
  },
  {
   "cell_type": "code",
   "execution_count": 3,
   "metadata": {},
   "outputs": [],
   "source": [
    "rate_solvers = [(cmfgen_radiative_rate_solver, \"radiative\"), (cmfgen_collisional_rate_solver, \"electron\")]\n",
    "\n",
    "lte_rate_solvers = [(cmfgen_collisional_rate_solver, \"electron\")]"
   ]
  },
  {
   "cell_type": "code",
   "execution_count": 4,
   "metadata": {},
   "outputs": [],
   "source": [
    "rad_rates = cmfgen_radiative_rate_solver.solve(rad_field)"
   ]
  },
  {
   "cell_type": "code",
   "execution_count": 5,
   "metadata": {},
   "outputs": [],
   "source": [
    "col_rates = cmfgen_collisional_rate_solver.solve(electron_dist.temperature)"
   ]
  },
  {
   "cell_type": "markdown",
   "metadata": {},
   "source": [
    "# Comparison to old rate calculations\n",
    "\n",
    "Previous rates were calculated using \n",
    "\n",
    "tardis.transport.montecarlo.estimators.continuum_radfield_properties.MCContinuumPropertiesSolver\n",
    "\n",
    "tardis.plasma.properties.continuum_processes.SpontRecombRateCoeff"
   ]
  },
  {
   "cell_type": "code",
   "execution_count": 1,
   "metadata": {},
   "outputs": [],
   "source": [
    "import pandas as pd\n",
    "\n",
    "photoionization_estimator = pd.read_csv(\"photoionization_rate.csv\", index_col=[0, 1, 2])\n",
    "\n",
    "stimulated_recombination_estimator = pd.read_csv(\"stimulated_recombination_rate.csv\", index_col=[0, 1, 2])\n",
    "\n",
    "class Estimators:\n",
    "    def __init__(self, photoionization_estimator, stimulated_recombination_estimator):\n",
    "        self.photo_ion_estimator = photoionization_estimator\n",
    "        self.stim_recomb_estimator = stimulated_recombination_estimator\n",
    "\n",
    "estimators = Estimators(photoionization_estimator, stimulated_recombination_estimator)"
   ]
  },
  {
   "cell_type": "code",
   "execution_count": 7,
   "metadata": {},
   "outputs": [],
   "source": [
    "spontaneous_recombination_rate_solver = SpontaneousRecombinationCoeffSolver(cmfgen_atom_data.photoionization_data,)\n",
    "photoionization_rate_solver = AnalyticPhotoionizationCoeffSolver(cmfgen_atom_data.photoionization_data,)\n",
    "\n",
    "spontaneous_recombination_rate = spontaneous_recombination_rate_solver.solve(temperature.value)\n",
    "photoionization_rate, stimulated_recombination_rate = photoionization_rate_solver.solve(rad_field, temperature.value)"
   ]
  },
  {
   "cell_type": "code",
   "execution_count": 8,
   "metadata": {},
   "outputs": [],
   "source": [
    "analytic_photoion_rate_solver = AnalyticPhotoionizationCoeffSolver(cmfgen_atom_data.photoionization_data)"
   ]
  },
  {
   "cell_type": "code",
   "execution_count": 9,
   "metadata": {},
   "outputs": [],
   "source": [
    "estimated_photoion_rate_solver = EstimatedPhotoionizationCoeffSolver(cmfgen_atom_data.level2continuum_edge_idx)"
   ]
  },
  {
   "cell_type": "code",
   "execution_count": 10,
   "metadata": {},
   "outputs": [],
   "source": [
    "est_photoionization_rate, est_stimulated_recombination_rate = estimated_photoion_rate_solver.solve(estimators, cmfgen_sim_state.time_explosion, cmfgen_sim_state.geometry.volume)"
   ]
  },
  {
   "cell_type": "code",
   "execution_count": 11,
   "metadata": {},
   "outputs": [],
   "source": [
    "spontaneous_recombination_rate_old = pd.read_csv(\"spontaneous_recomb.csv\", index_col=[0, 1, 2])"
   ]
  },
  {
   "cell_type": "code",
   "execution_count": 12,
   "metadata": {},
   "outputs": [
    {
     "data": {
      "text/plain": [
       "<Axes: xlabel='level_number'>"
      ]
     },
     "execution_count": 12,
     "metadata": {},
     "output_type": "execute_result"
    },
    {
     "data": {
      "image/png": "[encoded data removed]",
      "text/plain": [
       "<Figure size 640x480 with 1 Axes>"
      ]
     },
     "metadata": {},
     "output_type": "display_data"
    }
   ],
   "source": [
    "spontaneous_recombination_rate_old.loc[1,0,:].plot()"
   ]
  },
  {
   "cell_type": "code",
   "execution_count": 13,
   "metadata": {},
   "outputs": [
    {
     "data": {
      "text/plain": [
       "<Axes: xlabel='level_number'>"
      ]
     },
     "execution_count": 13,
     "metadata": {},
     "output_type": "execute_result"
    },
    {
     "data": {
      "image/png": "[encoded data removed]",
      "text/plain": [
       "<Figure size 640x480 with 1 Axes>"
      ]
     },
     "metadata": {},
     "output_type": "display_data"
    }
   ],
   "source": [
    "spontaneous_recombination_rate.loc[1,0,:].plot()"
   ]
  },
  {
   "cell_type": "code",
   "execution_count": 16,
   "metadata": {},
   "outputs": [],
   "source": [
    "from tardis.plasma.equilibrium.level_populations import LevelPopulationSolver\n",
    "from tardis.plasma.equilibrium.rate_matrix import RateMatrix\n",
    "\n",
    "rate_matrix_solver = RateMatrix(rate_solvers, cmfgen_atom_data.levels)\n",
    "\n",
    "rate_matrix = rate_matrix_solver.solve(rad_field, electron_dist)\n",
    "\n",
    "lte_rate_matrix = RateMatrix(lte_rate_solvers, cmfgen_atom_data.levels).solve(rad_field, electron_dist)"
   ]
  },
  {
   "cell_type": "code",
   "execution_count": null,
   "metadata": {},
   "outputs": [],
   "source": [
    "solver = LevelPopulationSolver(rate_matrix, cmfgen_atom_data.levels)\n",
    "\n",
    "level_pops = solver.solve()\n",
    "\n",
    "lte_level_pops = LevelPopulationSolver(lte_rate_matrix, cmfgen_atom_data.levels).solve()"
   ]
  },
  {
   "cell_type": "code",
   "execution_count": null,
   "metadata": {},
   "outputs": [],
   "source": [
    "plt.scatter(cmfgen_atom_data.levels.loc[1,0].energy * u.erg.to('eV'), level_pops.loc[1,0,:][0], marker='x', label='TARDIS')\n",
    "plt.scatter(cmfgen_atom_data.levels.loc[1,0].energy * u.erg.to('eV'), lte_level_pops.loc[1,0,:][0], marker='x', label='TARDIS col only')\n",
    "plt.xlabel(\"Energy (eV)\")\n",
    "plt.ylabel(\"Population\")\n",
    "plt.semilogy()\n",
    "plt.legend()"
   ]
  },
  {
   "cell_type": "code",
   "execution_count": null,
   "metadata": {},
   "outputs": [],
   "source": []
  }
 ],
 "metadata": {
  "kernelspec": {
   "display_name": "tardis",
   "language": "python",
   "name": "python3"
  },
  "language_info": {
   "codemirror_mode": {
    "name": "ipython",
    "version": 3
   },
   "file_extension": ".py",
   "mimetype": "text/x-python",
   "name": "python",
   "nbconvert_exporter": "python",
   "pygments_lexer": "ipython3",
   "version": "3.12.4"
  }
 },
 "nbformat": 4,
 "nbformat_minor": 2
}
