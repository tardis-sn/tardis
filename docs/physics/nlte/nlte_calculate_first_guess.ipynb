{
 "cells": [
  {
   "cell_type": "markdown",
   "id": "4ad914ea-0fe3-4886-9907-cdd41f1a6bc9",
   "metadata": {},
   "source": [
    "# NLTE Calculate First Guess\n",
    "\n",
    "This notebook demonstrates how to use the `calculate_first_guess` function from the `tardis.plasma.properties.nlte_rate_equation_solver` module.\n"
   ]
  },
  {
   "cell_type": "code",
   "execution_count": 1,
   "id": "3d161768-1404-4ae1-8d40-7914818e4051",
   "metadata": {},
   "outputs": [
    {
     "data": {
      "application/vnd.jupyter.widget-view+json": {
       "model_id": "d82537ec6d074e85a0e833834bcf7a60",
       "version_major": 2,
       "version_minor": 0
      },
      "text/plain": [
       "Iterations:          0/? [00:00<?, ?it/s]"
      ]
     },
     "metadata": {},
     "output_type": "display_data"
    },
    {
     "data": {
      "application/vnd.jupyter.widget-view+json": {
       "model_id": "a2b614f648a04776988130e3799390cd",
       "version_major": 2,
       "version_minor": 0
      },
      "text/plain": [
       "Packets:             0/? [00:00<?, ?it/s]"
      ]
     },
     "metadata": {},
     "output_type": "display_data"
    }
   ],
   "source": [
    "import numpy as np\n",
    "import pandas as pd\n",
    "from tardis.io.atom_data import download_atom_data\n",
    "from tardis.io.atom_data import AtomData\n",
    "from tardis.plasma.properties.nlte_rate_equation_solver import calculate_first_guess"
   ]
  },
  {
   "cell_type": "code",
   "execution_count": 2,
   "id": "88625b55-d1d2-4df6-a9e3-d597627cb57a",
   "metadata": {},
   "outputs": [
    {
     "name": "stderr",
     "output_type": "stream",
     "text": [
      "Atomic Data kurucz_cd23_chianti_H_He already exists in /home/rudraksh-nalbalwar/Downloads/tardis-data/kurucz_cd23_chianti_H_He.h5. Will not download - override with force_download=True.\n"
     ]
    }
   ],
   "source": [
    "download_atom_data('kurucz_cd23_chianti_H_He')\n",
    "atom_data = AtomData.from_hdf('kurucz_cd23_chianti_H_He.h5')"
   ]
  },
  {
   "cell_type": "markdown",
   "id": "51dfec9a-ee11-4a31-888e-ce3384b951fa",
   "metadata": {},
   "source": [
    "## Define Input Parameters\n",
    "Define the input parameters required for the calculate_first_guess function."
   ]
  },
  {
   "cell_type": "code",
   "execution_count": 3,
   "id": "4a19a7c0-aad5-4a0d-80f0-5326728c6af8",
   "metadata": {},
   "outputs": [],
   "source": [
    "atomic_numbers = atom_data.levels.index.get_level_values('atomic_number').unique()\n",
    "number_density = atom_data.levels.groupby('atomic_number').size().astype(float)\n",
    "electron_density = number_density.sum() * 0.1 \n",
    "rate_matrix_index = pd.MultiIndex.from_product([atomic_numbers, [0, 1, 2]])"
   ]
  },
  {
   "cell_type": "markdown",
   "id": "dac1eb22-ad56-4afa-94d4-84f50e593a08",
   "metadata": {},
   "source": [
    "### first guess using singly ionized method"
   ]
  },
  {
   "cell_type": "code",
   "execution_count": 4,
   "id": "161291ef-e305-4248-bc9e-4380cec3e878",
   "metadata": {},
   "outputs": [
    {
     "name": "stdout",
     "output_type": "stream",
     "text": [
      "[   0.    26.     0.     0.    75.     0.     0.   126.     0.     0.\n",
      "   86.     0.     0.    98.     0.     0.  1039.     0.     0.   664.\n",
      "    0.     0.   749.     0.     0.   784.     0.     0.   831.     0.\n",
      "    0.   387.     0.     0.   914.     0.     0.   663.     0.     0.\n",
      "  960.     0.     0.   495.     0.     0.   385.     0.     0.   508.\n",
      "    0.     0.   700.     0.     0.   228.     0.     0.   727.     0.\n",
      "    0.   770.     0.     0.  1106.     0.     0.  1444.     0.     0.\n",
      " 1732.     0.     0.  1700.     0.     0.  3006.     0.     0.  1721.\n",
      "    0.     0.  2204.     0.     0.   339.     0.     0.   339.  2480.6]\n"
     ]
    }
   ],
   "source": [
    "first_guess_singly_ionized = calculate_first_guess(\n",
    "    rate_matrix_index, atomic_numbers, number_density, electron_density, method=\"singly_ionized\"\n",
    ")\n",
    "print(first_guess_singly_ionized)\n"
   ]
  },
  {
   "cell_type": "markdown",
   "id": "4fed726c-83a9-47fc-a3d4-1e18fa527d82",
   "metadata": {},
   "source": [
    "### First guess using previous solution method"
   ]
  },
  {
   "cell_type": "code",
   "execution_count": 5,
   "id": "bc43870c-beac-4dd4-b1b3-bb519ce5372f",
   "metadata": {},
   "outputs": [
    {
     "name": "stdout",
     "output_type": "stream",
     "text": [
      "[1.0000e+08 1.0000e+08 1.0000e+08 1.0000e+08 1.0000e+08 1.0000e+08\n",
      " 1.0000e+08 1.0000e+08 1.0000e+08 1.0000e+08 1.0000e+08 1.0000e+08\n",
      " 1.0000e+08 1.0000e+08 1.0000e+08 1.0000e+08 1.0000e+08 1.0000e+08\n",
      " 1.0000e+08 1.0000e+08 1.0000e+08 1.0000e+08 1.0000e+08 1.0000e+08\n",
      " 1.0000e+08 1.0000e+08 1.0000e+08 1.0000e+08 1.0000e+08 1.0000e+08\n",
      " 1.0000e+08 1.0000e+08 1.0000e+08 1.0000e+08 1.0000e+08 1.0000e+08\n",
      " 1.0000e+08 1.0000e+08 1.0000e+08 1.0000e+08 1.0000e+08 1.0000e+08\n",
      " 1.0000e+08 1.0000e+08 1.0000e+08 1.0000e+08 1.0000e+08 1.0000e+08\n",
      " 1.0000e+08 1.0000e+08 1.0000e+08 1.0000e+08 1.0000e+08 1.0000e+08\n",
      " 1.0000e+08 1.0000e+08 1.0000e+08 1.0000e+08 1.0000e+08 1.0000e+08\n",
      " 1.0000e+08 1.0000e+08 1.0000e+08 1.0000e+08 1.0000e+08 1.0000e+08\n",
      " 1.0000e+08 1.0000e+08 1.0000e+08 1.0000e+08 1.0000e+08 1.0000e+08\n",
      " 1.0000e+08 1.0000e+08 1.0000e+08 1.0000e+08 1.0000e+08 1.0000e+08\n",
      " 1.0000e+08 1.0000e+08 1.0000e+08 1.0000e+08 1.0000e+08 1.0000e+08\n",
      " 1.0000e+08 1.0000e+08 1.0000e+08 1.0000e+08 1.0000e+08 1.0000e+08\n",
      " 2.4806e+03]\n"
     ]
    }
   ],
   "source": [
    "previous_solution = np.ones(len(rate_matrix_index) + 1) * 1e8\n",
    "first_guess_previous_solution = calculate_first_guess(\n",
    "    rate_matrix_index, atomic_numbers, number_density, electron_density, previous_solution=previous_solution, method=\"previous_solution\"\n",
    ")\n",
    "print(first_guess_previous_solution)"
   ]
  },
  {
   "cell_type": "markdown",
   "id": "2e10fec2-aa69-477d-aef2-960872f74931",
   "metadata": {},
   "source": [
    "### First guess using lu decomposition method"
   ]
  },
  {
   "cell_type": "code",
   "execution_count": 6,
   "id": "a7656c6a-29c2-48d9-be75-8d9d61008aea",
   "metadata": {},
   "outputs": [
    {
     "name": "stdout",
     "output_type": "stream",
     "text": [
      "[   0.    26.     0.     0.    75.     0.     0.   126.     0.     0.\n",
      "   86.     0.     0.    98.     0.     0.  1039.     0.     0.   664.\n",
      "    0.     0.   749.     0.     0.   784.     0.     0.   831.     0.\n",
      "    0.   387.     0.     0.   914.     0.     0.   663.     0.     0.\n",
      "  960.     0.     0.   495.     0.     0.   385.     0.     0.   508.\n",
      "    0.     0.   700.     0.     0.   228.     0.     0.   727.     0.\n",
      "    0.   770.     0.     0.  1106.     0.     0.  1444.     0.     0.\n",
      " 1732.     0.     0.  1700.     0.     0.  3006.     0.     0.  1721.\n",
      "    0.     0.  2204.     0.     0.   339.     0.     0.   339.  2480.6]\n"
     ]
    }
   ],
   "source": [
    "first_guess_lu_decomposition = calculate_first_guess(\n",
    "    rate_matrix_index, atomic_numbers, number_density, electron_density, method=\"lu_decomposition\"\n",
    ")\n",
    "print(first_guess_lu_decomposition)"
   ]
  },
  {
   "cell_type": "markdown",
   "id": "15bd8d74-e260-47eb-ac68-6407fc12bc1d",
   "metadata": {},
   "source": [
    "### First guess using auto method"
   ]
  },
  {
   "cell_type": "code",
   "execution_count": 7,
   "id": "6a166487-0868-4cba-ae32-e6e27fb77502",
   "metadata": {},
   "outputs": [
    {
     "name": "stdout",
     "output_type": "stream",
     "text": [
      "[   0.    26.     0.     0.    75.     0.     0.   126.     0.     0.\n",
      "   86.     0.     0.    98.     0.     0.  1039.     0.     0.   664.\n",
      "    0.     0.   749.     0.     0.   784.     0.     0.   831.     0.\n",
      "    0.   387.     0.     0.   914.     0.     0.   663.     0.     0.\n",
      "  960.     0.     0.   495.     0.     0.   385.     0.     0.   508.\n",
      "    0.     0.   700.     0.     0.   228.     0.     0.   727.     0.\n",
      "    0.   770.     0.     0.  1106.     0.     0.  1444.     0.     0.\n",
      " 1732.     0.     0.  1700.     0.     0.  3006.     0.     0.  1721.\n",
      "    0.     0.  2204.     0.     0.   339.     0.     0.   339.  2480.6]\n"
     ]
    }
   ],
   "source": [
    "first_guess_auto = calculate_first_guess(\n",
    "    rate_matrix_index, atomic_numbers, number_density, electron_density, method=\"auto\"\n",
    ")\n",
    "print(first_guess_auto)"
   ]
  },
  {
   "cell_type": "code",
   "execution_count": null,
   "id": "5f70df12-7fd7-4211-a203-8084e014582a",
   "metadata": {},
   "outputs": [],
   "source": []
  }
 ],
 "metadata": {
  "kernelspec": {
   "display_name": "Python 3 (ipykernel)",
   "language": "python",
   "name": "python3"
  },
  "language_info": {
   "codemirror_mode": {
    "name": "ipython",
    "version": 3
   },
   "file_extension": ".py",
   "mimetype": "text/x-python",
   "name": "python",
   "nbconvert_exporter": "python",
   "pygments_lexer": "ipython3",
   "version": "3.12.4"
  }
 },
 "nbformat": 4,
 "nbformat_minor": 5
}
