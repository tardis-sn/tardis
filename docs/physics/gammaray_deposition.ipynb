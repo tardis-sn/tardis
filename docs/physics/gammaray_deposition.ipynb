{
 "cells": [
  {
   "cell_type": "markdown",
   "metadata": {},
   "source": [
    "## Gamma-ray energy deposition"
   ]
  },
  {
   "cell_type": "code",
   "execution_count": 1,
   "metadata": {},
   "outputs": [],
   "source": [
    "import numpy as np\n",
    "import astropy.units as u\n",
    "\n",
    "from tardis.energy_input.base import GammaRay, spawn_gamma_ray, main_gamma_ray_loop\n",
    "from tardis.energy_input.calculate_opacity import compton_opacity_calculation, photoabsorption_opacity_calculation, pair_creation_opacity_calculation, kappa_calculation\n",
    "from tardis.energy_input.gamma_ray_grid import distance_trace, move_gamma_ray, mass_distribution\n",
    "from tardis.energy_input.gamma_ray_interactions import scatter_type"
   ]
  },
  {
   "cell_type": "markdown",
   "metadata": {},
   "source": [
    "Euler-Rodrigues rotation matrix for Compton Scattering rotation"
   ]
  },
  {
   "source": [
    "def euler_rodrigues(theta, direction):\n",
    "    a = np.cos(theta / 2)\n",
    "    b = direction.x * np.sin(theta / 2)\n",
    "    c = direction.y * np.sin(theta / 2)\n",
    "    d = direction.z * np.sin(theta / 2)\n",
    "    \n",
    "    er11 = a ** 2. + b ** 2. - c ** 2. - d ** 2.\n",
    "    er12 = 2. * (b * c - a * d)\n",
    "    er13 = 2. * (b * d + a * d)\n",
    "    \n",
    "    er21 = 2. * (b * c + a * d)\n",
    "    er22 = a ** 2. + c ** 2. - b ** 2. - d ** 2.\n",
    "    er23 = 2. * (c * d - a * b)\n",
    "    \n",
    "    er31 = 2. * (b * d - a * c)\n",
    "    er32 = 2. * (c * d + a * b)\n",
    "    er33 = a ** 2. + d ** 2. - b ** 2. - c ** 2.\n",
    "    \n",
    "    return np.array([[er11, er12, er13],\n",
    "                     [er21, er22, er23],\n",
    "                     [er31, er32, er33]])"
   ],
   "cell_type": "markdown",
   "metadata": {}
  },
  {
   "cell_type": "markdown",
   "metadata": {},
   "source": [
    "Quadratic solver to measure the distance to the nearest shell boundary"
   ]
  },
  {
   "source": [
    "def quadratic(b, c):\n",
    "    delta = b ** 2 - 4.0 * c\n",
    "    if delta > 0:\n",
    "        delta = np.sqrt(delta)\n",
    "        delta = delta * np.sign(b)\n",
    "        q = -0.5 * (b + delta)\n",
    "        x1 = q\n",
    "        x2 = c / q\n",
    "    elif delta < 0:\n",
    "        x1 = -np.inf\n",
    "        x2 = -np.inf\n",
    "    else:\n",
    "        x1 = -2.0 * c / b\n",
    "        x2 = -np.inf\n",
    "    return x1, x2"
   ],
   "cell_type": "markdown",
   "metadata": {}
  },
  {
   "cell_type": "markdown",
   "metadata": {},
   "source": [
    "Gamma rays are spawned from a defined volume given by a density profile f(r).\n",
    "\n",
    "They are propagated through ejecta until interaction with an electron.\n",
    "\n",
    "Their energy loss due to interactions is deposited into the ejecta."
   ]
  },
  {
   "cell_type": "markdown",
   "metadata": {},
   "source": [
    "Be et al 2006 energy levels should be sampled. For now, the code simply has a random energy from 0 to 100,000 eV"
   ]
  },
  {
   "source": [
    "#Constant to begin with\n",
    "def sample_energy_distribution():\n",
    "    return np.random.random() * 100.0e3"
   ],
   "cell_type": "markdown",
   "metadata": {}
  },
  {
   "cell_type": "markdown",
   "metadata": {},
   "source": [
    "Basic spherical coordinate vector with properties to convert to Cartesian coordinates"
   ]
  },
  {
   "source": [
    "#Probably need an ejecta class to contain the ejecta model\n",
    "\n",
    "class SphericalVector(object):\n",
    "    \"\"\"\n",
    "    Direction object to hold spherical polar and Cartesian directions\n",
    "    \"\"\"\n",
    "    def __init__(self, r, mu, phi=0.):\n",
    "        self.r = r\n",
    "        self.mu = mu\n",
    "        self.phi = phi\n",
    "        \n",
    "    @property\n",
    "    def theta(self):\n",
    "        return np.arccos(self.mu)\n",
    "        \n",
    "    @property\n",
    "    def x(self):\n",
    "        return self.r * np.sin(np.arccos(self.mu)) * np.cos(self.phi)\n",
    "    \n",
    "    @property\n",
    "    def y(self):\n",
    "        return self.r * np.sin(np.arccos(self.mu)) * np.sin(self.phi)\n",
    "    \n",
    "    @property\n",
    "    def z(self):\n",
    "        return self.r * self.mu"
   ],
   "cell_type": "markdown",
   "metadata": {}
  },
  {
   "cell_type": "markdown",
   "metadata": {},
   "source": [
    "Gamma rays have a location, direction, energy, status and shell."
   ]
  },
  {
   "source": [
    "class GammaRay(object):\n",
    "    \"\"\"\n",
    "    Gamma ray object with location, direction and energy\n",
    "    \"\"\"\n",
    "    def __init__(self, location, direction, energy, status, shell):\n",
    "        self.location = location\n",
    "        self.direction = direction\n",
    "        self.energy = energy\n",
    "        self.status = status\n",
    "        self.shell = shell"
   ],
   "cell_type": "markdown",
   "metadata": {}
  },
  {
   "cell_type": "markdown",
   "metadata": {},
   "source": [
    "Need to sample density from a distribution. In this case, a simple exponential."
   ]
  },
  {
   "cell_type": "code",
   "execution_count": 2,
   "metadata": {},
   "outputs": [],
   "source": [
    "#Need to use homologous expansion to get real radii\n",
    "def density_profile(t, rho_0, t_0, r, max_r):\n",
    "    return rho_0 * (t / t_0) ** -3. * np.exp(-r / max_r)"
   ]
  },
  {
   "cell_type": "markdown",
   "metadata": {},
   "source": [
    "Calculate the total ejecta mass from the center to radius r' through numerical integration of the density profile in spherical coordinates.  To do this, we sum over very small spherical shells i of constant density $\\rho_i$ from the center of the ejecta to the desired radius $r_i$.\n",
    "\n",
    "$M_i = 4/3 \\pi \\rho_i (r_i^3 - r_{i-1}^3)$\n",
    "\n",
    "Normalized to the maximum mass."
   ]
  },
  {
   "cell_type": "markdown",
   "metadata": {},
   "source": [
    "To  get  the  decay  position  spherical coordinates have to be sampled as well"
   ]
  },
  {
   "cell_type": "code",
   "execution_count": 3,
   "metadata": {},
   "outputs": [],
   "source": [
    "def mass_distribution(radial_grid_size, inner_radius, outer_radius, t, rho_0, t_0):\n",
    "    \n",
    "    size = outer_radius - inner_radius\n",
    "    dr = size / radial_grid_size\n",
    "    \n",
    "    r = inner_radius\n",
    "    \n",
    "    mass = np.zeros(radial_grid_size)\n",
    "    radii = np.zeros(radial_grid_size)\n",
    "    density = np.zeros(radial_grid_size)\n",
    "    \n",
    "    i = 0\n",
    "    while i < radial_grid_size:\n",
    "        radii[i] = r\n",
    "        density[i] = density_profile(t, rho_0, t_0, radii[i], outer_radius)\n",
    "        if i == 0:\n",
    "            mass[i] = 4. / 3. * np.pi * density_profile(t, rho_0, t_0, radii[i], outer_radius) * radii[i] ** 3.   \n",
    "        else:\n",
    "            mass[i] = 4. / 3. * np.pi * density_profile(t, rho_0, t_0, radii[i], outer_radius) * \\\n",
    "            (radii[i] ** 3. - radii[i - 1] ** 3.)  \n",
    "\n",
    "        i += 1\n",
    "        r += dr\n",
    "        \n",
    "    mass[radial_grid_size - 1] = (4. / 3. * np.pi * density_profile(t, rho_0, t_0, radii[radial_grid_size - 1], outer_radius) * \\\n",
    "                              (radii[radial_grid_size - 1] ** 3. - radii[radial_grid_size - 2] ** 3.))\n",
    "    \n",
    "    return radii, mass / np.max(mass), density"
   ]
  },
  {
   "cell_type": "markdown",
   "metadata": {},
   "source": [
    "Pick a random number z. The chosen radius r is now the radius r′ at which the cumulative distribution has the mass\n",
    "$M/M_{tot} = z$"
   ]
  },
  {
   "source": [
    "def density_sampler(radii, mass_ratio):   \n",
    "    z = np.random.random()   \n",
    "    index = np.searchsorted(mass_ratio, z)\n",
    "    return radii[index], index"
   ],
   "cell_type": "markdown",
   "metadata": {}
  },
  {
   "cell_type": "markdown",
   "metadata": {},
   "source": [
    "Basic random direction samplers. Currently working in 2D so $\\phi = 0$"
   ]
  },
  {
   "source": [
    "#Both should be fine\n",
    "def phi_sampler():\n",
    "    #return np.arccos(1. - 2. *  np.random.random())\n",
    "    return 0.\n",
    "\n",
    "def theta_sampler():\n",
    "    return 2. * np.pi * np.random.random()\n",
    "\n",
    "def mu_sampler():\n",
    "    return 2.0 * np.random.random() - 1.0"
   ],
   "cell_type": "markdown",
   "metadata": {}
  },
  {
   "cell_type": "markdown",
   "metadata": {},
   "source": [
    "Spawns gamma-rays with a randomly sampled direction, energy, and location.\n",
    "\n",
    "Note for positrons, spawn a second photon in the opposite direction. Both have 511 KeV."
   ]
  },
  {
   "source": [
    "#Very incomplete\n",
    "def spawn_gamma_ray(gamma_ray, radii, mass_ratio, positron=False):  \n",
    "    direction_mu = mu_sampler()\n",
    "    direction_phi = phi_sampler()\n",
    "    \n",
    "    if positron:\n",
    "        gamma_ray.energy = 511.0e3\n",
    "    else:\n",
    "        gamma_ray.energy = sample_energy_distribution()\n",
    "        \n",
    "    initial_radius, shell = density_sampler(radii, mass_ratio)\n",
    "    \n",
    "    if shell < len(radii) - 1:\n",
    "        initial_radius += np.random.random() * (radii[shell + 1] - radii[shell])\n",
    "        \n",
    "    \n",
    "    gamma_ray.shell = shell\n",
    "        \n",
    "    gamma_ray.direction = SphericalVector(1., direction_mu, direction_phi)\n",
    "    \n",
    "    location_mu = mu_sampler()\n",
    "    location_phi = phi_sampler()\n",
    "    gamma_ray.location = SphericalVector(initial_radius, location_mu, location_phi)\n",
    "        \n",
    "    return gamma_ray"
   ],
   "cell_type": "markdown",
   "metadata": {}
  },
  {
   "cell_type": "markdown",
   "metadata": {},
   "source": [
    "1D distance to boundary from TARDIS"
   ]
  },
  {
   "source": [
    "def calculate_distance_boundary(r, mu, r_inner, r_outer):\n",
    "    delta_shell = 0\n",
    "    if (mu > 0.0):\n",
    "        print(\"direction outward\")\n",
    "        distance = np.sqrt(r_outer**2 + ((mu**2 - 1.0) * r**2)) - (r * mu)\n",
    "        delta_shell = 1\n",
    "    else:\n",
    "        print(\"going inward\")\n",
    "        check = r_inner**2 + (r**2 * (mu**2 - 1.0))\n",
    "\n",
    "        if (check >= 0.0):\n",
    "            print(\"hit inner boundary \")\n",
    "            distance = -r * mu - np.sqrt(check)\n",
    "            delta_shell = -1\n",
    "        else:\n",
    "            print(\"miss inner boundary\")\n",
    "            distance = np.sqrt(r_outer**2 + ((mu**2 - 1.0) * r**2)) - (r * mu)\n",
    "            delta_shell = 1\n",
    "    \n",
    "    return distance, delta_shell"
   ],
   "cell_type": "markdown",
   "metadata": {}
  },
  {
   "cell_type": "markdown",
   "metadata": {},
   "source": [
    "Corrected distance to the boundary including the 3D direction vectors."
   ]
  },
  {
   "source": [
    "def calculate_distance_radial(gamma_ray, r_inner, r_outer):\n",
    "    \n",
    "    direction_square = gamma_ray.direction.x ** 2. + gamma_ray.direction.y ** 2. + gamma_ray.direction.z ** 2.\n",
    "    position_square = gamma_ray.location.x ** 2. + gamma_ray.location.y ** 2. + gamma_ray.location.z ** 2.\n",
    "    position_direction = gamma_ray.direction.x * gamma_ray.location.x + \\\n",
    "                        gamma_ray.direction.y * gamma_ray.location.y + \\\n",
    "                        gamma_ray.direction.z * gamma_ray.location.z\n",
    "    \n",
    "    on_inner_wall = False\n",
    "    on_outer_wall = False\n",
    "    \n",
    "    distances = []\n",
    "    \n",
    "    if np.abs(gamma_ray.location.r - r_inner) < 5:\n",
    "        on_inner_wall = True\n",
    "        \n",
    "    if np.abs(gamma_ray.location.r - r_outer) < 5:\n",
    "        on_outer_wall = True\n",
    "\n",
    "    quadratic_b = 2. * position_direction\n",
    "    quadratic_c = position_square\n",
    "    \n",
    "    quad_c_inner = quadratic_c - r_inner ** 2\n",
    "    distance_1, distance_2 = quadratic(quadratic_b, quad_c_inner)\n",
    "    \n",
    "    if on_inner_wall:\n",
    "        if np.abs(distance_1) < np.abs(distance_2):\n",
    "            distances.append(distance_2)\n",
    "        else:\n",
    "            distances.append(distance_1)\n",
    "    else:\n",
    "        distances.append(distance_1)\n",
    "        distances.append(distance_2)\n",
    "    \n",
    "    quad_c_outer = quadratic_c - r_outer ** 2\n",
    "    distance_3, distance_4 = quadratic(quadratic_b, quad_c_outer)\n",
    "    \n",
    "    if on_outer_wall:\n",
    "        if np.abs(distance_3) < np.abs(distance_4):\n",
    "            distances.append(distance_4)\n",
    "        else:\n",
    "            distances.append(distance_3)\n",
    "    else:\n",
    "        distances.append(distance_3)\n",
    "        distances.append(distance_4)\n",
    "        \n",
    "    distances = [item for item in distances if item >= 0]\n",
    "    if len(distances) > 0:\n",
    "        distance = min(distances, key=abs)\n",
    "    else:\n",
    "        distance = 0.0\n",
    "\n",
    "    return distance"
   ],
   "cell_type": "markdown",
   "metadata": {}
  },
  {
   "cell_type": "markdown",
   "metadata": {},
   "source": [
    "Measure the distance to the next interaction, and determine if it's less than the distance to the next shell boundary.\n",
    "\n",
    "If so, we've hit an electron!"
   ]
  },
  {
   "source": [
    "def distance_trace(gamma_ray, radii, total_opacity, distance_moved):\n",
    "    \n",
    "    if packet.shell < len(radii) - 1:\n",
    "        distance_boundary = calculate_distance_radial(gamma_ray, radii[packet.shell], radii[packet.shell + 1])\n",
    "    else:\n",
    "        distance_boundary = 0.0\n",
    "    \n",
    "    z = np.random.random()\n",
    "    tau = -np.log(z)\n",
    "    \n",
    "    distance_interaction = tau / total_opacity - distance_moved\n",
    "    \n",
    "    if distance_interaction < distance_boundary:\n",
    "        return distance_interaction, distance_boundary, True\n",
    "    else:\n",
    "        return distance_interaction, distance_boundary, False"
   ],
   "cell_type": "markdown",
   "metadata": {}
  },
  {
   "cell_type": "markdown",
   "metadata": {},
   "source": [
    "Randomly choose an interaction type, weighted by their opacity."
   ]
  },
  {
   "source": [
    "#Event handler, basically\n",
    "def scatter_type(gamma_ray, compton_opacity, photoabsorption_opacity, total_opacity):\n",
    "    \n",
    "    z = np.random.random()\n",
    "    \n",
    "    ejecta_energy_gain = 0.0\n",
    "    pair_created = False\n",
    "    \n",
    "    if z <= compton_opacity / total_opacity:\n",
    "        ejecta_energy_gain = compton_scatter(gamma_ray)\n",
    "    elif z <= (compton_opacity + photoabsorption_opacity) / total_opacity:\n",
    "        ejecta_energy_gain = photoabsorption(gamma_ray)\n",
    "    else:\n",
    "        pair_creation(gamma_ray)\n",
    "        pair_created = True\n",
    "        \n",
    "    return ejecta_energy_gain, pair_created"
   ],
   "cell_type": "markdown",
   "metadata": {}
  },
  {
   "cell_type": "markdown",
   "metadata": {},
   "source": [
    "### Compton scattering and opacity calculations\n",
    "\n",
    "Energy $E_s = E / (1 + \\kappa (1 - \\cos\\theta_C))$\n",
    "\n",
    "Integrate eq 4.15 Andreas MSc thesis to get $\\theta_C$\n",
    "\n",
    "Sample $\\phi_C$ from 0 to $2\\pi$ using phi_sampler\n",
    "\n",
    "Opacity $\\chi_C = n_e^{tot} \\sigma_{KN}$"
   ]
  },
  {
   "source": [
    "def kappa_calculation(energy):\n",
    "    k = energy / 511.0e3\n",
    "    return k"
   ],
   "cell_type": "markdown",
   "metadata": {}
  },
  {
   "source": [
    "def klein_nishina(energy, theta_C):\n",
    "    r_e = 2.8179403227e-15\n",
    "    kappa = kappa_calculation(energy) \n",
    "    return r_e / 2 * \\\n",
    "            (1. + kappa * (1. - np.cos(theta_C))) ** -2. * \\\n",
    "            (1. + np.cos(theta_C) ** 2. + \\\n",
    "            (kappa ** 2. * (1. - np.cos(theta_C)) ** 2.) / (1. + kappa * (1. - np.cos(theta_C))))\n",
    "\n",
    "def compton_scatter(gamma_ray):\n",
    "    #print(\"== Compton scatter ==\")   \n",
    "    sample_resolution = 100\n",
    "    dtheta = np.pi / sample_resolution\n",
    "    \n",
    "    theta_distribution = np.zeros(sample_resolution)\n",
    "    theta_angles = np.ones(sample_resolution) * np.pi\n",
    "    \n",
    "    theta = 0.\n",
    "    for i in range(sample_resolution - 1):\n",
    "        theta_distribution[i + 1] = \\\n",
    "                theta_distribution[i] + klein_nishina(gamma_ray.energy, theta)\n",
    "        theta_angles[i] = theta\n",
    "        theta += dtheta\n",
    "    \n",
    "    theta_distribution /= np.max(theta_distribution)\n",
    "    \n",
    "    z = np.random.random()\n",
    "    \n",
    "    #sample new random theta direction\n",
    "    random_vector = SphericalVector(1., mu_sampler(), phi_sampler())\n",
    "    \n",
    "    perpendicular_vector_x = gamma_ray.direction.y * random_vector.z - gamma_ray.direction.z * random_vector.y\n",
    "    perpendicular_vector_y = gamma_ray.direction.z * random_vector.x - gamma_ray.direction.x * random_vector.z\n",
    "    perpendicular_vector_z = gamma_ray.direction.x * random_vector.y - gamma_ray.direction.y * random_vector.x\n",
    "    \n",
    "    perpendicular_vector = np.array([perpendicular_vector_x, perpendicular_vector_y, perpendicular_vector_z])\n",
    "    \n",
    "    #get Compton scattering angle\n",
    "    compton_angle = theta_angles[np.searchsorted(theta_distribution, z)]\n",
    "    \n",
    "    #rotate to match\n",
    "    rotation_matrix = euler_rodrigues(compton_angle, gamma_ray.direction)\n",
    "    \n",
    "    #rotate to match\n",
    "    resulting_direction = np.dot(rotation_matrix, perpendicular_vector)\n",
    "    \n",
    "    gamma_ray.direction.mu = resulting_direction[2]\n",
    "    \n",
    "    #generate new random phi direction\n",
    "    gamma_ray.direction.phi = phi_sampler()\n",
    "    \n",
    "    #Energy calculations\n",
    "    new_energy = gamma_ray.energy / (1. + kappa_calculation(gamma_ray.energy) * (1. - gamma_ray.direction.mu))  \n",
    "    lost_energy = gamma_ray.energy - new_energy   \n",
    "    gamma_ray.energy = new_energy\n",
    "    \n",
    "    return lost_energy\n",
    "    "
   ],
   "cell_type": "markdown",
   "metadata": {}
  },
  {
   "source": [
    "def compton_opacity_calculation(electron_number_density, energy):\n",
    "    \n",
    "    kappa = kappa_calculation(energy)\n",
    "    \n",
    "    sigma_T = 6.65e-25\n",
    "\n",
    "    a = (1. + 2. * kappa)\n",
    "    \n",
    "    sigma_KN = 3. / 4. * sigma_T * \\\n",
    "            ((1. + kappa) / kappa ** 3. * ((2. * kappa * (1. + kappa)) / a - np.log(a)) + \\\n",
    "             1. / (2. * kappa) * np.log(a) - (1. + 3 * kappa) / a ** 2.)\n",
    "    \n",
    "    return electron_number_density * sigma_KN"
   ],
   "cell_type": "markdown",
   "metadata": {}
  },
  {
   "cell_type": "markdown",
   "metadata": {},
   "source": [
    "### Photoabsorption opacity\n",
    "\n",
    "Gamma-ray energy transferred to electron\n",
    "\n",
    "Opacity eq 4.22"
   ]
  },
  {
   "source": [
    "m_Si = 28.085 * u.M_p\n",
    "m_Fe = 55.845 * u.M_p\n",
    "\n",
    "#Need to keep track of energy in the ejecta\n",
    "def photoabsorption(gamma_ray):\n",
    "    #print(\"== Photoabsorption ==\")\n",
    "    \n",
    "    gamma_ray.status = 'Absorbed'\n",
    "    return gamma_ray.energy\n",
    "\n",
    "    "
   ],
   "cell_type": "markdown",
   "metadata": {}
  },
  {
   "source": [
    "def photoabsorption_opacity_calculation(energy, ejecta_density, iron_group_fraction):\n",
    "    \n",
    "    Si_opacity = 1.16e-24 * (energy / 100.0e3) ** -3.13 * ejecta_density / m_Si.value * (1. - iron_group_fraction)\n",
    "    \n",
    "    Fe_opacity = 25.7e-24 * (energy / 100.0e3) ** -3.0 * ejecta_density / m_Fe.value * (1. - iron_group_fraction)\n",
    "    \n",
    "    return Si_opacity + Fe_opacity"
   ],
   "cell_type": "markdown",
   "metadata": {}
  },
  {
   "cell_type": "markdown",
   "metadata": {},
   "source": [
    "### Pair creation opacity and scattering\n",
    "\n",
    "Incoming photon destroyed, 2 x 511 KeV photons created, remaining energy deposited"
   ]
  },
  {
   "source": [
    "def pair_creation(gamma_ray):\n",
    "    print(\"== Pair creation ==\")\n",
    "    direction_mu = mu_sampler()\n",
    "    direction_phi = phi_sampler()\n",
    "    \n",
    "    gamma_ray.energy = 511.0e3\n",
    "    gamma_ray.direction = SphericalVector(1.0, direction_mu, direction_phi)\n",
    "    "
   ],
   "cell_type": "markdown",
   "metadata": {}
  },
  {
   "source": [
    "def pair_creation_opacity_calculation(energy, ejecta_density, iron_group_fraction):\n",
    "    \n",
    "    Z_Si = 14\n",
    "    Z_Fe = 26\n",
    "\n",
    "    Si_proton_ratio = Z_Si ** 2. / m_Si.value\n",
    "    Fe_proton_ratio = Z_Fe ** 2. / m_Fe.value\n",
    "    \n",
    "    multiplier = ejecta_density * (Si_proton_ratio * (1. - iron_group_fraction) + Fe_proton_ratio * iron_group_fraction)\n",
    "    \n",
    "    if energy > 1.022e6 and energy < 1.5e6:\n",
    "        opacity = multiplier * 1.0063 * (energy / 100.0e6 - 1.022) * 1.0e-27\n",
    "    else:\n",
    "        opacity = multiplier * (0.0481 + 0.301 * (energy / 100.0e6 - 1.5)) * 1.0e-27\n",
    "        \n",
    "    if opacity < 0.:\n",
    "        opacity = 0.\n",
    "        \n",
    "    return opacity"
   ],
   "cell_type": "markdown",
   "metadata": {}
  },
  {
   "cell_type": "markdown",
   "metadata": {},
   "source": [
    "Moves the gamma-ray in the direction of its travel by a distance"
   ]
  },
  {
   "source": [
    "def move_gamma_ray(gamma_ray, distance):\n",
    "    #print(\"move_gamma_ray\")\n",
    "    r = gamma_ray.location.r\n",
    "    \n",
    "    #print(\"new r:\", np.sqrt(r ** 2. + distance ** 2. +\n",
    "    #                     2.0 * r * distance * gamma_ray.location.mu) / outer_rad)\n",
    "    \n",
    "    x_old = gamma_ray.location.x\n",
    "    y_old = gamma_ray.location.y\n",
    "    z_old = gamma_ray.location.z\n",
    "    \n",
    "    x_new = x_old + distance * gamma_ray.direction.x\n",
    "    y_new = y_old + distance * gamma_ray.direction.y\n",
    "    z_new = z_old + distance * gamma_ray.direction.z\n",
    "    \n",
    "    gamma_ray.location.r = np.sqrt(x_new ** 2. + y_new ** 2. + z_new ** 2.)\n",
    "    gamma_ray.location.mu = z_new / gamma_ray.location.r\n",
    "    \n",
    "    return gamma_ray\n",
    "    "
   ],
   "cell_type": "markdown",
   "metadata": {}
  },
  {
   "cell_type": "markdown",
   "metadata": {},
   "source": [
    "### Main loop\n",
    "\n",
    "Generates a simple 1D ejecta and a list of gamma-ray objects.\n",
    "\n",
    "Runs packets of gamma-rays through the ejecta. Handles interactions by calling the appropriate function. \n",
    "\n",
    "Appends deposited energy and output energy to 2 different lists. Currently no binning."
   ]
  },
  {
   "cell_type": "code",
   "execution_count": 4,
   "metadata": {
    "scrolled": false,
    "tags": []
   },
   "outputs": [
    {
     "output_type": "display_data",
     "data": {
      "text/plain": "HBox(children=(HTML(value=''), FloatProgress(value=0.0, max=100000.0), HTML(value='')))",
      "application/vnd.jupyter.widget-view+json": {
       "version_major": 2,
       "version_minor": 0,
       "model_id": "6df5c4af11144592a6c19935c5a00b18"
      }
     },
     "metadata": {}
    },
    {
     "output_type": "stream",
     "name": "stdout",
     "text": [
      "\n"
     ]
    }
   ],
   "source": [
    "import matplotlib.pyplot as plt\n",
    "from tardis.model import Radial1DModel\n",
    "from tardis.io.config_reader import Configuration\n",
    "\n",
    "num_packets = 1e5\n",
    "num_packets = int(num_packets)\n",
    "\n",
    "np.random.seed(1)\n",
    "\n",
    "config = Configuration.from_yaml(\"../../tardis/io/tests/data/tardis_configv1_verysimple.yml\")\n",
    "\n",
    "model = Radial1DModel.from_config(config)\n",
    "\n",
    "ejecta_energy, ejecta_energy_r, escape_energy, radii = main_gamma_ray_loop(num_packets, model)\n"
   ]
  },
  {
   "cell_type": "code",
   "execution_count": 5,
   "metadata": {},
   "outputs": [
    {
     "output_type": "execute_result",
     "data": {
      "text/plain": [
       "[<matplotlib.lines.Line2D at 0x7f81ed7ee4d0>]"
      ]
     },
     "metadata": {},
     "execution_count": 5
    },
    {
     "output_type": "display_data",
     "data": {
      "text/plain": "<Figure size 900x600 with 1 Axes>",
      "image/svg+xml": "<?xml version=\"1.0\" encoding=\"utf-8\" standalone=\"no\"?>\n<!DOCTYPE svg PUBLIC \"-//W3C//DTD SVG 1.1//EN\"\n  \"http://www.w3.org/Graphics/SVG/1.1/DTD/svg11.dtd\">\n<!-- Created with matplotlib (https://matplotlib.org/) -->\n<svg height=\"248.518125pt\" version=\"1.1\" viewBox=\"0 0 386.845312 248.518125\" width=\"386.845312pt\" xmlns=\"http://www.w3.org/2000/svg\" xmlns:xlink=\"http://www.w3.org/1999/xlink\">\n <metadata>\n  <rdf:RDF xmlns:cc=\"http://creativecommons.org/ns#\" xmlns:dc=\"http://purl.org/dc/elements/1.1/\" xmlns:rdf=\"http://www.w3.org/1999/02/22-rdf-syntax-ns#\">\n   <cc:Work>\n    <dc:type rdf:resource=\"http://purl.org/dc/dcmitype/StillImage\"/>\n    <dc:date>2020-11-23T15:14:38.087084</dc:date>\n    <dc:format>image/svg+xml</dc:format>\n    <dc:creator>\n     <cc:Agent>\n      <dc:title>Matplotlib v3.3.2, https://matplotlib.org/</dc:title>\n     </cc:Agent>\n    </dc:creator>\n   </cc:Work>\n  </rdf:RDF>\n </metadata>\n <defs>\n  <style type=\"text/css\">*{stroke-linecap:butt;stroke-linejoin:round;}</style>\n </defs>\n <g id=\"figure_1\">\n  <g id=\"patch_1\">\n   <path d=\"M 0 248.518125 \nL 386.845312 248.518125 \nL 386.845312 0 \nL 0 0 \nz\n\" style=\"fill:#ffffff;\"/>\n  </g>\n  <g id=\"axes_1\">\n   <g id=\"patch_2\">\n    <path d=\"M 44.845313 224.64 \nL 379.645313 224.64 \nL 379.645313 7.2 \nL 44.845313 7.2 \nz\n\" style=\"fill:#ffffff;\"/>\n   </g>\n   <g id=\"matplotlib.axis_1\">\n    <g id=\"xtick_1\">\n     <g id=\"line2d_1\">\n      <defs>\n       <path d=\"M 0 0 \nL 0 3.5 \n\" id=\"m9ce2efbbf2\" style=\"stroke:#000000;stroke-width:0.8;\"/>\n      </defs>\n      <g>\n       <use style=\"stroke:#000000;stroke-width:0.8;\" x=\"90.499858\" xlink:href=\"#m9ce2efbbf2\" y=\"224.64\"/>\n      </g>\n     </g>\n     <g id=\"text_1\">\n      <!-- −0.04 -->\n      <g transform=\"translate(75.177202 239.238437)scale(0.1 -0.1)\">\n       <defs>\n        <path d=\"M 10.59375 35.5 \nL 73.1875 35.5 \nL 73.1875 27.203125 \nL 10.59375 27.203125 \nz\n\" id=\"DejaVuSans-8722\"/>\n        <path d=\"M 31.78125 66.40625 \nQ 24.171875 66.40625 20.328125 58.90625 \nQ 16.5 51.421875 16.5 36.375 \nQ 16.5 21.390625 20.328125 13.890625 \nQ 24.171875 6.390625 31.78125 6.390625 \nQ 39.453125 6.390625 43.28125 13.890625 \nQ 47.125 21.390625 47.125 36.375 \nQ 47.125 51.421875 43.28125 58.90625 \nQ 39.453125 66.40625 31.78125 66.40625 \nz\nM 31.78125 74.21875 \nQ 44.046875 74.21875 50.515625 64.515625 \nQ 56.984375 54.828125 56.984375 36.375 \nQ 56.984375 17.96875 50.515625 8.265625 \nQ 44.046875 -1.421875 31.78125 -1.421875 \nQ 19.53125 -1.421875 13.0625 8.265625 \nQ 6.59375 17.96875 6.59375 36.375 \nQ 6.59375 54.828125 13.0625 64.515625 \nQ 19.53125 74.21875 31.78125 74.21875 \nz\n\" id=\"DejaVuSans-48\"/>\n        <path d=\"M 10.6875 12.40625 \nL 21 12.40625 \nL 21 0 \nL 10.6875 0 \nz\n\" id=\"DejaVuSans-46\"/>\n        <path d=\"M 37.796875 64.3125 \nL 12.890625 25.390625 \nL 37.796875 25.390625 \nz\nM 35.203125 72.90625 \nL 47.609375 72.90625 \nL 47.609375 25.390625 \nL 58.015625 25.390625 \nL 58.015625 17.1875 \nL 47.609375 17.1875 \nL 47.609375 0 \nL 37.796875 0 \nL 37.796875 17.1875 \nL 4.890625 17.1875 \nL 4.890625 26.703125 \nz\n\" id=\"DejaVuSans-52\"/>\n       </defs>\n       <use xlink:href=\"#DejaVuSans-8722\"/>\n       <use x=\"83.789062\" xlink:href=\"#DejaVuSans-48\"/>\n       <use x=\"147.412109\" xlink:href=\"#DejaVuSans-46\"/>\n       <use x=\"179.199219\" xlink:href=\"#DejaVuSans-48\"/>\n       <use x=\"242.822266\" xlink:href=\"#DejaVuSans-52\"/>\n      </g>\n     </g>\n    </g>\n    <g id=\"xtick_2\">\n     <g id=\"line2d_2\">\n      <g>\n       <use style=\"stroke:#000000;stroke-width:0.8;\" x=\"151.372585\" xlink:href=\"#m9ce2efbbf2\" y=\"224.64\"/>\n      </g>\n     </g>\n     <g id=\"text_2\">\n      <!-- −0.02 -->\n      <g transform=\"translate(136.049929 239.238437)scale(0.1 -0.1)\">\n       <defs>\n        <path d=\"M 19.1875 8.296875 \nL 53.609375 8.296875 \nL 53.609375 0 \nL 7.328125 0 \nL 7.328125 8.296875 \nQ 12.9375 14.109375 22.625 23.890625 \nQ 32.328125 33.6875 34.8125 36.53125 \nQ 39.546875 41.84375 41.421875 45.53125 \nQ 43.3125 49.21875 43.3125 52.78125 \nQ 43.3125 58.59375 39.234375 62.25 \nQ 35.15625 65.921875 28.609375 65.921875 \nQ 23.96875 65.921875 18.8125 64.3125 \nQ 13.671875 62.703125 7.8125 59.421875 \nL 7.8125 69.390625 \nQ 13.765625 71.78125 18.9375 73 \nQ 24.125 74.21875 28.421875 74.21875 \nQ 39.75 74.21875 46.484375 68.546875 \nQ 53.21875 62.890625 53.21875 53.421875 \nQ 53.21875 48.921875 51.53125 44.890625 \nQ 49.859375 40.875 45.40625 35.40625 \nQ 44.1875 33.984375 37.640625 27.21875 \nQ 31.109375 20.453125 19.1875 8.296875 \nz\n\" id=\"DejaVuSans-50\"/>\n       </defs>\n       <use xlink:href=\"#DejaVuSans-8722\"/>\n       <use x=\"83.789062\" xlink:href=\"#DejaVuSans-48\"/>\n       <use x=\"147.412109\" xlink:href=\"#DejaVuSans-46\"/>\n       <use x=\"179.199219\" xlink:href=\"#DejaVuSans-48\"/>\n       <use x=\"242.822266\" xlink:href=\"#DejaVuSans-50\"/>\n      </g>\n     </g>\n    </g>\n    <g id=\"xtick_3\">\n     <g id=\"line2d_3\">\n      <g>\n       <use style=\"stroke:#000000;stroke-width:0.8;\" x=\"212.245313\" xlink:href=\"#m9ce2efbbf2\" y=\"224.64\"/>\n      </g>\n     </g>\n     <g id=\"text_3\">\n      <!-- 0.00 -->\n      <g transform=\"translate(201.1125 239.238437)scale(0.1 -0.1)\">\n       <use xlink:href=\"#DejaVuSans-48\"/>\n       <use x=\"63.623047\" xlink:href=\"#DejaVuSans-46\"/>\n       <use x=\"95.410156\" xlink:href=\"#DejaVuSans-48\"/>\n       <use x=\"159.033203\" xlink:href=\"#DejaVuSans-48\"/>\n      </g>\n     </g>\n    </g>\n    <g id=\"xtick_4\">\n     <g id=\"line2d_4\">\n      <g>\n       <use style=\"stroke:#000000;stroke-width:0.8;\" x=\"273.11804\" xlink:href=\"#m9ce2efbbf2\" y=\"224.64\"/>\n      </g>\n     </g>\n     <g id=\"text_4\">\n      <!-- 0.02 -->\n      <g transform=\"translate(261.985227 239.238437)scale(0.1 -0.1)\">\n       <use xlink:href=\"#DejaVuSans-48\"/>\n       <use x=\"63.623047\" xlink:href=\"#DejaVuSans-46\"/>\n       <use x=\"95.410156\" xlink:href=\"#DejaVuSans-48\"/>\n       <use x=\"159.033203\" xlink:href=\"#DejaVuSans-50\"/>\n      </g>\n     </g>\n    </g>\n    <g id=\"xtick_5\">\n     <g id=\"line2d_5\">\n      <g>\n       <use style=\"stroke:#000000;stroke-width:0.8;\" x=\"333.990767\" xlink:href=\"#m9ce2efbbf2\" y=\"224.64\"/>\n      </g>\n     </g>\n     <g id=\"text_5\">\n      <!-- 0.04 -->\n      <g transform=\"translate(322.857955 239.238437)scale(0.1 -0.1)\">\n       <use xlink:href=\"#DejaVuSans-48\"/>\n       <use x=\"63.623047\" xlink:href=\"#DejaVuSans-46\"/>\n       <use x=\"95.410156\" xlink:href=\"#DejaVuSans-48\"/>\n       <use x=\"159.033203\" xlink:href=\"#DejaVuSans-52\"/>\n      </g>\n     </g>\n    </g>\n   </g>\n   <g id=\"matplotlib.axis_2\">\n    <g id=\"ytick_1\">\n     <g id=\"line2d_6\">\n      <defs>\n       <path d=\"M 0 0 \nL -3.5 0 \n\" id=\"m57d9c1eea9\" style=\"stroke:#000000;stroke-width:0.8;\"/>\n      </defs>\n      <g>\n       <use style=\"stroke:#000000;stroke-width:0.8;\" x=\"44.845313\" xlink:href=\"#m57d9c1eea9\" y=\"194.989091\"/>\n      </g>\n     </g>\n     <g id=\"text_6\">\n      <!-- −0.04 -->\n      <g transform=\"translate(7.2 198.78831)scale(0.1 -0.1)\">\n       <use xlink:href=\"#DejaVuSans-8722\"/>\n       <use x=\"83.789062\" xlink:href=\"#DejaVuSans-48\"/>\n       <use x=\"147.412109\" xlink:href=\"#DejaVuSans-46\"/>\n       <use x=\"179.199219\" xlink:href=\"#DejaVuSans-48\"/>\n       <use x=\"242.822266\" xlink:href=\"#DejaVuSans-52\"/>\n      </g>\n     </g>\n    </g>\n    <g id=\"ytick_2\">\n     <g id=\"line2d_7\">\n      <g>\n       <use style=\"stroke:#000000;stroke-width:0.8;\" x=\"44.845313\" xlink:href=\"#m57d9c1eea9\" y=\"155.454545\"/>\n      </g>\n     </g>\n     <g id=\"text_7\">\n      <!-- −0.02 -->\n      <g transform=\"translate(7.2 159.253764)scale(0.1 -0.1)\">\n       <use xlink:href=\"#DejaVuSans-8722\"/>\n       <use x=\"83.789062\" xlink:href=\"#DejaVuSans-48\"/>\n       <use x=\"147.412109\" xlink:href=\"#DejaVuSans-46\"/>\n       <use x=\"179.199219\" xlink:href=\"#DejaVuSans-48\"/>\n       <use x=\"242.822266\" xlink:href=\"#DejaVuSans-50\"/>\n      </g>\n     </g>\n    </g>\n    <g id=\"ytick_3\">\n     <g id=\"line2d_8\">\n      <g>\n       <use style=\"stroke:#000000;stroke-width:0.8;\" x=\"44.845313\" xlink:href=\"#m57d9c1eea9\" y=\"115.92\"/>\n      </g>\n     </g>\n     <g id=\"text_8\">\n      <!-- 0.00 -->\n      <g transform=\"translate(15.579688 119.719219)scale(0.1 -0.1)\">\n       <use xlink:href=\"#DejaVuSans-48\"/>\n       <use x=\"63.623047\" xlink:href=\"#DejaVuSans-46\"/>\n       <use x=\"95.410156\" xlink:href=\"#DejaVuSans-48\"/>\n       <use x=\"159.033203\" xlink:href=\"#DejaVuSans-48\"/>\n      </g>\n     </g>\n    </g>\n    <g id=\"ytick_4\">\n     <g id=\"line2d_9\">\n      <g>\n       <use style=\"stroke:#000000;stroke-width:0.8;\" x=\"44.845313\" xlink:href=\"#m57d9c1eea9\" y=\"76.385455\"/>\n      </g>\n     </g>\n     <g id=\"text_9\">\n      <!-- 0.02 -->\n      <g transform=\"translate(15.579688 80.184673)scale(0.1 -0.1)\">\n       <use xlink:href=\"#DejaVuSans-48\"/>\n       <use x=\"63.623047\" xlink:href=\"#DejaVuSans-46\"/>\n       <use x=\"95.410156\" xlink:href=\"#DejaVuSans-48\"/>\n       <use x=\"159.033203\" xlink:href=\"#DejaVuSans-50\"/>\n      </g>\n     </g>\n    </g>\n    <g id=\"ytick_5\">\n     <g id=\"line2d_10\">\n      <g>\n       <use style=\"stroke:#000000;stroke-width:0.8;\" x=\"44.845313\" xlink:href=\"#m57d9c1eea9\" y=\"36.850909\"/>\n      </g>\n     </g>\n     <g id=\"text_10\">\n      <!-- 0.04 -->\n      <g transform=\"translate(15.579688 40.650128)scale(0.1 -0.1)\">\n       <use xlink:href=\"#DejaVuSans-48\"/>\n       <use x=\"63.623047\" xlink:href=\"#DejaVuSans-46\"/>\n       <use x=\"95.410156\" xlink:href=\"#DejaVuSans-48\"/>\n       <use x=\"159.033203\" xlink:href=\"#DejaVuSans-52\"/>\n      </g>\n     </g>\n    </g>\n   </g>\n   <g id=\"line2d_11\"/>\n   <g id=\"patch_3\">\n    <path d=\"M 44.845313 224.64 \nL 44.845313 7.2 \n\" style=\"fill:none;stroke:#000000;stroke-linecap:square;stroke-linejoin:miter;stroke-width:0.8;\"/>\n   </g>\n   <g id=\"patch_4\">\n    <path d=\"M 379.645313 224.64 \nL 379.645313 7.2 \n\" style=\"fill:none;stroke:#000000;stroke-linecap:square;stroke-linejoin:miter;stroke-width:0.8;\"/>\n   </g>\n   <g id=\"patch_5\">\n    <path d=\"M 44.845313 224.64 \nL 379.645313 224.64 \n\" style=\"fill:none;stroke:#000000;stroke-linecap:square;stroke-linejoin:miter;stroke-width:0.8;\"/>\n   </g>\n   <g id=\"patch_6\">\n    <path d=\"M 44.845313 7.2 \nL 379.645313 7.2 \n\" style=\"fill:none;stroke:#000000;stroke-linecap:square;stroke-linejoin:miter;stroke-width:0.8;\"/>\n   </g>\n  </g>\n </g>\n</svg>\n",
      "image/png": "[encoded data removed]"
     },
     "metadata": {}
    }
   ],
   "source": [
    "fig = plt.figure(dpi=150, facecolor='w')\n",
    "ax = fig.add_subplot(111)\n",
    "ax.plot(np.array(ejecta_energy_r), np.array(ejecta_energy), '.')"
   ]
  }
 ],
 "metadata": {
  "kernelspec": {
   "name": "python3",
   "display_name": "Python 3.7.8 64-bit ('tardis': conda)",
   "metadata": {
    "interpreter": {
     "hash": "d0cc006f0ffdc17243dcd6f93117984bcef1a585288c70359f2680d694440e53"
    }
   }
  },
  "language_info": {
   "codemirror_mode": {
    "name": "ipython",
    "version": 3
   },
   "file_extension": ".py",
   "mimetype": "text/x-python",
   "name": "python",
   "nbconvert_exporter": "python",
   "pygments_lexer": "ipython3",
   "version": "3.7.8-final"
  }
 },
 "nbformat": 4,
 "nbformat_minor": 4
}