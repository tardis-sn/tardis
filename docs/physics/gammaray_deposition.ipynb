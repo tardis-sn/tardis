{
 "cells": [
  {
   "cell_type": "markdown",
   "metadata": {},
   "source": [
    "## Gamma-ray energy deposition"
   ]
  },
  {
   "cell_type": "code",
   "execution_count": 1,
   "metadata": {},
   "outputs": [
    {
     "output_type": "error",
     "ename": "ModuleNotFoundError",
     "evalue": "No module named 'tardis.montecarlo.montecarlo_numba.r_packet'",
     "traceback": [
      "\u001b[0;31m---------------------------------------------------------------------------\u001b[0m",
      "\u001b[0;31mModuleNotFoundError\u001b[0m                       Traceback (most recent call last)",
      "\u001b[0;32m<ipython-input-1-5060643a2ed3>\u001b[0m in \u001b[0;36m<module>\u001b[0;34m\u001b[0m\n\u001b[1;32m      2\u001b[0m \u001b[0;32mimport\u001b[0m \u001b[0mastropy\u001b[0m\u001b[0;34m.\u001b[0m\u001b[0munits\u001b[0m \u001b[0;32mas\u001b[0m \u001b[0mu\u001b[0m\u001b[0;34m\u001b[0m\u001b[0;34m\u001b[0m\u001b[0m\n\u001b[1;32m      3\u001b[0m \u001b[0;34m\u001b[0m\u001b[0m\n\u001b[0;32m----> 4\u001b[0;31m \u001b[0;32mfrom\u001b[0m \u001b[0mtardis\u001b[0m\u001b[0;34m.\u001b[0m\u001b[0menergy_input\u001b[0m\u001b[0;34m.\u001b[0m\u001b[0mbase\u001b[0m \u001b[0;32mimport\u001b[0m \u001b[0mGammaRay\u001b[0m\u001b[0;34m,\u001b[0m \u001b[0mspawn_gamma_ray\u001b[0m\u001b[0;34m\u001b[0m\u001b[0;34m\u001b[0m\u001b[0m\n\u001b[0m\u001b[1;32m      5\u001b[0m \u001b[0;32mfrom\u001b[0m \u001b[0mtardis\u001b[0m\u001b[0;34m.\u001b[0m\u001b[0menergy_input\u001b[0m\u001b[0;34m.\u001b[0m\u001b[0mcalculate_opacity\u001b[0m \u001b[0;32mimport\u001b[0m \u001b[0mcompton_opacity_calculation\u001b[0m\u001b[0;34m,\u001b[0m \u001b[0mphotoabsorption_opacity_calculation\u001b[0m\u001b[0;34m,\u001b[0m \u001b[0mpair_creation_opacity_calculation\u001b[0m\u001b[0;34m,\u001b[0m \u001b[0mkappa_calculation\u001b[0m\u001b[0;34m\u001b[0m\u001b[0;34m\u001b[0m\u001b[0m\n",
      "\u001b[0;32m~/tardis/tardis/energy_input/base.py\u001b[0m in \u001b[0;36m<module>\u001b[0;34m\u001b[0m\n\u001b[1;32m      1\u001b[0m \u001b[0;32mimport\u001b[0m \u001b[0mnumpy\u001b[0m \u001b[0;32mas\u001b[0m \u001b[0mnp\u001b[0m\u001b[0;34m\u001b[0m\u001b[0;34m\u001b[0m\u001b[0m\n\u001b[1;32m      2\u001b[0m \u001b[0;34m\u001b[0m\u001b[0m\n\u001b[0;32m----> 3\u001b[0;31m \u001b[0;32mfrom\u001b[0m \u001b[0mtardis\u001b[0m\u001b[0;34m.\u001b[0m\u001b[0mmontecarlo\u001b[0m\u001b[0;34m.\u001b[0m\u001b[0mmontecarlo_numba\u001b[0m\u001b[0;34m.\u001b[0m\u001b[0mr_packet\u001b[0m \u001b[0;32mimport\u001b[0m \u001b[0mget_random_mu\u001b[0m\u001b[0;34m\u001b[0m\u001b[0;34m\u001b[0m\u001b[0m\n\u001b[0m\u001b[1;32m      4\u001b[0m \u001b[0;32mfrom\u001b[0m \u001b[0mtardis\u001b[0m\u001b[0;34m.\u001b[0m\u001b[0menergy_input\u001b[0m\u001b[0;34m.\u001b[0m\u001b[0mgamma_ray_grid\u001b[0m \u001b[0;32mimport\u001b[0m \u001b[0mdensity_sampler\u001b[0m\u001b[0;34m\u001b[0m\u001b[0;34m\u001b[0m\u001b[0m\n\u001b[1;32m      5\u001b[0m \u001b[0;32mfrom\u001b[0m \u001b[0mtardis\u001b[0m\u001b[0;34m.\u001b[0m\u001b[0menergy_input\u001b[0m\u001b[0;34m.\u001b[0m\u001b[0menergy_source\u001b[0m \u001b[0;32mimport\u001b[0m \u001b[0msample_energy_distribution\u001b[0m\u001b[0;34m\u001b[0m\u001b[0;34m\u001b[0m\u001b[0m\n",
      "\u001b[0;31mModuleNotFoundError\u001b[0m: No module named 'tardis.montecarlo.montecarlo_numba.r_packet'"
     ]
    }
   ],
   "source": [
    "import numpy as np\n",
    "import astropy.units as u\n",
    "\n",
    "from tardis.energy_input.base import GammaRay, spawn_gamma_ray\n",
    "from tardis.energy_input.calculate_opacity import compton_opacity_calculation, photoabsorption_opacity_calculation, pair_creation_opacity_calculation, kappa_calculation"
   ]
  },
  {
   "cell_type": "markdown",
   "metadata": {},
   "source": [
    "Euler-Rodrigues rotation matrix for Compton Scattering rotation"
   ]
  },
  {
   "source": [
    "def euler_rodrigues(theta, direction):\n",
    "    a = np.cos(theta / 2)\n",
    "    b = direction.x * np.sin(theta / 2)\n",
    "    c = direction.y * np.sin(theta / 2)\n",
    "    d = direction.z * np.sin(theta / 2)\n",
    "    \n",
    "    er11 = a ** 2. + b ** 2. - c ** 2. - d ** 2.\n",
    "    er12 = 2. * (b * c - a * d)\n",
    "    er13 = 2. * (b * d + a * d)\n",
    "    \n",
    "    er21 = 2. * (b * c + a * d)\n",
    "    er22 = a ** 2. + c ** 2. - b ** 2. - d ** 2.\n",
    "    er23 = 2. * (c * d - a * b)\n",
    "    \n",
    "    er31 = 2. * (b * d - a * c)\n",
    "    er32 = 2. * (c * d + a * b)\n",
    "    er33 = a ** 2. + d ** 2. - b ** 2. - c ** 2.\n",
    "    \n",
    "    return np.array([[er11, er12, er13],\n",
    "                     [er21, er22, er23],\n",
    "                     [er31, er32, er33]])"
   ],
   "cell_type": "markdown",
   "metadata": {}
  },
  {
   "cell_type": "markdown",
   "metadata": {},
   "source": [
    "Quadratic solver to measure the distance to the nearest shell boundary"
   ]
  },
  {
   "source": [
    "def quadratic(b, c):\n",
    "    delta = b ** 2 - 4.0 * c\n",
    "    if delta > 0:\n",
    "        delta = np.sqrt(delta)\n",
    "        delta = delta * np.sign(b)\n",
    "        q = -0.5 * (b + delta)\n",
    "        x1 = q\n",
    "        x2 = c / q\n",
    "    elif delta < 0:\n",
    "        x1 = -np.inf\n",
    "        x2 = -np.inf\n",
    "    else:\n",
    "        x1 = -2.0 * c / b\n",
    "        x2 = -np.inf\n",
    "    return x1, x2"
   ],
   "cell_type": "markdown",
   "metadata": {}
  },
  {
   "cell_type": "markdown",
   "metadata": {},
   "source": [
    "Gamma rays are spawned from a defined volume given by a density profile f(r).\n",
    "\n",
    "They are propagated through ejecta until interaction with an electron.\n",
    "\n",
    "Their energy loss due to interactions is deposited into the ejecta."
   ]
  },
  {
   "cell_type": "markdown",
   "metadata": {},
   "source": [
    "Be et al 2006 energy levels should be sampled. For now, the code simply has a random energy from 0 to 100,000 eV"
   ]
  },
  {
   "source": [
    "#Constant to begin with\n",
    "def sample_energy_distribution():\n",
    "    return np.random.random() * 100.0e3"
   ],
   "cell_type": "markdown",
   "metadata": {}
  },
  {
   "cell_type": "markdown",
   "metadata": {},
   "source": [
    "Basic spherical coordinate vector with properties to convert to Cartesian coordinates"
   ]
  },
  {
   "source": [
    "#Probably need an ejecta class to contain the ejecta model\n",
    "\n",
    "class SphericalVector(object):\n",
    "    \"\"\"\n",
    "    Direction object to hold spherical polar and Cartesian directions\n",
    "    \"\"\"\n",
    "    def __init__(self, r, mu, phi=0.):\n",
    "        self.r = r\n",
    "        self.mu = mu\n",
    "        self.phi = phi\n",
    "        \n",
    "    @property\n",
    "    def theta(self):\n",
    "        return np.arccos(self.mu)\n",
    "        \n",
    "    @property\n",
    "    def x(self):\n",
    "        return self.r * np.sin(np.arccos(self.mu)) * np.cos(self.phi)\n",
    "    \n",
    "    @property\n",
    "    def y(self):\n",
    "        return self.r * np.sin(np.arccos(self.mu)) * np.sin(self.phi)\n",
    "    \n",
    "    @property\n",
    "    def z(self):\n",
    "        return self.r * self.mu"
   ],
   "cell_type": "markdown",
   "metadata": {}
  },
  {
   "cell_type": "markdown",
   "metadata": {},
   "source": [
    "Gamma rays have a location, direction, energy, status and shell."
   ]
  },
  {
   "source": [
    "class GammaRay(object):\n",
    "    \"\"\"\n",
    "    Gamma ray object with location, direction and energy\n",
    "    \"\"\"\n",
    "    def __init__(self, location, direction, energy, status, shell):\n",
    "        self.location = location\n",
    "        self.direction = direction\n",
    "        self.energy = energy\n",
    "        self.status = status\n",
    "        self.shell = shell"
   ],
   "cell_type": "markdown",
   "metadata": {}
  },
  {
   "cell_type": "markdown",
   "metadata": {},
   "source": [
    "Need to sample density from a distribution. In this case, a simple exponential."
   ]
  },
  {
   "cell_type": "code",
   "execution_count": 9,
   "metadata": {},
   "outputs": [],
   "source": [
    "#Need to use homologous expansion to get real radii\n",
    "def density_profile(t, rho_0, t_0, r, max_r):\n",
    "    return rho_0 * (t / t_0) ** -3. * np.exp(-r / max_r)"
   ]
  },
  {
   "cell_type": "markdown",
   "metadata": {},
   "source": [
    "Calculate the total ejecta mass from the center to radius r' through numerical integration of the density profile in spherical coordinates.  To do this, we sum over very small spherical shells i of constant density $\\rho_i$ from the center of the ejecta to the desired radius $r_i$.\n",
    "\n",
    "$M_i = 4/3 \\pi \\rho_i (r_i^3 - r_{i-1}^3)$\n",
    "\n",
    "Normalized to the maximum mass."
   ]
  },
  {
   "cell_type": "markdown",
   "metadata": {},
   "source": [
    "To  get  the  decay  position  spherical coordinates have to be sampled as well"
   ]
  },
  {
   "cell_type": "code",
   "execution_count": 10,
   "metadata": {},
   "outputs": [],
   "source": [
    "def mass_distribution(radial_grid_size, inner_radius, outer_radius, t, rho_0, t_0):\n",
    "    \n",
    "    size = outer_radius - inner_radius\n",
    "    dr = size / radial_grid_size\n",
    "    \n",
    "    r = inner_radius\n",
    "    \n",
    "    mass = np.zeros(radial_grid_size)\n",
    "    radii = np.zeros(radial_grid_size)\n",
    "    density = np.zeros(radial_grid_size)\n",
    "    \n",
    "    i = 0\n",
    "    while i < radial_grid_size:\n",
    "        radii[i] = r\n",
    "        density[i] = density_profile(t, rho_0, t_0, radii[i], outer_radius)\n",
    "        if i == 0:\n",
    "            mass[i] = 4. / 3. * np.pi * density_profile(t, rho_0, t_0, radii[i], outer_radius) * radii[i] ** 3.   \n",
    "        else:\n",
    "            mass[i] = 4. / 3. * np.pi * density_profile(t, rho_0, t_0, radii[i], outer_radius) * \\\n",
    "            (radii[i] ** 3. - radii[i - 1] ** 3.)  \n",
    "\n",
    "        i += 1\n",
    "        r += dr\n",
    "        \n",
    "    mass[radial_grid_size - 1] = (4. / 3. * np.pi * density_profile(t, rho_0, t_0, radii[radial_grid_size - 1], outer_radius) * \\\n",
    "                              (radii[radial_grid_size - 1] ** 3. - radii[radial_grid_size - 2] ** 3.))\n",
    "    \n",
    "    return radii, mass / np.max(mass), density"
   ]
  },
  {
   "cell_type": "markdown",
   "metadata": {},
   "source": [
    "Pick a random number z. The chosen radius r is now the radius r′ at which the cumulative distribution has the mass\n",
    "$M/M_{tot} = z$"
   ]
  },
  {
   "source": [
    "def density_sampler(radii, mass_ratio):   \n",
    "    z = np.random.random()   \n",
    "    index = np.searchsorted(mass_ratio, z)\n",
    "    return radii[index], index"
   ],
   "cell_type": "markdown",
   "metadata": {}
  },
  {
   "cell_type": "markdown",
   "metadata": {},
   "source": [
    "Basic random direction samplers. Currently working in 2D so $\\phi = 0$"
   ]
  },
  {
   "source": [
    "#Both should be fine\n",
    "def phi_sampler():\n",
    "    #return np.arccos(1. - 2. *  np.random.random())\n",
    "    return 0.\n",
    "\n",
    "def theta_sampler():\n",
    "    return 2. * np.pi * np.random.random()\n",
    "\n",
    "def mu_sampler():\n",
    "    return 2.0 * np.random.random() - 1.0"
   ],
   "cell_type": "markdown",
   "metadata": {}
  },
  {
   "cell_type": "markdown",
   "metadata": {},
   "source": [
    "Spawns gamma-rays with a randomly sampled direction, energy, and location.\n",
    "\n",
    "Note for positrons, spawn a second photon in the opposite direction. Both have 511 KeV."
   ]
  },
  {
   "source": [
    "#Very incomplete\n",
    "def spawn_gamma_ray(gamma_ray, radii, mass_ratio, positron=False):  \n",
    "    direction_mu = mu_sampler()\n",
    "    direction_phi = phi_sampler()\n",
    "    \n",
    "    if positron:\n",
    "        gamma_ray.energy = 511.0e3\n",
    "    else:\n",
    "        gamma_ray.energy = sample_energy_distribution()\n",
    "        \n",
    "    initial_radius, shell = density_sampler(radii, mass_ratio)\n",
    "    \n",
    "    if shell < len(radii) - 1:\n",
    "        initial_radius += np.random.random() * (radii[shell + 1] - radii[shell])\n",
    "        \n",
    "    \n",
    "    gamma_ray.shell = shell\n",
    "        \n",
    "    gamma_ray.direction = SphericalVector(1., direction_mu, direction_phi)\n",
    "    \n",
    "    location_mu = mu_sampler()\n",
    "    location_phi = phi_sampler()\n",
    "    gamma_ray.location = SphericalVector(initial_radius, location_mu, location_phi)\n",
    "        \n",
    "    return gamma_ray"
   ],
   "cell_type": "markdown",
   "metadata": {}
  },
  {
   "cell_type": "markdown",
   "metadata": {},
   "source": [
    "1D distance to boundary from TARDIS"
   ]
  },
  {
   "source": [
    "def calculate_distance_boundary(r, mu, r_inner, r_outer):\n",
    "    delta_shell = 0\n",
    "    if (mu > 0.0):\n",
    "        print(\"direction outward\")\n",
    "        distance = np.sqrt(r_outer**2 + ((mu**2 - 1.0) * r**2)) - (r * mu)\n",
    "        delta_shell = 1\n",
    "    else:\n",
    "        print(\"going inward\")\n",
    "        check = r_inner**2 + (r**2 * (mu**2 - 1.0))\n",
    "\n",
    "        if (check >= 0.0):\n",
    "            print(\"hit inner boundary \")\n",
    "            distance = -r * mu - np.sqrt(check)\n",
    "            delta_shell = -1\n",
    "        else:\n",
    "            print(\"miss inner boundary\")\n",
    "            distance = np.sqrt(r_outer**2 + ((mu**2 - 1.0) * r**2)) - (r * mu)\n",
    "            delta_shell = 1\n",
    "    \n",
    "    return distance, delta_shell"
   ],
   "cell_type": "markdown",
   "metadata": {}
  },
  {
   "cell_type": "markdown",
   "metadata": {},
   "source": [
    "Corrected distance to the boundary including the 3D direction vectors."
   ]
  },
  {
   "source": [
    "def calculate_distance_radial(gamma_ray, r_inner, r_outer):\n",
    "    \n",
    "    direction_square = gamma_ray.direction.x ** 2. + gamma_ray.direction.y ** 2. + gamma_ray.direction.z ** 2.\n",
    "    position_square = gamma_ray.location.x ** 2. + gamma_ray.location.y ** 2. + gamma_ray.location.z ** 2.\n",
    "    position_direction = gamma_ray.direction.x * gamma_ray.location.x + \\\n",
    "                        gamma_ray.direction.y * gamma_ray.location.y + \\\n",
    "                        gamma_ray.direction.z * gamma_ray.location.z\n",
    "    \n",
    "    on_inner_wall = False\n",
    "    on_outer_wall = False\n",
    "    \n",
    "    distances = []\n",
    "    \n",
    "    if np.abs(gamma_ray.location.r - r_inner) < 5:\n",
    "        on_inner_wall = True\n",
    "        \n",
    "    if np.abs(gamma_ray.location.r - r_outer) < 5:\n",
    "        on_outer_wall = True\n",
    "\n",
    "    quadratic_b = 2. * position_direction\n",
    "    quadratic_c = position_square\n",
    "    \n",
    "    quad_c_inner = quadratic_c - r_inner ** 2\n",
    "    distance_1, distance_2 = quadratic(quadratic_b, quad_c_inner)\n",
    "    \n",
    "    if on_inner_wall:\n",
    "        if np.abs(distance_1) < np.abs(distance_2):\n",
    "            distances.append(distance_2)\n",
    "        else:\n",
    "            distances.append(distance_1)\n",
    "    else:\n",
    "        distances.append(distance_1)\n",
    "        distances.append(distance_2)\n",
    "    \n",
    "    quad_c_outer = quadratic_c - r_outer ** 2\n",
    "    distance_3, distance_4 = quadratic(quadratic_b, quad_c_outer)\n",
    "    \n",
    "    if on_outer_wall:\n",
    "        if np.abs(distance_3) < np.abs(distance_4):\n",
    "            distances.append(distance_4)\n",
    "        else:\n",
    "            distances.append(distance_3)\n",
    "    else:\n",
    "        distances.append(distance_3)\n",
    "        distances.append(distance_4)\n",
    "        \n",
    "    distances = [item for item in distances if item >= 0]\n",
    "    if len(distances) > 0:\n",
    "        distance = min(distances, key=abs)\n",
    "    else:\n",
    "        distance = 0.0\n",
    "\n",
    "    return distance"
   ],
   "cell_type": "markdown",
   "metadata": {}
  },
  {
   "cell_type": "markdown",
   "metadata": {},
   "source": [
    "Measure the distance to the next interaction, and determine if it's less than the distance to the next shell boundary.\n",
    "\n",
    "If so, we've hit an electron!"
   ]
  },
  {
   "source": [
    "def distance_trace(gamma_ray, radii, total_opacity, distance_moved):\n",
    "    \n",
    "    if packet.shell < len(radii) - 1:\n",
    "        distance_boundary = calculate_distance_radial(gamma_ray, radii[packet.shell], radii[packet.shell + 1])\n",
    "    else:\n",
    "        distance_boundary = 0.0\n",
    "    \n",
    "    z = np.random.random()\n",
    "    tau = -np.log(z)\n",
    "    \n",
    "    distance_interaction = tau / total_opacity - distance_moved\n",
    "    \n",
    "    if distance_interaction < distance_boundary:\n",
    "        return distance_interaction, distance_boundary, True\n",
    "    else:\n",
    "        return distance_interaction, distance_boundary, False"
   ],
   "cell_type": "markdown",
   "metadata": {}
  },
  {
   "cell_type": "markdown",
   "metadata": {},
   "source": [
    "Randomly choose an interaction type, weighted by their opacity."
   ]
  },
  {
   "source": [
    "#Event handler, basically\n",
    "def scatter_type(gamma_ray, compton_opacity, photoabsorption_opacity, total_opacity):\n",
    "    \n",
    "    z = np.random.random()\n",
    "    \n",
    "    ejecta_energy_gain = 0.0\n",
    "    pair_created = False\n",
    "    \n",
    "    if z <= compton_opacity / total_opacity:\n",
    "        ejecta_energy_gain = compton_scatter(gamma_ray)\n",
    "    elif z <= (compton_opacity + photoabsorption_opacity) / total_opacity:\n",
    "        ejecta_energy_gain = photoabsorption(gamma_ray)\n",
    "    else:\n",
    "        pair_creation(gamma_ray)\n",
    "        pair_created = True\n",
    "        \n",
    "    return ejecta_energy_gain, pair_created"
   ],
   "cell_type": "markdown",
   "metadata": {}
  },
  {
   "cell_type": "markdown",
   "metadata": {},
   "source": [
    "### Compton scattering and opacity calculations\n",
    "\n",
    "Energy $E_s = E / (1 + \\kappa (1 - \\cos\\theta_C))$\n",
    "\n",
    "Integrate eq 4.15 Andreas MSc thesis to get $\\theta_C$\n",
    "\n",
    "Sample $\\phi_C$ from 0 to $2\\pi$ using phi_sampler\n",
    "\n",
    "Opacity $\\chi_C = n_e^{tot} \\sigma_{KN}$"
   ]
  },
  {
   "source": [
    "def kappa_calculation(energy):\n",
    "    k = energy / 511.0e3\n",
    "    return k"
   ],
   "cell_type": "markdown",
   "metadata": {}
  },
  {
   "source": [
    "def klein_nishina(energy, theta_C):\n",
    "    r_e = 2.8179403227e-15\n",
    "    kappa = kappa_calculation(energy) \n",
    "    return r_e / 2 * \\\n",
    "            (1. + kappa * (1. - np.cos(theta_C))) ** -2. * \\\n",
    "            (1. + np.cos(theta_C) ** 2. + \\\n",
    "            (kappa ** 2. * (1. - np.cos(theta_C)) ** 2.) / (1. + kappa * (1. - np.cos(theta_C))))\n",
    "\n",
    "def compton_scatter(gamma_ray):\n",
    "    #print(\"== Compton scatter ==\")   \n",
    "    sample_resolution = 100\n",
    "    dtheta = np.pi / sample_resolution\n",
    "    \n",
    "    theta_distribution = np.zeros(sample_resolution)\n",
    "    theta_angles = np.ones(sample_resolution) * np.pi\n",
    "    \n",
    "    theta = 0.\n",
    "    for i in range(sample_resolution - 1):\n",
    "        theta_distribution[i + 1] = \\\n",
    "                theta_distribution[i] + klein_nishina(gamma_ray.energy, theta)\n",
    "        theta_angles[i] = theta\n",
    "        theta += dtheta\n",
    "    \n",
    "    theta_distribution /= np.max(theta_distribution)\n",
    "    \n",
    "    z = np.random.random()\n",
    "    \n",
    "    #sample new random theta direction\n",
    "    random_vector = SphericalVector(1., mu_sampler(), phi_sampler())\n",
    "    \n",
    "    perpendicular_vector_x = gamma_ray.direction.y * random_vector.z - gamma_ray.direction.z * random_vector.y\n",
    "    perpendicular_vector_y = gamma_ray.direction.z * random_vector.x - gamma_ray.direction.x * random_vector.z\n",
    "    perpendicular_vector_z = gamma_ray.direction.x * random_vector.y - gamma_ray.direction.y * random_vector.x\n",
    "    \n",
    "    perpendicular_vector = np.array([perpendicular_vector_x, perpendicular_vector_y, perpendicular_vector_z])\n",
    "    \n",
    "    #get Compton scattering angle\n",
    "    compton_angle = theta_angles[np.searchsorted(theta_distribution, z)]\n",
    "    \n",
    "    #rotate to match\n",
    "    rotation_matrix = euler_rodrigues(compton_angle, gamma_ray.direction)\n",
    "    \n",
    "    #rotate to match\n",
    "    resulting_direction = np.dot(rotation_matrix, perpendicular_vector)\n",
    "    \n",
    "    gamma_ray.direction.mu = resulting_direction[2]\n",
    "    \n",
    "    #generate new random phi direction\n",
    "    gamma_ray.direction.phi = phi_sampler()\n",
    "    \n",
    "    #Energy calculations\n",
    "    new_energy = gamma_ray.energy / (1. + kappa_calculation(gamma_ray.energy) * (1. - gamma_ray.direction.mu))  \n",
    "    lost_energy = gamma_ray.energy - new_energy   \n",
    "    gamma_ray.energy = new_energy\n",
    "    \n",
    "    return lost_energy\n",
    "    "
   ],
   "cell_type": "markdown",
   "metadata": {}
  },
  {
   "source": [
    "def compton_opacity_calculation(electron_number_density, energy):\n",
    "    \n",
    "    kappa = kappa_calculation(energy)\n",
    "    \n",
    "    sigma_T = 6.65e-25\n",
    "\n",
    "    a = (1. + 2. * kappa)\n",
    "    \n",
    "    sigma_KN = 3. / 4. * sigma_T * \\\n",
    "            ((1. + kappa) / kappa ** 3. * ((2. * kappa * (1. + kappa)) / a - np.log(a)) + \\\n",
    "             1. / (2. * kappa) * np.log(a) - (1. + 3 * kappa) / a ** 2.)\n",
    "    \n",
    "    return electron_number_density * sigma_KN"
   ],
   "cell_type": "markdown",
   "metadata": {}
  },
  {
   "cell_type": "markdown",
   "metadata": {},
   "source": [
    "### Photoabsorption opacity\n",
    "\n",
    "Gamma-ray energy transferred to electron\n",
    "\n",
    "Opacity eq 4.22"
   ]
  },
  {
   "source": [
    "m_Si = 28.085 * u.M_p\n",
    "m_Fe = 55.845 * u.M_p\n",
    "\n",
    "#Need to keep track of energy in the ejecta\n",
    "def photoabsorption(gamma_ray):\n",
    "    #print(\"== Photoabsorption ==\")\n",
    "    \n",
    "    gamma_ray.status = 'Absorbed'\n",
    "    return gamma_ray.energy\n",
    "\n",
    "    "
   ],
   "cell_type": "markdown",
   "metadata": {}
  },
  {
   "source": [
    "def photoabsorption_opacity_calculation(energy, ejecta_density, iron_group_fraction):\n",
    "    \n",
    "    Si_opacity = 1.16e-24 * (energy / 100.0e3) ** -3.13 * ejecta_density / m_Si.value * (1. - iron_group_fraction)\n",
    "    \n",
    "    Fe_opacity = 25.7e-24 * (energy / 100.0e3) ** -3.0 * ejecta_density / m_Fe.value * (1. - iron_group_fraction)\n",
    "    \n",
    "    return Si_opacity + Fe_opacity"
   ],
   "cell_type": "markdown",
   "metadata": {}
  },
  {
   "cell_type": "markdown",
   "metadata": {},
   "source": [
    "### Pair creation opacity and scattering\n",
    "\n",
    "Incoming photon destroyed, 2 x 511 KeV photons created, remaining energy deposited"
   ]
  },
  {
   "source": [
    "def pair_creation(gamma_ray):\n",
    "    print(\"== Pair creation ==\")\n",
    "    direction_mu = mu_sampler()\n",
    "    direction_phi = phi_sampler()\n",
    "    \n",
    "    gamma_ray.energy = 511.0e3\n",
    "    gamma_ray.direction = SphericalVector(1.0, direction_mu, direction_phi)\n",
    "    "
   ],
   "cell_type": "markdown",
   "metadata": {}
  },
  {
   "source": [
    "def pair_creation_opacity_calculation(energy, ejecta_density, iron_group_fraction):\n",
    "    \n",
    "    Z_Si = 14\n",
    "    Z_Fe = 26\n",
    "\n",
    "    Si_proton_ratio = Z_Si ** 2. / m_Si.value\n",
    "    Fe_proton_ratio = Z_Fe ** 2. / m_Fe.value\n",
    "    \n",
    "    multiplier = ejecta_density * (Si_proton_ratio * (1. - iron_group_fraction) + Fe_proton_ratio * iron_group_fraction)\n",
    "    \n",
    "    if energy > 1.022e6 and energy < 1.5e6:\n",
    "        opacity = multiplier * 1.0063 * (energy / 100.0e6 - 1.022) * 1.0e-27\n",
    "    else:\n",
    "        opacity = multiplier * (0.0481 + 0.301 * (energy / 100.0e6 - 1.5)) * 1.0e-27\n",
    "        \n",
    "    if opacity < 0.:\n",
    "        opacity = 0.\n",
    "        \n",
    "    return opacity"
   ],
   "cell_type": "markdown",
   "metadata": {}
  },
  {
   "cell_type": "markdown",
   "metadata": {},
   "source": [
    "Moves the gamma-ray in the direction of its travel by a distance"
   ]
  },
  {
   "source": [
    "def move_gamma_ray(gamma_ray, distance):\n",
    "    #print(\"move_gamma_ray\")\n",
    "    r = gamma_ray.location.r\n",
    "    \n",
    "    #print(\"new r:\", np.sqrt(r ** 2. + distance ** 2. +\n",
    "    #                     2.0 * r * distance * gamma_ray.location.mu) / outer_rad)\n",
    "    \n",
    "    x_old = gamma_ray.location.x\n",
    "    y_old = gamma_ray.location.y\n",
    "    z_old = gamma_ray.location.z\n",
    "    \n",
    "    x_new = x_old + distance * gamma_ray.direction.x\n",
    "    y_new = y_old + distance * gamma_ray.direction.y\n",
    "    z_new = z_old + distance * gamma_ray.direction.z\n",
    "    \n",
    "    gamma_ray.location.r = np.sqrt(x_new ** 2. + y_new ** 2. + z_new ** 2.)\n",
    "    gamma_ray.location.mu = z_new / gamma_ray.location.r\n",
    "    \n",
    "    return gamma_ray\n",
    "    "
   ],
   "cell_type": "markdown",
   "metadata": {}
  },
  {
   "cell_type": "markdown",
   "metadata": {},
   "source": [
    "### Main loop\n",
    "\n",
    "Generates a simple 1D ejecta and a list of gamma-ray objects.\n",
    "\n",
    "Runs packets of gamma-rays through the ejecta. Handles interactions by calling the appropriate function. \n",
    "\n",
    "Appends deposited energy and output energy to 2 different lists. Currently no binning."
   ]
  },
  {
   "cell_type": "code",
   "execution_count": 11,
   "metadata": {
    "scrolled": false
   },
   "outputs": [
    {
     "output_type": "error",
     "ename": "NameError",
     "evalue": "name 'mu_sampler' is not defined",
     "traceback": [
      "\u001b[0;31m---------------------------------------------------------------------------\u001b[0m",
      "\u001b[0;31mNameError\u001b[0m                                 Traceback (most recent call last)",
      "\u001b[0;32m<ipython-input-11-376347314c60>\u001b[0m in \u001b[0;36m<module>\u001b[0;34m\u001b[0m\n\u001b[1;32m     27\u001b[0m \u001b[0;34m\u001b[0m\u001b[0m\n\u001b[1;32m     28\u001b[0m     \u001b[0mray\u001b[0m \u001b[0;34m=\u001b[0m \u001b[0mGammaRay\u001b[0m\u001b[0;34m(\u001b[0m\u001b[0;36m0\u001b[0m\u001b[0;34m,\u001b[0m \u001b[0;36m0\u001b[0m\u001b[0;34m,\u001b[0m \u001b[0;36m1\u001b[0m\u001b[0;34m,\u001b[0m \u001b[0;34m'InProcess'\u001b[0m\u001b[0;34m,\u001b[0m \u001b[0;36m0\u001b[0m\u001b[0;34m)\u001b[0m\u001b[0;34m\u001b[0m\u001b[0;34m\u001b[0m\u001b[0m\n\u001b[0;32m---> 29\u001b[0;31m     \u001b[0mpackets\u001b[0m\u001b[0;34m.\u001b[0m\u001b[0mappend\u001b[0m\u001b[0;34m(\u001b[0m\u001b[0mspawn_gamma_ray\u001b[0m\u001b[0;34m(\u001b[0m\u001b[0mray\u001b[0m\u001b[0;34m,\u001b[0m \u001b[0mradii\u001b[0m\u001b[0;34m,\u001b[0m \u001b[0mmasses\u001b[0m\u001b[0;34m)\u001b[0m\u001b[0;34m)\u001b[0m\u001b[0;34m\u001b[0m\u001b[0;34m\u001b[0m\u001b[0m\n\u001b[0m\u001b[1;32m     30\u001b[0m \u001b[0;34m\u001b[0m\u001b[0m\n\u001b[1;32m     31\u001b[0m \u001b[0mplt\u001b[0m\u001b[0;34m.\u001b[0m\u001b[0mfigure\u001b[0m\u001b[0;34m(\u001b[0m\u001b[0;34m)\u001b[0m\u001b[0;34m\u001b[0m\u001b[0;34m\u001b[0m\u001b[0m\n",
      "\u001b[0;32m~/tardis/tardis/energy_input/base.py\u001b[0m in \u001b[0;36mspawn_gamma_ray\u001b[0;34m(gamma_ray, radii, mass_ratio, positron)\u001b[0m\n\u001b[1;32m     38\u001b[0m         \u001b[0mself\u001b[0m\u001b[0;34m.\u001b[0m\u001b[0menergy\u001b[0m \u001b[0;34m=\u001b[0m \u001b[0menergy\u001b[0m\u001b[0;34m\u001b[0m\u001b[0;34m\u001b[0m\u001b[0m\n\u001b[1;32m     39\u001b[0m         \u001b[0mself\u001b[0m\u001b[0;34m.\u001b[0m\u001b[0mstatus\u001b[0m \u001b[0;34m=\u001b[0m \u001b[0mstatus\u001b[0m\u001b[0;34m\u001b[0m\u001b[0;34m\u001b[0m\u001b[0m\n\u001b[0;32m---> 40\u001b[0;31m         \u001b[0mself\u001b[0m\u001b[0;34m.\u001b[0m\u001b[0mshell\u001b[0m \u001b[0;34m=\u001b[0m \u001b[0mshell\u001b[0m\u001b[0;34m\u001b[0m\u001b[0;34m\u001b[0m\u001b[0m\n\u001b[0m\u001b[1;32m     41\u001b[0m \u001b[0;34m\u001b[0m\u001b[0m\n\u001b[1;32m     42\u001b[0m \u001b[0;32mdef\u001b[0m \u001b[0mspawn_gamma_ray\u001b[0m\u001b[0;34m(\u001b[0m\u001b[0mgamma_ray\u001b[0m\u001b[0;34m,\u001b[0m \u001b[0mradii\u001b[0m\u001b[0;34m,\u001b[0m \u001b[0mmass_ratio\u001b[0m\u001b[0;34m,\u001b[0m \u001b[0mpositron\u001b[0m\u001b[0;34m=\u001b[0m\u001b[0;32mFalse\u001b[0m\u001b[0;34m)\u001b[0m\u001b[0;34m:\u001b[0m\u001b[0;34m\u001b[0m\u001b[0;34m\u001b[0m\u001b[0m\n",
      "\u001b[0;31mNameError\u001b[0m: name 'mu_sampler' is not defined"
     ]
    }
   ],
   "source": [
    "import matplotlib.pyplot as plt\n",
    "\n",
    "num_packets = 1e5\n",
    "num_packets = int(num_packets)\n",
    "\n",
    "np.random.seed(1)\n",
    "\n",
    "output_energies = []\n",
    "ejecta_energy = []\n",
    "ejecta_energy_x = []\n",
    "ejecta_energy_z = []\n",
    "\n",
    "velocity = 2.7e8\n",
    "time = 20 * 86400\n",
    "rho0 = 1e8\n",
    "\n",
    "inner_rad = 0.\n",
    "outer_rad = velocity * time\n",
    "\n",
    "radii, masses, ejecta_density = mass_distribution(10, inner_rad, outer_rad, time, rho0, 1. * 86400)\n",
    "\n",
    "iron_group_fraction = 0.5\n",
    "\n",
    "packets = []\n",
    "\n",
    "for i in range(num_packets):\n",
    "    \n",
    "    ray = GammaRay(0, 0, 1, 'InProcess', 0)\n",
    "    packets.append(spawn_gamma_ray(ray, radii, masses))\n",
    "\n",
    "plt.figure()\n",
    "plt.plot(radii/outer_rad, masses)\n",
    "plt.xlabel(\"R/Rmax\")\n",
    "plt.ylabel(\"Mass/Mass_max\")\n",
    "\n",
    "plt.figure()\n",
    "plt.plot(radii/outer_rad, ejecta_density)\n",
    "plt.xlabel(\"R/Rmax\")\n",
    "plt.ylabel(\"ejecta_density\")\n",
    "plt.semilogy()\n",
    "\n",
    "i=0\n",
    "for packet in packets:\n",
    "    \n",
    "    if i % 1000 == 0:\n",
    "        print(i)\n",
    "    \n",
    "    #plt.figure()\n",
    "    #plt.scatter(0, 0, marker=\"+\")\n",
    "    #plt.scatter(packet.location.x / outer_rad, packet.location.z / outer_rad, marker='*')\n",
    "    distance_moved = 0.\n",
    "    \n",
    "    x=[]\n",
    "    y=[]\n",
    "    r=[]\n",
    "    energies=[]\n",
    "    \n",
    "    j=0\n",
    "    while j < 100:\n",
    "        #print(\"r:\", packet.location.r / outer_rad)\n",
    "        #print(\"x:\", packet.location.x / outer_rad)\n",
    "        #print(\"z:\", packet.location.z / outer_rad)\n",
    "        #print(\"d_x:\", packet.direction.x)\n",
    "        #print(\"d_z:\", packet.direction.z)\n",
    "        #print(\"energy:\", packet.energy)\n",
    "        #print(\"shell:\", packet.shell)\n",
    "        #print(\"status:\", packet.status)\n",
    "        \n",
    "        x.append(packet.location.x / outer_rad)\n",
    "        y.append(packet.location.z / outer_rad)\n",
    "        r.append(packet.location.r / outer_rad)\n",
    "        energies.append(packet.energy)\n",
    "\n",
    "        compton_opacity = compton_opacity_calculation(ejecta_density[packet.shell], packet.energy)\n",
    "        photoabsorption_opacity = photoabsorption_opacity_calculation(packet.energy, ejecta_density[packet.shell], iron_group_fraction)\n",
    "        pair_creation_opacity = pair_creation_opacity_calculation(packet.energy, ejecta_density[packet.shell], iron_group_fraction)\n",
    "        total_opacity = compton_opacity + photoabsorption_opacity + pair_creation_opacity\n",
    "        \n",
    "        distance_interaction, distance_boundary, interaction = \\\n",
    "                                        distance_trace(packet, radii, total_opacity, distance_moved)\n",
    "        \n",
    "        if interaction:\n",
    "            ejecta_energy_gained, pair_created = scatter_type(packet, compton_opacity, photoabsorption_opacity, total_opacity)\n",
    "             #Add antiparallel packet on pair creation at end of list\n",
    "            if pair_created:\n",
    "                backward_ray = packet\n",
    "                backward_ray.direction.phi += np.pi\n",
    "                packets.append(backward_ray)\n",
    "\n",
    "            if ejecta_energy_gained > 0.0:\n",
    "                ejecta_energy.append(ejecta_energy_gained)\n",
    "                \n",
    "            packet = move_gamma_ray(packet, distance_interaction)\n",
    "            distance_moved = 0.\n",
    "            \n",
    "            #print(\"Moving a distance:\", distance_interaction / outer_rad)\n",
    "               \n",
    "        else:\n",
    "            #print(\"Moving a distance:\", distance_boundary / outer_rad)\n",
    "            #print(\"Current shell radius is:\", radii[packet.shell] / outer_rad)\n",
    "            rad_before = packet.location.r\n",
    "            packet = move_gamma_ray(packet, distance_boundary)\n",
    "            rad_after = packet.location.r\n",
    "            distance_moved = distance_boundary\n",
    "            #print(\"Crossed shell edge\")\n",
    "            if rad_after > rad_before:\n",
    "                packet.shell += 1\n",
    "            else:\n",
    "                packet.shell -= 1\n",
    "              \n",
    "        #print(\"r:\", packet.location.r / outer_rad)\n",
    "        #print(\"mu:\", packet.location.mu)\n",
    "        #print(\"x:\", packet.location.x / outer_rad)\n",
    "        #print(\"z:\", packet.location.z / outer_rad)\n",
    "        #print(\"energy:\", packet.energy)\n",
    "        #print(\"shell:\", packet.shell)\n",
    "        #print(\"status:\", packet.status)\n",
    "        \n",
    "        if packet.location.r > outer_rad or packet.shell >= len(radii) - 1:\n",
    "            packet.status = 'Emitted'\n",
    "            output_energies.append(packet.energy)\n",
    "            break\n",
    "        elif packet.location.r < inner_rad or packet.shell == 0:\n",
    "            packet.status = 'Absorbed'\n",
    "            packet.energy = 0.0\n",
    "            break \n",
    "        \n",
    "        if packet.status == 'Absorbed':\n",
    "            #log where energy is deposited\n",
    "            ejecta_energy.append(packet.energy)\n",
    "            ejecta_energy_x.append(packet.location.x)\n",
    "            ejecta_energy_z.append(packet.location.z)\n",
    "            break\n",
    "            \n",
    "        j += 1\n",
    "    output_energies.append(packet.energy)      \n",
    "    \n",
    "    #print(\"r:\", packet.location.r / outer_rad)\n",
    "    #print(\"mu:\", packet.location.mu)\n",
    "    #print(\"d_mu:\", packet.direction.mu)\n",
    "    #print(\"energy:\", packet.energy)\n",
    "    #print(\"shell:\", packet.shell)\n",
    "    #print(\"status:\", packet.status)\n",
    "    i+=1\n",
    "    \n",
    "    #plt.plot(x, y, \".-\")\n",
    "    #plt.figure()\n",
    "    #plt.plot(r, energies, \".-\")\n",
    "    #plt.scatter(packet.location.x / outer_rad, packet.location.z / outer_rad, marker='s')\n",
    "    \n",
    "fig = plt.figure(dpi=150, facecolor='w')\n",
    "ax = fig.add_subplot(111)\n",
    "ax.scatter(0, 0, marker=\"+\")\n",
    "ax.scatter(np.array(ejecta_energy_x) / outer_rad,  np.array(ejecta_energy_z) / outer_rad, marker='.')\n",
    "ax.set_aspect(aspect=1.0)\n",
    "ax.set_ylim(-1, 1)\n",
    "ax.set_xlim(0, 1)"
   ]
  },
  {
   "cell_type": "code",
   "execution_count": null,
   "metadata": {},
   "outputs": [],
   "source": []
  }
 ],
 "metadata": {
  "kernelspec": {
   "name": "Python 3.7.8 64-bit ('tardis': conda)",
   "display_name": "Python 3.7.8 64-bit ('tardis': conda)",
   "metadata": {
    "interpreter": {
     "hash": "d0cc006f0ffdc17243dcd6f93117984bcef1a585288c70359f2680d694440e53"
    }
   }
  },
  "language_info": {
   "codemirror_mode": {
    "name": "ipython",
    "version": 3
   },
   "file_extension": ".py",
   "mimetype": "text/x-python",
   "name": "python",
   "nbconvert_exporter": "python",
   "pygments_lexer": "ipython3",
   "version": "3.7.8-final"
  }
 },
 "nbformat": 4,
 "nbformat_minor": 4
}