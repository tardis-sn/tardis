{
 "cells": [
  {
   "cell_type": "raw",
   "id": "8633baaa",
   "metadata": {
    "raw_mimetype": "text/restructuredtext"
   },
   "source": [
    ".. _energypackets:\n",
    "\n",
    "**************\n",
    "Energy Packets\n",
    "**************"
   ]
  },
  {
   "cell_type": "markdown",
   "id": "4394c272",
   "metadata": {
    "raw_mimetype": "text/restructuredtext"
   },
   "source": [
    "While it is instructive to think about tracking the propagation history of\n",
    "photons when illustrating the basic idea behind Monte Carlo radiative transfer\n",
    "techniques, there are important numerical reasons for using a different\n",
    "discretization scheme. Instead of thinking in the photon picture, it brings\n",
    "significant advantages to follow the idea of <strong data-cite=\"Abbott1985\">[AbbottLucy85]</strong> and\n",
    "<strong data-cite=\"Lucy1999\">[Lucy99a]</strong> and consider parcels of radiant energy as the fundamental\n",
    "building blocks of the Monte Carlo calculation. These basic Monte Carlo quanta\n",
    "are commonly referred to as \"energy packets\" or simply \"packets\".\n",
    "\n",
    "During a Monte Carlo calculation, a large number of packets, all with a certain\n",
    "energy $\\varepsilon$, are created. In addition, each packet is associated\n",
    "with a frequency. These assignments are performed in a manner which ensures\n",
    "that the ensemble of packets represents the spectral energy distribution of the\n",
    "radiation field.\n",
    "\n",
    "During the simulation, the energy of the packet remains constant in the local\n",
    "co-moving frame (see [Reference Frames](propagation.rst#reference-frames) for\n",
    "details about the lab and co-moving frames). This naturally ensures energy\n",
    "conservation and constitutes the main advantage of this discretization scheme.\n",
    "There is one side effect of this so-called indivisible packet energy scheme\n",
    "which often causes confusion: Even during radiation-matter interactions the\n",
    "packet energy is conserved in the co-moving frame (see [Packet Propagation](propagation.rst)). However, the frequency associated with a packet may change\n",
    "(e.g. during non-resonant line interactions). As a consequence, packets may\n",
    "represent a varying number of real photons during their lifetime.\n",
    "\n",
    ".. note::\n",
    "    The indivisible energy packet scheme does not require that all packets have\n",
    "    the same energy. This is just a convenient and simple choice adopted in\n",
    "    TARDIS."
   ]
  },
  {
   "cell_type": "code",
   "execution_count": null,
   "id": "426325e5",
   "metadata": {},
   "outputs": [],
   "source": [
    "import numpy as np\n",
    "from tardis.montecarlo.packet_source import *\n",
    "from tardis import constants as const\n",
    "import matplotlib.pyplot as plt\n",
    "\n",
    "#The random number generator that will be used\n",
    "rng = np.random.default_rng()"
   ]
  },
  {
   "cell_type": "markdown",
   "id": "4ae02998",
   "metadata": {},
   "source": [
    "The followig cell contains values that you can change to see how it affects the spectrum:"
   ]
  },
  {
   "cell_type": "code",
   "execution_count": null,
   "id": "bc34bf33",
   "metadata": {},
   "outputs": [],
   "source": [
    "seed = 1 #seed for the pseudo-random number generator\n",
    "r_photosphere = 1 #radius of the supernova's photosphere in cm\n",
    "n_packets = 40000 #number of packets generated"
   ]
  },
  {
   "cell_type": "markdown",
   "id": "450faf76",
   "metadata": {},
   "source": [
    "You can either set a temperatature of the photosphere, which will determine its luminosity; or you can set the luminosity of the photosphere, which will determine it's temperature."
   ]
  },
  {
   "cell_type": "code",
   "execution_count": null,
   "id": "8f2c15a9",
   "metadata": {},
   "outputs": [],
   "source": [
    "temp = 10000 #temperature in K\n",
    "lumin = 4 * np.pi * (r_photosphere**2) * const.sigma_sb.cgs.value * (temp**4)\n",
    "print('Luminosity:',lumin,'erg/s')"
   ]
  },
  {
   "cell_type": "code",
   "execution_count": null,
   "id": "3fb3ca8c",
   "metadata": {},
   "outputs": [],
   "source": [
    "lumin = 1113 #luminocity in erg/s\n",
    "temp = ( lumin / (4 * np.pi * const.sigma_sb.cgs.value) )**0.25 / np.sqrt(r_photosphere)\n",
    "print('Temperature:',temp,'K')"
   ]
  },
  {
   "cell_type": "markdown",
   "id": "516633c5",
   "metadata": {},
   "source": [
    "We now generate the ensemble of packets. The array of packet energies is also shown."
   ]
  },
  {
   "cell_type": "code",
   "execution_count": null,
   "id": "925e9e1b",
   "metadata": {},
   "outputs": [],
   "source": [
    "nus,mus,energies = BlackBodySimpleSource(seed).create_packets(temp,n_packets,rng)\n",
    "\n",
    "print(energies)"
   ]
  },
  {
   "cell_type": "markdown",
   "id": "16936bce",
   "metadata": {},
   "source": [
    "We set the timespan of the simulation so that each packet contributes the appropriate luminosity to the spectrum."
   ]
  },
  {
   "cell_type": "code",
   "execution_count": null,
   "id": "fed35f47",
   "metadata": {},
   "outputs": [],
   "source": [
    "t_simulation = 1/lumin\n",
    "\n",
    "lumin_per_packet = energies/t_simulation"
   ]
  },
  {
   "cell_type": "markdown",
   "id": "0d839222",
   "metadata": {},
   "source": [
    "We define important constants, and write the Planck distribution function so that we can compare to the generated distribution:"
   ]
  },
  {
   "cell_type": "code",
   "execution_count": null,
   "id": "916a5e22",
   "metadata": {
    "scrolled": false
   },
   "outputs": [],
   "source": [
    "h = const.h.cgs.value\n",
    "c2 = const.c.cgs.value**2\n",
    "kB = const.k_B.cgs.value\n",
    "\n",
    "def planck_function(nu,T):\n",
    "    return 8 * np.pi * (r_photosphere**2) * h * nu**3 / (c2 * (np.exp(h*nu/(kB*T)) - 1))"
   ]
  },
  {
   "cell_type": "markdown",
   "id": "78230177",
   "metadata": {},
   "source": [
    "We plot the Planck distribution and a histogram of the generated packet distribution:"
   ]
  },
  {
   "cell_type": "code",
   "execution_count": null,
   "id": "913fcdbb",
   "metadata": {},
   "outputs": [],
   "source": [
    "bins=200\n",
    "nus_planck = np.linspace(min(nus),max(nus),bins)\n",
    "bin_width = nus_planck[1]-nus_planck[0]\n",
    "\n",
    "plt.hist(nus,bins=bins,weights=lumin_per_packet/bin_width) #the weights argument is once again to make sure our plotted spectrum has the correct y-axis scale\n",
    "plt.plot(nus_planck,np.pi*planck_function(nus_planck,temp))\n",
    "plt.show()"
   ]
  },
  {
   "cell_type": "markdown",
   "id": "ad4f0f0e",
   "metadata": {},
   "source": [
    "We finally plot the generated $\\mu$ density distribution, followed by the generated $\\theta=\\arccos (\\mu)$ density distribution, compared with the respective curves $\\rho = 2\\mu$ and $\\rho = \\sin(2\\theta)$:"
   ]
  },
  {
   "cell_type": "code",
   "execution_count": null,
   "id": "ae4c97de",
   "metadata": {},
   "outputs": [],
   "source": [
    "x = np.linspace(0,1,1000)\n",
    "\n",
    "plt.hist(mus,bins=bins,density=True)\n",
    "plt.plot(x,2*x)\n",
    "plt.show()"
   ]
  },
  {
   "cell_type": "code",
   "execution_count": null,
   "id": "41daa433",
   "metadata": {},
   "outputs": [],
   "source": [
    "thetas = np.linspace(0,np.pi/2,1000)\n",
    "\n",
    "plt.hist(np.arccos(mus),bins=bins,density=True)\n",
    "plt.plot(thetas,np.sin(2*thetas))\n",
    "plt.show()"
   ]
  }
 ],
 "metadata": {
  "celltoolbar": "Raw Cell Format",
  "kernelspec": {
   "display_name": "Python 3",
   "language": "python",
   "name": "python3"
  },
  "language_info": {
   "codemirror_mode": {
    "name": "ipython",
    "version": 3
   },
   "file_extension": ".py",
   "mimetype": "text/x-python",
   "name": "python",
   "nbconvert_exporter": "python",
   "pygments_lexer": "ipython3",
   "version": "3.7.10"
  }
 },
 "nbformat": 4,
 "nbformat_minor": 5
}
