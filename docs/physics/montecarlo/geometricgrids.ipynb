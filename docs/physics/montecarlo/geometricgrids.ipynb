{
 "cells": [
  {
   "cell_type": "markdown",
   "metadata": {},
   "source": [
    "## grids"
   ]
  },
  {
   "cell_type": "markdown",
   "metadata": {},
   "source": [
    "To improve functionality of TARDIS, multiple geometric grid options have been implemented. In addition to the 1D radial shell model, TARDIS now has options for a 2D cartesian grid and 3D cartesian grid. The old radial 1D class, NumbaModel has been renamed GeometryGridSpherical1D."
   ]
  },
  {
   "cell_type": "markdown",
   "metadata": {},
   "source": [
    "A 2D cartesian grid has been added as GeometryGridCartesian2D, and a 3D cartesian grid has been added as GeometryGridCartesian3D."
   ]
  },
  {
   "cell_type": "markdown",
   "metadata": {},
   "source": [
    "The cartesian cells are of uniform size (squares or cubes depending on the dimensionality). "
   ]
  },
  {
   "cell_type": "markdown",
   "metadata": {},
   "source": [
    "While the 1D radial shell model is suitable for spherically symmetry supernovae, it does not accurately model non-spherically symmetric supernovae. Notable, type Ic supernovae produce gamma ray jets, which are plainly non-spherically symmetric. Other supernovae also possess non spherical shapes.\n",
    "\n",
    "It will also be useful to see if different geometric models produce matching results for spherically symmetric supernovae."
   ]
  },
  {
   "cell_type": "markdown",
   "metadata": {},
   "source": [
    "Upon full implementation, the user will select which geometric grid they would like to use, and then the simulation will emply that grid."
   ]
  },
  {
   "cell_type": "markdown",
   "metadata": {},
   "source": []
  }
 ],
 "metadata": {
  "kernelspec": {
   "display_name": "Python 3.8.13 ('tardis')",
   "language": "python",
   "name": "python3"
  },
  "language_info": {
   "codemirror_mode": {
    "name": "ipython",
    "version": 3
   },
   "file_extension": ".py",
   "mimetype": "text/x-python",
   "name": "python",
   "nbconvert_exporter": "python",
   "pygments_lexer": "ipython3",
   "version": "3.8.13"
  },
  "orig_nbformat": 4,
  "vscode": {
   "interpreter": {
    "hash": "dde2274465eb8939574804a93aa9b05c38ce95b3902c9801d5d6516b86c3fabe"
   }
  }
 },
 "nbformat": 4,
 "nbformat_minor": 2
}
