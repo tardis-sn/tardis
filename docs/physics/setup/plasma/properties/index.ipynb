{
 "cells": [
  {
   "cell_type": "markdown",
   "id": "a24f5f8f",
   "metadata": {},
   "source": [
    "# Plasma"
   ]
  },
  {
   "cell_type": "code",
   "execution_count": null,
   "id": "aba45f8f",
   "metadata": {},
   "outputs": [],
   "source": []
  },
  {
   "cell_type": "raw",
   "id": "36a17a88",
   "metadata": {
    "raw_mimetype": "text/restructuredtext"
   },
   "source": [
    ".. toctree::\n",
    "\n",
    "    inputs\n",
    "    electron\n",
    "    basic\n",
    "    ex_ion\n",
    "    j_blues\n",
    "    advanced\n",
    "    macro_atom"
   ]
  }
 ],
 "metadata": {
  "celltoolbar": "Raw Cell Format",
  "kernelspec": {
   "display_name": "Python 3 (ipykernel)",
   "language": "python",
   "name": "python3"
  },
  "language_info": {
   "codemirror_mode": {
    "name": "ipython",
    "version": 3
   },
   "file_extension": ".py",
   "mimetype": "text/x-python",
   "name": "python",
   "nbconvert_exporter": "python",
   "pygments_lexer": "ipython3",
   "version": "3.7.12"
  }
 },
 "nbformat": 4,
 "nbformat_minor": 5
}
