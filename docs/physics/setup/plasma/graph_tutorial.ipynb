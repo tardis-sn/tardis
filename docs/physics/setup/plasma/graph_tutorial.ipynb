{
 "cells": [
  {
   "cell_type": "markdown",
   "id": "c7835cf9",
   "metadata": {},
   "source": [
    "# Plasma Graph Tutorial"
   ]
  },
  {
   "cell_type": "markdown",
   "id": "0329e9f4",
   "metadata": {},
   "source": [
    "After running a simulation, TARDIS has the ability to create a [graph](https://en.wikipedia.org/wiki/Graph_(discrete_mathematics)) showcasing how each variable used to compute the plasma state is connected and calculated. To do so, one needs to utilize the `write_to_tex` command to generate a .tex file that displays the graph. This tutorial aims to showcase how the .tex file can be generated and what options can be inputted to display the graph in a preferred method. To start, TARDIS needs to perform a simulation. Here the `tardis_example.yml` configuration file is used as in the [quickstart guide](../../../quickstart.ipynb)."
   ]
  },
  {
   "cell_type": "code",
   "execution_count": null,
   "id": "b9fbaaa9",
   "metadata": {},
   "outputs": [],
   "source": [
    "from tardis import run_tardis\n",
    "from tardis.io.atom_data.util import download_atom_data"
   ]
  },
  {
   "cell_type": "code",
   "execution_count": null,
   "id": "631f5cd2",
   "metadata": {},
   "outputs": [],
   "source": [
    "download_atom_data('kurucz_cd23_chianti_H_He')"
   ]
  },
  {
   "cell_type": "code",
   "execution_count": null,
   "id": "2212037a",
   "metadata": {},
   "outputs": [],
   "source": [
    "sim = run_tardis('tardis_example.yml')"
   ]
  },
  {
   "cell_type": "markdown",
   "id": "12802d67",
   "metadata": {},
   "source": [
    "Now that TARDIS has finished a simulation run, the plasma graph can now be generated via the `write_to_tex` command. The following shows how to invoke it as well as what parameters it takes in"
   ]
  },
  {
   "cell_type": "code",
   "execution_count": null,
   "id": "d9c07d17",
   "metadata": {},
   "outputs": [],
   "source": [
    "sim.plasma.write_to_tex?"
   ]
  },
  {
   "cell_type": "markdown",
   "id": "00c7cc9f",
   "metadata": {},
   "source": [
    "As of now, TARDIS has an issue of not spacing edges correctly, causing the default output to look very condensed and unreadable in certain areas. To address this, the remainder of this tutorial will showcase the default graph and different parameters one can use to display the graph in a friendly, readable format. "
   ]
  },
  {
   "cell_type": "markdown",
   "id": "8bbac606",
   "metadata": {},
   "source": [
    "## Default Plasma Graph"
   ]
  },
  {
   "cell_type": "markdown",
   "id": "bb12a9e1",
   "metadata": {},
   "source": [
    "From above, TARDIS only needs the name of the file it should save the graph to as default."
   ]
  },
  {
   "cell_type": "code",
   "execution_count": null,
   "id": "b3bd85b7",
   "metadata": {},
   "outputs": [],
   "source": [
    "sim.plasma.write_to_tex(\"Plasma_Graph_Default.tex\")"
   ]
  },
  {
   "cell_type": "markdown",
   "id": "d0ab8466",
   "metadata": {},
   "source": [
    "The resulting graph will look as such:"
   ]
  },
  {
   "cell_type": "markdown",
   "id": "e0738ef4",
   "metadata": {},
   "source": [
    "<img src=\"Default_Plasma_Graph.png\">"
   ]
  },
  {
   "cell_type": "markdown",
   "id": "815dd554",
   "metadata": {},
   "source": [
    "## Plasma Graph with Different Scale"
   ]
  },
  {
   "cell_type": "markdown",
   "id": "00ad603d",
   "metadata": {},
   "source": [
    "One can change the scaling of the graph by passing in a positive, non-zero float into the `scale` parameter to either make the resulting graph larger (scale > 0.5) or smaller (scale < 0.5)"
   ]
  },
  {
   "cell_type": "code",
   "execution_count": null,
   "id": "1f4dab02",
   "metadata": {},
   "outputs": [],
   "source": [
    "sim.plasma.write_to_tex(\"Plasma_Graph_Scaled.tex\", scale = 1.25)"
   ]
  },
  {
   "cell_type": "markdown",
   "id": "73c2a8af",
   "metadata": {},
   "source": [
    "With a scale of 1.25, the graph TARDIS will output will look as follows:\n",
    "\n",
    "<img src=\"Plasma_Graph_Scaled.png\">"
   ]
  },
  {
   "cell_type": "markdown",
   "id": "6661eeae",
   "metadata": {},
   "source": [
    "## Plasma Graph with No Equations\n",
    "\n",
    "TARDIS has the option to generate a graph without any equations or edge labels via the `latex_label` command. The graph in this case will only consist of nodes containing the names of variables used to calculate the plasma state connected with edges"
   ]
  },
  {
   "cell_type": "code",
   "execution_count": null,
   "id": "764aa91a",
   "metadata": {},
   "outputs": [],
   "source": [
    "sim.plasma.write_to_tex(\"Plasma_Graph_No_Eq.tex\", latex_label=False)"
   ]
  },
  {
   "cell_type": "markdown",
   "id": "3335a526",
   "metadata": {},
   "source": [
    "With these inputs, the graph will look like this:"
   ]
  },
  {
   "cell_type": "markdown",
   "id": "43196f07",
   "metadata": {},
   "source": [
    "## Plasma Graph with Inputted Arguments"
   ]
  },
  {
   "cell_type": "code",
   "execution_count": null,
   "id": "0bd9b8dd",
   "metadata": {},
   "outputs": [],
   "source": [
    "sim.plasma.write_to_tex(\"Plasma_Graph_with_args.tex\", args=[r\"nodesep=1.0\", r'edge[lblstyle=\"fill=white\"]', r'margin=0', r'ratio=\"fill\"', r'size=\"8.3,11.7!\"'])"
   ]
  },
  {
   "cell_type": "code",
   "execution_count": null,
   "id": "858b7509",
   "metadata": {},
   "outputs": [],
   "source": []
  }
 ],
 "metadata": {
  "kernelspec": {
   "display_name": "Python 3 (ipykernel)",
   "language": "python",
   "name": "python3"
  },
  "language_info": {
   "codemirror_mode": {
    "name": "ipython",
    "version": 3
   },
   "file_extension": ".py",
   "mimetype": "text/x-python",
   "name": "python",
   "nbconvert_exporter": "python",
   "pygments_lexer": "ipython3",
   "version": "3.7.12"
  }
 },
 "nbformat": 4,
 "nbformat_minor": 5
}
