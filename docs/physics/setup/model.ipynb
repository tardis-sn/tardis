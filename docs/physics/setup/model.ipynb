{
 "cells": [
  {
   "cell_type": "markdown",
   "id": "fd77aec4",
   "metadata": {},
   "source": [
    "# Model\n",
    "\n",
    "As shown previously, when `Simulation.from_config()` is called, a `Radial1DModel` object is created. This is done via the class method `Radial1DModel.from_config()`. This model object contains important information about the shell structure, density, abundance, radiative temperature, and dilution factor throughout the supernova.\n",
    "\n",
    "## Shell Structure\n",
    "\n",
    "TARDIS models supernovae as expanding homologously. This means that at the beginning of the explosion, the\n",
    "supernova starts at a single point and proceeds to expand radially outward such that the ratio of the velocity of\n",
    "the ejecta to the distance from the ejecta to the supernova's center is uniform throughout the supernova. As an\n",
    "example, if the outer edge of the ejecta moves outward at some velocity $v_\\mathrm{outer\\_boundary}$, the\n",
    "velocity of the ejecta half way between the outer edge and the center would be\n",
    "$\\frac{v_\\mathrm{outer\\_boundary}}{2}$. The animation below demonstrates this type of expansion.\n",
    "\n",
    "TARDIS simulates radiative transfer between an inner boundary (the photosphere) and an outer\n",
    "boundary (the outer edge of the supernova ejecta). The velocity of the inner boundary\n",
    "$v_\\mathrm{inner\\_boundary}$ and the velocity of the outer boundary $v_\\mathrm{outer\\_boundary}$ are\n",
    "supplied in the configuration file (see [](model-csvy-and-config) **edit this** **talk about file structure and csvy**), as well as the time after the explosion for\n",
    "which TARDIS is calculating the spectrum ($t_\\mathrm{explosion}$). The radii of the inner and outer boundaries\n",
    "are therefore calcuated by $r_\\mathrm{inner\\_boundary}=v_\\mathrm{inner\\_boundary}*t_\\mathrm{explosion}$ and\n",
    "$r_\\mathrm{outer\\_boundary}=v_\\mathrm{outer\\_boundary}*t_\\mathrm{explosion}$. Plasma at a distance $r$\n",
    "from the center of the supernova would then be traveling outward at a speed $v=\\frac{r}{r_\\mathrm{outer\\_boundary}}v_\\mathrm{outer\\_boundary} = \\frac{r}{t_\\mathrm{explosion}}$. This is\n",
    "also shown in the animation.\n",
    "\n",
    "Additionally, TARDIS divides the space between the inner and outer computational boundaries into cells -- radial\n",
    "shells for which the state/condition of the ejecta is (spatially) constant. In the animation, 6 cells are shown,\n",
    "being divided by the light blue lines. As TARDIS is a time-independent code which calculates the spectra at an\n",
    "instant in time, the radii of the boundaries (either of the computational domain or of the cells) do not chage\n",
    "throughout the simulation.\n",
    "\n",
    "\n",
    "<img width=\"500\" src=\"../images/expansion_animation.gif\">\n",
    "\n",
    "We now demonstrate how the shell structure works using the TARDIS code."
   ]
  },
  {
   "cell_type": "code",
   "execution_count": 1,
   "id": "f48c4843",
   "metadata": {},
   "outputs": [
    {
     "data": {
      "application/vnd.jupyter.widget-view+json": {
       "model_id": "",
       "version_major": 2,
       "version_minor": 0
      },
      "text/plain": [
       "Iterations:          0/? [00:00<?, ?it/s]"
      ]
     },
     "metadata": {},
     "output_type": "display_data"
    },
    {
     "data": {
      "application/vnd.jupyter.widget-view+json": {
       "model_id": "",
       "version_major": 2,
       "version_minor": 0
      },
      "text/plain": [
       "Packets:             0/? [00:00<?, ?it/s]"
      ]
     },
     "metadata": {},
     "output_type": "display_data"
    }
   ],
   "source": [
    "# We import the necessary packages\n",
    "from tardis.io.config_reader import Configuration\n",
    "from tardis.model import Radial1DModel\n",
    "from tardis.io.atom_data.util import download_atom_data\n",
    "from astropy import units as u\n",
    "import matplotlib.pyplot as plt\n",
    "import copy\n",
    "\n",
    "# We download the atomic data needed to run the simulation\n",
    "download_atom_data('kurucz_cd23_chianti_H_He')"
   ]
  },
  {
   "cell_type": "code",
   "execution_count": 2,
   "id": "8b3a14a9",
   "metadata": {},
   "outputs": [],
   "source": [
    "# Set up a base configuration to use throughout the notebook\n",
    "base_config = Configuration.from_yaml(\"tardis_example.yml\")"
   ]
  },
  {
   "cell_type": "markdown",
   "id": "cee054e9",
   "metadata": {},
   "source": [
    "In the cell below, we set up"
   ]
  },
  {
   "cell_type": "code",
   "execution_count": 3,
   "id": "17752fd2",
   "metadata": {
    "scrolled": false
   },
   "outputs": [
    {
     "name": "stdout",
     "output_type": "stream",
     "text": [
      "velocity:\n",
      " [1.00e+08 1.05e+08 1.10e+08 1.15e+08 1.20e+08 1.25e+08 1.30e+08 1.35e+08\n",
      " 1.40e+08 1.45e+08 1.50e+08 1.55e+08 1.60e+08 1.65e+08 1.70e+08 1.75e+08\n",
      " 1.80e+08 1.85e+08 1.90e+08 1.95e+08 2.00e+08] cm / s\n",
      "v_inner:\n",
      " [1.00e+08 1.05e+08 1.10e+08 1.15e+08 1.20e+08 1.25e+08 1.30e+08 1.35e+08\n",
      " 1.40e+08 1.45e+08 1.50e+08 1.55e+08 1.60e+08 1.65e+08 1.70e+08 1.75e+08\n",
      " 1.80e+08 1.85e+08 1.90e+08 1.95e+08] cm / s\n",
      "v_outer:\n",
      " [1.05e+08 1.10e+08 1.15e+08 1.20e+08 1.25e+08 1.30e+08 1.35e+08 1.40e+08\n",
      " 1.45e+08 1.50e+08 1.55e+08 1.60e+08 1.65e+08 1.70e+08 1.75e+08 1.80e+08\n",
      " 1.85e+08 1.90e+08 1.95e+08 2.00e+08] cm / s\n",
      "v_middle:\n",
      " [1.025e+08 1.075e+08 1.125e+08 1.175e+08 1.225e+08 1.275e+08 1.325e+08\n",
      " 1.375e+08 1.425e+08 1.475e+08 1.525e+08 1.575e+08 1.625e+08 1.675e+08\n",
      " 1.725e+08 1.775e+08 1.825e+08 1.875e+08 1.925e+08 1.975e+08] cm / s\n",
      "v_boundary_inner:\n",
      " 100000000.0 cm / s\n",
      "v_boundary_outer:\n",
      " 200000000.0 cm / s\n",
      "radius:\n",
      " [8.6400e+13 9.0720e+13 9.5040e+13 9.9360e+13 1.0368e+14 1.0800e+14\n",
      " 1.1232e+14 1.1664e+14 1.2096e+14 1.2528e+14 1.2960e+14 1.3392e+14\n",
      " 1.3824e+14 1.4256e+14 1.4688e+14 1.5120e+14 1.5552e+14 1.5984e+14\n",
      " 1.6416e+14 1.6848e+14 1.7280e+14] cm\n",
      "r_inner:\n",
      " [8.6400e+13 9.0720e+13 9.5040e+13 9.9360e+13 1.0368e+14 1.0800e+14\n",
      " 1.1232e+14 1.1664e+14 1.2096e+14 1.2528e+14 1.2960e+14 1.3392e+14\n",
      " 1.3824e+14 1.4256e+14 1.4688e+14 1.5120e+14 1.5552e+14 1.5984e+14\n",
      " 1.6416e+14 1.6848e+14] cm\n",
      "r_outer:\n",
      " [9.0720e+13 9.5040e+13 9.9360e+13 1.0368e+14 1.0800e+14 1.1232e+14\n",
      " 1.1664e+14 1.2096e+14 1.2528e+14 1.2960e+14 1.3392e+14 1.3824e+14\n",
      " 1.4256e+14 1.4688e+14 1.5120e+14 1.5552e+14 1.5984e+14 1.6416e+14\n",
      " 1.6848e+14 1.7280e+14] cm\n",
      "r_middle:\n",
      " [8.8560e+13 9.2880e+13 9.7200e+13 1.0152e+14 1.0584e+14 1.1016e+14\n",
      " 1.1448e+14 1.1880e+14 1.2312e+14 1.2744e+14 1.3176e+14 1.3608e+14\n",
      " 1.4040e+14 1.4472e+14 1.4904e+14 1.5336e+14 1.5768e+14 1.6200e+14\n",
      " 1.6632e+14 1.7064e+14] cm\n",
      "volume:\n",
      " [4.25848318e+41 4.68399379e+41 5.12976681e+41 5.59580224e+41\n",
      " 6.08210009e+41 6.58866034e+41 7.11548300e+41 7.66256807e+41\n",
      " 8.22991555e+41 8.81752544e+41 9.42539775e+41 1.00535325e+42\n",
      " 1.07019296e+42 1.13705891e+42 1.20595111e+42 1.27686954e+42\n",
      " 1.34981422e+42 1.42478513e+42 1.50178229e+42 1.58080569e+42] cm3\n"
     ]
    }
   ],
   "source": [
    "shell_config = copy.deepcopy(base_config)\n",
    "\n",
    "shell_config.supernova.time_explosion = 10 * u.day\n",
    "\n",
    "# This line is necessary to indicate we are using a built-in shell structure.\n",
    "# Do not change it.\n",
    "shell_config.model.structure.type = 'specific'\n",
    "\n",
    "shell_config.model.structure.velocity.start = 1000 * u.km/u.s\n",
    "shell_config.model.structure.velocity.stop = 2000 * u.km/u.s\n",
    "shell_config.model.structure.velocity.num = 20\n",
    "\n",
    "shell_model = Radial1DModel.from_config(shell_config)\n",
    "\n",
    "print('velocity:\\n', shell_model.velocity)\n",
    "print('v_inner:\\n', shell_model.v_inner)\n",
    "print('v_outer:\\n', shell_model.v_outer)\n",
    "print('v_middle:\\n', shell_model.v_middle)\n",
    "print('v_boundary_inner:\\n', shell_model.v_boundary_inner)\n",
    "print('v_boundary_outer:\\n', shell_model.v_boundary_outer)\n",
    "print('radius:\\n', shell_model.radius)\n",
    "print('r_inner:\\n', shell_model.r_inner)\n",
    "print('r_outer:\\n', shell_model.r_outer)\n",
    "print('r_middle:\\n', shell_model.r_middle)\n",
    "print('volume:\\n', shell_model.volume)"
   ]
  },
  {
   "cell_type": "markdown",
   "id": "1ee56110",
   "metadata": {},
   "source": [
    "Notice that `radius = velocity*time_explosion`, and similarly for `r_inner`, `r_outer`, and `r_middle`. You can get the radius of the photosphere............and outer edge of the supernova........."
   ]
  },
  {
   "cell_type": "markdown",
   "id": "59159ccd",
   "metadata": {},
   "source": [
    "## Density\n",
    "\n",
    "**talk about file structure and csvy**\n",
    "\n",
    "Since the state of the ejecta, including the density, is the same throughout the shell, we determine the shell's density by plugging the radius at the center of the shell into the density function. We now explore the varius built-in density models.\n",
    "\n",
    "### Branch85 W7 density"
   ]
  },
  {
   "cell_type": "code",
   "execution_count": 4,
   "id": "b478ff70",
   "metadata": {
    "scrolled": false
   },
   "outputs": [
    {
     "name": "stdout",
     "output_type": "stream",
     "text": [
      "density:\n",
      " [3.13040297e-06 2.24289041e-06 1.63154722e-06 1.20337847e-06\n",
      " 8.98906836e-07 6.79353803e-07 5.18986614e-07 4.00450110e-07\n",
      " 3.11862570e-07 2.44975787e-07 1.93989578e-07 1.54775921e-07\n",
      " 1.24363732e-07 1.00592042e-07 8.18735475e-08 6.70314791e-08\n",
      " 5.51857848e-08 4.56728802e-08 3.79885019e-08 3.17466281e-08] g / cm3\n"
     ]
    },
    {
     "data": {
      "image/png": "[encoded data removed]",
      "text/plain": [
       "<Figure size 432x288 with 1 Axes>"
      ]
     },
     "metadata": {
      "needs_background": "light"
     },
     "output_type": "display_data"
    }
   ],
   "source": [
    "w7_density_config = copy.deepcopy(base_config)\n",
    "\n",
    "w7_density_config.supernova.time_explosion = 10 * u.day\n",
    "\n",
    "# This line is necessary to indicate we are using a built-in shell structure\n",
    "# and density. Do not change it.\n",
    "w7_density_config.model.structure.type = 'specific'\n",
    "\n",
    "w7_density_config.model.structure.velocity.start = 1000 * u.km/u.s\n",
    "w7_density_config.model.structure.velocity.stop = 2000 * u.km/u.s\n",
    "w7_density_config.model.structure.velocity.num = 20\n",
    "\n",
    "w7_density_config.model.structure.density.type = 'branch85_w7'\n",
    "\n",
    "w7_density_model = Radial1DModel.from_config(w7_density_config)\n",
    "\n",
    "print('density:\\n', w7_density_model.density)\n",
    "\n",
    "plt.plot(w7_density_model.r_middle, w7_density_model.density)\n",
    "plt.xlabel(f'Radius ({w7_density_model.r_middle.unit})')\n",
    "plt.ylabel(f'Density ({w7_density_model.density.unit})');"
   ]
  },
  {
   "cell_type": "code",
   "execution_count": 5,
   "id": "fd23d9a0",
   "metadata": {},
   "outputs": [
    {
     "name": "stdout",
     "output_type": "stream",
     "text": [
      "density:\n",
      " [1.81157579e-06 1.29796899e-06 9.44182418e-07 6.96399579e-07\n",
      " 5.20200716e-07 3.93144562e-07 3.00339476e-07 2.31741962e-07\n",
      " 1.80476024e-07 1.41768395e-07 1.12262487e-07 8.95693988e-08\n",
      " 7.19697525e-08 5.82129873e-08 4.73805252e-08 3.87913652e-08\n",
      " 3.19362180e-08 2.64310649e-08 2.19840868e-08 1.83718913e-08] g / cm3\n"
     ]
    },
    {
     "data": {
      "image/png": "[encoded data removed]",
      "text/plain": [
       "<Figure size 432x288 with 1 Axes>"
      ]
     },
     "metadata": {
      "needs_background": "light"
     },
     "output_type": "display_data"
    }
   ],
   "source": [
    "w7_modified_config = copy.deepcopy(w7_density_config)\n",
    "\n",
    "w7_modified_config.supernova.time_explosion = 12 * u.day\n",
    "\n",
    "w7_modified_model = Radial1DModel.from_config(w7_modified_config)\n",
    "\n",
    "print('density:\\n', w7_modified_model.density)\n",
    "\n",
    "plt.plot(w7_density_model.r_middle,\n",
    "         w7_density_model.density,\n",
    "         label=f't_explosion = {w7_density_config.supernova.time_explosion}')\n",
    "plt.plot(w7_modified_model.r_middle,\n",
    "         w7_modified_model.density,\n",
    "         label=f't_explosion = {w7_modified_config.supernova.time_explosion}')\n",
    "plt.xlabel(f'Radius ({w7_density_model.r_middle.unit})')\n",
    "plt.ylabel(f'Density ({w7_density_model.density.unit})')\n",
    "plt.legend();"
   ]
  },
  {
   "cell_type": "markdown",
   "id": "e0e1797c",
   "metadata": {},
   "source": [
    "### Uniform Density"
   ]
  },
  {
   "cell_type": "code",
   "execution_count": 6,
   "id": "b57d1646",
   "metadata": {
    "scrolled": false
   },
   "outputs": [
    {
     "name": "stdout",
     "output_type": "stream",
     "text": [
      "density:\n",
      " [5.e-10 5.e-10 5.e-10 5.e-10 5.e-10 5.e-10 5.e-10 5.e-10 5.e-10 5.e-10\n",
      " 5.e-10 5.e-10 5.e-10 5.e-10 5.e-10 5.e-10 5.e-10 5.e-10 5.e-10 5.e-10] g / cm3\n"
     ]
    },
    {
     "data": {
      "image/png": "[encoded data removed]",
      "text/plain": [
       "<Figure size 432x288 with 1 Axes>"
      ]
     },
     "metadata": {
      "needs_background": "light"
     },
     "output_type": "display_data"
    }
   ],
   "source": [
    "uni_density_config = copy.deepcopy(base_config)\n",
    "\n",
    "uni_density_config.supernova.time_explosion = 10 * u.day\n",
    "\n",
    "# This line is necessary to indicate we are using a built-in shell structure\n",
    "# and density. Do not change it.\n",
    "uni_density_config.model.structure.type = 'specific'\n",
    "\n",
    "uni_density_config.model.structure.velocity.start = 1000 * u.km/u.s\n",
    "uni_density_config.model.structure.velocity.stop = 2000 * u.km/u.s\n",
    "uni_density_config.model.structure.velocity.num = 20\n",
    "\n",
    "uni_density_config.model.structure.density.type = 'uniform'\n",
    "uni_density_config.model.structure.density.time_0 = 1 * u.day\n",
    "uni_density_config.model.structure.density.value = 5e-10 * u.kg/u.cm**3\n",
    "\n",
    "uni_density_model = Radial1DModel.from_config(uni_density_config)\n",
    "\n",
    "print('density:\\n', uni_density_model.density)\n",
    "\n",
    "plt.plot(uni_density_model.r_middle, uni_density_model.density)\n",
    "plt.xlabel(f'Radius ({uni_density_model.r_middle.unit})')\n",
    "plt.ylabel(f'Density ({uni_density_model.density.unit})');"
   ]
  },
  {
   "cell_type": "markdown",
   "id": "4c441e1b",
   "metadata": {},
   "source": [
    "### Power Law Density"
   ]
  },
  {
   "cell_type": "code",
   "execution_count": 7,
   "id": "bc1f4ed3",
   "metadata": {
    "scrolled": false
   },
   "outputs": [
    {
     "name": "stdout",
     "output_type": "stream",
     "text": [
      "density:\n",
      " [8.83050313e-09 1.06837531e-08 1.28144531e-08 1.52490031e-08\n",
      " 1.80150031e-08 2.11412531e-08 2.46577531e-08 2.85957031e-08\n",
      " 3.29875031e-08 3.78667531e-08 4.32682531e-08 4.92280031e-08\n",
      " 5.57832031e-08 6.29722531e-08 7.08347531e-08 7.94115031e-08\n",
      " 8.87445031e-08 9.88769531e-08 1.09853253e-07 1.21719003e-07] g / cm3\n"
     ]
    },
    {
     "data": {
      "image/png": "[encoded data removed]",
      "text/plain": [
       "<Figure size 432x288 with 1 Axes>"
      ]
     },
     "metadata": {
      "needs_background": "light"
     },
     "output_type": "display_data"
    }
   ],
   "source": [
    "pow_density_config = copy.deepcopy(base_config)\n",
    "\n",
    "pow_density_config.supernova.time_explosion = 10 * u.day\n",
    "\n",
    "# This line is necessary to indicate we are using a built-in shell structure\n",
    "# and density.\n",
    "pow_density_config.model.structure.type = 'specific'\n",
    "\n",
    "pow_density_config.model.structure.velocity.start = 1000 * u.km/u.s\n",
    "pow_density_config.model.structure.velocity.stop = 2000 * u.km/u.s\n",
    "pow_density_config.model.structure.velocity.num = 20\n",
    "\n",
    "pow_density_config.model.structure.density.type = 'power_law'\n",
    "pow_density_config.model.structure.density.time_0 = 1 * u.day\n",
    "pow_density_config.model.structure.density.rho_0 = 5e-10 * u.kg/u.cm**3\n",
    "pow_density_config.model.structure.density.v_0 = 500 * u.km/u.s\n",
    "pow_density_config.model.structure.density.exponent = 4\n",
    "\n",
    "pow_density_model = Radial1DModel.from_config(pow_density_config)\n",
    "\n",
    "print('density:\\n', pow_density_model.density)\n",
    "\n",
    "plt.plot(pow_density_model.r_middle, pow_density_model.density)\n",
    "plt.xlabel(f'Radius ({pow_density_model.r_middle.unit})')\n",
    "plt.ylabel(f'Density ({pow_density_model.density.unit})');"
   ]
  },
  {
   "cell_type": "markdown",
   "id": "12e08f18",
   "metadata": {},
   "source": [
    "### Exponential Denity"
   ]
  },
  {
   "cell_type": "code",
   "execution_count": 8,
   "id": "d55f0468",
   "metadata": {},
   "outputs": [
    {
     "name": "stdout",
     "output_type": "stream",
     "text": [
      "density:\n",
      " [6.43674518e-11 5.82420789e-11 5.26996123e-11 4.76845811e-11\n",
      " 4.31467932e-11 3.90408330e-11 3.53256065e-11 3.19639306e-11\n",
      " 2.89221604e-11 2.61698530e-11 2.36794622e-11 2.14260634e-11\n",
      " 1.93871039e-11 1.75421771e-11 1.58728182e-11 1.43623198e-11\n",
      " 1.29955644e-11 1.17588729e-11 1.06398682e-11 9.62735089e-12] g / cm3\n"
     ]
    },
    {
     "data": {
      "image/png": "[encoded data removed]",
      "text/plain": [
       "<Figure size 432x288 with 1 Axes>"
      ]
     },
     "metadata": {
      "needs_background": "light"
     },
     "output_type": "display_data"
    }
   ],
   "source": [
    "exp_density_config = copy.deepcopy(base_config)\n",
    "\n",
    "exp_density_config.supernova.time_explosion = 10 * u.day\n",
    "\n",
    "# This line is necessary to indicate we are using a built-in shell structure\n",
    "# and density.\n",
    "exp_density_config.model.structure.type = 'specific'\n",
    "\n",
    "exp_density_config.model.structure.velocity.start = 1000 * u.km/u.s\n",
    "exp_density_config.model.structure.velocity.stop = 2000 * u.km/u.s\n",
    "exp_density_config.model.structure.velocity.num = 20\n",
    "\n",
    "exp_density_config.model.structure.density.type = 'exponential'\n",
    "exp_density_config.model.structure.density.time_0 = 1 * u.day\n",
    "exp_density_config.model.structure.density.rho_0 = 5e-10 * u.kg/u.cm**3\n",
    "exp_density_config.model.structure.density.v_0 = 500 * u.km/u.s\n",
    "\n",
    "exp_density_model = Radial1DModel.from_config(exp_density_config)\n",
    "\n",
    "print('density:\\n', exp_density_model.density)\n",
    "\n",
    "plt.plot(exp_density_model.r_middle, exp_density_model.density)\n",
    "plt.xlabel(f'Radius ({exp_density_model.r_middle.unit})')\n",
    "plt.ylabel(f'Density ({exp_density_model.density.unit})');"
   ]
  },
  {
   "cell_type": "markdown",
   "id": "cfd06a7c",
   "metadata": {},
   "source": [
    "## Abundance\n",
    "\n",
    "**talk about file abundance and csvy**"
   ]
  },
  {
   "cell_type": "code",
   "execution_count": 9,
   "id": "c7396b49",
   "metadata": {},
   "outputs": [
    {
     "data": {
      "text/html": [
       "<div>\n",
       "<style scoped>\n",
       "    .dataframe tbody tr th:only-of-type {\n",
       "        vertical-align: middle;\n",
       "    }\n",
       "\n",
       "    .dataframe tbody tr th {\n",
       "        vertical-align: top;\n",
       "    }\n",
       "\n",
       "    .dataframe thead th {\n",
       "        text-align: right;\n",
       "    }\n",
       "</style>\n",
       "<table border=\"1\" class=\"dataframe\">\n",
       "  <thead>\n",
       "    <tr style=\"text-align: right;\">\n",
       "      <th></th>\n",
       "      <th>0</th>\n",
       "      <th>1</th>\n",
       "      <th>2</th>\n",
       "      <th>3</th>\n",
       "      <th>4</th>\n",
       "      <th>5</th>\n",
       "      <th>6</th>\n",
       "      <th>7</th>\n",
       "      <th>8</th>\n",
       "      <th>9</th>\n",
       "      <th>10</th>\n",
       "      <th>11</th>\n",
       "      <th>12</th>\n",
       "      <th>13</th>\n",
       "      <th>14</th>\n",
       "      <th>15</th>\n",
       "      <th>16</th>\n",
       "      <th>17</th>\n",
       "      <th>18</th>\n",
       "      <th>19</th>\n",
       "    </tr>\n",
       "    <tr>\n",
       "      <th>atomic_number</th>\n",
       "      <th></th>\n",
       "      <th></th>\n",
       "      <th></th>\n",
       "      <th></th>\n",
       "      <th></th>\n",
       "      <th></th>\n",
       "      <th></th>\n",
       "      <th></th>\n",
       "      <th></th>\n",
       "      <th></th>\n",
       "      <th></th>\n",
       "      <th></th>\n",
       "      <th></th>\n",
       "      <th></th>\n",
       "      <th></th>\n",
       "      <th></th>\n",
       "      <th></th>\n",
       "      <th></th>\n",
       "      <th></th>\n",
       "      <th></th>\n",
       "    </tr>\n",
       "  </thead>\n",
       "  <tbody>\n",
       "    <tr>\n",
       "      <th>2</th>\n",
       "      <td>0.10</td>\n",
       "      <td>0.10</td>\n",
       "      <td>0.10</td>\n",
       "      <td>0.10</td>\n",
       "      <td>0.10</td>\n",
       "      <td>0.10</td>\n",
       "      <td>0.10</td>\n",
       "      <td>0.10</td>\n",
       "      <td>0.10</td>\n",
       "      <td>0.10</td>\n",
       "      <td>0.10</td>\n",
       "      <td>0.10</td>\n",
       "      <td>0.10</td>\n",
       "      <td>0.10</td>\n",
       "      <td>0.10</td>\n",
       "      <td>0.10</td>\n",
       "      <td>0.10</td>\n",
       "      <td>0.10</td>\n",
       "      <td>0.10</td>\n",
       "      <td>0.10</td>\n",
       "    </tr>\n",
       "    <tr>\n",
       "      <th>8</th>\n",
       "      <td>0.20</td>\n",
       "      <td>0.20</td>\n",
       "      <td>0.20</td>\n",
       "      <td>0.20</td>\n",
       "      <td>0.20</td>\n",
       "      <td>0.20</td>\n",
       "      <td>0.20</td>\n",
       "      <td>0.20</td>\n",
       "      <td>0.20</td>\n",
       "      <td>0.20</td>\n",
       "      <td>0.20</td>\n",
       "      <td>0.20</td>\n",
       "      <td>0.20</td>\n",
       "      <td>0.20</td>\n",
       "      <td>0.20</td>\n",
       "      <td>0.20</td>\n",
       "      <td>0.20</td>\n",
       "      <td>0.20</td>\n",
       "      <td>0.20</td>\n",
       "      <td>0.20</td>\n",
       "    </tr>\n",
       "    <tr>\n",
       "      <th>12</th>\n",
       "      <td>0.15</td>\n",
       "      <td>0.15</td>\n",
       "      <td>0.15</td>\n",
       "      <td>0.15</td>\n",
       "      <td>0.15</td>\n",
       "      <td>0.15</td>\n",
       "      <td>0.15</td>\n",
       "      <td>0.15</td>\n",
       "      <td>0.15</td>\n",
       "      <td>0.15</td>\n",
       "      <td>0.15</td>\n",
       "      <td>0.15</td>\n",
       "      <td>0.15</td>\n",
       "      <td>0.15</td>\n",
       "      <td>0.15</td>\n",
       "      <td>0.15</td>\n",
       "      <td>0.15</td>\n",
       "      <td>0.15</td>\n",
       "      <td>0.15</td>\n",
       "      <td>0.15</td>\n",
       "    </tr>\n",
       "    <tr>\n",
       "      <th>14</th>\n",
       "      <td>0.30</td>\n",
       "      <td>0.30</td>\n",
       "      <td>0.30</td>\n",
       "      <td>0.30</td>\n",
       "      <td>0.30</td>\n",
       "      <td>0.30</td>\n",
       "      <td>0.30</td>\n",
       "      <td>0.30</td>\n",
       "      <td>0.30</td>\n",
       "      <td>0.30</td>\n",
       "      <td>0.30</td>\n",
       "      <td>0.30</td>\n",
       "      <td>0.30</td>\n",
       "      <td>0.30</td>\n",
       "      <td>0.30</td>\n",
       "      <td>0.30</td>\n",
       "      <td>0.30</td>\n",
       "      <td>0.30</td>\n",
       "      <td>0.30</td>\n",
       "      <td>0.30</td>\n",
       "    </tr>\n",
       "    <tr>\n",
       "      <th>20</th>\n",
       "      <td>0.25</td>\n",
       "      <td>0.25</td>\n",
       "      <td>0.25</td>\n",
       "      <td>0.25</td>\n",
       "      <td>0.25</td>\n",
       "      <td>0.25</td>\n",
       "      <td>0.25</td>\n",
       "      <td>0.25</td>\n",
       "      <td>0.25</td>\n",
       "      <td>0.25</td>\n",
       "      <td>0.25</td>\n",
       "      <td>0.25</td>\n",
       "      <td>0.25</td>\n",
       "      <td>0.25</td>\n",
       "      <td>0.25</td>\n",
       "      <td>0.25</td>\n",
       "      <td>0.25</td>\n",
       "      <td>0.25</td>\n",
       "      <td>0.25</td>\n",
       "      <td>0.25</td>\n",
       "    </tr>\n",
       "  </tbody>\n",
       "</table>\n",
       "</div>"
      ],
      "text/plain": [
       "                  0     1     2     3     4     5     6     7     8     9  \\\n",
       "atomic_number                                                               \n",
       "2              0.10  0.10  0.10  0.10  0.10  0.10  0.10  0.10  0.10  0.10   \n",
       "8              0.20  0.20  0.20  0.20  0.20  0.20  0.20  0.20  0.20  0.20   \n",
       "12             0.15  0.15  0.15  0.15  0.15  0.15  0.15  0.15  0.15  0.15   \n",
       "14             0.30  0.30  0.30  0.30  0.30  0.30  0.30  0.30  0.30  0.30   \n",
       "20             0.25  0.25  0.25  0.25  0.25  0.25  0.25  0.25  0.25  0.25   \n",
       "\n",
       "                 10    11    12    13    14    15    16    17    18    19  \n",
       "atomic_number                                                              \n",
       "2              0.10  0.10  0.10  0.10  0.10  0.10  0.10  0.10  0.10  0.10  \n",
       "8              0.20  0.20  0.20  0.20  0.20  0.20  0.20  0.20  0.20  0.20  \n",
       "12             0.15  0.15  0.15  0.15  0.15  0.15  0.15  0.15  0.15  0.15  \n",
       "14             0.30  0.30  0.30  0.30  0.30  0.30  0.30  0.30  0.30  0.30  \n",
       "20             0.25  0.25  0.25  0.25  0.25  0.25  0.25  0.25  0.25  0.25  "
      ]
     },
     "execution_count": 9,
     "metadata": {},
     "output_type": "execute_result"
    }
   ],
   "source": [
    "abund_config = copy.deepcopy(base_config)\n",
    "\n",
    "abund_config.supernova.time_explosion = 10 * u.day\n",
    "\n",
    "# We add the abundances in this form to overwrite the elements in the\n",
    "# base configuration.\n",
    "abund_config.model.abundances = {'type':'uniform',\n",
    "                                            'O':.2,\n",
    "                                            'Ca':.25,\n",
    "                                            'Mg':.15,\n",
    "                                            'Si':.3,\n",
    "                                            'He': .1}\n",
    "\n",
    "abund_model = Radial1DModel.from_config(abund_config)\n",
    "\n",
    "abund_model.abundance"
   ]
  },
  {
   "cell_type": "markdown",
   "id": "b45e6de1",
   "metadata": {},
   "source": [
    "talk abt isotopes"
   ]
  },
  {
   "cell_type": "code",
   "execution_count": 10,
   "id": "6ab8f445",
   "metadata": {},
   "outputs": [
    {
     "data": {
      "text/html": [
       "<div>\n",
       "<style scoped>\n",
       "    .dataframe tbody tr th:only-of-type {\n",
       "        vertical-align: middle;\n",
       "    }\n",
       "\n",
       "    .dataframe tbody tr th {\n",
       "        vertical-align: top;\n",
       "    }\n",
       "\n",
       "    .dataframe thead th {\n",
       "        text-align: right;\n",
       "    }\n",
       "</style>\n",
       "<table border=\"1\" class=\"dataframe\">\n",
       "  <thead>\n",
       "    <tr style=\"text-align: right;\">\n",
       "      <th></th>\n",
       "      <th>0</th>\n",
       "      <th>1</th>\n",
       "      <th>2</th>\n",
       "      <th>3</th>\n",
       "      <th>4</th>\n",
       "      <th>5</th>\n",
       "      <th>6</th>\n",
       "      <th>7</th>\n",
       "      <th>8</th>\n",
       "      <th>9</th>\n",
       "      <th>10</th>\n",
       "      <th>11</th>\n",
       "      <th>12</th>\n",
       "      <th>13</th>\n",
       "      <th>14</th>\n",
       "      <th>15</th>\n",
       "      <th>16</th>\n",
       "      <th>17</th>\n",
       "      <th>18</th>\n",
       "      <th>19</th>\n",
       "    </tr>\n",
       "    <tr>\n",
       "      <th>atomic_number</th>\n",
       "      <th></th>\n",
       "      <th></th>\n",
       "      <th></th>\n",
       "      <th></th>\n",
       "      <th></th>\n",
       "      <th></th>\n",
       "      <th></th>\n",
       "      <th></th>\n",
       "      <th></th>\n",
       "      <th></th>\n",
       "      <th></th>\n",
       "      <th></th>\n",
       "      <th></th>\n",
       "      <th></th>\n",
       "      <th></th>\n",
       "      <th></th>\n",
       "      <th></th>\n",
       "      <th></th>\n",
       "      <th></th>\n",
       "      <th></th>\n",
       "    </tr>\n",
       "  </thead>\n",
       "  <tbody>\n",
       "    <tr>\n",
       "      <th>8</th>\n",
       "      <td>0.300004</td>\n",
       "      <td>0.300004</td>\n",
       "      <td>0.300004</td>\n",
       "      <td>0.300004</td>\n",
       "      <td>0.300004</td>\n",
       "      <td>0.300004</td>\n",
       "      <td>0.300004</td>\n",
       "      <td>0.300004</td>\n",
       "      <td>0.300004</td>\n",
       "      <td>0.300004</td>\n",
       "      <td>0.300004</td>\n",
       "      <td>0.300004</td>\n",
       "      <td>0.300004</td>\n",
       "      <td>0.300004</td>\n",
       "      <td>0.300004</td>\n",
       "      <td>0.300004</td>\n",
       "      <td>0.300004</td>\n",
       "      <td>0.300004</td>\n",
       "      <td>0.300004</td>\n",
       "      <td>0.300004</td>\n",
       "    </tr>\n",
       "    <tr>\n",
       "      <th>23</th>\n",
       "      <td>0.088549</td>\n",
       "      <td>0.088549</td>\n",
       "      <td>0.088549</td>\n",
       "      <td>0.088549</td>\n",
       "      <td>0.088549</td>\n",
       "      <td>0.088549</td>\n",
       "      <td>0.088549</td>\n",
       "      <td>0.088549</td>\n",
       "      <td>0.088549</td>\n",
       "      <td>0.088549</td>\n",
       "      <td>0.088549</td>\n",
       "      <td>0.088549</td>\n",
       "      <td>0.088549</td>\n",
       "      <td>0.088549</td>\n",
       "      <td>0.088549</td>\n",
       "      <td>0.088549</td>\n",
       "      <td>0.088549</td>\n",
       "      <td>0.088549</td>\n",
       "      <td>0.088549</td>\n",
       "      <td>0.088549</td>\n",
       "    </tr>\n",
       "    <tr>\n",
       "      <th>24</th>\n",
       "      <td>0.311455</td>\n",
       "      <td>0.311455</td>\n",
       "      <td>0.311455</td>\n",
       "      <td>0.311455</td>\n",
       "      <td>0.311455</td>\n",
       "      <td>0.311455</td>\n",
       "      <td>0.311455</td>\n",
       "      <td>0.311455</td>\n",
       "      <td>0.311455</td>\n",
       "      <td>0.311455</td>\n",
       "      <td>0.311455</td>\n",
       "      <td>0.311455</td>\n",
       "      <td>0.311455</td>\n",
       "      <td>0.311455</td>\n",
       "      <td>0.311455</td>\n",
       "      <td>0.311455</td>\n",
       "      <td>0.311455</td>\n",
       "      <td>0.311455</td>\n",
       "      <td>0.311455</td>\n",
       "      <td>0.311455</td>\n",
       "    </tr>\n",
       "    <tr>\n",
       "      <th>26</th>\n",
       "      <td>0.009001</td>\n",
       "      <td>0.009001</td>\n",
       "      <td>0.009001</td>\n",
       "      <td>0.009001</td>\n",
       "      <td>0.009001</td>\n",
       "      <td>0.009001</td>\n",
       "      <td>0.009001</td>\n",
       "      <td>0.009001</td>\n",
       "      <td>0.009001</td>\n",
       "      <td>0.009001</td>\n",
       "      <td>0.009001</td>\n",
       "      <td>0.009001</td>\n",
       "      <td>0.009001</td>\n",
       "      <td>0.009001</td>\n",
       "      <td>0.009001</td>\n",
       "      <td>0.009001</td>\n",
       "      <td>0.009001</td>\n",
       "      <td>0.009001</td>\n",
       "      <td>0.009001</td>\n",
       "      <td>0.009001</td>\n",
       "    </tr>\n",
       "    <tr>\n",
       "      <th>27</th>\n",
       "      <td>0.226154</td>\n",
       "      <td>0.226154</td>\n",
       "      <td>0.226154</td>\n",
       "      <td>0.226154</td>\n",
       "      <td>0.226154</td>\n",
       "      <td>0.226154</td>\n",
       "      <td>0.226154</td>\n",
       "      <td>0.226154</td>\n",
       "      <td>0.226154</td>\n",
       "      <td>0.226154</td>\n",
       "      <td>0.226154</td>\n",
       "      <td>0.226154</td>\n",
       "      <td>0.226154</td>\n",
       "      <td>0.226154</td>\n",
       "      <td>0.226154</td>\n",
       "      <td>0.226154</td>\n",
       "      <td>0.226154</td>\n",
       "      <td>0.226154</td>\n",
       "      <td>0.226154</td>\n",
       "      <td>0.226154</td>\n",
       "    </tr>\n",
       "    <tr>\n",
       "      <th>28</th>\n",
       "      <td>0.064836</td>\n",
       "      <td>0.064836</td>\n",
       "      <td>0.064836</td>\n",
       "      <td>0.064836</td>\n",
       "      <td>0.064836</td>\n",
       "      <td>0.064836</td>\n",
       "      <td>0.064836</td>\n",
       "      <td>0.064836</td>\n",
       "      <td>0.064836</td>\n",
       "      <td>0.064836</td>\n",
       "      <td>0.064836</td>\n",
       "      <td>0.064836</td>\n",
       "      <td>0.064836</td>\n",
       "      <td>0.064836</td>\n",
       "      <td>0.064836</td>\n",
       "      <td>0.064836</td>\n",
       "      <td>0.064836</td>\n",
       "      <td>0.064836</td>\n",
       "      <td>0.064836</td>\n",
       "      <td>0.064836</td>\n",
       "    </tr>\n",
       "  </tbody>\n",
       "</table>\n",
       "</div>"
      ],
      "text/plain": [
       "                      0         1         2         3         4         5  \\\n",
       "atomic_number                                                               \n",
       "8              0.300004  0.300004  0.300004  0.300004  0.300004  0.300004   \n",
       "23             0.088549  0.088549  0.088549  0.088549  0.088549  0.088549   \n",
       "24             0.311455  0.311455  0.311455  0.311455  0.311455  0.311455   \n",
       "26             0.009001  0.009001  0.009001  0.009001  0.009001  0.009001   \n",
       "27             0.226154  0.226154  0.226154  0.226154  0.226154  0.226154   \n",
       "28             0.064836  0.064836  0.064836  0.064836  0.064836  0.064836   \n",
       "\n",
       "                      6         7         8         9        10        11  \\\n",
       "atomic_number                                                               \n",
       "8              0.300004  0.300004  0.300004  0.300004  0.300004  0.300004   \n",
       "23             0.088549  0.088549  0.088549  0.088549  0.088549  0.088549   \n",
       "24             0.311455  0.311455  0.311455  0.311455  0.311455  0.311455   \n",
       "26             0.009001  0.009001  0.009001  0.009001  0.009001  0.009001   \n",
       "27             0.226154  0.226154  0.226154  0.226154  0.226154  0.226154   \n",
       "28             0.064836  0.064836  0.064836  0.064836  0.064836  0.064836   \n",
       "\n",
       "                     12        13        14        15        16        17  \\\n",
       "atomic_number                                                               \n",
       "8              0.300004  0.300004  0.300004  0.300004  0.300004  0.300004   \n",
       "23             0.088549  0.088549  0.088549  0.088549  0.088549  0.088549   \n",
       "24             0.311455  0.311455  0.311455  0.311455  0.311455  0.311455   \n",
       "26             0.009001  0.009001  0.009001  0.009001  0.009001  0.009001   \n",
       "27             0.226154  0.226154  0.226154  0.226154  0.226154  0.226154   \n",
       "28             0.064836  0.064836  0.064836  0.064836  0.064836  0.064836   \n",
       "\n",
       "                     18        19  \n",
       "atomic_number                      \n",
       "8              0.300004  0.300004  \n",
       "23             0.088549  0.088549  \n",
       "24             0.311455  0.311455  \n",
       "26             0.009001  0.009001  \n",
       "27             0.226154  0.226154  \n",
       "28             0.064836  0.064836  "
      ]
     },
     "execution_count": 10,
     "metadata": {},
     "output_type": "execute_result"
    }
   ],
   "source": [
    "abund_isotopes_config = copy.deepcopy(base_config)\n",
    "\n",
    "abund_isotopes_config.supernova.time_explosion = 10 * u.day\n",
    "\n",
    "abund_isotopes_config.model.structure.velocity.num = 20\n",
    "\n",
    "abund_isotopes_config.model.abundances = {'type':'uniform',\n",
    "                                            'O':.3,\n",
    "                                            'Ni56':.2,\n",
    "                                            'Ni57':.1,\n",
    "                                            'Cr51':.4}\n",
    "\n",
    "abund_isotopes_model = Radial1DModel.from_config(abund_isotopes_config)\n",
    "\n",
    "abund_isotopes_model.abundance"
   ]
  },
  {
   "cell_type": "markdown",
   "id": "9fded236",
   "metadata": {},
   "source": [
    "## Radiative Temperature\n",
    "\n",
    "Insert explanation here\n",
    "\n",
    "This uses the innter temperature, i.e. the temperature of the photosphere. This is calculated as\n",
    "eqn\n",
    "where $L$ is blah. The rationale for this equation will be explained in [Energy Packet Initialization](../montecarlo/initialization.ipynb). **is this how I want to do this?**\n",
    "\n",
    "**Note about how t_inner or t_rad can be input (in plasma or t_rad in csvy). Note about how t_rad and t_inner change throughout sim (talk abt if you don't want it to change?).**\n",
    "\n",
    "<div class=\"alert alert-info\">\n",
    "    \n",
    "Note\n",
    "\n",
    "The indivisible energy packet scheme does not require that all packets have the same energy. This is just a convenient and simple choice adopted in TARDIS.\n",
    "\n",
    "</div>\n",
    "\n",
    "<div class=\"alert alert-info\">\n",
    "    \n",
    "Note\n",
    "\n",
    "The indivisible energy packet scheme does not require that all packets have the same energy. This is just a convenient and simple choice adopted in TARDIS.\n",
    "\n",
    "</div>"
   ]
  },
  {
   "cell_type": "code",
   "execution_count": 14,
   "id": "6489e3fb",
   "metadata": {},
   "outputs": [
    {
     "name": "stdout",
     "output_type": "stream",
     "text": [
      "t_inner:\n",
      " 93122.09836905584 K\n",
      "t_rad:\n",
      " [93114.33346946 93098.80755443 93083.28681612 93067.77125196\n",
      " 93052.26085936 93036.75563572 93021.25557846 93005.76068501\n",
      " 92990.27095279 92974.78637921 92959.30696169 92943.83269767\n",
      " 92928.36358457 92912.89961982 92897.44080085 92881.98712509\n",
      " 92866.53858997 92851.09519294 92835.65693142 92820.22380286] K\n"
     ]
    },
    {
     "data": {
      "image/png": "[encoded data removed]",
      "text/plain": [
       "<Figure size 432x288 with 1 Axes>"
      ]
     },
     "metadata": {
      "needs_background": "light"
     },
     "output_type": "display_data"
    }
   ],
   "source": [
    "t_rad_config = copy.deepcopy(base_config)\n",
    "\n",
    "t_rad_config.supernova.time_explosion = 10 * u.day\n",
    "\n",
    "# In the configuration file, but not here, the luminosity requested can be\n",
    "# given on a logarithmic scale based on the luminosity of the sun.\n",
    "t_rad_config.supernova.luminosity_requested = 4e44 * u.erg/u.s\n",
    "\n",
    "# This line is necessary to indicate we are using a built-in shell structure\n",
    "# and density. Do not change it.\n",
    "t_rad_config.model.structure.type = 'specific'\n",
    "\n",
    "t_rad_config.model.structure.velocity.start = 1000 * u.km/u.s\n",
    "t_rad_config.model.structure.velocity.stop = 2000 * u.km/u.s\n",
    "t_rad_config.model.structure.velocity.num = 20\n",
    "\n",
    "t_rad_model = Radial1DModel.from_config(t_rad_config)\n",
    "\n",
    "print('t_inner:\\n', t_rad_model.t_inner)\n",
    "print('t_rad:\\n', t_rad_model.t_rad)\n",
    "\n",
    "plt.plot(t_rad_model.r_middle, t_rad_model.t_rad)\n",
    "plt.scatter(t_rad_model.radius[0], t_rad_model.t_inner)\n",
    "plt.xlabel(f'Radius ({t_rad_model.r_middle.unit})')\n",
    "plt.ylabel(f'Radiative Temperature ({t_rad_model.t_rad.unit})');\n",
    "######################add legend???????????????"
   ]
  },
  {
   "cell_type": "markdown",
   "id": "292067b3",
   "metadata": {},
   "source": [
    "## Dilution Factor\n",
    "\n",
    "**Note about how w can be input (in csvy). Note about how w throughout sim (talk abt if you don't want it to change?).**\n",
    "\n",
    "<div class=\"alert alert-info\">\n",
    "    \n",
    "Note\n",
    "\n",
    "The indivisible energy packet scheme does not require that all packets have the same energy. This is just a convenient and simple choice adopted in TARDIS.\n",
    "\n",
    "</div>\n",
    "\n",
    "<div class=\"alert alert-info\">\n",
    "    \n",
    "Note\n",
    "\n",
    "The indivisible energy packet scheme does not require that all packets have the same energy. This is just a convenient and simple choice adopted in TARDIS.\n",
    "\n",
    "</div>"
   ]
  },
  {
   "cell_type": "code",
   "execution_count": 12,
   "id": "ab1f9ac8",
   "metadata": {
    "scrolled": false
   },
   "outputs": [
    {
     "name": "stdout",
     "output_type": "stream",
     "text": [
      "w:\n",
      " [0.3902439  0.31651472 0.27093858 0.23746888 0.21120466 0.1898178\n",
      " 0.17197474 0.15682571 0.14379052 0.13245342 0.12250561 0.11371132\n",
      " 0.10588651 0.09888494 0.09258861 0.08690114 0.08174289 0.07704742\n",
      " 0.07275885 0.06882984]\n"
     ]
    },
    {
     "data": {
      "image/png": "[encoded data removed]",
      "text/plain": [
       "<Figure size 432x288 with 1 Axes>"
      ]
     },
     "metadata": {
      "needs_background": "light"
     },
     "output_type": "display_data"
    }
   ],
   "source": [
    "w_config = copy.deepcopy(base_config)\n",
    "\n",
    "w_config.supernova.time_explosion = 10 * u.day\n",
    "\n",
    "# This line is necessary to indicate we are using a built-in shell structure\n",
    "# and density. Do not change it.\n",
    "w_config.model.structure.type = 'specific'\n",
    "\n",
    "w_config.model.structure.velocity.start = 1000 * u.km/u.s\n",
    "w_config.model.structure.velocity.stop = 2000 * u.km/u.s\n",
    "w_config.model.structure.velocity.num = 20\n",
    "\n",
    "w_model = Radial1DModel.from_config(w_config)\n",
    "\n",
    "print('w:\\n', w_model.w)\n",
    "\n",
    "plt.plot(w_model.r_middle, w_model.w)\n",
    "plt.xlabel(f'Radius ({w_model.r_middle.unit})')\n",
    "plt.ylabel(f'Dilution Factor');"
   ]
  },
  {
   "cell_type": "code",
   "execution_count": 13,
   "id": "764d15d0",
   "metadata": {},
   "outputs": [
    {
     "name": "stdout",
     "output_type": "stream",
     "text": [
      "[ True  True  True  True  True  True  True  True  True  True  True  True\n",
      "  True  True  True  True  True  True  True  True]\n"
     ]
    }
   ],
   "source": [
    "print(t_rad_model.t_rad == t_rad_model.t_radiative)"
   ]
  }
 ],
 "metadata": {
  "kernelspec": {
   "display_name": "Python 3",
   "language": "python",
   "name": "python3"
  },
  "language_info": {
   "codemirror_mode": {
    "name": "ipython",
    "version": 3
   },
   "file_extension": ".py",
   "mimetype": "text/x-python",
   "name": "python",
   "nbconvert_exporter": "python",
   "pygments_lexer": "ipython3",
   "version": "3.7.10"
  }
 },
 "nbformat": 4,
 "nbformat_minor": 5
}
