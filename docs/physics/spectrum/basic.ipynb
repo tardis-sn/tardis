{
 "cells": [
  {
   "cell_type": "markdown",
   "id": "f9b8f0ce",
   "metadata": {},
   "source": [
    "# Basic Spectrum Generation\n",
    "\n",
    "The first and most simple way in which TARDIS calculates spectra calculates it directly from the Monte Carlo packets after the final [Monte Carlo Iteration](../montecarlo/index.rst). This simply requires knowledge of the each packet's energy and frequency in the lab frame (see [Reference Frames](../montecarlo/propagation.rst#reference-frames)) at the end of the iteration. The only other quantity needed is the time duration of the simulation $\\Delta t$, which is calculated based off of the luminosity of the supernova's photosphere (see [Energy Packet Initialization](../montecarlo/initialization.ipynb)).\n",
    "\n",
    "<div class=\"alert alert-info\">\n",
    "\n",
    "Note\n",
    "\n",
    "The only packets which are used for this calculation are the packets which escape the outer boundary of the\n",
    "computational domain -- those reabsorbed into the photosphere are not included (see [Packet Propagation](../montecarlo/propagation.rst)).\n",
    "\n",
    "</div>\n",
    "\n",
    "The spectrum calculation is very straightforward. A packet of energy $E_\\mathrm{packet}$ contributes a\n",
    "luminosity\n",
    "\n",
    "$$L_\\mathrm{packet} = \\frac{E_\\mathrm{packet}}{\\Delta t}$$\n",
    "\n",
    "to the spectrum at its frequency."
   ]
  },
  {
   "cell_type": "code",
   "execution_count": 28,
   "id": "0c8c4d88",
   "metadata": {},
   "outputs": [],
   "source": [
    "from tardis.io.config_reader import Configuration\n",
    "from tardis.simulation import Simulation\n",
    "from tardis.io.atom_data.util import download_atom_data\n",
    "from tardis.montecarlo import TARDISSpectrum\n",
    "from tardis.util.base import quantity_linspace\n",
    "from astropy import units as u\n",
    "import numpy as np"
   ]
  },
  {
   "cell_type": "code",
   "execution_count": 29,
   "id": "8fa02657",
   "metadata": {},
   "outputs": [],
   "source": [
    "tardis_config = Configuration.from_yaml('tardis_example.yml')\n",
    "\n",
    "sim = Simulation.from_config(tardis_config)\n",
    "\n",
    "sim.iterate(100000)"
   ]
  },
  {
   "cell_type": "code",
   "execution_count": 30,
   "id": "95183918",
   "metadata": {},
   "outputs": [
    {
     "data": {
      "text/latex": [
       "$[3.7217414 \\times 10^{14},~7.1173368 \\times 10^{14},~5.6910126 \\times 10^{14},~\\dots,~1.2011011 \\times 10^{15},~8.1548547 \\times 10^{14},~1.288175 \\times 10^{15}] \\; \\mathrm{Hz}$"
      ],
      "text/plain": [
       "<Quantity [3.72174140e+14, 7.11733683e+14, 5.69101264e+14, ...,\n",
       "           1.20110114e+15, 8.15485472e+14, 1.28817496e+15] Hz>"
      ]
     },
     "execution_count": 30,
     "metadata": {},
     "output_type": "execute_result"
    }
   ],
   "source": [
    "sim.runner.emitted_packet_nu"
   ]
  },
  {
   "cell_type": "code",
   "execution_count": 43,
   "id": "395bd370",
   "metadata": {},
   "outputs": [
    {
     "ename": "AttributeError",
     "evalue": "'MontecarloRunner' object has no attribute 'emitted_packet_energy'",
     "output_type": "error",
     "traceback": [
      "\u001b[0;31m---------------------------------------------------------------------------\u001b[0m",
      "\u001b[0;31mAttributeError\u001b[0m                            Traceback (most recent call last)",
      "\u001b[0;32m<ipython-input-43-a91fe4bce0f7>\u001b[0m in \u001b[0;36m<module>\u001b[0;34m\u001b[0m\n\u001b[0;32m----> 1\u001b[0;31m \u001b[0msim\u001b[0m\u001b[0;34m.\u001b[0m\u001b[0mrunner\u001b[0m\u001b[0;34m.\u001b[0m\u001b[0memitted_packet_energy\u001b[0m\u001b[0;34m\u001b[0m\u001b[0;34m\u001b[0m\u001b[0m\n\u001b[0m",
      "\u001b[0;31mAttributeError\u001b[0m: 'MontecarloRunner' object has no attribute 'emitted_packet_energy'"
     ]
    }
   ],
   "source": [
    "sim.runner.emitted_packet_energy"
   ]
  },
  {
   "cell_type": "code",
   "execution_count": 40,
   "id": "0b462f4b",
   "metadata": {},
   "outputs": [],
   "source": [
    "freq_start = tardis_config.spectrum.stop.to('Hz', u.spectral())\n",
    "freq_stop = tardis_config.spectrum.start.to(\"Hz\", u.spectral())\n",
    "N = tardis_config.spectrum.num"
   ]
  },
  {
   "cell_type": "code",
   "execution_count": 42,
   "id": "b97113b9",
   "metadata": {},
   "outputs": [
    {
     "data": {
      "text/latex": [
       "$[1.4989623 \\times 10^{14},~1.5048082 \\times 10^{14},~1.5106542 \\times 10^{14},~\\dots,~5.99468 \\times 10^{15},~5.9952646 \\times 10^{15},~5.9958492 \\times 10^{15}] \\; \\mathrm{Hz}$"
      ],
      "text/plain": [
       "<Quantity [1.49896229e+14, 1.50480824e+14, 1.51065420e+14, ...,\n",
       "           5.99467997e+15, 5.99526456e+15, 5.99584916e+15] Hz>"
      ]
     },
     "execution_count": 42,
     "metadata": {},
     "output_type": "execute_result"
    }
   ],
   "source": [
    "spectrum_frequency = quantity_linspace(freq_start,freq_stop,N + 1,)"
   ]
  },
  {
   "cell_type": "code",
   "execution_count": null,
   "id": "a25a09df",
   "metadata": {},
   "outputs": [],
   "source": [
    "u.Quantity(np.histogram(self.emitted_packet_nu,weights=self.emitted_packet_luminosity,bins=self.spectrum_frequency.value,)[0],\"erg / s\",)"
   ]
  }
 ],
 "metadata": {
  "kernelspec": {
   "display_name": "Python 3",
   "language": "python",
   "name": "python3"
  },
  "language_info": {
   "codemirror_mode": {
    "name": "ipython",
    "version": 3
   },
   "file_extension": ".py",
   "mimetype": "text/x-python",
   "name": "python",
   "nbconvert_exporter": "python",
   "pygments_lexer": "ipython3",
   "version": "3.7.10"
  }
 },
 "nbformat": 4,
 "nbformat_minor": 5
}
