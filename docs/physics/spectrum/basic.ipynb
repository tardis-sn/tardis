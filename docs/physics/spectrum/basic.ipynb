{
 "cells": [
  {
   "cell_type": "markdown",
   "id": "f9b8f0ce",
   "metadata": {},
   "source": [
    "# Basic Spectrum Generation\n",
    "\n",
    "The first and most simple way in which TARDIS calculates spectra calculates it directly from the Monte Carlo packets after the final [Monte Carlo Iteration](../montecarlo/index.rst). This simply requires knowledge of the each packet's energy and frequency in the lab frame (see [Reference Frames](../montecarlo/propagation.rst#reference-frames)) at the end of the iteration. The only other quantity needed is the time duration of the simulation $\\Delta t$, which is calculated based off of the luminosity of the supernova's photosphere (see [Energy Packet Initialization](../montecarlo/initialization.ipynb)).\n",
    "\n",
    "<div class=\"alert alert-info\">\n",
    "\n",
    "Note\n",
    "\n",
    "The only packets which are used for this calculation are the packets which escape the outer boundary of the\n",
    "computational domain -- those reabsorbed into the photosphere are not included (see [Packet Propagation](../montecarlo/propagation.rst)).\n",
    "\n",
    "</div>\n",
    "\n",
    "The spectrum calculation is very straightforward. A packet of energy $E_\\mathrm{packet}$ contributes a\n",
    "luminosity\n",
    "\n",
    "$$L_\\mathrm{packet} = \\frac{E_\\mathrm{packet}}{\\Delta t}$$\n",
    "\n",
    "to the spectrum at its frequency."
   ]
  },
  {
   "cell_type": "code",
   "execution_count": null,
   "id": "0c8c4d88",
   "metadata": {},
   "outputs": [],
   "source": [
    "from tardis.io.config_reader import Configuration\n",
    "from tardis.simulation import Simulation\n",
    "from tardis.montecarlo import TARDISSpectrum\n",
    "from tardis.util.base import quantity_linspace\n",
    "from astropy import units as u\n",
    "import numpy as np"
   ]
  },
  {
   "cell_type": "code",
   "execution_count": null,
   "id": "8fa02657",
   "metadata": {},
   "outputs": [],
   "source": [
    "tardis_config = Configuration.from_yaml('tardis_example.yml')\n",
    "\n",
    "sim = Simulation.from_config(tardis_config)\n",
    "\n",
    "sim.iterate(10000)"
   ]
  },
  {
   "cell_type": "code",
   "execution_count": null,
   "id": "95183918",
   "metadata": {},
   "outputs": [],
   "source": [
    "nus = sim.runner.output_nu\n",
    "nus"
   ]
  },
  {
   "cell_type": "code",
   "execution_count": null,
   "id": "a974b1d8",
   "metadata": {},
   "outputs": [],
   "source": [
    "energies = sim.runner.output_energy\n",
    "energies"
   ]
  },
  {
   "cell_type": "code",
   "execution_count": null,
   "id": "906a6fef",
   "metadata": {},
   "outputs": [],
   "source": [
    "len(nus), len(energies)"
   ]
  },
  {
   "cell_type": "code",
   "execution_count": null,
   "id": "a60e3703",
   "metadata": {},
   "outputs": [],
   "source": [
    "luminosities = energies / sim.runner.time_of_simulation\n",
    "luminosities"
   ]
  },
  {
   "cell_type": "code",
   "execution_count": null,
   "id": "99db05a8",
   "metadata": {},
   "outputs": [],
   "source": [
    "emitted_mask = sim.runner.emitted_packet_mask\n",
    "emitted_mask"
   ]
  },
  {
   "cell_type": "code",
   "execution_count": null,
   "id": "12ebb3a6",
   "metadata": {},
   "outputs": [],
   "source": [
    "emitted_nus = nus[emitted_mask]\n",
    "emitted_nus"
   ]
  },
  {
   "cell_type": "code",
   "execution_count": null,
   "id": "a5e7d721",
   "metadata": {},
   "outputs": [],
   "source": [
    "emitted_luminosities = luminosities[emitted_mask]\n",
    "emitted_luminosities"
   ]
  },
  {
   "cell_type": "code",
   "execution_count": null,
   "id": "ec31fb64",
   "metadata": {},
   "outputs": [],
   "source": [
    "len(emitted_nus), len(emitted_luminosities)"
   ]
  },
  {
   "cell_type": "code",
   "execution_count": null,
   "id": "0b462f4b",
   "metadata": {},
   "outputs": [],
   "source": [
    "freq_start = 1.5e14 * u.Hz\n",
    "freq_stop = 3e15 * u.Hz\n",
    "N = 500"
   ]
  },
  {
   "cell_type": "code",
   "execution_count": null,
   "id": "b97113b9",
   "metadata": {},
   "outputs": [],
   "source": [
    "spectrum_frequency = quantity_linspace(freq_start, freq_stop, N + 1,)\n",
    "spectrum_frequency"
   ]
  },
  {
   "cell_type": "code",
   "execution_count": null,
   "id": "a25a09df",
   "metadata": {},
   "outputs": [],
   "source": [
    "emitted_luminosity_hist = u.Quantity(np.histogram(emitted_nus,\n",
    "                                                  weights=emitted_luminosities,\n",
    "                                                  bins=spectrum_frequency.value,\n",
    "                                                 )[0], \"erg / s\",)\n",
    "emitted_luminosity_hist"
   ]
  },
  {
   "cell_type": "code",
   "execution_count": null,
   "id": "de89ae45",
   "metadata": {},
   "outputs": [],
   "source": [
    "spectrum = TARDISSpectrum(spectrum_frequency, emitted_luminosity_hist)"
   ]
  },
  {
   "cell_type": "code",
   "execution_count": null,
   "id": "22d5d5dd",
   "metadata": {},
   "outputs": [],
   "source": [
    "spectrum.plot(mode='frequency')"
   ]
  },
  {
   "cell_type": "code",
   "execution_count": null,
   "id": "a9a8d287",
   "metadata": {},
   "outputs": [],
   "source": [
    "spectrum.plot(mode='wavelength')"
   ]
  }
 ],
 "metadata": {
  "kernelspec": {
   "display_name": "Python 3",
   "language": "python",
   "name": "python3"
  },
  "language_info": {
   "codemirror_mode": {
    "name": "ipython",
    "version": 3
   },
   "file_extension": ".py",
   "mimetype": "text/x-python",
   "name": "python",
   "nbconvert_exporter": "python",
   "pygments_lexer": "ipython3",
   "version": "3.7.10"
  }
 },
 "nbformat": 4,
 "nbformat_minor": 5
}
