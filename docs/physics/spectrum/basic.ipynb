{
 "cells": [
  {
   "cell_type": "markdown",
   "id": "f9b8f0ce",
   "metadata": {},
   "source": [
    "# Basic Spectrum Generation\n",
    "\n",
    "The first and most simple way in which TARDIS calculates spectra calculates it directly from the Monte Carlo packets after the final [Monte Carlo Iteration](../montecarlo/index.rst). This simply requires knowledge of the each packet's energy and frequency in the lab frame (see [Reference Frames](../montecarlo/propagation.rst#reference-frames)) at the end of the iteration. The only other quantity needed is the time duration of the simulation $\\Delta t$, which is calculated based off of the luminosity of the supernova's photosphere (see [Energy Packet Initialization](../montecarlo/initialization.ipynb)).\n",
    "\n",
    "<div class=\"alert alert-info\">\n",
    "\n",
    "Note\n",
    "\n",
    "The only packets which are used for this calculation are the packets which escape the outer boundary of the\n",
    "computational domain -- those reabsorbed into the photosphere are not included (see [Packet Propagation](../montecarlo/propagation.rst)).\n",
    "\n",
    "</div>\n",
    "\n",
    "The spectrum calculation is very straightforward. A packet of energy $E_\\mathrm{packet}$ contributes a\n",
    "luminosity\n",
    "\n",
    "$$L_\\mathrm{packet} = \\frac{E_\\mathrm{packet}}{\\Delta t}$$\n",
    "\n",
    "to the spectrum at its frequency."
   ]
  },
  {
   "cell_type": "code",
   "execution_count": 1,
   "id": "0c8c4d88",
   "metadata": {},
   "outputs": [
    {
     "name": "stderr",
     "output_type": "stream",
     "text": [
      "/home/smithis7/anaconda3/envs/tardis/lib/python3.7/importlib/_bootstrap.py:219: QAWarning: pyne.data is not yet QA compliant.\n",
      "  return f(*args, **kwds)\n",
      "/home/smithis7/anaconda3/envs/tardis/lib/python3.7/importlib/_bootstrap.py:219: QAWarning: pyne.material is not yet QA compliant.\n",
      "  return f(*args, **kwds)\n"
     ]
    }
   ],
   "source": [
    "from tardis.io.config_reader import Configuration\n",
    "from tardis.simulation import Simulation\n",
    "from tardis.montecarlo import TARDISSpectrum\n",
    "from tardis.util.base import quantity_linspace\n",
    "from astropy import units as u\n",
    "import numpy as np"
   ]
  },
  {
   "cell_type": "code",
   "execution_count": 2,
   "id": "8fa02657",
   "metadata": {},
   "outputs": [
    {
     "name": "stderr",
     "output_type": "stream",
     "text": [
      "/home/smithis7/anaconda3/envs/tardis/lib/python3.7/site-packages/astropy/units/equivalencies.py:124: RuntimeWarning: divide by zero encountered in double_scalars\n",
      "  (si.m, si.Hz, lambda x: _si.c.value / x),\n"
     ]
    }
   ],
   "source": [
    "tardis_config = Configuration.from_yaml('tardis_example.yml')\n",
    "\n",
    "sim = Simulation.from_config(tardis_config)\n",
    "\n",
    "sim.iterate(10000)"
   ]
  },
  {
   "cell_type": "code",
   "execution_count": 3,
   "id": "95183918",
   "metadata": {},
   "outputs": [
    {
     "data": {
      "text/latex": [
       "$[5.1502436 \\times 10^{14},~1.0314726 \\times 10^{15},~1.1886781 \\times 10^{15},~\\dots,~3.8011892 \\times 10^{14},~7.1877638 \\times 10^{14},~7.4821883 \\times 10^{14}] \\; \\mathrm{Hz}$"
      ],
      "text/plain": [
       "<Quantity [5.15024364e+14, 1.03147263e+15, 1.18867809e+15, ...,\n",
       "           3.80118923e+14, 7.18776379e+14, 7.48218831e+14] Hz>"
      ]
     },
     "execution_count": 3,
     "metadata": {},
     "output_type": "execute_result"
    }
   ],
   "source": [
    "nus = sim.runner.output_nu\n",
    "nus"
   ]
  },
  {
   "cell_type": "code",
   "execution_count": 4,
   "id": "a974b1d8",
   "metadata": {},
   "outputs": [
    {
     "data": {
      "text/latex": [
       "$[9.9199317 \\times 10^{-5},~-9.6470273 \\times 10^{-5},~0.00010305137,~\\dots,~0.00010159363,~0.00010370319,~9.7175536 \\times 10^{-5}] \\; \\mathrm{erg}$"
      ],
      "text/plain": [
       "<Quantity [ 9.91993166e-05, -9.64702729e-05,  1.03051369e-04, ...,\n",
       "            1.01593634e-04,  1.03703185e-04,  9.71755356e-05] erg>"
      ]
     },
     "execution_count": 4,
     "metadata": {},
     "output_type": "execute_result"
    }
   ],
   "source": [
    "energies = sim.runner.output_energy\n",
    "energies"
   ]
  },
  {
   "cell_type": "code",
   "execution_count": 21,
   "id": "906a6fef",
   "metadata": {},
   "outputs": [
    {
     "data": {
      "text/plain": [
       "(10000, 10000)"
      ]
     },
     "execution_count": 21,
     "metadata": {},
     "output_type": "execute_result"
    }
   ],
   "source": [
    "len(nus), len(energies)"
   ]
  },
  {
   "cell_type": "code",
   "execution_count": 16,
   "id": "a60e3703",
   "metadata": {},
   "outputs": [
    {
     "data": {
      "text/latex": [
       "$[1.0507949 \\times 10^{39},~-1.0218868 \\times 10^{39},~1.0915988 \\times 10^{39},~\\dots,~1.0761574 \\times 10^{39},~1.0985033 \\times 10^{39},~1.0293575 \\times 10^{39}] \\; \\mathrm{\\frac{erg}{s}}$"
      ],
      "text/plain": [
       "<Quantity [ 1.05079491e+39, -1.02188679e+39,  1.09159879e+39, ...,\n",
       "            1.07615735e+39,  1.09850333e+39,  1.02935748e+39] erg / s>"
      ]
     },
     "execution_count": 16,
     "metadata": {},
     "output_type": "execute_result"
    }
   ],
   "source": [
    "luminosities = energies / sim.runner.time_of_simulation\n",
    "luminosities"
   ]
  },
  {
   "cell_type": "code",
   "execution_count": 6,
   "id": "99db05a8",
   "metadata": {},
   "outputs": [
    {
     "data": {
      "text/plain": [
       "array([ True, False,  True, ...,  True,  True,  True])"
      ]
     },
     "execution_count": 6,
     "metadata": {},
     "output_type": "execute_result"
    }
   ],
   "source": [
    "emitted_mask = sim.runner.emitted_packet_mask\n",
    "emitted_mask"
   ]
  },
  {
   "cell_type": "code",
   "execution_count": 17,
   "id": "12ebb3a6",
   "metadata": {},
   "outputs": [
    {
     "data": {
      "text/plain": [
       "7431"
      ]
     },
     "execution_count": 17,
     "metadata": {},
     "output_type": "execute_result"
    }
   ],
   "source": [
    "emitted_nus = nus[emitted_mask]\n",
    "emitted_nus"
   ]
  },
  {
   "cell_type": "code",
   "execution_count": 18,
   "id": "a5e7d721",
   "metadata": {},
   "outputs": [
    {
     "data": {
      "text/plain": [
       "7431"
      ]
     },
     "execution_count": 18,
     "metadata": {},
     "output_type": "execute_result"
    }
   ],
   "source": [
    "emitted_luminosities = luminosities[emitted_mask]\n",
    "emitted_luminosities"
   ]
  },
  {
   "cell_type": "code",
   "execution_count": 23,
   "id": "ec31fb64",
   "metadata": {},
   "outputs": [
    {
     "data": {
      "text/plain": [
       "(7431, 7431)"
      ]
     },
     "execution_count": 23,
     "metadata": {},
     "output_type": "execute_result"
    }
   ],
   "source": [
    "len(emitted_nus), len(emitted_luminosities)"
   ]
  },
  {
   "cell_type": "code",
   "execution_count": 9,
   "id": "0b462f4b",
   "metadata": {},
   "outputs": [],
   "source": [
    "freq_start = 1.5e14 * u.Hz\n",
    "freq_stop = 3e15 * u.Hz\n",
    "N = 500"
   ]
  },
  {
   "cell_type": "code",
   "execution_count": 24,
   "id": "b97113b9",
   "metadata": {},
   "outputs": [
    {
     "data": {
      "text/latex": [
       "$[1.5 \\times 10^{14},~1.557 \\times 10^{14},~1.614 \\times 10^{14},~\\dots,~2.9886 \\times 10^{15},~2.9943 \\times 10^{15},~3 \\times 10^{15}] \\; \\mathrm{Hz}$"
      ],
      "text/plain": [
       "<Quantity [1.5000e+14, 1.5570e+14, 1.6140e+14, 1.6710e+14, 1.7280e+14,\n",
       "           1.7850e+14, 1.8420e+14, 1.8990e+14, 1.9560e+14, 2.0130e+14,\n",
       "           2.0700e+14, 2.1270e+14, 2.1840e+14, 2.2410e+14, 2.2980e+14,\n",
       "           2.3550e+14, 2.4120e+14, 2.4690e+14, 2.5260e+14, 2.5830e+14,\n",
       "           2.6400e+14, 2.6970e+14, 2.7540e+14, 2.8110e+14, 2.8680e+14,\n",
       "           2.9250e+14, 2.9820e+14, 3.0390e+14, 3.0960e+14, 3.1530e+14,\n",
       "           3.2100e+14, 3.2670e+14, 3.3240e+14, 3.3810e+14, 3.4380e+14,\n",
       "           3.4950e+14, 3.5520e+14, 3.6090e+14, 3.6660e+14, 3.7230e+14,\n",
       "           3.7800e+14, 3.8370e+14, 3.8940e+14, 3.9510e+14, 4.0080e+14,\n",
       "           4.0650e+14, 4.1220e+14, 4.1790e+14, 4.2360e+14, 4.2930e+14,\n",
       "           4.3500e+14, 4.4070e+14, 4.4640e+14, 4.5210e+14, 4.5780e+14,\n",
       "           4.6350e+14, 4.6920e+14, 4.7490e+14, 4.8060e+14, 4.8630e+14,\n",
       "           4.9200e+14, 4.9770e+14, 5.0340e+14, 5.0910e+14, 5.1480e+14,\n",
       "           5.2050e+14, 5.2620e+14, 5.3190e+14, 5.3760e+14, 5.4330e+14,\n",
       "           5.4900e+14, 5.5470e+14, 5.6040e+14, 5.6610e+14, 5.7180e+14,\n",
       "           5.7750e+14, 5.8320e+14, 5.8890e+14, 5.9460e+14, 6.0030e+14,\n",
       "           6.0600e+14, 6.1170e+14, 6.1740e+14, 6.2310e+14, 6.2880e+14,\n",
       "           6.3450e+14, 6.4020e+14, 6.4590e+14, 6.5160e+14, 6.5730e+14,\n",
       "           6.6300e+14, 6.6870e+14, 6.7440e+14, 6.8010e+14, 6.8580e+14,\n",
       "           6.9150e+14, 6.9720e+14, 7.0290e+14, 7.0860e+14, 7.1430e+14,\n",
       "           7.2000e+14, 7.2570e+14, 7.3140e+14, 7.3710e+14, 7.4280e+14,\n",
       "           7.4850e+14, 7.5420e+14, 7.5990e+14, 7.6560e+14, 7.7130e+14,\n",
       "           7.7700e+14, 7.8270e+14, 7.8840e+14, 7.9410e+14, 7.9980e+14,\n",
       "           8.0550e+14, 8.1120e+14, 8.1690e+14, 8.2260e+14, 8.2830e+14,\n",
       "           8.3400e+14, 8.3970e+14, 8.4540e+14, 8.5110e+14, 8.5680e+14,\n",
       "           8.6250e+14, 8.6820e+14, 8.7390e+14, 8.7960e+14, 8.8530e+14,\n",
       "           8.9100e+14, 8.9670e+14, 9.0240e+14, 9.0810e+14, 9.1380e+14,\n",
       "           9.1950e+14, 9.2520e+14, 9.3090e+14, 9.3660e+14, 9.4230e+14,\n",
       "           9.4800e+14, 9.5370e+14, 9.5940e+14, 9.6510e+14, 9.7080e+14,\n",
       "           9.7650e+14, 9.8220e+14, 9.8790e+14, 9.9360e+14, 9.9930e+14,\n",
       "           1.0050e+15, 1.0107e+15, 1.0164e+15, 1.0221e+15, 1.0278e+15,\n",
       "           1.0335e+15, 1.0392e+15, 1.0449e+15, 1.0506e+15, 1.0563e+15,\n",
       "           1.0620e+15, 1.0677e+15, 1.0734e+15, 1.0791e+15, 1.0848e+15,\n",
       "           1.0905e+15, 1.0962e+15, 1.1019e+15, 1.1076e+15, 1.1133e+15,\n",
       "           1.1190e+15, 1.1247e+15, 1.1304e+15, 1.1361e+15, 1.1418e+15,\n",
       "           1.1475e+15, 1.1532e+15, 1.1589e+15, 1.1646e+15, 1.1703e+15,\n",
       "           1.1760e+15, 1.1817e+15, 1.1874e+15, 1.1931e+15, 1.1988e+15,\n",
       "           1.2045e+15, 1.2102e+15, 1.2159e+15, 1.2216e+15, 1.2273e+15,\n",
       "           1.2330e+15, 1.2387e+15, 1.2444e+15, 1.2501e+15, 1.2558e+15,\n",
       "           1.2615e+15, 1.2672e+15, 1.2729e+15, 1.2786e+15, 1.2843e+15,\n",
       "           1.2900e+15, 1.2957e+15, 1.3014e+15, 1.3071e+15, 1.3128e+15,\n",
       "           1.3185e+15, 1.3242e+15, 1.3299e+15, 1.3356e+15, 1.3413e+15,\n",
       "           1.3470e+15, 1.3527e+15, 1.3584e+15, 1.3641e+15, 1.3698e+15,\n",
       "           1.3755e+15, 1.3812e+15, 1.3869e+15, 1.3926e+15, 1.3983e+15,\n",
       "           1.4040e+15, 1.4097e+15, 1.4154e+15, 1.4211e+15, 1.4268e+15,\n",
       "           1.4325e+15, 1.4382e+15, 1.4439e+15, 1.4496e+15, 1.4553e+15,\n",
       "           1.4610e+15, 1.4667e+15, 1.4724e+15, 1.4781e+15, 1.4838e+15,\n",
       "           1.4895e+15, 1.4952e+15, 1.5009e+15, 1.5066e+15, 1.5123e+15,\n",
       "           1.5180e+15, 1.5237e+15, 1.5294e+15, 1.5351e+15, 1.5408e+15,\n",
       "           1.5465e+15, 1.5522e+15, 1.5579e+15, 1.5636e+15, 1.5693e+15,\n",
       "           1.5750e+15, 1.5807e+15, 1.5864e+15, 1.5921e+15, 1.5978e+15,\n",
       "           1.6035e+15, 1.6092e+15, 1.6149e+15, 1.6206e+15, 1.6263e+15,\n",
       "           1.6320e+15, 1.6377e+15, 1.6434e+15, 1.6491e+15, 1.6548e+15,\n",
       "           1.6605e+15, 1.6662e+15, 1.6719e+15, 1.6776e+15, 1.6833e+15,\n",
       "           1.6890e+15, 1.6947e+15, 1.7004e+15, 1.7061e+15, 1.7118e+15,\n",
       "           1.7175e+15, 1.7232e+15, 1.7289e+15, 1.7346e+15, 1.7403e+15,\n",
       "           1.7460e+15, 1.7517e+15, 1.7574e+15, 1.7631e+15, 1.7688e+15,\n",
       "           1.7745e+15, 1.7802e+15, 1.7859e+15, 1.7916e+15, 1.7973e+15,\n",
       "           1.8030e+15, 1.8087e+15, 1.8144e+15, 1.8201e+15, 1.8258e+15,\n",
       "           1.8315e+15, 1.8372e+15, 1.8429e+15, 1.8486e+15, 1.8543e+15,\n",
       "           1.8600e+15, 1.8657e+15, 1.8714e+15, 1.8771e+15, 1.8828e+15,\n",
       "           1.8885e+15, 1.8942e+15, 1.8999e+15, 1.9056e+15, 1.9113e+15,\n",
       "           1.9170e+15, 1.9227e+15, 1.9284e+15, 1.9341e+15, 1.9398e+15,\n",
       "           1.9455e+15, 1.9512e+15, 1.9569e+15, 1.9626e+15, 1.9683e+15,\n",
       "           1.9740e+15, 1.9797e+15, 1.9854e+15, 1.9911e+15, 1.9968e+15,\n",
       "           2.0025e+15, 2.0082e+15, 2.0139e+15, 2.0196e+15, 2.0253e+15,\n",
       "           2.0310e+15, 2.0367e+15, 2.0424e+15, 2.0481e+15, 2.0538e+15,\n",
       "           2.0595e+15, 2.0652e+15, 2.0709e+15, 2.0766e+15, 2.0823e+15,\n",
       "           2.0880e+15, 2.0937e+15, 2.0994e+15, 2.1051e+15, 2.1108e+15,\n",
       "           2.1165e+15, 2.1222e+15, 2.1279e+15, 2.1336e+15, 2.1393e+15,\n",
       "           2.1450e+15, 2.1507e+15, 2.1564e+15, 2.1621e+15, 2.1678e+15,\n",
       "           2.1735e+15, 2.1792e+15, 2.1849e+15, 2.1906e+15, 2.1963e+15,\n",
       "           2.2020e+15, 2.2077e+15, 2.2134e+15, 2.2191e+15, 2.2248e+15,\n",
       "           2.2305e+15, 2.2362e+15, 2.2419e+15, 2.2476e+15, 2.2533e+15,\n",
       "           2.2590e+15, 2.2647e+15, 2.2704e+15, 2.2761e+15, 2.2818e+15,\n",
       "           2.2875e+15, 2.2932e+15, 2.2989e+15, 2.3046e+15, 2.3103e+15,\n",
       "           2.3160e+15, 2.3217e+15, 2.3274e+15, 2.3331e+15, 2.3388e+15,\n",
       "           2.3445e+15, 2.3502e+15, 2.3559e+15, 2.3616e+15, 2.3673e+15,\n",
       "           2.3730e+15, 2.3787e+15, 2.3844e+15, 2.3901e+15, 2.3958e+15,\n",
       "           2.4015e+15, 2.4072e+15, 2.4129e+15, 2.4186e+15, 2.4243e+15,\n",
       "           2.4300e+15, 2.4357e+15, 2.4414e+15, 2.4471e+15, 2.4528e+15,\n",
       "           2.4585e+15, 2.4642e+15, 2.4699e+15, 2.4756e+15, 2.4813e+15,\n",
       "           2.4870e+15, 2.4927e+15, 2.4984e+15, 2.5041e+15, 2.5098e+15,\n",
       "           2.5155e+15, 2.5212e+15, 2.5269e+15, 2.5326e+15, 2.5383e+15,\n",
       "           2.5440e+15, 2.5497e+15, 2.5554e+15, 2.5611e+15, 2.5668e+15,\n",
       "           2.5725e+15, 2.5782e+15, 2.5839e+15, 2.5896e+15, 2.5953e+15,\n",
       "           2.6010e+15, 2.6067e+15, 2.6124e+15, 2.6181e+15, 2.6238e+15,\n",
       "           2.6295e+15, 2.6352e+15, 2.6409e+15, 2.6466e+15, 2.6523e+15,\n",
       "           2.6580e+15, 2.6637e+15, 2.6694e+15, 2.6751e+15, 2.6808e+15,\n",
       "           2.6865e+15, 2.6922e+15, 2.6979e+15, 2.7036e+15, 2.7093e+15,\n",
       "           2.7150e+15, 2.7207e+15, 2.7264e+15, 2.7321e+15, 2.7378e+15,\n",
       "           2.7435e+15, 2.7492e+15, 2.7549e+15, 2.7606e+15, 2.7663e+15,\n",
       "           2.7720e+15, 2.7777e+15, 2.7834e+15, 2.7891e+15, 2.7948e+15,\n",
       "           2.8005e+15, 2.8062e+15, 2.8119e+15, 2.8176e+15, 2.8233e+15,\n",
       "           2.8290e+15, 2.8347e+15, 2.8404e+15, 2.8461e+15, 2.8518e+15,\n",
       "           2.8575e+15, 2.8632e+15, 2.8689e+15, 2.8746e+15, 2.8803e+15,\n",
       "           2.8860e+15, 2.8917e+15, 2.8974e+15, 2.9031e+15, 2.9088e+15,\n",
       "           2.9145e+15, 2.9202e+15, 2.9259e+15, 2.9316e+15, 2.9373e+15,\n",
       "           2.9430e+15, 2.9487e+15, 2.9544e+15, 2.9601e+15, 2.9658e+15,\n",
       "           2.9715e+15, 2.9772e+15, 2.9829e+15, 2.9886e+15, 2.9943e+15,\n",
       "           3.0000e+15] Hz>"
      ]
     },
     "execution_count": 24,
     "metadata": {},
     "output_type": "execute_result"
    }
   ],
   "source": [
    "spectrum_frequency = quantity_linspace(freq_start, freq_stop, N + 1,)\n",
    "spectrum_frequency"
   ]
  },
  {
   "cell_type": "code",
   "execution_count": 11,
   "id": "a25a09df",
   "metadata": {},
   "outputs": [
    {
     "data": {
      "text/latex": [
       "$[1.2876219 \\times 10^{40},~1.5153765 \\times 10^{40},~1.8347246 \\times 10^{40},~\\dots,~0,~0,~0] \\; \\mathrm{\\frac{erg}{s}}$"
      ],
      "text/plain": [
       "<Quantity [1.28762188e+40, 1.51537652e+40, 1.83472455e+40, 1.18413698e+40,\n",
       "           1.62502763e+40, 2.45896256e+40, 1.60567236e+40, 2.23435434e+40,\n",
       "           1.19099721e+40, 1.29189981e+40, 2.26960450e+40, 2.80357255e+40,\n",
       "           2.25551060e+40, 3.21021738e+40, 2.47344815e+40, 2.79827095e+40,\n",
       "           2.68735217e+40, 2.37451224e+40, 2.48726399e+40, 2.24735794e+40,\n",
       "           3.88466239e+40, 3.78224110e+40, 3.11909104e+40, 2.36154901e+40,\n",
       "           2.92580735e+40, 3.74808465e+40, 4.07002080e+40, 3.12904167e+40,\n",
       "           3.77553585e+40, 3.88293704e+40, 3.13109192e+40, 2.67828850e+40,\n",
       "           3.32604293e+40, 3.64567521e+40, 4.63706239e+40, 3.56372007e+40,\n",
       "           4.10064957e+40, 3.66237973e+40, 3.75928478e+40, 4.19457400e+40,\n",
       "           3.97335971e+40, 4.65475755e+40, 3.21914462e+40, 5.69773928e+40,\n",
       "           3.98783133e+40, 4.53841948e+40, 4.32302809e+40, 5.25396693e+40,\n",
       "           4.83802822e+40, 4.73762308e+40, 4.84330614e+40, 5.04960503e+40,\n",
       "           4.00559426e+40, 5.49311240e+40, 5.69892865e+40, 6.70091375e+40,\n",
       "           5.04260248e+40, 4.51676233e+40, 4.20606591e+40, 2.34535123e+40,\n",
       "           2.36049281e+40, 4.11154564e+40, 5.69767625e+40, 4.84917832e+40,\n",
       "           4.27820530e+40, 4.71757108e+40, 5.58796070e+40, 5.81210957e+40,\n",
       "           3.88215605e+40, 3.65033754e+40, 2.14415376e+40, 4.81881594e+40,\n",
       "           2.75994771e+40, 3.98089882e+40, 2.24508083e+40, 4.07666421e+40,\n",
       "           5.82202190e+40, 3.77394583e+40, 3.44106437e+40, 4.52887096e+40,\n",
       "           3.99100514e+40, 2.87302786e+40, 2.77545753e+40, 3.53782689e+40,\n",
       "           3.44174431e+40, 3.73147236e+40, 4.62115412e+40, 4.61829021e+40,\n",
       "           4.97421585e+40, 5.26018000e+40, 5.40790806e+40, 4.52759579e+40,\n",
       "           3.98109361e+40, 3.98293423e+40, 3.78074184e+40, 4.81480538e+40,\n",
       "           5.09037808e+40, 4.93637495e+40, 3.87693762e+40, 4.53728688e+40,\n",
       "           4.19674782e+40, 4.75463025e+40, 4.20998195e+40, 2.80348973e+40,\n",
       "           3.70995642e+40, 4.65875980e+40, 3.64250769e+40, 6.65239930e+40,\n",
       "           5.15298780e+40, 3.85750033e+40, 2.88147444e+40, 2.22112226e+40,\n",
       "           2.24850195e+40, 1.58926471e+40, 3.09900104e+40, 2.56837570e+40,\n",
       "           3.95602838e+40, 4.54813614e+40, 3.85537930e+40, 4.09558257e+40,\n",
       "           4.54063904e+40, 4.00300831e+40, 4.30552492e+40, 3.99999833e+40,\n",
       "           4.09216097e+40, 4.10299111e+40, 2.58829096e+40, 4.86555521e+40,\n",
       "           4.62568668e+40, 4.30868530e+40, 5.08582544e+40, 3.24861811e+40,\n",
       "           4.10089704e+40, 4.64679133e+40, 4.75922524e+40, 4.32148112e+40,\n",
       "           3.99609190e+40, 3.11245215e+40, 3.25012016e+40, 4.00302380e+40,\n",
       "           2.90785653e+40, 3.55666037e+40, 3.87817470e+40, 2.33569316e+40,\n",
       "           3.01327229e+40, 2.91411061e+40, 3.76871811e+40, 2.69358108e+40,\n",
       "           2.56712315e+40, 2.90413464e+40, 2.14887318e+40, 3.44276820e+40,\n",
       "           3.22130508e+40, 2.55228278e+40, 3.54556514e+40, 2.92758970e+40,\n",
       "           3.31190628e+40, 2.43967005e+40, 2.96348403e+40, 3.50934014e+40,\n",
       "           2.87673511e+40, 4.32702568e+40, 3.96056335e+40, 3.53096758e+40,\n",
       "           4.06589378e+40, 2.55832397e+40, 4.29098130e+40, 2.24939744e+40,\n",
       "           1.50657477e+40, 8.53055285e+39, 8.55940282e+39, 1.04365766e+40,\n",
       "           6.30982606e+39, 1.68600189e+40, 2.01205327e+40, 3.50627113e+40,\n",
       "           3.82637573e+40, 2.44270673e+40, 3.36857102e+40, 3.84484643e+40,\n",
       "           3.09586561e+40, 3.19626563e+40, 3.40454708e+40, 3.07441755e+40,\n",
       "           2.99817604e+40, 3.11099699e+40, 1.50914399e+40, 1.58728115e+40,\n",
       "           1.06227728e+40, 1.28486285e+40, 6.42858654e+39, 7.42463713e+39,\n",
       "           4.27426069e+39, 5.30060625e+39, 5.29243425e+39, 2.10548565e+39,\n",
       "           4.22304715e+39, 3.20161051e+39, 1.70613755e+40, 1.93879595e+40,\n",
       "           1.49567303e+40, 1.06647953e+40, 1.19335387e+40, 1.73307780e+40,\n",
       "           1.18015933e+40, 1.61019768e+40, 1.17418347e+40, 1.61236138e+40,\n",
       "           1.38729105e+40, 1.39425149e+40, 2.57755075e+40, 1.73737103e+40,\n",
       "           1.17908049e+40, 1.18620536e+40, 1.62431073e+40, 1.29493001e+40,\n",
       "           1.29248600e+40, 1.73185423e+40, 1.18430642e+40, 1.83016647e+40,\n",
       "           8.58470141e+39, 1.62648099e+40, 2.06236372e+40, 8.60833436e+39,\n",
       "           1.60778055e+40, 1.18495500e+40, 1.61575477e+40, 9.65014543e+39,\n",
       "           1.71730279e+40, 1.18090697e+40, 7.54444724e+39, 7.38553350e+39,\n",
       "           5.46898516e+39, 9.69584753e+39, 9.77465668e+39, 9.61299681e+39,\n",
       "           7.50010421e+39, 1.05105155e+39, 8.51331735e+39, 6.40585342e+39,\n",
       "           9.63539437e+39, 9.60177120e+39, 9.58770888e+39, 5.44763659e+39,\n",
       "           4.34226607e+39, 1.19302187e+40, 8.67257881e+39, 1.39501617e+40,\n",
       "           8.61702098e+39, 2.38670663e+40, 9.70378231e+39, 1.40439698e+40,\n",
       "           5.25052954e+39, 9.72380254e+39, 9.43801105e+39, 1.49564931e+40,\n",
       "           7.61331712e+39, 1.38964755e+40, 1.07518397e+40, 9.53428468e+39,\n",
       "           1.08644410e+40, 7.57692295e+39, 1.05399041e+40, 5.43376994e+39,\n",
       "           6.37935280e+39, 7.29311299e+39, 5.22064983e+39, 7.39015760e+39,\n",
       "           5.33787925e+39, 7.47214227e+39, 4.28672831e+39, 8.40983422e+39,\n",
       "           4.32317596e+39, 7.53894452e+39, 2.18401007e+39, 4.26969182e+39,\n",
       "           2.08466232e+39, 0.00000000e+00, 2.08608061e+39, 2.16709719e+39,\n",
       "           3.23816134e+39, 1.06114254e+39, 1.05512159e+39, 0.00000000e+00,\n",
       "           1.07626972e+39, 4.26321157e+39, 1.08526608e+39, 2.14189204e+39,\n",
       "           7.47709073e+39, 6.54877620e+39, 4.23741382e+39, 3.10692573e+39,\n",
       "           1.09926458e+39, 4.28006120e+39, 2.16642677e+39, 5.43334317e+39,\n",
       "           4.36698579e+39, 2.17323913e+39, 2.09815533e+39, 1.07871813e+39,\n",
       "           7.58770907e+39, 5.34048635e+39, 6.35572715e+39, 3.25602056e+39,\n",
       "           6.41644102e+39, 4.04416988e+39, 3.22392774e+39, 2.07647416e+39,\n",
       "           2.17922764e+39, 5.34705695e+39, 5.25832793e+39, 3.18827700e+39,\n",
       "           5.35346384e+39, 7.59451640e+39, 3.18090385e+39, 4.08709400e+39,\n",
       "           3.22358116e+39, 1.08389857e+39, 6.32936640e+39, 3.20832186e+39,\n",
       "           8.56776941e+39, 2.11140807e+39, 3.18553341e+39, 4.21942304e+39,\n",
       "           0.00000000e+00, 1.06478276e+39, 5.18137775e+39, 3.19482724e+39,\n",
       "           5.38744738e+39, 1.09001331e+39, 1.08774829e+39, 1.08710647e+39,\n",
       "           1.07932014e+39, 0.00000000e+00, 1.07128260e+39, 2.11500398e+39,\n",
       "           0.00000000e+00, 9.66913660e+38, 0.00000000e+00, 1.02450938e+39,\n",
       "           1.07158029e+39, 1.06464375e+39, 2.13627403e+39, 1.08377433e+39,\n",
       "           0.00000000e+00, 3.25717286e+39, 2.18313188e+39, 0.00000000e+00,\n",
       "           1.04075303e+39, 3.22772143e+39, 0.00000000e+00, 1.00619804e+39,\n",
       "           1.05682462e+39, 0.00000000e+00, 0.00000000e+00, 3.25312349e+39,\n",
       "           1.09257320e+39, 1.09333802e+39, 1.05134526e+39, 1.08629424e+39,\n",
       "           0.00000000e+00, 0.00000000e+00, 0.00000000e+00, 0.00000000e+00,\n",
       "           1.00911150e+39, 0.00000000e+00, 9.85151378e+38, 0.00000000e+00,\n",
       "           0.00000000e+00, 1.06167685e+39, 9.87559970e+38, 0.00000000e+00,\n",
       "           0.00000000e+00, 0.00000000e+00, 0.00000000e+00, 0.00000000e+00,\n",
       "           1.06570843e+39, 9.85832825e+38, 0.00000000e+00, 0.00000000e+00,\n",
       "           0.00000000e+00, 1.08164023e+39, 0.00000000e+00, 4.22213365e+39,\n",
       "           0.00000000e+00, 0.00000000e+00, 1.06004305e+39, 2.18666941e+39,\n",
       "           0.00000000e+00, 1.01788713e+39, 0.00000000e+00, 0.00000000e+00,\n",
       "           0.00000000e+00, 0.00000000e+00, 0.00000000e+00, 1.04859392e+39,\n",
       "           0.00000000e+00, 0.00000000e+00, 0.00000000e+00, 1.00569331e+39,\n",
       "           0.00000000e+00, 0.00000000e+00, 0.00000000e+00, 0.00000000e+00,\n",
       "           0.00000000e+00, 9.98215682e+38, 0.00000000e+00, 0.00000000e+00,\n",
       "           0.00000000e+00, 0.00000000e+00, 0.00000000e+00, 0.00000000e+00,\n",
       "           0.00000000e+00, 0.00000000e+00, 0.00000000e+00, 0.00000000e+00,\n",
       "           0.00000000e+00, 0.00000000e+00, 1.02198341e+39, 0.00000000e+00,\n",
       "           0.00000000e+00, 1.04719524e+39, 0.00000000e+00, 0.00000000e+00,\n",
       "           0.00000000e+00, 0.00000000e+00, 2.03378195e+39, 0.00000000e+00,\n",
       "           0.00000000e+00, 0.00000000e+00, 0.00000000e+00, 0.00000000e+00,\n",
       "           0.00000000e+00, 0.00000000e+00, 0.00000000e+00, 0.00000000e+00,\n",
       "           0.00000000e+00, 2.12013664e+39, 1.09239634e+39, 0.00000000e+00,\n",
       "           0.00000000e+00, 0.00000000e+00, 0.00000000e+00, 1.07571704e+39,\n",
       "           0.00000000e+00, 0.00000000e+00, 0.00000000e+00, 0.00000000e+00,\n",
       "           1.06444359e+39, 0.00000000e+00, 0.00000000e+00, 0.00000000e+00,\n",
       "           0.00000000e+00, 0.00000000e+00, 0.00000000e+00, 0.00000000e+00,\n",
       "           0.00000000e+00, 0.00000000e+00, 0.00000000e+00, 0.00000000e+00,\n",
       "           0.00000000e+00, 0.00000000e+00, 0.00000000e+00, 0.00000000e+00,\n",
       "           0.00000000e+00, 0.00000000e+00, 0.00000000e+00, 0.00000000e+00,\n",
       "           0.00000000e+00, 0.00000000e+00, 0.00000000e+00, 0.00000000e+00,\n",
       "           0.00000000e+00, 1.08039236e+39, 9.91892850e+38, 0.00000000e+00,\n",
       "           0.00000000e+00, 0.00000000e+00, 9.95999409e+38, 0.00000000e+00,\n",
       "           0.00000000e+00, 0.00000000e+00, 0.00000000e+00, 0.00000000e+00,\n",
       "           0.00000000e+00, 0.00000000e+00, 0.00000000e+00, 0.00000000e+00,\n",
       "           0.00000000e+00, 0.00000000e+00, 0.00000000e+00, 0.00000000e+00,\n",
       "           0.00000000e+00, 0.00000000e+00, 0.00000000e+00, 1.05104726e+39,\n",
       "           1.09194052e+39, 0.00000000e+00, 0.00000000e+00, 0.00000000e+00] erg / s>"
      ]
     },
     "execution_count": 11,
     "metadata": {},
     "output_type": "execute_result"
    }
   ],
   "source": [
    "emitted_luminosity_hist = u.Quantity(np.histogram(emitted_nus,\n",
    "                                                  weights=emitted_luminosities,\n",
    "                                                  bins=spectrum_frequency.value,\n",
    "                                                 )[0], \"erg / s\",)\n",
    "emitted_luminosity_hist"
   ]
  },
  {
   "cell_type": "code",
   "execution_count": 12,
   "id": "de89ae45",
   "metadata": {},
   "outputs": [],
   "source": [
    "spectrum = TARDISSpectrum(spectrum_frequency, emitted_luminosity_hist)"
   ]
  },
  {
   "cell_type": "code",
   "execution_count": 13,
   "id": "22d5d5dd",
   "metadata": {},
   "outputs": [
    {
     "data": {
      "image/png": "[encoded data removed]",
      "text/plain": [
       "<Figure size 432x288 with 1 Axes>"
      ]
     },
     "metadata": {
      "needs_background": "light"
     },
     "output_type": "display_data"
    }
   ],
   "source": [
    "spectrum.plot(mode='frequency')"
   ]
  },
  {
   "cell_type": "code",
   "execution_count": 14,
   "id": "a9a8d287",
   "metadata": {},
   "outputs": [
    {
     "data": {
      "image/png": "[encoded data removed]",
      "text/plain": [
       "<Figure size 432x288 with 1 Axes>"
      ]
     },
     "metadata": {
      "needs_background": "light"
     },
     "output_type": "display_data"
    }
   ],
   "source": [
    "spectrum.plot(mode='wavelength')"
   ]
  }
 ],
 "metadata": {
  "kernelspec": {
   "display_name": "Python 3",
   "language": "python",
   "name": "python3"
  },
  "language_info": {
   "codemirror_mode": {
    "name": "ipython",
    "version": 3
   },
   "file_extension": ".py",
   "mimetype": "text/x-python",
   "name": "python",
   "nbconvert_exporter": "python",
   "pygments_lexer": "ipython3",
   "version": "3.7.10"
  }
 },
 "nbformat": 4,
 "nbformat_minor": 5
}
