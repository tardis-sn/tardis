{
 "cells": [
  {
   "cell_type": "markdown",
   "id": "f346fb77",
   "metadata": {},
   "source": [
    "# Volume-Based Estimators\n",
    "\n",
    "The idea of estimators... **citations**\n",
    "\n",
    "When TARDIS runs, we enter into a loop with two main components: a Monte Carlo iteration occurs, and then the plasma state is updated based on the estimators.\n",
    "\n",
    "## Theory\n",
    "\n",
    "To account for the effects of the Monte Carlo packets on the ejecta, TARDIS uses the packets to first determine the average energy density $E$ throughout each shell. To do this, for each shell we sum up the amount of energy each packet has ($\\epsilon$) multiplied by how much time it spends in the shell ($\\delta t$) relative to our reference time of the simulation ($\\Delta t$; this is calculated in [Energy Packet Initialization](../montecarlo/initialization.ipynb)), and then divide by the volume of the shell ($\\Delta V$). That is,\n",
    "\n",
    "$$E=\\frac{1}{\\Delta V}\\sum_i \\epsilon_i \\frac{\\delta t_i}{\\Delta t}$$\n",
    "\n",
    "where we sum over every Monte Carlo packet in the shell (in the implimentation section, we will explain how to account for the fact that the energy of the packet can change throughout the simulation ????????????).\n",
    "\n",
    "Using this energy density, we can \n",
    "\n",
    "## Implimentation\n",
    "\n",
    "**Mention that each iteration is just running the model and storing the state, plus some other stuff for recording things etc**\n",
    "\n",
    "## Line Estimators\n",
    "\n",
    "section"
   ]
  },
  {
   "cell_type": "markdown",
   "id": "127746c2",
   "metadata": {},
   "source": [
    "## Code Example\n",
    "\n",
    "We now show a detailed example of how the plasma is updated using the estimators after a Monte Carlo iteration. First, we import the needed packages and set up a simulation (see [Setting Up the Simulation](../setup/index.rst)):"
   ]
  },
  {
   "cell_type": "code",
   "execution_count": null,
   "id": "7a8bd905",
   "metadata": {},
   "outputs": [],
   "source": [
    "from tardis.io.config_reader import Configuration\n",
    "from tardis.simulation import Simulation\n",
    "from tardis.io.atom_data.util import download_atom_data\n",
    "import numpy as np\n",
    "\n",
    "# We download the atomic data needed to run this notebook\n",
    "download_atom_data('kurucz_cd23_chianti_H_He')"
   ]
  },
  {
   "cell_type": "code",
   "execution_count": null,
   "id": "259a7aa9",
   "metadata": {},
   "outputs": [],
   "source": [
    "tardis_config = Configuration.from_yaml('tardis_example.yml')\n",
    "sim = Simulation.from_config(tardis_config)\n",
    "\n",
    "model = sim.model\n",
    "plasma = sim.plasma\n",
    "runner = sim.runner"
   ]
  },
  {
   "cell_type": "markdown",
   "id": "cf13d946",
   "metadata": {},
   "source": [
    "We show the initial radiative temperature, dilution factor, electron densities, and tau sobolevs in each radial cell (see **link**):"
   ]
  },
  {
   "cell_type": "code",
   "execution_count": null,
   "id": "e3f43f93",
   "metadata": {},
   "outputs": [],
   "source": [
    "model.t_rad"
   ]
  },
  {
   "cell_type": "code",
   "execution_count": null,
   "id": "90bb6147",
   "metadata": {},
   "outputs": [],
   "source": [
    "model.w"
   ]
  },
  {
   "cell_type": "code",
   "execution_count": null,
   "id": "7b2ae7b4",
   "metadata": {},
   "outputs": [],
   "source": [
    "plasma.get_value('electron_densities')"
   ]
  },
  {
   "cell_type": "code",
   "execution_count": null,
   "id": "90ab14b0",
   "metadata": {},
   "outputs": [],
   "source": [
    "plasma.get_value('tau_sobolevs')"
   ]
  },
  {
   "cell_type": "markdown",
   "id": "a248ff2c",
   "metadata": {},
   "source": [
    "We set the number of packets and we run one iteration of the Monte Carlo simulation:"
   ]
  },
  {
   "cell_type": "code",
   "execution_count": null,
   "id": "9f7eb44f",
   "metadata": {
    "scrolled": true
   },
   "outputs": [],
   "source": [
    "N_packets = 10000\n",
    "\n",
    "# Using the commented out code below, we can also get the number of packets\n",
    "# from the configuration -- try it out:\n",
    "#N_packets = tardis_config.no_of_packets\n",
    "\n",
    "sim.iterate(N_packets)"
   ]
  },
  {
   "cell_type": "markdown",
   "id": "d3d0074d",
   "metadata": {},
   "source": [
    "We now show the values of the three estimators previously mentioned:"
   ]
  },
  {
   "cell_type": "code",
   "execution_count": null,
   "id": "21500ea8",
   "metadata": {
    "scrolled": false
   },
   "outputs": [],
   "source": [
    "runner.j_estimator"
   ]
  },
  {
   "cell_type": "code",
   "execution_count": null,
   "id": "fac91ee2",
   "metadata": {
    "scrolled": true
   },
   "outputs": [],
   "source": [
    "runner.nu_bar_estimator"
   ]
  },
  {
   "cell_type": "code",
   "execution_count": null,
   "id": "6ff7a82c",
   "metadata": {},
   "outputs": [],
   "source": [
    "# Because most rows of the j_blue estimatior are partially or mostly\n",
    "# zero, we show just rows with all nonzero elements\n",
    "runner.j_blue_estimator[np.all(runner.j_blue_estimator != 0, axis=1)]"
   ]
  },
  {
   "cell_type": "markdown",
   "id": "cffa939a",
   "metadata": {},
   "source": [
    "We note that the shape of the j_blue estimator and the tau_sobolevs are the same: namely, each contain a value for each possible atomic line transition in each radial cell (as opposed to the other two estimators which just have one value for each cell):"
   ]
  },
  {
   "cell_type": "code",
   "execution_count": null,
   "id": "a96c5c5b",
   "metadata": {},
   "outputs": [],
   "source": [
    "plasma.get_value('tau_sobolevs').shape, runner.j_blue_estimator.shape"
   ]
  },
  {
   "cell_type": "markdown",
   "id": "43b31d2f",
   "metadata": {},
   "source": [
    "We now advance the state of the simulation based on the estimators, and demonstrate this by showing the four quantities we showed before running the simulation. Compare them with their values above!"
   ]
  },
  {
   "cell_type": "code",
   "execution_count": null,
   "id": "9676b22b",
   "metadata": {},
   "outputs": [],
   "source": [
    "# When advance_state is called, a brief summary of the updated t_rad's\n",
    "# and w's is given\n",
    "sim.advance_state();"
   ]
  },
  {
   "cell_type": "code",
   "execution_count": null,
   "id": "fe0b9f40",
   "metadata": {},
   "outputs": [],
   "source": [
    "model.t_rad"
   ]
  },
  {
   "cell_type": "code",
   "execution_count": null,
   "id": "8de89bb2",
   "metadata": {
    "scrolled": true
   },
   "outputs": [],
   "source": [
    "model.w"
   ]
  },
  {
   "cell_type": "code",
   "execution_count": null,
   "id": "fcaf08ff",
   "metadata": {},
   "outputs": [],
   "source": [
    "plasma.get_value('electron_densities')"
   ]
  },
  {
   "cell_type": "code",
   "execution_count": null,
   "id": "48fbee16",
   "metadata": {
    "scrolled": false
   },
   "outputs": [],
   "source": [
    "plasma.get_value('tau_sobolevs')"
   ]
  }
 ],
 "metadata": {
  "kernelspec": {
   "display_name": "Python 3",
   "language": "python",
   "name": "python3"
  },
  "language_info": {
   "codemirror_mode": {
    "name": "ipython",
    "version": 3
   },
   "file_extension": ".py",
   "mimetype": "text/x-python",
   "name": "python",
   "nbconvert_exporter": "python",
   "pygments_lexer": "ipython3",
   "version": "3.7.10"
  }
 },
 "nbformat": 4,
 "nbformat_minor": 5
}
