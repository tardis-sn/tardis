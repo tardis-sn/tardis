{
 "cells": [
  {
   "cell_type": "markdown",
   "id": "f346fb77",
   "metadata": {},
   "source": [
    "# Volume-Based Estimators\n",
    "\n",
    "This concept was originally developed by <strong data-cite=\"Lucy1999\">[]</strong> and successively refined, for example, by <strong data-cite=\"Lucy1999a\">[]</strong>, <strong data-cite=\"Lucy2002\">[]</strong> and <strong data-cite=\"Lucy2003\">[]</strong>.\n",
    "\n",
    "When TARDIS runs, we enter into a loop with two main components: a Monte Carlo iteration occurs, and then the plasma state is updated based on the estimators.\n",
    "\n",
    "## Theory\n",
    "\n",
    "Ordinarily, TARDIS is not concerned about the physical amount of time a packet spends traveling through the ejecta. Instead, we consider the \"time of simulation\" $\\Delta t$ which is chosen to be the amount of time in which the photosphere emmits the ensemble of packets (see [Energy Packet Initialization](../montecarlo/initialization.ipynb)). When looking at the estimators, a slightly different interpretation of the packets is necessary. Here, we view the packets as not carrying a discrete amount of energy $\\varepsilon$ that is emitted in a time interval $\\Delta t$, but as being a flow of energy that carries an energy $\\varepsilon$ over a time $\\Delta t$ -- that is, each packet is carrying a luminosity (energy per unit time) of $L = \\frac{\\varepsilon}{\\Delta t}$. Now, we can say that if a packet spends a time $\\delta t$ in the supernova's ejecta, it contributes an energy of $L\\delta t= \\frac{\\varepsilon}{\\Delta t}\\delta t$ into the radiation energy of the ejecta.\n",
    "\n",
    "To account for the effects of the Monte Carlo packets on the ejecta, TARDIS uses the packets to first determine the average radiation energy density $E$ throughout each shell, where the energy density is the total radiation energy in the shell divided by the volume of the shell ($\\Delta V=4\\pi (r_\\mathrm{outer}^3-r_\\mathrm{inner}^3)$). Therefore, we add up the amount of energy each packet contributes to the radiation energy in that shell, and divide by the total volume of the shell:\n",
    "$$E=\\frac{1}{\\Delta V}\\sum L_i\\delta t_i=\\frac{1}{\\Delta V}\\sum \\frac{\\varepsilon_i}{\\Delta t}\\delta t_i = \\frac{1}{\\Delta V\\Delta t}\\sum \\varepsilon_i\\delta t_i$$\n",
    "where we sum over every Monte Carlo packet in the shell. Note that we are interested in the energy density in the co-moving frame (i.e. the energy density \"according to the plasma,\" see REFERENCE FRAMES!!!!!!!!!!!!) Now, we note that the amount of time the Monte Carlo packet spends in a shell is $\\delta t = \\frac{l_i}{c}$ where $l$ is the distance that the packet travels through the shell. Thus, our estimator is\n",
    "$$E=\\frac{1}{\\Delta V\\Delta t}\\sum \\varepsilon_i\\frac{l_i}{c}D_i = \\frac{1}{c\\Delta V\\Delta t}\\sum \\varepsilon_i l_iD_i.$$\n",
    "\n",
    "Using this energy density, we can then calculate the mean radiation intensity in that shell using the relation $J=\\frac{c}{4\\pi} E$, which gives us\n",
    "$$J=\\frac{1}{4\\pi\\Delta V\\Delta t}\\sum \\varepsilon_i l_iD_i.$$\n",
    "\n",
    "Next, we calculate the mean radiation frequency in each shell. To do this we use the same procedure as with $J$, but in the sum EXPLAIN??????????????????. Thus, we have\n",
    "$$\\bar \\nu = \\frac{1}{4\\pi \\Delta V \\Delta t}\\sum_i \\varepsilon_i \\nu_i l_i D_i.$$\n",
    "\n",
    "\n",
    "REREAD THIS FOR REFERENCE FRAME STUFF\n",
    "\n",
    "## Implimentation\n",
    "\n",
    "**Mention that each iteration is just running the model and storing the state, plus some other stuff for recording things etc. MENTION CONVERGENCE???**\n",
    "\n",
    "## Line Estimators\n",
    "\n",
    "section\n",
    "\n",
    "talk about how J_blues are not always updated."
   ]
  },
  {
   "cell_type": "markdown",
   "id": "127746c2",
   "metadata": {},
   "source": [
    "## Code Example\n",
    "\n",
    "We now show a detailed example of how the plasma is updated using the estimators after a Monte Carlo iteration. First, we import the needed packages and set up a simulation (see [Setting Up the Simulation](../setup/index.rst)):"
   ]
  },
  {
   "cell_type": "code",
   "execution_count": null,
   "id": "7a8bd905",
   "metadata": {},
   "outputs": [],
   "source": [
    "from tardis.io.config_reader import Configuration\n",
    "from tardis.simulation import Simulation\n",
    "from tardis.io.atom_data.util import download_atom_data\n",
    "import numpy as np\n",
    "\n",
    "# We download the atomic data needed to run this notebook\n",
    "download_atom_data('kurucz_cd23_chianti_H_He')"
   ]
  },
  {
   "cell_type": "code",
   "execution_count": null,
   "id": "259a7aa9",
   "metadata": {},
   "outputs": [],
   "source": [
    "tardis_config = Configuration.from_yaml('tardis_example.yml')\n",
    "sim = Simulation.from_config(tardis_config)\n",
    "\n",
    "model = sim.model\n",
    "plasma = sim.plasma\n",
    "runner = sim.runner"
   ]
  },
  {
   "cell_type": "markdown",
   "id": "cf13d946",
   "metadata": {},
   "source": [
    "We show the initial radiative temperature, dilution factor, electron densities, and tau sobolevs in each radial cell (see **link**):"
   ]
  },
  {
   "cell_type": "code",
   "execution_count": null,
   "id": "e3f43f93",
   "metadata": {},
   "outputs": [],
   "source": [
    "model.t_rad"
   ]
  },
  {
   "cell_type": "code",
   "execution_count": null,
   "id": "90bb6147",
   "metadata": {},
   "outputs": [],
   "source": [
    "model.w"
   ]
  },
  {
   "cell_type": "code",
   "execution_count": null,
   "id": "7b2ae7b4",
   "metadata": {},
   "outputs": [],
   "source": [
    "plasma.get_value('electron_densities')"
   ]
  },
  {
   "cell_type": "code",
   "execution_count": null,
   "id": "90ab14b0",
   "metadata": {},
   "outputs": [],
   "source": [
    "plasma.get_value('tau_sobolevs')"
   ]
  },
  {
   "cell_type": "markdown",
   "id": "a248ff2c",
   "metadata": {},
   "source": [
    "We set the number of packets and we run one iteration of the Monte Carlo simulation:"
   ]
  },
  {
   "cell_type": "code",
   "execution_count": null,
   "id": "9f7eb44f",
   "metadata": {
    "scrolled": true
   },
   "outputs": [],
   "source": [
    "N_packets = 10000\n",
    "\n",
    "# Using the commented out code below, we can also get the number of packets\n",
    "# from the configuration -- try it out:\n",
    "#N_packets = tardis_config.no_of_packets\n",
    "\n",
    "sim.iterate(N_packets)"
   ]
  },
  {
   "cell_type": "markdown",
   "id": "d3d0074d",
   "metadata": {},
   "source": [
    "We now show the values of the three estimators previously mentioned:"
   ]
  },
  {
   "cell_type": "code",
   "execution_count": null,
   "id": "21500ea8",
   "metadata": {
    "scrolled": false
   },
   "outputs": [],
   "source": [
    "runner.j_estimator"
   ]
  },
  {
   "cell_type": "code",
   "execution_count": null,
   "id": "fac91ee2",
   "metadata": {
    "scrolled": true
   },
   "outputs": [],
   "source": [
    "runner.nu_bar_estimator"
   ]
  },
  {
   "cell_type": "code",
   "execution_count": null,
   "id": "6ff7a82c",
   "metadata": {},
   "outputs": [],
   "source": [
    "# Because most rows of the j_blue estimatior are partially or mostly\n",
    "# zero, we show just rows with all nonzero elements\n",
    "runner.j_blue_estimator[np.all(runner.j_blue_estimator != 0, axis=1)]"
   ]
  },
  {
   "cell_type": "markdown",
   "id": "cffa939a",
   "metadata": {},
   "source": [
    "We note that the shape of the j_blue estimator and the tau_sobolevs are the same: namely, each contain a value for each possible atomic line transition in each radial cell (as opposed to the other two estimators which just have one value for each cell):"
   ]
  },
  {
   "cell_type": "code",
   "execution_count": null,
   "id": "a96c5c5b",
   "metadata": {},
   "outputs": [],
   "source": [
    "plasma.get_value('tau_sobolevs').shape, runner.j_blue_estimator.shape"
   ]
  },
  {
   "cell_type": "markdown",
   "id": "43b31d2f",
   "metadata": {},
   "source": [
    "We now advance the state of the simulation based on the estimators, and demonstrate this by showing the four quantities we showed before running the simulation. Compare them with their values above!"
   ]
  },
  {
   "cell_type": "code",
   "execution_count": null,
   "id": "9676b22b",
   "metadata": {
    "scrolled": true
   },
   "outputs": [],
   "source": [
    "# When advance_state is called, a brief summary of the updated t_rad's\n",
    "# and w's is given\n",
    "sim.advance_state();"
   ]
  },
  {
   "cell_type": "code",
   "execution_count": null,
   "id": "fe0b9f40",
   "metadata": {},
   "outputs": [],
   "source": [
    "model.t_rad"
   ]
  },
  {
   "cell_type": "code",
   "execution_count": null,
   "id": "8de89bb2",
   "metadata": {
    "scrolled": true
   },
   "outputs": [],
   "source": [
    "model.w"
   ]
  },
  {
   "cell_type": "code",
   "execution_count": null,
   "id": "fcaf08ff",
   "metadata": {},
   "outputs": [],
   "source": [
    "plasma.get_value('electron_densities')"
   ]
  },
  {
   "cell_type": "code",
   "execution_count": null,
   "id": "48fbee16",
   "metadata": {
    "scrolled": false
   },
   "outputs": [],
   "source": [
    "plasma.get_value('tau_sobolevs')"
   ]
  },
  {
   "cell_type": "markdown",
   "id": "87fcb651",
   "metadata": {},
   "source": [
    "check what happens to the j_blues before and after advance state"
   ]
  }
 ],
 "metadata": {
  "kernelspec": {
   "display_name": "Python 3 (ipykernel)",
   "language": "python",
   "name": "python3"
  },
  "language_info": {
   "codemirror_mode": {
    "name": "ipython",
    "version": 3
   },
   "file_extension": ".py",
   "mimetype": "text/x-python",
   "name": "python",
   "nbconvert_exporter": "python",
   "pygments_lexer": "ipython3",
   "version": "3.7.12"
  }
 },
 "nbformat": 4,
 "nbformat_minor": 5
}
