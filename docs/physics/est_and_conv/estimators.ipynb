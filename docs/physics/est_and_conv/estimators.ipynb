{
 "cells": [
  {
   "cell_type": "markdown",
   "id": "f346fb77",
   "metadata": {},
   "source": [
    "**Mention that each iteration is just running the model and storing the state, plus some other stuff for recording things etc**"
   ]
  },
  {
   "cell_type": "markdown",
   "id": "127746c2",
   "metadata": {},
   "source": [
    "We now demonstrate this concept in action. First, we import the needed packages and set up a simulation (see **link**):"
   ]
  },
  {
   "cell_type": "code",
   "execution_count": 1,
   "id": "7a8bd905",
   "metadata": {},
   "outputs": [
    {
     "name": "stderr",
     "output_type": "stream",
     "text": [
      "/home/smithis7/anaconda3/envs/tardis/lib/python3.7/importlib/_bootstrap.py:219: QAWarning: pyne.data is not yet QA compliant.\n",
      "  return f(*args, **kwds)\n",
      "/home/smithis7/anaconda3/envs/tardis/lib/python3.7/importlib/_bootstrap.py:219: QAWarning: pyne.material is not yet QA compliant.\n",
      "  return f(*args, **kwds)\n"
     ]
    }
   ],
   "source": [
    "from tardis.io.config_reader import Configuration\n",
    "from tardis.simulation import Simulation\n",
    "import numpy as np"
   ]
  },
  {
   "cell_type": "code",
   "execution_count": 2,
   "id": "259a7aa9",
   "metadata": {},
   "outputs": [],
   "source": [
    "tardis_config = Configuration.from_yaml('tardis_example.yml')\n",
    "sim = Simulation.from_config(tardis_config)\n",
    "\n",
    "model = sim.model\n",
    "plasma = sim.plasma\n",
    "runner = sim.runner"
   ]
  },
  {
   "cell_type": "markdown",
   "id": "cf13d946",
   "metadata": {},
   "source": [
    "We show the initial radiative temperature, dilution factor, electron densities, and tau sobolevs in each radial cell (see **link**):"
   ]
  },
  {
   "cell_type": "code",
   "execution_count": 3,
   "id": "e3f43f93",
   "metadata": {},
   "outputs": [
    {
     "data": {
      "text/latex": [
       "$[7705.4185,~7693.8784,~7682.3728,~7670.9015,~7659.4644,~7648.0614,~7636.6923,~7625.3569,~7614.0552,~7602.7869,~7591.5519,~7580.35,~7569.1812,~7558.0452,~7546.942,~7535.8713,~7524.833,~7513.8271,~7502.8533,~7491.9115] \\; \\mathrm{K}$"
      ],
      "text/plain": [
       "<Quantity [7705.4185289 , 7693.87838289, 7682.37275176, 7670.9014809 ,\n",
       "           7659.46441662, 7648.06140616, 7636.69229763, 7625.35694008,\n",
       "           7614.05518344, 7602.78687852, 7591.55187703, 7580.35003153,\n",
       "           7569.18119549, 7558.04522319, 7546.94196981, 7535.87129136,\n",
       "           7524.8330447 , 7513.82708751, 7502.85327833, 7491.91147651] K>"
      ]
     },
     "execution_count": 3,
     "metadata": {},
     "output_type": "execute_result"
    }
   ],
   "source": [
    "model.t_rad"
   ]
  },
  {
   "cell_type": "code",
   "execution_count": 4,
   "id": "90bb6147",
   "metadata": {},
   "outputs": [
    {
     "data": {
      "text/plain": [
       "array([0.40039164, 0.33245223, 0.28966798, 0.2577141 , 0.23224568,\n",
       "       0.21120466, 0.19341188, 0.17811402, 0.16479446, 0.1530809 ,\n",
       "       0.14269498, 0.13342262, 0.12509541, 0.11757849, 0.11076215,\n",
       "       0.10455605, 0.09888494, 0.09368554, 0.08890421, 0.08449514])"
      ]
     },
     "execution_count": 4,
     "metadata": {},
     "output_type": "execute_result"
    }
   ],
   "source": [
    "model.w"
   ]
  },
  {
   "cell_type": "code",
   "execution_count": 5,
   "id": "7b2ae7b4",
   "metadata": {},
   "outputs": [
    {
     "data": {
      "text/plain": [
       "0     2.033278e+12\n",
       "1     2.027521e+12\n",
       "2     2.021792e+12\n",
       "3     2.016096e+12\n",
       "4     2.010432e+12\n",
       "5     2.004803e+12\n",
       "6     1.999211e+12\n",
       "7     1.993657e+12\n",
       "8     1.988143e+12\n",
       "9     1.982671e+12\n",
       "10    1.977241e+12\n",
       "11    1.971856e+12\n",
       "12    1.966517e+12\n",
       "13    1.961224e+12\n",
       "14    1.955980e+12\n",
       "15    1.950786e+12\n",
       "16    1.945642e+12\n",
       "17    1.940551e+12\n",
       "18    1.935512e+12\n",
       "19    1.930528e+12\n",
       "dtype: float64"
      ]
     },
     "execution_count": 5,
     "metadata": {},
     "output_type": "execute_result"
    }
   ],
   "source": [
    "plasma.get_value('electron_densities')"
   ]
  },
  {
   "cell_type": "code",
   "execution_count": 7,
   "id": "90ab14b0",
   "metadata": {},
   "outputs": [],
   "source": [
    "plasma.get_value('tau_sobolevs')"
   ]
  },
  {
   "cell_type": "markdown",
   "id": "a248ff2c",
   "metadata": {},
   "source": [
    "We set the number of packets and we run one iteration of the Monte Carlo simulation:"
   ]
  },
  {
   "cell_type": "code",
   "execution_count": null,
   "id": "9f7eb44f",
   "metadata": {
    "scrolled": true
   },
   "outputs": [],
   "source": [
    "N_packets = 10000\n",
    "\n",
    "runner.run(model, plasma, N_packets)"
   ]
  },
  {
   "cell_type": "markdown",
   "id": "d3d0074d",
   "metadata": {},
   "source": [
    "We now show the values of the three estimators previously mentioned:"
   ]
  },
  {
   "cell_type": "code",
   "execution_count": null,
   "id": "21500ea8",
   "metadata": {
    "scrolled": false
   },
   "outputs": [],
   "source": [
    "runner.j_estimator"
   ]
  },
  {
   "cell_type": "code",
   "execution_count": null,
   "id": "fac91ee2",
   "metadata": {
    "scrolled": true
   },
   "outputs": [],
   "source": [
    "runner.nu_bar_estimator"
   ]
  },
  {
   "cell_type": "code",
   "execution_count": null,
   "id": "6ff7a82c",
   "metadata": {},
   "outputs": [],
   "source": [
    "# Because most rows of the j_blue estimatior are partially or mostly\n",
    "# zero, we show just rows with all nonzero elements\n",
    "runner.j_blue_estimator[np.all(runner.j_blue_estimator != 0, axis=1)]"
   ]
  },
  {
   "cell_type": "markdown",
   "id": "cffa939a",
   "metadata": {},
   "source": [
    "We note that the shape of the j_blue estimator and the tau_sobolevs are the same: namely, each contain a value for each possible atomic line transition in each radial cell (as opposed to the other two estimators which just have one value for each cell):"
   ]
  },
  {
   "cell_type": "code",
   "execution_count": null,
   "id": "a96c5c5b",
   "metadata": {},
   "outputs": [],
   "source": [
    "plasma.get_value('tau_sobolevs').shape, runner.j_blue_estimator.shape"
   ]
  },
  {
   "cell_type": "markdown",
   "id": "43b31d2f",
   "metadata": {},
   "source": [
    "We now advance the state of the simulation based on the estimators, and demonstrate this by showing the four quantities we showed before running the simulation. Compare them with their values above!"
   ]
  },
  {
   "cell_type": "code",
   "execution_count": null,
   "id": "9676b22b",
   "metadata": {},
   "outputs": [],
   "source": [
    "# When advance_state is called, a brief summary of the updated t_rad's\n",
    "# and w's is given\n",
    "sim.advance_state();"
   ]
  },
  {
   "cell_type": "code",
   "execution_count": null,
   "id": "fe0b9f40",
   "metadata": {},
   "outputs": [],
   "source": [
    "model.t_rad"
   ]
  },
  {
   "cell_type": "code",
   "execution_count": null,
   "id": "8de89bb2",
   "metadata": {
    "scrolled": true
   },
   "outputs": [],
   "source": [
    "model.w"
   ]
  },
  {
   "cell_type": "code",
   "execution_count": null,
   "id": "fcaf08ff",
   "metadata": {},
   "outputs": [],
   "source": [
    "plasma.get_value('electron_densities')"
   ]
  },
  {
   "cell_type": "code",
   "execution_count": null,
   "id": "48fbee16",
   "metadata": {
    "scrolled": false
   },
   "outputs": [],
   "source": [
    "plasma.get_value('tau_sobolevs')"
   ]
  }
 ],
 "metadata": {
  "kernelspec": {
   "display_name": "Python 3",
   "language": "python",
   "name": "python3"
  },
  "language_info": {
   "codemirror_mode": {
    "name": "ipython",
    "version": 3
   },
   "file_extension": ".py",
   "mimetype": "text/x-python",
   "name": "python",
   "nbconvert_exporter": "python",
   "pygments_lexer": "ipython3",
   "version": "3.7.10"
  }
 },
 "nbformat": 4,
 "nbformat_minor": 5
}
