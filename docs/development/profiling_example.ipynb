{
 "cells": [
  {
   "cell_type": "markdown",
   "id": "a9336af1",
   "metadata": {},
   "source": [
    "# Basic Profile of TARDIS #"
   ]
  },
  {
   "cell_type": "markdown",
   "id": "e825ec8b",
   "metadata": {},
   "source": [
    "A profile is a set of statistics that describes how often and for how long various parts of the program execute (cProfile). A majority of TARDIS can be profiled, however, some code is Numba code, which cannot be profiled. This is because Numba compiles these functions directly to machine code; the python interpreter doesn’t see these functions and therefore it doesn’t read them.\n",
    "\n",
    "This notebook uses snakeviz, which is a graphical viewer for the output of cProfile, to visualize the results and make them interactive. In order to use SnakeViz, you must first download it via pip. The first cell loads SnakeViz and gets the notebook ready to run TARDIS."
   ]
  },
  {
   "cell_type": "code",
   "execution_count": null,
   "id": "88cdeafd",
   "metadata": {},
   "outputs": [],
   "source": [
    "%load_ext snakeviz\n",
    "\n",
    "from tardis import run_tardis\n",
    "from tardis.io.atom_data.util import download_atom_data\n",
    "download_atom_data('kurucz_cd23_chianti_H_He')"
   ]
  },
  {
   "cell_type": "markdown",
   "id": "156b9891",
   "metadata": {},
   "source": [
    "I am telling the cell below to use snakeviz on the function below, which is a run of TARDIS in its enteriety. An option is to add the -t flag, which will tell it to display the HTML in a new tab, instead of embedding it."
   ]
  },
  {
   "cell_type": "code",
   "execution_count": null,
   "id": "32f39ab9",
   "metadata": {
    "scrolled": true
   },
   "outputs": [],
   "source": [
    "%%snakeviz\n",
    "\n",
    "run_tardis('tardis_example.yml')"
   ]
  },
  {
   "cell_type": "markdown",
   "id": "4b52662e",
   "metadata": {},
   "source": [
    "As SnakeViz uses a web browser to create the HTML to display, when this notebook is run the HTML isn’t viewable. In order to view this a picture of the HTML output is saved and displayed below.\n",
    "\n",
    "The SnakeViz visualization gives two things. At the top is a stack trace, where you can see which functions call others, and how long those functions take in respect to the caller function. At the bottom is all of the information that cProfile provides.\n",
    "\n",
    "The bottom left montecarlo_radial1d is montecarlo_main_loop. This function does a majority of the computation, yet there is nothing below it. This is because it, and all the functions that it calls, are Numba functions. montecarlo_main_loop is visible as montecarlo_radial1d calls it, but the functions that it calls are not visible as it is a Numba function.\n",
    "\n",
    "If the SnakeViz is run again without restarting the kernel, then the times will decrease and more time will be spent in montecarlo_main_loop relative to montecarlo_radial1d, as the Numba functions will have all compiled.\n",
    "\n",
    "If you run this notebook the HTML from cell 2 will be displayed at the bottom without issue; the lower cell is  just a solution to display the SnakeViz output without having access to the HTML."
   ]
  },
  {
   "source": [
    "![](images/tardis_prof.png)"
   ],
   "cell_type": "markdown",
   "metadata": {}
  }
 ],
 "metadata": {
  "celltoolbar": "Raw Cell Format",
  "kernelspec": {
   "display_name": "Python 3",
   "language": "python",
   "name": "python3"
  },
  "language_info": {
   "codemirror_mode": {
    "name": "ipython",
    "version": 3
   },
   "file_extension": ".py",
   "mimetype": "text/x-python",
   "name": "python",
   "nbconvert_exporter": "python",
   "pygments_lexer": "ipython3",
   "version": "3.7.10"
  }
 },
 "nbformat": 4,
 "nbformat_minor": 5
}