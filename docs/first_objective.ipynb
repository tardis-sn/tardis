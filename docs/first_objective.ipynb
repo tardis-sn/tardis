{
 "cells": [
  {
   "cell_type": "markdown",
   "metadata": {},
   "source": [
    "# First Objective: Velocity Packet Tracker Visualisation\n",
    "\n",
    "## Google Summer of Code 2024\n",
    "\n",
    "Author: Sarthak Srivastava\n"
   ]
  },
  {
   "cell_type": "code",
   "execution_count": 1,
   "metadata": {},
   "outputs": [
    {
     "data": {
      "application/vnd.jupyter.widget-view+json": {
       "model_id": "4e9284d623874bbc9fce9a13794ef8a8",
       "version_major": 2,
       "version_minor": 0
      },
      "text/plain": [
       "Iterations:          0/? [00:00<?, ?it/s]"
      ]
     },
     "metadata": {},
     "output_type": "display_data"
    },
    {
     "data": {
      "application/vnd.jupyter.widget-view+json": {
       "model_id": "2ab3e95a966b47eda59620b65d6cfbda",
       "version_major": 2,
       "version_minor": 0
      },
      "text/plain": [
       "Packets:             0/? [00:00<?, ?it/s]"
      ]
     },
     "metadata": {},
     "output_type": "display_data"
    }
   ],
   "source": [
    "# Imports\n",
    "import numpy as np\n",
    "import matplotlib.pyplot as plt\n",
    "import pandas as pd\n",
    "import plotly.graph_objects as go\n",
    "from plotly.subplots import make_subplots\n",
    "\n",
    "from tardis import run_tardis\n",
    "from tardis.io.atom_data.util import download_atom_data\n",
    "from tardis.util.base import int_to_roman\n",
    "from tardis.visualization import SDECPlotter"
   ]
  },
  {
   "cell_type": "markdown",
   "metadata": {},
   "source": [
    "### 1. Run simulation and generate SDEC Plot\n"
   ]
  },
  {
   "cell_type": "code",
   "execution_count": 2,
   "metadata": {},
   "outputs": [
    {
     "name": "stderr",
     "output_type": "stream",
     "text": [
      "Atomic Data kurucz_cd23_chianti_H_He already exists in /Users/archil/Downloads/tardis-data/kurucz_cd23_chianti_H_He.h5. Will not download - override with force_download=True.\n"
     ]
    }
   ],
   "source": [
    "# Download atom data\n",
    "download_atom_data(\"kurucz_cd23_chianti_H_He\")"
   ]
  },
  {
   "cell_type": "code",
   "execution_count": 3,
   "metadata": {},
   "outputs": [
    {
     "name": "stdout",
     "output_type": "stream",
     "text": [
      "[\u001b[1mpy.warnings         \u001b[0m][\u001b[1;33mWARNING\u001b[0m]  \n",
      "\t/Users/archil/Documents/tardis/tardis/plasma/properties/radiative_properties.py:93: RuntimeWarning: invalid value encountered in divide\n",
      "  (g_lower * n_upper) / (g_upper * n_lower)\n",
      " (\u001b[1mwarnings.py\u001b[0m:109)\n"
     ]
    },
    {
     "name": "stderr",
     "output_type": "stream",
     "text": [
      "OMP: Info #276: omp_set_nested routine deprecated, please use omp_set_max_active_levels instead.\n"
     ]
    },
    {
     "name": "stdout",
     "output_type": "stream",
     "text": [
      "[\u001b[1mpy.warnings         \u001b[0m][\u001b[1;33mWARNING\u001b[0m]  \n",
      "\t/Users/archil/Documents/tardis/tardis/plasma/properties/radiative_properties.py:93: RuntimeWarning: invalid value encountered in divide\n",
      "  (g_lower * n_upper) / (g_upper * n_lower)\n",
      " (\u001b[1mwarnings.py\u001b[0m:109)\n"
     ]
    },
    {
     "data": {
      "application/vnd.jupyter.widget-view+json": {
       "model_id": "e92731faed7042d7add286e2610703a7",
       "version_major": 2,
       "version_minor": 0
      },
      "text/plain": [
       "TqdmHBox(children=(HTML(value='Iterations:', layout=Layout(width='6%')), FloatProgress(value=0.0, layout=Layou…"
      ]
     },
     "metadata": {},
     "output_type": "display_data"
    },
    {
     "data": {
      "application/vnd.jupyter.widget-view+json": {
       "model_id": "5289474bc0384d089cf40643673c587e",
       "version_major": 2,
       "version_minor": 0
      },
      "text/plain": [
       "TqdmHBox(children=(HTML(value='Packets:   ', layout=Layout(width='6%')), FloatProgress(value=0.0, layout=Layou…"
      ]
     },
     "metadata": {},
     "output_type": "display_data"
    },
    {
     "name": "stdout",
     "output_type": "stream",
     "text": [
      "[\u001b[1mpy.warnings         \u001b[0m][\u001b[1;33mWARNING\u001b[0m]  \n",
      "\t/Users/archil/Documents/tardis/tardis/plasma/properties/radiative_properties.py:93: RuntimeWarning: invalid value encountered in divide\n",
      "  (g_lower * n_upper) / (g_upper * n_lower)\n",
      " (\u001b[1mwarnings.py\u001b[0m:109)\n"
     ]
    },
    {
     "data": {
      "application/vnd.jupyter.widget-view+json": {
       "model_id": "26d76b2477eb4e66af8c38f36fad3ac9",
       "version_major": 2,
       "version_minor": 0
      },
      "text/plain": [
       "VBox(children=(FigureWidget({\n",
       "    'data': [{'type': 'scatter', 'uid': 'f07a3554-f87f-40dd-88b3-30c9fbe4f477', …"
      ]
     },
     "metadata": {},
     "output_type": "display_data"
    },
    {
     "name": "stdout",
     "output_type": "stream",
     "text": [
      "[\u001b[1mpy.warnings         \u001b[0m][\u001b[1;33mWARNING\u001b[0m]  \n",
      "\t/Users/archil/Documents/tardis/tardis/plasma/properties/radiative_properties.py:93: RuntimeWarning:\n",
      "\n",
      "invalid value encountered in divide\n",
      "\n",
      " (\u001b[1mwarnings.py\u001b[0m:109)\n",
      "[\u001b[1mpy.warnings         \u001b[0m][\u001b[1;33mWARNING\u001b[0m]  \n",
      "\t/Users/archil/Documents/tardis/tardis/plasma/properties/radiative_properties.py:93: RuntimeWarning:\n",
      "\n",
      "invalid value encountered in divide\n",
      "\n",
      " (\u001b[1mwarnings.py\u001b[0m:109)\n",
      "[\u001b[1mpy.warnings         \u001b[0m][\u001b[1;33mWARNING\u001b[0m]  \n",
      "\t/Users/archil/Documents/tardis/tardis/plasma/properties/radiative_properties.py:93: RuntimeWarning:\n",
      "\n",
      "invalid value encountered in divide\n",
      "\n",
      " (\u001b[1mwarnings.py\u001b[0m:109)\n",
      "[\u001b[1mpy.warnings         \u001b[0m][\u001b[1;33mWARNING\u001b[0m]  \n",
      "\t/Users/archil/Documents/tardis/tardis/plasma/properties/radiative_properties.py:93: RuntimeWarning:\n",
      "\n",
      "invalid value encountered in divide\n",
      "\n",
      " (\u001b[1mwarnings.py\u001b[0m:109)\n",
      "[\u001b[1mpy.warnings         \u001b[0m][\u001b[1;33mWARNING\u001b[0m]  \n",
      "\t/Users/archil/Documents/tardis/tardis/plasma/properties/radiative_properties.py:93: RuntimeWarning:\n",
      "\n",
      "invalid value encountered in divide\n",
      "\n",
      " (\u001b[1mwarnings.py\u001b[0m:109)\n",
      "[\u001b[1mpy.warnings         \u001b[0m][\u001b[1;33mWARNING\u001b[0m]  \n",
      "\t/Users/archil/Documents/tardis/tardis/plasma/properties/radiative_properties.py:93: RuntimeWarning:\n",
      "\n",
      "invalid value encountered in divide\n",
      "\n",
      " (\u001b[1mwarnings.py\u001b[0m:109)\n",
      "[\u001b[1mpy.warnings         \u001b[0m][\u001b[1;33mWARNING\u001b[0m]  \n",
      "\t/Users/archil/Documents/tardis/tardis/plasma/properties/radiative_properties.py:93: RuntimeWarning:\n",
      "\n",
      "invalid value encountered in divide\n",
      "\n",
      " (\u001b[1mwarnings.py\u001b[0m:109)\n",
      "[\u001b[1mpy.warnings         \u001b[0m][\u001b[1;33mWARNING\u001b[0m]  \n",
      "\t/Users/archil/Documents/tardis/tardis/plasma/properties/radiative_properties.py:93: RuntimeWarning:\n",
      "\n",
      "invalid value encountered in divide\n",
      "\n",
      " (\u001b[1mwarnings.py\u001b[0m:109)\n",
      "[\u001b[1mpy.warnings         \u001b[0m][\u001b[1;33mWARNING\u001b[0m]  \n",
      "\t/Users/archil/Documents/tardis/tardis/plasma/properties/radiative_properties.py:93: RuntimeWarning:\n",
      "\n",
      "invalid value encountered in divide\n",
      "\n",
      " (\u001b[1mwarnings.py\u001b[0m:109)\n",
      "[\u001b[1mpy.warnings         \u001b[0m][\u001b[1;33mWARNING\u001b[0m]  \n",
      "\t/Users/archil/Documents/tardis/tardis/plasma/properties/radiative_properties.py:93: RuntimeWarning:\n",
      "\n",
      "invalid value encountered in divide\n",
      "\n",
      " (\u001b[1mwarnings.py\u001b[0m:109)\n",
      "[\u001b[1mpy.warnings         \u001b[0m][\u001b[1;33mWARNING\u001b[0m]  \n",
      "\t/Users/archil/Documents/tardis/tardis/plasma/properties/radiative_properties.py:93: RuntimeWarning:\n",
      "\n",
      "invalid value encountered in divide\n",
      "\n",
      " (\u001b[1mwarnings.py\u001b[0m:109)\n",
      "[\u001b[1mpy.warnings         \u001b[0m][\u001b[1;33mWARNING\u001b[0m]  \n",
      "\t/Users/archil/Documents/tardis/tardis/plasma/properties/radiative_properties.py:93: RuntimeWarning:\n",
      "\n",
      "invalid value encountered in divide\n",
      "\n",
      " (\u001b[1mwarnings.py\u001b[0m:109)\n",
      "[\u001b[1mpy.warnings         \u001b[0m][\u001b[1;33mWARNING\u001b[0m]  \n",
      "\t/Users/archil/Documents/tardis/tardis/plasma/properties/radiative_properties.py:93: RuntimeWarning:\n",
      "\n",
      "invalid value encountered in divide\n",
      "\n",
      " (\u001b[1mwarnings.py\u001b[0m:109)\n",
      "[\u001b[1mpy.warnings         \u001b[0m][\u001b[1;33mWARNING\u001b[0m]  \n",
      "\t/Users/archil/Documents/tardis/tardis/plasma/properties/radiative_properties.py:93: RuntimeWarning:\n",
      "\n",
      "invalid value encountered in divide\n",
      "\n",
      " (\u001b[1mwarnings.py\u001b[0m:109)\n",
      "[\u001b[1mpy.warnings         \u001b[0m][\u001b[1;33mWARNING\u001b[0m]  \n",
      "\t/Users/archil/Documents/tardis/tardis/plasma/properties/radiative_properties.py:93: RuntimeWarning:\n",
      "\n",
      "invalid value encountered in divide\n",
      "\n",
      " (\u001b[1mwarnings.py\u001b[0m:109)\n",
      "[\u001b[1mpy.warnings         \u001b[0m][\u001b[1;33mWARNING\u001b[0m]  \n",
      "\t/Users/archil/Documents/tardis/tardis/plasma/properties/radiative_properties.py:93: RuntimeWarning:\n",
      "\n",
      "invalid value encountered in divide\n",
      "\n",
      " (\u001b[1mwarnings.py\u001b[0m:109)\n",
      "[\u001b[1mpy.warnings         \u001b[0m][\u001b[1;33mWARNING\u001b[0m]  \n",
      "\t/Users/archil/Documents/tardis/tardis/plasma/properties/radiative_properties.py:93: RuntimeWarning:\n",
      "\n",
      "invalid value encountered in divide\n",
      "\n",
      " (\u001b[1mwarnings.py\u001b[0m:109)\n",
      "[\u001b[1mpy.warnings         \u001b[0m][\u001b[1;33mWARNING\u001b[0m]  \n",
      "\t/Users/archil/Documents/tardis/tardis/plasma/properties/radiative_properties.py:93: RuntimeWarning:\n",
      "\n",
      "invalid value encountered in divide\n",
      "\n",
      " (\u001b[1mwarnings.py\u001b[0m:109)\n"
     ]
    },
    {
     "data": {
      "text/html": [
       "        <script type=\"text/javascript\">\n",
       "        window.PlotlyConfig = {MathJaxConfig: 'local'};\n",
       "        if (window.MathJax && window.MathJax.Hub && window.MathJax.Hub.Config) {window.MathJax.Hub.Config({SVG: {font: \"STIX-Web\"}});}\n",
       "        if (typeof require !== 'undefined') {\n",
       "        require.undef(\"plotly\");\n",
       "        requirejs.config({\n",
       "            paths: {\n",
       "                'plotly': ['https://cdn.plot.ly/plotly-2.26.0.min']\n",
       "            }\n",
       "        });\n",
       "        require(['plotly'], function(Plotly) {\n",
       "            window._Plotly = Plotly;\n",
       "        });\n",
       "        }\n",
       "        </script>\n",
       "        "
      ]
     },
     "metadata": {},
     "output_type": "display_data"
    },
    {
     "data": {
      "text/html": [
       "<div>                            <div id=\"cbef571a-c8b8-49d3-9ade-b51a9cf54db5\" class=\"plotly-graph-div\" style=\"height:450px; width:100%;\"></div>            <script type=\"text/javascript\">                require([\"plotly\"], function(Plotly) {                    window.PLOTLYENV=window.PLOTLYENV || {};                                    if (document.getElementById(\"cbef571a-c8b8-49d3-9ade-b51a9cf54db5\")) {                    Plotly.newPlot(                        \"cbef571a-c8b8-49d3-9ade-b51a9cf54db5\",                        [{\"type\":\"scatter\",\"uid\":\"f07a3554-f87f-40dd-88b3-30c9fbe4f477\",\"xaxis\":\"x\",\"yaxis\":\"y\"},{\"type\":\"scatter\",\"uid\":\"752b5f56-8702-4e89-a59f-26f16e29289b\",\"xaxis\":\"x2\",\"yaxis\":\"y2\"},{\"customdata\":[\"\\u003cbr\\u003eEmitted Luminosity: 7.942e+42\\u003cbr\\u003eRequested Luminosity: 1.059e+43\\u003cbr\\u003eAbsorbed Luminosity: 2.659e+42\",\"\\u003cbr\\u003eEmitted Luminosity: 7.942e+42\\u003cbr\\u003eRequested Luminosity: 1.059e+43\\u003cbr\\u003eAbsorbed Luminosity: 2.659e+42\",\"\\u003cbr\\u003eEmitted Luminosity: 7.942e+42\\u003cbr\\u003eRequested Luminosity: 1.059e+43\\u003cbr\\u003eAbsorbed Luminosity: 2.659e+42\",\"\\u003cbr\\u003eEmitted Luminosity: 7.942e+42\\u003cbr\\u003eRequested Luminosity: 1.059e+43\\u003cbr\\u003eAbsorbed Luminosity: 2.659e+42\",\"\\u003cbr\\u003eEmitted Luminosity: 7.942e+42\\u003cbr\\u003eRequested Luminosity: 1.059e+43\\u003cbr\\u003eAbsorbed Luminosity: 2.659e+42\",\"\\u003cbr\\u003eEmitted Luminosity: 7.942e+42\\u003cbr\\u003eRequested Luminosity: 1.059e+43\\u003cbr\\u003eAbsorbed Luminosity: 2.659e+42\",\"\\u003cbr\\u003eEmitted Luminosity: 7.942e+42\\u003cbr\\u003eRequested Luminosity: 1.059e+43\\u003cbr\\u003eAbsorbed Luminosity: 2.659e+42\",\"\\u003cbr\\u003eEmitted Luminosity: 7.942e+42\\u003cbr\\u003eRequested Luminosity: 1.059e+43\\u003cbr\\u003eAbsorbed Luminosity: 2.659e+42\",\"\\u003cbr\\u003eEmitted Luminosity: 7.942e+42\\u003cbr\\u003eRequested Luminosity: 1.059e+43\\u003cbr\\u003eAbsorbed Luminosity: 2.659e+42\",\"\\u003cbr\\u003eEmitted Luminosity: 7.942e+42\\u003cbr\\u003eRequested Luminosity: 1.059e+43\\u003cbr\\u003eAbsorbed Luminosity: 2.659e+42\",\"\\u003cbr\\u003eEmitted Luminosity: 7.942e+42\\u003cbr\\u003eRequested Luminosity: 1.059e+43\\u003cbr\\u003eAbsorbed Luminosity: 2.659e+42\",\"\\u003cbr\\u003eEmitted Luminosity: 7.942e+42\\u003cbr\\u003eRequested Luminosity: 1.059e+43\\u003cbr\\u003eAbsorbed Luminosity: 2.659e+42\",\"\\u003cbr\\u003eEmitted Luminosity: 7.942e+42\\u003cbr\\u003eRequested Luminosity: 1.059e+43\\u003cbr\\u003eAbsorbed Luminosity: 2.659e+42\",\"\\u003cbr\\u003eEmitted Luminosity: 7.942e+42\\u003cbr\\u003eRequested Luminosity: 1.059e+43\\u003cbr\\u003eAbsorbed Luminosity: 2.659e+42\",\"\\u003cbr\\u003eEmitted Luminosity: 7.942e+42\\u003cbr\\u003eRequested Luminosity: 1.059e+43\\u003cbr\\u003eAbsorbed Luminosity: 2.659e+42\",\"\\u003cbr\\u003eEmitted Luminosity: 7.942e+42\\u003cbr\\u003eRequested Luminosity: 1.059e+43\\u003cbr\\u003eAbsorbed Luminosity: 2.659e+42\",\"\\u003cbr\\u003eEmitted Luminosity: 7.942e+42\\u003cbr\\u003eRequested Luminosity: 1.059e+43\\u003cbr\\u003eAbsorbed Luminosity: 2.659e+42\",\"\\u003cbr\\u003eEmitted Luminosity: 7.942e+42\\u003cbr\\u003eRequested Luminosity: 1.059e+43\\u003cbr\\u003eAbsorbed Luminosity: 2.659e+42\",\"\\u003cbr\\u003eEmitted Luminosity: 7.942e+42\\u003cbr\\u003eRequested Luminosity: 1.059e+43\\u003cbr\\u003eAbsorbed Luminosity: 2.659e+42\",\"\\u003cbr\\u003eEmitted Luminosity: 7.942e+42\\u003cbr\\u003eRequested Luminosity: 1.059e+43\\u003cbr\\u003eAbsorbed Luminosity: 2.659e+42\",\"\\u003cbr\\u003eEmitted Luminosity: 7.942e+42\\u003cbr\\u003eRequested Luminosity: 1.059e+43\\u003cbr\\u003eAbsorbed Luminosity: 2.659e+42\"],\"hovertemplate\":\"\\u003cb\\u003eY\\u003c\\u002fb\\u003e: %{y:.3f} at \\u003cb\\u003eX\\u003c\\u002fb\\u003e = %{x:,.0f}%{customdata}\",\"legendgroup\":\"group-1\",\"line\":{\"color\":\"#000080\"},\"name\":\"1\",\"showlegend\":false,\"x\":[11000.0,11450.000000000002,11900.000000000002,12350.000000000002,12800.000000000002,13250.000000000002,13700.000000000002,14150.000000000002,14600.000000000002,15050.000000000002,15500.000000000002,15950.000000000002,16400.0,16850.0,17300.0,17750.0,18200.0,18650.0,19100.0,19550.0,20000.0],\"y\":[10140.644658439543,10163.140953757296,10199.39278122234,10228.793058184718,10271.147759281053,10224.009713529724,10228.732523936604,10216.980499751211,10217.78303396396,10193.70623160388,10148.778794246122,10080.1367902474,10031.646882137078,10030.254549667035,9988.12702379364,9874.634222100447,9844.47490313032,9776.381862231514,9680.562581778328,9611.593058427059],\"type\":\"scatter\",\"uid\":\"81f8f953-0aeb-40a2-94e5-4bfa49b44027\",\"xaxis\":\"x\",\"yaxis\":\"y\"},{\"customdata\":[\"\\u003cbr\\u003eEmitted Luminosity: 7.942e+42\\u003cbr\\u003eRequested Luminosity: 1.059e+43\\u003cbr\\u003eAbsorbed Luminosity: 2.659e+42\",\"\\u003cbr\\u003eEmitted Luminosity: 7.942e+42\\u003cbr\\u003eRequested Luminosity: 1.059e+43\\u003cbr\\u003eAbsorbed Luminosity: 2.659e+42\",\"\\u003cbr\\u003eEmitted Luminosity: 7.942e+42\\u003cbr\\u003eRequested Luminosity: 1.059e+43\\u003cbr\\u003eAbsorbed Luminosity: 2.659e+42\",\"\\u003cbr\\u003eEmitted Luminosity: 7.942e+42\\u003cbr\\u003eRequested Luminosity: 1.059e+43\\u003cbr\\u003eAbsorbed Luminosity: 2.659e+42\",\"\\u003cbr\\u003eEmitted Luminosity: 7.942e+42\\u003cbr\\u003eRequested Luminosity: 1.059e+43\\u003cbr\\u003eAbsorbed Luminosity: 2.659e+42\",\"\\u003cbr\\u003eEmitted Luminosity: 7.942e+42\\u003cbr\\u003eRequested Luminosity: 1.059e+43\\u003cbr\\u003eAbsorbed Luminosity: 2.659e+42\",\"\\u003cbr\\u003eEmitted Luminosity: 7.942e+42\\u003cbr\\u003eRequested Luminosity: 1.059e+43\\u003cbr\\u003eAbsorbed Luminosity: 2.659e+42\",\"\\u003cbr\\u003eEmitted Luminosity: 7.942e+42\\u003cbr\\u003eRequested Luminosity: 1.059e+43\\u003cbr\\u003eAbsorbed Luminosity: 2.659e+42\",\"\\u003cbr\\u003eEmitted Luminosity: 7.942e+42\\u003cbr\\u003eRequested Luminosity: 1.059e+43\\u003cbr\\u003eAbsorbed Luminosity: 2.659e+42\",\"\\u003cbr\\u003eEmitted Luminosity: 7.942e+42\\u003cbr\\u003eRequested Luminosity: 1.059e+43\\u003cbr\\u003eAbsorbed Luminosity: 2.659e+42\",\"\\u003cbr\\u003eEmitted Luminosity: 7.942e+42\\u003cbr\\u003eRequested Luminosity: 1.059e+43\\u003cbr\\u003eAbsorbed Luminosity: 2.659e+42\",\"\\u003cbr\\u003eEmitted Luminosity: 7.942e+42\\u003cbr\\u003eRequested Luminosity: 1.059e+43\\u003cbr\\u003eAbsorbed Luminosity: 2.659e+42\",\"\\u003cbr\\u003eEmitted Luminosity: 7.942e+42\\u003cbr\\u003eRequested Luminosity: 1.059e+43\\u003cbr\\u003eAbsorbed Luminosity: 2.659e+42\",\"\\u003cbr\\u003eEmitted Luminosity: 7.942e+42\\u003cbr\\u003eRequested Luminosity: 1.059e+43\\u003cbr\\u003eAbsorbed Luminosity: 2.659e+42\",\"\\u003cbr\\u003eEmitted Luminosity: 7.942e+42\\u003cbr\\u003eRequested Luminosity: 1.059e+43\\u003cbr\\u003eAbsorbed Luminosity: 2.659e+42\",\"\\u003cbr\\u003eEmitted Luminosity: 7.942e+42\\u003cbr\\u003eRequested Luminosity: 1.059e+43\\u003cbr\\u003eAbsorbed Luminosity: 2.659e+42\",\"\\u003cbr\\u003eEmitted Luminosity: 7.942e+42\\u003cbr\\u003eRequested Luminosity: 1.059e+43\\u003cbr\\u003eAbsorbed Luminosity: 2.659e+42\",\"\\u003cbr\\u003eEmitted Luminosity: 7.942e+42\\u003cbr\\u003eRequested Luminosity: 1.059e+43\\u003cbr\\u003eAbsorbed Luminosity: 2.659e+42\",\"\\u003cbr\\u003eEmitted Luminosity: 7.942e+42\\u003cbr\\u003eRequested Luminosity: 1.059e+43\\u003cbr\\u003eAbsorbed Luminosity: 2.659e+42\",\"\\u003cbr\\u003eEmitted Luminosity: 7.942e+42\\u003cbr\\u003eRequested Luminosity: 1.059e+43\\u003cbr\\u003eAbsorbed Luminosity: 2.659e+42\",\"\\u003cbr\\u003eEmitted Luminosity: 7.942e+42\\u003cbr\\u003eRequested Luminosity: 1.059e+43\\u003cbr\\u003eAbsorbed Luminosity: 2.659e+42\"],\"hovertemplate\":\"\\u003cb\\u003eY\\u003c\\u002fb\\u003e: %{y:.3f} at \\u003cb\\u003eX\\u003c\\u002fb\\u003e = %{x:,.0f}%{customdata}\",\"legendgroup\":\"group-1\",\"line\":{\"color\":\"#000080\"},\"name\":\"1\",\"x\":[11000.0,11450.000000000002,11900.000000000002,12350.000000000002,12800.000000000002,13250.000000000002,13700.000000000002,14150.000000000002,14600.000000000002,15050.000000000002,15500.000000000002,15950.000000000002,16400.0,16850.0,17300.0,17750.0,18200.0,18650.0,19100.0,19550.0,20000.0],\"y\":[0.5074939829206927,0.395938311628919,0.3215048588865522,0.26573787630888074,0.22365159665751644,0.19686688849248649,0.1746427953806126,0.15625093331810774,0.13946942342362365,0.12759533918829502,0.1169779496644203,0.10915672831486259,0.10296463647641337,0.09515332126864089,0.08981745405810745,0.08689548233577318,0.08198790793189169,0.07881149990806662,0.07637264409196302,0.07345198061495413],\"type\":\"scatter\",\"uid\":\"d8f13d31-142a-43f2-9eb7-761d741b5771\",\"xaxis\":\"x2\",\"yaxis\":\"y2\"},{\"customdata\":[\"\\u003cbr\\u003eEmitted Luminosity: 1.071e+43\\u003cbr\\u003eRequested Luminosity: 1.059e+43\\u003cbr\\u003eAbsorbed Luminosity: 3.576e+42\",\"\\u003cbr\\u003eEmitted Luminosity: 1.071e+43\\u003cbr\\u003eRequested Luminosity: 1.059e+43\\u003cbr\\u003eAbsorbed Luminosity: 3.576e+42\",\"\\u003cbr\\u003eEmitted Luminosity: 1.071e+43\\u003cbr\\u003eRequested Luminosity: 1.059e+43\\u003cbr\\u003eAbsorbed Luminosity: 3.576e+42\",\"\\u003cbr\\u003eEmitted Luminosity: 1.071e+43\\u003cbr\\u003eRequested Luminosity: 1.059e+43\\u003cbr\\u003eAbsorbed Luminosity: 3.576e+42\",\"\\u003cbr\\u003eEmitted Luminosity: 1.071e+43\\u003cbr\\u003eRequested Luminosity: 1.059e+43\\u003cbr\\u003eAbsorbed Luminosity: 3.576e+42\",\"\\u003cbr\\u003eEmitted Luminosity: 1.071e+43\\u003cbr\\u003eRequested Luminosity: 1.059e+43\\u003cbr\\u003eAbsorbed Luminosity: 3.576e+42\",\"\\u003cbr\\u003eEmitted Luminosity: 1.071e+43\\u003cbr\\u003eRequested Luminosity: 1.059e+43\\u003cbr\\u003eAbsorbed Luminosity: 3.576e+42\",\"\\u003cbr\\u003eEmitted Luminosity: 1.071e+43\\u003cbr\\u003eRequested Luminosity: 1.059e+43\\u003cbr\\u003eAbsorbed Luminosity: 3.576e+42\",\"\\u003cbr\\u003eEmitted Luminosity: 1.071e+43\\u003cbr\\u003eRequested Luminosity: 1.059e+43\\u003cbr\\u003eAbsorbed Luminosity: 3.576e+42\",\"\\u003cbr\\u003eEmitted Luminosity: 1.071e+43\\u003cbr\\u003eRequested Luminosity: 1.059e+43\\u003cbr\\u003eAbsorbed Luminosity: 3.576e+42\",\"\\u003cbr\\u003eEmitted Luminosity: 1.071e+43\\u003cbr\\u003eRequested Luminosity: 1.059e+43\\u003cbr\\u003eAbsorbed Luminosity: 3.576e+42\",\"\\u003cbr\\u003eEmitted Luminosity: 1.071e+43\\u003cbr\\u003eRequested Luminosity: 1.059e+43\\u003cbr\\u003eAbsorbed Luminosity: 3.576e+42\",\"\\u003cbr\\u003eEmitted Luminosity: 1.071e+43\\u003cbr\\u003eRequested Luminosity: 1.059e+43\\u003cbr\\u003eAbsorbed Luminosity: 3.576e+42\",\"\\u003cbr\\u003eEmitted Luminosity: 1.071e+43\\u003cbr\\u003eRequested Luminosity: 1.059e+43\\u003cbr\\u003eAbsorbed Luminosity: 3.576e+42\",\"\\u003cbr\\u003eEmitted Luminosity: 1.071e+43\\u003cbr\\u003eRequested Luminosity: 1.059e+43\\u003cbr\\u003eAbsorbed Luminosity: 3.576e+42\",\"\\u003cbr\\u003eEmitted Luminosity: 1.071e+43\\u003cbr\\u003eRequested Luminosity: 1.059e+43\\u003cbr\\u003eAbsorbed Luminosity: 3.576e+42\",\"\\u003cbr\\u003eEmitted Luminosity: 1.071e+43\\u003cbr\\u003eRequested Luminosity: 1.059e+43\\u003cbr\\u003eAbsorbed Luminosity: 3.576e+42\",\"\\u003cbr\\u003eEmitted Luminosity: 1.071e+43\\u003cbr\\u003eRequested Luminosity: 1.059e+43\\u003cbr\\u003eAbsorbed Luminosity: 3.576e+42\",\"\\u003cbr\\u003eEmitted Luminosity: 1.071e+43\\u003cbr\\u003eRequested Luminosity: 1.059e+43\\u003cbr\\u003eAbsorbed Luminosity: 3.576e+42\",\"\\u003cbr\\u003eEmitted Luminosity: 1.071e+43\\u003cbr\\u003eRequested Luminosity: 1.059e+43\\u003cbr\\u003eAbsorbed Luminosity: 3.576e+42\",\"\\u003cbr\\u003eEmitted Luminosity: 1.071e+43\\u003cbr\\u003eRequested Luminosity: 1.059e+43\\u003cbr\\u003eAbsorbed Luminosity: 3.576e+42\"],\"hovertemplate\":\"\\u003cb\\u003eY\\u003c\\u002fb\\u003e: %{y:.3f} at \\u003cb\\u003eX\\u003c\\u002fb\\u003e = %{x:,.0f}%{customdata}\",\"legendgroup\":\"group-2\",\"line\":{\"color\":\"#0000bd\"},\"name\":\"2\",\"showlegend\":false,\"x\":[11000.0,11450.000000000002,11900.000000000002,12350.000000000002,12800.000000000002,13250.000000000002,13700.000000000002,14150.000000000002,14600.000000000002,15050.000000000002,15500.000000000002,15950.000000000002,16400.0,16850.0,17300.0,17750.0,18200.0,18650.0,19100.0,19550.0,20000.0],\"y\":[10821.384716452616,10824.073750748423,10898.794282582276,10931.581728038509,10962.88335303045,10956.472449386318,10935.661811838703,10896.394485335459,10868.778286813798,10846.860647428977,10799.242899977491,10741.078256171437,10679.036544922546,10616.641362769296,10548.485755133164,10483.027318852866,10402.588493175823,10353.528838881308,10280.790364670054,10205.89807450607],\"type\":\"scatter\",\"uid\":\"8bf1dbb3-139b-40e3-88ea-2915c0917690\",\"xaxis\":\"x\",\"yaxis\":\"y\"},{\"customdata\":[\"\\u003cbr\\u003eEmitted Luminosity: 1.071e+43\\u003cbr\\u003eRequested Luminosity: 1.059e+43\\u003cbr\\u003eAbsorbed Luminosity: 3.576e+42\",\"\\u003cbr\\u003eEmitted Luminosity: 1.071e+43\\u003cbr\\u003eRequested Luminosity: 1.059e+43\\u003cbr\\u003eAbsorbed Luminosity: 3.576e+42\",\"\\u003cbr\\u003eEmitted Luminosity: 1.071e+43\\u003cbr\\u003eRequested Luminosity: 1.059e+43\\u003cbr\\u003eAbsorbed Luminosity: 3.576e+42\",\"\\u003cbr\\u003eEmitted Luminosity: 1.071e+43\\u003cbr\\u003eRequested Luminosity: 1.059e+43\\u003cbr\\u003eAbsorbed Luminosity: 3.576e+42\",\"\\u003cbr\\u003eEmitted Luminosity: 1.071e+43\\u003cbr\\u003eRequested Luminosity: 1.059e+43\\u003cbr\\u003eAbsorbed Luminosity: 3.576e+42\",\"\\u003cbr\\u003eEmitted Luminosity: 1.071e+43\\u003cbr\\u003eRequested Luminosity: 1.059e+43\\u003cbr\\u003eAbsorbed Luminosity: 3.576e+42\",\"\\u003cbr\\u003eEmitted Luminosity: 1.071e+43\\u003cbr\\u003eRequested Luminosity: 1.059e+43\\u003cbr\\u003eAbsorbed Luminosity: 3.576e+42\",\"\\u003cbr\\u003eEmitted Luminosity: 1.071e+43\\u003cbr\\u003eRequested Luminosity: 1.059e+43\\u003cbr\\u003eAbsorbed Luminosity: 3.576e+42\",\"\\u003cbr\\u003eEmitted Luminosity: 1.071e+43\\u003cbr\\u003eRequested Luminosity: 1.059e+43\\u003cbr\\u003eAbsorbed Luminosity: 3.576e+42\",\"\\u003cbr\\u003eEmitted Luminosity: 1.071e+43\\u003cbr\\u003eRequested Luminosity: 1.059e+43\\u003cbr\\u003eAbsorbed Luminosity: 3.576e+42\",\"\\u003cbr\\u003eEmitted Luminosity: 1.071e+43\\u003cbr\\u003eRequested Luminosity: 1.059e+43\\u003cbr\\u003eAbsorbed Luminosity: 3.576e+42\",\"\\u003cbr\\u003eEmitted Luminosity: 1.071e+43\\u003cbr\\u003eRequested Luminosity: 1.059e+43\\u003cbr\\u003eAbsorbed Luminosity: 3.576e+42\",\"\\u003cbr\\u003eEmitted Luminosity: 1.071e+43\\u003cbr\\u003eRequested Luminosity: 1.059e+43\\u003cbr\\u003eAbsorbed Luminosity: 3.576e+42\",\"\\u003cbr\\u003eEmitted Luminosity: 1.071e+43\\u003cbr\\u003eRequested Luminosity: 1.059e+43\\u003cbr\\u003eAbsorbed Luminosity: 3.576e+42\",\"\\u003cbr\\u003eEmitted Luminosity: 1.071e+43\\u003cbr\\u003eRequested Luminosity: 1.059e+43\\u003cbr\\u003eAbsorbed Luminosity: 3.576e+42\",\"\\u003cbr\\u003eEmitted Luminosity: 1.071e+43\\u003cbr\\u003eRequested Luminosity: 1.059e+43\\u003cbr\\u003eAbsorbed Luminosity: 3.576e+42\",\"\\u003cbr\\u003eEmitted Luminosity: 1.071e+43\\u003cbr\\u003eRequested Luminosity: 1.059e+43\\u003cbr\\u003eAbsorbed Luminosity: 3.576e+42\",\"\\u003cbr\\u003eEmitted Luminosity: 1.071e+43\\u003cbr\\u003eRequested Luminosity: 1.059e+43\\u003cbr\\u003eAbsorbed Luminosity: 3.576e+42\",\"\\u003cbr\\u003eEmitted Luminosity: 1.071e+43\\u003cbr\\u003eRequested Luminosity: 1.059e+43\\u003cbr\\u003eAbsorbed Luminosity: 3.576e+42\",\"\\u003cbr\\u003eEmitted Luminosity: 1.071e+43\\u003cbr\\u003eRequested Luminosity: 1.059e+43\\u003cbr\\u003eAbsorbed Luminosity: 3.576e+42\",\"\\u003cbr\\u003eEmitted Luminosity: 1.071e+43\\u003cbr\\u003eRequested Luminosity: 1.059e+43\\u003cbr\\u003eAbsorbed Luminosity: 3.576e+42\"],\"hovertemplate\":\"\\u003cb\\u003eY\\u003c\\u002fb\\u003e: %{y:.3f} at \\u003cb\\u003eX\\u003c\\u002fb\\u003e = %{x:,.0f}%{customdata}\",\"legendgroup\":\"group-2\",\"line\":{\"color\":\"#0000bd\"},\"name\":\"2\",\"x\":[11000.0,11450.000000000002,11900.000000000002,12350.000000000002,12800.000000000002,13250.000000000002,13700.000000000002,14150.000000000002,14600.000000000002,15050.000000000002,15500.000000000002,15950.000000000002,16400.0,16850.0,17300.0,17750.0,18200.0,18650.0,19100.0,19550.0,20000.0],\"y\":[0.5246621760292536,0.4119169724210489,0.3308242841928405,0.2739415803649496,0.23102276356532628,0.20265771066458577,0.18068103823778459,0.16215467464075065,0.14618948104529492,0.13362668956992635,0.12450448547982654,0.11605105087549379,0.10925211388307206,0.10302987363746934,0.09831778993852515,0.09325771312762002,0.08908435787384904,0.08446805448195209,0.0811771288411871,0.07815148665239886],\"type\":\"scatter\",\"uid\":\"3b63c73f-25f9-4619-8e99-208b7d78cbb8\",\"xaxis\":\"x2\",\"yaxis\":\"y2\"},{\"customdata\":[\"\\u003cbr\\u003eEmitted Luminosity: 1.074e+43\\u003cbr\\u003eRequested Luminosity: 1.059e+43\\u003cbr\\u003eAbsorbed Luminosity: 3.391e+42\",\"\\u003cbr\\u003eEmitted Luminosity: 1.074e+43\\u003cbr\\u003eRequested Luminosity: 1.059e+43\\u003cbr\\u003eAbsorbed Luminosity: 3.391e+42\",\"\\u003cbr\\u003eEmitted Luminosity: 1.074e+43\\u003cbr\\u003eRequested Luminosity: 1.059e+43\\u003cbr\\u003eAbsorbed Luminosity: 3.391e+42\",\"\\u003cbr\\u003eEmitted Luminosity: 1.074e+43\\u003cbr\\u003eRequested Luminosity: 1.059e+43\\u003cbr\\u003eAbsorbed Luminosity: 3.391e+42\",\"\\u003cbr\\u003eEmitted Luminosity: 1.074e+43\\u003cbr\\u003eRequested Luminosity: 1.059e+43\\u003cbr\\u003eAbsorbed Luminosity: 3.391e+42\",\"\\u003cbr\\u003eEmitted Luminosity: 1.074e+43\\u003cbr\\u003eRequested Luminosity: 1.059e+43\\u003cbr\\u003eAbsorbed Luminosity: 3.391e+42\",\"\\u003cbr\\u003eEmitted Luminosity: 1.074e+43\\u003cbr\\u003eRequested Luminosity: 1.059e+43\\u003cbr\\u003eAbsorbed Luminosity: 3.391e+42\",\"\\u003cbr\\u003eEmitted Luminosity: 1.074e+43\\u003cbr\\u003eRequested Luminosity: 1.059e+43\\u003cbr\\u003eAbsorbed Luminosity: 3.391e+42\",\"\\u003cbr\\u003eEmitted Luminosity: 1.074e+43\\u003cbr\\u003eRequested Luminosity: 1.059e+43\\u003cbr\\u003eAbsorbed Luminosity: 3.391e+42\",\"\\u003cbr\\u003eEmitted Luminosity: 1.074e+43\\u003cbr\\u003eRequested Luminosity: 1.059e+43\\u003cbr\\u003eAbsorbed Luminosity: 3.391e+42\",\"\\u003cbr\\u003eEmitted Luminosity: 1.074e+43\\u003cbr\\u003eRequested Luminosity: 1.059e+43\\u003cbr\\u003eAbsorbed Luminosity: 3.391e+42\",\"\\u003cbr\\u003eEmitted Luminosity: 1.074e+43\\u003cbr\\u003eRequested Luminosity: 1.059e+43\\u003cbr\\u003eAbsorbed Luminosity: 3.391e+42\",\"\\u003cbr\\u003eEmitted Luminosity: 1.074e+43\\u003cbr\\u003eRequested Luminosity: 1.059e+43\\u003cbr\\u003eAbsorbed Luminosity: 3.391e+42\",\"\\u003cbr\\u003eEmitted Luminosity: 1.074e+43\\u003cbr\\u003eRequested Luminosity: 1.059e+43\\u003cbr\\u003eAbsorbed Luminosity: 3.391e+42\",\"\\u003cbr\\u003eEmitted Luminosity: 1.074e+43\\u003cbr\\u003eRequested Luminosity: 1.059e+43\\u003cbr\\u003eAbsorbed Luminosity: 3.391e+42\",\"\\u003cbr\\u003eEmitted Luminosity: 1.074e+43\\u003cbr\\u003eRequested Luminosity: 1.059e+43\\u003cbr\\u003eAbsorbed Luminosity: 3.391e+42\",\"\\u003cbr\\u003eEmitted Luminosity: 1.074e+43\\u003cbr\\u003eRequested Luminosity: 1.059e+43\\u003cbr\\u003eAbsorbed Luminosity: 3.391e+42\",\"\\u003cbr\\u003eEmitted Luminosity: 1.074e+43\\u003cbr\\u003eRequested Luminosity: 1.059e+43\\u003cbr\\u003eAbsorbed Luminosity: 3.391e+42\",\"\\u003cbr\\u003eEmitted Luminosity: 1.074e+43\\u003cbr\\u003eRequested Luminosity: 1.059e+43\\u003cbr\\u003eAbsorbed Luminosity: 3.391e+42\",\"\\u003cbr\\u003eEmitted Luminosity: 1.074e+43\\u003cbr\\u003eRequested Luminosity: 1.059e+43\\u003cbr\\u003eAbsorbed Luminosity: 3.391e+42\",\"\\u003cbr\\u003eEmitted Luminosity: 1.074e+43\\u003cbr\\u003eRequested Luminosity: 1.059e+43\\u003cbr\\u003eAbsorbed Luminosity: 3.391e+42\"],\"hovertemplate\":\"\\u003cb\\u003eY\\u003c\\u002fb\\u003e: %{y:.3f} at \\u003cb\\u003eX\\u003c\\u002fb\\u003e = %{x:,.0f}%{customdata}\",\"legendgroup\":\"group-3\",\"line\":{\"color\":\"#0000fa\"},\"name\":\"3\",\"showlegend\":false,\"x\":[11000.0,11450.000000000002,11900.000000000002,12350.000000000002,12800.000000000002,13250.000000000002,13700.000000000002,14150.000000000002,14600.000000000002,15050.000000000002,15500.000000000002,15950.000000000002,16400.0,16850.0,17300.0,17750.0,18200.0,18650.0,19100.0,19550.0,20000.0],\"y\":[11001.634918288766,11064.199689011097,11146.78754505751,11182.28065333175,11189.736123692383,11179.454369423833,11213.792074052699,11157.651049771413,11091.366692176993,11032.681911673415,10951.713111707246,10882.347593647746,10815.565741490958,10758.062388449991,10666.64578956021,10589.476597771152,10519.279070600578,10489.380846260958,10394.331364500697,10280.44535660763],\"type\":\"scatter\",\"uid\":\"38af787e-b404-46ed-96f7-49cb1d3638c9\",\"xaxis\":\"x\",\"yaxis\":\"y\"},{\"customdata\":[\"\\u003cbr\\u003eEmitted Luminosity: 1.074e+43\\u003cbr\\u003eRequested Luminosity: 1.059e+43\\u003cbr\\u003eAbsorbed Luminosity: 3.391e+42\",\"\\u003cbr\\u003eEmitted Luminosity: 1.074e+43\\u003cbr\\u003eRequested Luminosity: 1.059e+43\\u003cbr\\u003eAbsorbed Luminosity: 3.391e+42\",\"\\u003cbr\\u003eEmitted Luminosity: 1.074e+43\\u003cbr\\u003eRequested Luminosity: 1.059e+43\\u003cbr\\u003eAbsorbed Luminosity: 3.391e+42\",\"\\u003cbr\\u003eEmitted Luminosity: 1.074e+43\\u003cbr\\u003eRequested Luminosity: 1.059e+43\\u003cbr\\u003eAbsorbed Luminosity: 3.391e+42\",\"\\u003cbr\\u003eEmitted Luminosity: 1.074e+43\\u003cbr\\u003eRequested Luminosity: 1.059e+43\\u003cbr\\u003eAbsorbed Luminosity: 3.391e+42\",\"\\u003cbr\\u003eEmitted Luminosity: 1.074e+43\\u003cbr\\u003eRequested Luminosity: 1.059e+43\\u003cbr\\u003eAbsorbed Luminosity: 3.391e+42\",\"\\u003cbr\\u003eEmitted Luminosity: 1.074e+43\\u003cbr\\u003eRequested Luminosity: 1.059e+43\\u003cbr\\u003eAbsorbed Luminosity: 3.391e+42\",\"\\u003cbr\\u003eEmitted Luminosity: 1.074e+43\\u003cbr\\u003eRequested Luminosity: 1.059e+43\\u003cbr\\u003eAbsorbed Luminosity: 3.391e+42\",\"\\u003cbr\\u003eEmitted Luminosity: 1.074e+43\\u003cbr\\u003eRequested Luminosity: 1.059e+43\\u003cbr\\u003eAbsorbed Luminosity: 3.391e+42\",\"\\u003cbr\\u003eEmitted Luminosity: 1.074e+43\\u003cbr\\u003eRequested Luminosity: 1.059e+43\\u003cbr\\u003eAbsorbed Luminosity: 3.391e+42\",\"\\u003cbr\\u003eEmitted Luminosity: 1.074e+43\\u003cbr\\u003eRequested Luminosity: 1.059e+43\\u003cbr\\u003eAbsorbed Luminosity: 3.391e+42\",\"\\u003cbr\\u003eEmitted Luminosity: 1.074e+43\\u003cbr\\u003eRequested Luminosity: 1.059e+43\\u003cbr\\u003eAbsorbed Luminosity: 3.391e+42\",\"\\u003cbr\\u003eEmitted Luminosity: 1.074e+43\\u003cbr\\u003eRequested Luminosity: 1.059e+43\\u003cbr\\u003eAbsorbed Luminosity: 3.391e+42\",\"\\u003cbr\\u003eEmitted Luminosity: 1.074e+43\\u003cbr\\u003eRequested Luminosity: 1.059e+43\\u003cbr\\u003eAbsorbed Luminosity: 3.391e+42\",\"\\u003cbr\\u003eEmitted Luminosity: 1.074e+43\\u003cbr\\u003eRequested Luminosity: 1.059e+43\\u003cbr\\u003eAbsorbed Luminosity: 3.391e+42\",\"\\u003cbr\\u003eEmitted Luminosity: 1.074e+43\\u003cbr\\u003eRequested Luminosity: 1.059e+43\\u003cbr\\u003eAbsorbed Luminosity: 3.391e+42\",\"\\u003cbr\\u003eEmitted Luminosity: 1.074e+43\\u003cbr\\u003eRequested Luminosity: 1.059e+43\\u003cbr\\u003eAbsorbed Luminosity: 3.391e+42\",\"\\u003cbr\\u003eEmitted Luminosity: 1.074e+43\\u003cbr\\u003eRequested Luminosity: 1.059e+43\\u003cbr\\u003eAbsorbed Luminosity: 3.391e+42\",\"\\u003cbr\\u003eEmitted Luminosity: 1.074e+43\\u003cbr\\u003eRequested Luminosity: 1.059e+43\\u003cbr\\u003eAbsorbed Luminosity: 3.391e+42\",\"\\u003cbr\\u003eEmitted Luminosity: 1.074e+43\\u003cbr\\u003eRequested Luminosity: 1.059e+43\\u003cbr\\u003eAbsorbed Luminosity: 3.391e+42\",\"\\u003cbr\\u003eEmitted Luminosity: 1.074e+43\\u003cbr\\u003eRequested Luminosity: 1.059e+43\\u003cbr\\u003eAbsorbed Luminosity: 3.391e+42\"],\"hovertemplate\":\"\\u003cb\\u003eY\\u003c\\u002fb\\u003e: %{y:.3f} at \\u003cb\\u003eX\\u003c\\u002fb\\u003e = %{x:,.0f}%{customdata}\",\"legendgroup\":\"group-3\",\"line\":{\"color\":\"#0000fa\"},\"name\":\"3\",\"x\":[11000.0,11450.000000000002,11900.000000000002,12350.000000000002,12800.000000000002,13250.000000000002,13700.000000000002,14150.000000000002,14600.000000000002,15050.000000000002,15500.000000000002,15950.000000000002,16400.0,16850.0,17300.0,17750.0,18200.0,18650.0,19100.0,19550.0,20000.0],\"y\":[0.48255611027402795,0.3753167390018869,0.30088544054364474,0.24970650566435543,0.21504788747697864,0.1889210232599792,0.16485989155704592,0.14922567218546726,0.13734334903666479,0.1270628239280639,0.11816510452204756,0.11046612213518466,0.10408751562676508,0.09837704095780837,0.09380107799148024,0.08948233963910233,0.08532986022143968,0.08049857949608501,0.07819235373949807,0.0759958975638244],\"type\":\"scatter\",\"uid\":\"ff345f92-d423-4fbb-b9eb-1c8221a6bf81\",\"xaxis\":\"x2\",\"yaxis\":\"y2\"},{\"customdata\":[\"\\u003cbr\\u003eEmitted Luminosity: 1.058e+43\\u003cbr\\u003eRequested Luminosity: 1.059e+43\\u003cbr\\u003eAbsorbed Luminosity: 3.352e+42\",\"\\u003cbr\\u003eEmitted Luminosity: 1.058e+43\\u003cbr\\u003eRequested Luminosity: 1.059e+43\\u003cbr\\u003eAbsorbed Luminosity: 3.352e+42\",\"\\u003cbr\\u003eEmitted Luminosity: 1.058e+43\\u003cbr\\u003eRequested Luminosity: 1.059e+43\\u003cbr\\u003eAbsorbed Luminosity: 3.352e+42\",\"\\u003cbr\\u003eEmitted Luminosity: 1.058e+43\\u003cbr\\u003eRequested Luminosity: 1.059e+43\\u003cbr\\u003eAbsorbed Luminosity: 3.352e+42\",\"\\u003cbr\\u003eEmitted Luminosity: 1.058e+43\\u003cbr\\u003eRequested Luminosity: 1.059e+43\\u003cbr\\u003eAbsorbed Luminosity: 3.352e+42\",\"\\u003cbr\\u003eEmitted Luminosity: 1.058e+43\\u003cbr\\u003eRequested Luminosity: 1.059e+43\\u003cbr\\u003eAbsorbed Luminosity: 3.352e+42\",\"\\u003cbr\\u003eEmitted Luminosity: 1.058e+43\\u003cbr\\u003eRequested Luminosity: 1.059e+43\\u003cbr\\u003eAbsorbed Luminosity: 3.352e+42\",\"\\u003cbr\\u003eEmitted Luminosity: 1.058e+43\\u003cbr\\u003eRequested Luminosity: 1.059e+43\\u003cbr\\u003eAbsorbed Luminosity: 3.352e+42\",\"\\u003cbr\\u003eEmitted Luminosity: 1.058e+43\\u003cbr\\u003eRequested Luminosity: 1.059e+43\\u003cbr\\u003eAbsorbed Luminosity: 3.352e+42\",\"\\u003cbr\\u003eEmitted Luminosity: 1.058e+43\\u003cbr\\u003eRequested Luminosity: 1.059e+43\\u003cbr\\u003eAbsorbed Luminosity: 3.352e+42\",\"\\u003cbr\\u003eEmitted Luminosity: 1.058e+43\\u003cbr\\u003eRequested Luminosity: 1.059e+43\\u003cbr\\u003eAbsorbed Luminosity: 3.352e+42\",\"\\u003cbr\\u003eEmitted Luminosity: 1.058e+43\\u003cbr\\u003eRequested Luminosity: 1.059e+43\\u003cbr\\u003eAbsorbed Luminosity: 3.352e+42\",\"\\u003cbr\\u003eEmitted Luminosity: 1.058e+43\\u003cbr\\u003eRequested Luminosity: 1.059e+43\\u003cbr\\u003eAbsorbed Luminosity: 3.352e+42\",\"\\u003cbr\\u003eEmitted Luminosity: 1.058e+43\\u003cbr\\u003eRequested Luminosity: 1.059e+43\\u003cbr\\u003eAbsorbed Luminosity: 3.352e+42\",\"\\u003cbr\\u003eEmitted Luminosity: 1.058e+43\\u003cbr\\u003eRequested Luminosity: 1.059e+43\\u003cbr\\u003eAbsorbed Luminosity: 3.352e+42\",\"\\u003cbr\\u003eEmitted Luminosity: 1.058e+43\\u003cbr\\u003eRequested Luminosity: 1.059e+43\\u003cbr\\u003eAbsorbed Luminosity: 3.352e+42\",\"\\u003cbr\\u003eEmitted Luminosity: 1.058e+43\\u003cbr\\u003eRequested Luminosity: 1.059e+43\\u003cbr\\u003eAbsorbed Luminosity: 3.352e+42\",\"\\u003cbr\\u003eEmitted Luminosity: 1.058e+43\\u003cbr\\u003eRequested Luminosity: 1.059e+43\\u003cbr\\u003eAbsorbed Luminosity: 3.352e+42\",\"\\u003cbr\\u003eEmitted Luminosity: 1.058e+43\\u003cbr\\u003eRequested Luminosity: 1.059e+43\\u003cbr\\u003eAbsorbed Luminosity: 3.352e+42\",\"\\u003cbr\\u003eEmitted Luminosity: 1.058e+43\\u003cbr\\u003eRequested Luminosity: 1.059e+43\\u003cbr\\u003eAbsorbed Luminosity: 3.352e+42\",\"\\u003cbr\\u003eEmitted Luminosity: 1.058e+43\\u003cbr\\u003eRequested Luminosity: 1.059e+43\\u003cbr\\u003eAbsorbed Luminosity: 3.352e+42\"],\"hovertemplate\":\"\\u003cb\\u003eY\\u003c\\u002fb\\u003e: %{y:.3f} at \\u003cb\\u003eX\\u003c\\u002fb\\u003e = %{x:,.0f}%{customdata}\",\"legendgroup\":\"group-4\",\"line\":{\"color\":\"#0022ff\"},\"name\":\"4\",\"showlegend\":false,\"x\":[11000.0,11450.000000000002,11900.000000000002,12350.000000000002,12800.000000000002,13250.000000000002,13700.000000000002,14150.000000000002,14600.000000000002,15050.000000000002,15500.000000000002,15950.000000000002,16400.0,16850.0,17300.0,17750.0,18200.0,18650.0,19100.0,19550.0,20000.0],\"y\":[11038.69813331972,11131.435799441571,11213.984633035105,11254.938537458935,11264.107561079203,11231.114026250614,11180.234767099437,11161.437575828268,11095.861090734456,11098.458607564851,11036.771405771045,10960.496906399803,10968.575819463369,10890.828989905976,10799.341137335263,10659.853383147954,10549.231623432079,10506.788250185054,10398.595227817386,10289.349894730596],\"type\":\"scatter\",\"uid\":\"96993324-3fae-4b0e-ae30-c690b5dcb4ba\",\"xaxis\":\"x\",\"yaxis\":\"y\"},{\"customdata\":[\"\\u003cbr\\u003eEmitted Luminosity: 1.058e+43\\u003cbr\\u003eRequested Luminosity: 1.059e+43\\u003cbr\\u003eAbsorbed Luminosity: 3.352e+42\",\"\\u003cbr\\u003eEmitted Luminosity: 1.058e+43\\u003cbr\\u003eRequested Luminosity: 1.059e+43\\u003cbr\\u003eAbsorbed Luminosity: 3.352e+42\",\"\\u003cbr\\u003eEmitted Luminosity: 1.058e+43\\u003cbr\\u003eRequested Luminosity: 1.059e+43\\u003cbr\\u003eAbsorbed Luminosity: 3.352e+42\",\"\\u003cbr\\u003eEmitted Luminosity: 1.058e+43\\u003cbr\\u003eRequested Luminosity: 1.059e+43\\u003cbr\\u003eAbsorbed Luminosity: 3.352e+42\",\"\\u003cbr\\u003eEmitted Luminosity: 1.058e+43\\u003cbr\\u003eRequested Luminosity: 1.059e+43\\u003cbr\\u003eAbsorbed Luminosity: 3.352e+42\",\"\\u003cbr\\u003eEmitted Luminosity: 1.058e+43\\u003cbr\\u003eRequested Luminosity: 1.059e+43\\u003cbr\\u003eAbsorbed Luminosity: 3.352e+42\",\"\\u003cbr\\u003eEmitted Luminosity: 1.058e+43\\u003cbr\\u003eRequested Luminosity: 1.059e+43\\u003cbr\\u003eAbsorbed Luminosity: 3.352e+42\",\"\\u003cbr\\u003eEmitted Luminosity: 1.058e+43\\u003cbr\\u003eRequested Luminosity: 1.059e+43\\u003cbr\\u003eAbsorbed Luminosity: 3.352e+42\",\"\\u003cbr\\u003eEmitted Luminosity: 1.058e+43\\u003cbr\\u003eRequested Luminosity: 1.059e+43\\u003cbr\\u003eAbsorbed Luminosity: 3.352e+42\",\"\\u003cbr\\u003eEmitted Luminosity: 1.058e+43\\u003cbr\\u003eRequested Luminosity: 1.059e+43\\u003cbr\\u003eAbsorbed Luminosity: 3.352e+42\",\"\\u003cbr\\u003eEmitted Luminosity: 1.058e+43\\u003cbr\\u003eRequested Luminosity: 1.059e+43\\u003cbr\\u003eAbsorbed Luminosity: 3.352e+42\",\"\\u003cbr\\u003eEmitted Luminosity: 1.058e+43\\u003cbr\\u003eRequested Luminosity: 1.059e+43\\u003cbr\\u003eAbsorbed Luminosity: 3.352e+42\",\"\\u003cbr\\u003eEmitted Luminosity: 1.058e+43\\u003cbr\\u003eRequested Luminosity: 1.059e+43\\u003cbr\\u003eAbsorbed Luminosity: 3.352e+42\",\"\\u003cbr\\u003eEmitted Luminosity: 1.058e+43\\u003cbr\\u003eRequested Luminosity: 1.059e+43\\u003cbr\\u003eAbsorbed Luminosity: 3.352e+42\",\"\\u003cbr\\u003eEmitted Luminosity: 1.058e+43\\u003cbr\\u003eRequested Luminosity: 1.059e+43\\u003cbr\\u003eAbsorbed Luminosity: 3.352e+42\",\"\\u003cbr\\u003eEmitted Luminosity: 1.058e+43\\u003cbr\\u003eRequested Luminosity: 1.059e+43\\u003cbr\\u003eAbsorbed Luminosity: 3.352e+42\",\"\\u003cbr\\u003eEmitted Luminosity: 1.058e+43\\u003cbr\\u003eRequested Luminosity: 1.059e+43\\u003cbr\\u003eAbsorbed Luminosity: 3.352e+42\",\"\\u003cbr\\u003eEmitted Luminosity: 1.058e+43\\u003cbr\\u003eRequested Luminosity: 1.059e+43\\u003cbr\\u003eAbsorbed Luminosity: 3.352e+42\",\"\\u003cbr\\u003eEmitted Luminosity: 1.058e+43\\u003cbr\\u003eRequested Luminosity: 1.059e+43\\u003cbr\\u003eAbsorbed Luminosity: 3.352e+42\",\"\\u003cbr\\u003eEmitted Luminosity: 1.058e+43\\u003cbr\\u003eRequested Luminosity: 1.059e+43\\u003cbr\\u003eAbsorbed Luminosity: 3.352e+42\",\"\\u003cbr\\u003eEmitted Luminosity: 1.058e+43\\u003cbr\\u003eRequested Luminosity: 1.059e+43\\u003cbr\\u003eAbsorbed Luminosity: 3.352e+42\"],\"hovertemplate\":\"\\u003cb\\u003eY\\u003c\\u002fb\\u003e: %{y:.3f} at \\u003cb\\u003eX\\u003c\\u002fb\\u003e = %{x:,.0f}%{customdata}\",\"legendgroup\":\"group-4\",\"line\":{\"color\":\"#0022ff\"},\"name\":\"4\",\"x\":[11000.0,11450.000000000002,11900.000000000002,12350.000000000002,12800.000000000002,13250.000000000002,13700.000000000002,14150.000000000002,14600.000000000002,15050.000000000002,15500.000000000002,15950.000000000002,16400.0,16850.0,17300.0,17750.0,18200.0,18650.0,19100.0,19550.0,20000.0],\"y\":[0.4687538476918104,0.3582440793604909,0.28599634589916206,0.23841076673448705,0.20840515079453184,0.18245979900971446,0.16385302822935274,0.14657197302070676,0.13503875104453525,0.12203984302262211,0.11334205862439245,0.10619057923554896,0.09765445785021051,0.09265039020379369,0.08856994824064827,0.0861030166939687,0.08350964472774976,0.07926097434257351,0.07675258324197391,0.07475268831395623],\"type\":\"scatter\",\"uid\":\"a5165e11-ccbc-4a7d-a3d0-87a76495a657\",\"xaxis\":\"x2\",\"yaxis\":\"y2\"},{\"customdata\":[\"\\u003cbr\\u003eEmitted Luminosity: 1.055e+43\\u003cbr\\u003eRequested Luminosity: 1.059e+43\\u003cbr\\u003eAbsorbed Luminosity: 3.399e+42\",\"\\u003cbr\\u003eEmitted Luminosity: 1.055e+43\\u003cbr\\u003eRequested Luminosity: 1.059e+43\\u003cbr\\u003eAbsorbed Luminosity: 3.399e+42\",\"\\u003cbr\\u003eEmitted Luminosity: 1.055e+43\\u003cbr\\u003eRequested Luminosity: 1.059e+43\\u003cbr\\u003eAbsorbed Luminosity: 3.399e+42\",\"\\u003cbr\\u003eEmitted Luminosity: 1.055e+43\\u003cbr\\u003eRequested Luminosity: 1.059e+43\\u003cbr\\u003eAbsorbed Luminosity: 3.399e+42\",\"\\u003cbr\\u003eEmitted Luminosity: 1.055e+43\\u003cbr\\u003eRequested Luminosity: 1.059e+43\\u003cbr\\u003eAbsorbed Luminosity: 3.399e+42\",\"\\u003cbr\\u003eEmitted Luminosity: 1.055e+43\\u003cbr\\u003eRequested Luminosity: 1.059e+43\\u003cbr\\u003eAbsorbed Luminosity: 3.399e+42\",\"\\u003cbr\\u003eEmitted Luminosity: 1.055e+43\\u003cbr\\u003eRequested Luminosity: 1.059e+43\\u003cbr\\u003eAbsorbed Luminosity: 3.399e+42\",\"\\u003cbr\\u003eEmitted Luminosity: 1.055e+43\\u003cbr\\u003eRequested Luminosity: 1.059e+43\\u003cbr\\u003eAbsorbed Luminosity: 3.399e+42\",\"\\u003cbr\\u003eEmitted Luminosity: 1.055e+43\\u003cbr\\u003eRequested Luminosity: 1.059e+43\\u003cbr\\u003eAbsorbed Luminosity: 3.399e+42\",\"\\u003cbr\\u003eEmitted Luminosity: 1.055e+43\\u003cbr\\u003eRequested Luminosity: 1.059e+43\\u003cbr\\u003eAbsorbed Luminosity: 3.399e+42\",\"\\u003cbr\\u003eEmitted Luminosity: 1.055e+43\\u003cbr\\u003eRequested Luminosity: 1.059e+43\\u003cbr\\u003eAbsorbed Luminosity: 3.399e+42\",\"\\u003cbr\\u003eEmitted Luminosity: 1.055e+43\\u003cbr\\u003eRequested Luminosity: 1.059e+43\\u003cbr\\u003eAbsorbed Luminosity: 3.399e+42\",\"\\u003cbr\\u003eEmitted Luminosity: 1.055e+43\\u003cbr\\u003eRequested Luminosity: 1.059e+43\\u003cbr\\u003eAbsorbed Luminosity: 3.399e+42\",\"\\u003cbr\\u003eEmitted Luminosity: 1.055e+43\\u003cbr\\u003eRequested Luminosity: 1.059e+43\\u003cbr\\u003eAbsorbed Luminosity: 3.399e+42\",\"\\u003cbr\\u003eEmitted Luminosity: 1.055e+43\\u003cbr\\u003eRequested Luminosity: 1.059e+43\\u003cbr\\u003eAbsorbed Luminosity: 3.399e+42\",\"\\u003cbr\\u003eEmitted Luminosity: 1.055e+43\\u003cbr\\u003eRequested Luminosity: 1.059e+43\\u003cbr\\u003eAbsorbed Luminosity: 3.399e+42\",\"\\u003cbr\\u003eEmitted Luminosity: 1.055e+43\\u003cbr\\u003eRequested Luminosity: 1.059e+43\\u003cbr\\u003eAbsorbed Luminosity: 3.399e+42\",\"\\u003cbr\\u003eEmitted Luminosity: 1.055e+43\\u003cbr\\u003eRequested Luminosity: 1.059e+43\\u003cbr\\u003eAbsorbed Luminosity: 3.399e+42\",\"\\u003cbr\\u003eEmitted Luminosity: 1.055e+43\\u003cbr\\u003eRequested Luminosity: 1.059e+43\\u003cbr\\u003eAbsorbed Luminosity: 3.399e+42\",\"\\u003cbr\\u003eEmitted Luminosity: 1.055e+43\\u003cbr\\u003eRequested Luminosity: 1.059e+43\\u003cbr\\u003eAbsorbed Luminosity: 3.399e+42\",\"\\u003cbr\\u003eEmitted Luminosity: 1.055e+43\\u003cbr\\u003eRequested Luminosity: 1.059e+43\\u003cbr\\u003eAbsorbed Luminosity: 3.399e+42\"],\"hovertemplate\":\"\\u003cb\\u003eY\\u003c\\u002fb\\u003e: %{y:.3f} at \\u003cb\\u003eX\\u003c\\u002fb\\u003e = %{x:,.0f}%{customdata}\",\"legendgroup\":\"group-5\",\"line\":{\"color\":\"#0057ff\"},\"name\":\"5\",\"showlegend\":false,\"x\":[11000.0,11450.000000000002,11900.000000000002,12350.000000000002,12800.000000000002,13250.000000000002,13700.000000000002,14150.000000000002,14600.000000000002,15050.000000000002,15500.000000000002,15950.000000000002,16400.0,16850.0,17300.0,17750.0,18200.0,18650.0,19100.0,19550.0,20000.0],\"y\":[11004.024489659885,11119.370907976154,11195.43527277736,11259.072184929837,11285.20780804645,11285.177362845296,11257.669785381577,11225.435571936505,11186.445768225163,11099.12670598114,11029.754124780762,10939.09235294024,10877.977505280127,10799.952863140225,10803.949626598318,10716.294187213061,10608.390277767308,10536.80030265261,10451.345002096903,10351.499433918842],\"type\":\"scatter\",\"uid\":\"804bc4e1-ba42-47dd-b642-800a51156a68\",\"xaxis\":\"x\",\"yaxis\":\"y\"},{\"customdata\":[\"\\u003cbr\\u003eEmitted Luminosity: 1.055e+43\\u003cbr\\u003eRequested Luminosity: 1.059e+43\\u003cbr\\u003eAbsorbed Luminosity: 3.399e+42\",\"\\u003cbr\\u003eEmitted Luminosity: 1.055e+43\\u003cbr\\u003eRequested Luminosity: 1.059e+43\\u003cbr\\u003eAbsorbed Luminosity: 3.399e+42\",\"\\u003cbr\\u003eEmitted Luminosity: 1.055e+43\\u003cbr\\u003eRequested Luminosity: 1.059e+43\\u003cbr\\u003eAbsorbed Luminosity: 3.399e+42\",\"\\u003cbr\\u003eEmitted Luminosity: 1.055e+43\\u003cbr\\u003eRequested Luminosity: 1.059e+43\\u003cbr\\u003eAbsorbed Luminosity: 3.399e+42\",\"\\u003cbr\\u003eEmitted Luminosity: 1.055e+43\\u003cbr\\u003eRequested Luminosity: 1.059e+43\\u003cbr\\u003eAbsorbed Luminosity: 3.399e+42\",\"\\u003cbr\\u003eEmitted Luminosity: 1.055e+43\\u003cbr\\u003eRequested Luminosity: 1.059e+43\\u003cbr\\u003eAbsorbed Luminosity: 3.399e+42\",\"\\u003cbr\\u003eEmitted Luminosity: 1.055e+43\\u003cbr\\u003eRequested Luminosity: 1.059e+43\\u003cbr\\u003eAbsorbed Luminosity: 3.399e+42\",\"\\u003cbr\\u003eEmitted Luminosity: 1.055e+43\\u003cbr\\u003eRequested Luminosity: 1.059e+43\\u003cbr\\u003eAbsorbed Luminosity: 3.399e+42\",\"\\u003cbr\\u003eEmitted Luminosity: 1.055e+43\\u003cbr\\u003eRequested Luminosity: 1.059e+43\\u003cbr\\u003eAbsorbed Luminosity: 3.399e+42\",\"\\u003cbr\\u003eEmitted Luminosity: 1.055e+43\\u003cbr\\u003eRequested Luminosity: 1.059e+43\\u003cbr\\u003eAbsorbed Luminosity: 3.399e+42\",\"\\u003cbr\\u003eEmitted Luminosity: 1.055e+43\\u003cbr\\u003eRequested Luminosity: 1.059e+43\\u003cbr\\u003eAbsorbed Luminosity: 3.399e+42\",\"\\u003cbr\\u003eEmitted Luminosity: 1.055e+43\\u003cbr\\u003eRequested Luminosity: 1.059e+43\\u003cbr\\u003eAbsorbed Luminosity: 3.399e+42\",\"\\u003cbr\\u003eEmitted Luminosity: 1.055e+43\\u003cbr\\u003eRequested Luminosity: 1.059e+43\\u003cbr\\u003eAbsorbed Luminosity: 3.399e+42\",\"\\u003cbr\\u003eEmitted Luminosity: 1.055e+43\\u003cbr\\u003eRequested Luminosity: 1.059e+43\\u003cbr\\u003eAbsorbed Luminosity: 3.399e+42\",\"\\u003cbr\\u003eEmitted Luminosity: 1.055e+43\\u003cbr\\u003eRequested Luminosity: 1.059e+43\\u003cbr\\u003eAbsorbed Luminosity: 3.399e+42\",\"\\u003cbr\\u003eEmitted Luminosity: 1.055e+43\\u003cbr\\u003eRequested Luminosity: 1.059e+43\\u003cbr\\u003eAbsorbed Luminosity: 3.399e+42\",\"\\u003cbr\\u003eEmitted Luminosity: 1.055e+43\\u003cbr\\u003eRequested Luminosity: 1.059e+43\\u003cbr\\u003eAbsorbed Luminosity: 3.399e+42\",\"\\u003cbr\\u003eEmitted Luminosity: 1.055e+43\\u003cbr\\u003eRequested Luminosity: 1.059e+43\\u003cbr\\u003eAbsorbed Luminosity: 3.399e+42\",\"\\u003cbr\\u003eEmitted Luminosity: 1.055e+43\\u003cbr\\u003eRequested Luminosity: 1.059e+43\\u003cbr\\u003eAbsorbed Luminosity: 3.399e+42\",\"\\u003cbr\\u003eEmitted Luminosity: 1.055e+43\\u003cbr\\u003eRequested Luminosity: 1.059e+43\\u003cbr\\u003eAbsorbed Luminosity: 3.399e+42\",\"\\u003cbr\\u003eEmitted Luminosity: 1.055e+43\\u003cbr\\u003eRequested Luminosity: 1.059e+43\\u003cbr\\u003eAbsorbed Luminosity: 3.399e+42\"],\"hovertemplate\":\"\\u003cb\\u003eY\\u003c\\u002fb\\u003e: %{y:.3f} at \\u003cb\\u003eX\\u003c\\u002fb\\u003e = %{x:,.0f}%{customdata}\",\"legendgroup\":\"group-5\",\"line\":{\"color\":\"#0057ff\"},\"name\":\"5\",\"x\":[11000.0,11450.000000000002,11900.000000000002,12350.000000000002,12800.000000000002,13250.000000000002,13700.000000000002,14150.000000000002,14600.000000000002,15050.000000000002,15500.000000000002,15950.000000000002,16400.0,16850.0,17300.0,17750.0,18200.0,18650.0,19100.0,19550.0,20000.0],\"y\":[0.4787951138933596,0.36722911837191213,0.29262089744493686,0.24239288815881696,0.20444578448471012,0.17802906434287366,0.15880728036632213,0.14352699270970665,0.1311343102347895,0.1212349220601889,0.11293848121019054,0.10720611537789472,0.09996151019829141,0.09452711171505632,0.08773741567449653,0.08385741258415007,0.08091696481124865,0.07741620755854665,0.07503066951006153,0.07273052861628261],\"type\":\"scatter\",\"uid\":\"4f056d92-d804-4a0c-9899-24f9e4e1fbd9\",\"xaxis\":\"x2\",\"yaxis\":\"y2\"},{\"customdata\":[\"\\u003cbr\\u003eEmitted Luminosity: 1.061e+43\\u003cbr\\u003eRequested Luminosity: 1.059e+43\\u003cbr\\u003eAbsorbed Luminosity: 3.398e+42\",\"\\u003cbr\\u003eEmitted Luminosity: 1.061e+43\\u003cbr\\u003eRequested Luminosity: 1.059e+43\\u003cbr\\u003eAbsorbed Luminosity: 3.398e+42\",\"\\u003cbr\\u003eEmitted Luminosity: 1.061e+43\\u003cbr\\u003eRequested Luminosity: 1.059e+43\\u003cbr\\u003eAbsorbed Luminosity: 3.398e+42\",\"\\u003cbr\\u003eEmitted Luminosity: 1.061e+43\\u003cbr\\u003eRequested Luminosity: 1.059e+43\\u003cbr\\u003eAbsorbed Luminosity: 3.398e+42\",\"\\u003cbr\\u003eEmitted Luminosity: 1.061e+43\\u003cbr\\u003eRequested Luminosity: 1.059e+43\\u003cbr\\u003eAbsorbed Luminosity: 3.398e+42\",\"\\u003cbr\\u003eEmitted Luminosity: 1.061e+43\\u003cbr\\u003eRequested Luminosity: 1.059e+43\\u003cbr\\u003eAbsorbed Luminosity: 3.398e+42\",\"\\u003cbr\\u003eEmitted Luminosity: 1.061e+43\\u003cbr\\u003eRequested Luminosity: 1.059e+43\\u003cbr\\u003eAbsorbed Luminosity: 3.398e+42\",\"\\u003cbr\\u003eEmitted Luminosity: 1.061e+43\\u003cbr\\u003eRequested Luminosity: 1.059e+43\\u003cbr\\u003eAbsorbed Luminosity: 3.398e+42\",\"\\u003cbr\\u003eEmitted Luminosity: 1.061e+43\\u003cbr\\u003eRequested Luminosity: 1.059e+43\\u003cbr\\u003eAbsorbed Luminosity: 3.398e+42\",\"\\u003cbr\\u003eEmitted Luminosity: 1.061e+43\\u003cbr\\u003eRequested Luminosity: 1.059e+43\\u003cbr\\u003eAbsorbed Luminosity: 3.398e+42\",\"\\u003cbr\\u003eEmitted Luminosity: 1.061e+43\\u003cbr\\u003eRequested Luminosity: 1.059e+43\\u003cbr\\u003eAbsorbed Luminosity: 3.398e+42\",\"\\u003cbr\\u003eEmitted Luminosity: 1.061e+43\\u003cbr\\u003eRequested Luminosity: 1.059e+43\\u003cbr\\u003eAbsorbed Luminosity: 3.398e+42\",\"\\u003cbr\\u003eEmitted Luminosity: 1.061e+43\\u003cbr\\u003eRequested Luminosity: 1.059e+43\\u003cbr\\u003eAbsorbed Luminosity: 3.398e+42\",\"\\u003cbr\\u003eEmitted Luminosity: 1.061e+43\\u003cbr\\u003eRequested Luminosity: 1.059e+43\\u003cbr\\u003eAbsorbed Luminosity: 3.398e+42\",\"\\u003cbr\\u003eEmitted Luminosity: 1.061e+43\\u003cbr\\u003eRequested Luminosity: 1.059e+43\\u003cbr\\u003eAbsorbed Luminosity: 3.398e+42\",\"\\u003cbr\\u003eEmitted Luminosity: 1.061e+43\\u003cbr\\u003eRequested Luminosity: 1.059e+43\\u003cbr\\u003eAbsorbed Luminosity: 3.398e+42\",\"\\u003cbr\\u003eEmitted Luminosity: 1.061e+43\\u003cbr\\u003eRequested Luminosity: 1.059e+43\\u003cbr\\u003eAbsorbed Luminosity: 3.398e+42\",\"\\u003cbr\\u003eEmitted Luminosity: 1.061e+43\\u003cbr\\u003eRequested Luminosity: 1.059e+43\\u003cbr\\u003eAbsorbed Luminosity: 3.398e+42\",\"\\u003cbr\\u003eEmitted Luminosity: 1.061e+43\\u003cbr\\u003eRequested Luminosity: 1.059e+43\\u003cbr\\u003eAbsorbed Luminosity: 3.398e+42\",\"\\u003cbr\\u003eEmitted Luminosity: 1.061e+43\\u003cbr\\u003eRequested Luminosity: 1.059e+43\\u003cbr\\u003eAbsorbed Luminosity: 3.398e+42\",\"\\u003cbr\\u003eEmitted Luminosity: 1.061e+43\\u003cbr\\u003eRequested Luminosity: 1.059e+43\\u003cbr\\u003eAbsorbed Luminosity: 3.398e+42\"],\"hovertemplate\":\"\\u003cb\\u003eY\\u003c\\u002fb\\u003e: %{y:.3f} at \\u003cb\\u003eX\\u003c\\u002fb\\u003e = %{x:,.0f}%{customdata}\",\"legendgroup\":\"group-6\",\"line\":{\"color\":\"#008dff\"},\"name\":\"6\",\"showlegend\":false,\"x\":[11000.0,11450.000000000002,11900.000000000002,12350.000000000002,12800.000000000002,13250.000000000002,13700.000000000002,14150.000000000002,14600.000000000002,15050.000000000002,15500.000000000002,15950.000000000002,16400.0,16850.0,17300.0,17750.0,18200.0,18650.0,19100.0,19550.0,20000.0],\"y\":[11049.228732355548,11156.739354515774,11233.15917183881,11257.868198718535,11259.221213382078,11218.728487793944,11177.383540027475,11170.932602943094,11091.339644892221,11058.832588706187,11086.886472116761,10967.000400044039,10888.705512509976,10859.351173962059,10794.11621244714,10665.940454226306,10614.036765336788,10560.167635600503,10433.600109025565,10347.135454231417],\"type\":\"scatter\",\"uid\":\"374262d3-2609-4950-b419-8ca8043a8f49\",\"xaxis\":\"x\",\"yaxis\":\"y\"},{\"customdata\":[\"\\u003cbr\\u003eEmitted Luminosity: 1.061e+43\\u003cbr\\u003eRequested Luminosity: 1.059e+43\\u003cbr\\u003eAbsorbed Luminosity: 3.398e+42\",\"\\u003cbr\\u003eEmitted Luminosity: 1.061e+43\\u003cbr\\u003eRequested Luminosity: 1.059e+43\\u003cbr\\u003eAbsorbed Luminosity: 3.398e+42\",\"\\u003cbr\\u003eEmitted Luminosity: 1.061e+43\\u003cbr\\u003eRequested Luminosity: 1.059e+43\\u003cbr\\u003eAbsorbed Luminosity: 3.398e+42\",\"\\u003cbr\\u003eEmitted Luminosity: 1.061e+43\\u003cbr\\u003eRequested Luminosity: 1.059e+43\\u003cbr\\u003eAbsorbed Luminosity: 3.398e+42\",\"\\u003cbr\\u003eEmitted Luminosity: 1.061e+43\\u003cbr\\u003eRequested Luminosity: 1.059e+43\\u003cbr\\u003eAbsorbed Luminosity: 3.398e+42\",\"\\u003cbr\\u003eEmitted Luminosity: 1.061e+43\\u003cbr\\u003eRequested Luminosity: 1.059e+43\\u003cbr\\u003eAbsorbed Luminosity: 3.398e+42\",\"\\u003cbr\\u003eEmitted Luminosity: 1.061e+43\\u003cbr\\u003eRequested Luminosity: 1.059e+43\\u003cbr\\u003eAbsorbed Luminosity: 3.398e+42\",\"\\u003cbr\\u003eEmitted Luminosity: 1.061e+43\\u003cbr\\u003eRequested Luminosity: 1.059e+43\\u003cbr\\u003eAbsorbed Luminosity: 3.398e+42\",\"\\u003cbr\\u003eEmitted Luminosity: 1.061e+43\\u003cbr\\u003eRequested Luminosity: 1.059e+43\\u003cbr\\u003eAbsorbed Luminosity: 3.398e+42\",\"\\u003cbr\\u003eEmitted Luminosity: 1.061e+43\\u003cbr\\u003eRequested Luminosity: 1.059e+43\\u003cbr\\u003eAbsorbed Luminosity: 3.398e+42\",\"\\u003cbr\\u003eEmitted Luminosity: 1.061e+43\\u003cbr\\u003eRequested Luminosity: 1.059e+43\\u003cbr\\u003eAbsorbed Luminosity: 3.398e+42\",\"\\u003cbr\\u003eEmitted Luminosity: 1.061e+43\\u003cbr\\u003eRequested Luminosity: 1.059e+43\\u003cbr\\u003eAbsorbed Luminosity: 3.398e+42\",\"\\u003cbr\\u003eEmitted Luminosity: 1.061e+43\\u003cbr\\u003eRequested Luminosity: 1.059e+43\\u003cbr\\u003eAbsorbed Luminosity: 3.398e+42\",\"\\u003cbr\\u003eEmitted Luminosity: 1.061e+43\\u003cbr\\u003eRequested Luminosity: 1.059e+43\\u003cbr\\u003eAbsorbed Luminosity: 3.398e+42\",\"\\u003cbr\\u003eEmitted Luminosity: 1.061e+43\\u003cbr\\u003eRequested Luminosity: 1.059e+43\\u003cbr\\u003eAbsorbed Luminosity: 3.398e+42\",\"\\u003cbr\\u003eEmitted Luminosity: 1.061e+43\\u003cbr\\u003eRequested Luminosity: 1.059e+43\\u003cbr\\u003eAbsorbed Luminosity: 3.398e+42\",\"\\u003cbr\\u003eEmitted Luminosity: 1.061e+43\\u003cbr\\u003eRequested Luminosity: 1.059e+43\\u003cbr\\u003eAbsorbed Luminosity: 3.398e+42\",\"\\u003cbr\\u003eEmitted Luminosity: 1.061e+43\\u003cbr\\u003eRequested Luminosity: 1.059e+43\\u003cbr\\u003eAbsorbed Luminosity: 3.398e+42\",\"\\u003cbr\\u003eEmitted Luminosity: 1.061e+43\\u003cbr\\u003eRequested Luminosity: 1.059e+43\\u003cbr\\u003eAbsorbed Luminosity: 3.398e+42\",\"\\u003cbr\\u003eEmitted Luminosity: 1.061e+43\\u003cbr\\u003eRequested Luminosity: 1.059e+43\\u003cbr\\u003eAbsorbed Luminosity: 3.398e+42\",\"\\u003cbr\\u003eEmitted Luminosity: 1.061e+43\\u003cbr\\u003eRequested Luminosity: 1.059e+43\\u003cbr\\u003eAbsorbed Luminosity: 3.398e+42\"],\"hovertemplate\":\"\\u003cb\\u003eY\\u003c\\u002fb\\u003e: %{y:.3f} at \\u003cb\\u003eX\\u003c\\u002fb\\u003e = %{x:,.0f}%{customdata}\",\"legendgroup\":\"group-6\",\"line\":{\"color\":\"#008dff\"},\"name\":\"6\",\"x\":[11000.0,11450.000000000002,11900.000000000002,12350.000000000002,12800.000000000002,13250.000000000002,13700.000000000002,14150.000000000002,14600.000000000002,15050.000000000002,15500.000000000002,15950.000000000002,16400.0,16850.0,17300.0,17750.0,18200.0,18650.0,19100.0,19550.0,20000.0],\"y\":[0.46974009401600086,0.3588700697047585,0.2907777656382871,0.24436511846992,0.20776673425141756,0.1852074960564389,0.1648711478879901,0.14711076442391785,0.13525030370898614,0.12403257789506662,0.11208234573021635,0.10708808842987312,0.10081990994107433,0.09351009430956653,0.08797758265708819,0.08557481001143181,0.08167863229931269,0.07764065281949192,0.0757896007257261,0.07324774090303532],\"type\":\"scatter\",\"uid\":\"d2a84bd0-096c-4882-80c2-fe597d0e6631\",\"xaxis\":\"x2\",\"yaxis\":\"y2\"},{\"customdata\":[\"\\u003cbr\\u003eEmitted Luminosity: 1.061e+43\\u003cbr\\u003eRequested Luminosity: 1.059e+43\\u003cbr\\u003eAbsorbed Luminosity: 3.382e+42\",\"\\u003cbr\\u003eEmitted Luminosity: 1.061e+43\\u003cbr\\u003eRequested Luminosity: 1.059e+43\\u003cbr\\u003eAbsorbed Luminosity: 3.382e+42\",\"\\u003cbr\\u003eEmitted Luminosity: 1.061e+43\\u003cbr\\u003eRequested Luminosity: 1.059e+43\\u003cbr\\u003eAbsorbed Luminosity: 3.382e+42\",\"\\u003cbr\\u003eEmitted Luminosity: 1.061e+43\\u003cbr\\u003eRequested Luminosity: 1.059e+43\\u003cbr\\u003eAbsorbed Luminosity: 3.382e+42\",\"\\u003cbr\\u003eEmitted Luminosity: 1.061e+43\\u003cbr\\u003eRequested Luminosity: 1.059e+43\\u003cbr\\u003eAbsorbed Luminosity: 3.382e+42\",\"\\u003cbr\\u003eEmitted Luminosity: 1.061e+43\\u003cbr\\u003eRequested Luminosity: 1.059e+43\\u003cbr\\u003eAbsorbed Luminosity: 3.382e+42\",\"\\u003cbr\\u003eEmitted Luminosity: 1.061e+43\\u003cbr\\u003eRequested Luminosity: 1.059e+43\\u003cbr\\u003eAbsorbed Luminosity: 3.382e+42\",\"\\u003cbr\\u003eEmitted Luminosity: 1.061e+43\\u003cbr\\u003eRequested Luminosity: 1.059e+43\\u003cbr\\u003eAbsorbed Luminosity: 3.382e+42\",\"\\u003cbr\\u003eEmitted Luminosity: 1.061e+43\\u003cbr\\u003eRequested Luminosity: 1.059e+43\\u003cbr\\u003eAbsorbed Luminosity: 3.382e+42\",\"\\u003cbr\\u003eEmitted Luminosity: 1.061e+43\\u003cbr\\u003eRequested Luminosity: 1.059e+43\\u003cbr\\u003eAbsorbed Luminosity: 3.382e+42\",\"\\u003cbr\\u003eEmitted Luminosity: 1.061e+43\\u003cbr\\u003eRequested Luminosity: 1.059e+43\\u003cbr\\u003eAbsorbed Luminosity: 3.382e+42\",\"\\u003cbr\\u003eEmitted Luminosity: 1.061e+43\\u003cbr\\u003eRequested Luminosity: 1.059e+43\\u003cbr\\u003eAbsorbed Luminosity: 3.382e+42\",\"\\u003cbr\\u003eEmitted Luminosity: 1.061e+43\\u003cbr\\u003eRequested Luminosity: 1.059e+43\\u003cbr\\u003eAbsorbed Luminosity: 3.382e+42\",\"\\u003cbr\\u003eEmitted Luminosity: 1.061e+43\\u003cbr\\u003eRequested Luminosity: 1.059e+43\\u003cbr\\u003eAbsorbed Luminosity: 3.382e+42\",\"\\u003cbr\\u003eEmitted Luminosity: 1.061e+43\\u003cbr\\u003eRequested Luminosity: 1.059e+43\\u003cbr\\u003eAbsorbed Luminosity: 3.382e+42\",\"\\u003cbr\\u003eEmitted Luminosity: 1.061e+43\\u003cbr\\u003eRequested Luminosity: 1.059e+43\\u003cbr\\u003eAbsorbed Luminosity: 3.382e+42\",\"\\u003cbr\\u003eEmitted Luminosity: 1.061e+43\\u003cbr\\u003eRequested Luminosity: 1.059e+43\\u003cbr\\u003eAbsorbed Luminosity: 3.382e+42\",\"\\u003cbr\\u003eEmitted Luminosity: 1.061e+43\\u003cbr\\u003eRequested Luminosity: 1.059e+43\\u003cbr\\u003eAbsorbed Luminosity: 3.382e+42\",\"\\u003cbr\\u003eEmitted Luminosity: 1.061e+43\\u003cbr\\u003eRequested Luminosity: 1.059e+43\\u003cbr\\u003eAbsorbed Luminosity: 3.382e+42\",\"\\u003cbr\\u003eEmitted Luminosity: 1.061e+43\\u003cbr\\u003eRequested Luminosity: 1.059e+43\\u003cbr\\u003eAbsorbed Luminosity: 3.382e+42\",\"\\u003cbr\\u003eEmitted Luminosity: 1.061e+43\\u003cbr\\u003eRequested Luminosity: 1.059e+43\\u003cbr\\u003eAbsorbed Luminosity: 3.382e+42\"],\"hovertemplate\":\"\\u003cb\\u003eY\\u003c\\u002fb\\u003e: %{y:.3f} at \\u003cb\\u003eX\\u003c\\u002fb\\u003e = %{x:,.0f}%{customdata}\",\"legendgroup\":\"group-7\",\"line\":{\"color\":\"#00c3ff\"},\"name\":\"7\",\"showlegend\":false,\"x\":[11000.0,11450.000000000002,11900.000000000002,12350.000000000002,12800.000000000002,13250.000000000002,13700.000000000002,14150.000000000002,14600.000000000002,15050.000000000002,15500.000000000002,15950.000000000002,16400.0,16850.0,17300.0,17750.0,18200.0,18650.0,19100.0,19550.0,20000.0],\"y\":[11037.085037194023,11149.996498693183,11245.895992066271,11293.021085350521,11348.844546340544,11303.814507501313,11275.886160361566,11193.561854480453,11139.76204035302,11142.501672440281,11052.157105073495,10947.278343765198,10930.673397100472,10870.232618754211,10717.53851162745,10653.978725318406,10563.076210054694,10483.387471111888,10423.154014947184,10305.269629801829],\"type\":\"scatter\",\"uid\":\"3c15853a-c5d0-4a88-9522-f223773707ec\",\"xaxis\":\"x\",\"yaxis\":\"y\"},{\"customdata\":[\"\\u003cbr\\u003eEmitted Luminosity: 1.061e+43\\u003cbr\\u003eRequested Luminosity: 1.059e+43\\u003cbr\\u003eAbsorbed Luminosity: 3.382e+42\",\"\\u003cbr\\u003eEmitted Luminosity: 1.061e+43\\u003cbr\\u003eRequested Luminosity: 1.059e+43\\u003cbr\\u003eAbsorbed Luminosity: 3.382e+42\",\"\\u003cbr\\u003eEmitted Luminosity: 1.061e+43\\u003cbr\\u003eRequested Luminosity: 1.059e+43\\u003cbr\\u003eAbsorbed Luminosity: 3.382e+42\",\"\\u003cbr\\u003eEmitted Luminosity: 1.061e+43\\u003cbr\\u003eRequested Luminosity: 1.059e+43\\u003cbr\\u003eAbsorbed Luminosity: 3.382e+42\",\"\\u003cbr\\u003eEmitted Luminosity: 1.061e+43\\u003cbr\\u003eRequested Luminosity: 1.059e+43\\u003cbr\\u003eAbsorbed Luminosity: 3.382e+42\",\"\\u003cbr\\u003eEmitted Luminosity: 1.061e+43\\u003cbr\\u003eRequested Luminosity: 1.059e+43\\u003cbr\\u003eAbsorbed Luminosity: 3.382e+42\",\"\\u003cbr\\u003eEmitted Luminosity: 1.061e+43\\u003cbr\\u003eRequested Luminosity: 1.059e+43\\u003cbr\\u003eAbsorbed Luminosity: 3.382e+42\",\"\\u003cbr\\u003eEmitted Luminosity: 1.061e+43\\u003cbr\\u003eRequested Luminosity: 1.059e+43\\u003cbr\\u003eAbsorbed Luminosity: 3.382e+42\",\"\\u003cbr\\u003eEmitted Luminosity: 1.061e+43\\u003cbr\\u003eRequested Luminosity: 1.059e+43\\u003cbr\\u003eAbsorbed Luminosity: 3.382e+42\",\"\\u003cbr\\u003eEmitted Luminosity: 1.061e+43\\u003cbr\\u003eRequested Luminosity: 1.059e+43\\u003cbr\\u003eAbsorbed Luminosity: 3.382e+42\",\"\\u003cbr\\u003eEmitted Luminosity: 1.061e+43\\u003cbr\\u003eRequested Luminosity: 1.059e+43\\u003cbr\\u003eAbsorbed Luminosity: 3.382e+42\",\"\\u003cbr\\u003eEmitted Luminosity: 1.061e+43\\u003cbr\\u003eRequested Luminosity: 1.059e+43\\u003cbr\\u003eAbsorbed Luminosity: 3.382e+42\",\"\\u003cbr\\u003eEmitted Luminosity: 1.061e+43\\u003cbr\\u003eRequested Luminosity: 1.059e+43\\u003cbr\\u003eAbsorbed Luminosity: 3.382e+42\",\"\\u003cbr\\u003eEmitted Luminosity: 1.061e+43\\u003cbr\\u003eRequested Luminosity: 1.059e+43\\u003cbr\\u003eAbsorbed Luminosity: 3.382e+42\",\"\\u003cbr\\u003eEmitted Luminosity: 1.061e+43\\u003cbr\\u003eRequested Luminosity: 1.059e+43\\u003cbr\\u003eAbsorbed Luminosity: 3.382e+42\",\"\\u003cbr\\u003eEmitted Luminosity: 1.061e+43\\u003cbr\\u003eRequested Luminosity: 1.059e+43\\u003cbr\\u003eAbsorbed Luminosity: 3.382e+42\",\"\\u003cbr\\u003eEmitted Luminosity: 1.061e+43\\u003cbr\\u003eRequested Luminosity: 1.059e+43\\u003cbr\\u003eAbsorbed Luminosity: 3.382e+42\",\"\\u003cbr\\u003eEmitted Luminosity: 1.061e+43\\u003cbr\\u003eRequested Luminosity: 1.059e+43\\u003cbr\\u003eAbsorbed Luminosity: 3.382e+42\",\"\\u003cbr\\u003eEmitted Luminosity: 1.061e+43\\u003cbr\\u003eRequested Luminosity: 1.059e+43\\u003cbr\\u003eAbsorbed Luminosity: 3.382e+42\",\"\\u003cbr\\u003eEmitted Luminosity: 1.061e+43\\u003cbr\\u003eRequested Luminosity: 1.059e+43\\u003cbr\\u003eAbsorbed Luminosity: 3.382e+42\",\"\\u003cbr\\u003eEmitted Luminosity: 1.061e+43\\u003cbr\\u003eRequested Luminosity: 1.059e+43\\u003cbr\\u003eAbsorbed Luminosity: 3.382e+42\"],\"hovertemplate\":\"\\u003cb\\u003eY\\u003c\\u002fb\\u003e: %{y:.3f} at \\u003cb\\u003eX\\u003c\\u002fb\\u003e = %{x:,.0f}%{customdata}\",\"legendgroup\":\"group-7\",\"line\":{\"color\":\"#00c3ff\"},\"name\":\"7\",\"x\":[11000.0,11450.000000000002,11900.000000000002,12350.000000000002,12800.000000000002,13250.000000000002,13700.000000000002,14150.000000000002,14600.000000000002,15050.000000000002,15500.000000000002,15950.000000000002,16400.0,16850.0,17300.0,17750.0,18200.0,18650.0,19100.0,19550.0,20000.0],\"y\":[0.46951709287046745,0.3558132377939091,0.28344389342857834,0.2367903812136868,0.2006318674457631,0.17752655689561747,0.15896810063770797,0.14566983788022786,0.13249513450931608,0.11945436911075233,0.11202516442423795,0.10653028310041666,0.09880763358506471,0.09250430944965808,0.09049045767406827,0.08597716733696588,0.08263854439908637,0.07942790299289662,0.0761618875049036,0.07438003691528026],\"type\":\"scatter\",\"uid\":\"0f4dfb75-7adf-45ee-8ac5-5aa6172b8a30\",\"xaxis\":\"x2\",\"yaxis\":\"y2\"},{\"customdata\":[\"\\u003cbr\\u003eEmitted Luminosity: 1.062e+43\\u003cbr\\u003eRequested Luminosity: 1.059e+43\\u003cbr\\u003eAbsorbed Luminosity: 3.35e+42\",\"\\u003cbr\\u003eEmitted Luminosity: 1.062e+43\\u003cbr\\u003eRequested Luminosity: 1.059e+43\\u003cbr\\u003eAbsorbed Luminosity: 3.35e+42\",\"\\u003cbr\\u003eEmitted Luminosity: 1.062e+43\\u003cbr\\u003eRequested Luminosity: 1.059e+43\\u003cbr\\u003eAbsorbed Luminosity: 3.35e+42\",\"\\u003cbr\\u003eEmitted Luminosity: 1.062e+43\\u003cbr\\u003eRequested Luminosity: 1.059e+43\\u003cbr\\u003eAbsorbed Luminosity: 3.35e+42\",\"\\u003cbr\\u003eEmitted Luminosity: 1.062e+43\\u003cbr\\u003eRequested Luminosity: 1.059e+43\\u003cbr\\u003eAbsorbed Luminosity: 3.35e+42\",\"\\u003cbr\\u003eEmitted Luminosity: 1.062e+43\\u003cbr\\u003eRequested Luminosity: 1.059e+43\\u003cbr\\u003eAbsorbed Luminosity: 3.35e+42\",\"\\u003cbr\\u003eEmitted Luminosity: 1.062e+43\\u003cbr\\u003eRequested Luminosity: 1.059e+43\\u003cbr\\u003eAbsorbed Luminosity: 3.35e+42\",\"\\u003cbr\\u003eEmitted Luminosity: 1.062e+43\\u003cbr\\u003eRequested Luminosity: 1.059e+43\\u003cbr\\u003eAbsorbed Luminosity: 3.35e+42\",\"\\u003cbr\\u003eEmitted Luminosity: 1.062e+43\\u003cbr\\u003eRequested Luminosity: 1.059e+43\\u003cbr\\u003eAbsorbed Luminosity: 3.35e+42\",\"\\u003cbr\\u003eEmitted Luminosity: 1.062e+43\\u003cbr\\u003eRequested Luminosity: 1.059e+43\\u003cbr\\u003eAbsorbed Luminosity: 3.35e+42\",\"\\u003cbr\\u003eEmitted Luminosity: 1.062e+43\\u003cbr\\u003eRequested Luminosity: 1.059e+43\\u003cbr\\u003eAbsorbed Luminosity: 3.35e+42\",\"\\u003cbr\\u003eEmitted Luminosity: 1.062e+43\\u003cbr\\u003eRequested Luminosity: 1.059e+43\\u003cbr\\u003eAbsorbed Luminosity: 3.35e+42\",\"\\u003cbr\\u003eEmitted Luminosity: 1.062e+43\\u003cbr\\u003eRequested Luminosity: 1.059e+43\\u003cbr\\u003eAbsorbed Luminosity: 3.35e+42\",\"\\u003cbr\\u003eEmitted Luminosity: 1.062e+43\\u003cbr\\u003eRequested Luminosity: 1.059e+43\\u003cbr\\u003eAbsorbed Luminosity: 3.35e+42\",\"\\u003cbr\\u003eEmitted Luminosity: 1.062e+43\\u003cbr\\u003eRequested Luminosity: 1.059e+43\\u003cbr\\u003eAbsorbed Luminosity: 3.35e+42\",\"\\u003cbr\\u003eEmitted Luminosity: 1.062e+43\\u003cbr\\u003eRequested Luminosity: 1.059e+43\\u003cbr\\u003eAbsorbed Luminosity: 3.35e+42\",\"\\u003cbr\\u003eEmitted Luminosity: 1.062e+43\\u003cbr\\u003eRequested Luminosity: 1.059e+43\\u003cbr\\u003eAbsorbed Luminosity: 3.35e+42\",\"\\u003cbr\\u003eEmitted Luminosity: 1.062e+43\\u003cbr\\u003eRequested Luminosity: 1.059e+43\\u003cbr\\u003eAbsorbed Luminosity: 3.35e+42\",\"\\u003cbr\\u003eEmitted Luminosity: 1.062e+43\\u003cbr\\u003eRequested Luminosity: 1.059e+43\\u003cbr\\u003eAbsorbed Luminosity: 3.35e+42\",\"\\u003cbr\\u003eEmitted Luminosity: 1.062e+43\\u003cbr\\u003eRequested Luminosity: 1.059e+43\\u003cbr\\u003eAbsorbed Luminosity: 3.35e+42\",\"\\u003cbr\\u003eEmitted Luminosity: 1.062e+43\\u003cbr\\u003eRequested Luminosity: 1.059e+43\\u003cbr\\u003eAbsorbed Luminosity: 3.35e+42\"],\"hovertemplate\":\"\\u003cb\\u003eY\\u003c\\u002fb\\u003e: %{y:.3f} at \\u003cb\\u003eX\\u003c\\u002fb\\u003e = %{x:,.0f}%{customdata}\",\"legendgroup\":\"group-8\",\"line\":{\"color\":\"#0ff8e8\"},\"name\":\"8\",\"showlegend\":false,\"x\":[11000.0,11450.000000000002,11900.000000000002,12350.000000000002,12800.000000000002,13250.000000000002,13700.000000000002,14150.000000000002,14600.000000000002,15050.000000000002,15500.000000000002,15950.000000000002,16400.0,16850.0,17300.0,17750.0,18200.0,18650.0,19100.0,19550.0,20000.0],\"y\":[11052.295325497002,11212.705361919512,11368.864591182271,11398.78996374573,11425.824065083909,11374.755681704648,11321.373184735605,11274.453385553139,11206.414763213426,11152.830452841761,11103.737908148849,10987.819453975919,10971.69646538916,10850.54310980473,10728.169760230832,10715.360231738356,10614.329903571424,10533.8359740101,10505.237794759536,10368.719365121064],\"type\":\"scatter\",\"uid\":\"de099151-2617-4987-8720-51623764331f\",\"xaxis\":\"x\",\"yaxis\":\"y\"},{\"customdata\":[\"\\u003cbr\\u003eEmitted Luminosity: 1.062e+43\\u003cbr\\u003eRequested Luminosity: 1.059e+43\\u003cbr\\u003eAbsorbed Luminosity: 3.35e+42\",\"\\u003cbr\\u003eEmitted Luminosity: 1.062e+43\\u003cbr\\u003eRequested Luminosity: 1.059e+43\\u003cbr\\u003eAbsorbed Luminosity: 3.35e+42\",\"\\u003cbr\\u003eEmitted Luminosity: 1.062e+43\\u003cbr\\u003eRequested Luminosity: 1.059e+43\\u003cbr\\u003eAbsorbed Luminosity: 3.35e+42\",\"\\u003cbr\\u003eEmitted Luminosity: 1.062e+43\\u003cbr\\u003eRequested Luminosity: 1.059e+43\\u003cbr\\u003eAbsorbed Luminosity: 3.35e+42\",\"\\u003cbr\\u003eEmitted Luminosity: 1.062e+43\\u003cbr\\u003eRequested Luminosity: 1.059e+43\\u003cbr\\u003eAbsorbed Luminosity: 3.35e+42\",\"\\u003cbr\\u003eEmitted Luminosity: 1.062e+43\\u003cbr\\u003eRequested Luminosity: 1.059e+43\\u003cbr\\u003eAbsorbed Luminosity: 3.35e+42\",\"\\u003cbr\\u003eEmitted Luminosity: 1.062e+43\\u003cbr\\u003eRequested Luminosity: 1.059e+43\\u003cbr\\u003eAbsorbed Luminosity: 3.35e+42\",\"\\u003cbr\\u003eEmitted Luminosity: 1.062e+43\\u003cbr\\u003eRequested Luminosity: 1.059e+43\\u003cbr\\u003eAbsorbed Luminosity: 3.35e+42\",\"\\u003cbr\\u003eEmitted Luminosity: 1.062e+43\\u003cbr\\u003eRequested Luminosity: 1.059e+43\\u003cbr\\u003eAbsorbed Luminosity: 3.35e+42\",\"\\u003cbr\\u003eEmitted Luminosity: 1.062e+43\\u003cbr\\u003eRequested Luminosity: 1.059e+43\\u003cbr\\u003eAbsorbed Luminosity: 3.35e+42\",\"\\u003cbr\\u003eEmitted Luminosity: 1.062e+43\\u003cbr\\u003eRequested Luminosity: 1.059e+43\\u003cbr\\u003eAbsorbed Luminosity: 3.35e+42\",\"\\u003cbr\\u003eEmitted Luminosity: 1.062e+43\\u003cbr\\u003eRequested Luminosity: 1.059e+43\\u003cbr\\u003eAbsorbed Luminosity: 3.35e+42\",\"\\u003cbr\\u003eEmitted Luminosity: 1.062e+43\\u003cbr\\u003eRequested Luminosity: 1.059e+43\\u003cbr\\u003eAbsorbed Luminosity: 3.35e+42\",\"\\u003cbr\\u003eEmitted Luminosity: 1.062e+43\\u003cbr\\u003eRequested Luminosity: 1.059e+43\\u003cbr\\u003eAbsorbed Luminosity: 3.35e+42\",\"\\u003cbr\\u003eEmitted Luminosity: 1.062e+43\\u003cbr\\u003eRequested Luminosity: 1.059e+43\\u003cbr\\u003eAbsorbed Luminosity: 3.35e+42\",\"\\u003cbr\\u003eEmitted Luminosity: 1.062e+43\\u003cbr\\u003eRequested Luminosity: 1.059e+43\\u003cbr\\u003eAbsorbed Luminosity: 3.35e+42\",\"\\u003cbr\\u003eEmitted Luminosity: 1.062e+43\\u003cbr\\u003eRequested Luminosity: 1.059e+43\\u003cbr\\u003eAbsorbed Luminosity: 3.35e+42\",\"\\u003cbr\\u003eEmitted Luminosity: 1.062e+43\\u003cbr\\u003eRequested Luminosity: 1.059e+43\\u003cbr\\u003eAbsorbed Luminosity: 3.35e+42\",\"\\u003cbr\\u003eEmitted Luminosity: 1.062e+43\\u003cbr\\u003eRequested Luminosity: 1.059e+43\\u003cbr\\u003eAbsorbed Luminosity: 3.35e+42\",\"\\u003cbr\\u003eEmitted Luminosity: 1.062e+43\\u003cbr\\u003eRequested Luminosity: 1.059e+43\\u003cbr\\u003eAbsorbed Luminosity: 3.35e+42\",\"\\u003cbr\\u003eEmitted Luminosity: 1.062e+43\\u003cbr\\u003eRequested Luminosity: 1.059e+43\\u003cbr\\u003eAbsorbed Luminosity: 3.35e+42\"],\"hovertemplate\":\"\\u003cb\\u003eY\\u003c\\u002fb\\u003e: %{y:.3f} at \\u003cb\\u003eX\\u003c\\u002fb\\u003e = %{x:,.0f}%{customdata}\",\"legendgroup\":\"group-8\",\"line\":{\"color\":\"#0ff8e8\"},\"name\":\"8\",\"x\":[11000.0,11450.000000000002,11900.000000000002,12350.000000000002,12800.000000000002,13250.000000000002,13700.000000000002,14150.000000000002,14600.000000000002,15050.000000000002,15500.000000000002,15950.000000000002,16400.0,16850.0,17300.0,17750.0,18200.0,18650.0,19100.0,19550.0,20000.0],\"y\":[0.47175098459955694,0.35333643126433695,0.2769286400260448,0.2322746287625157,0.19923392730851686,0.17521545432354352,0.15695860796865865,0.14254015427092134,0.12987043769720175,0.11949812440071161,0.1106579971436933,0.10503597469582825,0.09725717606234432,0.09312192856965536,0.08970996968103659,0.08403489096779886,0.0812847493478463,0.07834393294338486,0.07382031722838804,0.07253718289337044],\"type\":\"scatter\",\"uid\":\"19927d3b-bedf-4a1d-b60b-bacdb05aac4f\",\"xaxis\":\"x2\",\"yaxis\":\"y2\"},{\"customdata\":[\"\\u003cbr\\u003eEmitted Luminosity: 1.052e+43\\u003cbr\\u003eRequested Luminosity: 1.059e+43\\u003cbr\\u003eAbsorbed Luminosity: 3.411e+42\",\"\\u003cbr\\u003eEmitted Luminosity: 1.052e+43\\u003cbr\\u003eRequested Luminosity: 1.059e+43\\u003cbr\\u003eAbsorbed Luminosity: 3.411e+42\",\"\\u003cbr\\u003eEmitted Luminosity: 1.052e+43\\u003cbr\\u003eRequested Luminosity: 1.059e+43\\u003cbr\\u003eAbsorbed Luminosity: 3.411e+42\",\"\\u003cbr\\u003eEmitted Luminosity: 1.052e+43\\u003cbr\\u003eRequested Luminosity: 1.059e+43\\u003cbr\\u003eAbsorbed Luminosity: 3.411e+42\",\"\\u003cbr\\u003eEmitted Luminosity: 1.052e+43\\u003cbr\\u003eRequested Luminosity: 1.059e+43\\u003cbr\\u003eAbsorbed Luminosity: 3.411e+42\",\"\\u003cbr\\u003eEmitted Luminosity: 1.052e+43\\u003cbr\\u003eRequested Luminosity: 1.059e+43\\u003cbr\\u003eAbsorbed Luminosity: 3.411e+42\",\"\\u003cbr\\u003eEmitted Luminosity: 1.052e+43\\u003cbr\\u003eRequested Luminosity: 1.059e+43\\u003cbr\\u003eAbsorbed Luminosity: 3.411e+42\",\"\\u003cbr\\u003eEmitted Luminosity: 1.052e+43\\u003cbr\\u003eRequested Luminosity: 1.059e+43\\u003cbr\\u003eAbsorbed Luminosity: 3.411e+42\",\"\\u003cbr\\u003eEmitted Luminosity: 1.052e+43\\u003cbr\\u003eRequested Luminosity: 1.059e+43\\u003cbr\\u003eAbsorbed Luminosity: 3.411e+42\",\"\\u003cbr\\u003eEmitted Luminosity: 1.052e+43\\u003cbr\\u003eRequested Luminosity: 1.059e+43\\u003cbr\\u003eAbsorbed Luminosity: 3.411e+42\",\"\\u003cbr\\u003eEmitted Luminosity: 1.052e+43\\u003cbr\\u003eRequested Luminosity: 1.059e+43\\u003cbr\\u003eAbsorbed Luminosity: 3.411e+42\",\"\\u003cbr\\u003eEmitted Luminosity: 1.052e+43\\u003cbr\\u003eRequested Luminosity: 1.059e+43\\u003cbr\\u003eAbsorbed Luminosity: 3.411e+42\",\"\\u003cbr\\u003eEmitted Luminosity: 1.052e+43\\u003cbr\\u003eRequested Luminosity: 1.059e+43\\u003cbr\\u003eAbsorbed Luminosity: 3.411e+42\",\"\\u003cbr\\u003eEmitted Luminosity: 1.052e+43\\u003cbr\\u003eRequested Luminosity: 1.059e+43\\u003cbr\\u003eAbsorbed Luminosity: 3.411e+42\",\"\\u003cbr\\u003eEmitted Luminosity: 1.052e+43\\u003cbr\\u003eRequested Luminosity: 1.059e+43\\u003cbr\\u003eAbsorbed Luminosity: 3.411e+42\",\"\\u003cbr\\u003eEmitted Luminosity: 1.052e+43\\u003cbr\\u003eRequested Luminosity: 1.059e+43\\u003cbr\\u003eAbsorbed Luminosity: 3.411e+42\",\"\\u003cbr\\u003eEmitted Luminosity: 1.052e+43\\u003cbr\\u003eRequested Luminosity: 1.059e+43\\u003cbr\\u003eAbsorbed Luminosity: 3.411e+42\",\"\\u003cbr\\u003eEmitted Luminosity: 1.052e+43\\u003cbr\\u003eRequested Luminosity: 1.059e+43\\u003cbr\\u003eAbsorbed Luminosity: 3.411e+42\",\"\\u003cbr\\u003eEmitted Luminosity: 1.052e+43\\u003cbr\\u003eRequested Luminosity: 1.059e+43\\u003cbr\\u003eAbsorbed Luminosity: 3.411e+42\",\"\\u003cbr\\u003eEmitted Luminosity: 1.052e+43\\u003cbr\\u003eRequested Luminosity: 1.059e+43\\u003cbr\\u003eAbsorbed Luminosity: 3.411e+42\",\"\\u003cbr\\u003eEmitted Luminosity: 1.052e+43\\u003cbr\\u003eRequested Luminosity: 1.059e+43\\u003cbr\\u003eAbsorbed Luminosity: 3.411e+42\"],\"hovertemplate\":\"\\u003cb\\u003eY\\u003c\\u002fb\\u003e: %{y:.3f} at \\u003cb\\u003eX\\u003c\\u002fb\\u003e = %{x:,.0f}%{customdata}\",\"legendgroup\":\"group-9\",\"line\":{\"color\":\"#3affbc\"},\"name\":\"9\",\"showlegend\":false,\"x\":[11000.0,11450.000000000002,11900.000000000002,12350.000000000002,12800.000000000002,13250.000000000002,13700.000000000002,14150.000000000002,14600.000000000002,15050.000000000002,15500.000000000002,15950.000000000002,16400.0,16850.0,17300.0,17750.0,18200.0,18650.0,19100.0,19550.0,20000.0],\"y\":[11054.591787334155,11225.52828282935,11397.75656771041,11384.015365915033,11451.389274254925,11459.610588977714,11376.05002918657,11274.095516148467,11272.499217755425,11178.08596162662,11140.791754287633,11068.611912757282,11035.291654969586,10948.379622684972,10846.30843479845,10760.16454855374,10717.142639062216,10660.047073289428,10504.059452325995,10393.011181236434],\"type\":\"scatter\",\"uid\":\"b843b007-98c0-4894-85fb-b4950db682d7\",\"xaxis\":\"x\",\"yaxis\":\"y\"},{\"customdata\":[\"\\u003cbr\\u003eEmitted Luminosity: 1.052e+43\\u003cbr\\u003eRequested Luminosity: 1.059e+43\\u003cbr\\u003eAbsorbed Luminosity: 3.411e+42\",\"\\u003cbr\\u003eEmitted Luminosity: 1.052e+43\\u003cbr\\u003eRequested Luminosity: 1.059e+43\\u003cbr\\u003eAbsorbed Luminosity: 3.411e+42\",\"\\u003cbr\\u003eEmitted Luminosity: 1.052e+43\\u003cbr\\u003eRequested Luminosity: 1.059e+43\\u003cbr\\u003eAbsorbed Luminosity: 3.411e+42\",\"\\u003cbr\\u003eEmitted Luminosity: 1.052e+43\\u003cbr\\u003eRequested Luminosity: 1.059e+43\\u003cbr\\u003eAbsorbed Luminosity: 3.411e+42\",\"\\u003cbr\\u003eEmitted Luminosity: 1.052e+43\\u003cbr\\u003eRequested Luminosity: 1.059e+43\\u003cbr\\u003eAbsorbed Luminosity: 3.411e+42\",\"\\u003cbr\\u003eEmitted Luminosity: 1.052e+43\\u003cbr\\u003eRequested Luminosity: 1.059e+43\\u003cbr\\u003eAbsorbed Luminosity: 3.411e+42\",\"\\u003cbr\\u003eEmitted Luminosity: 1.052e+43\\u003cbr\\u003eRequested Luminosity: 1.059e+43\\u003cbr\\u003eAbsorbed Luminosity: 3.411e+42\",\"\\u003cbr\\u003eEmitted Luminosity: 1.052e+43\\u003cbr\\u003eRequested Luminosity: 1.059e+43\\u003cbr\\u003eAbsorbed Luminosity: 3.411e+42\",\"\\u003cbr\\u003eEmitted Luminosity: 1.052e+43\\u003cbr\\u003eRequested Luminosity: 1.059e+43\\u003cbr\\u003eAbsorbed Luminosity: 3.411e+42\",\"\\u003cbr\\u003eEmitted Luminosity: 1.052e+43\\u003cbr\\u003eRequested Luminosity: 1.059e+43\\u003cbr\\u003eAbsorbed Luminosity: 3.411e+42\",\"\\u003cbr\\u003eEmitted Luminosity: 1.052e+43\\u003cbr\\u003eRequested Luminosity: 1.059e+43\\u003cbr\\u003eAbsorbed Luminosity: 3.411e+42\",\"\\u003cbr\\u003eEmitted Luminosity: 1.052e+43\\u003cbr\\u003eRequested Luminosity: 1.059e+43\\u003cbr\\u003eAbsorbed Luminosity: 3.411e+42\",\"\\u003cbr\\u003eEmitted Luminosity: 1.052e+43\\u003cbr\\u003eRequested Luminosity: 1.059e+43\\u003cbr\\u003eAbsorbed Luminosity: 3.411e+42\",\"\\u003cbr\\u003eEmitted Luminosity: 1.052e+43\\u003cbr\\u003eRequested Luminosity: 1.059e+43\\u003cbr\\u003eAbsorbed Luminosity: 3.411e+42\",\"\\u003cbr\\u003eEmitted Luminosity: 1.052e+43\\u003cbr\\u003eRequested Luminosity: 1.059e+43\\u003cbr\\u003eAbsorbed Luminosity: 3.411e+42\",\"\\u003cbr\\u003eEmitted Luminosity: 1.052e+43\\u003cbr\\u003eRequested Luminosity: 1.059e+43\\u003cbr\\u003eAbsorbed Luminosity: 3.411e+42\",\"\\u003cbr\\u003eEmitted Luminosity: 1.052e+43\\u003cbr\\u003eRequested Luminosity: 1.059e+43\\u003cbr\\u003eAbsorbed Luminosity: 3.411e+42\",\"\\u003cbr\\u003eEmitted Luminosity: 1.052e+43\\u003cbr\\u003eRequested Luminosity: 1.059e+43\\u003cbr\\u003eAbsorbed Luminosity: 3.411e+42\",\"\\u003cbr\\u003eEmitted Luminosity: 1.052e+43\\u003cbr\\u003eRequested Luminosity: 1.059e+43\\u003cbr\\u003eAbsorbed Luminosity: 3.411e+42\",\"\\u003cbr\\u003eEmitted Luminosity: 1.052e+43\\u003cbr\\u003eRequested Luminosity: 1.059e+43\\u003cbr\\u003eAbsorbed Luminosity: 3.411e+42\",\"\\u003cbr\\u003eEmitted Luminosity: 1.052e+43\\u003cbr\\u003eRequested Luminosity: 1.059e+43\\u003cbr\\u003eAbsorbed Luminosity: 3.411e+42\"],\"hovertemplate\":\"\\u003cb\\u003eY\\u003c\\u002fb\\u003e: %{y:.3f} at \\u003cb\\u003eX\\u003c\\u002fb\\u003e = %{x:,.0f}%{customdata}\",\"legendgroup\":\"group-9\",\"line\":{\"color\":\"#3affbc\"},\"name\":\"9\",\"x\":[11000.0,11450.000000000002,11900.000000000002,12350.000000000002,12800.000000000002,13250.000000000002,13700.000000000002,14150.000000000002,14600.000000000002,15050.000000000002,15500.000000000002,15950.000000000002,16400.0,16850.0,17300.0,17750.0,18200.0,18650.0,19100.0,19550.0,20000.0],\"y\":[0.46869175429362797,0.348955324137284,0.2722456226984887,0.23088331103266577,0.1939691164459148,0.16966303737984256,0.15365541714258055,0.14066857846930808,0.12625486648965387,0.11769844507310188,0.10873442822036555,0.10217357366795253,0.09428760780374061,0.08974201060071955,0.08619004289280517,0.08223115714542838,0.07778821666696917,0.07403971132288649,0.073072980013605,0.07131405537195094],\"type\":\"scatter\",\"uid\":\"1e314ebf-8cef-4635-9d8e-3d251b99e053\",\"xaxis\":\"x2\",\"yaxis\":\"y2\"},{\"customdata\":[\"\\u003cbr\\u003eEmitted Luminosity: 1.07e+43\\u003cbr\\u003eRequested Luminosity: 1.059e+43\\u003cbr\\u003eAbsorbed Luminosity: 3.335e+42\",\"\\u003cbr\\u003eEmitted Luminosity: 1.07e+43\\u003cbr\\u003eRequested Luminosity: 1.059e+43\\u003cbr\\u003eAbsorbed Luminosity: 3.335e+42\",\"\\u003cbr\\u003eEmitted Luminosity: 1.07e+43\\u003cbr\\u003eRequested Luminosity: 1.059e+43\\u003cbr\\u003eAbsorbed Luminosity: 3.335e+42\",\"\\u003cbr\\u003eEmitted Luminosity: 1.07e+43\\u003cbr\\u003eRequested Luminosity: 1.059e+43\\u003cbr\\u003eAbsorbed Luminosity: 3.335e+42\",\"\\u003cbr\\u003eEmitted Luminosity: 1.07e+43\\u003cbr\\u003eRequested Luminosity: 1.059e+43\\u003cbr\\u003eAbsorbed Luminosity: 3.335e+42\",\"\\u003cbr\\u003eEmitted Luminosity: 1.07e+43\\u003cbr\\u003eRequested Luminosity: 1.059e+43\\u003cbr\\u003eAbsorbed Luminosity: 3.335e+42\",\"\\u003cbr\\u003eEmitted Luminosity: 1.07e+43\\u003cbr\\u003eRequested Luminosity: 1.059e+43\\u003cbr\\u003eAbsorbed Luminosity: 3.335e+42\",\"\\u003cbr\\u003eEmitted Luminosity: 1.07e+43\\u003cbr\\u003eRequested Luminosity: 1.059e+43\\u003cbr\\u003eAbsorbed Luminosity: 3.335e+42\",\"\\u003cbr\\u003eEmitted Luminosity: 1.07e+43\\u003cbr\\u003eRequested Luminosity: 1.059e+43\\u003cbr\\u003eAbsorbed Luminosity: 3.335e+42\",\"\\u003cbr\\u003eEmitted Luminosity: 1.07e+43\\u003cbr\\u003eRequested Luminosity: 1.059e+43\\u003cbr\\u003eAbsorbed Luminosity: 3.335e+42\",\"\\u003cbr\\u003eEmitted Luminosity: 1.07e+43\\u003cbr\\u003eRequested Luminosity: 1.059e+43\\u003cbr\\u003eAbsorbed Luminosity: 3.335e+42\",\"\\u003cbr\\u003eEmitted Luminosity: 1.07e+43\\u003cbr\\u003eRequested Luminosity: 1.059e+43\\u003cbr\\u003eAbsorbed Luminosity: 3.335e+42\",\"\\u003cbr\\u003eEmitted Luminosity: 1.07e+43\\u003cbr\\u003eRequested Luminosity: 1.059e+43\\u003cbr\\u003eAbsorbed Luminosity: 3.335e+42\",\"\\u003cbr\\u003eEmitted Luminosity: 1.07e+43\\u003cbr\\u003eRequested Luminosity: 1.059e+43\\u003cbr\\u003eAbsorbed Luminosity: 3.335e+42\",\"\\u003cbr\\u003eEmitted Luminosity: 1.07e+43\\u003cbr\\u003eRequested Luminosity: 1.059e+43\\u003cbr\\u003eAbsorbed Luminosity: 3.335e+42\",\"\\u003cbr\\u003eEmitted Luminosity: 1.07e+43\\u003cbr\\u003eRequested Luminosity: 1.059e+43\\u003cbr\\u003eAbsorbed Luminosity: 3.335e+42\",\"\\u003cbr\\u003eEmitted Luminosity: 1.07e+43\\u003cbr\\u003eRequested Luminosity: 1.059e+43\\u003cbr\\u003eAbsorbed Luminosity: 3.335e+42\",\"\\u003cbr\\u003eEmitted Luminosity: 1.07e+43\\u003cbr\\u003eRequested Luminosity: 1.059e+43\\u003cbr\\u003eAbsorbed Luminosity: 3.335e+42\",\"\\u003cbr\\u003eEmitted Luminosity: 1.07e+43\\u003cbr\\u003eRequested Luminosity: 1.059e+43\\u003cbr\\u003eAbsorbed Luminosity: 3.335e+42\",\"\\u003cbr\\u003eEmitted Luminosity: 1.07e+43\\u003cbr\\u003eRequested Luminosity: 1.059e+43\\u003cbr\\u003eAbsorbed Luminosity: 3.335e+42\",\"\\u003cbr\\u003eEmitted Luminosity: 1.07e+43\\u003cbr\\u003eRequested Luminosity: 1.059e+43\\u003cbr\\u003eAbsorbed Luminosity: 3.335e+42\"],\"hovertemplate\":\"\\u003cb\\u003eY\\u003c\\u002fb\\u003e: %{y:.3f} at \\u003cb\\u003eX\\u003c\\u002fb\\u003e = %{x:,.0f}%{customdata}\",\"legendgroup\":\"group-10\",\"line\":{\"color\":\"#66ff91\"},\"name\":\"10\",\"showlegend\":false,\"x\":[11000.0,11450.000000000002,11900.000000000002,12350.000000000002,12800.000000000002,13250.000000000002,13700.000000000002,14150.000000000002,14600.000000000002,15050.000000000002,15500.000000000002,15950.000000000002,16400.0,16850.0,17300.0,17750.0,18200.0,18650.0,19100.0,19550.0,20000.0],\"y\":[11038.824129738192,11205.221198116968,11257.276210948346,11249.982124832783,11346.90454878049,11369.200845314626,11327.975637400827,11265.70277970274,11242.695668674241,11125.713354976326,11085.643189312847,11003.766807453358,10952.92546304719,10818.865962225493,10751.827669918466,10622.890289468825,10581.15392261617,10457.765325669845,10406.863293593045,10293.690965995092],\"type\":\"scatter\",\"uid\":\"4c54eecc-3122-4a8a-9b8b-1225f755a8b3\",\"xaxis\":\"x\",\"yaxis\":\"y\"},{\"customdata\":[\"\\u003cbr\\u003eEmitted Luminosity: 1.07e+43\\u003cbr\\u003eRequested Luminosity: 1.059e+43\\u003cbr\\u003eAbsorbed Luminosity: 3.335e+42\",\"\\u003cbr\\u003eEmitted Luminosity: 1.07e+43\\u003cbr\\u003eRequested Luminosity: 1.059e+43\\u003cbr\\u003eAbsorbed Luminosity: 3.335e+42\",\"\\u003cbr\\u003eEmitted Luminosity: 1.07e+43\\u003cbr\\u003eRequested Luminosity: 1.059e+43\\u003cbr\\u003eAbsorbed Luminosity: 3.335e+42\",\"\\u003cbr\\u003eEmitted Luminosity: 1.07e+43\\u003cbr\\u003eRequested Luminosity: 1.059e+43\\u003cbr\\u003eAbsorbed Luminosity: 3.335e+42\",\"\\u003cbr\\u003eEmitted Luminosity: 1.07e+43\\u003cbr\\u003eRequested Luminosity: 1.059e+43\\u003cbr\\u003eAbsorbed Luminosity: 3.335e+42\",\"\\u003cbr\\u003eEmitted Luminosity: 1.07e+43\\u003cbr\\u003eRequested Luminosity: 1.059e+43\\u003cbr\\u003eAbsorbed Luminosity: 3.335e+42\",\"\\u003cbr\\u003eEmitted Luminosity: 1.07e+43\\u003cbr\\u003eRequested Luminosity: 1.059e+43\\u003cbr\\u003eAbsorbed Luminosity: 3.335e+42\",\"\\u003cbr\\u003eEmitted Luminosity: 1.07e+43\\u003cbr\\u003eRequested Luminosity: 1.059e+43\\u003cbr\\u003eAbsorbed Luminosity: 3.335e+42\",\"\\u003cbr\\u003eEmitted Luminosity: 1.07e+43\\u003cbr\\u003eRequested Luminosity: 1.059e+43\\u003cbr\\u003eAbsorbed Luminosity: 3.335e+42\",\"\\u003cbr\\u003eEmitted Luminosity: 1.07e+43\\u003cbr\\u003eRequested Luminosity: 1.059e+43\\u003cbr\\u003eAbsorbed Luminosity: 3.335e+42\",\"\\u003cbr\\u003eEmitted Luminosity: 1.07e+43\\u003cbr\\u003eRequested Luminosity: 1.059e+43\\u003cbr\\u003eAbsorbed Luminosity: 3.335e+42\",\"\\u003cbr\\u003eEmitted Luminosity: 1.07e+43\\u003cbr\\u003eRequested Luminosity: 1.059e+43\\u003cbr\\u003eAbsorbed Luminosity: 3.335e+42\",\"\\u003cbr\\u003eEmitted Luminosity: 1.07e+43\\u003cbr\\u003eRequested Luminosity: 1.059e+43\\u003cbr\\u003eAbsorbed Luminosity: 3.335e+42\",\"\\u003cbr\\u003eEmitted Luminosity: 1.07e+43\\u003cbr\\u003eRequested Luminosity: 1.059e+43\\u003cbr\\u003eAbsorbed Luminosity: 3.335e+42\",\"\\u003cbr\\u003eEmitted Luminosity: 1.07e+43\\u003cbr\\u003eRequested Luminosity: 1.059e+43\\u003cbr\\u003eAbsorbed Luminosity: 3.335e+42\",\"\\u003cbr\\u003eEmitted Luminosity: 1.07e+43\\u003cbr\\u003eRequested Luminosity: 1.059e+43\\u003cbr\\u003eAbsorbed Luminosity: 3.335e+42\",\"\\u003cbr\\u003eEmitted Luminosity: 1.07e+43\\u003cbr\\u003eRequested Luminosity: 1.059e+43\\u003cbr\\u003eAbsorbed Luminosity: 3.335e+42\",\"\\u003cbr\\u003eEmitted Luminosity: 1.07e+43\\u003cbr\\u003eRequested Luminosity: 1.059e+43\\u003cbr\\u003eAbsorbed Luminosity: 3.335e+42\",\"\\u003cbr\\u003eEmitted Luminosity: 1.07e+43\\u003cbr\\u003eRequested Luminosity: 1.059e+43\\u003cbr\\u003eAbsorbed Luminosity: 3.335e+42\",\"\\u003cbr\\u003eEmitted Luminosity: 1.07e+43\\u003cbr\\u003eRequested Luminosity: 1.059e+43\\u003cbr\\u003eAbsorbed Luminosity: 3.335e+42\",\"\\u003cbr\\u003eEmitted Luminosity: 1.07e+43\\u003cbr\\u003eRequested Luminosity: 1.059e+43\\u003cbr\\u003eAbsorbed Luminosity: 3.335e+42\"],\"hovertemplate\":\"\\u003cb\\u003eY\\u003c\\u002fb\\u003e: %{y:.3f} at \\u003cb\\u003eX\\u003c\\u002fb\\u003e = %{x:,.0f}%{customdata}\",\"legendgroup\":\"group-10\",\"line\":{\"color\":\"#66ff91\"},\"name\":\"10\",\"x\":[11000.0,11450.000000000002,11900.000000000002,12350.000000000002,12800.000000000002,13250.000000000002,13700.000000000002,14150.000000000002,14600.000000000002,15050.000000000002,15500.000000000002,15950.000000000002,16400.0,16850.0,17300.0,17750.0,18200.0,18650.0,19100.0,19550.0,20000.0],\"y\":[0.47454746626447764,0.35492209696574056,0.290877521149577,0.24470866481881948,0.2050434741898585,0.17741364784201522,0.15853184856381056,0.14501821946430363,0.13008713859723567,0.12233533943053918,0.11238724105660704,0.10569730424606023,0.09826037906138771,0.09469637422940728,0.08992779920376812,0.08775182242155516,0.08291661849234441,0.08063515139722374,0.07697286067066765,0.07517475455159682],\"type\":\"scatter\",\"uid\":\"6a51b09b-fc6d-498d-a852-91ca2d406515\",\"xaxis\":\"x2\",\"yaxis\":\"y2\"},{\"customdata\":[\"\\u003cbr\\u003eEmitted Luminosity: 1.053e+43\\u003cbr\\u003eRequested Luminosity: 1.059e+43\\u003cbr\\u003eAbsorbed Luminosity: 3.363e+42\",\"\\u003cbr\\u003eEmitted Luminosity: 1.053e+43\\u003cbr\\u003eRequested Luminosity: 1.059e+43\\u003cbr\\u003eAbsorbed Luminosity: 3.363e+42\",\"\\u003cbr\\u003eEmitted Luminosity: 1.053e+43\\u003cbr\\u003eRequested Luminosity: 1.059e+43\\u003cbr\\u003eAbsorbed Luminosity: 3.363e+42\",\"\\u003cbr\\u003eEmitted Luminosity: 1.053e+43\\u003cbr\\u003eRequested Luminosity: 1.059e+43\\u003cbr\\u003eAbsorbed Luminosity: 3.363e+42\",\"\\u003cbr\\u003eEmitted Luminosity: 1.053e+43\\u003cbr\\u003eRequested Luminosity: 1.059e+43\\u003cbr\\u003eAbsorbed Luminosity: 3.363e+42\",\"\\u003cbr\\u003eEmitted Luminosity: 1.053e+43\\u003cbr\\u003eRequested Luminosity: 1.059e+43\\u003cbr\\u003eAbsorbed Luminosity: 3.363e+42\",\"\\u003cbr\\u003eEmitted Luminosity: 1.053e+43\\u003cbr\\u003eRequested Luminosity: 1.059e+43\\u003cbr\\u003eAbsorbed Luminosity: 3.363e+42\",\"\\u003cbr\\u003eEmitted Luminosity: 1.053e+43\\u003cbr\\u003eRequested Luminosity: 1.059e+43\\u003cbr\\u003eAbsorbed Luminosity: 3.363e+42\",\"\\u003cbr\\u003eEmitted Luminosity: 1.053e+43\\u003cbr\\u003eRequested Luminosity: 1.059e+43\\u003cbr\\u003eAbsorbed Luminosity: 3.363e+42\",\"\\u003cbr\\u003eEmitted Luminosity: 1.053e+43\\u003cbr\\u003eRequested Luminosity: 1.059e+43\\u003cbr\\u003eAbsorbed Luminosity: 3.363e+42\",\"\\u003cbr\\u003eEmitted Luminosity: 1.053e+43\\u003cbr\\u003eRequested Luminosity: 1.059e+43\\u003cbr\\u003eAbsorbed Luminosity: 3.363e+42\",\"\\u003cbr\\u003eEmitted Luminosity: 1.053e+43\\u003cbr\\u003eRequested Luminosity: 1.059e+43\\u003cbr\\u003eAbsorbed Luminosity: 3.363e+42\",\"\\u003cbr\\u003eEmitted Luminosity: 1.053e+43\\u003cbr\\u003eRequested Luminosity: 1.059e+43\\u003cbr\\u003eAbsorbed Luminosity: 3.363e+42\",\"\\u003cbr\\u003eEmitted Luminosity: 1.053e+43\\u003cbr\\u003eRequested Luminosity: 1.059e+43\\u003cbr\\u003eAbsorbed Luminosity: 3.363e+42\",\"\\u003cbr\\u003eEmitted Luminosity: 1.053e+43\\u003cbr\\u003eRequested Luminosity: 1.059e+43\\u003cbr\\u003eAbsorbed Luminosity: 3.363e+42\",\"\\u003cbr\\u003eEmitted Luminosity: 1.053e+43\\u003cbr\\u003eRequested Luminosity: 1.059e+43\\u003cbr\\u003eAbsorbed Luminosity: 3.363e+42\",\"\\u003cbr\\u003eEmitted Luminosity: 1.053e+43\\u003cbr\\u003eRequested Luminosity: 1.059e+43\\u003cbr\\u003eAbsorbed Luminosity: 3.363e+42\",\"\\u003cbr\\u003eEmitted Luminosity: 1.053e+43\\u003cbr\\u003eRequested Luminosity: 1.059e+43\\u003cbr\\u003eAbsorbed Luminosity: 3.363e+42\",\"\\u003cbr\\u003eEmitted Luminosity: 1.053e+43\\u003cbr\\u003eRequested Luminosity: 1.059e+43\\u003cbr\\u003eAbsorbed Luminosity: 3.363e+42\",\"\\u003cbr\\u003eEmitted Luminosity: 1.053e+43\\u003cbr\\u003eRequested Luminosity: 1.059e+43\\u003cbr\\u003eAbsorbed Luminosity: 3.363e+42\",\"\\u003cbr\\u003eEmitted Luminosity: 1.053e+43\\u003cbr\\u003eRequested Luminosity: 1.059e+43\\u003cbr\\u003eAbsorbed Luminosity: 3.363e+42\"],\"hovertemplate\":\"\\u003cb\\u003eY\\u003c\\u002fb\\u003e: %{y:.3f} at \\u003cb\\u003eX\\u003c\\u002fb\\u003e = %{x:,.0f}%{customdata}\",\"legendgroup\":\"group-11\",\"line\":{\"color\":\"#91ff66\"},\"name\":\"11\",\"showlegend\":false,\"x\":[11000.0,11450.000000000002,11900.000000000002,12350.000000000002,12800.000000000002,13250.000000000002,13700.000000000002,14150.000000000002,14600.000000000002,15050.000000000002,15500.000000000002,15950.000000000002,16400.0,16850.0,17300.0,17750.0,18200.0,18650.0,19100.0,19550.0,20000.0],\"y\":[11033.009303410317,11148.879430055611,11221.615762493,11261.57342812571,11263.081991396042,11194.361016203147,11176.65368617382,11119.362957181667,11160.897203210394,11060.876370200325,11002.144956546503,10869.256977805017,10791.657316178947,10690.963307625208,10679.126763159433,10633.713758296995,10563.593823093468,10475.66664206761,10394.486610589733,10307.337749004708],\"type\":\"scatter\",\"uid\":\"f14ba796-6239-42b9-b9bf-cab71ea70ffb\",\"xaxis\":\"x\",\"yaxis\":\"y\"},{\"customdata\":[\"\\u003cbr\\u003eEmitted Luminosity: 1.053e+43\\u003cbr\\u003eRequested Luminosity: 1.059e+43\\u003cbr\\u003eAbsorbed Luminosity: 3.363e+42\",\"\\u003cbr\\u003eEmitted Luminosity: 1.053e+43\\u003cbr\\u003eRequested Luminosity: 1.059e+43\\u003cbr\\u003eAbsorbed Luminosity: 3.363e+42\",\"\\u003cbr\\u003eEmitted Luminosity: 1.053e+43\\u003cbr\\u003eRequested Luminosity: 1.059e+43\\u003cbr\\u003eAbsorbed Luminosity: 3.363e+42\",\"\\u003cbr\\u003eEmitted Luminosity: 1.053e+43\\u003cbr\\u003eRequested Luminosity: 1.059e+43\\u003cbr\\u003eAbsorbed Luminosity: 3.363e+42\",\"\\u003cbr\\u003eEmitted Luminosity: 1.053e+43\\u003cbr\\u003eRequested Luminosity: 1.059e+43\\u003cbr\\u003eAbsorbed Luminosity: 3.363e+42\",\"\\u003cbr\\u003eEmitted Luminosity: 1.053e+43\\u003cbr\\u003eRequested Luminosity: 1.059e+43\\u003cbr\\u003eAbsorbed Luminosity: 3.363e+42\",\"\\u003cbr\\u003eEmitted Luminosity: 1.053e+43\\u003cbr\\u003eRequested Luminosity: 1.059e+43\\u003cbr\\u003eAbsorbed Luminosity: 3.363e+42\",\"\\u003cbr\\u003eEmitted Luminosity: 1.053e+43\\u003cbr\\u003eRequested Luminosity: 1.059e+43\\u003cbr\\u003eAbsorbed Luminosity: 3.363e+42\",\"\\u003cbr\\u003eEmitted Luminosity: 1.053e+43\\u003cbr\\u003eRequested Luminosity: 1.059e+43\\u003cbr\\u003eAbsorbed Luminosity: 3.363e+42\",\"\\u003cbr\\u003eEmitted Luminosity: 1.053e+43\\u003cbr\\u003eRequested Luminosity: 1.059e+43\\u003cbr\\u003eAbsorbed Luminosity: 3.363e+42\",\"\\u003cbr\\u003eEmitted Luminosity: 1.053e+43\\u003cbr\\u003eRequested Luminosity: 1.059e+43\\u003cbr\\u003eAbsorbed Luminosity: 3.363e+42\",\"\\u003cbr\\u003eEmitted Luminosity: 1.053e+43\\u003cbr\\u003eRequested Luminosity: 1.059e+43\\u003cbr\\u003eAbsorbed Luminosity: 3.363e+42\",\"\\u003cbr\\u003eEmitted Luminosity: 1.053e+43\\u003cbr\\u003eRequested Luminosity: 1.059e+43\\u003cbr\\u003eAbsorbed Luminosity: 3.363e+42\",\"\\u003cbr\\u003eEmitted Luminosity: 1.053e+43\\u003cbr\\u003eRequested Luminosity: 1.059e+43\\u003cbr\\u003eAbsorbed Luminosity: 3.363e+42\",\"\\u003cbr\\u003eEmitted Luminosity: 1.053e+43\\u003cbr\\u003eRequested Luminosity: 1.059e+43\\u003cbr\\u003eAbsorbed Luminosity: 3.363e+42\",\"\\u003cbr\\u003eEmitted Luminosity: 1.053e+43\\u003cbr\\u003eRequested Luminosity: 1.059e+43\\u003cbr\\u003eAbsorbed Luminosity: 3.363e+42\",\"\\u003cbr\\u003eEmitted Luminosity: 1.053e+43\\u003cbr\\u003eRequested Luminosity: 1.059e+43\\u003cbr\\u003eAbsorbed Luminosity: 3.363e+42\",\"\\u003cbr\\u003eEmitted Luminosity: 1.053e+43\\u003cbr\\u003eRequested Luminosity: 1.059e+43\\u003cbr\\u003eAbsorbed Luminosity: 3.363e+42\",\"\\u003cbr\\u003eEmitted Luminosity: 1.053e+43\\u003cbr\\u003eRequested Luminosity: 1.059e+43\\u003cbr\\u003eAbsorbed Luminosity: 3.363e+42\",\"\\u003cbr\\u003eEmitted Luminosity: 1.053e+43\\u003cbr\\u003eRequested Luminosity: 1.059e+43\\u003cbr\\u003eAbsorbed Luminosity: 3.363e+42\",\"\\u003cbr\\u003eEmitted Luminosity: 1.053e+43\\u003cbr\\u003eRequested Luminosity: 1.059e+43\\u003cbr\\u003eAbsorbed Luminosity: 3.363e+42\"],\"hovertemplate\":\"\\u003cb\\u003eY\\u003c\\u002fb\\u003e: %{y:.3f} at \\u003cb\\u003eX\\u003c\\u002fb\\u003e = %{x:,.0f}%{customdata}\",\"legendgroup\":\"group-11\",\"line\":{\"color\":\"#91ff66\"},\"name\":\"11\",\"x\":[11000.0,11450.000000000002,11900.000000000002,12350.000000000002,12800.000000000002,13250.000000000002,13700.000000000002,14150.000000000002,14600.000000000002,15050.000000000002,15500.000000000002,15950.000000000002,16400.0,16850.0,17300.0,17750.0,18200.0,18650.0,19100.0,19550.0,20000.0],\"y\":[0.47165370270082585,0.35789002652138946,0.2891560282862595,0.24083880524214263,0.20785046373550395,0.18387932966246887,0.16319167714340718,0.14789250815492966,0.13152997741799588,0.12372087214587733,0.1142846612641662,0.10883618535076485,0.10279474447387725,0.09766572146048423,0.0908156850820922,0.08593330607508286,0.08216375648793363,0.07911681363169637,0.07642694755200091,0.07384615302464916],\"type\":\"scatter\",\"uid\":\"5aabe506-169a-4219-8a15-9a726ece2e5d\",\"xaxis\":\"x2\",\"yaxis\":\"y2\"},{\"customdata\":[\"\\u003cbr\\u003eEmitted Luminosity: 1.056e+43\\u003cbr\\u003eRequested Luminosity: 1.059e+43\\u003cbr\\u003eAbsorbed Luminosity: 3.42e+42\",\"\\u003cbr\\u003eEmitted Luminosity: 1.056e+43\\u003cbr\\u003eRequested Luminosity: 1.059e+43\\u003cbr\\u003eAbsorbed Luminosity: 3.42e+42\",\"\\u003cbr\\u003eEmitted Luminosity: 1.056e+43\\u003cbr\\u003eRequested Luminosity: 1.059e+43\\u003cbr\\u003eAbsorbed Luminosity: 3.42e+42\",\"\\u003cbr\\u003eEmitted Luminosity: 1.056e+43\\u003cbr\\u003eRequested Luminosity: 1.059e+43\\u003cbr\\u003eAbsorbed Luminosity: 3.42e+42\",\"\\u003cbr\\u003eEmitted Luminosity: 1.056e+43\\u003cbr\\u003eRequested Luminosity: 1.059e+43\\u003cbr\\u003eAbsorbed Luminosity: 3.42e+42\",\"\\u003cbr\\u003eEmitted Luminosity: 1.056e+43\\u003cbr\\u003eRequested Luminosity: 1.059e+43\\u003cbr\\u003eAbsorbed Luminosity: 3.42e+42\",\"\\u003cbr\\u003eEmitted Luminosity: 1.056e+43\\u003cbr\\u003eRequested Luminosity: 1.059e+43\\u003cbr\\u003eAbsorbed Luminosity: 3.42e+42\",\"\\u003cbr\\u003eEmitted Luminosity: 1.056e+43\\u003cbr\\u003eRequested Luminosity: 1.059e+43\\u003cbr\\u003eAbsorbed Luminosity: 3.42e+42\",\"\\u003cbr\\u003eEmitted Luminosity: 1.056e+43\\u003cbr\\u003eRequested Luminosity: 1.059e+43\\u003cbr\\u003eAbsorbed Luminosity: 3.42e+42\",\"\\u003cbr\\u003eEmitted Luminosity: 1.056e+43\\u003cbr\\u003eRequested Luminosity: 1.059e+43\\u003cbr\\u003eAbsorbed Luminosity: 3.42e+42\",\"\\u003cbr\\u003eEmitted Luminosity: 1.056e+43\\u003cbr\\u003eRequested Luminosity: 1.059e+43\\u003cbr\\u003eAbsorbed Luminosity: 3.42e+42\",\"\\u003cbr\\u003eEmitted Luminosity: 1.056e+43\\u003cbr\\u003eRequested Luminosity: 1.059e+43\\u003cbr\\u003eAbsorbed Luminosity: 3.42e+42\",\"\\u003cbr\\u003eEmitted Luminosity: 1.056e+43\\u003cbr\\u003eRequested Luminosity: 1.059e+43\\u003cbr\\u003eAbsorbed Luminosity: 3.42e+42\",\"\\u003cbr\\u003eEmitted Luminosity: 1.056e+43\\u003cbr\\u003eRequested Luminosity: 1.059e+43\\u003cbr\\u003eAbsorbed Luminosity: 3.42e+42\",\"\\u003cbr\\u003eEmitted Luminosity: 1.056e+43\\u003cbr\\u003eRequested Luminosity: 1.059e+43\\u003cbr\\u003eAbsorbed Luminosity: 3.42e+42\",\"\\u003cbr\\u003eEmitted Luminosity: 1.056e+43\\u003cbr\\u003eRequested Luminosity: 1.059e+43\\u003cbr\\u003eAbsorbed Luminosity: 3.42e+42\",\"\\u003cbr\\u003eEmitted Luminosity: 1.056e+43\\u003cbr\\u003eRequested Luminosity: 1.059e+43\\u003cbr\\u003eAbsorbed Luminosity: 3.42e+42\",\"\\u003cbr\\u003eEmitted Luminosity: 1.056e+43\\u003cbr\\u003eRequested Luminosity: 1.059e+43\\u003cbr\\u003eAbsorbed Luminosity: 3.42e+42\",\"\\u003cbr\\u003eEmitted Luminosity: 1.056e+43\\u003cbr\\u003eRequested Luminosity: 1.059e+43\\u003cbr\\u003eAbsorbed Luminosity: 3.42e+42\",\"\\u003cbr\\u003eEmitted Luminosity: 1.056e+43\\u003cbr\\u003eRequested Luminosity: 1.059e+43\\u003cbr\\u003eAbsorbed Luminosity: 3.42e+42\",\"\\u003cbr\\u003eEmitted Luminosity: 1.056e+43\\u003cbr\\u003eRequested Luminosity: 1.059e+43\\u003cbr\\u003eAbsorbed Luminosity: 3.42e+42\"],\"hovertemplate\":\"\\u003cb\\u003eY\\u003c\\u002fb\\u003e: %{y:.3f} at \\u003cb\\u003eX\\u003c\\u002fb\\u003e = %{x:,.0f}%{customdata}\",\"legendgroup\":\"group-12\",\"line\":{\"color\":\"#bcff3a\"},\"name\":\"12\",\"showlegend\":false,\"x\":[11000.0,11450.000000000002,11900.000000000002,12350.000000000002,12800.000000000002,13250.000000000002,13700.000000000002,14150.000000000002,14600.000000000002,15050.000000000002,15500.000000000002,15950.000000000002,16400.0,16850.0,17300.0,17750.0,18200.0,18650.0,19100.0,19550.0,20000.0],\"y\":[11074.304190284529,11270.074704391542,11337.646753844463,11393.767844361719,11382.432493098266,11342.026259991248,11307.597681129102,11335.171775993966,11250.639254234311,11213.127418727045,11110.772199549234,11064.251343517115,11042.858520545049,10922.450884499984,10850.738987811255,10785.376592676303,10674.168878679422,10522.169892052723,10443.423599659382,10348.151354322647],\"type\":\"scatter\",\"uid\":\"024fb3e1-5ed4-4951-abea-75b7fcfbc96c\",\"xaxis\":\"x\",\"yaxis\":\"y\"},{\"customdata\":[\"\\u003cbr\\u003eEmitted Luminosity: 1.056e+43\\u003cbr\\u003eRequested Luminosity: 1.059e+43\\u003cbr\\u003eAbsorbed Luminosity: 3.42e+42\",\"\\u003cbr\\u003eEmitted Luminosity: 1.056e+43\\u003cbr\\u003eRequested Luminosity: 1.059e+43\\u003cbr\\u003eAbsorbed Luminosity: 3.42e+42\",\"\\u003cbr\\u003eEmitted Luminosity: 1.056e+43\\u003cbr\\u003eRequested Luminosity: 1.059e+43\\u003cbr\\u003eAbsorbed Luminosity: 3.42e+42\",\"\\u003cbr\\u003eEmitted Luminosity: 1.056e+43\\u003cbr\\u003eRequested Luminosity: 1.059e+43\\u003cbr\\u003eAbsorbed Luminosity: 3.42e+42\",\"\\u003cbr\\u003eEmitted Luminosity: 1.056e+43\\u003cbr\\u003eRequested Luminosity: 1.059e+43\\u003cbr\\u003eAbsorbed Luminosity: 3.42e+42\",\"\\u003cbr\\u003eEmitted Luminosity: 1.056e+43\\u003cbr\\u003eRequested Luminosity: 1.059e+43\\u003cbr\\u003eAbsorbed Luminosity: 3.42e+42\",\"\\u003cbr\\u003eEmitted Luminosity: 1.056e+43\\u003cbr\\u003eRequested Luminosity: 1.059e+43\\u003cbr\\u003eAbsorbed Luminosity: 3.42e+42\",\"\\u003cbr\\u003eEmitted Luminosity: 1.056e+43\\u003cbr\\u003eRequested Luminosity: 1.059e+43\\u003cbr\\u003eAbsorbed Luminosity: 3.42e+42\",\"\\u003cbr\\u003eEmitted Luminosity: 1.056e+43\\u003cbr\\u003eRequested Luminosity: 1.059e+43\\u003cbr\\u003eAbsorbed Luminosity: 3.42e+42\",\"\\u003cbr\\u003eEmitted Luminosity: 1.056e+43\\u003cbr\\u003eRequested Luminosity: 1.059e+43\\u003cbr\\u003eAbsorbed Luminosity: 3.42e+42\",\"\\u003cbr\\u003eEmitted Luminosity: 1.056e+43\\u003cbr\\u003eRequested Luminosity: 1.059e+43\\u003cbr\\u003eAbsorbed Luminosity: 3.42e+42\",\"\\u003cbr\\u003eEmitted Luminosity: 1.056e+43\\u003cbr\\u003eRequested Luminosity: 1.059e+43\\u003cbr\\u003eAbsorbed Luminosity: 3.42e+42\",\"\\u003cbr\\u003eEmitted Luminosity: 1.056e+43\\u003cbr\\u003eRequested Luminosity: 1.059e+43\\u003cbr\\u003eAbsorbed Luminosity: 3.42e+42\",\"\\u003cbr\\u003eEmitted Luminosity: 1.056e+43\\u003cbr\\u003eRequested Luminosity: 1.059e+43\\u003cbr\\u003eAbsorbed Luminosity: 3.42e+42\",\"\\u003cbr\\u003eEmitted Luminosity: 1.056e+43\\u003cbr\\u003eRequested Luminosity: 1.059e+43\\u003cbr\\u003eAbsorbed Luminosity: 3.42e+42\",\"\\u003cbr\\u003eEmitted Luminosity: 1.056e+43\\u003cbr\\u003eRequested Luminosity: 1.059e+43\\u003cbr\\u003eAbsorbed Luminosity: 3.42e+42\",\"\\u003cbr\\u003eEmitted Luminosity: 1.056e+43\\u003cbr\\u003eRequested Luminosity: 1.059e+43\\u003cbr\\u003eAbsorbed Luminosity: 3.42e+42\",\"\\u003cbr\\u003eEmitted Luminosity: 1.056e+43\\u003cbr\\u003eRequested Luminosity: 1.059e+43\\u003cbr\\u003eAbsorbed Luminosity: 3.42e+42\",\"\\u003cbr\\u003eEmitted Luminosity: 1.056e+43\\u003cbr\\u003eRequested Luminosity: 1.059e+43\\u003cbr\\u003eAbsorbed Luminosity: 3.42e+42\",\"\\u003cbr\\u003eEmitted Luminosity: 1.056e+43\\u003cbr\\u003eRequested Luminosity: 1.059e+43\\u003cbr\\u003eAbsorbed Luminosity: 3.42e+42\",\"\\u003cbr\\u003eEmitted Luminosity: 1.056e+43\\u003cbr\\u003eRequested Luminosity: 1.059e+43\\u003cbr\\u003eAbsorbed Luminosity: 3.42e+42\"],\"hovertemplate\":\"\\u003cb\\u003eY\\u003c\\u002fb\\u003e: %{y:.3f} at \\u003cb\\u003eX\\u003c\\u002fb\\u003e = %{x:,.0f}%{customdata}\",\"legendgroup\":\"group-12\",\"line\":{\"color\":\"#bcff3a\"},\"name\":\"12\",\"x\":[11000.0,11450.000000000002,11900.000000000002,12350.000000000002,12800.000000000002,13250.000000000002,13700.000000000002,14150.000000000002,14600.000000000002,15050.000000000002,15500.000000000002,15950.000000000002,16400.0,16850.0,17300.0,17750.0,18200.0,18650.0,19100.0,19550.0,20000.0],\"y\":[0.46734277742991165,0.3416024423087206,0.2791032117456706,0.23050913043389545,0.19851418434126275,0.175666340632652,0.1571189220370137,0.13858010782473734,0.12834380644402324,0.1171226350779019,0.11007392939205864,0.10251441617453587,0.09467131931672494,0.09072574589902661,0.08637417761144334,0.08205309967814461,0.07907593632456149,0.07772849740381026,0.07510736536848099,0.07265137671612967],\"type\":\"scatter\",\"uid\":\"57ecfd17-41b9-410d-824c-1679e4eec677\",\"xaxis\":\"x2\",\"yaxis\":\"y2\"},{\"customdata\":[\"\\u003cbr\\u003eEmitted Luminosity: 1.062e+43\\u003cbr\\u003eRequested Luminosity: 1.059e+43\\u003cbr\\u003eAbsorbed Luminosity: 3.406e+42\",\"\\u003cbr\\u003eEmitted Luminosity: 1.062e+43\\u003cbr\\u003eRequested Luminosity: 1.059e+43\\u003cbr\\u003eAbsorbed Luminosity: 3.406e+42\",\"\\u003cbr\\u003eEmitted Luminosity: 1.062e+43\\u003cbr\\u003eRequested Luminosity: 1.059e+43\\u003cbr\\u003eAbsorbed Luminosity: 3.406e+42\",\"\\u003cbr\\u003eEmitted Luminosity: 1.062e+43\\u003cbr\\u003eRequested Luminosity: 1.059e+43\\u003cbr\\u003eAbsorbed Luminosity: 3.406e+42\",\"\\u003cbr\\u003eEmitted Luminosity: 1.062e+43\\u003cbr\\u003eRequested Luminosity: 1.059e+43\\u003cbr\\u003eAbsorbed Luminosity: 3.406e+42\",\"\\u003cbr\\u003eEmitted Luminosity: 1.062e+43\\u003cbr\\u003eRequested Luminosity: 1.059e+43\\u003cbr\\u003eAbsorbed Luminosity: 3.406e+42\",\"\\u003cbr\\u003eEmitted Luminosity: 1.062e+43\\u003cbr\\u003eRequested Luminosity: 1.059e+43\\u003cbr\\u003eAbsorbed Luminosity: 3.406e+42\",\"\\u003cbr\\u003eEmitted Luminosity: 1.062e+43\\u003cbr\\u003eRequested Luminosity: 1.059e+43\\u003cbr\\u003eAbsorbed Luminosity: 3.406e+42\",\"\\u003cbr\\u003eEmitted Luminosity: 1.062e+43\\u003cbr\\u003eRequested Luminosity: 1.059e+43\\u003cbr\\u003eAbsorbed Luminosity: 3.406e+42\",\"\\u003cbr\\u003eEmitted Luminosity: 1.062e+43\\u003cbr\\u003eRequested Luminosity: 1.059e+43\\u003cbr\\u003eAbsorbed Luminosity: 3.406e+42\",\"\\u003cbr\\u003eEmitted Luminosity: 1.062e+43\\u003cbr\\u003eRequested Luminosity: 1.059e+43\\u003cbr\\u003eAbsorbed Luminosity: 3.406e+42\",\"\\u003cbr\\u003eEmitted Luminosity: 1.062e+43\\u003cbr\\u003eRequested Luminosity: 1.059e+43\\u003cbr\\u003eAbsorbed Luminosity: 3.406e+42\",\"\\u003cbr\\u003eEmitted Luminosity: 1.062e+43\\u003cbr\\u003eRequested Luminosity: 1.059e+43\\u003cbr\\u003eAbsorbed Luminosity: 3.406e+42\",\"\\u003cbr\\u003eEmitted Luminosity: 1.062e+43\\u003cbr\\u003eRequested Luminosity: 1.059e+43\\u003cbr\\u003eAbsorbed Luminosity: 3.406e+42\",\"\\u003cbr\\u003eEmitted Luminosity: 1.062e+43\\u003cbr\\u003eRequested Luminosity: 1.059e+43\\u003cbr\\u003eAbsorbed Luminosity: 3.406e+42\",\"\\u003cbr\\u003eEmitted Luminosity: 1.062e+43\\u003cbr\\u003eRequested Luminosity: 1.059e+43\\u003cbr\\u003eAbsorbed Luminosity: 3.406e+42\",\"\\u003cbr\\u003eEmitted Luminosity: 1.062e+43\\u003cbr\\u003eRequested Luminosity: 1.059e+43\\u003cbr\\u003eAbsorbed Luminosity: 3.406e+42\",\"\\u003cbr\\u003eEmitted Luminosity: 1.062e+43\\u003cbr\\u003eRequested Luminosity: 1.059e+43\\u003cbr\\u003eAbsorbed Luminosity: 3.406e+42\",\"\\u003cbr\\u003eEmitted Luminosity: 1.062e+43\\u003cbr\\u003eRequested Luminosity: 1.059e+43\\u003cbr\\u003eAbsorbed Luminosity: 3.406e+42\",\"\\u003cbr\\u003eEmitted Luminosity: 1.062e+43\\u003cbr\\u003eRequested Luminosity: 1.059e+43\\u003cbr\\u003eAbsorbed Luminosity: 3.406e+42\",\"\\u003cbr\\u003eEmitted Luminosity: 1.062e+43\\u003cbr\\u003eRequested Luminosity: 1.059e+43\\u003cbr\\u003eAbsorbed Luminosity: 3.406e+42\"],\"hovertemplate\":\"\\u003cb\\u003eY\\u003c\\u002fb\\u003e: %{y:.3f} at \\u003cb\\u003eX\\u003c\\u002fb\\u003e = %{x:,.0f}%{customdata}\",\"legendgroup\":\"group-13\",\"line\":{\"color\":\"#e8ff0f\"},\"name\":\"13\",\"showlegend\":false,\"x\":[11000.0,11450.000000000002,11900.000000000002,12350.000000000002,12800.000000000002,13250.000000000002,13700.000000000002,14150.000000000002,14600.000000000002,15050.000000000002,15500.000000000002,15950.000000000002,16400.0,16850.0,17300.0,17750.0,18200.0,18650.0,19100.0,19550.0,20000.0],\"y\":[11087.52557542617,11201.227059561068,11264.115790406622,11292.82463809896,11317.15699027004,11281.498582331278,11322.207028926732,11339.77168038824,11327.178998980184,11167.49322138417,11090.703318109816,10991.061715905915,10921.092013305803,10921.414809706108,10849.205913505864,10756.107814500583,10644.630217581223,10587.886446170467,10437.516867167395,10342.489678405147],\"type\":\"scatter\",\"uid\":\"bf9c99d5-2968-407e-8086-1f587a1be992\",\"xaxis\":\"x\",\"yaxis\":\"y\"},{\"customdata\":[\"\\u003cbr\\u003eEmitted Luminosity: 1.062e+43\\u003cbr\\u003eRequested Luminosity: 1.059e+43\\u003cbr\\u003eAbsorbed Luminosity: 3.406e+42\",\"\\u003cbr\\u003eEmitted Luminosity: 1.062e+43\\u003cbr\\u003eRequested Luminosity: 1.059e+43\\u003cbr\\u003eAbsorbed Luminosity: 3.406e+42\",\"\\u003cbr\\u003eEmitted Luminosity: 1.062e+43\\u003cbr\\u003eRequested Luminosity: 1.059e+43\\u003cbr\\u003eAbsorbed Luminosity: 3.406e+42\",\"\\u003cbr\\u003eEmitted Luminosity: 1.062e+43\\u003cbr\\u003eRequested Luminosity: 1.059e+43\\u003cbr\\u003eAbsorbed Luminosity: 3.406e+42\",\"\\u003cbr\\u003eEmitted Luminosity: 1.062e+43\\u003cbr\\u003eRequested Luminosity: 1.059e+43\\u003cbr\\u003eAbsorbed Luminosity: 3.406e+42\",\"\\u003cbr\\u003eEmitted Luminosity: 1.062e+43\\u003cbr\\u003eRequested Luminosity: 1.059e+43\\u003cbr\\u003eAbsorbed Luminosity: 3.406e+42\",\"\\u003cbr\\u003eEmitted Luminosity: 1.062e+43\\u003cbr\\u003eRequested Luminosity: 1.059e+43\\u003cbr\\u003eAbsorbed Luminosity: 3.406e+42\",\"\\u003cbr\\u003eEmitted Luminosity: 1.062e+43\\u003cbr\\u003eRequested Luminosity: 1.059e+43\\u003cbr\\u003eAbsorbed Luminosity: 3.406e+42\",\"\\u003cbr\\u003eEmitted Luminosity: 1.062e+43\\u003cbr\\u003eRequested Luminosity: 1.059e+43\\u003cbr\\u003eAbsorbed Luminosity: 3.406e+42\",\"\\u003cbr\\u003eEmitted Luminosity: 1.062e+43\\u003cbr\\u003eRequested Luminosity: 1.059e+43\\u003cbr\\u003eAbsorbed Luminosity: 3.406e+42\",\"\\u003cbr\\u003eEmitted Luminosity: 1.062e+43\\u003cbr\\u003eRequested Luminosity: 1.059e+43\\u003cbr\\u003eAbsorbed Luminosity: 3.406e+42\",\"\\u003cbr\\u003eEmitted Luminosity: 1.062e+43\\u003cbr\\u003eRequested Luminosity: 1.059e+43\\u003cbr\\u003eAbsorbed Luminosity: 3.406e+42\",\"\\u003cbr\\u003eEmitted Luminosity: 1.062e+43\\u003cbr\\u003eRequested Luminosity: 1.059e+43\\u003cbr\\u003eAbsorbed Luminosity: 3.406e+42\",\"\\u003cbr\\u003eEmitted Luminosity: 1.062e+43\\u003cbr\\u003eRequested Luminosity: 1.059e+43\\u003cbr\\u003eAbsorbed Luminosity: 3.406e+42\",\"\\u003cbr\\u003eEmitted Luminosity: 1.062e+43\\u003cbr\\u003eRequested Luminosity: 1.059e+43\\u003cbr\\u003eAbsorbed Luminosity: 3.406e+42\",\"\\u003cbr\\u003eEmitted Luminosity: 1.062e+43\\u003cbr\\u003eRequested Luminosity: 1.059e+43\\u003cbr\\u003eAbsorbed Luminosity: 3.406e+42\",\"\\u003cbr\\u003eEmitted Luminosity: 1.062e+43\\u003cbr\\u003eRequested Luminosity: 1.059e+43\\u003cbr\\u003eAbsorbed Luminosity: 3.406e+42\",\"\\u003cbr\\u003eEmitted Luminosity: 1.062e+43\\u003cbr\\u003eRequested Luminosity: 1.059e+43\\u003cbr\\u003eAbsorbed Luminosity: 3.406e+42\",\"\\u003cbr\\u003eEmitted Luminosity: 1.062e+43\\u003cbr\\u003eRequested Luminosity: 1.059e+43\\u003cbr\\u003eAbsorbed Luminosity: 3.406e+42\",\"\\u003cbr\\u003eEmitted Luminosity: 1.062e+43\\u003cbr\\u003eRequested Luminosity: 1.059e+43\\u003cbr\\u003eAbsorbed Luminosity: 3.406e+42\",\"\\u003cbr\\u003eEmitted Luminosity: 1.062e+43\\u003cbr\\u003eRequested Luminosity: 1.059e+43\\u003cbr\\u003eAbsorbed Luminosity: 3.406e+42\"],\"hovertemplate\":\"\\u003cb\\u003eY\\u003c\\u002fb\\u003e: %{y:.3f} at \\u003cb\\u003eX\\u003c\\u002fb\\u003e = %{x:,.0f}%{customdata}\",\"legendgroup\":\"group-13\",\"line\":{\"color\":\"#e8ff0f\"},\"name\":\"13\",\"x\":[11000.0,11450.000000000002,11900.000000000002,12350.000000000002,12800.000000000002,13250.000000000002,13700.000000000002,14150.000000000002,14600.000000000002,15050.000000000002,15500.000000000002,15950.000000000002,16400.0,16850.0,17300.0,17750.0,18200.0,18650.0,19100.0,19550.0,20000.0],\"y\":[0.4656580542660176,0.35496693882008395,0.289079600836057,0.24118403204373154,0.2044548355516532,0.18036279511146516,0.15735297031280962,0.1396762392149381,0.12582808284318375,0.1196681768510043,0.11138794680880086,0.1055940864813782,0.0992345303730312,0.09188690252759385,0.08696933388246807,0.08406815852725862,0.08086653912207419,0.07694310150792819,0.07586562190636138,0.07336532449072056],\"type\":\"scatter\",\"uid\":\"22e9afe4-c491-4a71-b212-40ecd45481e3\",\"xaxis\":\"x2\",\"yaxis\":\"y2\"},{\"customdata\":[\"\\u003cbr\\u003eEmitted Luminosity: 1.063e+43\\u003cbr\\u003eRequested Luminosity: 1.059e+43\\u003cbr\\u003eAbsorbed Luminosity: 3.369e+42\",\"\\u003cbr\\u003eEmitted Luminosity: 1.063e+43\\u003cbr\\u003eRequested Luminosity: 1.059e+43\\u003cbr\\u003eAbsorbed Luminosity: 3.369e+42\",\"\\u003cbr\\u003eEmitted Luminosity: 1.063e+43\\u003cbr\\u003eRequested Luminosity: 1.059e+43\\u003cbr\\u003eAbsorbed Luminosity: 3.369e+42\",\"\\u003cbr\\u003eEmitted Luminosity: 1.063e+43\\u003cbr\\u003eRequested Luminosity: 1.059e+43\\u003cbr\\u003eAbsorbed Luminosity: 3.369e+42\",\"\\u003cbr\\u003eEmitted Luminosity: 1.063e+43\\u003cbr\\u003eRequested Luminosity: 1.059e+43\\u003cbr\\u003eAbsorbed Luminosity: 3.369e+42\",\"\\u003cbr\\u003eEmitted Luminosity: 1.063e+43\\u003cbr\\u003eRequested Luminosity: 1.059e+43\\u003cbr\\u003eAbsorbed Luminosity: 3.369e+42\",\"\\u003cbr\\u003eEmitted Luminosity: 1.063e+43\\u003cbr\\u003eRequested Luminosity: 1.059e+43\\u003cbr\\u003eAbsorbed Luminosity: 3.369e+42\",\"\\u003cbr\\u003eEmitted Luminosity: 1.063e+43\\u003cbr\\u003eRequested Luminosity: 1.059e+43\\u003cbr\\u003eAbsorbed Luminosity: 3.369e+42\",\"\\u003cbr\\u003eEmitted Luminosity: 1.063e+43\\u003cbr\\u003eRequested Luminosity: 1.059e+43\\u003cbr\\u003eAbsorbed Luminosity: 3.369e+42\",\"\\u003cbr\\u003eEmitted Luminosity: 1.063e+43\\u003cbr\\u003eRequested Luminosity: 1.059e+43\\u003cbr\\u003eAbsorbed Luminosity: 3.369e+42\",\"\\u003cbr\\u003eEmitted Luminosity: 1.063e+43\\u003cbr\\u003eRequested Luminosity: 1.059e+43\\u003cbr\\u003eAbsorbed Luminosity: 3.369e+42\",\"\\u003cbr\\u003eEmitted Luminosity: 1.063e+43\\u003cbr\\u003eRequested Luminosity: 1.059e+43\\u003cbr\\u003eAbsorbed Luminosity: 3.369e+42\",\"\\u003cbr\\u003eEmitted Luminosity: 1.063e+43\\u003cbr\\u003eRequested Luminosity: 1.059e+43\\u003cbr\\u003eAbsorbed Luminosity: 3.369e+42\",\"\\u003cbr\\u003eEmitted Luminosity: 1.063e+43\\u003cbr\\u003eRequested Luminosity: 1.059e+43\\u003cbr\\u003eAbsorbed Luminosity: 3.369e+42\",\"\\u003cbr\\u003eEmitted Luminosity: 1.063e+43\\u003cbr\\u003eRequested Luminosity: 1.059e+43\\u003cbr\\u003eAbsorbed Luminosity: 3.369e+42\",\"\\u003cbr\\u003eEmitted Luminosity: 1.063e+43\\u003cbr\\u003eRequested Luminosity: 1.059e+43\\u003cbr\\u003eAbsorbed Luminosity: 3.369e+42\",\"\\u003cbr\\u003eEmitted Luminosity: 1.063e+43\\u003cbr\\u003eRequested Luminosity: 1.059e+43\\u003cbr\\u003eAbsorbed Luminosity: 3.369e+42\",\"\\u003cbr\\u003eEmitted Luminosity: 1.063e+43\\u003cbr\\u003eRequested Luminosity: 1.059e+43\\u003cbr\\u003eAbsorbed Luminosity: 3.369e+42\",\"\\u003cbr\\u003eEmitted Luminosity: 1.063e+43\\u003cbr\\u003eRequested Luminosity: 1.059e+43\\u003cbr\\u003eAbsorbed Luminosity: 3.369e+42\",\"\\u003cbr\\u003eEmitted Luminosity: 1.063e+43\\u003cbr\\u003eRequested Luminosity: 1.059e+43\\u003cbr\\u003eAbsorbed Luminosity: 3.369e+42\",\"\\u003cbr\\u003eEmitted Luminosity: 1.063e+43\\u003cbr\\u003eRequested Luminosity: 1.059e+43\\u003cbr\\u003eAbsorbed Luminosity: 3.369e+42\"],\"hovertemplate\":\"\\u003cb\\u003eY\\u003c\\u002fb\\u003e: %{y:.3f} at \\u003cb\\u003eX\\u003c\\u002fb\\u003e = %{x:,.0f}%{customdata}\",\"legendgroup\":\"group-14\",\"line\":{\"color\":\"#ffd500\"},\"name\":\"14\",\"showlegend\":false,\"x\":[11000.0,11450.000000000002,11900.000000000002,12350.000000000002,12800.000000000002,13250.000000000002,13700.000000000002,14150.000000000002,14600.000000000002,15050.000000000002,15500.000000000002,15950.000000000002,16400.0,16850.0,17300.0,17750.0,18200.0,18650.0,19100.0,19550.0,20000.0],\"y\":[11068.046309185882,11150.165777521812,11259.927945300638,11258.67194922663,11266.893687156804,11275.907138982931,11188.3045472441,11219.769555221616,11200.243476725222,11135.251661568782,11027.955393405402,10929.698720441862,10834.15717549344,10882.48610874025,10770.225563673825,10675.837041470642,10617.659929605466,10487.333285002407,10387.978004645718,10300.551391623534],\"type\":\"scatter\",\"uid\":\"542656e3-6a63-40a0-818c-aab0d2767466\",\"xaxis\":\"x\",\"yaxis\":\"y\"},{\"customdata\":[\"\\u003cbr\\u003eEmitted Luminosity: 1.063e+43\\u003cbr\\u003eRequested Luminosity: 1.059e+43\\u003cbr\\u003eAbsorbed Luminosity: 3.369e+42\",\"\\u003cbr\\u003eEmitted Luminosity: 1.063e+43\\u003cbr\\u003eRequested Luminosity: 1.059e+43\\u003cbr\\u003eAbsorbed Luminosity: 3.369e+42\",\"\\u003cbr\\u003eEmitted Luminosity: 1.063e+43\\u003cbr\\u003eRequested Luminosity: 1.059e+43\\u003cbr\\u003eAbsorbed Luminosity: 3.369e+42\",\"\\u003cbr\\u003eEmitted Luminosity: 1.063e+43\\u003cbr\\u003eRequested Luminosity: 1.059e+43\\u003cbr\\u003eAbsorbed Luminosity: 3.369e+42\",\"\\u003cbr\\u003eEmitted Luminosity: 1.063e+43\\u003cbr\\u003eRequested Luminosity: 1.059e+43\\u003cbr\\u003eAbsorbed Luminosity: 3.369e+42\",\"\\u003cbr\\u003eEmitted Luminosity: 1.063e+43\\u003cbr\\u003eRequested Luminosity: 1.059e+43\\u003cbr\\u003eAbsorbed Luminosity: 3.369e+42\",\"\\u003cbr\\u003eEmitted Luminosity: 1.063e+43\\u003cbr\\u003eRequested Luminosity: 1.059e+43\\u003cbr\\u003eAbsorbed Luminosity: 3.369e+42\",\"\\u003cbr\\u003eEmitted Luminosity: 1.063e+43\\u003cbr\\u003eRequested Luminosity: 1.059e+43\\u003cbr\\u003eAbsorbed Luminosity: 3.369e+42\",\"\\u003cbr\\u003eEmitted Luminosity: 1.063e+43\\u003cbr\\u003eRequested Luminosity: 1.059e+43\\u003cbr\\u003eAbsorbed Luminosity: 3.369e+42\",\"\\u003cbr\\u003eEmitted Luminosity: 1.063e+43\\u003cbr\\u003eRequested Luminosity: 1.059e+43\\u003cbr\\u003eAbsorbed Luminosity: 3.369e+42\",\"\\u003cbr\\u003eEmitted Luminosity: 1.063e+43\\u003cbr\\u003eRequested Luminosity: 1.059e+43\\u003cbr\\u003eAbsorbed Luminosity: 3.369e+42\",\"\\u003cbr\\u003eEmitted Luminosity: 1.063e+43\\u003cbr\\u003eRequested Luminosity: 1.059e+43\\u003cbr\\u003eAbsorbed Luminosity: 3.369e+42\",\"\\u003cbr\\u003eEmitted Luminosity: 1.063e+43\\u003cbr\\u003eRequested Luminosity: 1.059e+43\\u003cbr\\u003eAbsorbed Luminosity: 3.369e+42\",\"\\u003cbr\\u003eEmitted Luminosity: 1.063e+43\\u003cbr\\u003eRequested Luminosity: 1.059e+43\\u003cbr\\u003eAbsorbed Luminosity: 3.369e+42\",\"\\u003cbr\\u003eEmitted Luminosity: 1.063e+43\\u003cbr\\u003eRequested Luminosity: 1.059e+43\\u003cbr\\u003eAbsorbed Luminosity: 3.369e+42\",\"\\u003cbr\\u003eEmitted Luminosity: 1.063e+43\\u003cbr\\u003eRequested Luminosity: 1.059e+43\\u003cbr\\u003eAbsorbed Luminosity: 3.369e+42\",\"\\u003cbr\\u003eEmitted Luminosity: 1.063e+43\\u003cbr\\u003eRequested Luminosity: 1.059e+43\\u003cbr\\u003eAbsorbed Luminosity: 3.369e+42\",\"\\u003cbr\\u003eEmitted Luminosity: 1.063e+43\\u003cbr\\u003eRequested Luminosity: 1.059e+43\\u003cbr\\u003eAbsorbed Luminosity: 3.369e+42\",\"\\u003cbr\\u003eEmitted Luminosity: 1.063e+43\\u003cbr\\u003eRequested Luminosity: 1.059e+43\\u003cbr\\u003eAbsorbed Luminosity: 3.369e+42\",\"\\u003cbr\\u003eEmitted Luminosity: 1.063e+43\\u003cbr\\u003eRequested Luminosity: 1.059e+43\\u003cbr\\u003eAbsorbed Luminosity: 3.369e+42\",\"\\u003cbr\\u003eEmitted Luminosity: 1.063e+43\\u003cbr\\u003eRequested Luminosity: 1.059e+43\\u003cbr\\u003eAbsorbed Luminosity: 3.369e+42\"],\"hovertemplate\":\"\\u003cb\\u003eY\\u003c\\u002fb\\u003e: %{y:.3f} at \\u003cb\\u003eX\\u003c\\u002fb\\u003e = %{x:,.0f}%{customdata}\",\"legendgroup\":\"group-14\",\"line\":{\"color\":\"#ffd500\"},\"name\":\"14\",\"x\":[11000.0,11450.000000000002,11900.000000000002,12350.000000000002,12800.000000000002,13250.000000000002,13700.000000000002,14150.000000000002,14600.000000000002,15050.000000000002,15500.000000000002,15950.000000000002,16400.0,16850.0,17300.0,17750.0,18200.0,18650.0,19100.0,19550.0,20000.0],\"y\":[0.4693279579687421,0.3598819872397963,0.2850559719730033,0.2404753803857643,0.2075897747028331,0.18247684789832205,0.16491868887500405,0.1456611303338737,0.13053847234656366,0.12057559589816044,0.11339699738857564,0.1072730427875535,0.1017123116730503,0.09280065223916588,0.08879405804273371,0.08535812381534291,0.08131280053377825,0.0795465908887696,0.07699622231440435,0.0744586095623],\"type\":\"scatter\",\"uid\":\"6a00bdca-c75b-4cf7-8633-f16adb36d40d\",\"xaxis\":\"x2\",\"yaxis\":\"y2\"},{\"customdata\":[\"\\u003cbr\\u003eEmitted Luminosity: 1.053e+43\\u003cbr\\u003eRequested Luminosity: 1.059e+43\\u003cbr\\u003eAbsorbed Luminosity: 3.417e+42\",\"\\u003cbr\\u003eEmitted Luminosity: 1.053e+43\\u003cbr\\u003eRequested Luminosity: 1.059e+43\\u003cbr\\u003eAbsorbed Luminosity: 3.417e+42\",\"\\u003cbr\\u003eEmitted Luminosity: 1.053e+43\\u003cbr\\u003eRequested Luminosity: 1.059e+43\\u003cbr\\u003eAbsorbed Luminosity: 3.417e+42\",\"\\u003cbr\\u003eEmitted Luminosity: 1.053e+43\\u003cbr\\u003eRequested Luminosity: 1.059e+43\\u003cbr\\u003eAbsorbed Luminosity: 3.417e+42\",\"\\u003cbr\\u003eEmitted Luminosity: 1.053e+43\\u003cbr\\u003eRequested Luminosity: 1.059e+43\\u003cbr\\u003eAbsorbed Luminosity: 3.417e+42\",\"\\u003cbr\\u003eEmitted Luminosity: 1.053e+43\\u003cbr\\u003eRequested Luminosity: 1.059e+43\\u003cbr\\u003eAbsorbed Luminosity: 3.417e+42\",\"\\u003cbr\\u003eEmitted Luminosity: 1.053e+43\\u003cbr\\u003eRequested Luminosity: 1.059e+43\\u003cbr\\u003eAbsorbed Luminosity: 3.417e+42\",\"\\u003cbr\\u003eEmitted Luminosity: 1.053e+43\\u003cbr\\u003eRequested Luminosity: 1.059e+43\\u003cbr\\u003eAbsorbed Luminosity: 3.417e+42\",\"\\u003cbr\\u003eEmitted Luminosity: 1.053e+43\\u003cbr\\u003eRequested Luminosity: 1.059e+43\\u003cbr\\u003eAbsorbed Luminosity: 3.417e+42\",\"\\u003cbr\\u003eEmitted Luminosity: 1.053e+43\\u003cbr\\u003eRequested Luminosity: 1.059e+43\\u003cbr\\u003eAbsorbed Luminosity: 3.417e+42\",\"\\u003cbr\\u003eEmitted Luminosity: 1.053e+43\\u003cbr\\u003eRequested Luminosity: 1.059e+43\\u003cbr\\u003eAbsorbed Luminosity: 3.417e+42\",\"\\u003cbr\\u003eEmitted Luminosity: 1.053e+43\\u003cbr\\u003eRequested Luminosity: 1.059e+43\\u003cbr\\u003eAbsorbed Luminosity: 3.417e+42\",\"\\u003cbr\\u003eEmitted Luminosity: 1.053e+43\\u003cbr\\u003eRequested Luminosity: 1.059e+43\\u003cbr\\u003eAbsorbed Luminosity: 3.417e+42\",\"\\u003cbr\\u003eEmitted Luminosity: 1.053e+43\\u003cbr\\u003eRequested Luminosity: 1.059e+43\\u003cbr\\u003eAbsorbed Luminosity: 3.417e+42\",\"\\u003cbr\\u003eEmitted Luminosity: 1.053e+43\\u003cbr\\u003eRequested Luminosity: 1.059e+43\\u003cbr\\u003eAbsorbed Luminosity: 3.417e+42\",\"\\u003cbr\\u003eEmitted Luminosity: 1.053e+43\\u003cbr\\u003eRequested Luminosity: 1.059e+43\\u003cbr\\u003eAbsorbed Luminosity: 3.417e+42\",\"\\u003cbr\\u003eEmitted Luminosity: 1.053e+43\\u003cbr\\u003eRequested Luminosity: 1.059e+43\\u003cbr\\u003eAbsorbed Luminosity: 3.417e+42\",\"\\u003cbr\\u003eEmitted Luminosity: 1.053e+43\\u003cbr\\u003eRequested Luminosity: 1.059e+43\\u003cbr\\u003eAbsorbed Luminosity: 3.417e+42\",\"\\u003cbr\\u003eEmitted Luminosity: 1.053e+43\\u003cbr\\u003eRequested Luminosity: 1.059e+43\\u003cbr\\u003eAbsorbed Luminosity: 3.417e+42\",\"\\u003cbr\\u003eEmitted Luminosity: 1.053e+43\\u003cbr\\u003eRequested Luminosity: 1.059e+43\\u003cbr\\u003eAbsorbed Luminosity: 3.417e+42\",\"\\u003cbr\\u003eEmitted Luminosity: 1.053e+43\\u003cbr\\u003eRequested Luminosity: 1.059e+43\\u003cbr\\u003eAbsorbed Luminosity: 3.417e+42\"],\"hovertemplate\":\"\\u003cb\\u003eY\\u003c\\u002fb\\u003e: %{y:.3f} at \\u003cb\\u003eX\\u003c\\u002fb\\u003e = %{x:,.0f}%{customdata}\",\"legendgroup\":\"group-15\",\"line\":{\"color\":\"#ffa400\"},\"name\":\"15\",\"showlegend\":false,\"x\":[11000.0,11450.000000000002,11900.000000000002,12350.000000000002,12800.000000000002,13250.000000000002,13700.000000000002,14150.000000000002,14600.000000000002,15050.000000000002,15500.000000000002,15950.000000000002,16400.0,16850.0,17300.0,17750.0,18200.0,18650.0,19100.0,19550.0,20000.0],\"y\":[10967.319694781674,11126.763191450427,11217.761301245819,11206.13030993925,11283.795667048493,11284.218727172121,11191.201175494089,11202.316834015008,11201.784297657407,11146.624926701426,11022.886564420523,10942.85266539948,10865.779600776847,10807.44418604147,10676.484158875344,10656.719189675752,10574.820743062723,10453.646767934883,10351.64152603363,10281.918724422572],\"type\":\"scatter\",\"uid\":\"52c7d845-3d00-46ab-8bb2-8a3dfc666dfd\",\"xaxis\":\"x\",\"yaxis\":\"y\"},{\"customdata\":[\"\\u003cbr\\u003eEmitted Luminosity: 1.053e+43\\u003cbr\\u003eRequested Luminosity: 1.059e+43\\u003cbr\\u003eAbsorbed Luminosity: 3.417e+42\",\"\\u003cbr\\u003eEmitted Luminosity: 1.053e+43\\u003cbr\\u003eRequested Luminosity: 1.059e+43\\u003cbr\\u003eAbsorbed Luminosity: 3.417e+42\",\"\\u003cbr\\u003eEmitted Luminosity: 1.053e+43\\u003cbr\\u003eRequested Luminosity: 1.059e+43\\u003cbr\\u003eAbsorbed Luminosity: 3.417e+42\",\"\\u003cbr\\u003eEmitted Luminosity: 1.053e+43\\u003cbr\\u003eRequested Luminosity: 1.059e+43\\u003cbr\\u003eAbsorbed Luminosity: 3.417e+42\",\"\\u003cbr\\u003eEmitted Luminosity: 1.053e+43\\u003cbr\\u003eRequested Luminosity: 1.059e+43\\u003cbr\\u003eAbsorbed Luminosity: 3.417e+42\",\"\\u003cbr\\u003eEmitted Luminosity: 1.053e+43\\u003cbr\\u003eRequested Luminosity: 1.059e+43\\u003cbr\\u003eAbsorbed Luminosity: 3.417e+42\",\"\\u003cbr\\u003eEmitted Luminosity: 1.053e+43\\u003cbr\\u003eRequested Luminosity: 1.059e+43\\u003cbr\\u003eAbsorbed Luminosity: 3.417e+42\",\"\\u003cbr\\u003eEmitted Luminosity: 1.053e+43\\u003cbr\\u003eRequested Luminosity: 1.059e+43\\u003cbr\\u003eAbsorbed Luminosity: 3.417e+42\",\"\\u003cbr\\u003eEmitted Luminosity: 1.053e+43\\u003cbr\\u003eRequested Luminosity: 1.059e+43\\u003cbr\\u003eAbsorbed Luminosity: 3.417e+42\",\"\\u003cbr\\u003eEmitted Luminosity: 1.053e+43\\u003cbr\\u003eRequested Luminosity: 1.059e+43\\u003cbr\\u003eAbsorbed Luminosity: 3.417e+42\",\"\\u003cbr\\u003eEmitted Luminosity: 1.053e+43\\u003cbr\\u003eRequested Luminosity: 1.059e+43\\u003cbr\\u003eAbsorbed Luminosity: 3.417e+42\",\"\\u003cbr\\u003eEmitted Luminosity: 1.053e+43\\u003cbr\\u003eRequested Luminosity: 1.059e+43\\u003cbr\\u003eAbsorbed Luminosity: 3.417e+42\",\"\\u003cbr\\u003eEmitted Luminosity: 1.053e+43\\u003cbr\\u003eRequested Luminosity: 1.059e+43\\u003cbr\\u003eAbsorbed Luminosity: 3.417e+42\",\"\\u003cbr\\u003eEmitted Luminosity: 1.053e+43\\u003cbr\\u003eRequested Luminosity: 1.059e+43\\u003cbr\\u003eAbsorbed Luminosity: 3.417e+42\",\"\\u003cbr\\u003eEmitted Luminosity: 1.053e+43\\u003cbr\\u003eRequested Luminosity: 1.059e+43\\u003cbr\\u003eAbsorbed Luminosity: 3.417e+42\",\"\\u003cbr\\u003eEmitted Luminosity: 1.053e+43\\u003cbr\\u003eRequested Luminosity: 1.059e+43\\u003cbr\\u003eAbsorbed Luminosity: 3.417e+42\",\"\\u003cbr\\u003eEmitted Luminosity: 1.053e+43\\u003cbr\\u003eRequested Luminosity: 1.059e+43\\u003cbr\\u003eAbsorbed Luminosity: 3.417e+42\",\"\\u003cbr\\u003eEmitted Luminosity: 1.053e+43\\u003cbr\\u003eRequested Luminosity: 1.059e+43\\u003cbr\\u003eAbsorbed Luminosity: 3.417e+42\",\"\\u003cbr\\u003eEmitted Luminosity: 1.053e+43\\u003cbr\\u003eRequested Luminosity: 1.059e+43\\u003cbr\\u003eAbsorbed Luminosity: 3.417e+42\",\"\\u003cbr\\u003eEmitted Luminosity: 1.053e+43\\u003cbr\\u003eRequested Luminosity: 1.059e+43\\u003cbr\\u003eAbsorbed Luminosity: 3.417e+42\",\"\\u003cbr\\u003eEmitted Luminosity: 1.053e+43\\u003cbr\\u003eRequested Luminosity: 1.059e+43\\u003cbr\\u003eAbsorbed Luminosity: 3.417e+42\"],\"hovertemplate\":\"\\u003cb\\u003eY\\u003c\\u002fb\\u003e: %{y:.3f} at \\u003cb\\u003eX\\u003c\\u002fb\\u003e = %{x:,.0f}%{customdata}\",\"legendgroup\":\"group-15\",\"line\":{\"color\":\"#ffa400\"},\"name\":\"15\",\"x\":[11000.0,11450.000000000002,11900.000000000002,12350.000000000002,12800.000000000002,13250.000000000002,13700.000000000002,14150.000000000002,14600.000000000002,15050.000000000002,15500.000000000002,15950.000000000002,16400.0,16850.0,17300.0,17750.0,18200.0,18650.0,19100.0,19550.0,20000.0],\"y\":[0.483948965616119,0.3618062130877203,0.29091502763590965,0.24583547261525837,0.207250744551777,0.18050061388387992,0.16415609857638316,0.14437984693241562,0.12930093466256506,0.11929659161563994,0.11340474191644236,0.10641542212233482,0.10029313585188744,0.09450661081431327,0.0912832933961525,0.08583573790565086,0.08193986649167588,0.07966061032772129,0.07725470102319153,0.07431405273739537],\"type\":\"scatter\",\"uid\":\"27b2ebfc-491d-4a01-8a41-d9b9184f3d93\",\"xaxis\":\"x2\",\"yaxis\":\"y2\"},{\"customdata\":[\"\\u003cbr\\u003eEmitted Luminosity: 1.059e+43\\u003cbr\\u003eRequested Luminosity: 1.059e+43\\u003cbr\\u003eAbsorbed Luminosity: 3.445e+42\",\"\\u003cbr\\u003eEmitted Luminosity: 1.059e+43\\u003cbr\\u003eRequested Luminosity: 1.059e+43\\u003cbr\\u003eAbsorbed Luminosity: 3.445e+42\",\"\\u003cbr\\u003eEmitted Luminosity: 1.059e+43\\u003cbr\\u003eRequested Luminosity: 1.059e+43\\u003cbr\\u003eAbsorbed Luminosity: 3.445e+42\",\"\\u003cbr\\u003eEmitted Luminosity: 1.059e+43\\u003cbr\\u003eRequested Luminosity: 1.059e+43\\u003cbr\\u003eAbsorbed Luminosity: 3.445e+42\",\"\\u003cbr\\u003eEmitted Luminosity: 1.059e+43\\u003cbr\\u003eRequested Luminosity: 1.059e+43\\u003cbr\\u003eAbsorbed Luminosity: 3.445e+42\",\"\\u003cbr\\u003eEmitted Luminosity: 1.059e+43\\u003cbr\\u003eRequested Luminosity: 1.059e+43\\u003cbr\\u003eAbsorbed Luminosity: 3.445e+42\",\"\\u003cbr\\u003eEmitted Luminosity: 1.059e+43\\u003cbr\\u003eRequested Luminosity: 1.059e+43\\u003cbr\\u003eAbsorbed Luminosity: 3.445e+42\",\"\\u003cbr\\u003eEmitted Luminosity: 1.059e+43\\u003cbr\\u003eRequested Luminosity: 1.059e+43\\u003cbr\\u003eAbsorbed Luminosity: 3.445e+42\",\"\\u003cbr\\u003eEmitted Luminosity: 1.059e+43\\u003cbr\\u003eRequested Luminosity: 1.059e+43\\u003cbr\\u003eAbsorbed Luminosity: 3.445e+42\",\"\\u003cbr\\u003eEmitted Luminosity: 1.059e+43\\u003cbr\\u003eRequested Luminosity: 1.059e+43\\u003cbr\\u003eAbsorbed Luminosity: 3.445e+42\",\"\\u003cbr\\u003eEmitted Luminosity: 1.059e+43\\u003cbr\\u003eRequested Luminosity: 1.059e+43\\u003cbr\\u003eAbsorbed Luminosity: 3.445e+42\",\"\\u003cbr\\u003eEmitted Luminosity: 1.059e+43\\u003cbr\\u003eRequested Luminosity: 1.059e+43\\u003cbr\\u003eAbsorbed Luminosity: 3.445e+42\",\"\\u003cbr\\u003eEmitted Luminosity: 1.059e+43\\u003cbr\\u003eRequested Luminosity: 1.059e+43\\u003cbr\\u003eAbsorbed Luminosity: 3.445e+42\",\"\\u003cbr\\u003eEmitted Luminosity: 1.059e+43\\u003cbr\\u003eRequested Luminosity: 1.059e+43\\u003cbr\\u003eAbsorbed Luminosity: 3.445e+42\",\"\\u003cbr\\u003eEmitted Luminosity: 1.059e+43\\u003cbr\\u003eRequested Luminosity: 1.059e+43\\u003cbr\\u003eAbsorbed Luminosity: 3.445e+42\",\"\\u003cbr\\u003eEmitted Luminosity: 1.059e+43\\u003cbr\\u003eRequested Luminosity: 1.059e+43\\u003cbr\\u003eAbsorbed Luminosity: 3.445e+42\",\"\\u003cbr\\u003eEmitted Luminosity: 1.059e+43\\u003cbr\\u003eRequested Luminosity: 1.059e+43\\u003cbr\\u003eAbsorbed Luminosity: 3.445e+42\",\"\\u003cbr\\u003eEmitted Luminosity: 1.059e+43\\u003cbr\\u003eRequested Luminosity: 1.059e+43\\u003cbr\\u003eAbsorbed Luminosity: 3.445e+42\",\"\\u003cbr\\u003eEmitted Luminosity: 1.059e+43\\u003cbr\\u003eRequested Luminosity: 1.059e+43\\u003cbr\\u003eAbsorbed Luminosity: 3.445e+42\",\"\\u003cbr\\u003eEmitted Luminosity: 1.059e+43\\u003cbr\\u003eRequested Luminosity: 1.059e+43\\u003cbr\\u003eAbsorbed Luminosity: 3.445e+42\",\"\\u003cbr\\u003eEmitted Luminosity: 1.059e+43\\u003cbr\\u003eRequested Luminosity: 1.059e+43\\u003cbr\\u003eAbsorbed Luminosity: 3.445e+42\"],\"hovertemplate\":\"\\u003cb\\u003eY\\u003c\\u002fb\\u003e: %{y:.3f} at \\u003cb\\u003eX\\u003c\\u002fb\\u003e = %{x:,.0f}%{customdata}\",\"legendgroup\":\"group-16\",\"line\":{\"color\":\"#ff7200\"},\"name\":\"16\",\"showlegend\":false,\"x\":[11000.0,11450.000000000002,11900.000000000002,12350.000000000002,12800.000000000002,13250.000000000002,13700.000000000002,14150.000000000002,14600.000000000002,15050.000000000002,15500.000000000002,15950.000000000002,16400.0,16850.0,17300.0,17750.0,18200.0,18650.0,19100.0,19550.0,20000.0],\"y\":[11042.347172723752,11122.973037201844,11214.476675845288,11336.714091199536,11337.333756405527,11307.076261329577,11262.528844724047,11207.518823856944,11171.681766351472,11058.331353775347,11044.3907760272,10976.332366462855,10821.885484658165,10742.965724501115,10725.757122150608,10644.126114579365,10614.930269328572,10486.427933562269,10417.742463709841,10319.21159595825],\"type\":\"scatter\",\"uid\":\"9cc93c1d-59d3-4319-8f17-055d4c5ffe08\",\"xaxis\":\"x\",\"yaxis\":\"y\"},{\"customdata\":[\"\\u003cbr\\u003eEmitted Luminosity: 1.059e+43\\u003cbr\\u003eRequested Luminosity: 1.059e+43\\u003cbr\\u003eAbsorbed Luminosity: 3.445e+42\",\"\\u003cbr\\u003eEmitted Luminosity: 1.059e+43\\u003cbr\\u003eRequested Luminosity: 1.059e+43\\u003cbr\\u003eAbsorbed Luminosity: 3.445e+42\",\"\\u003cbr\\u003eEmitted Luminosity: 1.059e+43\\u003cbr\\u003eRequested Luminosity: 1.059e+43\\u003cbr\\u003eAbsorbed Luminosity: 3.445e+42\",\"\\u003cbr\\u003eEmitted Luminosity: 1.059e+43\\u003cbr\\u003eRequested Luminosity: 1.059e+43\\u003cbr\\u003eAbsorbed Luminosity: 3.445e+42\",\"\\u003cbr\\u003eEmitted Luminosity: 1.059e+43\\u003cbr\\u003eRequested Luminosity: 1.059e+43\\u003cbr\\u003eAbsorbed Luminosity: 3.445e+42\",\"\\u003cbr\\u003eEmitted Luminosity: 1.059e+43\\u003cbr\\u003eRequested Luminosity: 1.059e+43\\u003cbr\\u003eAbsorbed Luminosity: 3.445e+42\",\"\\u003cbr\\u003eEmitted Luminosity: 1.059e+43\\u003cbr\\u003eRequested Luminosity: 1.059e+43\\u003cbr\\u003eAbsorbed Luminosity: 3.445e+42\",\"\\u003cbr\\u003eEmitted Luminosity: 1.059e+43\\u003cbr\\u003eRequested Luminosity: 1.059e+43\\u003cbr\\u003eAbsorbed Luminosity: 3.445e+42\",\"\\u003cbr\\u003eEmitted Luminosity: 1.059e+43\\u003cbr\\u003eRequested Luminosity: 1.059e+43\\u003cbr\\u003eAbsorbed Luminosity: 3.445e+42\",\"\\u003cbr\\u003eEmitted Luminosity: 1.059e+43\\u003cbr\\u003eRequested Luminosity: 1.059e+43\\u003cbr\\u003eAbsorbed Luminosity: 3.445e+42\",\"\\u003cbr\\u003eEmitted Luminosity: 1.059e+43\\u003cbr\\u003eRequested Luminosity: 1.059e+43\\u003cbr\\u003eAbsorbed Luminosity: 3.445e+42\",\"\\u003cbr\\u003eEmitted Luminosity: 1.059e+43\\u003cbr\\u003eRequested Luminosity: 1.059e+43\\u003cbr\\u003eAbsorbed Luminosity: 3.445e+42\",\"\\u003cbr\\u003eEmitted Luminosity: 1.059e+43\\u003cbr\\u003eRequested Luminosity: 1.059e+43\\u003cbr\\u003eAbsorbed Luminosity: 3.445e+42\",\"\\u003cbr\\u003eEmitted Luminosity: 1.059e+43\\u003cbr\\u003eRequested Luminosity: 1.059e+43\\u003cbr\\u003eAbsorbed Luminosity: 3.445e+42\",\"\\u003cbr\\u003eEmitted Luminosity: 1.059e+43\\u003cbr\\u003eRequested Luminosity: 1.059e+43\\u003cbr\\u003eAbsorbed Luminosity: 3.445e+42\",\"\\u003cbr\\u003eEmitted Luminosity: 1.059e+43\\u003cbr\\u003eRequested Luminosity: 1.059e+43\\u003cbr\\u003eAbsorbed Luminosity: 3.445e+42\",\"\\u003cbr\\u003eEmitted Luminosity: 1.059e+43\\u003cbr\\u003eRequested Luminosity: 1.059e+43\\u003cbr\\u003eAbsorbed Luminosity: 3.445e+42\",\"\\u003cbr\\u003eEmitted Luminosity: 1.059e+43\\u003cbr\\u003eRequested Luminosity: 1.059e+43\\u003cbr\\u003eAbsorbed Luminosity: 3.445e+42\",\"\\u003cbr\\u003eEmitted Luminosity: 1.059e+43\\u003cbr\\u003eRequested Luminosity: 1.059e+43\\u003cbr\\u003eAbsorbed Luminosity: 3.445e+42\",\"\\u003cbr\\u003eEmitted Luminosity: 1.059e+43\\u003cbr\\u003eRequested Luminosity: 1.059e+43\\u003cbr\\u003eAbsorbed Luminosity: 3.445e+42\",\"\\u003cbr\\u003eEmitted Luminosity: 1.059e+43\\u003cbr\\u003eRequested Luminosity: 1.059e+43\\u003cbr\\u003eAbsorbed Luminosity: 3.445e+42\"],\"hovertemplate\":\"\\u003cb\\u003eY\\u003c\\u002fb\\u003e: %{y:.3f} at \\u003cb\\u003eX\\u003c\\u002fb\\u003e = %{x:,.0f}%{customdata}\",\"legendgroup\":\"group-16\",\"line\":{\"color\":\"#ff7200\"},\"name\":\"16\",\"x\":[11000.0,11450.000000000002,11900.000000000002,12350.000000000002,12800.000000000002,13250.000000000002,13700.000000000002,14150.000000000002,14600.000000000002,15050.000000000002,15500.000000000002,15950.000000000002,16400.0,16850.0,17300.0,17750.0,18200.0,18650.0,19100.0,19550.0,20000.0],\"y\":[0.47247373752193744,0.36203938747072967,0.2890816320248085,0.23539114185725912,0.20183083007143593,0.17676165818853265,0.15800650664756408,0.14388846834550834,0.13114228630278696,0.12300144214610687,0.11277399124395276,0.10539713038753036,0.10147886711690382,0.09667081343562173,0.0903068571551,0.08580146888936026,0.08122763475653598,0.07912148699194761,0.07595030678843964,0.07373499783026352],\"type\":\"scatter\",\"uid\":\"6f25d184-45ce-4f6d-9c01-489bf91d58e9\",\"xaxis\":\"x2\",\"yaxis\":\"y2\"},{\"customdata\":[\"\\u003cbr\\u003eEmitted Luminosity: 1.067e+43\\u003cbr\\u003eRequested Luminosity: 1.059e+43\\u003cbr\\u003eAbsorbed Luminosity: 3.372e+42\",\"\\u003cbr\\u003eEmitted Luminosity: 1.067e+43\\u003cbr\\u003eRequested Luminosity: 1.059e+43\\u003cbr\\u003eAbsorbed Luminosity: 3.372e+42\",\"\\u003cbr\\u003eEmitted Luminosity: 1.067e+43\\u003cbr\\u003eRequested Luminosity: 1.059e+43\\u003cbr\\u003eAbsorbed Luminosity: 3.372e+42\",\"\\u003cbr\\u003eEmitted Luminosity: 1.067e+43\\u003cbr\\u003eRequested Luminosity: 1.059e+43\\u003cbr\\u003eAbsorbed Luminosity: 3.372e+42\",\"\\u003cbr\\u003eEmitted Luminosity: 1.067e+43\\u003cbr\\u003eRequested Luminosity: 1.059e+43\\u003cbr\\u003eAbsorbed Luminosity: 3.372e+42\",\"\\u003cbr\\u003eEmitted Luminosity: 1.067e+43\\u003cbr\\u003eRequested Luminosity: 1.059e+43\\u003cbr\\u003eAbsorbed Luminosity: 3.372e+42\",\"\\u003cbr\\u003eEmitted Luminosity: 1.067e+43\\u003cbr\\u003eRequested Luminosity: 1.059e+43\\u003cbr\\u003eAbsorbed Luminosity: 3.372e+42\",\"\\u003cbr\\u003eEmitted Luminosity: 1.067e+43\\u003cbr\\u003eRequested Luminosity: 1.059e+43\\u003cbr\\u003eAbsorbed Luminosity: 3.372e+42\",\"\\u003cbr\\u003eEmitted Luminosity: 1.067e+43\\u003cbr\\u003eRequested Luminosity: 1.059e+43\\u003cbr\\u003eAbsorbed Luminosity: 3.372e+42\",\"\\u003cbr\\u003eEmitted Luminosity: 1.067e+43\\u003cbr\\u003eRequested Luminosity: 1.059e+43\\u003cbr\\u003eAbsorbed Luminosity: 3.372e+42\",\"\\u003cbr\\u003eEmitted Luminosity: 1.067e+43\\u003cbr\\u003eRequested Luminosity: 1.059e+43\\u003cbr\\u003eAbsorbed Luminosity: 3.372e+42\",\"\\u003cbr\\u003eEmitted Luminosity: 1.067e+43\\u003cbr\\u003eRequested Luminosity: 1.059e+43\\u003cbr\\u003eAbsorbed Luminosity: 3.372e+42\",\"\\u003cbr\\u003eEmitted Luminosity: 1.067e+43\\u003cbr\\u003eRequested Luminosity: 1.059e+43\\u003cbr\\u003eAbsorbed Luminosity: 3.372e+42\",\"\\u003cbr\\u003eEmitted Luminosity: 1.067e+43\\u003cbr\\u003eRequested Luminosity: 1.059e+43\\u003cbr\\u003eAbsorbed Luminosity: 3.372e+42\",\"\\u003cbr\\u003eEmitted Luminosity: 1.067e+43\\u003cbr\\u003eRequested Luminosity: 1.059e+43\\u003cbr\\u003eAbsorbed Luminosity: 3.372e+42\",\"\\u003cbr\\u003eEmitted Luminosity: 1.067e+43\\u003cbr\\u003eRequested Luminosity: 1.059e+43\\u003cbr\\u003eAbsorbed Luminosity: 3.372e+42\",\"\\u003cbr\\u003eEmitted Luminosity: 1.067e+43\\u003cbr\\u003eRequested Luminosity: 1.059e+43\\u003cbr\\u003eAbsorbed Luminosity: 3.372e+42\",\"\\u003cbr\\u003eEmitted Luminosity: 1.067e+43\\u003cbr\\u003eRequested Luminosity: 1.059e+43\\u003cbr\\u003eAbsorbed Luminosity: 3.372e+42\",\"\\u003cbr\\u003eEmitted Luminosity: 1.067e+43\\u003cbr\\u003eRequested Luminosity: 1.059e+43\\u003cbr\\u003eAbsorbed Luminosity: 3.372e+42\",\"\\u003cbr\\u003eEmitted Luminosity: 1.067e+43\\u003cbr\\u003eRequested Luminosity: 1.059e+43\\u003cbr\\u003eAbsorbed Luminosity: 3.372e+42\",\"\\u003cbr\\u003eEmitted Luminosity: 1.067e+43\\u003cbr\\u003eRequested Luminosity: 1.059e+43\\u003cbr\\u003eAbsorbed Luminosity: 3.372e+42\"],\"hovertemplate\":\"\\u003cb\\u003eY\\u003c\\u002fb\\u003e: %{y:.3f} at \\u003cb\\u003eX\\u003c\\u002fb\\u003e = %{x:,.0f}%{customdata}\",\"legendgroup\":\"group-17\",\"line\":{\"color\":\"#ff4000\"},\"name\":\"17\",\"showlegend\":false,\"x\":[11000.0,11450.000000000002,11900.000000000002,12350.000000000002,12800.000000000002,13250.000000000002,13700.000000000002,14150.000000000002,14600.000000000002,15050.000000000002,15500.000000000002,15950.000000000002,16400.0,16850.0,17300.0,17750.0,18200.0,18650.0,19100.0,19550.0,20000.0],\"y\":[11061.104094222754,11239.559981419916,11281.836667874479,11287.129683362742,11328.913172314426,11369.434920562895,11306.699883253506,11287.274234267408,11280.819840447979,11215.609120286595,11108.666525976654,11024.667197878083,10941.486197960678,10940.86199798288,10919.379371409255,10824.561557880066,10688.400325930334,10602.127733344874,10514.75873929627,10409.719642099028],\"type\":\"scatter\",\"uid\":\"06e56493-9f04-419f-bb10-3ba0751ad215\",\"xaxis\":\"x\",\"yaxis\":\"y\"},{\"customdata\":[\"\\u003cbr\\u003eEmitted Luminosity: 1.067e+43\\u003cbr\\u003eRequested Luminosity: 1.059e+43\\u003cbr\\u003eAbsorbed Luminosity: 3.372e+42\",\"\\u003cbr\\u003eEmitted Luminosity: 1.067e+43\\u003cbr\\u003eRequested Luminosity: 1.059e+43\\u003cbr\\u003eAbsorbed Luminosity: 3.372e+42\",\"\\u003cbr\\u003eEmitted Luminosity: 1.067e+43\\u003cbr\\u003eRequested Luminosity: 1.059e+43\\u003cbr\\u003eAbsorbed Luminosity: 3.372e+42\",\"\\u003cbr\\u003eEmitted Luminosity: 1.067e+43\\u003cbr\\u003eRequested Luminosity: 1.059e+43\\u003cbr\\u003eAbsorbed Luminosity: 3.372e+42\",\"\\u003cbr\\u003eEmitted Luminosity: 1.067e+43\\u003cbr\\u003eRequested Luminosity: 1.059e+43\\u003cbr\\u003eAbsorbed Luminosity: 3.372e+42\",\"\\u003cbr\\u003eEmitted Luminosity: 1.067e+43\\u003cbr\\u003eRequested Luminosity: 1.059e+43\\u003cbr\\u003eAbsorbed Luminosity: 3.372e+42\",\"\\u003cbr\\u003eEmitted Luminosity: 1.067e+43\\u003cbr\\u003eRequested Luminosity: 1.059e+43\\u003cbr\\u003eAbsorbed Luminosity: 3.372e+42\",\"\\u003cbr\\u003eEmitted Luminosity: 1.067e+43\\u003cbr\\u003eRequested Luminosity: 1.059e+43\\u003cbr\\u003eAbsorbed Luminosity: 3.372e+42\",\"\\u003cbr\\u003eEmitted Luminosity: 1.067e+43\\u003cbr\\u003eRequested Luminosity: 1.059e+43\\u003cbr\\u003eAbsorbed Luminosity: 3.372e+42\",\"\\u003cbr\\u003eEmitted Luminosity: 1.067e+43\\u003cbr\\u003eRequested Luminosity: 1.059e+43\\u003cbr\\u003eAbsorbed Luminosity: 3.372e+42\",\"\\u003cbr\\u003eEmitted Luminosity: 1.067e+43\\u003cbr\\u003eRequested Luminosity: 1.059e+43\\u003cbr\\u003eAbsorbed Luminosity: 3.372e+42\",\"\\u003cbr\\u003eEmitted Luminosity: 1.067e+43\\u003cbr\\u003eRequested Luminosity: 1.059e+43\\u003cbr\\u003eAbsorbed Luminosity: 3.372e+42\",\"\\u003cbr\\u003eEmitted Luminosity: 1.067e+43\\u003cbr\\u003eRequested Luminosity: 1.059e+43\\u003cbr\\u003eAbsorbed Luminosity: 3.372e+42\",\"\\u003cbr\\u003eEmitted Luminosity: 1.067e+43\\u003cbr\\u003eRequested Luminosity: 1.059e+43\\u003cbr\\u003eAbsorbed Luminosity: 3.372e+42\",\"\\u003cbr\\u003eEmitted Luminosity: 1.067e+43\\u003cbr\\u003eRequested Luminosity: 1.059e+43\\u003cbr\\u003eAbsorbed Luminosity: 3.372e+42\",\"\\u003cbr\\u003eEmitted Luminosity: 1.067e+43\\u003cbr\\u003eRequested Luminosity: 1.059e+43\\u003cbr\\u003eAbsorbed Luminosity: 3.372e+42\",\"\\u003cbr\\u003eEmitted Luminosity: 1.067e+43\\u003cbr\\u003eRequested Luminosity: 1.059e+43\\u003cbr\\u003eAbsorbed Luminosity: 3.372e+42\",\"\\u003cbr\\u003eEmitted Luminosity: 1.067e+43\\u003cbr\\u003eRequested Luminosity: 1.059e+43\\u003cbr\\u003eAbsorbed Luminosity: 3.372e+42\",\"\\u003cbr\\u003eEmitted Luminosity: 1.067e+43\\u003cbr\\u003eRequested Luminosity: 1.059e+43\\u003cbr\\u003eAbsorbed Luminosity: 3.372e+42\",\"\\u003cbr\\u003eEmitted Luminosity: 1.067e+43\\u003cbr\\u003eRequested Luminosity: 1.059e+43\\u003cbr\\u003eAbsorbed Luminosity: 3.372e+42\",\"\\u003cbr\\u003eEmitted Luminosity: 1.067e+43\\u003cbr\\u003eRequested Luminosity: 1.059e+43\\u003cbr\\u003eAbsorbed Luminosity: 3.372e+42\"],\"hovertemplate\":\"\\u003cb\\u003eY\\u003c\\u002fb\\u003e: %{y:.3f} at \\u003cb\\u003eX\\u003c\\u002fb\\u003e = %{x:,.0f}%{customdata}\",\"legendgroup\":\"group-17\",\"line\":{\"color\":\"#ff4000\"},\"name\":\"17\",\"x\":[11000.0,11450.000000000002,11900.000000000002,12350.000000000002,12800.000000000002,13250.000000000002,13700.000000000002,14150.000000000002,14600.000000000002,15050.000000000002,15500.000000000002,15950.000000000002,16400.0,16850.0,17300.0,17750.0,18200.0,18650.0,19100.0,19550.0,20000.0],\"y\":[0.46804430540891545,0.3472347580873436,0.2836200023918102,0.24021190278159585,0.20427470053961683,0.17542992782803607,0.15711545955454245,0.14083908157267344,0.1266597312271271,0.117023027948979,0.11040994489760657,0.10363904300376142,0.09816132345096974,0.09078706955631387,0.08479711521083479,0.08159847452703346,0.07953048480286487,0.07630910821344637,0.07363747785845373,0.07179028233909289],\"type\":\"scatter\",\"uid\":\"eecc125f-ca1d-4e8f-b455-e969455109c9\",\"xaxis\":\"x2\",\"yaxis\":\"y2\"},{\"customdata\":[\"\\u003cbr\\u003eEmitted Luminosity: 1.057e+43\\u003cbr\\u003eRequested Luminosity: 1.059e+43\\u003cbr\\u003eAbsorbed Luminosity: 3.365e+42\",\"\\u003cbr\\u003eEmitted Luminosity: 1.057e+43\\u003cbr\\u003eRequested Luminosity: 1.059e+43\\u003cbr\\u003eAbsorbed Luminosity: 3.365e+42\",\"\\u003cbr\\u003eEmitted Luminosity: 1.057e+43\\u003cbr\\u003eRequested Luminosity: 1.059e+43\\u003cbr\\u003eAbsorbed Luminosity: 3.365e+42\",\"\\u003cbr\\u003eEmitted Luminosity: 1.057e+43\\u003cbr\\u003eRequested Luminosity: 1.059e+43\\u003cbr\\u003eAbsorbed Luminosity: 3.365e+42\",\"\\u003cbr\\u003eEmitted Luminosity: 1.057e+43\\u003cbr\\u003eRequested Luminosity: 1.059e+43\\u003cbr\\u003eAbsorbed Luminosity: 3.365e+42\",\"\\u003cbr\\u003eEmitted Luminosity: 1.057e+43\\u003cbr\\u003eRequested Luminosity: 1.059e+43\\u003cbr\\u003eAbsorbed Luminosity: 3.365e+42\",\"\\u003cbr\\u003eEmitted Luminosity: 1.057e+43\\u003cbr\\u003eRequested Luminosity: 1.059e+43\\u003cbr\\u003eAbsorbed Luminosity: 3.365e+42\",\"\\u003cbr\\u003eEmitted Luminosity: 1.057e+43\\u003cbr\\u003eRequested Luminosity: 1.059e+43\\u003cbr\\u003eAbsorbed Luminosity: 3.365e+42\",\"\\u003cbr\\u003eEmitted Luminosity: 1.057e+43\\u003cbr\\u003eRequested Luminosity: 1.059e+43\\u003cbr\\u003eAbsorbed Luminosity: 3.365e+42\",\"\\u003cbr\\u003eEmitted Luminosity: 1.057e+43\\u003cbr\\u003eRequested Luminosity: 1.059e+43\\u003cbr\\u003eAbsorbed Luminosity: 3.365e+42\",\"\\u003cbr\\u003eEmitted Luminosity: 1.057e+43\\u003cbr\\u003eRequested Luminosity: 1.059e+43\\u003cbr\\u003eAbsorbed Luminosity: 3.365e+42\",\"\\u003cbr\\u003eEmitted Luminosity: 1.057e+43\\u003cbr\\u003eRequested Luminosity: 1.059e+43\\u003cbr\\u003eAbsorbed Luminosity: 3.365e+42\",\"\\u003cbr\\u003eEmitted Luminosity: 1.057e+43\\u003cbr\\u003eRequested Luminosity: 1.059e+43\\u003cbr\\u003eAbsorbed Luminosity: 3.365e+42\",\"\\u003cbr\\u003eEmitted Luminosity: 1.057e+43\\u003cbr\\u003eRequested Luminosity: 1.059e+43\\u003cbr\\u003eAbsorbed Luminosity: 3.365e+42\",\"\\u003cbr\\u003eEmitted Luminosity: 1.057e+43\\u003cbr\\u003eRequested Luminosity: 1.059e+43\\u003cbr\\u003eAbsorbed Luminosity: 3.365e+42\",\"\\u003cbr\\u003eEmitted Luminosity: 1.057e+43\\u003cbr\\u003eRequested Luminosity: 1.059e+43\\u003cbr\\u003eAbsorbed Luminosity: 3.365e+42\",\"\\u003cbr\\u003eEmitted Luminosity: 1.057e+43\\u003cbr\\u003eRequested Luminosity: 1.059e+43\\u003cbr\\u003eAbsorbed Luminosity: 3.365e+42\",\"\\u003cbr\\u003eEmitted Luminosity: 1.057e+43\\u003cbr\\u003eRequested Luminosity: 1.059e+43\\u003cbr\\u003eAbsorbed Luminosity: 3.365e+42\",\"\\u003cbr\\u003eEmitted Luminosity: 1.057e+43\\u003cbr\\u003eRequested Luminosity: 1.059e+43\\u003cbr\\u003eAbsorbed Luminosity: 3.365e+42\",\"\\u003cbr\\u003eEmitted Luminosity: 1.057e+43\\u003cbr\\u003eRequested Luminosity: 1.059e+43\\u003cbr\\u003eAbsorbed Luminosity: 3.365e+42\",\"\\u003cbr\\u003eEmitted Luminosity: 1.057e+43\\u003cbr\\u003eRequested Luminosity: 1.059e+43\\u003cbr\\u003eAbsorbed Luminosity: 3.365e+42\"],\"hovertemplate\":\"\\u003cb\\u003eY\\u003c\\u002fb\\u003e: %{y:.3f} at \\u003cb\\u003eX\\u003c\\u002fb\\u003e = %{x:,.0f}%{customdata}\",\"legendgroup\":\"group-18\",\"line\":{\"color\":\"#fa0e00\"},\"name\":\"18\",\"showlegend\":false,\"x\":[11000.0,11450.000000000002,11900.000000000002,12350.000000000002,12800.000000000002,13250.000000000002,13700.000000000002,14150.000000000002,14600.000000000002,15050.000000000002,15500.000000000002,15950.000000000002,16400.0,16850.0,17300.0,17750.0,18200.0,18650.0,19100.0,19550.0,20000.0],\"y\":[11069.193823700825,11144.03320621991,11213.390462097459,11305.728531756526,11285.266184353559,11323.781974402715,11271.173666875116,11265.745450084176,11172.683228067408,11091.04447750205,11030.940701284313,10992.910316594709,10907.84515449547,10860.343885103195,10754.598368722316,10675.606608814982,10611.908848638648,10526.402210395981,10470.935047886118,10349.228103173618],\"type\":\"scatter\",\"uid\":\"210d856d-a6b2-4e7f-8a24-acd5c970b4aa\",\"xaxis\":\"x\",\"yaxis\":\"y\"},{\"customdata\":[\"\\u003cbr\\u003eEmitted Luminosity: 1.057e+43\\u003cbr\\u003eRequested Luminosity: 1.059e+43\\u003cbr\\u003eAbsorbed Luminosity: 3.365e+42\",\"\\u003cbr\\u003eEmitted Luminosity: 1.057e+43\\u003cbr\\u003eRequested Luminosity: 1.059e+43\\u003cbr\\u003eAbsorbed Luminosity: 3.365e+42\",\"\\u003cbr\\u003eEmitted Luminosity: 1.057e+43\\u003cbr\\u003eRequested Luminosity: 1.059e+43\\u003cbr\\u003eAbsorbed Luminosity: 3.365e+42\",\"\\u003cbr\\u003eEmitted Luminosity: 1.057e+43\\u003cbr\\u003eRequested Luminosity: 1.059e+43\\u003cbr\\u003eAbsorbed Luminosity: 3.365e+42\",\"\\u003cbr\\u003eEmitted Luminosity: 1.057e+43\\u003cbr\\u003eRequested Luminosity: 1.059e+43\\u003cbr\\u003eAbsorbed Luminosity: 3.365e+42\",\"\\u003cbr\\u003eEmitted Luminosity: 1.057e+43\\u003cbr\\u003eRequested Luminosity: 1.059e+43\\u003cbr\\u003eAbsorbed Luminosity: 3.365e+42\",\"\\u003cbr\\u003eEmitted Luminosity: 1.057e+43\\u003cbr\\u003eRequested Luminosity: 1.059e+43\\u003cbr\\u003eAbsorbed Luminosity: 3.365e+42\",\"\\u003cbr\\u003eEmitted Luminosity: 1.057e+43\\u003cbr\\u003eRequested Luminosity: 1.059e+43\\u003cbr\\u003eAbsorbed Luminosity: 3.365e+42\",\"\\u003cbr\\u003eEmitted Luminosity: 1.057e+43\\u003cbr\\u003eRequested Luminosity: 1.059e+43\\u003cbr\\u003eAbsorbed Luminosity: 3.365e+42\",\"\\u003cbr\\u003eEmitted Luminosity: 1.057e+43\\u003cbr\\u003eRequested Luminosity: 1.059e+43\\u003cbr\\u003eAbsorbed Luminosity: 3.365e+42\",\"\\u003cbr\\u003eEmitted Luminosity: 1.057e+43\\u003cbr\\u003eRequested Luminosity: 1.059e+43\\u003cbr\\u003eAbsorbed Luminosity: 3.365e+42\",\"\\u003cbr\\u003eEmitted Luminosity: 1.057e+43\\u003cbr\\u003eRequested Luminosity: 1.059e+43\\u003cbr\\u003eAbsorbed Luminosity: 3.365e+42\",\"\\u003cbr\\u003eEmitted Luminosity: 1.057e+43\\u003cbr\\u003eRequested Luminosity: 1.059e+43\\u003cbr\\u003eAbsorbed Luminosity: 3.365e+42\",\"\\u003cbr\\u003eEmitted Luminosity: 1.057e+43\\u003cbr\\u003eRequested Luminosity: 1.059e+43\\u003cbr\\u003eAbsorbed Luminosity: 3.365e+42\",\"\\u003cbr\\u003eEmitted Luminosity: 1.057e+43\\u003cbr\\u003eRequested Luminosity: 1.059e+43\\u003cbr\\u003eAbsorbed Luminosity: 3.365e+42\",\"\\u003cbr\\u003eEmitted Luminosity: 1.057e+43\\u003cbr\\u003eRequested Luminosity: 1.059e+43\\u003cbr\\u003eAbsorbed Luminosity: 3.365e+42\",\"\\u003cbr\\u003eEmitted Luminosity: 1.057e+43\\u003cbr\\u003eRequested Luminosity: 1.059e+43\\u003cbr\\u003eAbsorbed Luminosity: 3.365e+42\",\"\\u003cbr\\u003eEmitted Luminosity: 1.057e+43\\u003cbr\\u003eRequested Luminosity: 1.059e+43\\u003cbr\\u003eAbsorbed Luminosity: 3.365e+42\",\"\\u003cbr\\u003eEmitted Luminosity: 1.057e+43\\u003cbr\\u003eRequested Luminosity: 1.059e+43\\u003cbr\\u003eAbsorbed Luminosity: 3.365e+42\",\"\\u003cbr\\u003eEmitted Luminosity: 1.057e+43\\u003cbr\\u003eRequested Luminosity: 1.059e+43\\u003cbr\\u003eAbsorbed Luminosity: 3.365e+42\",\"\\u003cbr\\u003eEmitted Luminosity: 1.057e+43\\u003cbr\\u003eRequested Luminosity: 1.059e+43\\u003cbr\\u003eAbsorbed Luminosity: 3.365e+42\"],\"hovertemplate\":\"\\u003cb\\u003eY\\u003c\\u002fb\\u003e: %{y:.3f} at \\u003cb\\u003eX\\u003c\\u002fb\\u003e = %{x:,.0f}%{customdata}\",\"legendgroup\":\"group-18\",\"line\":{\"color\":\"#fa0e00\"},\"name\":\"18\",\"x\":[11000.0,11450.000000000002,11900.000000000002,12350.000000000002,12800.000000000002,13250.000000000002,13700.000000000002,14150.000000000002,14600.000000000002,15050.000000000002,15500.000000000002,15950.000000000002,16400.0,16850.0,17300.0,17750.0,18200.0,18650.0,19100.0,19550.0,20000.0],\"y\":[0.4639715092825966,0.3556123749638879,0.286828665893757,0.23621024823808584,0.20608263468719806,0.17691635421176907,0.15906281669924738,0.1420294970848086,0.13175074456827948,0.12212205670575875,0.11300865795975816,0.10531621306129307,0.09917457589453395,0.09274654004815966,0.08897179267639883,0.08478992203293972,0.08135082266812865,0.07813940112787414,0.07443394184577468,0.07303258810237373],\"type\":\"scatter\",\"uid\":\"51b52ad5-10be-4def-92c2-c9474022580f\",\"xaxis\":\"x2\",\"yaxis\":\"y2\"},{\"customdata\":[\"\\u003cbr\\u003eEmitted Luminosity: 1.056e+43\\u003cbr\\u003eRequested Luminosity: 1.059e+43\\u003cbr\\u003eAbsorbed Luminosity: 3.405e+42\",\"\\u003cbr\\u003eEmitted Luminosity: 1.056e+43\\u003cbr\\u003eRequested Luminosity: 1.059e+43\\u003cbr\\u003eAbsorbed Luminosity: 3.405e+42\",\"\\u003cbr\\u003eEmitted Luminosity: 1.056e+43\\u003cbr\\u003eRequested Luminosity: 1.059e+43\\u003cbr\\u003eAbsorbed Luminosity: 3.405e+42\",\"\\u003cbr\\u003eEmitted Luminosity: 1.056e+43\\u003cbr\\u003eRequested Luminosity: 1.059e+43\\u003cbr\\u003eAbsorbed Luminosity: 3.405e+42\",\"\\u003cbr\\u003eEmitted Luminosity: 1.056e+43\\u003cbr\\u003eRequested Luminosity: 1.059e+43\\u003cbr\\u003eAbsorbed Luminosity: 3.405e+42\",\"\\u003cbr\\u003eEmitted Luminosity: 1.056e+43\\u003cbr\\u003eRequested Luminosity: 1.059e+43\\u003cbr\\u003eAbsorbed Luminosity: 3.405e+42\",\"\\u003cbr\\u003eEmitted Luminosity: 1.056e+43\\u003cbr\\u003eRequested Luminosity: 1.059e+43\\u003cbr\\u003eAbsorbed Luminosity: 3.405e+42\",\"\\u003cbr\\u003eEmitted Luminosity: 1.056e+43\\u003cbr\\u003eRequested Luminosity: 1.059e+43\\u003cbr\\u003eAbsorbed Luminosity: 3.405e+42\",\"\\u003cbr\\u003eEmitted Luminosity: 1.056e+43\\u003cbr\\u003eRequested Luminosity: 1.059e+43\\u003cbr\\u003eAbsorbed Luminosity: 3.405e+42\",\"\\u003cbr\\u003eEmitted Luminosity: 1.056e+43\\u003cbr\\u003eRequested Luminosity: 1.059e+43\\u003cbr\\u003eAbsorbed Luminosity: 3.405e+42\",\"\\u003cbr\\u003eEmitted Luminosity: 1.056e+43\\u003cbr\\u003eRequested Luminosity: 1.059e+43\\u003cbr\\u003eAbsorbed Luminosity: 3.405e+42\",\"\\u003cbr\\u003eEmitted Luminosity: 1.056e+43\\u003cbr\\u003eRequested Luminosity: 1.059e+43\\u003cbr\\u003eAbsorbed Luminosity: 3.405e+42\",\"\\u003cbr\\u003eEmitted Luminosity: 1.056e+43\\u003cbr\\u003eRequested Luminosity: 1.059e+43\\u003cbr\\u003eAbsorbed Luminosity: 3.405e+42\",\"\\u003cbr\\u003eEmitted Luminosity: 1.056e+43\\u003cbr\\u003eRequested Luminosity: 1.059e+43\\u003cbr\\u003eAbsorbed Luminosity: 3.405e+42\",\"\\u003cbr\\u003eEmitted Luminosity: 1.056e+43\\u003cbr\\u003eRequested Luminosity: 1.059e+43\\u003cbr\\u003eAbsorbed Luminosity: 3.405e+42\",\"\\u003cbr\\u003eEmitted Luminosity: 1.056e+43\\u003cbr\\u003eRequested Luminosity: 1.059e+43\\u003cbr\\u003eAbsorbed Luminosity: 3.405e+42\",\"\\u003cbr\\u003eEmitted Luminosity: 1.056e+43\\u003cbr\\u003eRequested Luminosity: 1.059e+43\\u003cbr\\u003eAbsorbed Luminosity: 3.405e+42\",\"\\u003cbr\\u003eEmitted Luminosity: 1.056e+43\\u003cbr\\u003eRequested Luminosity: 1.059e+43\\u003cbr\\u003eAbsorbed Luminosity: 3.405e+42\",\"\\u003cbr\\u003eEmitted Luminosity: 1.056e+43\\u003cbr\\u003eRequested Luminosity: 1.059e+43\\u003cbr\\u003eAbsorbed Luminosity: 3.405e+42\",\"\\u003cbr\\u003eEmitted Luminosity: 1.056e+43\\u003cbr\\u003eRequested Luminosity: 1.059e+43\\u003cbr\\u003eAbsorbed Luminosity: 3.405e+42\",\"\\u003cbr\\u003eEmitted Luminosity: 1.056e+43\\u003cbr\\u003eRequested Luminosity: 1.059e+43\\u003cbr\\u003eAbsorbed Luminosity: 3.405e+42\"],\"hovertemplate\":\"\\u003cb\\u003eY\\u003c\\u002fb\\u003e: %{y:.3f} at \\u003cb\\u003eX\\u003c\\u002fb\\u003e = %{x:,.0f}%{customdata}\",\"legendgroup\":\"group-19\",\"line\":{\"color\":\"#bd0000\"},\"name\":\"19\",\"showlegend\":false,\"x\":[11000.0,11450.000000000002,11900.000000000002,12350.000000000002,12800.000000000002,13250.000000000002,13700.000000000002,14150.000000000002,14600.000000000002,15050.000000000002,15500.000000000002,15950.000000000002,16400.0,16850.0,17300.0,17750.0,18200.0,18650.0,19100.0,19550.0,20000.0],\"y\":[11069.330893770868,11165.157519243407,11272.62783771521,11372.452252396037,11332.028068812204,11329.643567195642,11294.518651044027,11261.568932482716,11241.47812925814,11148.975253254717,11071.52917648404,11004.685602078373,10946.399791590658,10861.427440620533,10784.478937100244,10655.557942270741,10586.119093865122,10567.996749201473,10435.711203887166,10305.706316399626],\"type\":\"scatter\",\"uid\":\"2a5bb01f-2c7a-4e47-be92-3cfd7fbb9b4e\",\"xaxis\":\"x\",\"yaxis\":\"y\"},{\"customdata\":[\"\\u003cbr\\u003eEmitted Luminosity: 1.056e+43\\u003cbr\\u003eRequested Luminosity: 1.059e+43\\u003cbr\\u003eAbsorbed Luminosity: 3.405e+42\",\"\\u003cbr\\u003eEmitted Luminosity: 1.056e+43\\u003cbr\\u003eRequested Luminosity: 1.059e+43\\u003cbr\\u003eAbsorbed Luminosity: 3.405e+42\",\"\\u003cbr\\u003eEmitted Luminosity: 1.056e+43\\u003cbr\\u003eRequested Luminosity: 1.059e+43\\u003cbr\\u003eAbsorbed Luminosity: 3.405e+42\",\"\\u003cbr\\u003eEmitted Luminosity: 1.056e+43\\u003cbr\\u003eRequested Luminosity: 1.059e+43\\u003cbr\\u003eAbsorbed Luminosity: 3.405e+42\",\"\\u003cbr\\u003eEmitted Luminosity: 1.056e+43\\u003cbr\\u003eRequested Luminosity: 1.059e+43\\u003cbr\\u003eAbsorbed Luminosity: 3.405e+42\",\"\\u003cbr\\u003eEmitted Luminosity: 1.056e+43\\u003cbr\\u003eRequested Luminosity: 1.059e+43\\u003cbr\\u003eAbsorbed Luminosity: 3.405e+42\",\"\\u003cbr\\u003eEmitted Luminosity: 1.056e+43\\u003cbr\\u003eRequested Luminosity: 1.059e+43\\u003cbr\\u003eAbsorbed Luminosity: 3.405e+42\",\"\\u003cbr\\u003eEmitted Luminosity: 1.056e+43\\u003cbr\\u003eRequested Luminosity: 1.059e+43\\u003cbr\\u003eAbsorbed Luminosity: 3.405e+42\",\"\\u003cbr\\u003eEmitted Luminosity: 1.056e+43\\u003cbr\\u003eRequested Luminosity: 1.059e+43\\u003cbr\\u003eAbsorbed Luminosity: 3.405e+42\",\"\\u003cbr\\u003eEmitted Luminosity: 1.056e+43\\u003cbr\\u003eRequested Luminosity: 1.059e+43\\u003cbr\\u003eAbsorbed Luminosity: 3.405e+42\",\"\\u003cbr\\u003eEmitted Luminosity: 1.056e+43\\u003cbr\\u003eRequested Luminosity: 1.059e+43\\u003cbr\\u003eAbsorbed Luminosity: 3.405e+42\",\"\\u003cbr\\u003eEmitted Luminosity: 1.056e+43\\u003cbr\\u003eRequested Luminosity: 1.059e+43\\u003cbr\\u003eAbsorbed Luminosity: 3.405e+42\",\"\\u003cbr\\u003eEmitted Luminosity: 1.056e+43\\u003cbr\\u003eRequested Luminosity: 1.059e+43\\u003cbr\\u003eAbsorbed Luminosity: 3.405e+42\",\"\\u003cbr\\u003eEmitted Luminosity: 1.056e+43\\u003cbr\\u003eRequested Luminosity: 1.059e+43\\u003cbr\\u003eAbsorbed Luminosity: 3.405e+42\",\"\\u003cbr\\u003eEmitted Luminosity: 1.056e+43\\u003cbr\\u003eRequested Luminosity: 1.059e+43\\u003cbr\\u003eAbsorbed Luminosity: 3.405e+42\",\"\\u003cbr\\u003eEmitted Luminosity: 1.056e+43\\u003cbr\\u003eRequested Luminosity: 1.059e+43\\u003cbr\\u003eAbsorbed Luminosity: 3.405e+42\",\"\\u003cbr\\u003eEmitted Luminosity: 1.056e+43\\u003cbr\\u003eRequested Luminosity: 1.059e+43\\u003cbr\\u003eAbsorbed Luminosity: 3.405e+42\",\"\\u003cbr\\u003eEmitted Luminosity: 1.056e+43\\u003cbr\\u003eRequested Luminosity: 1.059e+43\\u003cbr\\u003eAbsorbed Luminosity: 3.405e+42\",\"\\u003cbr\\u003eEmitted Luminosity: 1.056e+43\\u003cbr\\u003eRequested Luminosity: 1.059e+43\\u003cbr\\u003eAbsorbed Luminosity: 3.405e+42\",\"\\u003cbr\\u003eEmitted Luminosity: 1.056e+43\\u003cbr\\u003eRequested Luminosity: 1.059e+43\\u003cbr\\u003eAbsorbed Luminosity: 3.405e+42\",\"\\u003cbr\\u003eEmitted Luminosity: 1.056e+43\\u003cbr\\u003eRequested Luminosity: 1.059e+43\\u003cbr\\u003eAbsorbed Luminosity: 3.405e+42\"],\"hovertemplate\":\"\\u003cb\\u003eY\\u003c\\u002fb\\u003e: %{y:.3f} at \\u003cb\\u003eX\\u003c\\u002fb\\u003e = %{x:,.0f}%{customdata}\",\"legendgroup\":\"group-19\",\"line\":{\"color\":\"#bd0000\"},\"name\":\"19\",\"x\":[11000.0,11450.000000000002,11900.000000000002,12350.000000000002,12800.000000000002,13250.000000000002,13700.000000000002,14150.000000000002,14600.000000000002,15050.000000000002,15500.000000000002,15950.000000000002,16400.0,16850.0,17300.0,17750.0,18200.0,18650.0,19100.0,19550.0,20000.0],\"y\":[0.46583111179163267,0.35821399154999695,0.2847850142066722,0.23131748238389557,0.2019042428499352,0.17672917911674918,0.15768939467074697,0.1418789566945513,0.12816189932359404,0.11908550757372482,0.11148042086611504,0.10454478019426781,0.09806677159656109,0.09312253621401032,0.08822151219418566,0.0853423604869431,0.08173657384057985,0.07726564166748968,0.07559528442170009,0.0739557915834395],\"type\":\"scatter\",\"uid\":\"d6498a1a-79c2-4833-aeaf-1fc0416a7dbf\",\"xaxis\":\"x2\",\"yaxis\":\"y2\"},{\"customdata\":[\"\\u003cbr\\u003eEmitted Luminosity: 1.061e+43\\u003cbr\\u003eRequested Luminosity: 1.059e+43\\u003cbr\\u003eAbsorbed Luminosity: 3.401e+42\",\"\\u003cbr\\u003eEmitted Luminosity: 1.061e+43\\u003cbr\\u003eRequested Luminosity: 1.059e+43\\u003cbr\\u003eAbsorbed Luminosity: 3.401e+42\",\"\\u003cbr\\u003eEmitted Luminosity: 1.061e+43\\u003cbr\\u003eRequested Luminosity: 1.059e+43\\u003cbr\\u003eAbsorbed Luminosity: 3.401e+42\",\"\\u003cbr\\u003eEmitted Luminosity: 1.061e+43\\u003cbr\\u003eRequested Luminosity: 1.059e+43\\u003cbr\\u003eAbsorbed Luminosity: 3.401e+42\",\"\\u003cbr\\u003eEmitted Luminosity: 1.061e+43\\u003cbr\\u003eRequested Luminosity: 1.059e+43\\u003cbr\\u003eAbsorbed Luminosity: 3.401e+42\",\"\\u003cbr\\u003eEmitted Luminosity: 1.061e+43\\u003cbr\\u003eRequested Luminosity: 1.059e+43\\u003cbr\\u003eAbsorbed Luminosity: 3.401e+42\",\"\\u003cbr\\u003eEmitted Luminosity: 1.061e+43\\u003cbr\\u003eRequested Luminosity: 1.059e+43\\u003cbr\\u003eAbsorbed Luminosity: 3.401e+42\",\"\\u003cbr\\u003eEmitted Luminosity: 1.061e+43\\u003cbr\\u003eRequested Luminosity: 1.059e+43\\u003cbr\\u003eAbsorbed Luminosity: 3.401e+42\",\"\\u003cbr\\u003eEmitted Luminosity: 1.061e+43\\u003cbr\\u003eRequested Luminosity: 1.059e+43\\u003cbr\\u003eAbsorbed Luminosity: 3.401e+42\",\"\\u003cbr\\u003eEmitted Luminosity: 1.061e+43\\u003cbr\\u003eRequested Luminosity: 1.059e+43\\u003cbr\\u003eAbsorbed Luminosity: 3.401e+42\",\"\\u003cbr\\u003eEmitted Luminosity: 1.061e+43\\u003cbr\\u003eRequested Luminosity: 1.059e+43\\u003cbr\\u003eAbsorbed Luminosity: 3.401e+42\",\"\\u003cbr\\u003eEmitted Luminosity: 1.061e+43\\u003cbr\\u003eRequested Luminosity: 1.059e+43\\u003cbr\\u003eAbsorbed Luminosity: 3.401e+42\",\"\\u003cbr\\u003eEmitted Luminosity: 1.061e+43\\u003cbr\\u003eRequested Luminosity: 1.059e+43\\u003cbr\\u003eAbsorbed Luminosity: 3.401e+42\",\"\\u003cbr\\u003eEmitted Luminosity: 1.061e+43\\u003cbr\\u003eRequested Luminosity: 1.059e+43\\u003cbr\\u003eAbsorbed Luminosity: 3.401e+42\",\"\\u003cbr\\u003eEmitted Luminosity: 1.061e+43\\u003cbr\\u003eRequested Luminosity: 1.059e+43\\u003cbr\\u003eAbsorbed Luminosity: 3.401e+42\",\"\\u003cbr\\u003eEmitted Luminosity: 1.061e+43\\u003cbr\\u003eRequested Luminosity: 1.059e+43\\u003cbr\\u003eAbsorbed Luminosity: 3.401e+42\",\"\\u003cbr\\u003eEmitted Luminosity: 1.061e+43\\u003cbr\\u003eRequested Luminosity: 1.059e+43\\u003cbr\\u003eAbsorbed Luminosity: 3.401e+42\",\"\\u003cbr\\u003eEmitted Luminosity: 1.061e+43\\u003cbr\\u003eRequested Luminosity: 1.059e+43\\u003cbr\\u003eAbsorbed Luminosity: 3.401e+42\",\"\\u003cbr\\u003eEmitted Luminosity: 1.061e+43\\u003cbr\\u003eRequested Luminosity: 1.059e+43\\u003cbr\\u003eAbsorbed Luminosity: 3.401e+42\",\"\\u003cbr\\u003eEmitted Luminosity: 1.061e+43\\u003cbr\\u003eRequested Luminosity: 1.059e+43\\u003cbr\\u003eAbsorbed Luminosity: 3.401e+42\",\"\\u003cbr\\u003eEmitted Luminosity: 1.061e+43\\u003cbr\\u003eRequested Luminosity: 1.059e+43\\u003cbr\\u003eAbsorbed Luminosity: 3.401e+42\"],\"hovertemplate\":\"\\u003cb\\u003eY\\u003c\\u002fb\\u003e: %{y:.3f} at \\u003cb\\u003eX\\u003c\\u002fb\\u003e = %{x:,.0f}%{customdata}\",\"legendgroup\":\"group-20\",\"line\":{\"color\":\"#800000\"},\"name\":\"20\",\"showlegend\":false,\"x\":[11000.0,11450.000000000002,11900.000000000002,12350.000000000002,12800.000000000002,13250.000000000002,13700.000000000002,14150.000000000002,14600.000000000002,15050.000000000002,15500.000000000002,15950.000000000002,16400.0,16850.0,17300.0,17750.0,18200.0,18650.0,19100.0,19550.0,20000.0],\"y\":[11069.330893770868,11165.157519243407,11272.62783771521,11372.452252396037,11332.028068812204,11329.643567195642,11294.518651044027,11261.568932482716,11241.47812925814,11148.975253254717,11071.52917648404,11004.685602078373,10946.399791590658,10861.427440620533,10784.478937100244,10655.557942270741,10586.119093865122,10567.996749201473,10435.711203887166,10305.706316399626],\"type\":\"scatter\",\"uid\":\"b69394a7-be00-49a8-9444-2cd973f2c5b5\",\"xaxis\":\"x\",\"yaxis\":\"y\"},{\"customdata\":[\"\\u003cbr\\u003eEmitted Luminosity: 1.061e+43\\u003cbr\\u003eRequested Luminosity: 1.059e+43\\u003cbr\\u003eAbsorbed Luminosity: 3.401e+42\",\"\\u003cbr\\u003eEmitted Luminosity: 1.061e+43\\u003cbr\\u003eRequested Luminosity: 1.059e+43\\u003cbr\\u003eAbsorbed Luminosity: 3.401e+42\",\"\\u003cbr\\u003eEmitted Luminosity: 1.061e+43\\u003cbr\\u003eRequested Luminosity: 1.059e+43\\u003cbr\\u003eAbsorbed Luminosity: 3.401e+42\",\"\\u003cbr\\u003eEmitted Luminosity: 1.061e+43\\u003cbr\\u003eRequested Luminosity: 1.059e+43\\u003cbr\\u003eAbsorbed Luminosity: 3.401e+42\",\"\\u003cbr\\u003eEmitted Luminosity: 1.061e+43\\u003cbr\\u003eRequested Luminosity: 1.059e+43\\u003cbr\\u003eAbsorbed Luminosity: 3.401e+42\",\"\\u003cbr\\u003eEmitted Luminosity: 1.061e+43\\u003cbr\\u003eRequested Luminosity: 1.059e+43\\u003cbr\\u003eAbsorbed Luminosity: 3.401e+42\",\"\\u003cbr\\u003eEmitted Luminosity: 1.061e+43\\u003cbr\\u003eRequested Luminosity: 1.059e+43\\u003cbr\\u003eAbsorbed Luminosity: 3.401e+42\",\"\\u003cbr\\u003eEmitted Luminosity: 1.061e+43\\u003cbr\\u003eRequested Luminosity: 1.059e+43\\u003cbr\\u003eAbsorbed Luminosity: 3.401e+42\",\"\\u003cbr\\u003eEmitted Luminosity: 1.061e+43\\u003cbr\\u003eRequested Luminosity: 1.059e+43\\u003cbr\\u003eAbsorbed Luminosity: 3.401e+42\",\"\\u003cbr\\u003eEmitted Luminosity: 1.061e+43\\u003cbr\\u003eRequested Luminosity: 1.059e+43\\u003cbr\\u003eAbsorbed Luminosity: 3.401e+42\",\"\\u003cbr\\u003eEmitted Luminosity: 1.061e+43\\u003cbr\\u003eRequested Luminosity: 1.059e+43\\u003cbr\\u003eAbsorbed Luminosity: 3.401e+42\",\"\\u003cbr\\u003eEmitted Luminosity: 1.061e+43\\u003cbr\\u003eRequested Luminosity: 1.059e+43\\u003cbr\\u003eAbsorbed Luminosity: 3.401e+42\",\"\\u003cbr\\u003eEmitted Luminosity: 1.061e+43\\u003cbr\\u003eRequested Luminosity: 1.059e+43\\u003cbr\\u003eAbsorbed Luminosity: 3.401e+42\",\"\\u003cbr\\u003eEmitted Luminosity: 1.061e+43\\u003cbr\\u003eRequested Luminosity: 1.059e+43\\u003cbr\\u003eAbsorbed Luminosity: 3.401e+42\",\"\\u003cbr\\u003eEmitted Luminosity: 1.061e+43\\u003cbr\\u003eRequested Luminosity: 1.059e+43\\u003cbr\\u003eAbsorbed Luminosity: 3.401e+42\",\"\\u003cbr\\u003eEmitted Luminosity: 1.061e+43\\u003cbr\\u003eRequested Luminosity: 1.059e+43\\u003cbr\\u003eAbsorbed Luminosity: 3.401e+42\",\"\\u003cbr\\u003eEmitted Luminosity: 1.061e+43\\u003cbr\\u003eRequested Luminosity: 1.059e+43\\u003cbr\\u003eAbsorbed Luminosity: 3.401e+42\",\"\\u003cbr\\u003eEmitted Luminosity: 1.061e+43\\u003cbr\\u003eRequested Luminosity: 1.059e+43\\u003cbr\\u003eAbsorbed Luminosity: 3.401e+42\",\"\\u003cbr\\u003eEmitted Luminosity: 1.061e+43\\u003cbr\\u003eRequested Luminosity: 1.059e+43\\u003cbr\\u003eAbsorbed Luminosity: 3.401e+42\",\"\\u003cbr\\u003eEmitted Luminosity: 1.061e+43\\u003cbr\\u003eRequested Luminosity: 1.059e+43\\u003cbr\\u003eAbsorbed Luminosity: 3.401e+42\",\"\\u003cbr\\u003eEmitted Luminosity: 1.061e+43\\u003cbr\\u003eRequested Luminosity: 1.059e+43\\u003cbr\\u003eAbsorbed Luminosity: 3.401e+42\"],\"hovertemplate\":\"\\u003cb\\u003eY\\u003c\\u002fb\\u003e: %{y:.3f} at \\u003cb\\u003eX\\u003c\\u002fb\\u003e = %{x:,.0f}%{customdata}\",\"legendgroup\":\"group-20\",\"line\":{\"color\":\"#800000\"},\"name\":\"20\",\"x\":[11000.0,11450.000000000002,11900.000000000002,12350.000000000002,12800.000000000002,13250.000000000002,13700.000000000002,14150.000000000002,14600.000000000002,15050.000000000002,15500.000000000002,15950.000000000002,16400.0,16850.0,17300.0,17750.0,18200.0,18650.0,19100.0,19550.0,20000.0],\"y\":[0.46583111179163267,0.35821399154999695,0.2847850142066722,0.23131748238389557,0.2019042428499352,0.17672917911674918,0.15768939467074697,0.1418789566945513,0.12816189932359404,0.11908550757372482,0.11148042086611504,0.10454478019426781,0.09806677159656109,0.09312253621401032,0.08822151219418566,0.0853423604869431,0.08173657384057985,0.07726564166748968,0.07559528442170009,0.0739557915834395],\"type\":\"scatter\",\"uid\":\"7fd16efd-885b-469b-a4b0-da2b9f3430c0\",\"xaxis\":\"x2\",\"yaxis\":\"y2\"}],                        {\"template\":{\"data\":{\"barpolar\":[{\"marker\":{\"line\":{\"color\":\"#E5ECF6\",\"width\":0.5},\"pattern\":{\"fillmode\":\"overlay\",\"size\":10,\"solidity\":0.2}},\"type\":\"barpolar\"}],\"bar\":[{\"error_x\":{\"color\":\"#2a3f5f\"},\"error_y\":{\"color\":\"#2a3f5f\"},\"marker\":{\"line\":{\"color\":\"#E5ECF6\",\"width\":0.5},\"pattern\":{\"fillmode\":\"overlay\",\"size\":10,\"solidity\":0.2}},\"type\":\"bar\"}],\"carpet\":[{\"aaxis\":{\"endlinecolor\":\"#2a3f5f\",\"gridcolor\":\"white\",\"linecolor\":\"white\",\"minorgridcolor\":\"white\",\"startlinecolor\":\"#2a3f5f\"},\"baxis\":{\"endlinecolor\":\"#2a3f5f\",\"gridcolor\":\"white\",\"linecolor\":\"white\",\"minorgridcolor\":\"white\",\"startlinecolor\":\"#2a3f5f\"},\"type\":\"carpet\"}],\"choropleth\":[{\"colorbar\":{\"outlinewidth\":0,\"ticks\":\"\"},\"type\":\"choropleth\"}],\"contourcarpet\":[{\"colorbar\":{\"outlinewidth\":0,\"ticks\":\"\"},\"type\":\"contourcarpet\"}],\"contour\":[{\"colorbar\":{\"outlinewidth\":0,\"ticks\":\"\"},\"colorscale\":[[0.0,\"#0d0887\"],[0.1111111111111111,\"#46039f\"],[0.2222222222222222,\"#7201a8\"],[0.3333333333333333,\"#9c179e\"],[0.4444444444444444,\"#bd3786\"],[0.5555555555555556,\"#d8576b\"],[0.6666666666666666,\"#ed7953\"],[0.7777777777777778,\"#fb9f3a\"],[0.8888888888888888,\"#fdca26\"],[1.0,\"#f0f921\"]],\"type\":\"contour\"}],\"heatmapgl\":[{\"colorbar\":{\"outlinewidth\":0,\"ticks\":\"\"},\"colorscale\":[[0.0,\"#0d0887\"],[0.1111111111111111,\"#46039f\"],[0.2222222222222222,\"#7201a8\"],[0.3333333333333333,\"#9c179e\"],[0.4444444444444444,\"#bd3786\"],[0.5555555555555556,\"#d8576b\"],[0.6666666666666666,\"#ed7953\"],[0.7777777777777778,\"#fb9f3a\"],[0.8888888888888888,\"#fdca26\"],[1.0,\"#f0f921\"]],\"type\":\"heatmapgl\"}],\"heatmap\":[{\"colorbar\":{\"outlinewidth\":0,\"ticks\":\"\"},\"colorscale\":[[0.0,\"#0d0887\"],[0.1111111111111111,\"#46039f\"],[0.2222222222222222,\"#7201a8\"],[0.3333333333333333,\"#9c179e\"],[0.4444444444444444,\"#bd3786\"],[0.5555555555555556,\"#d8576b\"],[0.6666666666666666,\"#ed7953\"],[0.7777777777777778,\"#fb9f3a\"],[0.8888888888888888,\"#fdca26\"],[1.0,\"#f0f921\"]],\"type\":\"heatmap\"}],\"histogram2dcontour\":[{\"colorbar\":{\"outlinewidth\":0,\"ticks\":\"\"},\"colorscale\":[[0.0,\"#0d0887\"],[0.1111111111111111,\"#46039f\"],[0.2222222222222222,\"#7201a8\"],[0.3333333333333333,\"#9c179e\"],[0.4444444444444444,\"#bd3786\"],[0.5555555555555556,\"#d8576b\"],[0.6666666666666666,\"#ed7953\"],[0.7777777777777778,\"#fb9f3a\"],[0.8888888888888888,\"#fdca26\"],[1.0,\"#f0f921\"]],\"type\":\"histogram2dcontour\"}],\"histogram2d\":[{\"colorbar\":{\"outlinewidth\":0,\"ticks\":\"\"},\"colorscale\":[[0.0,\"#0d0887\"],[0.1111111111111111,\"#46039f\"],[0.2222222222222222,\"#7201a8\"],[0.3333333333333333,\"#9c179e\"],[0.4444444444444444,\"#bd3786\"],[0.5555555555555556,\"#d8576b\"],[0.6666666666666666,\"#ed7953\"],[0.7777777777777778,\"#fb9f3a\"],[0.8888888888888888,\"#fdca26\"],[1.0,\"#f0f921\"]],\"type\":\"histogram2d\"}],\"histogram\":[{\"marker\":{\"pattern\":{\"fillmode\":\"overlay\",\"size\":10,\"solidity\":0.2}},\"type\":\"histogram\"}],\"mesh3d\":[{\"colorbar\":{\"outlinewidth\":0,\"ticks\":\"\"},\"type\":\"mesh3d\"}],\"parcoords\":[{\"line\":{\"colorbar\":{\"outlinewidth\":0,\"ticks\":\"\"}},\"type\":\"parcoords\"}],\"pie\":[{\"automargin\":true,\"type\":\"pie\"}],\"scatter3d\":[{\"line\":{\"colorbar\":{\"outlinewidth\":0,\"ticks\":\"\"}},\"marker\":{\"colorbar\":{\"outlinewidth\":0,\"ticks\":\"\"}},\"type\":\"scatter3d\"}],\"scattercarpet\":[{\"marker\":{\"colorbar\":{\"outlinewidth\":0,\"ticks\":\"\"}},\"type\":\"scattercarpet\"}],\"scattergeo\":[{\"marker\":{\"colorbar\":{\"outlinewidth\":0,\"ticks\":\"\"}},\"type\":\"scattergeo\"}],\"scattergl\":[{\"marker\":{\"colorbar\":{\"outlinewidth\":0,\"ticks\":\"\"}},\"type\":\"scattergl\"}],\"scattermapbox\":[{\"marker\":{\"colorbar\":{\"outlinewidth\":0,\"ticks\":\"\"}},\"type\":\"scattermapbox\"}],\"scatterpolargl\":[{\"marker\":{\"colorbar\":{\"outlinewidth\":0,\"ticks\":\"\"}},\"type\":\"scatterpolargl\"}],\"scatterpolar\":[{\"marker\":{\"colorbar\":{\"outlinewidth\":0,\"ticks\":\"\"}},\"type\":\"scatterpolar\"}],\"scatter\":[{\"fillpattern\":{\"fillmode\":\"overlay\",\"size\":10,\"solidity\":0.2},\"type\":\"scatter\"}],\"scatterternary\":[{\"marker\":{\"colorbar\":{\"outlinewidth\":0,\"ticks\":\"\"}},\"type\":\"scatterternary\"}],\"surface\":[{\"colorbar\":{\"outlinewidth\":0,\"ticks\":\"\"},\"colorscale\":[[0.0,\"#0d0887\"],[0.1111111111111111,\"#46039f\"],[0.2222222222222222,\"#7201a8\"],[0.3333333333333333,\"#9c179e\"],[0.4444444444444444,\"#bd3786\"],[0.5555555555555556,\"#d8576b\"],[0.6666666666666666,\"#ed7953\"],[0.7777777777777778,\"#fb9f3a\"],[0.8888888888888888,\"#fdca26\"],[1.0,\"#f0f921\"]],\"type\":\"surface\"}],\"table\":[{\"cells\":{\"fill\":{\"color\":\"#EBF0F8\"},\"line\":{\"color\":\"white\"}},\"header\":{\"fill\":{\"color\":\"#C8D4E3\"},\"line\":{\"color\":\"white\"}},\"type\":\"table\"}]},\"layout\":{\"annotationdefaults\":{\"arrowcolor\":\"#2a3f5f\",\"arrowhead\":0,\"arrowwidth\":1},\"autotypenumbers\":\"strict\",\"coloraxis\":{\"colorbar\":{\"outlinewidth\":0,\"ticks\":\"\"}},\"colorscale\":{\"diverging\":[[0,\"#8e0152\"],[0.1,\"#c51b7d\"],[0.2,\"#de77ae\"],[0.3,\"#f1b6da\"],[0.4,\"#fde0ef\"],[0.5,\"#f7f7f7\"],[0.6,\"#e6f5d0\"],[0.7,\"#b8e186\"],[0.8,\"#7fbc41\"],[0.9,\"#4d9221\"],[1,\"#276419\"]],\"sequential\":[[0.0,\"#0d0887\"],[0.1111111111111111,\"#46039f\"],[0.2222222222222222,\"#7201a8\"],[0.3333333333333333,\"#9c179e\"],[0.4444444444444444,\"#bd3786\"],[0.5555555555555556,\"#d8576b\"],[0.6666666666666666,\"#ed7953\"],[0.7777777777777778,\"#fb9f3a\"],[0.8888888888888888,\"#fdca26\"],[1.0,\"#f0f921\"]],\"sequentialminus\":[[0.0,\"#0d0887\"],[0.1111111111111111,\"#46039f\"],[0.2222222222222222,\"#7201a8\"],[0.3333333333333333,\"#9c179e\"],[0.4444444444444444,\"#bd3786\"],[0.5555555555555556,\"#d8576b\"],[0.6666666666666666,\"#ed7953\"],[0.7777777777777778,\"#fb9f3a\"],[0.8888888888888888,\"#fdca26\"],[1.0,\"#f0f921\"]]},\"colorway\":[\"#636efa\",\"#EF553B\",\"#00cc96\",\"#ab63fa\",\"#FFA15A\",\"#19d3f3\",\"#FF6692\",\"#B6E880\",\"#FF97FF\",\"#FECB52\"],\"font\":{\"color\":\"#2a3f5f\"},\"geo\":{\"bgcolor\":\"white\",\"lakecolor\":\"white\",\"landcolor\":\"#E5ECF6\",\"showlakes\":true,\"showland\":true,\"subunitcolor\":\"white\"},\"hoverlabel\":{\"align\":\"left\"},\"hovermode\":\"closest\",\"mapbox\":{\"style\":\"light\"},\"paper_bgcolor\":\"white\",\"plot_bgcolor\":\"#E5ECF6\",\"polar\":{\"angularaxis\":{\"gridcolor\":\"white\",\"linecolor\":\"white\",\"ticks\":\"\"},\"bgcolor\":\"#E5ECF6\",\"radialaxis\":{\"gridcolor\":\"white\",\"linecolor\":\"white\",\"ticks\":\"\"}},\"scene\":{\"xaxis\":{\"backgroundcolor\":\"#E5ECF6\",\"gridcolor\":\"white\",\"gridwidth\":2,\"linecolor\":\"white\",\"showbackground\":true,\"ticks\":\"\",\"zerolinecolor\":\"white\"},\"yaxis\":{\"backgroundcolor\":\"#E5ECF6\",\"gridcolor\":\"white\",\"gridwidth\":2,\"linecolor\":\"white\",\"showbackground\":true,\"ticks\":\"\",\"zerolinecolor\":\"white\"},\"zaxis\":{\"backgroundcolor\":\"#E5ECF6\",\"gridcolor\":\"white\",\"gridwidth\":2,\"linecolor\":\"white\",\"showbackground\":true,\"ticks\":\"\",\"zerolinecolor\":\"white\"}},\"shapedefaults\":{\"line\":{\"color\":\"#2a3f5f\"}},\"ternary\":{\"aaxis\":{\"gridcolor\":\"white\",\"linecolor\":\"white\",\"ticks\":\"\"},\"baxis\":{\"gridcolor\":\"white\",\"linecolor\":\"white\",\"ticks\":\"\"},\"bgcolor\":\"#E5ECF6\",\"caxis\":{\"gridcolor\":\"white\",\"linecolor\":\"white\",\"ticks\":\"\"}},\"title\":{\"x\":0.05},\"xaxis\":{\"automargin\":true,\"gridcolor\":\"white\",\"linecolor\":\"white\",\"ticks\":\"\",\"title\":{\"standoff\":15},\"zerolinecolor\":\"white\",\"zerolinewidth\":2},\"yaxis\":{\"automargin\":true,\"gridcolor\":\"white\",\"linecolor\":\"white\",\"ticks\":\"\",\"title\":{\"standoff\":15},\"zerolinecolor\":\"white\",\"zerolinewidth\":2}}},\"xaxis\":{\"anchor\":\"y\",\"domain\":[0.0,0.45],\"tickformat\":\"g\",\"title\":{\"text\":\"$\\\\text{Velocity}~[\\\\text{km}~\\\\text{s}^{-1}]$\"}},\"yaxis\":{\"anchor\":\"x\",\"domain\":[0.0,1.0],\"tickformat\":\"g\",\"title\":{\"text\":\"$T_{\\\\text{rad}}\\\\ [\\\\text{K}]$\"},\"nticks\":15},\"xaxis2\":{\"anchor\":\"y2\",\"domain\":[0.55,1.0],\"tickformat\":\"g\",\"title\":{\"text\":\"$\\\\text{Velocity}~[\\\\text{km}~\\\\text{s}^{-1}]$\"},\"matches\":\"x\"},\"yaxis2\":{\"anchor\":\"x2\",\"domain\":[0.0,1.0],\"tickformat\":\"g\",\"title\":{\"text\":\"$W$\"},\"nticks\":15},\"legend\":{\"title\":{\"text\":\"Iterations\"},\"traceorder\":\"reversed\"},\"margin\":{\"l\":10,\"r\":135,\"b\":25,\"t\":25,\"pad\":0},\"height\":450},                        {\"responsive\": true}                    ).then(function(){\n",
       "                            \n",
       "var gd = document.getElementById('cbef571a-c8b8-49d3-9ade-b51a9cf54db5');\n",
       "var x = new MutationObserver(function (mutations, observer) {{\n",
       "        var display = window.getComputedStyle(gd).display;\n",
       "        if (!display || display === 'none') {{\n",
       "            console.log([gd, 'removed!']);\n",
       "            Plotly.purge(gd);\n",
       "            observer.disconnect();\n",
       "        }}\n",
       "}});\n",
       "\n",
       "// Listen for the removal of the full notebook cells\n",
       "var notebookContainer = gd.closest('#notebook-container');\n",
       "if (notebookContainer) {{\n",
       "    x.observe(notebookContainer, {childList: true});\n",
       "}}\n",
       "\n",
       "// Listen for the clearing of the current output cell\n",
       "var outputEl = gd.closest('.output');\n",
       "if (outputEl) {{\n",
       "    x.observe(outputEl, {childList: true});\n",
       "}}\n",
       "\n",
       "                        })                };                });            </script>        </div>"
      ]
     },
     "metadata": {},
     "output_type": "display_data"
    },
    {
     "data": {
      "text/html": [
       "        <script type=\"text/javascript\">\n",
       "        window.PlotlyConfig = {MathJaxConfig: 'local'};\n",
       "        if (window.MathJax && window.MathJax.Hub && window.MathJax.Hub.Config) {window.MathJax.Hub.Config({SVG: {font: \"STIX-Web\"}});}\n",
       "        if (typeof require !== 'undefined') {\n",
       "        require.undef(\"plotly\");\n",
       "        requirejs.config({\n",
       "            paths: {\n",
       "                'plotly': ['https://cdn.plot.ly/plotly-2.26.0.min']\n",
       "            }\n",
       "        });\n",
       "        require(['plotly'], function(Plotly) {\n",
       "            window._Plotly = Plotly;\n",
       "        });\n",
       "        }\n",
       "        </script>\n",
       "        "
      ]
     },
     "metadata": {},
     "output_type": "display_data"
    },
    {
     "data": {
      "text/html": [
       "<div>                            <div id=\"21958cb1-7ab5-4b61-a43c-dee7955deb91\" class=\"plotly-graph-div\" style=\"height:630px; width:100%;\"></div>            <script type=\"text/javascript\">                require([\"plotly\"], function(Plotly) {                    window.PLOTLYENV=window.PLOTLYENV || {};                                    if (document.getElementById(\"21958cb1-7ab5-4b61-a43c-dee7955deb91\")) {                    Plotly.newPlot(                        \"21958cb1-7ab5-4b61-a43c-dee7955deb91\",                        [{\"hovertext\":\"text\",\"mode\":\"lines\",\"name\":\"Inner\\u003cbr\\u003eBoundary\\u003cbr\\u003eTemperature\",\"type\":\"scatter\",\"uid\":\"c899fbf4-4f46-458b-b652-7c703a2758c7\",\"xaxis\":\"x\",\"yaxis\":\"y\",\"hovertemplate\":\"\\u003cb\\u003e%{y:.3f}\\u003c\\u002fb\\u003e at X = %{x:,.0f}\\u003cextra\\u003eInner Boundary Temperature\\u003c\\u002fextra\\u003e\",\"x\":[1,2,3,4,5,6,7,8,9,10,11,12,13,14,15,16,17,18,19,20],\"y\":[9933.951995919648,10703.211562422348,10673.712103958489,10635.953012231908,10638.406528771677,10650.201962584773,10645.954540809485,10642.04961793771,10636.106123877908,10654.31259429839,10628.189659670263,10644.054374080555,10653.542691388262,10647.276919600397,10638.875341023482,10655.125193761738,10655.56115672498,10636.535622734587,10641.692058870438,10650.463255529794]},{\"mode\":\"lines\",\"name\":\"Emitted\\u003cbr\\u003eLuminosity\",\"type\":\"scatter\",\"uid\":\"459dfd0f-47e1-4086-8dec-6d45deadf4a4\",\"xaxis\":\"x2\",\"yaxis\":\"y2\",\"hovertemplate\":\"\\u003cb\\u003e%{y:.4g}\\u003c\\u002fb\\u003e\\u003cbr\\u003eat X = %{x}\\u003cbr\\u003e\",\"x\":[1,2,3,4,5,6,7,8,9,10,11,12,13,14,15,16,17,18,19,20],\"y\":[7.94217490576629e+42,1.0710516521093004e+43,1.0744260406037996e+43,1.0582996138891918e+43,1.0545940091430878e+43,1.0609681890774418e+43,1.0608322361748786e+43,1.0616467173322811e+43,1.0520605244141124e+43,1.0697420878067399e+43,1.0529798362530551e+43,1.0555093978401453e+43,1.0617727732344976e+43,1.062627715933488e+43,1.0528341253755922e+43,1.059103016026169e+43,1.0668824405561532e+43,1.057225256379625e+43,1.0557926285002873e+43,1.0607832431314582e+43]},{\"mode\":\"lines\",\"name\":\"Absorbed\\u003cbr\\u003eLuminosity\",\"type\":\"scatter\",\"uid\":\"9e93c32c-57ef-4684-b72e-6b4ab90deb2e\",\"xaxis\":\"x2\",\"yaxis\":\"y2\",\"hovertemplate\":\"\\u003cb\\u003e%{y:.4g}\\u003c\\u002fb\\u003e\\u003cbr\\u003eat X = %{x}\\u003cbr\\u003e\",\"x\":[1,2,3,4,5,6,7,8,9,10,11,12,13,14,15,16,17,18,19,20],\"y\":[2.6585269987163907e+42,3.576326047128917e+42,3.3912529573296815e+42,3.351960855778322e+42,3.3988597390168757e+42,3.3980646035039864e+42,3.382148957209404e+42,3.3498688262362067e+42,3.4108734276587443e+42,3.3349178483896746e+42,3.363215048559226e+42,3.419737826808236e+42,3.405731111443267e+42,3.369133178888771e+42,3.41721250026907e+42,3.4445235238788086e+42,3.371808227073318e+42,3.3654653501429696e+42,3.40487735299688e+42,3.400790766998871e+42]},{\"mode\":\"lines\",\"name\":\"Requested\\u003cbr\\u003eLuminosity\",\"type\":\"scatter\",\"uid\":\"20a359b5-0a5b-4e8f-b885-bf1aa4677ed3\",\"xaxis\":\"x2\",\"yaxis\":\"y2\",\"hovertemplate\":\"\\u003cb\\u003e%{y:.4g}\\u003c\\u002fb\\u003e\\u003cbr\\u003eat X = %{x}\\u003cbr\\u003e\",\"x\":[1,2,3,4,5,6,7,8,9,10,11,12,13,14,15,16,17,18,19,20],\"y\":[1.0592763593038458e+43,1.0592763593038458e+43,1.0592763593038458e+43,1.0592763593038458e+43,1.0592763593038458e+43,1.0592763593038458e+43,1.0592763593038458e+43,1.0592763593038458e+43,1.0592763593038458e+43,1.0592763593038458e+43,1.0592763593038458e+43,1.0592763593038458e+43,1.0592763593038458e+43,1.0592763593038458e+43,1.0592763593038458e+43,1.0592763593038458e+43,1.0592763593038458e+43,1.0592763593038458e+43,1.0592763593038458e+43,1.0592763593038458e+43]},{\"mode\":\"lines\",\"name\":\"Residual\\u003cbr\\u003eLuminosity\",\"type\":\"scatter\",\"uid\":\"d1a37e99-cb64-4311-b5e6-4f6dbc1aad9f\",\"xaxis\":\"x3\",\"yaxis\":\"y3\",\"hovertemplate\":\"\\u003cb\\u003e%{y:.2f}%\\u003c\\u002fb\\u003e at X = %{x:,.0f}\",\"x\":[1,2,3,4,5,6,7,8,9,10,11,12,13,14,15,16,17,18,19,20],\"y\":[-25.022636104275275,1.1116355710225934,1.4301915800245142,-0.09220874289084471,-0.44203291422789376,0.15971561705652318,0.1468811096714525,0.22377144619682712,-0.6812041849471281,0.9880073704063604,-0.59441740538123,-0.3556164952247293,0.2356716364643925,0.31638170721045433,-0.608173105315723,-0.016364310989694035,0.7180450300340984,-0.19363246486202446,-0.3288783680443794,0.1422559669511361]}],                        {\"template\":{\"data\":{\"barpolar\":[{\"marker\":{\"line\":{\"color\":\"#E5ECF6\",\"width\":0.5},\"pattern\":{\"fillmode\":\"overlay\",\"size\":10,\"solidity\":0.2}},\"type\":\"barpolar\"}],\"bar\":[{\"error_x\":{\"color\":\"#2a3f5f\"},\"error_y\":{\"color\":\"#2a3f5f\"},\"marker\":{\"line\":{\"color\":\"#E5ECF6\",\"width\":0.5},\"pattern\":{\"fillmode\":\"overlay\",\"size\":10,\"solidity\":0.2}},\"type\":\"bar\"}],\"carpet\":[{\"aaxis\":{\"endlinecolor\":\"#2a3f5f\",\"gridcolor\":\"white\",\"linecolor\":\"white\",\"minorgridcolor\":\"white\",\"startlinecolor\":\"#2a3f5f\"},\"baxis\":{\"endlinecolor\":\"#2a3f5f\",\"gridcolor\":\"white\",\"linecolor\":\"white\",\"minorgridcolor\":\"white\",\"startlinecolor\":\"#2a3f5f\"},\"type\":\"carpet\"}],\"choropleth\":[{\"colorbar\":{\"outlinewidth\":0,\"ticks\":\"\"},\"type\":\"choropleth\"}],\"contourcarpet\":[{\"colorbar\":{\"outlinewidth\":0,\"ticks\":\"\"},\"type\":\"contourcarpet\"}],\"contour\":[{\"colorbar\":{\"outlinewidth\":0,\"ticks\":\"\"},\"colorscale\":[[0.0,\"#0d0887\"],[0.1111111111111111,\"#46039f\"],[0.2222222222222222,\"#7201a8\"],[0.3333333333333333,\"#9c179e\"],[0.4444444444444444,\"#bd3786\"],[0.5555555555555556,\"#d8576b\"],[0.6666666666666666,\"#ed7953\"],[0.7777777777777778,\"#fb9f3a\"],[0.8888888888888888,\"#fdca26\"],[1.0,\"#f0f921\"]],\"type\":\"contour\"}],\"heatmapgl\":[{\"colorbar\":{\"outlinewidth\":0,\"ticks\":\"\"},\"colorscale\":[[0.0,\"#0d0887\"],[0.1111111111111111,\"#46039f\"],[0.2222222222222222,\"#7201a8\"],[0.3333333333333333,\"#9c179e\"],[0.4444444444444444,\"#bd3786\"],[0.5555555555555556,\"#d8576b\"],[0.6666666666666666,\"#ed7953\"],[0.7777777777777778,\"#fb9f3a\"],[0.8888888888888888,\"#fdca26\"],[1.0,\"#f0f921\"]],\"type\":\"heatmapgl\"}],\"heatmap\":[{\"colorbar\":{\"outlinewidth\":0,\"ticks\":\"\"},\"colorscale\":[[0.0,\"#0d0887\"],[0.1111111111111111,\"#46039f\"],[0.2222222222222222,\"#7201a8\"],[0.3333333333333333,\"#9c179e\"],[0.4444444444444444,\"#bd3786\"],[0.5555555555555556,\"#d8576b\"],[0.6666666666666666,\"#ed7953\"],[0.7777777777777778,\"#fb9f3a\"],[0.8888888888888888,\"#fdca26\"],[1.0,\"#f0f921\"]],\"type\":\"heatmap\"}],\"histogram2dcontour\":[{\"colorbar\":{\"outlinewidth\":0,\"ticks\":\"\"},\"colorscale\":[[0.0,\"#0d0887\"],[0.1111111111111111,\"#46039f\"],[0.2222222222222222,\"#7201a8\"],[0.3333333333333333,\"#9c179e\"],[0.4444444444444444,\"#bd3786\"],[0.5555555555555556,\"#d8576b\"],[0.6666666666666666,\"#ed7953\"],[0.7777777777777778,\"#fb9f3a\"],[0.8888888888888888,\"#fdca26\"],[1.0,\"#f0f921\"]],\"type\":\"histogram2dcontour\"}],\"histogram2d\":[{\"colorbar\":{\"outlinewidth\":0,\"ticks\":\"\"},\"colorscale\":[[0.0,\"#0d0887\"],[0.1111111111111111,\"#46039f\"],[0.2222222222222222,\"#7201a8\"],[0.3333333333333333,\"#9c179e\"],[0.4444444444444444,\"#bd3786\"],[0.5555555555555556,\"#d8576b\"],[0.6666666666666666,\"#ed7953\"],[0.7777777777777778,\"#fb9f3a\"],[0.8888888888888888,\"#fdca26\"],[1.0,\"#f0f921\"]],\"type\":\"histogram2d\"}],\"histogram\":[{\"marker\":{\"pattern\":{\"fillmode\":\"overlay\",\"size\":10,\"solidity\":0.2}},\"type\":\"histogram\"}],\"mesh3d\":[{\"colorbar\":{\"outlinewidth\":0,\"ticks\":\"\"},\"type\":\"mesh3d\"}],\"parcoords\":[{\"line\":{\"colorbar\":{\"outlinewidth\":0,\"ticks\":\"\"}},\"type\":\"parcoords\"}],\"pie\":[{\"automargin\":true,\"type\":\"pie\"}],\"scatter3d\":[{\"line\":{\"colorbar\":{\"outlinewidth\":0,\"ticks\":\"\"}},\"marker\":{\"colorbar\":{\"outlinewidth\":0,\"ticks\":\"\"}},\"type\":\"scatter3d\"}],\"scattercarpet\":[{\"marker\":{\"colorbar\":{\"outlinewidth\":0,\"ticks\":\"\"}},\"type\":\"scattercarpet\"}],\"scattergeo\":[{\"marker\":{\"colorbar\":{\"outlinewidth\":0,\"ticks\":\"\"}},\"type\":\"scattergeo\"}],\"scattergl\":[{\"marker\":{\"colorbar\":{\"outlinewidth\":0,\"ticks\":\"\"}},\"type\":\"scattergl\"}],\"scattermapbox\":[{\"marker\":{\"colorbar\":{\"outlinewidth\":0,\"ticks\":\"\"}},\"type\":\"scattermapbox\"}],\"scatterpolargl\":[{\"marker\":{\"colorbar\":{\"outlinewidth\":0,\"ticks\":\"\"}},\"type\":\"scatterpolargl\"}],\"scatterpolar\":[{\"marker\":{\"colorbar\":{\"outlinewidth\":0,\"ticks\":\"\"}},\"type\":\"scatterpolar\"}],\"scatter\":[{\"fillpattern\":{\"fillmode\":\"overlay\",\"size\":10,\"solidity\":0.2},\"type\":\"scatter\"}],\"scatterternary\":[{\"marker\":{\"colorbar\":{\"outlinewidth\":0,\"ticks\":\"\"}},\"type\":\"scatterternary\"}],\"surface\":[{\"colorbar\":{\"outlinewidth\":0,\"ticks\":\"\"},\"colorscale\":[[0.0,\"#0d0887\"],[0.1111111111111111,\"#46039f\"],[0.2222222222222222,\"#7201a8\"],[0.3333333333333333,\"#9c179e\"],[0.4444444444444444,\"#bd3786\"],[0.5555555555555556,\"#d8576b\"],[0.6666666666666666,\"#ed7953\"],[0.7777777777777778,\"#fb9f3a\"],[0.8888888888888888,\"#fdca26\"],[1.0,\"#f0f921\"]],\"type\":\"surface\"}],\"table\":[{\"cells\":{\"fill\":{\"color\":\"#EBF0F8\"},\"line\":{\"color\":\"white\"}},\"header\":{\"fill\":{\"color\":\"#C8D4E3\"},\"line\":{\"color\":\"white\"}},\"type\":\"table\"}]},\"layout\":{\"annotationdefaults\":{\"arrowcolor\":\"#2a3f5f\",\"arrowhead\":0,\"arrowwidth\":1},\"autotypenumbers\":\"strict\",\"coloraxis\":{\"colorbar\":{\"outlinewidth\":0,\"ticks\":\"\"}},\"colorscale\":{\"diverging\":[[0,\"#8e0152\"],[0.1,\"#c51b7d\"],[0.2,\"#de77ae\"],[0.3,\"#f1b6da\"],[0.4,\"#fde0ef\"],[0.5,\"#f7f7f7\"],[0.6,\"#e6f5d0\"],[0.7,\"#b8e186\"],[0.8,\"#7fbc41\"],[0.9,\"#4d9221\"],[1,\"#276419\"]],\"sequential\":[[0.0,\"#0d0887\"],[0.1111111111111111,\"#46039f\"],[0.2222222222222222,\"#7201a8\"],[0.3333333333333333,\"#9c179e\"],[0.4444444444444444,\"#bd3786\"],[0.5555555555555556,\"#d8576b\"],[0.6666666666666666,\"#ed7953\"],[0.7777777777777778,\"#fb9f3a\"],[0.8888888888888888,\"#fdca26\"],[1.0,\"#f0f921\"]],\"sequentialminus\":[[0.0,\"#0d0887\"],[0.1111111111111111,\"#46039f\"],[0.2222222222222222,\"#7201a8\"],[0.3333333333333333,\"#9c179e\"],[0.4444444444444444,\"#bd3786\"],[0.5555555555555556,\"#d8576b\"],[0.6666666666666666,\"#ed7953\"],[0.7777777777777778,\"#fb9f3a\"],[0.8888888888888888,\"#fdca26\"],[1.0,\"#f0f921\"]]},\"colorway\":[\"#636efa\",\"#EF553B\",\"#00cc96\",\"#ab63fa\",\"#FFA15A\",\"#19d3f3\",\"#FF6692\",\"#B6E880\",\"#FF97FF\",\"#FECB52\"],\"font\":{\"color\":\"#2a3f5f\"},\"geo\":{\"bgcolor\":\"white\",\"lakecolor\":\"white\",\"landcolor\":\"#E5ECF6\",\"showlakes\":true,\"showland\":true,\"subunitcolor\":\"white\"},\"hoverlabel\":{\"align\":\"left\"},\"hovermode\":\"closest\",\"mapbox\":{\"style\":\"light\"},\"paper_bgcolor\":\"white\",\"plot_bgcolor\":\"#E5ECF6\",\"polar\":{\"angularaxis\":{\"gridcolor\":\"white\",\"linecolor\":\"white\",\"ticks\":\"\"},\"bgcolor\":\"#E5ECF6\",\"radialaxis\":{\"gridcolor\":\"white\",\"linecolor\":\"white\",\"ticks\":\"\"}},\"scene\":{\"xaxis\":{\"backgroundcolor\":\"#E5ECF6\",\"gridcolor\":\"white\",\"gridwidth\":2,\"linecolor\":\"white\",\"showbackground\":true,\"ticks\":\"\",\"zerolinecolor\":\"white\"},\"yaxis\":{\"backgroundcolor\":\"#E5ECF6\",\"gridcolor\":\"white\",\"gridwidth\":2,\"linecolor\":\"white\",\"showbackground\":true,\"ticks\":\"\",\"zerolinecolor\":\"white\"},\"zaxis\":{\"backgroundcolor\":\"#E5ECF6\",\"gridcolor\":\"white\",\"gridwidth\":2,\"linecolor\":\"white\",\"showbackground\":true,\"ticks\":\"\",\"zerolinecolor\":\"white\"}},\"shapedefaults\":{\"line\":{\"color\":\"#2a3f5f\"}},\"ternary\":{\"aaxis\":{\"gridcolor\":\"white\",\"linecolor\":\"white\",\"ticks\":\"\"},\"baxis\":{\"gridcolor\":\"white\",\"linecolor\":\"white\",\"ticks\":\"\"},\"bgcolor\":\"#E5ECF6\",\"caxis\":{\"gridcolor\":\"white\",\"linecolor\":\"white\",\"ticks\":\"\"}},\"title\":{\"x\":0.05},\"xaxis\":{\"automargin\":true,\"gridcolor\":\"white\",\"linecolor\":\"white\",\"ticks\":\"\",\"title\":{\"standoff\":15},\"zerolinecolor\":\"white\",\"zerolinewidth\":2},\"yaxis\":{\"automargin\":true,\"gridcolor\":\"white\",\"linecolor\":\"white\",\"ticks\":\"\",\"title\":{\"standoff\":15},\"zerolinecolor\":\"white\",\"zerolinewidth\":2}}},\"xaxis\":{\"anchor\":\"y\",\"domain\":[0.0,1.0],\"matches\":\"x3\",\"showticklabels\":false,\"range\":[0,21],\"dtick\":2},\"yaxis\":{\"anchor\":\"x\",\"domain\":[0.79,1.0],\"title\":{\"text\":\"$T_{\\\\text{inner}}\\\\ [\\\\text{K}]$\"},\"automargin\":true,\"tickformat\":\"g\",\"exponentformat\":\"e\",\"nticks\":4},\"xaxis2\":{\"anchor\":\"y2\",\"domain\":[0.0,1.0],\"matches\":\"x\",\"showticklabels\":false,\"range\":[0,21],\"dtick\":2},\"yaxis2\":{\"anchor\":\"x2\",\"domain\":[0.29,0.71],\"title\":{\"text\":\"$\\\\text{Luminosity}~[\\\\text{erg s}^{-1}]$\",\"font\":{\"size\":13}},\"exponentformat\":\"e\",\"automargin\":true,\"nticks\":7},\"xaxis3\":{\"anchor\":\"y3\",\"domain\":[0.0,1.0],\"title\":{\"text\":\"$\\\\mbox{Iteration Number}$\"},\"dtick\":2},\"yaxis3\":{\"anchor\":\"x3\",\"domain\":[0.0,0.21],\"title\":{\"text\":\"$~~\\\\text{Residual}\\\\\\\\\\\\text{Luminosity[%]}$\",\"font\":{\"size\":12}},\"automargin\":true,\"nticks\":4},\"hoverlabel\":{\"align\":\"right\"},\"margin\":{\"b\":25,\"t\":25,\"pad\":0},\"height\":630},                        {\"responsive\": true}                    ).then(function(){\n",
       "                            \n",
       "var gd = document.getElementById('21958cb1-7ab5-4b61-a43c-dee7955deb91');\n",
       "var x = new MutationObserver(function (mutations, observer) {{\n",
       "        var display = window.getComputedStyle(gd).display;\n",
       "        if (!display || display === 'none') {{\n",
       "            console.log([gd, 'removed!']);\n",
       "            Plotly.purge(gd);\n",
       "            observer.disconnect();\n",
       "        }}\n",
       "}});\n",
       "\n",
       "// Listen for the removal of the full notebook cells\n",
       "var notebookContainer = gd.closest('#notebook-container');\n",
       "if (notebookContainer) {{\n",
       "    x.observe(notebookContainer, {childList: true});\n",
       "}}\n",
       "\n",
       "// Listen for the clearing of the current output cell\n",
       "var outputEl = gd.closest('.output');\n",
       "if (outputEl) {{\n",
       "    x.observe(outputEl, {childList: true});\n",
       "}}\n",
       "\n",
       "                        })                };                });            </script>        </div>"
      ]
     },
     "metadata": {},
     "output_type": "display_data"
    }
   ],
   "source": [
    "sim = run_tardis(\n",
    "    \"tardis_example.yml\",\n",
    "    virtual_packet_logging=True,\n",
    "    show_convergence_plots=True,\n",
    "    export_convergence_plots=True,\n",
    "    log_level=\"ERROR\",\n",
    ")"
   ]
  },
  {
   "cell_type": "code",
   "execution_count": 4,
   "metadata": {},
   "outputs": [
    {
     "data": {
      "text/plain": [
       "<Axes: xlabel='Wavelength $[\\\\mathrm{\\\\AA}]$', ylabel='$L_{\\\\lambda}$ [erg $\\\\mathrm{s^{-1}}$ $\\\\mathrm{\\\\AA^{-1}}$]'>"
      ]
     },
     "execution_count": 4,
     "metadata": {},
     "output_type": "execute_result"
    },
    {
     "data": {
      "image/png": "[encoded data removed]",
      "text/plain": [
       "<Figure size 1200x700 with 2 Axes>"
      ]
     },
     "metadata": {},
     "output_type": "display_data"
    }
   ],
   "source": [
    "SDECPlotter.from_simulation(sim).generate_plot_mpl()"
   ]
  },
  {
   "cell_type": "markdown",
   "metadata": {},
   "source": [
    "### 2. Abundance of Elements vs Shell Velocity\n"
   ]
  },
  {
   "cell_type": "code",
   "execution_count": 5,
   "metadata": {},
   "outputs": [
    {
     "name": "stdout",
     "output_type": "stream",
     "text": [
      "[11000000. 11450000. 11900000. 12350000. 12800000. 13250000. 13700000.\n",
      " 14150000. 14600000. 15050000. 15500000. 15950000. 16400000. 16850000.\n",
      " 17300000. 17750000. 18200000. 18650000. 19100000. 19550000.] m / s\n"
     ]
    }
   ],
   "source": [
    "# Get x-axis values: shell velocities\n",
    "shell_velocities = sim.simulation_state.v_inner.si\n",
    "print(shell_velocities)"
   ]
  },
  {
   "cell_type": "code",
   "execution_count": 6,
   "metadata": {},
   "outputs": [
    {
     "data": {
      "text/html": [
       "<div>\n",
       "<style scoped>\n",
       "    .dataframe tbody tr th:only-of-type {\n",
       "        vertical-align: middle;\n",
       "    }\n",
       "\n",
       "    .dataframe tbody tr th {\n",
       "        vertical-align: top;\n",
       "    }\n",
       "\n",
       "    .dataframe thead th {\n",
       "        text-align: right;\n",
       "    }\n",
       "</style>\n",
       "<table border=\"1\" class=\"dataframe\">\n",
       "  <thead>\n",
       "    <tr style=\"text-align: right;\">\n",
       "      <th></th>\n",
       "      <th>0</th>\n",
       "      <th>1</th>\n",
       "      <th>2</th>\n",
       "      <th>3</th>\n",
       "      <th>4</th>\n",
       "      <th>5</th>\n",
       "      <th>6</th>\n",
       "      <th>7</th>\n",
       "      <th>8</th>\n",
       "      <th>9</th>\n",
       "      <th>10</th>\n",
       "      <th>11</th>\n",
       "      <th>12</th>\n",
       "      <th>13</th>\n",
       "      <th>14</th>\n",
       "      <th>15</th>\n",
       "      <th>16</th>\n",
       "      <th>17</th>\n",
       "      <th>18</th>\n",
       "      <th>19</th>\n",
       "    </tr>\n",
       "    <tr>\n",
       "      <th>atomic_number</th>\n",
       "      <th></th>\n",
       "      <th></th>\n",
       "      <th></th>\n",
       "      <th></th>\n",
       "      <th></th>\n",
       "      <th></th>\n",
       "      <th></th>\n",
       "      <th></th>\n",
       "      <th></th>\n",
       "      <th></th>\n",
       "      <th></th>\n",
       "      <th></th>\n",
       "      <th></th>\n",
       "      <th></th>\n",
       "      <th></th>\n",
       "      <th></th>\n",
       "      <th></th>\n",
       "      <th></th>\n",
       "      <th></th>\n",
       "      <th></th>\n",
       "    </tr>\n",
       "  </thead>\n",
       "  <tbody>\n",
       "    <tr>\n",
       "      <th>8</th>\n",
       "      <td>0.19</td>\n",
       "      <td>0.19</td>\n",
       "      <td>0.19</td>\n",
       "      <td>0.19</td>\n",
       "      <td>0.19</td>\n",
       "      <td>0.19</td>\n",
       "      <td>0.19</td>\n",
       "      <td>0.19</td>\n",
       "      <td>0.19</td>\n",
       "      <td>0.19</td>\n",
       "      <td>0.19</td>\n",
       "      <td>0.19</td>\n",
       "      <td>0.19</td>\n",
       "      <td>0.19</td>\n",
       "      <td>0.19</td>\n",
       "      <td>0.19</td>\n",
       "      <td>0.19</td>\n",
       "      <td>0.19</td>\n",
       "      <td>0.19</td>\n",
       "      <td>0.19</td>\n",
       "    </tr>\n",
       "    <tr>\n",
       "      <th>12</th>\n",
       "      <td>0.03</td>\n",
       "      <td>0.03</td>\n",
       "      <td>0.03</td>\n",
       "      <td>0.03</td>\n",
       "      <td>0.03</td>\n",
       "      <td>0.03</td>\n",
       "      <td>0.03</td>\n",
       "      <td>0.03</td>\n",
       "      <td>0.03</td>\n",
       "      <td>0.03</td>\n",
       "      <td>0.03</td>\n",
       "      <td>0.03</td>\n",
       "      <td>0.03</td>\n",
       "      <td>0.03</td>\n",
       "      <td>0.03</td>\n",
       "      <td>0.03</td>\n",
       "      <td>0.03</td>\n",
       "      <td>0.03</td>\n",
       "      <td>0.03</td>\n",
       "      <td>0.03</td>\n",
       "    </tr>\n",
       "    <tr>\n",
       "      <th>14</th>\n",
       "      <td>0.52</td>\n",
       "      <td>0.52</td>\n",
       "      <td>0.52</td>\n",
       "      <td>0.52</td>\n",
       "      <td>0.52</td>\n",
       "      <td>0.52</td>\n",
       "      <td>0.52</td>\n",
       "      <td>0.52</td>\n",
       "      <td>0.52</td>\n",
       "      <td>0.52</td>\n",
       "      <td>0.52</td>\n",
       "      <td>0.52</td>\n",
       "      <td>0.52</td>\n",
       "      <td>0.52</td>\n",
       "      <td>0.52</td>\n",
       "      <td>0.52</td>\n",
       "      <td>0.52</td>\n",
       "      <td>0.52</td>\n",
       "      <td>0.52</td>\n",
       "      <td>0.52</td>\n",
       "    </tr>\n",
       "    <tr>\n",
       "      <th>16</th>\n",
       "      <td>0.19</td>\n",
       "      <td>0.19</td>\n",
       "      <td>0.19</td>\n",
       "      <td>0.19</td>\n",
       "      <td>0.19</td>\n",
       "      <td>0.19</td>\n",
       "      <td>0.19</td>\n",
       "      <td>0.19</td>\n",
       "      <td>0.19</td>\n",
       "      <td>0.19</td>\n",
       "      <td>0.19</td>\n",
       "      <td>0.19</td>\n",
       "      <td>0.19</td>\n",
       "      <td>0.19</td>\n",
       "      <td>0.19</td>\n",
       "      <td>0.19</td>\n",
       "      <td>0.19</td>\n",
       "      <td>0.19</td>\n",
       "      <td>0.19</td>\n",
       "      <td>0.19</td>\n",
       "    </tr>\n",
       "    <tr>\n",
       "      <th>18</th>\n",
       "      <td>0.04</td>\n",
       "      <td>0.04</td>\n",
       "      <td>0.04</td>\n",
       "      <td>0.04</td>\n",
       "      <td>0.04</td>\n",
       "      <td>0.04</td>\n",
       "      <td>0.04</td>\n",
       "      <td>0.04</td>\n",
       "      <td>0.04</td>\n",
       "      <td>0.04</td>\n",
       "      <td>0.04</td>\n",
       "      <td>0.04</td>\n",
       "      <td>0.04</td>\n",
       "      <td>0.04</td>\n",
       "      <td>0.04</td>\n",
       "      <td>0.04</td>\n",
       "      <td>0.04</td>\n",
       "      <td>0.04</td>\n",
       "      <td>0.04</td>\n",
       "      <td>0.04</td>\n",
       "    </tr>\n",
       "    <tr>\n",
       "      <th>20</th>\n",
       "      <td>0.03</td>\n",
       "      <td>0.03</td>\n",
       "      <td>0.03</td>\n",
       "      <td>0.03</td>\n",
       "      <td>0.03</td>\n",
       "      <td>0.03</td>\n",
       "      <td>0.03</td>\n",
       "      <td>0.03</td>\n",
       "      <td>0.03</td>\n",
       "      <td>0.03</td>\n",
       "      <td>0.03</td>\n",
       "      <td>0.03</td>\n",
       "      <td>0.03</td>\n",
       "      <td>0.03</td>\n",
       "      <td>0.03</td>\n",
       "      <td>0.03</td>\n",
       "      <td>0.03</td>\n",
       "      <td>0.03</td>\n",
       "      <td>0.03</td>\n",
       "      <td>0.03</td>\n",
       "    </tr>\n",
       "  </tbody>\n",
       "</table>\n",
       "</div>"
      ],
      "text/plain": [
       "                 0     1     2     3     4     5     6     7     8     9   \\\n",
       "atomic_number                                                               \n",
       "8              0.19  0.19  0.19  0.19  0.19  0.19  0.19  0.19  0.19  0.19   \n",
       "12             0.03  0.03  0.03  0.03  0.03  0.03  0.03  0.03  0.03  0.03   \n",
       "14             0.52  0.52  0.52  0.52  0.52  0.52  0.52  0.52  0.52  0.52   \n",
       "16             0.19  0.19  0.19  0.19  0.19  0.19  0.19  0.19  0.19  0.19   \n",
       "18             0.04  0.04  0.04  0.04  0.04  0.04  0.04  0.04  0.04  0.04   \n",
       "20             0.03  0.03  0.03  0.03  0.03  0.03  0.03  0.03  0.03  0.03   \n",
       "\n",
       "                 10    11    12    13    14    15    16    17    18    19  \n",
       "atomic_number                                                              \n",
       "8              0.19  0.19  0.19  0.19  0.19  0.19  0.19  0.19  0.19  0.19  \n",
       "12             0.03  0.03  0.03  0.03  0.03  0.03  0.03  0.03  0.03  0.03  \n",
       "14             0.52  0.52  0.52  0.52  0.52  0.52  0.52  0.52  0.52  0.52  \n",
       "16             0.19  0.19  0.19  0.19  0.19  0.19  0.19  0.19  0.19  0.19  \n",
       "18             0.04  0.04  0.04  0.04  0.04  0.04  0.04  0.04  0.04  0.04  \n",
       "20             0.03  0.03  0.03  0.03  0.03  0.03  0.03  0.03  0.03  0.03  "
      ]
     },
     "execution_count": 6,
     "metadata": {},
     "output_type": "execute_result"
    }
   ],
   "source": [
    "# Get y-axis values: element abundances\n",
    "abundances = sim.plasma.abundance\n",
    "abundances"
   ]
  },
  {
   "cell_type": "code",
   "execution_count": 7,
   "metadata": {},
   "outputs": [
    {
     "data": {
      "image/png": "[encoded data removed]",
      "text/plain": [
       "<Figure size 1500x1000 with 1 Axes>"
      ]
     },
     "metadata": {},
     "output_type": "display_data"
    }
   ],
   "source": [
    "# Plot data in Matplotlib\n",
    "fig, axis = plt.subplots(figsize=(15, 10))\n",
    "\n",
    "ATOM_DATA = sim.plasma.atomic_data.atom_data\n",
    "\n",
    "for atomic_number in sim.plasma.selected_atoms:\n",
    "    axis.step(\n",
    "        shell_velocities,\n",
    "        abundances.loc[atomic_number],\n",
    "        marker=\".\",\n",
    "        linestyle=\"--\",\n",
    "        where=\"post\",\n",
    "        label=ATOM_DATA.symbol.loc[atomic_number],\n",
    "    )\n",
    "\n",
    "_ = axis.set(\n",
    "    title=\"Elemental Abundance vs Shell Velocity\",\n",
    "    xlabel=f\"Inner Velocity ({str(shell_velocities.unit)})\",\n",
    "    ylabel=\"Abundance\",\n",
    ")\n",
    "_ = axis.legend()"
   ]
  },
  {
   "cell_type": "code",
   "execution_count": 8,
   "metadata": {},
   "outputs": [
    {
     "data": {
      "application/vnd.plotly.v1+json": {
       "config": {
        "plotlyServerURL": "https://plot.ly"
       },
       "data": [
        {
         "line": {
          "dash": "dot",
          "shape": "hv"
         },
         "mode": "lines+markers",
         "name": "O",
         "type": "scatter",
         "x": [
          11000000,
          11450000,
          11900000,
          12350000,
          12800000,
          13250000,
          13700000,
          14150000,
          14600000,
          15050000,
          15500000,
          15950000,
          16400000,
          16850000,
          17300000,
          17750000,
          18200000,
          18650000,
          19100000,
          19550000
         ],
         "y": [
          0.19,
          0.19,
          0.19,
          0.19,
          0.19,
          0.19,
          0.19,
          0.19,
          0.19,
          0.19,
          0.19,
          0.19,
          0.19,
          0.19,
          0.19,
          0.19,
          0.19,
          0.19,
          0.19,
          0.19
         ]
        },
        {
         "line": {
          "dash": "dot",
          "shape": "hv"
         },
         "mode": "lines+markers",
         "name": "Mg",
         "type": "scatter",
         "x": [
          11000000,
          11450000,
          11900000,
          12350000,
          12800000,
          13250000,
          13700000,
          14150000,
          14600000,
          15050000,
          15500000,
          15950000,
          16400000,
          16850000,
          17300000,
          17750000,
          18200000,
          18650000,
          19100000,
          19550000
         ],
         "y": [
          0.03,
          0.03,
          0.03,
          0.03,
          0.03,
          0.03,
          0.03,
          0.03,
          0.03,
          0.03,
          0.03,
          0.03,
          0.03,
          0.03,
          0.03,
          0.03,
          0.03,
          0.03,
          0.03,
          0.03
         ]
        },
        {
         "line": {
          "dash": "dot",
          "shape": "hv"
         },
         "mode": "lines+markers",
         "name": "Si",
         "type": "scatter",
         "x": [
          11000000,
          11450000,
          11900000,
          12350000,
          12800000,
          13250000,
          13700000,
          14150000,
          14600000,
          15050000,
          15500000,
          15950000,
          16400000,
          16850000,
          17300000,
          17750000,
          18200000,
          18650000,
          19100000,
          19550000
         ],
         "y": [
          0.52,
          0.52,
          0.52,
          0.52,
          0.52,
          0.52,
          0.52,
          0.52,
          0.52,
          0.52,
          0.52,
          0.52,
          0.52,
          0.52,
          0.52,
          0.52,
          0.52,
          0.52,
          0.52,
          0.52
         ]
        },
        {
         "line": {
          "dash": "dot",
          "shape": "hv"
         },
         "mode": "lines+markers",
         "name": "S",
         "type": "scatter",
         "x": [
          11000000,
          11450000,
          11900000,
          12350000,
          12800000,
          13250000,
          13700000,
          14150000,
          14600000,
          15050000,
          15500000,
          15950000,
          16400000,
          16850000,
          17300000,
          17750000,
          18200000,
          18650000,
          19100000,
          19550000
         ],
         "y": [
          0.19,
          0.19,
          0.19,
          0.19,
          0.19,
          0.19,
          0.19,
          0.19,
          0.19,
          0.19,
          0.19,
          0.19,
          0.19,
          0.19,
          0.19,
          0.19,
          0.19,
          0.19,
          0.19,
          0.19
         ]
        },
        {
         "line": {
          "dash": "dot",
          "shape": "hv"
         },
         "mode": "lines+markers",
         "name": "Ar",
         "type": "scatter",
         "x": [
          11000000,
          11450000,
          11900000,
          12350000,
          12800000,
          13250000,
          13700000,
          14150000,
          14600000,
          15050000,
          15500000,
          15950000,
          16400000,
          16850000,
          17300000,
          17750000,
          18200000,
          18650000,
          19100000,
          19550000
         ],
         "y": [
          0.04,
          0.04,
          0.04,
          0.04,
          0.04,
          0.04,
          0.04,
          0.04,
          0.04,
          0.04,
          0.04,
          0.04,
          0.04,
          0.04,
          0.04,
          0.04,
          0.04,
          0.04,
          0.04,
          0.04
         ]
        },
        {
         "line": {
          "dash": "dot",
          "shape": "hv"
         },
         "mode": "lines+markers",
         "name": "Ca",
         "type": "scatter",
         "x": [
          11000000,
          11450000,
          11900000,
          12350000,
          12800000,
          13250000,
          13700000,
          14150000,
          14600000,
          15050000,
          15500000,
          15950000,
          16400000,
          16850000,
          17300000,
          17750000,
          18200000,
          18650000,
          19100000,
          19550000
         ],
         "y": [
          0.03,
          0.03,
          0.03,
          0.03,
          0.03,
          0.03,
          0.03,
          0.03,
          0.03,
          0.03,
          0.03,
          0.03,
          0.03,
          0.03,
          0.03,
          0.03,
          0.03,
          0.03,
          0.03,
          0.03
         ]
        }
       ],
       "layout": {
        "legend": {
         "title": {
          "text": "Ion"
         }
        },
        "template": {
         "data": {
          "bar": [
           {
            "error_x": {
             "color": "#2a3f5f"
            },
            "error_y": {
             "color": "#2a3f5f"
            },
            "marker": {
             "line": {
              "color": "#E5ECF6",
              "width": 0.5
             },
             "pattern": {
              "fillmode": "overlay",
              "size": 10,
              "solidity": 0.2
             }
            },
            "type": "bar"
           }
          ],
          "barpolar": [
           {
            "marker": {
             "line": {
              "color": "#E5ECF6",
              "width": 0.5
             },
             "pattern": {
              "fillmode": "overlay",
              "size": 10,
              "solidity": 0.2
             }
            },
            "type": "barpolar"
           }
          ],
          "carpet": [
           {
            "aaxis": {
             "endlinecolor": "#2a3f5f",
             "gridcolor": "white",
             "linecolor": "white",
             "minorgridcolor": "white",
             "startlinecolor": "#2a3f5f"
            },
            "baxis": {
             "endlinecolor": "#2a3f5f",
             "gridcolor": "white",
             "linecolor": "white",
             "minorgridcolor": "white",
             "startlinecolor": "#2a3f5f"
            },
            "type": "carpet"
           }
          ],
          "choropleth": [
           {
            "colorbar": {
             "outlinewidth": 0,
             "ticks": ""
            },
            "type": "choropleth"
           }
          ],
          "contour": [
           {
            "colorbar": {
             "outlinewidth": 0,
             "ticks": ""
            },
            "colorscale": [
             [
              0,
              "#0d0887"
             ],
             [
              0.1111111111111111,
              "#46039f"
             ],
             [
              0.2222222222222222,
              "#7201a8"
             ],
             [
              0.3333333333333333,
              "#9c179e"
             ],
             [
              0.4444444444444444,
              "#bd3786"
             ],
             [
              0.5555555555555556,
              "#d8576b"
             ],
             [
              0.6666666666666666,
              "#ed7953"
             ],
             [
              0.7777777777777778,
              "#fb9f3a"
             ],
             [
              0.8888888888888888,
              "#fdca26"
             ],
             [
              1,
              "#f0f921"
             ]
            ],
            "type": "contour"
           }
          ],
          "contourcarpet": [
           {
            "colorbar": {
             "outlinewidth": 0,
             "ticks": ""
            },
            "type": "contourcarpet"
           }
          ],
          "heatmap": [
           {
            "colorbar": {
             "outlinewidth": 0,
             "ticks": ""
            },
            "colorscale": [
             [
              0,
              "#0d0887"
             ],
             [
              0.1111111111111111,
              "#46039f"
             ],
             [
              0.2222222222222222,
              "#7201a8"
             ],
             [
              0.3333333333333333,
              "#9c179e"
             ],
             [
              0.4444444444444444,
              "#bd3786"
             ],
             [
              0.5555555555555556,
              "#d8576b"
             ],
             [
              0.6666666666666666,
              "#ed7953"
             ],
             [
              0.7777777777777778,
              "#fb9f3a"
             ],
             [
              0.8888888888888888,
              "#fdca26"
             ],
             [
              1,
              "#f0f921"
             ]
            ],
            "type": "heatmap"
           }
          ],
          "heatmapgl": [
           {
            "colorbar": {
             "outlinewidth": 0,
             "ticks": ""
            },
            "colorscale": [
             [
              0,
              "#0d0887"
             ],
             [
              0.1111111111111111,
              "#46039f"
             ],
             [
              0.2222222222222222,
              "#7201a8"
             ],
             [
              0.3333333333333333,
              "#9c179e"
             ],
             [
              0.4444444444444444,
              "#bd3786"
             ],
             [
              0.5555555555555556,
              "#d8576b"
             ],
             [
              0.6666666666666666,
              "#ed7953"
             ],
             [
              0.7777777777777778,
              "#fb9f3a"
             ],
             [
              0.8888888888888888,
              "#fdca26"
             ],
             [
              1,
              "#f0f921"
             ]
            ],
            "type": "heatmapgl"
           }
          ],
          "histogram": [
           {
            "marker": {
             "pattern": {
              "fillmode": "overlay",
              "size": 10,
              "solidity": 0.2
             }
            },
            "type": "histogram"
           }
          ],
          "histogram2d": [
           {
            "colorbar": {
             "outlinewidth": 0,
             "ticks": ""
            },
            "colorscale": [
             [
              0,
              "#0d0887"
             ],
             [
              0.1111111111111111,
              "#46039f"
             ],
             [
              0.2222222222222222,
              "#7201a8"
             ],
             [
              0.3333333333333333,
              "#9c179e"
             ],
             [
              0.4444444444444444,
              "#bd3786"
             ],
             [
              0.5555555555555556,
              "#d8576b"
             ],
             [
              0.6666666666666666,
              "#ed7953"
             ],
             [
              0.7777777777777778,
              "#fb9f3a"
             ],
             [
              0.8888888888888888,
              "#fdca26"
             ],
             [
              1,
              "#f0f921"
             ]
            ],
            "type": "histogram2d"
           }
          ],
          "histogram2dcontour": [
           {
            "colorbar": {
             "outlinewidth": 0,
             "ticks": ""
            },
            "colorscale": [
             [
              0,
              "#0d0887"
             ],
             [
              0.1111111111111111,
              "#46039f"
             ],
             [
              0.2222222222222222,
              "#7201a8"
             ],
             [
              0.3333333333333333,
              "#9c179e"
             ],
             [
              0.4444444444444444,
              "#bd3786"
             ],
             [
              0.5555555555555556,
              "#d8576b"
             ],
             [
              0.6666666666666666,
              "#ed7953"
             ],
             [
              0.7777777777777778,
              "#fb9f3a"
             ],
             [
              0.8888888888888888,
              "#fdca26"
             ],
             [
              1,
              "#f0f921"
             ]
            ],
            "type": "histogram2dcontour"
           }
          ],
          "mesh3d": [
           {
            "colorbar": {
             "outlinewidth": 0,
             "ticks": ""
            },
            "type": "mesh3d"
           }
          ],
          "parcoords": [
           {
            "line": {
             "colorbar": {
              "outlinewidth": 0,
              "ticks": ""
             }
            },
            "type": "parcoords"
           }
          ],
          "pie": [
           {
            "automargin": true,
            "type": "pie"
           }
          ],
          "scatter": [
           {
            "fillpattern": {
             "fillmode": "overlay",
             "size": 10,
             "solidity": 0.2
            },
            "type": "scatter"
           }
          ],
          "scatter3d": [
           {
            "line": {
             "colorbar": {
              "outlinewidth": 0,
              "ticks": ""
             }
            },
            "marker": {
             "colorbar": {
              "outlinewidth": 0,
              "ticks": ""
             }
            },
            "type": "scatter3d"
           }
          ],
          "scattercarpet": [
           {
            "marker": {
             "colorbar": {
              "outlinewidth": 0,
              "ticks": ""
             }
            },
            "type": "scattercarpet"
           }
          ],
          "scattergeo": [
           {
            "marker": {
             "colorbar": {
              "outlinewidth": 0,
              "ticks": ""
             }
            },
            "type": "scattergeo"
           }
          ],
          "scattergl": [
           {
            "marker": {
             "colorbar": {
              "outlinewidth": 0,
              "ticks": ""
             }
            },
            "type": "scattergl"
           }
          ],
          "scattermapbox": [
           {
            "marker": {
             "colorbar": {
              "outlinewidth": 0,
              "ticks": ""
             }
            },
            "type": "scattermapbox"
           }
          ],
          "scatterpolar": [
           {
            "marker": {
             "colorbar": {
              "outlinewidth": 0,
              "ticks": ""
             }
            },
            "type": "scatterpolar"
           }
          ],
          "scatterpolargl": [
           {
            "marker": {
             "colorbar": {
              "outlinewidth": 0,
              "ticks": ""
             }
            },
            "type": "scatterpolargl"
           }
          ],
          "scatterternary": [
           {
            "marker": {
             "colorbar": {
              "outlinewidth": 0,
              "ticks": ""
             }
            },
            "type": "scatterternary"
           }
          ],
          "surface": [
           {
            "colorbar": {
             "outlinewidth": 0,
             "ticks": ""
            },
            "colorscale": [
             [
              0,
              "#0d0887"
             ],
             [
              0.1111111111111111,
              "#46039f"
             ],
             [
              0.2222222222222222,
              "#7201a8"
             ],
             [
              0.3333333333333333,
              "#9c179e"
             ],
             [
              0.4444444444444444,
              "#bd3786"
             ],
             [
              0.5555555555555556,
              "#d8576b"
             ],
             [
              0.6666666666666666,
              "#ed7953"
             ],
             [
              0.7777777777777778,
              "#fb9f3a"
             ],
             [
              0.8888888888888888,
              "#fdca26"
             ],
             [
              1,
              "#f0f921"
             ]
            ],
            "type": "surface"
           }
          ],
          "table": [
           {
            "cells": {
             "fill": {
              "color": "#EBF0F8"
             },
             "line": {
              "color": "white"
             }
            },
            "header": {
             "fill": {
              "color": "#C8D4E3"
             },
             "line": {
              "color": "white"
             }
            },
            "type": "table"
           }
          ]
         },
         "layout": {
          "annotationdefaults": {
           "arrowcolor": "#2a3f5f",
           "arrowhead": 0,
           "arrowwidth": 1
          },
          "autotypenumbers": "strict",
          "coloraxis": {
           "colorbar": {
            "outlinewidth": 0,
            "ticks": ""
           }
          },
          "colorscale": {
           "diverging": [
            [
             0,
             "#8e0152"
            ],
            [
             0.1,
             "#c51b7d"
            ],
            [
             0.2,
             "#de77ae"
            ],
            [
             0.3,
             "#f1b6da"
            ],
            [
             0.4,
             "#fde0ef"
            ],
            [
             0.5,
             "#f7f7f7"
            ],
            [
             0.6,
             "#e6f5d0"
            ],
            [
             0.7,
             "#b8e186"
            ],
            [
             0.8,
             "#7fbc41"
            ],
            [
             0.9,
             "#4d9221"
            ],
            [
             1,
             "#276419"
            ]
           ],
           "sequential": [
            [
             0,
             "#0d0887"
            ],
            [
             0.1111111111111111,
             "#46039f"
            ],
            [
             0.2222222222222222,
             "#7201a8"
            ],
            [
             0.3333333333333333,
             "#9c179e"
            ],
            [
             0.4444444444444444,
             "#bd3786"
            ],
            [
             0.5555555555555556,
             "#d8576b"
            ],
            [
             0.6666666666666666,
             "#ed7953"
            ],
            [
             0.7777777777777778,
             "#fb9f3a"
            ],
            [
             0.8888888888888888,
             "#fdca26"
            ],
            [
             1,
             "#f0f921"
            ]
           ],
           "sequentialminus": [
            [
             0,
             "#0d0887"
            ],
            [
             0.1111111111111111,
             "#46039f"
            ],
            [
             0.2222222222222222,
             "#7201a8"
            ],
            [
             0.3333333333333333,
             "#9c179e"
            ],
            [
             0.4444444444444444,
             "#bd3786"
            ],
            [
             0.5555555555555556,
             "#d8576b"
            ],
            [
             0.6666666666666666,
             "#ed7953"
            ],
            [
             0.7777777777777778,
             "#fb9f3a"
            ],
            [
             0.8888888888888888,
             "#fdca26"
            ],
            [
             1,
             "#f0f921"
            ]
           ]
          },
          "colorway": [
           "#636efa",
           "#EF553B",
           "#00cc96",
           "#ab63fa",
           "#FFA15A",
           "#19d3f3",
           "#FF6692",
           "#B6E880",
           "#FF97FF",
           "#FECB52"
          ],
          "font": {
           "color": "#2a3f5f"
          },
          "geo": {
           "bgcolor": "white",
           "lakecolor": "white",
           "landcolor": "#E5ECF6",
           "showlakes": true,
           "showland": true,
           "subunitcolor": "white"
          },
          "hoverlabel": {
           "align": "left"
          },
          "hovermode": "closest",
          "mapbox": {
           "style": "light"
          },
          "paper_bgcolor": "white",
          "plot_bgcolor": "#E5ECF6",
          "polar": {
           "angularaxis": {
            "gridcolor": "white",
            "linecolor": "white",
            "ticks": ""
           },
           "bgcolor": "#E5ECF6",
           "radialaxis": {
            "gridcolor": "white",
            "linecolor": "white",
            "ticks": ""
           }
          },
          "scene": {
           "xaxis": {
            "backgroundcolor": "#E5ECF6",
            "gridcolor": "white",
            "gridwidth": 2,
            "linecolor": "white",
            "showbackground": true,
            "ticks": "",
            "zerolinecolor": "white"
           },
           "yaxis": {
            "backgroundcolor": "#E5ECF6",
            "gridcolor": "white",
            "gridwidth": 2,
            "linecolor": "white",
            "showbackground": true,
            "ticks": "",
            "zerolinecolor": "white"
           },
           "zaxis": {
            "backgroundcolor": "#E5ECF6",
            "gridcolor": "white",
            "gridwidth": 2,
            "linecolor": "white",
            "showbackground": true,
            "ticks": "",
            "zerolinecolor": "white"
           }
          },
          "shapedefaults": {
           "line": {
            "color": "#2a3f5f"
           }
          },
          "ternary": {
           "aaxis": {
            "gridcolor": "white",
            "linecolor": "white",
            "ticks": ""
           },
           "baxis": {
            "gridcolor": "white",
            "linecolor": "white",
            "ticks": ""
           },
           "bgcolor": "#E5ECF6",
           "caxis": {
            "gridcolor": "white",
            "linecolor": "white",
            "ticks": ""
           }
          },
          "title": {
           "x": 0.05
          },
          "xaxis": {
           "automargin": true,
           "gridcolor": "white",
           "linecolor": "white",
           "ticks": "",
           "title": {
            "standoff": 15
           },
           "zerolinecolor": "white",
           "zerolinewidth": 2
          },
          "yaxis": {
           "automargin": true,
           "gridcolor": "white",
           "linecolor": "white",
           "ticks": "",
           "title": {
            "standoff": 15
           },
           "zerolinecolor": "white",
           "zerolinewidth": 2
          }
         }
        },
        "title": {
         "text": "Elemental Abundance vs Shell Velocity"
        },
        "xaxis": {
         "title": {
          "text": "Inner Velocity (m / s)"
         }
        },
        "yaxis": {
         "title": {
          "text": "Abundance"
         }
        }
       }
      }
     },
     "metadata": {},
     "output_type": "display_data"
    }
   ],
   "source": [
    "# Plot data in Plotly\n",
    "\n",
    "fig = go.Figure()\n",
    "\n",
    "for atomic_number in sim.plasma.selected_atoms:\n",
    "    fig.add_trace(\n",
    "        go.Scatter(\n",
    "            x=shell_velocities,\n",
    "            y=abundances.loc[atomic_number],\n",
    "            mode=\"lines+markers\",\n",
    "            name=ATOM_DATA.symbol.loc[atomic_number],\n",
    "            line=dict(dash=\"dot\"),\n",
    "            line_shape=\"hv\",\n",
    "        )\n",
    "    )\n",
    "\n",
    "# Update layout for a common legend and titles\n",
    "fig.update_layout(\n",
    "    title=\"Elemental Abundance vs Shell Velocity\",\n",
    "    xaxis_title=f\"Inner Velocity ({str(shell_velocities.unit)})\",\n",
    "    yaxis_title=\"Abundance\",\n",
    "    legend_title=\"Ion\",\n",
    ")\n",
    "\n",
    "fig.show()"
   ]
  },
  {
   "cell_type": "markdown",
   "metadata": {},
   "source": [
    "### 3. Number of interactions (escaped) for each element\n"
   ]
  },
  {
   "cell_type": "code",
   "execution_count": 9,
   "metadata": {},
   "outputs": [],
   "source": [
    "LINE_REFERENCE = sim.plasma.atomic_data.lines  # To look up line data by ID"
   ]
  },
  {
   "cell_type": "code",
   "execution_count": 10,
   "metadata": {},
   "outputs": [],
   "source": [
    "def interaction_count_by_ion(line_ids):\n",
    "    \"\"\"\n",
    "    Looks up the line_ids in the line reference table and counts the interactions grouping by (atomic_number, ion_number)\n",
    "    Returns a pd.Series with index containing ion name (Eg: \"Si II\") and corresponding interaction count.\n",
    "    \"\"\"\n",
    "    # Filter out non-escaped packets\n",
    "    line_ids = [line_id for line_id in line_ids if line_id != -1]\n",
    "\n",
    "    # Group by ion\n",
    "    num_lines_per_ion = (\n",
    "        LINE_REFERENCE.iloc[line_ids]\n",
    "        .groupby(level=[\"atomic_number\", \"ion_number\"])\n",
    "        .size()\n",
    "    )\n",
    "\n",
    "    # Create and return new Series\n",
    "    combined_idx = num_lines_per_ion.index.map(\n",
    "        lambda x: f\"{ATOM_DATA.symbol.loc[x[0]]} {int_to_roman(x[1]+1)}\"\n",
    "    )\n",
    "    combined_idx.name = \"Ion\"\n",
    "    return pd.Series(\n",
    "        num_lines_per_ion.values, index=combined_idx, name=\"interaction_count\"\n",
    "    )"
   ]
  },
  {
   "cell_type": "code",
   "execution_count": 11,
   "metadata": {},
   "outputs": [],
   "source": [
    "# Get line interaction IDs and compute counts by ion\n",
    "out_lines = sim.transport.transport_state.last_line_interaction_out_id\n",
    "virt_out_lines = (\n",
    "    sim.transport.transport_state.virt_packet_last_line_interaction_out_id\n",
    ")\n",
    "\n",
    "# Get count per ion\n",
    "out_line_count_by_ion = interaction_count_by_ion(out_lines)\n",
    "virt_out_line_count_by_ion = interaction_count_by_ion(virt_out_lines)"
   ]
  },
  {
   "cell_type": "code",
   "execution_count": 12,
   "metadata": {},
   "outputs": [
    {
     "data": {
      "text/plain": [
       "Ion\n",
       "O I          70\n",
       "O II         92\n",
       "O III       586\n",
       "Mg II      2835\n",
       "Si II      6055\n",
       "Si III    10229\n",
       "Si IV       137\n",
       "S I           2\n",
       "S II       4238\n",
       "S III      1556\n",
       "S IV         19\n",
       "Ar I          6\n",
       "Ar II      1468\n",
       "Ar III       13\n",
       "Ca II      1936\n",
       "Name: interaction_count, dtype: int64"
      ]
     },
     "execution_count": 12,
     "metadata": {},
     "output_type": "execute_result"
    }
   ],
   "source": [
    "# Print the data before plotting\n",
    "out_line_count_by_ion"
   ]
  },
  {
   "cell_type": "code",
   "execution_count": 13,
   "metadata": {},
   "outputs": [
    {
     "data": {
      "text/plain": [
       "Ion\n",
       "O I         9560\n",
       "O II        2200\n",
       "O III      27640\n",
       "Mg II      75800\n",
       "Si II     241460\n",
       "Si III    407050\n",
       "Si IV      17110\n",
       "S I           80\n",
       "S II      165550\n",
       "S III      51000\n",
       "S IV        2780\n",
       "Ar I         480\n",
       "Ar II      30180\n",
       "Ar III      2880\n",
       "Ar IV         10\n",
       "Ca II      37650\n",
       "Name: interaction_count, dtype: int64"
      ]
     },
     "execution_count": 13,
     "metadata": {},
     "output_type": "execute_result"
    }
   ],
   "source": [
    "virt_out_line_count_by_ion"
   ]
  },
  {
   "cell_type": "code",
   "execution_count": 14,
   "metadata": {},
   "outputs": [
    {
     "data": {
      "image/png": "[encoded data removed]",
      "text/plain": [
       "<Figure size 2000x500 with 2 Axes>"
      ]
     },
     "metadata": {},
     "output_type": "display_data"
    }
   ],
   "source": [
    "fig, axes = plt.subplots(nrows=1, ncols=2, figsize=(20, 5))\n",
    "\n",
    "# Plotting for real packets\n",
    "labels = out_line_count_by_ion.index\n",
    "values = out_line_count_by_ion.values\n",
    "\n",
    "xticks = np.arange(len(labels))\n",
    "bars = axes[0].bar(xticks, values, align=\"center\", alpha=0.7, color=\"b\")\n",
    "\n",
    "axes[0].set_xticks(xticks, labels, rotation=\"vertical\")\n",
    "axes[0].set_xlabel(\"Ion\")\n",
    "axes[0].set_ylabel(\"Counts\")\n",
    "axes[0].set_title(\"Last Out Line Interactions per Ion (Real Packets)\")\n",
    "\n",
    "# Plotting for virtual packets\n",
    "labels = virt_out_line_count_by_ion.index\n",
    "values = virt_out_line_count_by_ion.values\n",
    "\n",
    "xticks = np.arange(len(labels))\n",
    "bars = axes[1].bar(xticks, values, align=\"center\", alpha=0.7, color=\"b\")\n",
    "\n",
    "axes[1].set_xticks(xticks, labels, rotation=\"vertical\")\n",
    "axes[1].set_xlabel(\"Ion\")\n",
    "axes[1].set_ylabel(\"Counts\")\n",
    "axes[1].set_title(\"Last Out Line Interactions per Ion (Virtual Packets)\")\n",
    "\n",
    "plt.tight_layout()\n",
    "plt.show()"
   ]
  },
  {
   "cell_type": "code",
   "execution_count": 15,
   "metadata": {},
   "outputs": [
    {
     "data": {
      "application/vnd.plotly.v1+json": {
       "config": {
        "plotlyServerURL": "https://plot.ly"
       },
       "data": [
        {
         "name": "Real Packets",
         "type": "bar",
         "x": [
          "O I",
          "O II",
          "O III",
          "Mg II",
          "Si II",
          "Si III",
          "Si IV",
          "S I",
          "S II",
          "S III",
          "S IV",
          "Ar I",
          "Ar II",
          "Ar III",
          "Ca II"
         ],
         "xaxis": "x",
         "y": [
          70,
          92,
          586,
          2835,
          6055,
          10229,
          137,
          2,
          4238,
          1556,
          19,
          6,
          1468,
          13,
          1936
         ],
         "yaxis": "y"
        },
        {
         "name": "Virtual Packet",
         "type": "bar",
         "x": [
          "O I",
          "O II",
          "O III",
          "Mg II",
          "Si II",
          "Si III",
          "Si IV",
          "S I",
          "S II",
          "S III",
          "S IV",
          "Ar I",
          "Ar II",
          "Ar III",
          "Ar IV",
          "Ca II"
         ],
         "xaxis": "x2",
         "y": [
          9560,
          2200,
          27640,
          75800,
          241460,
          407050,
          17110,
          80,
          165550,
          51000,
          2780,
          480,
          30180,
          2880,
          10,
          37650
         ],
         "yaxis": "y2"
        }
       ],
       "layout": {
        "annotations": [
         {
          "font": {
           "size": 16
          },
          "showarrow": false,
          "text": "Last Out Line Interactions per Ion (Real Packets)",
          "x": 0.225,
          "xanchor": "center",
          "xref": "paper",
          "y": 1,
          "yanchor": "bottom",
          "yref": "paper"
         },
         {
          "font": {
           "size": 16
          },
          "showarrow": false,
          "text": "Last Out Line Interactions per Ion (Virtual Packets)",
          "x": 0.775,
          "xanchor": "center",
          "xref": "paper",
          "y": 1,
          "yanchor": "bottom",
          "yref": "paper"
         }
        ],
        "template": {
         "data": {
          "bar": [
           {
            "error_x": {
             "color": "#2a3f5f"
            },
            "error_y": {
             "color": "#2a3f5f"
            },
            "marker": {
             "line": {
              "color": "#E5ECF6",
              "width": 0.5
             },
             "pattern": {
              "fillmode": "overlay",
              "size": 10,
              "solidity": 0.2
             }
            },
            "type": "bar"
           }
          ],
          "barpolar": [
           {
            "marker": {
             "line": {
              "color": "#E5ECF6",
              "width": 0.5
             },
             "pattern": {
              "fillmode": "overlay",
              "size": 10,
              "solidity": 0.2
             }
            },
            "type": "barpolar"
           }
          ],
          "carpet": [
           {
            "aaxis": {
             "endlinecolor": "#2a3f5f",
             "gridcolor": "white",
             "linecolor": "white",
             "minorgridcolor": "white",
             "startlinecolor": "#2a3f5f"
            },
            "baxis": {
             "endlinecolor": "#2a3f5f",
             "gridcolor": "white",
             "linecolor": "white",
             "minorgridcolor": "white",
             "startlinecolor": "#2a3f5f"
            },
            "type": "carpet"
           }
          ],
          "choropleth": [
           {
            "colorbar": {
             "outlinewidth": 0,
             "ticks": ""
            },
            "type": "choropleth"
           }
          ],
          "contour": [
           {
            "colorbar": {
             "outlinewidth": 0,
             "ticks": ""
            },
            "colorscale": [
             [
              0,
              "#0d0887"
             ],
             [
              0.1111111111111111,
              "#46039f"
             ],
             [
              0.2222222222222222,
              "#7201a8"
             ],
             [
              0.3333333333333333,
              "#9c179e"
             ],
             [
              0.4444444444444444,
              "#bd3786"
             ],
             [
              0.5555555555555556,
              "#d8576b"
             ],
             [
              0.6666666666666666,
              "#ed7953"
             ],
             [
              0.7777777777777778,
              "#fb9f3a"
             ],
             [
              0.8888888888888888,
              "#fdca26"
             ],
             [
              1,
              "#f0f921"
             ]
            ],
            "type": "contour"
           }
          ],
          "contourcarpet": [
           {
            "colorbar": {
             "outlinewidth": 0,
             "ticks": ""
            },
            "type": "contourcarpet"
           }
          ],
          "heatmap": [
           {
            "colorbar": {
             "outlinewidth": 0,
             "ticks": ""
            },
            "colorscale": [
             [
              0,
              "#0d0887"
             ],
             [
              0.1111111111111111,
              "#46039f"
             ],
             [
              0.2222222222222222,
              "#7201a8"
             ],
             [
              0.3333333333333333,
              "#9c179e"
             ],
             [
              0.4444444444444444,
              "#bd3786"
             ],
             [
              0.5555555555555556,
              "#d8576b"
             ],
             [
              0.6666666666666666,
              "#ed7953"
             ],
             [
              0.7777777777777778,
              "#fb9f3a"
             ],
             [
              0.8888888888888888,
              "#fdca26"
             ],
             [
              1,
              "#f0f921"
             ]
            ],
            "type": "heatmap"
           }
          ],
          "heatmapgl": [
           {
            "colorbar": {
             "outlinewidth": 0,
             "ticks": ""
            },
            "colorscale": [
             [
              0,
              "#0d0887"
             ],
             [
              0.1111111111111111,
              "#46039f"
             ],
             [
              0.2222222222222222,
              "#7201a8"
             ],
             [
              0.3333333333333333,
              "#9c179e"
             ],
             [
              0.4444444444444444,
              "#bd3786"
             ],
             [
              0.5555555555555556,
              "#d8576b"
             ],
             [
              0.6666666666666666,
              "#ed7953"
             ],
             [
              0.7777777777777778,
              "#fb9f3a"
             ],
             [
              0.8888888888888888,
              "#fdca26"
             ],
             [
              1,
              "#f0f921"
             ]
            ],
            "type": "heatmapgl"
           }
          ],
          "histogram": [
           {
            "marker": {
             "pattern": {
              "fillmode": "overlay",
              "size": 10,
              "solidity": 0.2
             }
            },
            "type": "histogram"
           }
          ],
          "histogram2d": [
           {
            "colorbar": {
             "outlinewidth": 0,
             "ticks": ""
            },
            "colorscale": [
             [
              0,
              "#0d0887"
             ],
             [
              0.1111111111111111,
              "#46039f"
             ],
             [
              0.2222222222222222,
              "#7201a8"
             ],
             [
              0.3333333333333333,
              "#9c179e"
             ],
             [
              0.4444444444444444,
              "#bd3786"
             ],
             [
              0.5555555555555556,
              "#d8576b"
             ],
             [
              0.6666666666666666,
              "#ed7953"
             ],
             [
              0.7777777777777778,
              "#fb9f3a"
             ],
             [
              0.8888888888888888,
              "#fdca26"
             ],
             [
              1,
              "#f0f921"
             ]
            ],
            "type": "histogram2d"
           }
          ],
          "histogram2dcontour": [
           {
            "colorbar": {
             "outlinewidth": 0,
             "ticks": ""
            },
            "colorscale": [
             [
              0,
              "#0d0887"
             ],
             [
              0.1111111111111111,
              "#46039f"
             ],
             [
              0.2222222222222222,
              "#7201a8"
             ],
             [
              0.3333333333333333,
              "#9c179e"
             ],
             [
              0.4444444444444444,
              "#bd3786"
             ],
             [
              0.5555555555555556,
              "#d8576b"
             ],
             [
              0.6666666666666666,
              "#ed7953"
             ],
             [
              0.7777777777777778,
              "#fb9f3a"
             ],
             [
              0.8888888888888888,
              "#fdca26"
             ],
             [
              1,
              "#f0f921"
             ]
            ],
            "type": "histogram2dcontour"
           }
          ],
          "mesh3d": [
           {
            "colorbar": {
             "outlinewidth": 0,
             "ticks": ""
            },
            "type": "mesh3d"
           }
          ],
          "parcoords": [
           {
            "line": {
             "colorbar": {
              "outlinewidth": 0,
              "ticks": ""
             }
            },
            "type": "parcoords"
           }
          ],
          "pie": [
           {
            "automargin": true,
            "type": "pie"
           }
          ],
          "scatter": [
           {
            "fillpattern": {
             "fillmode": "overlay",
             "size": 10,
             "solidity": 0.2
            },
            "type": "scatter"
           }
          ],
          "scatter3d": [
           {
            "line": {
             "colorbar": {
              "outlinewidth": 0,
              "ticks": ""
             }
            },
            "marker": {
             "colorbar": {
              "outlinewidth": 0,
              "ticks": ""
             }
            },
            "type": "scatter3d"
           }
          ],
          "scattercarpet": [
           {
            "marker": {
             "colorbar": {
              "outlinewidth": 0,
              "ticks": ""
             }
            },
            "type": "scattercarpet"
           }
          ],
          "scattergeo": [
           {
            "marker": {
             "colorbar": {
              "outlinewidth": 0,
              "ticks": ""
             }
            },
            "type": "scattergeo"
           }
          ],
          "scattergl": [
           {
            "marker": {
             "colorbar": {
              "outlinewidth": 0,
              "ticks": ""
             }
            },
            "type": "scattergl"
           }
          ],
          "scattermapbox": [
           {
            "marker": {
             "colorbar": {
              "outlinewidth": 0,
              "ticks": ""
             }
            },
            "type": "scattermapbox"
           }
          ],
          "scatterpolar": [
           {
            "marker": {
             "colorbar": {
              "outlinewidth": 0,
              "ticks": ""
             }
            },
            "type": "scatterpolar"
           }
          ],
          "scatterpolargl": [
           {
            "marker": {
             "colorbar": {
              "outlinewidth": 0,
              "ticks": ""
             }
            },
            "type": "scatterpolargl"
           }
          ],
          "scatterternary": [
           {
            "marker": {
             "colorbar": {
              "outlinewidth": 0,
              "ticks": ""
             }
            },
            "type": "scatterternary"
           }
          ],
          "surface": [
           {
            "colorbar": {
             "outlinewidth": 0,
             "ticks": ""
            },
            "colorscale": [
             [
              0,
              "#0d0887"
             ],
             [
              0.1111111111111111,
              "#46039f"
             ],
             [
              0.2222222222222222,
              "#7201a8"
             ],
             [
              0.3333333333333333,
              "#9c179e"
             ],
             [
              0.4444444444444444,
              "#bd3786"
             ],
             [
              0.5555555555555556,
              "#d8576b"
             ],
             [
              0.6666666666666666,
              "#ed7953"
             ],
             [
              0.7777777777777778,
              "#fb9f3a"
             ],
             [
              0.8888888888888888,
              "#fdca26"
             ],
             [
              1,
              "#f0f921"
             ]
            ],
            "type": "surface"
           }
          ],
          "table": [
           {
            "cells": {
             "fill": {
              "color": "#EBF0F8"
             },
             "line": {
              "color": "white"
             }
            },
            "header": {
             "fill": {
              "color": "#C8D4E3"
             },
             "line": {
              "color": "white"
             }
            },
            "type": "table"
           }
          ]
         },
         "layout": {
          "annotationdefaults": {
           "arrowcolor": "#2a3f5f",
           "arrowhead": 0,
           "arrowwidth": 1
          },
          "autotypenumbers": "strict",
          "coloraxis": {
           "colorbar": {
            "outlinewidth": 0,
            "ticks": ""
           }
          },
          "colorscale": {
           "diverging": [
            [
             0,
             "#8e0152"
            ],
            [
             0.1,
             "#c51b7d"
            ],
            [
             0.2,
             "#de77ae"
            ],
            [
             0.3,
             "#f1b6da"
            ],
            [
             0.4,
             "#fde0ef"
            ],
            [
             0.5,
             "#f7f7f7"
            ],
            [
             0.6,
             "#e6f5d0"
            ],
            [
             0.7,
             "#b8e186"
            ],
            [
             0.8,
             "#7fbc41"
            ],
            [
             0.9,
             "#4d9221"
            ],
            [
             1,
             "#276419"
            ]
           ],
           "sequential": [
            [
             0,
             "#0d0887"
            ],
            [
             0.1111111111111111,
             "#46039f"
            ],
            [
             0.2222222222222222,
             "#7201a8"
            ],
            [
             0.3333333333333333,
             "#9c179e"
            ],
            [
             0.4444444444444444,
             "#bd3786"
            ],
            [
             0.5555555555555556,
             "#d8576b"
            ],
            [
             0.6666666666666666,
             "#ed7953"
            ],
            [
             0.7777777777777778,
             "#fb9f3a"
            ],
            [
             0.8888888888888888,
             "#fdca26"
            ],
            [
             1,
             "#f0f921"
            ]
           ],
           "sequentialminus": [
            [
             0,
             "#0d0887"
            ],
            [
             0.1111111111111111,
             "#46039f"
            ],
            [
             0.2222222222222222,
             "#7201a8"
            ],
            [
             0.3333333333333333,
             "#9c179e"
            ],
            [
             0.4444444444444444,
             "#bd3786"
            ],
            [
             0.5555555555555556,
             "#d8576b"
            ],
            [
             0.6666666666666666,
             "#ed7953"
            ],
            [
             0.7777777777777778,
             "#fb9f3a"
            ],
            [
             0.8888888888888888,
             "#fdca26"
            ],
            [
             1,
             "#f0f921"
            ]
           ]
          },
          "colorway": [
           "#636efa",
           "#EF553B",
           "#00cc96",
           "#ab63fa",
           "#FFA15A",
           "#19d3f3",
           "#FF6692",
           "#B6E880",
           "#FF97FF",
           "#FECB52"
          ],
          "font": {
           "color": "#2a3f5f"
          },
          "geo": {
           "bgcolor": "white",
           "lakecolor": "white",
           "landcolor": "#E5ECF6",
           "showlakes": true,
           "showland": true,
           "subunitcolor": "white"
          },
          "hoverlabel": {
           "align": "left"
          },
          "hovermode": "closest",
          "mapbox": {
           "style": "light"
          },
          "paper_bgcolor": "white",
          "plot_bgcolor": "#E5ECF6",
          "polar": {
           "angularaxis": {
            "gridcolor": "white",
            "linecolor": "white",
            "ticks": ""
           },
           "bgcolor": "#E5ECF6",
           "radialaxis": {
            "gridcolor": "white",
            "linecolor": "white",
            "ticks": ""
           }
          },
          "scene": {
           "xaxis": {
            "backgroundcolor": "#E5ECF6",
            "gridcolor": "white",
            "gridwidth": 2,
            "linecolor": "white",
            "showbackground": true,
            "ticks": "",
            "zerolinecolor": "white"
           },
           "yaxis": {
            "backgroundcolor": "#E5ECF6",
            "gridcolor": "white",
            "gridwidth": 2,
            "linecolor": "white",
            "showbackground": true,
            "ticks": "",
            "zerolinecolor": "white"
           },
           "zaxis": {
            "backgroundcolor": "#E5ECF6",
            "gridcolor": "white",
            "gridwidth": 2,
            "linecolor": "white",
            "showbackground": true,
            "ticks": "",
            "zerolinecolor": "white"
           }
          },
          "shapedefaults": {
           "line": {
            "color": "#2a3f5f"
           }
          },
          "ternary": {
           "aaxis": {
            "gridcolor": "white",
            "linecolor": "white",
            "ticks": ""
           },
           "baxis": {
            "gridcolor": "white",
            "linecolor": "white",
            "ticks": ""
           },
           "bgcolor": "#E5ECF6",
           "caxis": {
            "gridcolor": "white",
            "linecolor": "white",
            "ticks": ""
           }
          },
          "title": {
           "x": 0.05
          },
          "xaxis": {
           "automargin": true,
           "gridcolor": "white",
           "linecolor": "white",
           "ticks": "",
           "title": {
            "standoff": 15
           },
           "zerolinecolor": "white",
           "zerolinewidth": 2
          },
          "yaxis": {
           "automargin": true,
           "gridcolor": "white",
           "linecolor": "white",
           "ticks": "",
           "title": {
            "standoff": 15
           },
           "zerolinecolor": "white",
           "zerolinewidth": 2
          }
         }
        },
        "xaxis": {
         "anchor": "y",
         "domain": [
          0,
          0.45
         ],
         "title": {
          "text": "Ion"
         }
        },
        "xaxis2": {
         "anchor": "y2",
         "domain": [
          0.55,
          1
         ],
         "title": {
          "text": "Ion"
         }
        },
        "yaxis": {
         "anchor": "x",
         "domain": [
          0,
          1
         ],
         "title": {
          "text": "Counts"
         }
        },
        "yaxis2": {
         "anchor": "x2",
         "domain": [
          0,
          1
         ],
         "title": {
          "text": "Counts"
         }
        }
       }
      }
     },
     "metadata": {},
     "output_type": "display_data"
    }
   ],
   "source": [
    "## Creating plots in plotly\n",
    "\n",
    "fig = make_subplots(\n",
    "    rows=1,\n",
    "    cols=2,\n",
    "    subplot_titles=(\n",
    "        \"Last Out Line Interactions per Ion (Real Packets)\",\n",
    "        \"Last Out Line Interactions per Ion (Virtual Packets)\",\n",
    "    ),\n",
    ")\n",
    "\n",
    "# Trace for Real packets\n",
    "fig.add_trace(\n",
    "    go.Bar(\n",
    "        x=out_line_count_by_ion.index,\n",
    "        y=out_line_count_by_ion.values,\n",
    "        name=\"Real Packets\",\n",
    "    ),\n",
    "    row=1,\n",
    "    col=1,\n",
    ")\n",
    "\n",
    "# Trace for Virtual packets\n",
    "fig.add_trace(\n",
    "    go.Bar(\n",
    "        x=virt_out_line_count_by_ion.index,\n",
    "        y=virt_out_line_count_by_ion.values,\n",
    "        name=\"Virtual Packet\",\n",
    "    ),\n",
    "    row=1,\n",
    "    col=2,\n",
    ")\n",
    "\n",
    "fig.update_xaxes(title_text=\"Ion\", row=1, col=1)\n",
    "fig.update_xaxes(title_text=\"Ion\", row=1, col=2)\n",
    "fig.update_yaxes(title_text=\"Counts\", row=1, col=1)\n",
    "fig.update_yaxes(title_text=\"Counts\", row=1, col=2)\n",
    "\n",
    "fig.show()"
   ]
  }
 ],
 "metadata": {
  "kernelspec": {
   "display_name": "tardis",
   "language": "python",
   "name": "python3"
  },
  "language_info": {
   "codemirror_mode": {
    "name": "ipython",
    "version": 3
   },
   "file_extension": ".py",
   "mimetype": "text/x-python",
   "name": "python",
   "nbconvert_exporter": "python",
   "pygments_lexer": "ipython3",
   "version": "3.11.5"
  }
 },
 "nbformat": 4,
 "nbformat_minor": 2
}
