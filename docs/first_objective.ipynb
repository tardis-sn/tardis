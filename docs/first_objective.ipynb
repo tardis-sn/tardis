{
 "cells": [
  {
   "cell_type": "markdown",
   "metadata": {},
   "source": [
    "# First Objective: Velocity Packet Tracker Visualisation\n",
    "\n",
    "## Google Summer of Code 2024\n",
    "\n",
    "Author: Sarthak Srivastava\n"
   ]
  },
  {
   "cell_type": "code",
   "execution_count": 1,
   "metadata": {},
   "outputs": [
    {
     "name": "stderr",
     "output_type": "stream",
     "text": [
      "/Users/archil/Documents/tardis/tardis/__init__.py:20: UserWarning: Astropy is already imported externally. Astropy should be imported after TARDIS.\n",
      "  warnings.warn(\n"
     ]
    },
    {
     "data": {
      "application/vnd.jupyter.widget-view+json": {
       "model_id": "8de6446381ab43658dd4638a3568cf10",
       "version_major": 2,
       "version_minor": 0
      },
      "text/plain": [
       "Iterations:          0/? [00:00<?, ?it/s]"
      ]
     },
     "metadata": {},
     "output_type": "display_data"
    },
    {
     "data": {
      "application/vnd.jupyter.widget-view+json": {
       "model_id": "69b2154c53c44eca905dcf6de4fdfa31",
       "version_major": 2,
       "version_minor": 0
      },
      "text/plain": [
       "Packets:             0/? [00:00<?, ?it/s]"
      ]
     },
     "metadata": {},
     "output_type": "display_data"
    }
   ],
   "source": [
    "# Imports\n",
    "import numpy as np\n",
    "import matplotlib.pyplot as plt\n",
    "import pandas as pd\n",
    "import plotly.graph_objects as go\n",
    "from plotly.subplots import make_subplots\n",
    "from astropy import units as u\n",
    "\n",
    "from tardis import run_tardis\n",
    "from tardis.io.atom_data.util import download_atom_data\n",
    "from tardis.util.base import int_to_roman\n",
    "from tardis.visualization import SDECPlotter"
   ]
  },
  {
   "cell_type": "markdown",
   "metadata": {},
   "source": [
    "### 1. Run simulation and generate SDEC Plot\n"
   ]
  },
  {
   "cell_type": "code",
   "execution_count": 2,
   "metadata": {},
   "outputs": [
    {
     "name": "stderr",
     "output_type": "stream",
     "text": [
      "Atomic Data kurucz_cd23_chianti_H_He already exists in /Users/archil/Downloads/tardis-data/kurucz_cd23_chianti_H_He.h5. Will not download - override with force_download=True.\n"
     ]
    }
   ],
   "source": [
    "# Download atom data\n",
    "download_atom_data(\"kurucz_cd23_chianti_H_He\")"
   ]
  },
  {
   "cell_type": "code",
   "execution_count": 3,
   "metadata": {},
   "outputs": [
    {
     "name": "stdout",
     "output_type": "stream",
     "text": [
      "[\u001b[1mpy.warnings         \u001b[0m][\u001b[1;33mWARNING\u001b[0m]  \n",
      "\t/Users/archil/Documents/tardis/tardis/plasma/properties/radiative_properties.py:93: RuntimeWarning: invalid value encountered in divide\n",
      "  (g_lower * n_upper) / (g_upper * n_lower)\n",
      " (\u001b[1mwarnings.py\u001b[0m:109)\n"
     ]
    },
    {
     "name": "stderr",
     "output_type": "stream",
     "text": [
      "OMP: Info #276: omp_set_nested routine deprecated, please use omp_set_max_active_levels instead.\n"
     ]
    },
    {
     "name": "stdout",
     "output_type": "stream",
     "text": [
      "[\u001b[1mpy.warnings         \u001b[0m][\u001b[1;33mWARNING\u001b[0m]  \n",
      "\t/Users/archil/Documents/tardis/tardis/plasma/properties/radiative_properties.py:93: RuntimeWarning: invalid value encountered in divide\n",
      "  (g_lower * n_upper) / (g_upper * n_lower)\n",
      " (\u001b[1mwarnings.py\u001b[0m:109)\n"
     ]
    },
    {
     "data": {
      "application/vnd.jupyter.widget-view+json": {
       "model_id": "3104e77649714978b671c151439ae437",
       "version_major": 2,
       "version_minor": 0
      },
      "text/plain": [
       "TqdmHBox(children=(HTML(value='Iterations:', layout=Layout(width='6%')), FloatProgress(value=0.0, layout=Layou…"
      ]
     },
     "metadata": {},
     "output_type": "display_data"
    },
    {
     "data": {
      "application/vnd.jupyter.widget-view+json": {
       "model_id": "5baba45685314e6090d68854c24fcd10",
       "version_major": 2,
       "version_minor": 0
      },
      "text/plain": [
       "TqdmHBox(children=(HTML(value='Packets:   ', layout=Layout(width='6%')), FloatProgress(value=0.0, layout=Layou…"
      ]
     },
     "metadata": {},
     "output_type": "display_data"
    },
    {
     "name": "stdout",
     "output_type": "stream",
     "text": [
      "[\u001b[1mpy.warnings         \u001b[0m][\u001b[1;33mWARNING\u001b[0m]  \n",
      "\t/Users/archil/Documents/tardis/tardis/plasma/properties/radiative_properties.py:93: RuntimeWarning: invalid value encountered in divide\n",
      "  (g_lower * n_upper) / (g_upper * n_lower)\n",
      " (\u001b[1mwarnings.py\u001b[0m:109)\n"
     ]
    },
    {
     "data": {
      "application/vnd.jupyter.widget-view+json": {
       "model_id": "157512d7698b47debc9833db2864eab8",
       "version_major": 2,
       "version_minor": 0
      },
      "text/plain": [
       "VBox(children=(FigureWidget({\n",
       "    'data': [{'type': 'scatter', 'uid': '6b35e685-d59f-4f3c-903b-fa16472b7be8', …"
      ]
     },
     "metadata": {},
     "output_type": "display_data"
    },
    {
     "name": "stdout",
     "output_type": "stream",
     "text": [
      "[\u001b[1mpy.warnings         \u001b[0m][\u001b[1;33mWARNING\u001b[0m]  \n",
      "\t/Users/archil/Documents/tardis/tardis/plasma/properties/radiative_properties.py:93: RuntimeWarning:\n",
      "\n",
      "invalid value encountered in divide\n",
      "\n",
      " (\u001b[1mwarnings.py\u001b[0m:109)\n",
      "[\u001b[1mpy.warnings         \u001b[0m][\u001b[1;33mWARNING\u001b[0m]  \n",
      "\t/Users/archil/Documents/tardis/tardis/plasma/properties/radiative_properties.py:93: RuntimeWarning:\n",
      "\n",
      "invalid value encountered in divide\n",
      "\n",
      " (\u001b[1mwarnings.py\u001b[0m:109)\n",
      "[\u001b[1mpy.warnings         \u001b[0m][\u001b[1;33mWARNING\u001b[0m]  \n",
      "\t/Users/archil/Documents/tardis/tardis/plasma/properties/radiative_properties.py:93: RuntimeWarning:\n",
      "\n",
      "invalid value encountered in divide\n",
      "\n",
      " (\u001b[1mwarnings.py\u001b[0m:109)\n",
      "[\u001b[1mpy.warnings         \u001b[0m][\u001b[1;33mWARNING\u001b[0m]  \n",
      "\t/Users/archil/Documents/tardis/tardis/plasma/properties/radiative_properties.py:93: RuntimeWarning:\n",
      "\n",
      "invalid value encountered in divide\n",
      "\n",
      " (\u001b[1mwarnings.py\u001b[0m:109)\n",
      "[\u001b[1mpy.warnings         \u001b[0m][\u001b[1;33mWARNING\u001b[0m]  \n",
      "\t/Users/archil/Documents/tardis/tardis/plasma/properties/radiative_properties.py:93: RuntimeWarning:\n",
      "\n",
      "invalid value encountered in divide\n",
      "\n",
      " (\u001b[1mwarnings.py\u001b[0m:109)\n",
      "[\u001b[1mpy.warnings         \u001b[0m][\u001b[1;33mWARNING\u001b[0m]  \n",
      "\t/Users/archil/Documents/tardis/tardis/plasma/properties/radiative_properties.py:93: RuntimeWarning:\n",
      "\n",
      "invalid value encountered in divide\n",
      "\n",
      " (\u001b[1mwarnings.py\u001b[0m:109)\n",
      "[\u001b[1mpy.warnings         \u001b[0m][\u001b[1;33mWARNING\u001b[0m]  \n",
      "\t/Users/archil/Documents/tardis/tardis/plasma/properties/radiative_properties.py:93: RuntimeWarning:\n",
      "\n",
      "invalid value encountered in divide\n",
      "\n",
      " (\u001b[1mwarnings.py\u001b[0m:109)\n",
      "[\u001b[1mpy.warnings         \u001b[0m][\u001b[1;33mWARNING\u001b[0m]  \n",
      "\t/Users/archil/Documents/tardis/tardis/plasma/properties/radiative_properties.py:93: RuntimeWarning:\n",
      "\n",
      "invalid value encountered in divide\n",
      "\n",
      " (\u001b[1mwarnings.py\u001b[0m:109)\n",
      "[\u001b[1mpy.warnings         \u001b[0m][\u001b[1;33mWARNING\u001b[0m]  \n",
      "\t/Users/archil/Documents/tardis/tardis/plasma/properties/radiative_properties.py:93: RuntimeWarning:\n",
      "\n",
      "invalid value encountered in divide\n",
      "\n",
      " (\u001b[1mwarnings.py\u001b[0m:109)\n",
      "[\u001b[1mpy.warnings         \u001b[0m][\u001b[1;33mWARNING\u001b[0m]  \n",
      "\t/Users/archil/Documents/tardis/tardis/plasma/properties/radiative_properties.py:93: RuntimeWarning:\n",
      "\n",
      "invalid value encountered in divide\n",
      "\n",
      " (\u001b[1mwarnings.py\u001b[0m:109)\n",
      "[\u001b[1mpy.warnings         \u001b[0m][\u001b[1;33mWARNING\u001b[0m]  \n",
      "\t/Users/archil/Documents/tardis/tardis/plasma/properties/radiative_properties.py:93: RuntimeWarning:\n",
      "\n",
      "invalid value encountered in divide\n",
      "\n",
      " (\u001b[1mwarnings.py\u001b[0m:109)\n",
      "[\u001b[1mpy.warnings         \u001b[0m][\u001b[1;33mWARNING\u001b[0m]  \n",
      "\t/Users/archil/Documents/tardis/tardis/plasma/properties/radiative_properties.py:93: RuntimeWarning:\n",
      "\n",
      "invalid value encountered in divide\n",
      "\n",
      " (\u001b[1mwarnings.py\u001b[0m:109)\n",
      "[\u001b[1mpy.warnings         \u001b[0m][\u001b[1;33mWARNING\u001b[0m]  \n",
      "\t/Users/archil/Documents/tardis/tardis/plasma/properties/radiative_properties.py:93: RuntimeWarning:\n",
      "\n",
      "invalid value encountered in divide\n",
      "\n",
      " (\u001b[1mwarnings.py\u001b[0m:109)\n",
      "[\u001b[1mpy.warnings         \u001b[0m][\u001b[1;33mWARNING\u001b[0m]  \n",
      "\t/Users/archil/Documents/tardis/tardis/plasma/properties/radiative_properties.py:93: RuntimeWarning:\n",
      "\n",
      "invalid value encountered in divide\n",
      "\n",
      " (\u001b[1mwarnings.py\u001b[0m:109)\n",
      "[\u001b[1mpy.warnings         \u001b[0m][\u001b[1;33mWARNING\u001b[0m]  \n",
      "\t/Users/archil/Documents/tardis/tardis/plasma/properties/radiative_properties.py:93: RuntimeWarning:\n",
      "\n",
      "invalid value encountered in divide\n",
      "\n",
      " (\u001b[1mwarnings.py\u001b[0m:109)\n",
      "[\u001b[1mpy.warnings         \u001b[0m][\u001b[1;33mWARNING\u001b[0m]  \n",
      "\t/Users/archil/Documents/tardis/tardis/plasma/properties/radiative_properties.py:93: RuntimeWarning:\n",
      "\n",
      "invalid value encountered in divide\n",
      "\n",
      " (\u001b[1mwarnings.py\u001b[0m:109)\n",
      "[\u001b[1mpy.warnings         \u001b[0m][\u001b[1;33mWARNING\u001b[0m]  \n",
      "\t/Users/archil/Documents/tardis/tardis/plasma/properties/radiative_properties.py:93: RuntimeWarning:\n",
      "\n",
      "invalid value encountered in divide\n",
      "\n",
      " (\u001b[1mwarnings.py\u001b[0m:109)\n",
      "[\u001b[1mpy.warnings         \u001b[0m][\u001b[1;33mWARNING\u001b[0m]  \n",
      "\t/Users/archil/Documents/tardis/tardis/plasma/properties/radiative_properties.py:93: RuntimeWarning:\n",
      "\n",
      "invalid value encountered in divide\n",
      "\n",
      " (\u001b[1mwarnings.py\u001b[0m:109)\n"
     ]
    },
    {
     "data": {
      "text/html": [
       "        <script type=\"text/javascript\">\n",
       "        window.PlotlyConfig = {MathJaxConfig: 'local'};\n",
       "        if (window.MathJax && window.MathJax.Hub && window.MathJax.Hub.Config) {window.MathJax.Hub.Config({SVG: {font: \"STIX-Web\"}});}\n",
       "        if (typeof require !== 'undefined') {\n",
       "        require.undef(\"plotly\");\n",
       "        requirejs.config({\n",
       "            paths: {\n",
       "                'plotly': ['https://cdn.plot.ly/plotly-2.26.0.min']\n",
       "            }\n",
       "        });\n",
       "        require(['plotly'], function(Plotly) {\n",
       "            window._Plotly = Plotly;\n",
       "        });\n",
       "        }\n",
       "        </script>\n",
       "        "
      ]
     },
     "metadata": {},
     "output_type": "display_data"
    },
    {
     "data": {
      "text/html": [
       "<div>                            <div id=\"e4aa1d32-9977-4b79-8a62-a84e823cf8d2\" class=\"plotly-graph-div\" style=\"height:450px; width:100%;\"></div>            <script type=\"text/javascript\">                require([\"plotly\"], function(Plotly) {                    window.PLOTLYENV=window.PLOTLYENV || {};                                    if (document.getElementById(\"e4aa1d32-9977-4b79-8a62-a84e823cf8d2\")) {                    Plotly.newPlot(                        \"e4aa1d32-9977-4b79-8a62-a84e823cf8d2\",                        [{\"type\":\"scatter\",\"uid\":\"6b35e685-d59f-4f3c-903b-fa16472b7be8\",\"xaxis\":\"x\",\"yaxis\":\"y\"},{\"type\":\"scatter\",\"uid\":\"a6c49305-d685-4f4b-a353-94055acfe8b0\",\"xaxis\":\"x2\",\"yaxis\":\"y2\"},{\"customdata\":[\"\\u003cbr\\u003eEmitted Luminosity: 7.942e+42\\u003cbr\\u003eRequested Luminosity: 1.059e+43\\u003cbr\\u003eAbsorbed Luminosity: 2.659e+42\",\"\\u003cbr\\u003eEmitted Luminosity: 7.942e+42\\u003cbr\\u003eRequested Luminosity: 1.059e+43\\u003cbr\\u003eAbsorbed Luminosity: 2.659e+42\",\"\\u003cbr\\u003eEmitted Luminosity: 7.942e+42\\u003cbr\\u003eRequested Luminosity: 1.059e+43\\u003cbr\\u003eAbsorbed Luminosity: 2.659e+42\",\"\\u003cbr\\u003eEmitted Luminosity: 7.942e+42\\u003cbr\\u003eRequested Luminosity: 1.059e+43\\u003cbr\\u003eAbsorbed Luminosity: 2.659e+42\",\"\\u003cbr\\u003eEmitted Luminosity: 7.942e+42\\u003cbr\\u003eRequested Luminosity: 1.059e+43\\u003cbr\\u003eAbsorbed Luminosity: 2.659e+42\",\"\\u003cbr\\u003eEmitted Luminosity: 7.942e+42\\u003cbr\\u003eRequested Luminosity: 1.059e+43\\u003cbr\\u003eAbsorbed Luminosity: 2.659e+42\",\"\\u003cbr\\u003eEmitted Luminosity: 7.942e+42\\u003cbr\\u003eRequested Luminosity: 1.059e+43\\u003cbr\\u003eAbsorbed Luminosity: 2.659e+42\",\"\\u003cbr\\u003eEmitted Luminosity: 7.942e+42\\u003cbr\\u003eRequested Luminosity: 1.059e+43\\u003cbr\\u003eAbsorbed Luminosity: 2.659e+42\",\"\\u003cbr\\u003eEmitted Luminosity: 7.942e+42\\u003cbr\\u003eRequested Luminosity: 1.059e+43\\u003cbr\\u003eAbsorbed Luminosity: 2.659e+42\",\"\\u003cbr\\u003eEmitted Luminosity: 7.942e+42\\u003cbr\\u003eRequested Luminosity: 1.059e+43\\u003cbr\\u003eAbsorbed Luminosity: 2.659e+42\",\"\\u003cbr\\u003eEmitted Luminosity: 7.942e+42\\u003cbr\\u003eRequested Luminosity: 1.059e+43\\u003cbr\\u003eAbsorbed Luminosity: 2.659e+42\",\"\\u003cbr\\u003eEmitted Luminosity: 7.942e+42\\u003cbr\\u003eRequested Luminosity: 1.059e+43\\u003cbr\\u003eAbsorbed Luminosity: 2.659e+42\",\"\\u003cbr\\u003eEmitted Luminosity: 7.942e+42\\u003cbr\\u003eRequested Luminosity: 1.059e+43\\u003cbr\\u003eAbsorbed Luminosity: 2.659e+42\",\"\\u003cbr\\u003eEmitted Luminosity: 7.942e+42\\u003cbr\\u003eRequested Luminosity: 1.059e+43\\u003cbr\\u003eAbsorbed Luminosity: 2.659e+42\",\"\\u003cbr\\u003eEmitted Luminosity: 7.942e+42\\u003cbr\\u003eRequested Luminosity: 1.059e+43\\u003cbr\\u003eAbsorbed Luminosity: 2.659e+42\",\"\\u003cbr\\u003eEmitted Luminosity: 7.942e+42\\u003cbr\\u003eRequested Luminosity: 1.059e+43\\u003cbr\\u003eAbsorbed Luminosity: 2.659e+42\",\"\\u003cbr\\u003eEmitted Luminosity: 7.942e+42\\u003cbr\\u003eRequested Luminosity: 1.059e+43\\u003cbr\\u003eAbsorbed Luminosity: 2.659e+42\",\"\\u003cbr\\u003eEmitted Luminosity: 7.942e+42\\u003cbr\\u003eRequested Luminosity: 1.059e+43\\u003cbr\\u003eAbsorbed Luminosity: 2.659e+42\",\"\\u003cbr\\u003eEmitted Luminosity: 7.942e+42\\u003cbr\\u003eRequested Luminosity: 1.059e+43\\u003cbr\\u003eAbsorbed Luminosity: 2.659e+42\",\"\\u003cbr\\u003eEmitted Luminosity: 7.942e+42\\u003cbr\\u003eRequested Luminosity: 1.059e+43\\u003cbr\\u003eAbsorbed Luminosity: 2.659e+42\",\"\\u003cbr\\u003eEmitted Luminosity: 7.942e+42\\u003cbr\\u003eRequested Luminosity: 1.059e+43\\u003cbr\\u003eAbsorbed Luminosity: 2.659e+42\"],\"hovertemplate\":\"\\u003cb\\u003eY\\u003c\\u002fb\\u003e: %{y:.3f} at \\u003cb\\u003eX\\u003c\\u002fb\\u003e = %{x:,.0f}%{customdata}\",\"legendgroup\":\"group-1\",\"line\":{\"color\":\"#000080\"},\"name\":\"1\",\"showlegend\":false,\"x\":[11000.0,11450.000000000002,11900.000000000002,12350.000000000002,12800.000000000002,13250.000000000002,13700.000000000002,14150.000000000002,14600.000000000002,15050.000000000002,15500.000000000002,15950.000000000002,16400.0,16850.0,17300.0,17750.0,18200.0,18650.0,19100.0,19550.0,20000.0],\"y\":[10140.644650616166,10163.140952877357,10199.392800175141,10228.793052873667,10271.147762621125,10224.009723410096,10228.732515941781,10216.980520126603,10217.78303373081,10193.706255012961,10148.778754761697,10080.136787071848,10031.646879496768,10030.254560130767,9988.12701506542,9874.634223301506,9844.474888670162,9776.381884323011,9680.56258534219,9611.593059496607],\"type\":\"scatter\",\"uid\":\"d4e973a0-d2ab-4ab4-83db-14843de1bbeb\",\"xaxis\":\"x\",\"yaxis\":\"y\"},{\"customdata\":[\"\\u003cbr\\u003eEmitted Luminosity: 7.942e+42\\u003cbr\\u003eRequested Luminosity: 1.059e+43\\u003cbr\\u003eAbsorbed Luminosity: 2.659e+42\",\"\\u003cbr\\u003eEmitted Luminosity: 7.942e+42\\u003cbr\\u003eRequested Luminosity: 1.059e+43\\u003cbr\\u003eAbsorbed Luminosity: 2.659e+42\",\"\\u003cbr\\u003eEmitted Luminosity: 7.942e+42\\u003cbr\\u003eRequested Luminosity: 1.059e+43\\u003cbr\\u003eAbsorbed Luminosity: 2.659e+42\",\"\\u003cbr\\u003eEmitted Luminosity: 7.942e+42\\u003cbr\\u003eRequested Luminosity: 1.059e+43\\u003cbr\\u003eAbsorbed Luminosity: 2.659e+42\",\"\\u003cbr\\u003eEmitted Luminosity: 7.942e+42\\u003cbr\\u003eRequested Luminosity: 1.059e+43\\u003cbr\\u003eAbsorbed Luminosity: 2.659e+42\",\"\\u003cbr\\u003eEmitted Luminosity: 7.942e+42\\u003cbr\\u003eRequested Luminosity: 1.059e+43\\u003cbr\\u003eAbsorbed Luminosity: 2.659e+42\",\"\\u003cbr\\u003eEmitted Luminosity: 7.942e+42\\u003cbr\\u003eRequested Luminosity: 1.059e+43\\u003cbr\\u003eAbsorbed Luminosity: 2.659e+42\",\"\\u003cbr\\u003eEmitted Luminosity: 7.942e+42\\u003cbr\\u003eRequested Luminosity: 1.059e+43\\u003cbr\\u003eAbsorbed Luminosity: 2.659e+42\",\"\\u003cbr\\u003eEmitted Luminosity: 7.942e+42\\u003cbr\\u003eRequested Luminosity: 1.059e+43\\u003cbr\\u003eAbsorbed Luminosity: 2.659e+42\",\"\\u003cbr\\u003eEmitted Luminosity: 7.942e+42\\u003cbr\\u003eRequested Luminosity: 1.059e+43\\u003cbr\\u003eAbsorbed Luminosity: 2.659e+42\",\"\\u003cbr\\u003eEmitted Luminosity: 7.942e+42\\u003cbr\\u003eRequested Luminosity: 1.059e+43\\u003cbr\\u003eAbsorbed Luminosity: 2.659e+42\",\"\\u003cbr\\u003eEmitted Luminosity: 7.942e+42\\u003cbr\\u003eRequested Luminosity: 1.059e+43\\u003cbr\\u003eAbsorbed Luminosity: 2.659e+42\",\"\\u003cbr\\u003eEmitted Luminosity: 7.942e+42\\u003cbr\\u003eRequested Luminosity: 1.059e+43\\u003cbr\\u003eAbsorbed Luminosity: 2.659e+42\",\"\\u003cbr\\u003eEmitted Luminosity: 7.942e+42\\u003cbr\\u003eRequested Luminosity: 1.059e+43\\u003cbr\\u003eAbsorbed Luminosity: 2.659e+42\",\"\\u003cbr\\u003eEmitted Luminosity: 7.942e+42\\u003cbr\\u003eRequested Luminosity: 1.059e+43\\u003cbr\\u003eAbsorbed Luminosity: 2.659e+42\",\"\\u003cbr\\u003eEmitted Luminosity: 7.942e+42\\u003cbr\\u003eRequested Luminosity: 1.059e+43\\u003cbr\\u003eAbsorbed Luminosity: 2.659e+42\",\"\\u003cbr\\u003eEmitted Luminosity: 7.942e+42\\u003cbr\\u003eRequested Luminosity: 1.059e+43\\u003cbr\\u003eAbsorbed Luminosity: 2.659e+42\",\"\\u003cbr\\u003eEmitted Luminosity: 7.942e+42\\u003cbr\\u003eRequested Luminosity: 1.059e+43\\u003cbr\\u003eAbsorbed Luminosity: 2.659e+42\",\"\\u003cbr\\u003eEmitted Luminosity: 7.942e+42\\u003cbr\\u003eRequested Luminosity: 1.059e+43\\u003cbr\\u003eAbsorbed Luminosity: 2.659e+42\",\"\\u003cbr\\u003eEmitted Luminosity: 7.942e+42\\u003cbr\\u003eRequested Luminosity: 1.059e+43\\u003cbr\\u003eAbsorbed Luminosity: 2.659e+42\",\"\\u003cbr\\u003eEmitted Luminosity: 7.942e+42\\u003cbr\\u003eRequested Luminosity: 1.059e+43\\u003cbr\\u003eAbsorbed Luminosity: 2.659e+42\"],\"hovertemplate\":\"\\u003cb\\u003eY\\u003c\\u002fb\\u003e: %{y:.3f} at \\u003cb\\u003eX\\u003c\\u002fb\\u003e = %{x:,.0f}%{customdata}\",\"legendgroup\":\"group-1\",\"line\":{\"color\":\"#000080\"},\"name\":\"1\",\"x\":[11000.0,11450.000000000002,11900.000000000002,12350.000000000002,12800.000000000002,13250.000000000002,13700.000000000002,14150.000000000002,14600.000000000002,15050.000000000002,15500.000000000002,15950.000000000002,16400.0,16850.0,17300.0,17750.0,18200.0,18650.0,19100.0,19550.0,20000.0],\"y\":[0.5074939845579157,0.3959383112389325,0.32150485693562664,0.2657378773340717,0.22365159571128676,0.19686688752419332,0.17464279589105305,0.15625093191092376,0.13946942348001398,0.12759533822503932,0.11697795120114873,0.10915672839799584,0.10296463654071963,0.09515332092718962,0.0898174543108572,0.08689548229373133,0.08198790841553129,0.07881149931073989,0.0763726440154105,0.07345198060185132],\"type\":\"scatter\",\"uid\":\"3a0073fa-4891-416f-bf1b-1d5e7affdf12\",\"xaxis\":\"x2\",\"yaxis\":\"y2\"},{\"customdata\":[\"\\u003cbr\\u003eEmitted Luminosity: 1.071e+43\\u003cbr\\u003eRequested Luminosity: 1.059e+43\\u003cbr\\u003eAbsorbed Luminosity: 3.576e+42\",\"\\u003cbr\\u003eEmitted Luminosity: 1.071e+43\\u003cbr\\u003eRequested Luminosity: 1.059e+43\\u003cbr\\u003eAbsorbed Luminosity: 3.576e+42\",\"\\u003cbr\\u003eEmitted Luminosity: 1.071e+43\\u003cbr\\u003eRequested Luminosity: 1.059e+43\\u003cbr\\u003eAbsorbed Luminosity: 3.576e+42\",\"\\u003cbr\\u003eEmitted Luminosity: 1.071e+43\\u003cbr\\u003eRequested Luminosity: 1.059e+43\\u003cbr\\u003eAbsorbed Luminosity: 3.576e+42\",\"\\u003cbr\\u003eEmitted Luminosity: 1.071e+43\\u003cbr\\u003eRequested Luminosity: 1.059e+43\\u003cbr\\u003eAbsorbed Luminosity: 3.576e+42\",\"\\u003cbr\\u003eEmitted Luminosity: 1.071e+43\\u003cbr\\u003eRequested Luminosity: 1.059e+43\\u003cbr\\u003eAbsorbed Luminosity: 3.576e+42\",\"\\u003cbr\\u003eEmitted Luminosity: 1.071e+43\\u003cbr\\u003eRequested Luminosity: 1.059e+43\\u003cbr\\u003eAbsorbed Luminosity: 3.576e+42\",\"\\u003cbr\\u003eEmitted Luminosity: 1.071e+43\\u003cbr\\u003eRequested Luminosity: 1.059e+43\\u003cbr\\u003eAbsorbed Luminosity: 3.576e+42\",\"\\u003cbr\\u003eEmitted Luminosity: 1.071e+43\\u003cbr\\u003eRequested Luminosity: 1.059e+43\\u003cbr\\u003eAbsorbed Luminosity: 3.576e+42\",\"\\u003cbr\\u003eEmitted Luminosity: 1.071e+43\\u003cbr\\u003eRequested Luminosity: 1.059e+43\\u003cbr\\u003eAbsorbed Luminosity: 3.576e+42\",\"\\u003cbr\\u003eEmitted Luminosity: 1.071e+43\\u003cbr\\u003eRequested Luminosity: 1.059e+43\\u003cbr\\u003eAbsorbed Luminosity: 3.576e+42\",\"\\u003cbr\\u003eEmitted Luminosity: 1.071e+43\\u003cbr\\u003eRequested Luminosity: 1.059e+43\\u003cbr\\u003eAbsorbed Luminosity: 3.576e+42\",\"\\u003cbr\\u003eEmitted Luminosity: 1.071e+43\\u003cbr\\u003eRequested Luminosity: 1.059e+43\\u003cbr\\u003eAbsorbed Luminosity: 3.576e+42\",\"\\u003cbr\\u003eEmitted Luminosity: 1.071e+43\\u003cbr\\u003eRequested Luminosity: 1.059e+43\\u003cbr\\u003eAbsorbed Luminosity: 3.576e+42\",\"\\u003cbr\\u003eEmitted Luminosity: 1.071e+43\\u003cbr\\u003eRequested Luminosity: 1.059e+43\\u003cbr\\u003eAbsorbed Luminosity: 3.576e+42\",\"\\u003cbr\\u003eEmitted Luminosity: 1.071e+43\\u003cbr\\u003eRequested Luminosity: 1.059e+43\\u003cbr\\u003eAbsorbed Luminosity: 3.576e+42\",\"\\u003cbr\\u003eEmitted Luminosity: 1.071e+43\\u003cbr\\u003eRequested Luminosity: 1.059e+43\\u003cbr\\u003eAbsorbed Luminosity: 3.576e+42\",\"\\u003cbr\\u003eEmitted Luminosity: 1.071e+43\\u003cbr\\u003eRequested Luminosity: 1.059e+43\\u003cbr\\u003eAbsorbed Luminosity: 3.576e+42\",\"\\u003cbr\\u003eEmitted Luminosity: 1.071e+43\\u003cbr\\u003eRequested Luminosity: 1.059e+43\\u003cbr\\u003eAbsorbed Luminosity: 3.576e+42\",\"\\u003cbr\\u003eEmitted Luminosity: 1.071e+43\\u003cbr\\u003eRequested Luminosity: 1.059e+43\\u003cbr\\u003eAbsorbed Luminosity: 3.576e+42\",\"\\u003cbr\\u003eEmitted Luminosity: 1.071e+43\\u003cbr\\u003eRequested Luminosity: 1.059e+43\\u003cbr\\u003eAbsorbed Luminosity: 3.576e+42\"],\"hovertemplate\":\"\\u003cb\\u003eY\\u003c\\u002fb\\u003e: %{y:.3f} at \\u003cb\\u003eX\\u003c\\u002fb\\u003e = %{x:,.0f}%{customdata}\",\"legendgroup\":\"group-2\",\"line\":{\"color\":\"#0000bd\"},\"name\":\"2\",\"showlegend\":false,\"x\":[11000.0,11450.000000000002,11900.000000000002,12350.000000000002,12800.000000000002,13250.000000000002,13700.000000000002,14150.000000000002,14600.000000000002,15050.000000000002,15500.000000000002,15950.000000000002,16400.0,16850.0,17300.0,17750.0,18200.0,18650.0,19100.0,19550.0,20000.0],\"y\":[10821.384715988508,10824.073756738164,10898.794283429976,10931.58170664698,10962.88337237216,10956.472460687006,10935.661905906485,10896.39437669259,10868.778272241578,10846.86064680303,10799.24283946843,10741.078338352501,10679.036549406585,10616.641355125772,10548.48574218456,10483.027326912194,10402.588547279378,10353.528826567857,10280.790329557043,10205.898081938994],\"type\":\"scatter\",\"uid\":\"709ca3b9-0b5f-4860-929d-d6e49b8f07ed\",\"xaxis\":\"x\",\"yaxis\":\"y\"},{\"customdata\":[\"\\u003cbr\\u003eEmitted Luminosity: 1.071e+43\\u003cbr\\u003eRequested Luminosity: 1.059e+43\\u003cbr\\u003eAbsorbed Luminosity: 3.576e+42\",\"\\u003cbr\\u003eEmitted Luminosity: 1.071e+43\\u003cbr\\u003eRequested Luminosity: 1.059e+43\\u003cbr\\u003eAbsorbed Luminosity: 3.576e+42\",\"\\u003cbr\\u003eEmitted Luminosity: 1.071e+43\\u003cbr\\u003eRequested Luminosity: 1.059e+43\\u003cbr\\u003eAbsorbed Luminosity: 3.576e+42\",\"\\u003cbr\\u003eEmitted Luminosity: 1.071e+43\\u003cbr\\u003eRequested Luminosity: 1.059e+43\\u003cbr\\u003eAbsorbed Luminosity: 3.576e+42\",\"\\u003cbr\\u003eEmitted Luminosity: 1.071e+43\\u003cbr\\u003eRequested Luminosity: 1.059e+43\\u003cbr\\u003eAbsorbed Luminosity: 3.576e+42\",\"\\u003cbr\\u003eEmitted Luminosity: 1.071e+43\\u003cbr\\u003eRequested Luminosity: 1.059e+43\\u003cbr\\u003eAbsorbed Luminosity: 3.576e+42\",\"\\u003cbr\\u003eEmitted Luminosity: 1.071e+43\\u003cbr\\u003eRequested Luminosity: 1.059e+43\\u003cbr\\u003eAbsorbed Luminosity: 3.576e+42\",\"\\u003cbr\\u003eEmitted Luminosity: 1.071e+43\\u003cbr\\u003eRequested Luminosity: 1.059e+43\\u003cbr\\u003eAbsorbed Luminosity: 3.576e+42\",\"\\u003cbr\\u003eEmitted Luminosity: 1.071e+43\\u003cbr\\u003eRequested Luminosity: 1.059e+43\\u003cbr\\u003eAbsorbed Luminosity: 3.576e+42\",\"\\u003cbr\\u003eEmitted Luminosity: 1.071e+43\\u003cbr\\u003eRequested Luminosity: 1.059e+43\\u003cbr\\u003eAbsorbed Luminosity: 3.576e+42\",\"\\u003cbr\\u003eEmitted Luminosity: 1.071e+43\\u003cbr\\u003eRequested Luminosity: 1.059e+43\\u003cbr\\u003eAbsorbed Luminosity: 3.576e+42\",\"\\u003cbr\\u003eEmitted Luminosity: 1.071e+43\\u003cbr\\u003eRequested Luminosity: 1.059e+43\\u003cbr\\u003eAbsorbed Luminosity: 3.576e+42\",\"\\u003cbr\\u003eEmitted Luminosity: 1.071e+43\\u003cbr\\u003eRequested Luminosity: 1.059e+43\\u003cbr\\u003eAbsorbed Luminosity: 3.576e+42\",\"\\u003cbr\\u003eEmitted Luminosity: 1.071e+43\\u003cbr\\u003eRequested Luminosity: 1.059e+43\\u003cbr\\u003eAbsorbed Luminosity: 3.576e+42\",\"\\u003cbr\\u003eEmitted Luminosity: 1.071e+43\\u003cbr\\u003eRequested Luminosity: 1.059e+43\\u003cbr\\u003eAbsorbed Luminosity: 3.576e+42\",\"\\u003cbr\\u003eEmitted Luminosity: 1.071e+43\\u003cbr\\u003eRequested Luminosity: 1.059e+43\\u003cbr\\u003eAbsorbed Luminosity: 3.576e+42\",\"\\u003cbr\\u003eEmitted Luminosity: 1.071e+43\\u003cbr\\u003eRequested Luminosity: 1.059e+43\\u003cbr\\u003eAbsorbed Luminosity: 3.576e+42\",\"\\u003cbr\\u003eEmitted Luminosity: 1.071e+43\\u003cbr\\u003eRequested Luminosity: 1.059e+43\\u003cbr\\u003eAbsorbed Luminosity: 3.576e+42\",\"\\u003cbr\\u003eEmitted Luminosity: 1.071e+43\\u003cbr\\u003eRequested Luminosity: 1.059e+43\\u003cbr\\u003eAbsorbed Luminosity: 3.576e+42\",\"\\u003cbr\\u003eEmitted Luminosity: 1.071e+43\\u003cbr\\u003eRequested Luminosity: 1.059e+43\\u003cbr\\u003eAbsorbed Luminosity: 3.576e+42\",\"\\u003cbr\\u003eEmitted Luminosity: 1.071e+43\\u003cbr\\u003eRequested Luminosity: 1.059e+43\\u003cbr\\u003eAbsorbed Luminosity: 3.576e+42\"],\"hovertemplate\":\"\\u003cb\\u003eY\\u003c\\u002fb\\u003e: %{y:.3f} at \\u003cb\\u003eX\\u003c\\u002fb\\u003e = %{x:,.0f}%{customdata}\",\"legendgroup\":\"group-2\",\"line\":{\"color\":\"#0000bd\"},\"name\":\"2\",\"x\":[11000.0,11450.000000000002,11900.000000000002,12350.000000000002,12800.000000000002,13250.000000000002,13700.000000000002,14150.000000000002,14600.000000000002,15050.000000000002,15500.000000000002,15950.000000000002,16400.0,16850.0,17300.0,17750.0,18200.0,18650.0,19100.0,19550.0,20000.0],\"y\":[0.5246621765406673,0.41191697205191086,0.33082428372467065,0.27394158197482,0.23102276222403176,0.20265770980913306,0.18068103279371803,0.16215468016414358,0.14618948185204406,0.13362668952622325,0.12450448779364395,0.1160510479322535,0.10925211372208156,0.10302987392400832,0.09831779036598384,0.09325771287045209,0.08908435637248992,0.08446805473867701,0.08117712980819633,0.07815148644974383],\"type\":\"scatter\",\"uid\":\"45986bbf-4628-496b-a92c-74173c0e9af7\",\"xaxis\":\"x2\",\"yaxis\":\"y2\"},{\"customdata\":[\"\\u003cbr\\u003eEmitted Luminosity: 1.074e+43\\u003cbr\\u003eRequested Luminosity: 1.059e+43\\u003cbr\\u003eAbsorbed Luminosity: 3.391e+42\",\"\\u003cbr\\u003eEmitted Luminosity: 1.074e+43\\u003cbr\\u003eRequested Luminosity: 1.059e+43\\u003cbr\\u003eAbsorbed Luminosity: 3.391e+42\",\"\\u003cbr\\u003eEmitted Luminosity: 1.074e+43\\u003cbr\\u003eRequested Luminosity: 1.059e+43\\u003cbr\\u003eAbsorbed Luminosity: 3.391e+42\",\"\\u003cbr\\u003eEmitted Luminosity: 1.074e+43\\u003cbr\\u003eRequested Luminosity: 1.059e+43\\u003cbr\\u003eAbsorbed Luminosity: 3.391e+42\",\"\\u003cbr\\u003eEmitted Luminosity: 1.074e+43\\u003cbr\\u003eRequested Luminosity: 1.059e+43\\u003cbr\\u003eAbsorbed Luminosity: 3.391e+42\",\"\\u003cbr\\u003eEmitted Luminosity: 1.074e+43\\u003cbr\\u003eRequested Luminosity: 1.059e+43\\u003cbr\\u003eAbsorbed Luminosity: 3.391e+42\",\"\\u003cbr\\u003eEmitted Luminosity: 1.074e+43\\u003cbr\\u003eRequested Luminosity: 1.059e+43\\u003cbr\\u003eAbsorbed Luminosity: 3.391e+42\",\"\\u003cbr\\u003eEmitted Luminosity: 1.074e+43\\u003cbr\\u003eRequested Luminosity: 1.059e+43\\u003cbr\\u003eAbsorbed Luminosity: 3.391e+42\",\"\\u003cbr\\u003eEmitted Luminosity: 1.074e+43\\u003cbr\\u003eRequested Luminosity: 1.059e+43\\u003cbr\\u003eAbsorbed Luminosity: 3.391e+42\",\"\\u003cbr\\u003eEmitted Luminosity: 1.074e+43\\u003cbr\\u003eRequested Luminosity: 1.059e+43\\u003cbr\\u003eAbsorbed Luminosity: 3.391e+42\",\"\\u003cbr\\u003eEmitted Luminosity: 1.074e+43\\u003cbr\\u003eRequested Luminosity: 1.059e+43\\u003cbr\\u003eAbsorbed Luminosity: 3.391e+42\",\"\\u003cbr\\u003eEmitted Luminosity: 1.074e+43\\u003cbr\\u003eRequested Luminosity: 1.059e+43\\u003cbr\\u003eAbsorbed Luminosity: 3.391e+42\",\"\\u003cbr\\u003eEmitted Luminosity: 1.074e+43\\u003cbr\\u003eRequested Luminosity: 1.059e+43\\u003cbr\\u003eAbsorbed Luminosity: 3.391e+42\",\"\\u003cbr\\u003eEmitted Luminosity: 1.074e+43\\u003cbr\\u003eRequested Luminosity: 1.059e+43\\u003cbr\\u003eAbsorbed Luminosity: 3.391e+42\",\"\\u003cbr\\u003eEmitted Luminosity: 1.074e+43\\u003cbr\\u003eRequested Luminosity: 1.059e+43\\u003cbr\\u003eAbsorbed Luminosity: 3.391e+42\",\"\\u003cbr\\u003eEmitted Luminosity: 1.074e+43\\u003cbr\\u003eRequested Luminosity: 1.059e+43\\u003cbr\\u003eAbsorbed Luminosity: 3.391e+42\",\"\\u003cbr\\u003eEmitted Luminosity: 1.074e+43\\u003cbr\\u003eRequested Luminosity: 1.059e+43\\u003cbr\\u003eAbsorbed Luminosity: 3.391e+42\",\"\\u003cbr\\u003eEmitted Luminosity: 1.074e+43\\u003cbr\\u003eRequested Luminosity: 1.059e+43\\u003cbr\\u003eAbsorbed Luminosity: 3.391e+42\",\"\\u003cbr\\u003eEmitted Luminosity: 1.074e+43\\u003cbr\\u003eRequested Luminosity: 1.059e+43\\u003cbr\\u003eAbsorbed Luminosity: 3.391e+42\",\"\\u003cbr\\u003eEmitted Luminosity: 1.074e+43\\u003cbr\\u003eRequested Luminosity: 1.059e+43\\u003cbr\\u003eAbsorbed Luminosity: 3.391e+42\",\"\\u003cbr\\u003eEmitted Luminosity: 1.074e+43\\u003cbr\\u003eRequested Luminosity: 1.059e+43\\u003cbr\\u003eAbsorbed Luminosity: 3.391e+42\"],\"hovertemplate\":\"\\u003cb\\u003eY\\u003c\\u002fb\\u003e: %{y:.3f} at \\u003cb\\u003eX\\u003c\\u002fb\\u003e = %{x:,.0f}%{customdata}\",\"legendgroup\":\"group-3\",\"line\":{\"color\":\"#0000fa\"},\"name\":\"3\",\"showlegend\":false,\"x\":[11000.0,11450.000000000002,11900.000000000002,12350.000000000002,12800.000000000002,13250.000000000002,13700.000000000002,14150.000000000002,14600.000000000002,15050.000000000002,15500.000000000002,15950.000000000002,16400.0,16850.0,17300.0,17750.0,18200.0,18650.0,19100.0,19550.0,20000.0],\"y\":[11001.634927052053,11064.199696944339,11146.787553121017,11182.280635799658,11189.736145903664,11179.454350292815,11213.792044058455,11157.651087989892,11091.366675543917,11032.681965976139,10951.713198123645,10882.347556667446,10815.565678532423,10758.062400848292,10666.645776969004,10589.47655493807,10519.279079769152,10489.380842660079,10394.331367831095,10280.445356477085],\"type\":\"scatter\",\"uid\":\"6bc2a437-b28c-4604-bfae-54b17d49bc21\",\"xaxis\":\"x\",\"yaxis\":\"y\"},{\"customdata\":[\"\\u003cbr\\u003eEmitted Luminosity: 1.074e+43\\u003cbr\\u003eRequested Luminosity: 1.059e+43\\u003cbr\\u003eAbsorbed Luminosity: 3.391e+42\",\"\\u003cbr\\u003eEmitted Luminosity: 1.074e+43\\u003cbr\\u003eRequested Luminosity: 1.059e+43\\u003cbr\\u003eAbsorbed Luminosity: 3.391e+42\",\"\\u003cbr\\u003eEmitted Luminosity: 1.074e+43\\u003cbr\\u003eRequested Luminosity: 1.059e+43\\u003cbr\\u003eAbsorbed Luminosity: 3.391e+42\",\"\\u003cbr\\u003eEmitted Luminosity: 1.074e+43\\u003cbr\\u003eRequested Luminosity: 1.059e+43\\u003cbr\\u003eAbsorbed Luminosity: 3.391e+42\",\"\\u003cbr\\u003eEmitted Luminosity: 1.074e+43\\u003cbr\\u003eRequested Luminosity: 1.059e+43\\u003cbr\\u003eAbsorbed Luminosity: 3.391e+42\",\"\\u003cbr\\u003eEmitted Luminosity: 1.074e+43\\u003cbr\\u003eRequested Luminosity: 1.059e+43\\u003cbr\\u003eAbsorbed Luminosity: 3.391e+42\",\"\\u003cbr\\u003eEmitted Luminosity: 1.074e+43\\u003cbr\\u003eRequested Luminosity: 1.059e+43\\u003cbr\\u003eAbsorbed Luminosity: 3.391e+42\",\"\\u003cbr\\u003eEmitted Luminosity: 1.074e+43\\u003cbr\\u003eRequested Luminosity: 1.059e+43\\u003cbr\\u003eAbsorbed Luminosity: 3.391e+42\",\"\\u003cbr\\u003eEmitted Luminosity: 1.074e+43\\u003cbr\\u003eRequested Luminosity: 1.059e+43\\u003cbr\\u003eAbsorbed Luminosity: 3.391e+42\",\"\\u003cbr\\u003eEmitted Luminosity: 1.074e+43\\u003cbr\\u003eRequested Luminosity: 1.059e+43\\u003cbr\\u003eAbsorbed Luminosity: 3.391e+42\",\"\\u003cbr\\u003eEmitted Luminosity: 1.074e+43\\u003cbr\\u003eRequested Luminosity: 1.059e+43\\u003cbr\\u003eAbsorbed Luminosity: 3.391e+42\",\"\\u003cbr\\u003eEmitted Luminosity: 1.074e+43\\u003cbr\\u003eRequested Luminosity: 1.059e+43\\u003cbr\\u003eAbsorbed Luminosity: 3.391e+42\",\"\\u003cbr\\u003eEmitted Luminosity: 1.074e+43\\u003cbr\\u003eRequested Luminosity: 1.059e+43\\u003cbr\\u003eAbsorbed Luminosity: 3.391e+42\",\"\\u003cbr\\u003eEmitted Luminosity: 1.074e+43\\u003cbr\\u003eRequested Luminosity: 1.059e+43\\u003cbr\\u003eAbsorbed Luminosity: 3.391e+42\",\"\\u003cbr\\u003eEmitted Luminosity: 1.074e+43\\u003cbr\\u003eRequested Luminosity: 1.059e+43\\u003cbr\\u003eAbsorbed Luminosity: 3.391e+42\",\"\\u003cbr\\u003eEmitted Luminosity: 1.074e+43\\u003cbr\\u003eRequested Luminosity: 1.059e+43\\u003cbr\\u003eAbsorbed Luminosity: 3.391e+42\",\"\\u003cbr\\u003eEmitted Luminosity: 1.074e+43\\u003cbr\\u003eRequested Luminosity: 1.059e+43\\u003cbr\\u003eAbsorbed Luminosity: 3.391e+42\",\"\\u003cbr\\u003eEmitted Luminosity: 1.074e+43\\u003cbr\\u003eRequested Luminosity: 1.059e+43\\u003cbr\\u003eAbsorbed Luminosity: 3.391e+42\",\"\\u003cbr\\u003eEmitted Luminosity: 1.074e+43\\u003cbr\\u003eRequested Luminosity: 1.059e+43\\u003cbr\\u003eAbsorbed Luminosity: 3.391e+42\",\"\\u003cbr\\u003eEmitted Luminosity: 1.074e+43\\u003cbr\\u003eRequested Luminosity: 1.059e+43\\u003cbr\\u003eAbsorbed Luminosity: 3.391e+42\",\"\\u003cbr\\u003eEmitted Luminosity: 1.074e+43\\u003cbr\\u003eRequested Luminosity: 1.059e+43\\u003cbr\\u003eAbsorbed Luminosity: 3.391e+42\"],\"hovertemplate\":\"\\u003cb\\u003eY\\u003c\\u002fb\\u003e: %{y:.3f} at \\u003cb\\u003eX\\u003c\\u002fb\\u003e = %{x:,.0f}%{customdata}\",\"legendgroup\":\"group-3\",\"line\":{\"color\":\"#0000fa\"},\"name\":\"3\",\"x\":[11000.0,11450.000000000002,11900.000000000002,12350.000000000002,12800.000000000002,13250.000000000002,13700.000000000002,14150.000000000002,14600.000000000002,15050.000000000002,15500.000000000002,15950.000000000002,16400.0,16850.0,17300.0,17750.0,18200.0,18650.0,19100.0,19550.0,20000.0],\"y\":[0.4825561086862899,0.3753167382525322,0.30088543971299797,0.24970650717318707,0.21504788606439065,0.18892102443361714,0.16485989338332246,0.14922567044376733,0.13734334978139234,0.1270628218521904,0.11816510167646284,0.11046612341877594,0.10408751768618384,0.09837704050404555,0.09380107837682547,0.08948234091773136,0.08532985994055088,0.08049857959813295,0.07819235364875625,0.07599589756538155],\"type\":\"scatter\",\"uid\":\"b1ea80ce-dfb5-49e0-9406-f72be5a19b12\",\"xaxis\":\"x2\",\"yaxis\":\"y2\"},{\"customdata\":[\"\\u003cbr\\u003eEmitted Luminosity: 1.058e+43\\u003cbr\\u003eRequested Luminosity: 1.059e+43\\u003cbr\\u003eAbsorbed Luminosity: 3.352e+42\",\"\\u003cbr\\u003eEmitted Luminosity: 1.058e+43\\u003cbr\\u003eRequested Luminosity: 1.059e+43\\u003cbr\\u003eAbsorbed Luminosity: 3.352e+42\",\"\\u003cbr\\u003eEmitted Luminosity: 1.058e+43\\u003cbr\\u003eRequested Luminosity: 1.059e+43\\u003cbr\\u003eAbsorbed Luminosity: 3.352e+42\",\"\\u003cbr\\u003eEmitted Luminosity: 1.058e+43\\u003cbr\\u003eRequested Luminosity: 1.059e+43\\u003cbr\\u003eAbsorbed Luminosity: 3.352e+42\",\"\\u003cbr\\u003eEmitted Luminosity: 1.058e+43\\u003cbr\\u003eRequested Luminosity: 1.059e+43\\u003cbr\\u003eAbsorbed Luminosity: 3.352e+42\",\"\\u003cbr\\u003eEmitted Luminosity: 1.058e+43\\u003cbr\\u003eRequested Luminosity: 1.059e+43\\u003cbr\\u003eAbsorbed Luminosity: 3.352e+42\",\"\\u003cbr\\u003eEmitted Luminosity: 1.058e+43\\u003cbr\\u003eRequested Luminosity: 1.059e+43\\u003cbr\\u003eAbsorbed Luminosity: 3.352e+42\",\"\\u003cbr\\u003eEmitted Luminosity: 1.058e+43\\u003cbr\\u003eRequested Luminosity: 1.059e+43\\u003cbr\\u003eAbsorbed Luminosity: 3.352e+42\",\"\\u003cbr\\u003eEmitted Luminosity: 1.058e+43\\u003cbr\\u003eRequested Luminosity: 1.059e+43\\u003cbr\\u003eAbsorbed Luminosity: 3.352e+42\",\"\\u003cbr\\u003eEmitted Luminosity: 1.058e+43\\u003cbr\\u003eRequested Luminosity: 1.059e+43\\u003cbr\\u003eAbsorbed Luminosity: 3.352e+42\",\"\\u003cbr\\u003eEmitted Luminosity: 1.058e+43\\u003cbr\\u003eRequested Luminosity: 1.059e+43\\u003cbr\\u003eAbsorbed Luminosity: 3.352e+42\",\"\\u003cbr\\u003eEmitted Luminosity: 1.058e+43\\u003cbr\\u003eRequested Luminosity: 1.059e+43\\u003cbr\\u003eAbsorbed Luminosity: 3.352e+42\",\"\\u003cbr\\u003eEmitted Luminosity: 1.058e+43\\u003cbr\\u003eRequested Luminosity: 1.059e+43\\u003cbr\\u003eAbsorbed Luminosity: 3.352e+42\",\"\\u003cbr\\u003eEmitted Luminosity: 1.058e+43\\u003cbr\\u003eRequested Luminosity: 1.059e+43\\u003cbr\\u003eAbsorbed Luminosity: 3.352e+42\",\"\\u003cbr\\u003eEmitted Luminosity: 1.058e+43\\u003cbr\\u003eRequested Luminosity: 1.059e+43\\u003cbr\\u003eAbsorbed Luminosity: 3.352e+42\",\"\\u003cbr\\u003eEmitted Luminosity: 1.058e+43\\u003cbr\\u003eRequested Luminosity: 1.059e+43\\u003cbr\\u003eAbsorbed Luminosity: 3.352e+42\",\"\\u003cbr\\u003eEmitted Luminosity: 1.058e+43\\u003cbr\\u003eRequested Luminosity: 1.059e+43\\u003cbr\\u003eAbsorbed Luminosity: 3.352e+42\",\"\\u003cbr\\u003eEmitted Luminosity: 1.058e+43\\u003cbr\\u003eRequested Luminosity: 1.059e+43\\u003cbr\\u003eAbsorbed Luminosity: 3.352e+42\",\"\\u003cbr\\u003eEmitted Luminosity: 1.058e+43\\u003cbr\\u003eRequested Luminosity: 1.059e+43\\u003cbr\\u003eAbsorbed Luminosity: 3.352e+42\",\"\\u003cbr\\u003eEmitted Luminosity: 1.058e+43\\u003cbr\\u003eRequested Luminosity: 1.059e+43\\u003cbr\\u003eAbsorbed Luminosity: 3.352e+42\",\"\\u003cbr\\u003eEmitted Luminosity: 1.058e+43\\u003cbr\\u003eRequested Luminosity: 1.059e+43\\u003cbr\\u003eAbsorbed Luminosity: 3.352e+42\"],\"hovertemplate\":\"\\u003cb\\u003eY\\u003c\\u002fb\\u003e: %{y:.3f} at \\u003cb\\u003eX\\u003c\\u002fb\\u003e = %{x:,.0f}%{customdata}\",\"legendgroup\":\"group-4\",\"line\":{\"color\":\"#0022ff\"},\"name\":\"4\",\"showlegend\":false,\"x\":[11000.0,11450.000000000002,11900.000000000002,12350.000000000002,12800.000000000002,13250.000000000002,13700.000000000002,14150.000000000002,14600.000000000002,15050.000000000002,15500.000000000002,15950.000000000002,16400.0,16850.0,17300.0,17750.0,18200.0,18650.0,19100.0,19550.0,20000.0],\"y\":[11038.698136476141,11131.435800621904,11213.984636999185,11254.938534149625,11264.107580472712,11231.114008379014,11180.234751596456,11161.437588088613,11095.861092083856,11098.4586091023,11036.77140512369,10960.496893953137,10968.575814690204,10890.829024356457,10799.341128651728,10659.85331154029,10549.23167717392,10506.788237886354,10398.595240551549,10289.349868136715],\"type\":\"scatter\",\"uid\":\"e9b5fc30-5a59-4e63-b08c-810004bed31d\",\"xaxis\":\"x\",\"yaxis\":\"y\"},{\"customdata\":[\"\\u003cbr\\u003eEmitted Luminosity: 1.058e+43\\u003cbr\\u003eRequested Luminosity: 1.059e+43\\u003cbr\\u003eAbsorbed Luminosity: 3.352e+42\",\"\\u003cbr\\u003eEmitted Luminosity: 1.058e+43\\u003cbr\\u003eRequested Luminosity: 1.059e+43\\u003cbr\\u003eAbsorbed Luminosity: 3.352e+42\",\"\\u003cbr\\u003eEmitted Luminosity: 1.058e+43\\u003cbr\\u003eRequested Luminosity: 1.059e+43\\u003cbr\\u003eAbsorbed Luminosity: 3.352e+42\",\"\\u003cbr\\u003eEmitted Luminosity: 1.058e+43\\u003cbr\\u003eRequested Luminosity: 1.059e+43\\u003cbr\\u003eAbsorbed Luminosity: 3.352e+42\",\"\\u003cbr\\u003eEmitted Luminosity: 1.058e+43\\u003cbr\\u003eRequested Luminosity: 1.059e+43\\u003cbr\\u003eAbsorbed Luminosity: 3.352e+42\",\"\\u003cbr\\u003eEmitted Luminosity: 1.058e+43\\u003cbr\\u003eRequested Luminosity: 1.059e+43\\u003cbr\\u003eAbsorbed Luminosity: 3.352e+42\",\"\\u003cbr\\u003eEmitted Luminosity: 1.058e+43\\u003cbr\\u003eRequested Luminosity: 1.059e+43\\u003cbr\\u003eAbsorbed Luminosity: 3.352e+42\",\"\\u003cbr\\u003eEmitted Luminosity: 1.058e+43\\u003cbr\\u003eRequested Luminosity: 1.059e+43\\u003cbr\\u003eAbsorbed Luminosity: 3.352e+42\",\"\\u003cbr\\u003eEmitted Luminosity: 1.058e+43\\u003cbr\\u003eRequested Luminosity: 1.059e+43\\u003cbr\\u003eAbsorbed Luminosity: 3.352e+42\",\"\\u003cbr\\u003eEmitted Luminosity: 1.058e+43\\u003cbr\\u003eRequested Luminosity: 1.059e+43\\u003cbr\\u003eAbsorbed Luminosity: 3.352e+42\",\"\\u003cbr\\u003eEmitted Luminosity: 1.058e+43\\u003cbr\\u003eRequested Luminosity: 1.059e+43\\u003cbr\\u003eAbsorbed Luminosity: 3.352e+42\",\"\\u003cbr\\u003eEmitted Luminosity: 1.058e+43\\u003cbr\\u003eRequested Luminosity: 1.059e+43\\u003cbr\\u003eAbsorbed Luminosity: 3.352e+42\",\"\\u003cbr\\u003eEmitted Luminosity: 1.058e+43\\u003cbr\\u003eRequested Luminosity: 1.059e+43\\u003cbr\\u003eAbsorbed Luminosity: 3.352e+42\",\"\\u003cbr\\u003eEmitted Luminosity: 1.058e+43\\u003cbr\\u003eRequested Luminosity: 1.059e+43\\u003cbr\\u003eAbsorbed Luminosity: 3.352e+42\",\"\\u003cbr\\u003eEmitted Luminosity: 1.058e+43\\u003cbr\\u003eRequested Luminosity: 1.059e+43\\u003cbr\\u003eAbsorbed Luminosity: 3.352e+42\",\"\\u003cbr\\u003eEmitted Luminosity: 1.058e+43\\u003cbr\\u003eRequested Luminosity: 1.059e+43\\u003cbr\\u003eAbsorbed Luminosity: 3.352e+42\",\"\\u003cbr\\u003eEmitted Luminosity: 1.058e+43\\u003cbr\\u003eRequested Luminosity: 1.059e+43\\u003cbr\\u003eAbsorbed Luminosity: 3.352e+42\",\"\\u003cbr\\u003eEmitted Luminosity: 1.058e+43\\u003cbr\\u003eRequested Luminosity: 1.059e+43\\u003cbr\\u003eAbsorbed Luminosity: 3.352e+42\",\"\\u003cbr\\u003eEmitted Luminosity: 1.058e+43\\u003cbr\\u003eRequested Luminosity: 1.059e+43\\u003cbr\\u003eAbsorbed Luminosity: 3.352e+42\",\"\\u003cbr\\u003eEmitted Luminosity: 1.058e+43\\u003cbr\\u003eRequested Luminosity: 1.059e+43\\u003cbr\\u003eAbsorbed Luminosity: 3.352e+42\",\"\\u003cbr\\u003eEmitted Luminosity: 1.058e+43\\u003cbr\\u003eRequested Luminosity: 1.059e+43\\u003cbr\\u003eAbsorbed Luminosity: 3.352e+42\"],\"hovertemplate\":\"\\u003cb\\u003eY\\u003c\\u002fb\\u003e: %{y:.3f} at \\u003cb\\u003eX\\u003c\\u002fb\\u003e = %{x:,.0f}%{customdata}\",\"legendgroup\":\"group-4\",\"line\":{\"color\":\"#0022ff\"},\"name\":\"4\",\"x\":[11000.0,11450.000000000002,11900.000000000002,12350.000000000002,12800.000000000002,13250.000000000002,13700.000000000002,14150.000000000002,14600.000000000002,15050.000000000002,15500.000000000002,15950.000000000002,16400.0,16850.0,17300.0,17750.0,18200.0,18650.0,19100.0,19550.0,20000.0],\"y\":[0.4687538477559291,0.35824407892467036,0.28599634558792025,0.23841076691717772,0.2084051505401417,0.1824597993123627,0.1638530287326605,0.14657197278821169,0.1350387505076271,0.12203984330409853,0.1133420586636948,0.10619057974750051,0.09765445799276107,0.09265038931725807,0.08856994843344282,0.08610301865946898,0.08350964322765055,0.07926097463714452,0.07675258292809721,0.07475268898177406],\"type\":\"scatter\",\"uid\":\"8e6a1b0e-0d07-4e6f-aa22-17fa6bc15702\",\"xaxis\":\"x2\",\"yaxis\":\"y2\"},{\"customdata\":[\"\\u003cbr\\u003eEmitted Luminosity: 1.055e+43\\u003cbr\\u003eRequested Luminosity: 1.059e+43\\u003cbr\\u003eAbsorbed Luminosity: 3.399e+42\",\"\\u003cbr\\u003eEmitted Luminosity: 1.055e+43\\u003cbr\\u003eRequested Luminosity: 1.059e+43\\u003cbr\\u003eAbsorbed Luminosity: 3.399e+42\",\"\\u003cbr\\u003eEmitted Luminosity: 1.055e+43\\u003cbr\\u003eRequested Luminosity: 1.059e+43\\u003cbr\\u003eAbsorbed Luminosity: 3.399e+42\",\"\\u003cbr\\u003eEmitted Luminosity: 1.055e+43\\u003cbr\\u003eRequested Luminosity: 1.059e+43\\u003cbr\\u003eAbsorbed Luminosity: 3.399e+42\",\"\\u003cbr\\u003eEmitted Luminosity: 1.055e+43\\u003cbr\\u003eRequested Luminosity: 1.059e+43\\u003cbr\\u003eAbsorbed Luminosity: 3.399e+42\",\"\\u003cbr\\u003eEmitted Luminosity: 1.055e+43\\u003cbr\\u003eRequested Luminosity: 1.059e+43\\u003cbr\\u003eAbsorbed Luminosity: 3.399e+42\",\"\\u003cbr\\u003eEmitted Luminosity: 1.055e+43\\u003cbr\\u003eRequested Luminosity: 1.059e+43\\u003cbr\\u003eAbsorbed Luminosity: 3.399e+42\",\"\\u003cbr\\u003eEmitted Luminosity: 1.055e+43\\u003cbr\\u003eRequested Luminosity: 1.059e+43\\u003cbr\\u003eAbsorbed Luminosity: 3.399e+42\",\"\\u003cbr\\u003eEmitted Luminosity: 1.055e+43\\u003cbr\\u003eRequested Luminosity: 1.059e+43\\u003cbr\\u003eAbsorbed Luminosity: 3.399e+42\",\"\\u003cbr\\u003eEmitted Luminosity: 1.055e+43\\u003cbr\\u003eRequested Luminosity: 1.059e+43\\u003cbr\\u003eAbsorbed Luminosity: 3.399e+42\",\"\\u003cbr\\u003eEmitted Luminosity: 1.055e+43\\u003cbr\\u003eRequested Luminosity: 1.059e+43\\u003cbr\\u003eAbsorbed Luminosity: 3.399e+42\",\"\\u003cbr\\u003eEmitted Luminosity: 1.055e+43\\u003cbr\\u003eRequested Luminosity: 1.059e+43\\u003cbr\\u003eAbsorbed Luminosity: 3.399e+42\",\"\\u003cbr\\u003eEmitted Luminosity: 1.055e+43\\u003cbr\\u003eRequested Luminosity: 1.059e+43\\u003cbr\\u003eAbsorbed Luminosity: 3.399e+42\",\"\\u003cbr\\u003eEmitted Luminosity: 1.055e+43\\u003cbr\\u003eRequested Luminosity: 1.059e+43\\u003cbr\\u003eAbsorbed Luminosity: 3.399e+42\",\"\\u003cbr\\u003eEmitted Luminosity: 1.055e+43\\u003cbr\\u003eRequested Luminosity: 1.059e+43\\u003cbr\\u003eAbsorbed Luminosity: 3.399e+42\",\"\\u003cbr\\u003eEmitted Luminosity: 1.055e+43\\u003cbr\\u003eRequested Luminosity: 1.059e+43\\u003cbr\\u003eAbsorbed Luminosity: 3.399e+42\",\"\\u003cbr\\u003eEmitted Luminosity: 1.055e+43\\u003cbr\\u003eRequested Luminosity: 1.059e+43\\u003cbr\\u003eAbsorbed Luminosity: 3.399e+42\",\"\\u003cbr\\u003eEmitted Luminosity: 1.055e+43\\u003cbr\\u003eRequested Luminosity: 1.059e+43\\u003cbr\\u003eAbsorbed Luminosity: 3.399e+42\",\"\\u003cbr\\u003eEmitted Luminosity: 1.055e+43\\u003cbr\\u003eRequested Luminosity: 1.059e+43\\u003cbr\\u003eAbsorbed Luminosity: 3.399e+42\",\"\\u003cbr\\u003eEmitted Luminosity: 1.055e+43\\u003cbr\\u003eRequested Luminosity: 1.059e+43\\u003cbr\\u003eAbsorbed Luminosity: 3.399e+42\",\"\\u003cbr\\u003eEmitted Luminosity: 1.055e+43\\u003cbr\\u003eRequested Luminosity: 1.059e+43\\u003cbr\\u003eAbsorbed Luminosity: 3.399e+42\"],\"hovertemplate\":\"\\u003cb\\u003eY\\u003c\\u002fb\\u003e: %{y:.3f} at \\u003cb\\u003eX\\u003c\\u002fb\\u003e = %{x:,.0f}%{customdata}\",\"legendgroup\":\"group-5\",\"line\":{\"color\":\"#0057ff\"},\"name\":\"5\",\"showlegend\":false,\"x\":[11000.0,11450.000000000002,11900.000000000002,12350.000000000002,12800.000000000002,13250.000000000002,13700.000000000002,14150.000000000002,14600.000000000002,15050.000000000002,15500.000000000002,15950.000000000002,16400.0,16850.0,17300.0,17750.0,18200.0,18650.0,19100.0,19550.0,20000.0],\"y\":[11004.024487316352,11119.370918310538,11195.435288535522,11259.072171566848,11285.207823379309,11285.177373350854,11257.669820944724,11225.435543828933,11186.44577646084,11099.126692783657,11029.754134075252,10939.092322147457,10877.977764373363,10799.952764217687,10803.949518749796,10716.294176309477,10608.390284386574,10536.800285659145,10451.344991698816,10351.499425412718],\"type\":\"scatter\",\"uid\":\"69b343cb-8cbf-434f-b9fb-50b84d3c7790\",\"xaxis\":\"x\",\"yaxis\":\"y\"},{\"customdata\":[\"\\u003cbr\\u003eEmitted Luminosity: 1.055e+43\\u003cbr\\u003eRequested Luminosity: 1.059e+43\\u003cbr\\u003eAbsorbed Luminosity: 3.399e+42\",\"\\u003cbr\\u003eEmitted Luminosity: 1.055e+43\\u003cbr\\u003eRequested Luminosity: 1.059e+43\\u003cbr\\u003eAbsorbed Luminosity: 3.399e+42\",\"\\u003cbr\\u003eEmitted Luminosity: 1.055e+43\\u003cbr\\u003eRequested Luminosity: 1.059e+43\\u003cbr\\u003eAbsorbed Luminosity: 3.399e+42\",\"\\u003cbr\\u003eEmitted Luminosity: 1.055e+43\\u003cbr\\u003eRequested Luminosity: 1.059e+43\\u003cbr\\u003eAbsorbed Luminosity: 3.399e+42\",\"\\u003cbr\\u003eEmitted Luminosity: 1.055e+43\\u003cbr\\u003eRequested Luminosity: 1.059e+43\\u003cbr\\u003eAbsorbed Luminosity: 3.399e+42\",\"\\u003cbr\\u003eEmitted Luminosity: 1.055e+43\\u003cbr\\u003eRequested Luminosity: 1.059e+43\\u003cbr\\u003eAbsorbed Luminosity: 3.399e+42\",\"\\u003cbr\\u003eEmitted Luminosity: 1.055e+43\\u003cbr\\u003eRequested Luminosity: 1.059e+43\\u003cbr\\u003eAbsorbed Luminosity: 3.399e+42\",\"\\u003cbr\\u003eEmitted Luminosity: 1.055e+43\\u003cbr\\u003eRequested Luminosity: 1.059e+43\\u003cbr\\u003eAbsorbed Luminosity: 3.399e+42\",\"\\u003cbr\\u003eEmitted Luminosity: 1.055e+43\\u003cbr\\u003eRequested Luminosity: 1.059e+43\\u003cbr\\u003eAbsorbed Luminosity: 3.399e+42\",\"\\u003cbr\\u003eEmitted Luminosity: 1.055e+43\\u003cbr\\u003eRequested Luminosity: 1.059e+43\\u003cbr\\u003eAbsorbed Luminosity: 3.399e+42\",\"\\u003cbr\\u003eEmitted Luminosity: 1.055e+43\\u003cbr\\u003eRequested Luminosity: 1.059e+43\\u003cbr\\u003eAbsorbed Luminosity: 3.399e+42\",\"\\u003cbr\\u003eEmitted Luminosity: 1.055e+43\\u003cbr\\u003eRequested Luminosity: 1.059e+43\\u003cbr\\u003eAbsorbed Luminosity: 3.399e+42\",\"\\u003cbr\\u003eEmitted Luminosity: 1.055e+43\\u003cbr\\u003eRequested Luminosity: 1.059e+43\\u003cbr\\u003eAbsorbed Luminosity: 3.399e+42\",\"\\u003cbr\\u003eEmitted Luminosity: 1.055e+43\\u003cbr\\u003eRequested Luminosity: 1.059e+43\\u003cbr\\u003eAbsorbed Luminosity: 3.399e+42\",\"\\u003cbr\\u003eEmitted Luminosity: 1.055e+43\\u003cbr\\u003eRequested Luminosity: 1.059e+43\\u003cbr\\u003eAbsorbed Luminosity: 3.399e+42\",\"\\u003cbr\\u003eEmitted Luminosity: 1.055e+43\\u003cbr\\u003eRequested Luminosity: 1.059e+43\\u003cbr\\u003eAbsorbed Luminosity: 3.399e+42\",\"\\u003cbr\\u003eEmitted Luminosity: 1.055e+43\\u003cbr\\u003eRequested Luminosity: 1.059e+43\\u003cbr\\u003eAbsorbed Luminosity: 3.399e+42\",\"\\u003cbr\\u003eEmitted Luminosity: 1.055e+43\\u003cbr\\u003eRequested Luminosity: 1.059e+43\\u003cbr\\u003eAbsorbed Luminosity: 3.399e+42\",\"\\u003cbr\\u003eEmitted Luminosity: 1.055e+43\\u003cbr\\u003eRequested Luminosity: 1.059e+43\\u003cbr\\u003eAbsorbed Luminosity: 3.399e+42\",\"\\u003cbr\\u003eEmitted Luminosity: 1.055e+43\\u003cbr\\u003eRequested Luminosity: 1.059e+43\\u003cbr\\u003eAbsorbed Luminosity: 3.399e+42\",\"\\u003cbr\\u003eEmitted Luminosity: 1.055e+43\\u003cbr\\u003eRequested Luminosity: 1.059e+43\\u003cbr\\u003eAbsorbed Luminosity: 3.399e+42\"],\"hovertemplate\":\"\\u003cb\\u003eY\\u003c\\u002fb\\u003e: %{y:.3f} at \\u003cb\\u003eX\\u003c\\u002fb\\u003e = %{x:,.0f}%{customdata}\",\"legendgroup\":\"group-5\",\"line\":{\"color\":\"#0057ff\"},\"name\":\"5\",\"x\":[11000.0,11450.000000000002,11900.000000000002,12350.000000000002,12800.000000000002,13250.000000000002,13700.000000000002,14150.000000000002,14600.000000000002,15050.000000000002,15500.000000000002,15950.000000000002,16400.0,16850.0,17300.0,17750.0,18200.0,18650.0,19100.0,19550.0,20000.0],\"y\":[0.4787951149100541,0.36722911622655885,0.2926208964601212,0.2423928891356993,0.20444578320678303,0.17802906451824543,0.15880727921574883,0.143526993760776,0.13113430987367516,0.12123492244386379,0.11293848104571699,0.10720611583561106,0.09996150229301166,0.09452711460402509,0.0877374189073548,0.08385741319394331,0.0809169645618998,0.07741620802608558,0.07503066971431986,0.07273052882155728],\"type\":\"scatter\",\"uid\":\"69cb5582-dcca-4794-b307-b931c4ac7a25\",\"xaxis\":\"x2\",\"yaxis\":\"y2\"},{\"customdata\":[\"\\u003cbr\\u003eEmitted Luminosity: 1.061e+43\\u003cbr\\u003eRequested Luminosity: 1.059e+43\\u003cbr\\u003eAbsorbed Luminosity: 3.398e+42\",\"\\u003cbr\\u003eEmitted Luminosity: 1.061e+43\\u003cbr\\u003eRequested Luminosity: 1.059e+43\\u003cbr\\u003eAbsorbed Luminosity: 3.398e+42\",\"\\u003cbr\\u003eEmitted Luminosity: 1.061e+43\\u003cbr\\u003eRequested Luminosity: 1.059e+43\\u003cbr\\u003eAbsorbed Luminosity: 3.398e+42\",\"\\u003cbr\\u003eEmitted Luminosity: 1.061e+43\\u003cbr\\u003eRequested Luminosity: 1.059e+43\\u003cbr\\u003eAbsorbed Luminosity: 3.398e+42\",\"\\u003cbr\\u003eEmitted Luminosity: 1.061e+43\\u003cbr\\u003eRequested Luminosity: 1.059e+43\\u003cbr\\u003eAbsorbed Luminosity: 3.398e+42\",\"\\u003cbr\\u003eEmitted Luminosity: 1.061e+43\\u003cbr\\u003eRequested Luminosity: 1.059e+43\\u003cbr\\u003eAbsorbed Luminosity: 3.398e+42\",\"\\u003cbr\\u003eEmitted Luminosity: 1.061e+43\\u003cbr\\u003eRequested Luminosity: 1.059e+43\\u003cbr\\u003eAbsorbed Luminosity: 3.398e+42\",\"\\u003cbr\\u003eEmitted Luminosity: 1.061e+43\\u003cbr\\u003eRequested Luminosity: 1.059e+43\\u003cbr\\u003eAbsorbed Luminosity: 3.398e+42\",\"\\u003cbr\\u003eEmitted Luminosity: 1.061e+43\\u003cbr\\u003eRequested Luminosity: 1.059e+43\\u003cbr\\u003eAbsorbed Luminosity: 3.398e+42\",\"\\u003cbr\\u003eEmitted Luminosity: 1.061e+43\\u003cbr\\u003eRequested Luminosity: 1.059e+43\\u003cbr\\u003eAbsorbed Luminosity: 3.398e+42\",\"\\u003cbr\\u003eEmitted Luminosity: 1.061e+43\\u003cbr\\u003eRequested Luminosity: 1.059e+43\\u003cbr\\u003eAbsorbed Luminosity: 3.398e+42\",\"\\u003cbr\\u003eEmitted Luminosity: 1.061e+43\\u003cbr\\u003eRequested Luminosity: 1.059e+43\\u003cbr\\u003eAbsorbed Luminosity: 3.398e+42\",\"\\u003cbr\\u003eEmitted Luminosity: 1.061e+43\\u003cbr\\u003eRequested Luminosity: 1.059e+43\\u003cbr\\u003eAbsorbed Luminosity: 3.398e+42\",\"\\u003cbr\\u003eEmitted Luminosity: 1.061e+43\\u003cbr\\u003eRequested Luminosity: 1.059e+43\\u003cbr\\u003eAbsorbed Luminosity: 3.398e+42\",\"\\u003cbr\\u003eEmitted Luminosity: 1.061e+43\\u003cbr\\u003eRequested Luminosity: 1.059e+43\\u003cbr\\u003eAbsorbed Luminosity: 3.398e+42\",\"\\u003cbr\\u003eEmitted Luminosity: 1.061e+43\\u003cbr\\u003eRequested Luminosity: 1.059e+43\\u003cbr\\u003eAbsorbed Luminosity: 3.398e+42\",\"\\u003cbr\\u003eEmitted Luminosity: 1.061e+43\\u003cbr\\u003eRequested Luminosity: 1.059e+43\\u003cbr\\u003eAbsorbed Luminosity: 3.398e+42\",\"\\u003cbr\\u003eEmitted Luminosity: 1.061e+43\\u003cbr\\u003eRequested Luminosity: 1.059e+43\\u003cbr\\u003eAbsorbed Luminosity: 3.398e+42\",\"\\u003cbr\\u003eEmitted Luminosity: 1.061e+43\\u003cbr\\u003eRequested Luminosity: 1.059e+43\\u003cbr\\u003eAbsorbed Luminosity: 3.398e+42\",\"\\u003cbr\\u003eEmitted Luminosity: 1.061e+43\\u003cbr\\u003eRequested Luminosity: 1.059e+43\\u003cbr\\u003eAbsorbed Luminosity: 3.398e+42\",\"\\u003cbr\\u003eEmitted Luminosity: 1.061e+43\\u003cbr\\u003eRequested Luminosity: 1.059e+43\\u003cbr\\u003eAbsorbed Luminosity: 3.398e+42\"],\"hovertemplate\":\"\\u003cb\\u003eY\\u003c\\u002fb\\u003e: %{y:.3f} at \\u003cb\\u003eX\\u003c\\u002fb\\u003e = %{x:,.0f}%{customdata}\",\"legendgroup\":\"group-6\",\"line\":{\"color\":\"#008dff\"},\"name\":\"6\",\"showlegend\":false,\"x\":[11000.0,11450.000000000002,11900.000000000002,12350.000000000002,12800.000000000002,13250.000000000002,13700.000000000002,14150.000000000002,14600.000000000002,15050.000000000002,15500.000000000002,15950.000000000002,16400.0,16850.0,17300.0,17750.0,18200.0,18650.0,19100.0,19550.0,20000.0],\"y\":[11049.22874127122,11156.739344493219,11233.15917815918,11257.868191260715,11259.221208486419,11218.728472830753,11177.383546698788,11170.932573869288,11091.339690904586,11058.832647158944,11086.886502394429,10967.000309866105,10888.705532221004,10859.35114607598,10794.116218671597,10665.940457517274,10614.036764287464,10560.167631286164,10433.600105678477,10347.135457927576],\"type\":\"scatter\",\"uid\":\"9acb4c62-c3c8-4f40-8b06-4ac1a7fdea49\",\"xaxis\":\"x\",\"yaxis\":\"y\"},{\"customdata\":[\"\\u003cbr\\u003eEmitted Luminosity: 1.061e+43\\u003cbr\\u003eRequested Luminosity: 1.059e+43\\u003cbr\\u003eAbsorbed Luminosity: 3.398e+42\",\"\\u003cbr\\u003eEmitted Luminosity: 1.061e+43\\u003cbr\\u003eRequested Luminosity: 1.059e+43\\u003cbr\\u003eAbsorbed Luminosity: 3.398e+42\",\"\\u003cbr\\u003eEmitted Luminosity: 1.061e+43\\u003cbr\\u003eRequested Luminosity: 1.059e+43\\u003cbr\\u003eAbsorbed Luminosity: 3.398e+42\",\"\\u003cbr\\u003eEmitted Luminosity: 1.061e+43\\u003cbr\\u003eRequested Luminosity: 1.059e+43\\u003cbr\\u003eAbsorbed Luminosity: 3.398e+42\",\"\\u003cbr\\u003eEmitted Luminosity: 1.061e+43\\u003cbr\\u003eRequested Luminosity: 1.059e+43\\u003cbr\\u003eAbsorbed Luminosity: 3.398e+42\",\"\\u003cbr\\u003eEmitted Luminosity: 1.061e+43\\u003cbr\\u003eRequested Luminosity: 1.059e+43\\u003cbr\\u003eAbsorbed Luminosity: 3.398e+42\",\"\\u003cbr\\u003eEmitted Luminosity: 1.061e+43\\u003cbr\\u003eRequested Luminosity: 1.059e+43\\u003cbr\\u003eAbsorbed Luminosity: 3.398e+42\",\"\\u003cbr\\u003eEmitted Luminosity: 1.061e+43\\u003cbr\\u003eRequested Luminosity: 1.059e+43\\u003cbr\\u003eAbsorbed Luminosity: 3.398e+42\",\"\\u003cbr\\u003eEmitted Luminosity: 1.061e+43\\u003cbr\\u003eRequested Luminosity: 1.059e+43\\u003cbr\\u003eAbsorbed Luminosity: 3.398e+42\",\"\\u003cbr\\u003eEmitted Luminosity: 1.061e+43\\u003cbr\\u003eRequested Luminosity: 1.059e+43\\u003cbr\\u003eAbsorbed Luminosity: 3.398e+42\",\"\\u003cbr\\u003eEmitted Luminosity: 1.061e+43\\u003cbr\\u003eRequested Luminosity: 1.059e+43\\u003cbr\\u003eAbsorbed Luminosity: 3.398e+42\",\"\\u003cbr\\u003eEmitted Luminosity: 1.061e+43\\u003cbr\\u003eRequested Luminosity: 1.059e+43\\u003cbr\\u003eAbsorbed Luminosity: 3.398e+42\",\"\\u003cbr\\u003eEmitted Luminosity: 1.061e+43\\u003cbr\\u003eRequested Luminosity: 1.059e+43\\u003cbr\\u003eAbsorbed Luminosity: 3.398e+42\",\"\\u003cbr\\u003eEmitted Luminosity: 1.061e+43\\u003cbr\\u003eRequested Luminosity: 1.059e+43\\u003cbr\\u003eAbsorbed Luminosity: 3.398e+42\",\"\\u003cbr\\u003eEmitted Luminosity: 1.061e+43\\u003cbr\\u003eRequested Luminosity: 1.059e+43\\u003cbr\\u003eAbsorbed Luminosity: 3.398e+42\",\"\\u003cbr\\u003eEmitted Luminosity: 1.061e+43\\u003cbr\\u003eRequested Luminosity: 1.059e+43\\u003cbr\\u003eAbsorbed Luminosity: 3.398e+42\",\"\\u003cbr\\u003eEmitted Luminosity: 1.061e+43\\u003cbr\\u003eRequested Luminosity: 1.059e+43\\u003cbr\\u003eAbsorbed Luminosity: 3.398e+42\",\"\\u003cbr\\u003eEmitted Luminosity: 1.061e+43\\u003cbr\\u003eRequested Luminosity: 1.059e+43\\u003cbr\\u003eAbsorbed Luminosity: 3.398e+42\",\"\\u003cbr\\u003eEmitted Luminosity: 1.061e+43\\u003cbr\\u003eRequested Luminosity: 1.059e+43\\u003cbr\\u003eAbsorbed Luminosity: 3.398e+42\",\"\\u003cbr\\u003eEmitted Luminosity: 1.061e+43\\u003cbr\\u003eRequested Luminosity: 1.059e+43\\u003cbr\\u003eAbsorbed Luminosity: 3.398e+42\",\"\\u003cbr\\u003eEmitted Luminosity: 1.061e+43\\u003cbr\\u003eRequested Luminosity: 1.059e+43\\u003cbr\\u003eAbsorbed Luminosity: 3.398e+42\"],\"hovertemplate\":\"\\u003cb\\u003eY\\u003c\\u002fb\\u003e: %{y:.3f} at \\u003cb\\u003eX\\u003c\\u002fb\\u003e = %{x:,.0f}%{customdata}\",\"legendgroup\":\"group-6\",\"line\":{\"color\":\"#008dff\"},\"name\":\"6\",\"x\":[11000.0,11450.000000000002,11900.000000000002,12350.000000000002,12800.000000000002,13250.000000000002,13700.000000000002,14150.000000000002,14600.000000000002,15050.000000000002,15500.000000000002,15950.000000000002,16400.0,16850.0,17300.0,17750.0,18200.0,18650.0,19100.0,19550.0,20000.0],\"y\":[0.46974009204918643,0.35887007082443906,0.2907777651818789,0.24436511935852295,0.20776673472012352,0.18520749659469501,0.16487114756048932,0.1471107652905975,0.13525030237662092,0.12403257611733708,0.11208234451670775,0.10708809158337833,0.10081990924490399,0.09351009490574592,0.0879775824692628,0.08557480992555642,0.08167863234963973,0.07764065291960938,0.07578960083146456,0.0732477407834901],\"type\":\"scatter\",\"uid\":\"e800070c-adaa-4c9a-bdf1-d39a210088ae\",\"xaxis\":\"x2\",\"yaxis\":\"y2\"},{\"customdata\":[\"\\u003cbr\\u003eEmitted Luminosity: 1.061e+43\\u003cbr\\u003eRequested Luminosity: 1.059e+43\\u003cbr\\u003eAbsorbed Luminosity: 3.382e+42\",\"\\u003cbr\\u003eEmitted Luminosity: 1.061e+43\\u003cbr\\u003eRequested Luminosity: 1.059e+43\\u003cbr\\u003eAbsorbed Luminosity: 3.382e+42\",\"\\u003cbr\\u003eEmitted Luminosity: 1.061e+43\\u003cbr\\u003eRequested Luminosity: 1.059e+43\\u003cbr\\u003eAbsorbed Luminosity: 3.382e+42\",\"\\u003cbr\\u003eEmitted Luminosity: 1.061e+43\\u003cbr\\u003eRequested Luminosity: 1.059e+43\\u003cbr\\u003eAbsorbed Luminosity: 3.382e+42\",\"\\u003cbr\\u003eEmitted Luminosity: 1.061e+43\\u003cbr\\u003eRequested Luminosity: 1.059e+43\\u003cbr\\u003eAbsorbed Luminosity: 3.382e+42\",\"\\u003cbr\\u003eEmitted Luminosity: 1.061e+43\\u003cbr\\u003eRequested Luminosity: 1.059e+43\\u003cbr\\u003eAbsorbed Luminosity: 3.382e+42\",\"\\u003cbr\\u003eEmitted Luminosity: 1.061e+43\\u003cbr\\u003eRequested Luminosity: 1.059e+43\\u003cbr\\u003eAbsorbed Luminosity: 3.382e+42\",\"\\u003cbr\\u003eEmitted Luminosity: 1.061e+43\\u003cbr\\u003eRequested Luminosity: 1.059e+43\\u003cbr\\u003eAbsorbed Luminosity: 3.382e+42\",\"\\u003cbr\\u003eEmitted Luminosity: 1.061e+43\\u003cbr\\u003eRequested Luminosity: 1.059e+43\\u003cbr\\u003eAbsorbed Luminosity: 3.382e+42\",\"\\u003cbr\\u003eEmitted Luminosity: 1.061e+43\\u003cbr\\u003eRequested Luminosity: 1.059e+43\\u003cbr\\u003eAbsorbed Luminosity: 3.382e+42\",\"\\u003cbr\\u003eEmitted Luminosity: 1.061e+43\\u003cbr\\u003eRequested Luminosity: 1.059e+43\\u003cbr\\u003eAbsorbed Luminosity: 3.382e+42\",\"\\u003cbr\\u003eEmitted Luminosity: 1.061e+43\\u003cbr\\u003eRequested Luminosity: 1.059e+43\\u003cbr\\u003eAbsorbed Luminosity: 3.382e+42\",\"\\u003cbr\\u003eEmitted Luminosity: 1.061e+43\\u003cbr\\u003eRequested Luminosity: 1.059e+43\\u003cbr\\u003eAbsorbed Luminosity: 3.382e+42\",\"\\u003cbr\\u003eEmitted Luminosity: 1.061e+43\\u003cbr\\u003eRequested Luminosity: 1.059e+43\\u003cbr\\u003eAbsorbed Luminosity: 3.382e+42\",\"\\u003cbr\\u003eEmitted Luminosity: 1.061e+43\\u003cbr\\u003eRequested Luminosity: 1.059e+43\\u003cbr\\u003eAbsorbed Luminosity: 3.382e+42\",\"\\u003cbr\\u003eEmitted Luminosity: 1.061e+43\\u003cbr\\u003eRequested Luminosity: 1.059e+43\\u003cbr\\u003eAbsorbed Luminosity: 3.382e+42\",\"\\u003cbr\\u003eEmitted Luminosity: 1.061e+43\\u003cbr\\u003eRequested Luminosity: 1.059e+43\\u003cbr\\u003eAbsorbed Luminosity: 3.382e+42\",\"\\u003cbr\\u003eEmitted Luminosity: 1.061e+43\\u003cbr\\u003eRequested Luminosity: 1.059e+43\\u003cbr\\u003eAbsorbed Luminosity: 3.382e+42\",\"\\u003cbr\\u003eEmitted Luminosity: 1.061e+43\\u003cbr\\u003eRequested Luminosity: 1.059e+43\\u003cbr\\u003eAbsorbed Luminosity: 3.382e+42\",\"\\u003cbr\\u003eEmitted Luminosity: 1.061e+43\\u003cbr\\u003eRequested Luminosity: 1.059e+43\\u003cbr\\u003eAbsorbed Luminosity: 3.382e+42\",\"\\u003cbr\\u003eEmitted Luminosity: 1.061e+43\\u003cbr\\u003eRequested Luminosity: 1.059e+43\\u003cbr\\u003eAbsorbed Luminosity: 3.382e+42\"],\"hovertemplate\":\"\\u003cb\\u003eY\\u003c\\u002fb\\u003e: %{y:.3f} at \\u003cb\\u003eX\\u003c\\u002fb\\u003e = %{x:,.0f}%{customdata}\",\"legendgroup\":\"group-7\",\"line\":{\"color\":\"#00c3ff\"},\"name\":\"7\",\"showlegend\":false,\"x\":[11000.0,11450.000000000002,11900.000000000002,12350.000000000002,12800.000000000002,13250.000000000002,13700.000000000002,14150.000000000002,14600.000000000002,15050.000000000002,15500.000000000002,15950.000000000002,16400.0,16850.0,17300.0,17750.0,18200.0,18650.0,19100.0,19550.0,20000.0],\"y\":[11037.085029667238,11149.996508780083,11245.896001151734,11293.021085308326,11348.844548977691,11303.814492097596,11275.886176912569,11193.561803925173,11139.762082639749,11142.501672683753,11052.157102971385,10947.27831245828,10930.67338645576,10870.232156388423,10717.53898656971,10653.978752749388,10563.076188760795,10483.387483952745,10423.153867974439,10305.269816779422],\"type\":\"scatter\",\"uid\":\"f5642072-3d74-4396-ab98-760979bde49e\",\"xaxis\":\"x\",\"yaxis\":\"y\"},{\"customdata\":[\"\\u003cbr\\u003eEmitted Luminosity: 1.061e+43\\u003cbr\\u003eRequested Luminosity: 1.059e+43\\u003cbr\\u003eAbsorbed Luminosity: 3.382e+42\",\"\\u003cbr\\u003eEmitted Luminosity: 1.061e+43\\u003cbr\\u003eRequested Luminosity: 1.059e+43\\u003cbr\\u003eAbsorbed Luminosity: 3.382e+42\",\"\\u003cbr\\u003eEmitted Luminosity: 1.061e+43\\u003cbr\\u003eRequested Luminosity: 1.059e+43\\u003cbr\\u003eAbsorbed Luminosity: 3.382e+42\",\"\\u003cbr\\u003eEmitted Luminosity: 1.061e+43\\u003cbr\\u003eRequested Luminosity: 1.059e+43\\u003cbr\\u003eAbsorbed Luminosity: 3.382e+42\",\"\\u003cbr\\u003eEmitted Luminosity: 1.061e+43\\u003cbr\\u003eRequested Luminosity: 1.059e+43\\u003cbr\\u003eAbsorbed Luminosity: 3.382e+42\",\"\\u003cbr\\u003eEmitted Luminosity: 1.061e+43\\u003cbr\\u003eRequested Luminosity: 1.059e+43\\u003cbr\\u003eAbsorbed Luminosity: 3.382e+42\",\"\\u003cbr\\u003eEmitted Luminosity: 1.061e+43\\u003cbr\\u003eRequested Luminosity: 1.059e+43\\u003cbr\\u003eAbsorbed Luminosity: 3.382e+42\",\"\\u003cbr\\u003eEmitted Luminosity: 1.061e+43\\u003cbr\\u003eRequested Luminosity: 1.059e+43\\u003cbr\\u003eAbsorbed Luminosity: 3.382e+42\",\"\\u003cbr\\u003eEmitted Luminosity: 1.061e+43\\u003cbr\\u003eRequested Luminosity: 1.059e+43\\u003cbr\\u003eAbsorbed Luminosity: 3.382e+42\",\"\\u003cbr\\u003eEmitted Luminosity: 1.061e+43\\u003cbr\\u003eRequested Luminosity: 1.059e+43\\u003cbr\\u003eAbsorbed Luminosity: 3.382e+42\",\"\\u003cbr\\u003eEmitted Luminosity: 1.061e+43\\u003cbr\\u003eRequested Luminosity: 1.059e+43\\u003cbr\\u003eAbsorbed Luminosity: 3.382e+42\",\"\\u003cbr\\u003eEmitted Luminosity: 1.061e+43\\u003cbr\\u003eRequested Luminosity: 1.059e+43\\u003cbr\\u003eAbsorbed Luminosity: 3.382e+42\",\"\\u003cbr\\u003eEmitted Luminosity: 1.061e+43\\u003cbr\\u003eRequested Luminosity: 1.059e+43\\u003cbr\\u003eAbsorbed Luminosity: 3.382e+42\",\"\\u003cbr\\u003eEmitted Luminosity: 1.061e+43\\u003cbr\\u003eRequested Luminosity: 1.059e+43\\u003cbr\\u003eAbsorbed Luminosity: 3.382e+42\",\"\\u003cbr\\u003eEmitted Luminosity: 1.061e+43\\u003cbr\\u003eRequested Luminosity: 1.059e+43\\u003cbr\\u003eAbsorbed Luminosity: 3.382e+42\",\"\\u003cbr\\u003eEmitted Luminosity: 1.061e+43\\u003cbr\\u003eRequested Luminosity: 1.059e+43\\u003cbr\\u003eAbsorbed Luminosity: 3.382e+42\",\"\\u003cbr\\u003eEmitted Luminosity: 1.061e+43\\u003cbr\\u003eRequested Luminosity: 1.059e+43\\u003cbr\\u003eAbsorbed Luminosity: 3.382e+42\",\"\\u003cbr\\u003eEmitted Luminosity: 1.061e+43\\u003cbr\\u003eRequested Luminosity: 1.059e+43\\u003cbr\\u003eAbsorbed Luminosity: 3.382e+42\",\"\\u003cbr\\u003eEmitted Luminosity: 1.061e+43\\u003cbr\\u003eRequested Luminosity: 1.059e+43\\u003cbr\\u003eAbsorbed Luminosity: 3.382e+42\",\"\\u003cbr\\u003eEmitted Luminosity: 1.061e+43\\u003cbr\\u003eRequested Luminosity: 1.059e+43\\u003cbr\\u003eAbsorbed Luminosity: 3.382e+42\",\"\\u003cbr\\u003eEmitted Luminosity: 1.061e+43\\u003cbr\\u003eRequested Luminosity: 1.059e+43\\u003cbr\\u003eAbsorbed Luminosity: 3.382e+42\"],\"hovertemplate\":\"\\u003cb\\u003eY\\u003c\\u002fb\\u003e: %{y:.3f} at \\u003cb\\u003eX\\u003c\\u002fb\\u003e = %{x:,.0f}%{customdata}\",\"legendgroup\":\"group-7\",\"line\":{\"color\":\"#00c3ff\"},\"name\":\"7\",\"x\":[11000.0,11450.000000000002,11900.000000000002,12350.000000000002,12800.000000000002,13250.000000000002,13700.000000000002,14150.000000000002,14600.000000000002,15050.000000000002,15500.000000000002,15950.000000000002,16400.0,16850.0,17300.0,17750.0,18200.0,18650.0,19100.0,19550.0,20000.0],\"y\":[0.469517093946523,0.35581323720647473,0.28344389160822775,0.2367903809601214,0.20063186777606448,0.17752655777009466,0.15896809991281372,0.14566984033579802,0.13249513268760554,0.11945436889586497,0.11202516462257399,0.10653028390240571,0.09880763411512516,0.09250432179035296,0.09049044503707102,0.08597716648297898,0.08263854514255164,0.07942790268730017,0.07616189126115118,0.0743800321682757],\"type\":\"scatter\",\"uid\":\"859d210b-e8cf-43dd-bd36-ebc9d39476a1\",\"xaxis\":\"x2\",\"yaxis\":\"y2\"},{\"customdata\":[\"\\u003cbr\\u003eEmitted Luminosity: 1.062e+43\\u003cbr\\u003eRequested Luminosity: 1.059e+43\\u003cbr\\u003eAbsorbed Luminosity: 3.35e+42\",\"\\u003cbr\\u003eEmitted Luminosity: 1.062e+43\\u003cbr\\u003eRequested Luminosity: 1.059e+43\\u003cbr\\u003eAbsorbed Luminosity: 3.35e+42\",\"\\u003cbr\\u003eEmitted Luminosity: 1.062e+43\\u003cbr\\u003eRequested Luminosity: 1.059e+43\\u003cbr\\u003eAbsorbed Luminosity: 3.35e+42\",\"\\u003cbr\\u003eEmitted Luminosity: 1.062e+43\\u003cbr\\u003eRequested Luminosity: 1.059e+43\\u003cbr\\u003eAbsorbed Luminosity: 3.35e+42\",\"\\u003cbr\\u003eEmitted Luminosity: 1.062e+43\\u003cbr\\u003eRequested Luminosity: 1.059e+43\\u003cbr\\u003eAbsorbed Luminosity: 3.35e+42\",\"\\u003cbr\\u003eEmitted Luminosity: 1.062e+43\\u003cbr\\u003eRequested Luminosity: 1.059e+43\\u003cbr\\u003eAbsorbed Luminosity: 3.35e+42\",\"\\u003cbr\\u003eEmitted Luminosity: 1.062e+43\\u003cbr\\u003eRequested Luminosity: 1.059e+43\\u003cbr\\u003eAbsorbed Luminosity: 3.35e+42\",\"\\u003cbr\\u003eEmitted Luminosity: 1.062e+43\\u003cbr\\u003eRequested Luminosity: 1.059e+43\\u003cbr\\u003eAbsorbed Luminosity: 3.35e+42\",\"\\u003cbr\\u003eEmitted Luminosity: 1.062e+43\\u003cbr\\u003eRequested Luminosity: 1.059e+43\\u003cbr\\u003eAbsorbed Luminosity: 3.35e+42\",\"\\u003cbr\\u003eEmitted Luminosity: 1.062e+43\\u003cbr\\u003eRequested Luminosity: 1.059e+43\\u003cbr\\u003eAbsorbed Luminosity: 3.35e+42\",\"\\u003cbr\\u003eEmitted Luminosity: 1.062e+43\\u003cbr\\u003eRequested Luminosity: 1.059e+43\\u003cbr\\u003eAbsorbed Luminosity: 3.35e+42\",\"\\u003cbr\\u003eEmitted Luminosity: 1.062e+43\\u003cbr\\u003eRequested Luminosity: 1.059e+43\\u003cbr\\u003eAbsorbed Luminosity: 3.35e+42\",\"\\u003cbr\\u003eEmitted Luminosity: 1.062e+43\\u003cbr\\u003eRequested Luminosity: 1.059e+43\\u003cbr\\u003eAbsorbed Luminosity: 3.35e+42\",\"\\u003cbr\\u003eEmitted Luminosity: 1.062e+43\\u003cbr\\u003eRequested Luminosity: 1.059e+43\\u003cbr\\u003eAbsorbed Luminosity: 3.35e+42\",\"\\u003cbr\\u003eEmitted Luminosity: 1.062e+43\\u003cbr\\u003eRequested Luminosity: 1.059e+43\\u003cbr\\u003eAbsorbed Luminosity: 3.35e+42\",\"\\u003cbr\\u003eEmitted Luminosity: 1.062e+43\\u003cbr\\u003eRequested Luminosity: 1.059e+43\\u003cbr\\u003eAbsorbed Luminosity: 3.35e+42\",\"\\u003cbr\\u003eEmitted Luminosity: 1.062e+43\\u003cbr\\u003eRequested Luminosity: 1.059e+43\\u003cbr\\u003eAbsorbed Luminosity: 3.35e+42\",\"\\u003cbr\\u003eEmitted Luminosity: 1.062e+43\\u003cbr\\u003eRequested Luminosity: 1.059e+43\\u003cbr\\u003eAbsorbed Luminosity: 3.35e+42\",\"\\u003cbr\\u003eEmitted Luminosity: 1.062e+43\\u003cbr\\u003eRequested Luminosity: 1.059e+43\\u003cbr\\u003eAbsorbed Luminosity: 3.35e+42\",\"\\u003cbr\\u003eEmitted Luminosity: 1.062e+43\\u003cbr\\u003eRequested Luminosity: 1.059e+43\\u003cbr\\u003eAbsorbed Luminosity: 3.35e+42\",\"\\u003cbr\\u003eEmitted Luminosity: 1.062e+43\\u003cbr\\u003eRequested Luminosity: 1.059e+43\\u003cbr\\u003eAbsorbed Luminosity: 3.35e+42\"],\"hovertemplate\":\"\\u003cb\\u003eY\\u003c\\u002fb\\u003e: %{y:.3f} at \\u003cb\\u003eX\\u003c\\u002fb\\u003e = %{x:,.0f}%{customdata}\",\"legendgroup\":\"group-8\",\"line\":{\"color\":\"#0ff8e8\"},\"name\":\"8\",\"showlegend\":false,\"x\":[11000.0,11450.000000000002,11900.000000000002,12350.000000000002,12800.000000000002,13250.000000000002,13700.000000000002,14150.000000000002,14600.000000000002,15050.000000000002,15500.000000000002,15950.000000000002,16400.0,16850.0,17300.0,17750.0,18200.0,18650.0,19100.0,19550.0,20000.0],\"y\":[11052.29533323976,11212.705358781344,11368.864630755741,11398.789954767857,11425.824022870154,11374.755678293863,11321.373195054077,11274.453380575866,11206.414740158687,11152.830476319628,11103.737911523063,10987.81945752289,10971.696462656982,10850.543087899474,10728.16974994152,10715.36023950141,10614.329903773894,10533.835985695128,10505.237781177713,10368.71936317908],\"type\":\"scatter\",\"uid\":\"a33e369f-6d19-4df7-8616-e02a8aa5fdfb\",\"xaxis\":\"x\",\"yaxis\":\"y\"},{\"customdata\":[\"\\u003cbr\\u003eEmitted Luminosity: 1.062e+43\\u003cbr\\u003eRequested Luminosity: 1.059e+43\\u003cbr\\u003eAbsorbed Luminosity: 3.35e+42\",\"\\u003cbr\\u003eEmitted Luminosity: 1.062e+43\\u003cbr\\u003eRequested Luminosity: 1.059e+43\\u003cbr\\u003eAbsorbed Luminosity: 3.35e+42\",\"\\u003cbr\\u003eEmitted Luminosity: 1.062e+43\\u003cbr\\u003eRequested Luminosity: 1.059e+43\\u003cbr\\u003eAbsorbed Luminosity: 3.35e+42\",\"\\u003cbr\\u003eEmitted Luminosity: 1.062e+43\\u003cbr\\u003eRequested Luminosity: 1.059e+43\\u003cbr\\u003eAbsorbed Luminosity: 3.35e+42\",\"\\u003cbr\\u003eEmitted Luminosity: 1.062e+43\\u003cbr\\u003eRequested Luminosity: 1.059e+43\\u003cbr\\u003eAbsorbed Luminosity: 3.35e+42\",\"\\u003cbr\\u003eEmitted Luminosity: 1.062e+43\\u003cbr\\u003eRequested Luminosity: 1.059e+43\\u003cbr\\u003eAbsorbed Luminosity: 3.35e+42\",\"\\u003cbr\\u003eEmitted Luminosity: 1.062e+43\\u003cbr\\u003eRequested Luminosity: 1.059e+43\\u003cbr\\u003eAbsorbed Luminosity: 3.35e+42\",\"\\u003cbr\\u003eEmitted Luminosity: 1.062e+43\\u003cbr\\u003eRequested Luminosity: 1.059e+43\\u003cbr\\u003eAbsorbed Luminosity: 3.35e+42\",\"\\u003cbr\\u003eEmitted Luminosity: 1.062e+43\\u003cbr\\u003eRequested Luminosity: 1.059e+43\\u003cbr\\u003eAbsorbed Luminosity: 3.35e+42\",\"\\u003cbr\\u003eEmitted Luminosity: 1.062e+43\\u003cbr\\u003eRequested Luminosity: 1.059e+43\\u003cbr\\u003eAbsorbed Luminosity: 3.35e+42\",\"\\u003cbr\\u003eEmitted Luminosity: 1.062e+43\\u003cbr\\u003eRequested Luminosity: 1.059e+43\\u003cbr\\u003eAbsorbed Luminosity: 3.35e+42\",\"\\u003cbr\\u003eEmitted Luminosity: 1.062e+43\\u003cbr\\u003eRequested Luminosity: 1.059e+43\\u003cbr\\u003eAbsorbed Luminosity: 3.35e+42\",\"\\u003cbr\\u003eEmitted Luminosity: 1.062e+43\\u003cbr\\u003eRequested Luminosity: 1.059e+43\\u003cbr\\u003eAbsorbed Luminosity: 3.35e+42\",\"\\u003cbr\\u003eEmitted Luminosity: 1.062e+43\\u003cbr\\u003eRequested Luminosity: 1.059e+43\\u003cbr\\u003eAbsorbed Luminosity: 3.35e+42\",\"\\u003cbr\\u003eEmitted Luminosity: 1.062e+43\\u003cbr\\u003eRequested Luminosity: 1.059e+43\\u003cbr\\u003eAbsorbed Luminosity: 3.35e+42\",\"\\u003cbr\\u003eEmitted Luminosity: 1.062e+43\\u003cbr\\u003eRequested Luminosity: 1.059e+43\\u003cbr\\u003eAbsorbed Luminosity: 3.35e+42\",\"\\u003cbr\\u003eEmitted Luminosity: 1.062e+43\\u003cbr\\u003eRequested Luminosity: 1.059e+43\\u003cbr\\u003eAbsorbed Luminosity: 3.35e+42\",\"\\u003cbr\\u003eEmitted Luminosity: 1.062e+43\\u003cbr\\u003eRequested Luminosity: 1.059e+43\\u003cbr\\u003eAbsorbed Luminosity: 3.35e+42\",\"\\u003cbr\\u003eEmitted Luminosity: 1.062e+43\\u003cbr\\u003eRequested Luminosity: 1.059e+43\\u003cbr\\u003eAbsorbed Luminosity: 3.35e+42\",\"\\u003cbr\\u003eEmitted Luminosity: 1.062e+43\\u003cbr\\u003eRequested Luminosity: 1.059e+43\\u003cbr\\u003eAbsorbed Luminosity: 3.35e+42\",\"\\u003cbr\\u003eEmitted Luminosity: 1.062e+43\\u003cbr\\u003eRequested Luminosity: 1.059e+43\\u003cbr\\u003eAbsorbed Luminosity: 3.35e+42\"],\"hovertemplate\":\"\\u003cb\\u003eY\\u003c\\u002fb\\u003e: %{y:.3f} at \\u003cb\\u003eX\\u003c\\u002fb\\u003e = %{x:,.0f}%{customdata}\",\"legendgroup\":\"group-8\",\"line\":{\"color\":\"#0ff8e8\"},\"name\":\"8\",\"x\":[11000.0,11450.000000000002,11900.000000000002,12350.000000000002,12800.000000000002,13250.000000000002,13700.000000000002,14150.000000000002,14600.000000000002,15050.000000000002,15500.000000000002,15950.000000000002,16400.0,16850.0,17300.0,17750.0,18200.0,18650.0,19100.0,19550.0,20000.0],\"y\":[0.47175098386940717,0.353336431752856,0.27692863672960516,0.23227462933177442,0.19923392938816556,0.1752154549995984,0.15695860758130606,0.14254015465364067,0.12987043869697293,0.11949812358598093,0.1106579969676751,0.10503597461879001,0.09725717603418774,0.0931219297616607,0.08970996994467297,0.08403489073538789,0.08128474932797664,0.07834393264397808,0.07382031755942876,0.07253718280984889],\"type\":\"scatter\",\"uid\":\"638c7f15-cdd0-4d61-9e17-b05e997eefaf\",\"xaxis\":\"x2\",\"yaxis\":\"y2\"},{\"customdata\":[\"\\u003cbr\\u003eEmitted Luminosity: 1.052e+43\\u003cbr\\u003eRequested Luminosity: 1.059e+43\\u003cbr\\u003eAbsorbed Luminosity: 3.411e+42\",\"\\u003cbr\\u003eEmitted Luminosity: 1.052e+43\\u003cbr\\u003eRequested Luminosity: 1.059e+43\\u003cbr\\u003eAbsorbed Luminosity: 3.411e+42\",\"\\u003cbr\\u003eEmitted Luminosity: 1.052e+43\\u003cbr\\u003eRequested Luminosity: 1.059e+43\\u003cbr\\u003eAbsorbed Luminosity: 3.411e+42\",\"\\u003cbr\\u003eEmitted Luminosity: 1.052e+43\\u003cbr\\u003eRequested Luminosity: 1.059e+43\\u003cbr\\u003eAbsorbed Luminosity: 3.411e+42\",\"\\u003cbr\\u003eEmitted Luminosity: 1.052e+43\\u003cbr\\u003eRequested Luminosity: 1.059e+43\\u003cbr\\u003eAbsorbed Luminosity: 3.411e+42\",\"\\u003cbr\\u003eEmitted Luminosity: 1.052e+43\\u003cbr\\u003eRequested Luminosity: 1.059e+43\\u003cbr\\u003eAbsorbed Luminosity: 3.411e+42\",\"\\u003cbr\\u003eEmitted Luminosity: 1.052e+43\\u003cbr\\u003eRequested Luminosity: 1.059e+43\\u003cbr\\u003eAbsorbed Luminosity: 3.411e+42\",\"\\u003cbr\\u003eEmitted Luminosity: 1.052e+43\\u003cbr\\u003eRequested Luminosity: 1.059e+43\\u003cbr\\u003eAbsorbed Luminosity: 3.411e+42\",\"\\u003cbr\\u003eEmitted Luminosity: 1.052e+43\\u003cbr\\u003eRequested Luminosity: 1.059e+43\\u003cbr\\u003eAbsorbed Luminosity: 3.411e+42\",\"\\u003cbr\\u003eEmitted Luminosity: 1.052e+43\\u003cbr\\u003eRequested Luminosity: 1.059e+43\\u003cbr\\u003eAbsorbed Luminosity: 3.411e+42\",\"\\u003cbr\\u003eEmitted Luminosity: 1.052e+43\\u003cbr\\u003eRequested Luminosity: 1.059e+43\\u003cbr\\u003eAbsorbed Luminosity: 3.411e+42\",\"\\u003cbr\\u003eEmitted Luminosity: 1.052e+43\\u003cbr\\u003eRequested Luminosity: 1.059e+43\\u003cbr\\u003eAbsorbed Luminosity: 3.411e+42\",\"\\u003cbr\\u003eEmitted Luminosity: 1.052e+43\\u003cbr\\u003eRequested Luminosity: 1.059e+43\\u003cbr\\u003eAbsorbed Luminosity: 3.411e+42\",\"\\u003cbr\\u003eEmitted Luminosity: 1.052e+43\\u003cbr\\u003eRequested Luminosity: 1.059e+43\\u003cbr\\u003eAbsorbed Luminosity: 3.411e+42\",\"\\u003cbr\\u003eEmitted Luminosity: 1.052e+43\\u003cbr\\u003eRequested Luminosity: 1.059e+43\\u003cbr\\u003eAbsorbed Luminosity: 3.411e+42\",\"\\u003cbr\\u003eEmitted Luminosity: 1.052e+43\\u003cbr\\u003eRequested Luminosity: 1.059e+43\\u003cbr\\u003eAbsorbed Luminosity: 3.411e+42\",\"\\u003cbr\\u003eEmitted Luminosity: 1.052e+43\\u003cbr\\u003eRequested Luminosity: 1.059e+43\\u003cbr\\u003eAbsorbed Luminosity: 3.411e+42\",\"\\u003cbr\\u003eEmitted Luminosity: 1.052e+43\\u003cbr\\u003eRequested Luminosity: 1.059e+43\\u003cbr\\u003eAbsorbed Luminosity: 3.411e+42\",\"\\u003cbr\\u003eEmitted Luminosity: 1.052e+43\\u003cbr\\u003eRequested Luminosity: 1.059e+43\\u003cbr\\u003eAbsorbed Luminosity: 3.411e+42\",\"\\u003cbr\\u003eEmitted Luminosity: 1.052e+43\\u003cbr\\u003eRequested Luminosity: 1.059e+43\\u003cbr\\u003eAbsorbed Luminosity: 3.411e+42\",\"\\u003cbr\\u003eEmitted Luminosity: 1.052e+43\\u003cbr\\u003eRequested Luminosity: 1.059e+43\\u003cbr\\u003eAbsorbed Luminosity: 3.411e+42\"],\"hovertemplate\":\"\\u003cb\\u003eY\\u003c\\u002fb\\u003e: %{y:.3f} at \\u003cb\\u003eX\\u003c\\u002fb\\u003e = %{x:,.0f}%{customdata}\",\"legendgroup\":\"group-9\",\"line\":{\"color\":\"#3affbc\"},\"name\":\"9\",\"showlegend\":false,\"x\":[11000.0,11450.000000000002,11900.000000000002,12350.000000000002,12800.000000000002,13250.000000000002,13700.000000000002,14150.000000000002,14600.000000000002,15050.000000000002,15500.000000000002,15950.000000000002,16400.0,16850.0,17300.0,17750.0,18200.0,18650.0,19100.0,19550.0,20000.0],\"y\":[11054.591788545322,11225.52828540907,11397.756562881781,11384.015369088182,11451.38931482728,11459.610537655006,11376.050047314258,11274.095523673941,11272.499210492793,11178.085948021344,11140.791740403827,11068.61188565096,11035.291497289018,10948.37975935221,10846.30845563005,10760.16457229532,10717.142666568872,10660.047059784678,10504.059453923082,10393.011183336943],\"type\":\"scatter\",\"uid\":\"bc84d00d-db5f-4b37-a8fb-5fdc57f5ec2d\",\"xaxis\":\"x\",\"yaxis\":\"y\"},{\"customdata\":[\"\\u003cbr\\u003eEmitted Luminosity: 1.052e+43\\u003cbr\\u003eRequested Luminosity: 1.059e+43\\u003cbr\\u003eAbsorbed Luminosity: 3.411e+42\",\"\\u003cbr\\u003eEmitted Luminosity: 1.052e+43\\u003cbr\\u003eRequested Luminosity: 1.059e+43\\u003cbr\\u003eAbsorbed Luminosity: 3.411e+42\",\"\\u003cbr\\u003eEmitted Luminosity: 1.052e+43\\u003cbr\\u003eRequested Luminosity: 1.059e+43\\u003cbr\\u003eAbsorbed Luminosity: 3.411e+42\",\"\\u003cbr\\u003eEmitted Luminosity: 1.052e+43\\u003cbr\\u003eRequested Luminosity: 1.059e+43\\u003cbr\\u003eAbsorbed Luminosity: 3.411e+42\",\"\\u003cbr\\u003eEmitted Luminosity: 1.052e+43\\u003cbr\\u003eRequested Luminosity: 1.059e+43\\u003cbr\\u003eAbsorbed Luminosity: 3.411e+42\",\"\\u003cbr\\u003eEmitted Luminosity: 1.052e+43\\u003cbr\\u003eRequested Luminosity: 1.059e+43\\u003cbr\\u003eAbsorbed Luminosity: 3.411e+42\",\"\\u003cbr\\u003eEmitted Luminosity: 1.052e+43\\u003cbr\\u003eRequested Luminosity: 1.059e+43\\u003cbr\\u003eAbsorbed Luminosity: 3.411e+42\",\"\\u003cbr\\u003eEmitted Luminosity: 1.052e+43\\u003cbr\\u003eRequested Luminosity: 1.059e+43\\u003cbr\\u003eAbsorbed Luminosity: 3.411e+42\",\"\\u003cbr\\u003eEmitted Luminosity: 1.052e+43\\u003cbr\\u003eRequested Luminosity: 1.059e+43\\u003cbr\\u003eAbsorbed Luminosity: 3.411e+42\",\"\\u003cbr\\u003eEmitted Luminosity: 1.052e+43\\u003cbr\\u003eRequested Luminosity: 1.059e+43\\u003cbr\\u003eAbsorbed Luminosity: 3.411e+42\",\"\\u003cbr\\u003eEmitted Luminosity: 1.052e+43\\u003cbr\\u003eRequested Luminosity: 1.059e+43\\u003cbr\\u003eAbsorbed Luminosity: 3.411e+42\",\"\\u003cbr\\u003eEmitted Luminosity: 1.052e+43\\u003cbr\\u003eRequested Luminosity: 1.059e+43\\u003cbr\\u003eAbsorbed Luminosity: 3.411e+42\",\"\\u003cbr\\u003eEmitted Luminosity: 1.052e+43\\u003cbr\\u003eRequested Luminosity: 1.059e+43\\u003cbr\\u003eAbsorbed Luminosity: 3.411e+42\",\"\\u003cbr\\u003eEmitted Luminosity: 1.052e+43\\u003cbr\\u003eRequested Luminosity: 1.059e+43\\u003cbr\\u003eAbsorbed Luminosity: 3.411e+42\",\"\\u003cbr\\u003eEmitted Luminosity: 1.052e+43\\u003cbr\\u003eRequested Luminosity: 1.059e+43\\u003cbr\\u003eAbsorbed Luminosity: 3.411e+42\",\"\\u003cbr\\u003eEmitted Luminosity: 1.052e+43\\u003cbr\\u003eRequested Luminosity: 1.059e+43\\u003cbr\\u003eAbsorbed Luminosity: 3.411e+42\",\"\\u003cbr\\u003eEmitted Luminosity: 1.052e+43\\u003cbr\\u003eRequested Luminosity: 1.059e+43\\u003cbr\\u003eAbsorbed Luminosity: 3.411e+42\",\"\\u003cbr\\u003eEmitted Luminosity: 1.052e+43\\u003cbr\\u003eRequested Luminosity: 1.059e+43\\u003cbr\\u003eAbsorbed Luminosity: 3.411e+42\",\"\\u003cbr\\u003eEmitted Luminosity: 1.052e+43\\u003cbr\\u003eRequested Luminosity: 1.059e+43\\u003cbr\\u003eAbsorbed Luminosity: 3.411e+42\",\"\\u003cbr\\u003eEmitted Luminosity: 1.052e+43\\u003cbr\\u003eRequested Luminosity: 1.059e+43\\u003cbr\\u003eAbsorbed Luminosity: 3.411e+42\",\"\\u003cbr\\u003eEmitted Luminosity: 1.052e+43\\u003cbr\\u003eRequested Luminosity: 1.059e+43\\u003cbr\\u003eAbsorbed Luminosity: 3.411e+42\"],\"hovertemplate\":\"\\u003cb\\u003eY\\u003c\\u002fb\\u003e: %{y:.3f} at \\u003cb\\u003eX\\u003c\\u002fb\\u003e = %{x:,.0f}%{customdata}\",\"legendgroup\":\"group-9\",\"line\":{\"color\":\"#3affbc\"},\"name\":\"9\",\"x\":[11000.0,11450.000000000002,11900.000000000002,12350.000000000002,12800.000000000002,13250.000000000002,13700.000000000002,14150.000000000002,14600.000000000002,15050.000000000002,15500.000000000002,15950.000000000002,16400.0,16850.0,17300.0,17750.0,18200.0,18650.0,19100.0,19550.0,20000.0],\"y\":[0.46869175403426744,0.3489553243108368,0.2722456231194818,0.23088331086410985,0.1939691143136328,0.16966304005135696,0.15365541720063727,0.14066857817862785,0.12625486668980218,0.11769844550497473,0.10873442851532229,0.10217357449605444,0.0942876120107233,0.08974200703506433,0.08619004238027639,0.08223115639507075,0.0777882165724272,0.07403971131532563,0.073072979921906,0.07131405530527803],\"type\":\"scatter\",\"uid\":\"8871e215-d0a0-4668-a868-afda092dccfe\",\"xaxis\":\"x2\",\"yaxis\":\"y2\"},{\"customdata\":[\"\\u003cbr\\u003eEmitted Luminosity: 1.07e+43\\u003cbr\\u003eRequested Luminosity: 1.059e+43\\u003cbr\\u003eAbsorbed Luminosity: 3.335e+42\",\"\\u003cbr\\u003eEmitted Luminosity: 1.07e+43\\u003cbr\\u003eRequested Luminosity: 1.059e+43\\u003cbr\\u003eAbsorbed Luminosity: 3.335e+42\",\"\\u003cbr\\u003eEmitted Luminosity: 1.07e+43\\u003cbr\\u003eRequested Luminosity: 1.059e+43\\u003cbr\\u003eAbsorbed Luminosity: 3.335e+42\",\"\\u003cbr\\u003eEmitted Luminosity: 1.07e+43\\u003cbr\\u003eRequested Luminosity: 1.059e+43\\u003cbr\\u003eAbsorbed Luminosity: 3.335e+42\",\"\\u003cbr\\u003eEmitted Luminosity: 1.07e+43\\u003cbr\\u003eRequested Luminosity: 1.059e+43\\u003cbr\\u003eAbsorbed Luminosity: 3.335e+42\",\"\\u003cbr\\u003eEmitted Luminosity: 1.07e+43\\u003cbr\\u003eRequested Luminosity: 1.059e+43\\u003cbr\\u003eAbsorbed Luminosity: 3.335e+42\",\"\\u003cbr\\u003eEmitted Luminosity: 1.07e+43\\u003cbr\\u003eRequested Luminosity: 1.059e+43\\u003cbr\\u003eAbsorbed Luminosity: 3.335e+42\",\"\\u003cbr\\u003eEmitted Luminosity: 1.07e+43\\u003cbr\\u003eRequested Luminosity: 1.059e+43\\u003cbr\\u003eAbsorbed Luminosity: 3.335e+42\",\"\\u003cbr\\u003eEmitted Luminosity: 1.07e+43\\u003cbr\\u003eRequested Luminosity: 1.059e+43\\u003cbr\\u003eAbsorbed Luminosity: 3.335e+42\",\"\\u003cbr\\u003eEmitted Luminosity: 1.07e+43\\u003cbr\\u003eRequested Luminosity: 1.059e+43\\u003cbr\\u003eAbsorbed Luminosity: 3.335e+42\",\"\\u003cbr\\u003eEmitted Luminosity: 1.07e+43\\u003cbr\\u003eRequested Luminosity: 1.059e+43\\u003cbr\\u003eAbsorbed Luminosity: 3.335e+42\",\"\\u003cbr\\u003eEmitted Luminosity: 1.07e+43\\u003cbr\\u003eRequested Luminosity: 1.059e+43\\u003cbr\\u003eAbsorbed Luminosity: 3.335e+42\",\"\\u003cbr\\u003eEmitted Luminosity: 1.07e+43\\u003cbr\\u003eRequested Luminosity: 1.059e+43\\u003cbr\\u003eAbsorbed Luminosity: 3.335e+42\",\"\\u003cbr\\u003eEmitted Luminosity: 1.07e+43\\u003cbr\\u003eRequested Luminosity: 1.059e+43\\u003cbr\\u003eAbsorbed Luminosity: 3.335e+42\",\"\\u003cbr\\u003eEmitted Luminosity: 1.07e+43\\u003cbr\\u003eRequested Luminosity: 1.059e+43\\u003cbr\\u003eAbsorbed Luminosity: 3.335e+42\",\"\\u003cbr\\u003eEmitted Luminosity: 1.07e+43\\u003cbr\\u003eRequested Luminosity: 1.059e+43\\u003cbr\\u003eAbsorbed Luminosity: 3.335e+42\",\"\\u003cbr\\u003eEmitted Luminosity: 1.07e+43\\u003cbr\\u003eRequested Luminosity: 1.059e+43\\u003cbr\\u003eAbsorbed Luminosity: 3.335e+42\",\"\\u003cbr\\u003eEmitted Luminosity: 1.07e+43\\u003cbr\\u003eRequested Luminosity: 1.059e+43\\u003cbr\\u003eAbsorbed Luminosity: 3.335e+42\",\"\\u003cbr\\u003eEmitted Luminosity: 1.07e+43\\u003cbr\\u003eRequested Luminosity: 1.059e+43\\u003cbr\\u003eAbsorbed Luminosity: 3.335e+42\",\"\\u003cbr\\u003eEmitted Luminosity: 1.07e+43\\u003cbr\\u003eRequested Luminosity: 1.059e+43\\u003cbr\\u003eAbsorbed Luminosity: 3.335e+42\",\"\\u003cbr\\u003eEmitted Luminosity: 1.07e+43\\u003cbr\\u003eRequested Luminosity: 1.059e+43\\u003cbr\\u003eAbsorbed Luminosity: 3.335e+42\"],\"hovertemplate\":\"\\u003cb\\u003eY\\u003c\\u002fb\\u003e: %{y:.3f} at \\u003cb\\u003eX\\u003c\\u002fb\\u003e = %{x:,.0f}%{customdata}\",\"legendgroup\":\"group-10\",\"line\":{\"color\":\"#66ff91\"},\"name\":\"10\",\"showlegend\":false,\"x\":[11000.0,11450.000000000002,11900.000000000002,12350.000000000002,12800.000000000002,13250.000000000002,13700.000000000002,14150.000000000002,14600.000000000002,15050.000000000002,15500.000000000002,15950.000000000002,16400.0,16850.0,17300.0,17750.0,18200.0,18650.0,19100.0,19550.0,20000.0],\"y\":[11038.824129265582,11205.221237775168,11257.276195672306,11249.98214249363,11346.904554717106,11369.200820065109,11327.975662394902,11265.702773707615,11242.695681101992,11125.71332868688,11085.64319508208,11003.766846760207,10952.925453189902,10818.865975300918,10751.82763965908,10622.890274112497,10581.153925626131,10457.765322389863,10406.863294976205,10293.690964430712],\"type\":\"scatter\",\"uid\":\"2938080f-2b5d-46ee-82c6-c784a1bacfb8\",\"xaxis\":\"x\",\"yaxis\":\"y\"},{\"customdata\":[\"\\u003cbr\\u003eEmitted Luminosity: 1.07e+43\\u003cbr\\u003eRequested Luminosity: 1.059e+43\\u003cbr\\u003eAbsorbed Luminosity: 3.335e+42\",\"\\u003cbr\\u003eEmitted Luminosity: 1.07e+43\\u003cbr\\u003eRequested Luminosity: 1.059e+43\\u003cbr\\u003eAbsorbed Luminosity: 3.335e+42\",\"\\u003cbr\\u003eEmitted Luminosity: 1.07e+43\\u003cbr\\u003eRequested Luminosity: 1.059e+43\\u003cbr\\u003eAbsorbed Luminosity: 3.335e+42\",\"\\u003cbr\\u003eEmitted Luminosity: 1.07e+43\\u003cbr\\u003eRequested Luminosity: 1.059e+43\\u003cbr\\u003eAbsorbed Luminosity: 3.335e+42\",\"\\u003cbr\\u003eEmitted Luminosity: 1.07e+43\\u003cbr\\u003eRequested Luminosity: 1.059e+43\\u003cbr\\u003eAbsorbed Luminosity: 3.335e+42\",\"\\u003cbr\\u003eEmitted Luminosity: 1.07e+43\\u003cbr\\u003eRequested Luminosity: 1.059e+43\\u003cbr\\u003eAbsorbed Luminosity: 3.335e+42\",\"\\u003cbr\\u003eEmitted Luminosity: 1.07e+43\\u003cbr\\u003eRequested Luminosity: 1.059e+43\\u003cbr\\u003eAbsorbed Luminosity: 3.335e+42\",\"\\u003cbr\\u003eEmitted Luminosity: 1.07e+43\\u003cbr\\u003eRequested Luminosity: 1.059e+43\\u003cbr\\u003eAbsorbed Luminosity: 3.335e+42\",\"\\u003cbr\\u003eEmitted Luminosity: 1.07e+43\\u003cbr\\u003eRequested Luminosity: 1.059e+43\\u003cbr\\u003eAbsorbed Luminosity: 3.335e+42\",\"\\u003cbr\\u003eEmitted Luminosity: 1.07e+43\\u003cbr\\u003eRequested Luminosity: 1.059e+43\\u003cbr\\u003eAbsorbed Luminosity: 3.335e+42\",\"\\u003cbr\\u003eEmitted Luminosity: 1.07e+43\\u003cbr\\u003eRequested Luminosity: 1.059e+43\\u003cbr\\u003eAbsorbed Luminosity: 3.335e+42\",\"\\u003cbr\\u003eEmitted Luminosity: 1.07e+43\\u003cbr\\u003eRequested Luminosity: 1.059e+43\\u003cbr\\u003eAbsorbed Luminosity: 3.335e+42\",\"\\u003cbr\\u003eEmitted Luminosity: 1.07e+43\\u003cbr\\u003eRequested Luminosity: 1.059e+43\\u003cbr\\u003eAbsorbed Luminosity: 3.335e+42\",\"\\u003cbr\\u003eEmitted Luminosity: 1.07e+43\\u003cbr\\u003eRequested Luminosity: 1.059e+43\\u003cbr\\u003eAbsorbed Luminosity: 3.335e+42\",\"\\u003cbr\\u003eEmitted Luminosity: 1.07e+43\\u003cbr\\u003eRequested Luminosity: 1.059e+43\\u003cbr\\u003eAbsorbed Luminosity: 3.335e+42\",\"\\u003cbr\\u003eEmitted Luminosity: 1.07e+43\\u003cbr\\u003eRequested Luminosity: 1.059e+43\\u003cbr\\u003eAbsorbed Luminosity: 3.335e+42\",\"\\u003cbr\\u003eEmitted Luminosity: 1.07e+43\\u003cbr\\u003eRequested Luminosity: 1.059e+43\\u003cbr\\u003eAbsorbed Luminosity: 3.335e+42\",\"\\u003cbr\\u003eEmitted Luminosity: 1.07e+43\\u003cbr\\u003eRequested Luminosity: 1.059e+43\\u003cbr\\u003eAbsorbed Luminosity: 3.335e+42\",\"\\u003cbr\\u003eEmitted Luminosity: 1.07e+43\\u003cbr\\u003eRequested Luminosity: 1.059e+43\\u003cbr\\u003eAbsorbed Luminosity: 3.335e+42\",\"\\u003cbr\\u003eEmitted Luminosity: 1.07e+43\\u003cbr\\u003eRequested Luminosity: 1.059e+43\\u003cbr\\u003eAbsorbed Luminosity: 3.335e+42\",\"\\u003cbr\\u003eEmitted Luminosity: 1.07e+43\\u003cbr\\u003eRequested Luminosity: 1.059e+43\\u003cbr\\u003eAbsorbed Luminosity: 3.335e+42\"],\"hovertemplate\":\"\\u003cb\\u003eY\\u003c\\u002fb\\u003e: %{y:.3f} at \\u003cb\\u003eX\\u003c\\u002fb\\u003e = %{x:,.0f}%{customdata}\",\"legendgroup\":\"group-10\",\"line\":{\"color\":\"#66ff91\"},\"name\":\"10\",\"x\":[11000.0,11450.000000000002,11900.000000000002,12350.000000000002,12800.000000000002,13250.000000000002,13700.000000000002,14150.000000000002,14600.000000000002,15050.000000000002,15500.000000000002,15950.000000000002,16400.0,16850.0,17300.0,17750.0,18200.0,18650.0,19100.0,19550.0,20000.0],\"y\":[0.4745474666757485,0.35492209274178954,0.29087752236423725,0.24470866370141733,0.20504347390655153,0.17741364861701708,0.1585318476000688,0.1450182198804346,0.1300871379745431,0.12233534049152693,0.11238724087010801,0.10569730306216182,0.09826037940357989,0.09469637385376964,0.08992780008609262,0.08775182284910833,0.0829166184571991,0.08063515149213658,0.07697286063764705,0.0751747545979116],\"type\":\"scatter\",\"uid\":\"382ca90e-8858-41ef-934a-9aef7abc855f\",\"xaxis\":\"x2\",\"yaxis\":\"y2\"},{\"customdata\":[\"\\u003cbr\\u003eEmitted Luminosity: 1.053e+43\\u003cbr\\u003eRequested Luminosity: 1.059e+43\\u003cbr\\u003eAbsorbed Luminosity: 3.363e+42\",\"\\u003cbr\\u003eEmitted Luminosity: 1.053e+43\\u003cbr\\u003eRequested Luminosity: 1.059e+43\\u003cbr\\u003eAbsorbed Luminosity: 3.363e+42\",\"\\u003cbr\\u003eEmitted Luminosity: 1.053e+43\\u003cbr\\u003eRequested Luminosity: 1.059e+43\\u003cbr\\u003eAbsorbed Luminosity: 3.363e+42\",\"\\u003cbr\\u003eEmitted Luminosity: 1.053e+43\\u003cbr\\u003eRequested Luminosity: 1.059e+43\\u003cbr\\u003eAbsorbed Luminosity: 3.363e+42\",\"\\u003cbr\\u003eEmitted Luminosity: 1.053e+43\\u003cbr\\u003eRequested Luminosity: 1.059e+43\\u003cbr\\u003eAbsorbed Luminosity: 3.363e+42\",\"\\u003cbr\\u003eEmitted Luminosity: 1.053e+43\\u003cbr\\u003eRequested Luminosity: 1.059e+43\\u003cbr\\u003eAbsorbed Luminosity: 3.363e+42\",\"\\u003cbr\\u003eEmitted Luminosity: 1.053e+43\\u003cbr\\u003eRequested Luminosity: 1.059e+43\\u003cbr\\u003eAbsorbed Luminosity: 3.363e+42\",\"\\u003cbr\\u003eEmitted Luminosity: 1.053e+43\\u003cbr\\u003eRequested Luminosity: 1.059e+43\\u003cbr\\u003eAbsorbed Luminosity: 3.363e+42\",\"\\u003cbr\\u003eEmitted Luminosity: 1.053e+43\\u003cbr\\u003eRequested Luminosity: 1.059e+43\\u003cbr\\u003eAbsorbed Luminosity: 3.363e+42\",\"\\u003cbr\\u003eEmitted Luminosity: 1.053e+43\\u003cbr\\u003eRequested Luminosity: 1.059e+43\\u003cbr\\u003eAbsorbed Luminosity: 3.363e+42\",\"\\u003cbr\\u003eEmitted Luminosity: 1.053e+43\\u003cbr\\u003eRequested Luminosity: 1.059e+43\\u003cbr\\u003eAbsorbed Luminosity: 3.363e+42\",\"\\u003cbr\\u003eEmitted Luminosity: 1.053e+43\\u003cbr\\u003eRequested Luminosity: 1.059e+43\\u003cbr\\u003eAbsorbed Luminosity: 3.363e+42\",\"\\u003cbr\\u003eEmitted Luminosity: 1.053e+43\\u003cbr\\u003eRequested Luminosity: 1.059e+43\\u003cbr\\u003eAbsorbed Luminosity: 3.363e+42\",\"\\u003cbr\\u003eEmitted Luminosity: 1.053e+43\\u003cbr\\u003eRequested Luminosity: 1.059e+43\\u003cbr\\u003eAbsorbed Luminosity: 3.363e+42\",\"\\u003cbr\\u003eEmitted Luminosity: 1.053e+43\\u003cbr\\u003eRequested Luminosity: 1.059e+43\\u003cbr\\u003eAbsorbed Luminosity: 3.363e+42\",\"\\u003cbr\\u003eEmitted Luminosity: 1.053e+43\\u003cbr\\u003eRequested Luminosity: 1.059e+43\\u003cbr\\u003eAbsorbed Luminosity: 3.363e+42\",\"\\u003cbr\\u003eEmitted Luminosity: 1.053e+43\\u003cbr\\u003eRequested Luminosity: 1.059e+43\\u003cbr\\u003eAbsorbed Luminosity: 3.363e+42\",\"\\u003cbr\\u003eEmitted Luminosity: 1.053e+43\\u003cbr\\u003eRequested Luminosity: 1.059e+43\\u003cbr\\u003eAbsorbed Luminosity: 3.363e+42\",\"\\u003cbr\\u003eEmitted Luminosity: 1.053e+43\\u003cbr\\u003eRequested Luminosity: 1.059e+43\\u003cbr\\u003eAbsorbed Luminosity: 3.363e+42\",\"\\u003cbr\\u003eEmitted Luminosity: 1.053e+43\\u003cbr\\u003eRequested Luminosity: 1.059e+43\\u003cbr\\u003eAbsorbed Luminosity: 3.363e+42\",\"\\u003cbr\\u003eEmitted Luminosity: 1.053e+43\\u003cbr\\u003eRequested Luminosity: 1.059e+43\\u003cbr\\u003eAbsorbed Luminosity: 3.363e+42\"],\"hovertemplate\":\"\\u003cb\\u003eY\\u003c\\u002fb\\u003e: %{y:.3f} at \\u003cb\\u003eX\\u003c\\u002fb\\u003e = %{x:,.0f}%{customdata}\",\"legendgroup\":\"group-11\",\"line\":{\"color\":\"#91ff66\"},\"name\":\"11\",\"showlegend\":false,\"x\":[11000.0,11450.000000000002,11900.000000000002,12350.000000000002,12800.000000000002,13250.000000000002,13700.000000000002,14150.000000000002,14600.000000000002,15050.000000000002,15500.000000000002,15950.000000000002,16400.0,16850.0,17300.0,17750.0,18200.0,18650.0,19100.0,19550.0,20000.0],\"y\":[11033.009304975461,11148.879432249618,11221.615762135072,11261.57344032332,11263.082003443504,11194.361007641422,11176.653731822587,11119.362899299593,11160.897175445236,11060.876338445558,11002.144946722268,10869.256967377429,10791.657299299077,10690.963378403716,10679.126751901982,10633.713775270353,10563.59382022213,10475.666645914978,10394.486612295583,10307.337751515432],\"type\":\"scatter\",\"uid\":\"76799969-d49d-47e7-b8dd-30cf7a7a518d\",\"xaxis\":\"x\",\"yaxis\":\"y\"},{\"customdata\":[\"\\u003cbr\\u003eEmitted Luminosity: 1.053e+43\\u003cbr\\u003eRequested Luminosity: 1.059e+43\\u003cbr\\u003eAbsorbed Luminosity: 3.363e+42\",\"\\u003cbr\\u003eEmitted Luminosity: 1.053e+43\\u003cbr\\u003eRequested Luminosity: 1.059e+43\\u003cbr\\u003eAbsorbed Luminosity: 3.363e+42\",\"\\u003cbr\\u003eEmitted Luminosity: 1.053e+43\\u003cbr\\u003eRequested Luminosity: 1.059e+43\\u003cbr\\u003eAbsorbed Luminosity: 3.363e+42\",\"\\u003cbr\\u003eEmitted Luminosity: 1.053e+43\\u003cbr\\u003eRequested Luminosity: 1.059e+43\\u003cbr\\u003eAbsorbed Luminosity: 3.363e+42\",\"\\u003cbr\\u003eEmitted Luminosity: 1.053e+43\\u003cbr\\u003eRequested Luminosity: 1.059e+43\\u003cbr\\u003eAbsorbed Luminosity: 3.363e+42\",\"\\u003cbr\\u003eEmitted Luminosity: 1.053e+43\\u003cbr\\u003eRequested Luminosity: 1.059e+43\\u003cbr\\u003eAbsorbed Luminosity: 3.363e+42\",\"\\u003cbr\\u003eEmitted Luminosity: 1.053e+43\\u003cbr\\u003eRequested Luminosity: 1.059e+43\\u003cbr\\u003eAbsorbed Luminosity: 3.363e+42\",\"\\u003cbr\\u003eEmitted Luminosity: 1.053e+43\\u003cbr\\u003eRequested Luminosity: 1.059e+43\\u003cbr\\u003eAbsorbed Luminosity: 3.363e+42\",\"\\u003cbr\\u003eEmitted Luminosity: 1.053e+43\\u003cbr\\u003eRequested Luminosity: 1.059e+43\\u003cbr\\u003eAbsorbed Luminosity: 3.363e+42\",\"\\u003cbr\\u003eEmitted Luminosity: 1.053e+43\\u003cbr\\u003eRequested Luminosity: 1.059e+43\\u003cbr\\u003eAbsorbed Luminosity: 3.363e+42\",\"\\u003cbr\\u003eEmitted Luminosity: 1.053e+43\\u003cbr\\u003eRequested Luminosity: 1.059e+43\\u003cbr\\u003eAbsorbed Luminosity: 3.363e+42\",\"\\u003cbr\\u003eEmitted Luminosity: 1.053e+43\\u003cbr\\u003eRequested Luminosity: 1.059e+43\\u003cbr\\u003eAbsorbed Luminosity: 3.363e+42\",\"\\u003cbr\\u003eEmitted Luminosity: 1.053e+43\\u003cbr\\u003eRequested Luminosity: 1.059e+43\\u003cbr\\u003eAbsorbed Luminosity: 3.363e+42\",\"\\u003cbr\\u003eEmitted Luminosity: 1.053e+43\\u003cbr\\u003eRequested Luminosity: 1.059e+43\\u003cbr\\u003eAbsorbed Luminosity: 3.363e+42\",\"\\u003cbr\\u003eEmitted Luminosity: 1.053e+43\\u003cbr\\u003eRequested Luminosity: 1.059e+43\\u003cbr\\u003eAbsorbed Luminosity: 3.363e+42\",\"\\u003cbr\\u003eEmitted Luminosity: 1.053e+43\\u003cbr\\u003eRequested Luminosity: 1.059e+43\\u003cbr\\u003eAbsorbed Luminosity: 3.363e+42\",\"\\u003cbr\\u003eEmitted Luminosity: 1.053e+43\\u003cbr\\u003eRequested Luminosity: 1.059e+43\\u003cbr\\u003eAbsorbed Luminosity: 3.363e+42\",\"\\u003cbr\\u003eEmitted Luminosity: 1.053e+43\\u003cbr\\u003eRequested Luminosity: 1.059e+43\\u003cbr\\u003eAbsorbed Luminosity: 3.363e+42\",\"\\u003cbr\\u003eEmitted Luminosity: 1.053e+43\\u003cbr\\u003eRequested Luminosity: 1.059e+43\\u003cbr\\u003eAbsorbed Luminosity: 3.363e+42\",\"\\u003cbr\\u003eEmitted Luminosity: 1.053e+43\\u003cbr\\u003eRequested Luminosity: 1.059e+43\\u003cbr\\u003eAbsorbed Luminosity: 3.363e+42\",\"\\u003cbr\\u003eEmitted Luminosity: 1.053e+43\\u003cbr\\u003eRequested Luminosity: 1.059e+43\\u003cbr\\u003eAbsorbed Luminosity: 3.363e+42\"],\"hovertemplate\":\"\\u003cb\\u003eY\\u003c\\u002fb\\u003e: %{y:.3f} at \\u003cb\\u003eX\\u003c\\u002fb\\u003e = %{x:,.0f}%{customdata}\",\"legendgroup\":\"group-11\",\"line\":{\"color\":\"#91ff66\"},\"name\":\"11\",\"x\":[11000.0,11450.000000000002,11900.000000000002,12350.000000000002,12800.000000000002,13250.000000000002,13700.000000000002,14150.000000000002,14600.000000000002,15050.000000000002,15500.000000000002,15950.000000000002,16400.0,16850.0,17300.0,17750.0,18200.0,18650.0,19100.0,19550.0,20000.0],\"y\":[0.4716537017500934,0.357890026578651,0.28915602795318374,0.24083880447292152,0.20785046344719207,0.18387933017316857,0.16319167502894585,0.1478925108380292,0.131529978681386,0.12372087321777366,0.11428466173694585,0.10883618567366816,0.10279474508641144,0.09766571927035486,0.0908156854326358,0.0859333056080392,0.0821637565579208,0.07911681354059918,0.07642694750853583,0.0738461529700097],\"type\":\"scatter\",\"uid\":\"7911ff93-a1f4-4fe7-853f-545c890b5e40\",\"xaxis\":\"x2\",\"yaxis\":\"y2\"},{\"customdata\":[\"\\u003cbr\\u003eEmitted Luminosity: 1.056e+43\\u003cbr\\u003eRequested Luminosity: 1.059e+43\\u003cbr\\u003eAbsorbed Luminosity: 3.42e+42\",\"\\u003cbr\\u003eEmitted Luminosity: 1.056e+43\\u003cbr\\u003eRequested Luminosity: 1.059e+43\\u003cbr\\u003eAbsorbed Luminosity: 3.42e+42\",\"\\u003cbr\\u003eEmitted Luminosity: 1.056e+43\\u003cbr\\u003eRequested Luminosity: 1.059e+43\\u003cbr\\u003eAbsorbed Luminosity: 3.42e+42\",\"\\u003cbr\\u003eEmitted Luminosity: 1.056e+43\\u003cbr\\u003eRequested Luminosity: 1.059e+43\\u003cbr\\u003eAbsorbed Luminosity: 3.42e+42\",\"\\u003cbr\\u003eEmitted Luminosity: 1.056e+43\\u003cbr\\u003eRequested Luminosity: 1.059e+43\\u003cbr\\u003eAbsorbed Luminosity: 3.42e+42\",\"\\u003cbr\\u003eEmitted Luminosity: 1.056e+43\\u003cbr\\u003eRequested Luminosity: 1.059e+43\\u003cbr\\u003eAbsorbed Luminosity: 3.42e+42\",\"\\u003cbr\\u003eEmitted Luminosity: 1.056e+43\\u003cbr\\u003eRequested Luminosity: 1.059e+43\\u003cbr\\u003eAbsorbed Luminosity: 3.42e+42\",\"\\u003cbr\\u003eEmitted Luminosity: 1.056e+43\\u003cbr\\u003eRequested Luminosity: 1.059e+43\\u003cbr\\u003eAbsorbed Luminosity: 3.42e+42\",\"\\u003cbr\\u003eEmitted Luminosity: 1.056e+43\\u003cbr\\u003eRequested Luminosity: 1.059e+43\\u003cbr\\u003eAbsorbed Luminosity: 3.42e+42\",\"\\u003cbr\\u003eEmitted Luminosity: 1.056e+43\\u003cbr\\u003eRequested Luminosity: 1.059e+43\\u003cbr\\u003eAbsorbed Luminosity: 3.42e+42\",\"\\u003cbr\\u003eEmitted Luminosity: 1.056e+43\\u003cbr\\u003eRequested Luminosity: 1.059e+43\\u003cbr\\u003eAbsorbed Luminosity: 3.42e+42\",\"\\u003cbr\\u003eEmitted Luminosity: 1.056e+43\\u003cbr\\u003eRequested Luminosity: 1.059e+43\\u003cbr\\u003eAbsorbed Luminosity: 3.42e+42\",\"\\u003cbr\\u003eEmitted Luminosity: 1.056e+43\\u003cbr\\u003eRequested Luminosity: 1.059e+43\\u003cbr\\u003eAbsorbed Luminosity: 3.42e+42\",\"\\u003cbr\\u003eEmitted Luminosity: 1.056e+43\\u003cbr\\u003eRequested Luminosity: 1.059e+43\\u003cbr\\u003eAbsorbed Luminosity: 3.42e+42\",\"\\u003cbr\\u003eEmitted Luminosity: 1.056e+43\\u003cbr\\u003eRequested Luminosity: 1.059e+43\\u003cbr\\u003eAbsorbed Luminosity: 3.42e+42\",\"\\u003cbr\\u003eEmitted Luminosity: 1.056e+43\\u003cbr\\u003eRequested Luminosity: 1.059e+43\\u003cbr\\u003eAbsorbed Luminosity: 3.42e+42\",\"\\u003cbr\\u003eEmitted Luminosity: 1.056e+43\\u003cbr\\u003eRequested Luminosity: 1.059e+43\\u003cbr\\u003eAbsorbed Luminosity: 3.42e+42\",\"\\u003cbr\\u003eEmitted Luminosity: 1.056e+43\\u003cbr\\u003eRequested Luminosity: 1.059e+43\\u003cbr\\u003eAbsorbed Luminosity: 3.42e+42\",\"\\u003cbr\\u003eEmitted Luminosity: 1.056e+43\\u003cbr\\u003eRequested Luminosity: 1.059e+43\\u003cbr\\u003eAbsorbed Luminosity: 3.42e+42\",\"\\u003cbr\\u003eEmitted Luminosity: 1.056e+43\\u003cbr\\u003eRequested Luminosity: 1.059e+43\\u003cbr\\u003eAbsorbed Luminosity: 3.42e+42\",\"\\u003cbr\\u003eEmitted Luminosity: 1.056e+43\\u003cbr\\u003eRequested Luminosity: 1.059e+43\\u003cbr\\u003eAbsorbed Luminosity: 3.42e+42\"],\"hovertemplate\":\"\\u003cb\\u003eY\\u003c\\u002fb\\u003e: %{y:.3f} at \\u003cb\\u003eX\\u003c\\u002fb\\u003e = %{x:,.0f}%{customdata}\",\"legendgroup\":\"group-12\",\"line\":{\"color\":\"#bcff3a\"},\"name\":\"12\",\"showlegend\":false,\"x\":[11000.0,11450.000000000002,11900.000000000002,12350.000000000002,12800.000000000002,13250.000000000002,13700.000000000002,14150.000000000002,14600.000000000002,15050.000000000002,15500.000000000002,15950.000000000002,16400.0,16850.0,17300.0,17750.0,18200.0,18650.0,19100.0,19550.0,20000.0],\"y\":[11074.30419250191,11270.074687571598,11337.646757205766,11393.767848373274,11382.43250954052,11342.0262548898,11307.597564534968,11335.171887373175,11250.639241317753,11213.127363263126,11110.772255012052,11064.251345038332,11042.8585467837,10922.45087250196,10850.73899987882,10785.376607806209,10674.168873980974,10522.169892715869,10443.42360073519,10348.151356825601],\"type\":\"scatter\",\"uid\":\"22dfcf1b-4de4-44b3-8ea9-191674ebafa6\",\"xaxis\":\"x\",\"yaxis\":\"y\"},{\"customdata\":[\"\\u003cbr\\u003eEmitted Luminosity: 1.056e+43\\u003cbr\\u003eRequested Luminosity: 1.059e+43\\u003cbr\\u003eAbsorbed Luminosity: 3.42e+42\",\"\\u003cbr\\u003eEmitted Luminosity: 1.056e+43\\u003cbr\\u003eRequested Luminosity: 1.059e+43\\u003cbr\\u003eAbsorbed Luminosity: 3.42e+42\",\"\\u003cbr\\u003eEmitted Luminosity: 1.056e+43\\u003cbr\\u003eRequested Luminosity: 1.059e+43\\u003cbr\\u003eAbsorbed Luminosity: 3.42e+42\",\"\\u003cbr\\u003eEmitted Luminosity: 1.056e+43\\u003cbr\\u003eRequested Luminosity: 1.059e+43\\u003cbr\\u003eAbsorbed Luminosity: 3.42e+42\",\"\\u003cbr\\u003eEmitted Luminosity: 1.056e+43\\u003cbr\\u003eRequested Luminosity: 1.059e+43\\u003cbr\\u003eAbsorbed Luminosity: 3.42e+42\",\"\\u003cbr\\u003eEmitted Luminosity: 1.056e+43\\u003cbr\\u003eRequested Luminosity: 1.059e+43\\u003cbr\\u003eAbsorbed Luminosity: 3.42e+42\",\"\\u003cbr\\u003eEmitted Luminosity: 1.056e+43\\u003cbr\\u003eRequested Luminosity: 1.059e+43\\u003cbr\\u003eAbsorbed Luminosity: 3.42e+42\",\"\\u003cbr\\u003eEmitted Luminosity: 1.056e+43\\u003cbr\\u003eRequested Luminosity: 1.059e+43\\u003cbr\\u003eAbsorbed Luminosity: 3.42e+42\",\"\\u003cbr\\u003eEmitted Luminosity: 1.056e+43\\u003cbr\\u003eRequested Luminosity: 1.059e+43\\u003cbr\\u003eAbsorbed Luminosity: 3.42e+42\",\"\\u003cbr\\u003eEmitted Luminosity: 1.056e+43\\u003cbr\\u003eRequested Luminosity: 1.059e+43\\u003cbr\\u003eAbsorbed Luminosity: 3.42e+42\",\"\\u003cbr\\u003eEmitted Luminosity: 1.056e+43\\u003cbr\\u003eRequested Luminosity: 1.059e+43\\u003cbr\\u003eAbsorbed Luminosity: 3.42e+42\",\"\\u003cbr\\u003eEmitted Luminosity: 1.056e+43\\u003cbr\\u003eRequested Luminosity: 1.059e+43\\u003cbr\\u003eAbsorbed Luminosity: 3.42e+42\",\"\\u003cbr\\u003eEmitted Luminosity: 1.056e+43\\u003cbr\\u003eRequested Luminosity: 1.059e+43\\u003cbr\\u003eAbsorbed Luminosity: 3.42e+42\",\"\\u003cbr\\u003eEmitted Luminosity: 1.056e+43\\u003cbr\\u003eRequested Luminosity: 1.059e+43\\u003cbr\\u003eAbsorbed Luminosity: 3.42e+42\",\"\\u003cbr\\u003eEmitted Luminosity: 1.056e+43\\u003cbr\\u003eRequested Luminosity: 1.059e+43\\u003cbr\\u003eAbsorbed Luminosity: 3.42e+42\",\"\\u003cbr\\u003eEmitted Luminosity: 1.056e+43\\u003cbr\\u003eRequested Luminosity: 1.059e+43\\u003cbr\\u003eAbsorbed Luminosity: 3.42e+42\",\"\\u003cbr\\u003eEmitted Luminosity: 1.056e+43\\u003cbr\\u003eRequested Luminosity: 1.059e+43\\u003cbr\\u003eAbsorbed Luminosity: 3.42e+42\",\"\\u003cbr\\u003eEmitted Luminosity: 1.056e+43\\u003cbr\\u003eRequested Luminosity: 1.059e+43\\u003cbr\\u003eAbsorbed Luminosity: 3.42e+42\",\"\\u003cbr\\u003eEmitted Luminosity: 1.056e+43\\u003cbr\\u003eRequested Luminosity: 1.059e+43\\u003cbr\\u003eAbsorbed Luminosity: 3.42e+42\",\"\\u003cbr\\u003eEmitted Luminosity: 1.056e+43\\u003cbr\\u003eRequested Luminosity: 1.059e+43\\u003cbr\\u003eAbsorbed Luminosity: 3.42e+42\",\"\\u003cbr\\u003eEmitted Luminosity: 1.056e+43\\u003cbr\\u003eRequested Luminosity: 1.059e+43\\u003cbr\\u003eAbsorbed Luminosity: 3.42e+42\"],\"hovertemplate\":\"\\u003cb\\u003eY\\u003c\\u002fb\\u003e: %{y:.3f} at \\u003cb\\u003eX\\u003c\\u002fb\\u003e = %{x:,.0f}%{customdata}\",\"legendgroup\":\"group-12\",\"line\":{\"color\":\"#bcff3a\"},\"name\":\"12\",\"x\":[11000.0,11450.000000000002,11900.000000000002,12350.000000000002,12800.000000000002,13250.000000000002,13700.000000000002,14150.000000000002,14600.000000000002,15050.000000000002,15500.000000000002,15950.000000000002,16400.0,16850.0,17300.0,17750.0,18200.0,18650.0,19100.0,19550.0,20000.0],\"y\":[0.4673427772952186,0.34160244367413845,0.2791032114695584,0.23050913049160324,0.19851418323952025,0.17566634099774217,0.15711892743395556,0.13858010326252246,0.1283438070061417,0.11712263706794868,0.11007392758653753,0.10251441609429145,0.09467131858736247,0.0907257461879946,0.08637417724596495,0.08205309928680625,0.0790759364796789,0.07772849740815548,0.07510736534653001,0.07265137665900029],\"type\":\"scatter\",\"uid\":\"9ca39113-9a44-4cce-9add-e2a7bb076b0d\",\"xaxis\":\"x2\",\"yaxis\":\"y2\"},{\"customdata\":[\"\\u003cbr\\u003eEmitted Luminosity: 1.062e+43\\u003cbr\\u003eRequested Luminosity: 1.059e+43\\u003cbr\\u003eAbsorbed Luminosity: 3.406e+42\",\"\\u003cbr\\u003eEmitted Luminosity: 1.062e+43\\u003cbr\\u003eRequested Luminosity: 1.059e+43\\u003cbr\\u003eAbsorbed Luminosity: 3.406e+42\",\"\\u003cbr\\u003eEmitted Luminosity: 1.062e+43\\u003cbr\\u003eRequested Luminosity: 1.059e+43\\u003cbr\\u003eAbsorbed Luminosity: 3.406e+42\",\"\\u003cbr\\u003eEmitted Luminosity: 1.062e+43\\u003cbr\\u003eRequested Luminosity: 1.059e+43\\u003cbr\\u003eAbsorbed Luminosity: 3.406e+42\",\"\\u003cbr\\u003eEmitted Luminosity: 1.062e+43\\u003cbr\\u003eRequested Luminosity: 1.059e+43\\u003cbr\\u003eAbsorbed Luminosity: 3.406e+42\",\"\\u003cbr\\u003eEmitted Luminosity: 1.062e+43\\u003cbr\\u003eRequested Luminosity: 1.059e+43\\u003cbr\\u003eAbsorbed Luminosity: 3.406e+42\",\"\\u003cbr\\u003eEmitted Luminosity: 1.062e+43\\u003cbr\\u003eRequested Luminosity: 1.059e+43\\u003cbr\\u003eAbsorbed Luminosity: 3.406e+42\",\"\\u003cbr\\u003eEmitted Luminosity: 1.062e+43\\u003cbr\\u003eRequested Luminosity: 1.059e+43\\u003cbr\\u003eAbsorbed Luminosity: 3.406e+42\",\"\\u003cbr\\u003eEmitted Luminosity: 1.062e+43\\u003cbr\\u003eRequested Luminosity: 1.059e+43\\u003cbr\\u003eAbsorbed Luminosity: 3.406e+42\",\"\\u003cbr\\u003eEmitted Luminosity: 1.062e+43\\u003cbr\\u003eRequested Luminosity: 1.059e+43\\u003cbr\\u003eAbsorbed Luminosity: 3.406e+42\",\"\\u003cbr\\u003eEmitted Luminosity: 1.062e+43\\u003cbr\\u003eRequested Luminosity: 1.059e+43\\u003cbr\\u003eAbsorbed Luminosity: 3.406e+42\",\"\\u003cbr\\u003eEmitted Luminosity: 1.062e+43\\u003cbr\\u003eRequested Luminosity: 1.059e+43\\u003cbr\\u003eAbsorbed Luminosity: 3.406e+42\",\"\\u003cbr\\u003eEmitted Luminosity: 1.062e+43\\u003cbr\\u003eRequested Luminosity: 1.059e+43\\u003cbr\\u003eAbsorbed Luminosity: 3.406e+42\",\"\\u003cbr\\u003eEmitted Luminosity: 1.062e+43\\u003cbr\\u003eRequested Luminosity: 1.059e+43\\u003cbr\\u003eAbsorbed Luminosity: 3.406e+42\",\"\\u003cbr\\u003eEmitted Luminosity: 1.062e+43\\u003cbr\\u003eRequested Luminosity: 1.059e+43\\u003cbr\\u003eAbsorbed Luminosity: 3.406e+42\",\"\\u003cbr\\u003eEmitted Luminosity: 1.062e+43\\u003cbr\\u003eRequested Luminosity: 1.059e+43\\u003cbr\\u003eAbsorbed Luminosity: 3.406e+42\",\"\\u003cbr\\u003eEmitted Luminosity: 1.062e+43\\u003cbr\\u003eRequested Luminosity: 1.059e+43\\u003cbr\\u003eAbsorbed Luminosity: 3.406e+42\",\"\\u003cbr\\u003eEmitted Luminosity: 1.062e+43\\u003cbr\\u003eRequested Luminosity: 1.059e+43\\u003cbr\\u003eAbsorbed Luminosity: 3.406e+42\",\"\\u003cbr\\u003eEmitted Luminosity: 1.062e+43\\u003cbr\\u003eRequested Luminosity: 1.059e+43\\u003cbr\\u003eAbsorbed Luminosity: 3.406e+42\",\"\\u003cbr\\u003eEmitted Luminosity: 1.062e+43\\u003cbr\\u003eRequested Luminosity: 1.059e+43\\u003cbr\\u003eAbsorbed Luminosity: 3.406e+42\",\"\\u003cbr\\u003eEmitted Luminosity: 1.062e+43\\u003cbr\\u003eRequested Luminosity: 1.059e+43\\u003cbr\\u003eAbsorbed Luminosity: 3.406e+42\"],\"hovertemplate\":\"\\u003cb\\u003eY\\u003c\\u002fb\\u003e: %{y:.3f} at \\u003cb\\u003eX\\u003c\\u002fb\\u003e = %{x:,.0f}%{customdata}\",\"legendgroup\":\"group-13\",\"line\":{\"color\":\"#e8ff0f\"},\"name\":\"13\",\"showlegend\":false,\"x\":[11000.0,11450.000000000002,11900.000000000002,12350.000000000002,12800.000000000002,13250.000000000002,13700.000000000002,14150.000000000002,14600.000000000002,15050.000000000002,15500.000000000002,15950.000000000002,16400.0,16850.0,17300.0,17750.0,18200.0,18650.0,19100.0,19550.0,20000.0],\"y\":[11087.525585121799,11201.227066723251,11264.115780311355,11292.824746787895,11317.156880007222,11281.498628189094,11322.207008923064,11339.771618124623,11327.178776978242,11167.493469221334,11090.70335925867,10991.061746699974,10921.091979662819,10921.414791376536,10849.205911003028,10756.107995216376,10644.630202222772,10587.886304609974,10437.516879399094,10342.489672101328],\"type\":\"scatter\",\"uid\":\"d6d816b1-a2f6-4728-851f-047d793a1c0b\",\"xaxis\":\"x\",\"yaxis\":\"y\"},{\"customdata\":[\"\\u003cbr\\u003eEmitted Luminosity: 1.062e+43\\u003cbr\\u003eRequested Luminosity: 1.059e+43\\u003cbr\\u003eAbsorbed Luminosity: 3.406e+42\",\"\\u003cbr\\u003eEmitted Luminosity: 1.062e+43\\u003cbr\\u003eRequested Luminosity: 1.059e+43\\u003cbr\\u003eAbsorbed Luminosity: 3.406e+42\",\"\\u003cbr\\u003eEmitted Luminosity: 1.062e+43\\u003cbr\\u003eRequested Luminosity: 1.059e+43\\u003cbr\\u003eAbsorbed Luminosity: 3.406e+42\",\"\\u003cbr\\u003eEmitted Luminosity: 1.062e+43\\u003cbr\\u003eRequested Luminosity: 1.059e+43\\u003cbr\\u003eAbsorbed Luminosity: 3.406e+42\",\"\\u003cbr\\u003eEmitted Luminosity: 1.062e+43\\u003cbr\\u003eRequested Luminosity: 1.059e+43\\u003cbr\\u003eAbsorbed Luminosity: 3.406e+42\",\"\\u003cbr\\u003eEmitted Luminosity: 1.062e+43\\u003cbr\\u003eRequested Luminosity: 1.059e+43\\u003cbr\\u003eAbsorbed Luminosity: 3.406e+42\",\"\\u003cbr\\u003eEmitted Luminosity: 1.062e+43\\u003cbr\\u003eRequested Luminosity: 1.059e+43\\u003cbr\\u003eAbsorbed Luminosity: 3.406e+42\",\"\\u003cbr\\u003eEmitted Luminosity: 1.062e+43\\u003cbr\\u003eRequested Luminosity: 1.059e+43\\u003cbr\\u003eAbsorbed Luminosity: 3.406e+42\",\"\\u003cbr\\u003eEmitted Luminosity: 1.062e+43\\u003cbr\\u003eRequested Luminosity: 1.059e+43\\u003cbr\\u003eAbsorbed Luminosity: 3.406e+42\",\"\\u003cbr\\u003eEmitted Luminosity: 1.062e+43\\u003cbr\\u003eRequested Luminosity: 1.059e+43\\u003cbr\\u003eAbsorbed Luminosity: 3.406e+42\",\"\\u003cbr\\u003eEmitted Luminosity: 1.062e+43\\u003cbr\\u003eRequested Luminosity: 1.059e+43\\u003cbr\\u003eAbsorbed Luminosity: 3.406e+42\",\"\\u003cbr\\u003eEmitted Luminosity: 1.062e+43\\u003cbr\\u003eRequested Luminosity: 1.059e+43\\u003cbr\\u003eAbsorbed Luminosity: 3.406e+42\",\"\\u003cbr\\u003eEmitted Luminosity: 1.062e+43\\u003cbr\\u003eRequested Luminosity: 1.059e+43\\u003cbr\\u003eAbsorbed Luminosity: 3.406e+42\",\"\\u003cbr\\u003eEmitted Luminosity: 1.062e+43\\u003cbr\\u003eRequested Luminosity: 1.059e+43\\u003cbr\\u003eAbsorbed Luminosity: 3.406e+42\",\"\\u003cbr\\u003eEmitted Luminosity: 1.062e+43\\u003cbr\\u003eRequested Luminosity: 1.059e+43\\u003cbr\\u003eAbsorbed Luminosity: 3.406e+42\",\"\\u003cbr\\u003eEmitted Luminosity: 1.062e+43\\u003cbr\\u003eRequested Luminosity: 1.059e+43\\u003cbr\\u003eAbsorbed Luminosity: 3.406e+42\",\"\\u003cbr\\u003eEmitted Luminosity: 1.062e+43\\u003cbr\\u003eRequested Luminosity: 1.059e+43\\u003cbr\\u003eAbsorbed Luminosity: 3.406e+42\",\"\\u003cbr\\u003eEmitted Luminosity: 1.062e+43\\u003cbr\\u003eRequested Luminosity: 1.059e+43\\u003cbr\\u003eAbsorbed Luminosity: 3.406e+42\",\"\\u003cbr\\u003eEmitted Luminosity: 1.062e+43\\u003cbr\\u003eRequested Luminosity: 1.059e+43\\u003cbr\\u003eAbsorbed Luminosity: 3.406e+42\",\"\\u003cbr\\u003eEmitted Luminosity: 1.062e+43\\u003cbr\\u003eRequested Luminosity: 1.059e+43\\u003cbr\\u003eAbsorbed Luminosity: 3.406e+42\",\"\\u003cbr\\u003eEmitted Luminosity: 1.062e+43\\u003cbr\\u003eRequested Luminosity: 1.059e+43\\u003cbr\\u003eAbsorbed Luminosity: 3.406e+42\"],\"hovertemplate\":\"\\u003cb\\u003eY\\u003c\\u002fb\\u003e: %{y:.3f} at \\u003cb\\u003eX\\u003c\\u002fb\\u003e = %{x:,.0f}%{customdata}\",\"legendgroup\":\"group-13\",\"line\":{\"color\":\"#e8ff0f\"},\"name\":\"13\",\"x\":[11000.0,11450.000000000002,11900.000000000002,12350.000000000002,12800.000000000002,13250.000000000002,13700.000000000002,14150.000000000002,14600.000000000002,15050.000000000002,15500.000000000002,15950.000000000002,16400.0,16850.0,17300.0,17750.0,18200.0,18650.0,19100.0,19550.0,20000.0],\"y\":[0.4656580531853741,0.35496693875022844,0.2890796008607198,0.24118402395906613,0.20445484256853,0.18036279270387384,0.15735297117624159,0.13967624078422156,0.12582809263985106,0.11966816760735444,0.11138794568693058,0.10559408545801052,0.0992345313759697,0.09188690311057827,0.0869693339312312,0.08406815439528277,0.08086653926086967,0.07694310484852439,0.075865621550126,0.07336532456349519],\"type\":\"scatter\",\"uid\":\"25aa1ba6-992a-40ef-91d4-baf37a5398a7\",\"xaxis\":\"x2\",\"yaxis\":\"y2\"},{\"customdata\":[\"\\u003cbr\\u003eEmitted Luminosity: 1.063e+43\\u003cbr\\u003eRequested Luminosity: 1.059e+43\\u003cbr\\u003eAbsorbed Luminosity: 3.369e+42\",\"\\u003cbr\\u003eEmitted Luminosity: 1.063e+43\\u003cbr\\u003eRequested Luminosity: 1.059e+43\\u003cbr\\u003eAbsorbed Luminosity: 3.369e+42\",\"\\u003cbr\\u003eEmitted Luminosity: 1.063e+43\\u003cbr\\u003eRequested Luminosity: 1.059e+43\\u003cbr\\u003eAbsorbed Luminosity: 3.369e+42\",\"\\u003cbr\\u003eEmitted Luminosity: 1.063e+43\\u003cbr\\u003eRequested Luminosity: 1.059e+43\\u003cbr\\u003eAbsorbed Luminosity: 3.369e+42\",\"\\u003cbr\\u003eEmitted Luminosity: 1.063e+43\\u003cbr\\u003eRequested Luminosity: 1.059e+43\\u003cbr\\u003eAbsorbed Luminosity: 3.369e+42\",\"\\u003cbr\\u003eEmitted Luminosity: 1.063e+43\\u003cbr\\u003eRequested Luminosity: 1.059e+43\\u003cbr\\u003eAbsorbed Luminosity: 3.369e+42\",\"\\u003cbr\\u003eEmitted Luminosity: 1.063e+43\\u003cbr\\u003eRequested Luminosity: 1.059e+43\\u003cbr\\u003eAbsorbed Luminosity: 3.369e+42\",\"\\u003cbr\\u003eEmitted Luminosity: 1.063e+43\\u003cbr\\u003eRequested Luminosity: 1.059e+43\\u003cbr\\u003eAbsorbed Luminosity: 3.369e+42\",\"\\u003cbr\\u003eEmitted Luminosity: 1.063e+43\\u003cbr\\u003eRequested Luminosity: 1.059e+43\\u003cbr\\u003eAbsorbed Luminosity: 3.369e+42\",\"\\u003cbr\\u003eEmitted Luminosity: 1.063e+43\\u003cbr\\u003eRequested Luminosity: 1.059e+43\\u003cbr\\u003eAbsorbed Luminosity: 3.369e+42\",\"\\u003cbr\\u003eEmitted Luminosity: 1.063e+43\\u003cbr\\u003eRequested Luminosity: 1.059e+43\\u003cbr\\u003eAbsorbed Luminosity: 3.369e+42\",\"\\u003cbr\\u003eEmitted Luminosity: 1.063e+43\\u003cbr\\u003eRequested Luminosity: 1.059e+43\\u003cbr\\u003eAbsorbed Luminosity: 3.369e+42\",\"\\u003cbr\\u003eEmitted Luminosity: 1.063e+43\\u003cbr\\u003eRequested Luminosity: 1.059e+43\\u003cbr\\u003eAbsorbed Luminosity: 3.369e+42\",\"\\u003cbr\\u003eEmitted Luminosity: 1.063e+43\\u003cbr\\u003eRequested Luminosity: 1.059e+43\\u003cbr\\u003eAbsorbed Luminosity: 3.369e+42\",\"\\u003cbr\\u003eEmitted Luminosity: 1.063e+43\\u003cbr\\u003eRequested Luminosity: 1.059e+43\\u003cbr\\u003eAbsorbed Luminosity: 3.369e+42\",\"\\u003cbr\\u003eEmitted Luminosity: 1.063e+43\\u003cbr\\u003eRequested Luminosity: 1.059e+43\\u003cbr\\u003eAbsorbed Luminosity: 3.369e+42\",\"\\u003cbr\\u003eEmitted Luminosity: 1.063e+43\\u003cbr\\u003eRequested Luminosity: 1.059e+43\\u003cbr\\u003eAbsorbed Luminosity: 3.369e+42\",\"\\u003cbr\\u003eEmitted Luminosity: 1.063e+43\\u003cbr\\u003eRequested Luminosity: 1.059e+43\\u003cbr\\u003eAbsorbed Luminosity: 3.369e+42\",\"\\u003cbr\\u003eEmitted Luminosity: 1.063e+43\\u003cbr\\u003eRequested Luminosity: 1.059e+43\\u003cbr\\u003eAbsorbed Luminosity: 3.369e+42\",\"\\u003cbr\\u003eEmitted Luminosity: 1.063e+43\\u003cbr\\u003eRequested Luminosity: 1.059e+43\\u003cbr\\u003eAbsorbed Luminosity: 3.369e+42\",\"\\u003cbr\\u003eEmitted Luminosity: 1.063e+43\\u003cbr\\u003eRequested Luminosity: 1.059e+43\\u003cbr\\u003eAbsorbed Luminosity: 3.369e+42\"],\"hovertemplate\":\"\\u003cb\\u003eY\\u003c\\u002fb\\u003e: %{y:.3f} at \\u003cb\\u003eX\\u003c\\u002fb\\u003e = %{x:,.0f}%{customdata}\",\"legendgroup\":\"group-14\",\"line\":{\"color\":\"#ffd500\"},\"name\":\"14\",\"showlegend\":false,\"x\":[11000.0,11450.000000000002,11900.000000000002,12350.000000000002,12800.000000000002,13250.000000000002,13700.000000000002,14150.000000000002,14600.000000000002,15050.000000000002,15500.000000000002,15950.000000000002,16400.0,16850.0,17300.0,17750.0,18200.0,18650.0,19100.0,19550.0,20000.0],\"y\":[11068.046305039923,11150.16579051574,11259.927950226176,11258.671942172425,11266.893744905328,11275.907101219513,11188.30454884056,11219.769549896835,11200.243493780074,11135.251625027704,11027.955404228669,10929.699139984461,10834.156922201017,10882.48602326889,10770.225606113061,10675.837016608424,10617.659860054793,10487.333298888547,10387.978050386922,10300.551279764075],\"type\":\"scatter\",\"uid\":\"252208b8-a87e-4111-86bf-ab902dfd16ac\",\"xaxis\":\"x\",\"yaxis\":\"y\"},{\"customdata\":[\"\\u003cbr\\u003eEmitted Luminosity: 1.063e+43\\u003cbr\\u003eRequested Luminosity: 1.059e+43\\u003cbr\\u003eAbsorbed Luminosity: 3.369e+42\",\"\\u003cbr\\u003eEmitted Luminosity: 1.063e+43\\u003cbr\\u003eRequested Luminosity: 1.059e+43\\u003cbr\\u003eAbsorbed Luminosity: 3.369e+42\",\"\\u003cbr\\u003eEmitted Luminosity: 1.063e+43\\u003cbr\\u003eRequested Luminosity: 1.059e+43\\u003cbr\\u003eAbsorbed Luminosity: 3.369e+42\",\"\\u003cbr\\u003eEmitted Luminosity: 1.063e+43\\u003cbr\\u003eRequested Luminosity: 1.059e+43\\u003cbr\\u003eAbsorbed Luminosity: 3.369e+42\",\"\\u003cbr\\u003eEmitted Luminosity: 1.063e+43\\u003cbr\\u003eRequested Luminosity: 1.059e+43\\u003cbr\\u003eAbsorbed Luminosity: 3.369e+42\",\"\\u003cbr\\u003eEmitted Luminosity: 1.063e+43\\u003cbr\\u003eRequested Luminosity: 1.059e+43\\u003cbr\\u003eAbsorbed Luminosity: 3.369e+42\",\"\\u003cbr\\u003eEmitted Luminosity: 1.063e+43\\u003cbr\\u003eRequested Luminosity: 1.059e+43\\u003cbr\\u003eAbsorbed Luminosity: 3.369e+42\",\"\\u003cbr\\u003eEmitted Luminosity: 1.063e+43\\u003cbr\\u003eRequested Luminosity: 1.059e+43\\u003cbr\\u003eAbsorbed Luminosity: 3.369e+42\",\"\\u003cbr\\u003eEmitted Luminosity: 1.063e+43\\u003cbr\\u003eRequested Luminosity: 1.059e+43\\u003cbr\\u003eAbsorbed Luminosity: 3.369e+42\",\"\\u003cbr\\u003eEmitted Luminosity: 1.063e+43\\u003cbr\\u003eRequested Luminosity: 1.059e+43\\u003cbr\\u003eAbsorbed Luminosity: 3.369e+42\",\"\\u003cbr\\u003eEmitted Luminosity: 1.063e+43\\u003cbr\\u003eRequested Luminosity: 1.059e+43\\u003cbr\\u003eAbsorbed Luminosity: 3.369e+42\",\"\\u003cbr\\u003eEmitted Luminosity: 1.063e+43\\u003cbr\\u003eRequested Luminosity: 1.059e+43\\u003cbr\\u003eAbsorbed Luminosity: 3.369e+42\",\"\\u003cbr\\u003eEmitted Luminosity: 1.063e+43\\u003cbr\\u003eRequested Luminosity: 1.059e+43\\u003cbr\\u003eAbsorbed Luminosity: 3.369e+42\",\"\\u003cbr\\u003eEmitted Luminosity: 1.063e+43\\u003cbr\\u003eRequested Luminosity: 1.059e+43\\u003cbr\\u003eAbsorbed Luminosity: 3.369e+42\",\"\\u003cbr\\u003eEmitted Luminosity: 1.063e+43\\u003cbr\\u003eRequested Luminosity: 1.059e+43\\u003cbr\\u003eAbsorbed Luminosity: 3.369e+42\",\"\\u003cbr\\u003eEmitted Luminosity: 1.063e+43\\u003cbr\\u003eRequested Luminosity: 1.059e+43\\u003cbr\\u003eAbsorbed Luminosity: 3.369e+42\",\"\\u003cbr\\u003eEmitted Luminosity: 1.063e+43\\u003cbr\\u003eRequested Luminosity: 1.059e+43\\u003cbr\\u003eAbsorbed Luminosity: 3.369e+42\",\"\\u003cbr\\u003eEmitted Luminosity: 1.063e+43\\u003cbr\\u003eRequested Luminosity: 1.059e+43\\u003cbr\\u003eAbsorbed Luminosity: 3.369e+42\",\"\\u003cbr\\u003eEmitted Luminosity: 1.063e+43\\u003cbr\\u003eRequested Luminosity: 1.059e+43\\u003cbr\\u003eAbsorbed Luminosity: 3.369e+42\",\"\\u003cbr\\u003eEmitted Luminosity: 1.063e+43\\u003cbr\\u003eRequested Luminosity: 1.059e+43\\u003cbr\\u003eAbsorbed Luminosity: 3.369e+42\",\"\\u003cbr\\u003eEmitted Luminosity: 1.063e+43\\u003cbr\\u003eRequested Luminosity: 1.059e+43\\u003cbr\\u003eAbsorbed Luminosity: 3.369e+42\"],\"hovertemplate\":\"\\u003cb\\u003eY\\u003c\\u002fb\\u003e: %{y:.3f} at \\u003cb\\u003eX\\u003c\\u002fb\\u003e = %{x:,.0f}%{customdata}\",\"legendgroup\":\"group-14\",\"line\":{\"color\":\"#ffd500\"},\"name\":\"14\",\"x\":[11000.0,11450.000000000002,11900.000000000002,12350.000000000002,12800.000000000002,13250.000000000002,13700.000000000002,14150.000000000002,14600.000000000002,15050.000000000002,15500.000000000002,15950.000000000002,16400.0,16850.0,17300.0,17750.0,18200.0,18650.0,19100.0,19550.0,20000.0],\"y\":[0.4693279587330415,0.35988198493920615,0.28505597181767217,0.24047538091662143,0.20758977006252105,0.18247685043403056,0.16491868907458468,0.14566113068795067,0.13053847214759662,0.12057559734664468,0.11339699706816464,0.10727302853831064,0.10171232024166513,0.09280065476533923,0.08879405688364439,0.08535812456254135,0.08131280235537457,0.07954659047968494,0.07699622117205043,0.07445861233512548],\"type\":\"scatter\",\"uid\":\"e93ccaa9-868d-4a3c-a4e2-acb3f8d7a7f5\",\"xaxis\":\"x2\",\"yaxis\":\"y2\"},{\"customdata\":[\"\\u003cbr\\u003eEmitted Luminosity: 1.053e+43\\u003cbr\\u003eRequested Luminosity: 1.059e+43\\u003cbr\\u003eAbsorbed Luminosity: 3.417e+42\",\"\\u003cbr\\u003eEmitted Luminosity: 1.053e+43\\u003cbr\\u003eRequested Luminosity: 1.059e+43\\u003cbr\\u003eAbsorbed Luminosity: 3.417e+42\",\"\\u003cbr\\u003eEmitted Luminosity: 1.053e+43\\u003cbr\\u003eRequested Luminosity: 1.059e+43\\u003cbr\\u003eAbsorbed Luminosity: 3.417e+42\",\"\\u003cbr\\u003eEmitted Luminosity: 1.053e+43\\u003cbr\\u003eRequested Luminosity: 1.059e+43\\u003cbr\\u003eAbsorbed Luminosity: 3.417e+42\",\"\\u003cbr\\u003eEmitted Luminosity: 1.053e+43\\u003cbr\\u003eRequested Luminosity: 1.059e+43\\u003cbr\\u003eAbsorbed Luminosity: 3.417e+42\",\"\\u003cbr\\u003eEmitted Luminosity: 1.053e+43\\u003cbr\\u003eRequested Luminosity: 1.059e+43\\u003cbr\\u003eAbsorbed Luminosity: 3.417e+42\",\"\\u003cbr\\u003eEmitted Luminosity: 1.053e+43\\u003cbr\\u003eRequested Luminosity: 1.059e+43\\u003cbr\\u003eAbsorbed Luminosity: 3.417e+42\",\"\\u003cbr\\u003eEmitted Luminosity: 1.053e+43\\u003cbr\\u003eRequested Luminosity: 1.059e+43\\u003cbr\\u003eAbsorbed Luminosity: 3.417e+42\",\"\\u003cbr\\u003eEmitted Luminosity: 1.053e+43\\u003cbr\\u003eRequested Luminosity: 1.059e+43\\u003cbr\\u003eAbsorbed Luminosity: 3.417e+42\",\"\\u003cbr\\u003eEmitted Luminosity: 1.053e+43\\u003cbr\\u003eRequested Luminosity: 1.059e+43\\u003cbr\\u003eAbsorbed Luminosity: 3.417e+42\",\"\\u003cbr\\u003eEmitted Luminosity: 1.053e+43\\u003cbr\\u003eRequested Luminosity: 1.059e+43\\u003cbr\\u003eAbsorbed Luminosity: 3.417e+42\",\"\\u003cbr\\u003eEmitted Luminosity: 1.053e+43\\u003cbr\\u003eRequested Luminosity: 1.059e+43\\u003cbr\\u003eAbsorbed Luminosity: 3.417e+42\",\"\\u003cbr\\u003eEmitted Luminosity: 1.053e+43\\u003cbr\\u003eRequested Luminosity: 1.059e+43\\u003cbr\\u003eAbsorbed Luminosity: 3.417e+42\",\"\\u003cbr\\u003eEmitted Luminosity: 1.053e+43\\u003cbr\\u003eRequested Luminosity: 1.059e+43\\u003cbr\\u003eAbsorbed Luminosity: 3.417e+42\",\"\\u003cbr\\u003eEmitted Luminosity: 1.053e+43\\u003cbr\\u003eRequested Luminosity: 1.059e+43\\u003cbr\\u003eAbsorbed Luminosity: 3.417e+42\",\"\\u003cbr\\u003eEmitted Luminosity: 1.053e+43\\u003cbr\\u003eRequested Luminosity: 1.059e+43\\u003cbr\\u003eAbsorbed Luminosity: 3.417e+42\",\"\\u003cbr\\u003eEmitted Luminosity: 1.053e+43\\u003cbr\\u003eRequested Luminosity: 1.059e+43\\u003cbr\\u003eAbsorbed Luminosity: 3.417e+42\",\"\\u003cbr\\u003eEmitted Luminosity: 1.053e+43\\u003cbr\\u003eRequested Luminosity: 1.059e+43\\u003cbr\\u003eAbsorbed Luminosity: 3.417e+42\",\"\\u003cbr\\u003eEmitted Luminosity: 1.053e+43\\u003cbr\\u003eRequested Luminosity: 1.059e+43\\u003cbr\\u003eAbsorbed Luminosity: 3.417e+42\",\"\\u003cbr\\u003eEmitted Luminosity: 1.053e+43\\u003cbr\\u003eRequested Luminosity: 1.059e+43\\u003cbr\\u003eAbsorbed Luminosity: 3.417e+42\",\"\\u003cbr\\u003eEmitted Luminosity: 1.053e+43\\u003cbr\\u003eRequested Luminosity: 1.059e+43\\u003cbr\\u003eAbsorbed Luminosity: 3.417e+42\"],\"hovertemplate\":\"\\u003cb\\u003eY\\u003c\\u002fb\\u003e: %{y:.3f} at \\u003cb\\u003eX\\u003c\\u002fb\\u003e = %{x:,.0f}%{customdata}\",\"legendgroup\":\"group-15\",\"line\":{\"color\":\"#ffa400\"},\"name\":\"15\",\"showlegend\":false,\"x\":[11000.0,11450.000000000002,11900.000000000002,12350.000000000002,12800.000000000002,13250.000000000002,13700.000000000002,14150.000000000002,14600.000000000002,15050.000000000002,15500.000000000002,15950.000000000002,16400.0,16850.0,17300.0,17750.0,18200.0,18650.0,19100.0,19550.0,20000.0],\"y\":[10967.319689839776,11126.763161342413,11217.761347648511,11206.130311450945,11283.79563576151,11284.218727745394,11191.201198935853,11202.316784134802,11201.784430019412,11146.624867958219,11022.8865483462,10942.852725244811,10865.779597230101,10807.444296142432,10676.484029121397,10656.719163992604,10574.820746899044,10453.646763654693,10351.641526774058,10281.918721943257],\"type\":\"scatter\",\"uid\":\"b1be4447-b609-4b05-8832-3f8a0b477352\",\"xaxis\":\"x\",\"yaxis\":\"y\"},{\"customdata\":[\"\\u003cbr\\u003eEmitted Luminosity: 1.053e+43\\u003cbr\\u003eRequested Luminosity: 1.059e+43\\u003cbr\\u003eAbsorbed Luminosity: 3.417e+42\",\"\\u003cbr\\u003eEmitted Luminosity: 1.053e+43\\u003cbr\\u003eRequested Luminosity: 1.059e+43\\u003cbr\\u003eAbsorbed Luminosity: 3.417e+42\",\"\\u003cbr\\u003eEmitted Luminosity: 1.053e+43\\u003cbr\\u003eRequested Luminosity: 1.059e+43\\u003cbr\\u003eAbsorbed Luminosity: 3.417e+42\",\"\\u003cbr\\u003eEmitted Luminosity: 1.053e+43\\u003cbr\\u003eRequested Luminosity: 1.059e+43\\u003cbr\\u003eAbsorbed Luminosity: 3.417e+42\",\"\\u003cbr\\u003eEmitted Luminosity: 1.053e+43\\u003cbr\\u003eRequested Luminosity: 1.059e+43\\u003cbr\\u003eAbsorbed Luminosity: 3.417e+42\",\"\\u003cbr\\u003eEmitted Luminosity: 1.053e+43\\u003cbr\\u003eRequested Luminosity: 1.059e+43\\u003cbr\\u003eAbsorbed Luminosity: 3.417e+42\",\"\\u003cbr\\u003eEmitted Luminosity: 1.053e+43\\u003cbr\\u003eRequested Luminosity: 1.059e+43\\u003cbr\\u003eAbsorbed Luminosity: 3.417e+42\",\"\\u003cbr\\u003eEmitted Luminosity: 1.053e+43\\u003cbr\\u003eRequested Luminosity: 1.059e+43\\u003cbr\\u003eAbsorbed Luminosity: 3.417e+42\",\"\\u003cbr\\u003eEmitted Luminosity: 1.053e+43\\u003cbr\\u003eRequested Luminosity: 1.059e+43\\u003cbr\\u003eAbsorbed Luminosity: 3.417e+42\",\"\\u003cbr\\u003eEmitted Luminosity: 1.053e+43\\u003cbr\\u003eRequested Luminosity: 1.059e+43\\u003cbr\\u003eAbsorbed Luminosity: 3.417e+42\",\"\\u003cbr\\u003eEmitted Luminosity: 1.053e+43\\u003cbr\\u003eRequested Luminosity: 1.059e+43\\u003cbr\\u003eAbsorbed Luminosity: 3.417e+42\",\"\\u003cbr\\u003eEmitted Luminosity: 1.053e+43\\u003cbr\\u003eRequested Luminosity: 1.059e+43\\u003cbr\\u003eAbsorbed Luminosity: 3.417e+42\",\"\\u003cbr\\u003eEmitted Luminosity: 1.053e+43\\u003cbr\\u003eRequested Luminosity: 1.059e+43\\u003cbr\\u003eAbsorbed Luminosity: 3.417e+42\",\"\\u003cbr\\u003eEmitted Luminosity: 1.053e+43\\u003cbr\\u003eRequested Luminosity: 1.059e+43\\u003cbr\\u003eAbsorbed Luminosity: 3.417e+42\",\"\\u003cbr\\u003eEmitted Luminosity: 1.053e+43\\u003cbr\\u003eRequested Luminosity: 1.059e+43\\u003cbr\\u003eAbsorbed Luminosity: 3.417e+42\",\"\\u003cbr\\u003eEmitted Luminosity: 1.053e+43\\u003cbr\\u003eRequested Luminosity: 1.059e+43\\u003cbr\\u003eAbsorbed Luminosity: 3.417e+42\",\"\\u003cbr\\u003eEmitted Luminosity: 1.053e+43\\u003cbr\\u003eRequested Luminosity: 1.059e+43\\u003cbr\\u003eAbsorbed Luminosity: 3.417e+42\",\"\\u003cbr\\u003eEmitted Luminosity: 1.053e+43\\u003cbr\\u003eRequested Luminosity: 1.059e+43\\u003cbr\\u003eAbsorbed Luminosity: 3.417e+42\",\"\\u003cbr\\u003eEmitted Luminosity: 1.053e+43\\u003cbr\\u003eRequested Luminosity: 1.059e+43\\u003cbr\\u003eAbsorbed Luminosity: 3.417e+42\",\"\\u003cbr\\u003eEmitted Luminosity: 1.053e+43\\u003cbr\\u003eRequested Luminosity: 1.059e+43\\u003cbr\\u003eAbsorbed Luminosity: 3.417e+42\",\"\\u003cbr\\u003eEmitted Luminosity: 1.053e+43\\u003cbr\\u003eRequested Luminosity: 1.059e+43\\u003cbr\\u003eAbsorbed Luminosity: 3.417e+42\"],\"hovertemplate\":\"\\u003cb\\u003eY\\u003c\\u002fb\\u003e: %{y:.3f} at \\u003cb\\u003eX\\u003c\\u002fb\\u003e = %{x:,.0f}%{customdata}\",\"legendgroup\":\"group-15\",\"line\":{\"color\":\"#ffa400\"},\"name\":\"15\",\"x\":[11000.0,11450.000000000002,11900.000000000002,12350.000000000002,12800.000000000002,13250.000000000002,13700.000000000002,14150.000000000002,14600.000000000002,15050.000000000002,15500.000000000002,15950.000000000002,16400.0,16850.0,17300.0,17750.0,18200.0,18650.0,19100.0,19550.0,20000.0],\"y\":[0.4839489664038457,0.36180621597531093,0.2909150238561446,0.245835472688715,0.20725074640501265,0.18050061399535466,0.1641560973274281,0.144379849033836,0.1293009298209915,0.11929659385383073,0.11340474234335476,0.1064154201007316,0.10029313619903901,0.09450660762159387,0.09128329732648409,0.08583573863422064,0.08193986639330914,0.0796606104379695,0.07725470100725111,0.07431405280281174],\"type\":\"scatter\",\"uid\":\"b559e3df-11e5-4190-a559-bf1c07d89555\",\"xaxis\":\"x2\",\"yaxis\":\"y2\"},{\"customdata\":[\"\\u003cbr\\u003eEmitted Luminosity: 1.059e+43\\u003cbr\\u003eRequested Luminosity: 1.059e+43\\u003cbr\\u003eAbsorbed Luminosity: 3.445e+42\",\"\\u003cbr\\u003eEmitted Luminosity: 1.059e+43\\u003cbr\\u003eRequested Luminosity: 1.059e+43\\u003cbr\\u003eAbsorbed Luminosity: 3.445e+42\",\"\\u003cbr\\u003eEmitted Luminosity: 1.059e+43\\u003cbr\\u003eRequested Luminosity: 1.059e+43\\u003cbr\\u003eAbsorbed Luminosity: 3.445e+42\",\"\\u003cbr\\u003eEmitted Luminosity: 1.059e+43\\u003cbr\\u003eRequested Luminosity: 1.059e+43\\u003cbr\\u003eAbsorbed Luminosity: 3.445e+42\",\"\\u003cbr\\u003eEmitted Luminosity: 1.059e+43\\u003cbr\\u003eRequested Luminosity: 1.059e+43\\u003cbr\\u003eAbsorbed Luminosity: 3.445e+42\",\"\\u003cbr\\u003eEmitted Luminosity: 1.059e+43\\u003cbr\\u003eRequested Luminosity: 1.059e+43\\u003cbr\\u003eAbsorbed Luminosity: 3.445e+42\",\"\\u003cbr\\u003eEmitted Luminosity: 1.059e+43\\u003cbr\\u003eRequested Luminosity: 1.059e+43\\u003cbr\\u003eAbsorbed Luminosity: 3.445e+42\",\"\\u003cbr\\u003eEmitted Luminosity: 1.059e+43\\u003cbr\\u003eRequested Luminosity: 1.059e+43\\u003cbr\\u003eAbsorbed Luminosity: 3.445e+42\",\"\\u003cbr\\u003eEmitted Luminosity: 1.059e+43\\u003cbr\\u003eRequested Luminosity: 1.059e+43\\u003cbr\\u003eAbsorbed Luminosity: 3.445e+42\",\"\\u003cbr\\u003eEmitted Luminosity: 1.059e+43\\u003cbr\\u003eRequested Luminosity: 1.059e+43\\u003cbr\\u003eAbsorbed Luminosity: 3.445e+42\",\"\\u003cbr\\u003eEmitted Luminosity: 1.059e+43\\u003cbr\\u003eRequested Luminosity: 1.059e+43\\u003cbr\\u003eAbsorbed Luminosity: 3.445e+42\",\"\\u003cbr\\u003eEmitted Luminosity: 1.059e+43\\u003cbr\\u003eRequested Luminosity: 1.059e+43\\u003cbr\\u003eAbsorbed Luminosity: 3.445e+42\",\"\\u003cbr\\u003eEmitted Luminosity: 1.059e+43\\u003cbr\\u003eRequested Luminosity: 1.059e+43\\u003cbr\\u003eAbsorbed Luminosity: 3.445e+42\",\"\\u003cbr\\u003eEmitted Luminosity: 1.059e+43\\u003cbr\\u003eRequested Luminosity: 1.059e+43\\u003cbr\\u003eAbsorbed Luminosity: 3.445e+42\",\"\\u003cbr\\u003eEmitted Luminosity: 1.059e+43\\u003cbr\\u003eRequested Luminosity: 1.059e+43\\u003cbr\\u003eAbsorbed Luminosity: 3.445e+42\",\"\\u003cbr\\u003eEmitted Luminosity: 1.059e+43\\u003cbr\\u003eRequested Luminosity: 1.059e+43\\u003cbr\\u003eAbsorbed Luminosity: 3.445e+42\",\"\\u003cbr\\u003eEmitted Luminosity: 1.059e+43\\u003cbr\\u003eRequested Luminosity: 1.059e+43\\u003cbr\\u003eAbsorbed Luminosity: 3.445e+42\",\"\\u003cbr\\u003eEmitted Luminosity: 1.059e+43\\u003cbr\\u003eRequested Luminosity: 1.059e+43\\u003cbr\\u003eAbsorbed Luminosity: 3.445e+42\",\"\\u003cbr\\u003eEmitted Luminosity: 1.059e+43\\u003cbr\\u003eRequested Luminosity: 1.059e+43\\u003cbr\\u003eAbsorbed Luminosity: 3.445e+42\",\"\\u003cbr\\u003eEmitted Luminosity: 1.059e+43\\u003cbr\\u003eRequested Luminosity: 1.059e+43\\u003cbr\\u003eAbsorbed Luminosity: 3.445e+42\",\"\\u003cbr\\u003eEmitted Luminosity: 1.059e+43\\u003cbr\\u003eRequested Luminosity: 1.059e+43\\u003cbr\\u003eAbsorbed Luminosity: 3.445e+42\"],\"hovertemplate\":\"\\u003cb\\u003eY\\u003c\\u002fb\\u003e: %{y:.3f} at \\u003cb\\u003eX\\u003c\\u002fb\\u003e = %{x:,.0f}%{customdata}\",\"legendgroup\":\"group-16\",\"line\":{\"color\":\"#ff7200\"},\"name\":\"16\",\"showlegend\":false,\"x\":[11000.0,11450.000000000002,11900.000000000002,12350.000000000002,12800.000000000002,13250.000000000002,13700.000000000002,14150.000000000002,14600.000000000002,15050.000000000002,15500.000000000002,15950.000000000002,16400.0,16850.0,17300.0,17750.0,18200.0,18650.0,19100.0,19550.0,20000.0],\"y\":[11042.34716491331,11122.973076469945,11214.476674870628,11336.71405258941,11337.333755206391,11307.076269156976,11262.52885519424,11207.518829011724,11171.681952959329,11058.331288285535,11044.391209139,10976.33201851385,10821.88534251941,10742.965706111947,10725.757111364674,10644.126115834104,10614.930270051364,10486.4279264021,10417.742399590106,10319.211594283637],\"type\":\"scatter\",\"uid\":\"881c632f-ccb0-4a7f-9916-fca12cf64c28\",\"xaxis\":\"x\",\"yaxis\":\"y\"},{\"customdata\":[\"\\u003cbr\\u003eEmitted Luminosity: 1.059e+43\\u003cbr\\u003eRequested Luminosity: 1.059e+43\\u003cbr\\u003eAbsorbed Luminosity: 3.445e+42\",\"\\u003cbr\\u003eEmitted Luminosity: 1.059e+43\\u003cbr\\u003eRequested Luminosity: 1.059e+43\\u003cbr\\u003eAbsorbed Luminosity: 3.445e+42\",\"\\u003cbr\\u003eEmitted Luminosity: 1.059e+43\\u003cbr\\u003eRequested Luminosity: 1.059e+43\\u003cbr\\u003eAbsorbed Luminosity: 3.445e+42\",\"\\u003cbr\\u003eEmitted Luminosity: 1.059e+43\\u003cbr\\u003eRequested Luminosity: 1.059e+43\\u003cbr\\u003eAbsorbed Luminosity: 3.445e+42\",\"\\u003cbr\\u003eEmitted Luminosity: 1.059e+43\\u003cbr\\u003eRequested Luminosity: 1.059e+43\\u003cbr\\u003eAbsorbed Luminosity: 3.445e+42\",\"\\u003cbr\\u003eEmitted Luminosity: 1.059e+43\\u003cbr\\u003eRequested Luminosity: 1.059e+43\\u003cbr\\u003eAbsorbed Luminosity: 3.445e+42\",\"\\u003cbr\\u003eEmitted Luminosity: 1.059e+43\\u003cbr\\u003eRequested Luminosity: 1.059e+43\\u003cbr\\u003eAbsorbed Luminosity: 3.445e+42\",\"\\u003cbr\\u003eEmitted Luminosity: 1.059e+43\\u003cbr\\u003eRequested Luminosity: 1.059e+43\\u003cbr\\u003eAbsorbed Luminosity: 3.445e+42\",\"\\u003cbr\\u003eEmitted Luminosity: 1.059e+43\\u003cbr\\u003eRequested Luminosity: 1.059e+43\\u003cbr\\u003eAbsorbed Luminosity: 3.445e+42\",\"\\u003cbr\\u003eEmitted Luminosity: 1.059e+43\\u003cbr\\u003eRequested Luminosity: 1.059e+43\\u003cbr\\u003eAbsorbed Luminosity: 3.445e+42\",\"\\u003cbr\\u003eEmitted Luminosity: 1.059e+43\\u003cbr\\u003eRequested Luminosity: 1.059e+43\\u003cbr\\u003eAbsorbed Luminosity: 3.445e+42\",\"\\u003cbr\\u003eEmitted Luminosity: 1.059e+43\\u003cbr\\u003eRequested Luminosity: 1.059e+43\\u003cbr\\u003eAbsorbed Luminosity: 3.445e+42\",\"\\u003cbr\\u003eEmitted Luminosity: 1.059e+43\\u003cbr\\u003eRequested Luminosity: 1.059e+43\\u003cbr\\u003eAbsorbed Luminosity: 3.445e+42\",\"\\u003cbr\\u003eEmitted Luminosity: 1.059e+43\\u003cbr\\u003eRequested Luminosity: 1.059e+43\\u003cbr\\u003eAbsorbed Luminosity: 3.445e+42\",\"\\u003cbr\\u003eEmitted Luminosity: 1.059e+43\\u003cbr\\u003eRequested Luminosity: 1.059e+43\\u003cbr\\u003eAbsorbed Luminosity: 3.445e+42\",\"\\u003cbr\\u003eEmitted Luminosity: 1.059e+43\\u003cbr\\u003eRequested Luminosity: 1.059e+43\\u003cbr\\u003eAbsorbed Luminosity: 3.445e+42\",\"\\u003cbr\\u003eEmitted Luminosity: 1.059e+43\\u003cbr\\u003eRequested Luminosity: 1.059e+43\\u003cbr\\u003eAbsorbed Luminosity: 3.445e+42\",\"\\u003cbr\\u003eEmitted Luminosity: 1.059e+43\\u003cbr\\u003eRequested Luminosity: 1.059e+43\\u003cbr\\u003eAbsorbed Luminosity: 3.445e+42\",\"\\u003cbr\\u003eEmitted Luminosity: 1.059e+43\\u003cbr\\u003eRequested Luminosity: 1.059e+43\\u003cbr\\u003eAbsorbed Luminosity: 3.445e+42\",\"\\u003cbr\\u003eEmitted Luminosity: 1.059e+43\\u003cbr\\u003eRequested Luminosity: 1.059e+43\\u003cbr\\u003eAbsorbed Luminosity: 3.445e+42\",\"\\u003cbr\\u003eEmitted Luminosity: 1.059e+43\\u003cbr\\u003eRequested Luminosity: 1.059e+43\\u003cbr\\u003eAbsorbed Luminosity: 3.445e+42\"],\"hovertemplate\":\"\\u003cb\\u003eY\\u003c\\u002fb\\u003e: %{y:.3f} at \\u003cb\\u003eX\\u003c\\u002fb\\u003e = %{x:,.0f}%{customdata}\",\"legendgroup\":\"group-16\",\"line\":{\"color\":\"#ff7200\"},\"name\":\"16\",\"x\":[11000.0,11450.000000000002,11900.000000000002,12350.000000000002,12800.000000000002,13250.000000000002,13700.000000000002,14150.000000000002,14600.000000000002,15050.000000000002,15500.000000000002,15950.000000000002,16400.0,16850.0,17300.0,17750.0,18200.0,18650.0,19100.0,19550.0,20000.0],\"y\":[0.472473739030686,0.3620393839411035,0.28908163155052197,0.2353911445383315,0.2018308300131297,0.17676165782875639,0.15800650607336275,0.14388846835113484,0.1311422786947177,0.12300144484138824,0.11277397615125148,0.10539714186298735,0.10147887211505287,0.0966708137590785,0.09030685742567233,0.08580146883942565,0.0812276347318451,0.07912148718371516,0.07595030841188717,0.07373499787101953],\"type\":\"scatter\",\"uid\":\"a66fe9d2-861c-4cdb-a74c-1c601a69dee1\",\"xaxis\":\"x2\",\"yaxis\":\"y2\"},{\"customdata\":[\"\\u003cbr\\u003eEmitted Luminosity: 1.067e+43\\u003cbr\\u003eRequested Luminosity: 1.059e+43\\u003cbr\\u003eAbsorbed Luminosity: 3.372e+42\",\"\\u003cbr\\u003eEmitted Luminosity: 1.067e+43\\u003cbr\\u003eRequested Luminosity: 1.059e+43\\u003cbr\\u003eAbsorbed Luminosity: 3.372e+42\",\"\\u003cbr\\u003eEmitted Luminosity: 1.067e+43\\u003cbr\\u003eRequested Luminosity: 1.059e+43\\u003cbr\\u003eAbsorbed Luminosity: 3.372e+42\",\"\\u003cbr\\u003eEmitted Luminosity: 1.067e+43\\u003cbr\\u003eRequested Luminosity: 1.059e+43\\u003cbr\\u003eAbsorbed Luminosity: 3.372e+42\",\"\\u003cbr\\u003eEmitted Luminosity: 1.067e+43\\u003cbr\\u003eRequested Luminosity: 1.059e+43\\u003cbr\\u003eAbsorbed Luminosity: 3.372e+42\",\"\\u003cbr\\u003eEmitted Luminosity: 1.067e+43\\u003cbr\\u003eRequested Luminosity: 1.059e+43\\u003cbr\\u003eAbsorbed Luminosity: 3.372e+42\",\"\\u003cbr\\u003eEmitted Luminosity: 1.067e+43\\u003cbr\\u003eRequested Luminosity: 1.059e+43\\u003cbr\\u003eAbsorbed Luminosity: 3.372e+42\",\"\\u003cbr\\u003eEmitted Luminosity: 1.067e+43\\u003cbr\\u003eRequested Luminosity: 1.059e+43\\u003cbr\\u003eAbsorbed Luminosity: 3.372e+42\",\"\\u003cbr\\u003eEmitted Luminosity: 1.067e+43\\u003cbr\\u003eRequested Luminosity: 1.059e+43\\u003cbr\\u003eAbsorbed Luminosity: 3.372e+42\",\"\\u003cbr\\u003eEmitted Luminosity: 1.067e+43\\u003cbr\\u003eRequested Luminosity: 1.059e+43\\u003cbr\\u003eAbsorbed Luminosity: 3.372e+42\",\"\\u003cbr\\u003eEmitted Luminosity: 1.067e+43\\u003cbr\\u003eRequested Luminosity: 1.059e+43\\u003cbr\\u003eAbsorbed Luminosity: 3.372e+42\",\"\\u003cbr\\u003eEmitted Luminosity: 1.067e+43\\u003cbr\\u003eRequested Luminosity: 1.059e+43\\u003cbr\\u003eAbsorbed Luminosity: 3.372e+42\",\"\\u003cbr\\u003eEmitted Luminosity: 1.067e+43\\u003cbr\\u003eRequested Luminosity: 1.059e+43\\u003cbr\\u003eAbsorbed Luminosity: 3.372e+42\",\"\\u003cbr\\u003eEmitted Luminosity: 1.067e+43\\u003cbr\\u003eRequested Luminosity: 1.059e+43\\u003cbr\\u003eAbsorbed Luminosity: 3.372e+42\",\"\\u003cbr\\u003eEmitted Luminosity: 1.067e+43\\u003cbr\\u003eRequested Luminosity: 1.059e+43\\u003cbr\\u003eAbsorbed Luminosity: 3.372e+42\",\"\\u003cbr\\u003eEmitted Luminosity: 1.067e+43\\u003cbr\\u003eRequested Luminosity: 1.059e+43\\u003cbr\\u003eAbsorbed Luminosity: 3.372e+42\",\"\\u003cbr\\u003eEmitted Luminosity: 1.067e+43\\u003cbr\\u003eRequested Luminosity: 1.059e+43\\u003cbr\\u003eAbsorbed Luminosity: 3.372e+42\",\"\\u003cbr\\u003eEmitted Luminosity: 1.067e+43\\u003cbr\\u003eRequested Luminosity: 1.059e+43\\u003cbr\\u003eAbsorbed Luminosity: 3.372e+42\",\"\\u003cbr\\u003eEmitted Luminosity: 1.067e+43\\u003cbr\\u003eRequested Luminosity: 1.059e+43\\u003cbr\\u003eAbsorbed Luminosity: 3.372e+42\",\"\\u003cbr\\u003eEmitted Luminosity: 1.067e+43\\u003cbr\\u003eRequested Luminosity: 1.059e+43\\u003cbr\\u003eAbsorbed Luminosity: 3.372e+42\",\"\\u003cbr\\u003eEmitted Luminosity: 1.067e+43\\u003cbr\\u003eRequested Luminosity: 1.059e+43\\u003cbr\\u003eAbsorbed Luminosity: 3.372e+42\"],\"hovertemplate\":\"\\u003cb\\u003eY\\u003c\\u002fb\\u003e: %{y:.3f} at \\u003cb\\u003eX\\u003c\\u002fb\\u003e = %{x:,.0f}%{customdata}\",\"legendgroup\":\"group-17\",\"line\":{\"color\":\"#ff4000\"},\"name\":\"17\",\"showlegend\":false,\"x\":[11000.0,11450.000000000002,11900.000000000002,12350.000000000002,12800.000000000002,13250.000000000002,13700.000000000002,14150.000000000002,14600.000000000002,15050.000000000002,15500.000000000002,15950.000000000002,16400.0,16850.0,17300.0,17750.0,18200.0,18650.0,19100.0,19550.0,20000.0],\"y\":[11061.104099307457,11239.55998459945,11281.836658865599,11287.129688597894,11328.913152747022,11369.434946081554,11306.699900497464,11287.274255935276,11280.819812171088,11215.609111473224,11108.666528918406,11024.667234952878,10941.486142350293,10940.861990706435,10919.379408228562,10824.561464617129,10688.400332998075,10602.12760785567,10514.758872895347,10409.719642964505],\"type\":\"scatter\",\"uid\":\"e2fdc263-01ae-480c-b2cc-5fbc7df158bd\",\"xaxis\":\"x\",\"yaxis\":\"y\"},{\"customdata\":[\"\\u003cbr\\u003eEmitted Luminosity: 1.067e+43\\u003cbr\\u003eRequested Luminosity: 1.059e+43\\u003cbr\\u003eAbsorbed Luminosity: 3.372e+42\",\"\\u003cbr\\u003eEmitted Luminosity: 1.067e+43\\u003cbr\\u003eRequested Luminosity: 1.059e+43\\u003cbr\\u003eAbsorbed Luminosity: 3.372e+42\",\"\\u003cbr\\u003eEmitted Luminosity: 1.067e+43\\u003cbr\\u003eRequested Luminosity: 1.059e+43\\u003cbr\\u003eAbsorbed Luminosity: 3.372e+42\",\"\\u003cbr\\u003eEmitted Luminosity: 1.067e+43\\u003cbr\\u003eRequested Luminosity: 1.059e+43\\u003cbr\\u003eAbsorbed Luminosity: 3.372e+42\",\"\\u003cbr\\u003eEmitted Luminosity: 1.067e+43\\u003cbr\\u003eRequested Luminosity: 1.059e+43\\u003cbr\\u003eAbsorbed Luminosity: 3.372e+42\",\"\\u003cbr\\u003eEmitted Luminosity: 1.067e+43\\u003cbr\\u003eRequested Luminosity: 1.059e+43\\u003cbr\\u003eAbsorbed Luminosity: 3.372e+42\",\"\\u003cbr\\u003eEmitted Luminosity: 1.067e+43\\u003cbr\\u003eRequested Luminosity: 1.059e+43\\u003cbr\\u003eAbsorbed Luminosity: 3.372e+42\",\"\\u003cbr\\u003eEmitted Luminosity: 1.067e+43\\u003cbr\\u003eRequested Luminosity: 1.059e+43\\u003cbr\\u003eAbsorbed Luminosity: 3.372e+42\",\"\\u003cbr\\u003eEmitted Luminosity: 1.067e+43\\u003cbr\\u003eRequested Luminosity: 1.059e+43\\u003cbr\\u003eAbsorbed Luminosity: 3.372e+42\",\"\\u003cbr\\u003eEmitted Luminosity: 1.067e+43\\u003cbr\\u003eRequested Luminosity: 1.059e+43\\u003cbr\\u003eAbsorbed Luminosity: 3.372e+42\",\"\\u003cbr\\u003eEmitted Luminosity: 1.067e+43\\u003cbr\\u003eRequested Luminosity: 1.059e+43\\u003cbr\\u003eAbsorbed Luminosity: 3.372e+42\",\"\\u003cbr\\u003eEmitted Luminosity: 1.067e+43\\u003cbr\\u003eRequested Luminosity: 1.059e+43\\u003cbr\\u003eAbsorbed Luminosity: 3.372e+42\",\"\\u003cbr\\u003eEmitted Luminosity: 1.067e+43\\u003cbr\\u003eRequested Luminosity: 1.059e+43\\u003cbr\\u003eAbsorbed Luminosity: 3.372e+42\",\"\\u003cbr\\u003eEmitted Luminosity: 1.067e+43\\u003cbr\\u003eRequested Luminosity: 1.059e+43\\u003cbr\\u003eAbsorbed Luminosity: 3.372e+42\",\"\\u003cbr\\u003eEmitted Luminosity: 1.067e+43\\u003cbr\\u003eRequested Luminosity: 1.059e+43\\u003cbr\\u003eAbsorbed Luminosity: 3.372e+42\",\"\\u003cbr\\u003eEmitted Luminosity: 1.067e+43\\u003cbr\\u003eRequested Luminosity: 1.059e+43\\u003cbr\\u003eAbsorbed Luminosity: 3.372e+42\",\"\\u003cbr\\u003eEmitted Luminosity: 1.067e+43\\u003cbr\\u003eRequested Luminosity: 1.059e+43\\u003cbr\\u003eAbsorbed Luminosity: 3.372e+42\",\"\\u003cbr\\u003eEmitted Luminosity: 1.067e+43\\u003cbr\\u003eRequested Luminosity: 1.059e+43\\u003cbr\\u003eAbsorbed Luminosity: 3.372e+42\",\"\\u003cbr\\u003eEmitted Luminosity: 1.067e+43\\u003cbr\\u003eRequested Luminosity: 1.059e+43\\u003cbr\\u003eAbsorbed Luminosity: 3.372e+42\",\"\\u003cbr\\u003eEmitted Luminosity: 1.067e+43\\u003cbr\\u003eRequested Luminosity: 1.059e+43\\u003cbr\\u003eAbsorbed Luminosity: 3.372e+42\",\"\\u003cbr\\u003eEmitted Luminosity: 1.067e+43\\u003cbr\\u003eRequested Luminosity: 1.059e+43\\u003cbr\\u003eAbsorbed Luminosity: 3.372e+42\"],\"hovertemplate\":\"\\u003cb\\u003eY\\u003c\\u002fb\\u003e: %{y:.3f} at \\u003cb\\u003eX\\u003c\\u002fb\\u003e = %{x:,.0f}%{customdata}\",\"legendgroup\":\"group-17\",\"line\":{\"color\":\"#ff4000\"},\"name\":\"17\",\"x\":[11000.0,11450.000000000002,11900.000000000002,12350.000000000002,12800.000000000002,13250.000000000002,13700.000000000002,14150.000000000002,14600.000000000002,15050.000000000002,15500.000000000002,15950.000000000002,16400.0,16850.0,17300.0,17750.0,18200.0,18650.0,19100.0,19550.0,20000.0],\"y\":[0.46804430485256376,0.34723475752194843,0.2836200032547838,0.24021190277287371,0.20427468926171494,0.17542993811450605,0.15711545867526908,0.14083908068193834,0.12665973222389507,0.11702302842394281,0.11040994506662766,0.1036390417864005,0.0981613249306288,0.0907870697100236,0.08479711424924866,0.08159847698111052,0.0795304846730417,0.07630911135841503,0.07363747451940524,0.07179028232710591],\"type\":\"scatter\",\"uid\":\"2911ea83-b692-466d-a717-10b31c40b779\",\"xaxis\":\"x2\",\"yaxis\":\"y2\"},{\"customdata\":[\"\\u003cbr\\u003eEmitted Luminosity: 1.057e+43\\u003cbr\\u003eRequested Luminosity: 1.059e+43\\u003cbr\\u003eAbsorbed Luminosity: 3.365e+42\",\"\\u003cbr\\u003eEmitted Luminosity: 1.057e+43\\u003cbr\\u003eRequested Luminosity: 1.059e+43\\u003cbr\\u003eAbsorbed Luminosity: 3.365e+42\",\"\\u003cbr\\u003eEmitted Luminosity: 1.057e+43\\u003cbr\\u003eRequested Luminosity: 1.059e+43\\u003cbr\\u003eAbsorbed Luminosity: 3.365e+42\",\"\\u003cbr\\u003eEmitted Luminosity: 1.057e+43\\u003cbr\\u003eRequested Luminosity: 1.059e+43\\u003cbr\\u003eAbsorbed Luminosity: 3.365e+42\",\"\\u003cbr\\u003eEmitted Luminosity: 1.057e+43\\u003cbr\\u003eRequested Luminosity: 1.059e+43\\u003cbr\\u003eAbsorbed Luminosity: 3.365e+42\",\"\\u003cbr\\u003eEmitted Luminosity: 1.057e+43\\u003cbr\\u003eRequested Luminosity: 1.059e+43\\u003cbr\\u003eAbsorbed Luminosity: 3.365e+42\",\"\\u003cbr\\u003eEmitted Luminosity: 1.057e+43\\u003cbr\\u003eRequested Luminosity: 1.059e+43\\u003cbr\\u003eAbsorbed Luminosity: 3.365e+42\",\"\\u003cbr\\u003eEmitted Luminosity: 1.057e+43\\u003cbr\\u003eRequested Luminosity: 1.059e+43\\u003cbr\\u003eAbsorbed Luminosity: 3.365e+42\",\"\\u003cbr\\u003eEmitted Luminosity: 1.057e+43\\u003cbr\\u003eRequested Luminosity: 1.059e+43\\u003cbr\\u003eAbsorbed Luminosity: 3.365e+42\",\"\\u003cbr\\u003eEmitted Luminosity: 1.057e+43\\u003cbr\\u003eRequested Luminosity: 1.059e+43\\u003cbr\\u003eAbsorbed Luminosity: 3.365e+42\",\"\\u003cbr\\u003eEmitted Luminosity: 1.057e+43\\u003cbr\\u003eRequested Luminosity: 1.059e+43\\u003cbr\\u003eAbsorbed Luminosity: 3.365e+42\",\"\\u003cbr\\u003eEmitted Luminosity: 1.057e+43\\u003cbr\\u003eRequested Luminosity: 1.059e+43\\u003cbr\\u003eAbsorbed Luminosity: 3.365e+42\",\"\\u003cbr\\u003eEmitted Luminosity: 1.057e+43\\u003cbr\\u003eRequested Luminosity: 1.059e+43\\u003cbr\\u003eAbsorbed Luminosity: 3.365e+42\",\"\\u003cbr\\u003eEmitted Luminosity: 1.057e+43\\u003cbr\\u003eRequested Luminosity: 1.059e+43\\u003cbr\\u003eAbsorbed Luminosity: 3.365e+42\",\"\\u003cbr\\u003eEmitted Luminosity: 1.057e+43\\u003cbr\\u003eRequested Luminosity: 1.059e+43\\u003cbr\\u003eAbsorbed Luminosity: 3.365e+42\",\"\\u003cbr\\u003eEmitted Luminosity: 1.057e+43\\u003cbr\\u003eRequested Luminosity: 1.059e+43\\u003cbr\\u003eAbsorbed Luminosity: 3.365e+42\",\"\\u003cbr\\u003eEmitted Luminosity: 1.057e+43\\u003cbr\\u003eRequested Luminosity: 1.059e+43\\u003cbr\\u003eAbsorbed Luminosity: 3.365e+42\",\"\\u003cbr\\u003eEmitted Luminosity: 1.057e+43\\u003cbr\\u003eRequested Luminosity: 1.059e+43\\u003cbr\\u003eAbsorbed Luminosity: 3.365e+42\",\"\\u003cbr\\u003eEmitted Luminosity: 1.057e+43\\u003cbr\\u003eRequested Luminosity: 1.059e+43\\u003cbr\\u003eAbsorbed Luminosity: 3.365e+42\",\"\\u003cbr\\u003eEmitted Luminosity: 1.057e+43\\u003cbr\\u003eRequested Luminosity: 1.059e+43\\u003cbr\\u003eAbsorbed Luminosity: 3.365e+42\",\"\\u003cbr\\u003eEmitted Luminosity: 1.057e+43\\u003cbr\\u003eRequested Luminosity: 1.059e+43\\u003cbr\\u003eAbsorbed Luminosity: 3.365e+42\"],\"hovertemplate\":\"\\u003cb\\u003eY\\u003c\\u002fb\\u003e: %{y:.3f} at \\u003cb\\u003eX\\u003c\\u002fb\\u003e = %{x:,.0f}%{customdata}\",\"legendgroup\":\"group-18\",\"line\":{\"color\":\"#fa0e00\"},\"name\":\"18\",\"showlegend\":false,\"x\":[11000.0,11450.000000000002,11900.000000000002,12350.000000000002,12800.000000000002,13250.000000000002,13700.000000000002,14150.000000000002,14600.000000000002,15050.000000000002,15500.000000000002,15950.000000000002,16400.0,16850.0,17300.0,17750.0,18200.0,18650.0,19100.0,19550.0,20000.0],\"y\":[11069.1938257916,11144.033207049146,11213.390466065273,11305.728523789097,11285.266192078348,11323.781971848031,11271.173664854383,11265.745456140707,11172.683220546345,11091.044446030715,11030.940753701412,10992.91031985236,10907.845138339242,10860.343897964249,10754.598366332182,10675.606528996848,10611.908650608526,10526.401760346105,10470.935743771972,10349.228093790893],\"type\":\"scatter\",\"uid\":\"e6db514c-51b0-456c-8088-ff07cd86d80b\",\"xaxis\":\"x\",\"yaxis\":\"y\"},{\"customdata\":[\"\\u003cbr\\u003eEmitted Luminosity: 1.057e+43\\u003cbr\\u003eRequested Luminosity: 1.059e+43\\u003cbr\\u003eAbsorbed Luminosity: 3.365e+42\",\"\\u003cbr\\u003eEmitted Luminosity: 1.057e+43\\u003cbr\\u003eRequested Luminosity: 1.059e+43\\u003cbr\\u003eAbsorbed Luminosity: 3.365e+42\",\"\\u003cbr\\u003eEmitted Luminosity: 1.057e+43\\u003cbr\\u003eRequested Luminosity: 1.059e+43\\u003cbr\\u003eAbsorbed Luminosity: 3.365e+42\",\"\\u003cbr\\u003eEmitted Luminosity: 1.057e+43\\u003cbr\\u003eRequested Luminosity: 1.059e+43\\u003cbr\\u003eAbsorbed Luminosity: 3.365e+42\",\"\\u003cbr\\u003eEmitted Luminosity: 1.057e+43\\u003cbr\\u003eRequested Luminosity: 1.059e+43\\u003cbr\\u003eAbsorbed Luminosity: 3.365e+42\",\"\\u003cbr\\u003eEmitted Luminosity: 1.057e+43\\u003cbr\\u003eRequested Luminosity: 1.059e+43\\u003cbr\\u003eAbsorbed Luminosity: 3.365e+42\",\"\\u003cbr\\u003eEmitted Luminosity: 1.057e+43\\u003cbr\\u003eRequested Luminosity: 1.059e+43\\u003cbr\\u003eAbsorbed Luminosity: 3.365e+42\",\"\\u003cbr\\u003eEmitted Luminosity: 1.057e+43\\u003cbr\\u003eRequested Luminosity: 1.059e+43\\u003cbr\\u003eAbsorbed Luminosity: 3.365e+42\",\"\\u003cbr\\u003eEmitted Luminosity: 1.057e+43\\u003cbr\\u003eRequested Luminosity: 1.059e+43\\u003cbr\\u003eAbsorbed Luminosity: 3.365e+42\",\"\\u003cbr\\u003eEmitted Luminosity: 1.057e+43\\u003cbr\\u003eRequested Luminosity: 1.059e+43\\u003cbr\\u003eAbsorbed Luminosity: 3.365e+42\",\"\\u003cbr\\u003eEmitted Luminosity: 1.057e+43\\u003cbr\\u003eRequested Luminosity: 1.059e+43\\u003cbr\\u003eAbsorbed Luminosity: 3.365e+42\",\"\\u003cbr\\u003eEmitted Luminosity: 1.057e+43\\u003cbr\\u003eRequested Luminosity: 1.059e+43\\u003cbr\\u003eAbsorbed Luminosity: 3.365e+42\",\"\\u003cbr\\u003eEmitted Luminosity: 1.057e+43\\u003cbr\\u003eRequested Luminosity: 1.059e+43\\u003cbr\\u003eAbsorbed Luminosity: 3.365e+42\",\"\\u003cbr\\u003eEmitted Luminosity: 1.057e+43\\u003cbr\\u003eRequested Luminosity: 1.059e+43\\u003cbr\\u003eAbsorbed Luminosity: 3.365e+42\",\"\\u003cbr\\u003eEmitted Luminosity: 1.057e+43\\u003cbr\\u003eRequested Luminosity: 1.059e+43\\u003cbr\\u003eAbsorbed Luminosity: 3.365e+42\",\"\\u003cbr\\u003eEmitted Luminosity: 1.057e+43\\u003cbr\\u003eRequested Luminosity: 1.059e+43\\u003cbr\\u003eAbsorbed Luminosity: 3.365e+42\",\"\\u003cbr\\u003eEmitted Luminosity: 1.057e+43\\u003cbr\\u003eRequested Luminosity: 1.059e+43\\u003cbr\\u003eAbsorbed Luminosity: 3.365e+42\",\"\\u003cbr\\u003eEmitted Luminosity: 1.057e+43\\u003cbr\\u003eRequested Luminosity: 1.059e+43\\u003cbr\\u003eAbsorbed Luminosity: 3.365e+42\",\"\\u003cbr\\u003eEmitted Luminosity: 1.057e+43\\u003cbr\\u003eRequested Luminosity: 1.059e+43\\u003cbr\\u003eAbsorbed Luminosity: 3.365e+42\",\"\\u003cbr\\u003eEmitted Luminosity: 1.057e+43\\u003cbr\\u003eRequested Luminosity: 1.059e+43\\u003cbr\\u003eAbsorbed Luminosity: 3.365e+42\",\"\\u003cbr\\u003eEmitted Luminosity: 1.057e+43\\u003cbr\\u003eRequested Luminosity: 1.059e+43\\u003cbr\\u003eAbsorbed Luminosity: 3.365e+42\"],\"hovertemplate\":\"\\u003cb\\u003eY\\u003c\\u002fb\\u003e: %{y:.3f} at \\u003cb\\u003eX\\u003c\\u002fb\\u003e = %{x:,.0f}%{customdata}\",\"legendgroup\":\"group-18\",\"line\":{\"color\":\"#fa0e00\"},\"name\":\"18\",\"x\":[11000.0,11450.000000000002,11900.000000000002,12350.000000000002,12800.000000000002,13250.000000000002,13700.000000000002,14150.000000000002,14600.000000000002,15050.000000000002,15500.000000000002,15950.000000000002,16400.0,16850.0,17300.0,17750.0,18200.0,18650.0,19100.0,19550.0,20000.0],\"y\":[0.4639715089709829,0.3556123750104741,0.28682866523758777,0.23621024913700273,0.20608263394938123,0.17691635466933156,0.1590628168308522,0.14202949676530063,0.1317507458376173,0.12212205707944815,0.11300865624617834,0.10531621295154771,0.09917457640102476,0.09274653967657963,0.08897179275209063,0.08478992431889691,0.08135082793390175,0.07813941248172208,0.0744339247266238,0.07303258834445252],\"type\":\"scatter\",\"uid\":\"ffa35bcb-7bd7-4868-b321-2597d18d7e31\",\"xaxis\":\"x2\",\"yaxis\":\"y2\"},{\"customdata\":[\"\\u003cbr\\u003eEmitted Luminosity: 1.056e+43\\u003cbr\\u003eRequested Luminosity: 1.059e+43\\u003cbr\\u003eAbsorbed Luminosity: 3.405e+42\",\"\\u003cbr\\u003eEmitted Luminosity: 1.056e+43\\u003cbr\\u003eRequested Luminosity: 1.059e+43\\u003cbr\\u003eAbsorbed Luminosity: 3.405e+42\",\"\\u003cbr\\u003eEmitted Luminosity: 1.056e+43\\u003cbr\\u003eRequested Luminosity: 1.059e+43\\u003cbr\\u003eAbsorbed Luminosity: 3.405e+42\",\"\\u003cbr\\u003eEmitted Luminosity: 1.056e+43\\u003cbr\\u003eRequested Luminosity: 1.059e+43\\u003cbr\\u003eAbsorbed Luminosity: 3.405e+42\",\"\\u003cbr\\u003eEmitted Luminosity: 1.056e+43\\u003cbr\\u003eRequested Luminosity: 1.059e+43\\u003cbr\\u003eAbsorbed Luminosity: 3.405e+42\",\"\\u003cbr\\u003eEmitted Luminosity: 1.056e+43\\u003cbr\\u003eRequested Luminosity: 1.059e+43\\u003cbr\\u003eAbsorbed Luminosity: 3.405e+42\",\"\\u003cbr\\u003eEmitted Luminosity: 1.056e+43\\u003cbr\\u003eRequested Luminosity: 1.059e+43\\u003cbr\\u003eAbsorbed Luminosity: 3.405e+42\",\"\\u003cbr\\u003eEmitted Luminosity: 1.056e+43\\u003cbr\\u003eRequested Luminosity: 1.059e+43\\u003cbr\\u003eAbsorbed Luminosity: 3.405e+42\",\"\\u003cbr\\u003eEmitted Luminosity: 1.056e+43\\u003cbr\\u003eRequested Luminosity: 1.059e+43\\u003cbr\\u003eAbsorbed Luminosity: 3.405e+42\",\"\\u003cbr\\u003eEmitted Luminosity: 1.056e+43\\u003cbr\\u003eRequested Luminosity: 1.059e+43\\u003cbr\\u003eAbsorbed Luminosity: 3.405e+42\",\"\\u003cbr\\u003eEmitted Luminosity: 1.056e+43\\u003cbr\\u003eRequested Luminosity: 1.059e+43\\u003cbr\\u003eAbsorbed Luminosity: 3.405e+42\",\"\\u003cbr\\u003eEmitted Luminosity: 1.056e+43\\u003cbr\\u003eRequested Luminosity: 1.059e+43\\u003cbr\\u003eAbsorbed Luminosity: 3.405e+42\",\"\\u003cbr\\u003eEmitted Luminosity: 1.056e+43\\u003cbr\\u003eRequested Luminosity: 1.059e+43\\u003cbr\\u003eAbsorbed Luminosity: 3.405e+42\",\"\\u003cbr\\u003eEmitted Luminosity: 1.056e+43\\u003cbr\\u003eRequested Luminosity: 1.059e+43\\u003cbr\\u003eAbsorbed Luminosity: 3.405e+42\",\"\\u003cbr\\u003eEmitted Luminosity: 1.056e+43\\u003cbr\\u003eRequested Luminosity: 1.059e+43\\u003cbr\\u003eAbsorbed Luminosity: 3.405e+42\",\"\\u003cbr\\u003eEmitted Luminosity: 1.056e+43\\u003cbr\\u003eRequested Luminosity: 1.059e+43\\u003cbr\\u003eAbsorbed Luminosity: 3.405e+42\",\"\\u003cbr\\u003eEmitted Luminosity: 1.056e+43\\u003cbr\\u003eRequested Luminosity: 1.059e+43\\u003cbr\\u003eAbsorbed Luminosity: 3.405e+42\",\"\\u003cbr\\u003eEmitted Luminosity: 1.056e+43\\u003cbr\\u003eRequested Luminosity: 1.059e+43\\u003cbr\\u003eAbsorbed Luminosity: 3.405e+42\",\"\\u003cbr\\u003eEmitted Luminosity: 1.056e+43\\u003cbr\\u003eRequested Luminosity: 1.059e+43\\u003cbr\\u003eAbsorbed Luminosity: 3.405e+42\",\"\\u003cbr\\u003eEmitted Luminosity: 1.056e+43\\u003cbr\\u003eRequested Luminosity: 1.059e+43\\u003cbr\\u003eAbsorbed Luminosity: 3.405e+42\",\"\\u003cbr\\u003eEmitted Luminosity: 1.056e+43\\u003cbr\\u003eRequested Luminosity: 1.059e+43\\u003cbr\\u003eAbsorbed Luminosity: 3.405e+42\"],\"hovertemplate\":\"\\u003cb\\u003eY\\u003c\\u002fb\\u003e: %{y:.3f} at \\u003cb\\u003eX\\u003c\\u002fb\\u003e = %{x:,.0f}%{customdata}\",\"legendgroup\":\"group-19\",\"line\":{\"color\":\"#bd0000\"},\"name\":\"19\",\"showlegend\":false,\"x\":[11000.0,11450.000000000002,11900.000000000002,12350.000000000002,12800.000000000002,13250.000000000002,13700.000000000002,14150.000000000002,14600.000000000002,15050.000000000002,15500.000000000002,15950.000000000002,16400.0,16850.0,17300.0,17750.0,18200.0,18650.0,19100.0,19550.0,20000.0],\"y\":[11069.330905128363,11165.157508232687,11272.627838084107,11372.452242092746,11332.02808655298,11329.643649684162,11294.518610555542,11261.56889991624,11241.478089214124,11148.975327466384,11071.52915552272,11004.685618603133,10946.399767397175,10861.427450210917,10784.478922373628,10655.55792714528,10586.119099716912,10567.996737209662,10435.711201034517,10305.706321601658],\"type\":\"scatter\",\"uid\":\"e3057d68-71e3-4f51-9d20-922d910a8798\",\"xaxis\":\"x\",\"yaxis\":\"y\"},{\"customdata\":[\"\\u003cbr\\u003eEmitted Luminosity: 1.056e+43\\u003cbr\\u003eRequested Luminosity: 1.059e+43\\u003cbr\\u003eAbsorbed Luminosity: 3.405e+42\",\"\\u003cbr\\u003eEmitted Luminosity: 1.056e+43\\u003cbr\\u003eRequested Luminosity: 1.059e+43\\u003cbr\\u003eAbsorbed Luminosity: 3.405e+42\",\"\\u003cbr\\u003eEmitted Luminosity: 1.056e+43\\u003cbr\\u003eRequested Luminosity: 1.059e+43\\u003cbr\\u003eAbsorbed Luminosity: 3.405e+42\",\"\\u003cbr\\u003eEmitted Luminosity: 1.056e+43\\u003cbr\\u003eRequested Luminosity: 1.059e+43\\u003cbr\\u003eAbsorbed Luminosity: 3.405e+42\",\"\\u003cbr\\u003eEmitted Luminosity: 1.056e+43\\u003cbr\\u003eRequested Luminosity: 1.059e+43\\u003cbr\\u003eAbsorbed Luminosity: 3.405e+42\",\"\\u003cbr\\u003eEmitted Luminosity: 1.056e+43\\u003cbr\\u003eRequested Luminosity: 1.059e+43\\u003cbr\\u003eAbsorbed Luminosity: 3.405e+42\",\"\\u003cbr\\u003eEmitted Luminosity: 1.056e+43\\u003cbr\\u003eRequested Luminosity: 1.059e+43\\u003cbr\\u003eAbsorbed Luminosity: 3.405e+42\",\"\\u003cbr\\u003eEmitted Luminosity: 1.056e+43\\u003cbr\\u003eRequested Luminosity: 1.059e+43\\u003cbr\\u003eAbsorbed Luminosity: 3.405e+42\",\"\\u003cbr\\u003eEmitted Luminosity: 1.056e+43\\u003cbr\\u003eRequested Luminosity: 1.059e+43\\u003cbr\\u003eAbsorbed Luminosity: 3.405e+42\",\"\\u003cbr\\u003eEmitted Luminosity: 1.056e+43\\u003cbr\\u003eRequested Luminosity: 1.059e+43\\u003cbr\\u003eAbsorbed Luminosity: 3.405e+42\",\"\\u003cbr\\u003eEmitted Luminosity: 1.056e+43\\u003cbr\\u003eRequested Luminosity: 1.059e+43\\u003cbr\\u003eAbsorbed Luminosity: 3.405e+42\",\"\\u003cbr\\u003eEmitted Luminosity: 1.056e+43\\u003cbr\\u003eRequested Luminosity: 1.059e+43\\u003cbr\\u003eAbsorbed Luminosity: 3.405e+42\",\"\\u003cbr\\u003eEmitted Luminosity: 1.056e+43\\u003cbr\\u003eRequested Luminosity: 1.059e+43\\u003cbr\\u003eAbsorbed Luminosity: 3.405e+42\",\"\\u003cbr\\u003eEmitted Luminosity: 1.056e+43\\u003cbr\\u003eRequested Luminosity: 1.059e+43\\u003cbr\\u003eAbsorbed Luminosity: 3.405e+42\",\"\\u003cbr\\u003eEmitted Luminosity: 1.056e+43\\u003cbr\\u003eRequested Luminosity: 1.059e+43\\u003cbr\\u003eAbsorbed Luminosity: 3.405e+42\",\"\\u003cbr\\u003eEmitted Luminosity: 1.056e+43\\u003cbr\\u003eRequested Luminosity: 1.059e+43\\u003cbr\\u003eAbsorbed Luminosity: 3.405e+42\",\"\\u003cbr\\u003eEmitted Luminosity: 1.056e+43\\u003cbr\\u003eRequested Luminosity: 1.059e+43\\u003cbr\\u003eAbsorbed Luminosity: 3.405e+42\",\"\\u003cbr\\u003eEmitted Luminosity: 1.056e+43\\u003cbr\\u003eRequested Luminosity: 1.059e+43\\u003cbr\\u003eAbsorbed Luminosity: 3.405e+42\",\"\\u003cbr\\u003eEmitted Luminosity: 1.056e+43\\u003cbr\\u003eRequested Luminosity: 1.059e+43\\u003cbr\\u003eAbsorbed Luminosity: 3.405e+42\",\"\\u003cbr\\u003eEmitted Luminosity: 1.056e+43\\u003cbr\\u003eRequested Luminosity: 1.059e+43\\u003cbr\\u003eAbsorbed Luminosity: 3.405e+42\",\"\\u003cbr\\u003eEmitted Luminosity: 1.056e+43\\u003cbr\\u003eRequested Luminosity: 1.059e+43\\u003cbr\\u003eAbsorbed Luminosity: 3.405e+42\"],\"hovertemplate\":\"\\u003cb\\u003eY\\u003c\\u002fb\\u003e: %{y:.3f} at \\u003cb\\u003eX\\u003c\\u002fb\\u003e = %{x:,.0f}%{customdata}\",\"legendgroup\":\"group-19\",\"line\":{\"color\":\"#bd0000\"},\"name\":\"19\",\"x\":[11000.0,11450.000000000002,11900.000000000002,12350.000000000002,12800.000000000002,13250.000000000002,13700.000000000002,14150.000000000002,14600.000000000002,15050.000000000002,15500.000000000002,15950.000000000002,16400.0,16850.0,17300.0,17750.0,18200.0,18650.0,19100.0,19550.0,20000.0],\"y\":[0.46583111018039597,0.3582139925384143,0.28478501426091246,0.2313174831039103,0.20190424227997184,0.17672917455281906,0.15768939682107744,0.14187895828275526,0.128161900493575,0.1190855055266552,0.11148042151768817,0.10454477954536032,0.09806677233974068,0.09312253593720113,0.08822151272172478,0.08534236121970994,0.08173657353178969,0.07726564181487501,0.07559528441614179,0.07395579146463582],\"type\":\"scatter\",\"uid\":\"fbcad639-2ab3-44df-a122-588f448af9f6\",\"xaxis\":\"x2\",\"yaxis\":\"y2\"},{\"customdata\":[\"\\u003cbr\\u003eEmitted Luminosity: 1.061e+43\\u003cbr\\u003eRequested Luminosity: 1.059e+43\\u003cbr\\u003eAbsorbed Luminosity: 3.401e+42\",\"\\u003cbr\\u003eEmitted Luminosity: 1.061e+43\\u003cbr\\u003eRequested Luminosity: 1.059e+43\\u003cbr\\u003eAbsorbed Luminosity: 3.401e+42\",\"\\u003cbr\\u003eEmitted Luminosity: 1.061e+43\\u003cbr\\u003eRequested Luminosity: 1.059e+43\\u003cbr\\u003eAbsorbed Luminosity: 3.401e+42\",\"\\u003cbr\\u003eEmitted Luminosity: 1.061e+43\\u003cbr\\u003eRequested Luminosity: 1.059e+43\\u003cbr\\u003eAbsorbed Luminosity: 3.401e+42\",\"\\u003cbr\\u003eEmitted Luminosity: 1.061e+43\\u003cbr\\u003eRequested Luminosity: 1.059e+43\\u003cbr\\u003eAbsorbed Luminosity: 3.401e+42\",\"\\u003cbr\\u003eEmitted Luminosity: 1.061e+43\\u003cbr\\u003eRequested Luminosity: 1.059e+43\\u003cbr\\u003eAbsorbed Luminosity: 3.401e+42\",\"\\u003cbr\\u003eEmitted Luminosity: 1.061e+43\\u003cbr\\u003eRequested Luminosity: 1.059e+43\\u003cbr\\u003eAbsorbed Luminosity: 3.401e+42\",\"\\u003cbr\\u003eEmitted Luminosity: 1.061e+43\\u003cbr\\u003eRequested Luminosity: 1.059e+43\\u003cbr\\u003eAbsorbed Luminosity: 3.401e+42\",\"\\u003cbr\\u003eEmitted Luminosity: 1.061e+43\\u003cbr\\u003eRequested Luminosity: 1.059e+43\\u003cbr\\u003eAbsorbed Luminosity: 3.401e+42\",\"\\u003cbr\\u003eEmitted Luminosity: 1.061e+43\\u003cbr\\u003eRequested Luminosity: 1.059e+43\\u003cbr\\u003eAbsorbed Luminosity: 3.401e+42\",\"\\u003cbr\\u003eEmitted Luminosity: 1.061e+43\\u003cbr\\u003eRequested Luminosity: 1.059e+43\\u003cbr\\u003eAbsorbed Luminosity: 3.401e+42\",\"\\u003cbr\\u003eEmitted Luminosity: 1.061e+43\\u003cbr\\u003eRequested Luminosity: 1.059e+43\\u003cbr\\u003eAbsorbed Luminosity: 3.401e+42\",\"\\u003cbr\\u003eEmitted Luminosity: 1.061e+43\\u003cbr\\u003eRequested Luminosity: 1.059e+43\\u003cbr\\u003eAbsorbed Luminosity: 3.401e+42\",\"\\u003cbr\\u003eEmitted Luminosity: 1.061e+43\\u003cbr\\u003eRequested Luminosity: 1.059e+43\\u003cbr\\u003eAbsorbed Luminosity: 3.401e+42\",\"\\u003cbr\\u003eEmitted Luminosity: 1.061e+43\\u003cbr\\u003eRequested Luminosity: 1.059e+43\\u003cbr\\u003eAbsorbed Luminosity: 3.401e+42\",\"\\u003cbr\\u003eEmitted Luminosity: 1.061e+43\\u003cbr\\u003eRequested Luminosity: 1.059e+43\\u003cbr\\u003eAbsorbed Luminosity: 3.401e+42\",\"\\u003cbr\\u003eEmitted Luminosity: 1.061e+43\\u003cbr\\u003eRequested Luminosity: 1.059e+43\\u003cbr\\u003eAbsorbed Luminosity: 3.401e+42\",\"\\u003cbr\\u003eEmitted Luminosity: 1.061e+43\\u003cbr\\u003eRequested Luminosity: 1.059e+43\\u003cbr\\u003eAbsorbed Luminosity: 3.401e+42\",\"\\u003cbr\\u003eEmitted Luminosity: 1.061e+43\\u003cbr\\u003eRequested Luminosity: 1.059e+43\\u003cbr\\u003eAbsorbed Luminosity: 3.401e+42\",\"\\u003cbr\\u003eEmitted Luminosity: 1.061e+43\\u003cbr\\u003eRequested Luminosity: 1.059e+43\\u003cbr\\u003eAbsorbed Luminosity: 3.401e+42\",\"\\u003cbr\\u003eEmitted Luminosity: 1.061e+43\\u003cbr\\u003eRequested Luminosity: 1.059e+43\\u003cbr\\u003eAbsorbed Luminosity: 3.401e+42\"],\"hovertemplate\":\"\\u003cb\\u003eY\\u003c\\u002fb\\u003e: %{y:.3f} at \\u003cb\\u003eX\\u003c\\u002fb\\u003e = %{x:,.0f}%{customdata}\",\"legendgroup\":\"group-20\",\"line\":{\"color\":\"#800000\"},\"name\":\"20\",\"showlegend\":false,\"x\":[11000.0,11450.000000000002,11900.000000000002,12350.000000000002,12800.000000000002,13250.000000000002,13700.000000000002,14150.000000000002,14600.000000000002,15050.000000000002,15500.000000000002,15950.000000000002,16400.0,16850.0,17300.0,17750.0,18200.0,18650.0,19100.0,19550.0,20000.0],\"y\":[11069.330905128363,11165.157508232687,11272.627838084107,11372.452242092746,11332.02808655298,11329.643649684162,11294.518610555542,11261.56889991624,11241.478089214124,11148.975327466384,11071.52915552272,11004.685618603133,10946.399767397175,10861.427450210917,10784.478922373628,10655.55792714528,10586.119099716912,10567.996737209662,10435.711201034517,10305.706321601658],\"type\":\"scatter\",\"uid\":\"f4cd6d21-02fa-4068-a363-7757790827c8\",\"xaxis\":\"x\",\"yaxis\":\"y\"},{\"customdata\":[\"\\u003cbr\\u003eEmitted Luminosity: 1.061e+43\\u003cbr\\u003eRequested Luminosity: 1.059e+43\\u003cbr\\u003eAbsorbed Luminosity: 3.401e+42\",\"\\u003cbr\\u003eEmitted Luminosity: 1.061e+43\\u003cbr\\u003eRequested Luminosity: 1.059e+43\\u003cbr\\u003eAbsorbed Luminosity: 3.401e+42\",\"\\u003cbr\\u003eEmitted Luminosity: 1.061e+43\\u003cbr\\u003eRequested Luminosity: 1.059e+43\\u003cbr\\u003eAbsorbed Luminosity: 3.401e+42\",\"\\u003cbr\\u003eEmitted Luminosity: 1.061e+43\\u003cbr\\u003eRequested Luminosity: 1.059e+43\\u003cbr\\u003eAbsorbed Luminosity: 3.401e+42\",\"\\u003cbr\\u003eEmitted Luminosity: 1.061e+43\\u003cbr\\u003eRequested Luminosity: 1.059e+43\\u003cbr\\u003eAbsorbed Luminosity: 3.401e+42\",\"\\u003cbr\\u003eEmitted Luminosity: 1.061e+43\\u003cbr\\u003eRequested Luminosity: 1.059e+43\\u003cbr\\u003eAbsorbed Luminosity: 3.401e+42\",\"\\u003cbr\\u003eEmitted Luminosity: 1.061e+43\\u003cbr\\u003eRequested Luminosity: 1.059e+43\\u003cbr\\u003eAbsorbed Luminosity: 3.401e+42\",\"\\u003cbr\\u003eEmitted Luminosity: 1.061e+43\\u003cbr\\u003eRequested Luminosity: 1.059e+43\\u003cbr\\u003eAbsorbed Luminosity: 3.401e+42\",\"\\u003cbr\\u003eEmitted Luminosity: 1.061e+43\\u003cbr\\u003eRequested Luminosity: 1.059e+43\\u003cbr\\u003eAbsorbed Luminosity: 3.401e+42\",\"\\u003cbr\\u003eEmitted Luminosity: 1.061e+43\\u003cbr\\u003eRequested Luminosity: 1.059e+43\\u003cbr\\u003eAbsorbed Luminosity: 3.401e+42\",\"\\u003cbr\\u003eEmitted Luminosity: 1.061e+43\\u003cbr\\u003eRequested Luminosity: 1.059e+43\\u003cbr\\u003eAbsorbed Luminosity: 3.401e+42\",\"\\u003cbr\\u003eEmitted Luminosity: 1.061e+43\\u003cbr\\u003eRequested Luminosity: 1.059e+43\\u003cbr\\u003eAbsorbed Luminosity: 3.401e+42\",\"\\u003cbr\\u003eEmitted Luminosity: 1.061e+43\\u003cbr\\u003eRequested Luminosity: 1.059e+43\\u003cbr\\u003eAbsorbed Luminosity: 3.401e+42\",\"\\u003cbr\\u003eEmitted Luminosity: 1.061e+43\\u003cbr\\u003eRequested Luminosity: 1.059e+43\\u003cbr\\u003eAbsorbed Luminosity: 3.401e+42\",\"\\u003cbr\\u003eEmitted Luminosity: 1.061e+43\\u003cbr\\u003eRequested Luminosity: 1.059e+43\\u003cbr\\u003eAbsorbed Luminosity: 3.401e+42\",\"\\u003cbr\\u003eEmitted Luminosity: 1.061e+43\\u003cbr\\u003eRequested Luminosity: 1.059e+43\\u003cbr\\u003eAbsorbed Luminosity: 3.401e+42\",\"\\u003cbr\\u003eEmitted Luminosity: 1.061e+43\\u003cbr\\u003eRequested Luminosity: 1.059e+43\\u003cbr\\u003eAbsorbed Luminosity: 3.401e+42\",\"\\u003cbr\\u003eEmitted Luminosity: 1.061e+43\\u003cbr\\u003eRequested Luminosity: 1.059e+43\\u003cbr\\u003eAbsorbed Luminosity: 3.401e+42\",\"\\u003cbr\\u003eEmitted Luminosity: 1.061e+43\\u003cbr\\u003eRequested Luminosity: 1.059e+43\\u003cbr\\u003eAbsorbed Luminosity: 3.401e+42\",\"\\u003cbr\\u003eEmitted Luminosity: 1.061e+43\\u003cbr\\u003eRequested Luminosity: 1.059e+43\\u003cbr\\u003eAbsorbed Luminosity: 3.401e+42\",\"\\u003cbr\\u003eEmitted Luminosity: 1.061e+43\\u003cbr\\u003eRequested Luminosity: 1.059e+43\\u003cbr\\u003eAbsorbed Luminosity: 3.401e+42\"],\"hovertemplate\":\"\\u003cb\\u003eY\\u003c\\u002fb\\u003e: %{y:.3f} at \\u003cb\\u003eX\\u003c\\u002fb\\u003e = %{x:,.0f}%{customdata}\",\"legendgroup\":\"group-20\",\"line\":{\"color\":\"#800000\"},\"name\":\"20\",\"x\":[11000.0,11450.000000000002,11900.000000000002,12350.000000000002,12800.000000000002,13250.000000000002,13700.000000000002,14150.000000000002,14600.000000000002,15050.000000000002,15500.000000000002,15950.000000000002,16400.0,16850.0,17300.0,17750.0,18200.0,18650.0,19100.0,19550.0,20000.0],\"y\":[0.46583111018039597,0.3582139925384143,0.28478501426091246,0.2313174831039103,0.20190424227997184,0.17672917455281906,0.15768939682107744,0.14187895828275526,0.128161900493575,0.1190855055266552,0.11148042151768817,0.10454477954536032,0.09806677233974068,0.09312253593720113,0.08822151272172478,0.08534236121970994,0.08173657353178969,0.07726564181487501,0.07559528441614179,0.07395579146463582],\"type\":\"scatter\",\"uid\":\"785a51e3-7f6e-491e-960e-2c2d414eb1c8\",\"xaxis\":\"x2\",\"yaxis\":\"y2\"}],                        {\"template\":{\"data\":{\"barpolar\":[{\"marker\":{\"line\":{\"color\":\"#E5ECF6\",\"width\":0.5},\"pattern\":{\"fillmode\":\"overlay\",\"size\":10,\"solidity\":0.2}},\"type\":\"barpolar\"}],\"bar\":[{\"error_x\":{\"color\":\"#2a3f5f\"},\"error_y\":{\"color\":\"#2a3f5f\"},\"marker\":{\"line\":{\"color\":\"#E5ECF6\",\"width\":0.5},\"pattern\":{\"fillmode\":\"overlay\",\"size\":10,\"solidity\":0.2}},\"type\":\"bar\"}],\"carpet\":[{\"aaxis\":{\"endlinecolor\":\"#2a3f5f\",\"gridcolor\":\"white\",\"linecolor\":\"white\",\"minorgridcolor\":\"white\",\"startlinecolor\":\"#2a3f5f\"},\"baxis\":{\"endlinecolor\":\"#2a3f5f\",\"gridcolor\":\"white\",\"linecolor\":\"white\",\"minorgridcolor\":\"white\",\"startlinecolor\":\"#2a3f5f\"},\"type\":\"carpet\"}],\"choropleth\":[{\"colorbar\":{\"outlinewidth\":0,\"ticks\":\"\"},\"type\":\"choropleth\"}],\"contourcarpet\":[{\"colorbar\":{\"outlinewidth\":0,\"ticks\":\"\"},\"type\":\"contourcarpet\"}],\"contour\":[{\"colorbar\":{\"outlinewidth\":0,\"ticks\":\"\"},\"colorscale\":[[0.0,\"#0d0887\"],[0.1111111111111111,\"#46039f\"],[0.2222222222222222,\"#7201a8\"],[0.3333333333333333,\"#9c179e\"],[0.4444444444444444,\"#bd3786\"],[0.5555555555555556,\"#d8576b\"],[0.6666666666666666,\"#ed7953\"],[0.7777777777777778,\"#fb9f3a\"],[0.8888888888888888,\"#fdca26\"],[1.0,\"#f0f921\"]],\"type\":\"contour\"}],\"heatmapgl\":[{\"colorbar\":{\"outlinewidth\":0,\"ticks\":\"\"},\"colorscale\":[[0.0,\"#0d0887\"],[0.1111111111111111,\"#46039f\"],[0.2222222222222222,\"#7201a8\"],[0.3333333333333333,\"#9c179e\"],[0.4444444444444444,\"#bd3786\"],[0.5555555555555556,\"#d8576b\"],[0.6666666666666666,\"#ed7953\"],[0.7777777777777778,\"#fb9f3a\"],[0.8888888888888888,\"#fdca26\"],[1.0,\"#f0f921\"]],\"type\":\"heatmapgl\"}],\"heatmap\":[{\"colorbar\":{\"outlinewidth\":0,\"ticks\":\"\"},\"colorscale\":[[0.0,\"#0d0887\"],[0.1111111111111111,\"#46039f\"],[0.2222222222222222,\"#7201a8\"],[0.3333333333333333,\"#9c179e\"],[0.4444444444444444,\"#bd3786\"],[0.5555555555555556,\"#d8576b\"],[0.6666666666666666,\"#ed7953\"],[0.7777777777777778,\"#fb9f3a\"],[0.8888888888888888,\"#fdca26\"],[1.0,\"#f0f921\"]],\"type\":\"heatmap\"}],\"histogram2dcontour\":[{\"colorbar\":{\"outlinewidth\":0,\"ticks\":\"\"},\"colorscale\":[[0.0,\"#0d0887\"],[0.1111111111111111,\"#46039f\"],[0.2222222222222222,\"#7201a8\"],[0.3333333333333333,\"#9c179e\"],[0.4444444444444444,\"#bd3786\"],[0.5555555555555556,\"#d8576b\"],[0.6666666666666666,\"#ed7953\"],[0.7777777777777778,\"#fb9f3a\"],[0.8888888888888888,\"#fdca26\"],[1.0,\"#f0f921\"]],\"type\":\"histogram2dcontour\"}],\"histogram2d\":[{\"colorbar\":{\"outlinewidth\":0,\"ticks\":\"\"},\"colorscale\":[[0.0,\"#0d0887\"],[0.1111111111111111,\"#46039f\"],[0.2222222222222222,\"#7201a8\"],[0.3333333333333333,\"#9c179e\"],[0.4444444444444444,\"#bd3786\"],[0.5555555555555556,\"#d8576b\"],[0.6666666666666666,\"#ed7953\"],[0.7777777777777778,\"#fb9f3a\"],[0.8888888888888888,\"#fdca26\"],[1.0,\"#f0f921\"]],\"type\":\"histogram2d\"}],\"histogram\":[{\"marker\":{\"pattern\":{\"fillmode\":\"overlay\",\"size\":10,\"solidity\":0.2}},\"type\":\"histogram\"}],\"mesh3d\":[{\"colorbar\":{\"outlinewidth\":0,\"ticks\":\"\"},\"type\":\"mesh3d\"}],\"parcoords\":[{\"line\":{\"colorbar\":{\"outlinewidth\":0,\"ticks\":\"\"}},\"type\":\"parcoords\"}],\"pie\":[{\"automargin\":true,\"type\":\"pie\"}],\"scatter3d\":[{\"line\":{\"colorbar\":{\"outlinewidth\":0,\"ticks\":\"\"}},\"marker\":{\"colorbar\":{\"outlinewidth\":0,\"ticks\":\"\"}},\"type\":\"scatter3d\"}],\"scattercarpet\":[{\"marker\":{\"colorbar\":{\"outlinewidth\":0,\"ticks\":\"\"}},\"type\":\"scattercarpet\"}],\"scattergeo\":[{\"marker\":{\"colorbar\":{\"outlinewidth\":0,\"ticks\":\"\"}},\"type\":\"scattergeo\"}],\"scattergl\":[{\"marker\":{\"colorbar\":{\"outlinewidth\":0,\"ticks\":\"\"}},\"type\":\"scattergl\"}],\"scattermapbox\":[{\"marker\":{\"colorbar\":{\"outlinewidth\":0,\"ticks\":\"\"}},\"type\":\"scattermapbox\"}],\"scatterpolargl\":[{\"marker\":{\"colorbar\":{\"outlinewidth\":0,\"ticks\":\"\"}},\"type\":\"scatterpolargl\"}],\"scatterpolar\":[{\"marker\":{\"colorbar\":{\"outlinewidth\":0,\"ticks\":\"\"}},\"type\":\"scatterpolar\"}],\"scatter\":[{\"fillpattern\":{\"fillmode\":\"overlay\",\"size\":10,\"solidity\":0.2},\"type\":\"scatter\"}],\"scatterternary\":[{\"marker\":{\"colorbar\":{\"outlinewidth\":0,\"ticks\":\"\"}},\"type\":\"scatterternary\"}],\"surface\":[{\"colorbar\":{\"outlinewidth\":0,\"ticks\":\"\"},\"colorscale\":[[0.0,\"#0d0887\"],[0.1111111111111111,\"#46039f\"],[0.2222222222222222,\"#7201a8\"],[0.3333333333333333,\"#9c179e\"],[0.4444444444444444,\"#bd3786\"],[0.5555555555555556,\"#d8576b\"],[0.6666666666666666,\"#ed7953\"],[0.7777777777777778,\"#fb9f3a\"],[0.8888888888888888,\"#fdca26\"],[1.0,\"#f0f921\"]],\"type\":\"surface\"}],\"table\":[{\"cells\":{\"fill\":{\"color\":\"#EBF0F8\"},\"line\":{\"color\":\"white\"}},\"header\":{\"fill\":{\"color\":\"#C8D4E3\"},\"line\":{\"color\":\"white\"}},\"type\":\"table\"}]},\"layout\":{\"annotationdefaults\":{\"arrowcolor\":\"#2a3f5f\",\"arrowhead\":0,\"arrowwidth\":1},\"autotypenumbers\":\"strict\",\"coloraxis\":{\"colorbar\":{\"outlinewidth\":0,\"ticks\":\"\"}},\"colorscale\":{\"diverging\":[[0,\"#8e0152\"],[0.1,\"#c51b7d\"],[0.2,\"#de77ae\"],[0.3,\"#f1b6da\"],[0.4,\"#fde0ef\"],[0.5,\"#f7f7f7\"],[0.6,\"#e6f5d0\"],[0.7,\"#b8e186\"],[0.8,\"#7fbc41\"],[0.9,\"#4d9221\"],[1,\"#276419\"]],\"sequential\":[[0.0,\"#0d0887\"],[0.1111111111111111,\"#46039f\"],[0.2222222222222222,\"#7201a8\"],[0.3333333333333333,\"#9c179e\"],[0.4444444444444444,\"#bd3786\"],[0.5555555555555556,\"#d8576b\"],[0.6666666666666666,\"#ed7953\"],[0.7777777777777778,\"#fb9f3a\"],[0.8888888888888888,\"#fdca26\"],[1.0,\"#f0f921\"]],\"sequentialminus\":[[0.0,\"#0d0887\"],[0.1111111111111111,\"#46039f\"],[0.2222222222222222,\"#7201a8\"],[0.3333333333333333,\"#9c179e\"],[0.4444444444444444,\"#bd3786\"],[0.5555555555555556,\"#d8576b\"],[0.6666666666666666,\"#ed7953\"],[0.7777777777777778,\"#fb9f3a\"],[0.8888888888888888,\"#fdca26\"],[1.0,\"#f0f921\"]]},\"colorway\":[\"#636efa\",\"#EF553B\",\"#00cc96\",\"#ab63fa\",\"#FFA15A\",\"#19d3f3\",\"#FF6692\",\"#B6E880\",\"#FF97FF\",\"#FECB52\"],\"font\":{\"color\":\"#2a3f5f\"},\"geo\":{\"bgcolor\":\"white\",\"lakecolor\":\"white\",\"landcolor\":\"#E5ECF6\",\"showlakes\":true,\"showland\":true,\"subunitcolor\":\"white\"},\"hoverlabel\":{\"align\":\"left\"},\"hovermode\":\"closest\",\"mapbox\":{\"style\":\"light\"},\"paper_bgcolor\":\"white\",\"plot_bgcolor\":\"#E5ECF6\",\"polar\":{\"angularaxis\":{\"gridcolor\":\"white\",\"linecolor\":\"white\",\"ticks\":\"\"},\"bgcolor\":\"#E5ECF6\",\"radialaxis\":{\"gridcolor\":\"white\",\"linecolor\":\"white\",\"ticks\":\"\"}},\"scene\":{\"xaxis\":{\"backgroundcolor\":\"#E5ECF6\",\"gridcolor\":\"white\",\"gridwidth\":2,\"linecolor\":\"white\",\"showbackground\":true,\"ticks\":\"\",\"zerolinecolor\":\"white\"},\"yaxis\":{\"backgroundcolor\":\"#E5ECF6\",\"gridcolor\":\"white\",\"gridwidth\":2,\"linecolor\":\"white\",\"showbackground\":true,\"ticks\":\"\",\"zerolinecolor\":\"white\"},\"zaxis\":{\"backgroundcolor\":\"#E5ECF6\",\"gridcolor\":\"white\",\"gridwidth\":2,\"linecolor\":\"white\",\"showbackground\":true,\"ticks\":\"\",\"zerolinecolor\":\"white\"}},\"shapedefaults\":{\"line\":{\"color\":\"#2a3f5f\"}},\"ternary\":{\"aaxis\":{\"gridcolor\":\"white\",\"linecolor\":\"white\",\"ticks\":\"\"},\"baxis\":{\"gridcolor\":\"white\",\"linecolor\":\"white\",\"ticks\":\"\"},\"bgcolor\":\"#E5ECF6\",\"caxis\":{\"gridcolor\":\"white\",\"linecolor\":\"white\",\"ticks\":\"\"}},\"title\":{\"x\":0.05},\"xaxis\":{\"automargin\":true,\"gridcolor\":\"white\",\"linecolor\":\"white\",\"ticks\":\"\",\"title\":{\"standoff\":15},\"zerolinecolor\":\"white\",\"zerolinewidth\":2},\"yaxis\":{\"automargin\":true,\"gridcolor\":\"white\",\"linecolor\":\"white\",\"ticks\":\"\",\"title\":{\"standoff\":15},\"zerolinecolor\":\"white\",\"zerolinewidth\":2}}},\"xaxis\":{\"anchor\":\"y\",\"domain\":[0.0,0.45],\"tickformat\":\"g\",\"title\":{\"text\":\"$\\\\text{Velocity}~[\\\\text{km}~\\\\text{s}^{-1}]$\"}},\"yaxis\":{\"anchor\":\"x\",\"domain\":[0.0,1.0],\"tickformat\":\"g\",\"title\":{\"text\":\"$T_{\\\\text{rad}}\\\\ [\\\\text{K}]$\"},\"nticks\":15},\"xaxis2\":{\"anchor\":\"y2\",\"domain\":[0.55,1.0],\"tickformat\":\"g\",\"title\":{\"text\":\"$\\\\text{Velocity}~[\\\\text{km}~\\\\text{s}^{-1}]$\"},\"matches\":\"x\"},\"yaxis2\":{\"anchor\":\"x2\",\"domain\":[0.0,1.0],\"tickformat\":\"g\",\"title\":{\"text\":\"$W$\"},\"nticks\":15},\"legend\":{\"title\":{\"text\":\"Iterations\"},\"traceorder\":\"reversed\"},\"margin\":{\"l\":10,\"r\":135,\"b\":25,\"t\":25,\"pad\":0},\"height\":450},                        {\"responsive\": true}                    ).then(function(){\n",
       "                            \n",
       "var gd = document.getElementById('e4aa1d32-9977-4b79-8a62-a84e823cf8d2');\n",
       "var x = new MutationObserver(function (mutations, observer) {{\n",
       "        var display = window.getComputedStyle(gd).display;\n",
       "        if (!display || display === 'none') {{\n",
       "            console.log([gd, 'removed!']);\n",
       "            Plotly.purge(gd);\n",
       "            observer.disconnect();\n",
       "        }}\n",
       "}});\n",
       "\n",
       "// Listen for the removal of the full notebook cells\n",
       "var notebookContainer = gd.closest('#notebook-container');\n",
       "if (notebookContainer) {{\n",
       "    x.observe(notebookContainer, {childList: true});\n",
       "}}\n",
       "\n",
       "// Listen for the clearing of the current output cell\n",
       "var outputEl = gd.closest('.output');\n",
       "if (outputEl) {{\n",
       "    x.observe(outputEl, {childList: true});\n",
       "}}\n",
       "\n",
       "                        })                };                });            </script>        </div>"
      ]
     },
     "metadata": {},
     "output_type": "display_data"
    },
    {
     "data": {
      "text/html": [
       "        <script type=\"text/javascript\">\n",
       "        window.PlotlyConfig = {MathJaxConfig: 'local'};\n",
       "        if (window.MathJax && window.MathJax.Hub && window.MathJax.Hub.Config) {window.MathJax.Hub.Config({SVG: {font: \"STIX-Web\"}});}\n",
       "        if (typeof require !== 'undefined') {\n",
       "        require.undef(\"plotly\");\n",
       "        requirejs.config({\n",
       "            paths: {\n",
       "                'plotly': ['https://cdn.plot.ly/plotly-2.26.0.min']\n",
       "            }\n",
       "        });\n",
       "        require(['plotly'], function(Plotly) {\n",
       "            window._Plotly = Plotly;\n",
       "        });\n",
       "        }\n",
       "        </script>\n",
       "        "
      ]
     },
     "metadata": {},
     "output_type": "display_data"
    },
    {
     "data": {
      "text/html": [
       "<div>                            <div id=\"acbd3159-8f04-4486-8e13-105befe8a307\" class=\"plotly-graph-div\" style=\"height:630px; width:100%;\"></div>            <script type=\"text/javascript\">                require([\"plotly\"], function(Plotly) {                    window.PLOTLYENV=window.PLOTLYENV || {};                                    if (document.getElementById(\"acbd3159-8f04-4486-8e13-105befe8a307\")) {                    Plotly.newPlot(                        \"acbd3159-8f04-4486-8e13-105befe8a307\",                        [{\"hovertext\":\"text\",\"mode\":\"lines\",\"name\":\"Inner\\u003cbr\\u003eBoundary\\u003cbr\\u003eTemperature\",\"type\":\"scatter\",\"uid\":\"4afadd37-e2a3-4417-862d-f20dfb7a0ba2\",\"xaxis\":\"x\",\"yaxis\":\"y\",\"hovertemplate\":\"\\u003cb\\u003e%{y:.3f}\\u003c\\u002fb\\u003e at X = %{x:,.0f}\\u003cextra\\u003eInner Boundary Temperature\\u003c\\u002fextra\\u003e\",\"x\":[1,2,3,4,5,6,7,8,9,10,11,12,13,14,15,16,17,18,19,20],\"y\":[9933.951995919648,10703.211562447634,10673.712103950229,10635.953012264103,10638.406528787642,10650.201962611298,10645.95454082613,10642.04961796253,10636.106123909483,10654.31259431484,10628.189659689318,10644.054374108993,10653.54269139781,10647.276919625972,10638.87534105547,10655.125193812079,10655.561156746548,10636.535622736508,10641.692058887511,10650.463255552866]},{\"mode\":\"lines\",\"name\":\"Emitted\\u003cbr\\u003eLuminosity\",\"type\":\"scatter\",\"uid\":\"8971b40e-32a0-4e0e-a55f-6c2b71821f73\",\"xaxis\":\"x2\",\"yaxis\":\"y2\",\"hovertemplate\":\"\\u003cb\\u003e%{y:.4g}\\u003c\\u002fb\\u003e\\u003cbr\\u003eat X = %{x}\\u003cbr\\u003e\",\"x\":[1,2,3,4,5,6,7,8,9,10,11,12,13,14,15,16,17,18,19,20],\"y\":[7.942174905696267e+42,1.0710516521227739e+43,1.0744260405874071e+43,1.0582996138956517e+43,1.0545940091389172e+43,1.060968189081378e+43,1.0608322361716153e+43,1.0616467173295769e+43,1.052060524420097e+43,1.0697420878056723e+43,1.0529798362493597e+43,1.0555093978476345e+43,1.0617727732280977e+43,1.0626277159309161e+43,1.0528341253683682e+43,1.0591030160376093e+43,1.0668824405640344e+43,1.0572252563736075e+43,1.0557926284979163e+43,1.0607832431335064e+43]},{\"mode\":\"lines\",\"name\":\"Absorbed\\u003cbr\\u003eLuminosity\",\"type\":\"scatter\",\"uid\":\"da41f251-084c-470d-b877-fa9916b79e59\",\"xaxis\":\"x2\",\"yaxis\":\"y2\",\"hovertemplate\":\"\\u003cb\\u003e%{y:.4g}\\u003c\\u002fb\\u003e\\u003cbr\\u003eat X = %{x}\\u003cbr\\u003e\",\"x\":[1,2,3,4,5,6,7,8,9,10,11,12,13,14,15,16,17,18,19,20],\"y\":[2.6585269987626497e+42,3.576326047169808e+42,3.3912529572932093e+42,3.3519608558101786e+42,3.398859738953768e+42,3.3980646035316296e+42,3.3821489572343444e+42,3.3498688262368987e+42,3.4108734276225117e+42,3.334917848359598e+42,3.3632150485765716e+42,3.419737826805039e+42,3.405731111404793e+42,3.369133178901458e+42,3.4172125003013435e+42,3.444523523897805e+42,3.3718082270716794e+42,3.36546535011372e+42,3.404877352961911e+42,3.400790766942523e+42]},{\"mode\":\"lines\",\"name\":\"Requested\\u003cbr\\u003eLuminosity\",\"type\":\"scatter\",\"uid\":\"346b9145-86a1-45c8-baea-2f5675c6d236\",\"xaxis\":\"x2\",\"yaxis\":\"y2\",\"hovertemplate\":\"\\u003cb\\u003e%{y:.4g}\\u003c\\u002fb\\u003e\\u003cbr\\u003eat X = %{x}\\u003cbr\\u003e\",\"x\":[1,2,3,4,5,6,7,8,9,10,11,12,13,14,15,16,17,18,19,20],\"y\":[1.0592763593038458e+43,1.0592763593038458e+43,1.0592763593038458e+43,1.0592763593038458e+43,1.0592763593038458e+43,1.0592763593038458e+43,1.0592763593038458e+43,1.0592763593038458e+43,1.0592763593038458e+43,1.0592763593038458e+43,1.0592763593038458e+43,1.0592763593038458e+43,1.0592763593038458e+43,1.0592763593038458e+43,1.0592763593038458e+43,1.0592763593038458e+43,1.0592763593038458e+43,1.0592763593038458e+43,1.0592763593038458e+43,1.0592763593038458e+43]},{\"mode\":\"lines\",\"name\":\"Residual\\u003cbr\\u003eLuminosity\",\"type\":\"scatter\",\"uid\":\"3267eee9-28ca-45c3-bf90-e69e3a1f684b\",\"xaxis\":\"x3\",\"yaxis\":\"y3\",\"hovertemplate\":\"\\u003cb\\u003e%{y:.2f}%\\u003c\\u002fb\\u003e at X = %{x:,.0f}\",\"x\":[1,2,3,4,5,6,7,8,9,10,11,12,13,14,15,16,17,18,19,20],\"y\":[-25.022636104936318,1.111635572294546,1.430191578477002,-0.09220874228099986,-0.44203291462161726,0.15971561742812385,0.1468811093633805,0.22377144594154377,-0.68120418438216,0.9880073703055747,-0.5944174057300885,-0.3556164945177216,0.23567163586021564,0.31638170696765233,-0.6081731059976979,-0.016364309909683235,0.7180450307781178,-0.1936324654301012,-0.328878368268214,0.14225596714449185]}],                        {\"template\":{\"data\":{\"barpolar\":[{\"marker\":{\"line\":{\"color\":\"#E5ECF6\",\"width\":0.5},\"pattern\":{\"fillmode\":\"overlay\",\"size\":10,\"solidity\":0.2}},\"type\":\"barpolar\"}],\"bar\":[{\"error_x\":{\"color\":\"#2a3f5f\"},\"error_y\":{\"color\":\"#2a3f5f\"},\"marker\":{\"line\":{\"color\":\"#E5ECF6\",\"width\":0.5},\"pattern\":{\"fillmode\":\"overlay\",\"size\":10,\"solidity\":0.2}},\"type\":\"bar\"}],\"carpet\":[{\"aaxis\":{\"endlinecolor\":\"#2a3f5f\",\"gridcolor\":\"white\",\"linecolor\":\"white\",\"minorgridcolor\":\"white\",\"startlinecolor\":\"#2a3f5f\"},\"baxis\":{\"endlinecolor\":\"#2a3f5f\",\"gridcolor\":\"white\",\"linecolor\":\"white\",\"minorgridcolor\":\"white\",\"startlinecolor\":\"#2a3f5f\"},\"type\":\"carpet\"}],\"choropleth\":[{\"colorbar\":{\"outlinewidth\":0,\"ticks\":\"\"},\"type\":\"choropleth\"}],\"contourcarpet\":[{\"colorbar\":{\"outlinewidth\":0,\"ticks\":\"\"},\"type\":\"contourcarpet\"}],\"contour\":[{\"colorbar\":{\"outlinewidth\":0,\"ticks\":\"\"},\"colorscale\":[[0.0,\"#0d0887\"],[0.1111111111111111,\"#46039f\"],[0.2222222222222222,\"#7201a8\"],[0.3333333333333333,\"#9c179e\"],[0.4444444444444444,\"#bd3786\"],[0.5555555555555556,\"#d8576b\"],[0.6666666666666666,\"#ed7953\"],[0.7777777777777778,\"#fb9f3a\"],[0.8888888888888888,\"#fdca26\"],[1.0,\"#f0f921\"]],\"type\":\"contour\"}],\"heatmapgl\":[{\"colorbar\":{\"outlinewidth\":0,\"ticks\":\"\"},\"colorscale\":[[0.0,\"#0d0887\"],[0.1111111111111111,\"#46039f\"],[0.2222222222222222,\"#7201a8\"],[0.3333333333333333,\"#9c179e\"],[0.4444444444444444,\"#bd3786\"],[0.5555555555555556,\"#d8576b\"],[0.6666666666666666,\"#ed7953\"],[0.7777777777777778,\"#fb9f3a\"],[0.8888888888888888,\"#fdca26\"],[1.0,\"#f0f921\"]],\"type\":\"heatmapgl\"}],\"heatmap\":[{\"colorbar\":{\"outlinewidth\":0,\"ticks\":\"\"},\"colorscale\":[[0.0,\"#0d0887\"],[0.1111111111111111,\"#46039f\"],[0.2222222222222222,\"#7201a8\"],[0.3333333333333333,\"#9c179e\"],[0.4444444444444444,\"#bd3786\"],[0.5555555555555556,\"#d8576b\"],[0.6666666666666666,\"#ed7953\"],[0.7777777777777778,\"#fb9f3a\"],[0.8888888888888888,\"#fdca26\"],[1.0,\"#f0f921\"]],\"type\":\"heatmap\"}],\"histogram2dcontour\":[{\"colorbar\":{\"outlinewidth\":0,\"ticks\":\"\"},\"colorscale\":[[0.0,\"#0d0887\"],[0.1111111111111111,\"#46039f\"],[0.2222222222222222,\"#7201a8\"],[0.3333333333333333,\"#9c179e\"],[0.4444444444444444,\"#bd3786\"],[0.5555555555555556,\"#d8576b\"],[0.6666666666666666,\"#ed7953\"],[0.7777777777777778,\"#fb9f3a\"],[0.8888888888888888,\"#fdca26\"],[1.0,\"#f0f921\"]],\"type\":\"histogram2dcontour\"}],\"histogram2d\":[{\"colorbar\":{\"outlinewidth\":0,\"ticks\":\"\"},\"colorscale\":[[0.0,\"#0d0887\"],[0.1111111111111111,\"#46039f\"],[0.2222222222222222,\"#7201a8\"],[0.3333333333333333,\"#9c179e\"],[0.4444444444444444,\"#bd3786\"],[0.5555555555555556,\"#d8576b\"],[0.6666666666666666,\"#ed7953\"],[0.7777777777777778,\"#fb9f3a\"],[0.8888888888888888,\"#fdca26\"],[1.0,\"#f0f921\"]],\"type\":\"histogram2d\"}],\"histogram\":[{\"marker\":{\"pattern\":{\"fillmode\":\"overlay\",\"size\":10,\"solidity\":0.2}},\"type\":\"histogram\"}],\"mesh3d\":[{\"colorbar\":{\"outlinewidth\":0,\"ticks\":\"\"},\"type\":\"mesh3d\"}],\"parcoords\":[{\"line\":{\"colorbar\":{\"outlinewidth\":0,\"ticks\":\"\"}},\"type\":\"parcoords\"}],\"pie\":[{\"automargin\":true,\"type\":\"pie\"}],\"scatter3d\":[{\"line\":{\"colorbar\":{\"outlinewidth\":0,\"ticks\":\"\"}},\"marker\":{\"colorbar\":{\"outlinewidth\":0,\"ticks\":\"\"}},\"type\":\"scatter3d\"}],\"scattercarpet\":[{\"marker\":{\"colorbar\":{\"outlinewidth\":0,\"ticks\":\"\"}},\"type\":\"scattercarpet\"}],\"scattergeo\":[{\"marker\":{\"colorbar\":{\"outlinewidth\":0,\"ticks\":\"\"}},\"type\":\"scattergeo\"}],\"scattergl\":[{\"marker\":{\"colorbar\":{\"outlinewidth\":0,\"ticks\":\"\"}},\"type\":\"scattergl\"}],\"scattermapbox\":[{\"marker\":{\"colorbar\":{\"outlinewidth\":0,\"ticks\":\"\"}},\"type\":\"scattermapbox\"}],\"scatterpolargl\":[{\"marker\":{\"colorbar\":{\"outlinewidth\":0,\"ticks\":\"\"}},\"type\":\"scatterpolargl\"}],\"scatterpolar\":[{\"marker\":{\"colorbar\":{\"outlinewidth\":0,\"ticks\":\"\"}},\"type\":\"scatterpolar\"}],\"scatter\":[{\"fillpattern\":{\"fillmode\":\"overlay\",\"size\":10,\"solidity\":0.2},\"type\":\"scatter\"}],\"scatterternary\":[{\"marker\":{\"colorbar\":{\"outlinewidth\":0,\"ticks\":\"\"}},\"type\":\"scatterternary\"}],\"surface\":[{\"colorbar\":{\"outlinewidth\":0,\"ticks\":\"\"},\"colorscale\":[[0.0,\"#0d0887\"],[0.1111111111111111,\"#46039f\"],[0.2222222222222222,\"#7201a8\"],[0.3333333333333333,\"#9c179e\"],[0.4444444444444444,\"#bd3786\"],[0.5555555555555556,\"#d8576b\"],[0.6666666666666666,\"#ed7953\"],[0.7777777777777778,\"#fb9f3a\"],[0.8888888888888888,\"#fdca26\"],[1.0,\"#f0f921\"]],\"type\":\"surface\"}],\"table\":[{\"cells\":{\"fill\":{\"color\":\"#EBF0F8\"},\"line\":{\"color\":\"white\"}},\"header\":{\"fill\":{\"color\":\"#C8D4E3\"},\"line\":{\"color\":\"white\"}},\"type\":\"table\"}]},\"layout\":{\"annotationdefaults\":{\"arrowcolor\":\"#2a3f5f\",\"arrowhead\":0,\"arrowwidth\":1},\"autotypenumbers\":\"strict\",\"coloraxis\":{\"colorbar\":{\"outlinewidth\":0,\"ticks\":\"\"}},\"colorscale\":{\"diverging\":[[0,\"#8e0152\"],[0.1,\"#c51b7d\"],[0.2,\"#de77ae\"],[0.3,\"#f1b6da\"],[0.4,\"#fde0ef\"],[0.5,\"#f7f7f7\"],[0.6,\"#e6f5d0\"],[0.7,\"#b8e186\"],[0.8,\"#7fbc41\"],[0.9,\"#4d9221\"],[1,\"#276419\"]],\"sequential\":[[0.0,\"#0d0887\"],[0.1111111111111111,\"#46039f\"],[0.2222222222222222,\"#7201a8\"],[0.3333333333333333,\"#9c179e\"],[0.4444444444444444,\"#bd3786\"],[0.5555555555555556,\"#d8576b\"],[0.6666666666666666,\"#ed7953\"],[0.7777777777777778,\"#fb9f3a\"],[0.8888888888888888,\"#fdca26\"],[1.0,\"#f0f921\"]],\"sequentialminus\":[[0.0,\"#0d0887\"],[0.1111111111111111,\"#46039f\"],[0.2222222222222222,\"#7201a8\"],[0.3333333333333333,\"#9c179e\"],[0.4444444444444444,\"#bd3786\"],[0.5555555555555556,\"#d8576b\"],[0.6666666666666666,\"#ed7953\"],[0.7777777777777778,\"#fb9f3a\"],[0.8888888888888888,\"#fdca26\"],[1.0,\"#f0f921\"]]},\"colorway\":[\"#636efa\",\"#EF553B\",\"#00cc96\",\"#ab63fa\",\"#FFA15A\",\"#19d3f3\",\"#FF6692\",\"#B6E880\",\"#FF97FF\",\"#FECB52\"],\"font\":{\"color\":\"#2a3f5f\"},\"geo\":{\"bgcolor\":\"white\",\"lakecolor\":\"white\",\"landcolor\":\"#E5ECF6\",\"showlakes\":true,\"showland\":true,\"subunitcolor\":\"white\"},\"hoverlabel\":{\"align\":\"left\"},\"hovermode\":\"closest\",\"mapbox\":{\"style\":\"light\"},\"paper_bgcolor\":\"white\",\"plot_bgcolor\":\"#E5ECF6\",\"polar\":{\"angularaxis\":{\"gridcolor\":\"white\",\"linecolor\":\"white\",\"ticks\":\"\"},\"bgcolor\":\"#E5ECF6\",\"radialaxis\":{\"gridcolor\":\"white\",\"linecolor\":\"white\",\"ticks\":\"\"}},\"scene\":{\"xaxis\":{\"backgroundcolor\":\"#E5ECF6\",\"gridcolor\":\"white\",\"gridwidth\":2,\"linecolor\":\"white\",\"showbackground\":true,\"ticks\":\"\",\"zerolinecolor\":\"white\"},\"yaxis\":{\"backgroundcolor\":\"#E5ECF6\",\"gridcolor\":\"white\",\"gridwidth\":2,\"linecolor\":\"white\",\"showbackground\":true,\"ticks\":\"\",\"zerolinecolor\":\"white\"},\"zaxis\":{\"backgroundcolor\":\"#E5ECF6\",\"gridcolor\":\"white\",\"gridwidth\":2,\"linecolor\":\"white\",\"showbackground\":true,\"ticks\":\"\",\"zerolinecolor\":\"white\"}},\"shapedefaults\":{\"line\":{\"color\":\"#2a3f5f\"}},\"ternary\":{\"aaxis\":{\"gridcolor\":\"white\",\"linecolor\":\"white\",\"ticks\":\"\"},\"baxis\":{\"gridcolor\":\"white\",\"linecolor\":\"white\",\"ticks\":\"\"},\"bgcolor\":\"#E5ECF6\",\"caxis\":{\"gridcolor\":\"white\",\"linecolor\":\"white\",\"ticks\":\"\"}},\"title\":{\"x\":0.05},\"xaxis\":{\"automargin\":true,\"gridcolor\":\"white\",\"linecolor\":\"white\",\"ticks\":\"\",\"title\":{\"standoff\":15},\"zerolinecolor\":\"white\",\"zerolinewidth\":2},\"yaxis\":{\"automargin\":true,\"gridcolor\":\"white\",\"linecolor\":\"white\",\"ticks\":\"\",\"title\":{\"standoff\":15},\"zerolinecolor\":\"white\",\"zerolinewidth\":2}}},\"xaxis\":{\"anchor\":\"y\",\"domain\":[0.0,1.0],\"matches\":\"x3\",\"showticklabels\":false,\"range\":[0,21],\"dtick\":2},\"yaxis\":{\"anchor\":\"x\",\"domain\":[0.79,1.0],\"title\":{\"text\":\"$T_{\\\\text{inner}}\\\\ [\\\\text{K}]$\"},\"automargin\":true,\"tickformat\":\"g\",\"exponentformat\":\"e\",\"nticks\":4},\"xaxis2\":{\"anchor\":\"y2\",\"domain\":[0.0,1.0],\"matches\":\"x\",\"showticklabels\":false,\"range\":[0,21],\"dtick\":2},\"yaxis2\":{\"anchor\":\"x2\",\"domain\":[0.29,0.71],\"title\":{\"text\":\"$\\\\text{Luminosity}~[\\\\text{erg s}^{-1}]$\",\"font\":{\"size\":13}},\"exponentformat\":\"e\",\"automargin\":true,\"nticks\":7},\"xaxis3\":{\"anchor\":\"y3\",\"domain\":[0.0,1.0],\"title\":{\"text\":\"$\\\\mbox{Iteration Number}$\"},\"dtick\":2},\"yaxis3\":{\"anchor\":\"x3\",\"domain\":[0.0,0.21],\"title\":{\"text\":\"$~~\\\\text{Residual}\\\\\\\\\\\\text{Luminosity[%]}$\",\"font\":{\"size\":12}},\"automargin\":true,\"nticks\":4},\"hoverlabel\":{\"align\":\"right\"},\"margin\":{\"b\":25,\"t\":25,\"pad\":0},\"height\":630},                        {\"responsive\": true}                    ).then(function(){\n",
       "                            \n",
       "var gd = document.getElementById('acbd3159-8f04-4486-8e13-105befe8a307');\n",
       "var x = new MutationObserver(function (mutations, observer) {{\n",
       "        var display = window.getComputedStyle(gd).display;\n",
       "        if (!display || display === 'none') {{\n",
       "            console.log([gd, 'removed!']);\n",
       "            Plotly.purge(gd);\n",
       "            observer.disconnect();\n",
       "        }}\n",
       "}});\n",
       "\n",
       "// Listen for the removal of the full notebook cells\n",
       "var notebookContainer = gd.closest('#notebook-container');\n",
       "if (notebookContainer) {{\n",
       "    x.observe(notebookContainer, {childList: true});\n",
       "}}\n",
       "\n",
       "// Listen for the clearing of the current output cell\n",
       "var outputEl = gd.closest('.output');\n",
       "if (outputEl) {{\n",
       "    x.observe(outputEl, {childList: true});\n",
       "}}\n",
       "\n",
       "                        })                };                });            </script>        </div>"
      ]
     },
     "metadata": {},
     "output_type": "display_data"
    }
   ],
   "source": [
    "sim = run_tardis(\n",
    "    \"tardis_example.yml\",\n",
    "    virtual_packet_logging=True,\n",
    "    show_convergence_plots=True,\n",
    "    export_convergence_plots=True,\n",
    "    log_level=\"ERROR\",\n",
    ")"
   ]
  },
  {
   "cell_type": "code",
   "execution_count": 4,
   "metadata": {},
   "outputs": [
    {
     "data": {
      "text/plain": [
       "<Axes: xlabel='Wavelength $[\\\\mathrm{\\\\AA}]$', ylabel='$L_{\\\\lambda}$ [erg $\\\\mathrm{s^{-1}}$ $\\\\mathrm{\\\\AA^{-1}}$]'>"
      ]
     },
     "execution_count": 4,
     "metadata": {},
     "output_type": "execute_result"
    },
    {
     "data": {
      "image/png": "[encoded data removed]",
      "text/plain": [
       "<Figure size 1200x700 with 2 Axes>"
      ]
     },
     "metadata": {},
     "output_type": "display_data"
    }
   ],
   "source": [
    "SDECPlotter.from_simulation(sim).generate_plot_mpl()"
   ]
  },
  {
   "cell_type": "markdown",
   "metadata": {},
   "source": [
    "### 2. Abundance of Elements vs Shell Velocity\n"
   ]
  },
  {
   "cell_type": "code",
   "execution_count": 5,
   "metadata": {},
   "outputs": [
    {
     "name": "stdout",
     "output_type": "stream",
     "text": [
      "[11000. 11450. 11900. 12350. 12800. 13250. 13700. 14150. 14600. 15050.\n",
      " 15500. 15950. 16400. 16850. 17300. 17750. 18200. 18650. 19100. 19550.] km / s\n"
     ]
    }
   ],
   "source": [
    "# Get x-axis values: shell velocities\n",
    "shell_velocities = sim.simulation_state.v_inner.si.to(u.km / u.s)\n",
    "\n",
    "print(shell_velocities)"
   ]
  },
  {
   "cell_type": "code",
   "execution_count": 6,
   "metadata": {},
   "outputs": [
    {
     "data": {
      "text/html": [
       "<div>\n",
       "<style scoped>\n",
       "    .dataframe tbody tr th:only-of-type {\n",
       "        vertical-align: middle;\n",
       "    }\n",
       "\n",
       "    .dataframe tbody tr th {\n",
       "        vertical-align: top;\n",
       "    }\n",
       "\n",
       "    .dataframe thead th {\n",
       "        text-align: right;\n",
       "    }\n",
       "</style>\n",
       "<table border=\"1\" class=\"dataframe\">\n",
       "  <thead>\n",
       "    <tr style=\"text-align: right;\">\n",
       "      <th></th>\n",
       "      <th>0</th>\n",
       "      <th>1</th>\n",
       "      <th>2</th>\n",
       "      <th>3</th>\n",
       "      <th>4</th>\n",
       "      <th>5</th>\n",
       "      <th>6</th>\n",
       "      <th>7</th>\n",
       "      <th>8</th>\n",
       "      <th>9</th>\n",
       "      <th>10</th>\n",
       "      <th>11</th>\n",
       "      <th>12</th>\n",
       "      <th>13</th>\n",
       "      <th>14</th>\n",
       "      <th>15</th>\n",
       "      <th>16</th>\n",
       "      <th>17</th>\n",
       "      <th>18</th>\n",
       "      <th>19</th>\n",
       "    </tr>\n",
       "    <tr>\n",
       "      <th>atomic_number</th>\n",
       "      <th></th>\n",
       "      <th></th>\n",
       "      <th></th>\n",
       "      <th></th>\n",
       "      <th></th>\n",
       "      <th></th>\n",
       "      <th></th>\n",
       "      <th></th>\n",
       "      <th></th>\n",
       "      <th></th>\n",
       "      <th></th>\n",
       "      <th></th>\n",
       "      <th></th>\n",
       "      <th></th>\n",
       "      <th></th>\n",
       "      <th></th>\n",
       "      <th></th>\n",
       "      <th></th>\n",
       "      <th></th>\n",
       "      <th></th>\n",
       "    </tr>\n",
       "  </thead>\n",
       "  <tbody>\n",
       "    <tr>\n",
       "      <th>8</th>\n",
       "      <td>0.19</td>\n",
       "      <td>0.19</td>\n",
       "      <td>0.19</td>\n",
       "      <td>0.19</td>\n",
       "      <td>0.19</td>\n",
       "      <td>0.19</td>\n",
       "      <td>0.19</td>\n",
       "      <td>0.19</td>\n",
       "      <td>0.19</td>\n",
       "      <td>0.19</td>\n",
       "      <td>0.19</td>\n",
       "      <td>0.19</td>\n",
       "      <td>0.19</td>\n",
       "      <td>0.19</td>\n",
       "      <td>0.19</td>\n",
       "      <td>0.19</td>\n",
       "      <td>0.19</td>\n",
       "      <td>0.19</td>\n",
       "      <td>0.19</td>\n",
       "      <td>0.19</td>\n",
       "    </tr>\n",
       "    <tr>\n",
       "      <th>12</th>\n",
       "      <td>0.03</td>\n",
       "      <td>0.03</td>\n",
       "      <td>0.03</td>\n",
       "      <td>0.03</td>\n",
       "      <td>0.03</td>\n",
       "      <td>0.03</td>\n",
       "      <td>0.03</td>\n",
       "      <td>0.03</td>\n",
       "      <td>0.03</td>\n",
       "      <td>0.03</td>\n",
       "      <td>0.03</td>\n",
       "      <td>0.03</td>\n",
       "      <td>0.03</td>\n",
       "      <td>0.03</td>\n",
       "      <td>0.03</td>\n",
       "      <td>0.03</td>\n",
       "      <td>0.03</td>\n",
       "      <td>0.03</td>\n",
       "      <td>0.03</td>\n",
       "      <td>0.03</td>\n",
       "    </tr>\n",
       "    <tr>\n",
       "      <th>14</th>\n",
       "      <td>0.52</td>\n",
       "      <td>0.52</td>\n",
       "      <td>0.52</td>\n",
       "      <td>0.52</td>\n",
       "      <td>0.52</td>\n",
       "      <td>0.52</td>\n",
       "      <td>0.52</td>\n",
       "      <td>0.52</td>\n",
       "      <td>0.52</td>\n",
       "      <td>0.52</td>\n",
       "      <td>0.52</td>\n",
       "      <td>0.52</td>\n",
       "      <td>0.52</td>\n",
       "      <td>0.52</td>\n",
       "      <td>0.52</td>\n",
       "      <td>0.52</td>\n",
       "      <td>0.52</td>\n",
       "      <td>0.52</td>\n",
       "      <td>0.52</td>\n",
       "      <td>0.52</td>\n",
       "    </tr>\n",
       "    <tr>\n",
       "      <th>16</th>\n",
       "      <td>0.19</td>\n",
       "      <td>0.19</td>\n",
       "      <td>0.19</td>\n",
       "      <td>0.19</td>\n",
       "      <td>0.19</td>\n",
       "      <td>0.19</td>\n",
       "      <td>0.19</td>\n",
       "      <td>0.19</td>\n",
       "      <td>0.19</td>\n",
       "      <td>0.19</td>\n",
       "      <td>0.19</td>\n",
       "      <td>0.19</td>\n",
       "      <td>0.19</td>\n",
       "      <td>0.19</td>\n",
       "      <td>0.19</td>\n",
       "      <td>0.19</td>\n",
       "      <td>0.19</td>\n",
       "      <td>0.19</td>\n",
       "      <td>0.19</td>\n",
       "      <td>0.19</td>\n",
       "    </tr>\n",
       "    <tr>\n",
       "      <th>18</th>\n",
       "      <td>0.04</td>\n",
       "      <td>0.04</td>\n",
       "      <td>0.04</td>\n",
       "      <td>0.04</td>\n",
       "      <td>0.04</td>\n",
       "      <td>0.04</td>\n",
       "      <td>0.04</td>\n",
       "      <td>0.04</td>\n",
       "      <td>0.04</td>\n",
       "      <td>0.04</td>\n",
       "      <td>0.04</td>\n",
       "      <td>0.04</td>\n",
       "      <td>0.04</td>\n",
       "      <td>0.04</td>\n",
       "      <td>0.04</td>\n",
       "      <td>0.04</td>\n",
       "      <td>0.04</td>\n",
       "      <td>0.04</td>\n",
       "      <td>0.04</td>\n",
       "      <td>0.04</td>\n",
       "    </tr>\n",
       "    <tr>\n",
       "      <th>20</th>\n",
       "      <td>0.03</td>\n",
       "      <td>0.03</td>\n",
       "      <td>0.03</td>\n",
       "      <td>0.03</td>\n",
       "      <td>0.03</td>\n",
       "      <td>0.03</td>\n",
       "      <td>0.03</td>\n",
       "      <td>0.03</td>\n",
       "      <td>0.03</td>\n",
       "      <td>0.03</td>\n",
       "      <td>0.03</td>\n",
       "      <td>0.03</td>\n",
       "      <td>0.03</td>\n",
       "      <td>0.03</td>\n",
       "      <td>0.03</td>\n",
       "      <td>0.03</td>\n",
       "      <td>0.03</td>\n",
       "      <td>0.03</td>\n",
       "      <td>0.03</td>\n",
       "      <td>0.03</td>\n",
       "    </tr>\n",
       "  </tbody>\n",
       "</table>\n",
       "</div>"
      ],
      "text/plain": [
       "                 0     1     2     3     4     5     6     7     8     9   \\\n",
       "atomic_number                                                               \n",
       "8              0.19  0.19  0.19  0.19  0.19  0.19  0.19  0.19  0.19  0.19   \n",
       "12             0.03  0.03  0.03  0.03  0.03  0.03  0.03  0.03  0.03  0.03   \n",
       "14             0.52  0.52  0.52  0.52  0.52  0.52  0.52  0.52  0.52  0.52   \n",
       "16             0.19  0.19  0.19  0.19  0.19  0.19  0.19  0.19  0.19  0.19   \n",
       "18             0.04  0.04  0.04  0.04  0.04  0.04  0.04  0.04  0.04  0.04   \n",
       "20             0.03  0.03  0.03  0.03  0.03  0.03  0.03  0.03  0.03  0.03   \n",
       "\n",
       "                 10    11    12    13    14    15    16    17    18    19  \n",
       "atomic_number                                                              \n",
       "8              0.19  0.19  0.19  0.19  0.19  0.19  0.19  0.19  0.19  0.19  \n",
       "12             0.03  0.03  0.03  0.03  0.03  0.03  0.03  0.03  0.03  0.03  \n",
       "14             0.52  0.52  0.52  0.52  0.52  0.52  0.52  0.52  0.52  0.52  \n",
       "16             0.19  0.19  0.19  0.19  0.19  0.19  0.19  0.19  0.19  0.19  \n",
       "18             0.04  0.04  0.04  0.04  0.04  0.04  0.04  0.04  0.04  0.04  \n",
       "20             0.03  0.03  0.03  0.03  0.03  0.03  0.03  0.03  0.03  0.03  "
      ]
     },
     "execution_count": 6,
     "metadata": {},
     "output_type": "execute_result"
    }
   ],
   "source": [
    "# Get y-axis values: element abundances\n",
    "abundances = sim.plasma.abundance\n",
    "abundances"
   ]
  },
  {
   "cell_type": "code",
   "execution_count": 8,
   "metadata": {},
   "outputs": [
    {
     "data": {
      "image/png": "[encoded data removed]",
      "text/plain": [
       "<Figure size 1500x1000 with 1 Axes>"
      ]
     },
     "metadata": {},
     "output_type": "display_data"
    }
   ],
   "source": [
    "# Plot data in Matplotlib\n",
    "fig, axis = plt.subplots(figsize=(15, 10))\n",
    "\n",
    "ATOM_DATA = sim.plasma.atomic_data.atom_data\n",
    "\n",
    "for atomic_number in sim.plasma.selected_atoms:\n",
    "    axis.step(\n",
    "        shell_velocities,\n",
    "        abundances.loc[atomic_number],\n",
    "        marker=\".\",\n",
    "        linestyle=\"--\",\n",
    "        where=\"post\",\n",
    "        label=ATOM_DATA.symbol.loc[atomic_number],\n",
    "    )\n",
    "\n",
    "_ = axis.set(\n",
    "    title=\"Elemental Abundance vs Shell Velocity\",\n",
    "    xlabel=f\"Inner Velocity ({str(shell_velocities.unit)})\",\n",
    "    ylabel=\"Abundance (Log)\",\n",
    "    yscale=\"log\",\n",
    ")\n",
    "_ = axis.legend()"
   ]
  },
  {
   "cell_type": "code",
   "execution_count": 10,
   "metadata": {},
   "outputs": [
    {
     "data": {
      "application/vnd.plotly.v1+json": {
       "config": {
        "plotlyServerURL": "https://plot.ly"
       },
       "data": [
        {
         "line": {
          "dash": "dot",
          "shape": "hv"
         },
         "mode": "lines+markers",
         "name": "O",
         "type": "scatter",
         "x": [
          11000,
          11450,
          11900,
          12350,
          12800,
          13250,
          13700,
          14150,
          14600,
          15050,
          15500,
          15950,
          16400,
          16850,
          17300,
          17750,
          18200,
          18650,
          19100,
          19550
         ],
         "y": [
          0.19,
          0.19,
          0.19,
          0.19,
          0.19,
          0.19,
          0.19,
          0.19,
          0.19,
          0.19,
          0.19,
          0.19,
          0.19,
          0.19,
          0.19,
          0.19,
          0.19,
          0.19,
          0.19,
          0.19
         ]
        },
        {
         "line": {
          "dash": "dot",
          "shape": "hv"
         },
         "mode": "lines+markers",
         "name": "Mg",
         "type": "scatter",
         "x": [
          11000,
          11450,
          11900,
          12350,
          12800,
          13250,
          13700,
          14150,
          14600,
          15050,
          15500,
          15950,
          16400,
          16850,
          17300,
          17750,
          18200,
          18650,
          19100,
          19550
         ],
         "y": [
          0.03,
          0.03,
          0.03,
          0.03,
          0.03,
          0.03,
          0.03,
          0.03,
          0.03,
          0.03,
          0.03,
          0.03,
          0.03,
          0.03,
          0.03,
          0.03,
          0.03,
          0.03,
          0.03,
          0.03
         ]
        },
        {
         "line": {
          "dash": "dot",
          "shape": "hv"
         },
         "mode": "lines+markers",
         "name": "Si",
         "type": "scatter",
         "x": [
          11000,
          11450,
          11900,
          12350,
          12800,
          13250,
          13700,
          14150,
          14600,
          15050,
          15500,
          15950,
          16400,
          16850,
          17300,
          17750,
          18200,
          18650,
          19100,
          19550
         ],
         "y": [
          0.52,
          0.52,
          0.52,
          0.52,
          0.52,
          0.52,
          0.52,
          0.52,
          0.52,
          0.52,
          0.52,
          0.52,
          0.52,
          0.52,
          0.52,
          0.52,
          0.52,
          0.52,
          0.52,
          0.52
         ]
        },
        {
         "line": {
          "dash": "dot",
          "shape": "hv"
         },
         "mode": "lines+markers",
         "name": "S",
         "type": "scatter",
         "x": [
          11000,
          11450,
          11900,
          12350,
          12800,
          13250,
          13700,
          14150,
          14600,
          15050,
          15500,
          15950,
          16400,
          16850,
          17300,
          17750,
          18200,
          18650,
          19100,
          19550
         ],
         "y": [
          0.19,
          0.19,
          0.19,
          0.19,
          0.19,
          0.19,
          0.19,
          0.19,
          0.19,
          0.19,
          0.19,
          0.19,
          0.19,
          0.19,
          0.19,
          0.19,
          0.19,
          0.19,
          0.19,
          0.19
         ]
        },
        {
         "line": {
          "dash": "dot",
          "shape": "hv"
         },
         "mode": "lines+markers",
         "name": "Ar",
         "type": "scatter",
         "x": [
          11000,
          11450,
          11900,
          12350,
          12800,
          13250,
          13700,
          14150,
          14600,
          15050,
          15500,
          15950,
          16400,
          16850,
          17300,
          17750,
          18200,
          18650,
          19100,
          19550
         ],
         "y": [
          0.04,
          0.04,
          0.04,
          0.04,
          0.04,
          0.04,
          0.04,
          0.04,
          0.04,
          0.04,
          0.04,
          0.04,
          0.04,
          0.04,
          0.04,
          0.04,
          0.04,
          0.04,
          0.04,
          0.04
         ]
        },
        {
         "line": {
          "dash": "dot",
          "shape": "hv"
         },
         "mode": "lines+markers",
         "name": "Ca",
         "type": "scatter",
         "x": [
          11000,
          11450,
          11900,
          12350,
          12800,
          13250,
          13700,
          14150,
          14600,
          15050,
          15500,
          15950,
          16400,
          16850,
          17300,
          17750,
          18200,
          18650,
          19100,
          19550
         ],
         "y": [
          0.03,
          0.03,
          0.03,
          0.03,
          0.03,
          0.03,
          0.03,
          0.03,
          0.03,
          0.03,
          0.03,
          0.03,
          0.03,
          0.03,
          0.03,
          0.03,
          0.03,
          0.03,
          0.03,
          0.03
         ]
        }
       ],
       "layout": {
        "legend": {
         "title": {
          "text": "Ion"
         }
        },
        "template": {
         "data": {
          "bar": [
           {
            "error_x": {
             "color": "#2a3f5f"
            },
            "error_y": {
             "color": "#2a3f5f"
            },
            "marker": {
             "line": {
              "color": "#E5ECF6",
              "width": 0.5
             },
             "pattern": {
              "fillmode": "overlay",
              "size": 10,
              "solidity": 0.2
             }
            },
            "type": "bar"
           }
          ],
          "barpolar": [
           {
            "marker": {
             "line": {
              "color": "#E5ECF6",
              "width": 0.5
             },
             "pattern": {
              "fillmode": "overlay",
              "size": 10,
              "solidity": 0.2
             }
            },
            "type": "barpolar"
           }
          ],
          "carpet": [
           {
            "aaxis": {
             "endlinecolor": "#2a3f5f",
             "gridcolor": "white",
             "linecolor": "white",
             "minorgridcolor": "white",
             "startlinecolor": "#2a3f5f"
            },
            "baxis": {
             "endlinecolor": "#2a3f5f",
             "gridcolor": "white",
             "linecolor": "white",
             "minorgridcolor": "white",
             "startlinecolor": "#2a3f5f"
            },
            "type": "carpet"
           }
          ],
          "choropleth": [
           {
            "colorbar": {
             "outlinewidth": 0,
             "ticks": ""
            },
            "type": "choropleth"
           }
          ],
          "contour": [
           {
            "colorbar": {
             "outlinewidth": 0,
             "ticks": ""
            },
            "colorscale": [
             [
              0,
              "#0d0887"
             ],
             [
              0.1111111111111111,
              "#46039f"
             ],
             [
              0.2222222222222222,
              "#7201a8"
             ],
             [
              0.3333333333333333,
              "#9c179e"
             ],
             [
              0.4444444444444444,
              "#bd3786"
             ],
             [
              0.5555555555555556,
              "#d8576b"
             ],
             [
              0.6666666666666666,
              "#ed7953"
             ],
             [
              0.7777777777777778,
              "#fb9f3a"
             ],
             [
              0.8888888888888888,
              "#fdca26"
             ],
             [
              1,
              "#f0f921"
             ]
            ],
            "type": "contour"
           }
          ],
          "contourcarpet": [
           {
            "colorbar": {
             "outlinewidth": 0,
             "ticks": ""
            },
            "type": "contourcarpet"
           }
          ],
          "heatmap": [
           {
            "colorbar": {
             "outlinewidth": 0,
             "ticks": ""
            },
            "colorscale": [
             [
              0,
              "#0d0887"
             ],
             [
              0.1111111111111111,
              "#46039f"
             ],
             [
              0.2222222222222222,
              "#7201a8"
             ],
             [
              0.3333333333333333,
              "#9c179e"
             ],
             [
              0.4444444444444444,
              "#bd3786"
             ],
             [
              0.5555555555555556,
              "#d8576b"
             ],
             [
              0.6666666666666666,
              "#ed7953"
             ],
             [
              0.7777777777777778,
              "#fb9f3a"
             ],
             [
              0.8888888888888888,
              "#fdca26"
             ],
             [
              1,
              "#f0f921"
             ]
            ],
            "type": "heatmap"
           }
          ],
          "heatmapgl": [
           {
            "colorbar": {
             "outlinewidth": 0,
             "ticks": ""
            },
            "colorscale": [
             [
              0,
              "#0d0887"
             ],
             [
              0.1111111111111111,
              "#46039f"
             ],
             [
              0.2222222222222222,
              "#7201a8"
             ],
             [
              0.3333333333333333,
              "#9c179e"
             ],
             [
              0.4444444444444444,
              "#bd3786"
             ],
             [
              0.5555555555555556,
              "#d8576b"
             ],
             [
              0.6666666666666666,
              "#ed7953"
             ],
             [
              0.7777777777777778,
              "#fb9f3a"
             ],
             [
              0.8888888888888888,
              "#fdca26"
             ],
             [
              1,
              "#f0f921"
             ]
            ],
            "type": "heatmapgl"
           }
          ],
          "histogram": [
           {
            "marker": {
             "pattern": {
              "fillmode": "overlay",
              "size": 10,
              "solidity": 0.2
             }
            },
            "type": "histogram"
           }
          ],
          "histogram2d": [
           {
            "colorbar": {
             "outlinewidth": 0,
             "ticks": ""
            },
            "colorscale": [
             [
              0,
              "#0d0887"
             ],
             [
              0.1111111111111111,
              "#46039f"
             ],
             [
              0.2222222222222222,
              "#7201a8"
             ],
             [
              0.3333333333333333,
              "#9c179e"
             ],
             [
              0.4444444444444444,
              "#bd3786"
             ],
             [
              0.5555555555555556,
              "#d8576b"
             ],
             [
              0.6666666666666666,
              "#ed7953"
             ],
             [
              0.7777777777777778,
              "#fb9f3a"
             ],
             [
              0.8888888888888888,
              "#fdca26"
             ],
             [
              1,
              "#f0f921"
             ]
            ],
            "type": "histogram2d"
           }
          ],
          "histogram2dcontour": [
           {
            "colorbar": {
             "outlinewidth": 0,
             "ticks": ""
            },
            "colorscale": [
             [
              0,
              "#0d0887"
             ],
             [
              0.1111111111111111,
              "#46039f"
             ],
             [
              0.2222222222222222,
              "#7201a8"
             ],
             [
              0.3333333333333333,
              "#9c179e"
             ],
             [
              0.4444444444444444,
              "#bd3786"
             ],
             [
              0.5555555555555556,
              "#d8576b"
             ],
             [
              0.6666666666666666,
              "#ed7953"
             ],
             [
              0.7777777777777778,
              "#fb9f3a"
             ],
             [
              0.8888888888888888,
              "#fdca26"
             ],
             [
              1,
              "#f0f921"
             ]
            ],
            "type": "histogram2dcontour"
           }
          ],
          "mesh3d": [
           {
            "colorbar": {
             "outlinewidth": 0,
             "ticks": ""
            },
            "type": "mesh3d"
           }
          ],
          "parcoords": [
           {
            "line": {
             "colorbar": {
              "outlinewidth": 0,
              "ticks": ""
             }
            },
            "type": "parcoords"
           }
          ],
          "pie": [
           {
            "automargin": true,
            "type": "pie"
           }
          ],
          "scatter": [
           {
            "fillpattern": {
             "fillmode": "overlay",
             "size": 10,
             "solidity": 0.2
            },
            "type": "scatter"
           }
          ],
          "scatter3d": [
           {
            "line": {
             "colorbar": {
              "outlinewidth": 0,
              "ticks": ""
             }
            },
            "marker": {
             "colorbar": {
              "outlinewidth": 0,
              "ticks": ""
             }
            },
            "type": "scatter3d"
           }
          ],
          "scattercarpet": [
           {
            "marker": {
             "colorbar": {
              "outlinewidth": 0,
              "ticks": ""
             }
            },
            "type": "scattercarpet"
           }
          ],
          "scattergeo": [
           {
            "marker": {
             "colorbar": {
              "outlinewidth": 0,
              "ticks": ""
             }
            },
            "type": "scattergeo"
           }
          ],
          "scattergl": [
           {
            "marker": {
             "colorbar": {
              "outlinewidth": 0,
              "ticks": ""
             }
            },
            "type": "scattergl"
           }
          ],
          "scattermapbox": [
           {
            "marker": {
             "colorbar": {
              "outlinewidth": 0,
              "ticks": ""
             }
            },
            "type": "scattermapbox"
           }
          ],
          "scatterpolar": [
           {
            "marker": {
             "colorbar": {
              "outlinewidth": 0,
              "ticks": ""
             }
            },
            "type": "scatterpolar"
           }
          ],
          "scatterpolargl": [
           {
            "marker": {
             "colorbar": {
              "outlinewidth": 0,
              "ticks": ""
             }
            },
            "type": "scatterpolargl"
           }
          ],
          "scatterternary": [
           {
            "marker": {
             "colorbar": {
              "outlinewidth": 0,
              "ticks": ""
             }
            },
            "type": "scatterternary"
           }
          ],
          "surface": [
           {
            "colorbar": {
             "outlinewidth": 0,
             "ticks": ""
            },
            "colorscale": [
             [
              0,
              "#0d0887"
             ],
             [
              0.1111111111111111,
              "#46039f"
             ],
             [
              0.2222222222222222,
              "#7201a8"
             ],
             [
              0.3333333333333333,
              "#9c179e"
             ],
             [
              0.4444444444444444,
              "#bd3786"
             ],
             [
              0.5555555555555556,
              "#d8576b"
             ],
             [
              0.6666666666666666,
              "#ed7953"
             ],
             [
              0.7777777777777778,
              "#fb9f3a"
             ],
             [
              0.8888888888888888,
              "#fdca26"
             ],
             [
              1,
              "#f0f921"
             ]
            ],
            "type": "surface"
           }
          ],
          "table": [
           {
            "cells": {
             "fill": {
              "color": "#EBF0F8"
             },
             "line": {
              "color": "white"
             }
            },
            "header": {
             "fill": {
              "color": "#C8D4E3"
             },
             "line": {
              "color": "white"
             }
            },
            "type": "table"
           }
          ]
         },
         "layout": {
          "annotationdefaults": {
           "arrowcolor": "#2a3f5f",
           "arrowhead": 0,
           "arrowwidth": 1
          },
          "autotypenumbers": "strict",
          "coloraxis": {
           "colorbar": {
            "outlinewidth": 0,
            "ticks": ""
           }
          },
          "colorscale": {
           "diverging": [
            [
             0,
             "#8e0152"
            ],
            [
             0.1,
             "#c51b7d"
            ],
            [
             0.2,
             "#de77ae"
            ],
            [
             0.3,
             "#f1b6da"
            ],
            [
             0.4,
             "#fde0ef"
            ],
            [
             0.5,
             "#f7f7f7"
            ],
            [
             0.6,
             "#e6f5d0"
            ],
            [
             0.7,
             "#b8e186"
            ],
            [
             0.8,
             "#7fbc41"
            ],
            [
             0.9,
             "#4d9221"
            ],
            [
             1,
             "#276419"
            ]
           ],
           "sequential": [
            [
             0,
             "#0d0887"
            ],
            [
             0.1111111111111111,
             "#46039f"
            ],
            [
             0.2222222222222222,
             "#7201a8"
            ],
            [
             0.3333333333333333,
             "#9c179e"
            ],
            [
             0.4444444444444444,
             "#bd3786"
            ],
            [
             0.5555555555555556,
             "#d8576b"
            ],
            [
             0.6666666666666666,
             "#ed7953"
            ],
            [
             0.7777777777777778,
             "#fb9f3a"
            ],
            [
             0.8888888888888888,
             "#fdca26"
            ],
            [
             1,
             "#f0f921"
            ]
           ],
           "sequentialminus": [
            [
             0,
             "#0d0887"
            ],
            [
             0.1111111111111111,
             "#46039f"
            ],
            [
             0.2222222222222222,
             "#7201a8"
            ],
            [
             0.3333333333333333,
             "#9c179e"
            ],
            [
             0.4444444444444444,
             "#bd3786"
            ],
            [
             0.5555555555555556,
             "#d8576b"
            ],
            [
             0.6666666666666666,
             "#ed7953"
            ],
            [
             0.7777777777777778,
             "#fb9f3a"
            ],
            [
             0.8888888888888888,
             "#fdca26"
            ],
            [
             1,
             "#f0f921"
            ]
           ]
          },
          "colorway": [
           "#636efa",
           "#EF553B",
           "#00cc96",
           "#ab63fa",
           "#FFA15A",
           "#19d3f3",
           "#FF6692",
           "#B6E880",
           "#FF97FF",
           "#FECB52"
          ],
          "font": {
           "color": "#2a3f5f"
          },
          "geo": {
           "bgcolor": "white",
           "lakecolor": "white",
           "landcolor": "#E5ECF6",
           "showlakes": true,
           "showland": true,
           "subunitcolor": "white"
          },
          "hoverlabel": {
           "align": "left"
          },
          "hovermode": "closest",
          "mapbox": {
           "style": "light"
          },
          "paper_bgcolor": "white",
          "plot_bgcolor": "#E5ECF6",
          "polar": {
           "angularaxis": {
            "gridcolor": "white",
            "linecolor": "white",
            "ticks": ""
           },
           "bgcolor": "#E5ECF6",
           "radialaxis": {
            "gridcolor": "white",
            "linecolor": "white",
            "ticks": ""
           }
          },
          "scene": {
           "xaxis": {
            "backgroundcolor": "#E5ECF6",
            "gridcolor": "white",
            "gridwidth": 2,
            "linecolor": "white",
            "showbackground": true,
            "ticks": "",
            "zerolinecolor": "white"
           },
           "yaxis": {
            "backgroundcolor": "#E5ECF6",
            "gridcolor": "white",
            "gridwidth": 2,
            "linecolor": "white",
            "showbackground": true,
            "ticks": "",
            "zerolinecolor": "white"
           },
           "zaxis": {
            "backgroundcolor": "#E5ECF6",
            "gridcolor": "white",
            "gridwidth": 2,
            "linecolor": "white",
            "showbackground": true,
            "ticks": "",
            "zerolinecolor": "white"
           }
          },
          "shapedefaults": {
           "line": {
            "color": "#2a3f5f"
           }
          },
          "ternary": {
           "aaxis": {
            "gridcolor": "white",
            "linecolor": "white",
            "ticks": ""
           },
           "baxis": {
            "gridcolor": "white",
            "linecolor": "white",
            "ticks": ""
           },
           "bgcolor": "#E5ECF6",
           "caxis": {
            "gridcolor": "white",
            "linecolor": "white",
            "ticks": ""
           }
          },
          "title": {
           "x": 0.05
          },
          "xaxis": {
           "automargin": true,
           "gridcolor": "white",
           "linecolor": "white",
           "ticks": "",
           "title": {
            "standoff": 15
           },
           "zerolinecolor": "white",
           "zerolinewidth": 2
          },
          "yaxis": {
           "automargin": true,
           "gridcolor": "white",
           "linecolor": "white",
           "ticks": "",
           "title": {
            "standoff": 15
           },
           "zerolinecolor": "white",
           "zerolinewidth": 2
          }
         }
        },
        "title": {
         "text": "Elemental Abundance vs Shell Velocity"
        },
        "xaxis": {
         "title": {
          "text": "Inner Velocity (km / s)"
         }
        },
        "yaxis": {
         "title": {
          "text": "Abundance (Log)"
         },
         "type": "log"
        }
       }
      }
     },
     "metadata": {},
     "output_type": "display_data"
    }
   ],
   "source": [
    "# Plot data in Plotly\n",
    "\n",
    "fig = go.Figure()\n",
    "\n",
    "for atomic_number in sim.plasma.selected_atoms:\n",
    "    fig.add_trace(\n",
    "        go.Scatter(\n",
    "            x=shell_velocities,\n",
    "            y=abundances.loc[atomic_number],\n",
    "            mode=\"lines+markers\",\n",
    "            name=ATOM_DATA.symbol.loc[atomic_number],\n",
    "            line=dict(dash=\"dot\"),\n",
    "            line_shape=\"hv\",\n",
    "        )\n",
    "    )\n",
    "\n",
    "# Update layout for a common legend and titles\n",
    "fig.update_layout(\n",
    "    title=\"Elemental Abundance vs Shell Velocity\",\n",
    "    xaxis_title=f\"Inner Velocity ({str(shell_velocities.unit)})\",\n",
    "    yaxis_title=\"Abundance (Log)\",\n",
    "    legend_title=\"Ion\",\n",
    "    yaxis_type=\"log\",\n",
    ")\n",
    "\n",
    "fig.show()"
   ]
  },
  {
   "cell_type": "markdown",
   "metadata": {},
   "source": [
    "### 3. Number of interactions (escaped) for each element\n"
   ]
  },
  {
   "cell_type": "code",
   "execution_count": 11,
   "metadata": {},
   "outputs": [],
   "source": [
    "LINE_REFERENCE = sim.plasma.atomic_data.lines  # To look up line data by ID"
   ]
  },
  {
   "cell_type": "code",
   "execution_count": 12,
   "metadata": {},
   "outputs": [],
   "source": [
    "def interaction_count_by_ion(line_ids):\n",
    "    \"\"\"\n",
    "    Looks up the line_ids in the line reference table and counts the interactions grouping by (atomic_number, ion_number)\n",
    "    Returns a pd.Series with index containing ion name (Eg: \"Si II\") and corresponding interaction count.\n",
    "    \"\"\"\n",
    "    # Filter out non-escaped packets\n",
    "    line_ids = [line_id for line_id in line_ids if line_id != -1]\n",
    "\n",
    "    # Group by ion\n",
    "    num_lines_per_ion = (\n",
    "        LINE_REFERENCE.iloc[line_ids]\n",
    "        .groupby(level=[\"atomic_number\", \"ion_number\"])\n",
    "        .size()\n",
    "    )\n",
    "\n",
    "    # Create and return new Series\n",
    "    combined_idx = num_lines_per_ion.index.map(\n",
    "        lambda x: f\"{ATOM_DATA.symbol.loc[x[0]]} {int_to_roman(x[1]+1)}\"\n",
    "    )\n",
    "    combined_idx.name = \"Ion\"\n",
    "    return pd.Series(\n",
    "        num_lines_per_ion.values, index=combined_idx, name=\"interaction_count\"\n",
    "    )"
   ]
  },
  {
   "cell_type": "code",
   "execution_count": 13,
   "metadata": {},
   "outputs": [],
   "source": [
    "# Get line interaction IDs and compute counts by ion\n",
    "out_lines = sim.transport.transport_state.last_line_interaction_out_id\n",
    "virt_out_lines = (\n",
    "    sim.transport.transport_state.virt_packet_last_line_interaction_out_id\n",
    ")\n",
    "\n",
    "# Get count per ion\n",
    "out_line_count_by_ion = interaction_count_by_ion(out_lines)\n",
    "virt_out_line_count_by_ion = interaction_count_by_ion(virt_out_lines)"
   ]
  },
  {
   "cell_type": "code",
   "execution_count": 14,
   "metadata": {},
   "outputs": [
    {
     "data": {
      "text/plain": [
       "Ion\n",
       "O I          70\n",
       "O II         92\n",
       "O III       586\n",
       "Mg II      2835\n",
       "Si II      6055\n",
       "Si III    10229\n",
       "Si IV       137\n",
       "S I           2\n",
       "S II       4238\n",
       "S III      1556\n",
       "S IV         19\n",
       "Ar I          6\n",
       "Ar II      1468\n",
       "Ar III       13\n",
       "Ca II      1936\n",
       "Name: interaction_count, dtype: int64"
      ]
     },
     "execution_count": 14,
     "metadata": {},
     "output_type": "execute_result"
    }
   ],
   "source": [
    "# Print the data before plotting\n",
    "out_line_count_by_ion"
   ]
  },
  {
   "cell_type": "code",
   "execution_count": 15,
   "metadata": {},
   "outputs": [
    {
     "data": {
      "text/plain": [
       "Ion\n",
       "O I         9560\n",
       "O II        2200\n",
       "O III      27640\n",
       "Mg II      75800\n",
       "Si II     241460\n",
       "Si III    407050\n",
       "Si IV      17110\n",
       "S I           80\n",
       "S II      165550\n",
       "S III      51000\n",
       "S IV        2780\n",
       "Ar I         480\n",
       "Ar II      30180\n",
       "Ar III      2880\n",
       "Ar IV         10\n",
       "Ca II      37650\n",
       "Name: interaction_count, dtype: int64"
      ]
     },
     "execution_count": 15,
     "metadata": {},
     "output_type": "execute_result"
    }
   ],
   "source": [
    "virt_out_line_count_by_ion"
   ]
  },
  {
   "cell_type": "code",
   "execution_count": 16,
   "metadata": {},
   "outputs": [
    {
     "data": {
      "image/png": "[encoded data removed]",
      "text/plain": [
       "<Figure size 2000x500 with 2 Axes>"
      ]
     },
     "metadata": {},
     "output_type": "display_data"
    }
   ],
   "source": [
    "fig, axes = plt.subplots(nrows=1, ncols=2, figsize=(20, 5))\n",
    "\n",
    "# Plotting for real packets\n",
    "labels = out_line_count_by_ion.index\n",
    "values = out_line_count_by_ion.values\n",
    "\n",
    "xticks = np.arange(len(labels))\n",
    "bars = axes[0].bar(xticks, values, align=\"center\", alpha=0.7, color=\"b\")\n",
    "\n",
    "axes[0].set_xticks(xticks, labels, rotation=\"vertical\")\n",
    "axes[0].set_xlabel(\"Ion\")\n",
    "axes[0].set_ylabel(\"Counts (Log)\")\n",
    "axes[0].set_yscale(\"log\")\n",
    "axes[0].set_title(\"Last Out Line Interactions per Ion (Real Packets)\")\n",
    "\n",
    "# Plotting for virtual packets\n",
    "labels = virt_out_line_count_by_ion.index\n",
    "values = virt_out_line_count_by_ion.values\n",
    "\n",
    "xticks = np.arange(len(labels))\n",
    "bars = axes[1].bar(xticks, values, align=\"center\", alpha=0.7, color=\"b\")\n",
    "\n",
    "axes[1].set_xticks(xticks, labels, rotation=\"vertical\")\n",
    "axes[1].set_xlabel(\"Ion\")\n",
    "axes[1].set_ylabel(\"Counts (Log)\")\n",
    "axes[1].set_yscale(\"log\")\n",
    "axes[1].set_title(\"Last Out Line Interactions per Ion (Virtual Packets)\")\n",
    "\n",
    "plt.tight_layout()\n",
    "plt.show()"
   ]
  },
  {
   "cell_type": "code",
   "execution_count": 17,
   "metadata": {},
   "outputs": [
    {
     "data": {
      "application/vnd.plotly.v1+json": {
       "config": {
        "plotlyServerURL": "https://plot.ly"
       },
       "data": [
        {
         "name": "Real Packets",
         "type": "bar",
         "x": [
          "O I",
          "O II",
          "O III",
          "Mg II",
          "Si II",
          "Si III",
          "Si IV",
          "S I",
          "S II",
          "S III",
          "S IV",
          "Ar I",
          "Ar II",
          "Ar III",
          "Ca II"
         ],
         "xaxis": "x",
         "y": [
          70,
          92,
          586,
          2835,
          6055,
          10229,
          137,
          2,
          4238,
          1556,
          19,
          6,
          1468,
          13,
          1936
         ],
         "yaxis": "y"
        },
        {
         "name": "Virtual Packet",
         "type": "bar",
         "x": [
          "O I",
          "O II",
          "O III",
          "Mg II",
          "Si II",
          "Si III",
          "Si IV",
          "S I",
          "S II",
          "S III",
          "S IV",
          "Ar I",
          "Ar II",
          "Ar III",
          "Ar IV",
          "Ca II"
         ],
         "xaxis": "x2",
         "y": [
          9560,
          2200,
          27640,
          75800,
          241460,
          407050,
          17110,
          80,
          165550,
          51000,
          2780,
          480,
          30180,
          2880,
          10,
          37650
         ],
         "yaxis": "y2"
        }
       ],
       "layout": {
        "annotations": [
         {
          "font": {
           "size": 16
          },
          "showarrow": false,
          "text": "Last Out Line Interactions per Ion (Real Packets)",
          "x": 0.225,
          "xanchor": "center",
          "xref": "paper",
          "y": 1,
          "yanchor": "bottom",
          "yref": "paper"
         },
         {
          "font": {
           "size": 16
          },
          "showarrow": false,
          "text": "Last Out Line Interactions per Ion (Virtual Packets)",
          "x": 0.775,
          "xanchor": "center",
          "xref": "paper",
          "y": 1,
          "yanchor": "bottom",
          "yref": "paper"
         }
        ],
        "template": {
         "data": {
          "bar": [
           {
            "error_x": {
             "color": "#2a3f5f"
            },
            "error_y": {
             "color": "#2a3f5f"
            },
            "marker": {
             "line": {
              "color": "#E5ECF6",
              "width": 0.5
             },
             "pattern": {
              "fillmode": "overlay",
              "size": 10,
              "solidity": 0.2
             }
            },
            "type": "bar"
           }
          ],
          "barpolar": [
           {
            "marker": {
             "line": {
              "color": "#E5ECF6",
              "width": 0.5
             },
             "pattern": {
              "fillmode": "overlay",
              "size": 10,
              "solidity": 0.2
             }
            },
            "type": "barpolar"
           }
          ],
          "carpet": [
           {
            "aaxis": {
             "endlinecolor": "#2a3f5f",
             "gridcolor": "white",
             "linecolor": "white",
             "minorgridcolor": "white",
             "startlinecolor": "#2a3f5f"
            },
            "baxis": {
             "endlinecolor": "#2a3f5f",
             "gridcolor": "white",
             "linecolor": "white",
             "minorgridcolor": "white",
             "startlinecolor": "#2a3f5f"
            },
            "type": "carpet"
           }
          ],
          "choropleth": [
           {
            "colorbar": {
             "outlinewidth": 0,
             "ticks": ""
            },
            "type": "choropleth"
           }
          ],
          "contour": [
           {
            "colorbar": {
             "outlinewidth": 0,
             "ticks": ""
            },
            "colorscale": [
             [
              0,
              "#0d0887"
             ],
             [
              0.1111111111111111,
              "#46039f"
             ],
             [
              0.2222222222222222,
              "#7201a8"
             ],
             [
              0.3333333333333333,
              "#9c179e"
             ],
             [
              0.4444444444444444,
              "#bd3786"
             ],
             [
              0.5555555555555556,
              "#d8576b"
             ],
             [
              0.6666666666666666,
              "#ed7953"
             ],
             [
              0.7777777777777778,
              "#fb9f3a"
             ],
             [
              0.8888888888888888,
              "#fdca26"
             ],
             [
              1,
              "#f0f921"
             ]
            ],
            "type": "contour"
           }
          ],
          "contourcarpet": [
           {
            "colorbar": {
             "outlinewidth": 0,
             "ticks": ""
            },
            "type": "contourcarpet"
           }
          ],
          "heatmap": [
           {
            "colorbar": {
             "outlinewidth": 0,
             "ticks": ""
            },
            "colorscale": [
             [
              0,
              "#0d0887"
             ],
             [
              0.1111111111111111,
              "#46039f"
             ],
             [
              0.2222222222222222,
              "#7201a8"
             ],
             [
              0.3333333333333333,
              "#9c179e"
             ],
             [
              0.4444444444444444,
              "#bd3786"
             ],
             [
              0.5555555555555556,
              "#d8576b"
             ],
             [
              0.6666666666666666,
              "#ed7953"
             ],
             [
              0.7777777777777778,
              "#fb9f3a"
             ],
             [
              0.8888888888888888,
              "#fdca26"
             ],
             [
              1,
              "#f0f921"
             ]
            ],
            "type": "heatmap"
           }
          ],
          "heatmapgl": [
           {
            "colorbar": {
             "outlinewidth": 0,
             "ticks": ""
            },
            "colorscale": [
             [
              0,
              "#0d0887"
             ],
             [
              0.1111111111111111,
              "#46039f"
             ],
             [
              0.2222222222222222,
              "#7201a8"
             ],
             [
              0.3333333333333333,
              "#9c179e"
             ],
             [
              0.4444444444444444,
              "#bd3786"
             ],
             [
              0.5555555555555556,
              "#d8576b"
             ],
             [
              0.6666666666666666,
              "#ed7953"
             ],
             [
              0.7777777777777778,
              "#fb9f3a"
             ],
             [
              0.8888888888888888,
              "#fdca26"
             ],
             [
              1,
              "#f0f921"
             ]
            ],
            "type": "heatmapgl"
           }
          ],
          "histogram": [
           {
            "marker": {
             "pattern": {
              "fillmode": "overlay",
              "size": 10,
              "solidity": 0.2
             }
            },
            "type": "histogram"
           }
          ],
          "histogram2d": [
           {
            "colorbar": {
             "outlinewidth": 0,
             "ticks": ""
            },
            "colorscale": [
             [
              0,
              "#0d0887"
             ],
             [
              0.1111111111111111,
              "#46039f"
             ],
             [
              0.2222222222222222,
              "#7201a8"
             ],
             [
              0.3333333333333333,
              "#9c179e"
             ],
             [
              0.4444444444444444,
              "#bd3786"
             ],
             [
              0.5555555555555556,
              "#d8576b"
             ],
             [
              0.6666666666666666,
              "#ed7953"
             ],
             [
              0.7777777777777778,
              "#fb9f3a"
             ],
             [
              0.8888888888888888,
              "#fdca26"
             ],
             [
              1,
              "#f0f921"
             ]
            ],
            "type": "histogram2d"
           }
          ],
          "histogram2dcontour": [
           {
            "colorbar": {
             "outlinewidth": 0,
             "ticks": ""
            },
            "colorscale": [
             [
              0,
              "#0d0887"
             ],
             [
              0.1111111111111111,
              "#46039f"
             ],
             [
              0.2222222222222222,
              "#7201a8"
             ],
             [
              0.3333333333333333,
              "#9c179e"
             ],
             [
              0.4444444444444444,
              "#bd3786"
             ],
             [
              0.5555555555555556,
              "#d8576b"
             ],
             [
              0.6666666666666666,
              "#ed7953"
             ],
             [
              0.7777777777777778,
              "#fb9f3a"
             ],
             [
              0.8888888888888888,
              "#fdca26"
             ],
             [
              1,
              "#f0f921"
             ]
            ],
            "type": "histogram2dcontour"
           }
          ],
          "mesh3d": [
           {
            "colorbar": {
             "outlinewidth": 0,
             "ticks": ""
            },
            "type": "mesh3d"
           }
          ],
          "parcoords": [
           {
            "line": {
             "colorbar": {
              "outlinewidth": 0,
              "ticks": ""
             }
            },
            "type": "parcoords"
           }
          ],
          "pie": [
           {
            "automargin": true,
            "type": "pie"
           }
          ],
          "scatter": [
           {
            "fillpattern": {
             "fillmode": "overlay",
             "size": 10,
             "solidity": 0.2
            },
            "type": "scatter"
           }
          ],
          "scatter3d": [
           {
            "line": {
             "colorbar": {
              "outlinewidth": 0,
              "ticks": ""
             }
            },
            "marker": {
             "colorbar": {
              "outlinewidth": 0,
              "ticks": ""
             }
            },
            "type": "scatter3d"
           }
          ],
          "scattercarpet": [
           {
            "marker": {
             "colorbar": {
              "outlinewidth": 0,
              "ticks": ""
             }
            },
            "type": "scattercarpet"
           }
          ],
          "scattergeo": [
           {
            "marker": {
             "colorbar": {
              "outlinewidth": 0,
              "ticks": ""
             }
            },
            "type": "scattergeo"
           }
          ],
          "scattergl": [
           {
            "marker": {
             "colorbar": {
              "outlinewidth": 0,
              "ticks": ""
             }
            },
            "type": "scattergl"
           }
          ],
          "scattermapbox": [
           {
            "marker": {
             "colorbar": {
              "outlinewidth": 0,
              "ticks": ""
             }
            },
            "type": "scattermapbox"
           }
          ],
          "scatterpolar": [
           {
            "marker": {
             "colorbar": {
              "outlinewidth": 0,
              "ticks": ""
             }
            },
            "type": "scatterpolar"
           }
          ],
          "scatterpolargl": [
           {
            "marker": {
             "colorbar": {
              "outlinewidth": 0,
              "ticks": ""
             }
            },
            "type": "scatterpolargl"
           }
          ],
          "scatterternary": [
           {
            "marker": {
             "colorbar": {
              "outlinewidth": 0,
              "ticks": ""
             }
            },
            "type": "scatterternary"
           }
          ],
          "surface": [
           {
            "colorbar": {
             "outlinewidth": 0,
             "ticks": ""
            },
            "colorscale": [
             [
              0,
              "#0d0887"
             ],
             [
              0.1111111111111111,
              "#46039f"
             ],
             [
              0.2222222222222222,
              "#7201a8"
             ],
             [
              0.3333333333333333,
              "#9c179e"
             ],
             [
              0.4444444444444444,
              "#bd3786"
             ],
             [
              0.5555555555555556,
              "#d8576b"
             ],
             [
              0.6666666666666666,
              "#ed7953"
             ],
             [
              0.7777777777777778,
              "#fb9f3a"
             ],
             [
              0.8888888888888888,
              "#fdca26"
             ],
             [
              1,
              "#f0f921"
             ]
            ],
            "type": "surface"
           }
          ],
          "table": [
           {
            "cells": {
             "fill": {
              "color": "#EBF0F8"
             },
             "line": {
              "color": "white"
             }
            },
            "header": {
             "fill": {
              "color": "#C8D4E3"
             },
             "line": {
              "color": "white"
             }
            },
            "type": "table"
           }
          ]
         },
         "layout": {
          "annotationdefaults": {
           "arrowcolor": "#2a3f5f",
           "arrowhead": 0,
           "arrowwidth": 1
          },
          "autotypenumbers": "strict",
          "coloraxis": {
           "colorbar": {
            "outlinewidth": 0,
            "ticks": ""
           }
          },
          "colorscale": {
           "diverging": [
            [
             0,
             "#8e0152"
            ],
            [
             0.1,
             "#c51b7d"
            ],
            [
             0.2,
             "#de77ae"
            ],
            [
             0.3,
             "#f1b6da"
            ],
            [
             0.4,
             "#fde0ef"
            ],
            [
             0.5,
             "#f7f7f7"
            ],
            [
             0.6,
             "#e6f5d0"
            ],
            [
             0.7,
             "#b8e186"
            ],
            [
             0.8,
             "#7fbc41"
            ],
            [
             0.9,
             "#4d9221"
            ],
            [
             1,
             "#276419"
            ]
           ],
           "sequential": [
            [
             0,
             "#0d0887"
            ],
            [
             0.1111111111111111,
             "#46039f"
            ],
            [
             0.2222222222222222,
             "#7201a8"
            ],
            [
             0.3333333333333333,
             "#9c179e"
            ],
            [
             0.4444444444444444,
             "#bd3786"
            ],
            [
             0.5555555555555556,
             "#d8576b"
            ],
            [
             0.6666666666666666,
             "#ed7953"
            ],
            [
             0.7777777777777778,
             "#fb9f3a"
            ],
            [
             0.8888888888888888,
             "#fdca26"
            ],
            [
             1,
             "#f0f921"
            ]
           ],
           "sequentialminus": [
            [
             0,
             "#0d0887"
            ],
            [
             0.1111111111111111,
             "#46039f"
            ],
            [
             0.2222222222222222,
             "#7201a8"
            ],
            [
             0.3333333333333333,
             "#9c179e"
            ],
            [
             0.4444444444444444,
             "#bd3786"
            ],
            [
             0.5555555555555556,
             "#d8576b"
            ],
            [
             0.6666666666666666,
             "#ed7953"
            ],
            [
             0.7777777777777778,
             "#fb9f3a"
            ],
            [
             0.8888888888888888,
             "#fdca26"
            ],
            [
             1,
             "#f0f921"
            ]
           ]
          },
          "colorway": [
           "#636efa",
           "#EF553B",
           "#00cc96",
           "#ab63fa",
           "#FFA15A",
           "#19d3f3",
           "#FF6692",
           "#B6E880",
           "#FF97FF",
           "#FECB52"
          ],
          "font": {
           "color": "#2a3f5f"
          },
          "geo": {
           "bgcolor": "white",
           "lakecolor": "white",
           "landcolor": "#E5ECF6",
           "showlakes": true,
           "showland": true,
           "subunitcolor": "white"
          },
          "hoverlabel": {
           "align": "left"
          },
          "hovermode": "closest",
          "mapbox": {
           "style": "light"
          },
          "paper_bgcolor": "white",
          "plot_bgcolor": "#E5ECF6",
          "polar": {
           "angularaxis": {
            "gridcolor": "white",
            "linecolor": "white",
            "ticks": ""
           },
           "bgcolor": "#E5ECF6",
           "radialaxis": {
            "gridcolor": "white",
            "linecolor": "white",
            "ticks": ""
           }
          },
          "scene": {
           "xaxis": {
            "backgroundcolor": "#E5ECF6",
            "gridcolor": "white",
            "gridwidth": 2,
            "linecolor": "white",
            "showbackground": true,
            "ticks": "",
            "zerolinecolor": "white"
           },
           "yaxis": {
            "backgroundcolor": "#E5ECF6",
            "gridcolor": "white",
            "gridwidth": 2,
            "linecolor": "white",
            "showbackground": true,
            "ticks": "",
            "zerolinecolor": "white"
           },
           "zaxis": {
            "backgroundcolor": "#E5ECF6",
            "gridcolor": "white",
            "gridwidth": 2,
            "linecolor": "white",
            "showbackground": true,
            "ticks": "",
            "zerolinecolor": "white"
           }
          },
          "shapedefaults": {
           "line": {
            "color": "#2a3f5f"
           }
          },
          "ternary": {
           "aaxis": {
            "gridcolor": "white",
            "linecolor": "white",
            "ticks": ""
           },
           "baxis": {
            "gridcolor": "white",
            "linecolor": "white",
            "ticks": ""
           },
           "bgcolor": "#E5ECF6",
           "caxis": {
            "gridcolor": "white",
            "linecolor": "white",
            "ticks": ""
           }
          },
          "title": {
           "x": 0.05
          },
          "xaxis": {
           "automargin": true,
           "gridcolor": "white",
           "linecolor": "white",
           "ticks": "",
           "title": {
            "standoff": 15
           },
           "zerolinecolor": "white",
           "zerolinewidth": 2
          },
          "yaxis": {
           "automargin": true,
           "gridcolor": "white",
           "linecolor": "white",
           "ticks": "",
           "title": {
            "standoff": 15
           },
           "zerolinecolor": "white",
           "zerolinewidth": 2
          }
         }
        },
        "xaxis": {
         "anchor": "y",
         "domain": [
          0,
          0.45
         ],
         "title": {
          "text": "Ion"
         }
        },
        "xaxis2": {
         "anchor": "y2",
         "domain": [
          0.55,
          1
         ],
         "title": {
          "text": "Ion"
         }
        },
        "yaxis": {
         "anchor": "x",
         "domain": [
          0,
          1
         ],
         "title": {
          "text": "Counts (Log)"
         },
         "type": "log"
        },
        "yaxis2": {
         "anchor": "x2",
         "domain": [
          0,
          1
         ],
         "title": {
          "text": "Counts (Log)"
         }
        }
       }
      }
     },
     "metadata": {},
     "output_type": "display_data"
    }
   ],
   "source": [
    "## Creating plots in plotly\n",
    "\n",
    "fig = make_subplots(\n",
    "    rows=1,\n",
    "    cols=2,\n",
    "    subplot_titles=(\n",
    "        \"Last Out Line Interactions per Ion (Real Packets)\",\n",
    "        \"Last Out Line Interactions per Ion (Virtual Packets)\",\n",
    "    ),\n",
    ")\n",
    "\n",
    "# Trace for Real packets\n",
    "fig.add_trace(\n",
    "    go.Bar(\n",
    "        x=out_line_count_by_ion.index,\n",
    "        y=out_line_count_by_ion.values,\n",
    "        name=\"Real Packets\",\n",
    "    ),\n",
    "    row=1,\n",
    "    col=1,\n",
    ")\n",
    "\n",
    "# Trace for Virtual packets\n",
    "fig.add_trace(\n",
    "    go.Bar(\n",
    "        x=virt_out_line_count_by_ion.index,\n",
    "        y=virt_out_line_count_by_ion.values,\n",
    "        name=\"Virtual Packet\",\n",
    "    ),\n",
    "    row=1,\n",
    "    col=2,\n",
    ")\n",
    "\n",
    "fig.update_layout(yaxis_type=\"log\")\n",
    "\n",
    "fig.update_xaxes(title_text=\"Ion\", row=1, col=1)\n",
    "fig.update_xaxes(title_text=\"Ion\", row=1, col=2)\n",
    "fig.update_yaxes(title_text=\"Counts (Log)\", row=1, col=1)\n",
    "fig.update_yaxes(title_text=\"Counts (Log)\", row=1, col=2)\n",
    "\n",
    "fig.show()"
   ]
  },
  {
   "cell_type": "code",
   "execution_count": null,
   "metadata": {},
   "outputs": [],
   "source": []
  }
 ],
 "metadata": {
  "kernelspec": {
   "display_name": "tardis",
   "language": "python",
   "name": "python3"
  },
  "language_info": {
   "codemirror_mode": {
    "name": "ipython",
    "version": 3
   },
   "file_extension": ".py",
   "mimetype": "text/x-python",
   "name": "python",
   "nbconvert_exporter": "python",
   "pygments_lexer": "ipython3",
   "version": "3.11.5"
  }
 },
 "nbformat": 4,
 "nbformat_minor": 2
}
