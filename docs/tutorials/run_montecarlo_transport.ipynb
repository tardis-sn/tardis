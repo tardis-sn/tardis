{
 "cells": [
  {
   "cell_type": "markdown",
   "id": "46a43797",
   "metadata": {},
   "source": [
    "# Running Monte Carlo Transport Independently\n",
    "\n",
    "This tutorial demonstrates how to run the Monte Carlo transport loop directly using `Simulation.from_config` without running full TARDIS iterations. This approach gives you direct control over the Monte Carlo transport process."
   ]
  },
  {
   "cell_type": "code",
   "execution_count": 1,
   "id": "bbd59cb7",
   "metadata": {},
   "outputs": [
    {
     "name": "stderr",
     "output_type": "stream",
     "text": [
      "/Users/wkerzend/python/tardis/tardis/__init__.py:17: UserWarning: Astropy is already imported externally. Astropy should be imported after TARDIS.\n",
      "  warnings.warn(\n"
     ]
    },
    {
     "data": {
      "application/vnd.jupyter.widget-view+json": {
       "model_id": "36cc7cad59014e9585da92ec781024be",
       "version_major": 2,
       "version_minor": 0
      },
      "text/plain": [
       "Iterations:          0/? [00:00<?, ?it/s]"
      ]
     },
     "metadata": {},
     "output_type": "display_data"
    },
    {
     "data": {
      "application/vnd.jupyter.widget-view+json": {
       "model_id": "67d359f752d44b7888c83f7d044257d4",
       "version_major": 2,
       "version_minor": 0
      },
      "text/plain": [
       "Packets:             0/? [00:00<?, ?it/s]"
      ]
     },
     "metadata": {},
     "output_type": "display_data"
    },
    {
     "data": {
      "text/html": [
       "        <script type=\"text/javascript\">\n",
       "        window.PlotlyConfig = {MathJaxConfig: 'local'};\n",
       "        if (window.MathJax && window.MathJax.Hub && window.MathJax.Hub.Config) {window.MathJax.Hub.Config({SVG: {font: \"STIX-Web\"}});}\n",
       "        </script>\n",
       "        <script type=\"module\">import \"https://cdn.plot.ly/plotly-3.0.1.min\"</script>\n",
       "        "
      ]
     },
     "metadata": {},
     "output_type": "display_data"
    },
    {
     "data": {
      "text/html": [
       "<script src=\"https://cdnjs.cloudflare.com/ajax/libs/mathjax/2.7.1/MathJax.js?config=TeX-MML-AM_SVG\"></script>"
      ],
      "text/plain": [
       "<IPython.core.display.HTML object>"
      ]
     },
     "metadata": {},
     "output_type": "display_data"
    },
    {
     "name": "stdout",
     "output_type": "stream",
     "text": [
      "Initializing tabulator and plotly panel extensions for widgets to work\n"
     ]
    },
    {
     "data": {
      "text/html": [
       "<script type=\"esms-options\">{\"shimMode\": true}</script><style>*[data-root-id],\n",
       "*[data-root-id] > * {\n",
       "  box-sizing: border-box;\n",
       "  font-family: var(--jp-ui-font-family);\n",
       "  font-size: var(--jp-ui-font-size1);\n",
       "  color: var(--vscode-editor-foreground, var(--jp-ui-font-color1));\n",
       "}\n",
       "\n",
       "/* Override VSCode background color */\n",
       ".cell-output-ipywidget-background:has(\n",
       "    > .cell-output-ipywidget-background > .lm-Widget > *[data-root-id]\n",
       "  ),\n",
       ".cell-output-ipywidget-background:has(> .lm-Widget > *[data-root-id]) {\n",
       "  background-color: transparent !important;\n",
       "}\n",
       "</style>"
      ]
     },
     "metadata": {},
     "output_type": "display_data"
    },
    {
     "data": {
      "application/javascript": "(function(root) {\n  function now() {\n    return new Date();\n  }\n\n  const force = true;\n  const py_version = '3.7.3'.replace('rc', '-rc.').replace('.dev', '-dev.');\n  const reloading = false;\n  const Bokeh = root.Bokeh;\n\n  // Set a timeout for this load but only if we are not already initializing\n  if (typeof (root._bokeh_timeout) === \"undefined\" || (force || !root._bokeh_is_initializing)) {\n    root._bokeh_timeout = Date.now() + 5000;\n    root._bokeh_failed_load = false;\n  }\n\n  function run_callbacks() {\n    try {\n      root._bokeh_onload_callbacks.forEach(function(callback) {\n        if (callback != null)\n          callback();\n      });\n    } finally {\n      delete root._bokeh_onload_callbacks;\n    }\n    console.debug(\"Bokeh: all callbacks have finished\");\n  }\n\n  function load_libs(css_urls, js_urls, js_modules, js_exports, callback) {\n    if (css_urls == null) css_urls = [];\n    if (js_urls == null) js_urls = [];\n    if (js_modules == null) js_modules = [];\n    if (js_exports == null) js_exports = {};\n\n    root._bokeh_onload_callbacks.push(callback);\n\n    if (root._bokeh_is_loading > 0) {\n      // Don't load bokeh if it is still initializing\n      console.debug(\"Bokeh: BokehJS is being loaded, scheduling callback at\", now());\n      return null;\n    } else if (js_urls.length === 0 && js_modules.length === 0 && Object.keys(js_exports).length === 0) {\n      // There is nothing to load\n      run_callbacks();\n      return null;\n    }\n\n    function on_load() {\n      root._bokeh_is_loading--;\n      if (root._bokeh_is_loading === 0) {\n        console.debug(\"Bokeh: all BokehJS libraries/stylesheets loaded\");\n        run_callbacks()\n      }\n    }\n    window._bokeh_on_load = on_load\n\n    function on_error(e) {\n      const src_el = e.srcElement\n      console.error(\"failed to load \" + (src_el.href || src_el.src));\n    }\n\n    const skip = [];\n    if (window.requirejs) {\n      window.requirejs.config({'packages': {}, 'paths': {'tabulator': 'https://cdn.jsdelivr.net/npm/tabulator-tables@6.3.1/dist/js/tabulator.min', 'moment': 'https://cdn.jsdelivr.net/npm/luxon/build/global/luxon.min', 'plotly': 'https://cdn.plot.ly/plotly-3.0.1.min'}, 'shim': {}});\n      require([\"tabulator\"], function(Tabulator) {\n        window.Tabulator = Tabulator\n        on_load()\n      })\n      require([\"moment\"], function(moment) {\n        window.moment = moment\n        on_load()\n      })\n      require([\"plotly\"], function(Plotly) {\n        window.Plotly = Plotly\n        on_load()\n      })\n      root._bokeh_is_loading = css_urls.length + 3;\n    } else {\n      root._bokeh_is_loading = css_urls.length + js_urls.length + js_modules.length + Object.keys(js_exports).length;\n    }\n\n    const existing_stylesheets = []\n    const links = document.getElementsByTagName('link')\n    for (let i = 0; i < links.length; i++) {\n      const link = links[i]\n      if (link.href != null) {\n        existing_stylesheets.push(link.href)\n      }\n    }\n    for (let i = 0; i < css_urls.length; i++) {\n      const url = css_urls[i];\n      const escaped = encodeURI(url)\n      if (existing_stylesheets.indexOf(escaped) !== -1) {\n        on_load()\n        continue;\n      }\n      const element = document.createElement(\"link\");\n      element.onload = on_load;\n      element.onerror = on_error;\n      element.rel = \"stylesheet\";\n      element.type = \"text/css\";\n      element.href = url;\n      console.debug(\"Bokeh: injecting link tag for BokehJS stylesheet: \", url);\n      document.body.appendChild(element);\n    }    if (((window.Tabulator !== undefined) && (!(window.Tabulator instanceof HTMLElement))) || window.requirejs) {\n      var urls = ['https://cdn.holoviz.org/panel/1.7.1/dist/bundled/datatabulator/tabulator-tables@6.3.1/dist/js/tabulator.min.js'];\n      for (var i = 0; i < urls.length; i++) {\n        skip.push(encodeURI(urls[i]))\n      }\n    }    if (((window.moment !== undefined) && (!(window.moment instanceof HTMLElement))) || window.requirejs) {\n      var urls = ['https://cdn.holoviz.org/panel/1.7.1/dist/bundled/datatabulator/luxon/build/global/luxon.min.js'];\n      for (var i = 0; i < urls.length; i++) {\n        skip.push(encodeURI(urls[i]))\n      }\n    }    if (((window.Plotly !== undefined) && (!(window.Plotly instanceof HTMLElement))) || window.requirejs) {\n      var urls = [];\n      for (var i = 0; i < urls.length; i++) {\n        skip.push(encodeURI(urls[i]))\n      }\n    }    var existing_scripts = []\n    const scripts = document.getElementsByTagName('script')\n    for (let i = 0; i < scripts.length; i++) {\n      var script = scripts[i]\n      if (script.src != null) {\n        existing_scripts.push(script.src)\n      }\n    }\n    for (let i = 0; i < js_urls.length; i++) {\n      const url = js_urls[i];\n      const escaped = encodeURI(url)\n      if (skip.indexOf(escaped) !== -1 || existing_scripts.indexOf(escaped) !== -1) {\n        if (!window.requirejs) {\n          on_load();\n        }\n        continue;\n      }\n      const element = document.createElement('script');\n      element.onload = on_load;\n      element.onerror = on_error;\n      element.async = false;\n      element.src = url;\n      console.debug(\"Bokeh: injecting script tag for BokehJS library: \", url);\n      document.head.appendChild(element);\n    }\n    for (let i = 0; i < js_modules.length; i++) {\n      const url = js_modules[i];\n      const escaped = encodeURI(url)\n      if (skip.indexOf(escaped) !== -1 || existing_scripts.indexOf(escaped) !== -1) {\n        if (!window.requirejs) {\n          on_load();\n        }\n        continue;\n      }\n      var element = document.createElement('script');\n      element.onload = on_load;\n      element.onerror = on_error;\n      element.async = false;\n      element.src = url;\n      element.type = \"module\";\n      console.debug(\"Bokeh: injecting script tag for BokehJS library: \", url);\n      document.head.appendChild(element);\n    }\n    for (const name in js_exports) {\n      const url = js_exports[name];\n      const escaped = encodeURI(url)\n      if (skip.indexOf(escaped) >= 0 || root[name] != null) {\n        if (!window.requirejs) {\n          on_load();\n        }\n        continue;\n      }\n      var element = document.createElement('script');\n      element.onerror = on_error;\n      element.async = false;\n      element.type = \"module\";\n      console.debug(\"Bokeh: injecting script tag for BokehJS library: \", url);\n      element.textContent = `\n      import ${name} from \"${url}\"\n      window.${name} = ${name}\n      window._bokeh_on_load()\n      `\n      document.head.appendChild(element);\n    }\n    if (!js_urls.length && !js_modules.length) {\n      on_load()\n    }\n  };\n\n  function inject_raw_css(css) {\n    const element = document.createElement(\"style\");\n    element.appendChild(document.createTextNode(css));\n    document.body.appendChild(element);\n  }\n\n  const js_urls = [\"https://cdn.holoviz.org/panel/1.7.1/dist/bundled/reactiveesm/es-module-shims@^1.10.0/dist/es-module-shims.min.js\", \"https://cdn.holoviz.org/panel/1.7.1/dist/bundled/plotlyplot/plotly-3.0.1.min.js\", \"https://cdn.holoviz.org/panel/1.7.1/dist/bundled/datatabulator/tabulator-tables@6.3.1/dist/js/tabulator.min.js\", \"https://cdn.holoviz.org/panel/1.7.1/dist/bundled/datatabulator/luxon/build/global/luxon.min.js\", \"https://cdn.bokeh.org/bokeh/release/bokeh-3.7.3.min.js\", \"https://cdn.bokeh.org/bokeh/release/bokeh-gl-3.7.3.min.js\", \"https://cdn.bokeh.org/bokeh/release/bokeh-widgets-3.7.3.min.js\", \"https://cdn.bokeh.org/bokeh/release/bokeh-tables-3.7.3.min.js\", \"https://cdn.holoviz.org/panel/1.7.1/dist/panel.min.js\"];\n  const js_modules = [];\n  const js_exports = {};\n  const css_urls = [\"https://cdn.holoviz.org/panel/1.7.1/dist/bundled/plotlyplot/maplibre-gl@4.4.1/dist/maplibre-gl.css?v=1.7.1\", \"https://cdn.holoviz.org/panel/1.7.1/dist/bundled/datatabulator/tabulator-tables@6.3.1/dist/css/tabulator_simple.min.css?v=1.7.1\"];\n  const inline_js = [    function(Bokeh) {\n      Bokeh.set_log_level(\"info\");\n    },\nfunction(Bokeh) {} // ensure no trailing comma for IE\n  ];\n\n  function run_inline_js() {\n    if ((root.Bokeh !== undefined) || (force === true)) {\n      for (let i = 0; i < inline_js.length; i++) {\n        try {\n          inline_js[i].call(root, root.Bokeh);\n        } catch(e) {\n          if (!reloading) {\n            throw e;\n          }\n        }\n      }\n      // Cache old bokeh versions\n      if (Bokeh != undefined && !reloading) {\n        var NewBokeh = root.Bokeh;\n        if (Bokeh.versions === undefined) {\n          Bokeh.versions = new Map();\n        }\n        if (NewBokeh.version !== Bokeh.version) {\n          Bokeh.versions.set(NewBokeh.version, NewBokeh)\n        }\n        root.Bokeh = Bokeh;\n      }\n    } else if (Date.now() < root._bokeh_timeout) {\n      setTimeout(run_inline_js, 100);\n    } else if (!root._bokeh_failed_load) {\n      console.log(\"Bokeh: BokehJS failed to load within specified timeout.\");\n      root._bokeh_failed_load = true;\n    }\n    root._bokeh_is_initializing = false\n  }\n\n  function load_or_wait() {\n    // Implement a backoff loop that tries to ensure we do not load multiple\n    // versions of Bokeh and its dependencies at the same time.\n    // In recent versions we use the root._bokeh_is_initializing flag\n    // to determine whether there is an ongoing attempt to initialize\n    // bokeh, however for backward compatibility we also try to ensure\n    // that we do not start loading a newer (Panel>=1.0 and Bokeh>3) version\n    // before older versions are fully initialized.\n    if (root._bokeh_is_initializing && Date.now() > root._bokeh_timeout) {\n      // If the timeout and bokeh was not successfully loaded we reset\n      // everything and try loading again\n      root._bokeh_timeout = Date.now() + 5000;\n      root._bokeh_is_initializing = false;\n      root._bokeh_onload_callbacks = undefined;\n      root._bokeh_is_loading = 0\n      console.log(\"Bokeh: BokehJS was loaded multiple times but one version failed to initialize.\");\n      load_or_wait();\n    } else if (root._bokeh_is_initializing || (typeof root._bokeh_is_initializing === \"undefined\" && root._bokeh_onload_callbacks !== undefined)) {\n      setTimeout(load_or_wait, 100);\n    } else {\n      root._bokeh_is_initializing = true\n      root._bokeh_onload_callbacks = []\n      const bokeh_loaded = root.Bokeh != null && (root.Bokeh.version === py_version || (root.Bokeh.versions !== undefined && root.Bokeh.versions.has(py_version)));\n      if (!reloading && !bokeh_loaded) {\n        if (root.Bokeh) {\n          root.Bokeh = undefined;\n        }\n        console.debug(\"Bokeh: BokehJS not loaded, scheduling load and callback at\", now());\n      }\n      load_libs(css_urls, js_urls, js_modules, js_exports, function() {\n        console.debug(\"Bokeh: BokehJS plotting callback run at\", now());\n        run_inline_js();\n      });\n    }\n  }\n  // Give older versions of the autoload script a head-start to ensure\n  // they initialize before we start loading newer version.\n  setTimeout(load_or_wait, 100)\n}(window));",
      "application/vnd.holoviews_load.v0+json": ""
     },
     "metadata": {},
     "output_type": "display_data"
    },
    {
     "data": {
      "application/javascript": "\nif ((window.PyViz === undefined) || (window.PyViz instanceof HTMLElement)) {\n  window.PyViz = {comms: {}, comm_status:{}, kernels:{}, receivers: {}, plot_index: []}\n}\n\n\n    function JupyterCommManager() {\n    }\n\n    JupyterCommManager.prototype.register_target = function(plot_id, comm_id, msg_handler) {\n      if (window.comm_manager || ((window.Jupyter !== undefined) && (Jupyter.notebook.kernel != null))) {\n        var comm_manager = window.comm_manager || Jupyter.notebook.kernel.comm_manager;\n        comm_manager.register_target(comm_id, function(comm) {\n          comm.on_msg(msg_handler);\n        });\n      } else if ((plot_id in window.PyViz.kernels) && (window.PyViz.kernels[plot_id])) {\n        window.PyViz.kernels[plot_id].registerCommTarget(comm_id, function(comm) {\n          comm.onMsg = msg_handler;\n        });\n      } else if (typeof google != 'undefined' && google.colab.kernel != null) {\n        google.colab.kernel.comms.registerTarget(comm_id, (comm) => {\n          var messages = comm.messages[Symbol.asyncIterator]();\n          function processIteratorResult(result) {\n            var message = result.value;\n            console.log(message)\n            var content = {data: message.data, comm_id};\n            var buffers = []\n            for (var buffer of message.buffers || []) {\n              buffers.push(new DataView(buffer))\n            }\n            var metadata = message.metadata || {};\n            var msg = {content, buffers, metadata}\n            msg_handler(msg);\n            return messages.next().then(processIteratorResult);\n          }\n          return messages.next().then(processIteratorResult);\n        })\n      }\n    }\n\n    JupyterCommManager.prototype.get_client_comm = function(plot_id, comm_id, msg_handler) {\n      if (comm_id in window.PyViz.comms) {\n        return window.PyViz.comms[comm_id];\n      } else if (window.comm_manager || ((window.Jupyter !== undefined) && (Jupyter.notebook.kernel != null))) {\n        var comm_manager = window.comm_manager || Jupyter.notebook.kernel.comm_manager;\n        var comm = comm_manager.new_comm(comm_id, {}, {}, {}, comm_id);\n        if (msg_handler) {\n          comm.on_msg(msg_handler);\n        }\n      } else if ((plot_id in window.PyViz.kernels) && (window.PyViz.kernels[plot_id])) {\n        var comm = window.PyViz.kernels[plot_id].connectToComm(comm_id);\n        comm.open();\n        if (msg_handler) {\n          comm.onMsg = msg_handler;\n        }\n      } else if (typeof google != 'undefined' && google.colab.kernel != null) {\n        var comm_promise = google.colab.kernel.comms.open(comm_id)\n        comm_promise.then((comm) => {\n          window.PyViz.comms[comm_id] = comm;\n          if (msg_handler) {\n            var messages = comm.messages[Symbol.asyncIterator]();\n            function processIteratorResult(result) {\n              var message = result.value;\n              var content = {data: message.data};\n              var metadata = message.metadata || {comm_id};\n              var msg = {content, metadata}\n              msg_handler(msg);\n              return messages.next().then(processIteratorResult);\n            }\n            return messages.next().then(processIteratorResult);\n          }\n        })\n        var sendClosure = (data, metadata, buffers, disposeOnDone) => {\n          return comm_promise.then((comm) => {\n            comm.send(data, metadata, buffers, disposeOnDone);\n          });\n        };\n        var comm = {\n          send: sendClosure\n        };\n      }\n      window.PyViz.comms[comm_id] = comm;\n      return comm;\n    }\n    window.PyViz.comm_manager = new JupyterCommManager();\n    \n\n\nvar JS_MIME_TYPE = 'application/javascript';\nvar HTML_MIME_TYPE = 'text/html';\nvar EXEC_MIME_TYPE = 'application/vnd.holoviews_exec.v0+json';\nvar CLASS_NAME = 'output';\n\n/**\n * Render data to the DOM node\n */\nfunction render(props, node) {\n  var div = document.createElement(\"div\");\n  var script = document.createElement(\"script\");\n  node.appendChild(div);\n  node.appendChild(script);\n}\n\n/**\n * Handle when a new output is added\n */\nfunction handle_add_output(event, handle) {\n  var output_area = handle.output_area;\n  var output = handle.output;\n  if ((output.data == undefined) || (!output.data.hasOwnProperty(EXEC_MIME_TYPE))) {\n    return\n  }\n  var id = output.metadata[EXEC_MIME_TYPE][\"id\"];\n  var toinsert = output_area.element.find(\".\" + CLASS_NAME.split(' ')[0]);\n  if (id !== undefined) {\n    var nchildren = toinsert.length;\n    var html_node = toinsert[nchildren-1].children[0];\n    html_node.innerHTML = output.data[HTML_MIME_TYPE];\n    var scripts = [];\n    var nodelist = html_node.querySelectorAll(\"script\");\n    for (var i in nodelist) {\n      if (nodelist.hasOwnProperty(i)) {\n        scripts.push(nodelist[i])\n      }\n    }\n\n    scripts.forEach( function (oldScript) {\n      var newScript = document.createElement(\"script\");\n      var attrs = [];\n      var nodemap = oldScript.attributes;\n      for (var j in nodemap) {\n        if (nodemap.hasOwnProperty(j)) {\n          attrs.push(nodemap[j])\n        }\n      }\n      attrs.forEach(function(attr) { newScript.setAttribute(attr.name, attr.value) });\n      newScript.appendChild(document.createTextNode(oldScript.innerHTML));\n      oldScript.parentNode.replaceChild(newScript, oldScript);\n    });\n    if (JS_MIME_TYPE in output.data) {\n      toinsert[nchildren-1].children[1].textContent = output.data[JS_MIME_TYPE];\n    }\n    output_area._hv_plot_id = id;\n    if ((window.Bokeh !== undefined) && (id in Bokeh.index)) {\n      window.PyViz.plot_index[id] = Bokeh.index[id];\n    } else {\n      window.PyViz.plot_index[id] = null;\n    }\n  } else if (output.metadata[EXEC_MIME_TYPE][\"server_id\"] !== undefined) {\n    var bk_div = document.createElement(\"div\");\n    bk_div.innerHTML = output.data[HTML_MIME_TYPE];\n    var script_attrs = bk_div.children[0].attributes;\n    for (var i = 0; i < script_attrs.length; i++) {\n      toinsert[toinsert.length - 1].childNodes[1].setAttribute(script_attrs[i].name, script_attrs[i].value);\n    }\n    // store reference to server id on output_area\n    output_area._bokeh_server_id = output.metadata[EXEC_MIME_TYPE][\"server_id\"];\n  }\n}\n\n/**\n * Handle when an output is cleared or removed\n */\nfunction handle_clear_output(event, handle) {\n  var id = handle.cell.output_area._hv_plot_id;\n  var server_id = handle.cell.output_area._bokeh_server_id;\n  if (((id === undefined) || !(id in PyViz.plot_index)) && (server_id !== undefined)) { return; }\n  var comm = window.PyViz.comm_manager.get_client_comm(\"hv-extension-comm\", \"hv-extension-comm\", function () {});\n  if (server_id !== null) {\n    comm.send({event_type: 'server_delete', 'id': server_id});\n    return;\n  } else if (comm !== null) {\n    comm.send({event_type: 'delete', 'id': id});\n  }\n  delete PyViz.plot_index[id];\n  if ((window.Bokeh !== undefined) & (id in window.Bokeh.index)) {\n    var doc = window.Bokeh.index[id].model.document\n    doc.clear();\n    const i = window.Bokeh.documents.indexOf(doc);\n    if (i > -1) {\n      window.Bokeh.documents.splice(i, 1);\n    }\n  }\n}\n\n/**\n * Handle kernel restart event\n */\nfunction handle_kernel_cleanup(event, handle) {\n  delete PyViz.comms[\"hv-extension-comm\"];\n  window.PyViz.plot_index = {}\n}\n\n/**\n * Handle update_display_data messages\n */\nfunction handle_update_output(event, handle) {\n  handle_clear_output(event, {cell: {output_area: handle.output_area}})\n  handle_add_output(event, handle)\n}\n\nfunction register_renderer(events, OutputArea) {\n  function append_mime(data, metadata, element) {\n    // create a DOM node to render to\n    var toinsert = this.create_output_subarea(\n    metadata,\n    CLASS_NAME,\n    EXEC_MIME_TYPE\n    );\n    this.keyboard_manager.register_events(toinsert);\n    // Render to node\n    var props = {data: data, metadata: metadata[EXEC_MIME_TYPE]};\n    render(props, toinsert[0]);\n    element.append(toinsert);\n    return toinsert\n  }\n\n  events.on('output_added.OutputArea', handle_add_output);\n  events.on('output_updated.OutputArea', handle_update_output);\n  events.on('clear_output.CodeCell', handle_clear_output);\n  events.on('delete.Cell', handle_clear_output);\n  events.on('kernel_ready.Kernel', handle_kernel_cleanup);\n\n  OutputArea.prototype.register_mime_type(EXEC_MIME_TYPE, append_mime, {\n    safe: true,\n    index: 0\n  });\n}\n\nif (window.Jupyter !== undefined) {\n  try {\n    var events = require('base/js/events');\n    var OutputArea = require('notebook/js/outputarea').OutputArea;\n    if (OutputArea.prototype.mime_types().indexOf(EXEC_MIME_TYPE) == -1) {\n      register_renderer(events, OutputArea);\n    }\n  } catch(err) {\n  }\n}\n",
      "application/vnd.holoviews_load.v0+json": ""
     },
     "metadata": {},
     "output_type": "display_data"
    },
    {
     "data": {
      "application/vnd.holoviews_exec.v0+json": "",
      "text/html": [
       "<div id='2467c726-613b-4a03-9765-8d5a799f0ae5'>\n",
       "  <div id=\"eb44c851-4780-44fa-a502-1f65a94b000f\" data-root-id=\"2467c726-613b-4a03-9765-8d5a799f0ae5\" style=\"display: contents;\"></div>\n",
       "</div>\n",
       "<script type=\"application/javascript\">(function(root) {\n",
       "  var docs_json = {\"ca78cd50-79e9-4359-ad6c-4c96d59ad6ce\":{\"version\":\"3.7.3\",\"title\":\"Bokeh Application\",\"roots\":[{\"type\":\"object\",\"name\":\"panel.models.browser.BrowserInfo\",\"id\":\"2467c726-613b-4a03-9765-8d5a799f0ae5\"},{\"type\":\"object\",\"name\":\"panel.models.comm_manager.CommManager\",\"id\":\"b7f6396f-a8b5-4e19-8b6c-3dad49a66ea0\",\"attributes\":{\"plot_id\":\"2467c726-613b-4a03-9765-8d5a799f0ae5\",\"comm_id\":\"f78b330a03c943bbbdc8ed5acdbd2f5b\",\"client_comm_id\":\"b351de1669254198bbecc346241905ce\"}}],\"defs\":[{\"type\":\"model\",\"name\":\"ReactiveHTML1\"},{\"type\":\"model\",\"name\":\"FlexBox1\",\"properties\":[{\"name\":\"align_content\",\"kind\":\"Any\",\"default\":\"flex-start\"},{\"name\":\"align_items\",\"kind\":\"Any\",\"default\":\"flex-start\"},{\"name\":\"flex_direction\",\"kind\":\"Any\",\"default\":\"row\"},{\"name\":\"flex_wrap\",\"kind\":\"Any\",\"default\":\"wrap\"},{\"name\":\"gap\",\"kind\":\"Any\",\"default\":\"\"},{\"name\":\"justify_content\",\"kind\":\"Any\",\"default\":\"flex-start\"}]},{\"type\":\"model\",\"name\":\"FloatPanel1\",\"properties\":[{\"name\":\"config\",\"kind\":\"Any\",\"default\":{\"type\":\"map\"}},{\"name\":\"contained\",\"kind\":\"Any\",\"default\":true},{\"name\":\"position\",\"kind\":\"Any\",\"default\":\"right-top\"},{\"name\":\"offsetx\",\"kind\":\"Any\",\"default\":null},{\"name\":\"offsety\",\"kind\":\"Any\",\"default\":null},{\"name\":\"theme\",\"kind\":\"Any\",\"default\":\"primary\"},{\"name\":\"status\",\"kind\":\"Any\",\"default\":\"normalized\"}]},{\"type\":\"model\",\"name\":\"GridStack1\",\"properties\":[{\"name\":\"ncols\",\"kind\":\"Any\",\"default\":null},{\"name\":\"nrows\",\"kind\":\"Any\",\"default\":null},{\"name\":\"allow_resize\",\"kind\":\"Any\",\"default\":true},{\"name\":\"allow_drag\",\"kind\":\"Any\",\"default\":true},{\"name\":\"state\",\"kind\":\"Any\",\"default\":[]}]},{\"type\":\"model\",\"name\":\"drag1\",\"properties\":[{\"name\":\"slider_width\",\"kind\":\"Any\",\"default\":5},{\"name\":\"slider_color\",\"kind\":\"Any\",\"default\":\"black\"},{\"name\":\"value\",\"kind\":\"Any\",\"default\":50}]},{\"type\":\"model\",\"name\":\"click1\",\"properties\":[{\"name\":\"terminal_output\",\"kind\":\"Any\",\"default\":\"\"},{\"name\":\"debug_name\",\"kind\":\"Any\",\"default\":\"\"},{\"name\":\"clears\",\"kind\":\"Any\",\"default\":0}]},{\"type\":\"model\",\"name\":\"FastWrapper1\",\"properties\":[{\"name\":\"object\",\"kind\":\"Any\",\"default\":null},{\"name\":\"style\",\"kind\":\"Any\",\"default\":null}]},{\"type\":\"model\",\"name\":\"NotificationArea1\",\"properties\":[{\"name\":\"js_events\",\"kind\":\"Any\",\"default\":{\"type\":\"map\"}},{\"name\":\"max_notifications\",\"kind\":\"Any\",\"default\":5},{\"name\":\"notifications\",\"kind\":\"Any\",\"default\":[]},{\"name\":\"position\",\"kind\":\"Any\",\"default\":\"bottom-right\"},{\"name\":\"_clear\",\"kind\":\"Any\",\"default\":0},{\"name\":\"types\",\"kind\":\"Any\",\"default\":[{\"type\":\"map\",\"entries\":[[\"type\",\"warning\"],[\"background\",\"#ffc107\"],[\"icon\",{\"type\":\"map\",\"entries\":[[\"className\",\"fas fa-exclamation-triangle\"],[\"tagName\",\"i\"],[\"color\",\"white\"]]}]]},{\"type\":\"map\",\"entries\":[[\"type\",\"info\"],[\"background\",\"#007bff\"],[\"icon\",{\"type\":\"map\",\"entries\":[[\"className\",\"fas fa-info-circle\"],[\"tagName\",\"i\"],[\"color\",\"white\"]]}]]}]}]},{\"type\":\"model\",\"name\":\"Notification\",\"properties\":[{\"name\":\"background\",\"kind\":\"Any\",\"default\":null},{\"name\":\"duration\",\"kind\":\"Any\",\"default\":3000},{\"name\":\"icon\",\"kind\":\"Any\",\"default\":null},{\"name\":\"message\",\"kind\":\"Any\",\"default\":\"\"},{\"name\":\"notification_type\",\"kind\":\"Any\",\"default\":null},{\"name\":\"_rendered\",\"kind\":\"Any\",\"default\":false},{\"name\":\"_destroyed\",\"kind\":\"Any\",\"default\":false}]},{\"type\":\"model\",\"name\":\"TemplateActions1\",\"properties\":[{\"name\":\"open_modal\",\"kind\":\"Any\",\"default\":0},{\"name\":\"close_modal\",\"kind\":\"Any\",\"default\":0}]},{\"type\":\"model\",\"name\":\"BootstrapTemplateActions1\",\"properties\":[{\"name\":\"open_modal\",\"kind\":\"Any\",\"default\":0},{\"name\":\"close_modal\",\"kind\":\"Any\",\"default\":0}]},{\"type\":\"model\",\"name\":\"TemplateEditor1\",\"properties\":[{\"name\":\"layout\",\"kind\":\"Any\",\"default\":[]}]},{\"type\":\"model\",\"name\":\"MaterialTemplateActions1\",\"properties\":[{\"name\":\"open_modal\",\"kind\":\"Any\",\"default\":0},{\"name\":\"close_modal\",\"kind\":\"Any\",\"default\":0}]},{\"type\":\"model\",\"name\":\"ReactiveESM1\",\"properties\":[{\"name\":\"esm_constants\",\"kind\":\"Any\",\"default\":{\"type\":\"map\"}}]},{\"type\":\"model\",\"name\":\"JSComponent1\",\"properties\":[{\"name\":\"esm_constants\",\"kind\":\"Any\",\"default\":{\"type\":\"map\"}}]},{\"type\":\"model\",\"name\":\"ReactComponent1\",\"properties\":[{\"name\":\"esm_constants\",\"kind\":\"Any\",\"default\":{\"type\":\"map\"}}]},{\"type\":\"model\",\"name\":\"AnyWidgetComponent1\",\"properties\":[{\"name\":\"esm_constants\",\"kind\":\"Any\",\"default\":{\"type\":\"map\"}}]},{\"type\":\"model\",\"name\":\"request_value1\",\"properties\":[{\"name\":\"fill\",\"kind\":\"Any\",\"default\":\"none\"},{\"name\":\"_synced\",\"kind\":\"Any\",\"default\":null},{\"name\":\"_request_sync\",\"kind\":\"Any\",\"default\":0}]}]}};\n",
       "  var render_items = [{\"docid\":\"ca78cd50-79e9-4359-ad6c-4c96d59ad6ce\",\"roots\":{\"2467c726-613b-4a03-9765-8d5a799f0ae5\":\"eb44c851-4780-44fa-a502-1f65a94b000f\"},\"root_ids\":[\"2467c726-613b-4a03-9765-8d5a799f0ae5\"]}];\n",
       "  var docs = Object.values(docs_json)\n",
       "  if (!docs) {\n",
       "    return\n",
       "  }\n",
       "  const py_version = docs[0].version.replace('rc', '-rc.').replace('.dev', '-dev.')\n",
       "  async function embed_document(root) {\n",
       "    var Bokeh = get_bokeh(root)\n",
       "    await Bokeh.embed.embed_items_notebook(docs_json, render_items);\n",
       "    for (const render_item of render_items) {\n",
       "      for (const root_id of render_item.root_ids) {\n",
       "\tconst id_el = document.getElementById(root_id)\n",
       "\tif (id_el.children.length && id_el.children[0].hasAttribute('data-root-id')) {\n",
       "\t  const root_el = id_el.children[0]\n",
       "\t  root_el.id = root_el.id + '-rendered'\n",
       "\t  for (const child of root_el.children) {\n",
       "            // Ensure JupyterLab does not capture keyboard shortcuts\n",
       "            // see: https://jupyterlab.readthedocs.io/en/4.1.x/extension/notebook.html#keyboard-interaction-model\n",
       "\t    child.setAttribute('data-lm-suppress-shortcuts', 'true')\n",
       "\t  }\n",
       "\t}\n",
       "      }\n",
       "    }\n",
       "  }\n",
       "  function get_bokeh(root) {\n",
       "    if (root.Bokeh === undefined) {\n",
       "      return null\n",
       "    } else if (root.Bokeh.version !== py_version) {\n",
       "      if (root.Bokeh.versions === undefined || !root.Bokeh.versions.has(py_version)) {\n",
       "\treturn null\n",
       "      }\n",
       "      return root.Bokeh.versions.get(py_version);\n",
       "    } else if (root.Bokeh.version === py_version) {\n",
       "      return root.Bokeh\n",
       "    }\n",
       "    return null\n",
       "  }\n",
       "  function is_loaded(root) {\n",
       "    var Bokeh = get_bokeh(root)\n",
       "    return (Bokeh != null && Bokeh.Panel !== undefined && ( root.Tabulator !== undefined) && ( root.Plotly !== undefined) && ( root.Tabulator !== undefined) && ( root.Plotly !== undefined))\n",
       "  }\n",
       "  if (is_loaded(root)) {\n",
       "    embed_document(root);\n",
       "  } else {\n",
       "    var attempts = 0;\n",
       "    var timer = setInterval(function(root) {\n",
       "      if (is_loaded(root)) {\n",
       "        clearInterval(timer);\n",
       "        embed_document(root);\n",
       "      } else if (document.readyState == \"complete\") {\n",
       "        attempts++;\n",
       "        if (attempts > 200) {\n",
       "          clearInterval(timer);\n",
       "\t  var Bokeh = get_bokeh(root)\n",
       "\t  if (Bokeh == null || Bokeh.Panel == null) {\n",
       "            console.warn(\"Panel: ERROR: Unable to run Panel code because Bokeh or Panel library is missing\");\n",
       "\t  } else {\n",
       "\t    console.warn(\"Panel: WARNING: Attempting to render but not all required libraries could be resolved.\")\n",
       "\t    embed_document(root)\n",
       "\t  }\n",
       "        }\n",
       "      }\n",
       "    }, 25, root)\n",
       "  }\n",
       "})(window);</script>"
      ]
     },
     "metadata": {
      "application/vnd.holoviews_exec.v0+json": {
       "id": "2467c726-613b-4a03-9765-8d5a799f0ae5"
      }
     },
     "output_type": "display_data"
    }
   ],
   "source": [
    "from pathlib import Path\n",
    "\n",
    "import astropy.units as u\n",
    "\n",
    "from tardis.io.atom_data import AtomData\n",
    "from tardis.io.configuration.config_reader import Configuration\n",
    "from tardis.simulation import Simulation\n",
    "from tardis.transport.montecarlo.estimators.radfield_mc_estimators import (\n",
    "    initialize_estimator_statistics,\n",
    ")\n",
    "from tardis.transport.montecarlo.montecarlo_main_loop import (\n",
    "    montecarlo_main_loop,\n",
    ")\n",
    "from tardis.transport.montecarlo.packets.trackers import (\n",
    "    generate_rpacket_last_interaction_tracker_list,\n",
    "    generate_rpacket_tracker_list,\n",
    "    rpacket_last_interaction_tracker_list_to_dataframe,\n",
    ")"
   ]
  },
  {
   "cell_type": "code",
   "execution_count": 2,
   "id": "c8587ea2",
   "metadata": {},
   "outputs": [],
   "source": [
    "# User-configurable variables\n",
    "CONFIG_FILE_NAME = \"tardis_example.yml\"\n",
    "NUMBER_OF_PACKETS = 10000\n",
    "NUMBER_OF_VPACKETS = 0  # Set to 0 to disable virtual packets\n",
    "ITERATION_NUMBER = 1\n",
    "SHOW_PROGRESS_BARS = True\n",
    "TOTAL_ITERATIONS = 1\n",
    "ENABLE_RPACKET_TRACKING = False  # True: full tracking, False: last interaction only"
   ]
  },
  {
   "cell_type": "code",
   "execution_count": 3,
   "id": "99bb0749",
   "metadata": {},
   "outputs": [
    {
     "name": "stderr",
     "output_type": "stream",
     "text": [
      "WARNING\tTask(Task-3) tardis.io.model.parse_composition_configuration:parse_composition_configuration.py:parse_density_from_config()- Number of density points larger than number of shells. Assuming inner point irrelevant\n",
      "WARNING\tTask(Task-3) tardis.io.model.parse_mass_fraction_configuration:parse_mass_fraction_configuration.py:parse_mass_fractions_from_config()- model_isotope_time_0 is not set in the configuration. Isotopic mass fractions will not be decayed and is assumed to be correct for the time_explosion. THIS IS NOT RECOMMENDED!\n",
      "WARNING\tTask(Task-3) tardis.io.model.parse_mass_fraction_configuration:parse_mass_fraction_configuration.py:parse_mass_fractions_from_config()- model_isotope_time_0 is not set in the configuration. Isotopic mass fractions will not be decayed and is assumed to be correct for the time_explosion. THIS IS NOT RECOMMENDED!\n",
      "OMP: Info #276: omp_set_nested routine deprecated, please use omp_set_max_active_levels instead.\n",
      "OMP: Info #276: omp_set_nested routine deprecated, please use omp_set_max_active_levels instead.\n"
     ]
    },
    {
     "name": "stdout",
     "output_type": "stream",
     "text": [
      "Simulation created successfully!\n"
     ]
    }
   ],
   "source": [
    "# Setup simulation state from config\n",
    "config_file = Path(CONFIG_FILE_NAME)\n",
    "if not config_file.exists():\n",
    "    raise FileNotFoundError(f\"Configuration file {CONFIG_FILE_NAME} not found\")\n",
    "\n",
    "config = Configuration.from_yaml(str(config_file))\n",
    "atom_data = AtomData.from_hdf(\"kurucz_cd23_chianti_H_He_latest.h5\")\n",
    "sim = Simulation.from_config(config, atom_data=atom_data)\n",
    "\n",
    "print(\"Simulation created successfully!\")"
   ]
  },
  {
   "cell_type": "code",
   "execution_count": 4,
   "id": "b741a8fe",
   "metadata": {},
   "outputs": [
    {
     "name": "stdout",
     "output_type": "stream",
     "text": [
      "Opacity and macro atom states initialized!\n"
     ]
    }
   ],
   "source": [
    "# Initialize opacity and macro atom states manually\n",
    "sim.opacity_state = sim.opacity.legacy_solve(sim.plasma)\n",
    "\n",
    "if sim.macro_atom is not None:\n",
    "    sim.macro_atom_state = sim.macro_atom.solve(\n",
    "        sim.plasma.j_blues,\n",
    "        sim.plasma.atomic_data,\n",
    "        sim.opacity_state.tau_sobolev,\n",
    "        sim.plasma.stimulated_emission_factor,\n",
    "        sim.opacity_state.beta_sobolev,\n",
    "    )\n",
    "else:\n",
    "    sim.macro_atom_state = None\n",
    "\n",
    "print(\"Opacity and macro atom states initialized!\")"
   ]
  },
  {
   "cell_type": "code",
   "execution_count": 29,
   "id": "7c29a407",
   "metadata": {},
   "outputs": [
    {
     "name": "stdout",
     "output_type": "stream",
     "text": [
      "Monte Carlo states prepared!\n"
     ]
    }
   ],
   "source": [
    "# Extract states from simulation\n",
    "geometry_state = sim.simulation_state.geometry\n",
    "opacity_state = sim.opacity_state\n",
    "montecarlo_configuration = sim.transport.montecarlo_configuration\n",
    "time_explosion = sim.simulation_state.time_explosion.to(u.s).value\n",
    "spectrum_frequency_grid = sim.transport.spectrum_frequency_grid.to(u.Hz).value\n",
    "packet_source = sim.transport.packet_source\n",
    "\n",
    "# Initialize estimators\n",
    "tau_sobolev_shape = opacity_state.tau_sobolev.shape\n",
    "gamma_shape = (0, geometry_state.no_of_shells)\n",
    "estimators = initialize_estimator_statistics(tau_sobolev_shape, gamma_shape)\n",
    "\n",
    "# Convert to numba-compatible versions\n",
    "geometry_state_numba = geometry_state.to_numba()\n",
    "line_interaction_type = montecarlo_configuration.LINE_INTERACTION_TYPE\n",
    "opacity_state_numba = opacity_state.to_numba(sim.macro_atom_state, line_interaction_type)\n",
    "\n",
    "print(\"Monte Carlo states prepared!\")"
   ]
  },
  {
   "cell_type": "code",
   "execution_count": 35,
   "id": "0c6a4e3a",
   "metadata": {},
   "outputs": [
    {
     "name": "stdout",
     "output_type": "stream",
     "text": [
      "Using full RPacket tracking\n"
     ]
    }
   ],
   "source": [
    "# Create packet collection\n",
    "seed_offset = montecarlo_configuration.PACKET_SEEDS\n",
    "packet_collection = packet_source.create_packets(NUMBER_OF_PACKETS, seed_offset)\n",
    "ENABLE_RPACKET_TRACKING = True\n",
    "# Setup packet tracking\n",
    "if ENABLE_RPACKET_TRACKING:\n",
    "    rpacket_trackers = generate_rpacket_tracker_list(\n",
    "        NUMBER_OF_PACKETS,\n",
    "        montecarlo_configuration.INITIAL_TRACKING_ARRAY_LENGTH,\n",
    "    )\n",
    "    rpacket_tracker_collection = None\n",
    "    print(\"Using full RPacket tracking\")\n",
    "else:\n",
    "    # Initialize the last interaction tracker collection\n",
    "    # Generate individual trackers for the main loop\n",
    "    rpacket_trackers = generate_rpacket_last_interaction_tracker_list(\n",
    "        NUMBER_OF_PACKETS\n",
    "    )\n",
    "    print(\"Using last interaction tracking with collection\")"
   ]
  },
  {
   "cell_type": "code",
   "execution_count": 36,
   "id": "55289712",
   "metadata": {},
   "outputs": [],
   "source": [
    "# Run the Monte Carlo main loop\n",
    "v_packets_energy_hist, last_interaction_tracker, vpacket_tracker = (\n",
    "    montecarlo_main_loop(\n",
    "        packet_collection,\n",
    "        geometry_state_numba,\n",
    "        time_explosion,\n",
    "        opacity_state_numba,\n",
    "        montecarlo_configuration,\n",
    "        estimators,\n",
    "        spectrum_frequency_grid,\n",
    "        rpacket_trackers,\n",
    "        NUMBER_OF_VPACKETS,\n",
    "        SHOW_PROGRESS_BARS,\n",
    "    )\n",
    ")\n"
   ]
  },
  {
   "cell_type": "code",
   "execution_count": 37,
   "id": "99d1822d",
   "metadata": {},
   "outputs": [
    {
     "name": "stdout",
     "output_type": "stream",
     "text": [
      "Full tracking DataFrame created: (340470, 22)\n",
      "Available columns: ['status', 'seed', 'r', 'nu', 'mu', 'energy', 'shell_id', 'interaction_type', 'line_before_nu', 'line_before_mu', 'line_before_id', 'line_after_nu', 'line_after_mu', 'line_after_id', 'escat_before_mu', 'escat_after_mu', 'continuum_before_nu', 'continuum_before_energy', 'continuum_before_mu', 'continuum_after_nu', 'continuum_after_energy', 'continuum_after_mu']\n"
     ]
    }
   ],
   "source": [
    "# Create DataFrame from tracker data\n",
    "if ENABLE_RPACKET_TRACKING:\n",
    "    # Full tracking: convert from rpacket_trackers list\n",
    "    from tardis.transport.montecarlo.packets.trackers import rpacket_trackers_to_dataframe\n",
    "    tracker_df = rpacket_trackers_to_dataframe(rpacket_trackers)\n",
    "    print(f\"Full tracking DataFrame created: {tracker_df.shape}\")\n",
    "else:\n",
    "    # Last interaction tracking: convert from rpacket_trackers list  \n",
    "    tracker_df = rpacket_last_interaction_tracker_list_to_dataframe(rpacket_trackers)\n",
    "    print(f\"Last interaction DataFrame created: {tracker_df.shape}\")\n",
    "\n",
    "print(\"Available columns:\", list(tracker_df.columns))"
   ]
  },
  {
   "cell_type": "code",
   "execution_count": 38,
   "id": "82d9df7f",
   "metadata": {},
   "outputs": [
    {
     "data": {
      "application/vnd.microsoft.datawrangler.viewer.v0+json": {
       "columns": [
        {
         "name": "packet_id",
         "rawType": "int64",
         "type": "integer"
        },
        {
         "name": "last_interaction_type",
         "rawType": "category",
         "type": "unknown"
        },
        {
         "name": "last_line_interaction_in_id",
         "rawType": "int64",
         "type": "integer"
        },
        {
         "name": "last_line_interaction_in_nu",
         "rawType": "float64",
         "type": "float"
        },
        {
         "name": "last_line_interaction_out_id",
         "rawType": "int64",
         "type": "integer"
        }
       ],
       "ref": "bc4c0a1b-6271-46d9-84a4-6b441fe9ccd5",
       "rows": [
        [
         "0",
         "ESCATTERING",
         "-1",
         "515024364456914.2",
         "-1"
        ],
        [
         "1",
         "ESCATTERING",
         "-1",
         "1031472634850978.2",
         "-1"
        ],
        [
         "2",
         "ESCATTERING",
         "-1",
         "1188678090795660.0",
         "-1"
        ],
        [
         "3",
         "ESCATTERING",
         "-1",
         "736141785508229.4",
         "-1"
        ],
        [
         "4",
         "NO_INTERACTION",
         "-1",
         "276378974703694.97",
         "-1"
        ],
        [
         "5",
         "ESCATTERING",
         "-1",
         "447553267050125.5",
         "-1"
        ],
        [
         "6",
         "ESCATTERING",
         "-1",
         "1221541489637203.5",
         "-1"
        ],
        [
         "7",
         "NO_INTERACTION",
         "-1",
         "327890749680638.6",
         "-1"
        ],
        [
         "8",
         "LINE",
         "5953",
         "1435384189581043.0",
         "5953"
        ],
        [
         "9",
         "LINE",
         "5501",
         "1659509156076356.8",
         "5501"
        ],
        [
         "10",
         "ESCATTERING",
         "-1",
         "961606610904368.8",
         "-1"
        ],
        [
         "11",
         "NO_INTERACTION",
         "-1",
         "929985308378332.2",
         "-1"
        ],
        [
         "12",
         "LINE",
         "3379",
         "2919347655520987.5",
         "3379"
        ],
        [
         "13",
         "ESCATTERING",
         "-1",
         "133867058321231.56",
         "-1"
        ],
        [
         "14",
         "ESCATTERING",
         "-1",
         "851911624586512.9",
         "-1"
        ],
        [
         "15",
         "ESCATTERING",
         "-1",
         "769064274864041.5",
         "-1"
        ],
        [
         "16",
         "ESCATTERING",
         "-1",
         "968775314933554.8",
         "-1"
        ],
        [
         "17",
         "ESCATTERING",
         "-1",
         "265365844717830.03",
         "-1"
        ],
        [
         "18",
         "NO_INTERACTION",
         "-1",
         "1028852379149156.6",
         "-1"
        ],
        [
         "19",
         "NO_INTERACTION",
         "-1",
         "1793366510547234.5",
         "-1"
        ],
        [
         "20",
         "NO_INTERACTION",
         "-1",
         "496954494581466.1",
         "-1"
        ],
        [
         "21",
         "NO_INTERACTION",
         "-1",
         "250424846805357.06",
         "-1"
        ],
        [
         "22",
         "LINE",
         "10967",
         "638096355790317.9",
         "10967"
        ],
        [
         "23",
         "ESCATTERING",
         "-1",
         "693715313912530.2",
         "-1"
        ],
        [
         "24",
         "ESCATTERING",
         "-1",
         "1011609129073821.9",
         "-1"
        ],
        [
         "25",
         "NO_INTERACTION",
         "-1",
         "751924446959543.6",
         "-1"
        ],
        [
         "26",
         "NO_INTERACTION",
         "-1",
         "440098832369629.9",
         "-1"
        ],
        [
         "27",
         "ESCATTERING",
         "-1",
         "885278945544249.1",
         "-1"
        ],
        [
         "28",
         "ESCATTERING",
         "-1",
         "443713906784359.2",
         "-1"
        ],
        [
         "29",
         "NO_INTERACTION",
         "-1",
         "409970903873707.0",
         "-1"
        ],
        [
         "30",
         "NO_INTERACTION",
         "-1",
         "935625695092406.0",
         "-1"
        ],
        [
         "31",
         "LINE",
         "7139",
         "1226030403051119.8",
         "7139"
        ],
        [
         "32",
         "ESCATTERING",
         "-1",
         "1230953747189499.5",
         "-1"
        ],
        [
         "33",
         "NO_INTERACTION",
         "-1",
         "480634095220560.1",
         "-1"
        ],
        [
         "34",
         "LINE",
         "10029",
         "716666902066353.9",
         "10029"
        ],
        [
         "35",
         "NO_INTERACTION",
         "-1",
         "580747654020495.4",
         "-1"
        ],
        [
         "36",
         "ESCATTERING",
         "-1",
         "611782071143771.2",
         "-1"
        ],
        [
         "37",
         "ESCATTERING",
         "-1",
         "1308919258185045.2",
         "-1"
        ],
        [
         "38",
         "NO_INTERACTION",
         "-1",
         "1558918436273779.2",
         "-1"
        ],
        [
         "39",
         "LINE",
         "10757",
         "653160730791300.2",
         "10757"
        ],
        [
         "40",
         "NO_INTERACTION",
         "-1",
         "519196513913473.25",
         "-1"
        ],
        [
         "41",
         "LINE",
         "9511",
         "785940398833250.5",
         "9511"
        ],
        [
         "42",
         "ESCATTERING",
         "-1",
         "1439903914301323.5",
         "-1"
        ],
        [
         "43",
         "ESCATTERING",
         "-1",
         "510219890493437.75",
         "-1"
        ],
        [
         "44",
         "ESCATTERING",
         "-1",
         "1523318384076355.5",
         "-1"
        ],
        [
         "45",
         "NO_INTERACTION",
         "-1",
         "1374633493325019.2",
         "-1"
        ],
        [
         "46",
         "ESCATTERING",
         "-1",
         "443845073998541.6",
         "-1"
        ],
        [
         "47",
         "ESCATTERING",
         "-1",
         "446019390713300.5",
         "-1"
        ],
        [
         "48",
         "ESCATTERING",
         "-1",
         "1361600220839541.0",
         "-1"
        ],
        [
         "49",
         "NO_INTERACTION",
         "-1",
         "353316890853001.1",
         "-1"
        ]
       ],
       "shape": {
        "columns": 4,
        "rows": 10000
       }
      },
      "text/html": [
       "<div>\n",
       "<style scoped>\n",
       "    .dataframe tbody tr th:only-of-type {\n",
       "        vertical-align: middle;\n",
       "    }\n",
       "\n",
       "    .dataframe tbody tr th {\n",
       "        vertical-align: top;\n",
       "    }\n",
       "\n",
       "    .dataframe thead th {\n",
       "        text-align: right;\n",
       "    }\n",
       "</style>\n",
       "<table border=\"1\" class=\"dataframe\">\n",
       "  <thead>\n",
       "    <tr style=\"text-align: right;\">\n",
       "      <th></th>\n",
       "      <th>last_interaction_type</th>\n",
       "      <th>last_line_interaction_in_id</th>\n",
       "      <th>last_line_interaction_in_nu</th>\n",
       "      <th>last_line_interaction_out_id</th>\n",
       "    </tr>\n",
       "    <tr>\n",
       "      <th>packet_id</th>\n",
       "      <th></th>\n",
       "      <th></th>\n",
       "      <th></th>\n",
       "      <th></th>\n",
       "    </tr>\n",
       "  </thead>\n",
       "  <tbody>\n",
       "    <tr>\n",
       "      <th>0</th>\n",
       "      <td>ESCATTERING</td>\n",
       "      <td>-1</td>\n",
       "      <td>5.150244e+14</td>\n",
       "      <td>-1</td>\n",
       "    </tr>\n",
       "    <tr>\n",
       "      <th>1</th>\n",
       "      <td>ESCATTERING</td>\n",
       "      <td>-1</td>\n",
       "      <td>1.031473e+15</td>\n",
       "      <td>-1</td>\n",
       "    </tr>\n",
       "    <tr>\n",
       "      <th>2</th>\n",
       "      <td>ESCATTERING</td>\n",
       "      <td>-1</td>\n",
       "      <td>1.188678e+15</td>\n",
       "      <td>-1</td>\n",
       "    </tr>\n",
       "    <tr>\n",
       "      <th>3</th>\n",
       "      <td>ESCATTERING</td>\n",
       "      <td>-1</td>\n",
       "      <td>7.361418e+14</td>\n",
       "      <td>-1</td>\n",
       "    </tr>\n",
       "    <tr>\n",
       "      <th>4</th>\n",
       "      <td>NO_INTERACTION</td>\n",
       "      <td>-1</td>\n",
       "      <td>2.763790e+14</td>\n",
       "      <td>-1</td>\n",
       "    </tr>\n",
       "    <tr>\n",
       "      <th>...</th>\n",
       "      <td>...</td>\n",
       "      <td>...</td>\n",
       "      <td>...</td>\n",
       "      <td>...</td>\n",
       "    </tr>\n",
       "    <tr>\n",
       "      <th>9995</th>\n",
       "      <td>NO_INTERACTION</td>\n",
       "      <td>-1</td>\n",
       "      <td>4.272588e+14</td>\n",
       "      <td>-1</td>\n",
       "    </tr>\n",
       "    <tr>\n",
       "      <th>9996</th>\n",
       "      <td>NO_INTERACTION</td>\n",
       "      <td>-1</td>\n",
       "      <td>1.888737e+14</td>\n",
       "      <td>-1</td>\n",
       "    </tr>\n",
       "    <tr>\n",
       "      <th>9997</th>\n",
       "      <td>NO_INTERACTION</td>\n",
       "      <td>-1</td>\n",
       "      <td>3.801189e+14</td>\n",
       "      <td>-1</td>\n",
       "    </tr>\n",
       "    <tr>\n",
       "      <th>9998</th>\n",
       "      <td>NO_INTERACTION</td>\n",
       "      <td>-1</td>\n",
       "      <td>7.187764e+14</td>\n",
       "      <td>-1</td>\n",
       "    </tr>\n",
       "    <tr>\n",
       "      <th>9999</th>\n",
       "      <td>LINE</td>\n",
       "      <td>9511</td>\n",
       "      <td>7.727321e+14</td>\n",
       "      <td>9511</td>\n",
       "    </tr>\n",
       "  </tbody>\n",
       "</table>\n",
       "<p>10000 rows × 4 columns</p>\n",
       "</div>"
      ],
      "text/plain": [
       "          last_interaction_type  last_line_interaction_in_id  \\\n",
       "packet_id                                                      \n",
       "0                   ESCATTERING                           -1   \n",
       "1                   ESCATTERING                           -1   \n",
       "2                   ESCATTERING                           -1   \n",
       "3                   ESCATTERING                           -1   \n",
       "4                NO_INTERACTION                           -1   \n",
       "...                         ...                          ...   \n",
       "9995             NO_INTERACTION                           -1   \n",
       "9996             NO_INTERACTION                           -1   \n",
       "9997             NO_INTERACTION                           -1   \n",
       "9998             NO_INTERACTION                           -1   \n",
       "9999                       LINE                         9511   \n",
       "\n",
       "           last_line_interaction_in_nu  last_line_interaction_out_id  \n",
       "packet_id                                                             \n",
       "0                         5.150244e+14                            -1  \n",
       "1                         1.031473e+15                            -1  \n",
       "2                         1.188678e+15                            -1  \n",
       "3                         7.361418e+14                            -1  \n",
       "4                         2.763790e+14                            -1  \n",
       "...                                ...                           ...  \n",
       "9995                      4.272588e+14                            -1  \n",
       "9996                      1.888737e+14                            -1  \n",
       "9997                      3.801189e+14                            -1  \n",
       "9998                      7.187764e+14                            -1  \n",
       "9999                      7.727321e+14                          9511  \n",
       "\n",
       "[10000 rows x 4 columns]"
      ]
     },
     "execution_count": 38,
     "metadata": {},
     "output_type": "execute_result"
    }
   ],
   "source": [
    "last_tracker_df"
   ]
  },
  {
   "cell_type": "code",
   "execution_count": null,
   "id": "1152f6d3",
   "metadata": {},
   "outputs": [
    {
     "name": "stdout",
     "output_type": "stream",
     "text": [
      "Converting full tracking DataFrame to last interaction format...\n",
      "Last interaction DataFrame shape: (10000, 8)\n",
      "Last interaction DataFrame columns: ['last_interaction_type', 'last_r', 'last_nu', 'last_mu', 'last_energy', 'last_shell_id', 'last_line_interaction_in_id', 'last_line_interaction_out_id']\n",
      "\n",
      "Sample last interactions:\n",
      "          last_interaction_type  last_r  last_nu  last_mu  last_energy  \\\n",
      "packet_id                                                                \n",
      "0                NO_INTERACTION     0.0      0.0      0.0          0.0   \n",
      "1                NO_INTERACTION     0.0      0.0      0.0          0.0   \n",
      "2                NO_INTERACTION     0.0      0.0      0.0          0.0   \n",
      "3                NO_INTERACTION     0.0      0.0      0.0          0.0   \n",
      "4                NO_INTERACTION     0.0      0.0      0.0          0.0   \n",
      "\n",
      "           last_shell_id  last_line_interaction_in_id  \\\n",
      "packet_id                                               \n",
      "0                      0                           -1   \n",
      "1                      0                           -1   \n",
      "2                      0                           -1   \n",
      "3                      0                           -1   \n",
      "4                      0                           -1   \n",
      "\n",
      "           last_line_interaction_out_id  \n",
      "packet_id                                \n",
      "0                                    -1  \n",
      "1                                    -1  \n",
      "2                                    -1  \n",
      "3                                    -1  \n",
      "4                                    -1  \n"
     ]
    }
   ],
   "source": [
    "def convert_to_last_interaction_dataframe(full_tracker_df):\n",
    "    \"\"\"\n",
    "    Convert full interaction DataFrame to last interaction DataFrame.\n",
    "    \n",
    "    Matches the behavior of RPacketLastInteractionTracker which captures\n",
    "    the final packet state regardless of interaction type.\n",
    "    \n",
    "    Parameters\n",
    "    ----------\n",
    "    full_tracker_df : pandas.DataFrame\n",
    "        Full tracking DataFrame with multi-index (packet_id, step)\n",
    "        \n",
    "    Returns\n",
    "    -------\n",
    "    pandas.DataFrame\n",
    "        Last interaction DataFrame with one row per packet\n",
    "    \"\"\"\n",
    "    import pandas as pd\n",
    "    from tardis.transport.montecarlo.packets.radiative_packet import InteractionType\n",
    "    from pandas.api.types import CategoricalDtype\n",
    "    \n",
    "    # Reset index to work with packet_id and step as columns\n",
    "    df = full_tracker_df.reset_index()\n",
    "    \n",
    "    last_interactions = []\n",
    "    \n",
    "    for packet_id in df['packet_id'].unique():\n",
    "        # Get all interactions for this packet\n",
    "        packet_data = df[df['packet_id'] == packet_id]\n",
    "        \n",
    "        if len(packet_data) == 0:\n",
    "            continue\n",
    "            \n",
    "        # Get the very last row (final state) - this matches last interaction tracker behavior\n",
    "        last_row = packet_data.iloc[-1].copy()\n",
    "        \n",
    "        # Create the last interaction row matching the expected format exactly\n",
    "        # Only include the columns that the native last interaction tracker produces\n",
    "        last_interaction_row = {\n",
    "            'packet_id': packet_id,\n",
    "            'last_interaction_type': last_row['interaction_type'],\n",
    "            'last_line_interaction_in_id': last_row.get('line_interaction_in_id', -1),\n",
    "            'last_line_interaction_in_nu': last_row['nu'],  # Use current frequency as input frequency\n",
    "            'last_line_interaction_out_id': last_row.get('line_interaction_out_id', -1),\n",
    "        }\n",
    "        \n",
    "        # Fix line interaction handling - if not a line interaction, set IDs to -1\n",
    "        if last_row['interaction_type'] != InteractionType.LINE:\n",
    "            last_interaction_row['last_line_interaction_in_id'] = -1\n",
    "            last_interaction_row['last_line_interaction_out_id'] = -1\n",
    "            \n",
    "        last_interactions.append(last_interaction_row)\n",
    "    \n",
    "    # Create DataFrame from collected last interactions\n",
    "    last_interaction_df = pd.DataFrame(last_interactions)\n",
    "    last_interaction_df.set_index('packet_id', inplace=True)\n",
    "    \n",
    "    # Create categorical dtype matching the native implementation\n",
    "    interaction_type_dtype = CategoricalDtype(\n",
    "        categories=[member.name for member in InteractionType],\n",
    "        ordered=False\n",
    "    )\n",
    "    \n",
    "    # Convert interaction_type to categorical to match native format\n",
    "    last_interaction_df['last_interaction_type'] = pd.Categorical(\n",
    "        [InteractionType(last_interaction_df.loc[idx, 'last_interaction_type']).name \n",
    "         for idx in last_interaction_df.index],\n",
    "        dtype=interaction_type_dtype\n",
    "    )\n",
    "    \n",
    "    return last_interaction_df\n",
    "\n",
    "# Test the function if we have full tracking data\n",
    "if ENABLE_RPACKET_TRACKING and 'tracker_df' in locals():\n",
    "    print(\"Converting full tracking DataFrame to last interaction format...\")\n",
    "    last_interaction_df = convert_to_last_interaction_dataframe(tracker_df)\n",
    "    print(f\"Last interaction DataFrame shape: {last_interaction_df.shape}\")\n",
    "    print(\"Last interaction DataFrame columns:\", list(last_interaction_df.columns))\n",
    "    print(\"\\nSample last interactions:\")\n",
    "    print(last_interaction_df.head())\n",
    "else:\n",
    "    print(\"Function defined. Set ENABLE_RPACKET_TRACKING=True to test conversion.\")"
   ]
  },
  {
   "cell_type": "code",
   "execution_count": 40,
   "id": "d3019492",
   "metadata": {},
   "outputs": [
    {
     "data": {
      "application/vnd.microsoft.datawrangler.viewer.v0+json": {
       "columns": [
        {
         "name": "packet_id",
         "rawType": "int64",
         "type": "integer"
        },
        {
         "name": "last_interaction_type",
         "rawType": "object",
         "type": "string"
        },
        {
         "name": "last_r",
         "rawType": "float64",
         "type": "float"
        },
        {
         "name": "last_nu",
         "rawType": "float64",
         "type": "float"
        },
        {
         "name": "last_mu",
         "rawType": "float64",
         "type": "float"
        },
        {
         "name": "last_energy",
         "rawType": "float64",
         "type": "float"
        },
        {
         "name": "last_shell_id",
         "rawType": "int64",
         "type": "integer"
        },
        {
         "name": "last_line_interaction_in_id",
         "rawType": "int64",
         "type": "integer"
        },
        {
         "name": "last_line_interaction_out_id",
         "rawType": "int64",
         "type": "integer"
        }
       ],
       "ref": "45bcf32e-1291-4637-8978-58e8d4161e93",
       "rows": [
        [
         "0",
         "NO_INTERACTION",
         "0.0",
         "0.0",
         "0.0",
         "0.0",
         "0",
         "-1",
         "-1"
        ],
        [
         "1",
         "NO_INTERACTION",
         "0.0",
         "0.0",
         "0.0",
         "0.0",
         "0",
         "-1",
         "-1"
        ],
        [
         "2",
         "NO_INTERACTION",
         "0.0",
         "0.0",
         "0.0",
         "0.0",
         "0",
         "-1",
         "-1"
        ],
        [
         "3",
         "NO_INTERACTION",
         "0.0",
         "0.0",
         "0.0",
         "0.0",
         "0",
         "-1",
         "-1"
        ],
        [
         "4",
         "NO_INTERACTION",
         "0.0",
         "0.0",
         "0.0",
         "0.0",
         "0",
         "-1",
         "-1"
        ],
        [
         "5",
         "NO_INTERACTION",
         "0.0",
         "0.0",
         "0.0",
         "0.0",
         "0",
         "-1",
         "-1"
        ],
        [
         "6",
         "NO_INTERACTION",
         "0.0",
         "0.0",
         "0.0",
         "0.0",
         "0",
         "-1",
         "-1"
        ],
        [
         "7",
         "NO_INTERACTION",
         "0.0",
         "0.0",
         "0.0",
         "0.0",
         "0",
         "-1",
         "-1"
        ],
        [
         "8",
         "NO_INTERACTION",
         "0.0",
         "0.0",
         "0.0",
         "0.0",
         "0",
         "-1",
         "-1"
        ],
        [
         "9",
         "NO_INTERACTION",
         "0.0",
         "0.0",
         "0.0",
         "0.0",
         "0",
         "-1",
         "-1"
        ],
        [
         "10",
         "NO_INTERACTION",
         "0.0",
         "0.0",
         "0.0",
         "0.0",
         "0",
         "-1",
         "-1"
        ],
        [
         "11",
         "NO_INTERACTION",
         "0.0",
         "0.0",
         "0.0",
         "0.0",
         "0",
         "-1",
         "-1"
        ],
        [
         "12",
         "NO_INTERACTION",
         "0.0",
         "0.0",
         "0.0",
         "0.0",
         "0",
         "-1",
         "-1"
        ],
        [
         "13",
         "NO_INTERACTION",
         "0.0",
         "0.0",
         "0.0",
         "0.0",
         "0",
         "-1",
         "-1"
        ],
        [
         "14",
         "NO_INTERACTION",
         "0.0",
         "0.0",
         "0.0",
         "0.0",
         "0",
         "-1",
         "-1"
        ],
        [
         "15",
         "NO_INTERACTION",
         "0.0",
         "0.0",
         "0.0",
         "0.0",
         "0",
         "-1",
         "-1"
        ],
        [
         "16",
         "NO_INTERACTION",
         "0.0",
         "0.0",
         "0.0",
         "0.0",
         "0",
         "-1",
         "-1"
        ],
        [
         "17",
         "NO_INTERACTION",
         "0.0",
         "0.0",
         "0.0",
         "0.0",
         "0",
         "-1",
         "-1"
        ],
        [
         "18",
         "NO_INTERACTION",
         "0.0",
         "0.0",
         "0.0",
         "0.0",
         "0",
         "-1",
         "-1"
        ],
        [
         "19",
         "NO_INTERACTION",
         "0.0",
         "0.0",
         "0.0",
         "0.0",
         "0",
         "-1",
         "-1"
        ],
        [
         "20",
         "NO_INTERACTION",
         "0.0",
         "0.0",
         "0.0",
         "0.0",
         "0",
         "-1",
         "-1"
        ],
        [
         "21",
         "NO_INTERACTION",
         "0.0",
         "0.0",
         "0.0",
         "0.0",
         "0",
         "-1",
         "-1"
        ],
        [
         "22",
         "NO_INTERACTION",
         "0.0",
         "0.0",
         "0.0",
         "0.0",
         "0",
         "-1",
         "-1"
        ],
        [
         "23",
         "NO_INTERACTION",
         "0.0",
         "0.0",
         "0.0",
         "0.0",
         "0",
         "-1",
         "-1"
        ],
        [
         "24",
         "NO_INTERACTION",
         "0.0",
         "0.0",
         "0.0",
         "0.0",
         "0",
         "-1",
         "-1"
        ],
        [
         "25",
         "NO_INTERACTION",
         "0.0",
         "0.0",
         "0.0",
         "0.0",
         "0",
         "-1",
         "-1"
        ],
        [
         "26",
         "NO_INTERACTION",
         "0.0",
         "0.0",
         "0.0",
         "0.0",
         "0",
         "-1",
         "-1"
        ],
        [
         "27",
         "NO_INTERACTION",
         "0.0",
         "0.0",
         "0.0",
         "0.0",
         "0",
         "-1",
         "-1"
        ],
        [
         "28",
         "NO_INTERACTION",
         "0.0",
         "0.0",
         "0.0",
         "0.0",
         "0",
         "-1",
         "-1"
        ],
        [
         "29",
         "NO_INTERACTION",
         "0.0",
         "0.0",
         "0.0",
         "0.0",
         "0",
         "-1",
         "-1"
        ],
        [
         "30",
         "NO_INTERACTION",
         "0.0",
         "0.0",
         "0.0",
         "0.0",
         "0",
         "-1",
         "-1"
        ],
        [
         "31",
         "NO_INTERACTION",
         "0.0",
         "0.0",
         "0.0",
         "0.0",
         "0",
         "-1",
         "-1"
        ],
        [
         "32",
         "NO_INTERACTION",
         "0.0",
         "0.0",
         "0.0",
         "0.0",
         "0",
         "-1",
         "-1"
        ],
        [
         "33",
         "NO_INTERACTION",
         "0.0",
         "0.0",
         "0.0",
         "0.0",
         "0",
         "-1",
         "-1"
        ],
        [
         "34",
         "NO_INTERACTION",
         "0.0",
         "0.0",
         "0.0",
         "0.0",
         "0",
         "-1",
         "-1"
        ],
        [
         "35",
         "NO_INTERACTION",
         "0.0",
         "0.0",
         "0.0",
         "0.0",
         "0",
         "-1",
         "-1"
        ],
        [
         "36",
         "NO_INTERACTION",
         "0.0",
         "0.0",
         "0.0",
         "0.0",
         "0",
         "-1",
         "-1"
        ],
        [
         "37",
         "NO_INTERACTION",
         "0.0",
         "0.0",
         "0.0",
         "0.0",
         "0",
         "-1",
         "-1"
        ],
        [
         "38",
         "NO_INTERACTION",
         "0.0",
         "0.0",
         "0.0",
         "0.0",
         "0",
         "-1",
         "-1"
        ],
        [
         "39",
         "NO_INTERACTION",
         "0.0",
         "0.0",
         "0.0",
         "0.0",
         "0",
         "-1",
         "-1"
        ],
        [
         "40",
         "NO_INTERACTION",
         "0.0",
         "0.0",
         "0.0",
         "0.0",
         "0",
         "-1",
         "-1"
        ],
        [
         "41",
         "NO_INTERACTION",
         "0.0",
         "0.0",
         "0.0",
         "0.0",
         "0",
         "-1",
         "-1"
        ],
        [
         "42",
         "NO_INTERACTION",
         "0.0",
         "0.0",
         "0.0",
         "0.0",
         "0",
         "-1",
         "-1"
        ],
        [
         "43",
         "NO_INTERACTION",
         "0.0",
         "0.0",
         "0.0",
         "0.0",
         "0",
         "-1",
         "-1"
        ],
        [
         "44",
         "ESCATTERING",
         "1286064000000000.0",
         "1523318384076355.5",
         "-0.767311895995841",
         "9.580693622676062e-05",
         "0",
         "-1",
         "-1"
        ],
        [
         "45",
         "NO_INTERACTION",
         "0.0",
         "0.0",
         "0.0",
         "0.0",
         "0",
         "-1",
         "-1"
        ],
        [
         "46",
         "NO_INTERACTION",
         "0.0",
         "0.0",
         "0.0",
         "0.0",
         "0",
         "-1",
         "-1"
        ],
        [
         "47",
         "NO_INTERACTION",
         "0.0",
         "0.0",
         "0.0",
         "0.0",
         "0",
         "-1",
         "-1"
        ],
        [
         "48",
         "NO_INTERACTION",
         "0.0",
         "0.0",
         "0.0",
         "0.0",
         "0",
         "-1",
         "-1"
        ],
        [
         "49",
         "NO_INTERACTION",
         "0.0",
         "0.0",
         "0.0",
         "0.0",
         "0",
         "-1",
         "-1"
        ]
       ],
       "shape": {
        "columns": 8,
        "rows": 10000
       }
      },
      "text/html": [
       "<div>\n",
       "<style scoped>\n",
       "    .dataframe tbody tr th:only-of-type {\n",
       "        vertical-align: middle;\n",
       "    }\n",
       "\n",
       "    .dataframe tbody tr th {\n",
       "        vertical-align: top;\n",
       "    }\n",
       "\n",
       "    .dataframe thead th {\n",
       "        text-align: right;\n",
       "    }\n",
       "</style>\n",
       "<table border=\"1\" class=\"dataframe\">\n",
       "  <thead>\n",
       "    <tr style=\"text-align: right;\">\n",
       "      <th></th>\n",
       "      <th>last_interaction_type</th>\n",
       "      <th>last_r</th>\n",
       "      <th>last_nu</th>\n",
       "      <th>last_mu</th>\n",
       "      <th>last_energy</th>\n",
       "      <th>last_shell_id</th>\n",
       "      <th>last_line_interaction_in_id</th>\n",
       "      <th>last_line_interaction_out_id</th>\n",
       "    </tr>\n",
       "    <tr>\n",
       "      <th>packet_id</th>\n",
       "      <th></th>\n",
       "      <th></th>\n",
       "      <th></th>\n",
       "      <th></th>\n",
       "      <th></th>\n",
       "      <th></th>\n",
       "      <th></th>\n",
       "      <th></th>\n",
       "    </tr>\n",
       "  </thead>\n",
       "  <tbody>\n",
       "    <tr>\n",
       "      <th>0</th>\n",
       "      <td>NO_INTERACTION</td>\n",
       "      <td>0.0</td>\n",
       "      <td>0.0</td>\n",
       "      <td>0.0</td>\n",
       "      <td>0.0</td>\n",
       "      <td>0</td>\n",
       "      <td>-1</td>\n",
       "      <td>-1</td>\n",
       "    </tr>\n",
       "    <tr>\n",
       "      <th>1</th>\n",
       "      <td>NO_INTERACTION</td>\n",
       "      <td>0.0</td>\n",
       "      <td>0.0</td>\n",
       "      <td>0.0</td>\n",
       "      <td>0.0</td>\n",
       "      <td>0</td>\n",
       "      <td>-1</td>\n",
       "      <td>-1</td>\n",
       "    </tr>\n",
       "    <tr>\n",
       "      <th>2</th>\n",
       "      <td>NO_INTERACTION</td>\n",
       "      <td>0.0</td>\n",
       "      <td>0.0</td>\n",
       "      <td>0.0</td>\n",
       "      <td>0.0</td>\n",
       "      <td>0</td>\n",
       "      <td>-1</td>\n",
       "      <td>-1</td>\n",
       "    </tr>\n",
       "    <tr>\n",
       "      <th>3</th>\n",
       "      <td>NO_INTERACTION</td>\n",
       "      <td>0.0</td>\n",
       "      <td>0.0</td>\n",
       "      <td>0.0</td>\n",
       "      <td>0.0</td>\n",
       "      <td>0</td>\n",
       "      <td>-1</td>\n",
       "      <td>-1</td>\n",
       "    </tr>\n",
       "    <tr>\n",
       "      <th>4</th>\n",
       "      <td>NO_INTERACTION</td>\n",
       "      <td>0.0</td>\n",
       "      <td>0.0</td>\n",
       "      <td>0.0</td>\n",
       "      <td>0.0</td>\n",
       "      <td>0</td>\n",
       "      <td>-1</td>\n",
       "      <td>-1</td>\n",
       "    </tr>\n",
       "    <tr>\n",
       "      <th>...</th>\n",
       "      <td>...</td>\n",
       "      <td>...</td>\n",
       "      <td>...</td>\n",
       "      <td>...</td>\n",
       "      <td>...</td>\n",
       "      <td>...</td>\n",
       "      <td>...</td>\n",
       "      <td>...</td>\n",
       "    </tr>\n",
       "    <tr>\n",
       "      <th>9995</th>\n",
       "      <td>NO_INTERACTION</td>\n",
       "      <td>0.0</td>\n",
       "      <td>0.0</td>\n",
       "      <td>0.0</td>\n",
       "      <td>0.0</td>\n",
       "      <td>0</td>\n",
       "      <td>-1</td>\n",
       "      <td>-1</td>\n",
       "    </tr>\n",
       "    <tr>\n",
       "      <th>9996</th>\n",
       "      <td>NO_INTERACTION</td>\n",
       "      <td>0.0</td>\n",
       "      <td>0.0</td>\n",
       "      <td>0.0</td>\n",
       "      <td>0.0</td>\n",
       "      <td>0</td>\n",
       "      <td>-1</td>\n",
       "      <td>-1</td>\n",
       "    </tr>\n",
       "    <tr>\n",
       "      <th>9997</th>\n",
       "      <td>NO_INTERACTION</td>\n",
       "      <td>0.0</td>\n",
       "      <td>0.0</td>\n",
       "      <td>0.0</td>\n",
       "      <td>0.0</td>\n",
       "      <td>0</td>\n",
       "      <td>-1</td>\n",
       "      <td>-1</td>\n",
       "    </tr>\n",
       "    <tr>\n",
       "      <th>9998</th>\n",
       "      <td>NO_INTERACTION</td>\n",
       "      <td>0.0</td>\n",
       "      <td>0.0</td>\n",
       "      <td>0.0</td>\n",
       "      <td>0.0</td>\n",
       "      <td>0</td>\n",
       "      <td>-1</td>\n",
       "      <td>-1</td>\n",
       "    </tr>\n",
       "    <tr>\n",
       "      <th>9999</th>\n",
       "      <td>NO_INTERACTION</td>\n",
       "      <td>0.0</td>\n",
       "      <td>0.0</td>\n",
       "      <td>0.0</td>\n",
       "      <td>0.0</td>\n",
       "      <td>0</td>\n",
       "      <td>-1</td>\n",
       "      <td>-1</td>\n",
       "    </tr>\n",
       "  </tbody>\n",
       "</table>\n",
       "<p>10000 rows × 8 columns</p>\n",
       "</div>"
      ],
      "text/plain": [
       "          last_interaction_type  last_r  last_nu  last_mu  last_energy  \\\n",
       "packet_id                                                                \n",
       "0                NO_INTERACTION     0.0      0.0      0.0          0.0   \n",
       "1                NO_INTERACTION     0.0      0.0      0.0          0.0   \n",
       "2                NO_INTERACTION     0.0      0.0      0.0          0.0   \n",
       "3                NO_INTERACTION     0.0      0.0      0.0          0.0   \n",
       "4                NO_INTERACTION     0.0      0.0      0.0          0.0   \n",
       "...                         ...     ...      ...      ...          ...   \n",
       "9995             NO_INTERACTION     0.0      0.0      0.0          0.0   \n",
       "9996             NO_INTERACTION     0.0      0.0      0.0          0.0   \n",
       "9997             NO_INTERACTION     0.0      0.0      0.0          0.0   \n",
       "9998             NO_INTERACTION     0.0      0.0      0.0          0.0   \n",
       "9999             NO_INTERACTION     0.0      0.0      0.0          0.0   \n",
       "\n",
       "           last_shell_id  last_line_interaction_in_id  \\\n",
       "packet_id                                               \n",
       "0                      0                           -1   \n",
       "1                      0                           -1   \n",
       "2                      0                           -1   \n",
       "3                      0                           -1   \n",
       "4                      0                           -1   \n",
       "...                  ...                          ...   \n",
       "9995                   0                           -1   \n",
       "9996                   0                           -1   \n",
       "9997                   0                           -1   \n",
       "9998                   0                           -1   \n",
       "9999                   0                           -1   \n",
       "\n",
       "           last_line_interaction_out_id  \n",
       "packet_id                                \n",
       "0                                    -1  \n",
       "1                                    -1  \n",
       "2                                    -1  \n",
       "3                                    -1  \n",
       "4                                    -1  \n",
       "...                                 ...  \n",
       "9995                                 -1  \n",
       "9996                                 -1  \n",
       "9997                                 -1  \n",
       "9998                                 -1  \n",
       "9999                                 -1  \n",
       "\n",
       "[10000 rows x 8 columns]"
      ]
     },
     "execution_count": 40,
     "metadata": {},
     "output_type": "execute_result"
    }
   ],
   "source": [
    "last_interaction_df"
   ]
  },
  {
   "cell_type": "code",
   "execution_count": null,
   "id": "f2f9dc83",
   "metadata": {},
   "outputs": [],
   "source": []
  }
 ],
 "metadata": {
  "kernelspec": {
   "display_name": "tardis-devel",
   "language": "python",
   "name": "python3"
  },
  "language_info": {
   "codemirror_mode": {
    "name": "ipython",
    "version": 3
   },
   "file_extension": ".py",
   "mimetype": "text/x-python",
   "name": "python",
   "nbconvert_exporter": "python",
   "pygments_lexer": "ipython3",
   "version": "3.13.3"
  }
 },
 "nbformat": 4,
 "nbformat_minor": 5
}
