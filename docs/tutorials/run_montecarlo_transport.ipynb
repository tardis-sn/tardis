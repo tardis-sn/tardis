{
 "cells": [
  {
   "cell_type": "markdown",
   "id": "46a43797",
   "metadata": {},
   "source": [
    "# Running Monte Carlo Transport Independently\n",
    "\n",
    "This tutorial demonstrates how to run the Monte Carlo transport loop directly using `Simulation.from_config` without running full TARDIS iterations. This approach gives you direct control over the Monte Carlo transport process."
   ]
  },
  {
   "cell_type": "code",
   "execution_count": null,
   "id": "bbd59cb7",
   "metadata": {},
   "outputs": [],
   "source": [
    "import os\n",
    "from pathlib import Path\n",
    "\n",
    "import astropy.units as u\n",
    "import numpy as np\n",
    "\n",
    "from tardis.simulation import Simulation\n",
    "from tardis.io.configuration.config_reader import Configuration\n",
    "from tardis.io.atom_data import AtomData\n",
    "from tardis.transport.montecarlo.estimators.radfield_mc_estimators import (\n",
    "    initialize_estimator_statistics,\n",
    ")\n",
    "from tardis.transport.montecarlo.montecarlo_main_loop import montecarlo_main_loop\n",
    "from tardis.transport.montecarlo.packets.packet_trackers import (\n",
    "    generate_rpacket_last_interaction_tracker_list,\n",
    "    generate_rpacket_tracker_list,\n",
    ")"
   ]
  },
  {
   "cell_type": "code",
   "execution_count": null,
   "id": "01ae72ff",
   "metadata": {},
   "outputs": [],
   "source": [
    "!wget -q -nc https://raw.githubusercontent.com/tardis-sn/tardis/master/docs/tardis_example.yml"
   ]
  },
  {
   "cell_type": "code",
   "execution_count": null,
   "id": "c8587ea2",
   "metadata": {},
   "outputs": [],
   "source": [
    "# User-configurable variables\n",
    "CONFIG_FILE_NAME = \"tardis_example.yml\"\n",
    "NUMBER_OF_PACKETS = 10000\n",
    "NUMBER_OF_VPACKETS = 0  # Set to 0 to disable virtual packets\n",
    "ITERATION_NUMBER = 1\n",
    "SHOW_PROGRESS_BARS = True\n",
    "TOTAL_ITERATIONS = 1\n",
    "ENABLE_RPACKET_TRACKING = True  # True: full tracking, False: last interaction only"
   ]
  },
  {
   "cell_type": "code",
   "execution_count": null,
   "id": "99bb0749",
   "metadata": {},
   "outputs": [],
   "source": [
    "# Setup simulation state from config\n",
    "config_file = Path(CONFIG_FILE_NAME)\n",
    "if not config_file.exists():\n",
    "    raise FileNotFoundError(f\"Configuration file {CONFIG_FILE_NAME} not found\")\n",
    "\n",
    "config = Configuration.from_yaml(str(config_file))\n",
    "atom_data = AtomData.from_hdf(\"kurucz_cd23_chianti_H_He_latest.h5\")\n",
    "sim = Simulation.from_config(config, atom_data=atom_data)\n",
    "\n",
    "print(\"Simulation created successfully!\")"
   ]
  },
  {
   "cell_type": "code",
   "execution_count": null,
   "id": "b741a8fe",
   "metadata": {},
   "outputs": [],
   "source": [
    "# Initialize opacity and macro atom states manually\n",
    "sim.opacity_state = sim.opacity.legacy_solve(sim.plasma)\n",
    "\n",
    "if sim.macro_atom is not None:\n",
    "    sim.macro_atom_state = sim.macro_atom.solve(\n",
    "        sim.plasma.j_blues,\n",
    "        sim.plasma.atomic_data,\n",
    "        sim.opacity_state.tau_sobolev,\n",
    "        sim.plasma.stimulated_emission_factor,\n",
    "        sim.opacity_state.beta_sobolev,\n",
    "    )\n",
    "else:\n",
    "    sim.macro_atom_state = None\n",
    "\n",
    "print(\"Opacity and macro atom states initialized!\")"
   ]
  },
  {
   "cell_type": "code",
   "execution_count": null,
   "id": "7c29a407",
   "metadata": {},
   "outputs": [],
   "source": [
    "# Extract states from simulation\n",
    "geometry_state = sim.simulation_state.geometry\n",
    "opacity_state = sim.opacity_state\n",
    "montecarlo_configuration = sim.transport.montecarlo_configuration\n",
    "time_explosion = sim.simulation_state.time_explosion.to(u.s).value\n",
    "spectrum_frequency_grid = sim.transport.spectrum_frequency_grid.to(u.Hz).value\n",
    "packet_source = sim.transport.packet_source\n",
    "\n",
    "# Initialize estimators\n",
    "tau_sobolev_shape = opacity_state.tau_sobolev.shape\n",
    "gamma_shape = (0, geometry_state.no_of_shells)\n",
    "estimators = initialize_estimator_statistics(tau_sobolev_shape, gamma_shape)\n",
    "\n",
    "# Convert to numba-compatible versions\n",
    "geometry_state_numba = geometry_state.to_numba()\n",
    "line_interaction_type = montecarlo_configuration.LINE_INTERACTION_TYPE\n",
    "opacity_state_numba = opacity_state.to_numba(sim.macro_atom_state, line_interaction_type)\n",
    "\n",
    "print(\"Monte Carlo states prepared!\")"
   ]
  },
  {
   "cell_type": "code",
   "execution_count": null,
   "id": "0c6a4e3a",
   "metadata": {},
   "outputs": [],
   "source": [
    "# Create packet collection\n",
    "seed_offset = montecarlo_configuration.PACKET_SEEDS\n",
    "packet_collection = packet_source.create_packets(NUMBER_OF_PACKETS, seed_offset)\n",
    "\n",
    "# Setup packet tracking\n",
    "if ENABLE_RPACKET_TRACKING:\n",
    "    rpacket_trackers = generate_rpacket_tracker_list(\n",
    "        NUMBER_OF_PACKETS,\n",
    "        montecarlo_configuration.INITIAL_TRACKING_ARRAY_LENGTH,\n",
    "    )\n",
    "    print(\"Using full RPacket tracking\")\n",
    "else:\n",
    "    rpacket_trackers = generate_rpacket_last_interaction_tracker_list(\n",
    "        NUMBER_OF_PACKETS\n",
    "    )\n",
    "    print(\"Using last interaction tracking only\")\n"
   ]
  },
  {
   "cell_type": "code",
   "execution_count": null,
   "id": "55289712",
   "metadata": {},
   "outputs": [],
   "source": [
    "# Run the Monte Carlo main loop\n",
    "v_packets_energy_hist, last_interaction_tracker, vpacket_tracker = (\n",
    "    montecarlo_main_loop(\n",
    "        packet_collection,\n",
    "        geometry_state_numba,\n",
    "        time_explosion,\n",
    "        opacity_state_numba,\n",
    "        montecarlo_configuration,\n",
    "        estimators,\n",
    "        spectrum_frequency_grid,\n",
    "        rpacket_trackers,\n",
    "        NUMBER_OF_VPACKETS,\n",
    "        SHOW_PROGRESS_BARS\n",
    "    )\n",
    ")\n",
    "\n",
    "print(\"Monte Carlo transport completed successfully!\")"
   ]
  },
  {
   "cell_type": "code",
   "execution_count": null,
   "id": "453e02d0",
   "metadata": {},
   "outputs": [],
   "source": [
    "# Inspect results\n",
    "print(\"Monte Carlo Results:\")\n",
    "print(f\"V-packet energy histogram shape: {v_packets_energy_hist.shape}\")\n",
    "print(f\"Last interaction tracker type: {type(last_interaction_tracker)}\")\n",
    "if ENABLE_RPACKET_TRACKING:\n",
    "    print(f\"V-packet tracker available: {type(vpacket_tracker)}\")\n",
    "\n",
    "# Results are now available in the notebook for further analysis:\n",
    "# - v_packets_energy_hist: energy histogram of virtual packets\n",
    "# - last_interaction_tracker: final interaction data for all packets  \n",
    "# - vpacket_tracker: virtual packet collection (if enabled)\n",
    "# - sim: original simulation object"
   ]
  },
  {
   "cell_type": "markdown",
   "id": "8e961a8b",
   "metadata": {},
   "source": [
    "## Usage Instructions\n",
    "\n",
    "### Configuration Options:\n",
    "- **NUMBER_OF_PACKETS**: Number of packets to simulate (default: 10000)\n",
    "- **NUMBER_OF_VPACKETS**: Number of virtual packets per interaction (0 = disabled)\n",
    "- **ENABLE_RPACKET_TRACKING**: True for full tracking, False for last interaction only\n",
    "\n",
    "### For Development and Debugging:\n",
    "1. Set `NUMBA_DISABLE_JIT=1` in your environment variables to disable Numba JIT compilation\n",
    "2. Set breakpoints in cell 8 (the Monte Carlo main loop call) \n",
    "3. Run the notebook in debug mode to step through the transport process\n",
    "\n",
    "### Key Advantages Over Full TARDIS Run:\n",
    "- **Direct control**: Access Monte Carlo transport without full simulation iterations\n",
    "- **Manual state initialization**: All states explicitly prepared for transparency\n",
    "- **Clean separation**: Setup and execution are clearly separated\n",
    "- **Educational**: Perfect for understanding Monte Carlo transport physics step-by-step"
   ]
  },
  {
   "cell_type": "markdown",
   "id": "a2632525",
   "metadata": {},
   "source": [
    "# Running Monte Carlo Transport Loop\n",
    "\n",
    "This tutorial demonstrates how to run the `montecarlo_main_loop` function directly with the TARDIS quickstart configuration."
   ]
  },
  {
   "cell_type": "code",
   "execution_count": null,
   "id": "9f1cd9db",
   "metadata": {},
   "outputs": [],
   "source": [
    "import numpy as np\n",
    "import astropy.units as u\n",
    "from pathlib import Path\n",
    "\n",
    "from tardis import run_tardis\n",
    "from tardis.transport.montecarlo.montecarlo_main_loop import montecarlo_main_loop\n",
    "from tardis.transport.montecarlo.packets.packet_collections import PacketCollection\n",
    "from tardis.transport.montecarlo.packets.packet_trackers import (\n",
    "    generate_rpacket_tracker_list,\n",
    "    generate_rpacket_last_interaction_tracker_list\n",
    ")"
   ]
  },
  {
   "cell_type": "code",
   "execution_count": null,
   "id": "a3a51f71",
   "metadata": {},
   "outputs": [],
   "source": [
    "print(\"Monte Carlo Results:\")\n",
    "print(f\"V-packet energy histogram shape: {v_packets_energy_hist.shape}\")\n",
    "print(f\"Last interaction tracker type: {type(last_interaction_tracker)}\")\n",
    "if ENABLE_RPACKET_TRACKING:\n",
    "    print(f\"V-packet tracker available: {type(vpacket_tracker)}\")"
   ]
  },
  {
   "cell_type": "code",
   "execution_count": null,
   "id": "440615d6",
   "metadata": {},
   "outputs": [],
   "source": [
    "sim = run_tardis(CONFIG_FILE_NAME, show_progress_bars=SHOW_PROGRESS_BARS)"
   ]
  },
  {
   "cell_type": "code",
   "execution_count": null,
   "id": "61d676b7",
   "metadata": {},
   "outputs": [],
   "source": [
    "from tardis.transport.montecarlo.estimators.radfield_mc_estimators import initialize_estimator_statistics\n",
    "\n",
    "# Get the geometry from simulation_state\n",
    "geometry_state = sim.simulation_state.geometry\n",
    "# Get the opacity state from the simulation (not from transport.transport_state)\n",
    "opacity_state = sim.opacity_state\n",
    "montecarlo_configuration = sim.transport.montecarlo_configuration\n",
    "time_explosion = sim.simulation_state.time_explosion.to(u.s).value\n",
    "\n",
    "# Initialize estimators using the same function used in TARDIS\n",
    "tau_sobolev_shape = opacity_state.tau_sobolev.shape\n",
    "# For continuum estimators, check if we have continuum processes\n",
    "if hasattr(opacity_state, 'continuum_state') and opacity_state.continuum_state is not None:\n",
    "    gamma_shape = (opacity_state.continuum_state.photo_ion_idx.max() + 1, geometry_state.no_of_shells)\n",
    "else:\n",
    "    gamma_shape = (0, geometry_state.no_of_shells)\n",
    "\n",
    "estimators = initialize_estimator_statistics(tau_sobolev_shape, gamma_shape)\n",
    "spectrum_frequency_grid = sim.transport.spectrum_frequency_grid.to(u.Hz).value\n",
    "packet_source = sim.transport.packet_source\n",
    "\n",
    "# Convert objects to numba-compatible versions\n",
    "geometry_state_numba = geometry_state.to_numba()\n",
    "macro_atom_state = sim.macro_atom_state if hasattr(sim, 'macro_atom_state') else None\n",
    "line_interaction_type = montecarlo_configuration.LINE_INTERACTION_TYPE\n",
    "opacity_state_numba = opacity_state.to_numba(macro_atom_state, line_interaction_type)"
   ]
  },
  {
   "cell_type": "code",
   "execution_count": null,
   "id": "475e93c3",
   "metadata": {},
   "outputs": [],
   "source": [
    "seed_offset = montecarlo_configuration.PACKET_SEEDS\n",
    "packet_collection = packet_source.create_packets(NUMBER_OF_PACKETS, seed_offset)\n",
    "\n",
    "if ENABLE_RPACKET_TRACKING:\n",
    "    rpacket_trackers = generate_rpacket_tracker_list(\n",
    "        NUMBER_OF_PACKETS,\n",
    "        montecarlo_configuration.INITIAL_TRACKING_ARRAY_LENGTH,\n",
    "    )\n",
    "else:\n",
    "    rpacket_trackers = generate_rpacket_last_interaction_tracker_list(\n",
    "        NUMBER_OF_PACKETS\n",
    "    )"
   ]
  },
  {
   "cell_type": "code",
   "execution_count": null,
   "id": "a31d9866",
   "metadata": {},
   "outputs": [],
   "source": [
    "%%timeit\n",
    "# Run the Monte Carlo main loop\n",
    "# Reinitialize estimators (they get modified by the main loop)\n",
    "estimators = initialize_estimator_statistics(tau_sobolev_shape, gamma_shape)\n",
    "\n",
    "# Run the Monte Carlo main loop\n",
    "v_packets_energy_hist, last_interaction_tracker, vpacket_tracker = montecarlo_main_loop(\n",
    "    packet_collection,\n",
    "    geometry_state_numba,\n",
    "    time_explosion,\n",
    "    opacity_state_numba,\n",
    "    montecarlo_configuration,\n",
    "    estimators,\n",
    "    spectrum_frequency_grid,\n",
    "    rpacket_trackers,\n",
    "    NUMBER_OF_VPACKETS,\n",
    "    SHOW_PROGRESS_BARS\n",
    ")\n",
    "\n"
   ]
  }
 ],
 "metadata": {
  "kernelspec": {
   "display_name": "tardis-X",
   "language": "python",
   "name": "python3"
  },
  "language_info": {
   "codemirror_mode": {
    "name": "ipython",
    "version": 3
   },
   "file_extension": ".py",
   "mimetype": "text/x-python",
   "name": "python",
   "nbconvert_exporter": "python",
   "pygments_lexer": "ipython3",
   "version": "3.13.5"
  }
 },
 "nbformat": 4,
 "nbformat_minor": 5
}
