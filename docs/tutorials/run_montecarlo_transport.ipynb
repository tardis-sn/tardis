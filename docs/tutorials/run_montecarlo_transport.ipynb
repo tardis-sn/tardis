{
 "cells": [
  {
   "cell_type": "markdown",
   "id": "46a43797",
   "metadata": {},
   "source": [
    "# Running Monte Carlo Transport Independently\n",
    "\n",
    "This tutorial demonstrates how to run the Monte Carlo transport loop directly using `Simulation.from_config` without running full TARDIS iterations. This approach gives you direct control over the Monte Carlo transport process."
   ]
  },
  {
   "cell_type": "code",
   "execution_count": null,
   "id": "bbd59cb7",
   "metadata": {},
   "outputs": [],
   "source": [
    "from numba import config as nconfig\n",
    "\n",
    "from tardis.transport.montecarlo.packets.trackers.tracker_last_interaction_util import generate_tracker_last_interaction_list, trackers_last_interaction_to_df\n",
    "\n",
    "nconfig.DISABLE_JIT = False\n",
    "\n",
    "from pathlib import Path\n",
    "\n",
    "import astropy.units as u\n",
    "\n",
    "from tardis.io.atom_data import AtomData\n",
    "from tardis.io.configuration.config_reader import Configuration\n",
    "from tardis.simulation import Simulation\n",
    "from tardis.transport.montecarlo.estimators.radfield_mc_estimators import (\n",
    "    initialize_estimator_statistics,\n",
    ")\n",
    "from tardis.transport.montecarlo.montecarlo_main_loop import (\n",
    "    montecarlo_main_loop,\n",
    ")\n",
    "from tardis.transport.montecarlo.packet_source.black_body import (\n",
    "    BlackBodySimpleSource,\n",
    ")\n",
    "from tardis.transport.montecarlo.packets.trackers import (\n",
    "    generate_tracker_full_list,\n",
    "    tracker_full_df2tracker_last_interaction_df,\n",
    "    trackers_full_to_df,\n",
    ")"
   ]
  },
  {
   "cell_type": "code",
   "execution_count": null,
   "id": "c8587ea2",
   "metadata": {},
   "outputs": [],
   "source": [
    "# Disable JIT compilation for debugging (WARNING: This breaks TARDIS plasma assembly)\n",
    "# os.environ[\"NUMBA_DISABLE_JIT\"] = \"1\"\n",
    "\n",
    "# Alternative: Use selective debugging with numba.set_num_threads(1) for better stack traces\n",
    "\n",
    "CONFIG_FILE_NAME = \"tardis_example.yml\"\n",
    "NUMBER_OF_PACKETS = 10000\n",
    "NUMBER_OF_VPACKETS = 0  # Set to 0 to disable virtual packets\n",
    "ITERATION_NUMBER = 1\n",
    "SHOW_PROGRESS_BARS = True\n",
    "TOTAL_ITERATIONS = 1\n",
    "ENABLE_RPACKET_TRACKING = (\n",
    "    False  # True: full tracking, False: last interaction only\n",
    ")"
   ]
  },
  {
   "cell_type": "code",
   "execution_count": null,
   "id": "99bb0749",
   "metadata": {},
   "outputs": [],
   "source": [
    "# Setup simulation state from config\n",
    "config_file = Path(CONFIG_FILE_NAME)\n",
    "if not config_file.exists():\n",
    "    raise FileNotFoundError(f\"Configuration file {CONFIG_FILE_NAME} not found\")\n",
    "\n",
    "config = Configuration.from_yaml(str(config_file))\n",
    "atom_data = AtomData.from_hdf(\"kurucz_cd23_chianti_H_He_latest.h5\")\n",
    "sim = Simulation.from_config(config, atom_data=atom_data)"
   ]
  },
  {
   "cell_type": "code",
   "execution_count": null,
   "id": "b741a8fe",
   "metadata": {},
   "outputs": [],
   "source": [
    "# Initialize opacity and macro atom states manually\n",
    "sim.opacity_state = sim.opacity.legacy_solve(sim.plasma)\n",
    "\n",
    "if sim.macro_atom is not None:\n",
    "    sim.macro_atom_state = sim.macro_atom.solve(\n",
    "        sim.plasma.j_blues,\n",
    "        sim.opacity_state.beta_sobolev,\n",
    "        sim.plasma.stimulated_emission_factor,\n",
    "    )\n",
    "else:\n",
    "    sim.macro_atom_state = None"
   ]
  },
  {
   "cell_type": "code",
   "execution_count": null,
   "id": "7c29a407",
   "metadata": {},
   "outputs": [],
   "source": [
    "# Extract states from simulation\n",
    "geometry_state = sim.simulation_state.geometry\n",
    "opacity_state = sim.opacity_state\n",
    "montecarlo_configuration = sim.transport.montecarlo_configuration\n",
    "time_explosion = sim.simulation_state.time_explosion.to(u.s).value\n",
    "spectrum_frequency_grid = sim.transport.spectrum_frequency_grid.to(u.Hz).value\n",
    "\n",
    "# Create our own independent packet source instead of reusing sim.transport.packet_source\n",
    "packet_source = BlackBodySimpleSource(\n",
    "    radius=geometry_state.r_inner_active[0],\n",
    "    temperature=sim.simulation_state.t_inner,\n",
    "    base_seed=23111963,  # Use inner temperature from simulation\n",
    ")\n",
    "\n",
    "# Initialize estimators\n",
    "tau_sobolev_shape = opacity_state.tau_sobolev.shape\n",
    "gamma_shape = (0, geometry_state.no_of_shells)\n",
    "estimators = initialize_estimator_statistics(tau_sobolev_shape, gamma_shape)\n",
    "\n",
    "# Convert to numba-compatible versions\n",
    "geometry_state_numba = geometry_state.to_numba()\n",
    "line_interaction_type = montecarlo_configuration.LINE_INTERACTION_TYPE\n",
    "opacity_state_numba = opacity_state.to_numba(\n",
    "    sim.macro_atom_state, line_interaction_type\n",
    ")"
   ]
  },
  {
   "cell_type": "markdown",
   "id": "2f487798",
   "metadata": {},
   "source": [
    "## Creating Independent Packet Source\n",
    "\n",
    "Instead of reusing the packet source from the simulation (`sim.transport.packet_source`), we create our own independent `BlackBodySimpleSource`. This gives us full control over the packet generation parameters and ensures our Monte Carlo run is completely independent of the simulation's transport state."
   ]
  },
  {
   "cell_type": "code",
   "execution_count": null,
   "id": "0c6a4e3a",
   "metadata": {},
   "outputs": [],
   "source": [
    "ENABLE_RPACKET_TRACKING = False  # Test last interaction tracker\n",
    "\n",
    "# Create packet collection using our independent packet source\n",
    "seed_offset = 0\n",
    "packet_collection = packet_source.create_packets(NUMBER_OF_PACKETS, seed_offset)\n",
    "\n",
    "# Setup packet tracking\n",
    "if ENABLE_RPACKET_TRACKING:\n",
    "    rpacket_trackers = generate_tracker_full_list(\n",
    "        NUMBER_OF_PACKETS,\n",
    "        montecarlo_configuration.INITIAL_TRACKING_ARRAY_LENGTH,\n",
    "    )\n",
    "    rpacket_tracker_collection = None\n",
    "else:\n",
    "    # Initialize the last interaction tracker collection\n",
    "    # Generate individual trackers for the main loop\n",
    "    rpacket_trackers = generate_tracker_last_interaction_list(NUMBER_OF_PACKETS)\n",
    "\n",
    "# Run the Monte Carlo main loop\n",
    "v_packets_energy_hist, vpacket_tracker = montecarlo_main_loop(\n",
    "    packet_collection,\n",
    "    geometry_state_numba,\n",
    "    time_explosion,\n",
    "    opacity_state_numba,\n",
    "    montecarlo_configuration,\n",
    "    estimators,\n",
    "    spectrum_frequency_grid,\n",
    "    rpacket_trackers,\n",
    "    NUMBER_OF_VPACKETS,\n",
    "    SHOW_PROGRESS_BARS,\n",
    ")"
   ]
  },
  {
   "cell_type": "code",
   "execution_count": null,
   "id": "97081f95",
   "metadata": {},
   "outputs": [],
   "source": [
    "%%timeit\n",
    "v_packets_energy_hist, vpacket_tracker = montecarlo_main_loop(\n",
    "    packet_collection,\n",
    "    geometry_state_numba,\n",
    "    time_explosion,\n",
    "    opacity_state_numba,\n",
    "    montecarlo_configuration,\n",
    "    estimators,\n",
    "    spectrum_frequency_grid,\n",
    "    rpacket_trackers,\n",
    "    NUMBER_OF_VPACKETS,\n",
    "    SHOW_PROGRESS_BARS,\n",
    ")"
   ]
  },
  {
   "cell_type": "code",
   "execution_count": null,
   "id": "99d1822d",
   "metadata": {},
   "outputs": [],
   "source": [
    "# Create DataFrame from tracker data\n",
    "if ENABLE_RPACKET_TRACKING:\n",
    "    # Full tracking: convert from rpacket_trackers list\n",
    "    # Create event dataframe (all events including boundary crossings)\n",
    "    tracker_df = trackers_full_to_df(rpacket_trackers)\n",
    "\n",
    "    # Create last interaction dataframe from full tracking\n",
    "    last_tracker_df = tracker_full_df2tracker_last_interaction_df(tracker_df)\n",
    "\n",
    "else:\n",
    "    # Last interaction tracking: convert from rpacket_trackers list\n",
    "    last_tracker_df = trackers_last_interaction_to_df(rpacket_trackers)"
   ]
  },
  {
   "cell_type": "code",
   "execution_count": null,
   "id": "427013a1",
   "metadata": {},
   "outputs": [],
   "source": [
    "tracker_df"
   ]
  }
 ],
 "metadata": {
  "kernelspec": {
   "display_name": "tardis-X",
   "language": "python",
   "name": "python3"
  },
  "language_info": {
   "codemirror_mode": {
    "name": "ipython",
    "version": 3
   },
   "file_extension": ".py",
   "mimetype": "text/x-python",
   "name": "python",
   "nbconvert_exporter": "python",
   "pygments_lexer": "ipython3",
   "version": "3.13.5"
  }
 },
 "nbformat": 4,
 "nbformat_minor": 5
}
