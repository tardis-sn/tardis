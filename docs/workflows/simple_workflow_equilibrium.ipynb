{
 "cells": [
  {
   "cell_type": "code",
   "execution_count": null,
   "metadata": {},
   "outputs": [],
   "source": [
    "from tardis.io.configuration.config_reader import Configuration\n",
    "from tardis.workflows.simple_tardis_workflow import SimpleTARDISWorkflow"
   ]
  },
  {
   "cell_type": "code",
   "execution_count": null,
   "metadata": {},
   "outputs": [],
   "source": [
    "config = Configuration.from_yaml('../../tardis/plasma/tests/data/plasma_base_test_config.yml')\n",
    "\n",
    "config.model.abundances = {\"type\": \"uniform\", \"H\": 0.75, \"He\": 0.25}\n",
    "\n",
    "config.plasma.initial_t_inner = 12000\n",
    "config.plasma.nlte = {\"species\": [\"H I\", \"He I\", \"He II\"], \"classical_nebular\": False, \"coronal_approximation\": False}\n",
    "config.plasma.ionization = \"nebular\"\n",
    "config.plasma.excitation = \"dilute-lte\"\n",
    "config.atom_data = \"/home/afullard/carsus/docs/kurucz_cd23_chianti_H_He_Ti.h5\"\n",
    "\n",
    "config.montecarlo.iterations = 40\n",
    "config.montecarlo.last_no_of_packets = 1e7\n",
    "\n",
    "config.montecarlo.convergence_strategy = {\"t_rad\": {\"type\": \"damped\", \"damping_constant\": 0.5, \"threshold\": 0.01},\n",
    "                                          \"w\": {\"type\": \"damped\", \"damping_constant\": 0.5, \"threshold\": 0.01},\n",
    "                                          \"t_inner\": {\"type\": \"damped\", \"damping_constant\": 0.5, \"threshold\": 0.01},\n",
    "                                          \"t_inner_update_exponent\": -0.5,\n",
    "                                          \"lock_t_inner_cycles\": 1,\n",
    "                                          \"hold_iterations\": 4,\n",
    "                                          \"stop_if_converged\": True}"
   ]
  },
  {
   "cell_type": "code",
   "execution_count": null,
   "metadata": {},
   "outputs": [],
   "source": [
    "workflow = SimpleTARDISWorkflow(config)"
   ]
  },
  {
   "cell_type": "code",
   "execution_count": null,
   "metadata": {},
   "outputs": [],
   "source": [
    "workflow.run()"
   ]
  },
  {
   "cell_type": "code",
   "execution_count": null,
   "metadata": {},
   "outputs": [],
   "source": [
    "import networkx as nx\n",
    "\n",
    "A = nx.nx_agraph.to_agraph(workflow.plasma_solver.graph)\n",
    "A.layout(prog='dot')\n",
    "A.draw('test.png')"
   ]
  },
  {
   "cell_type": "code",
   "execution_count": null,
   "metadata": {},
   "outputs": [],
   "source": [
    "import matplotlib.pyplot as plt"
   ]
  },
  {
   "cell_type": "code",
   "execution_count": null,
   "metadata": {},
   "outputs": [],
   "source": [
    "spectrum = workflow.spectrum_solver.spectrum_real_packets\n",
    "spectrum_virtual = workflow.spectrum_solver.spectrum_virtual_packets\n",
    "#spectrum_integrated = workflow.spectrum_solver.spectrum_integrated"
   ]
  },
  {
   "cell_type": "code",
   "execution_count": null,
   "metadata": {},
   "outputs": [],
   "source": [
    "%matplotlib inline\n",
    "plt.figure(figsize=(10, 6.5))\n",
    "\n",
    "spectrum.plot(label=\"Normal packets\")\n",
    "spectrum_virtual.plot(label=\"Virtual packets\")\n",
    "#spectrum_integrated.plot(label='Formal integral')\n",
    "\n",
    "plt.xlim(500, 9000)\n",
    "plt.title(\"TARDIS example model spectrum\")\n",
    "plt.xlabel(\"Wavelength [$\\AA$]\")\n",
    "plt.ylabel(\"Luminosity density [erg/s/$\\AA$]\")\n",
    "plt.legend()\n",
    "plt.show()"
   ]
  },
  {
   "cell_type": "code",
   "execution_count": null,
   "metadata": {},
   "outputs": [],
   "source": []
  }
 ],
 "metadata": {
  "kernelspec": {
   "display_name": "tardis",
   "language": "python",
   "name": "python3"
  },
  "language_info": {
   "codemirror_mode": {
    "name": "ipython",
    "version": 3
   },
   "file_extension": ".py",
   "mimetype": "text/x-python",
   "name": "python",
   "nbconvert_exporter": "python",
   "pygments_lexer": "ipython3",
   "version": "3.12.4"
  }
 },
 "nbformat": 4,
 "nbformat_minor": 2
}
