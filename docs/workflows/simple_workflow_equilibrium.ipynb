{
 "cells": [
  {
   "cell_type": "code",
   "execution_count": 1,
   "metadata": {},
   "outputs": [
    {
     "data": {
      "application/vnd.jupyter.widget-view+json": {
       "model_id": "8dc08f62f5c84f7a9f50984167ac0974",
       "version_major": 2,
       "version_minor": 0
      },
      "text/plain": [
       "Iterations:          0/? [00:00<?, ?it/s]"
      ]
     },
     "metadata": {},
     "output_type": "display_data"
    },
    {
     "data": {
      "application/vnd.jupyter.widget-view+json": {
       "model_id": "5b988d8196fe4611ab069023e0e5c620",
       "version_major": 2,
       "version_minor": 0
      },
      "text/plain": [
       "Packets:             0/? [00:00<?, ?it/s]"
      ]
     },
     "metadata": {},
     "output_type": "display_data"
    }
   ],
   "source": [
    "from tardis.io.configuration.config_reader import Configuration\n",
    "from tardis.workflows.standard_tardis_workflow import StandardTARDISWorkflow"
   ]
  },
  {
   "cell_type": "code",
   "execution_count": 2,
   "metadata": {},
   "outputs": [],
   "source": [
    "config = Configuration.from_yaml('../../tardis/plasma/tests/data/plasma_base_test_config.yml')\n",
    "\n",
    "config.model.abundances = {\"type\": \"uniform\", \"H\": 0.75, \"He\": 0.25}\n",
    "\n",
    "config.plasma.initial_t_inner = 12000\n",
    "config.plasma.nlte = {\"species\": [\"H I\", \"He I\", \"He II\"], \"classical_nebular\": False, \"coronal_approximation\": False}\n",
    "config.plasma.ionization = \"nebular\"\n",
    "config.plasma.excitation = \"dilute-lte\"\n",
    "config.atom_data = \"/home/afullard/carsus/docs/kurucz_cd23_chianti_H_He_Ti.h5\"\n",
    "\n",
    "config.montecarlo.iterations = 40\n",
    "config.montecarlo.last_no_of_packets = 1e7\n",
    "\n",
    "config.montecarlo.convergence_strategy = {\"t_rad\": {\"type\": \"damped\", \"damping_constant\": 0.5, \"threshold\": 0.01},\n",
    "                                          \"w\": {\"type\": \"damped\", \"damping_constant\": 0.5, \"threshold\": 0.01},\n",
    "                                          \"t_inner\": {\"type\": \"damped\", \"damping_constant\": 0.5, \"threshold\": 0.01},\n",
    "                                          \"t_inner_update_exponent\": -0.5,\n",
    "                                          \"lock_t_inner_cycles\": 1,\n",
    "                                          \"hold_iterations\": 4,\n",
    "                                          \"stop_if_converged\": True}"
   ]
  },
  {
   "cell_type": "code",
   "execution_count": 3,
   "metadata": {},
   "outputs": [
    {
     "name": "stdout",
     "output_type": "stream",
     "text": [
      "[\u001b[1mtardis.io.model.parse_atom_data\u001b[0m][\u001b[1;37mINFO\u001b[0m   ]  \n",
      "\t\n",
      "\tReading Atomic Data from /home/afullard/carsus/docs/kurucz_cd23_chianti_H_He_Ti.h5 (\u001b[1mparse_atom_data.py\u001b[0m:40)\n",
      "[\u001b[1mtardis.io.atom_data.base\u001b[0m][\u001b[1;37mINFO\u001b[0m   ]  \n",
      "\tReading Atom Data with: UUID = None MD5  = None  (\u001b[1mbase.py\u001b[0m:258)\n",
      "[\u001b[1mtardis.io.atom_data.base\u001b[0m][\u001b[1;37mINFO\u001b[0m   ]  \n",
      "\tNon provided Atomic Data: levels, lines, collision_data, collision_data_temperatures, synpp_refs, photoionization_data, yg_data, two_photon_data, linelist_atoms, linelist_molecules, decay_radiation_data (\u001b[1mbase.py\u001b[0m:262)\n",
      "[\u001b[1mtardis.io.model.parse_density_configuration\u001b[0m][\u001b[1;33mWARNING\u001b[0m]  \n",
      "\tNumber of density points larger than number of shells. Assuming inner point irrelevant (\u001b[1mparse_density_configuration.py\u001b[0m:114)\n",
      "[\u001b[1mtardis.model.matter.decay\u001b[0m][\u001b[1;37mINFO\u001b[0m   ]  \n",
      "\tDecaying abundances for 1123200.0 seconds (\u001b[1mdecay.py\u001b[0m:101)\n",
      "[\u001b[1mtardis.plasma.properties.atomic\u001b[0m][\u001b[1;33mWARNING\u001b[0m]  \n",
      "\tZeta_data missing - replaced with 1s. Missing ions: [] (\u001b[1matomic.py\u001b[0m:597)\n",
      "[\u001b[1mtardis.plasma.properties.partition_function\u001b[0m][\u001b[1;37mINFO\u001b[0m   ]  \n",
      "\tCalculating rates for species (1, 0) (\u001b[1mpartition_function.py\u001b[0m:190)\n",
      "[\u001b[1mtardis.plasma.properties.partition_function\u001b[0m][\u001b[1;37mINFO\u001b[0m   ]  \n",
      "\tCalculating rates for species (2, 0) (\u001b[1mpartition_function.py\u001b[0m:190)\n",
      "[\u001b[1mtardis.plasma.properties.partition_function\u001b[0m][\u001b[1;37mINFO\u001b[0m   ]  \n",
      "\tCalculating rates for species (2, 1) (\u001b[1mpartition_function.py\u001b[0m:190)\n",
      "[\u001b[1mtardis.plasma.properties.atomic\u001b[0m][\u001b[1;33mWARNING\u001b[0m]  \n",
      "\tZeta_data missing - replaced with 1s. Missing ions: [] (\u001b[1matomic.py\u001b[0m:597)\n",
      "[\u001b[1mtardis.plasma.properties.partition_function\u001b[0m][\u001b[1;37mINFO\u001b[0m   ]  \n",
      "\tCalculating rates for species (1, 0) (\u001b[1mpartition_function.py\u001b[0m:190)\n",
      "[\u001b[1mtardis.plasma.properties.partition_function\u001b[0m][\u001b[1;37mINFO\u001b[0m   ]  \n",
      "\tCalculating rates for species (2, 0) (\u001b[1mpartition_function.py\u001b[0m:190)\n",
      "[\u001b[1mtardis.plasma.properties.partition_function\u001b[0m][\u001b[1;37mINFO\u001b[0m   ]  \n",
      "\tCalculating rates for species (2, 1) (\u001b[1mpartition_function.py\u001b[0m:190)\n",
      "[\u001b[1mtardis.io.model.parse_atom_data\u001b[0m][\u001b[1;37mINFO\u001b[0m   ]  \n",
      "\t\n",
      "\tReading Atomic Data from /home/afullard/carsus/docs/kurucz_cd23_chianti_H_He_Ti.h5 (\u001b[1mparse_atom_data.py\u001b[0m:40)\n",
      "[\u001b[1mtardis.io.atom_data.base\u001b[0m][\u001b[1;37mINFO\u001b[0m   ]  \n",
      "\tReading Atom Data with: UUID = None MD5  = None  (\u001b[1mbase.py\u001b[0m:258)\n",
      "[\u001b[1mtardis.io.atom_data.base\u001b[0m][\u001b[1;37mINFO\u001b[0m   ]  \n",
      "\tNon provided Atomic Data: levels, lines, collision_data, collision_data_temperatures, synpp_refs, photoionization_data, yg_data, two_photon_data, linelist_atoms, linelist_molecules, decay_radiation_data (\u001b[1mbase.py\u001b[0m:262)\n",
      "[\u001b[1mtardis.io.model.parse_density_configuration\u001b[0m][\u001b[1;33mWARNING\u001b[0m]  \n",
      "\tNumber of density points larger than number of shells. Assuming inner point irrelevant (\u001b[1mparse_density_configuration.py\u001b[0m:114)\n",
      "[\u001b[1mtardis.model.matter.decay\u001b[0m][\u001b[1;37mINFO\u001b[0m   ]  \n",
      "\tDecaying abundances for 1123200.0 seconds (\u001b[1mdecay.py\u001b[0m:101)\n",
      "[\u001b[1mtardis.plasma.properties.atomic\u001b[0m][\u001b[1;33mWARNING\u001b[0m]  \n",
      "\tZeta_data missing - replaced with 1s. Missing ions: [] (\u001b[1matomic.py\u001b[0m:597)\n",
      "[\u001b[1mtardis.plasma.properties.partition_function\u001b[0m][\u001b[1;37mINFO\u001b[0m   ]  \n",
      "\tCalculating rates for species (1, 0) (\u001b[1mpartition_function.py\u001b[0m:190)\n",
      "[\u001b[1mtardis.plasma.properties.partition_function\u001b[0m][\u001b[1;37mINFO\u001b[0m   ]  \n",
      "\tCalculating rates for species (2, 0) (\u001b[1mpartition_function.py\u001b[0m:190)\n",
      "[\u001b[1mtardis.plasma.properties.partition_function\u001b[0m][\u001b[1;37mINFO\u001b[0m   ]  \n",
      "\tCalculating rates for species (2, 1) (\u001b[1mpartition_function.py\u001b[0m:190)\n",
      "[\u001b[1mtardis.plasma.properties.atomic\u001b[0m][\u001b[1;33mWARNING\u001b[0m]  \n",
      "\tZeta_data missing - replaced with 1s. Missing ions: [] (\u001b[1matomic.py\u001b[0m:597)\n",
      "[\u001b[1mtardis.plasma.properties.partition_function\u001b[0m][\u001b[1;37mINFO\u001b[0m   ]  \n",
      "\tCalculating rates for species (1, 0) (\u001b[1mpartition_function.py\u001b[0m:190)\n",
      "[\u001b[1mtardis.plasma.properties.partition_function\u001b[0m][\u001b[1;37mINFO\u001b[0m   ]  \n",
      "\tCalculating rates for species (2, 0) (\u001b[1mpartition_function.py\u001b[0m:190)\n",
      "[\u001b[1mtardis.plasma.properties.partition_function\u001b[0m][\u001b[1;37mINFO\u001b[0m   ]  \n",
      "\tCalculating rates for species (2, 1) (\u001b[1mpartition_function.py\u001b[0m:190)\n"
     ]
    }
   ],
   "source": [
    "workflow = StandardTARDISWorkflow(config, show_convergence_plots=True,show_progress_bars=True,convergence_plots_kwargs={\"export_convergence_plots\":True})"
   ]
  },
  {
   "cell_type": "code",
   "execution_count": 4,
   "metadata": {},
   "outputs": [
    {
     "name": "stdout",
     "output_type": "stream",
     "text": [
      "[\u001b[1mtardis.workflows.standard_tardis_workflow\u001b[0m][\u001b[1;37mINFO\u001b[0m   ]  \n",
      "\t\n",
      "\tStarting iteration 1 of 40 (\u001b[1mstandard_tardis_workflow.py\u001b[0m:211)\n",
      "[\u001b[1mpy.warnings         \u001b[0m][\u001b[1;33mWARNING\u001b[0m]  \n",
      "\t/home/afullard/tardis/tardis/transport/montecarlo/montecarlo_main_loop.py:123: NumbaTypeSafetyWarning: \u001b[1m\u001b[1m\u001b[1munsafe cast from uint64 to int64. Precision may be lost.\u001b[0m\u001b[0m\u001b[0m\n",
      "  vpacket_collection = vpacket_collections[i]\n",
      " (\u001b[1mwarnings.py\u001b[0m:112)\n"
     ]
    },
    {
     "data": {
      "application/vnd.jupyter.widget-view+json": {
       "model_id": "a5b0c8118f4e4c91a6ac9d1d84789d94",
       "version_major": 2,
       "version_minor": 0
      },
      "text/plain": [
       "TqdmHBox(children=(HTML(value='Iterations:', layout=Layout(width='6%')), FloatProgress(value=0.0, layout=Layou…"
      ]
     },
     "metadata": {},
     "output_type": "display_data"
    },
    {
     "data": {
      "application/vnd.jupyter.widget-view+json": {
       "model_id": "d5a5fd81a76242e287a89f2a7d4bae49",
       "version_major": 2,
       "version_minor": 0
      },
      "text/plain": [
       "TqdmHBox(children=(HTML(value='Packets:\\u2007\\u2007\\u2007', layout=Layout(width='6%')), FloatProgress(value=0.…"
      ]
     },
     "metadata": {},
     "output_type": "display_data"
    },
    {
     "name": "stdout",
     "output_type": "stream",
     "text": [
      "[\u001b[1mtardis.workflows.standard_tardis_workflow\u001b[0m][\u001b[1;37mINFO\u001b[0m   ]  \n",
      "\t\n",
      "\tLuminosity emitted   = 5.428e+42 erg / s\n",
      "\tLuminosity absorbed  = 1.635e+43 erg / s\n",
      "\tLuminosity requested = 1.077e+43 erg / s\n",
      " (\u001b[1mstandard_tardis_workflow.py\u001b[0m:171)\n",
      "[\u001b[1mtardis.workflows.workflow_logging\u001b[0m][\u001b[1;37mINFO\u001b[0m   ]  \n",
      "\t\n",
      "\tPlasma stratification: (\u001b[1mworkflow_logging.py\u001b[0m:61)\n"
     ]
    },
    {
     "data": {
      "text/html": [
       "<style type=\"text/css\">\n",
       "</style>\n",
       "<table id=\"T_74532\">\n",
       "  <thead>\n",
       "    <tr>\n",
       "      <th class=\"index_name level0\" >Shell No.</th>\n",
       "      <th id=\"T_74532_level0_col0\" class=\"col_heading level0 col0\" >t_rad</th>\n",
       "      <th id=\"T_74532_level0_col1\" class=\"col_heading level0 col1\" >next_t_rad</th>\n",
       "      <th id=\"T_74532_level0_col2\" class=\"col_heading level0 col2\" >w</th>\n",
       "      <th id=\"T_74532_level0_col3\" class=\"col_heading level0 col3\" >next_w</th>\n",
       "    </tr>\n",
       "  </thead>\n",
       "  <tbody>\n",
       "    <tr>\n",
       "      <th id=\"T_74532_level0_row0\" class=\"row_heading level0 row0\" >0</th>\n",
       "      <td id=\"T_74532_row0_col0\" class=\"data row0 col0\" >1.2e+04 K</td>\n",
       "      <td id=\"T_74532_row0_col1\" class=\"data row0 col1\" >1.18e+04 K</td>\n",
       "      <td id=\"T_74532_row0_col2\" class=\"data row0 col2\" >0.4</td>\n",
       "      <td id=\"T_74532_row0_col3\" class=\"data row0 col3\" >0.785</td>\n",
       "    </tr>\n",
       "    <tr>\n",
       "      <th id=\"T_74532_level0_row1\" class=\"row_heading level0 row1\" >5</th>\n",
       "      <td id=\"T_74532_row1_col0\" class=\"data row1 col0\" >1.19e+04 K</td>\n",
       "      <td id=\"T_74532_row1_col1\" class=\"data row1 col1\" >1.14e+04 K</td>\n",
       "      <td id=\"T_74532_row1_col2\" class=\"data row1 col2\" >0.211</td>\n",
       "      <td id=\"T_74532_row1_col3\" class=\"data row1 col3\" >0.247</td>\n",
       "    </tr>\n",
       "    <tr>\n",
       "      <th id=\"T_74532_level0_row2\" class=\"row_heading level0 row2\" >10</th>\n",
       "      <td id=\"T_74532_row2_col0\" class=\"data row2 col0\" >1.18e+04 K</td>\n",
       "      <td id=\"T_74532_row2_col1\" class=\"data row2 col1\" >1.11e+04 K</td>\n",
       "      <td id=\"T_74532_row2_col2\" class=\"data row2 col2\" >0.143</td>\n",
       "      <td id=\"T_74532_row2_col3\" class=\"data row2 col3\" >0.106</td>\n",
       "    </tr>\n",
       "    <tr>\n",
       "      <th id=\"T_74532_level0_row3\" class=\"row_heading level0 row3\" >15</th>\n",
       "      <td id=\"T_74532_row3_col0\" class=\"data row3 col0\" >1.17e+04 K</td>\n",
       "      <td id=\"T_74532_row3_col1\" class=\"data row3 col1\" >1.1e+04 K</td>\n",
       "      <td id=\"T_74532_row3_col2\" class=\"data row3 col2\" >0.105</td>\n",
       "      <td id=\"T_74532_row3_col3\" class=\"data row3 col3\" >0.055</td>\n",
       "    </tr>\n",
       "  </tbody>\n",
       "</table>\n"
      ],
      "text/plain": [
       "<pandas.io.formats.style.Styler at 0x7f96ccab9a30>"
      ]
     },
     "metadata": {},
     "output_type": "display_data"
    },
    {
     "name": "stdout",
     "output_type": "stream",
     "text": [
      "[\u001b[1mtardis.workflows.workflow_logging\u001b[0m][\u001b[1;37mINFO\u001b[0m   ]  \n",
      "\t\n",
      "\tCurrent t_inner = 12000.000 K\n",
      "\tExpected t_inner for next iteration = 16902.192 K\n",
      " (\u001b[1mworkflow_logging.py\u001b[0m:68)\n"
     ]
    },
    {
     "data": {
      "application/vnd.jupyter.widget-view+json": {
       "model_id": "f24442409b4b4886bfa1217efed47801",
       "version_major": 2,
       "version_minor": 0
      },
      "text/plain": [
       "VBox(children=(FigureWidget({\n",
       "    'data': [{'type': 'scatter', 'uid': '6b4b35dc-6539-49a8-97e8-ee9664fd264a', …"
      ]
     },
     "metadata": {},
     "output_type": "display_data"
    },
    {
     "name": "stdout",
     "output_type": "stream",
     "text": [
      "[\u001b[1mtardis.plasma.properties.partition_function\u001b[0m][\u001b[1;37mINFO\u001b[0m   ]  \n",
      "\tCalculating rates for species (1, 0) (\u001b[1mpartition_function.py\u001b[0m:190)\n",
      "[\u001b[1mtardis.plasma.properties.partition_function\u001b[0m][\u001b[1;37mINFO\u001b[0m   ]  \n",
      "\tCalculating rates for species (2, 0) (\u001b[1mpartition_function.py\u001b[0m:190)\n",
      "[\u001b[1mtardis.plasma.properties.partition_function\u001b[0m][\u001b[1;37mINFO\u001b[0m   ]  \n",
      "\tCalculating rates for species (2, 1) (\u001b[1mpartition_function.py\u001b[0m:190)\n",
      "[\u001b[1mtardis.workflows.standard_tardis_workflow\u001b[0m][\u001b[1;37mINFO\u001b[0m   ]  \n",
      "\t\n",
      "\tStarting iteration 2 of 40 (\u001b[1mstandard_tardis_workflow.py\u001b[0m:211)\n",
      "[\u001b[1mtardis.workflows.standard_tardis_workflow\u001b[0m][\u001b[1;37mINFO\u001b[0m   ]  \n",
      "\t\n",
      "\tLuminosity emitted   = 1.159e+43 erg / s\n",
      "\tLuminosity absorbed  = 3.422e+43 erg / s\n",
      "\tLuminosity requested = 1.077e+43 erg / s\n",
      " (\u001b[1mstandard_tardis_workflow.py\u001b[0m:171)\n",
      "[\u001b[1mtardis.workflows.workflow_logging\u001b[0m][\u001b[1;37mINFO\u001b[0m   ]  \n",
      "\t\n",
      "\tPlasma stratification: (\u001b[1mworkflow_logging.py\u001b[0m:61)\n"
     ]
    },
    {
     "data": {
      "text/html": [
       "<style type=\"text/css\">\n",
       "</style>\n",
       "<table id=\"T_6c814\">\n",
       "  <thead>\n",
       "    <tr>\n",
       "      <th class=\"index_name level0\" >Shell No.</th>\n",
       "      <th id=\"T_6c814_level0_col0\" class=\"col_heading level0 col0\" >t_rad</th>\n",
       "      <th id=\"T_6c814_level0_col1\" class=\"col_heading level0 col1\" >next_t_rad</th>\n",
       "      <th id=\"T_6c814_level0_col2\" class=\"col_heading level0 col2\" >w</th>\n",
       "      <th id=\"T_6c814_level0_col3\" class=\"col_heading level0 col3\" >next_w</th>\n",
       "    </tr>\n",
       "  </thead>\n",
       "  <tbody>\n",
       "    <tr>\n",
       "      <th id=\"T_6c814_level0_row0\" class=\"row_heading level0 row0\" >0</th>\n",
       "      <td id=\"T_6c814_row0_col0\" class=\"data row0 col0\" >1.19e+04 K</td>\n",
       "      <td id=\"T_6c814_row0_col1\" class=\"data row0 col1\" >1.42e+04 K</td>\n",
       "      <td id=\"T_6c814_row0_col2\" class=\"data row0 col2\" >0.593</td>\n",
       "      <td id=\"T_6c814_row0_col3\" class=\"data row0 col3\" >0.799</td>\n",
       "    </tr>\n",
       "    <tr>\n",
       "      <th id=\"T_6c814_level0_row1\" class=\"row_heading level0 row1\" >5</th>\n",
       "      <td id=\"T_6c814_row1_col0\" class=\"data row1 col0\" >1.16e+04 K</td>\n",
       "      <td id=\"T_6c814_row1_col1\" class=\"data row1 col1\" >1.35e+04 K</td>\n",
       "      <td id=\"T_6c814_row1_col2\" class=\"data row1 col2\" >0.229</td>\n",
       "      <td id=\"T_6c814_row1_col3\" class=\"data row1 col3\" >0.261</td>\n",
       "    </tr>\n",
       "    <tr>\n",
       "      <th id=\"T_6c814_level0_row2\" class=\"row_heading level0 row2\" >10</th>\n",
       "      <td id=\"T_6c814_row2_col0\" class=\"data row2 col0\" >1.15e+04 K</td>\n",
       "      <td id=\"T_6c814_row2_col1\" class=\"data row2 col1\" >1.32e+04 K</td>\n",
       "      <td id=\"T_6c814_row2_col2\" class=\"data row2 col2\" >0.124</td>\n",
       "      <td id=\"T_6c814_row2_col3\" class=\"data row2 col3\" >0.112</td>\n",
       "    </tr>\n",
       "    <tr>\n",
       "      <th id=\"T_6c814_level0_row3\" class=\"row_heading level0 row3\" >15</th>\n",
       "      <td id=\"T_6c814_row3_col0\" class=\"data row3 col0\" >1.14e+04 K</td>\n",
       "      <td id=\"T_6c814_row3_col1\" class=\"data row3 col1\" >1.31e+04 K</td>\n",
       "      <td id=\"T_6c814_row3_col2\" class=\"data row3 col2\" >0.0798</td>\n",
       "      <td id=\"T_6c814_row3_col3\" class=\"data row3 col3\" >0.0582</td>\n",
       "    </tr>\n",
       "  </tbody>\n",
       "</table>\n"
      ],
      "text/plain": [
       "<pandas.io.formats.style.Styler at 0x7f97704ca7e0>"
      ]
     },
     "metadata": {},
     "output_type": "display_data"
    },
    {
     "name": "stdout",
     "output_type": "stream",
     "text": [
      "[\u001b[1mtardis.workflows.workflow_logging\u001b[0m][\u001b[1;37mINFO\u001b[0m   ]  \n",
      "\t\n",
      "\tCurrent t_inner = 14451.096 K\n",
      "\tExpected t_inner for next iteration = 13929.772 K\n",
      " (\u001b[1mworkflow_logging.py\u001b[0m:68)\n",
      "[\u001b[1mtardis.plasma.properties.partition_function\u001b[0m][\u001b[1;37mINFO\u001b[0m   ]  \n",
      "\tCalculating rates for species (1, 0) (\u001b[1mpartition_function.py\u001b[0m:190)\n",
      "[\u001b[1mtardis.plasma.properties.partition_function\u001b[0m][\u001b[1;37mINFO\u001b[0m   ]  \n",
      "\tCalculating rates for species (2, 0) (\u001b[1mpartition_function.py\u001b[0m:190)\n",
      "[\u001b[1mtardis.plasma.properties.partition_function\u001b[0m][\u001b[1;37mINFO\u001b[0m   ]  \n",
      "\tCalculating rates for species (2, 1) (\u001b[1mpartition_function.py\u001b[0m:190)\n",
      "[\u001b[1mtardis.workflows.standard_tardis_workflow\u001b[0m][\u001b[1;37mINFO\u001b[0m   ]  \n",
      "\t\n",
      "\tStarting iteration 3 of 40 (\u001b[1mstandard_tardis_workflow.py\u001b[0m:211)\n",
      "[\u001b[1mtardis.workflows.standard_tardis_workflow\u001b[0m][\u001b[1;37mINFO\u001b[0m   ]  \n",
      "\t\n",
      "\tLuminosity emitted   = 1.052e+43 erg / s\n",
      "\tLuminosity absorbed  = 3.206e+43 erg / s\n",
      "\tLuminosity requested = 1.077e+43 erg / s\n",
      " (\u001b[1mstandard_tardis_workflow.py\u001b[0m:171)\n",
      "[\u001b[1mtardis.workflows.workflow_logging\u001b[0m][\u001b[1;37mINFO\u001b[0m   ]  \n",
      "\t\n",
      "\tPlasma stratification: (\u001b[1mworkflow_logging.py\u001b[0m:61)\n"
     ]
    },
    {
     "data": {
      "text/html": [
       "<style type=\"text/css\">\n",
       "</style>\n",
       "<table id=\"T_be3b3\">\n",
       "  <thead>\n",
       "    <tr>\n",
       "      <th class=\"index_name level0\" >Shell No.</th>\n",
       "      <th id=\"T_be3b3_level0_col0\" class=\"col_heading level0 col0\" >t_rad</th>\n",
       "      <th id=\"T_be3b3_level0_col1\" class=\"col_heading level0 col1\" >next_t_rad</th>\n",
       "      <th id=\"T_be3b3_level0_col2\" class=\"col_heading level0 col2\" >w</th>\n",
       "      <th id=\"T_be3b3_level0_col3\" class=\"col_heading level0 col3\" >next_w</th>\n",
       "    </tr>\n",
       "  </thead>\n",
       "  <tbody>\n",
       "    <tr>\n",
       "      <th id=\"T_be3b3_level0_row0\" class=\"row_heading level0 row0\" >0</th>\n",
       "      <td id=\"T_be3b3_row0_col0\" class=\"data row0 col0\" >1.31e+04 K</td>\n",
       "      <td id=\"T_be3b3_row0_col1\" class=\"data row0 col1\" >1.4e+04 K</td>\n",
       "      <td id=\"T_be3b3_row0_col2\" class=\"data row0 col2\" >0.696</td>\n",
       "      <td id=\"T_be3b3_row0_col3\" class=\"data row0 col3\" >0.794</td>\n",
       "    </tr>\n",
       "    <tr>\n",
       "      <th id=\"T_be3b3_level0_row1\" class=\"row_heading level0 row1\" >5</th>\n",
       "      <td id=\"T_be3b3_row1_col0\" class=\"data row1 col0\" >1.26e+04 K</td>\n",
       "      <td id=\"T_be3b3_row1_col1\" class=\"data row1 col1\" >1.34e+04 K</td>\n",
       "      <td id=\"T_be3b3_row1_col2\" class=\"data row1 col2\" >0.245</td>\n",
       "      <td id=\"T_be3b3_row1_col3\" class=\"data row1 col3\" >0.251</td>\n",
       "    </tr>\n",
       "    <tr>\n",
       "      <th id=\"T_be3b3_level0_row2\" class=\"row_heading level0 row2\" >10</th>\n",
       "      <td id=\"T_be3b3_row2_col0\" class=\"data row2 col0\" >1.23e+04 K</td>\n",
       "      <td id=\"T_be3b3_row2_col1\" class=\"data row2 col1\" >1.31e+04 K</td>\n",
       "      <td id=\"T_be3b3_row2_col2\" class=\"data row2 col2\" >0.118</td>\n",
       "      <td id=\"T_be3b3_row2_col3\" class=\"data row2 col3\" >0.107</td>\n",
       "    </tr>\n",
       "    <tr>\n",
       "      <th id=\"T_be3b3_level0_row3\" class=\"row_heading level0 row3\" >15</th>\n",
       "      <td id=\"T_be3b3_row3_col0\" class=\"data row3 col0\" >1.22e+04 K</td>\n",
       "      <td id=\"T_be3b3_row3_col1\" class=\"data row3 col1\" >1.3e+04 K</td>\n",
       "      <td id=\"T_be3b3_row3_col2\" class=\"data row3 col2\" >0.069</td>\n",
       "      <td id=\"T_be3b3_row3_col3\" class=\"data row3 col3\" >0.0557</td>\n",
       "    </tr>\n",
       "  </tbody>\n",
       "</table>\n"
      ],
      "text/plain": [
       "<pandas.io.formats.style.Styler at 0x7f977339e870>"
      ]
     },
     "metadata": {},
     "output_type": "display_data"
    },
    {
     "name": "stdout",
     "output_type": "stream",
     "text": [
      "[\u001b[1mtardis.workflows.workflow_logging\u001b[0m][\u001b[1;37mINFO\u001b[0m   ]  \n",
      "\t\n",
      "\tCurrent t_inner = 14190.434 K\n",
      "\tExpected t_inner for next iteration = 14359.133 K\n",
      " (\u001b[1mworkflow_logging.py\u001b[0m:68)\n",
      "[\u001b[1mtardis.plasma.properties.partition_function\u001b[0m][\u001b[1;37mINFO\u001b[0m   ]  \n",
      "\tCalculating rates for species (1, 0) (\u001b[1mpartition_function.py\u001b[0m:190)\n",
      "[\u001b[1mtardis.plasma.properties.partition_function\u001b[0m][\u001b[1;37mINFO\u001b[0m   ]  \n",
      "\tCalculating rates for species (2, 0) (\u001b[1mpartition_function.py\u001b[0m:190)\n",
      "[\u001b[1mtardis.plasma.properties.partition_function\u001b[0m][\u001b[1;37mINFO\u001b[0m   ]  \n",
      "\tCalculating rates for species (2, 1) (\u001b[1mpartition_function.py\u001b[0m:190)\n",
      "[\u001b[1mtardis.workflows.standard_tardis_workflow\u001b[0m][\u001b[1;37mINFO\u001b[0m   ]  \n",
      "\t\n",
      "\tStarting iteration 4 of 40 (\u001b[1mstandard_tardis_workflow.py\u001b[0m:211)\n",
      "[\u001b[1mtardis.workflows.standard_tardis_workflow\u001b[0m][\u001b[1;37mINFO\u001b[0m   ]  \n",
      "\t\n",
      "\tLuminosity emitted   = 1.093e+43 erg / s\n",
      "\tLuminosity absorbed  = 3.267e+43 erg / s\n",
      "\tLuminosity requested = 1.077e+43 erg / s\n",
      " (\u001b[1mstandard_tardis_workflow.py\u001b[0m:171)\n",
      "[\u001b[1mtardis.workflows.workflow_logging\u001b[0m][\u001b[1;37mINFO\u001b[0m   ]  \n",
      "\t\n",
      "\tPlasma stratification: (\u001b[1mworkflow_logging.py\u001b[0m:61)\n"
     ]
    },
    {
     "data": {
      "text/html": [
       "<style type=\"text/css\">\n",
       "</style>\n",
       "<table id=\"T_ac2f1\">\n",
       "  <thead>\n",
       "    <tr>\n",
       "      <th class=\"index_name level0\" >Shell No.</th>\n",
       "      <th id=\"T_ac2f1_level0_col0\" class=\"col_heading level0 col0\" >t_rad</th>\n",
       "      <th id=\"T_ac2f1_level0_col1\" class=\"col_heading level0 col1\" >next_t_rad</th>\n",
       "      <th id=\"T_ac2f1_level0_col2\" class=\"col_heading level0 col2\" >w</th>\n",
       "      <th id=\"T_ac2f1_level0_col3\" class=\"col_heading level0 col3\" >next_w</th>\n",
       "    </tr>\n",
       "  </thead>\n",
       "  <tbody>\n",
       "    <tr>\n",
       "      <th id=\"T_ac2f1_level0_row0\" class=\"row_heading level0 row0\" >0</th>\n",
       "      <td id=\"T_ac2f1_row0_col0\" class=\"data row0 col0\" >1.35e+04 K</td>\n",
       "      <td id=\"T_ac2f1_row0_col1\" class=\"data row0 col1\" >1.41e+04 K</td>\n",
       "      <td id=\"T_ac2f1_row0_col2\" class=\"data row0 col2\" >0.745</td>\n",
       "      <td id=\"T_ac2f1_row0_col3\" class=\"data row0 col3\" >0.786</td>\n",
       "    </tr>\n",
       "    <tr>\n",
       "      <th id=\"T_ac2f1_level0_row1\" class=\"row_heading level0 row1\" >5</th>\n",
       "      <td id=\"T_ac2f1_row1_col0\" class=\"data row1 col0\" >1.3e+04 K</td>\n",
       "      <td id=\"T_ac2f1_row1_col1\" class=\"data row1 col1\" >1.34e+04 K</td>\n",
       "      <td id=\"T_ac2f1_row1_col2\" class=\"data row1 col2\" >0.248</td>\n",
       "      <td id=\"T_ac2f1_row1_col3\" class=\"data row1 col3\" >0.254</td>\n",
       "    </tr>\n",
       "    <tr>\n",
       "      <th id=\"T_ac2f1_level0_row2\" class=\"row_heading level0 row2\" >10</th>\n",
       "      <td id=\"T_ac2f1_row2_col0\" class=\"data row2 col0\" >1.27e+04 K</td>\n",
       "      <td id=\"T_ac2f1_row2_col1\" class=\"data row2 col1\" >1.32e+04 K</td>\n",
       "      <td id=\"T_ac2f1_row2_col2\" class=\"data row2 col2\" >0.112</td>\n",
       "      <td id=\"T_ac2f1_row2_col3\" class=\"data row2 col3\" >0.107</td>\n",
       "    </tr>\n",
       "    <tr>\n",
       "      <th id=\"T_ac2f1_level0_row3\" class=\"row_heading level0 row3\" >15</th>\n",
       "      <td id=\"T_ac2f1_row3_col0\" class=\"data row3 col0\" >1.26e+04 K</td>\n",
       "      <td id=\"T_ac2f1_row3_col1\" class=\"data row3 col1\" >1.31e+04 K</td>\n",
       "      <td id=\"T_ac2f1_row3_col2\" class=\"data row3 col2\" >0.0624</td>\n",
       "      <td id=\"T_ac2f1_row3_col3\" class=\"data row3 col3\" >0.0545</td>\n",
       "    </tr>\n",
       "  </tbody>\n",
       "</table>\n"
      ],
      "text/plain": [
       "<pandas.io.formats.style.Styler at 0x7f9770434440>"
      ]
     },
     "metadata": {},
     "output_type": "display_data"
    },
    {
     "name": "stdout",
     "output_type": "stream",
     "text": [
      "[\u001b[1mtardis.workflows.workflow_logging\u001b[0m][\u001b[1;37mINFO\u001b[0m   ]  \n",
      "\t\n",
      "\tCurrent t_inner = 14274.784 K\n",
      "\tExpected t_inner for next iteration = 14167.119 K\n",
      " (\u001b[1mworkflow_logging.py\u001b[0m:68)\n",
      "[\u001b[1mtardis.plasma.properties.partition_function\u001b[0m][\u001b[1;37mINFO\u001b[0m   ]  \n",
      "\tCalculating rates for species (1, 0) (\u001b[1mpartition_function.py\u001b[0m:190)\n",
      "[\u001b[1mtardis.plasma.properties.partition_function\u001b[0m][\u001b[1;37mINFO\u001b[0m   ]  \n",
      "\tCalculating rates for species (2, 0) (\u001b[1mpartition_function.py\u001b[0m:190)\n",
      "[\u001b[1mtardis.plasma.properties.partition_function\u001b[0m][\u001b[1;37mINFO\u001b[0m   ]  \n",
      "\tCalculating rates for species (2, 1) (\u001b[1mpartition_function.py\u001b[0m:190)\n",
      "[\u001b[1mtardis.workflows.standard_tardis_workflow\u001b[0m][\u001b[1;37mINFO\u001b[0m   ]  \n",
      "\t\n",
      "\tStarting iteration 5 of 40 (\u001b[1mstandard_tardis_workflow.py\u001b[0m:211)\n",
      "[\u001b[1mtardis.workflows.standard_tardis_workflow\u001b[0m][\u001b[1;37mINFO\u001b[0m   ]  \n",
      "\t\n",
      "\tLuminosity emitted   = 1.059e+43 erg / s\n",
      "\tLuminosity absorbed  = 3.236e+43 erg / s\n",
      "\tLuminosity requested = 1.077e+43 erg / s\n",
      " (\u001b[1mstandard_tardis_workflow.py\u001b[0m:171)\n",
      "[\u001b[1mtardis.workflows.workflow_logging\u001b[0m][\u001b[1;37mINFO\u001b[0m   ]  \n",
      "\t\n",
      "\tPlasma stratification: (\u001b[1mworkflow_logging.py\u001b[0m:61)\n"
     ]
    },
    {
     "data": {
      "text/html": [
       "<style type=\"text/css\">\n",
       "</style>\n",
       "<table id=\"T_e620a\">\n",
       "  <thead>\n",
       "    <tr>\n",
       "      <th class=\"index_name level0\" >Shell No.</th>\n",
       "      <th id=\"T_e620a_level0_col0\" class=\"col_heading level0 col0\" >t_rad</th>\n",
       "      <th id=\"T_e620a_level0_col1\" class=\"col_heading level0 col1\" >next_t_rad</th>\n",
       "      <th id=\"T_e620a_level0_col2\" class=\"col_heading level0 col2\" >w</th>\n",
       "      <th id=\"T_e620a_level0_col3\" class=\"col_heading level0 col3\" >next_w</th>\n",
       "    </tr>\n",
       "  </thead>\n",
       "  <tbody>\n",
       "    <tr>\n",
       "      <th id=\"T_e620a_level0_row0\" class=\"row_heading level0 row0\" >0</th>\n",
       "      <td id=\"T_e620a_row0_col0\" class=\"data row0 col0\" >1.38e+04 K</td>\n",
       "      <td id=\"T_e620a_row0_col1\" class=\"data row0 col1\" >1.4e+04 K</td>\n",
       "      <td id=\"T_e620a_row0_col2\" class=\"data row0 col2\" >0.766</td>\n",
       "      <td id=\"T_e620a_row0_col3\" class=\"data row0 col3\" >0.79</td>\n",
       "    </tr>\n",
       "    <tr>\n",
       "      <th id=\"T_e620a_level0_row1\" class=\"row_heading level0 row1\" >5</th>\n",
       "      <td id=\"T_e620a_row1_col0\" class=\"data row1 col0\" >1.32e+04 K</td>\n",
       "      <td id=\"T_e620a_row1_col1\" class=\"data row1 col1\" >1.34e+04 K</td>\n",
       "      <td id=\"T_e620a_row1_col2\" class=\"data row1 col2\" >0.251</td>\n",
       "      <td id=\"T_e620a_row1_col3\" class=\"data row1 col3\" >0.247</td>\n",
       "    </tr>\n",
       "    <tr>\n",
       "      <th id=\"T_e620a_level0_row2\" class=\"row_heading level0 row2\" >10</th>\n",
       "      <td id=\"T_e620a_row2_col0\" class=\"data row2 col0\" >1.3e+04 K</td>\n",
       "      <td id=\"T_e620a_row2_col1\" class=\"data row2 col1\" >1.33e+04 K</td>\n",
       "      <td id=\"T_e620a_row2_col2\" class=\"data row2 col2\" >0.11</td>\n",
       "      <td id=\"T_e620a_row2_col3\" class=\"data row2 col3\" >0.102</td>\n",
       "    </tr>\n",
       "    <tr>\n",
       "      <th id=\"T_e620a_level0_row3\" class=\"row_heading level0 row3\" >15</th>\n",
       "      <td id=\"T_e620a_row3_col0\" class=\"data row3 col0\" >1.29e+04 K</td>\n",
       "      <td id=\"T_e620a_row3_col1\" class=\"data row3 col1\" >1.3e+04 K</td>\n",
       "      <td id=\"T_e620a_row3_col2\" class=\"data row3 col2\" >0.0584</td>\n",
       "      <td id=\"T_e620a_row3_col3\" class=\"data row3 col3\" >0.0548</td>\n",
       "    </tr>\n",
       "  </tbody>\n",
       "</table>\n"
      ],
      "text/plain": [
       "<pandas.io.formats.style.Styler at 0x7f97671293d0>"
      ]
     },
     "metadata": {},
     "output_type": "display_data"
    },
    {
     "name": "stdout",
     "output_type": "stream",
     "text": [
      "[\u001b[1mtardis.workflows.workflow_logging\u001b[0m][\u001b[1;37mINFO\u001b[0m   ]  \n",
      "\t\n",
      "\tCurrent t_inner = 14220.951 K\n",
      "\tExpected t_inner for next iteration = 14337.287 K\n",
      " (\u001b[1mworkflow_logging.py\u001b[0m:68)\n",
      "[\u001b[1mtardis.plasma.properties.partition_function\u001b[0m][\u001b[1;37mINFO\u001b[0m   ]  \n",
      "\tCalculating rates for species (1, 0) (\u001b[1mpartition_function.py\u001b[0m:190)\n",
      "[\u001b[1mtardis.plasma.properties.partition_function\u001b[0m][\u001b[1;37mINFO\u001b[0m   ]  \n",
      "\tCalculating rates for species (2, 0) (\u001b[1mpartition_function.py\u001b[0m:190)\n",
      "[\u001b[1mtardis.plasma.properties.partition_function\u001b[0m][\u001b[1;37mINFO\u001b[0m   ]  \n",
      "\tCalculating rates for species (2, 1) (\u001b[1mpartition_function.py\u001b[0m:190)\n",
      "[\u001b[1mtardis.workflows.simple_tardis_workflow\u001b[0m][\u001b[1;37mINFO\u001b[0m   ]  \n",
      "\tIteration converged 1/5 consecutive times. (\u001b[1msimple_tardis_workflow.py\u001b[0m:217)\n",
      "[\u001b[1mtardis.workflows.standard_tardis_workflow\u001b[0m][\u001b[1;37mINFO\u001b[0m   ]  \n",
      "\t\n",
      "\tStarting iteration 6 of 40 (\u001b[1mstandard_tardis_workflow.py\u001b[0m:211)\n",
      "[\u001b[1mtardis.workflows.standard_tardis_workflow\u001b[0m][\u001b[1;37mINFO\u001b[0m   ]  \n",
      "\t\n",
      "\tLuminosity emitted   = 1.085e+43 erg / s\n",
      "\tLuminosity absorbed  = 3.282e+43 erg / s\n",
      "\tLuminosity requested = 1.077e+43 erg / s\n",
      " (\u001b[1mstandard_tardis_workflow.py\u001b[0m:171)\n",
      "[\u001b[1mtardis.workflows.workflow_logging\u001b[0m][\u001b[1;37mINFO\u001b[0m   ]  \n",
      "\t\n",
      "\tPlasma stratification: (\u001b[1mworkflow_logging.py\u001b[0m:61)\n"
     ]
    },
    {
     "data": {
      "text/html": [
       "<style type=\"text/css\">\n",
       "</style>\n",
       "<table id=\"T_4cd75\">\n",
       "  <thead>\n",
       "    <tr>\n",
       "      <th class=\"index_name level0\" >Shell No.</th>\n",
       "      <th id=\"T_4cd75_level0_col0\" class=\"col_heading level0 col0\" >t_rad</th>\n",
       "      <th id=\"T_4cd75_level0_col1\" class=\"col_heading level0 col1\" >next_t_rad</th>\n",
       "      <th id=\"T_4cd75_level0_col2\" class=\"col_heading level0 col2\" >w</th>\n",
       "      <th id=\"T_4cd75_level0_col3\" class=\"col_heading level0 col3\" >next_w</th>\n",
       "    </tr>\n",
       "  </thead>\n",
       "  <tbody>\n",
       "    <tr>\n",
       "      <th id=\"T_4cd75_level0_row0\" class=\"row_heading level0 row0\" >0</th>\n",
       "      <td id=\"T_4cd75_row0_col0\" class=\"data row0 col0\" >1.39e+04 K</td>\n",
       "      <td id=\"T_4cd75_row0_col1\" class=\"data row0 col1\" >1.42e+04 K</td>\n",
       "      <td id=\"T_4cd75_row0_col2\" class=\"data row0 col2\" >0.778</td>\n",
       "      <td id=\"T_4cd75_row0_col3\" class=\"data row0 col3\" >0.77</td>\n",
       "    </tr>\n",
       "    <tr>\n",
       "      <th id=\"T_4cd75_level0_row1\" class=\"row_heading level0 row1\" >5</th>\n",
       "      <td id=\"T_4cd75_row1_col0\" class=\"data row1 col0\" >1.33e+04 K</td>\n",
       "      <td id=\"T_4cd75_row1_col1\" class=\"data row1 col1\" >1.35e+04 K</td>\n",
       "      <td id=\"T_4cd75_row1_col2\" class=\"data row1 col2\" >0.249</td>\n",
       "      <td id=\"T_4cd75_row1_col3\" class=\"data row1 col3\" >0.244</td>\n",
       "    </tr>\n",
       "    <tr>\n",
       "      <th id=\"T_4cd75_level0_row2\" class=\"row_heading level0 row2\" >10</th>\n",
       "      <td id=\"T_4cd75_row2_col0\" class=\"data row2 col0\" >1.31e+04 K</td>\n",
       "      <td id=\"T_4cd75_row2_col1\" class=\"data row2 col1\" >1.32e+04 K</td>\n",
       "      <td id=\"T_4cd75_row2_col2\" class=\"data row2 col2\" >0.106</td>\n",
       "      <td id=\"T_4cd75_row2_col3\" class=\"data row2 col3\" >0.104</td>\n",
       "    </tr>\n",
       "    <tr>\n",
       "      <th id=\"T_4cd75_level0_row3\" class=\"row_heading level0 row3\" >15</th>\n",
       "      <td id=\"T_4cd75_row3_col0\" class=\"data row3 col0\" >1.29e+04 K</td>\n",
       "      <td id=\"T_4cd75_row3_col1\" class=\"data row3 col1\" >1.32e+04 K</td>\n",
       "      <td id=\"T_4cd75_row3_col2\" class=\"data row3 col2\" >0.0566</td>\n",
       "      <td id=\"T_4cd75_row3_col3\" class=\"data row3 col3\" >0.0524</td>\n",
       "    </tr>\n",
       "  </tbody>\n",
       "</table>\n"
      ],
      "text/plain": [
       "<pandas.io.formats.style.Styler at 0x7f976b9d85c0>"
      ]
     },
     "metadata": {},
     "output_type": "display_data"
    },
    {
     "name": "stdout",
     "output_type": "stream",
     "text": [
      "[\u001b[1mtardis.workflows.workflow_logging\u001b[0m][\u001b[1;37mINFO\u001b[0m   ]  \n",
      "\t\n",
      "\tCurrent t_inner = 14279.119 K\n",
      "\tExpected t_inner for next iteration = 14227.927 K\n",
      " (\u001b[1mworkflow_logging.py\u001b[0m:68)\n",
      "[\u001b[1mtardis.plasma.properties.partition_function\u001b[0m][\u001b[1;37mINFO\u001b[0m   ]  \n",
      "\tCalculating rates for species (1, 0) (\u001b[1mpartition_function.py\u001b[0m:190)\n",
      "[\u001b[1mtardis.plasma.properties.partition_function\u001b[0m][\u001b[1;37mINFO\u001b[0m   ]  \n",
      "\tCalculating rates for species (2, 0) (\u001b[1mpartition_function.py\u001b[0m:190)\n",
      "[\u001b[1mtardis.plasma.properties.partition_function\u001b[0m][\u001b[1;37mINFO\u001b[0m   ]  \n",
      "\tCalculating rates for species (2, 1) (\u001b[1mpartition_function.py\u001b[0m:190)\n",
      "[\u001b[1mtardis.workflows.simple_tardis_workflow\u001b[0m][\u001b[1;37mINFO\u001b[0m   ]  \n",
      "\tIteration converged 2/5 consecutive times. (\u001b[1msimple_tardis_workflow.py\u001b[0m:217)\n",
      "[\u001b[1mtardis.workflows.standard_tardis_workflow\u001b[0m][\u001b[1;37mINFO\u001b[0m   ]  \n",
      "\t\n",
      "\tStarting iteration 7 of 40 (\u001b[1mstandard_tardis_workflow.py\u001b[0m:211)\n",
      "[\u001b[1mtardis.workflows.standard_tardis_workflow\u001b[0m][\u001b[1;37mINFO\u001b[0m   ]  \n",
      "\t\n",
      "\tLuminosity emitted   = 1.086e+43 erg / s\n",
      "\tLuminosity absorbed  = 3.248e+43 erg / s\n",
      "\tLuminosity requested = 1.077e+43 erg / s\n",
      " (\u001b[1mstandard_tardis_workflow.py\u001b[0m:171)\n",
      "[\u001b[1mtardis.workflows.workflow_logging\u001b[0m][\u001b[1;37mINFO\u001b[0m   ]  \n",
      "\t\n",
      "\tPlasma stratification: (\u001b[1mworkflow_logging.py\u001b[0m:61)\n"
     ]
    },
    {
     "data": {
      "text/html": [
       "<style type=\"text/css\">\n",
       "</style>\n",
       "<table id=\"T_f2f18\">\n",
       "  <thead>\n",
       "    <tr>\n",
       "      <th class=\"index_name level0\" >Shell No.</th>\n",
       "      <th id=\"T_f2f18_level0_col0\" class=\"col_heading level0 col0\" >t_rad</th>\n",
       "      <th id=\"T_f2f18_level0_col1\" class=\"col_heading level0 col1\" >next_t_rad</th>\n",
       "      <th id=\"T_f2f18_level0_col2\" class=\"col_heading level0 col2\" >w</th>\n",
       "      <th id=\"T_f2f18_level0_col3\" class=\"col_heading level0 col3\" >next_w</th>\n",
       "    </tr>\n",
       "  </thead>\n",
       "  <tbody>\n",
       "    <tr>\n",
       "      <th id=\"T_f2f18_level0_row0\" class=\"row_heading level0 row0\" >0</th>\n",
       "      <td id=\"T_f2f18_row0_col0\" class=\"data row0 col0\" >1.41e+04 K</td>\n",
       "      <td id=\"T_f2f18_row0_col1\" class=\"data row0 col1\" >1.41e+04 K</td>\n",
       "      <td id=\"T_f2f18_row0_col2\" class=\"data row0 col2\" >0.774</td>\n",
       "      <td id=\"T_f2f18_row0_col3\" class=\"data row0 col3\" >0.782</td>\n",
       "    </tr>\n",
       "    <tr>\n",
       "      <th id=\"T_f2f18_level0_row1\" class=\"row_heading level0 row1\" >5</th>\n",
       "      <td id=\"T_f2f18_row1_col0\" class=\"data row1 col0\" >1.34e+04 K</td>\n",
       "      <td id=\"T_f2f18_row1_col1\" class=\"data row1 col1\" >1.35e+04 K</td>\n",
       "      <td id=\"T_f2f18_row1_col2\" class=\"data row1 col2\" >0.247</td>\n",
       "      <td id=\"T_f2f18_row1_col3\" class=\"data row1 col3\" >0.252</td>\n",
       "    </tr>\n",
       "    <tr>\n",
       "      <th id=\"T_f2f18_level0_row2\" class=\"row_heading level0 row2\" >10</th>\n",
       "      <td id=\"T_f2f18_row2_col0\" class=\"data row2 col0\" >1.32e+04 K</td>\n",
       "      <td id=\"T_f2f18_row2_col1\" class=\"data row2 col1\" >1.33e+04 K</td>\n",
       "      <td id=\"T_f2f18_row2_col2\" class=\"data row2 col2\" >0.105</td>\n",
       "      <td id=\"T_f2f18_row2_col3\" class=\"data row2 col3\" >0.101</td>\n",
       "    </tr>\n",
       "    <tr>\n",
       "      <th id=\"T_f2f18_level0_row3\" class=\"row_heading level0 row3\" >15</th>\n",
       "      <td id=\"T_f2f18_row3_col0\" class=\"data row3 col0\" >1.31e+04 K</td>\n",
       "      <td id=\"T_f2f18_row3_col1\" class=\"data row3 col1\" >1.32e+04 K</td>\n",
       "      <td id=\"T_f2f18_row3_col2\" class=\"data row3 col2\" >0.0545</td>\n",
       "      <td id=\"T_f2f18_row3_col3\" class=\"data row3 col3\" >0.0542</td>\n",
       "    </tr>\n",
       "  </tbody>\n",
       "</table>\n"
      ],
      "text/plain": [
       "<pandas.io.formats.style.Styler at 0x7f9767128dd0>"
      ]
     },
     "metadata": {},
     "output_type": "display_data"
    },
    {
     "name": "stdout",
     "output_type": "stream",
     "text": [
      "[\u001b[1mtardis.workflows.workflow_logging\u001b[0m][\u001b[1;37mINFO\u001b[0m   ]  \n",
      "\t\n",
      "\tCurrent t_inner = 14253.523 K\n",
      "\tExpected t_inner for next iteration = 14194.108 K\n",
      " (\u001b[1mworkflow_logging.py\u001b[0m:68)\n",
      "[\u001b[1mtardis.plasma.properties.partition_function\u001b[0m][\u001b[1;37mINFO\u001b[0m   ]  \n",
      "\tCalculating rates for species (1, 0) (\u001b[1mpartition_function.py\u001b[0m:190)\n",
      "[\u001b[1mtardis.plasma.properties.partition_function\u001b[0m][\u001b[1;37mINFO\u001b[0m   ]  \n",
      "\tCalculating rates for species (2, 0) (\u001b[1mpartition_function.py\u001b[0m:190)\n",
      "[\u001b[1mtardis.plasma.properties.partition_function\u001b[0m][\u001b[1;37mINFO\u001b[0m   ]  \n",
      "\tCalculating rates for species (2, 1) (\u001b[1mpartition_function.py\u001b[0m:190)\n",
      "[\u001b[1mtardis.workflows.simple_tardis_workflow\u001b[0m][\u001b[1;37mINFO\u001b[0m   ]  \n",
      "\tIteration converged 3/5 consecutive times. (\u001b[1msimple_tardis_workflow.py\u001b[0m:217)\n",
      "[\u001b[1mtardis.workflows.standard_tardis_workflow\u001b[0m][\u001b[1;37mINFO\u001b[0m   ]  \n",
      "\t\n",
      "\tStarting iteration 8 of 40 (\u001b[1mstandard_tardis_workflow.py\u001b[0m:211)\n",
      "[\u001b[1mtardis.workflows.standard_tardis_workflow\u001b[0m][\u001b[1;37mINFO\u001b[0m   ]  \n",
      "\t\n",
      "\tLuminosity emitted   = 1.074e+43 erg / s\n",
      "\tLuminosity absorbed  = 3.224e+43 erg / s\n",
      "\tLuminosity requested = 1.077e+43 erg / s\n",
      " (\u001b[1mstandard_tardis_workflow.py\u001b[0m:171)\n",
      "[\u001b[1mtardis.workflows.workflow_logging\u001b[0m][\u001b[1;37mINFO\u001b[0m   ]  \n",
      "\t\n",
      "\tPlasma stratification: (\u001b[1mworkflow_logging.py\u001b[0m:61)\n"
     ]
    },
    {
     "data": {
      "text/html": [
       "<style type=\"text/css\">\n",
       "</style>\n",
       "<table id=\"T_3f941\">\n",
       "  <thead>\n",
       "    <tr>\n",
       "      <th class=\"index_name level0\" >Shell No.</th>\n",
       "      <th id=\"T_3f941_level0_col0\" class=\"col_heading level0 col0\" >t_rad</th>\n",
       "      <th id=\"T_3f941_level0_col1\" class=\"col_heading level0 col1\" >next_t_rad</th>\n",
       "      <th id=\"T_3f941_level0_col2\" class=\"col_heading level0 col2\" >w</th>\n",
       "      <th id=\"T_3f941_level0_col3\" class=\"col_heading level0 col3\" >next_w</th>\n",
       "    </tr>\n",
       "  </thead>\n",
       "  <tbody>\n",
       "    <tr>\n",
       "      <th id=\"T_3f941_level0_row0\" class=\"row_heading level0 row0\" >0</th>\n",
       "      <td id=\"T_3f941_row0_col0\" class=\"data row0 col0\" >1.41e+04 K</td>\n",
       "      <td id=\"T_3f941_row0_col1\" class=\"data row0 col1\" >1.4e+04 K</td>\n",
       "      <td id=\"T_3f941_row0_col2\" class=\"data row0 col2\" >0.778</td>\n",
       "      <td id=\"T_3f941_row0_col3\" class=\"data row0 col3\" >0.791</td>\n",
       "    </tr>\n",
       "    <tr>\n",
       "      <th id=\"T_3f941_level0_row1\" class=\"row_heading level0 row1\" >5</th>\n",
       "      <td id=\"T_3f941_row1_col0\" class=\"data row1 col0\" >1.35e+04 K</td>\n",
       "      <td id=\"T_3f941_row1_col1\" class=\"data row1 col1\" >1.35e+04 K</td>\n",
       "      <td id=\"T_3f941_row1_col2\" class=\"data row1 col2\" >0.249</td>\n",
       "      <td id=\"T_3f941_row1_col3\" class=\"data row1 col3\" >0.248</td>\n",
       "    </tr>\n",
       "    <tr>\n",
       "      <th id=\"T_3f941_level0_row2\" class=\"row_heading level0 row2\" >10</th>\n",
       "      <td id=\"T_3f941_row2_col0\" class=\"data row2 col0\" >1.33e+04 K</td>\n",
       "      <td id=\"T_3f941_row2_col1\" class=\"data row2 col1\" >1.33e+04 K</td>\n",
       "      <td id=\"T_3f941_row2_col2\" class=\"data row2 col2\" >0.103</td>\n",
       "      <td id=\"T_3f941_row2_col3\" class=\"data row2 col3\" >0.102</td>\n",
       "    </tr>\n",
       "    <tr>\n",
       "      <th id=\"T_3f941_level0_row3\" class=\"row_heading level0 row3\" >15</th>\n",
       "      <td id=\"T_3f941_row3_col0\" class=\"data row3 col0\" >1.31e+04 K</td>\n",
       "      <td id=\"T_3f941_row3_col1\" class=\"data row3 col1\" >1.32e+04 K</td>\n",
       "      <td id=\"T_3f941_row3_col2\" class=\"data row3 col2\" >0.0544</td>\n",
       "      <td id=\"T_3f941_row3_col3\" class=\"data row3 col3\" >0.0535</td>\n",
       "    </tr>\n",
       "  </tbody>\n",
       "</table>\n"
      ],
      "text/plain": [
       "<pandas.io.formats.style.Styler at 0x7f976b9da240>"
      ]
     },
     "metadata": {},
     "output_type": "display_data"
    },
    {
     "name": "stdout",
     "output_type": "stream",
     "text": [
      "[\u001b[1mtardis.workflows.workflow_logging\u001b[0m][\u001b[1;37mINFO\u001b[0m   ]  \n",
      "\t\n",
      "\tCurrent t_inner = 14223.816 K\n",
      "\tExpected t_inner for next iteration = 14242.058 K\n",
      " (\u001b[1mworkflow_logging.py\u001b[0m:68)\n",
      "[\u001b[1mtardis.plasma.properties.partition_function\u001b[0m][\u001b[1;37mINFO\u001b[0m   ]  \n",
      "\tCalculating rates for species (1, 0) (\u001b[1mpartition_function.py\u001b[0m:190)\n",
      "[\u001b[1mtardis.plasma.properties.partition_function\u001b[0m][\u001b[1;37mINFO\u001b[0m   ]  \n",
      "\tCalculating rates for species (2, 0) (\u001b[1mpartition_function.py\u001b[0m:190)\n",
      "[\u001b[1mtardis.plasma.properties.partition_function\u001b[0m][\u001b[1;37mINFO\u001b[0m   ]  \n",
      "\tCalculating rates for species (2, 1) (\u001b[1mpartition_function.py\u001b[0m:190)\n",
      "[\u001b[1mtardis.workflows.simple_tardis_workflow\u001b[0m][\u001b[1;37mINFO\u001b[0m   ]  \n",
      "\tIteration converged 4/5 consecutive times. (\u001b[1msimple_tardis_workflow.py\u001b[0m:217)\n",
      "[\u001b[1mtardis.workflows.standard_tardis_workflow\u001b[0m][\u001b[1;37mINFO\u001b[0m   ]  \n",
      "\t\n",
      "\tStarting iteration 9 of 40 (\u001b[1mstandard_tardis_workflow.py\u001b[0m:211)\n",
      "[\u001b[1mtardis.workflows.standard_tardis_workflow\u001b[0m][\u001b[1;37mINFO\u001b[0m   ]  \n",
      "\t\n",
      "\tLuminosity emitted   = 1.072e+43 erg / s\n",
      "\tLuminosity absorbed  = 3.237e+43 erg / s\n",
      "\tLuminosity requested = 1.077e+43 erg / s\n",
      " (\u001b[1mstandard_tardis_workflow.py\u001b[0m:171)\n",
      "[\u001b[1mtardis.workflows.workflow_logging\u001b[0m][\u001b[1;37mINFO\u001b[0m   ]  \n",
      "\t\n",
      "\tPlasma stratification: (\u001b[1mworkflow_logging.py\u001b[0m:61)\n"
     ]
    },
    {
     "data": {
      "text/html": [
       "<style type=\"text/css\">\n",
       "</style>\n",
       "<table id=\"T_83bef\">\n",
       "  <thead>\n",
       "    <tr>\n",
       "      <th class=\"index_name level0\" >Shell No.</th>\n",
       "      <th id=\"T_83bef_level0_col0\" class=\"col_heading level0 col0\" >t_rad</th>\n",
       "      <th id=\"T_83bef_level0_col1\" class=\"col_heading level0 col1\" >next_t_rad</th>\n",
       "      <th id=\"T_83bef_level0_col2\" class=\"col_heading level0 col2\" >w</th>\n",
       "      <th id=\"T_83bef_level0_col3\" class=\"col_heading level0 col3\" >next_w</th>\n",
       "    </tr>\n",
       "  </thead>\n",
       "  <tbody>\n",
       "    <tr>\n",
       "      <th id=\"T_83bef_level0_row0\" class=\"row_heading level0 row0\" >0</th>\n",
       "      <td id=\"T_83bef_row0_col0\" class=\"data row0 col0\" >1.41e+04 K</td>\n",
       "      <td id=\"T_83bef_row0_col1\" class=\"data row0 col1\" >1.41e+04 K</td>\n",
       "      <td id=\"T_83bef_row0_col2\" class=\"data row0 col2\" >0.784</td>\n",
       "      <td id=\"T_83bef_row0_col3\" class=\"data row0 col3\" >0.779</td>\n",
       "    </tr>\n",
       "    <tr>\n",
       "      <th id=\"T_83bef_level0_row1\" class=\"row_heading level0 row1\" >5</th>\n",
       "      <td id=\"T_83bef_row1_col0\" class=\"data row1 col0\" >1.35e+04 K</td>\n",
       "      <td id=\"T_83bef_row1_col1\" class=\"data row1 col1\" >1.35e+04 K</td>\n",
       "      <td id=\"T_83bef_row1_col2\" class=\"data row1 col2\" >0.249</td>\n",
       "      <td id=\"T_83bef_row1_col3\" class=\"data row1 col3\" >0.248</td>\n",
       "    </tr>\n",
       "    <tr>\n",
       "      <th id=\"T_83bef_level0_row2\" class=\"row_heading level0 row2\" >10</th>\n",
       "      <td id=\"T_83bef_row2_col0\" class=\"data row2 col0\" >1.33e+04 K</td>\n",
       "      <td id=\"T_83bef_row2_col1\" class=\"data row2 col1\" >1.33e+04 K</td>\n",
       "      <td id=\"T_83bef_row2_col2\" class=\"data row2 col2\" >0.102</td>\n",
       "      <td id=\"T_83bef_row2_col3\" class=\"data row2 col3\" >0.102</td>\n",
       "    </tr>\n",
       "    <tr>\n",
       "      <th id=\"T_83bef_level0_row3\" class=\"row_heading level0 row3\" >15</th>\n",
       "      <td id=\"T_83bef_row3_col0\" class=\"data row3 col0\" >1.31e+04 K</td>\n",
       "      <td id=\"T_83bef_row3_col1\" class=\"data row3 col1\" >1.31e+04 K</td>\n",
       "      <td id=\"T_83bef_row3_col2\" class=\"data row3 col2\" >0.0539</td>\n",
       "      <td id=\"T_83bef_row3_col3\" class=\"data row3 col3\" >0.0537</td>\n",
       "    </tr>\n",
       "  </tbody>\n",
       "</table>\n"
      ],
      "text/plain": [
       "<pandas.io.formats.style.Styler at 0x7f976712be60>"
      ]
     },
     "metadata": {},
     "output_type": "display_data"
    },
    {
     "name": "stdout",
     "output_type": "stream",
     "text": [
      "[\u001b[1mtardis.workflows.workflow_logging\u001b[0m][\u001b[1;37mINFO\u001b[0m   ]  \n",
      "\t\n",
      "\tCurrent t_inner = 14232.937 K\n",
      "\tExpected t_inner for next iteration = 14264.477 K\n",
      " (\u001b[1mworkflow_logging.py\u001b[0m:68)\n",
      "[\u001b[1mtardis.plasma.properties.partition_function\u001b[0m][\u001b[1;37mINFO\u001b[0m   ]  \n",
      "\tCalculating rates for species (1, 0) (\u001b[1mpartition_function.py\u001b[0m:190)\n",
      "[\u001b[1mtardis.plasma.properties.partition_function\u001b[0m][\u001b[1;37mINFO\u001b[0m   ]  \n",
      "\tCalculating rates for species (2, 0) (\u001b[1mpartition_function.py\u001b[0m:190)\n",
      "[\u001b[1mtardis.plasma.properties.partition_function\u001b[0m][\u001b[1;37mINFO\u001b[0m   ]  \n",
      "\tCalculating rates for species (2, 1) (\u001b[1mpartition_function.py\u001b[0m:190)\n",
      "[\u001b[1mtardis.workflows.simple_tardis_workflow\u001b[0m][\u001b[1;37mINFO\u001b[0m   ]  \n",
      "\tIteration converged 5/5 consecutive times. (\u001b[1msimple_tardis_workflow.py\u001b[0m:217)\n",
      "[\u001b[1mtardis.workflows.standard_tardis_workflow\u001b[0m][\u001b[1;37mINFO\u001b[0m   ]  \n",
      "\t\n",
      "\tStarting final iteration (\u001b[1mstandard_tardis_workflow.py\u001b[0m:247)\n",
      "[\u001b[1mtardis.workflows.standard_tardis_workflow\u001b[0m][\u001b[1;37mINFO\u001b[0m   ]  \n",
      "\t\n",
      "\tLuminosity emitted   = 1.078e+43 erg / s\n",
      "\tLuminosity absorbed  = 3.251e+43 erg / s\n",
      "\tLuminosity requested = 1.077e+43 erg / s\n",
      " (\u001b[1mstandard_tardis_workflow.py\u001b[0m:171)\n",
      "[\u001b[1mtardis.workflows.workflow_logging\u001b[0m][\u001b[1;37mINFO\u001b[0m   ]  \n",
      "\t\n",
      "\tPlasma stratification: (\u001b[1mworkflow_logging.py\u001b[0m:61)\n"
     ]
    },
    {
     "data": {
      "text/html": [
       "<style type=\"text/css\">\n",
       "</style>\n",
       "<table id=\"T_9ba5a\">\n",
       "  <thead>\n",
       "    <tr>\n",
       "      <th class=\"index_name level0\" >Shell No.</th>\n",
       "      <th id=\"T_9ba5a_level0_col0\" class=\"col_heading level0 col0\" >t_rad</th>\n",
       "      <th id=\"T_9ba5a_level0_col1\" class=\"col_heading level0 col1\" >next_t_rad</th>\n",
       "      <th id=\"T_9ba5a_level0_col2\" class=\"col_heading level0 col2\" >w</th>\n",
       "      <th id=\"T_9ba5a_level0_col3\" class=\"col_heading level0 col3\" >next_w</th>\n",
       "    </tr>\n",
       "  </thead>\n",
       "  <tbody>\n",
       "    <tr>\n",
       "      <th id=\"T_9ba5a_level0_row0\" class=\"row_heading level0 row0\" >0</th>\n",
       "      <td id=\"T_9ba5a_row0_col0\" class=\"data row0 col0\" >1.41e+04 K</td>\n",
       "      <td id=\"T_9ba5a_row0_col1\" class=\"data row0 col1\" >1.41e+04 K</td>\n",
       "      <td id=\"T_9ba5a_row0_col2\" class=\"data row0 col2\" >0.782</td>\n",
       "      <td id=\"T_9ba5a_row0_col3\" class=\"data row0 col3\" >0.784</td>\n",
       "    </tr>\n",
       "    <tr>\n",
       "      <th id=\"T_9ba5a_level0_row1\" class=\"row_heading level0 row1\" >5</th>\n",
       "      <td id=\"T_9ba5a_row1_col0\" class=\"data row1 col0\" >1.35e+04 K</td>\n",
       "      <td id=\"T_9ba5a_row1_col1\" class=\"data row1 col1\" >1.35e+04 K</td>\n",
       "      <td id=\"T_9ba5a_row1_col2\" class=\"data row1 col2\" >0.249</td>\n",
       "      <td id=\"T_9ba5a_row1_col3\" class=\"data row1 col3\" >0.245</td>\n",
       "    </tr>\n",
       "    <tr>\n",
       "      <th id=\"T_9ba5a_level0_row2\" class=\"row_heading level0 row2\" >10</th>\n",
       "      <td id=\"T_9ba5a_row2_col0\" class=\"data row2 col0\" >1.33e+04 K</td>\n",
       "      <td id=\"T_9ba5a_row2_col1\" class=\"data row2 col1\" >1.33e+04 K</td>\n",
       "      <td id=\"T_9ba5a_row2_col2\" class=\"data row2 col2\" >0.102</td>\n",
       "      <td id=\"T_9ba5a_row2_col3\" class=\"data row2 col3\" >0.103</td>\n",
       "    </tr>\n",
       "    <tr>\n",
       "      <th id=\"T_9ba5a_level0_row3\" class=\"row_heading level0 row3\" >15</th>\n",
       "      <td id=\"T_9ba5a_row3_col0\" class=\"data row3 col0\" >1.31e+04 K</td>\n",
       "      <td id=\"T_9ba5a_row3_col1\" class=\"data row3 col1\" >1.32e+04 K</td>\n",
       "      <td id=\"T_9ba5a_row3_col2\" class=\"data row3 col2\" >0.0538</td>\n",
       "      <td id=\"T_9ba5a_row3_col3\" class=\"data row3 col3\" >0.0539</td>\n",
       "    </tr>\n",
       "  </tbody>\n",
       "</table>\n"
      ],
      "text/plain": [
       "<pandas.io.formats.style.Styler at 0x7f9754bfd7f0>"
      ]
     },
     "metadata": {},
     "output_type": "display_data"
    },
    {
     "name": "stdout",
     "output_type": "stream",
     "text": [
      "[\u001b[1mtardis.workflows.workflow_logging\u001b[0m][\u001b[1;37mINFO\u001b[0m   ]  \n",
      "\t\n",
      "\tCurrent t_inner = 14248.707 K\n",
      "\tExpected t_inner for next iteration = 14243.707 K\n",
      " (\u001b[1mworkflow_logging.py\u001b[0m:68)\n"
     ]
    },
    {
     "data": {
      "text/html": [
       "        <script type=\"text/javascript\">\n",
       "        window.PlotlyConfig = {MathJaxConfig: 'local'};\n",
       "        if (window.MathJax && window.MathJax.Hub && window.MathJax.Hub.Config) {window.MathJax.Hub.Config({SVG: {font: \"STIX-Web\"}});}\n",
       "        if (typeof require !== 'undefined') {\n",
       "        require.undef(\"plotly\");\n",
       "        requirejs.config({\n",
       "            paths: {\n",
       "                'plotly': ['https://cdn.plot.ly/plotly-2.32.0.min']\n",
       "            }\n",
       "        });\n",
       "        require(['plotly'], function(Plotly) {\n",
       "            window._Plotly = Plotly;\n",
       "        });\n",
       "        }\n",
       "        </script>\n",
       "        "
      ]
     },
     "metadata": {},
     "output_type": "display_data"
    },
    {
     "data": {
      "text/html": [
       "<div>                            <div id=\"2f64c63e-1668-45e7-8f26-87a198095c16\" class=\"plotly-graph-div\" style=\"height:450px; width:100%;\"></div>            <script type=\"text/javascript\">                require([\"plotly\"], function(Plotly) {                    window.PLOTLYENV=window.PLOTLYENV || {};                                    if (document.getElementById(\"2f64c63e-1668-45e7-8f26-87a198095c16\")) {                    Plotly.newPlot(                        \"2f64c63e-1668-45e7-8f26-87a198095c16\",                        [{\"type\":\"scatter\",\"uid\":\"6b4b35dc-6539-49a8-97e8-ee9664fd264a\",\"xaxis\":\"x\",\"yaxis\":\"y\"},{\"type\":\"scatter\",\"uid\":\"6cebbd52-06f4-48ab-bf4c-e19383350d3e\",\"xaxis\":\"x2\",\"yaxis\":\"y2\"},{\"customdata\":[\"\\u003cbr\\u003eEmitted Luminosity: 5.428e+42\\u003cbr\\u003eRequested Luminosity: 1.077e+43\\u003cbr\\u003eAbsorbed Luminosity: 1.635e+43\",\"\\u003cbr\\u003eEmitted Luminosity: 5.428e+42\\u003cbr\\u003eRequested Luminosity: 1.077e+43\\u003cbr\\u003eAbsorbed Luminosity: 1.635e+43\",\"\\u003cbr\\u003eEmitted Luminosity: 5.428e+42\\u003cbr\\u003eRequested Luminosity: 1.077e+43\\u003cbr\\u003eAbsorbed Luminosity: 1.635e+43\",\"\\u003cbr\\u003eEmitted Luminosity: 5.428e+42\\u003cbr\\u003eRequested Luminosity: 1.077e+43\\u003cbr\\u003eAbsorbed Luminosity: 1.635e+43\",\"\\u003cbr\\u003eEmitted Luminosity: 5.428e+42\\u003cbr\\u003eRequested Luminosity: 1.077e+43\\u003cbr\\u003eAbsorbed Luminosity: 1.635e+43\",\"\\u003cbr\\u003eEmitted Luminosity: 5.428e+42\\u003cbr\\u003eRequested Luminosity: 1.077e+43\\u003cbr\\u003eAbsorbed Luminosity: 1.635e+43\",\"\\u003cbr\\u003eEmitted Luminosity: 5.428e+42\\u003cbr\\u003eRequested Luminosity: 1.077e+43\\u003cbr\\u003eAbsorbed Luminosity: 1.635e+43\",\"\\u003cbr\\u003eEmitted Luminosity: 5.428e+42\\u003cbr\\u003eRequested Luminosity: 1.077e+43\\u003cbr\\u003eAbsorbed Luminosity: 1.635e+43\",\"\\u003cbr\\u003eEmitted Luminosity: 5.428e+42\\u003cbr\\u003eRequested Luminosity: 1.077e+43\\u003cbr\\u003eAbsorbed Luminosity: 1.635e+43\",\"\\u003cbr\\u003eEmitted Luminosity: 5.428e+42\\u003cbr\\u003eRequested Luminosity: 1.077e+43\\u003cbr\\u003eAbsorbed Luminosity: 1.635e+43\",\"\\u003cbr\\u003eEmitted Luminosity: 5.428e+42\\u003cbr\\u003eRequested Luminosity: 1.077e+43\\u003cbr\\u003eAbsorbed Luminosity: 1.635e+43\",\"\\u003cbr\\u003eEmitted Luminosity: 5.428e+42\\u003cbr\\u003eRequested Luminosity: 1.077e+43\\u003cbr\\u003eAbsorbed Luminosity: 1.635e+43\",\"\\u003cbr\\u003eEmitted Luminosity: 5.428e+42\\u003cbr\\u003eRequested Luminosity: 1.077e+43\\u003cbr\\u003eAbsorbed Luminosity: 1.635e+43\",\"\\u003cbr\\u003eEmitted Luminosity: 5.428e+42\\u003cbr\\u003eRequested Luminosity: 1.077e+43\\u003cbr\\u003eAbsorbed Luminosity: 1.635e+43\",\"\\u003cbr\\u003eEmitted Luminosity: 5.428e+42\\u003cbr\\u003eRequested Luminosity: 1.077e+43\\u003cbr\\u003eAbsorbed Luminosity: 1.635e+43\",\"\\u003cbr\\u003eEmitted Luminosity: 5.428e+42\\u003cbr\\u003eRequested Luminosity: 1.077e+43\\u003cbr\\u003eAbsorbed Luminosity: 1.635e+43\",\"\\u003cbr\\u003eEmitted Luminosity: 5.428e+42\\u003cbr\\u003eRequested Luminosity: 1.077e+43\\u003cbr\\u003eAbsorbed Luminosity: 1.635e+43\",\"\\u003cbr\\u003eEmitted Luminosity: 5.428e+42\\u003cbr\\u003eRequested Luminosity: 1.077e+43\\u003cbr\\u003eAbsorbed Luminosity: 1.635e+43\",\"\\u003cbr\\u003eEmitted Luminosity: 5.428e+42\\u003cbr\\u003eRequested Luminosity: 1.077e+43\\u003cbr\\u003eAbsorbed Luminosity: 1.635e+43\",\"\\u003cbr\\u003eEmitted Luminosity: 5.428e+42\\u003cbr\\u003eRequested Luminosity: 1.077e+43\\u003cbr\\u003eAbsorbed Luminosity: 1.635e+43\",\"\\u003cbr\\u003eEmitted Luminosity: 5.428e+42\\u003cbr\\u003eRequested Luminosity: 1.077e+43\\u003cbr\\u003eAbsorbed Luminosity: 1.635e+43\"],\"hovertemplate\":\"\\u003cb\\u003eY\\u003c\\u002fb\\u003e: %{y:.3f} at \\u003cb\\u003eX\\u003c\\u002fb\\u003e = %{x:,.0f}%{customdata}\",\"legendgroup\":\"group-1\",\"line\":{\"color\":\"#000080\",\"shape\":\"hv\"},\"name\":\"1\",\"showlegend\":false,\"x\":[11000.0,11450.000000000002,11900.000000000002,12350.000000000002,12800.000000000002,13250.000000000002,13700.000000000002,14150.000000000002,14600.000000000002,15050.000000000002,15500.000000000002,15950.000000000002,16400.0,16850.0,17300.0,17750.0,18200.0,18650.0,19100.0,19550.0,20000.0],\"y\":[11991.000523709525,11973.042005766894,11955.137199118572,11937.285863160447,11919.487758723355,11901.742648062365,11884.050294846225,11866.410464146848,11848.82292242892,11831.2874375396,11813.803778698295,11796.371716486552,11778.991022837992,11761.66147102841,11744.382835665867,11727.154892680957,11709.977419317102,11692.85019412095,11675.77299693288,11658.745608877523,11658.745608877523],\"type\":\"scatter\",\"uid\":\"c11f5f19-bccf-41fb-b3f3-0e3199355efe\",\"xaxis\":\"x\",\"yaxis\":\"y\"},{\"customdata\":[\"\\u003cbr\\u003eEmitted Luminosity: 5.428e+42\\u003cbr\\u003eRequested Luminosity: 1.077e+43\\u003cbr\\u003eAbsorbed Luminosity: 1.635e+43\",\"\\u003cbr\\u003eEmitted Luminosity: 5.428e+42\\u003cbr\\u003eRequested Luminosity: 1.077e+43\\u003cbr\\u003eAbsorbed Luminosity: 1.635e+43\",\"\\u003cbr\\u003eEmitted Luminosity: 5.428e+42\\u003cbr\\u003eRequested Luminosity: 1.077e+43\\u003cbr\\u003eAbsorbed Luminosity: 1.635e+43\",\"\\u003cbr\\u003eEmitted Luminosity: 5.428e+42\\u003cbr\\u003eRequested Luminosity: 1.077e+43\\u003cbr\\u003eAbsorbed Luminosity: 1.635e+43\",\"\\u003cbr\\u003eEmitted Luminosity: 5.428e+42\\u003cbr\\u003eRequested Luminosity: 1.077e+43\\u003cbr\\u003eAbsorbed Luminosity: 1.635e+43\",\"\\u003cbr\\u003eEmitted Luminosity: 5.428e+42\\u003cbr\\u003eRequested Luminosity: 1.077e+43\\u003cbr\\u003eAbsorbed Luminosity: 1.635e+43\",\"\\u003cbr\\u003eEmitted Luminosity: 5.428e+42\\u003cbr\\u003eRequested Luminosity: 1.077e+43\\u003cbr\\u003eAbsorbed Luminosity: 1.635e+43\",\"\\u003cbr\\u003eEmitted Luminosity: 5.428e+42\\u003cbr\\u003eRequested Luminosity: 1.077e+43\\u003cbr\\u003eAbsorbed Luminosity: 1.635e+43\",\"\\u003cbr\\u003eEmitted Luminosity: 5.428e+42\\u003cbr\\u003eRequested Luminosity: 1.077e+43\\u003cbr\\u003eAbsorbed Luminosity: 1.635e+43\",\"\\u003cbr\\u003eEmitted Luminosity: 5.428e+42\\u003cbr\\u003eRequested Luminosity: 1.077e+43\\u003cbr\\u003eAbsorbed Luminosity: 1.635e+43\",\"\\u003cbr\\u003eEmitted Luminosity: 5.428e+42\\u003cbr\\u003eRequested Luminosity: 1.077e+43\\u003cbr\\u003eAbsorbed Luminosity: 1.635e+43\",\"\\u003cbr\\u003eEmitted Luminosity: 5.428e+42\\u003cbr\\u003eRequested Luminosity: 1.077e+43\\u003cbr\\u003eAbsorbed Luminosity: 1.635e+43\",\"\\u003cbr\\u003eEmitted Luminosity: 5.428e+42\\u003cbr\\u003eRequested Luminosity: 1.077e+43\\u003cbr\\u003eAbsorbed Luminosity: 1.635e+43\",\"\\u003cbr\\u003eEmitted Luminosity: 5.428e+42\\u003cbr\\u003eRequested Luminosity: 1.077e+43\\u003cbr\\u003eAbsorbed Luminosity: 1.635e+43\",\"\\u003cbr\\u003eEmitted Luminosity: 5.428e+42\\u003cbr\\u003eRequested Luminosity: 1.077e+43\\u003cbr\\u003eAbsorbed Luminosity: 1.635e+43\",\"\\u003cbr\\u003eEmitted Luminosity: 5.428e+42\\u003cbr\\u003eRequested Luminosity: 1.077e+43\\u003cbr\\u003eAbsorbed Luminosity: 1.635e+43\",\"\\u003cbr\\u003eEmitted Luminosity: 5.428e+42\\u003cbr\\u003eRequested Luminosity: 1.077e+43\\u003cbr\\u003eAbsorbed Luminosity: 1.635e+43\",\"\\u003cbr\\u003eEmitted Luminosity: 5.428e+42\\u003cbr\\u003eRequested Luminosity: 1.077e+43\\u003cbr\\u003eAbsorbed Luminosity: 1.635e+43\",\"\\u003cbr\\u003eEmitted Luminosity: 5.428e+42\\u003cbr\\u003eRequested Luminosity: 1.077e+43\\u003cbr\\u003eAbsorbed Luminosity: 1.635e+43\",\"\\u003cbr\\u003eEmitted Luminosity: 5.428e+42\\u003cbr\\u003eRequested Luminosity: 1.077e+43\\u003cbr\\u003eAbsorbed Luminosity: 1.635e+43\",\"\\u003cbr\\u003eEmitted Luminosity: 5.428e+42\\u003cbr\\u003eRequested Luminosity: 1.077e+43\\u003cbr\\u003eAbsorbed Luminosity: 1.635e+43\"],\"hovertemplate\":\"\\u003cb\\u003eY\\u003c\\u002fb\\u003e: %{y:.3f} at \\u003cb\\u003eX\\u003c\\u002fb\\u003e = %{x:,.0f}%{customdata}\",\"legendgroup\":\"group-1\",\"line\":{\"color\":\"#000080\",\"shape\":\"hv\"},\"name\":\"1\",\"x\":[11000.0,11450.000000000002,11900.000000000002,12350.000000000002,12800.000000000002,13250.000000000002,13700.000000000002,14150.000000000002,14600.000000000002,15050.000000000002,15500.000000000002,15950.000000000002,16400.0,16850.0,17300.0,17750.0,18200.0,18650.0,19100.0,19550.0,20000.0],\"y\":[0.40039163797855976,0.33245223097543924,0.2896679818236787,0.2577141002351936,0.23224568138195772,0.211204659222757,0.19341188222536587,0.17811401706296348,0.16479446041469908,0.15308090298851573,0.14269498356756605,0.13342261532969785,0.12509541040763922,0.11757848682757521,0.11076215248105115,0.10455605179542055,0.09888493580965113,0.09368553636653854,0.08890421153628925,0.08449514228457095,0.08449514228457095],\"type\":\"scatter\",\"uid\":\"84b3f6ee-6f9f-4843-afd2-1fbfd2e2e887\",\"xaxis\":\"x2\",\"yaxis\":\"y2\"},{\"customdata\":[\"\\u003cbr\\u003eEmitted Luminosity: 1.159e+43\\u003cbr\\u003eRequested Luminosity: 1.077e+43\\u003cbr\\u003eAbsorbed Luminosity: 3.422e+43\",\"\\u003cbr\\u003eEmitted Luminosity: 1.159e+43\\u003cbr\\u003eRequested Luminosity: 1.077e+43\\u003cbr\\u003eAbsorbed Luminosity: 3.422e+43\",\"\\u003cbr\\u003eEmitted Luminosity: 1.159e+43\\u003cbr\\u003eRequested Luminosity: 1.077e+43\\u003cbr\\u003eAbsorbed Luminosity: 3.422e+43\",\"\\u003cbr\\u003eEmitted Luminosity: 1.159e+43\\u003cbr\\u003eRequested Luminosity: 1.077e+43\\u003cbr\\u003eAbsorbed Luminosity: 3.422e+43\",\"\\u003cbr\\u003eEmitted Luminosity: 1.159e+43\\u003cbr\\u003eRequested Luminosity: 1.077e+43\\u003cbr\\u003eAbsorbed Luminosity: 3.422e+43\",\"\\u003cbr\\u003eEmitted Luminosity: 1.159e+43\\u003cbr\\u003eRequested Luminosity: 1.077e+43\\u003cbr\\u003eAbsorbed Luminosity: 3.422e+43\",\"\\u003cbr\\u003eEmitted Luminosity: 1.159e+43\\u003cbr\\u003eRequested Luminosity: 1.077e+43\\u003cbr\\u003eAbsorbed Luminosity: 3.422e+43\",\"\\u003cbr\\u003eEmitted Luminosity: 1.159e+43\\u003cbr\\u003eRequested Luminosity: 1.077e+43\\u003cbr\\u003eAbsorbed Luminosity: 3.422e+43\",\"\\u003cbr\\u003eEmitted Luminosity: 1.159e+43\\u003cbr\\u003eRequested Luminosity: 1.077e+43\\u003cbr\\u003eAbsorbed Luminosity: 3.422e+43\",\"\\u003cbr\\u003eEmitted Luminosity: 1.159e+43\\u003cbr\\u003eRequested Luminosity: 1.077e+43\\u003cbr\\u003eAbsorbed Luminosity: 3.422e+43\",\"\\u003cbr\\u003eEmitted Luminosity: 1.159e+43\\u003cbr\\u003eRequested Luminosity: 1.077e+43\\u003cbr\\u003eAbsorbed Luminosity: 3.422e+43\",\"\\u003cbr\\u003eEmitted Luminosity: 1.159e+43\\u003cbr\\u003eRequested Luminosity: 1.077e+43\\u003cbr\\u003eAbsorbed Luminosity: 3.422e+43\",\"\\u003cbr\\u003eEmitted Luminosity: 1.159e+43\\u003cbr\\u003eRequested Luminosity: 1.077e+43\\u003cbr\\u003eAbsorbed Luminosity: 3.422e+43\",\"\\u003cbr\\u003eEmitted Luminosity: 1.159e+43\\u003cbr\\u003eRequested Luminosity: 1.077e+43\\u003cbr\\u003eAbsorbed Luminosity: 3.422e+43\",\"\\u003cbr\\u003eEmitted Luminosity: 1.159e+43\\u003cbr\\u003eRequested Luminosity: 1.077e+43\\u003cbr\\u003eAbsorbed Luminosity: 3.422e+43\",\"\\u003cbr\\u003eEmitted Luminosity: 1.159e+43\\u003cbr\\u003eRequested Luminosity: 1.077e+43\\u003cbr\\u003eAbsorbed Luminosity: 3.422e+43\",\"\\u003cbr\\u003eEmitted Luminosity: 1.159e+43\\u003cbr\\u003eRequested Luminosity: 1.077e+43\\u003cbr\\u003eAbsorbed Luminosity: 3.422e+43\",\"\\u003cbr\\u003eEmitted Luminosity: 1.159e+43\\u003cbr\\u003eRequested Luminosity: 1.077e+43\\u003cbr\\u003eAbsorbed Luminosity: 3.422e+43\",\"\\u003cbr\\u003eEmitted Luminosity: 1.159e+43\\u003cbr\\u003eRequested Luminosity: 1.077e+43\\u003cbr\\u003eAbsorbed Luminosity: 3.422e+43\",\"\\u003cbr\\u003eEmitted Luminosity: 1.159e+43\\u003cbr\\u003eRequested Luminosity: 1.077e+43\\u003cbr\\u003eAbsorbed Luminosity: 3.422e+43\",\"\\u003cbr\\u003eEmitted Luminosity: 1.159e+43\\u003cbr\\u003eRequested Luminosity: 1.077e+43\\u003cbr\\u003eAbsorbed Luminosity: 3.422e+43\"],\"hovertemplate\":\"\\u003cb\\u003eY\\u003c\\u002fb\\u003e: %{y:.3f} at \\u003cb\\u003eX\\u003c\\u002fb\\u003e = %{x:,.0f}%{customdata}\",\"legendgroup\":\"group-2\",\"line\":{\"color\":\"#00009d\",\"shape\":\"hv\"},\"name\":\"2\",\"showlegend\":false,\"x\":[11000.0,11450.000000000002,11900.000000000002,12350.000000000002,12800.000000000002,13250.000000000002,13700.000000000002,14150.000000000002,14600.000000000002,15050.000000000002,15500.000000000002,15950.000000000002,16400.0,16850.0,17300.0,17750.0,18200.0,18650.0,19100.0,19550.0,20000.0],\"y\":[11919.91213905664,11841.937417936133,11758.512964813954,11725.36354388104,11688.776153788858,11630.983311488806,11608.382682857253,11553.92848357623,11531.2400348076,11520.38979076389,11480.720140649528,11452.922423005995,11448.022207099759,11420.465012770117,11386.479081546313,11386.224075077665,11382.674428076733,11379.965336348952,11357.83036215663,11333.61813754584,11333.61813754584],\"type\":\"scatter\",\"uid\":\"86c9882f-fcde-4d2f-9a6d-6c8e82627d1e\",\"xaxis\":\"x\",\"yaxis\":\"y\"},{\"customdata\":[\"\\u003cbr\\u003eEmitted Luminosity: 1.159e+43\\u003cbr\\u003eRequested Luminosity: 1.077e+43\\u003cbr\\u003eAbsorbed Luminosity: 3.422e+43\",\"\\u003cbr\\u003eEmitted Luminosity: 1.159e+43\\u003cbr\\u003eRequested Luminosity: 1.077e+43\\u003cbr\\u003eAbsorbed Luminosity: 3.422e+43\",\"\\u003cbr\\u003eEmitted Luminosity: 1.159e+43\\u003cbr\\u003eRequested Luminosity: 1.077e+43\\u003cbr\\u003eAbsorbed Luminosity: 3.422e+43\",\"\\u003cbr\\u003eEmitted Luminosity: 1.159e+43\\u003cbr\\u003eRequested Luminosity: 1.077e+43\\u003cbr\\u003eAbsorbed Luminosity: 3.422e+43\",\"\\u003cbr\\u003eEmitted Luminosity: 1.159e+43\\u003cbr\\u003eRequested Luminosity: 1.077e+43\\u003cbr\\u003eAbsorbed Luminosity: 3.422e+43\",\"\\u003cbr\\u003eEmitted Luminosity: 1.159e+43\\u003cbr\\u003eRequested Luminosity: 1.077e+43\\u003cbr\\u003eAbsorbed Luminosity: 3.422e+43\",\"\\u003cbr\\u003eEmitted Luminosity: 1.159e+43\\u003cbr\\u003eRequested Luminosity: 1.077e+43\\u003cbr\\u003eAbsorbed Luminosity: 3.422e+43\",\"\\u003cbr\\u003eEmitted Luminosity: 1.159e+43\\u003cbr\\u003eRequested Luminosity: 1.077e+43\\u003cbr\\u003eAbsorbed Luminosity: 3.422e+43\",\"\\u003cbr\\u003eEmitted Luminosity: 1.159e+43\\u003cbr\\u003eRequested Luminosity: 1.077e+43\\u003cbr\\u003eAbsorbed Luminosity: 3.422e+43\",\"\\u003cbr\\u003eEmitted Luminosity: 1.159e+43\\u003cbr\\u003eRequested Luminosity: 1.077e+43\\u003cbr\\u003eAbsorbed Luminosity: 3.422e+43\",\"\\u003cbr\\u003eEmitted Luminosity: 1.159e+43\\u003cbr\\u003eRequested Luminosity: 1.077e+43\\u003cbr\\u003eAbsorbed Luminosity: 3.422e+43\",\"\\u003cbr\\u003eEmitted Luminosity: 1.159e+43\\u003cbr\\u003eRequested Luminosity: 1.077e+43\\u003cbr\\u003eAbsorbed Luminosity: 3.422e+43\",\"\\u003cbr\\u003eEmitted Luminosity: 1.159e+43\\u003cbr\\u003eRequested Luminosity: 1.077e+43\\u003cbr\\u003eAbsorbed Luminosity: 3.422e+43\",\"\\u003cbr\\u003eEmitted Luminosity: 1.159e+43\\u003cbr\\u003eRequested Luminosity: 1.077e+43\\u003cbr\\u003eAbsorbed Luminosity: 3.422e+43\",\"\\u003cbr\\u003eEmitted Luminosity: 1.159e+43\\u003cbr\\u003eRequested Luminosity: 1.077e+43\\u003cbr\\u003eAbsorbed Luminosity: 3.422e+43\",\"\\u003cbr\\u003eEmitted Luminosity: 1.159e+43\\u003cbr\\u003eRequested Luminosity: 1.077e+43\\u003cbr\\u003eAbsorbed Luminosity: 3.422e+43\",\"\\u003cbr\\u003eEmitted Luminosity: 1.159e+43\\u003cbr\\u003eRequested Luminosity: 1.077e+43\\u003cbr\\u003eAbsorbed Luminosity: 3.422e+43\",\"\\u003cbr\\u003eEmitted Luminosity: 1.159e+43\\u003cbr\\u003eRequested Luminosity: 1.077e+43\\u003cbr\\u003eAbsorbed Luminosity: 3.422e+43\",\"\\u003cbr\\u003eEmitted Luminosity: 1.159e+43\\u003cbr\\u003eRequested Luminosity: 1.077e+43\\u003cbr\\u003eAbsorbed Luminosity: 3.422e+43\",\"\\u003cbr\\u003eEmitted Luminosity: 1.159e+43\\u003cbr\\u003eRequested Luminosity: 1.077e+43\\u003cbr\\u003eAbsorbed Luminosity: 3.422e+43\",\"\\u003cbr\\u003eEmitted Luminosity: 1.159e+43\\u003cbr\\u003eRequested Luminosity: 1.077e+43\\u003cbr\\u003eAbsorbed Luminosity: 3.422e+43\"],\"hovertemplate\":\"\\u003cb\\u003eY\\u003c\\u002fb\\u003e: %{y:.3f} at \\u003cb\\u003eX\\u003c\\u002fb\\u003e = %{x:,.0f}%{customdata}\",\"legendgroup\":\"group-2\",\"line\":{\"color\":\"#00009d\",\"shape\":\"hv\"},\"name\":\"2\",\"x\":[11000.0,11450.000000000002,11900.000000000002,12350.000000000002,12800.000000000002,13250.000000000002,13700.000000000002,14150.000000000002,14600.000000000002,15050.000000000002,15500.000000000002,15950.000000000002,16400.0,16850.0,17300.0,17750.0,18200.0,18650.0,19100.0,19550.0,20000.0],\"y\":[0.5928326445587575,0.46998870801303394,0.3869500168888056,0.3183373393105573,0.2666435657607489,0.22906879331264296,0.1975526615518483,0.17473300767230665,0.15394514712568835,0.13700794045326173,0.12410515673321824,0.11242308462920125,0.10172051674581627,0.09383820303256477,0.08671084621466253,0.07977412428755586,0.07377582577173071,0.06834438658868426,0.06381031511931767,0.05978130876765302,0.05978130876765302],\"type\":\"scatter\",\"uid\":\"9655cb4f-19d5-499b-a834-f1ecc0b57360\",\"xaxis\":\"x2\",\"yaxis\":\"y2\"},{\"customdata\":[\"\\u003cbr\\u003eEmitted Luminosity: 1.052e+43\\u003cbr\\u003eRequested Luminosity: 1.077e+43\\u003cbr\\u003eAbsorbed Luminosity: 3.206e+43\",\"\\u003cbr\\u003eEmitted Luminosity: 1.052e+43\\u003cbr\\u003eRequested Luminosity: 1.077e+43\\u003cbr\\u003eAbsorbed Luminosity: 3.206e+43\",\"\\u003cbr\\u003eEmitted Luminosity: 1.052e+43\\u003cbr\\u003eRequested Luminosity: 1.077e+43\\u003cbr\\u003eAbsorbed Luminosity: 3.206e+43\",\"\\u003cbr\\u003eEmitted Luminosity: 1.052e+43\\u003cbr\\u003eRequested Luminosity: 1.077e+43\\u003cbr\\u003eAbsorbed Luminosity: 3.206e+43\",\"\\u003cbr\\u003eEmitted Luminosity: 1.052e+43\\u003cbr\\u003eRequested Luminosity: 1.077e+43\\u003cbr\\u003eAbsorbed Luminosity: 3.206e+43\",\"\\u003cbr\\u003eEmitted Luminosity: 1.052e+43\\u003cbr\\u003eRequested Luminosity: 1.077e+43\\u003cbr\\u003eAbsorbed Luminosity: 3.206e+43\",\"\\u003cbr\\u003eEmitted Luminosity: 1.052e+43\\u003cbr\\u003eRequested Luminosity: 1.077e+43\\u003cbr\\u003eAbsorbed Luminosity: 3.206e+43\",\"\\u003cbr\\u003eEmitted Luminosity: 1.052e+43\\u003cbr\\u003eRequested Luminosity: 1.077e+43\\u003cbr\\u003eAbsorbed Luminosity: 3.206e+43\",\"\\u003cbr\\u003eEmitted Luminosity: 1.052e+43\\u003cbr\\u003eRequested Luminosity: 1.077e+43\\u003cbr\\u003eAbsorbed Luminosity: 3.206e+43\",\"\\u003cbr\\u003eEmitted Luminosity: 1.052e+43\\u003cbr\\u003eRequested Luminosity: 1.077e+43\\u003cbr\\u003eAbsorbed Luminosity: 3.206e+43\",\"\\u003cbr\\u003eEmitted Luminosity: 1.052e+43\\u003cbr\\u003eRequested Luminosity: 1.077e+43\\u003cbr\\u003eAbsorbed Luminosity: 3.206e+43\",\"\\u003cbr\\u003eEmitted Luminosity: 1.052e+43\\u003cbr\\u003eRequested Luminosity: 1.077e+43\\u003cbr\\u003eAbsorbed Luminosity: 3.206e+43\",\"\\u003cbr\\u003eEmitted Luminosity: 1.052e+43\\u003cbr\\u003eRequested Luminosity: 1.077e+43\\u003cbr\\u003eAbsorbed Luminosity: 3.206e+43\",\"\\u003cbr\\u003eEmitted Luminosity: 1.052e+43\\u003cbr\\u003eRequested Luminosity: 1.077e+43\\u003cbr\\u003eAbsorbed Luminosity: 3.206e+43\",\"\\u003cbr\\u003eEmitted Luminosity: 1.052e+43\\u003cbr\\u003eRequested Luminosity: 1.077e+43\\u003cbr\\u003eAbsorbed Luminosity: 3.206e+43\",\"\\u003cbr\\u003eEmitted Luminosity: 1.052e+43\\u003cbr\\u003eRequested Luminosity: 1.077e+43\\u003cbr\\u003eAbsorbed Luminosity: 3.206e+43\",\"\\u003cbr\\u003eEmitted Luminosity: 1.052e+43\\u003cbr\\u003eRequested Luminosity: 1.077e+43\\u003cbr\\u003eAbsorbed Luminosity: 3.206e+43\",\"\\u003cbr\\u003eEmitted Luminosity: 1.052e+43\\u003cbr\\u003eRequested Luminosity: 1.077e+43\\u003cbr\\u003eAbsorbed Luminosity: 3.206e+43\",\"\\u003cbr\\u003eEmitted Luminosity: 1.052e+43\\u003cbr\\u003eRequested Luminosity: 1.077e+43\\u003cbr\\u003eAbsorbed Luminosity: 3.206e+43\",\"\\u003cbr\\u003eEmitted Luminosity: 1.052e+43\\u003cbr\\u003eRequested Luminosity: 1.077e+43\\u003cbr\\u003eAbsorbed Luminosity: 3.206e+43\",\"\\u003cbr\\u003eEmitted Luminosity: 1.052e+43\\u003cbr\\u003eRequested Luminosity: 1.077e+43\\u003cbr\\u003eAbsorbed Luminosity: 3.206e+43\"],\"hovertemplate\":\"\\u003cb\\u003eY\\u003c\\u002fb\\u003e: %{y:.3f} at \\u003cb\\u003eX\\u003c\\u002fb\\u003e = %{x:,.0f}%{customdata}\",\"legendgroup\":\"group-3\",\"line\":{\"color\":\"#0000bb\",\"shape\":\"hv\"},\"name\":\"3\",\"showlegend\":false,\"x\":[11000.0,11450.000000000002,11900.000000000002,12350.000000000002,12800.000000000002,13250.000000000002,13700.000000000002,14150.000000000002,14600.000000000002,15050.000000000002,15500.000000000002,15950.000000000002,16400.0,16850.0,17300.0,17750.0,18200.0,18650.0,19100.0,19550.0,20000.0],\"y\":[13060.55291411957,12906.473764617904,12778.145737949679,12703.687667672893,12626.314976391372,12565.55670149595,12502.060866501593,12442.94407861814,12401.163928753016,12382.277344930513,12338.847158380162,12316.686617090276,12259.591930050083,12228.060750864031,12212.235192313196,12227.78287451771,12182.68819497007,12166.0708742379,12156.319557603441,12144.885211522374,12144.885211522374],\"type\":\"scatter\",\"uid\":\"64dd07e8-b131-4f39-8ca8-dcb19b68ea52\",\"xaxis\":\"x\",\"yaxis\":\"y\"},{\"customdata\":[\"\\u003cbr\\u003eEmitted Luminosity: 1.052e+43\\u003cbr\\u003eRequested Luminosity: 1.077e+43\\u003cbr\\u003eAbsorbed Luminosity: 3.206e+43\",\"\\u003cbr\\u003eEmitted Luminosity: 1.052e+43\\u003cbr\\u003eRequested Luminosity: 1.077e+43\\u003cbr\\u003eAbsorbed Luminosity: 3.206e+43\",\"\\u003cbr\\u003eEmitted Luminosity: 1.052e+43\\u003cbr\\u003eRequested Luminosity: 1.077e+43\\u003cbr\\u003eAbsorbed Luminosity: 3.206e+43\",\"\\u003cbr\\u003eEmitted Luminosity: 1.052e+43\\u003cbr\\u003eRequested Luminosity: 1.077e+43\\u003cbr\\u003eAbsorbed Luminosity: 3.206e+43\",\"\\u003cbr\\u003eEmitted Luminosity: 1.052e+43\\u003cbr\\u003eRequested Luminosity: 1.077e+43\\u003cbr\\u003eAbsorbed Luminosity: 3.206e+43\",\"\\u003cbr\\u003eEmitted Luminosity: 1.052e+43\\u003cbr\\u003eRequested Luminosity: 1.077e+43\\u003cbr\\u003eAbsorbed Luminosity: 3.206e+43\",\"\\u003cbr\\u003eEmitted Luminosity: 1.052e+43\\u003cbr\\u003eRequested Luminosity: 1.077e+43\\u003cbr\\u003eAbsorbed Luminosity: 3.206e+43\",\"\\u003cbr\\u003eEmitted Luminosity: 1.052e+43\\u003cbr\\u003eRequested Luminosity: 1.077e+43\\u003cbr\\u003eAbsorbed Luminosity: 3.206e+43\",\"\\u003cbr\\u003eEmitted Luminosity: 1.052e+43\\u003cbr\\u003eRequested Luminosity: 1.077e+43\\u003cbr\\u003eAbsorbed Luminosity: 3.206e+43\",\"\\u003cbr\\u003eEmitted Luminosity: 1.052e+43\\u003cbr\\u003eRequested Luminosity: 1.077e+43\\u003cbr\\u003eAbsorbed Luminosity: 3.206e+43\",\"\\u003cbr\\u003eEmitted Luminosity: 1.052e+43\\u003cbr\\u003eRequested Luminosity: 1.077e+43\\u003cbr\\u003eAbsorbed Luminosity: 3.206e+43\",\"\\u003cbr\\u003eEmitted Luminosity: 1.052e+43\\u003cbr\\u003eRequested Luminosity: 1.077e+43\\u003cbr\\u003eAbsorbed Luminosity: 3.206e+43\",\"\\u003cbr\\u003eEmitted Luminosity: 1.052e+43\\u003cbr\\u003eRequested Luminosity: 1.077e+43\\u003cbr\\u003eAbsorbed Luminosity: 3.206e+43\",\"\\u003cbr\\u003eEmitted Luminosity: 1.052e+43\\u003cbr\\u003eRequested Luminosity: 1.077e+43\\u003cbr\\u003eAbsorbed Luminosity: 3.206e+43\",\"\\u003cbr\\u003eEmitted Luminosity: 1.052e+43\\u003cbr\\u003eRequested Luminosity: 1.077e+43\\u003cbr\\u003eAbsorbed Luminosity: 3.206e+43\",\"\\u003cbr\\u003eEmitted Luminosity: 1.052e+43\\u003cbr\\u003eRequested Luminosity: 1.077e+43\\u003cbr\\u003eAbsorbed Luminosity: 3.206e+43\",\"\\u003cbr\\u003eEmitted Luminosity: 1.052e+43\\u003cbr\\u003eRequested Luminosity: 1.077e+43\\u003cbr\\u003eAbsorbed Luminosity: 3.206e+43\",\"\\u003cbr\\u003eEmitted Luminosity: 1.052e+43\\u003cbr\\u003eRequested Luminosity: 1.077e+43\\u003cbr\\u003eAbsorbed Luminosity: 3.206e+43\",\"\\u003cbr\\u003eEmitted Luminosity: 1.052e+43\\u003cbr\\u003eRequested Luminosity: 1.077e+43\\u003cbr\\u003eAbsorbed Luminosity: 3.206e+43\",\"\\u003cbr\\u003eEmitted Luminosity: 1.052e+43\\u003cbr\\u003eRequested Luminosity: 1.077e+43\\u003cbr\\u003eAbsorbed Luminosity: 3.206e+43\",\"\\u003cbr\\u003eEmitted Luminosity: 1.052e+43\\u003cbr\\u003eRequested Luminosity: 1.077e+43\\u003cbr\\u003eAbsorbed Luminosity: 3.206e+43\"],\"hovertemplate\":\"\\u003cb\\u003eY\\u003c\\u002fb\\u003e: %{y:.3f} at \\u003cb\\u003eX\\u003c\\u002fb\\u003e = %{x:,.0f}%{customdata}\",\"legendgroup\":\"group-3\",\"line\":{\"color\":\"#0000bb\",\"shape\":\"hv\"},\"name\":\"3\",\"x\":[11000.0,11450.000000000002,11900.000000000002,12350.000000000002,12800.000000000002,13250.000000000002,13700.000000000002,14150.000000000002,14600.000000000002,15050.000000000002,15500.000000000002,15950.000000000002,16400.0,16850.0,17300.0,17750.0,18200.0,18650.0,19100.0,19550.0,20000.0],\"y\":[0.696137579506138,0.5488117600186634,0.44381389834399304,0.35876384723125854,0.2932194880402879,0.2452150542576665,0.2079433144798966,0.17860904442870823,0.1540621866115088,0.13368248463573856,0.11787759535066802,0.10421026171540337,0.0938048572421791,0.08505928226951587,0.0767509974336132,0.06897001664196108,0.0635164060040441,0.05816766182632781,0.05350149758394952,0.049189893657996586,0.049189893657996586],\"type\":\"scatter\",\"uid\":\"96d481c7-bdd8-46b4-b98a-eaca014bdf19\",\"xaxis\":\"x2\",\"yaxis\":\"y2\"},{\"customdata\":[\"\\u003cbr\\u003eEmitted Luminosity: 1.093e+43\\u003cbr\\u003eRequested Luminosity: 1.077e+43\\u003cbr\\u003eAbsorbed Luminosity: 3.267e+43\",\"\\u003cbr\\u003eEmitted Luminosity: 1.093e+43\\u003cbr\\u003eRequested Luminosity: 1.077e+43\\u003cbr\\u003eAbsorbed Luminosity: 3.267e+43\",\"\\u003cbr\\u003eEmitted Luminosity: 1.093e+43\\u003cbr\\u003eRequested Luminosity: 1.077e+43\\u003cbr\\u003eAbsorbed Luminosity: 3.267e+43\",\"\\u003cbr\\u003eEmitted Luminosity: 1.093e+43\\u003cbr\\u003eRequested Luminosity: 1.077e+43\\u003cbr\\u003eAbsorbed Luminosity: 3.267e+43\",\"\\u003cbr\\u003eEmitted Luminosity: 1.093e+43\\u003cbr\\u003eRequested Luminosity: 1.077e+43\\u003cbr\\u003eAbsorbed Luminosity: 3.267e+43\",\"\\u003cbr\\u003eEmitted Luminosity: 1.093e+43\\u003cbr\\u003eRequested Luminosity: 1.077e+43\\u003cbr\\u003eAbsorbed Luminosity: 3.267e+43\",\"\\u003cbr\\u003eEmitted Luminosity: 1.093e+43\\u003cbr\\u003eRequested Luminosity: 1.077e+43\\u003cbr\\u003eAbsorbed Luminosity: 3.267e+43\",\"\\u003cbr\\u003eEmitted Luminosity: 1.093e+43\\u003cbr\\u003eRequested Luminosity: 1.077e+43\\u003cbr\\u003eAbsorbed Luminosity: 3.267e+43\",\"\\u003cbr\\u003eEmitted Luminosity: 1.093e+43\\u003cbr\\u003eRequested Luminosity: 1.077e+43\\u003cbr\\u003eAbsorbed Luminosity: 3.267e+43\",\"\\u003cbr\\u003eEmitted Luminosity: 1.093e+43\\u003cbr\\u003eRequested Luminosity: 1.077e+43\\u003cbr\\u003eAbsorbed Luminosity: 3.267e+43\",\"\\u003cbr\\u003eEmitted Luminosity: 1.093e+43\\u003cbr\\u003eRequested Luminosity: 1.077e+43\\u003cbr\\u003eAbsorbed Luminosity: 3.267e+43\",\"\\u003cbr\\u003eEmitted Luminosity: 1.093e+43\\u003cbr\\u003eRequested Luminosity: 1.077e+43\\u003cbr\\u003eAbsorbed Luminosity: 3.267e+43\",\"\\u003cbr\\u003eEmitted Luminosity: 1.093e+43\\u003cbr\\u003eRequested Luminosity: 1.077e+43\\u003cbr\\u003eAbsorbed Luminosity: 3.267e+43\",\"\\u003cbr\\u003eEmitted Luminosity: 1.093e+43\\u003cbr\\u003eRequested Luminosity: 1.077e+43\\u003cbr\\u003eAbsorbed Luminosity: 3.267e+43\",\"\\u003cbr\\u003eEmitted Luminosity: 1.093e+43\\u003cbr\\u003eRequested Luminosity: 1.077e+43\\u003cbr\\u003eAbsorbed Luminosity: 3.267e+43\",\"\\u003cbr\\u003eEmitted Luminosity: 1.093e+43\\u003cbr\\u003eRequested Luminosity: 1.077e+43\\u003cbr\\u003eAbsorbed Luminosity: 3.267e+43\",\"\\u003cbr\\u003eEmitted Luminosity: 1.093e+43\\u003cbr\\u003eRequested Luminosity: 1.077e+43\\u003cbr\\u003eAbsorbed Luminosity: 3.267e+43\",\"\\u003cbr\\u003eEmitted Luminosity: 1.093e+43\\u003cbr\\u003eRequested Luminosity: 1.077e+43\\u003cbr\\u003eAbsorbed Luminosity: 3.267e+43\",\"\\u003cbr\\u003eEmitted Luminosity: 1.093e+43\\u003cbr\\u003eRequested Luminosity: 1.077e+43\\u003cbr\\u003eAbsorbed Luminosity: 3.267e+43\",\"\\u003cbr\\u003eEmitted Luminosity: 1.093e+43\\u003cbr\\u003eRequested Luminosity: 1.077e+43\\u003cbr\\u003eAbsorbed Luminosity: 3.267e+43\",\"\\u003cbr\\u003eEmitted Luminosity: 1.093e+43\\u003cbr\\u003eRequested Luminosity: 1.077e+43\\u003cbr\\u003eAbsorbed Luminosity: 3.267e+43\"],\"hovertemplate\":\"\\u003cb\\u003eY\\u003c\\u002fb\\u003e: %{y:.3f} at \\u003cb\\u003eX\\u003c\\u002fb\\u003e = %{x:,.0f}%{customdata}\",\"legendgroup\":\"group-4\",\"line\":{\"color\":\"#0000d9\",\"shape\":\"hv\"},\"name\":\"4\",\"showlegend\":false,\"x\":[11000.0,11450.000000000002,11900.000000000002,12350.000000000002,12800.000000000002,13250.000000000002,13700.000000000002,14150.000000000002,14600.000000000002,15050.000000000002,15500.000000000002,15950.000000000002,16400.0,16850.0,17300.0,17750.0,18200.0,18650.0,19100.0,19550.0,20000.0],\"y\":[13528.667506506048,13360.382124578626,13246.134638524674,13154.584451566803,13054.415055241632,12967.581794995403,12888.563957795908,12847.593910133353,12751.310394708104,12745.972853780186,12727.434666118788,12684.88355104401,12648.509407616479,12579.02030793063,12586.550585860197,12590.933364169614,12594.133278540543,12574.711344802294,12526.038173848092,12513.319723060427,12513.319723060427],\"type\":\"scatter\",\"uid\":\"fd0987f2-f99c-41d7-afaa-bfdcb217c889\",\"xaxis\":\"x\",\"yaxis\":\"y\"},{\"customdata\":[\"\\u003cbr\\u003eEmitted Luminosity: 1.093e+43\\u003cbr\\u003eRequested Luminosity: 1.077e+43\\u003cbr\\u003eAbsorbed Luminosity: 3.267e+43\",\"\\u003cbr\\u003eEmitted Luminosity: 1.093e+43\\u003cbr\\u003eRequested Luminosity: 1.077e+43\\u003cbr\\u003eAbsorbed Luminosity: 3.267e+43\",\"\\u003cbr\\u003eEmitted Luminosity: 1.093e+43\\u003cbr\\u003eRequested Luminosity: 1.077e+43\\u003cbr\\u003eAbsorbed Luminosity: 3.267e+43\",\"\\u003cbr\\u003eEmitted Luminosity: 1.093e+43\\u003cbr\\u003eRequested Luminosity: 1.077e+43\\u003cbr\\u003eAbsorbed Luminosity: 3.267e+43\",\"\\u003cbr\\u003eEmitted Luminosity: 1.093e+43\\u003cbr\\u003eRequested Luminosity: 1.077e+43\\u003cbr\\u003eAbsorbed Luminosity: 3.267e+43\",\"\\u003cbr\\u003eEmitted Luminosity: 1.093e+43\\u003cbr\\u003eRequested Luminosity: 1.077e+43\\u003cbr\\u003eAbsorbed Luminosity: 3.267e+43\",\"\\u003cbr\\u003eEmitted Luminosity: 1.093e+43\\u003cbr\\u003eRequested Luminosity: 1.077e+43\\u003cbr\\u003eAbsorbed Luminosity: 3.267e+43\",\"\\u003cbr\\u003eEmitted Luminosity: 1.093e+43\\u003cbr\\u003eRequested Luminosity: 1.077e+43\\u003cbr\\u003eAbsorbed Luminosity: 3.267e+43\",\"\\u003cbr\\u003eEmitted Luminosity: 1.093e+43\\u003cbr\\u003eRequested Luminosity: 1.077e+43\\u003cbr\\u003eAbsorbed Luminosity: 3.267e+43\",\"\\u003cbr\\u003eEmitted Luminosity: 1.093e+43\\u003cbr\\u003eRequested Luminosity: 1.077e+43\\u003cbr\\u003eAbsorbed Luminosity: 3.267e+43\",\"\\u003cbr\\u003eEmitted Luminosity: 1.093e+43\\u003cbr\\u003eRequested Luminosity: 1.077e+43\\u003cbr\\u003eAbsorbed Luminosity: 3.267e+43\",\"\\u003cbr\\u003eEmitted Luminosity: 1.093e+43\\u003cbr\\u003eRequested Luminosity: 1.077e+43\\u003cbr\\u003eAbsorbed Luminosity: 3.267e+43\",\"\\u003cbr\\u003eEmitted Luminosity: 1.093e+43\\u003cbr\\u003eRequested Luminosity: 1.077e+43\\u003cbr\\u003eAbsorbed Luminosity: 3.267e+43\",\"\\u003cbr\\u003eEmitted Luminosity: 1.093e+43\\u003cbr\\u003eRequested Luminosity: 1.077e+43\\u003cbr\\u003eAbsorbed Luminosity: 3.267e+43\",\"\\u003cbr\\u003eEmitted Luminosity: 1.093e+43\\u003cbr\\u003eRequested Luminosity: 1.077e+43\\u003cbr\\u003eAbsorbed Luminosity: 3.267e+43\",\"\\u003cbr\\u003eEmitted Luminosity: 1.093e+43\\u003cbr\\u003eRequested Luminosity: 1.077e+43\\u003cbr\\u003eAbsorbed Luminosity: 3.267e+43\",\"\\u003cbr\\u003eEmitted Luminosity: 1.093e+43\\u003cbr\\u003eRequested Luminosity: 1.077e+43\\u003cbr\\u003eAbsorbed Luminosity: 3.267e+43\",\"\\u003cbr\\u003eEmitted Luminosity: 1.093e+43\\u003cbr\\u003eRequested Luminosity: 1.077e+43\\u003cbr\\u003eAbsorbed Luminosity: 3.267e+43\",\"\\u003cbr\\u003eEmitted Luminosity: 1.093e+43\\u003cbr\\u003eRequested Luminosity: 1.077e+43\\u003cbr\\u003eAbsorbed Luminosity: 3.267e+43\",\"\\u003cbr\\u003eEmitted Luminosity: 1.093e+43\\u003cbr\\u003eRequested Luminosity: 1.077e+43\\u003cbr\\u003eAbsorbed Luminosity: 3.267e+43\",\"\\u003cbr\\u003eEmitted Luminosity: 1.093e+43\\u003cbr\\u003eRequested Luminosity: 1.077e+43\\u003cbr\\u003eAbsorbed Luminosity: 3.267e+43\"],\"hovertemplate\":\"\\u003cb\\u003eY\\u003c\\u002fb\\u003e: %{y:.3f} at \\u003cb\\u003eX\\u003c\\u002fb\\u003e = %{x:,.0f}%{customdata}\",\"legendgroup\":\"group-4\",\"line\":{\"color\":\"#0000d9\",\"shape\":\"hv\"},\"name\":\"4\",\"x\":[11000.0,11450.000000000002,11900.000000000002,12350.000000000002,12800.000000000002,13250.000000000002,13700.000000000002,14150.000000000002,14600.000000000002,15050.000000000002,15500.000000000002,15950.000000000002,16400.0,16850.0,17300.0,17750.0,18200.0,18650.0,19100.0,19550.0,20000.0],\"y\":[0.7450292356802781,0.5824782235944356,0.46161798453289316,0.3698621952626265,0.2996536612135395,0.24788948003103414,0.20818712707254322,0.17592269063674493,0.15185817059934084,0.1299735597195555,0.11232179879189565,0.09844923508358613,0.08673622614929746,0.07853224138939241,0.06975819748105362,0.06235295911986468,0.05607063963207557,0.05094963728980098,0.046834585757534714,0.04260381540442814,0.04260381540442814],\"type\":\"scatter\",\"uid\":\"fb9a6b34-a15b-4b9e-96c8-2bedd4544e0b\",\"xaxis\":\"x2\",\"yaxis\":\"y2\"},{\"customdata\":[\"\\u003cbr\\u003eEmitted Luminosity: 1.059e+43\\u003cbr\\u003eRequested Luminosity: 1.077e+43\\u003cbr\\u003eAbsorbed Luminosity: 3.236e+43\",\"\\u003cbr\\u003eEmitted Luminosity: 1.059e+43\\u003cbr\\u003eRequested Luminosity: 1.077e+43\\u003cbr\\u003eAbsorbed Luminosity: 3.236e+43\",\"\\u003cbr\\u003eEmitted Luminosity: 1.059e+43\\u003cbr\\u003eRequested Luminosity: 1.077e+43\\u003cbr\\u003eAbsorbed Luminosity: 3.236e+43\",\"\\u003cbr\\u003eEmitted Luminosity: 1.059e+43\\u003cbr\\u003eRequested Luminosity: 1.077e+43\\u003cbr\\u003eAbsorbed Luminosity: 3.236e+43\",\"\\u003cbr\\u003eEmitted Luminosity: 1.059e+43\\u003cbr\\u003eRequested Luminosity: 1.077e+43\\u003cbr\\u003eAbsorbed Luminosity: 3.236e+43\",\"\\u003cbr\\u003eEmitted Luminosity: 1.059e+43\\u003cbr\\u003eRequested Luminosity: 1.077e+43\\u003cbr\\u003eAbsorbed Luminosity: 3.236e+43\",\"\\u003cbr\\u003eEmitted Luminosity: 1.059e+43\\u003cbr\\u003eRequested Luminosity: 1.077e+43\\u003cbr\\u003eAbsorbed Luminosity: 3.236e+43\",\"\\u003cbr\\u003eEmitted Luminosity: 1.059e+43\\u003cbr\\u003eRequested Luminosity: 1.077e+43\\u003cbr\\u003eAbsorbed Luminosity: 3.236e+43\",\"\\u003cbr\\u003eEmitted Luminosity: 1.059e+43\\u003cbr\\u003eRequested Luminosity: 1.077e+43\\u003cbr\\u003eAbsorbed Luminosity: 3.236e+43\",\"\\u003cbr\\u003eEmitted Luminosity: 1.059e+43\\u003cbr\\u003eRequested Luminosity: 1.077e+43\\u003cbr\\u003eAbsorbed Luminosity: 3.236e+43\",\"\\u003cbr\\u003eEmitted Luminosity: 1.059e+43\\u003cbr\\u003eRequested Luminosity: 1.077e+43\\u003cbr\\u003eAbsorbed Luminosity: 3.236e+43\",\"\\u003cbr\\u003eEmitted Luminosity: 1.059e+43\\u003cbr\\u003eRequested Luminosity: 1.077e+43\\u003cbr\\u003eAbsorbed Luminosity: 3.236e+43\",\"\\u003cbr\\u003eEmitted Luminosity: 1.059e+43\\u003cbr\\u003eRequested Luminosity: 1.077e+43\\u003cbr\\u003eAbsorbed Luminosity: 3.236e+43\",\"\\u003cbr\\u003eEmitted Luminosity: 1.059e+43\\u003cbr\\u003eRequested Luminosity: 1.077e+43\\u003cbr\\u003eAbsorbed Luminosity: 3.236e+43\",\"\\u003cbr\\u003eEmitted Luminosity: 1.059e+43\\u003cbr\\u003eRequested Luminosity: 1.077e+43\\u003cbr\\u003eAbsorbed Luminosity: 3.236e+43\",\"\\u003cbr\\u003eEmitted Luminosity: 1.059e+43\\u003cbr\\u003eRequested Luminosity: 1.077e+43\\u003cbr\\u003eAbsorbed Luminosity: 3.236e+43\",\"\\u003cbr\\u003eEmitted Luminosity: 1.059e+43\\u003cbr\\u003eRequested Luminosity: 1.077e+43\\u003cbr\\u003eAbsorbed Luminosity: 3.236e+43\",\"\\u003cbr\\u003eEmitted Luminosity: 1.059e+43\\u003cbr\\u003eRequested Luminosity: 1.077e+43\\u003cbr\\u003eAbsorbed Luminosity: 3.236e+43\",\"\\u003cbr\\u003eEmitted Luminosity: 1.059e+43\\u003cbr\\u003eRequested Luminosity: 1.077e+43\\u003cbr\\u003eAbsorbed Luminosity: 3.236e+43\",\"\\u003cbr\\u003eEmitted Luminosity: 1.059e+43\\u003cbr\\u003eRequested Luminosity: 1.077e+43\\u003cbr\\u003eAbsorbed Luminosity: 3.236e+43\",\"\\u003cbr\\u003eEmitted Luminosity: 1.059e+43\\u003cbr\\u003eRequested Luminosity: 1.077e+43\\u003cbr\\u003eAbsorbed Luminosity: 3.236e+43\"],\"hovertemplate\":\"\\u003cb\\u003eY\\u003c\\u002fb\\u003e: %{y:.3f} at \\u003cb\\u003eX\\u003c\\u002fb\\u003e = %{x:,.0f}%{customdata}\",\"legendgroup\":\"group-5\",\"line\":{\"color\":\"#0000f6\",\"shape\":\"hv\"},\"name\":\"5\",\"showlegend\":false,\"x\":[11000.0,11450.000000000002,11900.000000000002,12350.000000000002,12800.000000000002,13250.000000000002,13700.000000000002,14150.000000000002,14600.000000000002,15050.000000000002,15500.000000000002,15950.000000000002,16400.0,16850.0,17300.0,17750.0,18200.0,18650.0,19100.0,19550.0,20000.0],\"y\":[13817.256314120312,13629.784570089636,13473.667038998721,13359.048344198716,13257.357467040663,13207.555580910535,13152.303940172833,13120.386304405467,13034.363664128827,12993.81005768528,12962.162839176875,12922.168552034975,12903.590850915949,12843.27960243975,12850.383439738533,12863.418582106988,12845.017262183585,12815.142213400002,12771.678802491722,12733.621327819386,12733.621327819386],\"type\":\"scatter\",\"uid\":\"6bdf64ac-844c-48d6-a8da-fdcc4d25088f\",\"xaxis\":\"x\",\"yaxis\":\"y\"},{\"customdata\":[\"\\u003cbr\\u003eEmitted Luminosity: 1.059e+43\\u003cbr\\u003eRequested Luminosity: 1.077e+43\\u003cbr\\u003eAbsorbed Luminosity: 3.236e+43\",\"\\u003cbr\\u003eEmitted Luminosity: 1.059e+43\\u003cbr\\u003eRequested Luminosity: 1.077e+43\\u003cbr\\u003eAbsorbed Luminosity: 3.236e+43\",\"\\u003cbr\\u003eEmitted Luminosity: 1.059e+43\\u003cbr\\u003eRequested Luminosity: 1.077e+43\\u003cbr\\u003eAbsorbed Luminosity: 3.236e+43\",\"\\u003cbr\\u003eEmitted Luminosity: 1.059e+43\\u003cbr\\u003eRequested Luminosity: 1.077e+43\\u003cbr\\u003eAbsorbed Luminosity: 3.236e+43\",\"\\u003cbr\\u003eEmitted Luminosity: 1.059e+43\\u003cbr\\u003eRequested Luminosity: 1.077e+43\\u003cbr\\u003eAbsorbed Luminosity: 3.236e+43\",\"\\u003cbr\\u003eEmitted Luminosity: 1.059e+43\\u003cbr\\u003eRequested Luminosity: 1.077e+43\\u003cbr\\u003eAbsorbed Luminosity: 3.236e+43\",\"\\u003cbr\\u003eEmitted Luminosity: 1.059e+43\\u003cbr\\u003eRequested Luminosity: 1.077e+43\\u003cbr\\u003eAbsorbed Luminosity: 3.236e+43\",\"\\u003cbr\\u003eEmitted Luminosity: 1.059e+43\\u003cbr\\u003eRequested Luminosity: 1.077e+43\\u003cbr\\u003eAbsorbed Luminosity: 3.236e+43\",\"\\u003cbr\\u003eEmitted Luminosity: 1.059e+43\\u003cbr\\u003eRequested Luminosity: 1.077e+43\\u003cbr\\u003eAbsorbed Luminosity: 3.236e+43\",\"\\u003cbr\\u003eEmitted Luminosity: 1.059e+43\\u003cbr\\u003eRequested Luminosity: 1.077e+43\\u003cbr\\u003eAbsorbed Luminosity: 3.236e+43\",\"\\u003cbr\\u003eEmitted Luminosity: 1.059e+43\\u003cbr\\u003eRequested Luminosity: 1.077e+43\\u003cbr\\u003eAbsorbed Luminosity: 3.236e+43\",\"\\u003cbr\\u003eEmitted Luminosity: 1.059e+43\\u003cbr\\u003eRequested Luminosity: 1.077e+43\\u003cbr\\u003eAbsorbed Luminosity: 3.236e+43\",\"\\u003cbr\\u003eEmitted Luminosity: 1.059e+43\\u003cbr\\u003eRequested Luminosity: 1.077e+43\\u003cbr\\u003eAbsorbed Luminosity: 3.236e+43\",\"\\u003cbr\\u003eEmitted Luminosity: 1.059e+43\\u003cbr\\u003eRequested Luminosity: 1.077e+43\\u003cbr\\u003eAbsorbed Luminosity: 3.236e+43\",\"\\u003cbr\\u003eEmitted Luminosity: 1.059e+43\\u003cbr\\u003eRequested Luminosity: 1.077e+43\\u003cbr\\u003eAbsorbed Luminosity: 3.236e+43\",\"\\u003cbr\\u003eEmitted Luminosity: 1.059e+43\\u003cbr\\u003eRequested Luminosity: 1.077e+43\\u003cbr\\u003eAbsorbed Luminosity: 3.236e+43\",\"\\u003cbr\\u003eEmitted Luminosity: 1.059e+43\\u003cbr\\u003eRequested Luminosity: 1.077e+43\\u003cbr\\u003eAbsorbed Luminosity: 3.236e+43\",\"\\u003cbr\\u003eEmitted Luminosity: 1.059e+43\\u003cbr\\u003eRequested Luminosity: 1.077e+43\\u003cbr\\u003eAbsorbed Luminosity: 3.236e+43\",\"\\u003cbr\\u003eEmitted Luminosity: 1.059e+43\\u003cbr\\u003eRequested Luminosity: 1.077e+43\\u003cbr\\u003eAbsorbed Luminosity: 3.236e+43\",\"\\u003cbr\\u003eEmitted Luminosity: 1.059e+43\\u003cbr\\u003eRequested Luminosity: 1.077e+43\\u003cbr\\u003eAbsorbed Luminosity: 3.236e+43\",\"\\u003cbr\\u003eEmitted Luminosity: 1.059e+43\\u003cbr\\u003eRequested Luminosity: 1.077e+43\\u003cbr\\u003eAbsorbed Luminosity: 3.236e+43\"],\"hovertemplate\":\"\\u003cb\\u003eY\\u003c\\u002fb\\u003e: %{y:.3f} at \\u003cb\\u003eX\\u003c\\u002fb\\u003e = %{x:,.0f}%{customdata}\",\"legendgroup\":\"group-5\",\"line\":{\"color\":\"#0000f6\",\"shape\":\"hv\"},\"name\":\"5\",\"x\":[11000.0,11450.000000000002,11900.000000000002,12350.000000000002,12800.000000000002,13250.000000000002,13700.000000000002,14150.000000000002,14600.000000000002,15050.000000000002,15500.000000000002,15950.000000000002,16400.0,16850.0,17300.0,17750.0,18200.0,18650.0,19100.0,19550.0,20000.0],\"y\":[0.7656928070530788,0.5981757110503543,0.47689611905925217,0.3812127176804116,0.30745610574234916,0.2510467605181942,0.208114750067052,0.17343764981946558,0.14839761618649866,0.12721256603646133,0.10953549030575654,0.09541090005235738,0.08365667502964616,0.07501814546103662,0.06594145941682875,0.058438653936759274,0.05274923551797963,0.04789454486964914,0.04369052278399456,0.03966417462204892,0.03966417462204892],\"type\":\"scatter\",\"uid\":\"30223458-b6f0-449c-8541-eb03630a3098\",\"xaxis\":\"x2\",\"yaxis\":\"y2\"},{\"customdata\":[\"\\u003cbr\\u003eEmitted Luminosity: 1.085e+43\\u003cbr\\u003eRequested Luminosity: 1.077e+43\\u003cbr\\u003eAbsorbed Luminosity: 3.282e+43\",\"\\u003cbr\\u003eEmitted Luminosity: 1.085e+43\\u003cbr\\u003eRequested Luminosity: 1.077e+43\\u003cbr\\u003eAbsorbed Luminosity: 3.282e+43\",\"\\u003cbr\\u003eEmitted Luminosity: 1.085e+43\\u003cbr\\u003eRequested Luminosity: 1.077e+43\\u003cbr\\u003eAbsorbed Luminosity: 3.282e+43\",\"\\u003cbr\\u003eEmitted Luminosity: 1.085e+43\\u003cbr\\u003eRequested Luminosity: 1.077e+43\\u003cbr\\u003eAbsorbed Luminosity: 3.282e+43\",\"\\u003cbr\\u003eEmitted Luminosity: 1.085e+43\\u003cbr\\u003eRequested Luminosity: 1.077e+43\\u003cbr\\u003eAbsorbed Luminosity: 3.282e+43\",\"\\u003cbr\\u003eEmitted Luminosity: 1.085e+43\\u003cbr\\u003eRequested Luminosity: 1.077e+43\\u003cbr\\u003eAbsorbed Luminosity: 3.282e+43\",\"\\u003cbr\\u003eEmitted Luminosity: 1.085e+43\\u003cbr\\u003eRequested Luminosity: 1.077e+43\\u003cbr\\u003eAbsorbed Luminosity: 3.282e+43\",\"\\u003cbr\\u003eEmitted Luminosity: 1.085e+43\\u003cbr\\u003eRequested Luminosity: 1.077e+43\\u003cbr\\u003eAbsorbed Luminosity: 3.282e+43\",\"\\u003cbr\\u003eEmitted Luminosity: 1.085e+43\\u003cbr\\u003eRequested Luminosity: 1.077e+43\\u003cbr\\u003eAbsorbed Luminosity: 3.282e+43\",\"\\u003cbr\\u003eEmitted Luminosity: 1.085e+43\\u003cbr\\u003eRequested Luminosity: 1.077e+43\\u003cbr\\u003eAbsorbed Luminosity: 3.282e+43\",\"\\u003cbr\\u003eEmitted Luminosity: 1.085e+43\\u003cbr\\u003eRequested Luminosity: 1.077e+43\\u003cbr\\u003eAbsorbed Luminosity: 3.282e+43\",\"\\u003cbr\\u003eEmitted Luminosity: 1.085e+43\\u003cbr\\u003eRequested Luminosity: 1.077e+43\\u003cbr\\u003eAbsorbed Luminosity: 3.282e+43\",\"\\u003cbr\\u003eEmitted Luminosity: 1.085e+43\\u003cbr\\u003eRequested Luminosity: 1.077e+43\\u003cbr\\u003eAbsorbed Luminosity: 3.282e+43\",\"\\u003cbr\\u003eEmitted Luminosity: 1.085e+43\\u003cbr\\u003eRequested Luminosity: 1.077e+43\\u003cbr\\u003eAbsorbed Luminosity: 3.282e+43\",\"\\u003cbr\\u003eEmitted Luminosity: 1.085e+43\\u003cbr\\u003eRequested Luminosity: 1.077e+43\\u003cbr\\u003eAbsorbed Luminosity: 3.282e+43\",\"\\u003cbr\\u003eEmitted Luminosity: 1.085e+43\\u003cbr\\u003eRequested Luminosity: 1.077e+43\\u003cbr\\u003eAbsorbed Luminosity: 3.282e+43\",\"\\u003cbr\\u003eEmitted Luminosity: 1.085e+43\\u003cbr\\u003eRequested Luminosity: 1.077e+43\\u003cbr\\u003eAbsorbed Luminosity: 3.282e+43\",\"\\u003cbr\\u003eEmitted Luminosity: 1.085e+43\\u003cbr\\u003eRequested Luminosity: 1.077e+43\\u003cbr\\u003eAbsorbed Luminosity: 3.282e+43\",\"\\u003cbr\\u003eEmitted Luminosity: 1.085e+43\\u003cbr\\u003eRequested Luminosity: 1.077e+43\\u003cbr\\u003eAbsorbed Luminosity: 3.282e+43\",\"\\u003cbr\\u003eEmitted Luminosity: 1.085e+43\\u003cbr\\u003eRequested Luminosity: 1.077e+43\\u003cbr\\u003eAbsorbed Luminosity: 3.282e+43\",\"\\u003cbr\\u003eEmitted Luminosity: 1.085e+43\\u003cbr\\u003eRequested Luminosity: 1.077e+43\\u003cbr\\u003eAbsorbed Luminosity: 3.282e+43\"],\"hovertemplate\":\"\\u003cb\\u003eY\\u003c\\u002fb\\u003e: %{y:.3f} at \\u003cb\\u003eX\\u003c\\u002fb\\u003e = %{x:,.0f}%{customdata}\",\"legendgroup\":\"group-6\",\"line\":{\"color\":\"#0003ff\",\"shape\":\"hv\"},\"name\":\"6\",\"showlegend\":false,\"x\":[11000.0,11450.000000000002,11900.000000000002,12350.000000000002,12800.000000000002,13250.000000000002,13700.000000000002,14150.000000000002,14600.000000000002,15050.000000000002,15500.000000000002,15950.000000000002,16400.0,16850.0,17300.0,17750.0,18200.0,18650.0,19100.0,19550.0,20000.0],\"y\":[13928.733932094252,13750.451033880468,13586.555941011185,13483.264040729096,13405.647849467168,13326.708904670113,13243.232562784482,13189.04161191002,13174.869092130008,13147.962706111912,13111.842689836092,13034.599124803266,13040.341207046178,12959.94963247014,12966.23326450571,12946.66975974297,12938.244524527243,12924.309056993741,12865.703434978146,12821.09181196417,12821.09181196417],\"type\":\"scatter\",\"uid\":\"c5d481ce-cb53-49ce-a29e-940e066c5e8a\",\"xaxis\":\"x\",\"yaxis\":\"y\"},{\"customdata\":[\"\\u003cbr\\u003eEmitted Luminosity: 1.085e+43\\u003cbr\\u003eRequested Luminosity: 1.077e+43\\u003cbr\\u003eAbsorbed Luminosity: 3.282e+43\",\"\\u003cbr\\u003eEmitted Luminosity: 1.085e+43\\u003cbr\\u003eRequested Luminosity: 1.077e+43\\u003cbr\\u003eAbsorbed Luminosity: 3.282e+43\",\"\\u003cbr\\u003eEmitted Luminosity: 1.085e+43\\u003cbr\\u003eRequested Luminosity: 1.077e+43\\u003cbr\\u003eAbsorbed Luminosity: 3.282e+43\",\"\\u003cbr\\u003eEmitted Luminosity: 1.085e+43\\u003cbr\\u003eRequested Luminosity: 1.077e+43\\u003cbr\\u003eAbsorbed Luminosity: 3.282e+43\",\"\\u003cbr\\u003eEmitted Luminosity: 1.085e+43\\u003cbr\\u003eRequested Luminosity: 1.077e+43\\u003cbr\\u003eAbsorbed Luminosity: 3.282e+43\",\"\\u003cbr\\u003eEmitted Luminosity: 1.085e+43\\u003cbr\\u003eRequested Luminosity: 1.077e+43\\u003cbr\\u003eAbsorbed Luminosity: 3.282e+43\",\"\\u003cbr\\u003eEmitted Luminosity: 1.085e+43\\u003cbr\\u003eRequested Luminosity: 1.077e+43\\u003cbr\\u003eAbsorbed Luminosity: 3.282e+43\",\"\\u003cbr\\u003eEmitted Luminosity: 1.085e+43\\u003cbr\\u003eRequested Luminosity: 1.077e+43\\u003cbr\\u003eAbsorbed Luminosity: 3.282e+43\",\"\\u003cbr\\u003eEmitted Luminosity: 1.085e+43\\u003cbr\\u003eRequested Luminosity: 1.077e+43\\u003cbr\\u003eAbsorbed Luminosity: 3.282e+43\",\"\\u003cbr\\u003eEmitted Luminosity: 1.085e+43\\u003cbr\\u003eRequested Luminosity: 1.077e+43\\u003cbr\\u003eAbsorbed Luminosity: 3.282e+43\",\"\\u003cbr\\u003eEmitted Luminosity: 1.085e+43\\u003cbr\\u003eRequested Luminosity: 1.077e+43\\u003cbr\\u003eAbsorbed Luminosity: 3.282e+43\",\"\\u003cbr\\u003eEmitted Luminosity: 1.085e+43\\u003cbr\\u003eRequested Luminosity: 1.077e+43\\u003cbr\\u003eAbsorbed Luminosity: 3.282e+43\",\"\\u003cbr\\u003eEmitted Luminosity: 1.085e+43\\u003cbr\\u003eRequested Luminosity: 1.077e+43\\u003cbr\\u003eAbsorbed Luminosity: 3.282e+43\",\"\\u003cbr\\u003eEmitted Luminosity: 1.085e+43\\u003cbr\\u003eRequested Luminosity: 1.077e+43\\u003cbr\\u003eAbsorbed Luminosity: 3.282e+43\",\"\\u003cbr\\u003eEmitted Luminosity: 1.085e+43\\u003cbr\\u003eRequested Luminosity: 1.077e+43\\u003cbr\\u003eAbsorbed Luminosity: 3.282e+43\",\"\\u003cbr\\u003eEmitted Luminosity: 1.085e+43\\u003cbr\\u003eRequested Luminosity: 1.077e+43\\u003cbr\\u003eAbsorbed Luminosity: 3.282e+43\",\"\\u003cbr\\u003eEmitted Luminosity: 1.085e+43\\u003cbr\\u003eRequested Luminosity: 1.077e+43\\u003cbr\\u003eAbsorbed Luminosity: 3.282e+43\",\"\\u003cbr\\u003eEmitted Luminosity: 1.085e+43\\u003cbr\\u003eRequested Luminosity: 1.077e+43\\u003cbr\\u003eAbsorbed Luminosity: 3.282e+43\",\"\\u003cbr\\u003eEmitted Luminosity: 1.085e+43\\u003cbr\\u003eRequested Luminosity: 1.077e+43\\u003cbr\\u003eAbsorbed Luminosity: 3.282e+43\",\"\\u003cbr\\u003eEmitted Luminosity: 1.085e+43\\u003cbr\\u003eRequested Luminosity: 1.077e+43\\u003cbr\\u003eAbsorbed Luminosity: 3.282e+43\",\"\\u003cbr\\u003eEmitted Luminosity: 1.085e+43\\u003cbr\\u003eRequested Luminosity: 1.077e+43\\u003cbr\\u003eAbsorbed Luminosity: 3.282e+43\"],\"hovertemplate\":\"\\u003cb\\u003eY\\u003c\\u002fb\\u003e: %{y:.3f} at \\u003cb\\u003eX\\u003c\\u002fb\\u003e = %{x:,.0f}%{customdata}\",\"legendgroup\":\"group-6\",\"line\":{\"color\":\"#0003ff\",\"shape\":\"hv\"},\"name\":\"6\",\"x\":[11000.0,11450.000000000002,11900.000000000002,12350.000000000002,12800.000000000002,13250.000000000002,13700.000000000002,14150.000000000002,14600.000000000002,15050.000000000002,15500.000000000002,15950.000000000002,16400.0,16850.0,17300.0,17750.0,18200.0,18650.0,19100.0,19550.0,20000.0],\"y\":[0.7777128172214876,0.6025583040406168,0.47740612509229824,0.3798348290659874,0.3045668670671885,0.2491497353205017,0.20662197036037824,0.1724398946167195,0.1440265485854174,0.12292534041632722,0.10574037880571374,0.09247772022561378,0.08024485330298922,0.07234474083229994,0.06325705848906879,0.056600195985423284,0.0508764857033813,0.04580798486306281,0.041842601799558156,0.03793406421517587,0.03793406421517587],\"type\":\"scatter\",\"uid\":\"9e5e6b93-b9fc-40e2-8fcc-f2c5d3986e28\",\"xaxis\":\"x2\",\"yaxis\":\"y2\"},{\"customdata\":[\"\\u003cbr\\u003eEmitted Luminosity: 1.086e+43\\u003cbr\\u003eRequested Luminosity: 1.077e+43\\u003cbr\\u003eAbsorbed Luminosity: 3.248e+43\",\"\\u003cbr\\u003eEmitted Luminosity: 1.086e+43\\u003cbr\\u003eRequested Luminosity: 1.077e+43\\u003cbr\\u003eAbsorbed Luminosity: 3.248e+43\",\"\\u003cbr\\u003eEmitted Luminosity: 1.086e+43\\u003cbr\\u003eRequested Luminosity: 1.077e+43\\u003cbr\\u003eAbsorbed Luminosity: 3.248e+43\",\"\\u003cbr\\u003eEmitted Luminosity: 1.086e+43\\u003cbr\\u003eRequested Luminosity: 1.077e+43\\u003cbr\\u003eAbsorbed Luminosity: 3.248e+43\",\"\\u003cbr\\u003eEmitted Luminosity: 1.086e+43\\u003cbr\\u003eRequested Luminosity: 1.077e+43\\u003cbr\\u003eAbsorbed Luminosity: 3.248e+43\",\"\\u003cbr\\u003eEmitted Luminosity: 1.086e+43\\u003cbr\\u003eRequested Luminosity: 1.077e+43\\u003cbr\\u003eAbsorbed Luminosity: 3.248e+43\",\"\\u003cbr\\u003eEmitted Luminosity: 1.086e+43\\u003cbr\\u003eRequested Luminosity: 1.077e+43\\u003cbr\\u003eAbsorbed Luminosity: 3.248e+43\",\"\\u003cbr\\u003eEmitted Luminosity: 1.086e+43\\u003cbr\\u003eRequested Luminosity: 1.077e+43\\u003cbr\\u003eAbsorbed Luminosity: 3.248e+43\",\"\\u003cbr\\u003eEmitted Luminosity: 1.086e+43\\u003cbr\\u003eRequested Luminosity: 1.077e+43\\u003cbr\\u003eAbsorbed Luminosity: 3.248e+43\",\"\\u003cbr\\u003eEmitted Luminosity: 1.086e+43\\u003cbr\\u003eRequested Luminosity: 1.077e+43\\u003cbr\\u003eAbsorbed Luminosity: 3.248e+43\",\"\\u003cbr\\u003eEmitted Luminosity: 1.086e+43\\u003cbr\\u003eRequested Luminosity: 1.077e+43\\u003cbr\\u003eAbsorbed Luminosity: 3.248e+43\",\"\\u003cbr\\u003eEmitted Luminosity: 1.086e+43\\u003cbr\\u003eRequested Luminosity: 1.077e+43\\u003cbr\\u003eAbsorbed Luminosity: 3.248e+43\",\"\\u003cbr\\u003eEmitted Luminosity: 1.086e+43\\u003cbr\\u003eRequested Luminosity: 1.077e+43\\u003cbr\\u003eAbsorbed Luminosity: 3.248e+43\",\"\\u003cbr\\u003eEmitted Luminosity: 1.086e+43\\u003cbr\\u003eRequested Luminosity: 1.077e+43\\u003cbr\\u003eAbsorbed Luminosity: 3.248e+43\",\"\\u003cbr\\u003eEmitted Luminosity: 1.086e+43\\u003cbr\\u003eRequested Luminosity: 1.077e+43\\u003cbr\\u003eAbsorbed Luminosity: 3.248e+43\",\"\\u003cbr\\u003eEmitted Luminosity: 1.086e+43\\u003cbr\\u003eRequested Luminosity: 1.077e+43\\u003cbr\\u003eAbsorbed Luminosity: 3.248e+43\",\"\\u003cbr\\u003eEmitted Luminosity: 1.086e+43\\u003cbr\\u003eRequested Luminosity: 1.077e+43\\u003cbr\\u003eAbsorbed Luminosity: 3.248e+43\",\"\\u003cbr\\u003eEmitted Luminosity: 1.086e+43\\u003cbr\\u003eRequested Luminosity: 1.077e+43\\u003cbr\\u003eAbsorbed Luminosity: 3.248e+43\",\"\\u003cbr\\u003eEmitted Luminosity: 1.086e+43\\u003cbr\\u003eRequested Luminosity: 1.077e+43\\u003cbr\\u003eAbsorbed Luminosity: 3.248e+43\",\"\\u003cbr\\u003eEmitted Luminosity: 1.086e+43\\u003cbr\\u003eRequested Luminosity: 1.077e+43\\u003cbr\\u003eAbsorbed Luminosity: 3.248e+43\",\"\\u003cbr\\u003eEmitted Luminosity: 1.086e+43\\u003cbr\\u003eRequested Luminosity: 1.077e+43\\u003cbr\\u003eAbsorbed Luminosity: 3.248e+43\"],\"hovertemplate\":\"\\u003cb\\u003eY\\u003c\\u002fb\\u003e: %{y:.3f} at \\u003cb\\u003eX\\u003c\\u002fb\\u003e = %{x:,.0f}%{customdata}\",\"legendgroup\":\"group-7\",\"line\":{\"color\":\"#001dff\",\"shape\":\"hv\"},\"name\":\"7\",\"showlegend\":false,\"x\":[11000.0,11450.000000000002,11900.000000000002,12350.000000000002,12800.000000000002,13250.000000000002,13700.000000000002,14150.000000000002,14600.000000000002,15050.000000000002,15500.000000000002,15950.000000000002,16400.0,16850.0,17300.0,17750.0,18200.0,18650.0,19100.0,19550.0,20000.0],\"y\":[14054.762126499962,13865.627613673852,13686.5314466837,13587.598530252752,13510.897154261354,13430.141051637795,13398.459880867167,13307.310191701994,13266.233031255302,13216.348238813878,13178.253583549395,13129.081656088423,13160.83840650542,13125.810370685802,13091.492360507407,13093.430161972994,13073.215190187004,13038.444962943471,12991.118754256226,12968.696025582212,12968.696025582212],\"type\":\"scatter\",\"uid\":\"9ec7ddd3-cd72-4b5f-bd20-7f99ecd7abfa\",\"xaxis\":\"x\",\"yaxis\":\"y\"},{\"customdata\":[\"\\u003cbr\\u003eEmitted Luminosity: 1.086e+43\\u003cbr\\u003eRequested Luminosity: 1.077e+43\\u003cbr\\u003eAbsorbed Luminosity: 3.248e+43\",\"\\u003cbr\\u003eEmitted Luminosity: 1.086e+43\\u003cbr\\u003eRequested Luminosity: 1.077e+43\\u003cbr\\u003eAbsorbed Luminosity: 3.248e+43\",\"\\u003cbr\\u003eEmitted Luminosity: 1.086e+43\\u003cbr\\u003eRequested Luminosity: 1.077e+43\\u003cbr\\u003eAbsorbed Luminosity: 3.248e+43\",\"\\u003cbr\\u003eEmitted Luminosity: 1.086e+43\\u003cbr\\u003eRequested Luminosity: 1.077e+43\\u003cbr\\u003eAbsorbed Luminosity: 3.248e+43\",\"\\u003cbr\\u003eEmitted Luminosity: 1.086e+43\\u003cbr\\u003eRequested Luminosity: 1.077e+43\\u003cbr\\u003eAbsorbed Luminosity: 3.248e+43\",\"\\u003cbr\\u003eEmitted Luminosity: 1.086e+43\\u003cbr\\u003eRequested Luminosity: 1.077e+43\\u003cbr\\u003eAbsorbed Luminosity: 3.248e+43\",\"\\u003cbr\\u003eEmitted Luminosity: 1.086e+43\\u003cbr\\u003eRequested Luminosity: 1.077e+43\\u003cbr\\u003eAbsorbed Luminosity: 3.248e+43\",\"\\u003cbr\\u003eEmitted Luminosity: 1.086e+43\\u003cbr\\u003eRequested Luminosity: 1.077e+43\\u003cbr\\u003eAbsorbed Luminosity: 3.248e+43\",\"\\u003cbr\\u003eEmitted Luminosity: 1.086e+43\\u003cbr\\u003eRequested Luminosity: 1.077e+43\\u003cbr\\u003eAbsorbed Luminosity: 3.248e+43\",\"\\u003cbr\\u003eEmitted Luminosity: 1.086e+43\\u003cbr\\u003eRequested Luminosity: 1.077e+43\\u003cbr\\u003eAbsorbed Luminosity: 3.248e+43\",\"\\u003cbr\\u003eEmitted Luminosity: 1.086e+43\\u003cbr\\u003eRequested Luminosity: 1.077e+43\\u003cbr\\u003eAbsorbed Luminosity: 3.248e+43\",\"\\u003cbr\\u003eEmitted Luminosity: 1.086e+43\\u003cbr\\u003eRequested Luminosity: 1.077e+43\\u003cbr\\u003eAbsorbed Luminosity: 3.248e+43\",\"\\u003cbr\\u003eEmitted Luminosity: 1.086e+43\\u003cbr\\u003eRequested Luminosity: 1.077e+43\\u003cbr\\u003eAbsorbed Luminosity: 3.248e+43\",\"\\u003cbr\\u003eEmitted Luminosity: 1.086e+43\\u003cbr\\u003eRequested Luminosity: 1.077e+43\\u003cbr\\u003eAbsorbed Luminosity: 3.248e+43\",\"\\u003cbr\\u003eEmitted Luminosity: 1.086e+43\\u003cbr\\u003eRequested Luminosity: 1.077e+43\\u003cbr\\u003eAbsorbed Luminosity: 3.248e+43\",\"\\u003cbr\\u003eEmitted Luminosity: 1.086e+43\\u003cbr\\u003eRequested Luminosity: 1.077e+43\\u003cbr\\u003eAbsorbed Luminosity: 3.248e+43\",\"\\u003cbr\\u003eEmitted Luminosity: 1.086e+43\\u003cbr\\u003eRequested Luminosity: 1.077e+43\\u003cbr\\u003eAbsorbed Luminosity: 3.248e+43\",\"\\u003cbr\\u003eEmitted Luminosity: 1.086e+43\\u003cbr\\u003eRequested Luminosity: 1.077e+43\\u003cbr\\u003eAbsorbed Luminosity: 3.248e+43\",\"\\u003cbr\\u003eEmitted Luminosity: 1.086e+43\\u003cbr\\u003eRequested Luminosity: 1.077e+43\\u003cbr\\u003eAbsorbed Luminosity: 3.248e+43\",\"\\u003cbr\\u003eEmitted Luminosity: 1.086e+43\\u003cbr\\u003eRequested Luminosity: 1.077e+43\\u003cbr\\u003eAbsorbed Luminosity: 3.248e+43\",\"\\u003cbr\\u003eEmitted Luminosity: 1.086e+43\\u003cbr\\u003eRequested Luminosity: 1.077e+43\\u003cbr\\u003eAbsorbed Luminosity: 3.248e+43\"],\"hovertemplate\":\"\\u003cb\\u003eY\\u003c\\u002fb\\u003e: %{y:.3f} at \\u003cb\\u003eX\\u003c\\u002fb\\u003e = %{x:,.0f}%{customdata}\",\"legendgroup\":\"group-7\",\"line\":{\"color\":\"#001dff\",\"shape\":\"hv\"},\"name\":\"7\",\"x\":[11000.0,11450.000000000002,11900.000000000002,12350.000000000002,12800.000000000002,13250.000000000002,13700.000000000002,14150.000000000002,14600.000000000002,15050.000000000002,15500.000000000002,15950.000000000002,16400.0,16850.0,17300.0,17750.0,18200.0,18650.0,19100.0,19550.0,20000.0],\"y\":[0.7739716589480828,0.5988797716340024,0.4767372137474485,0.377939645459006,0.3022812901781417,0.24656133593647644,0.20051774746317164,0.1691259314641978,0.1428302810510214,0.12223110792662649,0.10493941029660016,0.09108542694719882,0.07877761447401911,0.06971020481141124,0.06156157617590784,0.05451151405704327,0.04901452123855231,0.044418511040401065,0.04023741743712727,0.03621420170577633,0.03621420170577633],\"type\":\"scatter\",\"uid\":\"e6e554ee-8f2b-449a-bedf-98cded555d54\",\"xaxis\":\"x2\",\"yaxis\":\"y2\"},{\"customdata\":[\"\\u003cbr\\u003eEmitted Luminosity: 1.074e+43\\u003cbr\\u003eRequested Luminosity: 1.077e+43\\u003cbr\\u003eAbsorbed Luminosity: 3.224e+43\",\"\\u003cbr\\u003eEmitted Luminosity: 1.074e+43\\u003cbr\\u003eRequested Luminosity: 1.077e+43\\u003cbr\\u003eAbsorbed Luminosity: 3.224e+43\",\"\\u003cbr\\u003eEmitted Luminosity: 1.074e+43\\u003cbr\\u003eRequested Luminosity: 1.077e+43\\u003cbr\\u003eAbsorbed Luminosity: 3.224e+43\",\"\\u003cbr\\u003eEmitted Luminosity: 1.074e+43\\u003cbr\\u003eRequested Luminosity: 1.077e+43\\u003cbr\\u003eAbsorbed Luminosity: 3.224e+43\",\"\\u003cbr\\u003eEmitted Luminosity: 1.074e+43\\u003cbr\\u003eRequested Luminosity: 1.077e+43\\u003cbr\\u003eAbsorbed Luminosity: 3.224e+43\",\"\\u003cbr\\u003eEmitted Luminosity: 1.074e+43\\u003cbr\\u003eRequested Luminosity: 1.077e+43\\u003cbr\\u003eAbsorbed Luminosity: 3.224e+43\",\"\\u003cbr\\u003eEmitted Luminosity: 1.074e+43\\u003cbr\\u003eRequested Luminosity: 1.077e+43\\u003cbr\\u003eAbsorbed Luminosity: 3.224e+43\",\"\\u003cbr\\u003eEmitted Luminosity: 1.074e+43\\u003cbr\\u003eRequested Luminosity: 1.077e+43\\u003cbr\\u003eAbsorbed Luminosity: 3.224e+43\",\"\\u003cbr\\u003eEmitted Luminosity: 1.074e+43\\u003cbr\\u003eRequested Luminosity: 1.077e+43\\u003cbr\\u003eAbsorbed Luminosity: 3.224e+43\",\"\\u003cbr\\u003eEmitted Luminosity: 1.074e+43\\u003cbr\\u003eRequested Luminosity: 1.077e+43\\u003cbr\\u003eAbsorbed Luminosity: 3.224e+43\",\"\\u003cbr\\u003eEmitted Luminosity: 1.074e+43\\u003cbr\\u003eRequested Luminosity: 1.077e+43\\u003cbr\\u003eAbsorbed Luminosity: 3.224e+43\",\"\\u003cbr\\u003eEmitted Luminosity: 1.074e+43\\u003cbr\\u003eRequested Luminosity: 1.077e+43\\u003cbr\\u003eAbsorbed Luminosity: 3.224e+43\",\"\\u003cbr\\u003eEmitted Luminosity: 1.074e+43\\u003cbr\\u003eRequested Luminosity: 1.077e+43\\u003cbr\\u003eAbsorbed Luminosity: 3.224e+43\",\"\\u003cbr\\u003eEmitted Luminosity: 1.074e+43\\u003cbr\\u003eRequested Luminosity: 1.077e+43\\u003cbr\\u003eAbsorbed Luminosity: 3.224e+43\",\"\\u003cbr\\u003eEmitted Luminosity: 1.074e+43\\u003cbr\\u003eRequested Luminosity: 1.077e+43\\u003cbr\\u003eAbsorbed Luminosity: 3.224e+43\",\"\\u003cbr\\u003eEmitted Luminosity: 1.074e+43\\u003cbr\\u003eRequested Luminosity: 1.077e+43\\u003cbr\\u003eAbsorbed Luminosity: 3.224e+43\",\"\\u003cbr\\u003eEmitted Luminosity: 1.074e+43\\u003cbr\\u003eRequested Luminosity: 1.077e+43\\u003cbr\\u003eAbsorbed Luminosity: 3.224e+43\",\"\\u003cbr\\u003eEmitted Luminosity: 1.074e+43\\u003cbr\\u003eRequested Luminosity: 1.077e+43\\u003cbr\\u003eAbsorbed Luminosity: 3.224e+43\",\"\\u003cbr\\u003eEmitted Luminosity: 1.074e+43\\u003cbr\\u003eRequested Luminosity: 1.077e+43\\u003cbr\\u003eAbsorbed Luminosity: 3.224e+43\",\"\\u003cbr\\u003eEmitted Luminosity: 1.074e+43\\u003cbr\\u003eRequested Luminosity: 1.077e+43\\u003cbr\\u003eAbsorbed Luminosity: 3.224e+43\",\"\\u003cbr\\u003eEmitted Luminosity: 1.074e+43\\u003cbr\\u003eRequested Luminosity: 1.077e+43\\u003cbr\\u003eAbsorbed Luminosity: 3.224e+43\"],\"hovertemplate\":\"\\u003cb\\u003eY\\u003c\\u002fb\\u003e: %{y:.3f} at \\u003cb\\u003eX\\u003c\\u002fb\\u003e = %{x:,.0f}%{customdata}\",\"legendgroup\":\"group-8\",\"line\":{\"color\":\"#0038ff\",\"shape\":\"hv\"},\"name\":\"8\",\"showlegend\":false,\"x\":[11000.0,11450.000000000002,11900.000000000002,12350.000000000002,12800.000000000002,13250.000000000002,13700.000000000002,14150.000000000002,14600.000000000002,15050.000000000002,15500.000000000002,15950.000000000002,16400.0,16850.0,17300.0,17750.0,18200.0,18650.0,19100.0,19550.0,20000.0],\"y\":[14077.422145662202,13893.47398257137,13743.746857948368,13631.149109420749,13549.481638268997,13456.002750770185,13419.89381348182,13358.72274108608,13307.187198454762,13315.25792323376,13259.335044730578,13217.331990647792,13224.027520009582,13157.6996713724,13131.170044498162,13127.022276714053,13108.70136383892,13084.128848666336,13057.280936949861,13036.763139562094,13036.763139562094],\"type\":\"scatter\",\"uid\":\"2c36d5fb-b5da-4c91-bf77-c3d9ac8edb55\",\"xaxis\":\"x\",\"yaxis\":\"y\"},{\"customdata\":[\"\\u003cbr\\u003eEmitted Luminosity: 1.074e+43\\u003cbr\\u003eRequested Luminosity: 1.077e+43\\u003cbr\\u003eAbsorbed Luminosity: 3.224e+43\",\"\\u003cbr\\u003eEmitted Luminosity: 1.074e+43\\u003cbr\\u003eRequested Luminosity: 1.077e+43\\u003cbr\\u003eAbsorbed Luminosity: 3.224e+43\",\"\\u003cbr\\u003eEmitted Luminosity: 1.074e+43\\u003cbr\\u003eRequested Luminosity: 1.077e+43\\u003cbr\\u003eAbsorbed Luminosity: 3.224e+43\",\"\\u003cbr\\u003eEmitted Luminosity: 1.074e+43\\u003cbr\\u003eRequested Luminosity: 1.077e+43\\u003cbr\\u003eAbsorbed Luminosity: 3.224e+43\",\"\\u003cbr\\u003eEmitted Luminosity: 1.074e+43\\u003cbr\\u003eRequested Luminosity: 1.077e+43\\u003cbr\\u003eAbsorbed Luminosity: 3.224e+43\",\"\\u003cbr\\u003eEmitted Luminosity: 1.074e+43\\u003cbr\\u003eRequested Luminosity: 1.077e+43\\u003cbr\\u003eAbsorbed Luminosity: 3.224e+43\",\"\\u003cbr\\u003eEmitted Luminosity: 1.074e+43\\u003cbr\\u003eRequested Luminosity: 1.077e+43\\u003cbr\\u003eAbsorbed Luminosity: 3.224e+43\",\"\\u003cbr\\u003eEmitted Luminosity: 1.074e+43\\u003cbr\\u003eRequested Luminosity: 1.077e+43\\u003cbr\\u003eAbsorbed Luminosity: 3.224e+43\",\"\\u003cbr\\u003eEmitted Luminosity: 1.074e+43\\u003cbr\\u003eRequested Luminosity: 1.077e+43\\u003cbr\\u003eAbsorbed Luminosity: 3.224e+43\",\"\\u003cbr\\u003eEmitted Luminosity: 1.074e+43\\u003cbr\\u003eRequested Luminosity: 1.077e+43\\u003cbr\\u003eAbsorbed Luminosity: 3.224e+43\",\"\\u003cbr\\u003eEmitted Luminosity: 1.074e+43\\u003cbr\\u003eRequested Luminosity: 1.077e+43\\u003cbr\\u003eAbsorbed Luminosity: 3.224e+43\",\"\\u003cbr\\u003eEmitted Luminosity: 1.074e+43\\u003cbr\\u003eRequested Luminosity: 1.077e+43\\u003cbr\\u003eAbsorbed Luminosity: 3.224e+43\",\"\\u003cbr\\u003eEmitted Luminosity: 1.074e+43\\u003cbr\\u003eRequested Luminosity: 1.077e+43\\u003cbr\\u003eAbsorbed Luminosity: 3.224e+43\",\"\\u003cbr\\u003eEmitted Luminosity: 1.074e+43\\u003cbr\\u003eRequested Luminosity: 1.077e+43\\u003cbr\\u003eAbsorbed Luminosity: 3.224e+43\",\"\\u003cbr\\u003eEmitted Luminosity: 1.074e+43\\u003cbr\\u003eRequested Luminosity: 1.077e+43\\u003cbr\\u003eAbsorbed Luminosity: 3.224e+43\",\"\\u003cbr\\u003eEmitted Luminosity: 1.074e+43\\u003cbr\\u003eRequested Luminosity: 1.077e+43\\u003cbr\\u003eAbsorbed Luminosity: 3.224e+43\",\"\\u003cbr\\u003eEmitted Luminosity: 1.074e+43\\u003cbr\\u003eRequested Luminosity: 1.077e+43\\u003cbr\\u003eAbsorbed Luminosity: 3.224e+43\",\"\\u003cbr\\u003eEmitted Luminosity: 1.074e+43\\u003cbr\\u003eRequested Luminosity: 1.077e+43\\u003cbr\\u003eAbsorbed Luminosity: 3.224e+43\",\"\\u003cbr\\u003eEmitted Luminosity: 1.074e+43\\u003cbr\\u003eRequested Luminosity: 1.077e+43\\u003cbr\\u003eAbsorbed Luminosity: 3.224e+43\",\"\\u003cbr\\u003eEmitted Luminosity: 1.074e+43\\u003cbr\\u003eRequested Luminosity: 1.077e+43\\u003cbr\\u003eAbsorbed Luminosity: 3.224e+43\",\"\\u003cbr\\u003eEmitted Luminosity: 1.074e+43\\u003cbr\\u003eRequested Luminosity: 1.077e+43\\u003cbr\\u003eAbsorbed Luminosity: 3.224e+43\"],\"hovertemplate\":\"\\u003cb\\u003eY\\u003c\\u002fb\\u003e: %{y:.3f} at \\u003cb\\u003eX\\u003c\\u002fb\\u003e = %{x:,.0f}%{customdata}\",\"legendgroup\":\"group-8\",\"line\":{\"color\":\"#0038ff\",\"shape\":\"hv\"},\"name\":\"8\",\"x\":[11000.0,11450.000000000002,11900.000000000002,12350.000000000002,12800.000000000002,13250.000000000002,13700.000000000002,14150.000000000002,14600.000000000002,15050.000000000002,15500.000000000002,15950.000000000002,16400.0,16850.0,17300.0,17750.0,18200.0,18650.0,19100.0,19550.0,20000.0],\"y\":[0.7780101973369311,0.6022267011300791,0.4763687360870565,0.37809653361032447,0.3047206877022689,0.24922539071575364,0.20380978167189454,0.16966786305941642,0.1433805665878693,0.11972913673050986,0.10297624153808306,0.08942068332358306,0.07765261648671333,0.06931417350284921,0.06138268076943232,0.05437165961348053,0.04872183404048843,0.04389395415061699,0.03955183920810461,0.035551808037948114,0.035551808037948114],\"type\":\"scatter\",\"uid\":\"9c3a1708-57ea-4589-802a-595de8e263d1\",\"xaxis\":\"x2\",\"yaxis\":\"y2\"},{\"customdata\":[\"\\u003cbr\\u003eEmitted Luminosity: 1.072e+43\\u003cbr\\u003eRequested Luminosity: 1.077e+43\\u003cbr\\u003eAbsorbed Luminosity: 3.237e+43\",\"\\u003cbr\\u003eEmitted Luminosity: 1.072e+43\\u003cbr\\u003eRequested Luminosity: 1.077e+43\\u003cbr\\u003eAbsorbed Luminosity: 3.237e+43\",\"\\u003cbr\\u003eEmitted Luminosity: 1.072e+43\\u003cbr\\u003eRequested Luminosity: 1.077e+43\\u003cbr\\u003eAbsorbed Luminosity: 3.237e+43\",\"\\u003cbr\\u003eEmitted Luminosity: 1.072e+43\\u003cbr\\u003eRequested Luminosity: 1.077e+43\\u003cbr\\u003eAbsorbed Luminosity: 3.237e+43\",\"\\u003cbr\\u003eEmitted Luminosity: 1.072e+43\\u003cbr\\u003eRequested Luminosity: 1.077e+43\\u003cbr\\u003eAbsorbed Luminosity: 3.237e+43\",\"\\u003cbr\\u003eEmitted Luminosity: 1.072e+43\\u003cbr\\u003eRequested Luminosity: 1.077e+43\\u003cbr\\u003eAbsorbed Luminosity: 3.237e+43\",\"\\u003cbr\\u003eEmitted Luminosity: 1.072e+43\\u003cbr\\u003eRequested Luminosity: 1.077e+43\\u003cbr\\u003eAbsorbed Luminosity: 3.237e+43\",\"\\u003cbr\\u003eEmitted Luminosity: 1.072e+43\\u003cbr\\u003eRequested Luminosity: 1.077e+43\\u003cbr\\u003eAbsorbed Luminosity: 3.237e+43\",\"\\u003cbr\\u003eEmitted Luminosity: 1.072e+43\\u003cbr\\u003eRequested Luminosity: 1.077e+43\\u003cbr\\u003eAbsorbed Luminosity: 3.237e+43\",\"\\u003cbr\\u003eEmitted Luminosity: 1.072e+43\\u003cbr\\u003eRequested Luminosity: 1.077e+43\\u003cbr\\u003eAbsorbed Luminosity: 3.237e+43\",\"\\u003cbr\\u003eEmitted Luminosity: 1.072e+43\\u003cbr\\u003eRequested Luminosity: 1.077e+43\\u003cbr\\u003eAbsorbed Luminosity: 3.237e+43\",\"\\u003cbr\\u003eEmitted Luminosity: 1.072e+43\\u003cbr\\u003eRequested Luminosity: 1.077e+43\\u003cbr\\u003eAbsorbed Luminosity: 3.237e+43\",\"\\u003cbr\\u003eEmitted Luminosity: 1.072e+43\\u003cbr\\u003eRequested Luminosity: 1.077e+43\\u003cbr\\u003eAbsorbed Luminosity: 3.237e+43\",\"\\u003cbr\\u003eEmitted Luminosity: 1.072e+43\\u003cbr\\u003eRequested Luminosity: 1.077e+43\\u003cbr\\u003eAbsorbed Luminosity: 3.237e+43\",\"\\u003cbr\\u003eEmitted Luminosity: 1.072e+43\\u003cbr\\u003eRequested Luminosity: 1.077e+43\\u003cbr\\u003eAbsorbed Luminosity: 3.237e+43\",\"\\u003cbr\\u003eEmitted Luminosity: 1.072e+43\\u003cbr\\u003eRequested Luminosity: 1.077e+43\\u003cbr\\u003eAbsorbed Luminosity: 3.237e+43\",\"\\u003cbr\\u003eEmitted Luminosity: 1.072e+43\\u003cbr\\u003eRequested Luminosity: 1.077e+43\\u003cbr\\u003eAbsorbed Luminosity: 3.237e+43\",\"\\u003cbr\\u003eEmitted Luminosity: 1.072e+43\\u003cbr\\u003eRequested Luminosity: 1.077e+43\\u003cbr\\u003eAbsorbed Luminosity: 3.237e+43\",\"\\u003cbr\\u003eEmitted Luminosity: 1.072e+43\\u003cbr\\u003eRequested Luminosity: 1.077e+43\\u003cbr\\u003eAbsorbed Luminosity: 3.237e+43\",\"\\u003cbr\\u003eEmitted Luminosity: 1.072e+43\\u003cbr\\u003eRequested Luminosity: 1.077e+43\\u003cbr\\u003eAbsorbed Luminosity: 3.237e+43\",\"\\u003cbr\\u003eEmitted Luminosity: 1.072e+43\\u003cbr\\u003eRequested Luminosity: 1.077e+43\\u003cbr\\u003eAbsorbed Luminosity: 3.237e+43\"],\"hovertemplate\":\"\\u003cb\\u003eY\\u003c\\u002fb\\u003e: %{y:.3f} at \\u003cb\\u003eX\\u003c\\u002fb\\u003e = %{x:,.0f}%{customdata}\",\"legendgroup\":\"group-9\",\"line\":{\"color\":\"#0052ff\",\"shape\":\"hv\"},\"name\":\"9\",\"showlegend\":false,\"x\":[11000.0,11450.000000000002,11900.000000000002,12350.000000000002,12800.000000000002,13250.000000000002,13700.000000000002,14150.000000000002,14600.000000000002,15050.000000000002,15500.000000000002,15950.000000000002,16400.0,16850.0,17300.0,17750.0,18200.0,18650.0,19100.0,19550.0,20000.0],\"y\":[14057.332862097766,13871.095643215456,13732.02667748283,13631.555966668097,13558.767460012721,13462.24791382485,13401.885620114606,13377.524988345485,13301.521176518816,13309.403104859566,13272.280271275165,13232.273529593887,13227.391015146284,13150.873599099014,13150.3259301901,13140.203107003388,13120.80728889319,13095.544717329882,13049.597377196118,13025.66077174247,13025.66077174247],\"type\":\"scatter\",\"uid\":\"a5f8140a-588c-4bd5-8224-d3df59927cbb\",\"xaxis\":\"x\",\"yaxis\":\"y\"},{\"customdata\":[\"\\u003cbr\\u003eEmitted Luminosity: 1.072e+43\\u003cbr\\u003eRequested Luminosity: 1.077e+43\\u003cbr\\u003eAbsorbed Luminosity: 3.237e+43\",\"\\u003cbr\\u003eEmitted Luminosity: 1.072e+43\\u003cbr\\u003eRequested Luminosity: 1.077e+43\\u003cbr\\u003eAbsorbed Luminosity: 3.237e+43\",\"\\u003cbr\\u003eEmitted Luminosity: 1.072e+43\\u003cbr\\u003eRequested Luminosity: 1.077e+43\\u003cbr\\u003eAbsorbed Luminosity: 3.237e+43\",\"\\u003cbr\\u003eEmitted Luminosity: 1.072e+43\\u003cbr\\u003eRequested Luminosity: 1.077e+43\\u003cbr\\u003eAbsorbed Luminosity: 3.237e+43\",\"\\u003cbr\\u003eEmitted Luminosity: 1.072e+43\\u003cbr\\u003eRequested Luminosity: 1.077e+43\\u003cbr\\u003eAbsorbed Luminosity: 3.237e+43\",\"\\u003cbr\\u003eEmitted Luminosity: 1.072e+43\\u003cbr\\u003eRequested Luminosity: 1.077e+43\\u003cbr\\u003eAbsorbed Luminosity: 3.237e+43\",\"\\u003cbr\\u003eEmitted Luminosity: 1.072e+43\\u003cbr\\u003eRequested Luminosity: 1.077e+43\\u003cbr\\u003eAbsorbed Luminosity: 3.237e+43\",\"\\u003cbr\\u003eEmitted Luminosity: 1.072e+43\\u003cbr\\u003eRequested Luminosity: 1.077e+43\\u003cbr\\u003eAbsorbed Luminosity: 3.237e+43\",\"\\u003cbr\\u003eEmitted Luminosity: 1.072e+43\\u003cbr\\u003eRequested Luminosity: 1.077e+43\\u003cbr\\u003eAbsorbed Luminosity: 3.237e+43\",\"\\u003cbr\\u003eEmitted Luminosity: 1.072e+43\\u003cbr\\u003eRequested Luminosity: 1.077e+43\\u003cbr\\u003eAbsorbed Luminosity: 3.237e+43\",\"\\u003cbr\\u003eEmitted Luminosity: 1.072e+43\\u003cbr\\u003eRequested Luminosity: 1.077e+43\\u003cbr\\u003eAbsorbed Luminosity: 3.237e+43\",\"\\u003cbr\\u003eEmitted Luminosity: 1.072e+43\\u003cbr\\u003eRequested Luminosity: 1.077e+43\\u003cbr\\u003eAbsorbed Luminosity: 3.237e+43\",\"\\u003cbr\\u003eEmitted Luminosity: 1.072e+43\\u003cbr\\u003eRequested Luminosity: 1.077e+43\\u003cbr\\u003eAbsorbed Luminosity: 3.237e+43\",\"\\u003cbr\\u003eEmitted Luminosity: 1.072e+43\\u003cbr\\u003eRequested Luminosity: 1.077e+43\\u003cbr\\u003eAbsorbed Luminosity: 3.237e+43\",\"\\u003cbr\\u003eEmitted Luminosity: 1.072e+43\\u003cbr\\u003eRequested Luminosity: 1.077e+43\\u003cbr\\u003eAbsorbed Luminosity: 3.237e+43\",\"\\u003cbr\\u003eEmitted Luminosity: 1.072e+43\\u003cbr\\u003eRequested Luminosity: 1.077e+43\\u003cbr\\u003eAbsorbed Luminosity: 3.237e+43\",\"\\u003cbr\\u003eEmitted Luminosity: 1.072e+43\\u003cbr\\u003eRequested Luminosity: 1.077e+43\\u003cbr\\u003eAbsorbed Luminosity: 3.237e+43\",\"\\u003cbr\\u003eEmitted Luminosity: 1.072e+43\\u003cbr\\u003eRequested Luminosity: 1.077e+43\\u003cbr\\u003eAbsorbed Luminosity: 3.237e+43\",\"\\u003cbr\\u003eEmitted Luminosity: 1.072e+43\\u003cbr\\u003eRequested Luminosity: 1.077e+43\\u003cbr\\u003eAbsorbed Luminosity: 3.237e+43\",\"\\u003cbr\\u003eEmitted Luminosity: 1.072e+43\\u003cbr\\u003eRequested Luminosity: 1.077e+43\\u003cbr\\u003eAbsorbed Luminosity: 3.237e+43\",\"\\u003cbr\\u003eEmitted Luminosity: 1.072e+43\\u003cbr\\u003eRequested Luminosity: 1.077e+43\\u003cbr\\u003eAbsorbed Luminosity: 3.237e+43\"],\"hovertemplate\":\"\\u003cb\\u003eY\\u003c\\u002fb\\u003e: %{y:.3f} at \\u003cb\\u003eX\\u003c\\u002fb\\u003e = %{x:,.0f}%{customdata}\",\"legendgroup\":\"group-9\",\"line\":{\"color\":\"#0052ff\",\"shape\":\"hv\"},\"name\":\"9\",\"x\":[11000.0,11450.000000000002,11900.000000000002,12350.000000000002,12800.000000000002,13250.000000000002,13700.000000000002,14150.000000000002,14600.000000000002,15050.000000000002,15500.000000000002,15950.000000000002,16400.0,16850.0,17300.0,17750.0,18200.0,18650.0,19100.0,19550.0,20000.0],\"y\":[0.7843514118753412,0.6109989717689464,0.4805438846928259,0.3780689208315167,0.3031208789062654,0.24856637689475897,0.20430045796594876,0.1688972363851053,0.14332112942816222,0.11988207790169772,0.10248386612627894,0.08877260739040314,0.0770219637040597,0.06896726208064169,0.06072329712411541,0.053915681651957884,0.048243106144807174,0.043356032871465486,0.03934973670470447,0.03546482151303498,0.03546482151303498],\"type\":\"scatter\",\"uid\":\"1c6bdc1d-b086-4dd6-b7a9-d494bf06244a\",\"xaxis\":\"x2\",\"yaxis\":\"y2\"},{\"customdata\":[\"\\u003cbr\\u003eEmitted Luminosity: 1.078e+43\\u003cbr\\u003eRequested Luminosity: 1.077e+43\\u003cbr\\u003eAbsorbed Luminosity: 3.251e+43\",\"\\u003cbr\\u003eEmitted Luminosity: 1.078e+43\\u003cbr\\u003eRequested Luminosity: 1.077e+43\\u003cbr\\u003eAbsorbed Luminosity: 3.251e+43\",\"\\u003cbr\\u003eEmitted Luminosity: 1.078e+43\\u003cbr\\u003eRequested Luminosity: 1.077e+43\\u003cbr\\u003eAbsorbed Luminosity: 3.251e+43\",\"\\u003cbr\\u003eEmitted Luminosity: 1.078e+43\\u003cbr\\u003eRequested Luminosity: 1.077e+43\\u003cbr\\u003eAbsorbed Luminosity: 3.251e+43\",\"\\u003cbr\\u003eEmitted Luminosity: 1.078e+43\\u003cbr\\u003eRequested Luminosity: 1.077e+43\\u003cbr\\u003eAbsorbed Luminosity: 3.251e+43\",\"\\u003cbr\\u003eEmitted Luminosity: 1.078e+43\\u003cbr\\u003eRequested Luminosity: 1.077e+43\\u003cbr\\u003eAbsorbed Luminosity: 3.251e+43\",\"\\u003cbr\\u003eEmitted Luminosity: 1.078e+43\\u003cbr\\u003eRequested Luminosity: 1.077e+43\\u003cbr\\u003eAbsorbed Luminosity: 3.251e+43\",\"\\u003cbr\\u003eEmitted Luminosity: 1.078e+43\\u003cbr\\u003eRequested Luminosity: 1.077e+43\\u003cbr\\u003eAbsorbed Luminosity: 3.251e+43\",\"\\u003cbr\\u003eEmitted Luminosity: 1.078e+43\\u003cbr\\u003eRequested Luminosity: 1.077e+43\\u003cbr\\u003eAbsorbed Luminosity: 3.251e+43\",\"\\u003cbr\\u003eEmitted Luminosity: 1.078e+43\\u003cbr\\u003eRequested Luminosity: 1.077e+43\\u003cbr\\u003eAbsorbed Luminosity: 3.251e+43\",\"\\u003cbr\\u003eEmitted Luminosity: 1.078e+43\\u003cbr\\u003eRequested Luminosity: 1.077e+43\\u003cbr\\u003eAbsorbed Luminosity: 3.251e+43\",\"\\u003cbr\\u003eEmitted Luminosity: 1.078e+43\\u003cbr\\u003eRequested Luminosity: 1.077e+43\\u003cbr\\u003eAbsorbed Luminosity: 3.251e+43\",\"\\u003cbr\\u003eEmitted Luminosity: 1.078e+43\\u003cbr\\u003eRequested Luminosity: 1.077e+43\\u003cbr\\u003eAbsorbed Luminosity: 3.251e+43\",\"\\u003cbr\\u003eEmitted Luminosity: 1.078e+43\\u003cbr\\u003eRequested Luminosity: 1.077e+43\\u003cbr\\u003eAbsorbed Luminosity: 3.251e+43\",\"\\u003cbr\\u003eEmitted Luminosity: 1.078e+43\\u003cbr\\u003eRequested Luminosity: 1.077e+43\\u003cbr\\u003eAbsorbed Luminosity: 3.251e+43\",\"\\u003cbr\\u003eEmitted Luminosity: 1.078e+43\\u003cbr\\u003eRequested Luminosity: 1.077e+43\\u003cbr\\u003eAbsorbed Luminosity: 3.251e+43\",\"\\u003cbr\\u003eEmitted Luminosity: 1.078e+43\\u003cbr\\u003eRequested Luminosity: 1.077e+43\\u003cbr\\u003eAbsorbed Luminosity: 3.251e+43\",\"\\u003cbr\\u003eEmitted Luminosity: 1.078e+43\\u003cbr\\u003eRequested Luminosity: 1.077e+43\\u003cbr\\u003eAbsorbed Luminosity: 3.251e+43\",\"\\u003cbr\\u003eEmitted Luminosity: 1.078e+43\\u003cbr\\u003eRequested Luminosity: 1.077e+43\\u003cbr\\u003eAbsorbed Luminosity: 3.251e+43\",\"\\u003cbr\\u003eEmitted Luminosity: 1.078e+43\\u003cbr\\u003eRequested Luminosity: 1.077e+43\\u003cbr\\u003eAbsorbed Luminosity: 3.251e+43\",\"\\u003cbr\\u003eEmitted Luminosity: 1.078e+43\\u003cbr\\u003eRequested Luminosity: 1.077e+43\\u003cbr\\u003eAbsorbed Luminosity: 3.251e+43\"],\"hovertemplate\":\"\\u003cb\\u003eY\\u003c\\u002fb\\u003e: %{y:.3f} at \\u003cb\\u003eX\\u003c\\u002fb\\u003e = %{x:,.0f}%{customdata}\",\"legendgroup\":\"group-10\",\"line\":{\"color\":\"#006cff\",\"shape\":\"hv\"},\"name\":\"10\",\"showlegend\":false,\"x\":[11000.0,11450.000000000002,11900.000000000002,12350.000000000002,12800.000000000002,13250.000000000002,13700.000000000002,14150.000000000002,14600.000000000002,15050.000000000002,15500.000000000002,15950.000000000002,16400.0,16850.0,17300.0,17750.0,18200.0,18650.0,19100.0,19550.0,20000.0],\"y\":[14071.902694925579,13909.624253613005,13759.691607271634,13639.548651805359,13554.451772568078,13474.143428839536,13416.230099605544,13372.991931719236,13320.698840810073,13293.949520473776,13275.42559026885,13217.319258912086,13219.946407160587,13166.03518140112,13167.65577983036,13140.58482357008,13127.84963638976,13100.086263416637,13084.95342195961,13035.986036258837,13035.986036258837],\"type\":\"scatter\",\"uid\":\"fe21021f-a7bc-4b79-bca7-bb86e52db47b\",\"xaxis\":\"x\",\"yaxis\":\"y\"},{\"customdata\":[\"\\u003cbr\\u003eEmitted Luminosity: 1.078e+43\\u003cbr\\u003eRequested Luminosity: 1.077e+43\\u003cbr\\u003eAbsorbed Luminosity: 3.251e+43\",\"\\u003cbr\\u003eEmitted Luminosity: 1.078e+43\\u003cbr\\u003eRequested Luminosity: 1.077e+43\\u003cbr\\u003eAbsorbed Luminosity: 3.251e+43\",\"\\u003cbr\\u003eEmitted Luminosity: 1.078e+43\\u003cbr\\u003eRequested Luminosity: 1.077e+43\\u003cbr\\u003eAbsorbed Luminosity: 3.251e+43\",\"\\u003cbr\\u003eEmitted Luminosity: 1.078e+43\\u003cbr\\u003eRequested Luminosity: 1.077e+43\\u003cbr\\u003eAbsorbed Luminosity: 3.251e+43\",\"\\u003cbr\\u003eEmitted Luminosity: 1.078e+43\\u003cbr\\u003eRequested Luminosity: 1.077e+43\\u003cbr\\u003eAbsorbed Luminosity: 3.251e+43\",\"\\u003cbr\\u003eEmitted Luminosity: 1.078e+43\\u003cbr\\u003eRequested Luminosity: 1.077e+43\\u003cbr\\u003eAbsorbed Luminosity: 3.251e+43\",\"\\u003cbr\\u003eEmitted Luminosity: 1.078e+43\\u003cbr\\u003eRequested Luminosity: 1.077e+43\\u003cbr\\u003eAbsorbed Luminosity: 3.251e+43\",\"\\u003cbr\\u003eEmitted Luminosity: 1.078e+43\\u003cbr\\u003eRequested Luminosity: 1.077e+43\\u003cbr\\u003eAbsorbed Luminosity: 3.251e+43\",\"\\u003cbr\\u003eEmitted Luminosity: 1.078e+43\\u003cbr\\u003eRequested Luminosity: 1.077e+43\\u003cbr\\u003eAbsorbed Luminosity: 3.251e+43\",\"\\u003cbr\\u003eEmitted Luminosity: 1.078e+43\\u003cbr\\u003eRequested Luminosity: 1.077e+43\\u003cbr\\u003eAbsorbed Luminosity: 3.251e+43\",\"\\u003cbr\\u003eEmitted Luminosity: 1.078e+43\\u003cbr\\u003eRequested Luminosity: 1.077e+43\\u003cbr\\u003eAbsorbed Luminosity: 3.251e+43\",\"\\u003cbr\\u003eEmitted Luminosity: 1.078e+43\\u003cbr\\u003eRequested Luminosity: 1.077e+43\\u003cbr\\u003eAbsorbed Luminosity: 3.251e+43\",\"\\u003cbr\\u003eEmitted Luminosity: 1.078e+43\\u003cbr\\u003eRequested Luminosity: 1.077e+43\\u003cbr\\u003eAbsorbed Luminosity: 3.251e+43\",\"\\u003cbr\\u003eEmitted Luminosity: 1.078e+43\\u003cbr\\u003eRequested Luminosity: 1.077e+43\\u003cbr\\u003eAbsorbed Luminosity: 3.251e+43\",\"\\u003cbr\\u003eEmitted Luminosity: 1.078e+43\\u003cbr\\u003eRequested Luminosity: 1.077e+43\\u003cbr\\u003eAbsorbed Luminosity: 3.251e+43\",\"\\u003cbr\\u003eEmitted Luminosity: 1.078e+43\\u003cbr\\u003eRequested Luminosity: 1.077e+43\\u003cbr\\u003eAbsorbed Luminosity: 3.251e+43\",\"\\u003cbr\\u003eEmitted Luminosity: 1.078e+43\\u003cbr\\u003eRequested Luminosity: 1.077e+43\\u003cbr\\u003eAbsorbed Luminosity: 3.251e+43\",\"\\u003cbr\\u003eEmitted Luminosity: 1.078e+43\\u003cbr\\u003eRequested Luminosity: 1.077e+43\\u003cbr\\u003eAbsorbed Luminosity: 3.251e+43\",\"\\u003cbr\\u003eEmitted Luminosity: 1.078e+43\\u003cbr\\u003eRequested Luminosity: 1.077e+43\\u003cbr\\u003eAbsorbed Luminosity: 3.251e+43\",\"\\u003cbr\\u003eEmitted Luminosity: 1.078e+43\\u003cbr\\u003eRequested Luminosity: 1.077e+43\\u003cbr\\u003eAbsorbed Luminosity: 3.251e+43\",\"\\u003cbr\\u003eEmitted Luminosity: 1.078e+43\\u003cbr\\u003eRequested Luminosity: 1.077e+43\\u003cbr\\u003eAbsorbed Luminosity: 3.251e+43\"],\"hovertemplate\":\"\\u003cb\\u003eY\\u003c\\u002fb\\u003e: %{y:.3f} at \\u003cb\\u003eX\\u003c\\u002fb\\u003e = %{x:,.0f}%{customdata}\",\"legendgroup\":\"group-10\",\"line\":{\"color\":\"#006cff\",\"shape\":\"hv\"},\"name\":\"10\",\"x\":[11000.0,11450.000000000002,11900.000000000002,12350.000000000002,12800.000000000002,13250.000000000002,13700.000000000002,14150.000000000002,14600.000000000002,15050.000000000002,15500.000000000002,15950.000000000002,16400.0,16850.0,17300.0,17750.0,18200.0,18650.0,19100.0,19550.0,20000.0],\"y\":[0.7818875056273467,0.604395946425275,0.47650232507317547,0.37776586842517756,0.30397267207213907,0.24850643584807613,0.20325730660645358,0.16888334185488035,0.14214286981949967,0.12022533284551515,0.10227233223307874,0.08923979647294987,0.07749601701553856,0.06852427304342656,0.06040865085695573,0.05378285956885834,0.04796051725197484,0.04310262082623001,0.03887590942398424,0.035190025263694094,0.035190025263694094],\"type\":\"scatter\",\"uid\":\"e92c70f7-bca3-4496-91d1-8c2bb3b55afc\",\"xaxis\":\"x2\",\"yaxis\":\"y2\"}],                        {\"template\":{\"data\":{\"barpolar\":[{\"marker\":{\"line\":{\"color\":\"#E5ECF6\",\"width\":0.5},\"pattern\":{\"fillmode\":\"overlay\",\"size\":10,\"solidity\":0.2}},\"type\":\"barpolar\"}],\"bar\":[{\"error_x\":{\"color\":\"#2a3f5f\"},\"error_y\":{\"color\":\"#2a3f5f\"},\"marker\":{\"line\":{\"color\":\"#E5ECF6\",\"width\":0.5},\"pattern\":{\"fillmode\":\"overlay\",\"size\":10,\"solidity\":0.2}},\"type\":\"bar\"}],\"carpet\":[{\"aaxis\":{\"endlinecolor\":\"#2a3f5f\",\"gridcolor\":\"white\",\"linecolor\":\"white\",\"minorgridcolor\":\"white\",\"startlinecolor\":\"#2a3f5f\"},\"baxis\":{\"endlinecolor\":\"#2a3f5f\",\"gridcolor\":\"white\",\"linecolor\":\"white\",\"minorgridcolor\":\"white\",\"startlinecolor\":\"#2a3f5f\"},\"type\":\"carpet\"}],\"choropleth\":[{\"colorbar\":{\"outlinewidth\":0,\"ticks\":\"\"},\"type\":\"choropleth\"}],\"contourcarpet\":[{\"colorbar\":{\"outlinewidth\":0,\"ticks\":\"\"},\"type\":\"contourcarpet\"}],\"contour\":[{\"colorbar\":{\"outlinewidth\":0,\"ticks\":\"\"},\"colorscale\":[[0.0,\"#0d0887\"],[0.1111111111111111,\"#46039f\"],[0.2222222222222222,\"#7201a8\"],[0.3333333333333333,\"#9c179e\"],[0.4444444444444444,\"#bd3786\"],[0.5555555555555556,\"#d8576b\"],[0.6666666666666666,\"#ed7953\"],[0.7777777777777778,\"#fb9f3a\"],[0.8888888888888888,\"#fdca26\"],[1.0,\"#f0f921\"]],\"type\":\"contour\"}],\"heatmapgl\":[{\"colorbar\":{\"outlinewidth\":0,\"ticks\":\"\"},\"colorscale\":[[0.0,\"#0d0887\"],[0.1111111111111111,\"#46039f\"],[0.2222222222222222,\"#7201a8\"],[0.3333333333333333,\"#9c179e\"],[0.4444444444444444,\"#bd3786\"],[0.5555555555555556,\"#d8576b\"],[0.6666666666666666,\"#ed7953\"],[0.7777777777777778,\"#fb9f3a\"],[0.8888888888888888,\"#fdca26\"],[1.0,\"#f0f921\"]],\"type\":\"heatmapgl\"}],\"heatmap\":[{\"colorbar\":{\"outlinewidth\":0,\"ticks\":\"\"},\"colorscale\":[[0.0,\"#0d0887\"],[0.1111111111111111,\"#46039f\"],[0.2222222222222222,\"#7201a8\"],[0.3333333333333333,\"#9c179e\"],[0.4444444444444444,\"#bd3786\"],[0.5555555555555556,\"#d8576b\"],[0.6666666666666666,\"#ed7953\"],[0.7777777777777778,\"#fb9f3a\"],[0.8888888888888888,\"#fdca26\"],[1.0,\"#f0f921\"]],\"type\":\"heatmap\"}],\"histogram2dcontour\":[{\"colorbar\":{\"outlinewidth\":0,\"ticks\":\"\"},\"colorscale\":[[0.0,\"#0d0887\"],[0.1111111111111111,\"#46039f\"],[0.2222222222222222,\"#7201a8\"],[0.3333333333333333,\"#9c179e\"],[0.4444444444444444,\"#bd3786\"],[0.5555555555555556,\"#d8576b\"],[0.6666666666666666,\"#ed7953\"],[0.7777777777777778,\"#fb9f3a\"],[0.8888888888888888,\"#fdca26\"],[1.0,\"#f0f921\"]],\"type\":\"histogram2dcontour\"}],\"histogram2d\":[{\"colorbar\":{\"outlinewidth\":0,\"ticks\":\"\"},\"colorscale\":[[0.0,\"#0d0887\"],[0.1111111111111111,\"#46039f\"],[0.2222222222222222,\"#7201a8\"],[0.3333333333333333,\"#9c179e\"],[0.4444444444444444,\"#bd3786\"],[0.5555555555555556,\"#d8576b\"],[0.6666666666666666,\"#ed7953\"],[0.7777777777777778,\"#fb9f3a\"],[0.8888888888888888,\"#fdca26\"],[1.0,\"#f0f921\"]],\"type\":\"histogram2d\"}],\"histogram\":[{\"marker\":{\"pattern\":{\"fillmode\":\"overlay\",\"size\":10,\"solidity\":0.2}},\"type\":\"histogram\"}],\"mesh3d\":[{\"colorbar\":{\"outlinewidth\":0,\"ticks\":\"\"},\"type\":\"mesh3d\"}],\"parcoords\":[{\"line\":{\"colorbar\":{\"outlinewidth\":0,\"ticks\":\"\"}},\"type\":\"parcoords\"}],\"pie\":[{\"automargin\":true,\"type\":\"pie\"}],\"scatter3d\":[{\"line\":{\"colorbar\":{\"outlinewidth\":0,\"ticks\":\"\"}},\"marker\":{\"colorbar\":{\"outlinewidth\":0,\"ticks\":\"\"}},\"type\":\"scatter3d\"}],\"scattercarpet\":[{\"marker\":{\"colorbar\":{\"outlinewidth\":0,\"ticks\":\"\"}},\"type\":\"scattercarpet\"}],\"scattergeo\":[{\"marker\":{\"colorbar\":{\"outlinewidth\":0,\"ticks\":\"\"}},\"type\":\"scattergeo\"}],\"scattergl\":[{\"marker\":{\"colorbar\":{\"outlinewidth\":0,\"ticks\":\"\"}},\"type\":\"scattergl\"}],\"scattermapbox\":[{\"marker\":{\"colorbar\":{\"outlinewidth\":0,\"ticks\":\"\"}},\"type\":\"scattermapbox\"}],\"scatterpolargl\":[{\"marker\":{\"colorbar\":{\"outlinewidth\":0,\"ticks\":\"\"}},\"type\":\"scatterpolargl\"}],\"scatterpolar\":[{\"marker\":{\"colorbar\":{\"outlinewidth\":0,\"ticks\":\"\"}},\"type\":\"scatterpolar\"}],\"scatter\":[{\"fillpattern\":{\"fillmode\":\"overlay\",\"size\":10,\"solidity\":0.2},\"type\":\"scatter\"}],\"scatterternary\":[{\"marker\":{\"colorbar\":{\"outlinewidth\":0,\"ticks\":\"\"}},\"type\":\"scatterternary\"}],\"surface\":[{\"colorbar\":{\"outlinewidth\":0,\"ticks\":\"\"},\"colorscale\":[[0.0,\"#0d0887\"],[0.1111111111111111,\"#46039f\"],[0.2222222222222222,\"#7201a8\"],[0.3333333333333333,\"#9c179e\"],[0.4444444444444444,\"#bd3786\"],[0.5555555555555556,\"#d8576b\"],[0.6666666666666666,\"#ed7953\"],[0.7777777777777778,\"#fb9f3a\"],[0.8888888888888888,\"#fdca26\"],[1.0,\"#f0f921\"]],\"type\":\"surface\"}],\"table\":[{\"cells\":{\"fill\":{\"color\":\"#EBF0F8\"},\"line\":{\"color\":\"white\"}},\"header\":{\"fill\":{\"color\":\"#C8D4E3\"},\"line\":{\"color\":\"white\"}},\"type\":\"table\"}]},\"layout\":{\"annotationdefaults\":{\"arrowcolor\":\"#2a3f5f\",\"arrowhead\":0,\"arrowwidth\":1},\"autotypenumbers\":\"strict\",\"coloraxis\":{\"colorbar\":{\"outlinewidth\":0,\"ticks\":\"\"}},\"colorscale\":{\"diverging\":[[0,\"#8e0152\"],[0.1,\"#c51b7d\"],[0.2,\"#de77ae\"],[0.3,\"#f1b6da\"],[0.4,\"#fde0ef\"],[0.5,\"#f7f7f7\"],[0.6,\"#e6f5d0\"],[0.7,\"#b8e186\"],[0.8,\"#7fbc41\"],[0.9,\"#4d9221\"],[1,\"#276419\"]],\"sequential\":[[0.0,\"#0d0887\"],[0.1111111111111111,\"#46039f\"],[0.2222222222222222,\"#7201a8\"],[0.3333333333333333,\"#9c179e\"],[0.4444444444444444,\"#bd3786\"],[0.5555555555555556,\"#d8576b\"],[0.6666666666666666,\"#ed7953\"],[0.7777777777777778,\"#fb9f3a\"],[0.8888888888888888,\"#fdca26\"],[1.0,\"#f0f921\"]],\"sequentialminus\":[[0.0,\"#0d0887\"],[0.1111111111111111,\"#46039f\"],[0.2222222222222222,\"#7201a8\"],[0.3333333333333333,\"#9c179e\"],[0.4444444444444444,\"#bd3786\"],[0.5555555555555556,\"#d8576b\"],[0.6666666666666666,\"#ed7953\"],[0.7777777777777778,\"#fb9f3a\"],[0.8888888888888888,\"#fdca26\"],[1.0,\"#f0f921\"]]},\"colorway\":[\"#636efa\",\"#EF553B\",\"#00cc96\",\"#ab63fa\",\"#FFA15A\",\"#19d3f3\",\"#FF6692\",\"#B6E880\",\"#FF97FF\",\"#FECB52\"],\"font\":{\"color\":\"#2a3f5f\"},\"geo\":{\"bgcolor\":\"white\",\"lakecolor\":\"white\",\"landcolor\":\"#E5ECF6\",\"showlakes\":true,\"showland\":true,\"subunitcolor\":\"white\"},\"hoverlabel\":{\"align\":\"left\"},\"hovermode\":\"closest\",\"mapbox\":{\"style\":\"light\"},\"paper_bgcolor\":\"white\",\"plot_bgcolor\":\"#E5ECF6\",\"polar\":{\"angularaxis\":{\"gridcolor\":\"white\",\"linecolor\":\"white\",\"ticks\":\"\"},\"bgcolor\":\"#E5ECF6\",\"radialaxis\":{\"gridcolor\":\"white\",\"linecolor\":\"white\",\"ticks\":\"\"}},\"scene\":{\"xaxis\":{\"backgroundcolor\":\"#E5ECF6\",\"gridcolor\":\"white\",\"gridwidth\":2,\"linecolor\":\"white\",\"showbackground\":true,\"ticks\":\"\",\"zerolinecolor\":\"white\"},\"yaxis\":{\"backgroundcolor\":\"#E5ECF6\",\"gridcolor\":\"white\",\"gridwidth\":2,\"linecolor\":\"white\",\"showbackground\":true,\"ticks\":\"\",\"zerolinecolor\":\"white\"},\"zaxis\":{\"backgroundcolor\":\"#E5ECF6\",\"gridcolor\":\"white\",\"gridwidth\":2,\"linecolor\":\"white\",\"showbackground\":true,\"ticks\":\"\",\"zerolinecolor\":\"white\"}},\"shapedefaults\":{\"line\":{\"color\":\"#2a3f5f\"}},\"ternary\":{\"aaxis\":{\"gridcolor\":\"white\",\"linecolor\":\"white\",\"ticks\":\"\"},\"baxis\":{\"gridcolor\":\"white\",\"linecolor\":\"white\",\"ticks\":\"\"},\"bgcolor\":\"#E5ECF6\",\"caxis\":{\"gridcolor\":\"white\",\"linecolor\":\"white\",\"ticks\":\"\"}},\"title\":{\"x\":0.05},\"xaxis\":{\"automargin\":true,\"gridcolor\":\"white\",\"linecolor\":\"white\",\"ticks\":\"\",\"title\":{\"standoff\":15},\"zerolinecolor\":\"white\",\"zerolinewidth\":2},\"yaxis\":{\"automargin\":true,\"gridcolor\":\"white\",\"linecolor\":\"white\",\"ticks\":\"\",\"title\":{\"standoff\":15},\"zerolinecolor\":\"white\",\"zerolinewidth\":2}}},\"xaxis\":{\"anchor\":\"y\",\"domain\":[0.0,0.45],\"tickformat\":\"g\",\"title\":{\"text\":\"$\\\\text{Velocity}~[\\\\text{km}~\\\\text{s}^{-1}]$\"}},\"yaxis\":{\"anchor\":\"x\",\"domain\":[0.0,1.0],\"tickformat\":\"g\",\"title\":{\"text\":\"$T_{\\\\text{rad}}\\\\ [\\\\text{K}]$\"},\"nticks\":15},\"xaxis2\":{\"anchor\":\"y2\",\"domain\":[0.55,1.0],\"tickformat\":\"g\",\"title\":{\"text\":\"$\\\\text{Velocity}~[\\\\text{km}~\\\\text{s}^{-1}]$\"},\"matches\":\"x\"},\"yaxis2\":{\"anchor\":\"x2\",\"domain\":[0.0,1.0],\"tickformat\":\"g\",\"title\":{\"text\":\"$W$\"},\"nticks\":15},\"legend\":{\"title\":{\"text\":\"Iterations\"},\"traceorder\":\"reversed\"},\"margin\":{\"l\":10,\"r\":135,\"b\":25,\"t\":25,\"pad\":0},\"height\":450},                        {\"responsive\": true}                    ).then(function(){\n",
       "                            \n",
       "var gd = document.getElementById('2f64c63e-1668-45e7-8f26-87a198095c16');\n",
       "var x = new MutationObserver(function (mutations, observer) {{\n",
       "        var display = window.getComputedStyle(gd).display;\n",
       "        if (!display || display === 'none') {{\n",
       "            console.log([gd, 'removed!']);\n",
       "            Plotly.purge(gd);\n",
       "            observer.disconnect();\n",
       "        }}\n",
       "}});\n",
       "\n",
       "// Listen for the removal of the full notebook cells\n",
       "var notebookContainer = gd.closest('#notebook-container');\n",
       "if (notebookContainer) {{\n",
       "    x.observe(notebookContainer, {childList: true});\n",
       "}}\n",
       "\n",
       "// Listen for the clearing of the current output cell\n",
       "var outputEl = gd.closest('.output');\n",
       "if (outputEl) {{\n",
       "    x.observe(outputEl, {childList: true});\n",
       "}}\n",
       "\n",
       "                        })                };                });            </script>        </div>"
      ]
     },
     "metadata": {},
     "output_type": "display_data"
    },
    {
     "data": {
      "text/html": [
       "        <script type=\"text/javascript\">\n",
       "        window.PlotlyConfig = {MathJaxConfig: 'local'};\n",
       "        if (window.MathJax && window.MathJax.Hub && window.MathJax.Hub.Config) {window.MathJax.Hub.Config({SVG: {font: \"STIX-Web\"}});}\n",
       "        if (typeof require !== 'undefined') {\n",
       "        require.undef(\"plotly\");\n",
       "        requirejs.config({\n",
       "            paths: {\n",
       "                'plotly': ['https://cdn.plot.ly/plotly-2.32.0.min']\n",
       "            }\n",
       "        });\n",
       "        require(['plotly'], function(Plotly) {\n",
       "            window._Plotly = Plotly;\n",
       "        });\n",
       "        }\n",
       "        </script>\n",
       "        "
      ]
     },
     "metadata": {},
     "output_type": "display_data"
    },
    {
     "data": {
      "text/html": [
       "<div>                            <div id=\"0809eb6e-800c-41b0-9987-bb403fad3377\" class=\"plotly-graph-div\" style=\"height:630px; width:100%;\"></div>            <script type=\"text/javascript\">                require([\"plotly\"], function(Plotly) {                    window.PLOTLYENV=window.PLOTLYENV || {};                                    if (document.getElementById(\"0809eb6e-800c-41b0-9987-bb403fad3377\")) {                    Plotly.newPlot(                        \"0809eb6e-800c-41b0-9987-bb403fad3377\",                        [{\"hovertext\":\"text\",\"mode\":\"lines\",\"name\":\"Inner\\u003cbr\\u003eBoundary\\u003cbr\\u003eTemperature\",\"type\":\"scatter\",\"uid\":\"d6c86561-d4c9-47f0-b41f-b6f6e039c892\",\"xaxis\":\"x\",\"yaxis\":\"y\",\"hovertemplate\":\"\\u003cb\\u003e%{y:.3f}\\u003c\\u002fb\\u003e at X = %{x:,.0f}\\u003cextra\\u003eInner Boundary Temperature\\u003c\\u002fextra\\u003e\",\"x\":[1,2,3,4,5,6,7,8,9,10,11,12,13,14,15,16,17,18,19,20,21,22,23,24,25,26,27,28,29,30,31,32,33,34,35,36,37,38,39,40],\"y\":[12000.0,14451.095787584756,14190.4337603197,14274.78350012166,14220.951333174562,14279.11923592491,14253.523321833522,14223.815632504044,14232.936687206276,14248.70705254181]},{\"mode\":\"lines\",\"name\":\"Emitted\\u003cbr\\u003eLuminosity\",\"type\":\"scatter\",\"uid\":\"21f86d3a-6af2-42e9-a7c4-46ea3a84d137\",\"xaxis\":\"x2\",\"yaxis\":\"y2\",\"hovertemplate\":\"\\u003cb\\u003e%{y:.4g}\\u003c\\u002fb\\u003e\\u003cbr\\u003eat X = %{x}\\u003cbr\\u003e\",\"x\":[1,2,3,4,5,6,7,8,9,10,11,12,13,14,15,16,17,18,19,20,21,22,23,24,25,26,27,28,29,30,31,32,33,34,35,36,37,38,39,40],\"y\":[5.4280490525150176e+42,1.1589931556386364e+43,1.051725011145862e+43,1.0933098924656098e+43,1.0594748343072348e+43,1.0846431306585592e+43,1.0859143327703854e+43,1.0741230975712829e+43,1.0721230040367461e+43,1.0776361692355128e+43]},{\"mode\":\"lines\",\"name\":\"Absorbed\\u003cbr\\u003eLuminosity\",\"type\":\"scatter\",\"uid\":\"449df81d-0c58-4933-9ffe-5c39a0c106f8\",\"xaxis\":\"x2\",\"yaxis\":\"y2\",\"hovertemplate\":\"\\u003cb\\u003e%{y:.4g}\\u003c\\u002fb\\u003e\\u003cbr\\u003eat X = %{x}\\u003cbr\\u003e\",\"x\":[1,2,3,4,5,6,7,8,9,10,11,12,13,14,15,16,17,18,19,20,21,22,23,24,25,26,27,28,29,30,31,32,33,34,35,36,37,38,39,40],\"y\":[1.6345276659077888e+43,3.4222627327620603e+43,3.2059169022076133e+43,3.267067359608003e+43,3.2355747284359484e+43,3.2816448279405324e+43,3.248228266967629e+43,3.224258390536356e+43,3.237146595106213e+43,3.2509234273118046e+43]},{\"mode\":\"lines\",\"name\":\"Requested\\u003cbr\\u003eLuminosity\",\"type\":\"scatter\",\"uid\":\"d567dda5-825d-4185-948b-08586bf2f09b\",\"xaxis\":\"x2\",\"yaxis\":\"y2\",\"hovertemplate\":\"\\u003cb\\u003e%{y:.4g}\\u003c\\u002fb\\u003e\\u003cbr\\u003eat X = %{x}\\u003cbr\\u003e\",\"x\":[1,2,3,4,5,6,7,8,9,10,11,12,13,14,15,16,17,18,19,20,21,22,23,24,25,26,27,28,29,30,31,32,33,34,35,36,37,38,39,40],\"y\":[1.0768799999999999e+43,1.0768799999999999e+43,1.0768799999999999e+43,1.0768799999999999e+43,1.0768799999999999e+43,1.0768799999999999e+43,1.0768799999999999e+43,1.0768799999999999e+43,1.0768799999999999e+43,1.0768799999999999e+43]},{\"mode\":\"lines\",\"name\":\"Residual\\u003cbr\\u003eLuminosity\",\"type\":\"scatter\",\"uid\":\"6c114aa1-bc82-4808-ab04-85c8fd71013f\",\"xaxis\":\"x3\",\"yaxis\":\"y3\",\"hovertemplate\":\"\\u003cb\\u003e%{y:.2f}%\\u003c\\u002fb\\u003e at X = %{x:,.0f}\",\"x\":[1,2,3,4,5,6,7,8,9,10,11,12,13,14,15,16,17,18,19,20,21,22,23,24,25,26,27,28,29,30,31,32,33,34,35,36,37,38,39,40],\"y\":[-49.594671156349655,7.625098027508778,-2.335913830151728,1.5256938995626133,-1.6162586075296357,0.7208909682192328,0.8389358861140985,-0.2560083229995023,-0.44173872327963964,0.07021852346713259]}],                        {\"template\":{\"data\":{\"barpolar\":[{\"marker\":{\"line\":{\"color\":\"#E5ECF6\",\"width\":0.5},\"pattern\":{\"fillmode\":\"overlay\",\"size\":10,\"solidity\":0.2}},\"type\":\"barpolar\"}],\"bar\":[{\"error_x\":{\"color\":\"#2a3f5f\"},\"error_y\":{\"color\":\"#2a3f5f\"},\"marker\":{\"line\":{\"color\":\"#E5ECF6\",\"width\":0.5},\"pattern\":{\"fillmode\":\"overlay\",\"size\":10,\"solidity\":0.2}},\"type\":\"bar\"}],\"carpet\":[{\"aaxis\":{\"endlinecolor\":\"#2a3f5f\",\"gridcolor\":\"white\",\"linecolor\":\"white\",\"minorgridcolor\":\"white\",\"startlinecolor\":\"#2a3f5f\"},\"baxis\":{\"endlinecolor\":\"#2a3f5f\",\"gridcolor\":\"white\",\"linecolor\":\"white\",\"minorgridcolor\":\"white\",\"startlinecolor\":\"#2a3f5f\"},\"type\":\"carpet\"}],\"choropleth\":[{\"colorbar\":{\"outlinewidth\":0,\"ticks\":\"\"},\"type\":\"choropleth\"}],\"contourcarpet\":[{\"colorbar\":{\"outlinewidth\":0,\"ticks\":\"\"},\"type\":\"contourcarpet\"}],\"contour\":[{\"colorbar\":{\"outlinewidth\":0,\"ticks\":\"\"},\"colorscale\":[[0.0,\"#0d0887\"],[0.1111111111111111,\"#46039f\"],[0.2222222222222222,\"#7201a8\"],[0.3333333333333333,\"#9c179e\"],[0.4444444444444444,\"#bd3786\"],[0.5555555555555556,\"#d8576b\"],[0.6666666666666666,\"#ed7953\"],[0.7777777777777778,\"#fb9f3a\"],[0.8888888888888888,\"#fdca26\"],[1.0,\"#f0f921\"]],\"type\":\"contour\"}],\"heatmapgl\":[{\"colorbar\":{\"outlinewidth\":0,\"ticks\":\"\"},\"colorscale\":[[0.0,\"#0d0887\"],[0.1111111111111111,\"#46039f\"],[0.2222222222222222,\"#7201a8\"],[0.3333333333333333,\"#9c179e\"],[0.4444444444444444,\"#bd3786\"],[0.5555555555555556,\"#d8576b\"],[0.6666666666666666,\"#ed7953\"],[0.7777777777777778,\"#fb9f3a\"],[0.8888888888888888,\"#fdca26\"],[1.0,\"#f0f921\"]],\"type\":\"heatmapgl\"}],\"heatmap\":[{\"colorbar\":{\"outlinewidth\":0,\"ticks\":\"\"},\"colorscale\":[[0.0,\"#0d0887\"],[0.1111111111111111,\"#46039f\"],[0.2222222222222222,\"#7201a8\"],[0.3333333333333333,\"#9c179e\"],[0.4444444444444444,\"#bd3786\"],[0.5555555555555556,\"#d8576b\"],[0.6666666666666666,\"#ed7953\"],[0.7777777777777778,\"#fb9f3a\"],[0.8888888888888888,\"#fdca26\"],[1.0,\"#f0f921\"]],\"type\":\"heatmap\"}],\"histogram2dcontour\":[{\"colorbar\":{\"outlinewidth\":0,\"ticks\":\"\"},\"colorscale\":[[0.0,\"#0d0887\"],[0.1111111111111111,\"#46039f\"],[0.2222222222222222,\"#7201a8\"],[0.3333333333333333,\"#9c179e\"],[0.4444444444444444,\"#bd3786\"],[0.5555555555555556,\"#d8576b\"],[0.6666666666666666,\"#ed7953\"],[0.7777777777777778,\"#fb9f3a\"],[0.8888888888888888,\"#fdca26\"],[1.0,\"#f0f921\"]],\"type\":\"histogram2dcontour\"}],\"histogram2d\":[{\"colorbar\":{\"outlinewidth\":0,\"ticks\":\"\"},\"colorscale\":[[0.0,\"#0d0887\"],[0.1111111111111111,\"#46039f\"],[0.2222222222222222,\"#7201a8\"],[0.3333333333333333,\"#9c179e\"],[0.4444444444444444,\"#bd3786\"],[0.5555555555555556,\"#d8576b\"],[0.6666666666666666,\"#ed7953\"],[0.7777777777777778,\"#fb9f3a\"],[0.8888888888888888,\"#fdca26\"],[1.0,\"#f0f921\"]],\"type\":\"histogram2d\"}],\"histogram\":[{\"marker\":{\"pattern\":{\"fillmode\":\"overlay\",\"size\":10,\"solidity\":0.2}},\"type\":\"histogram\"}],\"mesh3d\":[{\"colorbar\":{\"outlinewidth\":0,\"ticks\":\"\"},\"type\":\"mesh3d\"}],\"parcoords\":[{\"line\":{\"colorbar\":{\"outlinewidth\":0,\"ticks\":\"\"}},\"type\":\"parcoords\"}],\"pie\":[{\"automargin\":true,\"type\":\"pie\"}],\"scatter3d\":[{\"line\":{\"colorbar\":{\"outlinewidth\":0,\"ticks\":\"\"}},\"marker\":{\"colorbar\":{\"outlinewidth\":0,\"ticks\":\"\"}},\"type\":\"scatter3d\"}],\"scattercarpet\":[{\"marker\":{\"colorbar\":{\"outlinewidth\":0,\"ticks\":\"\"}},\"type\":\"scattercarpet\"}],\"scattergeo\":[{\"marker\":{\"colorbar\":{\"outlinewidth\":0,\"ticks\":\"\"}},\"type\":\"scattergeo\"}],\"scattergl\":[{\"marker\":{\"colorbar\":{\"outlinewidth\":0,\"ticks\":\"\"}},\"type\":\"scattergl\"}],\"scattermapbox\":[{\"marker\":{\"colorbar\":{\"outlinewidth\":0,\"ticks\":\"\"}},\"type\":\"scattermapbox\"}],\"scatterpolargl\":[{\"marker\":{\"colorbar\":{\"outlinewidth\":0,\"ticks\":\"\"}},\"type\":\"scatterpolargl\"}],\"scatterpolar\":[{\"marker\":{\"colorbar\":{\"outlinewidth\":0,\"ticks\":\"\"}},\"type\":\"scatterpolar\"}],\"scatter\":[{\"fillpattern\":{\"fillmode\":\"overlay\",\"size\":10,\"solidity\":0.2},\"type\":\"scatter\"}],\"scatterternary\":[{\"marker\":{\"colorbar\":{\"outlinewidth\":0,\"ticks\":\"\"}},\"type\":\"scatterternary\"}],\"surface\":[{\"colorbar\":{\"outlinewidth\":0,\"ticks\":\"\"},\"colorscale\":[[0.0,\"#0d0887\"],[0.1111111111111111,\"#46039f\"],[0.2222222222222222,\"#7201a8\"],[0.3333333333333333,\"#9c179e\"],[0.4444444444444444,\"#bd3786\"],[0.5555555555555556,\"#d8576b\"],[0.6666666666666666,\"#ed7953\"],[0.7777777777777778,\"#fb9f3a\"],[0.8888888888888888,\"#fdca26\"],[1.0,\"#f0f921\"]],\"type\":\"surface\"}],\"table\":[{\"cells\":{\"fill\":{\"color\":\"#EBF0F8\"},\"line\":{\"color\":\"white\"}},\"header\":{\"fill\":{\"color\":\"#C8D4E3\"},\"line\":{\"color\":\"white\"}},\"type\":\"table\"}]},\"layout\":{\"annotationdefaults\":{\"arrowcolor\":\"#2a3f5f\",\"arrowhead\":0,\"arrowwidth\":1},\"autotypenumbers\":\"strict\",\"coloraxis\":{\"colorbar\":{\"outlinewidth\":0,\"ticks\":\"\"}},\"colorscale\":{\"diverging\":[[0,\"#8e0152\"],[0.1,\"#c51b7d\"],[0.2,\"#de77ae\"],[0.3,\"#f1b6da\"],[0.4,\"#fde0ef\"],[0.5,\"#f7f7f7\"],[0.6,\"#e6f5d0\"],[0.7,\"#b8e186\"],[0.8,\"#7fbc41\"],[0.9,\"#4d9221\"],[1,\"#276419\"]],\"sequential\":[[0.0,\"#0d0887\"],[0.1111111111111111,\"#46039f\"],[0.2222222222222222,\"#7201a8\"],[0.3333333333333333,\"#9c179e\"],[0.4444444444444444,\"#bd3786\"],[0.5555555555555556,\"#d8576b\"],[0.6666666666666666,\"#ed7953\"],[0.7777777777777778,\"#fb9f3a\"],[0.8888888888888888,\"#fdca26\"],[1.0,\"#f0f921\"]],\"sequentialminus\":[[0.0,\"#0d0887\"],[0.1111111111111111,\"#46039f\"],[0.2222222222222222,\"#7201a8\"],[0.3333333333333333,\"#9c179e\"],[0.4444444444444444,\"#bd3786\"],[0.5555555555555556,\"#d8576b\"],[0.6666666666666666,\"#ed7953\"],[0.7777777777777778,\"#fb9f3a\"],[0.8888888888888888,\"#fdca26\"],[1.0,\"#f0f921\"]]},\"colorway\":[\"#636efa\",\"#EF553B\",\"#00cc96\",\"#ab63fa\",\"#FFA15A\",\"#19d3f3\",\"#FF6692\",\"#B6E880\",\"#FF97FF\",\"#FECB52\"],\"font\":{\"color\":\"#2a3f5f\"},\"geo\":{\"bgcolor\":\"white\",\"lakecolor\":\"white\",\"landcolor\":\"#E5ECF6\",\"showlakes\":true,\"showland\":true,\"subunitcolor\":\"white\"},\"hoverlabel\":{\"align\":\"left\"},\"hovermode\":\"closest\",\"mapbox\":{\"style\":\"light\"},\"paper_bgcolor\":\"white\",\"plot_bgcolor\":\"#E5ECF6\",\"polar\":{\"angularaxis\":{\"gridcolor\":\"white\",\"linecolor\":\"white\",\"ticks\":\"\"},\"bgcolor\":\"#E5ECF6\",\"radialaxis\":{\"gridcolor\":\"white\",\"linecolor\":\"white\",\"ticks\":\"\"}},\"scene\":{\"xaxis\":{\"backgroundcolor\":\"#E5ECF6\",\"gridcolor\":\"white\",\"gridwidth\":2,\"linecolor\":\"white\",\"showbackground\":true,\"ticks\":\"\",\"zerolinecolor\":\"white\"},\"yaxis\":{\"backgroundcolor\":\"#E5ECF6\",\"gridcolor\":\"white\",\"gridwidth\":2,\"linecolor\":\"white\",\"showbackground\":true,\"ticks\":\"\",\"zerolinecolor\":\"white\"},\"zaxis\":{\"backgroundcolor\":\"#E5ECF6\",\"gridcolor\":\"white\",\"gridwidth\":2,\"linecolor\":\"white\",\"showbackground\":true,\"ticks\":\"\",\"zerolinecolor\":\"white\"}},\"shapedefaults\":{\"line\":{\"color\":\"#2a3f5f\"}},\"ternary\":{\"aaxis\":{\"gridcolor\":\"white\",\"linecolor\":\"white\",\"ticks\":\"\"},\"baxis\":{\"gridcolor\":\"white\",\"linecolor\":\"white\",\"ticks\":\"\"},\"bgcolor\":\"#E5ECF6\",\"caxis\":{\"gridcolor\":\"white\",\"linecolor\":\"white\",\"ticks\":\"\"}},\"title\":{\"x\":0.05},\"xaxis\":{\"automargin\":true,\"gridcolor\":\"white\",\"linecolor\":\"white\",\"ticks\":\"\",\"title\":{\"standoff\":15},\"zerolinecolor\":\"white\",\"zerolinewidth\":2},\"yaxis\":{\"automargin\":true,\"gridcolor\":\"white\",\"linecolor\":\"white\",\"ticks\":\"\",\"title\":{\"standoff\":15},\"zerolinecolor\":\"white\",\"zerolinewidth\":2}}},\"xaxis\":{\"anchor\":\"y\",\"domain\":[0.0,1.0],\"matches\":\"x3\",\"showticklabels\":false,\"range\":[0,41],\"dtick\":2},\"yaxis\":{\"anchor\":\"x\",\"domain\":[0.79,1.0],\"title\":{\"text\":\"$T_{\\\\text{inner}}\\\\ [\\\\text{K}]$\"},\"automargin\":true,\"tickformat\":\"g\",\"exponentformat\":\"e\",\"nticks\":4},\"xaxis2\":{\"anchor\":\"y2\",\"domain\":[0.0,1.0],\"matches\":\"x\",\"showticklabels\":false,\"range\":[0,41],\"dtick\":2},\"yaxis2\":{\"anchor\":\"x2\",\"domain\":[0.29,0.71],\"title\":{\"text\":\"$\\\\text{Luminosity}~[\\\\text{erg s}^{-1}]$\",\"font\":{\"size\":13}},\"exponentformat\":\"e\",\"automargin\":true,\"nticks\":7},\"xaxis3\":{\"anchor\":\"y3\",\"domain\":[0.0,1.0],\"title\":{\"text\":\"$\\\\mbox{Iteration Number}$\"},\"dtick\":2},\"yaxis3\":{\"anchor\":\"x3\",\"domain\":[0.0,0.21],\"title\":{\"text\":\"$~~\\\\text{Residual}\\\\\\\\\\\\text{Luminosity[%]}$\",\"font\":{\"size\":12}},\"automargin\":true,\"nticks\":4},\"hoverlabel\":{\"align\":\"right\"},\"margin\":{\"b\":25,\"t\":25,\"pad\":0},\"height\":630},                        {\"responsive\": true}                    ).then(function(){\n",
       "                            \n",
       "var gd = document.getElementById('0809eb6e-800c-41b0-9987-bb403fad3377');\n",
       "var x = new MutationObserver(function (mutations, observer) {{\n",
       "        var display = window.getComputedStyle(gd).display;\n",
       "        if (!display || display === 'none') {{\n",
       "            console.log([gd, 'removed!']);\n",
       "            Plotly.purge(gd);\n",
       "            observer.disconnect();\n",
       "        }}\n",
       "}});\n",
       "\n",
       "// Listen for the removal of the full notebook cells\n",
       "var notebookContainer = gd.closest('#notebook-container');\n",
       "if (notebookContainer) {{\n",
       "    x.observe(notebookContainer, {childList: true});\n",
       "}}\n",
       "\n",
       "// Listen for the clearing of the current output cell\n",
       "var outputEl = gd.closest('.output');\n",
       "if (outputEl) {{\n",
       "    x.observe(outputEl, {childList: true});\n",
       "}}\n",
       "\n",
       "                        })                };                });            </script>        </div>"
      ]
     },
     "metadata": {},
     "output_type": "display_data"
    }
   ],
   "source": [
    "workflow.run()"
   ]
  },
  {
   "cell_type": "code",
   "execution_count": 5,
   "metadata": {},
   "outputs": [],
   "source": [
    "import networkx as nx\n",
    "\n",
    "A = nx.nx_agraph.to_agraph(workflow.plasma_solver.graph)\n",
    "A.layout(prog='dot')\n",
    "A.draw('test.png')"
   ]
  },
  {
   "cell_type": "code",
   "execution_count": 6,
   "metadata": {},
   "outputs": [],
   "source": [
    "import matplotlib.pyplot as plt"
   ]
  },
  {
   "cell_type": "code",
   "execution_count": 7,
   "metadata": {},
   "outputs": [],
   "source": [
    "spectrum = workflow.spectrum_solver.spectrum_real_packets\n",
    "spectrum_virtual = workflow.spectrum_solver.spectrum_virtual_packets\n",
    "#spectrum_integrated = workflow.spectrum_solver.spectrum_integrated"
   ]
  },
  {
   "cell_type": "code",
   "execution_count": 8,
   "metadata": {},
   "outputs": [
    {
     "name": "stdout",
     "output_type": "stream",
     "text": [
      "[\u001b[1mpy.warnings         \u001b[0m][\u001b[1;33mWARNING\u001b[0m]  \n",
      "\t<>:10: SyntaxWarning:\n",
      "\n",
      "invalid escape sequence '\\A'\n",
      "\n",
      " (\u001b[1mwarnings.py\u001b[0m:112)\n",
      "[\u001b[1mpy.warnings         \u001b[0m][\u001b[1;33mWARNING\u001b[0m]  \n",
      "\t<>:11: SyntaxWarning:\n",
      "\n",
      "invalid escape sequence '\\A'\n",
      "\n",
      " (\u001b[1mwarnings.py\u001b[0m:112)\n",
      "[\u001b[1mpy.warnings         \u001b[0m][\u001b[1;33mWARNING\u001b[0m]  \n",
      "\t<>:10: SyntaxWarning:\n",
      "\n",
      "invalid escape sequence '\\A'\n",
      "\n",
      " (\u001b[1mwarnings.py\u001b[0m:112)\n",
      "[\u001b[1mpy.warnings         \u001b[0m][\u001b[1;33mWARNING\u001b[0m]  \n",
      "\t<>:11: SyntaxWarning:\n",
      "\n",
      "invalid escape sequence '\\A'\n",
      "\n",
      " (\u001b[1mwarnings.py\u001b[0m:112)\n",
      "[\u001b[1mpy.warnings         \u001b[0m][\u001b[1;33mWARNING\u001b[0m]  \n",
      "\t/tmp/ipykernel_1068050/1801961725.py:10: SyntaxWarning:\n",
      "\n",
      "invalid escape sequence '\\A'\n",
      "\n",
      " (\u001b[1mwarnings.py\u001b[0m:112)\n",
      "[\u001b[1mpy.warnings         \u001b[0m][\u001b[1;33mWARNING\u001b[0m]  \n",
      "\t/tmp/ipykernel_1068050/1801961725.py:11: SyntaxWarning:\n",
      "\n",
      "invalid escape sequence '\\A'\n",
      "\n",
      " (\u001b[1mwarnings.py\u001b[0m:112)\n"
     ]
    },
    {
     "data": {
      "image/png": "[encoded data removed]",
      "text/plain": [
       "<Figure size 1000x650 with 1 Axes>"
      ]
     },
     "metadata": {},
     "output_type": "display_data"
    }
   ],
   "source": [
    "%matplotlib inline\n",
    "plt.figure(figsize=(10, 6.5))\n",
    "\n",
    "spectrum.plot(label=\"Normal packets\")\n",
    "spectrum_virtual.plot(label=\"Virtual packets\")\n",
    "#spectrum_integrated.plot(label='Formal integral')\n",
    "\n",
    "plt.xlim(500, 9000)\n",
    "plt.title(\"TARDIS example model spectrum\")\n",
    "plt.xlabel(\"Wavelength [$\\AA$]\")\n",
    "plt.ylabel(\"Luminosity density [erg/s/$\\AA$]\")\n",
    "plt.legend()\n",
    "plt.show()"
   ]
  },
  {
   "cell_type": "code",
   "execution_count": null,
   "metadata": {},
   "outputs": [],
   "source": []
  }
 ],
 "metadata": {
  "kernelspec": {
   "display_name": "tardis",
   "language": "python",
   "name": "python3"
  },
  "language_info": {
   "codemirror_mode": {
    "name": "ipython",
    "version": 3
   },
   "file_extension": ".py",
   "mimetype": "text/x-python",
   "name": "python",
   "nbconvert_exporter": "python",
   "pygments_lexer": "ipython3",
   "version": "3.12.4"
  }
 },
 "nbformat": 4,
 "nbformat_minor": 2
}
