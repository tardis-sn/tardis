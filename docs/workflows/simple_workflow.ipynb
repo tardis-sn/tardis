{
 "cells": [
  {
   "cell_type": "markdown",
   "metadata": {},
   "source": [
    "# Simple TARDIS Workflow"
   ]
  },
  {
   "cell_type": "markdown",
   "metadata": {},
   "source": [
    "The source code for this workflow can be found at: https://github.com/tardis-sn/tardis/blob/master/tardis/workflows/simple_tardis_workflow.py."
   ]
  },
  {
   "cell_type": "markdown",
   "metadata": {},
   "source": [
    "This is a lightweight workflow designed for efficiency, particularly for those running large batches of TARDIS simulations. It minimizes saved output and logging information to streamline execution."
   ]
  },
  {
   "cell_type": "code",
   "execution_count": 8,
   "metadata": {},
   "outputs": [],
   "source": [
    "import matplotlib.pyplot as plt\n",
    "from tardis.io.configuration.config_reader import Configuration\n",
    "from tardis.workflows.simple_tardis_workflow import SimpleTARDISWorkflow"
   ]
  },
  {
   "cell_type": "code",
   "execution_count": 9,
   "metadata": {},
   "outputs": [],
   "source": [
    "config = Configuration.from_yaml('../tardis_example.yml')"
   ]
  },
  {
   "cell_type": "code",
   "execution_count": null,
   "metadata": {},
   "outputs": [],
   "source": [
    "workflow = SimpleTARDISWorkflow(config)"
   ]
  },
  {
   "cell_type": "code",
   "execution_count": null,
   "metadata": {},
   "outputs": [],
   "source": [
    "workflow.run()"
   ]
  },
  {
   "cell_type": "code",
   "execution_count": null,
   "metadata": {},
   "outputs": [],
   "source": [
    "spectrum = workflow.spectrum_solver.spectrum_real_packets\n",
    "spectrum_virtual = workflow.spectrum_solver.spectrum_virtual_packets\n",
    "spectrum_integrated = workflow.spectrum_solver.spectrum_integrated"
   ]
  },
  {
   "cell_type": "code",
   "execution_count": null,
   "metadata": {},
   "outputs": [],
   "source": [
    "%matplotlib inline\n",
    "plt.figure(figsize=(10, 6.5))\n",
    "\n",
    "spectrum.plot(label=\"Normal packets\")\n",
    "spectrum_virtual.plot(label=\"Virtual packets\")\n",
    "spectrum_integrated.plot(label='Formal integral')\n",
    "\n",
    "plt.xlim(500, 9000)\n",
    "plt.title(\"TARDIS example model spectrum\")\n",
    "plt.xlabel(\"Wavelength [$\\AA$]\")\n",
    "plt.ylabel(\"Luminosity density [erg/s/$\\AA$]\")\n",
    "plt.legend()\n",
    "plt.show()"
   ]
  }
 ],
 "metadata": {
  "kernelspec": {
   "display_name": "tardis",
   "language": "python",
   "name": "python3"
  },
  "language_info": {
   "codemirror_mode": {
    "name": "ipython",
    "version": 3
   },
   "file_extension": ".py",
   "mimetype": "text/x-python",
   "name": "python",
   "nbconvert_exporter": "python",
   "pygments_lexer": "ipython3",
   "version": "3.12.4"
  }
 },
 "nbformat": 4,
 "nbformat_minor": 2
}
