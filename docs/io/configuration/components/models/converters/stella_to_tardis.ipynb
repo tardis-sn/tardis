{
 "cells": [
  {
   "cell_type": "markdown",
   "metadata": {},
   "source": [
    "### STELLA Files to TARDIS ###"
   ]
  },
  {
   "cell_type": "code",
   "execution_count": null,
   "metadata": {},
   "outputs": [],
   "source": [
    "from tardis.io.parsers import stella\n",
    "from astropy import units as u"
   ]
  },
  {
   "cell_type": "code",
   "execution_count": null,
   "metadata": {},
   "outputs": [],
   "source": [
    "data = stella.read_stella_data('mesa.stella.dat')"
   ]
  },
  {
   "cell_type": "code",
   "execution_count": null,
   "metadata": {},
   "outputs": [],
   "source": [
    "data"
   ]
  },
  {
   "cell_type": "code",
   "execution_count": null,
   "metadata": {},
   "outputs": [],
   "source": [
    "# extract outer radius boundaries \n",
    "radius = data.loc[:,'outer_edge_r'].values * u.cm\n",
    "\n",
    "# calculate t_expl_s\n",
    "t_expl = 50 * u.day #days\n",
    "\n",
    "# calculate outer velocities of each zone assuming homologous expansion (d =v*t) \n",
    "\n",
    "vel = (radius/t_expl).to(u.km/u.s) \n",
    "\n",
    "# create a new column of our velocities (OPTIONAL)\n",
    "data['velocity'] = vel"
   ]
  },
  {
   "cell_type": "code",
   "execution_count": null,
   "metadata": {},
   "outputs": [],
   "source": [
    "density_dat = data[['velocity', 'avg_density']].reset_index(drop=True)\n",
    "density_dat.to_csv('density_parse.csv', sep = ' ')"
   ]
  },
  {
   "cell_type": "code",
   "execution_count": null,
   "metadata": {},
   "outputs": [],
   "source": [
    "# import all elements and isotopes and export to TARDIS\n",
    "\n",
    "data_elements = data.iloc[12:33].reset_index(drop=True)\n",
    "abund = data_elements.to_csv('abund_parse.csv', sep = ' ')"
   ]
  }
 ],
 "metadata": {
  "kernelspec": {
   "display_name": "Python 3",
   "language": "python",
   "name": "python3"
  },
  "language_info": {
   "codemirror_mode": {
    "name": "ipython",
    "version": 3
   },
   "file_extension": ".py",
   "mimetype": "text/x-python",
   "name": "python",
   "nbconvert_exporter": "python",
   "pygments_lexer": "ipython3",
   "version": "3.7.10"
  }
 },
 "nbformat": 4,
 "nbformat_minor": 2
}
