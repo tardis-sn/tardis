{
 "cells": [
  {
   "cell_type": "markdown",
   "metadata": {},
   "source": [
    "# How to Read ARTIS Models with TARDIS\n",
    "\n",
    "This notebook demonstrates how to read in density and abundance data from ARTIS-based files using TARDIS.\n",
    "\n",
    "We assume you've already installed TARDIS (including the `tardis.io.model.readers.artis` module)."
   ]
  },
  {
   "cell_type": "code",
   "execution_count": 5,
   "metadata": {},
   "outputs": [
    {
     "name": "stdout",
     "output_type": "stream",
     "text": [
      "/Users/wkerzend/python/tardis/docs/io/model\n"
     ]
    }
   ],
   "source": [
    "ls data/artis_density.dat"
   ]
  },
  {
   "cell_type": "code",
   "execution_count": 7,
   "metadata": {},
   "outputs": [
    {
     "name": "stdout",
     "output_type": "stream",
     "text": [
      "Time of model: 99.067104 s\n",
      "Velocity shape: (70,)\n",
      "Mean density shape: (69,)\n",
      "\n",
      "Mass fractions DataFrame:\n",
      "                      X_0       X_1  X_2  X_3  X_4           X_5  \\\n",
      "shell_index                                                        \n",
      "1            1.542953e-08  0.003044  0.0  0.0  0.0  5.962784e-09   \n",
      "2            1.819415e-08  0.003063  0.0  0.0  0.0  5.101060e-09   \n",
      "3            2.113421e-08  0.003097  0.0  0.0  0.0  4.425876e-09   \n",
      "4            2.411551e-08  0.003144  0.0  0.0  0.0  3.933706e-09   \n",
      "5            2.666156e-08  0.003218  0.0  0.0  0.0  3.698634e-09   \n",
      "\n",
      "                      X_6           X_7           X_8           X_9  ...  \\\n",
      "shell_index                                                          ...   \n",
      "1            1.333966e-10  1.089431e-08  2.880061e-14  7.145056e-09  ...   \n",
      "2            1.346837e-10  1.136252e-08  3.472759e-14  7.411624e-09  ...   \n",
      "3            1.343822e-10  1.185534e-08  4.140153e-14  7.764507e-09  ...   \n",
      "4            1.343648e-10  1.240199e-08  4.837106e-14  8.200072e-09  ...   \n",
      "5            1.369257e-10  1.304747e-08  5.523229e-14  8.800297e-09  ...   \n",
      "\n",
      "                     X_20          X_21          X_22          X_23  \\\n",
      "shell_index                                                           \n",
      "1            6.228080e-10  2.787905e-07  4.546527e-09  6.401459e-07   \n",
      "2            6.199591e-10  2.808052e-07  5.646330e-09  6.451228e-07   \n",
      "3            6.229764e-10  2.851089e-07  7.171078e-09  6.555744e-07   \n",
      "4            6.356170e-10  2.920933e-07  9.000255e-09  6.620349e-07   \n",
      "5            6.638471e-10  3.038204e-07  1.138397e-08  6.803082e-07   \n",
      "\n",
      "                     X_24      X_25      X_26      X_27      X_28      X_29  \n",
      "shell_index                                                                  \n",
      "1            6.635375e-08  0.000005  0.000023  0.992916  0.002519  0.001484  \n",
      "2            7.629742e-08  0.000005  0.000023  0.992965  0.002493  0.001442  \n",
      "3            9.084803e-08  0.000005  0.000023  0.993025  0.002467  0.001376  \n",
      "4            1.080326e-07  0.000005  0.000023  0.993068  0.002447  0.001306  \n",
      "5            1.297806e-07  0.000005  0.000023  0.993059  0.002444  0.001245  \n",
      "\n",
      "[5 rows x 30 columns]\n"
     ]
    },
    {
     "name": "stderr",
     "output_type": "stream",
     "text": [
      "/Users/wkerzend/python/tardis/tardis/io/model/readers/artis.py:93: FutureWarning: The 'delim_whitespace' keyword in pd.read_csv is deprecated and will be removed in a future version. Use ``sep='\\s+'`` instead\n",
      "  df = pd.read_csv(fname, comment=\"#\", delim_whitespace=True, header=None)\n"
     ]
    }
   ],
   "source": [
    "from tardis.io.model.readers.artis import (\n",
    "    read_artis_density,\n",
    "    read_artis_mass_fractions,\n",
    "    read_artis_model\n",
    ")\n",
    "\n",
    "# Provide your density and abundance filenames here.\n",
    "density_filename = 'data/artis_model.dat'         # e.g. path/to/artis_density.dat\n",
    "abundance_filename = 'data/artis_abundances.dat'    # e.g. path/to/artis_abundances.dat'\n",
    "\n",
    "# Option 1: Read separately\n",
    "time_of_model, velocity, mean_density = read_artis_density(density_filename)\n",
    "mass_fractions_df = read_artis_mass_fractions(abundance_filename)\n",
    "\n",
    "print('Time of model:', time_of_model)\n",
    "print('Velocity shape:', velocity.shape)\n",
    "print('Mean density shape:', mean_density.shape)\n",
    "print('\\nMass fractions DataFrame:')\n",
    "print(mass_fractions_df.head())"
   ]
  },
  {
   "cell_type": "code",
   "execution_count": 8,
   "metadata": {},
   "outputs": [
    {
     "name": "stdout",
     "output_type": "stream",
     "text": [
      "ArtisModelData(time_of_model=<Quantity 99.067104 s>, velocity=array([1.259375e+08, 1.574219e+08, 1.889063e+08, 2.203907e+08,\n",
      "       2.518750e+08, 2.833594e+08, 3.148438e+08, 3.463282e+08,\n",
      "       3.778126e+08, 4.092969e+08, 4.407813e+08, 4.722657e+08,\n",
      "       5.037501e+08, 5.352345e+08, 5.667188e+08, 5.982032e+08,\n",
      "       6.296876e+08, 6.611720e+08, 6.926563e+08, 7.241407e+08,\n",
      "       7.556251e+08, 7.871095e+08, 8.185939e+08, 8.500782e+08,\n",
      "       8.815626e+08, 9.130470e+08, 9.445314e+08, 9.760158e+08,\n",
      "       1.007500e+09, 1.038985e+09, 1.070469e+09, 1.101953e+09,\n",
      "       1.133438e+09, 1.164922e+09, 1.196406e+09, 1.227891e+09,\n",
      "       1.259375e+09, 1.290860e+09, 1.322344e+09, 1.353828e+09,\n",
      "       1.385313e+09, 1.416797e+09, 1.448281e+09, 1.479766e+09,\n",
      "       1.511250e+09, 1.542735e+09, 1.574219e+09, 1.605703e+09,\n",
      "       1.637188e+09, 1.668672e+09, 1.700156e+09, 1.731641e+09,\n",
      "       1.763125e+09, 1.794610e+09, 1.826094e+09, 1.857578e+09,\n",
      "       1.889063e+09, 1.920547e+09, 1.952032e+09, 1.983516e+09,\n",
      "       2.015000e+09, 2.046485e+09, 2.077969e+09, 2.109453e+09,\n",
      "       2.140938e+09, 2.172422e+09, 2.203907e+09, 2.235391e+09,\n",
      "       2.266875e+09, 2.298360e+09]), mean_density=<Quantity [1.00069410e+00, 9.55374620e-01, 9.03036283e-01, 8.75629773e-01,\n",
      "           8.43903309e-01, 7.91782502e-01, 7.54437036e-01, 7.17542121e-01,\n",
      "           6.74435621e-01, 6.42515339e-01, 6.03886193e-01, 5.61857393e-01,\n",
      "           5.25270729e-01, 4.89111642e-01, 4.55687694e-01, 4.21507105e-01,\n",
      "           3.90196887e-01, 3.58750983e-01, 3.32446756e-01, 3.05875928e-01,\n",
      "           2.81419444e-01, 2.60731018e-01, 2.40548858e-01, 2.25004809e-01,\n",
      "           2.10252661e-01, 1.98366532e-01, 1.82259469e-01, 1.67143965e-01,\n",
      "           1.50596438e-01, 1.33499734e-01, 1.17585346e-01, 1.02248466e-01,\n",
      "           9.02439300e-02, 7.80419298e-02, 6.82172173e-02, 5.96699948e-02,\n",
      "           5.26249868e-02, 4.79715775e-02, 4.57407204e-02, 4.46394670e-02,\n",
      "           4.29671947e-02, 3.90145857e-02, 3.27922337e-02, 2.65072089e-02,\n",
      "           2.12315646e-02, 1.66079107e-02, 1.32972551e-02, 1.02287132e-02,\n",
      "           8.27686745e-03, 6.46244708e-03, 5.60473392e-03, 4.60390125e-03,\n",
      "           3.86294033e-03, 2.98379512e-03, 2.52233055e-03, 2.61242000e-03,\n",
      "           1.85296834e-03, 1.63018165e-03, 1.42059081e-03, 1.37620141e-03,\n",
      "           1.03744719e-03, 1.29344212e-03, 8.36557891e-04, 6.76628054e-04,\n",
      "           7.88420667e-04, 6.38247320e-04, 4.96215128e-04, 3.61824524e-04,\n",
      "           3.51911938e-04] g / cm3>, mass_fractions=                      X_0           X_1           X_2           X_3  \\\n",
      "shell_index                                                           \n",
      "1            1.542953e-08  3.044380e-03  0.000000e+00  0.000000e+00   \n",
      "2            1.819415e-08  3.063475e-03  0.000000e+00  0.000000e+00   \n",
      "3            2.113421e-08  3.096918e-03  0.000000e+00  0.000000e+00   \n",
      "4            2.411551e-08  3.143995e-03  0.000000e+00  0.000000e+00   \n",
      "5            2.666156e-08  3.217888e-03  0.000000e+00  0.000000e+00   \n",
      "...                   ...           ...           ...           ...   \n",
      "66           3.781693e-22  3.609942e-10  9.653839e-21  3.111837e-20   \n",
      "67           1.363554e-21  9.163784e-10  1.407174e-20  4.619950e-20   \n",
      "68           3.583210e-21  2.110112e-09  1.640400e-20  6.608595e-20   \n",
      "69           1.019389e-20  4.639170e-09  1.644376e-20  9.510537e-20   \n",
      "70           2.405973e-20  9.135263e-09  1.527355e-20  1.392140e-19   \n",
      "\n",
      "                      X_4           X_5           X_6           X_7  \\\n",
      "shell_index                                                           \n",
      "1            0.000000e+00  5.962784e-09  1.333966e-10  1.089431e-08   \n",
      "2            0.000000e+00  5.101060e-09  1.346837e-10  1.136252e-08   \n",
      "3            0.000000e+00  4.425876e-09  1.343822e-10  1.185534e-08   \n",
      "4            0.000000e+00  3.933706e-09  1.343648e-10  1.240199e-08   \n",
      "5            0.000000e+00  3.698634e-09  1.369257e-10  1.304747e-08   \n",
      "...                   ...           ...           ...           ...   \n",
      "66           1.032258e-17  6.501540e-02  2.836117e-07  4.591593e-01   \n",
      "67           1.380099e-17  9.457854e-02  3.778498e-07  4.465495e-01   \n",
      "68           1.677892e-17  1.314903e-01  5.234878e-07  4.396841e-01   \n",
      "69           1.882483e-17  1.747000e-01  7.082685e-07  4.377793e-01   \n",
      "70           2.066210e-17  2.213707e-01  9.184447e-07  4.389194e-01   \n",
      "\n",
      "                      X_8           X_9  ...          X_20          X_21  \\\n",
      "shell_index                              ...                               \n",
      "1            2.880061e-14  7.145056e-09  ...  6.228080e-10  2.787905e-07   \n",
      "2            3.472759e-14  7.411624e-09  ...  6.199591e-10  2.808052e-07   \n",
      "3            4.140153e-14  7.764507e-09  ...  6.229764e-10  2.851089e-07   \n",
      "4            4.837106e-14  8.200072e-09  ...  6.356170e-10  2.920933e-07   \n",
      "5            5.523229e-14  8.800297e-09  ...  6.638471e-10  3.038204e-07   \n",
      "...                   ...           ...  ...           ...           ...   \n",
      "66           1.780565e-09  1.713578e-01  ...  1.295005e-11  9.460471e-11   \n",
      "67           3.734866e-09  1.905340e-01  ...  8.147426e-12  5.311746e-11   \n",
      "68           6.901450e-09  1.967712e-01  ...  4.783829e-12  2.808426e-11   \n",
      "69           1.121145e-08  1.920009e-01  ...  2.839970e-12  1.519359e-11   \n",
      "70           1.632217e-08  1.807710e-01  ...  1.548225e-12  7.564263e-12   \n",
      "\n",
      "                     X_22          X_23          X_24          X_25  \\\n",
      "shell_index                                                           \n",
      "1            4.546527e-09  6.401459e-07  6.635375e-08  5.054952e-06   \n",
      "2            5.646330e-09  6.451228e-07  7.629742e-08  5.016425e-06   \n",
      "3            7.171078e-09  6.555744e-07  9.084803e-08  4.918929e-06   \n",
      "4            9.000255e-09  6.620349e-07  1.080326e-07  4.844148e-06   \n",
      "5            1.138397e-08  6.803082e-07  1.297806e-07  4.731951e-06   \n",
      "...                   ...           ...           ...           ...   \n",
      "66           3.362347e-12  4.234606e-12  1.153895e-12  6.224251e-13   \n",
      "67           2.361046e-12  2.696349e-12  6.052373e-13  2.612006e-13   \n",
      "68           1.433714e-12  1.527227e-12  2.854006e-13  9.807333e-14   \n",
      "69           8.383668e-13  7.810334e-13  1.117589e-13  2.865500e-14   \n",
      "70           4.412332e-13  3.650192e-13  4.016544e-14  7.830205e-15   \n",
      "\n",
      "                     X_26          X_27          X_28          X_29  \n",
      "shell_index                                                          \n",
      "1            2.336918e-05  9.929157e-01  2.519449e-03  1.484387e-03  \n",
      "2            2.306023e-05  9.929653e-01  2.493043e-03  1.442460e-03  \n",
      "3            2.297828e-05  9.930250e-01  2.466971e-03  1.375858e-03  \n",
      "4            2.297066e-05  9.930679e-01  2.447453e-03  1.305832e-03  \n",
      "5            2.297371e-05  9.930593e-01  2.443522e-03  1.244965e-03  \n",
      "...                   ...           ...           ...           ...  \n",
      "66           3.899973e-14  9.113562e-15  6.597879e-20  1.183898e-19  \n",
      "67           1.184791e-14  2.176212e-15  1.562414e-20  2.673539e-20  \n",
      "68           3.050289e-15  4.414396e-16  2.582915e-21  4.230115e-21  \n",
      "69           6.302008e-16  6.904064e-17  1.378063e-22  4.029423e-22  \n",
      "70           1.184330e-16  1.029928e-17  0.000000e+00  2.376717e-23  \n",
      "\n",
      "[70 rows x 30 columns])\n"
     ]
    },
    {
     "name": "stderr",
     "output_type": "stream",
     "text": [
      "/Users/wkerzend/python/tardis/tardis/io/model/readers/artis.py:93: FutureWarning: The 'delim_whitespace' keyword in pd.read_csv is deprecated and will be removed in a future version. Use ``sep='\\s+'`` instead\n",
      "  df = pd.read_csv(fname, comment=\"#\", delim_whitespace=True, header=None)\n"
     ]
    }
   ],
   "source": [
    "# Option 2: Use the combined read_artis_model\n",
    "model_data = read_artis_model(density_filename, abundance_filename)\n",
    "\n",
    "print(model_data)"
   ]
  },
  {
   "cell_type": "markdown",
   "metadata": {},
   "source": [
    "After running these cells, `model_data` will be an instance of the `ArtisModelData` dataclass containing:\n",
    "\n",
    "- `time_of_model`: The time at which the model is valid (astropy Quantity in seconds)\n",
    "- `velocity`: The velocity values (by default converted to cm/s)\n",
    "- `mean_density`: The mean density array (in g/cm^3)\n",
    "- `mass_fractions`: A DataFrame of mass fractions for each shell\n",
    "\n",
    "You can then integrate this data into a TARDIS simulation or use it for additional analysis and visualization."
   ]
  }
 ],
 "metadata": {
  "kernelspec": {
   "display_name": "tardis-devel",
   "language": "python",
   "name": "python3"
  },
  "language_info": {
   "codemirror_mode": {
    "name": "ipython",
    "version": 3
   },
   "file_extension": ".py",
   "mimetype": "text/x-python",
   "name": "python",
   "nbconvert_exporter": "python",
   "pygments_lexer": "ipython3",
   "version": "3.12.4"
  }
 },
 "nbformat": 4,
 "nbformat_minor": 2
}
