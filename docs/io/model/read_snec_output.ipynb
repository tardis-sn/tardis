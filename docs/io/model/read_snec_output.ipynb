{
 "cells": [
  {
   "cell_type": "code",
   "execution_count": 1,
   "id": "7292291e",
   "metadata": {},
   "outputs": [],
   "source": [
    "from pathlib import Path\n",
    "import pandas as pd\n",
    "import numpy as np\n",
    "from dataclasses import dataclass\n",
    "\n",
    "from tardis.io.model.readers.snec.read_snec_output import (\n",
    "    read_snec_initial_composition,\n",
    "    read_snec_initial_quantities,\n",
    "    read_snec_em_output, \n",
    "    read_snec_output\n",
    ")\n",
    "import yaml\n"
   ]
  },
  {
   "cell_type": "code",
   "execution_count": 2,
   "id": "579f26a9",
   "metadata": {},
   "outputs": [],
   "source": [
    "%load_ext autoreload\n",
    "%autoreload 2"
   ]
  },
  {
   "cell_type": "code",
   "execution_count": 3,
   "id": "e5fb616e",
   "metadata": {},
   "outputs": [],
   "source": [
    "SNEC_FOLDER_PATH = Path(\n",
    "    \"~/Downloads/tardis-data/MESA_STIR_MESA_SNEC\"\n",
    ")"
   ]
  },
  {
   "cell_type": "code",
   "execution_count": 8,
   "id": "fececd70",
   "metadata": {},
   "outputs": [],
   "source": [
    "snec_output = read_snec_output(SNEC_FOLDER_PATH)"
   ]
  },
  {
   "cell_type": "code",
   "execution_count": 15,
   "id": "55df4c23",
   "metadata": {},
   "outputs": [],
   "source": [
    "with open(\"snec_xg_output_quantities.yml\", \"w\") as f:\n",
    "    yaml.dump(\n",
    "        SNEC_XG_OUTPUT_QUANTITIES,\n",
    "        f,\n",
    "        sort_keys=False,\n",
    "        default_flow_style=False,\n",
    "        indent=2,\n",
    "    )"
   ]
  },
  {
   "cell_type": "code",
   "execution_count": null,
   "id": "c90b01c6",
   "metadata": {},
   "outputs": [],
   "source": []
  }
 ],
 "metadata": {
  "kernelspec": {
   "display_name": "tardis-main",
   "language": "python",
   "name": "python3"
  },
  "language_info": {
   "codemirror_mode": {
    "name": "ipython",
    "version": 3
   },
   "file_extension": ".py",
   "mimetype": "text/x-python",
   "name": "python",
   "nbconvert_exporter": "python",
   "pygments_lexer": "ipython3",
   "version": "3.13.2"
  }
 },
 "nbformat": 4,
 "nbformat_minor": 5
}
