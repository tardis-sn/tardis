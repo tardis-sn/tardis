{
 "cells": [
  {
   "cell_type": "markdown",
   "metadata": {},
   "source": [
    "# Running TARDIS with a Custom Packet Source"
   ]
  },
  {
   "cell_type": "markdown",
   "metadata": {},
   "source": [
    "By default, TARDIS generates energy packets using its `BasePacketSource` class, which models the photosphere of the supernova as a perfect blackbody (see [Energy Packet Initialization](../../physics/montecarlo/initialization.ipynb)). However, users may create their own packet source, as will be shown in this notebook. In order to do this, a user must create a class (that can but does not have to inherit from `BasePacketSource`) which contains a method `create_packets` that takes in (in this order):\n",
    "- the photospheric temperature\n",
    "- the number of packets\n",
    "- a random number generator\n",
    "- the photospheric radius\n",
    "\n",
    "and returns arrays of the radii, frequencies, propogation directions, and energies of the ensemble of packets (once again see [Energy Packet Initialization](../../physics/montecarlo/initialization.ipynb) for more information). To use your packet source in a run of TARDIS, you must pass an instance of your class into the `run_tardis` function under the `packet_source` keyword argument.\n",
    "\n",
    ".. note:: In both the `BasePacketSource` class and in the example here, all packets are generated at the same radius. This need not be true in general (although the `create_packets` method should only take in a single radius as its argument).\n",
    "\n",
    "We show an example of how a custom packet source is used:"
   ]
  },
  {
   "cell_type": "code",
   "execution_count": null,
   "metadata": {},
   "outputs": [],
   "source": [
    "# Import necessary packages\n",
    "import numpy as np\n",
    "from tardis import constants as const\n",
    "from astropy import units as u\n",
    "from tardis.montecarlo.packet_source import BasePacketSource\n",
    "from tardis import run_tardis\n",
    "import matplotlib.pyplot as plt\n",
    "from tardis.io.atom_data import download_atom_data"
   ]
  },
  {
   "cell_type": "code",
   "execution_count": null,
   "metadata": {},
   "outputs": [],
   "source": [
    "# Download the atomic data used for a run of TARDIS\n",
    "download_atom_data('kurucz_cd23_chianti_H_He')"
   ]
  },
  {
   "cell_type": "code",
   "execution_count": null,
   "metadata": {},
   "outputs": [],
   "source": [
    "# Create a packet source class that contains a create_packets method\n",
    "class TruncBlackbodySource(BasePacketSource):\n",
    "    \"\"\"\n",
    "        Custom inner boundary source class to replace the Blackbody source\n",
    "        with a truncated Blackbody source.\n",
    "    \"\"\"\n",
    "    \n",
    "    def __init__(self, seed, truncation_wavelength):\n",
    "        super().__init__(seed)\n",
    "        self.rng = np.random.default_rng(seed=seed)\n",
    "        self.truncation_wavelength = truncation_wavelength\n",
    "    \n",
    "    def create_packets(self, T, no_of_packets, rng, radius,\n",
    "                       drawing_sample_size=None):\n",
    "        \"\"\"\n",
    "        Packet source that generates a truncated Blackbody source.\n",
    "        \n",
    "        Parameters\n",
    "        ----------\n",
    "        T : float\n",
    "            Blackbody temperature\n",
    "        no_of_packets : int\n",
    "            number of packets to be created\n",
    "        truncation_wavelength : float\n",
    "            truncation wavelength in Angstrom. \n",
    "            Only wavelengths higher than the truncation wavelength\n",
    "            will be sampled.\n",
    "        \"\"\"\n",
    "        \n",
    "        # Makes uniform array of packet radii\n",
    "        radii = np.ones(no_of_packets) * radius\n",
    "\n",
    "        # Use mus and energies from normal blackbody source.\n",
    "        mus = self.create_zero_limb_darkening_packet_mus(no_of_packets, self.rng)\n",
    "        energies = self.create_uniform_packet_energies(no_of_packets, self.rng)\n",
    "\n",
    "        # If not specified, draw 2 times as many packets and reject any beyond no_of_packets.\n",
    "        if drawing_sample_size is None:\n",
    "            drawing_sample_size = 2 * no_of_packets\n",
    "\n",
    "        # Blackbody will be truncated below truncation_wavelength / above truncation_frequency.\n",
    "        truncation_frequency = u.Quantity(self.truncation_wavelength, u.Angstrom).to(\n",
    "                                          u.Hz, equivalencies=u.spectral()).value\n",
    "        \n",
    "        # Draw nus from blackbody distribution and reject based on truncation_frequency.\n",
    "        # If more nus.shape[0] > no_of_packets use only the first no_of_packets.\n",
    "        nus = self.create_blackbody_packet_nus(T, drawing_sample_size, self.rng)\n",
    "        nus = nus[nus<truncation_frequency][:no_of_packets]\n",
    "        \n",
    "        \n",
    "        # Only required if the truncation wavelength is too big compared to the maximum \n",
    "        # of the blackbody distribution. Keep sampling until nus.shape[0] > no_of_packets.\n",
    "        while nus.shape[0] < no_of_packets:\n",
    "            additional_nus = self.create_blackbody_packet_nus(\n",
    "                T, drawing_sample_size, self.rng\n",
    "            )\n",
    "            mask = additional_nus < truncation_frequency\n",
    "            additional_nus = additional_nus[mask][:no_of_packets]\n",
    "            nus = np.hstack([nus, additional_nus])[:no_of_packets]\n",
    "            \n",
    "        return radii, nus, mus, energies"
   ]
  },
  {
   "cell_type": "code",
   "execution_count": null,
   "metadata": {},
   "outputs": [],
   "source": [
    "# Call an instance of the packet source class\n",
    "packet_source = TruncBlackbodySource(\n",
    "    53253, truncation_wavelength=2000\n",
    ")"
   ]
  },
  {
   "cell_type": "markdown",
   "metadata": {},
   "source": [
    "We now run TARDIS both with and without our custom packet source, and we compare the results:"
   ]
  },
  {
   "cell_type": "code",
   "execution_count": null,
   "metadata": {},
   "outputs": [],
   "source": [
    "mdl = run_tardis('tardis_example.yml',\n",
    "                 packet_source=packet_source)\n",
    "mdl_norm = run_tardis('tardis_example.yml')"
   ]
  },
  {
   "cell_type": "code",
   "execution_count": null,
   "metadata": {},
   "outputs": [],
   "source": [
    "%matplotlib inline\n",
    "plt.plot(mdl.runner.spectrum_virtual.wavelength,\n",
    "         mdl.runner.spectrum_virtual.luminosity_density_lambda,\n",
    "         color='red', label='truncated blackbody (custom packet source)')\n",
    "plt.plot(mdl_norm.runner.spectrum_virtual.wavelength,\n",
    "         mdl_norm.runner.spectrum_virtual.luminosity_density_lambda,\n",
    "         color='blue', label='normal blackbody (default packet source)')\n",
    "plt.xlabel('$\\lambda [\\AA]$')\n",
    "plt.ylabel('$L_\\lambda$ [erg/s/$\\AA$]')\n",
    "plt.xlim(500, 10000)\n",
    "plt.legend()"
   ]
  }
 ],
 "metadata": {
  "kernelspec": {
   "display_name": "Python 3",
   "language": "python",
   "name": "python3"
  },
  "language_info": {
   "codemirror_mode": {
    "name": "ipython",
    "version": 3
   },
   "file_extension": ".py",
   "mimetype": "text/x-python",
   "name": "python",
   "nbconvert_exporter": "python",
   "pygments_lexer": "ipython3",
   "version": "3.7.10"
  }
 },
 "nbformat": 4,
 "nbformat_minor": 2
}