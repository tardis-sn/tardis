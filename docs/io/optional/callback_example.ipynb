{
 "cells": [
  {
   "cell_type": "markdown",
   "metadata": {},
   "source": [
    "# Using Custom Callbacks When Running TARDIS"
   ]
  },
  {
   "cell_type": "code",
   "execution_count": null,
   "metadata": {},
   "outputs": [],
   "source": [
    "import warnings\n",
    "warnings.filterwarnings('ignore')\n",
    "\n",
    "from tardis import run_tardis\n",
    "import tardis\n",
    "\n",
    "#tardis.logger.setLevel(0)\n",
    "#tardis.logging.captureWarnings(False)"
   ]
  },
  {
   "cell_type": "markdown",
   "metadata": {},
   "source": [
    "The command `run_tardis` allows users to provide a set of callbacks to the simulation.  These callbacks are called at the end of each iteration.  This example will show you how to create a custom callback and run a model with TARDIS.  As an example, we create a custom callback that prints out some basic information about our model at every iteration.  Specifically, we'll print out a table of the inner velocities of each shell as well as the radiative temperature of each shell.  The first thing to note is that the callback function must have the simulation object as the first argument.  This grants the user access to the state of the simulation at each iteration."
   ]
  },
  {
   "cell_type": "code",
   "execution_count": null,
   "metadata": {},
   "outputs": [],
   "source": [
    "def display_table(sim):\n",
    "    '''Display a table of velocities and \n",
    "    radiative temperatures at each iteration\n",
    "    '''\n",
    "    \n",
    "    # We have direct access to the attributes of the simulation\n",
    "    columns = zip(sim.model.v_inner[::5].to('km/s'), \n",
    "                  sim.model.t_rad[::5].to('K'))\n",
    "    print(\"Iteration:\", sim.iterations_executed)\n",
    "    print(\"  {:<15}    {:<15}\".format('v_inner', 't_rad'))\n",
    "    format_string = \"  {0.value:<8.2f} {0.unit:<6s}\\\n",
    "    {1.value:<8.2f} {1.unit:<6s}\"\n",
    "    for velocity, temperature in columns:\n",
    "        print(format_string.format(velocity, temperature))\n"
   ]
  },
  {
   "cell_type": "markdown",
   "metadata": {},
   "source": [
    "Now we give the callback to `run_tardis`.  `run_tardis` offers the keyword argument `simulation_callbacks` which takes a list of lists containing the callback as well as any optional arguments you wish to include with your callback.  For this example our function requires no extra arguments and we only have a single callback, so we give `run_tardis` a 2D list containing the callback as its only element."
   ]
  },
  {
   "cell_type": "code",
   "execution_count": null,
   "metadata": {
    "scrolled": true
   },
   "outputs": [],
   "source": [
    "sim = run_tardis('tardis_example.yml', \n",
    "                 simulation_callbacks=[[display_table]])"
   ]
  },
  {
   "cell_type": "markdown",
   "metadata": {},
   "source": [
    "## Running Callbacks with Extra Arguments\n",
    "\n",
    "The callbacks provided to `run_tardis` can also take extra arguments.  As an example, we'll make a callback that appends the value of the radiative temperature at each iteration to a list so we can watch how the model converges.  The callback will take a list we want to append to as an argument.  We'll send both this new callback and our original `display_table` callback to `run_tardis` as an example of using multiple callbacks at once."
   ]
  },
  {
   "cell_type": "code",
   "execution_count": null,
   "metadata": {},
   "outputs": [],
   "source": [
    "def append_t_rad_to_table(sim, table):\n",
    "    '''append the array for the radiative temperature\n",
    "    at each iteration to a given table'''\n",
    "    \n",
    "    table.append(sim.model.t_rad.copy())"
   ]
  },
  {
   "cell_type": "markdown",
   "metadata": {},
   "source": [
    "In order to add our new callback, we just create another entry in our list of callbacks.  Since `append_t_rad_to_table` takes an extra argument, we will provide that argument in the inner list containing the callback."
   ]
  },
  {
   "cell_type": "code",
   "execution_count": null,
   "metadata": {},
   "outputs": [],
   "source": [
    "t_rad_table = [] # list to store t_rad at each iteration\n",
    "\n",
    "callbacks = [[display_table], \n",
    "             [append_t_rad_to_table, t_rad_table]]\n",
    "sim = run_tardis('tardis_example.yml', \n",
    "                 simulation_callbacks=callbacks)"
   ]
  },
  {
   "cell_type": "markdown",
   "metadata": {},
   "source": [
    "Now we can look at the way the radiative temperature changes in each shell every iteration."
   ]
  },
  {
   "cell_type": "code",
   "execution_count": null,
   "metadata": {},
   "outputs": [],
   "source": [
    "%pylab notebook\n",
    "for t_rad in t_rad_table:\n",
    "    plot(t_rad)\n",
    "ylabel(r'$T_{rad}\\ [K]$')\n",
    "xlabel('Iteration Number')"
   ]
  }
 ],
 "metadata": {
  "kernelspec": {
   "display_name": "Python 3",
   "language": "python",
   "name": "python3"
  },
  "language_info": {
   "codemirror_mode": {
    "name": "ipython",
    "version": 3
   },
   "file_extension": ".py",
   "mimetype": "text/x-python",
   "name": "python",
   "nbconvert_exporter": "python",
   "pygments_lexer": "ipython3",
   "version": "3.7.10"
  }
 },
 "nbformat": 4,
 "nbformat_minor": 4
}
