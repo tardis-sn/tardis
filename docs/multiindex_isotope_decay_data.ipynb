{
 "cells": [
  {
   "cell_type": "code",
   "execution_count": 1,
   "metadata": {},
   "outputs": [
    {
     "data": {
      "application/vnd.jupyter.widget-view+json": {
       "model_id": "c2a689492f444a09a1641707600dbbae",
       "version_major": 2,
       "version_minor": 0
      },
      "text/plain": [
       "Iterations:          0/? [00:00<?, ?it/s]"
      ]
     },
     "metadata": {},
     "output_type": "display_data"
    },
    {
     "data": {
      "application/vnd.jupyter.widget-view+json": {
       "model_id": "c485612f1f674a699550f3ec2237cc86",
       "version_major": 2,
       "version_minor": 0
      },
      "text/plain": [
       "Packets:             0/? [00:00<?, ?it/s]"
      ]
     },
     "metadata": {},
     "output_type": "display_data"
    }
   ],
   "source": [
    "# general imports\n",
    "from pathlib import Path\n",
    "\n",
    "# TARDIS imports for the gamma-ray code\n",
    "from tardis.io.atom_data import AtomData\n",
    "from tardis.model import SimulationState\n",
    "from tardis.plasma.base import BasePlasma\n",
    "from tardis.io.configuration import config_reader\n",
    "from tardis.io.atom_data.util import download_atom_data\n",
    "from tardis.energy_input.energy_source import get_nuclear_lines_database\n",
    "from tardis.energy_input.gamma_ray_channel import create_isotope_dicts, create_inventories_dict, calculate_total_decays, create_isotope_decay_df\n",
    "from tardis.plasma.properties import Density, Abundance, IsotopeAbundance, \\\n",
    "    IsotopeNumberDensity, AtomicData, AtomicMass, IsotopeMass, NumberDensity, \\\n",
    "    SelectedAtoms"
   ]
  },
  {
   "cell_type": "code",
   "execution_count": 2,
   "metadata": {},
   "outputs": [
    {
     "name": "stderr",
     "output_type": "stream",
     "text": [
      "WARNING:tardis.io.atom_data.atom_web_download:Atomic Data kurucz_cd23_chianti_H_He already exists in /Users/anirbandutta/Downloads/tardis-data/kurucz_cd23_chianti_H_He.h5. Will not download - override with force_download=True.\n",
      "INFO:tardis.io.atom_data.base:Reading Atom Data with: UUID = 6f7b09e887a311e7a06b246e96350010 MD5  = 864f1753714343c41f99cb065710cace \n",
      "INFO:tardis.io.atom_data.base:Non provided Atomic Data: synpp_refs, photoionization_data, yg_data, two_photon_data, linelist\n"
     ]
    }
   ],
   "source": [
    "# Download the atom data file from tardis-refdata repo to run this cell.\n",
    "download_atom_data('kurucz_cd23_chianti_H_He')\n",
    "atom_data_file = 'kurucz_cd23_chianti_H_He.h5'\n",
    "atom_data = AtomData.from_hdf(atom_data_file)"
   ]
  },
  {
   "cell_type": "code",
   "execution_count": 3,
   "metadata": {},
   "outputs": [],
   "source": [
    "# Read the config file and create a configuration object\n",
    "config = config_reader.Configuration.from_yaml(\"tardis_configv1_density_exponential_nebular.yml\")"
   ]
  },
  {
   "cell_type": "code",
   "execution_count": 4,
   "metadata": {},
   "outputs": [
    {
     "name": "stderr",
     "output_type": "stream",
     "text": [
      "WARNING:tardis.model.parse_input:Abundances have not been normalized to 1. - normalizing\n",
      "INFO:tardis.model.matter.decay:Decaying abundances for 2600540.0352 seconds\n",
      "/Users/anirbandutta/Software/tardis/tardis/model/matter/composition.py:101: FutureWarning: Setting an item of incompatible dtype is deprecated and will raise in a future error of pandas. Value '7.961942738176252e-23' has dtype incompatible with int64, please explicitly cast to a compatible dtype first.\n",
      "  isotope_mass_df[isotope_tuple] = isotope_mass\n"
     ]
    }
   ],
   "source": [
    "# Create the model\n",
    "model = SimulationState.from_csvy(config, atom_data)\n"
   ]
  },
  {
   "cell_type": "code",
   "execution_count": 5,
   "metadata": {},
   "outputs": [],
   "source": [
    "gamma_ray_lines = get_nuclear_lines_database(atom_data_file)"
   ]
  },
  {
   "cell_type": "code",
   "execution_count": 6,
   "metadata": {},
   "outputs": [],
   "source": [
    "raw_isotope_abundance = model.composition.raw_isotope_abundance"
   ]
  },
  {
   "cell_type": "code",
   "execution_count": 7,
   "metadata": {},
   "outputs": [],
   "source": [
    "# Construct the Plasma\n",
    "\n",
    "input = [Density, Abundance, IsotopeAbundance, AtomicData, AtomicMass, IsotopeNumberDensity, NumberDensity, SelectedAtoms, IsotopeMass]\n",
    "\n",
    "plasma = BasePlasma(plasma_properties=input, density = model.density, \n",
    "                    abundance=model.abundance, isotope_abundance=model.composition.raw_isotope_abundance,\n",
    "                    atomic_data = atom_data)"
   ]
  },
  {
   "cell_type": "code",
   "execution_count": 8,
   "metadata": {},
   "outputs": [],
   "source": [
    "shell_masses = model.volume * model.density"
   ]
  },
  {
   "cell_type": "code",
   "execution_count": 9,
   "metadata": {},
   "outputs": [],
   "source": [
    "isotope_dict = create_isotope_dicts(raw_isotope_abundance, shell_masses)"
   ]
  },
  {
   "cell_type": "code",
   "execution_count": 10,
   "metadata": {},
   "outputs": [],
   "source": [
    "inventories_dict = create_inventories_dict(isotope_dict)"
   ]
  },
  {
   "cell_type": "code",
   "execution_count": 11,
   "metadata": {},
   "outputs": [],
   "source": [
    "total_decays = calculate_total_decays(inventories_dict, 80)"
   ]
  },
  {
   "cell_type": "code",
   "execution_count": 12,
   "metadata": {},
   "outputs": [
    {
     "data": {
      "text/html": [
       "<div>\n",
       "<style scoped>\n",
       "    .dataframe tbody tr th:only-of-type {\n",
       "        vertical-align: middle;\n",
       "    }\n",
       "\n",
       "    .dataframe tbody tr th {\n",
       "        vertical-align: top;\n",
       "    }\n",
       "\n",
       "    .dataframe thead th {\n",
       "        text-align: right;\n",
       "    }\n",
       "</style>\n",
       "<table border=\"1\" class=\"dataframe\">\n",
       "  <thead>\n",
       "    <tr style=\"text-align: right;\">\n",
       "      <th></th>\n",
       "      <th></th>\n",
       "      <th>number_of_decays</th>\n",
       "      <th>decay_mode</th>\n",
       "      <th>radiation</th>\n",
       "      <th>radiation_energy_keV</th>\n",
       "      <th>radiation_intensity</th>\n",
       "      <th>energy_per_channel_keV</th>\n",
       "      <th>decay_energy_keV</th>\n",
       "    </tr>\n",
       "    <tr>\n",
       "      <th>shell_number</th>\n",
       "      <th>isotope</th>\n",
       "      <th></th>\n",
       "      <th></th>\n",
       "      <th></th>\n",
       "      <th></th>\n",
       "      <th></th>\n",
       "      <th></th>\n",
       "      <th></th>\n",
       "    </tr>\n",
       "  </thead>\n",
       "  <tbody>\n",
       "    <tr>\n",
       "      <th rowspan=\"5\" valign=\"top\">0</th>\n",
       "      <th>Fe52</th>\n",
       "      <td>4.075312e+34</td>\n",
       "      <td>EC</td>\n",
       "      <td>bp</td>\n",
       "      <td>340.000000</td>\n",
       "      <td>55.4900</td>\n",
       "      <td>188.666000</td>\n",
       "      <td>7.688728e+36</td>\n",
       "    </tr>\n",
       "    <tr>\n",
       "      <th>Fe52</th>\n",
       "      <td>4.075312e+34</td>\n",
       "      <td>EC</td>\n",
       "      <td>bp av</td>\n",
       "      <td>340.000001</td>\n",
       "      <td>55.4900</td>\n",
       "      <td>188.666000</td>\n",
       "      <td>7.688728e+36</td>\n",
       "    </tr>\n",
       "    <tr>\n",
       "      <th>Fe52</th>\n",
       "      <td>4.075312e+34</td>\n",
       "      <td>EC</td>\n",
       "      <td>e</td>\n",
       "      <td>5.190000</td>\n",
       "      <td>26.9000</td>\n",
       "      <td>1.396110</td>\n",
       "      <td>5.689584e+34</td>\n",
       "    </tr>\n",
       "    <tr>\n",
       "      <th>Fe52</th>\n",
       "      <td>4.075312e+34</td>\n",
       "      <td>EC</td>\n",
       "      <td>e</td>\n",
       "      <td>0.610000</td>\n",
       "      <td>62.5000</td>\n",
       "      <td>0.381250</td>\n",
       "      <td>1.553713e+34</td>\n",
       "    </tr>\n",
       "    <tr>\n",
       "      <th>Fe52</th>\n",
       "      <td>4.075312e+34</td>\n",
       "      <td>EC</td>\n",
       "      <td>e</td>\n",
       "      <td>162.149000</td>\n",
       "      <td>0.6990</td>\n",
       "      <td>1.133422</td>\n",
       "      <td>4.619046e+34</td>\n",
       "    </tr>\n",
       "    <tr>\n",
       "      <th>...</th>\n",
       "      <th>...</th>\n",
       "      <td>...</td>\n",
       "      <td>...</td>\n",
       "      <td>...</td>\n",
       "      <td>...</td>\n",
       "      <td>...</td>\n",
       "      <td>...</td>\n",
       "      <td>...</td>\n",
       "    </tr>\n",
       "    <tr>\n",
       "      <th rowspan=\"5\" valign=\"top\">65</th>\n",
       "      <th>V48</th>\n",
       "      <td>0.000000e+00</td>\n",
       "      <td>EC</td>\n",
       "      <td>g</td>\n",
       "      <td>1312.105000</td>\n",
       "      <td>98.2000</td>\n",
       "      <td>1288.487110</td>\n",
       "      <td>0.000000e+00</td>\n",
       "    </tr>\n",
       "    <tr>\n",
       "      <th>V48</th>\n",
       "      <td>0.000000e+00</td>\n",
       "      <td>EC</td>\n",
       "      <td>g</td>\n",
       "      <td>1437.521000</td>\n",
       "      <td>0.1200</td>\n",
       "      <td>1.725025</td>\n",
       "      <td>0.000000e+00</td>\n",
       "    </tr>\n",
       "    <tr>\n",
       "      <th>V48</th>\n",
       "      <td>0.000000e+00</td>\n",
       "      <td>EC</td>\n",
       "      <td>g</td>\n",
       "      <td>2240.396000</td>\n",
       "      <td>2.3330</td>\n",
       "      <td>52.268439</td>\n",
       "      <td>0.000000e+00</td>\n",
       "    </tr>\n",
       "    <tr>\n",
       "      <th>V48</th>\n",
       "      <td>0.000000e+00</td>\n",
       "      <td>EC</td>\n",
       "      <td>g</td>\n",
       "      <td>2375.200000</td>\n",
       "      <td>0.0087</td>\n",
       "      <td>0.206642</td>\n",
       "      <td>0.000000e+00</td>\n",
       "    </tr>\n",
       "    <tr>\n",
       "      <th>V48</th>\n",
       "      <td>0.000000e+00</td>\n",
       "      <td>EC</td>\n",
       "      <td>g</td>\n",
       "      <td>2420.940000</td>\n",
       "      <td>0.0067</td>\n",
       "      <td>0.162203</td>\n",
       "      <td>0.000000e+00</td>\n",
       "    </tr>\n",
       "  </tbody>\n",
       "</table>\n",
       "<p>18744 rows × 7 columns</p>\n",
       "</div>"
      ],
      "text/plain": [
       "                      number_of_decays decay_mode radiation  \\\n",
       "shell_number isotope                                          \n",
       "0            Fe52         4.075312e+34         EC        bp   \n",
       "             Fe52         4.075312e+34         EC     bp av   \n",
       "             Fe52         4.075312e+34         EC         e   \n",
       "             Fe52         4.075312e+34         EC         e   \n",
       "             Fe52         4.075312e+34         EC         e   \n",
       "...                                ...        ...       ...   \n",
       "65           V48          0.000000e+00         EC         g   \n",
       "             V48          0.000000e+00         EC         g   \n",
       "             V48          0.000000e+00         EC         g   \n",
       "             V48          0.000000e+00         EC         g   \n",
       "             V48          0.000000e+00         EC         g   \n",
       "\n",
       "                      radiation_energy_keV  radiation_intensity  \\\n",
       "shell_number isotope                                              \n",
       "0            Fe52               340.000000              55.4900   \n",
       "             Fe52               340.000001              55.4900   \n",
       "             Fe52                 5.190000              26.9000   \n",
       "             Fe52                 0.610000              62.5000   \n",
       "             Fe52               162.149000               0.6990   \n",
       "...                                    ...                  ...   \n",
       "65           V48               1312.105000              98.2000   \n",
       "             V48               1437.521000               0.1200   \n",
       "             V48               2240.396000               2.3330   \n",
       "             V48               2375.200000               0.0087   \n",
       "             V48               2420.940000               0.0067   \n",
       "\n",
       "                      energy_per_channel_keV  decay_energy_keV  \n",
       "shell_number isotope                                            \n",
       "0            Fe52                 188.666000      7.688728e+36  \n",
       "             Fe52                 188.666000      7.688728e+36  \n",
       "             Fe52                   1.396110      5.689584e+34  \n",
       "             Fe52                   0.381250      1.553713e+34  \n",
       "             Fe52                   1.133422      4.619046e+34  \n",
       "...                                      ...               ...  \n",
       "65           V48                 1288.487110      0.000000e+00  \n",
       "             V48                    1.725025      0.000000e+00  \n",
       "             V48                   52.268439      0.000000e+00  \n",
       "             V48                    0.206642      0.000000e+00  \n",
       "             V48                    0.162203      0.000000e+00  \n",
       "\n",
       "[18744 rows x 7 columns]"
      ]
     },
     "execution_count": 12,
     "metadata": {},
     "output_type": "execute_result"
    }
   ],
   "source": [
    "create_isotope_decay_df(total_decays, gamma_ray_lines)"
   ]
  },
  {
   "cell_type": "code",
   "execution_count": null,
   "metadata": {},
   "outputs": [],
   "source": []
  }
 ],
 "metadata": {
  "kernelspec": {
   "display_name": "tardis",
   "language": "python",
   "name": "python3"
  },
  "language_info": {
   "codemirror_mode": {
    "name": "ipython",
    "version": 3
   },
   "file_extension": ".py",
   "mimetype": "text/x-python",
   "name": "python",
   "nbconvert_exporter": "python",
   "pygments_lexer": "ipython3",
   "version": "3.11.5"
  }
 },
 "nbformat": 4,
 "nbformat_minor": 2
}
