{
 "cells": [
  {
   "cell_type": "markdown",
   "id": "75e45c49",
   "metadata": {},
   "source": [
    "# Thermal rates calculation and comparison\n",
    "\n",
    "This notebook calculates and compares the thermal rates using data from C. Vogl's version of TARDIS."
   ]
  },
  {
   "cell_type": "code",
   "execution_count": 1,
   "id": "fd9e91aa",
   "metadata": {},
   "outputs": [],
   "source": [
    "from pathlib import Path\n",
    "\n",
    "import pandas as pd\n",
    "\n",
    "electron_temp = 9992.2722969523056\n",
    "electron_density = 2.20676447e09\n",
    "ff_heating_estimator = [  4.89135279e-24,   4.37696370e-24,   3.75869301e-24,\n",
    "         4.97847160e-24,   4.52158002e-24,   4.21024499e-24,\n",
    "         3.94991540e-24,   3.72915649e-24,   3.58902110e-24,\n",
    "         3.40170224e-24,   3.20848519e-24,   3.03540032e-24,\n",
    "         2.87314722e-24,   2.74328938e-24,   2.61063140e-24,\n",
    "         2.50640248e-24,   2.38164559e-24,   2.26967531e-24,\n",
    "         2.24509826e-24,   2.12378192e-24,   2.02063266e-24,\n",
    "         1.92509873e-24,   1.83070678e-24,   1.77346374e-24]\n",
    "\n",
    "home = Path.home()\n",
    "\n",
    "# example data from C Vogl\n",
    "data_path = home / \"tardis-regression-data/testdata/thermal_data\"\n",
    "bf_heating_estimator = pd.read_csv(data_path / \"thermal_bf_heating_est.csv\", index_col=(0, 1, 2))\n",
    "stim_recomb_cooling_estimator = pd.read_csv(data_path / \"thermal_stim_cooling_est.csv\", index_col=(0, 1, 2))\n",
    "ion_number_density = pd.read_csv(data_path / \"thermal_ion_number_density.csv\", index_col=(0, 1))\n",
    "level_number_density = pd.read_csv(data_path / \"thermal_level_number_density.csv\", index_col=(0, 1, 2))\n",
    "level_population_ratio = pd.read_csv(data_path / \"thermal_level_pop_ratio.csv\", index_col=(0, 1, 2))\n",
    "coll_exc_coeff = pd.read_csv(data_path / \"thermal_coll_exc_coeff.csv\", index_col=(0, 1, 2, 3))\n",
    "coll_deexc_coeff = pd.read_csv(data_path / \"thermal_coll_deexc_coeff.csv\", index_col=(0, 1, 2, 3))\n",
    "lines = pd.read_csv(data_path / \"thermal_lines.csv\", index_col=(0))\n",
    "coll_ion_rate_coeff = pd.read_csv(data_path / \"thermal_coll_ion_rate_coeff.csv\", index_col=(0, 1, 2))\n",
    "\n",
    "# because pandas reads in the columns as strings, we need to convert them back to integers\n",
    "bf_heating_estimator.columns = bf_heating_estimator.columns.astype(int)\n",
    "stim_recomb_cooling_estimator.columns = stim_recomb_cooling_estimator.columns.astype(int)\n",
    "ion_number_density.columns = ion_number_density.columns.astype(int)\n",
    "level_number_density.columns = level_number_density.columns.astype(int)\n",
    "level_population_ratio.columns = level_population_ratio.columns.astype(int)\n",
    "coll_exc_coeff.columns = coll_exc_coeff.columns.astype(int)\n",
    "coll_deexc_coeff.columns = coll_deexc_coeff.columns.astype(int)\n",
    "lines.index = lines.index.astype(int)\n",
    "coll_ion_rate_coeff.columns = coll_ion_rate_coeff.columns.astype(int)"
   ]
  },
  {
   "cell_type": "code",
   "execution_count": 2,
   "id": "e5bc70d5",
   "metadata": {},
   "outputs": [],
   "source": [
    "#Benchmark values from ctardis\n",
    "\n",
    "fb_cooling_ct = 1.2018593543520837e-06\n",
    "ff_cooling_ct = 6.941664530316456e-07\n",
    "coll_ion_cooling_ct = 1.6125333965984259e-07\n",
    "bf_heating_ct = 1.2809489753862688e-06\n",
    "ff_heating_ct = 2.3829164962085199e-07\n",
    "coll_ion_heating_ct = 1.5946196993219911e-07\n",
    "total_heating_rate_ct = -3.8611749800759465e-07\n",
    "fractional_heating_rate_ct = -0.036553097452112299\n",
    "\n",
    "col_exc_cooling_rate_ct = 8.5059159013e-06\n",
    "col_deexc_heating_rate_ct = 8.49837495539e-06"
   ]
  },
  {
   "cell_type": "code",
   "execution_count": 3,
   "id": "d2a91b4a",
   "metadata": {},
   "outputs": [
    {
     "name": "stderr",
     "output_type": "stream",
     "text": [
      "/home/afullard/tardis/tardis/__init__.py:17: UserWarning: Astropy is already imported externally. Astropy should be imported after TARDIS.\n",
      "  warnings.warn(\n"
     ]
    },
    {
     "data": {
      "application/vnd.jupyter.widget-view+json": {
       "model_id": "5ca65b63ccb64dfea347157cbf8511a0",
       "version_major": 2,
       "version_minor": 0
      },
      "text/plain": [
       "Iterations:          0/? [00:00<?, ?it/s]"
      ]
     },
     "metadata": {},
     "output_type": "display_data"
    },
    {
     "data": {
      "application/vnd.jupyter.widget-view+json": {
       "model_id": "ac4b20c1139d458d82375377b2ec9741",
       "version_major": 2,
       "version_minor": 0
      },
      "text/plain": [
       "Packets:             0/? [00:00<?, ?it/s]"
      ]
     },
     "metadata": {},
     "output_type": "display_data"
    }
   ],
   "source": [
    "import astropy.units as u\n",
    "\n",
    "from tardis.io.atom_data import AtomData\n",
    "from tardis.plasma.electron_energy_distribution import (\n",
    "         ThermalElectronEnergyDistribution,\n",
    ")\n",
    "from tardis.plasma.equilibrium.rates.heating_cooling_rates import (\n",
    "         BoundFreeThermalRates,\n",
    "         CollisionalBoundThermalRates,\n",
    "         CollisionalIonizationThermalRates,\n",
    "         FreeFreeThermalRates,\n",
    ")\n",
    "\n",
    "atom_data = AtomData.from_hdf(home / \"tardis-regression-data/atom_data/nlte_atom_data/TestNLTE_He_Ti_ctardis.h5\") # currently not available for public use\n",
    "atom_data.prepare_atom_data([1], \"macroatom\", [], [(1, 0)])\n",
    "\n",
    "\n",
    "thermal_electron_distribution = ThermalElectronEnergyDistribution(0 * u.erg, electron_temp * u.K, electron_density * u.cm**-3)"
   ]
  },
  {
   "cell_type": "code",
   "execution_count": 4,
   "id": "90fe2670",
   "metadata": {},
   "outputs": [],
   "source": [
    "bf_rates = BoundFreeThermalRates(atom_data.photoionization_data)\n",
    "bf_heating, bf_cooling = bf_rates.solve(\n",
    "    level_number_density,\n",
    "    ion_number_density,\n",
    "    thermal_electron_distribution,\n",
    "    level_population_ratio,\n",
    "    bound_free_heating_estimator=bf_heating_estimator,\n",
    "    stimulated_recombination_estimator=stim_recomb_cooling_estimator,\n",
    ")"
   ]
  },
  {
   "cell_type": "code",
   "execution_count": 5,
   "id": "b52a84b9",
   "metadata": {},
   "outputs": [
    {
     "data": {
      "text/plain": [
       "np.float64(2.4565595191649485e-13)"
      ]
     },
     "execution_count": 5,
     "metadata": {},
     "output_type": "execute_result"
    }
   ],
   "source": [
    "(bf_heating.iloc[0] - bf_heating_ct) / bf_heating_ct"
   ]
  },
  {
   "cell_type": "code",
   "execution_count": 6,
   "id": "9bed883f",
   "metadata": {},
   "outputs": [
    {
     "data": {
      "text/plain": [
       "np.float64(0.8467889208007834)"
      ]
     },
     "execution_count": 6,
     "metadata": {},
     "output_type": "execute_result"
    }
   ],
   "source": [
    "(bf_cooling.iloc[0] - fb_cooling_ct) / fb_cooling_ct"
   ]
  },
  {
   "cell_type": "code",
   "execution_count": 7,
   "id": "60c6d897",
   "metadata": {},
   "outputs": [],
   "source": [
    "ff_rates = FreeFreeThermalRates()\n",
    "ff_heating, ff_cooling = ff_rates.solve(\n",
    "    ff_heating_estimator[0],\n",
    "    thermal_electron_distribution,\n",
    "    ion_number_density,\n",
    ")"
   ]
  },
  {
   "cell_type": "code",
   "execution_count": 8,
   "id": "1304789e",
   "metadata": {},
   "outputs": [
    {
     "data": {
      "text/plain": [
       "np.float64(-2.8964722536676576e-11)"
      ]
     },
     "execution_count": 8,
     "metadata": {},
     "output_type": "execute_result"
    }
   ],
   "source": [
    "(ff_cooling.iloc[0] - ff_cooling_ct) / ff_cooling_ct"
   ]
  },
  {
   "cell_type": "code",
   "execution_count": 9,
   "id": "c2b0b993",
   "metadata": {},
   "outputs": [
    {
     "data": {
      "text/plain": [
       "np.float64(-9.884951847750145e-10)"
      ]
     },
     "execution_count": 9,
     "metadata": {},
     "output_type": "execute_result"
    }
   ],
   "source": [
    "(ff_heating.iloc[0] - ff_heating_ct) / ff_heating_ct"
   ]
  },
  {
   "cell_type": "code",
   "execution_count": 10,
   "id": "8f3d4666",
   "metadata": {},
   "outputs": [],
   "source": [
    "coll_ion_rates = CollisionalIonizationThermalRates(atom_data.photoionization_data)\n",
    "coll_ion_heating, coll_ion_cooling = coll_ion_rates.solve(\n",
    "    thermal_electron_distribution.number_density,\n",
    "    ion_number_density,\n",
    "    level_number_density,\n",
    "    coll_ion_rate_coeff,\n",
    "    level_population_ratio,\n",
    "    )"
   ]
  },
  {
   "cell_type": "code",
   "execution_count": 11,
   "id": "94877a24",
   "metadata": {},
   "outputs": [
    {
     "data": {
      "text/plain": [
       "np.float64(0.0004125934943592712)"
      ]
     },
     "execution_count": 11,
     "metadata": {},
     "output_type": "execute_result"
    }
   ],
   "source": [
    "(coll_ion_heating.iloc[0] - coll_ion_heating_ct) / coll_ion_heating_ct"
   ]
  },
  {
   "cell_type": "code",
   "execution_count": 12,
   "id": "b23da59f",
   "metadata": {},
   "outputs": [
    {
     "data": {
      "text/plain": [
       "np.float64(0.00041378496294871474)"
      ]
     },
     "execution_count": 12,
     "metadata": {},
     "output_type": "execute_result"
    }
   ],
   "source": [
    "(coll_ion_cooling.iloc[0] - coll_ion_cooling_ct) / coll_ion_cooling_ct"
   ]
  },
  {
   "cell_type": "code",
   "execution_count": 13,
   "id": "c637b727",
   "metadata": {},
   "outputs": [],
   "source": [
    "# need to get data with collision rates\n",
    "coll_bound_rates = CollisionalBoundThermalRates(lines)\n",
    "coll_deexc_heating, coll_exc_cooling = coll_bound_rates.solve(\n",
    "    thermal_electron_distribution.number_density,\n",
    "    coll_deexc_coeff,\n",
    "    coll_exc_coeff,\n",
    "    level_number_density,\n",
    ")"
   ]
  },
  {
   "cell_type": "code",
   "execution_count": 14,
   "id": "07372fae",
   "metadata": {},
   "outputs": [
    {
     "data": {
      "text/plain": [
       "np.float64(-0.00024325566644572874)"
      ]
     },
     "execution_count": 14,
     "metadata": {},
     "output_type": "execute_result"
    }
   ],
   "source": [
    "(coll_deexc_heating.iloc[0] - col_deexc_heating_rate_ct) / col_deexc_heating_rate_ct"
   ]
  },
  {
   "cell_type": "code",
   "execution_count": 15,
   "id": "fc602166",
   "metadata": {},
   "outputs": [
    {
     "data": {
      "text/plain": [
       "np.float64(-0.0002385020503019561)"
      ]
     },
     "execution_count": 15,
     "metadata": {},
     "output_type": "execute_result"
    }
   ],
   "source": [
    "(coll_exc_cooling.iloc[0] - col_exc_cooling_rate_ct) / col_exc_cooling_rate_ct"
   ]
  },
  {
   "cell_type": "code",
   "execution_count": null,
   "id": "1da2ecab",
   "metadata": {},
   "outputs": [],
   "source": []
  }
 ],
 "metadata": {
  "kernelspec": {
   "display_name": "tardis",
   "language": "python",
   "name": "python3"
  },
  "language_info": {
   "codemirror_mode": {
    "name": "ipython",
    "version": 3
   },
   "file_extension": ".py",
   "mimetype": "text/x-python",
   "name": "python",
   "nbconvert_exporter": "python",
   "pygments_lexer": "ipython3",
   "version": "3.13.3"
  }
 },
 "nbformat": 4,
 "nbformat_minor": 5
}
