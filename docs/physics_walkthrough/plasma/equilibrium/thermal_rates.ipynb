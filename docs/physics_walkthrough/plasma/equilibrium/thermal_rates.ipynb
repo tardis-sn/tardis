{
 "cells": [
  {
   "cell_type": "code",
   "execution_count": null,
   "id": "fd9e91aa",
   "metadata": {},
   "outputs": [],
   "source": [
    "# zeroth shell\n",
    "import pandas as pd\n",
    "\n",
    "electron_temp = 9992.2722969523056\n",
    "ff_heating_estimator = [  4.89135279e-24,   4.37696370e-24,   3.75869301e-24,\n",
    "         4.97847160e-24,   4.52158002e-24,   4.21024499e-24,\n",
    "         3.94991540e-24,   3.72915649e-24,   3.58902110e-24,\n",
    "         3.40170224e-24,   3.20848519e-24,   3.03540032e-24,\n",
    "         2.87314722e-24,   2.74328938e-24,   2.61063140e-24,\n",
    "         2.50640248e-24,   2.38164559e-24,   2.26967531e-24,\n",
    "         2.24509826e-24,   2.12378192e-24,   2.02063266e-24,\n",
    "         1.92509873e-24,   1.83070678e-24,   1.77346374e-24]\n",
    "\n",
    "data_path = \"/home/afullard/tardis-chvogl-configs\"\n",
    "bf_heating_coeff = pd.read_csv(f\"{data_path}/bound_free_heating_coeff.csv\", index_col=0)\n",
    "stim_recomb_cooling_coeff = pd.read_csv(f\"{data_path}/stim_recomb_cooling_coeff.csv\", index_col=0)\n",
    "electron_densities = pd.read_csv(f\"{data_path}/thermal_electron_densities.csv\", index_col=0)\n",
    "ion_number_density = pd.read_csv(f\"{data_path}/thermal_ion_number_density.csv\", index_col=(0, 1))\n",
    "level_number_density = pd.read_csv(f\"{data_path}/thermal_level_number_density.csv\", index_col=(0, 1, 2))\n",
    "phi_lucy = pd.read_csv(f\"{data_path}/thermal_phi_lucy.csv\", index_col=0)\n",
    "col_exc_cooling_rate = pd.read_csv(f\"{data_path}/col_exc_cooling_rate.csv\", index_col=0)\n",
    "col_deexc_cooling_rate = pd.read_csv(f\"{data_path}/col_deexc_heating_rate.csv\", index_col=0)"
   ]
  },
  {
   "cell_type": "code",
   "execution_count": 2,
   "id": "e5bc70d5",
   "metadata": {},
   "outputs": [],
   "source": [
    "#outputs\n",
    "\n",
    "fb_cooling_ct = 1.2018593543520837e-06\n",
    "ff_cooling_ct = 6.941664530316456e-07\n",
    "coll_ion_cooling_ct = 1.6125333965984259e-07\n",
    "bf_heating_ct = 1.2809489753862688e-06\n",
    "ff_heating_ct = 2.3829164962085199e-07\n",
    "coll_ion_heating_ct = 1.5946196993219911e-07\n",
    "total_heating_rate_ct = -3.8611749800759465e-07\n",
    "fractional_heating_rate_ct = -0.036553097452112299"
   ]
  },
  {
   "cell_type": "code",
   "execution_count": 3,
   "id": "d2a91b4a",
   "metadata": {},
   "outputs": [
    {
     "name": "stderr",
     "output_type": "stream",
     "text": [
      "/home/afullard/tardis/tardis/__init__.py:24: UserWarning: Astropy is already imported externally. Astropy should be imported after TARDIS.\n",
      "  warnings.warn(\n"
     ]
    },
    {
     "data": {
      "application/vnd.jupyter.widget-view+json": {
       "model_id": "4213bb73dbfd40a28fc909e6bcf83c82",
       "version_major": 2,
       "version_minor": 0
      },
      "text/plain": [
       "Iterations:          0/? [00:00<?, ?it/s]"
      ]
     },
     "metadata": {},
     "output_type": "display_data"
    },
    {
     "data": {
      "application/vnd.jupyter.widget-view+json": {
       "model_id": "d8a72225eba34aa8ac622f6d2577e380",
       "version_major": 2,
       "version_minor": 0
      },
      "text/plain": [
       "Packets:             0/? [00:00<?, ?it/s]"
      ]
     },
     "metadata": {},
     "output_type": "display_data"
    }
   ],
   "source": [
    "from pathlib import Path\n",
    "\n",
    "import astropy.units as u\n",
    "\n",
    "from tardis.io.atom_data import AtomData\n",
    "from tardis.plasma.equilibrium.rates.heating_cooling_rates import (BoundFreeThermalRates,\n",
    "    CollisionalBoundThermalRates,\n",
    "    CollisionalIonizationThermalRates,\n",
    "    FreeFreeThermalRates)\n",
    "\n",
    "from tardis.plasma.electron_energy_distribution import (\n",
    "    ThermalElectronEnergyDistribution,\n",
    ")\n",
    "\n",
    "home = str(Path('~').expanduser())\n",
    "cmfgen_atom_data = AtomData.from_hdf(home+'/tardis-regression-data/atom-data/nlte_atom_data/TestNLTE_He_Ti.h5')\n",
    "cmfgen_atom_data.prepare_atom_data([1], \"macroatom\", [], [(1, 0)])\n",
    "\n",
    "\n",
    "thermal_electron_distribution = ThermalElectronEnergyDistribution(0 * u.erg, electron_temp * u.K, electron_densities.values[0] * u.cm**-3)"
   ]
  },
  {
   "cell_type": "code",
   "execution_count": 4,
   "id": "90fe2670",
   "metadata": {},
   "outputs": [
    {
     "ename": "TypingError",
     "evalue": "Failed in nopython mode pipeline (step: nopython frontend)\n\u001b[1m\u001b[1m\u001b[1mtuple index out of range\u001b[0m\n\u001b[0m\u001b[1mDuring: typing of static-get-item at /home/afullard/tardis/tardis/transport/montecarlo/estimators/util.py (61)\u001b[0m\n\u001b[1m\nFile \"../../../../tardis/transport/montecarlo/estimators/util.py\", line 61:\u001b[0m\n\u001b[1mdef integrate_array_by_blocks(f, x, block_references):\n    <source elided>\n    \"\"\"\n\u001b[1m    integrated = np.zeros((len(block_references) - 1, f.shape[1]))\n\u001b[0m    \u001b[1m^\u001b[0m\u001b[0m\n\n\u001b[0m\u001b[1mDuring: Pass nopython_type_inference\u001b[0m",
     "output_type": "error",
     "traceback": [
      "\u001b[31m---------------------------------------------------------------------------\u001b[39m",
      "\u001b[31mTypingError\u001b[39m                               Traceback (most recent call last)",
      "\u001b[36mCell\u001b[39m\u001b[36m \u001b[39m\u001b[32mIn[4]\u001b[39m\u001b[32m, line 2\u001b[39m\n\u001b[32m      1\u001b[39m bf_rates = BoundFreeThermalRates(cmfgen_atom_data.photoionization_data)\n\u001b[32m----> \u001b[39m\u001b[32m2\u001b[39m bf_heating, bf_cooling = \u001b[43mbf_rates\u001b[49m\u001b[43m.\u001b[49m\u001b[43msolve\u001b[49m\u001b[43m(\u001b[49m\n\u001b[32m      3\u001b[39m \u001b[43m    \u001b[49m\u001b[43mlevel_number_density\u001b[49m\u001b[43m,\u001b[49m\n\u001b[32m      4\u001b[39m \u001b[43m    \u001b[49m\u001b[43mion_number_density\u001b[49m\u001b[43m,\u001b[49m\n\u001b[32m      5\u001b[39m \u001b[43m    \u001b[49m\u001b[43mthermal_electron_distribution\u001b[49m\u001b[43m,\u001b[49m\n\u001b[32m      6\u001b[39m \u001b[43m    \u001b[49m\u001b[43mphi_lucy\u001b[49m\u001b[43m,\u001b[49m\n\u001b[32m      7\u001b[39m \u001b[43m    \u001b[49m\u001b[43mbound_free_heating_estimator\u001b[49m\u001b[43m=\u001b[49m\u001b[43mbf_heating_coeff\u001b[49m\u001b[43m,\u001b[49m\n\u001b[32m      8\u001b[39m \u001b[43m    \u001b[49m\u001b[43mstimulated_recombination_estimator\u001b[49m\u001b[43m=\u001b[49m\u001b[43mstim_recomb_cooling_coeff\u001b[49m\u001b[43m,\u001b[49m\n\u001b[32m      9\u001b[39m \u001b[43m)\u001b[49m\n",
      "\u001b[36mFile \u001b[39m\u001b[32m~/tardis/tardis/plasma/equilibrium/rates/heating_cooling_rates.py:112\u001b[39m, in \u001b[36mBoundFreeThermalRates.solve\u001b[39m\u001b[34m(self, level_population, ion_population, thermal_electron_distribution, saha_factor, radiation_field, bound_free_heating_estimator, stimulated_recombination_estimator)\u001b[39m\n\u001b[32m     92\u001b[39m boltzmann_factor = np.exp(\n\u001b[32m     93\u001b[39m     -\u001b[38;5;28mself\u001b[39m.nu\n\u001b[32m     94\u001b[39m     * u.Hz\n\u001b[32m     95\u001b[39m     / thermal_electron_distribution.temperature\n\u001b[32m     96\u001b[39m     * (const.h.cgs / const.k_B.cgs)\n\u001b[32m     97\u001b[39m )\n\u001b[32m     99\u001b[39m spontaneous_recombination_cooling_coefficient = (\n\u001b[32m    100\u001b[39m     (\n\u001b[32m    101\u001b[39m         \u001b[32m8\u001b[39m\n\u001b[32m   (...)\u001b[39m\u001b[32m    109\u001b[39m     * boltzmann_factor\n\u001b[32m    110\u001b[39m )\n\u001b[32m--> \u001b[39m\u001b[32m112\u001b[39m integrated_cooling_coefficient = \u001b[43mintegrate_array_by_blocks\u001b[49m\u001b[43m(\u001b[49m\n\u001b[32m    113\u001b[39m \u001b[43m    \u001b[49m\u001b[43mspontaneous_recombination_cooling_coefficient\u001b[49m\u001b[43m.\u001b[49m\u001b[43mvalues\u001b[49m\u001b[43m,\u001b[49m\n\u001b[32m    114\u001b[39m \u001b[43m    \u001b[49m\u001b[38;5;28;43mself\u001b[39;49m\u001b[43m.\u001b[49m\u001b[43mnu\u001b[49m\u001b[43m.\u001b[49m\u001b[43mvalues\u001b[49m\u001b[43m,\u001b[49m\n\u001b[32m    115\u001b[39m \u001b[43m    \u001b[49m\u001b[38;5;28;43mself\u001b[39;49m\u001b[43m.\u001b[49m\u001b[43mphotoionization_block_references\u001b[49m\u001b[43m,\u001b[49m\n\u001b[32m    116\u001b[39m \u001b[43m\u001b[49m\u001b[43m)\u001b[49m\n\u001b[32m    118\u001b[39m heating_rate = integrated_heating_coefficient * level_population\n\u001b[32m    120\u001b[39m spontaneous_recombination_cooling_rate = (\n\u001b[32m    121\u001b[39m     integrated_cooling_coefficient\n\u001b[32m    122\u001b[39m     * saha_factor\n\u001b[32m    123\u001b[39m     * thermal_electron_distribution.number_density\n\u001b[32m    124\u001b[39m     * ion_population\n\u001b[32m    125\u001b[39m )\n",
      "\u001b[36mFile \u001b[39m\u001b[32m~/miniforge3/envs/tardis/lib/python3.13/site-packages/numba/core/dispatcher.py:424\u001b[39m, in \u001b[36m_DispatcherBase._compile_for_args\u001b[39m\u001b[34m(self, *args, **kws)\u001b[39m\n\u001b[32m    420\u001b[39m         msg = (\u001b[33mf\u001b[39m\u001b[33m\"\u001b[39m\u001b[38;5;132;01m{\u001b[39;00m\u001b[38;5;28mstr\u001b[39m(e).rstrip()\u001b[38;5;132;01m}\u001b[39;00m\u001b[33m \u001b[39m\u001b[38;5;130;01m\\n\u001b[39;00m\u001b[38;5;130;01m\\n\u001b[39;00m\u001b[33mThis error may have been caused \u001b[39m\u001b[33m\"\u001b[39m\n\u001b[32m    421\u001b[39m                \u001b[33mf\u001b[39m\u001b[33m\"\u001b[39m\u001b[33mby the following argument(s):\u001b[39m\u001b[38;5;130;01m\\n\u001b[39;00m\u001b[38;5;132;01m{\u001b[39;00margs_str\u001b[38;5;132;01m}\u001b[39;00m\u001b[38;5;130;01m\\n\u001b[39;00m\u001b[33m\"\u001b[39m)\n\u001b[32m    422\u001b[39m         e.patch_message(msg)\n\u001b[32m--> \u001b[39m\u001b[32m424\u001b[39m     \u001b[43merror_rewrite\u001b[49m\u001b[43m(\u001b[49m\u001b[43me\u001b[49m\u001b[43m,\u001b[49m\u001b[43m \u001b[49m\u001b[33;43m'\u001b[39;49m\u001b[33;43mtyping\u001b[39;49m\u001b[33;43m'\u001b[39;49m\u001b[43m)\u001b[49m\n\u001b[32m    425\u001b[39m \u001b[38;5;28;01mexcept\u001b[39;00m errors.UnsupportedError \u001b[38;5;28;01mas\u001b[39;00m e:\n\u001b[32m    426\u001b[39m     \u001b[38;5;66;03m# Something unsupported is present in the user code, add help info\u001b[39;00m\n\u001b[32m    427\u001b[39m     error_rewrite(e, \u001b[33m'\u001b[39m\u001b[33munsupported_error\u001b[39m\u001b[33m'\u001b[39m)\n",
      "\u001b[36mFile \u001b[39m\u001b[32m~/miniforge3/envs/tardis/lib/python3.13/site-packages/numba/core/dispatcher.py:365\u001b[39m, in \u001b[36m_DispatcherBase._compile_for_args.<locals>.error_rewrite\u001b[39m\u001b[34m(e, issue_type)\u001b[39m\n\u001b[32m    363\u001b[39m     \u001b[38;5;28;01mraise\u001b[39;00m e\n\u001b[32m    364\u001b[39m \u001b[38;5;28;01melse\u001b[39;00m:\n\u001b[32m--> \u001b[39m\u001b[32m365\u001b[39m     \u001b[38;5;28;01mraise\u001b[39;00m e.with_traceback(\u001b[38;5;28;01mNone\u001b[39;00m)\n",
      "\u001b[31mTypingError\u001b[39m: Failed in nopython mode pipeline (step: nopython frontend)\n\u001b[1m\u001b[1m\u001b[1mtuple index out of range\u001b[0m\n\u001b[0m\u001b[1mDuring: typing of static-get-item at /home/afullard/tardis/tardis/transport/montecarlo/estimators/util.py (61)\u001b[0m\n\u001b[1m\nFile \"../../../../tardis/transport/montecarlo/estimators/util.py\", line 61:\u001b[0m\n\u001b[1mdef integrate_array_by_blocks(f, x, block_references):\n    <source elided>\n    \"\"\"\n\u001b[1m    integrated = np.zeros((len(block_references) - 1, f.shape[1]))\n\u001b[0m    \u001b[1m^\u001b[0m\u001b[0m\n\n\u001b[0m\u001b[1mDuring: Pass nopython_type_inference\u001b[0m"
     ]
    }
   ],
   "source": [
    "bf_rates = BoundFreeThermalRates(cmfgen_atom_data.photoionization_data)\n",
    "bf_heating, bf_cooling = bf_rates.solve(\n",
    "    level_number_density,\n",
    "    ion_number_density,\n",
    "    thermal_electron_distribution,\n",
    "    phi_lucy,\n",
    "    bound_free_heating_estimator=bf_heating_coeff,\n",
    "    stimulated_recombination_estimator=stim_recomb_cooling_coeff,\n",
    ")"
   ]
  },
  {
   "cell_type": "code",
   "execution_count": 5,
   "id": "60c6d897",
   "metadata": {},
   "outputs": [],
   "source": [
    "ff_rates = FreeFreeThermalRates()\n",
    "ff_heating, ff_cooling = ff_rates.solve(\n",
    "    ff_heating_estimator,\n",
    "    thermal_electron_distribution,\n",
    "    ion_number_density,\n",
    ")"
   ]
  },
  {
   "cell_type": "code",
   "execution_count": null,
   "id": "8f3d4666",
   "metadata": {},
   "outputs": [],
   "source": [
    "coll_ion_rates = CollisionalIonizationThermalRates(cmfgen_atom_data.photoionization_data)\n",
    "coll_ion_heating, coll_ion_cooling = coll_ion_rates.solve(\n",
    "    thermal_electron_distribution.number_density,\n",
    "    ion_number_density,\n",
    "    level_number_density,\n",
    "    collisional_ionization_rate_coefficient,\n",
    "    phi_lucy,\n",
    "    )"
   ]
  },
  {
   "cell_type": "code",
   "execution_count": null,
   "id": "c637b727",
   "metadata": {},
   "outputs": [],
   "source": [
    "coll_bound_rates = CollisionalBoundThermalRates(cmfgen_atom_data.collision_data)\n",
    "coll_deexc_heating, coll_exc_cooling = coll_bound_rates.solve(\n",
    "    thermal_electron_distribution.number_density,\n",
    "    collisional_deexcitation_rate_coefficient,\n",
    "    collisional_excitation_rate_coefficient,\n",
    "    level_number_density,\n",
    ")"
   ]
  }
 ],
 "metadata": {
  "kernelspec": {
   "display_name": "tardis",
   "language": "python",
   "name": "python3"
  },
  "language_info": {
   "codemirror_mode": {
    "name": "ipython",
    "version": 3
   },
   "file_extension": ".py",
   "mimetype": "text/x-python",
   "name": "python",
   "nbconvert_exporter": "python",
   "pygments_lexer": "ipython3",
   "version": "3.13.2"
  }
 },
 "nbformat": 4,
 "nbformat_minor": 5
}
