{
 "cells": [
  {
   "cell_type": "markdown",
   "id": "75e45c49",
   "metadata": {},
   "source": [
    "# Thermal rates calculation and comparison\n",
    "\n",
    "This notebook calculates and compares the thermal rates using data from C. Vogl's version of TARDIS. The data were acquired by running his code using PDB and extracting dataframes as CSV. Atomic data used is listed in a following cell."
   ]
  },
  {
   "cell_type": "code",
   "execution_count": null,
   "id": "fd9e91aa",
   "metadata": {},
   "outputs": [],
   "source": [
    "from pathlib import Path\n",
    "\n",
    "import pandas as pd\n",
    "\n",
    "home = Path.home()\n",
    "\n",
    "# input data from C Vogl's version of TARDIS\n",
    "electron_temp = [9992.2722969523056, 9992.592241054022, ]\n",
    "electron_density = [2.20676447e09, 1624998247.515976, ]\n",
    "\n",
    "ff_heating_estimator = [  4.89135279e-24,   4.37696370e-24,   3.75869301e-24,\n",
    "         4.97847160e-24,   4.52158002e-24,   4.21024499e-24,\n",
    "         3.94991540e-24,   3.72915649e-24,   3.58902110e-24,\n",
    "         3.40170224e-24,   3.20848519e-24,   3.03540032e-24,\n",
    "         2.87314722e-24,   2.74328938e-24,   2.61063140e-24,\n",
    "         2.50640248e-24,   2.38164559e-24,   2.26967531e-24,\n",
    "         2.24509826e-24,   2.12378192e-24,   2.02063266e-24,\n",
    "         1.92509873e-24,   1.83070678e-24,   1.77346374e-24]\n",
    "data_path = home / \"tardis-regression-data/testdata/thermal_data\"\n",
    "bf_heating_estimator = pd.read_csv(data_path / \"thermal_bf_heating_est.csv\", index_col=(0, 1, 2))\n",
    "stim_recomb_cooling_estimator = pd.read_csv(data_path / \"thermal_stim_cooling_est.csv\", index_col=(0, 1, 2))\n",
    "ion_number_density = pd.read_csv(data_path / \"thermal_ion_number_density.csv\", index_col=(0, 1))\n",
    "level_number_density = pd.read_csv(data_path / \"thermal_level_number_density.csv\", index_col=(0, 1, 2))\n",
    "level_population_ratio = pd.read_csv(data_path / \"thermal_level_pop_ratio.csv\", index_col=(0, 1, 2))\n",
    "coll_exc_coeff = pd.read_csv(data_path / \"thermal_coll_exc_coeff.csv\", index_col=(0, 1, 2, 3))\n",
    "coll_deexc_coeff = pd.read_csv(data_path / \"thermal_coll_deexc_coeff.csv\", index_col=(0, 1, 2, 3))\n",
    "lines = pd.read_csv(data_path / \"thermal_lines.csv\", index_col=(0))\n",
    "coll_ion_rate_coeff = pd.read_csv(data_path / \"thermal_coll_ion_rate_coeff.csv\", index_col=(0, 1, 2))\n",
    "\n",
    "# because pandas reads in the columns as strings, we need to convert them back to integers\n",
    "bf_heating_estimator.columns = bf_heating_estimator.columns.astype(int)\n",
    "stim_recomb_cooling_estimator.columns = stim_recomb_cooling_estimator.columns.astype(int)\n",
    "ion_number_density.columns = ion_number_density.columns.astype(int)\n",
    "level_number_density.columns = level_number_density.columns.astype(int)\n",
    "level_population_ratio.columns = level_population_ratio.columns.astype(int)\n",
    "coll_exc_coeff.columns = coll_exc_coeff.columns.astype(int)\n",
    "coll_deexc_coeff.columns = coll_deexc_coeff.columns.astype(int)\n",
    "lines.index = lines.index.astype(int)\n",
    "coll_ion_rate_coeff.columns = coll_ion_rate_coeff.columns.astype(int)"
   ]
  },
  {
   "cell_type": "markdown",
   "id": "c6105905",
   "metadata": {},
   "source": [
    "Benchmark values from CTARDIS acquired using PDB and looping through shells. Only 2 shells tested against due to having to loop through shells and manually copy data."
   ]
  },
  {
   "cell_type": "code",
   "execution_count": null,
   "id": "e5bc70d5",
   "metadata": {},
   "outputs": [],
   "source": [
    "fb_cooling_ct = [1.2018593543520837e-06, 6.467703748685086e-07, ]\n",
    "ff_cooling_ct = [6.941664530316456e-07, 3.7641281653486813e-07, ]\n",
    "coll_ion_cooling_ct = [1.6125333965984259e-07, 6.45338605094838e-08, ]\n",
    "bf_heating_ct = [1.2809489753862688e-06, 7.017461756945128e-07, ]\n",
    "ff_heating_ct = [2.3829164962085199e-07, 1.1562178134581216e-07, ]\n",
    "coll_ion_heating_ct = [1.5946196993219911e-07, 6.366986972173936e-08, ]\n",
    "total_heating_rate_ct = [-3.8611749800759465e-07, -2.100641079650486e-07, ]\n",
    "fractional_heating_rate_ct = [-0.036553097452112299, -0.04676864172507447, ]\n",
    "\n",
    "coll_exc_cooling_rate_ct = [8.5059159013e-06, 3.403841826360594e-06, ]\n",
    "coll_deexc_heating_rate_ct = [8.49837495539e-06, 3.400456943546342e-06, ]"
   ]
  },
  {
   "cell_type": "code",
   "execution_count": null,
   "id": "d2a91b4a",
   "metadata": {},
   "outputs": [
    {
     "name": "stderr",
     "output_type": "stream",
     "text": [
      "/home/afullard/tardis/tardis/__init__.py:17: UserWarning: Astropy is already imported externally. Astropy should be imported after TARDIS.\n",
      "  warnings.warn(\n"
     ]
    },
    {
     "data": {
      "application/vnd.jupyter.widget-view+json": {
       "model_id": "e8d5e48c26404082973af62b423b82ee",
       "version_major": 2,
       "version_minor": 0
      },
      "text/plain": [
       "Iterations:          0/? [00:00<?, ?it/s]"
      ]
     },
     "metadata": {},
     "output_type": "display_data"
    },
    {
     "data": {
      "application/vnd.jupyter.widget-view+json": {
       "model_id": "06b76af921084b38a566f6068ea4bbdd",
       "version_major": 2,
       "version_minor": 0
      },
      "text/plain": [
       "Packets:             0/? [00:00<?, ?it/s]"
      ]
     },
     "metadata": {},
     "output_type": "display_data"
    }
   ],
   "source": [
    "import astropy.units as u\n",
    "\n",
    "from tardis.io.atom_data import AtomData\n",
    "from tardis.plasma.electron_energy_distribution import (\n",
    "         ThermalElectronEnergyDistribution,\n",
    ")\n",
    "from tardis.plasma.equilibrium.rates.heating_cooling_rates import (\n",
    "         BoundFreeThermalRates,\n",
    "         CollisionalBoundThermalRates,\n",
    "         CollisionalIonizationThermalRates,\n",
    "         FreeFreeThermalRates,\n",
    ")\n",
    "\n",
    "# identical atomic data to that used by C Vogl\n",
    "atom_data = AtomData.from_hdf(home / \"tardis-regression-data/atom_data/nlte_atom_data/TestNLTE_He_Ti_ctardis.h5\") # currently not available for public use\n",
    "atom_data.prepare_atom_data([1], \"macroatom\", [], [(1, 0)])\n",
    "\n",
    "# matching electron distribution to that used by C Vogl\n",
    "thermal_electron_distribution = ThermalElectronEnergyDistribution(0 * u.erg, electron_temp * u.K, electron_density * u.cm**-3)"
   ]
  },
  {
   "cell_type": "markdown",
   "id": "1c91bd5e",
   "metadata": {},
   "source": [
    "## Solver comparison for each process\n",
    "\n",
    "Each solver is set up using the appropriate inputs and compared to the C Vogl output. All inputs are from C Vogl code."
   ]
  },
  {
   "cell_type": "code",
   "execution_count": 4,
   "id": "90fe2670",
   "metadata": {},
   "outputs": [],
   "source": [
    "bf_rates = BoundFreeThermalRates(atom_data.photoionization_data)\n",
    "bf_heating, bf_cooling = bf_rates.solve(\n",
    "    level_number_density.loc[:, :1],\n",
    "    ion_number_density.loc[:, :1],\n",
    "    thermal_electron_distribution,\n",
    "    level_population_ratio.loc[:, :1],\n",
    "    bound_free_heating_estimator=bf_heating_estimator.loc[:, :1],\n",
    "    stimulated_recombination_estimator=stim_recomb_cooling_estimator.loc[:, :1],\n",
    ")"
   ]
  },
  {
   "cell_type": "code",
   "execution_count": 5,
   "id": "b52a84b9",
   "metadata": {},
   "outputs": [
    {
     "data": {
      "text/plain": [
       "0   -4.034643e-12\n",
       "1   -1.508795e-16\n",
       "dtype: float64"
      ]
     },
     "execution_count": 5,
     "metadata": {},
     "output_type": "execute_result"
    }
   ],
   "source": [
    "(bf_heating - bf_heating_ct) / bf_heating_ct"
   ]
  },
  {
   "cell_type": "code",
   "execution_count": 6,
   "id": "9bed883f",
   "metadata": {},
   "outputs": [
    {
     "data": {
      "text/plain": [
       "0    8.796714e-07\n",
       "1    8.863891e-07\n",
       "dtype: float64"
      ]
     },
     "execution_count": 6,
     "metadata": {},
     "output_type": "execute_result"
    }
   ],
   "source": [
    "(bf_cooling - fb_cooling_ct) / fb_cooling_ct"
   ]
  },
  {
   "cell_type": "code",
   "execution_count": 7,
   "id": "60c6d897",
   "metadata": {},
   "outputs": [],
   "source": [
    "ff_rates = FreeFreeThermalRates()\n",
    "ff_heating, ff_cooling = ff_rates.solve(\n",
    "    ff_heating_estimator[:2],\n",
    "    thermal_electron_distribution,\n",
    "    ion_number_density.loc[:, :1],\n",
    ")"
   ]
  },
  {
   "cell_type": "code",
   "execution_count": 8,
   "id": "1304789e",
   "metadata": {},
   "outputs": [
    {
     "data": {
      "text/plain": [
       "0   -2.807564e-11\n",
       "1    0.000000e+00\n",
       "dtype: float64"
      ]
     },
     "execution_count": 8,
     "metadata": {},
     "output_type": "execute_result"
    }
   ],
   "source": [
    "(ff_cooling - ff_cooling_ct) / ff_cooling_ct"
   ]
  },
  {
   "cell_type": "code",
   "execution_count": 9,
   "id": "c2b0b993",
   "metadata": {},
   "outputs": [
    {
     "data": {
      "text/plain": [
       "0   -9.876061e-10\n",
       "1   -7.579947e-10\n",
       "dtype: float64"
      ]
     },
     "execution_count": 9,
     "metadata": {},
     "output_type": "execute_result"
    }
   ],
   "source": [
    "(ff_heating - ff_heating_ct) / ff_heating_ct"
   ]
  },
  {
   "cell_type": "code",
   "execution_count": 10,
   "id": "8f3d4666",
   "metadata": {},
   "outputs": [],
   "source": [
    "coll_ion_rates = CollisionalIonizationThermalRates(atom_data.photoionization_data)\n",
    "coll_ion_heating, coll_ion_cooling = coll_ion_rates.solve(\n",
    "    thermal_electron_distribution.number_density,\n",
    "    ion_number_density.loc[:, :1],\n",
    "    level_number_density.loc[:, :1],\n",
    "    coll_ion_rate_coeff.loc[:, :1],\n",
    "    level_population_ratio.loc[:, :1],\n",
    "    )"
   ]
  },
  {
   "cell_type": "code",
   "execution_count": 11,
   "id": "94877a24",
   "metadata": {},
   "outputs": [
    {
     "data": {
      "text/plain": [
       "0   -7.098834e-08\n",
       "1   -7.093212e-08\n",
       "dtype: float64"
      ]
     },
     "execution_count": 11,
     "metadata": {},
     "output_type": "execute_result"
    }
   ],
   "source": [
    "(coll_ion_heating - coll_ion_heating_ct) / coll_ion_heating_ct"
   ]
  },
  {
   "cell_type": "code",
   "execution_count": 12,
   "id": "b23da59f",
   "metadata": {},
   "outputs": [
    {
     "data": {
      "text/plain": [
       "0   -7.095974e-08\n",
       "1   -7.093211e-08\n",
       "dtype: float64"
      ]
     },
     "execution_count": 12,
     "metadata": {},
     "output_type": "execute_result"
    }
   ],
   "source": [
    "(coll_ion_cooling - coll_ion_cooling_ct) / coll_ion_cooling_ct"
   ]
  },
  {
   "cell_type": "code",
   "execution_count": null,
   "id": "c637b727",
   "metadata": {},
   "outputs": [],
   "source": [
    "coll_bound_rates = CollisionalBoundThermalRates(lines)\n",
    "coll_deexc_heating, coll_exc_cooling = coll_bound_rates.solve(\n",
    "    thermal_electron_distribution.number_density,\n",
    "    coll_deexc_coeff.loc[:, :1],\n",
    "    coll_exc_coeff.loc[:, :1],\n",
    "    level_number_density.loc[:, :1],\n",
    ")"
   ]
  },
  {
   "cell_type": "code",
   "execution_count": null,
   "id": "07372fae",
   "metadata": {},
   "outputs": [
    {
     "data": {
      "text/plain": [
       "0   -7.095960e-08\n",
       "1   -7.093195e-08\n",
       "dtype: float64"
      ]
     },
     "execution_count": 14,
     "metadata": {},
     "output_type": "execute_result"
    }
   ],
   "source": [
    "(coll_deexc_heating - coll_deexc_heating_rate_ct) / coll_deexc_heating_rate_ct"
   ]
  },
  {
   "cell_type": "code",
   "execution_count": null,
   "id": "fc602166",
   "metadata": {},
   "outputs": [
    {
     "data": {
      "text/plain": [
       "0   -7.096040e-08\n",
       "1   -7.093195e-08\n",
       "dtype: float64"
      ]
     },
     "execution_count": 15,
     "metadata": {},
     "output_type": "execute_result"
    }
   ],
   "source": [
    "(coll_exc_cooling - coll_exc_cooling_rate_ct) / coll_exc_cooling_rate_ct"
   ]
  },
  {
   "cell_type": "markdown",
   "id": "ac9e9827",
   "metadata": {},
   "source": [
    "## Thermal balance solution"
   ]
  },
  {
   "cell_type": "code",
   "execution_count": 16,
   "id": "1da2ecab",
   "metadata": {},
   "outputs": [],
   "source": [
    "from tardis.plasma.equilibrium.thermal_balance import ThermalBalanceSolver\n",
    "\n",
    "thermal_solver = ThermalBalanceSolver(bf_rates, ff_rates, coll_ion_rates, coll_bound_rates)\n",
    "\n",
    "heating_rate, fractional_heating_rate = thermal_solver.solve(\n",
    "    thermal_electron_distribution,\n",
    "    level_number_density.loc[:, :1],\n",
    "    ion_number_density.loc[:, :1],\n",
    "    coll_ion_rate_coeff.loc[:, :1],\n",
    "    coll_deexc_coeff.loc[:, :1],\n",
    "    coll_exc_coeff.loc[:, :1],\n",
    "    ff_heating_estimator[:2],\n",
    "    level_population_ratio.loc[:, :1],\n",
    "    bound_free_heating_estimator=bf_heating_estimator.loc[:, :1],\n",
    "    stimulated_recombination_estimator=stim_recomb_cooling_estimator.loc[:, :1],\n",
    ")"
   ]
  },
  {
   "cell_type": "code",
   "execution_count": 17,
   "id": "c44949cc",
   "metadata": {},
   "outputs": [
    {
     "data": {
      "text/plain": [
       "0    0.000003\n",
       "1    0.000003\n",
       "dtype: float64"
      ]
     },
     "execution_count": 17,
     "metadata": {},
     "output_type": "execute_result"
    }
   ],
   "source": [
    "(heating_rate - total_heating_rate_ct) / total_heating_rate_ct"
   ]
  },
  {
   "cell_type": "code",
   "execution_count": 18,
   "id": "24f042e7",
   "metadata": {},
   "outputs": [
    {
     "data": {
      "text/plain": [
       "0    0.000003\n",
       "1    0.000003\n",
       "dtype: float64"
      ]
     },
     "execution_count": 18,
     "metadata": {},
     "output_type": "execute_result"
    }
   ],
   "source": [
    "(fractional_heating_rate - fractional_heating_rate_ct) / fractional_heating_rate_ct"
   ]
  },
  {
   "cell_type": "code",
   "execution_count": null,
   "id": "64f3fd3e",
   "metadata": {},
   "outputs": [],
   "source": []
  }
 ],
 "metadata": {
  "kernelspec": {
   "display_name": "tardis",
   "language": "python",
   "name": "python3"
  },
  "language_info": {
   "codemirror_mode": {
    "name": "ipython",
    "version": 3
   },
   "file_extension": ".py",
   "mimetype": "text/x-python",
   "name": "python",
   "nbconvert_exporter": "python",
   "pygments_lexer": "ipython3",
   "version": "3.13.2"
  }
 },
 "nbformat": 4,
 "nbformat_minor": 5
}
