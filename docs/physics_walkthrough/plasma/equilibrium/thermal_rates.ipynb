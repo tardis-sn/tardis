{
 "cells": [
  {
   "cell_type": "code",
   "execution_count": null,
   "id": "fd9e91aa",
   "metadata": {},
   "outputs": [],
   "source": [
    "# zeroth shell\n",
    "import pandas as pd\n",
    "\n",
    "electron_temp = 9992.2722969523056\n",
    "ff_heating_estimator = [  4.89135279e-24,   4.37696370e-24,   3.75869301e-24,\n",
    "         4.97847160e-24,   4.52158002e-24,   4.21024499e-24,\n",
    "         3.94991540e-24,   3.72915649e-24,   3.58902110e-24,\n",
    "         3.40170224e-24,   3.20848519e-24,   3.03540032e-24,\n",
    "         2.87314722e-24,   2.74328938e-24,   2.61063140e-24,\n",
    "         2.50640248e-24,   2.38164559e-24,   2.26967531e-24,\n",
    "         2.24509826e-24,   2.12378192e-24,   2.02063266e-24,\n",
    "         1.92509873e-24,   1.83070678e-24,   1.77346374e-24]\n",
    "\n",
    "data_path = \"/home/afullard/tardis-chvogl-configs\"\n",
    "bf_heating_coeff = pd.read_csv(f\"{data_path}/bound_free_heating_coeff.csv\", index_col=(0, 1, 2))\n",
    "stim_recomb_cooling_coeff = pd.read_csv(f\"{data_path}/stim_recomb_cooling_coeff.csv\", index_col=(0, 1, 2))\n",
    "electron_densities = pd.read_csv(f\"{data_path}/thermal_electron_densities.csv\", index_col=0, header=None)\n",
    "ion_number_density = pd.read_csv(f\"{data_path}/thermal_ion_number_density.csv\", index_col=(0, 1))\n",
    "level_number_density = pd.read_csv(f\"{data_path}/thermal_level_number_density.csv\", index_col=(0, 1, 2))\n",
    "phi_lucy = pd.read_csv(f\"{data_path}/thermal_phi_lucy.csv\", index_col=(0, 1, 2))\n",
    "coll_exc_coeff = pd.read_csv(f\"{data_path}/thermal_coll_exc_coeff.csv\", index_col=(0, 1, 2, 3))\n",
    "coll_deexc_coeff = pd.read_csv(f\"{data_path}/thermal_coll_deexc_coeff.csv\", index_col=(0, 1, 2, 3))"
   ]
  },
  {
   "cell_type": "code",
   "execution_count": null,
   "id": "e5bc70d5",
   "metadata": {},
   "outputs": [],
   "source": [
    "#outputs\n",
    "\n",
    "fb_cooling_ct = 1.2018593543520837e-06\n",
    "ff_cooling_ct = 6.941664530316456e-07\n",
    "coll_ion_cooling_ct = 1.6125333965984259e-07\n",
    "bf_heating_ct = 1.2809489753862688e-06\n",
    "ff_heating_ct = 2.3829164962085199e-07\n",
    "coll_ion_heating_ct = 1.5946196993219911e-07\n",
    "total_heating_rate_ct = -3.8611749800759465e-07\n",
    "fractional_heating_rate_ct = -0.036553097452112299\n",
    "\n",
    "col_exc_cooling_rate_ct = pd.read_csv(f\"{data_path}/col_exc_cooling_rate.csv\", index_col=0)\n",
    "col_deexc_cooling_rate_ct = pd.read_csv(f\"{data_path}/col_deexc_heating_rate.csv\", index_col=0)"
   ]
  },
  {
   "cell_type": "code",
   "execution_count": null,
   "id": "d2a91b4a",
   "metadata": {},
   "outputs": [],
   "source": [
    "from pathlib import Path\n",
    "\n",
    "import astropy.units as u\n",
    "\n",
    "from tardis.io.atom_data import AtomData\n",
    "from tardis.plasma.electron_energy_distribution import (\n",
    "         ThermalElectronEnergyDistribution,\n",
    ")\n",
    "from tardis.plasma.equilibrium.rates.heating_cooling_rates import (\n",
    "         BoundFreeThermalRates,\n",
    "         CollisionalBoundThermalRates,\n",
    "         CollisionalIonizationThermalRates,\n",
    "         FreeFreeThermalRates,\n",
    ")\n",
    "\n",
    "home = str(Path('~').expanduser())\n",
    "cmfgen_atom_data = AtomData.from_hdf(home+'/tardis-regression-data/atom-data/nlte_atom_data/TestNLTE_He_Ti.h5')\n",
    "cmfgen_atom_data.prepare_atom_data([1], \"macroatom\", [], [(1, 0)])\n",
    "\n",
    "\n",
    "thermal_electron_distribution = ThermalElectronEnergyDistribution(0 * u.erg, electron_temp * u.K, electron_densities.values[0] * u.cm**-3)"
   ]
  },
  {
   "cell_type": "code",
   "execution_count": null,
   "id": "90fe2670",
   "metadata": {},
   "outputs": [],
   "source": [
    "bf_rates = BoundFreeThermalRates(cmfgen_atom_data.photoionization_data)\n",
    "bf_heating, bf_cooling = bf_rates.solve(\n",
    "    level_number_density[\"0\"],\n",
    "    ion_number_density[\"0\"],\n",
    "    thermal_electron_distribution,\n",
    "    phi_lucy[\"0\"],\n",
    "    bound_free_heating_estimator=bf_heating_coeff[\"0\"],\n",
    "    stimulated_recombination_estimator=stim_recomb_cooling_coeff[\"0\"],\n",
    ")"
   ]
  },
  {
   "cell_type": "code",
   "execution_count": null,
   "id": "b52a84b9",
   "metadata": {},
   "outputs": [],
   "source": [
    "(bf_heating - bf_heating_ct) / bf_heating_ct"
   ]
  },
  {
   "cell_type": "code",
   "execution_count": null,
   "id": "9bed883f",
   "metadata": {},
   "outputs": [],
   "source": [
    "(bf_cooling - fb_cooling_ct) / fb_cooling_ct"
   ]
  },
  {
   "cell_type": "code",
   "execution_count": null,
   "id": "60c6d897",
   "metadata": {},
   "outputs": [],
   "source": [
    "ff_rates = FreeFreeThermalRates()\n",
    "ff_heating, ff_cooling = ff_rates.solve(\n",
    "    ff_heating_estimator[0],\n",
    "    thermal_electron_distribution,\n",
    "    ion_number_density[\"0\"],\n",
    ")"
   ]
  },
  {
   "cell_type": "code",
   "execution_count": null,
   "id": "1304789e",
   "metadata": {},
   "outputs": [],
   "source": [
    "(ff_cooling - ff_cooling_ct) / ff_cooling_ct"
   ]
  },
  {
   "cell_type": "code",
   "execution_count": null,
   "id": "c2b0b993",
   "metadata": {},
   "outputs": [],
   "source": [
    "(ff_heating - ff_heating_ct) / ff_heating_ct"
   ]
  },
  {
   "cell_type": "code",
   "execution_count": null,
   "id": "8f3d4666",
   "metadata": {},
   "outputs": [],
   "source": [
    "coll_ion_rates = CollisionalIonizationThermalRates(cmfgen_atom_data.photoionization_data)\n",
    "coll_ion_heating, coll_ion_cooling = coll_ion_rates.solve(\n",
    "    thermal_electron_distribution.number_density,\n",
    "    ion_number_density,\n",
    "    level_number_density,\n",
    "    collisional_ionization_rate_coefficient,\n",
    "    phi_lucy,\n",
    "    )"
   ]
  },
  {
   "cell_type": "code",
   "execution_count": null,
   "id": "c637b727",
   "metadata": {},
   "outputs": [],
   "source": [
    "# need to get data with collision rates\n",
    "coll_bound_rates = CollisionalBoundThermalRates(cmfgen_atom_data.collision_data)\n",
    "coll_deexc_heating, coll_exc_cooling = coll_bound_rates.solve(\n",
    "    thermal_electron_distribution.number_density,\n",
    "    coll_deexc_coeff[\"0\"],\n",
    "    coll_exc_coeff[\"0\"],\n",
    "    level_number_density[\"0\"],\n",
    ")"
   ]
  },
  {
   "cell_type": "code",
   "execution_count": null,
   "id": "6e27018e",
   "metadata": {},
   "outputs": [],
   "source": []
  }
 ],
 "metadata": {
  "kernelspec": {
   "display_name": "tardis",
   "language": "python",
   "name": "python3"
  },
  "language_info": {
   "codemirror_mode": {
    "name": "ipython",
    "version": 3
   },
   "file_extension": ".py",
   "mimetype": "text/x-python",
   "name": "python",
   "nbconvert_exporter": "python",
   "pygments_lexer": "ipython3",
   "version": "3.13.2"
  }
 },
 "nbformat": 4,
 "nbformat_minor": 5
}
