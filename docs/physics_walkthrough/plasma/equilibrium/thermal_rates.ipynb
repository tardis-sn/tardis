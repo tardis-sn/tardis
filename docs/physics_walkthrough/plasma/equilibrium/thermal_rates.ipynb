{
 "cells": [
  {
   "cell_type": "code",
   "execution_count": 1,
   "id": "fd9e91aa",
   "metadata": {},
   "outputs": [],
   "source": [
    "# zeroth shell\n",
    "import pandas as pd\n",
    "\n",
    "electron_temp = 9992.2722969523056\n",
    "ff_heating_estimator = [  4.89135279e-24,   4.37696370e-24,   3.75869301e-24,\n",
    "         4.97847160e-24,   4.52158002e-24,   4.21024499e-24,\n",
    "         3.94991540e-24,   3.72915649e-24,   3.58902110e-24,\n",
    "         3.40170224e-24,   3.20848519e-24,   3.03540032e-24,\n",
    "         2.87314722e-24,   2.74328938e-24,   2.61063140e-24,\n",
    "         2.50640248e-24,   2.38164559e-24,   2.26967531e-24,\n",
    "         2.24509826e-24,   2.12378192e-24,   2.02063266e-24,\n",
    "         1.92509873e-24,   1.83070678e-24,   1.77346374e-24]\n",
    "\n",
    "data_path = \"/home/afullard/tardis-chvogl-configs\"\n",
    "bf_heating_coeff = pd.read_csv(f\"{data_path}/bound_free_heating_coeff.csv\", index_col=(0, 1, 2))\n",
    "stim_recomb_cooling_coeff = pd.read_csv(f\"{data_path}/stim_recomb_cooling_coeff.csv\", index_col=(0, 1, 2))\n",
    "electron_densities = pd.read_csv(f\"{data_path}/thermal_electron_densities.csv\", index_col=0, header=None)\n",
    "ion_number_density = pd.read_csv(f\"{data_path}/thermal_ion_number_density.csv\", index_col=(0, 1))\n",
    "level_number_density = pd.read_csv(f\"{data_path}/thermal_level_number_density.csv\", index_col=(0, 1, 2))\n",
    "phi_lucy = pd.read_csv(f\"{data_path}/thermal_phi_lucy.csv\", index_col=(0, 1, 2))\n",
    "coll_exc_coeff = pd.read_csv(f\"{data_path}/thermal_coll_exc_coeff.csv\", index_col=(0, 1, 2, 3))\n",
    "coll_deexc_coeff = pd.read_csv(f\"{data_path}/thermal_coll_deexc_coeff.csv\", index_col=(0, 1, 2, 3))\n",
    "\n",
    "coll_ion_rate_coeff = pd.read_csv(f\"{data_path}/coll_ion_coeff_ctardis.csv\", index_col=(0, 1, 2))"
   ]
  },
  {
   "cell_type": "code",
   "execution_count": 2,
   "id": "e5bc70d5",
   "metadata": {},
   "outputs": [],
   "source": [
    "#outputs\n",
    "\n",
    "fb_cooling_ct = 1.2018593543520837e-06\n",
    "ff_cooling_ct = 6.941664530316456e-07\n",
    "coll_ion_cooling_ct = 1.6125333965984259e-07\n",
    "bf_heating_ct = 1.2809489753862688e-06\n",
    "ff_heating_ct = 2.3829164962085199e-07\n",
    "coll_ion_heating_ct = 1.5946196993219911e-07\n",
    "total_heating_rate_ct = -3.8611749800759465e-07\n",
    "fractional_heating_rate_ct = -0.036553097452112299\n",
    "\n",
    "col_exc_cooling_rate_ct = pd.read_csv(f\"{data_path}/col_exc_cooling_rate.csv\", index_col=0)\n",
    "col_deexc_cooling_rate_ct = pd.read_csv(f\"{data_path}/col_deexc_heating_rate.csv\", index_col=0)"
   ]
  },
  {
   "cell_type": "code",
   "execution_count": 3,
   "id": "d2a91b4a",
   "metadata": {},
   "outputs": [
    {
     "name": "stderr",
     "output_type": "stream",
     "text": [
      "/home/afullard/tardis/tardis/__init__.py:24: UserWarning: Astropy is already imported externally. Astropy should be imported after TARDIS.\n",
      "  warnings.warn(\n"
     ]
    },
    {
     "data": {
      "application/vnd.jupyter.widget-view+json": {
       "model_id": "b2afa3ed79dd42c2913c7072db31cecc",
       "version_major": 2,
       "version_minor": 0
      },
      "text/plain": [
       "Iterations:          0/? [00:00<?, ?it/s]"
      ]
     },
     "metadata": {},
     "output_type": "display_data"
    },
    {
     "data": {
      "application/vnd.jupyter.widget-view+json": {
       "model_id": "6aee118b896d4903b938d3933d9ba036",
       "version_major": 2,
       "version_minor": 0
      },
      "text/plain": [
       "Packets:             0/? [00:00<?, ?it/s]"
      ]
     },
     "metadata": {},
     "output_type": "display_data"
    }
   ],
   "source": [
    "from pathlib import Path\n",
    "\n",
    "import astropy.units as u\n",
    "\n",
    "from tardis.io.atom_data import AtomData\n",
    "from tardis.plasma.electron_energy_distribution import (\n",
    "         ThermalElectronEnergyDistribution,\n",
    ")\n",
    "from tardis.plasma.equilibrium.rates.heating_cooling_rates import (\n",
    "         BoundFreeThermalRates,\n",
    "         CollisionalBoundThermalRates,\n",
    "         CollisionalIonizationThermalRates,\n",
    "         FreeFreeThermalRates,\n",
    ")\n",
    "\n",
    "home = str(Path('~').expanduser())\n",
    "cmfgen_atom_data = AtomData.from_hdf(home+'/tardis-regression-data/atom-data/nlte_atom_data/TestNLTE_He_Ti.h5')\n",
    "cmfgen_atom_data.prepare_atom_data([1], \"macroatom\", [], [(1, 0)])\n",
    "\n",
    "\n",
    "thermal_electron_distribution = ThermalElectronEnergyDistribution(0 * u.erg, electron_temp * u.K, electron_densities.values[0] * u.cm**-3)"
   ]
  },
  {
   "cell_type": "code",
   "execution_count": 4,
   "id": "90fe2670",
   "metadata": {},
   "outputs": [],
   "source": [
    "bf_rates = BoundFreeThermalRates(cmfgen_atom_data.photoionization_data)\n",
    "bf_heating, bf_cooling = bf_rates.solve(\n",
    "    level_number_density[\"0\"],\n",
    "    ion_number_density[\"0\"],\n",
    "    thermal_electron_distribution,\n",
    "    phi_lucy[\"0\"],\n",
    "    bound_free_heating_estimator=bf_heating_coeff[\"0\"],\n",
    "    stimulated_recombination_estimator=stim_recomb_cooling_coeff[\"0\"],\n",
    ")"
   ]
  },
  {
   "cell_type": "code",
   "execution_count": 5,
   "id": "b52a84b9",
   "metadata": {},
   "outputs": [
    {
     "data": {
      "text/plain": [
       "np.float64(2.4565595191649485e-13)"
      ]
     },
     "execution_count": 5,
     "metadata": {},
     "output_type": "execute_result"
    }
   ],
   "source": [
    "(bf_heating - bf_heating_ct) / bf_heating_ct"
   ]
  },
  {
   "cell_type": "code",
   "execution_count": 6,
   "id": "9bed883f",
   "metadata": {},
   "outputs": [
    {
     "data": {
      "text/plain": [
       "np.float64(0.7219555191002848)"
      ]
     },
     "execution_count": 6,
     "metadata": {},
     "output_type": "execute_result"
    }
   ],
   "source": [
    "(bf_cooling - fb_cooling_ct) / fb_cooling_ct"
   ]
  },
  {
   "cell_type": "code",
   "execution_count": 7,
   "id": "60c6d897",
   "metadata": {},
   "outputs": [],
   "source": [
    "ff_rates = FreeFreeThermalRates()\n",
    "ff_heating, ff_cooling = ff_rates.solve(\n",
    "    ff_heating_estimator[0],\n",
    "    thermal_electron_distribution,\n",
    "    ion_number_density[\"0\"],\n",
    ")"
   ]
  },
  {
   "cell_type": "code",
   "execution_count": 8,
   "id": "1304789e",
   "metadata": {},
   "outputs": [
    {
     "data": {
      "text/plain": [
       "array([-1.7757192e-12])"
      ]
     },
     "execution_count": 8,
     "metadata": {},
     "output_type": "execute_result"
    }
   ],
   "source": [
    "(ff_cooling - ff_cooling_ct) / ff_cooling_ct"
   ]
  },
  {
   "cell_type": "code",
   "execution_count": 9,
   "id": "c2b0b993",
   "metadata": {},
   "outputs": [
    {
     "data": {
      "text/plain": [
       "array([-9.61306225e-10])"
      ]
     },
     "execution_count": 9,
     "metadata": {},
     "output_type": "execute_result"
    }
   ],
   "source": [
    "(ff_heating - ff_heating_ct) / ff_heating_ct"
   ]
  },
  {
   "cell_type": "code",
   "execution_count": 10,
   "id": "8f3d4666",
   "metadata": {},
   "outputs": [],
   "source": [
    "coll_ion_rates = CollisionalIonizationThermalRates(cmfgen_atom_data.photoionization_data)\n",
    "coll_ion_heating, coll_ion_cooling = coll_ion_rates.solve(\n",
    "    thermal_electron_distribution.number_density,\n",
    "    ion_number_density[\"0\"],\n",
    "    level_number_density[\"0\"],\n",
    "    coll_ion_rate_coeff[\"0\"],\n",
    "    phi_lucy[\"0\"],\n",
    "    )"
   ]
  },
  {
   "cell_type": "code",
   "execution_count": 11,
   "id": "94877a24",
   "metadata": {},
   "outputs": [
    {
     "data": {
      "text/plain": [
       "np.float64(0.0004125935488289759)"
      ]
     },
     "execution_count": 11,
     "metadata": {},
     "output_type": "execute_result"
    }
   ],
   "source": [
    "(coll_ion_heating - coll_ion_heating_ct) / coll_ion_heating_ct"
   ]
  },
  {
   "cell_type": "code",
   "execution_count": 12,
   "id": "b23da59f",
   "metadata": {},
   "outputs": [
    {
     "data": {
      "text/plain": [
       "np.float64(0.00041378499021768627)"
      ]
     },
     "execution_count": 12,
     "metadata": {},
     "output_type": "execute_result"
    }
   ],
   "source": [
    "(coll_ion_cooling - coll_ion_cooling_ct) / coll_ion_cooling_ct"
   ]
  },
  {
   "cell_type": "code",
   "execution_count": 13,
   "id": "c637b727",
   "metadata": {},
   "outputs": [
    {
     "ename": "TypeError",
     "evalue": "string indices must be integers, not 'str'",
     "output_type": "error",
     "traceback": [
      "\u001b[31m---------------------------------------------------------------------------\u001b[39m",
      "\u001b[31mTypeError\u001b[39m                                 Traceback (most recent call last)",
      "\u001b[36mCell\u001b[39m\u001b[36m \u001b[39m\u001b[32mIn[13]\u001b[39m\u001b[32m, line 2\u001b[39m\n\u001b[32m      1\u001b[39m \u001b[38;5;66;03m# need to get data with collision rates\u001b[39;00m\n\u001b[32m----> \u001b[39m\u001b[32m2\u001b[39m coll_bound_rates = \u001b[43mCollisionalBoundThermalRates\u001b[49m\u001b[43m(\u001b[49m\u001b[43mcmfgen_atom_data\u001b[49m\u001b[43m.\u001b[49m\u001b[43mcollision_data\u001b[49m\u001b[43m)\u001b[49m\n\u001b[32m      3\u001b[39m coll_deexc_heating, coll_exc_cooling = coll_bound_rates.solve(\n\u001b[32m      4\u001b[39m     thermal_electron_distribution.number_density,\n\u001b[32m      5\u001b[39m     coll_deexc_coeff[\u001b[33m\"\u001b[39m\u001b[33m0\u001b[39m\u001b[33m\"\u001b[39m],\n\u001b[32m      6\u001b[39m     coll_exc_coeff[\u001b[33m\"\u001b[39m\u001b[33m0\u001b[39m\u001b[33m\"\u001b[39m],\n\u001b[32m      7\u001b[39m     level_number_density[\u001b[33m\"\u001b[39m\u001b[33m0\u001b[39m\u001b[33m\"\u001b[39m],\n\u001b[32m      8\u001b[39m )\n",
      "\u001b[36mFile \u001b[39m\u001b[32m~/tardis/tardis/plasma/equilibrium/rates/heating_cooling_rates.py:284\u001b[39m, in \u001b[36mCollisionalBoundThermalRates.__init__\u001b[39m\u001b[34m(self, collisional_cross_sections)\u001b[39m\n\u001b[32m    283\u001b[39m \u001b[38;5;28;01mdef\u001b[39;00m\u001b[38;5;250m \u001b[39m\u001b[34m__init__\u001b[39m(\u001b[38;5;28mself\u001b[39m, collisional_cross_sections):\n\u001b[32m--> \u001b[39m\u001b[32m284\u001b[39m     \u001b[38;5;28mself\u001b[39m.nu = \u001b[43mcollisional_cross_sections\u001b[49m\u001b[43m[\u001b[49m\u001b[33;43m\"\u001b[39;49m\u001b[33;43mnu\u001b[39;49m\u001b[33;43m\"\u001b[39;49m\u001b[43m]\u001b[49m.values\n",
      "\u001b[31mTypeError\u001b[39m: string indices must be integers, not 'str'"
     ]
    }
   ],
   "source": [
    "# need to get data with collision rates\n",
    "coll_bound_rates = CollisionalBoundThermalRates(cmfgen_atom_data.collision_data)\n",
    "coll_deexc_heating, coll_exc_cooling = coll_bound_rates.solve(\n",
    "    thermal_electron_distribution.number_density,\n",
    "    coll_deexc_coeff[\"0\"],\n",
    "    coll_exc_coeff[\"0\"],\n",
    "    level_number_density[\"0\"],\n",
    ")"
   ]
  },
  {
   "cell_type": "code",
   "execution_count": null,
   "id": "6e27018e",
   "metadata": {},
   "outputs": [],
   "source": []
  }
 ],
 "metadata": {
  "kernelspec": {
   "display_name": "tardis",
   "language": "python",
   "name": "python3"
  },
  "language_info": {
   "codemirror_mode": {
    "name": "ipython",
    "version": 3
   },
   "file_extension": ".py",
   "mimetype": "text/x-python",
   "name": "python",
   "nbconvert_exporter": "python",
   "pygments_lexer": "ipython3",
   "version": "3.13.2"
  }
 },
 "nbformat": 4,
 "nbformat_minor": 5
}
