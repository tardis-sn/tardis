{
 "cells": [
  {
   "cell_type": "code",
   "execution_count": 86,
   "id": "13166054-dfd0-487c-973e-9ff3905aa457",
   "metadata": {},
   "outputs": [],
   "source": [
    "# Neccesary packages\n",
    "from tardis.io.atom_data import download_atom_data\n",
    "import matplotlib.pyplot as plt\n",
    "from tardis import run_tardis\n",
    "import pandas as pd\n",
    "import astropy.units as u\n",
    "from tardis.visualization import SDECPlotter\n",
    "import plotly.graph_objects as go\n",
    "import numpy as np\n",
    "from tardis.visualization.sdec.util import calculate_absorption_luminosities, calculate_emission_luminosities\n",
    "from tardis.util.base import atomic_number2element_symbol\n",
    "import plotly.express as px"
   ]
  },
  {
   "cell_type": "code",
   "execution_count": 2,
   "id": "a117c6bd-bcb0-43a6-9d72-57417ccc50c8",
   "metadata": {},
   "outputs": [
    {
     "name": "stderr",
     "output_type": "stream",
     "text": [
      "Atomic Data kurucz_cd23_chianti_H_He already exists in /home/fabian/Downloads/tardis-data/kurucz_cd23_chianti_H_He.h5. Will not download - override with force_download=True.\n"
     ]
    }
   ],
   "source": [
    "download_atom_data('kurucz_cd23_chianti_H_He') # download data "
   ]
  },
  {
   "cell_type": "code",
   "execution_count": 3,
   "id": "65e473bc-66df-40e3-8aed-1ad8c9f5bd39",
   "metadata": {
    "scrolled": true
   },
   "outputs": [
    {
     "name": "stdout",
     "output_type": "stream",
     "text": [
      "[\u001b[1mtardis.io.model.parse_atom_data\u001b[0m][\u001b[1;37mINFO\u001b[0m   ]  \n",
      "\t\n",
      "\tReading Atomic Data from kurucz_cd23_chianti_H_He.h5 (\u001b[1mparse_atom_data.py\u001b[0m:40)\n",
      "[\u001b[1mtardis.io.atom_data.base\u001b[0m][\u001b[1;37mINFO\u001b[0m   ]  \n",
      "\tReading Atom Data with: UUID = 6f7b09e887a311e7a06b246e96350010 MD5  = 864f1753714343c41f99cb065710cace  (\u001b[1mbase.py\u001b[0m:258)\n",
      "[\u001b[1mtardis.io.atom_data.base\u001b[0m][\u001b[1;37mINFO\u001b[0m   ]  \n",
      "\tNon provided Atomic Data: synpp_refs, photoionization_data, yg_data, two_photon_data, linelist_atoms, linelist_molecules (\u001b[1mbase.py\u001b[0m:262)\n",
      "[\u001b[1mtardis.io.model.parse_density_configuration\u001b[0m][\u001b[1;33mWARNING\u001b[0m]  \n",
      "\tNumber of density points larger than number of shells. Assuming inner point irrelevant (\u001b[1mparse_density_configuration.py\u001b[0m:114)\n",
      "[\u001b[1mtardis.model.matter.decay\u001b[0m][\u001b[1;37mINFO\u001b[0m   ]  \n",
      "\tDecaying abundances for 1123200.0 seconds (\u001b[1mdecay.py\u001b[0m:101)\n",
      "[\u001b[1mtardis.simulation.base\u001b[0m][\u001b[1;37mINFO\u001b[0m   ]  \n",
      "\t\n",
      "\tStarting iteration 1 of 20 (\u001b[1mbase.py\u001b[0m:444)\n",
      "[\u001b[1mpy.warnings         \u001b[0m][\u001b[1;33mWARNING\u001b[0m]  \n",
      "\t/home/fabian/miniconda3/envs/tardis/lib/python3.12/site-packages/tardis/transport/montecarlo/montecarlo_main_loop.py:123: NumbaTypeSafetyWarning:\n",
      "\n",
      "\u001b[1m\u001b[1m\u001b[1munsafe cast from uint64 to int64. Precision may be lost.\u001b[0m\u001b[0m\u001b[0m\n",
      "\n",
      " (\u001b[1mwarnings.py\u001b[0m:112)\n"
     ]
    },
    {
     "data": {
      "application/vnd.jupyter.widget-view+json": {
       "model_id": "57243466a3ab424ca01295508f082841",
       "version_major": 2,
       "version_minor": 0
      },
      "text/plain": [
       "TqdmHBox(children=(HTML(value='Iterations:', layout=Layout(width='6%')), FloatProgress(value=0.0, layout=Layou…"
      ]
     },
     "metadata": {},
     "output_type": "display_data"
    },
    {
     "data": {
      "application/vnd.jupyter.widget-view+json": {
       "model_id": "7f641311896a4562b46319fcd5c64ee5",
       "version_major": 2,
       "version_minor": 0
      },
      "text/plain": [
       "TqdmHBox(children=(HTML(value='Packets:\\u2007\\u2007\\u2007', layout=Layout(width='6%')), FloatProgress(value=0.…"
      ]
     },
     "metadata": {},
     "output_type": "display_data"
    },
    {
     "name": "stdout",
     "output_type": "stream",
     "text": [
      "[\u001b[1mtardis.simulation.base\u001b[0m][\u001b[1;37mINFO\u001b[0m   ]  \n",
      "\t\n",
      "\tLuminosity emitted   = 7.942e+42 erg / s\n",
      "\tLuminosity absorbed  = 2.659e+42 erg / s\n",
      "\tLuminosity requested = 1.059e+43 erg / s\n",
      " (\u001b[1mbase.py\u001b[0m:662)\n",
      "[\u001b[1mtardis.simulation.base\u001b[0m][\u001b[1;37mINFO\u001b[0m   ]  \n",
      "\t\n",
      "\tPlasma stratification: (\u001b[1mbase.py\u001b[0m:630)\n"
     ]
    },
    {
     "data": {
      "text/html": [
       "<style type=\"text/css\">\n",
       "</style>\n",
       "<table id=\"T_f4ec2\">\n",
       "  <thead>\n",
       "    <tr>\n",
       "      <th class=\"index_name level0\" >Shell No.</th>\n",
       "      <th id=\"T_f4ec2_level0_col0\" class=\"col_heading level0 col0\" >t_rad</th>\n",
       "      <th id=\"T_f4ec2_level0_col1\" class=\"col_heading level0 col1\" >next_t_rad</th>\n",
       "      <th id=\"T_f4ec2_level0_col2\" class=\"col_heading level0 col2\" >w</th>\n",
       "      <th id=\"T_f4ec2_level0_col3\" class=\"col_heading level0 col3\" >next_w</th>\n",
       "    </tr>\n",
       "  </thead>\n",
       "  <tbody>\n",
       "    <tr>\n",
       "      <th id=\"T_f4ec2_level0_row0\" class=\"row_heading level0 row0\" >0</th>\n",
       "      <td id=\"T_f4ec2_row0_col0\" class=\"data row0 col0\" >9.93e+03 K</td>\n",
       "      <td id=\"T_f4ec2_row0_col1\" class=\"data row0 col1\" >1.01e+04 K</td>\n",
       "      <td id=\"T_f4ec2_row0_col2\" class=\"data row0 col2\" >0.4</td>\n",
       "      <td id=\"T_f4ec2_row0_col3\" class=\"data row0 col3\" >0.507</td>\n",
       "    </tr>\n",
       "    <tr>\n",
       "      <th id=\"T_f4ec2_level0_row1\" class=\"row_heading level0 row1\" >5</th>\n",
       "      <td id=\"T_f4ec2_row1_col0\" class=\"data row1 col0\" >9.85e+03 K</td>\n",
       "      <td id=\"T_f4ec2_row1_col1\" class=\"data row1 col1\" >1.02e+04 K</td>\n",
       "      <td id=\"T_f4ec2_row1_col2\" class=\"data row1 col2\" >0.211</td>\n",
       "      <td id=\"T_f4ec2_row1_col3\" class=\"data row1 col3\" >0.197</td>\n",
       "    </tr>\n",
       "    <tr>\n",
       "      <th id=\"T_f4ec2_level0_row2\" class=\"row_heading level0 row2\" >10</th>\n",
       "      <td id=\"T_f4ec2_row2_col0\" class=\"data row2 col0\" >9.78e+03 K</td>\n",
       "      <td id=\"T_f4ec2_row2_col1\" class=\"data row2 col1\" >1.02e+04 K</td>\n",
       "      <td id=\"T_f4ec2_row2_col2\" class=\"data row2 col2\" >0.143</td>\n",
       "      <td id=\"T_f4ec2_row2_col3\" class=\"data row2 col3\" >0.117</td>\n",
       "    </tr>\n",
       "    <tr>\n",
       "      <th id=\"T_f4ec2_level0_row3\" class=\"row_heading level0 row3\" >15</th>\n",
       "      <td id=\"T_f4ec2_row3_col0\" class=\"data row3 col0\" >9.71e+03 K</td>\n",
       "      <td id=\"T_f4ec2_row3_col1\" class=\"data row3 col1\" >9.88e+03 K</td>\n",
       "      <td id=\"T_f4ec2_row3_col2\" class=\"data row3 col2\" >0.105</td>\n",
       "      <td id=\"T_f4ec2_row3_col3\" class=\"data row3 col3\" >0.0868</td>\n",
       "    </tr>\n",
       "  </tbody>\n",
       "</table>\n"
      ],
      "text/plain": [
       "<pandas.io.formats.style.Styler at 0x77173633d100>"
      ]
     },
     "metadata": {},
     "output_type": "display_data"
    },
    {
     "name": "stdout",
     "output_type": "stream",
     "text": [
      "[\u001b[1mtardis.simulation.base\u001b[0m][\u001b[1;37mINFO\u001b[0m   ]  \n",
      "\t\n",
      "\tCurrent t_inner = 9933.952 K\n",
      "\tExpected t_inner for next iteration = 10703.327 K\n",
      " (\u001b[1mbase.py\u001b[0m:657)\n"
     ]
    },
    {
     "data": {
      "application/vnd.jupyter.widget-view+json": {
       "model_id": "a0c99fd301fb4830bc361c6311d37e50",
       "version_major": 2,
       "version_minor": 0
      },
      "text/plain": [
       "VBox(children=(FigureWidget({\n",
       "    'data': [{'type': 'scatter', 'uid': 'ec0db822-f5e7-490e-8c99-5cd1ea654520', …"
      ]
     },
     "metadata": {},
     "output_type": "display_data"
    },
    {
     "name": "stdout",
     "output_type": "stream",
     "text": [
      "[\u001b[1mtardis.simulation.base\u001b[0m][\u001b[1;37mINFO\u001b[0m   ]  \n",
      "\t\n",
      "\tStarting iteration 2 of 20 (\u001b[1mbase.py\u001b[0m:444)\n",
      "[\u001b[1mtardis.simulation.base\u001b[0m][\u001b[1;37mINFO\u001b[0m   ]  \n",
      "\t\n",
      "\tLuminosity emitted   = 1.071e+43 erg / s\n",
      "\tLuminosity absorbed  = 3.577e+42 erg / s\n",
      "\tLuminosity requested = 1.059e+43 erg / s\n",
      " (\u001b[1mbase.py\u001b[0m:662)\n",
      "[\u001b[1mtardis.simulation.base\u001b[0m][\u001b[1;37mINFO\u001b[0m   ]  \n",
      "\t\n",
      "\tPlasma stratification: (\u001b[1mbase.py\u001b[0m:630)\n"
     ]
    },
    {
     "data": {
      "text/html": [
       "<style type=\"text/css\">\n",
       "</style>\n",
       "<table id=\"T_db65a\">\n",
       "  <thead>\n",
       "    <tr>\n",
       "      <th class=\"index_name level0\" >Shell No.</th>\n",
       "      <th id=\"T_db65a_level0_col0\" class=\"col_heading level0 col0\" >t_rad</th>\n",
       "      <th id=\"T_db65a_level0_col1\" class=\"col_heading level0 col1\" >next_t_rad</th>\n",
       "      <th id=\"T_db65a_level0_col2\" class=\"col_heading level0 col2\" >w</th>\n",
       "      <th id=\"T_db65a_level0_col3\" class=\"col_heading level0 col3\" >next_w</th>\n",
       "    </tr>\n",
       "  </thead>\n",
       "  <tbody>\n",
       "    <tr>\n",
       "      <th id=\"T_db65a_level0_row0\" class=\"row_heading level0 row0\" >0</th>\n",
       "      <td id=\"T_db65a_row0_col0\" class=\"data row0 col0\" >1.01e+04 K</td>\n",
       "      <td id=\"T_db65a_row0_col1\" class=\"data row0 col1\" >1.08e+04 K</td>\n",
       "      <td id=\"T_db65a_row0_col2\" class=\"data row0 col2\" >0.507</td>\n",
       "      <td id=\"T_db65a_row0_col3\" class=\"data row0 col3\" >0.524</td>\n",
       "    </tr>\n",
       "    <tr>\n",
       "      <th id=\"T_db65a_level0_row1\" class=\"row_heading level0 row1\" >5</th>\n",
       "      <td id=\"T_db65a_row1_col0\" class=\"data row1 col0\" >1.02e+04 K</td>\n",
       "      <td id=\"T_db65a_row1_col1\" class=\"data row1 col1\" >1.1e+04 K</td>\n",
       "      <td id=\"T_db65a_row1_col2\" class=\"data row1 col2\" >0.197</td>\n",
       "      <td id=\"T_db65a_row1_col3\" class=\"data row1 col3\" >0.202</td>\n",
       "    </tr>\n",
       "    <tr>\n",
       "      <th id=\"T_db65a_level0_row2\" class=\"row_heading level0 row2\" >10</th>\n",
       "      <td id=\"T_db65a_row2_col0\" class=\"data row2 col0\" >1.02e+04 K</td>\n",
       "      <td id=\"T_db65a_row2_col1\" class=\"data row2 col1\" >1.08e+04 K</td>\n",
       "      <td id=\"T_db65a_row2_col2\" class=\"data row2 col2\" >0.117</td>\n",
       "      <td id=\"T_db65a_row2_col3\" class=\"data row2 col3\" >0.124</td>\n",
       "    </tr>\n",
       "    <tr>\n",
       "      <th id=\"T_db65a_level0_row3\" class=\"row_heading level0 row3\" >15</th>\n",
       "      <td id=\"T_db65a_row3_col0\" class=\"data row3 col0\" >9.88e+03 K</td>\n",
       "      <td id=\"T_db65a_row3_col1\" class=\"data row3 col1\" >1.05e+04 K</td>\n",
       "      <td id=\"T_db65a_row3_col2\" class=\"data row3 col2\" >0.0868</td>\n",
       "      <td id=\"T_db65a_row3_col3\" class=\"data row3 col3\" >0.0926</td>\n",
       "    </tr>\n",
       "  </tbody>\n",
       "</table>\n"
      ],
      "text/plain": [
       "<pandas.io.formats.style.Styler at 0x7717503c6de0>"
      ]
     },
     "metadata": {},
     "output_type": "display_data"
    },
    {
     "name": "stdout",
     "output_type": "stream",
     "text": [
      "[\u001b[1mtardis.simulation.base\u001b[0m][\u001b[1;37mINFO\u001b[0m   ]  \n",
      "\t\n",
      "\tCurrent t_inner = 10703.327 K\n",
      "\tExpected t_inner for next iteration = 10673.709 K\n",
      " (\u001b[1mbase.py\u001b[0m:657)\n",
      "[\u001b[1mtardis.simulation.base\u001b[0m][\u001b[1;37mINFO\u001b[0m   ]  \n",
      "\t\n",
      "\tStarting iteration 3 of 20 (\u001b[1mbase.py\u001b[0m:444)\n",
      "[\u001b[1mtardis.simulation.base\u001b[0m][\u001b[1;37mINFO\u001b[0m   ]  \n",
      "\t\n",
      "\tLuminosity emitted   = 1.074e+43 erg / s\n",
      "\tLuminosity absorbed  = 3.397e+42 erg / s\n",
      "\tLuminosity requested = 1.059e+43 erg / s\n",
      " (\u001b[1mbase.py\u001b[0m:662)\n",
      "[\u001b[1mtardis.simulation.base\u001b[0m][\u001b[1;37mINFO\u001b[0m   ]  \n",
      "\tIteration converged 1/4 consecutive times. (\u001b[1mbase.py\u001b[0m:260)\n",
      "[\u001b[1mtardis.simulation.base\u001b[0m][\u001b[1;37mINFO\u001b[0m   ]  \n",
      "\t\n",
      "\tPlasma stratification: (\u001b[1mbase.py\u001b[0m:630)\n"
     ]
    },
    {
     "data": {
      "text/html": [
       "<style type=\"text/css\">\n",
       "</style>\n",
       "<table id=\"T_46aa7\">\n",
       "  <thead>\n",
       "    <tr>\n",
       "      <th class=\"index_name level0\" >Shell No.</th>\n",
       "      <th id=\"T_46aa7_level0_col0\" class=\"col_heading level0 col0\" >t_rad</th>\n",
       "      <th id=\"T_46aa7_level0_col1\" class=\"col_heading level0 col1\" >next_t_rad</th>\n",
       "      <th id=\"T_46aa7_level0_col2\" class=\"col_heading level0 col2\" >w</th>\n",
       "      <th id=\"T_46aa7_level0_col3\" class=\"col_heading level0 col3\" >next_w</th>\n",
       "    </tr>\n",
       "  </thead>\n",
       "  <tbody>\n",
       "    <tr>\n",
       "      <th id=\"T_46aa7_level0_row0\" class=\"row_heading level0 row0\" >0</th>\n",
       "      <td id=\"T_46aa7_row0_col0\" class=\"data row0 col0\" >1.08e+04 K</td>\n",
       "      <td id=\"T_46aa7_row0_col1\" class=\"data row0 col1\" >1.1e+04 K</td>\n",
       "      <td id=\"T_46aa7_row0_col2\" class=\"data row0 col2\" >0.524</td>\n",
       "      <td id=\"T_46aa7_row0_col3\" class=\"data row0 col3\" >0.484</td>\n",
       "    </tr>\n",
       "    <tr>\n",
       "      <th id=\"T_46aa7_level0_row1\" class=\"row_heading level0 row1\" >5</th>\n",
       "      <td id=\"T_46aa7_row1_col0\" class=\"data row1 col0\" >1.1e+04 K</td>\n",
       "      <td id=\"T_46aa7_row1_col1\" class=\"data row1 col1\" >1.12e+04 K</td>\n",
       "      <td id=\"T_46aa7_row1_col2\" class=\"data row1 col2\" >0.202</td>\n",
       "      <td id=\"T_46aa7_row1_col3\" class=\"data row1 col3\" >0.19</td>\n",
       "    </tr>\n",
       "    <tr>\n",
       "      <th id=\"T_46aa7_level0_row2\" class=\"row_heading level0 row2\" >10</th>\n",
       "      <td id=\"T_46aa7_row2_col0\" class=\"data row2 col0\" >1.08e+04 K</td>\n",
       "      <td id=\"T_46aa7_row2_col1\" class=\"data row2 col1\" >1.1e+04 K</td>\n",
       "      <td id=\"T_46aa7_row2_col2\" class=\"data row2 col2\" >0.124</td>\n",
       "      <td id=\"T_46aa7_row2_col3\" class=\"data row2 col3\" >0.118</td>\n",
       "    </tr>\n",
       "    <tr>\n",
       "      <th id=\"T_46aa7_level0_row3\" class=\"row_heading level0 row3\" >15</th>\n",
       "      <td id=\"T_46aa7_row3_col0\" class=\"data row3 col0\" >1.05e+04 K</td>\n",
       "      <td id=\"T_46aa7_row3_col1\" class=\"data row3 col1\" >1.06e+04 K</td>\n",
       "      <td id=\"T_46aa7_row3_col2\" class=\"data row3 col2\" >0.0926</td>\n",
       "      <td id=\"T_46aa7_row3_col3\" class=\"data row3 col3\" >0.0894</td>\n",
       "    </tr>\n",
       "  </tbody>\n",
       "</table>\n"
      ],
      "text/plain": [
       "<pandas.io.formats.style.Styler at 0x77172ba06a50>"
      ]
     },
     "metadata": {},
     "output_type": "display_data"
    },
    {
     "name": "stdout",
     "output_type": "stream",
     "text": [
      "[\u001b[1mtardis.simulation.base\u001b[0m][\u001b[1;37mINFO\u001b[0m   ]  \n",
      "\t\n",
      "\tCurrent t_inner = 10673.709 K\n",
      "\tExpected t_inner for next iteration = 10637.548 K\n",
      " (\u001b[1mbase.py\u001b[0m:657)\n",
      "[\u001b[1mtardis.simulation.base\u001b[0m][\u001b[1;37mINFO\u001b[0m   ]  \n",
      "\t\n",
      "\tStarting iteration 4 of 20 (\u001b[1mbase.py\u001b[0m:444)\n",
      "[\u001b[1mtardis.simulation.base\u001b[0m][\u001b[1;37mINFO\u001b[0m   ]  \n",
      "\t\n",
      "\tLuminosity emitted   = 1.058e+43 erg / s\n",
      "\tLuminosity absorbed  = 3.365e+42 erg / s\n",
      "\tLuminosity requested = 1.059e+43 erg / s\n",
      " (\u001b[1mbase.py\u001b[0m:662)\n",
      "[\u001b[1mtardis.simulation.base\u001b[0m][\u001b[1;37mINFO\u001b[0m   ]  \n",
      "\tIteration converged 2/4 consecutive times. (\u001b[1mbase.py\u001b[0m:260)\n",
      "[\u001b[1mtardis.simulation.base\u001b[0m][\u001b[1;37mINFO\u001b[0m   ]  \n",
      "\t\n",
      "\tPlasma stratification: (\u001b[1mbase.py\u001b[0m:630)\n"
     ]
    },
    {
     "data": {
      "text/html": [
       "<style type=\"text/css\">\n",
       "</style>\n",
       "<table id=\"T_a3678\">\n",
       "  <thead>\n",
       "    <tr>\n",
       "      <th class=\"index_name level0\" >Shell No.</th>\n",
       "      <th id=\"T_a3678_level0_col0\" class=\"col_heading level0 col0\" >t_rad</th>\n",
       "      <th id=\"T_a3678_level0_col1\" class=\"col_heading level0 col1\" >next_t_rad</th>\n",
       "      <th id=\"T_a3678_level0_col2\" class=\"col_heading level0 col2\" >w</th>\n",
       "      <th id=\"T_a3678_level0_col3\" class=\"col_heading level0 col3\" >next_w</th>\n",
       "    </tr>\n",
       "  </thead>\n",
       "  <tbody>\n",
       "    <tr>\n",
       "      <th id=\"T_a3678_level0_row0\" class=\"row_heading level0 row0\" >0</th>\n",
       "      <td id=\"T_a3678_row0_col0\" class=\"data row0 col0\" >1.1e+04 K</td>\n",
       "      <td id=\"T_a3678_row0_col1\" class=\"data row0 col1\" >1.1e+04 K</td>\n",
       "      <td id=\"T_a3678_row0_col2\" class=\"data row0 col2\" >0.484</td>\n",
       "      <td id=\"T_a3678_row0_col3\" class=\"data row0 col3\" >0.471</td>\n",
       "    </tr>\n",
       "    <tr>\n",
       "      <th id=\"T_a3678_level0_row1\" class=\"row_heading level0 row1\" >5</th>\n",
       "      <td id=\"T_a3678_row1_col0\" class=\"data row1 col0\" >1.12e+04 K</td>\n",
       "      <td id=\"T_a3678_row1_col1\" class=\"data row1 col1\" >1.13e+04 K</td>\n",
       "      <td id=\"T_a3678_row1_col2\" class=\"data row1 col2\" >0.19</td>\n",
       "      <td id=\"T_a3678_row1_col3\" class=\"data row1 col3\" >0.181</td>\n",
       "    </tr>\n",
       "    <tr>\n",
       "      <th id=\"T_a3678_level0_row2\" class=\"row_heading level0 row2\" >10</th>\n",
       "      <td id=\"T_a3678_row2_col0\" class=\"data row2 col0\" >1.1e+04 K</td>\n",
       "      <td id=\"T_a3678_row2_col1\" class=\"data row2 col1\" >1.1e+04 K</td>\n",
       "      <td id=\"T_a3678_row2_col2\" class=\"data row2 col2\" >0.118</td>\n",
       "      <td id=\"T_a3678_row2_col3\" class=\"data row2 col3\" >0.113</td>\n",
       "    </tr>\n",
       "    <tr>\n",
       "      <th id=\"T_a3678_level0_row3\" class=\"row_heading level0 row3\" >15</th>\n",
       "      <td id=\"T_a3678_row3_col0\" class=\"data row3 col0\" >1.06e+04 K</td>\n",
       "      <td id=\"T_a3678_row3_col1\" class=\"data row3 col1\" >1.07e+04 K</td>\n",
       "      <td id=\"T_a3678_row3_col2\" class=\"data row3 col2\" >0.0894</td>\n",
       "      <td id=\"T_a3678_row3_col3\" class=\"data row3 col3\" >0.0851</td>\n",
       "    </tr>\n",
       "  </tbody>\n",
       "</table>\n"
      ],
      "text/plain": [
       "<pandas.io.formats.style.Styler at 0x77173020d730>"
      ]
     },
     "metadata": {},
     "output_type": "display_data"
    },
    {
     "name": "stdout",
     "output_type": "stream",
     "text": [
      "[\u001b[1mtardis.simulation.base\u001b[0m][\u001b[1;37mINFO\u001b[0m   ]  \n",
      "\t\n",
      "\tCurrent t_inner = 10637.548 K\n",
      "\tExpected t_inner for next iteration = 10641.159 K\n",
      " (\u001b[1mbase.py\u001b[0m:657)\n",
      "[\u001b[1mtardis.simulation.base\u001b[0m][\u001b[1;37mINFO\u001b[0m   ]  \n",
      "\t\n",
      "\tStarting iteration 5 of 20 (\u001b[1mbase.py\u001b[0m:444)\n",
      "[\u001b[1mtardis.simulation.base\u001b[0m][\u001b[1;37mINFO\u001b[0m   ]  \n",
      "\t\n",
      "\tLuminosity emitted   = 1.057e+43 erg / s\n",
      "\tLuminosity absorbed  = 3.391e+42 erg / s\n",
      "\tLuminosity requested = 1.059e+43 erg / s\n",
      " (\u001b[1mbase.py\u001b[0m:662)\n",
      "[\u001b[1mtardis.simulation.base\u001b[0m][\u001b[1;37mINFO\u001b[0m   ]  \n",
      "\tIteration converged 3/4 consecutive times. (\u001b[1mbase.py\u001b[0m:260)\n",
      "[\u001b[1mtardis.simulation.base\u001b[0m][\u001b[1;37mINFO\u001b[0m   ]  \n",
      "\t\n",
      "\tPlasma stratification: (\u001b[1mbase.py\u001b[0m:630)\n"
     ]
    },
    {
     "data": {
      "text/html": [
       "<style type=\"text/css\">\n",
       "</style>\n",
       "<table id=\"T_eb05c\">\n",
       "  <thead>\n",
       "    <tr>\n",
       "      <th class=\"index_name level0\" >Shell No.</th>\n",
       "      <th id=\"T_eb05c_level0_col0\" class=\"col_heading level0 col0\" >t_rad</th>\n",
       "      <th id=\"T_eb05c_level0_col1\" class=\"col_heading level0 col1\" >next_t_rad</th>\n",
       "      <th id=\"T_eb05c_level0_col2\" class=\"col_heading level0 col2\" >w</th>\n",
       "      <th id=\"T_eb05c_level0_col3\" class=\"col_heading level0 col3\" >next_w</th>\n",
       "    </tr>\n",
       "  </thead>\n",
       "  <tbody>\n",
       "    <tr>\n",
       "      <th id=\"T_eb05c_level0_row0\" class=\"row_heading level0 row0\" >0</th>\n",
       "      <td id=\"T_eb05c_row0_col0\" class=\"data row0 col0\" >1.1e+04 K</td>\n",
       "      <td id=\"T_eb05c_row0_col1\" class=\"data row0 col1\" >1.1e+04 K</td>\n",
       "      <td id=\"T_eb05c_row0_col2\" class=\"data row0 col2\" >0.471</td>\n",
       "      <td id=\"T_eb05c_row0_col3\" class=\"data row0 col3\" >0.48</td>\n",
       "    </tr>\n",
       "    <tr>\n",
       "      <th id=\"T_eb05c_level0_row1\" class=\"row_heading level0 row1\" >5</th>\n",
       "      <td id=\"T_eb05c_row1_col0\" class=\"data row1 col0\" >1.13e+04 K</td>\n",
       "      <td id=\"T_eb05c_row1_col1\" class=\"data row1 col1\" >1.13e+04 K</td>\n",
       "      <td id=\"T_eb05c_row1_col2\" class=\"data row1 col2\" >0.181</td>\n",
       "      <td id=\"T_eb05c_row1_col3\" class=\"data row1 col3\" >0.179</td>\n",
       "    </tr>\n",
       "    <tr>\n",
       "      <th id=\"T_eb05c_level0_row2\" class=\"row_heading level0 row2\" >10</th>\n",
       "      <td id=\"T_eb05c_row2_col0\" class=\"data row2 col0\" >1.1e+04 K</td>\n",
       "      <td id=\"T_eb05c_row2_col1\" class=\"data row2 col1\" >1.1e+04 K</td>\n",
       "      <td id=\"T_eb05c_row2_col2\" class=\"data row2 col2\" >0.113</td>\n",
       "      <td id=\"T_eb05c_row2_col3\" class=\"data row2 col3\" >0.115</td>\n",
       "    </tr>\n",
       "    <tr>\n",
       "      <th id=\"T_eb05c_level0_row3\" class=\"row_heading level0 row3\" >15</th>\n",
       "      <td id=\"T_eb05c_row3_col0\" class=\"data row3 col0\" >1.07e+04 K</td>\n",
       "      <td id=\"T_eb05c_row3_col1\" class=\"data row3 col1\" >1.07e+04 K</td>\n",
       "      <td id=\"T_eb05c_row3_col2\" class=\"data row3 col2\" >0.0851</td>\n",
       "      <td id=\"T_eb05c_row3_col3\" class=\"data row3 col3\" >0.0838</td>\n",
       "    </tr>\n",
       "  </tbody>\n",
       "</table>\n"
      ],
      "text/plain": [
       "<pandas.io.formats.style.Styler at 0x77173020de50>"
      ]
     },
     "metadata": {},
     "output_type": "display_data"
    },
    {
     "name": "stdout",
     "output_type": "stream",
     "text": [
      "[\u001b[1mtardis.simulation.base\u001b[0m][\u001b[1;37mINFO\u001b[0m   ]  \n",
      "\t\n",
      "\tCurrent t_inner = 10641.159 K\n",
      "\tExpected t_inner for next iteration = 10647.218 K\n",
      " (\u001b[1mbase.py\u001b[0m:657)\n",
      "[\u001b[1mtardis.simulation.base\u001b[0m][\u001b[1;37mINFO\u001b[0m   ]  \n",
      "\t\n",
      "\tStarting iteration 6 of 20 (\u001b[1mbase.py\u001b[0m:444)\n",
      "[\u001b[1mtardis.simulation.base\u001b[0m][\u001b[1;37mINFO\u001b[0m   ]  \n",
      "\t\n",
      "\tLuminosity emitted   = 1.060e+43 erg / s\n",
      "\tLuminosity absorbed  = 3.394e+42 erg / s\n",
      "\tLuminosity requested = 1.059e+43 erg / s\n",
      " (\u001b[1mbase.py\u001b[0m:662)\n",
      "[\u001b[1mtardis.simulation.base\u001b[0m][\u001b[1;37mINFO\u001b[0m   ]  \n",
      "\tIteration converged 4/4 consecutive times. (\u001b[1mbase.py\u001b[0m:260)\n",
      "[\u001b[1mtardis.simulation.base\u001b[0m][\u001b[1;37mINFO\u001b[0m   ]  \n",
      "\t\n",
      "\tPlasma stratification: (\u001b[1mbase.py\u001b[0m:630)\n"
     ]
    },
    {
     "data": {
      "text/html": [
       "<style type=\"text/css\">\n",
       "</style>\n",
       "<table id=\"T_8629f\">\n",
       "  <thead>\n",
       "    <tr>\n",
       "      <th class=\"index_name level0\" >Shell No.</th>\n",
       "      <th id=\"T_8629f_level0_col0\" class=\"col_heading level0 col0\" >t_rad</th>\n",
       "      <th id=\"T_8629f_level0_col1\" class=\"col_heading level0 col1\" >next_t_rad</th>\n",
       "      <th id=\"T_8629f_level0_col2\" class=\"col_heading level0 col2\" >w</th>\n",
       "      <th id=\"T_8629f_level0_col3\" class=\"col_heading level0 col3\" >next_w</th>\n",
       "    </tr>\n",
       "  </thead>\n",
       "  <tbody>\n",
       "    <tr>\n",
       "      <th id=\"T_8629f_level0_row0\" class=\"row_heading level0 row0\" >0</th>\n",
       "      <td id=\"T_8629f_row0_col0\" class=\"data row0 col0\" >1.1e+04 K</td>\n",
       "      <td id=\"T_8629f_row0_col1\" class=\"data row0 col1\" >1.11e+04 K</td>\n",
       "      <td id=\"T_8629f_row0_col2\" class=\"data row0 col2\" >0.48</td>\n",
       "      <td id=\"T_8629f_row0_col3\" class=\"data row0 col3\" >0.466</td>\n",
       "    </tr>\n",
       "    <tr>\n",
       "      <th id=\"T_8629f_level0_row1\" class=\"row_heading level0 row1\" >5</th>\n",
       "      <td id=\"T_8629f_row1_col0\" class=\"data row1 col0\" >1.13e+04 K</td>\n",
       "      <td id=\"T_8629f_row1_col1\" class=\"data row1 col1\" >1.13e+04 K</td>\n",
       "      <td id=\"T_8629f_row1_col2\" class=\"data row1 col2\" >0.179</td>\n",
       "      <td id=\"T_8629f_row1_col3\" class=\"data row1 col3\" >0.182</td>\n",
       "    </tr>\n",
       "    <tr>\n",
       "      <th id=\"T_8629f_level0_row2\" class=\"row_heading level0 row2\" >10</th>\n",
       "      <td id=\"T_8629f_row2_col0\" class=\"data row2 col0\" >1.1e+04 K</td>\n",
       "      <td id=\"T_8629f_row2_col1\" class=\"data row2 col1\" >1.1e+04 K</td>\n",
       "      <td id=\"T_8629f_row2_col2\" class=\"data row2 col2\" >0.115</td>\n",
       "      <td id=\"T_8629f_row2_col3\" class=\"data row2 col3\" >0.115</td>\n",
       "    </tr>\n",
       "    <tr>\n",
       "      <th id=\"T_8629f_level0_row3\" class=\"row_heading level0 row3\" >15</th>\n",
       "      <td id=\"T_8629f_row3_col0\" class=\"data row3 col0\" >1.07e+04 K</td>\n",
       "      <td id=\"T_8629f_row3_col1\" class=\"data row3 col1\" >1.07e+04 K</td>\n",
       "      <td id=\"T_8629f_row3_col2\" class=\"data row3 col2\" >0.0838</td>\n",
       "      <td id=\"T_8629f_row3_col3\" class=\"data row3 col3\" >0.0853</td>\n",
       "    </tr>\n",
       "  </tbody>\n",
       "</table>\n"
      ],
      "text/plain": [
       "<pandas.io.formats.style.Styler at 0x77172bbe97c0>"
      ]
     },
     "metadata": {},
     "output_type": "display_data"
    },
    {
     "name": "stdout",
     "output_type": "stream",
     "text": [
      "[\u001b[1mtardis.simulation.base\u001b[0m][\u001b[1;37mINFO\u001b[0m   ]  \n",
      "\t\n",
      "\tCurrent t_inner = 10647.218 K\n",
      "\tExpected t_inner for next iteration = 10645.645 K\n",
      " (\u001b[1mbase.py\u001b[0m:657)\n",
      "[\u001b[1mtardis.simulation.base\u001b[0m][\u001b[1;37mINFO\u001b[0m   ]  \n",
      "\t\n",
      "\tStarting iteration 7 of 20 (\u001b[1mbase.py\u001b[0m:444)\n",
      "[\u001b[1mtardis.simulation.base\u001b[0m][\u001b[1;37mINFO\u001b[0m   ]  \n",
      "\t\n",
      "\tLuminosity emitted   = 1.060e+43 erg / s\n",
      "\tLuminosity absorbed  = 3.389e+42 erg / s\n",
      "\tLuminosity requested = 1.059e+43 erg / s\n",
      " (\u001b[1mbase.py\u001b[0m:662)\n",
      "[\u001b[1mtardis.simulation.base\u001b[0m][\u001b[1;37mINFO\u001b[0m   ]  \n",
      "\tIteration converged 5/4 consecutive times. (\u001b[1mbase.py\u001b[0m:260)\n",
      "[\u001b[1mtardis.simulation.base\u001b[0m][\u001b[1;37mINFO\u001b[0m   ]  \n",
      "\t\n",
      "\tPlasma stratification: (\u001b[1mbase.py\u001b[0m:630)\n"
     ]
    },
    {
     "data": {
      "text/html": [
       "<style type=\"text/css\">\n",
       "</style>\n",
       "<table id=\"T_ef882\">\n",
       "  <thead>\n",
       "    <tr>\n",
       "      <th class=\"index_name level0\" >Shell No.</th>\n",
       "      <th id=\"T_ef882_level0_col0\" class=\"col_heading level0 col0\" >t_rad</th>\n",
       "      <th id=\"T_ef882_level0_col1\" class=\"col_heading level0 col1\" >next_t_rad</th>\n",
       "      <th id=\"T_ef882_level0_col2\" class=\"col_heading level0 col2\" >w</th>\n",
       "      <th id=\"T_ef882_level0_col3\" class=\"col_heading level0 col3\" >next_w</th>\n",
       "    </tr>\n",
       "  </thead>\n",
       "  <tbody>\n",
       "    <tr>\n",
       "      <th id=\"T_ef882_level0_row0\" class=\"row_heading level0 row0\" >0</th>\n",
       "      <td id=\"T_ef882_row0_col0\" class=\"data row0 col0\" >1.11e+04 K</td>\n",
       "      <td id=\"T_ef882_row0_col1\" class=\"data row0 col1\" >1.1e+04 K</td>\n",
       "      <td id=\"T_ef882_row0_col2\" class=\"data row0 col2\" >0.466</td>\n",
       "      <td id=\"T_ef882_row0_col3\" class=\"data row0 col3\" >0.469</td>\n",
       "    </tr>\n",
       "    <tr>\n",
       "      <th id=\"T_ef882_level0_row1\" class=\"row_heading level0 row1\" >5</th>\n",
       "      <td id=\"T_ef882_row1_col0\" class=\"data row1 col0\" >1.13e+04 K</td>\n",
       "      <td id=\"T_ef882_row1_col1\" class=\"data row1 col1\" >1.14e+04 K</td>\n",
       "      <td id=\"T_ef882_row1_col2\" class=\"data row1 col2\" >0.182</td>\n",
       "      <td id=\"T_ef882_row1_col3\" class=\"data row1 col3\" >0.173</td>\n",
       "    </tr>\n",
       "    <tr>\n",
       "      <th id=\"T_ef882_level0_row2\" class=\"row_heading level0 row2\" >10</th>\n",
       "      <td id=\"T_ef882_row2_col0\" class=\"data row2 col0\" >1.1e+04 K</td>\n",
       "      <td id=\"T_ef882_row2_col1\" class=\"data row2 col1\" >1.1e+04 K</td>\n",
       "      <td id=\"T_ef882_row2_col2\" class=\"data row2 col2\" >0.115</td>\n",
       "      <td id=\"T_ef882_row2_col3\" class=\"data row2 col3\" >0.113</td>\n",
       "    </tr>\n",
       "    <tr>\n",
       "      <th id=\"T_ef882_level0_row3\" class=\"row_heading level0 row3\" >15</th>\n",
       "      <td id=\"T_ef882_row3_col0\" class=\"data row3 col0\" >1.07e+04 K</td>\n",
       "      <td id=\"T_ef882_row3_col1\" class=\"data row3 col1\" >1.06e+04 K</td>\n",
       "      <td id=\"T_ef882_row3_col2\" class=\"data row3 col2\" >0.0853</td>\n",
       "      <td id=\"T_ef882_row3_col3\" class=\"data row3 col3\" >0.0865</td>\n",
       "    </tr>\n",
       "  </tbody>\n",
       "</table>\n"
      ],
      "text/plain": [
       "<pandas.io.formats.style.Styler at 0x77172bb85100>"
      ]
     },
     "metadata": {},
     "output_type": "display_data"
    },
    {
     "name": "stdout",
     "output_type": "stream",
     "text": [
      "[\u001b[1mtardis.simulation.base\u001b[0m][\u001b[1;37mINFO\u001b[0m   ]  \n",
      "\t\n",
      "\tCurrent t_inner = 10645.645 K\n",
      "\tExpected t_inner for next iteration = 10644.007 K\n",
      " (\u001b[1mbase.py\u001b[0m:657)\n",
      "[\u001b[1mtardis.simulation.base\u001b[0m][\u001b[1;37mINFO\u001b[0m   ]  \n",
      "\t\n",
      "\tStarting iteration 8 of 20 (\u001b[1mbase.py\u001b[0m:444)\n",
      "[\u001b[1mtardis.simulation.base\u001b[0m][\u001b[1;37mINFO\u001b[0m   ]  \n",
      "\t\n",
      "\tLuminosity emitted   = 1.062e+43 erg / s\n",
      "\tLuminosity absorbed  = 3.356e+42 erg / s\n",
      "\tLuminosity requested = 1.059e+43 erg / s\n",
      " (\u001b[1mbase.py\u001b[0m:662)\n",
      "[\u001b[1mtardis.simulation.base\u001b[0m][\u001b[1;37mINFO\u001b[0m   ]  \n",
      "\tIteration converged 6/4 consecutive times. (\u001b[1mbase.py\u001b[0m:260)\n",
      "[\u001b[1mtardis.simulation.base\u001b[0m][\u001b[1;37mINFO\u001b[0m   ]  \n",
      "\t\n",
      "\tPlasma stratification: (\u001b[1mbase.py\u001b[0m:630)\n"
     ]
    },
    {
     "data": {
      "text/html": [
       "<style type=\"text/css\">\n",
       "</style>\n",
       "<table id=\"T_974bb\">\n",
       "  <thead>\n",
       "    <tr>\n",
       "      <th class=\"index_name level0\" >Shell No.</th>\n",
       "      <th id=\"T_974bb_level0_col0\" class=\"col_heading level0 col0\" >t_rad</th>\n",
       "      <th id=\"T_974bb_level0_col1\" class=\"col_heading level0 col1\" >next_t_rad</th>\n",
       "      <th id=\"T_974bb_level0_col2\" class=\"col_heading level0 col2\" >w</th>\n",
       "      <th id=\"T_974bb_level0_col3\" class=\"col_heading level0 col3\" >next_w</th>\n",
       "    </tr>\n",
       "  </thead>\n",
       "  <tbody>\n",
       "    <tr>\n",
       "      <th id=\"T_974bb_level0_row0\" class=\"row_heading level0 row0\" >0</th>\n",
       "      <td id=\"T_974bb_row0_col0\" class=\"data row0 col0\" >1.1e+04 K</td>\n",
       "      <td id=\"T_974bb_row0_col1\" class=\"data row0 col1\" >1.11e+04 K</td>\n",
       "      <td id=\"T_974bb_row0_col2\" class=\"data row0 col2\" >0.469</td>\n",
       "      <td id=\"T_974bb_row0_col3\" class=\"data row0 col3\" >0.47</td>\n",
       "    </tr>\n",
       "    <tr>\n",
       "      <th id=\"T_974bb_level0_row1\" class=\"row_heading level0 row1\" >5</th>\n",
       "      <td id=\"T_974bb_row1_col0\" class=\"data row1 col0\" >1.14e+04 K</td>\n",
       "      <td id=\"T_974bb_row1_col1\" class=\"data row1 col1\" >1.13e+04 K</td>\n",
       "      <td id=\"T_974bb_row1_col2\" class=\"data row1 col2\" >0.173</td>\n",
       "      <td id=\"T_974bb_row1_col3\" class=\"data row1 col3\" >0.178</td>\n",
       "    </tr>\n",
       "    <tr>\n",
       "      <th id=\"T_974bb_level0_row2\" class=\"row_heading level0 row2\" >10</th>\n",
       "      <td id=\"T_974bb_row2_col0\" class=\"data row2 col0\" >1.1e+04 K</td>\n",
       "      <td id=\"T_974bb_row2_col1\" class=\"data row2 col1\" >1.11e+04 K</td>\n",
       "      <td id=\"T_974bb_row2_col2\" class=\"data row2 col2\" >0.113</td>\n",
       "      <td id=\"T_974bb_row2_col3\" class=\"data row2 col3\" >0.112</td>\n",
       "    </tr>\n",
       "    <tr>\n",
       "      <th id=\"T_974bb_level0_row3\" class=\"row_heading level0 row3\" >15</th>\n",
       "      <td id=\"T_974bb_row3_col0\" class=\"data row3 col0\" >1.06e+04 K</td>\n",
       "      <td id=\"T_974bb_row3_col1\" class=\"data row3 col1\" >1.07e+04 K</td>\n",
       "      <td id=\"T_974bb_row3_col2\" class=\"data row3 col2\" >0.0865</td>\n",
       "      <td id=\"T_974bb_row3_col3\" class=\"data row3 col3\" >0.0836</td>\n",
       "    </tr>\n",
       "  </tbody>\n",
       "</table>\n"
      ],
      "text/plain": [
       "<pandas.io.formats.style.Styler at 0x77172baf5e50>"
      ]
     },
     "metadata": {},
     "output_type": "display_data"
    },
    {
     "name": "stdout",
     "output_type": "stream",
     "text": [
      "[\u001b[1mtardis.simulation.base\u001b[0m][\u001b[1;37mINFO\u001b[0m   ]  \n",
      "\t\n",
      "\tCurrent t_inner = 10644.007 K\n",
      "\tExpected t_inner for next iteration = 10636.775 K\n",
      " (\u001b[1mbase.py\u001b[0m:657)\n",
      "[\u001b[1mtardis.simulation.base\u001b[0m][\u001b[1;37mINFO\u001b[0m   ]  \n",
      "\t\n",
      "\tStarting iteration 9 of 20 (\u001b[1mbase.py\u001b[0m:444)\n",
      "[\u001b[1mtardis.simulation.base\u001b[0m][\u001b[1;37mINFO\u001b[0m   ]  \n",
      "\t\n",
      "\tLuminosity emitted   = 1.053e+43 erg / s\n",
      "\tLuminosity absorbed  = 3.409e+42 erg / s\n",
      "\tLuminosity requested = 1.059e+43 erg / s\n",
      " (\u001b[1mbase.py\u001b[0m:662)\n",
      "[\u001b[1mtardis.simulation.base\u001b[0m][\u001b[1;37mINFO\u001b[0m   ]  \n",
      "\tIteration converged 7/4 consecutive times. (\u001b[1mbase.py\u001b[0m:260)\n",
      "[\u001b[1mtardis.simulation.base\u001b[0m][\u001b[1;37mINFO\u001b[0m   ]  \n",
      "\t\n",
      "\tPlasma stratification: (\u001b[1mbase.py\u001b[0m:630)\n"
     ]
    },
    {
     "data": {
      "text/html": [
       "<style type=\"text/css\">\n",
       "</style>\n",
       "<table id=\"T_96dd7\">\n",
       "  <thead>\n",
       "    <tr>\n",
       "      <th class=\"index_name level0\" >Shell No.</th>\n",
       "      <th id=\"T_96dd7_level0_col0\" class=\"col_heading level0 col0\" >t_rad</th>\n",
       "      <th id=\"T_96dd7_level0_col1\" class=\"col_heading level0 col1\" >next_t_rad</th>\n",
       "      <th id=\"T_96dd7_level0_col2\" class=\"col_heading level0 col2\" >w</th>\n",
       "      <th id=\"T_96dd7_level0_col3\" class=\"col_heading level0 col3\" >next_w</th>\n",
       "    </tr>\n",
       "  </thead>\n",
       "  <tbody>\n",
       "    <tr>\n",
       "      <th id=\"T_96dd7_level0_row0\" class=\"row_heading level0 row0\" >0</th>\n",
       "      <td id=\"T_96dd7_row0_col0\" class=\"data row0 col0\" >1.11e+04 K</td>\n",
       "      <td id=\"T_96dd7_row0_col1\" class=\"data row0 col1\" >1.1e+04 K</td>\n",
       "      <td id=\"T_96dd7_row0_col2\" class=\"data row0 col2\" >0.47</td>\n",
       "      <td id=\"T_96dd7_row0_col3\" class=\"data row0 col3\" >0.471</td>\n",
       "    </tr>\n",
       "    <tr>\n",
       "      <th id=\"T_96dd7_level0_row1\" class=\"row_heading level0 row1\" >5</th>\n",
       "      <td id=\"T_96dd7_row1_col0\" class=\"data row1 col0\" >1.13e+04 K</td>\n",
       "      <td id=\"T_96dd7_row1_col1\" class=\"data row1 col1\" >1.14e+04 K</td>\n",
       "      <td id=\"T_96dd7_row1_col2\" class=\"data row1 col2\" >0.178</td>\n",
       "      <td id=\"T_96dd7_row1_col3\" class=\"data row1 col3\" >0.172</td>\n",
       "    </tr>\n",
       "    <tr>\n",
       "      <th id=\"T_96dd7_level0_row2\" class=\"row_heading level0 row2\" >10</th>\n",
       "      <td id=\"T_96dd7_row2_col0\" class=\"data row2 col0\" >1.11e+04 K</td>\n",
       "      <td id=\"T_96dd7_row2_col1\" class=\"data row2 col1\" >1.12e+04 K</td>\n",
       "      <td id=\"T_96dd7_row2_col2\" class=\"data row2 col2\" >0.112</td>\n",
       "      <td id=\"T_96dd7_row2_col3\" class=\"data row2 col3\" >0.109</td>\n",
       "    </tr>\n",
       "    <tr>\n",
       "      <th id=\"T_96dd7_level0_row3\" class=\"row_heading level0 row3\" >15</th>\n",
       "      <td id=\"T_96dd7_row3_col0\" class=\"data row3 col0\" >1.07e+04 K</td>\n",
       "      <td id=\"T_96dd7_row3_col1\" class=\"data row3 col1\" >1.07e+04 K</td>\n",
       "      <td id=\"T_96dd7_row3_col2\" class=\"data row3 col2\" >0.0836</td>\n",
       "      <td id=\"T_96dd7_row3_col3\" class=\"data row3 col3\" >0.0836</td>\n",
       "    </tr>\n",
       "  </tbody>\n",
       "</table>\n"
      ],
      "text/plain": [
       "<pandas.io.formats.style.Styler at 0x7717363e16d0>"
      ]
     },
     "metadata": {},
     "output_type": "display_data"
    },
    {
     "name": "stdout",
     "output_type": "stream",
     "text": [
      "[\u001b[1mtardis.simulation.base\u001b[0m][\u001b[1;37mINFO\u001b[0m   ]  \n",
      "\t\n",
      "\tCurrent t_inner = 10636.775 K\n",
      "\tExpected t_inner for next iteration = 10653.396 K\n",
      " (\u001b[1mbase.py\u001b[0m:657)\n",
      "[\u001b[1mtardis.simulation.base\u001b[0m][\u001b[1;37mINFO\u001b[0m   ]  \n",
      "\t\n",
      "\tStarting iteration 10 of 20 (\u001b[1mbase.py\u001b[0m:444)\n",
      "[\u001b[1mtardis.simulation.base\u001b[0m][\u001b[1;37mINFO\u001b[0m   ]  \n",
      "\t\n",
      "\tLuminosity emitted   = 1.071e+43 erg / s\n",
      "\tLuminosity absorbed  = 3.320e+42 erg / s\n",
      "\tLuminosity requested = 1.059e+43 erg / s\n",
      " (\u001b[1mbase.py\u001b[0m:662)\n",
      "[\u001b[1mtardis.simulation.base\u001b[0m][\u001b[1;37mINFO\u001b[0m   ]  \n",
      "\tIteration converged 8/4 consecutive times. (\u001b[1mbase.py\u001b[0m:260)\n",
      "[\u001b[1mtardis.simulation.base\u001b[0m][\u001b[1;37mINFO\u001b[0m   ]  \n",
      "\t\n",
      "\tPlasma stratification: (\u001b[1mbase.py\u001b[0m:630)\n"
     ]
    },
    {
     "data": {
      "text/html": [
       "<style type=\"text/css\">\n",
       "</style>\n",
       "<table id=\"T_d598a\">\n",
       "  <thead>\n",
       "    <tr>\n",
       "      <th class=\"index_name level0\" >Shell No.</th>\n",
       "      <th id=\"T_d598a_level0_col0\" class=\"col_heading level0 col0\" >t_rad</th>\n",
       "      <th id=\"T_d598a_level0_col1\" class=\"col_heading level0 col1\" >next_t_rad</th>\n",
       "      <th id=\"T_d598a_level0_col2\" class=\"col_heading level0 col2\" >w</th>\n",
       "      <th id=\"T_d598a_level0_col3\" class=\"col_heading level0 col3\" >next_w</th>\n",
       "    </tr>\n",
       "  </thead>\n",
       "  <tbody>\n",
       "    <tr>\n",
       "      <th id=\"T_d598a_level0_row0\" class=\"row_heading level0 row0\" >0</th>\n",
       "      <td id=\"T_d598a_row0_col0\" class=\"data row0 col0\" >1.1e+04 K</td>\n",
       "      <td id=\"T_d598a_row0_col1\" class=\"data row0 col1\" >1.1e+04 K</td>\n",
       "      <td id=\"T_d598a_row0_col2\" class=\"data row0 col2\" >0.471</td>\n",
       "      <td id=\"T_d598a_row0_col3\" class=\"data row0 col3\" >0.477</td>\n",
       "    </tr>\n",
       "    <tr>\n",
       "      <th id=\"T_d598a_level0_row1\" class=\"row_heading level0 row1\" >5</th>\n",
       "      <td id=\"T_d598a_row1_col0\" class=\"data row1 col0\" >1.14e+04 K</td>\n",
       "      <td id=\"T_d598a_row1_col1\" class=\"data row1 col1\" >1.14e+04 K</td>\n",
       "      <td id=\"T_d598a_row1_col2\" class=\"data row1 col2\" >0.172</td>\n",
       "      <td id=\"T_d598a_row1_col3\" class=\"data row1 col3\" >0.178</td>\n",
       "    </tr>\n",
       "    <tr>\n",
       "      <th id=\"T_d598a_level0_row2\" class=\"row_heading level0 row2\" >10</th>\n",
       "      <td id=\"T_d598a_row2_col0\" class=\"data row2 col0\" >1.12e+04 K</td>\n",
       "      <td id=\"T_d598a_row2_col1\" class=\"data row2 col1\" >1.11e+04 K</td>\n",
       "      <td id=\"T_d598a_row2_col2\" class=\"data row2 col2\" >0.109</td>\n",
       "      <td id=\"T_d598a_row2_col3\" class=\"data row2 col3\" >0.114</td>\n",
       "    </tr>\n",
       "    <tr>\n",
       "      <th id=\"T_d598a_level0_row3\" class=\"row_heading level0 row3\" >15</th>\n",
       "      <td id=\"T_d598a_row3_col0\" class=\"data row3 col0\" >1.07e+04 K</td>\n",
       "      <td id=\"T_d598a_row3_col1\" class=\"data row3 col1\" >1.06e+04 K</td>\n",
       "      <td id=\"T_d598a_row3_col2\" class=\"data row3 col2\" >0.0836</td>\n",
       "      <td id=\"T_d598a_row3_col3\" class=\"data row3 col3\" >0.0872</td>\n",
       "    </tr>\n",
       "  </tbody>\n",
       "</table>\n"
      ],
      "text/plain": [
       "<pandas.io.formats.style.Styler at 0x77172ba06de0>"
      ]
     },
     "metadata": {},
     "output_type": "display_data"
    },
    {
     "name": "stdout",
     "output_type": "stream",
     "text": [
      "[\u001b[1mtardis.simulation.base\u001b[0m][\u001b[1;37mINFO\u001b[0m   ]  \n",
      "\t\n",
      "\tCurrent t_inner = 10653.396 K\n",
      "\tExpected t_inner for next iteration = 10624.877 K\n",
      " (\u001b[1mbase.py\u001b[0m:657)\n",
      "[\u001b[1mtardis.simulation.base\u001b[0m][\u001b[1;37mINFO\u001b[0m   ]  \n",
      "\t\n",
      "\tStarting iteration 11 of 20 (\u001b[1mbase.py\u001b[0m:444)\n",
      "[\u001b[1mtardis.simulation.base\u001b[0m][\u001b[1;37mINFO\u001b[0m   ]  \n",
      "\t\n",
      "\tLuminosity emitted   = 1.050e+43 erg / s\n",
      "\tLuminosity absorbed  = 3.378e+42 erg / s\n",
      "\tLuminosity requested = 1.059e+43 erg / s\n",
      " (\u001b[1mbase.py\u001b[0m:662)\n",
      "[\u001b[1mtardis.simulation.base\u001b[0m][\u001b[1;37mINFO\u001b[0m   ]  \n",
      "\tIteration converged 9/4 consecutive times. (\u001b[1mbase.py\u001b[0m:260)\n",
      "[\u001b[1mtardis.simulation.base\u001b[0m][\u001b[1;37mINFO\u001b[0m   ]  \n",
      "\t\n",
      "\tPlasma stratification: (\u001b[1mbase.py\u001b[0m:630)\n"
     ]
    },
    {
     "data": {
      "text/html": [
       "<style type=\"text/css\">\n",
       "</style>\n",
       "<table id=\"T_624a5\">\n",
       "  <thead>\n",
       "    <tr>\n",
       "      <th class=\"index_name level0\" >Shell No.</th>\n",
       "      <th id=\"T_624a5_level0_col0\" class=\"col_heading level0 col0\" >t_rad</th>\n",
       "      <th id=\"T_624a5_level0_col1\" class=\"col_heading level0 col1\" >next_t_rad</th>\n",
       "      <th id=\"T_624a5_level0_col2\" class=\"col_heading level0 col2\" >w</th>\n",
       "      <th id=\"T_624a5_level0_col3\" class=\"col_heading level0 col3\" >next_w</th>\n",
       "    </tr>\n",
       "  </thead>\n",
       "  <tbody>\n",
       "    <tr>\n",
       "      <th id=\"T_624a5_level0_row0\" class=\"row_heading level0 row0\" >0</th>\n",
       "      <td id=\"T_624a5_row0_col0\" class=\"data row0 col0\" >1.1e+04 K</td>\n",
       "      <td id=\"T_624a5_row0_col1\" class=\"data row0 col1\" >1.1e+04 K</td>\n",
       "      <td id=\"T_624a5_row0_col2\" class=\"data row0 col2\" >0.477</td>\n",
       "      <td id=\"T_624a5_row0_col3\" class=\"data row0 col3\" >0.473</td>\n",
       "    </tr>\n",
       "    <tr>\n",
       "      <th id=\"T_624a5_level0_row1\" class=\"row_heading level0 row1\" >5</th>\n",
       "      <td id=\"T_624a5_row1_col0\" class=\"data row1 col0\" >1.14e+04 K</td>\n",
       "      <td id=\"T_624a5_row1_col1\" class=\"data row1 col1\" >1.12e+04 K</td>\n",
       "      <td id=\"T_624a5_row1_col2\" class=\"data row1 col2\" >0.178</td>\n",
       "      <td id=\"T_624a5_row1_col3\" class=\"data row1 col3\" >0.182</td>\n",
       "    </tr>\n",
       "    <tr>\n",
       "      <th id=\"T_624a5_level0_row2\" class=\"row_heading level0 row2\" >10</th>\n",
       "      <td id=\"T_624a5_row2_col0\" class=\"data row2 col0\" >1.11e+04 K</td>\n",
       "      <td id=\"T_624a5_row2_col1\" class=\"data row2 col1\" >1.1e+04 K</td>\n",
       "      <td id=\"T_624a5_row2_col2\" class=\"data row2 col2\" >0.114</td>\n",
       "      <td id=\"T_624a5_row2_col3\" class=\"data row2 col3\" >0.115</td>\n",
       "    </tr>\n",
       "    <tr>\n",
       "      <th id=\"T_624a5_level0_row3\" class=\"row_heading level0 row3\" >15</th>\n",
       "      <td id=\"T_624a5_row3_col0\" class=\"data row3 col0\" >1.06e+04 K</td>\n",
       "      <td id=\"T_624a5_row3_col1\" class=\"data row3 col1\" >1.06e+04 K</td>\n",
       "      <td id=\"T_624a5_row3_col2\" class=\"data row3 col2\" >0.0872</td>\n",
       "      <td id=\"T_624a5_row3_col3\" class=\"data row3 col3\" >0.0858</td>\n",
       "    </tr>\n",
       "  </tbody>\n",
       "</table>\n"
      ],
      "text/plain": [
       "<pandas.io.formats.style.Styler at 0x771734fb64e0>"
      ]
     },
     "metadata": {},
     "output_type": "display_data"
    },
    {
     "name": "stdout",
     "output_type": "stream",
     "text": [
      "[\u001b[1mtardis.simulation.base\u001b[0m][\u001b[1;37mINFO\u001b[0m   ]  \n",
      "\t\n",
      "\tCurrent t_inner = 10624.877 K\n",
      "\tExpected t_inner for next iteration = 10649.271 K\n",
      " (\u001b[1mbase.py\u001b[0m:657)\n",
      "[\u001b[1mtardis.simulation.base\u001b[0m][\u001b[1;37mINFO\u001b[0m   ]  \n",
      "\t\n",
      "\tStarting iteration 12 of 20 (\u001b[1mbase.py\u001b[0m:444)\n",
      "[\u001b[1mtardis.simulation.base\u001b[0m][\u001b[1;37mINFO\u001b[0m   ]  \n",
      "\t\n",
      "\tLuminosity emitted   = 1.057e+43 erg / s\n",
      "\tLuminosity absorbed  = 3.427e+42 erg / s\n",
      "\tLuminosity requested = 1.059e+43 erg / s\n",
      " (\u001b[1mbase.py\u001b[0m:662)\n",
      "[\u001b[1mtardis.simulation.base\u001b[0m][\u001b[1;37mINFO\u001b[0m   ]  \n",
      "\tIteration converged 10/4 consecutive times. (\u001b[1mbase.py\u001b[0m:260)\n",
      "[\u001b[1mtardis.simulation.base\u001b[0m][\u001b[1;37mINFO\u001b[0m   ]  \n",
      "\t\n",
      "\tPlasma stratification: (\u001b[1mbase.py\u001b[0m:630)\n"
     ]
    },
    {
     "data": {
      "text/html": [
       "<style type=\"text/css\">\n",
       "</style>\n",
       "<table id=\"T_1491b\">\n",
       "  <thead>\n",
       "    <tr>\n",
       "      <th class=\"index_name level0\" >Shell No.</th>\n",
       "      <th id=\"T_1491b_level0_col0\" class=\"col_heading level0 col0\" >t_rad</th>\n",
       "      <th id=\"T_1491b_level0_col1\" class=\"col_heading level0 col1\" >next_t_rad</th>\n",
       "      <th id=\"T_1491b_level0_col2\" class=\"col_heading level0 col2\" >w</th>\n",
       "      <th id=\"T_1491b_level0_col3\" class=\"col_heading level0 col3\" >next_w</th>\n",
       "    </tr>\n",
       "  </thead>\n",
       "  <tbody>\n",
       "    <tr>\n",
       "      <th id=\"T_1491b_level0_row0\" class=\"row_heading level0 row0\" >0</th>\n",
       "      <td id=\"T_1491b_row0_col0\" class=\"data row0 col0\" >1.1e+04 K</td>\n",
       "      <td id=\"T_1491b_row0_col1\" class=\"data row0 col1\" >1.11e+04 K</td>\n",
       "      <td id=\"T_1491b_row0_col2\" class=\"data row0 col2\" >0.473</td>\n",
       "      <td id=\"T_1491b_row0_col3\" class=\"data row0 col3\" >0.465</td>\n",
       "    </tr>\n",
       "    <tr>\n",
       "      <th id=\"T_1491b_level0_row1\" class=\"row_heading level0 row1\" >5</th>\n",
       "      <td id=\"T_1491b_row1_col0\" class=\"data row1 col0\" >1.12e+04 K</td>\n",
       "      <td id=\"T_1491b_row1_col1\" class=\"data row1 col1\" >1.13e+04 K</td>\n",
       "      <td id=\"T_1491b_row1_col2\" class=\"data row1 col2\" >0.182</td>\n",
       "      <td id=\"T_1491b_row1_col3\" class=\"data row1 col3\" >0.18</td>\n",
       "    </tr>\n",
       "    <tr>\n",
       "      <th id=\"T_1491b_level0_row2\" class=\"row_heading level0 row2\" >10</th>\n",
       "      <td id=\"T_1491b_row2_col0\" class=\"data row2 col0\" >1.1e+04 K</td>\n",
       "      <td id=\"T_1491b_row2_col1\" class=\"data row2 col1\" >1.11e+04 K</td>\n",
       "      <td id=\"T_1491b_row2_col2\" class=\"data row2 col2\" >0.115</td>\n",
       "      <td id=\"T_1491b_row2_col3\" class=\"data row2 col3\" >0.111</td>\n",
       "    </tr>\n",
       "    <tr>\n",
       "      <th id=\"T_1491b_level0_row3\" class=\"row_heading level0 row3\" >15</th>\n",
       "      <td id=\"T_1491b_row3_col0\" class=\"data row3 col0\" >1.06e+04 K</td>\n",
       "      <td id=\"T_1491b_row3_col1\" class=\"data row3 col1\" >1.07e+04 K</td>\n",
       "      <td id=\"T_1491b_row3_col2\" class=\"data row3 col2\" >0.0858</td>\n",
       "      <td id=\"T_1491b_row3_col3\" class=\"data row3 col3\" >0.083</td>\n",
       "    </tr>\n",
       "  </tbody>\n",
       "</table>\n"
      ],
      "text/plain": [
       "<pandas.io.formats.style.Styler at 0x7717462dee40>"
      ]
     },
     "metadata": {},
     "output_type": "display_data"
    },
    {
     "name": "stdout",
     "output_type": "stream",
     "text": [
      "[\u001b[1mtardis.simulation.base\u001b[0m][\u001b[1;37mINFO\u001b[0m   ]  \n",
      "\t\n",
      "\tCurrent t_inner = 10649.271 K\n",
      "\tExpected t_inner for next iteration = 10653.802 K\n",
      " (\u001b[1mbase.py\u001b[0m:657)\n",
      "[\u001b[1mtardis.simulation.base\u001b[0m][\u001b[1;37mINFO\u001b[0m   ]  \n",
      "\t\n",
      "\tStarting iteration 13 of 20 (\u001b[1mbase.py\u001b[0m:444)\n",
      "[\u001b[1mtardis.simulation.base\u001b[0m][\u001b[1;37mINFO\u001b[0m   ]  \n",
      "\t\n",
      "\tLuminosity emitted   = 1.062e+43 erg / s\n",
      "\tLuminosity absorbed  = 3.405e+42 erg / s\n",
      "\tLuminosity requested = 1.059e+43 erg / s\n",
      " (\u001b[1mbase.py\u001b[0m:662)\n",
      "[\u001b[1mtardis.simulation.base\u001b[0m][\u001b[1;37mINFO\u001b[0m   ]  \n",
      "\tIteration converged 11/4 consecutive times. (\u001b[1mbase.py\u001b[0m:260)\n",
      "[\u001b[1mtardis.simulation.base\u001b[0m][\u001b[1;37mINFO\u001b[0m   ]  \n",
      "\t\n",
      "\tPlasma stratification: (\u001b[1mbase.py\u001b[0m:630)\n"
     ]
    },
    {
     "data": {
      "text/html": [
       "<style type=\"text/css\">\n",
       "</style>\n",
       "<table id=\"T_a2924\">\n",
       "  <thead>\n",
       "    <tr>\n",
       "      <th class=\"index_name level0\" >Shell No.</th>\n",
       "      <th id=\"T_a2924_level0_col0\" class=\"col_heading level0 col0\" >t_rad</th>\n",
       "      <th id=\"T_a2924_level0_col1\" class=\"col_heading level0 col1\" >next_t_rad</th>\n",
       "      <th id=\"T_a2924_level0_col2\" class=\"col_heading level0 col2\" >w</th>\n",
       "      <th id=\"T_a2924_level0_col3\" class=\"col_heading level0 col3\" >next_w</th>\n",
       "    </tr>\n",
       "  </thead>\n",
       "  <tbody>\n",
       "    <tr>\n",
       "      <th id=\"T_a2924_level0_row0\" class=\"row_heading level0 row0\" >0</th>\n",
       "      <td id=\"T_a2924_row0_col0\" class=\"data row0 col0\" >1.11e+04 K</td>\n",
       "      <td id=\"T_a2924_row0_col1\" class=\"data row0 col1\" >1.11e+04 K</td>\n",
       "      <td id=\"T_a2924_row0_col2\" class=\"data row0 col2\" >0.465</td>\n",
       "      <td id=\"T_a2924_row0_col3\" class=\"data row0 col3\" >0.466</td>\n",
       "    </tr>\n",
       "    <tr>\n",
       "      <th id=\"T_a2924_level0_row1\" class=\"row_heading level0 row1\" >5</th>\n",
       "      <td id=\"T_a2924_row1_col0\" class=\"data row1 col0\" >1.13e+04 K</td>\n",
       "      <td id=\"T_a2924_row1_col1\" class=\"data row1 col1\" >1.13e+04 K</td>\n",
       "      <td id=\"T_a2924_row1_col2\" class=\"data row1 col2\" >0.18</td>\n",
       "      <td id=\"T_a2924_row1_col3\" class=\"data row1 col3\" >0.178</td>\n",
       "    </tr>\n",
       "    <tr>\n",
       "      <th id=\"T_a2924_level0_row2\" class=\"row_heading level0 row2\" >10</th>\n",
       "      <td id=\"T_a2924_row2_col0\" class=\"data row2 col0\" >1.11e+04 K</td>\n",
       "      <td id=\"T_a2924_row2_col1\" class=\"data row2 col1\" >1.11e+04 K</td>\n",
       "      <td id=\"T_a2924_row2_col2\" class=\"data row2 col2\" >0.111</td>\n",
       "      <td id=\"T_a2924_row2_col3\" class=\"data row2 col3\" >0.113</td>\n",
       "    </tr>\n",
       "    <tr>\n",
       "      <th id=\"T_a2924_level0_row3\" class=\"row_heading level0 row3\" >15</th>\n",
       "      <td id=\"T_a2924_row3_col0\" class=\"data row3 col0\" >1.07e+04 K</td>\n",
       "      <td id=\"T_a2924_row3_col1\" class=\"data row3 col1\" >1.07e+04 K</td>\n",
       "      <td id=\"T_a2924_row3_col2\" class=\"data row3 col2\" >0.083</td>\n",
       "      <td id=\"T_a2924_row3_col3\" class=\"data row3 col3\" >0.086</td>\n",
       "    </tr>\n",
       "  </tbody>\n",
       "</table>\n"
      ],
      "text/plain": [
       "<pandas.io.formats.style.Styler at 0x77174620c4d0>"
      ]
     },
     "metadata": {},
     "output_type": "display_data"
    },
    {
     "name": "stdout",
     "output_type": "stream",
     "text": [
      "[\u001b[1mtardis.simulation.base\u001b[0m][\u001b[1;37mINFO\u001b[0m   ]  \n",
      "\t\n",
      "\tCurrent t_inner = 10653.802 K\n",
      "\tExpected t_inner for next iteration = 10646.746 K\n",
      " (\u001b[1mbase.py\u001b[0m:657)\n",
      "[\u001b[1mtardis.simulation.base\u001b[0m][\u001b[1;37mINFO\u001b[0m   ]  \n",
      "\t\n",
      "\tStarting iteration 14 of 20 (\u001b[1mbase.py\u001b[0m:444)\n",
      "[\u001b[1mtardis.simulation.base\u001b[0m][\u001b[1;37mINFO\u001b[0m   ]  \n",
      "\t\n",
      "\tLuminosity emitted   = 1.061e+43 erg / s\n",
      "\tLuminosity absorbed  = 3.377e+42 erg / s\n",
      "\tLuminosity requested = 1.059e+43 erg / s\n",
      " (\u001b[1mbase.py\u001b[0m:662)\n",
      "[\u001b[1mtardis.simulation.base\u001b[0m][\u001b[1;37mINFO\u001b[0m   ]  \n",
      "\tIteration converged 12/4 consecutive times. (\u001b[1mbase.py\u001b[0m:260)\n",
      "[\u001b[1mtardis.simulation.base\u001b[0m][\u001b[1;37mINFO\u001b[0m   ]  \n",
      "\t\n",
      "\tPlasma stratification: (\u001b[1mbase.py\u001b[0m:630)\n"
     ]
    },
    {
     "data": {
      "text/html": [
       "<style type=\"text/css\">\n",
       "</style>\n",
       "<table id=\"T_b943c\">\n",
       "  <thead>\n",
       "    <tr>\n",
       "      <th class=\"index_name level0\" >Shell No.</th>\n",
       "      <th id=\"T_b943c_level0_col0\" class=\"col_heading level0 col0\" >t_rad</th>\n",
       "      <th id=\"T_b943c_level0_col1\" class=\"col_heading level0 col1\" >next_t_rad</th>\n",
       "      <th id=\"T_b943c_level0_col2\" class=\"col_heading level0 col2\" >w</th>\n",
       "      <th id=\"T_b943c_level0_col3\" class=\"col_heading level0 col3\" >next_w</th>\n",
       "    </tr>\n",
       "  </thead>\n",
       "  <tbody>\n",
       "    <tr>\n",
       "      <th id=\"T_b943c_level0_row0\" class=\"row_heading level0 row0\" >0</th>\n",
       "      <td id=\"T_b943c_row0_col0\" class=\"data row0 col0\" >1.11e+04 K</td>\n",
       "      <td id=\"T_b943c_row0_col1\" class=\"data row0 col1\" >1.11e+04 K</td>\n",
       "      <td id=\"T_b943c_row0_col2\" class=\"data row0 col2\" >0.466</td>\n",
       "      <td id=\"T_b943c_row0_col3\" class=\"data row0 col3\" >0.468</td>\n",
       "    </tr>\n",
       "    <tr>\n",
       "      <th id=\"T_b943c_level0_row1\" class=\"row_heading level0 row1\" >5</th>\n",
       "      <td id=\"T_b943c_row1_col0\" class=\"data row1 col0\" >1.13e+04 K</td>\n",
       "      <td id=\"T_b943c_row1_col1\" class=\"data row1 col1\" >1.13e+04 K</td>\n",
       "      <td id=\"T_b943c_row1_col2\" class=\"data row1 col2\" >0.178</td>\n",
       "      <td id=\"T_b943c_row1_col3\" class=\"data row1 col3\" >0.181</td>\n",
       "    </tr>\n",
       "    <tr>\n",
       "      <th id=\"T_b943c_level0_row2\" class=\"row_heading level0 row2\" >10</th>\n",
       "      <td id=\"T_b943c_row2_col0\" class=\"data row2 col0\" >1.11e+04 K</td>\n",
       "      <td id=\"T_b943c_row2_col1\" class=\"data row2 col1\" >1.1e+04 K</td>\n",
       "      <td id=\"T_b943c_row2_col2\" class=\"data row2 col2\" >0.113</td>\n",
       "      <td id=\"T_b943c_row2_col3\" class=\"data row2 col3\" >0.114</td>\n",
       "    </tr>\n",
       "    <tr>\n",
       "      <th id=\"T_b943c_level0_row3\" class=\"row_heading level0 row3\" >15</th>\n",
       "      <td id=\"T_b943c_row3_col0\" class=\"data row3 col0\" >1.07e+04 K</td>\n",
       "      <td id=\"T_b943c_row3_col1\" class=\"data row3 col1\" >1.06e+04 K</td>\n",
       "      <td id=\"T_b943c_row3_col2\" class=\"data row3 col2\" >0.086</td>\n",
       "      <td id=\"T_b943c_row3_col3\" class=\"data row3 col3\" >0.0867</td>\n",
       "    </tr>\n",
       "  </tbody>\n",
       "</table>\n"
      ],
      "text/plain": [
       "<pandas.io.formats.style.Styler at 0x771733865e50>"
      ]
     },
     "metadata": {},
     "output_type": "display_data"
    },
    {
     "name": "stdout",
     "output_type": "stream",
     "text": [
      "[\u001b[1mtardis.simulation.base\u001b[0m][\u001b[1;37mINFO\u001b[0m   ]  \n",
      "\t\n",
      "\tCurrent t_inner = 10646.746 K\n",
      "\tExpected t_inner for next iteration = 10641.333 K\n",
      " (\u001b[1mbase.py\u001b[0m:657)\n",
      "[\u001b[1mtardis.simulation.base\u001b[0m][\u001b[1;37mINFO\u001b[0m   ]  \n",
      "\t\n",
      "\tStarting iteration 15 of 20 (\u001b[1mbase.py\u001b[0m:444)\n",
      "[\u001b[1mtardis.simulation.base\u001b[0m][\u001b[1;37mINFO\u001b[0m   ]  \n",
      "\t\n",
      "\tLuminosity emitted   = 1.055e+43 erg / s\n",
      "\tLuminosity absorbed  = 3.411e+42 erg / s\n",
      "\tLuminosity requested = 1.059e+43 erg / s\n",
      " (\u001b[1mbase.py\u001b[0m:662)\n",
      "[\u001b[1mtardis.simulation.base\u001b[0m][\u001b[1;37mINFO\u001b[0m   ]  \n",
      "\tIteration converged 13/4 consecutive times. (\u001b[1mbase.py\u001b[0m:260)\n",
      "[\u001b[1mtardis.simulation.base\u001b[0m][\u001b[1;37mINFO\u001b[0m   ]  \n",
      "\t\n",
      "\tPlasma stratification: (\u001b[1mbase.py\u001b[0m:630)\n"
     ]
    },
    {
     "data": {
      "text/html": [
       "<style type=\"text/css\">\n",
       "</style>\n",
       "<table id=\"T_e8ede\">\n",
       "  <thead>\n",
       "    <tr>\n",
       "      <th class=\"index_name level0\" >Shell No.</th>\n",
       "      <th id=\"T_e8ede_level0_col0\" class=\"col_heading level0 col0\" >t_rad</th>\n",
       "      <th id=\"T_e8ede_level0_col1\" class=\"col_heading level0 col1\" >next_t_rad</th>\n",
       "      <th id=\"T_e8ede_level0_col2\" class=\"col_heading level0 col2\" >w</th>\n",
       "      <th id=\"T_e8ede_level0_col3\" class=\"col_heading level0 col3\" >next_w</th>\n",
       "    </tr>\n",
       "  </thead>\n",
       "  <tbody>\n",
       "    <tr>\n",
       "      <th id=\"T_e8ede_level0_row0\" class=\"row_heading level0 row0\" >0</th>\n",
       "      <td id=\"T_e8ede_row0_col0\" class=\"data row0 col0\" >1.11e+04 K</td>\n",
       "      <td id=\"T_e8ede_row0_col1\" class=\"data row0 col1\" >1.1e+04 K</td>\n",
       "      <td id=\"T_e8ede_row0_col2\" class=\"data row0 col2\" >0.468</td>\n",
       "      <td id=\"T_e8ede_row0_col3\" class=\"data row0 col3\" >0.484</td>\n",
       "    </tr>\n",
       "    <tr>\n",
       "      <th id=\"T_e8ede_level0_row1\" class=\"row_heading level0 row1\" >5</th>\n",
       "      <td id=\"T_e8ede_row1_col0\" class=\"data row1 col0\" >1.13e+04 K</td>\n",
       "      <td id=\"T_e8ede_row1_col1\" class=\"data row1 col1\" >1.13e+04 K</td>\n",
       "      <td id=\"T_e8ede_row1_col2\" class=\"data row1 col2\" >0.181</td>\n",
       "      <td id=\"T_e8ede_row1_col3\" class=\"data row1 col3\" >0.18</td>\n",
       "    </tr>\n",
       "    <tr>\n",
       "      <th id=\"T_e8ede_level0_row2\" class=\"row_heading level0 row2\" >10</th>\n",
       "      <td id=\"T_e8ede_row2_col0\" class=\"data row2 col0\" >1.1e+04 K</td>\n",
       "      <td id=\"T_e8ede_row2_col1\" class=\"data row2 col1\" >1.1e+04 K</td>\n",
       "      <td id=\"T_e8ede_row2_col2\" class=\"data row2 col2\" >0.114</td>\n",
       "      <td id=\"T_e8ede_row2_col3\" class=\"data row2 col3\" >0.113</td>\n",
       "    </tr>\n",
       "    <tr>\n",
       "      <th id=\"T_e8ede_level0_row3\" class=\"row_heading level0 row3\" >15</th>\n",
       "      <td id=\"T_e8ede_row3_col0\" class=\"data row3 col0\" >1.06e+04 K</td>\n",
       "      <td id=\"T_e8ede_row3_col1\" class=\"data row3 col1\" >1.07e+04 K</td>\n",
       "      <td id=\"T_e8ede_row3_col2\" class=\"data row3 col2\" >0.0867</td>\n",
       "      <td id=\"T_e8ede_row3_col3\" class=\"data row3 col3\" >0.0852</td>\n",
       "    </tr>\n",
       "  </tbody>\n",
       "</table>\n"
      ],
      "text/plain": [
       "<pandas.io.formats.style.Styler at 0x771746205e50>"
      ]
     },
     "metadata": {},
     "output_type": "display_data"
    },
    {
     "name": "stdout",
     "output_type": "stream",
     "text": [
      "[\u001b[1mtardis.simulation.base\u001b[0m][\u001b[1;37mINFO\u001b[0m   ]  \n",
      "\t\n",
      "\tCurrent t_inner = 10641.333 K\n",
      "\tExpected t_inner for next iteration = 10652.281 K\n",
      " (\u001b[1mbase.py\u001b[0m:657)\n",
      "[\u001b[1mtardis.simulation.base\u001b[0m][\u001b[1;37mINFO\u001b[0m   ]  \n",
      "\t\n",
      "\tStarting iteration 16 of 20 (\u001b[1mbase.py\u001b[0m:444)\n",
      "[\u001b[1mtardis.simulation.base\u001b[0m][\u001b[1;37mINFO\u001b[0m   ]  \n",
      "\t\n",
      "\tLuminosity emitted   = 1.058e+43 erg / s\n",
      "\tLuminosity absorbed  = 3.437e+42 erg / s\n",
      "\tLuminosity requested = 1.059e+43 erg / s\n",
      " (\u001b[1mbase.py\u001b[0m:662)\n",
      "[\u001b[1mtardis.simulation.base\u001b[0m][\u001b[1;37mINFO\u001b[0m   ]  \n",
      "\tIteration converged 14/4 consecutive times. (\u001b[1mbase.py\u001b[0m:260)\n",
      "[\u001b[1mtardis.simulation.base\u001b[0m][\u001b[1;37mINFO\u001b[0m   ]  \n",
      "\t\n",
      "\tPlasma stratification: (\u001b[1mbase.py\u001b[0m:630)\n"
     ]
    },
    {
     "data": {
      "text/html": [
       "<style type=\"text/css\">\n",
       "</style>\n",
       "<table id=\"T_37759\">\n",
       "  <thead>\n",
       "    <tr>\n",
       "      <th class=\"index_name level0\" >Shell No.</th>\n",
       "      <th id=\"T_37759_level0_col0\" class=\"col_heading level0 col0\" >t_rad</th>\n",
       "      <th id=\"T_37759_level0_col1\" class=\"col_heading level0 col1\" >next_t_rad</th>\n",
       "      <th id=\"T_37759_level0_col2\" class=\"col_heading level0 col2\" >w</th>\n",
       "      <th id=\"T_37759_level0_col3\" class=\"col_heading level0 col3\" >next_w</th>\n",
       "    </tr>\n",
       "  </thead>\n",
       "  <tbody>\n",
       "    <tr>\n",
       "      <th id=\"T_37759_level0_row0\" class=\"row_heading level0 row0\" >0</th>\n",
       "      <td id=\"T_37759_row0_col0\" class=\"data row0 col0\" >1.1e+04 K</td>\n",
       "      <td id=\"T_37759_row0_col1\" class=\"data row0 col1\" >1.1e+04 K</td>\n",
       "      <td id=\"T_37759_row0_col2\" class=\"data row0 col2\" >0.484</td>\n",
       "      <td id=\"T_37759_row0_col3\" class=\"data row0 col3\" >0.472</td>\n",
       "    </tr>\n",
       "    <tr>\n",
       "      <th id=\"T_37759_level0_row1\" class=\"row_heading level0 row1\" >5</th>\n",
       "      <td id=\"T_37759_row1_col0\" class=\"data row1 col0\" >1.13e+04 K</td>\n",
       "      <td id=\"T_37759_row1_col1\" class=\"data row1 col1\" >1.14e+04 K</td>\n",
       "      <td id=\"T_37759_row1_col2\" class=\"data row1 col2\" >0.18</td>\n",
       "      <td id=\"T_37759_row1_col3\" class=\"data row1 col3\" >0.173</td>\n",
       "    </tr>\n",
       "    <tr>\n",
       "      <th id=\"T_37759_level0_row2\" class=\"row_heading level0 row2\" >10</th>\n",
       "      <td id=\"T_37759_row2_col0\" class=\"data row2 col0\" >1.1e+04 K</td>\n",
       "      <td id=\"T_37759_row2_col1\" class=\"data row2 col1\" >1.11e+04 K</td>\n",
       "      <td id=\"T_37759_row2_col2\" class=\"data row2 col2\" >0.113</td>\n",
       "      <td id=\"T_37759_row2_col3\" class=\"data row2 col3\" >0.112</td>\n",
       "    </tr>\n",
       "    <tr>\n",
       "      <th id=\"T_37759_level0_row3\" class=\"row_heading level0 row3\" >15</th>\n",
       "      <td id=\"T_37759_row3_col0\" class=\"data row3 col0\" >1.07e+04 K</td>\n",
       "      <td id=\"T_37759_row3_col1\" class=\"data row3 col1\" >1.07e+04 K</td>\n",
       "      <td id=\"T_37759_row3_col2\" class=\"data row3 col2\" >0.0852</td>\n",
       "      <td id=\"T_37759_row3_col3\" class=\"data row3 col3\" >0.0832</td>\n",
       "    </tr>\n",
       "  </tbody>\n",
       "</table>\n"
      ],
      "text/plain": [
       "<pandas.io.formats.style.Styler at 0x771730859a00>"
      ]
     },
     "metadata": {},
     "output_type": "display_data"
    },
    {
     "name": "stdout",
     "output_type": "stream",
     "text": [
      "[\u001b[1mtardis.simulation.base\u001b[0m][\u001b[1;37mINFO\u001b[0m   ]  \n",
      "\t\n",
      "\tCurrent t_inner = 10652.281 K\n",
      "\tExpected t_inner for next iteration = 10654.516 K\n",
      " (\u001b[1mbase.py\u001b[0m:657)\n",
      "[\u001b[1mtardis.simulation.base\u001b[0m][\u001b[1;37mINFO\u001b[0m   ]  \n",
      "\t\n",
      "\tStarting iteration 17 of 20 (\u001b[1mbase.py\u001b[0m:444)\n",
      "[\u001b[1mtardis.simulation.base\u001b[0m][\u001b[1;37mINFO\u001b[0m   ]  \n",
      "\t\n",
      "\tLuminosity emitted   = 1.066e+43 erg / s\n",
      "\tLuminosity absorbed  = 3.375e+42 erg / s\n",
      "\tLuminosity requested = 1.059e+43 erg / s\n",
      " (\u001b[1mbase.py\u001b[0m:662)\n",
      "[\u001b[1mtardis.simulation.base\u001b[0m][\u001b[1;37mINFO\u001b[0m   ]  \n",
      "\tIteration converged 15/4 consecutive times. (\u001b[1mbase.py\u001b[0m:260)\n",
      "[\u001b[1mtardis.simulation.base\u001b[0m][\u001b[1;37mINFO\u001b[0m   ]  \n",
      "\t\n",
      "\tPlasma stratification: (\u001b[1mbase.py\u001b[0m:630)\n"
     ]
    },
    {
     "data": {
      "text/html": [
       "<style type=\"text/css\">\n",
       "</style>\n",
       "<table id=\"T_816d9\">\n",
       "  <thead>\n",
       "    <tr>\n",
       "      <th class=\"index_name level0\" >Shell No.</th>\n",
       "      <th id=\"T_816d9_level0_col0\" class=\"col_heading level0 col0\" >t_rad</th>\n",
       "      <th id=\"T_816d9_level0_col1\" class=\"col_heading level0 col1\" >next_t_rad</th>\n",
       "      <th id=\"T_816d9_level0_col2\" class=\"col_heading level0 col2\" >w</th>\n",
       "      <th id=\"T_816d9_level0_col3\" class=\"col_heading level0 col3\" >next_w</th>\n",
       "    </tr>\n",
       "  </thead>\n",
       "  <tbody>\n",
       "    <tr>\n",
       "      <th id=\"T_816d9_level0_row0\" class=\"row_heading level0 row0\" >0</th>\n",
       "      <td id=\"T_816d9_row0_col0\" class=\"data row0 col0\" >1.1e+04 K</td>\n",
       "      <td id=\"T_816d9_row0_col1\" class=\"data row0 col1\" >1.11e+04 K</td>\n",
       "      <td id=\"T_816d9_row0_col2\" class=\"data row0 col2\" >0.472</td>\n",
       "      <td id=\"T_816d9_row0_col3\" class=\"data row0 col3\" >0.465</td>\n",
       "    </tr>\n",
       "    <tr>\n",
       "      <th id=\"T_816d9_level0_row1\" class=\"row_heading level0 row1\" >5</th>\n",
       "      <td id=\"T_816d9_row1_col0\" class=\"data row1 col0\" >1.14e+04 K</td>\n",
       "      <td id=\"T_816d9_row1_col1\" class=\"data row1 col1\" >1.14e+04 K</td>\n",
       "      <td id=\"T_816d9_row1_col2\" class=\"data row1 col2\" >0.173</td>\n",
       "      <td id=\"T_816d9_row1_col3\" class=\"data row1 col3\" >0.171</td>\n",
       "    </tr>\n",
       "    <tr>\n",
       "      <th id=\"T_816d9_level0_row2\" class=\"row_heading level0 row2\" >10</th>\n",
       "      <td id=\"T_816d9_row2_col0\" class=\"data row2 col0\" >1.11e+04 K</td>\n",
       "      <td id=\"T_816d9_row2_col1\" class=\"data row2 col1\" >1.12e+04 K</td>\n",
       "      <td id=\"T_816d9_row2_col2\" class=\"data row2 col2\" >0.112</td>\n",
       "      <td id=\"T_816d9_row2_col3\" class=\"data row2 col3\" >0.108</td>\n",
       "    </tr>\n",
       "    <tr>\n",
       "      <th id=\"T_816d9_level0_row3\" class=\"row_heading level0 row3\" >15</th>\n",
       "      <td id=\"T_816d9_row3_col0\" class=\"data row3 col0\" >1.07e+04 K</td>\n",
       "      <td id=\"T_816d9_row3_col1\" class=\"data row3 col1\" >1.08e+04 K</td>\n",
       "      <td id=\"T_816d9_row3_col2\" class=\"data row3 col2\" >0.0832</td>\n",
       "      <td id=\"T_816d9_row3_col3\" class=\"data row3 col3\" >0.0813</td>\n",
       "    </tr>\n",
       "  </tbody>\n",
       "</table>\n"
      ],
      "text/plain": [
       "<pandas.io.formats.style.Styler at 0x77172b9de6f0>"
      ]
     },
     "metadata": {},
     "output_type": "display_data"
    },
    {
     "name": "stdout",
     "output_type": "stream",
     "text": [
      "[\u001b[1mtardis.simulation.base\u001b[0m][\u001b[1;37mINFO\u001b[0m   ]  \n",
      "\t\n",
      "\tCurrent t_inner = 10654.516 K\n",
      "\tExpected t_inner for next iteration = 10637.793 K\n",
      " (\u001b[1mbase.py\u001b[0m:657)\n",
      "[\u001b[1mtardis.simulation.base\u001b[0m][\u001b[1;37mINFO\u001b[0m   ]  \n",
      "\t\n",
      "\tStarting iteration 18 of 20 (\u001b[1mbase.py\u001b[0m:444)\n",
      "[\u001b[1mtardis.simulation.base\u001b[0m][\u001b[1;37mINFO\u001b[0m   ]  \n",
      "\t\n",
      "\tLuminosity emitted   = 1.059e+43 erg / s\n",
      "\tLuminosity absorbed  = 3.354e+42 erg / s\n",
      "\tLuminosity requested = 1.059e+43 erg / s\n",
      " (\u001b[1mbase.py\u001b[0m:662)\n",
      "[\u001b[1mtardis.simulation.base\u001b[0m][\u001b[1;37mINFO\u001b[0m   ]  \n",
      "\tIteration converged 16/4 consecutive times. (\u001b[1mbase.py\u001b[0m:260)\n",
      "[\u001b[1mtardis.simulation.base\u001b[0m][\u001b[1;37mINFO\u001b[0m   ]  \n",
      "\t\n",
      "\tPlasma stratification: (\u001b[1mbase.py\u001b[0m:630)\n"
     ]
    },
    {
     "data": {
      "text/html": [
       "<style type=\"text/css\">\n",
       "</style>\n",
       "<table id=\"T_604bd\">\n",
       "  <thead>\n",
       "    <tr>\n",
       "      <th class=\"index_name level0\" >Shell No.</th>\n",
       "      <th id=\"T_604bd_level0_col0\" class=\"col_heading level0 col0\" >t_rad</th>\n",
       "      <th id=\"T_604bd_level0_col1\" class=\"col_heading level0 col1\" >next_t_rad</th>\n",
       "      <th id=\"T_604bd_level0_col2\" class=\"col_heading level0 col2\" >w</th>\n",
       "      <th id=\"T_604bd_level0_col3\" class=\"col_heading level0 col3\" >next_w</th>\n",
       "    </tr>\n",
       "  </thead>\n",
       "  <tbody>\n",
       "    <tr>\n",
       "      <th id=\"T_604bd_level0_row0\" class=\"row_heading level0 row0\" >0</th>\n",
       "      <td id=\"T_604bd_row0_col0\" class=\"data row0 col0\" >1.11e+04 K</td>\n",
       "      <td id=\"T_604bd_row0_col1\" class=\"data row0 col1\" >1.11e+04 K</td>\n",
       "      <td id=\"T_604bd_row0_col2\" class=\"data row0 col2\" >0.465</td>\n",
       "      <td id=\"T_604bd_row0_col3\" class=\"data row0 col3\" >0.463</td>\n",
       "    </tr>\n",
       "    <tr>\n",
       "      <th id=\"T_604bd_level0_row1\" class=\"row_heading level0 row1\" >5</th>\n",
       "      <td id=\"T_604bd_row1_col0\" class=\"data row1 col0\" >1.14e+04 K</td>\n",
       "      <td id=\"T_604bd_row1_col1\" class=\"data row1 col1\" >1.14e+04 K</td>\n",
       "      <td id=\"T_604bd_row1_col2\" class=\"data row1 col2\" >0.171</td>\n",
       "      <td id=\"T_604bd_row1_col3\" class=\"data row1 col3\" >0.174</td>\n",
       "    </tr>\n",
       "    <tr>\n",
       "      <th id=\"T_604bd_level0_row2\" class=\"row_heading level0 row2\" >10</th>\n",
       "      <td id=\"T_604bd_row2_col0\" class=\"data row2 col0\" >1.12e+04 K</td>\n",
       "      <td id=\"T_604bd_row2_col1\" class=\"data row2 col1\" >1.11e+04 K</td>\n",
       "      <td id=\"T_604bd_row2_col2\" class=\"data row2 col2\" >0.108</td>\n",
       "      <td id=\"T_604bd_row2_col3\" class=\"data row2 col3\" >0.11</td>\n",
       "    </tr>\n",
       "    <tr>\n",
       "      <th id=\"T_604bd_level0_row3\" class=\"row_heading level0 row3\" >15</th>\n",
       "      <td id=\"T_604bd_row3_col0\" class=\"data row3 col0\" >1.08e+04 K</td>\n",
       "      <td id=\"T_604bd_row3_col1\" class=\"data row3 col1\" >1.07e+04 K</td>\n",
       "      <td id=\"T_604bd_row3_col2\" class=\"data row3 col2\" >0.0813</td>\n",
       "      <td id=\"T_604bd_row3_col3\" class=\"data row3 col3\" >0.0844</td>\n",
       "    </tr>\n",
       "  </tbody>\n",
       "</table>\n"
      ],
      "text/plain": [
       "<pandas.io.formats.style.Styler at 0x771730474890>"
      ]
     },
     "metadata": {},
     "output_type": "display_data"
    },
    {
     "name": "stdout",
     "output_type": "stream",
     "text": [
      "[\u001b[1mtardis.simulation.base\u001b[0m][\u001b[1;37mINFO\u001b[0m   ]  \n",
      "\t\n",
      "\tCurrent t_inner = 10637.793 K\n",
      "\tExpected t_inner for next iteration = 10638.424 K\n",
      " (\u001b[1mbase.py\u001b[0m:657)\n",
      "[\u001b[1mtardis.simulation.base\u001b[0m][\u001b[1;37mINFO\u001b[0m   ]  \n",
      "\t\n",
      "\tStarting iteration 19 of 20 (\u001b[1mbase.py\u001b[0m:444)\n",
      "[\u001b[1mtardis.simulation.base\u001b[0m][\u001b[1;37mINFO\u001b[0m   ]  \n",
      "\t\n",
      "\tLuminosity emitted   = 1.054e+43 erg / s\n",
      "\tLuminosity absorbed  = 3.403e+42 erg / s\n",
      "\tLuminosity requested = 1.059e+43 erg / s\n",
      " (\u001b[1mbase.py\u001b[0m:662)\n",
      "[\u001b[1mtardis.simulation.base\u001b[0m][\u001b[1;37mINFO\u001b[0m   ]  \n",
      "\tIteration converged 17/4 consecutive times. (\u001b[1mbase.py\u001b[0m:260)\n",
      "[\u001b[1mtardis.simulation.base\u001b[0m][\u001b[1;37mINFO\u001b[0m   ]  \n",
      "\t\n",
      "\tPlasma stratification: (\u001b[1mbase.py\u001b[0m:630)\n"
     ]
    },
    {
     "data": {
      "text/html": [
       "<style type=\"text/css\">\n",
       "</style>\n",
       "<table id=\"T_6853e\">\n",
       "  <thead>\n",
       "    <tr>\n",
       "      <th class=\"index_name level0\" >Shell No.</th>\n",
       "      <th id=\"T_6853e_level0_col0\" class=\"col_heading level0 col0\" >t_rad</th>\n",
       "      <th id=\"T_6853e_level0_col1\" class=\"col_heading level0 col1\" >next_t_rad</th>\n",
       "      <th id=\"T_6853e_level0_col2\" class=\"col_heading level0 col2\" >w</th>\n",
       "      <th id=\"T_6853e_level0_col3\" class=\"col_heading level0 col3\" >next_w</th>\n",
       "    </tr>\n",
       "  </thead>\n",
       "  <tbody>\n",
       "    <tr>\n",
       "      <th id=\"T_6853e_level0_row0\" class=\"row_heading level0 row0\" >0</th>\n",
       "      <td id=\"T_6853e_row0_col0\" class=\"data row0 col0\" >1.11e+04 K</td>\n",
       "      <td id=\"T_6853e_row0_col1\" class=\"data row0 col1\" >1.11e+04 K</td>\n",
       "      <td id=\"T_6853e_row0_col2\" class=\"data row0 col2\" >0.463</td>\n",
       "      <td id=\"T_6853e_row0_col3\" class=\"data row0 col3\" >0.465</td>\n",
       "    </tr>\n",
       "    <tr>\n",
       "      <th id=\"T_6853e_level0_row1\" class=\"row_heading level0 row1\" >5</th>\n",
       "      <td id=\"T_6853e_row1_col0\" class=\"data row1 col0\" >1.14e+04 K</td>\n",
       "      <td id=\"T_6853e_row1_col1\" class=\"data row1 col1\" >1.14e+04 K</td>\n",
       "      <td id=\"T_6853e_row1_col2\" class=\"data row1 col2\" >0.174</td>\n",
       "      <td id=\"T_6853e_row1_col3\" class=\"data row1 col3\" >0.173</td>\n",
       "    </tr>\n",
       "    <tr>\n",
       "      <th id=\"T_6853e_level0_row2\" class=\"row_heading level0 row2\" >10</th>\n",
       "      <td id=\"T_6853e_row2_col0\" class=\"data row2 col0\" >1.11e+04 K</td>\n",
       "      <td id=\"T_6853e_row2_col1\" class=\"data row2 col1\" >1.11e+04 K</td>\n",
       "      <td id=\"T_6853e_row2_col2\" class=\"data row2 col2\" >0.11</td>\n",
       "      <td id=\"T_6853e_row2_col3\" class=\"data row2 col3\" >0.109</td>\n",
       "    </tr>\n",
       "    <tr>\n",
       "      <th id=\"T_6853e_level0_row3\" class=\"row_heading level0 row3\" >15</th>\n",
       "      <td id=\"T_6853e_row3_col0\" class=\"data row3 col0\" >1.07e+04 K</td>\n",
       "      <td id=\"T_6853e_row3_col1\" class=\"data row3 col1\" >1.07e+04 K</td>\n",
       "      <td id=\"T_6853e_row3_col2\" class=\"data row3 col2\" >0.0844</td>\n",
       "      <td id=\"T_6853e_row3_col3\" class=\"data row3 col3\" >0.0839</td>\n",
       "    </tr>\n",
       "  </tbody>\n",
       "</table>\n"
      ],
      "text/plain": [
       "<pandas.io.formats.style.Styler at 0x77172b8f2c60>"
      ]
     },
     "metadata": {},
     "output_type": "display_data"
    },
    {
     "name": "stdout",
     "output_type": "stream",
     "text": [
      "[\u001b[1mtardis.simulation.base\u001b[0m][\u001b[1;37mINFO\u001b[0m   ]  \n",
      "\t\n",
      "\tCurrent t_inner = 10638.424 K\n",
      "\tExpected t_inner for next iteration = 10651.315 K\n",
      " (\u001b[1mbase.py\u001b[0m:657)\n",
      "[\u001b[1mtardis.simulation.base\u001b[0m][\u001b[1;37mINFO\u001b[0m   ]  \n",
      "\t\n",
      "\tSimulation finished in 19 iterations \n",
      "\tSimulation took 81.01 s\n",
      " (\u001b[1mbase.py\u001b[0m:547)\n",
      "[\u001b[1mtardis.simulation.base\u001b[0m][\u001b[1;37mINFO\u001b[0m   ]  \n",
      "\t\n",
      "\tStarting iteration 20 of 20 (\u001b[1mbase.py\u001b[0m:444)\n",
      "[\u001b[1mtardis.simulation.base\u001b[0m][\u001b[1;37mINFO\u001b[0m   ]  \n",
      "\t\n",
      "\tLuminosity emitted   = 1.061e+43 erg / s\n",
      "\tLuminosity absorbed  = 3.400e+42 erg / s\n",
      "\tLuminosity requested = 1.059e+43 erg / s\n",
      " (\u001b[1mbase.py\u001b[0m:662)\n"
     ]
    },
    {
     "data": {
      "text/html": [
       "        <script type=\"text/javascript\">\n",
       "        window.PlotlyConfig = {MathJaxConfig: 'local'};\n",
       "        if (window.MathJax && window.MathJax.Hub && window.MathJax.Hub.Config) {window.MathJax.Hub.Config({SVG: {font: \"STIX-Web\"}});}\n",
       "        if (typeof require !== 'undefined') {\n",
       "        require.undef(\"plotly\");\n",
       "        requirejs.config({\n",
       "            paths: {\n",
       "                'plotly': ['https://cdn.plot.ly/plotly-2.32.0.min']\n",
       "            }\n",
       "        });\n",
       "        require(['plotly'], function(Plotly) {\n",
       "            window._Plotly = Plotly;\n",
       "        });\n",
       "        }\n",
       "        </script>\n",
       "        "
      ]
     },
     "metadata": {},
     "output_type": "display_data"
    },
    {
     "data": {
      "text/html": [
       "<div>                            <div id=\"1de2ca9b-80f8-45c6-96bf-f28673d02183\" class=\"plotly-graph-div\" style=\"height:450px; width:100%;\"></div>            <script type=\"text/javascript\">                require([\"plotly\"], function(Plotly) {                    window.PLOTLYENV=window.PLOTLYENV || {};                                    if (document.getElementById(\"1de2ca9b-80f8-45c6-96bf-f28673d02183\")) {                    Plotly.newPlot(                        \"1de2ca9b-80f8-45c6-96bf-f28673d02183\",                        [{\"type\":\"scatter\",\"uid\":\"ec0db822-f5e7-490e-8c99-5cd1ea654520\",\"xaxis\":\"x\",\"yaxis\":\"y\"},{\"type\":\"scatter\",\"uid\":\"5c696247-08d9-4327-9017-3d329ebf89aa\",\"xaxis\":\"x2\",\"yaxis\":\"y2\"},{\"customdata\":[\"\\u003cbr\\u003eEmitted Luminosity: 7.942e+42\\u003cbr\\u003eRequested Luminosity: 1.059e+43\\u003cbr\\u003eAbsorbed Luminosity: 2.659e+42\",\"\\u003cbr\\u003eEmitted Luminosity: 7.942e+42\\u003cbr\\u003eRequested Luminosity: 1.059e+43\\u003cbr\\u003eAbsorbed Luminosity: 2.659e+42\",\"\\u003cbr\\u003eEmitted Luminosity: 7.942e+42\\u003cbr\\u003eRequested Luminosity: 1.059e+43\\u003cbr\\u003eAbsorbed Luminosity: 2.659e+42\",\"\\u003cbr\\u003eEmitted Luminosity: 7.942e+42\\u003cbr\\u003eRequested Luminosity: 1.059e+43\\u003cbr\\u003eAbsorbed Luminosity: 2.659e+42\",\"\\u003cbr\\u003eEmitted Luminosity: 7.942e+42\\u003cbr\\u003eRequested Luminosity: 1.059e+43\\u003cbr\\u003eAbsorbed Luminosity: 2.659e+42\",\"\\u003cbr\\u003eEmitted Luminosity: 7.942e+42\\u003cbr\\u003eRequested Luminosity: 1.059e+43\\u003cbr\\u003eAbsorbed Luminosity: 2.659e+42\",\"\\u003cbr\\u003eEmitted Luminosity: 7.942e+42\\u003cbr\\u003eRequested Luminosity: 1.059e+43\\u003cbr\\u003eAbsorbed Luminosity: 2.659e+42\",\"\\u003cbr\\u003eEmitted Luminosity: 7.942e+42\\u003cbr\\u003eRequested Luminosity: 1.059e+43\\u003cbr\\u003eAbsorbed Luminosity: 2.659e+42\",\"\\u003cbr\\u003eEmitted Luminosity: 7.942e+42\\u003cbr\\u003eRequested Luminosity: 1.059e+43\\u003cbr\\u003eAbsorbed Luminosity: 2.659e+42\",\"\\u003cbr\\u003eEmitted Luminosity: 7.942e+42\\u003cbr\\u003eRequested Luminosity: 1.059e+43\\u003cbr\\u003eAbsorbed Luminosity: 2.659e+42\",\"\\u003cbr\\u003eEmitted Luminosity: 7.942e+42\\u003cbr\\u003eRequested Luminosity: 1.059e+43\\u003cbr\\u003eAbsorbed Luminosity: 2.659e+42\",\"\\u003cbr\\u003eEmitted Luminosity: 7.942e+42\\u003cbr\\u003eRequested Luminosity: 1.059e+43\\u003cbr\\u003eAbsorbed Luminosity: 2.659e+42\",\"\\u003cbr\\u003eEmitted Luminosity: 7.942e+42\\u003cbr\\u003eRequested Luminosity: 1.059e+43\\u003cbr\\u003eAbsorbed Luminosity: 2.659e+42\",\"\\u003cbr\\u003eEmitted Luminosity: 7.942e+42\\u003cbr\\u003eRequested Luminosity: 1.059e+43\\u003cbr\\u003eAbsorbed Luminosity: 2.659e+42\",\"\\u003cbr\\u003eEmitted Luminosity: 7.942e+42\\u003cbr\\u003eRequested Luminosity: 1.059e+43\\u003cbr\\u003eAbsorbed Luminosity: 2.659e+42\",\"\\u003cbr\\u003eEmitted Luminosity: 7.942e+42\\u003cbr\\u003eRequested Luminosity: 1.059e+43\\u003cbr\\u003eAbsorbed Luminosity: 2.659e+42\",\"\\u003cbr\\u003eEmitted Luminosity: 7.942e+42\\u003cbr\\u003eRequested Luminosity: 1.059e+43\\u003cbr\\u003eAbsorbed Luminosity: 2.659e+42\",\"\\u003cbr\\u003eEmitted Luminosity: 7.942e+42\\u003cbr\\u003eRequested Luminosity: 1.059e+43\\u003cbr\\u003eAbsorbed Luminosity: 2.659e+42\",\"\\u003cbr\\u003eEmitted Luminosity: 7.942e+42\\u003cbr\\u003eRequested Luminosity: 1.059e+43\\u003cbr\\u003eAbsorbed Luminosity: 2.659e+42\",\"\\u003cbr\\u003eEmitted Luminosity: 7.942e+42\\u003cbr\\u003eRequested Luminosity: 1.059e+43\\u003cbr\\u003eAbsorbed Luminosity: 2.659e+42\",\"\\u003cbr\\u003eEmitted Luminosity: 7.942e+42\\u003cbr\\u003eRequested Luminosity: 1.059e+43\\u003cbr\\u003eAbsorbed Luminosity: 2.659e+42\"],\"hovertemplate\":\"\\u003cb\\u003eY\\u003c\\u002fb\\u003e: %{y:.3f} at \\u003cb\\u003eX\\u003c\\u002fb\\u003e = %{x:,.0f}%{customdata}\",\"legendgroup\":\"group-1\",\"line\":{\"color\":\"#000080\",\"shape\":\"hv\"},\"name\":\"1\",\"showlegend\":false,\"x\":[11000.0,11450.000000000002,11900.000000000002,12350.000000000002,12800.000000000002,13250.000000000002,13700.000000000002,14150.000000000002,14600.000000000002,15050.000000000002,15500.000000000002,15950.000000000002,16400.0,16850.0,17300.0,17750.0,18200.0,18650.0,19100.0,19550.0,20000.0],\"y\":[10142.546774299637,10163.303051330255,10200.019262052705,10230.396522622515,10271.961001017822,10224.137368526306,10232.444387611562,10219.664979851137,10220.587529968056,10196.046051963895,10151.355362737453,10083.120830686354,10034.26226057214,10032.881390656585,9989.814424422768,9876.208641077574,9846.136250563646,9778.083586521596,9682.300790774783,9613.40119254242,9613.40119254242],\"type\":\"scatter\",\"uid\":\"f51a106b-ada1-4d22-b53d-d8d75a146e7f\",\"xaxis\":\"x\",\"yaxis\":\"y\"},{\"customdata\":[\"\\u003cbr\\u003eEmitted Luminosity: 7.942e+42\\u003cbr\\u003eRequested Luminosity: 1.059e+43\\u003cbr\\u003eAbsorbed Luminosity: 2.659e+42\",\"\\u003cbr\\u003eEmitted Luminosity: 7.942e+42\\u003cbr\\u003eRequested Luminosity: 1.059e+43\\u003cbr\\u003eAbsorbed Luminosity: 2.659e+42\",\"\\u003cbr\\u003eEmitted Luminosity: 7.942e+42\\u003cbr\\u003eRequested Luminosity: 1.059e+43\\u003cbr\\u003eAbsorbed Luminosity: 2.659e+42\",\"\\u003cbr\\u003eEmitted Luminosity: 7.942e+42\\u003cbr\\u003eRequested Luminosity: 1.059e+43\\u003cbr\\u003eAbsorbed Luminosity: 2.659e+42\",\"\\u003cbr\\u003eEmitted Luminosity: 7.942e+42\\u003cbr\\u003eRequested Luminosity: 1.059e+43\\u003cbr\\u003eAbsorbed Luminosity: 2.659e+42\",\"\\u003cbr\\u003eEmitted Luminosity: 7.942e+42\\u003cbr\\u003eRequested Luminosity: 1.059e+43\\u003cbr\\u003eAbsorbed Luminosity: 2.659e+42\",\"\\u003cbr\\u003eEmitted Luminosity: 7.942e+42\\u003cbr\\u003eRequested Luminosity: 1.059e+43\\u003cbr\\u003eAbsorbed Luminosity: 2.659e+42\",\"\\u003cbr\\u003eEmitted Luminosity: 7.942e+42\\u003cbr\\u003eRequested Luminosity: 1.059e+43\\u003cbr\\u003eAbsorbed Luminosity: 2.659e+42\",\"\\u003cbr\\u003eEmitted Luminosity: 7.942e+42\\u003cbr\\u003eRequested Luminosity: 1.059e+43\\u003cbr\\u003eAbsorbed Luminosity: 2.659e+42\",\"\\u003cbr\\u003eEmitted Luminosity: 7.942e+42\\u003cbr\\u003eRequested Luminosity: 1.059e+43\\u003cbr\\u003eAbsorbed Luminosity: 2.659e+42\",\"\\u003cbr\\u003eEmitted Luminosity: 7.942e+42\\u003cbr\\u003eRequested Luminosity: 1.059e+43\\u003cbr\\u003eAbsorbed Luminosity: 2.659e+42\",\"\\u003cbr\\u003eEmitted Luminosity: 7.942e+42\\u003cbr\\u003eRequested Luminosity: 1.059e+43\\u003cbr\\u003eAbsorbed Luminosity: 2.659e+42\",\"\\u003cbr\\u003eEmitted Luminosity: 7.942e+42\\u003cbr\\u003eRequested Luminosity: 1.059e+43\\u003cbr\\u003eAbsorbed Luminosity: 2.659e+42\",\"\\u003cbr\\u003eEmitted Luminosity: 7.942e+42\\u003cbr\\u003eRequested Luminosity: 1.059e+43\\u003cbr\\u003eAbsorbed Luminosity: 2.659e+42\",\"\\u003cbr\\u003eEmitted Luminosity: 7.942e+42\\u003cbr\\u003eRequested Luminosity: 1.059e+43\\u003cbr\\u003eAbsorbed Luminosity: 2.659e+42\",\"\\u003cbr\\u003eEmitted Luminosity: 7.942e+42\\u003cbr\\u003eRequested Luminosity: 1.059e+43\\u003cbr\\u003eAbsorbed Luminosity: 2.659e+42\",\"\\u003cbr\\u003eEmitted Luminosity: 7.942e+42\\u003cbr\\u003eRequested Luminosity: 1.059e+43\\u003cbr\\u003eAbsorbed Luminosity: 2.659e+42\",\"\\u003cbr\\u003eEmitted Luminosity: 7.942e+42\\u003cbr\\u003eRequested Luminosity: 1.059e+43\\u003cbr\\u003eAbsorbed Luminosity: 2.659e+42\",\"\\u003cbr\\u003eEmitted Luminosity: 7.942e+42\\u003cbr\\u003eRequested Luminosity: 1.059e+43\\u003cbr\\u003eAbsorbed Luminosity: 2.659e+42\",\"\\u003cbr\\u003eEmitted Luminosity: 7.942e+42\\u003cbr\\u003eRequested Luminosity: 1.059e+43\\u003cbr\\u003eAbsorbed Luminosity: 2.659e+42\",\"\\u003cbr\\u003eEmitted Luminosity: 7.942e+42\\u003cbr\\u003eRequested Luminosity: 1.059e+43\\u003cbr\\u003eAbsorbed Luminosity: 2.659e+42\"],\"hovertemplate\":\"\\u003cb\\u003eY\\u003c\\u002fb\\u003e: %{y:.3f} at \\u003cb\\u003eX\\u003c\\u002fb\\u003e = %{x:,.0f}%{customdata}\",\"legendgroup\":\"group-1\",\"line\":{\"color\":\"#000080\",\"shape\":\"hv\"},\"name\":\"1\",\"x\":[11000.0,11450.000000000002,11900.000000000002,12350.000000000002,12800.000000000002,13250.000000000002,13700.000000000002,14150.000000000002,14600.000000000002,15050.000000000002,15500.000000000002,15950.000000000002,16400.0,16850.0,17300.0,17750.0,18200.0,18650.0,19100.0,19550.0,20000.0],\"y\":[0.5071386234038285,0.39588257023780193,0.3214124379869753,0.2655829217222235,0.22359797280640265,0.19686585974450374,0.17443276370738484,0.1560877746606855,0.13932197173256358,0.12748531980295905,0.11686579653058335,0.10903202846610213,0.1028552652162803,0.09505170592564523,0.0897796314806307,0.08684575171780454,0.08193518152683271,0.0787580079047389,0.07631847187163315,0.07339697600034589,0.07339697600034589],\"type\":\"scatter\",\"uid\":\"ac037b65-64f8-4978-a44e-2e130c3eed92\",\"xaxis\":\"x2\",\"yaxis\":\"y2\"},{\"customdata\":[\"\\u003cbr\\u003eEmitted Luminosity: 1.071e+43\\u003cbr\\u003eRequested Luminosity: 1.059e+43\\u003cbr\\u003eAbsorbed Luminosity: 3.577e+42\",\"\\u003cbr\\u003eEmitted Luminosity: 1.071e+43\\u003cbr\\u003eRequested Luminosity: 1.059e+43\\u003cbr\\u003eAbsorbed Luminosity: 3.577e+42\",\"\\u003cbr\\u003eEmitted Luminosity: 1.071e+43\\u003cbr\\u003eRequested Luminosity: 1.059e+43\\u003cbr\\u003eAbsorbed Luminosity: 3.577e+42\",\"\\u003cbr\\u003eEmitted Luminosity: 1.071e+43\\u003cbr\\u003eRequested Luminosity: 1.059e+43\\u003cbr\\u003eAbsorbed Luminosity: 3.577e+42\",\"\\u003cbr\\u003eEmitted Luminosity: 1.071e+43\\u003cbr\\u003eRequested Luminosity: 1.059e+43\\u003cbr\\u003eAbsorbed Luminosity: 3.577e+42\",\"\\u003cbr\\u003eEmitted Luminosity: 1.071e+43\\u003cbr\\u003eRequested Luminosity: 1.059e+43\\u003cbr\\u003eAbsorbed Luminosity: 3.577e+42\",\"\\u003cbr\\u003eEmitted Luminosity: 1.071e+43\\u003cbr\\u003eRequested Luminosity: 1.059e+43\\u003cbr\\u003eAbsorbed Luminosity: 3.577e+42\",\"\\u003cbr\\u003eEmitted Luminosity: 1.071e+43\\u003cbr\\u003eRequested Luminosity: 1.059e+43\\u003cbr\\u003eAbsorbed Luminosity: 3.577e+42\",\"\\u003cbr\\u003eEmitted Luminosity: 1.071e+43\\u003cbr\\u003eRequested Luminosity: 1.059e+43\\u003cbr\\u003eAbsorbed Luminosity: 3.577e+42\",\"\\u003cbr\\u003eEmitted Luminosity: 1.071e+43\\u003cbr\\u003eRequested Luminosity: 1.059e+43\\u003cbr\\u003eAbsorbed Luminosity: 3.577e+42\",\"\\u003cbr\\u003eEmitted Luminosity: 1.071e+43\\u003cbr\\u003eRequested Luminosity: 1.059e+43\\u003cbr\\u003eAbsorbed Luminosity: 3.577e+42\",\"\\u003cbr\\u003eEmitted Luminosity: 1.071e+43\\u003cbr\\u003eRequested Luminosity: 1.059e+43\\u003cbr\\u003eAbsorbed Luminosity: 3.577e+42\",\"\\u003cbr\\u003eEmitted Luminosity: 1.071e+43\\u003cbr\\u003eRequested Luminosity: 1.059e+43\\u003cbr\\u003eAbsorbed Luminosity: 3.577e+42\",\"\\u003cbr\\u003eEmitted Luminosity: 1.071e+43\\u003cbr\\u003eRequested Luminosity: 1.059e+43\\u003cbr\\u003eAbsorbed Luminosity: 3.577e+42\",\"\\u003cbr\\u003eEmitted Luminosity: 1.071e+43\\u003cbr\\u003eRequested Luminosity: 1.059e+43\\u003cbr\\u003eAbsorbed Luminosity: 3.577e+42\",\"\\u003cbr\\u003eEmitted Luminosity: 1.071e+43\\u003cbr\\u003eRequested Luminosity: 1.059e+43\\u003cbr\\u003eAbsorbed Luminosity: 3.577e+42\",\"\\u003cbr\\u003eEmitted Luminosity: 1.071e+43\\u003cbr\\u003eRequested Luminosity: 1.059e+43\\u003cbr\\u003eAbsorbed Luminosity: 3.577e+42\",\"\\u003cbr\\u003eEmitted Luminosity: 1.071e+43\\u003cbr\\u003eRequested Luminosity: 1.059e+43\\u003cbr\\u003eAbsorbed Luminosity: 3.577e+42\",\"\\u003cbr\\u003eEmitted Luminosity: 1.071e+43\\u003cbr\\u003eRequested Luminosity: 1.059e+43\\u003cbr\\u003eAbsorbed Luminosity: 3.577e+42\",\"\\u003cbr\\u003eEmitted Luminosity: 1.071e+43\\u003cbr\\u003eRequested Luminosity: 1.059e+43\\u003cbr\\u003eAbsorbed Luminosity: 3.577e+42\",\"\\u003cbr\\u003eEmitted Luminosity: 1.071e+43\\u003cbr\\u003eRequested Luminosity: 1.059e+43\\u003cbr\\u003eAbsorbed Luminosity: 3.577e+42\"],\"hovertemplate\":\"\\u003cb\\u003eY\\u003c\\u002fb\\u003e: %{y:.3f} at \\u003cb\\u003eX\\u003c\\u002fb\\u003e = %{x:,.0f}%{customdata}\",\"legendgroup\":\"group-2\",\"line\":{\"color\":\"#0000bd\",\"shape\":\"hv\"},\"name\":\"2\",\"showlegend\":false,\"x\":[11000.0,11450.000000000002,11900.000000000002,12350.000000000002,12800.000000000002,13250.000000000002,13700.000000000002,14150.000000000002,14600.000000000002,15050.000000000002,15500.000000000002,15950.000000000002,16400.0,16850.0,17300.0,17750.0,18200.0,18650.0,19100.0,19550.0,20000.0],\"y\":[10823.77334332446,10827.718937235135,10908.457302929311,10949.358553982893,10974.47802711993,10973.065228086958,10967.964560697352,10919.523615395348,10881.884878005818,10846.918286249042,10799.893338387052,10735.117649462934,10677.210980628886,10610.208917710614,10541.821573683188,10501.552075221765,10407.423376985898,10347.994247120112,10281.678919197679,10205.920441512917,10205.920441512917],\"type\":\"scatter\",\"uid\":\"87ba191c-7b19-4a8c-838d-0873e6d3d40f\",\"xaxis\":\"x\",\"yaxis\":\"y\"},{\"customdata\":[\"\\u003cbr\\u003eEmitted Luminosity: 1.071e+43\\u003cbr\\u003eRequested Luminosity: 1.059e+43\\u003cbr\\u003eAbsorbed Luminosity: 3.577e+42\",\"\\u003cbr\\u003eEmitted Luminosity: 1.071e+43\\u003cbr\\u003eRequested Luminosity: 1.059e+43\\u003cbr\\u003eAbsorbed Luminosity: 3.577e+42\",\"\\u003cbr\\u003eEmitted Luminosity: 1.071e+43\\u003cbr\\u003eRequested Luminosity: 1.059e+43\\u003cbr\\u003eAbsorbed Luminosity: 3.577e+42\",\"\\u003cbr\\u003eEmitted Luminosity: 1.071e+43\\u003cbr\\u003eRequested Luminosity: 1.059e+43\\u003cbr\\u003eAbsorbed Luminosity: 3.577e+42\",\"\\u003cbr\\u003eEmitted Luminosity: 1.071e+43\\u003cbr\\u003eRequested Luminosity: 1.059e+43\\u003cbr\\u003eAbsorbed Luminosity: 3.577e+42\",\"\\u003cbr\\u003eEmitted Luminosity: 1.071e+43\\u003cbr\\u003eRequested Luminosity: 1.059e+43\\u003cbr\\u003eAbsorbed Luminosity: 3.577e+42\",\"\\u003cbr\\u003eEmitted Luminosity: 1.071e+43\\u003cbr\\u003eRequested Luminosity: 1.059e+43\\u003cbr\\u003eAbsorbed Luminosity: 3.577e+42\",\"\\u003cbr\\u003eEmitted Luminosity: 1.071e+43\\u003cbr\\u003eRequested Luminosity: 1.059e+43\\u003cbr\\u003eAbsorbed Luminosity: 3.577e+42\",\"\\u003cbr\\u003eEmitted Luminosity: 1.071e+43\\u003cbr\\u003eRequested Luminosity: 1.059e+43\\u003cbr\\u003eAbsorbed Luminosity: 3.577e+42\",\"\\u003cbr\\u003eEmitted Luminosity: 1.071e+43\\u003cbr\\u003eRequested Luminosity: 1.059e+43\\u003cbr\\u003eAbsorbed Luminosity: 3.577e+42\",\"\\u003cbr\\u003eEmitted Luminosity: 1.071e+43\\u003cbr\\u003eRequested Luminosity: 1.059e+43\\u003cbr\\u003eAbsorbed Luminosity: 3.577e+42\",\"\\u003cbr\\u003eEmitted Luminosity: 1.071e+43\\u003cbr\\u003eRequested Luminosity: 1.059e+43\\u003cbr\\u003eAbsorbed Luminosity: 3.577e+42\",\"\\u003cbr\\u003eEmitted Luminosity: 1.071e+43\\u003cbr\\u003eRequested Luminosity: 1.059e+43\\u003cbr\\u003eAbsorbed Luminosity: 3.577e+42\",\"\\u003cbr\\u003eEmitted Luminosity: 1.071e+43\\u003cbr\\u003eRequested Luminosity: 1.059e+43\\u003cbr\\u003eAbsorbed Luminosity: 3.577e+42\",\"\\u003cbr\\u003eEmitted Luminosity: 1.071e+43\\u003cbr\\u003eRequested Luminosity: 1.059e+43\\u003cbr\\u003eAbsorbed Luminosity: 3.577e+42\",\"\\u003cbr\\u003eEmitted Luminosity: 1.071e+43\\u003cbr\\u003eRequested Luminosity: 1.059e+43\\u003cbr\\u003eAbsorbed Luminosity: 3.577e+42\",\"\\u003cbr\\u003eEmitted Luminosity: 1.071e+43\\u003cbr\\u003eRequested Luminosity: 1.059e+43\\u003cbr\\u003eAbsorbed Luminosity: 3.577e+42\",\"\\u003cbr\\u003eEmitted Luminosity: 1.071e+43\\u003cbr\\u003eRequested Luminosity: 1.059e+43\\u003cbr\\u003eAbsorbed Luminosity: 3.577e+42\",\"\\u003cbr\\u003eEmitted Luminosity: 1.071e+43\\u003cbr\\u003eRequested Luminosity: 1.059e+43\\u003cbr\\u003eAbsorbed Luminosity: 3.577e+42\",\"\\u003cbr\\u003eEmitted Luminosity: 1.071e+43\\u003cbr\\u003eRequested Luminosity: 1.059e+43\\u003cbr\\u003eAbsorbed Luminosity: 3.577e+42\",\"\\u003cbr\\u003eEmitted Luminosity: 1.071e+43\\u003cbr\\u003eRequested Luminosity: 1.059e+43\\u003cbr\\u003eAbsorbed Luminosity: 3.577e+42\"],\"hovertemplate\":\"\\u003cb\\u003eY\\u003c\\u002fb\\u003e: %{y:.3f} at \\u003cb\\u003eX\\u003c\\u002fb\\u003e = %{x:,.0f}%{customdata}\",\"legendgroup\":\"group-2\",\"line\":{\"color\":\"#0000bd\",\"shape\":\"hv\"},\"name\":\"2\",\"x\":[11000.0,11450.000000000002,11900.000000000002,12350.000000000002,12800.000000000002,13250.000000000002,13700.000000000002,14150.000000000002,14600.000000000002,15050.000000000002,15500.000000000002,15950.000000000002,16400.0,16850.0,17300.0,17750.0,18200.0,18650.0,19100.0,19550.0,20000.0],\"y\":[0.5240465702929316,0.410579447658932,0.32959556864042244,0.2720532451041043,0.2303309814078089,0.2016549362233701,0.17907159191237557,0.16107145867419806,0.14551111034062753,0.13351921632364638,0.12429659806838836,0.11601460433070497,0.10915307758384966,0.10319125805883592,0.09851940572563944,0.09261232927765609,0.0889116895101628,0.08460270177967773,0.08116427949564496,0.0781635976444749,0.0781635976444749],\"type\":\"scatter\",\"uid\":\"404fc4a9-0948-41ea-930d-472cbb59f523\",\"xaxis\":\"x2\",\"yaxis\":\"y2\"},{\"customdata\":[\"\\u003cbr\\u003eEmitted Luminosity: 1.074e+43\\u003cbr\\u003eRequested Luminosity: 1.059e+43\\u003cbr\\u003eAbsorbed Luminosity: 3.397e+42\",\"\\u003cbr\\u003eEmitted Luminosity: 1.074e+43\\u003cbr\\u003eRequested Luminosity: 1.059e+43\\u003cbr\\u003eAbsorbed Luminosity: 3.397e+42\",\"\\u003cbr\\u003eEmitted Luminosity: 1.074e+43\\u003cbr\\u003eRequested Luminosity: 1.059e+43\\u003cbr\\u003eAbsorbed Luminosity: 3.397e+42\",\"\\u003cbr\\u003eEmitted Luminosity: 1.074e+43\\u003cbr\\u003eRequested Luminosity: 1.059e+43\\u003cbr\\u003eAbsorbed Luminosity: 3.397e+42\",\"\\u003cbr\\u003eEmitted Luminosity: 1.074e+43\\u003cbr\\u003eRequested Luminosity: 1.059e+43\\u003cbr\\u003eAbsorbed Luminosity: 3.397e+42\",\"\\u003cbr\\u003eEmitted Luminosity: 1.074e+43\\u003cbr\\u003eRequested Luminosity: 1.059e+43\\u003cbr\\u003eAbsorbed Luminosity: 3.397e+42\",\"\\u003cbr\\u003eEmitted Luminosity: 1.074e+43\\u003cbr\\u003eRequested Luminosity: 1.059e+43\\u003cbr\\u003eAbsorbed Luminosity: 3.397e+42\",\"\\u003cbr\\u003eEmitted Luminosity: 1.074e+43\\u003cbr\\u003eRequested Luminosity: 1.059e+43\\u003cbr\\u003eAbsorbed Luminosity: 3.397e+42\",\"\\u003cbr\\u003eEmitted Luminosity: 1.074e+43\\u003cbr\\u003eRequested Luminosity: 1.059e+43\\u003cbr\\u003eAbsorbed Luminosity: 3.397e+42\",\"\\u003cbr\\u003eEmitted Luminosity: 1.074e+43\\u003cbr\\u003eRequested Luminosity: 1.059e+43\\u003cbr\\u003eAbsorbed Luminosity: 3.397e+42\",\"\\u003cbr\\u003eEmitted Luminosity: 1.074e+43\\u003cbr\\u003eRequested Luminosity: 1.059e+43\\u003cbr\\u003eAbsorbed Luminosity: 3.397e+42\",\"\\u003cbr\\u003eEmitted Luminosity: 1.074e+43\\u003cbr\\u003eRequested Luminosity: 1.059e+43\\u003cbr\\u003eAbsorbed Luminosity: 3.397e+42\",\"\\u003cbr\\u003eEmitted Luminosity: 1.074e+43\\u003cbr\\u003eRequested Luminosity: 1.059e+43\\u003cbr\\u003eAbsorbed Luminosity: 3.397e+42\",\"\\u003cbr\\u003eEmitted Luminosity: 1.074e+43\\u003cbr\\u003eRequested Luminosity: 1.059e+43\\u003cbr\\u003eAbsorbed Luminosity: 3.397e+42\",\"\\u003cbr\\u003eEmitted Luminosity: 1.074e+43\\u003cbr\\u003eRequested Luminosity: 1.059e+43\\u003cbr\\u003eAbsorbed Luminosity: 3.397e+42\",\"\\u003cbr\\u003eEmitted Luminosity: 1.074e+43\\u003cbr\\u003eRequested Luminosity: 1.059e+43\\u003cbr\\u003eAbsorbed Luminosity: 3.397e+42\",\"\\u003cbr\\u003eEmitted Luminosity: 1.074e+43\\u003cbr\\u003eRequested Luminosity: 1.059e+43\\u003cbr\\u003eAbsorbed Luminosity: 3.397e+42\",\"\\u003cbr\\u003eEmitted Luminosity: 1.074e+43\\u003cbr\\u003eRequested Luminosity: 1.059e+43\\u003cbr\\u003eAbsorbed Luminosity: 3.397e+42\",\"\\u003cbr\\u003eEmitted Luminosity: 1.074e+43\\u003cbr\\u003eRequested Luminosity: 1.059e+43\\u003cbr\\u003eAbsorbed Luminosity: 3.397e+42\",\"\\u003cbr\\u003eEmitted Luminosity: 1.074e+43\\u003cbr\\u003eRequested Luminosity: 1.059e+43\\u003cbr\\u003eAbsorbed Luminosity: 3.397e+42\",\"\\u003cbr\\u003eEmitted Luminosity: 1.074e+43\\u003cbr\\u003eRequested Luminosity: 1.059e+43\\u003cbr\\u003eAbsorbed Luminosity: 3.397e+42\"],\"hovertemplate\":\"\\u003cb\\u003eY\\u003c\\u002fb\\u003e: %{y:.3f} at \\u003cb\\u003eX\\u003c\\u002fb\\u003e = %{x:,.0f}%{customdata}\",\"legendgroup\":\"group-3\",\"line\":{\"color\":\"#0000fa\",\"shape\":\"hv\"},\"name\":\"3\",\"showlegend\":false,\"x\":[11000.0,11450.000000000002,11900.000000000002,12350.000000000002,12800.000000000002,13250.000000000002,13700.000000000002,14150.000000000002,14600.000000000002,15050.000000000002,15500.000000000002,15950.000000000002,16400.0,16850.0,17300.0,17750.0,18200.0,18650.0,19100.0,19550.0,20000.0],\"y\":[10997.936523995828,11063.274472204119,11149.194291914178,11177.061585672396,11171.800247543346,11155.737122724431,11192.913676060993,11133.653678488916,11078.037151126115,11020.313214893193,10950.817110018921,10847.691060929646,10770.851153469723,10731.957881544344,10658.925378459695,10591.191659356997,10517.778528359742,10489.347190650495,10397.133445151798,10281.136476923999,10281.136476923999],\"type\":\"scatter\",\"uid\":\"ae981abc-3ebf-4f53-9bb6-2c04c47c7bc4\",\"xaxis\":\"x\",\"yaxis\":\"y\"},{\"customdata\":[\"\\u003cbr\\u003eEmitted Luminosity: 1.074e+43\\u003cbr\\u003eRequested Luminosity: 1.059e+43\\u003cbr\\u003eAbsorbed Luminosity: 3.397e+42\",\"\\u003cbr\\u003eEmitted Luminosity: 1.074e+43\\u003cbr\\u003eRequested Luminosity: 1.059e+43\\u003cbr\\u003eAbsorbed Luminosity: 3.397e+42\",\"\\u003cbr\\u003eEmitted Luminosity: 1.074e+43\\u003cbr\\u003eRequested Luminosity: 1.059e+43\\u003cbr\\u003eAbsorbed Luminosity: 3.397e+42\",\"\\u003cbr\\u003eEmitted Luminosity: 1.074e+43\\u003cbr\\u003eRequested Luminosity: 1.059e+43\\u003cbr\\u003eAbsorbed Luminosity: 3.397e+42\",\"\\u003cbr\\u003eEmitted Luminosity: 1.074e+43\\u003cbr\\u003eRequested Luminosity: 1.059e+43\\u003cbr\\u003eAbsorbed Luminosity: 3.397e+42\",\"\\u003cbr\\u003eEmitted Luminosity: 1.074e+43\\u003cbr\\u003eRequested Luminosity: 1.059e+43\\u003cbr\\u003eAbsorbed Luminosity: 3.397e+42\",\"\\u003cbr\\u003eEmitted Luminosity: 1.074e+43\\u003cbr\\u003eRequested Luminosity: 1.059e+43\\u003cbr\\u003eAbsorbed Luminosity: 3.397e+42\",\"\\u003cbr\\u003eEmitted Luminosity: 1.074e+43\\u003cbr\\u003eRequested Luminosity: 1.059e+43\\u003cbr\\u003eAbsorbed Luminosity: 3.397e+42\",\"\\u003cbr\\u003eEmitted Luminosity: 1.074e+43\\u003cbr\\u003eRequested Luminosity: 1.059e+43\\u003cbr\\u003eAbsorbed Luminosity: 3.397e+42\",\"\\u003cbr\\u003eEmitted Luminosity: 1.074e+43\\u003cbr\\u003eRequested Luminosity: 1.059e+43\\u003cbr\\u003eAbsorbed Luminosity: 3.397e+42\",\"\\u003cbr\\u003eEmitted Luminosity: 1.074e+43\\u003cbr\\u003eRequested Luminosity: 1.059e+43\\u003cbr\\u003eAbsorbed Luminosity: 3.397e+42\",\"\\u003cbr\\u003eEmitted Luminosity: 1.074e+43\\u003cbr\\u003eRequested Luminosity: 1.059e+43\\u003cbr\\u003eAbsorbed Luminosity: 3.397e+42\",\"\\u003cbr\\u003eEmitted Luminosity: 1.074e+43\\u003cbr\\u003eRequested Luminosity: 1.059e+43\\u003cbr\\u003eAbsorbed Luminosity: 3.397e+42\",\"\\u003cbr\\u003eEmitted Luminosity: 1.074e+43\\u003cbr\\u003eRequested Luminosity: 1.059e+43\\u003cbr\\u003eAbsorbed Luminosity: 3.397e+42\",\"\\u003cbr\\u003eEmitted Luminosity: 1.074e+43\\u003cbr\\u003eRequested Luminosity: 1.059e+43\\u003cbr\\u003eAbsorbed Luminosity: 3.397e+42\",\"\\u003cbr\\u003eEmitted Luminosity: 1.074e+43\\u003cbr\\u003eRequested Luminosity: 1.059e+43\\u003cbr\\u003eAbsorbed Luminosity: 3.397e+42\",\"\\u003cbr\\u003eEmitted Luminosity: 1.074e+43\\u003cbr\\u003eRequested Luminosity: 1.059e+43\\u003cbr\\u003eAbsorbed Luminosity: 3.397e+42\",\"\\u003cbr\\u003eEmitted Luminosity: 1.074e+43\\u003cbr\\u003eRequested Luminosity: 1.059e+43\\u003cbr\\u003eAbsorbed Luminosity: 3.397e+42\",\"\\u003cbr\\u003eEmitted Luminosity: 1.074e+43\\u003cbr\\u003eRequested Luminosity: 1.059e+43\\u003cbr\\u003eAbsorbed Luminosity: 3.397e+42\",\"\\u003cbr\\u003eEmitted Luminosity: 1.074e+43\\u003cbr\\u003eRequested Luminosity: 1.059e+43\\u003cbr\\u003eAbsorbed Luminosity: 3.397e+42\",\"\\u003cbr\\u003eEmitted Luminosity: 1.074e+43\\u003cbr\\u003eRequested Luminosity: 1.059e+43\\u003cbr\\u003eAbsorbed Luminosity: 3.397e+42\"],\"hovertemplate\":\"\\u003cb\\u003eY\\u003c\\u002fb\\u003e: %{y:.3f} at \\u003cb\\u003eX\\u003c\\u002fb\\u003e = %{x:,.0f}%{customdata}\",\"legendgroup\":\"group-3\",\"line\":{\"color\":\"#0000fa\",\"shape\":\"hv\"},\"name\":\"3\",\"x\":[11000.0,11450.000000000002,11900.000000000002,12350.000000000002,12800.000000000002,13250.000000000002,13700.000000000002,14150.000000000002,14600.000000000002,15050.000000000002,15500.000000000002,15950.000000000002,16400.0,16850.0,17300.0,17750.0,18200.0,18650.0,19100.0,19550.0,20000.0],\"y\":[0.48387312652364345,0.376736578180491,0.3013881467259516,0.25059839124891675,0.21670864054170416,0.19045983836209787,0.16611275348862584,0.15014585906097053,0.1377445743274192,0.12749643288164783,0.11816891468740891,0.11173415301519588,0.10551162653416077,0.099201236789095,0.09399770448375716,0.08935387047552219,0.08536465696565314,0.08048337202517078,0.07811001300823697,0.0759620639903259,0.0759620639903259],\"type\":\"scatter\",\"uid\":\"355a5cc6-137c-4951-8e16-5feae819b639\",\"xaxis\":\"x2\",\"yaxis\":\"y2\"},{\"customdata\":[\"\\u003cbr\\u003eEmitted Luminosity: 1.058e+43\\u003cbr\\u003eRequested Luminosity: 1.059e+43\\u003cbr\\u003eAbsorbed Luminosity: 3.365e+42\",\"\\u003cbr\\u003eEmitted Luminosity: 1.058e+43\\u003cbr\\u003eRequested Luminosity: 1.059e+43\\u003cbr\\u003eAbsorbed Luminosity: 3.365e+42\",\"\\u003cbr\\u003eEmitted Luminosity: 1.058e+43\\u003cbr\\u003eRequested Luminosity: 1.059e+43\\u003cbr\\u003eAbsorbed Luminosity: 3.365e+42\",\"\\u003cbr\\u003eEmitted Luminosity: 1.058e+43\\u003cbr\\u003eRequested Luminosity: 1.059e+43\\u003cbr\\u003eAbsorbed Luminosity: 3.365e+42\",\"\\u003cbr\\u003eEmitted Luminosity: 1.058e+43\\u003cbr\\u003eRequested Luminosity: 1.059e+43\\u003cbr\\u003eAbsorbed Luminosity: 3.365e+42\",\"\\u003cbr\\u003eEmitted Luminosity: 1.058e+43\\u003cbr\\u003eRequested Luminosity: 1.059e+43\\u003cbr\\u003eAbsorbed Luminosity: 3.365e+42\",\"\\u003cbr\\u003eEmitted Luminosity: 1.058e+43\\u003cbr\\u003eRequested Luminosity: 1.059e+43\\u003cbr\\u003eAbsorbed Luminosity: 3.365e+42\",\"\\u003cbr\\u003eEmitted Luminosity: 1.058e+43\\u003cbr\\u003eRequested Luminosity: 1.059e+43\\u003cbr\\u003eAbsorbed Luminosity: 3.365e+42\",\"\\u003cbr\\u003eEmitted Luminosity: 1.058e+43\\u003cbr\\u003eRequested Luminosity: 1.059e+43\\u003cbr\\u003eAbsorbed Luminosity: 3.365e+42\",\"\\u003cbr\\u003eEmitted Luminosity: 1.058e+43\\u003cbr\\u003eRequested Luminosity: 1.059e+43\\u003cbr\\u003eAbsorbed Luminosity: 3.365e+42\",\"\\u003cbr\\u003eEmitted Luminosity: 1.058e+43\\u003cbr\\u003eRequested Luminosity: 1.059e+43\\u003cbr\\u003eAbsorbed Luminosity: 3.365e+42\",\"\\u003cbr\\u003eEmitted Luminosity: 1.058e+43\\u003cbr\\u003eRequested Luminosity: 1.059e+43\\u003cbr\\u003eAbsorbed Luminosity: 3.365e+42\",\"\\u003cbr\\u003eEmitted Luminosity: 1.058e+43\\u003cbr\\u003eRequested Luminosity: 1.059e+43\\u003cbr\\u003eAbsorbed Luminosity: 3.365e+42\",\"\\u003cbr\\u003eEmitted Luminosity: 1.058e+43\\u003cbr\\u003eRequested Luminosity: 1.059e+43\\u003cbr\\u003eAbsorbed Luminosity: 3.365e+42\",\"\\u003cbr\\u003eEmitted Luminosity: 1.058e+43\\u003cbr\\u003eRequested Luminosity: 1.059e+43\\u003cbr\\u003eAbsorbed Luminosity: 3.365e+42\",\"\\u003cbr\\u003eEmitted Luminosity: 1.058e+43\\u003cbr\\u003eRequested Luminosity: 1.059e+43\\u003cbr\\u003eAbsorbed Luminosity: 3.365e+42\",\"\\u003cbr\\u003eEmitted Luminosity: 1.058e+43\\u003cbr\\u003eRequested Luminosity: 1.059e+43\\u003cbr\\u003eAbsorbed Luminosity: 3.365e+42\",\"\\u003cbr\\u003eEmitted Luminosity: 1.058e+43\\u003cbr\\u003eRequested Luminosity: 1.059e+43\\u003cbr\\u003eAbsorbed Luminosity: 3.365e+42\",\"\\u003cbr\\u003eEmitted Luminosity: 1.058e+43\\u003cbr\\u003eRequested Luminosity: 1.059e+43\\u003cbr\\u003eAbsorbed Luminosity: 3.365e+42\",\"\\u003cbr\\u003eEmitted Luminosity: 1.058e+43\\u003cbr\\u003eRequested Luminosity: 1.059e+43\\u003cbr\\u003eAbsorbed Luminosity: 3.365e+42\",\"\\u003cbr\\u003eEmitted Luminosity: 1.058e+43\\u003cbr\\u003eRequested Luminosity: 1.059e+43\\u003cbr\\u003eAbsorbed Luminosity: 3.365e+42\"],\"hovertemplate\":\"\\u003cb\\u003eY\\u003c\\u002fb\\u003e: %{y:.3f} at \\u003cb\\u003eX\\u003c\\u002fb\\u003e = %{x:,.0f}%{customdata}\",\"legendgroup\":\"group-4\",\"line\":{\"color\":\"#0022ff\",\"shape\":\"hv\"},\"name\":\"4\",\"showlegend\":false,\"x\":[11000.0,11450.000000000002,11900.000000000002,12350.000000000002,12800.000000000002,13250.000000000002,13700.000000000002,14150.000000000002,14600.000000000002,15050.000000000002,15500.000000000002,15950.000000000002,16400.0,16850.0,17300.0,17750.0,18200.0,18650.0,19100.0,19550.0,20000.0],\"y\":[11025.45975349695,11127.449782394435,11209.420379378416,11254.344441148305,11282.752739494317,11250.476774779905,11200.352376576198,11135.393653920339,11099.916346838634,11121.005049421365,11025.830185200084,10952.832007808487,10939.260974976682,10847.621535605444,10781.627324300835,10693.643402216056,10574.199701263282,10504.811553669364,10393.786798419163,10296.897178599884,10296.897178599884],\"type\":\"scatter\",\"uid\":\"1b2ef0a3-78f0-4362-b2ed-3536990bc8eb\",\"xaxis\":\"x\",\"yaxis\":\"y\"},{\"customdata\":[\"\\u003cbr\\u003eEmitted Luminosity: 1.058e+43\\u003cbr\\u003eRequested Luminosity: 1.059e+43\\u003cbr\\u003eAbsorbed Luminosity: 3.365e+42\",\"\\u003cbr\\u003eEmitted Luminosity: 1.058e+43\\u003cbr\\u003eRequested Luminosity: 1.059e+43\\u003cbr\\u003eAbsorbed Luminosity: 3.365e+42\",\"\\u003cbr\\u003eEmitted Luminosity: 1.058e+43\\u003cbr\\u003eRequested Luminosity: 1.059e+43\\u003cbr\\u003eAbsorbed Luminosity: 3.365e+42\",\"\\u003cbr\\u003eEmitted Luminosity: 1.058e+43\\u003cbr\\u003eRequested Luminosity: 1.059e+43\\u003cbr\\u003eAbsorbed Luminosity: 3.365e+42\",\"\\u003cbr\\u003eEmitted Luminosity: 1.058e+43\\u003cbr\\u003eRequested Luminosity: 1.059e+43\\u003cbr\\u003eAbsorbed Luminosity: 3.365e+42\",\"\\u003cbr\\u003eEmitted Luminosity: 1.058e+43\\u003cbr\\u003eRequested Luminosity: 1.059e+43\\u003cbr\\u003eAbsorbed Luminosity: 3.365e+42\",\"\\u003cbr\\u003eEmitted Luminosity: 1.058e+43\\u003cbr\\u003eRequested Luminosity: 1.059e+43\\u003cbr\\u003eAbsorbed Luminosity: 3.365e+42\",\"\\u003cbr\\u003eEmitted Luminosity: 1.058e+43\\u003cbr\\u003eRequested Luminosity: 1.059e+43\\u003cbr\\u003eAbsorbed Luminosity: 3.365e+42\",\"\\u003cbr\\u003eEmitted Luminosity: 1.058e+43\\u003cbr\\u003eRequested Luminosity: 1.059e+43\\u003cbr\\u003eAbsorbed Luminosity: 3.365e+42\",\"\\u003cbr\\u003eEmitted Luminosity: 1.058e+43\\u003cbr\\u003eRequested Luminosity: 1.059e+43\\u003cbr\\u003eAbsorbed Luminosity: 3.365e+42\",\"\\u003cbr\\u003eEmitted Luminosity: 1.058e+43\\u003cbr\\u003eRequested Luminosity: 1.059e+43\\u003cbr\\u003eAbsorbed Luminosity: 3.365e+42\",\"\\u003cbr\\u003eEmitted Luminosity: 1.058e+43\\u003cbr\\u003eRequested Luminosity: 1.059e+43\\u003cbr\\u003eAbsorbed Luminosity: 3.365e+42\",\"\\u003cbr\\u003eEmitted Luminosity: 1.058e+43\\u003cbr\\u003eRequested Luminosity: 1.059e+43\\u003cbr\\u003eAbsorbed Luminosity: 3.365e+42\",\"\\u003cbr\\u003eEmitted Luminosity: 1.058e+43\\u003cbr\\u003eRequested Luminosity: 1.059e+43\\u003cbr\\u003eAbsorbed Luminosity: 3.365e+42\",\"\\u003cbr\\u003eEmitted Luminosity: 1.058e+43\\u003cbr\\u003eRequested Luminosity: 1.059e+43\\u003cbr\\u003eAbsorbed Luminosity: 3.365e+42\",\"\\u003cbr\\u003eEmitted Luminosity: 1.058e+43\\u003cbr\\u003eRequested Luminosity: 1.059e+43\\u003cbr\\u003eAbsorbed Luminosity: 3.365e+42\",\"\\u003cbr\\u003eEmitted Luminosity: 1.058e+43\\u003cbr\\u003eRequested Luminosity: 1.059e+43\\u003cbr\\u003eAbsorbed Luminosity: 3.365e+42\",\"\\u003cbr\\u003eEmitted Luminosity: 1.058e+43\\u003cbr\\u003eRequested Luminosity: 1.059e+43\\u003cbr\\u003eAbsorbed Luminosity: 3.365e+42\",\"\\u003cbr\\u003eEmitted Luminosity: 1.058e+43\\u003cbr\\u003eRequested Luminosity: 1.059e+43\\u003cbr\\u003eAbsorbed Luminosity: 3.365e+42\",\"\\u003cbr\\u003eEmitted Luminosity: 1.058e+43\\u003cbr\\u003eRequested Luminosity: 1.059e+43\\u003cbr\\u003eAbsorbed Luminosity: 3.365e+42\",\"\\u003cbr\\u003eEmitted Luminosity: 1.058e+43\\u003cbr\\u003eRequested Luminosity: 1.059e+43\\u003cbr\\u003eAbsorbed Luminosity: 3.365e+42\"],\"hovertemplate\":\"\\u003cb\\u003eY\\u003c\\u002fb\\u003e: %{y:.3f} at \\u003cb\\u003eX\\u003c\\u002fb\\u003e = %{x:,.0f}%{customdata}\",\"legendgroup\":\"group-4\",\"line\":{\"color\":\"#0022ff\",\"shape\":\"hv\"},\"name\":\"4\",\"x\":[11000.0,11450.000000000002,11900.000000000002,12350.000000000002,12800.000000000002,13250.000000000002,13700.000000000002,14150.000000000002,14600.000000000002,15050.000000000002,15500.000000000002,15950.000000000002,16400.0,16850.0,17300.0,17750.0,18200.0,18650.0,19100.0,19550.0,20000.0],\"y\":[0.47076903565338124,0.359467569203179,0.28713539250946407,0.2386277124619481,0.2069911402734292,0.18123985934647843,0.16270372507645928,0.14765015796482955,0.1342323986873148,0.12044458777900238,0.11340893664888273,0.10618300677868837,0.09808336929289929,0.09372130864564865,0.08889074676935374,0.0851179216641715,0.0827161389148957,0.07912735904269712,0.07681632111500883,0.07455402078107716,0.07455402078107716],\"type\":\"scatter\",\"uid\":\"56c970cb-ef38-42e2-ba3b-b973962fa2b0\",\"xaxis\":\"x2\",\"yaxis\":\"y2\"},{\"customdata\":[\"\\u003cbr\\u003eEmitted Luminosity: 1.057e+43\\u003cbr\\u003eRequested Luminosity: 1.059e+43\\u003cbr\\u003eAbsorbed Luminosity: 3.391e+42\",\"\\u003cbr\\u003eEmitted Luminosity: 1.057e+43\\u003cbr\\u003eRequested Luminosity: 1.059e+43\\u003cbr\\u003eAbsorbed Luminosity: 3.391e+42\",\"\\u003cbr\\u003eEmitted Luminosity: 1.057e+43\\u003cbr\\u003eRequested Luminosity: 1.059e+43\\u003cbr\\u003eAbsorbed Luminosity: 3.391e+42\",\"\\u003cbr\\u003eEmitted Luminosity: 1.057e+43\\u003cbr\\u003eRequested Luminosity: 1.059e+43\\u003cbr\\u003eAbsorbed Luminosity: 3.391e+42\",\"\\u003cbr\\u003eEmitted Luminosity: 1.057e+43\\u003cbr\\u003eRequested Luminosity: 1.059e+43\\u003cbr\\u003eAbsorbed Luminosity: 3.391e+42\",\"\\u003cbr\\u003eEmitted Luminosity: 1.057e+43\\u003cbr\\u003eRequested Luminosity: 1.059e+43\\u003cbr\\u003eAbsorbed Luminosity: 3.391e+42\",\"\\u003cbr\\u003eEmitted Luminosity: 1.057e+43\\u003cbr\\u003eRequested Luminosity: 1.059e+43\\u003cbr\\u003eAbsorbed Luminosity: 3.391e+42\",\"\\u003cbr\\u003eEmitted Luminosity: 1.057e+43\\u003cbr\\u003eRequested Luminosity: 1.059e+43\\u003cbr\\u003eAbsorbed Luminosity: 3.391e+42\",\"\\u003cbr\\u003eEmitted Luminosity: 1.057e+43\\u003cbr\\u003eRequested Luminosity: 1.059e+43\\u003cbr\\u003eAbsorbed Luminosity: 3.391e+42\",\"\\u003cbr\\u003eEmitted Luminosity: 1.057e+43\\u003cbr\\u003eRequested Luminosity: 1.059e+43\\u003cbr\\u003eAbsorbed Luminosity: 3.391e+42\",\"\\u003cbr\\u003eEmitted Luminosity: 1.057e+43\\u003cbr\\u003eRequested Luminosity: 1.059e+43\\u003cbr\\u003eAbsorbed Luminosity: 3.391e+42\",\"\\u003cbr\\u003eEmitted Luminosity: 1.057e+43\\u003cbr\\u003eRequested Luminosity: 1.059e+43\\u003cbr\\u003eAbsorbed Luminosity: 3.391e+42\",\"\\u003cbr\\u003eEmitted Luminosity: 1.057e+43\\u003cbr\\u003eRequested Luminosity: 1.059e+43\\u003cbr\\u003eAbsorbed Luminosity: 3.391e+42\",\"\\u003cbr\\u003eEmitted Luminosity: 1.057e+43\\u003cbr\\u003eRequested Luminosity: 1.059e+43\\u003cbr\\u003eAbsorbed Luminosity: 3.391e+42\",\"\\u003cbr\\u003eEmitted Luminosity: 1.057e+43\\u003cbr\\u003eRequested Luminosity: 1.059e+43\\u003cbr\\u003eAbsorbed Luminosity: 3.391e+42\",\"\\u003cbr\\u003eEmitted Luminosity: 1.057e+43\\u003cbr\\u003eRequested Luminosity: 1.059e+43\\u003cbr\\u003eAbsorbed Luminosity: 3.391e+42\",\"\\u003cbr\\u003eEmitted Luminosity: 1.057e+43\\u003cbr\\u003eRequested Luminosity: 1.059e+43\\u003cbr\\u003eAbsorbed Luminosity: 3.391e+42\",\"\\u003cbr\\u003eEmitted Luminosity: 1.057e+43\\u003cbr\\u003eRequested Luminosity: 1.059e+43\\u003cbr\\u003eAbsorbed Luminosity: 3.391e+42\",\"\\u003cbr\\u003eEmitted Luminosity: 1.057e+43\\u003cbr\\u003eRequested Luminosity: 1.059e+43\\u003cbr\\u003eAbsorbed Luminosity: 3.391e+42\",\"\\u003cbr\\u003eEmitted Luminosity: 1.057e+43\\u003cbr\\u003eRequested Luminosity: 1.059e+43\\u003cbr\\u003eAbsorbed Luminosity: 3.391e+42\",\"\\u003cbr\\u003eEmitted Luminosity: 1.057e+43\\u003cbr\\u003eRequested Luminosity: 1.059e+43\\u003cbr\\u003eAbsorbed Luminosity: 3.391e+42\"],\"hovertemplate\":\"\\u003cb\\u003eY\\u003c\\u002fb\\u003e: %{y:.3f} at \\u003cb\\u003eX\\u003c\\u002fb\\u003e = %{x:,.0f}%{customdata}\",\"legendgroup\":\"group-5\",\"line\":{\"color\":\"#0057ff\",\"shape\":\"hv\"},\"name\":\"5\",\"showlegend\":false,\"x\":[11000.0,11450.000000000002,11900.000000000002,12350.000000000002,12800.000000000002,13250.000000000002,13700.000000000002,14150.000000000002,14600.000000000002,15050.000000000002,15500.000000000002,15950.000000000002,16400.0,16850.0,17300.0,17750.0,18200.0,18650.0,19100.0,19550.0,20000.0],\"y\":[10998.99236981871,11118.595763133759,11183.511015661876,11258.902451826058,11286.592385445527,11285.022097664661,11274.721116901344,11216.554066368753,11115.33768963172,11065.359723711765,10984.384689915303,10978.145482199456,10881.945016145322,10806.953694199374,10800.997480104645,10734.268320538897,10583.644117566319,10517.535190563633,10422.354665389608,10296.220363897384,10296.220363897384],\"type\":\"scatter\",\"uid\":\"50220dd4-5c52-47fa-9ed4-654229764e85\",\"xaxis\":\"x\",\"yaxis\":\"y\"},{\"customdata\":[\"\\u003cbr\\u003eEmitted Luminosity: 1.057e+43\\u003cbr\\u003eRequested Luminosity: 1.059e+43\\u003cbr\\u003eAbsorbed Luminosity: 3.391e+42\",\"\\u003cbr\\u003eEmitted Luminosity: 1.057e+43\\u003cbr\\u003eRequested Luminosity: 1.059e+43\\u003cbr\\u003eAbsorbed Luminosity: 3.391e+42\",\"\\u003cbr\\u003eEmitted Luminosity: 1.057e+43\\u003cbr\\u003eRequested Luminosity: 1.059e+43\\u003cbr\\u003eAbsorbed Luminosity: 3.391e+42\",\"\\u003cbr\\u003eEmitted Luminosity: 1.057e+43\\u003cbr\\u003eRequested Luminosity: 1.059e+43\\u003cbr\\u003eAbsorbed Luminosity: 3.391e+42\",\"\\u003cbr\\u003eEmitted Luminosity: 1.057e+43\\u003cbr\\u003eRequested Luminosity: 1.059e+43\\u003cbr\\u003eAbsorbed Luminosity: 3.391e+42\",\"\\u003cbr\\u003eEmitted Luminosity: 1.057e+43\\u003cbr\\u003eRequested Luminosity: 1.059e+43\\u003cbr\\u003eAbsorbed Luminosity: 3.391e+42\",\"\\u003cbr\\u003eEmitted Luminosity: 1.057e+43\\u003cbr\\u003eRequested Luminosity: 1.059e+43\\u003cbr\\u003eAbsorbed Luminosity: 3.391e+42\",\"\\u003cbr\\u003eEmitted Luminosity: 1.057e+43\\u003cbr\\u003eRequested Luminosity: 1.059e+43\\u003cbr\\u003eAbsorbed Luminosity: 3.391e+42\",\"\\u003cbr\\u003eEmitted Luminosity: 1.057e+43\\u003cbr\\u003eRequested Luminosity: 1.059e+43\\u003cbr\\u003eAbsorbed Luminosity: 3.391e+42\",\"\\u003cbr\\u003eEmitted Luminosity: 1.057e+43\\u003cbr\\u003eRequested Luminosity: 1.059e+43\\u003cbr\\u003eAbsorbed Luminosity: 3.391e+42\",\"\\u003cbr\\u003eEmitted Luminosity: 1.057e+43\\u003cbr\\u003eRequested Luminosity: 1.059e+43\\u003cbr\\u003eAbsorbed Luminosity: 3.391e+42\",\"\\u003cbr\\u003eEmitted Luminosity: 1.057e+43\\u003cbr\\u003eRequested Luminosity: 1.059e+43\\u003cbr\\u003eAbsorbed Luminosity: 3.391e+42\",\"\\u003cbr\\u003eEmitted Luminosity: 1.057e+43\\u003cbr\\u003eRequested Luminosity: 1.059e+43\\u003cbr\\u003eAbsorbed Luminosity: 3.391e+42\",\"\\u003cbr\\u003eEmitted Luminosity: 1.057e+43\\u003cbr\\u003eRequested Luminosity: 1.059e+43\\u003cbr\\u003eAbsorbed Luminosity: 3.391e+42\",\"\\u003cbr\\u003eEmitted Luminosity: 1.057e+43\\u003cbr\\u003eRequested Luminosity: 1.059e+43\\u003cbr\\u003eAbsorbed Luminosity: 3.391e+42\",\"\\u003cbr\\u003eEmitted Luminosity: 1.057e+43\\u003cbr\\u003eRequested Luminosity: 1.059e+43\\u003cbr\\u003eAbsorbed Luminosity: 3.391e+42\",\"\\u003cbr\\u003eEmitted Luminosity: 1.057e+43\\u003cbr\\u003eRequested Luminosity: 1.059e+43\\u003cbr\\u003eAbsorbed Luminosity: 3.391e+42\",\"\\u003cbr\\u003eEmitted Luminosity: 1.057e+43\\u003cbr\\u003eRequested Luminosity: 1.059e+43\\u003cbr\\u003eAbsorbed Luminosity: 3.391e+42\",\"\\u003cbr\\u003eEmitted Luminosity: 1.057e+43\\u003cbr\\u003eRequested Luminosity: 1.059e+43\\u003cbr\\u003eAbsorbed Luminosity: 3.391e+42\",\"\\u003cbr\\u003eEmitted Luminosity: 1.057e+43\\u003cbr\\u003eRequested Luminosity: 1.059e+43\\u003cbr\\u003eAbsorbed Luminosity: 3.391e+42\",\"\\u003cbr\\u003eEmitted Luminosity: 1.057e+43\\u003cbr\\u003eRequested Luminosity: 1.059e+43\\u003cbr\\u003eAbsorbed Luminosity: 3.391e+42\"],\"hovertemplate\":\"\\u003cb\\u003eY\\u003c\\u002fb\\u003e: %{y:.3f} at \\u003cb\\u003eX\\u003c\\u002fb\\u003e = %{x:,.0f}%{customdata}\",\"legendgroup\":\"group-5\",\"line\":{\"color\":\"#0057ff\",\"shape\":\"hv\"},\"name\":\"5\",\"x\":[11000.0,11450.000000000002,11900.000000000002,12350.000000000002,12800.000000000002,13250.000000000002,13700.000000000002,14150.000000000002,14600.000000000002,15050.000000000002,15500.000000000002,15950.000000000002,16400.0,16850.0,17300.0,17750.0,18200.0,18650.0,19100.0,19550.0,20000.0],\"y\":[0.4796907459235665,0.36729453390062583,0.2943218872660337,0.24208371215389055,0.20485176817646183,0.17867901768055613,0.15853083038858842,0.14407773048611613,0.1341684284744822,0.1230142256615199,0.11514532261234164,0.10624255770433527,0.10007435479167458,0.09466877337057654,0.0880034889145706,0.08382564449665902,0.08168852886730643,0.07820956913058698,0.07592947103437077,0.07429711549471381,0.07429711549471381],\"type\":\"scatter\",\"uid\":\"57cc8b84-2ffd-470d-a78a-ad1d0efd703e\",\"xaxis\":\"x2\",\"yaxis\":\"y2\"},{\"customdata\":[\"\\u003cbr\\u003eEmitted Luminosity: 1.06e+43\\u003cbr\\u003eRequested Luminosity: 1.059e+43\\u003cbr\\u003eAbsorbed Luminosity: 3.394e+42\",\"\\u003cbr\\u003eEmitted Luminosity: 1.06e+43\\u003cbr\\u003eRequested Luminosity: 1.059e+43\\u003cbr\\u003eAbsorbed Luminosity: 3.394e+42\",\"\\u003cbr\\u003eEmitted Luminosity: 1.06e+43\\u003cbr\\u003eRequested Luminosity: 1.059e+43\\u003cbr\\u003eAbsorbed Luminosity: 3.394e+42\",\"\\u003cbr\\u003eEmitted Luminosity: 1.06e+43\\u003cbr\\u003eRequested Luminosity: 1.059e+43\\u003cbr\\u003eAbsorbed Luminosity: 3.394e+42\",\"\\u003cbr\\u003eEmitted Luminosity: 1.06e+43\\u003cbr\\u003eRequested Luminosity: 1.059e+43\\u003cbr\\u003eAbsorbed Luminosity: 3.394e+42\",\"\\u003cbr\\u003eEmitted Luminosity: 1.06e+43\\u003cbr\\u003eRequested Luminosity: 1.059e+43\\u003cbr\\u003eAbsorbed Luminosity: 3.394e+42\",\"\\u003cbr\\u003eEmitted Luminosity: 1.06e+43\\u003cbr\\u003eRequested Luminosity: 1.059e+43\\u003cbr\\u003eAbsorbed Luminosity: 3.394e+42\",\"\\u003cbr\\u003eEmitted Luminosity: 1.06e+43\\u003cbr\\u003eRequested Luminosity: 1.059e+43\\u003cbr\\u003eAbsorbed Luminosity: 3.394e+42\",\"\\u003cbr\\u003eEmitted Luminosity: 1.06e+43\\u003cbr\\u003eRequested Luminosity: 1.059e+43\\u003cbr\\u003eAbsorbed Luminosity: 3.394e+42\",\"\\u003cbr\\u003eEmitted Luminosity: 1.06e+43\\u003cbr\\u003eRequested Luminosity: 1.059e+43\\u003cbr\\u003eAbsorbed Luminosity: 3.394e+42\",\"\\u003cbr\\u003eEmitted Luminosity: 1.06e+43\\u003cbr\\u003eRequested Luminosity: 1.059e+43\\u003cbr\\u003eAbsorbed Luminosity: 3.394e+42\",\"\\u003cbr\\u003eEmitted Luminosity: 1.06e+43\\u003cbr\\u003eRequested Luminosity: 1.059e+43\\u003cbr\\u003eAbsorbed Luminosity: 3.394e+42\",\"\\u003cbr\\u003eEmitted Luminosity: 1.06e+43\\u003cbr\\u003eRequested Luminosity: 1.059e+43\\u003cbr\\u003eAbsorbed Luminosity: 3.394e+42\",\"\\u003cbr\\u003eEmitted Luminosity: 1.06e+43\\u003cbr\\u003eRequested Luminosity: 1.059e+43\\u003cbr\\u003eAbsorbed Luminosity: 3.394e+42\",\"\\u003cbr\\u003eEmitted Luminosity: 1.06e+43\\u003cbr\\u003eRequested Luminosity: 1.059e+43\\u003cbr\\u003eAbsorbed Luminosity: 3.394e+42\",\"\\u003cbr\\u003eEmitted Luminosity: 1.06e+43\\u003cbr\\u003eRequested Luminosity: 1.059e+43\\u003cbr\\u003eAbsorbed Luminosity: 3.394e+42\",\"\\u003cbr\\u003eEmitted Luminosity: 1.06e+43\\u003cbr\\u003eRequested Luminosity: 1.059e+43\\u003cbr\\u003eAbsorbed Luminosity: 3.394e+42\",\"\\u003cbr\\u003eEmitted Luminosity: 1.06e+43\\u003cbr\\u003eRequested Luminosity: 1.059e+43\\u003cbr\\u003eAbsorbed Luminosity: 3.394e+42\",\"\\u003cbr\\u003eEmitted Luminosity: 1.06e+43\\u003cbr\\u003eRequested Luminosity: 1.059e+43\\u003cbr\\u003eAbsorbed Luminosity: 3.394e+42\",\"\\u003cbr\\u003eEmitted Luminosity: 1.06e+43\\u003cbr\\u003eRequested Luminosity: 1.059e+43\\u003cbr\\u003eAbsorbed Luminosity: 3.394e+42\",\"\\u003cbr\\u003eEmitted Luminosity: 1.06e+43\\u003cbr\\u003eRequested Luminosity: 1.059e+43\\u003cbr\\u003eAbsorbed Luminosity: 3.394e+42\"],\"hovertemplate\":\"\\u003cb\\u003eY\\u003c\\u002fb\\u003e: %{y:.3f} at \\u003cb\\u003eX\\u003c\\u002fb\\u003e = %{x:,.0f}%{customdata}\",\"legendgroup\":\"group-6\",\"line\":{\"color\":\"#008dff\",\"shape\":\"hv\"},\"name\":\"6\",\"showlegend\":false,\"x\":[11000.0,11450.000000000002,11900.000000000002,12350.000000000002,12800.000000000002,13250.000000000002,13700.000000000002,14150.000000000002,14600.000000000002,15050.000000000002,15500.000000000002,15950.000000000002,16400.0,16850.0,17300.0,17750.0,18200.0,18650.0,19100.0,19550.0,20000.0],\"y\":[11062.386148550886,11175.152728933981,11303.885551686859,11303.829698839332,11323.989114630162,11251.893931540126,11224.132878015203,11197.605664099397,11125.296800840568,11044.78494392685,10982.572100611185,10910.19909876584,10883.701714242236,10773.176905283957,10730.579020980895,10674.160527068654,10635.162150281672,10565.519300954284,10453.748315213605,10318.618761226406,10318.618761226406],\"type\":\"scatter\",\"uid\":\"650bc0f0-c629-4e15-b913-7d911e7c3987\",\"xaxis\":\"x\",\"yaxis\":\"y\"},{\"customdata\":[\"\\u003cbr\\u003eEmitted Luminosity: 1.06e+43\\u003cbr\\u003eRequested Luminosity: 1.059e+43\\u003cbr\\u003eAbsorbed Luminosity: 3.394e+42\",\"\\u003cbr\\u003eEmitted Luminosity: 1.06e+43\\u003cbr\\u003eRequested Luminosity: 1.059e+43\\u003cbr\\u003eAbsorbed Luminosity: 3.394e+42\",\"\\u003cbr\\u003eEmitted Luminosity: 1.06e+43\\u003cbr\\u003eRequested Luminosity: 1.059e+43\\u003cbr\\u003eAbsorbed Luminosity: 3.394e+42\",\"\\u003cbr\\u003eEmitted Luminosity: 1.06e+43\\u003cbr\\u003eRequested Luminosity: 1.059e+43\\u003cbr\\u003eAbsorbed Luminosity: 3.394e+42\",\"\\u003cbr\\u003eEmitted Luminosity: 1.06e+43\\u003cbr\\u003eRequested Luminosity: 1.059e+43\\u003cbr\\u003eAbsorbed Luminosity: 3.394e+42\",\"\\u003cbr\\u003eEmitted Luminosity: 1.06e+43\\u003cbr\\u003eRequested Luminosity: 1.059e+43\\u003cbr\\u003eAbsorbed Luminosity: 3.394e+42\",\"\\u003cbr\\u003eEmitted Luminosity: 1.06e+43\\u003cbr\\u003eRequested Luminosity: 1.059e+43\\u003cbr\\u003eAbsorbed Luminosity: 3.394e+42\",\"\\u003cbr\\u003eEmitted Luminosity: 1.06e+43\\u003cbr\\u003eRequested Luminosity: 1.059e+43\\u003cbr\\u003eAbsorbed Luminosity: 3.394e+42\",\"\\u003cbr\\u003eEmitted Luminosity: 1.06e+43\\u003cbr\\u003eRequested Luminosity: 1.059e+43\\u003cbr\\u003eAbsorbed Luminosity: 3.394e+42\",\"\\u003cbr\\u003eEmitted Luminosity: 1.06e+43\\u003cbr\\u003eRequested Luminosity: 1.059e+43\\u003cbr\\u003eAbsorbed Luminosity: 3.394e+42\",\"\\u003cbr\\u003eEmitted Luminosity: 1.06e+43\\u003cbr\\u003eRequested Luminosity: 1.059e+43\\u003cbr\\u003eAbsorbed Luminosity: 3.394e+42\",\"\\u003cbr\\u003eEmitted Luminosity: 1.06e+43\\u003cbr\\u003eRequested Luminosity: 1.059e+43\\u003cbr\\u003eAbsorbed Luminosity: 3.394e+42\",\"\\u003cbr\\u003eEmitted Luminosity: 1.06e+43\\u003cbr\\u003eRequested Luminosity: 1.059e+43\\u003cbr\\u003eAbsorbed Luminosity: 3.394e+42\",\"\\u003cbr\\u003eEmitted Luminosity: 1.06e+43\\u003cbr\\u003eRequested Luminosity: 1.059e+43\\u003cbr\\u003eAbsorbed Luminosity: 3.394e+42\",\"\\u003cbr\\u003eEmitted Luminosity: 1.06e+43\\u003cbr\\u003eRequested Luminosity: 1.059e+43\\u003cbr\\u003eAbsorbed Luminosity: 3.394e+42\",\"\\u003cbr\\u003eEmitted Luminosity: 1.06e+43\\u003cbr\\u003eRequested Luminosity: 1.059e+43\\u003cbr\\u003eAbsorbed Luminosity: 3.394e+42\",\"\\u003cbr\\u003eEmitted Luminosity: 1.06e+43\\u003cbr\\u003eRequested Luminosity: 1.059e+43\\u003cbr\\u003eAbsorbed Luminosity: 3.394e+42\",\"\\u003cbr\\u003eEmitted Luminosity: 1.06e+43\\u003cbr\\u003eRequested Luminosity: 1.059e+43\\u003cbr\\u003eAbsorbed Luminosity: 3.394e+42\",\"\\u003cbr\\u003eEmitted Luminosity: 1.06e+43\\u003cbr\\u003eRequested Luminosity: 1.059e+43\\u003cbr\\u003eAbsorbed Luminosity: 3.394e+42\",\"\\u003cbr\\u003eEmitted Luminosity: 1.06e+43\\u003cbr\\u003eRequested Luminosity: 1.059e+43\\u003cbr\\u003eAbsorbed Luminosity: 3.394e+42\",\"\\u003cbr\\u003eEmitted Luminosity: 1.06e+43\\u003cbr\\u003eRequested Luminosity: 1.059e+43\\u003cbr\\u003eAbsorbed Luminosity: 3.394e+42\"],\"hovertemplate\":\"\\u003cb\\u003eY\\u003c\\u002fb\\u003e: %{y:.3f} at \\u003cb\\u003eX\\u003c\\u002fb\\u003e = %{x:,.0f}%{customdata}\",\"legendgroup\":\"group-6\",\"line\":{\"color\":\"#008dff\",\"shape\":\"hv\"},\"name\":\"6\",\"x\":[11000.0,11450.000000000002,11900.000000000002,12350.000000000002,12800.000000000002,13250.000000000002,13700.000000000002,14150.000000000002,14600.000000000002,15050.000000000002,15500.000000000002,15950.000000000002,16400.0,16850.0,17300.0,17750.0,18200.0,18650.0,19100.0,19550.0,20000.0],\"y\":[0.4664057811329552,0.35628715783862624,0.2834205940478805,0.23957828396821795,0.202934498122676,0.18243545681656267,0.16268656043875956,0.146103168497751,0.13364023221068108,0.12439159217451087,0.11537174479033009,0.10851244673829105,0.1005507531878345,0.09584606004658232,0.08965307680724767,0.08528066090299632,0.08096182231588349,0.07755480126148652,0.0752081378739769,0.07379667378945651,0.07379667378945651],\"type\":\"scatter\",\"uid\":\"6c316637-1531-4ffc-8c7c-4458e20f7596\",\"xaxis\":\"x2\",\"yaxis\":\"y2\"},{\"customdata\":[\"\\u003cbr\\u003eEmitted Luminosity: 1.06e+43\\u003cbr\\u003eRequested Luminosity: 1.059e+43\\u003cbr\\u003eAbsorbed Luminosity: 3.389e+42\",\"\\u003cbr\\u003eEmitted Luminosity: 1.06e+43\\u003cbr\\u003eRequested Luminosity: 1.059e+43\\u003cbr\\u003eAbsorbed Luminosity: 3.389e+42\",\"\\u003cbr\\u003eEmitted Luminosity: 1.06e+43\\u003cbr\\u003eRequested Luminosity: 1.059e+43\\u003cbr\\u003eAbsorbed Luminosity: 3.389e+42\",\"\\u003cbr\\u003eEmitted Luminosity: 1.06e+43\\u003cbr\\u003eRequested Luminosity: 1.059e+43\\u003cbr\\u003eAbsorbed Luminosity: 3.389e+42\",\"\\u003cbr\\u003eEmitted Luminosity: 1.06e+43\\u003cbr\\u003eRequested Luminosity: 1.059e+43\\u003cbr\\u003eAbsorbed Luminosity: 3.389e+42\",\"\\u003cbr\\u003eEmitted Luminosity: 1.06e+43\\u003cbr\\u003eRequested Luminosity: 1.059e+43\\u003cbr\\u003eAbsorbed Luminosity: 3.389e+42\",\"\\u003cbr\\u003eEmitted Luminosity: 1.06e+43\\u003cbr\\u003eRequested Luminosity: 1.059e+43\\u003cbr\\u003eAbsorbed Luminosity: 3.389e+42\",\"\\u003cbr\\u003eEmitted Luminosity: 1.06e+43\\u003cbr\\u003eRequested Luminosity: 1.059e+43\\u003cbr\\u003eAbsorbed Luminosity: 3.389e+42\",\"\\u003cbr\\u003eEmitted Luminosity: 1.06e+43\\u003cbr\\u003eRequested Luminosity: 1.059e+43\\u003cbr\\u003eAbsorbed Luminosity: 3.389e+42\",\"\\u003cbr\\u003eEmitted Luminosity: 1.06e+43\\u003cbr\\u003eRequested Luminosity: 1.059e+43\\u003cbr\\u003eAbsorbed Luminosity: 3.389e+42\",\"\\u003cbr\\u003eEmitted Luminosity: 1.06e+43\\u003cbr\\u003eRequested Luminosity: 1.059e+43\\u003cbr\\u003eAbsorbed Luminosity: 3.389e+42\",\"\\u003cbr\\u003eEmitted Luminosity: 1.06e+43\\u003cbr\\u003eRequested Luminosity: 1.059e+43\\u003cbr\\u003eAbsorbed Luminosity: 3.389e+42\",\"\\u003cbr\\u003eEmitted Luminosity: 1.06e+43\\u003cbr\\u003eRequested Luminosity: 1.059e+43\\u003cbr\\u003eAbsorbed Luminosity: 3.389e+42\",\"\\u003cbr\\u003eEmitted Luminosity: 1.06e+43\\u003cbr\\u003eRequested Luminosity: 1.059e+43\\u003cbr\\u003eAbsorbed Luminosity: 3.389e+42\",\"\\u003cbr\\u003eEmitted Luminosity: 1.06e+43\\u003cbr\\u003eRequested Luminosity: 1.059e+43\\u003cbr\\u003eAbsorbed Luminosity: 3.389e+42\",\"\\u003cbr\\u003eEmitted Luminosity: 1.06e+43\\u003cbr\\u003eRequested Luminosity: 1.059e+43\\u003cbr\\u003eAbsorbed Luminosity: 3.389e+42\",\"\\u003cbr\\u003eEmitted Luminosity: 1.06e+43\\u003cbr\\u003eRequested Luminosity: 1.059e+43\\u003cbr\\u003eAbsorbed Luminosity: 3.389e+42\",\"\\u003cbr\\u003eEmitted Luminosity: 1.06e+43\\u003cbr\\u003eRequested Luminosity: 1.059e+43\\u003cbr\\u003eAbsorbed Luminosity: 3.389e+42\",\"\\u003cbr\\u003eEmitted Luminosity: 1.06e+43\\u003cbr\\u003eRequested Luminosity: 1.059e+43\\u003cbr\\u003eAbsorbed Luminosity: 3.389e+42\",\"\\u003cbr\\u003eEmitted Luminosity: 1.06e+43\\u003cbr\\u003eRequested Luminosity: 1.059e+43\\u003cbr\\u003eAbsorbed Luminosity: 3.389e+42\",\"\\u003cbr\\u003eEmitted Luminosity: 1.06e+43\\u003cbr\\u003eRequested Luminosity: 1.059e+43\\u003cbr\\u003eAbsorbed Luminosity: 3.389e+42\"],\"hovertemplate\":\"\\u003cb\\u003eY\\u003c\\u002fb\\u003e: %{y:.3f} at \\u003cb\\u003eX\\u003c\\u002fb\\u003e = %{x:,.0f}%{customdata}\",\"legendgroup\":\"group-7\",\"line\":{\"color\":\"#00c3ff\",\"shape\":\"hv\"},\"name\":\"7\",\"showlegend\":false,\"x\":[11000.0,11450.000000000002,11900.000000000002,12350.000000000002,12800.000000000002,13250.000000000002,13700.000000000002,14150.000000000002,14600.000000000002,15050.000000000002,15500.000000000002,15950.000000000002,16400.0,16850.0,17300.0,17750.0,18200.0,18650.0,19100.0,19550.0,20000.0],\"y\":[11044.421980863512,11200.901300982732,11287.932639717166,11349.755013388756,11416.972685097257,11374.121337640028,11335.062591810038,11237.75764753598,11152.514534595131,11127.035919159367,11014.646546055963,10958.471089505989,10960.582040464951,10867.365607887023,10741.341549210925,10631.290194951236,10541.229460494613,10488.263654973138,10429.452232693524,10315.968309383314,10315.968309383314],\"type\":\"scatter\",\"uid\":\"c42c732a-24c6-49d4-a70d-ba5e4baff69f\",\"xaxis\":\"x\",\"yaxis\":\"y\"},{\"customdata\":[\"\\u003cbr\\u003eEmitted Luminosity: 1.06e+43\\u003cbr\\u003eRequested Luminosity: 1.059e+43\\u003cbr\\u003eAbsorbed Luminosity: 3.389e+42\",\"\\u003cbr\\u003eEmitted Luminosity: 1.06e+43\\u003cbr\\u003eRequested Luminosity: 1.059e+43\\u003cbr\\u003eAbsorbed Luminosity: 3.389e+42\",\"\\u003cbr\\u003eEmitted Luminosity: 1.06e+43\\u003cbr\\u003eRequested Luminosity: 1.059e+43\\u003cbr\\u003eAbsorbed Luminosity: 3.389e+42\",\"\\u003cbr\\u003eEmitted Luminosity: 1.06e+43\\u003cbr\\u003eRequested Luminosity: 1.059e+43\\u003cbr\\u003eAbsorbed Luminosity: 3.389e+42\",\"\\u003cbr\\u003eEmitted Luminosity: 1.06e+43\\u003cbr\\u003eRequested Luminosity: 1.059e+43\\u003cbr\\u003eAbsorbed Luminosity: 3.389e+42\",\"\\u003cbr\\u003eEmitted Luminosity: 1.06e+43\\u003cbr\\u003eRequested Luminosity: 1.059e+43\\u003cbr\\u003eAbsorbed Luminosity: 3.389e+42\",\"\\u003cbr\\u003eEmitted Luminosity: 1.06e+43\\u003cbr\\u003eRequested Luminosity: 1.059e+43\\u003cbr\\u003eAbsorbed Luminosity: 3.389e+42\",\"\\u003cbr\\u003eEmitted Luminosity: 1.06e+43\\u003cbr\\u003eRequested Luminosity: 1.059e+43\\u003cbr\\u003eAbsorbed Luminosity: 3.389e+42\",\"\\u003cbr\\u003eEmitted Luminosity: 1.06e+43\\u003cbr\\u003eRequested Luminosity: 1.059e+43\\u003cbr\\u003eAbsorbed Luminosity: 3.389e+42\",\"\\u003cbr\\u003eEmitted Luminosity: 1.06e+43\\u003cbr\\u003eRequested Luminosity: 1.059e+43\\u003cbr\\u003eAbsorbed Luminosity: 3.389e+42\",\"\\u003cbr\\u003eEmitted Luminosity: 1.06e+43\\u003cbr\\u003eRequested Luminosity: 1.059e+43\\u003cbr\\u003eAbsorbed Luminosity: 3.389e+42\",\"\\u003cbr\\u003eEmitted Luminosity: 1.06e+43\\u003cbr\\u003eRequested Luminosity: 1.059e+43\\u003cbr\\u003eAbsorbed Luminosity: 3.389e+42\",\"\\u003cbr\\u003eEmitted Luminosity: 1.06e+43\\u003cbr\\u003eRequested Luminosity: 1.059e+43\\u003cbr\\u003eAbsorbed Luminosity: 3.389e+42\",\"\\u003cbr\\u003eEmitted Luminosity: 1.06e+43\\u003cbr\\u003eRequested Luminosity: 1.059e+43\\u003cbr\\u003eAbsorbed Luminosity: 3.389e+42\",\"\\u003cbr\\u003eEmitted Luminosity: 1.06e+43\\u003cbr\\u003eRequested Luminosity: 1.059e+43\\u003cbr\\u003eAbsorbed Luminosity: 3.389e+42\",\"\\u003cbr\\u003eEmitted Luminosity: 1.06e+43\\u003cbr\\u003eRequested Luminosity: 1.059e+43\\u003cbr\\u003eAbsorbed Luminosity: 3.389e+42\",\"\\u003cbr\\u003eEmitted Luminosity: 1.06e+43\\u003cbr\\u003eRequested Luminosity: 1.059e+43\\u003cbr\\u003eAbsorbed Luminosity: 3.389e+42\",\"\\u003cbr\\u003eEmitted Luminosity: 1.06e+43\\u003cbr\\u003eRequested Luminosity: 1.059e+43\\u003cbr\\u003eAbsorbed Luminosity: 3.389e+42\",\"\\u003cbr\\u003eEmitted Luminosity: 1.06e+43\\u003cbr\\u003eRequested Luminosity: 1.059e+43\\u003cbr\\u003eAbsorbed Luminosity: 3.389e+42\",\"\\u003cbr\\u003eEmitted Luminosity: 1.06e+43\\u003cbr\\u003eRequested Luminosity: 1.059e+43\\u003cbr\\u003eAbsorbed Luminosity: 3.389e+42\",\"\\u003cbr\\u003eEmitted Luminosity: 1.06e+43\\u003cbr\\u003eRequested Luminosity: 1.059e+43\\u003cbr\\u003eAbsorbed Luminosity: 3.389e+42\"],\"hovertemplate\":\"\\u003cb\\u003eY\\u003c\\u002fb\\u003e: %{y:.3f} at \\u003cb\\u003eX\\u003c\\u002fb\\u003e = %{x:,.0f}%{customdata}\",\"legendgroup\":\"group-7\",\"line\":{\"color\":\"#00c3ff\",\"shape\":\"hv\"},\"name\":\"7\",\"x\":[11000.0,11450.000000000002,11900.000000000002,12350.000000000002,12800.000000000002,13250.000000000002,13700.000000000002,14150.000000000002,14600.000000000002,15050.000000000002,15500.000000000002,15950.000000000002,16400.0,16850.0,17300.0,17750.0,18200.0,18650.0,19100.0,19550.0,20000.0],\"y\":[0.46883128943484126,0.35070632657073564,0.27927381442886073,0.2323380708387432,0.19583135700046367,0.17284936329395184,0.15551421382019512,0.14348634881592248,0.1315944143488816,0.11976101682676138,0.11325003223080567,0.106015732482847,0.09765467431538859,0.09258275033215142,0.08971850586386983,0.08653590492236318,0.0831382746027311,0.07924109831134013,0.0759201935489513,0.07400368876674326,0.07400368876674326],\"type\":\"scatter\",\"uid\":\"72225aa4-979e-4dff-9334-8a5b1bc5e6d7\",\"xaxis\":\"x2\",\"yaxis\":\"y2\"},{\"customdata\":[\"\\u003cbr\\u003eEmitted Luminosity: 1.062e+43\\u003cbr\\u003eRequested Luminosity: 1.059e+43\\u003cbr\\u003eAbsorbed Luminosity: 3.356e+42\",\"\\u003cbr\\u003eEmitted Luminosity: 1.062e+43\\u003cbr\\u003eRequested Luminosity: 1.059e+43\\u003cbr\\u003eAbsorbed Luminosity: 3.356e+42\",\"\\u003cbr\\u003eEmitted Luminosity: 1.062e+43\\u003cbr\\u003eRequested Luminosity: 1.059e+43\\u003cbr\\u003eAbsorbed Luminosity: 3.356e+42\",\"\\u003cbr\\u003eEmitted Luminosity: 1.062e+43\\u003cbr\\u003eRequested Luminosity: 1.059e+43\\u003cbr\\u003eAbsorbed Luminosity: 3.356e+42\",\"\\u003cbr\\u003eEmitted Luminosity: 1.062e+43\\u003cbr\\u003eRequested Luminosity: 1.059e+43\\u003cbr\\u003eAbsorbed Luminosity: 3.356e+42\",\"\\u003cbr\\u003eEmitted Luminosity: 1.062e+43\\u003cbr\\u003eRequested Luminosity: 1.059e+43\\u003cbr\\u003eAbsorbed Luminosity: 3.356e+42\",\"\\u003cbr\\u003eEmitted Luminosity: 1.062e+43\\u003cbr\\u003eRequested Luminosity: 1.059e+43\\u003cbr\\u003eAbsorbed Luminosity: 3.356e+42\",\"\\u003cbr\\u003eEmitted Luminosity: 1.062e+43\\u003cbr\\u003eRequested Luminosity: 1.059e+43\\u003cbr\\u003eAbsorbed Luminosity: 3.356e+42\",\"\\u003cbr\\u003eEmitted Luminosity: 1.062e+43\\u003cbr\\u003eRequested Luminosity: 1.059e+43\\u003cbr\\u003eAbsorbed Luminosity: 3.356e+42\",\"\\u003cbr\\u003eEmitted Luminosity: 1.062e+43\\u003cbr\\u003eRequested Luminosity: 1.059e+43\\u003cbr\\u003eAbsorbed Luminosity: 3.356e+42\",\"\\u003cbr\\u003eEmitted Luminosity: 1.062e+43\\u003cbr\\u003eRequested Luminosity: 1.059e+43\\u003cbr\\u003eAbsorbed Luminosity: 3.356e+42\",\"\\u003cbr\\u003eEmitted Luminosity: 1.062e+43\\u003cbr\\u003eRequested Luminosity: 1.059e+43\\u003cbr\\u003eAbsorbed Luminosity: 3.356e+42\",\"\\u003cbr\\u003eEmitted Luminosity: 1.062e+43\\u003cbr\\u003eRequested Luminosity: 1.059e+43\\u003cbr\\u003eAbsorbed Luminosity: 3.356e+42\",\"\\u003cbr\\u003eEmitted Luminosity: 1.062e+43\\u003cbr\\u003eRequested Luminosity: 1.059e+43\\u003cbr\\u003eAbsorbed Luminosity: 3.356e+42\",\"\\u003cbr\\u003eEmitted Luminosity: 1.062e+43\\u003cbr\\u003eRequested Luminosity: 1.059e+43\\u003cbr\\u003eAbsorbed Luminosity: 3.356e+42\",\"\\u003cbr\\u003eEmitted Luminosity: 1.062e+43\\u003cbr\\u003eRequested Luminosity: 1.059e+43\\u003cbr\\u003eAbsorbed Luminosity: 3.356e+42\",\"\\u003cbr\\u003eEmitted Luminosity: 1.062e+43\\u003cbr\\u003eRequested Luminosity: 1.059e+43\\u003cbr\\u003eAbsorbed Luminosity: 3.356e+42\",\"\\u003cbr\\u003eEmitted Luminosity: 1.062e+43\\u003cbr\\u003eRequested Luminosity: 1.059e+43\\u003cbr\\u003eAbsorbed Luminosity: 3.356e+42\",\"\\u003cbr\\u003eEmitted Luminosity: 1.062e+43\\u003cbr\\u003eRequested Luminosity: 1.059e+43\\u003cbr\\u003eAbsorbed Luminosity: 3.356e+42\",\"\\u003cbr\\u003eEmitted Luminosity: 1.062e+43\\u003cbr\\u003eRequested Luminosity: 1.059e+43\\u003cbr\\u003eAbsorbed Luminosity: 3.356e+42\",\"\\u003cbr\\u003eEmitted Luminosity: 1.062e+43\\u003cbr\\u003eRequested Luminosity: 1.059e+43\\u003cbr\\u003eAbsorbed Luminosity: 3.356e+42\"],\"hovertemplate\":\"\\u003cb\\u003eY\\u003c\\u002fb\\u003e: %{y:.3f} at \\u003cb\\u003eX\\u003c\\u002fb\\u003e = %{x:,.0f}%{customdata}\",\"legendgroup\":\"group-8\",\"line\":{\"color\":\"#0ff8e8\",\"shape\":\"hv\"},\"name\":\"8\",\"showlegend\":false,\"x\":[11000.0,11450.000000000002,11900.000000000002,12350.000000000002,12800.000000000002,13250.000000000002,13700.000000000002,14150.000000000002,14600.000000000002,15050.000000000002,15500.000000000002,15950.000000000002,16400.0,16850.0,17300.0,17750.0,18200.0,18650.0,19100.0,19550.0,20000.0],\"y\":[11069.120167148043,11202.327732980442,11351.61418944636,11379.157325961298,11331.60270269605,11329.723448000404,11296.862472733164,11251.88869544899,11214.528834374956,11152.036170908683,11079.797551635522,11001.779709060233,10947.2629691675,10882.853720520992,10762.80509219503,10735.589678610178,10639.595176327626,10515.800360489455,10432.18896940084,10347.060370907391,10347.060370907391],\"type\":\"scatter\",\"uid\":\"b468f3fc-31af-4456-819f-a646b39631cd\",\"xaxis\":\"x\",\"yaxis\":\"y\"},{\"customdata\":[\"\\u003cbr\\u003eEmitted Luminosity: 1.062e+43\\u003cbr\\u003eRequested Luminosity: 1.059e+43\\u003cbr\\u003eAbsorbed Luminosity: 3.356e+42\",\"\\u003cbr\\u003eEmitted Luminosity: 1.062e+43\\u003cbr\\u003eRequested Luminosity: 1.059e+43\\u003cbr\\u003eAbsorbed Luminosity: 3.356e+42\",\"\\u003cbr\\u003eEmitted Luminosity: 1.062e+43\\u003cbr\\u003eRequested Luminosity: 1.059e+43\\u003cbr\\u003eAbsorbed Luminosity: 3.356e+42\",\"\\u003cbr\\u003eEmitted Luminosity: 1.062e+43\\u003cbr\\u003eRequested Luminosity: 1.059e+43\\u003cbr\\u003eAbsorbed Luminosity: 3.356e+42\",\"\\u003cbr\\u003eEmitted Luminosity: 1.062e+43\\u003cbr\\u003eRequested Luminosity: 1.059e+43\\u003cbr\\u003eAbsorbed Luminosity: 3.356e+42\",\"\\u003cbr\\u003eEmitted Luminosity: 1.062e+43\\u003cbr\\u003eRequested Luminosity: 1.059e+43\\u003cbr\\u003eAbsorbed Luminosity: 3.356e+42\",\"\\u003cbr\\u003eEmitted Luminosity: 1.062e+43\\u003cbr\\u003eRequested Luminosity: 1.059e+43\\u003cbr\\u003eAbsorbed Luminosity: 3.356e+42\",\"\\u003cbr\\u003eEmitted Luminosity: 1.062e+43\\u003cbr\\u003eRequested Luminosity: 1.059e+43\\u003cbr\\u003eAbsorbed Luminosity: 3.356e+42\",\"\\u003cbr\\u003eEmitted Luminosity: 1.062e+43\\u003cbr\\u003eRequested Luminosity: 1.059e+43\\u003cbr\\u003eAbsorbed Luminosity: 3.356e+42\",\"\\u003cbr\\u003eEmitted Luminosity: 1.062e+43\\u003cbr\\u003eRequested Luminosity: 1.059e+43\\u003cbr\\u003eAbsorbed Luminosity: 3.356e+42\",\"\\u003cbr\\u003eEmitted Luminosity: 1.062e+43\\u003cbr\\u003eRequested Luminosity: 1.059e+43\\u003cbr\\u003eAbsorbed Luminosity: 3.356e+42\",\"\\u003cbr\\u003eEmitted Luminosity: 1.062e+43\\u003cbr\\u003eRequested Luminosity: 1.059e+43\\u003cbr\\u003eAbsorbed Luminosity: 3.356e+42\",\"\\u003cbr\\u003eEmitted Luminosity: 1.062e+43\\u003cbr\\u003eRequested Luminosity: 1.059e+43\\u003cbr\\u003eAbsorbed Luminosity: 3.356e+42\",\"\\u003cbr\\u003eEmitted Luminosity: 1.062e+43\\u003cbr\\u003eRequested Luminosity: 1.059e+43\\u003cbr\\u003eAbsorbed Luminosity: 3.356e+42\",\"\\u003cbr\\u003eEmitted Luminosity: 1.062e+43\\u003cbr\\u003eRequested Luminosity: 1.059e+43\\u003cbr\\u003eAbsorbed Luminosity: 3.356e+42\",\"\\u003cbr\\u003eEmitted Luminosity: 1.062e+43\\u003cbr\\u003eRequested Luminosity: 1.059e+43\\u003cbr\\u003eAbsorbed Luminosity: 3.356e+42\",\"\\u003cbr\\u003eEmitted Luminosity: 1.062e+43\\u003cbr\\u003eRequested Luminosity: 1.059e+43\\u003cbr\\u003eAbsorbed Luminosity: 3.356e+42\",\"\\u003cbr\\u003eEmitted Luminosity: 1.062e+43\\u003cbr\\u003eRequested Luminosity: 1.059e+43\\u003cbr\\u003eAbsorbed Luminosity: 3.356e+42\",\"\\u003cbr\\u003eEmitted Luminosity: 1.062e+43\\u003cbr\\u003eRequested Luminosity: 1.059e+43\\u003cbr\\u003eAbsorbed Luminosity: 3.356e+42\",\"\\u003cbr\\u003eEmitted Luminosity: 1.062e+43\\u003cbr\\u003eRequested Luminosity: 1.059e+43\\u003cbr\\u003eAbsorbed Luminosity: 3.356e+42\",\"\\u003cbr\\u003eEmitted Luminosity: 1.062e+43\\u003cbr\\u003eRequested Luminosity: 1.059e+43\\u003cbr\\u003eAbsorbed Luminosity: 3.356e+42\"],\"hovertemplate\":\"\\u003cb\\u003eY\\u003c\\u002fb\\u003e: %{y:.3f} at \\u003cb\\u003eX\\u003c\\u002fb\\u003e = %{x:,.0f}%{customdata}\",\"legendgroup\":\"group-8\",\"line\":{\"color\":\"#0ff8e8\",\"shape\":\"hv\"},\"name\":\"8\",\"x\":[11000.0,11450.000000000002,11900.000000000002,12350.000000000002,12800.000000000002,13250.000000000002,13700.000000000002,14150.000000000002,14600.000000000002,15050.000000000002,15500.000000000002,15950.000000000002,16400.0,16850.0,17300.0,17750.0,18200.0,18650.0,19100.0,19550.0,20000.0],\"y\":[0.4698559779941449,0.35322292190926163,0.27799219622405585,0.2327078509293221,0.20382793360185741,0.17755667051190543,0.15797820063725573,0.1437962316510374,0.1300061504510013,0.12012589808996325,0.11165888942363954,0.10492720058020634,0.09814016725609442,0.09233876408391196,0.08880004148912712,0.08357042704372813,0.08067748776443787,0.07896678076954138,0.07570974125900096,0.073119239621088,0.073119239621088],\"type\":\"scatter\",\"uid\":\"7be78a04-5ca9-4339-8b6a-cd86883efdb5\",\"xaxis\":\"x2\",\"yaxis\":\"y2\"},{\"customdata\":[\"\\u003cbr\\u003eEmitted Luminosity: 1.053e+43\\u003cbr\\u003eRequested Luminosity: 1.059e+43\\u003cbr\\u003eAbsorbed Luminosity: 3.409e+42\",\"\\u003cbr\\u003eEmitted Luminosity: 1.053e+43\\u003cbr\\u003eRequested Luminosity: 1.059e+43\\u003cbr\\u003eAbsorbed Luminosity: 3.409e+42\",\"\\u003cbr\\u003eEmitted Luminosity: 1.053e+43\\u003cbr\\u003eRequested Luminosity: 1.059e+43\\u003cbr\\u003eAbsorbed Luminosity: 3.409e+42\",\"\\u003cbr\\u003eEmitted Luminosity: 1.053e+43\\u003cbr\\u003eRequested Luminosity: 1.059e+43\\u003cbr\\u003eAbsorbed Luminosity: 3.409e+42\",\"\\u003cbr\\u003eEmitted Luminosity: 1.053e+43\\u003cbr\\u003eRequested Luminosity: 1.059e+43\\u003cbr\\u003eAbsorbed Luminosity: 3.409e+42\",\"\\u003cbr\\u003eEmitted Luminosity: 1.053e+43\\u003cbr\\u003eRequested Luminosity: 1.059e+43\\u003cbr\\u003eAbsorbed Luminosity: 3.409e+42\",\"\\u003cbr\\u003eEmitted Luminosity: 1.053e+43\\u003cbr\\u003eRequested Luminosity: 1.059e+43\\u003cbr\\u003eAbsorbed Luminosity: 3.409e+42\",\"\\u003cbr\\u003eEmitted Luminosity: 1.053e+43\\u003cbr\\u003eRequested Luminosity: 1.059e+43\\u003cbr\\u003eAbsorbed Luminosity: 3.409e+42\",\"\\u003cbr\\u003eEmitted Luminosity: 1.053e+43\\u003cbr\\u003eRequested Luminosity: 1.059e+43\\u003cbr\\u003eAbsorbed Luminosity: 3.409e+42\",\"\\u003cbr\\u003eEmitted Luminosity: 1.053e+43\\u003cbr\\u003eRequested Luminosity: 1.059e+43\\u003cbr\\u003eAbsorbed Luminosity: 3.409e+42\",\"\\u003cbr\\u003eEmitted Luminosity: 1.053e+43\\u003cbr\\u003eRequested Luminosity: 1.059e+43\\u003cbr\\u003eAbsorbed Luminosity: 3.409e+42\",\"\\u003cbr\\u003eEmitted Luminosity: 1.053e+43\\u003cbr\\u003eRequested Luminosity: 1.059e+43\\u003cbr\\u003eAbsorbed Luminosity: 3.409e+42\",\"\\u003cbr\\u003eEmitted Luminosity: 1.053e+43\\u003cbr\\u003eRequested Luminosity: 1.059e+43\\u003cbr\\u003eAbsorbed Luminosity: 3.409e+42\",\"\\u003cbr\\u003eEmitted Luminosity: 1.053e+43\\u003cbr\\u003eRequested Luminosity: 1.059e+43\\u003cbr\\u003eAbsorbed Luminosity: 3.409e+42\",\"\\u003cbr\\u003eEmitted Luminosity: 1.053e+43\\u003cbr\\u003eRequested Luminosity: 1.059e+43\\u003cbr\\u003eAbsorbed Luminosity: 3.409e+42\",\"\\u003cbr\\u003eEmitted Luminosity: 1.053e+43\\u003cbr\\u003eRequested Luminosity: 1.059e+43\\u003cbr\\u003eAbsorbed Luminosity: 3.409e+42\",\"\\u003cbr\\u003eEmitted Luminosity: 1.053e+43\\u003cbr\\u003eRequested Luminosity: 1.059e+43\\u003cbr\\u003eAbsorbed Luminosity: 3.409e+42\",\"\\u003cbr\\u003eEmitted Luminosity: 1.053e+43\\u003cbr\\u003eRequested Luminosity: 1.059e+43\\u003cbr\\u003eAbsorbed Luminosity: 3.409e+42\",\"\\u003cbr\\u003eEmitted Luminosity: 1.053e+43\\u003cbr\\u003eRequested Luminosity: 1.059e+43\\u003cbr\\u003eAbsorbed Luminosity: 3.409e+42\",\"\\u003cbr\\u003eEmitted Luminosity: 1.053e+43\\u003cbr\\u003eRequested Luminosity: 1.059e+43\\u003cbr\\u003eAbsorbed Luminosity: 3.409e+42\",\"\\u003cbr\\u003eEmitted Luminosity: 1.053e+43\\u003cbr\\u003eRequested Luminosity: 1.059e+43\\u003cbr\\u003eAbsorbed Luminosity: 3.409e+42\"],\"hovertemplate\":\"\\u003cb\\u003eY\\u003c\\u002fb\\u003e: %{y:.3f} at \\u003cb\\u003eX\\u003c\\u002fb\\u003e = %{x:,.0f}%{customdata}\",\"legendgroup\":\"group-9\",\"line\":{\"color\":\"#3affbc\",\"shape\":\"hv\"},\"name\":\"9\",\"showlegend\":false,\"x\":[11000.0,11450.000000000002,11900.000000000002,12350.000000000002,12800.000000000002,13250.000000000002,13700.000000000002,14150.000000000002,14600.000000000002,15050.000000000002,15500.000000000002,15950.000000000002,16400.0,16850.0,17300.0,17750.0,18200.0,18650.0,19100.0,19550.0,20000.0],\"y\":[11040.862393899783,11222.152917052594,11346.681316670014,11357.483758293618,11428.752625457946,11422.617757794875,11322.319288049675,11230.183327924176,11191.388768564428,11163.659303969749,11152.49849879734,11051.112247869905,10988.254375372795,10893.420356892391,10801.035859790636,10708.551912462875,10659.179791517387,10609.690521070785,10480.650419707268,10363.330416821667,10363.330416821667],\"type\":\"scatter\",\"uid\":\"70f67f0a-3f4a-4207-83de-77f39f6a69a4\",\"xaxis\":\"x\",\"yaxis\":\"y\"},{\"customdata\":[\"\\u003cbr\\u003eEmitted Luminosity: 1.053e+43\\u003cbr\\u003eRequested Luminosity: 1.059e+43\\u003cbr\\u003eAbsorbed Luminosity: 3.409e+42\",\"\\u003cbr\\u003eEmitted Luminosity: 1.053e+43\\u003cbr\\u003eRequested Luminosity: 1.059e+43\\u003cbr\\u003eAbsorbed Luminosity: 3.409e+42\",\"\\u003cbr\\u003eEmitted Luminosity: 1.053e+43\\u003cbr\\u003eRequested Luminosity: 1.059e+43\\u003cbr\\u003eAbsorbed Luminosity: 3.409e+42\",\"\\u003cbr\\u003eEmitted Luminosity: 1.053e+43\\u003cbr\\u003eRequested Luminosity: 1.059e+43\\u003cbr\\u003eAbsorbed Luminosity: 3.409e+42\",\"\\u003cbr\\u003eEmitted Luminosity: 1.053e+43\\u003cbr\\u003eRequested Luminosity: 1.059e+43\\u003cbr\\u003eAbsorbed Luminosity: 3.409e+42\",\"\\u003cbr\\u003eEmitted Luminosity: 1.053e+43\\u003cbr\\u003eRequested Luminosity: 1.059e+43\\u003cbr\\u003eAbsorbed Luminosity: 3.409e+42\",\"\\u003cbr\\u003eEmitted Luminosity: 1.053e+43\\u003cbr\\u003eRequested Luminosity: 1.059e+43\\u003cbr\\u003eAbsorbed Luminosity: 3.409e+42\",\"\\u003cbr\\u003eEmitted Luminosity: 1.053e+43\\u003cbr\\u003eRequested Luminosity: 1.059e+43\\u003cbr\\u003eAbsorbed Luminosity: 3.409e+42\",\"\\u003cbr\\u003eEmitted Luminosity: 1.053e+43\\u003cbr\\u003eRequested Luminosity: 1.059e+43\\u003cbr\\u003eAbsorbed Luminosity: 3.409e+42\",\"\\u003cbr\\u003eEmitted Luminosity: 1.053e+43\\u003cbr\\u003eRequested Luminosity: 1.059e+43\\u003cbr\\u003eAbsorbed Luminosity: 3.409e+42\",\"\\u003cbr\\u003eEmitted Luminosity: 1.053e+43\\u003cbr\\u003eRequested Luminosity: 1.059e+43\\u003cbr\\u003eAbsorbed Luminosity: 3.409e+42\",\"\\u003cbr\\u003eEmitted Luminosity: 1.053e+43\\u003cbr\\u003eRequested Luminosity: 1.059e+43\\u003cbr\\u003eAbsorbed Luminosity: 3.409e+42\",\"\\u003cbr\\u003eEmitted Luminosity: 1.053e+43\\u003cbr\\u003eRequested Luminosity: 1.059e+43\\u003cbr\\u003eAbsorbed Luminosity: 3.409e+42\",\"\\u003cbr\\u003eEmitted Luminosity: 1.053e+43\\u003cbr\\u003eRequested Luminosity: 1.059e+43\\u003cbr\\u003eAbsorbed Luminosity: 3.409e+42\",\"\\u003cbr\\u003eEmitted Luminosity: 1.053e+43\\u003cbr\\u003eRequested Luminosity: 1.059e+43\\u003cbr\\u003eAbsorbed Luminosity: 3.409e+42\",\"\\u003cbr\\u003eEmitted Luminosity: 1.053e+43\\u003cbr\\u003eRequested Luminosity: 1.059e+43\\u003cbr\\u003eAbsorbed Luminosity: 3.409e+42\",\"\\u003cbr\\u003eEmitted Luminosity: 1.053e+43\\u003cbr\\u003eRequested Luminosity: 1.059e+43\\u003cbr\\u003eAbsorbed Luminosity: 3.409e+42\",\"\\u003cbr\\u003eEmitted Luminosity: 1.053e+43\\u003cbr\\u003eRequested Luminosity: 1.059e+43\\u003cbr\\u003eAbsorbed Luminosity: 3.409e+42\",\"\\u003cbr\\u003eEmitted Luminosity: 1.053e+43\\u003cbr\\u003eRequested Luminosity: 1.059e+43\\u003cbr\\u003eAbsorbed Luminosity: 3.409e+42\",\"\\u003cbr\\u003eEmitted Luminosity: 1.053e+43\\u003cbr\\u003eRequested Luminosity: 1.059e+43\\u003cbr\\u003eAbsorbed Luminosity: 3.409e+42\",\"\\u003cbr\\u003eEmitted Luminosity: 1.053e+43\\u003cbr\\u003eRequested Luminosity: 1.059e+43\\u003cbr\\u003eAbsorbed Luminosity: 3.409e+42\"],\"hovertemplate\":\"\\u003cb\\u003eY\\u003c\\u002fb\\u003e: %{y:.3f} at \\u003cb\\u003eX\\u003c\\u002fb\\u003e = %{x:,.0f}%{customdata}\",\"legendgroup\":\"group-9\",\"line\":{\"color\":\"#3affbc\",\"shape\":\"hv\"},\"name\":\"9\",\"x\":[11000.0,11450.000000000002,11900.000000000002,12350.000000000002,12800.000000000002,13250.000000000002,13700.000000000002,14150.000000000002,14600.000000000002,15050.000000000002,15500.000000000002,15950.000000000002,16400.0,16850.0,17300.0,17750.0,18200.0,18650.0,19100.0,19550.0,20000.0],\"y\":[0.47083192611200775,0.34946325457371114,0.27774861893332464,0.2335593179829942,0.19523831152522111,0.17185744172480727,0.15656822562077036,0.1426317402695978,0.12959034394126553,0.11871217106206182,0.10876122188948181,0.10282034708688305,0.09570238834188922,0.09147713061715364,0.08749460064897607,0.08362581170821079,0.07936322455944092,0.07547935409066617,0.07376148792978743,0.07205843634743381,0.07205843634743381],\"type\":\"scatter\",\"uid\":\"cdc2d2ae-fd14-46ff-a18e-528076c03d0b\",\"xaxis\":\"x2\",\"yaxis\":\"y2\"},{\"customdata\":[\"\\u003cbr\\u003eEmitted Luminosity: 1.071e+43\\u003cbr\\u003eRequested Luminosity: 1.059e+43\\u003cbr\\u003eAbsorbed Luminosity: 3.32e+42\",\"\\u003cbr\\u003eEmitted Luminosity: 1.071e+43\\u003cbr\\u003eRequested Luminosity: 1.059e+43\\u003cbr\\u003eAbsorbed Luminosity: 3.32e+42\",\"\\u003cbr\\u003eEmitted Luminosity: 1.071e+43\\u003cbr\\u003eRequested Luminosity: 1.059e+43\\u003cbr\\u003eAbsorbed Luminosity: 3.32e+42\",\"\\u003cbr\\u003eEmitted Luminosity: 1.071e+43\\u003cbr\\u003eRequested Luminosity: 1.059e+43\\u003cbr\\u003eAbsorbed Luminosity: 3.32e+42\",\"\\u003cbr\\u003eEmitted Luminosity: 1.071e+43\\u003cbr\\u003eRequested Luminosity: 1.059e+43\\u003cbr\\u003eAbsorbed Luminosity: 3.32e+42\",\"\\u003cbr\\u003eEmitted Luminosity: 1.071e+43\\u003cbr\\u003eRequested Luminosity: 1.059e+43\\u003cbr\\u003eAbsorbed Luminosity: 3.32e+42\",\"\\u003cbr\\u003eEmitted Luminosity: 1.071e+43\\u003cbr\\u003eRequested Luminosity: 1.059e+43\\u003cbr\\u003eAbsorbed Luminosity: 3.32e+42\",\"\\u003cbr\\u003eEmitted Luminosity: 1.071e+43\\u003cbr\\u003eRequested Luminosity: 1.059e+43\\u003cbr\\u003eAbsorbed Luminosity: 3.32e+42\",\"\\u003cbr\\u003eEmitted Luminosity: 1.071e+43\\u003cbr\\u003eRequested Luminosity: 1.059e+43\\u003cbr\\u003eAbsorbed Luminosity: 3.32e+42\",\"\\u003cbr\\u003eEmitted Luminosity: 1.071e+43\\u003cbr\\u003eRequested Luminosity: 1.059e+43\\u003cbr\\u003eAbsorbed Luminosity: 3.32e+42\",\"\\u003cbr\\u003eEmitted Luminosity: 1.071e+43\\u003cbr\\u003eRequested Luminosity: 1.059e+43\\u003cbr\\u003eAbsorbed Luminosity: 3.32e+42\",\"\\u003cbr\\u003eEmitted Luminosity: 1.071e+43\\u003cbr\\u003eRequested Luminosity: 1.059e+43\\u003cbr\\u003eAbsorbed Luminosity: 3.32e+42\",\"\\u003cbr\\u003eEmitted Luminosity: 1.071e+43\\u003cbr\\u003eRequested Luminosity: 1.059e+43\\u003cbr\\u003eAbsorbed Luminosity: 3.32e+42\",\"\\u003cbr\\u003eEmitted Luminosity: 1.071e+43\\u003cbr\\u003eRequested Luminosity: 1.059e+43\\u003cbr\\u003eAbsorbed Luminosity: 3.32e+42\",\"\\u003cbr\\u003eEmitted Luminosity: 1.071e+43\\u003cbr\\u003eRequested Luminosity: 1.059e+43\\u003cbr\\u003eAbsorbed Luminosity: 3.32e+42\",\"\\u003cbr\\u003eEmitted Luminosity: 1.071e+43\\u003cbr\\u003eRequested Luminosity: 1.059e+43\\u003cbr\\u003eAbsorbed Luminosity: 3.32e+42\",\"\\u003cbr\\u003eEmitted Luminosity: 1.071e+43\\u003cbr\\u003eRequested Luminosity: 1.059e+43\\u003cbr\\u003eAbsorbed Luminosity: 3.32e+42\",\"\\u003cbr\\u003eEmitted Luminosity: 1.071e+43\\u003cbr\\u003eRequested Luminosity: 1.059e+43\\u003cbr\\u003eAbsorbed Luminosity: 3.32e+42\",\"\\u003cbr\\u003eEmitted Luminosity: 1.071e+43\\u003cbr\\u003eRequested Luminosity: 1.059e+43\\u003cbr\\u003eAbsorbed Luminosity: 3.32e+42\",\"\\u003cbr\\u003eEmitted Luminosity: 1.071e+43\\u003cbr\\u003eRequested Luminosity: 1.059e+43\\u003cbr\\u003eAbsorbed Luminosity: 3.32e+42\",\"\\u003cbr\\u003eEmitted Luminosity: 1.071e+43\\u003cbr\\u003eRequested Luminosity: 1.059e+43\\u003cbr\\u003eAbsorbed Luminosity: 3.32e+42\"],\"hovertemplate\":\"\\u003cb\\u003eY\\u003c\\u002fb\\u003e: %{y:.3f} at \\u003cb\\u003eX\\u003c\\u002fb\\u003e = %{x:,.0f}%{customdata}\",\"legendgroup\":\"group-10\",\"line\":{\"color\":\"#66ff91\",\"shape\":\"hv\"},\"name\":\"10\",\"showlegend\":false,\"x\":[11000.0,11450.000000000002,11900.000000000002,12350.000000000002,12800.000000000002,13250.000000000002,13700.000000000002,14150.000000000002,14600.000000000002,15050.000000000002,15500.000000000002,15950.000000000002,16400.0,16850.0,17300.0,17750.0,18200.0,18650.0,19100.0,19550.0,20000.0],\"y\":[11021.149700787691,11183.065885359983,11262.306944935877,11283.237719511912,11355.819764236307,11355.081373772538,11364.643625202127,11256.880157942558,11224.270561136793,11097.191738698693,11057.634030965208,11001.219018500238,10951.98284839083,10820.576649926585,10754.07341085873,10648.73835231415,10647.310608785454,10542.381788519957,10466.6602284612,10316.950216979078,10316.950216979078],\"type\":\"scatter\",\"uid\":\"e4642dd6-80ea-4d1a-93f4-b632a8b19f37\",\"xaxis\":\"x\",\"yaxis\":\"y\"},{\"customdata\":[\"\\u003cbr\\u003eEmitted Luminosity: 1.071e+43\\u003cbr\\u003eRequested Luminosity: 1.059e+43\\u003cbr\\u003eAbsorbed Luminosity: 3.32e+42\",\"\\u003cbr\\u003eEmitted Luminosity: 1.071e+43\\u003cbr\\u003eRequested Luminosity: 1.059e+43\\u003cbr\\u003eAbsorbed Luminosity: 3.32e+42\",\"\\u003cbr\\u003eEmitted Luminosity: 1.071e+43\\u003cbr\\u003eRequested Luminosity: 1.059e+43\\u003cbr\\u003eAbsorbed Luminosity: 3.32e+42\",\"\\u003cbr\\u003eEmitted Luminosity: 1.071e+43\\u003cbr\\u003eRequested Luminosity: 1.059e+43\\u003cbr\\u003eAbsorbed Luminosity: 3.32e+42\",\"\\u003cbr\\u003eEmitted Luminosity: 1.071e+43\\u003cbr\\u003eRequested Luminosity: 1.059e+43\\u003cbr\\u003eAbsorbed Luminosity: 3.32e+42\",\"\\u003cbr\\u003eEmitted Luminosity: 1.071e+43\\u003cbr\\u003eRequested Luminosity: 1.059e+43\\u003cbr\\u003eAbsorbed Luminosity: 3.32e+42\",\"\\u003cbr\\u003eEmitted Luminosity: 1.071e+43\\u003cbr\\u003eRequested Luminosity: 1.059e+43\\u003cbr\\u003eAbsorbed Luminosity: 3.32e+42\",\"\\u003cbr\\u003eEmitted Luminosity: 1.071e+43\\u003cbr\\u003eRequested Luminosity: 1.059e+43\\u003cbr\\u003eAbsorbed Luminosity: 3.32e+42\",\"\\u003cbr\\u003eEmitted Luminosity: 1.071e+43\\u003cbr\\u003eRequested Luminosity: 1.059e+43\\u003cbr\\u003eAbsorbed Luminosity: 3.32e+42\",\"\\u003cbr\\u003eEmitted Luminosity: 1.071e+43\\u003cbr\\u003eRequested Luminosity: 1.059e+43\\u003cbr\\u003eAbsorbed Luminosity: 3.32e+42\",\"\\u003cbr\\u003eEmitted Luminosity: 1.071e+43\\u003cbr\\u003eRequested Luminosity: 1.059e+43\\u003cbr\\u003eAbsorbed Luminosity: 3.32e+42\",\"\\u003cbr\\u003eEmitted Luminosity: 1.071e+43\\u003cbr\\u003eRequested Luminosity: 1.059e+43\\u003cbr\\u003eAbsorbed Luminosity: 3.32e+42\",\"\\u003cbr\\u003eEmitted Luminosity: 1.071e+43\\u003cbr\\u003eRequested Luminosity: 1.059e+43\\u003cbr\\u003eAbsorbed Luminosity: 3.32e+42\",\"\\u003cbr\\u003eEmitted Luminosity: 1.071e+43\\u003cbr\\u003eRequested Luminosity: 1.059e+43\\u003cbr\\u003eAbsorbed Luminosity: 3.32e+42\",\"\\u003cbr\\u003eEmitted Luminosity: 1.071e+43\\u003cbr\\u003eRequested Luminosity: 1.059e+43\\u003cbr\\u003eAbsorbed Luminosity: 3.32e+42\",\"\\u003cbr\\u003eEmitted Luminosity: 1.071e+43\\u003cbr\\u003eRequested Luminosity: 1.059e+43\\u003cbr\\u003eAbsorbed Luminosity: 3.32e+42\",\"\\u003cbr\\u003eEmitted Luminosity: 1.071e+43\\u003cbr\\u003eRequested Luminosity: 1.059e+43\\u003cbr\\u003eAbsorbed Luminosity: 3.32e+42\",\"\\u003cbr\\u003eEmitted Luminosity: 1.071e+43\\u003cbr\\u003eRequested Luminosity: 1.059e+43\\u003cbr\\u003eAbsorbed Luminosity: 3.32e+42\",\"\\u003cbr\\u003eEmitted Luminosity: 1.071e+43\\u003cbr\\u003eRequested Luminosity: 1.059e+43\\u003cbr\\u003eAbsorbed Luminosity: 3.32e+42\",\"\\u003cbr\\u003eEmitted Luminosity: 1.071e+43\\u003cbr\\u003eRequested Luminosity: 1.059e+43\\u003cbr\\u003eAbsorbed Luminosity: 3.32e+42\",\"\\u003cbr\\u003eEmitted Luminosity: 1.071e+43\\u003cbr\\u003eRequested Luminosity: 1.059e+43\\u003cbr\\u003eAbsorbed Luminosity: 3.32e+42\"],\"hovertemplate\":\"\\u003cb\\u003eY\\u003c\\u002fb\\u003e: %{y:.3f} at \\u003cb\\u003eX\\u003c\\u002fb\\u003e = %{x:,.0f}%{customdata}\",\"legendgroup\":\"group-10\",\"line\":{\"color\":\"#66ff91\",\"shape\":\"hv\"},\"name\":\"10\",\"x\":[11000.0,11450.000000000002,11900.000000000002,12350.000000000002,12800.000000000002,13250.000000000002,13700.000000000002,14150.000000000002,14600.000000000002,15050.000000000002,15500.000000000002,15950.000000000002,16400.0,16850.0,17300.0,17750.0,18200.0,18650.0,19100.0,19550.0,20000.0],\"y\":[0.4766823615092155,0.3569889571793611,0.2892985563943448,0.24259940648065167,0.20469624961997193,0.17834012002826588,0.1569951732721978,0.14496082559885512,0.13120312899464978,0.12341485909309212,0.11362889222029539,0.1060968618196003,0.0985077345860547,0.09493433411213914,0.09019741419134292,0.08719827894265621,0.08126114217187852,0.07863616361235996,0.07566106123043241,0.0747368184620207,0.0747368184620207],\"type\":\"scatter\",\"uid\":\"992fe912-5ed9-484f-8010-c47bfceaa567\",\"xaxis\":\"x2\",\"yaxis\":\"y2\"},{\"customdata\":[\"\\u003cbr\\u003eEmitted Luminosity: 1.05e+43\\u003cbr\\u003eRequested Luminosity: 1.059e+43\\u003cbr\\u003eAbsorbed Luminosity: 3.378e+42\",\"\\u003cbr\\u003eEmitted Luminosity: 1.05e+43\\u003cbr\\u003eRequested Luminosity: 1.059e+43\\u003cbr\\u003eAbsorbed Luminosity: 3.378e+42\",\"\\u003cbr\\u003eEmitted Luminosity: 1.05e+43\\u003cbr\\u003eRequested Luminosity: 1.059e+43\\u003cbr\\u003eAbsorbed Luminosity: 3.378e+42\",\"\\u003cbr\\u003eEmitted Luminosity: 1.05e+43\\u003cbr\\u003eRequested Luminosity: 1.059e+43\\u003cbr\\u003eAbsorbed Luminosity: 3.378e+42\",\"\\u003cbr\\u003eEmitted Luminosity: 1.05e+43\\u003cbr\\u003eRequested Luminosity: 1.059e+43\\u003cbr\\u003eAbsorbed Luminosity: 3.378e+42\",\"\\u003cbr\\u003eEmitted Luminosity: 1.05e+43\\u003cbr\\u003eRequested Luminosity: 1.059e+43\\u003cbr\\u003eAbsorbed Luminosity: 3.378e+42\",\"\\u003cbr\\u003eEmitted Luminosity: 1.05e+43\\u003cbr\\u003eRequested Luminosity: 1.059e+43\\u003cbr\\u003eAbsorbed Luminosity: 3.378e+42\",\"\\u003cbr\\u003eEmitted Luminosity: 1.05e+43\\u003cbr\\u003eRequested Luminosity: 1.059e+43\\u003cbr\\u003eAbsorbed Luminosity: 3.378e+42\",\"\\u003cbr\\u003eEmitted Luminosity: 1.05e+43\\u003cbr\\u003eRequested Luminosity: 1.059e+43\\u003cbr\\u003eAbsorbed Luminosity: 3.378e+42\",\"\\u003cbr\\u003eEmitted Luminosity: 1.05e+43\\u003cbr\\u003eRequested Luminosity: 1.059e+43\\u003cbr\\u003eAbsorbed Luminosity: 3.378e+42\",\"\\u003cbr\\u003eEmitted Luminosity: 1.05e+43\\u003cbr\\u003eRequested Luminosity: 1.059e+43\\u003cbr\\u003eAbsorbed Luminosity: 3.378e+42\",\"\\u003cbr\\u003eEmitted Luminosity: 1.05e+43\\u003cbr\\u003eRequested Luminosity: 1.059e+43\\u003cbr\\u003eAbsorbed Luminosity: 3.378e+42\",\"\\u003cbr\\u003eEmitted Luminosity: 1.05e+43\\u003cbr\\u003eRequested Luminosity: 1.059e+43\\u003cbr\\u003eAbsorbed Luminosity: 3.378e+42\",\"\\u003cbr\\u003eEmitted Luminosity: 1.05e+43\\u003cbr\\u003eRequested Luminosity: 1.059e+43\\u003cbr\\u003eAbsorbed Luminosity: 3.378e+42\",\"\\u003cbr\\u003eEmitted Luminosity: 1.05e+43\\u003cbr\\u003eRequested Luminosity: 1.059e+43\\u003cbr\\u003eAbsorbed Luminosity: 3.378e+42\",\"\\u003cbr\\u003eEmitted Luminosity: 1.05e+43\\u003cbr\\u003eRequested Luminosity: 1.059e+43\\u003cbr\\u003eAbsorbed Luminosity: 3.378e+42\",\"\\u003cbr\\u003eEmitted Luminosity: 1.05e+43\\u003cbr\\u003eRequested Luminosity: 1.059e+43\\u003cbr\\u003eAbsorbed Luminosity: 3.378e+42\",\"\\u003cbr\\u003eEmitted Luminosity: 1.05e+43\\u003cbr\\u003eRequested Luminosity: 1.059e+43\\u003cbr\\u003eAbsorbed Luminosity: 3.378e+42\",\"\\u003cbr\\u003eEmitted Luminosity: 1.05e+43\\u003cbr\\u003eRequested Luminosity: 1.059e+43\\u003cbr\\u003eAbsorbed Luminosity: 3.378e+42\",\"\\u003cbr\\u003eEmitted Luminosity: 1.05e+43\\u003cbr\\u003eRequested Luminosity: 1.059e+43\\u003cbr\\u003eAbsorbed Luminosity: 3.378e+42\",\"\\u003cbr\\u003eEmitted Luminosity: 1.05e+43\\u003cbr\\u003eRequested Luminosity: 1.059e+43\\u003cbr\\u003eAbsorbed Luminosity: 3.378e+42\"],\"hovertemplate\":\"\\u003cb\\u003eY\\u003c\\u002fb\\u003e: %{y:.3f} at \\u003cb\\u003eX\\u003c\\u002fb\\u003e = %{x:,.0f}%{customdata}\",\"legendgroup\":\"group-11\",\"line\":{\"color\":\"#91ff66\",\"shape\":\"hv\"},\"name\":\"11\",\"showlegend\":false,\"x\":[11000.0,11450.000000000002,11900.000000000002,12350.000000000002,12800.000000000002,13250.000000000002,13700.000000000002,14150.000000000002,14600.000000000002,15050.000000000002,15500.000000000002,15950.000000000002,16400.0,16850.0,17300.0,17750.0,18200.0,18650.0,19100.0,19550.0,20000.0],\"y\":[11033.143067109042,11164.149526614949,11218.431293299001,11306.300019407454,11252.354836000079,11232.669118183398,11204.475472244927,11135.164388553805,11117.349592186298,11038.45696532142,10966.246562853026,10885.388666149323,10816.391095034223,10747.509693118527,10702.489784551612,10628.81855403855,10553.806477498882,10447.642598845136,10374.486474815832,10269.084996178288,10269.084996178288],\"type\":\"scatter\",\"uid\":\"7fb29abe-0745-48ac-9987-4217c692af2d\",\"xaxis\":\"x\",\"yaxis\":\"y\"},{\"customdata\":[\"\\u003cbr\\u003eEmitted Luminosity: 1.05e+43\\u003cbr\\u003eRequested Luminosity: 1.059e+43\\u003cbr\\u003eAbsorbed Luminosity: 3.378e+42\",\"\\u003cbr\\u003eEmitted Luminosity: 1.05e+43\\u003cbr\\u003eRequested Luminosity: 1.059e+43\\u003cbr\\u003eAbsorbed Luminosity: 3.378e+42\",\"\\u003cbr\\u003eEmitted Luminosity: 1.05e+43\\u003cbr\\u003eRequested Luminosity: 1.059e+43\\u003cbr\\u003eAbsorbed Luminosity: 3.378e+42\",\"\\u003cbr\\u003eEmitted Luminosity: 1.05e+43\\u003cbr\\u003eRequested Luminosity: 1.059e+43\\u003cbr\\u003eAbsorbed Luminosity: 3.378e+42\",\"\\u003cbr\\u003eEmitted Luminosity: 1.05e+43\\u003cbr\\u003eRequested Luminosity: 1.059e+43\\u003cbr\\u003eAbsorbed Luminosity: 3.378e+42\",\"\\u003cbr\\u003eEmitted Luminosity: 1.05e+43\\u003cbr\\u003eRequested Luminosity: 1.059e+43\\u003cbr\\u003eAbsorbed Luminosity: 3.378e+42\",\"\\u003cbr\\u003eEmitted Luminosity: 1.05e+43\\u003cbr\\u003eRequested Luminosity: 1.059e+43\\u003cbr\\u003eAbsorbed Luminosity: 3.378e+42\",\"\\u003cbr\\u003eEmitted Luminosity: 1.05e+43\\u003cbr\\u003eRequested Luminosity: 1.059e+43\\u003cbr\\u003eAbsorbed Luminosity: 3.378e+42\",\"\\u003cbr\\u003eEmitted Luminosity: 1.05e+43\\u003cbr\\u003eRequested Luminosity: 1.059e+43\\u003cbr\\u003eAbsorbed Luminosity: 3.378e+42\",\"\\u003cbr\\u003eEmitted Luminosity: 1.05e+43\\u003cbr\\u003eRequested Luminosity: 1.059e+43\\u003cbr\\u003eAbsorbed Luminosity: 3.378e+42\",\"\\u003cbr\\u003eEmitted Luminosity: 1.05e+43\\u003cbr\\u003eRequested Luminosity: 1.059e+43\\u003cbr\\u003eAbsorbed Luminosity: 3.378e+42\",\"\\u003cbr\\u003eEmitted Luminosity: 1.05e+43\\u003cbr\\u003eRequested Luminosity: 1.059e+43\\u003cbr\\u003eAbsorbed Luminosity: 3.378e+42\",\"\\u003cbr\\u003eEmitted Luminosity: 1.05e+43\\u003cbr\\u003eRequested Luminosity: 1.059e+43\\u003cbr\\u003eAbsorbed Luminosity: 3.378e+42\",\"\\u003cbr\\u003eEmitted Luminosity: 1.05e+43\\u003cbr\\u003eRequested Luminosity: 1.059e+43\\u003cbr\\u003eAbsorbed Luminosity: 3.378e+42\",\"\\u003cbr\\u003eEmitted Luminosity: 1.05e+43\\u003cbr\\u003eRequested Luminosity: 1.059e+43\\u003cbr\\u003eAbsorbed Luminosity: 3.378e+42\",\"\\u003cbr\\u003eEmitted Luminosity: 1.05e+43\\u003cbr\\u003eRequested Luminosity: 1.059e+43\\u003cbr\\u003eAbsorbed Luminosity: 3.378e+42\",\"\\u003cbr\\u003eEmitted Luminosity: 1.05e+43\\u003cbr\\u003eRequested Luminosity: 1.059e+43\\u003cbr\\u003eAbsorbed Luminosity: 3.378e+42\",\"\\u003cbr\\u003eEmitted Luminosity: 1.05e+43\\u003cbr\\u003eRequested Luminosity: 1.059e+43\\u003cbr\\u003eAbsorbed Luminosity: 3.378e+42\",\"\\u003cbr\\u003eEmitted Luminosity: 1.05e+43\\u003cbr\\u003eRequested Luminosity: 1.059e+43\\u003cbr\\u003eAbsorbed Luminosity: 3.378e+42\",\"\\u003cbr\\u003eEmitted Luminosity: 1.05e+43\\u003cbr\\u003eRequested Luminosity: 1.059e+43\\u003cbr\\u003eAbsorbed Luminosity: 3.378e+42\",\"\\u003cbr\\u003eEmitted Luminosity: 1.05e+43\\u003cbr\\u003eRequested Luminosity: 1.059e+43\\u003cbr\\u003eAbsorbed Luminosity: 3.378e+42\"],\"hovertemplate\":\"\\u003cb\\u003eY\\u003c\\u002fb\\u003e: %{y:.3f} at \\u003cb\\u003eX\\u003c\\u002fb\\u003e = %{x:,.0f}%{customdata}\",\"legendgroup\":\"group-11\",\"line\":{\"color\":\"#91ff66\",\"shape\":\"hv\"},\"name\":\"11\",\"x\":[11000.0,11450.000000000002,11900.000000000002,12350.000000000002,12800.000000000002,13250.000000000002,13700.000000000002,14150.000000000002,14600.000000000002,15050.000000000002,15500.000000000002,15950.000000000002,16400.0,16850.0,17300.0,17750.0,18200.0,18650.0,19100.0,19550.0,20000.0],\"y\":[0.4734375940124341,0.3570163537515415,0.28868397252129296,0.2376919364835508,0.20822269622332257,0.1819721934983598,0.1617676429778106,0.1472057074015448,0.1327710627627556,0.12365902504665062,0.1146728421254856,0.10762560564182005,0.10143381446538309,0.09582293564452893,0.09005999571511844,0.08584158339712021,0.08221223094667085,0.07974358401724968,0.07682901195377899,0.07451531694930238,0.07451531694930238],\"type\":\"scatter\",\"uid\":\"685e354f-13d1-4732-a18b-8b1661a4db0d\",\"xaxis\":\"x2\",\"yaxis\":\"y2\"},{\"customdata\":[\"\\u003cbr\\u003eEmitted Luminosity: 1.057e+43\\u003cbr\\u003eRequested Luminosity: 1.059e+43\\u003cbr\\u003eAbsorbed Luminosity: 3.427e+42\",\"\\u003cbr\\u003eEmitted Luminosity: 1.057e+43\\u003cbr\\u003eRequested Luminosity: 1.059e+43\\u003cbr\\u003eAbsorbed Luminosity: 3.427e+42\",\"\\u003cbr\\u003eEmitted Luminosity: 1.057e+43\\u003cbr\\u003eRequested Luminosity: 1.059e+43\\u003cbr\\u003eAbsorbed Luminosity: 3.427e+42\",\"\\u003cbr\\u003eEmitted Luminosity: 1.057e+43\\u003cbr\\u003eRequested Luminosity: 1.059e+43\\u003cbr\\u003eAbsorbed Luminosity: 3.427e+42\",\"\\u003cbr\\u003eEmitted Luminosity: 1.057e+43\\u003cbr\\u003eRequested Luminosity: 1.059e+43\\u003cbr\\u003eAbsorbed Luminosity: 3.427e+42\",\"\\u003cbr\\u003eEmitted Luminosity: 1.057e+43\\u003cbr\\u003eRequested Luminosity: 1.059e+43\\u003cbr\\u003eAbsorbed Luminosity: 3.427e+42\",\"\\u003cbr\\u003eEmitted Luminosity: 1.057e+43\\u003cbr\\u003eRequested Luminosity: 1.059e+43\\u003cbr\\u003eAbsorbed Luminosity: 3.427e+42\",\"\\u003cbr\\u003eEmitted Luminosity: 1.057e+43\\u003cbr\\u003eRequested Luminosity: 1.059e+43\\u003cbr\\u003eAbsorbed Luminosity: 3.427e+42\",\"\\u003cbr\\u003eEmitted Luminosity: 1.057e+43\\u003cbr\\u003eRequested Luminosity: 1.059e+43\\u003cbr\\u003eAbsorbed Luminosity: 3.427e+42\",\"\\u003cbr\\u003eEmitted Luminosity: 1.057e+43\\u003cbr\\u003eRequested Luminosity: 1.059e+43\\u003cbr\\u003eAbsorbed Luminosity: 3.427e+42\",\"\\u003cbr\\u003eEmitted Luminosity: 1.057e+43\\u003cbr\\u003eRequested Luminosity: 1.059e+43\\u003cbr\\u003eAbsorbed Luminosity: 3.427e+42\",\"\\u003cbr\\u003eEmitted Luminosity: 1.057e+43\\u003cbr\\u003eRequested Luminosity: 1.059e+43\\u003cbr\\u003eAbsorbed Luminosity: 3.427e+42\",\"\\u003cbr\\u003eEmitted Luminosity: 1.057e+43\\u003cbr\\u003eRequested Luminosity: 1.059e+43\\u003cbr\\u003eAbsorbed Luminosity: 3.427e+42\",\"\\u003cbr\\u003eEmitted Luminosity: 1.057e+43\\u003cbr\\u003eRequested Luminosity: 1.059e+43\\u003cbr\\u003eAbsorbed Luminosity: 3.427e+42\",\"\\u003cbr\\u003eEmitted Luminosity: 1.057e+43\\u003cbr\\u003eRequested Luminosity: 1.059e+43\\u003cbr\\u003eAbsorbed Luminosity: 3.427e+42\",\"\\u003cbr\\u003eEmitted Luminosity: 1.057e+43\\u003cbr\\u003eRequested Luminosity: 1.059e+43\\u003cbr\\u003eAbsorbed Luminosity: 3.427e+42\",\"\\u003cbr\\u003eEmitted Luminosity: 1.057e+43\\u003cbr\\u003eRequested Luminosity: 1.059e+43\\u003cbr\\u003eAbsorbed Luminosity: 3.427e+42\",\"\\u003cbr\\u003eEmitted Luminosity: 1.057e+43\\u003cbr\\u003eRequested Luminosity: 1.059e+43\\u003cbr\\u003eAbsorbed Luminosity: 3.427e+42\",\"\\u003cbr\\u003eEmitted Luminosity: 1.057e+43\\u003cbr\\u003eRequested Luminosity: 1.059e+43\\u003cbr\\u003eAbsorbed Luminosity: 3.427e+42\",\"\\u003cbr\\u003eEmitted Luminosity: 1.057e+43\\u003cbr\\u003eRequested Luminosity: 1.059e+43\\u003cbr\\u003eAbsorbed Luminosity: 3.427e+42\",\"\\u003cbr\\u003eEmitted Luminosity: 1.057e+43\\u003cbr\\u003eRequested Luminosity: 1.059e+43\\u003cbr\\u003eAbsorbed Luminosity: 3.427e+42\"],\"hovertemplate\":\"\\u003cb\\u003eY\\u003c\\u002fb\\u003e: %{y:.3f} at \\u003cb\\u003eX\\u003c\\u002fb\\u003e = %{x:,.0f}%{customdata}\",\"legendgroup\":\"group-12\",\"line\":{\"color\":\"#bcff3a\",\"shape\":\"hv\"},\"name\":\"12\",\"showlegend\":false,\"x\":[11000.0,11450.000000000002,11900.000000000002,12350.000000000002,12800.000000000002,13250.000000000002,13700.000000000002,14150.000000000002,14600.000000000002,15050.000000000002,15500.000000000002,15950.000000000002,16400.0,16850.0,17300.0,17750.0,18200.0,18650.0,19100.0,19550.0,20000.0],\"y\":[11087.843359944076,11240.277312573928,11252.084017112087,11272.965540294212,11274.231846391287,11275.807376430066,11318.841359217098,11310.441999978173,11206.686541869047,11174.878846412264,11068.01344094304,11031.661858756726,10974.908034667153,10861.113364838637,10781.188587034178,10748.98279808827,10715.046140077364,10580.962186403882,10526.749161259519,10349.850962598492,10349.850962598492],\"type\":\"scatter\",\"uid\":\"c8ecc313-4fd0-4bd1-8eda-050f22b0502a\",\"xaxis\":\"x\",\"yaxis\":\"y\"},{\"customdata\":[\"\\u003cbr\\u003eEmitted Luminosity: 1.057e+43\\u003cbr\\u003eRequested Luminosity: 1.059e+43\\u003cbr\\u003eAbsorbed Luminosity: 3.427e+42\",\"\\u003cbr\\u003eEmitted Luminosity: 1.057e+43\\u003cbr\\u003eRequested Luminosity: 1.059e+43\\u003cbr\\u003eAbsorbed Luminosity: 3.427e+42\",\"\\u003cbr\\u003eEmitted Luminosity: 1.057e+43\\u003cbr\\u003eRequested Luminosity: 1.059e+43\\u003cbr\\u003eAbsorbed Luminosity: 3.427e+42\",\"\\u003cbr\\u003eEmitted Luminosity: 1.057e+43\\u003cbr\\u003eRequested Luminosity: 1.059e+43\\u003cbr\\u003eAbsorbed Luminosity: 3.427e+42\",\"\\u003cbr\\u003eEmitted Luminosity: 1.057e+43\\u003cbr\\u003eRequested Luminosity: 1.059e+43\\u003cbr\\u003eAbsorbed Luminosity: 3.427e+42\",\"\\u003cbr\\u003eEmitted Luminosity: 1.057e+43\\u003cbr\\u003eRequested Luminosity: 1.059e+43\\u003cbr\\u003eAbsorbed Luminosity: 3.427e+42\",\"\\u003cbr\\u003eEmitted Luminosity: 1.057e+43\\u003cbr\\u003eRequested Luminosity: 1.059e+43\\u003cbr\\u003eAbsorbed Luminosity: 3.427e+42\",\"\\u003cbr\\u003eEmitted Luminosity: 1.057e+43\\u003cbr\\u003eRequested Luminosity: 1.059e+43\\u003cbr\\u003eAbsorbed Luminosity: 3.427e+42\",\"\\u003cbr\\u003eEmitted Luminosity: 1.057e+43\\u003cbr\\u003eRequested Luminosity: 1.059e+43\\u003cbr\\u003eAbsorbed Luminosity: 3.427e+42\",\"\\u003cbr\\u003eEmitted Luminosity: 1.057e+43\\u003cbr\\u003eRequested Luminosity: 1.059e+43\\u003cbr\\u003eAbsorbed Luminosity: 3.427e+42\",\"\\u003cbr\\u003eEmitted Luminosity: 1.057e+43\\u003cbr\\u003eRequested Luminosity: 1.059e+43\\u003cbr\\u003eAbsorbed Luminosity: 3.427e+42\",\"\\u003cbr\\u003eEmitted Luminosity: 1.057e+43\\u003cbr\\u003eRequested Luminosity: 1.059e+43\\u003cbr\\u003eAbsorbed Luminosity: 3.427e+42\",\"\\u003cbr\\u003eEmitted Luminosity: 1.057e+43\\u003cbr\\u003eRequested Luminosity: 1.059e+43\\u003cbr\\u003eAbsorbed Luminosity: 3.427e+42\",\"\\u003cbr\\u003eEmitted Luminosity: 1.057e+43\\u003cbr\\u003eRequested Luminosity: 1.059e+43\\u003cbr\\u003eAbsorbed Luminosity: 3.427e+42\",\"\\u003cbr\\u003eEmitted Luminosity: 1.057e+43\\u003cbr\\u003eRequested Luminosity: 1.059e+43\\u003cbr\\u003eAbsorbed Luminosity: 3.427e+42\",\"\\u003cbr\\u003eEmitted Luminosity: 1.057e+43\\u003cbr\\u003eRequested Luminosity: 1.059e+43\\u003cbr\\u003eAbsorbed Luminosity: 3.427e+42\",\"\\u003cbr\\u003eEmitted Luminosity: 1.057e+43\\u003cbr\\u003eRequested Luminosity: 1.059e+43\\u003cbr\\u003eAbsorbed Luminosity: 3.427e+42\",\"\\u003cbr\\u003eEmitted Luminosity: 1.057e+43\\u003cbr\\u003eRequested Luminosity: 1.059e+43\\u003cbr\\u003eAbsorbed Luminosity: 3.427e+42\",\"\\u003cbr\\u003eEmitted Luminosity: 1.057e+43\\u003cbr\\u003eRequested Luminosity: 1.059e+43\\u003cbr\\u003eAbsorbed Luminosity: 3.427e+42\",\"\\u003cbr\\u003eEmitted Luminosity: 1.057e+43\\u003cbr\\u003eRequested Luminosity: 1.059e+43\\u003cbr\\u003eAbsorbed Luminosity: 3.427e+42\",\"\\u003cbr\\u003eEmitted Luminosity: 1.057e+43\\u003cbr\\u003eRequested Luminosity: 1.059e+43\\u003cbr\\u003eAbsorbed Luminosity: 3.427e+42\"],\"hovertemplate\":\"\\u003cb\\u003eY\\u003c\\u002fb\\u003e: %{y:.3f} at \\u003cb\\u003eX\\u003c\\u002fb\\u003e = %{x:,.0f}%{customdata}\",\"legendgroup\":\"group-12\",\"line\":{\"color\":\"#bcff3a\",\"shape\":\"hv\"},\"name\":\"12\",\"x\":[11000.0,11450.000000000002,11900.000000000002,12350.000000000002,12800.000000000002,13250.000000000002,13700.000000000002,14150.000000000002,14600.000000000002,15050.000000000002,15500.000000000002,15950.000000000002,16400.0,16850.0,17300.0,17750.0,18200.0,18650.0,19100.0,19550.0,20000.0],\"y\":[0.46508497993768205,0.34589757980797453,0.2878369329194827,0.24041889421310453,0.2071275665816038,0.18028912862595053,0.15704821587465334,0.13997702951431776,0.13011769414153465,0.11833348939086903,0.11116901616978093,0.10338567597684445,0.09672309796168801,0.09265217265921148,0.08859618048040634,0.0830349946247088,0.07859165934146928,0.0768339313715006,0.07342971415534949,0.07289166103853191,0.07289166103853191],\"type\":\"scatter\",\"uid\":\"0bdd2596-93e7-433d-aa4b-2b5bcf1a85a8\",\"xaxis\":\"x2\",\"yaxis\":\"y2\"},{\"customdata\":[\"\\u003cbr\\u003eEmitted Luminosity: 1.062e+43\\u003cbr\\u003eRequested Luminosity: 1.059e+43\\u003cbr\\u003eAbsorbed Luminosity: 3.405e+42\",\"\\u003cbr\\u003eEmitted Luminosity: 1.062e+43\\u003cbr\\u003eRequested Luminosity: 1.059e+43\\u003cbr\\u003eAbsorbed Luminosity: 3.405e+42\",\"\\u003cbr\\u003eEmitted Luminosity: 1.062e+43\\u003cbr\\u003eRequested Luminosity: 1.059e+43\\u003cbr\\u003eAbsorbed Luminosity: 3.405e+42\",\"\\u003cbr\\u003eEmitted Luminosity: 1.062e+43\\u003cbr\\u003eRequested Luminosity: 1.059e+43\\u003cbr\\u003eAbsorbed Luminosity: 3.405e+42\",\"\\u003cbr\\u003eEmitted Luminosity: 1.062e+43\\u003cbr\\u003eRequested Luminosity: 1.059e+43\\u003cbr\\u003eAbsorbed Luminosity: 3.405e+42\",\"\\u003cbr\\u003eEmitted Luminosity: 1.062e+43\\u003cbr\\u003eRequested Luminosity: 1.059e+43\\u003cbr\\u003eAbsorbed Luminosity: 3.405e+42\",\"\\u003cbr\\u003eEmitted Luminosity: 1.062e+43\\u003cbr\\u003eRequested Luminosity: 1.059e+43\\u003cbr\\u003eAbsorbed Luminosity: 3.405e+42\",\"\\u003cbr\\u003eEmitted Luminosity: 1.062e+43\\u003cbr\\u003eRequested Luminosity: 1.059e+43\\u003cbr\\u003eAbsorbed Luminosity: 3.405e+42\",\"\\u003cbr\\u003eEmitted Luminosity: 1.062e+43\\u003cbr\\u003eRequested Luminosity: 1.059e+43\\u003cbr\\u003eAbsorbed Luminosity: 3.405e+42\",\"\\u003cbr\\u003eEmitted Luminosity: 1.062e+43\\u003cbr\\u003eRequested Luminosity: 1.059e+43\\u003cbr\\u003eAbsorbed Luminosity: 3.405e+42\",\"\\u003cbr\\u003eEmitted Luminosity: 1.062e+43\\u003cbr\\u003eRequested Luminosity: 1.059e+43\\u003cbr\\u003eAbsorbed Luminosity: 3.405e+42\",\"\\u003cbr\\u003eEmitted Luminosity: 1.062e+43\\u003cbr\\u003eRequested Luminosity: 1.059e+43\\u003cbr\\u003eAbsorbed Luminosity: 3.405e+42\",\"\\u003cbr\\u003eEmitted Luminosity: 1.062e+43\\u003cbr\\u003eRequested Luminosity: 1.059e+43\\u003cbr\\u003eAbsorbed Luminosity: 3.405e+42\",\"\\u003cbr\\u003eEmitted Luminosity: 1.062e+43\\u003cbr\\u003eRequested Luminosity: 1.059e+43\\u003cbr\\u003eAbsorbed Luminosity: 3.405e+42\",\"\\u003cbr\\u003eEmitted Luminosity: 1.062e+43\\u003cbr\\u003eRequested Luminosity: 1.059e+43\\u003cbr\\u003eAbsorbed Luminosity: 3.405e+42\",\"\\u003cbr\\u003eEmitted Luminosity: 1.062e+43\\u003cbr\\u003eRequested Luminosity: 1.059e+43\\u003cbr\\u003eAbsorbed Luminosity: 3.405e+42\",\"\\u003cbr\\u003eEmitted Luminosity: 1.062e+43\\u003cbr\\u003eRequested Luminosity: 1.059e+43\\u003cbr\\u003eAbsorbed Luminosity: 3.405e+42\",\"\\u003cbr\\u003eEmitted Luminosity: 1.062e+43\\u003cbr\\u003eRequested Luminosity: 1.059e+43\\u003cbr\\u003eAbsorbed Luminosity: 3.405e+42\",\"\\u003cbr\\u003eEmitted Luminosity: 1.062e+43\\u003cbr\\u003eRequested Luminosity: 1.059e+43\\u003cbr\\u003eAbsorbed Luminosity: 3.405e+42\",\"\\u003cbr\\u003eEmitted Luminosity: 1.062e+43\\u003cbr\\u003eRequested Luminosity: 1.059e+43\\u003cbr\\u003eAbsorbed Luminosity: 3.405e+42\",\"\\u003cbr\\u003eEmitted Luminosity: 1.062e+43\\u003cbr\\u003eRequested Luminosity: 1.059e+43\\u003cbr\\u003eAbsorbed Luminosity: 3.405e+42\"],\"hovertemplate\":\"\\u003cb\\u003eY\\u003c\\u002fb\\u003e: %{y:.3f} at \\u003cb\\u003eX\\u003c\\u002fb\\u003e = %{x:,.0f}%{customdata}\",\"legendgroup\":\"group-13\",\"line\":{\"color\":\"#e8ff0f\",\"shape\":\"hv\"},\"name\":\"13\",\"showlegend\":false,\"x\":[11000.0,11450.000000000002,11900.000000000002,12350.000000000002,12800.000000000002,13250.000000000002,13700.000000000002,14150.000000000002,14600.000000000002,15050.000000000002,15500.000000000002,15950.000000000002,16400.0,16850.0,17300.0,17750.0,18200.0,18650.0,19100.0,19550.0,20000.0],\"y\":[11086.546488327278,11204.74307608554,11268.106487375733,11300.847617996917,11303.543038186066,11323.353433885595,11353.818228350094,11312.535926938308,11265.199332500737,11158.280311124796,11053.17348462575,10985.191384273205,10907.14657350237,10867.084765154394,10796.068260754799,10688.059659244156,10594.098051199931,10564.080097024973,10405.688397119295,10307.394339330798,10307.394339330798],\"type\":\"scatter\",\"uid\":\"ef87f344-99e1-4b67-b4f1-8e2a7688555d\",\"xaxis\":\"x\",\"yaxis\":\"y\"},{\"customdata\":[\"\\u003cbr\\u003eEmitted Luminosity: 1.062e+43\\u003cbr\\u003eRequested Luminosity: 1.059e+43\\u003cbr\\u003eAbsorbed Luminosity: 3.405e+42\",\"\\u003cbr\\u003eEmitted Luminosity: 1.062e+43\\u003cbr\\u003eRequested Luminosity: 1.059e+43\\u003cbr\\u003eAbsorbed Luminosity: 3.405e+42\",\"\\u003cbr\\u003eEmitted Luminosity: 1.062e+43\\u003cbr\\u003eRequested Luminosity: 1.059e+43\\u003cbr\\u003eAbsorbed Luminosity: 3.405e+42\",\"\\u003cbr\\u003eEmitted Luminosity: 1.062e+43\\u003cbr\\u003eRequested Luminosity: 1.059e+43\\u003cbr\\u003eAbsorbed Luminosity: 3.405e+42\",\"\\u003cbr\\u003eEmitted Luminosity: 1.062e+43\\u003cbr\\u003eRequested Luminosity: 1.059e+43\\u003cbr\\u003eAbsorbed Luminosity: 3.405e+42\",\"\\u003cbr\\u003eEmitted Luminosity: 1.062e+43\\u003cbr\\u003eRequested Luminosity: 1.059e+43\\u003cbr\\u003eAbsorbed Luminosity: 3.405e+42\",\"\\u003cbr\\u003eEmitted Luminosity: 1.062e+43\\u003cbr\\u003eRequested Luminosity: 1.059e+43\\u003cbr\\u003eAbsorbed Luminosity: 3.405e+42\",\"\\u003cbr\\u003eEmitted Luminosity: 1.062e+43\\u003cbr\\u003eRequested Luminosity: 1.059e+43\\u003cbr\\u003eAbsorbed Luminosity: 3.405e+42\",\"\\u003cbr\\u003eEmitted Luminosity: 1.062e+43\\u003cbr\\u003eRequested Luminosity: 1.059e+43\\u003cbr\\u003eAbsorbed Luminosity: 3.405e+42\",\"\\u003cbr\\u003eEmitted Luminosity: 1.062e+43\\u003cbr\\u003eRequested Luminosity: 1.059e+43\\u003cbr\\u003eAbsorbed Luminosity: 3.405e+42\",\"\\u003cbr\\u003eEmitted Luminosity: 1.062e+43\\u003cbr\\u003eRequested Luminosity: 1.059e+43\\u003cbr\\u003eAbsorbed Luminosity: 3.405e+42\",\"\\u003cbr\\u003eEmitted Luminosity: 1.062e+43\\u003cbr\\u003eRequested Luminosity: 1.059e+43\\u003cbr\\u003eAbsorbed Luminosity: 3.405e+42\",\"\\u003cbr\\u003eEmitted Luminosity: 1.062e+43\\u003cbr\\u003eRequested Luminosity: 1.059e+43\\u003cbr\\u003eAbsorbed Luminosity: 3.405e+42\",\"\\u003cbr\\u003eEmitted Luminosity: 1.062e+43\\u003cbr\\u003eRequested Luminosity: 1.059e+43\\u003cbr\\u003eAbsorbed Luminosity: 3.405e+42\",\"\\u003cbr\\u003eEmitted Luminosity: 1.062e+43\\u003cbr\\u003eRequested Luminosity: 1.059e+43\\u003cbr\\u003eAbsorbed Luminosity: 3.405e+42\",\"\\u003cbr\\u003eEmitted Luminosity: 1.062e+43\\u003cbr\\u003eRequested Luminosity: 1.059e+43\\u003cbr\\u003eAbsorbed Luminosity: 3.405e+42\",\"\\u003cbr\\u003eEmitted Luminosity: 1.062e+43\\u003cbr\\u003eRequested Luminosity: 1.059e+43\\u003cbr\\u003eAbsorbed Luminosity: 3.405e+42\",\"\\u003cbr\\u003eEmitted Luminosity: 1.062e+43\\u003cbr\\u003eRequested Luminosity: 1.059e+43\\u003cbr\\u003eAbsorbed Luminosity: 3.405e+42\",\"\\u003cbr\\u003eEmitted Luminosity: 1.062e+43\\u003cbr\\u003eRequested Luminosity: 1.059e+43\\u003cbr\\u003eAbsorbed Luminosity: 3.405e+42\",\"\\u003cbr\\u003eEmitted Luminosity: 1.062e+43\\u003cbr\\u003eRequested Luminosity: 1.059e+43\\u003cbr\\u003eAbsorbed Luminosity: 3.405e+42\",\"\\u003cbr\\u003eEmitted Luminosity: 1.062e+43\\u003cbr\\u003eRequested Luminosity: 1.059e+43\\u003cbr\\u003eAbsorbed Luminosity: 3.405e+42\"],\"hovertemplate\":\"\\u003cb\\u003eY\\u003c\\u002fb\\u003e: %{y:.3f} at \\u003cb\\u003eX\\u003c\\u002fb\\u003e = %{x:,.0f}%{customdata}\",\"legendgroup\":\"group-13\",\"line\":{\"color\":\"#e8ff0f\",\"shape\":\"hv\"},\"name\":\"13\",\"x\":[11000.0,11450.000000000002,11900.000000000002,12350.000000000002,12800.000000000002,13250.000000000002,13700.000000000002,14150.000000000002,14600.000000000002,15050.000000000002,15500.000000000002,15950.000000000002,16400.0,16850.0,17300.0,17750.0,18200.0,18650.0,19100.0,19550.0,20000.0],\"y\":[0.4657784119197851,0.3540121128810076,0.2885369021507883,0.2409932421821851,0.20566228079730872,0.17803637329941222,0.15539127146041612,0.14034525575886697,0.12790991235537752,0.11977358889599278,0.11263476916000834,0.10574569799191079,0.09967759475157022,0.09348585575896326,0.08857387042590019,0.0860099795766024,0.08231079663975584,0.07765618133823321,0.0767339301260091,0.07434396972140496,0.07434396972140496],\"type\":\"scatter\",\"uid\":\"ba8b10bc-9109-4ceb-9bd9-817427c8d7f8\",\"xaxis\":\"x2\",\"yaxis\":\"y2\"},{\"customdata\":[\"\\u003cbr\\u003eEmitted Luminosity: 1.061e+43\\u003cbr\\u003eRequested Luminosity: 1.059e+43\\u003cbr\\u003eAbsorbed Luminosity: 3.377e+42\",\"\\u003cbr\\u003eEmitted Luminosity: 1.061e+43\\u003cbr\\u003eRequested Luminosity: 1.059e+43\\u003cbr\\u003eAbsorbed Luminosity: 3.377e+42\",\"\\u003cbr\\u003eEmitted Luminosity: 1.061e+43\\u003cbr\\u003eRequested Luminosity: 1.059e+43\\u003cbr\\u003eAbsorbed Luminosity: 3.377e+42\",\"\\u003cbr\\u003eEmitted Luminosity: 1.061e+43\\u003cbr\\u003eRequested Luminosity: 1.059e+43\\u003cbr\\u003eAbsorbed Luminosity: 3.377e+42\",\"\\u003cbr\\u003eEmitted Luminosity: 1.061e+43\\u003cbr\\u003eRequested Luminosity: 1.059e+43\\u003cbr\\u003eAbsorbed Luminosity: 3.377e+42\",\"\\u003cbr\\u003eEmitted Luminosity: 1.061e+43\\u003cbr\\u003eRequested Luminosity: 1.059e+43\\u003cbr\\u003eAbsorbed Luminosity: 3.377e+42\",\"\\u003cbr\\u003eEmitted Luminosity: 1.061e+43\\u003cbr\\u003eRequested Luminosity: 1.059e+43\\u003cbr\\u003eAbsorbed Luminosity: 3.377e+42\",\"\\u003cbr\\u003eEmitted Luminosity: 1.061e+43\\u003cbr\\u003eRequested Luminosity: 1.059e+43\\u003cbr\\u003eAbsorbed Luminosity: 3.377e+42\",\"\\u003cbr\\u003eEmitted Luminosity: 1.061e+43\\u003cbr\\u003eRequested Luminosity: 1.059e+43\\u003cbr\\u003eAbsorbed Luminosity: 3.377e+42\",\"\\u003cbr\\u003eEmitted Luminosity: 1.061e+43\\u003cbr\\u003eRequested Luminosity: 1.059e+43\\u003cbr\\u003eAbsorbed Luminosity: 3.377e+42\",\"\\u003cbr\\u003eEmitted Luminosity: 1.061e+43\\u003cbr\\u003eRequested Luminosity: 1.059e+43\\u003cbr\\u003eAbsorbed Luminosity: 3.377e+42\",\"\\u003cbr\\u003eEmitted Luminosity: 1.061e+43\\u003cbr\\u003eRequested Luminosity: 1.059e+43\\u003cbr\\u003eAbsorbed Luminosity: 3.377e+42\",\"\\u003cbr\\u003eEmitted Luminosity: 1.061e+43\\u003cbr\\u003eRequested Luminosity: 1.059e+43\\u003cbr\\u003eAbsorbed Luminosity: 3.377e+42\",\"\\u003cbr\\u003eEmitted Luminosity: 1.061e+43\\u003cbr\\u003eRequested Luminosity: 1.059e+43\\u003cbr\\u003eAbsorbed Luminosity: 3.377e+42\",\"\\u003cbr\\u003eEmitted Luminosity: 1.061e+43\\u003cbr\\u003eRequested Luminosity: 1.059e+43\\u003cbr\\u003eAbsorbed Luminosity: 3.377e+42\",\"\\u003cbr\\u003eEmitted Luminosity: 1.061e+43\\u003cbr\\u003eRequested Luminosity: 1.059e+43\\u003cbr\\u003eAbsorbed Luminosity: 3.377e+42\",\"\\u003cbr\\u003eEmitted Luminosity: 1.061e+43\\u003cbr\\u003eRequested Luminosity: 1.059e+43\\u003cbr\\u003eAbsorbed Luminosity: 3.377e+42\",\"\\u003cbr\\u003eEmitted Luminosity: 1.061e+43\\u003cbr\\u003eRequested Luminosity: 1.059e+43\\u003cbr\\u003eAbsorbed Luminosity: 3.377e+42\",\"\\u003cbr\\u003eEmitted Luminosity: 1.061e+43\\u003cbr\\u003eRequested Luminosity: 1.059e+43\\u003cbr\\u003eAbsorbed Luminosity: 3.377e+42\",\"\\u003cbr\\u003eEmitted Luminosity: 1.061e+43\\u003cbr\\u003eRequested Luminosity: 1.059e+43\\u003cbr\\u003eAbsorbed Luminosity: 3.377e+42\",\"\\u003cbr\\u003eEmitted Luminosity: 1.061e+43\\u003cbr\\u003eRequested Luminosity: 1.059e+43\\u003cbr\\u003eAbsorbed Luminosity: 3.377e+42\"],\"hovertemplate\":\"\\u003cb\\u003eY\\u003c\\u002fb\\u003e: %{y:.3f} at \\u003cb\\u003eX\\u003c\\u002fb\\u003e = %{x:,.0f}%{customdata}\",\"legendgroup\":\"group-14\",\"line\":{\"color\":\"#ffd500\",\"shape\":\"hv\"},\"name\":\"14\",\"showlegend\":false,\"x\":[11000.0,11450.000000000002,11900.000000000002,12350.000000000002,12800.000000000002,13250.000000000002,13700.000000000002,14150.000000000002,14600.000000000002,15050.000000000002,15500.000000000002,15950.000000000002,16400.0,16850.0,17300.0,17750.0,18200.0,18650.0,19100.0,19550.0,20000.0],\"y\":[11080.438593106795,11188.03489360145,11310.80787600241,11310.982843535921,11325.16047025447,11300.968754174786,11173.561064947036,11230.956953398287,11154.703843762143,11108.27128490244,11006.742479233673,10919.505787616474,10812.07885355666,10832.439247448603,10732.094255755599,10634.395122832782,10562.388183365194,10464.207207889587,10368.478154055952,10286.556838623475,10286.556838623475],\"type\":\"scatter\",\"uid\":\"ca7f45d0-4425-41e3-82c7-5097d19d2ffb\",\"xaxis\":\"x\",\"yaxis\":\"y\"},{\"customdata\":[\"\\u003cbr\\u003eEmitted Luminosity: 1.061e+43\\u003cbr\\u003eRequested Luminosity: 1.059e+43\\u003cbr\\u003eAbsorbed Luminosity: 3.377e+42\",\"\\u003cbr\\u003eEmitted Luminosity: 1.061e+43\\u003cbr\\u003eRequested Luminosity: 1.059e+43\\u003cbr\\u003eAbsorbed Luminosity: 3.377e+42\",\"\\u003cbr\\u003eEmitted Luminosity: 1.061e+43\\u003cbr\\u003eRequested Luminosity: 1.059e+43\\u003cbr\\u003eAbsorbed Luminosity: 3.377e+42\",\"\\u003cbr\\u003eEmitted Luminosity: 1.061e+43\\u003cbr\\u003eRequested Luminosity: 1.059e+43\\u003cbr\\u003eAbsorbed Luminosity: 3.377e+42\",\"\\u003cbr\\u003eEmitted Luminosity: 1.061e+43\\u003cbr\\u003eRequested Luminosity: 1.059e+43\\u003cbr\\u003eAbsorbed Luminosity: 3.377e+42\",\"\\u003cbr\\u003eEmitted Luminosity: 1.061e+43\\u003cbr\\u003eRequested Luminosity: 1.059e+43\\u003cbr\\u003eAbsorbed Luminosity: 3.377e+42\",\"\\u003cbr\\u003eEmitted Luminosity: 1.061e+43\\u003cbr\\u003eRequested Luminosity: 1.059e+43\\u003cbr\\u003eAbsorbed Luminosity: 3.377e+42\",\"\\u003cbr\\u003eEmitted Luminosity: 1.061e+43\\u003cbr\\u003eRequested Luminosity: 1.059e+43\\u003cbr\\u003eAbsorbed Luminosity: 3.377e+42\",\"\\u003cbr\\u003eEmitted Luminosity: 1.061e+43\\u003cbr\\u003eRequested Luminosity: 1.059e+43\\u003cbr\\u003eAbsorbed Luminosity: 3.377e+42\",\"\\u003cbr\\u003eEmitted Luminosity: 1.061e+43\\u003cbr\\u003eRequested Luminosity: 1.059e+43\\u003cbr\\u003eAbsorbed Luminosity: 3.377e+42\",\"\\u003cbr\\u003eEmitted Luminosity: 1.061e+43\\u003cbr\\u003eRequested Luminosity: 1.059e+43\\u003cbr\\u003eAbsorbed Luminosity: 3.377e+42\",\"\\u003cbr\\u003eEmitted Luminosity: 1.061e+43\\u003cbr\\u003eRequested Luminosity: 1.059e+43\\u003cbr\\u003eAbsorbed Luminosity: 3.377e+42\",\"\\u003cbr\\u003eEmitted Luminosity: 1.061e+43\\u003cbr\\u003eRequested Luminosity: 1.059e+43\\u003cbr\\u003eAbsorbed Luminosity: 3.377e+42\",\"\\u003cbr\\u003eEmitted Luminosity: 1.061e+43\\u003cbr\\u003eRequested Luminosity: 1.059e+43\\u003cbr\\u003eAbsorbed Luminosity: 3.377e+42\",\"\\u003cbr\\u003eEmitted Luminosity: 1.061e+43\\u003cbr\\u003eRequested Luminosity: 1.059e+43\\u003cbr\\u003eAbsorbed Luminosity: 3.377e+42\",\"\\u003cbr\\u003eEmitted Luminosity: 1.061e+43\\u003cbr\\u003eRequested Luminosity: 1.059e+43\\u003cbr\\u003eAbsorbed Luminosity: 3.377e+42\",\"\\u003cbr\\u003eEmitted Luminosity: 1.061e+43\\u003cbr\\u003eRequested Luminosity: 1.059e+43\\u003cbr\\u003eAbsorbed Luminosity: 3.377e+42\",\"\\u003cbr\\u003eEmitted Luminosity: 1.061e+43\\u003cbr\\u003eRequested Luminosity: 1.059e+43\\u003cbr\\u003eAbsorbed Luminosity: 3.377e+42\",\"\\u003cbr\\u003eEmitted Luminosity: 1.061e+43\\u003cbr\\u003eRequested Luminosity: 1.059e+43\\u003cbr\\u003eAbsorbed Luminosity: 3.377e+42\",\"\\u003cbr\\u003eEmitted Luminosity: 1.061e+43\\u003cbr\\u003eRequested Luminosity: 1.059e+43\\u003cbr\\u003eAbsorbed Luminosity: 3.377e+42\",\"\\u003cbr\\u003eEmitted Luminosity: 1.061e+43\\u003cbr\\u003eRequested Luminosity: 1.059e+43\\u003cbr\\u003eAbsorbed Luminosity: 3.377e+42\"],\"hovertemplate\":\"\\u003cb\\u003eY\\u003c\\u002fb\\u003e: %{y:.3f} at \\u003cb\\u003eX\\u003c\\u002fb\\u003e = %{x:,.0f}%{customdata}\",\"legendgroup\":\"group-14\",\"line\":{\"color\":\"#ffd500\",\"shape\":\"hv\"},\"name\":\"14\",\"x\":[11000.0,11450.000000000002,11900.000000000002,12350.000000000002,12800.000000000002,13250.000000000002,13700.000000000002,14150.000000000002,14600.000000000002,15050.000000000002,15500.000000000002,15950.000000000002,16400.0,16850.0,17300.0,17750.0,18200.0,18650.0,19100.0,19550.0,20000.0],\"y\":[0.46838593393853717,0.35565478145400653,0.2813585218419205,0.23732636482927663,0.20445171465280695,0.1809220308608178,0.16569183450855418,0.14491225697639964,0.13267598061871458,0.12176963037741834,0.11436646319373803,0.1077610888230619,0.10264607093340006,0.09423623253842803,0.08995545519248836,0.08667914749242353,0.08285094737517927,0.08021309076205313,0.07759561728391673,0.07482527654365577,0.07482527654365577],\"type\":\"scatter\",\"uid\":\"45b0450d-f129-4a36-b7b0-038a9a15f772\",\"xaxis\":\"x2\",\"yaxis\":\"y2\"},{\"customdata\":[\"\\u003cbr\\u003eEmitted Luminosity: 1.055e+43\\u003cbr\\u003eRequested Luminosity: 1.059e+43\\u003cbr\\u003eAbsorbed Luminosity: 3.411e+42\",\"\\u003cbr\\u003eEmitted Luminosity: 1.055e+43\\u003cbr\\u003eRequested Luminosity: 1.059e+43\\u003cbr\\u003eAbsorbed Luminosity: 3.411e+42\",\"\\u003cbr\\u003eEmitted Luminosity: 1.055e+43\\u003cbr\\u003eRequested Luminosity: 1.059e+43\\u003cbr\\u003eAbsorbed Luminosity: 3.411e+42\",\"\\u003cbr\\u003eEmitted Luminosity: 1.055e+43\\u003cbr\\u003eRequested Luminosity: 1.059e+43\\u003cbr\\u003eAbsorbed Luminosity: 3.411e+42\",\"\\u003cbr\\u003eEmitted Luminosity: 1.055e+43\\u003cbr\\u003eRequested Luminosity: 1.059e+43\\u003cbr\\u003eAbsorbed Luminosity: 3.411e+42\",\"\\u003cbr\\u003eEmitted Luminosity: 1.055e+43\\u003cbr\\u003eRequested Luminosity: 1.059e+43\\u003cbr\\u003eAbsorbed Luminosity: 3.411e+42\",\"\\u003cbr\\u003eEmitted Luminosity: 1.055e+43\\u003cbr\\u003eRequested Luminosity: 1.059e+43\\u003cbr\\u003eAbsorbed Luminosity: 3.411e+42\",\"\\u003cbr\\u003eEmitted Luminosity: 1.055e+43\\u003cbr\\u003eRequested Luminosity: 1.059e+43\\u003cbr\\u003eAbsorbed Luminosity: 3.411e+42\",\"\\u003cbr\\u003eEmitted Luminosity: 1.055e+43\\u003cbr\\u003eRequested Luminosity: 1.059e+43\\u003cbr\\u003eAbsorbed Luminosity: 3.411e+42\",\"\\u003cbr\\u003eEmitted Luminosity: 1.055e+43\\u003cbr\\u003eRequested Luminosity: 1.059e+43\\u003cbr\\u003eAbsorbed Luminosity: 3.411e+42\",\"\\u003cbr\\u003eEmitted Luminosity: 1.055e+43\\u003cbr\\u003eRequested Luminosity: 1.059e+43\\u003cbr\\u003eAbsorbed Luminosity: 3.411e+42\",\"\\u003cbr\\u003eEmitted Luminosity: 1.055e+43\\u003cbr\\u003eRequested Luminosity: 1.059e+43\\u003cbr\\u003eAbsorbed Luminosity: 3.411e+42\",\"\\u003cbr\\u003eEmitted Luminosity: 1.055e+43\\u003cbr\\u003eRequested Luminosity: 1.059e+43\\u003cbr\\u003eAbsorbed Luminosity: 3.411e+42\",\"\\u003cbr\\u003eEmitted Luminosity: 1.055e+43\\u003cbr\\u003eRequested Luminosity: 1.059e+43\\u003cbr\\u003eAbsorbed Luminosity: 3.411e+42\",\"\\u003cbr\\u003eEmitted Luminosity: 1.055e+43\\u003cbr\\u003eRequested Luminosity: 1.059e+43\\u003cbr\\u003eAbsorbed Luminosity: 3.411e+42\",\"\\u003cbr\\u003eEmitted Luminosity: 1.055e+43\\u003cbr\\u003eRequested Luminosity: 1.059e+43\\u003cbr\\u003eAbsorbed Luminosity: 3.411e+42\",\"\\u003cbr\\u003eEmitted Luminosity: 1.055e+43\\u003cbr\\u003eRequested Luminosity: 1.059e+43\\u003cbr\\u003eAbsorbed Luminosity: 3.411e+42\",\"\\u003cbr\\u003eEmitted Luminosity: 1.055e+43\\u003cbr\\u003eRequested Luminosity: 1.059e+43\\u003cbr\\u003eAbsorbed Luminosity: 3.411e+42\",\"\\u003cbr\\u003eEmitted Luminosity: 1.055e+43\\u003cbr\\u003eRequested Luminosity: 1.059e+43\\u003cbr\\u003eAbsorbed Luminosity: 3.411e+42\",\"\\u003cbr\\u003eEmitted Luminosity: 1.055e+43\\u003cbr\\u003eRequested Luminosity: 1.059e+43\\u003cbr\\u003eAbsorbed Luminosity: 3.411e+42\",\"\\u003cbr\\u003eEmitted Luminosity: 1.055e+43\\u003cbr\\u003eRequested Luminosity: 1.059e+43\\u003cbr\\u003eAbsorbed Luminosity: 3.411e+42\"],\"hovertemplate\":\"\\u003cb\\u003eY\\u003c\\u002fb\\u003e: %{y:.3f} at \\u003cb\\u003eX\\u003c\\u002fb\\u003e = %{x:,.0f}%{customdata}\",\"legendgroup\":\"group-15\",\"line\":{\"color\":\"#ffa400\",\"shape\":\"hv\"},\"name\":\"15\",\"showlegend\":false,\"x\":[11000.0,11450.000000000002,11900.000000000002,12350.000000000002,12800.000000000002,13250.000000000002,13700.000000000002,14150.000000000002,14600.000000000002,15050.000000000002,15500.000000000002,15950.000000000002,16400.0,16850.0,17300.0,17750.0,18200.0,18650.0,19100.0,19550.0,20000.0],\"y\":[10964.035201516155,11135.004263550916,11228.484956704207,11246.921705105515,11308.739621416757,11282.337016900023,11226.115318632,11214.237522629719,11186.763643214166,11169.680630870782,11037.967945418644,10892.012766456432,10807.16018699202,10761.489172389416,10727.97230175987,10674.687180215973,10589.428139366537,10474.443116287273,10366.85638274123,10294.825596078932,10294.825596078932],\"type\":\"scatter\",\"uid\":\"53e6f827-57d2-434e-bdbe-ce23d4a67029\",\"xaxis\":\"x\",\"yaxis\":\"y\"},{\"customdata\":[\"\\u003cbr\\u003eEmitted Luminosity: 1.055e+43\\u003cbr\\u003eRequested Luminosity: 1.059e+43\\u003cbr\\u003eAbsorbed Luminosity: 3.411e+42\",\"\\u003cbr\\u003eEmitted Luminosity: 1.055e+43\\u003cbr\\u003eRequested Luminosity: 1.059e+43\\u003cbr\\u003eAbsorbed Luminosity: 3.411e+42\",\"\\u003cbr\\u003eEmitted Luminosity: 1.055e+43\\u003cbr\\u003eRequested Luminosity: 1.059e+43\\u003cbr\\u003eAbsorbed Luminosity: 3.411e+42\",\"\\u003cbr\\u003eEmitted Luminosity: 1.055e+43\\u003cbr\\u003eRequested Luminosity: 1.059e+43\\u003cbr\\u003eAbsorbed Luminosity: 3.411e+42\",\"\\u003cbr\\u003eEmitted Luminosity: 1.055e+43\\u003cbr\\u003eRequested Luminosity: 1.059e+43\\u003cbr\\u003eAbsorbed Luminosity: 3.411e+42\",\"\\u003cbr\\u003eEmitted Luminosity: 1.055e+43\\u003cbr\\u003eRequested Luminosity: 1.059e+43\\u003cbr\\u003eAbsorbed Luminosity: 3.411e+42\",\"\\u003cbr\\u003eEmitted Luminosity: 1.055e+43\\u003cbr\\u003eRequested Luminosity: 1.059e+43\\u003cbr\\u003eAbsorbed Luminosity: 3.411e+42\",\"\\u003cbr\\u003eEmitted Luminosity: 1.055e+43\\u003cbr\\u003eRequested Luminosity: 1.059e+43\\u003cbr\\u003eAbsorbed Luminosity: 3.411e+42\",\"\\u003cbr\\u003eEmitted Luminosity: 1.055e+43\\u003cbr\\u003eRequested Luminosity: 1.059e+43\\u003cbr\\u003eAbsorbed Luminosity: 3.411e+42\",\"\\u003cbr\\u003eEmitted Luminosity: 1.055e+43\\u003cbr\\u003eRequested Luminosity: 1.059e+43\\u003cbr\\u003eAbsorbed Luminosity: 3.411e+42\",\"\\u003cbr\\u003eEmitted Luminosity: 1.055e+43\\u003cbr\\u003eRequested Luminosity: 1.059e+43\\u003cbr\\u003eAbsorbed Luminosity: 3.411e+42\",\"\\u003cbr\\u003eEmitted Luminosity: 1.055e+43\\u003cbr\\u003eRequested Luminosity: 1.059e+43\\u003cbr\\u003eAbsorbed Luminosity: 3.411e+42\",\"\\u003cbr\\u003eEmitted Luminosity: 1.055e+43\\u003cbr\\u003eRequested Luminosity: 1.059e+43\\u003cbr\\u003eAbsorbed Luminosity: 3.411e+42\",\"\\u003cbr\\u003eEmitted Luminosity: 1.055e+43\\u003cbr\\u003eRequested Luminosity: 1.059e+43\\u003cbr\\u003eAbsorbed Luminosity: 3.411e+42\",\"\\u003cbr\\u003eEmitted Luminosity: 1.055e+43\\u003cbr\\u003eRequested Luminosity: 1.059e+43\\u003cbr\\u003eAbsorbed Luminosity: 3.411e+42\",\"\\u003cbr\\u003eEmitted Luminosity: 1.055e+43\\u003cbr\\u003eRequested Luminosity: 1.059e+43\\u003cbr\\u003eAbsorbed Luminosity: 3.411e+42\",\"\\u003cbr\\u003eEmitted Luminosity: 1.055e+43\\u003cbr\\u003eRequested Luminosity: 1.059e+43\\u003cbr\\u003eAbsorbed Luminosity: 3.411e+42\",\"\\u003cbr\\u003eEmitted Luminosity: 1.055e+43\\u003cbr\\u003eRequested Luminosity: 1.059e+43\\u003cbr\\u003eAbsorbed Luminosity: 3.411e+42\",\"\\u003cbr\\u003eEmitted Luminosity: 1.055e+43\\u003cbr\\u003eRequested Luminosity: 1.059e+43\\u003cbr\\u003eAbsorbed Luminosity: 3.411e+42\",\"\\u003cbr\\u003eEmitted Luminosity: 1.055e+43\\u003cbr\\u003eRequested Luminosity: 1.059e+43\\u003cbr\\u003eAbsorbed Luminosity: 3.411e+42\",\"\\u003cbr\\u003eEmitted Luminosity: 1.055e+43\\u003cbr\\u003eRequested Luminosity: 1.059e+43\\u003cbr\\u003eAbsorbed Luminosity: 3.411e+42\"],\"hovertemplate\":\"\\u003cb\\u003eY\\u003c\\u002fb\\u003e: %{y:.3f} at \\u003cb\\u003eX\\u003c\\u002fb\\u003e = %{x:,.0f}%{customdata}\",\"legendgroup\":\"group-15\",\"line\":{\"color\":\"#ffa400\",\"shape\":\"hv\"},\"name\":\"15\",\"x\":[11000.0,11450.000000000002,11900.000000000002,12350.000000000002,12800.000000000002,13250.000000000002,13700.000000000002,14150.000000000002,14600.000000000002,15050.000000000002,15500.000000000002,15950.000000000002,16400.0,16850.0,17300.0,17750.0,18200.0,18650.0,19100.0,19550.0,20000.0],\"y\":[0.48394779340431715,0.359742670760895,0.28766502546731093,0.24168171703894747,0.204874072577158,0.18005548898598062,0.16241342253108135,0.14390709349473435,0.1304282899871243,0.11887157210315882,0.11304863027639933,0.10839428484595584,0.10255514141715288,0.09591644522126823,0.08999011912096945,0.08523844129231085,0.08153307523435371,0.07914333648280952,0.07690658440023676,0.07404150648336255,0.07404150648336255],\"type\":\"scatter\",\"uid\":\"44ad6e9e-7f3c-4cdb-ade4-3f26f9c01e80\",\"xaxis\":\"x2\",\"yaxis\":\"y2\"},{\"customdata\":[\"\\u003cbr\\u003eEmitted Luminosity: 1.058e+43\\u003cbr\\u003eRequested Luminosity: 1.059e+43\\u003cbr\\u003eAbsorbed Luminosity: 3.437e+42\",\"\\u003cbr\\u003eEmitted Luminosity: 1.058e+43\\u003cbr\\u003eRequested Luminosity: 1.059e+43\\u003cbr\\u003eAbsorbed Luminosity: 3.437e+42\",\"\\u003cbr\\u003eEmitted Luminosity: 1.058e+43\\u003cbr\\u003eRequested Luminosity: 1.059e+43\\u003cbr\\u003eAbsorbed Luminosity: 3.437e+42\",\"\\u003cbr\\u003eEmitted Luminosity: 1.058e+43\\u003cbr\\u003eRequested Luminosity: 1.059e+43\\u003cbr\\u003eAbsorbed Luminosity: 3.437e+42\",\"\\u003cbr\\u003eEmitted Luminosity: 1.058e+43\\u003cbr\\u003eRequested Luminosity: 1.059e+43\\u003cbr\\u003eAbsorbed Luminosity: 3.437e+42\",\"\\u003cbr\\u003eEmitted Luminosity: 1.058e+43\\u003cbr\\u003eRequested Luminosity: 1.059e+43\\u003cbr\\u003eAbsorbed Luminosity: 3.437e+42\",\"\\u003cbr\\u003eEmitted Luminosity: 1.058e+43\\u003cbr\\u003eRequested Luminosity: 1.059e+43\\u003cbr\\u003eAbsorbed Luminosity: 3.437e+42\",\"\\u003cbr\\u003eEmitted Luminosity: 1.058e+43\\u003cbr\\u003eRequested Luminosity: 1.059e+43\\u003cbr\\u003eAbsorbed Luminosity: 3.437e+42\",\"\\u003cbr\\u003eEmitted Luminosity: 1.058e+43\\u003cbr\\u003eRequested Luminosity: 1.059e+43\\u003cbr\\u003eAbsorbed Luminosity: 3.437e+42\",\"\\u003cbr\\u003eEmitted Luminosity: 1.058e+43\\u003cbr\\u003eRequested Luminosity: 1.059e+43\\u003cbr\\u003eAbsorbed Luminosity: 3.437e+42\",\"\\u003cbr\\u003eEmitted Luminosity: 1.058e+43\\u003cbr\\u003eRequested Luminosity: 1.059e+43\\u003cbr\\u003eAbsorbed Luminosity: 3.437e+42\",\"\\u003cbr\\u003eEmitted Luminosity: 1.058e+43\\u003cbr\\u003eRequested Luminosity: 1.059e+43\\u003cbr\\u003eAbsorbed Luminosity: 3.437e+42\",\"\\u003cbr\\u003eEmitted Luminosity: 1.058e+43\\u003cbr\\u003eRequested Luminosity: 1.059e+43\\u003cbr\\u003eAbsorbed Luminosity: 3.437e+42\",\"\\u003cbr\\u003eEmitted Luminosity: 1.058e+43\\u003cbr\\u003eRequested Luminosity: 1.059e+43\\u003cbr\\u003eAbsorbed Luminosity: 3.437e+42\",\"\\u003cbr\\u003eEmitted Luminosity: 1.058e+43\\u003cbr\\u003eRequested Luminosity: 1.059e+43\\u003cbr\\u003eAbsorbed Luminosity: 3.437e+42\",\"\\u003cbr\\u003eEmitted Luminosity: 1.058e+43\\u003cbr\\u003eRequested Luminosity: 1.059e+43\\u003cbr\\u003eAbsorbed Luminosity: 3.437e+42\",\"\\u003cbr\\u003eEmitted Luminosity: 1.058e+43\\u003cbr\\u003eRequested Luminosity: 1.059e+43\\u003cbr\\u003eAbsorbed Luminosity: 3.437e+42\",\"\\u003cbr\\u003eEmitted Luminosity: 1.058e+43\\u003cbr\\u003eRequested Luminosity: 1.059e+43\\u003cbr\\u003eAbsorbed Luminosity: 3.437e+42\",\"\\u003cbr\\u003eEmitted Luminosity: 1.058e+43\\u003cbr\\u003eRequested Luminosity: 1.059e+43\\u003cbr\\u003eAbsorbed Luminosity: 3.437e+42\",\"\\u003cbr\\u003eEmitted Luminosity: 1.058e+43\\u003cbr\\u003eRequested Luminosity: 1.059e+43\\u003cbr\\u003eAbsorbed Luminosity: 3.437e+42\",\"\\u003cbr\\u003eEmitted Luminosity: 1.058e+43\\u003cbr\\u003eRequested Luminosity: 1.059e+43\\u003cbr\\u003eAbsorbed Luminosity: 3.437e+42\"],\"hovertemplate\":\"\\u003cb\\u003eY\\u003c\\u002fb\\u003e: %{y:.3f} at \\u003cb\\u003eX\\u003c\\u002fb\\u003e = %{x:,.0f}%{customdata}\",\"legendgroup\":\"group-16\",\"line\":{\"color\":\"#ff7200\",\"shape\":\"hv\"},\"name\":\"16\",\"showlegend\":false,\"x\":[11000.0,11450.000000000002,11900.000000000002,12350.000000000002,12800.000000000002,13250.000000000002,13700.000000000002,14150.000000000002,14600.000000000002,15050.000000000002,15500.000000000002,15950.000000000002,16400.0,16850.0,17300.0,17750.0,18200.0,18650.0,19100.0,19550.0,20000.0],\"y\":[11042.587565531809,11164.46748841482,11264.393883273073,11366.258615403518,11387.263499023244,11375.256379064911,11353.443689023723,11286.554867115748,11179.502812448907,11085.249140419015,11057.595125665124,10976.680029342155,10863.151973082802,10823.64345240729,10811.582431176166,10732.089876006197,10646.898735778414,10562.79314080476,10455.852102674357,10383.79104925641,10383.79104925641],\"type\":\"scatter\",\"uid\":\"9dbacce5-3bbc-4267-b7d5-00a3495dc0f3\",\"xaxis\":\"x\",\"yaxis\":\"y\"},{\"customdata\":[\"\\u003cbr\\u003eEmitted Luminosity: 1.058e+43\\u003cbr\\u003eRequested Luminosity: 1.059e+43\\u003cbr\\u003eAbsorbed Luminosity: 3.437e+42\",\"\\u003cbr\\u003eEmitted Luminosity: 1.058e+43\\u003cbr\\u003eRequested Luminosity: 1.059e+43\\u003cbr\\u003eAbsorbed Luminosity: 3.437e+42\",\"\\u003cbr\\u003eEmitted Luminosity: 1.058e+43\\u003cbr\\u003eRequested Luminosity: 1.059e+43\\u003cbr\\u003eAbsorbed Luminosity: 3.437e+42\",\"\\u003cbr\\u003eEmitted Luminosity: 1.058e+43\\u003cbr\\u003eRequested Luminosity: 1.059e+43\\u003cbr\\u003eAbsorbed Luminosity: 3.437e+42\",\"\\u003cbr\\u003eEmitted Luminosity: 1.058e+43\\u003cbr\\u003eRequested Luminosity: 1.059e+43\\u003cbr\\u003eAbsorbed Luminosity: 3.437e+42\",\"\\u003cbr\\u003eEmitted Luminosity: 1.058e+43\\u003cbr\\u003eRequested Luminosity: 1.059e+43\\u003cbr\\u003eAbsorbed Luminosity: 3.437e+42\",\"\\u003cbr\\u003eEmitted Luminosity: 1.058e+43\\u003cbr\\u003eRequested Luminosity: 1.059e+43\\u003cbr\\u003eAbsorbed Luminosity: 3.437e+42\",\"\\u003cbr\\u003eEmitted Luminosity: 1.058e+43\\u003cbr\\u003eRequested Luminosity: 1.059e+43\\u003cbr\\u003eAbsorbed Luminosity: 3.437e+42\",\"\\u003cbr\\u003eEmitted Luminosity: 1.058e+43\\u003cbr\\u003eRequested Luminosity: 1.059e+43\\u003cbr\\u003eAbsorbed Luminosity: 3.437e+42\",\"\\u003cbr\\u003eEmitted Luminosity: 1.058e+43\\u003cbr\\u003eRequested Luminosity: 1.059e+43\\u003cbr\\u003eAbsorbed Luminosity: 3.437e+42\",\"\\u003cbr\\u003eEmitted Luminosity: 1.058e+43\\u003cbr\\u003eRequested Luminosity: 1.059e+43\\u003cbr\\u003eAbsorbed Luminosity: 3.437e+42\",\"\\u003cbr\\u003eEmitted Luminosity: 1.058e+43\\u003cbr\\u003eRequested Luminosity: 1.059e+43\\u003cbr\\u003eAbsorbed Luminosity: 3.437e+42\",\"\\u003cbr\\u003eEmitted Luminosity: 1.058e+43\\u003cbr\\u003eRequested Luminosity: 1.059e+43\\u003cbr\\u003eAbsorbed Luminosity: 3.437e+42\",\"\\u003cbr\\u003eEmitted Luminosity: 1.058e+43\\u003cbr\\u003eRequested Luminosity: 1.059e+43\\u003cbr\\u003eAbsorbed Luminosity: 3.437e+42\",\"\\u003cbr\\u003eEmitted Luminosity: 1.058e+43\\u003cbr\\u003eRequested Luminosity: 1.059e+43\\u003cbr\\u003eAbsorbed Luminosity: 3.437e+42\",\"\\u003cbr\\u003eEmitted Luminosity: 1.058e+43\\u003cbr\\u003eRequested Luminosity: 1.059e+43\\u003cbr\\u003eAbsorbed Luminosity: 3.437e+42\",\"\\u003cbr\\u003eEmitted Luminosity: 1.058e+43\\u003cbr\\u003eRequested Luminosity: 1.059e+43\\u003cbr\\u003eAbsorbed Luminosity: 3.437e+42\",\"\\u003cbr\\u003eEmitted Luminosity: 1.058e+43\\u003cbr\\u003eRequested Luminosity: 1.059e+43\\u003cbr\\u003eAbsorbed Luminosity: 3.437e+42\",\"\\u003cbr\\u003eEmitted Luminosity: 1.058e+43\\u003cbr\\u003eRequested Luminosity: 1.059e+43\\u003cbr\\u003eAbsorbed Luminosity: 3.437e+42\",\"\\u003cbr\\u003eEmitted Luminosity: 1.058e+43\\u003cbr\\u003eRequested Luminosity: 1.059e+43\\u003cbr\\u003eAbsorbed Luminosity: 3.437e+42\",\"\\u003cbr\\u003eEmitted Luminosity: 1.058e+43\\u003cbr\\u003eRequested Luminosity: 1.059e+43\\u003cbr\\u003eAbsorbed Luminosity: 3.437e+42\"],\"hovertemplate\":\"\\u003cb\\u003eY\\u003c\\u002fb\\u003e: %{y:.3f} at \\u003cb\\u003eX\\u003c\\u002fb\\u003e = %{x:,.0f}%{customdata}\",\"legendgroup\":\"group-16\",\"line\":{\"color\":\"#ff7200\",\"shape\":\"hv\"},\"name\":\"16\",\"x\":[11000.0,11450.000000000002,11900.000000000002,12350.000000000002,12800.000000000002,13250.000000000002,13700.000000000002,14150.000000000002,14600.000000000002,15050.000000000002,15500.000000000002,15950.000000000002,16400.0,16850.0,17300.0,17750.0,18200.0,18650.0,19100.0,19550.0,20000.0],\"y\":[0.47178267254863604,0.3573805258203361,0.2838985746580151,0.2317837770948031,0.19833092944920672,0.1728877209089875,0.153680481889123,0.14015485434107508,0.13009260964243136,0.12138857051064851,0.11196413697885672,0.10504332866378567,0.10007314842765709,0.09387870034106534,0.08760375790804438,0.0832350619211037,0.08003859144969994,0.07693000925069389,0.07472136026279688,0.07196000920894975,0.07196000920894975],\"type\":\"scatter\",\"uid\":\"af48691c-7898-41c9-bfee-49966ac94e02\",\"xaxis\":\"x2\",\"yaxis\":\"y2\"},{\"customdata\":[\"\\u003cbr\\u003eEmitted Luminosity: 1.066e+43\\u003cbr\\u003eRequested Luminosity: 1.059e+43\\u003cbr\\u003eAbsorbed Luminosity: 3.375e+42\",\"\\u003cbr\\u003eEmitted Luminosity: 1.066e+43\\u003cbr\\u003eRequested Luminosity: 1.059e+43\\u003cbr\\u003eAbsorbed Luminosity: 3.375e+42\",\"\\u003cbr\\u003eEmitted Luminosity: 1.066e+43\\u003cbr\\u003eRequested Luminosity: 1.059e+43\\u003cbr\\u003eAbsorbed Luminosity: 3.375e+42\",\"\\u003cbr\\u003eEmitted Luminosity: 1.066e+43\\u003cbr\\u003eRequested Luminosity: 1.059e+43\\u003cbr\\u003eAbsorbed Luminosity: 3.375e+42\",\"\\u003cbr\\u003eEmitted Luminosity: 1.066e+43\\u003cbr\\u003eRequested Luminosity: 1.059e+43\\u003cbr\\u003eAbsorbed Luminosity: 3.375e+42\",\"\\u003cbr\\u003eEmitted Luminosity: 1.066e+43\\u003cbr\\u003eRequested Luminosity: 1.059e+43\\u003cbr\\u003eAbsorbed Luminosity: 3.375e+42\",\"\\u003cbr\\u003eEmitted Luminosity: 1.066e+43\\u003cbr\\u003eRequested Luminosity: 1.059e+43\\u003cbr\\u003eAbsorbed Luminosity: 3.375e+42\",\"\\u003cbr\\u003eEmitted Luminosity: 1.066e+43\\u003cbr\\u003eRequested Luminosity: 1.059e+43\\u003cbr\\u003eAbsorbed Luminosity: 3.375e+42\",\"\\u003cbr\\u003eEmitted Luminosity: 1.066e+43\\u003cbr\\u003eRequested Luminosity: 1.059e+43\\u003cbr\\u003eAbsorbed Luminosity: 3.375e+42\",\"\\u003cbr\\u003eEmitted Luminosity: 1.066e+43\\u003cbr\\u003eRequested Luminosity: 1.059e+43\\u003cbr\\u003eAbsorbed Luminosity: 3.375e+42\",\"\\u003cbr\\u003eEmitted Luminosity: 1.066e+43\\u003cbr\\u003eRequested Luminosity: 1.059e+43\\u003cbr\\u003eAbsorbed Luminosity: 3.375e+42\",\"\\u003cbr\\u003eEmitted Luminosity: 1.066e+43\\u003cbr\\u003eRequested Luminosity: 1.059e+43\\u003cbr\\u003eAbsorbed Luminosity: 3.375e+42\",\"\\u003cbr\\u003eEmitted Luminosity: 1.066e+43\\u003cbr\\u003eRequested Luminosity: 1.059e+43\\u003cbr\\u003eAbsorbed Luminosity: 3.375e+42\",\"\\u003cbr\\u003eEmitted Luminosity: 1.066e+43\\u003cbr\\u003eRequested Luminosity: 1.059e+43\\u003cbr\\u003eAbsorbed Luminosity: 3.375e+42\",\"\\u003cbr\\u003eEmitted Luminosity: 1.066e+43\\u003cbr\\u003eRequested Luminosity: 1.059e+43\\u003cbr\\u003eAbsorbed Luminosity: 3.375e+42\",\"\\u003cbr\\u003eEmitted Luminosity: 1.066e+43\\u003cbr\\u003eRequested Luminosity: 1.059e+43\\u003cbr\\u003eAbsorbed Luminosity: 3.375e+42\",\"\\u003cbr\\u003eEmitted Luminosity: 1.066e+43\\u003cbr\\u003eRequested Luminosity: 1.059e+43\\u003cbr\\u003eAbsorbed Luminosity: 3.375e+42\",\"\\u003cbr\\u003eEmitted Luminosity: 1.066e+43\\u003cbr\\u003eRequested Luminosity: 1.059e+43\\u003cbr\\u003eAbsorbed Luminosity: 3.375e+42\",\"\\u003cbr\\u003eEmitted Luminosity: 1.066e+43\\u003cbr\\u003eRequested Luminosity: 1.059e+43\\u003cbr\\u003eAbsorbed Luminosity: 3.375e+42\",\"\\u003cbr\\u003eEmitted Luminosity: 1.066e+43\\u003cbr\\u003eRequested Luminosity: 1.059e+43\\u003cbr\\u003eAbsorbed Luminosity: 3.375e+42\",\"\\u003cbr\\u003eEmitted Luminosity: 1.066e+43\\u003cbr\\u003eRequested Luminosity: 1.059e+43\\u003cbr\\u003eAbsorbed Luminosity: 3.375e+42\"],\"hovertemplate\":\"\\u003cb\\u003eY\\u003c\\u002fb\\u003e: %{y:.3f} at \\u003cb\\u003eX\\u003c\\u002fb\\u003e = %{x:,.0f}%{customdata}\",\"legendgroup\":\"group-17\",\"line\":{\"color\":\"#ff4000\",\"shape\":\"hv\"},\"name\":\"17\",\"showlegend\":false,\"x\":[11000.0,11450.000000000002,11900.000000000002,12350.000000000002,12800.000000000002,13250.000000000002,13700.000000000002,14150.000000000002,14600.000000000002,15050.000000000002,15500.000000000002,15950.000000000002,16400.0,16850.0,17300.0,17750.0,18200.0,18650.0,19100.0,19550.0,20000.0],\"y\":[11075.308461179786,11283.640052824447,11296.655434172126,11370.402585407888,11383.975875983126,11439.649947363232,11414.516188735892,11376.931408953746,11327.105965581091,11267.790151177041,11185.093739132215,11112.306461033231,11011.696804808684,11000.337021255926,10954.031423220407,10828.748565062215,10726.893519163901,10593.908325366778,10546.570075816708,10430.350824961013,10430.350824961013],\"type\":\"scatter\",\"uid\":\"e684a3e8-111b-45e3-80f8-436c12914823\",\"xaxis\":\"x\",\"yaxis\":\"y\"},{\"customdata\":[\"\\u003cbr\\u003eEmitted Luminosity: 1.066e+43\\u003cbr\\u003eRequested Luminosity: 1.059e+43\\u003cbr\\u003eAbsorbed Luminosity: 3.375e+42\",\"\\u003cbr\\u003eEmitted Luminosity: 1.066e+43\\u003cbr\\u003eRequested Luminosity: 1.059e+43\\u003cbr\\u003eAbsorbed Luminosity: 3.375e+42\",\"\\u003cbr\\u003eEmitted Luminosity: 1.066e+43\\u003cbr\\u003eRequested Luminosity: 1.059e+43\\u003cbr\\u003eAbsorbed Luminosity: 3.375e+42\",\"\\u003cbr\\u003eEmitted Luminosity: 1.066e+43\\u003cbr\\u003eRequested Luminosity: 1.059e+43\\u003cbr\\u003eAbsorbed Luminosity: 3.375e+42\",\"\\u003cbr\\u003eEmitted Luminosity: 1.066e+43\\u003cbr\\u003eRequested Luminosity: 1.059e+43\\u003cbr\\u003eAbsorbed Luminosity: 3.375e+42\",\"\\u003cbr\\u003eEmitted Luminosity: 1.066e+43\\u003cbr\\u003eRequested Luminosity: 1.059e+43\\u003cbr\\u003eAbsorbed Luminosity: 3.375e+42\",\"\\u003cbr\\u003eEmitted Luminosity: 1.066e+43\\u003cbr\\u003eRequested Luminosity: 1.059e+43\\u003cbr\\u003eAbsorbed Luminosity: 3.375e+42\",\"\\u003cbr\\u003eEmitted Luminosity: 1.066e+43\\u003cbr\\u003eRequested Luminosity: 1.059e+43\\u003cbr\\u003eAbsorbed Luminosity: 3.375e+42\",\"\\u003cbr\\u003eEmitted Luminosity: 1.066e+43\\u003cbr\\u003eRequested Luminosity: 1.059e+43\\u003cbr\\u003eAbsorbed Luminosity: 3.375e+42\",\"\\u003cbr\\u003eEmitted Luminosity: 1.066e+43\\u003cbr\\u003eRequested Luminosity: 1.059e+43\\u003cbr\\u003eAbsorbed Luminosity: 3.375e+42\",\"\\u003cbr\\u003eEmitted Luminosity: 1.066e+43\\u003cbr\\u003eRequested Luminosity: 1.059e+43\\u003cbr\\u003eAbsorbed Luminosity: 3.375e+42\",\"\\u003cbr\\u003eEmitted Luminosity: 1.066e+43\\u003cbr\\u003eRequested Luminosity: 1.059e+43\\u003cbr\\u003eAbsorbed Luminosity: 3.375e+42\",\"\\u003cbr\\u003eEmitted Luminosity: 1.066e+43\\u003cbr\\u003eRequested Luminosity: 1.059e+43\\u003cbr\\u003eAbsorbed Luminosity: 3.375e+42\",\"\\u003cbr\\u003eEmitted Luminosity: 1.066e+43\\u003cbr\\u003eRequested Luminosity: 1.059e+43\\u003cbr\\u003eAbsorbed Luminosity: 3.375e+42\",\"\\u003cbr\\u003eEmitted Luminosity: 1.066e+43\\u003cbr\\u003eRequested Luminosity: 1.059e+43\\u003cbr\\u003eAbsorbed Luminosity: 3.375e+42\",\"\\u003cbr\\u003eEmitted Luminosity: 1.066e+43\\u003cbr\\u003eRequested Luminosity: 1.059e+43\\u003cbr\\u003eAbsorbed Luminosity: 3.375e+42\",\"\\u003cbr\\u003eEmitted Luminosity: 1.066e+43\\u003cbr\\u003eRequested Luminosity: 1.059e+43\\u003cbr\\u003eAbsorbed Luminosity: 3.375e+42\",\"\\u003cbr\\u003eEmitted Luminosity: 1.066e+43\\u003cbr\\u003eRequested Luminosity: 1.059e+43\\u003cbr\\u003eAbsorbed Luminosity: 3.375e+42\",\"\\u003cbr\\u003eEmitted Luminosity: 1.066e+43\\u003cbr\\u003eRequested Luminosity: 1.059e+43\\u003cbr\\u003eAbsorbed Luminosity: 3.375e+42\",\"\\u003cbr\\u003eEmitted Luminosity: 1.066e+43\\u003cbr\\u003eRequested Luminosity: 1.059e+43\\u003cbr\\u003eAbsorbed Luminosity: 3.375e+42\",\"\\u003cbr\\u003eEmitted Luminosity: 1.066e+43\\u003cbr\\u003eRequested Luminosity: 1.059e+43\\u003cbr\\u003eAbsorbed Luminosity: 3.375e+42\"],\"hovertemplate\":\"\\u003cb\\u003eY\\u003c\\u002fb\\u003e: %{y:.3f} at \\u003cb\\u003eX\\u003c\\u002fb\\u003e = %{x:,.0f}%{customdata}\",\"legendgroup\":\"group-17\",\"line\":{\"color\":\"#ff4000\",\"shape\":\"hv\"},\"name\":\"17\",\"x\":[11000.0,11450.000000000002,11900.000000000002,12350.000000000002,12800.000000000002,13250.000000000002,13700.000000000002,14150.000000000002,14600.000000000002,15050.000000000002,15500.000000000002,15950.000000000002,16400.0,16850.0,17300.0,17750.0,18200.0,18650.0,19100.0,19550.0,20000.0],\"y\":[0.4648426530643653,0.3412686679083199,0.2808761171639863,0.23277003630256782,0.19955925419220966,0.17104281716204006,0.15188254658061745,0.13747056063596969,0.12510532090184304,0.11538350353321282,0.10787992982665003,0.10103249692107438,0.09602271329107458,0.08892388282213978,0.08370109934788085,0.08128407092344976,0.07833841233403596,0.07637630707177993,0.07282462514207477,0.07117507367509357,0.07117507367509357],\"type\":\"scatter\",\"uid\":\"35d2cabe-d2cb-481c-aa9f-b29c4a349124\",\"xaxis\":\"x2\",\"yaxis\":\"y2\"},{\"customdata\":[\"\\u003cbr\\u003eEmitted Luminosity: 1.059e+43\\u003cbr\\u003eRequested Luminosity: 1.059e+43\\u003cbr\\u003eAbsorbed Luminosity: 3.354e+42\",\"\\u003cbr\\u003eEmitted Luminosity: 1.059e+43\\u003cbr\\u003eRequested Luminosity: 1.059e+43\\u003cbr\\u003eAbsorbed Luminosity: 3.354e+42\",\"\\u003cbr\\u003eEmitted Luminosity: 1.059e+43\\u003cbr\\u003eRequested Luminosity: 1.059e+43\\u003cbr\\u003eAbsorbed Luminosity: 3.354e+42\",\"\\u003cbr\\u003eEmitted Luminosity: 1.059e+43\\u003cbr\\u003eRequested Luminosity: 1.059e+43\\u003cbr\\u003eAbsorbed Luminosity: 3.354e+42\",\"\\u003cbr\\u003eEmitted Luminosity: 1.059e+43\\u003cbr\\u003eRequested Luminosity: 1.059e+43\\u003cbr\\u003eAbsorbed Luminosity: 3.354e+42\",\"\\u003cbr\\u003eEmitted Luminosity: 1.059e+43\\u003cbr\\u003eRequested Luminosity: 1.059e+43\\u003cbr\\u003eAbsorbed Luminosity: 3.354e+42\",\"\\u003cbr\\u003eEmitted Luminosity: 1.059e+43\\u003cbr\\u003eRequested Luminosity: 1.059e+43\\u003cbr\\u003eAbsorbed Luminosity: 3.354e+42\",\"\\u003cbr\\u003eEmitted Luminosity: 1.059e+43\\u003cbr\\u003eRequested Luminosity: 1.059e+43\\u003cbr\\u003eAbsorbed Luminosity: 3.354e+42\",\"\\u003cbr\\u003eEmitted Luminosity: 1.059e+43\\u003cbr\\u003eRequested Luminosity: 1.059e+43\\u003cbr\\u003eAbsorbed Luminosity: 3.354e+42\",\"\\u003cbr\\u003eEmitted Luminosity: 1.059e+43\\u003cbr\\u003eRequested Luminosity: 1.059e+43\\u003cbr\\u003eAbsorbed Luminosity: 3.354e+42\",\"\\u003cbr\\u003eEmitted Luminosity: 1.059e+43\\u003cbr\\u003eRequested Luminosity: 1.059e+43\\u003cbr\\u003eAbsorbed Luminosity: 3.354e+42\",\"\\u003cbr\\u003eEmitted Luminosity: 1.059e+43\\u003cbr\\u003eRequested Luminosity: 1.059e+43\\u003cbr\\u003eAbsorbed Luminosity: 3.354e+42\",\"\\u003cbr\\u003eEmitted Luminosity: 1.059e+43\\u003cbr\\u003eRequested Luminosity: 1.059e+43\\u003cbr\\u003eAbsorbed Luminosity: 3.354e+42\",\"\\u003cbr\\u003eEmitted Luminosity: 1.059e+43\\u003cbr\\u003eRequested Luminosity: 1.059e+43\\u003cbr\\u003eAbsorbed Luminosity: 3.354e+42\",\"\\u003cbr\\u003eEmitted Luminosity: 1.059e+43\\u003cbr\\u003eRequested Luminosity: 1.059e+43\\u003cbr\\u003eAbsorbed Luminosity: 3.354e+42\",\"\\u003cbr\\u003eEmitted Luminosity: 1.059e+43\\u003cbr\\u003eRequested Luminosity: 1.059e+43\\u003cbr\\u003eAbsorbed Luminosity: 3.354e+42\",\"\\u003cbr\\u003eEmitted Luminosity: 1.059e+43\\u003cbr\\u003eRequested Luminosity: 1.059e+43\\u003cbr\\u003eAbsorbed Luminosity: 3.354e+42\",\"\\u003cbr\\u003eEmitted Luminosity: 1.059e+43\\u003cbr\\u003eRequested Luminosity: 1.059e+43\\u003cbr\\u003eAbsorbed Luminosity: 3.354e+42\",\"\\u003cbr\\u003eEmitted Luminosity: 1.059e+43\\u003cbr\\u003eRequested Luminosity: 1.059e+43\\u003cbr\\u003eAbsorbed Luminosity: 3.354e+42\",\"\\u003cbr\\u003eEmitted Luminosity: 1.059e+43\\u003cbr\\u003eRequested Luminosity: 1.059e+43\\u003cbr\\u003eAbsorbed Luminosity: 3.354e+42\",\"\\u003cbr\\u003eEmitted Luminosity: 1.059e+43\\u003cbr\\u003eRequested Luminosity: 1.059e+43\\u003cbr\\u003eAbsorbed Luminosity: 3.354e+42\"],\"hovertemplate\":\"\\u003cb\\u003eY\\u003c\\u002fb\\u003e: %{y:.3f} at \\u003cb\\u003eX\\u003c\\u002fb\\u003e = %{x:,.0f}%{customdata}\",\"legendgroup\":\"group-18\",\"line\":{\"color\":\"#fa0e00\",\"shape\":\"hv\"},\"name\":\"18\",\"showlegend\":false,\"x\":[11000.0,11450.000000000002,11900.000000000002,12350.000000000002,12800.000000000002,13250.000000000002,13700.000000000002,14150.000000000002,14600.000000000002,15050.000000000002,15500.000000000002,15950.000000000002,16400.0,16850.0,17300.0,17750.0,18200.0,18650.0,19100.0,19550.0,20000.0],\"y\":[11074.427342485227,11183.095028618813,11279.670581179422,11363.959933068869,11343.675813408989,11383.872996463862,11325.9231654177,11326.82332657673,11259.94961823309,11161.434038338168,11104.670335758006,11090.10047884845,10999.307578349079,10897.133971723853,10802.707600864887,10681.933252720331,10643.34447137983,10565.220995126014,10485.201501833562,10351.80563890591,10351.80563890591],\"type\":\"scatter\",\"uid\":\"067a1301-aad7-49e1-bdae-aba11362913d\",\"xaxis\":\"x\",\"yaxis\":\"y\"},{\"customdata\":[\"\\u003cbr\\u003eEmitted Luminosity: 1.059e+43\\u003cbr\\u003eRequested Luminosity: 1.059e+43\\u003cbr\\u003eAbsorbed Luminosity: 3.354e+42\",\"\\u003cbr\\u003eEmitted Luminosity: 1.059e+43\\u003cbr\\u003eRequested Luminosity: 1.059e+43\\u003cbr\\u003eAbsorbed Luminosity: 3.354e+42\",\"\\u003cbr\\u003eEmitted Luminosity: 1.059e+43\\u003cbr\\u003eRequested Luminosity: 1.059e+43\\u003cbr\\u003eAbsorbed Luminosity: 3.354e+42\",\"\\u003cbr\\u003eEmitted Luminosity: 1.059e+43\\u003cbr\\u003eRequested Luminosity: 1.059e+43\\u003cbr\\u003eAbsorbed Luminosity: 3.354e+42\",\"\\u003cbr\\u003eEmitted Luminosity: 1.059e+43\\u003cbr\\u003eRequested Luminosity: 1.059e+43\\u003cbr\\u003eAbsorbed Luminosity: 3.354e+42\",\"\\u003cbr\\u003eEmitted Luminosity: 1.059e+43\\u003cbr\\u003eRequested Luminosity: 1.059e+43\\u003cbr\\u003eAbsorbed Luminosity: 3.354e+42\",\"\\u003cbr\\u003eEmitted Luminosity: 1.059e+43\\u003cbr\\u003eRequested Luminosity: 1.059e+43\\u003cbr\\u003eAbsorbed Luminosity: 3.354e+42\",\"\\u003cbr\\u003eEmitted Luminosity: 1.059e+43\\u003cbr\\u003eRequested Luminosity: 1.059e+43\\u003cbr\\u003eAbsorbed Luminosity: 3.354e+42\",\"\\u003cbr\\u003eEmitted Luminosity: 1.059e+43\\u003cbr\\u003eRequested Luminosity: 1.059e+43\\u003cbr\\u003eAbsorbed Luminosity: 3.354e+42\",\"\\u003cbr\\u003eEmitted Luminosity: 1.059e+43\\u003cbr\\u003eRequested Luminosity: 1.059e+43\\u003cbr\\u003eAbsorbed Luminosity: 3.354e+42\",\"\\u003cbr\\u003eEmitted Luminosity: 1.059e+43\\u003cbr\\u003eRequested Luminosity: 1.059e+43\\u003cbr\\u003eAbsorbed Luminosity: 3.354e+42\",\"\\u003cbr\\u003eEmitted Luminosity: 1.059e+43\\u003cbr\\u003eRequested Luminosity: 1.059e+43\\u003cbr\\u003eAbsorbed Luminosity: 3.354e+42\",\"\\u003cbr\\u003eEmitted Luminosity: 1.059e+43\\u003cbr\\u003eRequested Luminosity: 1.059e+43\\u003cbr\\u003eAbsorbed Luminosity: 3.354e+42\",\"\\u003cbr\\u003eEmitted Luminosity: 1.059e+43\\u003cbr\\u003eRequested Luminosity: 1.059e+43\\u003cbr\\u003eAbsorbed Luminosity: 3.354e+42\",\"\\u003cbr\\u003eEmitted Luminosity: 1.059e+43\\u003cbr\\u003eRequested Luminosity: 1.059e+43\\u003cbr\\u003eAbsorbed Luminosity: 3.354e+42\",\"\\u003cbr\\u003eEmitted Luminosity: 1.059e+43\\u003cbr\\u003eRequested Luminosity: 1.059e+43\\u003cbr\\u003eAbsorbed Luminosity: 3.354e+42\",\"\\u003cbr\\u003eEmitted Luminosity: 1.059e+43\\u003cbr\\u003eRequested Luminosity: 1.059e+43\\u003cbr\\u003eAbsorbed Luminosity: 3.354e+42\",\"\\u003cbr\\u003eEmitted Luminosity: 1.059e+43\\u003cbr\\u003eRequested Luminosity: 1.059e+43\\u003cbr\\u003eAbsorbed Luminosity: 3.354e+42\",\"\\u003cbr\\u003eEmitted Luminosity: 1.059e+43\\u003cbr\\u003eRequested Luminosity: 1.059e+43\\u003cbr\\u003eAbsorbed Luminosity: 3.354e+42\",\"\\u003cbr\\u003eEmitted Luminosity: 1.059e+43\\u003cbr\\u003eRequested Luminosity: 1.059e+43\\u003cbr\\u003eAbsorbed Luminosity: 3.354e+42\",\"\\u003cbr\\u003eEmitted Luminosity: 1.059e+43\\u003cbr\\u003eRequested Luminosity: 1.059e+43\\u003cbr\\u003eAbsorbed Luminosity: 3.354e+42\"],\"hovertemplate\":\"\\u003cb\\u003eY\\u003c\\u002fb\\u003e: %{y:.3f} at \\u003cb\\u003eX\\u003c\\u002fb\\u003e = %{x:,.0f}%{customdata}\",\"legendgroup\":\"group-18\",\"line\":{\"color\":\"#fa0e00\",\"shape\":\"hv\"},\"name\":\"18\",\"x\":[11000.0,11450.000000000002,11900.000000000002,12350.000000000002,12800.000000000002,13250.000000000002,13700.000000000002,14150.000000000002,14600.000000000002,15050.000000000002,15500.000000000002,15950.000000000002,16400.0,16850.0,17300.0,17750.0,18200.0,18650.0,19100.0,19550.0,20000.0],\"y\":[0.46302075634241596,0.3529668617083152,0.2814399901711002,0.2328578445336108,0.2026036250318385,0.17442528633868648,0.1572723539285254,0.13994499419100023,0.12897388224737988,0.11966803807059205,0.11045689231941888,0.10213209920552906,0.0961834325316096,0.09145427775930871,0.08759017216618799,0.08443291739211353,0.08033729135071636,0.07710211047786664,0.07408931907975637,0.07300943596240084,0.07300943596240084],\"type\":\"scatter\",\"uid\":\"68b30f5f-f4f3-4146-b0ba-d5e12f266eb2\",\"xaxis\":\"x2\",\"yaxis\":\"y2\"},{\"customdata\":[\"\\u003cbr\\u003eEmitted Luminosity: 1.054e+43\\u003cbr\\u003eRequested Luminosity: 1.059e+43\\u003cbr\\u003eAbsorbed Luminosity: 3.403e+42\",\"\\u003cbr\\u003eEmitted Luminosity: 1.054e+43\\u003cbr\\u003eRequested Luminosity: 1.059e+43\\u003cbr\\u003eAbsorbed Luminosity: 3.403e+42\",\"\\u003cbr\\u003eEmitted Luminosity: 1.054e+43\\u003cbr\\u003eRequested Luminosity: 1.059e+43\\u003cbr\\u003eAbsorbed Luminosity: 3.403e+42\",\"\\u003cbr\\u003eEmitted Luminosity: 1.054e+43\\u003cbr\\u003eRequested Luminosity: 1.059e+43\\u003cbr\\u003eAbsorbed Luminosity: 3.403e+42\",\"\\u003cbr\\u003eEmitted Luminosity: 1.054e+43\\u003cbr\\u003eRequested Luminosity: 1.059e+43\\u003cbr\\u003eAbsorbed Luminosity: 3.403e+42\",\"\\u003cbr\\u003eEmitted Luminosity: 1.054e+43\\u003cbr\\u003eRequested Luminosity: 1.059e+43\\u003cbr\\u003eAbsorbed Luminosity: 3.403e+42\",\"\\u003cbr\\u003eEmitted Luminosity: 1.054e+43\\u003cbr\\u003eRequested Luminosity: 1.059e+43\\u003cbr\\u003eAbsorbed Luminosity: 3.403e+42\",\"\\u003cbr\\u003eEmitted Luminosity: 1.054e+43\\u003cbr\\u003eRequested Luminosity: 1.059e+43\\u003cbr\\u003eAbsorbed Luminosity: 3.403e+42\",\"\\u003cbr\\u003eEmitted Luminosity: 1.054e+43\\u003cbr\\u003eRequested Luminosity: 1.059e+43\\u003cbr\\u003eAbsorbed Luminosity: 3.403e+42\",\"\\u003cbr\\u003eEmitted Luminosity: 1.054e+43\\u003cbr\\u003eRequested Luminosity: 1.059e+43\\u003cbr\\u003eAbsorbed Luminosity: 3.403e+42\",\"\\u003cbr\\u003eEmitted Luminosity: 1.054e+43\\u003cbr\\u003eRequested Luminosity: 1.059e+43\\u003cbr\\u003eAbsorbed Luminosity: 3.403e+42\",\"\\u003cbr\\u003eEmitted Luminosity: 1.054e+43\\u003cbr\\u003eRequested Luminosity: 1.059e+43\\u003cbr\\u003eAbsorbed Luminosity: 3.403e+42\",\"\\u003cbr\\u003eEmitted Luminosity: 1.054e+43\\u003cbr\\u003eRequested Luminosity: 1.059e+43\\u003cbr\\u003eAbsorbed Luminosity: 3.403e+42\",\"\\u003cbr\\u003eEmitted Luminosity: 1.054e+43\\u003cbr\\u003eRequested Luminosity: 1.059e+43\\u003cbr\\u003eAbsorbed Luminosity: 3.403e+42\",\"\\u003cbr\\u003eEmitted Luminosity: 1.054e+43\\u003cbr\\u003eRequested Luminosity: 1.059e+43\\u003cbr\\u003eAbsorbed Luminosity: 3.403e+42\",\"\\u003cbr\\u003eEmitted Luminosity: 1.054e+43\\u003cbr\\u003eRequested Luminosity: 1.059e+43\\u003cbr\\u003eAbsorbed Luminosity: 3.403e+42\",\"\\u003cbr\\u003eEmitted Luminosity: 1.054e+43\\u003cbr\\u003eRequested Luminosity: 1.059e+43\\u003cbr\\u003eAbsorbed Luminosity: 3.403e+42\",\"\\u003cbr\\u003eEmitted Luminosity: 1.054e+43\\u003cbr\\u003eRequested Luminosity: 1.059e+43\\u003cbr\\u003eAbsorbed Luminosity: 3.403e+42\",\"\\u003cbr\\u003eEmitted Luminosity: 1.054e+43\\u003cbr\\u003eRequested Luminosity: 1.059e+43\\u003cbr\\u003eAbsorbed Luminosity: 3.403e+42\",\"\\u003cbr\\u003eEmitted Luminosity: 1.054e+43\\u003cbr\\u003eRequested Luminosity: 1.059e+43\\u003cbr\\u003eAbsorbed Luminosity: 3.403e+42\",\"\\u003cbr\\u003eEmitted Luminosity: 1.054e+43\\u003cbr\\u003eRequested Luminosity: 1.059e+43\\u003cbr\\u003eAbsorbed Luminosity: 3.403e+42\"],\"hovertemplate\":\"\\u003cb\\u003eY\\u003c\\u002fb\\u003e: %{y:.3f} at \\u003cb\\u003eX\\u003c\\u002fb\\u003e = %{x:,.0f}%{customdata}\",\"legendgroup\":\"group-19\",\"line\":{\"color\":\"#bd0000\",\"shape\":\"hv\"},\"name\":\"19\",\"showlegend\":false,\"x\":[11000.0,11450.000000000002,11900.000000000002,12350.000000000002,12800.000000000002,13250.000000000002,13700.000000000002,14150.000000000002,14600.000000000002,15050.000000000002,15500.000000000002,15950.000000000002,16400.0,16850.0,17300.0,17750.0,18200.0,18650.0,19100.0,19550.0,20000.0],\"y\":[11083.753819814385,11175.173376237919,11285.09854706256,11393.288341286247,11352.339794964153,11384.095699301812,11341.761529297917,11306.581830341138,11268.113788790071,11182.105393516445,11121.166737110592,11049.36023508147,10964.579659488196,10892.023072113725,10797.59510824633,10695.839729763977,10591.48932813335,10536.997382021826,10457.030441889163,10355.979087458005,10355.979087458005],\"type\":\"scatter\",\"uid\":\"2fa638a7-cf3f-493c-b1df-7b69952302b5\",\"xaxis\":\"x\",\"yaxis\":\"y\"},{\"customdata\":[\"\\u003cbr\\u003eEmitted Luminosity: 1.054e+43\\u003cbr\\u003eRequested Luminosity: 1.059e+43\\u003cbr\\u003eAbsorbed Luminosity: 3.403e+42\",\"\\u003cbr\\u003eEmitted Luminosity: 1.054e+43\\u003cbr\\u003eRequested Luminosity: 1.059e+43\\u003cbr\\u003eAbsorbed Luminosity: 3.403e+42\",\"\\u003cbr\\u003eEmitted Luminosity: 1.054e+43\\u003cbr\\u003eRequested Luminosity: 1.059e+43\\u003cbr\\u003eAbsorbed Luminosity: 3.403e+42\",\"\\u003cbr\\u003eEmitted Luminosity: 1.054e+43\\u003cbr\\u003eRequested Luminosity: 1.059e+43\\u003cbr\\u003eAbsorbed Luminosity: 3.403e+42\",\"\\u003cbr\\u003eEmitted Luminosity: 1.054e+43\\u003cbr\\u003eRequested Luminosity: 1.059e+43\\u003cbr\\u003eAbsorbed Luminosity: 3.403e+42\",\"\\u003cbr\\u003eEmitted Luminosity: 1.054e+43\\u003cbr\\u003eRequested Luminosity: 1.059e+43\\u003cbr\\u003eAbsorbed Luminosity: 3.403e+42\",\"\\u003cbr\\u003eEmitted Luminosity: 1.054e+43\\u003cbr\\u003eRequested Luminosity: 1.059e+43\\u003cbr\\u003eAbsorbed Luminosity: 3.403e+42\",\"\\u003cbr\\u003eEmitted Luminosity: 1.054e+43\\u003cbr\\u003eRequested Luminosity: 1.059e+43\\u003cbr\\u003eAbsorbed Luminosity: 3.403e+42\",\"\\u003cbr\\u003eEmitted Luminosity: 1.054e+43\\u003cbr\\u003eRequested Luminosity: 1.059e+43\\u003cbr\\u003eAbsorbed Luminosity: 3.403e+42\",\"\\u003cbr\\u003eEmitted Luminosity: 1.054e+43\\u003cbr\\u003eRequested Luminosity: 1.059e+43\\u003cbr\\u003eAbsorbed Luminosity: 3.403e+42\",\"\\u003cbr\\u003eEmitted Luminosity: 1.054e+43\\u003cbr\\u003eRequested Luminosity: 1.059e+43\\u003cbr\\u003eAbsorbed Luminosity: 3.403e+42\",\"\\u003cbr\\u003eEmitted Luminosity: 1.054e+43\\u003cbr\\u003eRequested Luminosity: 1.059e+43\\u003cbr\\u003eAbsorbed Luminosity: 3.403e+42\",\"\\u003cbr\\u003eEmitted Luminosity: 1.054e+43\\u003cbr\\u003eRequested Luminosity: 1.059e+43\\u003cbr\\u003eAbsorbed Luminosity: 3.403e+42\",\"\\u003cbr\\u003eEmitted Luminosity: 1.054e+43\\u003cbr\\u003eRequested Luminosity: 1.059e+43\\u003cbr\\u003eAbsorbed Luminosity: 3.403e+42\",\"\\u003cbr\\u003eEmitted Luminosity: 1.054e+43\\u003cbr\\u003eRequested Luminosity: 1.059e+43\\u003cbr\\u003eAbsorbed Luminosity: 3.403e+42\",\"\\u003cbr\\u003eEmitted Luminosity: 1.054e+43\\u003cbr\\u003eRequested Luminosity: 1.059e+43\\u003cbr\\u003eAbsorbed Luminosity: 3.403e+42\",\"\\u003cbr\\u003eEmitted Luminosity: 1.054e+43\\u003cbr\\u003eRequested Luminosity: 1.059e+43\\u003cbr\\u003eAbsorbed Luminosity: 3.403e+42\",\"\\u003cbr\\u003eEmitted Luminosity: 1.054e+43\\u003cbr\\u003eRequested Luminosity: 1.059e+43\\u003cbr\\u003eAbsorbed Luminosity: 3.403e+42\",\"\\u003cbr\\u003eEmitted Luminosity: 1.054e+43\\u003cbr\\u003eRequested Luminosity: 1.059e+43\\u003cbr\\u003eAbsorbed Luminosity: 3.403e+42\",\"\\u003cbr\\u003eEmitted Luminosity: 1.054e+43\\u003cbr\\u003eRequested Luminosity: 1.059e+43\\u003cbr\\u003eAbsorbed Luminosity: 3.403e+42\",\"\\u003cbr\\u003eEmitted Luminosity: 1.054e+43\\u003cbr\\u003eRequested Luminosity: 1.059e+43\\u003cbr\\u003eAbsorbed Luminosity: 3.403e+42\"],\"hovertemplate\":\"\\u003cb\\u003eY\\u003c\\u002fb\\u003e: %{y:.3f} at \\u003cb\\u003eX\\u003c\\u002fb\\u003e = %{x:,.0f}%{customdata}\",\"legendgroup\":\"group-19\",\"line\":{\"color\":\"#bd0000\",\"shape\":\"hv\"},\"name\":\"19\",\"x\":[11000.0,11450.000000000002,11900.000000000002,12350.000000000002,12800.000000000002,13250.000000000002,13700.000000000002,14150.000000000002,14600.000000000002,15050.000000000002,15500.000000000002,15950.000000000002,16400.0,16850.0,17300.0,17750.0,18200.0,18650.0,19100.0,19550.0,20000.0],\"y\":[0.46468128930472224,0.3591698034353729,0.28443782884599905,0.23005690716721414,0.20028674009976133,0.17344722693632603,0.15518146278317313,0.1401773870027914,0.12739803002646677,0.11767872029805061,0.1094191459682815,0.10293185131071592,0.097399477627836,0.09193148351482645,0.08766981745434764,0.08391338492036354,0.08120464909798311,0.07771529772315164,0.07477147453130936,0.07244055626150628,0.07244055626150628],\"type\":\"scatter\",\"uid\":\"9d95d3c0-074e-4d67-9b28-7d64e3ec1cf5\",\"xaxis\":\"x2\",\"yaxis\":\"y2\"},{\"customdata\":[\"\\u003cbr\\u003eEmitted Luminosity: 1.061e+43\\u003cbr\\u003eRequested Luminosity: 1.059e+43\\u003cbr\\u003eAbsorbed Luminosity: 3.4e+42\",\"\\u003cbr\\u003eEmitted Luminosity: 1.061e+43\\u003cbr\\u003eRequested Luminosity: 1.059e+43\\u003cbr\\u003eAbsorbed Luminosity: 3.4e+42\",\"\\u003cbr\\u003eEmitted Luminosity: 1.061e+43\\u003cbr\\u003eRequested Luminosity: 1.059e+43\\u003cbr\\u003eAbsorbed Luminosity: 3.4e+42\",\"\\u003cbr\\u003eEmitted Luminosity: 1.061e+43\\u003cbr\\u003eRequested Luminosity: 1.059e+43\\u003cbr\\u003eAbsorbed Luminosity: 3.4e+42\",\"\\u003cbr\\u003eEmitted Luminosity: 1.061e+43\\u003cbr\\u003eRequested Luminosity: 1.059e+43\\u003cbr\\u003eAbsorbed Luminosity: 3.4e+42\",\"\\u003cbr\\u003eEmitted Luminosity: 1.061e+43\\u003cbr\\u003eRequested Luminosity: 1.059e+43\\u003cbr\\u003eAbsorbed Luminosity: 3.4e+42\",\"\\u003cbr\\u003eEmitted Luminosity: 1.061e+43\\u003cbr\\u003eRequested Luminosity: 1.059e+43\\u003cbr\\u003eAbsorbed Luminosity: 3.4e+42\",\"\\u003cbr\\u003eEmitted Luminosity: 1.061e+43\\u003cbr\\u003eRequested Luminosity: 1.059e+43\\u003cbr\\u003eAbsorbed Luminosity: 3.4e+42\",\"\\u003cbr\\u003eEmitted Luminosity: 1.061e+43\\u003cbr\\u003eRequested Luminosity: 1.059e+43\\u003cbr\\u003eAbsorbed Luminosity: 3.4e+42\",\"\\u003cbr\\u003eEmitted Luminosity: 1.061e+43\\u003cbr\\u003eRequested Luminosity: 1.059e+43\\u003cbr\\u003eAbsorbed Luminosity: 3.4e+42\",\"\\u003cbr\\u003eEmitted Luminosity: 1.061e+43\\u003cbr\\u003eRequested Luminosity: 1.059e+43\\u003cbr\\u003eAbsorbed Luminosity: 3.4e+42\",\"\\u003cbr\\u003eEmitted Luminosity: 1.061e+43\\u003cbr\\u003eRequested Luminosity: 1.059e+43\\u003cbr\\u003eAbsorbed Luminosity: 3.4e+42\",\"\\u003cbr\\u003eEmitted Luminosity: 1.061e+43\\u003cbr\\u003eRequested Luminosity: 1.059e+43\\u003cbr\\u003eAbsorbed Luminosity: 3.4e+42\",\"\\u003cbr\\u003eEmitted Luminosity: 1.061e+43\\u003cbr\\u003eRequested Luminosity: 1.059e+43\\u003cbr\\u003eAbsorbed Luminosity: 3.4e+42\",\"\\u003cbr\\u003eEmitted Luminosity: 1.061e+43\\u003cbr\\u003eRequested Luminosity: 1.059e+43\\u003cbr\\u003eAbsorbed Luminosity: 3.4e+42\",\"\\u003cbr\\u003eEmitted Luminosity: 1.061e+43\\u003cbr\\u003eRequested Luminosity: 1.059e+43\\u003cbr\\u003eAbsorbed Luminosity: 3.4e+42\",\"\\u003cbr\\u003eEmitted Luminosity: 1.061e+43\\u003cbr\\u003eRequested Luminosity: 1.059e+43\\u003cbr\\u003eAbsorbed Luminosity: 3.4e+42\",\"\\u003cbr\\u003eEmitted Luminosity: 1.061e+43\\u003cbr\\u003eRequested Luminosity: 1.059e+43\\u003cbr\\u003eAbsorbed Luminosity: 3.4e+42\",\"\\u003cbr\\u003eEmitted Luminosity: 1.061e+43\\u003cbr\\u003eRequested Luminosity: 1.059e+43\\u003cbr\\u003eAbsorbed Luminosity: 3.4e+42\",\"\\u003cbr\\u003eEmitted Luminosity: 1.061e+43\\u003cbr\\u003eRequested Luminosity: 1.059e+43\\u003cbr\\u003eAbsorbed Luminosity: 3.4e+42\",\"\\u003cbr\\u003eEmitted Luminosity: 1.061e+43\\u003cbr\\u003eRequested Luminosity: 1.059e+43\\u003cbr\\u003eAbsorbed Luminosity: 3.4e+42\"],\"hovertemplate\":\"\\u003cb\\u003eY\\u003c\\u002fb\\u003e: %{y:.3f} at \\u003cb\\u003eX\\u003c\\u002fb\\u003e = %{x:,.0f}%{customdata}\",\"legendgroup\":\"group-20\",\"line\":{\"color\":\"#800000\",\"shape\":\"hv\"},\"name\":\"20\",\"showlegend\":false,\"x\":[11000.0,11450.000000000002,11900.000000000002,12350.000000000002,12800.000000000002,13250.000000000002,13700.000000000002,14150.000000000002,14600.000000000002,15050.000000000002,15500.000000000002,15950.000000000002,16400.0,16850.0,17300.0,17750.0,18200.0,18650.0,19100.0,19550.0,20000.0],\"y\":[11083.753819814385,11175.173376237919,11285.09854706256,11393.288341286247,11352.339794964153,11384.095699301812,11341.761529297917,11306.581830341138,11268.113788790071,11182.105393516445,11121.166737110592,11049.36023508147,10964.579659488196,10892.023072113725,10797.59510824633,10695.839729763977,10591.48932813335,10536.997382021826,10457.030441889163,10355.979087458005,10355.979087458005],\"type\":\"scatter\",\"uid\":\"2cae22a6-fdd7-4385-b2b9-b3592759e40b\",\"xaxis\":\"x\",\"yaxis\":\"y\"},{\"customdata\":[\"\\u003cbr\\u003eEmitted Luminosity: 1.061e+43\\u003cbr\\u003eRequested Luminosity: 1.059e+43\\u003cbr\\u003eAbsorbed Luminosity: 3.4e+42\",\"\\u003cbr\\u003eEmitted Luminosity: 1.061e+43\\u003cbr\\u003eRequested Luminosity: 1.059e+43\\u003cbr\\u003eAbsorbed Luminosity: 3.4e+42\",\"\\u003cbr\\u003eEmitted Luminosity: 1.061e+43\\u003cbr\\u003eRequested Luminosity: 1.059e+43\\u003cbr\\u003eAbsorbed Luminosity: 3.4e+42\",\"\\u003cbr\\u003eEmitted Luminosity: 1.061e+43\\u003cbr\\u003eRequested Luminosity: 1.059e+43\\u003cbr\\u003eAbsorbed Luminosity: 3.4e+42\",\"\\u003cbr\\u003eEmitted Luminosity: 1.061e+43\\u003cbr\\u003eRequested Luminosity: 1.059e+43\\u003cbr\\u003eAbsorbed Luminosity: 3.4e+42\",\"\\u003cbr\\u003eEmitted Luminosity: 1.061e+43\\u003cbr\\u003eRequested Luminosity: 1.059e+43\\u003cbr\\u003eAbsorbed Luminosity: 3.4e+42\",\"\\u003cbr\\u003eEmitted Luminosity: 1.061e+43\\u003cbr\\u003eRequested Luminosity: 1.059e+43\\u003cbr\\u003eAbsorbed Luminosity: 3.4e+42\",\"\\u003cbr\\u003eEmitted Luminosity: 1.061e+43\\u003cbr\\u003eRequested Luminosity: 1.059e+43\\u003cbr\\u003eAbsorbed Luminosity: 3.4e+42\",\"\\u003cbr\\u003eEmitted Luminosity: 1.061e+43\\u003cbr\\u003eRequested Luminosity: 1.059e+43\\u003cbr\\u003eAbsorbed Luminosity: 3.4e+42\",\"\\u003cbr\\u003eEmitted Luminosity: 1.061e+43\\u003cbr\\u003eRequested Luminosity: 1.059e+43\\u003cbr\\u003eAbsorbed Luminosity: 3.4e+42\",\"\\u003cbr\\u003eEmitted Luminosity: 1.061e+43\\u003cbr\\u003eRequested Luminosity: 1.059e+43\\u003cbr\\u003eAbsorbed Luminosity: 3.4e+42\",\"\\u003cbr\\u003eEmitted Luminosity: 1.061e+43\\u003cbr\\u003eRequested Luminosity: 1.059e+43\\u003cbr\\u003eAbsorbed Luminosity: 3.4e+42\",\"\\u003cbr\\u003eEmitted Luminosity: 1.061e+43\\u003cbr\\u003eRequested Luminosity: 1.059e+43\\u003cbr\\u003eAbsorbed Luminosity: 3.4e+42\",\"\\u003cbr\\u003eEmitted Luminosity: 1.061e+43\\u003cbr\\u003eRequested Luminosity: 1.059e+43\\u003cbr\\u003eAbsorbed Luminosity: 3.4e+42\",\"\\u003cbr\\u003eEmitted Luminosity: 1.061e+43\\u003cbr\\u003eRequested Luminosity: 1.059e+43\\u003cbr\\u003eAbsorbed Luminosity: 3.4e+42\",\"\\u003cbr\\u003eEmitted Luminosity: 1.061e+43\\u003cbr\\u003eRequested Luminosity: 1.059e+43\\u003cbr\\u003eAbsorbed Luminosity: 3.4e+42\",\"\\u003cbr\\u003eEmitted Luminosity: 1.061e+43\\u003cbr\\u003eRequested Luminosity: 1.059e+43\\u003cbr\\u003eAbsorbed Luminosity: 3.4e+42\",\"\\u003cbr\\u003eEmitted Luminosity: 1.061e+43\\u003cbr\\u003eRequested Luminosity: 1.059e+43\\u003cbr\\u003eAbsorbed Luminosity: 3.4e+42\",\"\\u003cbr\\u003eEmitted Luminosity: 1.061e+43\\u003cbr\\u003eRequested Luminosity: 1.059e+43\\u003cbr\\u003eAbsorbed Luminosity: 3.4e+42\",\"\\u003cbr\\u003eEmitted Luminosity: 1.061e+43\\u003cbr\\u003eRequested Luminosity: 1.059e+43\\u003cbr\\u003eAbsorbed Luminosity: 3.4e+42\",\"\\u003cbr\\u003eEmitted Luminosity: 1.061e+43\\u003cbr\\u003eRequested Luminosity: 1.059e+43\\u003cbr\\u003eAbsorbed Luminosity: 3.4e+42\"],\"hovertemplate\":\"\\u003cb\\u003eY\\u003c\\u002fb\\u003e: %{y:.3f} at \\u003cb\\u003eX\\u003c\\u002fb\\u003e = %{x:,.0f}%{customdata}\",\"legendgroup\":\"group-20\",\"line\":{\"color\":\"#800000\",\"shape\":\"hv\"},\"name\":\"20\",\"x\":[11000.0,11450.000000000002,11900.000000000002,12350.000000000002,12800.000000000002,13250.000000000002,13700.000000000002,14150.000000000002,14600.000000000002,15050.000000000002,15500.000000000002,15950.000000000002,16400.0,16850.0,17300.0,17750.0,18200.0,18650.0,19100.0,19550.0,20000.0],\"y\":[0.46468128930472224,0.3591698034353729,0.28443782884599905,0.23005690716721414,0.20028674009976133,0.17344722693632603,0.15518146278317313,0.1401773870027914,0.12739803002646677,0.11767872029805061,0.1094191459682815,0.10293185131071592,0.097399477627836,0.09193148351482645,0.08766981745434764,0.08391338492036354,0.08120464909798311,0.07771529772315164,0.07477147453130936,0.07244055626150628,0.07244055626150628],\"type\":\"scatter\",\"uid\":\"a5861817-c836-4464-b35a-413b57906d24\",\"xaxis\":\"x2\",\"yaxis\":\"y2\"}],                        {\"template\":{\"data\":{\"barpolar\":[{\"marker\":{\"line\":{\"color\":\"#E5ECF6\",\"width\":0.5},\"pattern\":{\"fillmode\":\"overlay\",\"size\":10,\"solidity\":0.2}},\"type\":\"barpolar\"}],\"bar\":[{\"error_x\":{\"color\":\"#2a3f5f\"},\"error_y\":{\"color\":\"#2a3f5f\"},\"marker\":{\"line\":{\"color\":\"#E5ECF6\",\"width\":0.5},\"pattern\":{\"fillmode\":\"overlay\",\"size\":10,\"solidity\":0.2}},\"type\":\"bar\"}],\"carpet\":[{\"aaxis\":{\"endlinecolor\":\"#2a3f5f\",\"gridcolor\":\"white\",\"linecolor\":\"white\",\"minorgridcolor\":\"white\",\"startlinecolor\":\"#2a3f5f\"},\"baxis\":{\"endlinecolor\":\"#2a3f5f\",\"gridcolor\":\"white\",\"linecolor\":\"white\",\"minorgridcolor\":\"white\",\"startlinecolor\":\"#2a3f5f\"},\"type\":\"carpet\"}],\"choropleth\":[{\"colorbar\":{\"outlinewidth\":0,\"ticks\":\"\"},\"type\":\"choropleth\"}],\"contourcarpet\":[{\"colorbar\":{\"outlinewidth\":0,\"ticks\":\"\"},\"type\":\"contourcarpet\"}],\"contour\":[{\"colorbar\":{\"outlinewidth\":0,\"ticks\":\"\"},\"colorscale\":[[0.0,\"#0d0887\"],[0.1111111111111111,\"#46039f\"],[0.2222222222222222,\"#7201a8\"],[0.3333333333333333,\"#9c179e\"],[0.4444444444444444,\"#bd3786\"],[0.5555555555555556,\"#d8576b\"],[0.6666666666666666,\"#ed7953\"],[0.7777777777777778,\"#fb9f3a\"],[0.8888888888888888,\"#fdca26\"],[1.0,\"#f0f921\"]],\"type\":\"contour\"}],\"heatmapgl\":[{\"colorbar\":{\"outlinewidth\":0,\"ticks\":\"\"},\"colorscale\":[[0.0,\"#0d0887\"],[0.1111111111111111,\"#46039f\"],[0.2222222222222222,\"#7201a8\"],[0.3333333333333333,\"#9c179e\"],[0.4444444444444444,\"#bd3786\"],[0.5555555555555556,\"#d8576b\"],[0.6666666666666666,\"#ed7953\"],[0.7777777777777778,\"#fb9f3a\"],[0.8888888888888888,\"#fdca26\"],[1.0,\"#f0f921\"]],\"type\":\"heatmapgl\"}],\"heatmap\":[{\"colorbar\":{\"outlinewidth\":0,\"ticks\":\"\"},\"colorscale\":[[0.0,\"#0d0887\"],[0.1111111111111111,\"#46039f\"],[0.2222222222222222,\"#7201a8\"],[0.3333333333333333,\"#9c179e\"],[0.4444444444444444,\"#bd3786\"],[0.5555555555555556,\"#d8576b\"],[0.6666666666666666,\"#ed7953\"],[0.7777777777777778,\"#fb9f3a\"],[0.8888888888888888,\"#fdca26\"],[1.0,\"#f0f921\"]],\"type\":\"heatmap\"}],\"histogram2dcontour\":[{\"colorbar\":{\"outlinewidth\":0,\"ticks\":\"\"},\"colorscale\":[[0.0,\"#0d0887\"],[0.1111111111111111,\"#46039f\"],[0.2222222222222222,\"#7201a8\"],[0.3333333333333333,\"#9c179e\"],[0.4444444444444444,\"#bd3786\"],[0.5555555555555556,\"#d8576b\"],[0.6666666666666666,\"#ed7953\"],[0.7777777777777778,\"#fb9f3a\"],[0.8888888888888888,\"#fdca26\"],[1.0,\"#f0f921\"]],\"type\":\"histogram2dcontour\"}],\"histogram2d\":[{\"colorbar\":{\"outlinewidth\":0,\"ticks\":\"\"},\"colorscale\":[[0.0,\"#0d0887\"],[0.1111111111111111,\"#46039f\"],[0.2222222222222222,\"#7201a8\"],[0.3333333333333333,\"#9c179e\"],[0.4444444444444444,\"#bd3786\"],[0.5555555555555556,\"#d8576b\"],[0.6666666666666666,\"#ed7953\"],[0.7777777777777778,\"#fb9f3a\"],[0.8888888888888888,\"#fdca26\"],[1.0,\"#f0f921\"]],\"type\":\"histogram2d\"}],\"histogram\":[{\"marker\":{\"pattern\":{\"fillmode\":\"overlay\",\"size\":10,\"solidity\":0.2}},\"type\":\"histogram\"}],\"mesh3d\":[{\"colorbar\":{\"outlinewidth\":0,\"ticks\":\"\"},\"type\":\"mesh3d\"}],\"parcoords\":[{\"line\":{\"colorbar\":{\"outlinewidth\":0,\"ticks\":\"\"}},\"type\":\"parcoords\"}],\"pie\":[{\"automargin\":true,\"type\":\"pie\"}],\"scatter3d\":[{\"line\":{\"colorbar\":{\"outlinewidth\":0,\"ticks\":\"\"}},\"marker\":{\"colorbar\":{\"outlinewidth\":0,\"ticks\":\"\"}},\"type\":\"scatter3d\"}],\"scattercarpet\":[{\"marker\":{\"colorbar\":{\"outlinewidth\":0,\"ticks\":\"\"}},\"type\":\"scattercarpet\"}],\"scattergeo\":[{\"marker\":{\"colorbar\":{\"outlinewidth\":0,\"ticks\":\"\"}},\"type\":\"scattergeo\"}],\"scattergl\":[{\"marker\":{\"colorbar\":{\"outlinewidth\":0,\"ticks\":\"\"}},\"type\":\"scattergl\"}],\"scattermapbox\":[{\"marker\":{\"colorbar\":{\"outlinewidth\":0,\"ticks\":\"\"}},\"type\":\"scattermapbox\"}],\"scatterpolargl\":[{\"marker\":{\"colorbar\":{\"outlinewidth\":0,\"ticks\":\"\"}},\"type\":\"scatterpolargl\"}],\"scatterpolar\":[{\"marker\":{\"colorbar\":{\"outlinewidth\":0,\"ticks\":\"\"}},\"type\":\"scatterpolar\"}],\"scatter\":[{\"fillpattern\":{\"fillmode\":\"overlay\",\"size\":10,\"solidity\":0.2},\"type\":\"scatter\"}],\"scatterternary\":[{\"marker\":{\"colorbar\":{\"outlinewidth\":0,\"ticks\":\"\"}},\"type\":\"scatterternary\"}],\"surface\":[{\"colorbar\":{\"outlinewidth\":0,\"ticks\":\"\"},\"colorscale\":[[0.0,\"#0d0887\"],[0.1111111111111111,\"#46039f\"],[0.2222222222222222,\"#7201a8\"],[0.3333333333333333,\"#9c179e\"],[0.4444444444444444,\"#bd3786\"],[0.5555555555555556,\"#d8576b\"],[0.6666666666666666,\"#ed7953\"],[0.7777777777777778,\"#fb9f3a\"],[0.8888888888888888,\"#fdca26\"],[1.0,\"#f0f921\"]],\"type\":\"surface\"}],\"table\":[{\"cells\":{\"fill\":{\"color\":\"#EBF0F8\"},\"line\":{\"color\":\"white\"}},\"header\":{\"fill\":{\"color\":\"#C8D4E3\"},\"line\":{\"color\":\"white\"}},\"type\":\"table\"}]},\"layout\":{\"annotationdefaults\":{\"arrowcolor\":\"#2a3f5f\",\"arrowhead\":0,\"arrowwidth\":1},\"autotypenumbers\":\"strict\",\"coloraxis\":{\"colorbar\":{\"outlinewidth\":0,\"ticks\":\"\"}},\"colorscale\":{\"diverging\":[[0,\"#8e0152\"],[0.1,\"#c51b7d\"],[0.2,\"#de77ae\"],[0.3,\"#f1b6da\"],[0.4,\"#fde0ef\"],[0.5,\"#f7f7f7\"],[0.6,\"#e6f5d0\"],[0.7,\"#b8e186\"],[0.8,\"#7fbc41\"],[0.9,\"#4d9221\"],[1,\"#276419\"]],\"sequential\":[[0.0,\"#0d0887\"],[0.1111111111111111,\"#46039f\"],[0.2222222222222222,\"#7201a8\"],[0.3333333333333333,\"#9c179e\"],[0.4444444444444444,\"#bd3786\"],[0.5555555555555556,\"#d8576b\"],[0.6666666666666666,\"#ed7953\"],[0.7777777777777778,\"#fb9f3a\"],[0.8888888888888888,\"#fdca26\"],[1.0,\"#f0f921\"]],\"sequentialminus\":[[0.0,\"#0d0887\"],[0.1111111111111111,\"#46039f\"],[0.2222222222222222,\"#7201a8\"],[0.3333333333333333,\"#9c179e\"],[0.4444444444444444,\"#bd3786\"],[0.5555555555555556,\"#d8576b\"],[0.6666666666666666,\"#ed7953\"],[0.7777777777777778,\"#fb9f3a\"],[0.8888888888888888,\"#fdca26\"],[1.0,\"#f0f921\"]]},\"colorway\":[\"#636efa\",\"#EF553B\",\"#00cc96\",\"#ab63fa\",\"#FFA15A\",\"#19d3f3\",\"#FF6692\",\"#B6E880\",\"#FF97FF\",\"#FECB52\"],\"font\":{\"color\":\"#2a3f5f\"},\"geo\":{\"bgcolor\":\"white\",\"lakecolor\":\"white\",\"landcolor\":\"#E5ECF6\",\"showlakes\":true,\"showland\":true,\"subunitcolor\":\"white\"},\"hoverlabel\":{\"align\":\"left\"},\"hovermode\":\"closest\",\"mapbox\":{\"style\":\"light\"},\"paper_bgcolor\":\"white\",\"plot_bgcolor\":\"#E5ECF6\",\"polar\":{\"angularaxis\":{\"gridcolor\":\"white\",\"linecolor\":\"white\",\"ticks\":\"\"},\"bgcolor\":\"#E5ECF6\",\"radialaxis\":{\"gridcolor\":\"white\",\"linecolor\":\"white\",\"ticks\":\"\"}},\"scene\":{\"xaxis\":{\"backgroundcolor\":\"#E5ECF6\",\"gridcolor\":\"white\",\"gridwidth\":2,\"linecolor\":\"white\",\"showbackground\":true,\"ticks\":\"\",\"zerolinecolor\":\"white\"},\"yaxis\":{\"backgroundcolor\":\"#E5ECF6\",\"gridcolor\":\"white\",\"gridwidth\":2,\"linecolor\":\"white\",\"showbackground\":true,\"ticks\":\"\",\"zerolinecolor\":\"white\"},\"zaxis\":{\"backgroundcolor\":\"#E5ECF6\",\"gridcolor\":\"white\",\"gridwidth\":2,\"linecolor\":\"white\",\"showbackground\":true,\"ticks\":\"\",\"zerolinecolor\":\"white\"}},\"shapedefaults\":{\"line\":{\"color\":\"#2a3f5f\"}},\"ternary\":{\"aaxis\":{\"gridcolor\":\"white\",\"linecolor\":\"white\",\"ticks\":\"\"},\"baxis\":{\"gridcolor\":\"white\",\"linecolor\":\"white\",\"ticks\":\"\"},\"bgcolor\":\"#E5ECF6\",\"caxis\":{\"gridcolor\":\"white\",\"linecolor\":\"white\",\"ticks\":\"\"}},\"title\":{\"x\":0.05},\"xaxis\":{\"automargin\":true,\"gridcolor\":\"white\",\"linecolor\":\"white\",\"ticks\":\"\",\"title\":{\"standoff\":15},\"zerolinecolor\":\"white\",\"zerolinewidth\":2},\"yaxis\":{\"automargin\":true,\"gridcolor\":\"white\",\"linecolor\":\"white\",\"ticks\":\"\",\"title\":{\"standoff\":15},\"zerolinecolor\":\"white\",\"zerolinewidth\":2}}},\"xaxis\":{\"anchor\":\"y\",\"domain\":[0.0,0.45],\"tickformat\":\"g\",\"title\":{\"text\":\"$\\\\text{Velocity}~[\\\\text{km}~\\\\text{s}^{-1}]$\"}},\"yaxis\":{\"anchor\":\"x\",\"domain\":[0.0,1.0],\"tickformat\":\"g\",\"title\":{\"text\":\"$T_{\\\\text{rad}}\\\\ [\\\\text{K}]$\"},\"nticks\":15},\"xaxis2\":{\"anchor\":\"y2\",\"domain\":[0.55,1.0],\"tickformat\":\"g\",\"title\":{\"text\":\"$\\\\text{Velocity}~[\\\\text{km}~\\\\text{s}^{-1}]$\"},\"matches\":\"x\"},\"yaxis2\":{\"anchor\":\"x2\",\"domain\":[0.0,1.0],\"tickformat\":\"g\",\"title\":{\"text\":\"$W$\"},\"nticks\":15},\"legend\":{\"title\":{\"text\":\"Iterations\"},\"traceorder\":\"reversed\"},\"margin\":{\"l\":10,\"r\":135,\"b\":25,\"t\":25,\"pad\":0},\"height\":450},                        {\"responsive\": true}                    ).then(function(){\n",
       "                            \n",
       "var gd = document.getElementById('1de2ca9b-80f8-45c6-96bf-f28673d02183');\n",
       "var x = new MutationObserver(function (mutations, observer) {{\n",
       "        var display = window.getComputedStyle(gd).display;\n",
       "        if (!display || display === 'none') {{\n",
       "            console.log([gd, 'removed!']);\n",
       "            Plotly.purge(gd);\n",
       "            observer.disconnect();\n",
       "        }}\n",
       "}});\n",
       "\n",
       "// Listen for the removal of the full notebook cells\n",
       "var notebookContainer = gd.closest('#notebook-container');\n",
       "if (notebookContainer) {{\n",
       "    x.observe(notebookContainer, {childList: true});\n",
       "}}\n",
       "\n",
       "// Listen for the clearing of the current output cell\n",
       "var outputEl = gd.closest('.output');\n",
       "if (outputEl) {{\n",
       "    x.observe(outputEl, {childList: true});\n",
       "}}\n",
       "\n",
       "                        })                };                });            </script>        </div>"
      ]
     },
     "metadata": {},
     "output_type": "display_data"
    },
    {
     "data": {
      "text/html": [
       "        <script type=\"text/javascript\">\n",
       "        window.PlotlyConfig = {MathJaxConfig: 'local'};\n",
       "        if (window.MathJax && window.MathJax.Hub && window.MathJax.Hub.Config) {window.MathJax.Hub.Config({SVG: {font: \"STIX-Web\"}});}\n",
       "        if (typeof require !== 'undefined') {\n",
       "        require.undef(\"plotly\");\n",
       "        requirejs.config({\n",
       "            paths: {\n",
       "                'plotly': ['https://cdn.plot.ly/plotly-2.32.0.min']\n",
       "            }\n",
       "        });\n",
       "        require(['plotly'], function(Plotly) {\n",
       "            window._Plotly = Plotly;\n",
       "        });\n",
       "        }\n",
       "        </script>\n",
       "        "
      ]
     },
     "metadata": {},
     "output_type": "display_data"
    },
    {
     "data": {
      "text/html": [
       "<div>                            <div id=\"87160de6-a956-4ab4-9172-1830f28c48c6\" class=\"plotly-graph-div\" style=\"height:630px; width:100%;\"></div>            <script type=\"text/javascript\">                require([\"plotly\"], function(Plotly) {                    window.PLOTLYENV=window.PLOTLYENV || {};                                    if (document.getElementById(\"87160de6-a956-4ab4-9172-1830f28c48c6\")) {                    Plotly.newPlot(                        \"87160de6-a956-4ab4-9172-1830f28c48c6\",                        [{\"hovertext\":\"text\",\"mode\":\"lines\",\"name\":\"Inner\\u003cbr\\u003eBoundary\\u003cbr\\u003eTemperature\",\"type\":\"scatter\",\"uid\":\"6786133a-51af-4a0a-a9cd-72a567429365\",\"xaxis\":\"x\",\"yaxis\":\"y\",\"hovertemplate\":\"\\u003cb\\u003e%{y:.3f}\\u003c\\u002fb\\u003e at X = %{x:,.0f}\\u003cextra\\u003eInner Boundary Temperature\\u003c\\u002fextra\\u003e\",\"x\":[1,2,3,4,5,6,7,8,9,10,11,12,13,14,15,16,17,18,19,20],\"y\":[9933.951995919648,10703.326690661204,10673.70899787496,10637.547540479592,10641.159129678084,10647.21792187558,10645.645143673266,10644.006890853354,10636.774698387824,10653.396242694302,10624.87671149729,10649.270706438705,10653.80173531274,10646.745959706495,10641.332585091845,10652.280791386343,10654.516238187465,10637.79337258581,10638.424342954939,10651.315137263384]},{\"mode\":\"lines\",\"name\":\"Emitted\\u003cbr\\u003eLuminosity\",\"type\":\"scatter\",\"uid\":\"083c6343-3bba-4f52-857a-cbd4eac1ca5b\",\"xaxis\":\"x2\",\"yaxis\":\"y2\",\"hovertemplate\":\"\\u003cb\\u003e%{y:.4g}\\u003c\\u002fb\\u003e\\u003cbr\\u003eat X = %{x}\\u003cbr\\u003e\",\"x\":[1,2,3,4,5,6,7,8,9,10,11,12,13,14,15,16,17,18,19,20],\"y\":[7.941856110949548e+42,1.0710991137884473e+43,1.0737784764344849e+43,1.0578392694224301e+43,1.0568679790587201e+43,1.0599025305216513e+43,1.0599287064186582e+43,1.062161188209116e+43,1.0526861617058762e+43,1.0707109961104502e+43,1.04961485045785e+43,1.0574758633037723e+43,1.0620880850614374e+43,1.0614340207948136e+43,1.0549304828367047e+43,1.0583877360921147e+43,1.0659581818455138e+43,1.0590250842285216e+43,1.054160776271517e+43,1.0612427265632122e+43]},{\"mode\":\"lines\",\"name\":\"Absorbed\\u003cbr\\u003eLuminosity\",\"type\":\"scatter\",\"uid\":\"734cc098-2248-4384-a740-02fae949eded\",\"xaxis\":\"x2\",\"yaxis\":\"y2\",\"hovertemplate\":\"\\u003cb\\u003e%{y:.4g}\\u003c\\u002fb\\u003e\\u003cbr\\u003eat X = %{x}\\u003cbr\\u003e\",\"x\":[1,2,3,4,5,6,7,8,9,10,11,12,13,14,15,16,17,18,19,20],\"y\":[2.6587939339172426e+42,3.576638407382436e+42,3.3971185171167297e+42,3.3654322247005417e+42,3.3911576181782376e+42,3.393959345315449e+42,3.3890551118392185e+42,3.3556277474293197e+42,3.408815163897547e+42,3.3201794711099194e+42,3.3781797823677703e+42,3.427485411950737e+42,3.40477960032678e+42,3.376743498526772e+42,3.411419458207362e+42,3.4366281210745166e+42,3.3748391030096574e+42,3.3538891727417865e+42,3.402611542125827e+42,3.399629777010973e+42]},{\"mode\":\"lines\",\"name\":\"Requested\\u003cbr\\u003eLuminosity\",\"type\":\"scatter\",\"uid\":\"4b45b2e4-13c1-42e2-af0a-1ba96313ced6\",\"xaxis\":\"x2\",\"yaxis\":\"y2\",\"hovertemplate\":\"\\u003cb\\u003e%{y:.4g}\\u003c\\u002fb\\u003e\\u003cbr\\u003eat X = %{x}\\u003cbr\\u003e\",\"x\":[1,2,3,4,5,6,7,8,9,10,11,12,13,14,15,16,17,18,19,20],\"y\":[1.0592763593038458e+43,1.0592763593038458e+43,1.0592763593038458e+43,1.0592763593038458e+43,1.0592763593038458e+43,1.0592763593038458e+43,1.0592763593038458e+43,1.0592763593038458e+43,1.0592763593038458e+43,1.0592763593038458e+43,1.0592763593038458e+43,1.0592763593038458e+43,1.0592763593038458e+43,1.0592763593038458e+43,1.0592763593038458e+43,1.0592763593038458e+43,1.0592763593038458e+43,1.0592763593038458e+43,1.0592763593038458e+43,1.0592763593038458e+43]},{\"mode\":\"lines\",\"name\":\"Residual\\u003cbr\\u003eLuminosity\",\"type\":\"scatter\",\"uid\":\"c5337252-dc1c-4bfd-9398-e8b9517f8356\",\"xaxis\":\"x3\",\"yaxis\":\"y3\",\"hovertemplate\":\"\\u003cb\\u003e%{y:.2f}%\\u003c\\u002fb\\u003e at X = %{x:,.0f}\",\"x\":[1,2,3,4,5,6,7,8,9,10,11,12,13,14,15,16,17,18,19,20],\"y\":[-25.02564565710766,1.1161161467222198,1.3690588865940465,-0.1356671343406639,-0.2273608982181423,0.05911311173007894,0.06158422295397844,0.27233959107386896,-0.6221414780086902,1.0794762581239157,-0.9120857612970125,-0.16997415115133163,0.2654383563737343,0.20369202729926195,-0.4102684279669115,-0.08388964824203489,0.6307912456442706,-0.02372138990143122,-0.4829318607365796,0.18563307319147304]}],                        {\"template\":{\"data\":{\"barpolar\":[{\"marker\":{\"line\":{\"color\":\"#E5ECF6\",\"width\":0.5},\"pattern\":{\"fillmode\":\"overlay\",\"size\":10,\"solidity\":0.2}},\"type\":\"barpolar\"}],\"bar\":[{\"error_x\":{\"color\":\"#2a3f5f\"},\"error_y\":{\"color\":\"#2a3f5f\"},\"marker\":{\"line\":{\"color\":\"#E5ECF6\",\"width\":0.5},\"pattern\":{\"fillmode\":\"overlay\",\"size\":10,\"solidity\":0.2}},\"type\":\"bar\"}],\"carpet\":[{\"aaxis\":{\"endlinecolor\":\"#2a3f5f\",\"gridcolor\":\"white\",\"linecolor\":\"white\",\"minorgridcolor\":\"white\",\"startlinecolor\":\"#2a3f5f\"},\"baxis\":{\"endlinecolor\":\"#2a3f5f\",\"gridcolor\":\"white\",\"linecolor\":\"white\",\"minorgridcolor\":\"white\",\"startlinecolor\":\"#2a3f5f\"},\"type\":\"carpet\"}],\"choropleth\":[{\"colorbar\":{\"outlinewidth\":0,\"ticks\":\"\"},\"type\":\"choropleth\"}],\"contourcarpet\":[{\"colorbar\":{\"outlinewidth\":0,\"ticks\":\"\"},\"type\":\"contourcarpet\"}],\"contour\":[{\"colorbar\":{\"outlinewidth\":0,\"ticks\":\"\"},\"colorscale\":[[0.0,\"#0d0887\"],[0.1111111111111111,\"#46039f\"],[0.2222222222222222,\"#7201a8\"],[0.3333333333333333,\"#9c179e\"],[0.4444444444444444,\"#bd3786\"],[0.5555555555555556,\"#d8576b\"],[0.6666666666666666,\"#ed7953\"],[0.7777777777777778,\"#fb9f3a\"],[0.8888888888888888,\"#fdca26\"],[1.0,\"#f0f921\"]],\"type\":\"contour\"}],\"heatmapgl\":[{\"colorbar\":{\"outlinewidth\":0,\"ticks\":\"\"},\"colorscale\":[[0.0,\"#0d0887\"],[0.1111111111111111,\"#46039f\"],[0.2222222222222222,\"#7201a8\"],[0.3333333333333333,\"#9c179e\"],[0.4444444444444444,\"#bd3786\"],[0.5555555555555556,\"#d8576b\"],[0.6666666666666666,\"#ed7953\"],[0.7777777777777778,\"#fb9f3a\"],[0.8888888888888888,\"#fdca26\"],[1.0,\"#f0f921\"]],\"type\":\"heatmapgl\"}],\"heatmap\":[{\"colorbar\":{\"outlinewidth\":0,\"ticks\":\"\"},\"colorscale\":[[0.0,\"#0d0887\"],[0.1111111111111111,\"#46039f\"],[0.2222222222222222,\"#7201a8\"],[0.3333333333333333,\"#9c179e\"],[0.4444444444444444,\"#bd3786\"],[0.5555555555555556,\"#d8576b\"],[0.6666666666666666,\"#ed7953\"],[0.7777777777777778,\"#fb9f3a\"],[0.8888888888888888,\"#fdca26\"],[1.0,\"#f0f921\"]],\"type\":\"heatmap\"}],\"histogram2dcontour\":[{\"colorbar\":{\"outlinewidth\":0,\"ticks\":\"\"},\"colorscale\":[[0.0,\"#0d0887\"],[0.1111111111111111,\"#46039f\"],[0.2222222222222222,\"#7201a8\"],[0.3333333333333333,\"#9c179e\"],[0.4444444444444444,\"#bd3786\"],[0.5555555555555556,\"#d8576b\"],[0.6666666666666666,\"#ed7953\"],[0.7777777777777778,\"#fb9f3a\"],[0.8888888888888888,\"#fdca26\"],[1.0,\"#f0f921\"]],\"type\":\"histogram2dcontour\"}],\"histogram2d\":[{\"colorbar\":{\"outlinewidth\":0,\"ticks\":\"\"},\"colorscale\":[[0.0,\"#0d0887\"],[0.1111111111111111,\"#46039f\"],[0.2222222222222222,\"#7201a8\"],[0.3333333333333333,\"#9c179e\"],[0.4444444444444444,\"#bd3786\"],[0.5555555555555556,\"#d8576b\"],[0.6666666666666666,\"#ed7953\"],[0.7777777777777778,\"#fb9f3a\"],[0.8888888888888888,\"#fdca26\"],[1.0,\"#f0f921\"]],\"type\":\"histogram2d\"}],\"histogram\":[{\"marker\":{\"pattern\":{\"fillmode\":\"overlay\",\"size\":10,\"solidity\":0.2}},\"type\":\"histogram\"}],\"mesh3d\":[{\"colorbar\":{\"outlinewidth\":0,\"ticks\":\"\"},\"type\":\"mesh3d\"}],\"parcoords\":[{\"line\":{\"colorbar\":{\"outlinewidth\":0,\"ticks\":\"\"}},\"type\":\"parcoords\"}],\"pie\":[{\"automargin\":true,\"type\":\"pie\"}],\"scatter3d\":[{\"line\":{\"colorbar\":{\"outlinewidth\":0,\"ticks\":\"\"}},\"marker\":{\"colorbar\":{\"outlinewidth\":0,\"ticks\":\"\"}},\"type\":\"scatter3d\"}],\"scattercarpet\":[{\"marker\":{\"colorbar\":{\"outlinewidth\":0,\"ticks\":\"\"}},\"type\":\"scattercarpet\"}],\"scattergeo\":[{\"marker\":{\"colorbar\":{\"outlinewidth\":0,\"ticks\":\"\"}},\"type\":\"scattergeo\"}],\"scattergl\":[{\"marker\":{\"colorbar\":{\"outlinewidth\":0,\"ticks\":\"\"}},\"type\":\"scattergl\"}],\"scattermapbox\":[{\"marker\":{\"colorbar\":{\"outlinewidth\":0,\"ticks\":\"\"}},\"type\":\"scattermapbox\"}],\"scatterpolargl\":[{\"marker\":{\"colorbar\":{\"outlinewidth\":0,\"ticks\":\"\"}},\"type\":\"scatterpolargl\"}],\"scatterpolar\":[{\"marker\":{\"colorbar\":{\"outlinewidth\":0,\"ticks\":\"\"}},\"type\":\"scatterpolar\"}],\"scatter\":[{\"fillpattern\":{\"fillmode\":\"overlay\",\"size\":10,\"solidity\":0.2},\"type\":\"scatter\"}],\"scatterternary\":[{\"marker\":{\"colorbar\":{\"outlinewidth\":0,\"ticks\":\"\"}},\"type\":\"scatterternary\"}],\"surface\":[{\"colorbar\":{\"outlinewidth\":0,\"ticks\":\"\"},\"colorscale\":[[0.0,\"#0d0887\"],[0.1111111111111111,\"#46039f\"],[0.2222222222222222,\"#7201a8\"],[0.3333333333333333,\"#9c179e\"],[0.4444444444444444,\"#bd3786\"],[0.5555555555555556,\"#d8576b\"],[0.6666666666666666,\"#ed7953\"],[0.7777777777777778,\"#fb9f3a\"],[0.8888888888888888,\"#fdca26\"],[1.0,\"#f0f921\"]],\"type\":\"surface\"}],\"table\":[{\"cells\":{\"fill\":{\"color\":\"#EBF0F8\"},\"line\":{\"color\":\"white\"}},\"header\":{\"fill\":{\"color\":\"#C8D4E3\"},\"line\":{\"color\":\"white\"}},\"type\":\"table\"}]},\"layout\":{\"annotationdefaults\":{\"arrowcolor\":\"#2a3f5f\",\"arrowhead\":0,\"arrowwidth\":1},\"autotypenumbers\":\"strict\",\"coloraxis\":{\"colorbar\":{\"outlinewidth\":0,\"ticks\":\"\"}},\"colorscale\":{\"diverging\":[[0,\"#8e0152\"],[0.1,\"#c51b7d\"],[0.2,\"#de77ae\"],[0.3,\"#f1b6da\"],[0.4,\"#fde0ef\"],[0.5,\"#f7f7f7\"],[0.6,\"#e6f5d0\"],[0.7,\"#b8e186\"],[0.8,\"#7fbc41\"],[0.9,\"#4d9221\"],[1,\"#276419\"]],\"sequential\":[[0.0,\"#0d0887\"],[0.1111111111111111,\"#46039f\"],[0.2222222222222222,\"#7201a8\"],[0.3333333333333333,\"#9c179e\"],[0.4444444444444444,\"#bd3786\"],[0.5555555555555556,\"#d8576b\"],[0.6666666666666666,\"#ed7953\"],[0.7777777777777778,\"#fb9f3a\"],[0.8888888888888888,\"#fdca26\"],[1.0,\"#f0f921\"]],\"sequentialminus\":[[0.0,\"#0d0887\"],[0.1111111111111111,\"#46039f\"],[0.2222222222222222,\"#7201a8\"],[0.3333333333333333,\"#9c179e\"],[0.4444444444444444,\"#bd3786\"],[0.5555555555555556,\"#d8576b\"],[0.6666666666666666,\"#ed7953\"],[0.7777777777777778,\"#fb9f3a\"],[0.8888888888888888,\"#fdca26\"],[1.0,\"#f0f921\"]]},\"colorway\":[\"#636efa\",\"#EF553B\",\"#00cc96\",\"#ab63fa\",\"#FFA15A\",\"#19d3f3\",\"#FF6692\",\"#B6E880\",\"#FF97FF\",\"#FECB52\"],\"font\":{\"color\":\"#2a3f5f\"},\"geo\":{\"bgcolor\":\"white\",\"lakecolor\":\"white\",\"landcolor\":\"#E5ECF6\",\"showlakes\":true,\"showland\":true,\"subunitcolor\":\"white\"},\"hoverlabel\":{\"align\":\"left\"},\"hovermode\":\"closest\",\"mapbox\":{\"style\":\"light\"},\"paper_bgcolor\":\"white\",\"plot_bgcolor\":\"#E5ECF6\",\"polar\":{\"angularaxis\":{\"gridcolor\":\"white\",\"linecolor\":\"white\",\"ticks\":\"\"},\"bgcolor\":\"#E5ECF6\",\"radialaxis\":{\"gridcolor\":\"white\",\"linecolor\":\"white\",\"ticks\":\"\"}},\"scene\":{\"xaxis\":{\"backgroundcolor\":\"#E5ECF6\",\"gridcolor\":\"white\",\"gridwidth\":2,\"linecolor\":\"white\",\"showbackground\":true,\"ticks\":\"\",\"zerolinecolor\":\"white\"},\"yaxis\":{\"backgroundcolor\":\"#E5ECF6\",\"gridcolor\":\"white\",\"gridwidth\":2,\"linecolor\":\"white\",\"showbackground\":true,\"ticks\":\"\",\"zerolinecolor\":\"white\"},\"zaxis\":{\"backgroundcolor\":\"#E5ECF6\",\"gridcolor\":\"white\",\"gridwidth\":2,\"linecolor\":\"white\",\"showbackground\":true,\"ticks\":\"\",\"zerolinecolor\":\"white\"}},\"shapedefaults\":{\"line\":{\"color\":\"#2a3f5f\"}},\"ternary\":{\"aaxis\":{\"gridcolor\":\"white\",\"linecolor\":\"white\",\"ticks\":\"\"},\"baxis\":{\"gridcolor\":\"white\",\"linecolor\":\"white\",\"ticks\":\"\"},\"bgcolor\":\"#E5ECF6\",\"caxis\":{\"gridcolor\":\"white\",\"linecolor\":\"white\",\"ticks\":\"\"}},\"title\":{\"x\":0.05},\"xaxis\":{\"automargin\":true,\"gridcolor\":\"white\",\"linecolor\":\"white\",\"ticks\":\"\",\"title\":{\"standoff\":15},\"zerolinecolor\":\"white\",\"zerolinewidth\":2},\"yaxis\":{\"automargin\":true,\"gridcolor\":\"white\",\"linecolor\":\"white\",\"ticks\":\"\",\"title\":{\"standoff\":15},\"zerolinecolor\":\"white\",\"zerolinewidth\":2}}},\"xaxis\":{\"anchor\":\"y\",\"domain\":[0.0,1.0],\"matches\":\"x3\",\"showticklabels\":false,\"range\":[0,21],\"dtick\":2},\"yaxis\":{\"anchor\":\"x\",\"domain\":[0.79,1.0],\"title\":{\"text\":\"$T_{\\\\text{inner}}\\\\ [\\\\text{K}]$\"},\"automargin\":true,\"tickformat\":\"g\",\"exponentformat\":\"e\",\"nticks\":4},\"xaxis2\":{\"anchor\":\"y2\",\"domain\":[0.0,1.0],\"matches\":\"x\",\"showticklabels\":false,\"range\":[0,21],\"dtick\":2},\"yaxis2\":{\"anchor\":\"x2\",\"domain\":[0.29,0.71],\"title\":{\"text\":\"$\\\\text{Luminosity}~[\\\\text{erg s}^{-1}]$\",\"font\":{\"size\":13}},\"exponentformat\":\"e\",\"automargin\":true,\"nticks\":7},\"xaxis3\":{\"anchor\":\"y3\",\"domain\":[0.0,1.0],\"title\":{\"text\":\"$\\\\mbox{Iteration Number}$\"},\"dtick\":2},\"yaxis3\":{\"anchor\":\"x3\",\"domain\":[0.0,0.21],\"title\":{\"text\":\"$~~\\\\text{Residual}\\\\\\\\\\\\text{Luminosity[%]}$\",\"font\":{\"size\":12}},\"automargin\":true,\"nticks\":4},\"hoverlabel\":{\"align\":\"right\"},\"margin\":{\"b\":25,\"t\":25,\"pad\":0},\"height\":630},                        {\"responsive\": true}                    ).then(function(){\n",
       "                            \n",
       "var gd = document.getElementById('87160de6-a956-4ab4-9172-1830f28c48c6');\n",
       "var x = new MutationObserver(function (mutations, observer) {{\n",
       "        var display = window.getComputedStyle(gd).display;\n",
       "        if (!display || display === 'none') {{\n",
       "            console.log([gd, 'removed!']);\n",
       "            Plotly.purge(gd);\n",
       "            observer.disconnect();\n",
       "        }}\n",
       "}});\n",
       "\n",
       "// Listen for the removal of the full notebook cells\n",
       "var notebookContainer = gd.closest('#notebook-container');\n",
       "if (notebookContainer) {{\n",
       "    x.observe(notebookContainer, {childList: true});\n",
       "}}\n",
       "\n",
       "// Listen for the clearing of the current output cell\n",
       "var outputEl = gd.closest('.output');\n",
       "if (outputEl) {{\n",
       "    x.observe(outputEl, {childList: true});\n",
       "}}\n",
       "\n",
       "                        })                };                });            </script>        </div>"
      ]
     },
     "metadata": {},
     "output_type": "display_data"
    }
   ],
   "source": [
    "# run example simulation from github, use same parameters\n",
    "sim = run_tardis(\"tardis_example.yml\",\n",
    "                 virtual_packet_logging=True,\n",
    "                 show_convergence_plots=True,\n",
    "                 export_convergence_plots=True,\n",
    "                 log_level=\"INFO\")"
   ]
  },
  {
   "cell_type": "code",
   "execution_count": 4,
   "id": "9c656b0b-e25b-4bcc-9684-45b538bf893d",
   "metadata": {},
   "outputs": [],
   "source": [
    "# data from simulation into hdf5 table \n",
    "hdf_path = \"/home/fabian/Escritorio/tardis/example.hdf\" # define path\n",
    "with pd.HDFStore(hdf_path, 'r') as hdf: # read table, separate variables for later use\n",
    "    energy_data = hdf['/simulation/transport/transport_state/output_energy'] \n",
    "    frequency_bins = hdf['/simulation/spectrum_solver/spectrum_real_packets/_frequency'] \n",
    "    wavelength = hdf['/simulation/spectrum_solver/spectrum_real_packets/wavelength']"
   ]
  },
  {
   "cell_type": "code",
   "execution_count": 5,
   "id": "56430077-c48d-4598-bc2c-cbae021c1f78",
   "metadata": {
    "scrolled": true
   },
   "outputs": [],
   "source": [
    "frequency = frequency_bins[:-1] # Create frequency array excluding the last bin edge\n",
    "packet_wavelength_range_mask = np.ones(wavelength.size, dtype=bool) # boolean mask for wavelength array\n",
    "packet_wvl_range_mask = np.ones(wavelength.size, dtype=bool) # filter wavelength ranges"
   ]
  },
  {
   "cell_type": "code",
   "execution_count": 6,
   "id": "2260afbb-1bcc-4d28-80b8-cfd9978fde11",
   "metadata": {},
   "outputs": [],
   "source": [
    "###  Step 1: Emission Luminosities Calculation\n",
    "\n",
    "(emission_luminosities_df, emission_species) = calculate_emission_luminosities(\n",
    "    sim,\n",
    "    \"real\",  # Use real packets mode\n",
    "    packet_wvl_range=None,  # Use full wavelength range\n",
    ")\n",
    "\n",
    "### Step 2: Absorption Luminosities Calculation\n",
    "(absorption_luminosities_df, absorption_species) = calculate_absorption_luminosities(\n",
    "    sim,\n",
    "    packets_mode=\"real\",  # Use real packets mode\n",
    "    packet_wvl_range=None,  # full wavelength range\n",
    ")\n",
    "\n",
    "### Step 3: Calculate total luminosities (adding absorption and emission)\n",
    "# Drop 'noint' and 'escatter' columns from emission before adding to absorption\n",
    "total_luminosities_df = (\n",
    "    absorption_luminosities_df\n",
    "    + emission_luminosities_df.drop([\"noint\", \"escatter\"], axis=1)\n",
    ")\n",
    "\n",
    "### Step 4: Convert atomic numbers to element symbols for plotting\n",
    "species = np.array(list(total_luminosities_df.keys()))  # Species based on DataFrame columns\n",
    "species_name = [\n",
    "    atomic_number2element_symbol(atomic_num) # assign the symbol to the values\n",
    "    for atomic_num in species \n",
    "]\n",
    "species_length = len(species_name) \n",
    "\n",
    "### Step 5: Get the modeled spectrum luminosity for the selected wavelength range\n",
    "modeled_spectrum_luminosity = (\n",
    "    sim.spectrum_solver.spectrum_real_packets.luminosity_density_lambda[\n",
    "        packet_wvl_range_mask  # Apply the wavelength mask\n",
    "    ]\n",
    ")"
   ]
  },
  {
   "cell_type": "code",
   "execution_count": 7,
   "id": "984db0e7-be75-4ac4-901c-7e70b867d096",
   "metadata": {},
   "outputs": [
    {
     "data": {
      "text/plain": [
       "<Axes: xlabel='Wavelength $[\\\\mathrm{\\\\AA}]$', ylabel='$L_{\\\\lambda}$ [erg $\\\\mathrm{s^{-1}}$ $\\\\mathrm{\\\\AA^{-1}}$]'>"
      ]
     },
     "execution_count": 7,
     "metadata": {},
     "output_type": "execute_result"
    },
    {
     "data": {
      "image/png": "[encoded data removed]",
      "text/plain": [
       "<Figure size 1200x700 with 2 Axes>"
      ]
     },
     "metadata": {},
     "output_type": "display_data"
    }
   ],
   "source": [
    "# Import required matplotlib modules for visualization\n",
    "import matplotlib.cm as cm  # For colormaps\n",
    "import matplotlib.colors as clr  # For color mapping and normalization\n",
    "import matplotlib.pyplot as plt  # Plotting\n",
    "\n",
    "# Create figure and axis\n",
    "ax = plt.figure(figsize=(12, 7)).add_subplot(111)\n",
    "\n",
    "# Generate colors for each species using 'jet' colormap\n",
    "# The colors will be evenly distributed across the colormap based on number of species\n",
    "cmap = plt.get_cmap(\"jet\", species_length) \n",
    "color_list = [] # empty list where colors will be\n",
    "color_values = [] \n",
    "\n",
    "# for each specie, assign a color\n",
    "for species_counter in range(species_length):\n",
    "    color = cmap(species_counter / species_length) # normalized\n",
    "    color_list.append(color)\n",
    "    color_values.append(color)\n",
    "\n",
    "# This will be used in the colorbar to show which color corresponds to which species\n",
    "custcmap = clr.ListedColormap(color_values) \n",
    "norm = clr.Normalize(vmin=0, vmax=species_length) # Normalize color range\n",
    "mappable = cm.ScalarMappable(norm=norm, cmap=custcmap) # map \n",
    "mappable.set_array(np.linspace(1, species_length + 1, 256)) \n",
    "\n",
    "# Add colorbar for species representation\n",
    "cbar = plt.colorbar(mappable, ax=ax)\n",
    "bounds = np.arange(species_length) + 0.5\n",
    "cbar.set_ticks(bounds)\n",
    "cbar.set_ticklabels(species_name) # Label ticks with species names\n",
    "\n",
    "# Plot the emission contributions starting with 'no interaction' packets\n",
    "lower_level = np.zeros(emission_luminosities_df.shape[0])  # Start at zero\n",
    "upper_level = lower_level + emission_luminosities_df.noint.to_numpy()\n",
    "ax.fill_between(\n",
    "    wavelength.values,\n",
    "    lower_level,\n",
    "    upper_level,\n",
    "    color=\"#4C4C4C\", \n",
    "    label=\"No interaction\",\n",
    ")\n",
    "\n",
    "# Plot electron scattering contribution\n",
    "# This is stacked on top of the 'no interaction' contribution\n",
    "lower_level = upper_level # Start where 'no interaction' ended\n",
    "upper_level = lower_level + emission_luminosities_df.escatter.to_numpy()\n",
    "ax.fill_between(\n",
    "    wavelength.values,\n",
    "    lower_level,\n",
    "    upper_level,\n",
    "    color=\"#8F8F8F\",\n",
    "    label=\"Electron Scatter Only\",\n",
    ")\n",
    "\n",
    "# Plot the emission contributions for each species by stacking them on top of each other.\n",
    "# The lower level for each species starts where the previous species ended (upper_level),\n",
    "# and the upper level adds that species' emission contribution.\n",
    "# Each species gets a unique color from the colormap defined above.\n",
    "for species_counter, identifier in enumerate(species):\n",
    "    lower_level = upper_level\n",
    "    upper_level = lower_level + emission_luminosities_df[identifier].to_numpy()\n",
    "\n",
    "    ax.fill_between(\n",
    "        wavelength.values,\n",
    "        lower_level,\n",
    "        upper_level,\n",
    "        color=color_list[species_counter],\n",
    "        cmap=cmap,\n",
    "        linewidth=0,\n",
    "    )\n",
    "\n",
    "# The absorption contributions are plotted below zero, showing how each species\n",
    "# absorbs light and reduces the total luminosity. The contributions are stacked\n",
    "# downward from zero, with each species getting the same color as its emission above.\n",
    "lower_level = np.zeros(absorption_luminosities_df.shape[0])\n",
    "for species_counter, identifier in enumerate(species):\n",
    "    upper_level = lower_level\n",
    "    lower_level = (\n",
    "        upper_level - absorption_luminosities_df[identifier].to_numpy()\n",
    "    )\n",
    "\n",
    "    ax.fill_between(\n",
    "        wavelength.values,\n",
    "        upper_level,\n",
    "        lower_level,\n",
    "        color=color_list[species_counter],\n",
    "        cmap=cmap,\n",
    "        linewidth=0,\n",
    "    )\n",
    "\n",
    "\n",
    "# Plot the modeled spectrum\n",
    "ax.plot(\n",
    "    wavelength.values,\n",
    "    modeled_spectrum_luminosity.value,\n",
    "    \"--b\",\n",
    "    label=\"Real Spectrum\",\n",
    "    linewidth=1,\n",
    ")\n",
    "\n",
    "# Add labels, legend, and formatting\n",
    "ax.legend(fontsize=12)\n",
    "ax.set_xlabel(r\"Wavelength $[\\mathrm{\\AA}]$\", fontsize=12)\n",
    "ax.set_ylabel(\n",
    "    r\"$L_{\\lambda}$ [erg $\\mathrm{s^{-1}}$ $\\mathrm{\\AA^{-1}}$]\",\n",
    "    fontsize=12,\n",
    ")\n",
    "plt.gca()"
   ]
  },
  {
   "cell_type": "code",
   "execution_count": 26,
   "id": "1aa32df2-c907-410f-a633-34d15f7a89d1",
   "metadata": {},
   "outputs": [],
   "source": [
    "# filter species to only consider the int values\n",
    "species_numeric = emission_luminosities_df.columns \n",
    "filtered_species_numeric = [spec for spec in species_numeric if isinstance(spec, int)]\n",
    "species_numeric = filtered_species_numeric"
   ]
  },
  {
   "cell_type": "code",
   "execution_count": 27,
   "id": "8691d2db-6a93-4fc3-9c2f-5e902023640c",
   "metadata": {},
   "outputs": [
    {
     "data": {
      "application/vnd.plotly.v1+json": {
       "config": {
        "plotlyServerURL": "https://plot.ly"
       },
       "data": [
        {
         "alignmentgroup": "True",
         "hovertemplate": "Element=%{x}<br>Emission Luminosity[erg/s]=%{y}<extra></extra>",
         "legendgroup": "O",
         "marker": {
          "color": "#636efa",
          "pattern": {
           "shape": ""
          }
         },
         "name": "O",
         "offsetgroup": "O",
         "orientation": "v",
         "showlegend": true,
         "textposition": "auto",
         "type": "bar",
         "x": [
          "O"
         ],
         "xaxis": "x",
         "y": [
          3.9086733156516046e+40
         ],
         "yaxis": "y"
        },
        {
         "alignmentgroup": "True",
         "hovertemplate": "Element=%{x}<br>Emission Luminosity[erg/s]=%{y}<extra></extra>",
         "legendgroup": "Mg",
         "marker": {
          "color": "#EF553B",
          "pattern": {
           "shape": ""
          }
         },
         "name": "Mg",
         "offsetgroup": "Mg",
         "orientation": "v",
         "showlegend": true,
         "textposition": "auto",
         "type": "bar",
         "x": [
          "Mg"
         ],
         "xaxis": "x",
         "y": [
          1.7094161169736486e+41
         ],
         "yaxis": "y"
        },
        {
         "alignmentgroup": "True",
         "hovertemplate": "Element=%{x}<br>Emission Luminosity[erg/s]=%{y}<extra></extra>",
         "legendgroup": "Si",
         "marker": {
          "color": "#00cc96",
          "pattern": {
           "shape": ""
          }
         },
         "name": "Si",
         "offsetgroup": "Si",
         "orientation": "v",
         "showlegend": true,
         "textposition": "auto",
         "type": "bar",
         "x": [
          "Si"
         ],
         "xaxis": "x",
         "y": [
          1.4429998736143223e+42
         ],
         "yaxis": "y"
        },
        {
         "alignmentgroup": "True",
         "hovertemplate": "Element=%{x}<br>Emission Luminosity[erg/s]=%{y}<extra></extra>",
         "legendgroup": "S",
         "marker": {
          "color": "#ab63fa",
          "pattern": {
           "shape": ""
          }
         },
         "name": "S",
         "offsetgroup": "S",
         "orientation": "v",
         "showlegend": true,
         "textposition": "auto",
         "type": "bar",
         "x": [
          "S"
         ],
         "xaxis": "x",
         "y": [
          1.7666964563847327e+41
         ],
         "yaxis": "y"
        },
        {
         "alignmentgroup": "True",
         "hovertemplate": "Element=%{x}<br>Emission Luminosity[erg/s]=%{y}<extra></extra>",
         "legendgroup": "Ar",
         "marker": {
          "color": "#FFA15A",
          "pattern": {
           "shape": ""
          }
         },
         "name": "Ar",
         "offsetgroup": "Ar",
         "orientation": "v",
         "showlegend": true,
         "textposition": "auto",
         "type": "bar",
         "x": [
          "Ar"
         ],
         "xaxis": "x",
         "y": [
          5.597720799496036e+40
         ],
         "yaxis": "y"
        },
        {
         "alignmentgroup": "True",
         "hovertemplate": "Element=%{x}<br>Emission Luminosity[erg/s]=%{y}<extra></extra>",
         "legendgroup": "Ca",
         "marker": {
          "color": "#19d3f3",
          "pattern": {
           "shape": ""
          }
         },
         "name": "Ca",
         "offsetgroup": "Ca",
         "orientation": "v",
         "showlegend": true,
         "textposition": "auto",
         "type": "bar",
         "x": [
          "Ca"
         ],
         "xaxis": "x",
         "y": [
          5.718640203146502e+40
         ],
         "yaxis": "y"
        }
       ],
       "layout": {
        "autosize": true,
        "barmode": "relative",
        "legend": {
         "title": {
          "text": "Element"
         },
         "tracegroupgap": 0
        },
        "template": {
         "data": {
          "bar": [
           {
            "error_x": {
             "color": "#2a3f5f"
            },
            "error_y": {
             "color": "#2a3f5f"
            },
            "marker": {
             "line": {
              "color": "#E5ECF6",
              "width": 0.5
             },
             "pattern": {
              "fillmode": "overlay",
              "size": 10,
              "solidity": 0.2
             }
            },
            "type": "bar"
           }
          ],
          "barpolar": [
           {
            "marker": {
             "line": {
              "color": "#E5ECF6",
              "width": 0.5
             },
             "pattern": {
              "fillmode": "overlay",
              "size": 10,
              "solidity": 0.2
             }
            },
            "type": "barpolar"
           }
          ],
          "carpet": [
           {
            "aaxis": {
             "endlinecolor": "#2a3f5f",
             "gridcolor": "white",
             "linecolor": "white",
             "minorgridcolor": "white",
             "startlinecolor": "#2a3f5f"
            },
            "baxis": {
             "endlinecolor": "#2a3f5f",
             "gridcolor": "white",
             "linecolor": "white",
             "minorgridcolor": "white",
             "startlinecolor": "#2a3f5f"
            },
            "type": "carpet"
           }
          ],
          "choropleth": [
           {
            "colorbar": {
             "outlinewidth": 0,
             "ticks": ""
            },
            "type": "choropleth"
           }
          ],
          "contour": [
           {
            "colorbar": {
             "outlinewidth": 0,
             "ticks": ""
            },
            "colorscale": [
             [
              0,
              "#0d0887"
             ],
             [
              0.1111111111111111,
              "#46039f"
             ],
             [
              0.2222222222222222,
              "#7201a8"
             ],
             [
              0.3333333333333333,
              "#9c179e"
             ],
             [
              0.4444444444444444,
              "#bd3786"
             ],
             [
              0.5555555555555556,
              "#d8576b"
             ],
             [
              0.6666666666666666,
              "#ed7953"
             ],
             [
              0.7777777777777778,
              "#fb9f3a"
             ],
             [
              0.8888888888888888,
              "#fdca26"
             ],
             [
              1,
              "#f0f921"
             ]
            ],
            "type": "contour"
           }
          ],
          "contourcarpet": [
           {
            "colorbar": {
             "outlinewidth": 0,
             "ticks": ""
            },
            "type": "contourcarpet"
           }
          ],
          "heatmap": [
           {
            "colorbar": {
             "outlinewidth": 0,
             "ticks": ""
            },
            "colorscale": [
             [
              0,
              "#0d0887"
             ],
             [
              0.1111111111111111,
              "#46039f"
             ],
             [
              0.2222222222222222,
              "#7201a8"
             ],
             [
              0.3333333333333333,
              "#9c179e"
             ],
             [
              0.4444444444444444,
              "#bd3786"
             ],
             [
              0.5555555555555556,
              "#d8576b"
             ],
             [
              0.6666666666666666,
              "#ed7953"
             ],
             [
              0.7777777777777778,
              "#fb9f3a"
             ],
             [
              0.8888888888888888,
              "#fdca26"
             ],
             [
              1,
              "#f0f921"
             ]
            ],
            "type": "heatmap"
           }
          ],
          "heatmapgl": [
           {
            "colorbar": {
             "outlinewidth": 0,
             "ticks": ""
            },
            "colorscale": [
             [
              0,
              "#0d0887"
             ],
             [
              0.1111111111111111,
              "#46039f"
             ],
             [
              0.2222222222222222,
              "#7201a8"
             ],
             [
              0.3333333333333333,
              "#9c179e"
             ],
             [
              0.4444444444444444,
              "#bd3786"
             ],
             [
              0.5555555555555556,
              "#d8576b"
             ],
             [
              0.6666666666666666,
              "#ed7953"
             ],
             [
              0.7777777777777778,
              "#fb9f3a"
             ],
             [
              0.8888888888888888,
              "#fdca26"
             ],
             [
              1,
              "#f0f921"
             ]
            ],
            "type": "heatmapgl"
           }
          ],
          "histogram": [
           {
            "marker": {
             "pattern": {
              "fillmode": "overlay",
              "size": 10,
              "solidity": 0.2
             }
            },
            "type": "histogram"
           }
          ],
          "histogram2d": [
           {
            "colorbar": {
             "outlinewidth": 0,
             "ticks": ""
            },
            "colorscale": [
             [
              0,
              "#0d0887"
             ],
             [
              0.1111111111111111,
              "#46039f"
             ],
             [
              0.2222222222222222,
              "#7201a8"
             ],
             [
              0.3333333333333333,
              "#9c179e"
             ],
             [
              0.4444444444444444,
              "#bd3786"
             ],
             [
              0.5555555555555556,
              "#d8576b"
             ],
             [
              0.6666666666666666,
              "#ed7953"
             ],
             [
              0.7777777777777778,
              "#fb9f3a"
             ],
             [
              0.8888888888888888,
              "#fdca26"
             ],
             [
              1,
              "#f0f921"
             ]
            ],
            "type": "histogram2d"
           }
          ],
          "histogram2dcontour": [
           {
            "colorbar": {
             "outlinewidth": 0,
             "ticks": ""
            },
            "colorscale": [
             [
              0,
              "#0d0887"
             ],
             [
              0.1111111111111111,
              "#46039f"
             ],
             [
              0.2222222222222222,
              "#7201a8"
             ],
             [
              0.3333333333333333,
              "#9c179e"
             ],
             [
              0.4444444444444444,
              "#bd3786"
             ],
             [
              0.5555555555555556,
              "#d8576b"
             ],
             [
              0.6666666666666666,
              "#ed7953"
             ],
             [
              0.7777777777777778,
              "#fb9f3a"
             ],
             [
              0.8888888888888888,
              "#fdca26"
             ],
             [
              1,
              "#f0f921"
             ]
            ],
            "type": "histogram2dcontour"
           }
          ],
          "mesh3d": [
           {
            "colorbar": {
             "outlinewidth": 0,
             "ticks": ""
            },
            "type": "mesh3d"
           }
          ],
          "parcoords": [
           {
            "line": {
             "colorbar": {
              "outlinewidth": 0,
              "ticks": ""
             }
            },
            "type": "parcoords"
           }
          ],
          "pie": [
           {
            "automargin": true,
            "type": "pie"
           }
          ],
          "scatter": [
           {
            "fillpattern": {
             "fillmode": "overlay",
             "size": 10,
             "solidity": 0.2
            },
            "type": "scatter"
           }
          ],
          "scatter3d": [
           {
            "line": {
             "colorbar": {
              "outlinewidth": 0,
              "ticks": ""
             }
            },
            "marker": {
             "colorbar": {
              "outlinewidth": 0,
              "ticks": ""
             }
            },
            "type": "scatter3d"
           }
          ],
          "scattercarpet": [
           {
            "marker": {
             "colorbar": {
              "outlinewidth": 0,
              "ticks": ""
             }
            },
            "type": "scattercarpet"
           }
          ],
          "scattergeo": [
           {
            "marker": {
             "colorbar": {
              "outlinewidth": 0,
              "ticks": ""
             }
            },
            "type": "scattergeo"
           }
          ],
          "scattergl": [
           {
            "marker": {
             "colorbar": {
              "outlinewidth": 0,
              "ticks": ""
             }
            },
            "type": "scattergl"
           }
          ],
          "scattermapbox": [
           {
            "marker": {
             "colorbar": {
              "outlinewidth": 0,
              "ticks": ""
             }
            },
            "type": "scattermapbox"
           }
          ],
          "scatterpolar": [
           {
            "marker": {
             "colorbar": {
              "outlinewidth": 0,
              "ticks": ""
             }
            },
            "type": "scatterpolar"
           }
          ],
          "scatterpolargl": [
           {
            "marker": {
             "colorbar": {
              "outlinewidth": 0,
              "ticks": ""
             }
            },
            "type": "scatterpolargl"
           }
          ],
          "scatterternary": [
           {
            "marker": {
             "colorbar": {
              "outlinewidth": 0,
              "ticks": ""
             }
            },
            "type": "scatterternary"
           }
          ],
          "surface": [
           {
            "colorbar": {
             "outlinewidth": 0,
             "ticks": ""
            },
            "colorscale": [
             [
              0,
              "#0d0887"
             ],
             [
              0.1111111111111111,
              "#46039f"
             ],
             [
              0.2222222222222222,
              "#7201a8"
             ],
             [
              0.3333333333333333,
              "#9c179e"
             ],
             [
              0.4444444444444444,
              "#bd3786"
             ],
             [
              0.5555555555555556,
              "#d8576b"
             ],
             [
              0.6666666666666666,
              "#ed7953"
             ],
             [
              0.7777777777777778,
              "#fb9f3a"
             ],
             [
              0.8888888888888888,
              "#fdca26"
             ],
             [
              1,
              "#f0f921"
             ]
            ],
            "type": "surface"
           }
          ],
          "table": [
           {
            "cells": {
             "fill": {
              "color": "#EBF0F8"
             },
             "line": {
              "color": "white"
             }
            },
            "header": {
             "fill": {
              "color": "#C8D4E3"
             },
             "line": {
              "color": "white"
             }
            },
            "type": "table"
           }
          ]
         },
         "layout": {
          "annotationdefaults": {
           "arrowcolor": "#2a3f5f",
           "arrowhead": 0,
           "arrowwidth": 1
          },
          "autotypenumbers": "strict",
          "coloraxis": {
           "colorbar": {
            "outlinewidth": 0,
            "ticks": ""
           }
          },
          "colorscale": {
           "diverging": [
            [
             0,
             "#8e0152"
            ],
            [
             0.1,
             "#c51b7d"
            ],
            [
             0.2,
             "#de77ae"
            ],
            [
             0.3,
             "#f1b6da"
            ],
            [
             0.4,
             "#fde0ef"
            ],
            [
             0.5,
             "#f7f7f7"
            ],
            [
             0.6,
             "#e6f5d0"
            ],
            [
             0.7,
             "#b8e186"
            ],
            [
             0.8,
             "#7fbc41"
            ],
            [
             0.9,
             "#4d9221"
            ],
            [
             1,
             "#276419"
            ]
           ],
           "sequential": [
            [
             0,
             "#0d0887"
            ],
            [
             0.1111111111111111,
             "#46039f"
            ],
            [
             0.2222222222222222,
             "#7201a8"
            ],
            [
             0.3333333333333333,
             "#9c179e"
            ],
            [
             0.4444444444444444,
             "#bd3786"
            ],
            [
             0.5555555555555556,
             "#d8576b"
            ],
            [
             0.6666666666666666,
             "#ed7953"
            ],
            [
             0.7777777777777778,
             "#fb9f3a"
            ],
            [
             0.8888888888888888,
             "#fdca26"
            ],
            [
             1,
             "#f0f921"
            ]
           ],
           "sequentialminus": [
            [
             0,
             "#0d0887"
            ],
            [
             0.1111111111111111,
             "#46039f"
            ],
            [
             0.2222222222222222,
             "#7201a8"
            ],
            [
             0.3333333333333333,
             "#9c179e"
            ],
            [
             0.4444444444444444,
             "#bd3786"
            ],
            [
             0.5555555555555556,
             "#d8576b"
            ],
            [
             0.6666666666666666,
             "#ed7953"
            ],
            [
             0.7777777777777778,
             "#fb9f3a"
            ],
            [
             0.8888888888888888,
             "#fdca26"
            ],
            [
             1,
             "#f0f921"
            ]
           ]
          },
          "colorway": [
           "#636efa",
           "#EF553B",
           "#00cc96",
           "#ab63fa",
           "#FFA15A",
           "#19d3f3",
           "#FF6692",
           "#B6E880",
           "#FF97FF",
           "#FECB52"
          ],
          "font": {
           "color": "#2a3f5f"
          },
          "geo": {
           "bgcolor": "white",
           "lakecolor": "white",
           "landcolor": "#E5ECF6",
           "showlakes": true,
           "showland": true,
           "subunitcolor": "white"
          },
          "hoverlabel": {
           "align": "left"
          },
          "hovermode": "closest",
          "mapbox": {
           "style": "light"
          },
          "paper_bgcolor": "white",
          "plot_bgcolor": "#E5ECF6",
          "polar": {
           "angularaxis": {
            "gridcolor": "white",
            "linecolor": "white",
            "ticks": ""
           },
           "bgcolor": "#E5ECF6",
           "radialaxis": {
            "gridcolor": "white",
            "linecolor": "white",
            "ticks": ""
           }
          },
          "scene": {
           "xaxis": {
            "backgroundcolor": "#E5ECF6",
            "gridcolor": "white",
            "gridwidth": 2,
            "linecolor": "white",
            "showbackground": true,
            "ticks": "",
            "zerolinecolor": "white"
           },
           "yaxis": {
            "backgroundcolor": "#E5ECF6",
            "gridcolor": "white",
            "gridwidth": 2,
            "linecolor": "white",
            "showbackground": true,
            "ticks": "",
            "zerolinecolor": "white"
           },
           "zaxis": {
            "backgroundcolor": "#E5ECF6",
            "gridcolor": "white",
            "gridwidth": 2,
            "linecolor": "white",
            "showbackground": true,
            "ticks": "",
            "zerolinecolor": "white"
           }
          },
          "shapedefaults": {
           "line": {
            "color": "#2a3f5f"
           }
          },
          "ternary": {
           "aaxis": {
            "gridcolor": "white",
            "linecolor": "white",
            "ticks": ""
           },
           "baxis": {
            "gridcolor": "white",
            "linecolor": "white",
            "ticks": ""
           },
           "bgcolor": "#E5ECF6",
           "caxis": {
            "gridcolor": "white",
            "linecolor": "white",
            "ticks": ""
           }
          },
          "title": {
           "x": 0.05
          },
          "xaxis": {
           "automargin": true,
           "gridcolor": "white",
           "linecolor": "white",
           "ticks": "",
           "title": {
            "standoff": 15
           },
           "zerolinecolor": "white",
           "zerolinewidth": 2
          },
          "yaxis": {
           "automargin": true,
           "gridcolor": "white",
           "linecolor": "white",
           "ticks": "",
           "title": {
            "standoff": 15
           },
           "zerolinecolor": "white",
           "zerolinewidth": 2
          }
         }
        },
        "title": {
         "text": "Energy Packets by Element"
        },
        "xaxis": {
         "anchor": "y",
         "autorange": true,
         "categoryarray": [
          "O",
          "Mg",
          "Si",
          "S",
          "Ar",
          "Ca"
         ],
         "categoryorder": "array",
         "domain": [
          0,
          1
         ],
         "range": [
          -0.5,
          5.5
         ],
         "title": {
          "text": "Element"
         },
         "type": "category"
        },
        "yaxis": {
         "anchor": "x",
         "autorange": true,
         "domain": [
          0,
          1
         ],
         "range": [
          0,
          1.518947235383497e+42
         ],
         "title": {
          "text": "Emission Luminosity[erg/s]"
         },
         "type": "linear"
        }
       }
      },
      "image/png": "[encoded data removed]",
      "text/html": [
       "<div>                            <div id=\"65643064-3242-45e0-b730-96653d34bdb8\" class=\"plotly-graph-div\" style=\"height:525px; width:100%;\"></div>            <script type=\"text/javascript\">                require([\"plotly\"], function(Plotly) {                    window.PLOTLYENV=window.PLOTLYENV || {};                                    if (document.getElementById(\"65643064-3242-45e0-b730-96653d34bdb8\")) {                    Plotly.newPlot(                        \"65643064-3242-45e0-b730-96653d34bdb8\",                        [{\"alignmentgroup\":\"True\",\"hovertemplate\":\"Element=%{x}\\u003cbr\\u003eEmission Luminosity[erg\\u002fs]=%{y}\\u003cextra\\u003e\\u003c\\u002fextra\\u003e\",\"legendgroup\":\"O\",\"marker\":{\"color\":\"#636efa\",\"pattern\":{\"shape\":\"\"}},\"name\":\"O\",\"offsetgroup\":\"O\",\"orientation\":\"v\",\"showlegend\":true,\"textposition\":\"auto\",\"x\":[\"O\"],\"xaxis\":\"x\",\"y\":[3.9086733156516046e+40],\"yaxis\":\"y\",\"type\":\"bar\"},{\"alignmentgroup\":\"True\",\"hovertemplate\":\"Element=%{x}\\u003cbr\\u003eEmission Luminosity[erg\\u002fs]=%{y}\\u003cextra\\u003e\\u003c\\u002fextra\\u003e\",\"legendgroup\":\"Mg\",\"marker\":{\"color\":\"#EF553B\",\"pattern\":{\"shape\":\"\"}},\"name\":\"Mg\",\"offsetgroup\":\"Mg\",\"orientation\":\"v\",\"showlegend\":true,\"textposition\":\"auto\",\"x\":[\"Mg\"],\"xaxis\":\"x\",\"y\":[1.7094161169736486e+41],\"yaxis\":\"y\",\"type\":\"bar\"},{\"alignmentgroup\":\"True\",\"hovertemplate\":\"Element=%{x}\\u003cbr\\u003eEmission Luminosity[erg\\u002fs]=%{y}\\u003cextra\\u003e\\u003c\\u002fextra\\u003e\",\"legendgroup\":\"Si\",\"marker\":{\"color\":\"#00cc96\",\"pattern\":{\"shape\":\"\"}},\"name\":\"Si\",\"offsetgroup\":\"Si\",\"orientation\":\"v\",\"showlegend\":true,\"textposition\":\"auto\",\"x\":[\"Si\"],\"xaxis\":\"x\",\"y\":[1.4429998736143223e+42],\"yaxis\":\"y\",\"type\":\"bar\"},{\"alignmentgroup\":\"True\",\"hovertemplate\":\"Element=%{x}\\u003cbr\\u003eEmission Luminosity[erg\\u002fs]=%{y}\\u003cextra\\u003e\\u003c\\u002fextra\\u003e\",\"legendgroup\":\"S\",\"marker\":{\"color\":\"#ab63fa\",\"pattern\":{\"shape\":\"\"}},\"name\":\"S\",\"offsetgroup\":\"S\",\"orientation\":\"v\",\"showlegend\":true,\"textposition\":\"auto\",\"x\":[\"S\"],\"xaxis\":\"x\",\"y\":[1.7666964563847327e+41],\"yaxis\":\"y\",\"type\":\"bar\"},{\"alignmentgroup\":\"True\",\"hovertemplate\":\"Element=%{x}\\u003cbr\\u003eEmission Luminosity[erg\\u002fs]=%{y}\\u003cextra\\u003e\\u003c\\u002fextra\\u003e\",\"legendgroup\":\"Ar\",\"marker\":{\"color\":\"#FFA15A\",\"pattern\":{\"shape\":\"\"}},\"name\":\"Ar\",\"offsetgroup\":\"Ar\",\"orientation\":\"v\",\"showlegend\":true,\"textposition\":\"auto\",\"x\":[\"Ar\"],\"xaxis\":\"x\",\"y\":[5.597720799496036e+40],\"yaxis\":\"y\",\"type\":\"bar\"},{\"alignmentgroup\":\"True\",\"hovertemplate\":\"Element=%{x}\\u003cbr\\u003eEmission Luminosity[erg\\u002fs]=%{y}\\u003cextra\\u003e\\u003c\\u002fextra\\u003e\",\"legendgroup\":\"Ca\",\"marker\":{\"color\":\"#19d3f3\",\"pattern\":{\"shape\":\"\"}},\"name\":\"Ca\",\"offsetgroup\":\"Ca\",\"orientation\":\"v\",\"showlegend\":true,\"textposition\":\"auto\",\"x\":[\"Ca\"],\"xaxis\":\"x\",\"y\":[5.718640203146502e+40],\"yaxis\":\"y\",\"type\":\"bar\"}],                        {\"template\":{\"data\":{\"histogram2dcontour\":[{\"type\":\"histogram2dcontour\",\"colorbar\":{\"outlinewidth\":0,\"ticks\":\"\"},\"colorscale\":[[0.0,\"#0d0887\"],[0.1111111111111111,\"#46039f\"],[0.2222222222222222,\"#7201a8\"],[0.3333333333333333,\"#9c179e\"],[0.4444444444444444,\"#bd3786\"],[0.5555555555555556,\"#d8576b\"],[0.6666666666666666,\"#ed7953\"],[0.7777777777777778,\"#fb9f3a\"],[0.8888888888888888,\"#fdca26\"],[1.0,\"#f0f921\"]]}],\"choropleth\":[{\"type\":\"choropleth\",\"colorbar\":{\"outlinewidth\":0,\"ticks\":\"\"}}],\"histogram2d\":[{\"type\":\"histogram2d\",\"colorbar\":{\"outlinewidth\":0,\"ticks\":\"\"},\"colorscale\":[[0.0,\"#0d0887\"],[0.1111111111111111,\"#46039f\"],[0.2222222222222222,\"#7201a8\"],[0.3333333333333333,\"#9c179e\"],[0.4444444444444444,\"#bd3786\"],[0.5555555555555556,\"#d8576b\"],[0.6666666666666666,\"#ed7953\"],[0.7777777777777778,\"#fb9f3a\"],[0.8888888888888888,\"#fdca26\"],[1.0,\"#f0f921\"]]}],\"heatmap\":[{\"type\":\"heatmap\",\"colorbar\":{\"outlinewidth\":0,\"ticks\":\"\"},\"colorscale\":[[0.0,\"#0d0887\"],[0.1111111111111111,\"#46039f\"],[0.2222222222222222,\"#7201a8\"],[0.3333333333333333,\"#9c179e\"],[0.4444444444444444,\"#bd3786\"],[0.5555555555555556,\"#d8576b\"],[0.6666666666666666,\"#ed7953\"],[0.7777777777777778,\"#fb9f3a\"],[0.8888888888888888,\"#fdca26\"],[1.0,\"#f0f921\"]]}],\"heatmapgl\":[{\"type\":\"heatmapgl\",\"colorbar\":{\"outlinewidth\":0,\"ticks\":\"\"},\"colorscale\":[[0.0,\"#0d0887\"],[0.1111111111111111,\"#46039f\"],[0.2222222222222222,\"#7201a8\"],[0.3333333333333333,\"#9c179e\"],[0.4444444444444444,\"#bd3786\"],[0.5555555555555556,\"#d8576b\"],[0.6666666666666666,\"#ed7953\"],[0.7777777777777778,\"#fb9f3a\"],[0.8888888888888888,\"#fdca26\"],[1.0,\"#f0f921\"]]}],\"contourcarpet\":[{\"type\":\"contourcarpet\",\"colorbar\":{\"outlinewidth\":0,\"ticks\":\"\"}}],\"contour\":[{\"type\":\"contour\",\"colorbar\":{\"outlinewidth\":0,\"ticks\":\"\"},\"colorscale\":[[0.0,\"#0d0887\"],[0.1111111111111111,\"#46039f\"],[0.2222222222222222,\"#7201a8\"],[0.3333333333333333,\"#9c179e\"],[0.4444444444444444,\"#bd3786\"],[0.5555555555555556,\"#d8576b\"],[0.6666666666666666,\"#ed7953\"],[0.7777777777777778,\"#fb9f3a\"],[0.8888888888888888,\"#fdca26\"],[1.0,\"#f0f921\"]]}],\"surface\":[{\"type\":\"surface\",\"colorbar\":{\"outlinewidth\":0,\"ticks\":\"\"},\"colorscale\":[[0.0,\"#0d0887\"],[0.1111111111111111,\"#46039f\"],[0.2222222222222222,\"#7201a8\"],[0.3333333333333333,\"#9c179e\"],[0.4444444444444444,\"#bd3786\"],[0.5555555555555556,\"#d8576b\"],[0.6666666666666666,\"#ed7953\"],[0.7777777777777778,\"#fb9f3a\"],[0.8888888888888888,\"#fdca26\"],[1.0,\"#f0f921\"]]}],\"mesh3d\":[{\"type\":\"mesh3d\",\"colorbar\":{\"outlinewidth\":0,\"ticks\":\"\"}}],\"scatter\":[{\"fillpattern\":{\"fillmode\":\"overlay\",\"size\":10,\"solidity\":0.2},\"type\":\"scatter\"}],\"parcoords\":[{\"type\":\"parcoords\",\"line\":{\"colorbar\":{\"outlinewidth\":0,\"ticks\":\"\"}}}],\"scatterpolargl\":[{\"type\":\"scatterpolargl\",\"marker\":{\"colorbar\":{\"outlinewidth\":0,\"ticks\":\"\"}}}],\"bar\":[{\"error_x\":{\"color\":\"#2a3f5f\"},\"error_y\":{\"color\":\"#2a3f5f\"},\"marker\":{\"line\":{\"color\":\"#E5ECF6\",\"width\":0.5},\"pattern\":{\"fillmode\":\"overlay\",\"size\":10,\"solidity\":0.2}},\"type\":\"bar\"}],\"scattergeo\":[{\"type\":\"scattergeo\",\"marker\":{\"colorbar\":{\"outlinewidth\":0,\"ticks\":\"\"}}}],\"scatterpolar\":[{\"type\":\"scatterpolar\",\"marker\":{\"colorbar\":{\"outlinewidth\":0,\"ticks\":\"\"}}}],\"histogram\":[{\"marker\":{\"pattern\":{\"fillmode\":\"overlay\",\"size\":10,\"solidity\":0.2}},\"type\":\"histogram\"}],\"scattergl\":[{\"type\":\"scattergl\",\"marker\":{\"colorbar\":{\"outlinewidth\":0,\"ticks\":\"\"}}}],\"scatter3d\":[{\"type\":\"scatter3d\",\"line\":{\"colorbar\":{\"outlinewidth\":0,\"ticks\":\"\"}},\"marker\":{\"colorbar\":{\"outlinewidth\":0,\"ticks\":\"\"}}}],\"scattermapbox\":[{\"type\":\"scattermapbox\",\"marker\":{\"colorbar\":{\"outlinewidth\":0,\"ticks\":\"\"}}}],\"scatterternary\":[{\"type\":\"scatterternary\",\"marker\":{\"colorbar\":{\"outlinewidth\":0,\"ticks\":\"\"}}}],\"scattercarpet\":[{\"type\":\"scattercarpet\",\"marker\":{\"colorbar\":{\"outlinewidth\":0,\"ticks\":\"\"}}}],\"carpet\":[{\"aaxis\":{\"endlinecolor\":\"#2a3f5f\",\"gridcolor\":\"white\",\"linecolor\":\"white\",\"minorgridcolor\":\"white\",\"startlinecolor\":\"#2a3f5f\"},\"baxis\":{\"endlinecolor\":\"#2a3f5f\",\"gridcolor\":\"white\",\"linecolor\":\"white\",\"minorgridcolor\":\"white\",\"startlinecolor\":\"#2a3f5f\"},\"type\":\"carpet\"}],\"table\":[{\"cells\":{\"fill\":{\"color\":\"#EBF0F8\"},\"line\":{\"color\":\"white\"}},\"header\":{\"fill\":{\"color\":\"#C8D4E3\"},\"line\":{\"color\":\"white\"}},\"type\":\"table\"}],\"barpolar\":[{\"marker\":{\"line\":{\"color\":\"#E5ECF6\",\"width\":0.5},\"pattern\":{\"fillmode\":\"overlay\",\"size\":10,\"solidity\":0.2}},\"type\":\"barpolar\"}],\"pie\":[{\"automargin\":true,\"type\":\"pie\"}]},\"layout\":{\"autotypenumbers\":\"strict\",\"colorway\":[\"#636efa\",\"#EF553B\",\"#00cc96\",\"#ab63fa\",\"#FFA15A\",\"#19d3f3\",\"#FF6692\",\"#B6E880\",\"#FF97FF\",\"#FECB52\"],\"font\":{\"color\":\"#2a3f5f\"},\"hovermode\":\"closest\",\"hoverlabel\":{\"align\":\"left\"},\"paper_bgcolor\":\"white\",\"plot_bgcolor\":\"#E5ECF6\",\"polar\":{\"bgcolor\":\"#E5ECF6\",\"angularaxis\":{\"gridcolor\":\"white\",\"linecolor\":\"white\",\"ticks\":\"\"},\"radialaxis\":{\"gridcolor\":\"white\",\"linecolor\":\"white\",\"ticks\":\"\"}},\"ternary\":{\"bgcolor\":\"#E5ECF6\",\"aaxis\":{\"gridcolor\":\"white\",\"linecolor\":\"white\",\"ticks\":\"\"},\"baxis\":{\"gridcolor\":\"white\",\"linecolor\":\"white\",\"ticks\":\"\"},\"caxis\":{\"gridcolor\":\"white\",\"linecolor\":\"white\",\"ticks\":\"\"}},\"coloraxis\":{\"colorbar\":{\"outlinewidth\":0,\"ticks\":\"\"}},\"colorscale\":{\"sequential\":[[0.0,\"#0d0887\"],[0.1111111111111111,\"#46039f\"],[0.2222222222222222,\"#7201a8\"],[0.3333333333333333,\"#9c179e\"],[0.4444444444444444,\"#bd3786\"],[0.5555555555555556,\"#d8576b\"],[0.6666666666666666,\"#ed7953\"],[0.7777777777777778,\"#fb9f3a\"],[0.8888888888888888,\"#fdca26\"],[1.0,\"#f0f921\"]],\"sequentialminus\":[[0.0,\"#0d0887\"],[0.1111111111111111,\"#46039f\"],[0.2222222222222222,\"#7201a8\"],[0.3333333333333333,\"#9c179e\"],[0.4444444444444444,\"#bd3786\"],[0.5555555555555556,\"#d8576b\"],[0.6666666666666666,\"#ed7953\"],[0.7777777777777778,\"#fb9f3a\"],[0.8888888888888888,\"#fdca26\"],[1.0,\"#f0f921\"]],\"diverging\":[[0,\"#8e0152\"],[0.1,\"#c51b7d\"],[0.2,\"#de77ae\"],[0.3,\"#f1b6da\"],[0.4,\"#fde0ef\"],[0.5,\"#f7f7f7\"],[0.6,\"#e6f5d0\"],[0.7,\"#b8e186\"],[0.8,\"#7fbc41\"],[0.9,\"#4d9221\"],[1,\"#276419\"]]},\"xaxis\":{\"gridcolor\":\"white\",\"linecolor\":\"white\",\"ticks\":\"\",\"title\":{\"standoff\":15},\"zerolinecolor\":\"white\",\"automargin\":true,\"zerolinewidth\":2},\"yaxis\":{\"gridcolor\":\"white\",\"linecolor\":\"white\",\"ticks\":\"\",\"title\":{\"standoff\":15},\"zerolinecolor\":\"white\",\"automargin\":true,\"zerolinewidth\":2},\"scene\":{\"xaxis\":{\"backgroundcolor\":\"#E5ECF6\",\"gridcolor\":\"white\",\"linecolor\":\"white\",\"showbackground\":true,\"ticks\":\"\",\"zerolinecolor\":\"white\",\"gridwidth\":2},\"yaxis\":{\"backgroundcolor\":\"#E5ECF6\",\"gridcolor\":\"white\",\"linecolor\":\"white\",\"showbackground\":true,\"ticks\":\"\",\"zerolinecolor\":\"white\",\"gridwidth\":2},\"zaxis\":{\"backgroundcolor\":\"#E5ECF6\",\"gridcolor\":\"white\",\"linecolor\":\"white\",\"showbackground\":true,\"ticks\":\"\",\"zerolinecolor\":\"white\",\"gridwidth\":2}},\"shapedefaults\":{\"line\":{\"color\":\"#2a3f5f\"}},\"annotationdefaults\":{\"arrowcolor\":\"#2a3f5f\",\"arrowhead\":0,\"arrowwidth\":1},\"geo\":{\"bgcolor\":\"white\",\"landcolor\":\"#E5ECF6\",\"subunitcolor\":\"white\",\"showland\":true,\"showlakes\":true,\"lakecolor\":\"white\"},\"title\":{\"x\":0.05},\"mapbox\":{\"style\":\"light\"}}},\"xaxis\":{\"anchor\":\"y\",\"domain\":[0.0,1.0],\"title\":{\"text\":\"Element\"},\"categoryorder\":\"array\",\"categoryarray\":[\"O\",\"Mg\",\"Si\",\"S\",\"Ar\",\"Ca\"]},\"yaxis\":{\"anchor\":\"x\",\"domain\":[0.0,1.0],\"title\":{\"text\":\"Emission Luminosity[erg\\u002fs]\"}},\"legend\":{\"title\":{\"text\":\"Element\"},\"tracegroupgap\":0},\"title\":{\"text\":\"Energy Packets by Element\"},\"barmode\":\"relative\"},                        {\"responsive\": true}                    ).then(function(){\n",
       "                            \n",
       "var gd = document.getElementById('65643064-3242-45e0-b730-96653d34bdb8');\n",
       "var x = new MutationObserver(function (mutations, observer) {{\n",
       "        var display = window.getComputedStyle(gd).display;\n",
       "        if (!display || display === 'none') {{\n",
       "            console.log([gd, 'removed!']);\n",
       "            Plotly.purge(gd);\n",
       "            observer.disconnect();\n",
       "        }}\n",
       "}});\n",
       "\n",
       "// Listen for the removal of the full notebook cells\n",
       "var notebookContainer = gd.closest('#notebook-container');\n",
       "if (notebookContainer) {{\n",
       "    x.observe(notebookContainer, {childList: true});\n",
       "}}\n",
       "\n",
       "// Listen for the clearing of the current output cell\n",
       "var outputEl = gd.closest('.output');\n",
       "if (outputEl) {{\n",
       "    x.observe(outputEl, {childList: true});\n",
       "}}\n",
       "\n",
       "                        })                };                });            </script>        </div>"
      ]
     },
     "metadata": {},
     "output_type": "display_data"
    }
   ],
   "source": [
    "### Create plot with elements for the emission luminosity\n",
    "data = {\n",
    "    \"Element\": species_name,\n",
    "    \"Atomic Number\": species_numeric,\n",
    "    \"Emission Luminosity[erg/s]\": [emission_luminosities_df[spec].sum() for spec in species_numeric]\n",
    "}\n",
    "energy_packets_df = pd.DataFrame(data) \n",
    "\n",
    "# Plot the data using Plotly\n",
    "fig = px.bar(energy_packets_df, x=\"Element\", y=\"Emission Luminosity[erg/s]\", title=\"Energy Packets by Element\",\n",
    "             labels={\"Emission Luminosity\": \"Luminosity (erg/s)\"}, color=\"Element\")\n",
    "fig.show()"
   ]
  },
  {
   "cell_type": "code",
   "execution_count": 85,
   "id": "e93a1ce7-c920-49ab-b5f6-3631a783bb91",
   "metadata": {},
   "outputs": [],
   "source": [
    "# Now let's select by number of packets\n",
    "with pd.HDFStore(hdf_path, 'r') as hdf:\n",
    "    keys = hdf.keys() # obtain name of  keys we will use"
   ]
  },
  {
   "cell_type": "code",
   "execution_count": 51,
   "id": "36c7180e-95d7-4e1e-8a2b-99a2169a22d6",
   "metadata": {},
   "outputs": [],
   "source": [
    "# Open the HDF5 file and extract the relevant data\n",
    "with pd.HDFStore(hdf_path, 'r') as hdf:\n",
    "    energy_data = hdf['/simulation/transport/transport_state/output_energy']\n",
    "    frequency_bins = hdf['/simulation/spectrum_solver/spectrum_real_packets/_frequency']\n",
    "    wavelength = hdf['/simulation/spectrum_solver/spectrum_real_packets/wavelength']\n",
    "    last_interaction_type = hdf['/simulation/transport/transport_state/last_interaction_type']\n",
    "    last_line_interaction_in_id = hdf['/simulation/transport/transport_state/last_line_interaction_in_id']\n",
    "    last_line_interaction_out_id = hdf['/simulation/transport/transport_state/last_line_interaction_out_id']\n",
    "    last_line_interaction_in_nu = hdf['/simulation/transport/transport_state/last_interaction_in_nu']\n",
    "    last_interaction_in_r = hdf['/simulation/transport/transport_state/last_interaction_in_r']\n",
    "# Convert frequency_bins to astropy Quantity (Hz) for unit conversion\n",
    "frequency_bins_quantity = u.Quantity(frequency_bins.values, u.Hz)  \n",
    "lambdas = frequency_bins_quantity.to(\"angstrom\", u.spectral())  # Convert frequency to wavelength"
   ]
  },
  {
   "cell_type": "code",
   "execution_count": 54,
   "id": "ad581719-3aaf-4a86-b2b2-ce8a99c16035",
   "metadata": {},
   "outputs": [],
   "source": [
    "min_length = 10001\n",
    "# Slice all arrays to this length\n",
    "frequency_bins = frequency_bins[:min_length]\n",
    "energy_data = energy_data[:min_length]\n",
    "wavelength = wavelength[:min_length]\n",
    "last_interaction_type = last_interaction_type[:min_length]\n",
    "last_interaction_in_r = last_interaction_in_r[:min_length]"
   ]
  },
  {
   "cell_type": "code",
   "execution_count": 55,
   "id": "4b4ac222-d60d-478c-8c18-802c5ec282f0",
   "metadata": {},
   "outputs": [],
   "source": [
    "# Data frame for the values\n",
    "packets_df = pd.DataFrame(\n",
    "    {\n",
    "        \"nus\": frequency_bins_quantity [:min_length] ,\n",
    "        \"lambdas\": lambdas,  # Convert frequencies to wavelengths\n",
    "        \"energies\": energy_data,  # Energies from the hdf data\n",
    "        \"last_interaction_type\": last_interaction_type,\n",
    "        \"last_line_interaction_in_id\": last_line_interaction_in_id[:min_length],\n",
    "        \"last_line_interaction_out_id\": last_line_interaction_out_id[:min_length],\n",
    "        \"last_line_interaction_in_nu\": last_line_interaction_in_nu[:min_length],\n",
    "        \"last_interaction_in_r\": last_interaction_in_r\n",
    "    }\n",
    ")\n",
    "# Save to CSV if desired\n",
    "packets_df.to_csv(\"packets_data_from_hdf.csv\", index=False)"
   ]
  },
  {
   "cell_type": "code",
   "execution_count": 57,
   "id": "9ed088c3-64ef-429d-a756-e71032ffcd54",
   "metadata": {},
   "outputs": [],
   "source": [
    "line_mask = (packets_df[\"last_interaction_type\"] > -1) & (\n",
    "    packets_df[\"last_line_interaction_in_id\"] > -1\n",
    ") # obtain lines where interactions occur\n",
    "packets_df_line_interaction = packets_df.loc[line_mask].copy() "
   ]
  },
  {
   "cell_type": "code",
   "execution_count": 60,
   "id": "0b2d2d3b-5090-4f58-a797-d32a6aac01b3",
   "metadata": {},
   "outputs": [],
   "source": [
    "# obtain lines id\n",
    "lines_df = sim.plasma.atomic_data.lines.reset_index().set_index(\"line_id\")"
   ]
  },
  {
   "cell_type": "code",
   "execution_count": 62,
   "id": "8a123583-da62-49bb-844f-5b78f98acc82",
   "metadata": {},
   "outputs": [],
   "source": [
    "# Add column for atomic number of last interaction \n",
    "# enable analysis of which elements are involved in packet interactions.\n",
    "packets_df_line_interaction[\"last_line_interaction_atom\"] = (\n",
    "    lines_df[\"atomic_number\"]\n",
    "    .iloc[packets_df_line_interaction[\"last_line_interaction_out_id\"]]\n",
    "    .to_numpy()\n",
    ")"
   ]
  },
  {
   "cell_type": "code",
   "execution_count": 63,
   "id": "c95b7022-4825-491e-8a63-ea38270e09f9",
   "metadata": {},
   "outputs": [],
   "source": [
    "# Add column for species ID of last interaction to track both element and ionization state.\n",
    "# Species ID = atomic_number * 100 + ion_number creates a unique identifier\n",
    "# for each ion of each element (e.g. 1400 for neutral Si, 1401 for Si II etc.)\n",
    "packets_df_line_interaction[\"last_line_interaction_species\"] = (\n",
    "    lines_df[\"atomic_number\"]\n",
    "    .iloc[packets_df_line_interaction[\"last_line_interaction_out_id\"]]\n",
    "    .to_numpy()\n",
    "    * 100\n",
    "    + lines_df[\"ion_number\"]\n",
    "    .iloc[packets_df_line_interaction[\"last_line_interaction_out_id\"]]\n",
    "    .to_numpy()\n",
    ")\n",
    "\n",
    "# Get unique species IDs from the packets that had line interactions\n",
    "species_in_model = np.unique(\n",
    "    packets_df_line_interaction[\"last_line_interaction_species\"].values\n",
    ")\n",
    "\n",
    "# Convert species IDs to element symbols by dividing by 100 to get atomic number\n",
    "# and get the corresponding element symbol\n",
    "species_list = [\n",
    "    f\"{atomic_number2element_symbol(species // 100)}\"\n",
    "    for species in species_in_model\n",
    "]"
   ]
  },
  {
   "cell_type": "code",
   "execution_count": 65,
   "id": "8de2b66e-dce7-43a9-99d6-06928323d441",
   "metadata": {},
   "outputs": [],
   "source": [
    "from tardis.util.base import (\n",
    "    atomic_number2element_symbol,\n",
    "    element_symbol2atomic_number,\n",
    "    int_to_roman,\n",
    "    species_string_to_tuple,\n",
    ")\n",
    "species_mapped = {}\n",
    "species_flat_list = []\n",
    "keep_colour = []\n",
    "\n",
    "# go through each of the requested species. Check whether it is\n",
    "# an element or ion (ions have spaces). If it is an element,\n",
    "# add all possible ions to the ions list. Otherwise just add\n",
    "# the requested ion\n",
    "for species in species_list:\n",
    "    if \" \" in species:\n",
    "        species_id = (\n",
    "            species_string_to_tuple(species)[0] * 100\n",
    "            + species_string_to_tuple(species)[1]\n",
    "        )\n",
    "        species_flat_list.append([species_id])\n",
    "        species_mapped[species_id] = [species_id]\n",
    "    else:\n",
    "        atomic_number = element_symbol2atomic_number(species)\n",
    "        species_ids = [\n",
    "            atomic_number * 100 + ion_number\n",
    "            for ion_number in np.arange(atomic_number)\n",
    "        ]\n",
    "        species_flat_list.append(species_ids)\n",
    "        species_mapped[atomic_number * 100] = species_ids\n",
    "        # add the atomic number to a list so you know that this element should\n",
    "        # have all species in the same colour, i.e. it was requested like\n",
    "        # species_list = [Si]\n",
    "        keep_colour.append(atomic_number)\n",
    "species_flat_list = [\n",
    "    species_id for temp_list in species_flat_list for species_id in temp_list\n",
    "]"
   ]
  },
  {
   "cell_type": "code",
   "execution_count": 66,
   "id": "57597393-6258-435d-8647-0fc0c8a6d79e",
   "metadata": {},
   "outputs": [],
   "source": [
    "msk = np.isin(species_flat_list, species_in_model)\n",
    "species = np.array(species_flat_list)[msk]\n",
    "\n",
    "species_name = []\n",
    "for species_key, species_ids in species_mapped.items():\n",
    "    if any(species2 in species for species2 in species_ids):\n",
    "        if species_key % 100 == 0:\n",
    "            label = atomic_number2element_symbol(species_key // 100)\n",
    "        else:\n",
    "            atomic_number = species_key // 100\n",
    "            ion_number = species_key % 100\n",
    "            ion_numeral = int_to_roman(ion_number + 1)\n",
    "            label = (\n",
    "                f\"{atomic_number2element_symbol(atomic_number)} {ion_numeral}\"\n",
    "            )\n",
    "        species_name.append(label)"
   ]
  },
  {
   "cell_type": "code",
   "execution_count": 67,
   "id": "3b02ec69-72cf-4cee-abad-ad795e5f23fe",
   "metadata": {},
   "outputs": [],
   "source": [
    "# Get a colormap with distinct colors for each species\n",
    "cmap = plt.get_cmap(\"jet\", len(species_name))\n",
    "\n",
    "# Initialize list to store colors for each species\n",
    "_color_list = []\n",
    "species_keys = list(species_mapped.keys())\n",
    "num_species = len(species_keys)\n",
    "\n",
    "# Assign colors to each species that appears in the simulation\n",
    "for species_counter, species_key in enumerate(species_keys):\n",
    "    # Check if any of the ions of this species are present in the simulation\n",
    "    if any(species2 in species for species2 in species_mapped[species_key]):\n",
    "        # Get color from colormap and normalize by number of species\n",
    "        color = cmap(species_counter / num_species)\n",
    "        _color_list.append(color)\n"
   ]
  },
  {
   "cell_type": "code",
   "execution_count": 70,
   "id": "1f06a7a9-0141-441e-a863-84d0c73aa9d6",
   "metadata": {},
   "outputs": [],
   "source": [
    "time_explosion = sim.plasma.time_explosion # obtain values from simulation\n",
    "velocity = sim.simulation_state.velocity  \n",
    "transport_state = sim.transport.transport_state"
   ]
  },
  {
   "cell_type": "code",
   "execution_count": 87,
   "id": "7bc5c885-c16e-4205-8d22-b460a10e69a0",
   "metadata": {},
   "outputs": [],
   "source": [
    "packet_nu_line_range_mask = np.ones(\n",
    "    packets_df_line_interaction.shape[0],\n",
    "    dtype=bool,\n",
    ")\n",
    "\n",
    "# Group packets by their last line interaction species\n",
    "groups = packets_df_line_interaction.loc[packet_nu_line_range_mask].groupby(\n",
    "    by=\"last_line_interaction_species\"\n",
    ")"
   ]
  },
  {
   "cell_type": "code",
   "execution_count": 88,
   "id": "e40798f0-2b04-4485-8cec-43cc2c0dcda6",
   "metadata": {},
   "outputs": [
    {
     "data": {
      "image/png": "[encoded data removed]",
      "text/plain": [
       "<Figure size 1200x800 with 1 Axes>"
      ]
     },
     "metadata": {},
     "output_type": "display_data"
    }
   ],
   "source": [
    "# Define bin edges for energy histogram\n",
    "bin_edges_energy = np.linspace(min(energy_data), max(energy_data), num=100)  \n",
    "\n",
    "plot_colors = []\n",
    "plot_data_energy = []\n",
    "species_not_wvl_range = []\n",
    "species_counter = 0\n",
    "\n",
    "# Group packets by their last line interaction species\n",
    "for species_groups in species_mapped.values():\n",
    "    full_energy_last = []\n",
    "    for specie in species_groups:\n",
    "        if specie in species:\n",
    "            # Skip if species has no interactions\n",
    "            if specie not in groups.groups:\n",
    "                atomic_number = specie // 100\n",
    "                ion_number = specie % 100\n",
    "                ion_numeral = int_to_roman(ion_number + 1)\n",
    "                label = f\"{atomic_number2element_symbol(atomic_number)} {ion_numeral}\"\n",
    "                species_not_wvl_range.append(label)\n",
    "                continue\n",
    "\n",
    "            # Calculate energies from packets\n",
    "            g_df = groups.get_group(specie)\n",
    "            energy_last_interaction = g_df[\"energies\"].values\n",
    "            full_energy_last.extend(energy_last_interaction)\n",
    "\n",
    "    if full_energy_last:\n",
    "        plot_data_energy.append(full_energy_last)\n",
    "        plot_colors.append(_color_list[species_counter])\n",
    "        species_counter += 1\n",
    "\n",
    "# Plot the energy histogram instead of the velocity histogram\n",
    "ax = plt.figure(figsize=(12, 8)).add_subplot(111)\n",
    "\n",
    "for data, color, name in zip(plot_data_energy, plot_colors, species_name):\n",
    "    # Generate step plot data from energy histogram data\n",
    "    hist, _ = np.histogram(data, bins=bin_edges_energy)\n",
    "    step_x = np.repeat(bin_edges_energy, 2)[1:-1]\n",
    "    step_y = np.repeat(hist, 2)\n",
    "    ax.plot(\n",
    "        step_x,\n",
    "        step_y,\n",
    "        label=name,\n",
    "        color=color,\n",
    "        linewidth=2.5,\n",
    "        drawstyle=\"steps-post\",\n",
    "        alpha=0.75,\n",
    "    )\n",
    "\n",
    "# Set labels, and legend\n",
    "xlabel = pu.axis_label_in_latex(\n",
    "    \"Energy \", u.Unit(\"erg\"), only_text=True\n",
    ")\n",
    "ax.ticklabel_format(axis=\"y\", scilimits=(0, 0))\n",
    "ax.tick_params(\"both\", labelsize=15)\n",
    "ax.set_xlabel(xlabel, fontsize=14)\n",
    "ax.set_ylabel(r\"$\\text{Packet Count}$\", fontsize=15)\n",
    "ax.legend(fontsize=15, bbox_to_anchor=(1.0, 1.0), loc=\"upper left\")\n",
    "ax.set_xlim(0, max(bin_edges_energy))\n",
    "ax.figure.tight_layout()"
   ]
  },
  {
   "cell_type": "code",
   "execution_count": 90,
   "id": "927f6174-7ecb-47e0-8abf-4e909e7311b0",
   "metadata": {},
   "outputs": [
    {
     "name": "stdout",
     "output_type": "stream",
     "text": [
      "  Element  Packet Count\n",
      "0       O            74\n",
      "1      Mg           323\n",
      "2      Si          1678\n",
      "3       S           593\n",
      "4      Ar           147\n",
      "5      Ca           217\n"
     ]
    }
   ],
   "source": [
    "packet_counts_per_element = {} # Create a dictionary to store packet counts per element\n",
    "\n",
    "# Sum packet counts for each species\n",
    "for data, name in zip(plot_data_energy, species_name):\n",
    "    packet_counts_per_element[name] = len(data)\n",
    "\n",
    "# Convert to DataFrame\n",
    "packet_count_df = pd.DataFrame(\n",
    "    list(packet_counts_per_element.items()), columns=[\"Element\", \"Packet Count\"]\n",
    ")\n",
    "\n",
    "print(packet_count_df) # Display table"
   ]
  },
  {
   "cell_type": "code",
   "execution_count": 94,
   "id": "3e644ed3-07ef-4c31-a0ec-16066d367315",
   "metadata": {},
   "outputs": [
    {
     "name": "stdout",
     "output_type": "stream",
     "text": [
      "Packet count for O: 74\n"
     ]
    }
   ],
   "source": [
    "element_name = 'O'\n",
    "if element_name in packet_counts_per_element:\n",
    "    print(f\"Packet count for {element_name}: {packet_counts_per_element[element_name]}\")\n",
    "else:\n",
    "        print(f\"{element_name} not found in the data.\")"
   ]
  }
 ],
 "metadata": {
  "kernelspec": {
   "display_name": "Python 3 (ipykernel)",
   "language": "python",
   "name": "python3"
  },
  "language_info": {
   "codemirror_mode": {
    "name": "ipython",
    "version": 3
   },
   "file_extension": ".py",
   "mimetype": "text/x-python",
   "name": "python",
   "nbconvert_exporter": "python",
   "pygments_lexer": "ipython3",
   "version": "3.12.4"
  }
 },
 "nbformat": 4,
 "nbformat_minor": 5
}
