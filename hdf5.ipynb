{
 "cells": [
  {
   "cell_type": "code",
   "id": "initial_id",
   "metadata": {
    "collapsed": true,
    "ExecuteTime": {
     "end_time": "2024-05-09T13:24:31.664722Z",
     "start_time": "2024-05-09T13:24:31.657199Z"
    }
   },
   "source": [
    "import numpy as np\n",
    "import h5py"
   ],
   "outputs": [],
   "execution_count": 5
  },
  {
   "metadata": {
    "ExecuteTime": {
     "end_time": "2024-05-09T14:58:46.220792Z",
     "start_time": "2024-05-09T14:58:46.213592Z"
    }
   },
   "cell_type": "code",
   "source": [
    "with h5py.File('../tardis-regression-data/tardis/tests/test_tardis_full/test_transport_simple/TestTransportSimple-simulation.h5', 'r') as hdf:\n",
    "    attrs = hdf.attrs\n",
    "    print(f'attrs.keys: {list(attrs.keys())}')\n",
    "    print(f'attrs.values: {list(attrs.values())}')\n",
    "    print(f'attrs.items: {list(attrs.items())}')\n",
    "    keys = list(hdf.keys())\n",
    "    print(f'keys: {keys}')\n",
    "    items = list(hdf.items())\n",
    "    print(f'items: {items}')\n",
    "    group = list(hdf.get('simulation'))\n",
    "    print(f'group-simulation: {group}')\n",
    "    group = list(hdf.get('simulation/transport'))\n",
    "    print(f'group-transport: {group}')\n",
    "    group = list(hdf.get('simulation/transport/transport_state'))\n",
    "    print(f'group-transport_state: {group}')\n",
    "    group = list(hdf.get('simulation/transport/transport_state/j_blue_estimator'))\n",
    "    print(f'group-j_blue_estimator: {group}')\n",
    "    values = hdf.values()\n",
    "    print(f'values: {values}')"
   ],
   "id": "5167c11a514254",
   "outputs": [
    {
     "name": "stdout",
     "output_type": "stream",
     "text": [
      "attrs.keys: ['CLASS', 'PYTABLES_FORMAT_VERSION', 'TITLE', 'VERSION']\n",
      "attrs.values: [b'GROUP', b'2.1', Empty(dtype=dtype('S1')), b'1.0']\n",
      "attrs.items: [('CLASS', b'GROUP'), ('PYTABLES_FORMAT_VERSION', b'2.1'), ('TITLE', Empty(dtype=dtype('S1'))), ('VERSION', b'1.0')]\n",
      "keys: ['simulation']\n",
      "items: [('simulation', <HDF5 group \"/simulation\" (7 members)>)]\n",
      "group-simulation: ['iterations_electron_densities', 'iterations_t_inner', 'iterations_t_rad', 'iterations_w', 'plasma', 'simulation_state', 'transport']\n",
      "group-transport: ['transport_state']\n",
      "group-transport_state: ['emitted_packet_mask', 'j_blue_estimator', 'j_estimator', 'last_interaction_in_nu', 'last_interaction_type', 'last_line_interaction_in_id', 'last_line_interaction_out_id', 'last_line_interaction_shell_id', 'montecarlo_virtual_luminosity', 'nu_bar_estimator', 'output_energy', 'output_nu', 'packet_luminosity', 'scalars', 'spectrum', 'spectrum_integrated', 'spectrum_reabsorbed', 'spectrum_virtual']\n",
      "group-j_blue_estimator: ['axis0', 'axis1', 'block0_items', 'block0_values']\n",
      "values: ValuesViewHDF5(<HDF5 file \"TestTransportSimple-simulation.h5\" (mode r)>)\n"
     ]
    }
   ],
   "execution_count": 46
  },
  {
   "metadata": {
    "ExecuteTime": {
     "end_time": "2024-05-09T14:58:38.673619Z",
     "start_time": "2024-05-09T14:58:38.666939Z"
    }
   },
   "cell_type": "code",
   "source": [
    "with h5py.File('../tardis-regression-data/tardis/tests/test_tardis_full/test_transport_simple/TestTransportSimple.h5', 'r') as hdf:\n",
    "    attrs = hdf.attrs\n",
    "    print(f'attrs.keys: {list(attrs.keys())}')\n",
    "    print(f'attrs.values: {list(attrs.values())}')\n",
    "    print(f'attrs.items: {list(attrs.items())}')\n",
    "    keys = list(hdf.keys())\n",
    "    print(f'keys: {keys}')\n",
    "    items = list(hdf.items())\n",
    "    print(f'items: {items}')\n",
    "    group = list(hdf.get('transport_state'))\n",
    "    print(f'group-transport_state: {group}')\n",
    "    group = list(hdf.get('transport_state/j_blue_estimator'))\n",
    "    print(f'group-j_blue_estimator: {group}')\n",
    "    values = hdf.values()\n",
    "    print(f'values: {values}')"
   ],
   "id": "a17ea3bf85532396",
   "outputs": [
    {
     "name": "stdout",
     "output_type": "stream",
     "text": [
      "attrs.keys: ['CLASS', 'PYTABLES_FORMAT_VERSION', 'TITLE', 'VERSION']\n",
      "attrs.values: [b'GROUP', b'2.1', Empty(dtype=dtype('S1')), b'1.0']\n",
      "attrs.items: [('CLASS', b'GROUP'), ('PYTABLES_FORMAT_VERSION', b'2.1'), ('TITLE', Empty(dtype=dtype('S1'))), ('VERSION', b'1.0')]\n",
      "keys: ['transport_state']\n",
      "items: [('transport_state', <HDF5 group \"/transport_state\" (18 members)>)]\n",
      "group-transport_state: ['emitted_packet_mask', 'j_blue_estimator', 'j_estimator', 'last_interaction_in_nu', 'last_interaction_type', 'last_line_interaction_in_id', 'last_line_interaction_out_id', 'last_line_interaction_shell_id', 'montecarlo_virtual_luminosity', 'nu_bar_estimator', 'output_energy', 'output_nu', 'packet_luminosity', 'scalars', 'spectrum', 'spectrum_integrated', 'spectrum_reabsorbed', 'spectrum_virtual']\n",
      "group-j_blue_estimator: ['axis0', 'axis1', 'block0_items', 'block0_values']\n",
      "values: ValuesViewHDF5(<HDF5 file \"TestTransportSimple.h5\" (mode r)>)\n"
     ]
    }
   ],
   "execution_count": 45
  }
 ],
 "metadata": {
  "kernelspec": {
   "display_name": "Python 3",
   "language": "python",
   "name": "python3"
  },
  "language_info": {
   "codemirror_mode": {
    "name": "ipython",
    "version": 2
   },
   "file_extension": ".py",
   "mimetype": "text/x-python",
   "name": "python",
   "nbconvert_exporter": "python",
   "pygments_lexer": "ipython2",
   "version": "2.7.6"
  }
 },
 "nbformat": 4,
 "nbformat_minor": 5
}
