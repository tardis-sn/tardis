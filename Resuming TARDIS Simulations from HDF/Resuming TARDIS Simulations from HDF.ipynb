{
 "cells": [
  {
   "cell_type": "markdown",
   "id": "fce803eb",
   "metadata": {},
   "source": [
    "## First Objective of Resuming TARDIS Simulations from HDF\n",
    "Objective: Save an HDF file of the simulation and load it back to plot results from the HDF file. You should plot the estimators (j_estimator and w) versus shell index, temperature (t_rad) versus shell index, and the luminosity density versus wavelength. You will need to investigate the keys of the HDF file to find these values. Check out the documentation page \"Storing Simulations to HDF\"."
   ]
  },
  {
   "cell_type": "markdown",
   "id": "3d99d989",
   "metadata": {},
   "source": [
    "### Download sample atomic data"
   ]
  },
  {
   "cell_type": "code",
   "execution_count": 1,
   "id": "a0b6b5cf",
   "metadata": {},
   "outputs": [
    {
     "data": {
      "application/vnd.jupyter.widget-view+json": {
       "model_id": "",
       "version_major": 2,
       "version_minor": 0
      },
      "text/plain": [
       "Iterations:          0/? [00:00<?, ?it/s]"
      ]
     },
     "metadata": {},
     "output_type": "display_data"
    },
    {
     "data": {
      "application/vnd.jupyter.widget-view+json": {
       "model_id": "",
       "version_major": 2,
       "version_minor": 0
      },
      "text/plain": [
       "Packets:             0/? [00:00<?, ?it/s]"
      ]
     },
     "metadata": {},
     "output_type": "display_data"
    }
   ],
   "source": [
    "from tardis.io.atom_data.util import download_atom_data\n",
    "download_atom_data('kurucz_cd23_chianti_H_He')"
   ]
  },
  {
   "cell_type": "markdown",
   "id": "731adc8a",
   "metadata": {},
   "source": [
    "### Run simulation with example configuration"
   ]
  },
  {
   "cell_type": "code",
   "execution_count": 2,
   "id": "14852a9c",
   "metadata": {},
   "outputs": [
    {
     "name": "stdout",
     "output_type": "stream",
     "text": [
      "  % Total    % Received % Xferd  Average Speed   Time    Time     Time  Current\n",
      "                                 Dload  Upload   Total   Spent    Left  Speed\n",
      "100   980  100   980    0     0   1731      0 --:--:-- --:--:-- --:--:--  1731\n"
     ]
    }
   ],
   "source": [
    "# Download example configuration\n",
    "!curl -O https://raw.githubusercontent.com/tardis-sn/tardis/master/docs/tardis_example.yml"
   ]
  },
  {
   "cell_type": "code",
   "execution_count": 3,
   "id": "55bef434",
   "metadata": {},
   "outputs": [
    {
     "name": "stdout",
     "output_type": "stream",
     "text": [
      "[\u001b[1mtardis.plasma.standard_plasmas\u001b[0m][\u001b[1;37mINFO\u001b[0m   ]  \n",
      "\t\n",
      "\tReading Atomic Data from kurucz_cd23_chianti_H_He.h5 (\u001b[1mstandard_plasmas.py\u001b[0m:92)\n",
      "[\u001b[1mtardis.io.atom_data.util\u001b[0m][\u001b[1;37mINFO\u001b[0m   ]  \n",
      "\t\n",
      "\tAtom Data kurucz_cd23_chianti_H_He.h5 not found in local path.\n",
      "\tExists in TARDIS Data repo /home/drago/Downloads/tardis-data/kurucz_cd23_chianti_H_He.h5 (\u001b[1mutil.py\u001b[0m:34)\n",
      "[\u001b[1mtardis.io.atom_data.base\u001b[0m][\u001b[1;37mINFO\u001b[0m   ]  \n",
      "\tReading Atom Data with: UUID = 6f7b09e887a311e7a06b246e96350010 MD5  = 864f1753714343c41f99cb065710cace  (\u001b[1mbase.py\u001b[0m:204)\n",
      "[\u001b[1mtardis.io.atom_data.base\u001b[0m][\u001b[1;37mINFO\u001b[0m   ]  \n",
      "\tNon provided Atomic Data: synpp_refs, photoionization_data, yg_data, two_photon_data (\u001b[1mbase.py\u001b[0m:209)\n",
      "[\u001b[1mpy.warnings         \u001b[0m][\u001b[1;33mWARNING\u001b[0m]  \n",
      "\t/home/drago/TARDIS/tardis/tardis/plasma/properties/radiative_properties.py:93: RuntimeWarning: invalid value encountered in true_divide\n",
      "  (g_lower * n_upper) / (g_upper * n_lower)\n",
      " (\u001b[1mwarnings.py\u001b[0m:110)\n",
      "[\u001b[1mpy.warnings         \u001b[0m][\u001b[1;33mWARNING\u001b[0m]  \n",
      "\t/home/drago/TARDIS/tardis/tardis/plasma/properties/radiative_properties.py:93: RuntimeWarning: invalid value encountered in true_divide\n",
      "  (g_lower * n_upper) / (g_upper * n_lower)\n",
      " (\u001b[1mwarnings.py\u001b[0m:110)\n",
      "[\u001b[1mtardis.simulation.base\u001b[0m][\u001b[1;37mINFO\u001b[0m   ]  \n",
      "\t\n",
      "\tStarting iteration 1 of 20 (\u001b[1mbase.py\u001b[0m:378)\n"
     ]
    },
    {
     "data": {
      "application/vnd.jupyter.widget-view+json": {
       "model_id": "37c376b4899341dd85d6cf9cc8adce1c",
       "version_major": 2,
       "version_minor": 0
      },
      "text/plain": [
       "TqdmHBox(children=(HTML(value='Iterations:', layout=Layout(width='6%')), FloatProgress(value=0.0, layout=Layou…"
      ]
     },
     "metadata": {},
     "output_type": "display_data"
    },
    {
     "data": {
      "application/vnd.jupyter.widget-view+json": {
       "model_id": "83c2686d7dd24627a90d956032fb0da1",
       "version_major": 2,
       "version_minor": 0
      },
      "text/plain": [
       "TqdmHBox(children=(HTML(value='Packets:   ', layout=Layout(width='6%')), FloatProgress(value=0.0, layout=Layou…"
      ]
     },
     "metadata": {},
     "output_type": "display_data"
    },
    {
     "name": "stdout",
     "output_type": "stream",
     "text": [
      "[\u001b[1mtardis.simulation.base\u001b[0m][\u001b[1;37mINFO\u001b[0m   ]  \n",
      "\t\n",
      "\tLuminosity emitted   = 7.942e+42 erg / s\n",
      "\tLuminosity absorbed  = 2.659e+42 erg / s\n",
      "\tLuminosity requested = 1.059e+43 erg / s\n",
      " (\u001b[1mbase.py\u001b[0m:547)\n",
      "[\u001b[1mtardis.simulation.base\u001b[0m][\u001b[1;37mINFO\u001b[0m   ]  \n",
      "\t\n",
      "\tPlasma stratification: (\u001b[1mbase.py\u001b[0m:514)\n"
     ]
    },
    {
     "data": {
      "text/html": [
       "<style  type=\"text/css\" >\n",
       "</style><table id=\"T_ee115096_baa2_11ec_ae65_00155dd89822\" ><thead>    <tr>        <th class=\"index_name level0\" >Shell No.</th>        <th class=\"col_heading level0 col0\" >t_rad</th>        <th class=\"col_heading level0 col1\" >next_t_rad</th>        <th class=\"col_heading level0 col2\" >w</th>        <th class=\"col_heading level0 col3\" >next_w</th>    </tr></thead><tbody>\n",
       "                <tr>\n",
       "                        <th id=\"T_ee115096_baa2_11ec_ae65_00155dd89822level0_row0\" class=\"row_heading level0 row0\" >0</th>\n",
       "                        <td id=\"T_ee115096_baa2_11ec_ae65_00155dd89822row0_col0\" class=\"data row0 col0\" >9.93e+03</td>\n",
       "                        <td id=\"T_ee115096_baa2_11ec_ae65_00155dd89822row0_col1\" class=\"data row0 col1\" >1.01e+04</td>\n",
       "                        <td id=\"T_ee115096_baa2_11ec_ae65_00155dd89822row0_col2\" class=\"data row0 col2\" >0.4</td>\n",
       "                        <td id=\"T_ee115096_baa2_11ec_ae65_00155dd89822row0_col3\" class=\"data row0 col3\" >0.507</td>\n",
       "            </tr>\n",
       "            <tr>\n",
       "                        <th id=\"T_ee115096_baa2_11ec_ae65_00155dd89822level0_row1\" class=\"row_heading level0 row1\" >5</th>\n",
       "                        <td id=\"T_ee115096_baa2_11ec_ae65_00155dd89822row1_col0\" class=\"data row1 col0\" >9.85e+03</td>\n",
       "                        <td id=\"T_ee115096_baa2_11ec_ae65_00155dd89822row1_col1\" class=\"data row1 col1\" >1.02e+04</td>\n",
       "                        <td id=\"T_ee115096_baa2_11ec_ae65_00155dd89822row1_col2\" class=\"data row1 col2\" >0.211</td>\n",
       "                        <td id=\"T_ee115096_baa2_11ec_ae65_00155dd89822row1_col3\" class=\"data row1 col3\" >0.197</td>\n",
       "            </tr>\n",
       "            <tr>\n",
       "                        <th id=\"T_ee115096_baa2_11ec_ae65_00155dd89822level0_row2\" class=\"row_heading level0 row2\" >10</th>\n",
       "                        <td id=\"T_ee115096_baa2_11ec_ae65_00155dd89822row2_col0\" class=\"data row2 col0\" >9.78e+03</td>\n",
       "                        <td id=\"T_ee115096_baa2_11ec_ae65_00155dd89822row2_col1\" class=\"data row2 col1\" >1.01e+04</td>\n",
       "                        <td id=\"T_ee115096_baa2_11ec_ae65_00155dd89822row2_col2\" class=\"data row2 col2\" >0.143</td>\n",
       "                        <td id=\"T_ee115096_baa2_11ec_ae65_00155dd89822row2_col3\" class=\"data row2 col3\" >0.117</td>\n",
       "            </tr>\n",
       "            <tr>\n",
       "                        <th id=\"T_ee115096_baa2_11ec_ae65_00155dd89822level0_row3\" class=\"row_heading level0 row3\" >15</th>\n",
       "                        <td id=\"T_ee115096_baa2_11ec_ae65_00155dd89822row3_col0\" class=\"data row3 col0\" >9.71e+03</td>\n",
       "                        <td id=\"T_ee115096_baa2_11ec_ae65_00155dd89822row3_col1\" class=\"data row3 col1\" >9.87e+03</td>\n",
       "                        <td id=\"T_ee115096_baa2_11ec_ae65_00155dd89822row3_col2\" class=\"data row3 col2\" >0.105</td>\n",
       "                        <td id=\"T_ee115096_baa2_11ec_ae65_00155dd89822row3_col3\" class=\"data row3 col3\" >0.0869</td>\n",
       "            </tr>\n",
       "    </tbody></table>"
      ],
      "text/plain": [
       "<pandas.io.formats.style.Styler at 0x7fd55c4980d0>"
      ]
     },
     "metadata": {},
     "output_type": "display_data"
    },
    {
     "name": "stdout",
     "output_type": "stream",
     "text": [
      "[\u001b[1mtardis.simulation.base\u001b[0m][\u001b[1;37mINFO\u001b[0m   ]  \n",
      "\t\n",
      "\tCurrent t_inner = 9933.952 K\n",
      "\tExpected t_inner for next iteration = 10703.212 K\n",
      " (\u001b[1mbase.py\u001b[0m:542)\n",
      "[\u001b[1mpy.warnings         \u001b[0m][\u001b[1;33mWARNING\u001b[0m]  \n",
      "\t/home/drago/TARDIS/tardis/tardis/plasma/properties/radiative_properties.py:93: RuntimeWarning: invalid value encountered in true_divide\n",
      "  (g_lower * n_upper) / (g_upper * n_lower)\n",
      " (\u001b[1mwarnings.py\u001b[0m:110)\n",
      "[\u001b[1mtardis.simulation.base\u001b[0m][\u001b[1;37mINFO\u001b[0m   ]  \n",
      "\t\n",
      "\tStarting iteration 2 of 20 (\u001b[1mbase.py\u001b[0m:378)\n",
      "[\u001b[1mtardis.simulation.base\u001b[0m][\u001b[1;37mINFO\u001b[0m   ]  \n",
      "\t\n",
      "\tLuminosity emitted   = 1.071e+43 erg / s\n",
      "\tLuminosity absorbed  = 3.576e+42 erg / s\n",
      "\tLuminosity requested = 1.059e+43 erg / s\n",
      " (\u001b[1mbase.py\u001b[0m:547)\n",
      "[\u001b[1mtardis.simulation.base\u001b[0m][\u001b[1;37mINFO\u001b[0m   ]  \n",
      "\t\n",
      "\tPlasma stratification: (\u001b[1mbase.py\u001b[0m:514)\n"
     ]
    },
    {
     "data": {
      "text/html": [
       "<style  type=\"text/css\" >\n",
       "</style><table id=\"T_ee7ddbbc_baa2_11ec_ae65_00155dd89822\" ><thead>    <tr>        <th class=\"index_name level0\" >Shell No.</th>        <th class=\"col_heading level0 col0\" >t_rad</th>        <th class=\"col_heading level0 col1\" >next_t_rad</th>        <th class=\"col_heading level0 col2\" >w</th>        <th class=\"col_heading level0 col3\" >next_w</th>    </tr></thead><tbody>\n",
       "                <tr>\n",
       "                        <th id=\"T_ee7ddbbc_baa2_11ec_ae65_00155dd89822level0_row0\" class=\"row_heading level0 row0\" >0</th>\n",
       "                        <td id=\"T_ee7ddbbc_baa2_11ec_ae65_00155dd89822row0_col0\" class=\"data row0 col0\" >1.01e+04</td>\n",
       "                        <td id=\"T_ee7ddbbc_baa2_11ec_ae65_00155dd89822row0_col1\" class=\"data row0 col1\" >1.08e+04</td>\n",
       "                        <td id=\"T_ee7ddbbc_baa2_11ec_ae65_00155dd89822row0_col2\" class=\"data row0 col2\" >0.507</td>\n",
       "                        <td id=\"T_ee7ddbbc_baa2_11ec_ae65_00155dd89822row0_col3\" class=\"data row0 col3\" >0.525</td>\n",
       "            </tr>\n",
       "            <tr>\n",
       "                        <th id=\"T_ee7ddbbc_baa2_11ec_ae65_00155dd89822level0_row1\" class=\"row_heading level0 row1\" >5</th>\n",
       "                        <td id=\"T_ee7ddbbc_baa2_11ec_ae65_00155dd89822row1_col0\" class=\"data row1 col0\" >1.02e+04</td>\n",
       "                        <td id=\"T_ee7ddbbc_baa2_11ec_ae65_00155dd89822row1_col1\" class=\"data row1 col1\" >1.1e+04</td>\n",
       "                        <td id=\"T_ee7ddbbc_baa2_11ec_ae65_00155dd89822row1_col2\" class=\"data row1 col2\" >0.197</td>\n",
       "                        <td id=\"T_ee7ddbbc_baa2_11ec_ae65_00155dd89822row1_col3\" class=\"data row1 col3\" >0.203</td>\n",
       "            </tr>\n",
       "            <tr>\n",
       "                        <th id=\"T_ee7ddbbc_baa2_11ec_ae65_00155dd89822level0_row2\" class=\"row_heading level0 row2\" >10</th>\n",
       "                        <td id=\"T_ee7ddbbc_baa2_11ec_ae65_00155dd89822row2_col0\" class=\"data row2 col0\" >1.01e+04</td>\n",
       "                        <td id=\"T_ee7ddbbc_baa2_11ec_ae65_00155dd89822row2_col1\" class=\"data row2 col1\" >1.08e+04</td>\n",
       "                        <td id=\"T_ee7ddbbc_baa2_11ec_ae65_00155dd89822row2_col2\" class=\"data row2 col2\" >0.117</td>\n",
       "                        <td id=\"T_ee7ddbbc_baa2_11ec_ae65_00155dd89822row2_col3\" class=\"data row2 col3\" >0.125</td>\n",
       "            </tr>\n",
       "            <tr>\n",
       "                        <th id=\"T_ee7ddbbc_baa2_11ec_ae65_00155dd89822level0_row3\" class=\"row_heading level0 row3\" >15</th>\n",
       "                        <td id=\"T_ee7ddbbc_baa2_11ec_ae65_00155dd89822row3_col0\" class=\"data row3 col0\" >9.87e+03</td>\n",
       "                        <td id=\"T_ee7ddbbc_baa2_11ec_ae65_00155dd89822row3_col1\" class=\"data row3 col1\" >1.05e+04</td>\n",
       "                        <td id=\"T_ee7ddbbc_baa2_11ec_ae65_00155dd89822row3_col2\" class=\"data row3 col2\" >0.0869</td>\n",
       "                        <td id=\"T_ee7ddbbc_baa2_11ec_ae65_00155dd89822row3_col3\" class=\"data row3 col3\" >0.0933</td>\n",
       "            </tr>\n",
       "    </tbody></table>"
      ],
      "text/plain": [
       "<pandas.io.formats.style.Styler at 0x7fd59ed68bd0>"
      ]
     },
     "metadata": {},
     "output_type": "display_data"
    },
    {
     "name": "stdout",
     "output_type": "stream",
     "text": [
      "[\u001b[1mtardis.simulation.base\u001b[0m][\u001b[1;37mINFO\u001b[0m   ]  \n",
      "\t\n",
      "\tCurrent t_inner = 10703.212 K\n",
      "\tExpected t_inner for next iteration = 10673.712 K\n",
      " (\u001b[1mbase.py\u001b[0m:542)\n",
      "[\u001b[1mtardis.simulation.base\u001b[0m][\u001b[1;37mINFO\u001b[0m   ]  \n",
      "\t\n",
      "\tStarting iteration 3 of 20 (\u001b[1mbase.py\u001b[0m:378)\n",
      "[\u001b[1mtardis.simulation.base\u001b[0m][\u001b[1;37mINFO\u001b[0m   ]  \n",
      "\t\n",
      "\tLuminosity emitted   = 1.074e+43 erg / s\n",
      "\tLuminosity absorbed  = 3.391e+42 erg / s\n",
      "\tLuminosity requested = 1.059e+43 erg / s\n",
      " (\u001b[1mbase.py\u001b[0m:547)\n",
      "[\u001b[1mtardis.simulation.base\u001b[0m][\u001b[1;37mINFO\u001b[0m   ]  \n",
      "\t\n",
      "\tPlasma stratification: (\u001b[1mbase.py\u001b[0m:514)\n"
     ]
    },
    {
     "data": {
      "text/html": [
       "<style  type=\"text/css\" >\n",
       "</style><table id=\"T_eef2dcb4_baa2_11ec_ae65_00155dd89822\" ><thead>    <tr>        <th class=\"index_name level0\" >Shell No.</th>        <th class=\"col_heading level0 col0\" >t_rad</th>        <th class=\"col_heading level0 col1\" >next_t_rad</th>        <th class=\"col_heading level0 col2\" >w</th>        <th class=\"col_heading level0 col3\" >next_w</th>    </tr></thead><tbody>\n",
       "                <tr>\n",
       "                        <th id=\"T_eef2dcb4_baa2_11ec_ae65_00155dd89822level0_row0\" class=\"row_heading level0 row0\" >0</th>\n",
       "                        <td id=\"T_eef2dcb4_baa2_11ec_ae65_00155dd89822row0_col0\" class=\"data row0 col0\" >1.08e+04</td>\n",
       "                        <td id=\"T_eef2dcb4_baa2_11ec_ae65_00155dd89822row0_col1\" class=\"data row0 col1\" >1.1e+04</td>\n",
       "                        <td id=\"T_eef2dcb4_baa2_11ec_ae65_00155dd89822row0_col2\" class=\"data row0 col2\" >0.525</td>\n",
       "                        <td id=\"T_eef2dcb4_baa2_11ec_ae65_00155dd89822row0_col3\" class=\"data row0 col3\" >0.483</td>\n",
       "            </tr>\n",
       "            <tr>\n",
       "                        <th id=\"T_eef2dcb4_baa2_11ec_ae65_00155dd89822level0_row1\" class=\"row_heading level0 row1\" >5</th>\n",
       "                        <td id=\"T_eef2dcb4_baa2_11ec_ae65_00155dd89822row1_col0\" class=\"data row1 col0\" >1.1e+04</td>\n",
       "                        <td id=\"T_eef2dcb4_baa2_11ec_ae65_00155dd89822row1_col1\" class=\"data row1 col1\" >1.12e+04</td>\n",
       "                        <td id=\"T_eef2dcb4_baa2_11ec_ae65_00155dd89822row1_col2\" class=\"data row1 col2\" >0.203</td>\n",
       "                        <td id=\"T_eef2dcb4_baa2_11ec_ae65_00155dd89822row1_col3\" class=\"data row1 col3\" >0.189</td>\n",
       "            </tr>\n",
       "            <tr>\n",
       "                        <th id=\"T_eef2dcb4_baa2_11ec_ae65_00155dd89822level0_row2\" class=\"row_heading level0 row2\" >10</th>\n",
       "                        <td id=\"T_eef2dcb4_baa2_11ec_ae65_00155dd89822row2_col0\" class=\"data row2 col0\" >1.08e+04</td>\n",
       "                        <td id=\"T_eef2dcb4_baa2_11ec_ae65_00155dd89822row2_col1\" class=\"data row2 col1\" >1.1e+04</td>\n",
       "                        <td id=\"T_eef2dcb4_baa2_11ec_ae65_00155dd89822row2_col2\" class=\"data row2 col2\" >0.125</td>\n",
       "                        <td id=\"T_eef2dcb4_baa2_11ec_ae65_00155dd89822row2_col3\" class=\"data row2 col3\" >0.118</td>\n",
       "            </tr>\n",
       "            <tr>\n",
       "                        <th id=\"T_eef2dcb4_baa2_11ec_ae65_00155dd89822level0_row3\" class=\"row_heading level0 row3\" >15</th>\n",
       "                        <td id=\"T_eef2dcb4_baa2_11ec_ae65_00155dd89822row3_col0\" class=\"data row3 col0\" >1.05e+04</td>\n",
       "                        <td id=\"T_eef2dcb4_baa2_11ec_ae65_00155dd89822row3_col1\" class=\"data row3 col1\" >1.06e+04</td>\n",
       "                        <td id=\"T_eef2dcb4_baa2_11ec_ae65_00155dd89822row3_col2\" class=\"data row3 col2\" >0.0933</td>\n",
       "                        <td id=\"T_eef2dcb4_baa2_11ec_ae65_00155dd89822row3_col3\" class=\"data row3 col3\" >0.0895</td>\n",
       "            </tr>\n",
       "    </tbody></table>"
      ],
      "text/plain": [
       "<pandas.io.formats.style.Styler at 0x7fd59ed689d0>"
      ]
     },
     "metadata": {},
     "output_type": "display_data"
    },
    {
     "name": "stdout",
     "output_type": "stream",
     "text": [
      "[\u001b[1mtardis.simulation.base\u001b[0m][\u001b[1;37mINFO\u001b[0m   ]  \n",
      "\t\n",
      "\tCurrent t_inner = 10673.712 K\n",
      "\tExpected t_inner for next iteration = 10635.953 K\n",
      " (\u001b[1mbase.py\u001b[0m:542)\n",
      "[\u001b[1mtardis.simulation.base\u001b[0m][\u001b[1;37mINFO\u001b[0m   ]  \n",
      "\t\n",
      "\tStarting iteration 4 of 20 (\u001b[1mbase.py\u001b[0m:378)\n",
      "[\u001b[1mtardis.simulation.base\u001b[0m][\u001b[1;37mINFO\u001b[0m   ]  \n",
      "\t\n",
      "\tLuminosity emitted   = 1.058e+43 erg / s\n",
      "\tLuminosity absorbed  = 3.352e+42 erg / s\n",
      "\tLuminosity requested = 1.059e+43 erg / s\n",
      " (\u001b[1mbase.py\u001b[0m:547)\n",
      "[\u001b[1mtardis.simulation.base\u001b[0m][\u001b[1;37mINFO\u001b[0m   ]  \n",
      "\t\n",
      "\tPlasma stratification: (\u001b[1mbase.py\u001b[0m:514)\n"
     ]
    },
    {
     "data": {
      "text/html": [
       "<style  type=\"text/css\" >\n",
       "</style><table id=\"T_ef61ddee_baa2_11ec_ae65_00155dd89822\" ><thead>    <tr>        <th class=\"index_name level0\" >Shell No.</th>        <th class=\"col_heading level0 col0\" >t_rad</th>        <th class=\"col_heading level0 col1\" >next_t_rad</th>        <th class=\"col_heading level0 col2\" >w</th>        <th class=\"col_heading level0 col3\" >next_w</th>    </tr></thead><tbody>\n",
       "                <tr>\n",
       "                        <th id=\"T_ef61ddee_baa2_11ec_ae65_00155dd89822level0_row0\" class=\"row_heading level0 row0\" >0</th>\n",
       "                        <td id=\"T_ef61ddee_baa2_11ec_ae65_00155dd89822row0_col0\" class=\"data row0 col0\" >1.1e+04</td>\n",
       "                        <td id=\"T_ef61ddee_baa2_11ec_ae65_00155dd89822row0_col1\" class=\"data row0 col1\" >1.1e+04</td>\n",
       "                        <td id=\"T_ef61ddee_baa2_11ec_ae65_00155dd89822row0_col2\" class=\"data row0 col2\" >0.483</td>\n",
       "                        <td id=\"T_ef61ddee_baa2_11ec_ae65_00155dd89822row0_col3\" class=\"data row0 col3\" >0.469</td>\n",
       "            </tr>\n",
       "            <tr>\n",
       "                        <th id=\"T_ef61ddee_baa2_11ec_ae65_00155dd89822level0_row1\" class=\"row_heading level0 row1\" >5</th>\n",
       "                        <td id=\"T_ef61ddee_baa2_11ec_ae65_00155dd89822row1_col0\" class=\"data row1 col0\" >1.12e+04</td>\n",
       "                        <td id=\"T_ef61ddee_baa2_11ec_ae65_00155dd89822row1_col1\" class=\"data row1 col1\" >1.12e+04</td>\n",
       "                        <td id=\"T_ef61ddee_baa2_11ec_ae65_00155dd89822row1_col2\" class=\"data row1 col2\" >0.189</td>\n",
       "                        <td id=\"T_ef61ddee_baa2_11ec_ae65_00155dd89822row1_col3\" class=\"data row1 col3\" >0.182</td>\n",
       "            </tr>\n",
       "            <tr>\n",
       "                        <th id=\"T_ef61ddee_baa2_11ec_ae65_00155dd89822level0_row2\" class=\"row_heading level0 row2\" >10</th>\n",
       "                        <td id=\"T_ef61ddee_baa2_11ec_ae65_00155dd89822row2_col0\" class=\"data row2 col0\" >1.1e+04</td>\n",
       "                        <td id=\"T_ef61ddee_baa2_11ec_ae65_00155dd89822row2_col1\" class=\"data row2 col1\" >1.1e+04</td>\n",
       "                        <td id=\"T_ef61ddee_baa2_11ec_ae65_00155dd89822row2_col2\" class=\"data row2 col2\" >0.118</td>\n",
       "                        <td id=\"T_ef61ddee_baa2_11ec_ae65_00155dd89822row2_col3\" class=\"data row2 col3\" >0.113</td>\n",
       "            </tr>\n",
       "            <tr>\n",
       "                        <th id=\"T_ef61ddee_baa2_11ec_ae65_00155dd89822level0_row3\" class=\"row_heading level0 row3\" >15</th>\n",
       "                        <td id=\"T_ef61ddee_baa2_11ec_ae65_00155dd89822row3_col0\" class=\"data row3 col0\" >1.06e+04</td>\n",
       "                        <td id=\"T_ef61ddee_baa2_11ec_ae65_00155dd89822row3_col1\" class=\"data row3 col1\" >1.07e+04</td>\n",
       "                        <td id=\"T_ef61ddee_baa2_11ec_ae65_00155dd89822row3_col2\" class=\"data row3 col2\" >0.0895</td>\n",
       "                        <td id=\"T_ef61ddee_baa2_11ec_ae65_00155dd89822row3_col3\" class=\"data row3 col3\" >0.0861</td>\n",
       "            </tr>\n",
       "    </tbody></table>"
      ],
      "text/plain": [
       "<pandas.io.formats.style.Styler at 0x7fd55e9e5f90>"
      ]
     },
     "metadata": {},
     "output_type": "display_data"
    },
    {
     "name": "stdout",
     "output_type": "stream",
     "text": [
      "[\u001b[1mtardis.simulation.base\u001b[0m][\u001b[1;37mINFO\u001b[0m   ]  \n",
      "\t\n",
      "\tCurrent t_inner = 10635.953 K\n",
      "\tExpected t_inner for next iteration = 10638.407 K\n",
      " (\u001b[1mbase.py\u001b[0m:542)\n",
      "[\u001b[1mtardis.simulation.base\u001b[0m][\u001b[1;37mINFO\u001b[0m   ]  \n",
      "\t\n",
      "\tStarting iteration 5 of 20 (\u001b[1mbase.py\u001b[0m:378)\n",
      "[\u001b[1mtardis.simulation.base\u001b[0m][\u001b[1;37mINFO\u001b[0m   ]  \n",
      "\t\n",
      "\tLuminosity emitted   = 1.055e+43 erg / s\n",
      "\tLuminosity absorbed  = 3.399e+42 erg / s\n",
      "\tLuminosity requested = 1.059e+43 erg / s\n",
      " (\u001b[1mbase.py\u001b[0m:547)\n",
      "[\u001b[1mtardis.simulation.base\u001b[0m][\u001b[1;37mINFO\u001b[0m   ]  \n",
      "\tIteration converged 1/4 consecutive times. (\u001b[1mbase.py\u001b[0m:259)\n",
      "[\u001b[1mtardis.simulation.base\u001b[0m][\u001b[1;37mINFO\u001b[0m   ]  \n",
      "\t\n",
      "\tPlasma stratification: (\u001b[1mbase.py\u001b[0m:514)\n"
     ]
    },
    {
     "data": {
      "text/html": [
       "<style  type=\"text/css\" >\n",
       "</style><table id=\"T_efd7cc5c_baa2_11ec_ae65_00155dd89822\" ><thead>    <tr>        <th class=\"index_name level0\" >Shell No.</th>        <th class=\"col_heading level0 col0\" >t_rad</th>        <th class=\"col_heading level0 col1\" >next_t_rad</th>        <th class=\"col_heading level0 col2\" >w</th>        <th class=\"col_heading level0 col3\" >next_w</th>    </tr></thead><tbody>\n",
       "                <tr>\n",
       "                        <th id=\"T_efd7cc5c_baa2_11ec_ae65_00155dd89822level0_row0\" class=\"row_heading level0 row0\" >0</th>\n",
       "                        <td id=\"T_efd7cc5c_baa2_11ec_ae65_00155dd89822row0_col0\" class=\"data row0 col0\" >1.1e+04</td>\n",
       "                        <td id=\"T_efd7cc5c_baa2_11ec_ae65_00155dd89822row0_col1\" class=\"data row0 col1\" >1.1e+04</td>\n",
       "                        <td id=\"T_efd7cc5c_baa2_11ec_ae65_00155dd89822row0_col2\" class=\"data row0 col2\" >0.469</td>\n",
       "                        <td id=\"T_efd7cc5c_baa2_11ec_ae65_00155dd89822row0_col3\" class=\"data row0 col3\" >0.479</td>\n",
       "            </tr>\n",
       "            <tr>\n",
       "                        <th id=\"T_efd7cc5c_baa2_11ec_ae65_00155dd89822level0_row1\" class=\"row_heading level0 row1\" >5</th>\n",
       "                        <td id=\"T_efd7cc5c_baa2_11ec_ae65_00155dd89822row1_col0\" class=\"data row1 col0\" >1.12e+04</td>\n",
       "                        <td id=\"T_efd7cc5c_baa2_11ec_ae65_00155dd89822row1_col1\" class=\"data row1 col1\" >1.13e+04</td>\n",
       "                        <td id=\"T_efd7cc5c_baa2_11ec_ae65_00155dd89822row1_col2\" class=\"data row1 col2\" >0.182</td>\n",
       "                        <td id=\"T_efd7cc5c_baa2_11ec_ae65_00155dd89822row1_col3\" class=\"data row1 col3\" >0.178</td>\n",
       "            </tr>\n",
       "            <tr>\n",
       "                        <th id=\"T_efd7cc5c_baa2_11ec_ae65_00155dd89822level0_row2\" class=\"row_heading level0 row2\" >10</th>\n",
       "                        <td id=\"T_efd7cc5c_baa2_11ec_ae65_00155dd89822row2_col0\" class=\"data row2 col0\" >1.1e+04</td>\n",
       "                        <td id=\"T_efd7cc5c_baa2_11ec_ae65_00155dd89822row2_col1\" class=\"data row2 col1\" >1.1e+04</td>\n",
       "                        <td id=\"T_efd7cc5c_baa2_11ec_ae65_00155dd89822row2_col2\" class=\"data row2 col2\" >0.113</td>\n",
       "                        <td id=\"T_efd7cc5c_baa2_11ec_ae65_00155dd89822row2_col3\" class=\"data row2 col3\" >0.113</td>\n",
       "            </tr>\n",
       "            <tr>\n",
       "                        <th id=\"T_efd7cc5c_baa2_11ec_ae65_00155dd89822level0_row3\" class=\"row_heading level0 row3\" >15</th>\n",
       "                        <td id=\"T_efd7cc5c_baa2_11ec_ae65_00155dd89822row3_col0\" class=\"data row3 col0\" >1.07e+04</td>\n",
       "                        <td id=\"T_efd7cc5c_baa2_11ec_ae65_00155dd89822row3_col1\" class=\"data row3 col1\" >1.07e+04</td>\n",
       "                        <td id=\"T_efd7cc5c_baa2_11ec_ae65_00155dd89822row3_col2\" class=\"data row3 col2\" >0.0861</td>\n",
       "                        <td id=\"T_efd7cc5c_baa2_11ec_ae65_00155dd89822row3_col3\" class=\"data row3 col3\" >0.0839</td>\n",
       "            </tr>\n",
       "    </tbody></table>"
      ],
      "text/plain": [
       "<pandas.io.formats.style.Styler at 0x7fd59e8914d0>"
      ]
     },
     "metadata": {},
     "output_type": "display_data"
    },
    {
     "name": "stdout",
     "output_type": "stream",
     "text": [
      "[\u001b[1mtardis.simulation.base\u001b[0m][\u001b[1;37mINFO\u001b[0m   ]  \n",
      "\t\n",
      "\tCurrent t_inner = 10638.407 K\n",
      "\tExpected t_inner for next iteration = 10650.202 K\n",
      " (\u001b[1mbase.py\u001b[0m:542)\n",
      "[\u001b[1mtardis.simulation.base\u001b[0m][\u001b[1;37mINFO\u001b[0m   ]  \n",
      "\t\n",
      "\tStarting iteration 6 of 20 (\u001b[1mbase.py\u001b[0m:378)\n",
      "[\u001b[1mtardis.simulation.base\u001b[0m][\u001b[1;37mINFO\u001b[0m   ]  \n",
      "\t\n",
      "\tLuminosity emitted   = 1.061e+43 erg / s\n",
      "\tLuminosity absorbed  = 3.398e+42 erg / s\n",
      "\tLuminosity requested = 1.059e+43 erg / s\n",
      " (\u001b[1mbase.py\u001b[0m:547)\n",
      "[\u001b[1mtardis.simulation.base\u001b[0m][\u001b[1;37mINFO\u001b[0m   ]  \n",
      "\tIteration converged 2/4 consecutive times. (\u001b[1mbase.py\u001b[0m:259)\n",
      "[\u001b[1mtardis.simulation.base\u001b[0m][\u001b[1;37mINFO\u001b[0m   ]  \n",
      "\t\n",
      "\tPlasma stratification: (\u001b[1mbase.py\u001b[0m:514)\n"
     ]
    },
    {
     "data": {
      "text/html": [
       "<style  type=\"text/css\" >\n",
       "</style><table id=\"T_f04f3f80_baa2_11ec_ae65_00155dd89822\" ><thead>    <tr>        <th class=\"index_name level0\" >Shell No.</th>        <th class=\"col_heading level0 col0\" >t_rad</th>        <th class=\"col_heading level0 col1\" >next_t_rad</th>        <th class=\"col_heading level0 col2\" >w</th>        <th class=\"col_heading level0 col3\" >next_w</th>    </tr></thead><tbody>\n",
       "                <tr>\n",
       "                        <th id=\"T_f04f3f80_baa2_11ec_ae65_00155dd89822level0_row0\" class=\"row_heading level0 row0\" >0</th>\n",
       "                        <td id=\"T_f04f3f80_baa2_11ec_ae65_00155dd89822row0_col0\" class=\"data row0 col0\" >1.1e+04</td>\n",
       "                        <td id=\"T_f04f3f80_baa2_11ec_ae65_00155dd89822row0_col1\" class=\"data row0 col1\" >1.1e+04</td>\n",
       "                        <td id=\"T_f04f3f80_baa2_11ec_ae65_00155dd89822row0_col2\" class=\"data row0 col2\" >0.479</td>\n",
       "                        <td id=\"T_f04f3f80_baa2_11ec_ae65_00155dd89822row0_col3\" class=\"data row0 col3\" >0.47</td>\n",
       "            </tr>\n",
       "            <tr>\n",
       "                        <th id=\"T_f04f3f80_baa2_11ec_ae65_00155dd89822level0_row1\" class=\"row_heading level0 row1\" >5</th>\n",
       "                        <td id=\"T_f04f3f80_baa2_11ec_ae65_00155dd89822row1_col0\" class=\"data row1 col0\" >1.13e+04</td>\n",
       "                        <td id=\"T_f04f3f80_baa2_11ec_ae65_00155dd89822row1_col1\" class=\"data row1 col1\" >1.12e+04</td>\n",
       "                        <td id=\"T_f04f3f80_baa2_11ec_ae65_00155dd89822row1_col2\" class=\"data row1 col2\" >0.178</td>\n",
       "                        <td id=\"T_f04f3f80_baa2_11ec_ae65_00155dd89822row1_col3\" class=\"data row1 col3\" >0.185</td>\n",
       "            </tr>\n",
       "            <tr>\n",
       "                        <th id=\"T_f04f3f80_baa2_11ec_ae65_00155dd89822level0_row2\" class=\"row_heading level0 row2\" >10</th>\n",
       "                        <td id=\"T_f04f3f80_baa2_11ec_ae65_00155dd89822row2_col0\" class=\"data row2 col0\" >1.1e+04</td>\n",
       "                        <td id=\"T_f04f3f80_baa2_11ec_ae65_00155dd89822row2_col1\" class=\"data row2 col1\" >1.11e+04</td>\n",
       "                        <td id=\"T_f04f3f80_baa2_11ec_ae65_00155dd89822row2_col2\" class=\"data row2 col2\" >0.113</td>\n",
       "                        <td id=\"T_f04f3f80_baa2_11ec_ae65_00155dd89822row2_col3\" class=\"data row2 col3\" >0.112</td>\n",
       "            </tr>\n",
       "            <tr>\n",
       "                        <th id=\"T_f04f3f80_baa2_11ec_ae65_00155dd89822level0_row3\" class=\"row_heading level0 row3\" >15</th>\n",
       "                        <td id=\"T_f04f3f80_baa2_11ec_ae65_00155dd89822row3_col0\" class=\"data row3 col0\" >1.07e+04</td>\n",
       "                        <td id=\"T_f04f3f80_baa2_11ec_ae65_00155dd89822row3_col1\" class=\"data row3 col1\" >1.07e+04</td>\n",
       "                        <td id=\"T_f04f3f80_baa2_11ec_ae65_00155dd89822row3_col2\" class=\"data row3 col2\" >0.0839</td>\n",
       "                        <td id=\"T_f04f3f80_baa2_11ec_ae65_00155dd89822row3_col3\" class=\"data row3 col3\" >0.0856</td>\n",
       "            </tr>\n",
       "    </tbody></table>"
      ],
      "text/plain": [
       "<pandas.io.formats.style.Styler at 0x7fd54f75be90>"
      ]
     },
     "metadata": {},
     "output_type": "display_data"
    },
    {
     "name": "stdout",
     "output_type": "stream",
     "text": [
      "[\u001b[1mtardis.simulation.base\u001b[0m][\u001b[1;37mINFO\u001b[0m   ]  \n",
      "\t\n",
      "\tCurrent t_inner = 10650.202 K\n",
      "\tExpected t_inner for next iteration = 10645.955 K\n",
      " (\u001b[1mbase.py\u001b[0m:542)\n",
      "[\u001b[1mtardis.simulation.base\u001b[0m][\u001b[1;37mINFO\u001b[0m   ]  \n",
      "\t\n",
      "\tStarting iteration 7 of 20 (\u001b[1mbase.py\u001b[0m:378)\n",
      "[\u001b[1mtardis.simulation.base\u001b[0m][\u001b[1;37mINFO\u001b[0m   ]  \n",
      "\t\n",
      "\tLuminosity emitted   = 1.061e+43 erg / s\n",
      "\tLuminosity absorbed  = 3.382e+42 erg / s\n",
      "\tLuminosity requested = 1.059e+43 erg / s\n",
      " (\u001b[1mbase.py\u001b[0m:547)\n",
      "[\u001b[1mtardis.simulation.base\u001b[0m][\u001b[1;37mINFO\u001b[0m   ]  \n",
      "\tIteration converged 3/4 consecutive times. (\u001b[1mbase.py\u001b[0m:259)\n",
      "[\u001b[1mtardis.simulation.base\u001b[0m][\u001b[1;37mINFO\u001b[0m   ]  \n",
      "\t\n",
      "\tPlasma stratification: (\u001b[1mbase.py\u001b[0m:514)\n"
     ]
    },
    {
     "data": {
      "text/html": [
       "<style  type=\"text/css\" >\n",
       "</style><table id=\"T_f0b93840_baa2_11ec_ae65_00155dd89822\" ><thead>    <tr>        <th class=\"index_name level0\" >Shell No.</th>        <th class=\"col_heading level0 col0\" >t_rad</th>        <th class=\"col_heading level0 col1\" >next_t_rad</th>        <th class=\"col_heading level0 col2\" >w</th>        <th class=\"col_heading level0 col3\" >next_w</th>    </tr></thead><tbody>\n",
       "                <tr>\n",
       "                        <th id=\"T_f0b93840_baa2_11ec_ae65_00155dd89822level0_row0\" class=\"row_heading level0 row0\" >0</th>\n",
       "                        <td id=\"T_f0b93840_baa2_11ec_ae65_00155dd89822row0_col0\" class=\"data row0 col0\" >1.1e+04</td>\n",
       "                        <td id=\"T_f0b93840_baa2_11ec_ae65_00155dd89822row0_col1\" class=\"data row0 col1\" >1.1e+04</td>\n",
       "                        <td id=\"T_f0b93840_baa2_11ec_ae65_00155dd89822row0_col2\" class=\"data row0 col2\" >0.47</td>\n",
       "                        <td id=\"T_f0b93840_baa2_11ec_ae65_00155dd89822row0_col3\" class=\"data row0 col3\" >0.47</td>\n",
       "            </tr>\n",
       "            <tr>\n",
       "                        <th id=\"T_f0b93840_baa2_11ec_ae65_00155dd89822level0_row1\" class=\"row_heading level0 row1\" >5</th>\n",
       "                        <td id=\"T_f0b93840_baa2_11ec_ae65_00155dd89822row1_col0\" class=\"data row1 col0\" >1.12e+04</td>\n",
       "                        <td id=\"T_f0b93840_baa2_11ec_ae65_00155dd89822row1_col1\" class=\"data row1 col1\" >1.13e+04</td>\n",
       "                        <td id=\"T_f0b93840_baa2_11ec_ae65_00155dd89822row1_col2\" class=\"data row1 col2\" >0.185</td>\n",
       "                        <td id=\"T_f0b93840_baa2_11ec_ae65_00155dd89822row1_col3\" class=\"data row1 col3\" >0.178</td>\n",
       "            </tr>\n",
       "            <tr>\n",
       "                        <th id=\"T_f0b93840_baa2_11ec_ae65_00155dd89822level0_row2\" class=\"row_heading level0 row2\" >10</th>\n",
       "                        <td id=\"T_f0b93840_baa2_11ec_ae65_00155dd89822row2_col0\" class=\"data row2 col0\" >1.11e+04</td>\n",
       "                        <td id=\"T_f0b93840_baa2_11ec_ae65_00155dd89822row2_col1\" class=\"data row2 col1\" >1.11e+04</td>\n",
       "                        <td id=\"T_f0b93840_baa2_11ec_ae65_00155dd89822row2_col2\" class=\"data row2 col2\" >0.112</td>\n",
       "                        <td id=\"T_f0b93840_baa2_11ec_ae65_00155dd89822row2_col3\" class=\"data row2 col3\" >0.112</td>\n",
       "            </tr>\n",
       "            <tr>\n",
       "                        <th id=\"T_f0b93840_baa2_11ec_ae65_00155dd89822level0_row3\" class=\"row_heading level0 row3\" >15</th>\n",
       "                        <td id=\"T_f0b93840_baa2_11ec_ae65_00155dd89822row3_col0\" class=\"data row3 col0\" >1.07e+04</td>\n",
       "                        <td id=\"T_f0b93840_baa2_11ec_ae65_00155dd89822row3_col1\" class=\"data row3 col1\" >1.07e+04</td>\n",
       "                        <td id=\"T_f0b93840_baa2_11ec_ae65_00155dd89822row3_col2\" class=\"data row3 col2\" >0.0856</td>\n",
       "                        <td id=\"T_f0b93840_baa2_11ec_ae65_00155dd89822row3_col3\" class=\"data row3 col3\" >0.086</td>\n",
       "            </tr>\n",
       "    </tbody></table>"
      ],
      "text/plain": [
       "<pandas.io.formats.style.Styler at 0x7fd54f75b090>"
      ]
     },
     "metadata": {},
     "output_type": "display_data"
    },
    {
     "name": "stdout",
     "output_type": "stream",
     "text": [
      "[\u001b[1mtardis.simulation.base\u001b[0m][\u001b[1;37mINFO\u001b[0m   ]  \n",
      "\t\n",
      "\tCurrent t_inner = 10645.955 K\n",
      "\tExpected t_inner for next iteration = 10642.050 K\n",
      " (\u001b[1mbase.py\u001b[0m:542)\n",
      "[\u001b[1mtardis.simulation.base\u001b[0m][\u001b[1;37mINFO\u001b[0m   ]  \n",
      "\t\n",
      "\tStarting iteration 8 of 20 (\u001b[1mbase.py\u001b[0m:378)\n",
      "[\u001b[1mtardis.simulation.base\u001b[0m][\u001b[1;37mINFO\u001b[0m   ]  \n",
      "\t\n",
      "\tLuminosity emitted   = 1.062e+43 erg / s\n",
      "\tLuminosity absorbed  = 3.350e+42 erg / s\n",
      "\tLuminosity requested = 1.059e+43 erg / s\n",
      " (\u001b[1mbase.py\u001b[0m:547)\n",
      "[\u001b[1mtardis.simulation.base\u001b[0m][\u001b[1;37mINFO\u001b[0m   ]  \n",
      "\tIteration converged 4/4 consecutive times. (\u001b[1mbase.py\u001b[0m:259)\n",
      "[\u001b[1mtardis.simulation.base\u001b[0m][\u001b[1;37mINFO\u001b[0m   ]  \n",
      "\t\n",
      "\tPlasma stratification: (\u001b[1mbase.py\u001b[0m:514)\n"
     ]
    },
    {
     "data": {
      "text/html": [
       "<style  type=\"text/css\" >\n",
       "</style><table id=\"T_f123e870_baa2_11ec_ae65_00155dd89822\" ><thead>    <tr>        <th class=\"index_name level0\" >Shell No.</th>        <th class=\"col_heading level0 col0\" >t_rad</th>        <th class=\"col_heading level0 col1\" >next_t_rad</th>        <th class=\"col_heading level0 col2\" >w</th>        <th class=\"col_heading level0 col3\" >next_w</th>    </tr></thead><tbody>\n",
       "                <tr>\n",
       "                        <th id=\"T_f123e870_baa2_11ec_ae65_00155dd89822level0_row0\" class=\"row_heading level0 row0\" >0</th>\n",
       "                        <td id=\"T_f123e870_baa2_11ec_ae65_00155dd89822row0_col0\" class=\"data row0 col0\" >1.1e+04</td>\n",
       "                        <td id=\"T_f123e870_baa2_11ec_ae65_00155dd89822row0_col1\" class=\"data row0 col1\" >1.11e+04</td>\n",
       "                        <td id=\"T_f123e870_baa2_11ec_ae65_00155dd89822row0_col2\" class=\"data row0 col2\" >0.47</td>\n",
       "                        <td id=\"T_f123e870_baa2_11ec_ae65_00155dd89822row0_col3\" class=\"data row0 col3\" >0.472</td>\n",
       "            </tr>\n",
       "            <tr>\n",
       "                        <th id=\"T_f123e870_baa2_11ec_ae65_00155dd89822level0_row1\" class=\"row_heading level0 row1\" >5</th>\n",
       "                        <td id=\"T_f123e870_baa2_11ec_ae65_00155dd89822row1_col0\" class=\"data row1 col0\" >1.13e+04</td>\n",
       "                        <td id=\"T_f123e870_baa2_11ec_ae65_00155dd89822row1_col1\" class=\"data row1 col1\" >1.14e+04</td>\n",
       "                        <td id=\"T_f123e870_baa2_11ec_ae65_00155dd89822row1_col2\" class=\"data row1 col2\" >0.178</td>\n",
       "                        <td id=\"T_f123e870_baa2_11ec_ae65_00155dd89822row1_col3\" class=\"data row1 col3\" >0.175</td>\n",
       "            </tr>\n",
       "            <tr>\n",
       "                        <th id=\"T_f123e870_baa2_11ec_ae65_00155dd89822level0_row2\" class=\"row_heading level0 row2\" >10</th>\n",
       "                        <td id=\"T_f123e870_baa2_11ec_ae65_00155dd89822row2_col0\" class=\"data row2 col0\" >1.11e+04</td>\n",
       "                        <td id=\"T_f123e870_baa2_11ec_ae65_00155dd89822row2_col1\" class=\"data row2 col1\" >1.11e+04</td>\n",
       "                        <td id=\"T_f123e870_baa2_11ec_ae65_00155dd89822row2_col2\" class=\"data row2 col2\" >0.112</td>\n",
       "                        <td id=\"T_f123e870_baa2_11ec_ae65_00155dd89822row2_col3\" class=\"data row2 col3\" >0.111</td>\n",
       "            </tr>\n",
       "            <tr>\n",
       "                        <th id=\"T_f123e870_baa2_11ec_ae65_00155dd89822level0_row3\" class=\"row_heading level0 row3\" >15</th>\n",
       "                        <td id=\"T_f123e870_baa2_11ec_ae65_00155dd89822row3_col0\" class=\"data row3 col0\" >1.07e+04</td>\n",
       "                        <td id=\"T_f123e870_baa2_11ec_ae65_00155dd89822row3_col1\" class=\"data row3 col1\" >1.07e+04</td>\n",
       "                        <td id=\"T_f123e870_baa2_11ec_ae65_00155dd89822row3_col2\" class=\"data row3 col2\" >0.086</td>\n",
       "                        <td id=\"T_f123e870_baa2_11ec_ae65_00155dd89822row3_col3\" class=\"data row3 col3\" >0.084</td>\n",
       "            </tr>\n",
       "    </tbody></table>"
      ],
      "text/plain": [
       "<pandas.io.formats.style.Styler at 0x7fd55f637490>"
      ]
     },
     "metadata": {},
     "output_type": "display_data"
    },
    {
     "name": "stdout",
     "output_type": "stream",
     "text": [
      "[\u001b[1mtardis.simulation.base\u001b[0m][\u001b[1;37mINFO\u001b[0m   ]  \n",
      "\t\n",
      "\tCurrent t_inner = 10642.050 K\n",
      "\tExpected t_inner for next iteration = 10636.106 K\n",
      " (\u001b[1mbase.py\u001b[0m:542)\n",
      "[\u001b[1mtardis.simulation.base\u001b[0m][\u001b[1;37mINFO\u001b[0m   ]  \n",
      "\t\n",
      "\tStarting iteration 9 of 20 (\u001b[1mbase.py\u001b[0m:378)\n",
      "[\u001b[1mtardis.simulation.base\u001b[0m][\u001b[1;37mINFO\u001b[0m   ]  \n",
      "\t\n",
      "\tLuminosity emitted   = 1.052e+43 erg / s\n",
      "\tLuminosity absorbed  = 3.411e+42 erg / s\n",
      "\tLuminosity requested = 1.059e+43 erg / s\n",
      " (\u001b[1mbase.py\u001b[0m:547)\n",
      "[\u001b[1mtardis.simulation.base\u001b[0m][\u001b[1;37mINFO\u001b[0m   ]  \n",
      "\tIteration converged 5/4 consecutive times. (\u001b[1mbase.py\u001b[0m:259)\n",
      "[\u001b[1mtardis.simulation.base\u001b[0m][\u001b[1;37mINFO\u001b[0m   ]  \n",
      "\t\n",
      "\tPlasma stratification: (\u001b[1mbase.py\u001b[0m:514)\n"
     ]
    },
    {
     "data": {
      "text/html": [
       "<style  type=\"text/css\" >\n",
       "</style><table id=\"T_f18f7aa4_baa2_11ec_ae65_00155dd89822\" ><thead>    <tr>        <th class=\"index_name level0\" >Shell No.</th>        <th class=\"col_heading level0 col0\" >t_rad</th>        <th class=\"col_heading level0 col1\" >next_t_rad</th>        <th class=\"col_heading level0 col2\" >w</th>        <th class=\"col_heading level0 col3\" >next_w</th>    </tr></thead><tbody>\n",
       "                <tr>\n",
       "                        <th id=\"T_f18f7aa4_baa2_11ec_ae65_00155dd89822level0_row0\" class=\"row_heading level0 row0\" >0</th>\n",
       "                        <td id=\"T_f18f7aa4_baa2_11ec_ae65_00155dd89822row0_col0\" class=\"data row0 col0\" >1.11e+04</td>\n",
       "                        <td id=\"T_f18f7aa4_baa2_11ec_ae65_00155dd89822row0_col1\" class=\"data row0 col1\" >1.11e+04</td>\n",
       "                        <td id=\"T_f18f7aa4_baa2_11ec_ae65_00155dd89822row0_col2\" class=\"data row0 col2\" >0.472</td>\n",
       "                        <td id=\"T_f18f7aa4_baa2_11ec_ae65_00155dd89822row0_col3\" class=\"data row0 col3\" >0.469</td>\n",
       "            </tr>\n",
       "            <tr>\n",
       "                        <th id=\"T_f18f7aa4_baa2_11ec_ae65_00155dd89822level0_row1\" class=\"row_heading level0 row1\" >5</th>\n",
       "                        <td id=\"T_f18f7aa4_baa2_11ec_ae65_00155dd89822row1_col0\" class=\"data row1 col0\" >1.14e+04</td>\n",
       "                        <td id=\"T_f18f7aa4_baa2_11ec_ae65_00155dd89822row1_col1\" class=\"data row1 col1\" >1.15e+04</td>\n",
       "                        <td id=\"T_f18f7aa4_baa2_11ec_ae65_00155dd89822row1_col2\" class=\"data row1 col2\" >0.175</td>\n",
       "                        <td id=\"T_f18f7aa4_baa2_11ec_ae65_00155dd89822row1_col3\" class=\"data row1 col3\" >0.17</td>\n",
       "            </tr>\n",
       "            <tr>\n",
       "                        <th id=\"T_f18f7aa4_baa2_11ec_ae65_00155dd89822level0_row2\" class=\"row_heading level0 row2\" >10</th>\n",
       "                        <td id=\"T_f18f7aa4_baa2_11ec_ae65_00155dd89822row2_col0\" class=\"data row2 col0\" >1.11e+04</td>\n",
       "                        <td id=\"T_f18f7aa4_baa2_11ec_ae65_00155dd89822row2_col1\" class=\"data row2 col1\" >1.11e+04</td>\n",
       "                        <td id=\"T_f18f7aa4_baa2_11ec_ae65_00155dd89822row2_col2\" class=\"data row2 col2\" >0.111</td>\n",
       "                        <td id=\"T_f18f7aa4_baa2_11ec_ae65_00155dd89822row2_col3\" class=\"data row2 col3\" >0.109</td>\n",
       "            </tr>\n",
       "            <tr>\n",
       "                        <th id=\"T_f18f7aa4_baa2_11ec_ae65_00155dd89822level0_row3\" class=\"row_heading level0 row3\" >15</th>\n",
       "                        <td id=\"T_f18f7aa4_baa2_11ec_ae65_00155dd89822row3_col0\" class=\"data row3 col0\" >1.07e+04</td>\n",
       "                        <td id=\"T_f18f7aa4_baa2_11ec_ae65_00155dd89822row3_col1\" class=\"data row3 col1\" >1.08e+04</td>\n",
       "                        <td id=\"T_f18f7aa4_baa2_11ec_ae65_00155dd89822row3_col2\" class=\"data row3 col2\" >0.084</td>\n",
       "                        <td id=\"T_f18f7aa4_baa2_11ec_ae65_00155dd89822row3_col3\" class=\"data row3 col3\" >0.0822</td>\n",
       "            </tr>\n",
       "    </tbody></table>"
      ],
      "text/plain": [
       "<pandas.io.formats.style.Styler at 0x7fd54f765e10>"
      ]
     },
     "metadata": {},
     "output_type": "display_data"
    },
    {
     "name": "stdout",
     "output_type": "stream",
     "text": [
      "[\u001b[1mtardis.simulation.base\u001b[0m][\u001b[1;37mINFO\u001b[0m   ]  \n",
      "\t\n",
      "\tCurrent t_inner = 10636.106 K\n",
      "\tExpected t_inner for next iteration = 10654.313 K\n",
      " (\u001b[1mbase.py\u001b[0m:542)\n",
      "[\u001b[1mtardis.simulation.base\u001b[0m][\u001b[1;37mINFO\u001b[0m   ]  \n",
      "\t\n",
      "\tStarting iteration 10 of 20 (\u001b[1mbase.py\u001b[0m:378)\n",
      "[\u001b[1mtardis.simulation.base\u001b[0m][\u001b[1;37mINFO\u001b[0m   ]  \n",
      "\t\n",
      "\tLuminosity emitted   = 1.070e+43 erg / s\n",
      "\tLuminosity absorbed  = 3.335e+42 erg / s\n",
      "\tLuminosity requested = 1.059e+43 erg / s\n",
      " (\u001b[1mbase.py\u001b[0m:547)\n",
      "[\u001b[1mtardis.simulation.base\u001b[0m][\u001b[1;37mINFO\u001b[0m   ]  \n",
      "\t\n",
      "\tPlasma stratification: (\u001b[1mbase.py\u001b[0m:514)\n"
     ]
    },
    {
     "data": {
      "text/html": [
       "<style  type=\"text/css\" >\n",
       "</style><table id=\"T_f1fac156_baa2_11ec_ae65_00155dd89822\" ><thead>    <tr>        <th class=\"index_name level0\" >Shell No.</th>        <th class=\"col_heading level0 col0\" >t_rad</th>        <th class=\"col_heading level0 col1\" >next_t_rad</th>        <th class=\"col_heading level0 col2\" >w</th>        <th class=\"col_heading level0 col3\" >next_w</th>    </tr></thead><tbody>\n",
       "                <tr>\n",
       "                        <th id=\"T_f1fac156_baa2_11ec_ae65_00155dd89822level0_row0\" class=\"row_heading level0 row0\" >0</th>\n",
       "                        <td id=\"T_f1fac156_baa2_11ec_ae65_00155dd89822row0_col0\" class=\"data row0 col0\" >1.11e+04</td>\n",
       "                        <td id=\"T_f1fac156_baa2_11ec_ae65_00155dd89822row0_col1\" class=\"data row0 col1\" >1.1e+04</td>\n",
       "                        <td id=\"T_f1fac156_baa2_11ec_ae65_00155dd89822row0_col2\" class=\"data row0 col2\" >0.469</td>\n",
       "                        <td id=\"T_f1fac156_baa2_11ec_ae65_00155dd89822row0_col3\" class=\"data row0 col3\" >0.475</td>\n",
       "            </tr>\n",
       "            <tr>\n",
       "                        <th id=\"T_f1fac156_baa2_11ec_ae65_00155dd89822level0_row1\" class=\"row_heading level0 row1\" >5</th>\n",
       "                        <td id=\"T_f1fac156_baa2_11ec_ae65_00155dd89822row1_col0\" class=\"data row1 col0\" >1.15e+04</td>\n",
       "                        <td id=\"T_f1fac156_baa2_11ec_ae65_00155dd89822row1_col1\" class=\"data row1 col1\" >1.14e+04</td>\n",
       "                        <td id=\"T_f1fac156_baa2_11ec_ae65_00155dd89822row1_col2\" class=\"data row1 col2\" >0.17</td>\n",
       "                        <td id=\"T_f1fac156_baa2_11ec_ae65_00155dd89822row1_col3\" class=\"data row1 col3\" >0.177</td>\n",
       "            </tr>\n",
       "            <tr>\n",
       "                        <th id=\"T_f1fac156_baa2_11ec_ae65_00155dd89822level0_row2\" class=\"row_heading level0 row2\" >10</th>\n",
       "                        <td id=\"T_f1fac156_baa2_11ec_ae65_00155dd89822row2_col0\" class=\"data row2 col0\" >1.11e+04</td>\n",
       "                        <td id=\"T_f1fac156_baa2_11ec_ae65_00155dd89822row2_col1\" class=\"data row2 col1\" >1.11e+04</td>\n",
       "                        <td id=\"T_f1fac156_baa2_11ec_ae65_00155dd89822row2_col2\" class=\"data row2 col2\" >0.109</td>\n",
       "                        <td id=\"T_f1fac156_baa2_11ec_ae65_00155dd89822row2_col3\" class=\"data row2 col3\" >0.112</td>\n",
       "            </tr>\n",
       "            <tr>\n",
       "                        <th id=\"T_f1fac156_baa2_11ec_ae65_00155dd89822level0_row3\" class=\"row_heading level0 row3\" >15</th>\n",
       "                        <td id=\"T_f1fac156_baa2_11ec_ae65_00155dd89822row3_col0\" class=\"data row3 col0\" >1.08e+04</td>\n",
       "                        <td id=\"T_f1fac156_baa2_11ec_ae65_00155dd89822row3_col1\" class=\"data row3 col1\" >1.06e+04</td>\n",
       "                        <td id=\"T_f1fac156_baa2_11ec_ae65_00155dd89822row3_col2\" class=\"data row3 col2\" >0.0822</td>\n",
       "                        <td id=\"T_f1fac156_baa2_11ec_ae65_00155dd89822row3_col3\" class=\"data row3 col3\" >0.0878</td>\n",
       "            </tr>\n",
       "    </tbody></table>"
      ],
      "text/plain": [
       "<pandas.io.formats.style.Styler at 0x7fd54f744cd0>"
      ]
     },
     "metadata": {},
     "output_type": "display_data"
    },
    {
     "name": "stdout",
     "output_type": "stream",
     "text": [
      "[\u001b[1mtardis.simulation.base\u001b[0m][\u001b[1;37mINFO\u001b[0m   ]  \n",
      "\t\n",
      "\tCurrent t_inner = 10654.313 K\n",
      "\tExpected t_inner for next iteration = 10628.190 K\n",
      " (\u001b[1mbase.py\u001b[0m:542)\n",
      "[\u001b[1mtardis.simulation.base\u001b[0m][\u001b[1;37mINFO\u001b[0m   ]  \n",
      "\t\n",
      "\tStarting iteration 11 of 20 (\u001b[1mbase.py\u001b[0m:378)\n",
      "[\u001b[1mtardis.simulation.base\u001b[0m][\u001b[1;37mINFO\u001b[0m   ]  \n",
      "\t\n",
      "\tLuminosity emitted   = 1.053e+43 erg / s\n",
      "\tLuminosity absorbed  = 3.363e+42 erg / s\n",
      "\tLuminosity requested = 1.059e+43 erg / s\n",
      " (\u001b[1mbase.py\u001b[0m:547)\n",
      "[\u001b[1mtardis.simulation.base\u001b[0m][\u001b[1;37mINFO\u001b[0m   ]  \n",
      "\tIteration converged 1/4 consecutive times. (\u001b[1mbase.py\u001b[0m:259)\n",
      "[\u001b[1mtardis.simulation.base\u001b[0m][\u001b[1;37mINFO\u001b[0m   ]  \n",
      "\t\n",
      "\tPlasma stratification: (\u001b[1mbase.py\u001b[0m:514)\n"
     ]
    },
    {
     "data": {
      "text/html": [
       "<style  type=\"text/css\" >\n",
       "</style><table id=\"T_f260fb06_baa2_11ec_ae65_00155dd89822\" ><thead>    <tr>        <th class=\"index_name level0\" >Shell No.</th>        <th class=\"col_heading level0 col0\" >t_rad</th>        <th class=\"col_heading level0 col1\" >next_t_rad</th>        <th class=\"col_heading level0 col2\" >w</th>        <th class=\"col_heading level0 col3\" >next_w</th>    </tr></thead><tbody>\n",
       "                <tr>\n",
       "                        <th id=\"T_f260fb06_baa2_11ec_ae65_00155dd89822level0_row0\" class=\"row_heading level0 row0\" >0</th>\n",
       "                        <td id=\"T_f260fb06_baa2_11ec_ae65_00155dd89822row0_col0\" class=\"data row0 col0\" >1.1e+04</td>\n",
       "                        <td id=\"T_f260fb06_baa2_11ec_ae65_00155dd89822row0_col1\" class=\"data row0 col1\" >1.1e+04</td>\n",
       "                        <td id=\"T_f260fb06_baa2_11ec_ae65_00155dd89822row0_col2\" class=\"data row0 col2\" >0.475</td>\n",
       "                        <td id=\"T_f260fb06_baa2_11ec_ae65_00155dd89822row0_col3\" class=\"data row0 col3\" >0.472</td>\n",
       "            </tr>\n",
       "            <tr>\n",
       "                        <th id=\"T_f260fb06_baa2_11ec_ae65_00155dd89822level0_row1\" class=\"row_heading level0 row1\" >5</th>\n",
       "                        <td id=\"T_f260fb06_baa2_11ec_ae65_00155dd89822row1_col0\" class=\"data row1 col0\" >1.14e+04</td>\n",
       "                        <td id=\"T_f260fb06_baa2_11ec_ae65_00155dd89822row1_col1\" class=\"data row1 col1\" >1.12e+04</td>\n",
       "                        <td id=\"T_f260fb06_baa2_11ec_ae65_00155dd89822row1_col2\" class=\"data row1 col2\" >0.177</td>\n",
       "                        <td id=\"T_f260fb06_baa2_11ec_ae65_00155dd89822row1_col3\" class=\"data row1 col3\" >0.184</td>\n",
       "            </tr>\n",
       "            <tr>\n",
       "                        <th id=\"T_f260fb06_baa2_11ec_ae65_00155dd89822level0_row2\" class=\"row_heading level0 row2\" >10</th>\n",
       "                        <td id=\"T_f260fb06_baa2_11ec_ae65_00155dd89822row2_col0\" class=\"data row2 col0\" >1.11e+04</td>\n",
       "                        <td id=\"T_f260fb06_baa2_11ec_ae65_00155dd89822row2_col1\" class=\"data row2 col1\" >1.1e+04</td>\n",
       "                        <td id=\"T_f260fb06_baa2_11ec_ae65_00155dd89822row2_col2\" class=\"data row2 col2\" >0.112</td>\n",
       "                        <td id=\"T_f260fb06_baa2_11ec_ae65_00155dd89822row2_col3\" class=\"data row2 col3\" >0.114</td>\n",
       "            </tr>\n",
       "            <tr>\n",
       "                        <th id=\"T_f260fb06_baa2_11ec_ae65_00155dd89822level0_row3\" class=\"row_heading level0 row3\" >15</th>\n",
       "                        <td id=\"T_f260fb06_baa2_11ec_ae65_00155dd89822row3_col0\" class=\"data row3 col0\" >1.06e+04</td>\n",
       "                        <td id=\"T_f260fb06_baa2_11ec_ae65_00155dd89822row3_col1\" class=\"data row3 col1\" >1.06e+04</td>\n",
       "                        <td id=\"T_f260fb06_baa2_11ec_ae65_00155dd89822row3_col2\" class=\"data row3 col2\" >0.0878</td>\n",
       "                        <td id=\"T_f260fb06_baa2_11ec_ae65_00155dd89822row3_col3\" class=\"data row3 col3\" >0.0859</td>\n",
       "            </tr>\n",
       "    </tbody></table>"
      ],
      "text/plain": [
       "<pandas.io.formats.style.Styler at 0x7fd54f759d90>"
      ]
     },
     "metadata": {},
     "output_type": "display_data"
    },
    {
     "name": "stdout",
     "output_type": "stream",
     "text": [
      "[\u001b[1mtardis.simulation.base\u001b[0m][\u001b[1;37mINFO\u001b[0m   ]  \n",
      "\t\n",
      "\tCurrent t_inner = 10628.190 K\n",
      "\tExpected t_inner for next iteration = 10644.054 K\n",
      " (\u001b[1mbase.py\u001b[0m:542)\n",
      "[\u001b[1mtardis.simulation.base\u001b[0m][\u001b[1;37mINFO\u001b[0m   ]  \n",
      "\t\n",
      "\tStarting iteration 12 of 20 (\u001b[1mbase.py\u001b[0m:378)\n",
      "[\u001b[1mtardis.simulation.base\u001b[0m][\u001b[1;37mINFO\u001b[0m   ]  \n",
      "\t\n",
      "\tLuminosity emitted   = 1.056e+43 erg / s\n",
      "\tLuminosity absorbed  = 3.420e+42 erg / s\n",
      "\tLuminosity requested = 1.059e+43 erg / s\n",
      " (\u001b[1mbase.py\u001b[0m:547)\n",
      "[\u001b[1mtardis.simulation.base\u001b[0m][\u001b[1;37mINFO\u001b[0m   ]  \n",
      "\t\n",
      "\tPlasma stratification: (\u001b[1mbase.py\u001b[0m:514)\n"
     ]
    },
    {
     "data": {
      "text/html": [
       "<style  type=\"text/css\" >\n",
       "</style><table id=\"T_f2c83474_baa2_11ec_ae65_00155dd89822\" ><thead>    <tr>        <th class=\"index_name level0\" >Shell No.</th>        <th class=\"col_heading level0 col0\" >t_rad</th>        <th class=\"col_heading level0 col1\" >next_t_rad</th>        <th class=\"col_heading level0 col2\" >w</th>        <th class=\"col_heading level0 col3\" >next_w</th>    </tr></thead><tbody>\n",
       "                <tr>\n",
       "                        <th id=\"T_f2c83474_baa2_11ec_ae65_00155dd89822level0_row0\" class=\"row_heading level0 row0\" >0</th>\n",
       "                        <td id=\"T_f2c83474_baa2_11ec_ae65_00155dd89822row0_col0\" class=\"data row0 col0\" >1.1e+04</td>\n",
       "                        <td id=\"T_f2c83474_baa2_11ec_ae65_00155dd89822row0_col1\" class=\"data row0 col1\" >1.11e+04</td>\n",
       "                        <td id=\"T_f2c83474_baa2_11ec_ae65_00155dd89822row0_col2\" class=\"data row0 col2\" >0.472</td>\n",
       "                        <td id=\"T_f2c83474_baa2_11ec_ae65_00155dd89822row0_col3\" class=\"data row0 col3\" >0.467</td>\n",
       "            </tr>\n",
       "            <tr>\n",
       "                        <th id=\"T_f2c83474_baa2_11ec_ae65_00155dd89822level0_row1\" class=\"row_heading level0 row1\" >5</th>\n",
       "                        <td id=\"T_f2c83474_baa2_11ec_ae65_00155dd89822row1_col0\" class=\"data row1 col0\" >1.12e+04</td>\n",
       "                        <td id=\"T_f2c83474_baa2_11ec_ae65_00155dd89822row1_col1\" class=\"data row1 col1\" >1.13e+04</td>\n",
       "                        <td id=\"T_f2c83474_baa2_11ec_ae65_00155dd89822row1_col2\" class=\"data row1 col2\" >0.184</td>\n",
       "                        <td id=\"T_f2c83474_baa2_11ec_ae65_00155dd89822row1_col3\" class=\"data row1 col3\" >0.176</td>\n",
       "            </tr>\n",
       "            <tr>\n",
       "                        <th id=\"T_f2c83474_baa2_11ec_ae65_00155dd89822level0_row2\" class=\"row_heading level0 row2\" >10</th>\n",
       "                        <td id=\"T_f2c83474_baa2_11ec_ae65_00155dd89822row2_col0\" class=\"data row2 col0\" >1.1e+04</td>\n",
       "                        <td id=\"T_f2c83474_baa2_11ec_ae65_00155dd89822row2_col1\" class=\"data row2 col1\" >1.11e+04</td>\n",
       "                        <td id=\"T_f2c83474_baa2_11ec_ae65_00155dd89822row2_col2\" class=\"data row2 col2\" >0.114</td>\n",
       "                        <td id=\"T_f2c83474_baa2_11ec_ae65_00155dd89822row2_col3\" class=\"data row2 col3\" >0.11</td>\n",
       "            </tr>\n",
       "            <tr>\n",
       "                        <th id=\"T_f2c83474_baa2_11ec_ae65_00155dd89822level0_row3\" class=\"row_heading level0 row3\" >15</th>\n",
       "                        <td id=\"T_f2c83474_baa2_11ec_ae65_00155dd89822row3_col0\" class=\"data row3 col0\" >1.06e+04</td>\n",
       "                        <td id=\"T_f2c83474_baa2_11ec_ae65_00155dd89822row3_col1\" class=\"data row3 col1\" >1.08e+04</td>\n",
       "                        <td id=\"T_f2c83474_baa2_11ec_ae65_00155dd89822row3_col2\" class=\"data row3 col2\" >0.0859</td>\n",
       "                        <td id=\"T_f2c83474_baa2_11ec_ae65_00155dd89822row3_col3\" class=\"data row3 col3\" >0.0821</td>\n",
       "            </tr>\n",
       "    </tbody></table>"
      ],
      "text/plain": [
       "<pandas.io.formats.style.Styler at 0x7fd54f761590>"
      ]
     },
     "metadata": {},
     "output_type": "display_data"
    },
    {
     "name": "stdout",
     "output_type": "stream",
     "text": [
      "[\u001b[1mtardis.simulation.base\u001b[0m][\u001b[1;37mINFO\u001b[0m   ]  \n",
      "\t\n",
      "\tCurrent t_inner = 10644.054 K\n",
      "\tExpected t_inner for next iteration = 10653.543 K\n",
      " (\u001b[1mbase.py\u001b[0m:542)\n",
      "[\u001b[1mtardis.simulation.base\u001b[0m][\u001b[1;37mINFO\u001b[0m   ]  \n",
      "\t\n",
      "\tStarting iteration 13 of 20 (\u001b[1mbase.py\u001b[0m:378)\n",
      "[\u001b[1mtardis.simulation.base\u001b[0m][\u001b[1;37mINFO\u001b[0m   ]  \n",
      "\t\n",
      "\tLuminosity emitted   = 1.062e+43 erg / s\n",
      "\tLuminosity absorbed  = 3.406e+42 erg / s\n",
      "\tLuminosity requested = 1.059e+43 erg / s\n",
      " (\u001b[1mbase.py\u001b[0m:547)\n",
      "[\u001b[1mtardis.simulation.base\u001b[0m][\u001b[1;37mINFO\u001b[0m   ]  \n",
      "\tIteration converged 1/4 consecutive times. (\u001b[1mbase.py\u001b[0m:259)\n",
      "[\u001b[1mtardis.simulation.base\u001b[0m][\u001b[1;37mINFO\u001b[0m   ]  \n",
      "\t\n",
      "\tPlasma stratification: (\u001b[1mbase.py\u001b[0m:514)\n"
     ]
    },
    {
     "data": {
      "text/html": [
       "<style  type=\"text/css\" >\n",
       "</style><table id=\"T_f33034fc_baa2_11ec_ae65_00155dd89822\" ><thead>    <tr>        <th class=\"index_name level0\" >Shell No.</th>        <th class=\"col_heading level0 col0\" >t_rad</th>        <th class=\"col_heading level0 col1\" >next_t_rad</th>        <th class=\"col_heading level0 col2\" >w</th>        <th class=\"col_heading level0 col3\" >next_w</th>    </tr></thead><tbody>\n",
       "                <tr>\n",
       "                        <th id=\"T_f33034fc_baa2_11ec_ae65_00155dd89822level0_row0\" class=\"row_heading level0 row0\" >0</th>\n",
       "                        <td id=\"T_f33034fc_baa2_11ec_ae65_00155dd89822row0_col0\" class=\"data row0 col0\" >1.11e+04</td>\n",
       "                        <td id=\"T_f33034fc_baa2_11ec_ae65_00155dd89822row0_col1\" class=\"data row0 col1\" >1.11e+04</td>\n",
       "                        <td id=\"T_f33034fc_baa2_11ec_ae65_00155dd89822row0_col2\" class=\"data row0 col2\" >0.467</td>\n",
       "                        <td id=\"T_f33034fc_baa2_11ec_ae65_00155dd89822row0_col3\" class=\"data row0 col3\" >0.466</td>\n",
       "            </tr>\n",
       "            <tr>\n",
       "                        <th id=\"T_f33034fc_baa2_11ec_ae65_00155dd89822level0_row1\" class=\"row_heading level0 row1\" >5</th>\n",
       "                        <td id=\"T_f33034fc_baa2_11ec_ae65_00155dd89822row1_col0\" class=\"data row1 col0\" >1.13e+04</td>\n",
       "                        <td id=\"T_f33034fc_baa2_11ec_ae65_00155dd89822row1_col1\" class=\"data row1 col1\" >1.13e+04</td>\n",
       "                        <td id=\"T_f33034fc_baa2_11ec_ae65_00155dd89822row1_col2\" class=\"data row1 col2\" >0.176</td>\n",
       "                        <td id=\"T_f33034fc_baa2_11ec_ae65_00155dd89822row1_col3\" class=\"data row1 col3\" >0.18</td>\n",
       "            </tr>\n",
       "            <tr>\n",
       "                        <th id=\"T_f33034fc_baa2_11ec_ae65_00155dd89822level0_row2\" class=\"row_heading level0 row2\" >10</th>\n",
       "                        <td id=\"T_f33034fc_baa2_11ec_ae65_00155dd89822row2_col0\" class=\"data row2 col0\" >1.11e+04</td>\n",
       "                        <td id=\"T_f33034fc_baa2_11ec_ae65_00155dd89822row2_col1\" class=\"data row2 col1\" >1.11e+04</td>\n",
       "                        <td id=\"T_f33034fc_baa2_11ec_ae65_00155dd89822row2_col2\" class=\"data row2 col2\" >0.11</td>\n",
       "                        <td id=\"T_f33034fc_baa2_11ec_ae65_00155dd89822row2_col3\" class=\"data row2 col3\" >0.111</td>\n",
       "            </tr>\n",
       "            <tr>\n",
       "                        <th id=\"T_f33034fc_baa2_11ec_ae65_00155dd89822level0_row3\" class=\"row_heading level0 row3\" >15</th>\n",
       "                        <td id=\"T_f33034fc_baa2_11ec_ae65_00155dd89822row3_col0\" class=\"data row3 col0\" >1.08e+04</td>\n",
       "                        <td id=\"T_f33034fc_baa2_11ec_ae65_00155dd89822row3_col1\" class=\"data row3 col1\" >1.08e+04</td>\n",
       "                        <td id=\"T_f33034fc_baa2_11ec_ae65_00155dd89822row3_col2\" class=\"data row3 col2\" >0.0821</td>\n",
       "                        <td id=\"T_f33034fc_baa2_11ec_ae65_00155dd89822row3_col3\" class=\"data row3 col3\" >0.0841</td>\n",
       "            </tr>\n",
       "    </tbody></table>"
      ],
      "text/plain": [
       "<pandas.io.formats.style.Styler at 0x7fd55e9e5e10>"
      ]
     },
     "metadata": {},
     "output_type": "display_data"
    },
    {
     "name": "stdout",
     "output_type": "stream",
     "text": [
      "[\u001b[1mtardis.simulation.base\u001b[0m][\u001b[1;37mINFO\u001b[0m   ]  \n",
      "\t\n",
      "\tCurrent t_inner = 10653.543 K\n",
      "\tExpected t_inner for next iteration = 10647.277 K\n",
      " (\u001b[1mbase.py\u001b[0m:542)\n",
      "[\u001b[1mtardis.simulation.base\u001b[0m][\u001b[1;37mINFO\u001b[0m   ]  \n",
      "\t\n",
      "\tStarting iteration 14 of 20 (\u001b[1mbase.py\u001b[0m:378)\n",
      "[\u001b[1mtardis.simulation.base\u001b[0m][\u001b[1;37mINFO\u001b[0m   ]  \n",
      "\t\n",
      "\tLuminosity emitted   = 1.063e+43 erg / s\n",
      "\tLuminosity absorbed  = 3.369e+42 erg / s\n",
      "\tLuminosity requested = 1.059e+43 erg / s\n",
      " (\u001b[1mbase.py\u001b[0m:547)\n",
      "[\u001b[1mtardis.simulation.base\u001b[0m][\u001b[1;37mINFO\u001b[0m   ]  \n",
      "\tIteration converged 2/4 consecutive times. (\u001b[1mbase.py\u001b[0m:259)\n",
      "[\u001b[1mtardis.simulation.base\u001b[0m][\u001b[1;37mINFO\u001b[0m   ]  \n",
      "\t\n",
      "\tPlasma stratification: (\u001b[1mbase.py\u001b[0m:514)\n"
     ]
    },
    {
     "data": {
      "text/html": [
       "<style  type=\"text/css\" >\n",
       "</style><table id=\"T_f3979e76_baa2_11ec_ae65_00155dd89822\" ><thead>    <tr>        <th class=\"index_name level0\" >Shell No.</th>        <th class=\"col_heading level0 col0\" >t_rad</th>        <th class=\"col_heading level0 col1\" >next_t_rad</th>        <th class=\"col_heading level0 col2\" >w</th>        <th class=\"col_heading level0 col3\" >next_w</th>    </tr></thead><tbody>\n",
       "                <tr>\n",
       "                        <th id=\"T_f3979e76_baa2_11ec_ae65_00155dd89822level0_row0\" class=\"row_heading level0 row0\" >0</th>\n",
       "                        <td id=\"T_f3979e76_baa2_11ec_ae65_00155dd89822row0_col0\" class=\"data row0 col0\" >1.11e+04</td>\n",
       "                        <td id=\"T_f3979e76_baa2_11ec_ae65_00155dd89822row0_col1\" class=\"data row0 col1\" >1.11e+04</td>\n",
       "                        <td id=\"T_f3979e76_baa2_11ec_ae65_00155dd89822row0_col2\" class=\"data row0 col2\" >0.466</td>\n",
       "                        <td id=\"T_f3979e76_baa2_11ec_ae65_00155dd89822row0_col3\" class=\"data row0 col3\" >0.469</td>\n",
       "            </tr>\n",
       "            <tr>\n",
       "                        <th id=\"T_f3979e76_baa2_11ec_ae65_00155dd89822level0_row1\" class=\"row_heading level0 row1\" >5</th>\n",
       "                        <td id=\"T_f3979e76_baa2_11ec_ae65_00155dd89822row1_col0\" class=\"data row1 col0\" >1.13e+04</td>\n",
       "                        <td id=\"T_f3979e76_baa2_11ec_ae65_00155dd89822row1_col1\" class=\"data row1 col1\" >1.13e+04</td>\n",
       "                        <td id=\"T_f3979e76_baa2_11ec_ae65_00155dd89822row1_col2\" class=\"data row1 col2\" >0.18</td>\n",
       "                        <td id=\"T_f3979e76_baa2_11ec_ae65_00155dd89822row1_col3\" class=\"data row1 col3\" >0.182</td>\n",
       "            </tr>\n",
       "            <tr>\n",
       "                        <th id=\"T_f3979e76_baa2_11ec_ae65_00155dd89822level0_row2\" class=\"row_heading level0 row2\" >10</th>\n",
       "                        <td id=\"T_f3979e76_baa2_11ec_ae65_00155dd89822row2_col0\" class=\"data row2 col0\" >1.11e+04</td>\n",
       "                        <td id=\"T_f3979e76_baa2_11ec_ae65_00155dd89822row2_col1\" class=\"data row2 col1\" >1.1e+04</td>\n",
       "                        <td id=\"T_f3979e76_baa2_11ec_ae65_00155dd89822row2_col2\" class=\"data row2 col2\" >0.111</td>\n",
       "                        <td id=\"T_f3979e76_baa2_11ec_ae65_00155dd89822row2_col3\" class=\"data row2 col3\" >0.113</td>\n",
       "            </tr>\n",
       "            <tr>\n",
       "                        <th id=\"T_f3979e76_baa2_11ec_ae65_00155dd89822level0_row3\" class=\"row_heading level0 row3\" >15</th>\n",
       "                        <td id=\"T_f3979e76_baa2_11ec_ae65_00155dd89822row3_col0\" class=\"data row3 col0\" >1.08e+04</td>\n",
       "                        <td id=\"T_f3979e76_baa2_11ec_ae65_00155dd89822row3_col1\" class=\"data row3 col1\" >1.07e+04</td>\n",
       "                        <td id=\"T_f3979e76_baa2_11ec_ae65_00155dd89822row3_col2\" class=\"data row3 col2\" >0.0841</td>\n",
       "                        <td id=\"T_f3979e76_baa2_11ec_ae65_00155dd89822row3_col3\" class=\"data row3 col3\" >0.0854</td>\n",
       "            </tr>\n",
       "    </tbody></table>"
      ],
      "text/plain": [
       "<pandas.io.formats.style.Styler at 0x7fd54f762390>"
      ]
     },
     "metadata": {},
     "output_type": "display_data"
    },
    {
     "name": "stdout",
     "output_type": "stream",
     "text": [
      "[\u001b[1mtardis.simulation.base\u001b[0m][\u001b[1;37mINFO\u001b[0m   ]  \n",
      "\t\n",
      "\tCurrent t_inner = 10647.277 K\n",
      "\tExpected t_inner for next iteration = 10638.875 K\n",
      " (\u001b[1mbase.py\u001b[0m:542)\n",
      "[\u001b[1mtardis.simulation.base\u001b[0m][\u001b[1;37mINFO\u001b[0m   ]  \n",
      "\t\n",
      "\tStarting iteration 15 of 20 (\u001b[1mbase.py\u001b[0m:378)\n",
      "[\u001b[1mtardis.simulation.base\u001b[0m][\u001b[1;37mINFO\u001b[0m   ]  \n",
      "\t\n",
      "\tLuminosity emitted   = 1.053e+43 erg / s\n",
      "\tLuminosity absorbed  = 3.417e+42 erg / s\n",
      "\tLuminosity requested = 1.059e+43 erg / s\n",
      " (\u001b[1mbase.py\u001b[0m:547)\n",
      "[\u001b[1mtardis.simulation.base\u001b[0m][\u001b[1;37mINFO\u001b[0m   ]  \n",
      "\tIteration converged 3/4 consecutive times. (\u001b[1mbase.py\u001b[0m:259)\n",
      "[\u001b[1mtardis.simulation.base\u001b[0m][\u001b[1;37mINFO\u001b[0m   ]  \n",
      "\t\n",
      "\tPlasma stratification: (\u001b[1mbase.py\u001b[0m:514)\n"
     ]
    },
    {
     "data": {
      "text/html": [
       "<style  type=\"text/css\" >\n",
       "</style><table id=\"T_f3fd654e_baa2_11ec_ae65_00155dd89822\" ><thead>    <tr>        <th class=\"index_name level0\" >Shell No.</th>        <th class=\"col_heading level0 col0\" >t_rad</th>        <th class=\"col_heading level0 col1\" >next_t_rad</th>        <th class=\"col_heading level0 col2\" >w</th>        <th class=\"col_heading level0 col3\" >next_w</th>    </tr></thead><tbody>\n",
       "                <tr>\n",
       "                        <th id=\"T_f3fd654e_baa2_11ec_ae65_00155dd89822level0_row0\" class=\"row_heading level0 row0\" >0</th>\n",
       "                        <td id=\"T_f3fd654e_baa2_11ec_ae65_00155dd89822row0_col0\" class=\"data row0 col0\" >1.11e+04</td>\n",
       "                        <td id=\"T_f3fd654e_baa2_11ec_ae65_00155dd89822row0_col1\" class=\"data row0 col1\" >1.1e+04</td>\n",
       "                        <td id=\"T_f3fd654e_baa2_11ec_ae65_00155dd89822row0_col2\" class=\"data row0 col2\" >0.469</td>\n",
       "                        <td id=\"T_f3fd654e_baa2_11ec_ae65_00155dd89822row0_col3\" class=\"data row0 col3\" >0.484</td>\n",
       "            </tr>\n",
       "            <tr>\n",
       "                        <th id=\"T_f3fd654e_baa2_11ec_ae65_00155dd89822level0_row1\" class=\"row_heading level0 row1\" >5</th>\n",
       "                        <td id=\"T_f3fd654e_baa2_11ec_ae65_00155dd89822row1_col0\" class=\"data row1 col0\" >1.13e+04</td>\n",
       "                        <td id=\"T_f3fd654e_baa2_11ec_ae65_00155dd89822row1_col1\" class=\"data row1 col1\" >1.13e+04</td>\n",
       "                        <td id=\"T_f3fd654e_baa2_11ec_ae65_00155dd89822row1_col2\" class=\"data row1 col2\" >0.182</td>\n",
       "                        <td id=\"T_f3fd654e_baa2_11ec_ae65_00155dd89822row1_col3\" class=\"data row1 col3\" >0.181</td>\n",
       "            </tr>\n",
       "            <tr>\n",
       "                        <th id=\"T_f3fd654e_baa2_11ec_ae65_00155dd89822level0_row2\" class=\"row_heading level0 row2\" >10</th>\n",
       "                        <td id=\"T_f3fd654e_baa2_11ec_ae65_00155dd89822row2_col0\" class=\"data row2 col0\" >1.1e+04</td>\n",
       "                        <td id=\"T_f3fd654e_baa2_11ec_ae65_00155dd89822row2_col1\" class=\"data row2 col1\" >1.1e+04</td>\n",
       "                        <td id=\"T_f3fd654e_baa2_11ec_ae65_00155dd89822row2_col2\" class=\"data row2 col2\" >0.113</td>\n",
       "                        <td id=\"T_f3fd654e_baa2_11ec_ae65_00155dd89822row2_col3\" class=\"data row2 col3\" >0.113</td>\n",
       "            </tr>\n",
       "            <tr>\n",
       "                        <th id=\"T_f3fd654e_baa2_11ec_ae65_00155dd89822level0_row3\" class=\"row_heading level0 row3\" >15</th>\n",
       "                        <td id=\"T_f3fd654e_baa2_11ec_ae65_00155dd89822row3_col0\" class=\"data row3 col0\" >1.07e+04</td>\n",
       "                        <td id=\"T_f3fd654e_baa2_11ec_ae65_00155dd89822row3_col1\" class=\"data row3 col1\" >1.07e+04</td>\n",
       "                        <td id=\"T_f3fd654e_baa2_11ec_ae65_00155dd89822row3_col2\" class=\"data row3 col2\" >0.0854</td>\n",
       "                        <td id=\"T_f3fd654e_baa2_11ec_ae65_00155dd89822row3_col3\" class=\"data row3 col3\" >0.0858</td>\n",
       "            </tr>\n",
       "    </tbody></table>"
      ],
      "text/plain": [
       "<pandas.io.formats.style.Styler at 0x7fd54f765bd0>"
      ]
     },
     "metadata": {},
     "output_type": "display_data"
    },
    {
     "name": "stdout",
     "output_type": "stream",
     "text": [
      "[\u001b[1mtardis.simulation.base\u001b[0m][\u001b[1;37mINFO\u001b[0m   ]  \n",
      "\t\n",
      "\tCurrent t_inner = 10638.875 K\n",
      "\tExpected t_inner for next iteration = 10655.125 K\n",
      " (\u001b[1mbase.py\u001b[0m:542)\n",
      "[\u001b[1mtardis.simulation.base\u001b[0m][\u001b[1;37mINFO\u001b[0m   ]  \n",
      "\t\n",
      "\tStarting iteration 16 of 20 (\u001b[1mbase.py\u001b[0m:378)\n",
      "[\u001b[1mtardis.simulation.base\u001b[0m][\u001b[1;37mINFO\u001b[0m   ]  \n",
      "\t\n",
      "\tLuminosity emitted   = 1.059e+43 erg / s\n",
      "\tLuminosity absorbed  = 3.445e+42 erg / s\n",
      "\tLuminosity requested = 1.059e+43 erg / s\n",
      " (\u001b[1mbase.py\u001b[0m:547)\n",
      "[\u001b[1mtardis.simulation.base\u001b[0m][\u001b[1;37mINFO\u001b[0m   ]  \n",
      "\tIteration converged 4/4 consecutive times. (\u001b[1mbase.py\u001b[0m:259)\n",
      "[\u001b[1mtardis.simulation.base\u001b[0m][\u001b[1;37mINFO\u001b[0m   ]  \n",
      "\t\n",
      "\tPlasma stratification: (\u001b[1mbase.py\u001b[0m:514)\n"
     ]
    },
    {
     "data": {
      "text/html": [
       "<style  type=\"text/css\" >\n",
       "</style><table id=\"T_f46527c4_baa2_11ec_ae65_00155dd89822\" ><thead>    <tr>        <th class=\"index_name level0\" >Shell No.</th>        <th class=\"col_heading level0 col0\" >t_rad</th>        <th class=\"col_heading level0 col1\" >next_t_rad</th>        <th class=\"col_heading level0 col2\" >w</th>        <th class=\"col_heading level0 col3\" >next_w</th>    </tr></thead><tbody>\n",
       "                <tr>\n",
       "                        <th id=\"T_f46527c4_baa2_11ec_ae65_00155dd89822level0_row0\" class=\"row_heading level0 row0\" >0</th>\n",
       "                        <td id=\"T_f46527c4_baa2_11ec_ae65_00155dd89822row0_col0\" class=\"data row0 col0\" >1.1e+04</td>\n",
       "                        <td id=\"T_f46527c4_baa2_11ec_ae65_00155dd89822row0_col1\" class=\"data row0 col1\" >1.1e+04</td>\n",
       "                        <td id=\"T_f46527c4_baa2_11ec_ae65_00155dd89822row0_col2\" class=\"data row0 col2\" >0.484</td>\n",
       "                        <td id=\"T_f46527c4_baa2_11ec_ae65_00155dd89822row0_col3\" class=\"data row0 col3\" >0.472</td>\n",
       "            </tr>\n",
       "            <tr>\n",
       "                        <th id=\"T_f46527c4_baa2_11ec_ae65_00155dd89822level0_row1\" class=\"row_heading level0 row1\" >5</th>\n",
       "                        <td id=\"T_f46527c4_baa2_11ec_ae65_00155dd89822row1_col0\" class=\"data row1 col0\" >1.13e+04</td>\n",
       "                        <td id=\"T_f46527c4_baa2_11ec_ae65_00155dd89822row1_col1\" class=\"data row1 col1\" >1.13e+04</td>\n",
       "                        <td id=\"T_f46527c4_baa2_11ec_ae65_00155dd89822row1_col2\" class=\"data row1 col2\" >0.181</td>\n",
       "                        <td id=\"T_f46527c4_baa2_11ec_ae65_00155dd89822row1_col3\" class=\"data row1 col3\" >0.177</td>\n",
       "            </tr>\n",
       "            <tr>\n",
       "                        <th id=\"T_f46527c4_baa2_11ec_ae65_00155dd89822level0_row2\" class=\"row_heading level0 row2\" >10</th>\n",
       "                        <td id=\"T_f46527c4_baa2_11ec_ae65_00155dd89822row2_col0\" class=\"data row2 col0\" >1.1e+04</td>\n",
       "                        <td id=\"T_f46527c4_baa2_11ec_ae65_00155dd89822row2_col1\" class=\"data row2 col1\" >1.1e+04</td>\n",
       "                        <td id=\"T_f46527c4_baa2_11ec_ae65_00155dd89822row2_col2\" class=\"data row2 col2\" >0.113</td>\n",
       "                        <td id=\"T_f46527c4_baa2_11ec_ae65_00155dd89822row2_col3\" class=\"data row2 col3\" >0.113</td>\n",
       "            </tr>\n",
       "            <tr>\n",
       "                        <th id=\"T_f46527c4_baa2_11ec_ae65_00155dd89822level0_row3\" class=\"row_heading level0 row3\" >15</th>\n",
       "                        <td id=\"T_f46527c4_baa2_11ec_ae65_00155dd89822row3_col0\" class=\"data row3 col0\" >1.07e+04</td>\n",
       "                        <td id=\"T_f46527c4_baa2_11ec_ae65_00155dd89822row3_col1\" class=\"data row3 col1\" >1.06e+04</td>\n",
       "                        <td id=\"T_f46527c4_baa2_11ec_ae65_00155dd89822row3_col2\" class=\"data row3 col2\" >0.0858</td>\n",
       "                        <td id=\"T_f46527c4_baa2_11ec_ae65_00155dd89822row3_col3\" class=\"data row3 col3\" >0.0858</td>\n",
       "            </tr>\n",
       "    </tbody></table>"
      ],
      "text/plain": [
       "<pandas.io.formats.style.Styler at 0x7fd54f762ad0>"
      ]
     },
     "metadata": {},
     "output_type": "display_data"
    },
    {
     "name": "stdout",
     "output_type": "stream",
     "text": [
      "[\u001b[1mtardis.simulation.base\u001b[0m][\u001b[1;37mINFO\u001b[0m   ]  \n",
      "\t\n",
      "\tCurrent t_inner = 10655.125 K\n",
      "\tExpected t_inner for next iteration = 10655.561 K\n",
      " (\u001b[1mbase.py\u001b[0m:542)\n",
      "[\u001b[1mtardis.simulation.base\u001b[0m][\u001b[1;37mINFO\u001b[0m   ]  \n",
      "\t\n",
      "\tStarting iteration 17 of 20 (\u001b[1mbase.py\u001b[0m:378)\n",
      "[\u001b[1mtardis.simulation.base\u001b[0m][\u001b[1;37mINFO\u001b[0m   ]  \n",
      "\t\n",
      "\tLuminosity emitted   = 1.067e+43 erg / s\n",
      "\tLuminosity absorbed  = 3.372e+42 erg / s\n",
      "\tLuminosity requested = 1.059e+43 erg / s\n",
      " (\u001b[1mbase.py\u001b[0m:547)\n",
      "[\u001b[1mtardis.simulation.base\u001b[0m][\u001b[1;37mINFO\u001b[0m   ]  \n",
      "\t\n",
      "\tPlasma stratification: (\u001b[1mbase.py\u001b[0m:514)\n"
     ]
    },
    {
     "data": {
      "text/html": [
       "<style  type=\"text/css\" >\n",
       "</style><table id=\"T_f4cbf8f0_baa2_11ec_ae65_00155dd89822\" ><thead>    <tr>        <th class=\"index_name level0\" >Shell No.</th>        <th class=\"col_heading level0 col0\" >t_rad</th>        <th class=\"col_heading level0 col1\" >next_t_rad</th>        <th class=\"col_heading level0 col2\" >w</th>        <th class=\"col_heading level0 col3\" >next_w</th>    </tr></thead><tbody>\n",
       "                <tr>\n",
       "                        <th id=\"T_f4cbf8f0_baa2_11ec_ae65_00155dd89822level0_row0\" class=\"row_heading level0 row0\" >0</th>\n",
       "                        <td id=\"T_f4cbf8f0_baa2_11ec_ae65_00155dd89822row0_col0\" class=\"data row0 col0\" >1.1e+04</td>\n",
       "                        <td id=\"T_f4cbf8f0_baa2_11ec_ae65_00155dd89822row0_col1\" class=\"data row0 col1\" >1.11e+04</td>\n",
       "                        <td id=\"T_f4cbf8f0_baa2_11ec_ae65_00155dd89822row0_col2\" class=\"data row0 col2\" >0.472</td>\n",
       "                        <td id=\"T_f4cbf8f0_baa2_11ec_ae65_00155dd89822row0_col3\" class=\"data row0 col3\" >0.468</td>\n",
       "            </tr>\n",
       "            <tr>\n",
       "                        <th id=\"T_f4cbf8f0_baa2_11ec_ae65_00155dd89822level0_row1\" class=\"row_heading level0 row1\" >5</th>\n",
       "                        <td id=\"T_f4cbf8f0_baa2_11ec_ae65_00155dd89822row1_col0\" class=\"data row1 col0\" >1.13e+04</td>\n",
       "                        <td id=\"T_f4cbf8f0_baa2_11ec_ae65_00155dd89822row1_col1\" class=\"data row1 col1\" >1.14e+04</td>\n",
       "                        <td id=\"T_f4cbf8f0_baa2_11ec_ae65_00155dd89822row1_col2\" class=\"data row1 col2\" >0.177</td>\n",
       "                        <td id=\"T_f4cbf8f0_baa2_11ec_ae65_00155dd89822row1_col3\" class=\"data row1 col3\" >0.175</td>\n",
       "            </tr>\n",
       "            <tr>\n",
       "                        <th id=\"T_f4cbf8f0_baa2_11ec_ae65_00155dd89822level0_row2\" class=\"row_heading level0 row2\" >10</th>\n",
       "                        <td id=\"T_f4cbf8f0_baa2_11ec_ae65_00155dd89822row2_col0\" class=\"data row2 col0\" >1.1e+04</td>\n",
       "                        <td id=\"T_f4cbf8f0_baa2_11ec_ae65_00155dd89822row2_col1\" class=\"data row2 col1\" >1.11e+04</td>\n",
       "                        <td id=\"T_f4cbf8f0_baa2_11ec_ae65_00155dd89822row2_col2\" class=\"data row2 col2\" >0.113</td>\n",
       "                        <td id=\"T_f4cbf8f0_baa2_11ec_ae65_00155dd89822row2_col3\" class=\"data row2 col3\" >0.11</td>\n",
       "            </tr>\n",
       "            <tr>\n",
       "                        <th id=\"T_f4cbf8f0_baa2_11ec_ae65_00155dd89822level0_row3\" class=\"row_heading level0 row3\" >15</th>\n",
       "                        <td id=\"T_f4cbf8f0_baa2_11ec_ae65_00155dd89822row3_col0\" class=\"data row3 col0\" >1.06e+04</td>\n",
       "                        <td id=\"T_f4cbf8f0_baa2_11ec_ae65_00155dd89822row3_col1\" class=\"data row3 col1\" >1.08e+04</td>\n",
       "                        <td id=\"T_f4cbf8f0_baa2_11ec_ae65_00155dd89822row3_col2\" class=\"data row3 col2\" >0.0858</td>\n",
       "                        <td id=\"T_f4cbf8f0_baa2_11ec_ae65_00155dd89822row3_col3\" class=\"data row3 col3\" >0.0816</td>\n",
       "            </tr>\n",
       "    </tbody></table>"
      ],
      "text/plain": [
       "<pandas.io.formats.style.Styler at 0x7fd54f6f57d0>"
      ]
     },
     "metadata": {},
     "output_type": "display_data"
    },
    {
     "name": "stdout",
     "output_type": "stream",
     "text": [
      "[\u001b[1mtardis.simulation.base\u001b[0m][\u001b[1;37mINFO\u001b[0m   ]  \n",
      "\t\n",
      "\tCurrent t_inner = 10655.561 K\n",
      "\tExpected t_inner for next iteration = 10636.536 K\n",
      " (\u001b[1mbase.py\u001b[0m:542)\n",
      "[\u001b[1mtardis.simulation.base\u001b[0m][\u001b[1;37mINFO\u001b[0m   ]  \n",
      "\t\n",
      "\tStarting iteration 18 of 20 (\u001b[1mbase.py\u001b[0m:378)\n",
      "[\u001b[1mtardis.simulation.base\u001b[0m][\u001b[1;37mINFO\u001b[0m   ]  \n",
      "\t\n",
      "\tLuminosity emitted   = 1.057e+43 erg / s\n",
      "\tLuminosity absorbed  = 3.365e+42 erg / s\n",
      "\tLuminosity requested = 1.059e+43 erg / s\n",
      " (\u001b[1mbase.py\u001b[0m:547)\n",
      "[\u001b[1mtardis.simulation.base\u001b[0m][\u001b[1;37mINFO\u001b[0m   ]  \n",
      "\tIteration converged 1/4 consecutive times. (\u001b[1mbase.py\u001b[0m:259)\n",
      "[\u001b[1mtardis.simulation.base\u001b[0m][\u001b[1;37mINFO\u001b[0m   ]  \n",
      "\t\n",
      "\tPlasma stratification: (\u001b[1mbase.py\u001b[0m:514)\n"
     ]
    },
    {
     "data": {
      "text/html": [
       "<style  type=\"text/css\" >\n",
       "</style><table id=\"T_f533ea14_baa2_11ec_ae65_00155dd89822\" ><thead>    <tr>        <th class=\"index_name level0\" >Shell No.</th>        <th class=\"col_heading level0 col0\" >t_rad</th>        <th class=\"col_heading level0 col1\" >next_t_rad</th>        <th class=\"col_heading level0 col2\" >w</th>        <th class=\"col_heading level0 col3\" >next_w</th>    </tr></thead><tbody>\n",
       "                <tr>\n",
       "                        <th id=\"T_f533ea14_baa2_11ec_ae65_00155dd89822level0_row0\" class=\"row_heading level0 row0\" >0</th>\n",
       "                        <td id=\"T_f533ea14_baa2_11ec_ae65_00155dd89822row0_col0\" class=\"data row0 col0\" >1.11e+04</td>\n",
       "                        <td id=\"T_f533ea14_baa2_11ec_ae65_00155dd89822row0_col1\" class=\"data row0 col1\" >1.11e+04</td>\n",
       "                        <td id=\"T_f533ea14_baa2_11ec_ae65_00155dd89822row0_col2\" class=\"data row0 col2\" >0.468</td>\n",
       "                        <td id=\"T_f533ea14_baa2_11ec_ae65_00155dd89822row0_col3\" class=\"data row0 col3\" >0.464</td>\n",
       "            </tr>\n",
       "            <tr>\n",
       "                        <th id=\"T_f533ea14_baa2_11ec_ae65_00155dd89822level0_row1\" class=\"row_heading level0 row1\" >5</th>\n",
       "                        <td id=\"T_f533ea14_baa2_11ec_ae65_00155dd89822row1_col0\" class=\"data row1 col0\" >1.14e+04</td>\n",
       "                        <td id=\"T_f533ea14_baa2_11ec_ae65_00155dd89822row1_col1\" class=\"data row1 col1\" >1.13e+04</td>\n",
       "                        <td id=\"T_f533ea14_baa2_11ec_ae65_00155dd89822row1_col2\" class=\"data row1 col2\" >0.175</td>\n",
       "                        <td id=\"T_f533ea14_baa2_11ec_ae65_00155dd89822row1_col3\" class=\"data row1 col3\" >0.177</td>\n",
       "            </tr>\n",
       "            <tr>\n",
       "                        <th id=\"T_f533ea14_baa2_11ec_ae65_00155dd89822level0_row2\" class=\"row_heading level0 row2\" >10</th>\n",
       "                        <td id=\"T_f533ea14_baa2_11ec_ae65_00155dd89822row2_col0\" class=\"data row2 col0\" >1.11e+04</td>\n",
       "                        <td id=\"T_f533ea14_baa2_11ec_ae65_00155dd89822row2_col1\" class=\"data row2 col1\" >1.1e+04</td>\n",
       "                        <td id=\"T_f533ea14_baa2_11ec_ae65_00155dd89822row2_col2\" class=\"data row2 col2\" >0.11</td>\n",
       "                        <td id=\"T_f533ea14_baa2_11ec_ae65_00155dd89822row2_col3\" class=\"data row2 col3\" >0.113</td>\n",
       "            </tr>\n",
       "            <tr>\n",
       "                        <th id=\"T_f533ea14_baa2_11ec_ae65_00155dd89822level0_row3\" class=\"row_heading level0 row3\" >15</th>\n",
       "                        <td id=\"T_f533ea14_baa2_11ec_ae65_00155dd89822row3_col0\" class=\"data row3 col0\" >1.08e+04</td>\n",
       "                        <td id=\"T_f533ea14_baa2_11ec_ae65_00155dd89822row3_col1\" class=\"data row3 col1\" >1.07e+04</td>\n",
       "                        <td id=\"T_f533ea14_baa2_11ec_ae65_00155dd89822row3_col2\" class=\"data row3 col2\" >0.0816</td>\n",
       "                        <td id=\"T_f533ea14_baa2_11ec_ae65_00155dd89822row3_col3\" class=\"data row3 col3\" >0.0848</td>\n",
       "            </tr>\n",
       "    </tbody></table>"
      ],
      "text/plain": [
       "<pandas.io.formats.style.Styler at 0x7fd54f744f10>"
      ]
     },
     "metadata": {},
     "output_type": "display_data"
    },
    {
     "name": "stdout",
     "output_type": "stream",
     "text": [
      "[\u001b[1mtardis.simulation.base\u001b[0m][\u001b[1;37mINFO\u001b[0m   ]  \n",
      "\t\n",
      "\tCurrent t_inner = 10636.536 K\n",
      "\tExpected t_inner for next iteration = 10641.692 K\n",
      " (\u001b[1mbase.py\u001b[0m:542)\n",
      "[\u001b[1mtardis.simulation.base\u001b[0m][\u001b[1;37mINFO\u001b[0m   ]  \n",
      "\t\n",
      "\tStarting iteration 19 of 20 (\u001b[1mbase.py\u001b[0m:378)\n",
      "[\u001b[1mtardis.simulation.base\u001b[0m][\u001b[1;37mINFO\u001b[0m   ]  \n",
      "\t\n",
      "\tLuminosity emitted   = 1.056e+43 erg / s\n",
      "\tLuminosity absorbed  = 3.405e+42 erg / s\n",
      "\tLuminosity requested = 1.059e+43 erg / s\n",
      " (\u001b[1mbase.py\u001b[0m:547)\n",
      "[\u001b[1mtardis.simulation.base\u001b[0m][\u001b[1;37mINFO\u001b[0m   ]  \n",
      "\tIteration converged 2/4 consecutive times. (\u001b[1mbase.py\u001b[0m:259)\n",
      "[\u001b[1mtardis.simulation.base\u001b[0m][\u001b[1;37mINFO\u001b[0m   ]  \n",
      "\t\n",
      "\tPlasma stratification: (\u001b[1mbase.py\u001b[0m:514)\n"
     ]
    },
    {
     "data": {
      "text/html": [
       "<style  type=\"text/css\" >\n",
       "</style><table id=\"T_f599b858_baa2_11ec_ae65_00155dd89822\" ><thead>    <tr>        <th class=\"index_name level0\" >Shell No.</th>        <th class=\"col_heading level0 col0\" >t_rad</th>        <th class=\"col_heading level0 col1\" >next_t_rad</th>        <th class=\"col_heading level0 col2\" >w</th>        <th class=\"col_heading level0 col3\" >next_w</th>    </tr></thead><tbody>\n",
       "                <tr>\n",
       "                        <th id=\"T_f599b858_baa2_11ec_ae65_00155dd89822level0_row0\" class=\"row_heading level0 row0\" >0</th>\n",
       "                        <td id=\"T_f599b858_baa2_11ec_ae65_00155dd89822row0_col0\" class=\"data row0 col0\" >1.11e+04</td>\n",
       "                        <td id=\"T_f599b858_baa2_11ec_ae65_00155dd89822row0_col1\" class=\"data row0 col1\" >1.11e+04</td>\n",
       "                        <td id=\"T_f599b858_baa2_11ec_ae65_00155dd89822row0_col2\" class=\"data row0 col2\" >0.464</td>\n",
       "                        <td id=\"T_f599b858_baa2_11ec_ae65_00155dd89822row0_col3\" class=\"data row0 col3\" >0.466</td>\n",
       "            </tr>\n",
       "            <tr>\n",
       "                        <th id=\"T_f599b858_baa2_11ec_ae65_00155dd89822level0_row1\" class=\"row_heading level0 row1\" >5</th>\n",
       "                        <td id=\"T_f599b858_baa2_11ec_ae65_00155dd89822row1_col0\" class=\"data row1 col0\" >1.13e+04</td>\n",
       "                        <td id=\"T_f599b858_baa2_11ec_ae65_00155dd89822row1_col1\" class=\"data row1 col1\" >1.13e+04</td>\n",
       "                        <td id=\"T_f599b858_baa2_11ec_ae65_00155dd89822row1_col2\" class=\"data row1 col2\" >0.177</td>\n",
       "                        <td id=\"T_f599b858_baa2_11ec_ae65_00155dd89822row1_col3\" class=\"data row1 col3\" >0.177</td>\n",
       "            </tr>\n",
       "            <tr>\n",
       "                        <th id=\"T_f599b858_baa2_11ec_ae65_00155dd89822level0_row2\" class=\"row_heading level0 row2\" >10</th>\n",
       "                        <td id=\"T_f599b858_baa2_11ec_ae65_00155dd89822row2_col0\" class=\"data row2 col0\" >1.1e+04</td>\n",
       "                        <td id=\"T_f599b858_baa2_11ec_ae65_00155dd89822row2_col1\" class=\"data row2 col1\" >1.11e+04</td>\n",
       "                        <td id=\"T_f599b858_baa2_11ec_ae65_00155dd89822row2_col2\" class=\"data row2 col2\" >0.113</td>\n",
       "                        <td id=\"T_f599b858_baa2_11ec_ae65_00155dd89822row2_col3\" class=\"data row2 col3\" >0.111</td>\n",
       "            </tr>\n",
       "            <tr>\n",
       "                        <th id=\"T_f599b858_baa2_11ec_ae65_00155dd89822level0_row3\" class=\"row_heading level0 row3\" >15</th>\n",
       "                        <td id=\"T_f599b858_baa2_11ec_ae65_00155dd89822row3_col0\" class=\"data row3 col0\" >1.07e+04</td>\n",
       "                        <td id=\"T_f599b858_baa2_11ec_ae65_00155dd89822row3_col1\" class=\"data row3 col1\" >1.07e+04</td>\n",
       "                        <td id=\"T_f599b858_baa2_11ec_ae65_00155dd89822row3_col2\" class=\"data row3 col2\" >0.0848</td>\n",
       "                        <td id=\"T_f599b858_baa2_11ec_ae65_00155dd89822row3_col3\" class=\"data row3 col3\" >0.0853</td>\n",
       "            </tr>\n",
       "    </tbody></table>"
      ],
      "text/plain": [
       "<pandas.io.formats.style.Styler at 0x7fd54f6f5910>"
      ]
     },
     "metadata": {},
     "output_type": "display_data"
    },
    {
     "name": "stdout",
     "output_type": "stream",
     "text": [
      "[\u001b[1mtardis.simulation.base\u001b[0m][\u001b[1;37mINFO\u001b[0m   ]  \n",
      "\t\n",
      "\tCurrent t_inner = 10641.692 K\n",
      "\tExpected t_inner for next iteration = 10650.463 K\n",
      " (\u001b[1mbase.py\u001b[0m:542)\n",
      "[\u001b[1mtardis.simulation.base\u001b[0m][\u001b[1;37mINFO\u001b[0m   ]  \n",
      "\t\n",
      "\tStarting iteration 20 of 20 (\u001b[1mbase.py\u001b[0m:378)\n",
      "[\u001b[1mtardis.simulation.base\u001b[0m][\u001b[1;37mINFO\u001b[0m   ]  \n",
      "\t\n",
      "\tLuminosity emitted   = 1.061e+43 erg / s\n",
      "\tLuminosity absorbed  = 3.401e+42 erg / s\n",
      "\tLuminosity requested = 1.059e+43 erg / s\n",
      " (\u001b[1mbase.py\u001b[0m:547)\n",
      "[\u001b[1mtardis.simulation.base\u001b[0m][\u001b[1;37mINFO\u001b[0m   ]  \n",
      "\t\n",
      "\tSimulation finished in 20 iterations \n",
      "\tSimulation took 44.02 s\n",
      " (\u001b[1mbase.py\u001b[0m:468)\n"
     ]
    }
   ],
   "source": [
    "from tardis import run_tardis\n",
    "sim = run_tardis('tardis_example.yml')"
   ]
  },
  {
   "cell_type": "markdown",
   "id": "1c31af3e",
   "metadata": {},
   "source": [
    "### Saving HDF file of simulation locally for future use"
   ]
  },
  {
   "cell_type": "code",
   "execution_count": 4,
   "id": "ba8e02df",
   "metadata": {},
   "outputs": [
    {
     "name": "stdout",
     "output_type": "stream",
     "text": [
      "[\u001b[1mpy.warnings         \u001b[0m][\u001b[1;33mWARNING\u001b[0m]  \n",
      "\t/home/drago/anaconda3/envs/tardis/lib/python3.7/site-packages/pandas/core/generic.py:2505: PerformanceWarning: \n",
      "your performance may suffer as PyTables will pickle object types that it cannot\n",
      "map directly to c-types [inferred_type->mixed,key->block0_values] [items->Int64Index([0], dtype='int64')]\n",
      "\n",
      "  encoding=encoding,\n",
      " (\u001b[1mwarnings.py\u001b[0m:110)\n",
      "[\u001b[1mpy.warnings         \u001b[0m][\u001b[1;33mWARNING\u001b[0m]  \n",
      "\t/home/drago/anaconda3/envs/tardis/lib/python3.7/site-packages/pandas/core/generic.py:2505: PerformanceWarning: \n",
      "your performance may suffer as PyTables will pickle object types that it cannot\n",
      "map directly to c-types [inferred_type->mixed,key->values] [items->None]\n",
      "\n",
      "  encoding=encoding,\n",
      " (\u001b[1mwarnings.py\u001b[0m:110)\n"
     ]
    }
   ],
   "source": [
    "sim.to_hdf('./simulation_data.hdf', overwrite=True)"
   ]
  },
  {
   "cell_type": "markdown",
   "id": "3e53d9c5",
   "metadata": {},
   "source": [
    "### Import HDF data using pandas"
   ]
  },
  {
   "cell_type": "code",
   "execution_count": 5,
   "id": "c3750c83",
   "metadata": {},
   "outputs": [],
   "source": [
    "import pandas as pd\n",
    "data = pd.HDFStore('./simulation_data.hdf', overwrite=True)"
   ]
  },
  {
   "cell_type": "markdown",
   "id": "720f3ae7",
   "metadata": {},
   "source": [
    "### Plotting values from simulation"
   ]
  },
  {
   "cell_type": "code",
   "execution_count": 6,
   "id": "9ad95d46",
   "metadata": {},
   "outputs": [],
   "source": [
    "def plot_x_vs_y(data, x, y, x_label, y_label):\n",
    "    '''\n",
    "    Function which takes in hdf data and plots the data with x and y labels.\n",
    "    '''\n",
    "    %pylab inline\n",
    "\n",
    "    figure(figsize=(10,6))\n",
    "    plot(data[x], data[y])\n",
    "    xlabel(x_label)\n",
    "    ylabel(y_label)"
   ]
  },
  {
   "cell_type": "markdown",
   "id": "882a8191",
   "metadata": {},
   "source": [
    "1. j_estimator vs shell index"
   ]
  },
  {
   "cell_type": "code",
   "execution_count": 7,
   "id": "9dd5e8ed",
   "metadata": {},
   "outputs": [
    {
     "name": "stdout",
     "output_type": "stream",
     "text": [
      "Populating the interactive namespace from numpy and matplotlib\n"
     ]
    },
    {
     "data": {
      "image/png": "[encoded data removed]",
      "text/plain": [
       "<Figure size 720x432 with 1 Axes>"
      ]
     },
     "metadata": {
      "needs_background": "light"
     },
     "output_type": "display_data"
    }
   ],
   "source": [
    "plot_x_vs_y(data, '/simulation/runner/j_estimator', '/simulation/model/r_inner', 'j_estimator', 'shell index')"
   ]
  },
  {
   "cell_type": "markdown",
   "id": "6055e8bc",
   "metadata": {},
   "source": [
    "2. w vs shell index"
   ]
  },
  {
   "cell_type": "code",
   "execution_count": 8,
   "id": "b0f93d91",
   "metadata": {
    "scrolled": false
   },
   "outputs": [
    {
     "name": "stdout",
     "output_type": "stream",
     "text": [
      "Populating the interactive namespace from numpy and matplotlib\n"
     ]
    },
    {
     "data": {
      "image/png": "[encoded data removed]",
      "text/plain": [
       "<Figure size 720x432 with 1 Axes>"
      ]
     },
     "metadata": {
      "needs_background": "light"
     },
     "output_type": "display_data"
    }
   ],
   "source": [
    "plot_x_vs_y(data, '/simulation/model/w', '/simulation/model/r_inner', 'w', 'shell index')"
   ]
  },
  {
   "cell_type": "markdown",
   "id": "917125fd",
   "metadata": {},
   "source": [
    "3. t_rad vs shell index"
   ]
  },
  {
   "cell_type": "code",
   "execution_count": 9,
   "id": "28639181",
   "metadata": {},
   "outputs": [
    {
     "name": "stdout",
     "output_type": "stream",
     "text": [
      "Populating the interactive namespace from numpy and matplotlib\n"
     ]
    },
    {
     "data": {
      "image/png": "[encoded data removed]",
      "text/plain": [
       "<Figure size 720x432 with 1 Axes>"
      ]
     },
     "metadata": {
      "needs_background": "light"
     },
     "output_type": "display_data"
    }
   ],
   "source": [
    "plot_x_vs_y(data, '/simulation/plasma/t_rad', '/simulation/model/r_inner', 't_rad', 'shell index')"
   ]
  },
  {
   "cell_type": "markdown",
   "id": "53834b74",
   "metadata": {},
   "source": [
    "4. luminosity density vs wavelength"
   ]
  },
  {
   "cell_type": "code",
   "execution_count": 10,
   "id": "1961033f",
   "metadata": {},
   "outputs": [
    {
     "name": "stdout",
     "output_type": "stream",
     "text": [
      "Populating the interactive namespace from numpy and matplotlib\n"
     ]
    },
    {
     "data": {
      "image/png": "[encoded data removed]",
      "text/plain": [
       "<Figure size 720x432 with 1 Axes>"
      ]
     },
     "metadata": {
      "needs_background": "light"
     },
     "output_type": "display_data"
    }
   ],
   "source": [
    "plot_x_vs_y(data, '/simulation/runner/spectrum/luminosity_density_lambda', '/simulation/runner/spectrum/wavelength', 'luminosity density', 'wavelength')"
   ]
  }
 ],
 "metadata": {
  "kernelspec": {
   "display_name": "Python 3 (ipykernel)",
   "language": "python",
   "name": "python3"
  },
  "language_info": {
   "codemirror_mode": {
    "name": "ipython",
    "version": 3
   },
   "file_extension": ".py",
   "mimetype": "text/x-python",
   "name": "python",
   "nbconvert_exporter": "python",
   "pygments_lexer": "ipython3",
   "version": "3.7.12"
  }
 },
 "nbformat": 4,
 "nbformat_minor": 5
}
