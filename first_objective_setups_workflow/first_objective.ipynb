{
 "cells": [
  {
   "cell_type": "code",
   "execution_count": 1,
   "id": "e4b40eff",
   "metadata": {},
   "outputs": [],
   "source": [
    "from tardis import run_tardis\n",
    "from tardis.io.atom_data.util import download_atom_data"
   ]
  },
  {
   "cell_type": "code",
   "execution_count": 2,
   "id": "df721b98",
   "metadata": {},
   "outputs": [
    {
     "name": "stdout",
     "output_type": "stream",
     "text": [
      "[\u001b[1mtardis.io.atom_data.atom_web_download\u001b[0m][\u001b[1;37mINFO\u001b[0m   ]  Downloading atomic data from https://media.githubusercontent.com/media/tardis-sn/tardis-refdata/master/atom_data/kurucz_cd23_chianti_H_He.h5 to /home/molkree/Downloads/tardis-data/kurucz_cd23_chianti_H_He.h5 (\u001b[1matom_web_download.py\u001b[0m:48)\n"
     ]
    }
   ],
   "source": [
    "download_atom_data('kurucz_cd23_chianti_H_He')"
   ]
  },
  {
   "cell_type": "code",
   "execution_count": 12,
   "id": "f8594248",
   "metadata": {},
   "outputs": [
    {
     "name": "stdout",
     "output_type": "stream",
     "text": [
      "  % Total    % Received % Xferd  Average Speed   Time    Time     Time  Current\n",
      "                                 Dload  Upload   Total   Spent    Left  Speed\n",
      "100  1777  100  1777    0     0   8753      0 --:--:-- --:--:-- --:--:--  8753\n",
      "  % Total    % Received % Xferd  Average Speed   Time    Time     Time  Current\n",
      "                                 Dload  Upload   Total   Spent    Left  Speed\n",
      "100 14657  100 14657    0     0  33694      0 --:--:-- --:--:-- --:--:-- 33694\n"
     ]
    }
   ],
   "source": [
    "!curl -O https://raw.githubusercontent.com/tardis-sn/tardis-setups/master/2020/2020_williamson_94I/code_comp_setups/16d.yml\n",
    "!curl -O https://raw.githubusercontent.com/tardis-sn/tardis-setups/master/2020/2020_williamson_94I/code_comp_setups/hach_exact_csvy_16d.csvy"
   ]
  },
  {
   "cell_type": "markdown",
   "id": "15ee3ec5",
   "metadata": {},
   "source": [
    "Had to modify atomic path data and comment number of threads (no OMP) in config at this point.\n",
    "Also decreased number of packets from 4.0e+4 to 4.0e+3 because it was running for 2h+ on my laptop."
   ]
  },
  {
   "cell_type": "code",
   "execution_count": null,
   "id": "ddcd304b",
   "metadata": {
    "scrolled": true
   },
   "outputs": [
    {
     "name": "stdout",
     "output_type": "stream",
     "text": [
      "[\u001b[1mtardis.model.base   \u001b[0m][\u001b[1;33mWARNING\u001b[0m]  Abundances have not been normalized to 1. - normalizing (\u001b[1mbase.py\u001b[0m:601)\n",
      "[\u001b[1mtardis.plasma.standard_plasmas\u001b[0m][\u001b[1;37mINFO\u001b[0m   ]  Reading Atomic Data from kurucz_cd23_chianti_H_He.h5 (\u001b[1mstandard_plasmas.py\u001b[0m:91)\n",
      "[\u001b[1mtardis.io.atom_data.util\u001b[0m][\u001b[1;37mINFO\u001b[0m   ]  Atom Data kurucz_cd23_chianti_H_He.h5 not found in local path. Exists in TARDIS Data repo /home/molkree/Downloads/tardis-data/kurucz_cd23_chianti_H_He.h5 (\u001b[1mutil.py\u001b[0m:33)\n",
      "[\u001b[1mtardis.io.atom_data.base\u001b[0m][\u001b[1;37mINFO\u001b[0m   ]  Read Atom Data with UUID=6f7b09e887a311e7a06b246e96350010 and MD5=864f1753714343c41f99cb065710cace. (\u001b[1mbase.py\u001b[0m:178)\n",
      "[\u001b[1mtardis.io.atom_data.base\u001b[0m][\u001b[1;37mINFO\u001b[0m   ]  Non provided atomic data: synpp_refs, photoionization_data, yg_data, two_photon_data (\u001b[1mbase.py\u001b[0m:184)\n",
      "[\u001b[1mtardis.plasma.properties.atomic\u001b[0m][\u001b[1;33mWARNING\u001b[0m]  Zeta_data missing - replaced with 1s. Missing ions: [(11, 12), (12, 13), (14, 15), (16, 17), (20, 21), (21, 22), (22, 23), (23, 24), (24, 25), (26, 27), (27, 28), (28, 29)] (\u001b[1matomic.py\u001b[0m:386)\n",
      "[\u001b[1mtardis.plasma.properties.atomic\u001b[0m][\u001b[1;33mWARNING\u001b[0m]  Zeta_data missing - replaced with 1s. Missing ions: [(11, 12), (12, 13), (14, 15), (16, 17), (20, 21), (21, 22), (22, 23), (23, 24), (24, 25), (26, 27), (27, 28), (28, 29)] (\u001b[1matomic.py\u001b[0m:386)\n",
      "[\u001b[1mtardis.simulation.base\u001b[0m][\u001b[1;37mINFO\u001b[0m   ]  Starting iteration 1/1 (\u001b[1mbase.py\u001b[0m:324)\n",
      "[\u001b[1mpy.warnings         \u001b[0m][\u001b[1;33mWARNING\u001b[0m]  /home/molkree/anaconda3/envs/tardis/lib/python3.8/site-packages/astropy/units/equivalencies.py:124: RuntimeWarning: divide by zero encountered in double_scalars\n",
      "  (si.m, si.Hz, lambda x: _si.c.value / x),\n",
      " (\u001b[1mwarnings.py\u001b[0m:109)\n",
      "Running post-merge numba montecarlo (with C close lines)!\n"
     ]
    }
   ],
   "source": [
    "sim = run_tardis('16d.yml')"
   ]
  }
 ],
 "metadata": {
  "kernelspec": {
   "display_name": "Python 3",
   "language": "python",
   "name": "python3"
  },
  "language_info": {
   "codemirror_mode": {
    "name": "ipython",
    "version": 3
   },
   "file_extension": ".py",
   "mimetype": "text/x-python",
   "name": "python",
   "nbconvert_exporter": "python",
   "pygments_lexer": "ipython3",
   "version": "3.8.8"
  }
 },
 "nbformat": 4,
 "nbformat_minor": 5
}
