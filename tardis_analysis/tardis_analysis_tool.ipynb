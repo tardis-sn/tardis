{
 "cells": [
  {
   "cell_type": "markdown",
   "id": "45c2fb64-a0d4-4b0a-9e3b-d6d8ae9b745e",
   "metadata": {},
   "source": [
    "# TARDIS Analysis Tool Documentation 📊\n",
    "This tool is designed to analyze and compare TARDIS regression data across different commits. It provides visualization capabilities using Plotly for:\n",
    "\n",
    "1. **Direct Spectrum Comparison**: Compares the luminosity vs wavelength plots across different commits\n",
    "2. **Residual Analysis**: Shows the fractional differences between spectra from different commits\n",
    "\n"
   ]
  },
  {
   "cell_type": "markdown",
   "id": "fb33ef73-cc29-4b98-9f03-246a04571ace",
   "metadata": {},
   "source": [
    "## Imports 📥"
   ]
  },
  {
   "cell_type": "code",
   "execution_count": null,
   "id": "854fc9c4-a2ed-4358-8023-8383fb110c10",
   "metadata": {},
   "outputs": [],
   "source": [
    "import os\n",
    "from git import Repo\n",
    "from tardis_analysis import (\n",
    "    process_commits, load_h5_data, SPECTRUM_KEYS, PLOTLY_COLORS,\n",
    "    commits\n",
    ")\n",
    "from tardis_analysis.combined_viz import plot_combined_analysis_plotly\n",
    "import plotly.graph_objects as go\n",
    "from plotly.subplots import make_subplots"
   ]
  },
  {
   "cell_type": "markdown",
   "id": "3d792f0b-175a-4e89-ab58-ea9d2a1d8f5a",
   "metadata": {},
   "source": [
    "## Configuration Settings ⚙️\n",
    "\n",
    "The configuration dictionary defines essential parameters for the analysis:\n",
    "\n",
    "- **Repository Paths**:\n",
    "  - `tardis_repo`: Path to TARDIS repository\n",
    "  - `regression_data_repo`: Path to regression data repository\n",
    "\n",
    "- **Parameters**:\n",
    "  - `branch`: Target branch for analysis (default: \"master\")\n",
    "  - `n`: Number of commits to analyze (default: 2), will be ignored if commits list is provided\n",
    "  - `target_file`: Path to HDF5 file containing spectrum solver test data\n",
    "  - `save_plots`: Boolean flag to enable plot saving (default: True)\n",
    "  - `gap`: Number of days between each commit\n",
    "  - `info`: If True, returns a DataFrame with hash, author, and message; otherwise returns a list of hashes\n",
    "\n",
    "- **Optional Parameters**:\n",
    "  - `commits`: List of specific commit hashes (commented out by default)\n",
    "  - `output_dir`: Custom output directory (defaults to \"comparison_plots\" in tardis_repo if None)"
   ]
  },
  {
   "cell_type": "code",
   "execution_count": null,
   "id": "29b69cd3-31b2-4dda-8602-065c09f56410",
   "metadata": {},
   "outputs": [],
   "source": [
    "# commits.calculate_commits(n=10, gap=0, info=True)"
   ]
  },
  {
   "cell_type": "code",
   "execution_count": null,
   "id": "67c21d2a",
   "metadata": {},
   "outputs": [],
   "source": [
    "config = {\n",
    "    \"tardis_repo\": \"/home/riddhi/workspace/tardis-main/tardis\",\n",
    "    \"regression_data_repo\": \"/home/riddhi/workspace/tardis-main/tardis-regression-data\",\n",
    "    \"branch\": \"master\",\n",
    "    \"n\": 3,\n",
    "    \"target_file\": \"tardis/spectrum/tests/test_spectrum_solver/test_spectrum_solver/TestSpectrumSolver.h5\",\n",
    "    \"output_dir\": None,\n",
    "    \"commits\": [\"300e565e83112528faaa76e970057ffb1b13f743\", \"2a06fdfb60190bbd9b49ff572d78772607138660\", \"2d775dcd1c486227532f537fc41066e942000e56\"],  # Uncomment for specific commits\n",
    "    # \"commits\": commits.calculate_commits(n=10, gap=0, info=False), #Uncomment for n commits with custom gap\n",
    "    \"save_plots\": True\n",
    "}\n",
    "\n",
    "if config[\"output_dir\"] is None:\n",
    "    config[\"output_dir\"] = os.path.join(config[\"tardis_repo\"], \"comparison_plots\")"
   ]
  },
  {
   "cell_type": "markdown",
   "id": "a4e5ffcc-4381-4c32-8cad-ad14554cd990",
   "metadata": {},
   "source": [
    "## Process Commits ↻\n",
    "\n",
    "This code processes either specific commits or the latest `n` commits from the TARDIS repository. For each commit, it runs regression tests, generates reference data, and stores the results in the regression data repository. The function returns the processed commit hashes, corresponding regression commit hashes, original HEAD position, and the target file path.\n",
    "\n",
    "It handles both specific commit inputs (via `commits` parameter) and default behavior (latest `n` commits), ensuring proper repository state management throughout the process.\n"
   ]
  },
  {
   "cell_type": "code",
   "execution_count": null,
   "id": "d968be8c-e3c7-4128-9be4-0eb680a88d3b",
   "metadata": {
    "scrolled": true
   },
   "outputs": [],
   "source": [
    "if config.get(\"commits\"):\n",
    "    processed_commits, regression_commits, original_head, target_file_path = process_commits(\n",
    "        config[\"tardis_repo\"], config[\"regression_data_repo\"], \n",
    "        config[\"branch\"], config[\"target_file\"], \n",
    "        commits_input=config[\"commits\"]\n",
    "    )\n",
    "else:\n",
    "    processed_commits, regression_commits, original_head, target_file_path = process_commits(\n",
    "        config[\"tardis_repo\"], config[\"regression_data_repo\"], \n",
    "        config[\"branch\"], config[\"target_file\"], \n",
    "        n=config[\"n\"]\n",
    "    )"
   ]
  },
  {
   "cell_type": "markdown",
   "id": "2527b689-b84e-4a41-a547-8c9d0f006013",
   "metadata": {},
   "source": [
    "## Load HDF5 Data 📊\n",
    "\n",
    "This code loads spectrum data from the regression repository for each processed commit. It initializes an empty list `commit_data`, then iterates through each regression commit to load the corresponding HDF5 data. For each commit, it checks out the commit, loads wavelength and luminosity data using `load_h5_data()`, and stores it in the list.\n",
    "After processing all commits, it resets the repository to its original state and returns to the main branch."
   ]
  },
  {
   "cell_type": "code",
   "execution_count": null,
   "id": "b59ab5d8-61f5-4e45-98cc-a7834d9242db",
   "metadata": {
    "scrolled": true
   },
   "outputs": [],
   "source": [
    "commit_data = []\n",
    "regression_repo = Repo(config[\"regression_data_repo\"])\n",
    "\n",
    "for reg_commit in regression_commits:\n",
    "    regression_repo.git.checkout(reg_commit)\n",
    "    commit_data.append(load_h5_data(target_file_path, SPECTRUM_KEYS))\n",
    "\n",
    "regression_repo.git.reset('--hard', original_head)\n",
    "regression_repo.git.checkout('main')"
   ]
  },
  {
   "cell_type": "markdown",
   "id": "57785a5f-e045-4d84-88b7-7e4a0a90aa82",
   "metadata": {},
   "source": [
    "## Display Plots 📈\n",
    "This cell creates and saves visualization plots using Plotly. It sets up a 2x2 subplot grid for spectrum analysis and generates both direct comparison and residual plots when `save_plots` is enabled. The plots are saved in the configured output directory as interactive HTML files.\n",
    "\n",
    "### Spectrum Plot\n",
    "\n",
    "The spectrum plot shows the relationship between wavelength ($\\lambda$) and luminosity ($L$) for each commit:\n",
    "\n",
    "$$L(\\lambda) = f(\\lambda)$$\n",
    "\n",
    "where:\n",
    "- $L(\\lambda)$ is the luminosity at wavelength $\\lambda$\n",
    "- $f(\\lambda)$ represents the spectral energy distribution function\n",
    "\n",
    "### Residual Plot\n",
    "\n",
    "The residual plot shows the fractional difference between spectra from different commits:\n",
    "\n",
    "$$R(\\lambda) = \\frac{L_2(\\lambda) - L_1(\\lambda)}{L_1(\\lambda)} \\times 100\\%$$\n",
    "\n",
    "where:\n",
    "- $R(\\lambda)$ is the residual at wavelength $\\lambda$\n",
    "- $L_1(\\lambda)$ is the luminosity from the reference commit\n",
    "- $L_2(\\lambda)$ is the luminosity from the comparison commit\n",
    "- The result is expressed as a percentage difference\n",
    "\n",
    "The code ensures the output directory exists before saving and handles both types of plots: luminosity vs wavelength comparisons and fractional residuals across commits."
   ]
  },
  {
   "cell_type": "code",
   "execution_count": null,
   "id": "8a58ac73-4c61-46c8-8ea3-bdadd4a5bfaf",
   "metadata": {},
   "outputs": [],
   "source": [
    "output_dir = os.path.abspath(config[\"output_dir\"])\n",
    "fig = plot_combined_analysis_plotly(\n",
    "    commit_data,\n",
    "    SPECTRUM_KEYS,\n",
    "    output_dir,\n",
    "    commit_hashes=processed_commits\n",
    ")\n",
    "\n",
    "fig.show()"
   ]
  }
 ],
 "metadata": {
  "kernelspec": {
   "display_name": "Python 3 (ipykernel)",
   "language": "python",
   "name": "python3"
  },
  "language_info": {
   "codemirror_mode": {
    "name": "ipython",
    "version": 3
   },
   "file_extension": ".py",
   "mimetype": "text/x-python",
   "name": "python",
   "nbconvert_exporter": "python",
   "pygments_lexer": "ipython3",
   "version": "3.12.4"
  }
 },
 "nbformat": 4,
 "nbformat_minor": 5
}
