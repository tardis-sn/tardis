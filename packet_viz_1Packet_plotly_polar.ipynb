{
 "cells": [
  {
   "cell_type": "markdown",
   "metadata": {},
   "source": [
    "### 2D Packet Visualization_ Single Packet_Plotly ###"
   ]
  },
  {
   "cell_type": "code",
   "execution_count": 72,
   "metadata": {},
   "outputs": [],
   "source": [
    "from tardis import run_tardis\n",
    "from tardis.io.config_reader import Configuration"
   ]
  },
  {
   "cell_type": "code",
   "execution_count": 73,
   "metadata": {},
   "outputs": [],
   "source": [
    "# Reading the Configuration stored in `tardis_example.yml` into config\n",
    "\n",
    "config = Configuration.from_yaml(\"tardis_example.yml\")"
   ]
  },
  {
   "cell_type": "code",
   "execution_count": 98,
   "metadata": {},
   "outputs": [],
   "source": [
    "config[\"montecarlo\"][\"tracking\"][\"track_rpacket\"]=True\n",
    "\n",
    "# 3 point into photsphere\n",
    "# config[\"montecarlo\"][\"seed\"]= 8735653\n",
    "\n",
    "# normal straight\n",
    "# config[\"montecarlo\"][\"seed\"]= 4278055\n",
    "\n",
    "# l curve\n",
    "# config[\"montecarlo\"][\"seed\"]= 1298533\n",
    "\n",
    "# all across the photosphere\n",
    "# config[\"montecarlo\"][\"seed\"]= 25\n",
    "\n",
    "config[\"montecarlo\"][\"seed\"]= 234\n",
    "config[\"montecarlo\"][\"no_of_packets\"]=10\n",
    "config[\"montecarlo\"][\"iterations\"]=1\n",
    "config[\"montecarlo\"][\"last_no_of_packets\"]=15\n",
    "config[\"montecarlo\"][\"no_of_virtual_packets\"]=5"
   ]
  },
  {
   "cell_type": "code",
   "execution_count": 99,
   "metadata": {
    "scrolled": false
   },
   "outputs": [
    {
     "name": "stdout",
     "output_type": "stream",
     "text": [
      "[\u001b[1mtardis.plasma.standard_plasmas\u001b[0m][\u001b[1;37mINFO\u001b[0m   ]  \n",
      "\t\n",
      "\tReading Atomic Data from kurucz_cd23_chianti_H_He.h5 (\u001b[1mstandard_plasmas.py\u001b[0m:93)\n",
      "[\u001b[1mtardis.io.atom_data.util\u001b[0m][\u001b[1;37mINFO\u001b[0m   ]  \n",
      "\t\n",
      "\tAtom Data kurucz_cd23_chianti_H_He.h5 not found in local path.\n",
      "\tExists in TARDIS Data repo /home/jayant/Downloads/tardis-data/kurucz_cd23_chianti_H_He.h5 (\u001b[1mutil.py\u001b[0m:33)\n",
      "[\u001b[1mtardis.io.atom_data.base\u001b[0m][\u001b[1;37mINFO\u001b[0m   ]  \n",
      "\tReading Atom Data with: UUID = 6f7b09e887a311e7a06b246e96350010 MD5  = 864f1753714343c41f99cb065710cace  (\u001b[1mbase.py\u001b[0m:249)\n",
      "[\u001b[1mtardis.io.atom_data.base\u001b[0m][\u001b[1;37mINFO\u001b[0m   ]  \n",
      "\tNon provided Atomic Data: synpp_refs, photoionization_data, yg_data, two_photon_data (\u001b[1mbase.py\u001b[0m:253)\n",
      "[\u001b[1mpy.warnings         \u001b[0m][\u001b[1;33mWARNING\u001b[0m]  \n",
      "\t/home/jayant/Desktop/tardis/tardis/plasma/properties/radiative_properties.py:93: RuntimeWarning:\n",
      "\n",
      "invalid value encountered in true_divide\n",
      "\n",
      " (\u001b[1mwarnings.py\u001b[0m:109)\n",
      "[\u001b[1mtardis.simulation.base\u001b[0m][\u001b[1;37mINFO\u001b[0m   ]  \n",
      "\t\n",
      "\tStarting iteration 1 of 1 (\u001b[1mbase.py\u001b[0m:381)\n",
      "[\u001b[1mtardis.simulation.base\u001b[0m][\u001b[1;37mINFO\u001b[0m   ]  \n",
      "\t\n",
      "\tLuminosity emitted   = 7.192e+42 erg / s\n",
      "\tLuminosity absorbed  = 3.453e+42 erg / s\n",
      "\tLuminosity requested = 1.059e+43 erg / s\n",
      " (\u001b[1mbase.py\u001b[0m:555)\n",
      "[\u001b[1mtardis.simulation.base\u001b[0m][\u001b[1;37mINFO\u001b[0m   ]  \n",
      "\t\n",
      "\tSimulation finished in 1 iterations \n",
      "\tSimulation took 0.04 s\n",
      " (\u001b[1mbase.py\u001b[0m:476)\n"
     ]
    }
   ],
   "source": [
    "sim = run_tardis(config, show_progress_bars=False)"
   ]
  },
  {
   "cell_type": "markdown",
   "metadata": {},
   "source": [
    "<div class=\"alert alert-info\">\n",
    "    \n",
    "Note\n",
    "\n",
    "When running this notebook locally or in interactive mode, a [convergence plot](io/visualization/convergence_plot.ipynb) will show up.\n",
    "\n",
    "</div>"
   ]
  },
  {
   "cell_type": "code",
   "execution_count": 132,
   "metadata": {},
   "outputs": [
    {
     "data": {
      "text/html": [
       "<div>\n",
       "<style scoped>\n",
       "    .dataframe tbody tr th:only-of-type {\n",
       "        vertical-align: middle;\n",
       "    }\n",
       "\n",
       "    .dataframe tbody tr th {\n",
       "        vertical-align: top;\n",
       "    }\n",
       "\n",
       "    .dataframe thead th {\n",
       "        text-align: right;\n",
       "    }\n",
       "</style>\n",
       "<table border=\"1\" class=\"dataframe\">\n",
       "  <thead>\n",
       "    <tr style=\"text-align: right;\">\n",
       "      <th></th>\n",
       "      <th>status</th>\n",
       "      <th>seed</th>\n",
       "      <th>r</th>\n",
       "      <th>nu</th>\n",
       "      <th>mu</th>\n",
       "      <th>energy</th>\n",
       "      <th>shell_id</th>\n",
       "      <th>interaction_type</th>\n",
       "    </tr>\n",
       "    <tr>\n",
       "      <th>step</th>\n",
       "      <th></th>\n",
       "      <th></th>\n",
       "      <th></th>\n",
       "      <th></th>\n",
       "      <th></th>\n",
       "      <th></th>\n",
       "      <th></th>\n",
       "      <th></th>\n",
       "    </tr>\n",
       "  </thead>\n",
       "  <tbody>\n",
       "    <tr>\n",
       "      <th>0</th>\n",
       "      <td>0</td>\n",
       "      <td>1210658760</td>\n",
       "      <td>1.235520e+15</td>\n",
       "      <td>1.586493e+15</td>\n",
       "      <td>0.755344</td>\n",
       "      <td>0.068567</td>\n",
       "      <td>0</td>\n",
       "      <td>-1</td>\n",
       "    </tr>\n",
       "    <tr>\n",
       "      <th>1</th>\n",
       "      <td>0</td>\n",
       "      <td>1210658760</td>\n",
       "      <td>1.286064e+15</td>\n",
       "      <td>1.586493e+15</td>\n",
       "      <td>0.776941</td>\n",
       "      <td>0.068567</td>\n",
       "      <td>1</td>\n",
       "      <td>-1</td>\n",
       "    </tr>\n",
       "    <tr>\n",
       "      <th>2</th>\n",
       "      <td>0</td>\n",
       "      <td>1210658760</td>\n",
       "      <td>1.336608e+15</td>\n",
       "      <td>1.586493e+15</td>\n",
       "      <td>0.795643</td>\n",
       "      <td>0.068567</td>\n",
       "      <td>2</td>\n",
       "      <td>-1</td>\n",
       "    </tr>\n",
       "    <tr>\n",
       "      <th>3</th>\n",
       "      <td>0</td>\n",
       "      <td>1210658760</td>\n",
       "      <td>1.387152e+15</td>\n",
       "      <td>1.586493e+15</td>\n",
       "      <td>0.811974</td>\n",
       "      <td>0.068567</td>\n",
       "      <td>3</td>\n",
       "      <td>-1</td>\n",
       "    </tr>\n",
       "    <tr>\n",
       "      <th>4</th>\n",
       "      <td>0</td>\n",
       "      <td>1210658760</td>\n",
       "      <td>1.437696e+15</td>\n",
       "      <td>1.586493e+15</td>\n",
       "      <td>0.826339</td>\n",
       "      <td>0.068567</td>\n",
       "      <td>4</td>\n",
       "      <td>-1</td>\n",
       "    </tr>\n",
       "    <tr>\n",
       "      <th>5</th>\n",
       "      <td>0</td>\n",
       "      <td>1210658760</td>\n",
       "      <td>1.488240e+15</td>\n",
       "      <td>1.586493e+15</td>\n",
       "      <td>0.839055</td>\n",
       "      <td>0.068567</td>\n",
       "      <td>5</td>\n",
       "      <td>-1</td>\n",
       "    </tr>\n",
       "    <tr>\n",
       "      <th>6</th>\n",
       "      <td>0</td>\n",
       "      <td>1210658760</td>\n",
       "      <td>1.538784e+15</td>\n",
       "      <td>1.586493e+15</td>\n",
       "      <td>0.850375</td>\n",
       "      <td>0.068567</td>\n",
       "      <td>6</td>\n",
       "      <td>-1</td>\n",
       "    </tr>\n",
       "    <tr>\n",
       "      <th>7</th>\n",
       "      <td>0</td>\n",
       "      <td>1210658760</td>\n",
       "      <td>1.589328e+15</td>\n",
       "      <td>1.586493e+15</td>\n",
       "      <td>0.860504</td>\n",
       "      <td>0.068567</td>\n",
       "      <td>7</td>\n",
       "      <td>-1</td>\n",
       "    </tr>\n",
       "    <tr>\n",
       "      <th>8</th>\n",
       "      <td>0</td>\n",
       "      <td>1210658760</td>\n",
       "      <td>1.639872e+15</td>\n",
       "      <td>1.586493e+15</td>\n",
       "      <td>0.869609</td>\n",
       "      <td>0.068567</td>\n",
       "      <td>8</td>\n",
       "      <td>-1</td>\n",
       "    </tr>\n",
       "    <tr>\n",
       "      <th>9</th>\n",
       "      <td>0</td>\n",
       "      <td>1210658760</td>\n",
       "      <td>1.690416e+15</td>\n",
       "      <td>1.586493e+15</td>\n",
       "      <td>0.877827</td>\n",
       "      <td>0.068567</td>\n",
       "      <td>9</td>\n",
       "      <td>-1</td>\n",
       "    </tr>\n",
       "    <tr>\n",
       "      <th>10</th>\n",
       "      <td>0</td>\n",
       "      <td>1210658760</td>\n",
       "      <td>1.740960e+15</td>\n",
       "      <td>1.586493e+15</td>\n",
       "      <td>0.885273</td>\n",
       "      <td>0.068567</td>\n",
       "      <td>10</td>\n",
       "      <td>-1</td>\n",
       "    </tr>\n",
       "    <tr>\n",
       "      <th>11</th>\n",
       "      <td>0</td>\n",
       "      <td>1210658760</td>\n",
       "      <td>1.791504e+15</td>\n",
       "      <td>1.586493e+15</td>\n",
       "      <td>0.892043</td>\n",
       "      <td>0.068567</td>\n",
       "      <td>11</td>\n",
       "      <td>-1</td>\n",
       "    </tr>\n",
       "    <tr>\n",
       "      <th>12</th>\n",
       "      <td>0</td>\n",
       "      <td>1210658760</td>\n",
       "      <td>1.842048e+15</td>\n",
       "      <td>1.586493e+15</td>\n",
       "      <td>0.898218</td>\n",
       "      <td>0.068567</td>\n",
       "      <td>12</td>\n",
       "      <td>-1</td>\n",
       "    </tr>\n",
       "    <tr>\n",
       "      <th>13</th>\n",
       "      <td>0</td>\n",
       "      <td>1210658760</td>\n",
       "      <td>1.892592e+15</td>\n",
       "      <td>1.586493e+15</td>\n",
       "      <td>0.903868</td>\n",
       "      <td>0.068567</td>\n",
       "      <td>13</td>\n",
       "      <td>-1</td>\n",
       "    </tr>\n",
       "    <tr>\n",
       "      <th>14</th>\n",
       "      <td>0</td>\n",
       "      <td>1210658760</td>\n",
       "      <td>1.943136e+15</td>\n",
       "      <td>1.586493e+15</td>\n",
       "      <td>0.909052</td>\n",
       "      <td>0.068567</td>\n",
       "      <td>14</td>\n",
       "      <td>-1</td>\n",
       "    </tr>\n",
       "    <tr>\n",
       "      <th>15</th>\n",
       "      <td>0</td>\n",
       "      <td>1210658760</td>\n",
       "      <td>1.993680e+15</td>\n",
       "      <td>1.586493e+15</td>\n",
       "      <td>0.913820</td>\n",
       "      <td>0.068567</td>\n",
       "      <td>15</td>\n",
       "      <td>-1</td>\n",
       "    </tr>\n",
       "    <tr>\n",
       "      <th>16</th>\n",
       "      <td>0</td>\n",
       "      <td>1210658760</td>\n",
       "      <td>2.044224e+15</td>\n",
       "      <td>1.586493e+15</td>\n",
       "      <td>0.918217</td>\n",
       "      <td>0.068567</td>\n",
       "      <td>16</td>\n",
       "      <td>-1</td>\n",
       "    </tr>\n",
       "    <tr>\n",
       "      <th>17</th>\n",
       "      <td>0</td>\n",
       "      <td>1210658760</td>\n",
       "      <td>2.094768e+15</td>\n",
       "      <td>1.586493e+15</td>\n",
       "      <td>0.922281</td>\n",
       "      <td>0.068567</td>\n",
       "      <td>17</td>\n",
       "      <td>-1</td>\n",
       "    </tr>\n",
       "    <tr>\n",
       "      <th>18</th>\n",
       "      <td>0</td>\n",
       "      <td>1210658760</td>\n",
       "      <td>2.145312e+15</td>\n",
       "      <td>1.586493e+15</td>\n",
       "      <td>0.926044</td>\n",
       "      <td>0.068567</td>\n",
       "      <td>18</td>\n",
       "      <td>-1</td>\n",
       "    </tr>\n",
       "    <tr>\n",
       "      <th>19</th>\n",
       "      <td>0</td>\n",
       "      <td>1210658760</td>\n",
       "      <td>2.195856e+15</td>\n",
       "      <td>1.586493e+15</td>\n",
       "      <td>0.929538</td>\n",
       "      <td>0.068567</td>\n",
       "      <td>19</td>\n",
       "      <td>-1</td>\n",
       "    </tr>\n",
       "    <tr>\n",
       "      <th>20</th>\n",
       "      <td>1</td>\n",
       "      <td>1210658760</td>\n",
       "      <td>2.246400e+15</td>\n",
       "      <td>1.586493e+15</td>\n",
       "      <td>0.932786</td>\n",
       "      <td>0.068567</td>\n",
       "      <td>19</td>\n",
       "      <td>-1</td>\n",
       "    </tr>\n",
       "  </tbody>\n",
       "</table>\n",
       "</div>"
      ],
      "text/plain": [
       "      status        seed             r            nu        mu    energy  \\\n",
       "step                                                                       \n",
       "0          0  1210658760  1.235520e+15  1.586493e+15  0.755344  0.068567   \n",
       "1          0  1210658760  1.286064e+15  1.586493e+15  0.776941  0.068567   \n",
       "2          0  1210658760  1.336608e+15  1.586493e+15  0.795643  0.068567   \n",
       "3          0  1210658760  1.387152e+15  1.586493e+15  0.811974  0.068567   \n",
       "4          0  1210658760  1.437696e+15  1.586493e+15  0.826339  0.068567   \n",
       "5          0  1210658760  1.488240e+15  1.586493e+15  0.839055  0.068567   \n",
       "6          0  1210658760  1.538784e+15  1.586493e+15  0.850375  0.068567   \n",
       "7          0  1210658760  1.589328e+15  1.586493e+15  0.860504  0.068567   \n",
       "8          0  1210658760  1.639872e+15  1.586493e+15  0.869609  0.068567   \n",
       "9          0  1210658760  1.690416e+15  1.586493e+15  0.877827  0.068567   \n",
       "10         0  1210658760  1.740960e+15  1.586493e+15  0.885273  0.068567   \n",
       "11         0  1210658760  1.791504e+15  1.586493e+15  0.892043  0.068567   \n",
       "12         0  1210658760  1.842048e+15  1.586493e+15  0.898218  0.068567   \n",
       "13         0  1210658760  1.892592e+15  1.586493e+15  0.903868  0.068567   \n",
       "14         0  1210658760  1.943136e+15  1.586493e+15  0.909052  0.068567   \n",
       "15         0  1210658760  1.993680e+15  1.586493e+15  0.913820  0.068567   \n",
       "16         0  1210658760  2.044224e+15  1.586493e+15  0.918217  0.068567   \n",
       "17         0  1210658760  2.094768e+15  1.586493e+15  0.922281  0.068567   \n",
       "18         0  1210658760  2.145312e+15  1.586493e+15  0.926044  0.068567   \n",
       "19         0  1210658760  2.195856e+15  1.586493e+15  0.929538  0.068567   \n",
       "20         1  1210658760  2.246400e+15  1.586493e+15  0.932786  0.068567   \n",
       "\n",
       "      shell_id  interaction_type  \n",
       "step                              \n",
       "0            0                -1  \n",
       "1            1                -1  \n",
       "2            2                -1  \n",
       "3            3                -1  \n",
       "4            4                -1  \n",
       "5            5                -1  \n",
       "6            6                -1  \n",
       "7            7                -1  \n",
       "8            8                -1  \n",
       "9            9                -1  \n",
       "10          10                -1  \n",
       "11          11                -1  \n",
       "12          12                -1  \n",
       "13          13                -1  \n",
       "14          14                -1  \n",
       "15          15                -1  \n",
       "16          16                -1  \n",
       "17          17                -1  \n",
       "18          18                -1  \n",
       "19          19                -1  \n",
       "20          19                -1  "
      ]
     },
     "execution_count": 132,
     "metadata": {},
     "output_type": "execute_result"
    }
   ],
   "source": [
    "sim.runner.rpacket_tracker_df.loc[5]"
   ]
  },
  {
   "cell_type": "code",
   "execution_count": 101,
   "metadata": {},
   "outputs": [
    {
     "data": {
      "text/plain": [
       "15"
      ]
     },
     "execution_count": 101,
     "metadata": {},
     "output_type": "execute_result"
    }
   ],
   "source": [
    "sim.runner.rpacket_tracker_df.index[-1][0]+1"
   ]
  },
  {
   "cell_type": "code",
   "execution_count": 102,
   "metadata": {
    "scrolled": false
   },
   "outputs": [
    {
     "data": {
      "text/latex": [
       "$[1.23552 \\times 10^{15},~1.286064 \\times 10^{15},~1.336608 \\times 10^{15},~1.387152 \\times 10^{15},~1.437696 \\times 10^{15},~1.48824 \\times 10^{15},~1.538784 \\times 10^{15},~1.589328 \\times 10^{15},~1.639872 \\times 10^{15},~1.690416 \\times 10^{15},~1.74096 \\times 10^{15},~1.791504 \\times 10^{15},~1.842048 \\times 10^{15},~1.892592 \\times 10^{15},~1.943136 \\times 10^{15},~1.99368 \\times 10^{15},~2.044224 \\times 10^{15},~2.094768 \\times 10^{15},~2.145312 \\times 10^{15},~2.195856 \\times 10^{15},~2.2464 \\times 10^{15}] \\; \\mathrm{cm}$"
      ],
      "text/plain": [
       "<Quantity [1.235520e+15, 1.286064e+15, 1.336608e+15, 1.387152e+15,\n",
       "           1.437696e+15, 1.488240e+15, 1.538784e+15, 1.589328e+15,\n",
       "           1.639872e+15, 1.690416e+15, 1.740960e+15, 1.791504e+15,\n",
       "           1.842048e+15, 1.892592e+15, 1.943136e+15, 1.993680e+15,\n",
       "           2.044224e+15, 2.094768e+15, 2.145312e+15, 2.195856e+15,\n",
       "           2.246400e+15] cm>"
      ]
     },
     "execution_count": 102,
     "metadata": {},
     "output_type": "execute_result"
    }
   ],
   "source": [
    "sim.model.radius"
   ]
  },
  {
   "cell_type": "code",
   "execution_count": 124,
   "metadata": {},
   "outputs": [
    {
     "data": {
      "text/latex": [
       "$1123200 \\; \\mathrm{s}$"
      ],
      "text/plain": [
       "<Quantity 1123200. s>"
      ]
     },
     "execution_count": 124,
     "metadata": {},
     "output_type": "execute_result"
    }
   ],
   "source": [
    "sim.model.time_explosion"
   ]
  },
  {
   "cell_type": "markdown",
   "metadata": {},
   "source": [
    "#### Plotly plots ####"
   ]
  },
  {
   "cell_type": "code",
   "execution_count": 150,
   "metadata": {},
   "outputs": [],
   "source": [
    "import plotly.express as px\n",
    "import chart_studio.plotly as py\n",
    "import plotly.graph_objects as go\n",
    "import math\n",
    "import pandas as pd\n",
    "import numpy as np\n",
    "import random\n",
    "from IPython.core.debugger import set_trace"
   ]
  },
  {
   "attachments": {
    "packet_diagram.jpg": {
     "image/jpeg": "[encoded data removed]"
    }
   },
   "cell_type": "markdown",
   "metadata": {},
   "source": [
    "### Mathematical expression for finding coordinates ###\n",
    "\n",
    "\\\n",
    "<img src=\"attachment:packet_diagram.jpg\" style=\"width:400px\">\n",
    "\n",
    "<br><br>The diagram above shows the packet trajectory as it starts from photosphere `P0` and continues to move along the subsequent points `P1`, `P2` and so on.\n",
    "\n",
    "<div class=\"alert alert-info\">\n",
    "    <b>Note:</b><br>\n",
    "    Here μ is the angle of direction of packet propagation with respect to line joining the center.\n",
    "</div>\n",
    "\n",
    "To determine the polar coordinates of any arbitrary point, let say `P2`, we need `r2` and `θ2`. `r2` is already present in the array obtained from the simulation. To determine `θ2`, we use sine rule and apply it on triangle `OP1P2`, where `O` is the center.\n",
    "\n",
    "$$\n",
    "\\frac{r_{2}}{\\sin(\\pi - \\mu_{1})} = \\frac{r_{1}}{\\sin(\\alpha)}\n",
    "$$\n",
    "\n",
    "Now, writing `α` in terms of `μ1` and `θ2`\n",
    "\n",
    "$$ \n",
    "α = μ_{1} - θ_{2} \\\\ \\\\\n",
    "\\frac{r_{2}}{\\sin(\\pi - \\mu_{1})} = \\frac{r_{1}}{\\sin(μ_{1} - θ_{2})}\n",
    "$$\n",
    "\n",
    "Thus,\n",
    "\n",
    "$$ \n",
    "θ_{2} = -\\sin^{-1}(\\frac{r1}{r2}\\sin(\\mu_{1})) + \\mu_{1}\n",
    "$$\n",
    "\n",
    "Hence, for `ith` point, `θ` will be:\n",
    "\n",
    "$$ \n",
    "θ_{i} = -\\sin^{-1}(\\frac{r_{i-1}}{r_{i}}\\sin(\\mu_{i-1})) + \\mu_{i-1}\n",
    "$$"
   ]
  },
  {
   "cell_type": "code",
   "execution_count": 104,
   "metadata": {},
   "outputs": [],
   "source": [
    "# function for getting x y coordinates\n",
    "def get_x_y(r_track,mu_track,direction=\"normal\"):\n",
    "    xs,ys,theta=[],[],[]\n",
    "    \n",
    "    for i in range(len(r_track)):\n",
    "        if(i==0):\n",
    "            theta.append(0)\n",
    "        else:\n",
    "            if(direction == 'random' or direction == 'r'):\n",
    "                multiplier = random.choice([-1,1])\n",
    "            elif(direction == 'opposite' or direction == 'o'):\n",
    "                multiplier = -1\n",
    "            else:\n",
    "                multiplier = 1\n",
    "            if (r_track[i]<r_track[i-1]):\n",
    "                theta.append(theta[-1] - math.pi + math.asin(r_track[i-1]*math.sin(multiplier * math.acos(mu_track[i-1]))/r_track[i]) + multiplier * math.acos(mu_track[i-1]))\n",
    "            else:\n",
    "                theta.append(theta[-1]+math.asin(-1*r_track[i-1]*math.sin(multiplier * math.acos(mu_track[i-1]))/r_track[i]) + multiplier * math.acos(mu_track[i-1]))\n",
    "    \n",
    "    xs = (np.array(r_track))*np.cos(np.array(theta))\n",
    "    ys = (np.array(r_track))*np.sin(np.array(theta))\n",
    "    \n",
    "    return xs,ys"
   ]
  },
  {
   "cell_type": "code",
   "execution_count": 105,
   "metadata": {},
   "outputs": [],
   "source": [
    "# function for getting x y coordinates\n",
    "def get_x_y_with_theta_init(r_track,mu_track,direction=\"normal\",theta_initial=0):\n",
    "    xs,ys,theta=[],[],[]\n",
    "    \n",
    "    for i in range(len(r_track)):\n",
    "        if(i==0):\n",
    "            theta.append(theta_initial)\n",
    "        else:\n",
    "            if(direction == 'random' or direction == 'r'):\n",
    "                multiplier = random.choice([-1,1])\n",
    "            elif(direction == 'opposite' or direction == 'o'):\n",
    "                multiplier = -1\n",
    "            else:\n",
    "                multiplier = 1\n",
    "            if (r_track[i]<r_track[i-1]):\n",
    "                theta.append(theta[-1] - math.pi + math.asin(r_track[i-1]*math.sin(multiplier * math.acos(mu_track[i-1]))/r_track[i]) + multiplier * math.acos(mu_track[i-1]))\n",
    "            else:\n",
    "                theta.append(theta[-1]+math.asin(-1*r_track[i-1]*math.sin(multiplier * math.acos(mu_track[i-1]))/r_track[i]) + multiplier * math.acos(mu_track[i-1]))\n",
    "    \n",
    "    xs = (np.array(r_track))*np.cos(np.array(theta))\n",
    "    ys = (np.array(r_track))*np.sin(np.array(theta))\n",
    "    \n",
    "    return xs,ys"
   ]
  },
  {
   "cell_type": "code",
   "execution_count": 136,
   "metadata": {},
   "outputs": [],
   "source": [
    "# function for getting x y coordinates\n",
    "def get_x_y_ints_with_theta_init(r_track,mu_track,time,last_interaction_type,direction=\"normal\",theta_initial=0):\n",
    "    xs,ys,theta,ints = [],[],[],[]\n",
    "    \n",
    "    for i in range(len(r_track)):\n",
    "        if(i==0):\n",
    "            theta.append(theta_initial)\n",
    "        else:\n",
    "            if(direction == 'random' or direction == 'r'):\n",
    "                multiplier = random.choice([-1,1])\n",
    "            elif(direction == 'opposite' or direction == 'o'):\n",
    "                multiplier = -1\n",
    "            else:\n",
    "                multiplier = 1\n",
    "            if (r_track[i]<r_track[i-1]):\n",
    "                theta.append(theta[-1] - math.pi + math.asin(r_track[i-1]*math.sin(multiplier * math.acos(mu_track[i-1]))/r_track[i]) + multiplier * math.acos(mu_track[i-1]))\n",
    "            else:\n",
    "                theta.append(theta[-1]+math.asin(-1*r_track[i-1]*math.sin(multiplier * math.acos(mu_track[i-1]))/r_track[i]) + multiplier * math.acos(mu_track[i-1]))\n",
    "                \n",
    "                    \n",
    "    xs = (np.array(r_track))*np.cos(np.array(theta))*1e-5/time\n",
    "    ys = (np.array(r_track))*np.sin(np.array(theta))*1e-5/time\n",
    "    \n",
    "    for i in range(len(r_track)):\n",
    "        if(i==0 or i == len(r_track)-1):\n",
    "            ints.append(0)\n",
    "        else:\n",
    "            s0 = (ys[i]-ys[i-1])/(xs[i]-xs[i-1])\n",
    "            s1 = (ys[i+1]-ys[i])/(xs[i+1]-xs[i])\n",
    "            if(math.isclose(s0,s1,rel_tol=1e-11)):\n",
    "                ints.append(0)\n",
    "            else:\n",
    "                ints.append(last_interaction_type[i])\n",
    "\n",
    "    return xs,ys,ints"
   ]
  },
  {
   "cell_type": "code",
   "execution_count": 137,
   "metadata": {},
   "outputs": [],
   "source": [
    "def get_coordinates_multiple_packets_ints(r_packet_tracker,time):\n",
    "    thetas = np.linspace(0, math.pi * 2,sim.runner.rpacket_tracker_df.index[-1][0]+2) \n",
    "    x = []\n",
    "    y = []\n",
    "    inters = []\n",
    "    for i in range(sim.runner.rpacket_tracker_df.index[-1][0]+1):\n",
    "        xs,ys,ints = get_x_y_ints_with_theta_init(r_packet_tracker.loc[i][\"r\"],r_packet_tracker.loc[i][\"mu\"],time,r_packet_tracker.loc[i][\"interaction_type\"],'n',thetas[i])\n",
    "        x.append(xs)\n",
    "        y.append(ys)\n",
    "        inters.append(ints)\n",
    "    return np.array(x),np.array(y),np.array(inters)"
   ]
  },
  {
   "cell_type": "code",
   "execution_count": 108,
   "metadata": {
    "scrolled": true
   },
   "outputs": [],
   "source": [
    "def get_coordinates_multiple_packets(r_packet_tracker):\n",
    "    thetas = np.linspace(0, math.pi * 2,sim.runner.rpacket_tracker_df.index[-1][0]+2) \n",
    "    x = []\n",
    "    y = []\n",
    "    for i in range(sim.runner.rpacket_tracker_df.index[-1][0]+1):\n",
    "        xs,ys = get_x_y_with_theta_init(r_packet_tracker.loc[i][\"r\"],r_packet_tracker.loc[i][\"mu\"],'n',thetas[i])\n",
    "        x.append(xs)\n",
    "        y.append(ys)\n",
    "    return np.array(x),np.array(y)"
   ]
  },
  {
   "cell_type": "code",
   "execution_count": 109,
   "metadata": {},
   "outputs": [],
   "source": [
    "def get_equal_array_size(xs,ys):\n",
    "    max_size = max(list(map(len,xs)))\n",
    "    for i in range(len(xs)):\n",
    "        xs[i] = np.append(xs[i],xs[i][-1]*np.ones([max_size-len(xs[i])]))\n",
    "        ys[i] = np.append(ys[i],ys[i][-1]*np.ones([max_size-len(ys[i])]))\n",
    "    return xs,ys,max_size"
   ]
  },
  {
   "cell_type": "code",
   "execution_count": 166,
   "metadata": {
    "scrolled": false
   },
   "outputs": [
    {
     "name": "stdout",
     "output_type": "stream",
     "text": [
      "[\u001b[1mpy.warnings         \u001b[0m][\u001b[1;33mWARNING\u001b[0m]  \n",
      "\t/tmp/ipykernel_571561/491106026.py:11: VisibleDeprecationWarning:\n",
      "\n",
      "Creating an ndarray from ragged nested sequences (which is a list-or-tuple of lists-or-tuples-or ndarrays with different lengths or shapes) is deprecated. If you meant to do this, you must specify 'dtype=object' when creating the ndarray\n",
      "\n",
      " (\u001b[1mwarnings.py\u001b[0m:109)\n"
     ]
    },
    {
     "data": {
      "application/vnd.plotly.v1+json": {
       "config": {
        "plotlyServerURL": "https://plot.ly"
       },
       "data": [
        {
         "hovertemplate": "<b>X</b>: %{x}<br><b>Y</b>: %{y}<br><b>Last Interaction: %{text}</b>",
         "line": {
          "color": "darkslategrey"
         },
         "marker": {
          "color": [
           "darkslategrey",
           "lightsteelblue",
           "darkslategrey"
          ],
          "opacity": [
           0,
           1,
           0
          ]
         },
         "mode": "markers+lines",
         "name": "Packet 1",
         "text": [
          "No Interaction",
          "Line",
          "No Interaction"
         ],
         "type": "scatter",
         "x": [
          11000.000000000002,
          11019.222229272988,
          10999.558629714684
         ],
         "y": [
          0,
          34.31062397360896,
          98.53908599766955
         ]
        },
        {
         "hovertemplate": "<b>X</b>: %{x}<br><b>Y</b>: %{y}<br><b>Last Interaction: %{text}</b>",
         "line": {
          "color": "darkslategrey"
         },
         "marker": {
          "color": [
           "darkslategrey",
           "darkslategrey",
           "darkslategrey",
           "darkslategrey",
           "darkslategrey",
           "darkslategrey",
           "darkslategrey",
           "darkslategrey",
           "darkslategrey",
           "darkslategrey",
           "darkslategrey",
           "darkslategrey",
           "darkslategrey",
           "darkslategrey",
           "darkslategrey",
           "darkslategrey",
           "darkslategrey",
           "darkslategrey",
           "darkslategrey",
           "darkslategrey",
           "darkslategrey"
          ],
          "opacity": [
           0,
           0,
           0,
           0,
           0,
           0,
           0,
           0,
           0,
           0,
           0,
           0,
           0,
           0,
           0,
           0,
           0,
           0,
           0,
           0,
           0
          ]
         },
         "mode": "markers+lines",
         "name": "Packet 2",
         "text": [
          "No Interaction",
          "No Interaction",
          "No Interaction",
          "No Interaction",
          "No Interaction",
          "No Interaction",
          "No Interaction",
          "No Interaction",
          "No Interaction",
          "No Interaction",
          "No Interaction",
          "No Interaction",
          "No Interaction",
          "No Interaction",
          "No Interaction",
          "No Interaction",
          "No Interaction",
          "No Interaction",
          "No Interaction",
          "No Interaction",
          "No Interaction"
         ],
         "type": "scatter",
         "x": [
          10049.000034068611,
          10396.157182121833,
          10741.830371401478,
          11086.197741866614,
          11429.409489261989,
          11771.59322590533,
          12112.85813592888,
          12453.298233567722,
          12792.994945090359,
          13132.019174468003,
          13470.432970581813,
          13808.290883740909,
          14145.641077669428,
          14482.52624736063,
          14818.984381568767,
          15155.049400036563,
          15490.751689021818,
          15826.118553716631,
          16161.17460233942,
          16495.94207372999,
          16830.4411179782
         ],
         "y": [
          4474.103073833802,
          4798.167967528508,
          5120.8476126552305,
          5442.30829963092,
          5762.6902334559,
          6082.112537911461,
          6400.677134402387,
          6718.471783509925,
          7035.572495177102,
          7352.045456973505,
          7667.948590402952,
          7983.332817188431,
          8298.24309729182,
          8612.719285714034,
          8926.79684426732,
          9240.507436415573,
          9553.879427178665,
          9866.938305457586,
          10179.707042577373,
          10492.206398091143,
          10804.455181741872
         ]
        },
        {
         "hovertemplate": "<b>X</b>: %{x}<br><b>Y</b>: %{y}<br><b>Last Interaction: %{text}</b>",
         "line": {
          "color": "darkslategrey"
         },
         "marker": {
          "color": [
           "darkslategrey",
           "darkslategrey",
           "darkslategrey",
           "darkslategrey",
           "darkslategrey",
           "darkslategrey",
           "darkslategrey",
           "darkslategrey",
           "darkslategrey",
           "darkslategrey",
           "darkslategrey",
           "darkslategrey",
           "darkslategrey",
           "darkslategrey",
           "darkslategrey",
           "darkslategrey",
           "darkslategrey",
           "darkslategrey",
           "darkslategrey",
           "darkslategrey",
           "darkslategrey"
          ],
          "opacity": [
           0,
           0,
           0,
           0,
           0,
           0,
           0,
           0,
           0,
           0,
           0,
           0,
           0,
           0,
           0,
           0,
           0,
           0,
           0,
           0,
           0
          ]
         },
         "mode": "markers+lines",
         "name": "Packet 3",
         "text": [
          "No Interaction",
          "No Interaction",
          "No Interaction",
          "No Interaction",
          "No Interaction",
          "No Interaction",
          "No Interaction",
          "No Interaction",
          "No Interaction",
          "No Interaction",
          "No Interaction",
          "No Interaction",
          "No Interaction",
          "No Interaction",
          "No Interaction",
          "No Interaction",
          "No Interaction",
          "No Interaction",
          "No Interaction",
          "No Interaction",
          "No Interaction"
         ],
         "type": "scatter",
         "x": [
          7360.436669947441,
          7078.629399115468,
          6822.351668009888,
          6583.765175959501,
          6358.233689620027,
          6142.760485716158,
          5935.285061386966,
          5734.324416124135,
          5538.77294016058,
          5347.782966884959,
          5160.6895876101735,
          4976.96125641485,
          4796.166172014215,
          4617.94870893319,
          4442.012471399639,
          4268.10784074917,
          4096.022649499305,
          3925.575079489213,
          3756.608173085617,
          3588.9855346870413,
          3422.5879242349174
         ],
         "y": [
          8174.593080251336,
          8999.750320424353,
          9750.154753541236,
          10448.75763465796,
          11109.134275369117,
          11740.059353134642,
          12347.566207155027,
          12935.99719738075,
          13508.589649454341,
          14067.825608070892,
          14615.65198615279,
          15153.625198352556,
          15683.009597982988,
          16204.846488679315,
          16720.003744136244,
          17229.212270435797,
          17733.09331320367,
          18232.179252500053,
          18726.929674506348,
          19217.743957910545,
          19704.9712484155
         ]
        },
        {
         "hovertemplate": "<b>X</b>: %{x}<br><b>Y</b>: %{y}<br><b>Last Interaction: %{text}</b>",
         "line": {
          "color": "darkslategrey"
         },
         "marker": {
          "color": [
           "darkslategrey",
           "darkslategrey",
           "darkslategrey",
           "lightsteelblue",
           "darkslategrey",
           "lightsteelblue",
           "darkslategrey",
           "darkslategrey",
           "darkslategrey",
           "darkslategrey",
           "darkslategrey",
           "darkslategrey",
           "darkslategrey",
           "darkslategrey",
           "darkslategrey",
           "darkslategrey",
           "darkslategrey",
           "darkslategrey",
           "darkslategrey",
           "darkslategrey",
           "darkslategrey",
           "darkslategrey",
           "darkslategrey",
           "darkslategrey",
           "darkslategrey"
          ],
          "opacity": [
           0,
           0,
           0,
           1,
           0,
           1,
           0,
           0,
           0,
           0,
           0,
           0,
           0,
           0,
           0,
           0,
           0,
           0,
           0,
           0,
           0,
           0,
           0,
           0,
           0
          ]
         },
         "mode": "markers+lines",
         "name": "Packet 4",
         "text": [
          "No Interaction",
          "No Interaction",
          "No Interaction",
          "Line",
          "No Interaction",
          "Line",
          "No Interaction",
          "No Interaction",
          "No Interaction",
          "No Interaction",
          "No Interaction",
          "No Interaction",
          "No Interaction",
          "No Interaction",
          "No Interaction",
          "No Interaction",
          "No Interaction",
          "No Interaction",
          "No Interaction",
          "No Interaction",
          "No Interaction",
          "No Interaction",
          "No Interaction",
          "No Interaction",
          "No Interaction"
         ],
         "type": "scatter",
         "x": [
          3399.1869381244223,
          3210.831135290436,
          3026.323168173589,
          2915.811146780419,
          2654.78365828048,
          2565.800435174675,
          2565.1643357527523,
          2562.0707856226377,
          2558.982649184348,
          2555.899350673613,
          2552.8203939049627,
          2549.745348871079,
          2546.673840981598,
          2543.605542350129,
          2540.540164685817,
          2537.47745345296,
          2534.417183040852,
          2531.3591527446474,
          2528.3031834018466,
          2525.249114562321,
          2522.196802095224,
          2519.1461161557254,
          2516.096939449682,
          2513.049165746367,
          2510.002698598655
         ],
         "y": [
          10461.62167924669,
          10990.589766734522,
          11508.751803813293,
          11819.107692621683,
          11600.091539627043,
          11525.42981216802,
          11620.238032440737,
          12081.320014363459,
          12541.595105933435,
          13001.149122643976,
          13460.056019068528,
          13918.37988617606,
          14376.176555247925,
          14833.494896514632,
          15290.37787864048,
          15746.863439212833,
          16202.985204656188,
          16658.77308927089,
          17114.253796552166,
          17569.45124098651,
          18024.386904732728,
          18479.08014067415,
          18933.548431059935,
          19387.807609179064,
          19841.872050112295
         ]
        },
        {
         "hovertemplate": "<b>X</b>: %{x}<br><b>Y</b>: %{y}<br><b>Last Interaction: %{text}</b>",
         "line": {
          "color": "darkslategrey"
         },
         "marker": {
          "color": [
           "darkslategrey",
           "lightslategrey",
           "darkslategrey"
          ],
          "opacity": [
           0,
           1,
           0
          ]
         },
         "mode": "markers+lines",
         "name": "Packet 5",
         "text": [
          "No Interaction",
          "EScattering",
          "No Interaction"
         ],
         "type": "scatter",
         "x": [
          -1149.8130959441867,
          -1784.8881004795958,
          -2367.3802264405786
         ],
         "y": [
          10939.740849051008,
          10915.822308133691,
          10742.23025555951
         ]
        },
        {
         "hovertemplate": "<b>X</b>: %{x}<br><b>Y</b>: %{y}<br><b>Last Interaction: %{text}</b>",
         "line": {
          "color": "darkslategrey"
         },
         "marker": {
          "color": [
           "darkslategrey",
           "darkslategrey",
           "darkslategrey",
           "darkslategrey",
           "darkslategrey",
           "darkslategrey",
           "darkslategrey",
           "darkslategrey",
           "darkslategrey",
           "darkslategrey",
           "darkslategrey",
           "darkslategrey",
           "darkslategrey",
           "darkslategrey",
           "darkslategrey",
           "darkslategrey",
           "darkslategrey",
           "darkslategrey",
           "darkslategrey",
           "darkslategrey",
           "darkslategrey"
          ],
          "opacity": [
           0,
           0,
           0,
           0,
           0,
           0,
           0,
           0,
           0,
           0,
           0,
           0,
           0,
           0,
           0,
           0,
           0,
           0,
           0,
           0,
           0
          ]
         },
         "mode": "markers+lines",
         "name": "Packet 6",
         "text": [
          "No Interaction",
          "No Interaction",
          "No Interaction",
          "No Interaction",
          "No Interaction",
          "No Interaction",
          "No Interaction",
          "No Interaction",
          "No Interaction",
          "No Interaction",
          "No Interaction",
          "No Interaction",
          "No Interaction",
          "No Interaction",
          "No Interaction",
          "No Interaction",
          "No Interaction",
          "No Interaction",
          "No Interaction",
          "No Interaction",
          "No Interaction"
         ],
         "type": "scatter",
         "x": [
          -5499.999999999998,
          -6055.016226898708,
          -6595.83843406152,
          -7124.896600954963,
          -7644.058519075693,
          -8154.79106467004,
          -8658.267180146402,
          -9155.439236886858,
          -9647.090773258697,
          -10133.873867003264,
          -10616.336696533137,
          -11094.944238695236,
          -11570.0940627749,
          -12042.12855505467,
          -12511.344501708241,
          -12978.000687364241,
          -13442.323982983866,
          -13904.514269576288,
          -14364.74845480343,
          -14823.183775575339,
          -15279.960533381936
         ],
         "y": [
          9526.279441628827,
          9717.987368380007,
          9904.79254460975,
          10087.534308526561,
          10266.857813223396,
          10443.269731821432,
          10617.175209875732,
          10788.903205593822,
          10958.724360641021,
          11126.863908921883,
          11293.511196516516,
          11458.826830886459,
          11622.94813627511,
          11785.993376187556,
          11948.065063414035,
          12109.252584646723,
          12269.634303291068,
          12429.279260164263,
          12588.248560869084,
          12746.59651654198,
          12904.37158866291
         ]
        },
        {
         "hovertemplate": "<b>X</b>: %{x}<br><b>Y</b>: %{y}<br><b>Last Interaction: %{text}</b>",
         "line": {
          "color": "darkslategrey"
         },
         "marker": {
          "color": [
           "darkslategrey",
           "darkslategrey",
           "darkslategrey",
           "darkslategrey",
           "darkslategrey",
           "darkslategrey",
           "darkslategrey",
           "darkslategrey",
           "darkslategrey",
           "darkslategrey",
           "darkslategrey",
           "darkslategrey",
           "darkslategrey",
           "darkslategrey",
           "darkslategrey",
           "darkslategrey",
           "darkslategrey",
           "darkslategrey",
           "darkslategrey",
           "darkslategrey",
           "darkslategrey"
          ],
          "opacity": [
           0,
           0,
           0,
           0,
           0,
           0,
           0,
           0,
           0,
           0,
           0,
           0,
           0,
           0,
           0,
           0,
           0,
           0,
           0,
           0,
           0
          ]
         },
         "mode": "markers+lines",
         "name": "Packet 7",
         "text": [
          "No Interaction",
          "No Interaction",
          "No Interaction",
          "No Interaction",
          "No Interaction",
          "No Interaction",
          "No Interaction",
          "No Interaction",
          "No Interaction",
          "No Interaction",
          "No Interaction",
          "No Interaction",
          "No Interaction",
          "No Interaction",
          "No Interaction",
          "No Interaction",
          "No Interaction",
          "No Interaction",
          "No Interaction",
          "No Interaction",
          "No Interaction"
         ],
         "type": "scatter",
         "x": [
          -8899.186938124421,
          -9514.658513412485,
          -10109.840013040472,
          -10688.548063030421,
          -11253.62618441743,
          -11807.25173791369,
          -12351.12975103689,
          -12886.620544036363,
          -13414.82672160121,
          -13936.654216638766,
          -14452.856201301898,
          -14964.065357305975,
          -15470.818038531974,
          -15973.572662805529,
          -16472.72391678805,
          -16968.61387101313,
          -17461.54077964482,
          -17951.766121387816,
          -18439.52028754815,
          -18925.007217697163,
          -19408.408208165758
         ],
         "y": [
          6465.637775217206,
          6369.754577151879,
          6277.032333095461,
          6186.876457816872,
          6098.843964342294,
          6012.595645603833,
          5927.865878463466,
          5844.442741102012,
          5762.154460738983,
          5680.859903733321,
          5600.441734764261,
          5520.8013894972955,
          5441.855310336146,
          5363.532081200963,
          5285.770214574121,
          5208.516419908925,
          5131.724232731249,
          5055.352917748938,
          4979.366582719171,
          4903.733456266791,
          4828.425294565926
         ]
        },
        {
         "hovertemplate": "<b>X</b>: %{x}<br><b>Y</b>: %{y}<br><b>Last Interaction: %{text}</b>",
         "line": {
          "color": "darkslategrey"
         },
         "marker": {
          "color": [
           "darkslategrey",
           "darkslategrey",
           "lightslategrey",
           "darkslategrey",
           "darkslategrey"
          ],
          "opacity": [
           0,
           0,
           1,
           0,
           0
          ]
         },
         "mode": "markers+lines",
         "name": "Packet 8",
         "text": [
          "No Interaction",
          "No Interaction",
          "EScattering",
          "No Interaction",
          "No Interaction"
         ],
         "type": "scatter",
         "x": [
          -10759.623608071863,
          -11399.638386043394,
          -11476.437414234091,
          -11414.77521446058,
          -10978.451320022501
         ],
         "y": [
          2287.0285989953572,
          1072.727676274801,
          927.0167739553667,
          897.4445962489485,
          688.1908266579935
         ]
        },
        {
         "hovertemplate": "<b>X</b>: %{x}<br><b>Y</b>: %{y}<br><b>Last Interaction: %{text}</b>",
         "line": {
          "color": "darkslategrey"
         },
         "marker": {
          "color": [
           "darkslategrey",
           "lightslategrey",
           "darkslategrey"
          ],
          "opacity": [
           0,
           1,
           0
          ]
         },
         "mode": "markers+lines",
         "name": "Packet 9",
         "text": [
          "No Interaction",
          "EScattering",
          "No Interaction"
         ],
         "type": "scatter",
         "x": [
          -10759.623608071863,
          -10777.171592012412,
          -10164.098562323836
         ],
         "y": [
          -2287.02859899535,
          -3468.3435480045755,
          -4206.078983491222
         ]
        },
        {
         "hovertemplate": "<b>X</b>: %{x}<br><b>Y</b>: %{y}<br><b>Last Interaction: %{text}</b>",
         "line": {
          "color": "darkslategrey"
         },
         "marker": {
          "color": [
           "darkslategrey",
           "darkslategrey",
           "darkslategrey",
           "darkslategrey",
           "darkslategrey",
           "darkslategrey",
           "darkslategrey",
           "darkslategrey",
           "darkslategrey",
           "darkslategrey",
           "darkslategrey",
           "darkslategrey",
           "darkslategrey",
           "darkslategrey",
           "darkslategrey",
           "darkslategrey",
           "darkslategrey",
           "darkslategrey",
           "darkslategrey",
           "darkslategrey",
           "darkslategrey"
          ],
          "opacity": [
           0,
           0,
           0,
           0,
           0,
           0,
           0,
           0,
           0,
           0,
           0,
           0,
           0,
           0,
           0,
           0,
           0,
           0,
           0,
           0,
           0
          ]
         },
         "mode": "markers+lines",
         "name": "Packet 10",
         "text": [
          "No Interaction",
          "No Interaction",
          "No Interaction",
          "No Interaction",
          "No Interaction",
          "No Interaction",
          "No Interaction",
          "No Interaction",
          "No Interaction",
          "No Interaction",
          "No Interaction",
          "No Interaction",
          "No Interaction",
          "No Interaction",
          "No Interaction",
          "No Interaction",
          "No Interaction",
          "No Interaction",
          "No Interaction",
          "No Interaction",
          "No Interaction"
         ],
         "type": "scatter",
         "x": [
          -8899.186938124425,
          -8042.942960822973,
          -7481.069827093858,
          -7020.211599848982,
          -6614.513044582377,
          -6244.395353364474,
          -5899.402694098291,
          -5573.2030996839685,
          -5261.635185106029,
          -4961.801356435908,
          -4671.595062814704,
          -4389.432690318081,
          -4114.09143772783,
          -3844.6061850768606,
          -3580.2011375974253,
          -3320.2429509875387,
          -3064.2076528494654,
          -2811.656721313267,
          -2562.219415871508,
          -2315.5794829031774,
          -2071.4649885910903
         ],
         "y": [
          -6465.637775217204,
          -8149.452038569724,
          -9254.38243440079,
          -10160.665780023759,
          -10958.476955446391,
          -11686.317926142527,
          -12364.750213929348,
          -13006.225709623564,
          -13618.927827801062,
          -14208.554722394212,
          -14779.248951455054,
          -15334.124711152148,
          -15875.586655050407,
          -16405.532703379944,
          -16925.488466048657,
          -17436.699422379734,
          -17940.195970507648,
          -18436.840469057977,
          -18927.361983777115,
          -19412.38243128231,
          -19892.436572754013
         ]
        },
        {
         "hovertemplate": "<b>X</b>: %{x}<br><b>Y</b>: %{y}<br><b>Last Interaction: %{text}</b>",
         "line": {
          "color": "darkslategrey"
         },
         "marker": {
          "color": [
           "darkslategrey",
           "lightslategrey",
           "darkslategrey",
           "darkslategrey",
           "lightslategrey",
           "darkslategrey",
           "darkslategrey",
           "darkslategrey",
           "darkslategrey",
           "darkslategrey",
           "darkslategrey",
           "darkslategrey",
           "darkslategrey",
           "darkslategrey",
           "darkslategrey",
           "darkslategrey",
           "darkslategrey",
           "darkslategrey",
           "darkslategrey",
           "darkslategrey",
           "darkslategrey",
           "darkslategrey",
           "darkslategrey"
          ],
          "opacity": [
           0,
           1,
           0,
           0,
           1,
           0,
           0,
           0,
           0,
           0,
           0,
           0,
           0,
           0,
           0,
           0,
           0,
           0,
           0,
           0,
           0,
           0,
           0
          ]
         },
         "mode": "markers+lines",
         "name": "Packet 11",
         "text": [
          "No Interaction",
          "EScattering",
          "No Interaction",
          "No Interaction",
          "EScattering",
          "No Interaction",
          "No Interaction",
          "No Interaction",
          "No Interaction",
          "No Interaction",
          "No Interaction",
          "No Interaction",
          "No Interaction",
          "No Interaction",
          "No Interaction",
          "No Interaction",
          "No Interaction",
          "No Interaction",
          "No Interaction",
          "No Interaction",
          "No Interaction",
          "No Interaction",
          "No Interaction"
         ],
         "type": "scatter",
         "x": [
          -5500.0000000000055,
          -5233.732812693384,
          -5111.966885911377,
          -4833.588103816399,
          -4832.097405542915,
          -4667.323625598251,
          -4505.469543872766,
          -4346.8464757319525,
          -4190.975757452136,
          -4037.4749923480754,
          -3886.0338835395105,
          -3736.3972386165224,
          -3588.352721641823,
          -3441.7218376687833,
          -3296.3531729232336,
          -3152.117243139755,
          -3008.902510352116,
          -2866.612263097103,
          -2725.162144335188,
          -2584.478171933214,
          -2444.495138365256,
          -2305.155305662427,
          -2166.4073326046214
         ],
         "y": [
          -9526.279441628823,
          -9970.537636788678,
          -10245.501186244896,
          -10874.117253489801,
          -10877.483447130979,
          -11434.097698285268,
          -11980.84905961322,
          -12516.685891897136,
          -13043.225145662733,
          -13561.758576459173,
          -14073.334383008985,
          -14578.814618317187,
          -15078.916564033567,
          -15574.243185211726,
          -16065.305965320387,
          -16552.542308826796,
          -17036.328996682267,
          -17516.992725152948,
          -17994.818456630295,
          -18470.056106541764,
          -18942.925949243127,
          -19413.623026544436,
          -19882.320771711664
         ]
        },
        {
         "hovertemplate": "<b>X</b>: %{x}<br><b>Y</b>: %{y}<br><b>Last Interaction: %{text}</b>",
         "line": {
          "color": "darkslategrey"
         },
         "marker": {
          "color": [
           "darkslategrey",
           "lightslategrey",
           "darkslategrey",
           "darkslategrey",
           "darkslategrey",
           "darkslategrey",
           "darkslategrey",
           "darkslategrey",
           "darkslategrey",
           "lightslategrey",
           "darkslategrey",
           "darkslategrey",
           "darkslategrey",
           "darkslategrey",
           "darkslategrey",
           "darkslategrey",
           "darkslategrey",
           "darkslategrey",
           "darkslategrey",
           "darkslategrey",
           "darkslategrey",
           "darkslategrey",
           "darkslategrey"
          ],
          "opacity": [
           0,
           1,
           0,
           0,
           0,
           0,
           0,
           0,
           0,
           1,
           0,
           0,
           0,
           0,
           0,
           0,
           0,
           0,
           0,
           0,
           0,
           0,
           0
          ]
         },
         "mode": "markers+lines",
         "name": "Packet 12",
         "text": [
          "No Interaction",
          "EScattering",
          "No Interaction",
          "No Interaction",
          "No Interaction",
          "No Interaction",
          "No Interaction",
          "No Interaction",
          "No Interaction",
          "EScattering",
          "No Interaction",
          "No Interaction",
          "No Interaction",
          "No Interaction",
          "No Interaction",
          "No Interaction",
          "No Interaction",
          "No Interaction",
          "No Interaction",
          "No Interaction",
          "No Interaction",
          "No Interaction",
          "No Interaction"
         ],
         "type": "scatter",
         "x": [
          -1149.8130959441967,
          -935.0592171481933,
          -678.4122426670867,
          -265.7940221406555,
          133.66208078855928,
          522.3555768282139,
          902.0913262261415,
          1274.2623025529151,
          1639.9665925291447,
          1920.0702204740528,
          5697.027196510403,
          7645.744800795567,
          8977.163151994524,
          10074.183187677017,
          11039.052843483218,
          11917.035478864187,
          12732.799921586164,
          13501.496153500973,
          14233.188642512865,
          14934.947857588986,
          15611.953620698112,
          16268.126649159743,
          16906.5133471033
         ],
         "y": [
          -10939.740849051006,
          -11139.320758173742,
          -11429.884375136937,
          -11897.031290947936,
          -12349.276677124022,
          -12789.337146676386,
          -13219.256077372416,
          -13640.610528282543,
          -14054.6437014742,
          -14371.763836728996,
          -13442.614370806776,
          -12963.220527365396,
          -12635.685250213852,
          -12365.813078852752,
          -12128.450532478793,
          -11912.462608356527,
          -11711.780656964826,
          -11522.67771036743,
          -11342.677861362494,
          -11170.041740794808,
          -11003.495087706044,
          -10842.07338689877,
          -10685.027208398586
         ]
        },
        {
         "hovertemplate": "<b>X</b>: %{x}<br><b>Y</b>: %{y}<br><b>Last Interaction: %{text}</b>",
         "line": {
          "color": "darkslategrey"
         },
         "marker": {
          "color": [
           "darkslategrey",
           "lightslategrey",
           "lightsteelblue",
           "darkslategrey"
          ],
          "opacity": [
           0,
           1,
           1,
           0
          ]
         },
         "mode": "markers+lines",
         "name": "Packet 13",
         "text": [
          "No Interaction",
          "EScattering",
          "Line",
          "No Interaction"
         ],
         "type": "scatter",
         "x": [
          3399.18693812442,
          3739.537860972324,
          3932.1690575986004,
          3940.496265386996
         ],
         "y": [
          -10461.621679246691,
          -10528.045410661114,
          -10630.301148629176,
          -10269.979999127125
         ]
        },
        {
         "hovertemplate": "<b>X</b>: %{x}<br><b>Y</b>: %{y}<br><b>Last Interaction: %{text}</b>",
         "line": {
          "color": "darkslategrey"
         },
         "marker": {
          "color": [
           "darkslategrey",
           "darkslategrey",
           "darkslategrey",
           "darkslategrey",
           "darkslategrey",
           "darkslategrey",
           "darkslategrey",
           "darkslategrey",
           "darkslategrey",
           "darkslategrey",
           "darkslategrey",
           "darkslategrey",
           "darkslategrey",
           "darkslategrey",
           "darkslategrey",
           "darkslategrey",
           "darkslategrey",
           "darkslategrey",
           "darkslategrey",
           "darkslategrey",
           "darkslategrey"
          ],
          "opacity": [
           0,
           0,
           0,
           0,
           0,
           0,
           0,
           0,
           0,
           0,
           0,
           0,
           0,
           0,
           0,
           0,
           0,
           0,
           0,
           0,
           0
          ]
         },
         "mode": "markers+lines",
         "name": "Packet 14",
         "text": [
          "No Interaction",
          "No Interaction",
          "No Interaction",
          "No Interaction",
          "No Interaction",
          "No Interaction",
          "No Interaction",
          "No Interaction",
          "No Interaction",
          "No Interaction",
          "No Interaction",
          "No Interaction",
          "No Interaction",
          "No Interaction",
          "No Interaction",
          "No Interaction",
          "No Interaction",
          "No Interaction",
          "No Interaction",
          "No Interaction",
          "No Interaction"
         ],
         "type": "scatter",
         "x": [
          7360.436669947436,
          8422.314885273028,
          9314.976006873127,
          10110.326368055641,
          10841.288594986992,
          11526.093978089151,
          12176.033791589274,
          12798.642624753986,
          13399.224713496862,
          13981.668063110388,
          14548.914100721538,
          15103.24546020259,
          15646.470994512278,
          16180.049464186395,
          16705.17496447397,
          17222.837573098856,
          17733.867433683063,
          18238.967460597793,
          18738.738040147666,
          19233.69598369642,
          19724.289275980987
         ],
         "y": [
          -8174.593080251341,
          -7756.746223340581,
          -7405.485938908938,
          -7092.517235185181,
          -6804.8851276274345,
          -6535.415641583708,
          -6279.665684260286,
          -6034.670410538629,
          -5798.342614680081,
          -5569.152374733432,
          -5345.942245275954,
          -5127.814014652826,
          -4914.055903007816,
          -4704.093891120963,
          -4497.458105009111,
          -4293.758951158581,
          -4092.669769790272,
          -3893.9139655692143,
          -3697.2552877401868,
          -3502.4903721124206,
          -3309.442937628846
         ]
        },
        {
         "hovertemplate": "<b>X</b>: %{x}<br><b>Y</b>: %{y}<br><b>Last Interaction: %{text}</b>",
         "line": {
          "color": "darkslategrey"
         },
         "marker": {
          "color": [
           "darkslategrey",
           "darkslategrey",
           "darkslategrey",
           "darkslategrey",
           "darkslategrey",
           "darkslategrey",
           "darkslategrey",
           "darkslategrey",
           "darkslategrey",
           "darkslategrey",
           "darkslategrey",
           "darkslategrey",
           "darkslategrey",
           "darkslategrey",
           "darkslategrey",
           "darkslategrey",
           "darkslategrey",
           "darkslategrey",
           "darkslategrey",
           "darkslategrey",
           "darkslategrey"
          ],
          "opacity": [
           0,
           0,
           0,
           0,
           0,
           0,
           0,
           0,
           0,
           0,
           0,
           0,
           0,
           0,
           0,
           0,
           0,
           0,
           0,
           0,
           0
          ]
         },
         "mode": "markers+lines",
         "name": "Packet 15",
         "text": [
          "No Interaction",
          "No Interaction",
          "No Interaction",
          "No Interaction",
          "No Interaction",
          "No Interaction",
          "No Interaction",
          "No Interaction",
          "No Interaction",
          "No Interaction",
          "No Interaction",
          "No Interaction",
          "No Interaction",
          "No Interaction",
          "No Interaction",
          "No Interaction",
          "No Interaction",
          "No Interaction",
          "No Interaction",
          "No Interaction",
          "No Interaction"
         ],
         "type": "scatter",
         "x": [
          10049.000034068606,
          10744.364330496763,
          11377.70264808734,
          11967.89536642935,
          12526.170019386776,
          13059.80993560699,
          13573.836014447492,
          14071.869001349025,
          14556.612362452566,
          15030.141370765661,
          15494.085498980043,
          15949.74847874404,
          16398.190143361386,
          16840.283883246993,
          17276.758004475192,
          17708.22615089492,
          18135.210107578972,
          18558.1571794062,
          18977.45363154561,
          19393.43522163772,
          19806.39555092943
         ],
         "y": [
          -4474.10307383381,
          -3957.415208636682,
          -3486.815517303191,
          -3048.275003702735,
          -2633.4510903785485,
          -2236.931926952828,
          -1854.9867527527751,
          -1484.925186287968,
          -1124.7384270545692,
          -772.8844511300397,
          -428.152484865503,
          -89.57379528801346,
          243.6391228137236,
          572.1352389529086,
          896.4557182608236,
          1217.0565265267996,
          1534.3253742167715,
          1848.5946295643726,
          2160.151305472928,
          2469.2448854137224,
          2776.093528705958
         ]
        }
       ],
       "layout": {
        "height": 900,
        "paper_bgcolor": "#fafafa",
        "plot_bgcolor": "#fafafa",
        "shapes": [
         {
          "fillcolor": "darkgrey",
          "line": {
           "color": "black"
          },
          "opacity": 1,
          "type": "circle",
          "x0": -11000.000000000002,
          "x1": 11000.000000000002,
          "xref": "x",
          "y0": -11000.000000000002,
          "y1": 11000.000000000002,
          "yref": "y"
         },
         {
          "line": {
           "color": "black"
          },
          "opacity": 0.2,
          "type": "circle",
          "x0": -11450.000000000002,
          "x1": 11450.000000000002,
          "xref": "x",
          "y0": -11450.000000000002,
          "y1": 11450.000000000002,
          "yref": "y"
         },
         {
          "line": {
           "color": "black"
          },
          "opacity": 0.2,
          "type": "circle",
          "x0": -11900.000000000002,
          "x1": 11900.000000000002,
          "xref": "x",
          "y0": -11900.000000000002,
          "y1": 11900.000000000002,
          "yref": "y"
         },
         {
          "line": {
           "color": "black"
          },
          "opacity": 0.2,
          "type": "circle",
          "x0": -12350.000000000002,
          "x1": 12350.000000000002,
          "xref": "x",
          "y0": -12350.000000000002,
          "y1": 12350.000000000002,
          "yref": "y"
         },
         {
          "line": {
           "color": "black"
          },
          "opacity": 0.2,
          "type": "circle",
          "x0": -12800.000000000002,
          "x1": 12800.000000000002,
          "xref": "x",
          "y0": -12800.000000000002,
          "y1": 12800.000000000002,
          "yref": "y"
         },
         {
          "line": {
           "color": "black"
          },
          "opacity": 0.2,
          "type": "circle",
          "x0": -13250.000000000002,
          "x1": 13250.000000000002,
          "xref": "x",
          "y0": -13250.000000000002,
          "y1": 13250.000000000002,
          "yref": "y"
         },
         {
          "line": {
           "color": "black"
          },
          "opacity": 0.2,
          "type": "circle",
          "x0": -13700.000000000002,
          "x1": 13700.000000000002,
          "xref": "x",
          "y0": -13700.000000000002,
          "y1": 13700.000000000002,
          "yref": "y"
         },
         {
          "line": {
           "color": "black"
          },
          "opacity": 0.2,
          "type": "circle",
          "x0": -14150.000000000002,
          "x1": 14150.000000000002,
          "xref": "x",
          "y0": -14150.000000000002,
          "y1": 14150.000000000002,
          "yref": "y"
         },
         {
          "line": {
           "color": "black"
          },
          "opacity": 0.2,
          "type": "circle",
          "x0": -14600.000000000002,
          "x1": 14600.000000000002,
          "xref": "x",
          "y0": -14600.000000000002,
          "y1": 14600.000000000002,
          "yref": "y"
         },
         {
          "line": {
           "color": "black"
          },
          "opacity": 0.2,
          "type": "circle",
          "x0": -15050.000000000002,
          "x1": 15050.000000000002,
          "xref": "x",
          "y0": -15050.000000000002,
          "y1": 15050.000000000002,
          "yref": "y"
         },
         {
          "line": {
           "color": "black"
          },
          "opacity": 0.2,
          "type": "circle",
          "x0": -15500,
          "x1": 15500,
          "xref": "x",
          "y0": -15500,
          "y1": 15500,
          "yref": "y"
         },
         {
          "line": {
           "color": "black"
          },
          "opacity": 0.2,
          "type": "circle",
          "x0": -15950,
          "x1": 15950,
          "xref": "x",
          "y0": -15950,
          "y1": 15950,
          "yref": "y"
         },
         {
          "line": {
           "color": "black"
          },
          "opacity": 0.2,
          "type": "circle",
          "x0": -16400,
          "x1": 16400,
          "xref": "x",
          "y0": -16400,
          "y1": 16400,
          "yref": "y"
         },
         {
          "line": {
           "color": "black"
          },
          "opacity": 0.2,
          "type": "circle",
          "x0": -16850,
          "x1": 16850,
          "xref": "x",
          "y0": -16850,
          "y1": 16850,
          "yref": "y"
         },
         {
          "line": {
           "color": "black"
          },
          "opacity": 0.2,
          "type": "circle",
          "x0": -17300,
          "x1": 17300,
          "xref": "x",
          "y0": -17300,
          "y1": 17300,
          "yref": "y"
         },
         {
          "line": {
           "color": "black"
          },
          "opacity": 0.2,
          "type": "circle",
          "x0": -17750,
          "x1": 17750,
          "xref": "x",
          "y0": -17750,
          "y1": 17750,
          "yref": "y"
         },
         {
          "line": {
           "color": "black"
          },
          "opacity": 0.2,
          "type": "circle",
          "x0": -18200,
          "x1": 18200,
          "xref": "x",
          "y0": -18200,
          "y1": 18200,
          "yref": "y"
         },
         {
          "line": {
           "color": "black"
          },
          "opacity": 0.2,
          "type": "circle",
          "x0": -18650,
          "x1": 18650,
          "xref": "x",
          "y0": -18650,
          "y1": 18650,
          "yref": "y"
         },
         {
          "line": {
           "color": "black"
          },
          "opacity": 0.2,
          "type": "circle",
          "x0": -19100,
          "x1": 19100,
          "xref": "x",
          "y0": -19100,
          "y1": 19100,
          "yref": "y"
         },
         {
          "line": {
           "color": "black"
          },
          "opacity": 0.2,
          "type": "circle",
          "x0": -19550,
          "x1": 19550,
          "xref": "x",
          "y0": -19550,
          "y1": 19550,
          "yref": "y"
         },
         {
          "line": {
           "color": "black"
          },
          "opacity": 1,
          "type": "circle",
          "x0": -20000,
          "x1": 20000,
          "xref": "x",
          "y0": -20000,
          "y1": 20000,
          "yref": "y"
         }
        ],
        "template": {
         "data": {
          "bar": [
           {
            "error_x": {
             "color": "#2a3f5f"
            },
            "error_y": {
             "color": "#2a3f5f"
            },
            "marker": {
             "line": {
              "color": "#E5ECF6",
              "width": 0.5
             },
             "pattern": {
              "fillmode": "overlay",
              "size": 10,
              "solidity": 0.2
             }
            },
            "type": "bar"
           }
          ],
          "barpolar": [
           {
            "marker": {
             "line": {
              "color": "#E5ECF6",
              "width": 0.5
             },
             "pattern": {
              "fillmode": "overlay",
              "size": 10,
              "solidity": 0.2
             }
            },
            "type": "barpolar"
           }
          ],
          "carpet": [
           {
            "aaxis": {
             "endlinecolor": "#2a3f5f",
             "gridcolor": "white",
             "linecolor": "white",
             "minorgridcolor": "white",
             "startlinecolor": "#2a3f5f"
            },
            "baxis": {
             "endlinecolor": "#2a3f5f",
             "gridcolor": "white",
             "linecolor": "white",
             "minorgridcolor": "white",
             "startlinecolor": "#2a3f5f"
            },
            "type": "carpet"
           }
          ],
          "choropleth": [
           {
            "colorbar": {
             "outlinewidth": 0,
             "ticks": ""
            },
            "type": "choropleth"
           }
          ],
          "contour": [
           {
            "colorbar": {
             "outlinewidth": 0,
             "ticks": ""
            },
            "colorscale": [
             [
              0,
              "#0d0887"
             ],
             [
              0.1111111111111111,
              "#46039f"
             ],
             [
              0.2222222222222222,
              "#7201a8"
             ],
             [
              0.3333333333333333,
              "#9c179e"
             ],
             [
              0.4444444444444444,
              "#bd3786"
             ],
             [
              0.5555555555555556,
              "#d8576b"
             ],
             [
              0.6666666666666666,
              "#ed7953"
             ],
             [
              0.7777777777777778,
              "#fb9f3a"
             ],
             [
              0.8888888888888888,
              "#fdca26"
             ],
             [
              1,
              "#f0f921"
             ]
            ],
            "type": "contour"
           }
          ],
          "contourcarpet": [
           {
            "colorbar": {
             "outlinewidth": 0,
             "ticks": ""
            },
            "type": "contourcarpet"
           }
          ],
          "heatmap": [
           {
            "colorbar": {
             "outlinewidth": 0,
             "ticks": ""
            },
            "colorscale": [
             [
              0,
              "#0d0887"
             ],
             [
              0.1111111111111111,
              "#46039f"
             ],
             [
              0.2222222222222222,
              "#7201a8"
             ],
             [
              0.3333333333333333,
              "#9c179e"
             ],
             [
              0.4444444444444444,
              "#bd3786"
             ],
             [
              0.5555555555555556,
              "#d8576b"
             ],
             [
              0.6666666666666666,
              "#ed7953"
             ],
             [
              0.7777777777777778,
              "#fb9f3a"
             ],
             [
              0.8888888888888888,
              "#fdca26"
             ],
             [
              1,
              "#f0f921"
             ]
            ],
            "type": "heatmap"
           }
          ],
          "heatmapgl": [
           {
            "colorbar": {
             "outlinewidth": 0,
             "ticks": ""
            },
            "colorscale": [
             [
              0,
              "#0d0887"
             ],
             [
              0.1111111111111111,
              "#46039f"
             ],
             [
              0.2222222222222222,
              "#7201a8"
             ],
             [
              0.3333333333333333,
              "#9c179e"
             ],
             [
              0.4444444444444444,
              "#bd3786"
             ],
             [
              0.5555555555555556,
              "#d8576b"
             ],
             [
              0.6666666666666666,
              "#ed7953"
             ],
             [
              0.7777777777777778,
              "#fb9f3a"
             ],
             [
              0.8888888888888888,
              "#fdca26"
             ],
             [
              1,
              "#f0f921"
             ]
            ],
            "type": "heatmapgl"
           }
          ],
          "histogram": [
           {
            "marker": {
             "pattern": {
              "fillmode": "overlay",
              "size": 10,
              "solidity": 0.2
             }
            },
            "type": "histogram"
           }
          ],
          "histogram2d": [
           {
            "colorbar": {
             "outlinewidth": 0,
             "ticks": ""
            },
            "colorscale": [
             [
              0,
              "#0d0887"
             ],
             [
              0.1111111111111111,
              "#46039f"
             ],
             [
              0.2222222222222222,
              "#7201a8"
             ],
             [
              0.3333333333333333,
              "#9c179e"
             ],
             [
              0.4444444444444444,
              "#bd3786"
             ],
             [
              0.5555555555555556,
              "#d8576b"
             ],
             [
              0.6666666666666666,
              "#ed7953"
             ],
             [
              0.7777777777777778,
              "#fb9f3a"
             ],
             [
              0.8888888888888888,
              "#fdca26"
             ],
             [
              1,
              "#f0f921"
             ]
            ],
            "type": "histogram2d"
           }
          ],
          "histogram2dcontour": [
           {
            "colorbar": {
             "outlinewidth": 0,
             "ticks": ""
            },
            "colorscale": [
             [
              0,
              "#0d0887"
             ],
             [
              0.1111111111111111,
              "#46039f"
             ],
             [
              0.2222222222222222,
              "#7201a8"
             ],
             [
              0.3333333333333333,
              "#9c179e"
             ],
             [
              0.4444444444444444,
              "#bd3786"
             ],
             [
              0.5555555555555556,
              "#d8576b"
             ],
             [
              0.6666666666666666,
              "#ed7953"
             ],
             [
              0.7777777777777778,
              "#fb9f3a"
             ],
             [
              0.8888888888888888,
              "#fdca26"
             ],
             [
              1,
              "#f0f921"
             ]
            ],
            "type": "histogram2dcontour"
           }
          ],
          "mesh3d": [
           {
            "colorbar": {
             "outlinewidth": 0,
             "ticks": ""
            },
            "type": "mesh3d"
           }
          ],
          "parcoords": [
           {
            "line": {
             "colorbar": {
              "outlinewidth": 0,
              "ticks": ""
             }
            },
            "type": "parcoords"
           }
          ],
          "pie": [
           {
            "automargin": true,
            "type": "pie"
           }
          ],
          "scatter": [
           {
            "fillpattern": {
             "fillmode": "overlay",
             "size": 10,
             "solidity": 0.2
            },
            "type": "scatter"
           }
          ],
          "scatter3d": [
           {
            "line": {
             "colorbar": {
              "outlinewidth": 0,
              "ticks": ""
             }
            },
            "marker": {
             "colorbar": {
              "outlinewidth": 0,
              "ticks": ""
             }
            },
            "type": "scatter3d"
           }
          ],
          "scattercarpet": [
           {
            "marker": {
             "colorbar": {
              "outlinewidth": 0,
              "ticks": ""
             }
            },
            "type": "scattercarpet"
           }
          ],
          "scattergeo": [
           {
            "marker": {
             "colorbar": {
              "outlinewidth": 0,
              "ticks": ""
             }
            },
            "type": "scattergeo"
           }
          ],
          "scattergl": [
           {
            "marker": {
             "colorbar": {
              "outlinewidth": 0,
              "ticks": ""
             }
            },
            "type": "scattergl"
           }
          ],
          "scattermapbox": [
           {
            "marker": {
             "colorbar": {
              "outlinewidth": 0,
              "ticks": ""
             }
            },
            "type": "scattermapbox"
           }
          ],
          "scatterpolar": [
           {
            "marker": {
             "colorbar": {
              "outlinewidth": 0,
              "ticks": ""
             }
            },
            "type": "scatterpolar"
           }
          ],
          "scatterpolargl": [
           {
            "marker": {
             "colorbar": {
              "outlinewidth": 0,
              "ticks": ""
             }
            },
            "type": "scatterpolargl"
           }
          ],
          "scatterternary": [
           {
            "marker": {
             "colorbar": {
              "outlinewidth": 0,
              "ticks": ""
             }
            },
            "type": "scatterternary"
           }
          ],
          "surface": [
           {
            "colorbar": {
             "outlinewidth": 0,
             "ticks": ""
            },
            "colorscale": [
             [
              0,
              "#0d0887"
             ],
             [
              0.1111111111111111,
              "#46039f"
             ],
             [
              0.2222222222222222,
              "#7201a8"
             ],
             [
              0.3333333333333333,
              "#9c179e"
             ],
             [
              0.4444444444444444,
              "#bd3786"
             ],
             [
              0.5555555555555556,
              "#d8576b"
             ],
             [
              0.6666666666666666,
              "#ed7953"
             ],
             [
              0.7777777777777778,
              "#fb9f3a"
             ],
             [
              0.8888888888888888,
              "#fdca26"
             ],
             [
              1,
              "#f0f921"
             ]
            ],
            "type": "surface"
           }
          ],
          "table": [
           {
            "cells": {
             "fill": {
              "color": "#EBF0F8"
             },
             "line": {
              "color": "white"
             }
            },
            "header": {
             "fill": {
              "color": "#C8D4E3"
             },
             "line": {
              "color": "white"
             }
            },
            "type": "table"
           }
          ]
         },
         "layout": {
          "annotationdefaults": {
           "arrowcolor": "#2a3f5f",
           "arrowhead": 0,
           "arrowwidth": 1
          },
          "autotypenumbers": "strict",
          "coloraxis": {
           "colorbar": {
            "outlinewidth": 0,
            "ticks": ""
           }
          },
          "colorscale": {
           "diverging": [
            [
             0,
             "#8e0152"
            ],
            [
             0.1,
             "#c51b7d"
            ],
            [
             0.2,
             "#de77ae"
            ],
            [
             0.3,
             "#f1b6da"
            ],
            [
             0.4,
             "#fde0ef"
            ],
            [
             0.5,
             "#f7f7f7"
            ],
            [
             0.6,
             "#e6f5d0"
            ],
            [
             0.7,
             "#b8e186"
            ],
            [
             0.8,
             "#7fbc41"
            ],
            [
             0.9,
             "#4d9221"
            ],
            [
             1,
             "#276419"
            ]
           ],
           "sequential": [
            [
             0,
             "#0d0887"
            ],
            [
             0.1111111111111111,
             "#46039f"
            ],
            [
             0.2222222222222222,
             "#7201a8"
            ],
            [
             0.3333333333333333,
             "#9c179e"
            ],
            [
             0.4444444444444444,
             "#bd3786"
            ],
            [
             0.5555555555555556,
             "#d8576b"
            ],
            [
             0.6666666666666666,
             "#ed7953"
            ],
            [
             0.7777777777777778,
             "#fb9f3a"
            ],
            [
             0.8888888888888888,
             "#fdca26"
            ],
            [
             1,
             "#f0f921"
            ]
           ],
           "sequentialminus": [
            [
             0,
             "#0d0887"
            ],
            [
             0.1111111111111111,
             "#46039f"
            ],
            [
             0.2222222222222222,
             "#7201a8"
            ],
            [
             0.3333333333333333,
             "#9c179e"
            ],
            [
             0.4444444444444444,
             "#bd3786"
            ],
            [
             0.5555555555555556,
             "#d8576b"
            ],
            [
             0.6666666666666666,
             "#ed7953"
            ],
            [
             0.7777777777777778,
             "#fb9f3a"
            ],
            [
             0.8888888888888888,
             "#fdca26"
            ],
            [
             1,
             "#f0f921"
            ]
           ]
          },
          "colorway": [
           "#636efa",
           "#EF553B",
           "#00cc96",
           "#ab63fa",
           "#FFA15A",
           "#19d3f3",
           "#FF6692",
           "#B6E880",
           "#FF97FF",
           "#FECB52"
          ],
          "font": {
           "color": "#2a3f5f"
          },
          "geo": {
           "bgcolor": "white",
           "lakecolor": "white",
           "landcolor": "#E5ECF6",
           "showlakes": true,
           "showland": true,
           "subunitcolor": "white"
          },
          "hoverlabel": {
           "align": "left"
          },
          "hovermode": "closest",
          "mapbox": {
           "style": "light"
          },
          "paper_bgcolor": "white",
          "plot_bgcolor": "#E5ECF6",
          "polar": {
           "angularaxis": {
            "gridcolor": "white",
            "linecolor": "white",
            "ticks": ""
           },
           "bgcolor": "#E5ECF6",
           "radialaxis": {
            "gridcolor": "white",
            "linecolor": "white",
            "ticks": ""
           }
          },
          "scene": {
           "xaxis": {
            "backgroundcolor": "#E5ECF6",
            "gridcolor": "white",
            "gridwidth": 2,
            "linecolor": "white",
            "showbackground": true,
            "ticks": "",
            "zerolinecolor": "white"
           },
           "yaxis": {
            "backgroundcolor": "#E5ECF6",
            "gridcolor": "white",
            "gridwidth": 2,
            "linecolor": "white",
            "showbackground": true,
            "ticks": "",
            "zerolinecolor": "white"
           },
           "zaxis": {
            "backgroundcolor": "#E5ECF6",
            "gridcolor": "white",
            "gridwidth": 2,
            "linecolor": "white",
            "showbackground": true,
            "ticks": "",
            "zerolinecolor": "white"
           }
          },
          "shapedefaults": {
           "line": {
            "color": "#2a3f5f"
           }
          },
          "ternary": {
           "aaxis": {
            "gridcolor": "white",
            "linecolor": "white",
            "ticks": ""
           },
           "baxis": {
            "gridcolor": "white",
            "linecolor": "white",
            "ticks": ""
           },
           "bgcolor": "#E5ECF6",
           "caxis": {
            "gridcolor": "white",
            "linecolor": "white",
            "ticks": ""
           }
          },
          "title": {
           "x": 0.05
          },
          "xaxis": {
           "automargin": true,
           "gridcolor": "white",
           "linecolor": "white",
           "ticks": "",
           "title": {
            "standoff": 15
           },
           "zerolinecolor": "white",
           "zerolinewidth": 2
          },
          "yaxis": {
           "automargin": true,
           "gridcolor": "white",
           "linecolor": "white",
           "ticks": "",
           "title": {
            "standoff": 15
           },
           "zerolinecolor": "white",
           "zerolinewidth": 2
          }
         }
        },
        "width": 900,
        "xaxis": {
         "exponentformat": "e",
         "gridcolor": "#fafafa",
         "linecolor": "#555",
         "range": [
          -22000,
          22000
         ],
         "rangebreaks": [
          {
           "values": [
            -30000,
            -10000,
            10000,
            30000
           ]
          }
         ],
         "zerolinecolor": "#fafafa"
        },
        "yaxis": {
         "exponentformat": "e",
         "gridcolor": "#fafafa",
         "linecolor": "#555",
         "range": [
          -22000,
          22000
         ],
         "rangebreaks": [
          {
           "values": [
            -30000,
            -10000,
            10000,
            30000
           ]
          }
         ],
         "zerolinecolor": "#fafafa"
        }
       }
      },
      "text/html": [
       "<div>                            <div id=\"042ff1b4-5bc4-42fb-86c3-f0676ec8e24e\" class=\"plotly-graph-div\" style=\"height:900px; width:900px;\"></div>            <script type=\"text/javascript\">                require([\"plotly\"], function(Plotly) {                    window.PLOTLYENV=window.PLOTLYENV || {};                                    if (document.getElementById(\"042ff1b4-5bc4-42fb-86c3-f0676ec8e24e\")) {                    Plotly.newPlot(                        \"042ff1b4-5bc4-42fb-86c3-f0676ec8e24e\",                        [{\"hovertemplate\":\"<b>X</b>: %{x}<br><b>Y</b>: %{y}<br><b>Last Interaction: %{text}</b>\",\"line\":{\"color\":\"darkslategrey\"},\"marker\":{\"color\":[\"darkslategrey\",\"lightsteelblue\",\"darkslategrey\"],\"opacity\":[0,1,0]},\"mode\":\"markers+lines\",\"name\":\"Packet 1\",\"text\":[\"No Interaction\",\"Line\",\"No Interaction\"],\"x\":[11000.000000000002,11019.222229272988,10999.558629714684],\"y\":[0.0,34.31062397360896,98.53908599766955],\"type\":\"scatter\"},{\"hovertemplate\":\"<b>X</b>: %{x}<br><b>Y</b>: %{y}<br><b>Last Interaction: %{text}</b>\",\"line\":{\"color\":\"darkslategrey\"},\"marker\":{\"color\":[\"darkslategrey\",\"darkslategrey\",\"darkslategrey\",\"darkslategrey\",\"darkslategrey\",\"darkslategrey\",\"darkslategrey\",\"darkslategrey\",\"darkslategrey\",\"darkslategrey\",\"darkslategrey\",\"darkslategrey\",\"darkslategrey\",\"darkslategrey\",\"darkslategrey\",\"darkslategrey\",\"darkslategrey\",\"darkslategrey\",\"darkslategrey\",\"darkslategrey\",\"darkslategrey\"],\"opacity\":[0,0,0,0,0,0,0,0,0,0,0,0,0,0,0,0,0,0,0,0,0]},\"mode\":\"markers+lines\",\"name\":\"Packet 2\",\"text\":[\"No Interaction\",\"No Interaction\",\"No Interaction\",\"No Interaction\",\"No Interaction\",\"No Interaction\",\"No Interaction\",\"No Interaction\",\"No Interaction\",\"No Interaction\",\"No Interaction\",\"No Interaction\",\"No Interaction\",\"No Interaction\",\"No Interaction\",\"No Interaction\",\"No Interaction\",\"No Interaction\",\"No Interaction\",\"No Interaction\",\"No Interaction\"],\"x\":[10049.000034068611,10396.157182121833,10741.830371401478,11086.197741866614,11429.409489261989,11771.59322590533,12112.85813592888,12453.298233567722,12792.994945090359,13132.019174468003,13470.432970581813,13808.290883740909,14145.641077669428,14482.52624736063,14818.984381568767,15155.049400036563,15490.751689021818,15826.118553716631,16161.17460233942,16495.94207372999,16830.4411179782],\"y\":[4474.103073833802,4798.167967528508,5120.8476126552305,5442.30829963092,5762.6902334559,6082.112537911461,6400.677134402387,6718.471783509925,7035.572495177102,7352.045456973505,7667.948590402952,7983.332817188431,8298.24309729182,8612.719285714034,8926.79684426732,9240.507436415573,9553.879427178665,9866.938305457586,10179.707042577373,10492.206398091143,10804.455181741872],\"type\":\"scatter\"},{\"hovertemplate\":\"<b>X</b>: %{x}<br><b>Y</b>: %{y}<br><b>Last Interaction: %{text}</b>\",\"line\":{\"color\":\"darkslategrey\"},\"marker\":{\"color\":[\"darkslategrey\",\"darkslategrey\",\"darkslategrey\",\"darkslategrey\",\"darkslategrey\",\"darkslategrey\",\"darkslategrey\",\"darkslategrey\",\"darkslategrey\",\"darkslategrey\",\"darkslategrey\",\"darkslategrey\",\"darkslategrey\",\"darkslategrey\",\"darkslategrey\",\"darkslategrey\",\"darkslategrey\",\"darkslategrey\",\"darkslategrey\",\"darkslategrey\",\"darkslategrey\"],\"opacity\":[0,0,0,0,0,0,0,0,0,0,0,0,0,0,0,0,0,0,0,0,0]},\"mode\":\"markers+lines\",\"name\":\"Packet 3\",\"text\":[\"No Interaction\",\"No Interaction\",\"No Interaction\",\"No Interaction\",\"No Interaction\",\"No Interaction\",\"No Interaction\",\"No Interaction\",\"No Interaction\",\"No Interaction\",\"No Interaction\",\"No Interaction\",\"No Interaction\",\"No Interaction\",\"No Interaction\",\"No Interaction\",\"No Interaction\",\"No Interaction\",\"No Interaction\",\"No Interaction\",\"No Interaction\"],\"x\":[7360.436669947441,7078.629399115468,6822.351668009888,6583.765175959501,6358.233689620027,6142.760485716158,5935.285061386966,5734.324416124135,5538.77294016058,5347.782966884959,5160.6895876101735,4976.96125641485,4796.166172014215,4617.94870893319,4442.012471399639,4268.10784074917,4096.022649499305,3925.575079489213,3756.608173085617,3588.9855346870413,3422.5879242349174],\"y\":[8174.593080251336,8999.750320424353,9750.154753541236,10448.75763465796,11109.134275369117,11740.059353134642,12347.566207155027,12935.99719738075,13508.589649454341,14067.825608070892,14615.65198615279,15153.625198352556,15683.009597982988,16204.846488679315,16720.003744136244,17229.212270435797,17733.09331320367,18232.179252500053,18726.929674506348,19217.743957910545,19704.9712484155],\"type\":\"scatter\"},{\"hovertemplate\":\"<b>X</b>: %{x}<br><b>Y</b>: %{y}<br><b>Last Interaction: %{text}</b>\",\"line\":{\"color\":\"darkslategrey\"},\"marker\":{\"color\":[\"darkslategrey\",\"darkslategrey\",\"darkslategrey\",\"lightsteelblue\",\"darkslategrey\",\"lightsteelblue\",\"darkslategrey\",\"darkslategrey\",\"darkslategrey\",\"darkslategrey\",\"darkslategrey\",\"darkslategrey\",\"darkslategrey\",\"darkslategrey\",\"darkslategrey\",\"darkslategrey\",\"darkslategrey\",\"darkslategrey\",\"darkslategrey\",\"darkslategrey\",\"darkslategrey\",\"darkslategrey\",\"darkslategrey\",\"darkslategrey\",\"darkslategrey\"],\"opacity\":[0,0,0,1,0,1,0,0,0,0,0,0,0,0,0,0,0,0,0,0,0,0,0,0,0]},\"mode\":\"markers+lines\",\"name\":\"Packet 4\",\"text\":[\"No Interaction\",\"No Interaction\",\"No Interaction\",\"Line\",\"No Interaction\",\"Line\",\"No Interaction\",\"No Interaction\",\"No Interaction\",\"No Interaction\",\"No Interaction\",\"No Interaction\",\"No Interaction\",\"No Interaction\",\"No Interaction\",\"No Interaction\",\"No Interaction\",\"No Interaction\",\"No Interaction\",\"No Interaction\",\"No Interaction\",\"No Interaction\",\"No Interaction\",\"No Interaction\",\"No Interaction\"],\"x\":[3399.1869381244223,3210.831135290436,3026.323168173589,2915.811146780419,2654.78365828048,2565.800435174675,2565.1643357527523,2562.0707856226377,2558.982649184348,2555.899350673613,2552.8203939049627,2549.745348871079,2546.673840981598,2543.605542350129,2540.540164685817,2537.47745345296,2534.417183040852,2531.3591527446474,2528.3031834018466,2525.249114562321,2522.196802095224,2519.1461161557254,2516.096939449682,2513.049165746367,2510.002698598655],\"y\":[10461.62167924669,10990.589766734522,11508.751803813293,11819.107692621683,11600.091539627043,11525.42981216802,11620.238032440737,12081.320014363459,12541.595105933435,13001.149122643976,13460.056019068528,13918.37988617606,14376.176555247925,14833.494896514632,15290.37787864048,15746.863439212833,16202.985204656188,16658.77308927089,17114.253796552166,17569.45124098651,18024.386904732728,18479.08014067415,18933.548431059935,19387.807609179064,19841.872050112295],\"type\":\"scatter\"},{\"hovertemplate\":\"<b>X</b>: %{x}<br><b>Y</b>: %{y}<br><b>Last Interaction: %{text}</b>\",\"line\":{\"color\":\"darkslategrey\"},\"marker\":{\"color\":[\"darkslategrey\",\"lightslategrey\",\"darkslategrey\"],\"opacity\":[0,1,0]},\"mode\":\"markers+lines\",\"name\":\"Packet 5\",\"text\":[\"No Interaction\",\"EScattering\",\"No Interaction\"],\"x\":[-1149.8130959441867,-1784.8881004795958,-2367.3802264405786],\"y\":[10939.740849051008,10915.822308133691,10742.23025555951],\"type\":\"scatter\"},{\"hovertemplate\":\"<b>X</b>: %{x}<br><b>Y</b>: %{y}<br><b>Last Interaction: %{text}</b>\",\"line\":{\"color\":\"darkslategrey\"},\"marker\":{\"color\":[\"darkslategrey\",\"darkslategrey\",\"darkslategrey\",\"darkslategrey\",\"darkslategrey\",\"darkslategrey\",\"darkslategrey\",\"darkslategrey\",\"darkslategrey\",\"darkslategrey\",\"darkslategrey\",\"darkslategrey\",\"darkslategrey\",\"darkslategrey\",\"darkslategrey\",\"darkslategrey\",\"darkslategrey\",\"darkslategrey\",\"darkslategrey\",\"darkslategrey\",\"darkslategrey\"],\"opacity\":[0,0,0,0,0,0,0,0,0,0,0,0,0,0,0,0,0,0,0,0,0]},\"mode\":\"markers+lines\",\"name\":\"Packet 6\",\"text\":[\"No Interaction\",\"No Interaction\",\"No Interaction\",\"No Interaction\",\"No Interaction\",\"No Interaction\",\"No Interaction\",\"No Interaction\",\"No Interaction\",\"No Interaction\",\"No Interaction\",\"No Interaction\",\"No Interaction\",\"No Interaction\",\"No Interaction\",\"No Interaction\",\"No Interaction\",\"No Interaction\",\"No Interaction\",\"No Interaction\",\"No Interaction\"],\"x\":[-5499.999999999998,-6055.016226898708,-6595.83843406152,-7124.896600954963,-7644.058519075693,-8154.79106467004,-8658.267180146402,-9155.439236886858,-9647.090773258697,-10133.873867003264,-10616.336696533137,-11094.944238695236,-11570.0940627749,-12042.12855505467,-12511.344501708241,-12978.000687364241,-13442.323982983866,-13904.514269576288,-14364.74845480343,-14823.183775575339,-15279.960533381936],\"y\":[9526.279441628827,9717.987368380007,9904.79254460975,10087.534308526561,10266.857813223396,10443.269731821432,10617.175209875732,10788.903205593822,10958.724360641021,11126.863908921883,11293.511196516516,11458.826830886459,11622.94813627511,11785.993376187556,11948.065063414035,12109.252584646723,12269.634303291068,12429.279260164263,12588.248560869084,12746.59651654198,12904.37158866291],\"type\":\"scatter\"},{\"hovertemplate\":\"<b>X</b>: %{x}<br><b>Y</b>: %{y}<br><b>Last Interaction: %{text}</b>\",\"line\":{\"color\":\"darkslategrey\"},\"marker\":{\"color\":[\"darkslategrey\",\"darkslategrey\",\"darkslategrey\",\"darkslategrey\",\"darkslategrey\",\"darkslategrey\",\"darkslategrey\",\"darkslategrey\",\"darkslategrey\",\"darkslategrey\",\"darkslategrey\",\"darkslategrey\",\"darkslategrey\",\"darkslategrey\",\"darkslategrey\",\"darkslategrey\",\"darkslategrey\",\"darkslategrey\",\"darkslategrey\",\"darkslategrey\",\"darkslategrey\"],\"opacity\":[0,0,0,0,0,0,0,0,0,0,0,0,0,0,0,0,0,0,0,0,0]},\"mode\":\"markers+lines\",\"name\":\"Packet 7\",\"text\":[\"No Interaction\",\"No Interaction\",\"No Interaction\",\"No Interaction\",\"No Interaction\",\"No Interaction\",\"No Interaction\",\"No Interaction\",\"No Interaction\",\"No Interaction\",\"No Interaction\",\"No Interaction\",\"No Interaction\",\"No Interaction\",\"No Interaction\",\"No Interaction\",\"No Interaction\",\"No Interaction\",\"No Interaction\",\"No Interaction\",\"No Interaction\"],\"x\":[-8899.186938124421,-9514.658513412485,-10109.840013040472,-10688.548063030421,-11253.62618441743,-11807.25173791369,-12351.12975103689,-12886.620544036363,-13414.82672160121,-13936.654216638766,-14452.856201301898,-14964.065357305975,-15470.818038531974,-15973.572662805529,-16472.72391678805,-16968.61387101313,-17461.54077964482,-17951.766121387816,-18439.52028754815,-18925.007217697163,-19408.408208165758],\"y\":[6465.637775217206,6369.754577151879,6277.032333095461,6186.876457816872,6098.843964342294,6012.595645603833,5927.865878463466,5844.442741102012,5762.154460738983,5680.859903733321,5600.441734764261,5520.8013894972955,5441.855310336146,5363.532081200963,5285.770214574121,5208.516419908925,5131.724232731249,5055.352917748938,4979.366582719171,4903.733456266791,4828.425294565926],\"type\":\"scatter\"},{\"hovertemplate\":\"<b>X</b>: %{x}<br><b>Y</b>: %{y}<br><b>Last Interaction: %{text}</b>\",\"line\":{\"color\":\"darkslategrey\"},\"marker\":{\"color\":[\"darkslategrey\",\"darkslategrey\",\"lightslategrey\",\"darkslategrey\",\"darkslategrey\"],\"opacity\":[0,0,1,0,0]},\"mode\":\"markers+lines\",\"name\":\"Packet 8\",\"text\":[\"No Interaction\",\"No Interaction\",\"EScattering\",\"No Interaction\",\"No Interaction\"],\"x\":[-10759.623608071863,-11399.638386043394,-11476.437414234091,-11414.77521446058,-10978.451320022501],\"y\":[2287.0285989953572,1072.727676274801,927.0167739553667,897.4445962489485,688.1908266579935],\"type\":\"scatter\"},{\"hovertemplate\":\"<b>X</b>: %{x}<br><b>Y</b>: %{y}<br><b>Last Interaction: %{text}</b>\",\"line\":{\"color\":\"darkslategrey\"},\"marker\":{\"color\":[\"darkslategrey\",\"lightslategrey\",\"darkslategrey\"],\"opacity\":[0,1,0]},\"mode\":\"markers+lines\",\"name\":\"Packet 9\",\"text\":[\"No Interaction\",\"EScattering\",\"No Interaction\"],\"x\":[-10759.623608071863,-10777.171592012412,-10164.098562323836],\"y\":[-2287.02859899535,-3468.3435480045755,-4206.078983491222],\"type\":\"scatter\"},{\"hovertemplate\":\"<b>X</b>: %{x}<br><b>Y</b>: %{y}<br><b>Last Interaction: %{text}</b>\",\"line\":{\"color\":\"darkslategrey\"},\"marker\":{\"color\":[\"darkslategrey\",\"darkslategrey\",\"darkslategrey\",\"darkslategrey\",\"darkslategrey\",\"darkslategrey\",\"darkslategrey\",\"darkslategrey\",\"darkslategrey\",\"darkslategrey\",\"darkslategrey\",\"darkslategrey\",\"darkslategrey\",\"darkslategrey\",\"darkslategrey\",\"darkslategrey\",\"darkslategrey\",\"darkslategrey\",\"darkslategrey\",\"darkslategrey\",\"darkslategrey\"],\"opacity\":[0,0,0,0,0,0,0,0,0,0,0,0,0,0,0,0,0,0,0,0,0]},\"mode\":\"markers+lines\",\"name\":\"Packet 10\",\"text\":[\"No Interaction\",\"No Interaction\",\"No Interaction\",\"No Interaction\",\"No Interaction\",\"No Interaction\",\"No Interaction\",\"No Interaction\",\"No Interaction\",\"No Interaction\",\"No Interaction\",\"No Interaction\",\"No Interaction\",\"No Interaction\",\"No Interaction\",\"No Interaction\",\"No Interaction\",\"No Interaction\",\"No Interaction\",\"No Interaction\",\"No Interaction\"],\"x\":[-8899.186938124425,-8042.942960822973,-7481.069827093858,-7020.211599848982,-6614.513044582377,-6244.395353364474,-5899.402694098291,-5573.2030996839685,-5261.635185106029,-4961.801356435908,-4671.595062814704,-4389.432690318081,-4114.09143772783,-3844.6061850768606,-3580.2011375974253,-3320.2429509875387,-3064.2076528494654,-2811.656721313267,-2562.219415871508,-2315.5794829031774,-2071.4649885910903],\"y\":[-6465.637775217204,-8149.452038569724,-9254.38243440079,-10160.665780023759,-10958.476955446391,-11686.317926142527,-12364.750213929348,-13006.225709623564,-13618.927827801062,-14208.554722394212,-14779.248951455054,-15334.124711152148,-15875.586655050407,-16405.532703379944,-16925.488466048657,-17436.699422379734,-17940.195970507648,-18436.840469057977,-18927.361983777115,-19412.38243128231,-19892.436572754013],\"type\":\"scatter\"},{\"hovertemplate\":\"<b>X</b>: %{x}<br><b>Y</b>: %{y}<br><b>Last Interaction: %{text}</b>\",\"line\":{\"color\":\"darkslategrey\"},\"marker\":{\"color\":[\"darkslategrey\",\"lightslategrey\",\"darkslategrey\",\"darkslategrey\",\"lightslategrey\",\"darkslategrey\",\"darkslategrey\",\"darkslategrey\",\"darkslategrey\",\"darkslategrey\",\"darkslategrey\",\"darkslategrey\",\"darkslategrey\",\"darkslategrey\",\"darkslategrey\",\"darkslategrey\",\"darkslategrey\",\"darkslategrey\",\"darkslategrey\",\"darkslategrey\",\"darkslategrey\",\"darkslategrey\",\"darkslategrey\"],\"opacity\":[0,1,0,0,1,0,0,0,0,0,0,0,0,0,0,0,0,0,0,0,0,0,0]},\"mode\":\"markers+lines\",\"name\":\"Packet 11\",\"text\":[\"No Interaction\",\"EScattering\",\"No Interaction\",\"No Interaction\",\"EScattering\",\"No Interaction\",\"No Interaction\",\"No Interaction\",\"No Interaction\",\"No Interaction\",\"No Interaction\",\"No Interaction\",\"No Interaction\",\"No Interaction\",\"No Interaction\",\"No Interaction\",\"No Interaction\",\"No Interaction\",\"No Interaction\",\"No Interaction\",\"No Interaction\",\"No Interaction\",\"No Interaction\"],\"x\":[-5500.0000000000055,-5233.732812693384,-5111.966885911377,-4833.588103816399,-4832.097405542915,-4667.323625598251,-4505.469543872766,-4346.8464757319525,-4190.975757452136,-4037.4749923480754,-3886.0338835395105,-3736.3972386165224,-3588.352721641823,-3441.7218376687833,-3296.3531729232336,-3152.117243139755,-3008.902510352116,-2866.612263097103,-2725.162144335188,-2584.478171933214,-2444.495138365256,-2305.155305662427,-2166.4073326046214],\"y\":[-9526.279441628823,-9970.537636788678,-10245.501186244896,-10874.117253489801,-10877.483447130979,-11434.097698285268,-11980.84905961322,-12516.685891897136,-13043.225145662733,-13561.758576459173,-14073.334383008985,-14578.814618317187,-15078.916564033567,-15574.243185211726,-16065.305965320387,-16552.542308826796,-17036.328996682267,-17516.992725152948,-17994.818456630295,-18470.056106541764,-18942.925949243127,-19413.623026544436,-19882.320771711664],\"type\":\"scatter\"},{\"hovertemplate\":\"<b>X</b>: %{x}<br><b>Y</b>: %{y}<br><b>Last Interaction: %{text}</b>\",\"line\":{\"color\":\"darkslategrey\"},\"marker\":{\"color\":[\"darkslategrey\",\"lightslategrey\",\"darkslategrey\",\"darkslategrey\",\"darkslategrey\",\"darkslategrey\",\"darkslategrey\",\"darkslategrey\",\"darkslategrey\",\"lightslategrey\",\"darkslategrey\",\"darkslategrey\",\"darkslategrey\",\"darkslategrey\",\"darkslategrey\",\"darkslategrey\",\"darkslategrey\",\"darkslategrey\",\"darkslategrey\",\"darkslategrey\",\"darkslategrey\",\"darkslategrey\",\"darkslategrey\"],\"opacity\":[0,1,0,0,0,0,0,0,0,1,0,0,0,0,0,0,0,0,0,0,0,0,0]},\"mode\":\"markers+lines\",\"name\":\"Packet 12\",\"text\":[\"No Interaction\",\"EScattering\",\"No Interaction\",\"No Interaction\",\"No Interaction\",\"No Interaction\",\"No Interaction\",\"No Interaction\",\"No Interaction\",\"EScattering\",\"No Interaction\",\"No Interaction\",\"No Interaction\",\"No Interaction\",\"No Interaction\",\"No Interaction\",\"No Interaction\",\"No Interaction\",\"No Interaction\",\"No Interaction\",\"No Interaction\",\"No Interaction\",\"No Interaction\"],\"x\":[-1149.8130959441967,-935.0592171481933,-678.4122426670867,-265.7940221406555,133.66208078855928,522.3555768282139,902.0913262261415,1274.2623025529151,1639.9665925291447,1920.0702204740528,5697.027196510403,7645.744800795567,8977.163151994524,10074.183187677017,11039.052843483218,11917.035478864187,12732.799921586164,13501.496153500973,14233.188642512865,14934.947857588986,15611.953620698112,16268.126649159743,16906.5133471033],\"y\":[-10939.740849051006,-11139.320758173742,-11429.884375136937,-11897.031290947936,-12349.276677124022,-12789.337146676386,-13219.256077372416,-13640.610528282543,-14054.6437014742,-14371.763836728996,-13442.614370806776,-12963.220527365396,-12635.685250213852,-12365.813078852752,-12128.450532478793,-11912.462608356527,-11711.780656964826,-11522.67771036743,-11342.677861362494,-11170.041740794808,-11003.495087706044,-10842.07338689877,-10685.027208398586],\"type\":\"scatter\"},{\"hovertemplate\":\"<b>X</b>: %{x}<br><b>Y</b>: %{y}<br><b>Last Interaction: %{text}</b>\",\"line\":{\"color\":\"darkslategrey\"},\"marker\":{\"color\":[\"darkslategrey\",\"lightslategrey\",\"lightsteelblue\",\"darkslategrey\"],\"opacity\":[0,1,1,0]},\"mode\":\"markers+lines\",\"name\":\"Packet 13\",\"text\":[\"No Interaction\",\"EScattering\",\"Line\",\"No Interaction\"],\"x\":[3399.18693812442,3739.537860972324,3932.1690575986004,3940.496265386996],\"y\":[-10461.621679246691,-10528.045410661114,-10630.301148629176,-10269.979999127125],\"type\":\"scatter\"},{\"hovertemplate\":\"<b>X</b>: %{x}<br><b>Y</b>: %{y}<br><b>Last Interaction: %{text}</b>\",\"line\":{\"color\":\"darkslategrey\"},\"marker\":{\"color\":[\"darkslategrey\",\"darkslategrey\",\"darkslategrey\",\"darkslategrey\",\"darkslategrey\",\"darkslategrey\",\"darkslategrey\",\"darkslategrey\",\"darkslategrey\",\"darkslategrey\",\"darkslategrey\",\"darkslategrey\",\"darkslategrey\",\"darkslategrey\",\"darkslategrey\",\"darkslategrey\",\"darkslategrey\",\"darkslategrey\",\"darkslategrey\",\"darkslategrey\",\"darkslategrey\"],\"opacity\":[0,0,0,0,0,0,0,0,0,0,0,0,0,0,0,0,0,0,0,0,0]},\"mode\":\"markers+lines\",\"name\":\"Packet 14\",\"text\":[\"No Interaction\",\"No Interaction\",\"No Interaction\",\"No Interaction\",\"No Interaction\",\"No Interaction\",\"No Interaction\",\"No Interaction\",\"No Interaction\",\"No Interaction\",\"No Interaction\",\"No Interaction\",\"No Interaction\",\"No Interaction\",\"No Interaction\",\"No Interaction\",\"No Interaction\",\"No Interaction\",\"No Interaction\",\"No Interaction\",\"No Interaction\"],\"x\":[7360.436669947436,8422.314885273028,9314.976006873127,10110.326368055641,10841.288594986992,11526.093978089151,12176.033791589274,12798.642624753986,13399.224713496862,13981.668063110388,14548.914100721538,15103.24546020259,15646.470994512278,16180.049464186395,16705.17496447397,17222.837573098856,17733.867433683063,18238.967460597793,18738.738040147666,19233.69598369642,19724.289275980987],\"y\":[-8174.593080251341,-7756.746223340581,-7405.485938908938,-7092.517235185181,-6804.8851276274345,-6535.415641583708,-6279.665684260286,-6034.670410538629,-5798.342614680081,-5569.152374733432,-5345.942245275954,-5127.814014652826,-4914.055903007816,-4704.093891120963,-4497.458105009111,-4293.758951158581,-4092.669769790272,-3893.9139655692143,-3697.2552877401868,-3502.4903721124206,-3309.442937628846],\"type\":\"scatter\"},{\"hovertemplate\":\"<b>X</b>: %{x}<br><b>Y</b>: %{y}<br><b>Last Interaction: %{text}</b>\",\"line\":{\"color\":\"darkslategrey\"},\"marker\":{\"color\":[\"darkslategrey\",\"darkslategrey\",\"darkslategrey\",\"darkslategrey\",\"darkslategrey\",\"darkslategrey\",\"darkslategrey\",\"darkslategrey\",\"darkslategrey\",\"darkslategrey\",\"darkslategrey\",\"darkslategrey\",\"darkslategrey\",\"darkslategrey\",\"darkslategrey\",\"darkslategrey\",\"darkslategrey\",\"darkslategrey\",\"darkslategrey\",\"darkslategrey\",\"darkslategrey\"],\"opacity\":[0,0,0,0,0,0,0,0,0,0,0,0,0,0,0,0,0,0,0,0,0]},\"mode\":\"markers+lines\",\"name\":\"Packet 15\",\"text\":[\"No Interaction\",\"No Interaction\",\"No Interaction\",\"No Interaction\",\"No Interaction\",\"No Interaction\",\"No Interaction\",\"No Interaction\",\"No Interaction\",\"No Interaction\",\"No Interaction\",\"No Interaction\",\"No Interaction\",\"No Interaction\",\"No Interaction\",\"No Interaction\",\"No Interaction\",\"No Interaction\",\"No Interaction\",\"No Interaction\",\"No Interaction\"],\"x\":[10049.000034068606,10744.364330496763,11377.70264808734,11967.89536642935,12526.170019386776,13059.80993560699,13573.836014447492,14071.869001349025,14556.612362452566,15030.141370765661,15494.085498980043,15949.74847874404,16398.190143361386,16840.283883246993,17276.758004475192,17708.22615089492,18135.210107578972,18558.1571794062,18977.45363154561,19393.43522163772,19806.39555092943],\"y\":[-4474.10307383381,-3957.415208636682,-3486.815517303191,-3048.275003702735,-2633.4510903785485,-2236.931926952828,-1854.9867527527751,-1484.925186287968,-1124.7384270545692,-772.8844511300397,-428.152484865503,-89.57379528801346,243.6391228137236,572.1352389529086,896.4557182608236,1217.0565265267996,1534.3253742167715,1848.5946295643726,2160.151305472928,2469.2448854137224,2776.093528705958],\"type\":\"scatter\"}],                        {\"template\":{\"data\":{\"histogram2dcontour\":[{\"type\":\"histogram2dcontour\",\"colorbar\":{\"outlinewidth\":0,\"ticks\":\"\"},\"colorscale\":[[0.0,\"#0d0887\"],[0.1111111111111111,\"#46039f\"],[0.2222222222222222,\"#7201a8\"],[0.3333333333333333,\"#9c179e\"],[0.4444444444444444,\"#bd3786\"],[0.5555555555555556,\"#d8576b\"],[0.6666666666666666,\"#ed7953\"],[0.7777777777777778,\"#fb9f3a\"],[0.8888888888888888,\"#fdca26\"],[1.0,\"#f0f921\"]]}],\"choropleth\":[{\"type\":\"choropleth\",\"colorbar\":{\"outlinewidth\":0,\"ticks\":\"\"}}],\"histogram2d\":[{\"type\":\"histogram2d\",\"colorbar\":{\"outlinewidth\":0,\"ticks\":\"\"},\"colorscale\":[[0.0,\"#0d0887\"],[0.1111111111111111,\"#46039f\"],[0.2222222222222222,\"#7201a8\"],[0.3333333333333333,\"#9c179e\"],[0.4444444444444444,\"#bd3786\"],[0.5555555555555556,\"#d8576b\"],[0.6666666666666666,\"#ed7953\"],[0.7777777777777778,\"#fb9f3a\"],[0.8888888888888888,\"#fdca26\"],[1.0,\"#f0f921\"]]}],\"heatmap\":[{\"type\":\"heatmap\",\"colorbar\":{\"outlinewidth\":0,\"ticks\":\"\"},\"colorscale\":[[0.0,\"#0d0887\"],[0.1111111111111111,\"#46039f\"],[0.2222222222222222,\"#7201a8\"],[0.3333333333333333,\"#9c179e\"],[0.4444444444444444,\"#bd3786\"],[0.5555555555555556,\"#d8576b\"],[0.6666666666666666,\"#ed7953\"],[0.7777777777777778,\"#fb9f3a\"],[0.8888888888888888,\"#fdca26\"],[1.0,\"#f0f921\"]]}],\"heatmapgl\":[{\"type\":\"heatmapgl\",\"colorbar\":{\"outlinewidth\":0,\"ticks\":\"\"},\"colorscale\":[[0.0,\"#0d0887\"],[0.1111111111111111,\"#46039f\"],[0.2222222222222222,\"#7201a8\"],[0.3333333333333333,\"#9c179e\"],[0.4444444444444444,\"#bd3786\"],[0.5555555555555556,\"#d8576b\"],[0.6666666666666666,\"#ed7953\"],[0.7777777777777778,\"#fb9f3a\"],[0.8888888888888888,\"#fdca26\"],[1.0,\"#f0f921\"]]}],\"contourcarpet\":[{\"type\":\"contourcarpet\",\"colorbar\":{\"outlinewidth\":0,\"ticks\":\"\"}}],\"contour\":[{\"type\":\"contour\",\"colorbar\":{\"outlinewidth\":0,\"ticks\":\"\"},\"colorscale\":[[0.0,\"#0d0887\"],[0.1111111111111111,\"#46039f\"],[0.2222222222222222,\"#7201a8\"],[0.3333333333333333,\"#9c179e\"],[0.4444444444444444,\"#bd3786\"],[0.5555555555555556,\"#d8576b\"],[0.6666666666666666,\"#ed7953\"],[0.7777777777777778,\"#fb9f3a\"],[0.8888888888888888,\"#fdca26\"],[1.0,\"#f0f921\"]]}],\"surface\":[{\"type\":\"surface\",\"colorbar\":{\"outlinewidth\":0,\"ticks\":\"\"},\"colorscale\":[[0.0,\"#0d0887\"],[0.1111111111111111,\"#46039f\"],[0.2222222222222222,\"#7201a8\"],[0.3333333333333333,\"#9c179e\"],[0.4444444444444444,\"#bd3786\"],[0.5555555555555556,\"#d8576b\"],[0.6666666666666666,\"#ed7953\"],[0.7777777777777778,\"#fb9f3a\"],[0.8888888888888888,\"#fdca26\"],[1.0,\"#f0f921\"]]}],\"mesh3d\":[{\"type\":\"mesh3d\",\"colorbar\":{\"outlinewidth\":0,\"ticks\":\"\"}}],\"scatter\":[{\"fillpattern\":{\"fillmode\":\"overlay\",\"size\":10,\"solidity\":0.2},\"type\":\"scatter\"}],\"parcoords\":[{\"type\":\"parcoords\",\"line\":{\"colorbar\":{\"outlinewidth\":0,\"ticks\":\"\"}}}],\"scatterpolargl\":[{\"type\":\"scatterpolargl\",\"marker\":{\"colorbar\":{\"outlinewidth\":0,\"ticks\":\"\"}}}],\"bar\":[{\"error_x\":{\"color\":\"#2a3f5f\"},\"error_y\":{\"color\":\"#2a3f5f\"},\"marker\":{\"line\":{\"color\":\"#E5ECF6\",\"width\":0.5},\"pattern\":{\"fillmode\":\"overlay\",\"size\":10,\"solidity\":0.2}},\"type\":\"bar\"}],\"scattergeo\":[{\"type\":\"scattergeo\",\"marker\":{\"colorbar\":{\"outlinewidth\":0,\"ticks\":\"\"}}}],\"scatterpolar\":[{\"type\":\"scatterpolar\",\"marker\":{\"colorbar\":{\"outlinewidth\":0,\"ticks\":\"\"}}}],\"histogram\":[{\"marker\":{\"pattern\":{\"fillmode\":\"overlay\",\"size\":10,\"solidity\":0.2}},\"type\":\"histogram\"}],\"scattergl\":[{\"type\":\"scattergl\",\"marker\":{\"colorbar\":{\"outlinewidth\":0,\"ticks\":\"\"}}}],\"scatter3d\":[{\"type\":\"scatter3d\",\"line\":{\"colorbar\":{\"outlinewidth\":0,\"ticks\":\"\"}},\"marker\":{\"colorbar\":{\"outlinewidth\":0,\"ticks\":\"\"}}}],\"scattermapbox\":[{\"type\":\"scattermapbox\",\"marker\":{\"colorbar\":{\"outlinewidth\":0,\"ticks\":\"\"}}}],\"scatterternary\":[{\"type\":\"scatterternary\",\"marker\":{\"colorbar\":{\"outlinewidth\":0,\"ticks\":\"\"}}}],\"scattercarpet\":[{\"type\":\"scattercarpet\",\"marker\":{\"colorbar\":{\"outlinewidth\":0,\"ticks\":\"\"}}}],\"carpet\":[{\"aaxis\":{\"endlinecolor\":\"#2a3f5f\",\"gridcolor\":\"white\",\"linecolor\":\"white\",\"minorgridcolor\":\"white\",\"startlinecolor\":\"#2a3f5f\"},\"baxis\":{\"endlinecolor\":\"#2a3f5f\",\"gridcolor\":\"white\",\"linecolor\":\"white\",\"minorgridcolor\":\"white\",\"startlinecolor\":\"#2a3f5f\"},\"type\":\"carpet\"}],\"table\":[{\"cells\":{\"fill\":{\"color\":\"#EBF0F8\"},\"line\":{\"color\":\"white\"}},\"header\":{\"fill\":{\"color\":\"#C8D4E3\"},\"line\":{\"color\":\"white\"}},\"type\":\"table\"}],\"barpolar\":[{\"marker\":{\"line\":{\"color\":\"#E5ECF6\",\"width\":0.5},\"pattern\":{\"fillmode\":\"overlay\",\"size\":10,\"solidity\":0.2}},\"type\":\"barpolar\"}],\"pie\":[{\"automargin\":true,\"type\":\"pie\"}]},\"layout\":{\"autotypenumbers\":\"strict\",\"colorway\":[\"#636efa\",\"#EF553B\",\"#00cc96\",\"#ab63fa\",\"#FFA15A\",\"#19d3f3\",\"#FF6692\",\"#B6E880\",\"#FF97FF\",\"#FECB52\"],\"font\":{\"color\":\"#2a3f5f\"},\"hovermode\":\"closest\",\"hoverlabel\":{\"align\":\"left\"},\"paper_bgcolor\":\"white\",\"plot_bgcolor\":\"#E5ECF6\",\"polar\":{\"bgcolor\":\"#E5ECF6\",\"angularaxis\":{\"gridcolor\":\"white\",\"linecolor\":\"white\",\"ticks\":\"\"},\"radialaxis\":{\"gridcolor\":\"white\",\"linecolor\":\"white\",\"ticks\":\"\"}},\"ternary\":{\"bgcolor\":\"#E5ECF6\",\"aaxis\":{\"gridcolor\":\"white\",\"linecolor\":\"white\",\"ticks\":\"\"},\"baxis\":{\"gridcolor\":\"white\",\"linecolor\":\"white\",\"ticks\":\"\"},\"caxis\":{\"gridcolor\":\"white\",\"linecolor\":\"white\",\"ticks\":\"\"}},\"coloraxis\":{\"colorbar\":{\"outlinewidth\":0,\"ticks\":\"\"}},\"colorscale\":{\"sequential\":[[0.0,\"#0d0887\"],[0.1111111111111111,\"#46039f\"],[0.2222222222222222,\"#7201a8\"],[0.3333333333333333,\"#9c179e\"],[0.4444444444444444,\"#bd3786\"],[0.5555555555555556,\"#d8576b\"],[0.6666666666666666,\"#ed7953\"],[0.7777777777777778,\"#fb9f3a\"],[0.8888888888888888,\"#fdca26\"],[1.0,\"#f0f921\"]],\"sequentialminus\":[[0.0,\"#0d0887\"],[0.1111111111111111,\"#46039f\"],[0.2222222222222222,\"#7201a8\"],[0.3333333333333333,\"#9c179e\"],[0.4444444444444444,\"#bd3786\"],[0.5555555555555556,\"#d8576b\"],[0.6666666666666666,\"#ed7953\"],[0.7777777777777778,\"#fb9f3a\"],[0.8888888888888888,\"#fdca26\"],[1.0,\"#f0f921\"]],\"diverging\":[[0,\"#8e0152\"],[0.1,\"#c51b7d\"],[0.2,\"#de77ae\"],[0.3,\"#f1b6da\"],[0.4,\"#fde0ef\"],[0.5,\"#f7f7f7\"],[0.6,\"#e6f5d0\"],[0.7,\"#b8e186\"],[0.8,\"#7fbc41\"],[0.9,\"#4d9221\"],[1,\"#276419\"]]},\"xaxis\":{\"gridcolor\":\"white\",\"linecolor\":\"white\",\"ticks\":\"\",\"title\":{\"standoff\":15},\"zerolinecolor\":\"white\",\"automargin\":true,\"zerolinewidth\":2},\"yaxis\":{\"gridcolor\":\"white\",\"linecolor\":\"white\",\"ticks\":\"\",\"title\":{\"standoff\":15},\"zerolinecolor\":\"white\",\"automargin\":true,\"zerolinewidth\":2},\"scene\":{\"xaxis\":{\"backgroundcolor\":\"#E5ECF6\",\"gridcolor\":\"white\",\"linecolor\":\"white\",\"showbackground\":true,\"ticks\":\"\",\"zerolinecolor\":\"white\",\"gridwidth\":2},\"yaxis\":{\"backgroundcolor\":\"#E5ECF6\",\"gridcolor\":\"white\",\"linecolor\":\"white\",\"showbackground\":true,\"ticks\":\"\",\"zerolinecolor\":\"white\",\"gridwidth\":2},\"zaxis\":{\"backgroundcolor\":\"#E5ECF6\",\"gridcolor\":\"white\",\"linecolor\":\"white\",\"showbackground\":true,\"ticks\":\"\",\"zerolinecolor\":\"white\",\"gridwidth\":2}},\"shapedefaults\":{\"line\":{\"color\":\"#2a3f5f\"}},\"annotationdefaults\":{\"arrowcolor\":\"#2a3f5f\",\"arrowhead\":0,\"arrowwidth\":1},\"geo\":{\"bgcolor\":\"white\",\"landcolor\":\"#E5ECF6\",\"subunitcolor\":\"white\",\"showland\":true,\"showlakes\":true,\"lakecolor\":\"white\"},\"title\":{\"x\":0.05},\"mapbox\":{\"style\":\"light\"}}},\"xaxis\":{\"range\":[-22000.0,22000.0],\"exponentformat\":\"e\",\"linecolor\":\"#555\",\"gridcolor\":\"#fafafa\",\"zerolinecolor\":\"#fafafa\",\"rangebreaks\":[{\"values\":[-30000.0,-10000.0,10000.0,30000.0]}]},\"yaxis\":{\"range\":[-22000.0,22000.0],\"exponentformat\":\"e\",\"linecolor\":\"#555\",\"gridcolor\":\"#fafafa\",\"zerolinecolor\":\"#fafafa\",\"rangebreaks\":[{\"values\":[-30000.0,-10000.0,10000.0,30000.0]}]},\"shapes\":[{\"fillcolor\":\"darkgrey\",\"line\":{\"color\":\"black\"},\"opacity\":1,\"type\":\"circle\",\"x0\":-11000.000000000002,\"x1\":11000.000000000002,\"xref\":\"x\",\"y0\":-11000.000000000002,\"y1\":11000.000000000002,\"yref\":\"y\"},{\"line\":{\"color\":\"black\"},\"opacity\":0.2,\"type\":\"circle\",\"x0\":-11450.000000000002,\"x1\":11450.000000000002,\"xref\":\"x\",\"y0\":-11450.000000000002,\"y1\":11450.000000000002,\"yref\":\"y\"},{\"line\":{\"color\":\"black\"},\"opacity\":0.2,\"type\":\"circle\",\"x0\":-11900.000000000002,\"x1\":11900.000000000002,\"xref\":\"x\",\"y0\":-11900.000000000002,\"y1\":11900.000000000002,\"yref\":\"y\"},{\"line\":{\"color\":\"black\"},\"opacity\":0.2,\"type\":\"circle\",\"x0\":-12350.000000000002,\"x1\":12350.000000000002,\"xref\":\"x\",\"y0\":-12350.000000000002,\"y1\":12350.000000000002,\"yref\":\"y\"},{\"line\":{\"color\":\"black\"},\"opacity\":0.2,\"type\":\"circle\",\"x0\":-12800.000000000002,\"x1\":12800.000000000002,\"xref\":\"x\",\"y0\":-12800.000000000002,\"y1\":12800.000000000002,\"yref\":\"y\"},{\"line\":{\"color\":\"black\"},\"opacity\":0.2,\"type\":\"circle\",\"x0\":-13250.000000000002,\"x1\":13250.000000000002,\"xref\":\"x\",\"y0\":-13250.000000000002,\"y1\":13250.000000000002,\"yref\":\"y\"},{\"line\":{\"color\":\"black\"},\"opacity\":0.2,\"type\":\"circle\",\"x0\":-13700.000000000002,\"x1\":13700.000000000002,\"xref\":\"x\",\"y0\":-13700.000000000002,\"y1\":13700.000000000002,\"yref\":\"y\"},{\"line\":{\"color\":\"black\"},\"opacity\":0.2,\"type\":\"circle\",\"x0\":-14150.000000000002,\"x1\":14150.000000000002,\"xref\":\"x\",\"y0\":-14150.000000000002,\"y1\":14150.000000000002,\"yref\":\"y\"},{\"line\":{\"color\":\"black\"},\"opacity\":0.2,\"type\":\"circle\",\"x0\":-14600.000000000002,\"x1\":14600.000000000002,\"xref\":\"x\",\"y0\":-14600.000000000002,\"y1\":14600.000000000002,\"yref\":\"y\"},{\"line\":{\"color\":\"black\"},\"opacity\":0.2,\"type\":\"circle\",\"x0\":-15050.000000000002,\"x1\":15050.000000000002,\"xref\":\"x\",\"y0\":-15050.000000000002,\"y1\":15050.000000000002,\"yref\":\"y\"},{\"line\":{\"color\":\"black\"},\"opacity\":0.2,\"type\":\"circle\",\"x0\":-15500.0,\"x1\":15500.0,\"xref\":\"x\",\"y0\":-15500.0,\"y1\":15500.0,\"yref\":\"y\"},{\"line\":{\"color\":\"black\"},\"opacity\":0.2,\"type\":\"circle\",\"x0\":-15950.0,\"x1\":15950.0,\"xref\":\"x\",\"y0\":-15950.0,\"y1\":15950.0,\"yref\":\"y\"},{\"line\":{\"color\":\"black\"},\"opacity\":0.2,\"type\":\"circle\",\"x0\":-16400.0,\"x1\":16400.0,\"xref\":\"x\",\"y0\":-16400.0,\"y1\":16400.0,\"yref\":\"y\"},{\"line\":{\"color\":\"black\"},\"opacity\":0.2,\"type\":\"circle\",\"x0\":-16850.0,\"x1\":16850.0,\"xref\":\"x\",\"y0\":-16850.0,\"y1\":16850.0,\"yref\":\"y\"},{\"line\":{\"color\":\"black\"},\"opacity\":0.2,\"type\":\"circle\",\"x0\":-17300.0,\"x1\":17300.0,\"xref\":\"x\",\"y0\":-17300.0,\"y1\":17300.0,\"yref\":\"y\"},{\"line\":{\"color\":\"black\"},\"opacity\":0.2,\"type\":\"circle\",\"x0\":-17750.0,\"x1\":17750.0,\"xref\":\"x\",\"y0\":-17750.0,\"y1\":17750.0,\"yref\":\"y\"},{\"line\":{\"color\":\"black\"},\"opacity\":0.2,\"type\":\"circle\",\"x0\":-18200.0,\"x1\":18200.0,\"xref\":\"x\",\"y0\":-18200.0,\"y1\":18200.0,\"yref\":\"y\"},{\"line\":{\"color\":\"black\"},\"opacity\":0.2,\"type\":\"circle\",\"x0\":-18650.0,\"x1\":18650.0,\"xref\":\"x\",\"y0\":-18650.0,\"y1\":18650.0,\"yref\":\"y\"},{\"line\":{\"color\":\"black\"},\"opacity\":0.2,\"type\":\"circle\",\"x0\":-19100.0,\"x1\":19100.0,\"xref\":\"x\",\"y0\":-19100.0,\"y1\":19100.0,\"yref\":\"y\"},{\"line\":{\"color\":\"black\"},\"opacity\":0.2,\"type\":\"circle\",\"x0\":-19550.0,\"x1\":19550.0,\"xref\":\"x\",\"y0\":-19550.0,\"y1\":19550.0,\"yref\":\"y\"},{\"line\":{\"color\":\"black\"},\"opacity\":1,\"type\":\"circle\",\"x0\":-20000.0,\"x1\":20000.0,\"xref\":\"x\",\"y0\":-20000.0,\"y1\":20000.0,\"yref\":\"y\"}],\"width\":900,\"height\":900,\"plot_bgcolor\":\"#fafafa\",\"paper_bgcolor\":\"#fafafa\"},                        {\"responsive\": true}                    ).then(function(){\n",
       "                            \n",
       "var gd = document.getElementById('042ff1b4-5bc4-42fb-86c3-f0676ec8e24e');\n",
       "var x = new MutationObserver(function (mutations, observer) {{\n",
       "        var display = window.getComputedStyle(gd).display;\n",
       "        if (!display || display === 'none') {{\n",
       "            console.log([gd, 'removed!']);\n",
       "            Plotly.purge(gd);\n",
       "            observer.disconnect();\n",
       "        }}\n",
       "}});\n",
       "\n",
       "// Listen for the removal of the full notebook cells\n",
       "var notebookContainer = gd.closest('#notebook-container');\n",
       "if (notebookContainer) {{\n",
       "    x.observe(notebookContainer, {childList: true});\n",
       "}}\n",
       "\n",
       "// Listen for the clearing of the current output cell\n",
       "var outputEl = gd.closest('.output');\n",
       "if (outputEl) {{\n",
       "    x.observe(outputEl, {childList: true});\n",
       "}}\n",
       "\n",
       "                        })                };                });            </script>        </div>"
      ]
     },
     "metadata": {},
     "output_type": "display_data"
    }
   ],
   "source": [
    "#plot with markers on current interaction only\n",
    "v_shells = sim.model.radius.value * 1e-5 / sim.model.time_explosion.value\n",
    "xs,ys,ints = get_coordinates_multiple_packets_ints(sim.runner.rpacket_tracker_df,sim.model.time_explosion)\n",
    "\n",
    "fig = go.Figure()\n",
    "\n",
    "# Set axes properties\n",
    "fig.update_xaxes(range=[-1.1*v_shells[-1],1.1*v_shells[-1]],exponentformat=\"e\",linecolor=\"#555\",gridcolor=\"#fafafa\",zerolinecolor=\"#fafafa\")\n",
    "fig.update_yaxes(range=[-1.1*v_shells[-1],1.1*v_shells[-1]],exponentformat=\"e\",linecolor=\"#555\",gridcolor=\"#fafafa\",zerolinecolor=\"#fafafa\")\n",
    "\n",
    "# adding the shells\n",
    "shell_shapes={}\n",
    "for i in range(len(sim.model.radius.value)):\n",
    "    if i==0:\n",
    "        fig.add_shape(type=\"circle\",\n",
    "            xref=\"x\", yref=\"y\",\n",
    "            x0=-1*v_shells[i], y0=-1*v_shells[i], x1=v_shells[i], y1=v_shells[i],\n",
    "            line_color=\"black\",\n",
    "            fillcolor=\"darkgrey\",\n",
    "            opacity=1\n",
    "        )\n",
    "    elif i==(len(sim.model.radius.value)-1):\n",
    "        fig.add_shape(type=\"circle\",\n",
    "            xref=\"x\", yref=\"y\",\n",
    "            x0=-1*v_shells[i], y0=-1*v_shells[i], x1=v_shells[i], y1=v_shells[i],\n",
    "            line_color=\"black\",\n",
    "            opacity=1\n",
    "        )\n",
    "    else:\n",
    "        fig.add_shape(type=\"circle\",\n",
    "            xref=\"x\", yref=\"y\",\n",
    "            x0=-1*v_shells[i], y0=-1*v_shells[i], x1=v_shells[i], y1=v_shells[i],\n",
    "            line_color=\"black\",\n",
    "            opacity=0.2\n",
    "        )\n",
    "\n",
    "#Add the packet trajectory\n",
    "\n",
    "df = sim.runner.rpacket_tracker_df\n",
    "interaction_from_num = {0: \"No Interaction\", 1: \"EScattering\", 2: \"Line\"}\n",
    "interaction_color_from_num = {0: \"darkslategrey\", 1: \"lightslategrey\", 2: \"lightsteelblue\"}\n",
    "interaction_opacity_from_num = {0: 0, 1: 1, 2: 1}\n",
    "for i in range(len(xs)):\n",
    "    fig.add_trace(go.Scatter(\n",
    "        x=xs[i],\n",
    "        y=ys[i],\n",
    "        mode=\"markers+lines\",\n",
    "        name=\"Packet \"+str(i+1),\n",
    "        hovertemplate =\n",
    "        '<b>X</b>: %{x}'+\n",
    "        '<br><b>Y</b>: %{y}<br>'+\n",
    "        '<b>Last Interaction: %{text}</b>',\n",
    "        text = [interaction_from_num.get(ints[i][j]) for j in range(len(xs[i]))],\n",
    "        line = dict(color=\"darkslategrey\"),\n",
    "#         line_shape = \"spline\",\n",
    "        marker = dict(opacity = [interaction_opacity_from_num.get(ints[i][j]) for j in range(len(xs[i]))],color=[interaction_color_from_num.get(ints[i][j]) for j in range(len(xs[i]))])\n",
    "    ))\n",
    "\n",
    "\n",
    "# Set figure size\n",
    "fig.update_layout(width=900, height=900)\n",
    "fig.layout.plot_bgcolor = '#fafafa'\n",
    "fig.layout.paper_bgcolor = '#fafafa'\n",
    "fig.update_xaxes(rangebreaks=[dict(values=[-1.5*v_shells[-1],-0.5*v_shells[-1],0.5*v_shells[-1],1.5*v_shells[-1]])])\n",
    "fig.update_yaxes(rangebreaks=[dict(values=[-1.5*v_shells[-1],-0.5*v_shells[-1],0.5*v_shells[-1],1.5*v_shells[-1]])])\n",
    "\n",
    "fig.show()"
   ]
  },
  {
   "cell_type": "code",
   "execution_count": 111,
   "metadata": {
    "scrolled": false
   },
   "outputs": [
    {
     "name": "stdout",
     "output_type": "stream",
     "text": [
      "[\u001b[1mpy.warnings         \u001b[0m][\u001b[1;33mWARNING\u001b[0m]  \n",
      "\t/tmp/ipykernel_571561/2379023080.py:9: VisibleDeprecationWarning:\n",
      "\n",
      "Creating an ndarray from ragged nested sequences (which is a list-or-tuple of lists-or-tuples-or ndarrays with different lengths or shapes) is deprecated. If you meant to do this, you must specify 'dtype=object' when creating the ndarray\n",
      "\n",
      " (\u001b[1mwarnings.py\u001b[0m:109)\n"
     ]
    },
    {
     "data": {
      "application/vnd.plotly.v1+json": {
       "config": {
        "plotlyServerURL": "https://plot.ly"
       },
       "data": [
        {
         "hovertemplate": "<b>X</b>: %{x}<br><b>Y</b>: %{y}<br><b>Last Interaction: %{text}</b>",
         "line": {
          "color": "aqua"
         },
         "marker": {
          "color": [
           "aqua",
           "deeppink"
          ]
         },
         "mode": "markers+lines",
         "name": "Packet 1",
         "text": [
          "No Interaction",
          "Line"
         ],
         "type": "scatter",
         "x": [
          1235520000000000,
          1237679040791942
         ],
         "y": [
          0,
          3853769284715.758
         ]
        },
        {
         "hovertemplate": "<b>X</b>: %{x}<br><b>Y</b>: %{y}<br><b>Last Interaction: %{text}</b>",
         "line": {
          "color": "deeppink"
         },
         "marker": {
          "color": [
           "deeppink",
           "deeppink"
          ]
         },
         "mode": "markers+lines",
         "name": "Packet 1",
         "text": [
          "Line",
          "Line"
         ],
         "type": "scatter",
         "x": [
          1237679040791942,
          1235470425289553.2
         ],
         "y": [
          3853769284715.758,
          11067910139258.242
         ]
        },
        {
         "hovertemplate": "<b>X</b>: %{x}<br><b>Y</b>: %{y}<br><b>Last Interaction: %{text}</b>",
         "line": {
          "color": "aqua"
         },
         "marker": {
          "color": [
           "aqua",
           "aqua",
           "aqua",
           "aqua",
           "aqua",
           "aqua",
           "aqua",
           "aqua",
           "aqua",
           "aqua",
           "aqua",
           "aqua",
           "aqua",
           "aqua",
           "aqua",
           "aqua",
           "aqua",
           "aqua",
           "aqua",
           "aqua",
           "aqua"
          ]
         },
         "mode": "markers+lines",
         "name": "Packet 2",
         "text": [
          "No Interaction",
          "No Interaction",
          "No Interaction",
          "No Interaction",
          "No Interaction",
          "No Interaction",
          "No Interaction",
          "No Interaction",
          "No Interaction",
          "No Interaction",
          "No Interaction",
          "No Interaction",
          "No Interaction",
          "No Interaction",
          "No Interaction",
          "No Interaction",
          "No Interaction",
          "No Interaction",
          "No Interaction",
          "No Interaction",
          "No Interaction"
         ],
         "type": "scatter",
         "x": [
          1128703683826586.2,
          1167696374695924.2,
          1206522387315814,
          1245201730366458,
          1283751273833906.5,
          1322185351133686.5,
          1360516225827531.8,
          1398754457594326.5,
          1436909192232549,
          1474988393676246,
          1512999031255749,
          1550947232061778.8,
          1588838405843830,
          1626677348103546,
          1664468325737803.8,
          1702215148612106.5,
          1739921229710930.5,
          1777589635953451.8,
          1815223131334763.5,
          1852824213721352.5,
          1890395146371311.2
         ],
         "y": [
          502531257253012.6,
          538930226112802,
          575173603853435.5,
          611280068214544.9,
          647265367021766.6,
          683142880258215.2,
          718924055736076.1,
          754618750723834.8,
          790235502658292,
          825781745727264,
          861263985674059.4,
          896687942026604.5,
          932058664687817.1,
          967380630171400.2,
          1002657821548105.1,
          1037893795258197.1,
          1073091737260707.6,
          1108254510468996,
          1143384695022290.2,
          1178484622633597,
          1213556406013247
         ]
        },
        {
         "hovertemplate": "<b>X</b>: %{x}<br><b>Y</b>: %{y}<br><b>Last Interaction: %{text}</b>",
         "line": {
          "color": "aqua"
         },
         "marker": {
          "color": [
           "aqua",
           "aqua",
           "aqua",
           "aqua",
           "aqua",
           "aqua",
           "aqua",
           "aqua",
           "aqua",
           "aqua",
           "aqua",
           "aqua",
           "aqua",
           "aqua",
           "aqua",
           "aqua",
           "aqua",
           "aqua",
           "aqua",
           "aqua",
           "aqua"
          ]
         },
         "mode": "markers+lines",
         "name": "Packet 3",
         "text": [
          "No Interaction",
          "No Interaction",
          "No Interaction",
          "No Interaction",
          "No Interaction",
          "No Interaction",
          "No Interaction",
          "No Interaction",
          "No Interaction",
          "No Interaction",
          "No Interaction",
          "No Interaction",
          "No Interaction",
          "No Interaction",
          "No Interaction",
          "No Interaction",
          "No Interaction",
          "No Interaction",
          "No Interaction",
          "No Interaction",
          "No Interaction"
         ],
         "type": "scatter",
         "x": [
          826724246768496.5,
          795071654108649.2,
          766286539350870.5,
          739488504563771.1,
          714156808018121.4,
          689954857755638.9,
          666651218094984,
          644079318419062.8,
          622114976638836.4,
          600662982840518.5,
          579648654480374.6,
          559012288320516,
          538705384440636.6,
          518687998987375.8,
          498926840787607.44,
          479393872672946.7,
          460065263991761.94,
          440920592928228.3,
          421942230000976.5,
          403114855256048.44,
          384425075650065.94
         ],
         "y": [
          918170294773830,
          1010851955990063.1,
          1095137381917751.4,
          1173604457524782,
          1247777961809459,
          1318643466544083,
          1386878636387652.5,
          1452971205209805.8,
          1517284789426711.5,
          1580098172298522.5,
          1641630031084681.2,
          1702055182278959,
          1761515638045449,
          1820128357608460.5,
          1877990820541383,
          1935185122215348.8,
          1991781040939036,
          2047838373640805.5,
          2103408741040552.8,
          2158537001352512.2,
          2213262370622028.5
         ]
        },
        {
         "hovertemplate": "<b>X</b>: %{x}<br><b>Y</b>: %{y}<br><b>Last Interaction: %{text}</b>",
         "line": {
          "color": "aqua"
         },
         "marker": {
          "color": [
           "aqua",
           "aqua",
           "aqua",
           "deeppink"
          ]
         },
         "mode": "markers+lines",
         "name": "Packet 4",
         "text": [
          "No Interaction",
          "No Interaction",
          "No Interaction",
          "Line"
         ],
         "type": "scatter",
         "x": [
          381796676890135.06,
          360640553115821.75,
          339916618249257.44,
          327503908006376.7
         ],
         "y": [
          1175049347012988,
          1234463042599621.2,
          1292663002604309,
          1327522176035267.2
         ]
        },
        {
         "hovertemplate": "<b>X</b>: %{x}<br><b>Y</b>: %{y}<br><b>Last Interaction: %{text}</b>",
         "line": {
          "color": "deeppink"
         },
         "marker": {
          "color": [
           "deeppink",
           "deeppink",
           "deeppink",
           "deeppink",
           "deeppink",
           "deeppink",
           "deeppink",
           "deeppink",
           "deeppink",
           "deeppink",
           "deeppink",
           "deeppink",
           "deeppink",
           "deeppink",
           "deeppink",
           "deeppink",
           "deeppink",
           "deeppink",
           "deeppink",
           "deeppink",
           "deeppink",
           "deeppink"
          ]
         },
         "mode": "markers+lines",
         "name": "Packet 4",
         "text": [
          "Line",
          "Line",
          "Line",
          "Line",
          "Line",
          "Line",
          "Line",
          "Line",
          "Line",
          "Line",
          "Line",
          "Line",
          "Line",
          "Line",
          "Line",
          "Line",
          "Line",
          "Line",
          "Line",
          "Line",
          "Line",
          "Line"
         ],
         "type": "scatter",
         "x": [
          327503908006376.7,
          298185300498063.44,
          288190704878819.5,
          288119258191749.1,
          287771790641134.6,
          287424931156385.94,
          287078615067660.2,
          286732786643405.4,
          286387397585199.56,
          286042405819053.06,
          285697774516766.44,
          285353471297511,
          285009467571836.44,
          284665737999148.44,
          284322260036278.8,
          283979013559695.4,
          283635980547639.94,
          283293144811335.56,
          282950491766611.06,
          282608008238988.25,
          282265682296631.94,
          281923503106600.94
         ],
         "y": [
          1327522176035267.2,
          1302922281730909.5,
          1294536276502712,
          1305185135803743.5,
          1356973864013303.5,
          1408671962298443.2,
          1460289069455371.2,
          1511833492061777,
          1563312428815295,
          1614732150685446.8,
          1666098146776523.5,
          1717415243328898.8,
          1768687701492385.5,
          1819919298186983,
          1871113393386906.2,
          1922272986428739,
          1973400763387604.2,
          2024499137139580,
          2075570281400520,
          2126616159776651.8,
          2177638550662992.2,
          2228639068668613
         ]
        },
        {
         "hovertemplate": "<b>X</b>: %{x}<br><b>Y</b>: %{y}<br><b>Last Interaction: %{text}</b>",
         "line": {
          "color": "aqua"
         },
         "marker": {
          "color": [
           "aqua",
           "blueviolet"
          ]
         },
         "mode": "markers+lines",
         "name": "Packet 5",
         "text": [
          "No Interaction",
          "EScattering"
         ],
         "type": "scatter",
         "x": [
          -129147006936451.05,
          -200478631445868.2
         ],
         "y": [
          1228751692165409.2,
          1226065161649576
         ]
        },
        {
         "hovertemplate": "<b>X</b>: %{x}<br><b>Y</b>: %{y}<br><b>Last Interaction: %{text}</b>",
         "line": {
          "color": "blueviolet"
         },
         "marker": {
          "color": [
           "blueviolet",
           "blueviolet"
          ]
         },
         "mode": "markers+lines",
         "name": "Packet 5",
         "text": [
          "EScattering",
          "EScattering"
         ],
         "type": "scatter",
         "x": [
          -200478631445868.2,
          -265904147033805.78
         ],
         "y": [
          1226065161649576,
          1206567302304444.2
         ]
        },
        {
         "hovertemplate": "<b>X</b>: %{x}<br><b>Y</b>: %{y}<br><b>Last Interaction: %{text}</b>",
         "line": {
          "color": "aqua"
         },
         "marker": {
          "color": [
           "aqua",
           "aqua",
           "aqua",
           "aqua",
           "aqua",
           "aqua",
           "aqua",
           "aqua",
           "aqua",
           "aqua",
           "aqua",
           "aqua",
           "aqua",
           "aqua",
           "aqua",
           "aqua",
           "aqua",
           "aqua",
           "aqua",
           "aqua",
           "aqua"
          ]
         },
         "mode": "markers+lines",
         "name": "Packet 6",
         "text": [
          "No Interaction",
          "No Interaction",
          "No Interaction",
          "No Interaction",
          "No Interaction",
          "No Interaction",
          "No Interaction",
          "No Interaction",
          "No Interaction",
          "No Interaction",
          "No Interaction",
          "No Interaction",
          "No Interaction",
          "No Interaction",
          "No Interaction",
          "No Interaction",
          "No Interaction",
          "No Interaction",
          "No Interaction",
          "No Interaction",
          "No Interaction"
         ],
         "type": "scatter",
         "x": [
          -617759999999999.8,
          -680099422605262.8,
          -740844572913789.9,
          -800268386219261.4,
          -858580652862581.8,
          -915946132383738.9,
          -972496569674043.8,
          -1028338935087131.8,
          -1083561235652416.8,
          -1138236712741806.5,
          -1192426937754601.8,
          -1246184136890248.8,
          -1299552965130876.8,
          -1352571879303740.5,
          -1405274214431869.5,
          -1457689037204751.5,
          -1509841829768747.5,
          -1561755042758808.5,
          -1613448546443521.2,
          -1664940001672622,
          -1716245167109459
         ],
         "y": [
          1069991706883749.8,
          1091524341216442.2,
          1112506298610567.1,
          1133031853533703.2,
          1153173469581251.8,
          1172988056278183.2,
          1192521119573242,
          1211809608052298,
          1230883920187199.5,
          1249769354250105.8,
          1268487177592735,
          1287055429645167,
          1305489534666420.2,
          1323802776013386.2,
          1342006667922664.2,
          1360111250307519.8,
          1378125324945652.8,
          1396056646501650,
          1413912078356815.5,
          1431697720737995,
          1449419016838618
         ]
        },
        {
         "hovertemplate": "<b>X</b>: %{x}<br><b>Y</b>: %{y}<br><b>Last Interaction: %{text}</b>",
         "line": {
          "color": "aqua"
         },
         "marker": {
          "color": [
           "aqua",
           "aqua",
           "aqua",
           "aqua",
           "aqua",
           "aqua",
           "aqua",
           "aqua",
           "aqua",
           "aqua",
           "aqua",
           "aqua",
           "aqua",
           "aqua",
           "aqua",
           "aqua",
           "aqua",
           "aqua",
           "aqua",
           "aqua",
           "aqua"
          ]
         },
         "mode": "markers+lines",
         "name": "Packet 7",
         "text": [
          "No Interaction",
          "No Interaction",
          "No Interaction",
          "No Interaction",
          "No Interaction",
          "No Interaction",
          "No Interaction",
          "No Interaction",
          "No Interaction",
          "No Interaction",
          "No Interaction",
          "No Interaction",
          "No Interaction",
          "No Interaction",
          "No Interaction",
          "No Interaction",
          "No Interaction",
          "No Interaction",
          "No Interaction",
          "No Interaction",
          "No Interaction"
         ],
         "type": "scatter",
         "x": [
          -999556676890135,
          -1068686444226490.4,
          -1135537230264705.8,
          -1200537718439576.8,
          -1264007293033765.8,
          -1326190515202465.5,
          -1387278893636463.2,
          -1447425219506164.2,
          -1506753337370247.8,
          -1565365001612866,
          -1623344808530229,
          -1680763820932607,
          -1737682282087911.2,
          -1794151681486317,
          -1850216350333633.8,
          -1905914709992194.5,
          -1961280260369705.8,
          -2016342370754279.5,
          -2071126918697407.8,
          -2125656810691745.2,
          -2179952409941177.8
         ],
         "y": [
          726220434912396.5,
          715450834105699,
          705036271653282.1,
          694909963741991,
          685022154074926.4,
          675334742914222.5,
          665817895469016.5,
          656447808680578,
          647205189030202.5,
          638074184387326.5,
          629041615648721.8,
          620096412068336.1,
          611229188456956,
          602431923360492.1,
          593697710500965.2,
          585020564284170.4,
          576395265820373.8,
          567817239721560.8,
          559282454571017.2,
          550787341807886,
          542328729085644.8
         ]
        },
        {
         "hovertemplate": "<b>X</b>: %{x}<br><b>Y</b>: %{y}<br><b>Last Interaction: %{text}</b>",
         "line": {
          "color": "aqua"
         },
         "marker": {
          "color": [
           "aqua",
           "aqua",
           "blueviolet"
          ]
         },
         "mode": "markers+lines",
         "name": "Packet 8",
         "text": [
          "No Interaction",
          "No Interaction",
          "EScattering"
         ],
         "type": "scatter",
         "x": [
          -1208520923658631.5,
          -1280407383520394,
          -1289033450366773
         ],
         "y": [
          256879052239158.5,
          120488772599185.64,
          104122524050666.78
         ]
        },
        {
         "hovertemplate": "<b>X</b>: %{x}<br><b>Y</b>: %{y}<br><b>Last Interaction: %{text}</b>",
         "line": {
          "color": "blueviolet"
         },
         "marker": {
          "color": [
           "blueviolet",
           "blueviolet",
           "blueviolet"
          ]
         },
         "mode": "markers+lines",
         "name": "Packet 8",
         "text": [
          "EScattering",
          "EScattering",
          "EScattering"
         ],
         "type": "scatter",
         "x": [
          -1289033450366773,
          -1282107552088212.2,
          -1233099652264927.2
         ],
         "y": [
          104122524050666.78,
          100800977050681.89,
          77297593650225.83
         ]
        },
        {
         "hovertemplate": "<b>X</b>: %{x}<br><b>Y</b>: %{y}<br><b>Last Interaction: %{text}</b>",
         "line": {
          "color": "aqua"
         },
         "marker": {
          "color": [
           "aqua",
           "blueviolet"
          ]
         },
         "mode": "markers+lines",
         "name": "Packet 9",
         "text": [
          "No Interaction",
          "EScattering"
         ],
         "type": "scatter",
         "x": [
          -1208520923658631.5,
          -1210491913214834
         ],
         "y": [
          -256879052239157.7,
          -389564347311873.9
         ]
        },
        {
         "hovertemplate": "<b>X</b>: %{x}<br><b>Y</b>: %{y}<br><b>Last Interaction: %{text}</b>",
         "line": {
          "color": "blueviolet"
         },
         "marker": {
          "color": [
           "blueviolet",
           "blueviolet"
          ]
         },
         "mode": "markers+lines",
         "name": "Packet 9",
         "text": [
          "EScattering",
          "EScattering"
         ],
         "type": "scatter",
         "x": [
          -1210491913214834,
          -1141631550520213.2
         ],
         "y": [
          -389564347311873.9,
          -472426791425734
         ]
        },
        {
         "hovertemplate": "<b>X</b>: %{x}<br><b>Y</b>: %{y}<br><b>Last Interaction: %{text}</b>",
         "line": {
          "color": "aqua"
         },
         "marker": {
          "color": [
           "aqua",
           "aqua",
           "aqua",
           "aqua",
           "aqua",
           "aqua",
           "aqua",
           "aqua",
           "aqua",
           "aqua",
           "aqua",
           "aqua",
           "aqua",
           "aqua",
           "aqua",
           "aqua",
           "aqua",
           "aqua",
           "aqua",
           "aqua",
           "aqua"
          ]
         },
         "mode": "markers+lines",
         "name": "Packet 10",
         "text": [
          "No Interaction",
          "No Interaction",
          "No Interaction",
          "No Interaction",
          "No Interaction",
          "No Interaction",
          "No Interaction",
          "No Interaction",
          "No Interaction",
          "No Interaction",
          "No Interaction",
          "No Interaction",
          "No Interaction",
          "No Interaction",
          "No Interaction",
          "No Interaction",
          "No Interaction",
          "No Interaction",
          "No Interaction",
          "No Interaction",
          "No Interaction"
         ],
         "type": "scatter",
         "x": [
          -999556676890135.2,
          -903383353359636.2,
          -840273762979182.1,
          -788510166895037.6,
          -742942105167492.5,
          -701370486089897.6,
          -662620910601120,
          -625982172156503.4,
          -590986863991109.1,
          -557309528354881.2,
          -524713557455347.5,
          -493021079776526.8,
          -462094750285589.8,
          -431826166707832.94,
          -402128191774942.75,
          -372929688254920.3,
          -344171803568051.94,
          -315805282937906.1,
          -287788484790687.75,
          -260085887519684.88,
          -232666947518551.22
         ],
         "y": [
          -726220434912396.2,
          -915346452972151.2,
          -1039452235031896.6,
          -1141245980412268.5,
          -1230856131635738.5,
          -1312607229464328.5,
          -1388808744028544.2,
          -1460859271704918.5,
          -1529677973618615.2,
          -1595904866419317.8,
          -1660005242227431.5,
          -1722328887556609.2,
          -1783145893095261.5,
          -1842669433243635,
          -1901070864506585,
          -1958490079121691.2,
          -2015042811407418.8,
          -2070825921484591.8,
          -2125921298017845.2,
          -2180398794681628.5,
          -2234318475851730.5
         ]
        },
        {
         "hovertemplate": "<b>X</b>: %{x}<br><b>Y</b>: %{y}<br><b>Last Interaction: %{text}</b>",
         "line": {
          "color": "aqua"
         },
         "marker": {
          "color": [
           "aqua",
           "blueviolet"
          ]
         },
         "mode": "markers+lines",
         "name": "Packet 11",
         "text": [
          "No Interaction",
          "EScattering"
         ],
         "type": "scatter",
         "x": [
          -617760000000000.5,
          -587852869521720.9
         ],
         "y": [
          -1069991706883749.2,
          -1119890787364104.2
         ]
        },
        {
         "hovertemplate": "<b>X</b>: %{x}<br><b>Y</b>: %{y}<br><b>Last Interaction: %{text}</b>",
         "line": {
          "color": "blueviolet"
         },
         "marker": {
          "color": [
           "blueviolet",
           "blueviolet",
           "blueviolet",
           "blueviolet",
           "blueviolet",
           "blueviolet",
           "blueviolet",
           "blueviolet",
           "blueviolet",
           "blueviolet",
           "blueviolet",
           "blueviolet",
           "blueviolet",
           "blueviolet",
           "blueviolet",
           "blueviolet",
           "blueviolet",
           "blueviolet",
           "blueviolet",
           "blueviolet",
           "blueviolet",
           "blueviolet"
          ]
         },
         "mode": "markers+lines",
         "name": "Packet 11",
         "text": [
          "EScattering",
          "EScattering",
          "EScattering",
          "EScattering",
          "EScattering",
          "EScattering",
          "EScattering",
          "EScattering",
          "EScattering",
          "EScattering",
          "EScattering",
          "EScattering",
          "EScattering",
          "EScattering",
          "EScattering",
          "EScattering",
          "EScattering",
          "EScattering",
          "EScattering",
          "EScattering",
          "EScattering",
          "EScattering"
         ],
         "type": "scatter",
         "x": [
          -587852869521720.9,
          -574176120625565.9,
          -542908615820657.9,
          -542741180590580.25,
          -524233789627195.5,
          -506054339167789,
          -488237796154212.9,
          -470730397077023.94,
          -453489191140535.8,
          -436479325799157.8,
          -419672137841407.75,
          -403043777694809.5,
          -386574196806957.7,
          -370246388382737.56,
          -354045808749457.25,
          -337959929962749.6,
          -321977889391066.56,
          -306090212051728.25,
          -290288588271538.56,
          -274565693941185.56,
          -258915043932003.75,
          -243330871598151.03
         ],
         "y": [
          -1119890787364104.2,
          -1150774693239026.5,
          -1221380849911974.5,
          -1221758940781751.2,
          -1284277853471401.2,
          -1345688966375756.8,
          -1405874159377886,
          -1465015048360838,
          -1523256723307894.2,
          -1580716917899569,
          -1637492457929386.2,
          -1693663908472250,
          -1749298994562980.8,
          -1804455166024786,
          -1859181552127425.5,
          -1913520472907351.8,
          -1967508622889179,
          -2021178009048714.8,
          -2074556701886771,
          -2127669442618988,
          -2180538138341471,
          -2233182269078653.8
         ]
        },
        {
         "hovertemplate": "<b>X</b>: %{x}<br><b>Y</b>: %{y}<br><b>Last Interaction: %{text}</b>",
         "line": {
          "color": "aqua"
         },
         "marker": {
          "color": [
           "aqua",
           "blueviolet"
          ]
         },
         "mode": "markers+lines",
         "name": "Packet 12",
         "text": [
          "No Interaction",
          "EScattering"
         ],
         "type": "scatter",
         "x": [
          -129147006936452.16,
          -105025851270085.06
         ],
         "y": [
          -1228751692165409,
          -1251168507558074.8
         ]
        },
        {
         "hovertemplate": "<b>X</b>: %{x}<br><b>Y</b>: %{y}<br><b>Last Interaction: %{text}</b>",
         "line": {
          "color": "blueviolet"
         },
         "marker": {
          "color": [
           "blueviolet",
           "blueviolet",
           "blueviolet",
           "blueviolet",
           "blueviolet",
           "blueviolet",
           "blueviolet",
           "blueviolet",
           "blueviolet",
           "blueviolet",
           "blueviolet",
           "blueviolet",
           "blueviolet",
           "blueviolet",
           "blueviolet",
           "blueviolet",
           "blueviolet",
           "blueviolet",
           "blueviolet",
           "blueviolet",
           "blueviolet",
           "blueviolet"
          ]
         },
         "mode": "markers+lines",
         "name": "Packet 12",
         "text": [
          "EScattering",
          "EScattering",
          "EScattering",
          "EScattering",
          "EScattering",
          "EScattering",
          "EScattering",
          "EScattering",
          "EScattering",
          "EScattering",
          "EScattering",
          "EScattering",
          "EScattering",
          "EScattering",
          "EScattering",
          "EScattering",
          "EScattering",
          "EScattering",
          "EScattering",
          "EScattering",
          "EScattering",
          "EScattering"
         ],
         "type": "scatter",
         "x": [
          -105025851270085.06,
          -76199263096367.17,
          -29853984566838.42,
          15012924914170.977,
          58670978389344.98,
          101322897761720.2,
          143125141822743.4,
          184201047672873.5,
          215662287163645.56,
          639890094712048.4,
          858770056025358,
          1008314965232024.9,
          1131532255639882.5,
          1239906415380035,
          1338521424986025.2,
          1430148087192557.8,
          1516488047961229.2,
          1598671748327045,
          1677493343364394.8,
          1753534630676812,
          1827235985233622.2,
          1898939579146642.5
         ],
         "y": [
          -1251168507558074.8,
          -1283804613015380.5,
          -1336274554599272,
          -1387070756374570,
          -1436498348314691.5,
          -1484786842610469.8,
          -1532113374536695.2,
          -1578617580549582,
          -1614236514141400.8,
          -1509874446129017,
          -1456028929633681.2,
          -1419240167304019.8,
          -1388928125016741,
          -1362267563808018,
          -1338007800170605,
          -1315467203390289,
          -1294227160428469.8,
          -1274009577388235.2,
          -1254619088326072.8,
          -1235912568251142.8,
          -1217781682816469.8,
          -1200142256047329
         ]
        },
        {
         "hovertemplate": "<b>X</b>: %{x}<br><b>Y</b>: %{y}<br><b>Last Interaction: %{text}</b>",
         "line": {
          "color": "aqua"
         },
         "marker": {
          "color": [
           "aqua",
           "blueviolet"
          ]
         },
         "mode": "markers+lines",
         "name": "Packet 13",
         "text": [
          "No Interaction",
          "EScattering"
         ],
         "type": "scatter",
         "x": [
          381796676890134.8,
          420024892544411.4
         ],
         "y": [
          -1175049347012988.2,
          -1182510060525456.2
         ]
        },
        {
         "hovertemplate": "<b>X</b>: %{x}<br><b>Y</b>: %{y}<br><b>Last Interaction: %{text}</b>",
         "line": {
          "color": "blueviolet"
         },
         "marker": {
          "color": [
           "blueviolet",
           "deeppink"
          ]
         },
         "mode": "markers+lines",
         "name": "Packet 13",
         "text": [
          "EScattering",
          "Line"
         ],
         "type": "scatter",
         "x": [
          420024892544411.4,
          441661228549474.75
         ],
         "y": [
          -1182510060525456.2,
          -1193995425014029
         ]
        },
        {
         "hovertemplate": "<b>X</b>: %{x}<br><b>Y</b>: %{y}<br><b>Last Interaction: %{text}</b>",
         "line": {
          "color": "deeppink"
         },
         "marker": {
          "color": [
           "deeppink",
           "deeppink"
          ]
         },
         "mode": "markers+lines",
         "name": "Packet 13",
         "text": [
          "Line",
          "Line"
         ],
         "type": "scatter",
         "x": [
          441661228549474.75,
          442596540528267.3
         ],
         "y": [
          -1193995425014029,
          -1153524153501958.5
         ]
        },
        {
         "hovertemplate": "<b>X</b>: %{x}<br><b>Y</b>: %{y}<br><b>Last Interaction: %{text}</b>",
         "line": {
          "color": "aqua"
         },
         "marker": {
          "color": [
           "aqua",
           "aqua",
           "aqua",
           "aqua",
           "aqua",
           "aqua",
           "aqua",
           "aqua",
           "aqua",
           "aqua",
           "aqua",
           "aqua",
           "aqua",
           "aqua",
           "aqua",
           "aqua",
           "aqua",
           "aqua",
           "aqua",
           "aqua",
           "aqua"
          ]
         },
         "mode": "markers+lines",
         "name": "Packet 14",
         "text": [
          "No Interaction",
          "No Interaction",
          "No Interaction",
          "No Interaction",
          "No Interaction",
          "No Interaction",
          "No Interaction",
          "No Interaction",
          "No Interaction",
          "No Interaction",
          "No Interaction",
          "No Interaction",
          "No Interaction",
          "No Interaction",
          "No Interaction",
          "No Interaction",
          "No Interaction",
          "No Interaction",
          "No Interaction",
          "No Interaction",
          "No Interaction"
         ],
         "type": "scatter",
         "x": [
          826724246768496,
          945994407913866.6,
          1046258105091989.5,
          1135591857660009.5,
          1217693534988938.8,
          1294610875618973.5,
          1367612115471307.2,
          1437543539612367.5,
          1505000919819967.2,
          1570420956848558.8,
          1634134031793043,
          1696396530089954.8,
          1757411622103618.8,
          1817343155817415.8,
          1876325252009715.8,
          1934469116210463.2,
          1991867990151281.8,
          2048600825174344,
          2104735056669385.8,
          2160328732888781.8,
          2215432171478184.5
         ],
         "y": [
          -918170294773830.5,
          -871237735805614,
          -831784180658251.9,
          -796631535855999.4,
          -764324697535113.4,
          -734057884862682,
          -705332049656115.2,
          -677814180511698.8,
          -651269842480866.6,
          -625527194730059.1,
          -600456232989395.1,
          -575956070125805.4,
          -551946759025837.8,
          -528363825850706.5,
          -505154494354623.25,
          -482275005394131.8,
          -459688668542843.3,
          -437364416612734.06,
          -415275713918977.75,
          -393399718595667.06,
          -371716630754471.94
         ]
        },
        {
         "hovertemplate": "<b>X</b>: %{x}<br><b>Y</b>: %{y}<br><b>Last Interaction: %{text}</b>",
         "line": {
          "color": "aqua"
         },
         "marker": {
          "color": [
           "aqua",
           "aqua",
           "aqua",
           "aqua",
           "aqua",
           "aqua",
           "aqua",
           "aqua",
           "aqua",
           "aqua",
           "aqua",
           "aqua",
           "aqua",
           "aqua",
           "aqua",
           "aqua",
           "aqua",
           "aqua",
           "aqua",
           "aqua",
           "aqua"
          ]
         },
         "mode": "markers+lines",
         "name": "Packet 15",
         "text": [
          "No Interaction",
          "No Interaction",
          "No Interaction",
          "No Interaction",
          "No Interaction",
          "No Interaction",
          "No Interaction",
          "No Interaction",
          "No Interaction",
          "No Interaction",
          "No Interaction",
          "No Interaction",
          "No Interaction",
          "No Interaction",
          "No Interaction",
          "No Interaction",
          "No Interaction",
          "No Interaction",
          "No Interaction",
          "No Interaction",
          "No Interaction"
         ],
         "type": "scatter",
         "x": [
          1128703683826585.8,
          1206807001601396.2,
          1277943561433169.8,
          1344234007557344.5,
          1406939416577522.5,
          1466877851967377.2,
          1524613261142742.2,
          1580552326231522.5,
          1634998700550672,
          1688185478764399,
          1740295683245438.2,
          1791475749132530.5,
          1841844716902351,
          1891500685766302,
          1940525459062653.5,
          1988987961268517,
          2036946799283270.2,
          2084452214390904.2,
          2131547591895202.8,
          2178270644094348.2,
          2224654348280393
         ],
         "y": [
          -502531257253013.56,
          -444496876234072.06,
          -391639118903494.4,
          -342382248415891.1,
          -295789226471318.56,
          -251252194035341.56,
          -208352112069191.7,
          -166786796923864.53,
          -126330620126769.19,
          -86810381550926.05,
          -48090087100093.3,
          -10060928686749.67,
          27365546274437.434,
          64262230039190.69,
          100689906275055.7,
          136699789059490.11,
          172335426032027.75,
          207634148792670.3,
          242628194630719.28,
          277345585529669.25,
          311810825144253.2
         ]
        }
       ],
       "layout": {
        "height": 900,
        "paper_bgcolor": "#fafafa",
        "plot_bgcolor": "#fafafa",
        "shapes": [
         {
          "fillcolor": "darkgrey",
          "line": {
           "color": "black"
          },
          "opacity": 1,
          "type": "circle",
          "x0": -1235520000000000,
          "x1": 1235520000000000,
          "xref": "x",
          "y0": -1235520000000000,
          "y1": 1235520000000000,
          "yref": "y"
         },
         {
          "line": {
           "color": "black"
          },
          "opacity": 0.2,
          "type": "circle",
          "x0": -1286064000000000,
          "x1": 1286064000000000,
          "xref": "x",
          "y0": -1286064000000000,
          "y1": 1286064000000000,
          "yref": "y"
         },
         {
          "line": {
           "color": "black"
          },
          "opacity": 0.2,
          "type": "circle",
          "x0": -1336608000000000,
          "x1": 1336608000000000,
          "xref": "x",
          "y0": -1336608000000000,
          "y1": 1336608000000000,
          "yref": "y"
         },
         {
          "line": {
           "color": "black"
          },
          "opacity": 0.2,
          "type": "circle",
          "x0": -1387152000000000,
          "x1": 1387152000000000,
          "xref": "x",
          "y0": -1387152000000000,
          "y1": 1387152000000000,
          "yref": "y"
         },
         {
          "line": {
           "color": "black"
          },
          "opacity": 0.2,
          "type": "circle",
          "x0": -1437696000000000,
          "x1": 1437696000000000,
          "xref": "x",
          "y0": -1437696000000000,
          "y1": 1437696000000000,
          "yref": "y"
         },
         {
          "line": {
           "color": "black"
          },
          "opacity": 0.2,
          "type": "circle",
          "x0": -1488240000000000,
          "x1": 1488240000000000,
          "xref": "x",
          "y0": -1488240000000000,
          "y1": 1488240000000000,
          "yref": "y"
         },
         {
          "line": {
           "color": "black"
          },
          "opacity": 0.2,
          "type": "circle",
          "x0": -1538784000000000,
          "x1": 1538784000000000,
          "xref": "x",
          "y0": -1538784000000000,
          "y1": 1538784000000000,
          "yref": "y"
         },
         {
          "line": {
           "color": "black"
          },
          "opacity": 0.2,
          "type": "circle",
          "x0": -1589328000000000,
          "x1": 1589328000000000,
          "xref": "x",
          "y0": -1589328000000000,
          "y1": 1589328000000000,
          "yref": "y"
         },
         {
          "line": {
           "color": "black"
          },
          "opacity": 0.2,
          "type": "circle",
          "x0": -1639872000000000,
          "x1": 1639872000000000,
          "xref": "x",
          "y0": -1639872000000000,
          "y1": 1639872000000000,
          "yref": "y"
         },
         {
          "line": {
           "color": "black"
          },
          "opacity": 0.2,
          "type": "circle",
          "x0": -1690416000000000,
          "x1": 1690416000000000,
          "xref": "x",
          "y0": -1690416000000000,
          "y1": 1690416000000000,
          "yref": "y"
         },
         {
          "line": {
           "color": "black"
          },
          "opacity": 0.2,
          "type": "circle",
          "x0": -1740960000000000,
          "x1": 1740960000000000,
          "xref": "x",
          "y0": -1740960000000000,
          "y1": 1740960000000000,
          "yref": "y"
         },
         {
          "line": {
           "color": "black"
          },
          "opacity": 0.2,
          "type": "circle",
          "x0": -1791504000000000,
          "x1": 1791504000000000,
          "xref": "x",
          "y0": -1791504000000000,
          "y1": 1791504000000000,
          "yref": "y"
         },
         {
          "line": {
           "color": "black"
          },
          "opacity": 0.2,
          "type": "circle",
          "x0": -1842048000000000,
          "x1": 1842048000000000,
          "xref": "x",
          "y0": -1842048000000000,
          "y1": 1842048000000000,
          "yref": "y"
         },
         {
          "line": {
           "color": "black"
          },
          "opacity": 0.2,
          "type": "circle",
          "x0": -1892592000000000,
          "x1": 1892592000000000,
          "xref": "x",
          "y0": -1892592000000000,
          "y1": 1892592000000000,
          "yref": "y"
         },
         {
          "line": {
           "color": "black"
          },
          "opacity": 0.2,
          "type": "circle",
          "x0": -1943136000000000,
          "x1": 1943136000000000,
          "xref": "x",
          "y0": -1943136000000000,
          "y1": 1943136000000000,
          "yref": "y"
         },
         {
          "line": {
           "color": "black"
          },
          "opacity": 0.2,
          "type": "circle",
          "x0": -1993680000000000,
          "x1": 1993680000000000,
          "xref": "x",
          "y0": -1993680000000000,
          "y1": 1993680000000000,
          "yref": "y"
         },
         {
          "line": {
           "color": "black"
          },
          "opacity": 0.2,
          "type": "circle",
          "x0": -2044224000000000,
          "x1": 2044224000000000,
          "xref": "x",
          "y0": -2044224000000000,
          "y1": 2044224000000000,
          "yref": "y"
         },
         {
          "line": {
           "color": "black"
          },
          "opacity": 0.2,
          "type": "circle",
          "x0": -2094768000000000,
          "x1": 2094768000000000,
          "xref": "x",
          "y0": -2094768000000000,
          "y1": 2094768000000000,
          "yref": "y"
         },
         {
          "line": {
           "color": "black"
          },
          "opacity": 0.2,
          "type": "circle",
          "x0": -2145312000000000,
          "x1": 2145312000000000,
          "xref": "x",
          "y0": -2145312000000000,
          "y1": 2145312000000000,
          "yref": "y"
         },
         {
          "line": {
           "color": "black"
          },
          "opacity": 0.2,
          "type": "circle",
          "x0": -2195856000000000,
          "x1": 2195856000000000,
          "xref": "x",
          "y0": -2195856000000000,
          "y1": 2195856000000000,
          "yref": "y"
         },
         {
          "line": {
           "color": "black"
          },
          "opacity": 1,
          "type": "circle",
          "x0": -2246400000000000,
          "x1": 2246400000000000,
          "xref": "x",
          "y0": -2246400000000000,
          "y1": 2246400000000000,
          "yref": "y"
         }
        ],
        "template": {
         "data": {
          "bar": [
           {
            "error_x": {
             "color": "#2a3f5f"
            },
            "error_y": {
             "color": "#2a3f5f"
            },
            "marker": {
             "line": {
              "color": "#E5ECF6",
              "width": 0.5
             },
             "pattern": {
              "fillmode": "overlay",
              "size": 10,
              "solidity": 0.2
             }
            },
            "type": "bar"
           }
          ],
          "barpolar": [
           {
            "marker": {
             "line": {
              "color": "#E5ECF6",
              "width": 0.5
             },
             "pattern": {
              "fillmode": "overlay",
              "size": 10,
              "solidity": 0.2
             }
            },
            "type": "barpolar"
           }
          ],
          "carpet": [
           {
            "aaxis": {
             "endlinecolor": "#2a3f5f",
             "gridcolor": "white",
             "linecolor": "white",
             "minorgridcolor": "white",
             "startlinecolor": "#2a3f5f"
            },
            "baxis": {
             "endlinecolor": "#2a3f5f",
             "gridcolor": "white",
             "linecolor": "white",
             "minorgridcolor": "white",
             "startlinecolor": "#2a3f5f"
            },
            "type": "carpet"
           }
          ],
          "choropleth": [
           {
            "colorbar": {
             "outlinewidth": 0,
             "ticks": ""
            },
            "type": "choropleth"
           }
          ],
          "contour": [
           {
            "colorbar": {
             "outlinewidth": 0,
             "ticks": ""
            },
            "colorscale": [
             [
              0,
              "#0d0887"
             ],
             [
              0.1111111111111111,
              "#46039f"
             ],
             [
              0.2222222222222222,
              "#7201a8"
             ],
             [
              0.3333333333333333,
              "#9c179e"
             ],
             [
              0.4444444444444444,
              "#bd3786"
             ],
             [
              0.5555555555555556,
              "#d8576b"
             ],
             [
              0.6666666666666666,
              "#ed7953"
             ],
             [
              0.7777777777777778,
              "#fb9f3a"
             ],
             [
              0.8888888888888888,
              "#fdca26"
             ],
             [
              1,
              "#f0f921"
             ]
            ],
            "type": "contour"
           }
          ],
          "contourcarpet": [
           {
            "colorbar": {
             "outlinewidth": 0,
             "ticks": ""
            },
            "type": "contourcarpet"
           }
          ],
          "heatmap": [
           {
            "colorbar": {
             "outlinewidth": 0,
             "ticks": ""
            },
            "colorscale": [
             [
              0,
              "#0d0887"
             ],
             [
              0.1111111111111111,
              "#46039f"
             ],
             [
              0.2222222222222222,
              "#7201a8"
             ],
             [
              0.3333333333333333,
              "#9c179e"
             ],
             [
              0.4444444444444444,
              "#bd3786"
             ],
             [
              0.5555555555555556,
              "#d8576b"
             ],
             [
              0.6666666666666666,
              "#ed7953"
             ],
             [
              0.7777777777777778,
              "#fb9f3a"
             ],
             [
              0.8888888888888888,
              "#fdca26"
             ],
             [
              1,
              "#f0f921"
             ]
            ],
            "type": "heatmap"
           }
          ],
          "heatmapgl": [
           {
            "colorbar": {
             "outlinewidth": 0,
             "ticks": ""
            },
            "colorscale": [
             [
              0,
              "#0d0887"
             ],
             [
              0.1111111111111111,
              "#46039f"
             ],
             [
              0.2222222222222222,
              "#7201a8"
             ],
             [
              0.3333333333333333,
              "#9c179e"
             ],
             [
              0.4444444444444444,
              "#bd3786"
             ],
             [
              0.5555555555555556,
              "#d8576b"
             ],
             [
              0.6666666666666666,
              "#ed7953"
             ],
             [
              0.7777777777777778,
              "#fb9f3a"
             ],
             [
              0.8888888888888888,
              "#fdca26"
             ],
             [
              1,
              "#f0f921"
             ]
            ],
            "type": "heatmapgl"
           }
          ],
          "histogram": [
           {
            "marker": {
             "pattern": {
              "fillmode": "overlay",
              "size": 10,
              "solidity": 0.2
             }
            },
            "type": "histogram"
           }
          ],
          "histogram2d": [
           {
            "colorbar": {
             "outlinewidth": 0,
             "ticks": ""
            },
            "colorscale": [
             [
              0,
              "#0d0887"
             ],
             [
              0.1111111111111111,
              "#46039f"
             ],
             [
              0.2222222222222222,
              "#7201a8"
             ],
             [
              0.3333333333333333,
              "#9c179e"
             ],
             [
              0.4444444444444444,
              "#bd3786"
             ],
             [
              0.5555555555555556,
              "#d8576b"
             ],
             [
              0.6666666666666666,
              "#ed7953"
             ],
             [
              0.7777777777777778,
              "#fb9f3a"
             ],
             [
              0.8888888888888888,
              "#fdca26"
             ],
             [
              1,
              "#f0f921"
             ]
            ],
            "type": "histogram2d"
           }
          ],
          "histogram2dcontour": [
           {
            "colorbar": {
             "outlinewidth": 0,
             "ticks": ""
            },
            "colorscale": [
             [
              0,
              "#0d0887"
             ],
             [
              0.1111111111111111,
              "#46039f"
             ],
             [
              0.2222222222222222,
              "#7201a8"
             ],
             [
              0.3333333333333333,
              "#9c179e"
             ],
             [
              0.4444444444444444,
              "#bd3786"
             ],
             [
              0.5555555555555556,
              "#d8576b"
             ],
             [
              0.6666666666666666,
              "#ed7953"
             ],
             [
              0.7777777777777778,
              "#fb9f3a"
             ],
             [
              0.8888888888888888,
              "#fdca26"
             ],
             [
              1,
              "#f0f921"
             ]
            ],
            "type": "histogram2dcontour"
           }
          ],
          "mesh3d": [
           {
            "colorbar": {
             "outlinewidth": 0,
             "ticks": ""
            },
            "type": "mesh3d"
           }
          ],
          "parcoords": [
           {
            "line": {
             "colorbar": {
              "outlinewidth": 0,
              "ticks": ""
             }
            },
            "type": "parcoords"
           }
          ],
          "pie": [
           {
            "automargin": true,
            "type": "pie"
           }
          ],
          "scatter": [
           {
            "fillpattern": {
             "fillmode": "overlay",
             "size": 10,
             "solidity": 0.2
            },
            "type": "scatter"
           }
          ],
          "scatter3d": [
           {
            "line": {
             "colorbar": {
              "outlinewidth": 0,
              "ticks": ""
             }
            },
            "marker": {
             "colorbar": {
              "outlinewidth": 0,
              "ticks": ""
             }
            },
            "type": "scatter3d"
           }
          ],
          "scattercarpet": [
           {
            "marker": {
             "colorbar": {
              "outlinewidth": 0,
              "ticks": ""
             }
            },
            "type": "scattercarpet"
           }
          ],
          "scattergeo": [
           {
            "marker": {
             "colorbar": {
              "outlinewidth": 0,
              "ticks": ""
             }
            },
            "type": "scattergeo"
           }
          ],
          "scattergl": [
           {
            "marker": {
             "colorbar": {
              "outlinewidth": 0,
              "ticks": ""
             }
            },
            "type": "scattergl"
           }
          ],
          "scattermapbox": [
           {
            "marker": {
             "colorbar": {
              "outlinewidth": 0,
              "ticks": ""
             }
            },
            "type": "scattermapbox"
           }
          ],
          "scatterpolar": [
           {
            "marker": {
             "colorbar": {
              "outlinewidth": 0,
              "ticks": ""
             }
            },
            "type": "scatterpolar"
           }
          ],
          "scatterpolargl": [
           {
            "marker": {
             "colorbar": {
              "outlinewidth": 0,
              "ticks": ""
             }
            },
            "type": "scatterpolargl"
           }
          ],
          "scatterternary": [
           {
            "marker": {
             "colorbar": {
              "outlinewidth": 0,
              "ticks": ""
             }
            },
            "type": "scatterternary"
           }
          ],
          "surface": [
           {
            "colorbar": {
             "outlinewidth": 0,
             "ticks": ""
            },
            "colorscale": [
             [
              0,
              "#0d0887"
             ],
             [
              0.1111111111111111,
              "#46039f"
             ],
             [
              0.2222222222222222,
              "#7201a8"
             ],
             [
              0.3333333333333333,
              "#9c179e"
             ],
             [
              0.4444444444444444,
              "#bd3786"
             ],
             [
              0.5555555555555556,
              "#d8576b"
             ],
             [
              0.6666666666666666,
              "#ed7953"
             ],
             [
              0.7777777777777778,
              "#fb9f3a"
             ],
             [
              0.8888888888888888,
              "#fdca26"
             ],
             [
              1,
              "#f0f921"
             ]
            ],
            "type": "surface"
           }
          ],
          "table": [
           {
            "cells": {
             "fill": {
              "color": "#EBF0F8"
             },
             "line": {
              "color": "white"
             }
            },
            "header": {
             "fill": {
              "color": "#C8D4E3"
             },
             "line": {
              "color": "white"
             }
            },
            "type": "table"
           }
          ]
         },
         "layout": {
          "annotationdefaults": {
           "arrowcolor": "#2a3f5f",
           "arrowhead": 0,
           "arrowwidth": 1
          },
          "autotypenumbers": "strict",
          "coloraxis": {
           "colorbar": {
            "outlinewidth": 0,
            "ticks": ""
           }
          },
          "colorscale": {
           "diverging": [
            [
             0,
             "#8e0152"
            ],
            [
             0.1,
             "#c51b7d"
            ],
            [
             0.2,
             "#de77ae"
            ],
            [
             0.3,
             "#f1b6da"
            ],
            [
             0.4,
             "#fde0ef"
            ],
            [
             0.5,
             "#f7f7f7"
            ],
            [
             0.6,
             "#e6f5d0"
            ],
            [
             0.7,
             "#b8e186"
            ],
            [
             0.8,
             "#7fbc41"
            ],
            [
             0.9,
             "#4d9221"
            ],
            [
             1,
             "#276419"
            ]
           ],
           "sequential": [
            [
             0,
             "#0d0887"
            ],
            [
             0.1111111111111111,
             "#46039f"
            ],
            [
             0.2222222222222222,
             "#7201a8"
            ],
            [
             0.3333333333333333,
             "#9c179e"
            ],
            [
             0.4444444444444444,
             "#bd3786"
            ],
            [
             0.5555555555555556,
             "#d8576b"
            ],
            [
             0.6666666666666666,
             "#ed7953"
            ],
            [
             0.7777777777777778,
             "#fb9f3a"
            ],
            [
             0.8888888888888888,
             "#fdca26"
            ],
            [
             1,
             "#f0f921"
            ]
           ],
           "sequentialminus": [
            [
             0,
             "#0d0887"
            ],
            [
             0.1111111111111111,
             "#46039f"
            ],
            [
             0.2222222222222222,
             "#7201a8"
            ],
            [
             0.3333333333333333,
             "#9c179e"
            ],
            [
             0.4444444444444444,
             "#bd3786"
            ],
            [
             0.5555555555555556,
             "#d8576b"
            ],
            [
             0.6666666666666666,
             "#ed7953"
            ],
            [
             0.7777777777777778,
             "#fb9f3a"
            ],
            [
             0.8888888888888888,
             "#fdca26"
            ],
            [
             1,
             "#f0f921"
            ]
           ]
          },
          "colorway": [
           "#636efa",
           "#EF553B",
           "#00cc96",
           "#ab63fa",
           "#FFA15A",
           "#19d3f3",
           "#FF6692",
           "#B6E880",
           "#FF97FF",
           "#FECB52"
          ],
          "font": {
           "color": "#2a3f5f"
          },
          "geo": {
           "bgcolor": "white",
           "lakecolor": "white",
           "landcolor": "#E5ECF6",
           "showlakes": true,
           "showland": true,
           "subunitcolor": "white"
          },
          "hoverlabel": {
           "align": "left"
          },
          "hovermode": "closest",
          "mapbox": {
           "style": "light"
          },
          "paper_bgcolor": "white",
          "plot_bgcolor": "#E5ECF6",
          "polar": {
           "angularaxis": {
            "gridcolor": "white",
            "linecolor": "white",
            "ticks": ""
           },
           "bgcolor": "#E5ECF6",
           "radialaxis": {
            "gridcolor": "white",
            "linecolor": "white",
            "ticks": ""
           }
          },
          "scene": {
           "xaxis": {
            "backgroundcolor": "#E5ECF6",
            "gridcolor": "white",
            "gridwidth": 2,
            "linecolor": "white",
            "showbackground": true,
            "ticks": "",
            "zerolinecolor": "white"
           },
           "yaxis": {
            "backgroundcolor": "#E5ECF6",
            "gridcolor": "white",
            "gridwidth": 2,
            "linecolor": "white",
            "showbackground": true,
            "ticks": "",
            "zerolinecolor": "white"
           },
           "zaxis": {
            "backgroundcolor": "#E5ECF6",
            "gridcolor": "white",
            "gridwidth": 2,
            "linecolor": "white",
            "showbackground": true,
            "ticks": "",
            "zerolinecolor": "white"
           }
          },
          "shapedefaults": {
           "line": {
            "color": "#2a3f5f"
           }
          },
          "ternary": {
           "aaxis": {
            "gridcolor": "white",
            "linecolor": "white",
            "ticks": ""
           },
           "baxis": {
            "gridcolor": "white",
            "linecolor": "white",
            "ticks": ""
           },
           "bgcolor": "#E5ECF6",
           "caxis": {
            "gridcolor": "white",
            "linecolor": "white",
            "ticks": ""
           }
          },
          "title": {
           "x": 0.05
          },
          "xaxis": {
           "automargin": true,
           "gridcolor": "white",
           "linecolor": "white",
           "ticks": "",
           "title": {
            "standoff": 15
           },
           "zerolinecolor": "white",
           "zerolinewidth": 2
          },
          "yaxis": {
           "automargin": true,
           "gridcolor": "white",
           "linecolor": "white",
           "ticks": "",
           "title": {
            "standoff": 15
           },
           "zerolinecolor": "white",
           "zerolinewidth": 2
          }
         }
        },
        "width": 900,
        "xaxis": {
         "gridcolor": "#555",
         "linecolor": "#555",
         "range": [
          -2471040000000000,
          2471040000000000
         ],
         "zerolinecolor": "#555"
        },
        "yaxis": {
         "gridcolor": "#555",
         "linecolor": "#555",
         "range": [
          -2471040000000000,
          2471040000000000
         ],
         "zerolinecolor": "#555"
        }
       }
      },
      "text/html": [
       "<div>                            <div id=\"4a498ea4-d03d-4ddc-9fcb-b6bf67107cfd\" class=\"plotly-graph-div\" style=\"height:900px; width:900px;\"></div>            <script type=\"text/javascript\">                require([\"plotly\"], function(Plotly) {                    window.PLOTLYENV=window.PLOTLYENV || {};                                    if (document.getElementById(\"4a498ea4-d03d-4ddc-9fcb-b6bf67107cfd\")) {                    Plotly.newPlot(                        \"4a498ea4-d03d-4ddc-9fcb-b6bf67107cfd\",                        [{\"hovertemplate\":\"<b>X</b>: %{x}<br><b>Y</b>: %{y}<br><b>Last Interaction: %{text}</b>\",\"line\":{\"color\":\"aqua\"},\"marker\":{\"color\":[\"aqua\",\"deeppink\"]},\"mode\":\"markers+lines\",\"name\":\"Packet 1\",\"text\":[\"No Interaction\",\"Line\"],\"x\":[1235520000000000.0,1237679040791942.0],\"y\":[0.0,3853769284715.758],\"type\":\"scatter\"},{\"hovertemplate\":\"<b>X</b>: %{x}<br><b>Y</b>: %{y}<br><b>Last Interaction: %{text}</b>\",\"line\":{\"color\":\"deeppink\"},\"marker\":{\"color\":[\"deeppink\",\"deeppink\"]},\"mode\":\"markers+lines\",\"name\":\"Packet 1\",\"text\":[\"Line\",\"Line\"],\"x\":[1237679040791942.0,1235470425289553.2],\"y\":[3853769284715.758,11067910139258.242],\"type\":\"scatter\"},{\"hovertemplate\":\"<b>X</b>: %{x}<br><b>Y</b>: %{y}<br><b>Last Interaction: %{text}</b>\",\"line\":{\"color\":\"aqua\"},\"marker\":{\"color\":[\"aqua\",\"aqua\",\"aqua\",\"aqua\",\"aqua\",\"aqua\",\"aqua\",\"aqua\",\"aqua\",\"aqua\",\"aqua\",\"aqua\",\"aqua\",\"aqua\",\"aqua\",\"aqua\",\"aqua\",\"aqua\",\"aqua\",\"aqua\",\"aqua\"]},\"mode\":\"markers+lines\",\"name\":\"Packet 2\",\"text\":[\"No Interaction\",\"No Interaction\",\"No Interaction\",\"No Interaction\",\"No Interaction\",\"No Interaction\",\"No Interaction\",\"No Interaction\",\"No Interaction\",\"No Interaction\",\"No Interaction\",\"No Interaction\",\"No Interaction\",\"No Interaction\",\"No Interaction\",\"No Interaction\",\"No Interaction\",\"No Interaction\",\"No Interaction\",\"No Interaction\",\"No Interaction\"],\"x\":[1128703683826586.2,1167696374695924.2,1206522387315814.0,1245201730366458.0,1283751273833906.5,1322185351133686.5,1360516225827531.8,1398754457594326.5,1436909192232549.0,1474988393676246.0,1512999031255749.0,1550947232061778.8,1588838405843830.0,1626677348103546.0,1664468325737803.8,1702215148612106.5,1739921229710930.5,1777589635953451.8,1815223131334763.5,1852824213721352.5,1890395146371311.2],\"y\":[502531257253012.6,538930226112802.0,575173603853435.5,611280068214544.9,647265367021766.6,683142880258215.2,718924055736076.1,754618750723834.8,790235502658292.0,825781745727264.0,861263985674059.4,896687942026604.5,932058664687817.1,967380630171400.2,1002657821548105.1,1037893795258197.1,1073091737260707.6,1108254510468996.0,1143384695022290.2,1178484622633597.0,1213556406013247.0],\"type\":\"scatter\"},{\"hovertemplate\":\"<b>X</b>: %{x}<br><b>Y</b>: %{y}<br><b>Last Interaction: %{text}</b>\",\"line\":{\"color\":\"aqua\"},\"marker\":{\"color\":[\"aqua\",\"aqua\",\"aqua\",\"aqua\",\"aqua\",\"aqua\",\"aqua\",\"aqua\",\"aqua\",\"aqua\",\"aqua\",\"aqua\",\"aqua\",\"aqua\",\"aqua\",\"aqua\",\"aqua\",\"aqua\",\"aqua\",\"aqua\",\"aqua\"]},\"mode\":\"markers+lines\",\"name\":\"Packet 3\",\"text\":[\"No Interaction\",\"No Interaction\",\"No Interaction\",\"No Interaction\",\"No Interaction\",\"No Interaction\",\"No Interaction\",\"No Interaction\",\"No Interaction\",\"No Interaction\",\"No Interaction\",\"No Interaction\",\"No Interaction\",\"No Interaction\",\"No Interaction\",\"No Interaction\",\"No Interaction\",\"No Interaction\",\"No Interaction\",\"No Interaction\",\"No Interaction\"],\"x\":[826724246768496.5,795071654108649.2,766286539350870.5,739488504563771.1,714156808018121.4,689954857755638.9,666651218094984.0,644079318419062.8,622114976638836.4,600662982840518.5,579648654480374.6,559012288320516.0,538705384440636.6,518687998987375.8,498926840787607.44,479393872672946.7,460065263991761.94,440920592928228.3,421942230000976.5,403114855256048.44,384425075650065.94],\"y\":[918170294773830.0,1010851955990063.1,1095137381917751.4,1173604457524782.0,1247777961809459.0,1318643466544083.0,1386878636387652.5,1452971205209805.8,1517284789426711.5,1580098172298522.5,1641630031084681.2,1702055182278959.0,1761515638045449.0,1820128357608460.5,1877990820541383.0,1935185122215348.8,1991781040939036.0,2047838373640805.5,2103408741040552.8,2158537001352512.2,2213262370622028.5],\"type\":\"scatter\"},{\"hovertemplate\":\"<b>X</b>: %{x}<br><b>Y</b>: %{y}<br><b>Last Interaction: %{text}</b>\",\"line\":{\"color\":\"aqua\"},\"marker\":{\"color\":[\"aqua\",\"aqua\",\"aqua\",\"deeppink\"]},\"mode\":\"markers+lines\",\"name\":\"Packet 4\",\"text\":[\"No Interaction\",\"No Interaction\",\"No Interaction\",\"Line\"],\"x\":[381796676890135.06,360640553115821.75,339916618249257.44,327503908006376.7],\"y\":[1175049347012988.0,1234463042599621.2,1292663002604309.0,1327522176035267.2],\"type\":\"scatter\"},{\"hovertemplate\":\"<b>X</b>: %{x}<br><b>Y</b>: %{y}<br><b>Last Interaction: %{text}</b>\",\"line\":{\"color\":\"deeppink\"},\"marker\":{\"color\":[\"deeppink\",\"deeppink\",\"deeppink\",\"deeppink\",\"deeppink\",\"deeppink\",\"deeppink\",\"deeppink\",\"deeppink\",\"deeppink\",\"deeppink\",\"deeppink\",\"deeppink\",\"deeppink\",\"deeppink\",\"deeppink\",\"deeppink\",\"deeppink\",\"deeppink\",\"deeppink\",\"deeppink\",\"deeppink\"]},\"mode\":\"markers+lines\",\"name\":\"Packet 4\",\"text\":[\"Line\",\"Line\",\"Line\",\"Line\",\"Line\",\"Line\",\"Line\",\"Line\",\"Line\",\"Line\",\"Line\",\"Line\",\"Line\",\"Line\",\"Line\",\"Line\",\"Line\",\"Line\",\"Line\",\"Line\",\"Line\",\"Line\"],\"x\":[327503908006376.7,298185300498063.44,288190704878819.5,288119258191749.1,287771790641134.6,287424931156385.94,287078615067660.2,286732786643405.4,286387397585199.56,286042405819053.06,285697774516766.44,285353471297511.0,285009467571836.44,284665737999148.44,284322260036278.8,283979013559695.4,283635980547639.94,283293144811335.56,282950491766611.06,282608008238988.25,282265682296631.94,281923503106600.94],\"y\":[1327522176035267.2,1302922281730909.5,1294536276502712.0,1305185135803743.5,1356973864013303.5,1408671962298443.2,1460289069455371.2,1511833492061777.0,1563312428815295.0,1614732150685446.8,1666098146776523.5,1717415243328898.8,1768687701492385.5,1819919298186983.0,1871113393386906.2,1922272986428739.0,1973400763387604.2,2024499137139580.0,2075570281400520.0,2126616159776651.8,2177638550662992.2,2228639068668613.0],\"type\":\"scatter\"},{\"hovertemplate\":\"<b>X</b>: %{x}<br><b>Y</b>: %{y}<br><b>Last Interaction: %{text}</b>\",\"line\":{\"color\":\"aqua\"},\"marker\":{\"color\":[\"aqua\",\"blueviolet\"]},\"mode\":\"markers+lines\",\"name\":\"Packet 5\",\"text\":[\"No Interaction\",\"EScattering\"],\"x\":[-129147006936451.05,-200478631445868.2],\"y\":[1228751692165409.2,1226065161649576.0],\"type\":\"scatter\"},{\"hovertemplate\":\"<b>X</b>: %{x}<br><b>Y</b>: %{y}<br><b>Last Interaction: %{text}</b>\",\"line\":{\"color\":\"blueviolet\"},\"marker\":{\"color\":[\"blueviolet\",\"blueviolet\"]},\"mode\":\"markers+lines\",\"name\":\"Packet 5\",\"text\":[\"EScattering\",\"EScattering\"],\"x\":[-200478631445868.2,-265904147033805.78],\"y\":[1226065161649576.0,1206567302304444.2],\"type\":\"scatter\"},{\"hovertemplate\":\"<b>X</b>: %{x}<br><b>Y</b>: %{y}<br><b>Last Interaction: %{text}</b>\",\"line\":{\"color\":\"aqua\"},\"marker\":{\"color\":[\"aqua\",\"aqua\",\"aqua\",\"aqua\",\"aqua\",\"aqua\",\"aqua\",\"aqua\",\"aqua\",\"aqua\",\"aqua\",\"aqua\",\"aqua\",\"aqua\",\"aqua\",\"aqua\",\"aqua\",\"aqua\",\"aqua\",\"aqua\",\"aqua\"]},\"mode\":\"markers+lines\",\"name\":\"Packet 6\",\"text\":[\"No Interaction\",\"No Interaction\",\"No Interaction\",\"No Interaction\",\"No Interaction\",\"No Interaction\",\"No Interaction\",\"No Interaction\",\"No Interaction\",\"No Interaction\",\"No Interaction\",\"No Interaction\",\"No Interaction\",\"No Interaction\",\"No Interaction\",\"No Interaction\",\"No Interaction\",\"No Interaction\",\"No Interaction\",\"No Interaction\",\"No Interaction\"],\"x\":[-617759999999999.8,-680099422605262.8,-740844572913789.9,-800268386219261.4,-858580652862581.8,-915946132383738.9,-972496569674043.8,-1028338935087131.8,-1083561235652416.8,-1138236712741806.5,-1192426937754601.8,-1246184136890248.8,-1299552965130876.8,-1352571879303740.5,-1405274214431869.5,-1457689037204751.5,-1509841829768747.5,-1561755042758808.5,-1613448546443521.2,-1664940001672622.0,-1716245167109459.0],\"y\":[1069991706883749.8,1091524341216442.2,1112506298610567.1,1133031853533703.2,1153173469581251.8,1172988056278183.2,1192521119573242.0,1211809608052298.0,1230883920187199.5,1249769354250105.8,1268487177592735.0,1287055429645167.0,1305489534666420.2,1323802776013386.2,1342006667922664.2,1360111250307519.8,1378125324945652.8,1396056646501650.0,1413912078356815.5,1431697720737995.0,1449419016838618.0],\"type\":\"scatter\"},{\"hovertemplate\":\"<b>X</b>: %{x}<br><b>Y</b>: %{y}<br><b>Last Interaction: %{text}</b>\",\"line\":{\"color\":\"aqua\"},\"marker\":{\"color\":[\"aqua\",\"aqua\",\"aqua\",\"aqua\",\"aqua\",\"aqua\",\"aqua\",\"aqua\",\"aqua\",\"aqua\",\"aqua\",\"aqua\",\"aqua\",\"aqua\",\"aqua\",\"aqua\",\"aqua\",\"aqua\",\"aqua\",\"aqua\",\"aqua\"]},\"mode\":\"markers+lines\",\"name\":\"Packet 7\",\"text\":[\"No Interaction\",\"No Interaction\",\"No Interaction\",\"No Interaction\",\"No Interaction\",\"No Interaction\",\"No Interaction\",\"No Interaction\",\"No Interaction\",\"No Interaction\",\"No Interaction\",\"No Interaction\",\"No Interaction\",\"No Interaction\",\"No Interaction\",\"No Interaction\",\"No Interaction\",\"No Interaction\",\"No Interaction\",\"No Interaction\",\"No Interaction\"],\"x\":[-999556676890135.0,-1068686444226490.4,-1135537230264705.8,-1200537718439576.8,-1264007293033765.8,-1326190515202465.5,-1387278893636463.2,-1447425219506164.2,-1506753337370247.8,-1565365001612866.0,-1623344808530229.0,-1680763820932607.0,-1737682282087911.2,-1794151681486317.0,-1850216350333633.8,-1905914709992194.5,-1961280260369705.8,-2016342370754279.5,-2071126918697407.8,-2125656810691745.2,-2179952409941177.8],\"y\":[726220434912396.5,715450834105699.0,705036271653282.1,694909963741991.0,685022154074926.4,675334742914222.5,665817895469016.5,656447808680578.0,647205189030202.5,638074184387326.5,629041615648721.8,620096412068336.1,611229188456956.0,602431923360492.1,593697710500965.2,585020564284170.4,576395265820373.8,567817239721560.8,559282454571017.2,550787341807886.0,542328729085644.8],\"type\":\"scatter\"},{\"hovertemplate\":\"<b>X</b>: %{x}<br><b>Y</b>: %{y}<br><b>Last Interaction: %{text}</b>\",\"line\":{\"color\":\"aqua\"},\"marker\":{\"color\":[\"aqua\",\"aqua\",\"blueviolet\"]},\"mode\":\"markers+lines\",\"name\":\"Packet 8\",\"text\":[\"No Interaction\",\"No Interaction\",\"EScattering\"],\"x\":[-1208520923658631.5,-1280407383520394.0,-1289033450366773.0],\"y\":[256879052239158.5,120488772599185.64,104122524050666.78],\"type\":\"scatter\"},{\"hovertemplate\":\"<b>X</b>: %{x}<br><b>Y</b>: %{y}<br><b>Last Interaction: %{text}</b>\",\"line\":{\"color\":\"blueviolet\"},\"marker\":{\"color\":[\"blueviolet\",\"blueviolet\",\"blueviolet\"]},\"mode\":\"markers+lines\",\"name\":\"Packet 8\",\"text\":[\"EScattering\",\"EScattering\",\"EScattering\"],\"x\":[-1289033450366773.0,-1282107552088212.2,-1233099652264927.2],\"y\":[104122524050666.78,100800977050681.89,77297593650225.83],\"type\":\"scatter\"},{\"hovertemplate\":\"<b>X</b>: %{x}<br><b>Y</b>: %{y}<br><b>Last Interaction: %{text}</b>\",\"line\":{\"color\":\"aqua\"},\"marker\":{\"color\":[\"aqua\",\"blueviolet\"]},\"mode\":\"markers+lines\",\"name\":\"Packet 9\",\"text\":[\"No Interaction\",\"EScattering\"],\"x\":[-1208520923658631.5,-1210491913214834.0],\"y\":[-256879052239157.7,-389564347311873.9],\"type\":\"scatter\"},{\"hovertemplate\":\"<b>X</b>: %{x}<br><b>Y</b>: %{y}<br><b>Last Interaction: %{text}</b>\",\"line\":{\"color\":\"blueviolet\"},\"marker\":{\"color\":[\"blueviolet\",\"blueviolet\"]},\"mode\":\"markers+lines\",\"name\":\"Packet 9\",\"text\":[\"EScattering\",\"EScattering\"],\"x\":[-1210491913214834.0,-1141631550520213.2],\"y\":[-389564347311873.9,-472426791425734.0],\"type\":\"scatter\"},{\"hovertemplate\":\"<b>X</b>: %{x}<br><b>Y</b>: %{y}<br><b>Last Interaction: %{text}</b>\",\"line\":{\"color\":\"aqua\"},\"marker\":{\"color\":[\"aqua\",\"aqua\",\"aqua\",\"aqua\",\"aqua\",\"aqua\",\"aqua\",\"aqua\",\"aqua\",\"aqua\",\"aqua\",\"aqua\",\"aqua\",\"aqua\",\"aqua\",\"aqua\",\"aqua\",\"aqua\",\"aqua\",\"aqua\",\"aqua\"]},\"mode\":\"markers+lines\",\"name\":\"Packet 10\",\"text\":[\"No Interaction\",\"No Interaction\",\"No Interaction\",\"No Interaction\",\"No Interaction\",\"No Interaction\",\"No Interaction\",\"No Interaction\",\"No Interaction\",\"No Interaction\",\"No Interaction\",\"No Interaction\",\"No Interaction\",\"No Interaction\",\"No Interaction\",\"No Interaction\",\"No Interaction\",\"No Interaction\",\"No Interaction\",\"No Interaction\",\"No Interaction\"],\"x\":[-999556676890135.2,-903383353359636.2,-840273762979182.1,-788510166895037.6,-742942105167492.5,-701370486089897.6,-662620910601120.0,-625982172156503.4,-590986863991109.1,-557309528354881.2,-524713557455347.5,-493021079776526.8,-462094750285589.8,-431826166707832.94,-402128191774942.75,-372929688254920.3,-344171803568051.94,-315805282937906.1,-287788484790687.75,-260085887519684.88,-232666947518551.22],\"y\":[-726220434912396.2,-915346452972151.2,-1039452235031896.6,-1141245980412268.5,-1230856131635738.5,-1312607229464328.5,-1388808744028544.2,-1460859271704918.5,-1529677973618615.2,-1595904866419317.8,-1660005242227431.5,-1722328887556609.2,-1783145893095261.5,-1842669433243635.0,-1901070864506585.0,-1958490079121691.2,-2015042811407418.8,-2070825921484591.8,-2125921298017845.2,-2180398794681628.5,-2234318475851730.5],\"type\":\"scatter\"},{\"hovertemplate\":\"<b>X</b>: %{x}<br><b>Y</b>: %{y}<br><b>Last Interaction: %{text}</b>\",\"line\":{\"color\":\"aqua\"},\"marker\":{\"color\":[\"aqua\",\"blueviolet\"]},\"mode\":\"markers+lines\",\"name\":\"Packet 11\",\"text\":[\"No Interaction\",\"EScattering\"],\"x\":[-617760000000000.5,-587852869521720.9],\"y\":[-1069991706883749.2,-1119890787364104.2],\"type\":\"scatter\"},{\"hovertemplate\":\"<b>X</b>: %{x}<br><b>Y</b>: %{y}<br><b>Last Interaction: %{text}</b>\",\"line\":{\"color\":\"blueviolet\"},\"marker\":{\"color\":[\"blueviolet\",\"blueviolet\",\"blueviolet\",\"blueviolet\",\"blueviolet\",\"blueviolet\",\"blueviolet\",\"blueviolet\",\"blueviolet\",\"blueviolet\",\"blueviolet\",\"blueviolet\",\"blueviolet\",\"blueviolet\",\"blueviolet\",\"blueviolet\",\"blueviolet\",\"blueviolet\",\"blueviolet\",\"blueviolet\",\"blueviolet\",\"blueviolet\"]},\"mode\":\"markers+lines\",\"name\":\"Packet 11\",\"text\":[\"EScattering\",\"EScattering\",\"EScattering\",\"EScattering\",\"EScattering\",\"EScattering\",\"EScattering\",\"EScattering\",\"EScattering\",\"EScattering\",\"EScattering\",\"EScattering\",\"EScattering\",\"EScattering\",\"EScattering\",\"EScattering\",\"EScattering\",\"EScattering\",\"EScattering\",\"EScattering\",\"EScattering\",\"EScattering\"],\"x\":[-587852869521720.9,-574176120625565.9,-542908615820657.9,-542741180590580.25,-524233789627195.5,-506054339167789.0,-488237796154212.9,-470730397077023.94,-453489191140535.8,-436479325799157.8,-419672137841407.75,-403043777694809.5,-386574196806957.7,-370246388382737.56,-354045808749457.25,-337959929962749.6,-321977889391066.56,-306090212051728.25,-290288588271538.56,-274565693941185.56,-258915043932003.75,-243330871598151.03],\"y\":[-1119890787364104.2,-1150774693239026.5,-1221380849911974.5,-1221758940781751.2,-1284277853471401.2,-1345688966375756.8,-1405874159377886.0,-1465015048360838.0,-1523256723307894.2,-1580716917899569.0,-1637492457929386.2,-1693663908472250.0,-1749298994562980.8,-1804455166024786.0,-1859181552127425.5,-1913520472907351.8,-1967508622889179.0,-2021178009048714.8,-2074556701886771.0,-2127669442618988.0,-2180538138341471.0,-2233182269078653.8],\"type\":\"scatter\"},{\"hovertemplate\":\"<b>X</b>: %{x}<br><b>Y</b>: %{y}<br><b>Last Interaction: %{text}</b>\",\"line\":{\"color\":\"aqua\"},\"marker\":{\"color\":[\"aqua\",\"blueviolet\"]},\"mode\":\"markers+lines\",\"name\":\"Packet 12\",\"text\":[\"No Interaction\",\"EScattering\"],\"x\":[-129147006936452.16,-105025851270085.06],\"y\":[-1228751692165409.0,-1251168507558074.8],\"type\":\"scatter\"},{\"hovertemplate\":\"<b>X</b>: %{x}<br><b>Y</b>: %{y}<br><b>Last Interaction: %{text}</b>\",\"line\":{\"color\":\"blueviolet\"},\"marker\":{\"color\":[\"blueviolet\",\"blueviolet\",\"blueviolet\",\"blueviolet\",\"blueviolet\",\"blueviolet\",\"blueviolet\",\"blueviolet\",\"blueviolet\",\"blueviolet\",\"blueviolet\",\"blueviolet\",\"blueviolet\",\"blueviolet\",\"blueviolet\",\"blueviolet\",\"blueviolet\",\"blueviolet\",\"blueviolet\",\"blueviolet\",\"blueviolet\",\"blueviolet\"]},\"mode\":\"markers+lines\",\"name\":\"Packet 12\",\"text\":[\"EScattering\",\"EScattering\",\"EScattering\",\"EScattering\",\"EScattering\",\"EScattering\",\"EScattering\",\"EScattering\",\"EScattering\",\"EScattering\",\"EScattering\",\"EScattering\",\"EScattering\",\"EScattering\",\"EScattering\",\"EScattering\",\"EScattering\",\"EScattering\",\"EScattering\",\"EScattering\",\"EScattering\",\"EScattering\"],\"x\":[-105025851270085.06,-76199263096367.17,-29853984566838.42,15012924914170.977,58670978389344.98,101322897761720.2,143125141822743.4,184201047672873.5,215662287163645.56,639890094712048.4,858770056025358.0,1008314965232024.9,1131532255639882.5,1239906415380035.0,1338521424986025.2,1430148087192557.8,1516488047961229.2,1598671748327045.0,1677493343364394.8,1753534630676812.0,1827235985233622.2,1898939579146642.5],\"y\":[-1251168507558074.8,-1283804613015380.5,-1336274554599272.0,-1387070756374570.0,-1436498348314691.5,-1484786842610469.8,-1532113374536695.2,-1578617580549582.0,-1614236514141400.8,-1509874446129017.0,-1456028929633681.2,-1419240167304019.8,-1388928125016741.0,-1362267563808018.0,-1338007800170605.0,-1315467203390289.0,-1294227160428469.8,-1274009577388235.2,-1254619088326072.8,-1235912568251142.8,-1217781682816469.8,-1200142256047329.0],\"type\":\"scatter\"},{\"hovertemplate\":\"<b>X</b>: %{x}<br><b>Y</b>: %{y}<br><b>Last Interaction: %{text}</b>\",\"line\":{\"color\":\"aqua\"},\"marker\":{\"color\":[\"aqua\",\"blueviolet\"]},\"mode\":\"markers+lines\",\"name\":\"Packet 13\",\"text\":[\"No Interaction\",\"EScattering\"],\"x\":[381796676890134.8,420024892544411.4],\"y\":[-1175049347012988.2,-1182510060525456.2],\"type\":\"scatter\"},{\"hovertemplate\":\"<b>X</b>: %{x}<br><b>Y</b>: %{y}<br><b>Last Interaction: %{text}</b>\",\"line\":{\"color\":\"blueviolet\"},\"marker\":{\"color\":[\"blueviolet\",\"deeppink\"]},\"mode\":\"markers+lines\",\"name\":\"Packet 13\",\"text\":[\"EScattering\",\"Line\"],\"x\":[420024892544411.4,441661228549474.75],\"y\":[-1182510060525456.2,-1193995425014029.0],\"type\":\"scatter\"},{\"hovertemplate\":\"<b>X</b>: %{x}<br><b>Y</b>: %{y}<br><b>Last Interaction: %{text}</b>\",\"line\":{\"color\":\"deeppink\"},\"marker\":{\"color\":[\"deeppink\",\"deeppink\"]},\"mode\":\"markers+lines\",\"name\":\"Packet 13\",\"text\":[\"Line\",\"Line\"],\"x\":[441661228549474.75,442596540528267.3],\"y\":[-1193995425014029.0,-1153524153501958.5],\"type\":\"scatter\"},{\"hovertemplate\":\"<b>X</b>: %{x}<br><b>Y</b>: %{y}<br><b>Last Interaction: %{text}</b>\",\"line\":{\"color\":\"aqua\"},\"marker\":{\"color\":[\"aqua\",\"aqua\",\"aqua\",\"aqua\",\"aqua\",\"aqua\",\"aqua\",\"aqua\",\"aqua\",\"aqua\",\"aqua\",\"aqua\",\"aqua\",\"aqua\",\"aqua\",\"aqua\",\"aqua\",\"aqua\",\"aqua\",\"aqua\",\"aqua\"]},\"mode\":\"markers+lines\",\"name\":\"Packet 14\",\"text\":[\"No Interaction\",\"No Interaction\",\"No Interaction\",\"No Interaction\",\"No Interaction\",\"No Interaction\",\"No Interaction\",\"No Interaction\",\"No Interaction\",\"No Interaction\",\"No Interaction\",\"No Interaction\",\"No Interaction\",\"No Interaction\",\"No Interaction\",\"No Interaction\",\"No Interaction\",\"No Interaction\",\"No Interaction\",\"No Interaction\",\"No Interaction\"],\"x\":[826724246768496.0,945994407913866.6,1046258105091989.5,1135591857660009.5,1217693534988938.8,1294610875618973.5,1367612115471307.2,1437543539612367.5,1505000919819967.2,1570420956848558.8,1634134031793043.0,1696396530089954.8,1757411622103618.8,1817343155817415.8,1876325252009715.8,1934469116210463.2,1991867990151281.8,2048600825174344.0,2104735056669385.8,2160328732888781.8,2215432171478184.5],\"y\":[-918170294773830.5,-871237735805614.0,-831784180658251.9,-796631535855999.4,-764324697535113.4,-734057884862682.0,-705332049656115.2,-677814180511698.8,-651269842480866.6,-625527194730059.1,-600456232989395.1,-575956070125805.4,-551946759025837.8,-528363825850706.5,-505154494354623.25,-482275005394131.8,-459688668542843.3,-437364416612734.06,-415275713918977.75,-393399718595667.06,-371716630754471.94],\"type\":\"scatter\"},{\"hovertemplate\":\"<b>X</b>: %{x}<br><b>Y</b>: %{y}<br><b>Last Interaction: %{text}</b>\",\"line\":{\"color\":\"aqua\"},\"marker\":{\"color\":[\"aqua\",\"aqua\",\"aqua\",\"aqua\",\"aqua\",\"aqua\",\"aqua\",\"aqua\",\"aqua\",\"aqua\",\"aqua\",\"aqua\",\"aqua\",\"aqua\",\"aqua\",\"aqua\",\"aqua\",\"aqua\",\"aqua\",\"aqua\",\"aqua\"]},\"mode\":\"markers+lines\",\"name\":\"Packet 15\",\"text\":[\"No Interaction\",\"No Interaction\",\"No Interaction\",\"No Interaction\",\"No Interaction\",\"No Interaction\",\"No Interaction\",\"No Interaction\",\"No Interaction\",\"No Interaction\",\"No Interaction\",\"No Interaction\",\"No Interaction\",\"No Interaction\",\"No Interaction\",\"No Interaction\",\"No Interaction\",\"No Interaction\",\"No Interaction\",\"No Interaction\",\"No Interaction\"],\"x\":[1128703683826585.8,1206807001601396.2,1277943561433169.8,1344234007557344.5,1406939416577522.5,1466877851967377.2,1524613261142742.2,1580552326231522.5,1634998700550672.0,1688185478764399.0,1740295683245438.2,1791475749132530.5,1841844716902351.0,1891500685766302.0,1940525459062653.5,1988987961268517.0,2036946799283270.2,2084452214390904.2,2131547591895202.8,2178270644094348.2,2224654348280393.0],\"y\":[-502531257253013.56,-444496876234072.06,-391639118903494.4,-342382248415891.1,-295789226471318.56,-251252194035341.56,-208352112069191.7,-166786796923864.53,-126330620126769.19,-86810381550926.05,-48090087100093.3,-10060928686749.67,27365546274437.434,64262230039190.69,100689906275055.7,136699789059490.11,172335426032027.75,207634148792670.3,242628194630719.28,277345585529669.25,311810825144253.2],\"type\":\"scatter\"}],                        {\"template\":{\"data\":{\"histogram2dcontour\":[{\"type\":\"histogram2dcontour\",\"colorbar\":{\"outlinewidth\":0,\"ticks\":\"\"},\"colorscale\":[[0.0,\"#0d0887\"],[0.1111111111111111,\"#46039f\"],[0.2222222222222222,\"#7201a8\"],[0.3333333333333333,\"#9c179e\"],[0.4444444444444444,\"#bd3786\"],[0.5555555555555556,\"#d8576b\"],[0.6666666666666666,\"#ed7953\"],[0.7777777777777778,\"#fb9f3a\"],[0.8888888888888888,\"#fdca26\"],[1.0,\"#f0f921\"]]}],\"choropleth\":[{\"type\":\"choropleth\",\"colorbar\":{\"outlinewidth\":0,\"ticks\":\"\"}}],\"histogram2d\":[{\"type\":\"histogram2d\",\"colorbar\":{\"outlinewidth\":0,\"ticks\":\"\"},\"colorscale\":[[0.0,\"#0d0887\"],[0.1111111111111111,\"#46039f\"],[0.2222222222222222,\"#7201a8\"],[0.3333333333333333,\"#9c179e\"],[0.4444444444444444,\"#bd3786\"],[0.5555555555555556,\"#d8576b\"],[0.6666666666666666,\"#ed7953\"],[0.7777777777777778,\"#fb9f3a\"],[0.8888888888888888,\"#fdca26\"],[1.0,\"#f0f921\"]]}],\"heatmap\":[{\"type\":\"heatmap\",\"colorbar\":{\"outlinewidth\":0,\"ticks\":\"\"},\"colorscale\":[[0.0,\"#0d0887\"],[0.1111111111111111,\"#46039f\"],[0.2222222222222222,\"#7201a8\"],[0.3333333333333333,\"#9c179e\"],[0.4444444444444444,\"#bd3786\"],[0.5555555555555556,\"#d8576b\"],[0.6666666666666666,\"#ed7953\"],[0.7777777777777778,\"#fb9f3a\"],[0.8888888888888888,\"#fdca26\"],[1.0,\"#f0f921\"]]}],\"heatmapgl\":[{\"type\":\"heatmapgl\",\"colorbar\":{\"outlinewidth\":0,\"ticks\":\"\"},\"colorscale\":[[0.0,\"#0d0887\"],[0.1111111111111111,\"#46039f\"],[0.2222222222222222,\"#7201a8\"],[0.3333333333333333,\"#9c179e\"],[0.4444444444444444,\"#bd3786\"],[0.5555555555555556,\"#d8576b\"],[0.6666666666666666,\"#ed7953\"],[0.7777777777777778,\"#fb9f3a\"],[0.8888888888888888,\"#fdca26\"],[1.0,\"#f0f921\"]]}],\"contourcarpet\":[{\"type\":\"contourcarpet\",\"colorbar\":{\"outlinewidth\":0,\"ticks\":\"\"}}],\"contour\":[{\"type\":\"contour\",\"colorbar\":{\"outlinewidth\":0,\"ticks\":\"\"},\"colorscale\":[[0.0,\"#0d0887\"],[0.1111111111111111,\"#46039f\"],[0.2222222222222222,\"#7201a8\"],[0.3333333333333333,\"#9c179e\"],[0.4444444444444444,\"#bd3786\"],[0.5555555555555556,\"#d8576b\"],[0.6666666666666666,\"#ed7953\"],[0.7777777777777778,\"#fb9f3a\"],[0.8888888888888888,\"#fdca26\"],[1.0,\"#f0f921\"]]}],\"surface\":[{\"type\":\"surface\",\"colorbar\":{\"outlinewidth\":0,\"ticks\":\"\"},\"colorscale\":[[0.0,\"#0d0887\"],[0.1111111111111111,\"#46039f\"],[0.2222222222222222,\"#7201a8\"],[0.3333333333333333,\"#9c179e\"],[0.4444444444444444,\"#bd3786\"],[0.5555555555555556,\"#d8576b\"],[0.6666666666666666,\"#ed7953\"],[0.7777777777777778,\"#fb9f3a\"],[0.8888888888888888,\"#fdca26\"],[1.0,\"#f0f921\"]]}],\"mesh3d\":[{\"type\":\"mesh3d\",\"colorbar\":{\"outlinewidth\":0,\"ticks\":\"\"}}],\"scatter\":[{\"fillpattern\":{\"fillmode\":\"overlay\",\"size\":10,\"solidity\":0.2},\"type\":\"scatter\"}],\"parcoords\":[{\"type\":\"parcoords\",\"line\":{\"colorbar\":{\"outlinewidth\":0,\"ticks\":\"\"}}}],\"scatterpolargl\":[{\"type\":\"scatterpolargl\",\"marker\":{\"colorbar\":{\"outlinewidth\":0,\"ticks\":\"\"}}}],\"bar\":[{\"error_x\":{\"color\":\"#2a3f5f\"},\"error_y\":{\"color\":\"#2a3f5f\"},\"marker\":{\"line\":{\"color\":\"#E5ECF6\",\"width\":0.5},\"pattern\":{\"fillmode\":\"overlay\",\"size\":10,\"solidity\":0.2}},\"type\":\"bar\"}],\"scattergeo\":[{\"type\":\"scattergeo\",\"marker\":{\"colorbar\":{\"outlinewidth\":0,\"ticks\":\"\"}}}],\"scatterpolar\":[{\"type\":\"scatterpolar\",\"marker\":{\"colorbar\":{\"outlinewidth\":0,\"ticks\":\"\"}}}],\"histogram\":[{\"marker\":{\"pattern\":{\"fillmode\":\"overlay\",\"size\":10,\"solidity\":0.2}},\"type\":\"histogram\"}],\"scattergl\":[{\"type\":\"scattergl\",\"marker\":{\"colorbar\":{\"outlinewidth\":0,\"ticks\":\"\"}}}],\"scatter3d\":[{\"type\":\"scatter3d\",\"line\":{\"colorbar\":{\"outlinewidth\":0,\"ticks\":\"\"}},\"marker\":{\"colorbar\":{\"outlinewidth\":0,\"ticks\":\"\"}}}],\"scattermapbox\":[{\"type\":\"scattermapbox\",\"marker\":{\"colorbar\":{\"outlinewidth\":0,\"ticks\":\"\"}}}],\"scatterternary\":[{\"type\":\"scatterternary\",\"marker\":{\"colorbar\":{\"outlinewidth\":0,\"ticks\":\"\"}}}],\"scattercarpet\":[{\"type\":\"scattercarpet\",\"marker\":{\"colorbar\":{\"outlinewidth\":0,\"ticks\":\"\"}}}],\"carpet\":[{\"aaxis\":{\"endlinecolor\":\"#2a3f5f\",\"gridcolor\":\"white\",\"linecolor\":\"white\",\"minorgridcolor\":\"white\",\"startlinecolor\":\"#2a3f5f\"},\"baxis\":{\"endlinecolor\":\"#2a3f5f\",\"gridcolor\":\"white\",\"linecolor\":\"white\",\"minorgridcolor\":\"white\",\"startlinecolor\":\"#2a3f5f\"},\"type\":\"carpet\"}],\"table\":[{\"cells\":{\"fill\":{\"color\":\"#EBF0F8\"},\"line\":{\"color\":\"white\"}},\"header\":{\"fill\":{\"color\":\"#C8D4E3\"},\"line\":{\"color\":\"white\"}},\"type\":\"table\"}],\"barpolar\":[{\"marker\":{\"line\":{\"color\":\"#E5ECF6\",\"width\":0.5},\"pattern\":{\"fillmode\":\"overlay\",\"size\":10,\"solidity\":0.2}},\"type\":\"barpolar\"}],\"pie\":[{\"automargin\":true,\"type\":\"pie\"}]},\"layout\":{\"autotypenumbers\":\"strict\",\"colorway\":[\"#636efa\",\"#EF553B\",\"#00cc96\",\"#ab63fa\",\"#FFA15A\",\"#19d3f3\",\"#FF6692\",\"#B6E880\",\"#FF97FF\",\"#FECB52\"],\"font\":{\"color\":\"#2a3f5f\"},\"hovermode\":\"closest\",\"hoverlabel\":{\"align\":\"left\"},\"paper_bgcolor\":\"white\",\"plot_bgcolor\":\"#E5ECF6\",\"polar\":{\"bgcolor\":\"#E5ECF6\",\"angularaxis\":{\"gridcolor\":\"white\",\"linecolor\":\"white\",\"ticks\":\"\"},\"radialaxis\":{\"gridcolor\":\"white\",\"linecolor\":\"white\",\"ticks\":\"\"}},\"ternary\":{\"bgcolor\":\"#E5ECF6\",\"aaxis\":{\"gridcolor\":\"white\",\"linecolor\":\"white\",\"ticks\":\"\"},\"baxis\":{\"gridcolor\":\"white\",\"linecolor\":\"white\",\"ticks\":\"\"},\"caxis\":{\"gridcolor\":\"white\",\"linecolor\":\"white\",\"ticks\":\"\"}},\"coloraxis\":{\"colorbar\":{\"outlinewidth\":0,\"ticks\":\"\"}},\"colorscale\":{\"sequential\":[[0.0,\"#0d0887\"],[0.1111111111111111,\"#46039f\"],[0.2222222222222222,\"#7201a8\"],[0.3333333333333333,\"#9c179e\"],[0.4444444444444444,\"#bd3786\"],[0.5555555555555556,\"#d8576b\"],[0.6666666666666666,\"#ed7953\"],[0.7777777777777778,\"#fb9f3a\"],[0.8888888888888888,\"#fdca26\"],[1.0,\"#f0f921\"]],\"sequentialminus\":[[0.0,\"#0d0887\"],[0.1111111111111111,\"#46039f\"],[0.2222222222222222,\"#7201a8\"],[0.3333333333333333,\"#9c179e\"],[0.4444444444444444,\"#bd3786\"],[0.5555555555555556,\"#d8576b\"],[0.6666666666666666,\"#ed7953\"],[0.7777777777777778,\"#fb9f3a\"],[0.8888888888888888,\"#fdca26\"],[1.0,\"#f0f921\"]],\"diverging\":[[0,\"#8e0152\"],[0.1,\"#c51b7d\"],[0.2,\"#de77ae\"],[0.3,\"#f1b6da\"],[0.4,\"#fde0ef\"],[0.5,\"#f7f7f7\"],[0.6,\"#e6f5d0\"],[0.7,\"#b8e186\"],[0.8,\"#7fbc41\"],[0.9,\"#4d9221\"],[1,\"#276419\"]]},\"xaxis\":{\"gridcolor\":\"white\",\"linecolor\":\"white\",\"ticks\":\"\",\"title\":{\"standoff\":15},\"zerolinecolor\":\"white\",\"automargin\":true,\"zerolinewidth\":2},\"yaxis\":{\"gridcolor\":\"white\",\"linecolor\":\"white\",\"ticks\":\"\",\"title\":{\"standoff\":15},\"zerolinecolor\":\"white\",\"automargin\":true,\"zerolinewidth\":2},\"scene\":{\"xaxis\":{\"backgroundcolor\":\"#E5ECF6\",\"gridcolor\":\"white\",\"linecolor\":\"white\",\"showbackground\":true,\"ticks\":\"\",\"zerolinecolor\":\"white\",\"gridwidth\":2},\"yaxis\":{\"backgroundcolor\":\"#E5ECF6\",\"gridcolor\":\"white\",\"linecolor\":\"white\",\"showbackground\":true,\"ticks\":\"\",\"zerolinecolor\":\"white\",\"gridwidth\":2},\"zaxis\":{\"backgroundcolor\":\"#E5ECF6\",\"gridcolor\":\"white\",\"linecolor\":\"white\",\"showbackground\":true,\"ticks\":\"\",\"zerolinecolor\":\"white\",\"gridwidth\":2}},\"shapedefaults\":{\"line\":{\"color\":\"#2a3f5f\"}},\"annotationdefaults\":{\"arrowcolor\":\"#2a3f5f\",\"arrowhead\":0,\"arrowwidth\":1},\"geo\":{\"bgcolor\":\"white\",\"landcolor\":\"#E5ECF6\",\"subunitcolor\":\"white\",\"showland\":true,\"showlakes\":true,\"lakecolor\":\"white\"},\"title\":{\"x\":0.05},\"mapbox\":{\"style\":\"light\"}}},\"xaxis\":{\"range\":[-2471040000000000.0,2471040000000000.0],\"linecolor\":\"#555\",\"gridcolor\":\"#555\",\"zerolinecolor\":\"#555\"},\"yaxis\":{\"range\":[-2471040000000000.0,2471040000000000.0],\"linecolor\":\"#555\",\"gridcolor\":\"#555\",\"zerolinecolor\":\"#555\"},\"shapes\":[{\"fillcolor\":\"darkgrey\",\"line\":{\"color\":\"black\"},\"opacity\":1,\"type\":\"circle\",\"x0\":-1235520000000000.0,\"x1\":1235520000000000.0,\"xref\":\"x\",\"y0\":-1235520000000000.0,\"y1\":1235520000000000.0,\"yref\":\"y\"},{\"line\":{\"color\":\"black\"},\"opacity\":0.2,\"type\":\"circle\",\"x0\":-1286064000000000.0,\"x1\":1286064000000000.0,\"xref\":\"x\",\"y0\":-1286064000000000.0,\"y1\":1286064000000000.0,\"yref\":\"y\"},{\"line\":{\"color\":\"black\"},\"opacity\":0.2,\"type\":\"circle\",\"x0\":-1336608000000000.0,\"x1\":1336608000000000.0,\"xref\":\"x\",\"y0\":-1336608000000000.0,\"y1\":1336608000000000.0,\"yref\":\"y\"},{\"line\":{\"color\":\"black\"},\"opacity\":0.2,\"type\":\"circle\",\"x0\":-1387152000000000.0,\"x1\":1387152000000000.0,\"xref\":\"x\",\"y0\":-1387152000000000.0,\"y1\":1387152000000000.0,\"yref\":\"y\"},{\"line\":{\"color\":\"black\"},\"opacity\":0.2,\"type\":\"circle\",\"x0\":-1437696000000000.0,\"x1\":1437696000000000.0,\"xref\":\"x\",\"y0\":-1437696000000000.0,\"y1\":1437696000000000.0,\"yref\":\"y\"},{\"line\":{\"color\":\"black\"},\"opacity\":0.2,\"type\":\"circle\",\"x0\":-1488240000000000.0,\"x1\":1488240000000000.0,\"xref\":\"x\",\"y0\":-1488240000000000.0,\"y1\":1488240000000000.0,\"yref\":\"y\"},{\"line\":{\"color\":\"black\"},\"opacity\":0.2,\"type\":\"circle\",\"x0\":-1538784000000000.0,\"x1\":1538784000000000.0,\"xref\":\"x\",\"y0\":-1538784000000000.0,\"y1\":1538784000000000.0,\"yref\":\"y\"},{\"line\":{\"color\":\"black\"},\"opacity\":0.2,\"type\":\"circle\",\"x0\":-1589328000000000.0,\"x1\":1589328000000000.0,\"xref\":\"x\",\"y0\":-1589328000000000.0,\"y1\":1589328000000000.0,\"yref\":\"y\"},{\"line\":{\"color\":\"black\"},\"opacity\":0.2,\"type\":\"circle\",\"x0\":-1639872000000000.0,\"x1\":1639872000000000.0,\"xref\":\"x\",\"y0\":-1639872000000000.0,\"y1\":1639872000000000.0,\"yref\":\"y\"},{\"line\":{\"color\":\"black\"},\"opacity\":0.2,\"type\":\"circle\",\"x0\":-1690416000000000.0,\"x1\":1690416000000000.0,\"xref\":\"x\",\"y0\":-1690416000000000.0,\"y1\":1690416000000000.0,\"yref\":\"y\"},{\"line\":{\"color\":\"black\"},\"opacity\":0.2,\"type\":\"circle\",\"x0\":-1740960000000000.0,\"x1\":1740960000000000.0,\"xref\":\"x\",\"y0\":-1740960000000000.0,\"y1\":1740960000000000.0,\"yref\":\"y\"},{\"line\":{\"color\":\"black\"},\"opacity\":0.2,\"type\":\"circle\",\"x0\":-1791504000000000.0,\"x1\":1791504000000000.0,\"xref\":\"x\",\"y0\":-1791504000000000.0,\"y1\":1791504000000000.0,\"yref\":\"y\"},{\"line\":{\"color\":\"black\"},\"opacity\":0.2,\"type\":\"circle\",\"x0\":-1842048000000000.0,\"x1\":1842048000000000.0,\"xref\":\"x\",\"y0\":-1842048000000000.0,\"y1\":1842048000000000.0,\"yref\":\"y\"},{\"line\":{\"color\":\"black\"},\"opacity\":0.2,\"type\":\"circle\",\"x0\":-1892592000000000.0,\"x1\":1892592000000000.0,\"xref\":\"x\",\"y0\":-1892592000000000.0,\"y1\":1892592000000000.0,\"yref\":\"y\"},{\"line\":{\"color\":\"black\"},\"opacity\":0.2,\"type\":\"circle\",\"x0\":-1943136000000000.0,\"x1\":1943136000000000.0,\"xref\":\"x\",\"y0\":-1943136000000000.0,\"y1\":1943136000000000.0,\"yref\":\"y\"},{\"line\":{\"color\":\"black\"},\"opacity\":0.2,\"type\":\"circle\",\"x0\":-1993680000000000.0,\"x1\":1993680000000000.0,\"xref\":\"x\",\"y0\":-1993680000000000.0,\"y1\":1993680000000000.0,\"yref\":\"y\"},{\"line\":{\"color\":\"black\"},\"opacity\":0.2,\"type\":\"circle\",\"x0\":-2044224000000000.0,\"x1\":2044224000000000.0,\"xref\":\"x\",\"y0\":-2044224000000000.0,\"y1\":2044224000000000.0,\"yref\":\"y\"},{\"line\":{\"color\":\"black\"},\"opacity\":0.2,\"type\":\"circle\",\"x0\":-2094768000000000.0,\"x1\":2094768000000000.0,\"xref\":\"x\",\"y0\":-2094768000000000.0,\"y1\":2094768000000000.0,\"yref\":\"y\"},{\"line\":{\"color\":\"black\"},\"opacity\":0.2,\"type\":\"circle\",\"x0\":-2145312000000000.0,\"x1\":2145312000000000.0,\"xref\":\"x\",\"y0\":-2145312000000000.0,\"y1\":2145312000000000.0,\"yref\":\"y\"},{\"line\":{\"color\":\"black\"},\"opacity\":0.2,\"type\":\"circle\",\"x0\":-2195856000000000.0,\"x1\":2195856000000000.0,\"xref\":\"x\",\"y0\":-2195856000000000.0,\"y1\":2195856000000000.0,\"yref\":\"y\"},{\"line\":{\"color\":\"black\"},\"opacity\":1,\"type\":\"circle\",\"x0\":-2246400000000000.0,\"x1\":2246400000000000.0,\"xref\":\"x\",\"y0\":-2246400000000000.0,\"y1\":2246400000000000.0,\"yref\":\"y\"}],\"width\":900,\"height\":900,\"plot_bgcolor\":\"#fafafa\",\"paper_bgcolor\":\"#fafafa\"},                        {\"responsive\": true}                    ).then(function(){\n",
       "                            \n",
       "var gd = document.getElementById('4a498ea4-d03d-4ddc-9fcb-b6bf67107cfd');\n",
       "var x = new MutationObserver(function (mutations, observer) {{\n",
       "        var display = window.getComputedStyle(gd).display;\n",
       "        if (!display || display === 'none') {{\n",
       "            console.log([gd, 'removed!']);\n",
       "            Plotly.purge(gd);\n",
       "            observer.disconnect();\n",
       "        }}\n",
       "}});\n",
       "\n",
       "// Listen for the removal of the full notebook cells\n",
       "var notebookContainer = gd.closest('#notebook-container');\n",
       "if (notebookContainer) {{\n",
       "    x.observe(notebookContainer, {childList: true});\n",
       "}}\n",
       "\n",
       "// Listen for the clearing of the current output cell\n",
       "var outputEl = gd.closest('.output');\n",
       "if (outputEl) {{\n",
       "    x.observe(outputEl, {childList: true});\n",
       "}}\n",
       "\n",
       "                        })                };                });            </script>        </div>"
      ]
     },
     "metadata": {},
     "output_type": "display_data"
    }
   ],
   "source": [
    "#plot with line color as the interaction type\n",
    "r_shells = sim.model.radius.value\n",
    "xs,ys = get_coordinates_multiple_packets(sim.runner.rpacket_tracker_df)\n",
    "type(xs)\n",
    "\n",
    "fig = go.Figure()\n",
    "\n",
    "# Set axes properties\n",
    "fig.update_xaxes(range=[-1.1*r_shells[-1],1.1*r_shells[-1]],linecolor=\"#555\",gridcolor=\"#555\",zerolinecolor=\"#555\")\n",
    "fig.update_yaxes(range=[-1.1*r_shells[-1],1.1*r_shells[-1]],linecolor=\"#555\",gridcolor=\"#555\",zerolinecolor=\"#555\")\n",
    "\n",
    "# adding the shells\n",
    "shell_shapes={}\n",
    "for i in range(len(sim.model.radius.value)):\n",
    "    if i==0:\n",
    "        fig.add_shape(type=\"circle\",\n",
    "            xref=\"x\", yref=\"y\",\n",
    "            x0=-1*sim.model.radius.value[i], y0=-1*sim.model.radius.value[i], x1=sim.model.radius.value[i], y1=sim.model.radius.value[i],\n",
    "            line_color=\"black\",\n",
    "            fillcolor=\"darkgrey\",\n",
    "            opacity=1\n",
    "        )\n",
    "    elif i==(len(sim.model.radius.value)-1):\n",
    "        fig.add_shape(type=\"circle\",\n",
    "            xref=\"x\", yref=\"y\",\n",
    "            x0=-1*sim.model.radius.value[i], y0=-1*sim.model.radius.value[i], x1=sim.model.radius.value[i], y1=sim.model.radius.value[i],\n",
    "            line_color=\"black\",\n",
    "            opacity=1\n",
    "        )\n",
    "    else:\n",
    "        fig.add_shape(type=\"circle\",\n",
    "            xref=\"x\", yref=\"y\",\n",
    "            x0=-1*sim.model.radius.value[i], y0=-1*sim.model.radius.value[i], x1=sim.model.radius.value[i], y1=sim.model.radius.value[i],\n",
    "            line_color=\"black\",\n",
    "            opacity=0.2\n",
    "        )\n",
    "\n",
    "#Add the packet trajectory\n",
    "\n",
    "df = sim.runner.rpacket_tracker_df\n",
    "interaction_from_num = {-1: \"No Interaction\", 1: \"EScattering\", 2: \"Line\"}\n",
    "interaction_color_from_num = {-1: \"aqua\", 1: \"blueviolet\", 2: \"deeppink\"}\n",
    "for i in range(len(xs)):\n",
    "    sect = []\n",
    "    for j in range(len(xs[i])):\n",
    "        sect.append(j)\n",
    "        if(j == len(xs[i])-1):\n",
    "            fig.add_trace(go.Scatter(\n",
    "                x=xs[i][sect],\n",
    "                y=ys[i][sect],\n",
    "                mode=\"markers+lines\",\n",
    "                name=\"Packet \"+str(i+1),\n",
    "                hovertemplate =\n",
    "                '<b>X</b>: %{x}'+\n",
    "                '<br><b>Y</b>: %{y}<br>'+\n",
    "                '<b>Last Interaction: %{text}</b>',\n",
    "                text = [interaction_from_num.get(df.loc[i,k][\"interaction_type\"]) for k in sect],\n",
    "                line = dict(color=interaction_color_from_num.get(df.loc[i,sect[0]][\"interaction_type\"])),\n",
    "#                 line_shape = \"spline\",\n",
    "                marker = dict(color=[interaction_color_from_num.get(df.loc[i,l][\"interaction_type\"]) for l in sect])\n",
    "            ))\n",
    "        elif(df.loc[i][\"interaction_type\"][j] != df.loc[i][\"interaction_type\"][j+1]):\n",
    "            sect.append(j+1)\n",
    "            fig.add_trace(go.Scatter(\n",
    "                x=xs[i][sect],\n",
    "                y=ys[i][sect],\n",
    "                mode=\"markers+lines\",\n",
    "                name=\"Packet \"+str(i+1),\n",
    "                hovertemplate =\n",
    "                '<b>X</b>: %{x}'+\n",
    "                '<br><b>Y</b>: %{y}<br>'+\n",
    "                '<b>Last Interaction: %{text}</b>',\n",
    "                text = [interaction_from_num.get(df.loc[i,k][\"interaction_type\"]) for k in sect],\n",
    "                line = dict(color=interaction_color_from_num.get(df.loc[i,sect[0]][\"interaction_type\"])),\n",
    "#                 line_shape = \"spline\",\n",
    "                marker = dict(color=[interaction_color_from_num.get(df.loc[i,l][\"interaction_type\"]) for l in sect])\n",
    "            ))\n",
    "            sect = []\n",
    "\n",
    "\n",
    "# Set figure size\n",
    "fig.update_layout(width=900, height=900)\n",
    "fig.layout.plot_bgcolor = '#fafafa'\n",
    "fig.layout.paper_bgcolor = '#fafafa'\n",
    "\n",
    "fig.show()"
   ]
  },
  {
   "cell_type": "code",
   "execution_count": 112,
   "metadata": {
    "scrolled": false
   },
   "outputs": [
    {
     "name": "stdout",
     "output_type": "stream",
     "text": [
      "[\u001b[1mpy.warnings         \u001b[0m][\u001b[1;33mWARNING\u001b[0m]  \n",
      "\t/tmp/ipykernel_571561/2379023080.py:9: VisibleDeprecationWarning:\n",
      "\n",
      "Creating an ndarray from ragged nested sequences (which is a list-or-tuple of lists-or-tuples-or ndarrays with different lengths or shapes) is deprecated. If you meant to do this, you must specify 'dtype=object' when creating the ndarray\n",
      "\n",
      " (\u001b[1mwarnings.py\u001b[0m:109)\n"
     ]
    },
    {
     "data": {
      "application/vnd.plotly.v1+json": {
       "config": {
        "plotlyServerURL": "https://plot.ly"
       },
       "data": [
        {
         "hovertemplate": "<b>X</b>: %{x}<br><b>Y</b>: %{y}<br><b>Last Interaction: %{text}</b>",
         "line": {
          "color": "darkslategrey"
         },
         "marker": {
          "color": [
           "aqua",
           "deeppink",
           "deeppink"
          ]
         },
         "mode": "markers+lines",
         "name": "Packet 1",
         "text": [
          "No Interaction",
          "Line",
          "Line"
         ],
         "type": "scatter",
         "x": [
          1235520000000000,
          1237679040791942,
          1235470425289553.2
         ],
         "y": [
          0,
          3853769284715.758,
          11067910139258.242
         ]
        },
        {
         "hovertemplate": "<b>X</b>: %{x}<br><b>Y</b>: %{y}<br><b>Last Interaction: %{text}</b>",
         "line": {
          "color": "darkslategrey"
         },
         "marker": {
          "color": [
           "aqua",
           "aqua",
           "aqua",
           "aqua",
           "aqua",
           "aqua",
           "aqua",
           "aqua",
           "aqua",
           "aqua",
           "aqua",
           "aqua",
           "aqua",
           "aqua",
           "aqua",
           "aqua",
           "aqua",
           "aqua",
           "aqua",
           "aqua",
           "aqua"
          ]
         },
         "mode": "markers+lines",
         "name": "Packet 2",
         "text": [
          "No Interaction",
          "No Interaction",
          "No Interaction",
          "No Interaction",
          "No Interaction",
          "No Interaction",
          "No Interaction",
          "No Interaction",
          "No Interaction",
          "No Interaction",
          "No Interaction",
          "No Interaction",
          "No Interaction",
          "No Interaction",
          "No Interaction",
          "No Interaction",
          "No Interaction",
          "No Interaction",
          "No Interaction",
          "No Interaction",
          "No Interaction"
         ],
         "type": "scatter",
         "x": [
          1128703683826586.2,
          1167696374695924.2,
          1206522387315814,
          1245201730366458,
          1283751273833906.5,
          1322185351133686.5,
          1360516225827531.8,
          1398754457594326.5,
          1436909192232549,
          1474988393676246,
          1512999031255749,
          1550947232061778.8,
          1588838405843830,
          1626677348103546,
          1664468325737803.8,
          1702215148612106.5,
          1739921229710930.5,
          1777589635953451.8,
          1815223131334763.5,
          1852824213721352.5,
          1890395146371311.2
         ],
         "y": [
          502531257253012.6,
          538930226112802,
          575173603853435.5,
          611280068214544.9,
          647265367021766.6,
          683142880258215.2,
          718924055736076.1,
          754618750723834.8,
          790235502658292,
          825781745727264,
          861263985674059.4,
          896687942026604.5,
          932058664687817.1,
          967380630171400.2,
          1002657821548105.1,
          1037893795258197.1,
          1073091737260707.6,
          1108254510468996,
          1143384695022290.2,
          1178484622633597,
          1213556406013247
         ]
        },
        {
         "hovertemplate": "<b>X</b>: %{x}<br><b>Y</b>: %{y}<br><b>Last Interaction: %{text}</b>",
         "line": {
          "color": "darkslategrey"
         },
         "marker": {
          "color": [
           "aqua",
           "aqua",
           "aqua",
           "aqua",
           "aqua",
           "aqua",
           "aqua",
           "aqua",
           "aqua",
           "aqua",
           "aqua",
           "aqua",
           "aqua",
           "aqua",
           "aqua",
           "aqua",
           "aqua",
           "aqua",
           "aqua",
           "aqua",
           "aqua"
          ]
         },
         "mode": "markers+lines",
         "name": "Packet 3",
         "text": [
          "No Interaction",
          "No Interaction",
          "No Interaction",
          "No Interaction",
          "No Interaction",
          "No Interaction",
          "No Interaction",
          "No Interaction",
          "No Interaction",
          "No Interaction",
          "No Interaction",
          "No Interaction",
          "No Interaction",
          "No Interaction",
          "No Interaction",
          "No Interaction",
          "No Interaction",
          "No Interaction",
          "No Interaction",
          "No Interaction",
          "No Interaction"
         ],
         "type": "scatter",
         "x": [
          826724246768496.5,
          795071654108649.2,
          766286539350870.5,
          739488504563771.1,
          714156808018121.4,
          689954857755638.9,
          666651218094984,
          644079318419062.8,
          622114976638836.4,
          600662982840518.5,
          579648654480374.6,
          559012288320516,
          538705384440636.6,
          518687998987375.8,
          498926840787607.44,
          479393872672946.7,
          460065263991761.94,
          440920592928228.3,
          421942230000976.5,
          403114855256048.44,
          384425075650065.94
         ],
         "y": [
          918170294773830,
          1010851955990063.1,
          1095137381917751.4,
          1173604457524782,
          1247777961809459,
          1318643466544083,
          1386878636387652.5,
          1452971205209805.8,
          1517284789426711.5,
          1580098172298522.5,
          1641630031084681.2,
          1702055182278959,
          1761515638045449,
          1820128357608460.5,
          1877990820541383,
          1935185122215348.8,
          1991781040939036,
          2047838373640805.5,
          2103408741040552.8,
          2158537001352512.2,
          2213262370622028.5
         ]
        },
        {
         "hovertemplate": "<b>X</b>: %{x}<br><b>Y</b>: %{y}<br><b>Last Interaction: %{text}</b>",
         "line": {
          "color": "darkslategrey"
         },
         "marker": {
          "color": [
           "aqua",
           "aqua",
           "aqua",
           "deeppink",
           "deeppink",
           "deeppink",
           "deeppink",
           "deeppink",
           "deeppink",
           "deeppink",
           "deeppink",
           "deeppink",
           "deeppink",
           "deeppink",
           "deeppink",
           "deeppink",
           "deeppink",
           "deeppink",
           "deeppink",
           "deeppink",
           "deeppink",
           "deeppink",
           "deeppink",
           "deeppink",
           "deeppink"
          ]
         },
         "mode": "markers+lines",
         "name": "Packet 4",
         "text": [
          "No Interaction",
          "No Interaction",
          "No Interaction",
          "Line",
          "Line",
          "Line",
          "Line",
          "Line",
          "Line",
          "Line",
          "Line",
          "Line",
          "Line",
          "Line",
          "Line",
          "Line",
          "Line",
          "Line",
          "Line",
          "Line",
          "Line",
          "Line",
          "Line",
          "Line",
          "Line"
         ],
         "type": "scatter",
         "x": [
          381796676890135.06,
          360640553115821.75,
          339916618249257.44,
          327503908006376.7,
          298185300498063.44,
          288190704878819.5,
          288119258191749.1,
          287771790641134.6,
          287424931156385.94,
          287078615067660.2,
          286732786643405.4,
          286387397585199.56,
          286042405819053.06,
          285697774516766.44,
          285353471297511,
          285009467571836.44,
          284665737999148.44,
          284322260036278.8,
          283979013559695.4,
          283635980547639.94,
          283293144811335.56,
          282950491766611.06,
          282608008238988.25,
          282265682296631.94,
          281923503106600.94
         ],
         "y": [
          1175049347012988,
          1234463042599621.2,
          1292663002604309,
          1327522176035267.2,
          1302922281730909.5,
          1294536276502712,
          1305185135803743.5,
          1356973864013303.5,
          1408671962298443.2,
          1460289069455371.2,
          1511833492061777,
          1563312428815295,
          1614732150685446.8,
          1666098146776523.5,
          1717415243328898.8,
          1768687701492385.5,
          1819919298186983,
          1871113393386906.2,
          1922272986428739,
          1973400763387604.2,
          2024499137139580,
          2075570281400520,
          2126616159776651.8,
          2177638550662992.2,
          2228639068668613
         ]
        },
        {
         "hovertemplate": "<b>X</b>: %{x}<br><b>Y</b>: %{y}<br><b>Last Interaction: %{text}</b>",
         "line": {
          "color": "darkslategrey"
         },
         "marker": {
          "color": [
           "aqua",
           "blueviolet",
           "blueviolet"
          ]
         },
         "mode": "markers+lines",
         "name": "Packet 5",
         "text": [
          "No Interaction",
          "EScattering",
          "EScattering"
         ],
         "type": "scatter",
         "x": [
          -129147006936451.05,
          -200478631445868.2,
          -265904147033805.78
         ],
         "y": [
          1228751692165409.2,
          1226065161649576,
          1206567302304444.2
         ]
        },
        {
         "hovertemplate": "<b>X</b>: %{x}<br><b>Y</b>: %{y}<br><b>Last Interaction: %{text}</b>",
         "line": {
          "color": "darkslategrey"
         },
         "marker": {
          "color": [
           "aqua",
           "aqua",
           "aqua",
           "aqua",
           "aqua",
           "aqua",
           "aqua",
           "aqua",
           "aqua",
           "aqua",
           "aqua",
           "aqua",
           "aqua",
           "aqua",
           "aqua",
           "aqua",
           "aqua",
           "aqua",
           "aqua",
           "aqua",
           "aqua"
          ]
         },
         "mode": "markers+lines",
         "name": "Packet 6",
         "text": [
          "No Interaction",
          "No Interaction",
          "No Interaction",
          "No Interaction",
          "No Interaction",
          "No Interaction",
          "No Interaction",
          "No Interaction",
          "No Interaction",
          "No Interaction",
          "No Interaction",
          "No Interaction",
          "No Interaction",
          "No Interaction",
          "No Interaction",
          "No Interaction",
          "No Interaction",
          "No Interaction",
          "No Interaction",
          "No Interaction",
          "No Interaction"
         ],
         "type": "scatter",
         "x": [
          -617759999999999.8,
          -680099422605262.8,
          -740844572913789.9,
          -800268386219261.4,
          -858580652862581.8,
          -915946132383738.9,
          -972496569674043.8,
          -1028338935087131.8,
          -1083561235652416.8,
          -1138236712741806.5,
          -1192426937754601.8,
          -1246184136890248.8,
          -1299552965130876.8,
          -1352571879303740.5,
          -1405274214431869.5,
          -1457689037204751.5,
          -1509841829768747.5,
          -1561755042758808.5,
          -1613448546443521.2,
          -1664940001672622,
          -1716245167109459
         ],
         "y": [
          1069991706883749.8,
          1091524341216442.2,
          1112506298610567.1,
          1133031853533703.2,
          1153173469581251.8,
          1172988056278183.2,
          1192521119573242,
          1211809608052298,
          1230883920187199.5,
          1249769354250105.8,
          1268487177592735,
          1287055429645167,
          1305489534666420.2,
          1323802776013386.2,
          1342006667922664.2,
          1360111250307519.8,
          1378125324945652.8,
          1396056646501650,
          1413912078356815.5,
          1431697720737995,
          1449419016838618
         ]
        },
        {
         "hovertemplate": "<b>X</b>: %{x}<br><b>Y</b>: %{y}<br><b>Last Interaction: %{text}</b>",
         "line": {
          "color": "darkslategrey"
         },
         "marker": {
          "color": [
           "aqua",
           "aqua",
           "aqua",
           "aqua",
           "aqua",
           "aqua",
           "aqua",
           "aqua",
           "aqua",
           "aqua",
           "aqua",
           "aqua",
           "aqua",
           "aqua",
           "aqua",
           "aqua",
           "aqua",
           "aqua",
           "aqua",
           "aqua",
           "aqua"
          ]
         },
         "mode": "markers+lines",
         "name": "Packet 7",
         "text": [
          "No Interaction",
          "No Interaction",
          "No Interaction",
          "No Interaction",
          "No Interaction",
          "No Interaction",
          "No Interaction",
          "No Interaction",
          "No Interaction",
          "No Interaction",
          "No Interaction",
          "No Interaction",
          "No Interaction",
          "No Interaction",
          "No Interaction",
          "No Interaction",
          "No Interaction",
          "No Interaction",
          "No Interaction",
          "No Interaction",
          "No Interaction"
         ],
         "type": "scatter",
         "x": [
          -999556676890135,
          -1068686444226490.4,
          -1135537230264705.8,
          -1200537718439576.8,
          -1264007293033765.8,
          -1326190515202465.5,
          -1387278893636463.2,
          -1447425219506164.2,
          -1506753337370247.8,
          -1565365001612866,
          -1623344808530229,
          -1680763820932607,
          -1737682282087911.2,
          -1794151681486317,
          -1850216350333633.8,
          -1905914709992194.5,
          -1961280260369705.8,
          -2016342370754279.5,
          -2071126918697407.8,
          -2125656810691745.2,
          -2179952409941177.8
         ],
         "y": [
          726220434912396.5,
          715450834105699,
          705036271653282.1,
          694909963741991,
          685022154074926.4,
          675334742914222.5,
          665817895469016.5,
          656447808680578,
          647205189030202.5,
          638074184387326.5,
          629041615648721.8,
          620096412068336.1,
          611229188456956,
          602431923360492.1,
          593697710500965.2,
          585020564284170.4,
          576395265820373.8,
          567817239721560.8,
          559282454571017.2,
          550787341807886,
          542328729085644.8
         ]
        },
        {
         "hovertemplate": "<b>X</b>: %{x}<br><b>Y</b>: %{y}<br><b>Last Interaction: %{text}</b>",
         "line": {
          "color": "darkslategrey"
         },
         "marker": {
          "color": [
           "aqua",
           "aqua",
           "blueviolet",
           "blueviolet",
           "blueviolet"
          ]
         },
         "mode": "markers+lines",
         "name": "Packet 8",
         "text": [
          "No Interaction",
          "No Interaction",
          "EScattering",
          "EScattering",
          "EScattering"
         ],
         "type": "scatter",
         "x": [
          -1208520923658631.5,
          -1280407383520394,
          -1289033450366773,
          -1282107552088212.2,
          -1233099652264927.2
         ],
         "y": [
          256879052239158.5,
          120488772599185.64,
          104122524050666.78,
          100800977050681.89,
          77297593650225.83
         ]
        },
        {
         "hovertemplate": "<b>X</b>: %{x}<br><b>Y</b>: %{y}<br><b>Last Interaction: %{text}</b>",
         "line": {
          "color": "darkslategrey"
         },
         "marker": {
          "color": [
           "aqua",
           "blueviolet",
           "blueviolet"
          ]
         },
         "mode": "markers+lines",
         "name": "Packet 9",
         "text": [
          "No Interaction",
          "EScattering",
          "EScattering"
         ],
         "type": "scatter",
         "x": [
          -1208520923658631.5,
          -1210491913214834,
          -1141631550520213.2
         ],
         "y": [
          -256879052239157.7,
          -389564347311873.9,
          -472426791425734
         ]
        },
        {
         "hovertemplate": "<b>X</b>: %{x}<br><b>Y</b>: %{y}<br><b>Last Interaction: %{text}</b>",
         "line": {
          "color": "darkslategrey"
         },
         "marker": {
          "color": [
           "aqua",
           "aqua",
           "aqua",
           "aqua",
           "aqua",
           "aqua",
           "aqua",
           "aqua",
           "aqua",
           "aqua",
           "aqua",
           "aqua",
           "aqua",
           "aqua",
           "aqua",
           "aqua",
           "aqua",
           "aqua",
           "aqua",
           "aqua",
           "aqua"
          ]
         },
         "mode": "markers+lines",
         "name": "Packet 10",
         "text": [
          "No Interaction",
          "No Interaction",
          "No Interaction",
          "No Interaction",
          "No Interaction",
          "No Interaction",
          "No Interaction",
          "No Interaction",
          "No Interaction",
          "No Interaction",
          "No Interaction",
          "No Interaction",
          "No Interaction",
          "No Interaction",
          "No Interaction",
          "No Interaction",
          "No Interaction",
          "No Interaction",
          "No Interaction",
          "No Interaction",
          "No Interaction"
         ],
         "type": "scatter",
         "x": [
          -999556676890135.2,
          -903383353359636.2,
          -840273762979182.1,
          -788510166895037.6,
          -742942105167492.5,
          -701370486089897.6,
          -662620910601120,
          -625982172156503.4,
          -590986863991109.1,
          -557309528354881.2,
          -524713557455347.5,
          -493021079776526.8,
          -462094750285589.8,
          -431826166707832.94,
          -402128191774942.75,
          -372929688254920.3,
          -344171803568051.94,
          -315805282937906.1,
          -287788484790687.75,
          -260085887519684.88,
          -232666947518551.22
         ],
         "y": [
          -726220434912396.2,
          -915346452972151.2,
          -1039452235031896.6,
          -1141245980412268.5,
          -1230856131635738.5,
          -1312607229464328.5,
          -1388808744028544.2,
          -1460859271704918.5,
          -1529677973618615.2,
          -1595904866419317.8,
          -1660005242227431.5,
          -1722328887556609.2,
          -1783145893095261.5,
          -1842669433243635,
          -1901070864506585,
          -1958490079121691.2,
          -2015042811407418.8,
          -2070825921484591.8,
          -2125921298017845.2,
          -2180398794681628.5,
          -2234318475851730.5
         ]
        },
        {
         "hovertemplate": "<b>X</b>: %{x}<br><b>Y</b>: %{y}<br><b>Last Interaction: %{text}</b>",
         "line": {
          "color": "darkslategrey"
         },
         "marker": {
          "color": [
           "aqua",
           "blueviolet",
           "blueviolet",
           "blueviolet",
           "blueviolet",
           "blueviolet",
           "blueviolet",
           "blueviolet",
           "blueviolet",
           "blueviolet",
           "blueviolet",
           "blueviolet",
           "blueviolet",
           "blueviolet",
           "blueviolet",
           "blueviolet",
           "blueviolet",
           "blueviolet",
           "blueviolet",
           "blueviolet",
           "blueviolet",
           "blueviolet",
           "blueviolet"
          ]
         },
         "mode": "markers+lines",
         "name": "Packet 11",
         "text": [
          "No Interaction",
          "EScattering",
          "EScattering",
          "EScattering",
          "EScattering",
          "EScattering",
          "EScattering",
          "EScattering",
          "EScattering",
          "EScattering",
          "EScattering",
          "EScattering",
          "EScattering",
          "EScattering",
          "EScattering",
          "EScattering",
          "EScattering",
          "EScattering",
          "EScattering",
          "EScattering",
          "EScattering",
          "EScattering",
          "EScattering"
         ],
         "type": "scatter",
         "x": [
          -617760000000000.5,
          -587852869521720.9,
          -574176120625565.9,
          -542908615820657.9,
          -542741180590580.25,
          -524233789627195.5,
          -506054339167789,
          -488237796154212.9,
          -470730397077023.94,
          -453489191140535.8,
          -436479325799157.8,
          -419672137841407.75,
          -403043777694809.5,
          -386574196806957.7,
          -370246388382737.56,
          -354045808749457.25,
          -337959929962749.6,
          -321977889391066.56,
          -306090212051728.25,
          -290288588271538.56,
          -274565693941185.56,
          -258915043932003.75,
          -243330871598151.03
         ],
         "y": [
          -1069991706883749.2,
          -1119890787364104.2,
          -1150774693239026.5,
          -1221380849911974.5,
          -1221758940781751.2,
          -1284277853471401.2,
          -1345688966375756.8,
          -1405874159377886,
          -1465015048360838,
          -1523256723307894.2,
          -1580716917899569,
          -1637492457929386.2,
          -1693663908472250,
          -1749298994562980.8,
          -1804455166024786,
          -1859181552127425.5,
          -1913520472907351.8,
          -1967508622889179,
          -2021178009048714.8,
          -2074556701886771,
          -2127669442618988,
          -2180538138341471,
          -2233182269078653.8
         ]
        },
        {
         "hovertemplate": "<b>X</b>: %{x}<br><b>Y</b>: %{y}<br><b>Last Interaction: %{text}</b>",
         "line": {
          "color": "darkslategrey"
         },
         "marker": {
          "color": [
           "aqua",
           "blueviolet",
           "blueviolet",
           "blueviolet",
           "blueviolet",
           "blueviolet",
           "blueviolet",
           "blueviolet",
           "blueviolet",
           "blueviolet",
           "blueviolet",
           "blueviolet",
           "blueviolet",
           "blueviolet",
           "blueviolet",
           "blueviolet",
           "blueviolet",
           "blueviolet",
           "blueviolet",
           "blueviolet",
           "blueviolet",
           "blueviolet",
           "blueviolet"
          ]
         },
         "mode": "markers+lines",
         "name": "Packet 12",
         "text": [
          "No Interaction",
          "EScattering",
          "EScattering",
          "EScattering",
          "EScattering",
          "EScattering",
          "EScattering",
          "EScattering",
          "EScattering",
          "EScattering",
          "EScattering",
          "EScattering",
          "EScattering",
          "EScattering",
          "EScattering",
          "EScattering",
          "EScattering",
          "EScattering",
          "EScattering",
          "EScattering",
          "EScattering",
          "EScattering",
          "EScattering"
         ],
         "type": "scatter",
         "x": [
          -129147006936452.16,
          -105025851270085.06,
          -76199263096367.17,
          -29853984566838.42,
          15012924914170.977,
          58670978389344.98,
          101322897761720.2,
          143125141822743.4,
          184201047672873.5,
          215662287163645.56,
          639890094712048.4,
          858770056025358,
          1008314965232024.9,
          1131532255639882.5,
          1239906415380035,
          1338521424986025.2,
          1430148087192557.8,
          1516488047961229.2,
          1598671748327045,
          1677493343364394.8,
          1753534630676812,
          1827235985233622.2,
          1898939579146642.5
         ],
         "y": [
          -1228751692165409,
          -1251168507558074.8,
          -1283804613015380.5,
          -1336274554599272,
          -1387070756374570,
          -1436498348314691.5,
          -1484786842610469.8,
          -1532113374536695.2,
          -1578617580549582,
          -1614236514141400.8,
          -1509874446129017,
          -1456028929633681.2,
          -1419240167304019.8,
          -1388928125016741,
          -1362267563808018,
          -1338007800170605,
          -1315467203390289,
          -1294227160428469.8,
          -1274009577388235.2,
          -1254619088326072.8,
          -1235912568251142.8,
          -1217781682816469.8,
          -1200142256047329
         ]
        },
        {
         "hovertemplate": "<b>X</b>: %{x}<br><b>Y</b>: %{y}<br><b>Last Interaction: %{text}</b>",
         "line": {
          "color": "darkslategrey"
         },
         "marker": {
          "color": [
           "aqua",
           "blueviolet",
           "deeppink",
           "deeppink"
          ]
         },
         "mode": "markers+lines",
         "name": "Packet 13",
         "text": [
          "No Interaction",
          "EScattering",
          "Line",
          "Line"
         ],
         "type": "scatter",
         "x": [
          381796676890134.8,
          420024892544411.4,
          441661228549474.75,
          442596540528267.3
         ],
         "y": [
          -1175049347012988.2,
          -1182510060525456.2,
          -1193995425014029,
          -1153524153501958.5
         ]
        },
        {
         "hovertemplate": "<b>X</b>: %{x}<br><b>Y</b>: %{y}<br><b>Last Interaction: %{text}</b>",
         "line": {
          "color": "darkslategrey"
         },
         "marker": {
          "color": [
           "aqua",
           "aqua",
           "aqua",
           "aqua",
           "aqua",
           "aqua",
           "aqua",
           "aqua",
           "aqua",
           "aqua",
           "aqua",
           "aqua",
           "aqua",
           "aqua",
           "aqua",
           "aqua",
           "aqua",
           "aqua",
           "aqua",
           "aqua",
           "aqua"
          ]
         },
         "mode": "markers+lines",
         "name": "Packet 14",
         "text": [
          "No Interaction",
          "No Interaction",
          "No Interaction",
          "No Interaction",
          "No Interaction",
          "No Interaction",
          "No Interaction",
          "No Interaction",
          "No Interaction",
          "No Interaction",
          "No Interaction",
          "No Interaction",
          "No Interaction",
          "No Interaction",
          "No Interaction",
          "No Interaction",
          "No Interaction",
          "No Interaction",
          "No Interaction",
          "No Interaction",
          "No Interaction"
         ],
         "type": "scatter",
         "x": [
          826724246768496,
          945994407913866.6,
          1046258105091989.5,
          1135591857660009.5,
          1217693534988938.8,
          1294610875618973.5,
          1367612115471307.2,
          1437543539612367.5,
          1505000919819967.2,
          1570420956848558.8,
          1634134031793043,
          1696396530089954.8,
          1757411622103618.8,
          1817343155817415.8,
          1876325252009715.8,
          1934469116210463.2,
          1991867990151281.8,
          2048600825174344,
          2104735056669385.8,
          2160328732888781.8,
          2215432171478184.5
         ],
         "y": [
          -918170294773830.5,
          -871237735805614,
          -831784180658251.9,
          -796631535855999.4,
          -764324697535113.4,
          -734057884862682,
          -705332049656115.2,
          -677814180511698.8,
          -651269842480866.6,
          -625527194730059.1,
          -600456232989395.1,
          -575956070125805.4,
          -551946759025837.8,
          -528363825850706.5,
          -505154494354623.25,
          -482275005394131.8,
          -459688668542843.3,
          -437364416612734.06,
          -415275713918977.75,
          -393399718595667.06,
          -371716630754471.94
         ]
        },
        {
         "hovertemplate": "<b>X</b>: %{x}<br><b>Y</b>: %{y}<br><b>Last Interaction: %{text}</b>",
         "line": {
          "color": "darkslategrey"
         },
         "marker": {
          "color": [
           "aqua",
           "aqua",
           "aqua",
           "aqua",
           "aqua",
           "aqua",
           "aqua",
           "aqua",
           "aqua",
           "aqua",
           "aqua",
           "aqua",
           "aqua",
           "aqua",
           "aqua",
           "aqua",
           "aqua",
           "aqua",
           "aqua",
           "aqua",
           "aqua"
          ]
         },
         "mode": "markers+lines",
         "name": "Packet 15",
         "text": [
          "No Interaction",
          "No Interaction",
          "No Interaction",
          "No Interaction",
          "No Interaction",
          "No Interaction",
          "No Interaction",
          "No Interaction",
          "No Interaction",
          "No Interaction",
          "No Interaction",
          "No Interaction",
          "No Interaction",
          "No Interaction",
          "No Interaction",
          "No Interaction",
          "No Interaction",
          "No Interaction",
          "No Interaction",
          "No Interaction",
          "No Interaction"
         ],
         "type": "scatter",
         "x": [
          1128703683826585.8,
          1206807001601396.2,
          1277943561433169.8,
          1344234007557344.5,
          1406939416577522.5,
          1466877851967377.2,
          1524613261142742.2,
          1580552326231522.5,
          1634998700550672,
          1688185478764399,
          1740295683245438.2,
          1791475749132530.5,
          1841844716902351,
          1891500685766302,
          1940525459062653.5,
          1988987961268517,
          2036946799283270.2,
          2084452214390904.2,
          2131547591895202.8,
          2178270644094348.2,
          2224654348280393
         ],
         "y": [
          -502531257253013.56,
          -444496876234072.06,
          -391639118903494.4,
          -342382248415891.1,
          -295789226471318.56,
          -251252194035341.56,
          -208352112069191.7,
          -166786796923864.53,
          -126330620126769.19,
          -86810381550926.05,
          -48090087100093.3,
          -10060928686749.67,
          27365546274437.434,
          64262230039190.69,
          100689906275055.7,
          136699789059490.11,
          172335426032027.75,
          207634148792670.3,
          242628194630719.28,
          277345585529669.25,
          311810825144253.2
         ]
        }
       ],
       "layout": {
        "height": 900,
        "paper_bgcolor": "#fafafa",
        "plot_bgcolor": "#fafafa",
        "shapes": [
         {
          "fillcolor": "darkgrey",
          "line": {
           "color": "black"
          },
          "opacity": 1,
          "type": "circle",
          "x0": -1235520000000000,
          "x1": 1235520000000000,
          "xref": "x",
          "y0": -1235520000000000,
          "y1": 1235520000000000,
          "yref": "y"
         },
         {
          "line": {
           "color": "black"
          },
          "opacity": 0.2,
          "type": "circle",
          "x0": -1286064000000000,
          "x1": 1286064000000000,
          "xref": "x",
          "y0": -1286064000000000,
          "y1": 1286064000000000,
          "yref": "y"
         },
         {
          "line": {
           "color": "black"
          },
          "opacity": 0.2,
          "type": "circle",
          "x0": -1336608000000000,
          "x1": 1336608000000000,
          "xref": "x",
          "y0": -1336608000000000,
          "y1": 1336608000000000,
          "yref": "y"
         },
         {
          "line": {
           "color": "black"
          },
          "opacity": 0.2,
          "type": "circle",
          "x0": -1387152000000000,
          "x1": 1387152000000000,
          "xref": "x",
          "y0": -1387152000000000,
          "y1": 1387152000000000,
          "yref": "y"
         },
         {
          "line": {
           "color": "black"
          },
          "opacity": 0.2,
          "type": "circle",
          "x0": -1437696000000000,
          "x1": 1437696000000000,
          "xref": "x",
          "y0": -1437696000000000,
          "y1": 1437696000000000,
          "yref": "y"
         },
         {
          "line": {
           "color": "black"
          },
          "opacity": 0.2,
          "type": "circle",
          "x0": -1488240000000000,
          "x1": 1488240000000000,
          "xref": "x",
          "y0": -1488240000000000,
          "y1": 1488240000000000,
          "yref": "y"
         },
         {
          "line": {
           "color": "black"
          },
          "opacity": 0.2,
          "type": "circle",
          "x0": -1538784000000000,
          "x1": 1538784000000000,
          "xref": "x",
          "y0": -1538784000000000,
          "y1": 1538784000000000,
          "yref": "y"
         },
         {
          "line": {
           "color": "black"
          },
          "opacity": 0.2,
          "type": "circle",
          "x0": -1589328000000000,
          "x1": 1589328000000000,
          "xref": "x",
          "y0": -1589328000000000,
          "y1": 1589328000000000,
          "yref": "y"
         },
         {
          "line": {
           "color": "black"
          },
          "opacity": 0.2,
          "type": "circle",
          "x0": -1639872000000000,
          "x1": 1639872000000000,
          "xref": "x",
          "y0": -1639872000000000,
          "y1": 1639872000000000,
          "yref": "y"
         },
         {
          "line": {
           "color": "black"
          },
          "opacity": 0.2,
          "type": "circle",
          "x0": -1690416000000000,
          "x1": 1690416000000000,
          "xref": "x",
          "y0": -1690416000000000,
          "y1": 1690416000000000,
          "yref": "y"
         },
         {
          "line": {
           "color": "black"
          },
          "opacity": 0.2,
          "type": "circle",
          "x0": -1740960000000000,
          "x1": 1740960000000000,
          "xref": "x",
          "y0": -1740960000000000,
          "y1": 1740960000000000,
          "yref": "y"
         },
         {
          "line": {
           "color": "black"
          },
          "opacity": 0.2,
          "type": "circle",
          "x0": -1791504000000000,
          "x1": 1791504000000000,
          "xref": "x",
          "y0": -1791504000000000,
          "y1": 1791504000000000,
          "yref": "y"
         },
         {
          "line": {
           "color": "black"
          },
          "opacity": 0.2,
          "type": "circle",
          "x0": -1842048000000000,
          "x1": 1842048000000000,
          "xref": "x",
          "y0": -1842048000000000,
          "y1": 1842048000000000,
          "yref": "y"
         },
         {
          "line": {
           "color": "black"
          },
          "opacity": 0.2,
          "type": "circle",
          "x0": -1892592000000000,
          "x1": 1892592000000000,
          "xref": "x",
          "y0": -1892592000000000,
          "y1": 1892592000000000,
          "yref": "y"
         },
         {
          "line": {
           "color": "black"
          },
          "opacity": 0.2,
          "type": "circle",
          "x0": -1943136000000000,
          "x1": 1943136000000000,
          "xref": "x",
          "y0": -1943136000000000,
          "y1": 1943136000000000,
          "yref": "y"
         },
         {
          "line": {
           "color": "black"
          },
          "opacity": 0.2,
          "type": "circle",
          "x0": -1993680000000000,
          "x1": 1993680000000000,
          "xref": "x",
          "y0": -1993680000000000,
          "y1": 1993680000000000,
          "yref": "y"
         },
         {
          "line": {
           "color": "black"
          },
          "opacity": 0.2,
          "type": "circle",
          "x0": -2044224000000000,
          "x1": 2044224000000000,
          "xref": "x",
          "y0": -2044224000000000,
          "y1": 2044224000000000,
          "yref": "y"
         },
         {
          "line": {
           "color": "black"
          },
          "opacity": 0.2,
          "type": "circle",
          "x0": -2094768000000000,
          "x1": 2094768000000000,
          "xref": "x",
          "y0": -2094768000000000,
          "y1": 2094768000000000,
          "yref": "y"
         },
         {
          "line": {
           "color": "black"
          },
          "opacity": 0.2,
          "type": "circle",
          "x0": -2145312000000000,
          "x1": 2145312000000000,
          "xref": "x",
          "y0": -2145312000000000,
          "y1": 2145312000000000,
          "yref": "y"
         },
         {
          "line": {
           "color": "black"
          },
          "opacity": 0.2,
          "type": "circle",
          "x0": -2195856000000000,
          "x1": 2195856000000000,
          "xref": "x",
          "y0": -2195856000000000,
          "y1": 2195856000000000,
          "yref": "y"
         },
         {
          "line": {
           "color": "black"
          },
          "opacity": 1,
          "type": "circle",
          "x0": -2246400000000000,
          "x1": 2246400000000000,
          "xref": "x",
          "y0": -2246400000000000,
          "y1": 2246400000000000,
          "yref": "y"
         }
        ],
        "template": {
         "data": {
          "bar": [
           {
            "error_x": {
             "color": "#2a3f5f"
            },
            "error_y": {
             "color": "#2a3f5f"
            },
            "marker": {
             "line": {
              "color": "#E5ECF6",
              "width": 0.5
             },
             "pattern": {
              "fillmode": "overlay",
              "size": 10,
              "solidity": 0.2
             }
            },
            "type": "bar"
           }
          ],
          "barpolar": [
           {
            "marker": {
             "line": {
              "color": "#E5ECF6",
              "width": 0.5
             },
             "pattern": {
              "fillmode": "overlay",
              "size": 10,
              "solidity": 0.2
             }
            },
            "type": "barpolar"
           }
          ],
          "carpet": [
           {
            "aaxis": {
             "endlinecolor": "#2a3f5f",
             "gridcolor": "white",
             "linecolor": "white",
             "minorgridcolor": "white",
             "startlinecolor": "#2a3f5f"
            },
            "baxis": {
             "endlinecolor": "#2a3f5f",
             "gridcolor": "white",
             "linecolor": "white",
             "minorgridcolor": "white",
             "startlinecolor": "#2a3f5f"
            },
            "type": "carpet"
           }
          ],
          "choropleth": [
           {
            "colorbar": {
             "outlinewidth": 0,
             "ticks": ""
            },
            "type": "choropleth"
           }
          ],
          "contour": [
           {
            "colorbar": {
             "outlinewidth": 0,
             "ticks": ""
            },
            "colorscale": [
             [
              0,
              "#0d0887"
             ],
             [
              0.1111111111111111,
              "#46039f"
             ],
             [
              0.2222222222222222,
              "#7201a8"
             ],
             [
              0.3333333333333333,
              "#9c179e"
             ],
             [
              0.4444444444444444,
              "#bd3786"
             ],
             [
              0.5555555555555556,
              "#d8576b"
             ],
             [
              0.6666666666666666,
              "#ed7953"
             ],
             [
              0.7777777777777778,
              "#fb9f3a"
             ],
             [
              0.8888888888888888,
              "#fdca26"
             ],
             [
              1,
              "#f0f921"
             ]
            ],
            "type": "contour"
           }
          ],
          "contourcarpet": [
           {
            "colorbar": {
             "outlinewidth": 0,
             "ticks": ""
            },
            "type": "contourcarpet"
           }
          ],
          "heatmap": [
           {
            "colorbar": {
             "outlinewidth": 0,
             "ticks": ""
            },
            "colorscale": [
             [
              0,
              "#0d0887"
             ],
             [
              0.1111111111111111,
              "#46039f"
             ],
             [
              0.2222222222222222,
              "#7201a8"
             ],
             [
              0.3333333333333333,
              "#9c179e"
             ],
             [
              0.4444444444444444,
              "#bd3786"
             ],
             [
              0.5555555555555556,
              "#d8576b"
             ],
             [
              0.6666666666666666,
              "#ed7953"
             ],
             [
              0.7777777777777778,
              "#fb9f3a"
             ],
             [
              0.8888888888888888,
              "#fdca26"
             ],
             [
              1,
              "#f0f921"
             ]
            ],
            "type": "heatmap"
           }
          ],
          "heatmapgl": [
           {
            "colorbar": {
             "outlinewidth": 0,
             "ticks": ""
            },
            "colorscale": [
             [
              0,
              "#0d0887"
             ],
             [
              0.1111111111111111,
              "#46039f"
             ],
             [
              0.2222222222222222,
              "#7201a8"
             ],
             [
              0.3333333333333333,
              "#9c179e"
             ],
             [
              0.4444444444444444,
              "#bd3786"
             ],
             [
              0.5555555555555556,
              "#d8576b"
             ],
             [
              0.6666666666666666,
              "#ed7953"
             ],
             [
              0.7777777777777778,
              "#fb9f3a"
             ],
             [
              0.8888888888888888,
              "#fdca26"
             ],
             [
              1,
              "#f0f921"
             ]
            ],
            "type": "heatmapgl"
           }
          ],
          "histogram": [
           {
            "marker": {
             "pattern": {
              "fillmode": "overlay",
              "size": 10,
              "solidity": 0.2
             }
            },
            "type": "histogram"
           }
          ],
          "histogram2d": [
           {
            "colorbar": {
             "outlinewidth": 0,
             "ticks": ""
            },
            "colorscale": [
             [
              0,
              "#0d0887"
             ],
             [
              0.1111111111111111,
              "#46039f"
             ],
             [
              0.2222222222222222,
              "#7201a8"
             ],
             [
              0.3333333333333333,
              "#9c179e"
             ],
             [
              0.4444444444444444,
              "#bd3786"
             ],
             [
              0.5555555555555556,
              "#d8576b"
             ],
             [
              0.6666666666666666,
              "#ed7953"
             ],
             [
              0.7777777777777778,
              "#fb9f3a"
             ],
             [
              0.8888888888888888,
              "#fdca26"
             ],
             [
              1,
              "#f0f921"
             ]
            ],
            "type": "histogram2d"
           }
          ],
          "histogram2dcontour": [
           {
            "colorbar": {
             "outlinewidth": 0,
             "ticks": ""
            },
            "colorscale": [
             [
              0,
              "#0d0887"
             ],
             [
              0.1111111111111111,
              "#46039f"
             ],
             [
              0.2222222222222222,
              "#7201a8"
             ],
             [
              0.3333333333333333,
              "#9c179e"
             ],
             [
              0.4444444444444444,
              "#bd3786"
             ],
             [
              0.5555555555555556,
              "#d8576b"
             ],
             [
              0.6666666666666666,
              "#ed7953"
             ],
             [
              0.7777777777777778,
              "#fb9f3a"
             ],
             [
              0.8888888888888888,
              "#fdca26"
             ],
             [
              1,
              "#f0f921"
             ]
            ],
            "type": "histogram2dcontour"
           }
          ],
          "mesh3d": [
           {
            "colorbar": {
             "outlinewidth": 0,
             "ticks": ""
            },
            "type": "mesh3d"
           }
          ],
          "parcoords": [
           {
            "line": {
             "colorbar": {
              "outlinewidth": 0,
              "ticks": ""
             }
            },
            "type": "parcoords"
           }
          ],
          "pie": [
           {
            "automargin": true,
            "type": "pie"
           }
          ],
          "scatter": [
           {
            "fillpattern": {
             "fillmode": "overlay",
             "size": 10,
             "solidity": 0.2
            },
            "type": "scatter"
           }
          ],
          "scatter3d": [
           {
            "line": {
             "colorbar": {
              "outlinewidth": 0,
              "ticks": ""
             }
            },
            "marker": {
             "colorbar": {
              "outlinewidth": 0,
              "ticks": ""
             }
            },
            "type": "scatter3d"
           }
          ],
          "scattercarpet": [
           {
            "marker": {
             "colorbar": {
              "outlinewidth": 0,
              "ticks": ""
             }
            },
            "type": "scattercarpet"
           }
          ],
          "scattergeo": [
           {
            "marker": {
             "colorbar": {
              "outlinewidth": 0,
              "ticks": ""
             }
            },
            "type": "scattergeo"
           }
          ],
          "scattergl": [
           {
            "marker": {
             "colorbar": {
              "outlinewidth": 0,
              "ticks": ""
             }
            },
            "type": "scattergl"
           }
          ],
          "scattermapbox": [
           {
            "marker": {
             "colorbar": {
              "outlinewidth": 0,
              "ticks": ""
             }
            },
            "type": "scattermapbox"
           }
          ],
          "scatterpolar": [
           {
            "marker": {
             "colorbar": {
              "outlinewidth": 0,
              "ticks": ""
             }
            },
            "type": "scatterpolar"
           }
          ],
          "scatterpolargl": [
           {
            "marker": {
             "colorbar": {
              "outlinewidth": 0,
              "ticks": ""
             }
            },
            "type": "scatterpolargl"
           }
          ],
          "scatterternary": [
           {
            "marker": {
             "colorbar": {
              "outlinewidth": 0,
              "ticks": ""
             }
            },
            "type": "scatterternary"
           }
          ],
          "surface": [
           {
            "colorbar": {
             "outlinewidth": 0,
             "ticks": ""
            },
            "colorscale": [
             [
              0,
              "#0d0887"
             ],
             [
              0.1111111111111111,
              "#46039f"
             ],
             [
              0.2222222222222222,
              "#7201a8"
             ],
             [
              0.3333333333333333,
              "#9c179e"
             ],
             [
              0.4444444444444444,
              "#bd3786"
             ],
             [
              0.5555555555555556,
              "#d8576b"
             ],
             [
              0.6666666666666666,
              "#ed7953"
             ],
             [
              0.7777777777777778,
              "#fb9f3a"
             ],
             [
              0.8888888888888888,
              "#fdca26"
             ],
             [
              1,
              "#f0f921"
             ]
            ],
            "type": "surface"
           }
          ],
          "table": [
           {
            "cells": {
             "fill": {
              "color": "#EBF0F8"
             },
             "line": {
              "color": "white"
             }
            },
            "header": {
             "fill": {
              "color": "#C8D4E3"
             },
             "line": {
              "color": "white"
             }
            },
            "type": "table"
           }
          ]
         },
         "layout": {
          "annotationdefaults": {
           "arrowcolor": "#2a3f5f",
           "arrowhead": 0,
           "arrowwidth": 1
          },
          "autotypenumbers": "strict",
          "coloraxis": {
           "colorbar": {
            "outlinewidth": 0,
            "ticks": ""
           }
          },
          "colorscale": {
           "diverging": [
            [
             0,
             "#8e0152"
            ],
            [
             0.1,
             "#c51b7d"
            ],
            [
             0.2,
             "#de77ae"
            ],
            [
             0.3,
             "#f1b6da"
            ],
            [
             0.4,
             "#fde0ef"
            ],
            [
             0.5,
             "#f7f7f7"
            ],
            [
             0.6,
             "#e6f5d0"
            ],
            [
             0.7,
             "#b8e186"
            ],
            [
             0.8,
             "#7fbc41"
            ],
            [
             0.9,
             "#4d9221"
            ],
            [
             1,
             "#276419"
            ]
           ],
           "sequential": [
            [
             0,
             "#0d0887"
            ],
            [
             0.1111111111111111,
             "#46039f"
            ],
            [
             0.2222222222222222,
             "#7201a8"
            ],
            [
             0.3333333333333333,
             "#9c179e"
            ],
            [
             0.4444444444444444,
             "#bd3786"
            ],
            [
             0.5555555555555556,
             "#d8576b"
            ],
            [
             0.6666666666666666,
             "#ed7953"
            ],
            [
             0.7777777777777778,
             "#fb9f3a"
            ],
            [
             0.8888888888888888,
             "#fdca26"
            ],
            [
             1,
             "#f0f921"
            ]
           ],
           "sequentialminus": [
            [
             0,
             "#0d0887"
            ],
            [
             0.1111111111111111,
             "#46039f"
            ],
            [
             0.2222222222222222,
             "#7201a8"
            ],
            [
             0.3333333333333333,
             "#9c179e"
            ],
            [
             0.4444444444444444,
             "#bd3786"
            ],
            [
             0.5555555555555556,
             "#d8576b"
            ],
            [
             0.6666666666666666,
             "#ed7953"
            ],
            [
             0.7777777777777778,
             "#fb9f3a"
            ],
            [
             0.8888888888888888,
             "#fdca26"
            ],
            [
             1,
             "#f0f921"
            ]
           ]
          },
          "colorway": [
           "#636efa",
           "#EF553B",
           "#00cc96",
           "#ab63fa",
           "#FFA15A",
           "#19d3f3",
           "#FF6692",
           "#B6E880",
           "#FF97FF",
           "#FECB52"
          ],
          "font": {
           "color": "#2a3f5f"
          },
          "geo": {
           "bgcolor": "white",
           "lakecolor": "white",
           "landcolor": "#E5ECF6",
           "showlakes": true,
           "showland": true,
           "subunitcolor": "white"
          },
          "hoverlabel": {
           "align": "left"
          },
          "hovermode": "closest",
          "mapbox": {
           "style": "light"
          },
          "paper_bgcolor": "white",
          "plot_bgcolor": "#E5ECF6",
          "polar": {
           "angularaxis": {
            "gridcolor": "white",
            "linecolor": "white",
            "ticks": ""
           },
           "bgcolor": "#E5ECF6",
           "radialaxis": {
            "gridcolor": "white",
            "linecolor": "white",
            "ticks": ""
           }
          },
          "scene": {
           "xaxis": {
            "backgroundcolor": "#E5ECF6",
            "gridcolor": "white",
            "gridwidth": 2,
            "linecolor": "white",
            "showbackground": true,
            "ticks": "",
            "zerolinecolor": "white"
           },
           "yaxis": {
            "backgroundcolor": "#E5ECF6",
            "gridcolor": "white",
            "gridwidth": 2,
            "linecolor": "white",
            "showbackground": true,
            "ticks": "",
            "zerolinecolor": "white"
           },
           "zaxis": {
            "backgroundcolor": "#E5ECF6",
            "gridcolor": "white",
            "gridwidth": 2,
            "linecolor": "white",
            "showbackground": true,
            "ticks": "",
            "zerolinecolor": "white"
           }
          },
          "shapedefaults": {
           "line": {
            "color": "#2a3f5f"
           }
          },
          "ternary": {
           "aaxis": {
            "gridcolor": "white",
            "linecolor": "white",
            "ticks": ""
           },
           "baxis": {
            "gridcolor": "white",
            "linecolor": "white",
            "ticks": ""
           },
           "bgcolor": "#E5ECF6",
           "caxis": {
            "gridcolor": "white",
            "linecolor": "white",
            "ticks": ""
           }
          },
          "title": {
           "x": 0.05
          },
          "xaxis": {
           "automargin": true,
           "gridcolor": "white",
           "linecolor": "white",
           "ticks": "",
           "title": {
            "standoff": 15
           },
           "zerolinecolor": "white",
           "zerolinewidth": 2
          },
          "yaxis": {
           "automargin": true,
           "gridcolor": "white",
           "linecolor": "white",
           "ticks": "",
           "title": {
            "standoff": 15
           },
           "zerolinecolor": "white",
           "zerolinewidth": 2
          }
         }
        },
        "width": 900,
        "xaxis": {
         "gridcolor": "#fff",
         "linecolor": "#555",
         "range": [
          -2471040000000000,
          2471040000000000
         ],
         "zerolinecolor": "#555"
        },
        "yaxis": {
         "gridcolor": "#fff",
         "linecolor": "#555",
         "range": [
          -2471040000000000,
          2471040000000000
         ],
         "zerolinecolor": "#555"
        }
       }
      },
      "text/html": [
       "<div>                            <div id=\"adaf085e-2b92-4418-b73f-d73411e1b858\" class=\"plotly-graph-div\" style=\"height:900px; width:900px;\"></div>            <script type=\"text/javascript\">                require([\"plotly\"], function(Plotly) {                    window.PLOTLYENV=window.PLOTLYENV || {};                                    if (document.getElementById(\"adaf085e-2b92-4418-b73f-d73411e1b858\")) {                    Plotly.newPlot(                        \"adaf085e-2b92-4418-b73f-d73411e1b858\",                        [{\"hovertemplate\":\"<b>X</b>: %{x}<br><b>Y</b>: %{y}<br><b>Last Interaction: %{text}</b>\",\"line\":{\"color\":\"darkslategrey\"},\"marker\":{\"color\":[\"aqua\",\"deeppink\",\"deeppink\"]},\"mode\":\"markers+lines\",\"name\":\"Packet 1\",\"text\":[\"No Interaction\",\"Line\",\"Line\"],\"x\":[1235520000000000.0,1237679040791942.0,1235470425289553.2],\"y\":[0.0,3853769284715.758,11067910139258.242],\"type\":\"scatter\"},{\"hovertemplate\":\"<b>X</b>: %{x}<br><b>Y</b>: %{y}<br><b>Last Interaction: %{text}</b>\",\"line\":{\"color\":\"darkslategrey\"},\"marker\":{\"color\":[\"aqua\",\"aqua\",\"aqua\",\"aqua\",\"aqua\",\"aqua\",\"aqua\",\"aqua\",\"aqua\",\"aqua\",\"aqua\",\"aqua\",\"aqua\",\"aqua\",\"aqua\",\"aqua\",\"aqua\",\"aqua\",\"aqua\",\"aqua\",\"aqua\"]},\"mode\":\"markers+lines\",\"name\":\"Packet 2\",\"text\":[\"No Interaction\",\"No Interaction\",\"No Interaction\",\"No Interaction\",\"No Interaction\",\"No Interaction\",\"No Interaction\",\"No Interaction\",\"No Interaction\",\"No Interaction\",\"No Interaction\",\"No Interaction\",\"No Interaction\",\"No Interaction\",\"No Interaction\",\"No Interaction\",\"No Interaction\",\"No Interaction\",\"No Interaction\",\"No Interaction\",\"No Interaction\"],\"x\":[1128703683826586.2,1167696374695924.2,1206522387315814.0,1245201730366458.0,1283751273833906.5,1322185351133686.5,1360516225827531.8,1398754457594326.5,1436909192232549.0,1474988393676246.0,1512999031255749.0,1550947232061778.8,1588838405843830.0,1626677348103546.0,1664468325737803.8,1702215148612106.5,1739921229710930.5,1777589635953451.8,1815223131334763.5,1852824213721352.5,1890395146371311.2],\"y\":[502531257253012.6,538930226112802.0,575173603853435.5,611280068214544.9,647265367021766.6,683142880258215.2,718924055736076.1,754618750723834.8,790235502658292.0,825781745727264.0,861263985674059.4,896687942026604.5,932058664687817.1,967380630171400.2,1002657821548105.1,1037893795258197.1,1073091737260707.6,1108254510468996.0,1143384695022290.2,1178484622633597.0,1213556406013247.0],\"type\":\"scatter\"},{\"hovertemplate\":\"<b>X</b>: %{x}<br><b>Y</b>: %{y}<br><b>Last Interaction: %{text}</b>\",\"line\":{\"color\":\"darkslategrey\"},\"marker\":{\"color\":[\"aqua\",\"aqua\",\"aqua\",\"aqua\",\"aqua\",\"aqua\",\"aqua\",\"aqua\",\"aqua\",\"aqua\",\"aqua\",\"aqua\",\"aqua\",\"aqua\",\"aqua\",\"aqua\",\"aqua\",\"aqua\",\"aqua\",\"aqua\",\"aqua\"]},\"mode\":\"markers+lines\",\"name\":\"Packet 3\",\"text\":[\"No Interaction\",\"No Interaction\",\"No Interaction\",\"No Interaction\",\"No Interaction\",\"No Interaction\",\"No Interaction\",\"No Interaction\",\"No Interaction\",\"No Interaction\",\"No Interaction\",\"No Interaction\",\"No Interaction\",\"No Interaction\",\"No Interaction\",\"No Interaction\",\"No Interaction\",\"No Interaction\",\"No Interaction\",\"No Interaction\",\"No Interaction\"],\"x\":[826724246768496.5,795071654108649.2,766286539350870.5,739488504563771.1,714156808018121.4,689954857755638.9,666651218094984.0,644079318419062.8,622114976638836.4,600662982840518.5,579648654480374.6,559012288320516.0,538705384440636.6,518687998987375.8,498926840787607.44,479393872672946.7,460065263991761.94,440920592928228.3,421942230000976.5,403114855256048.44,384425075650065.94],\"y\":[918170294773830.0,1010851955990063.1,1095137381917751.4,1173604457524782.0,1247777961809459.0,1318643466544083.0,1386878636387652.5,1452971205209805.8,1517284789426711.5,1580098172298522.5,1641630031084681.2,1702055182278959.0,1761515638045449.0,1820128357608460.5,1877990820541383.0,1935185122215348.8,1991781040939036.0,2047838373640805.5,2103408741040552.8,2158537001352512.2,2213262370622028.5],\"type\":\"scatter\"},{\"hovertemplate\":\"<b>X</b>: %{x}<br><b>Y</b>: %{y}<br><b>Last Interaction: %{text}</b>\",\"line\":{\"color\":\"darkslategrey\"},\"marker\":{\"color\":[\"aqua\",\"aqua\",\"aqua\",\"deeppink\",\"deeppink\",\"deeppink\",\"deeppink\",\"deeppink\",\"deeppink\",\"deeppink\",\"deeppink\",\"deeppink\",\"deeppink\",\"deeppink\",\"deeppink\",\"deeppink\",\"deeppink\",\"deeppink\",\"deeppink\",\"deeppink\",\"deeppink\",\"deeppink\",\"deeppink\",\"deeppink\",\"deeppink\"]},\"mode\":\"markers+lines\",\"name\":\"Packet 4\",\"text\":[\"No Interaction\",\"No Interaction\",\"No Interaction\",\"Line\",\"Line\",\"Line\",\"Line\",\"Line\",\"Line\",\"Line\",\"Line\",\"Line\",\"Line\",\"Line\",\"Line\",\"Line\",\"Line\",\"Line\",\"Line\",\"Line\",\"Line\",\"Line\",\"Line\",\"Line\",\"Line\"],\"x\":[381796676890135.06,360640553115821.75,339916618249257.44,327503908006376.7,298185300498063.44,288190704878819.5,288119258191749.1,287771790641134.6,287424931156385.94,287078615067660.2,286732786643405.4,286387397585199.56,286042405819053.06,285697774516766.44,285353471297511.0,285009467571836.44,284665737999148.44,284322260036278.8,283979013559695.4,283635980547639.94,283293144811335.56,282950491766611.06,282608008238988.25,282265682296631.94,281923503106600.94],\"y\":[1175049347012988.0,1234463042599621.2,1292663002604309.0,1327522176035267.2,1302922281730909.5,1294536276502712.0,1305185135803743.5,1356973864013303.5,1408671962298443.2,1460289069455371.2,1511833492061777.0,1563312428815295.0,1614732150685446.8,1666098146776523.5,1717415243328898.8,1768687701492385.5,1819919298186983.0,1871113393386906.2,1922272986428739.0,1973400763387604.2,2024499137139580.0,2075570281400520.0,2126616159776651.8,2177638550662992.2,2228639068668613.0],\"type\":\"scatter\"},{\"hovertemplate\":\"<b>X</b>: %{x}<br><b>Y</b>: %{y}<br><b>Last Interaction: %{text}</b>\",\"line\":{\"color\":\"darkslategrey\"},\"marker\":{\"color\":[\"aqua\",\"blueviolet\",\"blueviolet\"]},\"mode\":\"markers+lines\",\"name\":\"Packet 5\",\"text\":[\"No Interaction\",\"EScattering\",\"EScattering\"],\"x\":[-129147006936451.05,-200478631445868.2,-265904147033805.78],\"y\":[1228751692165409.2,1226065161649576.0,1206567302304444.2],\"type\":\"scatter\"},{\"hovertemplate\":\"<b>X</b>: %{x}<br><b>Y</b>: %{y}<br><b>Last Interaction: %{text}</b>\",\"line\":{\"color\":\"darkslategrey\"},\"marker\":{\"color\":[\"aqua\",\"aqua\",\"aqua\",\"aqua\",\"aqua\",\"aqua\",\"aqua\",\"aqua\",\"aqua\",\"aqua\",\"aqua\",\"aqua\",\"aqua\",\"aqua\",\"aqua\",\"aqua\",\"aqua\",\"aqua\",\"aqua\",\"aqua\",\"aqua\"]},\"mode\":\"markers+lines\",\"name\":\"Packet 6\",\"text\":[\"No Interaction\",\"No Interaction\",\"No Interaction\",\"No Interaction\",\"No Interaction\",\"No Interaction\",\"No Interaction\",\"No Interaction\",\"No Interaction\",\"No Interaction\",\"No Interaction\",\"No Interaction\",\"No Interaction\",\"No Interaction\",\"No Interaction\",\"No Interaction\",\"No Interaction\",\"No Interaction\",\"No Interaction\",\"No Interaction\",\"No Interaction\"],\"x\":[-617759999999999.8,-680099422605262.8,-740844572913789.9,-800268386219261.4,-858580652862581.8,-915946132383738.9,-972496569674043.8,-1028338935087131.8,-1083561235652416.8,-1138236712741806.5,-1192426937754601.8,-1246184136890248.8,-1299552965130876.8,-1352571879303740.5,-1405274214431869.5,-1457689037204751.5,-1509841829768747.5,-1561755042758808.5,-1613448546443521.2,-1664940001672622.0,-1716245167109459.0],\"y\":[1069991706883749.8,1091524341216442.2,1112506298610567.1,1133031853533703.2,1153173469581251.8,1172988056278183.2,1192521119573242.0,1211809608052298.0,1230883920187199.5,1249769354250105.8,1268487177592735.0,1287055429645167.0,1305489534666420.2,1323802776013386.2,1342006667922664.2,1360111250307519.8,1378125324945652.8,1396056646501650.0,1413912078356815.5,1431697720737995.0,1449419016838618.0],\"type\":\"scatter\"},{\"hovertemplate\":\"<b>X</b>: %{x}<br><b>Y</b>: %{y}<br><b>Last Interaction: %{text}</b>\",\"line\":{\"color\":\"darkslategrey\"},\"marker\":{\"color\":[\"aqua\",\"aqua\",\"aqua\",\"aqua\",\"aqua\",\"aqua\",\"aqua\",\"aqua\",\"aqua\",\"aqua\",\"aqua\",\"aqua\",\"aqua\",\"aqua\",\"aqua\",\"aqua\",\"aqua\",\"aqua\",\"aqua\",\"aqua\",\"aqua\"]},\"mode\":\"markers+lines\",\"name\":\"Packet 7\",\"text\":[\"No Interaction\",\"No Interaction\",\"No Interaction\",\"No Interaction\",\"No Interaction\",\"No Interaction\",\"No Interaction\",\"No Interaction\",\"No Interaction\",\"No Interaction\",\"No Interaction\",\"No Interaction\",\"No Interaction\",\"No Interaction\",\"No Interaction\",\"No Interaction\",\"No Interaction\",\"No Interaction\",\"No Interaction\",\"No Interaction\",\"No Interaction\"],\"x\":[-999556676890135.0,-1068686444226490.4,-1135537230264705.8,-1200537718439576.8,-1264007293033765.8,-1326190515202465.5,-1387278893636463.2,-1447425219506164.2,-1506753337370247.8,-1565365001612866.0,-1623344808530229.0,-1680763820932607.0,-1737682282087911.2,-1794151681486317.0,-1850216350333633.8,-1905914709992194.5,-1961280260369705.8,-2016342370754279.5,-2071126918697407.8,-2125656810691745.2,-2179952409941177.8],\"y\":[726220434912396.5,715450834105699.0,705036271653282.1,694909963741991.0,685022154074926.4,675334742914222.5,665817895469016.5,656447808680578.0,647205189030202.5,638074184387326.5,629041615648721.8,620096412068336.1,611229188456956.0,602431923360492.1,593697710500965.2,585020564284170.4,576395265820373.8,567817239721560.8,559282454571017.2,550787341807886.0,542328729085644.8],\"type\":\"scatter\"},{\"hovertemplate\":\"<b>X</b>: %{x}<br><b>Y</b>: %{y}<br><b>Last Interaction: %{text}</b>\",\"line\":{\"color\":\"darkslategrey\"},\"marker\":{\"color\":[\"aqua\",\"aqua\",\"blueviolet\",\"blueviolet\",\"blueviolet\"]},\"mode\":\"markers+lines\",\"name\":\"Packet 8\",\"text\":[\"No Interaction\",\"No Interaction\",\"EScattering\",\"EScattering\",\"EScattering\"],\"x\":[-1208520923658631.5,-1280407383520394.0,-1289033450366773.0,-1282107552088212.2,-1233099652264927.2],\"y\":[256879052239158.5,120488772599185.64,104122524050666.78,100800977050681.89,77297593650225.83],\"type\":\"scatter\"},{\"hovertemplate\":\"<b>X</b>: %{x}<br><b>Y</b>: %{y}<br><b>Last Interaction: %{text}</b>\",\"line\":{\"color\":\"darkslategrey\"},\"marker\":{\"color\":[\"aqua\",\"blueviolet\",\"blueviolet\"]},\"mode\":\"markers+lines\",\"name\":\"Packet 9\",\"text\":[\"No Interaction\",\"EScattering\",\"EScattering\"],\"x\":[-1208520923658631.5,-1210491913214834.0,-1141631550520213.2],\"y\":[-256879052239157.7,-389564347311873.9,-472426791425734.0],\"type\":\"scatter\"},{\"hovertemplate\":\"<b>X</b>: %{x}<br><b>Y</b>: %{y}<br><b>Last Interaction: %{text}</b>\",\"line\":{\"color\":\"darkslategrey\"},\"marker\":{\"color\":[\"aqua\",\"aqua\",\"aqua\",\"aqua\",\"aqua\",\"aqua\",\"aqua\",\"aqua\",\"aqua\",\"aqua\",\"aqua\",\"aqua\",\"aqua\",\"aqua\",\"aqua\",\"aqua\",\"aqua\",\"aqua\",\"aqua\",\"aqua\",\"aqua\"]},\"mode\":\"markers+lines\",\"name\":\"Packet 10\",\"text\":[\"No Interaction\",\"No Interaction\",\"No Interaction\",\"No Interaction\",\"No Interaction\",\"No Interaction\",\"No Interaction\",\"No Interaction\",\"No Interaction\",\"No Interaction\",\"No Interaction\",\"No Interaction\",\"No Interaction\",\"No Interaction\",\"No Interaction\",\"No Interaction\",\"No Interaction\",\"No Interaction\",\"No Interaction\",\"No Interaction\",\"No Interaction\"],\"x\":[-999556676890135.2,-903383353359636.2,-840273762979182.1,-788510166895037.6,-742942105167492.5,-701370486089897.6,-662620910601120.0,-625982172156503.4,-590986863991109.1,-557309528354881.2,-524713557455347.5,-493021079776526.8,-462094750285589.8,-431826166707832.94,-402128191774942.75,-372929688254920.3,-344171803568051.94,-315805282937906.1,-287788484790687.75,-260085887519684.88,-232666947518551.22],\"y\":[-726220434912396.2,-915346452972151.2,-1039452235031896.6,-1141245980412268.5,-1230856131635738.5,-1312607229464328.5,-1388808744028544.2,-1460859271704918.5,-1529677973618615.2,-1595904866419317.8,-1660005242227431.5,-1722328887556609.2,-1783145893095261.5,-1842669433243635.0,-1901070864506585.0,-1958490079121691.2,-2015042811407418.8,-2070825921484591.8,-2125921298017845.2,-2180398794681628.5,-2234318475851730.5],\"type\":\"scatter\"},{\"hovertemplate\":\"<b>X</b>: %{x}<br><b>Y</b>: %{y}<br><b>Last Interaction: %{text}</b>\",\"line\":{\"color\":\"darkslategrey\"},\"marker\":{\"color\":[\"aqua\",\"blueviolet\",\"blueviolet\",\"blueviolet\",\"blueviolet\",\"blueviolet\",\"blueviolet\",\"blueviolet\",\"blueviolet\",\"blueviolet\",\"blueviolet\",\"blueviolet\",\"blueviolet\",\"blueviolet\",\"blueviolet\",\"blueviolet\",\"blueviolet\",\"blueviolet\",\"blueviolet\",\"blueviolet\",\"blueviolet\",\"blueviolet\",\"blueviolet\"]},\"mode\":\"markers+lines\",\"name\":\"Packet 11\",\"text\":[\"No Interaction\",\"EScattering\",\"EScattering\",\"EScattering\",\"EScattering\",\"EScattering\",\"EScattering\",\"EScattering\",\"EScattering\",\"EScattering\",\"EScattering\",\"EScattering\",\"EScattering\",\"EScattering\",\"EScattering\",\"EScattering\",\"EScattering\",\"EScattering\",\"EScattering\",\"EScattering\",\"EScattering\",\"EScattering\",\"EScattering\"],\"x\":[-617760000000000.5,-587852869521720.9,-574176120625565.9,-542908615820657.9,-542741180590580.25,-524233789627195.5,-506054339167789.0,-488237796154212.9,-470730397077023.94,-453489191140535.8,-436479325799157.8,-419672137841407.75,-403043777694809.5,-386574196806957.7,-370246388382737.56,-354045808749457.25,-337959929962749.6,-321977889391066.56,-306090212051728.25,-290288588271538.56,-274565693941185.56,-258915043932003.75,-243330871598151.03],\"y\":[-1069991706883749.2,-1119890787364104.2,-1150774693239026.5,-1221380849911974.5,-1221758940781751.2,-1284277853471401.2,-1345688966375756.8,-1405874159377886.0,-1465015048360838.0,-1523256723307894.2,-1580716917899569.0,-1637492457929386.2,-1693663908472250.0,-1749298994562980.8,-1804455166024786.0,-1859181552127425.5,-1913520472907351.8,-1967508622889179.0,-2021178009048714.8,-2074556701886771.0,-2127669442618988.0,-2180538138341471.0,-2233182269078653.8],\"type\":\"scatter\"},{\"hovertemplate\":\"<b>X</b>: %{x}<br><b>Y</b>: %{y}<br><b>Last Interaction: %{text}</b>\",\"line\":{\"color\":\"darkslategrey\"},\"marker\":{\"color\":[\"aqua\",\"blueviolet\",\"blueviolet\",\"blueviolet\",\"blueviolet\",\"blueviolet\",\"blueviolet\",\"blueviolet\",\"blueviolet\",\"blueviolet\",\"blueviolet\",\"blueviolet\",\"blueviolet\",\"blueviolet\",\"blueviolet\",\"blueviolet\",\"blueviolet\",\"blueviolet\",\"blueviolet\",\"blueviolet\",\"blueviolet\",\"blueviolet\",\"blueviolet\"]},\"mode\":\"markers+lines\",\"name\":\"Packet 12\",\"text\":[\"No Interaction\",\"EScattering\",\"EScattering\",\"EScattering\",\"EScattering\",\"EScattering\",\"EScattering\",\"EScattering\",\"EScattering\",\"EScattering\",\"EScattering\",\"EScattering\",\"EScattering\",\"EScattering\",\"EScattering\",\"EScattering\",\"EScattering\",\"EScattering\",\"EScattering\",\"EScattering\",\"EScattering\",\"EScattering\",\"EScattering\"],\"x\":[-129147006936452.16,-105025851270085.06,-76199263096367.17,-29853984566838.42,15012924914170.977,58670978389344.98,101322897761720.2,143125141822743.4,184201047672873.5,215662287163645.56,639890094712048.4,858770056025358.0,1008314965232024.9,1131532255639882.5,1239906415380035.0,1338521424986025.2,1430148087192557.8,1516488047961229.2,1598671748327045.0,1677493343364394.8,1753534630676812.0,1827235985233622.2,1898939579146642.5],\"y\":[-1228751692165409.0,-1251168507558074.8,-1283804613015380.5,-1336274554599272.0,-1387070756374570.0,-1436498348314691.5,-1484786842610469.8,-1532113374536695.2,-1578617580549582.0,-1614236514141400.8,-1509874446129017.0,-1456028929633681.2,-1419240167304019.8,-1388928125016741.0,-1362267563808018.0,-1338007800170605.0,-1315467203390289.0,-1294227160428469.8,-1274009577388235.2,-1254619088326072.8,-1235912568251142.8,-1217781682816469.8,-1200142256047329.0],\"type\":\"scatter\"},{\"hovertemplate\":\"<b>X</b>: %{x}<br><b>Y</b>: %{y}<br><b>Last Interaction: %{text}</b>\",\"line\":{\"color\":\"darkslategrey\"},\"marker\":{\"color\":[\"aqua\",\"blueviolet\",\"deeppink\",\"deeppink\"]},\"mode\":\"markers+lines\",\"name\":\"Packet 13\",\"text\":[\"No Interaction\",\"EScattering\",\"Line\",\"Line\"],\"x\":[381796676890134.8,420024892544411.4,441661228549474.75,442596540528267.3],\"y\":[-1175049347012988.2,-1182510060525456.2,-1193995425014029.0,-1153524153501958.5],\"type\":\"scatter\"},{\"hovertemplate\":\"<b>X</b>: %{x}<br><b>Y</b>: %{y}<br><b>Last Interaction: %{text}</b>\",\"line\":{\"color\":\"darkslategrey\"},\"marker\":{\"color\":[\"aqua\",\"aqua\",\"aqua\",\"aqua\",\"aqua\",\"aqua\",\"aqua\",\"aqua\",\"aqua\",\"aqua\",\"aqua\",\"aqua\",\"aqua\",\"aqua\",\"aqua\",\"aqua\",\"aqua\",\"aqua\",\"aqua\",\"aqua\",\"aqua\"]},\"mode\":\"markers+lines\",\"name\":\"Packet 14\",\"text\":[\"No Interaction\",\"No Interaction\",\"No Interaction\",\"No Interaction\",\"No Interaction\",\"No Interaction\",\"No Interaction\",\"No Interaction\",\"No Interaction\",\"No Interaction\",\"No Interaction\",\"No Interaction\",\"No Interaction\",\"No Interaction\",\"No Interaction\",\"No Interaction\",\"No Interaction\",\"No Interaction\",\"No Interaction\",\"No Interaction\",\"No Interaction\"],\"x\":[826724246768496.0,945994407913866.6,1046258105091989.5,1135591857660009.5,1217693534988938.8,1294610875618973.5,1367612115471307.2,1437543539612367.5,1505000919819967.2,1570420956848558.8,1634134031793043.0,1696396530089954.8,1757411622103618.8,1817343155817415.8,1876325252009715.8,1934469116210463.2,1991867990151281.8,2048600825174344.0,2104735056669385.8,2160328732888781.8,2215432171478184.5],\"y\":[-918170294773830.5,-871237735805614.0,-831784180658251.9,-796631535855999.4,-764324697535113.4,-734057884862682.0,-705332049656115.2,-677814180511698.8,-651269842480866.6,-625527194730059.1,-600456232989395.1,-575956070125805.4,-551946759025837.8,-528363825850706.5,-505154494354623.25,-482275005394131.8,-459688668542843.3,-437364416612734.06,-415275713918977.75,-393399718595667.06,-371716630754471.94],\"type\":\"scatter\"},{\"hovertemplate\":\"<b>X</b>: %{x}<br><b>Y</b>: %{y}<br><b>Last Interaction: %{text}</b>\",\"line\":{\"color\":\"darkslategrey\"},\"marker\":{\"color\":[\"aqua\",\"aqua\",\"aqua\",\"aqua\",\"aqua\",\"aqua\",\"aqua\",\"aqua\",\"aqua\",\"aqua\",\"aqua\",\"aqua\",\"aqua\",\"aqua\",\"aqua\",\"aqua\",\"aqua\",\"aqua\",\"aqua\",\"aqua\",\"aqua\"]},\"mode\":\"markers+lines\",\"name\":\"Packet 15\",\"text\":[\"No Interaction\",\"No Interaction\",\"No Interaction\",\"No Interaction\",\"No Interaction\",\"No Interaction\",\"No Interaction\",\"No Interaction\",\"No Interaction\",\"No Interaction\",\"No Interaction\",\"No Interaction\",\"No Interaction\",\"No Interaction\",\"No Interaction\",\"No Interaction\",\"No Interaction\",\"No Interaction\",\"No Interaction\",\"No Interaction\",\"No Interaction\"],\"x\":[1128703683826585.8,1206807001601396.2,1277943561433169.8,1344234007557344.5,1406939416577522.5,1466877851967377.2,1524613261142742.2,1580552326231522.5,1634998700550672.0,1688185478764399.0,1740295683245438.2,1791475749132530.5,1841844716902351.0,1891500685766302.0,1940525459062653.5,1988987961268517.0,2036946799283270.2,2084452214390904.2,2131547591895202.8,2178270644094348.2,2224654348280393.0],\"y\":[-502531257253013.56,-444496876234072.06,-391639118903494.4,-342382248415891.1,-295789226471318.56,-251252194035341.56,-208352112069191.7,-166786796923864.53,-126330620126769.19,-86810381550926.05,-48090087100093.3,-10060928686749.67,27365546274437.434,64262230039190.69,100689906275055.7,136699789059490.11,172335426032027.75,207634148792670.3,242628194630719.28,277345585529669.25,311810825144253.2],\"type\":\"scatter\"}],                        {\"template\":{\"data\":{\"histogram2dcontour\":[{\"type\":\"histogram2dcontour\",\"colorbar\":{\"outlinewidth\":0,\"ticks\":\"\"},\"colorscale\":[[0.0,\"#0d0887\"],[0.1111111111111111,\"#46039f\"],[0.2222222222222222,\"#7201a8\"],[0.3333333333333333,\"#9c179e\"],[0.4444444444444444,\"#bd3786\"],[0.5555555555555556,\"#d8576b\"],[0.6666666666666666,\"#ed7953\"],[0.7777777777777778,\"#fb9f3a\"],[0.8888888888888888,\"#fdca26\"],[1.0,\"#f0f921\"]]}],\"choropleth\":[{\"type\":\"choropleth\",\"colorbar\":{\"outlinewidth\":0,\"ticks\":\"\"}}],\"histogram2d\":[{\"type\":\"histogram2d\",\"colorbar\":{\"outlinewidth\":0,\"ticks\":\"\"},\"colorscale\":[[0.0,\"#0d0887\"],[0.1111111111111111,\"#46039f\"],[0.2222222222222222,\"#7201a8\"],[0.3333333333333333,\"#9c179e\"],[0.4444444444444444,\"#bd3786\"],[0.5555555555555556,\"#d8576b\"],[0.6666666666666666,\"#ed7953\"],[0.7777777777777778,\"#fb9f3a\"],[0.8888888888888888,\"#fdca26\"],[1.0,\"#f0f921\"]]}],\"heatmap\":[{\"type\":\"heatmap\",\"colorbar\":{\"outlinewidth\":0,\"ticks\":\"\"},\"colorscale\":[[0.0,\"#0d0887\"],[0.1111111111111111,\"#46039f\"],[0.2222222222222222,\"#7201a8\"],[0.3333333333333333,\"#9c179e\"],[0.4444444444444444,\"#bd3786\"],[0.5555555555555556,\"#d8576b\"],[0.6666666666666666,\"#ed7953\"],[0.7777777777777778,\"#fb9f3a\"],[0.8888888888888888,\"#fdca26\"],[1.0,\"#f0f921\"]]}],\"heatmapgl\":[{\"type\":\"heatmapgl\",\"colorbar\":{\"outlinewidth\":0,\"ticks\":\"\"},\"colorscale\":[[0.0,\"#0d0887\"],[0.1111111111111111,\"#46039f\"],[0.2222222222222222,\"#7201a8\"],[0.3333333333333333,\"#9c179e\"],[0.4444444444444444,\"#bd3786\"],[0.5555555555555556,\"#d8576b\"],[0.6666666666666666,\"#ed7953\"],[0.7777777777777778,\"#fb9f3a\"],[0.8888888888888888,\"#fdca26\"],[1.0,\"#f0f921\"]]}],\"contourcarpet\":[{\"type\":\"contourcarpet\",\"colorbar\":{\"outlinewidth\":0,\"ticks\":\"\"}}],\"contour\":[{\"type\":\"contour\",\"colorbar\":{\"outlinewidth\":0,\"ticks\":\"\"},\"colorscale\":[[0.0,\"#0d0887\"],[0.1111111111111111,\"#46039f\"],[0.2222222222222222,\"#7201a8\"],[0.3333333333333333,\"#9c179e\"],[0.4444444444444444,\"#bd3786\"],[0.5555555555555556,\"#d8576b\"],[0.6666666666666666,\"#ed7953\"],[0.7777777777777778,\"#fb9f3a\"],[0.8888888888888888,\"#fdca26\"],[1.0,\"#f0f921\"]]}],\"surface\":[{\"type\":\"surface\",\"colorbar\":{\"outlinewidth\":0,\"ticks\":\"\"},\"colorscale\":[[0.0,\"#0d0887\"],[0.1111111111111111,\"#46039f\"],[0.2222222222222222,\"#7201a8\"],[0.3333333333333333,\"#9c179e\"],[0.4444444444444444,\"#bd3786\"],[0.5555555555555556,\"#d8576b\"],[0.6666666666666666,\"#ed7953\"],[0.7777777777777778,\"#fb9f3a\"],[0.8888888888888888,\"#fdca26\"],[1.0,\"#f0f921\"]]}],\"mesh3d\":[{\"type\":\"mesh3d\",\"colorbar\":{\"outlinewidth\":0,\"ticks\":\"\"}}],\"scatter\":[{\"fillpattern\":{\"fillmode\":\"overlay\",\"size\":10,\"solidity\":0.2},\"type\":\"scatter\"}],\"parcoords\":[{\"type\":\"parcoords\",\"line\":{\"colorbar\":{\"outlinewidth\":0,\"ticks\":\"\"}}}],\"scatterpolargl\":[{\"type\":\"scatterpolargl\",\"marker\":{\"colorbar\":{\"outlinewidth\":0,\"ticks\":\"\"}}}],\"bar\":[{\"error_x\":{\"color\":\"#2a3f5f\"},\"error_y\":{\"color\":\"#2a3f5f\"},\"marker\":{\"line\":{\"color\":\"#E5ECF6\",\"width\":0.5},\"pattern\":{\"fillmode\":\"overlay\",\"size\":10,\"solidity\":0.2}},\"type\":\"bar\"}],\"scattergeo\":[{\"type\":\"scattergeo\",\"marker\":{\"colorbar\":{\"outlinewidth\":0,\"ticks\":\"\"}}}],\"scatterpolar\":[{\"type\":\"scatterpolar\",\"marker\":{\"colorbar\":{\"outlinewidth\":0,\"ticks\":\"\"}}}],\"histogram\":[{\"marker\":{\"pattern\":{\"fillmode\":\"overlay\",\"size\":10,\"solidity\":0.2}},\"type\":\"histogram\"}],\"scattergl\":[{\"type\":\"scattergl\",\"marker\":{\"colorbar\":{\"outlinewidth\":0,\"ticks\":\"\"}}}],\"scatter3d\":[{\"type\":\"scatter3d\",\"line\":{\"colorbar\":{\"outlinewidth\":0,\"ticks\":\"\"}},\"marker\":{\"colorbar\":{\"outlinewidth\":0,\"ticks\":\"\"}}}],\"scattermapbox\":[{\"type\":\"scattermapbox\",\"marker\":{\"colorbar\":{\"outlinewidth\":0,\"ticks\":\"\"}}}],\"scatterternary\":[{\"type\":\"scatterternary\",\"marker\":{\"colorbar\":{\"outlinewidth\":0,\"ticks\":\"\"}}}],\"scattercarpet\":[{\"type\":\"scattercarpet\",\"marker\":{\"colorbar\":{\"outlinewidth\":0,\"ticks\":\"\"}}}],\"carpet\":[{\"aaxis\":{\"endlinecolor\":\"#2a3f5f\",\"gridcolor\":\"white\",\"linecolor\":\"white\",\"minorgridcolor\":\"white\",\"startlinecolor\":\"#2a3f5f\"},\"baxis\":{\"endlinecolor\":\"#2a3f5f\",\"gridcolor\":\"white\",\"linecolor\":\"white\",\"minorgridcolor\":\"white\",\"startlinecolor\":\"#2a3f5f\"},\"type\":\"carpet\"}],\"table\":[{\"cells\":{\"fill\":{\"color\":\"#EBF0F8\"},\"line\":{\"color\":\"white\"}},\"header\":{\"fill\":{\"color\":\"#C8D4E3\"},\"line\":{\"color\":\"white\"}},\"type\":\"table\"}],\"barpolar\":[{\"marker\":{\"line\":{\"color\":\"#E5ECF6\",\"width\":0.5},\"pattern\":{\"fillmode\":\"overlay\",\"size\":10,\"solidity\":0.2}},\"type\":\"barpolar\"}],\"pie\":[{\"automargin\":true,\"type\":\"pie\"}]},\"layout\":{\"autotypenumbers\":\"strict\",\"colorway\":[\"#636efa\",\"#EF553B\",\"#00cc96\",\"#ab63fa\",\"#FFA15A\",\"#19d3f3\",\"#FF6692\",\"#B6E880\",\"#FF97FF\",\"#FECB52\"],\"font\":{\"color\":\"#2a3f5f\"},\"hovermode\":\"closest\",\"hoverlabel\":{\"align\":\"left\"},\"paper_bgcolor\":\"white\",\"plot_bgcolor\":\"#E5ECF6\",\"polar\":{\"bgcolor\":\"#E5ECF6\",\"angularaxis\":{\"gridcolor\":\"white\",\"linecolor\":\"white\",\"ticks\":\"\"},\"radialaxis\":{\"gridcolor\":\"white\",\"linecolor\":\"white\",\"ticks\":\"\"}},\"ternary\":{\"bgcolor\":\"#E5ECF6\",\"aaxis\":{\"gridcolor\":\"white\",\"linecolor\":\"white\",\"ticks\":\"\"},\"baxis\":{\"gridcolor\":\"white\",\"linecolor\":\"white\",\"ticks\":\"\"},\"caxis\":{\"gridcolor\":\"white\",\"linecolor\":\"white\",\"ticks\":\"\"}},\"coloraxis\":{\"colorbar\":{\"outlinewidth\":0,\"ticks\":\"\"}},\"colorscale\":{\"sequential\":[[0.0,\"#0d0887\"],[0.1111111111111111,\"#46039f\"],[0.2222222222222222,\"#7201a8\"],[0.3333333333333333,\"#9c179e\"],[0.4444444444444444,\"#bd3786\"],[0.5555555555555556,\"#d8576b\"],[0.6666666666666666,\"#ed7953\"],[0.7777777777777778,\"#fb9f3a\"],[0.8888888888888888,\"#fdca26\"],[1.0,\"#f0f921\"]],\"sequentialminus\":[[0.0,\"#0d0887\"],[0.1111111111111111,\"#46039f\"],[0.2222222222222222,\"#7201a8\"],[0.3333333333333333,\"#9c179e\"],[0.4444444444444444,\"#bd3786\"],[0.5555555555555556,\"#d8576b\"],[0.6666666666666666,\"#ed7953\"],[0.7777777777777778,\"#fb9f3a\"],[0.8888888888888888,\"#fdca26\"],[1.0,\"#f0f921\"]],\"diverging\":[[0,\"#8e0152\"],[0.1,\"#c51b7d\"],[0.2,\"#de77ae\"],[0.3,\"#f1b6da\"],[0.4,\"#fde0ef\"],[0.5,\"#f7f7f7\"],[0.6,\"#e6f5d0\"],[0.7,\"#b8e186\"],[0.8,\"#7fbc41\"],[0.9,\"#4d9221\"],[1,\"#276419\"]]},\"xaxis\":{\"gridcolor\":\"white\",\"linecolor\":\"white\",\"ticks\":\"\",\"title\":{\"standoff\":15},\"zerolinecolor\":\"white\",\"automargin\":true,\"zerolinewidth\":2},\"yaxis\":{\"gridcolor\":\"white\",\"linecolor\":\"white\",\"ticks\":\"\",\"title\":{\"standoff\":15},\"zerolinecolor\":\"white\",\"automargin\":true,\"zerolinewidth\":2},\"scene\":{\"xaxis\":{\"backgroundcolor\":\"#E5ECF6\",\"gridcolor\":\"white\",\"linecolor\":\"white\",\"showbackground\":true,\"ticks\":\"\",\"zerolinecolor\":\"white\",\"gridwidth\":2},\"yaxis\":{\"backgroundcolor\":\"#E5ECF6\",\"gridcolor\":\"white\",\"linecolor\":\"white\",\"showbackground\":true,\"ticks\":\"\",\"zerolinecolor\":\"white\",\"gridwidth\":2},\"zaxis\":{\"backgroundcolor\":\"#E5ECF6\",\"gridcolor\":\"white\",\"linecolor\":\"white\",\"showbackground\":true,\"ticks\":\"\",\"zerolinecolor\":\"white\",\"gridwidth\":2}},\"shapedefaults\":{\"line\":{\"color\":\"#2a3f5f\"}},\"annotationdefaults\":{\"arrowcolor\":\"#2a3f5f\",\"arrowhead\":0,\"arrowwidth\":1},\"geo\":{\"bgcolor\":\"white\",\"landcolor\":\"#E5ECF6\",\"subunitcolor\":\"white\",\"showland\":true,\"showlakes\":true,\"lakecolor\":\"white\"},\"title\":{\"x\":0.05},\"mapbox\":{\"style\":\"light\"}}},\"xaxis\":{\"range\":[-2471040000000000.0,2471040000000000.0],\"linecolor\":\"#555\",\"gridcolor\":\"#fff\",\"zerolinecolor\":\"#555\"},\"yaxis\":{\"range\":[-2471040000000000.0,2471040000000000.0],\"linecolor\":\"#555\",\"gridcolor\":\"#fff\",\"zerolinecolor\":\"#555\"},\"shapes\":[{\"fillcolor\":\"darkgrey\",\"line\":{\"color\":\"black\"},\"opacity\":1,\"type\":\"circle\",\"x0\":-1235520000000000.0,\"x1\":1235520000000000.0,\"xref\":\"x\",\"y0\":-1235520000000000.0,\"y1\":1235520000000000.0,\"yref\":\"y\"},{\"line\":{\"color\":\"black\"},\"opacity\":0.2,\"type\":\"circle\",\"x0\":-1286064000000000.0,\"x1\":1286064000000000.0,\"xref\":\"x\",\"y0\":-1286064000000000.0,\"y1\":1286064000000000.0,\"yref\":\"y\"},{\"line\":{\"color\":\"black\"},\"opacity\":0.2,\"type\":\"circle\",\"x0\":-1336608000000000.0,\"x1\":1336608000000000.0,\"xref\":\"x\",\"y0\":-1336608000000000.0,\"y1\":1336608000000000.0,\"yref\":\"y\"},{\"line\":{\"color\":\"black\"},\"opacity\":0.2,\"type\":\"circle\",\"x0\":-1387152000000000.0,\"x1\":1387152000000000.0,\"xref\":\"x\",\"y0\":-1387152000000000.0,\"y1\":1387152000000000.0,\"yref\":\"y\"},{\"line\":{\"color\":\"black\"},\"opacity\":0.2,\"type\":\"circle\",\"x0\":-1437696000000000.0,\"x1\":1437696000000000.0,\"xref\":\"x\",\"y0\":-1437696000000000.0,\"y1\":1437696000000000.0,\"yref\":\"y\"},{\"line\":{\"color\":\"black\"},\"opacity\":0.2,\"type\":\"circle\",\"x0\":-1488240000000000.0,\"x1\":1488240000000000.0,\"xref\":\"x\",\"y0\":-1488240000000000.0,\"y1\":1488240000000000.0,\"yref\":\"y\"},{\"line\":{\"color\":\"black\"},\"opacity\":0.2,\"type\":\"circle\",\"x0\":-1538784000000000.0,\"x1\":1538784000000000.0,\"xref\":\"x\",\"y0\":-1538784000000000.0,\"y1\":1538784000000000.0,\"yref\":\"y\"},{\"line\":{\"color\":\"black\"},\"opacity\":0.2,\"type\":\"circle\",\"x0\":-1589328000000000.0,\"x1\":1589328000000000.0,\"xref\":\"x\",\"y0\":-1589328000000000.0,\"y1\":1589328000000000.0,\"yref\":\"y\"},{\"line\":{\"color\":\"black\"},\"opacity\":0.2,\"type\":\"circle\",\"x0\":-1639872000000000.0,\"x1\":1639872000000000.0,\"xref\":\"x\",\"y0\":-1639872000000000.0,\"y1\":1639872000000000.0,\"yref\":\"y\"},{\"line\":{\"color\":\"black\"},\"opacity\":0.2,\"type\":\"circle\",\"x0\":-1690416000000000.0,\"x1\":1690416000000000.0,\"xref\":\"x\",\"y0\":-1690416000000000.0,\"y1\":1690416000000000.0,\"yref\":\"y\"},{\"line\":{\"color\":\"black\"},\"opacity\":0.2,\"type\":\"circle\",\"x0\":-1740960000000000.0,\"x1\":1740960000000000.0,\"xref\":\"x\",\"y0\":-1740960000000000.0,\"y1\":1740960000000000.0,\"yref\":\"y\"},{\"line\":{\"color\":\"black\"},\"opacity\":0.2,\"type\":\"circle\",\"x0\":-1791504000000000.0,\"x1\":1791504000000000.0,\"xref\":\"x\",\"y0\":-1791504000000000.0,\"y1\":1791504000000000.0,\"yref\":\"y\"},{\"line\":{\"color\":\"black\"},\"opacity\":0.2,\"type\":\"circle\",\"x0\":-1842048000000000.0,\"x1\":1842048000000000.0,\"xref\":\"x\",\"y0\":-1842048000000000.0,\"y1\":1842048000000000.0,\"yref\":\"y\"},{\"line\":{\"color\":\"black\"},\"opacity\":0.2,\"type\":\"circle\",\"x0\":-1892592000000000.0,\"x1\":1892592000000000.0,\"xref\":\"x\",\"y0\":-1892592000000000.0,\"y1\":1892592000000000.0,\"yref\":\"y\"},{\"line\":{\"color\":\"black\"},\"opacity\":0.2,\"type\":\"circle\",\"x0\":-1943136000000000.0,\"x1\":1943136000000000.0,\"xref\":\"x\",\"y0\":-1943136000000000.0,\"y1\":1943136000000000.0,\"yref\":\"y\"},{\"line\":{\"color\":\"black\"},\"opacity\":0.2,\"type\":\"circle\",\"x0\":-1993680000000000.0,\"x1\":1993680000000000.0,\"xref\":\"x\",\"y0\":-1993680000000000.0,\"y1\":1993680000000000.0,\"yref\":\"y\"},{\"line\":{\"color\":\"black\"},\"opacity\":0.2,\"type\":\"circle\",\"x0\":-2044224000000000.0,\"x1\":2044224000000000.0,\"xref\":\"x\",\"y0\":-2044224000000000.0,\"y1\":2044224000000000.0,\"yref\":\"y\"},{\"line\":{\"color\":\"black\"},\"opacity\":0.2,\"type\":\"circle\",\"x0\":-2094768000000000.0,\"x1\":2094768000000000.0,\"xref\":\"x\",\"y0\":-2094768000000000.0,\"y1\":2094768000000000.0,\"yref\":\"y\"},{\"line\":{\"color\":\"black\"},\"opacity\":0.2,\"type\":\"circle\",\"x0\":-2145312000000000.0,\"x1\":2145312000000000.0,\"xref\":\"x\",\"y0\":-2145312000000000.0,\"y1\":2145312000000000.0,\"yref\":\"y\"},{\"line\":{\"color\":\"black\"},\"opacity\":0.2,\"type\":\"circle\",\"x0\":-2195856000000000.0,\"x1\":2195856000000000.0,\"xref\":\"x\",\"y0\":-2195856000000000.0,\"y1\":2195856000000000.0,\"yref\":\"y\"},{\"line\":{\"color\":\"black\"},\"opacity\":1,\"type\":\"circle\",\"x0\":-2246400000000000.0,\"x1\":2246400000000000.0,\"xref\":\"x\",\"y0\":-2246400000000000.0,\"y1\":2246400000000000.0,\"yref\":\"y\"}],\"width\":900,\"height\":900,\"plot_bgcolor\":\"#fafafa\",\"paper_bgcolor\":\"#fafafa\"},                        {\"responsive\": true}                    ).then(function(){\n",
       "                            \n",
       "var gd = document.getElementById('adaf085e-2b92-4418-b73f-d73411e1b858');\n",
       "var x = new MutationObserver(function (mutations, observer) {{\n",
       "        var display = window.getComputedStyle(gd).display;\n",
       "        if (!display || display === 'none') {{\n",
       "            console.log([gd, 'removed!']);\n",
       "            Plotly.purge(gd);\n",
       "            observer.disconnect();\n",
       "        }}\n",
       "}});\n",
       "\n",
       "// Listen for the removal of the full notebook cells\n",
       "var notebookContainer = gd.closest('#notebook-container');\n",
       "if (notebookContainer) {{\n",
       "    x.observe(notebookContainer, {childList: true});\n",
       "}}\n",
       "\n",
       "// Listen for the clearing of the current output cell\n",
       "var outputEl = gd.closest('.output');\n",
       "if (outputEl) {{\n",
       "    x.observe(outputEl, {childList: true});\n",
       "}}\n",
       "\n",
       "                        })                };                });            </script>        </div>"
      ]
     },
     "metadata": {},
     "output_type": "display_data"
    }
   ],
   "source": [
    "r_shells = sim.model.radius.value\n",
    "xs,ys = get_coordinates_multiple_packets(sim.runner.rpacket_tracker_df)\n",
    "\n",
    "fig = go.Figure()\n",
    "\n",
    "# Set axes properties\n",
    "fig.update_xaxes(range=[-1.1*r_shells[-1],1.1*r_shells[-1]],linecolor=\"#555\",gridcolor=\"#fff\",zerolinecolor=\"#555\")\n",
    "fig.update_yaxes(range=[-1.1*r_shells[-1],1.1*r_shells[-1]],linecolor=\"#555\",gridcolor=\"#fff\",zerolinecolor=\"#555\")\n",
    "\n",
    "# adding the shells\n",
    "shell_shapes={}\n",
    "for i in range(len(sim.model.radius.value)):\n",
    "    if i==0:\n",
    "        fig.add_shape(type=\"circle\",\n",
    "            xref=\"x\", yref=\"y\",\n",
    "            x0=-1*sim.model.radius.value[i], y0=-1*sim.model.radius.value[i], x1=sim.model.radius.value[i], y1=sim.model.radius.value[i],\n",
    "            line_color=\"black\",\n",
    "            fillcolor=\"darkgrey\",\n",
    "            opacity=1\n",
    "        )\n",
    "    elif i==(len(sim.model.radius.value)-1):\n",
    "        fig.add_shape(type=\"circle\",\n",
    "            xref=\"x\", yref=\"y\",\n",
    "            x0=-1*sim.model.radius.value[i], y0=-1*sim.model.radius.value[i], x1=sim.model.radius.value[i], y1=sim.model.radius.value[i],\n",
    "            line_color=\"black\",\n",
    "            opacity=1\n",
    "        )\n",
    "    else:\n",
    "        fig.add_shape(type=\"circle\",\n",
    "            xref=\"x\", yref=\"y\",\n",
    "            x0=-1*sim.model.radius.value[i], y0=-1*sim.model.radius.value[i], x1=sim.model.radius.value[i], y1=sim.model.radius.value[i],\n",
    "            line_color=\"black\",\n",
    "            opacity=0.2\n",
    "        )\n",
    "\n",
    "#Add the packet trajectory\n",
    "\n",
    "df = sim.runner.rpacket_tracker_df\n",
    "interaction_from_num = {-1: \"No Interaction\", 1: \"EScattering\", 2: \"Line\"}\n",
    "interaction_color_from_num = {-1: \"aqua\", 1: \"blueviolet\", 2: \"deeppink\"}\n",
    "for i in range(len(xs)):    \n",
    "    fig.add_trace(go.Scatter(\n",
    "        x=xs[i],\n",
    "        y=ys[i],\n",
    "        mode=\"markers+lines\",\n",
    "        name=\"Packet \"+str(i+1),\n",
    "        hovertemplate =\n",
    "        '<b>X</b>: %{x}'+\n",
    "        '<br><b>Y</b>: %{y}<br>'+\n",
    "        '<b>Last Interaction: %{text}</b>',\n",
    "        text = [interaction_from_num.get(df.loc[i,j][\"interaction_type\"]) for j in range(len(xs[i]))],\n",
    "        line = dict(color=\"darkslategrey\"),\n",
    "#         line_shape = \"spline\",\n",
    "        marker = dict(color=[interaction_color_from_num.get(df.loc[i,j][\"interaction_type\"]) for j in range(len(xs[i]))])\n",
    "    ))\n",
    "\n",
    "\n",
    "# Set figure size\n",
    "fig.update_layout(width=900, height=900)\n",
    "fig.layout.plot_bgcolor = '#fafafa'\n",
    "fig.layout.paper_bgcolor = '#fafafa'\n",
    "\n",
    "fig.show()"
   ]
  },
  {
   "cell_type": "code",
   "execution_count": 113,
   "metadata": {},
   "outputs": [
    {
     "data": {
      "application/vnd.plotly.v1+json": {
       "config": {
        "plotlyServerURL": "https://plot.ly"
       },
       "data": [
        {
         "cells": {
          "align": "center",
          "fill": {
           "color": [
            [
             "aliceblue",
             "antiquewhite",
             "aqua",
             "aquamarine",
             "azure",
             "beige",
             "bisque",
             "black",
             "blanchedalmond",
             "blue",
             "blueviolet",
             "brown",
             "burlywood",
             "cadetblue",
             "chartreuse",
             "chocolate",
             "coral",
             "cornflowerblue",
             "cornsilk",
             "crimson",
             "cyan",
             "darkblue",
             "darkcyan",
             "darkgoldenrod",
             "darkgray",
             "darkgrey",
             "darkgreen",
             "darkkhaki",
             "darkmagenta",
             "darkolivegreen",
             "darkorange",
             "darkorchid",
             "darkred",
             "darksalmon",
             "darkseagreen",
             "darkslateblue",
             "darkslategray",
             "darkslategrey",
             "darkturquoise",
             "darkviolet",
             "deeppink",
             "deepskyblue",
             "dimgray",
             "dimgrey",
             "dodgerblue",
             "firebrick",
             "floralwhite",
             "forestgreen",
             "fuchsia",
             "gainsboro",
             "ghostwhite",
             "gold",
             "goldenrod",
             "gray",
             "grey",
             "green",
             "greenyellow",
             "honeydew",
             "hotpink",
             "indianred",
             "indigo",
             "ivory",
             "khaki",
             "lavender",
             "lavenderblush",
             "lawngreen",
             "lemonchiffon",
             "lightblue",
             "lightcoral",
             "lightcyan",
             "lightgoldenrodyellow",
             "lightgray",
             "lightgrey",
             "lightgreen",
             "lightpink",
             "lightsalmon",
             "lightseagreen",
             "lightskyblue",
             "lightslategray",
             "lightslategrey",
             "lightsteelblue",
             "lightyellow",
             "lime",
             "limegreen",
             "linen",
             "magenta",
             "maroon",
             "mediumaquamarine",
             "mediumblue",
             "mediumorchid",
             "mediumpurple",
             "mediumseagreen",
             "mediumslateblue",
             "mediumspringgreen",
             "mediumturquoise",
             "mediumvioletred",
             "midnightblue",
             "mintcream",
             "mistyrose",
             "moccasin",
             "navajowhite",
             "navy",
             "oldlace",
             "olive",
             "olivedrab",
             "orange",
             "orangered",
             "orchid",
             "palegoldenrod",
             "palegreen",
             "paleturquoise",
             "palevioletred",
             "papayawhip",
             "peachpuff",
             "peru",
             "pink",
             "plum",
             "powderblue",
             "purple",
             "red",
             "rosybrown",
             "royalblue",
             "rebeccapurple",
             "saddlebrown",
             "salmon",
             "sandybrown",
             "seagreen",
             "seashell",
             "sienna",
             "silver",
             "skyblue",
             "slateblue",
             "slategray",
             "slategrey",
             "snow",
             "springgreen",
             "steelblue",
             "tan",
             "teal",
             "thistle",
             "tomato",
             "turquoise",
             "violet",
             "wheat",
             "white",
             "whitesmoke",
             "yellow",
             "yellowgreen"
            ]
           ]
          },
          "font": {
           "color": "black",
           "size": 11
          },
          "line": {
           "color": [
            [
             "aliceblue",
             "antiquewhite",
             "aqua",
             "aquamarine",
             "azure",
             "beige",
             "bisque",
             "black",
             "blanchedalmond",
             "blue",
             "blueviolet",
             "brown",
             "burlywood",
             "cadetblue",
             "chartreuse",
             "chocolate",
             "coral",
             "cornflowerblue",
             "cornsilk",
             "crimson",
             "cyan",
             "darkblue",
             "darkcyan",
             "darkgoldenrod",
             "darkgray",
             "darkgrey",
             "darkgreen",
             "darkkhaki",
             "darkmagenta",
             "darkolivegreen",
             "darkorange",
             "darkorchid",
             "darkred",
             "darksalmon",
             "darkseagreen",
             "darkslateblue",
             "darkslategray",
             "darkslategrey",
             "darkturquoise",
             "darkviolet",
             "deeppink",
             "deepskyblue",
             "dimgray",
             "dimgrey",
             "dodgerblue",
             "firebrick",
             "floralwhite",
             "forestgreen",
             "fuchsia",
             "gainsboro",
             "ghostwhite",
             "gold",
             "goldenrod",
             "gray",
             "grey",
             "green",
             "greenyellow",
             "honeydew",
             "hotpink",
             "indianred",
             "indigo",
             "ivory",
             "khaki",
             "lavender",
             "lavenderblush",
             "lawngreen",
             "lemonchiffon",
             "lightblue",
             "lightcoral",
             "lightcyan",
             "lightgoldenrodyellow",
             "lightgray",
             "lightgrey",
             "lightgreen",
             "lightpink",
             "lightsalmon",
             "lightseagreen",
             "lightskyblue",
             "lightslategray",
             "lightslategrey",
             "lightsteelblue",
             "lightyellow",
             "lime",
             "limegreen",
             "linen",
             "magenta",
             "maroon",
             "mediumaquamarine",
             "mediumblue",
             "mediumorchid",
             "mediumpurple",
             "mediumseagreen",
             "mediumslateblue",
             "mediumspringgreen",
             "mediumturquoise",
             "mediumvioletred",
             "midnightblue",
             "mintcream",
             "mistyrose",
             "moccasin",
             "navajowhite",
             "navy",
             "oldlace",
             "olive",
             "olivedrab",
             "orange",
             "orangered",
             "orchid",
             "palegoldenrod",
             "palegreen",
             "paleturquoise",
             "palevioletred",
             "papayawhip",
             "peachpuff",
             "peru",
             "pink",
             "plum",
             "powderblue",
             "purple",
             "red",
             "rosybrown",
             "royalblue",
             "rebeccapurple",
             "saddlebrown",
             "salmon",
             "sandybrown",
             "seagreen",
             "seashell",
             "sienna",
             "silver",
             "skyblue",
             "slateblue",
             "slategray",
             "slategrey",
             "snow",
             "springgreen",
             "steelblue",
             "tan",
             "teal",
             "thistle",
             "tomato",
             "turquoise",
             "violet",
             "wheat",
             "white",
             "whitesmoke",
             "yellow",
             "yellowgreen"
            ]
           ]
          },
          "values": [
           [
            "aliceblue",
            "antiquewhite",
            "aqua",
            "aquamarine",
            "azure",
            "beige",
            "bisque",
            "black",
            "blanchedalmond",
            "blue",
            "blueviolet",
            "brown",
            "burlywood",
            "cadetblue",
            "chartreuse",
            "chocolate",
            "coral",
            "cornflowerblue",
            "cornsilk",
            "crimson",
            "cyan",
            "darkblue",
            "darkcyan",
            "darkgoldenrod",
            "darkgray",
            "darkgrey",
            "darkgreen",
            "darkkhaki",
            "darkmagenta",
            "darkolivegreen",
            "darkorange",
            "darkorchid",
            "darkred",
            "darksalmon",
            "darkseagreen",
            "darkslateblue",
            "darkslategray",
            "darkslategrey",
            "darkturquoise",
            "darkviolet",
            "deeppink",
            "deepskyblue",
            "dimgray",
            "dimgrey",
            "dodgerblue",
            "firebrick",
            "floralwhite",
            "forestgreen",
            "fuchsia",
            "gainsboro",
            "ghostwhite",
            "gold",
            "goldenrod",
            "gray",
            "grey",
            "green",
            "greenyellow",
            "honeydew",
            "hotpink",
            "indianred",
            "indigo",
            "ivory",
            "khaki",
            "lavender",
            "lavenderblush",
            "lawngreen",
            "lemonchiffon",
            "lightblue",
            "lightcoral",
            "lightcyan",
            "lightgoldenrodyellow",
            "lightgray",
            "lightgrey",
            "lightgreen",
            "lightpink",
            "lightsalmon",
            "lightseagreen",
            "lightskyblue",
            "lightslategray",
            "lightslategrey",
            "lightsteelblue",
            "lightyellow",
            "lime",
            "limegreen",
            "linen",
            "magenta",
            "maroon",
            "mediumaquamarine",
            "mediumblue",
            "mediumorchid",
            "mediumpurple",
            "mediumseagreen",
            "mediumslateblue",
            "mediumspringgreen",
            "mediumturquoise",
            "mediumvioletred",
            "midnightblue",
            "mintcream",
            "mistyrose",
            "moccasin",
            "navajowhite",
            "navy",
            "oldlace",
            "olive",
            "olivedrab",
            "orange",
            "orangered",
            "orchid",
            "palegoldenrod",
            "palegreen",
            "paleturquoise",
            "palevioletred",
            "papayawhip",
            "peachpuff",
            "peru",
            "pink",
            "plum",
            "powderblue",
            "purple",
            "red",
            "rosybrown",
            "royalblue",
            "rebeccapurple",
            "saddlebrown",
            "salmon",
            "sandybrown",
            "seagreen",
            "seashell",
            "sienna",
            "silver",
            "skyblue",
            "slateblue",
            "slategray",
            "slategrey",
            "snow",
            "springgreen",
            "steelblue",
            "tan",
            "teal",
            "thistle",
            "tomato",
            "turquoise",
            "violet",
            "wheat",
            "white",
            "whitesmoke",
            "yellow",
            "yellowgreen"
           ]
          ]
         },
         "header": {
          "align": "center",
          "fill": {
           "color": "white"
          },
          "font": {
           "color": "black",
           "size": 14
          },
          "line": {
           "color": "black"
          },
          "values": [
           "Plotly Named CSS colours"
          ]
         },
         "type": "table"
        }
       ],
       "layout": {
        "template": {
         "data": {
          "bar": [
           {
            "error_x": {
             "color": "#2a3f5f"
            },
            "error_y": {
             "color": "#2a3f5f"
            },
            "marker": {
             "line": {
              "color": "#E5ECF6",
              "width": 0.5
             },
             "pattern": {
              "fillmode": "overlay",
              "size": 10,
              "solidity": 0.2
             }
            },
            "type": "bar"
           }
          ],
          "barpolar": [
           {
            "marker": {
             "line": {
              "color": "#E5ECF6",
              "width": 0.5
             },
             "pattern": {
              "fillmode": "overlay",
              "size": 10,
              "solidity": 0.2
             }
            },
            "type": "barpolar"
           }
          ],
          "carpet": [
           {
            "aaxis": {
             "endlinecolor": "#2a3f5f",
             "gridcolor": "white",
             "linecolor": "white",
             "minorgridcolor": "white",
             "startlinecolor": "#2a3f5f"
            },
            "baxis": {
             "endlinecolor": "#2a3f5f",
             "gridcolor": "white",
             "linecolor": "white",
             "minorgridcolor": "white",
             "startlinecolor": "#2a3f5f"
            },
            "type": "carpet"
           }
          ],
          "choropleth": [
           {
            "colorbar": {
             "outlinewidth": 0,
             "ticks": ""
            },
            "type": "choropleth"
           }
          ],
          "contour": [
           {
            "colorbar": {
             "outlinewidth": 0,
             "ticks": ""
            },
            "colorscale": [
             [
              0,
              "#0d0887"
             ],
             [
              0.1111111111111111,
              "#46039f"
             ],
             [
              0.2222222222222222,
              "#7201a8"
             ],
             [
              0.3333333333333333,
              "#9c179e"
             ],
             [
              0.4444444444444444,
              "#bd3786"
             ],
             [
              0.5555555555555556,
              "#d8576b"
             ],
             [
              0.6666666666666666,
              "#ed7953"
             ],
             [
              0.7777777777777778,
              "#fb9f3a"
             ],
             [
              0.8888888888888888,
              "#fdca26"
             ],
             [
              1,
              "#f0f921"
             ]
            ],
            "type": "contour"
           }
          ],
          "contourcarpet": [
           {
            "colorbar": {
             "outlinewidth": 0,
             "ticks": ""
            },
            "type": "contourcarpet"
           }
          ],
          "heatmap": [
           {
            "colorbar": {
             "outlinewidth": 0,
             "ticks": ""
            },
            "colorscale": [
             [
              0,
              "#0d0887"
             ],
             [
              0.1111111111111111,
              "#46039f"
             ],
             [
              0.2222222222222222,
              "#7201a8"
             ],
             [
              0.3333333333333333,
              "#9c179e"
             ],
             [
              0.4444444444444444,
              "#bd3786"
             ],
             [
              0.5555555555555556,
              "#d8576b"
             ],
             [
              0.6666666666666666,
              "#ed7953"
             ],
             [
              0.7777777777777778,
              "#fb9f3a"
             ],
             [
              0.8888888888888888,
              "#fdca26"
             ],
             [
              1,
              "#f0f921"
             ]
            ],
            "type": "heatmap"
           }
          ],
          "heatmapgl": [
           {
            "colorbar": {
             "outlinewidth": 0,
             "ticks": ""
            },
            "colorscale": [
             [
              0,
              "#0d0887"
             ],
             [
              0.1111111111111111,
              "#46039f"
             ],
             [
              0.2222222222222222,
              "#7201a8"
             ],
             [
              0.3333333333333333,
              "#9c179e"
             ],
             [
              0.4444444444444444,
              "#bd3786"
             ],
             [
              0.5555555555555556,
              "#d8576b"
             ],
             [
              0.6666666666666666,
              "#ed7953"
             ],
             [
              0.7777777777777778,
              "#fb9f3a"
             ],
             [
              0.8888888888888888,
              "#fdca26"
             ],
             [
              1,
              "#f0f921"
             ]
            ],
            "type": "heatmapgl"
           }
          ],
          "histogram": [
           {
            "marker": {
             "pattern": {
              "fillmode": "overlay",
              "size": 10,
              "solidity": 0.2
             }
            },
            "type": "histogram"
           }
          ],
          "histogram2d": [
           {
            "colorbar": {
             "outlinewidth": 0,
             "ticks": ""
            },
            "colorscale": [
             [
              0,
              "#0d0887"
             ],
             [
              0.1111111111111111,
              "#46039f"
             ],
             [
              0.2222222222222222,
              "#7201a8"
             ],
             [
              0.3333333333333333,
              "#9c179e"
             ],
             [
              0.4444444444444444,
              "#bd3786"
             ],
             [
              0.5555555555555556,
              "#d8576b"
             ],
             [
              0.6666666666666666,
              "#ed7953"
             ],
             [
              0.7777777777777778,
              "#fb9f3a"
             ],
             [
              0.8888888888888888,
              "#fdca26"
             ],
             [
              1,
              "#f0f921"
             ]
            ],
            "type": "histogram2d"
           }
          ],
          "histogram2dcontour": [
           {
            "colorbar": {
             "outlinewidth": 0,
             "ticks": ""
            },
            "colorscale": [
             [
              0,
              "#0d0887"
             ],
             [
              0.1111111111111111,
              "#46039f"
             ],
             [
              0.2222222222222222,
              "#7201a8"
             ],
             [
              0.3333333333333333,
              "#9c179e"
             ],
             [
              0.4444444444444444,
              "#bd3786"
             ],
             [
              0.5555555555555556,
              "#d8576b"
             ],
             [
              0.6666666666666666,
              "#ed7953"
             ],
             [
              0.7777777777777778,
              "#fb9f3a"
             ],
             [
              0.8888888888888888,
              "#fdca26"
             ],
             [
              1,
              "#f0f921"
             ]
            ],
            "type": "histogram2dcontour"
           }
          ],
          "mesh3d": [
           {
            "colorbar": {
             "outlinewidth": 0,
             "ticks": ""
            },
            "type": "mesh3d"
           }
          ],
          "parcoords": [
           {
            "line": {
             "colorbar": {
              "outlinewidth": 0,
              "ticks": ""
             }
            },
            "type": "parcoords"
           }
          ],
          "pie": [
           {
            "automargin": true,
            "type": "pie"
           }
          ],
          "scatter": [
           {
            "fillpattern": {
             "fillmode": "overlay",
             "size": 10,
             "solidity": 0.2
            },
            "type": "scatter"
           }
          ],
          "scatter3d": [
           {
            "line": {
             "colorbar": {
              "outlinewidth": 0,
              "ticks": ""
             }
            },
            "marker": {
             "colorbar": {
              "outlinewidth": 0,
              "ticks": ""
             }
            },
            "type": "scatter3d"
           }
          ],
          "scattercarpet": [
           {
            "marker": {
             "colorbar": {
              "outlinewidth": 0,
              "ticks": ""
             }
            },
            "type": "scattercarpet"
           }
          ],
          "scattergeo": [
           {
            "marker": {
             "colorbar": {
              "outlinewidth": 0,
              "ticks": ""
             }
            },
            "type": "scattergeo"
           }
          ],
          "scattergl": [
           {
            "marker": {
             "colorbar": {
              "outlinewidth": 0,
              "ticks": ""
             }
            },
            "type": "scattergl"
           }
          ],
          "scattermapbox": [
           {
            "marker": {
             "colorbar": {
              "outlinewidth": 0,
              "ticks": ""
             }
            },
            "type": "scattermapbox"
           }
          ],
          "scatterpolar": [
           {
            "marker": {
             "colorbar": {
              "outlinewidth": 0,
              "ticks": ""
             }
            },
            "type": "scatterpolar"
           }
          ],
          "scatterpolargl": [
           {
            "marker": {
             "colorbar": {
              "outlinewidth": 0,
              "ticks": ""
             }
            },
            "type": "scatterpolargl"
           }
          ],
          "scatterternary": [
           {
            "marker": {
             "colorbar": {
              "outlinewidth": 0,
              "ticks": ""
             }
            },
            "type": "scatterternary"
           }
          ],
          "surface": [
           {
            "colorbar": {
             "outlinewidth": 0,
             "ticks": ""
            },
            "colorscale": [
             [
              0,
              "#0d0887"
             ],
             [
              0.1111111111111111,
              "#46039f"
             ],
             [
              0.2222222222222222,
              "#7201a8"
             ],
             [
              0.3333333333333333,
              "#9c179e"
             ],
             [
              0.4444444444444444,
              "#bd3786"
             ],
             [
              0.5555555555555556,
              "#d8576b"
             ],
             [
              0.6666666666666666,
              "#ed7953"
             ],
             [
              0.7777777777777778,
              "#fb9f3a"
             ],
             [
              0.8888888888888888,
              "#fdca26"
             ],
             [
              1,
              "#f0f921"
             ]
            ],
            "type": "surface"
           }
          ],
          "table": [
           {
            "cells": {
             "fill": {
              "color": "#EBF0F8"
             },
             "line": {
              "color": "white"
             }
            },
            "header": {
             "fill": {
              "color": "#C8D4E3"
             },
             "line": {
              "color": "white"
             }
            },
            "type": "table"
           }
          ]
         },
         "layout": {
          "annotationdefaults": {
           "arrowcolor": "#2a3f5f",
           "arrowhead": 0,
           "arrowwidth": 1
          },
          "autotypenumbers": "strict",
          "coloraxis": {
           "colorbar": {
            "outlinewidth": 0,
            "ticks": ""
           }
          },
          "colorscale": {
           "diverging": [
            [
             0,
             "#8e0152"
            ],
            [
             0.1,
             "#c51b7d"
            ],
            [
             0.2,
             "#de77ae"
            ],
            [
             0.3,
             "#f1b6da"
            ],
            [
             0.4,
             "#fde0ef"
            ],
            [
             0.5,
             "#f7f7f7"
            ],
            [
             0.6,
             "#e6f5d0"
            ],
            [
             0.7,
             "#b8e186"
            ],
            [
             0.8,
             "#7fbc41"
            ],
            [
             0.9,
             "#4d9221"
            ],
            [
             1,
             "#276419"
            ]
           ],
           "sequential": [
            [
             0,
             "#0d0887"
            ],
            [
             0.1111111111111111,
             "#46039f"
            ],
            [
             0.2222222222222222,
             "#7201a8"
            ],
            [
             0.3333333333333333,
             "#9c179e"
            ],
            [
             0.4444444444444444,
             "#bd3786"
            ],
            [
             0.5555555555555556,
             "#d8576b"
            ],
            [
             0.6666666666666666,
             "#ed7953"
            ],
            [
             0.7777777777777778,
             "#fb9f3a"
            ],
            [
             0.8888888888888888,
             "#fdca26"
            ],
            [
             1,
             "#f0f921"
            ]
           ],
           "sequentialminus": [
            [
             0,
             "#0d0887"
            ],
            [
             0.1111111111111111,
             "#46039f"
            ],
            [
             0.2222222222222222,
             "#7201a8"
            ],
            [
             0.3333333333333333,
             "#9c179e"
            ],
            [
             0.4444444444444444,
             "#bd3786"
            ],
            [
             0.5555555555555556,
             "#d8576b"
            ],
            [
             0.6666666666666666,
             "#ed7953"
            ],
            [
             0.7777777777777778,
             "#fb9f3a"
            ],
            [
             0.8888888888888888,
             "#fdca26"
            ],
            [
             1,
             "#f0f921"
            ]
           ]
          },
          "colorway": [
           "#636efa",
           "#EF553B",
           "#00cc96",
           "#ab63fa",
           "#FFA15A",
           "#19d3f3",
           "#FF6692",
           "#B6E880",
           "#FF97FF",
           "#FECB52"
          ],
          "font": {
           "color": "#2a3f5f"
          },
          "geo": {
           "bgcolor": "white",
           "lakecolor": "white",
           "landcolor": "#E5ECF6",
           "showlakes": true,
           "showland": true,
           "subunitcolor": "white"
          },
          "hoverlabel": {
           "align": "left"
          },
          "hovermode": "closest",
          "mapbox": {
           "style": "light"
          },
          "paper_bgcolor": "white",
          "plot_bgcolor": "#E5ECF6",
          "polar": {
           "angularaxis": {
            "gridcolor": "white",
            "linecolor": "white",
            "ticks": ""
           },
           "bgcolor": "#E5ECF6",
           "radialaxis": {
            "gridcolor": "white",
            "linecolor": "white",
            "ticks": ""
           }
          },
          "scene": {
           "xaxis": {
            "backgroundcolor": "#E5ECF6",
            "gridcolor": "white",
            "gridwidth": 2,
            "linecolor": "white",
            "showbackground": true,
            "ticks": "",
            "zerolinecolor": "white"
           },
           "yaxis": {
            "backgroundcolor": "#E5ECF6",
            "gridcolor": "white",
            "gridwidth": 2,
            "linecolor": "white",
            "showbackground": true,
            "ticks": "",
            "zerolinecolor": "white"
           },
           "zaxis": {
            "backgroundcolor": "#E5ECF6",
            "gridcolor": "white",
            "gridwidth": 2,
            "linecolor": "white",
            "showbackground": true,
            "ticks": "",
            "zerolinecolor": "white"
           }
          },
          "shapedefaults": {
           "line": {
            "color": "#2a3f5f"
           }
          },
          "ternary": {
           "aaxis": {
            "gridcolor": "white",
            "linecolor": "white",
            "ticks": ""
           },
           "baxis": {
            "gridcolor": "white",
            "linecolor": "white",
            "ticks": ""
           },
           "bgcolor": "#E5ECF6",
           "caxis": {
            "gridcolor": "white",
            "linecolor": "white",
            "ticks": ""
           }
          },
          "title": {
           "x": 0.05
          },
          "xaxis": {
           "automargin": true,
           "gridcolor": "white",
           "linecolor": "white",
           "ticks": "",
           "title": {
            "standoff": 15
           },
           "zerolinecolor": "white",
           "zerolinewidth": 2
          },
          "yaxis": {
           "automargin": true,
           "gridcolor": "white",
           "linecolor": "white",
           "ticks": "",
           "title": {
            "standoff": 15
           },
           "zerolinecolor": "white",
           "zerolinewidth": 2
          }
         }
        }
       }
      },
      "text/html": [
       "<div>                            <div id=\"46ffca6d-e2f4-4f70-8aa8-20f37ac5bc92\" class=\"plotly-graph-div\" style=\"height:525px; width:100%;\"></div>            <script type=\"text/javascript\">                require([\"plotly\"], function(Plotly) {                    window.PLOTLYENV=window.PLOTLYENV || {};                                    if (document.getElementById(\"46ffca6d-e2f4-4f70-8aa8-20f37ac5bc92\")) {                    Plotly.newPlot(                        \"46ffca6d-e2f4-4f70-8aa8-20f37ac5bc92\",                        [{\"cells\":{\"align\":\"center\",\"fill\":{\"color\":[[\"aliceblue\",\"antiquewhite\",\"aqua\",\"aquamarine\",\"azure\",\"beige\",\"bisque\",\"black\",\"blanchedalmond\",\"blue\",\"blueviolet\",\"brown\",\"burlywood\",\"cadetblue\",\"chartreuse\",\"chocolate\",\"coral\",\"cornflowerblue\",\"cornsilk\",\"crimson\",\"cyan\",\"darkblue\",\"darkcyan\",\"darkgoldenrod\",\"darkgray\",\"darkgrey\",\"darkgreen\",\"darkkhaki\",\"darkmagenta\",\"darkolivegreen\",\"darkorange\",\"darkorchid\",\"darkred\",\"darksalmon\",\"darkseagreen\",\"darkslateblue\",\"darkslategray\",\"darkslategrey\",\"darkturquoise\",\"darkviolet\",\"deeppink\",\"deepskyblue\",\"dimgray\",\"dimgrey\",\"dodgerblue\",\"firebrick\",\"floralwhite\",\"forestgreen\",\"fuchsia\",\"gainsboro\",\"ghostwhite\",\"gold\",\"goldenrod\",\"gray\",\"grey\",\"green\",\"greenyellow\",\"honeydew\",\"hotpink\",\"indianred\",\"indigo\",\"ivory\",\"khaki\",\"lavender\",\"lavenderblush\",\"lawngreen\",\"lemonchiffon\",\"lightblue\",\"lightcoral\",\"lightcyan\",\"lightgoldenrodyellow\",\"lightgray\",\"lightgrey\",\"lightgreen\",\"lightpink\",\"lightsalmon\",\"lightseagreen\",\"lightskyblue\",\"lightslategray\",\"lightslategrey\",\"lightsteelblue\",\"lightyellow\",\"lime\",\"limegreen\",\"linen\",\"magenta\",\"maroon\",\"mediumaquamarine\",\"mediumblue\",\"mediumorchid\",\"mediumpurple\",\"mediumseagreen\",\"mediumslateblue\",\"mediumspringgreen\",\"mediumturquoise\",\"mediumvioletred\",\"midnightblue\",\"mintcream\",\"mistyrose\",\"moccasin\",\"navajowhite\",\"navy\",\"oldlace\",\"olive\",\"olivedrab\",\"orange\",\"orangered\",\"orchid\",\"palegoldenrod\",\"palegreen\",\"paleturquoise\",\"palevioletred\",\"papayawhip\",\"peachpuff\",\"peru\",\"pink\",\"plum\",\"powderblue\",\"purple\",\"red\",\"rosybrown\",\"royalblue\",\"rebeccapurple\",\"saddlebrown\",\"salmon\",\"sandybrown\",\"seagreen\",\"seashell\",\"sienna\",\"silver\",\"skyblue\",\"slateblue\",\"slategray\",\"slategrey\",\"snow\",\"springgreen\",\"steelblue\",\"tan\",\"teal\",\"thistle\",\"tomato\",\"turquoise\",\"violet\",\"wheat\",\"white\",\"whitesmoke\",\"yellow\",\"yellowgreen\"]]},\"font\":{\"color\":\"black\",\"size\":11},\"line\":{\"color\":[[\"aliceblue\",\"antiquewhite\",\"aqua\",\"aquamarine\",\"azure\",\"beige\",\"bisque\",\"black\",\"blanchedalmond\",\"blue\",\"blueviolet\",\"brown\",\"burlywood\",\"cadetblue\",\"chartreuse\",\"chocolate\",\"coral\",\"cornflowerblue\",\"cornsilk\",\"crimson\",\"cyan\",\"darkblue\",\"darkcyan\",\"darkgoldenrod\",\"darkgray\",\"darkgrey\",\"darkgreen\",\"darkkhaki\",\"darkmagenta\",\"darkolivegreen\",\"darkorange\",\"darkorchid\",\"darkred\",\"darksalmon\",\"darkseagreen\",\"darkslateblue\",\"darkslategray\",\"darkslategrey\",\"darkturquoise\",\"darkviolet\",\"deeppink\",\"deepskyblue\",\"dimgray\",\"dimgrey\",\"dodgerblue\",\"firebrick\",\"floralwhite\",\"forestgreen\",\"fuchsia\",\"gainsboro\",\"ghostwhite\",\"gold\",\"goldenrod\",\"gray\",\"grey\",\"green\",\"greenyellow\",\"honeydew\",\"hotpink\",\"indianred\",\"indigo\",\"ivory\",\"khaki\",\"lavender\",\"lavenderblush\",\"lawngreen\",\"lemonchiffon\",\"lightblue\",\"lightcoral\",\"lightcyan\",\"lightgoldenrodyellow\",\"lightgray\",\"lightgrey\",\"lightgreen\",\"lightpink\",\"lightsalmon\",\"lightseagreen\",\"lightskyblue\",\"lightslategray\",\"lightslategrey\",\"lightsteelblue\",\"lightyellow\",\"lime\",\"limegreen\",\"linen\",\"magenta\",\"maroon\",\"mediumaquamarine\",\"mediumblue\",\"mediumorchid\",\"mediumpurple\",\"mediumseagreen\",\"mediumslateblue\",\"mediumspringgreen\",\"mediumturquoise\",\"mediumvioletred\",\"midnightblue\",\"mintcream\",\"mistyrose\",\"moccasin\",\"navajowhite\",\"navy\",\"oldlace\",\"olive\",\"olivedrab\",\"orange\",\"orangered\",\"orchid\",\"palegoldenrod\",\"palegreen\",\"paleturquoise\",\"palevioletred\",\"papayawhip\",\"peachpuff\",\"peru\",\"pink\",\"plum\",\"powderblue\",\"purple\",\"red\",\"rosybrown\",\"royalblue\",\"rebeccapurple\",\"saddlebrown\",\"salmon\",\"sandybrown\",\"seagreen\",\"seashell\",\"sienna\",\"silver\",\"skyblue\",\"slateblue\",\"slategray\",\"slategrey\",\"snow\",\"springgreen\",\"steelblue\",\"tan\",\"teal\",\"thistle\",\"tomato\",\"turquoise\",\"violet\",\"wheat\",\"white\",\"whitesmoke\",\"yellow\",\"yellowgreen\"]]},\"values\":[[\"aliceblue\",\"antiquewhite\",\"aqua\",\"aquamarine\",\"azure\",\"beige\",\"bisque\",\"black\",\"blanchedalmond\",\"blue\",\"blueviolet\",\"brown\",\"burlywood\",\"cadetblue\",\"chartreuse\",\"chocolate\",\"coral\",\"cornflowerblue\",\"cornsilk\",\"crimson\",\"cyan\",\"darkblue\",\"darkcyan\",\"darkgoldenrod\",\"darkgray\",\"darkgrey\",\"darkgreen\",\"darkkhaki\",\"darkmagenta\",\"darkolivegreen\",\"darkorange\",\"darkorchid\",\"darkred\",\"darksalmon\",\"darkseagreen\",\"darkslateblue\",\"darkslategray\",\"darkslategrey\",\"darkturquoise\",\"darkviolet\",\"deeppink\",\"deepskyblue\",\"dimgray\",\"dimgrey\",\"dodgerblue\",\"firebrick\",\"floralwhite\",\"forestgreen\",\"fuchsia\",\"gainsboro\",\"ghostwhite\",\"gold\",\"goldenrod\",\"gray\",\"grey\",\"green\",\"greenyellow\",\"honeydew\",\"hotpink\",\"indianred\",\"indigo\",\"ivory\",\"khaki\",\"lavender\",\"lavenderblush\",\"lawngreen\",\"lemonchiffon\",\"lightblue\",\"lightcoral\",\"lightcyan\",\"lightgoldenrodyellow\",\"lightgray\",\"lightgrey\",\"lightgreen\",\"lightpink\",\"lightsalmon\",\"lightseagreen\",\"lightskyblue\",\"lightslategray\",\"lightslategrey\",\"lightsteelblue\",\"lightyellow\",\"lime\",\"limegreen\",\"linen\",\"magenta\",\"maroon\",\"mediumaquamarine\",\"mediumblue\",\"mediumorchid\",\"mediumpurple\",\"mediumseagreen\",\"mediumslateblue\",\"mediumspringgreen\",\"mediumturquoise\",\"mediumvioletred\",\"midnightblue\",\"mintcream\",\"mistyrose\",\"moccasin\",\"navajowhite\",\"navy\",\"oldlace\",\"olive\",\"olivedrab\",\"orange\",\"orangered\",\"orchid\",\"palegoldenrod\",\"palegreen\",\"paleturquoise\",\"palevioletred\",\"papayawhip\",\"peachpuff\",\"peru\",\"pink\",\"plum\",\"powderblue\",\"purple\",\"red\",\"rosybrown\",\"royalblue\",\"rebeccapurple\",\"saddlebrown\",\"salmon\",\"sandybrown\",\"seagreen\",\"seashell\",\"sienna\",\"silver\",\"skyblue\",\"slateblue\",\"slategray\",\"slategrey\",\"snow\",\"springgreen\",\"steelblue\",\"tan\",\"teal\",\"thistle\",\"tomato\",\"turquoise\",\"violet\",\"wheat\",\"white\",\"whitesmoke\",\"yellow\",\"yellowgreen\"]]},\"header\":{\"align\":\"center\",\"fill\":{\"color\":\"white\"},\"font\":{\"color\":\"black\",\"size\":14},\"line\":{\"color\":\"black\"},\"values\":[\"Plotly Named CSS colours\"]},\"type\":\"table\"}],                        {\"template\":{\"data\":{\"histogram2dcontour\":[{\"type\":\"histogram2dcontour\",\"colorbar\":{\"outlinewidth\":0,\"ticks\":\"\"},\"colorscale\":[[0.0,\"#0d0887\"],[0.1111111111111111,\"#46039f\"],[0.2222222222222222,\"#7201a8\"],[0.3333333333333333,\"#9c179e\"],[0.4444444444444444,\"#bd3786\"],[0.5555555555555556,\"#d8576b\"],[0.6666666666666666,\"#ed7953\"],[0.7777777777777778,\"#fb9f3a\"],[0.8888888888888888,\"#fdca26\"],[1.0,\"#f0f921\"]]}],\"choropleth\":[{\"type\":\"choropleth\",\"colorbar\":{\"outlinewidth\":0,\"ticks\":\"\"}}],\"histogram2d\":[{\"type\":\"histogram2d\",\"colorbar\":{\"outlinewidth\":0,\"ticks\":\"\"},\"colorscale\":[[0.0,\"#0d0887\"],[0.1111111111111111,\"#46039f\"],[0.2222222222222222,\"#7201a8\"],[0.3333333333333333,\"#9c179e\"],[0.4444444444444444,\"#bd3786\"],[0.5555555555555556,\"#d8576b\"],[0.6666666666666666,\"#ed7953\"],[0.7777777777777778,\"#fb9f3a\"],[0.8888888888888888,\"#fdca26\"],[1.0,\"#f0f921\"]]}],\"heatmap\":[{\"type\":\"heatmap\",\"colorbar\":{\"outlinewidth\":0,\"ticks\":\"\"},\"colorscale\":[[0.0,\"#0d0887\"],[0.1111111111111111,\"#46039f\"],[0.2222222222222222,\"#7201a8\"],[0.3333333333333333,\"#9c179e\"],[0.4444444444444444,\"#bd3786\"],[0.5555555555555556,\"#d8576b\"],[0.6666666666666666,\"#ed7953\"],[0.7777777777777778,\"#fb9f3a\"],[0.8888888888888888,\"#fdca26\"],[1.0,\"#f0f921\"]]}],\"heatmapgl\":[{\"type\":\"heatmapgl\",\"colorbar\":{\"outlinewidth\":0,\"ticks\":\"\"},\"colorscale\":[[0.0,\"#0d0887\"],[0.1111111111111111,\"#46039f\"],[0.2222222222222222,\"#7201a8\"],[0.3333333333333333,\"#9c179e\"],[0.4444444444444444,\"#bd3786\"],[0.5555555555555556,\"#d8576b\"],[0.6666666666666666,\"#ed7953\"],[0.7777777777777778,\"#fb9f3a\"],[0.8888888888888888,\"#fdca26\"],[1.0,\"#f0f921\"]]}],\"contourcarpet\":[{\"type\":\"contourcarpet\",\"colorbar\":{\"outlinewidth\":0,\"ticks\":\"\"}}],\"contour\":[{\"type\":\"contour\",\"colorbar\":{\"outlinewidth\":0,\"ticks\":\"\"},\"colorscale\":[[0.0,\"#0d0887\"],[0.1111111111111111,\"#46039f\"],[0.2222222222222222,\"#7201a8\"],[0.3333333333333333,\"#9c179e\"],[0.4444444444444444,\"#bd3786\"],[0.5555555555555556,\"#d8576b\"],[0.6666666666666666,\"#ed7953\"],[0.7777777777777778,\"#fb9f3a\"],[0.8888888888888888,\"#fdca26\"],[1.0,\"#f0f921\"]]}],\"surface\":[{\"type\":\"surface\",\"colorbar\":{\"outlinewidth\":0,\"ticks\":\"\"},\"colorscale\":[[0.0,\"#0d0887\"],[0.1111111111111111,\"#46039f\"],[0.2222222222222222,\"#7201a8\"],[0.3333333333333333,\"#9c179e\"],[0.4444444444444444,\"#bd3786\"],[0.5555555555555556,\"#d8576b\"],[0.6666666666666666,\"#ed7953\"],[0.7777777777777778,\"#fb9f3a\"],[0.8888888888888888,\"#fdca26\"],[1.0,\"#f0f921\"]]}],\"mesh3d\":[{\"type\":\"mesh3d\",\"colorbar\":{\"outlinewidth\":0,\"ticks\":\"\"}}],\"scatter\":[{\"fillpattern\":{\"fillmode\":\"overlay\",\"size\":10,\"solidity\":0.2},\"type\":\"scatter\"}],\"parcoords\":[{\"type\":\"parcoords\",\"line\":{\"colorbar\":{\"outlinewidth\":0,\"ticks\":\"\"}}}],\"scatterpolargl\":[{\"type\":\"scatterpolargl\",\"marker\":{\"colorbar\":{\"outlinewidth\":0,\"ticks\":\"\"}}}],\"bar\":[{\"error_x\":{\"color\":\"#2a3f5f\"},\"error_y\":{\"color\":\"#2a3f5f\"},\"marker\":{\"line\":{\"color\":\"#E5ECF6\",\"width\":0.5},\"pattern\":{\"fillmode\":\"overlay\",\"size\":10,\"solidity\":0.2}},\"type\":\"bar\"}],\"scattergeo\":[{\"type\":\"scattergeo\",\"marker\":{\"colorbar\":{\"outlinewidth\":0,\"ticks\":\"\"}}}],\"scatterpolar\":[{\"type\":\"scatterpolar\",\"marker\":{\"colorbar\":{\"outlinewidth\":0,\"ticks\":\"\"}}}],\"histogram\":[{\"marker\":{\"pattern\":{\"fillmode\":\"overlay\",\"size\":10,\"solidity\":0.2}},\"type\":\"histogram\"}],\"scattergl\":[{\"type\":\"scattergl\",\"marker\":{\"colorbar\":{\"outlinewidth\":0,\"ticks\":\"\"}}}],\"scatter3d\":[{\"type\":\"scatter3d\",\"line\":{\"colorbar\":{\"outlinewidth\":0,\"ticks\":\"\"}},\"marker\":{\"colorbar\":{\"outlinewidth\":0,\"ticks\":\"\"}}}],\"scattermapbox\":[{\"type\":\"scattermapbox\",\"marker\":{\"colorbar\":{\"outlinewidth\":0,\"ticks\":\"\"}}}],\"scatterternary\":[{\"type\":\"scatterternary\",\"marker\":{\"colorbar\":{\"outlinewidth\":0,\"ticks\":\"\"}}}],\"scattercarpet\":[{\"type\":\"scattercarpet\",\"marker\":{\"colorbar\":{\"outlinewidth\":0,\"ticks\":\"\"}}}],\"carpet\":[{\"aaxis\":{\"endlinecolor\":\"#2a3f5f\",\"gridcolor\":\"white\",\"linecolor\":\"white\",\"minorgridcolor\":\"white\",\"startlinecolor\":\"#2a3f5f\"},\"baxis\":{\"endlinecolor\":\"#2a3f5f\",\"gridcolor\":\"white\",\"linecolor\":\"white\",\"minorgridcolor\":\"white\",\"startlinecolor\":\"#2a3f5f\"},\"type\":\"carpet\"}],\"table\":[{\"cells\":{\"fill\":{\"color\":\"#EBF0F8\"},\"line\":{\"color\":\"white\"}},\"header\":{\"fill\":{\"color\":\"#C8D4E3\"},\"line\":{\"color\":\"white\"}},\"type\":\"table\"}],\"barpolar\":[{\"marker\":{\"line\":{\"color\":\"#E5ECF6\",\"width\":0.5},\"pattern\":{\"fillmode\":\"overlay\",\"size\":10,\"solidity\":0.2}},\"type\":\"barpolar\"}],\"pie\":[{\"automargin\":true,\"type\":\"pie\"}]},\"layout\":{\"autotypenumbers\":\"strict\",\"colorway\":[\"#636efa\",\"#EF553B\",\"#00cc96\",\"#ab63fa\",\"#FFA15A\",\"#19d3f3\",\"#FF6692\",\"#B6E880\",\"#FF97FF\",\"#FECB52\"],\"font\":{\"color\":\"#2a3f5f\"},\"hovermode\":\"closest\",\"hoverlabel\":{\"align\":\"left\"},\"paper_bgcolor\":\"white\",\"plot_bgcolor\":\"#E5ECF6\",\"polar\":{\"bgcolor\":\"#E5ECF6\",\"angularaxis\":{\"gridcolor\":\"white\",\"linecolor\":\"white\",\"ticks\":\"\"},\"radialaxis\":{\"gridcolor\":\"white\",\"linecolor\":\"white\",\"ticks\":\"\"}},\"ternary\":{\"bgcolor\":\"#E5ECF6\",\"aaxis\":{\"gridcolor\":\"white\",\"linecolor\":\"white\",\"ticks\":\"\"},\"baxis\":{\"gridcolor\":\"white\",\"linecolor\":\"white\",\"ticks\":\"\"},\"caxis\":{\"gridcolor\":\"white\",\"linecolor\":\"white\",\"ticks\":\"\"}},\"coloraxis\":{\"colorbar\":{\"outlinewidth\":0,\"ticks\":\"\"}},\"colorscale\":{\"sequential\":[[0.0,\"#0d0887\"],[0.1111111111111111,\"#46039f\"],[0.2222222222222222,\"#7201a8\"],[0.3333333333333333,\"#9c179e\"],[0.4444444444444444,\"#bd3786\"],[0.5555555555555556,\"#d8576b\"],[0.6666666666666666,\"#ed7953\"],[0.7777777777777778,\"#fb9f3a\"],[0.8888888888888888,\"#fdca26\"],[1.0,\"#f0f921\"]],\"sequentialminus\":[[0.0,\"#0d0887\"],[0.1111111111111111,\"#46039f\"],[0.2222222222222222,\"#7201a8\"],[0.3333333333333333,\"#9c179e\"],[0.4444444444444444,\"#bd3786\"],[0.5555555555555556,\"#d8576b\"],[0.6666666666666666,\"#ed7953\"],[0.7777777777777778,\"#fb9f3a\"],[0.8888888888888888,\"#fdca26\"],[1.0,\"#f0f921\"]],\"diverging\":[[0,\"#8e0152\"],[0.1,\"#c51b7d\"],[0.2,\"#de77ae\"],[0.3,\"#f1b6da\"],[0.4,\"#fde0ef\"],[0.5,\"#f7f7f7\"],[0.6,\"#e6f5d0\"],[0.7,\"#b8e186\"],[0.8,\"#7fbc41\"],[0.9,\"#4d9221\"],[1,\"#276419\"]]},\"xaxis\":{\"gridcolor\":\"white\",\"linecolor\":\"white\",\"ticks\":\"\",\"title\":{\"standoff\":15},\"zerolinecolor\":\"white\",\"automargin\":true,\"zerolinewidth\":2},\"yaxis\":{\"gridcolor\":\"white\",\"linecolor\":\"white\",\"ticks\":\"\",\"title\":{\"standoff\":15},\"zerolinecolor\":\"white\",\"automargin\":true,\"zerolinewidth\":2},\"scene\":{\"xaxis\":{\"backgroundcolor\":\"#E5ECF6\",\"gridcolor\":\"white\",\"linecolor\":\"white\",\"showbackground\":true,\"ticks\":\"\",\"zerolinecolor\":\"white\",\"gridwidth\":2},\"yaxis\":{\"backgroundcolor\":\"#E5ECF6\",\"gridcolor\":\"white\",\"linecolor\":\"white\",\"showbackground\":true,\"ticks\":\"\",\"zerolinecolor\":\"white\",\"gridwidth\":2},\"zaxis\":{\"backgroundcolor\":\"#E5ECF6\",\"gridcolor\":\"white\",\"linecolor\":\"white\",\"showbackground\":true,\"ticks\":\"\",\"zerolinecolor\":\"white\",\"gridwidth\":2}},\"shapedefaults\":{\"line\":{\"color\":\"#2a3f5f\"}},\"annotationdefaults\":{\"arrowcolor\":\"#2a3f5f\",\"arrowhead\":0,\"arrowwidth\":1},\"geo\":{\"bgcolor\":\"white\",\"landcolor\":\"#E5ECF6\",\"subunitcolor\":\"white\",\"showland\":true,\"showlakes\":true,\"lakecolor\":\"white\"},\"title\":{\"x\":0.05},\"mapbox\":{\"style\":\"light\"}}}},                        {\"responsive\": true}                    ).then(function(){\n",
       "                            \n",
       "var gd = document.getElementById('46ffca6d-e2f4-4f70-8aa8-20f37ac5bc92');\n",
       "var x = new MutationObserver(function (mutations, observer) {{\n",
       "        var display = window.getComputedStyle(gd).display;\n",
       "        if (!display || display === 'none') {{\n",
       "            console.log([gd, 'removed!']);\n",
       "            Plotly.purge(gd);\n",
       "            observer.disconnect();\n",
       "        }}\n",
       "}});\n",
       "\n",
       "// Listen for the removal of the full notebook cells\n",
       "var notebookContainer = gd.closest('#notebook-container');\n",
       "if (notebookContainer) {{\n",
       "    x.observe(notebookContainer, {childList: true});\n",
       "}}\n",
       "\n",
       "// Listen for the clearing of the current output cell\n",
       "var outputEl = gd.closest('.output');\n",
       "if (outputEl) {{\n",
       "    x.observe(outputEl, {childList: true});\n",
       "}}\n",
       "\n",
       "                        })                };                });            </script>        </div>"
      ]
     },
     "metadata": {},
     "output_type": "display_data"
    }
   ],
   "source": [
    "    s='''\n",
    "        aliceblue, antiquewhite, aqua, aquamarine, azure,\n",
    "        beige, bisque, black, blanchedalmond, blue,\n",
    "        blueviolet, brown, burlywood, cadetblue,\n",
    "        chartreuse, chocolate, coral, cornflowerblue,\n",
    "        cornsilk, crimson, cyan, darkblue, darkcyan,\n",
    "        darkgoldenrod, darkgray, darkgrey, darkgreen,\n",
    "        darkkhaki, darkmagenta, darkolivegreen, darkorange,\n",
    "        darkorchid, darkred, darksalmon, darkseagreen,\n",
    "        darkslateblue, darkslategray, darkslategrey,\n",
    "        darkturquoise, darkviolet, deeppink, deepskyblue,\n",
    "        dimgray, dimgrey, dodgerblue, firebrick,\n",
    "        floralwhite, forestgreen, fuchsia, gainsboro,\n",
    "        ghostwhite, gold, goldenrod, gray, grey, green,\n",
    "        greenyellow, honeydew, hotpink, indianred, indigo,\n",
    "        ivory, khaki, lavender, lavenderblush, lawngreen,\n",
    "        lemonchiffon, lightblue, lightcoral, lightcyan,\n",
    "        lightgoldenrodyellow, lightgray, lightgrey,\n",
    "        lightgreen, lightpink, lightsalmon, lightseagreen,\n",
    "        lightskyblue, lightslategray, lightslategrey,\n",
    "        lightsteelblue, lightyellow, lime, limegreen,\n",
    "        linen, magenta, maroon, mediumaquamarine,\n",
    "        mediumblue, mediumorchid, mediumpurple,\n",
    "        mediumseagreen, mediumslateblue, mediumspringgreen,\n",
    "        mediumturquoise, mediumvioletred, midnightblue,\n",
    "        mintcream, mistyrose, moccasin, navajowhite, navy,\n",
    "        oldlace, olive, olivedrab, orange, orangered,\n",
    "        orchid, palegoldenrod, palegreen, paleturquoise,\n",
    "        palevioletred, papayawhip, peachpuff, peru, pink,\n",
    "        plum, powderblue, purple, red, rosybrown,\n",
    "        royalblue, rebeccapurple, saddlebrown, salmon,\n",
    "        sandybrown, seagreen, seashell, sienna, silver,\n",
    "        skyblue, slateblue, slategray, slategrey, snow,\n",
    "        springgreen, steelblue, tan, teal, thistle, tomato,\n",
    "        turquoise, violet, wheat, white, whitesmoke,\n",
    "        yellow, yellowgreen\n",
    "        '''\n",
    "    li=s.split(',')\n",
    "    li=[l.replace('\\n','') for l in li]\n",
    "    li=[l.replace(' ','') for l in li]\n",
    "\n",
    "    import pandas as pd\n",
    "    import plotly.graph_objects as go\n",
    "\n",
    "    df=pd.DataFrame.from_dict({'colour': li})\n",
    "    fig = go.Figure(data=[go.Table(\n",
    "      header=dict(\n",
    "        values=[\"Plotly Named CSS colours\"],\n",
    "        line_color='black', fill_color='white',\n",
    "        align='center', font=dict(color='black', size=14)\n",
    "      ),\n",
    "      cells=dict(\n",
    "        values=[df.colour],\n",
    "        line_color=[df.colour], fill_color=[df.colour],\n",
    "        align='center', font=dict(color='black', size=11)\n",
    "      ))\n",
    "    ])\n",
    "\n",
    "    fig.show()"
   ]
  },
  {
   "cell_type": "code",
   "execution_count": 114,
   "metadata": {},
   "outputs": [],
   "source": [
    "# r = sim.runner.rpacket_tracker[0].r\n",
    "# mu = sim.runner.rpacket_tracker[0].mu\n",
    "# theta = get_thetas(r,mu)\n",
    "\n",
    "# # Converting theta array from radians to degrees\n",
    "# theta=(np.array(theta)*180)/(math.pi)\n",
    "\n",
    "# # Creating dataframe for r and theta values\n",
    "# df = pd.DataFrame(r,columns=['r'])\n",
    "# df['theta']=theta\n",
    "\n",
    "# # Creating polar diagram\n",
    "# fig = px.line_polar(df,r=\"r\",theta=\"theta\",start_angle=0, direction=\"counterclockwise\", markers=True, template=\"plotly_dark\")\n",
    "\n",
    "# # Adding photosphere and the shell to the figure\n",
    "# for i in range(len(sim.model.radius.value)):\n",
    "#     if i==0:\n",
    "#         fig.add_shape(type=\"circle\",\n",
    "#             xref=\"x\", yref=\"y\",\n",
    "#             x0=-1*sim.model.radius.value[i], y0=-1*sim.model.radius.value[i], x1=1*sim.model.radius.value[i], y1=sim.model.radius.value[i],\n",
    "#             line_color=\"LightSeaGreen\",\n",
    "#             fillcolor=\"PaleTurquoise\",\n",
    "#             opacity=0.5\n",
    "#         )\n",
    "#     else:\n",
    "#         fig.add_shape(type=\"circle\",\n",
    "#             xref=\"x\", yref=\"y\",\n",
    "#             x0=-1*sim.model.radius.value[i], y0=-1*sim.model.radius.value[i], x1=sim.model.radius.value[i], y1=sim.model.radius.value[i],\n",
    "#             line_color=\"LightSeaGreen\",\n",
    "#             opacity=0.5\n",
    "#         )\n",
    "\n",
    "# # Setting layout width\n",
    "# fig.update_layout(width=800, height=800)\n",
    "\n",
    "# fig.show()"
   ]
  },
  {
   "cell_type": "code",
   "execution_count": 115,
   "metadata": {},
   "outputs": [],
   "source": [
    "# r_shells = sim.model.radius.value\n",
    "# xs,ys = get_coordinates_multiple_packets(sim.runner.rpacket_tracker)\n",
    "# xs,ys,max_size = get_equal_array_size(xs,ys)\n",
    "\n",
    "# fig = go.Figure()\n",
    "\n",
    "# # Set axes properties\n",
    "# fig.update_xaxes(range=[-1.1*r_shells[-1],1.1*r_shells[-1]],linecolor=\"#555\",gridcolor=\"#555\",zerolinecolor=\"#555\",)\n",
    "# fig.update_yaxes(range=[-1.1*r_shells[-1],1.1*r_shells[-1]],linecolor=\"#555\",gridcolor=\"#555\",zerolinecolor=\"#555\")\n",
    "\n",
    "# # adding the shells\n",
    "# shell_shapes={}\n",
    "# for i in range(len(sim.model.radius.value)):\n",
    "#     if i==0:\n",
    "#         fig.add_shape(type=\"circle\",\n",
    "#             xref=\"x\", yref=\"y\",\n",
    "#             x0=-1*sim.model.radius.value[i], y0=-1*sim.model.radius.value[i], x1=sim.model.radius.value[i], y1=sim.model.radius.value[i],\n",
    "#             line_color=\"LightSeaGreen\",\n",
    "#             fillcolor=\"PaleTurquoise\",\n",
    "#             opacity=0.8\n",
    "#         )\n",
    "#     else:\n",
    "#         fig.add_shape(type=\"circle\",\n",
    "#             xref=\"x\", yref=\"y\",\n",
    "#             x0=-1*sim.model.radius.value[i], y0=-1*sim.model.radius.value[i], x1=sim.model.radius.value[i], y1=sim.model.radius.value[i],\n",
    "#             line_color=\"LightSeaGreen\",\n",
    "#             opacity=0.8\n",
    "#         )\n",
    "\n",
    "# #Add the packet trajectory\n",
    "\n",
    "# for i in range(len(xs)):    \n",
    "#     fig.add_trace(go.Scatter(\n",
    "#         x=xs[i],\n",
    "#         y=ys[i],\n",
    "#         mode=\"lines+markers\",\n",
    "#         name=\"Packet \"+str(i+1),\n",
    "# #         marker=dict(color='aqua')\n",
    "#     ))\n",
    "\n",
    "\n",
    "# # Set figure size\n",
    "# fig.layout.plot_bgcolor = '#000'\n",
    "# fig.layout.paper_bgcolor = '#000'\n",
    "\n",
    "# fig.update_layout(width=800, height=800,\n",
    "#                   title=\"Packet Trajectories\",\n",
    "#                   title_font_color=\"#888\",\n",
    "#                   hovermode=\"closest\",\n",
    "#                   updatemenus=[dict(type=\"buttons\",\n",
    "#                                    buttons=[dict(label=\"Play\",\n",
    "#                                                 method=\"animate\",\n",
    "#                                                 args=[None])])])\n",
    "\n",
    "# def get_frames(j):\n",
    "#     frames=[]\n",
    "\n",
    "#     for i in range(len(xs)):    \n",
    "#         frames.append(go.Scatter(\n",
    "#             x=xs[i].tolist()[0:j],\n",
    "#             y=ys[i].tolist()[0:j],\n",
    "# #             x=[xs[i].tolist()[j]],\n",
    "# #             y=[ys[i].tolist()[j]],\n",
    "#             mode=\"lines+markers\",\n",
    "#         ))\n",
    "#     return frames\n",
    "    \n",
    "# fig.frames=[go.Frame(data=get_frames(i)) for i in range(max_size)]\n",
    "\n",
    "# fig.show()"
   ]
  },
  {
   "cell_type": "code",
   "execution_count": null,
   "metadata": {},
   "outputs": [],
   "source": []
  }
 ],
 "metadata": {
  "interpreter": {
   "hash": "6890d83cfa6c65bebc4bd449872c06a268510d8b8ae8c923ce6786e6c4796836"
  },
  "kernelspec": {
   "display_name": "Python 3 (ipykernel)",
   "language": "python",
   "name": "python3"
  },
  "language_info": {
   "codemirror_mode": {
    "name": "ipython",
    "version": 3
   },
   "file_extension": ".py",
   "mimetype": "text/x-python",
   "name": "python",
   "nbconvert_exporter": "python",
   "pygments_lexer": "ipython3",
   "version": "3.8.13"
  }
 },
 "nbformat": 4,
 "nbformat_minor": 2
}
