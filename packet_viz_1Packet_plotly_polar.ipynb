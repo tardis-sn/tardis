{
 "cells": [
  {
   "cell_type": "markdown",
   "metadata": {},
   "source": [
    "### 2D Packet Visualization_ Single Packet_Plotly ###"
   ]
  },
  {
   "cell_type": "code",
   "execution_count": 7,
   "metadata": {},
   "outputs": [],
   "source": [
    "from tardis import run_tardis\n",
    "from tardis.io.config_reader import Configuration"
   ]
  },
  {
   "cell_type": "code",
   "execution_count": 8,
   "metadata": {},
   "outputs": [],
   "source": [
    "# Reading the Configuration stored in `tardis_example.yml` into config\n",
    "\n",
    "config = Configuration.from_yaml(\"tardis_example.yml\")"
   ]
  },
  {
   "cell_type": "code",
   "execution_count": 9,
   "metadata": {},
   "outputs": [],
   "source": [
    "config[\"montecarlo\"][\"tracking\"][\"track_rpacket\"]=True\n",
    "\n",
    "# 3 point into photsphere\n",
    "# config[\"montecarlo\"][\"seed\"]= 8735653\n",
    "\n",
    "# normal straight\n",
    "# config[\"montecarlo\"][\"seed\"]= 4278055\n",
    "\n",
    "# l curve\n",
    "# config[\"montecarlo\"][\"seed\"]= 1298533\n",
    "\n",
    "# all across the photosphere\n",
    "# config[\"montecarlo\"][\"seed\"]= 25\n",
    "\n",
    "config[\"montecarlo\"][\"seed\"]= 8235080\n",
    "config[\"montecarlo\"][\"no_of_packets\"]=10\n",
    "config[\"montecarlo\"][\"iterations\"]=1\n",
    "config[\"montecarlo\"][\"last_no_of_packets\"]=10\n",
    "config[\"montecarlo\"][\"no_of_virtual_packets\"]=0"
   ]
  },
  {
   "cell_type": "code",
   "execution_count": 10,
   "metadata": {
    "scrolled": false
   },
   "outputs": [
    {
     "name": "stdout",
     "output_type": "stream",
     "text": [
      "[\u001b[1mtardis.plasma.standard_plasmas\u001b[0m][\u001b[1;37mINFO\u001b[0m   ]  \n",
      "\t\n",
      "\tReading Atomic Data from kurucz_cd23_chianti_H_He.h5 (\u001b[1mstandard_plasmas.py\u001b[0m:93)\n",
      "[\u001b[1mtardis.io.atom_data.util\u001b[0m][\u001b[1;37mINFO\u001b[0m   ]  \n",
      "\t\n",
      "\tAtom Data kurucz_cd23_chianti_H_He.h5 not found in local path.\n",
      "\tExists in TARDIS Data repo /home/jayant/Downloads/tardis-data/kurucz_cd23_chianti_H_He.h5 (\u001b[1mutil.py\u001b[0m:33)\n",
      "[\u001b[1mtardis.io.atom_data.base\u001b[0m][\u001b[1;37mINFO\u001b[0m   ]  \n",
      "\tReading Atom Data with: UUID = 6f7b09e887a311e7a06b246e96350010 MD5  = 864f1753714343c41f99cb065710cace  (\u001b[1mbase.py\u001b[0m:249)\n",
      "[\u001b[1mtardis.io.atom_data.base\u001b[0m][\u001b[1;37mINFO\u001b[0m   ]  \n",
      "\tNon provided Atomic Data: synpp_refs, photoionization_data, yg_data, two_photon_data (\u001b[1mbase.py\u001b[0m:253)\n",
      "[\u001b[1mtardis.simulation.base\u001b[0m][\u001b[1;37mINFO\u001b[0m   ]  \n",
      "\t\n",
      "\tStarting iteration 1 of 1 (\u001b[1mbase.py\u001b[0m:381)\n",
      "[\u001b[1mtardis.simulation.base\u001b[0m][\u001b[1;37mINFO\u001b[0m   ]  \n",
      "\t\n",
      "\tLuminosity emitted   = 6.557e+42 erg / s\n",
      "\tLuminosity absorbed  = 4.071e+42 erg / s\n",
      "\tLuminosity requested = 1.059e+43 erg / s\n",
      " (\u001b[1mbase.py\u001b[0m:555)\n",
      "[\u001b[1mtardis.simulation.base\u001b[0m][\u001b[1;37mINFO\u001b[0m   ]  \n",
      "\t\n",
      "\tSimulation finished in 1 iterations \n",
      "\tSimulation took 0.04 s\n",
      " (\u001b[1mbase.py\u001b[0m:476)\n"
     ]
    }
   ],
   "source": [
    "sim = run_tardis(config, show_progress_bars=False)"
   ]
  },
  {
   "cell_type": "markdown",
   "metadata": {},
   "source": [
    "<div class=\"alert alert-info\">\n",
    "    \n",
    "Note\n",
    "\n",
    "When running this notebook locally or in interactive mode, a [convergence plot](io/visualization/convergence_plot.ipynb) will show up.\n",
    "\n",
    "</div>"
   ]
  },
  {
   "cell_type": "code",
   "execution_count": 11,
   "metadata": {},
   "outputs": [
    {
     "data": {
      "text/html": [
       "<div>\n",
       "<style scoped>\n",
       "    .dataframe tbody tr th:only-of-type {\n",
       "        vertical-align: middle;\n",
       "    }\n",
       "\n",
       "    .dataframe tbody tr th {\n",
       "        vertical-align: top;\n",
       "    }\n",
       "\n",
       "    .dataframe thead th {\n",
       "        text-align: right;\n",
       "    }\n",
       "</style>\n",
       "<table border=\"1\" class=\"dataframe\">\n",
       "  <thead>\n",
       "    <tr style=\"text-align: right;\">\n",
       "      <th></th>\n",
       "      <th></th>\n",
       "      <th>status</th>\n",
       "      <th>seed</th>\n",
       "      <th>r</th>\n",
       "      <th>nu</th>\n",
       "      <th>mu</th>\n",
       "      <th>energy</th>\n",
       "      <th>shell_id</th>\n",
       "      <th>interaction_type</th>\n",
       "    </tr>\n",
       "    <tr>\n",
       "      <th>index</th>\n",
       "      <th>step</th>\n",
       "      <th></th>\n",
       "      <th></th>\n",
       "      <th></th>\n",
       "      <th></th>\n",
       "      <th></th>\n",
       "      <th></th>\n",
       "      <th></th>\n",
       "      <th></th>\n",
       "    </tr>\n",
       "  </thead>\n",
       "  <tbody>\n",
       "    <tr>\n",
       "      <th rowspan=\"5\" valign=\"top\">0</th>\n",
       "      <th>0</th>\n",
       "      <td>0</td>\n",
       "      <td>3463712618</td>\n",
       "      <td>1.235520e+15</td>\n",
       "      <td>3.929924e+14</td>\n",
       "      <td>0.941856</td>\n",
       "      <td>0.103580</td>\n",
       "      <td>0</td>\n",
       "      <td>-1</td>\n",
       "    </tr>\n",
       "    <tr>\n",
       "      <th>1</th>\n",
       "      <td>0</td>\n",
       "      <td>3463712618</td>\n",
       "      <td>1.286064e+15</td>\n",
       "      <td>3.929924e+14</td>\n",
       "      <td>0.946463</td>\n",
       "      <td>0.103580</td>\n",
       "      <td>1</td>\n",
       "      <td>-1</td>\n",
       "    </tr>\n",
       "    <tr>\n",
       "      <th>2</th>\n",
       "      <td>0</td>\n",
       "      <td>3463712618</td>\n",
       "      <td>1.336608e+15</td>\n",
       "      <td>3.929924e+14</td>\n",
       "      <td>0.950539</td>\n",
       "      <td>0.103580</td>\n",
       "      <td>2</td>\n",
       "      <td>-1</td>\n",
       "    </tr>\n",
       "    <tr>\n",
       "      <th>3</th>\n",
       "      <td>0</td>\n",
       "      <td>3463712618</td>\n",
       "      <td>1.387152e+15</td>\n",
       "      <td>3.929924e+14</td>\n",
       "      <td>0.954163</td>\n",
       "      <td>0.103580</td>\n",
       "      <td>3</td>\n",
       "      <td>-1</td>\n",
       "    </tr>\n",
       "    <tr>\n",
       "      <th>4</th>\n",
       "      <td>0</td>\n",
       "      <td>3463712618</td>\n",
       "      <td>1.437696e+15</td>\n",
       "      <td>3.929924e+14</td>\n",
       "      <td>0.957400</td>\n",
       "      <td>0.103580</td>\n",
       "      <td>4</td>\n",
       "      <td>-1</td>\n",
       "    </tr>\n",
       "    <tr>\n",
       "      <th>...</th>\n",
       "      <th>...</th>\n",
       "      <td>...</td>\n",
       "      <td>...</td>\n",
       "      <td>...</td>\n",
       "      <td>...</td>\n",
       "      <td>...</td>\n",
       "      <td>...</td>\n",
       "      <td>...</td>\n",
       "      <td>...</td>\n",
       "    </tr>\n",
       "    <tr>\n",
       "      <th rowspan=\"5\" valign=\"top\">9</th>\n",
       "      <th>17</th>\n",
       "      <td>0</td>\n",
       "      <td>1332419245</td>\n",
       "      <td>2.044224e+15</td>\n",
       "      <td>9.509632e+14</td>\n",
       "      <td>0.900802</td>\n",
       "      <td>0.102448</td>\n",
       "      <td>16</td>\n",
       "      <td>1</td>\n",
       "    </tr>\n",
       "    <tr>\n",
       "      <th>18</th>\n",
       "      <td>0</td>\n",
       "      <td>1332419245</td>\n",
       "      <td>2.094768e+15</td>\n",
       "      <td>9.509632e+14</td>\n",
       "      <td>0.905778</td>\n",
       "      <td>0.102448</td>\n",
       "      <td>17</td>\n",
       "      <td>1</td>\n",
       "    </tr>\n",
       "    <tr>\n",
       "      <th>19</th>\n",
       "      <td>0</td>\n",
       "      <td>1332419245</td>\n",
       "      <td>2.145312e+15</td>\n",
       "      <td>9.509632e+14</td>\n",
       "      <td>0.910382</td>\n",
       "      <td>0.102448</td>\n",
       "      <td>18</td>\n",
       "      <td>1</td>\n",
       "    </tr>\n",
       "    <tr>\n",
       "      <th>20</th>\n",
       "      <td>0</td>\n",
       "      <td>1332419245</td>\n",
       "      <td>2.195856e+15</td>\n",
       "      <td>9.509632e+14</td>\n",
       "      <td>0.914651</td>\n",
       "      <td>0.102448</td>\n",
       "      <td>19</td>\n",
       "      <td>1</td>\n",
       "    </tr>\n",
       "    <tr>\n",
       "      <th>21</th>\n",
       "      <td>1</td>\n",
       "      <td>1332419245</td>\n",
       "      <td>2.246400e+15</td>\n",
       "      <td>9.509632e+14</td>\n",
       "      <td>0.918617</td>\n",
       "      <td>0.102448</td>\n",
       "      <td>19</td>\n",
       "      <td>1</td>\n",
       "    </tr>\n",
       "  </tbody>\n",
       "</table>\n",
       "<p>169 rows × 8 columns</p>\n",
       "</div>"
      ],
      "text/plain": [
       "            status        seed             r            nu        mu  \\\n",
       "index step                                                             \n",
       "0     0          0  3463712618  1.235520e+15  3.929924e+14  0.941856   \n",
       "      1          0  3463712618  1.286064e+15  3.929924e+14  0.946463   \n",
       "      2          0  3463712618  1.336608e+15  3.929924e+14  0.950539   \n",
       "      3          0  3463712618  1.387152e+15  3.929924e+14  0.954163   \n",
       "      4          0  3463712618  1.437696e+15  3.929924e+14  0.957400   \n",
       "...            ...         ...           ...           ...       ...   \n",
       "9     17         0  1332419245  2.044224e+15  9.509632e+14  0.900802   \n",
       "      18         0  1332419245  2.094768e+15  9.509632e+14  0.905778   \n",
       "      19         0  1332419245  2.145312e+15  9.509632e+14  0.910382   \n",
       "      20         0  1332419245  2.195856e+15  9.509632e+14  0.914651   \n",
       "      21         1  1332419245  2.246400e+15  9.509632e+14  0.918617   \n",
       "\n",
       "              energy  shell_id  interaction_type  \n",
       "index step                                        \n",
       "0     0     0.103580         0                -1  \n",
       "      1     0.103580         1                -1  \n",
       "      2     0.103580         2                -1  \n",
       "      3     0.103580         3                -1  \n",
       "      4     0.103580         4                -1  \n",
       "...              ...       ...               ...  \n",
       "9     17    0.102448        16                 1  \n",
       "      18    0.102448        17                 1  \n",
       "      19    0.102448        18                 1  \n",
       "      20    0.102448        19                 1  \n",
       "      21    0.102448        19                 1  \n",
       "\n",
       "[169 rows x 8 columns]"
      ]
     },
     "execution_count": 11,
     "metadata": {},
     "output_type": "execute_result"
    }
   ],
   "source": [
    "sim.runner.rpacket_tracker_df"
   ]
  },
  {
   "cell_type": "code",
   "execution_count": 12,
   "metadata": {},
   "outputs": [
    {
     "data": {
      "text/plain": [
       "10"
      ]
     },
     "execution_count": 12,
     "metadata": {},
     "output_type": "execute_result"
    }
   ],
   "source": [
    "sim.runner.rpacket_tracker_df.index[-1][0]+1"
   ]
  },
  {
   "cell_type": "code",
   "execution_count": 13,
   "metadata": {},
   "outputs": [
    {
     "data": {
      "text/latex": [
       "$[1.23552 \\times 10^{15},~1.286064 \\times 10^{15},~1.336608 \\times 10^{15},~1.387152 \\times 10^{15},~1.437696 \\times 10^{15},~1.48824 \\times 10^{15},~1.538784 \\times 10^{15},~1.589328 \\times 10^{15},~1.639872 \\times 10^{15},~1.690416 \\times 10^{15},~1.74096 \\times 10^{15},~1.791504 \\times 10^{15},~1.842048 \\times 10^{15},~1.892592 \\times 10^{15},~1.943136 \\times 10^{15},~1.99368 \\times 10^{15},~2.044224 \\times 10^{15},~2.094768 \\times 10^{15},~2.145312 \\times 10^{15},~2.195856 \\times 10^{15},~2.2464 \\times 10^{15}] \\; \\mathrm{cm}$"
      ],
      "text/plain": [
       "<Quantity [1.235520e+15, 1.286064e+15, 1.336608e+15, 1.387152e+15,\n",
       "           1.437696e+15, 1.488240e+15, 1.538784e+15, 1.589328e+15,\n",
       "           1.639872e+15, 1.690416e+15, 1.740960e+15, 1.791504e+15,\n",
       "           1.842048e+15, 1.892592e+15, 1.943136e+15, 1.993680e+15,\n",
       "           2.044224e+15, 2.094768e+15, 2.145312e+15, 2.195856e+15,\n",
       "           2.246400e+15] cm>"
      ]
     },
     "execution_count": 13,
     "metadata": {},
     "output_type": "execute_result"
    }
   ],
   "source": [
    "sim.model.radius"
   ]
  },
  {
   "cell_type": "markdown",
   "metadata": {},
   "source": [
    "#### Plotly plots ####"
   ]
  },
  {
   "cell_type": "code",
   "execution_count": 14,
   "metadata": {},
   "outputs": [],
   "source": [
    "import plotly.express as px\n",
    "import chart_studio.plotly as py\n",
    "import plotly.graph_objects as go\n",
    "import math\n",
    "import pandas as pd\n",
    "import numpy as np\n",
    "import random\n",
    "from IPython.core.debugger import set_trace"
   ]
  },
  {
   "attachments": {
    "packet_diagram.jpg": {
     "image/jpeg": "[encoded data removed]"
    }
   },
   "cell_type": "markdown",
   "metadata": {},
   "source": [
    "### Mathematical expression for finding coordinates ###\n",
    "\n",
    "\\\n",
    "<img src=\"attachment:packet_diagram.jpg\" style=\"width:400px\">\n",
    "\n",
    "<br><br>The diagram above shows the packet trajectory as it starts from photosphere `P0` and continues to move along the subsequent points `P1`, `P2` and so on.\n",
    "\n",
    "<div class=\"alert alert-info\">\n",
    "    <b>Note:</b><br>\n",
    "    Here μ is the angle of direction of packet propagation with respect to line joining the center.\n",
    "</div>\n",
    "\n",
    "To determine the polar coordinates of any arbitrary point, let say `P2`, we need `r2` and `θ2`. `r2` is already present in the array obtained from the simulation. To determine `θ2`, we use sine rule and apply it on triangle `OP1P2`, where `O` is the center.\n",
    "\n",
    "$$\n",
    "\\frac{r_{2}}{\\sin(\\pi - \\mu_{1})} = \\frac{r_{1}}{\\sin(\\alpha)}\n",
    "$$\n",
    "\n",
    "Now, writing `α` in terms of `μ1` and `θ2`\n",
    "\n",
    "$$ \n",
    "α = μ_{1} - θ_{2} \\\\ \\\\\n",
    "\\frac{r_{2}}{\\sin(\\pi - \\mu_{1})} = \\frac{r_{1}}{\\sin(μ_{1} - θ_{2})}\n",
    "$$\n",
    "\n",
    "Thus,\n",
    "\n",
    "$$ \n",
    "θ_{2} = -\\sin^{-1}(\\frac{r1}{r2}\\sin(\\mu_{1})) + \\mu_{1}\n",
    "$$\n",
    "\n",
    "Hence, for `ith` point, `θ` will be:\n",
    "\n",
    "$$ \n",
    "θ_{i} = -\\sin^{-1}(\\frac{r_{i-1}}{r_{i}}\\sin(\\mu_{i-1})) + \\mu_{i-1}\n",
    "$$"
   ]
  },
  {
   "cell_type": "code",
   "execution_count": 15,
   "metadata": {},
   "outputs": [],
   "source": [
    "# function for getting x y coordinates\n",
    "def get_x_y(r_track,mu_track,direction=\"normal\"):\n",
    "    xs,ys,theta=[],[],[]\n",
    "    \n",
    "    for i in range(len(r_track)):\n",
    "        if(i==0):\n",
    "            theta.append(0)\n",
    "        else:\n",
    "            if(direction == 'random' or direction == 'r'):\n",
    "                multiplier = random.choice([-1,1])\n",
    "            elif(direction == 'opposite' or direction == 'o'):\n",
    "                multiplier = -1\n",
    "            else:\n",
    "                multiplier = 1\n",
    "            if (r_track[i]<r_track[i-1]):\n",
    "                theta.append(theta[-1] - math.pi + math.asin(r_track[i-1]*math.sin(multiplier * math.acos(mu_track[i-1]))/r_track[i]) + multiplier * math.acos(mu_track[i-1]))\n",
    "            else:\n",
    "                theta.append(theta[-1]+math.asin(-1*r_track[i-1]*math.sin(multiplier * math.acos(mu_track[i-1]))/r_track[i]) + multiplier * math.acos(mu_track[i-1]))\n",
    "    \n",
    "    xs = (np.array(r_track))*np.cos(np.array(theta))\n",
    "    ys = (np.array(r_track))*np.sin(np.array(theta))\n",
    "    \n",
    "    return xs,ys"
   ]
  },
  {
   "cell_type": "code",
   "execution_count": 16,
   "metadata": {},
   "outputs": [],
   "source": [
    "# function for getting x y coordinates\n",
    "def get_x_y_with_theta_init(r_track,mu_track,direction=\"normal\",theta_initial=0):\n",
    "    xs,ys,theta=[],[],[]\n",
    "    \n",
    "    for i in range(len(r_track)):\n",
    "        if(i==0):\n",
    "            theta.append(theta_initial)\n",
    "        else:\n",
    "            if(direction == 'random' or direction == 'r'):\n",
    "                multiplier = random.choice([-1,1])\n",
    "            elif(direction == 'opposite' or direction == 'o'):\n",
    "                multiplier = -1\n",
    "            else:\n",
    "                multiplier = 1\n",
    "            if (r_track[i]<r_track[i-1]):\n",
    "                theta.append(theta[-1] - math.pi + math.asin(r_track[i-1]*math.sin(multiplier * math.acos(mu_track[i-1]))/r_track[i]) + multiplier * math.acos(mu_track[i-1]))\n",
    "            else:\n",
    "                theta.append(theta[-1]+math.asin(-1*r_track[i-1]*math.sin(multiplier * math.acos(mu_track[i-1]))/r_track[i]) + multiplier * math.acos(mu_track[i-1]))\n",
    "    \n",
    "    xs = (np.array(r_track))*np.cos(np.array(theta))\n",
    "    ys = (np.array(r_track))*np.sin(np.array(theta))\n",
    "    \n",
    "    return xs,ys"
   ]
  },
  {
   "cell_type": "code",
   "execution_count": 17,
   "metadata": {
    "scrolled": true
   },
   "outputs": [],
   "source": [
    "def get_coordinates_multiple_packets(r_packet_tracker):\n",
    "    thetas = np.linspace(0, math.pi * 2,sim.runner.rpacket_tracker_df.index[-1][0]+2) \n",
    "    x = []\n",
    "    y = []\n",
    "    for i in range(sim.runner.rpacket_tracker_df.index[-1][0]+1):\n",
    "        xs,ys = get_x_y_with_theta_init(r_packet_tracker.loc[i][\"r\"],r_packet_tracker.loc[i][\"mu\"],'n',thetas[i])\n",
    "        x.append(xs)\n",
    "        y.append(ys)\n",
    "    return x,y"
   ]
  },
  {
   "cell_type": "code",
   "execution_count": 18,
   "metadata": {},
   "outputs": [],
   "source": [
    "def get_equal_array_size(xs,ys):\n",
    "    max_size = max(list(map(len,xs)))\n",
    "    for i in range(len(xs)):\n",
    "        xs[i] = np.append(xs[i],xs[i][-1]*np.ones([max_size-len(xs[i])]))\n",
    "        ys[i] = np.append(ys[i],ys[i][-1]*np.ones([max_size-len(ys[i])]))\n",
    "    return xs,ys,max_size"
   ]
  },
  {
   "cell_type": "code",
   "execution_count": 33,
   "metadata": {
    "scrolled": false
   },
   "outputs": [
    {
     "data": {
      "application/vnd.plotly.v1+json": {
       "config": {
        "plotlyServerURL": "https://plot.ly"
       },
       "data": [
        {
         "hovertemplate": "<b>X</b>: %{x}<br><b>Y</b>: %{y}<br><b>Last Interaction: %{text}</b>",
         "line": {
          "color": "cyan"
         },
         "marker": {
          "color": [
           "aqua",
           "aqua",
           "aqua",
           "aqua",
           "aqua",
           "aqua",
           "aqua",
           "aqua",
           "aqua",
           "aqua",
           "aqua",
           "aqua",
           "aqua",
           "aqua",
           "aqua",
           "aqua",
           "aqua",
           "aqua",
           "aqua",
           "aqua",
           "aqua"
          ]
         },
         "mode": "markers+lines",
         "name": "Packet 1",
         "text": [
          "No Interaction",
          "No Interaction",
          "No Interaction",
          "No Interaction",
          "No Interaction",
          "No Interaction",
          "No Interaction",
          "No Interaction",
          "No Interaction",
          "No Interaction",
          "No Interaction",
          "No Interaction",
          "No Interaction",
          "No Interaction",
          "No Interaction",
          "No Interaction",
          "No Interaction",
          "No Interaction",
          "No Interaction",
          "No Interaction",
          "No Interaction"
         ],
         "type": "scatter",
         "x": [
          1235520000000000,
          1285938207009302.8,
          1336126002228648.5,
          1386111214658978.8,
          1435917277100826.2,
          1485564076013689.8,
          1535068608701903,
          1584445497560856.8,
          1633707396814942.5,
          1682865317383488.5,
          1731928888686583,
          1780906571373256.8,
          1829805831487821.2,
          1878633284068970,
          1927394812320476.2,
          1976095667111129.8,
          2024740550522899.2,
          2073333686377759.2,
          2121878880069588.5,
          2170379569560980.5,
          2218838869041609.8
         ],
         "y": [
          0,
          17987213505697.516,
          35892225237352.89,
          53724963477054.64,
          71493788117215.16,
          89205793856636.62,
          106867044658323.77,
          124482757212108.7,
          142057446042592.22,
          159595039408405.66,
          177098972704128.44,
          194572264353253.44,
          212017577943818.6,
          229437273458861.28,
          246833449791790.1,
          264207980244009.94,
          281562542331587.2,
          298898642946419.9,
          316217639701882.75,
          333520759126463.75,
          350809112239334
         ]
        },
        {
         "hovertemplate": "<b>X</b>: %{x}<br><b>Y</b>: %{y}<br><b>Last Interaction: %{text}</b>",
         "line": {
          "color": "cyan"
         },
         "marker": {
          "color": [
           "aqua",
           "aqua",
           "aqua",
           "aqua",
           "aqua",
           "aqua",
           "aqua",
           "aqua",
           "aqua",
           "aqua",
           "red",
           "red",
           "red",
           "red",
           "red",
           "red",
           "red",
           "red",
           "red",
           "red",
           "red",
           "red"
          ]
         },
         "mode": "markers+lines",
         "name": "Packet 2",
         "text": [
          "No Interaction",
          "No Interaction",
          "No Interaction",
          "No Interaction",
          "No Interaction",
          "No Interaction",
          "No Interaction",
          "No Interaction",
          "No Interaction",
          "No Interaction",
          "EScattering",
          "EScattering",
          "EScattering",
          "EScattering",
          "EScattering",
          "EScattering",
          "EScattering",
          "EScattering",
          "EScattering",
          "EScattering",
          "EScattering",
          "EScattering"
         ],
         "type": "scatter",
         "x": [
          999556676890135.1,
          1010564059787874,
          1021206017630201.9,
          1031551478983035.6,
          1041651748275034.9,
          1051546080170674.9,
          1061265194311695.4,
          1070833586752896.9,
          1080271103856139.9,
          1089594045767348.8,
          1089808669455281.4,
          1113654472499278.6,
          1138036284642671.5,
          1162391046635147.5,
          1186721005099585.8,
          1211028162636653.2,
          1235314310318479.2,
          1259581055090534.2,
          1283829842994514,
          1308061978941671.2,
          1332278643623270,
          1356480908032948
         ],
         "y": [
          726220434912396.4,
          795437548246906.9,
          862356779540732.6,
          927411568459177.6,
          990924529785978.9,
          1053142506443306,
          1114258671044816,
          1174427060768750.2,
          1233772474387979.2,
          1292397411203048.2,
          1293747017396447.2,
          1338176160855645.5,
          1383603988449261.5,
          1428981416606404.2,
          1474312631201208.2,
          1519601363449274,
          1564850950449396.5,
          1610064386238332,
          1655244365059335,
          1700393318203526.2,
          1745513445517204,
          1790606742459691.8
         ]
        },
        {
         "hovertemplate": "<b>X</b>: %{x}<br><b>Y</b>: %{y}<br><b>Last Interaction: %{text}</b>",
         "line": {
          "color": "cyan"
         },
         "marker": {
          "color": [
           "aqua",
           "aqua",
           "aqua",
           "aqua",
           "blue",
           "blue",
           "blue",
           "blue",
           "blue",
           "blue",
           "blue",
           "blue",
           "blue",
           "blue"
          ]
         },
         "mode": "markers+lines",
         "name": "Packet 3",
         "text": [
          "No Interaction",
          "No Interaction",
          "No Interaction",
          "No Interaction",
          "Line",
          "Line",
          "Line",
          "Line",
          "Line",
          "Line",
          "Line",
          "Line",
          "Line",
          "Line"
         ],
         "type": "scatter",
         "x": [
          381796676890135.06,
          384363542277129.75,
          386923583296796.4,
          389477591615127.56,
          389722015974973.3,
          382309625448638.2,
          379097398047261.8,
          378979830643319.2,
          378046459123378.9,
          329081042547004.6,
          131943255642532.88,
          22226757376422.312,
          -4504017324454.99,
          -44513808033226.63
         ],
         "y": [
          1175049347012988,
          1227283699665312.8,
          1279379180052875,
          1331351898159791.5,
          1336325804572523.8,
          1333427921334078.8,
          1332172097060998.5,
          1334378116977928,
          1351891782278304.2,
          1347551979902881.8,
          1330079667897547,
          1320355500248413.5,
          1286056113054147,
          1234717858984141
         ]
        },
        {
         "hovertemplate": "<b>X</b>: %{x}<br><b>Y</b>: %{y}<br><b>Last Interaction: %{text}</b>",
         "line": {
          "color": "cyan"
         },
         "marker": {
          "color": [
           "aqua",
           "aqua",
           "aqua",
           "aqua",
           "red",
           "red",
           "red",
           "red",
           "red",
           "red",
           "red",
           "red",
           "red",
           "red",
           "red",
           "red",
           "red",
           "red",
           "red",
           "red",
           "red",
           "red",
           "red"
          ]
         },
         "mode": "markers+lines",
         "name": "Packet 4",
         "text": [
          "No Interaction",
          "No Interaction",
          "No Interaction",
          "No Interaction",
          "EScattering",
          "EScattering",
          "EScattering",
          "EScattering",
          "EScattering",
          "EScattering",
          "EScattering",
          "EScattering",
          "EScattering",
          "EScattering",
          "EScattering",
          "EScattering",
          "EScattering",
          "EScattering",
          "EScattering",
          "EScattering",
          "EScattering",
          "EScattering",
          "EScattering"
         ],
         "type": "scatter",
         "x": [
          -381796676890134.94,
          -560058498098231.25,
          -689333780295041.9,
          -798102772701315.4,
          -871471163706233.1,
          -885566076321544.2,
          -941093618161948.6,
          -957729602594384.5,
          -991329333393460.8,
          -1039254517476411.4,
          -1086952973572016.4,
          -1134447816069789.5,
          -1181759040292326.2,
          -1228904042976281.2,
          -1275898039965204.5,
          -1322754404409129,
          -1369484942843596.5,
          -1416100122258468.8,
          -1462609258158364.8,
          -1509020671321987.5,
          -1555341819254716.2,
          -1601579407036914.5,
          -1647739481286551.8
         ],
         "y": [
          1175049347012988.2,
          1157711143076697.5,
          1145137496114831.8,
          1134558343722557.2,
          1127422345015151.5,
          1132582232283583.5,
          1152909840124045.8,
          1158999966867897.2,
          1176912210578884.5,
          1202461450313011.8,
          1227889819823811,
          1253209641548645.8,
          1278431575129212.8,
          1303564894883469.2,
          1328617712480512,
          1353597157237060.2,
          1378509523297053.5,
          1403360390683572.8,
          1428154725555126.2,
          1452896963775112,
          1477591080990078.8,
          1502240651723712.8,
          1526848899468944
         ]
        },
        {
         "hovertemplate": "<b>X</b>: %{x}<br><b>Y</b>: %{y}<br><b>Last Interaction: %{text}</b>",
         "line": {
          "color": "cyan"
         },
         "marker": {
          "color": [
           "aqua",
           "aqua",
           "aqua",
           "aqua",
           "aqua",
           "aqua",
           "aqua",
           "aqua",
           "aqua",
           "aqua",
           "aqua",
           "aqua",
           "aqua",
           "aqua",
           "aqua",
           "aqua",
           "aqua",
           "aqua",
           "aqua",
           "aqua",
           "aqua"
          ]
         },
         "mode": "markers+lines",
         "name": "Packet 5",
         "text": [
          "No Interaction",
          "No Interaction",
          "No Interaction",
          "No Interaction",
          "No Interaction",
          "No Interaction",
          "No Interaction",
          "No Interaction",
          "No Interaction",
          "No Interaction",
          "No Interaction",
          "No Interaction",
          "No Interaction",
          "No Interaction",
          "No Interaction",
          "No Interaction",
          "No Interaction",
          "No Interaction",
          "No Interaction",
          "No Interaction",
          "No Interaction"
         ],
         "type": "scatter",
         "x": [
          -999556676890135,
          -1052621920792411.1,
          -1105359064480113,
          -1157809049196536.5,
          -1210006103108006.8,
          -1261979092593486.5,
          -1313752553924971,
          -1365347491490551,
          -1416782002832900.8,
          -1468071773413702.2,
          -1519230472138751.2,
          -1570270070412374.2,
          -1621201101644186.8,
          -1672032873937100,
          -1722773645636184.2,
          -1773430771173804.2,
          -1824010822976139.5,
          -1874519693940024.5,
          -1924962684035120.5,
          -1975344573855499.2,
          -2025669687379933.2
         ],
         "y": [
          726220434912396.5,
          738882740333873.4,
          751466755243137.4,
          763982248944706.1,
          776437388884239.5,
          788839063090134.1,
          801193126350703.9,
          813504590684318,
          825777774484633.8,
          838016420580138.1,
          850223790613428.8,
          862402741173239.2,
          874555785717340.9,
          886685145323661.6,
          898792790579347.8,
          910880476381992.5,
          922949771028687.2,
          935002080668806.2,
          947038669968817.1,
          959060679662990.4,
          971069141529110.6
         ]
        },
        {
         "hovertemplate": "<b>X</b>: %{x}<br><b>Y</b>: %{y}<br><b>Last Interaction: %{text}</b>",
         "line": {
          "color": "cyan"
         },
         "marker": {
          "color": [
           "aqua",
           "aqua",
           "aqua",
           "aqua",
           "aqua",
           "aqua",
           "aqua",
           "aqua",
           "aqua",
           "aqua",
           "aqua",
           "aqua",
           "aqua",
           "aqua",
           "aqua",
           "aqua",
           "aqua",
           "aqua",
           "aqua",
           "aqua",
           "aqua"
          ]
         },
         "mode": "markers+lines",
         "name": "Packet 6",
         "text": [
          "No Interaction",
          "No Interaction",
          "No Interaction",
          "No Interaction",
          "No Interaction",
          "No Interaction",
          "No Interaction",
          "No Interaction",
          "No Interaction",
          "No Interaction",
          "No Interaction",
          "No Interaction",
          "No Interaction",
          "No Interaction",
          "No Interaction",
          "No Interaction",
          "No Interaction",
          "No Interaction",
          "No Interaction",
          "No Interaction",
          "No Interaction"
         ],
         "type": "scatter",
         "x": [
          -1235520000000000,
          -1285988790680336.8,
          -1336319308697082.5,
          -1386527622584136.8,
          -1436627373102132,
          -1486630220121217.2,
          -1536546193336532.5,
          -1586383970331219.5,
          -1636151099103030.2,
          -1685854177679098,
          -1735499000244185.2,
          -1785090676898093.2,
          -1834633732469823.8,
          -1884132188568110.2,
          -1933589632115499,
          -1983009272909653.5,
          -2032393992219840.8,
          -2081746384015156.2,
          -2131068790102525,
          -2180363330204101.8,
          -2229631927808511.8
         ],
         "y": [
          0.1513075613282538,
          -13908355061794.424,
          -27778604488906.28,
          -41615176500671.34,
          -55421830262698.63,
          -69201779040290.2,
          -82957786849768.42,
          -96692245087990.62,
          -110407233856962.33,
          -124104571462667.89,
          -137785854685569.95,
          -151452491783752.4,
          -165105729724449.62,
          -178746676795802.1,
          -192376321493704.06,
          -205995548384734.34,
          -219605151498540.7,
          -233205845689644.16,
          -246798276320885.97,
          -260383027552259.38,
          -273960629465074.66
         ]
        },
        {
         "hovertemplate": "<b>X</b>: %{x}<br><b>Y</b>: %{y}<br><b>Last Interaction: %{text}</b>",
         "line": {
          "color": "cyan"
         },
         "marker": {
          "color": [
           "aqua",
           "blue",
           "blue",
           "blue",
           "blue",
           "blue",
           "blue",
           "blue",
           "red",
           "red",
           "red",
           "red",
           "red",
           "red",
           "red"
          ]
         },
         "mode": "markers+lines",
         "name": "Packet 7",
         "text": [
          "No Interaction",
          "Line",
          "Line",
          "Line",
          "Line",
          "Line",
          "Line",
          "Line",
          "EScattering",
          "EScattering",
          "EScattering",
          "EScattering",
          "EScattering",
          "EScattering",
          "EScattering"
         ],
         "type": "scatter",
         "x": [
          -999556676890135.2,
          -991792738625141.4,
          -1001045090484200.8,
          -1010927578518958,
          -1020535363049319.2,
          -1029915936854426.5,
          -1033759264830477.1,
          -1041887794710853.8,
          -1052298897399856.2,
          -1000952032584764.8,
          -931056531060972.2,
          -858674531967504.9,
          -783184035076267.5,
          -703692453131837.2,
          -618844614603090.8
         ],
         "y": [
          -726220434912396.2,
          -744657149875082.9,
          -807384257286131.4,
          -874383426566283.9,
          -939520220043078.2,
          -1003116619057459.8,
          -1029172788390618.2,
          -1062698508906714.4,
          -1105638588374037.1,
          -1101341602802885.2,
          -1095492366191891.4,
          -1089435045908835.4,
          -1083117589583723.8,
          -1076465300648979.1,
          -1069364770963000.9
         ]
        },
        {
         "hovertemplate": "<b>X</b>: %{x}<br><b>Y</b>: %{y}<br><b>Last Interaction: %{text}</b>",
         "line": {
          "color": "cyan"
         },
         "marker": {
          "color": [
           "aqua",
           "aqua",
           "aqua",
           "red",
           "red",
           "red",
           "red"
          ]
         },
         "mode": "markers+lines",
         "name": "Packet 8",
         "text": [
          "No Interaction",
          "No Interaction",
          "No Interaction",
          "EScattering",
          "EScattering",
          "EScattering",
          "EScattering"
         ],
         "type": "scatter",
         "x": [
          -381796676890135.2,
          -366508573445141.25,
          -351443343657833.1,
          -338602745326931,
          -305187249898299.44,
          -266018718966859.84,
          -226317026976791
         ],
         "y": [
          -1175049347012988,
          -1232733579362226.5,
          -1289576877065730.5,
          -1338026317526938.5,
          -1301299999294364.5,
          -1258250632129875.2,
          -1214615278061488.2
         ]
        },
        {
         "hovertemplate": "<b>X</b>: %{x}<br><b>Y</b>: %{y}<br><b>Last Interaction: %{text}</b>",
         "line": {
          "color": "cyan"
         },
         "marker": {
          "color": [
           "aqua",
           "red",
           "red"
          ]
         },
         "mode": "markers+lines",
         "name": "Packet 9",
         "text": [
          "No Interaction",
          "EScattering",
          "EScattering"
         ],
         "type": "scatter",
         "x": [
          381796676890134.8,
          383303585438000,
          384973430660442.7
         ],
         "y": [
          -1175049347012988.2,
          -1175975790249579.2,
          -1174012405422331.8
         ]
        },
        {
         "hovertemplate": "<b>X</b>: %{x}<br><b>Y</b>: %{y}<br><b>Last Interaction: %{text}</b>",
         "line": {
          "color": "cyan"
         },
         "marker": {
          "color": [
           "aqua",
           "aqua",
           "aqua",
           "red",
           "red",
           "red",
           "red",
           "red",
           "red",
           "red",
           "red",
           "red",
           "red",
           "red",
           "red",
           "red",
           "red",
           "red",
           "red",
           "red",
           "red",
           "red"
          ]
         },
         "mode": "markers+lines",
         "name": "Packet 10",
         "text": [
          "No Interaction",
          "No Interaction",
          "No Interaction",
          "EScattering",
          "EScattering",
          "EScattering",
          "EScattering",
          "EScattering",
          "EScattering",
          "EScattering",
          "EScattering",
          "EScattering",
          "EScattering",
          "EScattering",
          "EScattering",
          "EScattering",
          "EScattering",
          "EScattering",
          "EScattering",
          "EScattering",
          "EScattering",
          "EScattering"
         ],
         "type": "scatter",
         "x": [
          999556676890135,
          1087988871141229.5,
          1168542251493190.2,
          1215641291152216.8,
          1240086402954012.8,
          1303370241330598,
          1365294226601748.8,
          1426064780849463,
          1485845725356774.8,
          1544769255170663,
          1602943574039272.5,
          1660458346240473.5,
          1717388677792826.5,
          1773798080979878.2,
          1829740719923031.8,
          1885263137521245.8,
          1940405601593618,
          1995203166980728,
          2049686522748949.2,
          2103882674711957.8,
          2157815500271715.5,
          2211506203209555.2
         ],
         "y": [
          -726220434912396.6,
          -685741079685936,
          -648868208605742.8,
          -627308879751259.5,
          -621591814869354.5,
          -606791399436263.5,
          -592309017665552.9,
          -578096392893757.6,
          -564115211657157.6,
          -550334557031879.44,
          -536729123024085.06,
          -523277939531519.25,
          -509963441243593.06,
          -496770774317593.1,
          -483687271198597.6,
          -470702046733969.4,
          -457805683346231,
          -444989982635647.4,
          -432247767241569.3,
          -419572721218693.25,
          -406959260274450.3,
          -394402425405395.5
         ]
        }
       ],
       "layout": {
        "height": 900,
        "paper_bgcolor": "#fafafa",
        "plot_bgcolor": "#fafafa",
        "shapes": [
         {
          "fillcolor": "darkgrey",
          "line": {
           "color": "black"
          },
          "opacity": 1,
          "type": "circle",
          "x0": -1235520000000000,
          "x1": 1235520000000000,
          "xref": "x",
          "y0": -1235520000000000,
          "y1": 1235520000000000,
          "yref": "y"
         },
         {
          "line": {
           "color": "black"
          },
          "opacity": 0.2,
          "type": "circle",
          "x0": -1286064000000000,
          "x1": 1286064000000000,
          "xref": "x",
          "y0": -1286064000000000,
          "y1": 1286064000000000,
          "yref": "y"
         },
         {
          "line": {
           "color": "black"
          },
          "opacity": 0.2,
          "type": "circle",
          "x0": -1336608000000000,
          "x1": 1336608000000000,
          "xref": "x",
          "y0": -1336608000000000,
          "y1": 1336608000000000,
          "yref": "y"
         },
         {
          "line": {
           "color": "black"
          },
          "opacity": 0.2,
          "type": "circle",
          "x0": -1387152000000000,
          "x1": 1387152000000000,
          "xref": "x",
          "y0": -1387152000000000,
          "y1": 1387152000000000,
          "yref": "y"
         },
         {
          "line": {
           "color": "black"
          },
          "opacity": 0.2,
          "type": "circle",
          "x0": -1437696000000000,
          "x1": 1437696000000000,
          "xref": "x",
          "y0": -1437696000000000,
          "y1": 1437696000000000,
          "yref": "y"
         },
         {
          "line": {
           "color": "black"
          },
          "opacity": 0.2,
          "type": "circle",
          "x0": -1488240000000000,
          "x1": 1488240000000000,
          "xref": "x",
          "y0": -1488240000000000,
          "y1": 1488240000000000,
          "yref": "y"
         },
         {
          "line": {
           "color": "black"
          },
          "opacity": 0.2,
          "type": "circle",
          "x0": -1538784000000000,
          "x1": 1538784000000000,
          "xref": "x",
          "y0": -1538784000000000,
          "y1": 1538784000000000,
          "yref": "y"
         },
         {
          "line": {
           "color": "black"
          },
          "opacity": 0.2,
          "type": "circle",
          "x0": -1589328000000000,
          "x1": 1589328000000000,
          "xref": "x",
          "y0": -1589328000000000,
          "y1": 1589328000000000,
          "yref": "y"
         },
         {
          "line": {
           "color": "black"
          },
          "opacity": 0.2,
          "type": "circle",
          "x0": -1639872000000000,
          "x1": 1639872000000000,
          "xref": "x",
          "y0": -1639872000000000,
          "y1": 1639872000000000,
          "yref": "y"
         },
         {
          "line": {
           "color": "black"
          },
          "opacity": 0.2,
          "type": "circle",
          "x0": -1690416000000000,
          "x1": 1690416000000000,
          "xref": "x",
          "y0": -1690416000000000,
          "y1": 1690416000000000,
          "yref": "y"
         },
         {
          "line": {
           "color": "black"
          },
          "opacity": 0.2,
          "type": "circle",
          "x0": -1740960000000000,
          "x1": 1740960000000000,
          "xref": "x",
          "y0": -1740960000000000,
          "y1": 1740960000000000,
          "yref": "y"
         },
         {
          "line": {
           "color": "black"
          },
          "opacity": 0.2,
          "type": "circle",
          "x0": -1791504000000000,
          "x1": 1791504000000000,
          "xref": "x",
          "y0": -1791504000000000,
          "y1": 1791504000000000,
          "yref": "y"
         },
         {
          "line": {
           "color": "black"
          },
          "opacity": 0.2,
          "type": "circle",
          "x0": -1842048000000000,
          "x1": 1842048000000000,
          "xref": "x",
          "y0": -1842048000000000,
          "y1": 1842048000000000,
          "yref": "y"
         },
         {
          "line": {
           "color": "black"
          },
          "opacity": 0.2,
          "type": "circle",
          "x0": -1892592000000000,
          "x1": 1892592000000000,
          "xref": "x",
          "y0": -1892592000000000,
          "y1": 1892592000000000,
          "yref": "y"
         },
         {
          "line": {
           "color": "black"
          },
          "opacity": 0.2,
          "type": "circle",
          "x0": -1943136000000000,
          "x1": 1943136000000000,
          "xref": "x",
          "y0": -1943136000000000,
          "y1": 1943136000000000,
          "yref": "y"
         },
         {
          "line": {
           "color": "black"
          },
          "opacity": 0.2,
          "type": "circle",
          "x0": -1993680000000000,
          "x1": 1993680000000000,
          "xref": "x",
          "y0": -1993680000000000,
          "y1": 1993680000000000,
          "yref": "y"
         },
         {
          "line": {
           "color": "black"
          },
          "opacity": 0.2,
          "type": "circle",
          "x0": -2044224000000000,
          "x1": 2044224000000000,
          "xref": "x",
          "y0": -2044224000000000,
          "y1": 2044224000000000,
          "yref": "y"
         },
         {
          "line": {
           "color": "black"
          },
          "opacity": 0.2,
          "type": "circle",
          "x0": -2094768000000000,
          "x1": 2094768000000000,
          "xref": "x",
          "y0": -2094768000000000,
          "y1": 2094768000000000,
          "yref": "y"
         },
         {
          "line": {
           "color": "black"
          },
          "opacity": 0.2,
          "type": "circle",
          "x0": -2145312000000000,
          "x1": 2145312000000000,
          "xref": "x",
          "y0": -2145312000000000,
          "y1": 2145312000000000,
          "yref": "y"
         },
         {
          "line": {
           "color": "black"
          },
          "opacity": 0.2,
          "type": "circle",
          "x0": -2195856000000000,
          "x1": 2195856000000000,
          "xref": "x",
          "y0": -2195856000000000,
          "y1": 2195856000000000,
          "yref": "y"
         },
         {
          "line": {
           "color": "black"
          },
          "opacity": 0.2,
          "type": "circle",
          "x0": -2246400000000000,
          "x1": 2246400000000000,
          "xref": "x",
          "y0": -2246400000000000,
          "y1": 2246400000000000,
          "yref": "y"
         }
        ],
        "template": {
         "data": {
          "bar": [
           {
            "error_x": {
             "color": "#2a3f5f"
            },
            "error_y": {
             "color": "#2a3f5f"
            },
            "marker": {
             "line": {
              "color": "#E5ECF6",
              "width": 0.5
             },
             "pattern": {
              "fillmode": "overlay",
              "size": 10,
              "solidity": 0.2
             }
            },
            "type": "bar"
           }
          ],
          "barpolar": [
           {
            "marker": {
             "line": {
              "color": "#E5ECF6",
              "width": 0.5
             },
             "pattern": {
              "fillmode": "overlay",
              "size": 10,
              "solidity": 0.2
             }
            },
            "type": "barpolar"
           }
          ],
          "carpet": [
           {
            "aaxis": {
             "endlinecolor": "#2a3f5f",
             "gridcolor": "white",
             "linecolor": "white",
             "minorgridcolor": "white",
             "startlinecolor": "#2a3f5f"
            },
            "baxis": {
             "endlinecolor": "#2a3f5f",
             "gridcolor": "white",
             "linecolor": "white",
             "minorgridcolor": "white",
             "startlinecolor": "#2a3f5f"
            },
            "type": "carpet"
           }
          ],
          "choropleth": [
           {
            "colorbar": {
             "outlinewidth": 0,
             "ticks": ""
            },
            "type": "choropleth"
           }
          ],
          "contour": [
           {
            "colorbar": {
             "outlinewidth": 0,
             "ticks": ""
            },
            "colorscale": [
             [
              0,
              "#0d0887"
             ],
             [
              0.1111111111111111,
              "#46039f"
             ],
             [
              0.2222222222222222,
              "#7201a8"
             ],
             [
              0.3333333333333333,
              "#9c179e"
             ],
             [
              0.4444444444444444,
              "#bd3786"
             ],
             [
              0.5555555555555556,
              "#d8576b"
             ],
             [
              0.6666666666666666,
              "#ed7953"
             ],
             [
              0.7777777777777778,
              "#fb9f3a"
             ],
             [
              0.8888888888888888,
              "#fdca26"
             ],
             [
              1,
              "#f0f921"
             ]
            ],
            "type": "contour"
           }
          ],
          "contourcarpet": [
           {
            "colorbar": {
             "outlinewidth": 0,
             "ticks": ""
            },
            "type": "contourcarpet"
           }
          ],
          "heatmap": [
           {
            "colorbar": {
             "outlinewidth": 0,
             "ticks": ""
            },
            "colorscale": [
             [
              0,
              "#0d0887"
             ],
             [
              0.1111111111111111,
              "#46039f"
             ],
             [
              0.2222222222222222,
              "#7201a8"
             ],
             [
              0.3333333333333333,
              "#9c179e"
             ],
             [
              0.4444444444444444,
              "#bd3786"
             ],
             [
              0.5555555555555556,
              "#d8576b"
             ],
             [
              0.6666666666666666,
              "#ed7953"
             ],
             [
              0.7777777777777778,
              "#fb9f3a"
             ],
             [
              0.8888888888888888,
              "#fdca26"
             ],
             [
              1,
              "#f0f921"
             ]
            ],
            "type": "heatmap"
           }
          ],
          "heatmapgl": [
           {
            "colorbar": {
             "outlinewidth": 0,
             "ticks": ""
            },
            "colorscale": [
             [
              0,
              "#0d0887"
             ],
             [
              0.1111111111111111,
              "#46039f"
             ],
             [
              0.2222222222222222,
              "#7201a8"
             ],
             [
              0.3333333333333333,
              "#9c179e"
             ],
             [
              0.4444444444444444,
              "#bd3786"
             ],
             [
              0.5555555555555556,
              "#d8576b"
             ],
             [
              0.6666666666666666,
              "#ed7953"
             ],
             [
              0.7777777777777778,
              "#fb9f3a"
             ],
             [
              0.8888888888888888,
              "#fdca26"
             ],
             [
              1,
              "#f0f921"
             ]
            ],
            "type": "heatmapgl"
           }
          ],
          "histogram": [
           {
            "marker": {
             "pattern": {
              "fillmode": "overlay",
              "size": 10,
              "solidity": 0.2
             }
            },
            "type": "histogram"
           }
          ],
          "histogram2d": [
           {
            "colorbar": {
             "outlinewidth": 0,
             "ticks": ""
            },
            "colorscale": [
             [
              0,
              "#0d0887"
             ],
             [
              0.1111111111111111,
              "#46039f"
             ],
             [
              0.2222222222222222,
              "#7201a8"
             ],
             [
              0.3333333333333333,
              "#9c179e"
             ],
             [
              0.4444444444444444,
              "#bd3786"
             ],
             [
              0.5555555555555556,
              "#d8576b"
             ],
             [
              0.6666666666666666,
              "#ed7953"
             ],
             [
              0.7777777777777778,
              "#fb9f3a"
             ],
             [
              0.8888888888888888,
              "#fdca26"
             ],
             [
              1,
              "#f0f921"
             ]
            ],
            "type": "histogram2d"
           }
          ],
          "histogram2dcontour": [
           {
            "colorbar": {
             "outlinewidth": 0,
             "ticks": ""
            },
            "colorscale": [
             [
              0,
              "#0d0887"
             ],
             [
              0.1111111111111111,
              "#46039f"
             ],
             [
              0.2222222222222222,
              "#7201a8"
             ],
             [
              0.3333333333333333,
              "#9c179e"
             ],
             [
              0.4444444444444444,
              "#bd3786"
             ],
             [
              0.5555555555555556,
              "#d8576b"
             ],
             [
              0.6666666666666666,
              "#ed7953"
             ],
             [
              0.7777777777777778,
              "#fb9f3a"
             ],
             [
              0.8888888888888888,
              "#fdca26"
             ],
             [
              1,
              "#f0f921"
             ]
            ],
            "type": "histogram2dcontour"
           }
          ],
          "mesh3d": [
           {
            "colorbar": {
             "outlinewidth": 0,
             "ticks": ""
            },
            "type": "mesh3d"
           }
          ],
          "parcoords": [
           {
            "line": {
             "colorbar": {
              "outlinewidth": 0,
              "ticks": ""
             }
            },
            "type": "parcoords"
           }
          ],
          "pie": [
           {
            "automargin": true,
            "type": "pie"
           }
          ],
          "scatter": [
           {
            "fillpattern": {
             "fillmode": "overlay",
             "size": 10,
             "solidity": 0.2
            },
            "type": "scatter"
           }
          ],
          "scatter3d": [
           {
            "line": {
             "colorbar": {
              "outlinewidth": 0,
              "ticks": ""
             }
            },
            "marker": {
             "colorbar": {
              "outlinewidth": 0,
              "ticks": ""
             }
            },
            "type": "scatter3d"
           }
          ],
          "scattercarpet": [
           {
            "marker": {
             "colorbar": {
              "outlinewidth": 0,
              "ticks": ""
             }
            },
            "type": "scattercarpet"
           }
          ],
          "scattergeo": [
           {
            "marker": {
             "colorbar": {
              "outlinewidth": 0,
              "ticks": ""
             }
            },
            "type": "scattergeo"
           }
          ],
          "scattergl": [
           {
            "marker": {
             "colorbar": {
              "outlinewidth": 0,
              "ticks": ""
             }
            },
            "type": "scattergl"
           }
          ],
          "scattermapbox": [
           {
            "marker": {
             "colorbar": {
              "outlinewidth": 0,
              "ticks": ""
             }
            },
            "type": "scattermapbox"
           }
          ],
          "scatterpolar": [
           {
            "marker": {
             "colorbar": {
              "outlinewidth": 0,
              "ticks": ""
             }
            },
            "type": "scatterpolar"
           }
          ],
          "scatterpolargl": [
           {
            "marker": {
             "colorbar": {
              "outlinewidth": 0,
              "ticks": ""
             }
            },
            "type": "scatterpolargl"
           }
          ],
          "scatterternary": [
           {
            "marker": {
             "colorbar": {
              "outlinewidth": 0,
              "ticks": ""
             }
            },
            "type": "scatterternary"
           }
          ],
          "surface": [
           {
            "colorbar": {
             "outlinewidth": 0,
             "ticks": ""
            },
            "colorscale": [
             [
              0,
              "#0d0887"
             ],
             [
              0.1111111111111111,
              "#46039f"
             ],
             [
              0.2222222222222222,
              "#7201a8"
             ],
             [
              0.3333333333333333,
              "#9c179e"
             ],
             [
              0.4444444444444444,
              "#bd3786"
             ],
             [
              0.5555555555555556,
              "#d8576b"
             ],
             [
              0.6666666666666666,
              "#ed7953"
             ],
             [
              0.7777777777777778,
              "#fb9f3a"
             ],
             [
              0.8888888888888888,
              "#fdca26"
             ],
             [
              1,
              "#f0f921"
             ]
            ],
            "type": "surface"
           }
          ],
          "table": [
           {
            "cells": {
             "fill": {
              "color": "#EBF0F8"
             },
             "line": {
              "color": "white"
             }
            },
            "header": {
             "fill": {
              "color": "#C8D4E3"
             },
             "line": {
              "color": "white"
             }
            },
            "type": "table"
           }
          ]
         },
         "layout": {
          "annotationdefaults": {
           "arrowcolor": "#2a3f5f",
           "arrowhead": 0,
           "arrowwidth": 1
          },
          "autotypenumbers": "strict",
          "coloraxis": {
           "colorbar": {
            "outlinewidth": 0,
            "ticks": ""
           }
          },
          "colorscale": {
           "diverging": [
            [
             0,
             "#8e0152"
            ],
            [
             0.1,
             "#c51b7d"
            ],
            [
             0.2,
             "#de77ae"
            ],
            [
             0.3,
             "#f1b6da"
            ],
            [
             0.4,
             "#fde0ef"
            ],
            [
             0.5,
             "#f7f7f7"
            ],
            [
             0.6,
             "#e6f5d0"
            ],
            [
             0.7,
             "#b8e186"
            ],
            [
             0.8,
             "#7fbc41"
            ],
            [
             0.9,
             "#4d9221"
            ],
            [
             1,
             "#276419"
            ]
           ],
           "sequential": [
            [
             0,
             "#0d0887"
            ],
            [
             0.1111111111111111,
             "#46039f"
            ],
            [
             0.2222222222222222,
             "#7201a8"
            ],
            [
             0.3333333333333333,
             "#9c179e"
            ],
            [
             0.4444444444444444,
             "#bd3786"
            ],
            [
             0.5555555555555556,
             "#d8576b"
            ],
            [
             0.6666666666666666,
             "#ed7953"
            ],
            [
             0.7777777777777778,
             "#fb9f3a"
            ],
            [
             0.8888888888888888,
             "#fdca26"
            ],
            [
             1,
             "#f0f921"
            ]
           ],
           "sequentialminus": [
            [
             0,
             "#0d0887"
            ],
            [
             0.1111111111111111,
             "#46039f"
            ],
            [
             0.2222222222222222,
             "#7201a8"
            ],
            [
             0.3333333333333333,
             "#9c179e"
            ],
            [
             0.4444444444444444,
             "#bd3786"
            ],
            [
             0.5555555555555556,
             "#d8576b"
            ],
            [
             0.6666666666666666,
             "#ed7953"
            ],
            [
             0.7777777777777778,
             "#fb9f3a"
            ],
            [
             0.8888888888888888,
             "#fdca26"
            ],
            [
             1,
             "#f0f921"
            ]
           ]
          },
          "colorway": [
           "#636efa",
           "#EF553B",
           "#00cc96",
           "#ab63fa",
           "#FFA15A",
           "#19d3f3",
           "#FF6692",
           "#B6E880",
           "#FF97FF",
           "#FECB52"
          ],
          "font": {
           "color": "#2a3f5f"
          },
          "geo": {
           "bgcolor": "white",
           "lakecolor": "white",
           "landcolor": "#E5ECF6",
           "showlakes": true,
           "showland": true,
           "subunitcolor": "white"
          },
          "hoverlabel": {
           "align": "left"
          },
          "hovermode": "closest",
          "mapbox": {
           "style": "light"
          },
          "paper_bgcolor": "white",
          "plot_bgcolor": "#E5ECF6",
          "polar": {
           "angularaxis": {
            "gridcolor": "white",
            "linecolor": "white",
            "ticks": ""
           },
           "bgcolor": "#E5ECF6",
           "radialaxis": {
            "gridcolor": "white",
            "linecolor": "white",
            "ticks": ""
           }
          },
          "scene": {
           "xaxis": {
            "backgroundcolor": "#E5ECF6",
            "gridcolor": "white",
            "gridwidth": 2,
            "linecolor": "white",
            "showbackground": true,
            "ticks": "",
            "zerolinecolor": "white"
           },
           "yaxis": {
            "backgroundcolor": "#E5ECF6",
            "gridcolor": "white",
            "gridwidth": 2,
            "linecolor": "white",
            "showbackground": true,
            "ticks": "",
            "zerolinecolor": "white"
           },
           "zaxis": {
            "backgroundcolor": "#E5ECF6",
            "gridcolor": "white",
            "gridwidth": 2,
            "linecolor": "white",
            "showbackground": true,
            "ticks": "",
            "zerolinecolor": "white"
           }
          },
          "shapedefaults": {
           "line": {
            "color": "#2a3f5f"
           }
          },
          "ternary": {
           "aaxis": {
            "gridcolor": "white",
            "linecolor": "white",
            "ticks": ""
           },
           "baxis": {
            "gridcolor": "white",
            "linecolor": "white",
            "ticks": ""
           },
           "bgcolor": "#E5ECF6",
           "caxis": {
            "gridcolor": "white",
            "linecolor": "white",
            "ticks": ""
           }
          },
          "title": {
           "x": 0.05
          },
          "xaxis": {
           "automargin": true,
           "gridcolor": "white",
           "linecolor": "white",
           "ticks": "",
           "title": {
            "standoff": 15
           },
           "zerolinecolor": "white",
           "zerolinewidth": 2
          },
          "yaxis": {
           "automargin": true,
           "gridcolor": "white",
           "linecolor": "white",
           "ticks": "",
           "title": {
            "standoff": 15
           },
           "zerolinecolor": "white",
           "zerolinewidth": 2
          }
         }
        },
        "width": 900,
        "xaxis": {
         "gridcolor": "#555",
         "linecolor": "#555",
         "range": [
          -2471040000000000,
          2471040000000000
         ],
         "zerolinecolor": "#555"
        },
        "yaxis": {
         "gridcolor": "#555",
         "linecolor": "#555",
         "range": [
          -2471040000000000,
          2471040000000000
         ],
         "zerolinecolor": "#555"
        }
       }
      },
      "text/html": [
       "<div>                            <div id=\"6cc7aaa1-d855-4243-8af6-286ea4220046\" class=\"plotly-graph-div\" style=\"height:900px; width:900px;\"></div>            <script type=\"text/javascript\">                require([\"plotly\"], function(Plotly) {                    window.PLOTLYENV=window.PLOTLYENV || {};                                    if (document.getElementById(\"6cc7aaa1-d855-4243-8af6-286ea4220046\")) {                    Plotly.newPlot(                        \"6cc7aaa1-d855-4243-8af6-286ea4220046\",                        [{\"hovertemplate\":\"<b>X</b>: %{x}<br><b>Y</b>: %{y}<br><b>Last Interaction: %{text}</b>\",\"line\":{\"color\":\"cyan\"},\"marker\":{\"color\":[\"aqua\",\"aqua\",\"aqua\",\"aqua\",\"aqua\",\"aqua\",\"aqua\",\"aqua\",\"aqua\",\"aqua\",\"aqua\",\"aqua\",\"aqua\",\"aqua\",\"aqua\",\"aqua\",\"aqua\",\"aqua\",\"aqua\",\"aqua\",\"aqua\"]},\"mode\":\"markers+lines\",\"name\":\"Packet 1\",\"text\":[\"No Interaction\",\"No Interaction\",\"No Interaction\",\"No Interaction\",\"No Interaction\",\"No Interaction\",\"No Interaction\",\"No Interaction\",\"No Interaction\",\"No Interaction\",\"No Interaction\",\"No Interaction\",\"No Interaction\",\"No Interaction\",\"No Interaction\",\"No Interaction\",\"No Interaction\",\"No Interaction\",\"No Interaction\",\"No Interaction\",\"No Interaction\"],\"x\":[1235520000000000.0,1285938207009302.8,1336126002228648.5,1386111214658978.8,1435917277100826.2,1485564076013689.8,1535068608701903.0,1584445497560856.8,1633707396814942.5,1682865317383488.5,1731928888686583.0,1780906571373256.8,1829805831487821.2,1878633284068970.0,1927394812320476.2,1976095667111129.8,2024740550522899.2,2073333686377759.2,2121878880069588.5,2170379569560980.5,2218838869041609.8],\"y\":[0.0,17987213505697.516,35892225237352.89,53724963477054.64,71493788117215.16,89205793856636.62,106867044658323.77,124482757212108.7,142057446042592.22,159595039408405.66,177098972704128.44,194572264353253.44,212017577943818.6,229437273458861.28,246833449791790.1,264207980244009.94,281562542331587.2,298898642946419.9,316217639701882.75,333520759126463.75,350809112239334.0],\"type\":\"scatter\"},{\"hovertemplate\":\"<b>X</b>: %{x}<br><b>Y</b>: %{y}<br><b>Last Interaction: %{text}</b>\",\"line\":{\"color\":\"cyan\"},\"marker\":{\"color\":[\"aqua\",\"aqua\",\"aqua\",\"aqua\",\"aqua\",\"aqua\",\"aqua\",\"aqua\",\"aqua\",\"aqua\",\"red\",\"red\",\"red\",\"red\",\"red\",\"red\",\"red\",\"red\",\"red\",\"red\",\"red\",\"red\"]},\"mode\":\"markers+lines\",\"name\":\"Packet 2\",\"text\":[\"No Interaction\",\"No Interaction\",\"No Interaction\",\"No Interaction\",\"No Interaction\",\"No Interaction\",\"No Interaction\",\"No Interaction\",\"No Interaction\",\"No Interaction\",\"EScattering\",\"EScattering\",\"EScattering\",\"EScattering\",\"EScattering\",\"EScattering\",\"EScattering\",\"EScattering\",\"EScattering\",\"EScattering\",\"EScattering\",\"EScattering\"],\"x\":[999556676890135.1,1010564059787874.0,1021206017630201.9,1031551478983035.6,1041651748275034.9,1051546080170674.9,1061265194311695.4,1070833586752896.9,1080271103856139.9,1089594045767348.8,1089808669455281.4,1113654472499278.6,1138036284642671.5,1162391046635147.5,1186721005099585.8,1211028162636653.2,1235314310318479.2,1259581055090534.2,1283829842994514.0,1308061978941671.2,1332278643623270.0,1356480908032948.0],\"y\":[726220434912396.4,795437548246906.9,862356779540732.6,927411568459177.6,990924529785978.9,1053142506443306.0,1114258671044816.0,1174427060768750.2,1233772474387979.2,1292397411203048.2,1293747017396447.2,1338176160855645.5,1383603988449261.5,1428981416606404.2,1474312631201208.2,1519601363449274.0,1564850950449396.5,1610064386238332.0,1655244365059335.0,1700393318203526.2,1745513445517204.0,1790606742459691.8],\"type\":\"scatter\"},{\"hovertemplate\":\"<b>X</b>: %{x}<br><b>Y</b>: %{y}<br><b>Last Interaction: %{text}</b>\",\"line\":{\"color\":\"cyan\"},\"marker\":{\"color\":[\"aqua\",\"aqua\",\"aqua\",\"aqua\",\"blue\",\"blue\",\"blue\",\"blue\",\"blue\",\"blue\",\"blue\",\"blue\",\"blue\",\"blue\"]},\"mode\":\"markers+lines\",\"name\":\"Packet 3\",\"text\":[\"No Interaction\",\"No Interaction\",\"No Interaction\",\"No Interaction\",\"Line\",\"Line\",\"Line\",\"Line\",\"Line\",\"Line\",\"Line\",\"Line\",\"Line\",\"Line\"],\"x\":[381796676890135.06,384363542277129.75,386923583296796.4,389477591615127.56,389722015974973.3,382309625448638.2,379097398047261.8,378979830643319.2,378046459123378.9,329081042547004.6,131943255642532.88,22226757376422.312,-4504017324454.99,-44513808033226.63],\"y\":[1175049347012988.0,1227283699665312.8,1279379180052875.0,1331351898159791.5,1336325804572523.8,1333427921334078.8,1332172097060998.5,1334378116977928.0,1351891782278304.2,1347551979902881.8,1330079667897547.0,1320355500248413.5,1286056113054147.0,1234717858984141.0],\"type\":\"scatter\"},{\"hovertemplate\":\"<b>X</b>: %{x}<br><b>Y</b>: %{y}<br><b>Last Interaction: %{text}</b>\",\"line\":{\"color\":\"cyan\"},\"marker\":{\"color\":[\"aqua\",\"aqua\",\"aqua\",\"aqua\",\"red\",\"red\",\"red\",\"red\",\"red\",\"red\",\"red\",\"red\",\"red\",\"red\",\"red\",\"red\",\"red\",\"red\",\"red\",\"red\",\"red\",\"red\",\"red\"]},\"mode\":\"markers+lines\",\"name\":\"Packet 4\",\"text\":[\"No Interaction\",\"No Interaction\",\"No Interaction\",\"No Interaction\",\"EScattering\",\"EScattering\",\"EScattering\",\"EScattering\",\"EScattering\",\"EScattering\",\"EScattering\",\"EScattering\",\"EScattering\",\"EScattering\",\"EScattering\",\"EScattering\",\"EScattering\",\"EScattering\",\"EScattering\",\"EScattering\",\"EScattering\",\"EScattering\",\"EScattering\"],\"x\":[-381796676890134.94,-560058498098231.25,-689333780295041.9,-798102772701315.4,-871471163706233.1,-885566076321544.2,-941093618161948.6,-957729602594384.5,-991329333393460.8,-1039254517476411.4,-1086952973572016.4,-1134447816069789.5,-1181759040292326.2,-1228904042976281.2,-1275898039965204.5,-1322754404409129.0,-1369484942843596.5,-1416100122258468.8,-1462609258158364.8,-1509020671321987.5,-1555341819254716.2,-1601579407036914.5,-1647739481286551.8],\"y\":[1175049347012988.2,1157711143076697.5,1145137496114831.8,1134558343722557.2,1127422345015151.5,1132582232283583.5,1152909840124045.8,1158999966867897.2,1176912210578884.5,1202461450313011.8,1227889819823811.0,1253209641548645.8,1278431575129212.8,1303564894883469.2,1328617712480512.0,1353597157237060.2,1378509523297053.5,1403360390683572.8,1428154725555126.2,1452896963775112.0,1477591080990078.8,1502240651723712.8,1526848899468944.0],\"type\":\"scatter\"},{\"hovertemplate\":\"<b>X</b>: %{x}<br><b>Y</b>: %{y}<br><b>Last Interaction: %{text}</b>\",\"line\":{\"color\":\"cyan\"},\"marker\":{\"color\":[\"aqua\",\"aqua\",\"aqua\",\"aqua\",\"aqua\",\"aqua\",\"aqua\",\"aqua\",\"aqua\",\"aqua\",\"aqua\",\"aqua\",\"aqua\",\"aqua\",\"aqua\",\"aqua\",\"aqua\",\"aqua\",\"aqua\",\"aqua\",\"aqua\"]},\"mode\":\"markers+lines\",\"name\":\"Packet 5\",\"text\":[\"No Interaction\",\"No Interaction\",\"No Interaction\",\"No Interaction\",\"No Interaction\",\"No Interaction\",\"No Interaction\",\"No Interaction\",\"No Interaction\",\"No Interaction\",\"No Interaction\",\"No Interaction\",\"No Interaction\",\"No Interaction\",\"No Interaction\",\"No Interaction\",\"No Interaction\",\"No Interaction\",\"No Interaction\",\"No Interaction\",\"No Interaction\"],\"x\":[-999556676890135.0,-1052621920792411.1,-1105359064480113.0,-1157809049196536.5,-1210006103108006.8,-1261979092593486.5,-1313752553924971.0,-1365347491490551.0,-1416782002832900.8,-1468071773413702.2,-1519230472138751.2,-1570270070412374.2,-1621201101644186.8,-1672032873937100.0,-1722773645636184.2,-1773430771173804.2,-1824010822976139.5,-1874519693940024.5,-1924962684035120.5,-1975344573855499.2,-2025669687379933.2],\"y\":[726220434912396.5,738882740333873.4,751466755243137.4,763982248944706.1,776437388884239.5,788839063090134.1,801193126350703.9,813504590684318.0,825777774484633.8,838016420580138.1,850223790613428.8,862402741173239.2,874555785717340.9,886685145323661.6,898792790579347.8,910880476381992.5,922949771028687.2,935002080668806.2,947038669968817.1,959060679662990.4,971069141529110.6],\"type\":\"scatter\"},{\"hovertemplate\":\"<b>X</b>: %{x}<br><b>Y</b>: %{y}<br><b>Last Interaction: %{text}</b>\",\"line\":{\"color\":\"cyan\"},\"marker\":{\"color\":[\"aqua\",\"aqua\",\"aqua\",\"aqua\",\"aqua\",\"aqua\",\"aqua\",\"aqua\",\"aqua\",\"aqua\",\"aqua\",\"aqua\",\"aqua\",\"aqua\",\"aqua\",\"aqua\",\"aqua\",\"aqua\",\"aqua\",\"aqua\",\"aqua\"]},\"mode\":\"markers+lines\",\"name\":\"Packet 6\",\"text\":[\"No Interaction\",\"No Interaction\",\"No Interaction\",\"No Interaction\",\"No Interaction\",\"No Interaction\",\"No Interaction\",\"No Interaction\",\"No Interaction\",\"No Interaction\",\"No Interaction\",\"No Interaction\",\"No Interaction\",\"No Interaction\",\"No Interaction\",\"No Interaction\",\"No Interaction\",\"No Interaction\",\"No Interaction\",\"No Interaction\",\"No Interaction\"],\"x\":[-1235520000000000.0,-1285988790680336.8,-1336319308697082.5,-1386527622584136.8,-1436627373102132.0,-1486630220121217.2,-1536546193336532.5,-1586383970331219.5,-1636151099103030.2,-1685854177679098.0,-1735499000244185.2,-1785090676898093.2,-1834633732469823.8,-1884132188568110.2,-1933589632115499.0,-1983009272909653.5,-2032393992219840.8,-2081746384015156.2,-2131068790102525.0,-2180363330204101.8,-2229631927808511.8],\"y\":[0.1513075613282538,-13908355061794.424,-27778604488906.28,-41615176500671.34,-55421830262698.63,-69201779040290.2,-82957786849768.42,-96692245087990.62,-110407233856962.33,-124104571462667.89,-137785854685569.95,-151452491783752.4,-165105729724449.62,-178746676795802.1,-192376321493704.06,-205995548384734.34,-219605151498540.7,-233205845689644.16,-246798276320885.97,-260383027552259.38,-273960629465074.66],\"type\":\"scatter\"},{\"hovertemplate\":\"<b>X</b>: %{x}<br><b>Y</b>: %{y}<br><b>Last Interaction: %{text}</b>\",\"line\":{\"color\":\"cyan\"},\"marker\":{\"color\":[\"aqua\",\"blue\",\"blue\",\"blue\",\"blue\",\"blue\",\"blue\",\"blue\",\"red\",\"red\",\"red\",\"red\",\"red\",\"red\",\"red\"]},\"mode\":\"markers+lines\",\"name\":\"Packet 7\",\"text\":[\"No Interaction\",\"Line\",\"Line\",\"Line\",\"Line\",\"Line\",\"Line\",\"Line\",\"EScattering\",\"EScattering\",\"EScattering\",\"EScattering\",\"EScattering\",\"EScattering\",\"EScattering\"],\"x\":[-999556676890135.2,-991792738625141.4,-1001045090484200.8,-1010927578518958.0,-1020535363049319.2,-1029915936854426.5,-1033759264830477.1,-1041887794710853.8,-1052298897399856.2,-1000952032584764.8,-931056531060972.2,-858674531967504.9,-783184035076267.5,-703692453131837.2,-618844614603090.8],\"y\":[-726220434912396.2,-744657149875082.9,-807384257286131.4,-874383426566283.9,-939520220043078.2,-1003116619057459.8,-1029172788390618.2,-1062698508906714.4,-1105638588374037.1,-1101341602802885.2,-1095492366191891.4,-1089435045908835.4,-1083117589583723.8,-1076465300648979.1,-1069364770963000.9],\"type\":\"scatter\"},{\"hovertemplate\":\"<b>X</b>: %{x}<br><b>Y</b>: %{y}<br><b>Last Interaction: %{text}</b>\",\"line\":{\"color\":\"cyan\"},\"marker\":{\"color\":[\"aqua\",\"aqua\",\"aqua\",\"red\",\"red\",\"red\",\"red\"]},\"mode\":\"markers+lines\",\"name\":\"Packet 8\",\"text\":[\"No Interaction\",\"No Interaction\",\"No Interaction\",\"EScattering\",\"EScattering\",\"EScattering\",\"EScattering\"],\"x\":[-381796676890135.2,-366508573445141.25,-351443343657833.1,-338602745326931.0,-305187249898299.44,-266018718966859.84,-226317026976791.0],\"y\":[-1175049347012988.0,-1232733579362226.5,-1289576877065730.5,-1338026317526938.5,-1301299999294364.5,-1258250632129875.2,-1214615278061488.2],\"type\":\"scatter\"},{\"hovertemplate\":\"<b>X</b>: %{x}<br><b>Y</b>: %{y}<br><b>Last Interaction: %{text}</b>\",\"line\":{\"color\":\"cyan\"},\"marker\":{\"color\":[\"aqua\",\"red\",\"red\"]},\"mode\":\"markers+lines\",\"name\":\"Packet 9\",\"text\":[\"No Interaction\",\"EScattering\",\"EScattering\"],\"x\":[381796676890134.8,383303585438000.0,384973430660442.7],\"y\":[-1175049347012988.2,-1175975790249579.2,-1174012405422331.8],\"type\":\"scatter\"},{\"hovertemplate\":\"<b>X</b>: %{x}<br><b>Y</b>: %{y}<br><b>Last Interaction: %{text}</b>\",\"line\":{\"color\":\"cyan\"},\"marker\":{\"color\":[\"aqua\",\"aqua\",\"aqua\",\"red\",\"red\",\"red\",\"red\",\"red\",\"red\",\"red\",\"red\",\"red\",\"red\",\"red\",\"red\",\"red\",\"red\",\"red\",\"red\",\"red\",\"red\",\"red\"]},\"mode\":\"markers+lines\",\"name\":\"Packet 10\",\"text\":[\"No Interaction\",\"No Interaction\",\"No Interaction\",\"EScattering\",\"EScattering\",\"EScattering\",\"EScattering\",\"EScattering\",\"EScattering\",\"EScattering\",\"EScattering\",\"EScattering\",\"EScattering\",\"EScattering\",\"EScattering\",\"EScattering\",\"EScattering\",\"EScattering\",\"EScattering\",\"EScattering\",\"EScattering\",\"EScattering\"],\"x\":[999556676890135.0,1087988871141229.5,1168542251493190.2,1215641291152216.8,1240086402954012.8,1303370241330598.0,1365294226601748.8,1426064780849463.0,1485845725356774.8,1544769255170663.0,1602943574039272.5,1660458346240473.5,1717388677792826.5,1773798080979878.2,1829740719923031.8,1885263137521245.8,1940405601593618.0,1995203166980728.0,2049686522748949.2,2103882674711957.8,2157815500271715.5,2211506203209555.2],\"y\":[-726220434912396.6,-685741079685936.0,-648868208605742.8,-627308879751259.5,-621591814869354.5,-606791399436263.5,-592309017665552.9,-578096392893757.6,-564115211657157.6,-550334557031879.44,-536729123024085.06,-523277939531519.25,-509963441243593.06,-496770774317593.1,-483687271198597.6,-470702046733969.4,-457805683346231.0,-444989982635647.4,-432247767241569.3,-419572721218693.25,-406959260274450.3,-394402425405395.5],\"type\":\"scatter\"}],                        {\"template\":{\"data\":{\"histogram2dcontour\":[{\"type\":\"histogram2dcontour\",\"colorbar\":{\"outlinewidth\":0,\"ticks\":\"\"},\"colorscale\":[[0.0,\"#0d0887\"],[0.1111111111111111,\"#46039f\"],[0.2222222222222222,\"#7201a8\"],[0.3333333333333333,\"#9c179e\"],[0.4444444444444444,\"#bd3786\"],[0.5555555555555556,\"#d8576b\"],[0.6666666666666666,\"#ed7953\"],[0.7777777777777778,\"#fb9f3a\"],[0.8888888888888888,\"#fdca26\"],[1.0,\"#f0f921\"]]}],\"choropleth\":[{\"type\":\"choropleth\",\"colorbar\":{\"outlinewidth\":0,\"ticks\":\"\"}}],\"histogram2d\":[{\"type\":\"histogram2d\",\"colorbar\":{\"outlinewidth\":0,\"ticks\":\"\"},\"colorscale\":[[0.0,\"#0d0887\"],[0.1111111111111111,\"#46039f\"],[0.2222222222222222,\"#7201a8\"],[0.3333333333333333,\"#9c179e\"],[0.4444444444444444,\"#bd3786\"],[0.5555555555555556,\"#d8576b\"],[0.6666666666666666,\"#ed7953\"],[0.7777777777777778,\"#fb9f3a\"],[0.8888888888888888,\"#fdca26\"],[1.0,\"#f0f921\"]]}],\"heatmap\":[{\"type\":\"heatmap\",\"colorbar\":{\"outlinewidth\":0,\"ticks\":\"\"},\"colorscale\":[[0.0,\"#0d0887\"],[0.1111111111111111,\"#46039f\"],[0.2222222222222222,\"#7201a8\"],[0.3333333333333333,\"#9c179e\"],[0.4444444444444444,\"#bd3786\"],[0.5555555555555556,\"#d8576b\"],[0.6666666666666666,\"#ed7953\"],[0.7777777777777778,\"#fb9f3a\"],[0.8888888888888888,\"#fdca26\"],[1.0,\"#f0f921\"]]}],\"heatmapgl\":[{\"type\":\"heatmapgl\",\"colorbar\":{\"outlinewidth\":0,\"ticks\":\"\"},\"colorscale\":[[0.0,\"#0d0887\"],[0.1111111111111111,\"#46039f\"],[0.2222222222222222,\"#7201a8\"],[0.3333333333333333,\"#9c179e\"],[0.4444444444444444,\"#bd3786\"],[0.5555555555555556,\"#d8576b\"],[0.6666666666666666,\"#ed7953\"],[0.7777777777777778,\"#fb9f3a\"],[0.8888888888888888,\"#fdca26\"],[1.0,\"#f0f921\"]]}],\"contourcarpet\":[{\"type\":\"contourcarpet\",\"colorbar\":{\"outlinewidth\":0,\"ticks\":\"\"}}],\"contour\":[{\"type\":\"contour\",\"colorbar\":{\"outlinewidth\":0,\"ticks\":\"\"},\"colorscale\":[[0.0,\"#0d0887\"],[0.1111111111111111,\"#46039f\"],[0.2222222222222222,\"#7201a8\"],[0.3333333333333333,\"#9c179e\"],[0.4444444444444444,\"#bd3786\"],[0.5555555555555556,\"#d8576b\"],[0.6666666666666666,\"#ed7953\"],[0.7777777777777778,\"#fb9f3a\"],[0.8888888888888888,\"#fdca26\"],[1.0,\"#f0f921\"]]}],\"surface\":[{\"type\":\"surface\",\"colorbar\":{\"outlinewidth\":0,\"ticks\":\"\"},\"colorscale\":[[0.0,\"#0d0887\"],[0.1111111111111111,\"#46039f\"],[0.2222222222222222,\"#7201a8\"],[0.3333333333333333,\"#9c179e\"],[0.4444444444444444,\"#bd3786\"],[0.5555555555555556,\"#d8576b\"],[0.6666666666666666,\"#ed7953\"],[0.7777777777777778,\"#fb9f3a\"],[0.8888888888888888,\"#fdca26\"],[1.0,\"#f0f921\"]]}],\"mesh3d\":[{\"type\":\"mesh3d\",\"colorbar\":{\"outlinewidth\":0,\"ticks\":\"\"}}],\"scatter\":[{\"fillpattern\":{\"fillmode\":\"overlay\",\"size\":10,\"solidity\":0.2},\"type\":\"scatter\"}],\"parcoords\":[{\"type\":\"parcoords\",\"line\":{\"colorbar\":{\"outlinewidth\":0,\"ticks\":\"\"}}}],\"scatterpolargl\":[{\"type\":\"scatterpolargl\",\"marker\":{\"colorbar\":{\"outlinewidth\":0,\"ticks\":\"\"}}}],\"bar\":[{\"error_x\":{\"color\":\"#2a3f5f\"},\"error_y\":{\"color\":\"#2a3f5f\"},\"marker\":{\"line\":{\"color\":\"#E5ECF6\",\"width\":0.5},\"pattern\":{\"fillmode\":\"overlay\",\"size\":10,\"solidity\":0.2}},\"type\":\"bar\"}],\"scattergeo\":[{\"type\":\"scattergeo\",\"marker\":{\"colorbar\":{\"outlinewidth\":0,\"ticks\":\"\"}}}],\"scatterpolar\":[{\"type\":\"scatterpolar\",\"marker\":{\"colorbar\":{\"outlinewidth\":0,\"ticks\":\"\"}}}],\"histogram\":[{\"marker\":{\"pattern\":{\"fillmode\":\"overlay\",\"size\":10,\"solidity\":0.2}},\"type\":\"histogram\"}],\"scattergl\":[{\"type\":\"scattergl\",\"marker\":{\"colorbar\":{\"outlinewidth\":0,\"ticks\":\"\"}}}],\"scatter3d\":[{\"type\":\"scatter3d\",\"line\":{\"colorbar\":{\"outlinewidth\":0,\"ticks\":\"\"}},\"marker\":{\"colorbar\":{\"outlinewidth\":0,\"ticks\":\"\"}}}],\"scattermapbox\":[{\"type\":\"scattermapbox\",\"marker\":{\"colorbar\":{\"outlinewidth\":0,\"ticks\":\"\"}}}],\"scatterternary\":[{\"type\":\"scatterternary\",\"marker\":{\"colorbar\":{\"outlinewidth\":0,\"ticks\":\"\"}}}],\"scattercarpet\":[{\"type\":\"scattercarpet\",\"marker\":{\"colorbar\":{\"outlinewidth\":0,\"ticks\":\"\"}}}],\"carpet\":[{\"aaxis\":{\"endlinecolor\":\"#2a3f5f\",\"gridcolor\":\"white\",\"linecolor\":\"white\",\"minorgridcolor\":\"white\",\"startlinecolor\":\"#2a3f5f\"},\"baxis\":{\"endlinecolor\":\"#2a3f5f\",\"gridcolor\":\"white\",\"linecolor\":\"white\",\"minorgridcolor\":\"white\",\"startlinecolor\":\"#2a3f5f\"},\"type\":\"carpet\"}],\"table\":[{\"cells\":{\"fill\":{\"color\":\"#EBF0F8\"},\"line\":{\"color\":\"white\"}},\"header\":{\"fill\":{\"color\":\"#C8D4E3\"},\"line\":{\"color\":\"white\"}},\"type\":\"table\"}],\"barpolar\":[{\"marker\":{\"line\":{\"color\":\"#E5ECF6\",\"width\":0.5},\"pattern\":{\"fillmode\":\"overlay\",\"size\":10,\"solidity\":0.2}},\"type\":\"barpolar\"}],\"pie\":[{\"automargin\":true,\"type\":\"pie\"}]},\"layout\":{\"autotypenumbers\":\"strict\",\"colorway\":[\"#636efa\",\"#EF553B\",\"#00cc96\",\"#ab63fa\",\"#FFA15A\",\"#19d3f3\",\"#FF6692\",\"#B6E880\",\"#FF97FF\",\"#FECB52\"],\"font\":{\"color\":\"#2a3f5f\"},\"hovermode\":\"closest\",\"hoverlabel\":{\"align\":\"left\"},\"paper_bgcolor\":\"white\",\"plot_bgcolor\":\"#E5ECF6\",\"polar\":{\"bgcolor\":\"#E5ECF6\",\"angularaxis\":{\"gridcolor\":\"white\",\"linecolor\":\"white\",\"ticks\":\"\"},\"radialaxis\":{\"gridcolor\":\"white\",\"linecolor\":\"white\",\"ticks\":\"\"}},\"ternary\":{\"bgcolor\":\"#E5ECF6\",\"aaxis\":{\"gridcolor\":\"white\",\"linecolor\":\"white\",\"ticks\":\"\"},\"baxis\":{\"gridcolor\":\"white\",\"linecolor\":\"white\",\"ticks\":\"\"},\"caxis\":{\"gridcolor\":\"white\",\"linecolor\":\"white\",\"ticks\":\"\"}},\"coloraxis\":{\"colorbar\":{\"outlinewidth\":0,\"ticks\":\"\"}},\"colorscale\":{\"sequential\":[[0.0,\"#0d0887\"],[0.1111111111111111,\"#46039f\"],[0.2222222222222222,\"#7201a8\"],[0.3333333333333333,\"#9c179e\"],[0.4444444444444444,\"#bd3786\"],[0.5555555555555556,\"#d8576b\"],[0.6666666666666666,\"#ed7953\"],[0.7777777777777778,\"#fb9f3a\"],[0.8888888888888888,\"#fdca26\"],[1.0,\"#f0f921\"]],\"sequentialminus\":[[0.0,\"#0d0887\"],[0.1111111111111111,\"#46039f\"],[0.2222222222222222,\"#7201a8\"],[0.3333333333333333,\"#9c179e\"],[0.4444444444444444,\"#bd3786\"],[0.5555555555555556,\"#d8576b\"],[0.6666666666666666,\"#ed7953\"],[0.7777777777777778,\"#fb9f3a\"],[0.8888888888888888,\"#fdca26\"],[1.0,\"#f0f921\"]],\"diverging\":[[0,\"#8e0152\"],[0.1,\"#c51b7d\"],[0.2,\"#de77ae\"],[0.3,\"#f1b6da\"],[0.4,\"#fde0ef\"],[0.5,\"#f7f7f7\"],[0.6,\"#e6f5d0\"],[0.7,\"#b8e186\"],[0.8,\"#7fbc41\"],[0.9,\"#4d9221\"],[1,\"#276419\"]]},\"xaxis\":{\"gridcolor\":\"white\",\"linecolor\":\"white\",\"ticks\":\"\",\"title\":{\"standoff\":15},\"zerolinecolor\":\"white\",\"automargin\":true,\"zerolinewidth\":2},\"yaxis\":{\"gridcolor\":\"white\",\"linecolor\":\"white\",\"ticks\":\"\",\"title\":{\"standoff\":15},\"zerolinecolor\":\"white\",\"automargin\":true,\"zerolinewidth\":2},\"scene\":{\"xaxis\":{\"backgroundcolor\":\"#E5ECF6\",\"gridcolor\":\"white\",\"linecolor\":\"white\",\"showbackground\":true,\"ticks\":\"\",\"zerolinecolor\":\"white\",\"gridwidth\":2},\"yaxis\":{\"backgroundcolor\":\"#E5ECF6\",\"gridcolor\":\"white\",\"linecolor\":\"white\",\"showbackground\":true,\"ticks\":\"\",\"zerolinecolor\":\"white\",\"gridwidth\":2},\"zaxis\":{\"backgroundcolor\":\"#E5ECF6\",\"gridcolor\":\"white\",\"linecolor\":\"white\",\"showbackground\":true,\"ticks\":\"\",\"zerolinecolor\":\"white\",\"gridwidth\":2}},\"shapedefaults\":{\"line\":{\"color\":\"#2a3f5f\"}},\"annotationdefaults\":{\"arrowcolor\":\"#2a3f5f\",\"arrowhead\":0,\"arrowwidth\":1},\"geo\":{\"bgcolor\":\"white\",\"landcolor\":\"#E5ECF6\",\"subunitcolor\":\"white\",\"showland\":true,\"showlakes\":true,\"lakecolor\":\"white\"},\"title\":{\"x\":0.05},\"mapbox\":{\"style\":\"light\"}}},\"xaxis\":{\"range\":[-2471040000000000.0,2471040000000000.0],\"linecolor\":\"#555\",\"gridcolor\":\"#555\",\"zerolinecolor\":\"#555\"},\"yaxis\":{\"range\":[-2471040000000000.0,2471040000000000.0],\"linecolor\":\"#555\",\"gridcolor\":\"#555\",\"zerolinecolor\":\"#555\"},\"shapes\":[{\"fillcolor\":\"darkgrey\",\"line\":{\"color\":\"black\"},\"opacity\":1,\"type\":\"circle\",\"x0\":-1235520000000000.0,\"x1\":1235520000000000.0,\"xref\":\"x\",\"y0\":-1235520000000000.0,\"y1\":1235520000000000.0,\"yref\":\"y\"},{\"line\":{\"color\":\"black\"},\"opacity\":0.2,\"type\":\"circle\",\"x0\":-1286064000000000.0,\"x1\":1286064000000000.0,\"xref\":\"x\",\"y0\":-1286064000000000.0,\"y1\":1286064000000000.0,\"yref\":\"y\"},{\"line\":{\"color\":\"black\"},\"opacity\":0.2,\"type\":\"circle\",\"x0\":-1336608000000000.0,\"x1\":1336608000000000.0,\"xref\":\"x\",\"y0\":-1336608000000000.0,\"y1\":1336608000000000.0,\"yref\":\"y\"},{\"line\":{\"color\":\"black\"},\"opacity\":0.2,\"type\":\"circle\",\"x0\":-1387152000000000.0,\"x1\":1387152000000000.0,\"xref\":\"x\",\"y0\":-1387152000000000.0,\"y1\":1387152000000000.0,\"yref\":\"y\"},{\"line\":{\"color\":\"black\"},\"opacity\":0.2,\"type\":\"circle\",\"x0\":-1437696000000000.0,\"x1\":1437696000000000.0,\"xref\":\"x\",\"y0\":-1437696000000000.0,\"y1\":1437696000000000.0,\"yref\":\"y\"},{\"line\":{\"color\":\"black\"},\"opacity\":0.2,\"type\":\"circle\",\"x0\":-1488240000000000.0,\"x1\":1488240000000000.0,\"xref\":\"x\",\"y0\":-1488240000000000.0,\"y1\":1488240000000000.0,\"yref\":\"y\"},{\"line\":{\"color\":\"black\"},\"opacity\":0.2,\"type\":\"circle\",\"x0\":-1538784000000000.0,\"x1\":1538784000000000.0,\"xref\":\"x\",\"y0\":-1538784000000000.0,\"y1\":1538784000000000.0,\"yref\":\"y\"},{\"line\":{\"color\":\"black\"},\"opacity\":0.2,\"type\":\"circle\",\"x0\":-1589328000000000.0,\"x1\":1589328000000000.0,\"xref\":\"x\",\"y0\":-1589328000000000.0,\"y1\":1589328000000000.0,\"yref\":\"y\"},{\"line\":{\"color\":\"black\"},\"opacity\":0.2,\"type\":\"circle\",\"x0\":-1639872000000000.0,\"x1\":1639872000000000.0,\"xref\":\"x\",\"y0\":-1639872000000000.0,\"y1\":1639872000000000.0,\"yref\":\"y\"},{\"line\":{\"color\":\"black\"},\"opacity\":0.2,\"type\":\"circle\",\"x0\":-1690416000000000.0,\"x1\":1690416000000000.0,\"xref\":\"x\",\"y0\":-1690416000000000.0,\"y1\":1690416000000000.0,\"yref\":\"y\"},{\"line\":{\"color\":\"black\"},\"opacity\":0.2,\"type\":\"circle\",\"x0\":-1740960000000000.0,\"x1\":1740960000000000.0,\"xref\":\"x\",\"y0\":-1740960000000000.0,\"y1\":1740960000000000.0,\"yref\":\"y\"},{\"line\":{\"color\":\"black\"},\"opacity\":0.2,\"type\":\"circle\",\"x0\":-1791504000000000.0,\"x1\":1791504000000000.0,\"xref\":\"x\",\"y0\":-1791504000000000.0,\"y1\":1791504000000000.0,\"yref\":\"y\"},{\"line\":{\"color\":\"black\"},\"opacity\":0.2,\"type\":\"circle\",\"x0\":-1842048000000000.0,\"x1\":1842048000000000.0,\"xref\":\"x\",\"y0\":-1842048000000000.0,\"y1\":1842048000000000.0,\"yref\":\"y\"},{\"line\":{\"color\":\"black\"},\"opacity\":0.2,\"type\":\"circle\",\"x0\":-1892592000000000.0,\"x1\":1892592000000000.0,\"xref\":\"x\",\"y0\":-1892592000000000.0,\"y1\":1892592000000000.0,\"yref\":\"y\"},{\"line\":{\"color\":\"black\"},\"opacity\":0.2,\"type\":\"circle\",\"x0\":-1943136000000000.0,\"x1\":1943136000000000.0,\"xref\":\"x\",\"y0\":-1943136000000000.0,\"y1\":1943136000000000.0,\"yref\":\"y\"},{\"line\":{\"color\":\"black\"},\"opacity\":0.2,\"type\":\"circle\",\"x0\":-1993680000000000.0,\"x1\":1993680000000000.0,\"xref\":\"x\",\"y0\":-1993680000000000.0,\"y1\":1993680000000000.0,\"yref\":\"y\"},{\"line\":{\"color\":\"black\"},\"opacity\":0.2,\"type\":\"circle\",\"x0\":-2044224000000000.0,\"x1\":2044224000000000.0,\"xref\":\"x\",\"y0\":-2044224000000000.0,\"y1\":2044224000000000.0,\"yref\":\"y\"},{\"line\":{\"color\":\"black\"},\"opacity\":0.2,\"type\":\"circle\",\"x0\":-2094768000000000.0,\"x1\":2094768000000000.0,\"xref\":\"x\",\"y0\":-2094768000000000.0,\"y1\":2094768000000000.0,\"yref\":\"y\"},{\"line\":{\"color\":\"black\"},\"opacity\":0.2,\"type\":\"circle\",\"x0\":-2145312000000000.0,\"x1\":2145312000000000.0,\"xref\":\"x\",\"y0\":-2145312000000000.0,\"y1\":2145312000000000.0,\"yref\":\"y\"},{\"line\":{\"color\":\"black\"},\"opacity\":0.2,\"type\":\"circle\",\"x0\":-2195856000000000.0,\"x1\":2195856000000000.0,\"xref\":\"x\",\"y0\":-2195856000000000.0,\"y1\":2195856000000000.0,\"yref\":\"y\"},{\"line\":{\"color\":\"black\"},\"opacity\":0.2,\"type\":\"circle\",\"x0\":-2246400000000000.0,\"x1\":2246400000000000.0,\"xref\":\"x\",\"y0\":-2246400000000000.0,\"y1\":2246400000000000.0,\"yref\":\"y\"}],\"width\":900,\"height\":900,\"plot_bgcolor\":\"#fafafa\",\"paper_bgcolor\":\"#fafafa\"},                        {\"responsive\": true}                    ).then(function(){\n",
       "                            \n",
       "var gd = document.getElementById('6cc7aaa1-d855-4243-8af6-286ea4220046');\n",
       "var x = new MutationObserver(function (mutations, observer) {{\n",
       "        var display = window.getComputedStyle(gd).display;\n",
       "        if (!display || display === 'none') {{\n",
       "            console.log([gd, 'removed!']);\n",
       "            Plotly.purge(gd);\n",
       "            observer.disconnect();\n",
       "        }}\n",
       "}});\n",
       "\n",
       "// Listen for the removal of the full notebook cells\n",
       "var notebookContainer = gd.closest('#notebook-container');\n",
       "if (notebookContainer) {{\n",
       "    x.observe(notebookContainer, {childList: true});\n",
       "}}\n",
       "\n",
       "// Listen for the clearing of the current output cell\n",
       "var outputEl = gd.closest('.output');\n",
       "if (outputEl) {{\n",
       "    x.observe(outputEl, {childList: true});\n",
       "}}\n",
       "\n",
       "                        })                };                });            </script>        </div>"
      ]
     },
     "metadata": {},
     "output_type": "display_data"
    }
   ],
   "source": [
    "r_shells = sim.model.radius.value\n",
    "xs,ys = get_coordinates_multiple_packets(sim.runner.rpacket_tracker_df)\n",
    "\n",
    "fig = go.Figure()\n",
    "\n",
    "# Set axes properties\n",
    "fig.update_xaxes(range=[-1.1*r_shells[-1],1.1*r_shells[-1]],linecolor=\"#555\",gridcolor=\"#555\",zerolinecolor=\"#555\")\n",
    "fig.update_yaxes(range=[-1.1*r_shells[-1],1.1*r_shells[-1]],linecolor=\"#555\",gridcolor=\"#555\",zerolinecolor=\"#555\")\n",
    "\n",
    "# adding the shells\n",
    "shell_shapes={}\n",
    "for i in range(len(sim.model.radius.value)):\n",
    "    if i==0:\n",
    "        fig.add_shape(type=\"circle\",\n",
    "            xref=\"x\", yref=\"y\",\n",
    "            x0=-1*sim.model.radius.value[i], y0=-1*sim.model.radius.value[i], x1=sim.model.radius.value[i], y1=sim.model.radius.value[i],\n",
    "            line_color=\"black\",\n",
    "            fillcolor=\"darkgrey\",\n",
    "            opacity=1\n",
    "        )\n",
    "    else:\n",
    "        fig.add_shape(type=\"circle\",\n",
    "            xref=\"x\", yref=\"y\",\n",
    "            x0=-1*sim.model.radius.value[i], y0=-1*sim.model.radius.value[i], x1=sim.model.radius.value[i], y1=sim.model.radius.value[i],\n",
    "            line_color=\"black\",\n",
    "            opacity=0.2\n",
    "        )\n",
    "\n",
    "#Add the packet trajectory\n",
    "\n",
    "df = sim.runner.rpacket_tracker_df\n",
    "interaction_from_num = {-1: \"No Interaction\", 1: \"EScattering\", 2: \"Line\"}\n",
    "interaction_color_from_num = {-1: \"aqua\", 1: \"red\", 2: \"blue\"}\n",
    "for i in range(len(xs)):    \n",
    "    fig.add_trace(go.Scatter(\n",
    "        x=xs[i],\n",
    "        y=ys[i],\n",
    "        mode=\"markers+lines\",\n",
    "        name=\"Packet \"+str(i+1),\n",
    "        hovertemplate =\n",
    "        '<b>X</b>: %{x}'+\n",
    "        '<br><b>Y</b>: %{y}<br>'+\n",
    "        '<b>Last Interaction: %{text}</b>',\n",
    "        text = [interaction_from_num.get(df.loc[i,j][\"interaction_type\"]) for j in range(len(xs[i]))],\n",
    "        line = dict(color=\"cyan\"),\n",
    "#         line_shape = \"spline\",\n",
    "        marker = dict(color=[interaction_color_from_num.get(df.loc[i,j][\"interaction_type\"]) for j in range(len(xs[i]))])\n",
    "    ))\n",
    "\n",
    "\n",
    "# Set figure size\n",
    "fig.update_layout(width=900, height=900)\n",
    "fig.layout.plot_bgcolor = '#fafafa'\n",
    "fig.layout.paper_bgcolor = '#fafafa'\n",
    "\n",
    "fig.show()"
   ]
  },
  {
   "cell_type": "code",
   "execution_count": 33,
   "metadata": {},
   "outputs": [],
   "source": [
    "# r = sim.runner.rpacket_tracker[0].r\n",
    "# mu = sim.runner.rpacket_tracker[0].mu\n",
    "# theta = get_thetas(r,mu)\n",
    "\n",
    "# # Converting theta array from radians to degrees\n",
    "# theta=(np.array(theta)*180)/(math.pi)\n",
    "\n",
    "# # Creating dataframe for r and theta values\n",
    "# df = pd.DataFrame(r,columns=['r'])\n",
    "# df['theta']=theta\n",
    "\n",
    "# # Creating polar diagram\n",
    "# fig = px.line_polar(df,r=\"r\",theta=\"theta\",start_angle=0, direction=\"counterclockwise\", markers=True, template=\"plotly_dark\")\n",
    "\n",
    "# # Adding photosphere and the shell to the figure\n",
    "# for i in range(len(sim.model.radius.value)):\n",
    "#     if i==0:\n",
    "#         fig.add_shape(type=\"circle\",\n",
    "#             xref=\"x\", yref=\"y\",\n",
    "#             x0=-1*sim.model.radius.value[i], y0=-1*sim.model.radius.value[i], x1=1*sim.model.radius.value[i], y1=sim.model.radius.value[i],\n",
    "#             line_color=\"LightSeaGreen\",\n",
    "#             fillcolor=\"PaleTurquoise\",\n",
    "#             opacity=0.5\n",
    "#         )\n",
    "#     else:\n",
    "#         fig.add_shape(type=\"circle\",\n",
    "#             xref=\"x\", yref=\"y\",\n",
    "#             x0=-1*sim.model.radius.value[i], y0=-1*sim.model.radius.value[i], x1=sim.model.radius.value[i], y1=sim.model.radius.value[i],\n",
    "#             line_color=\"LightSeaGreen\",\n",
    "#             opacity=0.5\n",
    "#         )\n",
    "\n",
    "# # Setting layout width\n",
    "# fig.update_layout(width=800, height=800)\n",
    "\n",
    "# fig.show()"
   ]
  },
  {
   "cell_type": "code",
   "execution_count": 34,
   "metadata": {},
   "outputs": [],
   "source": [
    "# r_shells = sim.model.radius.value\n",
    "# xs,ys = get_coordinates_multiple_packets(sim.runner.rpacket_tracker)\n",
    "# xs,ys,max_size = get_equal_array_size(xs,ys)\n",
    "\n",
    "# fig = go.Figure()\n",
    "\n",
    "# # Set axes properties\n",
    "# fig.update_xaxes(range=[-1.1*r_shells[-1],1.1*r_shells[-1]],linecolor=\"#555\",gridcolor=\"#555\",zerolinecolor=\"#555\",)\n",
    "# fig.update_yaxes(range=[-1.1*r_shells[-1],1.1*r_shells[-1]],linecolor=\"#555\",gridcolor=\"#555\",zerolinecolor=\"#555\")\n",
    "\n",
    "# # adding the shells\n",
    "# shell_shapes={}\n",
    "# for i in range(len(sim.model.radius.value)):\n",
    "#     if i==0:\n",
    "#         fig.add_shape(type=\"circle\",\n",
    "#             xref=\"x\", yref=\"y\",\n",
    "#             x0=-1*sim.model.radius.value[i], y0=-1*sim.model.radius.value[i], x1=sim.model.radius.value[i], y1=sim.model.radius.value[i],\n",
    "#             line_color=\"LightSeaGreen\",\n",
    "#             fillcolor=\"PaleTurquoise\",\n",
    "#             opacity=0.8\n",
    "#         )\n",
    "#     else:\n",
    "#         fig.add_shape(type=\"circle\",\n",
    "#             xref=\"x\", yref=\"y\",\n",
    "#             x0=-1*sim.model.radius.value[i], y0=-1*sim.model.radius.value[i], x1=sim.model.radius.value[i], y1=sim.model.radius.value[i],\n",
    "#             line_color=\"LightSeaGreen\",\n",
    "#             opacity=0.8\n",
    "#         )\n",
    "\n",
    "# #Add the packet trajectory\n",
    "\n",
    "# for i in range(len(xs)):    \n",
    "#     fig.add_trace(go.Scatter(\n",
    "#         x=xs[i],\n",
    "#         y=ys[i],\n",
    "#         mode=\"lines+markers\",\n",
    "#         name=\"Packet \"+str(i+1),\n",
    "# #         marker=dict(color='aqua')\n",
    "#     ))\n",
    "\n",
    "\n",
    "# # Set figure size\n",
    "# fig.layout.plot_bgcolor = '#000'\n",
    "# fig.layout.paper_bgcolor = '#000'\n",
    "\n",
    "# fig.update_layout(width=800, height=800,\n",
    "#                   title=\"Packet Trajectories\",\n",
    "#                   title_font_color=\"#888\",\n",
    "#                   hovermode=\"closest\",\n",
    "#                   updatemenus=[dict(type=\"buttons\",\n",
    "#                                    buttons=[dict(label=\"Play\",\n",
    "#                                                 method=\"animate\",\n",
    "#                                                 args=[None])])])\n",
    "\n",
    "# def get_frames(j):\n",
    "#     frames=[]\n",
    "\n",
    "#     for i in range(len(xs)):    \n",
    "#         frames.append(go.Scatter(\n",
    "#             x=xs[i].tolist()[0:j],\n",
    "#             y=ys[i].tolist()[0:j],\n",
    "# #             x=[xs[i].tolist()[j]],\n",
    "# #             y=[ys[i].tolist()[j]],\n",
    "#             mode=\"lines+markers\",\n",
    "#         ))\n",
    "#     return frames\n",
    "    \n",
    "# fig.frames=[go.Frame(data=get_frames(i)) for i in range(max_size)]\n",
    "\n",
    "# fig.show()"
   ]
  },
  {
   "cell_type": "code",
   "execution_count": null,
   "metadata": {},
   "outputs": [],
   "source": []
  }
 ],
 "metadata": {
  "interpreter": {
   "hash": "6890d83cfa6c65bebc4bd449872c06a268510d8b8ae8c923ce6786e6c4796836"
  },
  "kernelspec": {
   "display_name": "Python 3 (ipykernel)",
   "language": "python",
   "name": "python3"
  },
  "language_info": {
   "codemirror_mode": {
    "name": "ipython",
    "version": 3
   },
   "file_extension": ".py",
   "mimetype": "text/x-python",
   "name": "python",
   "nbconvert_exporter": "python",
   "pygments_lexer": "ipython3",
   "version": "3.8.13"
  }
 },
 "nbformat": 4,
 "nbformat_minor": 2
}
