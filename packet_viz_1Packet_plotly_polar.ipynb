{
 "cells": [
  {
   "cell_type": "markdown",
   "metadata": {},
   "source": [
    "### 2D Packet Visualization_ Single Packet_Plotly ###"
   ]
  },
  {
   "cell_type": "code",
   "execution_count": 28,
   "metadata": {},
   "outputs": [],
   "source": [
    "from tardis import run_tardis\n",
    "from tardis.io.atom_data.util import download_atom_data\n",
    "from tardis.io.config_reader import Configuration"
   ]
  },
  {
   "cell_type": "code",
   "execution_count": 29,
   "metadata": {},
   "outputs": [],
   "source": [
    "# Reading the Configuration stored in `tardis_example.yml` into config\n",
    "\n",
    "config = Configuration.from_yaml(\"tardis_example.yml\")"
   ]
  },
  {
   "cell_type": "code",
   "execution_count": 30,
   "metadata": {},
   "outputs": [],
   "source": [
    "config[\"montecarlo\"][\"tracking\"][\"track_rpacket\"]=True\n",
    "config[\"montecarlo\"][\"seed\"]= 8735653\n",
    "config[\"montecarlo\"][\"no_of_packets\"]=1\n",
    "config[\"montecarlo\"][\"iterations\"]=1\n",
    "config[\"montecarlo\"][\"last_no_of_packets\"]=1\n",
    "config[\"montecarlo\"][\"no_of_virtual_packets\"]=0"
   ]
  },
  {
   "cell_type": "code",
   "execution_count": 31,
   "metadata": {},
   "outputs": [
    {
     "data": {
      "text/plain": [
       "{'tardis_config_version': 'v1.0',\n",
       " 'supernova': {'luminosity_requested': <Quantity 1.05927636e+43 erg / s>,\n",
       "  'time_explosion': <Quantity 13. d>,\n",
       "  'luminosity_wavelength_start': <Quantity 0. Angstrom>,\n",
       "  'luminosity_wavelength_end': <Quantity inf Angstrom>},\n",
       " 'atom_data': 'kurucz_cd23_chianti_H_He.h5',\n",
       " 'model': {'structure': {'type': 'specific',\n",
       "   'velocity': {'start': <Quantity 11000. km / s>,\n",
       "    'stop': <Quantity 20000. km / s>,\n",
       "    'num': 20},\n",
       "   'density': {'type': 'branch85_w7',\n",
       "    'w7_time_0': <Quantity 0.00023148 d>,\n",
       "    'w7_rho_0': <Quantity 3.e+29 g / cm3>,\n",
       "    'w7_v_0': <Quantity 1. km / s>}},\n",
       "  'abundances': {'type': 'uniform',\n",
       "   'O': 0.19,\n",
       "   'Mg': 0.03,\n",
       "   'Si': 0.52,\n",
       "   'S': 0.19,\n",
       "   'Ar': 0.04,\n",
       "   'Ca': 0.03}},\n",
       " 'plasma': {'disable_electron_scattering': False,\n",
       "  'ionization': 'lte',\n",
       "  'excitation': 'lte',\n",
       "  'radiative_rates_type': 'dilute-blackbody',\n",
       "  'line_interaction_type': 'macroatom',\n",
       "  'initial_t_inner': <Quantity -1. K>,\n",
       "  'initial_t_rad': <Quantity -1. K>,\n",
       "  'disable_line_scattering': False,\n",
       "  'w_epsilon': 1e-10,\n",
       "  'nlte': {'species': [],\n",
       "   'coronal_approximation': False,\n",
       "   'classical_nebular': False},\n",
       "  'continuum_interaction': {'species': [],\n",
       "   'enable_adiabatic_cooling': False,\n",
       "   'enable_two_photon_decay': False},\n",
       "  'helium_treatment': 'none',\n",
       "  'heating_rate_data_file': 'none',\n",
       "  'link_t_rad_t_electron': 0.9},\n",
       " 'montecarlo': {'seed': 8735653,\n",
       "  'no_of_packets': 1,\n",
       "  'iterations': 1,\n",
       "  'nthreads': 1,\n",
       "  'last_no_of_packets': 1,\n",
       "  'no_of_virtual_packets': 0,\n",
       "  'convergence_strategy': {'type': 'damped',\n",
       "   'damping_constant': 1.0,\n",
       "   'threshold': 0.05,\n",
       "   'fraction': 0.8,\n",
       "   'hold_iterations': 3,\n",
       "   't_inner': {'damping_constant': 0.5, 'threshold': 0.05},\n",
       "   'stop_if_converged': False,\n",
       "   'lock_t_inner_cycles': 1,\n",
       "   't_inner_update_exponent': -0.5,\n",
       "   't_rad': {'damping_constant': 1.0, 'threshold': 0.05},\n",
       "   'w': {'damping_constant': 1.0, 'threshold': 0.05}},\n",
       "  'virtual_spectrum_spawn_range': {'start': <Quantity 1. Angstrom>,\n",
       "   'end': <Quantity inf Angstrom>},\n",
       "  'enable_reflective_inner_boundary': False,\n",
       "  'inner_boundary_albedo': 0.0,\n",
       "  'enable_full_relativity': False,\n",
       "  'tracking': {'track_rpacket': True, 'initial_array_length': 10},\n",
       "  'debug_packets': False,\n",
       "  'logger_buffer': 1,\n",
       "  'single_packet_seed': -1},\n",
       " 'spectrum': {'start': <Quantity 500. Angstrom>,\n",
       "  'stop': <Quantity 20000. Angstrom>,\n",
       "  'num': 10000,\n",
       "  'method': 'virtual',\n",
       "  'integrated': {'points': 1000, 'interpolate_shells': 0, 'compute': 'CPU'},\n",
       "  'virtual': {'tau_russian': 10.0,\n",
       "   'survival_probability': 0.0,\n",
       "   'enable_biasing': False,\n",
       "   'virtual_packet_logging': False}},\n",
       " 'config_dirname': ''}"
      ]
     },
     "execution_count": 31,
     "metadata": {},
     "output_type": "execute_result"
    }
   ],
   "source": [
    "config"
   ]
  },
  {
   "cell_type": "markdown",
   "metadata": {},
   "source": [
    "#### Running the simulation (long output) ####"
   ]
  },
  {
   "cell_type": "markdown",
   "metadata": {},
   "source": [
    "<div class=\"alert alert-info\">\n",
    "\n",
    "Note\n",
    "    \n",
    "The progress of the simulation can be tracked using progress bars which are displayed when the notebook is run, but are not displayed in the documentation. \n",
    "    \n",
    "</div>"
   ]
  },
  {
   "cell_type": "code",
   "execution_count": 32,
   "metadata": {
    "scrolled": true
   },
   "outputs": [
    {
     "name": "stdout",
     "output_type": "stream",
     "text": [
      "[\u001b[1mtardis.plasma.standard_plasmas\u001b[0m][\u001b[1;37mINFO\u001b[0m   ]  \n",
      "\t\n",
      "\tReading Atomic Data from kurucz_cd23_chianti_H_He.h5 (\u001b[1mstandard_plasmas.py\u001b[0m:93)\n",
      "[\u001b[1mtardis.io.atom_data.util\u001b[0m][\u001b[1;37mINFO\u001b[0m   ]  \n",
      "\t\n",
      "\tAtom Data kurucz_cd23_chianti_H_He.h5 not found in local path.\n",
      "\tExists in TARDIS Data repo /home/jayant/Downloads/tardis-data/kurucz_cd23_chianti_H_He.h5 (\u001b[1mutil.py\u001b[0m:33)\n",
      "[\u001b[1mtardis.io.atom_data.base\u001b[0m][\u001b[1;37mINFO\u001b[0m   ]  \n",
      "\tReading Atom Data with: UUID = 6f7b09e887a311e7a06b246e96350010 MD5  = 864f1753714343c41f99cb065710cace  (\u001b[1mbase.py\u001b[0m:203)\n",
      "[\u001b[1mtardis.io.atom_data.base\u001b[0m][\u001b[1;37mINFO\u001b[0m   ]  \n",
      "\tNon provided Atomic Data: synpp_refs, photoionization_data, yg_data, two_photon_data (\u001b[1mbase.py\u001b[0m:207)\n",
      "[\u001b[1mpy.warnings         \u001b[0m][\u001b[1;33mWARNING\u001b[0m]  \n",
      "\t/home/jayant/Desktop/tardis/tardis/plasma/properties/radiative_properties.py:93: RuntimeWarning:\n",
      "\n",
      "invalid value encountered in true_divide\n",
      "\n",
      " (\u001b[1mwarnings.py\u001b[0m:109)\n",
      "[\u001b[1mtardis.simulation.base\u001b[0m][\u001b[1;37mINFO\u001b[0m   ]  \n",
      "\t\n",
      "\tStarting iteration 1 of 1 (\u001b[1mbase.py\u001b[0m:378)\n"
     ]
    },
    {
     "data": {
      "application/vnd.jupyter.widget-view+json": {
       "model_id": "50d9321742bd4710b82e8a54108cb374",
       "version_major": 2,
       "version_minor": 0
      },
      "text/plain": [
       "TqdmHBox(children=(HTML(value='Iterations:', layout=Layout(width='6%')), FloatProgress(value=0.0, layout=Layou…"
      ]
     },
     "metadata": {},
     "output_type": "display_data"
    },
    {
     "name": "stdout",
     "output_type": "stream",
     "text": [
      "[\u001b[1mtardis.simulation.base\u001b[0m][\u001b[1;33mCRITICAL\u001b[0m]  \n",
      "\tNo r-packet escaped through the outer boundary. (\u001b[1mbase.py\u001b[0m:394)\n",
      "[\u001b[1mtardis.simulation.base\u001b[0m][\u001b[1;37mINFO\u001b[0m   ]  \n",
      "\t\n",
      "\tLuminosity emitted   = 0.000e+00 erg / s\n",
      "\tLuminosity absorbed  = 1.031e+43 erg / s\n",
      "\tLuminosity requested = 1.059e+43 erg / s\n",
      " (\u001b[1mbase.py\u001b[0m:547)\n",
      "[\u001b[1mtardis.simulation.base\u001b[0m][\u001b[1;37mINFO\u001b[0m   ]  \n",
      "\t\n",
      "\tSimulation finished in 1 iterations \n",
      "\tSimulation took 0.08 s\n",
      " (\u001b[1mbase.py\u001b[0m:468)\n"
     ]
    }
   ],
   "source": [
    "sim = run_tardis(config)"
   ]
  },
  {
   "cell_type": "markdown",
   "metadata": {},
   "source": [
    "<div class=\"alert alert-info\">\n",
    "    \n",
    "Note\n",
    "\n",
    "When running this notebook locally or in interactive mode, a [convergence plot](io/visualization/convergence_plot.ipynb) will show up.\n",
    "\n",
    "</div>"
   ]
  },
  {
   "cell_type": "code",
   "execution_count": 33,
   "metadata": {},
   "outputs": [
    {
     "data": {
      "text/plain": [
       "array([1.23552000e+15, 1.26311303e+15, 1.23552000e+15])"
      ]
     },
     "execution_count": 33,
     "metadata": {},
     "output_type": "execute_result"
    }
   ],
   "source": [
    "sim.runner.rpacket_tracker[0].r"
   ]
  },
  {
   "cell_type": "code",
   "execution_count": 34,
   "metadata": {},
   "outputs": [
    {
     "data": {
      "text/plain": [
       "array([ 0.42575333, -0.68522265, -0.66751134])"
      ]
     },
     "execution_count": 34,
     "metadata": {},
     "output_type": "execute_result"
    }
   ],
   "source": [
    "sim.runner.rpacket_tracker[0].mu"
   ]
  },
  {
   "cell_type": "code",
   "execution_count": 35,
   "metadata": {},
   "outputs": [
    {
     "data": {
      "text/latex": [
       "$[1.23552 \\times 10^{15},~1.286064 \\times 10^{15},~1.336608 \\times 10^{15},~1.387152 \\times 10^{15},~1.437696 \\times 10^{15},~1.48824 \\times 10^{15},~1.538784 \\times 10^{15},~1.589328 \\times 10^{15},~1.639872 \\times 10^{15},~1.690416 \\times 10^{15},~1.74096 \\times 10^{15},~1.791504 \\times 10^{15},~1.842048 \\times 10^{15},~1.892592 \\times 10^{15},~1.943136 \\times 10^{15},~1.99368 \\times 10^{15},~2.044224 \\times 10^{15},~2.094768 \\times 10^{15},~2.145312 \\times 10^{15},~2.195856 \\times 10^{15},~2.2464 \\times 10^{15}] \\; \\mathrm{cm}$"
      ],
      "text/plain": [
       "<Quantity [1.235520e+15, 1.286064e+15, 1.336608e+15, 1.387152e+15,\n",
       "           1.437696e+15, 1.488240e+15, 1.538784e+15, 1.589328e+15,\n",
       "           1.639872e+15, 1.690416e+15, 1.740960e+15, 1.791504e+15,\n",
       "           1.842048e+15, 1.892592e+15, 1.943136e+15, 1.993680e+15,\n",
       "           2.044224e+15, 2.094768e+15, 2.145312e+15, 2.195856e+15,\n",
       "           2.246400e+15] cm>"
      ]
     },
     "execution_count": 35,
     "metadata": {},
     "output_type": "execute_result"
    }
   ],
   "source": [
    "sim.model.radius"
   ]
  },
  {
   "cell_type": "markdown",
   "metadata": {},
   "source": [
    "#### Plotly plots ####"
   ]
  },
  {
   "cell_type": "code",
   "execution_count": 36,
   "metadata": {},
   "outputs": [],
   "source": [
    "import plotly.express as px\n",
    "import chart_studio.plotly as py\n",
    "import plotly.graph_objects as go\n",
    "import math\n",
    "import pandas as pd\n",
    "import numpy as np"
   ]
  },
  {
   "attachments": {
    "packet_diagram.jpg": {
     "image/jpeg": "[encoded data removed]"
    }
   },
   "cell_type": "markdown",
   "metadata": {},
   "source": [
    "### Mathematical expression for finding coordinates ###\n",
    "\n",
    "\\\n",
    "<img src=\"attachment:packet_diagram.jpg\" style=\"width:400px\">\n",
    "\n",
    "<br><br>The diagram above shows the packet trajectory as it starts from photosphere `P0` and continues to move along the subsequent points `P1`, `P2` and so on.\n",
    "\n",
    "<div class=\"alert alert-info\">\n",
    "    <b>Note:</b><br>\n",
    "    Here μ is the angle of direction of packet propagation with respect to line joining the center.\n",
    "</div>\n",
    "\n",
    "To determine the polar coordinates of any arbitrary point, let say `P2`, we need `r2` and `θ2`. `r2` is already present in the array obtained from the simulation. To determine `θ2`, we use sine rule and apply it on triangle `OP1P2`, where `O` is the center.\n",
    "\n",
    "$$\n",
    "\\frac{r_{2}}{\\sin(\\pi - \\mu_{1})} = \\frac{r_{1}}{\\sin(\\alpha)}\n",
    "$$\n",
    "\n",
    "Now, writing `α` in terms of `μ1` and `θ2`\n",
    "\n",
    "$$ \n",
    "α = μ_{1} - θ_{2} \\\\ \\\\\n",
    "\\frac{r_{2}}{\\sin(\\pi - \\mu_{1})} = \\frac{r_{1}}{\\sin(μ_{1} - θ_{2})}\n",
    "$$\n",
    "\n",
    "Thus,\n",
    "\n",
    "$$ \n",
    "θ_{2} = -\\sin^{-1}(\\frac{r1}{r2}\\sin(\\mu_{1})) + \\mu_{1}\n",
    "$$\n",
    "\n",
    "Hence, for `ith` point, `θ` will be:\n",
    "\n",
    "$$ \n",
    "θ_{i} = -\\sin^{-1}(\\frac{r_{i-1}}{r_{i}}\\sin(\\mu_{i-1})) + \\mu_{i-1}\n",
    "$$"
   ]
  },
  {
   "cell_type": "code",
   "execution_count": 42,
   "metadata": {},
   "outputs": [],
   "source": [
    "# function for getting theta angles\n",
    "def get_thetas(r_track,mu_track):\n",
    "    theta=[]\n",
    "    for i in range(len(r_track)):\n",
    "        if(i==0):\n",
    "            theta.append(0)\n",
    "        else:\n",
    "            print(math.asin(-1*r_track[i-1]*math.sin(math.acos(mu_track[i-1]))/r_track[i]) + math.acos(mu_track[i-1]))\n",
    "            theta.append(theta[-1]+math.asin(-1*r_track[i-1]*math.sin(math.acos(mu_track[i-1]))/r_track[i]) + math.acos(mu_track[i-1]))\n",
    "            print(theta[i])\n",
    "    return theta"
   ]
  },
  {
   "cell_type": "code",
   "execution_count": 43,
   "metadata": {},
   "outputs": [
    {
     "name": "stdout",
     "output_type": "stream",
     "text": [
      "0.04435160147434236\n",
      "0.04435160147434236\n",
      "1.4857708232904028\n",
      "1.5301224247647451\n"
     ]
    },
    {
     "data": {
      "text/html": [
       "<div>\n",
       "<style scoped>\n",
       "    .dataframe tbody tr th:only-of-type {\n",
       "        vertical-align: middle;\n",
       "    }\n",
       "\n",
       "    .dataframe tbody tr th {\n",
       "        vertical-align: top;\n",
       "    }\n",
       "\n",
       "    .dataframe thead th {\n",
       "        text-align: right;\n",
       "    }\n",
       "</style>\n",
       "<table border=\"1\" class=\"dataframe\">\n",
       "  <thead>\n",
       "    <tr style=\"text-align: right;\">\n",
       "      <th></th>\n",
       "      <th>r</th>\n",
       "      <th>theta</th>\n",
       "    </tr>\n",
       "  </thead>\n",
       "  <tbody>\n",
       "    <tr>\n",
       "      <th>0</th>\n",
       "      <td>1.235520e+15</td>\n",
       "      <td>0.000000</td>\n",
       "    </tr>\n",
       "    <tr>\n",
       "      <th>1</th>\n",
       "      <td>1.263113e+15</td>\n",
       "      <td>2.541160</td>\n",
       "    </tr>\n",
       "    <tr>\n",
       "      <th>2</th>\n",
       "      <td>1.235520e+15</td>\n",
       "      <td>87.669557</td>\n",
       "    </tr>\n",
       "  </tbody>\n",
       "</table>\n",
       "</div>"
      ],
      "text/plain": [
       "              r      theta\n",
       "0  1.235520e+15   0.000000\n",
       "1  1.263113e+15   2.541160\n",
       "2  1.235520e+15  87.669557"
      ]
     },
     "execution_count": 43,
     "metadata": {},
     "output_type": "execute_result"
    }
   ],
   "source": [
    "r = sim.runner.rpacket_tracker[0].r\n",
    "mu = sim.runner.rpacket_tracker[0].mu\n",
    "theta = get_thetas(r,mu)\n",
    "\n",
    "# Converting theta array from radians to degrees\n",
    "theta=(np.array(theta)*180)/(math.pi)\n",
    "\n",
    "# Creating dataframe for r and theta values\n",
    "df = pd.DataFrame(r,columns=['r'])\n",
    "df['theta']=theta\n",
    "df"
   ]
  },
  {
   "cell_type": "code",
   "execution_count": 41,
   "metadata": {},
   "outputs": [
    {
     "data": {
      "application/vnd.plotly.v1+json": {
       "config": {
        "plotlyServerURL": "https://plot.ly"
       },
       "data": [
        {
         "hovertemplate": "r=%{r}<br>theta=%{theta}<extra></extra>",
         "legendgroup": "",
         "line": {
          "color": "#636efa",
          "dash": "solid"
         },
         "marker": {
          "symbol": "circle"
         },
         "mode": "markers+lines",
         "name": "",
         "r": [
          1235520000000000,
          1263113026813654.5,
          1235520000000000
         ],
         "showlegend": false,
         "subplot": "polar",
         "theta": [
          0,
          2.541159579126017,
          87.66955707734374
         ],
         "type": "scatterpolar"
        }
       ],
       "layout": {
        "height": 1000,
        "legend": {
         "tracegroupgap": 0
        },
        "margin": {
         "t": 60
        },
        "polar": {
         "angularaxis": {
          "direction": "counterclockwise",
          "rotation": 0
         },
         "domain": {
          "x": [
           0,
           1
          ],
          "y": [
           0,
           1
          ]
         }
        },
        "shapes": [
         {
          "fillcolor": "PaleTurquoise",
          "line": {
           "color": "LightSeaGreen"
          },
          "opacity": 0.5,
          "type": "circle",
          "x0": -1235520000000000,
          "x1": 1235520000000000,
          "xref": "x",
          "y0": -1235520000000000,
          "y1": 1235520000000000,
          "yref": "y"
         },
         {
          "line": {
           "color": "LightSeaGreen"
          },
          "opacity": 0.5,
          "type": "circle",
          "x0": -1286064000000000,
          "x1": 1286064000000000,
          "xref": "x",
          "y0": -1286064000000000,
          "y1": 1286064000000000,
          "yref": "y"
         },
         {
          "line": {
           "color": "LightSeaGreen"
          },
          "opacity": 0.5,
          "type": "circle",
          "x0": -1336608000000000,
          "x1": 1336608000000000,
          "xref": "x",
          "y0": -1336608000000000,
          "y1": 1336608000000000,
          "yref": "y"
         },
         {
          "line": {
           "color": "LightSeaGreen"
          },
          "opacity": 0.5,
          "type": "circle",
          "x0": -1387152000000000,
          "x1": 1387152000000000,
          "xref": "x",
          "y0": -1387152000000000,
          "y1": 1387152000000000,
          "yref": "y"
         },
         {
          "line": {
           "color": "LightSeaGreen"
          },
          "opacity": 0.5,
          "type": "circle",
          "x0": -1437696000000000,
          "x1": 1437696000000000,
          "xref": "x",
          "y0": -1437696000000000,
          "y1": 1437696000000000,
          "yref": "y"
         },
         {
          "line": {
           "color": "LightSeaGreen"
          },
          "opacity": 0.5,
          "type": "circle",
          "x0": -1488240000000000,
          "x1": 1488240000000000,
          "xref": "x",
          "y0": -1488240000000000,
          "y1": 1488240000000000,
          "yref": "y"
         },
         {
          "line": {
           "color": "LightSeaGreen"
          },
          "opacity": 0.5,
          "type": "circle",
          "x0": -1538784000000000,
          "x1": 1538784000000000,
          "xref": "x",
          "y0": -1538784000000000,
          "y1": 1538784000000000,
          "yref": "y"
         },
         {
          "line": {
           "color": "LightSeaGreen"
          },
          "opacity": 0.5,
          "type": "circle",
          "x0": -1589328000000000,
          "x1": 1589328000000000,
          "xref": "x",
          "y0": -1589328000000000,
          "y1": 1589328000000000,
          "yref": "y"
         },
         {
          "line": {
           "color": "LightSeaGreen"
          },
          "opacity": 0.5,
          "type": "circle",
          "x0": -1639872000000000,
          "x1": 1639872000000000,
          "xref": "x",
          "y0": -1639872000000000,
          "y1": 1639872000000000,
          "yref": "y"
         },
         {
          "line": {
           "color": "LightSeaGreen"
          },
          "opacity": 0.5,
          "type": "circle",
          "x0": -1690416000000000,
          "x1": 1690416000000000,
          "xref": "x",
          "y0": -1690416000000000,
          "y1": 1690416000000000,
          "yref": "y"
         },
         {
          "line": {
           "color": "LightSeaGreen"
          },
          "opacity": 0.5,
          "type": "circle",
          "x0": -1740960000000000,
          "x1": 1740960000000000,
          "xref": "x",
          "y0": -1740960000000000,
          "y1": 1740960000000000,
          "yref": "y"
         },
         {
          "line": {
           "color": "LightSeaGreen"
          },
          "opacity": 0.5,
          "type": "circle",
          "x0": -1791504000000000,
          "x1": 1791504000000000,
          "xref": "x",
          "y0": -1791504000000000,
          "y1": 1791504000000000,
          "yref": "y"
         },
         {
          "line": {
           "color": "LightSeaGreen"
          },
          "opacity": 0.5,
          "type": "circle",
          "x0": -1842048000000000,
          "x1": 1842048000000000,
          "xref": "x",
          "y0": -1842048000000000,
          "y1": 1842048000000000,
          "yref": "y"
         },
         {
          "line": {
           "color": "LightSeaGreen"
          },
          "opacity": 0.5,
          "type": "circle",
          "x0": -1892592000000000,
          "x1": 1892592000000000,
          "xref": "x",
          "y0": -1892592000000000,
          "y1": 1892592000000000,
          "yref": "y"
         },
         {
          "line": {
           "color": "LightSeaGreen"
          },
          "opacity": 0.5,
          "type": "circle",
          "x0": -1943136000000000,
          "x1": 1943136000000000,
          "xref": "x",
          "y0": -1943136000000000,
          "y1": 1943136000000000,
          "yref": "y"
         },
         {
          "line": {
           "color": "LightSeaGreen"
          },
          "opacity": 0.5,
          "type": "circle",
          "x0": -1993680000000000,
          "x1": 1993680000000000,
          "xref": "x",
          "y0": -1993680000000000,
          "y1": 1993680000000000,
          "yref": "y"
         },
         {
          "line": {
           "color": "LightSeaGreen"
          },
          "opacity": 0.5,
          "type": "circle",
          "x0": -2044224000000000,
          "x1": 2044224000000000,
          "xref": "x",
          "y0": -2044224000000000,
          "y1": 2044224000000000,
          "yref": "y"
         },
         {
          "line": {
           "color": "LightSeaGreen"
          },
          "opacity": 0.5,
          "type": "circle",
          "x0": -2094768000000000,
          "x1": 2094768000000000,
          "xref": "x",
          "y0": -2094768000000000,
          "y1": 2094768000000000,
          "yref": "y"
         },
         {
          "line": {
           "color": "LightSeaGreen"
          },
          "opacity": 0.5,
          "type": "circle",
          "x0": -2145312000000000,
          "x1": 2145312000000000,
          "xref": "x",
          "y0": -2145312000000000,
          "y1": 2145312000000000,
          "yref": "y"
         },
         {
          "line": {
           "color": "LightSeaGreen"
          },
          "opacity": 0.5,
          "type": "circle",
          "x0": -2195856000000000,
          "x1": 2195856000000000,
          "xref": "x",
          "y0": -2195856000000000,
          "y1": 2195856000000000,
          "yref": "y"
         },
         {
          "line": {
           "color": "LightSeaGreen"
          },
          "opacity": 0.5,
          "type": "circle",
          "x0": -2246400000000000,
          "x1": 2246400000000000,
          "xref": "x",
          "y0": -2246400000000000,
          "y1": 2246400000000000,
          "yref": "y"
         }
        ],
        "template": {
         "data": {
          "bar": [
           {
            "error_x": {
             "color": "#f2f5fa"
            },
            "error_y": {
             "color": "#f2f5fa"
            },
            "marker": {
             "line": {
              "color": "rgb(17,17,17)",
              "width": 0.5
             },
             "pattern": {
              "fillmode": "overlay",
              "size": 10,
              "solidity": 0.2
             }
            },
            "type": "bar"
           }
          ],
          "barpolar": [
           {
            "marker": {
             "line": {
              "color": "rgb(17,17,17)",
              "width": 0.5
             },
             "pattern": {
              "fillmode": "overlay",
              "size": 10,
              "solidity": 0.2
             }
            },
            "type": "barpolar"
           }
          ],
          "carpet": [
           {
            "aaxis": {
             "endlinecolor": "#A2B1C6",
             "gridcolor": "#506784",
             "linecolor": "#506784",
             "minorgridcolor": "#506784",
             "startlinecolor": "#A2B1C6"
            },
            "baxis": {
             "endlinecolor": "#A2B1C6",
             "gridcolor": "#506784",
             "linecolor": "#506784",
             "minorgridcolor": "#506784",
             "startlinecolor": "#A2B1C6"
            },
            "type": "carpet"
           }
          ],
          "choropleth": [
           {
            "colorbar": {
             "outlinewidth": 0,
             "ticks": ""
            },
            "type": "choropleth"
           }
          ],
          "contour": [
           {
            "colorbar": {
             "outlinewidth": 0,
             "ticks": ""
            },
            "colorscale": [
             [
              0,
              "#0d0887"
             ],
             [
              0.1111111111111111,
              "#46039f"
             ],
             [
              0.2222222222222222,
              "#7201a8"
             ],
             [
              0.3333333333333333,
              "#9c179e"
             ],
             [
              0.4444444444444444,
              "#bd3786"
             ],
             [
              0.5555555555555556,
              "#d8576b"
             ],
             [
              0.6666666666666666,
              "#ed7953"
             ],
             [
              0.7777777777777778,
              "#fb9f3a"
             ],
             [
              0.8888888888888888,
              "#fdca26"
             ],
             [
              1,
              "#f0f921"
             ]
            ],
            "type": "contour"
           }
          ],
          "contourcarpet": [
           {
            "colorbar": {
             "outlinewidth": 0,
             "ticks": ""
            },
            "type": "contourcarpet"
           }
          ],
          "heatmap": [
           {
            "colorbar": {
             "outlinewidth": 0,
             "ticks": ""
            },
            "colorscale": [
             [
              0,
              "#0d0887"
             ],
             [
              0.1111111111111111,
              "#46039f"
             ],
             [
              0.2222222222222222,
              "#7201a8"
             ],
             [
              0.3333333333333333,
              "#9c179e"
             ],
             [
              0.4444444444444444,
              "#bd3786"
             ],
             [
              0.5555555555555556,
              "#d8576b"
             ],
             [
              0.6666666666666666,
              "#ed7953"
             ],
             [
              0.7777777777777778,
              "#fb9f3a"
             ],
             [
              0.8888888888888888,
              "#fdca26"
             ],
             [
              1,
              "#f0f921"
             ]
            ],
            "type": "heatmap"
           }
          ],
          "heatmapgl": [
           {
            "colorbar": {
             "outlinewidth": 0,
             "ticks": ""
            },
            "colorscale": [
             [
              0,
              "#0d0887"
             ],
             [
              0.1111111111111111,
              "#46039f"
             ],
             [
              0.2222222222222222,
              "#7201a8"
             ],
             [
              0.3333333333333333,
              "#9c179e"
             ],
             [
              0.4444444444444444,
              "#bd3786"
             ],
             [
              0.5555555555555556,
              "#d8576b"
             ],
             [
              0.6666666666666666,
              "#ed7953"
             ],
             [
              0.7777777777777778,
              "#fb9f3a"
             ],
             [
              0.8888888888888888,
              "#fdca26"
             ],
             [
              1,
              "#f0f921"
             ]
            ],
            "type": "heatmapgl"
           }
          ],
          "histogram": [
           {
            "marker": {
             "pattern": {
              "fillmode": "overlay",
              "size": 10,
              "solidity": 0.2
             }
            },
            "type": "histogram"
           }
          ],
          "histogram2d": [
           {
            "colorbar": {
             "outlinewidth": 0,
             "ticks": ""
            },
            "colorscale": [
             [
              0,
              "#0d0887"
             ],
             [
              0.1111111111111111,
              "#46039f"
             ],
             [
              0.2222222222222222,
              "#7201a8"
             ],
             [
              0.3333333333333333,
              "#9c179e"
             ],
             [
              0.4444444444444444,
              "#bd3786"
             ],
             [
              0.5555555555555556,
              "#d8576b"
             ],
             [
              0.6666666666666666,
              "#ed7953"
             ],
             [
              0.7777777777777778,
              "#fb9f3a"
             ],
             [
              0.8888888888888888,
              "#fdca26"
             ],
             [
              1,
              "#f0f921"
             ]
            ],
            "type": "histogram2d"
           }
          ],
          "histogram2dcontour": [
           {
            "colorbar": {
             "outlinewidth": 0,
             "ticks": ""
            },
            "colorscale": [
             [
              0,
              "#0d0887"
             ],
             [
              0.1111111111111111,
              "#46039f"
             ],
             [
              0.2222222222222222,
              "#7201a8"
             ],
             [
              0.3333333333333333,
              "#9c179e"
             ],
             [
              0.4444444444444444,
              "#bd3786"
             ],
             [
              0.5555555555555556,
              "#d8576b"
             ],
             [
              0.6666666666666666,
              "#ed7953"
             ],
             [
              0.7777777777777778,
              "#fb9f3a"
             ],
             [
              0.8888888888888888,
              "#fdca26"
             ],
             [
              1,
              "#f0f921"
             ]
            ],
            "type": "histogram2dcontour"
           }
          ],
          "mesh3d": [
           {
            "colorbar": {
             "outlinewidth": 0,
             "ticks": ""
            },
            "type": "mesh3d"
           }
          ],
          "parcoords": [
           {
            "line": {
             "colorbar": {
              "outlinewidth": 0,
              "ticks": ""
             }
            },
            "type": "parcoords"
           }
          ],
          "pie": [
           {
            "automargin": true,
            "type": "pie"
           }
          ],
          "scatter": [
           {
            "marker": {
             "line": {
              "color": "#283442"
             }
            },
            "type": "scatter"
           }
          ],
          "scatter3d": [
           {
            "line": {
             "colorbar": {
              "outlinewidth": 0,
              "ticks": ""
             }
            },
            "marker": {
             "colorbar": {
              "outlinewidth": 0,
              "ticks": ""
             }
            },
            "type": "scatter3d"
           }
          ],
          "scattercarpet": [
           {
            "marker": {
             "colorbar": {
              "outlinewidth": 0,
              "ticks": ""
             }
            },
            "type": "scattercarpet"
           }
          ],
          "scattergeo": [
           {
            "marker": {
             "colorbar": {
              "outlinewidth": 0,
              "ticks": ""
             }
            },
            "type": "scattergeo"
           }
          ],
          "scattergl": [
           {
            "marker": {
             "line": {
              "color": "#283442"
             }
            },
            "type": "scattergl"
           }
          ],
          "scattermapbox": [
           {
            "marker": {
             "colorbar": {
              "outlinewidth": 0,
              "ticks": ""
             }
            },
            "type": "scattermapbox"
           }
          ],
          "scatterpolar": [
           {
            "marker": {
             "colorbar": {
              "outlinewidth": 0,
              "ticks": ""
             }
            },
            "type": "scatterpolar"
           }
          ],
          "scatterpolargl": [
           {
            "marker": {
             "colorbar": {
              "outlinewidth": 0,
              "ticks": ""
             }
            },
            "type": "scatterpolargl"
           }
          ],
          "scatterternary": [
           {
            "marker": {
             "colorbar": {
              "outlinewidth": 0,
              "ticks": ""
             }
            },
            "type": "scatterternary"
           }
          ],
          "surface": [
           {
            "colorbar": {
             "outlinewidth": 0,
             "ticks": ""
            },
            "colorscale": [
             [
              0,
              "#0d0887"
             ],
             [
              0.1111111111111111,
              "#46039f"
             ],
             [
              0.2222222222222222,
              "#7201a8"
             ],
             [
              0.3333333333333333,
              "#9c179e"
             ],
             [
              0.4444444444444444,
              "#bd3786"
             ],
             [
              0.5555555555555556,
              "#d8576b"
             ],
             [
              0.6666666666666666,
              "#ed7953"
             ],
             [
              0.7777777777777778,
              "#fb9f3a"
             ],
             [
              0.8888888888888888,
              "#fdca26"
             ],
             [
              1,
              "#f0f921"
             ]
            ],
            "type": "surface"
           }
          ],
          "table": [
           {
            "cells": {
             "fill": {
              "color": "#506784"
             },
             "line": {
              "color": "rgb(17,17,17)"
             }
            },
            "header": {
             "fill": {
              "color": "#2a3f5f"
             },
             "line": {
              "color": "rgb(17,17,17)"
             }
            },
            "type": "table"
           }
          ]
         },
         "layout": {
          "annotationdefaults": {
           "arrowcolor": "#f2f5fa",
           "arrowhead": 0,
           "arrowwidth": 1
          },
          "autotypenumbers": "strict",
          "coloraxis": {
           "colorbar": {
            "outlinewidth": 0,
            "ticks": ""
           }
          },
          "colorscale": {
           "diverging": [
            [
             0,
             "#8e0152"
            ],
            [
             0.1,
             "#c51b7d"
            ],
            [
             0.2,
             "#de77ae"
            ],
            [
             0.3,
             "#f1b6da"
            ],
            [
             0.4,
             "#fde0ef"
            ],
            [
             0.5,
             "#f7f7f7"
            ],
            [
             0.6,
             "#e6f5d0"
            ],
            [
             0.7,
             "#b8e186"
            ],
            [
             0.8,
             "#7fbc41"
            ],
            [
             0.9,
             "#4d9221"
            ],
            [
             1,
             "#276419"
            ]
           ],
           "sequential": [
            [
             0,
             "#0d0887"
            ],
            [
             0.1111111111111111,
             "#46039f"
            ],
            [
             0.2222222222222222,
             "#7201a8"
            ],
            [
             0.3333333333333333,
             "#9c179e"
            ],
            [
             0.4444444444444444,
             "#bd3786"
            ],
            [
             0.5555555555555556,
             "#d8576b"
            ],
            [
             0.6666666666666666,
             "#ed7953"
            ],
            [
             0.7777777777777778,
             "#fb9f3a"
            ],
            [
             0.8888888888888888,
             "#fdca26"
            ],
            [
             1,
             "#f0f921"
            ]
           ],
           "sequentialminus": [
            [
             0,
             "#0d0887"
            ],
            [
             0.1111111111111111,
             "#46039f"
            ],
            [
             0.2222222222222222,
             "#7201a8"
            ],
            [
             0.3333333333333333,
             "#9c179e"
            ],
            [
             0.4444444444444444,
             "#bd3786"
            ],
            [
             0.5555555555555556,
             "#d8576b"
            ],
            [
             0.6666666666666666,
             "#ed7953"
            ],
            [
             0.7777777777777778,
             "#fb9f3a"
            ],
            [
             0.8888888888888888,
             "#fdca26"
            ],
            [
             1,
             "#f0f921"
            ]
           ]
          },
          "colorway": [
           "#636efa",
           "#EF553B",
           "#00cc96",
           "#ab63fa",
           "#FFA15A",
           "#19d3f3",
           "#FF6692",
           "#B6E880",
           "#FF97FF",
           "#FECB52"
          ],
          "font": {
           "color": "#f2f5fa"
          },
          "geo": {
           "bgcolor": "rgb(17,17,17)",
           "lakecolor": "rgb(17,17,17)",
           "landcolor": "rgb(17,17,17)",
           "showlakes": true,
           "showland": true,
           "subunitcolor": "#506784"
          },
          "hoverlabel": {
           "align": "left"
          },
          "hovermode": "closest",
          "mapbox": {
           "style": "dark"
          },
          "paper_bgcolor": "rgb(17,17,17)",
          "plot_bgcolor": "rgb(17,17,17)",
          "polar": {
           "angularaxis": {
            "gridcolor": "#506784",
            "linecolor": "#506784",
            "ticks": ""
           },
           "bgcolor": "rgb(17,17,17)",
           "radialaxis": {
            "gridcolor": "#506784",
            "linecolor": "#506784",
            "ticks": ""
           }
          },
          "scene": {
           "xaxis": {
            "backgroundcolor": "rgb(17,17,17)",
            "gridcolor": "#506784",
            "gridwidth": 2,
            "linecolor": "#506784",
            "showbackground": true,
            "ticks": "",
            "zerolinecolor": "#C8D4E3"
           },
           "yaxis": {
            "backgroundcolor": "rgb(17,17,17)",
            "gridcolor": "#506784",
            "gridwidth": 2,
            "linecolor": "#506784",
            "showbackground": true,
            "ticks": "",
            "zerolinecolor": "#C8D4E3"
           },
           "zaxis": {
            "backgroundcolor": "rgb(17,17,17)",
            "gridcolor": "#506784",
            "gridwidth": 2,
            "linecolor": "#506784",
            "showbackground": true,
            "ticks": "",
            "zerolinecolor": "#C8D4E3"
           }
          },
          "shapedefaults": {
           "line": {
            "color": "#f2f5fa"
           }
          },
          "sliderdefaults": {
           "bgcolor": "#C8D4E3",
           "bordercolor": "rgb(17,17,17)",
           "borderwidth": 1,
           "tickwidth": 0
          },
          "ternary": {
           "aaxis": {
            "gridcolor": "#506784",
            "linecolor": "#506784",
            "ticks": ""
           },
           "baxis": {
            "gridcolor": "#506784",
            "linecolor": "#506784",
            "ticks": ""
           },
           "bgcolor": "rgb(17,17,17)",
           "caxis": {
            "gridcolor": "#506784",
            "linecolor": "#506784",
            "ticks": ""
           }
          },
          "title": {
           "x": 0.05
          },
          "updatemenudefaults": {
           "bgcolor": "#506784",
           "borderwidth": 0
          },
          "xaxis": {
           "automargin": true,
           "gridcolor": "#283442",
           "linecolor": "#506784",
           "ticks": "",
           "title": {
            "standoff": 15
           },
           "zerolinecolor": "#283442",
           "zerolinewidth": 2
          },
          "yaxis": {
           "automargin": true,
           "gridcolor": "#283442",
           "linecolor": "#506784",
           "ticks": "",
           "title": {
            "standoff": 15
           },
           "zerolinecolor": "#283442",
           "zerolinewidth": 2
          }
         }
        },
        "width": 1000
       }
      },
      "text/html": [
       "<div>                            <div id=\"ae0672b1-9ce2-4818-90bd-36e468891edc\" class=\"plotly-graph-div\" style=\"height:1000px; width:1000px;\"></div>            <script type=\"text/javascript\">                require([\"plotly\"], function(Plotly) {                    window.PLOTLYENV=window.PLOTLYENV || {};                                    if (document.getElementById(\"ae0672b1-9ce2-4818-90bd-36e468891edc\")) {                    Plotly.newPlot(                        \"ae0672b1-9ce2-4818-90bd-36e468891edc\",                        [{\"hovertemplate\":\"r=%{r}<br>theta=%{theta}<extra></extra>\",\"legendgroup\":\"\",\"line\":{\"color\":\"#636efa\",\"dash\":\"solid\"},\"marker\":{\"symbol\":\"circle\"},\"mode\":\"markers+lines\",\"name\":\"\",\"r\":[1235520000000000.0,1263113026813654.5,1235520000000000.0],\"showlegend\":false,\"subplot\":\"polar\",\"theta\":[0.0,2.541159579126017,87.66955707734374],\"type\":\"scatterpolar\"}],                        {\"template\":{\"data\":{\"barpolar\":[{\"marker\":{\"line\":{\"color\":\"rgb(17,17,17)\",\"width\":0.5},\"pattern\":{\"fillmode\":\"overlay\",\"size\":10,\"solidity\":0.2}},\"type\":\"barpolar\"}],\"bar\":[{\"error_x\":{\"color\":\"#f2f5fa\"},\"error_y\":{\"color\":\"#f2f5fa\"},\"marker\":{\"line\":{\"color\":\"rgb(17,17,17)\",\"width\":0.5},\"pattern\":{\"fillmode\":\"overlay\",\"size\":10,\"solidity\":0.2}},\"type\":\"bar\"}],\"carpet\":[{\"aaxis\":{\"endlinecolor\":\"#A2B1C6\",\"gridcolor\":\"#506784\",\"linecolor\":\"#506784\",\"minorgridcolor\":\"#506784\",\"startlinecolor\":\"#A2B1C6\"},\"baxis\":{\"endlinecolor\":\"#A2B1C6\",\"gridcolor\":\"#506784\",\"linecolor\":\"#506784\",\"minorgridcolor\":\"#506784\",\"startlinecolor\":\"#A2B1C6\"},\"type\":\"carpet\"}],\"choropleth\":[{\"colorbar\":{\"outlinewidth\":0,\"ticks\":\"\"},\"type\":\"choropleth\"}],\"contourcarpet\":[{\"colorbar\":{\"outlinewidth\":0,\"ticks\":\"\"},\"type\":\"contourcarpet\"}],\"contour\":[{\"colorbar\":{\"outlinewidth\":0,\"ticks\":\"\"},\"colorscale\":[[0.0,\"#0d0887\"],[0.1111111111111111,\"#46039f\"],[0.2222222222222222,\"#7201a8\"],[0.3333333333333333,\"#9c179e\"],[0.4444444444444444,\"#bd3786\"],[0.5555555555555556,\"#d8576b\"],[0.6666666666666666,\"#ed7953\"],[0.7777777777777778,\"#fb9f3a\"],[0.8888888888888888,\"#fdca26\"],[1.0,\"#f0f921\"]],\"type\":\"contour\"}],\"heatmapgl\":[{\"colorbar\":{\"outlinewidth\":0,\"ticks\":\"\"},\"colorscale\":[[0.0,\"#0d0887\"],[0.1111111111111111,\"#46039f\"],[0.2222222222222222,\"#7201a8\"],[0.3333333333333333,\"#9c179e\"],[0.4444444444444444,\"#bd3786\"],[0.5555555555555556,\"#d8576b\"],[0.6666666666666666,\"#ed7953\"],[0.7777777777777778,\"#fb9f3a\"],[0.8888888888888888,\"#fdca26\"],[1.0,\"#f0f921\"]],\"type\":\"heatmapgl\"}],\"heatmap\":[{\"colorbar\":{\"outlinewidth\":0,\"ticks\":\"\"},\"colorscale\":[[0.0,\"#0d0887\"],[0.1111111111111111,\"#46039f\"],[0.2222222222222222,\"#7201a8\"],[0.3333333333333333,\"#9c179e\"],[0.4444444444444444,\"#bd3786\"],[0.5555555555555556,\"#d8576b\"],[0.6666666666666666,\"#ed7953\"],[0.7777777777777778,\"#fb9f3a\"],[0.8888888888888888,\"#fdca26\"],[1.0,\"#f0f921\"]],\"type\":\"heatmap\"}],\"histogram2dcontour\":[{\"colorbar\":{\"outlinewidth\":0,\"ticks\":\"\"},\"colorscale\":[[0.0,\"#0d0887\"],[0.1111111111111111,\"#46039f\"],[0.2222222222222222,\"#7201a8\"],[0.3333333333333333,\"#9c179e\"],[0.4444444444444444,\"#bd3786\"],[0.5555555555555556,\"#d8576b\"],[0.6666666666666666,\"#ed7953\"],[0.7777777777777778,\"#fb9f3a\"],[0.8888888888888888,\"#fdca26\"],[1.0,\"#f0f921\"]],\"type\":\"histogram2dcontour\"}],\"histogram2d\":[{\"colorbar\":{\"outlinewidth\":0,\"ticks\":\"\"},\"colorscale\":[[0.0,\"#0d0887\"],[0.1111111111111111,\"#46039f\"],[0.2222222222222222,\"#7201a8\"],[0.3333333333333333,\"#9c179e\"],[0.4444444444444444,\"#bd3786\"],[0.5555555555555556,\"#d8576b\"],[0.6666666666666666,\"#ed7953\"],[0.7777777777777778,\"#fb9f3a\"],[0.8888888888888888,\"#fdca26\"],[1.0,\"#f0f921\"]],\"type\":\"histogram2d\"}],\"histogram\":[{\"marker\":{\"pattern\":{\"fillmode\":\"overlay\",\"size\":10,\"solidity\":0.2}},\"type\":\"histogram\"}],\"mesh3d\":[{\"colorbar\":{\"outlinewidth\":0,\"ticks\":\"\"},\"type\":\"mesh3d\"}],\"parcoords\":[{\"line\":{\"colorbar\":{\"outlinewidth\":0,\"ticks\":\"\"}},\"type\":\"parcoords\"}],\"pie\":[{\"automargin\":true,\"type\":\"pie\"}],\"scatter3d\":[{\"line\":{\"colorbar\":{\"outlinewidth\":0,\"ticks\":\"\"}},\"marker\":{\"colorbar\":{\"outlinewidth\":0,\"ticks\":\"\"}},\"type\":\"scatter3d\"}],\"scattercarpet\":[{\"marker\":{\"colorbar\":{\"outlinewidth\":0,\"ticks\":\"\"}},\"type\":\"scattercarpet\"}],\"scattergeo\":[{\"marker\":{\"colorbar\":{\"outlinewidth\":0,\"ticks\":\"\"}},\"type\":\"scattergeo\"}],\"scattergl\":[{\"marker\":{\"line\":{\"color\":\"#283442\"}},\"type\":\"scattergl\"}],\"scattermapbox\":[{\"marker\":{\"colorbar\":{\"outlinewidth\":0,\"ticks\":\"\"}},\"type\":\"scattermapbox\"}],\"scatterpolargl\":[{\"marker\":{\"colorbar\":{\"outlinewidth\":0,\"ticks\":\"\"}},\"type\":\"scatterpolargl\"}],\"scatterpolar\":[{\"marker\":{\"colorbar\":{\"outlinewidth\":0,\"ticks\":\"\"}},\"type\":\"scatterpolar\"}],\"scatter\":[{\"marker\":{\"line\":{\"color\":\"#283442\"}},\"type\":\"scatter\"}],\"scatterternary\":[{\"marker\":{\"colorbar\":{\"outlinewidth\":0,\"ticks\":\"\"}},\"type\":\"scatterternary\"}],\"surface\":[{\"colorbar\":{\"outlinewidth\":0,\"ticks\":\"\"},\"colorscale\":[[0.0,\"#0d0887\"],[0.1111111111111111,\"#46039f\"],[0.2222222222222222,\"#7201a8\"],[0.3333333333333333,\"#9c179e\"],[0.4444444444444444,\"#bd3786\"],[0.5555555555555556,\"#d8576b\"],[0.6666666666666666,\"#ed7953\"],[0.7777777777777778,\"#fb9f3a\"],[0.8888888888888888,\"#fdca26\"],[1.0,\"#f0f921\"]],\"type\":\"surface\"}],\"table\":[{\"cells\":{\"fill\":{\"color\":\"#506784\"},\"line\":{\"color\":\"rgb(17,17,17)\"}},\"header\":{\"fill\":{\"color\":\"#2a3f5f\"},\"line\":{\"color\":\"rgb(17,17,17)\"}},\"type\":\"table\"}]},\"layout\":{\"annotationdefaults\":{\"arrowcolor\":\"#f2f5fa\",\"arrowhead\":0,\"arrowwidth\":1},\"autotypenumbers\":\"strict\",\"coloraxis\":{\"colorbar\":{\"outlinewidth\":0,\"ticks\":\"\"}},\"colorscale\":{\"diverging\":[[0,\"#8e0152\"],[0.1,\"#c51b7d\"],[0.2,\"#de77ae\"],[0.3,\"#f1b6da\"],[0.4,\"#fde0ef\"],[0.5,\"#f7f7f7\"],[0.6,\"#e6f5d0\"],[0.7,\"#b8e186\"],[0.8,\"#7fbc41\"],[0.9,\"#4d9221\"],[1,\"#276419\"]],\"sequential\":[[0.0,\"#0d0887\"],[0.1111111111111111,\"#46039f\"],[0.2222222222222222,\"#7201a8\"],[0.3333333333333333,\"#9c179e\"],[0.4444444444444444,\"#bd3786\"],[0.5555555555555556,\"#d8576b\"],[0.6666666666666666,\"#ed7953\"],[0.7777777777777778,\"#fb9f3a\"],[0.8888888888888888,\"#fdca26\"],[1.0,\"#f0f921\"]],\"sequentialminus\":[[0.0,\"#0d0887\"],[0.1111111111111111,\"#46039f\"],[0.2222222222222222,\"#7201a8\"],[0.3333333333333333,\"#9c179e\"],[0.4444444444444444,\"#bd3786\"],[0.5555555555555556,\"#d8576b\"],[0.6666666666666666,\"#ed7953\"],[0.7777777777777778,\"#fb9f3a\"],[0.8888888888888888,\"#fdca26\"],[1.0,\"#f0f921\"]]},\"colorway\":[\"#636efa\",\"#EF553B\",\"#00cc96\",\"#ab63fa\",\"#FFA15A\",\"#19d3f3\",\"#FF6692\",\"#B6E880\",\"#FF97FF\",\"#FECB52\"],\"font\":{\"color\":\"#f2f5fa\"},\"geo\":{\"bgcolor\":\"rgb(17,17,17)\",\"lakecolor\":\"rgb(17,17,17)\",\"landcolor\":\"rgb(17,17,17)\",\"showlakes\":true,\"showland\":true,\"subunitcolor\":\"#506784\"},\"hoverlabel\":{\"align\":\"left\"},\"hovermode\":\"closest\",\"mapbox\":{\"style\":\"dark\"},\"paper_bgcolor\":\"rgb(17,17,17)\",\"plot_bgcolor\":\"rgb(17,17,17)\",\"polar\":{\"angularaxis\":{\"gridcolor\":\"#506784\",\"linecolor\":\"#506784\",\"ticks\":\"\"},\"bgcolor\":\"rgb(17,17,17)\",\"radialaxis\":{\"gridcolor\":\"#506784\",\"linecolor\":\"#506784\",\"ticks\":\"\"}},\"scene\":{\"xaxis\":{\"backgroundcolor\":\"rgb(17,17,17)\",\"gridcolor\":\"#506784\",\"gridwidth\":2,\"linecolor\":\"#506784\",\"showbackground\":true,\"ticks\":\"\",\"zerolinecolor\":\"#C8D4E3\"},\"yaxis\":{\"backgroundcolor\":\"rgb(17,17,17)\",\"gridcolor\":\"#506784\",\"gridwidth\":2,\"linecolor\":\"#506784\",\"showbackground\":true,\"ticks\":\"\",\"zerolinecolor\":\"#C8D4E3\"},\"zaxis\":{\"backgroundcolor\":\"rgb(17,17,17)\",\"gridcolor\":\"#506784\",\"gridwidth\":2,\"linecolor\":\"#506784\",\"showbackground\":true,\"ticks\":\"\",\"zerolinecolor\":\"#C8D4E3\"}},\"shapedefaults\":{\"line\":{\"color\":\"#f2f5fa\"}},\"sliderdefaults\":{\"bgcolor\":\"#C8D4E3\",\"bordercolor\":\"rgb(17,17,17)\",\"borderwidth\":1,\"tickwidth\":0},\"ternary\":{\"aaxis\":{\"gridcolor\":\"#506784\",\"linecolor\":\"#506784\",\"ticks\":\"\"},\"baxis\":{\"gridcolor\":\"#506784\",\"linecolor\":\"#506784\",\"ticks\":\"\"},\"bgcolor\":\"rgb(17,17,17)\",\"caxis\":{\"gridcolor\":\"#506784\",\"linecolor\":\"#506784\",\"ticks\":\"\"}},\"title\":{\"x\":0.05},\"updatemenudefaults\":{\"bgcolor\":\"#506784\",\"borderwidth\":0},\"xaxis\":{\"automargin\":true,\"gridcolor\":\"#283442\",\"linecolor\":\"#506784\",\"ticks\":\"\",\"title\":{\"standoff\":15},\"zerolinecolor\":\"#283442\",\"zerolinewidth\":2},\"yaxis\":{\"automargin\":true,\"gridcolor\":\"#283442\",\"linecolor\":\"#506784\",\"ticks\":\"\",\"title\":{\"standoff\":15},\"zerolinecolor\":\"#283442\",\"zerolinewidth\":2}}},\"polar\":{\"domain\":{\"x\":[0.0,1.0],\"y\":[0.0,1.0]},\"angularaxis\":{\"direction\":\"counterclockwise\",\"rotation\":0}},\"legend\":{\"tracegroupgap\":0},\"margin\":{\"t\":60},\"shapes\":[{\"fillcolor\":\"PaleTurquoise\",\"line\":{\"color\":\"LightSeaGreen\"},\"opacity\":0.5,\"type\":\"circle\",\"x0\":-1235520000000000.0,\"x1\":1235520000000000.0,\"xref\":\"x\",\"y0\":-1235520000000000.0,\"y1\":1235520000000000.0,\"yref\":\"y\"},{\"line\":{\"color\":\"LightSeaGreen\"},\"opacity\":0.5,\"type\":\"circle\",\"x0\":-1286064000000000.0,\"x1\":1286064000000000.0,\"xref\":\"x\",\"y0\":-1286064000000000.0,\"y1\":1286064000000000.0,\"yref\":\"y\"},{\"line\":{\"color\":\"LightSeaGreen\"},\"opacity\":0.5,\"type\":\"circle\",\"x0\":-1336608000000000.0,\"x1\":1336608000000000.0,\"xref\":\"x\",\"y0\":-1336608000000000.0,\"y1\":1336608000000000.0,\"yref\":\"y\"},{\"line\":{\"color\":\"LightSeaGreen\"},\"opacity\":0.5,\"type\":\"circle\",\"x0\":-1387152000000000.0,\"x1\":1387152000000000.0,\"xref\":\"x\",\"y0\":-1387152000000000.0,\"y1\":1387152000000000.0,\"yref\":\"y\"},{\"line\":{\"color\":\"LightSeaGreen\"},\"opacity\":0.5,\"type\":\"circle\",\"x0\":-1437696000000000.0,\"x1\":1437696000000000.0,\"xref\":\"x\",\"y0\":-1437696000000000.0,\"y1\":1437696000000000.0,\"yref\":\"y\"},{\"line\":{\"color\":\"LightSeaGreen\"},\"opacity\":0.5,\"type\":\"circle\",\"x0\":-1488240000000000.0,\"x1\":1488240000000000.0,\"xref\":\"x\",\"y0\":-1488240000000000.0,\"y1\":1488240000000000.0,\"yref\":\"y\"},{\"line\":{\"color\":\"LightSeaGreen\"},\"opacity\":0.5,\"type\":\"circle\",\"x0\":-1538784000000000.0,\"x1\":1538784000000000.0,\"xref\":\"x\",\"y0\":-1538784000000000.0,\"y1\":1538784000000000.0,\"yref\":\"y\"},{\"line\":{\"color\":\"LightSeaGreen\"},\"opacity\":0.5,\"type\":\"circle\",\"x0\":-1589328000000000.0,\"x1\":1589328000000000.0,\"xref\":\"x\",\"y0\":-1589328000000000.0,\"y1\":1589328000000000.0,\"yref\":\"y\"},{\"line\":{\"color\":\"LightSeaGreen\"},\"opacity\":0.5,\"type\":\"circle\",\"x0\":-1639872000000000.0,\"x1\":1639872000000000.0,\"xref\":\"x\",\"y0\":-1639872000000000.0,\"y1\":1639872000000000.0,\"yref\":\"y\"},{\"line\":{\"color\":\"LightSeaGreen\"},\"opacity\":0.5,\"type\":\"circle\",\"x0\":-1690416000000000.0,\"x1\":1690416000000000.0,\"xref\":\"x\",\"y0\":-1690416000000000.0,\"y1\":1690416000000000.0,\"yref\":\"y\"},{\"line\":{\"color\":\"LightSeaGreen\"},\"opacity\":0.5,\"type\":\"circle\",\"x0\":-1740960000000000.0,\"x1\":1740960000000000.0,\"xref\":\"x\",\"y0\":-1740960000000000.0,\"y1\":1740960000000000.0,\"yref\":\"y\"},{\"line\":{\"color\":\"LightSeaGreen\"},\"opacity\":0.5,\"type\":\"circle\",\"x0\":-1791504000000000.0,\"x1\":1791504000000000.0,\"xref\":\"x\",\"y0\":-1791504000000000.0,\"y1\":1791504000000000.0,\"yref\":\"y\"},{\"line\":{\"color\":\"LightSeaGreen\"},\"opacity\":0.5,\"type\":\"circle\",\"x0\":-1842048000000000.0,\"x1\":1842048000000000.0,\"xref\":\"x\",\"y0\":-1842048000000000.0,\"y1\":1842048000000000.0,\"yref\":\"y\"},{\"line\":{\"color\":\"LightSeaGreen\"},\"opacity\":0.5,\"type\":\"circle\",\"x0\":-1892592000000000.0,\"x1\":1892592000000000.0,\"xref\":\"x\",\"y0\":-1892592000000000.0,\"y1\":1892592000000000.0,\"yref\":\"y\"},{\"line\":{\"color\":\"LightSeaGreen\"},\"opacity\":0.5,\"type\":\"circle\",\"x0\":-1943136000000000.0,\"x1\":1943136000000000.0,\"xref\":\"x\",\"y0\":-1943136000000000.0,\"y1\":1943136000000000.0,\"yref\":\"y\"},{\"line\":{\"color\":\"LightSeaGreen\"},\"opacity\":0.5,\"type\":\"circle\",\"x0\":-1993680000000000.0,\"x1\":1993680000000000.0,\"xref\":\"x\",\"y0\":-1993680000000000.0,\"y1\":1993680000000000.0,\"yref\":\"y\"},{\"line\":{\"color\":\"LightSeaGreen\"},\"opacity\":0.5,\"type\":\"circle\",\"x0\":-2044224000000000.0,\"x1\":2044224000000000.0,\"xref\":\"x\",\"y0\":-2044224000000000.0,\"y1\":2044224000000000.0,\"yref\":\"y\"},{\"line\":{\"color\":\"LightSeaGreen\"},\"opacity\":0.5,\"type\":\"circle\",\"x0\":-2094768000000000.0,\"x1\":2094768000000000.0,\"xref\":\"x\",\"y0\":-2094768000000000.0,\"y1\":2094768000000000.0,\"yref\":\"y\"},{\"line\":{\"color\":\"LightSeaGreen\"},\"opacity\":0.5,\"type\":\"circle\",\"x0\":-2145312000000000.0,\"x1\":2145312000000000.0,\"xref\":\"x\",\"y0\":-2145312000000000.0,\"y1\":2145312000000000.0,\"yref\":\"y\"},{\"line\":{\"color\":\"LightSeaGreen\"},\"opacity\":0.5,\"type\":\"circle\",\"x0\":-2195856000000000.0,\"x1\":2195856000000000.0,\"xref\":\"x\",\"y0\":-2195856000000000.0,\"y1\":2195856000000000.0,\"yref\":\"y\"},{\"line\":{\"color\":\"LightSeaGreen\"},\"opacity\":0.5,\"type\":\"circle\",\"x0\":-2246400000000000.0,\"x1\":2246400000000000.0,\"xref\":\"x\",\"y0\":-2246400000000000.0,\"y1\":2246400000000000.0,\"yref\":\"y\"}],\"width\":1000,\"height\":1000},                        {\"responsive\": true}                    ).then(function(){\n",
       "                            \n",
       "var gd = document.getElementById('ae0672b1-9ce2-4818-90bd-36e468891edc');\n",
       "var x = new MutationObserver(function (mutations, observer) {{\n",
       "        var display = window.getComputedStyle(gd).display;\n",
       "        if (!display || display === 'none') {{\n",
       "            console.log([gd, 'removed!']);\n",
       "            Plotly.purge(gd);\n",
       "            observer.disconnect();\n",
       "        }}\n",
       "}});\n",
       "\n",
       "// Listen for the removal of the full notebook cells\n",
       "var notebookContainer = gd.closest('#notebook-container');\n",
       "if (notebookContainer) {{\n",
       "    x.observe(notebookContainer, {childList: true});\n",
       "}}\n",
       "\n",
       "// Listen for the clearing of the current output cell\n",
       "var outputEl = gd.closest('.output');\n",
       "if (outputEl) {{\n",
       "    x.observe(outputEl, {childList: true});\n",
       "}}\n",
       "\n",
       "                        })                };                });            </script>        </div>"
      ]
     },
     "metadata": {},
     "output_type": "display_data"
    }
   ],
   "source": [
    "r = sim.runner.rpacket_tracker[0].r\n",
    "mu = sim.runner.rpacket_tracker[0].mu\n",
    "theta = get_thetas(r,mu)\n",
    "\n",
    "# Converting theta array from radians to degrees\n",
    "theta=(np.array(theta)*180)/(math.pi)\n",
    "\n",
    "# Creating dataframe for r and theta values\n",
    "df = pd.DataFrame(r,columns=['r'])\n",
    "df['theta']=theta\n",
    "\n",
    "# Creating polar diagram\n",
    "fig = px.line_polar(df,r=\"r\",theta=\"theta\",start_angle=0, direction=\"counterclockwise\", markers=True, template=\"plotly_dark\")\n",
    "\n",
    "# Adding photosphere and the shell to the figure\n",
    "for i in range(len(sim.model.radius.value)):\n",
    "    if i==0:\n",
    "        fig.add_shape(type=\"circle\",\n",
    "            xref=\"x\", yref=\"y\",\n",
    "            x0=-1*sim.model.radius.value[i], y0=-1*sim.model.radius.value[i], x1=sim.model.radius.value[i], y1=sim.model.radius.value[i],\n",
    "            line_color=\"LightSeaGreen\",\n",
    "            fillcolor=\"PaleTurquoise\",\n",
    "            opacity=0.5\n",
    "        )\n",
    "    else:\n",
    "        fig.add_shape(type=\"circle\",\n",
    "            xref=\"x\", yref=\"y\",\n",
    "            x0=-1*sim.model.radius.value[i], y0=-1*sim.model.radius.value[i], x1=sim.model.radius.value[i], y1=sim.model.radius.value[i],\n",
    "            line_color=\"LightSeaGreen\",\n",
    "            opacity=0.5\n",
    "        )\n",
    "\n",
    "# Setting layout width\n",
    "fig.update_layout(width=1000, height=1000)\n",
    "\n",
    "fig.show()"
   ]
  }
 ],
 "metadata": {
  "interpreter": {
   "hash": "6890d83cfa6c65bebc4bd449872c06a268510d8b8ae8c923ce6786e6c4796836"
  },
  "kernelspec": {
   "display_name": "Python 3 (ipykernel)",
   "language": "python",
   "name": "python3"
  },
  "language_info": {
   "codemirror_mode": {
    "name": "ipython",
    "version": 3
   },
   "file_extension": ".py",
   "mimetype": "text/x-python",
   "name": "python",
   "nbconvert_exporter": "python",
   "pygments_lexer": "ipython3",
   "version": "3.8.13"
  }
 },
 "nbformat": 4,
 "nbformat_minor": 2
}
