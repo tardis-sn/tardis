{
 "cells": [
  {
   "cell_type": "markdown",
   "metadata": {},
   "source": [
    "### Setting up and running the TARDIS example simulation "
   ]
  },
  {
   "cell_type": "code",
   "execution_count": 2,
   "metadata": {},
   "outputs": [],
   "source": [
    "from tardis.base import run_tardis\n",
    "import matplotlib.pyplot as plt\n",
    "import pandas as pd\n",
    "import numpy as np\n",
    "import logging\n",
    "import time\n",
    "import os"
   ]
  },
  {
   "cell_type": "code",
   "execution_count": 3,
   "metadata": {},
   "outputs": [
    {
     "data": {
      "application/vnd.jupyter.widget-view+json": {
       "model_id": "0205857eaa154ad2bca4ea04802cbb45",
       "version_major": 2,
       "version_minor": 0
      },
      "text/plain": [
       "Tab(children=(Output(layout=Layout(height='300px', overflow_y='auto')), Output(layout=Layout(height='300px', o…"
      ]
     },
     "metadata": {},
     "output_type": "display_data"
    },
    {
     "data": {
      "application/vnd.jupyter.widget-view+json": {
       "model_id": "198191cf6b1b49a1824c271c461af39c",
       "version_major": 2,
       "version_minor": 0
      },
      "text/plain": [
       "Iterations:          0/? [00:00<?, ?it/s]"
      ]
     },
     "metadata": {},
     "output_type": "display_data"
    },
    {
     "data": {
      "application/vnd.jupyter.widget-view+json": {
       "model_id": "efda4a398b3d4a38be23335aee679000",
       "version_major": 2,
       "version_minor": 0
      },
      "text/plain": [
       "Packets:             0/? [00:00<?, ?it/s]"
      ]
     },
     "metadata": {},
     "output_type": "display_data"
    },
    {
     "name": "stderr",
     "output_type": "stream",
     "text": [
      "OMP: Info #276: omp_set_nested routine deprecated, please use omp_set_max_active_levels instead.\n"
     ]
    },
    {
     "data": {
      "application/vnd.jupyter.widget-view+json": {
       "model_id": "96ad185c04b1488c8482f5b64ef6739e",
       "version_major": 2,
       "version_minor": 0
      },
      "text/plain": [
       "TqdmHBox(children=(HTML(value='Iterations:', layout=Layout(width='6%')), FloatProgress(value=0.0, layout=Layou…"
      ]
     },
     "metadata": {},
     "output_type": "display_data"
    },
    {
     "data": {
      "application/vnd.jupyter.widget-view+json": {
       "model_id": "833e115ba342410b8998fab731e9450d",
       "version_major": 2,
       "version_minor": 0
      },
      "text/plain": [
       "TqdmHBox(children=(HTML(value='Packets:   ', layout=Layout(width='6%')), FloatProgress(value=0.0, layout=Layou…"
      ]
     },
     "metadata": {},
     "output_type": "display_data"
    },
    {
     "data": {
      "application/vnd.jupyter.widget-view+json": {
       "model_id": "a5a91f3ab3654f7c90e542d51bf507f1",
       "version_major": 2,
       "version_minor": 0
      },
      "text/plain": [
       "VBox(children=(FigureWidget({\n",
       "    'data': [{'type': 'scatter', 'uid': '37c8e66d-f827-4dbd-8af2-7d2b87798a65', …"
      ]
     },
     "metadata": {},
     "output_type": "display_data"
    }
   ],
   "source": [
    "os.chdir(\"/Users/deekshamohanty/tardis\")  \n",
    "\n",
    "sim = run_tardis(\n",
    "    \"tardis_anderson.yml\",\n",
    "    virtual_packet_logging=False,\n",
    "    show_convergence_plots=True, \n",
    "    export_convergence_plots=False,\n",
    "    log_level=\"INFO\"\n",
    ")\n"
   ]
  },
  {
   "cell_type": "markdown",
   "metadata": {},
   "source": [
    "### Analysis of damped convergence iterations in TARDIS (0.2)"
   ]
  },
  {
   "cell_type": "code",
   "execution_count": 3,
   "metadata": {},
   "outputs": [
    {
     "data": {
      "text/latex": [
       "$[[10952.632,~11065.297,~11146.836,~11168.511,~11162.763,~11173.84,~11125.281,~11103.504,~11057.896,~10982.173,~10916.747,~10853.869,~10797.786,~10741.666,~10657.186,~10579.633,~10512.265,~10442,~10359.229,~10257.681],~\n",
       " [10974.414,~11079.825,~11155.414,~11184.452,~11180.51,~11186.08,~11145.732,~11121.478,~11075.743,~10993.74,~10924.911,~10853.816,~10798.874,~10731.344,~10658.819,~10581.855,~10513.57,~10441.748,~10359.804,~10261.247]] \\; \\mathrm{K}$"
      ],
      "text/plain": [
       "<Quantity [[10952.63231877, 11065.29655507, 11146.8359289 ,\n",
       "            11168.51126187, 11162.76266113, 11173.84014227,\n",
       "            11125.28131485, 11103.5044254 , 11057.89578328,\n",
       "            10982.17284381, 10916.74656888, 10853.86934121,\n",
       "            10797.7863424 , 10741.66583036, 10657.1863048 ,\n",
       "            10579.63315852, 10512.26505999, 10441.9998283 ,\n",
       "            10359.22941609, 10257.68110852],\n",
       "           [10974.413526  , 11079.82475989, 11155.4144222 ,\n",
       "            11184.4515512 , 11180.5101573 , 11186.08014564,\n",
       "            11145.73248128, 11121.47797056, 11075.74310553,\n",
       "            10993.74039084, 10924.91062725, 10853.81618167,\n",
       "            10798.87369014, 10731.34443456, 10658.81913311,\n",
       "            10581.85516831, 10513.56980191, 10441.74819424,\n",
       "            10359.80427222, 10261.24669165]] K>"
      ]
     },
     "execution_count": 3,
     "metadata": {},
     "output_type": "execute_result"
    }
   ],
   "source": [
    "sim.iterations_t_rad[-2:]"
   ]
  },
  {
   "cell_type": "code",
   "execution_count": 4,
   "metadata": {},
   "outputs": [
    {
     "name": "stdout",
     "output_type": "stream",
     "text": [
      "Iteration 19 values: [10952.63231877 11065.29655507 11146.8359289  11168.51126187\n",
      " 11162.76266113 11173.84014227 11125.28131485 11103.5044254\n",
      " 11057.89578328 10982.17284381 10916.74656888 10853.86934121\n",
      " 10797.7863424  10741.66583036 10657.1863048  10579.63315852\n",
      " 10512.26505999 10441.9998283  10359.22941609 10257.68110852] K\n",
      "Iteration 20 values: [10974.413526   11079.82475989 11155.4144222  11184.4515512\n",
      " 11180.5101573  11186.08014564 11145.73248128 11121.47797056\n",
      " 11075.74310553 10993.74039084 10924.91062725 10853.81618167\n",
      " 10798.87369014 10731.34443456 10658.81913311 10581.85516831\n",
      " 10513.56980191 10441.74819424 10359.80427222 10261.24669165] K\n"
     ]
    }
   ],
   "source": [
    "last_two_shells = sim.iterations_t_rad[-2:]\n",
    "\n",
    "for i, iteration in enumerate(last_two_shells, start=19):\n",
    "    print(f\"Iteration {i} values: {iteration}\")"
   ]
  },
  {
   "cell_type": "code",
   "execution_count": 5,
   "metadata": {},
   "outputs": [
    {
     "name": "stdout",
     "output_type": "stream",
     "text": [
      "Percentage differences between last two shells\n",
      "T_rad 0: 0.20%\n",
      "T_rad 1: 0.13%\n",
      "T_rad 2: 0.08%\n",
      "T_rad 3: 0.14%\n",
      "T_rad 4: 0.16%\n",
      "T_rad 5: 0.11%\n",
      "T_rad 6: 0.18%\n",
      "T_rad 7: 0.16%\n",
      "T_rad 8: 0.16%\n",
      "T_rad 9: 0.11%\n",
      "T_rad 10: 0.07%\n",
      "T_rad 11: -0.00%\n",
      "T_rad 12: 0.01%\n",
      "T_rad 13: -0.10%\n",
      "T_rad 14: 0.02%\n",
      "T_rad 15: 0.02%\n",
      "T_rad 16: 0.01%\n",
      "T_rad 17: -0.00%\n",
      "T_rad 18: 0.01%\n",
      "T_rad 19: 0.03%\n"
     ]
    }
   ],
   "source": [
    "differences = last_two_shells[1] - last_two_shells[0]\n",
    "\n",
    "percentage_differences = (differences / last_two_shells[0]) * 100\n",
    "\n",
    "print(\"Percentage differences between last two shells\")\n",
    "for i, percentage_difference in enumerate(percentage_differences):\n",
    "    print(f\"T_rad {i}: {percentage_difference:.2f}%\")\n"
   ]
  },
  {
   "cell_type": "markdown",
   "metadata": {},
   "source": [
    "### Analysis of damped convergence iterations in TARDIS (0.4)"
   ]
  },
  {
   "cell_type": "code",
   "execution_count": 2,
   "metadata": {},
   "outputs": [
    {
     "data": {
      "application/vnd.jupyter.widget-view+json": {
       "model_id": "c949d2c71b8e4519a6a81aeb98b5c267",
       "version_major": 2,
       "version_minor": 0
      },
      "text/plain": [
       "Tab(children=(Output(layout=Layout(height='300px', overflow_y='auto')), Output(layout=Layout(height='300px', o…"
      ]
     },
     "metadata": {},
     "output_type": "display_data"
    },
    {
     "data": {
      "application/vnd.jupyter.widget-view+json": {
       "model_id": "958762d98764479e94b8c21455bb17b5",
       "version_major": 2,
       "version_minor": 0
      },
      "text/plain": [
       "Iterations:          0/? [00:00<?, ?it/s]"
      ]
     },
     "metadata": {},
     "output_type": "display_data"
    },
    {
     "data": {
      "application/vnd.jupyter.widget-view+json": {
       "model_id": "2383cb004dbc4d1b9d0399a7c8d36f72",
       "version_major": 2,
       "version_minor": 0
      },
      "text/plain": [
       "Packets:             0/? [00:00<?, ?it/s]"
      ]
     },
     "metadata": {},
     "output_type": "display_data"
    },
    {
     "name": "stderr",
     "output_type": "stream",
     "text": [
      "OMP: Info #276: omp_set_nested routine deprecated, please use omp_set_max_active_levels instead.\n"
     ]
    },
    {
     "data": {
      "application/vnd.jupyter.widget-view+json": {
       "model_id": "b6eae0b1de93465f9f0e29146e3d16d9",
       "version_major": 2,
       "version_minor": 0
      },
      "text/plain": [
       "TqdmHBox(children=(HTML(value='Iterations:', layout=Layout(width='6%')), FloatProgress(value=0.0, layout=Layou…"
      ]
     },
     "metadata": {},
     "output_type": "display_data"
    },
    {
     "data": {
      "application/vnd.jupyter.widget-view+json": {
       "model_id": "7f7d830f225c40b48359493ced2af76f",
       "version_major": 2,
       "version_minor": 0
      },
      "text/plain": [
       "TqdmHBox(children=(HTML(value='Packets:   ', layout=Layout(width='6%')), FloatProgress(value=0.0, layout=Layou…"
      ]
     },
     "metadata": {},
     "output_type": "display_data"
    },
    {
     "data": {
      "application/vnd.jupyter.widget-view+json": {
       "model_id": "1b4c73cf0f4a4627b0add147dbde4df7",
       "version_major": 2,
       "version_minor": 0
      },
      "text/plain": [
       "VBox(children=(FigureWidget({\n",
       "    'data': [{'type': 'scatter', 'uid': 'a30f7fcc-812d-44bb-bd9c-3ede2a772809', …"
      ]
     },
     "metadata": {},
     "output_type": "display_data"
    }
   ],
   "source": [
    "os.chdir(\"/Users/deekshamohanty/tardis\")  \n",
    "\n",
    "sim = run_tardis(\n",
    "    \"tardis_anderson.yml\",\n",
    "    virtual_packet_logging=False,\n",
    "    show_convergence_plots=True, \n",
    "    export_convergence_plots=False,\n",
    "    log_level=\"INFO\"\n",
    ")"
   ]
  },
  {
   "cell_type": "code",
   "execution_count": 3,
   "metadata": {},
   "outputs": [
    {
     "name": "stdout",
     "output_type": "stream",
     "text": [
      "Percentage differences between last two shells\n",
      "T_rad 0: 0.01%\n",
      "T_rad 1: -0.17%\n",
      "T_rad 2: -0.07%\n",
      "T_rad 3: 0.23%\n",
      "T_rad 4: 0.10%\n",
      "T_rad 5: 0.01%\n",
      "T_rad 6: 0.05%\n",
      "T_rad 7: 0.01%\n",
      "T_rad 8: 0.27%\n",
      "T_rad 9: 0.17%\n",
      "T_rad 10: -0.03%\n",
      "T_rad 11: 0.03%\n",
      "T_rad 12: -0.03%\n",
      "T_rad 13: -0.13%\n",
      "T_rad 14: -0.24%\n",
      "T_rad 15: -0.23%\n",
      "T_rad 16: -0.12%\n",
      "T_rad 17: 0.04%\n",
      "T_rad 18: -0.02%\n",
      "T_rad 19: 0.02%\n"
     ]
    }
   ],
   "source": [
    "last_two_shells = sim.iterations_t_rad[-2:]\n",
    "\n",
    "differences = last_two_shells[1] - last_two_shells[0]\n",
    "\n",
    "percentage_differences = (differences / last_two_shells[0]) * 100\n",
    "\n",
    "print(\"Percentage differences between last two shells\")\n",
    "for i, percentage_difference in enumerate(percentage_differences):\n",
    "    print(f\"T_rad {i}: {percentage_difference:.2f}%\")"
   ]
  },
  {
   "cell_type": "markdown",
   "metadata": {},
   "source": [
    "### damping_constant=0.396"
   ]
  },
  {
   "cell_type": "code",
   "execution_count": 3,
   "metadata": {},
   "outputs": [
    {
     "data": {
      "application/vnd.jupyter.widget-view+json": {
       "model_id": "32621d06000a4e25880aa11044515349",
       "version_major": 2,
       "version_minor": 0
      },
      "text/plain": [
       "Tab(children=(Output(layout=Layout(height='300px', overflow_y='auto')), Output(layout=Layout(height='300px', o…"
      ]
     },
     "metadata": {},
     "output_type": "display_data"
    },
    {
     "data": {
      "application/vnd.jupyter.widget-view+json": {
       "model_id": "0908202c86a241449b64efeb0e920154",
       "version_major": 2,
       "version_minor": 0
      },
      "text/plain": [
       "Iterations:          0/? [00:00<?, ?it/s]"
      ]
     },
     "metadata": {},
     "output_type": "display_data"
    },
    {
     "data": {
      "application/vnd.jupyter.widget-view+json": {
       "model_id": "95f6246e3c904e98b20b10e8cb1bfdbd",
       "version_major": 2,
       "version_minor": 0
      },
      "text/plain": [
       "Packets:             0/? [00:00<?, ?it/s]"
      ]
     },
     "metadata": {},
     "output_type": "display_data"
    },
    {
     "name": "stderr",
     "output_type": "stream",
     "text": [
      "OMP: Info #276: omp_set_nested routine deprecated, please use omp_set_max_active_levels instead.\n"
     ]
    },
    {
     "data": {
      "application/vnd.jupyter.widget-view+json": {
       "model_id": "f3b84d6e4d6d4f849246949f85061d33",
       "version_major": 2,
       "version_minor": 0
      },
      "text/plain": [
       "TqdmHBox(children=(HTML(value='Iterations:', layout=Layout(width='6%')), FloatProgress(value=0.0, layout=Layou…"
      ]
     },
     "metadata": {},
     "output_type": "display_data"
    },
    {
     "data": {
      "application/vnd.jupyter.widget-view+json": {
       "model_id": "5b6c12a016e5426b8e32b2647f440e9b",
       "version_major": 2,
       "version_minor": 0
      },
      "text/plain": [
       "TqdmHBox(children=(HTML(value='Packets:   ', layout=Layout(width='6%')), FloatProgress(value=0.0, layout=Layou…"
      ]
     },
     "metadata": {},
     "output_type": "display_data"
    },
    {
     "data": {
      "application/vnd.jupyter.widget-view+json": {
       "model_id": "fad05a8f484748449a3329cbd6788abe",
       "version_major": 2,
       "version_minor": 0
      },
      "text/plain": [
       "VBox(children=(FigureWidget({\n",
       "    'data': [{'type': 'scatter', 'uid': '43d26906-2e85-454d-b0e9-32e763719c76', …"
      ]
     },
     "metadata": {},
     "output_type": "display_data"
    }
   ],
   "source": [
    "os.chdir(\"/Users/deekshamohanty/tardis\")  \n",
    "\n",
    "sim = run_tardis(\n",
    "    \"tardis_anderson.yml\",\n",
    "    virtual_packet_logging=False,\n",
    "    show_convergence_plots=True, \n",
    "    export_convergence_plots=False,\n",
    "    log_level=\"INFO\"\n",
    ")"
   ]
  },
  {
   "cell_type": "code",
   "execution_count": null,
   "metadata": {},
   "outputs": [],
   "source": [
    "last_two_shells = sim.iterations_t_rad[-2:]\n",
    "\n",
    "differences = last_two_shells[1] - last_two_shells[0]\n",
    "\n",
    "percentage_differences = (differences / last_two_shells[0]) * 100\n",
    "\n",
    "print(\"Percentage differences between last two shells\")\n",
    "for i, percentage_difference in enumerate(percentage_differences):\n",
    "    print(f\"T_rad {i}: {percentage_difference:.2f}%\")"
   ]
  },
  {
   "cell_type": "markdown",
   "metadata": {},
   "source": [
    "### Analysis of damped convergence iterations in TARDIS (0.6)"
   ]
  },
  {
   "cell_type": "code",
   "execution_count": 2,
   "metadata": {},
   "outputs": [
    {
     "data": {
      "application/vnd.jupyter.widget-view+json": {
       "model_id": "e6a2bbf56e634c77a9d21e21f482bd6e",
       "version_major": 2,
       "version_minor": 0
      },
      "text/plain": [
       "Tab(children=(Output(layout=Layout(height='300px', overflow_y='auto')), Output(layout=Layout(height='300px', o…"
      ]
     },
     "metadata": {},
     "output_type": "display_data"
    },
    {
     "data": {
      "application/vnd.jupyter.widget-view+json": {
       "model_id": "3f88443c37ab4ede9b24a39e94969ccc",
       "version_major": 2,
       "version_minor": 0
      },
      "text/plain": [
       "Iterations:          0/? [00:00<?, ?it/s]"
      ]
     },
     "metadata": {},
     "output_type": "display_data"
    },
    {
     "data": {
      "application/vnd.jupyter.widget-view+json": {
       "model_id": "4f86cacdc27e43d494911667f4671db6",
       "version_major": 2,
       "version_minor": 0
      },
      "text/plain": [
       "Packets:             0/? [00:00<?, ?it/s]"
      ]
     },
     "metadata": {},
     "output_type": "display_data"
    },
    {
     "name": "stderr",
     "output_type": "stream",
     "text": [
      "OMP: Info #276: omp_set_nested routine deprecated, please use omp_set_max_active_levels instead.\n"
     ]
    },
    {
     "data": {
      "application/vnd.jupyter.widget-view+json": {
       "model_id": "d9545a6c6c64418e838cb4bf174632ca",
       "version_major": 2,
       "version_minor": 0
      },
      "text/plain": [
       "TqdmHBox(children=(HTML(value='Iterations:', layout=Layout(width='6%')), FloatProgress(value=0.0, layout=Layou…"
      ]
     },
     "metadata": {},
     "output_type": "display_data"
    },
    {
     "data": {
      "application/vnd.jupyter.widget-view+json": {
       "model_id": "e59434c0485c4d99bf41b951d78e752d",
       "version_major": 2,
       "version_minor": 0
      },
      "text/plain": [
       "TqdmHBox(children=(HTML(value='Packets:   ', layout=Layout(width='6%')), FloatProgress(value=0.0, layout=Layou…"
      ]
     },
     "metadata": {},
     "output_type": "display_data"
    },
    {
     "data": {
      "application/vnd.jupyter.widget-view+json": {
       "model_id": "33d17119baa54b86a109cccd90932c5a",
       "version_major": 2,
       "version_minor": 0
      },
      "text/plain": [
       "VBox(children=(FigureWidget({\n",
       "    'data': [{'type': 'scatter', 'uid': '9fd7a044-c95c-4b15-8e01-8506c23617e3', …"
      ]
     },
     "metadata": {},
     "output_type": "display_data"
    }
   ],
   "source": [
    "os.chdir(\"/Users/deekshamohanty/tardis\")  \n",
    "\n",
    "sim = run_tardis(\n",
    "    \"tardis_anderson.yml\",\n",
    "    virtual_packet_logging=False,\n",
    "    show_convergence_plots=True, \n",
    "    export_convergence_plots=False,\n",
    "    log_level=\"INFO\"\n",
    ")"
   ]
  },
  {
   "cell_type": "code",
   "execution_count": 3,
   "metadata": {},
   "outputs": [
    {
     "name": "stdout",
     "output_type": "stream",
     "text": [
      "Percentage differences between last two shells\n",
      "T_rad 0: 0.11%\n",
      "T_rad 1: -0.19%\n",
      "T_rad 2: -0.08%\n",
      "T_rad 3: 0.31%\n",
      "T_rad 4: 0.29%\n",
      "T_rad 5: 0.13%\n",
      "T_rad 6: 0.51%\n",
      "T_rad 7: 0.13%\n",
      "T_rad 8: 0.10%\n",
      "T_rad 9: 0.03%\n",
      "T_rad 10: -0.18%\n",
      "T_rad 11: -0.32%\n",
      "T_rad 12: -0.42%\n",
      "T_rad 13: -0.30%\n",
      "T_rad 14: -0.34%\n",
      "T_rad 15: -0.18%\n",
      "T_rad 16: -0.24%\n",
      "T_rad 17: 0.07%\n",
      "T_rad 18: -0.06%\n",
      "T_rad 19: -0.16%\n"
     ]
    }
   ],
   "source": [
    "last_two_shells = sim.iterations_t_rad[-2:]\n",
    "\n",
    "differences = last_two_shells[1] - last_two_shells[0]\n",
    "\n",
    "percentage_differences = (differences / last_two_shells[0]) * 100\n",
    "\n",
    "print(\"Percentage differences between last two shells\")\n",
    "for i, percentage_difference in enumerate(percentage_differences):\n",
    "    print(f\"T_rad {i}: {percentage_difference:.2f}%\")"
   ]
  },
  {
   "cell_type": "markdown",
   "metadata": {},
   "source": [
    "### Analysis of damped convergence iterations in TARDIS (0.5)"
   ]
  },
  {
   "cell_type": "code",
   "execution_count": 2,
   "metadata": {},
   "outputs": [
    {
     "data": {
      "application/vnd.jupyter.widget-view+json": {
       "model_id": "aa303a886f144b4fbb0ab0b124b8409f",
       "version_major": 2,
       "version_minor": 0
      },
      "text/plain": [
       "Tab(children=(Output(layout=Layout(height='300px', overflow_y='auto')), Output(layout=Layout(height='300px', o…"
      ]
     },
     "metadata": {},
     "output_type": "display_data"
    },
    {
     "data": {
      "application/vnd.jupyter.widget-view+json": {
       "model_id": "1df2905d2b6247e0abf3b0cb8bd912d6",
       "version_major": 2,
       "version_minor": 0
      },
      "text/plain": [
       "Iterations:          0/? [00:00<?, ?it/s]"
      ]
     },
     "metadata": {},
     "output_type": "display_data"
    },
    {
     "data": {
      "application/vnd.jupyter.widget-view+json": {
       "model_id": "b2e685f64e98430396e7bda5d63fcda6",
       "version_major": 2,
       "version_minor": 0
      },
      "text/plain": [
       "Packets:             0/? [00:00<?, ?it/s]"
      ]
     },
     "metadata": {},
     "output_type": "display_data"
    },
    {
     "name": "stderr",
     "output_type": "stream",
     "text": [
      "OMP: Info #276: omp_set_nested routine deprecated, please use omp_set_max_active_levels instead.\n"
     ]
    },
    {
     "data": {
      "application/vnd.jupyter.widget-view+json": {
       "model_id": "16607f8d0261412a815e1a6e3e5d5e6f",
       "version_major": 2,
       "version_minor": 0
      },
      "text/plain": [
       "TqdmHBox(children=(HTML(value='Iterations:', layout=Layout(width='6%')), FloatProgress(value=0.0, layout=Layou…"
      ]
     },
     "metadata": {},
     "output_type": "display_data"
    },
    {
     "data": {
      "application/vnd.jupyter.widget-view+json": {
       "model_id": "964a2bf8b68a4af9b8e2c5416cd674b6",
       "version_major": 2,
       "version_minor": 0
      },
      "text/plain": [
       "TqdmHBox(children=(HTML(value='Packets:   ', layout=Layout(width='6%')), FloatProgress(value=0.0, layout=Layou…"
      ]
     },
     "metadata": {},
     "output_type": "display_data"
    },
    {
     "data": {
      "application/vnd.jupyter.widget-view+json": {
       "model_id": "1fd4d357ba12450ab2eec9c3205de512",
       "version_major": 2,
       "version_minor": 0
      },
      "text/plain": [
       "VBox(children=(FigureWidget({\n",
       "    'data': [{'type': 'scatter', 'uid': 'c8b48cd8-638a-44c5-9fa6-1552032cf38a', …"
      ]
     },
     "metadata": {},
     "output_type": "display_data"
    }
   ],
   "source": [
    "os.chdir(\"/Users/deekshamohanty/tardis\")  \n",
    "\n",
    "sim = run_tardis(\n",
    "    \"tardis_anderson.yml\",\n",
    "    virtual_packet_logging=False,\n",
    "    show_convergence_plots=True, \n",
    "    export_convergence_plots=False,\n",
    "    log_level=\"INFO\"\n",
    ")"
   ]
  },
  {
   "cell_type": "code",
   "execution_count": 5,
   "metadata": {},
   "outputs": [
    {
     "name": "stdout",
     "output_type": "stream",
     "text": [
      "Percentage differences between last two shells\n",
      "T_rad 0: 0.13%\n",
      "T_rad 1: -0.14%\n",
      "T_rad 2: 0.06%\n",
      "T_rad 3: -0.01%\n",
      "T_rad 4: 0.04%\n",
      "T_rad 5: -0.10%\n",
      "T_rad 6: 0.17%\n",
      "T_rad 7: 0.02%\n",
      "T_rad 8: -0.12%\n",
      "T_rad 9: -0.11%\n",
      "T_rad 10: 0.06%\n",
      "T_rad 11: -0.09%\n",
      "T_rad 12: 0.11%\n",
      "T_rad 13: -0.28%\n",
      "T_rad 14: -0.23%\n",
      "T_rad 15: -0.09%\n",
      "T_rad 16: -0.37%\n",
      "T_rad 17: -0.29%\n",
      "T_rad 18: -0.24%\n",
      "T_rad 19: -0.30%\n"
     ]
    }
   ],
   "source": [
    "last_two_shells = sim.iterations_t_rad[-2:]\n",
    "\n",
    "differences = last_two_shells[1] - last_two_shells[0]\n",
    "\n",
    "percentage_differences = (differences / last_two_shells[0]) * 100\n",
    "\n",
    "print(\"Percentage differences between last two shells\")\n",
    "for i, percentage_difference in enumerate(percentage_differences):\n",
    "    print(f\"T_rad {i}: {percentage_difference:.2f}%\")"
   ]
  },
  {
   "cell_type": "markdown",
   "metadata": {},
   "source": [
    "### Analysis of damped convergence iterations in TARDIS (0.25)"
   ]
  },
  {
   "cell_type": "code",
   "execution_count": 6,
   "metadata": {},
   "outputs": [
    {
     "data": {
      "application/vnd.jupyter.widget-view+json": {
       "model_id": "ae7ea6d9d02a4cc78621df4a29767958",
       "version_major": 2,
       "version_minor": 0
      },
      "text/plain": [
       "TqdmHBox(children=(HTML(value='Iterations:', layout=Layout(width='6%')), FloatProgress(value=0.0, layout=Layou…"
      ]
     },
     "metadata": {},
     "output_type": "display_data"
    },
    {
     "data": {
      "application/vnd.jupyter.widget-view+json": {
       "model_id": "b99f871794f54f938ce6a70350ee3eed",
       "version_major": 2,
       "version_minor": 0
      },
      "text/plain": [
       "TqdmHBox(children=(HTML(value='Packets:   ', layout=Layout(width='6%')), FloatProgress(value=0.0, layout=Layou…"
      ]
     },
     "metadata": {},
     "output_type": "display_data"
    },
    {
     "data": {
      "application/vnd.jupyter.widget-view+json": {
       "model_id": "127f29faa9d748d19d0cf1af2c00d658",
       "version_major": 2,
       "version_minor": 0
      },
      "text/plain": [
       "VBox(children=(FigureWidget({\n",
       "    'data': [{'type': 'scatter', 'uid': 'bc7066d1-2bb6-4ab9-a39e-e65dd1230c1b', …"
      ]
     },
     "metadata": {},
     "output_type": "display_data"
    }
   ],
   "source": [
    "os.chdir(\"/Users/deekshamohanty/tardis\")  \n",
    "\n",
    "sim = run_tardis(\n",
    "    \"tardis_anderson.yml\",\n",
    "    virtual_packet_logging=False,\n",
    "    show_convergence_plots=True, \n",
    "    export_convergence_plots=False,\n",
    "    log_level=\"INFO\"\n",
    ")"
   ]
  },
  {
   "cell_type": "code",
   "execution_count": 7,
   "metadata": {},
   "outputs": [
    {
     "name": "stdout",
     "output_type": "stream",
     "text": [
      "Percentage differences between last two shells\n",
      "T_rad 0: 0.12%\n",
      "T_rad 1: 0.07%\n",
      "T_rad 2: 0.05%\n",
      "T_rad 3: 0.07%\n",
      "T_rad 4: 0.10%\n",
      "T_rad 5: 0.11%\n",
      "T_rad 6: 0.25%\n",
      "T_rad 7: 0.23%\n",
      "T_rad 8: 0.23%\n",
      "T_rad 9: 0.12%\n",
      "T_rad 10: 0.05%\n",
      "T_rad 11: -0.09%\n",
      "T_rad 12: -0.04%\n",
      "T_rad 13: -0.11%\n",
      "T_rad 14: -0.01%\n",
      "T_rad 15: -0.00%\n",
      "T_rad 16: -0.01%\n",
      "T_rad 17: 0.09%\n",
      "T_rad 18: 0.01%\n",
      "T_rad 19: -0.05%\n"
     ]
    }
   ],
   "source": [
    "last_two_shells = sim.iterations_t_rad[-2:]\n",
    "\n",
    "differences = last_two_shells[1] - last_two_shells[0]\n",
    "\n",
    "percentage_differences = (differences / last_two_shells[0]) * 100\n",
    "\n",
    "print(\"Percentage differences between last two shells\")\n",
    "for i, percentage_difference in enumerate(percentage_differences):\n",
    "    print(f\"T_rad {i}: {percentage_difference:.2f}%\")"
   ]
  },
  {
   "cell_type": "markdown",
   "metadata": {},
   "source": [
    "### Analysis of damped convergence iterations in TARDIS (0.45)"
   ]
  },
  {
   "cell_type": "code",
   "execution_count": 6,
   "metadata": {},
   "outputs": [
    {
     "data": {
      "application/vnd.jupyter.widget-view+json": {
       "model_id": "06a2c6460dab465a9cb8147f6a397dc5",
       "version_major": 2,
       "version_minor": 0
      },
      "text/plain": [
       "TqdmHBox(children=(HTML(value='Iterations:', layout=Layout(width='6%')), FloatProgress(value=0.0, layout=Layou…"
      ]
     },
     "metadata": {},
     "output_type": "display_data"
    },
    {
     "data": {
      "application/vnd.jupyter.widget-view+json": {
       "model_id": "94cf6cbeed034aeeae1accb03af87496",
       "version_major": 2,
       "version_minor": 0
      },
      "text/plain": [
       "TqdmHBox(children=(HTML(value='Packets:   ', layout=Layout(width='6%')), FloatProgress(value=0.0, layout=Layou…"
      ]
     },
     "metadata": {},
     "output_type": "display_data"
    },
    {
     "data": {
      "application/vnd.jupyter.widget-view+json": {
       "model_id": "c887490aa65a4d13bafd69a7445a0905",
       "version_major": 2,
       "version_minor": 0
      },
      "text/plain": [
       "VBox(children=(FigureWidget({\n",
       "    'data': [{'type': 'scatter', 'uid': '1dc380cc-f7a1-4def-95f4-2f5979793966', …"
      ]
     },
     "metadata": {},
     "output_type": "display_data"
    }
   ],
   "source": [
    "os.chdir(\"/Users/deekshamohanty/tardis\")  \n",
    "\n",
    "sim = run_tardis(\n",
    "    \"tardis_anderson.yml\",\n",
    "    virtual_packet_logging=False,\n",
    "    show_convergence_plots=True, \n",
    "    export_convergence_plots=False,\n",
    "    log_level=\"INFO\"\n",
    ")"
   ]
  },
  {
   "cell_type": "code",
   "execution_count": 7,
   "metadata": {},
   "outputs": [
    {
     "name": "stdout",
     "output_type": "stream",
     "text": [
      "Percentage differences between last two shells\n",
      "T_rad 0: 0.06%\n",
      "T_rad 1: -0.18%\n",
      "T_rad 2: -0.07%\n",
      "T_rad 3: 0.12%\n",
      "T_rad 4: 0.04%\n",
      "T_rad 5: -0.00%\n",
      "T_rad 6: 0.09%\n",
      "T_rad 7: -0.08%\n",
      "T_rad 8: -0.12%\n",
      "T_rad 9: 0.05%\n",
      "T_rad 10: -0.13%\n",
      "T_rad 11: -0.30%\n",
      "T_rad 12: -0.17%\n",
      "T_rad 13: -0.24%\n",
      "T_rad 14: -0.17%\n",
      "T_rad 15: -0.20%\n",
      "T_rad 16: -0.31%\n",
      "T_rad 17: -0.16%\n",
      "T_rad 18: -0.26%\n",
      "T_rad 19: -0.29%\n"
     ]
    }
   ],
   "source": [
    "last_two_shells = sim.iterations_t_rad[-2:]\n",
    "\n",
    "differences = last_two_shells[1] - last_two_shells[0]\n",
    "\n",
    "percentage_differences = (differences / last_two_shells[0]) * 100\n",
    "\n",
    "print(\"Percentage differences between last two shells\")\n",
    "for i, percentage_difference in enumerate(percentage_differences):\n",
    "    print(f\"T_rad {i}: {percentage_difference:.2f}%\")"
   ]
  },
  {
   "cell_type": "markdown",
   "metadata": {},
   "source": [
    "### Undamped convergence plots in TARDIS when we set damping_factor to 1.0"
   ]
  },
  {
   "cell_type": "code",
   "execution_count": 2,
   "metadata": {},
   "outputs": [
    {
     "data": {
      "application/vnd.jupyter.widget-view+json": {
       "model_id": "f9099735e75244c7a4810c193897ed13",
       "version_major": 2,
       "version_minor": 0
      },
      "text/plain": [
       "Tab(children=(Output(layout=Layout(height='300px', overflow_y='auto')), Output(layout=Layout(height='300px', o…"
      ]
     },
     "metadata": {},
     "output_type": "display_data"
    },
    {
     "data": {
      "application/vnd.jupyter.widget-view+json": {
       "model_id": "299eab8867404ad6bef3d99e2367a9e8",
       "version_major": 2,
       "version_minor": 0
      },
      "text/plain": [
       "Iterations:          0/? [00:00<?, ?it/s]"
      ]
     },
     "metadata": {},
     "output_type": "display_data"
    },
    {
     "data": {
      "application/vnd.jupyter.widget-view+json": {
       "model_id": "94f7b6a8e22644d59577983f6a67e96d",
       "version_major": 2,
       "version_minor": 0
      },
      "text/plain": [
       "Packets:             0/? [00:00<?, ?it/s]"
      ]
     },
     "metadata": {},
     "output_type": "display_data"
    },
    {
     "name": "stderr",
     "output_type": "stream",
     "text": [
      "OMP: Info #276: omp_set_nested routine deprecated, please use omp_set_max_active_levels instead.\n"
     ]
    },
    {
     "data": {
      "application/vnd.jupyter.widget-view+json": {
       "model_id": "32c71e40300d4d188beb0d6f724d7383",
       "version_major": 2,
       "version_minor": 0
      },
      "text/plain": [
       "TqdmHBox(children=(HTML(value='Iterations:', layout=Layout(width='6%')), FloatProgress(value=0.0, layout=Layou…"
      ]
     },
     "metadata": {},
     "output_type": "display_data"
    },
    {
     "data": {
      "application/vnd.jupyter.widget-view+json": {
       "model_id": "c464d3e0c1054126afb03813a6380f02",
       "version_major": 2,
       "version_minor": 0
      },
      "text/plain": [
       "TqdmHBox(children=(HTML(value='Packets:   ', layout=Layout(width='6%')), FloatProgress(value=0.0, layout=Layou…"
      ]
     },
     "metadata": {},
     "output_type": "display_data"
    },
    {
     "data": {
      "application/vnd.jupyter.widget-view+json": {
       "model_id": "101b443ed7c44df884100a2963d1982c",
       "version_major": 2,
       "version_minor": 0
      },
      "text/plain": [
       "VBox(children=(FigureWidget({\n",
       "    'data': [{'type': 'scatter', 'uid': '2ee8496f-2406-4431-99ce-deba8e691eb6', …"
      ]
     },
     "metadata": {},
     "output_type": "display_data"
    }
   ],
   "source": [
    "#plt.rcParams['text.usetex'] = True\n",
    "#plt.rcParams['font.family'] = 'serif'\n",
    "\n",
    "os.chdir(\"/Users/deekshamohanty/tardis\") \n",
    "\n",
    "sim = run_tardis(\n",
    "    \"tardis_anderson.yml\",\n",
    "    virtual_packet_logging=False,\n",
    "    show_convergence_plots=True,\n",
    "    export_convergence_plots=False,\n",
    "    log_level=\"INFO\"\n",
    ")"
   ]
  },
  {
   "cell_type": "code",
   "execution_count": 3,
   "metadata": {},
   "outputs": [
    {
     "name": "stdout",
     "output_type": "stream",
     "text": [
      "Iteration 19 values: [11444.94537561 11607.53080072 11736.38794021 11767.62629371\n",
      " 11726.46767424 11745.07650199 11720.10281735 11664.04363817\n",
      " 11593.99527497 11532.16070069 11462.6778666  11328.26221745\n",
      " 11298.11073554 11269.61067451 11199.15466931 11117.75602505\n",
      " 10998.60002668 10867.17107014 10759.70220032 10688.11229821] K\n",
      "Iteration 20 values: [10748.90193246 10927.8200971  10998.79113624 11102.00007216\n",
      " 11124.69397086 11092.36545454 11109.20982059 11044.60079839\n",
      " 11009.33979842 10974.32538709 10875.99873239 10711.88616652\n",
      " 10639.11200499 10577.49595765 10546.67237506 10491.73931947\n",
      " 10362.76140891 10233.36943785 10157.74597418 10052.60841091] K\n"
     ]
    }
   ],
   "source": [
    "sim.iterations_t_rad[-2:]\n",
    "\n",
    "\n",
    "last_two_iterations = sim.iterations_t_rad[-2:]\n",
    "\n",
    "for i, iteration in enumerate(last_two_iterations, start=19):\n",
    "    print(f\"Iteration {i} values: {iteration}\")\n",
    "\n"
   ]
  },
  {
   "cell_type": "code",
   "execution_count": 4,
   "metadata": {},
   "outputs": [
    {
     "name": "stdout",
     "output_type": "stream",
     "text": [
      "Percentage differences between Iteration 20 and 19:\n",
      "Element 0: -6.08%\n",
      "Element 1: -5.86%\n",
      "Element 2: -6.28%\n",
      "Element 3: -5.66%\n",
      "Element 4: -5.13%\n",
      "Element 5: -5.56%\n",
      "Element 6: -5.21%\n",
      "Element 7: -5.31%\n",
      "Element 8: -5.04%\n",
      "Element 9: -4.84%\n",
      "Element 10: -5.12%\n",
      "Element 11: -5.44%\n",
      "Element 12: -5.83%\n",
      "Element 13: -6.14%\n",
      "Element 14: -5.83%\n",
      "Element 15: -5.63%\n",
      "Element 16: -5.78%\n",
      "Element 17: -5.83%\n",
      "Element 18: -5.59%\n",
      "Element 19: -5.95%\n"
     ]
    }
   ],
   "source": [
    "differences = last_two_iterations[1] - last_two_iterations[0]\n",
    "\n",
    "percentage_differences = (differences / last_two_iterations[0]) * 100\n",
    "\n",
    "print(\"Percentage differences between Iteration 20 and 19:\")\n",
    "for i, percentage_difference in enumerate(percentage_differences):\n",
    "    print(f\"Element {i}: {percentage_difference:.2f}%\")"
   ]
  },
  {
   "cell_type": "markdown",
   "metadata": {},
   "source": [
    "### Undamped convergence plots in TARDIS when we set damping_factor to 0, change value->estimated_value (now it works)"
   ]
  },
  {
   "cell_type": "markdown",
   "metadata": {},
   "source": []
  },
  {
   "cell_type": "code",
   "execution_count": 2,
   "metadata": {},
   "outputs": [
    {
     "data": {
      "application/vnd.jupyter.widget-view+json": {
       "model_id": "492c4b3cd91b437083d655b001dd4dde",
       "version_major": 2,
       "version_minor": 0
      },
      "text/plain": [
       "Tab(children=(Output(layout=Layout(height='300px', overflow_y='auto')), Output(layout=Layout(height='300px', o…"
      ]
     },
     "metadata": {},
     "output_type": "display_data"
    },
    {
     "data": {
      "application/vnd.jupyter.widget-view+json": {
       "model_id": "e3c3ae3aa2194169b5d6806c18084dd2",
       "version_major": 2,
       "version_minor": 0
      },
      "text/plain": [
       "Iterations:          0/? [00:00<?, ?it/s]"
      ]
     },
     "metadata": {},
     "output_type": "display_data"
    },
    {
     "data": {
      "application/vnd.jupyter.widget-view+json": {
       "model_id": "fe463d4737394af185c24cce3b9bb040",
       "version_major": 2,
       "version_minor": 0
      },
      "text/plain": [
       "Packets:             0/? [00:00<?, ?it/s]"
      ]
     },
     "metadata": {},
     "output_type": "display_data"
    },
    {
     "name": "stderr",
     "output_type": "stream",
     "text": [
      "OMP: Info #276: omp_set_nested routine deprecated, please use omp_set_max_active_levels instead.\n"
     ]
    },
    {
     "data": {
      "application/vnd.jupyter.widget-view+json": {
       "model_id": "6caf34141d9c47c1a970105f3b900f70",
       "version_major": 2,
       "version_minor": 0
      },
      "text/plain": [
       "TqdmHBox(children=(HTML(value='Iterations:', layout=Layout(width='6%')), FloatProgress(value=0.0, layout=Layou…"
      ]
     },
     "metadata": {},
     "output_type": "display_data"
    },
    {
     "data": {
      "application/vnd.jupyter.widget-view+json": {
       "model_id": "9c0b7533892e4501b2f5d2cb2a0ef7d2",
       "version_major": 2,
       "version_minor": 0
      },
      "text/plain": [
       "TqdmHBox(children=(HTML(value='Packets:   ', layout=Layout(width='6%')), FloatProgress(value=0.0, layout=Layou…"
      ]
     },
     "metadata": {},
     "output_type": "display_data"
    },
    {
     "data": {
      "application/vnd.jupyter.widget-view+json": {
       "model_id": "32b84907986943f1b67cdc57c9b3f075",
       "version_major": 2,
       "version_minor": 0
      },
      "text/plain": [
       "VBox(children=(FigureWidget({\n",
       "    'data': [{'type': 'scatter', 'uid': '569fcd00-e5e3-458e-a9ad-636ff6896b22', …"
      ]
     },
     "metadata": {},
     "output_type": "display_data"
    }
   ],
   "source": [
    "os.chdir(\"/Users/deekshamohanty/tardis\") \n",
    "\n",
    "sim = run_tardis(\n",
    "    \"tardis_anderson.yml\",\n",
    "    virtual_packet_logging=False,\n",
    "    show_convergence_plots=True,\n",
    "    export_convergence_plots=False,\n",
    "    log_level=\"INFO\"\n",
    ")"
   ]
  },
  {
   "cell_type": "code",
   "execution_count": 3,
   "metadata": {},
   "outputs": [
    {
     "name": "stdout",
     "output_type": "stream",
     "text": [
      "Iteration 19 values: [11444.94537561 11607.53080072 11736.38794021 11767.62629371\n",
      " 11726.46767424 11745.07650199 11720.10281735 11664.04363817\n",
      " 11593.99527497 11532.16070069 11462.6778666  11328.26221745\n",
      " 11298.11073554 11269.61067451 11199.15466931 11117.75602505\n",
      " 10998.60002668 10867.17107014 10759.70220032 10688.11229821] K\n",
      "Iteration 20 values: [10748.90193246 10927.8200971  10998.79113624 11102.00007216\n",
      " 11124.69397086 11092.36545454 11109.20982059 11044.60079839\n",
      " 11009.33979842 10974.32538709 10875.99873239 10711.88616652\n",
      " 10639.11200499 10577.49595765 10546.67237506 10491.73931947\n",
      " 10362.76140891 10233.36943785 10157.74597418 10052.60841091] K\n"
     ]
    }
   ],
   "source": [
    "sim.iterations_t_rad[-2:]\n",
    "\n",
    "\n",
    "last_two_iterations = sim.iterations_t_rad[-2:]\n",
    "\n",
    "for i, iteration in enumerate(last_two_iterations, start=19):\n",
    "    print(f\"Iteration {i} values: {iteration}\")"
   ]
  },
  {
   "cell_type": "code",
   "execution_count": 4,
   "metadata": {},
   "outputs": [
    {
     "name": "stdout",
     "output_type": "stream",
     "text": [
      "Percentage differences between Iteration 20 and 19:\n",
      "Element 0: -6.08%\n",
      "Element 1: -5.86%\n",
      "Element 2: -6.28%\n",
      "Element 3: -5.66%\n",
      "Element 4: -5.13%\n",
      "Element 5: -5.56%\n",
      "Element 6: -5.21%\n",
      "Element 7: -5.31%\n",
      "Element 8: -5.04%\n",
      "Element 9: -4.84%\n",
      "Element 10: -5.12%\n",
      "Element 11: -5.44%\n",
      "Element 12: -5.83%\n",
      "Element 13: -6.14%\n",
      "Element 14: -5.83%\n",
      "Element 15: -5.63%\n",
      "Element 16: -5.78%\n",
      "Element 17: -5.83%\n",
      "Element 18: -5.59%\n",
      "Element 19: -5.95%\n"
     ]
    }
   ],
   "source": [
    "differences = last_two_iterations[1] - last_two_iterations[0]\n",
    "\n",
    "percentage_differences = (differences / last_two_iterations[0]) * 100\n",
    "\n",
    "print(\"Percentage differences between Iteration 20 and 19:\")\n",
    "for i, percentage_difference in enumerate(percentage_differences):\n",
    "    print(f\"Element {i}: {percentage_difference:.2f}%\")"
   ]
  },
  {
   "cell_type": "markdown",
   "metadata": {},
   "source": [
    "### Applying Anderson Acceleration to TARDIS"
   ]
  },
  {
   "cell_type": "code",
   "execution_count": 2,
   "metadata": {},
   "outputs": [
    {
     "data": {
      "application/vnd.jupyter.widget-view+json": {
       "model_id": "47a96055de534bab8f121fcd80fd296b",
       "version_major": 2,
       "version_minor": 0
      },
      "text/plain": [
       "Tab(children=(Output(layout=Layout(height='300px', overflow_y='auto')), Output(layout=Layout(height='300px', o…"
      ]
     },
     "metadata": {},
     "output_type": "display_data"
    },
    {
     "data": {
      "application/vnd.jupyter.widget-view+json": {
       "model_id": "c9f64fc8185f4020ab47b0ca2cb05990",
       "version_major": 2,
       "version_minor": 0
      },
      "text/plain": [
       "Iterations:          0/? [00:00<?, ?it/s]"
      ]
     },
     "metadata": {},
     "output_type": "display_data"
    },
    {
     "data": {
      "application/vnd.jupyter.widget-view+json": {
       "model_id": "4aeec0e8f7784c13aab559215804d447",
       "version_major": 2,
       "version_minor": 0
      },
      "text/plain": [
       "Packets:             0/? [00:00<?, ?it/s]"
      ]
     },
     "metadata": {},
     "output_type": "display_data"
    },
    {
     "name": "stderr",
     "output_type": "stream",
     "text": [
      "OMP: Info #276: omp_set_nested routine deprecated, please use omp_set_max_active_levels instead.\n"
     ]
    },
    {
     "data": {
      "application/vnd.jupyter.widget-view+json": {
       "model_id": "0df9d6dd06ac4bae86be5f7661193c71",
       "version_major": 2,
       "version_minor": 0
      },
      "text/plain": [
       "TqdmHBox(children=(HTML(value='Iterations:', layout=Layout(width='6%')), FloatProgress(value=0.0, layout=Layou…"
      ]
     },
     "metadata": {},
     "output_type": "display_data"
    },
    {
     "data": {
      "application/vnd.jupyter.widget-view+json": {
       "model_id": "8eb90eeb9ac448658cffe777712a68c6",
       "version_major": 2,
       "version_minor": 0
      },
      "text/plain": [
       "TqdmHBox(children=(HTML(value='Packets:   ', layout=Layout(width='6%')), FloatProgress(value=0.0, layout=Layou…"
      ]
     },
     "metadata": {},
     "output_type": "display_data"
    },
    {
     "data": {
      "application/vnd.jupyter.widget-view+json": {
       "model_id": "e16a1f67c1054d22abcb334aaeeea274",
       "version_major": 2,
       "version_minor": 0
      },
      "text/plain": [
       "VBox(children=(FigureWidget({\n",
       "    'data': [{'type': 'scatter', 'uid': '0fd12d79-9dcd-490d-9ac8-56a2266734ca', …"
      ]
     },
     "metadata": {},
     "output_type": "display_data"
    }
   ],
   "source": [
    "os.chdir(\"/Users/deekshamohanty/tardis\") \n",
    "\n",
    "sim = run_tardis(\n",
    "    \"tardis_anderson.yml\",\n",
    "    virtual_packet_logging=False,\n",
    "    show_convergence_plots=True,\n",
    "    export_convergence_plots=False,\n",
    "    log_level=\"INFO\"\n",
    ")"
   ]
  },
  {
   "cell_type": "markdown",
   "metadata": {},
   "source": [
    "### Applying TARDIS convergence method to cos(x)"
   ]
  },
  {
   "cell_type": "code",
   "execution_count": null,
   "metadata": {},
   "outputs": [
    {
     "name": "stderr",
     "output_type": "stream",
     "text": [
      "INFO:__main__:\n",
      "\tConverged in 9 iterations \n",
      "\tSimulation took 0.000167 s\n",
      "\n"
     ]
    },
    {
     "name": "stdout",
     "output_type": "stream",
     "text": [
      "Converged value: 0.739085071363885 after 8 iterations\n"
     ]
    },
    {
     "data": {
      "image/png": "[encoded data removed]",
      "text/plain": [
       "<Figure size 640x480 with 1 Axes>"
      ]
     },
     "metadata": {},
     "output_type": "display_data"
    }
   ],
   "source": [
    "logging.basicConfig(level=logging.INFO)\n",
    "logger = logging.getLogger(__name__)\n",
    "\n",
    "# Defining the control function (cos(x))\n",
    "def control_function(x):\n",
    "    return np.cos(x)\n",
    "\n",
    "# Defining the damped convergence function\n",
    "def damped_converge(value, estimated_value, damping_factor):\n",
    "    return value + damping_factor * (estimated_value - value)\n",
    "\n",
    "# Checking the convergence status\n",
    "def check_convergence_status(x, estimated_x, threshold):\n",
    "    convergence_value = abs(x - estimated_x) / abs(estimated_x)\n",
    "    return convergence_value < threshold\n",
    "\n",
    "# Example of running the convergence check on cos(x)\n",
    "def run_convergence(x0, damping_factor=0.5, threshold=1e-6, max_iterations=100):\n",
    "    start_time = time.perf_counter()  # Starting timing\n",
    "    iterations = 0\n",
    "    x_values = [x0]  # Storing initial guess values\n",
    "    while iterations < max_iterations:\n",
    "        estimated_x = control_function(x0)\n",
    "        if check_convergence_status(x0, estimated_x, threshold):\n",
    "            end_time = time.perf_counter()  # End timing\n",
    "            logger.info(f\"\\n\\tConverged in {iterations+1} iterations \"\n",
    "                        f\"\\n\\tSimulation took {(end_time - start_time):.6f} s\\n\")\n",
    "            return estimated_x, x_values, iterations\n",
    "        x0 = damped_converge(x0, estimated_x, damping_factor)\n",
    "        x_values.append(x0)  # Storing each new value of x\n",
    "        iterations += 1\n",
    "    end_time = time.perf_counter()  # Ending timing\n",
    "    logger.info(f\"\\n\\tDid not converge in {iterations} iterations \"\n",
    "                f\"\\n\\tSimulation took {(end_time - start_time):.6f} s\\n\")\n",
    "    return estimated_x, x_values, iterations\n",
    "\n",
    "# Initial guess\n",
    "x0 = 1.0\n",
    "\n",
    "# Running the convergence check and printing results \n",
    "converged_value, x_values, iterations = run_convergence(x0)\n",
    "print(f'Converged value: {converged_value} after {iterations} iterations')\n",
    "\n",
    "# Plotting the convergence process\n",
    "iterations_range = np.arange(len(x_values))\n",
    "plt.plot(iterations_range, x_values, marker='o', label='Damped Fixed Point Iteration')\n",
    "plt.axhline(y=converged_value, color='r', linestyle='--', label='Converged Value')\n",
    "plt.xlabel('Iteration')\n",
    "plt.ylabel('Value of x')\n",
    "plt.title('Convergence of Damped Fixed-Point Iteration')\n",
    "plt.legend()\n",
    "plt.grid(True)\n",
    "plt.show()\n"
   ]
  },
  {
   "cell_type": "markdown",
   "metadata": {},
   "source": [
    "### Undamped convergence for cos(x)"
   ]
  },
  {
   "cell_type": "code",
   "execution_count": null,
   "metadata": {},
   "outputs": [
    {
     "name": "stdout",
     "output_type": "stream",
     "text": [
      "Converged in 34 iterations.\n",
      "Convergence took 0.006329 seconds.\n",
      "Fixed point: 0.7390848229131413\n"
     ]
    },
    {
     "data": {
      "image/png": "[encoded data removed]",
      "text/plain": [
       "<Figure size 640x480 with 1 Axes>"
      ]
     },
     "metadata": {},
     "output_type": "display_data"
    }
   ],
   "source": [
    "def fixed_point_iteration(q, x0, tol=1e-6, max_iter=1000):\n",
    "    start_time = time.perf_counter()  # Starting timing\n",
    "    x = x0\n",
    "    for i in range(max_iter):\n",
    "        x_new = q(x)\n",
    "        if np.abs(x_new - x) < tol:\n",
    "            end_time = time.perf_counter()  # Ending timing\n",
    "            print(f\"Converged in {i+1} iterations.\")\n",
    "            print(f\"Convergence took {(end_time - start_time):.6f} seconds.\")\n",
    "            return x_new\n",
    "        x = x_new\n",
    "    end_time = time.perf_counter() \n",
    "    print(\"Did not converge.\")\n",
    "    print(f\"Total time taken: {(end_time - start_time):.6f} seconds.\")\n",
    "    return x\n",
    "\n",
    "def control_function(x):\n",
    "    return np.cos(x)\n",
    "\n",
    "x0 = 0.5  # Initial guess\n",
    "result = fixed_point_iteration(control_function, x0)\n",
    "print(f\"Fixed point: {result}\")\n",
    "\n",
    "# Collecting the values to plot\n",
    "x = x0\n",
    "vals = []\n",
    "for i in range(50):\n",
    "    x = np.cos(x)\n",
    "    vals.append(x)\n",
    "\n",
    "# Plottingn the values\n",
    "plt.figure()\n",
    "plt.plot(vals, marker='o', markersize=3)\n",
    "plt.title('Convergence of Undamped Fixed-Point Iteration')\n",
    "plt.xlabel('Iteration')\n",
    "plt.ylabel('cos(x)')\n",
    "plt.grid(True)\n",
    "plt.show()\n"
   ]
  },
  {
   "cell_type": "markdown",
   "metadata": {},
   "source": [
    "### Anderson acceleration implementation"
   ]
  },
  {
   "cell_type": "code",
   "execution_count": null,
   "metadata": {},
   "outputs": [
    {
     "name": "stdout",
     "output_type": "stream",
     "text": [
      "Converged in 34 iterations.\n",
      "Convergence took 0.003145 seconds.\n",
      "Fixed point: 0.7390848229131413\n"
     ]
    },
    {
     "data": {
      "image/png": "[encoded data removed]",
      "text/plain": [
       "<Figure size 640x480 with 1 Axes>"
      ]
     },
     "metadata": {},
     "output_type": "display_data"
    }
   ],
   "source": [
    "def anderson_acceleration(f, x0, m=5, tol=1e-6, max_iter=100):\n",
    "    start_time = time.perf_counter()  # Starting timing\n",
    "    x = [x0]  # List to store iterates\n",
    "    g = [f(x0) - x0]  # List to store residuals\n",
    "\n",
    "    for k in range(1, max_iter + 1):\n",
    "        x_new = f(x[-1])\n",
    "        g_new = x_new - x[-1]\n",
    "\n",
    "        if np.abs(g_new) < tol:\n",
    "            end_time = time.perf_counter()  # Ending timing\n",
    "            print(f\"Converged in {k} iterations.\")\n",
    "            print(f\"Convergence took {(end_time - start_time):.6f} seconds.\")\n",
    "            return x_new\n",
    "\n",
    "        x.append(x_new)\n",
    "        g.append(g_new)\n",
    "\n",
    "        if k > 1:\n",
    "            G_k = np.column_stack([g[i] - g[i - 1] for i in range(max(0, k - m), k)])\n",
    "            X_k = np.column_stack([x[i] - x[i - 1] for i in range(max(0, k - m), k)])\n",
    "\n",
    "            # Ensure g_new and g are column vectors for matrix operations\n",
    "            g_new = np.array(g_new).reshape(-1, 1)\n",
    "\n",
    "            # Solve the least squares problem\n",
    "            try:\n",
    "                Q, R = np.linalg.qr(G_k)\n",
    "                gamma_k = np.linalg.solve(R, Q.T @ g_new)\n",
    "                x_accel = x[-1] - (X_k @ gamma_k + G_k @ gamma_k).flatten()\n",
    "                x[-1] = x_accel\n",
    "                g[-1] = f(x_accel) - x_accel\n",
    "            except np.linalg.LinAlgError:\n",
    "                pass\n",
    "\n",
    "    end_time = time.perf_counter() \n",
    "    print(\"Did not converge.\")\n",
    "    print(f\"Total time taken: {(end_time - start_time):.6f} seconds.\")\n",
    "    return x[-1]\n",
    "\n",
    "def control_function(x):\n",
    "    return np.cos(x)\n",
    "\n",
    "x0 = 0.5  # initial guess\n",
    "result = anderson_acceleration(control_function, x0)\n",
    "print(f\"Fixed point: {result}\")\n",
    "\n",
    "# Collecting the values to plot\n",
    "x_vals = [x0]\n",
    "x = x0\n",
    "for _ in range(50):\n",
    "    x = np.cos(x)\n",
    "    x_vals.append(x)\n",
    "\n",
    "# Plotting the values\n",
    "plt.figure()\n",
    "plt.plot(x_vals, marker='o')\n",
    "plt.title('Convergence of Anderson-Accelerated Fixed-Point Iteration')\n",
    "plt.xlabel('Iteration')\n",
    "plt.ylabel('cos(x)')\n",
    "plt.grid(True)\n",
    "plt.show()\n"
   ]
  },
  {
   "cell_type": "markdown",
   "metadata": {},
   "source": [
    "### Compare"
   ]
  },
  {
   "cell_type": "code",
   "execution_count": null,
   "metadata": {},
   "outputs": [
    {
     "name": "stdout",
     "output_type": "stream",
     "text": [
      "Anderson Acceleration converged in 11 iterations.\n",
      "Anderson Acceleration took 0.002159 seconds.\n",
      "Fixed point (Anderson): 2.0134438112396547\n",
      "Fixed Point Iteration converged in 11 iterations.\n",
      "Fixed Point Iteration took 0.000042 seconds.\n",
      "Fixed point (Fixed Point Iteration): 2.0134438112396547\n",
      "Anderson Acceleration Time: 0.002159 seconds for 11 iterations\n",
      "Fixed Point Iteration Time: 0.000042 seconds for 11 iterations\n"
     ]
    }
   ],
   "source": [
    "def anderson_acceleration(f, x0, m=3, tol=1e-6, max_iter=100):\n",
    "    start_time = time.perf_counter()  # Start timing\n",
    "    x = [x0]  # List to store iterates\n",
    "    g = [f(x0) - x0]  # List to store residuals\n",
    "\n",
    "    G_k = np.zeros((1, 0))\n",
    "    X_k = np.zeros((1, 0))\n",
    "\n",
    "    for k in range(1, max_iter + 1):\n",
    "        x_new = f(x[-1])\n",
    "        g_new = x_new - x[-1]\n",
    "\n",
    "        if np.abs(g_new) < tol:\n",
    "            end_time = time.perf_counter()  # End timing\n",
    "            print(f\"Anderson Acceleration converged in {k} iterations.\")\n",
    "            print(f\"Anderson Acceleration took {(end_time - start_time):.6f} seconds.\")\n",
    "            return x_new, (end_time - start_time), k\n",
    "\n",
    "        x.append(x_new)\n",
    "        g.append(g_new)\n",
    "\n",
    "        g_new = np.array([[g_new]])  # Reshape to (1,1)\n",
    "        x_new = np.array([[x_new]])  # Reshape to (1,1)\n",
    "\n",
    "        if k == 1:\n",
    "            G_k = g_new - np.array([[g[-2]]])\n",
    "            X_k = x_new - np.array([[x[-2]]])\n",
    "        else:\n",
    "            G_k = np.hstack((G_k, g_new - np.array([[g[-2]]])))\n",
    "            X_k = np.hstack((X_k, x_new - np.array([[x[-2]]])))\n",
    "\n",
    "        # Use only the last m values\n",
    "        if G_k.shape[1] > m:\n",
    "            G_k = G_k[:, -m:]\n",
    "            X_k = G_k[:, -m:]\n",
    "\n",
    "        # Solve the least squares problem\n",
    "        try:\n",
    "            Q, R = np.linalg.qr(G_k)\n",
    "            gamma_k = np.linalg.solve(R, Q.T @ g_new.T).flatten()\n",
    "            x_accel = x[-1] + g[-1] - (X_k @ gamma_k + G_k @ gamma_k)\n",
    "            x[-1] = x_accel\n",
    "            g[-1] = f(x_accel) - x_accel\n",
    "        except np.linalg.LinAlgError:\n",
    "            pass\n",
    "\n",
    "    end_time = time.perf_counter()  # End timing\n",
    "    print(\"Anderson Acceleration did not converge.\")\n",
    "    print(f\"Total time taken: {(end_time - start_time):.6f} seconds.\")\n",
    "    return x[-1], (end_time - start_time), k\n",
    "\n",
    "def fixed_point_iteration(q, x0, tol=1e-6, max_iter=1000):\n",
    "    start_time = time.perf_counter()  # Start timing\n",
    "    x = x0\n",
    "    for i in range(max_iter):\n",
    "        x_new = q(x)\n",
    "        if np.abs(x_new - x) < tol:\n",
    "            end_time = time.perf_counter()  # End timing\n",
    "            print(f\"Fixed Point Iteration converged in {i+1} iterations.\")\n",
    "            print(f\"Fixed Point Iteration took {(end_time - start_time):.6f} seconds.\")\n",
    "            return x_new, (end_time - start_time), i + 1\n",
    "        x = x_new\n",
    "    end_time = time.perf_counter()  # End timing\n",
    "    print(\"Fixed Point Iteration did not converge.\")\n",
    "    print(f\"Total time taken: {(end_time - start_time):.6f} seconds.\")\n",
    "    return x, (end_time - start_time), max_iter\n",
    "\n",
    "def control_function(x):\n",
    "    return np.sin(x) + np.arctan(x)\n",
    "\n",
    "# Initial guess\n",
    "x0 = 0.5\n",
    "\n",
    "# Running Anderson Acceleration\n",
    "result_anderson, time_anderson, iterations_anderson = anderson_acceleration(control_function, x0)\n",
    "print(f\"Fixed point (Anderson): {result_anderson}\")\n",
    "\n",
    "# Running Fixed Point Iteration\n",
    "result_fixed_point, time_fixed_point, iterations_fixed_point = fixed_point_iteration(control_function, x0)\n",
    "print(f\"Fixed point (Fixed Point Iteration): {result_fixed_point}\")\n",
    "\n",
    "# Compare times\n",
    "print(f\"Anderson Acceleration Time: {time_anderson:.6f} seconds for {iterations_anderson} iterations\")\n",
    "print(f\"Fixed Point Iteration Time: {time_fixed_point:.6f} seconds for {iterations_fixed_point} iterations\")\n",
    "\n",
    "# Collecting the values to plot\n",
    "x = x0\n",
    "vals = []\n",
    "for _ in range(50):\n",
    "    x = np.cos(x)\n",
    "    vals.append(x)\n"
   ]
  }
 ],
 "metadata": {
  "kernelspec": {
   "display_name": "tardis",
   "language": "python",
   "name": "python3"
  },
  "language_info": {
   "codemirror_mode": {
    "name": "ipython",
    "version": 3
   },
   "file_extension": ".py",
   "mimetype": "text/x-python",
   "name": "python",
   "nbconvert_exporter": "python",
   "pygments_lexer": "ipython3",
   "version": "3.11.5"
  }
 },
 "nbformat": 4,
 "nbformat_minor": 2
}
