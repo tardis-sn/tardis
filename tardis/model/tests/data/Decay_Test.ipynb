{
 "cells": [
  {
   "cell_type": "markdown",
   "metadata": {},
   "source": [
    "# Decay Test\n",
    "\n",
    "In this notebook, we will go through a nuclear decay test by hand to test the TARDIS decay calculation from pyne and the TARDIS model loader for the CSVY model type."
   ]
  },
  {
   "cell_type": "code",
   "execution_count": 1,
   "metadata": {},
   "outputs": [
    {
     "name": "stderr",
     "output_type": "stream",
     "text": [
      "/Users/marcwilliamson/miniconda3/envs/tardis/lib/python3.6/importlib/_bootstrap.py:219: QAWarning: pyne.data is not yet QA compliant.\n",
      "  return f(*args, **kwds)\n"
     ]
    }
   ],
   "source": [
    "import numpy as np\n",
    "import astropy.units as u\n",
    "\n",
    "from tardis.io.config_reader import Configuration\n",
    "from tardis.model import Radial1DModel"
   ]
  },
  {
   "cell_type": "markdown",
   "metadata": {},
   "source": [
    "## Load the csvy model"
   ]
  },
  {
   "cell_type": "code",
   "execution_count": 2,
   "metadata": {},
   "outputs": [],
   "source": [
    "tardis_config = Configuration.from_yaml('config_csvy_full.yml')"
   ]
  },
  {
   "cell_type": "code",
   "execution_count": 3,
   "metadata": {},
   "outputs": [],
   "source": [
    "csvy_model = Radial1DModel.from_csvy(tardis_config)"
   ]
  },
  {
   "cell_type": "markdown",
   "metadata": {},
   "source": [
    "### First we inspect the raw abundance and isotope_abundances specified by the user. This does not include decay."
   ]
  },
  {
   "cell_type": "code",
   "execution_count": 4,
   "metadata": {},
   "outputs": [
    {
     "data": {
      "text/html": [
       "<div>\n",
       "<style scoped>\n",
       "    .dataframe tbody tr th:only-of-type {\n",
       "        vertical-align: middle;\n",
       "    }\n",
       "\n",
       "    .dataframe tbody tr th {\n",
       "        vertical-align: top;\n",
       "    }\n",
       "\n",
       "    .dataframe thead th {\n",
       "        text-align: right;\n",
       "    }\n",
       "</style>\n",
       "<table border=\"1\" class=\"dataframe\">\n",
       "  <thead>\n",
       "    <tr style=\"text-align: right;\">\n",
       "      <th></th>\n",
       "      <th>0</th>\n",
       "      <th>1</th>\n",
       "    </tr>\n",
       "    <tr>\n",
       "      <th>atomic_number</th>\n",
       "      <th></th>\n",
       "      <th></th>\n",
       "    </tr>\n",
       "  </thead>\n",
       "  <tbody>\n",
       "    <tr>\n",
       "      <th>1</th>\n",
       "      <td>0.00</td>\n",
       "      <td>0.40</td>\n",
       "    </tr>\n",
       "    <tr>\n",
       "      <th>2</th>\n",
       "      <td>0.99</td>\n",
       "      <td>0.58</td>\n",
       "    </tr>\n",
       "  </tbody>\n",
       "</table>\n",
       "</div>"
      ],
      "text/plain": [
       "                  0     1\n",
       "atomic_number            \n",
       "1              0.00  0.40\n",
       "2              0.99  0.58"
      ]
     },
     "execution_count": 4,
     "metadata": {},
     "output_type": "execute_result"
    }
   ],
   "source": [
    "csvy_model.raw_abundance"
   ]
  },
  {
   "cell_type": "code",
   "execution_count": 5,
   "metadata": {},
   "outputs": [
    {
     "data": {
      "text/html": [
       "<div>\n",
       "<style scoped>\n",
       "    .dataframe tbody tr th:only-of-type {\n",
       "        vertical-align: middle;\n",
       "    }\n",
       "\n",
       "    .dataframe tbody tr th {\n",
       "        vertical-align: top;\n",
       "    }\n",
       "\n",
       "    .dataframe thead th {\n",
       "        text-align: right;\n",
       "    }\n",
       "</style>\n",
       "<table border=\"1\" class=\"dataframe\">\n",
       "  <thead>\n",
       "    <tr style=\"text-align: right;\">\n",
       "      <th></th>\n",
       "      <th></th>\n",
       "      <th>0</th>\n",
       "      <th>1</th>\n",
       "    </tr>\n",
       "    <tr>\n",
       "      <th>atomic_number</th>\n",
       "      <th>mass_number</th>\n",
       "      <th></th>\n",
       "      <th></th>\n",
       "    </tr>\n",
       "  </thead>\n",
       "  <tbody>\n",
       "    <tr>\n",
       "      <th>28</th>\n",
       "      <th>56</th>\n",
       "      <td>0.01</td>\n",
       "      <td>0.02</td>\n",
       "    </tr>\n",
       "  </tbody>\n",
       "</table>\n",
       "</div>"
      ],
      "text/plain": [
       "                              0     1\n",
       "atomic_number mass_number            \n",
       "28            56           0.01  0.02"
      ]
     },
     "execution_count": 5,
     "metadata": {},
     "output_type": "execute_result"
    }
   ],
   "source": [
    "csvy_model.raw_isotope_abundance"
   ]
  },
  {
   "cell_type": "markdown",
   "metadata": {},
   "source": [
    "### Now we inspect the calculated abundance including decay. Note below that the time of explosion is 16 days and the isotope abundances were defined at day 0."
   ]
  },
  {
   "cell_type": "code",
   "execution_count": 6,
   "metadata": {},
   "outputs": [
    {
     "data": {
      "text/latex": [
       "$16 \\; \\mathrm{d}$"
      ],
      "text/plain": [
       "<Quantity 16. d>"
      ]
     },
     "execution_count": 6,
     "metadata": {},
     "output_type": "execute_result"
    }
   ],
   "source": [
    "csvy_model.time_explosion.to('day')"
   ]
  },
  {
   "cell_type": "code",
   "execution_count": 7,
   "metadata": {},
   "outputs": [
    {
     "data": {
      "text/html": [
       "<div>\n",
       "<style scoped>\n",
       "    .dataframe tbody tr th:only-of-type {\n",
       "        vertical-align: middle;\n",
       "    }\n",
       "\n",
       "    .dataframe tbody tr th {\n",
       "        vertical-align: top;\n",
       "    }\n",
       "\n",
       "    .dataframe thead th {\n",
       "        text-align: right;\n",
       "    }\n",
       "</style>\n",
       "<table border=\"1\" class=\"dataframe\">\n",
       "  <thead>\n",
       "    <tr style=\"text-align: right;\">\n",
       "      <th></th>\n",
       "      <th>0</th>\n",
       "      <th>1</th>\n",
       "    </tr>\n",
       "    <tr>\n",
       "      <th>atomic_number</th>\n",
       "      <th></th>\n",
       "      <th></th>\n",
       "    </tr>\n",
       "  </thead>\n",
       "  <tbody>\n",
       "    <tr>\n",
       "      <th>1</th>\n",
       "      <td>0.000000</td>\n",
       "      <td>0.400000</td>\n",
       "    </tr>\n",
       "    <tr>\n",
       "      <th>2</th>\n",
       "      <td>0.990000</td>\n",
       "      <td>0.580000</td>\n",
       "    </tr>\n",
       "    <tr>\n",
       "      <th>26</th>\n",
       "      <td>0.000736</td>\n",
       "      <td>0.001471</td>\n",
       "    </tr>\n",
       "    <tr>\n",
       "      <th>27</th>\n",
       "      <td>0.007653</td>\n",
       "      <td>0.015306</td>\n",
       "    </tr>\n",
       "    <tr>\n",
       "      <th>28</th>\n",
       "      <td>0.001611</td>\n",
       "      <td>0.003223</td>\n",
       "    </tr>\n",
       "  </tbody>\n",
       "</table>\n",
       "</div>"
      ],
      "text/plain": [
       "                      0         1\n",
       "atomic_number                    \n",
       "1              0.000000  0.400000\n",
       "2              0.990000  0.580000\n",
       "26             0.000736  0.001471\n",
       "27             0.007653  0.015306\n",
       "28             0.001611  0.003223"
      ]
     },
     "execution_count": 7,
     "metadata": {},
     "output_type": "execute_result"
    }
   ],
   "source": [
    "csvy_model.abundance"
   ]
  },
  {
   "cell_type": "markdown",
   "metadata": {},
   "source": [
    "## Nuclear Decay\n",
    "\n",
    "In general, the differential equations determining nuclear decay are complex, but there are equations called the Bateman Equations that handle the calculation.  Please see the Pyne documentation (https://pyne.io/theorymanual/decay.html) and this dissertation for more detailed discussion (https://apps.dtic.mil/dtic/tr/fulltext/u2/a469273.pdf).\n",
    "\n",
    "For the current example, we have a very simple case of nuclear decay for the chain $^{56}Ni\\rightarrow^{56}Co\\rightarrow^{56}Fe$ without any branching. Let us use the following definitions:\n",
    "\n",
    "$N1$ is the Nickel abundance at time $t$\n",
    "\n",
    "$N2$ is the Cobalt abundance at time $t$\n",
    "\n",
    "For this example, since $^{56}Fe$ is stable, we will say that the Fe abundance is equal to $N1(0)-N1(t)-N2(t)$.\n",
    "\n",
    "\n",
    "\n",
    "The Bateman Equation for this simple example tells us...\n",
    "\n",
    "$N1(t=N1(0)e^{-\\lambda_{1}t}$\n",
    "\n",
    "and...\n",
    "\n",
    "$N2(t)=\\lambda_{1}N1(0)\\left[\\frac{e^(-\\lambda_{1}t)}{(\\lambda_{2}-\\lambda_{1})} + \\frac{e^{-\\lambda_{2}t}}{(\\lambda_{1}-\\lambda_{2})}\\right]$"
   ]
  },
  {
   "cell_type": "code",
   "execution_count": 8,
   "metadata": {},
   "outputs": [],
   "source": [
    "Ni_halflife = 6.075 * u.d\n",
    "Co_halflife = 77.233 * u.d\n",
    "\n",
    "lambda_Ni = np.log(2)/Ni_halflife\n",
    "lambda_Co = np.log(2)/Co_halflife\n",
    "\n",
    "\n",
    "def N1(t, N0, lambda1):\n",
    "    return N0*np.exp(-lambda1*t)\n",
    "\n",
    "def N2(t, N1_0, lambda_1, lambda_2):\n",
    "    return lambda_1*N1_0*(np.exp(-lambda_1*t)/(lambda_2-lambda_1) +\n",
    "                          np.exp(-lambda_2*t)/(lambda_1-lambda_2))"
   ]
  },
  {
   "cell_type": "code",
   "execution_count": 9,
   "metadata": {},
   "outputs": [
    {
     "data": {
      "text/latex": [
       "$0.0016112532 \\; \\mathrm{}$"
      ],
      "text/plain": [
       "<Quantity 0.00161125>"
      ]
     },
     "execution_count": 9,
     "metadata": {},
     "output_type": "execute_result"
    }
   ],
   "source": [
    "# This should be the Ni abundance in the first shell of the\n",
    "# CSVY model after decay.\n",
    "N1(16*u.d, 0.01, lambda_Ni)"
   ]
  },
  {
   "cell_type": "code",
   "execution_count": 10,
   "metadata": {},
   "outputs": [
    {
     "data": {
      "text/latex": [
       "$0.0076531009 \\; \\mathrm{}$"
      ],
      "text/plain": [
       "<Quantity 0.0076531>"
      ]
     },
     "execution_count": 10,
     "metadata": {},
     "output_type": "execute_result"
    }
   ],
   "source": [
    "# This should be the Co abundance in the first shell of the\n",
    "# CSVY model after decay.\n",
    "N2(16*u.d, 0.01, lambda_Ni, lambda_Co)"
   ]
  },
  {
   "cell_type": "code",
   "execution_count": 11,
   "metadata": {},
   "outputs": [
    {
     "data": {
      "text/latex": [
       "$0.00073564592 \\; \\mathrm{}$"
      ],
      "text/plain": [
       "<Quantity 0.00073565>"
      ]
     },
     "execution_count": 11,
     "metadata": {},
     "output_type": "execute_result"
    }
   ],
   "source": [
    "# This should be the Fe abundance in the first shell of the \n",
    "# CSVY model after decay.\n",
    ".01-N1(16*u.d, 0.01, lambda_Ni)-N2(16*u.d, 0.01, lambda_Ni, lambda_Co)"
   ]
  }
 ],
 "metadata": {
  "kernelspec": {
   "display_name": "Python 3",
   "language": "python",
   "name": "python3"
  },
  "language_info": {
   "codemirror_mode": {
    "name": "ipython",
    "version": 3
   },
   "file_extension": ".py",
   "mimetype": "text/x-python",
   "name": "python",
   "nbconvert_exporter": "python",
   "pygments_lexer": "ipython3",
   "version": "3.6.10"
  },
  "toc": {
   "base_numbering": 1,
   "nav_menu": {},
   "number_sections": true,
   "sideBar": true,
   "skip_h1_title": false,
   "title_cell": "Table of Contents",
   "title_sidebar": "Contents",
   "toc_cell": false,
   "toc_position": {},
   "toc_section_display": true,
   "toc_window_display": true
  }
 },
 "nbformat": 4,
 "nbformat_minor": 2
}
