{
 "cells": [
  {
   "cell_type": "code",
   "execution_count": 1,
   "metadata": {},
   "outputs": [
    {
     "data": {
      "application/vnd.jupyter.widget-view+json": {
       "model_id": "",
       "version_major": 2,
       "version_minor": 0
      },
      "text/plain": [
       "Iterations:          0/? [00:00<?, ?it/s]"
      ]
     },
     "metadata": {},
     "output_type": "display_data"
    },
    {
     "data": {
      "application/vnd.jupyter.widget-view+json": {
       "model_id": "",
       "version_major": 2,
       "version_minor": 0
      },
      "text/plain": [
       "Packets:             0/? [00:00<?, ?it/s]"
      ]
     },
     "metadata": {},
     "output_type": "display_data"
    }
   ],
   "source": [
    "from tardis.io.config_reader import Configuration\n",
    "from tardis.simulation import Simulation\n",
    "from tardis.plasma.standard_plasmas import assemble_plasma\n",
    "from tardis.model import Radial1DModel\n",
    "from tardis.io.atom_data import AtomData\n",
    "from tardis.analysis import LastLineInteraction\n",
    "from tardis.util.base import int_to_roman\n",
    "import plotly.graph_objects as go\n",
    "import numpy as np\n",
    "import pandas as pd\n",
    "import matplotlib\n",
    "import matplotlib.pyplot as plt\n",
    "from tardis.io.config_internal import get_data_dir\n",
    "from astropy import units as u\n",
    "import plotly.io as pio\n",
    "pio.renderers.default='notebook'\n",
    "import os"
   ]
  },
  {
   "cell_type": "code",
   "execution_count": 2,
   "metadata": {},
   "outputs": [
    {
     "name": "stderr",
     "output_type": "stream",
     "text": [
      "Abundances have not been normalized to 1. - normalizing\n",
      "Zeta_data missing - replaced with 1s. Missing ions: [(12, 13), (14, 15), (16, 17), (18, 19), (20, 21)]\n",
      "/Users/archil/Documents/tardis_ayushi/tardis/plasma/properties/radiative_properties.py:93: RuntimeWarning:\n",
      "\n",
      "divide by zero encountered in true_divide\n",
      "\n",
      "/Users/archil/Documents/tardis_ayushi/tardis/plasma/properties/radiative_properties.py:93: RuntimeWarning:\n",
      "\n",
      "invalid value encountered in true_divide\n",
      "\n",
      "OMP: Info #276: omp_set_nested routine deprecated, please use omp_set_max_active_levels instead.\n",
      "Zeta_data missing - replaced with 1s. Missing ions: [(12, 13), (14, 15), (16, 17), (18, 19), (20, 21)]\n",
      "/Users/archil/Documents/tardis_ayushi/tardis/plasma/properties/radiative_properties.py:93: RuntimeWarning:\n",
      "\n",
      "divide by zero encountered in true_divide\n",
      "\n",
      "/Users/archil/Documents/tardis_ayushi/tardis/plasma/properties/radiative_properties.py:93: RuntimeWarning:\n",
      "\n",
      "invalid value encountered in true_divide\n",
      "\n"
     ]
    },
    {
     "data": {
      "application/vnd.jupyter.widget-view+json": {
       "model_id": "c8d3a4b254d842e7b1cd508a3c4888c1",
       "version_major": 2,
       "version_minor": 0
      },
      "text/plain": [
       "TqdmHBox(children=(HTML(value='Iterations:', layout=Layout(width='6%')), FloatProgress(value=0.0, layout=Layou…"
      ]
     },
     "metadata": {},
     "output_type": "display_data"
    },
    {
     "data": {
      "application/vnd.jupyter.widget-view+json": {
       "model_id": "8cba27ac90ef4227a38b43a56c0d39eb",
       "version_major": 2,
       "version_minor": 0
      },
      "text/plain": [
       "TqdmHBox(children=(HTML(value='Packets:   ', layout=Layout(width='6%')), FloatProgress(value=0.0, layout=Layou…"
      ]
     },
     "metadata": {},
     "output_type": "display_data"
    },
    {
     "data": {
      "text/html": [
       "<style  type=\"text/css\" >\n",
       "</style><table id=\"T_173101ec_04cb_11ee_b2d3_12e413fbf88c\" ><thead>    <tr>        <th class=\"index_name level0\" >Shell No.</th>        <th class=\"col_heading level0 col0\" >t_rad</th>        <th class=\"col_heading level0 col1\" >next_t_rad</th>        <th class=\"col_heading level0 col2\" >w</th>        <th class=\"col_heading level0 col3\" >next_w</th>    </tr></thead><tbody>\n",
       "                <tr>\n",
       "                        <th id=\"T_173101ec_04cb_11ee_b2d3_12e413fbf88clevel0_row0\" class=\"row_heading level0 row0\" >0</th>\n",
       "                        <td id=\"T_173101ec_04cb_11ee_b2d3_12e413fbf88crow0_col0\" class=\"data row0 col0\" >9.93e+03</td>\n",
       "                        <td id=\"T_173101ec_04cb_11ee_b2d3_12e413fbf88crow0_col1\" class=\"data row0 col1\" >1.01e+04</td>\n",
       "                        <td id=\"T_173101ec_04cb_11ee_b2d3_12e413fbf88crow0_col2\" class=\"data row0 col2\" >0.4</td>\n",
       "                        <td id=\"T_173101ec_04cb_11ee_b2d3_12e413fbf88crow0_col3\" class=\"data row0 col3\" >0.525</td>\n",
       "            </tr>\n",
       "            <tr>\n",
       "                        <th id=\"T_173101ec_04cb_11ee_b2d3_12e413fbf88clevel0_row1\" class=\"row_heading level0 row1\" >5</th>\n",
       "                        <td id=\"T_173101ec_04cb_11ee_b2d3_12e413fbf88crow1_col0\" class=\"data row1 col0\" >9.85e+03</td>\n",
       "                        <td id=\"T_173101ec_04cb_11ee_b2d3_12e413fbf88crow1_col1\" class=\"data row1 col1\" >1.03e+04</td>\n",
       "                        <td id=\"T_173101ec_04cb_11ee_b2d3_12e413fbf88crow1_col2\" class=\"data row1 col2\" >0.211</td>\n",
       "                        <td id=\"T_173101ec_04cb_11ee_b2d3_12e413fbf88crow1_col3\" class=\"data row1 col3\" >0.196</td>\n",
       "            </tr>\n",
       "            <tr>\n",
       "                        <th id=\"T_173101ec_04cb_11ee_b2d3_12e413fbf88clevel0_row2\" class=\"row_heading level0 row2\" >10</th>\n",
       "                        <td id=\"T_173101ec_04cb_11ee_b2d3_12e413fbf88crow2_col0\" class=\"data row2 col0\" >9.78e+03</td>\n",
       "                        <td id=\"T_173101ec_04cb_11ee_b2d3_12e413fbf88crow2_col1\" class=\"data row2 col1\" >1.02e+04</td>\n",
       "                        <td id=\"T_173101ec_04cb_11ee_b2d3_12e413fbf88crow2_col2\" class=\"data row2 col2\" >0.143</td>\n",
       "                        <td id=\"T_173101ec_04cb_11ee_b2d3_12e413fbf88crow2_col3\" class=\"data row2 col3\" >0.115</td>\n",
       "            </tr>\n",
       "            <tr>\n",
       "                        <th id=\"T_173101ec_04cb_11ee_b2d3_12e413fbf88clevel0_row3\" class=\"row_heading level0 row3\" >15</th>\n",
       "                        <td id=\"T_173101ec_04cb_11ee_b2d3_12e413fbf88crow3_col0\" class=\"data row3 col0\" >9.71e+03</td>\n",
       "                        <td id=\"T_173101ec_04cb_11ee_b2d3_12e413fbf88crow3_col1\" class=\"data row3 col1\" >9.88e+03</td>\n",
       "                        <td id=\"T_173101ec_04cb_11ee_b2d3_12e413fbf88crow3_col2\" class=\"data row3 col2\" >0.105</td>\n",
       "                        <td id=\"T_173101ec_04cb_11ee_b2d3_12e413fbf88crow3_col3\" class=\"data row3 col3\" >0.0843</td>\n",
       "            </tr>\n",
       "    </tbody></table>"
      ],
      "text/plain": [
       "<pandas.io.formats.style.Styler at 0x7fc4420a5a30>"
      ]
     },
     "metadata": {},
     "output_type": "display_data"
    },
    {
     "name": "stderr",
     "output_type": "stream",
     "text": [
      "/Users/archil/Documents/tardis_ayushi/tardis/plasma/properties/radiative_properties.py:93: RuntimeWarning:\n",
      "\n",
      "divide by zero encountered in true_divide\n",
      "\n",
      "/Users/archil/Documents/tardis_ayushi/tardis/plasma/properties/radiative_properties.py:93: RuntimeWarning:\n",
      "\n",
      "invalid value encountered in true_divide\n",
      "\n"
     ]
    },
    {
     "data": {
      "application/vnd.jupyter.widget-view+json": {
       "model_id": "ed49fd62cb0c454899e86b6d79851469",
       "version_major": 2,
       "version_minor": 0
      },
      "text/plain": [
       "VBox(children=(FigureWidget({\n",
       "    'data': [{'type': 'scatter', 'uid': 'c36e3102-5c29-4a9d-b3f9-e91cf9bdeba6', …"
      ]
     },
     "metadata": {},
     "output_type": "display_data"
    },
    {
     "data": {
      "text/html": [
       "<style  type=\"text/css\" >\n",
       "</style><table id=\"T_17dafc4c_04cb_11ee_b2d3_12e413fbf88c\" ><thead>    <tr>        <th class=\"index_name level0\" >Shell No.</th>        <th class=\"col_heading level0 col0\" >t_rad</th>        <th class=\"col_heading level0 col1\" >next_t_rad</th>        <th class=\"col_heading level0 col2\" >w</th>        <th class=\"col_heading level0 col3\" >next_w</th>    </tr></thead><tbody>\n",
       "                <tr>\n",
       "                        <th id=\"T_17dafc4c_04cb_11ee_b2d3_12e413fbf88clevel0_row0\" class=\"row_heading level0 row0\" >0</th>\n",
       "                        <td id=\"T_17dafc4c_04cb_11ee_b2d3_12e413fbf88crow0_col0\" class=\"data row0 col0\" >1.01e+04</td>\n",
       "                        <td id=\"T_17dafc4c_04cb_11ee_b2d3_12e413fbf88crow0_col1\" class=\"data row0 col1\" >1.1e+04</td>\n",
       "                        <td id=\"T_17dafc4c_04cb_11ee_b2d3_12e413fbf88crow0_col2\" class=\"data row0 col2\" >0.525</td>\n",
       "                        <td id=\"T_17dafc4c_04cb_11ee_b2d3_12e413fbf88crow0_col3\" class=\"data row0 col3\" >0.544</td>\n",
       "            </tr>\n",
       "            <tr>\n",
       "                        <th id=\"T_17dafc4c_04cb_11ee_b2d3_12e413fbf88clevel0_row1\" class=\"row_heading level0 row1\" >5</th>\n",
       "                        <td id=\"T_17dafc4c_04cb_11ee_b2d3_12e413fbf88crow1_col0\" class=\"data row1 col0\" >1.03e+04</td>\n",
       "                        <td id=\"T_17dafc4c_04cb_11ee_b2d3_12e413fbf88crow1_col1\" class=\"data row1 col1\" >1.11e+04</td>\n",
       "                        <td id=\"T_17dafc4c_04cb_11ee_b2d3_12e413fbf88crow1_col2\" class=\"data row1 col2\" >0.196</td>\n",
       "                        <td id=\"T_17dafc4c_04cb_11ee_b2d3_12e413fbf88crow1_col3\" class=\"data row1 col3\" >0.204</td>\n",
       "            </tr>\n",
       "            <tr>\n",
       "                        <th id=\"T_17dafc4c_04cb_11ee_b2d3_12e413fbf88clevel0_row2\" class=\"row_heading level0 row2\" >10</th>\n",
       "                        <td id=\"T_17dafc4c_04cb_11ee_b2d3_12e413fbf88crow2_col0\" class=\"data row2 col0\" >1.02e+04</td>\n",
       "                        <td id=\"T_17dafc4c_04cb_11ee_b2d3_12e413fbf88crow2_col1\" class=\"data row2 col1\" >1.08e+04</td>\n",
       "                        <td id=\"T_17dafc4c_04cb_11ee_b2d3_12e413fbf88crow2_col2\" class=\"data row2 col2\" >0.115</td>\n",
       "                        <td id=\"T_17dafc4c_04cb_11ee_b2d3_12e413fbf88crow2_col3\" class=\"data row2 col3\" >0.125</td>\n",
       "            </tr>\n",
       "            <tr>\n",
       "                        <th id=\"T_17dafc4c_04cb_11ee_b2d3_12e413fbf88clevel0_row3\" class=\"row_heading level0 row3\" >15</th>\n",
       "                        <td id=\"T_17dafc4c_04cb_11ee_b2d3_12e413fbf88crow3_col0\" class=\"data row3 col0\" >9.88e+03</td>\n",
       "                        <td id=\"T_17dafc4c_04cb_11ee_b2d3_12e413fbf88crow3_col1\" class=\"data row3 col1\" >1.06e+04</td>\n",
       "                        <td id=\"T_17dafc4c_04cb_11ee_b2d3_12e413fbf88crow3_col2\" class=\"data row3 col2\" >0.0843</td>\n",
       "                        <td id=\"T_17dafc4c_04cb_11ee_b2d3_12e413fbf88crow3_col3\" class=\"data row3 col3\" >0.0914</td>\n",
       "            </tr>\n",
       "    </tbody></table>"
      ],
      "text/plain": [
       "<pandas.io.formats.style.Styler at 0x7fc442427ac0>"
      ]
     },
     "metadata": {},
     "output_type": "display_data"
    },
    {
     "name": "stderr",
     "output_type": "stream",
     "text": [
      "/Users/archil/Documents/tardis_ayushi/tardis/plasma/properties/radiative_properties.py:93: RuntimeWarning:\n",
      "\n",
      "divide by zero encountered in true_divide\n",
      "\n",
      "/Users/archil/Documents/tardis_ayushi/tardis/plasma/properties/radiative_properties.py:93: RuntimeWarning:\n",
      "\n",
      "invalid value encountered in true_divide\n",
      "\n"
     ]
    },
    {
     "data": {
      "text/html": [
       "<style  type=\"text/css\" >\n",
       "</style><table id=\"T_1841cdbe_04cb_11ee_b2d3_12e413fbf88c\" ><thead>    <tr>        <th class=\"index_name level0\" >Shell No.</th>        <th class=\"col_heading level0 col0\" >t_rad</th>        <th class=\"col_heading level0 col1\" >next_t_rad</th>        <th class=\"col_heading level0 col2\" >w</th>        <th class=\"col_heading level0 col3\" >next_w</th>    </tr></thead><tbody>\n",
       "                <tr>\n",
       "                        <th id=\"T_1841cdbe_04cb_11ee_b2d3_12e413fbf88clevel0_row0\" class=\"row_heading level0 row0\" >0</th>\n",
       "                        <td id=\"T_1841cdbe_04cb_11ee_b2d3_12e413fbf88crow0_col0\" class=\"data row0 col0\" >1.1e+04</td>\n",
       "                        <td id=\"T_1841cdbe_04cb_11ee_b2d3_12e413fbf88crow0_col1\" class=\"data row0 col1\" >1.11e+04</td>\n",
       "                        <td id=\"T_1841cdbe_04cb_11ee_b2d3_12e413fbf88crow0_col2\" class=\"data row0 col2\" >0.544</td>\n",
       "                        <td id=\"T_1841cdbe_04cb_11ee_b2d3_12e413fbf88crow0_col3\" class=\"data row0 col3\" >0.501</td>\n",
       "            </tr>\n",
       "            <tr>\n",
       "                        <th id=\"T_1841cdbe_04cb_11ee_b2d3_12e413fbf88clevel0_row1\" class=\"row_heading level0 row1\" >5</th>\n",
       "                        <td id=\"T_1841cdbe_04cb_11ee_b2d3_12e413fbf88crow1_col0\" class=\"data row1 col0\" >1.11e+04</td>\n",
       "                        <td id=\"T_1841cdbe_04cb_11ee_b2d3_12e413fbf88crow1_col1\" class=\"data row1 col1\" >1.14e+04</td>\n",
       "                        <td id=\"T_1841cdbe_04cb_11ee_b2d3_12e413fbf88crow1_col2\" class=\"data row1 col2\" >0.204</td>\n",
       "                        <td id=\"T_1841cdbe_04cb_11ee_b2d3_12e413fbf88crow1_col3\" class=\"data row1 col3\" >0.185</td>\n",
       "            </tr>\n",
       "            <tr>\n",
       "                        <th id=\"T_1841cdbe_04cb_11ee_b2d3_12e413fbf88clevel0_row2\" class=\"row_heading level0 row2\" >10</th>\n",
       "                        <td id=\"T_1841cdbe_04cb_11ee_b2d3_12e413fbf88crow2_col0\" class=\"data row2 col0\" >1.08e+04</td>\n",
       "                        <td id=\"T_1841cdbe_04cb_11ee_b2d3_12e413fbf88crow2_col1\" class=\"data row2 col1\" >1.11e+04</td>\n",
       "                        <td id=\"T_1841cdbe_04cb_11ee_b2d3_12e413fbf88crow2_col2\" class=\"data row2 col2\" >0.125</td>\n",
       "                        <td id=\"T_1841cdbe_04cb_11ee_b2d3_12e413fbf88crow2_col3\" class=\"data row2 col3\" >0.115</td>\n",
       "            </tr>\n",
       "            <tr>\n",
       "                        <th id=\"T_1841cdbe_04cb_11ee_b2d3_12e413fbf88clevel0_row3\" class=\"row_heading level0 row3\" >15</th>\n",
       "                        <td id=\"T_1841cdbe_04cb_11ee_b2d3_12e413fbf88crow3_col0\" class=\"data row3 col0\" >1.06e+04</td>\n",
       "                        <td id=\"T_1841cdbe_04cb_11ee_b2d3_12e413fbf88crow3_col1\" class=\"data row3 col1\" >1.08e+04</td>\n",
       "                        <td id=\"T_1841cdbe_04cb_11ee_b2d3_12e413fbf88crow3_col2\" class=\"data row3 col2\" >0.0914</td>\n",
       "                        <td id=\"T_1841cdbe_04cb_11ee_b2d3_12e413fbf88crow3_col3\" class=\"data row3 col3\" >0.086</td>\n",
       "            </tr>\n",
       "    </tbody></table>"
      ],
      "text/plain": [
       "<pandas.io.formats.style.Styler at 0x7fc428fc1220>"
      ]
     },
     "metadata": {},
     "output_type": "display_data"
    },
    {
     "data": {
      "text/html": [
       "<style  type=\"text/css\" >\n",
       "</style><table id=\"T_18a80d86_04cb_11ee_b2d3_12e413fbf88c\" ><thead>    <tr>        <th class=\"index_name level0\" >Shell No.</th>        <th class=\"col_heading level0 col0\" >t_rad</th>        <th class=\"col_heading level0 col1\" >next_t_rad</th>        <th class=\"col_heading level0 col2\" >w</th>        <th class=\"col_heading level0 col3\" >next_w</th>    </tr></thead><tbody>\n",
       "                <tr>\n",
       "                        <th id=\"T_18a80d86_04cb_11ee_b2d3_12e413fbf88clevel0_row0\" class=\"row_heading level0 row0\" >0</th>\n",
       "                        <td id=\"T_18a80d86_04cb_11ee_b2d3_12e413fbf88crow0_col0\" class=\"data row0 col0\" >1.11e+04</td>\n",
       "                        <td id=\"T_18a80d86_04cb_11ee_b2d3_12e413fbf88crow0_col1\" class=\"data row0 col1\" >1.11e+04</td>\n",
       "                        <td id=\"T_18a80d86_04cb_11ee_b2d3_12e413fbf88crow0_col2\" class=\"data row0 col2\" >0.501</td>\n",
       "                        <td id=\"T_18a80d86_04cb_11ee_b2d3_12e413fbf88crow0_col3\" class=\"data row0 col3\" >0.487</td>\n",
       "            </tr>\n",
       "            <tr>\n",
       "                        <th id=\"T_18a80d86_04cb_11ee_b2d3_12e413fbf88clevel0_row1\" class=\"row_heading level0 row1\" >5</th>\n",
       "                        <td id=\"T_18a80d86_04cb_11ee_b2d3_12e413fbf88crow1_col0\" class=\"data row1 col0\" >1.14e+04</td>\n",
       "                        <td id=\"T_18a80d86_04cb_11ee_b2d3_12e413fbf88crow1_col1\" class=\"data row1 col1\" >1.14e+04</td>\n",
       "                        <td id=\"T_18a80d86_04cb_11ee_b2d3_12e413fbf88crow1_col2\" class=\"data row1 col2\" >0.185</td>\n",
       "                        <td id=\"T_18a80d86_04cb_11ee_b2d3_12e413fbf88crow1_col3\" class=\"data row1 col3\" >0.181</td>\n",
       "            </tr>\n",
       "            <tr>\n",
       "                        <th id=\"T_18a80d86_04cb_11ee_b2d3_12e413fbf88clevel0_row2\" class=\"row_heading level0 row2\" >10</th>\n",
       "                        <td id=\"T_18a80d86_04cb_11ee_b2d3_12e413fbf88crow2_col0\" class=\"data row2 col0\" >1.11e+04</td>\n",
       "                        <td id=\"T_18a80d86_04cb_11ee_b2d3_12e413fbf88crow2_col1\" class=\"data row2 col1\" >1.11e+04</td>\n",
       "                        <td id=\"T_18a80d86_04cb_11ee_b2d3_12e413fbf88crow2_col2\" class=\"data row2 col2\" >0.115</td>\n",
       "                        <td id=\"T_18a80d86_04cb_11ee_b2d3_12e413fbf88crow2_col3\" class=\"data row2 col3\" >0.112</td>\n",
       "            </tr>\n",
       "            <tr>\n",
       "                        <th id=\"T_18a80d86_04cb_11ee_b2d3_12e413fbf88clevel0_row3\" class=\"row_heading level0 row3\" >15</th>\n",
       "                        <td id=\"T_18a80d86_04cb_11ee_b2d3_12e413fbf88crow3_col0\" class=\"data row3 col0\" >1.08e+04</td>\n",
       "                        <td id=\"T_18a80d86_04cb_11ee_b2d3_12e413fbf88crow3_col1\" class=\"data row3 col1\" >1.08e+04</td>\n",
       "                        <td id=\"T_18a80d86_04cb_11ee_b2d3_12e413fbf88crow3_col2\" class=\"data row3 col2\" >0.086</td>\n",
       "                        <td id=\"T_18a80d86_04cb_11ee_b2d3_12e413fbf88crow3_col3\" class=\"data row3 col3\" >0.0819</td>\n",
       "            </tr>\n",
       "    </tbody></table>"
      ],
      "text/plain": [
       "<pandas.io.formats.style.Styler at 0x7fc42060e4c0>"
      ]
     },
     "metadata": {},
     "output_type": "display_data"
    },
    {
     "data": {
      "text/html": [
       "<style  type=\"text/css\" >\n",
       "</style><table id=\"T_1921191a_04cb_11ee_b2d3_12e413fbf88c\" ><thead>    <tr>        <th class=\"index_name level0\" >Shell No.</th>        <th class=\"col_heading level0 col0\" >t_rad</th>        <th class=\"col_heading level0 col1\" >next_t_rad</th>        <th class=\"col_heading level0 col2\" >w</th>        <th class=\"col_heading level0 col3\" >next_w</th>    </tr></thead><tbody>\n",
       "                <tr>\n",
       "                        <th id=\"T_1921191a_04cb_11ee_b2d3_12e413fbf88clevel0_row0\" class=\"row_heading level0 row0\" >0</th>\n",
       "                        <td id=\"T_1921191a_04cb_11ee_b2d3_12e413fbf88crow0_col0\" class=\"data row0 col0\" >1.11e+04</td>\n",
       "                        <td id=\"T_1921191a_04cb_11ee_b2d3_12e413fbf88crow0_col1\" class=\"data row0 col1\" >1.11e+04</td>\n",
       "                        <td id=\"T_1921191a_04cb_11ee_b2d3_12e413fbf88crow0_col2\" class=\"data row0 col2\" >0.487</td>\n",
       "                        <td id=\"T_1921191a_04cb_11ee_b2d3_12e413fbf88crow0_col3\" class=\"data row0 col3\" >0.497</td>\n",
       "            </tr>\n",
       "            <tr>\n",
       "                        <th id=\"T_1921191a_04cb_11ee_b2d3_12e413fbf88clevel0_row1\" class=\"row_heading level0 row1\" >5</th>\n",
       "                        <td id=\"T_1921191a_04cb_11ee_b2d3_12e413fbf88crow1_col0\" class=\"data row1 col0\" >1.14e+04</td>\n",
       "                        <td id=\"T_1921191a_04cb_11ee_b2d3_12e413fbf88crow1_col1\" class=\"data row1 col1\" >1.14e+04</td>\n",
       "                        <td id=\"T_1921191a_04cb_11ee_b2d3_12e413fbf88crow1_col2\" class=\"data row1 col2\" >0.181</td>\n",
       "                        <td id=\"T_1921191a_04cb_11ee_b2d3_12e413fbf88crow1_col3\" class=\"data row1 col3\" >0.178</td>\n",
       "            </tr>\n",
       "            <tr>\n",
       "                        <th id=\"T_1921191a_04cb_11ee_b2d3_12e413fbf88clevel0_row2\" class=\"row_heading level0 row2\" >10</th>\n",
       "                        <td id=\"T_1921191a_04cb_11ee_b2d3_12e413fbf88crow2_col0\" class=\"data row2 col0\" >1.11e+04</td>\n",
       "                        <td id=\"T_1921191a_04cb_11ee_b2d3_12e413fbf88crow2_col1\" class=\"data row2 col1\" >1.13e+04</td>\n",
       "                        <td id=\"T_1921191a_04cb_11ee_b2d3_12e413fbf88crow2_col2\" class=\"data row2 col2\" >0.112</td>\n",
       "                        <td id=\"T_1921191a_04cb_11ee_b2d3_12e413fbf88crow2_col3\" class=\"data row2 col3\" >0.107</td>\n",
       "            </tr>\n",
       "            <tr>\n",
       "                        <th id=\"T_1921191a_04cb_11ee_b2d3_12e413fbf88clevel0_row3\" class=\"row_heading level0 row3\" >15</th>\n",
       "                        <td id=\"T_1921191a_04cb_11ee_b2d3_12e413fbf88crow3_col0\" class=\"data row3 col0\" >1.08e+04</td>\n",
       "                        <td id=\"T_1921191a_04cb_11ee_b2d3_12e413fbf88crow3_col1\" class=\"data row3 col1\" >1.1e+04</td>\n",
       "                        <td id=\"T_1921191a_04cb_11ee_b2d3_12e413fbf88crow3_col2\" class=\"data row3 col2\" >0.0819</td>\n",
       "                        <td id=\"T_1921191a_04cb_11ee_b2d3_12e413fbf88crow3_col3\" class=\"data row3 col3\" >0.0779</td>\n",
       "            </tr>\n",
       "    </tbody></table>"
      ],
      "text/plain": [
       "<pandas.io.formats.style.Styler at 0x7fc3e15d1130>"
      ]
     },
     "metadata": {},
     "output_type": "display_data"
    },
    {
     "data": {
      "text/html": [
       "<style  type=\"text/css\" >\n",
       "</style><table id=\"T_198a7c8e_04cb_11ee_b2d3_12e413fbf88c\" ><thead>    <tr>        <th class=\"index_name level0\" >Shell No.</th>        <th class=\"col_heading level0 col0\" >t_rad</th>        <th class=\"col_heading level0 col1\" >next_t_rad</th>        <th class=\"col_heading level0 col2\" >w</th>        <th class=\"col_heading level0 col3\" >next_w</th>    </tr></thead><tbody>\n",
       "                <tr>\n",
       "                        <th id=\"T_198a7c8e_04cb_11ee_b2d3_12e413fbf88clevel0_row0\" class=\"row_heading level0 row0\" >0</th>\n",
       "                        <td id=\"T_198a7c8e_04cb_11ee_b2d3_12e413fbf88crow0_col0\" class=\"data row0 col0\" >1.11e+04</td>\n",
       "                        <td id=\"T_198a7c8e_04cb_11ee_b2d3_12e413fbf88crow0_col1\" class=\"data row0 col1\" >1.12e+04</td>\n",
       "                        <td id=\"T_198a7c8e_04cb_11ee_b2d3_12e413fbf88crow0_col2\" class=\"data row0 col2\" >0.497</td>\n",
       "                        <td id=\"T_198a7c8e_04cb_11ee_b2d3_12e413fbf88crow0_col3\" class=\"data row0 col3\" >0.488</td>\n",
       "            </tr>\n",
       "            <tr>\n",
       "                        <th id=\"T_198a7c8e_04cb_11ee_b2d3_12e413fbf88clevel0_row1\" class=\"row_heading level0 row1\" >5</th>\n",
       "                        <td id=\"T_198a7c8e_04cb_11ee_b2d3_12e413fbf88crow1_col0\" class=\"data row1 col0\" >1.14e+04</td>\n",
       "                        <td id=\"T_198a7c8e_04cb_11ee_b2d3_12e413fbf88crow1_col1\" class=\"data row1 col1\" >1.14e+04</td>\n",
       "                        <td id=\"T_198a7c8e_04cb_11ee_b2d3_12e413fbf88crow1_col2\" class=\"data row1 col2\" >0.178</td>\n",
       "                        <td id=\"T_198a7c8e_04cb_11ee_b2d3_12e413fbf88crow1_col3\" class=\"data row1 col3\" >0.184</td>\n",
       "            </tr>\n",
       "            <tr>\n",
       "                        <th id=\"T_198a7c8e_04cb_11ee_b2d3_12e413fbf88clevel0_row2\" class=\"row_heading level0 row2\" >10</th>\n",
       "                        <td id=\"T_198a7c8e_04cb_11ee_b2d3_12e413fbf88crow2_col0\" class=\"data row2 col0\" >1.13e+04</td>\n",
       "                        <td id=\"T_198a7c8e_04cb_11ee_b2d3_12e413fbf88crow2_col1\" class=\"data row2 col1\" >1.11e+04</td>\n",
       "                        <td id=\"T_198a7c8e_04cb_11ee_b2d3_12e413fbf88crow2_col2\" class=\"data row2 col2\" >0.107</td>\n",
       "                        <td id=\"T_198a7c8e_04cb_11ee_b2d3_12e413fbf88crow2_col3\" class=\"data row2 col3\" >0.113</td>\n",
       "            </tr>\n",
       "            <tr>\n",
       "                        <th id=\"T_198a7c8e_04cb_11ee_b2d3_12e413fbf88clevel0_row3\" class=\"row_heading level0 row3\" >15</th>\n",
       "                        <td id=\"T_198a7c8e_04cb_11ee_b2d3_12e413fbf88crow3_col0\" class=\"data row3 col0\" >1.1e+04</td>\n",
       "                        <td id=\"T_198a7c8e_04cb_11ee_b2d3_12e413fbf88crow3_col1\" class=\"data row3 col1\" >1.08e+04</td>\n",
       "                        <td id=\"T_198a7c8e_04cb_11ee_b2d3_12e413fbf88crow3_col2\" class=\"data row3 col2\" >0.0779</td>\n",
       "                        <td id=\"T_198a7c8e_04cb_11ee_b2d3_12e413fbf88crow3_col3\" class=\"data row3 col3\" >0.082</td>\n",
       "            </tr>\n",
       "    </tbody></table>"
      ],
      "text/plain": [
       "<pandas.io.formats.style.Styler at 0x7fc437c3d1f0>"
      ]
     },
     "metadata": {},
     "output_type": "display_data"
    },
    {
     "data": {
      "text/html": [
       "<style  type=\"text/css\" >\n",
       "</style><table id=\"T_19f3d9cc_04cb_11ee_b2d3_12e413fbf88c\" ><thead>    <tr>        <th class=\"index_name level0\" >Shell No.</th>        <th class=\"col_heading level0 col0\" >t_rad</th>        <th class=\"col_heading level0 col1\" >next_t_rad</th>        <th class=\"col_heading level0 col2\" >w</th>        <th class=\"col_heading level0 col3\" >next_w</th>    </tr></thead><tbody>\n",
       "                <tr>\n",
       "                        <th id=\"T_19f3d9cc_04cb_11ee_b2d3_12e413fbf88clevel0_row0\" class=\"row_heading level0 row0\" >0</th>\n",
       "                        <td id=\"T_19f3d9cc_04cb_11ee_b2d3_12e413fbf88crow0_col0\" class=\"data row0 col0\" >1.12e+04</td>\n",
       "                        <td id=\"T_19f3d9cc_04cb_11ee_b2d3_12e413fbf88crow0_col1\" class=\"data row0 col1\" >1.11e+04</td>\n",
       "                        <td id=\"T_19f3d9cc_04cb_11ee_b2d3_12e413fbf88crow0_col2\" class=\"data row0 col2\" >0.488</td>\n",
       "                        <td id=\"T_19f3d9cc_04cb_11ee_b2d3_12e413fbf88crow0_col3\" class=\"data row0 col3\" >0.496</td>\n",
       "            </tr>\n",
       "            <tr>\n",
       "                        <th id=\"T_19f3d9cc_04cb_11ee_b2d3_12e413fbf88clevel0_row1\" class=\"row_heading level0 row1\" >5</th>\n",
       "                        <td id=\"T_19f3d9cc_04cb_11ee_b2d3_12e413fbf88crow1_col0\" class=\"data row1 col0\" >1.14e+04</td>\n",
       "                        <td id=\"T_19f3d9cc_04cb_11ee_b2d3_12e413fbf88crow1_col1\" class=\"data row1 col1\" >1.15e+04</td>\n",
       "                        <td id=\"T_19f3d9cc_04cb_11ee_b2d3_12e413fbf88crow1_col2\" class=\"data row1 col2\" >0.184</td>\n",
       "                        <td id=\"T_19f3d9cc_04cb_11ee_b2d3_12e413fbf88crow1_col3\" class=\"data row1 col3\" >0.175</td>\n",
       "            </tr>\n",
       "            <tr>\n",
       "                        <th id=\"T_19f3d9cc_04cb_11ee_b2d3_12e413fbf88clevel0_row2\" class=\"row_heading level0 row2\" >10</th>\n",
       "                        <td id=\"T_19f3d9cc_04cb_11ee_b2d3_12e413fbf88crow2_col0\" class=\"data row2 col0\" >1.11e+04</td>\n",
       "                        <td id=\"T_19f3d9cc_04cb_11ee_b2d3_12e413fbf88crow2_col1\" class=\"data row2 col1\" >1.12e+04</td>\n",
       "                        <td id=\"T_19f3d9cc_04cb_11ee_b2d3_12e413fbf88crow2_col2\" class=\"data row2 col2\" >0.113</td>\n",
       "                        <td id=\"T_19f3d9cc_04cb_11ee_b2d3_12e413fbf88crow2_col3\" class=\"data row2 col3\" >0.109</td>\n",
       "            </tr>\n",
       "            <tr>\n",
       "                        <th id=\"T_19f3d9cc_04cb_11ee_b2d3_12e413fbf88clevel0_row3\" class=\"row_heading level0 row3\" >15</th>\n",
       "                        <td id=\"T_19f3d9cc_04cb_11ee_b2d3_12e413fbf88crow3_col0\" class=\"data row3 col0\" >1.08e+04</td>\n",
       "                        <td id=\"T_19f3d9cc_04cb_11ee_b2d3_12e413fbf88crow3_col1\" class=\"data row3 col1\" >1.09e+04</td>\n",
       "                        <td id=\"T_19f3d9cc_04cb_11ee_b2d3_12e413fbf88crow3_col2\" class=\"data row3 col2\" >0.082</td>\n",
       "                        <td id=\"T_19f3d9cc_04cb_11ee_b2d3_12e413fbf88crow3_col3\" class=\"data row3 col3\" >0.0816</td>\n",
       "            </tr>\n",
       "    </tbody></table>"
      ],
      "text/plain": [
       "<pandas.io.formats.style.Styler at 0x7fc42908da30>"
      ]
     },
     "metadata": {},
     "output_type": "display_data"
    },
    {
     "data": {
      "text/html": [
       "<style  type=\"text/css\" >\n",
       "</style><table id=\"T_1a5b4076_04cb_11ee_b2d3_12e413fbf88c\" ><thead>    <tr>        <th class=\"index_name level0\" >Shell No.</th>        <th class=\"col_heading level0 col0\" >t_rad</th>        <th class=\"col_heading level0 col1\" >next_t_rad</th>        <th class=\"col_heading level0 col2\" >w</th>        <th class=\"col_heading level0 col3\" >next_w</th>    </tr></thead><tbody>\n",
       "                <tr>\n",
       "                        <th id=\"T_1a5b4076_04cb_11ee_b2d3_12e413fbf88clevel0_row0\" class=\"row_heading level0 row0\" >0</th>\n",
       "                        <td id=\"T_1a5b4076_04cb_11ee_b2d3_12e413fbf88crow0_col0\" class=\"data row0 col0\" >1.11e+04</td>\n",
       "                        <td id=\"T_1a5b4076_04cb_11ee_b2d3_12e413fbf88crow0_col1\" class=\"data row0 col1\" >1.12e+04</td>\n",
       "                        <td id=\"T_1a5b4076_04cb_11ee_b2d3_12e413fbf88crow0_col2\" class=\"data row0 col2\" >0.496</td>\n",
       "                        <td id=\"T_1a5b4076_04cb_11ee_b2d3_12e413fbf88crow0_col3\" class=\"data row0 col3\" >0.49</td>\n",
       "            </tr>\n",
       "            <tr>\n",
       "                        <th id=\"T_1a5b4076_04cb_11ee_b2d3_12e413fbf88clevel0_row1\" class=\"row_heading level0 row1\" >5</th>\n",
       "                        <td id=\"T_1a5b4076_04cb_11ee_b2d3_12e413fbf88crow1_col0\" class=\"data row1 col0\" >1.15e+04</td>\n",
       "                        <td id=\"T_1a5b4076_04cb_11ee_b2d3_12e413fbf88crow1_col1\" class=\"data row1 col1\" >1.16e+04</td>\n",
       "                        <td id=\"T_1a5b4076_04cb_11ee_b2d3_12e413fbf88crow1_col2\" class=\"data row1 col2\" >0.175</td>\n",
       "                        <td id=\"T_1a5b4076_04cb_11ee_b2d3_12e413fbf88crow1_col3\" class=\"data row1 col3\" >0.174</td>\n",
       "            </tr>\n",
       "            <tr>\n",
       "                        <th id=\"T_1a5b4076_04cb_11ee_b2d3_12e413fbf88clevel0_row2\" class=\"row_heading level0 row2\" >10</th>\n",
       "                        <td id=\"T_1a5b4076_04cb_11ee_b2d3_12e413fbf88crow2_col0\" class=\"data row2 col0\" >1.12e+04</td>\n",
       "                        <td id=\"T_1a5b4076_04cb_11ee_b2d3_12e413fbf88crow2_col1\" class=\"data row2 col1\" >1.14e+04</td>\n",
       "                        <td id=\"T_1a5b4076_04cb_11ee_b2d3_12e413fbf88crow2_col2\" class=\"data row2 col2\" >0.109</td>\n",
       "                        <td id=\"T_1a5b4076_04cb_11ee_b2d3_12e413fbf88crow2_col3\" class=\"data row2 col3\" >0.106</td>\n",
       "            </tr>\n",
       "            <tr>\n",
       "                        <th id=\"T_1a5b4076_04cb_11ee_b2d3_12e413fbf88clevel0_row3\" class=\"row_heading level0 row3\" >15</th>\n",
       "                        <td id=\"T_1a5b4076_04cb_11ee_b2d3_12e413fbf88crow3_col0\" class=\"data row3 col0\" >1.09e+04</td>\n",
       "                        <td id=\"T_1a5b4076_04cb_11ee_b2d3_12e413fbf88crow3_col1\" class=\"data row3 col1\" >1.09e+04</td>\n",
       "                        <td id=\"T_1a5b4076_04cb_11ee_b2d3_12e413fbf88crow3_col2\" class=\"data row3 col2\" >0.0816</td>\n",
       "                        <td id=\"T_1a5b4076_04cb_11ee_b2d3_12e413fbf88crow3_col3\" class=\"data row3 col3\" >0.0802</td>\n",
       "            </tr>\n",
       "    </tbody></table>"
      ],
      "text/plain": [
       "<pandas.io.formats.style.Styler at 0x7fc428424eb0>"
      ]
     },
     "metadata": {},
     "output_type": "display_data"
    },
    {
     "data": {
      "text/html": [
       "<style  type=\"text/css\" >\n",
       "</style><table id=\"T_1abf8ad6_04cb_11ee_b2d3_12e413fbf88c\" ><thead>    <tr>        <th class=\"index_name level0\" >Shell No.</th>        <th class=\"col_heading level0 col0\" >t_rad</th>        <th class=\"col_heading level0 col1\" >next_t_rad</th>        <th class=\"col_heading level0 col2\" >w</th>        <th class=\"col_heading level0 col3\" >next_w</th>    </tr></thead><tbody>\n",
       "                <tr>\n",
       "                        <th id=\"T_1abf8ad6_04cb_11ee_b2d3_12e413fbf88clevel0_row0\" class=\"row_heading level0 row0\" >0</th>\n",
       "                        <td id=\"T_1abf8ad6_04cb_11ee_b2d3_12e413fbf88crow0_col0\" class=\"data row0 col0\" >1.12e+04</td>\n",
       "                        <td id=\"T_1abf8ad6_04cb_11ee_b2d3_12e413fbf88crow0_col1\" class=\"data row0 col1\" >1.11e+04</td>\n",
       "                        <td id=\"T_1abf8ad6_04cb_11ee_b2d3_12e413fbf88crow0_col2\" class=\"data row0 col2\" >0.49</td>\n",
       "                        <td id=\"T_1abf8ad6_04cb_11ee_b2d3_12e413fbf88crow0_col3\" class=\"data row0 col3\" >0.49</td>\n",
       "            </tr>\n",
       "            <tr>\n",
       "                        <th id=\"T_1abf8ad6_04cb_11ee_b2d3_12e413fbf88clevel0_row1\" class=\"row_heading level0 row1\" >5</th>\n",
       "                        <td id=\"T_1abf8ad6_04cb_11ee_b2d3_12e413fbf88crow1_col0\" class=\"data row1 col0\" >1.16e+04</td>\n",
       "                        <td id=\"T_1abf8ad6_04cb_11ee_b2d3_12e413fbf88crow1_col1\" class=\"data row1 col1\" >1.15e+04</td>\n",
       "                        <td id=\"T_1abf8ad6_04cb_11ee_b2d3_12e413fbf88crow1_col2\" class=\"data row1 col2\" >0.174</td>\n",
       "                        <td id=\"T_1abf8ad6_04cb_11ee_b2d3_12e413fbf88crow1_col3\" class=\"data row1 col3\" >0.174</td>\n",
       "            </tr>\n",
       "            <tr>\n",
       "                        <th id=\"T_1abf8ad6_04cb_11ee_b2d3_12e413fbf88clevel0_row2\" class=\"row_heading level0 row2\" >10</th>\n",
       "                        <td id=\"T_1abf8ad6_04cb_11ee_b2d3_12e413fbf88crow2_col0\" class=\"data row2 col0\" >1.14e+04</td>\n",
       "                        <td id=\"T_1abf8ad6_04cb_11ee_b2d3_12e413fbf88crow2_col1\" class=\"data row2 col1\" >1.13e+04</td>\n",
       "                        <td id=\"T_1abf8ad6_04cb_11ee_b2d3_12e413fbf88crow2_col2\" class=\"data row2 col2\" >0.106</td>\n",
       "                        <td id=\"T_1abf8ad6_04cb_11ee_b2d3_12e413fbf88crow2_col3\" class=\"data row2 col3\" >0.104</td>\n",
       "            </tr>\n",
       "            <tr>\n",
       "                        <th id=\"T_1abf8ad6_04cb_11ee_b2d3_12e413fbf88clevel0_row3\" class=\"row_heading level0 row3\" >15</th>\n",
       "                        <td id=\"T_1abf8ad6_04cb_11ee_b2d3_12e413fbf88crow3_col0\" class=\"data row3 col0\" >1.09e+04</td>\n",
       "                        <td id=\"T_1abf8ad6_04cb_11ee_b2d3_12e413fbf88crow3_col1\" class=\"data row3 col1\" >1.09e+04</td>\n",
       "                        <td id=\"T_1abf8ad6_04cb_11ee_b2d3_12e413fbf88crow3_col2\" class=\"data row3 col2\" >0.0802</td>\n",
       "                        <td id=\"T_1abf8ad6_04cb_11ee_b2d3_12e413fbf88crow3_col3\" class=\"data row3 col3\" >0.0799</td>\n",
       "            </tr>\n",
       "    </tbody></table>"
      ],
      "text/plain": [
       "<pandas.io.formats.style.Styler at 0x7fc4422d0c70>"
      ]
     },
     "metadata": {},
     "output_type": "display_data"
    },
    {
     "data": {
      "text/html": [
       "<style  type=\"text/css\" >\n",
       "</style><table id=\"T_1b2297ca_04cb_11ee_b2d3_12e413fbf88c\" ><thead>    <tr>        <th class=\"index_name level0\" >Shell No.</th>        <th class=\"col_heading level0 col0\" >t_rad</th>        <th class=\"col_heading level0 col1\" >next_t_rad</th>        <th class=\"col_heading level0 col2\" >w</th>        <th class=\"col_heading level0 col3\" >next_w</th>    </tr></thead><tbody>\n",
       "                <tr>\n",
       "                        <th id=\"T_1b2297ca_04cb_11ee_b2d3_12e413fbf88clevel0_row0\" class=\"row_heading level0 row0\" >0</th>\n",
       "                        <td id=\"T_1b2297ca_04cb_11ee_b2d3_12e413fbf88crow0_col0\" class=\"data row0 col0\" >1.11e+04</td>\n",
       "                        <td id=\"T_1b2297ca_04cb_11ee_b2d3_12e413fbf88crow0_col1\" class=\"data row0 col1\" >1.11e+04</td>\n",
       "                        <td id=\"T_1b2297ca_04cb_11ee_b2d3_12e413fbf88crow0_col2\" class=\"data row0 col2\" >0.49</td>\n",
       "                        <td id=\"T_1b2297ca_04cb_11ee_b2d3_12e413fbf88crow0_col3\" class=\"data row0 col3\" >0.496</td>\n",
       "            </tr>\n",
       "            <tr>\n",
       "                        <th id=\"T_1b2297ca_04cb_11ee_b2d3_12e413fbf88clevel0_row1\" class=\"row_heading level0 row1\" >5</th>\n",
       "                        <td id=\"T_1b2297ca_04cb_11ee_b2d3_12e413fbf88crow1_col0\" class=\"data row1 col0\" >1.15e+04</td>\n",
       "                        <td id=\"T_1b2297ca_04cb_11ee_b2d3_12e413fbf88crow1_col1\" class=\"data row1 col1\" >1.15e+04</td>\n",
       "                        <td id=\"T_1b2297ca_04cb_11ee_b2d3_12e413fbf88crow1_col2\" class=\"data row1 col2\" >0.174</td>\n",
       "                        <td id=\"T_1b2297ca_04cb_11ee_b2d3_12e413fbf88crow1_col3\" class=\"data row1 col3\" >0.177</td>\n",
       "            </tr>\n",
       "            <tr>\n",
       "                        <th id=\"T_1b2297ca_04cb_11ee_b2d3_12e413fbf88clevel0_row2\" class=\"row_heading level0 row2\" >10</th>\n",
       "                        <td id=\"T_1b2297ca_04cb_11ee_b2d3_12e413fbf88crow2_col0\" class=\"data row2 col0\" >1.13e+04</td>\n",
       "                        <td id=\"T_1b2297ca_04cb_11ee_b2d3_12e413fbf88crow2_col1\" class=\"data row2 col1\" >1.14e+04</td>\n",
       "                        <td id=\"T_1b2297ca_04cb_11ee_b2d3_12e413fbf88crow2_col2\" class=\"data row2 col2\" >0.104</td>\n",
       "                        <td id=\"T_1b2297ca_04cb_11ee_b2d3_12e413fbf88crow2_col3\" class=\"data row2 col3\" >0.105</td>\n",
       "            </tr>\n",
       "            <tr>\n",
       "                        <th id=\"T_1b2297ca_04cb_11ee_b2d3_12e413fbf88clevel0_row3\" class=\"row_heading level0 row3\" >15</th>\n",
       "                        <td id=\"T_1b2297ca_04cb_11ee_b2d3_12e413fbf88crow3_col0\" class=\"data row3 col0\" >1.09e+04</td>\n",
       "                        <td id=\"T_1b2297ca_04cb_11ee_b2d3_12e413fbf88crow3_col1\" class=\"data row3 col1\" >1.09e+04</td>\n",
       "                        <td id=\"T_1b2297ca_04cb_11ee_b2d3_12e413fbf88crow3_col2\" class=\"data row3 col2\" >0.0799</td>\n",
       "                        <td id=\"T_1b2297ca_04cb_11ee_b2d3_12e413fbf88crow3_col3\" class=\"data row3 col3\" >0.081</td>\n",
       "            </tr>\n",
       "    </tbody></table>"
      ],
      "text/plain": [
       "<pandas.io.formats.style.Styler at 0x7fc4422e09a0>"
      ]
     },
     "metadata": {},
     "output_type": "display_data"
    },
    {
     "data": {
      "text/html": [
       "<style  type=\"text/css\" >\n",
       "</style><table id=\"T_1b84f69a_04cb_11ee_b2d3_12e413fbf88c\" ><thead>    <tr>        <th class=\"index_name level0\" >Shell No.</th>        <th class=\"col_heading level0 col0\" >t_rad</th>        <th class=\"col_heading level0 col1\" >next_t_rad</th>        <th class=\"col_heading level0 col2\" >w</th>        <th class=\"col_heading level0 col3\" >next_w</th>    </tr></thead><tbody>\n",
       "                <tr>\n",
       "                        <th id=\"T_1b84f69a_04cb_11ee_b2d3_12e413fbf88clevel0_row0\" class=\"row_heading level0 row0\" >0</th>\n",
       "                        <td id=\"T_1b84f69a_04cb_11ee_b2d3_12e413fbf88crow0_col0\" class=\"data row0 col0\" >1.11e+04</td>\n",
       "                        <td id=\"T_1b84f69a_04cb_11ee_b2d3_12e413fbf88crow0_col1\" class=\"data row0 col1\" >1.11e+04</td>\n",
       "                        <td id=\"T_1b84f69a_04cb_11ee_b2d3_12e413fbf88crow0_col2\" class=\"data row0 col2\" >0.496</td>\n",
       "                        <td id=\"T_1b84f69a_04cb_11ee_b2d3_12e413fbf88crow0_col3\" class=\"data row0 col3\" >0.501</td>\n",
       "            </tr>\n",
       "            <tr>\n",
       "                        <th id=\"T_1b84f69a_04cb_11ee_b2d3_12e413fbf88clevel0_row1\" class=\"row_heading level0 row1\" >5</th>\n",
       "                        <td id=\"T_1b84f69a_04cb_11ee_b2d3_12e413fbf88crow1_col0\" class=\"data row1 col0\" >1.15e+04</td>\n",
       "                        <td id=\"T_1b84f69a_04cb_11ee_b2d3_12e413fbf88crow1_col1\" class=\"data row1 col1\" >1.16e+04</td>\n",
       "                        <td id=\"T_1b84f69a_04cb_11ee_b2d3_12e413fbf88crow1_col2\" class=\"data row1 col2\" >0.177</td>\n",
       "                        <td id=\"T_1b84f69a_04cb_11ee_b2d3_12e413fbf88crow1_col3\" class=\"data row1 col3\" >0.174</td>\n",
       "            </tr>\n",
       "            <tr>\n",
       "                        <th id=\"T_1b84f69a_04cb_11ee_b2d3_12e413fbf88clevel0_row2\" class=\"row_heading level0 row2\" >10</th>\n",
       "                        <td id=\"T_1b84f69a_04cb_11ee_b2d3_12e413fbf88crow2_col0\" class=\"data row2 col0\" >1.14e+04</td>\n",
       "                        <td id=\"T_1b84f69a_04cb_11ee_b2d3_12e413fbf88crow2_col1\" class=\"data row2 col1\" >1.14e+04</td>\n",
       "                        <td id=\"T_1b84f69a_04cb_11ee_b2d3_12e413fbf88crow2_col2\" class=\"data row2 col2\" >0.105</td>\n",
       "                        <td id=\"T_1b84f69a_04cb_11ee_b2d3_12e413fbf88crow2_col3\" class=\"data row2 col3\" >0.104</td>\n",
       "            </tr>\n",
       "            <tr>\n",
       "                        <th id=\"T_1b84f69a_04cb_11ee_b2d3_12e413fbf88clevel0_row3\" class=\"row_heading level0 row3\" >15</th>\n",
       "                        <td id=\"T_1b84f69a_04cb_11ee_b2d3_12e413fbf88crow3_col0\" class=\"data row3 col0\" >1.09e+04</td>\n",
       "                        <td id=\"T_1b84f69a_04cb_11ee_b2d3_12e413fbf88crow3_col1\" class=\"data row3 col1\" >1.09e+04</td>\n",
       "                        <td id=\"T_1b84f69a_04cb_11ee_b2d3_12e413fbf88crow3_col2\" class=\"data row3 col2\" >0.081</td>\n",
       "                        <td id=\"T_1b84f69a_04cb_11ee_b2d3_12e413fbf88crow3_col3\" class=\"data row3 col3\" >0.0809</td>\n",
       "            </tr>\n",
       "    </tbody></table>"
      ],
      "text/plain": [
       "<pandas.io.formats.style.Styler at 0x7fc3e15d1190>"
      ]
     },
     "metadata": {},
     "output_type": "display_data"
    },
    {
     "data": {
      "text/html": [
       "<style  type=\"text/css\" >\n",
       "</style><table id=\"T_1be656ec_04cb_11ee_b2d3_12e413fbf88c\" ><thead>    <tr>        <th class=\"index_name level0\" >Shell No.</th>        <th class=\"col_heading level0 col0\" >t_rad</th>        <th class=\"col_heading level0 col1\" >next_t_rad</th>        <th class=\"col_heading level0 col2\" >w</th>        <th class=\"col_heading level0 col3\" >next_w</th>    </tr></thead><tbody>\n",
       "                <tr>\n",
       "                        <th id=\"T_1be656ec_04cb_11ee_b2d3_12e413fbf88clevel0_row0\" class=\"row_heading level0 row0\" >0</th>\n",
       "                        <td id=\"T_1be656ec_04cb_11ee_b2d3_12e413fbf88crow0_col0\" class=\"data row0 col0\" >1.11e+04</td>\n",
       "                        <td id=\"T_1be656ec_04cb_11ee_b2d3_12e413fbf88crow0_col1\" class=\"data row0 col1\" >1.12e+04</td>\n",
       "                        <td id=\"T_1be656ec_04cb_11ee_b2d3_12e413fbf88crow0_col2\" class=\"data row0 col2\" >0.501</td>\n",
       "                        <td id=\"T_1be656ec_04cb_11ee_b2d3_12e413fbf88crow0_col3\" class=\"data row0 col3\" >0.485</td>\n",
       "            </tr>\n",
       "            <tr>\n",
       "                        <th id=\"T_1be656ec_04cb_11ee_b2d3_12e413fbf88clevel0_row1\" class=\"row_heading level0 row1\" >5</th>\n",
       "                        <td id=\"T_1be656ec_04cb_11ee_b2d3_12e413fbf88crow1_col0\" class=\"data row1 col0\" >1.16e+04</td>\n",
       "                        <td id=\"T_1be656ec_04cb_11ee_b2d3_12e413fbf88crow1_col1\" class=\"data row1 col1\" >1.16e+04</td>\n",
       "                        <td id=\"T_1be656ec_04cb_11ee_b2d3_12e413fbf88crow1_col2\" class=\"data row1 col2\" >0.174</td>\n",
       "                        <td id=\"T_1be656ec_04cb_11ee_b2d3_12e413fbf88crow1_col3\" class=\"data row1 col3\" >0.17</td>\n",
       "            </tr>\n",
       "            <tr>\n",
       "                        <th id=\"T_1be656ec_04cb_11ee_b2d3_12e413fbf88clevel0_row2\" class=\"row_heading level0 row2\" >10</th>\n",
       "                        <td id=\"T_1be656ec_04cb_11ee_b2d3_12e413fbf88crow2_col0\" class=\"data row2 col0\" >1.14e+04</td>\n",
       "                        <td id=\"T_1be656ec_04cb_11ee_b2d3_12e413fbf88crow2_col1\" class=\"data row2 col1\" >1.13e+04</td>\n",
       "                        <td id=\"T_1be656ec_04cb_11ee_b2d3_12e413fbf88crow2_col2\" class=\"data row2 col2\" >0.104</td>\n",
       "                        <td id=\"T_1be656ec_04cb_11ee_b2d3_12e413fbf88crow2_col3\" class=\"data row2 col3\" >0.105</td>\n",
       "            </tr>\n",
       "            <tr>\n",
       "                        <th id=\"T_1be656ec_04cb_11ee_b2d3_12e413fbf88clevel0_row3\" class=\"row_heading level0 row3\" >15</th>\n",
       "                        <td id=\"T_1be656ec_04cb_11ee_b2d3_12e413fbf88crow3_col0\" class=\"data row3 col0\" >1.09e+04</td>\n",
       "                        <td id=\"T_1be656ec_04cb_11ee_b2d3_12e413fbf88crow3_col1\" class=\"data row3 col1\" >1.1e+04</td>\n",
       "                        <td id=\"T_1be656ec_04cb_11ee_b2d3_12e413fbf88crow3_col2\" class=\"data row3 col2\" >0.0809</td>\n",
       "                        <td id=\"T_1be656ec_04cb_11ee_b2d3_12e413fbf88crow3_col3\" class=\"data row3 col3\" >0.0777</td>\n",
       "            </tr>\n",
       "    </tbody></table>"
      ],
      "text/plain": [
       "<pandas.io.formats.style.Styler at 0x7fc4422e0af0>"
      ]
     },
     "metadata": {},
     "output_type": "display_data"
    },
    {
     "data": {
      "text/html": [
       "<style  type=\"text/css\" >\n",
       "</style><table id=\"T_1c489a64_04cb_11ee_b2d3_12e413fbf88c\" ><thead>    <tr>        <th class=\"index_name level0\" >Shell No.</th>        <th class=\"col_heading level0 col0\" >t_rad</th>        <th class=\"col_heading level0 col1\" >next_t_rad</th>        <th class=\"col_heading level0 col2\" >w</th>        <th class=\"col_heading level0 col3\" >next_w</th>    </tr></thead><tbody>\n",
       "                <tr>\n",
       "                        <th id=\"T_1c489a64_04cb_11ee_b2d3_12e413fbf88clevel0_row0\" class=\"row_heading level0 row0\" >0</th>\n",
       "                        <td id=\"T_1c489a64_04cb_11ee_b2d3_12e413fbf88crow0_col0\" class=\"data row0 col0\" >1.12e+04</td>\n",
       "                        <td id=\"T_1c489a64_04cb_11ee_b2d3_12e413fbf88crow0_col1\" class=\"data row0 col1\" >1.12e+04</td>\n",
       "                        <td id=\"T_1c489a64_04cb_11ee_b2d3_12e413fbf88crow0_col2\" class=\"data row0 col2\" >0.485</td>\n",
       "                        <td id=\"T_1c489a64_04cb_11ee_b2d3_12e413fbf88crow0_col3\" class=\"data row0 col3\" >0.483</td>\n",
       "            </tr>\n",
       "            <tr>\n",
       "                        <th id=\"T_1c489a64_04cb_11ee_b2d3_12e413fbf88clevel0_row1\" class=\"row_heading level0 row1\" >5</th>\n",
       "                        <td id=\"T_1c489a64_04cb_11ee_b2d3_12e413fbf88crow1_col0\" class=\"data row1 col0\" >1.16e+04</td>\n",
       "                        <td id=\"T_1c489a64_04cb_11ee_b2d3_12e413fbf88crow1_col1\" class=\"data row1 col1\" >1.16e+04</td>\n",
       "                        <td id=\"T_1c489a64_04cb_11ee_b2d3_12e413fbf88crow1_col2\" class=\"data row1 col2\" >0.17</td>\n",
       "                        <td id=\"T_1c489a64_04cb_11ee_b2d3_12e413fbf88crow1_col3\" class=\"data row1 col3\" >0.174</td>\n",
       "            </tr>\n",
       "            <tr>\n",
       "                        <th id=\"T_1c489a64_04cb_11ee_b2d3_12e413fbf88clevel0_row2\" class=\"row_heading level0 row2\" >10</th>\n",
       "                        <td id=\"T_1c489a64_04cb_11ee_b2d3_12e413fbf88crow2_col0\" class=\"data row2 col0\" >1.13e+04</td>\n",
       "                        <td id=\"T_1c489a64_04cb_11ee_b2d3_12e413fbf88crow2_col1\" class=\"data row2 col1\" >1.14e+04</td>\n",
       "                        <td id=\"T_1c489a64_04cb_11ee_b2d3_12e413fbf88crow2_col2\" class=\"data row2 col2\" >0.105</td>\n",
       "                        <td id=\"T_1c489a64_04cb_11ee_b2d3_12e413fbf88crow2_col3\" class=\"data row2 col3\" >0.105</td>\n",
       "            </tr>\n",
       "            <tr>\n",
       "                        <th id=\"T_1c489a64_04cb_11ee_b2d3_12e413fbf88clevel0_row3\" class=\"row_heading level0 row3\" >15</th>\n",
       "                        <td id=\"T_1c489a64_04cb_11ee_b2d3_12e413fbf88crow3_col0\" class=\"data row3 col0\" >1.1e+04</td>\n",
       "                        <td id=\"T_1c489a64_04cb_11ee_b2d3_12e413fbf88crow3_col1\" class=\"data row3 col1\" >1.1e+04</td>\n",
       "                        <td id=\"T_1c489a64_04cb_11ee_b2d3_12e413fbf88crow3_col2\" class=\"data row3 col2\" >0.0777</td>\n",
       "                        <td id=\"T_1c489a64_04cb_11ee_b2d3_12e413fbf88crow3_col3\" class=\"data row3 col3\" >0.0789</td>\n",
       "            </tr>\n",
       "    </tbody></table>"
      ],
      "text/plain": [
       "<pandas.io.formats.style.Styler at 0x7fc4284241f0>"
      ]
     },
     "metadata": {},
     "output_type": "display_data"
    },
    {
     "data": {
      "text/html": [
       "<style  type=\"text/css\" >\n",
       "</style><table id=\"T_1caa8d8c_04cb_11ee_b2d3_12e413fbf88c\" ><thead>    <tr>        <th class=\"index_name level0\" >Shell No.</th>        <th class=\"col_heading level0 col0\" >t_rad</th>        <th class=\"col_heading level0 col1\" >next_t_rad</th>        <th class=\"col_heading level0 col2\" >w</th>        <th class=\"col_heading level0 col3\" >next_w</th>    </tr></thead><tbody>\n",
       "                <tr>\n",
       "                        <th id=\"T_1caa8d8c_04cb_11ee_b2d3_12e413fbf88clevel0_row0\" class=\"row_heading level0 row0\" >0</th>\n",
       "                        <td id=\"T_1caa8d8c_04cb_11ee_b2d3_12e413fbf88crow0_col0\" class=\"data row0 col0\" >1.12e+04</td>\n",
       "                        <td id=\"T_1caa8d8c_04cb_11ee_b2d3_12e413fbf88crow0_col1\" class=\"data row0 col1\" >1.12e+04</td>\n",
       "                        <td id=\"T_1caa8d8c_04cb_11ee_b2d3_12e413fbf88crow0_col2\" class=\"data row0 col2\" >0.483</td>\n",
       "                        <td id=\"T_1caa8d8c_04cb_11ee_b2d3_12e413fbf88crow0_col3\" class=\"data row0 col3\" >0.48</td>\n",
       "            </tr>\n",
       "            <tr>\n",
       "                        <th id=\"T_1caa8d8c_04cb_11ee_b2d3_12e413fbf88clevel0_row1\" class=\"row_heading level0 row1\" >5</th>\n",
       "                        <td id=\"T_1caa8d8c_04cb_11ee_b2d3_12e413fbf88crow1_col0\" class=\"data row1 col0\" >1.16e+04</td>\n",
       "                        <td id=\"T_1caa8d8c_04cb_11ee_b2d3_12e413fbf88crow1_col1\" class=\"data row1 col1\" >1.16e+04</td>\n",
       "                        <td id=\"T_1caa8d8c_04cb_11ee_b2d3_12e413fbf88crow1_col2\" class=\"data row1 col2\" >0.174</td>\n",
       "                        <td id=\"T_1caa8d8c_04cb_11ee_b2d3_12e413fbf88crow1_col3\" class=\"data row1 col3\" >0.174</td>\n",
       "            </tr>\n",
       "            <tr>\n",
       "                        <th id=\"T_1caa8d8c_04cb_11ee_b2d3_12e413fbf88clevel0_row2\" class=\"row_heading level0 row2\" >10</th>\n",
       "                        <td id=\"T_1caa8d8c_04cb_11ee_b2d3_12e413fbf88crow2_col0\" class=\"data row2 col0\" >1.14e+04</td>\n",
       "                        <td id=\"T_1caa8d8c_04cb_11ee_b2d3_12e413fbf88crow2_col1\" class=\"data row2 col1\" >1.13e+04</td>\n",
       "                        <td id=\"T_1caa8d8c_04cb_11ee_b2d3_12e413fbf88crow2_col2\" class=\"data row2 col2\" >0.105</td>\n",
       "                        <td id=\"T_1caa8d8c_04cb_11ee_b2d3_12e413fbf88crow2_col3\" class=\"data row2 col3\" >0.105</td>\n",
       "            </tr>\n",
       "            <tr>\n",
       "                        <th id=\"T_1caa8d8c_04cb_11ee_b2d3_12e413fbf88clevel0_row3\" class=\"row_heading level0 row3\" >15</th>\n",
       "                        <td id=\"T_1caa8d8c_04cb_11ee_b2d3_12e413fbf88crow3_col0\" class=\"data row3 col0\" >1.1e+04</td>\n",
       "                        <td id=\"T_1caa8d8c_04cb_11ee_b2d3_12e413fbf88crow3_col1\" class=\"data row3 col1\" >1.09e+04</td>\n",
       "                        <td id=\"T_1caa8d8c_04cb_11ee_b2d3_12e413fbf88crow3_col2\" class=\"data row3 col2\" >0.0789</td>\n",
       "                        <td id=\"T_1caa8d8c_04cb_11ee_b2d3_12e413fbf88crow3_col3\" class=\"data row3 col3\" >0.0789</td>\n",
       "            </tr>\n",
       "    </tbody></table>"
      ],
      "text/plain": [
       "<pandas.io.formats.style.Styler at 0x7fc4422e0ac0>"
      ]
     },
     "metadata": {},
     "output_type": "display_data"
    },
    {
     "data": {
      "text/html": [
       "<style  type=\"text/css\" >\n",
       "</style><table id=\"T_1d0cd0fa_04cb_11ee_b2d3_12e413fbf88c\" ><thead>    <tr>        <th class=\"index_name level0\" >Shell No.</th>        <th class=\"col_heading level0 col0\" >t_rad</th>        <th class=\"col_heading level0 col1\" >next_t_rad</th>        <th class=\"col_heading level0 col2\" >w</th>        <th class=\"col_heading level0 col3\" >next_w</th>    </tr></thead><tbody>\n",
       "                <tr>\n",
       "                        <th id=\"T_1d0cd0fa_04cb_11ee_b2d3_12e413fbf88clevel0_row0\" class=\"row_heading level0 row0\" >0</th>\n",
       "                        <td id=\"T_1d0cd0fa_04cb_11ee_b2d3_12e413fbf88crow0_col0\" class=\"data row0 col0\" >1.12e+04</td>\n",
       "                        <td id=\"T_1d0cd0fa_04cb_11ee_b2d3_12e413fbf88crow0_col1\" class=\"data row0 col1\" >1.12e+04</td>\n",
       "                        <td id=\"T_1d0cd0fa_04cb_11ee_b2d3_12e413fbf88crow0_col2\" class=\"data row0 col2\" >0.48</td>\n",
       "                        <td id=\"T_1d0cd0fa_04cb_11ee_b2d3_12e413fbf88crow0_col3\" class=\"data row0 col3\" >0.486</td>\n",
       "            </tr>\n",
       "            <tr>\n",
       "                        <th id=\"T_1d0cd0fa_04cb_11ee_b2d3_12e413fbf88clevel0_row1\" class=\"row_heading level0 row1\" >5</th>\n",
       "                        <td id=\"T_1d0cd0fa_04cb_11ee_b2d3_12e413fbf88crow1_col0\" class=\"data row1 col0\" >1.16e+04</td>\n",
       "                        <td id=\"T_1d0cd0fa_04cb_11ee_b2d3_12e413fbf88crow1_col1\" class=\"data row1 col1\" >1.15e+04</td>\n",
       "                        <td id=\"T_1d0cd0fa_04cb_11ee_b2d3_12e413fbf88crow1_col2\" class=\"data row1 col2\" >0.174</td>\n",
       "                        <td id=\"T_1d0cd0fa_04cb_11ee_b2d3_12e413fbf88crow1_col3\" class=\"data row1 col3\" >0.18</td>\n",
       "            </tr>\n",
       "            <tr>\n",
       "                        <th id=\"T_1d0cd0fa_04cb_11ee_b2d3_12e413fbf88clevel0_row2\" class=\"row_heading level0 row2\" >10</th>\n",
       "                        <td id=\"T_1d0cd0fa_04cb_11ee_b2d3_12e413fbf88crow2_col0\" class=\"data row2 col0\" >1.13e+04</td>\n",
       "                        <td id=\"T_1d0cd0fa_04cb_11ee_b2d3_12e413fbf88crow2_col1\" class=\"data row2 col1\" >1.12e+04</td>\n",
       "                        <td id=\"T_1d0cd0fa_04cb_11ee_b2d3_12e413fbf88crow2_col2\" class=\"data row2 col2\" >0.105</td>\n",
       "                        <td id=\"T_1d0cd0fa_04cb_11ee_b2d3_12e413fbf88crow2_col3\" class=\"data row2 col3\" >0.108</td>\n",
       "            </tr>\n",
       "            <tr>\n",
       "                        <th id=\"T_1d0cd0fa_04cb_11ee_b2d3_12e413fbf88clevel0_row3\" class=\"row_heading level0 row3\" >15</th>\n",
       "                        <td id=\"T_1d0cd0fa_04cb_11ee_b2d3_12e413fbf88crow3_col0\" class=\"data row3 col0\" >1.09e+04</td>\n",
       "                        <td id=\"T_1d0cd0fa_04cb_11ee_b2d3_12e413fbf88crow3_col1\" class=\"data row3 col1\" >1.09e+04</td>\n",
       "                        <td id=\"T_1d0cd0fa_04cb_11ee_b2d3_12e413fbf88crow3_col2\" class=\"data row3 col2\" >0.0789</td>\n",
       "                        <td id=\"T_1d0cd0fa_04cb_11ee_b2d3_12e413fbf88crow3_col3\" class=\"data row3 col3\" >0.0793</td>\n",
       "            </tr>\n",
       "    </tbody></table>"
      ],
      "text/plain": [
       "<pandas.io.formats.style.Styler at 0x7fc3e15d1910>"
      ]
     },
     "metadata": {},
     "output_type": "display_data"
    },
    {
     "data": {
      "text/html": [
       "<style  type=\"text/css\" >\n",
       "</style><table id=\"T_1d808932_04cb_11ee_b2d3_12e413fbf88c\" ><thead>    <tr>        <th class=\"index_name level0\" >Shell No.</th>        <th class=\"col_heading level0 col0\" >t_rad</th>        <th class=\"col_heading level0 col1\" >next_t_rad</th>        <th class=\"col_heading level0 col2\" >w</th>        <th class=\"col_heading level0 col3\" >next_w</th>    </tr></thead><tbody>\n",
       "                <tr>\n",
       "                        <th id=\"T_1d808932_04cb_11ee_b2d3_12e413fbf88clevel0_row0\" class=\"row_heading level0 row0\" >0</th>\n",
       "                        <td id=\"T_1d808932_04cb_11ee_b2d3_12e413fbf88crow0_col0\" class=\"data row0 col0\" >1.12e+04</td>\n",
       "                        <td id=\"T_1d808932_04cb_11ee_b2d3_12e413fbf88crow0_col1\" class=\"data row0 col1\" >1.12e+04</td>\n",
       "                        <td id=\"T_1d808932_04cb_11ee_b2d3_12e413fbf88crow0_col2\" class=\"data row0 col2\" >0.486</td>\n",
       "                        <td id=\"T_1d808932_04cb_11ee_b2d3_12e413fbf88crow0_col3\" class=\"data row0 col3\" >0.486</td>\n",
       "            </tr>\n",
       "            <tr>\n",
       "                        <th id=\"T_1d808932_04cb_11ee_b2d3_12e413fbf88clevel0_row1\" class=\"row_heading level0 row1\" >5</th>\n",
       "                        <td id=\"T_1d808932_04cb_11ee_b2d3_12e413fbf88crow1_col0\" class=\"data row1 col0\" >1.15e+04</td>\n",
       "                        <td id=\"T_1d808932_04cb_11ee_b2d3_12e413fbf88crow1_col1\" class=\"data row1 col1\" >1.15e+04</td>\n",
       "                        <td id=\"T_1d808932_04cb_11ee_b2d3_12e413fbf88crow1_col2\" class=\"data row1 col2\" >0.18</td>\n",
       "                        <td id=\"T_1d808932_04cb_11ee_b2d3_12e413fbf88crow1_col3\" class=\"data row1 col3\" >0.177</td>\n",
       "            </tr>\n",
       "            <tr>\n",
       "                        <th id=\"T_1d808932_04cb_11ee_b2d3_12e413fbf88clevel0_row2\" class=\"row_heading level0 row2\" >10</th>\n",
       "                        <td id=\"T_1d808932_04cb_11ee_b2d3_12e413fbf88crow2_col0\" class=\"data row2 col0\" >1.12e+04</td>\n",
       "                        <td id=\"T_1d808932_04cb_11ee_b2d3_12e413fbf88crow2_col1\" class=\"data row2 col1\" >1.13e+04</td>\n",
       "                        <td id=\"T_1d808932_04cb_11ee_b2d3_12e413fbf88crow2_col2\" class=\"data row2 col2\" >0.108</td>\n",
       "                        <td id=\"T_1d808932_04cb_11ee_b2d3_12e413fbf88crow2_col3\" class=\"data row2 col3\" >0.107</td>\n",
       "            </tr>\n",
       "            <tr>\n",
       "                        <th id=\"T_1d808932_04cb_11ee_b2d3_12e413fbf88clevel0_row3\" class=\"row_heading level0 row3\" >15</th>\n",
       "                        <td id=\"T_1d808932_04cb_11ee_b2d3_12e413fbf88crow3_col0\" class=\"data row3 col0\" >1.09e+04</td>\n",
       "                        <td id=\"T_1d808932_04cb_11ee_b2d3_12e413fbf88crow3_col1\" class=\"data row3 col1\" >1.09e+04</td>\n",
       "                        <td id=\"T_1d808932_04cb_11ee_b2d3_12e413fbf88crow3_col2\" class=\"data row3 col2\" >0.0793</td>\n",
       "                        <td id=\"T_1d808932_04cb_11ee_b2d3_12e413fbf88crow3_col3\" class=\"data row3 col3\" >0.0811</td>\n",
       "            </tr>\n",
       "    </tbody></table>"
      ],
      "text/plain": [
       "<pandas.io.formats.style.Styler at 0x7fc4422e01c0>"
      ]
     },
     "metadata": {},
     "output_type": "display_data"
    },
    {
     "data": {
      "text/html": [
       "<style  type=\"text/css\" >\n",
       "</style><table id=\"T_1de3580a_04cb_11ee_b2d3_12e413fbf88c\" ><thead>    <tr>        <th class=\"index_name level0\" >Shell No.</th>        <th class=\"col_heading level0 col0\" >t_rad</th>        <th class=\"col_heading level0 col1\" >next_t_rad</th>        <th class=\"col_heading level0 col2\" >w</th>        <th class=\"col_heading level0 col3\" >next_w</th>    </tr></thead><tbody>\n",
       "                <tr>\n",
       "                        <th id=\"T_1de3580a_04cb_11ee_b2d3_12e413fbf88clevel0_row0\" class=\"row_heading level0 row0\" >0</th>\n",
       "                        <td id=\"T_1de3580a_04cb_11ee_b2d3_12e413fbf88crow0_col0\" class=\"data row0 col0\" >1.12e+04</td>\n",
       "                        <td id=\"T_1de3580a_04cb_11ee_b2d3_12e413fbf88crow0_col1\" class=\"data row0 col1\" >1.12e+04</td>\n",
       "                        <td id=\"T_1de3580a_04cb_11ee_b2d3_12e413fbf88crow0_col2\" class=\"data row0 col2\" >0.486</td>\n",
       "                        <td id=\"T_1de3580a_04cb_11ee_b2d3_12e413fbf88crow0_col3\" class=\"data row0 col3\" >0.483</td>\n",
       "            </tr>\n",
       "            <tr>\n",
       "                        <th id=\"T_1de3580a_04cb_11ee_b2d3_12e413fbf88clevel0_row1\" class=\"row_heading level0 row1\" >5</th>\n",
       "                        <td id=\"T_1de3580a_04cb_11ee_b2d3_12e413fbf88crow1_col0\" class=\"data row1 col0\" >1.15e+04</td>\n",
       "                        <td id=\"T_1de3580a_04cb_11ee_b2d3_12e413fbf88crow1_col1\" class=\"data row1 col1\" >1.16e+04</td>\n",
       "                        <td id=\"T_1de3580a_04cb_11ee_b2d3_12e413fbf88crow1_col2\" class=\"data row1 col2\" >0.177</td>\n",
       "                        <td id=\"T_1de3580a_04cb_11ee_b2d3_12e413fbf88crow1_col3\" class=\"data row1 col3\" >0.17</td>\n",
       "            </tr>\n",
       "            <tr>\n",
       "                        <th id=\"T_1de3580a_04cb_11ee_b2d3_12e413fbf88clevel0_row2\" class=\"row_heading level0 row2\" >10</th>\n",
       "                        <td id=\"T_1de3580a_04cb_11ee_b2d3_12e413fbf88crow2_col0\" class=\"data row2 col0\" >1.13e+04</td>\n",
       "                        <td id=\"T_1de3580a_04cb_11ee_b2d3_12e413fbf88crow2_col1\" class=\"data row2 col1\" >1.13e+04</td>\n",
       "                        <td id=\"T_1de3580a_04cb_11ee_b2d3_12e413fbf88crow2_col2\" class=\"data row2 col2\" >0.107</td>\n",
       "                        <td id=\"T_1de3580a_04cb_11ee_b2d3_12e413fbf88crow2_col3\" class=\"data row2 col3\" >0.107</td>\n",
       "            </tr>\n",
       "            <tr>\n",
       "                        <th id=\"T_1de3580a_04cb_11ee_b2d3_12e413fbf88clevel0_row3\" class=\"row_heading level0 row3\" >15</th>\n",
       "                        <td id=\"T_1de3580a_04cb_11ee_b2d3_12e413fbf88crow3_col0\" class=\"data row3 col0\" >1.09e+04</td>\n",
       "                        <td id=\"T_1de3580a_04cb_11ee_b2d3_12e413fbf88crow3_col1\" class=\"data row3 col1\" >1.09e+04</td>\n",
       "                        <td id=\"T_1de3580a_04cb_11ee_b2d3_12e413fbf88crow3_col2\" class=\"data row3 col2\" >0.0811</td>\n",
       "                        <td id=\"T_1de3580a_04cb_11ee_b2d3_12e413fbf88crow3_col3\" class=\"data row3 col3\" >0.0799</td>\n",
       "            </tr>\n",
       "    </tbody></table>"
      ],
      "text/plain": [
       "<pandas.io.formats.style.Styler at 0x7fc428fc1940>"
      ]
     },
     "metadata": {},
     "output_type": "display_data"
    },
    {
     "data": {
      "text/html": [
       "<style  type=\"text/css\" >\n",
       "</style><table id=\"T_1e458980_04cb_11ee_b2d3_12e413fbf88c\" ><thead>    <tr>        <th class=\"index_name level0\" >Shell No.</th>        <th class=\"col_heading level0 col0\" >t_rad</th>        <th class=\"col_heading level0 col1\" >next_t_rad</th>        <th class=\"col_heading level0 col2\" >w</th>        <th class=\"col_heading level0 col3\" >next_w</th>    </tr></thead><tbody>\n",
       "                <tr>\n",
       "                        <th id=\"T_1e458980_04cb_11ee_b2d3_12e413fbf88clevel0_row0\" class=\"row_heading level0 row0\" >0</th>\n",
       "                        <td id=\"T_1e458980_04cb_11ee_b2d3_12e413fbf88crow0_col0\" class=\"data row0 col0\" >1.12e+04</td>\n",
       "                        <td id=\"T_1e458980_04cb_11ee_b2d3_12e413fbf88crow0_col1\" class=\"data row0 col1\" >1.12e+04</td>\n",
       "                        <td id=\"T_1e458980_04cb_11ee_b2d3_12e413fbf88crow0_col2\" class=\"data row0 col2\" >0.483</td>\n",
       "                        <td id=\"T_1e458980_04cb_11ee_b2d3_12e413fbf88crow0_col3\" class=\"data row0 col3\" >0.482</td>\n",
       "            </tr>\n",
       "            <tr>\n",
       "                        <th id=\"T_1e458980_04cb_11ee_b2d3_12e413fbf88clevel0_row1\" class=\"row_heading level0 row1\" >5</th>\n",
       "                        <td id=\"T_1e458980_04cb_11ee_b2d3_12e413fbf88crow1_col0\" class=\"data row1 col0\" >1.16e+04</td>\n",
       "                        <td id=\"T_1e458980_04cb_11ee_b2d3_12e413fbf88crow1_col1\" class=\"data row1 col1\" >1.16e+04</td>\n",
       "                        <td id=\"T_1e458980_04cb_11ee_b2d3_12e413fbf88crow1_col2\" class=\"data row1 col2\" >0.17</td>\n",
       "                        <td id=\"T_1e458980_04cb_11ee_b2d3_12e413fbf88crow1_col3\" class=\"data row1 col3\" >0.172</td>\n",
       "            </tr>\n",
       "            <tr>\n",
       "                        <th id=\"T_1e458980_04cb_11ee_b2d3_12e413fbf88clevel0_row2\" class=\"row_heading level0 row2\" >10</th>\n",
       "                        <td id=\"T_1e458980_04cb_11ee_b2d3_12e413fbf88crow2_col0\" class=\"data row2 col0\" >1.13e+04</td>\n",
       "                        <td id=\"T_1e458980_04cb_11ee_b2d3_12e413fbf88crow2_col1\" class=\"data row2 col1\" >1.13e+04</td>\n",
       "                        <td id=\"T_1e458980_04cb_11ee_b2d3_12e413fbf88crow2_col2\" class=\"data row2 col2\" >0.107</td>\n",
       "                        <td id=\"T_1e458980_04cb_11ee_b2d3_12e413fbf88crow2_col3\" class=\"data row2 col3\" >0.105</td>\n",
       "            </tr>\n",
       "            <tr>\n",
       "                        <th id=\"T_1e458980_04cb_11ee_b2d3_12e413fbf88clevel0_row3\" class=\"row_heading level0 row3\" >15</th>\n",
       "                        <td id=\"T_1e458980_04cb_11ee_b2d3_12e413fbf88crow3_col0\" class=\"data row3 col0\" >1.09e+04</td>\n",
       "                        <td id=\"T_1e458980_04cb_11ee_b2d3_12e413fbf88crow3_col1\" class=\"data row3 col1\" >1.09e+04</td>\n",
       "                        <td id=\"T_1e458980_04cb_11ee_b2d3_12e413fbf88crow3_col2\" class=\"data row3 col2\" >0.0799</td>\n",
       "                        <td id=\"T_1e458980_04cb_11ee_b2d3_12e413fbf88crow3_col3\" class=\"data row3 col3\" >0.0807</td>\n",
       "            </tr>\n",
       "    </tbody></table>"
      ],
      "text/plain": [
       "<pandas.io.formats.style.Styler at 0x7fc437c3d7f0>"
      ]
     },
     "metadata": {},
     "output_type": "display_data"
    },
    {
     "data": {
      "text/html": [
       "<style  type=\"text/css\" >\n",
       "</style><table id=\"T_1ea708ea_04cb_11ee_b2d3_12e413fbf88c\" ><thead>    <tr>        <th class=\"index_name level0\" >Shell No.</th>        <th class=\"col_heading level0 col0\" >t_rad</th>        <th class=\"col_heading level0 col1\" >next_t_rad</th>        <th class=\"col_heading level0 col2\" >w</th>        <th class=\"col_heading level0 col3\" >next_w</th>    </tr></thead><tbody>\n",
       "                <tr>\n",
       "                        <th id=\"T_1ea708ea_04cb_11ee_b2d3_12e413fbf88clevel0_row0\" class=\"row_heading level0 row0\" >0</th>\n",
       "                        <td id=\"T_1ea708ea_04cb_11ee_b2d3_12e413fbf88crow0_col0\" class=\"data row0 col0\" >1.12e+04</td>\n",
       "                        <td id=\"T_1ea708ea_04cb_11ee_b2d3_12e413fbf88crow0_col1\" class=\"data row0 col1\" >1.12e+04</td>\n",
       "                        <td id=\"T_1ea708ea_04cb_11ee_b2d3_12e413fbf88crow0_col2\" class=\"data row0 col2\" >0.482</td>\n",
       "                        <td id=\"T_1ea708ea_04cb_11ee_b2d3_12e413fbf88crow0_col3\" class=\"data row0 col3\" >0.478</td>\n",
       "            </tr>\n",
       "            <tr>\n",
       "                        <th id=\"T_1ea708ea_04cb_11ee_b2d3_12e413fbf88clevel0_row1\" class=\"row_heading level0 row1\" >5</th>\n",
       "                        <td id=\"T_1ea708ea_04cb_11ee_b2d3_12e413fbf88crow1_col0\" class=\"data row1 col0\" >1.16e+04</td>\n",
       "                        <td id=\"T_1ea708ea_04cb_11ee_b2d3_12e413fbf88crow1_col1\" class=\"data row1 col1\" >1.14e+04</td>\n",
       "                        <td id=\"T_1ea708ea_04cb_11ee_b2d3_12e413fbf88crow1_col2\" class=\"data row1 col2\" >0.172</td>\n",
       "                        <td id=\"T_1ea708ea_04cb_11ee_b2d3_12e413fbf88crow1_col3\" class=\"data row1 col3\" >0.177</td>\n",
       "            </tr>\n",
       "            <tr>\n",
       "                        <th id=\"T_1ea708ea_04cb_11ee_b2d3_12e413fbf88clevel0_row2\" class=\"row_heading level0 row2\" >10</th>\n",
       "                        <td id=\"T_1ea708ea_04cb_11ee_b2d3_12e413fbf88crow2_col0\" class=\"data row2 col0\" >1.13e+04</td>\n",
       "                        <td id=\"T_1ea708ea_04cb_11ee_b2d3_12e413fbf88crow2_col1\" class=\"data row2 col1\" >1.13e+04</td>\n",
       "                        <td id=\"T_1ea708ea_04cb_11ee_b2d3_12e413fbf88crow2_col2\" class=\"data row2 col2\" >0.105</td>\n",
       "                        <td id=\"T_1ea708ea_04cb_11ee_b2d3_12e413fbf88crow2_col3\" class=\"data row2 col3\" >0.107</td>\n",
       "            </tr>\n",
       "            <tr>\n",
       "                        <th id=\"T_1ea708ea_04cb_11ee_b2d3_12e413fbf88clevel0_row3\" class=\"row_heading level0 row3\" >15</th>\n",
       "                        <td id=\"T_1ea708ea_04cb_11ee_b2d3_12e413fbf88crow3_col0\" class=\"data row3 col0\" >1.09e+04</td>\n",
       "                        <td id=\"T_1ea708ea_04cb_11ee_b2d3_12e413fbf88crow3_col1\" class=\"data row3 col1\" >1.08e+04</td>\n",
       "                        <td id=\"T_1ea708ea_04cb_11ee_b2d3_12e413fbf88crow3_col2\" class=\"data row3 col2\" >0.0807</td>\n",
       "                        <td id=\"T_1ea708ea_04cb_11ee_b2d3_12e413fbf88crow3_col3\" class=\"data row3 col3\" >0.0814</td>\n",
       "            </tr>\n",
       "    </tbody></table>"
      ],
      "text/plain": [
       "<pandas.io.formats.style.Styler at 0x7fc4422ed970>"
      ]
     },
     "metadata": {},
     "output_type": "display_data"
    }
   ],
   "source": [
    "### Run Simulation\n",
    "config = Configuration.from_yaml('../../../docs/tardis_example.yml')\n",
    "atom_data = AtomData.from_hdf(os.path.join(get_data_dir(), 'kurucz_cd23_chianti_H_He.h5'))\n",
    "model = Radial1DModel.from_config(config, atom_data=atom_data)\n",
    "plasma = assemble_plasma(config, model, atom_data=atom_data)\n",
    "sim = Simulation.from_config(config, model=model, plasma=plasma)\n",
    "sim.run()"
   ]
  },
  {
   "cell_type": "code",
   "execution_count": 3,
   "metadata": {},
   "outputs": [],
   "source": [
    "### Define constants (Ion and number of shells to display)\n",
    "ATOMIC_NUMBER = 2 # He\n",
    "ION_NUMBER = 0\n",
    "ATOM_NAME = sim.plasma.atomic_data.atom_data.loc[ATOMIC_NUMBER]['name']\n",
    "ATOMIC_SYMBOL = sim.plasma.atomic_data.atom_data.loc[ATOMIC_NUMBER]['symbol']"
   ]
  },
  {
   "cell_type": "code",
   "execution_count": 4,
   "metadata": {},
   "outputs": [],
   "source": [
    "NUM_SHELLS = 10 # Should be input by user (or dependent on element)\n",
    "\n",
    "### Get energy levels and convert to eV\n",
    "raw_energy_levels = sim.plasma.atomic_data.levels.loc[ATOMIC_NUMBER, ION_NUMBER].loc[1:NUM_SHELLS]\n",
    "raw_energy_levels = raw_energy_levels.energy / (u.electronvolt.to('J') * 1e7)\n",
    "raw_energy_levels = pd.Series(raw_energy_levels, name='energy')"
   ]
  },
  {
   "cell_type": "code",
   "execution_count": 5,
   "metadata": {},
   "outputs": [],
   "source": [
    "### Get level populations\n",
    "raw_level_populations = sim.plasma.level_number_density.loc[ATOMIC_NUMBER, ION_NUMBER].loc[1:NUM_SHELLS]\n",
    "\n",
    "# Average out the level populations across all zones (TODO: might include an option to select the zone number later)\n",
    "raw_level_populations = raw_level_populations.mean(axis=1)\n",
    "\n",
    "raw_level_populations = pd.Series(raw_level_populations, name='population')"
   ]
  },
  {
   "cell_type": "code",
   "execution_count": 6,
   "metadata": {},
   "outputs": [],
   "source": [
    "### Join level populations and energy values\n",
    "raw_level_data = pd.merge(raw_energy_levels, raw_level_populations, left_index=True, right_index=True)"
   ]
  },
  {
   "cell_type": "code",
   "execution_count": 7,
   "metadata": {},
   "outputs": [],
   "source": [
    "### Merge the levels if energy difference is too less\n",
    "LEVEL_DIFF_THRESHOLD = 0.01\n",
    "\n",
    "# Get new level numbers\n",
    "raw_level_data['merged_level_number'] = (raw_level_data['energy'].pct_change().abs() > LEVEL_DIFF_THRESHOLD).cumsum() + 1\n",
    "\n",
    "# Group data with new level numbers\n",
    "level_data = raw_level_data.reset_index().groupby('merged_level_number').agg(\n",
    "                                 energy=('energy', 'mean'), # Set energy as mean of merged levels\n",
    "                                 population=('population', 'sum')) # Add the populations of merged levels"
   ]
  },
  {
   "cell_type": "code",
   "execution_count": 8,
   "metadata": {},
   "outputs": [
    {
     "name": "stderr",
     "output_type": "stream",
     "text": [
      "/var/folders/y3/003r_9sn0ysgqcll3s5phtyc0000gn/T/ipykernel_49824/634769751.py:4: PerformanceWarning:\n",
      "\n",
      "indexing past lexsort depth may impact performance.\n",
      "\n"
     ]
    }
   ],
   "source": [
    "FILTER_MODE = 'packet_out_nu' # Emitted option\n",
    "\n",
    "### Get lines data\n",
    "lines_data = sim.plasma.atomic_data.lines.loc[ATOMIC_NUMBER, ION_NUMBER].reset_index().set_index('line_id')\n",
    "\n",
    "# Get relevant lines for current simulation\n",
    "last_line_interaction = LastLineInteraction.from_model(sim, FILTER_MODE)\n",
    "last_line_interaction.atomic_number = ATOMIC_NUMBER\n",
    "last_line_interaction.ion_number = ION_NUMBER"
   ]
  },
  {
   "cell_type": "code",
   "execution_count": 9,
   "metadata": {},
   "outputs": [],
   "source": [
    "# Get the excitation/de-excitation transitions from last_line_interaction object\n",
    "excit_lines = last_line_interaction.last_line_in.reset_index().groupby(['level_number_lower', 'level_number_upper']).agg(\n",
    "    num_electrons=('line_id', 'count'), # Take count of lines\n",
    "    wavelength=('wavelength', 'first'), # Take first of wavelengths\n",
    ").reset_index()\n",
    "\n",
    "deexcit_lines = last_line_interaction.last_line_out.reset_index().groupby(['level_number_lower', 'level_number_upper']).agg(\n",
    "    num_electrons=('line_id', 'count'), # Take count of lines\n",
    "    wavelength=('wavelength', 'first'), # Take first of wavelengths\n",
    ").reset_index()\n",
    "\n",
    "# Filter transitions to only include transitions upto the NUM_SHELLS\n",
    "excit_lines = excit_lines.loc[\n",
    "    (excit_lines.level_number_lower <= NUM_SHELLS) & (excit_lines.level_number_upper <= NUM_SHELLS)\n",
    "]\n",
    "deexcit_lines = deexcit_lines.loc[\n",
    "    (deexcit_lines.level_number_lower <= NUM_SHELLS) & (deexcit_lines.level_number_upper <= NUM_SHELLS)\n",
    "]\n",
    "\n",
    "# Map the levels to merged levels\n",
    "excit_lines['merged_level_number_lower'] = excit_lines.level_number_lower.map(raw_level_data.merged_level_number)\n",
    "excit_lines['merged_level_number_upper'] = excit_lines.level_number_upper.map(raw_level_data.merged_level_number)\n",
    "deexcit_lines['merged_level_number_lower'] = deexcit_lines.level_number_lower.map(raw_level_data.merged_level_number)\n",
    "deexcit_lines['merged_level_number_upper'] = deexcit_lines.level_number_upper.map(raw_level_data.merged_level_number)\n",
    "\n",
    "# Group by level pairs\n",
    "excit_lines = excit_lines.groupby(['merged_level_number_lower', 'merged_level_number_upper']).agg(\n",
    "    wavelength=('wavelength', 'mean'), # Take mean of wavelength\n",
    "    num_electrons=('num_electrons', 'sum'), # Take sum of counts\n",
    ").reset_index()\n",
    "deexcit_lines = deexcit_lines.groupby(['merged_level_number_lower', 'merged_level_number_upper']).agg(\n",
    "    wavelength=('wavelength', 'mean'), # Take mean of wavelength\n",
    "    num_electrons=('num_electrons', 'sum'), # Take sum of counts\n",
    ").reset_index()\n",
    "\n",
    "# Compute the standardized log number of electrons for transition line thickness and offset\n",
    "excit_log_num_electrons_range = np.log10(np.max(excit_lines.num_electrons)) - np.log10(np.min(excit_lines.num_electrons))\n",
    "excit_lines['standard_log_num_electrons'] = (np.log10(excit_lines.num_electrons) - np.log10(np.min(excit_lines.num_electrons))) / excit_log_num_electrons_range\n",
    "\n",
    "deexcit_log_num_electrons_range = np.log10(np.max(deexcit_lines.num_electrons)) - np.log10(np.min(deexcit_lines.num_electrons))\n",
    "deexcit_lines['standard_log_num_electrons'] = (np.log10(deexcit_lines.num_electrons) - np.log10(np.min(deexcit_lines.num_electrons))) / deexcit_log_num_electrons_range"
   ]
  },
  {
   "cell_type": "code",
   "execution_count": 15,
   "metadata": {},
   "outputs": [
    {
     "name": "stderr",
     "output_type": "stream",
     "text": [
      "/var/folders/y3/003r_9sn0ysgqcll3s5phtyc0000gn/T/ipykernel_49824/2594994284.py:57: RuntimeWarning:\n",
      "\n",
      "invalid value encountered in double_scalars\n",
      "\n",
      "/var/folders/y3/003r_9sn0ysgqcll3s5phtyc0000gn/T/ipykernel_49824/2594994284.py:80: RuntimeWarning:\n",
      "\n",
      "invalid value encountered in double_scalars\n",
      "\n"
     ]
    },
    {
     "data": {
      "text/html": [
       "<div>                            <div id=\"73ab8f86-2bdf-41be-962a-498df922c683\" class=\"plotly-graph-div\" style=\"height:700px; width:700px;\"></div>            <script type=\"text/javascript\">                require([\"plotly\"], function(Plotly) {                    window.PLOTLYENV=window.PLOTLYENV || {};                                    if (document.getElementById(\"73ab8f86-2bdf-41be-962a-498df922c683\")) {                    Plotly.newPlot(                        \"73ab8f86-2bdf-41be-962a-498df922c683\",                        [{\"line\":{\"color\":\"black\",\"width\":3.4929395037052045},\"mode\":\"lines+text\",\"showlegend\":false,\"text\":[\"\",\"n=1\"],\"textposition\":\"top right\",\"x\":[0,1],\"y\":[19.819626814193292,19.819626814193292],\"type\":\"scatter\"},{\"line\":{\"color\":\"black\",\"width\":1.0},\"mode\":\"lines+text\",\"showlegend\":false,\"text\":[\"\",\"n=2\"],\"textposition\":\"top right\",\"x\":[0,1],\"y\":[20.615786845598397,20.615786845598397],\"type\":\"scatter\"},{\"line\":{\"color\":\"black\",\"width\":3.3983304897795397},\"mode\":\"lines+text\",\"showlegend\":false,\"text\":[\"\",\"n=3\"],\"textposition\":\"top right\",\"x\":[0,1],\"y\":[20.964146224319382,20.964146224319382],\"type\":\"scatter\"},{\"line\":{\"color\":\"black\",\"width\":1.6284619059648644},\"mode\":\"lines+text\",\"showlegend\":false,\"text\":[\"\",\"n=4\"],\"textposition\":\"top right\",\"x\":[0,1],\"y\":[21.2180348553714,21.2180348553714],\"type\":\"scatter\"},{\"line\":{\"color\":\"black\",\"width\":1.1666551651558517},\"mode\":\"lines+text\",\"showlegend\":false,\"text\":[\"\",\"n=5\"],\"textposition\":\"top right\",\"x\":[0,1],\"y\":[22.91324518442339,22.91324518442339],\"type\":\"scatter\"}],                        {\"template\":{\"data\":{\"histogram2dcontour\":[{\"type\":\"histogram2dcontour\",\"colorbar\":{\"outlinewidth\":0,\"ticks\":\"\"},\"colorscale\":[[0.0,\"#0d0887\"],[0.1111111111111111,\"#46039f\"],[0.2222222222222222,\"#7201a8\"],[0.3333333333333333,\"#9c179e\"],[0.4444444444444444,\"#bd3786\"],[0.5555555555555556,\"#d8576b\"],[0.6666666666666666,\"#ed7953\"],[0.7777777777777778,\"#fb9f3a\"],[0.8888888888888888,\"#fdca26\"],[1.0,\"#f0f921\"]]}],\"choropleth\":[{\"type\":\"choropleth\",\"colorbar\":{\"outlinewidth\":0,\"ticks\":\"\"}}],\"histogram2d\":[{\"type\":\"histogram2d\",\"colorbar\":{\"outlinewidth\":0,\"ticks\":\"\"},\"colorscale\":[[0.0,\"#0d0887\"],[0.1111111111111111,\"#46039f\"],[0.2222222222222222,\"#7201a8\"],[0.3333333333333333,\"#9c179e\"],[0.4444444444444444,\"#bd3786\"],[0.5555555555555556,\"#d8576b\"],[0.6666666666666666,\"#ed7953\"],[0.7777777777777778,\"#fb9f3a\"],[0.8888888888888888,\"#fdca26\"],[1.0,\"#f0f921\"]]}],\"heatmap\":[{\"type\":\"heatmap\",\"colorbar\":{\"outlinewidth\":0,\"ticks\":\"\"},\"colorscale\":[[0.0,\"#0d0887\"],[0.1111111111111111,\"#46039f\"],[0.2222222222222222,\"#7201a8\"],[0.3333333333333333,\"#9c179e\"],[0.4444444444444444,\"#bd3786\"],[0.5555555555555556,\"#d8576b\"],[0.6666666666666666,\"#ed7953\"],[0.7777777777777778,\"#fb9f3a\"],[0.8888888888888888,\"#fdca26\"],[1.0,\"#f0f921\"]]}],\"heatmapgl\":[{\"type\":\"heatmapgl\",\"colorbar\":{\"outlinewidth\":0,\"ticks\":\"\"},\"colorscale\":[[0.0,\"#0d0887\"],[0.1111111111111111,\"#46039f\"],[0.2222222222222222,\"#7201a8\"],[0.3333333333333333,\"#9c179e\"],[0.4444444444444444,\"#bd3786\"],[0.5555555555555556,\"#d8576b\"],[0.6666666666666666,\"#ed7953\"],[0.7777777777777778,\"#fb9f3a\"],[0.8888888888888888,\"#fdca26\"],[1.0,\"#f0f921\"]]}],\"contourcarpet\":[{\"type\":\"contourcarpet\",\"colorbar\":{\"outlinewidth\":0,\"ticks\":\"\"}}],\"contour\":[{\"type\":\"contour\",\"colorbar\":{\"outlinewidth\":0,\"ticks\":\"\"},\"colorscale\":[[0.0,\"#0d0887\"],[0.1111111111111111,\"#46039f\"],[0.2222222222222222,\"#7201a8\"],[0.3333333333333333,\"#9c179e\"],[0.4444444444444444,\"#bd3786\"],[0.5555555555555556,\"#d8576b\"],[0.6666666666666666,\"#ed7953\"],[0.7777777777777778,\"#fb9f3a\"],[0.8888888888888888,\"#fdca26\"],[1.0,\"#f0f921\"]]}],\"surface\":[{\"type\":\"surface\",\"colorbar\":{\"outlinewidth\":0,\"ticks\":\"\"},\"colorscale\":[[0.0,\"#0d0887\"],[0.1111111111111111,\"#46039f\"],[0.2222222222222222,\"#7201a8\"],[0.3333333333333333,\"#9c179e\"],[0.4444444444444444,\"#bd3786\"],[0.5555555555555556,\"#d8576b\"],[0.6666666666666666,\"#ed7953\"],[0.7777777777777778,\"#fb9f3a\"],[0.8888888888888888,\"#fdca26\"],[1.0,\"#f0f921\"]]}],\"mesh3d\":[{\"type\":\"mesh3d\",\"colorbar\":{\"outlinewidth\":0,\"ticks\":\"\"}}],\"scatter\":[{\"fillpattern\":{\"fillmode\":\"overlay\",\"size\":10,\"solidity\":0.2},\"type\":\"scatter\"}],\"parcoords\":[{\"type\":\"parcoords\",\"line\":{\"colorbar\":{\"outlinewidth\":0,\"ticks\":\"\"}}}],\"scatterpolargl\":[{\"type\":\"scatterpolargl\",\"marker\":{\"colorbar\":{\"outlinewidth\":0,\"ticks\":\"\"}}}],\"bar\":[{\"error_x\":{\"color\":\"#2a3f5f\"},\"error_y\":{\"color\":\"#2a3f5f\"},\"marker\":{\"line\":{\"color\":\"#E5ECF6\",\"width\":0.5},\"pattern\":{\"fillmode\":\"overlay\",\"size\":10,\"solidity\":0.2}},\"type\":\"bar\"}],\"scattergeo\":[{\"type\":\"scattergeo\",\"marker\":{\"colorbar\":{\"outlinewidth\":0,\"ticks\":\"\"}}}],\"scatterpolar\":[{\"type\":\"scatterpolar\",\"marker\":{\"colorbar\":{\"outlinewidth\":0,\"ticks\":\"\"}}}],\"histogram\":[{\"marker\":{\"pattern\":{\"fillmode\":\"overlay\",\"size\":10,\"solidity\":0.2}},\"type\":\"histogram\"}],\"scattergl\":[{\"type\":\"scattergl\",\"marker\":{\"colorbar\":{\"outlinewidth\":0,\"ticks\":\"\"}}}],\"scatter3d\":[{\"type\":\"scatter3d\",\"line\":{\"colorbar\":{\"outlinewidth\":0,\"ticks\":\"\"}},\"marker\":{\"colorbar\":{\"outlinewidth\":0,\"ticks\":\"\"}}}],\"scattermapbox\":[{\"type\":\"scattermapbox\",\"marker\":{\"colorbar\":{\"outlinewidth\":0,\"ticks\":\"\"}}}],\"scatterternary\":[{\"type\":\"scatterternary\",\"marker\":{\"colorbar\":{\"outlinewidth\":0,\"ticks\":\"\"}}}],\"scattercarpet\":[{\"type\":\"scattercarpet\",\"marker\":{\"colorbar\":{\"outlinewidth\":0,\"ticks\":\"\"}}}],\"carpet\":[{\"aaxis\":{\"endlinecolor\":\"#2a3f5f\",\"gridcolor\":\"white\",\"linecolor\":\"white\",\"minorgridcolor\":\"white\",\"startlinecolor\":\"#2a3f5f\"},\"baxis\":{\"endlinecolor\":\"#2a3f5f\",\"gridcolor\":\"white\",\"linecolor\":\"white\",\"minorgridcolor\":\"white\",\"startlinecolor\":\"#2a3f5f\"},\"type\":\"carpet\"}],\"table\":[{\"cells\":{\"fill\":{\"color\":\"#EBF0F8\"},\"line\":{\"color\":\"white\"}},\"header\":{\"fill\":{\"color\":\"#C8D4E3\"},\"line\":{\"color\":\"white\"}},\"type\":\"table\"}],\"barpolar\":[{\"marker\":{\"line\":{\"color\":\"#E5ECF6\",\"width\":0.5},\"pattern\":{\"fillmode\":\"overlay\",\"size\":10,\"solidity\":0.2}},\"type\":\"barpolar\"}],\"pie\":[{\"automargin\":true,\"type\":\"pie\"}]},\"layout\":{\"autotypenumbers\":\"strict\",\"colorway\":[\"#636efa\",\"#EF553B\",\"#00cc96\",\"#ab63fa\",\"#FFA15A\",\"#19d3f3\",\"#FF6692\",\"#B6E880\",\"#FF97FF\",\"#FECB52\"],\"font\":{\"color\":\"#2a3f5f\"},\"hovermode\":\"closest\",\"hoverlabel\":{\"align\":\"left\"},\"paper_bgcolor\":\"white\",\"plot_bgcolor\":\"#E5ECF6\",\"polar\":{\"bgcolor\":\"#E5ECF6\",\"angularaxis\":{\"gridcolor\":\"white\",\"linecolor\":\"white\",\"ticks\":\"\"},\"radialaxis\":{\"gridcolor\":\"white\",\"linecolor\":\"white\",\"ticks\":\"\"}},\"ternary\":{\"bgcolor\":\"#E5ECF6\",\"aaxis\":{\"gridcolor\":\"white\",\"linecolor\":\"white\",\"ticks\":\"\"},\"baxis\":{\"gridcolor\":\"white\",\"linecolor\":\"white\",\"ticks\":\"\"},\"caxis\":{\"gridcolor\":\"white\",\"linecolor\":\"white\",\"ticks\":\"\"}},\"coloraxis\":{\"colorbar\":{\"outlinewidth\":0,\"ticks\":\"\"}},\"colorscale\":{\"sequential\":[[0.0,\"#0d0887\"],[0.1111111111111111,\"#46039f\"],[0.2222222222222222,\"#7201a8\"],[0.3333333333333333,\"#9c179e\"],[0.4444444444444444,\"#bd3786\"],[0.5555555555555556,\"#d8576b\"],[0.6666666666666666,\"#ed7953\"],[0.7777777777777778,\"#fb9f3a\"],[0.8888888888888888,\"#fdca26\"],[1.0,\"#f0f921\"]],\"sequentialminus\":[[0.0,\"#0d0887\"],[0.1111111111111111,\"#46039f\"],[0.2222222222222222,\"#7201a8\"],[0.3333333333333333,\"#9c179e\"],[0.4444444444444444,\"#bd3786\"],[0.5555555555555556,\"#d8576b\"],[0.6666666666666666,\"#ed7953\"],[0.7777777777777778,\"#fb9f3a\"],[0.8888888888888888,\"#fdca26\"],[1.0,\"#f0f921\"]],\"diverging\":[[0,\"#8e0152\"],[0.1,\"#c51b7d\"],[0.2,\"#de77ae\"],[0.3,\"#f1b6da\"],[0.4,\"#fde0ef\"],[0.5,\"#f7f7f7\"],[0.6,\"#e6f5d0\"],[0.7,\"#b8e186\"],[0.8,\"#7fbc41\"],[0.9,\"#4d9221\"],[1,\"#276419\"]]},\"xaxis\":{\"gridcolor\":\"white\",\"linecolor\":\"white\",\"ticks\":\"\",\"title\":{\"standoff\":15},\"zerolinecolor\":\"white\",\"automargin\":true,\"zerolinewidth\":2},\"yaxis\":{\"gridcolor\":\"white\",\"linecolor\":\"white\",\"ticks\":\"\",\"title\":{\"standoff\":15},\"zerolinecolor\":\"white\",\"automargin\":true,\"zerolinewidth\":2},\"scene\":{\"xaxis\":{\"backgroundcolor\":\"#E5ECF6\",\"gridcolor\":\"white\",\"linecolor\":\"white\",\"showbackground\":true,\"ticks\":\"\",\"zerolinecolor\":\"white\",\"gridwidth\":2},\"yaxis\":{\"backgroundcolor\":\"#E5ECF6\",\"gridcolor\":\"white\",\"linecolor\":\"white\",\"showbackground\":true,\"ticks\":\"\",\"zerolinecolor\":\"white\",\"gridwidth\":2},\"zaxis\":{\"backgroundcolor\":\"#E5ECF6\",\"gridcolor\":\"white\",\"linecolor\":\"white\",\"showbackground\":true,\"ticks\":\"\",\"zerolinecolor\":\"white\",\"gridwidth\":2}},\"shapedefaults\":{\"line\":{\"color\":\"#2a3f5f\"}},\"annotationdefaults\":{\"arrowcolor\":\"#2a3f5f\",\"arrowhead\":0,\"arrowwidth\":1},\"geo\":{\"bgcolor\":\"white\",\"landcolor\":\"#E5ECF6\",\"subunitcolor\":\"white\",\"showland\":true,\"showlakes\":true,\"lakecolor\":\"white\"},\"title\":{\"x\":0.05},\"mapbox\":{\"style\":\"light\"}}},\"title\":{\"text\":\"Grotrian Diagram for Helium \",\"x\":0.5},\"xaxis\":{\"showticklabels\":false,\"showgrid\":false},\"yaxis\":{\"title\":{\"text\":\"Energy Level (eV)\"},\"showgrid\":false},\"plot_bgcolor\":\"white\",\"autosize\":false,\"width\":700,\"height\":700,\"showlegend\":false,\"annotations\":[{\"arrowcolor\":\"#b32c8e\",\"arrowhead\":2,\"arrowsize\":1,\"arrowwidth\":3.0,\"ax\":0,\"axref\":\"x\",\"ay\":19.819626814193292,\"ayref\":\"y\",\"showarrow\":true,\"x\":0.675,\"xref\":\"x\",\"y\":20.964146224319382,\"yref\":\"y\"},{\"arrowcolor\":\"#99159f\",\"arrowhead\":2,\"arrowsize\":1,\"arrowwidth\":2.2359911208807484,\"ax\":0,\"axref\":\"x\",\"ay\":19.819626814193292,\"ayref\":\"y\",\"showarrow\":true,\"x\":1.35,\"xref\":\"x\",\"y\":22.91324518442339,\"yref\":\"y\"},{\"arrowcolor\":\"#a82296\",\"arrowhead\":2,\"arrowsize\":1,\"arrowwidth\":2.0653886506850134,\"ax\":0,\"axref\":\"x\",\"ay\":20.964146224319382,\"ayref\":\"y\",\"showarrow\":true,\"x\":1.35,\"xref\":\"x\",\"y\":22.91324518442339,\"yref\":\"y\"},{\"arrowcolor\":\"#cf4c74\",\"arrowhead\":2,\"arrowsize\":1,\"arrowwidth\":1.0,\"ax\":0,\"axref\":\"x\",\"ay\":22.91324518442339,\"ayref\":\"y\",\"showarrow\":true,\"x\":null,\"xref\":\"x\",\"y\":22.91324518442339,\"yref\":\"y\"},{\"arrowcolor\":\"#b32c8e\",\"arrowhead\":2,\"arrowsize\":1,\"arrowwidth\":3.0,\"ax\":0,\"axref\":\"x\",\"ay\":20.964146224319382,\"ayref\":\"y\",\"showarrow\":true,\"x\":0.675,\"xref\":\"x\",\"y\":19.819626814193292,\"yref\":\"y\"},{\"arrowcolor\":\"#99159f\",\"arrowhead\":2,\"arrowsize\":1,\"arrowwidth\":2.2048141902497083,\"ax\":0,\"axref\":\"x\",\"ay\":22.91324518442339,\"ayref\":\"y\",\"showarrow\":true,\"x\":1.35,\"xref\":\"x\",\"y\":19.819626814193292,\"yref\":\"y\"},{\"arrowcolor\":\"#a82296\",\"arrowhead\":2,\"arrowsize\":1,\"arrowwidth\":2.1725529196203093,\"ax\":0,\"axref\":\"x\",\"ay\":22.91324518442339,\"ayref\":\"y\",\"showarrow\":true,\"x\":1.35,\"xref\":\"x\",\"y\":20.964146224319382,\"yref\":\"y\"},{\"arrowcolor\":\"#cf4c74\",\"arrowhead\":2,\"arrowsize\":1,\"arrowwidth\":1.0,\"ax\":0,\"axref\":\"x\",\"ay\":22.91324518442339,\"ayref\":\"y\",\"showarrow\":true,\"x\":null,\"xref\":\"x\",\"y\":22.91324518442339,\"yref\":\"y\"}]},                        {\"responsive\": true}                    ).then(function(){\n",
       "                            \n",
       "var gd = document.getElementById('73ab8f86-2bdf-41be-962a-498df922c683');\n",
       "var x = new MutationObserver(function (mutations, observer) {{\n",
       "        var display = window.getComputedStyle(gd).display;\n",
       "        if (!display || display === 'none') {{\n",
       "            console.log([gd, 'removed!']);\n",
       "            Plotly.purge(gd);\n",
       "            observer.disconnect();\n",
       "        }}\n",
       "}});\n",
       "\n",
       "// Listen for the removal of the full notebook cells\n",
       "var notebookContainer = gd.closest('#notebook-container');\n",
       "if (notebookContainer) {{\n",
       "    x.observe(notebookContainer, {childList: true});\n",
       "}}\n",
       "\n",
       "// Listen for the clearing of the current output cell\n",
       "var outputEl = gd.closest('.output');\n",
       "if (outputEl) {{\n",
       "    x.observe(outputEl, {childList: true});\n",
       "}}\n",
       "\n",
       "                        })                };                });            </script>        </div>"
      ]
     },
     "metadata": {},
     "output_type": "display_data"
    }
   ],
   "source": [
    "MERGED_NUM_SHELLS = level_data.index.max()\n",
    "\n",
    "### Create figure and set metadata\n",
    "fig = go.Figure()\n",
    "\n",
    "fig.update_layout(\n",
    "    title=f\"Grotrian Diagram for {ATOM_NAME} {int_to_roman(ION_NUMBER)}\",\n",
    "    title_x=0.5,\n",
    "    yaxis_title=\"Energy Level (eV)\",\n",
    "    plot_bgcolor='white',\n",
    "    autosize=False,\n",
    "    width=700,\n",
    "    height=700,\n",
    "    xaxis=dict(showticklabels=False, showgrid=False,),  # Hide x-axis labels\n",
    "    yaxis=dict(showgrid=False,),  # Adjust y-axis range accordingly,\n",
    "    showlegend=False,\n",
    ")\n",
    "\n",
    "### Create energy level platforms in the figure\n",
    "LEVEL_WIDTH_SCALE = 3\n",
    "LEVEL_WIDTH_MIN = 1\n",
    "level_data['centered_log_population'] = np.log10(level_data.population) - np.log10(np.min(level_data.population))\n",
    "for level_number, level_info in level_data.iterrows():\n",
    "    fig.add_trace(go.Scatter(\n",
    "        x=[0, 1],\n",
    "        y=[level_info.energy, level_info.energy],\n",
    "        mode='lines+text',\n",
    "        text=['', f'n={level_number}'], textposition='top right',\n",
    "        line=dict(color='black', width=level_info.centered_log_population * LEVEL_WIDTH_SCALE + LEVEL_WIDTH_MIN),\n",
    "        showlegend=False))\n",
    "\n",
    "### Create transition lines\n",
    "# Define colors for the transitions based on wavelengths\n",
    "cmap = plt.get_cmap('plasma')\n",
    "min_wavelength = np.log10(sim.plasma.lines.wavelength.min())\n",
    "max_wavelength = np.log10(sim.plasma.lines.wavelength.max())\n",
    "wavelength_range = max_wavelength - min_wavelength\n",
    "\n",
    "# Transition offset for avoiding overlap of transitions\n",
    "TRANSITION_OFFSET = 0.1  # Horizontal offset for transitions\n",
    "SLANT = 0.01  # Horizontal offset for slanting\n",
    "\n",
    "WIDTH_SCALE = 2\n",
    "MIN_WIDTH = 1\n",
    "\n",
    "ARROW_WIDTH_SCALE = 1\n",
    "ARROW_MIN_WIDTH = 0.1\n",
    "\n",
    "X_MAX = 1.35\n",
    "\n",
    "# Plot excitation transitions\n",
    "for _, line_info in excit_lines.iterrows():\n",
    "    lower, upper = line_info.merged_level_number_lower, line_info.merged_level_number_upper\n",
    "    wavelength, num_electrons = line_info.wavelength, line_info.standard_log_num_electrons\n",
    "    energy_lower, energy_upper = level_data.loc[lower].energy, level_data.loc[upper].energy\n",
    "    \n",
    "    x_end = (upper - lower) / (MERGED_NUM_SHELLS - lower) * X_MAX\n",
    "    \n",
    "    color = matplotlib.colors.rgb2hex(cmap((np.log10(wavelength)-min_wavelength) / wavelength_range)[:3])\n",
    "\n",
    "    # Add arrowhead\n",
    "    fig.add_annotation(\n",
    "        x=x_end, y=energy_upper,  # Start of arrow\n",
    "        ax=0, ay=energy_lower,  # End of arrow\n",
    "        xref='x', yref='y',\n",
    "        axref='x', ayref='y',\n",
    "        showarrow=True,\n",
    "        arrowcolor=color,\n",
    "        arrowhead=2,  # Arrow style\n",
    "        arrowsize=1,  # Make the arrowhead 2 times bigger\n",
    "        arrowwidth=num_electrons * WIDTH_SCALE + MIN_WIDTH,  # Adjust width accordingly\n",
    "    )\n",
    "\n",
    "# Plot deexcitation transitions\n",
    "for _, line_info in deexcit_lines.iterrows():\n",
    "    lower, upper = line_info.merged_level_number_lower, line_info.merged_level_number_upper\n",
    "    wavelength, num_electrons = line_info.wavelength, line_info.standard_log_num_electrons\n",
    "    energy_lower, energy_upper = level_data.loc[lower].energy, level_data.loc[upper].energy\n",
    "    \n",
    "    x_end = (upper - lower) / (MERGED_NUM_SHELLS - lower) * X_MAX\n",
    "    \n",
    "    color = matplotlib.colors.rgb2hex(cmap((np.log10(wavelength)-min_wavelength) / wavelength_range)[:3])\n",
    "\n",
    "    # Add arrowhead\n",
    "    fig.add_annotation(\n",
    "        x=x_end, y=energy_lower,  # Start of arrow\n",
    "        ax=0, ay=energy_upper,  # End of arrow\n",
    "        xref='x', yref='y',\n",
    "        axref='x', ayref='y',\n",
    "        showarrow=True,\n",
    "        arrowcolor=color,\n",
    "        arrowhead=2,  # Arrow style\n",
    "        arrowsize=1,  # Make the arrowhead 2 times bigger\n",
    "        arrowwidth=num_electrons * WIDTH_SCALE + MIN_WIDTH,  # Adjust width accordingly\n",
    "    )\n",
    "\n",
    "fig.show()"
   ]
  },
  {
   "cell_type": "code",
   "execution_count": null,
   "metadata": {},
   "outputs": [],
   "source": []
  }
 ],
 "metadata": {
  "kernelspec": {
   "display_name": "Python 3 (ipykernel)",
   "language": "python",
   "name": "python3"
  },
  "language_info": {
   "codemirror_mode": {
    "name": "ipython",
    "version": 3
   },
   "file_extension": ".py",
   "mimetype": "text/x-python",
   "name": "python",
   "nbconvert_exporter": "python",
   "pygments_lexer": "ipython3",
   "version": "3.8.16"
  }
 },
 "nbformat": 4,
 "nbformat_minor": 2
}
