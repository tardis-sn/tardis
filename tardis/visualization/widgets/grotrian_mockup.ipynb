{
 "cells": [
  {
   "cell_type": "code",
   "execution_count": 1,
   "metadata": {},
   "outputs": [
    {
     "data": {
      "application/vnd.jupyter.widget-view+json": {
       "model_id": "",
       "version_major": 2,
       "version_minor": 0
      },
      "text/plain": [
       "Iterations:          0/? [00:00<?, ?it/s]"
      ]
     },
     "metadata": {},
     "output_type": "display_data"
    },
    {
     "data": {
      "application/vnd.jupyter.widget-view+json": {
       "model_id": "",
       "version_major": 2,
       "version_minor": 0
      },
      "text/plain": [
       "Packets:             0/? [00:00<?, ?it/s]"
      ]
     },
     "metadata": {},
     "output_type": "display_data"
    },
    {
     "data": {
      "text/html": [
       "        <script type=\"text/javascript\">\n",
       "        window.PlotlyConfig = {MathJaxConfig: 'local'};\n",
       "        if (window.MathJax && window.MathJax.Hub && window.MathJax.Hub.Config) {window.MathJax.Hub.Config({SVG: {font: \"STIX-Web\"}});}\n",
       "        if (typeof require !== 'undefined') {\n",
       "        require.undef(\"plotly\");\n",
       "        requirejs.config({\n",
       "            paths: {\n",
       "                'plotly': ['https://cdn.plot.ly/plotly-2.18.0.min']\n",
       "            }\n",
       "        });\n",
       "        require(['plotly'], function(Plotly) {\n",
       "            window._Plotly = Plotly;\n",
       "        });\n",
       "        }\n",
       "        </script>\n",
       "        "
      ]
     },
     "metadata": {},
     "output_type": "display_data"
    }
   ],
   "source": [
    "from tardis.io.config_reader import Configuration\n",
    "from tardis.simulation import Simulation\n",
    "from tardis.plasma.standard_plasmas import assemble_plasma\n",
    "from tardis.model import Radial1DModel\n",
    "from tardis.io.atom_data import AtomData\n",
    "from tardis.visualization.widgets.grotrian import GrotrianWidget\n",
    "from tardis.io.config_internal import get_data_dir\n",
    "from plotly.offline import init_notebook_mode\n",
    "init_notebook_mode(connected=True)\n",
    "import os"
   ]
  },
  {
   "cell_type": "code",
   "execution_count": 2,
   "metadata": {},
   "outputs": [
    {
     "name": "stderr",
     "output_type": "stream",
     "text": [
      "Abundances have not been normalized to 1. - normalizing\n",
      "Zeta_data missing - replaced with 1s. Missing ions: [(12, 13), (14, 15), (16, 17), (18, 19), (20, 21)]\n",
      "/Users/archil/Documents/tardis_ayushi/tardis/plasma/properties/radiative_properties.py:93: RuntimeWarning:\n",
      "\n",
      "divide by zero encountered in true_divide\n",
      "\n",
      "/Users/archil/Documents/tardis_ayushi/tardis/plasma/properties/radiative_properties.py:93: RuntimeWarning:\n",
      "\n",
      "invalid value encountered in true_divide\n",
      "\n",
      "OMP: Info #276: omp_set_nested routine deprecated, please use omp_set_max_active_levels instead.\n",
      "Zeta_data missing - replaced with 1s. Missing ions: [(12, 13), (14, 15), (16, 17), (18, 19), (20, 21)]\n",
      "/Users/archil/Documents/tardis_ayushi/tardis/plasma/properties/radiative_properties.py:93: RuntimeWarning:\n",
      "\n",
      "divide by zero encountered in true_divide\n",
      "\n",
      "/Users/archil/Documents/tardis_ayushi/tardis/plasma/properties/radiative_properties.py:93: RuntimeWarning:\n",
      "\n",
      "invalid value encountered in true_divide\n",
      "\n"
     ]
    },
    {
     "data": {
      "application/vnd.jupyter.widget-view+json": {
       "model_id": "1e848d345bfb437a8a3233d6ad3c6ada",
       "version_major": 2,
       "version_minor": 0
      },
      "text/plain": [
       "TqdmHBox(children=(HTML(value='Iterations:', layout=Layout(width='6%')), FloatProgress(value=0.0, layout=Layou…"
      ]
     },
     "metadata": {},
     "output_type": "display_data"
    },
    {
     "data": {
      "application/vnd.jupyter.widget-view+json": {
       "model_id": "5726e6254227476bb819b7d16f752e76",
       "version_major": 2,
       "version_minor": 0
      },
      "text/plain": [
       "TqdmHBox(children=(HTML(value='Packets:   ', layout=Layout(width='6%')), FloatProgress(value=0.0, layout=Layou…"
      ]
     },
     "metadata": {},
     "output_type": "display_data"
    },
    {
     "data": {
      "text/html": [
       "<style  type=\"text/css\" >\n",
       "</style><table id=\"T_f4003232_13e4_11ee_a9a8_12e413fbf88d\" ><thead>    <tr>        <th class=\"index_name level0\" >Shell No.</th>        <th class=\"col_heading level0 col0\" >t_rad</th>        <th class=\"col_heading level0 col1\" >next_t_rad</th>        <th class=\"col_heading level0 col2\" >w</th>        <th class=\"col_heading level0 col3\" >next_w</th>    </tr></thead><tbody>\n",
       "                <tr>\n",
       "                        <th id=\"T_f4003232_13e4_11ee_a9a8_12e413fbf88dlevel0_row0\" class=\"row_heading level0 row0\" >0</th>\n",
       "                        <td id=\"T_f4003232_13e4_11ee_a9a8_12e413fbf88drow0_col0\" class=\"data row0 col0\" >9.93e+03</td>\n",
       "                        <td id=\"T_f4003232_13e4_11ee_a9a8_12e413fbf88drow0_col1\" class=\"data row0 col1\" >1.01e+04</td>\n",
       "                        <td id=\"T_f4003232_13e4_11ee_a9a8_12e413fbf88drow0_col2\" class=\"data row0 col2\" >0.4</td>\n",
       "                        <td id=\"T_f4003232_13e4_11ee_a9a8_12e413fbf88drow0_col3\" class=\"data row0 col3\" >0.525</td>\n",
       "            </tr>\n",
       "            <tr>\n",
       "                        <th id=\"T_f4003232_13e4_11ee_a9a8_12e413fbf88dlevel0_row1\" class=\"row_heading level0 row1\" >5</th>\n",
       "                        <td id=\"T_f4003232_13e4_11ee_a9a8_12e413fbf88drow1_col0\" class=\"data row1 col0\" >9.85e+03</td>\n",
       "                        <td id=\"T_f4003232_13e4_11ee_a9a8_12e413fbf88drow1_col1\" class=\"data row1 col1\" >1.03e+04</td>\n",
       "                        <td id=\"T_f4003232_13e4_11ee_a9a8_12e413fbf88drow1_col2\" class=\"data row1 col2\" >0.211</td>\n",
       "                        <td id=\"T_f4003232_13e4_11ee_a9a8_12e413fbf88drow1_col3\" class=\"data row1 col3\" >0.196</td>\n",
       "            </tr>\n",
       "            <tr>\n",
       "                        <th id=\"T_f4003232_13e4_11ee_a9a8_12e413fbf88dlevel0_row2\" class=\"row_heading level0 row2\" >10</th>\n",
       "                        <td id=\"T_f4003232_13e4_11ee_a9a8_12e413fbf88drow2_col0\" class=\"data row2 col0\" >9.78e+03</td>\n",
       "                        <td id=\"T_f4003232_13e4_11ee_a9a8_12e413fbf88drow2_col1\" class=\"data row2 col1\" >1.02e+04</td>\n",
       "                        <td id=\"T_f4003232_13e4_11ee_a9a8_12e413fbf88drow2_col2\" class=\"data row2 col2\" >0.143</td>\n",
       "                        <td id=\"T_f4003232_13e4_11ee_a9a8_12e413fbf88drow2_col3\" class=\"data row2 col3\" >0.115</td>\n",
       "            </tr>\n",
       "            <tr>\n",
       "                        <th id=\"T_f4003232_13e4_11ee_a9a8_12e413fbf88dlevel0_row3\" class=\"row_heading level0 row3\" >15</th>\n",
       "                        <td id=\"T_f4003232_13e4_11ee_a9a8_12e413fbf88drow3_col0\" class=\"data row3 col0\" >9.71e+03</td>\n",
       "                        <td id=\"T_f4003232_13e4_11ee_a9a8_12e413fbf88drow3_col1\" class=\"data row3 col1\" >9.88e+03</td>\n",
       "                        <td id=\"T_f4003232_13e4_11ee_a9a8_12e413fbf88drow3_col2\" class=\"data row3 col2\" >0.105</td>\n",
       "                        <td id=\"T_f4003232_13e4_11ee_a9a8_12e413fbf88drow3_col3\" class=\"data row3 col3\" >0.0843</td>\n",
       "            </tr>\n",
       "    </tbody></table>"
      ],
      "text/plain": [
       "<pandas.io.formats.style.Styler at 0x7f9874a99d30>"
      ]
     },
     "metadata": {},
     "output_type": "display_data"
    },
    {
     "name": "stderr",
     "output_type": "stream",
     "text": [
      "/Users/archil/Documents/tardis_ayushi/tardis/plasma/properties/radiative_properties.py:93: RuntimeWarning:\n",
      "\n",
      "divide by zero encountered in true_divide\n",
      "\n",
      "/Users/archil/Documents/tardis_ayushi/tardis/plasma/properties/radiative_properties.py:93: RuntimeWarning:\n",
      "\n",
      "invalid value encountered in true_divide\n",
      "\n"
     ]
    },
    {
     "data": {
      "application/vnd.jupyter.widget-view+json": {
       "model_id": "6491b494a3cd4b80912c1518defd072b",
       "version_major": 2,
       "version_minor": 0
      },
      "text/plain": [
       "VBox(children=(FigureWidget({\n",
       "    'data': [{'type': 'scatter', 'uid': 'f118dead-fa12-4fc3-9913-2132f590c8ff', …"
      ]
     },
     "metadata": {},
     "output_type": "display_data"
    },
    {
     "data": {
      "text/html": [
       "<style  type=\"text/css\" >\n",
       "</style><table id=\"T_f4e912c2_13e4_11ee_a9a8_12e413fbf88d\" ><thead>    <tr>        <th class=\"index_name level0\" >Shell No.</th>        <th class=\"col_heading level0 col0\" >t_rad</th>        <th class=\"col_heading level0 col1\" >next_t_rad</th>        <th class=\"col_heading level0 col2\" >w</th>        <th class=\"col_heading level0 col3\" >next_w</th>    </tr></thead><tbody>\n",
       "                <tr>\n",
       "                        <th id=\"T_f4e912c2_13e4_11ee_a9a8_12e413fbf88dlevel0_row0\" class=\"row_heading level0 row0\" >0</th>\n",
       "                        <td id=\"T_f4e912c2_13e4_11ee_a9a8_12e413fbf88drow0_col0\" class=\"data row0 col0\" >1.01e+04</td>\n",
       "                        <td id=\"T_f4e912c2_13e4_11ee_a9a8_12e413fbf88drow0_col1\" class=\"data row0 col1\" >1.1e+04</td>\n",
       "                        <td id=\"T_f4e912c2_13e4_11ee_a9a8_12e413fbf88drow0_col2\" class=\"data row0 col2\" >0.525</td>\n",
       "                        <td id=\"T_f4e912c2_13e4_11ee_a9a8_12e413fbf88drow0_col3\" class=\"data row0 col3\" >0.544</td>\n",
       "            </tr>\n",
       "            <tr>\n",
       "                        <th id=\"T_f4e912c2_13e4_11ee_a9a8_12e413fbf88dlevel0_row1\" class=\"row_heading level0 row1\" >5</th>\n",
       "                        <td id=\"T_f4e912c2_13e4_11ee_a9a8_12e413fbf88drow1_col0\" class=\"data row1 col0\" >1.03e+04</td>\n",
       "                        <td id=\"T_f4e912c2_13e4_11ee_a9a8_12e413fbf88drow1_col1\" class=\"data row1 col1\" >1.11e+04</td>\n",
       "                        <td id=\"T_f4e912c2_13e4_11ee_a9a8_12e413fbf88drow1_col2\" class=\"data row1 col2\" >0.196</td>\n",
       "                        <td id=\"T_f4e912c2_13e4_11ee_a9a8_12e413fbf88drow1_col3\" class=\"data row1 col3\" >0.204</td>\n",
       "            </tr>\n",
       "            <tr>\n",
       "                        <th id=\"T_f4e912c2_13e4_11ee_a9a8_12e413fbf88dlevel0_row2\" class=\"row_heading level0 row2\" >10</th>\n",
       "                        <td id=\"T_f4e912c2_13e4_11ee_a9a8_12e413fbf88drow2_col0\" class=\"data row2 col0\" >1.02e+04</td>\n",
       "                        <td id=\"T_f4e912c2_13e4_11ee_a9a8_12e413fbf88drow2_col1\" class=\"data row2 col1\" >1.08e+04</td>\n",
       "                        <td id=\"T_f4e912c2_13e4_11ee_a9a8_12e413fbf88drow2_col2\" class=\"data row2 col2\" >0.115</td>\n",
       "                        <td id=\"T_f4e912c2_13e4_11ee_a9a8_12e413fbf88drow2_col3\" class=\"data row2 col3\" >0.125</td>\n",
       "            </tr>\n",
       "            <tr>\n",
       "                        <th id=\"T_f4e912c2_13e4_11ee_a9a8_12e413fbf88dlevel0_row3\" class=\"row_heading level0 row3\" >15</th>\n",
       "                        <td id=\"T_f4e912c2_13e4_11ee_a9a8_12e413fbf88drow3_col0\" class=\"data row3 col0\" >9.88e+03</td>\n",
       "                        <td id=\"T_f4e912c2_13e4_11ee_a9a8_12e413fbf88drow3_col1\" class=\"data row3 col1\" >1.06e+04</td>\n",
       "                        <td id=\"T_f4e912c2_13e4_11ee_a9a8_12e413fbf88drow3_col2\" class=\"data row3 col2\" >0.0843</td>\n",
       "                        <td id=\"T_f4e912c2_13e4_11ee_a9a8_12e413fbf88drow3_col3\" class=\"data row3 col3\" >0.0914</td>\n",
       "            </tr>\n",
       "    </tbody></table>"
      ],
      "text/plain": [
       "<pandas.io.formats.style.Styler at 0x7f985135a2b0>"
      ]
     },
     "metadata": {},
     "output_type": "display_data"
    },
    {
     "name": "stderr",
     "output_type": "stream",
     "text": [
      "/Users/archil/Documents/tardis_ayushi/tardis/plasma/properties/radiative_properties.py:93: RuntimeWarning:\n",
      "\n",
      "divide by zero encountered in true_divide\n",
      "\n",
      "/Users/archil/Documents/tardis_ayushi/tardis/plasma/properties/radiative_properties.py:93: RuntimeWarning:\n",
      "\n",
      "invalid value encountered in true_divide\n",
      "\n"
     ]
    },
    {
     "data": {
      "text/html": [
       "<style  type=\"text/css\" >\n",
       "</style><table id=\"T_f5666858_13e4_11ee_a9a8_12e413fbf88d\" ><thead>    <tr>        <th class=\"index_name level0\" >Shell No.</th>        <th class=\"col_heading level0 col0\" >t_rad</th>        <th class=\"col_heading level0 col1\" >next_t_rad</th>        <th class=\"col_heading level0 col2\" >w</th>        <th class=\"col_heading level0 col3\" >next_w</th>    </tr></thead><tbody>\n",
       "                <tr>\n",
       "                        <th id=\"T_f5666858_13e4_11ee_a9a8_12e413fbf88dlevel0_row0\" class=\"row_heading level0 row0\" >0</th>\n",
       "                        <td id=\"T_f5666858_13e4_11ee_a9a8_12e413fbf88drow0_col0\" class=\"data row0 col0\" >1.1e+04</td>\n",
       "                        <td id=\"T_f5666858_13e4_11ee_a9a8_12e413fbf88drow0_col1\" class=\"data row0 col1\" >1.11e+04</td>\n",
       "                        <td id=\"T_f5666858_13e4_11ee_a9a8_12e413fbf88drow0_col2\" class=\"data row0 col2\" >0.544</td>\n",
       "                        <td id=\"T_f5666858_13e4_11ee_a9a8_12e413fbf88drow0_col3\" class=\"data row0 col3\" >0.501</td>\n",
       "            </tr>\n",
       "            <tr>\n",
       "                        <th id=\"T_f5666858_13e4_11ee_a9a8_12e413fbf88dlevel0_row1\" class=\"row_heading level0 row1\" >5</th>\n",
       "                        <td id=\"T_f5666858_13e4_11ee_a9a8_12e413fbf88drow1_col0\" class=\"data row1 col0\" >1.11e+04</td>\n",
       "                        <td id=\"T_f5666858_13e4_11ee_a9a8_12e413fbf88drow1_col1\" class=\"data row1 col1\" >1.14e+04</td>\n",
       "                        <td id=\"T_f5666858_13e4_11ee_a9a8_12e413fbf88drow1_col2\" class=\"data row1 col2\" >0.204</td>\n",
       "                        <td id=\"T_f5666858_13e4_11ee_a9a8_12e413fbf88drow1_col3\" class=\"data row1 col3\" >0.185</td>\n",
       "            </tr>\n",
       "            <tr>\n",
       "                        <th id=\"T_f5666858_13e4_11ee_a9a8_12e413fbf88dlevel0_row2\" class=\"row_heading level0 row2\" >10</th>\n",
       "                        <td id=\"T_f5666858_13e4_11ee_a9a8_12e413fbf88drow2_col0\" class=\"data row2 col0\" >1.08e+04</td>\n",
       "                        <td id=\"T_f5666858_13e4_11ee_a9a8_12e413fbf88drow2_col1\" class=\"data row2 col1\" >1.11e+04</td>\n",
       "                        <td id=\"T_f5666858_13e4_11ee_a9a8_12e413fbf88drow2_col2\" class=\"data row2 col2\" >0.125</td>\n",
       "                        <td id=\"T_f5666858_13e4_11ee_a9a8_12e413fbf88drow2_col3\" class=\"data row2 col3\" >0.115</td>\n",
       "            </tr>\n",
       "            <tr>\n",
       "                        <th id=\"T_f5666858_13e4_11ee_a9a8_12e413fbf88dlevel0_row3\" class=\"row_heading level0 row3\" >15</th>\n",
       "                        <td id=\"T_f5666858_13e4_11ee_a9a8_12e413fbf88drow3_col0\" class=\"data row3 col0\" >1.06e+04</td>\n",
       "                        <td id=\"T_f5666858_13e4_11ee_a9a8_12e413fbf88drow3_col1\" class=\"data row3 col1\" >1.08e+04</td>\n",
       "                        <td id=\"T_f5666858_13e4_11ee_a9a8_12e413fbf88drow3_col2\" class=\"data row3 col2\" >0.0914</td>\n",
       "                        <td id=\"T_f5666858_13e4_11ee_a9a8_12e413fbf88drow3_col3\" class=\"data row3 col3\" >0.086</td>\n",
       "            </tr>\n",
       "    </tbody></table>"
      ],
      "text/plain": [
       "<pandas.io.formats.style.Styler at 0x7f9874135940>"
      ]
     },
     "metadata": {},
     "output_type": "display_data"
    },
    {
     "data": {
      "text/html": [
       "<style  type=\"text/css\" >\n",
       "</style><table id=\"T_f5df5934_13e4_11ee_a9a8_12e413fbf88d\" ><thead>    <tr>        <th class=\"index_name level0\" >Shell No.</th>        <th class=\"col_heading level0 col0\" >t_rad</th>        <th class=\"col_heading level0 col1\" >next_t_rad</th>        <th class=\"col_heading level0 col2\" >w</th>        <th class=\"col_heading level0 col3\" >next_w</th>    </tr></thead><tbody>\n",
       "                <tr>\n",
       "                        <th id=\"T_f5df5934_13e4_11ee_a9a8_12e413fbf88dlevel0_row0\" class=\"row_heading level0 row0\" >0</th>\n",
       "                        <td id=\"T_f5df5934_13e4_11ee_a9a8_12e413fbf88drow0_col0\" class=\"data row0 col0\" >1.11e+04</td>\n",
       "                        <td id=\"T_f5df5934_13e4_11ee_a9a8_12e413fbf88drow0_col1\" class=\"data row0 col1\" >1.11e+04</td>\n",
       "                        <td id=\"T_f5df5934_13e4_11ee_a9a8_12e413fbf88drow0_col2\" class=\"data row0 col2\" >0.501</td>\n",
       "                        <td id=\"T_f5df5934_13e4_11ee_a9a8_12e413fbf88drow0_col3\" class=\"data row0 col3\" >0.487</td>\n",
       "            </tr>\n",
       "            <tr>\n",
       "                        <th id=\"T_f5df5934_13e4_11ee_a9a8_12e413fbf88dlevel0_row1\" class=\"row_heading level0 row1\" >5</th>\n",
       "                        <td id=\"T_f5df5934_13e4_11ee_a9a8_12e413fbf88drow1_col0\" class=\"data row1 col0\" >1.14e+04</td>\n",
       "                        <td id=\"T_f5df5934_13e4_11ee_a9a8_12e413fbf88drow1_col1\" class=\"data row1 col1\" >1.14e+04</td>\n",
       "                        <td id=\"T_f5df5934_13e4_11ee_a9a8_12e413fbf88drow1_col2\" class=\"data row1 col2\" >0.185</td>\n",
       "                        <td id=\"T_f5df5934_13e4_11ee_a9a8_12e413fbf88drow1_col3\" class=\"data row1 col3\" >0.181</td>\n",
       "            </tr>\n",
       "            <tr>\n",
       "                        <th id=\"T_f5df5934_13e4_11ee_a9a8_12e413fbf88dlevel0_row2\" class=\"row_heading level0 row2\" >10</th>\n",
       "                        <td id=\"T_f5df5934_13e4_11ee_a9a8_12e413fbf88drow2_col0\" class=\"data row2 col0\" >1.11e+04</td>\n",
       "                        <td id=\"T_f5df5934_13e4_11ee_a9a8_12e413fbf88drow2_col1\" class=\"data row2 col1\" >1.11e+04</td>\n",
       "                        <td id=\"T_f5df5934_13e4_11ee_a9a8_12e413fbf88drow2_col2\" class=\"data row2 col2\" >0.115</td>\n",
       "                        <td id=\"T_f5df5934_13e4_11ee_a9a8_12e413fbf88drow2_col3\" class=\"data row2 col3\" >0.112</td>\n",
       "            </tr>\n",
       "            <tr>\n",
       "                        <th id=\"T_f5df5934_13e4_11ee_a9a8_12e413fbf88dlevel0_row3\" class=\"row_heading level0 row3\" >15</th>\n",
       "                        <td id=\"T_f5df5934_13e4_11ee_a9a8_12e413fbf88drow3_col0\" class=\"data row3 col0\" >1.08e+04</td>\n",
       "                        <td id=\"T_f5df5934_13e4_11ee_a9a8_12e413fbf88drow3_col1\" class=\"data row3 col1\" >1.08e+04</td>\n",
       "                        <td id=\"T_f5df5934_13e4_11ee_a9a8_12e413fbf88drow3_col2\" class=\"data row3 col2\" >0.086</td>\n",
       "                        <td id=\"T_f5df5934_13e4_11ee_a9a8_12e413fbf88drow3_col3\" class=\"data row3 col3\" >0.0819</td>\n",
       "            </tr>\n",
       "    </tbody></table>"
      ],
      "text/plain": [
       "<pandas.io.formats.style.Styler at 0x7f9851359e50>"
      ]
     },
     "metadata": {},
     "output_type": "display_data"
    },
    {
     "data": {
      "text/html": [
       "<style  type=\"text/css\" >\n",
       "</style><table id=\"T_f65afb20_13e4_11ee_a9a8_12e413fbf88d\" ><thead>    <tr>        <th class=\"index_name level0\" >Shell No.</th>        <th class=\"col_heading level0 col0\" >t_rad</th>        <th class=\"col_heading level0 col1\" >next_t_rad</th>        <th class=\"col_heading level0 col2\" >w</th>        <th class=\"col_heading level0 col3\" >next_w</th>    </tr></thead><tbody>\n",
       "                <tr>\n",
       "                        <th id=\"T_f65afb20_13e4_11ee_a9a8_12e413fbf88dlevel0_row0\" class=\"row_heading level0 row0\" >0</th>\n",
       "                        <td id=\"T_f65afb20_13e4_11ee_a9a8_12e413fbf88drow0_col0\" class=\"data row0 col0\" >1.11e+04</td>\n",
       "                        <td id=\"T_f65afb20_13e4_11ee_a9a8_12e413fbf88drow0_col1\" class=\"data row0 col1\" >1.11e+04</td>\n",
       "                        <td id=\"T_f65afb20_13e4_11ee_a9a8_12e413fbf88drow0_col2\" class=\"data row0 col2\" >0.487</td>\n",
       "                        <td id=\"T_f65afb20_13e4_11ee_a9a8_12e413fbf88drow0_col3\" class=\"data row0 col3\" >0.497</td>\n",
       "            </tr>\n",
       "            <tr>\n",
       "                        <th id=\"T_f65afb20_13e4_11ee_a9a8_12e413fbf88dlevel0_row1\" class=\"row_heading level0 row1\" >5</th>\n",
       "                        <td id=\"T_f65afb20_13e4_11ee_a9a8_12e413fbf88drow1_col0\" class=\"data row1 col0\" >1.14e+04</td>\n",
       "                        <td id=\"T_f65afb20_13e4_11ee_a9a8_12e413fbf88drow1_col1\" class=\"data row1 col1\" >1.14e+04</td>\n",
       "                        <td id=\"T_f65afb20_13e4_11ee_a9a8_12e413fbf88drow1_col2\" class=\"data row1 col2\" >0.181</td>\n",
       "                        <td id=\"T_f65afb20_13e4_11ee_a9a8_12e413fbf88drow1_col3\" class=\"data row1 col3\" >0.178</td>\n",
       "            </tr>\n",
       "            <tr>\n",
       "                        <th id=\"T_f65afb20_13e4_11ee_a9a8_12e413fbf88dlevel0_row2\" class=\"row_heading level0 row2\" >10</th>\n",
       "                        <td id=\"T_f65afb20_13e4_11ee_a9a8_12e413fbf88drow2_col0\" class=\"data row2 col0\" >1.11e+04</td>\n",
       "                        <td id=\"T_f65afb20_13e4_11ee_a9a8_12e413fbf88drow2_col1\" class=\"data row2 col1\" >1.13e+04</td>\n",
       "                        <td id=\"T_f65afb20_13e4_11ee_a9a8_12e413fbf88drow2_col2\" class=\"data row2 col2\" >0.112</td>\n",
       "                        <td id=\"T_f65afb20_13e4_11ee_a9a8_12e413fbf88drow2_col3\" class=\"data row2 col3\" >0.107</td>\n",
       "            </tr>\n",
       "            <tr>\n",
       "                        <th id=\"T_f65afb20_13e4_11ee_a9a8_12e413fbf88dlevel0_row3\" class=\"row_heading level0 row3\" >15</th>\n",
       "                        <td id=\"T_f65afb20_13e4_11ee_a9a8_12e413fbf88drow3_col0\" class=\"data row3 col0\" >1.08e+04</td>\n",
       "                        <td id=\"T_f65afb20_13e4_11ee_a9a8_12e413fbf88drow3_col1\" class=\"data row3 col1\" >1.1e+04</td>\n",
       "                        <td id=\"T_f65afb20_13e4_11ee_a9a8_12e413fbf88drow3_col2\" class=\"data row3 col2\" >0.0819</td>\n",
       "                        <td id=\"T_f65afb20_13e4_11ee_a9a8_12e413fbf88drow3_col3\" class=\"data row3 col3\" >0.0779</td>\n",
       "            </tr>\n",
       "    </tbody></table>"
      ],
      "text/plain": [
       "<pandas.io.formats.style.Styler at 0x7f987399acd0>"
      ]
     },
     "metadata": {},
     "output_type": "display_data"
    },
    {
     "data": {
      "text/html": [
       "<style  type=\"text/css\" >\n",
       "</style><table id=\"T_f6cf2f18_13e4_11ee_a9a8_12e413fbf88d\" ><thead>    <tr>        <th class=\"index_name level0\" >Shell No.</th>        <th class=\"col_heading level0 col0\" >t_rad</th>        <th class=\"col_heading level0 col1\" >next_t_rad</th>        <th class=\"col_heading level0 col2\" >w</th>        <th class=\"col_heading level0 col3\" >next_w</th>    </tr></thead><tbody>\n",
       "                <tr>\n",
       "                        <th id=\"T_f6cf2f18_13e4_11ee_a9a8_12e413fbf88dlevel0_row0\" class=\"row_heading level0 row0\" >0</th>\n",
       "                        <td id=\"T_f6cf2f18_13e4_11ee_a9a8_12e413fbf88drow0_col0\" class=\"data row0 col0\" >1.11e+04</td>\n",
       "                        <td id=\"T_f6cf2f18_13e4_11ee_a9a8_12e413fbf88drow0_col1\" class=\"data row0 col1\" >1.12e+04</td>\n",
       "                        <td id=\"T_f6cf2f18_13e4_11ee_a9a8_12e413fbf88drow0_col2\" class=\"data row0 col2\" >0.497</td>\n",
       "                        <td id=\"T_f6cf2f18_13e4_11ee_a9a8_12e413fbf88drow0_col3\" class=\"data row0 col3\" >0.488</td>\n",
       "            </tr>\n",
       "            <tr>\n",
       "                        <th id=\"T_f6cf2f18_13e4_11ee_a9a8_12e413fbf88dlevel0_row1\" class=\"row_heading level0 row1\" >5</th>\n",
       "                        <td id=\"T_f6cf2f18_13e4_11ee_a9a8_12e413fbf88drow1_col0\" class=\"data row1 col0\" >1.14e+04</td>\n",
       "                        <td id=\"T_f6cf2f18_13e4_11ee_a9a8_12e413fbf88drow1_col1\" class=\"data row1 col1\" >1.14e+04</td>\n",
       "                        <td id=\"T_f6cf2f18_13e4_11ee_a9a8_12e413fbf88drow1_col2\" class=\"data row1 col2\" >0.178</td>\n",
       "                        <td id=\"T_f6cf2f18_13e4_11ee_a9a8_12e413fbf88drow1_col3\" class=\"data row1 col3\" >0.184</td>\n",
       "            </tr>\n",
       "            <tr>\n",
       "                        <th id=\"T_f6cf2f18_13e4_11ee_a9a8_12e413fbf88dlevel0_row2\" class=\"row_heading level0 row2\" >10</th>\n",
       "                        <td id=\"T_f6cf2f18_13e4_11ee_a9a8_12e413fbf88drow2_col0\" class=\"data row2 col0\" >1.13e+04</td>\n",
       "                        <td id=\"T_f6cf2f18_13e4_11ee_a9a8_12e413fbf88drow2_col1\" class=\"data row2 col1\" >1.11e+04</td>\n",
       "                        <td id=\"T_f6cf2f18_13e4_11ee_a9a8_12e413fbf88drow2_col2\" class=\"data row2 col2\" >0.107</td>\n",
       "                        <td id=\"T_f6cf2f18_13e4_11ee_a9a8_12e413fbf88drow2_col3\" class=\"data row2 col3\" >0.113</td>\n",
       "            </tr>\n",
       "            <tr>\n",
       "                        <th id=\"T_f6cf2f18_13e4_11ee_a9a8_12e413fbf88dlevel0_row3\" class=\"row_heading level0 row3\" >15</th>\n",
       "                        <td id=\"T_f6cf2f18_13e4_11ee_a9a8_12e413fbf88drow3_col0\" class=\"data row3 col0\" >1.1e+04</td>\n",
       "                        <td id=\"T_f6cf2f18_13e4_11ee_a9a8_12e413fbf88drow3_col1\" class=\"data row3 col1\" >1.08e+04</td>\n",
       "                        <td id=\"T_f6cf2f18_13e4_11ee_a9a8_12e413fbf88drow3_col2\" class=\"data row3 col2\" >0.0779</td>\n",
       "                        <td id=\"T_f6cf2f18_13e4_11ee_a9a8_12e413fbf88drow3_col3\" class=\"data row3 col3\" >0.082</td>\n",
       "            </tr>\n",
       "    </tbody></table>"
      ],
      "text/plain": [
       "<pandas.io.formats.style.Styler at 0x7f985132eb50>"
      ]
     },
     "metadata": {},
     "output_type": "display_data"
    },
    {
     "data": {
      "text/html": [
       "<style  type=\"text/css\" >\n",
       "</style><table id=\"T_f7439204_13e4_11ee_a9a8_12e413fbf88d\" ><thead>    <tr>        <th class=\"index_name level0\" >Shell No.</th>        <th class=\"col_heading level0 col0\" >t_rad</th>        <th class=\"col_heading level0 col1\" >next_t_rad</th>        <th class=\"col_heading level0 col2\" >w</th>        <th class=\"col_heading level0 col3\" >next_w</th>    </tr></thead><tbody>\n",
       "                <tr>\n",
       "                        <th id=\"T_f7439204_13e4_11ee_a9a8_12e413fbf88dlevel0_row0\" class=\"row_heading level0 row0\" >0</th>\n",
       "                        <td id=\"T_f7439204_13e4_11ee_a9a8_12e413fbf88drow0_col0\" class=\"data row0 col0\" >1.12e+04</td>\n",
       "                        <td id=\"T_f7439204_13e4_11ee_a9a8_12e413fbf88drow0_col1\" class=\"data row0 col1\" >1.11e+04</td>\n",
       "                        <td id=\"T_f7439204_13e4_11ee_a9a8_12e413fbf88drow0_col2\" class=\"data row0 col2\" >0.488</td>\n",
       "                        <td id=\"T_f7439204_13e4_11ee_a9a8_12e413fbf88drow0_col3\" class=\"data row0 col3\" >0.496</td>\n",
       "            </tr>\n",
       "            <tr>\n",
       "                        <th id=\"T_f7439204_13e4_11ee_a9a8_12e413fbf88dlevel0_row1\" class=\"row_heading level0 row1\" >5</th>\n",
       "                        <td id=\"T_f7439204_13e4_11ee_a9a8_12e413fbf88drow1_col0\" class=\"data row1 col0\" >1.14e+04</td>\n",
       "                        <td id=\"T_f7439204_13e4_11ee_a9a8_12e413fbf88drow1_col1\" class=\"data row1 col1\" >1.15e+04</td>\n",
       "                        <td id=\"T_f7439204_13e4_11ee_a9a8_12e413fbf88drow1_col2\" class=\"data row1 col2\" >0.184</td>\n",
       "                        <td id=\"T_f7439204_13e4_11ee_a9a8_12e413fbf88drow1_col3\" class=\"data row1 col3\" >0.175</td>\n",
       "            </tr>\n",
       "            <tr>\n",
       "                        <th id=\"T_f7439204_13e4_11ee_a9a8_12e413fbf88dlevel0_row2\" class=\"row_heading level0 row2\" >10</th>\n",
       "                        <td id=\"T_f7439204_13e4_11ee_a9a8_12e413fbf88drow2_col0\" class=\"data row2 col0\" >1.11e+04</td>\n",
       "                        <td id=\"T_f7439204_13e4_11ee_a9a8_12e413fbf88drow2_col1\" class=\"data row2 col1\" >1.12e+04</td>\n",
       "                        <td id=\"T_f7439204_13e4_11ee_a9a8_12e413fbf88drow2_col2\" class=\"data row2 col2\" >0.113</td>\n",
       "                        <td id=\"T_f7439204_13e4_11ee_a9a8_12e413fbf88drow2_col3\" class=\"data row2 col3\" >0.109</td>\n",
       "            </tr>\n",
       "            <tr>\n",
       "                        <th id=\"T_f7439204_13e4_11ee_a9a8_12e413fbf88dlevel0_row3\" class=\"row_heading level0 row3\" >15</th>\n",
       "                        <td id=\"T_f7439204_13e4_11ee_a9a8_12e413fbf88drow3_col0\" class=\"data row3 col0\" >1.08e+04</td>\n",
       "                        <td id=\"T_f7439204_13e4_11ee_a9a8_12e413fbf88drow3_col1\" class=\"data row3 col1\" >1.09e+04</td>\n",
       "                        <td id=\"T_f7439204_13e4_11ee_a9a8_12e413fbf88drow3_col2\" class=\"data row3 col2\" >0.082</td>\n",
       "                        <td id=\"T_f7439204_13e4_11ee_a9a8_12e413fbf88drow3_col3\" class=\"data row3 col3\" >0.0816</td>\n",
       "            </tr>\n",
       "    </tbody></table>"
      ],
      "text/plain": [
       "<pandas.io.formats.style.Styler at 0x7f9874a99c10>"
      ]
     },
     "metadata": {},
     "output_type": "display_data"
    },
    {
     "data": {
      "text/html": [
       "<style  type=\"text/css\" >\n",
       "</style><table id=\"T_f7b620e4_13e4_11ee_a9a8_12e413fbf88d\" ><thead>    <tr>        <th class=\"index_name level0\" >Shell No.</th>        <th class=\"col_heading level0 col0\" >t_rad</th>        <th class=\"col_heading level0 col1\" >next_t_rad</th>        <th class=\"col_heading level0 col2\" >w</th>        <th class=\"col_heading level0 col3\" >next_w</th>    </tr></thead><tbody>\n",
       "                <tr>\n",
       "                        <th id=\"T_f7b620e4_13e4_11ee_a9a8_12e413fbf88dlevel0_row0\" class=\"row_heading level0 row0\" >0</th>\n",
       "                        <td id=\"T_f7b620e4_13e4_11ee_a9a8_12e413fbf88drow0_col0\" class=\"data row0 col0\" >1.11e+04</td>\n",
       "                        <td id=\"T_f7b620e4_13e4_11ee_a9a8_12e413fbf88drow0_col1\" class=\"data row0 col1\" >1.12e+04</td>\n",
       "                        <td id=\"T_f7b620e4_13e4_11ee_a9a8_12e413fbf88drow0_col2\" class=\"data row0 col2\" >0.496</td>\n",
       "                        <td id=\"T_f7b620e4_13e4_11ee_a9a8_12e413fbf88drow0_col3\" class=\"data row0 col3\" >0.49</td>\n",
       "            </tr>\n",
       "            <tr>\n",
       "                        <th id=\"T_f7b620e4_13e4_11ee_a9a8_12e413fbf88dlevel0_row1\" class=\"row_heading level0 row1\" >5</th>\n",
       "                        <td id=\"T_f7b620e4_13e4_11ee_a9a8_12e413fbf88drow1_col0\" class=\"data row1 col0\" >1.15e+04</td>\n",
       "                        <td id=\"T_f7b620e4_13e4_11ee_a9a8_12e413fbf88drow1_col1\" class=\"data row1 col1\" >1.16e+04</td>\n",
       "                        <td id=\"T_f7b620e4_13e4_11ee_a9a8_12e413fbf88drow1_col2\" class=\"data row1 col2\" >0.175</td>\n",
       "                        <td id=\"T_f7b620e4_13e4_11ee_a9a8_12e413fbf88drow1_col3\" class=\"data row1 col3\" >0.174</td>\n",
       "            </tr>\n",
       "            <tr>\n",
       "                        <th id=\"T_f7b620e4_13e4_11ee_a9a8_12e413fbf88dlevel0_row2\" class=\"row_heading level0 row2\" >10</th>\n",
       "                        <td id=\"T_f7b620e4_13e4_11ee_a9a8_12e413fbf88drow2_col0\" class=\"data row2 col0\" >1.12e+04</td>\n",
       "                        <td id=\"T_f7b620e4_13e4_11ee_a9a8_12e413fbf88drow2_col1\" class=\"data row2 col1\" >1.14e+04</td>\n",
       "                        <td id=\"T_f7b620e4_13e4_11ee_a9a8_12e413fbf88drow2_col2\" class=\"data row2 col2\" >0.109</td>\n",
       "                        <td id=\"T_f7b620e4_13e4_11ee_a9a8_12e413fbf88drow2_col3\" class=\"data row2 col3\" >0.106</td>\n",
       "            </tr>\n",
       "            <tr>\n",
       "                        <th id=\"T_f7b620e4_13e4_11ee_a9a8_12e413fbf88dlevel0_row3\" class=\"row_heading level0 row3\" >15</th>\n",
       "                        <td id=\"T_f7b620e4_13e4_11ee_a9a8_12e413fbf88drow3_col0\" class=\"data row3 col0\" >1.09e+04</td>\n",
       "                        <td id=\"T_f7b620e4_13e4_11ee_a9a8_12e413fbf88drow3_col1\" class=\"data row3 col1\" >1.09e+04</td>\n",
       "                        <td id=\"T_f7b620e4_13e4_11ee_a9a8_12e413fbf88drow3_col2\" class=\"data row3 col2\" >0.0816</td>\n",
       "                        <td id=\"T_f7b620e4_13e4_11ee_a9a8_12e413fbf88drow3_col3\" class=\"data row3 col3\" >0.0802</td>\n",
       "            </tr>\n",
       "    </tbody></table>"
      ],
      "text/plain": [
       "<pandas.io.formats.style.Styler at 0x7f9874135fd0>"
      ]
     },
     "metadata": {},
     "output_type": "display_data"
    },
    {
     "data": {
      "text/html": [
       "<style  type=\"text/css\" >\n",
       "</style><table id=\"T_f82d4ec6_13e4_11ee_a9a8_12e413fbf88d\" ><thead>    <tr>        <th class=\"index_name level0\" >Shell No.</th>        <th class=\"col_heading level0 col0\" >t_rad</th>        <th class=\"col_heading level0 col1\" >next_t_rad</th>        <th class=\"col_heading level0 col2\" >w</th>        <th class=\"col_heading level0 col3\" >next_w</th>    </tr></thead><tbody>\n",
       "                <tr>\n",
       "                        <th id=\"T_f82d4ec6_13e4_11ee_a9a8_12e413fbf88dlevel0_row0\" class=\"row_heading level0 row0\" >0</th>\n",
       "                        <td id=\"T_f82d4ec6_13e4_11ee_a9a8_12e413fbf88drow0_col0\" class=\"data row0 col0\" >1.12e+04</td>\n",
       "                        <td id=\"T_f82d4ec6_13e4_11ee_a9a8_12e413fbf88drow0_col1\" class=\"data row0 col1\" >1.11e+04</td>\n",
       "                        <td id=\"T_f82d4ec6_13e4_11ee_a9a8_12e413fbf88drow0_col2\" class=\"data row0 col2\" >0.49</td>\n",
       "                        <td id=\"T_f82d4ec6_13e4_11ee_a9a8_12e413fbf88drow0_col3\" class=\"data row0 col3\" >0.49</td>\n",
       "            </tr>\n",
       "            <tr>\n",
       "                        <th id=\"T_f82d4ec6_13e4_11ee_a9a8_12e413fbf88dlevel0_row1\" class=\"row_heading level0 row1\" >5</th>\n",
       "                        <td id=\"T_f82d4ec6_13e4_11ee_a9a8_12e413fbf88drow1_col0\" class=\"data row1 col0\" >1.16e+04</td>\n",
       "                        <td id=\"T_f82d4ec6_13e4_11ee_a9a8_12e413fbf88drow1_col1\" class=\"data row1 col1\" >1.15e+04</td>\n",
       "                        <td id=\"T_f82d4ec6_13e4_11ee_a9a8_12e413fbf88drow1_col2\" class=\"data row1 col2\" >0.174</td>\n",
       "                        <td id=\"T_f82d4ec6_13e4_11ee_a9a8_12e413fbf88drow1_col3\" class=\"data row1 col3\" >0.174</td>\n",
       "            </tr>\n",
       "            <tr>\n",
       "                        <th id=\"T_f82d4ec6_13e4_11ee_a9a8_12e413fbf88dlevel0_row2\" class=\"row_heading level0 row2\" >10</th>\n",
       "                        <td id=\"T_f82d4ec6_13e4_11ee_a9a8_12e413fbf88drow2_col0\" class=\"data row2 col0\" >1.14e+04</td>\n",
       "                        <td id=\"T_f82d4ec6_13e4_11ee_a9a8_12e413fbf88drow2_col1\" class=\"data row2 col1\" >1.13e+04</td>\n",
       "                        <td id=\"T_f82d4ec6_13e4_11ee_a9a8_12e413fbf88drow2_col2\" class=\"data row2 col2\" >0.106</td>\n",
       "                        <td id=\"T_f82d4ec6_13e4_11ee_a9a8_12e413fbf88drow2_col3\" class=\"data row2 col3\" >0.104</td>\n",
       "            </tr>\n",
       "            <tr>\n",
       "                        <th id=\"T_f82d4ec6_13e4_11ee_a9a8_12e413fbf88dlevel0_row3\" class=\"row_heading level0 row3\" >15</th>\n",
       "                        <td id=\"T_f82d4ec6_13e4_11ee_a9a8_12e413fbf88drow3_col0\" class=\"data row3 col0\" >1.09e+04</td>\n",
       "                        <td id=\"T_f82d4ec6_13e4_11ee_a9a8_12e413fbf88drow3_col1\" class=\"data row3 col1\" >1.09e+04</td>\n",
       "                        <td id=\"T_f82d4ec6_13e4_11ee_a9a8_12e413fbf88drow3_col2\" class=\"data row3 col2\" >0.0802</td>\n",
       "                        <td id=\"T_f82d4ec6_13e4_11ee_a9a8_12e413fbf88drow3_col3\" class=\"data row3 col3\" >0.0799</td>\n",
       "            </tr>\n",
       "    </tbody></table>"
      ],
      "text/plain": [
       "<pandas.io.formats.style.Styler at 0x7f98514674c0>"
      ]
     },
     "metadata": {},
     "output_type": "display_data"
    },
    {
     "data": {
      "text/html": [
       "<style  type=\"text/css\" >\n",
       "</style><table id=\"T_f8a7901e_13e4_11ee_a9a8_12e413fbf88d\" ><thead>    <tr>        <th class=\"index_name level0\" >Shell No.</th>        <th class=\"col_heading level0 col0\" >t_rad</th>        <th class=\"col_heading level0 col1\" >next_t_rad</th>        <th class=\"col_heading level0 col2\" >w</th>        <th class=\"col_heading level0 col3\" >next_w</th>    </tr></thead><tbody>\n",
       "                <tr>\n",
       "                        <th id=\"T_f8a7901e_13e4_11ee_a9a8_12e413fbf88dlevel0_row0\" class=\"row_heading level0 row0\" >0</th>\n",
       "                        <td id=\"T_f8a7901e_13e4_11ee_a9a8_12e413fbf88drow0_col0\" class=\"data row0 col0\" >1.11e+04</td>\n",
       "                        <td id=\"T_f8a7901e_13e4_11ee_a9a8_12e413fbf88drow0_col1\" class=\"data row0 col1\" >1.11e+04</td>\n",
       "                        <td id=\"T_f8a7901e_13e4_11ee_a9a8_12e413fbf88drow0_col2\" class=\"data row0 col2\" >0.49</td>\n",
       "                        <td id=\"T_f8a7901e_13e4_11ee_a9a8_12e413fbf88drow0_col3\" class=\"data row0 col3\" >0.496</td>\n",
       "            </tr>\n",
       "            <tr>\n",
       "                        <th id=\"T_f8a7901e_13e4_11ee_a9a8_12e413fbf88dlevel0_row1\" class=\"row_heading level0 row1\" >5</th>\n",
       "                        <td id=\"T_f8a7901e_13e4_11ee_a9a8_12e413fbf88drow1_col0\" class=\"data row1 col0\" >1.15e+04</td>\n",
       "                        <td id=\"T_f8a7901e_13e4_11ee_a9a8_12e413fbf88drow1_col1\" class=\"data row1 col1\" >1.15e+04</td>\n",
       "                        <td id=\"T_f8a7901e_13e4_11ee_a9a8_12e413fbf88drow1_col2\" class=\"data row1 col2\" >0.174</td>\n",
       "                        <td id=\"T_f8a7901e_13e4_11ee_a9a8_12e413fbf88drow1_col3\" class=\"data row1 col3\" >0.177</td>\n",
       "            </tr>\n",
       "            <tr>\n",
       "                        <th id=\"T_f8a7901e_13e4_11ee_a9a8_12e413fbf88dlevel0_row2\" class=\"row_heading level0 row2\" >10</th>\n",
       "                        <td id=\"T_f8a7901e_13e4_11ee_a9a8_12e413fbf88drow2_col0\" class=\"data row2 col0\" >1.13e+04</td>\n",
       "                        <td id=\"T_f8a7901e_13e4_11ee_a9a8_12e413fbf88drow2_col1\" class=\"data row2 col1\" >1.14e+04</td>\n",
       "                        <td id=\"T_f8a7901e_13e4_11ee_a9a8_12e413fbf88drow2_col2\" class=\"data row2 col2\" >0.104</td>\n",
       "                        <td id=\"T_f8a7901e_13e4_11ee_a9a8_12e413fbf88drow2_col3\" class=\"data row2 col3\" >0.105</td>\n",
       "            </tr>\n",
       "            <tr>\n",
       "                        <th id=\"T_f8a7901e_13e4_11ee_a9a8_12e413fbf88dlevel0_row3\" class=\"row_heading level0 row3\" >15</th>\n",
       "                        <td id=\"T_f8a7901e_13e4_11ee_a9a8_12e413fbf88drow3_col0\" class=\"data row3 col0\" >1.09e+04</td>\n",
       "                        <td id=\"T_f8a7901e_13e4_11ee_a9a8_12e413fbf88drow3_col1\" class=\"data row3 col1\" >1.09e+04</td>\n",
       "                        <td id=\"T_f8a7901e_13e4_11ee_a9a8_12e413fbf88drow3_col2\" class=\"data row3 col2\" >0.0799</td>\n",
       "                        <td id=\"T_f8a7901e_13e4_11ee_a9a8_12e413fbf88drow3_col3\" class=\"data row3 col3\" >0.081</td>\n",
       "            </tr>\n",
       "    </tbody></table>"
      ],
      "text/plain": [
       "<pandas.io.formats.style.Styler at 0x7f985139b130>"
      ]
     },
     "metadata": {},
     "output_type": "display_data"
    },
    {
     "data": {
      "text/html": [
       "<style  type=\"text/css\" >\n",
       "</style><table id=\"T_f91cffa2_13e4_11ee_a9a8_12e413fbf88d\" ><thead>    <tr>        <th class=\"index_name level0\" >Shell No.</th>        <th class=\"col_heading level0 col0\" >t_rad</th>        <th class=\"col_heading level0 col1\" >next_t_rad</th>        <th class=\"col_heading level0 col2\" >w</th>        <th class=\"col_heading level0 col3\" >next_w</th>    </tr></thead><tbody>\n",
       "                <tr>\n",
       "                        <th id=\"T_f91cffa2_13e4_11ee_a9a8_12e413fbf88dlevel0_row0\" class=\"row_heading level0 row0\" >0</th>\n",
       "                        <td id=\"T_f91cffa2_13e4_11ee_a9a8_12e413fbf88drow0_col0\" class=\"data row0 col0\" >1.11e+04</td>\n",
       "                        <td id=\"T_f91cffa2_13e4_11ee_a9a8_12e413fbf88drow0_col1\" class=\"data row0 col1\" >1.11e+04</td>\n",
       "                        <td id=\"T_f91cffa2_13e4_11ee_a9a8_12e413fbf88drow0_col2\" class=\"data row0 col2\" >0.496</td>\n",
       "                        <td id=\"T_f91cffa2_13e4_11ee_a9a8_12e413fbf88drow0_col3\" class=\"data row0 col3\" >0.501</td>\n",
       "            </tr>\n",
       "            <tr>\n",
       "                        <th id=\"T_f91cffa2_13e4_11ee_a9a8_12e413fbf88dlevel0_row1\" class=\"row_heading level0 row1\" >5</th>\n",
       "                        <td id=\"T_f91cffa2_13e4_11ee_a9a8_12e413fbf88drow1_col0\" class=\"data row1 col0\" >1.15e+04</td>\n",
       "                        <td id=\"T_f91cffa2_13e4_11ee_a9a8_12e413fbf88drow1_col1\" class=\"data row1 col1\" >1.16e+04</td>\n",
       "                        <td id=\"T_f91cffa2_13e4_11ee_a9a8_12e413fbf88drow1_col2\" class=\"data row1 col2\" >0.177</td>\n",
       "                        <td id=\"T_f91cffa2_13e4_11ee_a9a8_12e413fbf88drow1_col3\" class=\"data row1 col3\" >0.174</td>\n",
       "            </tr>\n",
       "            <tr>\n",
       "                        <th id=\"T_f91cffa2_13e4_11ee_a9a8_12e413fbf88dlevel0_row2\" class=\"row_heading level0 row2\" >10</th>\n",
       "                        <td id=\"T_f91cffa2_13e4_11ee_a9a8_12e413fbf88drow2_col0\" class=\"data row2 col0\" >1.14e+04</td>\n",
       "                        <td id=\"T_f91cffa2_13e4_11ee_a9a8_12e413fbf88drow2_col1\" class=\"data row2 col1\" >1.14e+04</td>\n",
       "                        <td id=\"T_f91cffa2_13e4_11ee_a9a8_12e413fbf88drow2_col2\" class=\"data row2 col2\" >0.105</td>\n",
       "                        <td id=\"T_f91cffa2_13e4_11ee_a9a8_12e413fbf88drow2_col3\" class=\"data row2 col3\" >0.104</td>\n",
       "            </tr>\n",
       "            <tr>\n",
       "                        <th id=\"T_f91cffa2_13e4_11ee_a9a8_12e413fbf88dlevel0_row3\" class=\"row_heading level0 row3\" >15</th>\n",
       "                        <td id=\"T_f91cffa2_13e4_11ee_a9a8_12e413fbf88drow3_col0\" class=\"data row3 col0\" >1.09e+04</td>\n",
       "                        <td id=\"T_f91cffa2_13e4_11ee_a9a8_12e413fbf88drow3_col1\" class=\"data row3 col1\" >1.09e+04</td>\n",
       "                        <td id=\"T_f91cffa2_13e4_11ee_a9a8_12e413fbf88drow3_col2\" class=\"data row3 col2\" >0.081</td>\n",
       "                        <td id=\"T_f91cffa2_13e4_11ee_a9a8_12e413fbf88drow3_col3\" class=\"data row3 col3\" >0.0809</td>\n",
       "            </tr>\n",
       "    </tbody></table>"
      ],
      "text/plain": [
       "<pandas.io.formats.style.Styler at 0x7f98513595e0>"
      ]
     },
     "metadata": {},
     "output_type": "display_data"
    },
    {
     "data": {
      "text/html": [
       "<style  type=\"text/css\" >\n",
       "</style><table id=\"T_f9902d06_13e4_11ee_a9a8_12e413fbf88d\" ><thead>    <tr>        <th class=\"index_name level0\" >Shell No.</th>        <th class=\"col_heading level0 col0\" >t_rad</th>        <th class=\"col_heading level0 col1\" >next_t_rad</th>        <th class=\"col_heading level0 col2\" >w</th>        <th class=\"col_heading level0 col3\" >next_w</th>    </tr></thead><tbody>\n",
       "                <tr>\n",
       "                        <th id=\"T_f9902d06_13e4_11ee_a9a8_12e413fbf88dlevel0_row0\" class=\"row_heading level0 row0\" >0</th>\n",
       "                        <td id=\"T_f9902d06_13e4_11ee_a9a8_12e413fbf88drow0_col0\" class=\"data row0 col0\" >1.11e+04</td>\n",
       "                        <td id=\"T_f9902d06_13e4_11ee_a9a8_12e413fbf88drow0_col1\" class=\"data row0 col1\" >1.12e+04</td>\n",
       "                        <td id=\"T_f9902d06_13e4_11ee_a9a8_12e413fbf88drow0_col2\" class=\"data row0 col2\" >0.501</td>\n",
       "                        <td id=\"T_f9902d06_13e4_11ee_a9a8_12e413fbf88drow0_col3\" class=\"data row0 col3\" >0.485</td>\n",
       "            </tr>\n",
       "            <tr>\n",
       "                        <th id=\"T_f9902d06_13e4_11ee_a9a8_12e413fbf88dlevel0_row1\" class=\"row_heading level0 row1\" >5</th>\n",
       "                        <td id=\"T_f9902d06_13e4_11ee_a9a8_12e413fbf88drow1_col0\" class=\"data row1 col0\" >1.16e+04</td>\n",
       "                        <td id=\"T_f9902d06_13e4_11ee_a9a8_12e413fbf88drow1_col1\" class=\"data row1 col1\" >1.16e+04</td>\n",
       "                        <td id=\"T_f9902d06_13e4_11ee_a9a8_12e413fbf88drow1_col2\" class=\"data row1 col2\" >0.174</td>\n",
       "                        <td id=\"T_f9902d06_13e4_11ee_a9a8_12e413fbf88drow1_col3\" class=\"data row1 col3\" >0.17</td>\n",
       "            </tr>\n",
       "            <tr>\n",
       "                        <th id=\"T_f9902d06_13e4_11ee_a9a8_12e413fbf88dlevel0_row2\" class=\"row_heading level0 row2\" >10</th>\n",
       "                        <td id=\"T_f9902d06_13e4_11ee_a9a8_12e413fbf88drow2_col0\" class=\"data row2 col0\" >1.14e+04</td>\n",
       "                        <td id=\"T_f9902d06_13e4_11ee_a9a8_12e413fbf88drow2_col1\" class=\"data row2 col1\" >1.13e+04</td>\n",
       "                        <td id=\"T_f9902d06_13e4_11ee_a9a8_12e413fbf88drow2_col2\" class=\"data row2 col2\" >0.104</td>\n",
       "                        <td id=\"T_f9902d06_13e4_11ee_a9a8_12e413fbf88drow2_col3\" class=\"data row2 col3\" >0.105</td>\n",
       "            </tr>\n",
       "            <tr>\n",
       "                        <th id=\"T_f9902d06_13e4_11ee_a9a8_12e413fbf88dlevel0_row3\" class=\"row_heading level0 row3\" >15</th>\n",
       "                        <td id=\"T_f9902d06_13e4_11ee_a9a8_12e413fbf88drow3_col0\" class=\"data row3 col0\" >1.09e+04</td>\n",
       "                        <td id=\"T_f9902d06_13e4_11ee_a9a8_12e413fbf88drow3_col1\" class=\"data row3 col1\" >1.1e+04</td>\n",
       "                        <td id=\"T_f9902d06_13e4_11ee_a9a8_12e413fbf88drow3_col2\" class=\"data row3 col2\" >0.0809</td>\n",
       "                        <td id=\"T_f9902d06_13e4_11ee_a9a8_12e413fbf88drow3_col3\" class=\"data row3 col3\" >0.0777</td>\n",
       "            </tr>\n",
       "    </tbody></table>"
      ],
      "text/plain": [
       "<pandas.io.formats.style.Styler at 0x7f9874a99b80>"
      ]
     },
     "metadata": {},
     "output_type": "display_data"
    },
    {
     "data": {
      "text/html": [
       "<style  type=\"text/css\" >\n",
       "</style><table id=\"T_fa04ee52_13e4_11ee_a9a8_12e413fbf88d\" ><thead>    <tr>        <th class=\"index_name level0\" >Shell No.</th>        <th class=\"col_heading level0 col0\" >t_rad</th>        <th class=\"col_heading level0 col1\" >next_t_rad</th>        <th class=\"col_heading level0 col2\" >w</th>        <th class=\"col_heading level0 col3\" >next_w</th>    </tr></thead><tbody>\n",
       "                <tr>\n",
       "                        <th id=\"T_fa04ee52_13e4_11ee_a9a8_12e413fbf88dlevel0_row0\" class=\"row_heading level0 row0\" >0</th>\n",
       "                        <td id=\"T_fa04ee52_13e4_11ee_a9a8_12e413fbf88drow0_col0\" class=\"data row0 col0\" >1.12e+04</td>\n",
       "                        <td id=\"T_fa04ee52_13e4_11ee_a9a8_12e413fbf88drow0_col1\" class=\"data row0 col1\" >1.12e+04</td>\n",
       "                        <td id=\"T_fa04ee52_13e4_11ee_a9a8_12e413fbf88drow0_col2\" class=\"data row0 col2\" >0.485</td>\n",
       "                        <td id=\"T_fa04ee52_13e4_11ee_a9a8_12e413fbf88drow0_col3\" class=\"data row0 col3\" >0.483</td>\n",
       "            </tr>\n",
       "            <tr>\n",
       "                        <th id=\"T_fa04ee52_13e4_11ee_a9a8_12e413fbf88dlevel0_row1\" class=\"row_heading level0 row1\" >5</th>\n",
       "                        <td id=\"T_fa04ee52_13e4_11ee_a9a8_12e413fbf88drow1_col0\" class=\"data row1 col0\" >1.16e+04</td>\n",
       "                        <td id=\"T_fa04ee52_13e4_11ee_a9a8_12e413fbf88drow1_col1\" class=\"data row1 col1\" >1.16e+04</td>\n",
       "                        <td id=\"T_fa04ee52_13e4_11ee_a9a8_12e413fbf88drow1_col2\" class=\"data row1 col2\" >0.17</td>\n",
       "                        <td id=\"T_fa04ee52_13e4_11ee_a9a8_12e413fbf88drow1_col3\" class=\"data row1 col3\" >0.174</td>\n",
       "            </tr>\n",
       "            <tr>\n",
       "                        <th id=\"T_fa04ee52_13e4_11ee_a9a8_12e413fbf88dlevel0_row2\" class=\"row_heading level0 row2\" >10</th>\n",
       "                        <td id=\"T_fa04ee52_13e4_11ee_a9a8_12e413fbf88drow2_col0\" class=\"data row2 col0\" >1.13e+04</td>\n",
       "                        <td id=\"T_fa04ee52_13e4_11ee_a9a8_12e413fbf88drow2_col1\" class=\"data row2 col1\" >1.14e+04</td>\n",
       "                        <td id=\"T_fa04ee52_13e4_11ee_a9a8_12e413fbf88drow2_col2\" class=\"data row2 col2\" >0.105</td>\n",
       "                        <td id=\"T_fa04ee52_13e4_11ee_a9a8_12e413fbf88drow2_col3\" class=\"data row2 col3\" >0.105</td>\n",
       "            </tr>\n",
       "            <tr>\n",
       "                        <th id=\"T_fa04ee52_13e4_11ee_a9a8_12e413fbf88dlevel0_row3\" class=\"row_heading level0 row3\" >15</th>\n",
       "                        <td id=\"T_fa04ee52_13e4_11ee_a9a8_12e413fbf88drow3_col0\" class=\"data row3 col0\" >1.1e+04</td>\n",
       "                        <td id=\"T_fa04ee52_13e4_11ee_a9a8_12e413fbf88drow3_col1\" class=\"data row3 col1\" >1.1e+04</td>\n",
       "                        <td id=\"T_fa04ee52_13e4_11ee_a9a8_12e413fbf88drow3_col2\" class=\"data row3 col2\" >0.0777</td>\n",
       "                        <td id=\"T_fa04ee52_13e4_11ee_a9a8_12e413fbf88drow3_col3\" class=\"data row3 col3\" >0.0789</td>\n",
       "            </tr>\n",
       "    </tbody></table>"
      ],
      "text/plain": [
       "<pandas.io.formats.style.Styler at 0x7f985139b6d0>"
      ]
     },
     "metadata": {},
     "output_type": "display_data"
    },
    {
     "data": {
      "text/html": [
       "<style  type=\"text/css\" >\n",
       "</style><table id=\"T_fa77b900_13e4_11ee_a9a8_12e413fbf88d\" ><thead>    <tr>        <th class=\"index_name level0\" >Shell No.</th>        <th class=\"col_heading level0 col0\" >t_rad</th>        <th class=\"col_heading level0 col1\" >next_t_rad</th>        <th class=\"col_heading level0 col2\" >w</th>        <th class=\"col_heading level0 col3\" >next_w</th>    </tr></thead><tbody>\n",
       "                <tr>\n",
       "                        <th id=\"T_fa77b900_13e4_11ee_a9a8_12e413fbf88dlevel0_row0\" class=\"row_heading level0 row0\" >0</th>\n",
       "                        <td id=\"T_fa77b900_13e4_11ee_a9a8_12e413fbf88drow0_col0\" class=\"data row0 col0\" >1.12e+04</td>\n",
       "                        <td id=\"T_fa77b900_13e4_11ee_a9a8_12e413fbf88drow0_col1\" class=\"data row0 col1\" >1.12e+04</td>\n",
       "                        <td id=\"T_fa77b900_13e4_11ee_a9a8_12e413fbf88drow0_col2\" class=\"data row0 col2\" >0.483</td>\n",
       "                        <td id=\"T_fa77b900_13e4_11ee_a9a8_12e413fbf88drow0_col3\" class=\"data row0 col3\" >0.48</td>\n",
       "            </tr>\n",
       "            <tr>\n",
       "                        <th id=\"T_fa77b900_13e4_11ee_a9a8_12e413fbf88dlevel0_row1\" class=\"row_heading level0 row1\" >5</th>\n",
       "                        <td id=\"T_fa77b900_13e4_11ee_a9a8_12e413fbf88drow1_col0\" class=\"data row1 col0\" >1.16e+04</td>\n",
       "                        <td id=\"T_fa77b900_13e4_11ee_a9a8_12e413fbf88drow1_col1\" class=\"data row1 col1\" >1.16e+04</td>\n",
       "                        <td id=\"T_fa77b900_13e4_11ee_a9a8_12e413fbf88drow1_col2\" class=\"data row1 col2\" >0.174</td>\n",
       "                        <td id=\"T_fa77b900_13e4_11ee_a9a8_12e413fbf88drow1_col3\" class=\"data row1 col3\" >0.174</td>\n",
       "            </tr>\n",
       "            <tr>\n",
       "                        <th id=\"T_fa77b900_13e4_11ee_a9a8_12e413fbf88dlevel0_row2\" class=\"row_heading level0 row2\" >10</th>\n",
       "                        <td id=\"T_fa77b900_13e4_11ee_a9a8_12e413fbf88drow2_col0\" class=\"data row2 col0\" >1.14e+04</td>\n",
       "                        <td id=\"T_fa77b900_13e4_11ee_a9a8_12e413fbf88drow2_col1\" class=\"data row2 col1\" >1.13e+04</td>\n",
       "                        <td id=\"T_fa77b900_13e4_11ee_a9a8_12e413fbf88drow2_col2\" class=\"data row2 col2\" >0.105</td>\n",
       "                        <td id=\"T_fa77b900_13e4_11ee_a9a8_12e413fbf88drow2_col3\" class=\"data row2 col3\" >0.105</td>\n",
       "            </tr>\n",
       "            <tr>\n",
       "                        <th id=\"T_fa77b900_13e4_11ee_a9a8_12e413fbf88dlevel0_row3\" class=\"row_heading level0 row3\" >15</th>\n",
       "                        <td id=\"T_fa77b900_13e4_11ee_a9a8_12e413fbf88drow3_col0\" class=\"data row3 col0\" >1.1e+04</td>\n",
       "                        <td id=\"T_fa77b900_13e4_11ee_a9a8_12e413fbf88drow3_col1\" class=\"data row3 col1\" >1.09e+04</td>\n",
       "                        <td id=\"T_fa77b900_13e4_11ee_a9a8_12e413fbf88drow3_col2\" class=\"data row3 col2\" >0.0789</td>\n",
       "                        <td id=\"T_fa77b900_13e4_11ee_a9a8_12e413fbf88drow3_col3\" class=\"data row3 col3\" >0.0789</td>\n",
       "            </tr>\n",
       "    </tbody></table>"
      ],
      "text/plain": [
       "<pandas.io.formats.style.Styler at 0x7f985135a700>"
      ]
     },
     "metadata": {},
     "output_type": "display_data"
    },
    {
     "data": {
      "text/html": [
       "<style  type=\"text/css\" >\n",
       "</style><table id=\"T_faed480a_13e4_11ee_a9a8_12e413fbf88d\" ><thead>    <tr>        <th class=\"index_name level0\" >Shell No.</th>        <th class=\"col_heading level0 col0\" >t_rad</th>        <th class=\"col_heading level0 col1\" >next_t_rad</th>        <th class=\"col_heading level0 col2\" >w</th>        <th class=\"col_heading level0 col3\" >next_w</th>    </tr></thead><tbody>\n",
       "                <tr>\n",
       "                        <th id=\"T_faed480a_13e4_11ee_a9a8_12e413fbf88dlevel0_row0\" class=\"row_heading level0 row0\" >0</th>\n",
       "                        <td id=\"T_faed480a_13e4_11ee_a9a8_12e413fbf88drow0_col0\" class=\"data row0 col0\" >1.12e+04</td>\n",
       "                        <td id=\"T_faed480a_13e4_11ee_a9a8_12e413fbf88drow0_col1\" class=\"data row0 col1\" >1.12e+04</td>\n",
       "                        <td id=\"T_faed480a_13e4_11ee_a9a8_12e413fbf88drow0_col2\" class=\"data row0 col2\" >0.48</td>\n",
       "                        <td id=\"T_faed480a_13e4_11ee_a9a8_12e413fbf88drow0_col3\" class=\"data row0 col3\" >0.486</td>\n",
       "            </tr>\n",
       "            <tr>\n",
       "                        <th id=\"T_faed480a_13e4_11ee_a9a8_12e413fbf88dlevel0_row1\" class=\"row_heading level0 row1\" >5</th>\n",
       "                        <td id=\"T_faed480a_13e4_11ee_a9a8_12e413fbf88drow1_col0\" class=\"data row1 col0\" >1.16e+04</td>\n",
       "                        <td id=\"T_faed480a_13e4_11ee_a9a8_12e413fbf88drow1_col1\" class=\"data row1 col1\" >1.15e+04</td>\n",
       "                        <td id=\"T_faed480a_13e4_11ee_a9a8_12e413fbf88drow1_col2\" class=\"data row1 col2\" >0.174</td>\n",
       "                        <td id=\"T_faed480a_13e4_11ee_a9a8_12e413fbf88drow1_col3\" class=\"data row1 col3\" >0.18</td>\n",
       "            </tr>\n",
       "            <tr>\n",
       "                        <th id=\"T_faed480a_13e4_11ee_a9a8_12e413fbf88dlevel0_row2\" class=\"row_heading level0 row2\" >10</th>\n",
       "                        <td id=\"T_faed480a_13e4_11ee_a9a8_12e413fbf88drow2_col0\" class=\"data row2 col0\" >1.13e+04</td>\n",
       "                        <td id=\"T_faed480a_13e4_11ee_a9a8_12e413fbf88drow2_col1\" class=\"data row2 col1\" >1.12e+04</td>\n",
       "                        <td id=\"T_faed480a_13e4_11ee_a9a8_12e413fbf88drow2_col2\" class=\"data row2 col2\" >0.105</td>\n",
       "                        <td id=\"T_faed480a_13e4_11ee_a9a8_12e413fbf88drow2_col3\" class=\"data row2 col3\" >0.108</td>\n",
       "            </tr>\n",
       "            <tr>\n",
       "                        <th id=\"T_faed480a_13e4_11ee_a9a8_12e413fbf88dlevel0_row3\" class=\"row_heading level0 row3\" >15</th>\n",
       "                        <td id=\"T_faed480a_13e4_11ee_a9a8_12e413fbf88drow3_col0\" class=\"data row3 col0\" >1.09e+04</td>\n",
       "                        <td id=\"T_faed480a_13e4_11ee_a9a8_12e413fbf88drow3_col1\" class=\"data row3 col1\" >1.09e+04</td>\n",
       "                        <td id=\"T_faed480a_13e4_11ee_a9a8_12e413fbf88drow3_col2\" class=\"data row3 col2\" >0.0789</td>\n",
       "                        <td id=\"T_faed480a_13e4_11ee_a9a8_12e413fbf88drow3_col3\" class=\"data row3 col3\" >0.0793</td>\n",
       "            </tr>\n",
       "    </tbody></table>"
      ],
      "text/plain": [
       "<pandas.io.formats.style.Styler at 0x7f985132e550>"
      ]
     },
     "metadata": {},
     "output_type": "display_data"
    },
    {
     "data": {
      "text/html": [
       "<style  type=\"text/css\" >\n",
       "</style><table id=\"T_fb5f1f3e_13e4_11ee_a9a8_12e413fbf88d\" ><thead>    <tr>        <th class=\"index_name level0\" >Shell No.</th>        <th class=\"col_heading level0 col0\" >t_rad</th>        <th class=\"col_heading level0 col1\" >next_t_rad</th>        <th class=\"col_heading level0 col2\" >w</th>        <th class=\"col_heading level0 col3\" >next_w</th>    </tr></thead><tbody>\n",
       "                <tr>\n",
       "                        <th id=\"T_fb5f1f3e_13e4_11ee_a9a8_12e413fbf88dlevel0_row0\" class=\"row_heading level0 row0\" >0</th>\n",
       "                        <td id=\"T_fb5f1f3e_13e4_11ee_a9a8_12e413fbf88drow0_col0\" class=\"data row0 col0\" >1.12e+04</td>\n",
       "                        <td id=\"T_fb5f1f3e_13e4_11ee_a9a8_12e413fbf88drow0_col1\" class=\"data row0 col1\" >1.12e+04</td>\n",
       "                        <td id=\"T_fb5f1f3e_13e4_11ee_a9a8_12e413fbf88drow0_col2\" class=\"data row0 col2\" >0.486</td>\n",
       "                        <td id=\"T_fb5f1f3e_13e4_11ee_a9a8_12e413fbf88drow0_col3\" class=\"data row0 col3\" >0.486</td>\n",
       "            </tr>\n",
       "            <tr>\n",
       "                        <th id=\"T_fb5f1f3e_13e4_11ee_a9a8_12e413fbf88dlevel0_row1\" class=\"row_heading level0 row1\" >5</th>\n",
       "                        <td id=\"T_fb5f1f3e_13e4_11ee_a9a8_12e413fbf88drow1_col0\" class=\"data row1 col0\" >1.15e+04</td>\n",
       "                        <td id=\"T_fb5f1f3e_13e4_11ee_a9a8_12e413fbf88drow1_col1\" class=\"data row1 col1\" >1.15e+04</td>\n",
       "                        <td id=\"T_fb5f1f3e_13e4_11ee_a9a8_12e413fbf88drow1_col2\" class=\"data row1 col2\" >0.18</td>\n",
       "                        <td id=\"T_fb5f1f3e_13e4_11ee_a9a8_12e413fbf88drow1_col3\" class=\"data row1 col3\" >0.177</td>\n",
       "            </tr>\n",
       "            <tr>\n",
       "                        <th id=\"T_fb5f1f3e_13e4_11ee_a9a8_12e413fbf88dlevel0_row2\" class=\"row_heading level0 row2\" >10</th>\n",
       "                        <td id=\"T_fb5f1f3e_13e4_11ee_a9a8_12e413fbf88drow2_col0\" class=\"data row2 col0\" >1.12e+04</td>\n",
       "                        <td id=\"T_fb5f1f3e_13e4_11ee_a9a8_12e413fbf88drow2_col1\" class=\"data row2 col1\" >1.13e+04</td>\n",
       "                        <td id=\"T_fb5f1f3e_13e4_11ee_a9a8_12e413fbf88drow2_col2\" class=\"data row2 col2\" >0.108</td>\n",
       "                        <td id=\"T_fb5f1f3e_13e4_11ee_a9a8_12e413fbf88drow2_col3\" class=\"data row2 col3\" >0.107</td>\n",
       "            </tr>\n",
       "            <tr>\n",
       "                        <th id=\"T_fb5f1f3e_13e4_11ee_a9a8_12e413fbf88dlevel0_row3\" class=\"row_heading level0 row3\" >15</th>\n",
       "                        <td id=\"T_fb5f1f3e_13e4_11ee_a9a8_12e413fbf88drow3_col0\" class=\"data row3 col0\" >1.09e+04</td>\n",
       "                        <td id=\"T_fb5f1f3e_13e4_11ee_a9a8_12e413fbf88drow3_col1\" class=\"data row3 col1\" >1.09e+04</td>\n",
       "                        <td id=\"T_fb5f1f3e_13e4_11ee_a9a8_12e413fbf88drow3_col2\" class=\"data row3 col2\" >0.0793</td>\n",
       "                        <td id=\"T_fb5f1f3e_13e4_11ee_a9a8_12e413fbf88drow3_col3\" class=\"data row3 col3\" >0.0811</td>\n",
       "            </tr>\n",
       "    </tbody></table>"
      ],
      "text/plain": [
       "<pandas.io.formats.style.Styler at 0x7f98512b4f40>"
      ]
     },
     "metadata": {},
     "output_type": "display_data"
    },
    {
     "data": {
      "text/html": [
       "<style  type=\"text/css\" >\n",
       "</style><table id=\"T_fbd4696a_13e4_11ee_a9a8_12e413fbf88d\" ><thead>    <tr>        <th class=\"index_name level0\" >Shell No.</th>        <th class=\"col_heading level0 col0\" >t_rad</th>        <th class=\"col_heading level0 col1\" >next_t_rad</th>        <th class=\"col_heading level0 col2\" >w</th>        <th class=\"col_heading level0 col3\" >next_w</th>    </tr></thead><tbody>\n",
       "                <tr>\n",
       "                        <th id=\"T_fbd4696a_13e4_11ee_a9a8_12e413fbf88dlevel0_row0\" class=\"row_heading level0 row0\" >0</th>\n",
       "                        <td id=\"T_fbd4696a_13e4_11ee_a9a8_12e413fbf88drow0_col0\" class=\"data row0 col0\" >1.12e+04</td>\n",
       "                        <td id=\"T_fbd4696a_13e4_11ee_a9a8_12e413fbf88drow0_col1\" class=\"data row0 col1\" >1.12e+04</td>\n",
       "                        <td id=\"T_fbd4696a_13e4_11ee_a9a8_12e413fbf88drow0_col2\" class=\"data row0 col2\" >0.486</td>\n",
       "                        <td id=\"T_fbd4696a_13e4_11ee_a9a8_12e413fbf88drow0_col3\" class=\"data row0 col3\" >0.483</td>\n",
       "            </tr>\n",
       "            <tr>\n",
       "                        <th id=\"T_fbd4696a_13e4_11ee_a9a8_12e413fbf88dlevel0_row1\" class=\"row_heading level0 row1\" >5</th>\n",
       "                        <td id=\"T_fbd4696a_13e4_11ee_a9a8_12e413fbf88drow1_col0\" class=\"data row1 col0\" >1.15e+04</td>\n",
       "                        <td id=\"T_fbd4696a_13e4_11ee_a9a8_12e413fbf88drow1_col1\" class=\"data row1 col1\" >1.16e+04</td>\n",
       "                        <td id=\"T_fbd4696a_13e4_11ee_a9a8_12e413fbf88drow1_col2\" class=\"data row1 col2\" >0.177</td>\n",
       "                        <td id=\"T_fbd4696a_13e4_11ee_a9a8_12e413fbf88drow1_col3\" class=\"data row1 col3\" >0.17</td>\n",
       "            </tr>\n",
       "            <tr>\n",
       "                        <th id=\"T_fbd4696a_13e4_11ee_a9a8_12e413fbf88dlevel0_row2\" class=\"row_heading level0 row2\" >10</th>\n",
       "                        <td id=\"T_fbd4696a_13e4_11ee_a9a8_12e413fbf88drow2_col0\" class=\"data row2 col0\" >1.13e+04</td>\n",
       "                        <td id=\"T_fbd4696a_13e4_11ee_a9a8_12e413fbf88drow2_col1\" class=\"data row2 col1\" >1.13e+04</td>\n",
       "                        <td id=\"T_fbd4696a_13e4_11ee_a9a8_12e413fbf88drow2_col2\" class=\"data row2 col2\" >0.107</td>\n",
       "                        <td id=\"T_fbd4696a_13e4_11ee_a9a8_12e413fbf88drow2_col3\" class=\"data row2 col3\" >0.107</td>\n",
       "            </tr>\n",
       "            <tr>\n",
       "                        <th id=\"T_fbd4696a_13e4_11ee_a9a8_12e413fbf88dlevel0_row3\" class=\"row_heading level0 row3\" >15</th>\n",
       "                        <td id=\"T_fbd4696a_13e4_11ee_a9a8_12e413fbf88drow3_col0\" class=\"data row3 col0\" >1.09e+04</td>\n",
       "                        <td id=\"T_fbd4696a_13e4_11ee_a9a8_12e413fbf88drow3_col1\" class=\"data row3 col1\" >1.09e+04</td>\n",
       "                        <td id=\"T_fbd4696a_13e4_11ee_a9a8_12e413fbf88drow3_col2\" class=\"data row3 col2\" >0.0811</td>\n",
       "                        <td id=\"T_fbd4696a_13e4_11ee_a9a8_12e413fbf88drow3_col3\" class=\"data row3 col3\" >0.0799</td>\n",
       "            </tr>\n",
       "    </tbody></table>"
      ],
      "text/plain": [
       "<pandas.io.formats.style.Styler at 0x7f9887275eb0>"
      ]
     },
     "metadata": {},
     "output_type": "display_data"
    },
    {
     "data": {
      "text/html": [
       "<style  type=\"text/css\" >\n",
       "</style><table id=\"T_fc4aee00_13e4_11ee_a9a8_12e413fbf88d\" ><thead>    <tr>        <th class=\"index_name level0\" >Shell No.</th>        <th class=\"col_heading level0 col0\" >t_rad</th>        <th class=\"col_heading level0 col1\" >next_t_rad</th>        <th class=\"col_heading level0 col2\" >w</th>        <th class=\"col_heading level0 col3\" >next_w</th>    </tr></thead><tbody>\n",
       "                <tr>\n",
       "                        <th id=\"T_fc4aee00_13e4_11ee_a9a8_12e413fbf88dlevel0_row0\" class=\"row_heading level0 row0\" >0</th>\n",
       "                        <td id=\"T_fc4aee00_13e4_11ee_a9a8_12e413fbf88drow0_col0\" class=\"data row0 col0\" >1.12e+04</td>\n",
       "                        <td id=\"T_fc4aee00_13e4_11ee_a9a8_12e413fbf88drow0_col1\" class=\"data row0 col1\" >1.12e+04</td>\n",
       "                        <td id=\"T_fc4aee00_13e4_11ee_a9a8_12e413fbf88drow0_col2\" class=\"data row0 col2\" >0.483</td>\n",
       "                        <td id=\"T_fc4aee00_13e4_11ee_a9a8_12e413fbf88drow0_col3\" class=\"data row0 col3\" >0.482</td>\n",
       "            </tr>\n",
       "            <tr>\n",
       "                        <th id=\"T_fc4aee00_13e4_11ee_a9a8_12e413fbf88dlevel0_row1\" class=\"row_heading level0 row1\" >5</th>\n",
       "                        <td id=\"T_fc4aee00_13e4_11ee_a9a8_12e413fbf88drow1_col0\" class=\"data row1 col0\" >1.16e+04</td>\n",
       "                        <td id=\"T_fc4aee00_13e4_11ee_a9a8_12e413fbf88drow1_col1\" class=\"data row1 col1\" >1.16e+04</td>\n",
       "                        <td id=\"T_fc4aee00_13e4_11ee_a9a8_12e413fbf88drow1_col2\" class=\"data row1 col2\" >0.17</td>\n",
       "                        <td id=\"T_fc4aee00_13e4_11ee_a9a8_12e413fbf88drow1_col3\" class=\"data row1 col3\" >0.172</td>\n",
       "            </tr>\n",
       "            <tr>\n",
       "                        <th id=\"T_fc4aee00_13e4_11ee_a9a8_12e413fbf88dlevel0_row2\" class=\"row_heading level0 row2\" >10</th>\n",
       "                        <td id=\"T_fc4aee00_13e4_11ee_a9a8_12e413fbf88drow2_col0\" class=\"data row2 col0\" >1.13e+04</td>\n",
       "                        <td id=\"T_fc4aee00_13e4_11ee_a9a8_12e413fbf88drow2_col1\" class=\"data row2 col1\" >1.13e+04</td>\n",
       "                        <td id=\"T_fc4aee00_13e4_11ee_a9a8_12e413fbf88drow2_col2\" class=\"data row2 col2\" >0.107</td>\n",
       "                        <td id=\"T_fc4aee00_13e4_11ee_a9a8_12e413fbf88drow2_col3\" class=\"data row2 col3\" >0.105</td>\n",
       "            </tr>\n",
       "            <tr>\n",
       "                        <th id=\"T_fc4aee00_13e4_11ee_a9a8_12e413fbf88dlevel0_row3\" class=\"row_heading level0 row3\" >15</th>\n",
       "                        <td id=\"T_fc4aee00_13e4_11ee_a9a8_12e413fbf88drow3_col0\" class=\"data row3 col0\" >1.09e+04</td>\n",
       "                        <td id=\"T_fc4aee00_13e4_11ee_a9a8_12e413fbf88drow3_col1\" class=\"data row3 col1\" >1.09e+04</td>\n",
       "                        <td id=\"T_fc4aee00_13e4_11ee_a9a8_12e413fbf88drow3_col2\" class=\"data row3 col2\" >0.0799</td>\n",
       "                        <td id=\"T_fc4aee00_13e4_11ee_a9a8_12e413fbf88drow3_col3\" class=\"data row3 col3\" >0.0807</td>\n",
       "            </tr>\n",
       "    </tbody></table>"
      ],
      "text/plain": [
       "<pandas.io.formats.style.Styler at 0x7f98512b45b0>"
      ]
     },
     "metadata": {},
     "output_type": "display_data"
    },
    {
     "data": {
      "text/html": [
       "<style  type=\"text/css\" >\n",
       "</style><table id=\"T_fcbfeb10_13e4_11ee_a9a8_12e413fbf88d\" ><thead>    <tr>        <th class=\"index_name level0\" >Shell No.</th>        <th class=\"col_heading level0 col0\" >t_rad</th>        <th class=\"col_heading level0 col1\" >next_t_rad</th>        <th class=\"col_heading level0 col2\" >w</th>        <th class=\"col_heading level0 col3\" >next_w</th>    </tr></thead><tbody>\n",
       "                <tr>\n",
       "                        <th id=\"T_fcbfeb10_13e4_11ee_a9a8_12e413fbf88dlevel0_row0\" class=\"row_heading level0 row0\" >0</th>\n",
       "                        <td id=\"T_fcbfeb10_13e4_11ee_a9a8_12e413fbf88drow0_col0\" class=\"data row0 col0\" >1.12e+04</td>\n",
       "                        <td id=\"T_fcbfeb10_13e4_11ee_a9a8_12e413fbf88drow0_col1\" class=\"data row0 col1\" >1.12e+04</td>\n",
       "                        <td id=\"T_fcbfeb10_13e4_11ee_a9a8_12e413fbf88drow0_col2\" class=\"data row0 col2\" >0.482</td>\n",
       "                        <td id=\"T_fcbfeb10_13e4_11ee_a9a8_12e413fbf88drow0_col3\" class=\"data row0 col3\" >0.478</td>\n",
       "            </tr>\n",
       "            <tr>\n",
       "                        <th id=\"T_fcbfeb10_13e4_11ee_a9a8_12e413fbf88dlevel0_row1\" class=\"row_heading level0 row1\" >5</th>\n",
       "                        <td id=\"T_fcbfeb10_13e4_11ee_a9a8_12e413fbf88drow1_col0\" class=\"data row1 col0\" >1.16e+04</td>\n",
       "                        <td id=\"T_fcbfeb10_13e4_11ee_a9a8_12e413fbf88drow1_col1\" class=\"data row1 col1\" >1.14e+04</td>\n",
       "                        <td id=\"T_fcbfeb10_13e4_11ee_a9a8_12e413fbf88drow1_col2\" class=\"data row1 col2\" >0.172</td>\n",
       "                        <td id=\"T_fcbfeb10_13e4_11ee_a9a8_12e413fbf88drow1_col3\" class=\"data row1 col3\" >0.177</td>\n",
       "            </tr>\n",
       "            <tr>\n",
       "                        <th id=\"T_fcbfeb10_13e4_11ee_a9a8_12e413fbf88dlevel0_row2\" class=\"row_heading level0 row2\" >10</th>\n",
       "                        <td id=\"T_fcbfeb10_13e4_11ee_a9a8_12e413fbf88drow2_col0\" class=\"data row2 col0\" >1.13e+04</td>\n",
       "                        <td id=\"T_fcbfeb10_13e4_11ee_a9a8_12e413fbf88drow2_col1\" class=\"data row2 col1\" >1.13e+04</td>\n",
       "                        <td id=\"T_fcbfeb10_13e4_11ee_a9a8_12e413fbf88drow2_col2\" class=\"data row2 col2\" >0.105</td>\n",
       "                        <td id=\"T_fcbfeb10_13e4_11ee_a9a8_12e413fbf88drow2_col3\" class=\"data row2 col3\" >0.107</td>\n",
       "            </tr>\n",
       "            <tr>\n",
       "                        <th id=\"T_fcbfeb10_13e4_11ee_a9a8_12e413fbf88dlevel0_row3\" class=\"row_heading level0 row3\" >15</th>\n",
       "                        <td id=\"T_fcbfeb10_13e4_11ee_a9a8_12e413fbf88drow3_col0\" class=\"data row3 col0\" >1.09e+04</td>\n",
       "                        <td id=\"T_fcbfeb10_13e4_11ee_a9a8_12e413fbf88drow3_col1\" class=\"data row3 col1\" >1.08e+04</td>\n",
       "                        <td id=\"T_fcbfeb10_13e4_11ee_a9a8_12e413fbf88drow3_col2\" class=\"data row3 col2\" >0.0807</td>\n",
       "                        <td id=\"T_fcbfeb10_13e4_11ee_a9a8_12e413fbf88drow3_col3\" class=\"data row3 col3\" >0.0814</td>\n",
       "            </tr>\n",
       "    </tbody></table>"
      ],
      "text/plain": [
       "<pandas.io.formats.style.Styler at 0x7f985132e430>"
      ]
     },
     "metadata": {},
     "output_type": "display_data"
    }
   ],
   "source": [
    "### Run Simulation\n",
    "config = Configuration.from_yaml('../../../docs/tardis_example.yml')\n",
    "atom_data = AtomData.from_hdf(os.path.join(get_data_dir(), 'kurucz_cd23_chianti_H_He.h5'))\n",
    "model = Radial1DModel.from_config(config, atom_data=atom_data)\n",
    "plasma = assemble_plasma(config, model, atom_data=atom_data)\n",
    "sim = Simulation.from_config(config, model=model, plasma=plasma)\n",
    "sim.run()"
   ]
  },
  {
   "cell_type": "code",
   "execution_count": 3,
   "metadata": {},
   "outputs": [
    {
     "name": "stderr",
     "output_type": "stream",
     "text": [
      "/Users/archil/miniforge3/envs/tardis/lib/python3.8/site-packages/pandas/core/series.py:679: RuntimeWarning:\n",
      "\n",
      "divide by zero encountered in log10\n",
      "\n"
     ]
    },
    {
     "data": {
      "application/vnd.plotly.v1+json": {
       "config": {
        "plotlyServerURL": "https://plot.ly"
       },
       "data": [
        {
         "hovertemplate": "Energy: 0.00e+00 eV<br>Population: 0.00e+00<extra></extra>",
         "line": {
          "color": "grey",
          "dash": "dash"
         },
         "mode": "lines",
         "showlegend": false,
         "type": "scatter",
         "x": [
          -0.05,
          0.07222222222222223,
          0.19444444444444448,
          0.3166666666666667,
          0.43888888888888894,
          0.5611111111111111,
          0.6833333333333333,
          0.8055555555555556,
          0.9277777777777778,
          1.05
         ],
         "xaxis": "x",
         "y": [
          0,
          0,
          0,
          0,
          0,
          0,
          0,
          0,
          0,
          0
         ],
         "yaxis": "y"
        },
        {
         "hovertemplate": "Energy: 1.98e+01 eV<br>Population: 1.96e-01<extra></extra>",
         "line": {
          "color": "black",
          "width": 4
         },
         "mode": "lines",
         "showlegend": false,
         "type": "scatter",
         "x": [
          -0.05,
          0.07222222222222223,
          0.19444444444444448,
          0.3166666666666667,
          0.43888888888888894,
          0.5611111111111111,
          0.6833333333333333,
          0.8055555555555556,
          0.9277777777777778,
          1.05
         ],
         "xaxis": "x",
         "y": [
          0.1,
          0.1,
          0.1,
          0.1,
          0.1,
          0.1,
          0.1,
          0.1,
          0.1,
          0.1
         ],
         "yaxis": "y"
        },
        {
         "hovertemplate": "Energy: 2.06e+01 eV<br>Population: 2.89e-02<extra></extra>",
         "line": {
          "color": "black",
          "width": 1
         },
         "mode": "lines",
         "showlegend": false,
         "type": "scatter",
         "x": [
          -0.05,
          0.07222222222222223,
          0.19444444444444448,
          0.3166666666666667,
          0.43888888888888894,
          0.5611111111111111,
          0.6833333333333333,
          0.8055555555555556,
          0.9277777777777778,
          1.05
         ],
         "xaxis": "x",
         "y": [
          0.37153731841925675,
          0.37153731841925675,
          0.37153731841925675,
          0.37153731841925675,
          0.37153731841925675,
          0.37153731841925675,
          0.37153731841925675,
          0.37153731841925675,
          0.37153731841925675,
          0.37153731841925675
         ],
         "yaxis": "y"
        },
        {
         "hovertemplate": "Energy: 2.10e+01 eV<br>Population: 1.82e-01<extra></extra>",
         "line": {
          "color": "black",
          "width": 3.886147641627425
         },
         "mode": "lines",
         "showlegend": false,
         "type": "scatter",
         "x": [
          -0.05,
          0.07222222222222223,
          0.19444444444444448,
          0.3166666666666667,
          0.43888888888888894,
          0.5611111111111111,
          0.6833333333333333,
          0.8055555555555556,
          0.9277777777777778,
          1.05
         ],
         "xaxis": "x",
         "y": [
          0.48706572793014913,
          0.48706572793014913,
          0.48706572793014913,
          0.48706572793014913,
          0.48706572793014913,
          0.48706572793014913,
          0.48706572793014913,
          0.48706572793014913,
          0.48706572793014913,
          0.48706572793014913
         ],
         "yaxis": "y"
        },
        {
         "hovertemplate": "Energy: 2.12e+01 eV<br>Population: 4.68e-02<extra></extra>",
         "line": {
          "color": "black",
          "width": 1.7562902008221155
         },
         "mode": "lines",
         "showlegend": false,
         "type": "scatter",
         "x": [
          -0.05,
          0.07222222222222223,
          0.19444444444444448,
          0.3166666666666667,
          0.43888888888888894,
          0.5611111111111111,
          0.6833333333333333,
          0.8055555555555556,
          0.9277777777777778,
          1.05
         ],
         "xaxis": "x",
         "y": [
          0.5700611958941406,
          0.5700611958941406,
          0.5700611958941406,
          0.5700611958941406,
          0.5700611958941406,
          0.5700611958941406,
          0.5700611958941406,
          0.5700611958941406,
          0.5700611958941406,
          0.5700611958941406
         ],
         "yaxis": "y"
        },
        {
         "hovertemplate": "Energy: 2.29e+01 eV<br>Population: 3.28e-02<extra></extra>",
         "line": {
          "color": "black",
          "width": 1.2005525985385797
         },
         "mode": "lines",
         "showlegend": false,
         "type": "scatter",
         "x": [
          -0.05,
          0.07222222222222223,
          0.19444444444444448,
          0.3166666666666667,
          0.43888888888888894,
          0.5611111111111111,
          0.6833333333333333,
          0.8055555555555556,
          0.9277777777777778,
          1.05
         ],
         "xaxis": "x",
         "y": [
          1.1,
          1.1,
          1.1,
          1.1,
          1.1,
          1.1,
          1.1,
          1.1,
          1.1,
          1.1
         ],
         "yaxis": "y"
        },
        {
         "hovertemplate": "Count: 360<br>Wavelength: 1.08e+04 Å<extra></extra>",
         "line": {
          "color": "#ff0000",
          "width": 2.855668122606413
         },
         "marker": {
          "angleref": "previous",
          "color": "#ff0000",
          "size": 9,
          "symbol": "arrow-bar-up"
         },
         "type": "scatter",
         "x": [
          0,
          0.369961408666242
         ],
         "xaxis": "x",
         "y": [
          0.1,
          0.48706572793014913
         ],
         "yaxis": "y"
        },
        {
         "hovertemplate": "Count: 38<br>Wavelength: 3.89e+03 Å<extra></extra>",
         "line": {
          "color": "#cce385",
          "width": 1.8365787728316847
         },
         "marker": {
          "angleref": "previous",
          "color": "#cce385",
          "size": 9,
          "symbol": "arrow-bar-up"
         },
         "type": "scatter",
         "x": [
          0,
          1
         ],
         "xaxis": "x",
         "y": [
          0.1,
          1.1
         ],
         "yaxis": "y"
        },
        {
         "hovertemplate": "Count: 23<br>Wavelength: 7.07e+03 Å<extra></extra>",
         "line": {
          "color": "#ff703a",
          "width": 1.6090170714255976
         },
         "marker": {
          "angleref": "previous",
          "color": "#ff703a",
          "size": 9,
          "symbol": "arrow-bar-up"
         },
         "type": "scatter",
         "x": [
          0,
          1
         ],
         "xaxis": "x",
         "y": [
          0.48706572793014913,
          1.1
         ],
         "yaxis": "y"
        },
        {
         "hovertemplate": "Count: 6<br>Wavelength: 5.84e+02 Å<extra></extra>",
         "line": {
          "color": "#8000ff",
          "width": 1
         },
         "marker": {
          "angleref": "previous",
          "color": "#8000ff",
          "size": 9,
          "symbol": "arrow-bar-up"
         },
         "type": "scatter",
         "x": [
          0,
          0.9260161397738454
         ],
         "xaxis": "x",
         "y": [
          0.5700611958941406,
          0
         ],
         "yaxis": "y"
        },
        {
         "hovertemplate": "Count: 495<br>Wavelength: 1.08e+04 Å<extra></extra>",
         "line": {
          "color": "#ff0000",
          "width": 3
         },
         "marker": {
          "angleref": "previous",
          "color": "#ff0000",
          "size": 9,
          "symbol": "arrow-bar-up"
         },
         "type": "scatter",
         "x": [
          0,
          0.369961408666242
         ],
         "xaxis": "x",
         "y": [
          0.48706572793014913,
          0.1
         ],
         "yaxis": "y"
        },
        {
         "hovertemplate": "Count: 42<br>Wavelength: 3.89e+03 Å<extra></extra>",
         "line": {
          "color": "#cce385",
          "width": 1.881939313651336
         },
         "marker": {
          "angleref": "previous",
          "color": "#cce385",
          "size": 9,
          "symbol": "arrow-bar-up"
         },
         "type": "scatter",
         "x": [
          0,
          1
         ],
         "xaxis": "x",
         "y": [
          1.1,
          0.1
         ],
         "yaxis": "y"
        },
        {
         "hovertemplate": "Count: 38<br>Wavelength: 7.07e+03 Å<extra></extra>",
         "line": {
          "color": "#ff703a",
          "width": 1.8365787728316847
         },
         "marker": {
          "angleref": "previous",
          "color": "#ff703a",
          "size": 9,
          "symbol": "arrow-bar-up"
         },
         "type": "scatter",
         "x": [
          0,
          1
         ],
         "xaxis": "x",
         "y": [
          1.1,
          0.48706572793014913
         ],
         "yaxis": "y"
        },
        {
         "hoverinfo": "none",
         "marker": {
          "cmax": 4.03474315724351,
          "cmin": 2.7666619000902264,
          "colorbar": {
           "outlinewidth": 0,
           "thickness": 5,
           "ticktext": [
            "5.8e+02",
            "8.1e+02",
            "1.1e+03",
            "1.5e+03",
            "2.1e+03",
            "3.0e+03",
            "4.1e+03",
            "5.7e+03",
            "7.8e+03",
            "1.1e+04"
           ],
           "tickvals": [
            2.7666619000902264,
            2.9075598175517023,
            3.0484577350131783,
            3.1893556524746542,
            3.33025356993613,
            3.4711514873976066,
            3.6120494048590825,
            3.7529473223205585,
            3.8938452397820345,
            4.03474315724351
           ],
           "title": {
            "font": {
             "size": 12
            },
            "text": "Wavelength (Å)"
           }
          },
          "colorscale": [
           [
            0,
            "rgb(150,0,90)"
           ],
           [
            0.125,
            "rgb(0,0,200)"
           ],
           [
            0.25,
            "rgb(0,25,255)"
           ],
           [
            0.375,
            "rgb(0,152,255)"
           ],
           [
            0.5,
            "rgb(44,255,150)"
           ],
           [
            0.625,
            "rgb(151,255,0)"
           ],
           [
            0.75,
            "rgb(255,234,0)"
           ],
           [
            0.875,
            "rgb(255,111,0)"
           ],
           [
            1,
            "rgb(255,0,0)"
           ]
          ],
          "showscale": true
         },
         "mode": "markers",
         "type": "scatter",
         "x": [
          null
         ],
         "xaxis": "x2",
         "y": [
          null
         ],
         "yaxis": "y2"
        }
       ],
       "layout": {
        "annotations": [
         {
          "showarrow": false,
          "text": "n=0",
          "x": 1.15,
          "xref": "x",
          "y": 0
         },
         {
          "showarrow": false,
          "text": "n=1",
          "x": 1.15,
          "xref": "x",
          "y": 0.1
         },
         {
          "showarrow": false,
          "text": "n=2",
          "x": 1.15,
          "xref": "x",
          "y": 0.37153731841925675
         },
         {
          "showarrow": false,
          "text": "n=3",
          "x": 1.15,
          "xref": "x",
          "y": 0.48706572793014913
         },
         {
          "showarrow": false,
          "text": "n=4",
          "x": 1.15,
          "xref": "x",
          "y": 0.5700611958941406
         },
         {
          "showarrow": false,
          "text": "n=5",
          "x": 1.15,
          "xref": "x",
          "y": 1.1
         },
         {
          "showarrow": false,
          "text": "2.9e-02",
          "x": 0.5,
          "xref": "x2",
          "y": 0,
          "yref": "y2"
         },
         {
          "showarrow": false,
          "text": "3.6e-02",
          "x": 0.5,
          "xref": "x2",
          "y": 0.1111111111111111,
          "yref": "y2"
         },
         {
          "showarrow": false,
          "text": "4.4e-02",
          "x": 0.5,
          "xref": "x2",
          "y": 0.2222222222222222,
          "yref": "y2"
         },
         {
          "showarrow": false,
          "text": "5.5e-02",
          "x": 0.5,
          "xref": "x2",
          "y": 0.3333333333333333,
          "yref": "y2"
         },
         {
          "showarrow": false,
          "text": "6.8e-02",
          "x": 0.5,
          "xref": "x2",
          "y": 0.4444444444444444,
          "yref": "y2"
         },
         {
          "showarrow": false,
          "text": "8.4e-02",
          "x": 0.5,
          "xref": "x2",
          "y": 0.5555555555555556,
          "yref": "y2"
         },
         {
          "showarrow": false,
          "text": "1.0e-01",
          "x": 0.5,
          "xref": "x2",
          "y": 0.6666666666666666,
          "yref": "y2"
         },
         {
          "showarrow": false,
          "text": "1.3e-01",
          "x": 0.5,
          "xref": "x2",
          "y": 0.7777777777777777,
          "yref": "y2"
         },
         {
          "showarrow": false,
          "text": "1.6e-01",
          "x": 0.5,
          "xref": "x2",
          "y": 0.8888888888888888,
          "yref": "y2"
         },
         {
          "showarrow": false,
          "text": "2.0e-01",
          "x": 0.5,
          "xref": "x2",
          "y": 1,
          "yref": "y2"
         },
         {
          "showarrow": false,
          "text": "Populations",
          "x": 0.4,
          "xref": "x2",
          "y": -0.05,
          "yref": "y2"
         },
         {
          "showarrow": false,
          "text": "6.0e+00",
          "x": 1.15,
          "xref": "x2",
          "y": 0,
          "yref": "y2"
         },
         {
          "showarrow": false,
          "text": "9.8e+00",
          "x": 1.15,
          "xref": "x2",
          "y": 0.1111111111111111,
          "yref": "y2"
         },
         {
          "showarrow": false,
          "text": "1.6e+01",
          "x": 1.15,
          "xref": "x2",
          "y": 0.2222222222222222,
          "yref": "y2"
         },
         {
          "showarrow": false,
          "text": "2.6e+01",
          "x": 1.15,
          "xref": "x2",
          "y": 0.3333333333333333,
          "yref": "y2"
         },
         {
          "showarrow": false,
          "text": "4.3e+01",
          "x": 1.15,
          "xref": "x2",
          "y": 0.4444444444444444,
          "yref": "y2"
         },
         {
          "showarrow": false,
          "text": "7.0e+01",
          "x": 1.15,
          "xref": "x2",
          "y": 0.5555555555555556,
          "yref": "y2"
         },
         {
          "showarrow": false,
          "text": "1.1e+02",
          "x": 1.15,
          "xref": "x2",
          "y": 0.6666666666666666,
          "yref": "y2"
         },
         {
          "showarrow": false,
          "text": "1.9e+02",
          "x": 1.15,
          "xref": "x2",
          "y": 0.7777777777777777,
          "yref": "y2"
         },
         {
          "showarrow": false,
          "text": "3.0e+02",
          "x": 1.15,
          "xref": "x2",
          "y": 0.8888888888888888,
          "yref": "y2"
         },
         {
          "showarrow": false,
          "text": "5.0e+02",
          "x": 1.15,
          "xref": "x2",
          "y": 1,
          "yref": "y2"
         },
         {
          "showarrow": false,
          "text": "#Packets",
          "x": 0.95,
          "xref": "x2",
          "y": -0.05,
          "yref": "y2"
         }
        ],
        "autosize": false,
        "height": 700,
        "plot_bgcolor": "white",
        "shapes": [
         {
          "line": {
           "width": 1
          },
          "type": "line",
          "x0": 0.1,
          "x1": 0.3,
          "xref": "x2",
          "y0": 0,
          "y1": 0,
          "yref": "y2"
         },
         {
          "line": {
           "width": 1.3333333333333333
          },
          "type": "line",
          "x0": 0.1,
          "x1": 0.3,
          "xref": "x2",
          "y0": 0.1111111111111111,
          "y1": 0.1111111111111111,
          "yref": "y2"
         },
         {
          "line": {
           "width": 1.6666666666666665
          },
          "type": "line",
          "x0": 0.1,
          "x1": 0.3,
          "xref": "x2",
          "y0": 0.2222222222222222,
          "y1": 0.2222222222222222,
          "yref": "y2"
         },
         {
          "line": {
           "width": 2
          },
          "type": "line",
          "x0": 0.1,
          "x1": 0.3,
          "xref": "x2",
          "y0": 0.3333333333333333,
          "y1": 0.3333333333333333,
          "yref": "y2"
         },
         {
          "line": {
           "width": 2.333333333333333
          },
          "type": "line",
          "x0": 0.1,
          "x1": 0.3,
          "xref": "x2",
          "y0": 0.4444444444444444,
          "y1": 0.4444444444444444,
          "yref": "y2"
         },
         {
          "line": {
           "width": 2.6666666666666665
          },
          "type": "line",
          "x0": 0.1,
          "x1": 0.3,
          "xref": "x2",
          "y0": 0.5555555555555556,
          "y1": 0.5555555555555556,
          "yref": "y2"
         },
         {
          "line": {
           "width": 3
          },
          "type": "line",
          "x0": 0.1,
          "x1": 0.3,
          "xref": "x2",
          "y0": 0.6666666666666666,
          "y1": 0.6666666666666666,
          "yref": "y2"
         },
         {
          "line": {
           "width": 3.333333333333333
          },
          "type": "line",
          "x0": 0.1,
          "x1": 0.3,
          "xref": "x2",
          "y0": 0.7777777777777777,
          "y1": 0.7777777777777777,
          "yref": "y2"
         },
         {
          "line": {
           "width": 3.6666666666666665
          },
          "type": "line",
          "x0": 0.1,
          "x1": 0.3,
          "xref": "x2",
          "y0": 0.8888888888888888,
          "y1": 0.8888888888888888,
          "yref": "y2"
         },
         {
          "line": {
           "width": 4
          },
          "type": "line",
          "x0": 0.1,
          "x1": 0.3,
          "xref": "x2",
          "y0": 1,
          "y1": 1,
          "yref": "y2"
         },
         {
          "line": {
           "color": "grey",
           "dash": "dash",
           "width": 0.5
          },
          "type": "line",
          "x0": 0.7,
          "x1": 0.7,
          "xref": "x2",
          "y0": 0,
          "y1": 1,
          "yref": "y2"
         },
         {
          "line": {
           "width": 1
          },
          "type": "line",
          "x0": 0.75,
          "x1": 0.95,
          "xref": "x2",
          "y0": 0,
          "y1": 0,
          "yref": "y2"
         },
         {
          "line": {
           "width": 1.2222222222222223
          },
          "type": "line",
          "x0": 0.75,
          "x1": 0.95,
          "xref": "x2",
          "y0": 0.1111111111111111,
          "y1": 0.1111111111111111,
          "yref": "y2"
         },
         {
          "line": {
           "width": 1.4444444444444444
          },
          "type": "line",
          "x0": 0.75,
          "x1": 0.95,
          "xref": "x2",
          "y0": 0.2222222222222222,
          "y1": 0.2222222222222222,
          "yref": "y2"
         },
         {
          "line": {
           "width": 1.6666666666666665
          },
          "type": "line",
          "x0": 0.75,
          "x1": 0.95,
          "xref": "x2",
          "y0": 0.3333333333333333,
          "y1": 0.3333333333333333,
          "yref": "y2"
         },
         {
          "line": {
           "width": 1.8888888888888888
          },
          "type": "line",
          "x0": 0.75,
          "x1": 0.95,
          "xref": "x2",
          "y0": 0.4444444444444444,
          "y1": 0.4444444444444444,
          "yref": "y2"
         },
         {
          "line": {
           "width": 2.111111111111111
          },
          "type": "line",
          "x0": 0.75,
          "x1": 0.95,
          "xref": "x2",
          "y0": 0.5555555555555556,
          "y1": 0.5555555555555556,
          "yref": "y2"
         },
         {
          "line": {
           "width": 2.333333333333333
          },
          "type": "line",
          "x0": 0.75,
          "x1": 0.95,
          "xref": "x2",
          "y0": 0.6666666666666666,
          "y1": 0.6666666666666666,
          "yref": "y2"
         },
         {
          "line": {
           "width": 2.5555555555555554
          },
          "type": "line",
          "x0": 0.75,
          "x1": 0.95,
          "xref": "x2",
          "y0": 0.7777777777777777,
          "y1": 0.7777777777777777,
          "yref": "y2"
         },
         {
          "line": {
           "width": 2.7777777777777777
          },
          "type": "line",
          "x0": 0.75,
          "x1": 0.95,
          "xref": "x2",
          "y0": 0.8888888888888888,
          "y1": 0.8888888888888888,
          "yref": "y2"
         },
         {
          "line": {
           "width": 3
          },
          "type": "line",
          "x0": 0.75,
          "x1": 0.95,
          "xref": "x2",
          "y0": 1,
          "y1": 1,
          "yref": "y2"
         }
        ],
        "showlegend": false,
        "template": {
         "data": {
          "bar": [
           {
            "error_x": {
             "color": "#2a3f5f"
            },
            "error_y": {
             "color": "#2a3f5f"
            },
            "marker": {
             "line": {
              "color": "#E5ECF6",
              "width": 0.5
             },
             "pattern": {
              "fillmode": "overlay",
              "size": 10,
              "solidity": 0.2
             }
            },
            "type": "bar"
           }
          ],
          "barpolar": [
           {
            "marker": {
             "line": {
              "color": "#E5ECF6",
              "width": 0.5
             },
             "pattern": {
              "fillmode": "overlay",
              "size": 10,
              "solidity": 0.2
             }
            },
            "type": "barpolar"
           }
          ],
          "carpet": [
           {
            "aaxis": {
             "endlinecolor": "#2a3f5f",
             "gridcolor": "white",
             "linecolor": "white",
             "minorgridcolor": "white",
             "startlinecolor": "#2a3f5f"
            },
            "baxis": {
             "endlinecolor": "#2a3f5f",
             "gridcolor": "white",
             "linecolor": "white",
             "minorgridcolor": "white",
             "startlinecolor": "#2a3f5f"
            },
            "type": "carpet"
           }
          ],
          "choropleth": [
           {
            "colorbar": {
             "outlinewidth": 0,
             "ticks": ""
            },
            "type": "choropleth"
           }
          ],
          "contour": [
           {
            "colorbar": {
             "outlinewidth": 0,
             "ticks": ""
            },
            "colorscale": [
             [
              0,
              "#0d0887"
             ],
             [
              0.1111111111111111,
              "#46039f"
             ],
             [
              0.2222222222222222,
              "#7201a8"
             ],
             [
              0.3333333333333333,
              "#9c179e"
             ],
             [
              0.4444444444444444,
              "#bd3786"
             ],
             [
              0.5555555555555556,
              "#d8576b"
             ],
             [
              0.6666666666666666,
              "#ed7953"
             ],
             [
              0.7777777777777778,
              "#fb9f3a"
             ],
             [
              0.8888888888888888,
              "#fdca26"
             ],
             [
              1,
              "#f0f921"
             ]
            ],
            "type": "contour"
           }
          ],
          "contourcarpet": [
           {
            "colorbar": {
             "outlinewidth": 0,
             "ticks": ""
            },
            "type": "contourcarpet"
           }
          ],
          "heatmap": [
           {
            "colorbar": {
             "outlinewidth": 0,
             "ticks": ""
            },
            "colorscale": [
             [
              0,
              "#0d0887"
             ],
             [
              0.1111111111111111,
              "#46039f"
             ],
             [
              0.2222222222222222,
              "#7201a8"
             ],
             [
              0.3333333333333333,
              "#9c179e"
             ],
             [
              0.4444444444444444,
              "#bd3786"
             ],
             [
              0.5555555555555556,
              "#d8576b"
             ],
             [
              0.6666666666666666,
              "#ed7953"
             ],
             [
              0.7777777777777778,
              "#fb9f3a"
             ],
             [
              0.8888888888888888,
              "#fdca26"
             ],
             [
              1,
              "#f0f921"
             ]
            ],
            "type": "heatmap"
           }
          ],
          "heatmapgl": [
           {
            "colorbar": {
             "outlinewidth": 0,
             "ticks": ""
            },
            "colorscale": [
             [
              0,
              "#0d0887"
             ],
             [
              0.1111111111111111,
              "#46039f"
             ],
             [
              0.2222222222222222,
              "#7201a8"
             ],
             [
              0.3333333333333333,
              "#9c179e"
             ],
             [
              0.4444444444444444,
              "#bd3786"
             ],
             [
              0.5555555555555556,
              "#d8576b"
             ],
             [
              0.6666666666666666,
              "#ed7953"
             ],
             [
              0.7777777777777778,
              "#fb9f3a"
             ],
             [
              0.8888888888888888,
              "#fdca26"
             ],
             [
              1,
              "#f0f921"
             ]
            ],
            "type": "heatmapgl"
           }
          ],
          "histogram": [
           {
            "marker": {
             "pattern": {
              "fillmode": "overlay",
              "size": 10,
              "solidity": 0.2
             }
            },
            "type": "histogram"
           }
          ],
          "histogram2d": [
           {
            "colorbar": {
             "outlinewidth": 0,
             "ticks": ""
            },
            "colorscale": [
             [
              0,
              "#0d0887"
             ],
             [
              0.1111111111111111,
              "#46039f"
             ],
             [
              0.2222222222222222,
              "#7201a8"
             ],
             [
              0.3333333333333333,
              "#9c179e"
             ],
             [
              0.4444444444444444,
              "#bd3786"
             ],
             [
              0.5555555555555556,
              "#d8576b"
             ],
             [
              0.6666666666666666,
              "#ed7953"
             ],
             [
              0.7777777777777778,
              "#fb9f3a"
             ],
             [
              0.8888888888888888,
              "#fdca26"
             ],
             [
              1,
              "#f0f921"
             ]
            ],
            "type": "histogram2d"
           }
          ],
          "histogram2dcontour": [
           {
            "colorbar": {
             "outlinewidth": 0,
             "ticks": ""
            },
            "colorscale": [
             [
              0,
              "#0d0887"
             ],
             [
              0.1111111111111111,
              "#46039f"
             ],
             [
              0.2222222222222222,
              "#7201a8"
             ],
             [
              0.3333333333333333,
              "#9c179e"
             ],
             [
              0.4444444444444444,
              "#bd3786"
             ],
             [
              0.5555555555555556,
              "#d8576b"
             ],
             [
              0.6666666666666666,
              "#ed7953"
             ],
             [
              0.7777777777777778,
              "#fb9f3a"
             ],
             [
              0.8888888888888888,
              "#fdca26"
             ],
             [
              1,
              "#f0f921"
             ]
            ],
            "type": "histogram2dcontour"
           }
          ],
          "mesh3d": [
           {
            "colorbar": {
             "outlinewidth": 0,
             "ticks": ""
            },
            "type": "mesh3d"
           }
          ],
          "parcoords": [
           {
            "line": {
             "colorbar": {
              "outlinewidth": 0,
              "ticks": ""
             }
            },
            "type": "parcoords"
           }
          ],
          "pie": [
           {
            "automargin": true,
            "type": "pie"
           }
          ],
          "scatter": [
           {
            "fillpattern": {
             "fillmode": "overlay",
             "size": 10,
             "solidity": 0.2
            },
            "type": "scatter"
           }
          ],
          "scatter3d": [
           {
            "line": {
             "colorbar": {
              "outlinewidth": 0,
              "ticks": ""
             }
            },
            "marker": {
             "colorbar": {
              "outlinewidth": 0,
              "ticks": ""
             }
            },
            "type": "scatter3d"
           }
          ],
          "scattercarpet": [
           {
            "marker": {
             "colorbar": {
              "outlinewidth": 0,
              "ticks": ""
             }
            },
            "type": "scattercarpet"
           }
          ],
          "scattergeo": [
           {
            "marker": {
             "colorbar": {
              "outlinewidth": 0,
              "ticks": ""
             }
            },
            "type": "scattergeo"
           }
          ],
          "scattergl": [
           {
            "marker": {
             "colorbar": {
              "outlinewidth": 0,
              "ticks": ""
             }
            },
            "type": "scattergl"
           }
          ],
          "scattermapbox": [
           {
            "marker": {
             "colorbar": {
              "outlinewidth": 0,
              "ticks": ""
             }
            },
            "type": "scattermapbox"
           }
          ],
          "scatterpolar": [
           {
            "marker": {
             "colorbar": {
              "outlinewidth": 0,
              "ticks": ""
             }
            },
            "type": "scatterpolar"
           }
          ],
          "scatterpolargl": [
           {
            "marker": {
             "colorbar": {
              "outlinewidth": 0,
              "ticks": ""
             }
            },
            "type": "scatterpolargl"
           }
          ],
          "scatterternary": [
           {
            "marker": {
             "colorbar": {
              "outlinewidth": 0,
              "ticks": ""
             }
            },
            "type": "scatterternary"
           }
          ],
          "surface": [
           {
            "colorbar": {
             "outlinewidth": 0,
             "ticks": ""
            },
            "colorscale": [
             [
              0,
              "#0d0887"
             ],
             [
              0.1111111111111111,
              "#46039f"
             ],
             [
              0.2222222222222222,
              "#7201a8"
             ],
             [
              0.3333333333333333,
              "#9c179e"
             ],
             [
              0.4444444444444444,
              "#bd3786"
             ],
             [
              0.5555555555555556,
              "#d8576b"
             ],
             [
              0.6666666666666666,
              "#ed7953"
             ],
             [
              0.7777777777777778,
              "#fb9f3a"
             ],
             [
              0.8888888888888888,
              "#fdca26"
             ],
             [
              1,
              "#f0f921"
             ]
            ],
            "type": "surface"
           }
          ],
          "table": [
           {
            "cells": {
             "fill": {
              "color": "#EBF0F8"
             },
             "line": {
              "color": "white"
             }
            },
            "header": {
             "fill": {
              "color": "#C8D4E3"
             },
             "line": {
              "color": "white"
             }
            },
            "type": "table"
           }
          ]
         },
         "layout": {
          "annotationdefaults": {
           "arrowcolor": "#2a3f5f",
           "arrowhead": 0,
           "arrowwidth": 1
          },
          "autotypenumbers": "strict",
          "coloraxis": {
           "colorbar": {
            "outlinewidth": 0,
            "ticks": ""
           }
          },
          "colorscale": {
           "diverging": [
            [
             0,
             "#8e0152"
            ],
            [
             0.1,
             "#c51b7d"
            ],
            [
             0.2,
             "#de77ae"
            ],
            [
             0.3,
             "#f1b6da"
            ],
            [
             0.4,
             "#fde0ef"
            ],
            [
             0.5,
             "#f7f7f7"
            ],
            [
             0.6,
             "#e6f5d0"
            ],
            [
             0.7,
             "#b8e186"
            ],
            [
             0.8,
             "#7fbc41"
            ],
            [
             0.9,
             "#4d9221"
            ],
            [
             1,
             "#276419"
            ]
           ],
           "sequential": [
            [
             0,
             "#0d0887"
            ],
            [
             0.1111111111111111,
             "#46039f"
            ],
            [
             0.2222222222222222,
             "#7201a8"
            ],
            [
             0.3333333333333333,
             "#9c179e"
            ],
            [
             0.4444444444444444,
             "#bd3786"
            ],
            [
             0.5555555555555556,
             "#d8576b"
            ],
            [
             0.6666666666666666,
             "#ed7953"
            ],
            [
             0.7777777777777778,
             "#fb9f3a"
            ],
            [
             0.8888888888888888,
             "#fdca26"
            ],
            [
             1,
             "#f0f921"
            ]
           ],
           "sequentialminus": [
            [
             0,
             "#0d0887"
            ],
            [
             0.1111111111111111,
             "#46039f"
            ],
            [
             0.2222222222222222,
             "#7201a8"
            ],
            [
             0.3333333333333333,
             "#9c179e"
            ],
            [
             0.4444444444444444,
             "#bd3786"
            ],
            [
             0.5555555555555556,
             "#d8576b"
            ],
            [
             0.6666666666666666,
             "#ed7953"
            ],
            [
             0.7777777777777778,
             "#fb9f3a"
            ],
            [
             0.8888888888888888,
             "#fdca26"
            ],
            [
             1,
             "#f0f921"
            ]
           ]
          },
          "colorway": [
           "#636efa",
           "#EF553B",
           "#00cc96",
           "#ab63fa",
           "#FFA15A",
           "#19d3f3",
           "#FF6692",
           "#B6E880",
           "#FF97FF",
           "#FECB52"
          ],
          "font": {
           "color": "#2a3f5f"
          },
          "geo": {
           "bgcolor": "white",
           "lakecolor": "white",
           "landcolor": "#E5ECF6",
           "showlakes": true,
           "showland": true,
           "subunitcolor": "white"
          },
          "hoverlabel": {
           "align": "left"
          },
          "hovermode": "closest",
          "mapbox": {
           "style": "light"
          },
          "paper_bgcolor": "white",
          "plot_bgcolor": "#E5ECF6",
          "polar": {
           "angularaxis": {
            "gridcolor": "white",
            "linecolor": "white",
            "ticks": ""
           },
           "bgcolor": "#E5ECF6",
           "radialaxis": {
            "gridcolor": "white",
            "linecolor": "white",
            "ticks": ""
           }
          },
          "scene": {
           "xaxis": {
            "backgroundcolor": "#E5ECF6",
            "gridcolor": "white",
            "gridwidth": 2,
            "linecolor": "white",
            "showbackground": true,
            "ticks": "",
            "zerolinecolor": "white"
           },
           "yaxis": {
            "backgroundcolor": "#E5ECF6",
            "gridcolor": "white",
            "gridwidth": 2,
            "linecolor": "white",
            "showbackground": true,
            "ticks": "",
            "zerolinecolor": "white"
           },
           "zaxis": {
            "backgroundcolor": "#E5ECF6",
            "gridcolor": "white",
            "gridwidth": 2,
            "linecolor": "white",
            "showbackground": true,
            "ticks": "",
            "zerolinecolor": "white"
           }
          },
          "shapedefaults": {
           "line": {
            "color": "#2a3f5f"
           }
          },
          "ternary": {
           "aaxis": {
            "gridcolor": "white",
            "linecolor": "white",
            "ticks": ""
           },
           "baxis": {
            "gridcolor": "white",
            "linecolor": "white",
            "ticks": ""
           },
           "bgcolor": "#E5ECF6",
           "caxis": {
            "gridcolor": "white",
            "linecolor": "white",
            "ticks": ""
           }
          },
          "title": {
           "x": 0.05
          },
          "xaxis": {
           "automargin": true,
           "gridcolor": "white",
           "linecolor": "white",
           "ticks": "",
           "title": {
            "standoff": 15
           },
           "zerolinecolor": "white",
           "zerolinewidth": 2
          },
          "yaxis": {
           "automargin": true,
           "gridcolor": "white",
           "linecolor": "white",
           "ticks": "",
           "title": {
            "standoff": 15
           },
           "zerolinecolor": "white",
           "zerolinewidth": 2
          }
         }
        },
        "title": {
         "text": "Grotrian Diagram for Helium I",
         "x": 0.5
        },
        "width": 700,
        "xaxis": {
         "anchor": "y",
         "automargin": true,
         "domain": [
          0,
          0.57
         ],
         "fixedrange": true,
         "showgrid": false,
         "showticklabels": false
        },
        "xaxis2": {
         "anchor": "y2",
         "domain": [
          0.62,
          1
         ],
         "fixedrange": true,
         "showticklabels": false
        },
        "yaxis": {
         "anchor": "x",
         "domain": [
          0,
          1
         ],
         "fixedrange": true,
         "range": [
          0,
          null
         ],
         "showgrid": false,
         "tickmode": "array",
         "ticktext": [
          "0.00e+00",
          "1.98e+01",
          "2.06e+01",
          "2.10e+01",
          "2.12e+01",
          "2.29e+01"
         ],
         "tickvals": [
          0,
          0.1,
          0.37153731841925675,
          0.48706572793014913,
          0.5700611958941406,
          1.1
         ],
         "title": {
          "text": "Energy (eV)"
         }
        },
        "yaxis2": {
         "anchor": "x2",
         "domain": [
          0,
          1
         ],
         "fixedrange": true,
         "showticklabels": false
        }
       }
      },
      "text/html": [
       "<div>                            <div id=\"1837b412-32c8-47e6-aa1c-757fc47dfaee\" class=\"plotly-graph-div\" style=\"height:700px; width:700px;\"></div>            <script type=\"text/javascript\">                require([\"plotly\"], function(Plotly) {                    window.PLOTLYENV=window.PLOTLYENV || {};                                    if (document.getElementById(\"1837b412-32c8-47e6-aa1c-757fc47dfaee\")) {                    Plotly.newPlot(                        \"1837b412-32c8-47e6-aa1c-757fc47dfaee\",                        [{\"hovertemplate\":\"Energy: 0.00e+00 eV<br>Population: 0.00e+00<extra></extra>\",\"line\":{\"color\":\"grey\",\"dash\":\"dash\"},\"mode\":\"lines\",\"showlegend\":false,\"x\":[-0.05,0.07222222222222223,0.19444444444444448,0.3166666666666667,0.43888888888888894,0.5611111111111111,0.6833333333333333,0.8055555555555556,0.9277777777777778,1.05],\"y\":[0.0,0.0,0.0,0.0,0.0,0.0,0.0,0.0,0.0,0.0],\"type\":\"scatter\",\"xaxis\":\"x\",\"yaxis\":\"y\"},{\"hovertemplate\":\"Energy: 1.98e+01 eV<br>Population: 1.96e-01<extra></extra>\",\"line\":{\"color\":\"black\",\"width\":4.0},\"mode\":\"lines\",\"showlegend\":false,\"x\":[-0.05,0.07222222222222223,0.19444444444444448,0.3166666666666667,0.43888888888888894,0.5611111111111111,0.6833333333333333,0.8055555555555556,0.9277777777777778,1.05],\"y\":[0.1,0.1,0.1,0.1,0.1,0.1,0.1,0.1,0.1,0.1],\"type\":\"scatter\",\"xaxis\":\"x\",\"yaxis\":\"y\"},{\"hovertemplate\":\"Energy: 2.06e+01 eV<br>Population: 2.89e-02<extra></extra>\",\"line\":{\"color\":\"black\",\"width\":1.0},\"mode\":\"lines\",\"showlegend\":false,\"x\":[-0.05,0.07222222222222223,0.19444444444444448,0.3166666666666667,0.43888888888888894,0.5611111111111111,0.6833333333333333,0.8055555555555556,0.9277777777777778,1.05],\"y\":[0.37153731841925675,0.37153731841925675,0.37153731841925675,0.37153731841925675,0.37153731841925675,0.37153731841925675,0.37153731841925675,0.37153731841925675,0.37153731841925675,0.37153731841925675],\"type\":\"scatter\",\"xaxis\":\"x\",\"yaxis\":\"y\"},{\"hovertemplate\":\"Energy: 2.10e+01 eV<br>Population: 1.82e-01<extra></extra>\",\"line\":{\"color\":\"black\",\"width\":3.886147641627425},\"mode\":\"lines\",\"showlegend\":false,\"x\":[-0.05,0.07222222222222223,0.19444444444444448,0.3166666666666667,0.43888888888888894,0.5611111111111111,0.6833333333333333,0.8055555555555556,0.9277777777777778,1.05],\"y\":[0.48706572793014913,0.48706572793014913,0.48706572793014913,0.48706572793014913,0.48706572793014913,0.48706572793014913,0.48706572793014913,0.48706572793014913,0.48706572793014913,0.48706572793014913],\"type\":\"scatter\",\"xaxis\":\"x\",\"yaxis\":\"y\"},{\"hovertemplate\":\"Energy: 2.12e+01 eV<br>Population: 4.68e-02<extra></extra>\",\"line\":{\"color\":\"black\",\"width\":1.7562902008221155},\"mode\":\"lines\",\"showlegend\":false,\"x\":[-0.05,0.07222222222222223,0.19444444444444448,0.3166666666666667,0.43888888888888894,0.5611111111111111,0.6833333333333333,0.8055555555555556,0.9277777777777778,1.05],\"y\":[0.5700611958941406,0.5700611958941406,0.5700611958941406,0.5700611958941406,0.5700611958941406,0.5700611958941406,0.5700611958941406,0.5700611958941406,0.5700611958941406,0.5700611958941406],\"type\":\"scatter\",\"xaxis\":\"x\",\"yaxis\":\"y\"},{\"hovertemplate\":\"Energy: 2.29e+01 eV<br>Population: 3.28e-02<extra></extra>\",\"line\":{\"color\":\"black\",\"width\":1.2005525985385797},\"mode\":\"lines\",\"showlegend\":false,\"x\":[-0.05,0.07222222222222223,0.19444444444444448,0.3166666666666667,0.43888888888888894,0.5611111111111111,0.6833333333333333,0.8055555555555556,0.9277777777777778,1.05],\"y\":[1.1,1.1,1.1,1.1,1.1,1.1,1.1,1.1,1.1,1.1],\"type\":\"scatter\",\"xaxis\":\"x\",\"yaxis\":\"y\"},{\"hovertemplate\":\"Count: 360<br>Wavelength: 1.08e+04 \\u212b<extra></extra>\",\"line\":{\"color\":\"#ff0000\",\"width\":2.855668122606413},\"marker\":{\"angleref\":\"previous\",\"color\":\"#ff0000\",\"size\":9,\"symbol\":\"arrow-bar-up\"},\"x\":[0,0.369961408666242],\"y\":[0.1,0.48706572793014913],\"type\":\"scatter\",\"xaxis\":\"x\",\"yaxis\":\"y\"},{\"hovertemplate\":\"Count: 38<br>Wavelength: 3.89e+03 \\u212b<extra></extra>\",\"line\":{\"color\":\"#cce385\",\"width\":1.8365787728316847},\"marker\":{\"angleref\":\"previous\",\"color\":\"#cce385\",\"size\":9,\"symbol\":\"arrow-bar-up\"},\"x\":[0,1.0],\"y\":[0.1,1.1],\"type\":\"scatter\",\"xaxis\":\"x\",\"yaxis\":\"y\"},{\"hovertemplate\":\"Count: 23<br>Wavelength: 7.07e+03 \\u212b<extra></extra>\",\"line\":{\"color\":\"#ff703a\",\"width\":1.6090170714255976},\"marker\":{\"angleref\":\"previous\",\"color\":\"#ff703a\",\"size\":9,\"symbol\":\"arrow-bar-up\"},\"x\":[0,1.0],\"y\":[0.48706572793014913,1.1],\"type\":\"scatter\",\"xaxis\":\"x\",\"yaxis\":\"y\"},{\"hovertemplate\":\"Count: 6<br>Wavelength: 5.84e+02 \\u212b<extra></extra>\",\"line\":{\"color\":\"#8000ff\",\"width\":1.0},\"marker\":{\"angleref\":\"previous\",\"color\":\"#8000ff\",\"size\":9,\"symbol\":\"arrow-bar-up\"},\"x\":[0,0.9260161397738454],\"y\":[0.5700611958941406,0.0],\"type\":\"scatter\",\"xaxis\":\"x\",\"yaxis\":\"y\"},{\"hovertemplate\":\"Count: 495<br>Wavelength: 1.08e+04 \\u212b<extra></extra>\",\"line\":{\"color\":\"#ff0000\",\"width\":3.0},\"marker\":{\"angleref\":\"previous\",\"color\":\"#ff0000\",\"size\":9,\"symbol\":\"arrow-bar-up\"},\"x\":[0,0.369961408666242],\"y\":[0.48706572793014913,0.1],\"type\":\"scatter\",\"xaxis\":\"x\",\"yaxis\":\"y\"},{\"hovertemplate\":\"Count: 42<br>Wavelength: 3.89e+03 \\u212b<extra></extra>\",\"line\":{\"color\":\"#cce385\",\"width\":1.881939313651336},\"marker\":{\"angleref\":\"previous\",\"color\":\"#cce385\",\"size\":9,\"symbol\":\"arrow-bar-up\"},\"x\":[0,1.0],\"y\":[1.1,0.1],\"type\":\"scatter\",\"xaxis\":\"x\",\"yaxis\":\"y\"},{\"hovertemplate\":\"Count: 38<br>Wavelength: 7.07e+03 \\u212b<extra></extra>\",\"line\":{\"color\":\"#ff703a\",\"width\":1.8365787728316847},\"marker\":{\"angleref\":\"previous\",\"color\":\"#ff703a\",\"size\":9,\"symbol\":\"arrow-bar-up\"},\"x\":[0,1.0],\"y\":[1.1,0.48706572793014913],\"type\":\"scatter\",\"xaxis\":\"x\",\"yaxis\":\"y\"},{\"hoverinfo\":\"none\",\"marker\":{\"cmax\":4.03474315724351,\"cmin\":2.7666619000902264,\"colorbar\":{\"outlinewidth\":0,\"thickness\":5,\"ticktext\":[\"5.8e+02\",\"8.1e+02\",\"1.1e+03\",\"1.5e+03\",\"2.1e+03\",\"3.0e+03\",\"4.1e+03\",\"5.7e+03\",\"7.8e+03\",\"1.1e+04\"],\"tickvals\":[2.7666619000902264,2.9075598175517023,3.0484577350131783,3.1893556524746542,3.33025356993613,3.4711514873976066,3.6120494048590825,3.7529473223205585,3.8938452397820345,4.03474315724351],\"title\":{\"font\":{\"size\":12},\"text\":\"Wavelength (\\u212b)\"}},\"colorscale\":[[0.0,\"rgb(150,0,90)\"],[0.125,\"rgb(0,0,200)\"],[0.25,\"rgb(0,25,255)\"],[0.375,\"rgb(0,152,255)\"],[0.5,\"rgb(44,255,150)\"],[0.625,\"rgb(151,255,0)\"],[0.75,\"rgb(255,234,0)\"],[0.875,\"rgb(255,111,0)\"],[1.0,\"rgb(255,0,0)\"]],\"showscale\":true},\"mode\":\"markers\",\"x\":[null],\"y\":[null],\"type\":\"scatter\",\"xaxis\":\"x2\",\"yaxis\":\"y2\"}],                        {\"template\":{\"data\":{\"histogram2dcontour\":[{\"type\":\"histogram2dcontour\",\"colorbar\":{\"outlinewidth\":0,\"ticks\":\"\"},\"colorscale\":[[0.0,\"#0d0887\"],[0.1111111111111111,\"#46039f\"],[0.2222222222222222,\"#7201a8\"],[0.3333333333333333,\"#9c179e\"],[0.4444444444444444,\"#bd3786\"],[0.5555555555555556,\"#d8576b\"],[0.6666666666666666,\"#ed7953\"],[0.7777777777777778,\"#fb9f3a\"],[0.8888888888888888,\"#fdca26\"],[1.0,\"#f0f921\"]]}],\"choropleth\":[{\"type\":\"choropleth\",\"colorbar\":{\"outlinewidth\":0,\"ticks\":\"\"}}],\"histogram2d\":[{\"type\":\"histogram2d\",\"colorbar\":{\"outlinewidth\":0,\"ticks\":\"\"},\"colorscale\":[[0.0,\"#0d0887\"],[0.1111111111111111,\"#46039f\"],[0.2222222222222222,\"#7201a8\"],[0.3333333333333333,\"#9c179e\"],[0.4444444444444444,\"#bd3786\"],[0.5555555555555556,\"#d8576b\"],[0.6666666666666666,\"#ed7953\"],[0.7777777777777778,\"#fb9f3a\"],[0.8888888888888888,\"#fdca26\"],[1.0,\"#f0f921\"]]}],\"heatmap\":[{\"type\":\"heatmap\",\"colorbar\":{\"outlinewidth\":0,\"ticks\":\"\"},\"colorscale\":[[0.0,\"#0d0887\"],[0.1111111111111111,\"#46039f\"],[0.2222222222222222,\"#7201a8\"],[0.3333333333333333,\"#9c179e\"],[0.4444444444444444,\"#bd3786\"],[0.5555555555555556,\"#d8576b\"],[0.6666666666666666,\"#ed7953\"],[0.7777777777777778,\"#fb9f3a\"],[0.8888888888888888,\"#fdca26\"],[1.0,\"#f0f921\"]]}],\"heatmapgl\":[{\"type\":\"heatmapgl\",\"colorbar\":{\"outlinewidth\":0,\"ticks\":\"\"},\"colorscale\":[[0.0,\"#0d0887\"],[0.1111111111111111,\"#46039f\"],[0.2222222222222222,\"#7201a8\"],[0.3333333333333333,\"#9c179e\"],[0.4444444444444444,\"#bd3786\"],[0.5555555555555556,\"#d8576b\"],[0.6666666666666666,\"#ed7953\"],[0.7777777777777778,\"#fb9f3a\"],[0.8888888888888888,\"#fdca26\"],[1.0,\"#f0f921\"]]}],\"contourcarpet\":[{\"type\":\"contourcarpet\",\"colorbar\":{\"outlinewidth\":0,\"ticks\":\"\"}}],\"contour\":[{\"type\":\"contour\",\"colorbar\":{\"outlinewidth\":0,\"ticks\":\"\"},\"colorscale\":[[0.0,\"#0d0887\"],[0.1111111111111111,\"#46039f\"],[0.2222222222222222,\"#7201a8\"],[0.3333333333333333,\"#9c179e\"],[0.4444444444444444,\"#bd3786\"],[0.5555555555555556,\"#d8576b\"],[0.6666666666666666,\"#ed7953\"],[0.7777777777777778,\"#fb9f3a\"],[0.8888888888888888,\"#fdca26\"],[1.0,\"#f0f921\"]]}],\"surface\":[{\"type\":\"surface\",\"colorbar\":{\"outlinewidth\":0,\"ticks\":\"\"},\"colorscale\":[[0.0,\"#0d0887\"],[0.1111111111111111,\"#46039f\"],[0.2222222222222222,\"#7201a8\"],[0.3333333333333333,\"#9c179e\"],[0.4444444444444444,\"#bd3786\"],[0.5555555555555556,\"#d8576b\"],[0.6666666666666666,\"#ed7953\"],[0.7777777777777778,\"#fb9f3a\"],[0.8888888888888888,\"#fdca26\"],[1.0,\"#f0f921\"]]}],\"mesh3d\":[{\"type\":\"mesh3d\",\"colorbar\":{\"outlinewidth\":0,\"ticks\":\"\"}}],\"scatter\":[{\"fillpattern\":{\"fillmode\":\"overlay\",\"size\":10,\"solidity\":0.2},\"type\":\"scatter\"}],\"parcoords\":[{\"type\":\"parcoords\",\"line\":{\"colorbar\":{\"outlinewidth\":0,\"ticks\":\"\"}}}],\"scatterpolargl\":[{\"type\":\"scatterpolargl\",\"marker\":{\"colorbar\":{\"outlinewidth\":0,\"ticks\":\"\"}}}],\"bar\":[{\"error_x\":{\"color\":\"#2a3f5f\"},\"error_y\":{\"color\":\"#2a3f5f\"},\"marker\":{\"line\":{\"color\":\"#E5ECF6\",\"width\":0.5},\"pattern\":{\"fillmode\":\"overlay\",\"size\":10,\"solidity\":0.2}},\"type\":\"bar\"}],\"scattergeo\":[{\"type\":\"scattergeo\",\"marker\":{\"colorbar\":{\"outlinewidth\":0,\"ticks\":\"\"}}}],\"scatterpolar\":[{\"type\":\"scatterpolar\",\"marker\":{\"colorbar\":{\"outlinewidth\":0,\"ticks\":\"\"}}}],\"histogram\":[{\"marker\":{\"pattern\":{\"fillmode\":\"overlay\",\"size\":10,\"solidity\":0.2}},\"type\":\"histogram\"}],\"scattergl\":[{\"type\":\"scattergl\",\"marker\":{\"colorbar\":{\"outlinewidth\":0,\"ticks\":\"\"}}}],\"scatter3d\":[{\"type\":\"scatter3d\",\"line\":{\"colorbar\":{\"outlinewidth\":0,\"ticks\":\"\"}},\"marker\":{\"colorbar\":{\"outlinewidth\":0,\"ticks\":\"\"}}}],\"scattermapbox\":[{\"type\":\"scattermapbox\",\"marker\":{\"colorbar\":{\"outlinewidth\":0,\"ticks\":\"\"}}}],\"scatterternary\":[{\"type\":\"scatterternary\",\"marker\":{\"colorbar\":{\"outlinewidth\":0,\"ticks\":\"\"}}}],\"scattercarpet\":[{\"type\":\"scattercarpet\",\"marker\":{\"colorbar\":{\"outlinewidth\":0,\"ticks\":\"\"}}}],\"carpet\":[{\"aaxis\":{\"endlinecolor\":\"#2a3f5f\",\"gridcolor\":\"white\",\"linecolor\":\"white\",\"minorgridcolor\":\"white\",\"startlinecolor\":\"#2a3f5f\"},\"baxis\":{\"endlinecolor\":\"#2a3f5f\",\"gridcolor\":\"white\",\"linecolor\":\"white\",\"minorgridcolor\":\"white\",\"startlinecolor\":\"#2a3f5f\"},\"type\":\"carpet\"}],\"table\":[{\"cells\":{\"fill\":{\"color\":\"#EBF0F8\"},\"line\":{\"color\":\"white\"}},\"header\":{\"fill\":{\"color\":\"#C8D4E3\"},\"line\":{\"color\":\"white\"}},\"type\":\"table\"}],\"barpolar\":[{\"marker\":{\"line\":{\"color\":\"#E5ECF6\",\"width\":0.5},\"pattern\":{\"fillmode\":\"overlay\",\"size\":10,\"solidity\":0.2}},\"type\":\"barpolar\"}],\"pie\":[{\"automargin\":true,\"type\":\"pie\"}]},\"layout\":{\"autotypenumbers\":\"strict\",\"colorway\":[\"#636efa\",\"#EF553B\",\"#00cc96\",\"#ab63fa\",\"#FFA15A\",\"#19d3f3\",\"#FF6692\",\"#B6E880\",\"#FF97FF\",\"#FECB52\"],\"font\":{\"color\":\"#2a3f5f\"},\"hovermode\":\"closest\",\"hoverlabel\":{\"align\":\"left\"},\"paper_bgcolor\":\"white\",\"plot_bgcolor\":\"#E5ECF6\",\"polar\":{\"bgcolor\":\"#E5ECF6\",\"angularaxis\":{\"gridcolor\":\"white\",\"linecolor\":\"white\",\"ticks\":\"\"},\"radialaxis\":{\"gridcolor\":\"white\",\"linecolor\":\"white\",\"ticks\":\"\"}},\"ternary\":{\"bgcolor\":\"#E5ECF6\",\"aaxis\":{\"gridcolor\":\"white\",\"linecolor\":\"white\",\"ticks\":\"\"},\"baxis\":{\"gridcolor\":\"white\",\"linecolor\":\"white\",\"ticks\":\"\"},\"caxis\":{\"gridcolor\":\"white\",\"linecolor\":\"white\",\"ticks\":\"\"}},\"coloraxis\":{\"colorbar\":{\"outlinewidth\":0,\"ticks\":\"\"}},\"colorscale\":{\"sequential\":[[0.0,\"#0d0887\"],[0.1111111111111111,\"#46039f\"],[0.2222222222222222,\"#7201a8\"],[0.3333333333333333,\"#9c179e\"],[0.4444444444444444,\"#bd3786\"],[0.5555555555555556,\"#d8576b\"],[0.6666666666666666,\"#ed7953\"],[0.7777777777777778,\"#fb9f3a\"],[0.8888888888888888,\"#fdca26\"],[1.0,\"#f0f921\"]],\"sequentialminus\":[[0.0,\"#0d0887\"],[0.1111111111111111,\"#46039f\"],[0.2222222222222222,\"#7201a8\"],[0.3333333333333333,\"#9c179e\"],[0.4444444444444444,\"#bd3786\"],[0.5555555555555556,\"#d8576b\"],[0.6666666666666666,\"#ed7953\"],[0.7777777777777778,\"#fb9f3a\"],[0.8888888888888888,\"#fdca26\"],[1.0,\"#f0f921\"]],\"diverging\":[[0,\"#8e0152\"],[0.1,\"#c51b7d\"],[0.2,\"#de77ae\"],[0.3,\"#f1b6da\"],[0.4,\"#fde0ef\"],[0.5,\"#f7f7f7\"],[0.6,\"#e6f5d0\"],[0.7,\"#b8e186\"],[0.8,\"#7fbc41\"],[0.9,\"#4d9221\"],[1,\"#276419\"]]},\"xaxis\":{\"gridcolor\":\"white\",\"linecolor\":\"white\",\"ticks\":\"\",\"title\":{\"standoff\":15},\"zerolinecolor\":\"white\",\"automargin\":true,\"zerolinewidth\":2},\"yaxis\":{\"gridcolor\":\"white\",\"linecolor\":\"white\",\"ticks\":\"\",\"title\":{\"standoff\":15},\"zerolinecolor\":\"white\",\"automargin\":true,\"zerolinewidth\":2},\"scene\":{\"xaxis\":{\"backgroundcolor\":\"#E5ECF6\",\"gridcolor\":\"white\",\"linecolor\":\"white\",\"showbackground\":true,\"ticks\":\"\",\"zerolinecolor\":\"white\",\"gridwidth\":2},\"yaxis\":{\"backgroundcolor\":\"#E5ECF6\",\"gridcolor\":\"white\",\"linecolor\":\"white\",\"showbackground\":true,\"ticks\":\"\",\"zerolinecolor\":\"white\",\"gridwidth\":2},\"zaxis\":{\"backgroundcolor\":\"#E5ECF6\",\"gridcolor\":\"white\",\"linecolor\":\"white\",\"showbackground\":true,\"ticks\":\"\",\"zerolinecolor\":\"white\",\"gridwidth\":2}},\"shapedefaults\":{\"line\":{\"color\":\"#2a3f5f\"}},\"annotationdefaults\":{\"arrowcolor\":\"#2a3f5f\",\"arrowhead\":0,\"arrowwidth\":1},\"geo\":{\"bgcolor\":\"white\",\"landcolor\":\"#E5ECF6\",\"subunitcolor\":\"white\",\"showland\":true,\"showlakes\":true,\"lakecolor\":\"white\"},\"title\":{\"x\":0.05},\"mapbox\":{\"style\":\"light\"}}},\"xaxis\":{\"anchor\":\"y\",\"domain\":[0.0,0.57],\"showticklabels\":false,\"showgrid\":false,\"automargin\":true,\"fixedrange\":true},\"yaxis\":{\"anchor\":\"x\",\"domain\":[0.0,1.0],\"title\":{\"text\":\"Energy (eV)\"},\"showgrid\":false,\"range\":[0,null],\"tickmode\":\"array\",\"tickvals\":[0.0,0.1,0.37153731841925675,0.48706572793014913,0.5700611958941406,1.1],\"ticktext\":[\"0.00e+00\",\"1.98e+01\",\"2.06e+01\",\"2.10e+01\",\"2.12e+01\",\"2.29e+01\"],\"fixedrange\":true},\"xaxis2\":{\"anchor\":\"y2\",\"domain\":[0.62,1.0],\"showticklabels\":false,\"fixedrange\":true},\"yaxis2\":{\"anchor\":\"x2\",\"domain\":[0.0,1.0],\"showticklabels\":false,\"fixedrange\":true},\"title\":{\"text\":\"Grotrian Diagram for Helium I\",\"x\":0.5},\"plot_bgcolor\":\"white\",\"autosize\":false,\"width\":700,\"height\":700,\"showlegend\":false,\"annotations\":[{\"showarrow\":false,\"text\":\"n=0\",\"x\":1.15,\"xref\":\"x\",\"y\":0.0},{\"showarrow\":false,\"text\":\"n=1\",\"x\":1.15,\"xref\":\"x\",\"y\":0.1},{\"showarrow\":false,\"text\":\"n=2\",\"x\":1.15,\"xref\":\"x\",\"y\":0.37153731841925675},{\"showarrow\":false,\"text\":\"n=3\",\"x\":1.15,\"xref\":\"x\",\"y\":0.48706572793014913},{\"showarrow\":false,\"text\":\"n=4\",\"x\":1.15,\"xref\":\"x\",\"y\":0.5700611958941406},{\"showarrow\":false,\"text\":\"n=5\",\"x\":1.15,\"xref\":\"x\",\"y\":1.1},{\"showarrow\":false,\"text\":\"2.9e-02\",\"x\":0.5,\"xref\":\"x2\",\"y\":0.0,\"yref\":\"y2\"},{\"showarrow\":false,\"text\":\"3.6e-02\",\"x\":0.5,\"xref\":\"x2\",\"y\":0.1111111111111111,\"yref\":\"y2\"},{\"showarrow\":false,\"text\":\"4.4e-02\",\"x\":0.5,\"xref\":\"x2\",\"y\":0.2222222222222222,\"yref\":\"y2\"},{\"showarrow\":false,\"text\":\"5.5e-02\",\"x\":0.5,\"xref\":\"x2\",\"y\":0.3333333333333333,\"yref\":\"y2\"},{\"showarrow\":false,\"text\":\"6.8e-02\",\"x\":0.5,\"xref\":\"x2\",\"y\":0.4444444444444444,\"yref\":\"y2\"},{\"showarrow\":false,\"text\":\"8.4e-02\",\"x\":0.5,\"xref\":\"x2\",\"y\":0.5555555555555556,\"yref\":\"y2\"},{\"showarrow\":false,\"text\":\"1.0e-01\",\"x\":0.5,\"xref\":\"x2\",\"y\":0.6666666666666666,\"yref\":\"y2\"},{\"showarrow\":false,\"text\":\"1.3e-01\",\"x\":0.5,\"xref\":\"x2\",\"y\":0.7777777777777777,\"yref\":\"y2\"},{\"showarrow\":false,\"text\":\"1.6e-01\",\"x\":0.5,\"xref\":\"x2\",\"y\":0.8888888888888888,\"yref\":\"y2\"},{\"showarrow\":false,\"text\":\"2.0e-01\",\"x\":0.5,\"xref\":\"x2\",\"y\":1.0,\"yref\":\"y2\"},{\"showarrow\":false,\"text\":\"Populations\",\"x\":0.4,\"xref\":\"x2\",\"y\":-0.05,\"yref\":\"y2\"},{\"showarrow\":false,\"text\":\"6.0e+00\",\"x\":1.15,\"xref\":\"x2\",\"y\":0.0,\"yref\":\"y2\"},{\"showarrow\":false,\"text\":\"9.8e+00\",\"x\":1.15,\"xref\":\"x2\",\"y\":0.1111111111111111,\"yref\":\"y2\"},{\"showarrow\":false,\"text\":\"1.6e+01\",\"x\":1.15,\"xref\":\"x2\",\"y\":0.2222222222222222,\"yref\":\"y2\"},{\"showarrow\":false,\"text\":\"2.6e+01\",\"x\":1.15,\"xref\":\"x2\",\"y\":0.3333333333333333,\"yref\":\"y2\"},{\"showarrow\":false,\"text\":\"4.3e+01\",\"x\":1.15,\"xref\":\"x2\",\"y\":0.4444444444444444,\"yref\":\"y2\"},{\"showarrow\":false,\"text\":\"7.0e+01\",\"x\":1.15,\"xref\":\"x2\",\"y\":0.5555555555555556,\"yref\":\"y2\"},{\"showarrow\":false,\"text\":\"1.1e+02\",\"x\":1.15,\"xref\":\"x2\",\"y\":0.6666666666666666,\"yref\":\"y2\"},{\"showarrow\":false,\"text\":\"1.9e+02\",\"x\":1.15,\"xref\":\"x2\",\"y\":0.7777777777777777,\"yref\":\"y2\"},{\"showarrow\":false,\"text\":\"3.0e+02\",\"x\":1.15,\"xref\":\"x2\",\"y\":0.8888888888888888,\"yref\":\"y2\"},{\"showarrow\":false,\"text\":\"5.0e+02\",\"x\":1.15,\"xref\":\"x2\",\"y\":1.0,\"yref\":\"y2\"},{\"showarrow\":false,\"text\":\"#Packets\",\"x\":0.95,\"xref\":\"x2\",\"y\":-0.05,\"yref\":\"y2\"}],\"shapes\":[{\"line\":{\"width\":1.0},\"type\":\"line\",\"x0\":0.1,\"x1\":0.3,\"xref\":\"x2\",\"y0\":0.0,\"y1\":0.0,\"yref\":\"y2\"},{\"line\":{\"width\":1.3333333333333333},\"type\":\"line\",\"x0\":0.1,\"x1\":0.3,\"xref\":\"x2\",\"y0\":0.1111111111111111,\"y1\":0.1111111111111111,\"yref\":\"y2\"},{\"line\":{\"width\":1.6666666666666665},\"type\":\"line\",\"x0\":0.1,\"x1\":0.3,\"xref\":\"x2\",\"y0\":0.2222222222222222,\"y1\":0.2222222222222222,\"yref\":\"y2\"},{\"line\":{\"width\":2.0},\"type\":\"line\",\"x0\":0.1,\"x1\":0.3,\"xref\":\"x2\",\"y0\":0.3333333333333333,\"y1\":0.3333333333333333,\"yref\":\"y2\"},{\"line\":{\"width\":2.333333333333333},\"type\":\"line\",\"x0\":0.1,\"x1\":0.3,\"xref\":\"x2\",\"y0\":0.4444444444444444,\"y1\":0.4444444444444444,\"yref\":\"y2\"},{\"line\":{\"width\":2.6666666666666665},\"type\":\"line\",\"x0\":0.1,\"x1\":0.3,\"xref\":\"x2\",\"y0\":0.5555555555555556,\"y1\":0.5555555555555556,\"yref\":\"y2\"},{\"line\":{\"width\":3.0},\"type\":\"line\",\"x0\":0.1,\"x1\":0.3,\"xref\":\"x2\",\"y0\":0.6666666666666666,\"y1\":0.6666666666666666,\"yref\":\"y2\"},{\"line\":{\"width\":3.333333333333333},\"type\":\"line\",\"x0\":0.1,\"x1\":0.3,\"xref\":\"x2\",\"y0\":0.7777777777777777,\"y1\":0.7777777777777777,\"yref\":\"y2\"},{\"line\":{\"width\":3.6666666666666665},\"type\":\"line\",\"x0\":0.1,\"x1\":0.3,\"xref\":\"x2\",\"y0\":0.8888888888888888,\"y1\":0.8888888888888888,\"yref\":\"y2\"},{\"line\":{\"width\":4.0},\"type\":\"line\",\"x0\":0.1,\"x1\":0.3,\"xref\":\"x2\",\"y0\":1.0,\"y1\":1.0,\"yref\":\"y2\"},{\"line\":{\"color\":\"grey\",\"dash\":\"dash\",\"width\":0.5},\"type\":\"line\",\"x0\":0.7,\"x1\":0.7,\"xref\":\"x2\",\"y0\":0,\"y1\":1,\"yref\":\"y2\"},{\"line\":{\"width\":1.0},\"type\":\"line\",\"x0\":0.75,\"x1\":0.95,\"xref\":\"x2\",\"y0\":0.0,\"y1\":0.0,\"yref\":\"y2\"},{\"line\":{\"width\":1.2222222222222223},\"type\":\"line\",\"x0\":0.75,\"x1\":0.95,\"xref\":\"x2\",\"y0\":0.1111111111111111,\"y1\":0.1111111111111111,\"yref\":\"y2\"},{\"line\":{\"width\":1.4444444444444444},\"type\":\"line\",\"x0\":0.75,\"x1\":0.95,\"xref\":\"x2\",\"y0\":0.2222222222222222,\"y1\":0.2222222222222222,\"yref\":\"y2\"},{\"line\":{\"width\":1.6666666666666665},\"type\":\"line\",\"x0\":0.75,\"x1\":0.95,\"xref\":\"x2\",\"y0\":0.3333333333333333,\"y1\":0.3333333333333333,\"yref\":\"y2\"},{\"line\":{\"width\":1.8888888888888888},\"type\":\"line\",\"x0\":0.75,\"x1\":0.95,\"xref\":\"x2\",\"y0\":0.4444444444444444,\"y1\":0.4444444444444444,\"yref\":\"y2\"},{\"line\":{\"width\":2.111111111111111},\"type\":\"line\",\"x0\":0.75,\"x1\":0.95,\"xref\":\"x2\",\"y0\":0.5555555555555556,\"y1\":0.5555555555555556,\"yref\":\"y2\"},{\"line\":{\"width\":2.333333333333333},\"type\":\"line\",\"x0\":0.75,\"x1\":0.95,\"xref\":\"x2\",\"y0\":0.6666666666666666,\"y1\":0.6666666666666666,\"yref\":\"y2\"},{\"line\":{\"width\":2.5555555555555554},\"type\":\"line\",\"x0\":0.75,\"x1\":0.95,\"xref\":\"x2\",\"y0\":0.7777777777777777,\"y1\":0.7777777777777777,\"yref\":\"y2\"},{\"line\":{\"width\":2.7777777777777777},\"type\":\"line\",\"x0\":0.75,\"x1\":0.95,\"xref\":\"x2\",\"y0\":0.8888888888888888,\"y1\":0.8888888888888888,\"yref\":\"y2\"},{\"line\":{\"width\":3.0},\"type\":\"line\",\"x0\":0.75,\"x1\":0.95,\"xref\":\"x2\",\"y0\":1.0,\"y1\":1.0,\"yref\":\"y2\"}]},                        {\"responsive\": true}                    ).then(function(){\n",
       "                            \n",
       "var gd = document.getElementById('1837b412-32c8-47e6-aa1c-757fc47dfaee');\n",
       "var x = new MutationObserver(function (mutations, observer) {{\n",
       "        var display = window.getComputedStyle(gd).display;\n",
       "        if (!display || display === 'none') {{\n",
       "            console.log([gd, 'removed!']);\n",
       "            Plotly.purge(gd);\n",
       "            observer.disconnect();\n",
       "        }}\n",
       "}});\n",
       "\n",
       "// Listen for the removal of the full notebook cells\n",
       "var notebookContainer = gd.closest('#notebook-container');\n",
       "if (notebookContainer) {{\n",
       "    x.observe(notebookContainer, {childList: true});\n",
       "}}\n",
       "\n",
       "// Listen for the clearing of the current output cell\n",
       "var outputEl = gd.closest('.output');\n",
       "if (outputEl) {{\n",
       "    x.observe(outputEl, {childList: true});\n",
       "}}\n",
       "\n",
       "                        })                };                });            </script>        </div>"
      ]
     },
     "metadata": {},
     "output_type": "display_data"
    }
   ],
   "source": [
    "diag = GrotrianWidget.from_simulation(sim)\n",
    "diag.set_ion(2, 0) # He I\n",
    "diag.display()"
   ]
  },
  {
   "cell_type": "code",
   "execution_count": 4,
   "metadata": {},
   "outputs": [
    {
     "data": {
      "application/vnd.plotly.v1+json": {
       "config": {
        "plotlyServerURL": "https://plot.ly"
       },
       "data": [
        {
         "hovertemplate": "Energy: 0.00e+00 eV<br>Population: 5.08e+01<extra></extra>",
         "line": {
          "color": "black",
          "width": 4
         },
         "mode": "lines",
         "showlegend": false,
         "type": "scatter",
         "x": [
          -0.05,
          0.07222222222222223,
          0.19444444444444448,
          0.3166666666666667,
          0.43888888888888894,
          0.5611111111111111,
          0.6833333333333333,
          0.8055555555555556,
          0.9277777777777778,
          1.05
         ],
         "xaxis": "x",
         "y": [
          0,
          0,
          0,
          0,
          0,
          0,
          0,
          0,
          0,
          0
         ],
         "yaxis": "y"
        },
        {
         "hovertemplate": "Energy: 2.39e-02 eV<br>Population: 3.97e+01<extra></extra>",
         "line": {
          "color": "black",
          "width": 3.9375334159550874
         },
         "mode": "lines",
         "showlegend": false,
         "type": "scatter",
         "x": [
          -0.05,
          0.07222222222222223,
          0.19444444444444448,
          0.3166666666666667,
          0.43888888888888894,
          0.5611111111111111,
          0.6833333333333333,
          0.8055555555555556,
          0.9277777777777778,
          1.05
         ],
         "xaxis": "x",
         "y": [
          0.1,
          0.1,
          0.1,
          0.1,
          0.1,
          0.1,
          0.1,
          0.1,
          0.1,
          0.1
         ],
         "yaxis": "y"
        },
        {
         "hovertemplate": "Energy: 1.97e+00 eV<br>Population: 6.73e+00<extra></extra>",
         "line": {
          "color": "black",
          "width": 3.486015495522017
         },
         "mode": "lines",
         "showlegend": false,
         "type": "scatter",
         "x": [
          -0.05,
          0.07222222222222223,
          0.19444444444444448,
          0.3166666666666667,
          0.43888888888888894,
          0.5611111111111111,
          0.6833333333333333,
          0.8055555555555556,
          0.9277777777777778,
          1.05
         ],
         "xaxis": "x",
         "y": [
          0.8194521672306785,
          0.8194521672306785,
          0.8194521672306785,
          0.8194521672306785,
          0.8194521672306785,
          0.8194521672306785,
          0.8194521672306785,
          0.8194521672306785,
          0.8194521672306785,
          0.8194521672306785
         ],
         "yaxis": "y"
        },
        {
         "hovertemplate": "Energy: 4.19e+00 eV<br>Population: 1.38e-01<extra></extra>",
         "line": {
          "color": "black",
          "width": 2.4959220870092604
         },
         "mode": "lines",
         "showlegend": false,
         "type": "scatter",
         "x": [
          -0.05,
          0.07222222222222223,
          0.19444444444444448,
          0.3166666666666667,
          0.43888888888888894,
          0.5611111111111111,
          0.6833333333333333,
          0.8055555555555556,
          0.9277777777777778,
          1.05
         ],
         "xaxis": "x",
         "y": [
          0.9427408528860437,
          0.9427408528860437,
          0.9427408528860437,
          0.9427408528860437,
          0.9427408528860437,
          0.9427408528860437,
          0.9427408528860437,
          0.9427408528860437,
          0.9427408528860437,
          0.9427408528860437
         ],
         "yaxis": "y"
        },
        {
         "hovertemplate": "Energy: 9.15e+00 eV<br>Population: 4.25e-03<extra></extra>",
         "line": {
          "color": "black",
          "width": 1.6111148128816264
         },
         "mode": "lines",
         "showlegend": false,
         "type": "scatter",
         "x": [
          -0.05,
          0.07222222222222223,
          0.19444444444444448,
          0.3166666666666667,
          0.43888888888888894,
          0.5611111111111111,
          0.6833333333333333,
          0.8055555555555556,
          0.9277777777777778,
          1.05
         ],
         "xaxis": "x",
         "y": [
          1.0700645769253279,
          1.0700645769253279,
          1.0700645769253279,
          1.0700645769253279,
          1.0700645769253279,
          1.0700645769253279,
          1.0700645769253279,
          1.0700645769253279,
          1.0700645769253279,
          1.0700645769253279
         ],
         "yaxis": "y"
        },
        {
         "hovertemplate": "Energy: 9.52e+00 eV<br>Population: 1.74e-03<extra></extra>",
         "line": {
          "color": "black",
          "width": 1.3831340651973458
         },
         "mode": "lines",
         "showlegend": false,
         "type": "scatter",
         "x": [
          -0.05,
          0.07222222222222223,
          0.19444444444444448,
          0.3166666666666667,
          0.43888888888888894,
          0.5611111111111111,
          0.6833333333333333,
          0.8055555555555556,
          0.9277777777777778,
          1.05
         ],
         "xaxis": "x",
         "y": [
          1.0766227522436824,
          1.0766227522436824,
          1.0766227522436824,
          1.0766227522436824,
          1.0766227522436824,
          1.0766227522436824,
          1.0766227522436824,
          1.0766227522436824,
          1.0766227522436824,
          1.0766227522436824
         ],
         "yaxis": "y"
        },
        {
         "hovertemplate": "Energy: 1.07e+01 eV<br>Population: 2.48e-03<extra></extra>",
         "line": {
          "color": "black",
          "width": 1.4743552469719585
         },
         "mode": "lines",
         "showlegend": false,
         "type": "scatter",
         "x": [
          -0.05,
          0.07222222222222223,
          0.19444444444444448,
          0.3166666666666667,
          0.43888888888888894,
          0.5611111111111111,
          0.6833333333333333,
          0.8055555555555556,
          0.9277777777777778,
          1.05
         ],
         "xaxis": "x",
         "y": [
          1.0962733262152715,
          1.0962733262152715,
          1.0962733262152715,
          1.0962733262152715,
          1.0962733262152715,
          1.0962733262152715,
          1.0962733262152715,
          1.0962733262152715,
          1.0962733262152715,
          1.0962733262152715
         ],
         "yaxis": "y"
        },
        {
         "hovertemplate": "Energy: 1.10e+01 eV<br>Population: 3.85e-04<extra></extra>",
         "line": {
          "color": "black",
          "width": 1
         },
         "mode": "lines",
         "showlegend": false,
         "type": "scatter",
         "x": [
          -0.05,
          0.07222222222222223,
          0.19444444444444448,
          0.3166666666666667,
          0.43888888888888894,
          0.5611111111111111,
          0.6833333333333333,
          0.8055555555555556,
          0.9277777777777778,
          1.05
         ],
         "xaxis": "x",
         "y": [
          1.1,
          1.1,
          1.1,
          1.1,
          1.1,
          1.1,
          1.1,
          1.1,
          1.1,
          1.1
         ],
         "yaxis": "y"
        },
        {
         "hovertemplate": "Count: 11<br>Wavelength: 1.30e+03 Å<extra></extra>",
         "line": {
          "color": "#8000ff",
          "width": 1.582981914100094
         },
         "marker": {
          "angleref": "previous",
          "color": "#8000ff",
          "size": 9,
          "symbol": "arrow-bar-up"
         },
         "type": "scatter",
         "x": [
          0,
          0.8664613492856591
         ],
         "xaxis": "x",
         "y": [
          0,
          1.0766227522436824
         ],
         "yaxis": "y"
        },
        {
         "hovertemplate": "Count: 31<br>Wavelength: 1.31e+03 Å<extra></extra>",
         "line": {
          "color": "#8000ff",
          "width": 2.919359652633348
         },
         "marker": {
          "angleref": "previous",
          "color": "#8000ff",
          "size": 9,
          "symbol": "arrow-bar-up"
         },
         "type": "scatter",
         "x": [
          0,
          0.8661704974083189
         ],
         "xaxis": "x",
         "y": [
          0.1,
          1.0766227522436824
         ],
         "yaxis": "y"
        },
        {
         "hovertemplate": "Count: 9<br>Wavelength: 7.78e+03 Å<extra></extra>",
         "line": {
          "color": "#ff0000",
          "width": 1.3241517447009203
         },
         "marker": {
          "angleref": "previous",
          "color": "#ff0000",
          "size": 9,
          "symbol": "arrow-bar-up"
         },
         "type": "scatter",
         "x": [
          0,
          0.86528023167925
         ],
         "xaxis": "x",
         "y": [
          1.0700645769253279,
          1.0962733262152715
         ],
         "yaxis": "y"
        },
        {
         "hovertemplate": "Count: 7<br>Wavelength: 1.30e+03 Å<extra></extra>",
         "line": {
          "color": "#8000ff",
          "width": 1
         },
         "marker": {
          "angleref": "previous",
          "color": "#8000ff",
          "size": 9,
          "symbol": "arrow-bar-up"
         },
         "type": "scatter",
         "x": [
          0,
          0.8664613492856591
         ],
         "xaxis": "x",
         "y": [
          1.0766227522436824,
          0
         ],
         "yaxis": "y"
        },
        {
         "hovertemplate": "Count: 33<br>Wavelength: 1.31e+03 Å<extra></extra>",
         "line": {
          "color": "#8000ff",
          "width": 3
         },
         "marker": {
          "angleref": "previous",
          "color": "#8000ff",
          "size": 9,
          "symbol": "arrow-bar-up"
         },
         "type": "scatter",
         "x": [
          0,
          0.8661704974083189
         ],
         "xaxis": "x",
         "y": [
          1.0766227522436824,
          0.1
         ],
         "yaxis": "y"
        },
        {
         "hovertemplate": "Count: 17<br>Wavelength: 7.78e+03 Å<extra></extra>",
         "line": {
          "color": "#ff0000",
          "width": 2.1444662397845136
         },
         "marker": {
          "angleref": "previous",
          "color": "#ff0000",
          "size": 9,
          "symbol": "arrow-bar-up"
         },
         "type": "scatter",
         "x": [
          0,
          0.86528023167925
         ],
         "xaxis": "x",
         "y": [
          1.0962733262152715,
          1.0700645769253279
         ],
         "yaxis": "y"
        },
        {
         "hoverinfo": "none",
         "marker": {
          "cmax": 3.8907546865723543,
          "cmin": 3.1146670186147944,
          "colorbar": {
           "outlinewidth": 0,
           "thickness": 5,
           "ticktext": [
            "1.3e+03",
            "1.6e+03",
            "1.9e+03",
            "2.4e+03",
            "2.9e+03",
            "3.5e+03",
            "4.3e+03",
            "5.2e+03",
            "6.4e+03",
            "7.8e+03"
           ],
           "tickvals": [
            3.1146670186147944,
            3.20089898172119,
            3.2871309448275854,
            3.373362907933981,
            3.4595948710403768,
            3.545826834146772,
            3.6320587972531677,
            3.7182907603595634,
            3.8045227234659587,
            3.8907546865723543
           ],
           "title": {
            "font": {
             "size": 12
            },
            "text": "Wavelength (Å)"
           }
          },
          "colorscale": [
           [
            0,
            "rgb(150,0,90)"
           ],
           [
            0.125,
            "rgb(0,0,200)"
           ],
           [
            0.25,
            "rgb(0,25,255)"
           ],
           [
            0.375,
            "rgb(0,152,255)"
           ],
           [
            0.5,
            "rgb(44,255,150)"
           ],
           [
            0.625,
            "rgb(151,255,0)"
           ],
           [
            0.75,
            "rgb(255,234,0)"
           ],
           [
            0.875,
            "rgb(255,111,0)"
           ],
           [
            1,
            "rgb(255,0,0)"
           ]
          ],
          "showscale": true
         },
         "mode": "markers",
         "type": "scatter",
         "x": [
          null
         ],
         "xaxis": "x2",
         "y": [
          null
         ],
         "yaxis": "y2"
        }
       ],
       "layout": {
        "annotations": [
         {
          "showarrow": false,
          "text": "n=0",
          "x": 1.15,
          "xref": "x",
          "y": 0
         },
         {
          "showarrow": false,
          "text": "n=1",
          "x": 1.15,
          "xref": "x",
          "y": 0.1
         },
         {
          "showarrow": false,
          "text": "n=2",
          "x": 1.15,
          "xref": "x",
          "y": 0.8194521672306785
         },
         {
          "showarrow": false,
          "text": "n=3",
          "x": 1.15,
          "xref": "x",
          "y": 0.9427408528860437
         },
         {
          "showarrow": false,
          "text": "n=4",
          "x": 1.15,
          "xref": "x",
          "y": 1.0700645769253279
         },
         {
          "showarrow": false,
          "text": "n=5",
          "x": 1.15,
          "xref": "x",
          "y": 1.0766227522436824
         },
         {
          "showarrow": false,
          "text": "n=6",
          "x": 1.15,
          "xref": "x",
          "y": 1.0962733262152715
         },
         {
          "showarrow": false,
          "text": "n=7",
          "x": 1.15,
          "xref": "x",
          "y": 1.1
         },
         {
          "showarrow": false,
          "text": "3.9e-04",
          "x": 0.5,
          "xref": "x2",
          "y": 0,
          "yref": "y2"
         },
         {
          "showarrow": false,
          "text": "1.4e-03",
          "x": 0.5,
          "xref": "x2",
          "y": 0.1111111111111111,
          "yref": "y2"
         },
         {
          "showarrow": false,
          "text": "5.3e-03",
          "x": 0.5,
          "xref": "x2",
          "y": 0.2222222222222222,
          "yref": "y2"
         },
         {
          "showarrow": false,
          "text": "2.0e-02",
          "x": 0.5,
          "xref": "x2",
          "y": 0.3333333333333333,
          "yref": "y2"
         },
         {
          "showarrow": false,
          "text": "7.3e-02",
          "x": 0.5,
          "xref": "x2",
          "y": 0.4444444444444444,
          "yref": "y2"
         },
         {
          "showarrow": false,
          "text": "2.7e-01",
          "x": 0.5,
          "xref": "x2",
          "y": 0.5555555555555556,
          "yref": "y2"
         },
         {
          "showarrow": false,
          "text": "1.0e+00",
          "x": 0.5,
          "xref": "x2",
          "y": 0.6666666666666666,
          "yref": "y2"
         },
         {
          "showarrow": false,
          "text": "3.7e+00",
          "x": 0.5,
          "xref": "x2",
          "y": 0.7777777777777777,
          "yref": "y2"
         },
         {
          "showarrow": false,
          "text": "1.4e+01",
          "x": 0.5,
          "xref": "x2",
          "y": 0.8888888888888888,
          "yref": "y2"
         },
         {
          "showarrow": false,
          "text": "5.1e+01",
          "x": 0.5,
          "xref": "x2",
          "y": 1,
          "yref": "y2"
         },
         {
          "showarrow": false,
          "text": "Populations",
          "x": 0.4,
          "xref": "x2",
          "y": -0.05,
          "yref": "y2"
         },
         {
          "showarrow": false,
          "text": "7.0e+00",
          "x": 1.15,
          "xref": "x2",
          "y": 0,
          "yref": "y2"
         },
         {
          "showarrow": false,
          "text": "8.3e+00",
          "x": 1.15,
          "xref": "x2",
          "y": 0.1111111111111111,
          "yref": "y2"
         },
         {
          "showarrow": false,
          "text": "9.9e+00",
          "x": 1.15,
          "xref": "x2",
          "y": 0.2222222222222222,
          "yref": "y2"
         },
         {
          "showarrow": false,
          "text": "1.2e+01",
          "x": 1.15,
          "xref": "x2",
          "y": 0.3333333333333333,
          "yref": "y2"
         },
         {
          "showarrow": false,
          "text": "1.4e+01",
          "x": 1.15,
          "xref": "x2",
          "y": 0.4444444444444444,
          "yref": "y2"
         },
         {
          "showarrow": false,
          "text": "1.7e+01",
          "x": 1.15,
          "xref": "x2",
          "y": 0.5555555555555556,
          "yref": "y2"
         },
         {
          "showarrow": false,
          "text": "2.0e+01",
          "x": 1.15,
          "xref": "x2",
          "y": 0.6666666666666666,
          "yref": "y2"
         },
         {
          "showarrow": false,
          "text": "2.3e+01",
          "x": 1.15,
          "xref": "x2",
          "y": 0.7777777777777777,
          "yref": "y2"
         },
         {
          "showarrow": false,
          "text": "2.8e+01",
          "x": 1.15,
          "xref": "x2",
          "y": 0.8888888888888888,
          "yref": "y2"
         },
         {
          "showarrow": false,
          "text": "3.3e+01",
          "x": 1.15,
          "xref": "x2",
          "y": 1,
          "yref": "y2"
         },
         {
          "showarrow": false,
          "text": "#Packets",
          "x": 0.95,
          "xref": "x2",
          "y": -0.05,
          "yref": "y2"
         }
        ],
        "autosize": false,
        "height": 700,
        "plot_bgcolor": "white",
        "shapes": [
         {
          "line": {
           "width": 1
          },
          "type": "line",
          "x0": 0.1,
          "x1": 0.3,
          "xref": "x2",
          "y0": 0,
          "y1": 0,
          "yref": "y2"
         },
         {
          "line": {
           "width": 1.3333333333333333
          },
          "type": "line",
          "x0": 0.1,
          "x1": 0.3,
          "xref": "x2",
          "y0": 0.1111111111111111,
          "y1": 0.1111111111111111,
          "yref": "y2"
         },
         {
          "line": {
           "width": 1.6666666666666665
          },
          "type": "line",
          "x0": 0.1,
          "x1": 0.3,
          "xref": "x2",
          "y0": 0.2222222222222222,
          "y1": 0.2222222222222222,
          "yref": "y2"
         },
         {
          "line": {
           "width": 2
          },
          "type": "line",
          "x0": 0.1,
          "x1": 0.3,
          "xref": "x2",
          "y0": 0.3333333333333333,
          "y1": 0.3333333333333333,
          "yref": "y2"
         },
         {
          "line": {
           "width": 2.333333333333333
          },
          "type": "line",
          "x0": 0.1,
          "x1": 0.3,
          "xref": "x2",
          "y0": 0.4444444444444444,
          "y1": 0.4444444444444444,
          "yref": "y2"
         },
         {
          "line": {
           "width": 2.6666666666666665
          },
          "type": "line",
          "x0": 0.1,
          "x1": 0.3,
          "xref": "x2",
          "y0": 0.5555555555555556,
          "y1": 0.5555555555555556,
          "yref": "y2"
         },
         {
          "line": {
           "width": 3
          },
          "type": "line",
          "x0": 0.1,
          "x1": 0.3,
          "xref": "x2",
          "y0": 0.6666666666666666,
          "y1": 0.6666666666666666,
          "yref": "y2"
         },
         {
          "line": {
           "width": 3.333333333333333
          },
          "type": "line",
          "x0": 0.1,
          "x1": 0.3,
          "xref": "x2",
          "y0": 0.7777777777777777,
          "y1": 0.7777777777777777,
          "yref": "y2"
         },
         {
          "line": {
           "width": 3.6666666666666665
          },
          "type": "line",
          "x0": 0.1,
          "x1": 0.3,
          "xref": "x2",
          "y0": 0.8888888888888888,
          "y1": 0.8888888888888888,
          "yref": "y2"
         },
         {
          "line": {
           "width": 4
          },
          "type": "line",
          "x0": 0.1,
          "x1": 0.3,
          "xref": "x2",
          "y0": 1,
          "y1": 1,
          "yref": "y2"
         },
         {
          "line": {
           "color": "grey",
           "dash": "dash",
           "width": 0.5
          },
          "type": "line",
          "x0": 0.7,
          "x1": 0.7,
          "xref": "x2",
          "y0": 0,
          "y1": 1,
          "yref": "y2"
         },
         {
          "line": {
           "width": 1
          },
          "type": "line",
          "x0": 0.75,
          "x1": 0.95,
          "xref": "x2",
          "y0": 0,
          "y1": 0,
          "yref": "y2"
         },
         {
          "line": {
           "width": 1.2222222222222223
          },
          "type": "line",
          "x0": 0.75,
          "x1": 0.95,
          "xref": "x2",
          "y0": 0.1111111111111111,
          "y1": 0.1111111111111111,
          "yref": "y2"
         },
         {
          "line": {
           "width": 1.4444444444444444
          },
          "type": "line",
          "x0": 0.75,
          "x1": 0.95,
          "xref": "x2",
          "y0": 0.2222222222222222,
          "y1": 0.2222222222222222,
          "yref": "y2"
         },
         {
          "line": {
           "width": 1.6666666666666665
          },
          "type": "line",
          "x0": 0.75,
          "x1": 0.95,
          "xref": "x2",
          "y0": 0.3333333333333333,
          "y1": 0.3333333333333333,
          "yref": "y2"
         },
         {
          "line": {
           "width": 1.8888888888888888
          },
          "type": "line",
          "x0": 0.75,
          "x1": 0.95,
          "xref": "x2",
          "y0": 0.4444444444444444,
          "y1": 0.4444444444444444,
          "yref": "y2"
         },
         {
          "line": {
           "width": 2.111111111111111
          },
          "type": "line",
          "x0": 0.75,
          "x1": 0.95,
          "xref": "x2",
          "y0": 0.5555555555555556,
          "y1": 0.5555555555555556,
          "yref": "y2"
         },
         {
          "line": {
           "width": 2.333333333333333
          },
          "type": "line",
          "x0": 0.75,
          "x1": 0.95,
          "xref": "x2",
          "y0": 0.6666666666666666,
          "y1": 0.6666666666666666,
          "yref": "y2"
         },
         {
          "line": {
           "width": 2.5555555555555554
          },
          "type": "line",
          "x0": 0.75,
          "x1": 0.95,
          "xref": "x2",
          "y0": 0.7777777777777777,
          "y1": 0.7777777777777777,
          "yref": "y2"
         },
         {
          "line": {
           "width": 2.7777777777777777
          },
          "type": "line",
          "x0": 0.75,
          "x1": 0.95,
          "xref": "x2",
          "y0": 0.8888888888888888,
          "y1": 0.8888888888888888,
          "yref": "y2"
         },
         {
          "line": {
           "width": 3
          },
          "type": "line",
          "x0": 0.75,
          "x1": 0.95,
          "xref": "x2",
          "y0": 1,
          "y1": 1,
          "yref": "y2"
         }
        ],
        "showlegend": false,
        "template": {
         "data": {
          "bar": [
           {
            "error_x": {
             "color": "#2a3f5f"
            },
            "error_y": {
             "color": "#2a3f5f"
            },
            "marker": {
             "line": {
              "color": "#E5ECF6",
              "width": 0.5
             },
             "pattern": {
              "fillmode": "overlay",
              "size": 10,
              "solidity": 0.2
             }
            },
            "type": "bar"
           }
          ],
          "barpolar": [
           {
            "marker": {
             "line": {
              "color": "#E5ECF6",
              "width": 0.5
             },
             "pattern": {
              "fillmode": "overlay",
              "size": 10,
              "solidity": 0.2
             }
            },
            "type": "barpolar"
           }
          ],
          "carpet": [
           {
            "aaxis": {
             "endlinecolor": "#2a3f5f",
             "gridcolor": "white",
             "linecolor": "white",
             "minorgridcolor": "white",
             "startlinecolor": "#2a3f5f"
            },
            "baxis": {
             "endlinecolor": "#2a3f5f",
             "gridcolor": "white",
             "linecolor": "white",
             "minorgridcolor": "white",
             "startlinecolor": "#2a3f5f"
            },
            "type": "carpet"
           }
          ],
          "choropleth": [
           {
            "colorbar": {
             "outlinewidth": 0,
             "ticks": ""
            },
            "type": "choropleth"
           }
          ],
          "contour": [
           {
            "colorbar": {
             "outlinewidth": 0,
             "ticks": ""
            },
            "colorscale": [
             [
              0,
              "#0d0887"
             ],
             [
              0.1111111111111111,
              "#46039f"
             ],
             [
              0.2222222222222222,
              "#7201a8"
             ],
             [
              0.3333333333333333,
              "#9c179e"
             ],
             [
              0.4444444444444444,
              "#bd3786"
             ],
             [
              0.5555555555555556,
              "#d8576b"
             ],
             [
              0.6666666666666666,
              "#ed7953"
             ],
             [
              0.7777777777777778,
              "#fb9f3a"
             ],
             [
              0.8888888888888888,
              "#fdca26"
             ],
             [
              1,
              "#f0f921"
             ]
            ],
            "type": "contour"
           }
          ],
          "contourcarpet": [
           {
            "colorbar": {
             "outlinewidth": 0,
             "ticks": ""
            },
            "type": "contourcarpet"
           }
          ],
          "heatmap": [
           {
            "colorbar": {
             "outlinewidth": 0,
             "ticks": ""
            },
            "colorscale": [
             [
              0,
              "#0d0887"
             ],
             [
              0.1111111111111111,
              "#46039f"
             ],
             [
              0.2222222222222222,
              "#7201a8"
             ],
             [
              0.3333333333333333,
              "#9c179e"
             ],
             [
              0.4444444444444444,
              "#bd3786"
             ],
             [
              0.5555555555555556,
              "#d8576b"
             ],
             [
              0.6666666666666666,
              "#ed7953"
             ],
             [
              0.7777777777777778,
              "#fb9f3a"
             ],
             [
              0.8888888888888888,
              "#fdca26"
             ],
             [
              1,
              "#f0f921"
             ]
            ],
            "type": "heatmap"
           }
          ],
          "heatmapgl": [
           {
            "colorbar": {
             "outlinewidth": 0,
             "ticks": ""
            },
            "colorscale": [
             [
              0,
              "#0d0887"
             ],
             [
              0.1111111111111111,
              "#46039f"
             ],
             [
              0.2222222222222222,
              "#7201a8"
             ],
             [
              0.3333333333333333,
              "#9c179e"
             ],
             [
              0.4444444444444444,
              "#bd3786"
             ],
             [
              0.5555555555555556,
              "#d8576b"
             ],
             [
              0.6666666666666666,
              "#ed7953"
             ],
             [
              0.7777777777777778,
              "#fb9f3a"
             ],
             [
              0.8888888888888888,
              "#fdca26"
             ],
             [
              1,
              "#f0f921"
             ]
            ],
            "type": "heatmapgl"
           }
          ],
          "histogram": [
           {
            "marker": {
             "pattern": {
              "fillmode": "overlay",
              "size": 10,
              "solidity": 0.2
             }
            },
            "type": "histogram"
           }
          ],
          "histogram2d": [
           {
            "colorbar": {
             "outlinewidth": 0,
             "ticks": ""
            },
            "colorscale": [
             [
              0,
              "#0d0887"
             ],
             [
              0.1111111111111111,
              "#46039f"
             ],
             [
              0.2222222222222222,
              "#7201a8"
             ],
             [
              0.3333333333333333,
              "#9c179e"
             ],
             [
              0.4444444444444444,
              "#bd3786"
             ],
             [
              0.5555555555555556,
              "#d8576b"
             ],
             [
              0.6666666666666666,
              "#ed7953"
             ],
             [
              0.7777777777777778,
              "#fb9f3a"
             ],
             [
              0.8888888888888888,
              "#fdca26"
             ],
             [
              1,
              "#f0f921"
             ]
            ],
            "type": "histogram2d"
           }
          ],
          "histogram2dcontour": [
           {
            "colorbar": {
             "outlinewidth": 0,
             "ticks": ""
            },
            "colorscale": [
             [
              0,
              "#0d0887"
             ],
             [
              0.1111111111111111,
              "#46039f"
             ],
             [
              0.2222222222222222,
              "#7201a8"
             ],
             [
              0.3333333333333333,
              "#9c179e"
             ],
             [
              0.4444444444444444,
              "#bd3786"
             ],
             [
              0.5555555555555556,
              "#d8576b"
             ],
             [
              0.6666666666666666,
              "#ed7953"
             ],
             [
              0.7777777777777778,
              "#fb9f3a"
             ],
             [
              0.8888888888888888,
              "#fdca26"
             ],
             [
              1,
              "#f0f921"
             ]
            ],
            "type": "histogram2dcontour"
           }
          ],
          "mesh3d": [
           {
            "colorbar": {
             "outlinewidth": 0,
             "ticks": ""
            },
            "type": "mesh3d"
           }
          ],
          "parcoords": [
           {
            "line": {
             "colorbar": {
              "outlinewidth": 0,
              "ticks": ""
             }
            },
            "type": "parcoords"
           }
          ],
          "pie": [
           {
            "automargin": true,
            "type": "pie"
           }
          ],
          "scatter": [
           {
            "fillpattern": {
             "fillmode": "overlay",
             "size": 10,
             "solidity": 0.2
            },
            "type": "scatter"
           }
          ],
          "scatter3d": [
           {
            "line": {
             "colorbar": {
              "outlinewidth": 0,
              "ticks": ""
             }
            },
            "marker": {
             "colorbar": {
              "outlinewidth": 0,
              "ticks": ""
             }
            },
            "type": "scatter3d"
           }
          ],
          "scattercarpet": [
           {
            "marker": {
             "colorbar": {
              "outlinewidth": 0,
              "ticks": ""
             }
            },
            "type": "scattercarpet"
           }
          ],
          "scattergeo": [
           {
            "marker": {
             "colorbar": {
              "outlinewidth": 0,
              "ticks": ""
             }
            },
            "type": "scattergeo"
           }
          ],
          "scattergl": [
           {
            "marker": {
             "colorbar": {
              "outlinewidth": 0,
              "ticks": ""
             }
            },
            "type": "scattergl"
           }
          ],
          "scattermapbox": [
           {
            "marker": {
             "colorbar": {
              "outlinewidth": 0,
              "ticks": ""
             }
            },
            "type": "scattermapbox"
           }
          ],
          "scatterpolar": [
           {
            "marker": {
             "colorbar": {
              "outlinewidth": 0,
              "ticks": ""
             }
            },
            "type": "scatterpolar"
           }
          ],
          "scatterpolargl": [
           {
            "marker": {
             "colorbar": {
              "outlinewidth": 0,
              "ticks": ""
             }
            },
            "type": "scatterpolargl"
           }
          ],
          "scatterternary": [
           {
            "marker": {
             "colorbar": {
              "outlinewidth": 0,
              "ticks": ""
             }
            },
            "type": "scatterternary"
           }
          ],
          "surface": [
           {
            "colorbar": {
             "outlinewidth": 0,
             "ticks": ""
            },
            "colorscale": [
             [
              0,
              "#0d0887"
             ],
             [
              0.1111111111111111,
              "#46039f"
             ],
             [
              0.2222222222222222,
              "#7201a8"
             ],
             [
              0.3333333333333333,
              "#9c179e"
             ],
             [
              0.4444444444444444,
              "#bd3786"
             ],
             [
              0.5555555555555556,
              "#d8576b"
             ],
             [
              0.6666666666666666,
              "#ed7953"
             ],
             [
              0.7777777777777778,
              "#fb9f3a"
             ],
             [
              0.8888888888888888,
              "#fdca26"
             ],
             [
              1,
              "#f0f921"
             ]
            ],
            "type": "surface"
           }
          ],
          "table": [
           {
            "cells": {
             "fill": {
              "color": "#EBF0F8"
             },
             "line": {
              "color": "white"
             }
            },
            "header": {
             "fill": {
              "color": "#C8D4E3"
             },
             "line": {
              "color": "white"
             }
            },
            "type": "table"
           }
          ]
         },
         "layout": {
          "annotationdefaults": {
           "arrowcolor": "#2a3f5f",
           "arrowhead": 0,
           "arrowwidth": 1
          },
          "autotypenumbers": "strict",
          "coloraxis": {
           "colorbar": {
            "outlinewidth": 0,
            "ticks": ""
           }
          },
          "colorscale": {
           "diverging": [
            [
             0,
             "#8e0152"
            ],
            [
             0.1,
             "#c51b7d"
            ],
            [
             0.2,
             "#de77ae"
            ],
            [
             0.3,
             "#f1b6da"
            ],
            [
             0.4,
             "#fde0ef"
            ],
            [
             0.5,
             "#f7f7f7"
            ],
            [
             0.6,
             "#e6f5d0"
            ],
            [
             0.7,
             "#b8e186"
            ],
            [
             0.8,
             "#7fbc41"
            ],
            [
             0.9,
             "#4d9221"
            ],
            [
             1,
             "#276419"
            ]
           ],
           "sequential": [
            [
             0,
             "#0d0887"
            ],
            [
             0.1111111111111111,
             "#46039f"
            ],
            [
             0.2222222222222222,
             "#7201a8"
            ],
            [
             0.3333333333333333,
             "#9c179e"
            ],
            [
             0.4444444444444444,
             "#bd3786"
            ],
            [
             0.5555555555555556,
             "#d8576b"
            ],
            [
             0.6666666666666666,
             "#ed7953"
            ],
            [
             0.7777777777777778,
             "#fb9f3a"
            ],
            [
             0.8888888888888888,
             "#fdca26"
            ],
            [
             1,
             "#f0f921"
            ]
           ],
           "sequentialminus": [
            [
             0,
             "#0d0887"
            ],
            [
             0.1111111111111111,
             "#46039f"
            ],
            [
             0.2222222222222222,
             "#7201a8"
            ],
            [
             0.3333333333333333,
             "#9c179e"
            ],
            [
             0.4444444444444444,
             "#bd3786"
            ],
            [
             0.5555555555555556,
             "#d8576b"
            ],
            [
             0.6666666666666666,
             "#ed7953"
            ],
            [
             0.7777777777777778,
             "#fb9f3a"
            ],
            [
             0.8888888888888888,
             "#fdca26"
            ],
            [
             1,
             "#f0f921"
            ]
           ]
          },
          "colorway": [
           "#636efa",
           "#EF553B",
           "#00cc96",
           "#ab63fa",
           "#FFA15A",
           "#19d3f3",
           "#FF6692",
           "#B6E880",
           "#FF97FF",
           "#FECB52"
          ],
          "font": {
           "color": "#2a3f5f"
          },
          "geo": {
           "bgcolor": "white",
           "lakecolor": "white",
           "landcolor": "#E5ECF6",
           "showlakes": true,
           "showland": true,
           "subunitcolor": "white"
          },
          "hoverlabel": {
           "align": "left"
          },
          "hovermode": "closest",
          "mapbox": {
           "style": "light"
          },
          "paper_bgcolor": "white",
          "plot_bgcolor": "#E5ECF6",
          "polar": {
           "angularaxis": {
            "gridcolor": "white",
            "linecolor": "white",
            "ticks": ""
           },
           "bgcolor": "#E5ECF6",
           "radialaxis": {
            "gridcolor": "white",
            "linecolor": "white",
            "ticks": ""
           }
          },
          "scene": {
           "xaxis": {
            "backgroundcolor": "#E5ECF6",
            "gridcolor": "white",
            "gridwidth": 2,
            "linecolor": "white",
            "showbackground": true,
            "ticks": "",
            "zerolinecolor": "white"
           },
           "yaxis": {
            "backgroundcolor": "#E5ECF6",
            "gridcolor": "white",
            "gridwidth": 2,
            "linecolor": "white",
            "showbackground": true,
            "ticks": "",
            "zerolinecolor": "white"
           },
           "zaxis": {
            "backgroundcolor": "#E5ECF6",
            "gridcolor": "white",
            "gridwidth": 2,
            "linecolor": "white",
            "showbackground": true,
            "ticks": "",
            "zerolinecolor": "white"
           }
          },
          "shapedefaults": {
           "line": {
            "color": "#2a3f5f"
           }
          },
          "ternary": {
           "aaxis": {
            "gridcolor": "white",
            "linecolor": "white",
            "ticks": ""
           },
           "baxis": {
            "gridcolor": "white",
            "linecolor": "white",
            "ticks": ""
           },
           "bgcolor": "#E5ECF6",
           "caxis": {
            "gridcolor": "white",
            "linecolor": "white",
            "ticks": ""
           }
          },
          "title": {
           "x": 0.05
          },
          "xaxis": {
           "automargin": true,
           "gridcolor": "white",
           "linecolor": "white",
           "ticks": "",
           "title": {
            "standoff": 15
           },
           "zerolinecolor": "white",
           "zerolinewidth": 2
          },
          "yaxis": {
           "automargin": true,
           "gridcolor": "white",
           "linecolor": "white",
           "ticks": "",
           "title": {
            "standoff": 15
           },
           "zerolinecolor": "white",
           "zerolinewidth": 2
          }
         }
        },
        "title": {
         "text": "Grotrian Diagram for Oxygen I",
         "x": 0.5
        },
        "width": 700,
        "xaxis": {
         "anchor": "y",
         "automargin": true,
         "domain": [
          0,
          0.57
         ],
         "fixedrange": true,
         "showgrid": false,
         "showticklabels": false
        },
        "xaxis2": {
         "anchor": "y2",
         "domain": [
          0.62,
          1
         ],
         "fixedrange": true,
         "showticklabels": false
        },
        "yaxis": {
         "anchor": "x",
         "domain": [
          0,
          1
         ],
         "fixedrange": true,
         "range": [
          0,
          null
         ],
         "showgrid": false,
         "tickmode": "array",
         "ticktext": [
          "0.00e+00",
          "2.39e-02",
          "1.97e+00",
          "4.19e+00",
          "9.15e+00",
          "9.52e+00",
          "1.07e+01",
          "1.10e+01"
         ],
         "tickvals": [
          0,
          0.1,
          0.8194521672306785,
          0.9427408528860437,
          1.0700645769253279,
          1.0766227522436824,
          1.0962733262152715,
          1.1
         ],
         "title": {
          "text": "Energy (eV)"
         }
        },
        "yaxis2": {
         "anchor": "x2",
         "domain": [
          0,
          1
         ],
         "fixedrange": true,
         "showticklabels": false
        }
       }
      },
      "text/html": [
       "<div>                            <div id=\"c9ace67a-894f-4a8e-a236-3750404a2bc1\" class=\"plotly-graph-div\" style=\"height:700px; width:700px;\"></div>            <script type=\"text/javascript\">                require([\"plotly\"], function(Plotly) {                    window.PLOTLYENV=window.PLOTLYENV || {};                                    if (document.getElementById(\"c9ace67a-894f-4a8e-a236-3750404a2bc1\")) {                    Plotly.newPlot(                        \"c9ace67a-894f-4a8e-a236-3750404a2bc1\",                        [{\"hovertemplate\":\"Energy: 0.00e+00 eV<br>Population: 5.08e+01<extra></extra>\",\"line\":{\"color\":\"black\",\"width\":4.0},\"mode\":\"lines\",\"showlegend\":false,\"x\":[-0.05,0.07222222222222223,0.19444444444444448,0.3166666666666667,0.43888888888888894,0.5611111111111111,0.6833333333333333,0.8055555555555556,0.9277777777777778,1.05],\"y\":[0.0,0.0,0.0,0.0,0.0,0.0,0.0,0.0,0.0,0.0],\"type\":\"scatter\",\"xaxis\":\"x\",\"yaxis\":\"y\"},{\"hovertemplate\":\"Energy: 2.39e-02 eV<br>Population: 3.97e+01<extra></extra>\",\"line\":{\"color\":\"black\",\"width\":3.9375334159550874},\"mode\":\"lines\",\"showlegend\":false,\"x\":[-0.05,0.07222222222222223,0.19444444444444448,0.3166666666666667,0.43888888888888894,0.5611111111111111,0.6833333333333333,0.8055555555555556,0.9277777777777778,1.05],\"y\":[0.1,0.1,0.1,0.1,0.1,0.1,0.1,0.1,0.1,0.1],\"type\":\"scatter\",\"xaxis\":\"x\",\"yaxis\":\"y\"},{\"hovertemplate\":\"Energy: 1.97e+00 eV<br>Population: 6.73e+00<extra></extra>\",\"line\":{\"color\":\"black\",\"width\":3.486015495522017},\"mode\":\"lines\",\"showlegend\":false,\"x\":[-0.05,0.07222222222222223,0.19444444444444448,0.3166666666666667,0.43888888888888894,0.5611111111111111,0.6833333333333333,0.8055555555555556,0.9277777777777778,1.05],\"y\":[0.8194521672306785,0.8194521672306785,0.8194521672306785,0.8194521672306785,0.8194521672306785,0.8194521672306785,0.8194521672306785,0.8194521672306785,0.8194521672306785,0.8194521672306785],\"type\":\"scatter\",\"xaxis\":\"x\",\"yaxis\":\"y\"},{\"hovertemplate\":\"Energy: 4.19e+00 eV<br>Population: 1.38e-01<extra></extra>\",\"line\":{\"color\":\"black\",\"width\":2.4959220870092604},\"mode\":\"lines\",\"showlegend\":false,\"x\":[-0.05,0.07222222222222223,0.19444444444444448,0.3166666666666667,0.43888888888888894,0.5611111111111111,0.6833333333333333,0.8055555555555556,0.9277777777777778,1.05],\"y\":[0.9427408528860437,0.9427408528860437,0.9427408528860437,0.9427408528860437,0.9427408528860437,0.9427408528860437,0.9427408528860437,0.9427408528860437,0.9427408528860437,0.9427408528860437],\"type\":\"scatter\",\"xaxis\":\"x\",\"yaxis\":\"y\"},{\"hovertemplate\":\"Energy: 9.15e+00 eV<br>Population: 4.25e-03<extra></extra>\",\"line\":{\"color\":\"black\",\"width\":1.6111148128816264},\"mode\":\"lines\",\"showlegend\":false,\"x\":[-0.05,0.07222222222222223,0.19444444444444448,0.3166666666666667,0.43888888888888894,0.5611111111111111,0.6833333333333333,0.8055555555555556,0.9277777777777778,1.05],\"y\":[1.0700645769253279,1.0700645769253279,1.0700645769253279,1.0700645769253279,1.0700645769253279,1.0700645769253279,1.0700645769253279,1.0700645769253279,1.0700645769253279,1.0700645769253279],\"type\":\"scatter\",\"xaxis\":\"x\",\"yaxis\":\"y\"},{\"hovertemplate\":\"Energy: 9.52e+00 eV<br>Population: 1.74e-03<extra></extra>\",\"line\":{\"color\":\"black\",\"width\":1.3831340651973458},\"mode\":\"lines\",\"showlegend\":false,\"x\":[-0.05,0.07222222222222223,0.19444444444444448,0.3166666666666667,0.43888888888888894,0.5611111111111111,0.6833333333333333,0.8055555555555556,0.9277777777777778,1.05],\"y\":[1.0766227522436824,1.0766227522436824,1.0766227522436824,1.0766227522436824,1.0766227522436824,1.0766227522436824,1.0766227522436824,1.0766227522436824,1.0766227522436824,1.0766227522436824],\"type\":\"scatter\",\"xaxis\":\"x\",\"yaxis\":\"y\"},{\"hovertemplate\":\"Energy: 1.07e+01 eV<br>Population: 2.48e-03<extra></extra>\",\"line\":{\"color\":\"black\",\"width\":1.4743552469719585},\"mode\":\"lines\",\"showlegend\":false,\"x\":[-0.05,0.07222222222222223,0.19444444444444448,0.3166666666666667,0.43888888888888894,0.5611111111111111,0.6833333333333333,0.8055555555555556,0.9277777777777778,1.05],\"y\":[1.0962733262152715,1.0962733262152715,1.0962733262152715,1.0962733262152715,1.0962733262152715,1.0962733262152715,1.0962733262152715,1.0962733262152715,1.0962733262152715,1.0962733262152715],\"type\":\"scatter\",\"xaxis\":\"x\",\"yaxis\":\"y\"},{\"hovertemplate\":\"Energy: 1.10e+01 eV<br>Population: 3.85e-04<extra></extra>\",\"line\":{\"color\":\"black\",\"width\":1.0},\"mode\":\"lines\",\"showlegend\":false,\"x\":[-0.05,0.07222222222222223,0.19444444444444448,0.3166666666666667,0.43888888888888894,0.5611111111111111,0.6833333333333333,0.8055555555555556,0.9277777777777778,1.05],\"y\":[1.1,1.1,1.1,1.1,1.1,1.1,1.1,1.1,1.1,1.1],\"type\":\"scatter\",\"xaxis\":\"x\",\"yaxis\":\"y\"},{\"hovertemplate\":\"Count: 11<br>Wavelength: 1.30e+03 \\u212b<extra></extra>\",\"line\":{\"color\":\"#8000ff\",\"width\":1.582981914100094},\"marker\":{\"angleref\":\"previous\",\"color\":\"#8000ff\",\"size\":9,\"symbol\":\"arrow-bar-up\"},\"x\":[0,0.8664613492856591],\"y\":[0.0,1.0766227522436824],\"type\":\"scatter\",\"xaxis\":\"x\",\"yaxis\":\"y\"},{\"hovertemplate\":\"Count: 31<br>Wavelength: 1.31e+03 \\u212b<extra></extra>\",\"line\":{\"color\":\"#8000ff\",\"width\":2.919359652633348},\"marker\":{\"angleref\":\"previous\",\"color\":\"#8000ff\",\"size\":9,\"symbol\":\"arrow-bar-up\"},\"x\":[0,0.8661704974083189],\"y\":[0.1,1.0766227522436824],\"type\":\"scatter\",\"xaxis\":\"x\",\"yaxis\":\"y\"},{\"hovertemplate\":\"Count: 9<br>Wavelength: 7.78e+03 \\u212b<extra></extra>\",\"line\":{\"color\":\"#ff0000\",\"width\":1.3241517447009203},\"marker\":{\"angleref\":\"previous\",\"color\":\"#ff0000\",\"size\":9,\"symbol\":\"arrow-bar-up\"},\"x\":[0,0.86528023167925],\"y\":[1.0700645769253279,1.0962733262152715],\"type\":\"scatter\",\"xaxis\":\"x\",\"yaxis\":\"y\"},{\"hovertemplate\":\"Count: 7<br>Wavelength: 1.30e+03 \\u212b<extra></extra>\",\"line\":{\"color\":\"#8000ff\",\"width\":1.0},\"marker\":{\"angleref\":\"previous\",\"color\":\"#8000ff\",\"size\":9,\"symbol\":\"arrow-bar-up\"},\"x\":[0,0.8664613492856591],\"y\":[1.0766227522436824,0.0],\"type\":\"scatter\",\"xaxis\":\"x\",\"yaxis\":\"y\"},{\"hovertemplate\":\"Count: 33<br>Wavelength: 1.31e+03 \\u212b<extra></extra>\",\"line\":{\"color\":\"#8000ff\",\"width\":3.0},\"marker\":{\"angleref\":\"previous\",\"color\":\"#8000ff\",\"size\":9,\"symbol\":\"arrow-bar-up\"},\"x\":[0,0.8661704974083189],\"y\":[1.0766227522436824,0.1],\"type\":\"scatter\",\"xaxis\":\"x\",\"yaxis\":\"y\"},{\"hovertemplate\":\"Count: 17<br>Wavelength: 7.78e+03 \\u212b<extra></extra>\",\"line\":{\"color\":\"#ff0000\",\"width\":2.1444662397845136},\"marker\":{\"angleref\":\"previous\",\"color\":\"#ff0000\",\"size\":9,\"symbol\":\"arrow-bar-up\"},\"x\":[0,0.86528023167925],\"y\":[1.0962733262152715,1.0700645769253279],\"type\":\"scatter\",\"xaxis\":\"x\",\"yaxis\":\"y\"},{\"hoverinfo\":\"none\",\"marker\":{\"cmax\":3.8907546865723543,\"cmin\":3.1146670186147944,\"colorbar\":{\"outlinewidth\":0,\"thickness\":5,\"ticktext\":[\"1.3e+03\",\"1.6e+03\",\"1.9e+03\",\"2.4e+03\",\"2.9e+03\",\"3.5e+03\",\"4.3e+03\",\"5.2e+03\",\"6.4e+03\",\"7.8e+03\"],\"tickvals\":[3.1146670186147944,3.20089898172119,3.2871309448275854,3.373362907933981,3.4595948710403768,3.545826834146772,3.6320587972531677,3.7182907603595634,3.8045227234659587,3.8907546865723543],\"title\":{\"font\":{\"size\":12},\"text\":\"Wavelength (\\u212b)\"}},\"colorscale\":[[0.0,\"rgb(150,0,90)\"],[0.125,\"rgb(0,0,200)\"],[0.25,\"rgb(0,25,255)\"],[0.375,\"rgb(0,152,255)\"],[0.5,\"rgb(44,255,150)\"],[0.625,\"rgb(151,255,0)\"],[0.75,\"rgb(255,234,0)\"],[0.875,\"rgb(255,111,0)\"],[1.0,\"rgb(255,0,0)\"]],\"showscale\":true},\"mode\":\"markers\",\"x\":[null],\"y\":[null],\"type\":\"scatter\",\"xaxis\":\"x2\",\"yaxis\":\"y2\"}],                        {\"template\":{\"data\":{\"histogram2dcontour\":[{\"type\":\"histogram2dcontour\",\"colorbar\":{\"outlinewidth\":0,\"ticks\":\"\"},\"colorscale\":[[0.0,\"#0d0887\"],[0.1111111111111111,\"#46039f\"],[0.2222222222222222,\"#7201a8\"],[0.3333333333333333,\"#9c179e\"],[0.4444444444444444,\"#bd3786\"],[0.5555555555555556,\"#d8576b\"],[0.6666666666666666,\"#ed7953\"],[0.7777777777777778,\"#fb9f3a\"],[0.8888888888888888,\"#fdca26\"],[1.0,\"#f0f921\"]]}],\"choropleth\":[{\"type\":\"choropleth\",\"colorbar\":{\"outlinewidth\":0,\"ticks\":\"\"}}],\"histogram2d\":[{\"type\":\"histogram2d\",\"colorbar\":{\"outlinewidth\":0,\"ticks\":\"\"},\"colorscale\":[[0.0,\"#0d0887\"],[0.1111111111111111,\"#46039f\"],[0.2222222222222222,\"#7201a8\"],[0.3333333333333333,\"#9c179e\"],[0.4444444444444444,\"#bd3786\"],[0.5555555555555556,\"#d8576b\"],[0.6666666666666666,\"#ed7953\"],[0.7777777777777778,\"#fb9f3a\"],[0.8888888888888888,\"#fdca26\"],[1.0,\"#f0f921\"]]}],\"heatmap\":[{\"type\":\"heatmap\",\"colorbar\":{\"outlinewidth\":0,\"ticks\":\"\"},\"colorscale\":[[0.0,\"#0d0887\"],[0.1111111111111111,\"#46039f\"],[0.2222222222222222,\"#7201a8\"],[0.3333333333333333,\"#9c179e\"],[0.4444444444444444,\"#bd3786\"],[0.5555555555555556,\"#d8576b\"],[0.6666666666666666,\"#ed7953\"],[0.7777777777777778,\"#fb9f3a\"],[0.8888888888888888,\"#fdca26\"],[1.0,\"#f0f921\"]]}],\"heatmapgl\":[{\"type\":\"heatmapgl\",\"colorbar\":{\"outlinewidth\":0,\"ticks\":\"\"},\"colorscale\":[[0.0,\"#0d0887\"],[0.1111111111111111,\"#46039f\"],[0.2222222222222222,\"#7201a8\"],[0.3333333333333333,\"#9c179e\"],[0.4444444444444444,\"#bd3786\"],[0.5555555555555556,\"#d8576b\"],[0.6666666666666666,\"#ed7953\"],[0.7777777777777778,\"#fb9f3a\"],[0.8888888888888888,\"#fdca26\"],[1.0,\"#f0f921\"]]}],\"contourcarpet\":[{\"type\":\"contourcarpet\",\"colorbar\":{\"outlinewidth\":0,\"ticks\":\"\"}}],\"contour\":[{\"type\":\"contour\",\"colorbar\":{\"outlinewidth\":0,\"ticks\":\"\"},\"colorscale\":[[0.0,\"#0d0887\"],[0.1111111111111111,\"#46039f\"],[0.2222222222222222,\"#7201a8\"],[0.3333333333333333,\"#9c179e\"],[0.4444444444444444,\"#bd3786\"],[0.5555555555555556,\"#d8576b\"],[0.6666666666666666,\"#ed7953\"],[0.7777777777777778,\"#fb9f3a\"],[0.8888888888888888,\"#fdca26\"],[1.0,\"#f0f921\"]]}],\"surface\":[{\"type\":\"surface\",\"colorbar\":{\"outlinewidth\":0,\"ticks\":\"\"},\"colorscale\":[[0.0,\"#0d0887\"],[0.1111111111111111,\"#46039f\"],[0.2222222222222222,\"#7201a8\"],[0.3333333333333333,\"#9c179e\"],[0.4444444444444444,\"#bd3786\"],[0.5555555555555556,\"#d8576b\"],[0.6666666666666666,\"#ed7953\"],[0.7777777777777778,\"#fb9f3a\"],[0.8888888888888888,\"#fdca26\"],[1.0,\"#f0f921\"]]}],\"mesh3d\":[{\"type\":\"mesh3d\",\"colorbar\":{\"outlinewidth\":0,\"ticks\":\"\"}}],\"scatter\":[{\"fillpattern\":{\"fillmode\":\"overlay\",\"size\":10,\"solidity\":0.2},\"type\":\"scatter\"}],\"parcoords\":[{\"type\":\"parcoords\",\"line\":{\"colorbar\":{\"outlinewidth\":0,\"ticks\":\"\"}}}],\"scatterpolargl\":[{\"type\":\"scatterpolargl\",\"marker\":{\"colorbar\":{\"outlinewidth\":0,\"ticks\":\"\"}}}],\"bar\":[{\"error_x\":{\"color\":\"#2a3f5f\"},\"error_y\":{\"color\":\"#2a3f5f\"},\"marker\":{\"line\":{\"color\":\"#E5ECF6\",\"width\":0.5},\"pattern\":{\"fillmode\":\"overlay\",\"size\":10,\"solidity\":0.2}},\"type\":\"bar\"}],\"scattergeo\":[{\"type\":\"scattergeo\",\"marker\":{\"colorbar\":{\"outlinewidth\":0,\"ticks\":\"\"}}}],\"scatterpolar\":[{\"type\":\"scatterpolar\",\"marker\":{\"colorbar\":{\"outlinewidth\":0,\"ticks\":\"\"}}}],\"histogram\":[{\"marker\":{\"pattern\":{\"fillmode\":\"overlay\",\"size\":10,\"solidity\":0.2}},\"type\":\"histogram\"}],\"scattergl\":[{\"type\":\"scattergl\",\"marker\":{\"colorbar\":{\"outlinewidth\":0,\"ticks\":\"\"}}}],\"scatter3d\":[{\"type\":\"scatter3d\",\"line\":{\"colorbar\":{\"outlinewidth\":0,\"ticks\":\"\"}},\"marker\":{\"colorbar\":{\"outlinewidth\":0,\"ticks\":\"\"}}}],\"scattermapbox\":[{\"type\":\"scattermapbox\",\"marker\":{\"colorbar\":{\"outlinewidth\":0,\"ticks\":\"\"}}}],\"scatterternary\":[{\"type\":\"scatterternary\",\"marker\":{\"colorbar\":{\"outlinewidth\":0,\"ticks\":\"\"}}}],\"scattercarpet\":[{\"type\":\"scattercarpet\",\"marker\":{\"colorbar\":{\"outlinewidth\":0,\"ticks\":\"\"}}}],\"carpet\":[{\"aaxis\":{\"endlinecolor\":\"#2a3f5f\",\"gridcolor\":\"white\",\"linecolor\":\"white\",\"minorgridcolor\":\"white\",\"startlinecolor\":\"#2a3f5f\"},\"baxis\":{\"endlinecolor\":\"#2a3f5f\",\"gridcolor\":\"white\",\"linecolor\":\"white\",\"minorgridcolor\":\"white\",\"startlinecolor\":\"#2a3f5f\"},\"type\":\"carpet\"}],\"table\":[{\"cells\":{\"fill\":{\"color\":\"#EBF0F8\"},\"line\":{\"color\":\"white\"}},\"header\":{\"fill\":{\"color\":\"#C8D4E3\"},\"line\":{\"color\":\"white\"}},\"type\":\"table\"}],\"barpolar\":[{\"marker\":{\"line\":{\"color\":\"#E5ECF6\",\"width\":0.5},\"pattern\":{\"fillmode\":\"overlay\",\"size\":10,\"solidity\":0.2}},\"type\":\"barpolar\"}],\"pie\":[{\"automargin\":true,\"type\":\"pie\"}]},\"layout\":{\"autotypenumbers\":\"strict\",\"colorway\":[\"#636efa\",\"#EF553B\",\"#00cc96\",\"#ab63fa\",\"#FFA15A\",\"#19d3f3\",\"#FF6692\",\"#B6E880\",\"#FF97FF\",\"#FECB52\"],\"font\":{\"color\":\"#2a3f5f\"},\"hovermode\":\"closest\",\"hoverlabel\":{\"align\":\"left\"},\"paper_bgcolor\":\"white\",\"plot_bgcolor\":\"#E5ECF6\",\"polar\":{\"bgcolor\":\"#E5ECF6\",\"angularaxis\":{\"gridcolor\":\"white\",\"linecolor\":\"white\",\"ticks\":\"\"},\"radialaxis\":{\"gridcolor\":\"white\",\"linecolor\":\"white\",\"ticks\":\"\"}},\"ternary\":{\"bgcolor\":\"#E5ECF6\",\"aaxis\":{\"gridcolor\":\"white\",\"linecolor\":\"white\",\"ticks\":\"\"},\"baxis\":{\"gridcolor\":\"white\",\"linecolor\":\"white\",\"ticks\":\"\"},\"caxis\":{\"gridcolor\":\"white\",\"linecolor\":\"white\",\"ticks\":\"\"}},\"coloraxis\":{\"colorbar\":{\"outlinewidth\":0,\"ticks\":\"\"}},\"colorscale\":{\"sequential\":[[0.0,\"#0d0887\"],[0.1111111111111111,\"#46039f\"],[0.2222222222222222,\"#7201a8\"],[0.3333333333333333,\"#9c179e\"],[0.4444444444444444,\"#bd3786\"],[0.5555555555555556,\"#d8576b\"],[0.6666666666666666,\"#ed7953\"],[0.7777777777777778,\"#fb9f3a\"],[0.8888888888888888,\"#fdca26\"],[1.0,\"#f0f921\"]],\"sequentialminus\":[[0.0,\"#0d0887\"],[0.1111111111111111,\"#46039f\"],[0.2222222222222222,\"#7201a8\"],[0.3333333333333333,\"#9c179e\"],[0.4444444444444444,\"#bd3786\"],[0.5555555555555556,\"#d8576b\"],[0.6666666666666666,\"#ed7953\"],[0.7777777777777778,\"#fb9f3a\"],[0.8888888888888888,\"#fdca26\"],[1.0,\"#f0f921\"]],\"diverging\":[[0,\"#8e0152\"],[0.1,\"#c51b7d\"],[0.2,\"#de77ae\"],[0.3,\"#f1b6da\"],[0.4,\"#fde0ef\"],[0.5,\"#f7f7f7\"],[0.6,\"#e6f5d0\"],[0.7,\"#b8e186\"],[0.8,\"#7fbc41\"],[0.9,\"#4d9221\"],[1,\"#276419\"]]},\"xaxis\":{\"gridcolor\":\"white\",\"linecolor\":\"white\",\"ticks\":\"\",\"title\":{\"standoff\":15},\"zerolinecolor\":\"white\",\"automargin\":true,\"zerolinewidth\":2},\"yaxis\":{\"gridcolor\":\"white\",\"linecolor\":\"white\",\"ticks\":\"\",\"title\":{\"standoff\":15},\"zerolinecolor\":\"white\",\"automargin\":true,\"zerolinewidth\":2},\"scene\":{\"xaxis\":{\"backgroundcolor\":\"#E5ECF6\",\"gridcolor\":\"white\",\"linecolor\":\"white\",\"showbackground\":true,\"ticks\":\"\",\"zerolinecolor\":\"white\",\"gridwidth\":2},\"yaxis\":{\"backgroundcolor\":\"#E5ECF6\",\"gridcolor\":\"white\",\"linecolor\":\"white\",\"showbackground\":true,\"ticks\":\"\",\"zerolinecolor\":\"white\",\"gridwidth\":2},\"zaxis\":{\"backgroundcolor\":\"#E5ECF6\",\"gridcolor\":\"white\",\"linecolor\":\"white\",\"showbackground\":true,\"ticks\":\"\",\"zerolinecolor\":\"white\",\"gridwidth\":2}},\"shapedefaults\":{\"line\":{\"color\":\"#2a3f5f\"}},\"annotationdefaults\":{\"arrowcolor\":\"#2a3f5f\",\"arrowhead\":0,\"arrowwidth\":1},\"geo\":{\"bgcolor\":\"white\",\"landcolor\":\"#E5ECF6\",\"subunitcolor\":\"white\",\"showland\":true,\"showlakes\":true,\"lakecolor\":\"white\"},\"title\":{\"x\":0.05},\"mapbox\":{\"style\":\"light\"}}},\"xaxis\":{\"anchor\":\"y\",\"domain\":[0.0,0.57],\"showticklabels\":false,\"showgrid\":false,\"automargin\":true,\"fixedrange\":true},\"yaxis\":{\"anchor\":\"x\",\"domain\":[0.0,1.0],\"title\":{\"text\":\"Energy (eV)\"},\"showgrid\":false,\"range\":[0,null],\"tickmode\":\"array\",\"tickvals\":[0.0,0.1,0.8194521672306785,0.9427408528860437,1.0700645769253279,1.0766227522436824,1.0962733262152715,1.1],\"ticktext\":[\"0.00e+00\",\"2.39e-02\",\"1.97e+00\",\"4.19e+00\",\"9.15e+00\",\"9.52e+00\",\"1.07e+01\",\"1.10e+01\"],\"fixedrange\":true},\"xaxis2\":{\"anchor\":\"y2\",\"domain\":[0.62,1.0],\"showticklabels\":false,\"fixedrange\":true},\"yaxis2\":{\"anchor\":\"x2\",\"domain\":[0.0,1.0],\"showticklabels\":false,\"fixedrange\":true},\"title\":{\"text\":\"Grotrian Diagram for Oxygen I\",\"x\":0.5},\"plot_bgcolor\":\"white\",\"autosize\":false,\"width\":700,\"height\":700,\"showlegend\":false,\"annotations\":[{\"showarrow\":false,\"text\":\"n=0\",\"x\":1.15,\"xref\":\"x\",\"y\":0.0},{\"showarrow\":false,\"text\":\"n=1\",\"x\":1.15,\"xref\":\"x\",\"y\":0.1},{\"showarrow\":false,\"text\":\"n=2\",\"x\":1.15,\"xref\":\"x\",\"y\":0.8194521672306785},{\"showarrow\":false,\"text\":\"n=3\",\"x\":1.15,\"xref\":\"x\",\"y\":0.9427408528860437},{\"showarrow\":false,\"text\":\"n=4\",\"x\":1.15,\"xref\":\"x\",\"y\":1.0700645769253279},{\"showarrow\":false,\"text\":\"n=5\",\"x\":1.15,\"xref\":\"x\",\"y\":1.0766227522436824},{\"showarrow\":false,\"text\":\"n=6\",\"x\":1.15,\"xref\":\"x\",\"y\":1.0962733262152715},{\"showarrow\":false,\"text\":\"n=7\",\"x\":1.15,\"xref\":\"x\",\"y\":1.1},{\"showarrow\":false,\"text\":\"3.9e-04\",\"x\":0.5,\"xref\":\"x2\",\"y\":0.0,\"yref\":\"y2\"},{\"showarrow\":false,\"text\":\"1.4e-03\",\"x\":0.5,\"xref\":\"x2\",\"y\":0.1111111111111111,\"yref\":\"y2\"},{\"showarrow\":false,\"text\":\"5.3e-03\",\"x\":0.5,\"xref\":\"x2\",\"y\":0.2222222222222222,\"yref\":\"y2\"},{\"showarrow\":false,\"text\":\"2.0e-02\",\"x\":0.5,\"xref\":\"x2\",\"y\":0.3333333333333333,\"yref\":\"y2\"},{\"showarrow\":false,\"text\":\"7.3e-02\",\"x\":0.5,\"xref\":\"x2\",\"y\":0.4444444444444444,\"yref\":\"y2\"},{\"showarrow\":false,\"text\":\"2.7e-01\",\"x\":0.5,\"xref\":\"x2\",\"y\":0.5555555555555556,\"yref\":\"y2\"},{\"showarrow\":false,\"text\":\"1.0e+00\",\"x\":0.5,\"xref\":\"x2\",\"y\":0.6666666666666666,\"yref\":\"y2\"},{\"showarrow\":false,\"text\":\"3.7e+00\",\"x\":0.5,\"xref\":\"x2\",\"y\":0.7777777777777777,\"yref\":\"y2\"},{\"showarrow\":false,\"text\":\"1.4e+01\",\"x\":0.5,\"xref\":\"x2\",\"y\":0.8888888888888888,\"yref\":\"y2\"},{\"showarrow\":false,\"text\":\"5.1e+01\",\"x\":0.5,\"xref\":\"x2\",\"y\":1.0,\"yref\":\"y2\"},{\"showarrow\":false,\"text\":\"Populations\",\"x\":0.4,\"xref\":\"x2\",\"y\":-0.05,\"yref\":\"y2\"},{\"showarrow\":false,\"text\":\"7.0e+00\",\"x\":1.15,\"xref\":\"x2\",\"y\":0.0,\"yref\":\"y2\"},{\"showarrow\":false,\"text\":\"8.3e+00\",\"x\":1.15,\"xref\":\"x2\",\"y\":0.1111111111111111,\"yref\":\"y2\"},{\"showarrow\":false,\"text\":\"9.9e+00\",\"x\":1.15,\"xref\":\"x2\",\"y\":0.2222222222222222,\"yref\":\"y2\"},{\"showarrow\":false,\"text\":\"1.2e+01\",\"x\":1.15,\"xref\":\"x2\",\"y\":0.3333333333333333,\"yref\":\"y2\"},{\"showarrow\":false,\"text\":\"1.4e+01\",\"x\":1.15,\"xref\":\"x2\",\"y\":0.4444444444444444,\"yref\":\"y2\"},{\"showarrow\":false,\"text\":\"1.7e+01\",\"x\":1.15,\"xref\":\"x2\",\"y\":0.5555555555555556,\"yref\":\"y2\"},{\"showarrow\":false,\"text\":\"2.0e+01\",\"x\":1.15,\"xref\":\"x2\",\"y\":0.6666666666666666,\"yref\":\"y2\"},{\"showarrow\":false,\"text\":\"2.3e+01\",\"x\":1.15,\"xref\":\"x2\",\"y\":0.7777777777777777,\"yref\":\"y2\"},{\"showarrow\":false,\"text\":\"2.8e+01\",\"x\":1.15,\"xref\":\"x2\",\"y\":0.8888888888888888,\"yref\":\"y2\"},{\"showarrow\":false,\"text\":\"3.3e+01\",\"x\":1.15,\"xref\":\"x2\",\"y\":1.0,\"yref\":\"y2\"},{\"showarrow\":false,\"text\":\"#Packets\",\"x\":0.95,\"xref\":\"x2\",\"y\":-0.05,\"yref\":\"y2\"}],\"shapes\":[{\"line\":{\"width\":1.0},\"type\":\"line\",\"x0\":0.1,\"x1\":0.3,\"xref\":\"x2\",\"y0\":0.0,\"y1\":0.0,\"yref\":\"y2\"},{\"line\":{\"width\":1.3333333333333333},\"type\":\"line\",\"x0\":0.1,\"x1\":0.3,\"xref\":\"x2\",\"y0\":0.1111111111111111,\"y1\":0.1111111111111111,\"yref\":\"y2\"},{\"line\":{\"width\":1.6666666666666665},\"type\":\"line\",\"x0\":0.1,\"x1\":0.3,\"xref\":\"x2\",\"y0\":0.2222222222222222,\"y1\":0.2222222222222222,\"yref\":\"y2\"},{\"line\":{\"width\":2.0},\"type\":\"line\",\"x0\":0.1,\"x1\":0.3,\"xref\":\"x2\",\"y0\":0.3333333333333333,\"y1\":0.3333333333333333,\"yref\":\"y2\"},{\"line\":{\"width\":2.333333333333333},\"type\":\"line\",\"x0\":0.1,\"x1\":0.3,\"xref\":\"x2\",\"y0\":0.4444444444444444,\"y1\":0.4444444444444444,\"yref\":\"y2\"},{\"line\":{\"width\":2.6666666666666665},\"type\":\"line\",\"x0\":0.1,\"x1\":0.3,\"xref\":\"x2\",\"y0\":0.5555555555555556,\"y1\":0.5555555555555556,\"yref\":\"y2\"},{\"line\":{\"width\":3.0},\"type\":\"line\",\"x0\":0.1,\"x1\":0.3,\"xref\":\"x2\",\"y0\":0.6666666666666666,\"y1\":0.6666666666666666,\"yref\":\"y2\"},{\"line\":{\"width\":3.333333333333333},\"type\":\"line\",\"x0\":0.1,\"x1\":0.3,\"xref\":\"x2\",\"y0\":0.7777777777777777,\"y1\":0.7777777777777777,\"yref\":\"y2\"},{\"line\":{\"width\":3.6666666666666665},\"type\":\"line\",\"x0\":0.1,\"x1\":0.3,\"xref\":\"x2\",\"y0\":0.8888888888888888,\"y1\":0.8888888888888888,\"yref\":\"y2\"},{\"line\":{\"width\":4.0},\"type\":\"line\",\"x0\":0.1,\"x1\":0.3,\"xref\":\"x2\",\"y0\":1.0,\"y1\":1.0,\"yref\":\"y2\"},{\"line\":{\"color\":\"grey\",\"dash\":\"dash\",\"width\":0.5},\"type\":\"line\",\"x0\":0.7,\"x1\":0.7,\"xref\":\"x2\",\"y0\":0,\"y1\":1,\"yref\":\"y2\"},{\"line\":{\"width\":1.0},\"type\":\"line\",\"x0\":0.75,\"x1\":0.95,\"xref\":\"x2\",\"y0\":0.0,\"y1\":0.0,\"yref\":\"y2\"},{\"line\":{\"width\":1.2222222222222223},\"type\":\"line\",\"x0\":0.75,\"x1\":0.95,\"xref\":\"x2\",\"y0\":0.1111111111111111,\"y1\":0.1111111111111111,\"yref\":\"y2\"},{\"line\":{\"width\":1.4444444444444444},\"type\":\"line\",\"x0\":0.75,\"x1\":0.95,\"xref\":\"x2\",\"y0\":0.2222222222222222,\"y1\":0.2222222222222222,\"yref\":\"y2\"},{\"line\":{\"width\":1.6666666666666665},\"type\":\"line\",\"x0\":0.75,\"x1\":0.95,\"xref\":\"x2\",\"y0\":0.3333333333333333,\"y1\":0.3333333333333333,\"yref\":\"y2\"},{\"line\":{\"width\":1.8888888888888888},\"type\":\"line\",\"x0\":0.75,\"x1\":0.95,\"xref\":\"x2\",\"y0\":0.4444444444444444,\"y1\":0.4444444444444444,\"yref\":\"y2\"},{\"line\":{\"width\":2.111111111111111},\"type\":\"line\",\"x0\":0.75,\"x1\":0.95,\"xref\":\"x2\",\"y0\":0.5555555555555556,\"y1\":0.5555555555555556,\"yref\":\"y2\"},{\"line\":{\"width\":2.333333333333333},\"type\":\"line\",\"x0\":0.75,\"x1\":0.95,\"xref\":\"x2\",\"y0\":0.6666666666666666,\"y1\":0.6666666666666666,\"yref\":\"y2\"},{\"line\":{\"width\":2.5555555555555554},\"type\":\"line\",\"x0\":0.75,\"x1\":0.95,\"xref\":\"x2\",\"y0\":0.7777777777777777,\"y1\":0.7777777777777777,\"yref\":\"y2\"},{\"line\":{\"width\":2.7777777777777777},\"type\":\"line\",\"x0\":0.75,\"x1\":0.95,\"xref\":\"x2\",\"y0\":0.8888888888888888,\"y1\":0.8888888888888888,\"yref\":\"y2\"},{\"line\":{\"width\":3.0},\"type\":\"line\",\"x0\":0.75,\"x1\":0.95,\"xref\":\"x2\",\"y0\":1.0,\"y1\":1.0,\"yref\":\"y2\"}]},                        {\"responsive\": true}                    ).then(function(){\n",
       "                            \n",
       "var gd = document.getElementById('c9ace67a-894f-4a8e-a236-3750404a2bc1');\n",
       "var x = new MutationObserver(function (mutations, observer) {{\n",
       "        var display = window.getComputedStyle(gd).display;\n",
       "        if (!display || display === 'none') {{\n",
       "            console.log([gd, 'removed!']);\n",
       "            Plotly.purge(gd);\n",
       "            observer.disconnect();\n",
       "        }}\n",
       "}});\n",
       "\n",
       "// Listen for the removal of the full notebook cells\n",
       "var notebookContainer = gd.closest('#notebook-container');\n",
       "if (notebookContainer) {{\n",
       "    x.observe(notebookContainer, {childList: true});\n",
       "}}\n",
       "\n",
       "// Listen for the clearing of the current output cell\n",
       "var outputEl = gd.closest('.output');\n",
       "if (outputEl) {{\n",
       "    x.observe(outputEl, {childList: true});\n",
       "}}\n",
       "\n",
       "                        })                };                });            </script>        </div>"
      ]
     },
     "metadata": {},
     "output_type": "display_data"
    }
   ],
   "source": [
    "diag = GrotrianWidget.from_simulation(sim)\n",
    "diag.set_ion(8, 0) # O I\n",
    "diag.display()"
   ]
  },
  {
   "cell_type": "code",
   "execution_count": 5,
   "metadata": {},
   "outputs": [
    {
     "data": {
      "application/vnd.plotly.v1+json": {
       "config": {
        "plotlyServerURL": "https://plot.ly"
       },
       "data": [
        {
         "hovertemplate": "Energy: 0.00e+00 eV<br>Population: 2.24e+03<extra></extra>",
         "line": {
          "color": "black",
          "width": 3.8108661902454637
         },
         "mode": "lines",
         "showlegend": false,
         "type": "scatter",
         "x": [
          -0.05,
          0.07222222222222223,
          0.19444444444444448,
          0.3166666666666667,
          0.43888888888888894,
          0.5611111111111111,
          0.6833333333333333,
          0.8055555555555556,
          0.9277777777777778,
          1.05
         ],
         "xaxis": "x",
         "y": [
          0,
          0,
          0,
          0,
          0,
          0,
          0,
          0,
          0,
          0
         ],
         "yaxis": "y"
        },
        {
         "hovertemplate": "Energy: 3.56e-02 eV<br>Population: 4.31e+03<extra></extra>",
         "line": {
          "color": "black",
          "width": 4
         },
         "mode": "lines",
         "showlegend": false,
         "type": "scatter",
         "x": [
          -0.05,
          0.07222222222222223,
          0.19444444444444448,
          0.3166666666666667,
          0.43888888888888894,
          0.5611111111111111,
          0.6833333333333333,
          0.8055555555555556,
          0.9277777777777778,
          1.05
         ],
         "xaxis": "x",
         "y": [
          0.1,
          0.1,
          0.1,
          0.1,
          0.1,
          0.1,
          0.1,
          0.1,
          0.1,
          0.1
         ],
         "yaxis": "y"
        },
        {
         "hovertemplate": "Energy: 5.33e+00 eV<br>Population: 5.63e+01<extra></extra>",
         "line": {
          "color": "black",
          "width": 2.7501715714693473
         },
         "mode": "lines",
         "showlegend": false,
         "type": "scatter",
         "x": [
          -0.05,
          0.07222222222222223,
          0.19444444444444448,
          0.3166666666666667,
          0.43888888888888894,
          0.5611111111111111,
          0.6833333333333333,
          0.8055555555555556,
          0.9277777777777778,
          1.05
         ],
         "xaxis": "x",
         "y": [
          0.9908460575895421,
          0.9908460575895421,
          0.9908460575895421,
          0.9908460575895421,
          0.9908460575895421,
          0.9908460575895421,
          0.9908460575895421,
          0.9908460575895421,
          0.9908460575895421,
          0.9908460575895421
         ],
         "yaxis": "y"
        },
        {
         "hovertemplate": "Energy: 6.86e+00 eV<br>Population: 9.78e+00<extra></extra>",
         "line": {
          "color": "black",
          "width": 2.2460856216624014
         },
         "mode": "lines",
         "showlegend": false,
         "type": "scatter",
         "x": [
          -0.05,
          0.07222222222222223,
          0.19444444444444448,
          0.3166666666666667,
          0.43888888888888894,
          0.5611111111111111,
          0.6833333333333333,
          0.8055555555555556,
          0.9277777777777778,
          1.05
         ],
         "xaxis": "x",
         "y": [
          1.035842708790352,
          1.035842708790352,
          1.035842708790352,
          1.035842708790352,
          1.035842708790352,
          1.035842708790352,
          1.035842708790352,
          1.035842708790352,
          1.035842708790352,
          1.035842708790352
         ],
         "yaxis": "y"
        },
        {
         "hovertemplate": "Energy: 8.12e+00 eV<br>Population: 5.35e-01<extra></extra>",
         "line": {
          "color": "black",
          "width": 1.409238362960783
         },
         "mode": "lines",
         "showlegend": false,
         "type": "scatter",
         "x": [
          -0.05,
          0.07222222222222223,
          0.19444444444444448,
          0.3166666666666667,
          0.43888888888888894,
          0.5611111111111111,
          0.6833333333333333,
          0.8055555555555556,
          0.9277777777777778,
          1.05
         ],
         "xaxis": "x",
         "y": [
          1.065902737620044,
          1.065902737620044,
          1.065902737620044,
          1.065902737620044,
          1.065902737620044,
          1.065902737620044,
          1.065902737620044,
          1.065902737620044,
          1.065902737620044,
          1.065902737620044
         ],
         "yaxis": "y"
        },
        {
         "hovertemplate": "Energy: 9.51e+00 eV<br>Population: 1.29e-01<extra></extra>",
         "line": {
          "color": "black",
          "width": 1
         },
         "mode": "lines",
         "showlegend": false,
         "type": "scatter",
         "x": [
          -0.05,
          0.07222222222222223,
          0.19444444444444448,
          0.3166666666666667,
          0.43888888888888894,
          0.5611111111111111,
          0.6833333333333333,
          0.8055555555555556,
          0.9277777777777778,
          1.05
         ],
         "xaxis": "x",
         "y": [
          1.0939027427498986,
          1.0939027427498986,
          1.0939027427498986,
          1.0939027427498986,
          1.0939027427498986,
          1.0939027427498986,
          1.0939027427498986,
          1.0939027427498986,
          1.0939027427498986,
          1.0939027427498986
         ],
         "yaxis": "y"
        },
        {
         "hovertemplate": "Energy: 9.84e+00 eV<br>Population: 3.68e-01<extra></extra>",
         "line": {
          "color": "black",
          "width": 1.3013609655139131
         },
         "mode": "lines",
         "showlegend": false,
         "type": "scatter",
         "x": [
          -0.05,
          0.07222222222222223,
          0.19444444444444448,
          0.3166666666666667,
          0.43888888888888894,
          0.5611111111111111,
          0.6833333333333333,
          0.8055555555555556,
          0.9277777777777778,
          1.05
         ],
         "xaxis": "x",
         "y": [
          1.1,
          1.1,
          1.1,
          1.1,
          1.1,
          1.1,
          1.1,
          1.1,
          1.1,
          1.1
         ],
         "yaxis": "y"
        },
        {
         "hovertemplate": "Count: 230<br>Wavelength: 1.81e+03 Å<extra></extra>",
         "line": {
          "color": "#ff0905",
          "width": 2.5182224041500563
         },
         "marker": {
          "angleref": "previous",
          "color": "#ff0905",
          "size": 9,
          "symbol": "arrow-bar-up"
         },
         "type": "scatter",
         "x": [
          0,
          0.697231041675857
         ],
         "xaxis": "x",
         "y": [
          0,
          1.035842708790352
         ],
         "yaxis": "y"
        },
        {
         "hovertemplate": "Count: 234<br>Wavelength: 1.53e+03 Å<extra></extra>",
         "line": {
          "color": "#8cfead",
          "width": 2.524682988103575
         },
         "marker": {
          "angleref": "previous",
          "color": "#8cfead",
          "size": 9,
          "symbol": "arrow-bar-up"
         },
         "type": "scatter",
         "x": [
          0,
          0.8255824095489577
         ],
         "xaxis": "x",
         "y": [
          0,
          1.065902737620044
         ],
         "yaxis": "y"
        },
        {
         "hovertemplate": "Count: 48<br>Wavelength: 1.30e+03 Å<extra></extra>",
         "line": {
          "color": "#5247fc",
          "width": 1.9311059191270639
         },
         "marker": {
          "angleref": "previous",
          "color": "#5247fc",
          "size": 9,
          "symbol": "arrow-bar-up"
         },
         "type": "scatter",
         "x": [
          0,
          0.9663070262230818
         ],
         "xaxis": "x",
         "y": [
          0,
          1.0939027427498986
         ],
         "yaxis": "y"
        },
        {
         "hovertemplate": "Count: 51<br>Wavelength: 1.26e+03 Å<extra></extra>",
         "line": {
          "color": "#8000ff",
          "width": 1.9538222429869312
         },
         "marker": {
          "angleref": "previous",
          "color": "#8000ff",
          "size": 9,
          "symbol": "arrow-bar-up"
         },
         "type": "scatter",
         "x": [
          0,
          1
         ],
         "xaxis": "x",
         "y": [
          0,
          1.1
         ],
         "yaxis": "y"
        },
        {
         "hovertemplate": "Count: 683<br>Wavelength: 1.82e+03 Å<extra></extra>",
         "line": {
          "color": "#ff0000",
          "width": 2.92605670318273
         },
         "marker": {
          "angleref": "previous",
          "color": "#ff0000",
          "size": 9,
          "symbol": "arrow-bar-up"
         },
         "type": "scatter",
         "x": [
          0,
          0.6961309029103393
         ],
         "xaxis": "x",
         "y": [
          0.1,
          1.035842708790352
         ],
         "yaxis": "y"
        },
        {
         "hovertemplate": "Count: 434<br>Wavelength: 1.53e+03 Å<extra></extra>",
         "line": {
          "color": "#92fda9",
          "width": 2.7561467864011115
         },
         "marker": {
          "angleref": "previous",
          "color": "#92fda9",
          "size": 9,
          "symbol": "arrow-bar-up"
         },
         "type": "scatter",
         "x": [
          0,
          0.8249486472448381
         ],
         "xaxis": "x",
         "y": [
          0.1,
          1.065902737620044
         ],
         "yaxis": "y"
        },
        {
         "hovertemplate": "Count: 42<br>Wavelength: 1.31e+03 Å<extra></extra>",
         "line": {
          "color": "#4c50fc",
          "width": 1.8810710938459696
         },
         "marker": {
          "angleref": "previous",
          "color": "#4c50fc",
          "size": 9,
          "symbol": "arrow-bar-up"
         },
         "type": "scatter",
         "x": [
          0,
          0.9661845997141599
         ],
         "xaxis": "x",
         "y": [
          0.1,
          1.0939027427498986
         ],
         "yaxis": "y"
        },
        {
         "hovertemplate": "Count: 119<br>Wavelength: 1.27e+03 Å<extra></extra>",
         "line": {
          "color": "#7c06ff",
          "width": 2.271308637551302
         },
         "marker": {
          "angleref": "previous",
          "color": "#7c06ff",
          "size": 9,
          "symbol": "arrow-bar-up"
         },
         "type": "scatter",
         "x": [
          0,
          1
         ],
         "xaxis": "x",
         "y": [
          0.1,
          1.1
         ],
         "yaxis": "y"
        },
        {
         "hovertemplate": "Count: 239<br>Wavelength: 1.81e+03 Å<extra></extra>",
         "line": {
          "color": "#ff0905",
          "width": 2.5326051560612006
         },
         "marker": {
          "angleref": "previous",
          "color": "#ff0905",
          "size": 9,
          "symbol": "arrow-bar-up"
         },
         "type": "scatter",
         "x": [
          0,
          0.697231041675857
         ],
         "xaxis": "x",
         "y": [
          1.035842708790352,
          0
         ],
         "yaxis": "y"
        },
        {
         "hovertemplate": "Count: 101<br>Wavelength: 1.53e+03 Å<extra></extra>",
         "line": {
          "color": "#8cfead",
          "width": 2.20985597011499
         },
         "marker": {
          "angleref": "previous",
          "color": "#8cfead",
          "size": 9,
          "symbol": "arrow-bar-up"
         },
         "type": "scatter",
         "x": [
          0,
          0.8255824095489577
         ],
         "xaxis": "x",
         "y": [
          1.065902737620044,
          0
         ],
         "yaxis": "y"
        },
        {
         "hovertemplate": "Count: 10<br>Wavelength: 1.30e+03 Å<extra></extra>",
         "line": {
          "color": "#5247fc",
          "width": 1.3433383399581964
         },
         "marker": {
          "angleref": "previous",
          "color": "#5247fc",
          "size": 9,
          "symbol": "arrow-bar-up"
         },
         "type": "scatter",
         "x": [
          0,
          0.9663070262230818
         ],
         "xaxis": "x",
         "y": [
          1.0939027427498986,
          0
         ],
         "yaxis": "y"
        },
        {
         "hovertemplate": "Count: 24<br>Wavelength: 1.26e+03 Å<extra></extra>",
         "line": {
          "color": "#8000ff",
          "width": 1.671380491332558
         },
         "marker": {
          "angleref": "previous",
          "color": "#8000ff",
          "size": 9,
          "symbol": "arrow-bar-up"
         },
         "type": "scatter",
         "x": [
          0,
          1
         ],
         "xaxis": "x",
         "y": [
          1.1,
          0
         ],
         "yaxis": "y"
        },
        {
         "hovertemplate": "Count: 464<br>Wavelength: 1.82e+03 Å<extra></extra>",
         "line": {
          "color": "#ff0000",
          "width": 2.7811920477661003
         },
         "marker": {
          "angleref": "previous",
          "color": "#ff0000",
          "size": 9,
          "symbol": "arrow-bar-up"
         },
         "type": "scatter",
         "x": [
          0,
          0.6961309029103393
         ],
         "xaxis": "x",
         "y": [
          1.035842708790352,
          0.1
         ],
         "yaxis": "y"
        },
        {
         "hovertemplate": "Count: 832<br>Wavelength: 1.53e+03 Å<extra></extra>",
         "line": {
          "color": "#92fda9",
          "width": 3
         },
         "marker": {
          "angleref": "previous",
          "color": "#92fda9",
          "size": 9,
          "symbol": "arrow-bar-up"
         },
         "type": "scatter",
         "x": [
          0,
          0.8249486472448381
         ],
         "xaxis": "x",
         "y": [
          1.065902737620044,
          0.1
         ],
         "yaxis": "y"
        },
        {
         "hovertemplate": "Count: 4<br>Wavelength: 1.31e+03 Å<extra></extra>",
         "line": {
          "color": "#4c50fc",
          "width": 1
         },
         "marker": {
          "angleref": "previous",
          "color": "#4c50fc",
          "size": 9,
          "symbol": "arrow-bar-up"
         },
         "type": "scatter",
         "x": [
          0,
          0.9661845997141599
         ],
         "xaxis": "x",
         "y": [
          1.0939027427498986,
          0.1
         ],
         "yaxis": "y"
        },
        {
         "hovertemplate": "Count: 120<br>Wavelength: 1.27e+03 Å<extra></extra>",
         "line": {
          "color": "#7c06ff",
          "width": 2.2744442590852603
         },
         "marker": {
          "angleref": "previous",
          "color": "#7c06ff",
          "size": 9,
          "symbol": "arrow-bar-up"
         },
         "type": "scatter",
         "x": [
          0,
          1
         ],
         "xaxis": "x",
         "y": [
          1.1,
          0.1
         ],
         "yaxis": "y"
        },
        {
         "hoverinfo": "none",
         "marker": {
          "cmax": 3.2594002187296263,
          "cmin": 3.100515974948818,
          "colorbar": {
           "outlinewidth": 0,
           "thickness": 5,
           "ticktext": [
            "1.3e+03",
            "1.3e+03",
            "1.4e+03",
            "1.4e+03",
            "1.5e+03",
            "1.5e+03",
            "1.6e+03",
            "1.7e+03",
            "1.7e+03",
            "1.8e+03"
           ],
           "tickvals": [
            3.100515974948818,
            3.118169779813352,
            3.1358235846778864,
            3.1534773895424206,
            3.171131194406955,
            3.188784999271489,
            3.2064388041360234,
            3.2240926090005577,
            3.241746413865092,
            3.2594002187296263
           ],
           "title": {
            "font": {
             "size": 12
            },
            "text": "Wavelength (Å)"
           }
          },
          "colorscale": [
           [
            0,
            "rgb(150,0,90)"
           ],
           [
            0.125,
            "rgb(0,0,200)"
           ],
           [
            0.25,
            "rgb(0,25,255)"
           ],
           [
            0.375,
            "rgb(0,152,255)"
           ],
           [
            0.5,
            "rgb(44,255,150)"
           ],
           [
            0.625,
            "rgb(151,255,0)"
           ],
           [
            0.75,
            "rgb(255,234,0)"
           ],
           [
            0.875,
            "rgb(255,111,0)"
           ],
           [
            1,
            "rgb(255,0,0)"
           ]
          ],
          "showscale": true
         },
         "mode": "markers",
         "type": "scatter",
         "x": [
          null
         ],
         "xaxis": "x2",
         "y": [
          null
         ],
         "yaxis": "y2"
        }
       ],
       "layout": {
        "annotations": [
         {
          "showarrow": false,
          "text": "n=0",
          "x": 1.15,
          "xref": "x",
          "y": 0
         },
         {
          "showarrow": false,
          "text": "n=1",
          "x": 1.15,
          "xref": "x",
          "y": 0.1
         },
         {
          "showarrow": false,
          "text": "n=2",
          "x": 1.15,
          "xref": "x",
          "y": 0.9908460575895421
         },
         {
          "showarrow": false,
          "text": "n=3",
          "x": 1.15,
          "xref": "x",
          "y": 1.035842708790352
         },
         {
          "showarrow": false,
          "text": "n=4",
          "x": 1.15,
          "xref": "x",
          "y": 1.065902737620044
         },
         {
          "showarrow": false,
          "text": "n=5",
          "x": 1.15,
          "xref": "x",
          "y": 1.0939027427498986
         },
         {
          "showarrow": false,
          "text": "n=6",
          "x": 1.15,
          "xref": "x",
          "y": 1.1
         },
         {
          "showarrow": false,
          "text": "1.3e-01",
          "x": 0.5,
          "xref": "x2",
          "y": 0,
          "yref": "y2"
         },
         {
          "showarrow": false,
          "text": "4.1e-01",
          "x": 0.5,
          "xref": "x2",
          "y": 0.1111111111111111,
          "yref": "y2"
         },
         {
          "showarrow": false,
          "text": "1.3e+00",
          "x": 0.5,
          "xref": "x2",
          "y": 0.2222222222222222,
          "yref": "y2"
         },
         {
          "showarrow": false,
          "text": "4.2e+00",
          "x": 0.5,
          "xref": "x2",
          "y": 0.3333333333333333,
          "yref": "y2"
         },
         {
          "showarrow": false,
          "text": "1.3e+01",
          "x": 0.5,
          "xref": "x2",
          "y": 0.4444444444444444,
          "yref": "y2"
         },
         {
          "showarrow": false,
          "text": "4.2e+01",
          "x": 0.5,
          "xref": "x2",
          "y": 0.5555555555555556,
          "yref": "y2"
         },
         {
          "showarrow": false,
          "text": "1.3e+02",
          "x": 0.5,
          "xref": "x2",
          "y": 0.6666666666666666,
          "yref": "y2"
         },
         {
          "showarrow": false,
          "text": "4.3e+02",
          "x": 0.5,
          "xref": "x2",
          "y": 0.7777777777777777,
          "yref": "y2"
         },
         {
          "showarrow": false,
          "text": "1.4e+03",
          "x": 0.5,
          "xref": "x2",
          "y": 0.8888888888888888,
          "yref": "y2"
         },
         {
          "showarrow": false,
          "text": "4.3e+03",
          "x": 0.5,
          "xref": "x2",
          "y": 1,
          "yref": "y2"
         },
         {
          "showarrow": false,
          "text": "Populations",
          "x": 0.4,
          "xref": "x2",
          "y": -0.05,
          "yref": "y2"
         },
         {
          "showarrow": false,
          "text": "4.0e+00",
          "x": 1.15,
          "xref": "x2",
          "y": 0,
          "yref": "y2"
         },
         {
          "showarrow": false,
          "text": "7.2e+00",
          "x": 1.15,
          "xref": "x2",
          "y": 0.1111111111111111,
          "yref": "y2"
         },
         {
          "showarrow": false,
          "text": "1.3e+01",
          "x": 1.15,
          "xref": "x2",
          "y": 0.2222222222222222,
          "yref": "y2"
         },
         {
          "showarrow": false,
          "text": "2.4e+01",
          "x": 1.15,
          "xref": "x2",
          "y": 0.3333333333333333,
          "yref": "y2"
         },
         {
          "showarrow": false,
          "text": "4.3e+01",
          "x": 1.15,
          "xref": "x2",
          "y": 0.4444444444444444,
          "yref": "y2"
         },
         {
          "showarrow": false,
          "text": "7.8e+01",
          "x": 1.15,
          "xref": "x2",
          "y": 0.5555555555555556,
          "yref": "y2"
         },
         {
          "showarrow": false,
          "text": "1.4e+02",
          "x": 1.15,
          "xref": "x2",
          "y": 0.6666666666666666,
          "yref": "y2"
         },
         {
          "showarrow": false,
          "text": "2.5e+02",
          "x": 1.15,
          "xref": "x2",
          "y": 0.7777777777777777,
          "yref": "y2"
         },
         {
          "showarrow": false,
          "text": "4.6e+02",
          "x": 1.15,
          "xref": "x2",
          "y": 0.8888888888888888,
          "yref": "y2"
         },
         {
          "showarrow": false,
          "text": "8.3e+02",
          "x": 1.15,
          "xref": "x2",
          "y": 1,
          "yref": "y2"
         },
         {
          "showarrow": false,
          "text": "#Packets",
          "x": 0.95,
          "xref": "x2",
          "y": -0.05,
          "yref": "y2"
         }
        ],
        "autosize": false,
        "height": 700,
        "plot_bgcolor": "white",
        "shapes": [
         {
          "line": {
           "width": 1
          },
          "type": "line",
          "x0": 0.1,
          "x1": 0.3,
          "xref": "x2",
          "y0": 0,
          "y1": 0,
          "yref": "y2"
         },
         {
          "line": {
           "width": 1.3333333333333333
          },
          "type": "line",
          "x0": 0.1,
          "x1": 0.3,
          "xref": "x2",
          "y0": 0.1111111111111111,
          "y1": 0.1111111111111111,
          "yref": "y2"
         },
         {
          "line": {
           "width": 1.6666666666666665
          },
          "type": "line",
          "x0": 0.1,
          "x1": 0.3,
          "xref": "x2",
          "y0": 0.2222222222222222,
          "y1": 0.2222222222222222,
          "yref": "y2"
         },
         {
          "line": {
           "width": 2
          },
          "type": "line",
          "x0": 0.1,
          "x1": 0.3,
          "xref": "x2",
          "y0": 0.3333333333333333,
          "y1": 0.3333333333333333,
          "yref": "y2"
         },
         {
          "line": {
           "width": 2.333333333333333
          },
          "type": "line",
          "x0": 0.1,
          "x1": 0.3,
          "xref": "x2",
          "y0": 0.4444444444444444,
          "y1": 0.4444444444444444,
          "yref": "y2"
         },
         {
          "line": {
           "width": 2.6666666666666665
          },
          "type": "line",
          "x0": 0.1,
          "x1": 0.3,
          "xref": "x2",
          "y0": 0.5555555555555556,
          "y1": 0.5555555555555556,
          "yref": "y2"
         },
         {
          "line": {
           "width": 3
          },
          "type": "line",
          "x0": 0.1,
          "x1": 0.3,
          "xref": "x2",
          "y0": 0.6666666666666666,
          "y1": 0.6666666666666666,
          "yref": "y2"
         },
         {
          "line": {
           "width": 3.333333333333333
          },
          "type": "line",
          "x0": 0.1,
          "x1": 0.3,
          "xref": "x2",
          "y0": 0.7777777777777777,
          "y1": 0.7777777777777777,
          "yref": "y2"
         },
         {
          "line": {
           "width": 3.6666666666666665
          },
          "type": "line",
          "x0": 0.1,
          "x1": 0.3,
          "xref": "x2",
          "y0": 0.8888888888888888,
          "y1": 0.8888888888888888,
          "yref": "y2"
         },
         {
          "line": {
           "width": 4
          },
          "type": "line",
          "x0": 0.1,
          "x1": 0.3,
          "xref": "x2",
          "y0": 1,
          "y1": 1,
          "yref": "y2"
         },
         {
          "line": {
           "color": "grey",
           "dash": "dash",
           "width": 0.5
          },
          "type": "line",
          "x0": 0.7,
          "x1": 0.7,
          "xref": "x2",
          "y0": 0,
          "y1": 1,
          "yref": "y2"
         },
         {
          "line": {
           "width": 1
          },
          "type": "line",
          "x0": 0.75,
          "x1": 0.95,
          "xref": "x2",
          "y0": 0,
          "y1": 0,
          "yref": "y2"
         },
         {
          "line": {
           "width": 1.2222222222222223
          },
          "type": "line",
          "x0": 0.75,
          "x1": 0.95,
          "xref": "x2",
          "y0": 0.1111111111111111,
          "y1": 0.1111111111111111,
          "yref": "y2"
         },
         {
          "line": {
           "width": 1.4444444444444444
          },
          "type": "line",
          "x0": 0.75,
          "x1": 0.95,
          "xref": "x2",
          "y0": 0.2222222222222222,
          "y1": 0.2222222222222222,
          "yref": "y2"
         },
         {
          "line": {
           "width": 1.6666666666666665
          },
          "type": "line",
          "x0": 0.75,
          "x1": 0.95,
          "xref": "x2",
          "y0": 0.3333333333333333,
          "y1": 0.3333333333333333,
          "yref": "y2"
         },
         {
          "line": {
           "width": 1.8888888888888888
          },
          "type": "line",
          "x0": 0.75,
          "x1": 0.95,
          "xref": "x2",
          "y0": 0.4444444444444444,
          "y1": 0.4444444444444444,
          "yref": "y2"
         },
         {
          "line": {
           "width": 2.111111111111111
          },
          "type": "line",
          "x0": 0.75,
          "x1": 0.95,
          "xref": "x2",
          "y0": 0.5555555555555556,
          "y1": 0.5555555555555556,
          "yref": "y2"
         },
         {
          "line": {
           "width": 2.333333333333333
          },
          "type": "line",
          "x0": 0.75,
          "x1": 0.95,
          "xref": "x2",
          "y0": 0.6666666666666666,
          "y1": 0.6666666666666666,
          "yref": "y2"
         },
         {
          "line": {
           "width": 2.5555555555555554
          },
          "type": "line",
          "x0": 0.75,
          "x1": 0.95,
          "xref": "x2",
          "y0": 0.7777777777777777,
          "y1": 0.7777777777777777,
          "yref": "y2"
         },
         {
          "line": {
           "width": 2.7777777777777777
          },
          "type": "line",
          "x0": 0.75,
          "x1": 0.95,
          "xref": "x2",
          "y0": 0.8888888888888888,
          "y1": 0.8888888888888888,
          "yref": "y2"
         },
         {
          "line": {
           "width": 3
          },
          "type": "line",
          "x0": 0.75,
          "x1": 0.95,
          "xref": "x2",
          "y0": 1,
          "y1": 1,
          "yref": "y2"
         }
        ],
        "showlegend": false,
        "template": {
         "data": {
          "bar": [
           {
            "error_x": {
             "color": "#2a3f5f"
            },
            "error_y": {
             "color": "#2a3f5f"
            },
            "marker": {
             "line": {
              "color": "#E5ECF6",
              "width": 0.5
             },
             "pattern": {
              "fillmode": "overlay",
              "size": 10,
              "solidity": 0.2
             }
            },
            "type": "bar"
           }
          ],
          "barpolar": [
           {
            "marker": {
             "line": {
              "color": "#E5ECF6",
              "width": 0.5
             },
             "pattern": {
              "fillmode": "overlay",
              "size": 10,
              "solidity": 0.2
             }
            },
            "type": "barpolar"
           }
          ],
          "carpet": [
           {
            "aaxis": {
             "endlinecolor": "#2a3f5f",
             "gridcolor": "white",
             "linecolor": "white",
             "minorgridcolor": "white",
             "startlinecolor": "#2a3f5f"
            },
            "baxis": {
             "endlinecolor": "#2a3f5f",
             "gridcolor": "white",
             "linecolor": "white",
             "minorgridcolor": "white",
             "startlinecolor": "#2a3f5f"
            },
            "type": "carpet"
           }
          ],
          "choropleth": [
           {
            "colorbar": {
             "outlinewidth": 0,
             "ticks": ""
            },
            "type": "choropleth"
           }
          ],
          "contour": [
           {
            "colorbar": {
             "outlinewidth": 0,
             "ticks": ""
            },
            "colorscale": [
             [
              0,
              "#0d0887"
             ],
             [
              0.1111111111111111,
              "#46039f"
             ],
             [
              0.2222222222222222,
              "#7201a8"
             ],
             [
              0.3333333333333333,
              "#9c179e"
             ],
             [
              0.4444444444444444,
              "#bd3786"
             ],
             [
              0.5555555555555556,
              "#d8576b"
             ],
             [
              0.6666666666666666,
              "#ed7953"
             ],
             [
              0.7777777777777778,
              "#fb9f3a"
             ],
             [
              0.8888888888888888,
              "#fdca26"
             ],
             [
              1,
              "#f0f921"
             ]
            ],
            "type": "contour"
           }
          ],
          "contourcarpet": [
           {
            "colorbar": {
             "outlinewidth": 0,
             "ticks": ""
            },
            "type": "contourcarpet"
           }
          ],
          "heatmap": [
           {
            "colorbar": {
             "outlinewidth": 0,
             "ticks": ""
            },
            "colorscale": [
             [
              0,
              "#0d0887"
             ],
             [
              0.1111111111111111,
              "#46039f"
             ],
             [
              0.2222222222222222,
              "#7201a8"
             ],
             [
              0.3333333333333333,
              "#9c179e"
             ],
             [
              0.4444444444444444,
              "#bd3786"
             ],
             [
              0.5555555555555556,
              "#d8576b"
             ],
             [
              0.6666666666666666,
              "#ed7953"
             ],
             [
              0.7777777777777778,
              "#fb9f3a"
             ],
             [
              0.8888888888888888,
              "#fdca26"
             ],
             [
              1,
              "#f0f921"
             ]
            ],
            "type": "heatmap"
           }
          ],
          "heatmapgl": [
           {
            "colorbar": {
             "outlinewidth": 0,
             "ticks": ""
            },
            "colorscale": [
             [
              0,
              "#0d0887"
             ],
             [
              0.1111111111111111,
              "#46039f"
             ],
             [
              0.2222222222222222,
              "#7201a8"
             ],
             [
              0.3333333333333333,
              "#9c179e"
             ],
             [
              0.4444444444444444,
              "#bd3786"
             ],
             [
              0.5555555555555556,
              "#d8576b"
             ],
             [
              0.6666666666666666,
              "#ed7953"
             ],
             [
              0.7777777777777778,
              "#fb9f3a"
             ],
             [
              0.8888888888888888,
              "#fdca26"
             ],
             [
              1,
              "#f0f921"
             ]
            ],
            "type": "heatmapgl"
           }
          ],
          "histogram": [
           {
            "marker": {
             "pattern": {
              "fillmode": "overlay",
              "size": 10,
              "solidity": 0.2
             }
            },
            "type": "histogram"
           }
          ],
          "histogram2d": [
           {
            "colorbar": {
             "outlinewidth": 0,
             "ticks": ""
            },
            "colorscale": [
             [
              0,
              "#0d0887"
             ],
             [
              0.1111111111111111,
              "#46039f"
             ],
             [
              0.2222222222222222,
              "#7201a8"
             ],
             [
              0.3333333333333333,
              "#9c179e"
             ],
             [
              0.4444444444444444,
              "#bd3786"
             ],
             [
              0.5555555555555556,
              "#d8576b"
             ],
             [
              0.6666666666666666,
              "#ed7953"
             ],
             [
              0.7777777777777778,
              "#fb9f3a"
             ],
             [
              0.8888888888888888,
              "#fdca26"
             ],
             [
              1,
              "#f0f921"
             ]
            ],
            "type": "histogram2d"
           }
          ],
          "histogram2dcontour": [
           {
            "colorbar": {
             "outlinewidth": 0,
             "ticks": ""
            },
            "colorscale": [
             [
              0,
              "#0d0887"
             ],
             [
              0.1111111111111111,
              "#46039f"
             ],
             [
              0.2222222222222222,
              "#7201a8"
             ],
             [
              0.3333333333333333,
              "#9c179e"
             ],
             [
              0.4444444444444444,
              "#bd3786"
             ],
             [
              0.5555555555555556,
              "#d8576b"
             ],
             [
              0.6666666666666666,
              "#ed7953"
             ],
             [
              0.7777777777777778,
              "#fb9f3a"
             ],
             [
              0.8888888888888888,
              "#fdca26"
             ],
             [
              1,
              "#f0f921"
             ]
            ],
            "type": "histogram2dcontour"
           }
          ],
          "mesh3d": [
           {
            "colorbar": {
             "outlinewidth": 0,
             "ticks": ""
            },
            "type": "mesh3d"
           }
          ],
          "parcoords": [
           {
            "line": {
             "colorbar": {
              "outlinewidth": 0,
              "ticks": ""
             }
            },
            "type": "parcoords"
           }
          ],
          "pie": [
           {
            "automargin": true,
            "type": "pie"
           }
          ],
          "scatter": [
           {
            "fillpattern": {
             "fillmode": "overlay",
             "size": 10,
             "solidity": 0.2
            },
            "type": "scatter"
           }
          ],
          "scatter3d": [
           {
            "line": {
             "colorbar": {
              "outlinewidth": 0,
              "ticks": ""
             }
            },
            "marker": {
             "colorbar": {
              "outlinewidth": 0,
              "ticks": ""
             }
            },
            "type": "scatter3d"
           }
          ],
          "scattercarpet": [
           {
            "marker": {
             "colorbar": {
              "outlinewidth": 0,
              "ticks": ""
             }
            },
            "type": "scattercarpet"
           }
          ],
          "scattergeo": [
           {
            "marker": {
             "colorbar": {
              "outlinewidth": 0,
              "ticks": ""
             }
            },
            "type": "scattergeo"
           }
          ],
          "scattergl": [
           {
            "marker": {
             "colorbar": {
              "outlinewidth": 0,
              "ticks": ""
             }
            },
            "type": "scattergl"
           }
          ],
          "scattermapbox": [
           {
            "marker": {
             "colorbar": {
              "outlinewidth": 0,
              "ticks": ""
             }
            },
            "type": "scattermapbox"
           }
          ],
          "scatterpolar": [
           {
            "marker": {
             "colorbar": {
              "outlinewidth": 0,
              "ticks": ""
             }
            },
            "type": "scatterpolar"
           }
          ],
          "scatterpolargl": [
           {
            "marker": {
             "colorbar": {
              "outlinewidth": 0,
              "ticks": ""
             }
            },
            "type": "scatterpolargl"
           }
          ],
          "scatterternary": [
           {
            "marker": {
             "colorbar": {
              "outlinewidth": 0,
              "ticks": ""
             }
            },
            "type": "scatterternary"
           }
          ],
          "surface": [
           {
            "colorbar": {
             "outlinewidth": 0,
             "ticks": ""
            },
            "colorscale": [
             [
              0,
              "#0d0887"
             ],
             [
              0.1111111111111111,
              "#46039f"
             ],
             [
              0.2222222222222222,
              "#7201a8"
             ],
             [
              0.3333333333333333,
              "#9c179e"
             ],
             [
              0.4444444444444444,
              "#bd3786"
             ],
             [
              0.5555555555555556,
              "#d8576b"
             ],
             [
              0.6666666666666666,
              "#ed7953"
             ],
             [
              0.7777777777777778,
              "#fb9f3a"
             ],
             [
              0.8888888888888888,
              "#fdca26"
             ],
             [
              1,
              "#f0f921"
             ]
            ],
            "type": "surface"
           }
          ],
          "table": [
           {
            "cells": {
             "fill": {
              "color": "#EBF0F8"
             },
             "line": {
              "color": "white"
             }
            },
            "header": {
             "fill": {
              "color": "#C8D4E3"
             },
             "line": {
              "color": "white"
             }
            },
            "type": "table"
           }
          ]
         },
         "layout": {
          "annotationdefaults": {
           "arrowcolor": "#2a3f5f",
           "arrowhead": 0,
           "arrowwidth": 1
          },
          "autotypenumbers": "strict",
          "coloraxis": {
           "colorbar": {
            "outlinewidth": 0,
            "ticks": ""
           }
          },
          "colorscale": {
           "diverging": [
            [
             0,
             "#8e0152"
            ],
            [
             0.1,
             "#c51b7d"
            ],
            [
             0.2,
             "#de77ae"
            ],
            [
             0.3,
             "#f1b6da"
            ],
            [
             0.4,
             "#fde0ef"
            ],
            [
             0.5,
             "#f7f7f7"
            ],
            [
             0.6,
             "#e6f5d0"
            ],
            [
             0.7,
             "#b8e186"
            ],
            [
             0.8,
             "#7fbc41"
            ],
            [
             0.9,
             "#4d9221"
            ],
            [
             1,
             "#276419"
            ]
           ],
           "sequential": [
            [
             0,
             "#0d0887"
            ],
            [
             0.1111111111111111,
             "#46039f"
            ],
            [
             0.2222222222222222,
             "#7201a8"
            ],
            [
             0.3333333333333333,
             "#9c179e"
            ],
            [
             0.4444444444444444,
             "#bd3786"
            ],
            [
             0.5555555555555556,
             "#d8576b"
            ],
            [
             0.6666666666666666,
             "#ed7953"
            ],
            [
             0.7777777777777778,
             "#fb9f3a"
            ],
            [
             0.8888888888888888,
             "#fdca26"
            ],
            [
             1,
             "#f0f921"
            ]
           ],
           "sequentialminus": [
            [
             0,
             "#0d0887"
            ],
            [
             0.1111111111111111,
             "#46039f"
            ],
            [
             0.2222222222222222,
             "#7201a8"
            ],
            [
             0.3333333333333333,
             "#9c179e"
            ],
            [
             0.4444444444444444,
             "#bd3786"
            ],
            [
             0.5555555555555556,
             "#d8576b"
            ],
            [
             0.6666666666666666,
             "#ed7953"
            ],
            [
             0.7777777777777778,
             "#fb9f3a"
            ],
            [
             0.8888888888888888,
             "#fdca26"
            ],
            [
             1,
             "#f0f921"
            ]
           ]
          },
          "colorway": [
           "#636efa",
           "#EF553B",
           "#00cc96",
           "#ab63fa",
           "#FFA15A",
           "#19d3f3",
           "#FF6692",
           "#B6E880",
           "#FF97FF",
           "#FECB52"
          ],
          "font": {
           "color": "#2a3f5f"
          },
          "geo": {
           "bgcolor": "white",
           "lakecolor": "white",
           "landcolor": "#E5ECF6",
           "showlakes": true,
           "showland": true,
           "subunitcolor": "white"
          },
          "hoverlabel": {
           "align": "left"
          },
          "hovermode": "closest",
          "mapbox": {
           "style": "light"
          },
          "paper_bgcolor": "white",
          "plot_bgcolor": "#E5ECF6",
          "polar": {
           "angularaxis": {
            "gridcolor": "white",
            "linecolor": "white",
            "ticks": ""
           },
           "bgcolor": "#E5ECF6",
           "radialaxis": {
            "gridcolor": "white",
            "linecolor": "white",
            "ticks": ""
           }
          },
          "scene": {
           "xaxis": {
            "backgroundcolor": "#E5ECF6",
            "gridcolor": "white",
            "gridwidth": 2,
            "linecolor": "white",
            "showbackground": true,
            "ticks": "",
            "zerolinecolor": "white"
           },
           "yaxis": {
            "backgroundcolor": "#E5ECF6",
            "gridcolor": "white",
            "gridwidth": 2,
            "linecolor": "white",
            "showbackground": true,
            "ticks": "",
            "zerolinecolor": "white"
           },
           "zaxis": {
            "backgroundcolor": "#E5ECF6",
            "gridcolor": "white",
            "gridwidth": 2,
            "linecolor": "white",
            "showbackground": true,
            "ticks": "",
            "zerolinecolor": "white"
           }
          },
          "shapedefaults": {
           "line": {
            "color": "#2a3f5f"
           }
          },
          "ternary": {
           "aaxis": {
            "gridcolor": "white",
            "linecolor": "white",
            "ticks": ""
           },
           "baxis": {
            "gridcolor": "white",
            "linecolor": "white",
            "ticks": ""
           },
           "bgcolor": "#E5ECF6",
           "caxis": {
            "gridcolor": "white",
            "linecolor": "white",
            "ticks": ""
           }
          },
          "title": {
           "x": 0.05
          },
          "xaxis": {
           "automargin": true,
           "gridcolor": "white",
           "linecolor": "white",
           "ticks": "",
           "title": {
            "standoff": 15
           },
           "zerolinecolor": "white",
           "zerolinewidth": 2
          },
          "yaxis": {
           "automargin": true,
           "gridcolor": "white",
           "linecolor": "white",
           "ticks": "",
           "title": {
            "standoff": 15
           },
           "zerolinecolor": "white",
           "zerolinewidth": 2
          }
         }
        },
        "title": {
         "text": "Grotrian Diagram for Silicon II",
         "x": 0.5
        },
        "width": 700,
        "xaxis": {
         "anchor": "y",
         "automargin": true,
         "domain": [
          0,
          0.57
         ],
         "fixedrange": true,
         "showgrid": false,
         "showticklabels": false
        },
        "xaxis2": {
         "anchor": "y2",
         "domain": [
          0.62,
          1
         ],
         "fixedrange": true,
         "showticklabels": false
        },
        "yaxis": {
         "anchor": "x",
         "domain": [
          0,
          1
         ],
         "fixedrange": true,
         "range": [
          0,
          null
         ],
         "showgrid": false,
         "tickmode": "array",
         "ticktext": [
          "0.00e+00",
          "3.56e-02",
          "5.33e+00",
          "6.86e+00",
          "8.12e+00",
          "9.51e+00",
          "9.84e+00"
         ],
         "tickvals": [
          0,
          0.1,
          0.9908460575895421,
          1.035842708790352,
          1.065902737620044,
          1.0939027427498986,
          1.1
         ],
         "title": {
          "text": "Energy (eV)"
         }
        },
        "yaxis2": {
         "anchor": "x2",
         "domain": [
          0,
          1
         ],
         "fixedrange": true,
         "showticklabels": false
        }
       }
      },
      "text/html": [
       "<div>                            <div id=\"b9051a79-0bd9-404f-bcaa-ee1316022d58\" class=\"plotly-graph-div\" style=\"height:700px; width:700px;\"></div>            <script type=\"text/javascript\">                require([\"plotly\"], function(Plotly) {                    window.PLOTLYENV=window.PLOTLYENV || {};                                    if (document.getElementById(\"b9051a79-0bd9-404f-bcaa-ee1316022d58\")) {                    Plotly.newPlot(                        \"b9051a79-0bd9-404f-bcaa-ee1316022d58\",                        [{\"hovertemplate\":\"Energy: 0.00e+00 eV<br>Population: 2.24e+03<extra></extra>\",\"line\":{\"color\":\"black\",\"width\":3.8108661902454637},\"mode\":\"lines\",\"showlegend\":false,\"x\":[-0.05,0.07222222222222223,0.19444444444444448,0.3166666666666667,0.43888888888888894,0.5611111111111111,0.6833333333333333,0.8055555555555556,0.9277777777777778,1.05],\"y\":[0.0,0.0,0.0,0.0,0.0,0.0,0.0,0.0,0.0,0.0],\"type\":\"scatter\",\"xaxis\":\"x\",\"yaxis\":\"y\"},{\"hovertemplate\":\"Energy: 3.56e-02 eV<br>Population: 4.31e+03<extra></extra>\",\"line\":{\"color\":\"black\",\"width\":4.0},\"mode\":\"lines\",\"showlegend\":false,\"x\":[-0.05,0.07222222222222223,0.19444444444444448,0.3166666666666667,0.43888888888888894,0.5611111111111111,0.6833333333333333,0.8055555555555556,0.9277777777777778,1.05],\"y\":[0.1,0.1,0.1,0.1,0.1,0.1,0.1,0.1,0.1,0.1],\"type\":\"scatter\",\"xaxis\":\"x\",\"yaxis\":\"y\"},{\"hovertemplate\":\"Energy: 5.33e+00 eV<br>Population: 5.63e+01<extra></extra>\",\"line\":{\"color\":\"black\",\"width\":2.7501715714693473},\"mode\":\"lines\",\"showlegend\":false,\"x\":[-0.05,0.07222222222222223,0.19444444444444448,0.3166666666666667,0.43888888888888894,0.5611111111111111,0.6833333333333333,0.8055555555555556,0.9277777777777778,1.05],\"y\":[0.9908460575895421,0.9908460575895421,0.9908460575895421,0.9908460575895421,0.9908460575895421,0.9908460575895421,0.9908460575895421,0.9908460575895421,0.9908460575895421,0.9908460575895421],\"type\":\"scatter\",\"xaxis\":\"x\",\"yaxis\":\"y\"},{\"hovertemplate\":\"Energy: 6.86e+00 eV<br>Population: 9.78e+00<extra></extra>\",\"line\":{\"color\":\"black\",\"width\":2.2460856216624014},\"mode\":\"lines\",\"showlegend\":false,\"x\":[-0.05,0.07222222222222223,0.19444444444444448,0.3166666666666667,0.43888888888888894,0.5611111111111111,0.6833333333333333,0.8055555555555556,0.9277777777777778,1.05],\"y\":[1.035842708790352,1.035842708790352,1.035842708790352,1.035842708790352,1.035842708790352,1.035842708790352,1.035842708790352,1.035842708790352,1.035842708790352,1.035842708790352],\"type\":\"scatter\",\"xaxis\":\"x\",\"yaxis\":\"y\"},{\"hovertemplate\":\"Energy: 8.12e+00 eV<br>Population: 5.35e-01<extra></extra>\",\"line\":{\"color\":\"black\",\"width\":1.409238362960783},\"mode\":\"lines\",\"showlegend\":false,\"x\":[-0.05,0.07222222222222223,0.19444444444444448,0.3166666666666667,0.43888888888888894,0.5611111111111111,0.6833333333333333,0.8055555555555556,0.9277777777777778,1.05],\"y\":[1.065902737620044,1.065902737620044,1.065902737620044,1.065902737620044,1.065902737620044,1.065902737620044,1.065902737620044,1.065902737620044,1.065902737620044,1.065902737620044],\"type\":\"scatter\",\"xaxis\":\"x\",\"yaxis\":\"y\"},{\"hovertemplate\":\"Energy: 9.51e+00 eV<br>Population: 1.29e-01<extra></extra>\",\"line\":{\"color\":\"black\",\"width\":1.0},\"mode\":\"lines\",\"showlegend\":false,\"x\":[-0.05,0.07222222222222223,0.19444444444444448,0.3166666666666667,0.43888888888888894,0.5611111111111111,0.6833333333333333,0.8055555555555556,0.9277777777777778,1.05],\"y\":[1.0939027427498986,1.0939027427498986,1.0939027427498986,1.0939027427498986,1.0939027427498986,1.0939027427498986,1.0939027427498986,1.0939027427498986,1.0939027427498986,1.0939027427498986],\"type\":\"scatter\",\"xaxis\":\"x\",\"yaxis\":\"y\"},{\"hovertemplate\":\"Energy: 9.84e+00 eV<br>Population: 3.68e-01<extra></extra>\",\"line\":{\"color\":\"black\",\"width\":1.3013609655139131},\"mode\":\"lines\",\"showlegend\":false,\"x\":[-0.05,0.07222222222222223,0.19444444444444448,0.3166666666666667,0.43888888888888894,0.5611111111111111,0.6833333333333333,0.8055555555555556,0.9277777777777778,1.05],\"y\":[1.1,1.1,1.1,1.1,1.1,1.1,1.1,1.1,1.1,1.1],\"type\":\"scatter\",\"xaxis\":\"x\",\"yaxis\":\"y\"},{\"hovertemplate\":\"Count: 230<br>Wavelength: 1.81e+03 \\u212b<extra></extra>\",\"line\":{\"color\":\"#ff0905\",\"width\":2.5182224041500563},\"marker\":{\"angleref\":\"previous\",\"color\":\"#ff0905\",\"size\":9,\"symbol\":\"arrow-bar-up\"},\"x\":[0,0.697231041675857],\"y\":[0.0,1.035842708790352],\"type\":\"scatter\",\"xaxis\":\"x\",\"yaxis\":\"y\"},{\"hovertemplate\":\"Count: 234<br>Wavelength: 1.53e+03 \\u212b<extra></extra>\",\"line\":{\"color\":\"#8cfead\",\"width\":2.524682988103575},\"marker\":{\"angleref\":\"previous\",\"color\":\"#8cfead\",\"size\":9,\"symbol\":\"arrow-bar-up\"},\"x\":[0,0.8255824095489577],\"y\":[0.0,1.065902737620044],\"type\":\"scatter\",\"xaxis\":\"x\",\"yaxis\":\"y\"},{\"hovertemplate\":\"Count: 48<br>Wavelength: 1.30e+03 \\u212b<extra></extra>\",\"line\":{\"color\":\"#5247fc\",\"width\":1.9311059191270639},\"marker\":{\"angleref\":\"previous\",\"color\":\"#5247fc\",\"size\":9,\"symbol\":\"arrow-bar-up\"},\"x\":[0,0.9663070262230818],\"y\":[0.0,1.0939027427498986],\"type\":\"scatter\",\"xaxis\":\"x\",\"yaxis\":\"y\"},{\"hovertemplate\":\"Count: 51<br>Wavelength: 1.26e+03 \\u212b<extra></extra>\",\"line\":{\"color\":\"#8000ff\",\"width\":1.9538222429869312},\"marker\":{\"angleref\":\"previous\",\"color\":\"#8000ff\",\"size\":9,\"symbol\":\"arrow-bar-up\"},\"x\":[0,1.0],\"y\":[0.0,1.1],\"type\":\"scatter\",\"xaxis\":\"x\",\"yaxis\":\"y\"},{\"hovertemplate\":\"Count: 683<br>Wavelength: 1.82e+03 \\u212b<extra></extra>\",\"line\":{\"color\":\"#ff0000\",\"width\":2.92605670318273},\"marker\":{\"angleref\":\"previous\",\"color\":\"#ff0000\",\"size\":9,\"symbol\":\"arrow-bar-up\"},\"x\":[0,0.6961309029103393],\"y\":[0.1,1.035842708790352],\"type\":\"scatter\",\"xaxis\":\"x\",\"yaxis\":\"y\"},{\"hovertemplate\":\"Count: 434<br>Wavelength: 1.53e+03 \\u212b<extra></extra>\",\"line\":{\"color\":\"#92fda9\",\"width\":2.7561467864011115},\"marker\":{\"angleref\":\"previous\",\"color\":\"#92fda9\",\"size\":9,\"symbol\":\"arrow-bar-up\"},\"x\":[0,0.8249486472448381],\"y\":[0.1,1.065902737620044],\"type\":\"scatter\",\"xaxis\":\"x\",\"yaxis\":\"y\"},{\"hovertemplate\":\"Count: 42<br>Wavelength: 1.31e+03 \\u212b<extra></extra>\",\"line\":{\"color\":\"#4c50fc\",\"width\":1.8810710938459696},\"marker\":{\"angleref\":\"previous\",\"color\":\"#4c50fc\",\"size\":9,\"symbol\":\"arrow-bar-up\"},\"x\":[0,0.9661845997141599],\"y\":[0.1,1.0939027427498986],\"type\":\"scatter\",\"xaxis\":\"x\",\"yaxis\":\"y\"},{\"hovertemplate\":\"Count: 119<br>Wavelength: 1.27e+03 \\u212b<extra></extra>\",\"line\":{\"color\":\"#7c06ff\",\"width\":2.271308637551302},\"marker\":{\"angleref\":\"previous\",\"color\":\"#7c06ff\",\"size\":9,\"symbol\":\"arrow-bar-up\"},\"x\":[0,1.0],\"y\":[0.1,1.1],\"type\":\"scatter\",\"xaxis\":\"x\",\"yaxis\":\"y\"},{\"hovertemplate\":\"Count: 239<br>Wavelength: 1.81e+03 \\u212b<extra></extra>\",\"line\":{\"color\":\"#ff0905\",\"width\":2.5326051560612006},\"marker\":{\"angleref\":\"previous\",\"color\":\"#ff0905\",\"size\":9,\"symbol\":\"arrow-bar-up\"},\"x\":[0,0.697231041675857],\"y\":[1.035842708790352,0.0],\"type\":\"scatter\",\"xaxis\":\"x\",\"yaxis\":\"y\"},{\"hovertemplate\":\"Count: 101<br>Wavelength: 1.53e+03 \\u212b<extra></extra>\",\"line\":{\"color\":\"#8cfead\",\"width\":2.20985597011499},\"marker\":{\"angleref\":\"previous\",\"color\":\"#8cfead\",\"size\":9,\"symbol\":\"arrow-bar-up\"},\"x\":[0,0.8255824095489577],\"y\":[1.065902737620044,0.0],\"type\":\"scatter\",\"xaxis\":\"x\",\"yaxis\":\"y\"},{\"hovertemplate\":\"Count: 10<br>Wavelength: 1.30e+03 \\u212b<extra></extra>\",\"line\":{\"color\":\"#5247fc\",\"width\":1.3433383399581964},\"marker\":{\"angleref\":\"previous\",\"color\":\"#5247fc\",\"size\":9,\"symbol\":\"arrow-bar-up\"},\"x\":[0,0.9663070262230818],\"y\":[1.0939027427498986,0.0],\"type\":\"scatter\",\"xaxis\":\"x\",\"yaxis\":\"y\"},{\"hovertemplate\":\"Count: 24<br>Wavelength: 1.26e+03 \\u212b<extra></extra>\",\"line\":{\"color\":\"#8000ff\",\"width\":1.671380491332558},\"marker\":{\"angleref\":\"previous\",\"color\":\"#8000ff\",\"size\":9,\"symbol\":\"arrow-bar-up\"},\"x\":[0,1.0],\"y\":[1.1,0.0],\"type\":\"scatter\",\"xaxis\":\"x\",\"yaxis\":\"y\"},{\"hovertemplate\":\"Count: 464<br>Wavelength: 1.82e+03 \\u212b<extra></extra>\",\"line\":{\"color\":\"#ff0000\",\"width\":2.7811920477661003},\"marker\":{\"angleref\":\"previous\",\"color\":\"#ff0000\",\"size\":9,\"symbol\":\"arrow-bar-up\"},\"x\":[0,0.6961309029103393],\"y\":[1.035842708790352,0.1],\"type\":\"scatter\",\"xaxis\":\"x\",\"yaxis\":\"y\"},{\"hovertemplate\":\"Count: 832<br>Wavelength: 1.53e+03 \\u212b<extra></extra>\",\"line\":{\"color\":\"#92fda9\",\"width\":3.0},\"marker\":{\"angleref\":\"previous\",\"color\":\"#92fda9\",\"size\":9,\"symbol\":\"arrow-bar-up\"},\"x\":[0,0.8249486472448381],\"y\":[1.065902737620044,0.1],\"type\":\"scatter\",\"xaxis\":\"x\",\"yaxis\":\"y\"},{\"hovertemplate\":\"Count: 4<br>Wavelength: 1.31e+03 \\u212b<extra></extra>\",\"line\":{\"color\":\"#4c50fc\",\"width\":1.0},\"marker\":{\"angleref\":\"previous\",\"color\":\"#4c50fc\",\"size\":9,\"symbol\":\"arrow-bar-up\"},\"x\":[0,0.9661845997141599],\"y\":[1.0939027427498986,0.1],\"type\":\"scatter\",\"xaxis\":\"x\",\"yaxis\":\"y\"},{\"hovertemplate\":\"Count: 120<br>Wavelength: 1.27e+03 \\u212b<extra></extra>\",\"line\":{\"color\":\"#7c06ff\",\"width\":2.2744442590852603},\"marker\":{\"angleref\":\"previous\",\"color\":\"#7c06ff\",\"size\":9,\"symbol\":\"arrow-bar-up\"},\"x\":[0,1.0],\"y\":[1.1,0.1],\"type\":\"scatter\",\"xaxis\":\"x\",\"yaxis\":\"y\"},{\"hoverinfo\":\"none\",\"marker\":{\"cmax\":3.2594002187296263,\"cmin\":3.100515974948818,\"colorbar\":{\"outlinewidth\":0,\"thickness\":5,\"ticktext\":[\"1.3e+03\",\"1.3e+03\",\"1.4e+03\",\"1.4e+03\",\"1.5e+03\",\"1.5e+03\",\"1.6e+03\",\"1.7e+03\",\"1.7e+03\",\"1.8e+03\"],\"tickvals\":[3.100515974948818,3.118169779813352,3.1358235846778864,3.1534773895424206,3.171131194406955,3.188784999271489,3.2064388041360234,3.2240926090005577,3.241746413865092,3.2594002187296263],\"title\":{\"font\":{\"size\":12},\"text\":\"Wavelength (\\u212b)\"}},\"colorscale\":[[0.0,\"rgb(150,0,90)\"],[0.125,\"rgb(0,0,200)\"],[0.25,\"rgb(0,25,255)\"],[0.375,\"rgb(0,152,255)\"],[0.5,\"rgb(44,255,150)\"],[0.625,\"rgb(151,255,0)\"],[0.75,\"rgb(255,234,0)\"],[0.875,\"rgb(255,111,0)\"],[1.0,\"rgb(255,0,0)\"]],\"showscale\":true},\"mode\":\"markers\",\"x\":[null],\"y\":[null],\"type\":\"scatter\",\"xaxis\":\"x2\",\"yaxis\":\"y2\"}],                        {\"template\":{\"data\":{\"histogram2dcontour\":[{\"type\":\"histogram2dcontour\",\"colorbar\":{\"outlinewidth\":0,\"ticks\":\"\"},\"colorscale\":[[0.0,\"#0d0887\"],[0.1111111111111111,\"#46039f\"],[0.2222222222222222,\"#7201a8\"],[0.3333333333333333,\"#9c179e\"],[0.4444444444444444,\"#bd3786\"],[0.5555555555555556,\"#d8576b\"],[0.6666666666666666,\"#ed7953\"],[0.7777777777777778,\"#fb9f3a\"],[0.8888888888888888,\"#fdca26\"],[1.0,\"#f0f921\"]]}],\"choropleth\":[{\"type\":\"choropleth\",\"colorbar\":{\"outlinewidth\":0,\"ticks\":\"\"}}],\"histogram2d\":[{\"type\":\"histogram2d\",\"colorbar\":{\"outlinewidth\":0,\"ticks\":\"\"},\"colorscale\":[[0.0,\"#0d0887\"],[0.1111111111111111,\"#46039f\"],[0.2222222222222222,\"#7201a8\"],[0.3333333333333333,\"#9c179e\"],[0.4444444444444444,\"#bd3786\"],[0.5555555555555556,\"#d8576b\"],[0.6666666666666666,\"#ed7953\"],[0.7777777777777778,\"#fb9f3a\"],[0.8888888888888888,\"#fdca26\"],[1.0,\"#f0f921\"]]}],\"heatmap\":[{\"type\":\"heatmap\",\"colorbar\":{\"outlinewidth\":0,\"ticks\":\"\"},\"colorscale\":[[0.0,\"#0d0887\"],[0.1111111111111111,\"#46039f\"],[0.2222222222222222,\"#7201a8\"],[0.3333333333333333,\"#9c179e\"],[0.4444444444444444,\"#bd3786\"],[0.5555555555555556,\"#d8576b\"],[0.6666666666666666,\"#ed7953\"],[0.7777777777777778,\"#fb9f3a\"],[0.8888888888888888,\"#fdca26\"],[1.0,\"#f0f921\"]]}],\"heatmapgl\":[{\"type\":\"heatmapgl\",\"colorbar\":{\"outlinewidth\":0,\"ticks\":\"\"},\"colorscale\":[[0.0,\"#0d0887\"],[0.1111111111111111,\"#46039f\"],[0.2222222222222222,\"#7201a8\"],[0.3333333333333333,\"#9c179e\"],[0.4444444444444444,\"#bd3786\"],[0.5555555555555556,\"#d8576b\"],[0.6666666666666666,\"#ed7953\"],[0.7777777777777778,\"#fb9f3a\"],[0.8888888888888888,\"#fdca26\"],[1.0,\"#f0f921\"]]}],\"contourcarpet\":[{\"type\":\"contourcarpet\",\"colorbar\":{\"outlinewidth\":0,\"ticks\":\"\"}}],\"contour\":[{\"type\":\"contour\",\"colorbar\":{\"outlinewidth\":0,\"ticks\":\"\"},\"colorscale\":[[0.0,\"#0d0887\"],[0.1111111111111111,\"#46039f\"],[0.2222222222222222,\"#7201a8\"],[0.3333333333333333,\"#9c179e\"],[0.4444444444444444,\"#bd3786\"],[0.5555555555555556,\"#d8576b\"],[0.6666666666666666,\"#ed7953\"],[0.7777777777777778,\"#fb9f3a\"],[0.8888888888888888,\"#fdca26\"],[1.0,\"#f0f921\"]]}],\"surface\":[{\"type\":\"surface\",\"colorbar\":{\"outlinewidth\":0,\"ticks\":\"\"},\"colorscale\":[[0.0,\"#0d0887\"],[0.1111111111111111,\"#46039f\"],[0.2222222222222222,\"#7201a8\"],[0.3333333333333333,\"#9c179e\"],[0.4444444444444444,\"#bd3786\"],[0.5555555555555556,\"#d8576b\"],[0.6666666666666666,\"#ed7953\"],[0.7777777777777778,\"#fb9f3a\"],[0.8888888888888888,\"#fdca26\"],[1.0,\"#f0f921\"]]}],\"mesh3d\":[{\"type\":\"mesh3d\",\"colorbar\":{\"outlinewidth\":0,\"ticks\":\"\"}}],\"scatter\":[{\"fillpattern\":{\"fillmode\":\"overlay\",\"size\":10,\"solidity\":0.2},\"type\":\"scatter\"}],\"parcoords\":[{\"type\":\"parcoords\",\"line\":{\"colorbar\":{\"outlinewidth\":0,\"ticks\":\"\"}}}],\"scatterpolargl\":[{\"type\":\"scatterpolargl\",\"marker\":{\"colorbar\":{\"outlinewidth\":0,\"ticks\":\"\"}}}],\"bar\":[{\"error_x\":{\"color\":\"#2a3f5f\"},\"error_y\":{\"color\":\"#2a3f5f\"},\"marker\":{\"line\":{\"color\":\"#E5ECF6\",\"width\":0.5},\"pattern\":{\"fillmode\":\"overlay\",\"size\":10,\"solidity\":0.2}},\"type\":\"bar\"}],\"scattergeo\":[{\"type\":\"scattergeo\",\"marker\":{\"colorbar\":{\"outlinewidth\":0,\"ticks\":\"\"}}}],\"scatterpolar\":[{\"type\":\"scatterpolar\",\"marker\":{\"colorbar\":{\"outlinewidth\":0,\"ticks\":\"\"}}}],\"histogram\":[{\"marker\":{\"pattern\":{\"fillmode\":\"overlay\",\"size\":10,\"solidity\":0.2}},\"type\":\"histogram\"}],\"scattergl\":[{\"type\":\"scattergl\",\"marker\":{\"colorbar\":{\"outlinewidth\":0,\"ticks\":\"\"}}}],\"scatter3d\":[{\"type\":\"scatter3d\",\"line\":{\"colorbar\":{\"outlinewidth\":0,\"ticks\":\"\"}},\"marker\":{\"colorbar\":{\"outlinewidth\":0,\"ticks\":\"\"}}}],\"scattermapbox\":[{\"type\":\"scattermapbox\",\"marker\":{\"colorbar\":{\"outlinewidth\":0,\"ticks\":\"\"}}}],\"scatterternary\":[{\"type\":\"scatterternary\",\"marker\":{\"colorbar\":{\"outlinewidth\":0,\"ticks\":\"\"}}}],\"scattercarpet\":[{\"type\":\"scattercarpet\",\"marker\":{\"colorbar\":{\"outlinewidth\":0,\"ticks\":\"\"}}}],\"carpet\":[{\"aaxis\":{\"endlinecolor\":\"#2a3f5f\",\"gridcolor\":\"white\",\"linecolor\":\"white\",\"minorgridcolor\":\"white\",\"startlinecolor\":\"#2a3f5f\"},\"baxis\":{\"endlinecolor\":\"#2a3f5f\",\"gridcolor\":\"white\",\"linecolor\":\"white\",\"minorgridcolor\":\"white\",\"startlinecolor\":\"#2a3f5f\"},\"type\":\"carpet\"}],\"table\":[{\"cells\":{\"fill\":{\"color\":\"#EBF0F8\"},\"line\":{\"color\":\"white\"}},\"header\":{\"fill\":{\"color\":\"#C8D4E3\"},\"line\":{\"color\":\"white\"}},\"type\":\"table\"}],\"barpolar\":[{\"marker\":{\"line\":{\"color\":\"#E5ECF6\",\"width\":0.5},\"pattern\":{\"fillmode\":\"overlay\",\"size\":10,\"solidity\":0.2}},\"type\":\"barpolar\"}],\"pie\":[{\"automargin\":true,\"type\":\"pie\"}]},\"layout\":{\"autotypenumbers\":\"strict\",\"colorway\":[\"#636efa\",\"#EF553B\",\"#00cc96\",\"#ab63fa\",\"#FFA15A\",\"#19d3f3\",\"#FF6692\",\"#B6E880\",\"#FF97FF\",\"#FECB52\"],\"font\":{\"color\":\"#2a3f5f\"},\"hovermode\":\"closest\",\"hoverlabel\":{\"align\":\"left\"},\"paper_bgcolor\":\"white\",\"plot_bgcolor\":\"#E5ECF6\",\"polar\":{\"bgcolor\":\"#E5ECF6\",\"angularaxis\":{\"gridcolor\":\"white\",\"linecolor\":\"white\",\"ticks\":\"\"},\"radialaxis\":{\"gridcolor\":\"white\",\"linecolor\":\"white\",\"ticks\":\"\"}},\"ternary\":{\"bgcolor\":\"#E5ECF6\",\"aaxis\":{\"gridcolor\":\"white\",\"linecolor\":\"white\",\"ticks\":\"\"},\"baxis\":{\"gridcolor\":\"white\",\"linecolor\":\"white\",\"ticks\":\"\"},\"caxis\":{\"gridcolor\":\"white\",\"linecolor\":\"white\",\"ticks\":\"\"}},\"coloraxis\":{\"colorbar\":{\"outlinewidth\":0,\"ticks\":\"\"}},\"colorscale\":{\"sequential\":[[0.0,\"#0d0887\"],[0.1111111111111111,\"#46039f\"],[0.2222222222222222,\"#7201a8\"],[0.3333333333333333,\"#9c179e\"],[0.4444444444444444,\"#bd3786\"],[0.5555555555555556,\"#d8576b\"],[0.6666666666666666,\"#ed7953\"],[0.7777777777777778,\"#fb9f3a\"],[0.8888888888888888,\"#fdca26\"],[1.0,\"#f0f921\"]],\"sequentialminus\":[[0.0,\"#0d0887\"],[0.1111111111111111,\"#46039f\"],[0.2222222222222222,\"#7201a8\"],[0.3333333333333333,\"#9c179e\"],[0.4444444444444444,\"#bd3786\"],[0.5555555555555556,\"#d8576b\"],[0.6666666666666666,\"#ed7953\"],[0.7777777777777778,\"#fb9f3a\"],[0.8888888888888888,\"#fdca26\"],[1.0,\"#f0f921\"]],\"diverging\":[[0,\"#8e0152\"],[0.1,\"#c51b7d\"],[0.2,\"#de77ae\"],[0.3,\"#f1b6da\"],[0.4,\"#fde0ef\"],[0.5,\"#f7f7f7\"],[0.6,\"#e6f5d0\"],[0.7,\"#b8e186\"],[0.8,\"#7fbc41\"],[0.9,\"#4d9221\"],[1,\"#276419\"]]},\"xaxis\":{\"gridcolor\":\"white\",\"linecolor\":\"white\",\"ticks\":\"\",\"title\":{\"standoff\":15},\"zerolinecolor\":\"white\",\"automargin\":true,\"zerolinewidth\":2},\"yaxis\":{\"gridcolor\":\"white\",\"linecolor\":\"white\",\"ticks\":\"\",\"title\":{\"standoff\":15},\"zerolinecolor\":\"white\",\"automargin\":true,\"zerolinewidth\":2},\"scene\":{\"xaxis\":{\"backgroundcolor\":\"#E5ECF6\",\"gridcolor\":\"white\",\"linecolor\":\"white\",\"showbackground\":true,\"ticks\":\"\",\"zerolinecolor\":\"white\",\"gridwidth\":2},\"yaxis\":{\"backgroundcolor\":\"#E5ECF6\",\"gridcolor\":\"white\",\"linecolor\":\"white\",\"showbackground\":true,\"ticks\":\"\",\"zerolinecolor\":\"white\",\"gridwidth\":2},\"zaxis\":{\"backgroundcolor\":\"#E5ECF6\",\"gridcolor\":\"white\",\"linecolor\":\"white\",\"showbackground\":true,\"ticks\":\"\",\"zerolinecolor\":\"white\",\"gridwidth\":2}},\"shapedefaults\":{\"line\":{\"color\":\"#2a3f5f\"}},\"annotationdefaults\":{\"arrowcolor\":\"#2a3f5f\",\"arrowhead\":0,\"arrowwidth\":1},\"geo\":{\"bgcolor\":\"white\",\"landcolor\":\"#E5ECF6\",\"subunitcolor\":\"white\",\"showland\":true,\"showlakes\":true,\"lakecolor\":\"white\"},\"title\":{\"x\":0.05},\"mapbox\":{\"style\":\"light\"}}},\"xaxis\":{\"anchor\":\"y\",\"domain\":[0.0,0.57],\"showticklabels\":false,\"showgrid\":false,\"automargin\":true,\"fixedrange\":true},\"yaxis\":{\"anchor\":\"x\",\"domain\":[0.0,1.0],\"title\":{\"text\":\"Energy (eV)\"},\"showgrid\":false,\"range\":[0,null],\"tickmode\":\"array\",\"tickvals\":[0.0,0.1,0.9908460575895421,1.035842708790352,1.065902737620044,1.0939027427498986,1.1],\"ticktext\":[\"0.00e+00\",\"3.56e-02\",\"5.33e+00\",\"6.86e+00\",\"8.12e+00\",\"9.51e+00\",\"9.84e+00\"],\"fixedrange\":true},\"xaxis2\":{\"anchor\":\"y2\",\"domain\":[0.62,1.0],\"showticklabels\":false,\"fixedrange\":true},\"yaxis2\":{\"anchor\":\"x2\",\"domain\":[0.0,1.0],\"showticklabels\":false,\"fixedrange\":true},\"title\":{\"text\":\"Grotrian Diagram for Silicon II\",\"x\":0.5},\"plot_bgcolor\":\"white\",\"autosize\":false,\"width\":700,\"height\":700,\"showlegend\":false,\"annotations\":[{\"showarrow\":false,\"text\":\"n=0\",\"x\":1.15,\"xref\":\"x\",\"y\":0.0},{\"showarrow\":false,\"text\":\"n=1\",\"x\":1.15,\"xref\":\"x\",\"y\":0.1},{\"showarrow\":false,\"text\":\"n=2\",\"x\":1.15,\"xref\":\"x\",\"y\":0.9908460575895421},{\"showarrow\":false,\"text\":\"n=3\",\"x\":1.15,\"xref\":\"x\",\"y\":1.035842708790352},{\"showarrow\":false,\"text\":\"n=4\",\"x\":1.15,\"xref\":\"x\",\"y\":1.065902737620044},{\"showarrow\":false,\"text\":\"n=5\",\"x\":1.15,\"xref\":\"x\",\"y\":1.0939027427498986},{\"showarrow\":false,\"text\":\"n=6\",\"x\":1.15,\"xref\":\"x\",\"y\":1.1},{\"showarrow\":false,\"text\":\"1.3e-01\",\"x\":0.5,\"xref\":\"x2\",\"y\":0.0,\"yref\":\"y2\"},{\"showarrow\":false,\"text\":\"4.1e-01\",\"x\":0.5,\"xref\":\"x2\",\"y\":0.1111111111111111,\"yref\":\"y2\"},{\"showarrow\":false,\"text\":\"1.3e+00\",\"x\":0.5,\"xref\":\"x2\",\"y\":0.2222222222222222,\"yref\":\"y2\"},{\"showarrow\":false,\"text\":\"4.2e+00\",\"x\":0.5,\"xref\":\"x2\",\"y\":0.3333333333333333,\"yref\":\"y2\"},{\"showarrow\":false,\"text\":\"1.3e+01\",\"x\":0.5,\"xref\":\"x2\",\"y\":0.4444444444444444,\"yref\":\"y2\"},{\"showarrow\":false,\"text\":\"4.2e+01\",\"x\":0.5,\"xref\":\"x2\",\"y\":0.5555555555555556,\"yref\":\"y2\"},{\"showarrow\":false,\"text\":\"1.3e+02\",\"x\":0.5,\"xref\":\"x2\",\"y\":0.6666666666666666,\"yref\":\"y2\"},{\"showarrow\":false,\"text\":\"4.3e+02\",\"x\":0.5,\"xref\":\"x2\",\"y\":0.7777777777777777,\"yref\":\"y2\"},{\"showarrow\":false,\"text\":\"1.4e+03\",\"x\":0.5,\"xref\":\"x2\",\"y\":0.8888888888888888,\"yref\":\"y2\"},{\"showarrow\":false,\"text\":\"4.3e+03\",\"x\":0.5,\"xref\":\"x2\",\"y\":1.0,\"yref\":\"y2\"},{\"showarrow\":false,\"text\":\"Populations\",\"x\":0.4,\"xref\":\"x2\",\"y\":-0.05,\"yref\":\"y2\"},{\"showarrow\":false,\"text\":\"4.0e+00\",\"x\":1.15,\"xref\":\"x2\",\"y\":0.0,\"yref\":\"y2\"},{\"showarrow\":false,\"text\":\"7.2e+00\",\"x\":1.15,\"xref\":\"x2\",\"y\":0.1111111111111111,\"yref\":\"y2\"},{\"showarrow\":false,\"text\":\"1.3e+01\",\"x\":1.15,\"xref\":\"x2\",\"y\":0.2222222222222222,\"yref\":\"y2\"},{\"showarrow\":false,\"text\":\"2.4e+01\",\"x\":1.15,\"xref\":\"x2\",\"y\":0.3333333333333333,\"yref\":\"y2\"},{\"showarrow\":false,\"text\":\"4.3e+01\",\"x\":1.15,\"xref\":\"x2\",\"y\":0.4444444444444444,\"yref\":\"y2\"},{\"showarrow\":false,\"text\":\"7.8e+01\",\"x\":1.15,\"xref\":\"x2\",\"y\":0.5555555555555556,\"yref\":\"y2\"},{\"showarrow\":false,\"text\":\"1.4e+02\",\"x\":1.15,\"xref\":\"x2\",\"y\":0.6666666666666666,\"yref\":\"y2\"},{\"showarrow\":false,\"text\":\"2.5e+02\",\"x\":1.15,\"xref\":\"x2\",\"y\":0.7777777777777777,\"yref\":\"y2\"},{\"showarrow\":false,\"text\":\"4.6e+02\",\"x\":1.15,\"xref\":\"x2\",\"y\":0.8888888888888888,\"yref\":\"y2\"},{\"showarrow\":false,\"text\":\"8.3e+02\",\"x\":1.15,\"xref\":\"x2\",\"y\":1.0,\"yref\":\"y2\"},{\"showarrow\":false,\"text\":\"#Packets\",\"x\":0.95,\"xref\":\"x2\",\"y\":-0.05,\"yref\":\"y2\"}],\"shapes\":[{\"line\":{\"width\":1.0},\"type\":\"line\",\"x0\":0.1,\"x1\":0.3,\"xref\":\"x2\",\"y0\":0.0,\"y1\":0.0,\"yref\":\"y2\"},{\"line\":{\"width\":1.3333333333333333},\"type\":\"line\",\"x0\":0.1,\"x1\":0.3,\"xref\":\"x2\",\"y0\":0.1111111111111111,\"y1\":0.1111111111111111,\"yref\":\"y2\"},{\"line\":{\"width\":1.6666666666666665},\"type\":\"line\",\"x0\":0.1,\"x1\":0.3,\"xref\":\"x2\",\"y0\":0.2222222222222222,\"y1\":0.2222222222222222,\"yref\":\"y2\"},{\"line\":{\"width\":2.0},\"type\":\"line\",\"x0\":0.1,\"x1\":0.3,\"xref\":\"x2\",\"y0\":0.3333333333333333,\"y1\":0.3333333333333333,\"yref\":\"y2\"},{\"line\":{\"width\":2.333333333333333},\"type\":\"line\",\"x0\":0.1,\"x1\":0.3,\"xref\":\"x2\",\"y0\":0.4444444444444444,\"y1\":0.4444444444444444,\"yref\":\"y2\"},{\"line\":{\"width\":2.6666666666666665},\"type\":\"line\",\"x0\":0.1,\"x1\":0.3,\"xref\":\"x2\",\"y0\":0.5555555555555556,\"y1\":0.5555555555555556,\"yref\":\"y2\"},{\"line\":{\"width\":3.0},\"type\":\"line\",\"x0\":0.1,\"x1\":0.3,\"xref\":\"x2\",\"y0\":0.6666666666666666,\"y1\":0.6666666666666666,\"yref\":\"y2\"},{\"line\":{\"width\":3.333333333333333},\"type\":\"line\",\"x0\":0.1,\"x1\":0.3,\"xref\":\"x2\",\"y0\":0.7777777777777777,\"y1\":0.7777777777777777,\"yref\":\"y2\"},{\"line\":{\"width\":3.6666666666666665},\"type\":\"line\",\"x0\":0.1,\"x1\":0.3,\"xref\":\"x2\",\"y0\":0.8888888888888888,\"y1\":0.8888888888888888,\"yref\":\"y2\"},{\"line\":{\"width\":4.0},\"type\":\"line\",\"x0\":0.1,\"x1\":0.3,\"xref\":\"x2\",\"y0\":1.0,\"y1\":1.0,\"yref\":\"y2\"},{\"line\":{\"color\":\"grey\",\"dash\":\"dash\",\"width\":0.5},\"type\":\"line\",\"x0\":0.7,\"x1\":0.7,\"xref\":\"x2\",\"y0\":0,\"y1\":1,\"yref\":\"y2\"},{\"line\":{\"width\":1.0},\"type\":\"line\",\"x0\":0.75,\"x1\":0.95,\"xref\":\"x2\",\"y0\":0.0,\"y1\":0.0,\"yref\":\"y2\"},{\"line\":{\"width\":1.2222222222222223},\"type\":\"line\",\"x0\":0.75,\"x1\":0.95,\"xref\":\"x2\",\"y0\":0.1111111111111111,\"y1\":0.1111111111111111,\"yref\":\"y2\"},{\"line\":{\"width\":1.4444444444444444},\"type\":\"line\",\"x0\":0.75,\"x1\":0.95,\"xref\":\"x2\",\"y0\":0.2222222222222222,\"y1\":0.2222222222222222,\"yref\":\"y2\"},{\"line\":{\"width\":1.6666666666666665},\"type\":\"line\",\"x0\":0.75,\"x1\":0.95,\"xref\":\"x2\",\"y0\":0.3333333333333333,\"y1\":0.3333333333333333,\"yref\":\"y2\"},{\"line\":{\"width\":1.8888888888888888},\"type\":\"line\",\"x0\":0.75,\"x1\":0.95,\"xref\":\"x2\",\"y0\":0.4444444444444444,\"y1\":0.4444444444444444,\"yref\":\"y2\"},{\"line\":{\"width\":2.111111111111111},\"type\":\"line\",\"x0\":0.75,\"x1\":0.95,\"xref\":\"x2\",\"y0\":0.5555555555555556,\"y1\":0.5555555555555556,\"yref\":\"y2\"},{\"line\":{\"width\":2.333333333333333},\"type\":\"line\",\"x0\":0.75,\"x1\":0.95,\"xref\":\"x2\",\"y0\":0.6666666666666666,\"y1\":0.6666666666666666,\"yref\":\"y2\"},{\"line\":{\"width\":2.5555555555555554},\"type\":\"line\",\"x0\":0.75,\"x1\":0.95,\"xref\":\"x2\",\"y0\":0.7777777777777777,\"y1\":0.7777777777777777,\"yref\":\"y2\"},{\"line\":{\"width\":2.7777777777777777},\"type\":\"line\",\"x0\":0.75,\"x1\":0.95,\"xref\":\"x2\",\"y0\":0.8888888888888888,\"y1\":0.8888888888888888,\"yref\":\"y2\"},{\"line\":{\"width\":3.0},\"type\":\"line\",\"x0\":0.75,\"x1\":0.95,\"xref\":\"x2\",\"y0\":1.0,\"y1\":1.0,\"yref\":\"y2\"}]},                        {\"responsive\": true}                    ).then(function(){\n",
       "                            \n",
       "var gd = document.getElementById('b9051a79-0bd9-404f-bcaa-ee1316022d58');\n",
       "var x = new MutationObserver(function (mutations, observer) {{\n",
       "        var display = window.getComputedStyle(gd).display;\n",
       "        if (!display || display === 'none') {{\n",
       "            console.log([gd, 'removed!']);\n",
       "            Plotly.purge(gd);\n",
       "            observer.disconnect();\n",
       "        }}\n",
       "}});\n",
       "\n",
       "// Listen for the removal of the full notebook cells\n",
       "var notebookContainer = gd.closest('#notebook-container');\n",
       "if (notebookContainer) {{\n",
       "    x.observe(notebookContainer, {childList: true});\n",
       "}}\n",
       "\n",
       "// Listen for the clearing of the current output cell\n",
       "var outputEl = gd.closest('.output');\n",
       "if (outputEl) {{\n",
       "    x.observe(outputEl, {childList: true});\n",
       "}}\n",
       "\n",
       "                        })                };                });            </script>        </div>"
      ]
     },
     "metadata": {},
     "output_type": "display_data"
    }
   ],
   "source": [
    "diag = GrotrianWidget.from_simulation(sim)\n",
    "diag.set_ion(14, 1) # Si II\n",
    "diag.display()"
   ]
  },
  {
   "cell_type": "code",
   "execution_count": 6,
   "metadata": {},
   "outputs": [],
   "source": [
    "# When number of electrons are very less (see atomic number 16),\n",
    "# then just render an empty Grotrian diagram (or don't show it in options)\n",
    "\n"
   ]
  },
  {
   "cell_type": "code",
   "execution_count": 7,
   "metadata": {},
   "outputs": [
    {
     "data": {
      "text/plain": [
       "array([ 5375, 14102,    -1, ...,    -1,    -1,    -1])"
      ]
     },
     "execution_count": 7,
     "metadata": {},
     "output_type": "execute_result"
    }
   ],
   "source": [
    "sim.transport.last_line_interaction_in_id"
   ]
  },
  {
   "cell_type": "code",
   "execution_count": 8,
   "metadata": {},
   "outputs": [
    {
     "data": {
      "text/plain": [
       "ListType[instance.jitclass.RPacketTracker#7f9885d1b820<length:int64,seed:int64,index:int64,status:array(int64, 1d, A),r:array(float64, 1d, A),nu:array(float64, 1d, A),mu:array(float64, 1d, A),energy:array(float64, 1d, A),shell_id:array(int64, 1d, A),interaction_type:array(int64, 1d, A),interact_id:int64>]([<numba.experimental.jitclass.boxing.RPacketTracker object at 0x7f98252fc970>, <numba.experimental.jitclass.boxing.RPacketTracker object at 0x7f98252fc1f0>, <numba.experimental.jitclass.boxing.RPacketTracker object at 0x7f98252fc970>, <numba.experimental.jitclass.boxing.RPacketTracker object at 0x7f98252fc1f0>, <numba.experimental.jitclass.boxing.RPacketTracker object at 0x7f98252fc970>, <numba.experimental.jitclass.boxing.RPacketTracker object at 0x7f98252fc1f0>, <numba.experimental.jitclass.boxing.RPacketTracker object at 0x7f98252fc970>, <numba.experimental.jitclass.boxing.RPacketTracker object at 0x7f98252fc1f0>, <numba.experimental.jitclass.boxing.RPacketTracker object at 0x7f98252fc970>, <numba.experimental.jitclass.boxing.RPacketTracker object at 0x7f98252fc1f0>, <numba.experimental.jitclass.boxing.RPacketTracker object at 0x7f98252fc970>, <numba.experimental.jitclass.boxing.RPacketTracker object at 0x7f98252fc1f0>, <numba.experimental.jitclass.boxing.RPacketTracker object at 0x7f98252fc970>, <numba.experimental.jitclass.boxing.RPacketTracker object at 0x7f98252fc1f0>, <numba.experimental.jitclass.boxing.RPacketTracker object at 0x7f98252fc970>, <numba.experimental.jitclass.boxing.RPacketTracker object at 0x7f98252fc1f0>, <numba.experimental.jitclass.boxing.RPacketTracker object at 0x7f98252fc970>, <numba.experimental.jitclass.boxing.RPacketTracker object at 0x7f98252fc1f0>, <numba.experimental.jitclass.boxing.RPacketTracker object at 0x7f98252fc970>, <numba.experimental.jitclass.boxing.RPacketTracker object at 0x7f98252fc1f0>, <numba.experimental.jitclass.boxing.RPacketTracker object at 0x7f98252fc970>, <numba.experimental.jitclass.boxing.RPacketTracker object at 0x7f98252fc1f0>, <numba.experimental.jitclass.boxing.RPacketTracker object at 0x7f98252fc970>, <numba.experimental.jitclass.boxing.RPacketTracker object at 0x7f98252fc1f0>, <numba.experimental.jitclass.boxing.RPacketTracker object at 0x7f98252fc970>, <numba.experimental.jitclass.boxing.RPacketTracker object at 0x7f98252fc1f0>, <numba.experimental.jitclass.boxing.RPacketTracker object at 0x7f98252fc970>, <numba.experimental.jitclass.boxing.RPacketTracker object at 0x7f98252fc1f0>, <numba.experimental.jitclass.boxing.RPacketTracker object at 0x7f98252fc970>, <numba.experimental.jitclass.boxing.RPacketTracker object at 0x7f98252fc1f0>, <numba.experimental.jitclass.boxing.RPacketTracker object at 0x7f98252fc970>, <numba.experimental.jitclass.boxing.RPacketTracker object at 0x7f98252fc1f0>, <numba.experimental.jitclass.boxing.RPacketTracker object at 0x7f98252fc970>, <numba.experimental.jitclass.boxing.RPacketTracker object at 0x7f98252fc1f0>, <numba.experimental.jitclass.boxing.RPacketTracker object at 0x7f98252fc970>, <numba.experimental.jitclass.boxing.RPacketTracker object at 0x7f98252fc1f0>, <numba.experimental.jitclass.boxing.RPacketTracker object at 0x7f98252fc970>, <numba.experimental.jitclass.boxing.RPacketTracker object at 0x7f98252fc1f0>, <numba.experimental.jitclass.boxing.RPacketTracker object at 0x7f98252fc970>, <numba.experimental.jitclass.boxing.RPacketTracker object at 0x7f98252fc1f0>, <numba.experimental.jitclass.boxing.RPacketTracker object at 0x7f98252fc970>, <numba.experimental.jitclass.boxing.RPacketTracker object at 0x7f98252fc1f0>, <numba.experimental.jitclass.boxing.RPacketTracker object at 0x7f98252fc970>, <numba.experimental.jitclass.boxing.RPacketTracker object at 0x7f98252fc1f0>, <numba.experimental.jitclass.boxing.RPacketTracker object at 0x7f98252fc970>, <numba.experimental.jitclass.boxing.RPacketTracker object at 0x7f98252fc1f0>, <numba.experimental.jitclass.boxing.RPacketTracker object at 0x7f98252fc970>, <numba.experimental.jitclass.boxing.RPacketTracker object at 0x7f98252fc1f0>, <numba.experimental.jitclass.boxing.RPacketTracker object at 0x7f98252fc970>, <numba.experimental.jitclass.boxing.RPacketTracker object at 0x7f98252fc1f0>, <numba.experimental.jitclass.boxing.RPacketTracker object at 0x7f98252fc970>, <numba.experimental.jitclass.boxing.RPacketTracker object at 0x7f98252fc1f0>, <numba.experimental.jitclass.boxing.RPacketTracker object at 0x7f98252fc970>, <numba.experimental.jitclass.boxing.RPacketTracker object at 0x7f98252fc1f0>, <numba.experimental.jitclass.boxing.RPacketTracker object at 0x7f98252fc970>, <numba.experimental.jitclass.boxing.RPacketTracker object at 0x7f98252fc1f0>, <numba.experimental.jitclass.boxing.RPacketTracker object at 0x7f98252fc970>, <numba.experimental.jitclass.boxing.RPacketTracker object at 0x7f98252fc1f0>, <numba.experimental.jitclass.boxing.RPacketTracker object at 0x7f98252fc970>, <numba.experimental.jitclass.boxing.RPacketTracker object at 0x7f98252fc1f0>, <numba.experimental.jitclass.boxing.RPacketTracker object at 0x7f98252fc970>, <numba.experimental.jitclass.boxing.RPacketTracker object at 0x7f98252fc1f0>, <numba.experimental.jitclass.boxing.RPacketTracker object at 0x7f98252fc970>, <numba.experimental.jitclass.boxing.RPacketTracker object at 0x7f98252fc1f0>, <numba.experimental.jitclass.boxing.RPacketTracker object at 0x7f98252fc970>, <numba.experimental.jitclass.boxing.RPacketTracker object at 0x7f98252fc1f0>, <numba.experimental.jitclass.boxing.RPacketTracker object at 0x7f98252fc970>, <numba.experimental.jitclass.boxing.RPacketTracker object at 0x7f98252fc1f0>, <numba.experimental.jitclass.boxing.RPacketTracker object at 0x7f98252fc970>, <numba.experimental.jitclass.boxing.RPacketTracker object at 0x7f98252fc1f0>, <numba.experimental.jitclass.boxing.RPacketTracker object at 0x7f98252fc970>, <numba.experimental.jitclass.boxing.RPacketTracker object at 0x7f98252fc1f0>, <numba.experimental.jitclass.boxing.RPacketTracker object at 0x7f98252fc970>, <numba.experimental.jitclass.boxing.RPacketTracker object at 0x7f98252fc1f0>, <numba.experimental.jitclass.boxing.RPacketTracker object at 0x7f98252fc970>, <numba.experimental.jitclass.boxing.RPacketTracker object at 0x7f98252fc1f0>, <numba.experimental.jitclass.boxing.RPacketTracker object at 0x7f98252fc970>, <numba.experimental.jitclass.boxing.RPacketTracker object at 0x7f98252fc1f0>, <numba.experimental.jitclass.boxing.RPacketTracker object at 0x7f98252fc970>, <numba.experimental.jitclass.boxing.RPacketTracker object at 0x7f98252fc1f0>, <numba.experimental.jitclass.boxing.RPacketTracker object at 0x7f98252fc970>, <numba.experimental.jitclass.boxing.RPacketTracker object at 0x7f98252fc1f0>, <numba.experimental.jitclass.boxing.RPacketTracker object at 0x7f98252fc970>, <numba.experimental.jitclass.boxing.RPacketTracker object at 0x7f98252fc1f0>, <numba.experimental.jitclass.boxing.RPacketTracker object at 0x7f98252fc970>, <numba.experimental.jitclass.boxing.RPacketTracker object at 0x7f98252fc1f0>, <numba.experimental.jitclass.boxing.RPacketTracker object at 0x7f98252fc970>, <numba.experimental.jitclass.boxing.RPacketTracker object at 0x7f98252fc1f0>, <numba.experimental.jitclass.boxing.RPacketTracker object at 0x7f98252fc970>, <numba.experimental.jitclass.boxing.RPacketTracker object at 0x7f98252fc1f0>, <numba.experimental.jitclass.boxing.RPacketTracker object at 0x7f98252fc970>, <numba.experimental.jitclass.boxing.RPacketTracker object at 0x7f98252fc1f0>, <numba.experimental.jitclass.boxing.RPacketTracker object at 0x7f98252fc970>, <numba.experimental.jitclass.boxing.RPacketTracker object at 0x7f98252fc1f0>, <numba.experimental.jitclass.boxing.RPacketTracker object at 0x7f98252fc970>, <numba.experimental.jitclass.boxing.RPacketTracker object at 0x7f98252fc1f0>, <numba.experimental.jitclass.boxing.RPacketTracker object at 0x7f98252fc970>, <numba.experimental.jitclass.boxing.RPacketTracker object at 0x7f98252fc1f0>, <numba.experimental.jitclass.boxing.RPacketTracker object at 0x7f98252fc970>, <numba.experimental.jitclass.boxing.RPacketTracker object at 0x7f98252fc1f0>, <numba.experimental.jitclass.boxing.RPacketTracker object at 0x7f98252fc970>, <numba.experimental.jitclass.boxing.RPacketTracker object at 0x7f98252fc1f0>, <numba.experimental.jitclass.boxing.RPacketTracker object at 0x7f98252fc970>, <numba.experimental.jitclass.boxing.RPacketTracker object at 0x7f98252fc1f0>, <numba.experimental.jitclass.boxing.RPacketTracker object at 0x7f98252fc970>, <numba.experimental.jitclass.boxing.RPacketTracker object at 0x7f98252fc1f0>, <numba.experimental.jitclass.boxing.RPacketTracker object at 0x7f98252fc970>, <numba.experimental.jitclass.boxing.RPacketTracker object at 0x7f98252fc1f0>, <numba.experimental.jitclass.boxing.RPacketTracker object at 0x7f98252fc970>, <numba.experimental.jitclass.boxing.RPacketTracker object at 0x7f98252fc1f0>, <numba.experimental.jitclass.boxing.RPacketTracker object at 0x7f98252fc970>, <numba.experimental.jitclass.boxing.RPacketTracker object at 0x7f98252fc1f0>, <numba.experimental.jitclass.boxing.RPacketTracker object at 0x7f98252fc970>, <numba.experimental.jitclass.boxing.RPacketTracker object at 0x7f98252fc1f0>, <numba.experimental.jitclass.boxing.RPacketTracker object at 0x7f98252fc970>, <numba.experimental.jitclass.boxing.RPacketTracker object at 0x7f98252fc1f0>, <numba.experimental.jitclass.boxing.RPacketTracker object at 0x7f98252fc970>, <numba.experimental.jitclass.boxing.RPacketTracker object at 0x7f98252fc1f0>, <numba.experimental.jitclass.boxing.RPacketTracker object at 0x7f98252fc970>, <numba.experimental.jitclass.boxing.RPacketTracker object at 0x7f98252fc1f0>, <numba.experimental.jitclass.boxing.RPacketTracker object at 0x7f98252fc970>, <numba.experimental.jitclass.boxing.RPacketTracker object at 0x7f98252fc1f0>, <numba.experimental.jitclass.boxing.RPacketTracker object at 0x7f98252fc970>, <numba.experimental.jitclass.boxing.RPacketTracker object at 0x7f98252fc1f0>, <numba.experimental.jitclass.boxing.RPacketTracker object at 0x7f98252fc970>, <numba.experimental.jitclass.boxing.RPacketTracker object at 0x7f98252fc1f0>, <numba.experimental.jitclass.boxing.RPacketTracker object at 0x7f98252fc970>, <numba.experimental.jitclass.boxing.RPacketTracker object at 0x7f98252fc1f0>, <numba.experimental.jitclass.boxing.RPacketTracker object at 0x7f98252fc970>, <numba.experimental.jitclass.boxing.RPacketTracker object at 0x7f98252fc1f0>, <numba.experimental.jitclass.boxing.RPacketTracker object at 0x7f98252fc970>, <numba.experimental.jitclass.boxing.RPacketTracker object at 0x7f98252fc1f0>, <numba.experimental.jitclass.boxing.RPacketTracker object at 0x7f98252fc970>, <numba.experimental.jitclass.boxing.RPacketTracker object at 0x7f98252fc1f0>, <numba.experimental.jitclass.boxing.RPacketTracker object at 0x7f98252fc970>, <numba.experimental.jitclass.boxing.RPacketTracker object at 0x7f98252fc1f0>, <numba.experimental.jitclass.boxing.RPacketTracker object at 0x7f98252fc970>, <numba.experimental.jitclass.boxing.RPacketTracker object at 0x7f98252fc1f0>, <numba.experimental.jitclass.boxing.RPacketTracker object at 0x7f98252fc970>, <numba.experimental.jitclass.boxing.RPacketTracker object at 0x7f98252fc1f0>, <numba.experimental.jitclass.boxing.RPacketTracker object at 0x7f98252fc970>, <numba.experimental.jitclass.boxing.RPacketTracker object at 0x7f98252fc1f0>, <numba.experimental.jitclass.boxing.RPacketTracker object at 0x7f98252fc970>, <numba.experimental.jitclass.boxing.RPacketTracker object at 0x7f98252fc1f0>, <numba.experimental.jitclass.boxing.RPacketTracker object at 0x7f98252fc970>, <numba.experimental.jitclass.boxing.RPacketTracker object at 0x7f98252fc1f0>, <numba.experimental.jitclass.boxing.RPacketTracker object at 0x7f98252fc970>, <numba.experimental.jitclass.boxing.RPacketTracker object at 0x7f98252fc1f0>, <numba.experimental.jitclass.boxing.RPacketTracker object at 0x7f98252fc970>, <numba.experimental.jitclass.boxing.RPacketTracker object at 0x7f98252fc1f0>, <numba.experimental.jitclass.boxing.RPacketTracker object at 0x7f98252fc970>, <numba.experimental.jitclass.boxing.RPacketTracker object at 0x7f98252fc1f0>, <numba.experimental.jitclass.boxing.RPacketTracker object at 0x7f98252fc970>, <numba.experimental.jitclass.boxing.RPacketTracker object at 0x7f98252fc1f0>, <numba.experimental.jitclass.boxing.RPacketTracker object at 0x7f98252fc970>, <numba.experimental.jitclass.boxing.RPacketTracker object at 0x7f98252fc1f0>, <numba.experimental.jitclass.boxing.RPacketTracker object at 0x7f98252fc970>, <numba.experimental.jitclass.boxing.RPacketTracker object at 0x7f98252fc1f0>, <numba.experimental.jitclass.boxing.RPacketTracker object at 0x7f98252fc970>, <numba.experimental.jitclass.boxing.RPacketTracker object at 0x7f98252fc1f0>, <numba.experimental.jitclass.boxing.RPacketTracker object at 0x7f98252fc970>, <numba.experimental.jitclass.boxing.RPacketTracker object at 0x7f98252fc1f0>, <numba.experimental.jitclass.boxing.RPacketTracker object at 0x7f98252fc970>, <numba.experimental.jitclass.boxing.RPacketTracker object at 0x7f98252fc1f0>, <numba.experimental.jitclass.boxing.RPacketTracker object at 0x7f98252fc970>, <numba.experimental.jitclass.boxing.RPacketTracker object at 0x7f98252fc1f0>, <numba.experimental.jitclass.boxing.RPacketTracker object at 0x7f98252fc970>, <numba.experimental.jitclass.boxing.RPacketTracker object at 0x7f98252fc1f0>, <numba.experimental.jitclass.boxing.RPacketTracker object at 0x7f98252fc970>, <numba.experimental.jitclass.boxing.RPacketTracker object at 0x7f98252fc1f0>, <numba.experimental.jitclass.boxing.RPacketTracker object at 0x7f98252fc970>, <numba.experimental.jitclass.boxing.RPacketTracker object at 0x7f98252fc1f0>, <numba.experimental.jitclass.boxing.RPacketTracker object at 0x7f98252fc970>, <numba.experimental.jitclass.boxing.RPacketTracker object at 0x7f98252fc1f0>, <numba.experimental.jitclass.boxing.RPacketTracker object at 0x7f98252fc970>, <numba.experimental.jitclass.boxing.RPacketTracker object at 0x7f98252fc1f0>, <numba.experimental.jitclass.boxing.RPacketTracker object at 0x7f98252fc970>, <numba.experimental.jitclass.boxing.RPacketTracker object at 0x7f98252fc1f0>, <numba.experimental.jitclass.boxing.RPacketTracker object at 0x7f98252fc970>, <numba.experimental.jitclass.boxing.RPacketTracker object at 0x7f98252fc1f0>, <numba.experimental.jitclass.boxing.RPacketTracker object at 0x7f98252fc970>, <numba.experimental.jitclass.boxing.RPacketTracker object at 0x7f98252fc1f0>, <numba.experimental.jitclass.boxing.RPacketTracker object at 0x7f98252fc970>, <numba.experimental.jitclass.boxing.RPacketTracker object at 0x7f98252fc1f0>, <numba.experimental.jitclass.boxing.RPacketTracker object at 0x7f98252fc970>, <numba.experimental.jitclass.boxing.RPacketTracker object at 0x7f98252fc1f0>, <numba.experimental.jitclass.boxing.RPacketTracker object at 0x7f98252fc970>, <numba.experimental.jitclass.boxing.RPacketTracker object at 0x7f98252fc1f0>, <numba.experimental.jitclass.boxing.RPacketTracker object at 0x7f98252fc970>, <numba.experimental.jitclass.boxing.RPacketTracker object at 0x7f98252fc1f0>, <numba.experimental.jitclass.boxing.RPacketTracker object at 0x7f98252fc970>, <numba.experimental.jitclass.boxing.RPacketTracker object at 0x7f98252fc1f0>, <numba.experimental.jitclass.boxing.RPacketTracker object at 0x7f98252fc970>, <numba.experimental.jitclass.boxing.RPacketTracker object at 0x7f98252fc1f0>, <numba.experimental.jitclass.boxing.RPacketTracker object at 0x7f98252fc970>, <numba.experimental.jitclass.boxing.RPacketTracker object at 0x7f98252fc1f0>, <numba.experimental.jitclass.boxing.RPacketTracker object at 0x7f98252fc970>, <numba.experimental.jitclass.boxing.RPacketTracker object at 0x7f98252fc1f0>, <numba.experimental.jitclass.boxing.RPacketTracker object at 0x7f98252fc970>, <numba.experimental.jitclass.boxing.RPacketTracker object at 0x7f98252fc1f0>, <numba.experimental.jitclass.boxing.RPacketTracker object at 0x7f98252fc970>, <numba.experimental.jitclass.boxing.RPacketTracker object at 0x7f98252fc1f0>, <numba.experimental.jitclass.boxing.RPacketTracker object at 0x7f98252fc970>, <numba.experimental.jitclass.boxing.RPacketTracker object at 0x7f98252fc1f0>, <numba.experimental.jitclass.boxing.RPacketTracker object at 0x7f98252fc970>, <numba.experimental.jitclass.boxing.RPacketTracker object at 0x7f98252fc1f0>, <numba.experimental.jitclass.boxing.RPacketTracker object at 0x7f98252fc970>, <numba.experimental.jitclass.boxing.RPacketTracker object at 0x7f98252fc1f0>, <numba.experimental.jitclass.boxing.RPacketTracker object at 0x7f98252fc970>, <numba.experimental.jitclass.boxing.RPacketTracker object at 0x7f98252fc1f0>, <numba.experimental.jitclass.boxing.RPacketTracker object at 0x7f98252fc970>, <numba.experimental.jitclass.boxing.RPacketTracker object at 0x7f98252fc1f0>, <numba.experimental.jitclass.boxing.RPacketTracker object at 0x7f98252fc970>, <numba.experimental.jitclass.boxing.RPacketTracker object at 0x7f98252fc1f0>, <numba.experimental.jitclass.boxing.RPacketTracker object at 0x7f98252fc970>, <numba.experimental.jitclass.boxing.RPacketTracker object at 0x7f98252fc1f0>, <numba.experimental.jitclass.boxing.RPacketTracker object at 0x7f98252fc970>, <numba.experimental.jitclass.boxing.RPacketTracker object at 0x7f98252fc1f0>, <numba.experimental.jitclass.boxing.RPacketTracker object at 0x7f98252fc970>, <numba.experimental.jitclass.boxing.RPacketTracker object at 0x7f98252fc1f0>, <numba.experimental.jitclass.boxing.RPacketTracker object at 0x7f98252fc970>, <numba.experimental.jitclass.boxing.RPacketTracker object at 0x7f98252fc1f0>, <numba.experimental.jitclass.boxing.RPacketTracker object at 0x7f98252fc970>, <numba.experimental.jitclass.boxing.RPacketTracker object at 0x7f98252fc1f0>, <numba.experimental.jitclass.boxing.RPacketTracker object at 0x7f98252fc970>, <numba.experimental.jitclass.boxing.RPacketTracker object at 0x7f98252fc1f0>, <numba.experimental.jitclass.boxing.RPacketTracker object at 0x7f98252fc970>, <numba.experimental.jitclass.boxing.RPacketTracker object at 0x7f98252fc1f0>, <numba.experimental.jitclass.boxing.RPacketTracker object at 0x7f98252fc970>, <numba.experimental.jitclass.boxing.RPacketTracker object at 0x7f98252fc1f0>, <numba.experimental.jitclass.boxing.RPacketTracker object at 0x7f98252fc970>, <numba.experimental.jitclass.boxing.RPacketTracker object at 0x7f98252fc1f0>, <numba.experimental.jitclass.boxing.RPacketTracker object at 0x7f98252fc970>, <numba.experimental.jitclass.boxing.RPacketTracker object at 0x7f98252fc1f0>, <numba.experimental.jitclass.boxing.RPacketTracker object at 0x7f98252fc970>, <numba.experimental.jitclass.boxing.RPacketTracker object at 0x7f98252fc1f0>, <numba.experimental.jitclass.boxing.RPacketTracker object at 0x7f98252fc970>, <numba.experimental.jitclass.boxing.RPacketTracker object at 0x7f98252fc1f0>, <numba.experimental.jitclass.boxing.RPacketTracker object at 0x7f98252fc970>, <numba.experimental.jitclass.boxing.RPacketTracker object at 0x7f98252fc1f0>, <numba.experimental.jitclass.boxing.RPacketTracker object at 0x7f98252fc970>, <numba.experimental.jitclass.boxing.RPacketTracker object at 0x7f98252fc1f0>, <numba.experimental.jitclass.boxing.RPacketTracker object at 0x7f98252fc970>, <numba.experimental.jitclass.boxing.RPacketTracker object at 0x7f98252fc1f0>, <numba.experimental.jitclass.boxing.RPacketTracker object at 0x7f98252fc970>, <numba.experimental.jitclass.boxing.RPacketTracker object at 0x7f98252fc1f0>, <numba.experimental.jitclass.boxing.RPacketTracker object at 0x7f98252fc970>, <numba.experimental.jitclass.boxing.RPacketTracker object at 0x7f98252fc1f0>, <numba.experimental.jitclass.boxing.RPacketTracker object at 0x7f98252fc970>, <numba.experimental.jitclass.boxing.RPacketTracker object at 0x7f98252fc1f0>, <numba.experimental.jitclass.boxing.RPacketTracker object at 0x7f98252fc970>, <numba.experimental.jitclass.boxing.RPacketTracker object at 0x7f98252fc1f0>, <numba.experimental.jitclass.boxing.RPacketTracker object at 0x7f98252fc970>, <numba.experimental.jitclass.boxing.RPacketTracker object at 0x7f98252fc1f0>, <numba.experimental.jitclass.boxing.RPacketTracker object at 0x7f98252fc970>, <numba.experimental.jitclass.boxing.RPacketTracker object at 0x7f98252fc1f0>, <numba.experimental.jitclass.boxing.RPacketTracker object at 0x7f98252fc970>, <numba.experimental.jitclass.boxing.RPacketTracker object at 0x7f98252fc1f0>, <numba.experimental.jitclass.boxing.RPacketTracker object at 0x7f98252fc970>, <numba.experimental.jitclass.boxing.RPacketTracker object at 0x7f98252fc1f0>, <numba.experimental.jitclass.boxing.RPacketTracker object at 0x7f98252fc970>, <numba.experimental.jitclass.boxing.RPacketTracker object at 0x7f98252fc1f0>, <numba.experimental.jitclass.boxing.RPacketTracker object at 0x7f98252fc970>, <numba.experimental.jitclass.boxing.RPacketTracker object at 0x7f98252fc1f0>, <numba.experimental.jitclass.boxing.RPacketTracker object at 0x7f98252fc970>, <numba.experimental.jitclass.boxing.RPacketTracker object at 0x7f98252fc1f0>, <numba.experimental.jitclass.boxing.RPacketTracker object at 0x7f98252fc970>, <numba.experimental.jitclass.boxing.RPacketTracker object at 0x7f98252fc1f0>, <numba.experimental.jitclass.boxing.RPacketTracker object at 0x7f98252fc970>, <numba.experimental.jitclass.boxing.RPacketTracker object at 0x7f98252fc1f0>, <numba.experimental.jitclass.boxing.RPacketTracker object at 0x7f98252fc970>, <numba.experimental.jitclass.boxing.RPacketTracker object at 0x7f98252fc1f0>, <numba.experimental.jitclass.boxing.RPacketTracker object at 0x7f98252fc970>, <numba.experimental.jitclass.boxing.RPacketTracker object at 0x7f98252fc1f0>, <numba.experimental.jitclass.boxing.RPacketTracker object at 0x7f98252fc970>, <numba.experimental.jitclass.boxing.RPacketTracker object at 0x7f98252fc1f0>, <numba.experimental.jitclass.boxing.RPacketTracker object at 0x7f98252fc970>, <numba.experimental.jitclass.boxing.RPacketTracker object at 0x7f98252fc1f0>, <numba.experimental.jitclass.boxing.RPacketTracker object at 0x7f98252fc970>, <numba.experimental.jitclass.boxing.RPacketTracker object at 0x7f98252fc1f0>, <numba.experimental.jitclass.boxing.RPacketTracker object at 0x7f98252fc970>, <numba.experimental.jitclass.boxing.RPacketTracker object at 0x7f98252fc1f0>, <numba.experimental.jitclass.boxing.RPacketTracker object at 0x7f98252fc970>, <numba.experimental.jitclass.boxing.RPacketTracker object at 0x7f98252fc1f0>, <numba.experimental.jitclass.boxing.RPacketTracker object at 0x7f98252fc970>, <numba.experimental.jitclass.boxing.RPacketTracker object at 0x7f98252fc1f0>, <numba.experimental.jitclass.boxing.RPacketTracker object at 0x7f98252fc970>, <numba.experimental.jitclass.boxing.RPacketTracker object at 0x7f98252fc1f0>, <numba.experimental.jitclass.boxing.RPacketTracker object at 0x7f98252fc970>, <numba.experimental.jitclass.boxing.RPacketTracker object at 0x7f98252fc1f0>, <numba.experimental.jitclass.boxing.RPacketTracker object at 0x7f98252fc970>, <numba.experimental.jitclass.boxing.RPacketTracker object at 0x7f98252fc1f0>, <numba.experimental.jitclass.boxing.RPacketTracker object at 0x7f98252fc970>, <numba.experimental.jitclass.boxing.RPacketTracker object at 0x7f98252fc1f0>, <numba.experimental.jitclass.boxing.RPacketTracker object at 0x7f98252fc970>, <numba.experimental.jitclass.boxing.RPacketTracker object at 0x7f98252fc1f0>, <numba.experimental.jitclass.boxing.RPacketTracker object at 0x7f98252fc970>, <numba.experimental.jitclass.boxing.RPacketTracker object at 0x7f98252fc1f0>, <numba.experimental.jitclass.boxing.RPacketTracker object at 0x7f98252fc970>, <numba.experimental.jitclass.boxing.RPacketTracker object at 0x7f98252fc1f0>, <numba.experimental.jitclass.boxing.RPacketTracker object at 0x7f98252fc970>, <numba.experimental.jitclass.boxing.RPacketTracker object at 0x7f98252fc1f0>, <numba.experimental.jitclass.boxing.RPacketTracker object at 0x7f98252fc970>, <numba.experimental.jitclass.boxing.RPacketTracker object at 0x7f98252fc1f0>, <numba.experimental.jitclass.boxing.RPacketTracker object at 0x7f98252fc970>, <numba.experimental.jitclass.boxing.RPacketTracker object at 0x7f98252fc1f0>, <numba.experimental.jitclass.boxing.RPacketTracker object at 0x7f98252fc970>, <numba.experimental.jitclass.boxing.RPacketTracker object at 0x7f98252fc1f0>, <numba.experimental.jitclass.boxing.RPacketTracker object at 0x7f98252fc970>, <numba.experimental.jitclass.boxing.RPacketTracker object at 0x7f98252fc1f0>, <numba.experimental.jitclass.boxing.RPacketTracker object at 0x7f98252fc970>, <numba.experimental.jitclass.boxing.RPacketTracker object at 0x7f98252fc1f0>, <numba.experimental.jitclass.boxing.RPacketTracker object at 0x7f98252fc970>, <numba.experimental.jitclass.boxing.RPacketTracker object at 0x7f98252fc1f0>, <numba.experimental.jitclass.boxing.RPacketTracker object at 0x7f98252fc970>, <numba.experimental.jitclass.boxing.RPacketTracker object at 0x7f98252fc1f0>, <numba.experimental.jitclass.boxing.RPacketTracker object at 0x7f98252fc970>, <numba.experimental.jitclass.boxing.RPacketTracker object at 0x7f98252fc1f0>, <numba.experimental.jitclass.boxing.RPacketTracker object at 0x7f98252fc970>, <numba.experimental.jitclass.boxing.RPacketTracker object at 0x7f98252fc1f0>, <numba.experimental.jitclass.boxing.RPacketTracker object at 0x7f98252fc970>, <numba.experimental.jitclass.boxing.RPacketTracker object at 0x7f98252fc1f0>, <numba.experimental.jitclass.boxing.RPacketTracker object at 0x7f98252fc970>, <numba.experimental.jitclass.boxing.RPacketTracker object at 0x7f98252fc1f0>, <numba.experimental.jitclass.boxing.RPacketTracker object at 0x7f98252fc970>, <numba.experimental.jitclass.boxing.RPacketTracker object at 0x7f98252fc1f0>, <numba.experimental.jitclass.boxing.RPacketTracker object at 0x7f98252fc970>, <numba.experimental.jitclass.boxing.RPacketTracker object at 0x7f98252fc1f0>, <numba.experimental.jitclass.boxing.RPacketTracker object at 0x7f98252fc970>, <numba.experimental.jitclass.boxing.RPacketTracker object at 0x7f98252fc1f0>, <numba.experimental.jitclass.boxing.RPacketTracker object at 0x7f98252fc970>, <numba.experimental.jitclass.boxing.RPacketTracker object at 0x7f98252fc1f0>, <numba.experimental.jitclass.boxing.RPacketTracker object at 0x7f98252fc970>, <numba.experimental.jitclass.boxing.RPacketTracker object at 0x7f98252fc1f0>, <numba.experimental.jitclass.boxing.RPacketTracker object at 0x7f98252fc970>, <numba.experimental.jitclass.boxing.RPacketTracker object at 0x7f98252fc1f0>, <numba.experimental.jitclass.boxing.RPacketTracker object at 0x7f98252fc970>, <numba.experimental.jitclass.boxing.RPacketTracker object at 0x7f98252fc1f0>, <numba.experimental.jitclass.boxing.RPacketTracker object at 0x7f98252fc970>, <numba.experimental.jitclass.boxing.RPacketTracker object at 0x7f98252fc1f0>, <numba.experimental.jitclass.boxing.RPacketTracker object at 0x7f98252fc970>, <numba.experimental.jitclass.boxing.RPacketTracker object at 0x7f98252fc1f0>, <numba.experimental.jitclass.boxing.RPacketTracker object at 0x7f98252fc970>, <numba.experimental.jitclass.boxing.RPacketTracker object at 0x7f98252fc1f0>, <numba.experimental.jitclass.boxing.RPacketTracker object at 0x7f98252fc970>, <numba.experimental.jitclass.boxing.RPacketTracker object at 0x7f98252fc1f0>, <numba.experimental.jitclass.boxing.RPacketTracker object at 0x7f98252fc970>, <numba.experimental.jitclass.boxing.RPacketTracker object at 0x7f98252fc1f0>, <numba.experimental.jitclass.boxing.RPacketTracker object at 0x7f98252fc970>, <numba.experimental.jitclass.boxing.RPacketTracker object at 0x7f98252fc1f0>, <numba.experimental.jitclass.boxing.RPacketTracker object at 0x7f98252fc970>, <numba.experimental.jitclass.boxing.RPacketTracker object at 0x7f98252fc1f0>, <numba.experimental.jitclass.boxing.RPacketTracker object at 0x7f98252fc970>, <numba.experimental.jitclass.boxing.RPacketTracker object at 0x7f98252fc1f0>, <numba.experimental.jitclass.boxing.RPacketTracker object at 0x7f98252fc970>, <numba.experimental.jitclass.boxing.RPacketTracker object at 0x7f98252fc1f0>, <numba.experimental.jitclass.boxing.RPacketTracker object at 0x7f98252fc970>, <numba.experimental.jitclass.boxing.RPacketTracker object at 0x7f98252fc1f0>, <numba.experimental.jitclass.boxing.RPacketTracker object at 0x7f98252fc970>, <numba.experimental.jitclass.boxing.RPacketTracker object at 0x7f98252fc1f0>, <numba.experimental.jitclass.boxing.RPacketTracker object at 0x7f98252fc970>, <numba.experimental.jitclass.boxing.RPacketTracker object at 0x7f98252fc1f0>, <numba.experimental.jitclass.boxing.RPacketTracker object at 0x7f98252fc970>, <numba.experimental.jitclass.boxing.RPacketTracker object at 0x7f98252fc1f0>, <numba.experimental.jitclass.boxing.RPacketTracker object at 0x7f98252fc970>, <numba.experimental.jitclass.boxing.RPacketTracker object at 0x7f98252fc1f0>, <numba.experimental.jitclass.boxing.RPacketTracker object at 0x7f98252fc970>, <numba.experimental.jitclass.boxing.RPacketTracker object at 0x7f98252fc1f0>, <numba.experimental.jitclass.boxing.RPacketTracker object at 0x7f98252fc970>, <numba.experimental.jitclass.boxing.RPacketTracker object at 0x7f98252fc1f0>, <numba.experimental.jitclass.boxing.RPacketTracker object at 0x7f98252fc970>, <numba.experimental.jitclass.boxing.RPacketTracker object at 0x7f98252fc1f0>, <numba.experimental.jitclass.boxing.RPacketTracker object at 0x7f98252fc970>, <numba.experimental.jitclass.boxing.RPacketTracker object at 0x7f98252fc1f0>, <numba.experimental.jitclass.boxing.RPacketTracker object at 0x7f98252fc970>, <numba.experimental.jitclass.boxing.RPacketTracker object at 0x7f98252fc1f0>, <numba.experimental.jitclass.boxing.RPacketTracker object at 0x7f98252fc970>, <numba.experimental.jitclass.boxing.RPacketTracker object at 0x7f98252fc1f0>, <numba.experimental.jitclass.boxing.RPacketTracker object at 0x7f98252fc970>, <numba.experimental.jitclass.boxing.RPacketTracker object at 0x7f98252fc1f0>, <numba.experimental.jitclass.boxing.RPacketTracker object at 0x7f98252fc970>, <numba.experimental.jitclass.boxing.RPacketTracker object at 0x7f98252fc1f0>, <numba.experimental.jitclass.boxing.RPacketTracker object at 0x7f98252fc970>, <numba.experimental.jitclass.boxing.RPacketTracker object at 0x7f98252fc1f0>, <numba.experimental.jitclass.boxing.RPacketTracker object at 0x7f98252fc970>, <numba.experimental.jitclass.boxing.RPacketTracker object at 0x7f98252fc1f0>, <numba.experimental.jitclass.boxing.RPacketTracker object at 0x7f98252fc970>, <numba.experimental.jitclass.boxing.RPacketTracker object at 0x7f98252fc1f0>, <numba.experimental.jitclass.boxing.RPacketTracker object at 0x7f98252fc970>, <numba.experimental.jitclass.boxing.RPacketTracker object at 0x7f98252fc1f0>, <numba.experimental.jitclass.boxing.RPacketTracker object at 0x7f98252fc970>, <numba.experimental.jitclass.boxing.RPacketTracker object at 0x7f98252fc1f0>, <numba.experimental.jitclass.boxing.RPacketTracker object at 0x7f98252fc970>, <numba.experimental.jitclass.boxing.RPacketTracker object at 0x7f98252fc1f0>, <numba.experimental.jitclass.boxing.RPacketTracker object at 0x7f98252fc970>, <numba.experimental.jitclass.boxing.RPacketTracker object at 0x7f98252fc1f0>, <numba.experimental.jitclass.boxing.RPacketTracker object at 0x7f98252fc970>, <numba.experimental.jitclass.boxing.RPacketTracker object at 0x7f98252fc1f0>, <numba.experimental.jitclass.boxing.RPacketTracker object at 0x7f98252fc970>, <numba.experimental.jitclass.boxing.RPacketTracker object at 0x7f98252fc1f0>, <numba.experimental.jitclass.boxing.RPacketTracker object at 0x7f98252fc970>, <numba.experimental.jitclass.boxing.RPacketTracker object at 0x7f98252fc1f0>, <numba.experimental.jitclass.boxing.RPacketTracker object at 0x7f98252fc970>, <numba.experimental.jitclass.boxing.RPacketTracker object at 0x7f98252fc1f0>, <numba.experimental.jitclass.boxing.RPacketTracker object at 0x7f98252fc970>, <numba.experimental.jitclass.boxing.RPacketTracker object at 0x7f98252fc1f0>, <numba.experimental.jitclass.boxing.RPacketTracker object at 0x7f98252fc970>, <numba.experimental.jitclass.boxing.RPacketTracker object at 0x7f98252fc1f0>, <numba.experimental.jitclass.boxing.RPacketTracker object at 0x7f98252fc970>, <numba.experimental.jitclass.boxing.RPacketTracker object at 0x7f98252fc1f0>, <numba.experimental.jitclass.boxing.RPacketTracker object at 0x7f98252fc970>, <numba.experimental.jitclass.boxing.RPacketTracker object at 0x7f98252fc1f0>, <numba.experimental.jitclass.boxing.RPacketTracker object at 0x7f98252fc970>, <numba.experimental.jitclass.boxing.RPacketTracker object at 0x7f98252fc1f0>, <numba.experimental.jitclass.boxing.RPacketTracker object at 0x7f98252fc970>, <numba.experimental.jitclass.boxing.RPacketTracker object at 0x7f98252fc1f0>, <numba.experimental.jitclass.boxing.RPacketTracker object at 0x7f98252fc970>, <numba.experimental.jitclass.boxing.RPacketTracker object at 0x7f98252fc1f0>, <numba.experimental.jitclass.boxing.RPacketTracker object at 0x7f98252fc970>, <numba.experimental.jitclass.boxing.RPacketTracker object at 0x7f98252fc1f0>, <numba.experimental.jitclass.boxing.RPacketTracker object at 0x7f98252fc970>, <numba.experimental.jitclass.boxing.RPacketTracker object at 0x7f98252fc1f0>, <numba.experimental.jitclass.boxing.RPacketTracker object at 0x7f98252fc970>, <numba.experimental.jitclass.boxing.RPacketTracker object at 0x7f98252fc1f0>, <numba.experimental.jitclass.boxing.RPacketTracker object at 0x7f98252fc970>, <numba.experimental.jitclass.boxing.RPacketTracker object at 0x7f98252fc1f0>, <numba.experimental.jitclass.boxing.RPacketTracker object at 0x7f98252fc970>, <numba.experimental.jitclass.boxing.RPacketTracker object at 0x7f98252fc1f0>, <numba.experimental.jitclass.boxing.RPacketTracker object at 0x7f98252fc970>, <numba.experimental.jitclass.boxing.RPacketTracker object at 0x7f98252fc1f0>, <numba.experimental.jitclass.boxing.RPacketTracker object at 0x7f98252fc970>, <numba.experimental.jitclass.boxing.RPacketTracker object at 0x7f98252fc1f0>, <numba.experimental.jitclass.boxing.RPacketTracker object at 0x7f98252fc970>, <numba.experimental.jitclass.boxing.RPacketTracker object at 0x7f98252fc1f0>, <numba.experimental.jitclass.boxing.RPacketTracker object at 0x7f98252fc970>, <numba.experimental.jitclass.boxing.RPacketTracker object at 0x7f98252fc1f0>, <numba.experimental.jitclass.boxing.RPacketTracker object at 0x7f98252fc970>, <numba.experimental.jitclass.boxing.RPacketTracker object at 0x7f98252fc1f0>, <numba.experimental.jitclass.boxing.RPacketTracker object at 0x7f98252fc970>, <numba.experimental.jitclass.boxing.RPacketTracker object at 0x7f98252fc1f0>, <numba.experimental.jitclass.boxing.RPacketTracker object at 0x7f98252fc970>, <numba.experimental.jitclass.boxing.RPacketTracker object at 0x7f98252fc1f0>, <numba.experimental.jitclass.boxing.RPacketTracker object at 0x7f98252fc970>, <numba.experimental.jitclass.boxing.RPacketTracker object at 0x7f98252fc1f0>, <numba.experimental.jitclass.boxing.RPacketTracker object at 0x7f98252fc970>, <numba.experimental.jitclass.boxing.RPacketTracker object at 0x7f98252fc1f0>, <numba.experimental.jitclass.boxing.RPacketTracker object at 0x7f98252fc970>, <numba.experimental.jitclass.boxing.RPacketTracker object at 0x7f98252fc1f0>, <numba.experimental.jitclass.boxing.RPacketTracker object at 0x7f98252fc970>, <numba.experimental.jitclass.boxing.RPacketTracker object at 0x7f98252fc1f0>, <numba.experimental.jitclass.boxing.RPacketTracker object at 0x7f98252fc970>, <numba.experimental.jitclass.boxing.RPacketTracker object at 0x7f98252fc1f0>, <numba.experimental.jitclass.boxing.RPacketTracker object at 0x7f98252fc970>, <numba.experimental.jitclass.boxing.RPacketTracker object at 0x7f98252fc1f0>, <numba.experimental.jitclass.boxing.RPacketTracker object at 0x7f98252fc970>, <numba.experimental.jitclass.boxing.RPacketTracker object at 0x7f98252fc1f0>, <numba.experimental.jitclass.boxing.RPacketTracker object at 0x7f98252fc970>, <numba.experimental.jitclass.boxing.RPacketTracker object at 0x7f98252fc1f0>, <numba.experimental.jitclass.boxing.RPacketTracker object at 0x7f98252fc970>, <numba.experimental.jitclass.boxing.RPacketTracker object at 0x7f98252fc1f0>, <numba.experimental.jitclass.boxing.RPacketTracker object at 0x7f98252fc970>, <numba.experimental.jitclass.boxing.RPacketTracker object at 0x7f98252fc1f0>, <numba.experimental.jitclass.boxing.RPacketTracker object at 0x7f98252fc970>, <numba.experimental.jitclass.boxing.RPacketTracker object at 0x7f98252fc1f0>, <numba.experimental.jitclass.boxing.RPacketTracker object at 0x7f98252fc970>, <numba.experimental.jitclass.boxing.RPacketTracker object at 0x7f98252fc1f0>, <numba.experimental.jitclass.boxing.RPacketTracker object at 0x7f98252fc970>, <numba.experimental.jitclass.boxing.RPacketTracker object at 0x7f98252fc1f0>, <numba.experimental.jitclass.boxing.RPacketTracker object at 0x7f98252fc970>, <numba.experimental.jitclass.boxing.RPacketTracker object at 0x7f98252fc1f0>, <numba.experimental.jitclass.boxing.RPacketTracker object at 0x7f98252fc970>, <numba.experimental.jitclass.boxing.RPacketTracker object at 0x7f98252fc1f0>, <numba.experimental.jitclass.boxing.RPacketTracker object at 0x7f98252fc970>, <numba.experimental.jitclass.boxing.RPacketTracker object at 0x7f98252fc1f0>, <numba.experimental.jitclass.boxing.RPacketTracker object at 0x7f98252fc970>, <numba.experimental.jitclass.boxing.RPacketTracker object at 0x7f98252fc1f0>, <numba.experimental.jitclass.boxing.RPacketTracker object at 0x7f98252fc970>, <numba.experimental.jitclass.boxing.RPacketTracker object at 0x7f98252fc1f0>, <numba.experimental.jitclass.boxing.RPacketTracker object at 0x7f98252fc970>, <numba.experimental.jitclass.boxing.RPacketTracker object at 0x7f98252fc1f0>, <numba.experimental.jitclass.boxing.RPacketTracker object at 0x7f98252fc970>, <numba.experimental.jitclass.boxing.RPacketTracker object at 0x7f98252fc1f0>, <numba.experimental.jitclass.boxing.RPacketTracker object at 0x7f98252fc970>, <numba.experimental.jitclass.boxing.RPacketTracker object at 0x7f98252fc1f0>, <numba.experimental.jitclass.boxing.RPacketTracker object at 0x7f98252fc970>, <numba.experimental.jitclass.boxing.RPacketTracker object at 0x7f98252fc1f0>, <numba.experimental.jitclass.boxing.RPacketTracker object at 0x7f98252fc970>, <numba.experimental.jitclass.boxing.RPacketTracker object at 0x7f98252fc1f0>, <numba.experimental.jitclass.boxing.RPacketTracker object at 0x7f98252fc970>, <numba.experimental.jitclass.boxing.RPacketTracker object at 0x7f98252fc1f0>, <numba.experimental.jitclass.boxing.RPacketTracker object at 0x7f98252fc970>, <numba.experimental.jitclass.boxing.RPacketTracker object at 0x7f98252fc1f0>, <numba.experimental.jitclass.boxing.RPacketTracker object at 0x7f98252fc970>, <numba.experimental.jitclass.boxing.RPacketTracker object at 0x7f98252fc1f0>, <numba.experimental.jitclass.boxing.RPacketTracker object at 0x7f98252fc970>, <numba.experimental.jitclass.boxing.RPacketTracker object at 0x7f98252fc1f0>, <numba.experimental.jitclass.boxing.RPacketTracker object at 0x7f98252fc970>, <numba.experimental.jitclass.boxing.RPacketTracker object at 0x7f98252fc1f0>, <numba.experimental.jitclass.boxing.RPacketTracker object at 0x7f98252fc970>, <numba.experimental.jitclass.boxing.RPacketTracker object at 0x7f98252fc1f0>, <numba.experimental.jitclass.boxing.RPacketTracker object at 0x7f98252fc970>, <numba.experimental.jitclass.boxing.RPacketTracker object at 0x7f98252fc1f0>, <numba.experimental.jitclass.boxing.RPacketTracker object at 0x7f98252fc970>, <numba.experimental.jitclass.boxing.RPacketTracker object at 0x7f98252fc1f0>, <numba.experimental.jitclass.boxing.RPacketTracker object at 0x7f98252fc970>, <numba.experimental.jitclass.boxing.RPacketTracker object at 0x7f98252fc1f0>, <numba.experimental.jitclass.boxing.RPacketTracker object at 0x7f98252fc970>, <numba.experimental.jitclass.boxing.RPacketTracker object at 0x7f98252fc1f0>, <numba.experimental.jitclass.boxing.RPacketTracker object at 0x7f98252fc970>, <numba.experimental.jitclass.boxing.RPacketTracker object at 0x7f98252fc1f0>, <numba.experimental.jitclass.boxing.RPacketTracker object at 0x7f98252fc970>, <numba.experimental.jitclass.boxing.RPacketTracker object at 0x7f98252fc1f0>, <numba.experimental.jitclass.boxing.RPacketTracker object at 0x7f98252fc970>, <numba.experimental.jitclass.boxing.RPacketTracker object at 0x7f98252fc1f0>, <numba.experimental.jitclass.boxing.RPacketTracker object at 0x7f98252fc970>, <numba.experimental.jitclass.boxing.RPacketTracker object at 0x7f98252fc1f0>, <numba.experimental.jitclass.boxing.RPacketTracker object at 0x7f98252fc970>, <numba.experimental.jitclass.boxing.RPacketTracker object at 0x7f98252fc1f0>, <numba.experimental.jitclass.boxing.RPacketTracker object at 0x7f98252fc970>, <numba.experimental.jitclass.boxing.RPacketTracker object at 0x7f98252fc1f0>, <numba.experimental.jitclass.boxing.RPacketTracker object at 0x7f98252fc970>, <numba.experimental.jitclass.boxing.RPacketTracker object at 0x7f98252fc1f0>, <numba.experimental.jitclass.boxing.RPacketTracker object at 0x7f98252fc970>, <numba.experimental.jitclass.boxing.RPacketTracker object at 0x7f98252fc1f0>, <numba.experimental.jitclass.boxing.RPacketTracker object at 0x7f98252fc970>, <numba.experimental.jitclass.boxing.RPacketTracker object at 0x7f98252fc1f0>, <numba.experimental.jitclass.boxing.RPacketTracker object at 0x7f98252fc970>, <numba.experimental.jitclass.boxing.RPacketTracker object at 0x7f98252fc1f0>, <numba.experimental.jitclass.boxing.RPacketTracker object at 0x7f98252fc970>, <numba.experimental.jitclass.boxing.RPacketTracker object at 0x7f98252fc1f0>, <numba.experimental.jitclass.boxing.RPacketTracker object at 0x7f98252fc970>, <numba.experimental.jitclass.boxing.RPacketTracker object at 0x7f98252fc1f0>, <numba.experimental.jitclass.boxing.RPacketTracker object at 0x7f98252fc970>, <numba.experimental.jitclass.boxing.RPacketTracker object at 0x7f98252fc1f0>, <numba.experimental.jitclass.boxing.RPacketTracker object at 0x7f98252fc970>, <numba.experimental.jitclass.boxing.RPacketTracker object at 0x7f98252fc1f0>, <numba.experimental.jitclass.boxing.RPacketTracker object at 0x7f98252fc970>, <numba.experimental.jitclass.boxing.RPacketTracker object at 0x7f98252fc1f0>, <numba.experimental.jitclass.boxing.RPacketTracker object at 0x7f98252fc970>, <numba.experimental.jitclass.boxing.RPacketTracker object at 0x7f98252fc1f0>, <numba.experimental.jitclass.boxing.RPacketTracker object at 0x7f98252fc970>, <numba.experimental.jitclass.boxing.RPacketTracker object at 0x7f98252fc1f0>, <numba.experimental.jitclass.boxing.RPacketTracker object at 0x7f98252fc970>, <numba.experimental.jitclass.boxing.RPacketTracker object at 0x7f98252fc1f0>, <numba.experimental.jitclass.boxing.RPacketTracker object at 0x7f98252fc970>, <numba.experimental.jitclass.boxing.RPacketTracker object at 0x7f98252fc1f0>, <numba.experimental.jitclass.boxing.RPacketTracker object at 0x7f98252fc970>, <numba.experimental.jitclass.boxing.RPacketTracker object at 0x7f98252fc1f0>, <numba.experimental.jitclass.boxing.RPacketTracker object at 0x7f98252fc970>, <numba.experimental.jitclass.boxing.RPacketTracker object at 0x7f98252fc1f0>, <numba.experimental.jitclass.boxing.RPacketTracker object at 0x7f98252fc970>, <numba.experimental.jitclass.boxing.RPacketTracker object at 0x7f98252fc1f0>, <numba.experimental.jitclass.boxing.RPacketTracker object at 0x7f98252fc970>, <numba.experimental.jitclass.boxing.RPacketTracker object at 0x7f98252fc1f0>, <numba.experimental.jitclass.boxing.RPacketTracker object at 0x7f98252fc970>, <numba.experimental.jitclass.boxing.RPacketTracker object at 0x7f98252fc1f0>, <numba.experimental.jitclass.boxing.RPacketTracker object at 0x7f98252fc970>, <numba.experimental.jitclass.boxing.RPacketTracker object at 0x7f98252fc1f0>, <numba.experimental.jitclass.boxing.RPacketTracker object at 0x7f98252fc970>, <numba.experimental.jitclass.boxing.RPacketTracker object at 0x7f98252fc1f0>, <numba.experimental.jitclass.boxing.RPacketTracker object at 0x7f98252fc970>, <numba.experimental.jitclass.boxing.RPacketTracker object at 0x7f98252fc1f0>, <numba.experimental.jitclass.boxing.RPacketTracker object at 0x7f98252fc970>, <numba.experimental.jitclass.boxing.RPacketTracker object at 0x7f98252fc1f0>, <numba.experimental.jitclass.boxing.RPacketTracker object at 0x7f98252fc970>, <numba.experimental.jitclass.boxing.RPacketTracker object at 0x7f98252fc1f0>, <numba.experimental.jitclass.boxing.RPacketTracker object at 0x7f98252fc970>, <numba.experimental.jitclass.boxing.RPacketTracker object at 0x7f98252fc1f0>, <numba.experimental.jitclass.boxing.RPacketTracker object at 0x7f98252fc970>, <numba.experimental.jitclass.boxing.RPacketTracker object at 0x7f98252fc1f0>, <numba.experimental.jitclass.boxing.RPacketTracker object at 0x7f98252fc970>, <numba.experimental.jitclass.boxing.RPacketTracker object at 0x7f98252fc1f0>, <numba.experimental.jitclass.boxing.RPacketTracker object at 0x7f98252fc970>, <numba.experimental.jitclass.boxing.RPacketTracker object at 0x7f98252fc1f0>, <numba.experimental.jitclass.boxing.RPacketTracker object at 0x7f98252fc970>, <numba.experimental.jitclass.boxing.RPacketTracker object at 0x7f98252fc1f0>, <numba.experimental.jitclass.boxing.RPacketTracker object at 0x7f98252fc970>, <numba.experimental.jitclass.boxing.RPacketTracker object at 0x7f98252fc1f0>, <numba.experimental.jitclass.boxing.RPacketTracker object at 0x7f98252fc970>, <numba.experimental.jitclass.boxing.RPacketTracker object at 0x7f98252fc1f0>, <numba.experimental.jitclass.boxing.RPacketTracker object at 0x7f98252fc970>, <numba.experimental.jitclass.boxing.RPacketTracker object at 0x7f98252fc1f0>, <numba.experimental.jitclass.boxing.RPacketTracker object at 0x7f98252fc970>, <numba.experimental.jitclass.boxing.RPacketTracker object at 0x7f98252fc1f0>, <numba.experimental.jitclass.boxing.RPacketTracker object at 0x7f98252fc970>, <numba.experimental.jitclass.boxing.RPacketTracker object at 0x7f98252fc1f0>, <numba.experimental.jitclass.boxing.RPacketTracker object at 0x7f98252fc970>, <numba.experimental.jitclass.boxing.RPacketTracker object at 0x7f98252fc1f0>, <numba.experimental.jitclass.boxing.RPacketTracker object at 0x7f98252fc970>, <numba.experimental.jitclass.boxing.RPacketTracker object at 0x7f98252fc1f0>, <numba.experimental.jitclass.boxing.RPacketTracker object at 0x7f98252fc970>, <numba.experimental.jitclass.boxing.RPacketTracker object at 0x7f98252fc1f0>, <numba.experimental.jitclass.boxing.RPacketTracker object at 0x7f98252fc970>, <numba.experimental.jitclass.boxing.RPacketTracker object at 0x7f98252fc1f0>, <numba.experimental.jitclass.boxing.RPacketTracker object at 0x7f98252fc970>, <numba.experimental.jitclass.boxing.RPacketTracker object at 0x7f98252fc1f0>, <numba.experimental.jitclass.boxing.RPacketTracker object at 0x7f98252fc970>, <numba.experimental.jitclass.boxing.RPacketTracker object at 0x7f98252fc1f0>, <numba.experimental.jitclass.boxing.RPacketTracker object at 0x7f98252fc970>, <numba.experimental.jitclass.boxing.RPacketTracker object at 0x7f98252fc1f0>, <numba.experimental.jitclass.boxing.RPacketTracker object at 0x7f98252fc970>, <numba.experimental.jitclass.boxing.RPacketTracker object at 0x7f98252fc1f0>, <numba.experimental.jitclass.boxing.RPacketTracker object at 0x7f98252fc970>, <numba.experimental.jitclass.boxing.RPacketTracker object at 0x7f98252fc1f0>, <numba.experimental.jitclass.boxing.RPacketTracker object at 0x7f98252fc970>, <numba.experimental.jitclass.boxing.RPacketTracker object at 0x7f98252fc1f0>, <numba.experimental.jitclass.boxing.RPacketTracker object at 0x7f98252fc970>, <numba.experimental.jitclass.boxing.RPacketTracker object at 0x7f98252fc1f0>, <numba.experimental.jitclass.boxing.RPacketTracker object at 0x7f98252fc970>, <numba.experimental.jitclass.boxing.RPacketTracker object at 0x7f98252fc1f0>, <numba.experimental.jitclass.boxing.RPacketTracker object at 0x7f98252fc970>, <numba.experimental.jitclass.boxing.RPacketTracker object at 0x7f98252fc1f0>, <numba.experimental.jitclass.boxing.RPacketTracker object at 0x7f98252fc970>, <numba.experimental.jitclass.boxing.RPacketTracker object at 0x7f98252fc1f0>, <numba.experimental.jitclass.boxing.RPacketTracker object at 0x7f98252fc970>, <numba.experimental.jitclass.boxing.RPacketTracker object at 0x7f98252fc1f0>, <numba.experimental.jitclass.boxing.RPacketTracker object at 0x7f98252fc970>, <numba.experimental.jitclass.boxing.RPacketTracker object at 0x7f98252fc1f0>, <numba.experimental.jitclass.boxing.RPacketTracker object at 0x7f98252fc970>, <numba.experimental.jitclass.boxing.RPacketTracker object at 0x7f98252fc1f0>, <numba.experimental.jitclass.boxing.RPacketTracker object at 0x7f98252fc970>, <numba.experimental.jitclass.boxing.RPacketTracker object at 0x7f98252fc1f0>, <numba.experimental.jitclass.boxing.RPacketTracker object at 0x7f98252fc970>, <numba.experimental.jitclass.boxing.RPacketTracker object at 0x7f98252fc1f0>, <numba.experimental.jitclass.boxing.RPacketTracker object at 0x7f98252fc970>, <numba.experimental.jitclass.boxing.RPacketTracker object at 0x7f98252fc1f0>, <numba.experimental.jitclass.boxing.RPacketTracker object at 0x7f98252fc970>, <numba.experimental.jitclass.boxing.RPacketTracker object at 0x7f98252fc1f0>, <numba.experimental.jitclass.boxing.RPacketTracker object at 0x7f98252fc970>, <numba.experimental.jitclass.boxing.RPacketTracker object at 0x7f98252fc1f0>, <numba.experimental.jitclass.boxing.RPacketTracker object at 0x7f98252fc970>, <numba.experimental.jitclass.boxing.RPacketTracker object at 0x7f98252fc1f0>, <numba.experimental.jitclass.boxing.RPacketTracker object at 0x7f98252fc970>, <numba.experimental.jitclass.boxing.RPacketTracker object at 0x7f98252fc1f0>, <numba.experimental.jitclass.boxing.RPacketTracker object at 0x7f98252fc970>, <numba.experimental.jitclass.boxing.RPacketTracker object at 0x7f98252fc1f0>, <numba.experimental.jitclass.boxing.RPacketTracker object at 0x7f98252fc970>, <numba.experimental.jitclass.boxing.RPacketTracker object at 0x7f98252fc1f0>, <numba.experimental.jitclass.boxing.RPacketTracker object at 0x7f98252fc970>, <numba.experimental.jitclass.boxing.RPacketTracker object at 0x7f98252fc1f0>, <numba.experimental.jitclass.boxing.RPacketTracker object at 0x7f98252fc970>, <numba.experimental.jitclass.boxing.RPacketTracker object at 0x7f98252fc1f0>, <numba.experimental.jitclass.boxing.RPacketTracker object at 0x7f98252fc970>, <numba.experimental.jitclass.boxing.RPacketTracker object at 0x7f98252fc1f0>, <numba.experimental.jitclass.boxing.RPacketTracker object at 0x7f98252fc970>, <numba.experimental.jitclass.boxing.RPacketTracker object at 0x7f98252fc1f0>, <numba.experimental.jitclass.boxing.RPacketTracker object at 0x7f98252fc970>, <numba.experimental.jitclass.boxing.RPacketTracker object at 0x7f98252fc1f0>, <numba.experimental.jitclass.boxing.RPacketTracker object at 0x7f98252fc970>, <numba.experimental.jitclass.boxing.RPacketTracker object at 0x7f98252fc1f0>, <numba.experimental.jitclass.boxing.RPacketTracker object at 0x7f98252fc970>, <numba.experimental.jitclass.boxing.RPacketTracker object at 0x7f98252fc1f0>, <numba.experimental.jitclass.boxing.RPacketTracker object at 0x7f98252fc970>, <numba.experimental.jitclass.boxing.RPacketTracker object at 0x7f98252fc1f0>, <numba.experimental.jitclass.boxing.RPacketTracker object at 0x7f98252fc970>, <numba.experimental.jitclass.boxing.RPacketTracker object at 0x7f98252fc1f0>, <numba.experimental.jitclass.boxing.RPacketTracker object at 0x7f98252fc970>, <numba.experimental.jitclass.boxing.RPacketTracker object at 0x7f98252fc1f0>, <numba.experimental.jitclass.boxing.RPacketTracker object at 0x7f98252fc970>, <numba.experimental.jitclass.boxing.RPacketTracker object at 0x7f98252fc1f0>, <numba.experimental.jitclass.boxing.RPacketTracker object at 0x7f98252fc970>, <numba.experimental.jitclass.boxing.RPacketTracker object at 0x7f98252fc1f0>, <numba.experimental.jitclass.boxing.RPacketTracker object at 0x7f98252fc970>, <numba.experimental.jitclass.boxing.RPacketTracker object at 0x7f98252fc1f0>, <numba.experimental.jitclass.boxing.RPacketTracker object at 0x7f98252fc970>, <numba.experimental.jitclass.boxing.RPacketTracker object at 0x7f98252fc1f0>, <numba.experimental.jitclass.boxing.RPacketTracker object at 0x7f98252fc970>, <numba.experimental.jitclass.boxing.RPacketTracker object at 0x7f98252fc1f0>, <numba.experimental.jitclass.boxing.RPacketTracker object at 0x7f98252fc970>, <numba.experimental.jitclass.boxing.RPacketTracker object at 0x7f98252fc1f0>, <numba.experimental.jitclass.boxing.RPacketTracker object at 0x7f98252fc970>, <numba.experimental.jitclass.boxing.RPacketTracker object at 0x7f98252fc1f0>, <numba.experimental.jitclass.boxing.RPacketTracker object at 0x7f98252fc970>, <numba.experimental.jitclass.boxing.RPacketTracker object at 0x7f98252fc1f0>, <numba.experimental.jitclass.boxing.RPacketTracker object at 0x7f98252fc970>, <numba.experimental.jitclass.boxing.RPacketTracker object at 0x7f98252fc1f0>, <numba.experimental.jitclass.boxing.RPacketTracker object at 0x7f98252fc970>, <numba.experimental.jitclass.boxing.RPacketTracker object at 0x7f98252fc1f0>, <numba.experimental.jitclass.boxing.RPacketTracker object at 0x7f98252fc970>, <numba.experimental.jitclass.boxing.RPacketTracker object at 0x7f98252fc1f0>, <numba.experimental.jitclass.boxing.RPacketTracker object at 0x7f98252fc970>, <numba.experimental.jitclass.boxing.RPacketTracker object at 0x7f98252fc1f0>, <numba.experimental.jitclass.boxing.RPacketTracker object at 0x7f98252fc970>, <numba.experimental.jitclass.boxing.RPacketTracker object at 0x7f98252fc1f0>, <numba.experimental.jitclass.boxing.RPacketTracker object at 0x7f98252fc970>, <numba.experimental.jitclass.boxing.RPacketTracker object at 0x7f98252fc1f0>, <numba.experimental.jitclass.boxing.RPacketTracker object at 0x7f98252fc970>, <numba.experimental.jitclass.boxing.RPacketTracker object at 0x7f98252fc1f0>, <numba.experimental.jitclass.boxing.RPacketTracker object at 0x7f98252fc970>, <numba.experimental.jitclass.boxing.RPacketTracker object at 0x7f98252fc1f0>, <numba.experimental.jitclass.boxing.RPacketTracker object at 0x7f98252fc970>, <numba.experimental.jitclass.boxing.RPacketTracker object at 0x7f98252fc1f0>, <numba.experimental.jitclass.boxing.RPacketTracker object at 0x7f98252fc970>, <numba.experimental.jitclass.boxing.RPacketTracker object at 0x7f98252fc1f0>, <numba.experimental.jitclass.boxing.RPacketTracker object at 0x7f98252fc970>, <numba.experimental.jitclass.boxing.RPacketTracker object at 0x7f98252fc1f0>, <numba.experimental.jitclass.boxing.RPacketTracker object at 0x7f98252fc970>, <numba.experimental.jitclass.boxing.RPacketTracker object at 0x7f98252fc1f0>, <numba.experimental.jitclass.boxing.RPacketTracker object at 0x7f98252fc970>, <numba.experimental.jitclass.boxing.RPacketTracker object at 0x7f98252fc1f0>, <numba.experimental.jitclass.boxing.RPacketTracker object at 0x7f98252fc970>, <numba.experimental.jitclass.boxing.RPacketTracker object at 0x7f98252fc1f0>, <numba.experimental.jitclass.boxing.RPacketTracker object at 0x7f98252fc970>, <numba.experimental.jitclass.boxing.RPacketTracker object at 0x7f98252fc1f0>, <numba.experimental.jitclass.boxing.RPacketTracker object at 0x7f98252fc970>, <numba.experimental.jitclass.boxing.RPacketTracker object at 0x7f98252fc1f0>, <numba.experimental.jitclass.boxing.RPacketTracker object at 0x7f98252fc970>, <numba.experimental.jitclass.boxing.RPacketTracker object at 0x7f98252fc1f0>, <numba.experimental.jitclass.boxing.RPacketTracker object at 0x7f98252fc970>, <numba.experimental.jitclass.boxing.RPacketTracker object at 0x7f98252fc1f0>, <numba.experimental.jitclass.boxing.RPacketTracker object at 0x7f98252fc970>, <numba.experimental.jitclass.boxing.RPacketTracker object at 0x7f98252fc1f0>, <numba.experimental.jitclass.boxing.RPacketTracker object at 0x7f98252fc970>, <numba.experimental.jitclass.boxing.RPacketTracker object at 0x7f98252fc1f0>, <numba.experimental.jitclass.boxing.RPacketTracker object at 0x7f98252fc970>, <numba.experimental.jitclass.boxing.RPacketTracker object at 0x7f98252fc1f0>, <numba.experimental.jitclass.boxing.RPacketTracker object at 0x7f98252fc970>, <numba.experimental.jitclass.boxing.RPacketTracker object at 0x7f98252fc1f0>, <numba.experimental.jitclass.boxing.RPacketTracker object at 0x7f98252fc970>, <numba.experimental.jitclass.boxing.RPacketTracker object at 0x7f98252fc1f0>, <numba.experimental.jitclass.boxing.RPacketTracker object at 0x7f98252fc970>, <numba.experimental.jitclass.boxing.RPacketTracker object at 0x7f98252fc1f0>, <numba.experimental.jitclass.boxing.RPacketTracker object at 0x7f98252fc970>, <numba.experimental.jitclass.boxing.RPacketTracker object at 0x7f98252fc1f0>, <numba.experimental.jitclass.boxing.RPacketTracker object at 0x7f98252fc970>, <numba.experimental.jitclass.boxing.RPacketTracker object at 0x7f98252fc1f0>, <numba.experimental.jitclass.boxing.RPacketTracker object at 0x7f98252fc970>, <numba.experimental.jitclass.boxing.RPacketTracker object at 0x7f98252fc1f0>, <numba.experimental.jitclass.boxing.RPacketTracker object at 0x7f98252fc970>, <numba.experimental.jitclass.boxing.RPacketTracker object at 0x7f98252fc1f0>, <numba.experimental.jitclass.boxing.RPacketTracker object at 0x7f98252fc970>, <numba.experimental.jitclass.boxing.RPacketTracker object at 0x7f98252fc1f0>, <numba.experimental.jitclass.boxing.RPacketTracker object at 0x7f98252fc970>, <numba.experimental.jitclass.boxing.RPacketTracker object at 0x7f98252fc1f0>, <numba.experimental.jitclass.boxing.RPacketTracker object at 0x7f98252fc970>, <numba.experimental.jitclass.boxing.RPacketTracker object at 0x7f98252fc1f0>, <numba.experimental.jitclass.boxing.RPacketTracker object at 0x7f98252fc970>, <numba.experimental.jitclass.boxing.RPacketTracker object at 0x7f98252fc1f0>, <numba.experimental.jitclass.boxing.RPacketTracker object at 0x7f98252fc970>, <numba.experimental.jitclass.boxing.RPacketTracker object at 0x7f98252fc1f0>, <numba.experimental.jitclass.boxing.RPacketTracker object at 0x7f98252fc970>, <numba.experimental.jitclass.boxing.RPacketTracker object at 0x7f98252fc1f0>, <numba.experimental.jitclass.boxing.RPacketTracker object at 0x7f98252fc970>, <numba.experimental.jitclass.boxing.RPacketTracker object at 0x7f98252fc1f0>, <numba.experimental.jitclass.boxing.RPacketTracker object at 0x7f98252fc970>, <numba.experimental.jitclass.boxing.RPacketTracker object at 0x7f98252fc1f0>, <numba.experimental.jitclass.boxing.RPacketTracker object at 0x7f98252fc970>, <numba.experimental.jitclass.boxing.RPacketTracker object at 0x7f98252fc1f0>, <numba.experimental.jitclass.boxing.RPacketTracker object at 0x7f98252fc970>, <numba.experimental.jitclass.boxing.RPacketTracker object at 0x7f98252fc1f0>, <numba.experimental.jitclass.boxing.RPacketTracker object at 0x7f98252fc970>, <numba.experimental.jitclass.boxing.RPacketTracker object at 0x7f98252fc1f0>, <numba.experimental.jitclass.boxing.RPacketTracker object at 0x7f98252fc970>, <numba.experimental.jitclass.boxing.RPacketTracker object at 0x7f98252fc1f0>, <numba.experimental.jitclass.boxing.RPacketTracker object at 0x7f98252fc970>, <numba.experimental.jitclass.boxing.RPacketTracker object at 0x7f98252fc1f0>, <numba.experimental.jitclass.boxing.RPacketTracker object at 0x7f98252fc970>, <numba.experimental.jitclass.boxing.RPacketTracker object at 0x7f98252fc1f0>, <numba.experimental.jitclass.boxing.RPacketTracker object at 0x7f98252fc970>, <numba.experimental.jitclass.boxing.RPacketTracker object at 0x7f98252fc1f0>, <numba.experimental.jitclass.boxing.RPacketTracker object at 0x7f98252fc970>, <numba.experimental.jitclass.boxing.RPacketTracker object at 0x7f98252fc1f0>, <numba.experimental.jitclass.boxing.RPacketTracker object at 0x7f98252fc970>, <numba.experimental.jitclass.boxing.RPacketTracker object at 0x7f98252fc1f0>, <numba.experimental.jitclass.boxing.RPacketTracker object at 0x7f98252fc970>, <numba.experimental.jitclass.boxing.RPacketTracker object at 0x7f98252fc1f0>, <numba.experimental.jitclass.boxing.RPacketTracker object at 0x7f98252fc970>, <numba.experimental.jitclass.boxing.RPacketTracker object at 0x7f98252fc1f0>, <numba.experimental.jitclass.boxing.RPacketTracker object at 0x7f98252fc970>, <numba.experimental.jitclass.boxing.RPacketTracker object at 0x7f98252fc1f0>, <numba.experimental.jitclass.boxing.RPacketTracker object at 0x7f98252fc970>, <numba.experimental.jitclass.boxing.RPacketTracker object at 0x7f98252fc1f0>, <numba.experimental.jitclass.boxing.RPacketTracker object at 0x7f98252fc970>, <numba.experimental.jitclass.boxing.RPacketTracker object at 0x7f98252fc1f0>, <numba.experimental.jitclass.boxing.RPacketTracker object at 0x7f98252fc970>, <numba.experimental.jitclass.boxing.RPacketTracker object at 0x7f98252fc1f0>, <numba.experimental.jitclass.boxing.RPacketTracker object at 0x7f98252fc970>, <numba.experimental.jitclass.boxing.RPacketTracker object at 0x7f98252fc1f0>, <numba.experimental.jitclass.boxing.RPacketTracker object at 0x7f98252fc970>, <numba.experimental.jitclass.boxing.RPacketTracker object at 0x7f98252fc1f0>, <numba.experimental.jitclass.boxing.RPacketTracker object at 0x7f98252fc970>, <numba.experimental.jitclass.boxing.RPacketTracker object at 0x7f98252fc1f0>, <numba.experimental.jitclass.boxing.RPacketTracker object at 0x7f98252fc970>, <numba.experimental.jitclass.boxing.RPacketTracker object at 0x7f98252fc1f0>, <numba.experimental.jitclass.boxing.RPacketTracker object at 0x7f98252fc970>, <numba.experimental.jitclass.boxing.RPacketTracker object at 0x7f98252fc1f0>, <numba.experimental.jitclass.boxing.RPacketTracker object at 0x7f98252fc970>, <numba.experimental.jitclass.boxing.RPacketTracker object at 0x7f98252fc1f0>, <numba.experimental.jitclass.boxing.RPacketTracker object at 0x7f98252fc970>, <numba.experimental.jitclass.boxing.RPacketTracker object at 0x7f98252fc1f0>, <numba.experimental.jitclass.boxing.RPacketTracker object at 0x7f98252fc970>, <numba.experimental.jitclass.boxing.RPacketTracker object at 0x7f98252fc1f0>, <numba.experimental.jitclass.boxing.RPacketTracker object at 0x7f98252fc970>, <numba.experimental.jitclass.boxing.RPacketTracker object at 0x7f98252fc1f0>, <numba.experimental.jitclass.boxing.RPacketTracker object at 0x7f98252fc970>, <numba.experimental.jitclass.boxing.RPacketTracker object at 0x7f98252fc1f0>, <numba.experimental.jitclass.boxing.RPacketTracker object at 0x7f98252fc970>, <numba.experimental.jitclass.boxing.RPacketTracker object at 0x7f98252fc1f0>, <numba.experimental.jitclass.boxing.RPacketTracker object at 0x7f98252fc970>, <numba.experimental.jitclass.boxing.RPacketTracker object at 0x7f98252fc1f0>, <numba.experimental.jitclass.boxing.RPacketTracker object at 0x7f98252fc970>, <numba.experimental.jitclass.boxing.RPacketTracker object at 0x7f98252fc1f0>, <numba.experimental.jitclass.boxing.RPacketTracker object at 0x7f98252fc970>, <numba.experimental.jitclass.boxing.RPacketTracker object at 0x7f98252fc1f0>, <numba.experimental.jitclass.boxing.RPacketTracker object at 0x7f98252fc970>, <numba.experimental.jitclass.boxing.RPacketTracker object at 0x7f98252fc1f0>, <numba.experimental.jitclass.boxing.RPacketTracker object at 0x7f98252fc970>, <numba.experimental.jitclass.boxing.RPacketTracker object at 0x7f98252fc1f0>, <numba.experimental.jitclass.boxing.RPacketTracker object at 0x7f98252fc970>, <numba.experimental.jitclass.boxing.RPacketTracker object at 0x7f98252fc1f0>, <numba.experimental.jitclass.boxing.RPacketTracker object at 0x7f98252fc970>, <numba.experimental.jitclass.boxing.RPacketTracker object at 0x7f98252fc1f0>, <numba.experimental.jitclass.boxing.RPacketTracker object at 0x7f98252fc970>, <numba.experimental.jitclass.boxing.RPacketTracker object at 0x7f98252fc1f0>, <numba.experimental.jitclass.boxing.RPacketTracker object at 0x7f98252fc970>, <numba.experimental.jitclass.boxing.RPacketTracker object at 0x7f98252fc1f0>, <numba.experimental.jitclass.boxing.RPacketTracker object at 0x7f98252fc970>, <numba.experimental.jitclass.boxing.RPacketTracker object at 0x7f98252fc1f0>, <numba.experimental.jitclass.boxing.RPacketTracker object at 0x7f98252fc970>, <numba.experimental.jitclass.boxing.RPacketTracker object at 0x7f98252fc1f0>, <numba.experimental.jitclass.boxing.RPacketTracker object at 0x7f98252fc970>, <numba.experimental.jitclass.boxing.RPacketTracker object at 0x7f98252fc1f0>, <numba.experimental.jitclass.boxing.RPacketTracker object at 0x7f98252fc970>, <numba.experimental.jitclass.boxing.RPacketTracker object at 0x7f98252fc1f0>, <numba.experimental.jitclass.boxing.RPacketTracker object at 0x7f98252fc970>, <numba.experimental.jitclass.boxing.RPacketTracker object at 0x7f98252fc1f0>, <numba.experimental.jitclass.boxing.RPacketTracker object at 0x7f98252fc970>, <numba.experimental.jitclass.boxing.RPacketTracker object at 0x7f98252fc1f0>, <numba.experimental.jitclass.boxing.RPacketTracker object at 0x7f98252fc970>, <numba.experimental.jitclass.boxing.RPacketTracker object at 0x7f98252fc1f0>, <numba.experimental.jitclass.boxing.RPacketTracker object at 0x7f98252fc970>, <numba.experimental.jitclass.boxing.RPacketTracker object at 0x7f98252fc1f0>, <numba.experimental.jitclass.boxing.RPacketTracker object at 0x7f98252fc970>, <numba.experimental.jitclass.boxing.RPacketTracker object at 0x7f98252fc1f0>, <numba.experimental.jitclass.boxing.RPacketTracker object at 0x7f98252fc970>, <numba.experimental.jitclass.boxing.RPacketTracker object at 0x7f98252fc1f0>, <numba.experimental.jitclass.boxing.RPacketTracker object at 0x7f98252fc970>, <numba.experimental.jitclass.boxing.RPacketTracker object at 0x7f98252fc1f0>, <numba.experimental.jitclass.boxing.RPacketTracker object at 0x7f98252fc970>, <numba.experimental.jitclass.boxing.RPacketTracker object at 0x7f98252fc1f0>, <numba.experimental.jitclass.boxing.RPacketTracker object at 0x7f98252fc970>, <numba.experimental.jitclass.boxing.RPacketTracker object at 0x7f98252fc1f0>, <numba.experimental.jitclass.boxing.RPacketTracker object at 0x7f98252fc970>, <numba.experimental.jitclass.boxing.RPacketTracker object at 0x7f98252fc1f0>, <numba.experimental.jitclass.boxing.RPacketTracker object at 0x7f98252fc970>, <numba.experimental.jitclass.boxing.RPacketTracker object at 0x7f98252fc1f0>, <numba.experimental.jitclass.boxing.RPacketTracker object at 0x7f98252fc970>, <numba.experimental.jitclass.boxing.RPacketTracker object at 0x7f98252fc1f0>, <numba.experimental.jitclass.boxing.RPacketTracker object at 0x7f98252fc970>, <numba.experimental.jitclass.boxing.RPacketTracker object at 0x7f98252fc1f0>, <numba.experimental.jitclass.boxing.RPacketTracker object at 0x7f98252fc970>, <numba.experimental.jitclass.boxing.RPacketTracker object at 0x7f98252fc1f0>, <numba.experimental.jitclass.boxing.RPacketTracker object at 0x7f98252fc970>, <numba.experimental.jitclass.boxing.RPacketTracker object at 0x7f98252fc1f0>, <numba.experimental.jitclass.boxing.RPacketTracker object at 0x7f98252fc970>, <numba.experimental.jitclass.boxing.RPacketTracker object at 0x7f98252fc1f0>, <numba.experimental.jitclass.boxing.RPacketTracker object at 0x7f98252fc970>, <numba.experimental.jitclass.boxing.RPacketTracker object at 0x7f98252fc1f0>, <numba.experimental.jitclass.boxing.RPacketTracker object at 0x7f98252fc970>, <numba.experimental.jitclass.boxing.RPacketTracker object at 0x7f98252fc1f0>, <numba.experimental.jitclass.boxing.RPacketTracker object at 0x7f98252fc970>, <numba.experimental.jitclass.boxing.RPacketTracker object at 0x7f98252fc1f0>, <numba.experimental.jitclass.boxing.RPacketTracker object at 0x7f98252fc970>, <numba.experimental.jitclass.boxing.RPacketTracker object at 0x7f98252fc1f0>, <numba.experimental.jitclass.boxing.RPacketTracker object at 0x7f98252fc970>, <numba.experimental.jitclass.boxing.RPacketTracker object at 0x7f98252fc1f0>, <numba.experimental.jitclass.boxing.RPacketTracker object at 0x7f98252fc970>, <numba.experimental.jitclass.boxing.RPacketTracker object at 0x7f98252fc1f0>, <numba.experimental.jitclass.boxing.RPacketTracker object at 0x7f98252fc970>, <numba.experimental.jitclass.boxing.RPacketTracker object at 0x7f98252fc1f0>, <numba.experimental.jitclass.boxing.RPacketTracker object at 0x7f98252fc970>, <numba.experimental.jitclass.boxing.RPacketTracker object at 0x7f98252fc1f0>, <numba.experimental.jitclass.boxing.RPacketTracker object at 0x7f98252fc970>, <numba.experimental.jitclass.boxing.RPacketTracker object at 0x7f98252fc1f0>, <numba.experimental.jitclass.boxing.RPacketTracker object at 0x7f98252fc970>, <numba.experimental.jitclass.boxing.RPacketTracker object at 0x7f98252fc1f0>, <numba.experimental.jitclass.boxing.RPacketTracker object at 0x7f98252fc970>, <numba.experimental.jitclass.boxing.RPacketTracker object at 0x7f98252fc1f0>, <numba.experimental.jitclass.boxing.RPacketTracker object at 0x7f98252fc970>, <numba.experimental.jitclass.boxing.RPacketTracker object at 0x7f98252fc1f0>, <numba.experimental.jitclass.boxing.RPacketTracker object at 0x7f98252fc970>, <numba.experimental.jitclass.boxing.RPacketTracker object at 0x7f98252fc1f0>, <numba.experimental.jitclass.boxing.RPacketTracker object at 0x7f98252fc970>, <numba.experimental.jitclass.boxing.RPacketTracker object at 0x7f98252fc1f0>, <numba.experimental.jitclass.boxing.RPacketTracker object at 0x7f98252fc970>, <numba.experimental.jitclass.boxing.RPacketTracker object at 0x7f98252fc1f0>, <numba.experimental.jitclass.boxing.RPacketTracker object at 0x7f98252fc970>, <numba.experimental.jitclass.boxing.RPacketTracker object at 0x7f98252fc1f0>, <numba.experimental.jitclass.boxing.RPacketTracker object at 0x7f98252fc970>, <numba.experimental.jitclass.boxing.RPacketTracker object at 0x7f98252fc1f0>, <numba.experimental.jitclass.boxing.RPacketTracker object at 0x7f98252fc970>, <numba.experimental.jitclass.boxing.RPacketTracker object at 0x7f98252fc1f0>, <numba.experimental.jitclass.boxing.RPacketTracker object at 0x7f98252fc970>, <numba.experimental.jitclass.boxing.RPacketTracker object at 0x7f98252fc1f0>, <numba.experimental.jitclass.boxing.RPacketTracker object at 0x7f98252fc970>, <numba.experimental.jitclass.boxing.RPacketTracker object at 0x7f98252fc1f0>, <numba.experimental.jitclass.boxing.RPacketTracker object at 0x7f98252fc970>, <numba.experimental.jitclass.boxing.RPacketTracker object at 0x7f98252fc1f0>, <numba.experimental.jitclass.boxing.RPacketTracker object at 0x7f98252fc970>, <numba.experimental.jitclass.boxing.RPacketTracker object at 0x7f98252fc1f0>, <numba.experimental.jitclass.boxing.RPacketTracker object at 0x7f98252fc970>, <numba.experimental.jitclass.boxing.RPacketTracker object at 0x7f98252fc1f0>, <numba.experimental.jitclass.boxing.RPacketTracker object at 0x7f98252fc970>, <numba.experimental.jitclass.boxing.RPacketTracker object at 0x7f98252fc1f0>, <numba.experimental.jitclass.boxing.RPacketTracker object at 0x7f98252fc970>, <numba.experimental.jitclass.boxing.RPacketTracker object at 0x7f98252fc1f0>, <numba.experimental.jitclass.boxing.RPacketTracker object at 0x7f98252fc970>, <numba.experimental.jitclass.boxing.RPacketTracker object at 0x7f98252fc1f0>, <numba.experimental.jitclass.boxing.RPacketTracker object at 0x7f98252fc970>, <numba.experimental.jitclass.boxing.RPacketTracker object at 0x7f98252fc1f0>, <numba.experimental.jitclass.boxing.RPacketTracker object at 0x7f98252fc970>, <numba.experimental.jitclass.boxing.RPacketTracker object at 0x7f98252fc1f0>, <numba.experimental.jitclass.boxing.RPacketTracker object at 0x7f98252fc970>, <numba.experimental.jitclass.boxing.RPacketTracker object at 0x7f98252fc1f0>, <numba.experimental.jitclass.boxing.RPacketTracker object at 0x7f98252fc970>, <numba.experimental.jitclass.boxing.RPacketTracker object at 0x7f98252fc1f0>, <numba.experimental.jitclass.boxing.RPacketTracker object at 0x7f98252fc970>, <numba.experimental.jitclass.boxing.RPacketTracker object at 0x7f98252fc1f0>, <numba.experimental.jitclass.boxing.RPacketTracker object at 0x7f98252fc970>, <numba.experimental.jitclass.boxing.RPacketTracker object at 0x7f98252fc1f0>, <numba.experimental.jitclass.boxing.RPacketTracker object at 0x7f98252fc970>, <numba.experimental.jitclass.boxing.RPacketTracker object at 0x7f98252fc1f0>, <numba.experimental.jitclass.boxing.RPacketTracker object at 0x7f98252fc970>, <numba.experimental.jitclass.boxing.RPacketTracker object at 0x7f98252fc1f0>, <numba.experimental.jitclass.boxing.RPacketTracker object at 0x7f98252fc970>, <numba.experimental.jitclass.boxing.RPacketTracker object at 0x7f98252fc1f0>, <numba.experimental.jitclass.boxing.RPacketTracker object at 0x7f98252fc970>, <numba.experimental.jitclass.boxing.RPacketTracker object at 0x7f98252fc1f0>, <numba.experimental.jitclass.boxing.RPacketTracker object at 0x7f98252fc970>, <numba.experimental.jitclass.boxing.RPacketTracker object at 0x7f98252fc1f0>, <numba.experimental.jitclass.boxing.RPacketTracker object at 0x7f98252fc970>, <numba.experimental.jitclass.boxing.RPacketTracker object at 0x7f98252fc1f0>, <numba.experimental.jitclass.boxing.RPacketTracker object at 0x7f98252fc970>, <numba.experimental.jitclass.boxing.RPacketTracker object at 0x7f98252fc1f0>, <numba.experimental.jitclass.boxing.RPacketTracker object at 0x7f98252fc970>, <numba.experimental.jitclass.boxing.RPacketTracker object at 0x7f98252fc1f0>, <numba.experimental.jitclass.boxing.RPacketTracker object at 0x7f98252fc970>, <numba.experimental.jitclass.boxing.RPacketTracker object at 0x7f98252fc1f0>, <numba.experimental.jitclass.boxing.RPacketTracker object at 0x7f98252fc970>, <numba.experimental.jitclass.boxing.RPacketTracker object at 0x7f98252fc1f0>, <numba.experimental.jitclass.boxing.RPacketTracker object at 0x7f98252fc970>, <numba.experimental.jitclass.boxing.RPacketTracker object at 0x7f98252fc1f0>, <numba.experimental.jitclass.boxing.RPacketTracker object at 0x7f98252fc970>, <numba.experimental.jitclass.boxing.RPacketTracker object at 0x7f98252fc1f0>, <numba.experimental.jitclass.boxing.RPacketTracker object at 0x7f98252fc970>, <numba.experimental.jitclass.boxing.RPacketTracker object at 0x7f98252fc1f0>, <numba.experimental.jitclass.boxing.RPacketTracker object at 0x7f98252fc970>, <numba.experimental.jitclass.boxing.RPacketTracker object at 0x7f98252fc1f0>, <numba.experimental.jitclass.boxing.RPacketTracker object at 0x7f98252fc970>, <numba.experimental.jitclass.boxing.RPacketTracker object at 0x7f98252fc1f0>, <numba.experimental.jitclass.boxing.RPacketTracker object at 0x7f98252fc970>, <numba.experimental.jitclass.boxing.RPacketTracker object at 0x7f98252fc1f0>, <numba.experimental.jitclass.boxing.RPacketTracker object at 0x7f98252fc970>, <numba.experimental.jitclass.boxing.RPacketTracker object at 0x7f98252fc1f0>, <numba.experimental.jitclass.boxing.RPacketTracker object at 0x7f98252fc970>, <numba.experimental.jitclass.boxing.RPacketTracker object at 0x7f98252fc1f0>, <numba.experimental.jitclass.boxing.RPacketTracker object at 0x7f98252fc970>, <numba.experimental.jitclass.boxing.RPacketTracker object at 0x7f98252fc1f0>, <numba.experimental.jitclass.boxing.RPacketTracker object at 0x7f98252fc970>, <numba.experimental.jitclass.boxing.RPacketTracker object at 0x7f98252fc1f0>, <numba.experimental.jitclass.boxing.RPacketTracker object at 0x7f98252fc970>, <numba.experimental.jitclass.boxing.RPacketTracker object at 0x7f98252fc1f0>, <numba.experimental.jitclass.boxing.RPacketTracker object at 0x7f98252fc970>, <numba.experimental.jitclass.boxing.RPacketTracker object at 0x7f98252fc1f0>, <numba.experimental.jitclass.boxing.RPacketTracker object at 0x7f98252fc970>, <numba.experimental.jitclass.boxing.RPacketTracker object at 0x7f98252fc1f0>, <numba.experimental.jitclass.boxing.RPacketTracker object at 0x7f98252fc970>, <numba.experimental.jitclass.boxing.RPacketTracker object at 0x7f98252fc1f0>, <numba.experimental.jitclass.boxing.RPacketTracker object at 0x7f98252fc970>, <numba.experimental.jitclass.boxing.RPacketTracker object at 0x7f98252fc1f0>, <numba.experimental.jitclass.boxing.RPacketTracker object at 0x7f98252fc970>, <numba.experimental.jitclass.boxing.RPacketTracker object at 0x7f98252fc1f0>, <numba.experimental.jitclass.boxing.RPacketTracker object at 0x7f98252fc970>, <numba.experimental.jitclass.boxing.RPacketTracker object at 0x7f98252fc1f0>, <numba.experimental.jitclass.boxing.RPacketTracker object at 0x7f98252fc970>, <numba.experimental.jitclass.boxing.RPacketTracker object at 0x7f98252fc1f0>, <numba.experimental.jitclass.boxing.RPacketTracker object at 0x7f98252fc970>, <numba.experimental.jitclass.boxing.RPacketTracker object at 0x7f98252fc1f0>, <numba.experimental.jitclass.boxing.RPacketTracker object at 0x7f98252fc970>, <numba.experimental.jitclass.boxing.RPacketTracker object at 0x7f98252fc1f0>, <numba.experimental.jitclass.boxing.RPacketTracker object at 0x7f98252fc970>, <numba.experimental.jitclass.boxing.RPacketTracker object at 0x7f98252fc1f0>, <numba.experimental.jitclass.boxing.RPacketTracker object at 0x7f98252fc970>, <numba.experimental.jitclass.boxing.RPacketTracker object at 0x7f98252fc1f0>, <numba.experimental.jitclass.boxing.RPacketTracker object at 0x7f98252fc970>, <numba.experimental.jitclass.boxing.RPacketTracker object at 0x7f98252fc1f0>, <numba.experimental.jitclass.boxing.RPacketTracker object at 0x7f98252fc970>, <numba.experimental.jitclass.boxing.RPacketTracker object at 0x7f98252fc1f0>, <numba.experimental.jitclass.boxing.RPacketTracker object at 0x7f98252fc970>, <numba.experimental.jitclass.boxing.RPacketTracker object at 0x7f98252fc1f0>, <numba.experimental.jitclass.boxing.RPacketTracker object at 0x7f98252fc970>, <numba.experimental.jitclass.boxing.RPacketTracker object at 0x7f98252fc1f0>, <numba.experimental.jitclass.boxing.RPacketTracker object at 0x7f98252fc970>, <numba.experimental.jitclass.boxing.RPacketTracker object at 0x7f98252fc1f0>, <numba.experimental.jitclass.boxing.RPacketTracker object at 0x7f98252fc970>, <numba.experimental.jitclass.boxing.RPacketTracker object at 0x7f98252fc1f0>, <numba.experimental.jitclass.boxing.RPacketTracker object at 0x7f98252fc970>, <numba.experimental.jitclass.boxing.RPacketTracker object at 0x7f98252fc1f0>, <numba.experimental.jitclass.boxing.RPacketTracker object at 0x7f98252fc970>, <numba.experimental.jitclass.boxing.RPacketTracker object at 0x7f98252fc1f0>, ...])"
      ]
     },
     "execution_count": 8,
     "metadata": {},
     "output_type": "execute_result"
    }
   ],
   "source": [
    "sim.transport.rpacket_tracker"
   ]
  },
  {
   "cell_type": "code",
   "execution_count": null,
   "metadata": {},
   "outputs": [],
   "source": []
  }
 ],
 "metadata": {
  "kernelspec": {
   "display_name": "Python 3 (ipykernel)",
   "language": "python",
   "name": "python3"
  },
  "language_info": {
   "codemirror_mode": {
    "name": "ipython",
    "version": 3
   },
   "file_extension": ".py",
   "mimetype": "text/x-python",
   "name": "python",
   "nbconvert_exporter": "python",
   "pygments_lexer": "ipython3",
   "version": "3.8.16"
  }
 },
 "nbformat": 4,
 "nbformat_minor": 2
}
