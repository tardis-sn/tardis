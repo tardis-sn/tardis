{
 "cells": [
  {
   "cell_type": "code",
   "execution_count": 1,
   "metadata": {},
   "outputs": [
    {
     "data": {
      "application/vnd.jupyter.widget-view+json": {
       "model_id": "",
       "version_major": 2,
       "version_minor": 0
      },
      "text/plain": [
       "Iterations:          0/? [00:00<?, ?it/s]"
      ]
     },
     "metadata": {},
     "output_type": "display_data"
    },
    {
     "data": {
      "application/vnd.jupyter.widget-view+json": {
       "model_id": "",
       "version_major": 2,
       "version_minor": 0
      },
      "text/plain": [
       "Packets:             0/? [00:00<?, ?it/s]"
      ]
     },
     "metadata": {},
     "output_type": "display_data"
    }
   ],
   "source": [
    "from tardis.io.config_reader import Configuration\n",
    "from tardis.simulation import Simulation\n",
    "from tardis.plasma.standard_plasmas import assemble_plasma\n",
    "from tardis.model import Radial1DModel\n",
    "from tardis.io.atom_data import AtomData\n",
    "from tardis.analysis import LastLineInteraction\n",
    "from tardis.util.base import int_to_roman\n",
    "import plotly.graph_objects as go\n",
    "import numpy as np\n",
    "import pandas as pd\n",
    "import matplotlib\n",
    "import matplotlib.pyplot as plt\n",
    "from tardis.io.config_internal import get_data_dir\n",
    "from astropy import units as u\n",
    "import plotly.io as pio\n",
    "pio.renderers.default='notebook'\n",
    "import os"
   ]
  },
  {
   "cell_type": "code",
   "execution_count": 2,
   "metadata": {},
   "outputs": [
    {
     "name": "stderr",
     "output_type": "stream",
     "text": [
      "Abundances have not been normalized to 1. - normalizing\n",
      "Zeta_data missing - replaced with 1s. Missing ions: [(12, 13), (14, 15), (16, 17), (18, 19), (20, 21)]\n",
      "/Users/archil/Documents/tardis_ayushi/tardis/plasma/properties/radiative_properties.py:93: RuntimeWarning:\n",
      "\n",
      "divide by zero encountered in true_divide\n",
      "\n",
      "/Users/archil/Documents/tardis_ayushi/tardis/plasma/properties/radiative_properties.py:93: RuntimeWarning:\n",
      "\n",
      "invalid value encountered in true_divide\n",
      "\n",
      "OMP: Info #276: omp_set_nested routine deprecated, please use omp_set_max_active_levels instead.\n",
      "Zeta_data missing - replaced with 1s. Missing ions: [(12, 13), (14, 15), (16, 17), (18, 19), (20, 21)]\n",
      "/Users/archil/Documents/tardis_ayushi/tardis/plasma/properties/radiative_properties.py:93: RuntimeWarning:\n",
      "\n",
      "divide by zero encountered in true_divide\n",
      "\n",
      "/Users/archil/Documents/tardis_ayushi/tardis/plasma/properties/radiative_properties.py:93: RuntimeWarning:\n",
      "\n",
      "invalid value encountered in true_divide\n",
      "\n"
     ]
    },
    {
     "data": {
      "application/vnd.jupyter.widget-view+json": {
       "model_id": "0cf6d082695a4c43840f0d751572c0ba",
       "version_major": 2,
       "version_minor": 0
      },
      "text/plain": [
       "TqdmHBox(children=(HTML(value='Iterations:', layout=Layout(width='6%')), FloatProgress(value=0.0, layout=Layou…"
      ]
     },
     "metadata": {},
     "output_type": "display_data"
    },
    {
     "data": {
      "application/vnd.jupyter.widget-view+json": {
       "model_id": "6dc9f0a002ca40898167b1c40eff9567",
       "version_major": 2,
       "version_minor": 0
      },
      "text/plain": [
       "TqdmHBox(children=(HTML(value='Packets:   ', layout=Layout(width='6%')), FloatProgress(value=0.0, layout=Layou…"
      ]
     },
     "metadata": {},
     "output_type": "display_data"
    },
    {
     "data": {
      "text/html": [
       "<style  type=\"text/css\" >\n",
       "</style><table id=\"T_0054c176_05bf_11ee_923f_12e413fbf88c\" ><thead>    <tr>        <th class=\"index_name level0\" >Shell No.</th>        <th class=\"col_heading level0 col0\" >t_rad</th>        <th class=\"col_heading level0 col1\" >next_t_rad</th>        <th class=\"col_heading level0 col2\" >w</th>        <th class=\"col_heading level0 col3\" >next_w</th>    </tr></thead><tbody>\n",
       "                <tr>\n",
       "                        <th id=\"T_0054c176_05bf_11ee_923f_12e413fbf88clevel0_row0\" class=\"row_heading level0 row0\" >0</th>\n",
       "                        <td id=\"T_0054c176_05bf_11ee_923f_12e413fbf88crow0_col0\" class=\"data row0 col0\" >9.93e+03</td>\n",
       "                        <td id=\"T_0054c176_05bf_11ee_923f_12e413fbf88crow0_col1\" class=\"data row0 col1\" >1.01e+04</td>\n",
       "                        <td id=\"T_0054c176_05bf_11ee_923f_12e413fbf88crow0_col2\" class=\"data row0 col2\" >0.4</td>\n",
       "                        <td id=\"T_0054c176_05bf_11ee_923f_12e413fbf88crow0_col3\" class=\"data row0 col3\" >0.525</td>\n",
       "            </tr>\n",
       "            <tr>\n",
       "                        <th id=\"T_0054c176_05bf_11ee_923f_12e413fbf88clevel0_row1\" class=\"row_heading level0 row1\" >5</th>\n",
       "                        <td id=\"T_0054c176_05bf_11ee_923f_12e413fbf88crow1_col0\" class=\"data row1 col0\" >9.85e+03</td>\n",
       "                        <td id=\"T_0054c176_05bf_11ee_923f_12e413fbf88crow1_col1\" class=\"data row1 col1\" >1.03e+04</td>\n",
       "                        <td id=\"T_0054c176_05bf_11ee_923f_12e413fbf88crow1_col2\" class=\"data row1 col2\" >0.211</td>\n",
       "                        <td id=\"T_0054c176_05bf_11ee_923f_12e413fbf88crow1_col3\" class=\"data row1 col3\" >0.196</td>\n",
       "            </tr>\n",
       "            <tr>\n",
       "                        <th id=\"T_0054c176_05bf_11ee_923f_12e413fbf88clevel0_row2\" class=\"row_heading level0 row2\" >10</th>\n",
       "                        <td id=\"T_0054c176_05bf_11ee_923f_12e413fbf88crow2_col0\" class=\"data row2 col0\" >9.78e+03</td>\n",
       "                        <td id=\"T_0054c176_05bf_11ee_923f_12e413fbf88crow2_col1\" class=\"data row2 col1\" >1.02e+04</td>\n",
       "                        <td id=\"T_0054c176_05bf_11ee_923f_12e413fbf88crow2_col2\" class=\"data row2 col2\" >0.143</td>\n",
       "                        <td id=\"T_0054c176_05bf_11ee_923f_12e413fbf88crow2_col3\" class=\"data row2 col3\" >0.115</td>\n",
       "            </tr>\n",
       "            <tr>\n",
       "                        <th id=\"T_0054c176_05bf_11ee_923f_12e413fbf88clevel0_row3\" class=\"row_heading level0 row3\" >15</th>\n",
       "                        <td id=\"T_0054c176_05bf_11ee_923f_12e413fbf88crow3_col0\" class=\"data row3 col0\" >9.71e+03</td>\n",
       "                        <td id=\"T_0054c176_05bf_11ee_923f_12e413fbf88crow3_col1\" class=\"data row3 col1\" >9.88e+03</td>\n",
       "                        <td id=\"T_0054c176_05bf_11ee_923f_12e413fbf88crow3_col2\" class=\"data row3 col2\" >0.105</td>\n",
       "                        <td id=\"T_0054c176_05bf_11ee_923f_12e413fbf88crow3_col3\" class=\"data row3 col3\" >0.0843</td>\n",
       "            </tr>\n",
       "    </tbody></table>"
      ],
      "text/plain": [
       "<pandas.io.formats.style.Styler at 0x7fef408c5850>"
      ]
     },
     "metadata": {},
     "output_type": "display_data"
    },
    {
     "name": "stderr",
     "output_type": "stream",
     "text": [
      "/Users/archil/Documents/tardis_ayushi/tardis/plasma/properties/radiative_properties.py:93: RuntimeWarning:\n",
      "\n",
      "divide by zero encountered in true_divide\n",
      "\n",
      "/Users/archil/Documents/tardis_ayushi/tardis/plasma/properties/radiative_properties.py:93: RuntimeWarning:\n",
      "\n",
      "invalid value encountered in true_divide\n",
      "\n"
     ]
    },
    {
     "data": {
      "application/vnd.jupyter.widget-view+json": {
       "model_id": "444ec6611e1940b8b7dba48fd05b5408",
       "version_major": 2,
       "version_minor": 0
      },
      "text/plain": [
       "VBox(children=(FigureWidget({\n",
       "    'data': [{'type': 'scatter', 'uid': '8f426c2e-b37d-4989-84c8-ac3ecc445d38', …"
      ]
     },
     "metadata": {},
     "output_type": "display_data"
    },
    {
     "data": {
      "text/html": [
       "<style  type=\"text/css\" >\n",
       "</style><table id=\"T_00fdca0a_05bf_11ee_923f_12e413fbf88c\" ><thead>    <tr>        <th class=\"index_name level0\" >Shell No.</th>        <th class=\"col_heading level0 col0\" >t_rad</th>        <th class=\"col_heading level0 col1\" >next_t_rad</th>        <th class=\"col_heading level0 col2\" >w</th>        <th class=\"col_heading level0 col3\" >next_w</th>    </tr></thead><tbody>\n",
       "                <tr>\n",
       "                        <th id=\"T_00fdca0a_05bf_11ee_923f_12e413fbf88clevel0_row0\" class=\"row_heading level0 row0\" >0</th>\n",
       "                        <td id=\"T_00fdca0a_05bf_11ee_923f_12e413fbf88crow0_col0\" class=\"data row0 col0\" >1.01e+04</td>\n",
       "                        <td id=\"T_00fdca0a_05bf_11ee_923f_12e413fbf88crow0_col1\" class=\"data row0 col1\" >1.1e+04</td>\n",
       "                        <td id=\"T_00fdca0a_05bf_11ee_923f_12e413fbf88crow0_col2\" class=\"data row0 col2\" >0.525</td>\n",
       "                        <td id=\"T_00fdca0a_05bf_11ee_923f_12e413fbf88crow0_col3\" class=\"data row0 col3\" >0.544</td>\n",
       "            </tr>\n",
       "            <tr>\n",
       "                        <th id=\"T_00fdca0a_05bf_11ee_923f_12e413fbf88clevel0_row1\" class=\"row_heading level0 row1\" >5</th>\n",
       "                        <td id=\"T_00fdca0a_05bf_11ee_923f_12e413fbf88crow1_col0\" class=\"data row1 col0\" >1.03e+04</td>\n",
       "                        <td id=\"T_00fdca0a_05bf_11ee_923f_12e413fbf88crow1_col1\" class=\"data row1 col1\" >1.11e+04</td>\n",
       "                        <td id=\"T_00fdca0a_05bf_11ee_923f_12e413fbf88crow1_col2\" class=\"data row1 col2\" >0.196</td>\n",
       "                        <td id=\"T_00fdca0a_05bf_11ee_923f_12e413fbf88crow1_col3\" class=\"data row1 col3\" >0.204</td>\n",
       "            </tr>\n",
       "            <tr>\n",
       "                        <th id=\"T_00fdca0a_05bf_11ee_923f_12e413fbf88clevel0_row2\" class=\"row_heading level0 row2\" >10</th>\n",
       "                        <td id=\"T_00fdca0a_05bf_11ee_923f_12e413fbf88crow2_col0\" class=\"data row2 col0\" >1.02e+04</td>\n",
       "                        <td id=\"T_00fdca0a_05bf_11ee_923f_12e413fbf88crow2_col1\" class=\"data row2 col1\" >1.08e+04</td>\n",
       "                        <td id=\"T_00fdca0a_05bf_11ee_923f_12e413fbf88crow2_col2\" class=\"data row2 col2\" >0.115</td>\n",
       "                        <td id=\"T_00fdca0a_05bf_11ee_923f_12e413fbf88crow2_col3\" class=\"data row2 col3\" >0.125</td>\n",
       "            </tr>\n",
       "            <tr>\n",
       "                        <th id=\"T_00fdca0a_05bf_11ee_923f_12e413fbf88clevel0_row3\" class=\"row_heading level0 row3\" >15</th>\n",
       "                        <td id=\"T_00fdca0a_05bf_11ee_923f_12e413fbf88crow3_col0\" class=\"data row3 col0\" >9.88e+03</td>\n",
       "                        <td id=\"T_00fdca0a_05bf_11ee_923f_12e413fbf88crow3_col1\" class=\"data row3 col1\" >1.06e+04</td>\n",
       "                        <td id=\"T_00fdca0a_05bf_11ee_923f_12e413fbf88crow3_col2\" class=\"data row3 col2\" >0.0843</td>\n",
       "                        <td id=\"T_00fdca0a_05bf_11ee_923f_12e413fbf88crow3_col3\" class=\"data row3 col3\" >0.0914</td>\n",
       "            </tr>\n",
       "    </tbody></table>"
      ],
      "text/plain": [
       "<pandas.io.formats.style.Styler at 0x7fef524a8970>"
      ]
     },
     "metadata": {},
     "output_type": "display_data"
    },
    {
     "name": "stderr",
     "output_type": "stream",
     "text": [
      "/Users/archil/Documents/tardis_ayushi/tardis/plasma/properties/radiative_properties.py:93: RuntimeWarning:\n",
      "\n",
      "divide by zero encountered in true_divide\n",
      "\n",
      "/Users/archil/Documents/tardis_ayushi/tardis/plasma/properties/radiative_properties.py:93: RuntimeWarning:\n",
      "\n",
      "invalid value encountered in true_divide\n",
      "\n"
     ]
    },
    {
     "data": {
      "text/html": [
       "<style  type=\"text/css\" >\n",
       "</style><table id=\"T_0163cbde_05bf_11ee_923f_12e413fbf88c\" ><thead>    <tr>        <th class=\"index_name level0\" >Shell No.</th>        <th class=\"col_heading level0 col0\" >t_rad</th>        <th class=\"col_heading level0 col1\" >next_t_rad</th>        <th class=\"col_heading level0 col2\" >w</th>        <th class=\"col_heading level0 col3\" >next_w</th>    </tr></thead><tbody>\n",
       "                <tr>\n",
       "                        <th id=\"T_0163cbde_05bf_11ee_923f_12e413fbf88clevel0_row0\" class=\"row_heading level0 row0\" >0</th>\n",
       "                        <td id=\"T_0163cbde_05bf_11ee_923f_12e413fbf88crow0_col0\" class=\"data row0 col0\" >1.1e+04</td>\n",
       "                        <td id=\"T_0163cbde_05bf_11ee_923f_12e413fbf88crow0_col1\" class=\"data row0 col1\" >1.11e+04</td>\n",
       "                        <td id=\"T_0163cbde_05bf_11ee_923f_12e413fbf88crow0_col2\" class=\"data row0 col2\" >0.544</td>\n",
       "                        <td id=\"T_0163cbde_05bf_11ee_923f_12e413fbf88crow0_col3\" class=\"data row0 col3\" >0.501</td>\n",
       "            </tr>\n",
       "            <tr>\n",
       "                        <th id=\"T_0163cbde_05bf_11ee_923f_12e413fbf88clevel0_row1\" class=\"row_heading level0 row1\" >5</th>\n",
       "                        <td id=\"T_0163cbde_05bf_11ee_923f_12e413fbf88crow1_col0\" class=\"data row1 col0\" >1.11e+04</td>\n",
       "                        <td id=\"T_0163cbde_05bf_11ee_923f_12e413fbf88crow1_col1\" class=\"data row1 col1\" >1.14e+04</td>\n",
       "                        <td id=\"T_0163cbde_05bf_11ee_923f_12e413fbf88crow1_col2\" class=\"data row1 col2\" >0.204</td>\n",
       "                        <td id=\"T_0163cbde_05bf_11ee_923f_12e413fbf88crow1_col3\" class=\"data row1 col3\" >0.185</td>\n",
       "            </tr>\n",
       "            <tr>\n",
       "                        <th id=\"T_0163cbde_05bf_11ee_923f_12e413fbf88clevel0_row2\" class=\"row_heading level0 row2\" >10</th>\n",
       "                        <td id=\"T_0163cbde_05bf_11ee_923f_12e413fbf88crow2_col0\" class=\"data row2 col0\" >1.08e+04</td>\n",
       "                        <td id=\"T_0163cbde_05bf_11ee_923f_12e413fbf88crow2_col1\" class=\"data row2 col1\" >1.11e+04</td>\n",
       "                        <td id=\"T_0163cbde_05bf_11ee_923f_12e413fbf88crow2_col2\" class=\"data row2 col2\" >0.125</td>\n",
       "                        <td id=\"T_0163cbde_05bf_11ee_923f_12e413fbf88crow2_col3\" class=\"data row2 col3\" >0.115</td>\n",
       "            </tr>\n",
       "            <tr>\n",
       "                        <th id=\"T_0163cbde_05bf_11ee_923f_12e413fbf88clevel0_row3\" class=\"row_heading level0 row3\" >15</th>\n",
       "                        <td id=\"T_0163cbde_05bf_11ee_923f_12e413fbf88crow3_col0\" class=\"data row3 col0\" >1.06e+04</td>\n",
       "                        <td id=\"T_0163cbde_05bf_11ee_923f_12e413fbf88crow3_col1\" class=\"data row3 col1\" >1.08e+04</td>\n",
       "                        <td id=\"T_0163cbde_05bf_11ee_923f_12e413fbf88crow3_col2\" class=\"data row3 col2\" >0.0914</td>\n",
       "                        <td id=\"T_0163cbde_05bf_11ee_923f_12e413fbf88crow3_col3\" class=\"data row3 col3\" >0.086</td>\n",
       "            </tr>\n",
       "    </tbody></table>"
      ],
      "text/plain": [
       "<pandas.io.formats.style.Styler at 0x7fef202ece50>"
      ]
     },
     "metadata": {},
     "output_type": "display_data"
    },
    {
     "data": {
      "text/html": [
       "<style  type=\"text/css\" >\n",
       "</style><table id=\"T_01c7cce2_05bf_11ee_923f_12e413fbf88c\" ><thead>    <tr>        <th class=\"index_name level0\" >Shell No.</th>        <th class=\"col_heading level0 col0\" >t_rad</th>        <th class=\"col_heading level0 col1\" >next_t_rad</th>        <th class=\"col_heading level0 col2\" >w</th>        <th class=\"col_heading level0 col3\" >next_w</th>    </tr></thead><tbody>\n",
       "                <tr>\n",
       "                        <th id=\"T_01c7cce2_05bf_11ee_923f_12e413fbf88clevel0_row0\" class=\"row_heading level0 row0\" >0</th>\n",
       "                        <td id=\"T_01c7cce2_05bf_11ee_923f_12e413fbf88crow0_col0\" class=\"data row0 col0\" >1.11e+04</td>\n",
       "                        <td id=\"T_01c7cce2_05bf_11ee_923f_12e413fbf88crow0_col1\" class=\"data row0 col1\" >1.11e+04</td>\n",
       "                        <td id=\"T_01c7cce2_05bf_11ee_923f_12e413fbf88crow0_col2\" class=\"data row0 col2\" >0.501</td>\n",
       "                        <td id=\"T_01c7cce2_05bf_11ee_923f_12e413fbf88crow0_col3\" class=\"data row0 col3\" >0.487</td>\n",
       "            </tr>\n",
       "            <tr>\n",
       "                        <th id=\"T_01c7cce2_05bf_11ee_923f_12e413fbf88clevel0_row1\" class=\"row_heading level0 row1\" >5</th>\n",
       "                        <td id=\"T_01c7cce2_05bf_11ee_923f_12e413fbf88crow1_col0\" class=\"data row1 col0\" >1.14e+04</td>\n",
       "                        <td id=\"T_01c7cce2_05bf_11ee_923f_12e413fbf88crow1_col1\" class=\"data row1 col1\" >1.14e+04</td>\n",
       "                        <td id=\"T_01c7cce2_05bf_11ee_923f_12e413fbf88crow1_col2\" class=\"data row1 col2\" >0.185</td>\n",
       "                        <td id=\"T_01c7cce2_05bf_11ee_923f_12e413fbf88crow1_col3\" class=\"data row1 col3\" >0.181</td>\n",
       "            </tr>\n",
       "            <tr>\n",
       "                        <th id=\"T_01c7cce2_05bf_11ee_923f_12e413fbf88clevel0_row2\" class=\"row_heading level0 row2\" >10</th>\n",
       "                        <td id=\"T_01c7cce2_05bf_11ee_923f_12e413fbf88crow2_col0\" class=\"data row2 col0\" >1.11e+04</td>\n",
       "                        <td id=\"T_01c7cce2_05bf_11ee_923f_12e413fbf88crow2_col1\" class=\"data row2 col1\" >1.11e+04</td>\n",
       "                        <td id=\"T_01c7cce2_05bf_11ee_923f_12e413fbf88crow2_col2\" class=\"data row2 col2\" >0.115</td>\n",
       "                        <td id=\"T_01c7cce2_05bf_11ee_923f_12e413fbf88crow2_col3\" class=\"data row2 col3\" >0.112</td>\n",
       "            </tr>\n",
       "            <tr>\n",
       "                        <th id=\"T_01c7cce2_05bf_11ee_923f_12e413fbf88clevel0_row3\" class=\"row_heading level0 row3\" >15</th>\n",
       "                        <td id=\"T_01c7cce2_05bf_11ee_923f_12e413fbf88crow3_col0\" class=\"data row3 col0\" >1.08e+04</td>\n",
       "                        <td id=\"T_01c7cce2_05bf_11ee_923f_12e413fbf88crow3_col1\" class=\"data row3 col1\" >1.08e+04</td>\n",
       "                        <td id=\"T_01c7cce2_05bf_11ee_923f_12e413fbf88crow3_col2\" class=\"data row3 col2\" >0.086</td>\n",
       "                        <td id=\"T_01c7cce2_05bf_11ee_923f_12e413fbf88crow3_col3\" class=\"data row3 col3\" >0.0819</td>\n",
       "            </tr>\n",
       "    </tbody></table>"
      ],
      "text/plain": [
       "<pandas.io.formats.style.Styler at 0x7fef20348f70>"
      ]
     },
     "metadata": {},
     "output_type": "display_data"
    },
    {
     "data": {
      "text/html": [
       "<style  type=\"text/css\" >\n",
       "</style><table id=\"T_02322bd2_05bf_11ee_923f_12e413fbf88c\" ><thead>    <tr>        <th class=\"index_name level0\" >Shell No.</th>        <th class=\"col_heading level0 col0\" >t_rad</th>        <th class=\"col_heading level0 col1\" >next_t_rad</th>        <th class=\"col_heading level0 col2\" >w</th>        <th class=\"col_heading level0 col3\" >next_w</th>    </tr></thead><tbody>\n",
       "                <tr>\n",
       "                        <th id=\"T_02322bd2_05bf_11ee_923f_12e413fbf88clevel0_row0\" class=\"row_heading level0 row0\" >0</th>\n",
       "                        <td id=\"T_02322bd2_05bf_11ee_923f_12e413fbf88crow0_col0\" class=\"data row0 col0\" >1.11e+04</td>\n",
       "                        <td id=\"T_02322bd2_05bf_11ee_923f_12e413fbf88crow0_col1\" class=\"data row0 col1\" >1.11e+04</td>\n",
       "                        <td id=\"T_02322bd2_05bf_11ee_923f_12e413fbf88crow0_col2\" class=\"data row0 col2\" >0.487</td>\n",
       "                        <td id=\"T_02322bd2_05bf_11ee_923f_12e413fbf88crow0_col3\" class=\"data row0 col3\" >0.497</td>\n",
       "            </tr>\n",
       "            <tr>\n",
       "                        <th id=\"T_02322bd2_05bf_11ee_923f_12e413fbf88clevel0_row1\" class=\"row_heading level0 row1\" >5</th>\n",
       "                        <td id=\"T_02322bd2_05bf_11ee_923f_12e413fbf88crow1_col0\" class=\"data row1 col0\" >1.14e+04</td>\n",
       "                        <td id=\"T_02322bd2_05bf_11ee_923f_12e413fbf88crow1_col1\" class=\"data row1 col1\" >1.14e+04</td>\n",
       "                        <td id=\"T_02322bd2_05bf_11ee_923f_12e413fbf88crow1_col2\" class=\"data row1 col2\" >0.181</td>\n",
       "                        <td id=\"T_02322bd2_05bf_11ee_923f_12e413fbf88crow1_col3\" class=\"data row1 col3\" >0.178</td>\n",
       "            </tr>\n",
       "            <tr>\n",
       "                        <th id=\"T_02322bd2_05bf_11ee_923f_12e413fbf88clevel0_row2\" class=\"row_heading level0 row2\" >10</th>\n",
       "                        <td id=\"T_02322bd2_05bf_11ee_923f_12e413fbf88crow2_col0\" class=\"data row2 col0\" >1.11e+04</td>\n",
       "                        <td id=\"T_02322bd2_05bf_11ee_923f_12e413fbf88crow2_col1\" class=\"data row2 col1\" >1.13e+04</td>\n",
       "                        <td id=\"T_02322bd2_05bf_11ee_923f_12e413fbf88crow2_col2\" class=\"data row2 col2\" >0.112</td>\n",
       "                        <td id=\"T_02322bd2_05bf_11ee_923f_12e413fbf88crow2_col3\" class=\"data row2 col3\" >0.107</td>\n",
       "            </tr>\n",
       "            <tr>\n",
       "                        <th id=\"T_02322bd2_05bf_11ee_923f_12e413fbf88clevel0_row3\" class=\"row_heading level0 row3\" >15</th>\n",
       "                        <td id=\"T_02322bd2_05bf_11ee_923f_12e413fbf88crow3_col0\" class=\"data row3 col0\" >1.08e+04</td>\n",
       "                        <td id=\"T_02322bd2_05bf_11ee_923f_12e413fbf88crow3_col1\" class=\"data row3 col1\" >1.1e+04</td>\n",
       "                        <td id=\"T_02322bd2_05bf_11ee_923f_12e413fbf88crow3_col2\" class=\"data row3 col2\" >0.0819</td>\n",
       "                        <td id=\"T_02322bd2_05bf_11ee_923f_12e413fbf88crow3_col3\" class=\"data row3 col3\" >0.0779</td>\n",
       "            </tr>\n",
       "    </tbody></table>"
      ],
      "text/plain": [
       "<pandas.io.formats.style.Styler at 0x7fef5771fa00>"
      ]
     },
     "metadata": {},
     "output_type": "display_data"
    },
    {
     "data": {
      "text/html": [
       "<style  type=\"text/css\" >\n",
       "</style><table id=\"T_0295cd90_05bf_11ee_923f_12e413fbf88c\" ><thead>    <tr>        <th class=\"index_name level0\" >Shell No.</th>        <th class=\"col_heading level0 col0\" >t_rad</th>        <th class=\"col_heading level0 col1\" >next_t_rad</th>        <th class=\"col_heading level0 col2\" >w</th>        <th class=\"col_heading level0 col3\" >next_w</th>    </tr></thead><tbody>\n",
       "                <tr>\n",
       "                        <th id=\"T_0295cd90_05bf_11ee_923f_12e413fbf88clevel0_row0\" class=\"row_heading level0 row0\" >0</th>\n",
       "                        <td id=\"T_0295cd90_05bf_11ee_923f_12e413fbf88crow0_col0\" class=\"data row0 col0\" >1.11e+04</td>\n",
       "                        <td id=\"T_0295cd90_05bf_11ee_923f_12e413fbf88crow0_col1\" class=\"data row0 col1\" >1.12e+04</td>\n",
       "                        <td id=\"T_0295cd90_05bf_11ee_923f_12e413fbf88crow0_col2\" class=\"data row0 col2\" >0.497</td>\n",
       "                        <td id=\"T_0295cd90_05bf_11ee_923f_12e413fbf88crow0_col3\" class=\"data row0 col3\" >0.488</td>\n",
       "            </tr>\n",
       "            <tr>\n",
       "                        <th id=\"T_0295cd90_05bf_11ee_923f_12e413fbf88clevel0_row1\" class=\"row_heading level0 row1\" >5</th>\n",
       "                        <td id=\"T_0295cd90_05bf_11ee_923f_12e413fbf88crow1_col0\" class=\"data row1 col0\" >1.14e+04</td>\n",
       "                        <td id=\"T_0295cd90_05bf_11ee_923f_12e413fbf88crow1_col1\" class=\"data row1 col1\" >1.14e+04</td>\n",
       "                        <td id=\"T_0295cd90_05bf_11ee_923f_12e413fbf88crow1_col2\" class=\"data row1 col2\" >0.178</td>\n",
       "                        <td id=\"T_0295cd90_05bf_11ee_923f_12e413fbf88crow1_col3\" class=\"data row1 col3\" >0.184</td>\n",
       "            </tr>\n",
       "            <tr>\n",
       "                        <th id=\"T_0295cd90_05bf_11ee_923f_12e413fbf88clevel0_row2\" class=\"row_heading level0 row2\" >10</th>\n",
       "                        <td id=\"T_0295cd90_05bf_11ee_923f_12e413fbf88crow2_col0\" class=\"data row2 col0\" >1.13e+04</td>\n",
       "                        <td id=\"T_0295cd90_05bf_11ee_923f_12e413fbf88crow2_col1\" class=\"data row2 col1\" >1.11e+04</td>\n",
       "                        <td id=\"T_0295cd90_05bf_11ee_923f_12e413fbf88crow2_col2\" class=\"data row2 col2\" >0.107</td>\n",
       "                        <td id=\"T_0295cd90_05bf_11ee_923f_12e413fbf88crow2_col3\" class=\"data row2 col3\" >0.113</td>\n",
       "            </tr>\n",
       "            <tr>\n",
       "                        <th id=\"T_0295cd90_05bf_11ee_923f_12e413fbf88clevel0_row3\" class=\"row_heading level0 row3\" >15</th>\n",
       "                        <td id=\"T_0295cd90_05bf_11ee_923f_12e413fbf88crow3_col0\" class=\"data row3 col0\" >1.1e+04</td>\n",
       "                        <td id=\"T_0295cd90_05bf_11ee_923f_12e413fbf88crow3_col1\" class=\"data row3 col1\" >1.08e+04</td>\n",
       "                        <td id=\"T_0295cd90_05bf_11ee_923f_12e413fbf88crow3_col2\" class=\"data row3 col2\" >0.0779</td>\n",
       "                        <td id=\"T_0295cd90_05bf_11ee_923f_12e413fbf88crow3_col3\" class=\"data row3 col3\" >0.082</td>\n",
       "            </tr>\n",
       "    </tbody></table>"
      ],
      "text/plain": [
       "<pandas.io.formats.style.Styler at 0x7fef3387b3a0>"
      ]
     },
     "metadata": {},
     "output_type": "display_data"
    },
    {
     "data": {
      "text/html": [
       "<style  type=\"text/css\" >\n",
       "</style><table id=\"T_03013436_05bf_11ee_923f_12e413fbf88c\" ><thead>    <tr>        <th class=\"index_name level0\" >Shell No.</th>        <th class=\"col_heading level0 col0\" >t_rad</th>        <th class=\"col_heading level0 col1\" >next_t_rad</th>        <th class=\"col_heading level0 col2\" >w</th>        <th class=\"col_heading level0 col3\" >next_w</th>    </tr></thead><tbody>\n",
       "                <tr>\n",
       "                        <th id=\"T_03013436_05bf_11ee_923f_12e413fbf88clevel0_row0\" class=\"row_heading level0 row0\" >0</th>\n",
       "                        <td id=\"T_03013436_05bf_11ee_923f_12e413fbf88crow0_col0\" class=\"data row0 col0\" >1.12e+04</td>\n",
       "                        <td id=\"T_03013436_05bf_11ee_923f_12e413fbf88crow0_col1\" class=\"data row0 col1\" >1.11e+04</td>\n",
       "                        <td id=\"T_03013436_05bf_11ee_923f_12e413fbf88crow0_col2\" class=\"data row0 col2\" >0.488</td>\n",
       "                        <td id=\"T_03013436_05bf_11ee_923f_12e413fbf88crow0_col3\" class=\"data row0 col3\" >0.496</td>\n",
       "            </tr>\n",
       "            <tr>\n",
       "                        <th id=\"T_03013436_05bf_11ee_923f_12e413fbf88clevel0_row1\" class=\"row_heading level0 row1\" >5</th>\n",
       "                        <td id=\"T_03013436_05bf_11ee_923f_12e413fbf88crow1_col0\" class=\"data row1 col0\" >1.14e+04</td>\n",
       "                        <td id=\"T_03013436_05bf_11ee_923f_12e413fbf88crow1_col1\" class=\"data row1 col1\" >1.15e+04</td>\n",
       "                        <td id=\"T_03013436_05bf_11ee_923f_12e413fbf88crow1_col2\" class=\"data row1 col2\" >0.184</td>\n",
       "                        <td id=\"T_03013436_05bf_11ee_923f_12e413fbf88crow1_col3\" class=\"data row1 col3\" >0.175</td>\n",
       "            </tr>\n",
       "            <tr>\n",
       "                        <th id=\"T_03013436_05bf_11ee_923f_12e413fbf88clevel0_row2\" class=\"row_heading level0 row2\" >10</th>\n",
       "                        <td id=\"T_03013436_05bf_11ee_923f_12e413fbf88crow2_col0\" class=\"data row2 col0\" >1.11e+04</td>\n",
       "                        <td id=\"T_03013436_05bf_11ee_923f_12e413fbf88crow2_col1\" class=\"data row2 col1\" >1.12e+04</td>\n",
       "                        <td id=\"T_03013436_05bf_11ee_923f_12e413fbf88crow2_col2\" class=\"data row2 col2\" >0.113</td>\n",
       "                        <td id=\"T_03013436_05bf_11ee_923f_12e413fbf88crow2_col3\" class=\"data row2 col3\" >0.109</td>\n",
       "            </tr>\n",
       "            <tr>\n",
       "                        <th id=\"T_03013436_05bf_11ee_923f_12e413fbf88clevel0_row3\" class=\"row_heading level0 row3\" >15</th>\n",
       "                        <td id=\"T_03013436_05bf_11ee_923f_12e413fbf88crow3_col0\" class=\"data row3 col0\" >1.08e+04</td>\n",
       "                        <td id=\"T_03013436_05bf_11ee_923f_12e413fbf88crow3_col1\" class=\"data row3 col1\" >1.09e+04</td>\n",
       "                        <td id=\"T_03013436_05bf_11ee_923f_12e413fbf88crow3_col2\" class=\"data row3 col2\" >0.082</td>\n",
       "                        <td id=\"T_03013436_05bf_11ee_923f_12e413fbf88crow3_col3\" class=\"data row3 col3\" >0.0816</td>\n",
       "            </tr>\n",
       "    </tbody></table>"
      ],
      "text/plain": [
       "<pandas.io.formats.style.Styler at 0x7fef57736880>"
      ]
     },
     "metadata": {},
     "output_type": "display_data"
    },
    {
     "data": {
      "text/html": [
       "<style  type=\"text/css\" >\n",
       "</style><table id=\"T_036508bc_05bf_11ee_923f_12e413fbf88c\" ><thead>    <tr>        <th class=\"index_name level0\" >Shell No.</th>        <th class=\"col_heading level0 col0\" >t_rad</th>        <th class=\"col_heading level0 col1\" >next_t_rad</th>        <th class=\"col_heading level0 col2\" >w</th>        <th class=\"col_heading level0 col3\" >next_w</th>    </tr></thead><tbody>\n",
       "                <tr>\n",
       "                        <th id=\"T_036508bc_05bf_11ee_923f_12e413fbf88clevel0_row0\" class=\"row_heading level0 row0\" >0</th>\n",
       "                        <td id=\"T_036508bc_05bf_11ee_923f_12e413fbf88crow0_col0\" class=\"data row0 col0\" >1.11e+04</td>\n",
       "                        <td id=\"T_036508bc_05bf_11ee_923f_12e413fbf88crow0_col1\" class=\"data row0 col1\" >1.12e+04</td>\n",
       "                        <td id=\"T_036508bc_05bf_11ee_923f_12e413fbf88crow0_col2\" class=\"data row0 col2\" >0.496</td>\n",
       "                        <td id=\"T_036508bc_05bf_11ee_923f_12e413fbf88crow0_col3\" class=\"data row0 col3\" >0.49</td>\n",
       "            </tr>\n",
       "            <tr>\n",
       "                        <th id=\"T_036508bc_05bf_11ee_923f_12e413fbf88clevel0_row1\" class=\"row_heading level0 row1\" >5</th>\n",
       "                        <td id=\"T_036508bc_05bf_11ee_923f_12e413fbf88crow1_col0\" class=\"data row1 col0\" >1.15e+04</td>\n",
       "                        <td id=\"T_036508bc_05bf_11ee_923f_12e413fbf88crow1_col1\" class=\"data row1 col1\" >1.16e+04</td>\n",
       "                        <td id=\"T_036508bc_05bf_11ee_923f_12e413fbf88crow1_col2\" class=\"data row1 col2\" >0.175</td>\n",
       "                        <td id=\"T_036508bc_05bf_11ee_923f_12e413fbf88crow1_col3\" class=\"data row1 col3\" >0.174</td>\n",
       "            </tr>\n",
       "            <tr>\n",
       "                        <th id=\"T_036508bc_05bf_11ee_923f_12e413fbf88clevel0_row2\" class=\"row_heading level0 row2\" >10</th>\n",
       "                        <td id=\"T_036508bc_05bf_11ee_923f_12e413fbf88crow2_col0\" class=\"data row2 col0\" >1.12e+04</td>\n",
       "                        <td id=\"T_036508bc_05bf_11ee_923f_12e413fbf88crow2_col1\" class=\"data row2 col1\" >1.14e+04</td>\n",
       "                        <td id=\"T_036508bc_05bf_11ee_923f_12e413fbf88crow2_col2\" class=\"data row2 col2\" >0.109</td>\n",
       "                        <td id=\"T_036508bc_05bf_11ee_923f_12e413fbf88crow2_col3\" class=\"data row2 col3\" >0.106</td>\n",
       "            </tr>\n",
       "            <tr>\n",
       "                        <th id=\"T_036508bc_05bf_11ee_923f_12e413fbf88clevel0_row3\" class=\"row_heading level0 row3\" >15</th>\n",
       "                        <td id=\"T_036508bc_05bf_11ee_923f_12e413fbf88crow3_col0\" class=\"data row3 col0\" >1.09e+04</td>\n",
       "                        <td id=\"T_036508bc_05bf_11ee_923f_12e413fbf88crow3_col1\" class=\"data row3 col1\" >1.09e+04</td>\n",
       "                        <td id=\"T_036508bc_05bf_11ee_923f_12e413fbf88crow3_col2\" class=\"data row3 col2\" >0.0816</td>\n",
       "                        <td id=\"T_036508bc_05bf_11ee_923f_12e413fbf88crow3_col3\" class=\"data row3 col3\" >0.0802</td>\n",
       "            </tr>\n",
       "    </tbody></table>"
      ],
      "text/plain": [
       "<pandas.io.formats.style.Styler at 0x7fef3387b1c0>"
      ]
     },
     "metadata": {},
     "output_type": "display_data"
    },
    {
     "data": {
      "text/html": [
       "<style  type=\"text/css\" >\n",
       "</style><table id=\"T_03c7cf9c_05bf_11ee_923f_12e413fbf88c\" ><thead>    <tr>        <th class=\"index_name level0\" >Shell No.</th>        <th class=\"col_heading level0 col0\" >t_rad</th>        <th class=\"col_heading level0 col1\" >next_t_rad</th>        <th class=\"col_heading level0 col2\" >w</th>        <th class=\"col_heading level0 col3\" >next_w</th>    </tr></thead><tbody>\n",
       "                <tr>\n",
       "                        <th id=\"T_03c7cf9c_05bf_11ee_923f_12e413fbf88clevel0_row0\" class=\"row_heading level0 row0\" >0</th>\n",
       "                        <td id=\"T_03c7cf9c_05bf_11ee_923f_12e413fbf88crow0_col0\" class=\"data row0 col0\" >1.12e+04</td>\n",
       "                        <td id=\"T_03c7cf9c_05bf_11ee_923f_12e413fbf88crow0_col1\" class=\"data row0 col1\" >1.11e+04</td>\n",
       "                        <td id=\"T_03c7cf9c_05bf_11ee_923f_12e413fbf88crow0_col2\" class=\"data row0 col2\" >0.49</td>\n",
       "                        <td id=\"T_03c7cf9c_05bf_11ee_923f_12e413fbf88crow0_col3\" class=\"data row0 col3\" >0.49</td>\n",
       "            </tr>\n",
       "            <tr>\n",
       "                        <th id=\"T_03c7cf9c_05bf_11ee_923f_12e413fbf88clevel0_row1\" class=\"row_heading level0 row1\" >5</th>\n",
       "                        <td id=\"T_03c7cf9c_05bf_11ee_923f_12e413fbf88crow1_col0\" class=\"data row1 col0\" >1.16e+04</td>\n",
       "                        <td id=\"T_03c7cf9c_05bf_11ee_923f_12e413fbf88crow1_col1\" class=\"data row1 col1\" >1.15e+04</td>\n",
       "                        <td id=\"T_03c7cf9c_05bf_11ee_923f_12e413fbf88crow1_col2\" class=\"data row1 col2\" >0.174</td>\n",
       "                        <td id=\"T_03c7cf9c_05bf_11ee_923f_12e413fbf88crow1_col3\" class=\"data row1 col3\" >0.174</td>\n",
       "            </tr>\n",
       "            <tr>\n",
       "                        <th id=\"T_03c7cf9c_05bf_11ee_923f_12e413fbf88clevel0_row2\" class=\"row_heading level0 row2\" >10</th>\n",
       "                        <td id=\"T_03c7cf9c_05bf_11ee_923f_12e413fbf88crow2_col0\" class=\"data row2 col0\" >1.14e+04</td>\n",
       "                        <td id=\"T_03c7cf9c_05bf_11ee_923f_12e413fbf88crow2_col1\" class=\"data row2 col1\" >1.13e+04</td>\n",
       "                        <td id=\"T_03c7cf9c_05bf_11ee_923f_12e413fbf88crow2_col2\" class=\"data row2 col2\" >0.106</td>\n",
       "                        <td id=\"T_03c7cf9c_05bf_11ee_923f_12e413fbf88crow2_col3\" class=\"data row2 col3\" >0.104</td>\n",
       "            </tr>\n",
       "            <tr>\n",
       "                        <th id=\"T_03c7cf9c_05bf_11ee_923f_12e413fbf88clevel0_row3\" class=\"row_heading level0 row3\" >15</th>\n",
       "                        <td id=\"T_03c7cf9c_05bf_11ee_923f_12e413fbf88crow3_col0\" class=\"data row3 col0\" >1.09e+04</td>\n",
       "                        <td id=\"T_03c7cf9c_05bf_11ee_923f_12e413fbf88crow3_col1\" class=\"data row3 col1\" >1.09e+04</td>\n",
       "                        <td id=\"T_03c7cf9c_05bf_11ee_923f_12e413fbf88crow3_col2\" class=\"data row3 col2\" >0.0802</td>\n",
       "                        <td id=\"T_03c7cf9c_05bf_11ee_923f_12e413fbf88crow3_col3\" class=\"data row3 col3\" >0.0799</td>\n",
       "            </tr>\n",
       "    </tbody></table>"
      ],
      "text/plain": [
       "<pandas.io.formats.style.Styler at 0x7fef5771f190>"
      ]
     },
     "metadata": {},
     "output_type": "display_data"
    },
    {
     "data": {
      "text/html": [
       "<style  type=\"text/css\" >\n",
       "</style><table id=\"T_0429f596_05bf_11ee_923f_12e413fbf88c\" ><thead>    <tr>        <th class=\"index_name level0\" >Shell No.</th>        <th class=\"col_heading level0 col0\" >t_rad</th>        <th class=\"col_heading level0 col1\" >next_t_rad</th>        <th class=\"col_heading level0 col2\" >w</th>        <th class=\"col_heading level0 col3\" >next_w</th>    </tr></thead><tbody>\n",
       "                <tr>\n",
       "                        <th id=\"T_0429f596_05bf_11ee_923f_12e413fbf88clevel0_row0\" class=\"row_heading level0 row0\" >0</th>\n",
       "                        <td id=\"T_0429f596_05bf_11ee_923f_12e413fbf88crow0_col0\" class=\"data row0 col0\" >1.11e+04</td>\n",
       "                        <td id=\"T_0429f596_05bf_11ee_923f_12e413fbf88crow0_col1\" class=\"data row0 col1\" >1.11e+04</td>\n",
       "                        <td id=\"T_0429f596_05bf_11ee_923f_12e413fbf88crow0_col2\" class=\"data row0 col2\" >0.49</td>\n",
       "                        <td id=\"T_0429f596_05bf_11ee_923f_12e413fbf88crow0_col3\" class=\"data row0 col3\" >0.496</td>\n",
       "            </tr>\n",
       "            <tr>\n",
       "                        <th id=\"T_0429f596_05bf_11ee_923f_12e413fbf88clevel0_row1\" class=\"row_heading level0 row1\" >5</th>\n",
       "                        <td id=\"T_0429f596_05bf_11ee_923f_12e413fbf88crow1_col0\" class=\"data row1 col0\" >1.15e+04</td>\n",
       "                        <td id=\"T_0429f596_05bf_11ee_923f_12e413fbf88crow1_col1\" class=\"data row1 col1\" >1.15e+04</td>\n",
       "                        <td id=\"T_0429f596_05bf_11ee_923f_12e413fbf88crow1_col2\" class=\"data row1 col2\" >0.174</td>\n",
       "                        <td id=\"T_0429f596_05bf_11ee_923f_12e413fbf88crow1_col3\" class=\"data row1 col3\" >0.177</td>\n",
       "            </tr>\n",
       "            <tr>\n",
       "                        <th id=\"T_0429f596_05bf_11ee_923f_12e413fbf88clevel0_row2\" class=\"row_heading level0 row2\" >10</th>\n",
       "                        <td id=\"T_0429f596_05bf_11ee_923f_12e413fbf88crow2_col0\" class=\"data row2 col0\" >1.13e+04</td>\n",
       "                        <td id=\"T_0429f596_05bf_11ee_923f_12e413fbf88crow2_col1\" class=\"data row2 col1\" >1.14e+04</td>\n",
       "                        <td id=\"T_0429f596_05bf_11ee_923f_12e413fbf88crow2_col2\" class=\"data row2 col2\" >0.104</td>\n",
       "                        <td id=\"T_0429f596_05bf_11ee_923f_12e413fbf88crow2_col3\" class=\"data row2 col3\" >0.105</td>\n",
       "            </tr>\n",
       "            <tr>\n",
       "                        <th id=\"T_0429f596_05bf_11ee_923f_12e413fbf88clevel0_row3\" class=\"row_heading level0 row3\" >15</th>\n",
       "                        <td id=\"T_0429f596_05bf_11ee_923f_12e413fbf88crow3_col0\" class=\"data row3 col0\" >1.09e+04</td>\n",
       "                        <td id=\"T_0429f596_05bf_11ee_923f_12e413fbf88crow3_col1\" class=\"data row3 col1\" >1.09e+04</td>\n",
       "                        <td id=\"T_0429f596_05bf_11ee_923f_12e413fbf88crow3_col2\" class=\"data row3 col2\" >0.0799</td>\n",
       "                        <td id=\"T_0429f596_05bf_11ee_923f_12e413fbf88crow3_col3\" class=\"data row3 col3\" >0.081</td>\n",
       "            </tr>\n",
       "    </tbody></table>"
      ],
      "text/plain": [
       "<pandas.io.formats.style.Styler at 0x7fef57cb0f40>"
      ]
     },
     "metadata": {},
     "output_type": "display_data"
    },
    {
     "data": {
      "text/html": [
       "<style  type=\"text/css\" >\n",
       "</style><table id=\"T_048c7964_05bf_11ee_923f_12e413fbf88c\" ><thead>    <tr>        <th class=\"index_name level0\" >Shell No.</th>        <th class=\"col_heading level0 col0\" >t_rad</th>        <th class=\"col_heading level0 col1\" >next_t_rad</th>        <th class=\"col_heading level0 col2\" >w</th>        <th class=\"col_heading level0 col3\" >next_w</th>    </tr></thead><tbody>\n",
       "                <tr>\n",
       "                        <th id=\"T_048c7964_05bf_11ee_923f_12e413fbf88clevel0_row0\" class=\"row_heading level0 row0\" >0</th>\n",
       "                        <td id=\"T_048c7964_05bf_11ee_923f_12e413fbf88crow0_col0\" class=\"data row0 col0\" >1.11e+04</td>\n",
       "                        <td id=\"T_048c7964_05bf_11ee_923f_12e413fbf88crow0_col1\" class=\"data row0 col1\" >1.11e+04</td>\n",
       "                        <td id=\"T_048c7964_05bf_11ee_923f_12e413fbf88crow0_col2\" class=\"data row0 col2\" >0.496</td>\n",
       "                        <td id=\"T_048c7964_05bf_11ee_923f_12e413fbf88crow0_col3\" class=\"data row0 col3\" >0.501</td>\n",
       "            </tr>\n",
       "            <tr>\n",
       "                        <th id=\"T_048c7964_05bf_11ee_923f_12e413fbf88clevel0_row1\" class=\"row_heading level0 row1\" >5</th>\n",
       "                        <td id=\"T_048c7964_05bf_11ee_923f_12e413fbf88crow1_col0\" class=\"data row1 col0\" >1.15e+04</td>\n",
       "                        <td id=\"T_048c7964_05bf_11ee_923f_12e413fbf88crow1_col1\" class=\"data row1 col1\" >1.16e+04</td>\n",
       "                        <td id=\"T_048c7964_05bf_11ee_923f_12e413fbf88crow1_col2\" class=\"data row1 col2\" >0.177</td>\n",
       "                        <td id=\"T_048c7964_05bf_11ee_923f_12e413fbf88crow1_col3\" class=\"data row1 col3\" >0.174</td>\n",
       "            </tr>\n",
       "            <tr>\n",
       "                        <th id=\"T_048c7964_05bf_11ee_923f_12e413fbf88clevel0_row2\" class=\"row_heading level0 row2\" >10</th>\n",
       "                        <td id=\"T_048c7964_05bf_11ee_923f_12e413fbf88crow2_col0\" class=\"data row2 col0\" >1.14e+04</td>\n",
       "                        <td id=\"T_048c7964_05bf_11ee_923f_12e413fbf88crow2_col1\" class=\"data row2 col1\" >1.14e+04</td>\n",
       "                        <td id=\"T_048c7964_05bf_11ee_923f_12e413fbf88crow2_col2\" class=\"data row2 col2\" >0.105</td>\n",
       "                        <td id=\"T_048c7964_05bf_11ee_923f_12e413fbf88crow2_col3\" class=\"data row2 col3\" >0.104</td>\n",
       "            </tr>\n",
       "            <tr>\n",
       "                        <th id=\"T_048c7964_05bf_11ee_923f_12e413fbf88clevel0_row3\" class=\"row_heading level0 row3\" >15</th>\n",
       "                        <td id=\"T_048c7964_05bf_11ee_923f_12e413fbf88crow3_col0\" class=\"data row3 col0\" >1.09e+04</td>\n",
       "                        <td id=\"T_048c7964_05bf_11ee_923f_12e413fbf88crow3_col1\" class=\"data row3 col1\" >1.09e+04</td>\n",
       "                        <td id=\"T_048c7964_05bf_11ee_923f_12e413fbf88crow3_col2\" class=\"data row3 col2\" >0.081</td>\n",
       "                        <td id=\"T_048c7964_05bf_11ee_923f_12e413fbf88crow3_col3\" class=\"data row3 col3\" >0.0809</td>\n",
       "            </tr>\n",
       "    </tbody></table>"
      ],
      "text/plain": [
       "<pandas.io.formats.style.Styler at 0x7fef57736be0>"
      ]
     },
     "metadata": {},
     "output_type": "display_data"
    },
    {
     "data": {
      "text/html": [
       "<style  type=\"text/css\" >\n",
       "</style><table id=\"T_04f11b26_05bf_11ee_923f_12e413fbf88c\" ><thead>    <tr>        <th class=\"index_name level0\" >Shell No.</th>        <th class=\"col_heading level0 col0\" >t_rad</th>        <th class=\"col_heading level0 col1\" >next_t_rad</th>        <th class=\"col_heading level0 col2\" >w</th>        <th class=\"col_heading level0 col3\" >next_w</th>    </tr></thead><tbody>\n",
       "                <tr>\n",
       "                        <th id=\"T_04f11b26_05bf_11ee_923f_12e413fbf88clevel0_row0\" class=\"row_heading level0 row0\" >0</th>\n",
       "                        <td id=\"T_04f11b26_05bf_11ee_923f_12e413fbf88crow0_col0\" class=\"data row0 col0\" >1.11e+04</td>\n",
       "                        <td id=\"T_04f11b26_05bf_11ee_923f_12e413fbf88crow0_col1\" class=\"data row0 col1\" >1.12e+04</td>\n",
       "                        <td id=\"T_04f11b26_05bf_11ee_923f_12e413fbf88crow0_col2\" class=\"data row0 col2\" >0.501</td>\n",
       "                        <td id=\"T_04f11b26_05bf_11ee_923f_12e413fbf88crow0_col3\" class=\"data row0 col3\" >0.485</td>\n",
       "            </tr>\n",
       "            <tr>\n",
       "                        <th id=\"T_04f11b26_05bf_11ee_923f_12e413fbf88clevel0_row1\" class=\"row_heading level0 row1\" >5</th>\n",
       "                        <td id=\"T_04f11b26_05bf_11ee_923f_12e413fbf88crow1_col0\" class=\"data row1 col0\" >1.16e+04</td>\n",
       "                        <td id=\"T_04f11b26_05bf_11ee_923f_12e413fbf88crow1_col1\" class=\"data row1 col1\" >1.16e+04</td>\n",
       "                        <td id=\"T_04f11b26_05bf_11ee_923f_12e413fbf88crow1_col2\" class=\"data row1 col2\" >0.174</td>\n",
       "                        <td id=\"T_04f11b26_05bf_11ee_923f_12e413fbf88crow1_col3\" class=\"data row1 col3\" >0.17</td>\n",
       "            </tr>\n",
       "            <tr>\n",
       "                        <th id=\"T_04f11b26_05bf_11ee_923f_12e413fbf88clevel0_row2\" class=\"row_heading level0 row2\" >10</th>\n",
       "                        <td id=\"T_04f11b26_05bf_11ee_923f_12e413fbf88crow2_col0\" class=\"data row2 col0\" >1.14e+04</td>\n",
       "                        <td id=\"T_04f11b26_05bf_11ee_923f_12e413fbf88crow2_col1\" class=\"data row2 col1\" >1.13e+04</td>\n",
       "                        <td id=\"T_04f11b26_05bf_11ee_923f_12e413fbf88crow2_col2\" class=\"data row2 col2\" >0.104</td>\n",
       "                        <td id=\"T_04f11b26_05bf_11ee_923f_12e413fbf88crow2_col3\" class=\"data row2 col3\" >0.105</td>\n",
       "            </tr>\n",
       "            <tr>\n",
       "                        <th id=\"T_04f11b26_05bf_11ee_923f_12e413fbf88clevel0_row3\" class=\"row_heading level0 row3\" >15</th>\n",
       "                        <td id=\"T_04f11b26_05bf_11ee_923f_12e413fbf88crow3_col0\" class=\"data row3 col0\" >1.09e+04</td>\n",
       "                        <td id=\"T_04f11b26_05bf_11ee_923f_12e413fbf88crow3_col1\" class=\"data row3 col1\" >1.1e+04</td>\n",
       "                        <td id=\"T_04f11b26_05bf_11ee_923f_12e413fbf88crow3_col2\" class=\"data row3 col2\" >0.0809</td>\n",
       "                        <td id=\"T_04f11b26_05bf_11ee_923f_12e413fbf88crow3_col3\" class=\"data row3 col3\" >0.0777</td>\n",
       "            </tr>\n",
       "    </tbody></table>"
      ],
      "text/plain": [
       "<pandas.io.formats.style.Styler at 0x7fef209f1670>"
      ]
     },
     "metadata": {},
     "output_type": "display_data"
    },
    {
     "data": {
      "text/html": [
       "<style  type=\"text/css\" >\n",
       "</style><table id=\"T_05540326_05bf_11ee_923f_12e413fbf88c\" ><thead>    <tr>        <th class=\"index_name level0\" >Shell No.</th>        <th class=\"col_heading level0 col0\" >t_rad</th>        <th class=\"col_heading level0 col1\" >next_t_rad</th>        <th class=\"col_heading level0 col2\" >w</th>        <th class=\"col_heading level0 col3\" >next_w</th>    </tr></thead><tbody>\n",
       "                <tr>\n",
       "                        <th id=\"T_05540326_05bf_11ee_923f_12e413fbf88clevel0_row0\" class=\"row_heading level0 row0\" >0</th>\n",
       "                        <td id=\"T_05540326_05bf_11ee_923f_12e413fbf88crow0_col0\" class=\"data row0 col0\" >1.12e+04</td>\n",
       "                        <td id=\"T_05540326_05bf_11ee_923f_12e413fbf88crow0_col1\" class=\"data row0 col1\" >1.12e+04</td>\n",
       "                        <td id=\"T_05540326_05bf_11ee_923f_12e413fbf88crow0_col2\" class=\"data row0 col2\" >0.485</td>\n",
       "                        <td id=\"T_05540326_05bf_11ee_923f_12e413fbf88crow0_col3\" class=\"data row0 col3\" >0.483</td>\n",
       "            </tr>\n",
       "            <tr>\n",
       "                        <th id=\"T_05540326_05bf_11ee_923f_12e413fbf88clevel0_row1\" class=\"row_heading level0 row1\" >5</th>\n",
       "                        <td id=\"T_05540326_05bf_11ee_923f_12e413fbf88crow1_col0\" class=\"data row1 col0\" >1.16e+04</td>\n",
       "                        <td id=\"T_05540326_05bf_11ee_923f_12e413fbf88crow1_col1\" class=\"data row1 col1\" >1.16e+04</td>\n",
       "                        <td id=\"T_05540326_05bf_11ee_923f_12e413fbf88crow1_col2\" class=\"data row1 col2\" >0.17</td>\n",
       "                        <td id=\"T_05540326_05bf_11ee_923f_12e413fbf88crow1_col3\" class=\"data row1 col3\" >0.174</td>\n",
       "            </tr>\n",
       "            <tr>\n",
       "                        <th id=\"T_05540326_05bf_11ee_923f_12e413fbf88clevel0_row2\" class=\"row_heading level0 row2\" >10</th>\n",
       "                        <td id=\"T_05540326_05bf_11ee_923f_12e413fbf88crow2_col0\" class=\"data row2 col0\" >1.13e+04</td>\n",
       "                        <td id=\"T_05540326_05bf_11ee_923f_12e413fbf88crow2_col1\" class=\"data row2 col1\" >1.14e+04</td>\n",
       "                        <td id=\"T_05540326_05bf_11ee_923f_12e413fbf88crow2_col2\" class=\"data row2 col2\" >0.105</td>\n",
       "                        <td id=\"T_05540326_05bf_11ee_923f_12e413fbf88crow2_col3\" class=\"data row2 col3\" >0.105</td>\n",
       "            </tr>\n",
       "            <tr>\n",
       "                        <th id=\"T_05540326_05bf_11ee_923f_12e413fbf88clevel0_row3\" class=\"row_heading level0 row3\" >15</th>\n",
       "                        <td id=\"T_05540326_05bf_11ee_923f_12e413fbf88crow3_col0\" class=\"data row3 col0\" >1.1e+04</td>\n",
       "                        <td id=\"T_05540326_05bf_11ee_923f_12e413fbf88crow3_col1\" class=\"data row3 col1\" >1.1e+04</td>\n",
       "                        <td id=\"T_05540326_05bf_11ee_923f_12e413fbf88crow3_col2\" class=\"data row3 col2\" >0.0777</td>\n",
       "                        <td id=\"T_05540326_05bf_11ee_923f_12e413fbf88crow3_col3\" class=\"data row3 col3\" >0.0789</td>\n",
       "            </tr>\n",
       "    </tbody></table>"
      ],
      "text/plain": [
       "<pandas.io.formats.style.Styler at 0x7fef41b2d1f0>"
      ]
     },
     "metadata": {},
     "output_type": "display_data"
    },
    {
     "data": {
      "text/html": [
       "<style  type=\"text/css\" >\n",
       "</style><table id=\"T_05b8a81c_05bf_11ee_923f_12e413fbf88c\" ><thead>    <tr>        <th class=\"index_name level0\" >Shell No.</th>        <th class=\"col_heading level0 col0\" >t_rad</th>        <th class=\"col_heading level0 col1\" >next_t_rad</th>        <th class=\"col_heading level0 col2\" >w</th>        <th class=\"col_heading level0 col3\" >next_w</th>    </tr></thead><tbody>\n",
       "                <tr>\n",
       "                        <th id=\"T_05b8a81c_05bf_11ee_923f_12e413fbf88clevel0_row0\" class=\"row_heading level0 row0\" >0</th>\n",
       "                        <td id=\"T_05b8a81c_05bf_11ee_923f_12e413fbf88crow0_col0\" class=\"data row0 col0\" >1.12e+04</td>\n",
       "                        <td id=\"T_05b8a81c_05bf_11ee_923f_12e413fbf88crow0_col1\" class=\"data row0 col1\" >1.12e+04</td>\n",
       "                        <td id=\"T_05b8a81c_05bf_11ee_923f_12e413fbf88crow0_col2\" class=\"data row0 col2\" >0.483</td>\n",
       "                        <td id=\"T_05b8a81c_05bf_11ee_923f_12e413fbf88crow0_col3\" class=\"data row0 col3\" >0.48</td>\n",
       "            </tr>\n",
       "            <tr>\n",
       "                        <th id=\"T_05b8a81c_05bf_11ee_923f_12e413fbf88clevel0_row1\" class=\"row_heading level0 row1\" >5</th>\n",
       "                        <td id=\"T_05b8a81c_05bf_11ee_923f_12e413fbf88crow1_col0\" class=\"data row1 col0\" >1.16e+04</td>\n",
       "                        <td id=\"T_05b8a81c_05bf_11ee_923f_12e413fbf88crow1_col1\" class=\"data row1 col1\" >1.16e+04</td>\n",
       "                        <td id=\"T_05b8a81c_05bf_11ee_923f_12e413fbf88crow1_col2\" class=\"data row1 col2\" >0.174</td>\n",
       "                        <td id=\"T_05b8a81c_05bf_11ee_923f_12e413fbf88crow1_col3\" class=\"data row1 col3\" >0.174</td>\n",
       "            </tr>\n",
       "            <tr>\n",
       "                        <th id=\"T_05b8a81c_05bf_11ee_923f_12e413fbf88clevel0_row2\" class=\"row_heading level0 row2\" >10</th>\n",
       "                        <td id=\"T_05b8a81c_05bf_11ee_923f_12e413fbf88crow2_col0\" class=\"data row2 col0\" >1.14e+04</td>\n",
       "                        <td id=\"T_05b8a81c_05bf_11ee_923f_12e413fbf88crow2_col1\" class=\"data row2 col1\" >1.13e+04</td>\n",
       "                        <td id=\"T_05b8a81c_05bf_11ee_923f_12e413fbf88crow2_col2\" class=\"data row2 col2\" >0.105</td>\n",
       "                        <td id=\"T_05b8a81c_05bf_11ee_923f_12e413fbf88crow2_col3\" class=\"data row2 col3\" >0.105</td>\n",
       "            </tr>\n",
       "            <tr>\n",
       "                        <th id=\"T_05b8a81c_05bf_11ee_923f_12e413fbf88clevel0_row3\" class=\"row_heading level0 row3\" >15</th>\n",
       "                        <td id=\"T_05b8a81c_05bf_11ee_923f_12e413fbf88crow3_col0\" class=\"data row3 col0\" >1.1e+04</td>\n",
       "                        <td id=\"T_05b8a81c_05bf_11ee_923f_12e413fbf88crow3_col1\" class=\"data row3 col1\" >1.09e+04</td>\n",
       "                        <td id=\"T_05b8a81c_05bf_11ee_923f_12e413fbf88crow3_col2\" class=\"data row3 col2\" >0.0789</td>\n",
       "                        <td id=\"T_05b8a81c_05bf_11ee_923f_12e413fbf88crow3_col3\" class=\"data row3 col3\" >0.0789</td>\n",
       "            </tr>\n",
       "    </tbody></table>"
      ],
      "text/plain": [
       "<pandas.io.formats.style.Styler at 0x7fef57736c40>"
      ]
     },
     "metadata": {},
     "output_type": "display_data"
    },
    {
     "data": {
      "text/html": [
       "<style  type=\"text/css\" >\n",
       "</style><table id=\"T_0619d04c_05bf_11ee_923f_12e413fbf88c\" ><thead>    <tr>        <th class=\"index_name level0\" >Shell No.</th>        <th class=\"col_heading level0 col0\" >t_rad</th>        <th class=\"col_heading level0 col1\" >next_t_rad</th>        <th class=\"col_heading level0 col2\" >w</th>        <th class=\"col_heading level0 col3\" >next_w</th>    </tr></thead><tbody>\n",
       "                <tr>\n",
       "                        <th id=\"T_0619d04c_05bf_11ee_923f_12e413fbf88clevel0_row0\" class=\"row_heading level0 row0\" >0</th>\n",
       "                        <td id=\"T_0619d04c_05bf_11ee_923f_12e413fbf88crow0_col0\" class=\"data row0 col0\" >1.12e+04</td>\n",
       "                        <td id=\"T_0619d04c_05bf_11ee_923f_12e413fbf88crow0_col1\" class=\"data row0 col1\" >1.12e+04</td>\n",
       "                        <td id=\"T_0619d04c_05bf_11ee_923f_12e413fbf88crow0_col2\" class=\"data row0 col2\" >0.48</td>\n",
       "                        <td id=\"T_0619d04c_05bf_11ee_923f_12e413fbf88crow0_col3\" class=\"data row0 col3\" >0.486</td>\n",
       "            </tr>\n",
       "            <tr>\n",
       "                        <th id=\"T_0619d04c_05bf_11ee_923f_12e413fbf88clevel0_row1\" class=\"row_heading level0 row1\" >5</th>\n",
       "                        <td id=\"T_0619d04c_05bf_11ee_923f_12e413fbf88crow1_col0\" class=\"data row1 col0\" >1.16e+04</td>\n",
       "                        <td id=\"T_0619d04c_05bf_11ee_923f_12e413fbf88crow1_col1\" class=\"data row1 col1\" >1.15e+04</td>\n",
       "                        <td id=\"T_0619d04c_05bf_11ee_923f_12e413fbf88crow1_col2\" class=\"data row1 col2\" >0.174</td>\n",
       "                        <td id=\"T_0619d04c_05bf_11ee_923f_12e413fbf88crow1_col3\" class=\"data row1 col3\" >0.18</td>\n",
       "            </tr>\n",
       "            <tr>\n",
       "                        <th id=\"T_0619d04c_05bf_11ee_923f_12e413fbf88clevel0_row2\" class=\"row_heading level0 row2\" >10</th>\n",
       "                        <td id=\"T_0619d04c_05bf_11ee_923f_12e413fbf88crow2_col0\" class=\"data row2 col0\" >1.13e+04</td>\n",
       "                        <td id=\"T_0619d04c_05bf_11ee_923f_12e413fbf88crow2_col1\" class=\"data row2 col1\" >1.12e+04</td>\n",
       "                        <td id=\"T_0619d04c_05bf_11ee_923f_12e413fbf88crow2_col2\" class=\"data row2 col2\" >0.105</td>\n",
       "                        <td id=\"T_0619d04c_05bf_11ee_923f_12e413fbf88crow2_col3\" class=\"data row2 col3\" >0.108</td>\n",
       "            </tr>\n",
       "            <tr>\n",
       "                        <th id=\"T_0619d04c_05bf_11ee_923f_12e413fbf88clevel0_row3\" class=\"row_heading level0 row3\" >15</th>\n",
       "                        <td id=\"T_0619d04c_05bf_11ee_923f_12e413fbf88crow3_col0\" class=\"data row3 col0\" >1.09e+04</td>\n",
       "                        <td id=\"T_0619d04c_05bf_11ee_923f_12e413fbf88crow3_col1\" class=\"data row3 col1\" >1.09e+04</td>\n",
       "                        <td id=\"T_0619d04c_05bf_11ee_923f_12e413fbf88crow3_col2\" class=\"data row3 col2\" >0.0789</td>\n",
       "                        <td id=\"T_0619d04c_05bf_11ee_923f_12e413fbf88crow3_col3\" class=\"data row3 col3\" >0.0793</td>\n",
       "            </tr>\n",
       "    </tbody></table>"
      ],
      "text/plain": [
       "<pandas.io.formats.style.Styler at 0x7fef41b2db20>"
      ]
     },
     "metadata": {},
     "output_type": "display_data"
    },
    {
     "data": {
      "text/html": [
       "<style  type=\"text/css\" >\n",
       "</style><table id=\"T_067e37e4_05bf_11ee_923f_12e413fbf88c\" ><thead>    <tr>        <th class=\"index_name level0\" >Shell No.</th>        <th class=\"col_heading level0 col0\" >t_rad</th>        <th class=\"col_heading level0 col1\" >next_t_rad</th>        <th class=\"col_heading level0 col2\" >w</th>        <th class=\"col_heading level0 col3\" >next_w</th>    </tr></thead><tbody>\n",
       "                <tr>\n",
       "                        <th id=\"T_067e37e4_05bf_11ee_923f_12e413fbf88clevel0_row0\" class=\"row_heading level0 row0\" >0</th>\n",
       "                        <td id=\"T_067e37e4_05bf_11ee_923f_12e413fbf88crow0_col0\" class=\"data row0 col0\" >1.12e+04</td>\n",
       "                        <td id=\"T_067e37e4_05bf_11ee_923f_12e413fbf88crow0_col1\" class=\"data row0 col1\" >1.12e+04</td>\n",
       "                        <td id=\"T_067e37e4_05bf_11ee_923f_12e413fbf88crow0_col2\" class=\"data row0 col2\" >0.486</td>\n",
       "                        <td id=\"T_067e37e4_05bf_11ee_923f_12e413fbf88crow0_col3\" class=\"data row0 col3\" >0.486</td>\n",
       "            </tr>\n",
       "            <tr>\n",
       "                        <th id=\"T_067e37e4_05bf_11ee_923f_12e413fbf88clevel0_row1\" class=\"row_heading level0 row1\" >5</th>\n",
       "                        <td id=\"T_067e37e4_05bf_11ee_923f_12e413fbf88crow1_col0\" class=\"data row1 col0\" >1.15e+04</td>\n",
       "                        <td id=\"T_067e37e4_05bf_11ee_923f_12e413fbf88crow1_col1\" class=\"data row1 col1\" >1.15e+04</td>\n",
       "                        <td id=\"T_067e37e4_05bf_11ee_923f_12e413fbf88crow1_col2\" class=\"data row1 col2\" >0.18</td>\n",
       "                        <td id=\"T_067e37e4_05bf_11ee_923f_12e413fbf88crow1_col3\" class=\"data row1 col3\" >0.177</td>\n",
       "            </tr>\n",
       "            <tr>\n",
       "                        <th id=\"T_067e37e4_05bf_11ee_923f_12e413fbf88clevel0_row2\" class=\"row_heading level0 row2\" >10</th>\n",
       "                        <td id=\"T_067e37e4_05bf_11ee_923f_12e413fbf88crow2_col0\" class=\"data row2 col0\" >1.12e+04</td>\n",
       "                        <td id=\"T_067e37e4_05bf_11ee_923f_12e413fbf88crow2_col1\" class=\"data row2 col1\" >1.13e+04</td>\n",
       "                        <td id=\"T_067e37e4_05bf_11ee_923f_12e413fbf88crow2_col2\" class=\"data row2 col2\" >0.108</td>\n",
       "                        <td id=\"T_067e37e4_05bf_11ee_923f_12e413fbf88crow2_col3\" class=\"data row2 col3\" >0.107</td>\n",
       "            </tr>\n",
       "            <tr>\n",
       "                        <th id=\"T_067e37e4_05bf_11ee_923f_12e413fbf88clevel0_row3\" class=\"row_heading level0 row3\" >15</th>\n",
       "                        <td id=\"T_067e37e4_05bf_11ee_923f_12e413fbf88crow3_col0\" class=\"data row3 col0\" >1.09e+04</td>\n",
       "                        <td id=\"T_067e37e4_05bf_11ee_923f_12e413fbf88crow3_col1\" class=\"data row3 col1\" >1.09e+04</td>\n",
       "                        <td id=\"T_067e37e4_05bf_11ee_923f_12e413fbf88crow3_col2\" class=\"data row3 col2\" >0.0793</td>\n",
       "                        <td id=\"T_067e37e4_05bf_11ee_923f_12e413fbf88crow3_col3\" class=\"data row3 col3\" >0.0811</td>\n",
       "            </tr>\n",
       "    </tbody></table>"
      ],
      "text/plain": [
       "<pandas.io.formats.style.Styler at 0x7fef41b2d130>"
      ]
     },
     "metadata": {},
     "output_type": "display_data"
    },
    {
     "data": {
      "text/html": [
       "<style  type=\"text/css\" >\n",
       "</style><table id=\"T_06e80502_05bf_11ee_923f_12e413fbf88c\" ><thead>    <tr>        <th class=\"index_name level0\" >Shell No.</th>        <th class=\"col_heading level0 col0\" >t_rad</th>        <th class=\"col_heading level0 col1\" >next_t_rad</th>        <th class=\"col_heading level0 col2\" >w</th>        <th class=\"col_heading level0 col3\" >next_w</th>    </tr></thead><tbody>\n",
       "                <tr>\n",
       "                        <th id=\"T_06e80502_05bf_11ee_923f_12e413fbf88clevel0_row0\" class=\"row_heading level0 row0\" >0</th>\n",
       "                        <td id=\"T_06e80502_05bf_11ee_923f_12e413fbf88crow0_col0\" class=\"data row0 col0\" >1.12e+04</td>\n",
       "                        <td id=\"T_06e80502_05bf_11ee_923f_12e413fbf88crow0_col1\" class=\"data row0 col1\" >1.12e+04</td>\n",
       "                        <td id=\"T_06e80502_05bf_11ee_923f_12e413fbf88crow0_col2\" class=\"data row0 col2\" >0.486</td>\n",
       "                        <td id=\"T_06e80502_05bf_11ee_923f_12e413fbf88crow0_col3\" class=\"data row0 col3\" >0.483</td>\n",
       "            </tr>\n",
       "            <tr>\n",
       "                        <th id=\"T_06e80502_05bf_11ee_923f_12e413fbf88clevel0_row1\" class=\"row_heading level0 row1\" >5</th>\n",
       "                        <td id=\"T_06e80502_05bf_11ee_923f_12e413fbf88crow1_col0\" class=\"data row1 col0\" >1.15e+04</td>\n",
       "                        <td id=\"T_06e80502_05bf_11ee_923f_12e413fbf88crow1_col1\" class=\"data row1 col1\" >1.16e+04</td>\n",
       "                        <td id=\"T_06e80502_05bf_11ee_923f_12e413fbf88crow1_col2\" class=\"data row1 col2\" >0.177</td>\n",
       "                        <td id=\"T_06e80502_05bf_11ee_923f_12e413fbf88crow1_col3\" class=\"data row1 col3\" >0.17</td>\n",
       "            </tr>\n",
       "            <tr>\n",
       "                        <th id=\"T_06e80502_05bf_11ee_923f_12e413fbf88clevel0_row2\" class=\"row_heading level0 row2\" >10</th>\n",
       "                        <td id=\"T_06e80502_05bf_11ee_923f_12e413fbf88crow2_col0\" class=\"data row2 col0\" >1.13e+04</td>\n",
       "                        <td id=\"T_06e80502_05bf_11ee_923f_12e413fbf88crow2_col1\" class=\"data row2 col1\" >1.13e+04</td>\n",
       "                        <td id=\"T_06e80502_05bf_11ee_923f_12e413fbf88crow2_col2\" class=\"data row2 col2\" >0.107</td>\n",
       "                        <td id=\"T_06e80502_05bf_11ee_923f_12e413fbf88crow2_col3\" class=\"data row2 col3\" >0.107</td>\n",
       "            </tr>\n",
       "            <tr>\n",
       "                        <th id=\"T_06e80502_05bf_11ee_923f_12e413fbf88clevel0_row3\" class=\"row_heading level0 row3\" >15</th>\n",
       "                        <td id=\"T_06e80502_05bf_11ee_923f_12e413fbf88crow3_col0\" class=\"data row3 col0\" >1.09e+04</td>\n",
       "                        <td id=\"T_06e80502_05bf_11ee_923f_12e413fbf88crow3_col1\" class=\"data row3 col1\" >1.09e+04</td>\n",
       "                        <td id=\"T_06e80502_05bf_11ee_923f_12e413fbf88crow3_col2\" class=\"data row3 col2\" >0.0811</td>\n",
       "                        <td id=\"T_06e80502_05bf_11ee_923f_12e413fbf88crow3_col3\" class=\"data row3 col3\" >0.0799</td>\n",
       "            </tr>\n",
       "    </tbody></table>"
      ],
      "text/plain": [
       "<pandas.io.formats.style.Styler at 0x7fef41b25fd0>"
      ]
     },
     "metadata": {},
     "output_type": "display_data"
    },
    {
     "data": {
      "text/html": [
       "<style  type=\"text/css\" >\n",
       "</style><table id=\"T_074c0502_05bf_11ee_923f_12e413fbf88c\" ><thead>    <tr>        <th class=\"index_name level0\" >Shell No.</th>        <th class=\"col_heading level0 col0\" >t_rad</th>        <th class=\"col_heading level0 col1\" >next_t_rad</th>        <th class=\"col_heading level0 col2\" >w</th>        <th class=\"col_heading level0 col3\" >next_w</th>    </tr></thead><tbody>\n",
       "                <tr>\n",
       "                        <th id=\"T_074c0502_05bf_11ee_923f_12e413fbf88clevel0_row0\" class=\"row_heading level0 row0\" >0</th>\n",
       "                        <td id=\"T_074c0502_05bf_11ee_923f_12e413fbf88crow0_col0\" class=\"data row0 col0\" >1.12e+04</td>\n",
       "                        <td id=\"T_074c0502_05bf_11ee_923f_12e413fbf88crow0_col1\" class=\"data row0 col1\" >1.12e+04</td>\n",
       "                        <td id=\"T_074c0502_05bf_11ee_923f_12e413fbf88crow0_col2\" class=\"data row0 col2\" >0.483</td>\n",
       "                        <td id=\"T_074c0502_05bf_11ee_923f_12e413fbf88crow0_col3\" class=\"data row0 col3\" >0.482</td>\n",
       "            </tr>\n",
       "            <tr>\n",
       "                        <th id=\"T_074c0502_05bf_11ee_923f_12e413fbf88clevel0_row1\" class=\"row_heading level0 row1\" >5</th>\n",
       "                        <td id=\"T_074c0502_05bf_11ee_923f_12e413fbf88crow1_col0\" class=\"data row1 col0\" >1.16e+04</td>\n",
       "                        <td id=\"T_074c0502_05bf_11ee_923f_12e413fbf88crow1_col1\" class=\"data row1 col1\" >1.16e+04</td>\n",
       "                        <td id=\"T_074c0502_05bf_11ee_923f_12e413fbf88crow1_col2\" class=\"data row1 col2\" >0.17</td>\n",
       "                        <td id=\"T_074c0502_05bf_11ee_923f_12e413fbf88crow1_col3\" class=\"data row1 col3\" >0.172</td>\n",
       "            </tr>\n",
       "            <tr>\n",
       "                        <th id=\"T_074c0502_05bf_11ee_923f_12e413fbf88clevel0_row2\" class=\"row_heading level0 row2\" >10</th>\n",
       "                        <td id=\"T_074c0502_05bf_11ee_923f_12e413fbf88crow2_col0\" class=\"data row2 col0\" >1.13e+04</td>\n",
       "                        <td id=\"T_074c0502_05bf_11ee_923f_12e413fbf88crow2_col1\" class=\"data row2 col1\" >1.13e+04</td>\n",
       "                        <td id=\"T_074c0502_05bf_11ee_923f_12e413fbf88crow2_col2\" class=\"data row2 col2\" >0.107</td>\n",
       "                        <td id=\"T_074c0502_05bf_11ee_923f_12e413fbf88crow2_col3\" class=\"data row2 col3\" >0.105</td>\n",
       "            </tr>\n",
       "            <tr>\n",
       "                        <th id=\"T_074c0502_05bf_11ee_923f_12e413fbf88clevel0_row3\" class=\"row_heading level0 row3\" >15</th>\n",
       "                        <td id=\"T_074c0502_05bf_11ee_923f_12e413fbf88crow3_col0\" class=\"data row3 col0\" >1.09e+04</td>\n",
       "                        <td id=\"T_074c0502_05bf_11ee_923f_12e413fbf88crow3_col1\" class=\"data row3 col1\" >1.09e+04</td>\n",
       "                        <td id=\"T_074c0502_05bf_11ee_923f_12e413fbf88crow3_col2\" class=\"data row3 col2\" >0.0799</td>\n",
       "                        <td id=\"T_074c0502_05bf_11ee_923f_12e413fbf88crow3_col3\" class=\"data row3 col3\" >0.0807</td>\n",
       "            </tr>\n",
       "    </tbody></table>"
      ],
      "text/plain": [
       "<pandas.io.formats.style.Styler at 0x7fef5771f400>"
      ]
     },
     "metadata": {},
     "output_type": "display_data"
    },
    {
     "data": {
      "text/html": [
       "<style  type=\"text/css\" >\n",
       "</style><table id=\"T_07af52f6_05bf_11ee_923f_12e413fbf88c\" ><thead>    <tr>        <th class=\"index_name level0\" >Shell No.</th>        <th class=\"col_heading level0 col0\" >t_rad</th>        <th class=\"col_heading level0 col1\" >next_t_rad</th>        <th class=\"col_heading level0 col2\" >w</th>        <th class=\"col_heading level0 col3\" >next_w</th>    </tr></thead><tbody>\n",
       "                <tr>\n",
       "                        <th id=\"T_07af52f6_05bf_11ee_923f_12e413fbf88clevel0_row0\" class=\"row_heading level0 row0\" >0</th>\n",
       "                        <td id=\"T_07af52f6_05bf_11ee_923f_12e413fbf88crow0_col0\" class=\"data row0 col0\" >1.12e+04</td>\n",
       "                        <td id=\"T_07af52f6_05bf_11ee_923f_12e413fbf88crow0_col1\" class=\"data row0 col1\" >1.12e+04</td>\n",
       "                        <td id=\"T_07af52f6_05bf_11ee_923f_12e413fbf88crow0_col2\" class=\"data row0 col2\" >0.482</td>\n",
       "                        <td id=\"T_07af52f6_05bf_11ee_923f_12e413fbf88crow0_col3\" class=\"data row0 col3\" >0.478</td>\n",
       "            </tr>\n",
       "            <tr>\n",
       "                        <th id=\"T_07af52f6_05bf_11ee_923f_12e413fbf88clevel0_row1\" class=\"row_heading level0 row1\" >5</th>\n",
       "                        <td id=\"T_07af52f6_05bf_11ee_923f_12e413fbf88crow1_col0\" class=\"data row1 col0\" >1.16e+04</td>\n",
       "                        <td id=\"T_07af52f6_05bf_11ee_923f_12e413fbf88crow1_col1\" class=\"data row1 col1\" >1.14e+04</td>\n",
       "                        <td id=\"T_07af52f6_05bf_11ee_923f_12e413fbf88crow1_col2\" class=\"data row1 col2\" >0.172</td>\n",
       "                        <td id=\"T_07af52f6_05bf_11ee_923f_12e413fbf88crow1_col3\" class=\"data row1 col3\" >0.177</td>\n",
       "            </tr>\n",
       "            <tr>\n",
       "                        <th id=\"T_07af52f6_05bf_11ee_923f_12e413fbf88clevel0_row2\" class=\"row_heading level0 row2\" >10</th>\n",
       "                        <td id=\"T_07af52f6_05bf_11ee_923f_12e413fbf88crow2_col0\" class=\"data row2 col0\" >1.13e+04</td>\n",
       "                        <td id=\"T_07af52f6_05bf_11ee_923f_12e413fbf88crow2_col1\" class=\"data row2 col1\" >1.13e+04</td>\n",
       "                        <td id=\"T_07af52f6_05bf_11ee_923f_12e413fbf88crow2_col2\" class=\"data row2 col2\" >0.105</td>\n",
       "                        <td id=\"T_07af52f6_05bf_11ee_923f_12e413fbf88crow2_col3\" class=\"data row2 col3\" >0.107</td>\n",
       "            </tr>\n",
       "            <tr>\n",
       "                        <th id=\"T_07af52f6_05bf_11ee_923f_12e413fbf88clevel0_row3\" class=\"row_heading level0 row3\" >15</th>\n",
       "                        <td id=\"T_07af52f6_05bf_11ee_923f_12e413fbf88crow3_col0\" class=\"data row3 col0\" >1.09e+04</td>\n",
       "                        <td id=\"T_07af52f6_05bf_11ee_923f_12e413fbf88crow3_col1\" class=\"data row3 col1\" >1.08e+04</td>\n",
       "                        <td id=\"T_07af52f6_05bf_11ee_923f_12e413fbf88crow3_col2\" class=\"data row3 col2\" >0.0807</td>\n",
       "                        <td id=\"T_07af52f6_05bf_11ee_923f_12e413fbf88crow3_col3\" class=\"data row3 col3\" >0.0814</td>\n",
       "            </tr>\n",
       "    </tbody></table>"
      ],
      "text/plain": [
       "<pandas.io.formats.style.Styler at 0x7fef41b37a00>"
      ]
     },
     "metadata": {},
     "output_type": "display_data"
    }
   ],
   "source": [
    "### Run Simulation\n",
    "config = Configuration.from_yaml('../../../docs/tardis_example.yml')\n",
    "atom_data = AtomData.from_hdf(os.path.join(get_data_dir(), 'kurucz_cd23_chianti_H_He.h5'))\n",
    "model = Radial1DModel.from_config(config, atom_data=atom_data)\n",
    "plasma = assemble_plasma(config, model, atom_data=atom_data)\n",
    "sim = Simulation.from_config(config, model=model, plasma=plasma)\n",
    "sim.run()"
   ]
  },
  {
   "cell_type": "code",
   "execution_count": 234,
   "metadata": {},
   "outputs": [],
   "source": [
    "class GrotrianWidget:\n",
    "    def __init__(self, sim, atomic_number, ion_number,\n",
    "                 num_shells=10, level_diff_threshold=0.01, filter_mode='packet_out_nu'):\n",
    "        self.atomic_number = atomic_number\n",
    "        self.atom_name = sim.plasma.atomic_data.atom_data.loc[atomic_number]['name']\n",
    "        self.atomic_symbol = sim.plasma.atomic_data.atom_data.loc[atomic_number]['symbol']\n",
    "        self.ion_number = ion_number\n",
    "        \n",
    "        self.num_shells = num_shells\n",
    "        self.level_diff_threshold = level_diff_threshold\n",
    "        self.filter_mode = filter_mode\n",
    "        \n",
    "        self.compute_level_data(sim)\n",
    "        \n",
    "        self.compute_transitions(sim)\n",
    "        \n",
    "        self.level_width_scale, self.level_width_offset = 3, 1\n",
    "        self.transition_width_scale, self.transition_width_offset = 2, 1\n",
    "        \n",
    "        # Define colors for the transitions based on wavelengths\n",
    "        self.colorscale = 'plasma'\n",
    "        self.cmap = plt.get_cmap(self.colorscale)\n",
    "        self.min_wavelength = sim.plasma.lines.wavelength.min()\n",
    "        self.max_wavelength = sim.plasma.lines.wavelength.max()\n",
    "    \n",
    "    def compute_transitions(self, sim):\n",
    "        ### Get lines data\n",
    "        lines_data = sim.plasma.atomic_data.lines.loc[self.atomic_number, self.ion_number].reset_index().set_index('line_id')\n",
    "\n",
    "        # Get relevant lines for current simulation\n",
    "        last_line_interaction = LastLineInteraction.from_model(sim, self.filter_mode)\n",
    "        last_line_interaction.atomic_number = self.atomic_number\n",
    "        last_line_interaction.ion_number = self.ion_number\n",
    "        \n",
    "        # Get the excitation/de-excitation transitions from last_line_interaction object\n",
    "        excit_lines = last_line_interaction.last_line_in.reset_index().groupby(['level_number_lower', 'level_number_upper']).agg(\n",
    "            num_electrons=('line_id', 'count'), # Take count of lines\n",
    "            wavelength=('wavelength', 'first'), # Take first of wavelengths\n",
    "        ).reset_index()\n",
    "\n",
    "        deexcit_lines = last_line_interaction.last_line_out.reset_index().groupby(['level_number_lower', 'level_number_upper']).agg(\n",
    "            num_electrons=('line_id', 'count'), # Take count of lines\n",
    "            wavelength=('wavelength', 'first'), # Take first of wavelengths\n",
    "        ).reset_index()\n",
    "\n",
    "        # Filter transitions to only include transitions upto the NUM_SHELLS\n",
    "        excit_lines = excit_lines.loc[\n",
    "            (excit_lines.level_number_lower <= NUM_SHELLS) & (excit_lines.level_number_upper <= NUM_SHELLS)\n",
    "        ]\n",
    "        deexcit_lines = deexcit_lines.loc[\n",
    "            (deexcit_lines.level_number_lower <= NUM_SHELLS) & (deexcit_lines.level_number_upper <= NUM_SHELLS)\n",
    "        ]\n",
    "\n",
    "        # Map the levels to merged levels\n",
    "        excit_lines['merged_level_number_lower'] = excit_lines.level_number_lower.map(self.level_mapping)\n",
    "        excit_lines['merged_level_number_upper'] = excit_lines.level_number_upper.map(self.level_mapping)\n",
    "        deexcit_lines['merged_level_number_lower'] = deexcit_lines.level_number_lower.map(self.level_mapping)\n",
    "        deexcit_lines['merged_level_number_upper'] = deexcit_lines.level_number_upper.map(self.level_mapping)\n",
    "\n",
    "        # Group by level pairs\n",
    "        excit_lines = excit_lines.groupby(['merged_level_number_lower', 'merged_level_number_upper']).agg(\n",
    "            wavelength=('wavelength', 'mean'), # Take mean of wavelength\n",
    "            num_electrons=('num_electrons', 'sum'), # Take sum of counts\n",
    "        ).reset_index()\n",
    "        deexcit_lines = deexcit_lines.groupby(['merged_level_number_lower', 'merged_level_number_upper']).agg(\n",
    "            wavelength=('wavelength', 'mean'), # Take mean of wavelength\n",
    "            num_electrons=('num_electrons', 'sum'), # Take sum of counts\n",
    "        ).reset_index()\n",
    "\n",
    "        # Remove the rows where start and end (merged) level is the same\n",
    "        excit_lines = excit_lines.loc[excit_lines.merged_level_number_lower != excit_lines.merged_level_number_upper]\n",
    "        deexcit_lines = deexcit_lines.loc[deexcit_lines.merged_level_number_lower != deexcit_lines.merged_level_number_upper]\n",
    "\n",
    "        # Compute the standardized log number of electrons for transition line thickness and offset\n",
    "        excit_log_num_electrons_range = np.log10(np.max(excit_lines.num_electrons)) - np.log10(np.min(excit_lines.num_electrons))\n",
    "        excit_lines['standard_log_num_electrons'] = (np.log10(excit_lines.num_electrons) - np.log10(np.min(excit_lines.num_electrons))) / excit_log_num_electrons_range\n",
    "\n",
    "        deexcit_log_num_electrons_range = np.log10(np.max(deexcit_lines.num_electrons)) - np.log10(np.min(deexcit_lines.num_electrons))\n",
    "        deexcit_lines['standard_log_num_electrons'] = (np.log10(deexcit_lines.num_electrons) - np.log10(np.min(deexcit_lines.num_electrons))) / deexcit_log_num_electrons_range\n",
    "        \n",
    "        self.excit_lines = excit_lines\n",
    "        self.deexcit_lines = deexcit_lines\n",
    "\n",
    "    \n",
    "    def compute_level_data(self, sim):\n",
    "        ### Get energy levels and convert to eV\n",
    "        raw_energy_levels = sim.plasma.atomic_data.levels.loc[self.atomic_number, self.ion_number].loc[1:self.num_shells]\n",
    "        raw_energy_levels = raw_energy_levels.energy / (u.electronvolt.to('J') * 1e7)\n",
    "        raw_energy_levels = pd.Series(raw_energy_levels, name='energy')\n",
    "        \n",
    "        ### Get level populations\n",
    "        raw_level_populations = sim.plasma.level_number_density.loc[self.atomic_number, self.ion_number].loc[1:self.num_shells]\n",
    "\n",
    "        # Average out the level populations across all zones (TODO: might include an option to select the zone number later)\n",
    "        raw_level_populations = raw_level_populations.mean(axis=1)\n",
    "\n",
    "        raw_level_populations = pd.Series(raw_level_populations, name='population')\n",
    "        \n",
    "        ### Join level populations and energy values\n",
    "        raw_level_data = pd.merge(raw_energy_levels, raw_level_populations, left_index=True, right_index=True)\n",
    "        \n",
    "        ### Merge the levels if energy difference is too less\n",
    "        # Get new level numbers\n",
    "        # TODO: Find a better way to find close levels\n",
    "        raw_level_data['merged_level_number'] = ((raw_level_data['energy']+1).pct_change().abs() > self.level_diff_threshold).cumsum() + 1\n",
    "\n",
    "        # Group data with new level numbers\n",
    "        self.level_data = raw_level_data.reset_index().groupby('merged_level_number').agg(\n",
    "                                         energy=('energy', 'mean'), # Set energy as mean of merged levels\n",
    "                                         population=('population', 'sum')) # Add the populations of merged levels\n",
    "        \n",
    "        self.level_mapping = raw_level_data.merged_level_number\n",
    "        \n",
    "        self.merged_num_shells = self.level_data.index.max()\n",
    "\n",
    "\n",
    "    def display(self):\n",
    "        ### Create figure and set metadata\n",
    "        fig = go.Figure()\n",
    "\n",
    "        fig.update_layout(\n",
    "            title=f\"Grotrian Diagram for {self.atom_name} {int_to_roman(self.ion_number)}\",\n",
    "            title_x=0.5,\n",
    "            yaxis_title=\"Energy Level (eV)\",\n",
    "            plot_bgcolor='white',\n",
    "            autosize=False,\n",
    "            width=700,\n",
    "            height=700,\n",
    "            xaxis=dict(showticklabels=False, showgrid=False,),  # Hide x-axis labels\n",
    "            yaxis=dict(showgrid=False,),  # Adjust y-axis range accordingly,\n",
    "            showlegend=False,\n",
    "        )\n",
    "\n",
    "        ### Create energy level platforms in the figure\n",
    "        self.level_data['centered_log_population'] = np.log10(self.level_data.population) - np.log10(np.min(self.level_data.population))\n",
    "        for level_number, level_info in self.level_data.iterrows():\n",
    "            level_width = level_info.centered_log_population * self.level_width_scale + self.level_width_offset\n",
    "            fig.add_trace(go.Scatter(\n",
    "                x=[0, 1],\n",
    "                y=[level_info.energy, level_info.energy],\n",
    "                mode='lines+text',\n",
    "                hovertemplate='Energy: %{y:.1f}eV<br>' + f'Population: {level_info.population:.2f}' + '<extra></extra>',\n",
    "                line=dict(color='black', width=level_width),\n",
    "                showlegend=False))\n",
    "            \n",
    "            fig.add_annotation(x=1.05, y=level_info.energy, text=f'n={level_number}', showarrow=False)\n",
    "\n",
    "        ### Create transition lines\n",
    "        wavelength_range = np.log(self.max_wavelength / self.min_wavelength)\n",
    "        # Plot excitation transitions\n",
    "        for _, line_info in self.excit_lines.iterrows():\n",
    "            lower, upper = line_info.merged_level_number_lower, line_info.merged_level_number_upper\n",
    "            wavelength, num_electrons = line_info.wavelength, line_info.standard_log_num_electrons\n",
    "            energy_lower, energy_upper = self.level_data.loc[lower].energy, self.level_data.loc[upper].energy\n",
    "\n",
    "            x_end = (upper - lower) / (self.merged_num_shells - lower)\n",
    "\n",
    "            color = matplotlib.colors.rgb2hex(self.cmap((np.log10(wavelength / self.min_wavelength)) / wavelength_range)[:3])\n",
    "\n",
    "            # Add arrowhead\n",
    "            fig.add_annotation(\n",
    "                x=x_end, y=energy_upper,  # Start of arrow\n",
    "                ax=0, ay=energy_lower,  # End of arrow\n",
    "                xref='x', yref='y',\n",
    "                axref='x', ayref='y',\n",
    "                showarrow=True,\n",
    "                arrowcolor=color,\n",
    "                arrowhead=2,  # Arrow style\n",
    "                arrowsize=1,  # Make the arrowhead 2 times bigger\n",
    "                arrowwidth=num_electrons * self.transition_width_scale + self.transition_width_offset,  # Adjust width accordingly\n",
    "            )\n",
    "\n",
    "        # Plot deexcitation transitions\n",
    "        for _, line_info in self.deexcit_lines.iterrows():\n",
    "            lower, upper = line_info.merged_level_number_lower, line_info.merged_level_number_upper\n",
    "            wavelength, num_electrons = line_info.wavelength, line_info.standard_log_num_electrons\n",
    "            energy_lower, energy_upper = self.level_data.loc[lower].energy, self.level_data.loc[upper].energy\n",
    "\n",
    "            x_end = (upper - lower) / (self.merged_num_shells - lower)\n",
    "\n",
    "            color = matplotlib.colors.rgb2hex(cmap((np.log10(wavelength / self.min_wavelength)) / wavelength_range)[:3])\n",
    "\n",
    "            # Add arrowhead\n",
    "            fig.add_annotation(\n",
    "                x=x_end, y=energy_lower,  # Start of arrow\n",
    "                ax=0, ay=energy_upper,  # End of arrow\n",
    "                xref='x', yref='y',\n",
    "                axref='x', ayref='y',\n",
    "                showarrow=True,\n",
    "                arrowcolor=color,\n",
    "                arrowhead=2,  # Arrow style\n",
    "                arrowsize=1,  # Make the arrowhead 2 times bigger\n",
    "                arrowwidth=num_electrons * self.transition_width_scale + self.transition_width_offset,  # Adjust width accordingly\n",
    "            )\n",
    "        \n",
    "        # Add a dummy Scatter trace to display colorbar\n",
    "        tickvalues = np.geomspace(self.min_wavelength, self.max_wavelength, 5)\n",
    "        ticktext = [f'{val:.1e}' for val in tickvalues] \n",
    "        fig.add_trace(go.Scatter(x=[None],\n",
    "                             y=[None],\n",
    "                             mode='markers',\n",
    "                             marker=dict(\n",
    "                                 colorscale=self.colorscale, \n",
    "                                 showscale=True,\n",
    "                                 cmin=np.log10(self.min_wavelength),\n",
    "                                 cmax=np.log10(self.max_wavelength),\n",
    "                                 colorbar=dict(title=f\"Wavelength ({u.Angstrom})\", thickness=5,\n",
    "                                               tickvals=np.log10(tickvalues),\n",
    "                                               ticktext=ticktext,\n",
    "                                               outlinewidth=0, x=1.2)\n",
    "                             ),\n",
    "                             hoverinfo='none'\n",
    "                            ))\n",
    "\n",
    "        fig.show()\n",
    "        "
   ]
  },
  {
   "cell_type": "code",
   "execution_count": 235,
   "metadata": {},
   "outputs": [
    {
     "name": "stderr",
     "output_type": "stream",
     "text": [
      "/var/folders/y3/003r_9sn0ysgqcll3s5phtyc0000gn/T/ipykernel_2688/3738913648.py:28: PerformanceWarning:\n",
      "\n",
      "indexing past lexsort depth may impact performance.\n",
      "\n"
     ]
    },
    {
     "data": {
      "text/html": [
       "<div>                            <div id=\"e5cc73cb-ac7d-4d96-b519-5124fe0a56c4\" class=\"plotly-graph-div\" style=\"height:700px; width:700px;\"></div>            <script type=\"text/javascript\">                require([\"plotly\"], function(Plotly) {                    window.PLOTLYENV=window.PLOTLYENV || {};                                    if (document.getElementById(\"e5cc73cb-ac7d-4d96-b519-5124fe0a56c4\")) {                    Plotly.newPlot(                        \"e5cc73cb-ac7d-4d96-b519-5124fe0a56c4\",                        [{\"hovertemplate\":\"Energy: %{y:.1f}eV<br>Population: 0.20<extra></extra>\",\"line\":{\"color\":\"black\",\"width\":3.4929395037052045},\"mode\":\"lines+text\",\"showlegend\":false,\"x\":[0,1],\"y\":[19.819626814193292,19.819626814193292],\"type\":\"scatter\"},{\"hovertemplate\":\"Energy: %{y:.1f}eV<br>Population: 0.03<extra></extra>\",\"line\":{\"color\":\"black\",\"width\":1.0},\"mode\":\"lines+text\",\"showlegend\":false,\"x\":[0,1],\"y\":[20.615786845598397,20.615786845598397],\"type\":\"scatter\"},{\"hovertemplate\":\"Energy: %{y:.1f}eV<br>Population: 0.18<extra></extra>\",\"line\":{\"color\":\"black\",\"width\":3.3983304897795397},\"mode\":\"lines+text\",\"showlegend\":false,\"x\":[0,1],\"y\":[20.964146224319382,20.964146224319382],\"type\":\"scatter\"},{\"hovertemplate\":\"Energy: %{y:.1f}eV<br>Population: 0.05<extra></extra>\",\"line\":{\"color\":\"black\",\"width\":1.6284619059648644},\"mode\":\"lines+text\",\"showlegend\":false,\"x\":[0,1],\"y\":[21.2180348553714,21.2180348553714],\"type\":\"scatter\"},{\"hovertemplate\":\"Energy: %{y:.1f}eV<br>Population: 0.03<extra></extra>\",\"line\":{\"color\":\"black\",\"width\":1.1666551651558517},\"mode\":\"lines+text\",\"showlegend\":false,\"x\":[0,1],\"y\":[22.91324518442339,22.91324518442339],\"type\":\"scatter\"},{\"hoverinfo\":\"none\",\"marker\":{\"cmax\":7.264242261657182,\"cmin\":1.8245943847096755,\"colorbar\":{\"outlinewidth\":0,\"thickness\":5,\"ticktext\":[\"6.7e+01\",\"1.5e+03\",\"3.5e+04\",\"8.0e+05\",\"1.8e+07\"],\"tickvals\":[1.8245943847096755,3.184506353946552,4.544418323183429,5.904330292420305,7.264242261657182],\"title\":{\"text\":\"Wavelength (Angstrom)\"},\"x\":1.2},\"colorscale\":[[0.0,\"#0d0887\"],[0.1111111111111111,\"#46039f\"],[0.2222222222222222,\"#7201a8\"],[0.3333333333333333,\"#9c179e\"],[0.4444444444444444,\"#bd3786\"],[0.5555555555555556,\"#d8576b\"],[0.6666666666666666,\"#ed7953\"],[0.7777777777777778,\"#fb9f3a\"],[0.8888888888888888,\"#fdca26\"],[1.0,\"#f0f921\"]],\"showscale\":true},\"mode\":\"markers\",\"x\":[null],\"y\":[null],\"type\":\"scatter\"}],                        {\"template\":{\"data\":{\"histogram2dcontour\":[{\"type\":\"histogram2dcontour\",\"colorbar\":{\"outlinewidth\":0,\"ticks\":\"\"},\"colorscale\":[[0.0,\"#0d0887\"],[0.1111111111111111,\"#46039f\"],[0.2222222222222222,\"#7201a8\"],[0.3333333333333333,\"#9c179e\"],[0.4444444444444444,\"#bd3786\"],[0.5555555555555556,\"#d8576b\"],[0.6666666666666666,\"#ed7953\"],[0.7777777777777778,\"#fb9f3a\"],[0.8888888888888888,\"#fdca26\"],[1.0,\"#f0f921\"]]}],\"choropleth\":[{\"type\":\"choropleth\",\"colorbar\":{\"outlinewidth\":0,\"ticks\":\"\"}}],\"histogram2d\":[{\"type\":\"histogram2d\",\"colorbar\":{\"outlinewidth\":0,\"ticks\":\"\"},\"colorscale\":[[0.0,\"#0d0887\"],[0.1111111111111111,\"#46039f\"],[0.2222222222222222,\"#7201a8\"],[0.3333333333333333,\"#9c179e\"],[0.4444444444444444,\"#bd3786\"],[0.5555555555555556,\"#d8576b\"],[0.6666666666666666,\"#ed7953\"],[0.7777777777777778,\"#fb9f3a\"],[0.8888888888888888,\"#fdca26\"],[1.0,\"#f0f921\"]]}],\"heatmap\":[{\"type\":\"heatmap\",\"colorbar\":{\"outlinewidth\":0,\"ticks\":\"\"},\"colorscale\":[[0.0,\"#0d0887\"],[0.1111111111111111,\"#46039f\"],[0.2222222222222222,\"#7201a8\"],[0.3333333333333333,\"#9c179e\"],[0.4444444444444444,\"#bd3786\"],[0.5555555555555556,\"#d8576b\"],[0.6666666666666666,\"#ed7953\"],[0.7777777777777778,\"#fb9f3a\"],[0.8888888888888888,\"#fdca26\"],[1.0,\"#f0f921\"]]}],\"heatmapgl\":[{\"type\":\"heatmapgl\",\"colorbar\":{\"outlinewidth\":0,\"ticks\":\"\"},\"colorscale\":[[0.0,\"#0d0887\"],[0.1111111111111111,\"#46039f\"],[0.2222222222222222,\"#7201a8\"],[0.3333333333333333,\"#9c179e\"],[0.4444444444444444,\"#bd3786\"],[0.5555555555555556,\"#d8576b\"],[0.6666666666666666,\"#ed7953\"],[0.7777777777777778,\"#fb9f3a\"],[0.8888888888888888,\"#fdca26\"],[1.0,\"#f0f921\"]]}],\"contourcarpet\":[{\"type\":\"contourcarpet\",\"colorbar\":{\"outlinewidth\":0,\"ticks\":\"\"}}],\"contour\":[{\"type\":\"contour\",\"colorbar\":{\"outlinewidth\":0,\"ticks\":\"\"},\"colorscale\":[[0.0,\"#0d0887\"],[0.1111111111111111,\"#46039f\"],[0.2222222222222222,\"#7201a8\"],[0.3333333333333333,\"#9c179e\"],[0.4444444444444444,\"#bd3786\"],[0.5555555555555556,\"#d8576b\"],[0.6666666666666666,\"#ed7953\"],[0.7777777777777778,\"#fb9f3a\"],[0.8888888888888888,\"#fdca26\"],[1.0,\"#f0f921\"]]}],\"surface\":[{\"type\":\"surface\",\"colorbar\":{\"outlinewidth\":0,\"ticks\":\"\"},\"colorscale\":[[0.0,\"#0d0887\"],[0.1111111111111111,\"#46039f\"],[0.2222222222222222,\"#7201a8\"],[0.3333333333333333,\"#9c179e\"],[0.4444444444444444,\"#bd3786\"],[0.5555555555555556,\"#d8576b\"],[0.6666666666666666,\"#ed7953\"],[0.7777777777777778,\"#fb9f3a\"],[0.8888888888888888,\"#fdca26\"],[1.0,\"#f0f921\"]]}],\"mesh3d\":[{\"type\":\"mesh3d\",\"colorbar\":{\"outlinewidth\":0,\"ticks\":\"\"}}],\"scatter\":[{\"fillpattern\":{\"fillmode\":\"overlay\",\"size\":10,\"solidity\":0.2},\"type\":\"scatter\"}],\"parcoords\":[{\"type\":\"parcoords\",\"line\":{\"colorbar\":{\"outlinewidth\":0,\"ticks\":\"\"}}}],\"scatterpolargl\":[{\"type\":\"scatterpolargl\",\"marker\":{\"colorbar\":{\"outlinewidth\":0,\"ticks\":\"\"}}}],\"bar\":[{\"error_x\":{\"color\":\"#2a3f5f\"},\"error_y\":{\"color\":\"#2a3f5f\"},\"marker\":{\"line\":{\"color\":\"#E5ECF6\",\"width\":0.5},\"pattern\":{\"fillmode\":\"overlay\",\"size\":10,\"solidity\":0.2}},\"type\":\"bar\"}],\"scattergeo\":[{\"type\":\"scattergeo\",\"marker\":{\"colorbar\":{\"outlinewidth\":0,\"ticks\":\"\"}}}],\"scatterpolar\":[{\"type\":\"scatterpolar\",\"marker\":{\"colorbar\":{\"outlinewidth\":0,\"ticks\":\"\"}}}],\"histogram\":[{\"marker\":{\"pattern\":{\"fillmode\":\"overlay\",\"size\":10,\"solidity\":0.2}},\"type\":\"histogram\"}],\"scattergl\":[{\"type\":\"scattergl\",\"marker\":{\"colorbar\":{\"outlinewidth\":0,\"ticks\":\"\"}}}],\"scatter3d\":[{\"type\":\"scatter3d\",\"line\":{\"colorbar\":{\"outlinewidth\":0,\"ticks\":\"\"}},\"marker\":{\"colorbar\":{\"outlinewidth\":0,\"ticks\":\"\"}}}],\"scattermapbox\":[{\"type\":\"scattermapbox\",\"marker\":{\"colorbar\":{\"outlinewidth\":0,\"ticks\":\"\"}}}],\"scatterternary\":[{\"type\":\"scatterternary\",\"marker\":{\"colorbar\":{\"outlinewidth\":0,\"ticks\":\"\"}}}],\"scattercarpet\":[{\"type\":\"scattercarpet\",\"marker\":{\"colorbar\":{\"outlinewidth\":0,\"ticks\":\"\"}}}],\"carpet\":[{\"aaxis\":{\"endlinecolor\":\"#2a3f5f\",\"gridcolor\":\"white\",\"linecolor\":\"white\",\"minorgridcolor\":\"white\",\"startlinecolor\":\"#2a3f5f\"},\"baxis\":{\"endlinecolor\":\"#2a3f5f\",\"gridcolor\":\"white\",\"linecolor\":\"white\",\"minorgridcolor\":\"white\",\"startlinecolor\":\"#2a3f5f\"},\"type\":\"carpet\"}],\"table\":[{\"cells\":{\"fill\":{\"color\":\"#EBF0F8\"},\"line\":{\"color\":\"white\"}},\"header\":{\"fill\":{\"color\":\"#C8D4E3\"},\"line\":{\"color\":\"white\"}},\"type\":\"table\"}],\"barpolar\":[{\"marker\":{\"line\":{\"color\":\"#E5ECF6\",\"width\":0.5},\"pattern\":{\"fillmode\":\"overlay\",\"size\":10,\"solidity\":0.2}},\"type\":\"barpolar\"}],\"pie\":[{\"automargin\":true,\"type\":\"pie\"}]},\"layout\":{\"autotypenumbers\":\"strict\",\"colorway\":[\"#636efa\",\"#EF553B\",\"#00cc96\",\"#ab63fa\",\"#FFA15A\",\"#19d3f3\",\"#FF6692\",\"#B6E880\",\"#FF97FF\",\"#FECB52\"],\"font\":{\"color\":\"#2a3f5f\"},\"hovermode\":\"closest\",\"hoverlabel\":{\"align\":\"left\"},\"paper_bgcolor\":\"white\",\"plot_bgcolor\":\"#E5ECF6\",\"polar\":{\"bgcolor\":\"#E5ECF6\",\"angularaxis\":{\"gridcolor\":\"white\",\"linecolor\":\"white\",\"ticks\":\"\"},\"radialaxis\":{\"gridcolor\":\"white\",\"linecolor\":\"white\",\"ticks\":\"\"}},\"ternary\":{\"bgcolor\":\"#E5ECF6\",\"aaxis\":{\"gridcolor\":\"white\",\"linecolor\":\"white\",\"ticks\":\"\"},\"baxis\":{\"gridcolor\":\"white\",\"linecolor\":\"white\",\"ticks\":\"\"},\"caxis\":{\"gridcolor\":\"white\",\"linecolor\":\"white\",\"ticks\":\"\"}},\"coloraxis\":{\"colorbar\":{\"outlinewidth\":0,\"ticks\":\"\"}},\"colorscale\":{\"sequential\":[[0.0,\"#0d0887\"],[0.1111111111111111,\"#46039f\"],[0.2222222222222222,\"#7201a8\"],[0.3333333333333333,\"#9c179e\"],[0.4444444444444444,\"#bd3786\"],[0.5555555555555556,\"#d8576b\"],[0.6666666666666666,\"#ed7953\"],[0.7777777777777778,\"#fb9f3a\"],[0.8888888888888888,\"#fdca26\"],[1.0,\"#f0f921\"]],\"sequentialminus\":[[0.0,\"#0d0887\"],[0.1111111111111111,\"#46039f\"],[0.2222222222222222,\"#7201a8\"],[0.3333333333333333,\"#9c179e\"],[0.4444444444444444,\"#bd3786\"],[0.5555555555555556,\"#d8576b\"],[0.6666666666666666,\"#ed7953\"],[0.7777777777777778,\"#fb9f3a\"],[0.8888888888888888,\"#fdca26\"],[1.0,\"#f0f921\"]],\"diverging\":[[0,\"#8e0152\"],[0.1,\"#c51b7d\"],[0.2,\"#de77ae\"],[0.3,\"#f1b6da\"],[0.4,\"#fde0ef\"],[0.5,\"#f7f7f7\"],[0.6,\"#e6f5d0\"],[0.7,\"#b8e186\"],[0.8,\"#7fbc41\"],[0.9,\"#4d9221\"],[1,\"#276419\"]]},\"xaxis\":{\"gridcolor\":\"white\",\"linecolor\":\"white\",\"ticks\":\"\",\"title\":{\"standoff\":15},\"zerolinecolor\":\"white\",\"automargin\":true,\"zerolinewidth\":2},\"yaxis\":{\"gridcolor\":\"white\",\"linecolor\":\"white\",\"ticks\":\"\",\"title\":{\"standoff\":15},\"zerolinecolor\":\"white\",\"automargin\":true,\"zerolinewidth\":2},\"scene\":{\"xaxis\":{\"backgroundcolor\":\"#E5ECF6\",\"gridcolor\":\"white\",\"linecolor\":\"white\",\"showbackground\":true,\"ticks\":\"\",\"zerolinecolor\":\"white\",\"gridwidth\":2},\"yaxis\":{\"backgroundcolor\":\"#E5ECF6\",\"gridcolor\":\"white\",\"linecolor\":\"white\",\"showbackground\":true,\"ticks\":\"\",\"zerolinecolor\":\"white\",\"gridwidth\":2},\"zaxis\":{\"backgroundcolor\":\"#E5ECF6\",\"gridcolor\":\"white\",\"linecolor\":\"white\",\"showbackground\":true,\"ticks\":\"\",\"zerolinecolor\":\"white\",\"gridwidth\":2}},\"shapedefaults\":{\"line\":{\"color\":\"#2a3f5f\"}},\"annotationdefaults\":{\"arrowcolor\":\"#2a3f5f\",\"arrowhead\":0,\"arrowwidth\":1},\"geo\":{\"bgcolor\":\"white\",\"landcolor\":\"#E5ECF6\",\"subunitcolor\":\"white\",\"showland\":true,\"showlakes\":true,\"lakecolor\":\"white\"},\"title\":{\"x\":0.05},\"mapbox\":{\"style\":\"light\"}}},\"title\":{\"text\":\"Grotrian Diagram for Helium \",\"x\":0.5},\"xaxis\":{\"showticklabels\":false,\"showgrid\":false},\"yaxis\":{\"title\":{\"text\":\"Energy Level (eV)\"},\"showgrid\":false},\"plot_bgcolor\":\"white\",\"autosize\":false,\"width\":700,\"height\":700,\"showlegend\":false,\"annotations\":[{\"showarrow\":false,\"text\":\"n=1\",\"x\":1.05,\"y\":19.819626814193292},{\"showarrow\":false,\"text\":\"n=2\",\"x\":1.05,\"y\":20.615786845598397},{\"showarrow\":false,\"text\":\"n=3\",\"x\":1.05,\"y\":20.964146224319382},{\"showarrow\":false,\"text\":\"n=4\",\"x\":1.05,\"y\":21.2180348553714},{\"showarrow\":false,\"text\":\"n=5\",\"x\":1.05,\"y\":22.91324518442339},{\"arrowcolor\":\"#6100a7\",\"arrowhead\":2,\"arrowsize\":1,\"arrowwidth\":3.0,\"ax\":0,\"axref\":\"x\",\"ay\":19.819626814193292,\"ayref\":\"y\",\"showarrow\":true,\"x\":0.5,\"xref\":\"x\",\"y\":20.964146224319382,\"yref\":\"y\"},{\"arrowcolor\":\"#5302a3\",\"arrowhead\":2,\"arrowsize\":1,\"arrowwidth\":1.365076821120943,\"ax\":0,\"axref\":\"x\",\"ay\":19.819626814193292,\"ayref\":\"y\",\"showarrow\":true,\"x\":1.0,\"xref\":\"x\",\"y\":22.91324518442339,\"yref\":\"y\"},{\"arrowcolor\":\"#5b01a5\",\"arrowhead\":2,\"arrowsize\":1,\"arrowwidth\":1.0,\"ax\":0,\"axref\":\"x\",\"ay\":20.964146224319382,\"ayref\":\"y\",\"showarrow\":true,\"x\":1.0,\"xref\":\"x\",\"y\":22.91324518442339,\"yref\":\"y\"},{\"arrowcolor\":\"#6100a7\",\"arrowhead\":2,\"arrowsize\":1,\"arrowwidth\":3.0,\"ax\":0,\"axref\":\"x\",\"ay\":20.964146224319382,\"ayref\":\"y\",\"showarrow\":true,\"x\":0.5,\"xref\":\"x\",\"y\":19.819626814193292,\"yref\":\"y\"},{\"arrowcolor\":\"#5302a3\",\"arrowhead\":2,\"arrowsize\":1,\"arrowwidth\":1.0779778463043101,\"ax\":0,\"axref\":\"x\",\"ay\":22.91324518442339,\"ayref\":\"y\",\"showarrow\":true,\"x\":1.0,\"xref\":\"x\",\"y\":19.819626814193292,\"yref\":\"y\"},{\"arrowcolor\":\"#5b01a5\",\"arrowhead\":2,\"arrowsize\":1,\"arrowwidth\":1.0,\"ax\":0,\"axref\":\"x\",\"ay\":22.91324518442339,\"ayref\":\"y\",\"showarrow\":true,\"x\":1.0,\"xref\":\"x\",\"y\":20.964146224319382,\"yref\":\"y\"}]},                        {\"responsive\": true}                    ).then(function(){\n",
       "                            \n",
       "var gd = document.getElementById('e5cc73cb-ac7d-4d96-b519-5124fe0a56c4');\n",
       "var x = new MutationObserver(function (mutations, observer) {{\n",
       "        var display = window.getComputedStyle(gd).display;\n",
       "        if (!display || display === 'none') {{\n",
       "            console.log([gd, 'removed!']);\n",
       "            Plotly.purge(gd);\n",
       "            observer.disconnect();\n",
       "        }}\n",
       "}});\n",
       "\n",
       "// Listen for the removal of the full notebook cells\n",
       "var notebookContainer = gd.closest('#notebook-container');\n",
       "if (notebookContainer) {{\n",
       "    x.observe(notebookContainer, {childList: true});\n",
       "}}\n",
       "\n",
       "// Listen for the clearing of the current output cell\n",
       "var outputEl = gd.closest('.output');\n",
       "if (outputEl) {{\n",
       "    x.observe(outputEl, {childList: true});\n",
       "}}\n",
       "\n",
       "                        })                };                });            </script>        </div>"
      ]
     },
     "metadata": {},
     "output_type": "display_data"
    }
   ],
   "source": [
    "diag = GrotrianWidget(sim, atomic_number=2, ion_number=0)\n",
    "diag.display()"
   ]
  },
  {
   "cell_type": "code",
   "execution_count": 236,
   "metadata": {},
   "outputs": [
    {
     "name": "stderr",
     "output_type": "stream",
     "text": [
      "/var/folders/y3/003r_9sn0ysgqcll3s5phtyc0000gn/T/ipykernel_2688/3738913648.py:28: PerformanceWarning:\n",
      "\n",
      "indexing past lexsort depth may impact performance.\n",
      "\n"
     ]
    },
    {
     "data": {
      "text/html": [
       "<div>                            <div id=\"4706b2a2-cb75-4f02-b3ae-372425ef7d1a\" class=\"plotly-graph-div\" style=\"height:700px; width:700px;\"></div>            <script type=\"text/javascript\">                require([\"plotly\"], function(Plotly) {                    window.PLOTLYENV=window.PLOTLYENV || {};                                    if (document.getElementById(\"4706b2a2-cb75-4f02-b3ae-372425ef7d1a\")) {                    Plotly.newPlot(                        \"4706b2a2-cb75-4f02-b3ae-372425ef7d1a\",                        [{\"hovertemplate\":\"Energy: %{y:.1f}eV<br>Population: 39.71<extra></extra>\",\"line\":{\"color\":\"black\",\"width\":16.03965494283465},\"mode\":\"lines+text\",\"showlegend\":false,\"x\":[0,1],\"y\":[0.02388195922445142,0.02388195922445142],\"type\":\"scatter\"},{\"hovertemplate\":\"Energy: %{y:.1f}eV<br>Population: 6.73<extra></extra>\",\"line\":{\"color\":\"black\",\"width\":13.727962525333494},\"mode\":\"lines+text\",\"showlegend\":false,\"x\":[0,1],\"y\":[1.9673640634366045,1.9673640634366045],\"type\":\"scatter\"},{\"hovertemplate\":\"Energy: %{y:.1f}eV<br>Population: 0.14<extra></extra>\",\"line\":{\"color\":\"black\",\"width\":8.65885824065408},\"mode\":\"lines+text\",\"showlegend\":false,\"x\":[0,1],\"y\":[4.189746129938533,4.189746129938533],\"type\":\"scatter\"},{\"hovertemplate\":\"Energy: %{y:.1f}eV<br>Population: 0.00<extra></extra>\",\"line\":{\"color\":\"black\",\"width\":4.128800464455772},\"mode\":\"lines+text\",\"showlegend\":false,\"x\":[0,1],\"y\":[9.146090740164247,9.146090740164247],\"type\":\"scatter\"},{\"hovertemplate\":\"Energy: %{y:.1f}eV<br>Population: 0.00<extra></extra>\",\"line\":{\"color\":\"black\",\"width\":2.961579094255211},\"mode\":\"lines+text\",\"showlegend\":false,\"x\":[0,1],\"y\":[9.521363367642385,9.521363367642385],\"type\":\"scatter\"},{\"hovertemplate\":\"Energy: %{y:.1f}eV<br>Population: 0.00<extra></extra>\",\"line\":{\"color\":\"black\",\"width\":3.4286155166891352},\"mode\":\"lines+text\",\"showlegend\":false,\"x\":[0,1],\"y\":[10.740543537733004,10.740543537733004],\"type\":\"scatter\"},{\"hovertemplate\":\"Energy: %{y:.1f}eV<br>Population: 0.00<extra></extra>\",\"line\":{\"color\":\"black\",\"width\":1.0},\"mode\":\"lines+text\",\"showlegend\":false,\"x\":[0,1],\"y\":[10.988791797224572,10.988791797224572],\"type\":\"scatter\"},{\"hoverinfo\":\"none\",\"marker\":{\"cmax\":7.264242261657182,\"cmin\":1.8245943847096755,\"colorbar\":{\"outlinewidth\":0,\"thickness\":5,\"ticktext\":[\"6.7e+01\",\"1.5e+03\",\"3.5e+04\",\"8.0e+05\",\"1.8e+07\"],\"tickvals\":[1.8245943847096755,3.184506353946552,4.544418323183429,5.904330292420305,7.264242261657182],\"title\":{\"text\":\"Wavelength (Angstrom)\"},\"x\":1.2},\"colorscale\":[[0.0,\"#0d0887\"],[0.1111111111111111,\"#46039f\"],[0.2222222222222222,\"#7201a8\"],[0.3333333333333333,\"#9c179e\"],[0.4444444444444444,\"#bd3786\"],[0.5555555555555556,\"#d8576b\"],[0.6666666666666666,\"#ed7953\"],[0.7777777777777778,\"#fb9f3a\"],[0.8888888888888888,\"#fdca26\"],[1.0,\"#f0f921\"]],\"showscale\":true},\"mode\":\"markers\",\"x\":[null],\"y\":[null],\"type\":\"scatter\"}],                        {\"template\":{\"data\":{\"histogram2dcontour\":[{\"type\":\"histogram2dcontour\",\"colorbar\":{\"outlinewidth\":0,\"ticks\":\"\"},\"colorscale\":[[0.0,\"#0d0887\"],[0.1111111111111111,\"#46039f\"],[0.2222222222222222,\"#7201a8\"],[0.3333333333333333,\"#9c179e\"],[0.4444444444444444,\"#bd3786\"],[0.5555555555555556,\"#d8576b\"],[0.6666666666666666,\"#ed7953\"],[0.7777777777777778,\"#fb9f3a\"],[0.8888888888888888,\"#fdca26\"],[1.0,\"#f0f921\"]]}],\"choropleth\":[{\"type\":\"choropleth\",\"colorbar\":{\"outlinewidth\":0,\"ticks\":\"\"}}],\"histogram2d\":[{\"type\":\"histogram2d\",\"colorbar\":{\"outlinewidth\":0,\"ticks\":\"\"},\"colorscale\":[[0.0,\"#0d0887\"],[0.1111111111111111,\"#46039f\"],[0.2222222222222222,\"#7201a8\"],[0.3333333333333333,\"#9c179e\"],[0.4444444444444444,\"#bd3786\"],[0.5555555555555556,\"#d8576b\"],[0.6666666666666666,\"#ed7953\"],[0.7777777777777778,\"#fb9f3a\"],[0.8888888888888888,\"#fdca26\"],[1.0,\"#f0f921\"]]}],\"heatmap\":[{\"type\":\"heatmap\",\"colorbar\":{\"outlinewidth\":0,\"ticks\":\"\"},\"colorscale\":[[0.0,\"#0d0887\"],[0.1111111111111111,\"#46039f\"],[0.2222222222222222,\"#7201a8\"],[0.3333333333333333,\"#9c179e\"],[0.4444444444444444,\"#bd3786\"],[0.5555555555555556,\"#d8576b\"],[0.6666666666666666,\"#ed7953\"],[0.7777777777777778,\"#fb9f3a\"],[0.8888888888888888,\"#fdca26\"],[1.0,\"#f0f921\"]]}],\"heatmapgl\":[{\"type\":\"heatmapgl\",\"colorbar\":{\"outlinewidth\":0,\"ticks\":\"\"},\"colorscale\":[[0.0,\"#0d0887\"],[0.1111111111111111,\"#46039f\"],[0.2222222222222222,\"#7201a8\"],[0.3333333333333333,\"#9c179e\"],[0.4444444444444444,\"#bd3786\"],[0.5555555555555556,\"#d8576b\"],[0.6666666666666666,\"#ed7953\"],[0.7777777777777778,\"#fb9f3a\"],[0.8888888888888888,\"#fdca26\"],[1.0,\"#f0f921\"]]}],\"contourcarpet\":[{\"type\":\"contourcarpet\",\"colorbar\":{\"outlinewidth\":0,\"ticks\":\"\"}}],\"contour\":[{\"type\":\"contour\",\"colorbar\":{\"outlinewidth\":0,\"ticks\":\"\"},\"colorscale\":[[0.0,\"#0d0887\"],[0.1111111111111111,\"#46039f\"],[0.2222222222222222,\"#7201a8\"],[0.3333333333333333,\"#9c179e\"],[0.4444444444444444,\"#bd3786\"],[0.5555555555555556,\"#d8576b\"],[0.6666666666666666,\"#ed7953\"],[0.7777777777777778,\"#fb9f3a\"],[0.8888888888888888,\"#fdca26\"],[1.0,\"#f0f921\"]]}],\"surface\":[{\"type\":\"surface\",\"colorbar\":{\"outlinewidth\":0,\"ticks\":\"\"},\"colorscale\":[[0.0,\"#0d0887\"],[0.1111111111111111,\"#46039f\"],[0.2222222222222222,\"#7201a8\"],[0.3333333333333333,\"#9c179e\"],[0.4444444444444444,\"#bd3786\"],[0.5555555555555556,\"#d8576b\"],[0.6666666666666666,\"#ed7953\"],[0.7777777777777778,\"#fb9f3a\"],[0.8888888888888888,\"#fdca26\"],[1.0,\"#f0f921\"]]}],\"mesh3d\":[{\"type\":\"mesh3d\",\"colorbar\":{\"outlinewidth\":0,\"ticks\":\"\"}}],\"scatter\":[{\"fillpattern\":{\"fillmode\":\"overlay\",\"size\":10,\"solidity\":0.2},\"type\":\"scatter\"}],\"parcoords\":[{\"type\":\"parcoords\",\"line\":{\"colorbar\":{\"outlinewidth\":0,\"ticks\":\"\"}}}],\"scatterpolargl\":[{\"type\":\"scatterpolargl\",\"marker\":{\"colorbar\":{\"outlinewidth\":0,\"ticks\":\"\"}}}],\"bar\":[{\"error_x\":{\"color\":\"#2a3f5f\"},\"error_y\":{\"color\":\"#2a3f5f\"},\"marker\":{\"line\":{\"color\":\"#E5ECF6\",\"width\":0.5},\"pattern\":{\"fillmode\":\"overlay\",\"size\":10,\"solidity\":0.2}},\"type\":\"bar\"}],\"scattergeo\":[{\"type\":\"scattergeo\",\"marker\":{\"colorbar\":{\"outlinewidth\":0,\"ticks\":\"\"}}}],\"scatterpolar\":[{\"type\":\"scatterpolar\",\"marker\":{\"colorbar\":{\"outlinewidth\":0,\"ticks\":\"\"}}}],\"histogram\":[{\"marker\":{\"pattern\":{\"fillmode\":\"overlay\",\"size\":10,\"solidity\":0.2}},\"type\":\"histogram\"}],\"scattergl\":[{\"type\":\"scattergl\",\"marker\":{\"colorbar\":{\"outlinewidth\":0,\"ticks\":\"\"}}}],\"scatter3d\":[{\"type\":\"scatter3d\",\"line\":{\"colorbar\":{\"outlinewidth\":0,\"ticks\":\"\"}},\"marker\":{\"colorbar\":{\"outlinewidth\":0,\"ticks\":\"\"}}}],\"scattermapbox\":[{\"type\":\"scattermapbox\",\"marker\":{\"colorbar\":{\"outlinewidth\":0,\"ticks\":\"\"}}}],\"scatterternary\":[{\"type\":\"scatterternary\",\"marker\":{\"colorbar\":{\"outlinewidth\":0,\"ticks\":\"\"}}}],\"scattercarpet\":[{\"type\":\"scattercarpet\",\"marker\":{\"colorbar\":{\"outlinewidth\":0,\"ticks\":\"\"}}}],\"carpet\":[{\"aaxis\":{\"endlinecolor\":\"#2a3f5f\",\"gridcolor\":\"white\",\"linecolor\":\"white\",\"minorgridcolor\":\"white\",\"startlinecolor\":\"#2a3f5f\"},\"baxis\":{\"endlinecolor\":\"#2a3f5f\",\"gridcolor\":\"white\",\"linecolor\":\"white\",\"minorgridcolor\":\"white\",\"startlinecolor\":\"#2a3f5f\"},\"type\":\"carpet\"}],\"table\":[{\"cells\":{\"fill\":{\"color\":\"#EBF0F8\"},\"line\":{\"color\":\"white\"}},\"header\":{\"fill\":{\"color\":\"#C8D4E3\"},\"line\":{\"color\":\"white\"}},\"type\":\"table\"}],\"barpolar\":[{\"marker\":{\"line\":{\"color\":\"#E5ECF6\",\"width\":0.5},\"pattern\":{\"fillmode\":\"overlay\",\"size\":10,\"solidity\":0.2}},\"type\":\"barpolar\"}],\"pie\":[{\"automargin\":true,\"type\":\"pie\"}]},\"layout\":{\"autotypenumbers\":\"strict\",\"colorway\":[\"#636efa\",\"#EF553B\",\"#00cc96\",\"#ab63fa\",\"#FFA15A\",\"#19d3f3\",\"#FF6692\",\"#B6E880\",\"#FF97FF\",\"#FECB52\"],\"font\":{\"color\":\"#2a3f5f\"},\"hovermode\":\"closest\",\"hoverlabel\":{\"align\":\"left\"},\"paper_bgcolor\":\"white\",\"plot_bgcolor\":\"#E5ECF6\",\"polar\":{\"bgcolor\":\"#E5ECF6\",\"angularaxis\":{\"gridcolor\":\"white\",\"linecolor\":\"white\",\"ticks\":\"\"},\"radialaxis\":{\"gridcolor\":\"white\",\"linecolor\":\"white\",\"ticks\":\"\"}},\"ternary\":{\"bgcolor\":\"#E5ECF6\",\"aaxis\":{\"gridcolor\":\"white\",\"linecolor\":\"white\",\"ticks\":\"\"},\"baxis\":{\"gridcolor\":\"white\",\"linecolor\":\"white\",\"ticks\":\"\"},\"caxis\":{\"gridcolor\":\"white\",\"linecolor\":\"white\",\"ticks\":\"\"}},\"coloraxis\":{\"colorbar\":{\"outlinewidth\":0,\"ticks\":\"\"}},\"colorscale\":{\"sequential\":[[0.0,\"#0d0887\"],[0.1111111111111111,\"#46039f\"],[0.2222222222222222,\"#7201a8\"],[0.3333333333333333,\"#9c179e\"],[0.4444444444444444,\"#bd3786\"],[0.5555555555555556,\"#d8576b\"],[0.6666666666666666,\"#ed7953\"],[0.7777777777777778,\"#fb9f3a\"],[0.8888888888888888,\"#fdca26\"],[1.0,\"#f0f921\"]],\"sequentialminus\":[[0.0,\"#0d0887\"],[0.1111111111111111,\"#46039f\"],[0.2222222222222222,\"#7201a8\"],[0.3333333333333333,\"#9c179e\"],[0.4444444444444444,\"#bd3786\"],[0.5555555555555556,\"#d8576b\"],[0.6666666666666666,\"#ed7953\"],[0.7777777777777778,\"#fb9f3a\"],[0.8888888888888888,\"#fdca26\"],[1.0,\"#f0f921\"]],\"diverging\":[[0,\"#8e0152\"],[0.1,\"#c51b7d\"],[0.2,\"#de77ae\"],[0.3,\"#f1b6da\"],[0.4,\"#fde0ef\"],[0.5,\"#f7f7f7\"],[0.6,\"#e6f5d0\"],[0.7,\"#b8e186\"],[0.8,\"#7fbc41\"],[0.9,\"#4d9221\"],[1,\"#276419\"]]},\"xaxis\":{\"gridcolor\":\"white\",\"linecolor\":\"white\",\"ticks\":\"\",\"title\":{\"standoff\":15},\"zerolinecolor\":\"white\",\"automargin\":true,\"zerolinewidth\":2},\"yaxis\":{\"gridcolor\":\"white\",\"linecolor\":\"white\",\"ticks\":\"\",\"title\":{\"standoff\":15},\"zerolinecolor\":\"white\",\"automargin\":true,\"zerolinewidth\":2},\"scene\":{\"xaxis\":{\"backgroundcolor\":\"#E5ECF6\",\"gridcolor\":\"white\",\"linecolor\":\"white\",\"showbackground\":true,\"ticks\":\"\",\"zerolinecolor\":\"white\",\"gridwidth\":2},\"yaxis\":{\"backgroundcolor\":\"#E5ECF6\",\"gridcolor\":\"white\",\"linecolor\":\"white\",\"showbackground\":true,\"ticks\":\"\",\"zerolinecolor\":\"white\",\"gridwidth\":2},\"zaxis\":{\"backgroundcolor\":\"#E5ECF6\",\"gridcolor\":\"white\",\"linecolor\":\"white\",\"showbackground\":true,\"ticks\":\"\",\"zerolinecolor\":\"white\",\"gridwidth\":2}},\"shapedefaults\":{\"line\":{\"color\":\"#2a3f5f\"}},\"annotationdefaults\":{\"arrowcolor\":\"#2a3f5f\",\"arrowhead\":0,\"arrowwidth\":1},\"geo\":{\"bgcolor\":\"white\",\"landcolor\":\"#E5ECF6\",\"subunitcolor\":\"white\",\"showland\":true,\"showlakes\":true,\"lakecolor\":\"white\"},\"title\":{\"x\":0.05},\"mapbox\":{\"style\":\"light\"}}},\"title\":{\"text\":\"Grotrian Diagram for Oxygen \",\"x\":0.5},\"xaxis\":{\"showticklabels\":false,\"showgrid\":false},\"yaxis\":{\"title\":{\"text\":\"Energy Level (eV)\"},\"showgrid\":false},\"plot_bgcolor\":\"white\",\"autosize\":false,\"width\":700,\"height\":700,\"showlegend\":false,\"annotations\":[{\"showarrow\":false,\"text\":\"n=1\",\"x\":1.05,\"y\":0.02388195922445142},{\"showarrow\":false,\"text\":\"n=2\",\"x\":1.05,\"y\":1.9673640634366045},{\"showarrow\":false,\"text\":\"n=3\",\"x\":1.05,\"y\":4.189746129938533},{\"showarrow\":false,\"text\":\"n=4\",\"x\":1.05,\"y\":9.146090740164247},{\"showarrow\":false,\"text\":\"n=5\",\"x\":1.05,\"y\":9.521363367642385},{\"showarrow\":false,\"text\":\"n=6\",\"x\":1.05,\"y\":10.740543537733004},{\"showarrow\":false,\"text\":\"n=7\",\"x\":1.05,\"y\":10.988791797224572},{\"arrowcolor\":\"#43039e\",\"arrowhead\":2,\"arrowsize\":1,\"arrowwidth\":3.0,\"ax\":0,\"axref\":\"x\",\"ay\":0.02388195922445142,\"ayref\":\"y\",\"showarrow\":true,\"x\":0.6666666666666666,\"xref\":\"x\",\"y\":9.521363367642385,\"yref\":\"y\"},{\"arrowcolor\":\"#5c01a6\",\"arrowhead\":2,\"arrowsize\":1,\"arrowwidth\":1.0,\"ax\":0,\"axref\":\"x\",\"ay\":9.146090740164247,\"ayref\":\"y\",\"showarrow\":true,\"x\":0.6666666666666666,\"xref\":\"x\",\"y\":10.740543537733004,\"yref\":\"y\"},{\"arrowcolor\":\"#43039e\",\"arrowhead\":2,\"arrowsize\":1,\"arrowwidth\":3.0,\"ax\":0,\"axref\":\"x\",\"ay\":9.521363367642385,\"ayref\":\"y\",\"showarrow\":true,\"x\":0.6666666666666666,\"xref\":\"x\",\"y\":0.02388195922445142,\"yref\":\"y\"},{\"arrowcolor\":\"#5c01a6\",\"arrowhead\":2,\"arrowsize\":1,\"arrowwidth\":1.0,\"ax\":0,\"axref\":\"x\",\"ay\":10.740543537733004,\"ayref\":\"y\",\"showarrow\":true,\"x\":0.6666666666666666,\"xref\":\"x\",\"y\":9.146090740164247,\"yref\":\"y\"}]},                        {\"responsive\": true}                    ).then(function(){\n",
       "                            \n",
       "var gd = document.getElementById('4706b2a2-cb75-4f02-b3ae-372425ef7d1a');\n",
       "var x = new MutationObserver(function (mutations, observer) {{\n",
       "        var display = window.getComputedStyle(gd).display;\n",
       "        if (!display || display === 'none') {{\n",
       "            console.log([gd, 'removed!']);\n",
       "            Plotly.purge(gd);\n",
       "            observer.disconnect();\n",
       "        }}\n",
       "}});\n",
       "\n",
       "// Listen for the removal of the full notebook cells\n",
       "var notebookContainer = gd.closest('#notebook-container');\n",
       "if (notebookContainer) {{\n",
       "    x.observe(notebookContainer, {childList: true});\n",
       "}}\n",
       "\n",
       "// Listen for the clearing of the current output cell\n",
       "var outputEl = gd.closest('.output');\n",
       "if (outputEl) {{\n",
       "    x.observe(outputEl, {childList: true});\n",
       "}}\n",
       "\n",
       "                        })                };                });            </script>        </div>"
      ]
     },
     "metadata": {},
     "output_type": "display_data"
    }
   ],
   "source": [
    "diag = GrotrianWidget(sim, atomic_number=8, ion_number=0)\n",
    "diag.display()"
   ]
  },
  {
   "cell_type": "code",
   "execution_count": null,
   "metadata": {},
   "outputs": [],
   "source": [
    "# When number of electrons are very less (see atomic number 16),\n",
    "# then just render an empty Grotrian diagram (or don't show it in options)\n",
    "\n"
   ]
  },
  {
   "cell_type": "code",
   "execution_count": null,
   "metadata": {},
   "outputs": [],
   "source": []
  }
 ],
 "metadata": {
  "kernelspec": {
   "display_name": "Python 3 (ipykernel)",
   "language": "python",
   "name": "python3"
  },
  "language_info": {
   "codemirror_mode": {
    "name": "ipython",
    "version": 3
   },
   "file_extension": ".py",
   "mimetype": "text/x-python",
   "name": "python",
   "nbconvert_exporter": "python",
   "pygments_lexer": "ipython3",
   "version": "3.8.16"
  }
 },
 "nbformat": 4,
 "nbformat_minor": 2
}
