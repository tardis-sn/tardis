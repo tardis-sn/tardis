{
 "cells": [
  {
   "cell_type": "code",
   "execution_count": 1,
   "metadata": {},
   "outputs": [
    {
     "data": {
      "application/vnd.jupyter.widget-view+json": {
       "model_id": "",
       "version_major": 2,
       "version_minor": 0
      },
      "text/plain": [
       "Iterations:          0/? [00:00<?, ?it/s]"
      ]
     },
     "metadata": {},
     "output_type": "display_data"
    },
    {
     "data": {
      "application/vnd.jupyter.widget-view+json": {
       "model_id": "",
       "version_major": 2,
       "version_minor": 0
      },
      "text/plain": [
       "Packets:             0/? [00:00<?, ?it/s]"
      ]
     },
     "metadata": {},
     "output_type": "display_data"
    },
    {
     "data": {
      "text/html": [
       "        <script type=\"text/javascript\">\n",
       "        window.PlotlyConfig = {MathJaxConfig: 'local'};\n",
       "        if (window.MathJax && window.MathJax.Hub && window.MathJax.Hub.Config) {window.MathJax.Hub.Config({SVG: {font: \"STIX-Web\"}});}\n",
       "        if (typeof require !== 'undefined') {\n",
       "        require.undef(\"plotly\");\n",
       "        requirejs.config({\n",
       "            paths: {\n",
       "                'plotly': ['https://cdn.plot.ly/plotly-2.18.0.min']\n",
       "            }\n",
       "        });\n",
       "        require(['plotly'], function(Plotly) {\n",
       "            window._Plotly = Plotly;\n",
       "        });\n",
       "        }\n",
       "        </script>\n",
       "        "
      ]
     },
     "metadata": {},
     "output_type": "display_data"
    }
   ],
   "source": [
    "from tardis.io.config_reader import Configuration\n",
    "from tardis.simulation import Simulation\n",
    "from tardis.plasma.standard_plasmas import assemble_plasma\n",
    "from tardis.model import Radial1DModel\n",
    "from tardis.io.atom_data import AtomData\n",
    "from tardis.visualization.widgets.grotrian import GrotrianWidget\n",
    "from tardis.io.config_internal import get_data_dir\n",
    "from plotly.offline import init_notebook_mode\n",
    "init_notebook_mode(connected=True)\n",
    "import os"
   ]
  },
  {
   "cell_type": "code",
   "execution_count": 2,
   "metadata": {},
   "outputs": [
    {
     "name": "stderr",
     "output_type": "stream",
     "text": [
      "Abundances have not been normalized to 1. - normalizing\n",
      "Zeta_data missing - replaced with 1s. Missing ions: [(12, 13), (14, 15), (16, 17), (18, 19), (20, 21)]\n",
      "/Users/archil/Documents/tardis_ayushi/tardis/plasma/properties/radiative_properties.py:93: RuntimeWarning:\n",
      "\n",
      "divide by zero encountered in true_divide\n",
      "\n",
      "/Users/archil/Documents/tardis_ayushi/tardis/plasma/properties/radiative_properties.py:93: RuntimeWarning:\n",
      "\n",
      "invalid value encountered in true_divide\n",
      "\n",
      "OMP: Info #276: omp_set_nested routine deprecated, please use omp_set_max_active_levels instead.\n",
      "Zeta_data missing - replaced with 1s. Missing ions: [(12, 13), (14, 15), (16, 17), (18, 19), (20, 21)]\n",
      "/Users/archil/Documents/tardis_ayushi/tardis/plasma/properties/radiative_properties.py:93: RuntimeWarning:\n",
      "\n",
      "divide by zero encountered in true_divide\n",
      "\n",
      "/Users/archil/Documents/tardis_ayushi/tardis/plasma/properties/radiative_properties.py:93: RuntimeWarning:\n",
      "\n",
      "invalid value encountered in true_divide\n",
      "\n"
     ]
    },
    {
     "data": {
      "application/vnd.jupyter.widget-view+json": {
       "model_id": "fbe4c7f347d148419d67f140fde20c95",
       "version_major": 2,
       "version_minor": 0
      },
      "text/plain": [
       "TqdmHBox(children=(HTML(value='Iterations:', layout=Layout(width='6%')), FloatProgress(value=0.0, layout=Layou…"
      ]
     },
     "metadata": {},
     "output_type": "display_data"
    },
    {
     "data": {
      "application/vnd.jupyter.widget-view+json": {
       "model_id": "7c89df3809444131aafaa53b238f68c0",
       "version_major": 2,
       "version_minor": 0
      },
      "text/plain": [
       "TqdmHBox(children=(HTML(value='Packets:   ', layout=Layout(width='6%')), FloatProgress(value=0.0, layout=Layou…"
      ]
     },
     "metadata": {},
     "output_type": "display_data"
    },
    {
     "data": {
      "text/html": [
       "<style  type=\"text/css\" >\n",
       "</style><table id=\"T_0b418a34_0bf4_11ee_86bc_12e413fbf88c\" ><thead>    <tr>        <th class=\"index_name level0\" >Shell No.</th>        <th class=\"col_heading level0 col0\" >t_rad</th>        <th class=\"col_heading level0 col1\" >next_t_rad</th>        <th class=\"col_heading level0 col2\" >w</th>        <th class=\"col_heading level0 col3\" >next_w</th>    </tr></thead><tbody>\n",
       "                <tr>\n",
       "                        <th id=\"T_0b418a34_0bf4_11ee_86bc_12e413fbf88clevel0_row0\" class=\"row_heading level0 row0\" >0</th>\n",
       "                        <td id=\"T_0b418a34_0bf4_11ee_86bc_12e413fbf88crow0_col0\" class=\"data row0 col0\" >9.93e+03</td>\n",
       "                        <td id=\"T_0b418a34_0bf4_11ee_86bc_12e413fbf88crow0_col1\" class=\"data row0 col1\" >1.01e+04</td>\n",
       "                        <td id=\"T_0b418a34_0bf4_11ee_86bc_12e413fbf88crow0_col2\" class=\"data row0 col2\" >0.4</td>\n",
       "                        <td id=\"T_0b418a34_0bf4_11ee_86bc_12e413fbf88crow0_col3\" class=\"data row0 col3\" >0.525</td>\n",
       "            </tr>\n",
       "            <tr>\n",
       "                        <th id=\"T_0b418a34_0bf4_11ee_86bc_12e413fbf88clevel0_row1\" class=\"row_heading level0 row1\" >5</th>\n",
       "                        <td id=\"T_0b418a34_0bf4_11ee_86bc_12e413fbf88crow1_col0\" class=\"data row1 col0\" >9.85e+03</td>\n",
       "                        <td id=\"T_0b418a34_0bf4_11ee_86bc_12e413fbf88crow1_col1\" class=\"data row1 col1\" >1.03e+04</td>\n",
       "                        <td id=\"T_0b418a34_0bf4_11ee_86bc_12e413fbf88crow1_col2\" class=\"data row1 col2\" >0.211</td>\n",
       "                        <td id=\"T_0b418a34_0bf4_11ee_86bc_12e413fbf88crow1_col3\" class=\"data row1 col3\" >0.196</td>\n",
       "            </tr>\n",
       "            <tr>\n",
       "                        <th id=\"T_0b418a34_0bf4_11ee_86bc_12e413fbf88clevel0_row2\" class=\"row_heading level0 row2\" >10</th>\n",
       "                        <td id=\"T_0b418a34_0bf4_11ee_86bc_12e413fbf88crow2_col0\" class=\"data row2 col0\" >9.78e+03</td>\n",
       "                        <td id=\"T_0b418a34_0bf4_11ee_86bc_12e413fbf88crow2_col1\" class=\"data row2 col1\" >1.02e+04</td>\n",
       "                        <td id=\"T_0b418a34_0bf4_11ee_86bc_12e413fbf88crow2_col2\" class=\"data row2 col2\" >0.143</td>\n",
       "                        <td id=\"T_0b418a34_0bf4_11ee_86bc_12e413fbf88crow2_col3\" class=\"data row2 col3\" >0.115</td>\n",
       "            </tr>\n",
       "            <tr>\n",
       "                        <th id=\"T_0b418a34_0bf4_11ee_86bc_12e413fbf88clevel0_row3\" class=\"row_heading level0 row3\" >15</th>\n",
       "                        <td id=\"T_0b418a34_0bf4_11ee_86bc_12e413fbf88crow3_col0\" class=\"data row3 col0\" >9.71e+03</td>\n",
       "                        <td id=\"T_0b418a34_0bf4_11ee_86bc_12e413fbf88crow3_col1\" class=\"data row3 col1\" >9.88e+03</td>\n",
       "                        <td id=\"T_0b418a34_0bf4_11ee_86bc_12e413fbf88crow3_col2\" class=\"data row3 col2\" >0.105</td>\n",
       "                        <td id=\"T_0b418a34_0bf4_11ee_86bc_12e413fbf88crow3_col3\" class=\"data row3 col3\" >0.0843</td>\n",
       "            </tr>\n",
       "    </tbody></table>"
      ],
      "text/plain": [
       "<pandas.io.formats.style.Styler at 0x7fcdea190eb0>"
      ]
     },
     "metadata": {},
     "output_type": "display_data"
    },
    {
     "name": "stderr",
     "output_type": "stream",
     "text": [
      "/Users/archil/Documents/tardis_ayushi/tardis/plasma/properties/radiative_properties.py:93: RuntimeWarning:\n",
      "\n",
      "divide by zero encountered in true_divide\n",
      "\n",
      "/Users/archil/Documents/tardis_ayushi/tardis/plasma/properties/radiative_properties.py:93: RuntimeWarning:\n",
      "\n",
      "invalid value encountered in true_divide\n",
      "\n"
     ]
    },
    {
     "data": {
      "application/vnd.jupyter.widget-view+json": {
       "model_id": "4ac0d3f256534a6fa9299f18035a7f9a",
       "version_major": 2,
       "version_minor": 0
      },
      "text/plain": [
       "VBox(children=(FigureWidget({\n",
       "    'data': [{'type': 'scatter', 'uid': '9f595c32-4b93-4fa9-bc5b-71ccab0ae40c', …"
      ]
     },
     "metadata": {},
     "output_type": "display_data"
    },
    {
     "data": {
      "text/html": [
       "<style  type=\"text/css\" >\n",
       "</style><table id=\"T_0c8ff538_0bf4_11ee_86bc_12e413fbf88c\" ><thead>    <tr>        <th class=\"index_name level0\" >Shell No.</th>        <th class=\"col_heading level0 col0\" >t_rad</th>        <th class=\"col_heading level0 col1\" >next_t_rad</th>        <th class=\"col_heading level0 col2\" >w</th>        <th class=\"col_heading level0 col3\" >next_w</th>    </tr></thead><tbody>\n",
       "                <tr>\n",
       "                        <th id=\"T_0c8ff538_0bf4_11ee_86bc_12e413fbf88clevel0_row0\" class=\"row_heading level0 row0\" >0</th>\n",
       "                        <td id=\"T_0c8ff538_0bf4_11ee_86bc_12e413fbf88crow0_col0\" class=\"data row0 col0\" >1.01e+04</td>\n",
       "                        <td id=\"T_0c8ff538_0bf4_11ee_86bc_12e413fbf88crow0_col1\" class=\"data row0 col1\" >1.1e+04</td>\n",
       "                        <td id=\"T_0c8ff538_0bf4_11ee_86bc_12e413fbf88crow0_col2\" class=\"data row0 col2\" >0.525</td>\n",
       "                        <td id=\"T_0c8ff538_0bf4_11ee_86bc_12e413fbf88crow0_col3\" class=\"data row0 col3\" >0.544</td>\n",
       "            </tr>\n",
       "            <tr>\n",
       "                        <th id=\"T_0c8ff538_0bf4_11ee_86bc_12e413fbf88clevel0_row1\" class=\"row_heading level0 row1\" >5</th>\n",
       "                        <td id=\"T_0c8ff538_0bf4_11ee_86bc_12e413fbf88crow1_col0\" class=\"data row1 col0\" >1.03e+04</td>\n",
       "                        <td id=\"T_0c8ff538_0bf4_11ee_86bc_12e413fbf88crow1_col1\" class=\"data row1 col1\" >1.11e+04</td>\n",
       "                        <td id=\"T_0c8ff538_0bf4_11ee_86bc_12e413fbf88crow1_col2\" class=\"data row1 col2\" >0.196</td>\n",
       "                        <td id=\"T_0c8ff538_0bf4_11ee_86bc_12e413fbf88crow1_col3\" class=\"data row1 col3\" >0.204</td>\n",
       "            </tr>\n",
       "            <tr>\n",
       "                        <th id=\"T_0c8ff538_0bf4_11ee_86bc_12e413fbf88clevel0_row2\" class=\"row_heading level0 row2\" >10</th>\n",
       "                        <td id=\"T_0c8ff538_0bf4_11ee_86bc_12e413fbf88crow2_col0\" class=\"data row2 col0\" >1.02e+04</td>\n",
       "                        <td id=\"T_0c8ff538_0bf4_11ee_86bc_12e413fbf88crow2_col1\" class=\"data row2 col1\" >1.08e+04</td>\n",
       "                        <td id=\"T_0c8ff538_0bf4_11ee_86bc_12e413fbf88crow2_col2\" class=\"data row2 col2\" >0.115</td>\n",
       "                        <td id=\"T_0c8ff538_0bf4_11ee_86bc_12e413fbf88crow2_col3\" class=\"data row2 col3\" >0.125</td>\n",
       "            </tr>\n",
       "            <tr>\n",
       "                        <th id=\"T_0c8ff538_0bf4_11ee_86bc_12e413fbf88clevel0_row3\" class=\"row_heading level0 row3\" >15</th>\n",
       "                        <td id=\"T_0c8ff538_0bf4_11ee_86bc_12e413fbf88crow3_col0\" class=\"data row3 col0\" >9.88e+03</td>\n",
       "                        <td id=\"T_0c8ff538_0bf4_11ee_86bc_12e413fbf88crow3_col1\" class=\"data row3 col1\" >1.06e+04</td>\n",
       "                        <td id=\"T_0c8ff538_0bf4_11ee_86bc_12e413fbf88crow3_col2\" class=\"data row3 col2\" >0.0843</td>\n",
       "                        <td id=\"T_0c8ff538_0bf4_11ee_86bc_12e413fbf88crow3_col3\" class=\"data row3 col3\" >0.0914</td>\n",
       "            </tr>\n",
       "    </tbody></table>"
      ],
      "text/plain": [
       "<pandas.io.formats.style.Styler at 0x7fcddc8de5e0>"
      ]
     },
     "metadata": {},
     "output_type": "display_data"
    },
    {
     "name": "stderr",
     "output_type": "stream",
     "text": [
      "/Users/archil/Documents/tardis_ayushi/tardis/plasma/properties/radiative_properties.py:93: RuntimeWarning:\n",
      "\n",
      "divide by zero encountered in true_divide\n",
      "\n",
      "/Users/archil/Documents/tardis_ayushi/tardis/plasma/properties/radiative_properties.py:93: RuntimeWarning:\n",
      "\n",
      "invalid value encountered in true_divide\n",
      "\n"
     ]
    },
    {
     "data": {
      "text/html": [
       "<style  type=\"text/css\" >\n",
       "</style><table id=\"T_0cfe2f76_0bf4_11ee_86bc_12e413fbf88c\" ><thead>    <tr>        <th class=\"index_name level0\" >Shell No.</th>        <th class=\"col_heading level0 col0\" >t_rad</th>        <th class=\"col_heading level0 col1\" >next_t_rad</th>        <th class=\"col_heading level0 col2\" >w</th>        <th class=\"col_heading level0 col3\" >next_w</th>    </tr></thead><tbody>\n",
       "                <tr>\n",
       "                        <th id=\"T_0cfe2f76_0bf4_11ee_86bc_12e413fbf88clevel0_row0\" class=\"row_heading level0 row0\" >0</th>\n",
       "                        <td id=\"T_0cfe2f76_0bf4_11ee_86bc_12e413fbf88crow0_col0\" class=\"data row0 col0\" >1.1e+04</td>\n",
       "                        <td id=\"T_0cfe2f76_0bf4_11ee_86bc_12e413fbf88crow0_col1\" class=\"data row0 col1\" >1.11e+04</td>\n",
       "                        <td id=\"T_0cfe2f76_0bf4_11ee_86bc_12e413fbf88crow0_col2\" class=\"data row0 col2\" >0.544</td>\n",
       "                        <td id=\"T_0cfe2f76_0bf4_11ee_86bc_12e413fbf88crow0_col3\" class=\"data row0 col3\" >0.501</td>\n",
       "            </tr>\n",
       "            <tr>\n",
       "                        <th id=\"T_0cfe2f76_0bf4_11ee_86bc_12e413fbf88clevel0_row1\" class=\"row_heading level0 row1\" >5</th>\n",
       "                        <td id=\"T_0cfe2f76_0bf4_11ee_86bc_12e413fbf88crow1_col0\" class=\"data row1 col0\" >1.11e+04</td>\n",
       "                        <td id=\"T_0cfe2f76_0bf4_11ee_86bc_12e413fbf88crow1_col1\" class=\"data row1 col1\" >1.14e+04</td>\n",
       "                        <td id=\"T_0cfe2f76_0bf4_11ee_86bc_12e413fbf88crow1_col2\" class=\"data row1 col2\" >0.204</td>\n",
       "                        <td id=\"T_0cfe2f76_0bf4_11ee_86bc_12e413fbf88crow1_col3\" class=\"data row1 col3\" >0.185</td>\n",
       "            </tr>\n",
       "            <tr>\n",
       "                        <th id=\"T_0cfe2f76_0bf4_11ee_86bc_12e413fbf88clevel0_row2\" class=\"row_heading level0 row2\" >10</th>\n",
       "                        <td id=\"T_0cfe2f76_0bf4_11ee_86bc_12e413fbf88crow2_col0\" class=\"data row2 col0\" >1.08e+04</td>\n",
       "                        <td id=\"T_0cfe2f76_0bf4_11ee_86bc_12e413fbf88crow2_col1\" class=\"data row2 col1\" >1.11e+04</td>\n",
       "                        <td id=\"T_0cfe2f76_0bf4_11ee_86bc_12e413fbf88crow2_col2\" class=\"data row2 col2\" >0.125</td>\n",
       "                        <td id=\"T_0cfe2f76_0bf4_11ee_86bc_12e413fbf88crow2_col3\" class=\"data row2 col3\" >0.115</td>\n",
       "            </tr>\n",
       "            <tr>\n",
       "                        <th id=\"T_0cfe2f76_0bf4_11ee_86bc_12e413fbf88clevel0_row3\" class=\"row_heading level0 row3\" >15</th>\n",
       "                        <td id=\"T_0cfe2f76_0bf4_11ee_86bc_12e413fbf88crow3_col0\" class=\"data row3 col0\" >1.06e+04</td>\n",
       "                        <td id=\"T_0cfe2f76_0bf4_11ee_86bc_12e413fbf88crow3_col1\" class=\"data row3 col1\" >1.08e+04</td>\n",
       "                        <td id=\"T_0cfe2f76_0bf4_11ee_86bc_12e413fbf88crow3_col2\" class=\"data row3 col2\" >0.0914</td>\n",
       "                        <td id=\"T_0cfe2f76_0bf4_11ee_86bc_12e413fbf88crow3_col3\" class=\"data row3 col3\" >0.086</td>\n",
       "            </tr>\n",
       "    </tbody></table>"
      ],
      "text/plain": [
       "<pandas.io.formats.style.Styler at 0x7fcde289f7f0>"
      ]
     },
     "metadata": {},
     "output_type": "display_data"
    },
    {
     "data": {
      "text/html": [
       "<style  type=\"text/css\" >\n",
       "</style><table id=\"T_0d6fed78_0bf4_11ee_86bc_12e413fbf88c\" ><thead>    <tr>        <th class=\"index_name level0\" >Shell No.</th>        <th class=\"col_heading level0 col0\" >t_rad</th>        <th class=\"col_heading level0 col1\" >next_t_rad</th>        <th class=\"col_heading level0 col2\" >w</th>        <th class=\"col_heading level0 col3\" >next_w</th>    </tr></thead><tbody>\n",
       "                <tr>\n",
       "                        <th id=\"T_0d6fed78_0bf4_11ee_86bc_12e413fbf88clevel0_row0\" class=\"row_heading level0 row0\" >0</th>\n",
       "                        <td id=\"T_0d6fed78_0bf4_11ee_86bc_12e413fbf88crow0_col0\" class=\"data row0 col0\" >1.11e+04</td>\n",
       "                        <td id=\"T_0d6fed78_0bf4_11ee_86bc_12e413fbf88crow0_col1\" class=\"data row0 col1\" >1.11e+04</td>\n",
       "                        <td id=\"T_0d6fed78_0bf4_11ee_86bc_12e413fbf88crow0_col2\" class=\"data row0 col2\" >0.501</td>\n",
       "                        <td id=\"T_0d6fed78_0bf4_11ee_86bc_12e413fbf88crow0_col3\" class=\"data row0 col3\" >0.487</td>\n",
       "            </tr>\n",
       "            <tr>\n",
       "                        <th id=\"T_0d6fed78_0bf4_11ee_86bc_12e413fbf88clevel0_row1\" class=\"row_heading level0 row1\" >5</th>\n",
       "                        <td id=\"T_0d6fed78_0bf4_11ee_86bc_12e413fbf88crow1_col0\" class=\"data row1 col0\" >1.14e+04</td>\n",
       "                        <td id=\"T_0d6fed78_0bf4_11ee_86bc_12e413fbf88crow1_col1\" class=\"data row1 col1\" >1.14e+04</td>\n",
       "                        <td id=\"T_0d6fed78_0bf4_11ee_86bc_12e413fbf88crow1_col2\" class=\"data row1 col2\" >0.185</td>\n",
       "                        <td id=\"T_0d6fed78_0bf4_11ee_86bc_12e413fbf88crow1_col3\" class=\"data row1 col3\" >0.181</td>\n",
       "            </tr>\n",
       "            <tr>\n",
       "                        <th id=\"T_0d6fed78_0bf4_11ee_86bc_12e413fbf88clevel0_row2\" class=\"row_heading level0 row2\" >10</th>\n",
       "                        <td id=\"T_0d6fed78_0bf4_11ee_86bc_12e413fbf88crow2_col0\" class=\"data row2 col0\" >1.11e+04</td>\n",
       "                        <td id=\"T_0d6fed78_0bf4_11ee_86bc_12e413fbf88crow2_col1\" class=\"data row2 col1\" >1.11e+04</td>\n",
       "                        <td id=\"T_0d6fed78_0bf4_11ee_86bc_12e413fbf88crow2_col2\" class=\"data row2 col2\" >0.115</td>\n",
       "                        <td id=\"T_0d6fed78_0bf4_11ee_86bc_12e413fbf88crow2_col3\" class=\"data row2 col3\" >0.112</td>\n",
       "            </tr>\n",
       "            <tr>\n",
       "                        <th id=\"T_0d6fed78_0bf4_11ee_86bc_12e413fbf88clevel0_row3\" class=\"row_heading level0 row3\" >15</th>\n",
       "                        <td id=\"T_0d6fed78_0bf4_11ee_86bc_12e413fbf88crow3_col0\" class=\"data row3 col0\" >1.08e+04</td>\n",
       "                        <td id=\"T_0d6fed78_0bf4_11ee_86bc_12e413fbf88crow3_col1\" class=\"data row3 col1\" >1.08e+04</td>\n",
       "                        <td id=\"T_0d6fed78_0bf4_11ee_86bc_12e413fbf88crow3_col2\" class=\"data row3 col2\" >0.086</td>\n",
       "                        <td id=\"T_0d6fed78_0bf4_11ee_86bc_12e413fbf88crow3_col3\" class=\"data row3 col3\" >0.0819</td>\n",
       "            </tr>\n",
       "    </tbody></table>"
      ],
      "text/plain": [
       "<pandas.io.formats.style.Styler at 0x7fcdec109c70>"
      ]
     },
     "metadata": {},
     "output_type": "display_data"
    },
    {
     "data": {
      "text/html": [
       "<style  type=\"text/css\" >\n",
       "</style><table id=\"T_0e01e2e6_0bf4_11ee_86bc_12e413fbf88c\" ><thead>    <tr>        <th class=\"index_name level0\" >Shell No.</th>        <th class=\"col_heading level0 col0\" >t_rad</th>        <th class=\"col_heading level0 col1\" >next_t_rad</th>        <th class=\"col_heading level0 col2\" >w</th>        <th class=\"col_heading level0 col3\" >next_w</th>    </tr></thead><tbody>\n",
       "                <tr>\n",
       "                        <th id=\"T_0e01e2e6_0bf4_11ee_86bc_12e413fbf88clevel0_row0\" class=\"row_heading level0 row0\" >0</th>\n",
       "                        <td id=\"T_0e01e2e6_0bf4_11ee_86bc_12e413fbf88crow0_col0\" class=\"data row0 col0\" >1.11e+04</td>\n",
       "                        <td id=\"T_0e01e2e6_0bf4_11ee_86bc_12e413fbf88crow0_col1\" class=\"data row0 col1\" >1.11e+04</td>\n",
       "                        <td id=\"T_0e01e2e6_0bf4_11ee_86bc_12e413fbf88crow0_col2\" class=\"data row0 col2\" >0.487</td>\n",
       "                        <td id=\"T_0e01e2e6_0bf4_11ee_86bc_12e413fbf88crow0_col3\" class=\"data row0 col3\" >0.497</td>\n",
       "            </tr>\n",
       "            <tr>\n",
       "                        <th id=\"T_0e01e2e6_0bf4_11ee_86bc_12e413fbf88clevel0_row1\" class=\"row_heading level0 row1\" >5</th>\n",
       "                        <td id=\"T_0e01e2e6_0bf4_11ee_86bc_12e413fbf88crow1_col0\" class=\"data row1 col0\" >1.14e+04</td>\n",
       "                        <td id=\"T_0e01e2e6_0bf4_11ee_86bc_12e413fbf88crow1_col1\" class=\"data row1 col1\" >1.14e+04</td>\n",
       "                        <td id=\"T_0e01e2e6_0bf4_11ee_86bc_12e413fbf88crow1_col2\" class=\"data row1 col2\" >0.181</td>\n",
       "                        <td id=\"T_0e01e2e6_0bf4_11ee_86bc_12e413fbf88crow1_col3\" class=\"data row1 col3\" >0.178</td>\n",
       "            </tr>\n",
       "            <tr>\n",
       "                        <th id=\"T_0e01e2e6_0bf4_11ee_86bc_12e413fbf88clevel0_row2\" class=\"row_heading level0 row2\" >10</th>\n",
       "                        <td id=\"T_0e01e2e6_0bf4_11ee_86bc_12e413fbf88crow2_col0\" class=\"data row2 col0\" >1.11e+04</td>\n",
       "                        <td id=\"T_0e01e2e6_0bf4_11ee_86bc_12e413fbf88crow2_col1\" class=\"data row2 col1\" >1.13e+04</td>\n",
       "                        <td id=\"T_0e01e2e6_0bf4_11ee_86bc_12e413fbf88crow2_col2\" class=\"data row2 col2\" >0.112</td>\n",
       "                        <td id=\"T_0e01e2e6_0bf4_11ee_86bc_12e413fbf88crow2_col3\" class=\"data row2 col3\" >0.107</td>\n",
       "            </tr>\n",
       "            <tr>\n",
       "                        <th id=\"T_0e01e2e6_0bf4_11ee_86bc_12e413fbf88clevel0_row3\" class=\"row_heading level0 row3\" >15</th>\n",
       "                        <td id=\"T_0e01e2e6_0bf4_11ee_86bc_12e413fbf88crow3_col0\" class=\"data row3 col0\" >1.08e+04</td>\n",
       "                        <td id=\"T_0e01e2e6_0bf4_11ee_86bc_12e413fbf88crow3_col1\" class=\"data row3 col1\" >1.1e+04</td>\n",
       "                        <td id=\"T_0e01e2e6_0bf4_11ee_86bc_12e413fbf88crow3_col2\" class=\"data row3 col2\" >0.0819</td>\n",
       "                        <td id=\"T_0e01e2e6_0bf4_11ee_86bc_12e413fbf88crow3_col3\" class=\"data row3 col3\" >0.0779</td>\n",
       "            </tr>\n",
       "    </tbody></table>"
      ],
      "text/plain": [
       "<pandas.io.formats.style.Styler at 0x7fcddfd14850>"
      ]
     },
     "metadata": {},
     "output_type": "display_data"
    },
    {
     "data": {
      "text/html": [
       "<style  type=\"text/css\" >\n",
       "</style><table id=\"T_0e84df66_0bf4_11ee_86bc_12e413fbf88c\" ><thead>    <tr>        <th class=\"index_name level0\" >Shell No.</th>        <th class=\"col_heading level0 col0\" >t_rad</th>        <th class=\"col_heading level0 col1\" >next_t_rad</th>        <th class=\"col_heading level0 col2\" >w</th>        <th class=\"col_heading level0 col3\" >next_w</th>    </tr></thead><tbody>\n",
       "                <tr>\n",
       "                        <th id=\"T_0e84df66_0bf4_11ee_86bc_12e413fbf88clevel0_row0\" class=\"row_heading level0 row0\" >0</th>\n",
       "                        <td id=\"T_0e84df66_0bf4_11ee_86bc_12e413fbf88crow0_col0\" class=\"data row0 col0\" >1.11e+04</td>\n",
       "                        <td id=\"T_0e84df66_0bf4_11ee_86bc_12e413fbf88crow0_col1\" class=\"data row0 col1\" >1.12e+04</td>\n",
       "                        <td id=\"T_0e84df66_0bf4_11ee_86bc_12e413fbf88crow0_col2\" class=\"data row0 col2\" >0.497</td>\n",
       "                        <td id=\"T_0e84df66_0bf4_11ee_86bc_12e413fbf88crow0_col3\" class=\"data row0 col3\" >0.488</td>\n",
       "            </tr>\n",
       "            <tr>\n",
       "                        <th id=\"T_0e84df66_0bf4_11ee_86bc_12e413fbf88clevel0_row1\" class=\"row_heading level0 row1\" >5</th>\n",
       "                        <td id=\"T_0e84df66_0bf4_11ee_86bc_12e413fbf88crow1_col0\" class=\"data row1 col0\" >1.14e+04</td>\n",
       "                        <td id=\"T_0e84df66_0bf4_11ee_86bc_12e413fbf88crow1_col1\" class=\"data row1 col1\" >1.14e+04</td>\n",
       "                        <td id=\"T_0e84df66_0bf4_11ee_86bc_12e413fbf88crow1_col2\" class=\"data row1 col2\" >0.178</td>\n",
       "                        <td id=\"T_0e84df66_0bf4_11ee_86bc_12e413fbf88crow1_col3\" class=\"data row1 col3\" >0.184</td>\n",
       "            </tr>\n",
       "            <tr>\n",
       "                        <th id=\"T_0e84df66_0bf4_11ee_86bc_12e413fbf88clevel0_row2\" class=\"row_heading level0 row2\" >10</th>\n",
       "                        <td id=\"T_0e84df66_0bf4_11ee_86bc_12e413fbf88crow2_col0\" class=\"data row2 col0\" >1.13e+04</td>\n",
       "                        <td id=\"T_0e84df66_0bf4_11ee_86bc_12e413fbf88crow2_col1\" class=\"data row2 col1\" >1.11e+04</td>\n",
       "                        <td id=\"T_0e84df66_0bf4_11ee_86bc_12e413fbf88crow2_col2\" class=\"data row2 col2\" >0.107</td>\n",
       "                        <td id=\"T_0e84df66_0bf4_11ee_86bc_12e413fbf88crow2_col3\" class=\"data row2 col3\" >0.113</td>\n",
       "            </tr>\n",
       "            <tr>\n",
       "                        <th id=\"T_0e84df66_0bf4_11ee_86bc_12e413fbf88clevel0_row3\" class=\"row_heading level0 row3\" >15</th>\n",
       "                        <td id=\"T_0e84df66_0bf4_11ee_86bc_12e413fbf88crow3_col0\" class=\"data row3 col0\" >1.1e+04</td>\n",
       "                        <td id=\"T_0e84df66_0bf4_11ee_86bc_12e413fbf88crow3_col1\" class=\"data row3 col1\" >1.08e+04</td>\n",
       "                        <td id=\"T_0e84df66_0bf4_11ee_86bc_12e413fbf88crow3_col2\" class=\"data row3 col2\" >0.0779</td>\n",
       "                        <td id=\"T_0e84df66_0bf4_11ee_86bc_12e413fbf88crow3_col3\" class=\"data row3 col3\" >0.082</td>\n",
       "            </tr>\n",
       "    </tbody></table>"
      ],
      "text/plain": [
       "<pandas.io.formats.style.Styler at 0x7fcdec0f8c70>"
      ]
     },
     "metadata": {},
     "output_type": "display_data"
    },
    {
     "data": {
      "text/html": [
       "<style  type=\"text/css\" >\n",
       "</style><table id=\"T_0f2f9028_0bf4_11ee_86bc_12e413fbf88c\" ><thead>    <tr>        <th class=\"index_name level0\" >Shell No.</th>        <th class=\"col_heading level0 col0\" >t_rad</th>        <th class=\"col_heading level0 col1\" >next_t_rad</th>        <th class=\"col_heading level0 col2\" >w</th>        <th class=\"col_heading level0 col3\" >next_w</th>    </tr></thead><tbody>\n",
       "                <tr>\n",
       "                        <th id=\"T_0f2f9028_0bf4_11ee_86bc_12e413fbf88clevel0_row0\" class=\"row_heading level0 row0\" >0</th>\n",
       "                        <td id=\"T_0f2f9028_0bf4_11ee_86bc_12e413fbf88crow0_col0\" class=\"data row0 col0\" >1.12e+04</td>\n",
       "                        <td id=\"T_0f2f9028_0bf4_11ee_86bc_12e413fbf88crow0_col1\" class=\"data row0 col1\" >1.11e+04</td>\n",
       "                        <td id=\"T_0f2f9028_0bf4_11ee_86bc_12e413fbf88crow0_col2\" class=\"data row0 col2\" >0.488</td>\n",
       "                        <td id=\"T_0f2f9028_0bf4_11ee_86bc_12e413fbf88crow0_col3\" class=\"data row0 col3\" >0.496</td>\n",
       "            </tr>\n",
       "            <tr>\n",
       "                        <th id=\"T_0f2f9028_0bf4_11ee_86bc_12e413fbf88clevel0_row1\" class=\"row_heading level0 row1\" >5</th>\n",
       "                        <td id=\"T_0f2f9028_0bf4_11ee_86bc_12e413fbf88crow1_col0\" class=\"data row1 col0\" >1.14e+04</td>\n",
       "                        <td id=\"T_0f2f9028_0bf4_11ee_86bc_12e413fbf88crow1_col1\" class=\"data row1 col1\" >1.15e+04</td>\n",
       "                        <td id=\"T_0f2f9028_0bf4_11ee_86bc_12e413fbf88crow1_col2\" class=\"data row1 col2\" >0.184</td>\n",
       "                        <td id=\"T_0f2f9028_0bf4_11ee_86bc_12e413fbf88crow1_col3\" class=\"data row1 col3\" >0.175</td>\n",
       "            </tr>\n",
       "            <tr>\n",
       "                        <th id=\"T_0f2f9028_0bf4_11ee_86bc_12e413fbf88clevel0_row2\" class=\"row_heading level0 row2\" >10</th>\n",
       "                        <td id=\"T_0f2f9028_0bf4_11ee_86bc_12e413fbf88crow2_col0\" class=\"data row2 col0\" >1.11e+04</td>\n",
       "                        <td id=\"T_0f2f9028_0bf4_11ee_86bc_12e413fbf88crow2_col1\" class=\"data row2 col1\" >1.12e+04</td>\n",
       "                        <td id=\"T_0f2f9028_0bf4_11ee_86bc_12e413fbf88crow2_col2\" class=\"data row2 col2\" >0.113</td>\n",
       "                        <td id=\"T_0f2f9028_0bf4_11ee_86bc_12e413fbf88crow2_col3\" class=\"data row2 col3\" >0.109</td>\n",
       "            </tr>\n",
       "            <tr>\n",
       "                        <th id=\"T_0f2f9028_0bf4_11ee_86bc_12e413fbf88clevel0_row3\" class=\"row_heading level0 row3\" >15</th>\n",
       "                        <td id=\"T_0f2f9028_0bf4_11ee_86bc_12e413fbf88crow3_col0\" class=\"data row3 col0\" >1.08e+04</td>\n",
       "                        <td id=\"T_0f2f9028_0bf4_11ee_86bc_12e413fbf88crow3_col1\" class=\"data row3 col1\" >1.09e+04</td>\n",
       "                        <td id=\"T_0f2f9028_0bf4_11ee_86bc_12e413fbf88crow3_col2\" class=\"data row3 col2\" >0.082</td>\n",
       "                        <td id=\"T_0f2f9028_0bf4_11ee_86bc_12e413fbf88crow3_col3\" class=\"data row3 col3\" >0.0816</td>\n",
       "            </tr>\n",
       "    </tbody></table>"
      ],
      "text/plain": [
       "<pandas.io.formats.style.Styler at 0x7fcde289f040>"
      ]
     },
     "metadata": {},
     "output_type": "display_data"
    },
    {
     "data": {
      "text/html": [
       "<style  type=\"text/css\" >\n",
       "</style><table id=\"T_0f957dd4_0bf4_11ee_86bc_12e413fbf88c\" ><thead>    <tr>        <th class=\"index_name level0\" >Shell No.</th>        <th class=\"col_heading level0 col0\" >t_rad</th>        <th class=\"col_heading level0 col1\" >next_t_rad</th>        <th class=\"col_heading level0 col2\" >w</th>        <th class=\"col_heading level0 col3\" >next_w</th>    </tr></thead><tbody>\n",
       "                <tr>\n",
       "                        <th id=\"T_0f957dd4_0bf4_11ee_86bc_12e413fbf88clevel0_row0\" class=\"row_heading level0 row0\" >0</th>\n",
       "                        <td id=\"T_0f957dd4_0bf4_11ee_86bc_12e413fbf88crow0_col0\" class=\"data row0 col0\" >1.11e+04</td>\n",
       "                        <td id=\"T_0f957dd4_0bf4_11ee_86bc_12e413fbf88crow0_col1\" class=\"data row0 col1\" >1.12e+04</td>\n",
       "                        <td id=\"T_0f957dd4_0bf4_11ee_86bc_12e413fbf88crow0_col2\" class=\"data row0 col2\" >0.496</td>\n",
       "                        <td id=\"T_0f957dd4_0bf4_11ee_86bc_12e413fbf88crow0_col3\" class=\"data row0 col3\" >0.49</td>\n",
       "            </tr>\n",
       "            <tr>\n",
       "                        <th id=\"T_0f957dd4_0bf4_11ee_86bc_12e413fbf88clevel0_row1\" class=\"row_heading level0 row1\" >5</th>\n",
       "                        <td id=\"T_0f957dd4_0bf4_11ee_86bc_12e413fbf88crow1_col0\" class=\"data row1 col0\" >1.15e+04</td>\n",
       "                        <td id=\"T_0f957dd4_0bf4_11ee_86bc_12e413fbf88crow1_col1\" class=\"data row1 col1\" >1.16e+04</td>\n",
       "                        <td id=\"T_0f957dd4_0bf4_11ee_86bc_12e413fbf88crow1_col2\" class=\"data row1 col2\" >0.175</td>\n",
       "                        <td id=\"T_0f957dd4_0bf4_11ee_86bc_12e413fbf88crow1_col3\" class=\"data row1 col3\" >0.174</td>\n",
       "            </tr>\n",
       "            <tr>\n",
       "                        <th id=\"T_0f957dd4_0bf4_11ee_86bc_12e413fbf88clevel0_row2\" class=\"row_heading level0 row2\" >10</th>\n",
       "                        <td id=\"T_0f957dd4_0bf4_11ee_86bc_12e413fbf88crow2_col0\" class=\"data row2 col0\" >1.12e+04</td>\n",
       "                        <td id=\"T_0f957dd4_0bf4_11ee_86bc_12e413fbf88crow2_col1\" class=\"data row2 col1\" >1.14e+04</td>\n",
       "                        <td id=\"T_0f957dd4_0bf4_11ee_86bc_12e413fbf88crow2_col2\" class=\"data row2 col2\" >0.109</td>\n",
       "                        <td id=\"T_0f957dd4_0bf4_11ee_86bc_12e413fbf88crow2_col3\" class=\"data row2 col3\" >0.106</td>\n",
       "            </tr>\n",
       "            <tr>\n",
       "                        <th id=\"T_0f957dd4_0bf4_11ee_86bc_12e413fbf88clevel0_row3\" class=\"row_heading level0 row3\" >15</th>\n",
       "                        <td id=\"T_0f957dd4_0bf4_11ee_86bc_12e413fbf88crow3_col0\" class=\"data row3 col0\" >1.09e+04</td>\n",
       "                        <td id=\"T_0f957dd4_0bf4_11ee_86bc_12e413fbf88crow3_col1\" class=\"data row3 col1\" >1.09e+04</td>\n",
       "                        <td id=\"T_0f957dd4_0bf4_11ee_86bc_12e413fbf88crow3_col2\" class=\"data row3 col2\" >0.0816</td>\n",
       "                        <td id=\"T_0f957dd4_0bf4_11ee_86bc_12e413fbf88crow3_col3\" class=\"data row3 col3\" >0.0802</td>\n",
       "            </tr>\n",
       "    </tbody></table>"
      ],
      "text/plain": [
       "<pandas.io.formats.style.Styler at 0x7fcdec109b50>"
      ]
     },
     "metadata": {},
     "output_type": "display_data"
    },
    {
     "data": {
      "text/html": [
       "<style  type=\"text/css\" >\n",
       "</style><table id=\"T_0ffa7c34_0bf4_11ee_86bc_12e413fbf88c\" ><thead>    <tr>        <th class=\"index_name level0\" >Shell No.</th>        <th class=\"col_heading level0 col0\" >t_rad</th>        <th class=\"col_heading level0 col1\" >next_t_rad</th>        <th class=\"col_heading level0 col2\" >w</th>        <th class=\"col_heading level0 col3\" >next_w</th>    </tr></thead><tbody>\n",
       "                <tr>\n",
       "                        <th id=\"T_0ffa7c34_0bf4_11ee_86bc_12e413fbf88clevel0_row0\" class=\"row_heading level0 row0\" >0</th>\n",
       "                        <td id=\"T_0ffa7c34_0bf4_11ee_86bc_12e413fbf88crow0_col0\" class=\"data row0 col0\" >1.12e+04</td>\n",
       "                        <td id=\"T_0ffa7c34_0bf4_11ee_86bc_12e413fbf88crow0_col1\" class=\"data row0 col1\" >1.11e+04</td>\n",
       "                        <td id=\"T_0ffa7c34_0bf4_11ee_86bc_12e413fbf88crow0_col2\" class=\"data row0 col2\" >0.49</td>\n",
       "                        <td id=\"T_0ffa7c34_0bf4_11ee_86bc_12e413fbf88crow0_col3\" class=\"data row0 col3\" >0.49</td>\n",
       "            </tr>\n",
       "            <tr>\n",
       "                        <th id=\"T_0ffa7c34_0bf4_11ee_86bc_12e413fbf88clevel0_row1\" class=\"row_heading level0 row1\" >5</th>\n",
       "                        <td id=\"T_0ffa7c34_0bf4_11ee_86bc_12e413fbf88crow1_col0\" class=\"data row1 col0\" >1.16e+04</td>\n",
       "                        <td id=\"T_0ffa7c34_0bf4_11ee_86bc_12e413fbf88crow1_col1\" class=\"data row1 col1\" >1.15e+04</td>\n",
       "                        <td id=\"T_0ffa7c34_0bf4_11ee_86bc_12e413fbf88crow1_col2\" class=\"data row1 col2\" >0.174</td>\n",
       "                        <td id=\"T_0ffa7c34_0bf4_11ee_86bc_12e413fbf88crow1_col3\" class=\"data row1 col3\" >0.174</td>\n",
       "            </tr>\n",
       "            <tr>\n",
       "                        <th id=\"T_0ffa7c34_0bf4_11ee_86bc_12e413fbf88clevel0_row2\" class=\"row_heading level0 row2\" >10</th>\n",
       "                        <td id=\"T_0ffa7c34_0bf4_11ee_86bc_12e413fbf88crow2_col0\" class=\"data row2 col0\" >1.14e+04</td>\n",
       "                        <td id=\"T_0ffa7c34_0bf4_11ee_86bc_12e413fbf88crow2_col1\" class=\"data row2 col1\" >1.13e+04</td>\n",
       "                        <td id=\"T_0ffa7c34_0bf4_11ee_86bc_12e413fbf88crow2_col2\" class=\"data row2 col2\" >0.106</td>\n",
       "                        <td id=\"T_0ffa7c34_0bf4_11ee_86bc_12e413fbf88crow2_col3\" class=\"data row2 col3\" >0.104</td>\n",
       "            </tr>\n",
       "            <tr>\n",
       "                        <th id=\"T_0ffa7c34_0bf4_11ee_86bc_12e413fbf88clevel0_row3\" class=\"row_heading level0 row3\" >15</th>\n",
       "                        <td id=\"T_0ffa7c34_0bf4_11ee_86bc_12e413fbf88crow3_col0\" class=\"data row3 col0\" >1.09e+04</td>\n",
       "                        <td id=\"T_0ffa7c34_0bf4_11ee_86bc_12e413fbf88crow3_col1\" class=\"data row3 col1\" >1.09e+04</td>\n",
       "                        <td id=\"T_0ffa7c34_0bf4_11ee_86bc_12e413fbf88crow3_col2\" class=\"data row3 col2\" >0.0802</td>\n",
       "                        <td id=\"T_0ffa7c34_0bf4_11ee_86bc_12e413fbf88crow3_col3\" class=\"data row3 col3\" >0.0799</td>\n",
       "            </tr>\n",
       "    </tbody></table>"
      ],
      "text/plain": [
       "<pandas.io.formats.style.Styler at 0x7fcde19495e0>"
      ]
     },
     "metadata": {},
     "output_type": "display_data"
    },
    {
     "data": {
      "text/html": [
       "<style  type=\"text/css\" >\n",
       "</style><table id=\"T_105f857a_0bf4_11ee_86bc_12e413fbf88c\" ><thead>    <tr>        <th class=\"index_name level0\" >Shell No.</th>        <th class=\"col_heading level0 col0\" >t_rad</th>        <th class=\"col_heading level0 col1\" >next_t_rad</th>        <th class=\"col_heading level0 col2\" >w</th>        <th class=\"col_heading level0 col3\" >next_w</th>    </tr></thead><tbody>\n",
       "                <tr>\n",
       "                        <th id=\"T_105f857a_0bf4_11ee_86bc_12e413fbf88clevel0_row0\" class=\"row_heading level0 row0\" >0</th>\n",
       "                        <td id=\"T_105f857a_0bf4_11ee_86bc_12e413fbf88crow0_col0\" class=\"data row0 col0\" >1.11e+04</td>\n",
       "                        <td id=\"T_105f857a_0bf4_11ee_86bc_12e413fbf88crow0_col1\" class=\"data row0 col1\" >1.11e+04</td>\n",
       "                        <td id=\"T_105f857a_0bf4_11ee_86bc_12e413fbf88crow0_col2\" class=\"data row0 col2\" >0.49</td>\n",
       "                        <td id=\"T_105f857a_0bf4_11ee_86bc_12e413fbf88crow0_col3\" class=\"data row0 col3\" >0.496</td>\n",
       "            </tr>\n",
       "            <tr>\n",
       "                        <th id=\"T_105f857a_0bf4_11ee_86bc_12e413fbf88clevel0_row1\" class=\"row_heading level0 row1\" >5</th>\n",
       "                        <td id=\"T_105f857a_0bf4_11ee_86bc_12e413fbf88crow1_col0\" class=\"data row1 col0\" >1.15e+04</td>\n",
       "                        <td id=\"T_105f857a_0bf4_11ee_86bc_12e413fbf88crow1_col1\" class=\"data row1 col1\" >1.15e+04</td>\n",
       "                        <td id=\"T_105f857a_0bf4_11ee_86bc_12e413fbf88crow1_col2\" class=\"data row1 col2\" >0.174</td>\n",
       "                        <td id=\"T_105f857a_0bf4_11ee_86bc_12e413fbf88crow1_col3\" class=\"data row1 col3\" >0.177</td>\n",
       "            </tr>\n",
       "            <tr>\n",
       "                        <th id=\"T_105f857a_0bf4_11ee_86bc_12e413fbf88clevel0_row2\" class=\"row_heading level0 row2\" >10</th>\n",
       "                        <td id=\"T_105f857a_0bf4_11ee_86bc_12e413fbf88crow2_col0\" class=\"data row2 col0\" >1.13e+04</td>\n",
       "                        <td id=\"T_105f857a_0bf4_11ee_86bc_12e413fbf88crow2_col1\" class=\"data row2 col1\" >1.14e+04</td>\n",
       "                        <td id=\"T_105f857a_0bf4_11ee_86bc_12e413fbf88crow2_col2\" class=\"data row2 col2\" >0.104</td>\n",
       "                        <td id=\"T_105f857a_0bf4_11ee_86bc_12e413fbf88crow2_col3\" class=\"data row2 col3\" >0.105</td>\n",
       "            </tr>\n",
       "            <tr>\n",
       "                        <th id=\"T_105f857a_0bf4_11ee_86bc_12e413fbf88clevel0_row3\" class=\"row_heading level0 row3\" >15</th>\n",
       "                        <td id=\"T_105f857a_0bf4_11ee_86bc_12e413fbf88crow3_col0\" class=\"data row3 col0\" >1.09e+04</td>\n",
       "                        <td id=\"T_105f857a_0bf4_11ee_86bc_12e413fbf88crow3_col1\" class=\"data row3 col1\" >1.09e+04</td>\n",
       "                        <td id=\"T_105f857a_0bf4_11ee_86bc_12e413fbf88crow3_col2\" class=\"data row3 col2\" >0.0799</td>\n",
       "                        <td id=\"T_105f857a_0bf4_11ee_86bc_12e413fbf88crow3_col3\" class=\"data row3 col3\" >0.081</td>\n",
       "            </tr>\n",
       "    </tbody></table>"
      ],
      "text/plain": [
       "<pandas.io.formats.style.Styler at 0x7fcdec0f8e80>"
      ]
     },
     "metadata": {},
     "output_type": "display_data"
    },
    {
     "data": {
      "text/html": [
       "<style  type=\"text/css\" >\n",
       "</style><table id=\"T_11023d1a_0bf4_11ee_86bc_12e413fbf88c\" ><thead>    <tr>        <th class=\"index_name level0\" >Shell No.</th>        <th class=\"col_heading level0 col0\" >t_rad</th>        <th class=\"col_heading level0 col1\" >next_t_rad</th>        <th class=\"col_heading level0 col2\" >w</th>        <th class=\"col_heading level0 col3\" >next_w</th>    </tr></thead><tbody>\n",
       "                <tr>\n",
       "                        <th id=\"T_11023d1a_0bf4_11ee_86bc_12e413fbf88clevel0_row0\" class=\"row_heading level0 row0\" >0</th>\n",
       "                        <td id=\"T_11023d1a_0bf4_11ee_86bc_12e413fbf88crow0_col0\" class=\"data row0 col0\" >1.11e+04</td>\n",
       "                        <td id=\"T_11023d1a_0bf4_11ee_86bc_12e413fbf88crow0_col1\" class=\"data row0 col1\" >1.11e+04</td>\n",
       "                        <td id=\"T_11023d1a_0bf4_11ee_86bc_12e413fbf88crow0_col2\" class=\"data row0 col2\" >0.496</td>\n",
       "                        <td id=\"T_11023d1a_0bf4_11ee_86bc_12e413fbf88crow0_col3\" class=\"data row0 col3\" >0.501</td>\n",
       "            </tr>\n",
       "            <tr>\n",
       "                        <th id=\"T_11023d1a_0bf4_11ee_86bc_12e413fbf88clevel0_row1\" class=\"row_heading level0 row1\" >5</th>\n",
       "                        <td id=\"T_11023d1a_0bf4_11ee_86bc_12e413fbf88crow1_col0\" class=\"data row1 col0\" >1.15e+04</td>\n",
       "                        <td id=\"T_11023d1a_0bf4_11ee_86bc_12e413fbf88crow1_col1\" class=\"data row1 col1\" >1.16e+04</td>\n",
       "                        <td id=\"T_11023d1a_0bf4_11ee_86bc_12e413fbf88crow1_col2\" class=\"data row1 col2\" >0.177</td>\n",
       "                        <td id=\"T_11023d1a_0bf4_11ee_86bc_12e413fbf88crow1_col3\" class=\"data row1 col3\" >0.174</td>\n",
       "            </tr>\n",
       "            <tr>\n",
       "                        <th id=\"T_11023d1a_0bf4_11ee_86bc_12e413fbf88clevel0_row2\" class=\"row_heading level0 row2\" >10</th>\n",
       "                        <td id=\"T_11023d1a_0bf4_11ee_86bc_12e413fbf88crow2_col0\" class=\"data row2 col0\" >1.14e+04</td>\n",
       "                        <td id=\"T_11023d1a_0bf4_11ee_86bc_12e413fbf88crow2_col1\" class=\"data row2 col1\" >1.14e+04</td>\n",
       "                        <td id=\"T_11023d1a_0bf4_11ee_86bc_12e413fbf88crow2_col2\" class=\"data row2 col2\" >0.105</td>\n",
       "                        <td id=\"T_11023d1a_0bf4_11ee_86bc_12e413fbf88crow2_col3\" class=\"data row2 col3\" >0.104</td>\n",
       "            </tr>\n",
       "            <tr>\n",
       "                        <th id=\"T_11023d1a_0bf4_11ee_86bc_12e413fbf88clevel0_row3\" class=\"row_heading level0 row3\" >15</th>\n",
       "                        <td id=\"T_11023d1a_0bf4_11ee_86bc_12e413fbf88crow3_col0\" class=\"data row3 col0\" >1.09e+04</td>\n",
       "                        <td id=\"T_11023d1a_0bf4_11ee_86bc_12e413fbf88crow3_col1\" class=\"data row3 col1\" >1.09e+04</td>\n",
       "                        <td id=\"T_11023d1a_0bf4_11ee_86bc_12e413fbf88crow3_col2\" class=\"data row3 col2\" >0.081</td>\n",
       "                        <td id=\"T_11023d1a_0bf4_11ee_86bc_12e413fbf88crow3_col3\" class=\"data row3 col3\" >0.0809</td>\n",
       "            </tr>\n",
       "    </tbody></table>"
      ],
      "text/plain": [
       "<pandas.io.formats.style.Styler at 0x7fcdec109880>"
      ]
     },
     "metadata": {},
     "output_type": "display_data"
    },
    {
     "data": {
      "text/html": [
       "<style  type=\"text/css\" >\n",
       "</style><table id=\"T_116e86dc_0bf4_11ee_86bc_12e413fbf88c\" ><thead>    <tr>        <th class=\"index_name level0\" >Shell No.</th>        <th class=\"col_heading level0 col0\" >t_rad</th>        <th class=\"col_heading level0 col1\" >next_t_rad</th>        <th class=\"col_heading level0 col2\" >w</th>        <th class=\"col_heading level0 col3\" >next_w</th>    </tr></thead><tbody>\n",
       "                <tr>\n",
       "                        <th id=\"T_116e86dc_0bf4_11ee_86bc_12e413fbf88clevel0_row0\" class=\"row_heading level0 row0\" >0</th>\n",
       "                        <td id=\"T_116e86dc_0bf4_11ee_86bc_12e413fbf88crow0_col0\" class=\"data row0 col0\" >1.11e+04</td>\n",
       "                        <td id=\"T_116e86dc_0bf4_11ee_86bc_12e413fbf88crow0_col1\" class=\"data row0 col1\" >1.12e+04</td>\n",
       "                        <td id=\"T_116e86dc_0bf4_11ee_86bc_12e413fbf88crow0_col2\" class=\"data row0 col2\" >0.501</td>\n",
       "                        <td id=\"T_116e86dc_0bf4_11ee_86bc_12e413fbf88crow0_col3\" class=\"data row0 col3\" >0.485</td>\n",
       "            </tr>\n",
       "            <tr>\n",
       "                        <th id=\"T_116e86dc_0bf4_11ee_86bc_12e413fbf88clevel0_row1\" class=\"row_heading level0 row1\" >5</th>\n",
       "                        <td id=\"T_116e86dc_0bf4_11ee_86bc_12e413fbf88crow1_col0\" class=\"data row1 col0\" >1.16e+04</td>\n",
       "                        <td id=\"T_116e86dc_0bf4_11ee_86bc_12e413fbf88crow1_col1\" class=\"data row1 col1\" >1.16e+04</td>\n",
       "                        <td id=\"T_116e86dc_0bf4_11ee_86bc_12e413fbf88crow1_col2\" class=\"data row1 col2\" >0.174</td>\n",
       "                        <td id=\"T_116e86dc_0bf4_11ee_86bc_12e413fbf88crow1_col3\" class=\"data row1 col3\" >0.17</td>\n",
       "            </tr>\n",
       "            <tr>\n",
       "                        <th id=\"T_116e86dc_0bf4_11ee_86bc_12e413fbf88clevel0_row2\" class=\"row_heading level0 row2\" >10</th>\n",
       "                        <td id=\"T_116e86dc_0bf4_11ee_86bc_12e413fbf88crow2_col0\" class=\"data row2 col0\" >1.14e+04</td>\n",
       "                        <td id=\"T_116e86dc_0bf4_11ee_86bc_12e413fbf88crow2_col1\" class=\"data row2 col1\" >1.13e+04</td>\n",
       "                        <td id=\"T_116e86dc_0bf4_11ee_86bc_12e413fbf88crow2_col2\" class=\"data row2 col2\" >0.104</td>\n",
       "                        <td id=\"T_116e86dc_0bf4_11ee_86bc_12e413fbf88crow2_col3\" class=\"data row2 col3\" >0.105</td>\n",
       "            </tr>\n",
       "            <tr>\n",
       "                        <th id=\"T_116e86dc_0bf4_11ee_86bc_12e413fbf88clevel0_row3\" class=\"row_heading level0 row3\" >15</th>\n",
       "                        <td id=\"T_116e86dc_0bf4_11ee_86bc_12e413fbf88crow3_col0\" class=\"data row3 col0\" >1.09e+04</td>\n",
       "                        <td id=\"T_116e86dc_0bf4_11ee_86bc_12e413fbf88crow3_col1\" class=\"data row3 col1\" >1.1e+04</td>\n",
       "                        <td id=\"T_116e86dc_0bf4_11ee_86bc_12e413fbf88crow3_col2\" class=\"data row3 col2\" >0.0809</td>\n",
       "                        <td id=\"T_116e86dc_0bf4_11ee_86bc_12e413fbf88crow3_col3\" class=\"data row3 col3\" >0.0777</td>\n",
       "            </tr>\n",
       "    </tbody></table>"
      ],
      "text/plain": [
       "<pandas.io.formats.style.Styler at 0x7fcde19493a0>"
      ]
     },
     "metadata": {},
     "output_type": "display_data"
    },
    {
     "data": {
      "text/html": [
       "<style  type=\"text/css\" >\n",
       "</style><table id=\"T_11df63c0_0bf4_11ee_86bc_12e413fbf88c\" ><thead>    <tr>        <th class=\"index_name level0\" >Shell No.</th>        <th class=\"col_heading level0 col0\" >t_rad</th>        <th class=\"col_heading level0 col1\" >next_t_rad</th>        <th class=\"col_heading level0 col2\" >w</th>        <th class=\"col_heading level0 col3\" >next_w</th>    </tr></thead><tbody>\n",
       "                <tr>\n",
       "                        <th id=\"T_11df63c0_0bf4_11ee_86bc_12e413fbf88clevel0_row0\" class=\"row_heading level0 row0\" >0</th>\n",
       "                        <td id=\"T_11df63c0_0bf4_11ee_86bc_12e413fbf88crow0_col0\" class=\"data row0 col0\" >1.12e+04</td>\n",
       "                        <td id=\"T_11df63c0_0bf4_11ee_86bc_12e413fbf88crow0_col1\" class=\"data row0 col1\" >1.12e+04</td>\n",
       "                        <td id=\"T_11df63c0_0bf4_11ee_86bc_12e413fbf88crow0_col2\" class=\"data row0 col2\" >0.485</td>\n",
       "                        <td id=\"T_11df63c0_0bf4_11ee_86bc_12e413fbf88crow0_col3\" class=\"data row0 col3\" >0.483</td>\n",
       "            </tr>\n",
       "            <tr>\n",
       "                        <th id=\"T_11df63c0_0bf4_11ee_86bc_12e413fbf88clevel0_row1\" class=\"row_heading level0 row1\" >5</th>\n",
       "                        <td id=\"T_11df63c0_0bf4_11ee_86bc_12e413fbf88crow1_col0\" class=\"data row1 col0\" >1.16e+04</td>\n",
       "                        <td id=\"T_11df63c0_0bf4_11ee_86bc_12e413fbf88crow1_col1\" class=\"data row1 col1\" >1.16e+04</td>\n",
       "                        <td id=\"T_11df63c0_0bf4_11ee_86bc_12e413fbf88crow1_col2\" class=\"data row1 col2\" >0.17</td>\n",
       "                        <td id=\"T_11df63c0_0bf4_11ee_86bc_12e413fbf88crow1_col3\" class=\"data row1 col3\" >0.174</td>\n",
       "            </tr>\n",
       "            <tr>\n",
       "                        <th id=\"T_11df63c0_0bf4_11ee_86bc_12e413fbf88clevel0_row2\" class=\"row_heading level0 row2\" >10</th>\n",
       "                        <td id=\"T_11df63c0_0bf4_11ee_86bc_12e413fbf88crow2_col0\" class=\"data row2 col0\" >1.13e+04</td>\n",
       "                        <td id=\"T_11df63c0_0bf4_11ee_86bc_12e413fbf88crow2_col1\" class=\"data row2 col1\" >1.14e+04</td>\n",
       "                        <td id=\"T_11df63c0_0bf4_11ee_86bc_12e413fbf88crow2_col2\" class=\"data row2 col2\" >0.105</td>\n",
       "                        <td id=\"T_11df63c0_0bf4_11ee_86bc_12e413fbf88crow2_col3\" class=\"data row2 col3\" >0.105</td>\n",
       "            </tr>\n",
       "            <tr>\n",
       "                        <th id=\"T_11df63c0_0bf4_11ee_86bc_12e413fbf88clevel0_row3\" class=\"row_heading level0 row3\" >15</th>\n",
       "                        <td id=\"T_11df63c0_0bf4_11ee_86bc_12e413fbf88crow3_col0\" class=\"data row3 col0\" >1.1e+04</td>\n",
       "                        <td id=\"T_11df63c0_0bf4_11ee_86bc_12e413fbf88crow3_col1\" class=\"data row3 col1\" >1.1e+04</td>\n",
       "                        <td id=\"T_11df63c0_0bf4_11ee_86bc_12e413fbf88crow3_col2\" class=\"data row3 col2\" >0.0777</td>\n",
       "                        <td id=\"T_11df63c0_0bf4_11ee_86bc_12e413fbf88crow3_col3\" class=\"data row3 col3\" >0.0789</td>\n",
       "            </tr>\n",
       "    </tbody></table>"
      ],
      "text/plain": [
       "<pandas.io.formats.style.Styler at 0x7fcdde6d9e20>"
      ]
     },
     "metadata": {},
     "output_type": "display_data"
    },
    {
     "data": {
      "text/html": [
       "<style  type=\"text/css\" >\n",
       "</style><table id=\"T_12493be2_0bf4_11ee_86bc_12e413fbf88c\" ><thead>    <tr>        <th class=\"index_name level0\" >Shell No.</th>        <th class=\"col_heading level0 col0\" >t_rad</th>        <th class=\"col_heading level0 col1\" >next_t_rad</th>        <th class=\"col_heading level0 col2\" >w</th>        <th class=\"col_heading level0 col3\" >next_w</th>    </tr></thead><tbody>\n",
       "                <tr>\n",
       "                        <th id=\"T_12493be2_0bf4_11ee_86bc_12e413fbf88clevel0_row0\" class=\"row_heading level0 row0\" >0</th>\n",
       "                        <td id=\"T_12493be2_0bf4_11ee_86bc_12e413fbf88crow0_col0\" class=\"data row0 col0\" >1.12e+04</td>\n",
       "                        <td id=\"T_12493be2_0bf4_11ee_86bc_12e413fbf88crow0_col1\" class=\"data row0 col1\" >1.12e+04</td>\n",
       "                        <td id=\"T_12493be2_0bf4_11ee_86bc_12e413fbf88crow0_col2\" class=\"data row0 col2\" >0.483</td>\n",
       "                        <td id=\"T_12493be2_0bf4_11ee_86bc_12e413fbf88crow0_col3\" class=\"data row0 col3\" >0.48</td>\n",
       "            </tr>\n",
       "            <tr>\n",
       "                        <th id=\"T_12493be2_0bf4_11ee_86bc_12e413fbf88clevel0_row1\" class=\"row_heading level0 row1\" >5</th>\n",
       "                        <td id=\"T_12493be2_0bf4_11ee_86bc_12e413fbf88crow1_col0\" class=\"data row1 col0\" >1.16e+04</td>\n",
       "                        <td id=\"T_12493be2_0bf4_11ee_86bc_12e413fbf88crow1_col1\" class=\"data row1 col1\" >1.16e+04</td>\n",
       "                        <td id=\"T_12493be2_0bf4_11ee_86bc_12e413fbf88crow1_col2\" class=\"data row1 col2\" >0.174</td>\n",
       "                        <td id=\"T_12493be2_0bf4_11ee_86bc_12e413fbf88crow1_col3\" class=\"data row1 col3\" >0.174</td>\n",
       "            </tr>\n",
       "            <tr>\n",
       "                        <th id=\"T_12493be2_0bf4_11ee_86bc_12e413fbf88clevel0_row2\" class=\"row_heading level0 row2\" >10</th>\n",
       "                        <td id=\"T_12493be2_0bf4_11ee_86bc_12e413fbf88crow2_col0\" class=\"data row2 col0\" >1.14e+04</td>\n",
       "                        <td id=\"T_12493be2_0bf4_11ee_86bc_12e413fbf88crow2_col1\" class=\"data row2 col1\" >1.13e+04</td>\n",
       "                        <td id=\"T_12493be2_0bf4_11ee_86bc_12e413fbf88crow2_col2\" class=\"data row2 col2\" >0.105</td>\n",
       "                        <td id=\"T_12493be2_0bf4_11ee_86bc_12e413fbf88crow2_col3\" class=\"data row2 col3\" >0.105</td>\n",
       "            </tr>\n",
       "            <tr>\n",
       "                        <th id=\"T_12493be2_0bf4_11ee_86bc_12e413fbf88clevel0_row3\" class=\"row_heading level0 row3\" >15</th>\n",
       "                        <td id=\"T_12493be2_0bf4_11ee_86bc_12e413fbf88crow3_col0\" class=\"data row3 col0\" >1.1e+04</td>\n",
       "                        <td id=\"T_12493be2_0bf4_11ee_86bc_12e413fbf88crow3_col1\" class=\"data row3 col1\" >1.09e+04</td>\n",
       "                        <td id=\"T_12493be2_0bf4_11ee_86bc_12e413fbf88crow3_col2\" class=\"data row3 col2\" >0.0789</td>\n",
       "                        <td id=\"T_12493be2_0bf4_11ee_86bc_12e413fbf88crow3_col3\" class=\"data row3 col3\" >0.0789</td>\n",
       "            </tr>\n",
       "    </tbody></table>"
      ],
      "text/plain": [
       "<pandas.io.formats.style.Styler at 0x7fcde1367850>"
      ]
     },
     "metadata": {},
     "output_type": "display_data"
    },
    {
     "data": {
      "text/html": [
       "<style  type=\"text/css\" >\n",
       "</style><table id=\"T_12b0d91e_0bf4_11ee_86bc_12e413fbf88c\" ><thead>    <tr>        <th class=\"index_name level0\" >Shell No.</th>        <th class=\"col_heading level0 col0\" >t_rad</th>        <th class=\"col_heading level0 col1\" >next_t_rad</th>        <th class=\"col_heading level0 col2\" >w</th>        <th class=\"col_heading level0 col3\" >next_w</th>    </tr></thead><tbody>\n",
       "                <tr>\n",
       "                        <th id=\"T_12b0d91e_0bf4_11ee_86bc_12e413fbf88clevel0_row0\" class=\"row_heading level0 row0\" >0</th>\n",
       "                        <td id=\"T_12b0d91e_0bf4_11ee_86bc_12e413fbf88crow0_col0\" class=\"data row0 col0\" >1.12e+04</td>\n",
       "                        <td id=\"T_12b0d91e_0bf4_11ee_86bc_12e413fbf88crow0_col1\" class=\"data row0 col1\" >1.12e+04</td>\n",
       "                        <td id=\"T_12b0d91e_0bf4_11ee_86bc_12e413fbf88crow0_col2\" class=\"data row0 col2\" >0.48</td>\n",
       "                        <td id=\"T_12b0d91e_0bf4_11ee_86bc_12e413fbf88crow0_col3\" class=\"data row0 col3\" >0.486</td>\n",
       "            </tr>\n",
       "            <tr>\n",
       "                        <th id=\"T_12b0d91e_0bf4_11ee_86bc_12e413fbf88clevel0_row1\" class=\"row_heading level0 row1\" >5</th>\n",
       "                        <td id=\"T_12b0d91e_0bf4_11ee_86bc_12e413fbf88crow1_col0\" class=\"data row1 col0\" >1.16e+04</td>\n",
       "                        <td id=\"T_12b0d91e_0bf4_11ee_86bc_12e413fbf88crow1_col1\" class=\"data row1 col1\" >1.15e+04</td>\n",
       "                        <td id=\"T_12b0d91e_0bf4_11ee_86bc_12e413fbf88crow1_col2\" class=\"data row1 col2\" >0.174</td>\n",
       "                        <td id=\"T_12b0d91e_0bf4_11ee_86bc_12e413fbf88crow1_col3\" class=\"data row1 col3\" >0.18</td>\n",
       "            </tr>\n",
       "            <tr>\n",
       "                        <th id=\"T_12b0d91e_0bf4_11ee_86bc_12e413fbf88clevel0_row2\" class=\"row_heading level0 row2\" >10</th>\n",
       "                        <td id=\"T_12b0d91e_0bf4_11ee_86bc_12e413fbf88crow2_col0\" class=\"data row2 col0\" >1.13e+04</td>\n",
       "                        <td id=\"T_12b0d91e_0bf4_11ee_86bc_12e413fbf88crow2_col1\" class=\"data row2 col1\" >1.12e+04</td>\n",
       "                        <td id=\"T_12b0d91e_0bf4_11ee_86bc_12e413fbf88crow2_col2\" class=\"data row2 col2\" >0.105</td>\n",
       "                        <td id=\"T_12b0d91e_0bf4_11ee_86bc_12e413fbf88crow2_col3\" class=\"data row2 col3\" >0.108</td>\n",
       "            </tr>\n",
       "            <tr>\n",
       "                        <th id=\"T_12b0d91e_0bf4_11ee_86bc_12e413fbf88clevel0_row3\" class=\"row_heading level0 row3\" >15</th>\n",
       "                        <td id=\"T_12b0d91e_0bf4_11ee_86bc_12e413fbf88crow3_col0\" class=\"data row3 col0\" >1.09e+04</td>\n",
       "                        <td id=\"T_12b0d91e_0bf4_11ee_86bc_12e413fbf88crow3_col1\" class=\"data row3 col1\" >1.09e+04</td>\n",
       "                        <td id=\"T_12b0d91e_0bf4_11ee_86bc_12e413fbf88crow3_col2\" class=\"data row3 col2\" >0.0789</td>\n",
       "                        <td id=\"T_12b0d91e_0bf4_11ee_86bc_12e413fbf88crow3_col3\" class=\"data row3 col3\" >0.0793</td>\n",
       "            </tr>\n",
       "    </tbody></table>"
      ],
      "text/plain": [
       "<pandas.io.formats.style.Styler at 0x7fcde1956940>"
      ]
     },
     "metadata": {},
     "output_type": "display_data"
    },
    {
     "data": {
      "text/html": [
       "<style  type=\"text/css\" >\n",
       "</style><table id=\"T_131ae03e_0bf4_11ee_86bc_12e413fbf88c\" ><thead>    <tr>        <th class=\"index_name level0\" >Shell No.</th>        <th class=\"col_heading level0 col0\" >t_rad</th>        <th class=\"col_heading level0 col1\" >next_t_rad</th>        <th class=\"col_heading level0 col2\" >w</th>        <th class=\"col_heading level0 col3\" >next_w</th>    </tr></thead><tbody>\n",
       "                <tr>\n",
       "                        <th id=\"T_131ae03e_0bf4_11ee_86bc_12e413fbf88clevel0_row0\" class=\"row_heading level0 row0\" >0</th>\n",
       "                        <td id=\"T_131ae03e_0bf4_11ee_86bc_12e413fbf88crow0_col0\" class=\"data row0 col0\" >1.12e+04</td>\n",
       "                        <td id=\"T_131ae03e_0bf4_11ee_86bc_12e413fbf88crow0_col1\" class=\"data row0 col1\" >1.12e+04</td>\n",
       "                        <td id=\"T_131ae03e_0bf4_11ee_86bc_12e413fbf88crow0_col2\" class=\"data row0 col2\" >0.486</td>\n",
       "                        <td id=\"T_131ae03e_0bf4_11ee_86bc_12e413fbf88crow0_col3\" class=\"data row0 col3\" >0.486</td>\n",
       "            </tr>\n",
       "            <tr>\n",
       "                        <th id=\"T_131ae03e_0bf4_11ee_86bc_12e413fbf88clevel0_row1\" class=\"row_heading level0 row1\" >5</th>\n",
       "                        <td id=\"T_131ae03e_0bf4_11ee_86bc_12e413fbf88crow1_col0\" class=\"data row1 col0\" >1.15e+04</td>\n",
       "                        <td id=\"T_131ae03e_0bf4_11ee_86bc_12e413fbf88crow1_col1\" class=\"data row1 col1\" >1.15e+04</td>\n",
       "                        <td id=\"T_131ae03e_0bf4_11ee_86bc_12e413fbf88crow1_col2\" class=\"data row1 col2\" >0.18</td>\n",
       "                        <td id=\"T_131ae03e_0bf4_11ee_86bc_12e413fbf88crow1_col3\" class=\"data row1 col3\" >0.177</td>\n",
       "            </tr>\n",
       "            <tr>\n",
       "                        <th id=\"T_131ae03e_0bf4_11ee_86bc_12e413fbf88clevel0_row2\" class=\"row_heading level0 row2\" >10</th>\n",
       "                        <td id=\"T_131ae03e_0bf4_11ee_86bc_12e413fbf88crow2_col0\" class=\"data row2 col0\" >1.12e+04</td>\n",
       "                        <td id=\"T_131ae03e_0bf4_11ee_86bc_12e413fbf88crow2_col1\" class=\"data row2 col1\" >1.13e+04</td>\n",
       "                        <td id=\"T_131ae03e_0bf4_11ee_86bc_12e413fbf88crow2_col2\" class=\"data row2 col2\" >0.108</td>\n",
       "                        <td id=\"T_131ae03e_0bf4_11ee_86bc_12e413fbf88crow2_col3\" class=\"data row2 col3\" >0.107</td>\n",
       "            </tr>\n",
       "            <tr>\n",
       "                        <th id=\"T_131ae03e_0bf4_11ee_86bc_12e413fbf88clevel0_row3\" class=\"row_heading level0 row3\" >15</th>\n",
       "                        <td id=\"T_131ae03e_0bf4_11ee_86bc_12e413fbf88crow3_col0\" class=\"data row3 col0\" >1.09e+04</td>\n",
       "                        <td id=\"T_131ae03e_0bf4_11ee_86bc_12e413fbf88crow3_col1\" class=\"data row3 col1\" >1.09e+04</td>\n",
       "                        <td id=\"T_131ae03e_0bf4_11ee_86bc_12e413fbf88crow3_col2\" class=\"data row3 col2\" >0.0793</td>\n",
       "                        <td id=\"T_131ae03e_0bf4_11ee_86bc_12e413fbf88crow3_col3\" class=\"data row3 col3\" >0.0811</td>\n",
       "            </tr>\n",
       "    </tbody></table>"
      ],
      "text/plain": [
       "<pandas.io.formats.style.Styler at 0x7fcdde6d9dc0>"
      ]
     },
     "metadata": {},
     "output_type": "display_data"
    },
    {
     "data": {
      "text/html": [
       "<style  type=\"text/css\" >\n",
       "</style><table id=\"T_137fcf4e_0bf4_11ee_86bc_12e413fbf88c\" ><thead>    <tr>        <th class=\"index_name level0\" >Shell No.</th>        <th class=\"col_heading level0 col0\" >t_rad</th>        <th class=\"col_heading level0 col1\" >next_t_rad</th>        <th class=\"col_heading level0 col2\" >w</th>        <th class=\"col_heading level0 col3\" >next_w</th>    </tr></thead><tbody>\n",
       "                <tr>\n",
       "                        <th id=\"T_137fcf4e_0bf4_11ee_86bc_12e413fbf88clevel0_row0\" class=\"row_heading level0 row0\" >0</th>\n",
       "                        <td id=\"T_137fcf4e_0bf4_11ee_86bc_12e413fbf88crow0_col0\" class=\"data row0 col0\" >1.12e+04</td>\n",
       "                        <td id=\"T_137fcf4e_0bf4_11ee_86bc_12e413fbf88crow0_col1\" class=\"data row0 col1\" >1.12e+04</td>\n",
       "                        <td id=\"T_137fcf4e_0bf4_11ee_86bc_12e413fbf88crow0_col2\" class=\"data row0 col2\" >0.486</td>\n",
       "                        <td id=\"T_137fcf4e_0bf4_11ee_86bc_12e413fbf88crow0_col3\" class=\"data row0 col3\" >0.483</td>\n",
       "            </tr>\n",
       "            <tr>\n",
       "                        <th id=\"T_137fcf4e_0bf4_11ee_86bc_12e413fbf88clevel0_row1\" class=\"row_heading level0 row1\" >5</th>\n",
       "                        <td id=\"T_137fcf4e_0bf4_11ee_86bc_12e413fbf88crow1_col0\" class=\"data row1 col0\" >1.15e+04</td>\n",
       "                        <td id=\"T_137fcf4e_0bf4_11ee_86bc_12e413fbf88crow1_col1\" class=\"data row1 col1\" >1.16e+04</td>\n",
       "                        <td id=\"T_137fcf4e_0bf4_11ee_86bc_12e413fbf88crow1_col2\" class=\"data row1 col2\" >0.177</td>\n",
       "                        <td id=\"T_137fcf4e_0bf4_11ee_86bc_12e413fbf88crow1_col3\" class=\"data row1 col3\" >0.17</td>\n",
       "            </tr>\n",
       "            <tr>\n",
       "                        <th id=\"T_137fcf4e_0bf4_11ee_86bc_12e413fbf88clevel0_row2\" class=\"row_heading level0 row2\" >10</th>\n",
       "                        <td id=\"T_137fcf4e_0bf4_11ee_86bc_12e413fbf88crow2_col0\" class=\"data row2 col0\" >1.13e+04</td>\n",
       "                        <td id=\"T_137fcf4e_0bf4_11ee_86bc_12e413fbf88crow2_col1\" class=\"data row2 col1\" >1.13e+04</td>\n",
       "                        <td id=\"T_137fcf4e_0bf4_11ee_86bc_12e413fbf88crow2_col2\" class=\"data row2 col2\" >0.107</td>\n",
       "                        <td id=\"T_137fcf4e_0bf4_11ee_86bc_12e413fbf88crow2_col3\" class=\"data row2 col3\" >0.107</td>\n",
       "            </tr>\n",
       "            <tr>\n",
       "                        <th id=\"T_137fcf4e_0bf4_11ee_86bc_12e413fbf88clevel0_row3\" class=\"row_heading level0 row3\" >15</th>\n",
       "                        <td id=\"T_137fcf4e_0bf4_11ee_86bc_12e413fbf88crow3_col0\" class=\"data row3 col0\" >1.09e+04</td>\n",
       "                        <td id=\"T_137fcf4e_0bf4_11ee_86bc_12e413fbf88crow3_col1\" class=\"data row3 col1\" >1.09e+04</td>\n",
       "                        <td id=\"T_137fcf4e_0bf4_11ee_86bc_12e413fbf88crow3_col2\" class=\"data row3 col2\" >0.0811</td>\n",
       "                        <td id=\"T_137fcf4e_0bf4_11ee_86bc_12e413fbf88crow3_col3\" class=\"data row3 col3\" >0.0799</td>\n",
       "            </tr>\n",
       "    </tbody></table>"
      ],
      "text/plain": [
       "<pandas.io.formats.style.Styler at 0x7fcddfd14970>"
      ]
     },
     "metadata": {},
     "output_type": "display_data"
    },
    {
     "data": {
      "text/html": [
       "<style  type=\"text/css\" >\n",
       "</style><table id=\"T_13ea897e_0bf4_11ee_86bc_12e413fbf88c\" ><thead>    <tr>        <th class=\"index_name level0\" >Shell No.</th>        <th class=\"col_heading level0 col0\" >t_rad</th>        <th class=\"col_heading level0 col1\" >next_t_rad</th>        <th class=\"col_heading level0 col2\" >w</th>        <th class=\"col_heading level0 col3\" >next_w</th>    </tr></thead><tbody>\n",
       "                <tr>\n",
       "                        <th id=\"T_13ea897e_0bf4_11ee_86bc_12e413fbf88clevel0_row0\" class=\"row_heading level0 row0\" >0</th>\n",
       "                        <td id=\"T_13ea897e_0bf4_11ee_86bc_12e413fbf88crow0_col0\" class=\"data row0 col0\" >1.12e+04</td>\n",
       "                        <td id=\"T_13ea897e_0bf4_11ee_86bc_12e413fbf88crow0_col1\" class=\"data row0 col1\" >1.12e+04</td>\n",
       "                        <td id=\"T_13ea897e_0bf4_11ee_86bc_12e413fbf88crow0_col2\" class=\"data row0 col2\" >0.483</td>\n",
       "                        <td id=\"T_13ea897e_0bf4_11ee_86bc_12e413fbf88crow0_col3\" class=\"data row0 col3\" >0.482</td>\n",
       "            </tr>\n",
       "            <tr>\n",
       "                        <th id=\"T_13ea897e_0bf4_11ee_86bc_12e413fbf88clevel0_row1\" class=\"row_heading level0 row1\" >5</th>\n",
       "                        <td id=\"T_13ea897e_0bf4_11ee_86bc_12e413fbf88crow1_col0\" class=\"data row1 col0\" >1.16e+04</td>\n",
       "                        <td id=\"T_13ea897e_0bf4_11ee_86bc_12e413fbf88crow1_col1\" class=\"data row1 col1\" >1.16e+04</td>\n",
       "                        <td id=\"T_13ea897e_0bf4_11ee_86bc_12e413fbf88crow1_col2\" class=\"data row1 col2\" >0.17</td>\n",
       "                        <td id=\"T_13ea897e_0bf4_11ee_86bc_12e413fbf88crow1_col3\" class=\"data row1 col3\" >0.172</td>\n",
       "            </tr>\n",
       "            <tr>\n",
       "                        <th id=\"T_13ea897e_0bf4_11ee_86bc_12e413fbf88clevel0_row2\" class=\"row_heading level0 row2\" >10</th>\n",
       "                        <td id=\"T_13ea897e_0bf4_11ee_86bc_12e413fbf88crow2_col0\" class=\"data row2 col0\" >1.13e+04</td>\n",
       "                        <td id=\"T_13ea897e_0bf4_11ee_86bc_12e413fbf88crow2_col1\" class=\"data row2 col1\" >1.13e+04</td>\n",
       "                        <td id=\"T_13ea897e_0bf4_11ee_86bc_12e413fbf88crow2_col2\" class=\"data row2 col2\" >0.107</td>\n",
       "                        <td id=\"T_13ea897e_0bf4_11ee_86bc_12e413fbf88crow2_col3\" class=\"data row2 col3\" >0.105</td>\n",
       "            </tr>\n",
       "            <tr>\n",
       "                        <th id=\"T_13ea897e_0bf4_11ee_86bc_12e413fbf88clevel0_row3\" class=\"row_heading level0 row3\" >15</th>\n",
       "                        <td id=\"T_13ea897e_0bf4_11ee_86bc_12e413fbf88crow3_col0\" class=\"data row3 col0\" >1.09e+04</td>\n",
       "                        <td id=\"T_13ea897e_0bf4_11ee_86bc_12e413fbf88crow3_col1\" class=\"data row3 col1\" >1.09e+04</td>\n",
       "                        <td id=\"T_13ea897e_0bf4_11ee_86bc_12e413fbf88crow3_col2\" class=\"data row3 col2\" >0.0799</td>\n",
       "                        <td id=\"T_13ea897e_0bf4_11ee_86bc_12e413fbf88crow3_col3\" class=\"data row3 col3\" >0.0807</td>\n",
       "            </tr>\n",
       "    </tbody></table>"
      ],
      "text/plain": [
       "<pandas.io.formats.style.Styler at 0x7fcdde6d9dc0>"
      ]
     },
     "metadata": {},
     "output_type": "display_data"
    },
    {
     "data": {
      "text/html": [
       "<style  type=\"text/css\" >\n",
       "</style><table id=\"T_144e50b2_0bf4_11ee_86bc_12e413fbf88c\" ><thead>    <tr>        <th class=\"index_name level0\" >Shell No.</th>        <th class=\"col_heading level0 col0\" >t_rad</th>        <th class=\"col_heading level0 col1\" >next_t_rad</th>        <th class=\"col_heading level0 col2\" >w</th>        <th class=\"col_heading level0 col3\" >next_w</th>    </tr></thead><tbody>\n",
       "                <tr>\n",
       "                        <th id=\"T_144e50b2_0bf4_11ee_86bc_12e413fbf88clevel0_row0\" class=\"row_heading level0 row0\" >0</th>\n",
       "                        <td id=\"T_144e50b2_0bf4_11ee_86bc_12e413fbf88crow0_col0\" class=\"data row0 col0\" >1.12e+04</td>\n",
       "                        <td id=\"T_144e50b2_0bf4_11ee_86bc_12e413fbf88crow0_col1\" class=\"data row0 col1\" >1.12e+04</td>\n",
       "                        <td id=\"T_144e50b2_0bf4_11ee_86bc_12e413fbf88crow0_col2\" class=\"data row0 col2\" >0.482</td>\n",
       "                        <td id=\"T_144e50b2_0bf4_11ee_86bc_12e413fbf88crow0_col3\" class=\"data row0 col3\" >0.478</td>\n",
       "            </tr>\n",
       "            <tr>\n",
       "                        <th id=\"T_144e50b2_0bf4_11ee_86bc_12e413fbf88clevel0_row1\" class=\"row_heading level0 row1\" >5</th>\n",
       "                        <td id=\"T_144e50b2_0bf4_11ee_86bc_12e413fbf88crow1_col0\" class=\"data row1 col0\" >1.16e+04</td>\n",
       "                        <td id=\"T_144e50b2_0bf4_11ee_86bc_12e413fbf88crow1_col1\" class=\"data row1 col1\" >1.14e+04</td>\n",
       "                        <td id=\"T_144e50b2_0bf4_11ee_86bc_12e413fbf88crow1_col2\" class=\"data row1 col2\" >0.172</td>\n",
       "                        <td id=\"T_144e50b2_0bf4_11ee_86bc_12e413fbf88crow1_col3\" class=\"data row1 col3\" >0.177</td>\n",
       "            </tr>\n",
       "            <tr>\n",
       "                        <th id=\"T_144e50b2_0bf4_11ee_86bc_12e413fbf88clevel0_row2\" class=\"row_heading level0 row2\" >10</th>\n",
       "                        <td id=\"T_144e50b2_0bf4_11ee_86bc_12e413fbf88crow2_col0\" class=\"data row2 col0\" >1.13e+04</td>\n",
       "                        <td id=\"T_144e50b2_0bf4_11ee_86bc_12e413fbf88crow2_col1\" class=\"data row2 col1\" >1.13e+04</td>\n",
       "                        <td id=\"T_144e50b2_0bf4_11ee_86bc_12e413fbf88crow2_col2\" class=\"data row2 col2\" >0.105</td>\n",
       "                        <td id=\"T_144e50b2_0bf4_11ee_86bc_12e413fbf88crow2_col3\" class=\"data row2 col3\" >0.107</td>\n",
       "            </tr>\n",
       "            <tr>\n",
       "                        <th id=\"T_144e50b2_0bf4_11ee_86bc_12e413fbf88clevel0_row3\" class=\"row_heading level0 row3\" >15</th>\n",
       "                        <td id=\"T_144e50b2_0bf4_11ee_86bc_12e413fbf88crow3_col0\" class=\"data row3 col0\" >1.09e+04</td>\n",
       "                        <td id=\"T_144e50b2_0bf4_11ee_86bc_12e413fbf88crow3_col1\" class=\"data row3 col1\" >1.08e+04</td>\n",
       "                        <td id=\"T_144e50b2_0bf4_11ee_86bc_12e413fbf88crow3_col2\" class=\"data row3 col2\" >0.0807</td>\n",
       "                        <td id=\"T_144e50b2_0bf4_11ee_86bc_12e413fbf88crow3_col3\" class=\"data row3 col3\" >0.0814</td>\n",
       "            </tr>\n",
       "    </tbody></table>"
      ],
      "text/plain": [
       "<pandas.io.formats.style.Styler at 0x7fcde1962fa0>"
      ]
     },
     "metadata": {},
     "output_type": "display_data"
    }
   ],
   "source": [
    "### Run Simulation\n",
    "config = Configuration.from_yaml('../../../docs/tardis_example.yml')\n",
    "atom_data = AtomData.from_hdf(os.path.join(get_data_dir(), 'kurucz_cd23_chianti_H_He.h5'))\n",
    "model = Radial1DModel.from_config(config, atom_data=atom_data)\n",
    "plasma = assemble_plasma(config, model, atom_data=atom_data)\n",
    "sim = Simulation.from_config(config, model=model, plasma=plasma)\n",
    "sim.run()"
   ]
  },
  {
   "cell_type": "code",
   "execution_count": 3,
   "metadata": {},
   "outputs": [
    {
     "name": "stderr",
     "output_type": "stream",
     "text": [
      "/Users/archil/Documents/tardis_ayushi/tardis/visualization/widgets/grotrian.py:102: PerformanceWarning:\n",
      "\n",
      "indexing past lexsort depth may impact performance.\n",
      "\n",
      "/Users/archil/Documents/tardis_ayushi/tardis/visualization/widgets/grotrian.py:107: PerformanceWarning:\n",
      "\n",
      "indexing past lexsort depth may impact performance.\n",
      "\n"
     ]
    },
    {
     "data": {
      "application/vnd.jupyter.widget-view+json": {
       "model_id": "c099858df7a2492fb624639703dc078a",
       "version_major": 2,
       "version_minor": 0
      },
      "text/plain": [
       "FigureWidget({\n",
       "    'data': [{'hovertemplate': 'Energy: 19.8 eV<br>Population: 1.96e-01<extra></extra>',\n",
       "              'line': {'color': 'black', 'width': 4.0},\n",
       "              'mode': 'lines',\n",
       "              'showlegend': False,\n",
       "              'type': 'scatter',\n",
       "              'uid': '2c05b058-5543-444c-8a62-0451bebfe505',\n",
       "              'x': array([-0.05      ,  0.07222222,  0.19444444,  0.31666667,  0.43888889,\n",
       "                           0.56111111,  0.68333333,  0.80555556,  0.92777778,  1.05      ]),\n",
       "              'y': array([1., 1., 1., 1., 1., 1., 1., 1., 1., 1.])},\n",
       "             {'hovertemplate': 'Energy: 20.6 eV<br>Population: 2.89e-02<extra></extra>',\n",
       "              'line': {'color': 'black', 'width': 1.0},\n",
       "              'mode': 'lines',\n",
       "              'showlegend': False,\n",
       "              'type': 'scatter',\n",
       "              'uid': '566b2b55-969a-42e0-9144-767bd14e114f',\n",
       "              'x': array([-0.05      ,  0.07222222,  0.19444444,  0.31666667,  0.43888889,\n",
       "                           0.56111111,  0.68333333,  0.80555556,  0.92777778,  1.05      ]),\n",
       "              'y': array([2., 2., 2., 2., 2., 2., 2., 2., 2., 2.])},\n",
       "             {'hovertemplate': 'Energy: 21.0 eV<br>Population: 1.82e-01<extra></extra>',\n",
       "              'line': {'color': 'black', 'width': 3.886147641627425},\n",
       "              'mode': 'lines',\n",
       "              'showlegend': False,\n",
       "              'type': 'scatter',\n",
       "              'uid': '5f3c3ada-594a-4614-9092-6e508294d244',\n",
       "              'x': array([-0.05      ,  0.07222222,  0.19444444,  0.31666667,  0.43888889,\n",
       "                           0.56111111,  0.68333333,  0.80555556,  0.92777778,  1.05      ]),\n",
       "              'y': array([3., 3., 3., 3., 3., 3., 3., 3., 3., 3.])},\n",
       "             {'hovertemplate': 'Energy: 21.2 eV<br>Population: 4.68e-02<extra></extra>',\n",
       "              'line': {'color': 'black', 'width': 1.7562902008221155},\n",
       "              'mode': 'lines',\n",
       "              'showlegend': False,\n",
       "              'type': 'scatter',\n",
       "              'uid': '0b555d90-1dd7-4c3f-b898-c1a758d696ea',\n",
       "              'x': array([-0.05      ,  0.07222222,  0.19444444,  0.31666667,  0.43888889,\n",
       "                           0.56111111,  0.68333333,  0.80555556,  0.92777778,  1.05      ]),\n",
       "              'y': array([4., 4., 4., 4., 4., 4., 4., 4., 4., 4.])},\n",
       "             {'hovertemplate': 'Energy: 22.9 eV<br>Population: 3.28e-02<extra></extra>',\n",
       "              'line': {'color': 'black', 'width': 1.2005525985385797},\n",
       "              'mode': 'lines',\n",
       "              'showlegend': False,\n",
       "              'type': 'scatter',\n",
       "              'uid': '41fb6ae5-e624-4022-bbc2-5689681bd4aa',\n",
       "              'x': array([-0.05      ,  0.07222222,  0.19444444,  0.31666667,  0.43888889,\n",
       "                           0.56111111,  0.68333333,  0.80555556,  0.92777778,  1.05      ]),\n",
       "              'y': array([5., 5., 5., 5., 5., 5., 5., 5., 5., 5.])},\n",
       "             {'hovertemplate': 'Count: 360.0<br>Wavelength: 1.08e+04 Å<extra></extra>',\n",
       "              'line': {'color': '#8d0ba5', 'width': 2.7924749837993907},\n",
       "              'marker': {'angleref': 'previous', 'color': '#8d0ba5', 'size': 9, 'symbol': 'arrow-bar-up'},\n",
       "              'type': 'scatter',\n",
       "              'uid': '374fb98b-a46c-4e07-ae05-889b6098326e',\n",
       "              'x': [0, 0.369961408666242],\n",
       "              'y': [1.0, 3.0]},\n",
       "             {'hovertemplate': 'Count: 38.0<br>Wavelength: 3.89e+03 Å<extra></extra>',\n",
       "              'line': {'color': '#6700a8', 'width': 1.3271955345121476},\n",
       "              'marker': {'angleref': 'previous', 'color': '#6700a8', 'size': 9, 'symbol': 'arrow-bar-up'},\n",
       "              'type': 'scatter',\n",
       "              'uid': '446a5531-460f-4cba-be3e-deaf178d0665',\n",
       "              'x': [0, 1.0],\n",
       "              'y': [1.0, 5.0]},\n",
       "             {'hovertemplate': 'Count: 23.0<br>Wavelength: 7.07e+03 Å<extra></extra>',\n",
       "              'line': {'color': '#7d03a8', 'width': 1.0},\n",
       "              'marker': {'angleref': 'previous', 'color': '#7d03a8', 'size': 9, 'symbol': 'arrow-bar-up'},\n",
       "              'type': 'scatter',\n",
       "              'uid': '6470e8da-aeae-4222-be0c-20a20d3974c7',\n",
       "              'x': [0, 1.0],\n",
       "              'y': [3.0, 5.0]},\n",
       "             {'hovertemplate': 'Count: 495.0<br>Wavelength: 1.08e+04 Å<extra></extra>',\n",
       "              'line': {'color': '#8d0ba5', 'width': 3.0},\n",
       "              'marker': {'angleref': 'previous', 'color': '#8d0ba5', 'size': 9, 'symbol': 'arrow-bar-up'},\n",
       "              'type': 'scatter',\n",
       "              'uid': 'f4ee33bd-6332-4802-8fa2-7d5ad13d7a65',\n",
       "              'x': [0, 0.369961408666242],\n",
       "              'y': [3.0, 1.0]},\n",
       "             {'hovertemplate': 'Count: 42.0<br>Wavelength: 3.89e+03 Å<extra></extra>',\n",
       "              'line': {'color': '#6700a8', 'width': 1.3924163792656352},\n",
       "              'marker': {'angleref': 'previous', 'color': '#6700a8', 'size': 9, 'symbol': 'arrow-bar-up'},\n",
       "              'type': 'scatter',\n",
       "              'uid': '26d90894-50e5-4e80-b3f1-ab4d1dc8057d',\n",
       "              'x': [0, 1.0],\n",
       "              'y': [5.0, 1.0]},\n",
       "             {'hovertemplate': 'Count: 38.0<br>Wavelength: 7.07e+03 Å<extra></extra>',\n",
       "              'line': {'color': '#7d03a8', 'width': 1.3271955345121476},\n",
       "              'marker': {'angleref': 'previous', 'color': '#7d03a8', 'size': 9, 'symbol': 'arrow-bar-up'},\n",
       "              'type': 'scatter',\n",
       "              'uid': '1c780185-b029-4e6e-97ed-3335294834ba',\n",
       "              'x': [0, 1.0],\n",
       "              'y': [5.0, 3.0]},\n",
       "             {'hoverinfo': 'none',\n",
       "              'marker': {'cmax': 7.264242261657182,\n",
       "                         'cmin': 2.7123280699773766,\n",
       "                         'colorbar': {'outlinewidth': 0,\n",
       "                                      'thickness': 5,\n",
       "                                      'ticktext': [5.2e+02, 7.1e+03, 9.7e+04,\n",
       "                                                   1.3e+06, 1.8e+07],\n",
       "                                      'tickvals': array([2.71232807, 3.85030662, 4.98828517, 6.12626371, 7.26424226]),\n",
       "                                      'title': {'text': 'Wavelength (Å)'},\n",
       "                                      'x': 1.2},\n",
       "                         'colorscale': [[0.0, '#0d0887'], [0.1111111111111111,\n",
       "                                        '#46039f'], [0.2222222222222222,\n",
       "                                        '#7201a8'], [0.3333333333333333,\n",
       "                                        '#9c179e'], [0.4444444444444444,\n",
       "                                        '#bd3786'], [0.5555555555555556,\n",
       "                                        '#d8576b'], [0.6666666666666666,\n",
       "                                        '#ed7953'], [0.7777777777777778,\n",
       "                                        '#fb9f3a'], [0.8888888888888888,\n",
       "                                        '#fdca26'], [1.0, '#f0f921']],\n",
       "                         'showscale': True},\n",
       "              'mode': 'markers',\n",
       "              'type': 'scatter',\n",
       "              'uid': 'ae6a0dbc-703e-4078-a09c-cf196465af58',\n",
       "              'x': [None],\n",
       "              'y': [None]}],\n",
       "    'layout': {'annotations': [{'showarrow': False, 'text': '0.0 eV', 'x': 1.1, 'y': 0},\n",
       "                               {'showarrow': False, 'text': '19.8 eV', 'x': 1.15, 'y': 1},\n",
       "                               {'showarrow': False, 'text': '20.6 eV', 'x': 1.15, 'y': 2},\n",
       "                               {'showarrow': False, 'text': '21.0 eV', 'x': 1.15, 'y': 3},\n",
       "                               {'showarrow': False, 'text': '21.2 eV', 'x': 1.15, 'y': 4},\n",
       "                               {'showarrow': False, 'text': '22.9 eV', 'x': 1.15, 'y': 5}],\n",
       "               'autosize': False,\n",
       "               'height': 700,\n",
       "               'plot_bgcolor': 'white',\n",
       "               'showlegend': False,\n",
       "               'template': '...',\n",
       "               'title': {'text': 'Grotrian Diagram for Helium I', 'x': 0.5},\n",
       "               'width': 700,\n",
       "               'xaxis': {'showgrid': False, 'showticklabels': False},\n",
       "               'yaxis': {'range': [0, None], 'showgrid': False, 'title': {'text': 'Level Number'}}}\n",
       "})"
      ]
     },
     "execution_count": 3,
     "metadata": {},
     "output_type": "execute_result"
    }
   ],
   "source": [
    "diag = GrotrianWidget.from_simulation(sim)\n",
    "diag.display()"
   ]
  },
  {
   "cell_type": "code",
   "execution_count": 4,
   "metadata": {},
   "outputs": [
    {
     "data": {
      "application/vnd.jupyter.widget-view+json": {
       "model_id": "f79994fefc934ce39d7365835f416062",
       "version_major": 2,
       "version_minor": 0
      },
      "text/plain": [
       "FigureWidget({\n",
       "    'data': [{'hovertemplate': 'Energy: 0.0 eV<br>Population: 3.97e+01<extra></extra>',\n",
       "              'line': {'color': 'black', 'width': 4.0},\n",
       "              'mode': 'lines',\n",
       "              'showlegend': False,\n",
       "              'type': 'scatter',\n",
       "              'uid': '5487dc5c-e97f-4ed3-b705-4efffda4eb9d',\n",
       "              'x': array([-0.05      ,  0.07222222,  0.19444444,  0.31666667,  0.43888889,\n",
       "                           0.56111111,  0.68333333,  0.80555556,  0.92777778,  1.05      ]),\n",
       "              'y': array([1., 1., 1., 1., 1., 1., 1., 1., 1., 1.])},\n",
       "             {'hovertemplate': 'Energy: 2.0 eV<br>Population: 6.73e+00<extra></extra>',\n",
       "              'line': {'color': 'black', 'width': 3.5388805608331086},\n",
       "              'mode': 'lines',\n",
       "              'showlegend': False,\n",
       "              'type': 'scatter',\n",
       "              'uid': '38d0cf8b-1194-4adf-8b51-d3aaaaa70514',\n",
       "              'x': array([-0.05      ,  0.07222222,  0.19444444,  0.31666667,  0.43888889,\n",
       "                           0.56111111,  0.68333333,  0.80555556,  0.92777778,  1.05      ]),\n",
       "              'y': array([2., 2., 2., 2., 2., 2., 2., 2., 2., 2.])},\n",
       "             {'hovertemplate': 'Energy: 4.2 eV<br>Population: 1.38e-01<extra></extra>',\n",
       "              'line': {'color': 'black', 'width': 2.5277328375747725},\n",
       "              'mode': 'lines',\n",
       "              'showlegend': False,\n",
       "              'type': 'scatter',\n",
       "              'uid': '6542f1b3-58cd-436c-9d93-ce75cb1aaf58',\n",
       "              'x': array([-0.05      ,  0.07222222,  0.19444444,  0.31666667,  0.43888889,\n",
       "                           0.56111111,  0.68333333,  0.80555556,  0.92777778,  1.05      ]),\n",
       "              'y': array([3., 3., 3., 3., 3., 3., 3., 3., 3., 3.])},\n",
       "             {'hovertemplate': 'Energy: 9.1 eV<br>Population: 4.25e-03<extra></extra>',\n",
       "              'line': {'color': 'black', 'width': 1.624110156053765},\n",
       "              'mode': 'lines',\n",
       "              'showlegend': False,\n",
       "              'type': 'scatter',\n",
       "              'uid': 'efa4b8c9-8b1a-41dc-b8b7-0c13feb57b7a',\n",
       "              'x': array([-0.05      ,  0.07222222,  0.19444444,  0.31666667,  0.43888889,\n",
       "                           0.56111111,  0.68333333,  0.80555556,  0.92777778,  1.05      ]),\n",
       "              'y': array([4., 4., 4., 4., 4., 4., 4., 4., 4., 4.])},\n",
       "             {'hovertemplate': 'Energy: 9.5 eV<br>Population: 1.74e-03<extra></extra>',\n",
       "              'line': {'color': 'black', 'width': 1.391281402740513},\n",
       "              'mode': 'lines',\n",
       "              'showlegend': False,\n",
       "              'type': 'scatter',\n",
       "              'uid': '30f0c07a-8099-4763-bd31-75737cb32068',\n",
       "              'x': array([-0.05      ,  0.07222222,  0.19444444,  0.31666667,  0.43888889,\n",
       "                           0.56111111,  0.68333333,  0.80555556,  0.92777778,  1.05      ]),\n",
       "              'y': array([5., 5., 5., 5., 5., 5., 5., 5., 5., 5.])},\n",
       "             {'hovertemplate': 'Energy: 10.7 eV<br>Population: 2.48e-03<extra></extra>',\n",
       "              'line': {'color': 'black', 'width': 1.484442400956719},\n",
       "              'mode': 'lines',\n",
       "              'showlegend': False,\n",
       "              'type': 'scatter',\n",
       "              'uid': 'c61e77a3-8dd9-4eeb-85bf-12bd5e4b46db',\n",
       "              'x': array([-0.05      ,  0.07222222,  0.19444444,  0.31666667,  0.43888889,\n",
       "                           0.56111111,  0.68333333,  0.80555556,  0.92777778,  1.05      ]),\n",
       "              'y': array([6., 6., 6., 6., 6., 6., 6., 6., 6., 6.])},\n",
       "             {'hovertemplate': 'Energy: 11.0 eV<br>Population: 3.85e-04<extra></extra>',\n",
       "              'line': {'color': 'black', 'width': 1.0},\n",
       "              'mode': 'lines',\n",
       "              'showlegend': False,\n",
       "              'type': 'scatter',\n",
       "              'uid': 'ea410a13-d25b-49f5-90ba-ce35bc7e78dc',\n",
       "              'x': array([-0.05      ,  0.07222222,  0.19444444,  0.31666667,  0.43888889,\n",
       "                           0.56111111,  0.68333333,  0.80555556,  0.92777778,  1.05      ]),\n",
       "              'y': array([7., 7., 7., 7., 7., 7., 7., 7., 7., 7.])},\n",
       "             {'hovertemplate': 'Count: 31.0<br>Wavelength: 1.31e+03 Å<extra></extra>',\n",
       "              'line': {'color': '#370499', 'width': 2.9037617551449957},\n",
       "              'marker': {'angleref': 'previous', 'color': '#370499', 'size': 9, 'symbol': 'arrow-bar-up'},\n",
       "              'type': 'scatter',\n",
       "              'uid': '0271cd42-7413-4586-8de7-d634aff077e6',\n",
       "              'x': [0, 0.8661704974083189],\n",
       "              'y': [1.0, 5.0]},\n",
       "             {'hovertemplate': 'Count: 9.0<br>Wavelength: 7.78e+03 Å<extra></extra>',\n",
       "              'line': {'color': '#c33d80', 'width': 1.0},\n",
       "              'marker': {'angleref': 'previous', 'color': '#c33d80', 'size': 9, 'symbol': 'arrow-bar-up'},\n",
       "              'type': 'scatter',\n",
       "              'uid': 'dd749e5d-72c6-440e-913a-03f6aa562926',\n",
       "              'x': [0, 0.86528023167925],\n",
       "              'y': [4.0, 6.0]},\n",
       "             {'hovertemplate': 'Count: 33.0<br>Wavelength: 1.31e+03 Å<extra></extra>',\n",
       "              'line': {'color': '#370499', 'width': 3.0},\n",
       "              'marker': {'angleref': 'previous', 'color': '#370499', 'size': 9, 'symbol': 'arrow-bar-up'},\n",
       "              'type': 'scatter',\n",
       "              'uid': 'b4a3ddf7-8a47-4b07-9713-21074455d1c2',\n",
       "              'x': [0, 0.8661704974083189],\n",
       "              'y': [5.0, 1.0]},\n",
       "             {'hovertemplate': 'Count: 17.0<br>Wavelength: 7.78e+03 Å<extra></extra>',\n",
       "              'line': {'color': '#c33d80', 'width': 1.9789842158915474},\n",
       "              'marker': {'angleref': 'previous', 'color': '#c33d80', 'size': 9, 'symbol': 'arrow-bar-up'},\n",
       "              'type': 'scatter',\n",
       "              'uid': 'fe252542-3875-4dea-b76f-d4ce3d5ff4c6',\n",
       "              'x': [0, 0.86528023167925],\n",
       "              'y': [6.0, 4.0]},\n",
       "             {'hoverinfo': 'none',\n",
       "              'marker': {'cmax': 4.944484063098661,\n",
       "                         'cmin': 2.9636263530774882,\n",
       "                         'colorbar': {'outlinewidth': 0,\n",
       "                                      'thickness': 5,\n",
       "                                      'ticktext': [9.2e+02, 2.9e+03, 9.0e+03,\n",
       "                                                   2.8e+04, 8.8e+04],\n",
       "                                      'tickvals': array([2.96362635, 3.45884078, 3.95405521, 4.44926964, 4.94448406]),\n",
       "                                      'title': {'text': 'Wavelength (Å)'},\n",
       "                                      'x': 1.2},\n",
       "                         'colorscale': [[0.0, '#0d0887'], [0.1111111111111111,\n",
       "                                        '#46039f'], [0.2222222222222222,\n",
       "                                        '#7201a8'], [0.3333333333333333,\n",
       "                                        '#9c179e'], [0.4444444444444444,\n",
       "                                        '#bd3786'], [0.5555555555555556,\n",
       "                                        '#d8576b'], [0.6666666666666666,\n",
       "                                        '#ed7953'], [0.7777777777777778,\n",
       "                                        '#fb9f3a'], [0.8888888888888888,\n",
       "                                        '#fdca26'], [1.0, '#f0f921']],\n",
       "                         'showscale': True},\n",
       "              'mode': 'markers',\n",
       "              'type': 'scatter',\n",
       "              'uid': 'bf1faee0-962b-4995-a330-4a63f2e44765',\n",
       "              'x': [None],\n",
       "              'y': [None]}],\n",
       "    'layout': {'annotations': [{'showarrow': False, 'text': '0.0 eV', 'x': 1.1, 'y': 0},\n",
       "                               {'showarrow': False, 'text': '0.0 eV', 'x': 1.15, 'y': 1},\n",
       "                               {'showarrow': False, 'text': '2.0 eV', 'x': 1.15, 'y': 2},\n",
       "                               {'showarrow': False, 'text': '4.2 eV', 'x': 1.15, 'y': 3},\n",
       "                               {'showarrow': False, 'text': '9.1 eV', 'x': 1.15, 'y': 4},\n",
       "                               {'showarrow': False, 'text': '9.5 eV', 'x': 1.15, 'y': 5},\n",
       "                               {'showarrow': False, 'text': '10.7 eV', 'x': 1.15, 'y': 6},\n",
       "                               {'showarrow': False, 'text': '11.0 eV', 'x': 1.15, 'y': 7}],\n",
       "               'autosize': False,\n",
       "               'height': 700,\n",
       "               'plot_bgcolor': 'white',\n",
       "               'showlegend': False,\n",
       "               'template': '...',\n",
       "               'title': {'text': 'Grotrian Diagram for Oxygen I', 'x': 0.5},\n",
       "               'width': 700,\n",
       "               'xaxis': {'showgrid': False, 'showticklabels': False},\n",
       "               'yaxis': {'range': [0, None], 'showgrid': False, 'title': {'text': 'Level Number'}}}\n",
       "})"
      ]
     },
     "execution_count": 4,
     "metadata": {},
     "output_type": "execute_result"
    }
   ],
   "source": [
    "diag = GrotrianWidget.from_simulation(sim)\n",
    "diag.atomic_number = 8\n",
    "diag.ion_number = 0\n",
    "diag.display()"
   ]
  },
  {
   "cell_type": "code",
   "execution_count": 5,
   "metadata": {},
   "outputs": [],
   "source": [
    "# When number of electrons are very less (see atomic number 16),\n",
    "# then just render an empty Grotrian diagram (or don't show it in options)\n",
    "\n"
   ]
  },
  {
   "cell_type": "code",
   "execution_count": null,
   "metadata": {},
   "outputs": [],
   "source": []
  }
 ],
 "metadata": {
  "kernelspec": {
   "display_name": "Python 3 (ipykernel)",
   "language": "python",
   "name": "python3"
  },
  "language_info": {
   "codemirror_mode": {
    "name": "ipython",
    "version": 3
   },
   "file_extension": ".py",
   "mimetype": "text/x-python",
   "name": "python",
   "nbconvert_exporter": "python",
   "pygments_lexer": "ipython3",
   "version": "3.8.16"
  }
 },
 "nbformat": 4,
 "nbformat_minor": 2
}
