{
 "cells": [
  {
   "cell_type": "code",
   "execution_count": 1,
   "metadata": {},
   "outputs": [
    {
     "data": {
      "application/vnd.jupyter.widget-view+json": {
       "model_id": "",
       "version_major": 2,
       "version_minor": 0
      },
      "text/plain": [
       "Iterations:          0/? [00:00<?, ?it/s]"
      ]
     },
     "metadata": {},
     "output_type": "display_data"
    },
    {
     "data": {
      "application/vnd.jupyter.widget-view+json": {
       "model_id": "",
       "version_major": 2,
       "version_minor": 0
      },
      "text/plain": [
       "Packets:             0/? [00:00<?, ?it/s]"
      ]
     },
     "metadata": {},
     "output_type": "display_data"
    }
   ],
   "source": [
    "import plotly.io as pio\n",
    "pio.renderers.default='notebook'\n",
    "\n",
    "import plotly.graph_objects as go\n",
    "import numpy as np\n",
    "import matplotlib.pyplot as plt\n",
    "from tardis.io.atom_data import AtomData\n",
    "from tardis.io.atom_data.util import download_atom_data\n",
    "from tardis.io.config_internal import get_data_dir\n",
    "import os\n",
    "\n",
    "ATOM_NAME = 'Helium'\n",
    "ATOMIC_NUMBER = 2\n",
    "ION_NUMBER = 0\n",
    "NUM_SHELLS = 5 # Should be input by user\n",
    "\n",
    "# Define energy levels\n",
    "#download_atom_data('kurucz_cd23_chianti_H_He')\n",
    "atom_data = AtomData.from_hdf(os.path.join(get_data_dir(), 'kurucz_cd23_chianti_H_He.h5'))\n",
    "energy_levels = list(atom_data.levels.loc[ATOMIC_NUMBER, ION_NUMBER, 1:NUM_SHELLS+1].energy)\n",
    "\n",
    "# Define dummy values of transitions and number of electrons for each\n",
    "transitions = [(0, 1), (0, 2), (0, 3), (1, 2), (1, 3), (2, 3), (1, 0), (2, 0), (3, 0), (2, 1), (3, 1), (3, 2)]  # transitions\n",
    "transition_electrons = [5, 3, 2, 1, 1, 1, 7, 5, 1, 1, 6, 1]  # Number of electrons in each transition\n",
    "\n",
    "# Compute transition wavelengths from difference in energy levels (converted to wavelength)\n",
    "def eV_to_nm(eV):\n",
    "    return 1240 * eV\n",
    "\n",
    "transition_wavelengths = list(map(lambda jump: eV_to_nm(abs(energy_levels[jump[0]] - energy_levels[jump[1]])),\n",
    "                                  transitions)) # in nm"
   ]
  },
  {
   "cell_type": "code",
   "execution_count": 3,
   "metadata": {},
   "outputs": [
    {
     "data": {
      "text/html": [
       "<div>                            <div id=\"4c76facc-93b4-4129-aca2-eb30d190cbe2\" class=\"plotly-graph-div\" style=\"height:700px; width:700px;\"></div>            <script type=\"text/javascript\">                require([\"plotly\"], function(Plotly) {                    window.PLOTLYENV=window.PLOTLYENV || {};                                    if (document.getElementById(\"4c76facc-93b4-4129-aca2-eb30d190cbe2\")) {                    Plotly.newPlot(                        \"4c76facc-93b4-4129-aca2-eb30d190cbe2\",                        [{\"line\":{\"color\":\"black\"},\"mode\":\"lines+text\",\"showlegend\":false,\"text\":[\"\",\"n=1\"],\"textposition\":\"top right\",\"x\":[0,1],\"y\":[3.175454271468128e-11,3.175454271468128e-11],\"type\":\"scatter\"},{\"line\":{\"color\":\"black\"},\"mode\":\"lines+text\",\"showlegend\":false,\"text\":[\"\",\"n=2\"],\"textposition\":\"top right\",\"x\":[0,1],\"y\":[3.303013170341393e-11,3.303013170341393e-11],\"type\":\"scatter\"},{\"line\":{\"color\":\"black\"},\"mode\":\"lines+text\",\"showlegend\":false,\"text\":[\"\",\"n=3\"],\"textposition\":\"top right\",\"x\":[0,1],\"y\":[3.358818947069852e-11,3.358818947069852e-11],\"type\":\"scatter\"},{\"line\":{\"color\":\"black\"},\"mode\":\"lines+text\",\"showlegend\":false,\"text\":[\"\",\"n=4\"],\"textposition\":\"top right\",\"x\":[0,1],\"y\":[3.358820456768623e-11,3.358820456768623e-11],\"type\":\"scatter\"},{\"line\":{\"color\":\"black\"},\"mode\":\"lines+text\",\"showlegend\":false,\"text\":[\"\",\"n=5\"],\"textposition\":\"top right\",\"x\":[0,1],\"y\":[3.358840082852658e-11,3.358840082852658e-11],\"type\":\"scatter\"},{\"line\":{\"color\":\"black\"},\"mode\":\"lines+text\",\"showlegend\":false,\"text\":[\"\",\"n=6\"],\"textposition\":\"top right\",\"x\":[0,1],\"y\":[3.399503938459557e-11,3.399503938459557e-11],\"type\":\"scatter\"},{\"hoverinfo\":\"name\",\"line\":{\"color\":\"rgb(68, 1, 84, 255)\",\"shape\":\"linear\",\"width\":1.0},\"mode\":\"lines\",\"name\":\"0 nm\",\"x\":[0.6,0.7000000000000001],\"y\":[3.175454271468128e-11,3.303013170341393e-11],\"type\":\"scatter\"},{\"hoverinfo\":\"name\",\"line\":{\"color\":\"rgb(72, 33, 114, 255)\",\"shape\":\"linear\",\"width\":0.6000000000000001},\"mode\":\"lines\",\"name\":\"0 nm\",\"x\":[0.49,0.69],\"y\":[3.175454271468128e-11,3.358818947069852e-11],\"type\":\"scatter\"},{\"hoverinfo\":\"name\",\"line\":{\"color\":\"rgb(66, 61, 132, 255)\",\"shape\":\"linear\",\"width\":0.4},\"mode\":\"lines\",\"name\":\"0 nm\",\"x\":[0.41000000000000003,0.7100000000000001],\"y\":[3.175454271468128e-11,3.358820456768623e-11],\"type\":\"scatter\"},{\"hoverinfo\":\"name\",\"line\":{\"color\":\"rgb(56, 87, 140, 255)\",\"shape\":\"linear\",\"width\":0.2},\"mode\":\"lines\",\"name\":\"0 nm\",\"x\":[0.48000000000000004,0.5800000000000001],\"y\":[3.303013170341393e-11,3.358818947069852e-11],\"type\":\"scatter\"},{\"hoverinfo\":\"name\",\"line\":{\"color\":\"rgb(45, 111, 142, 255)\",\"shape\":\"linear\",\"width\":0.2},\"mode\":\"lines\",\"name\":\"0 nm\",\"x\":[0.43000000000000005,0.63],\"y\":[3.303013170341393e-11,3.358820456768623e-11],\"type\":\"scatter\"},{\"hoverinfo\":\"name\",\"line\":{\"color\":\"rgb(36, 133, 141, 255)\",\"shape\":\"linear\",\"width\":0.2},\"mode\":\"lines\",\"name\":\"0 nm\",\"x\":[0.48000000000000004,0.5800000000000001],\"y\":[3.358818947069852e-11,3.358820456768623e-11],\"type\":\"scatter\"},{\"hoverinfo\":\"name\",\"line\":{\"color\":\"rgb(30, 154, 137, 255)\",\"shape\":\"linear\",\"width\":1.4000000000000001},\"mode\":\"lines\",\"name\":\"0 nm\",\"x\":[0.6599999999999999,0.76],\"y\":[3.303013170341393e-11,3.175454271468128e-11],\"type\":\"scatter\"},{\"hoverinfo\":\"name\",\"line\":{\"color\":\"rgb(42, 176, 126, 255)\",\"shape\":\"linear\",\"width\":1.0},\"mode\":\"lines\",\"name\":\"0 nm\",\"x\":[0.55,0.75],\"y\":[3.358818947069852e-11,3.175454271468128e-11],\"type\":\"scatter\"},{\"hoverinfo\":\"name\",\"line\":{\"color\":\"rgb(81, 196, 104, 255)\",\"shape\":\"linear\",\"width\":0.2},\"mode\":\"lines\",\"name\":\"0 nm\",\"x\":[0.38,0.68],\"y\":[3.358820456768623e-11,3.175454271468128e-11],\"type\":\"scatter\"},{\"hoverinfo\":\"name\",\"line\":{\"color\":\"rgb(134, 212, 73, 255)\",\"shape\":\"linear\",\"width\":0.2},\"mode\":\"lines\",\"name\":\"0 nm\",\"x\":[0.48000000000000004,0.5800000000000001],\"y\":[3.358818947069852e-11,3.303013170341393e-11],\"type\":\"scatter\"},{\"hoverinfo\":\"name\",\"line\":{\"color\":\"rgb(194, 223, 34, 255)\",\"shape\":\"linear\",\"width\":1.2000000000000002},\"mode\":\"lines\",\"name\":\"0 nm\",\"x\":[0.58,0.7799999999999999],\"y\":[3.358820456768623e-11,3.303013170341393e-11],\"type\":\"scatter\"},{\"hoverinfo\":\"name\",\"line\":{\"color\":\"rgb(253, 231, 36, 255)\",\"shape\":\"linear\",\"width\":0.2},\"mode\":\"lines\",\"name\":\"0 nm\",\"x\":[0.48000000000000004,0.5800000000000001],\"y\":[3.358820456768623e-11,3.358818947069852e-11],\"type\":\"scatter\"}],                        {\"template\":{\"data\":{\"histogram2dcontour\":[{\"type\":\"histogram2dcontour\",\"colorbar\":{\"outlinewidth\":0,\"ticks\":\"\"},\"colorscale\":[[0.0,\"#0d0887\"],[0.1111111111111111,\"#46039f\"],[0.2222222222222222,\"#7201a8\"],[0.3333333333333333,\"#9c179e\"],[0.4444444444444444,\"#bd3786\"],[0.5555555555555556,\"#d8576b\"],[0.6666666666666666,\"#ed7953\"],[0.7777777777777778,\"#fb9f3a\"],[0.8888888888888888,\"#fdca26\"],[1.0,\"#f0f921\"]]}],\"choropleth\":[{\"type\":\"choropleth\",\"colorbar\":{\"outlinewidth\":0,\"ticks\":\"\"}}],\"histogram2d\":[{\"type\":\"histogram2d\",\"colorbar\":{\"outlinewidth\":0,\"ticks\":\"\"},\"colorscale\":[[0.0,\"#0d0887\"],[0.1111111111111111,\"#46039f\"],[0.2222222222222222,\"#7201a8\"],[0.3333333333333333,\"#9c179e\"],[0.4444444444444444,\"#bd3786\"],[0.5555555555555556,\"#d8576b\"],[0.6666666666666666,\"#ed7953\"],[0.7777777777777778,\"#fb9f3a\"],[0.8888888888888888,\"#fdca26\"],[1.0,\"#f0f921\"]]}],\"heatmap\":[{\"type\":\"heatmap\",\"colorbar\":{\"outlinewidth\":0,\"ticks\":\"\"},\"colorscale\":[[0.0,\"#0d0887\"],[0.1111111111111111,\"#46039f\"],[0.2222222222222222,\"#7201a8\"],[0.3333333333333333,\"#9c179e\"],[0.4444444444444444,\"#bd3786\"],[0.5555555555555556,\"#d8576b\"],[0.6666666666666666,\"#ed7953\"],[0.7777777777777778,\"#fb9f3a\"],[0.8888888888888888,\"#fdca26\"],[1.0,\"#f0f921\"]]}],\"heatmapgl\":[{\"type\":\"heatmapgl\",\"colorbar\":{\"outlinewidth\":0,\"ticks\":\"\"},\"colorscale\":[[0.0,\"#0d0887\"],[0.1111111111111111,\"#46039f\"],[0.2222222222222222,\"#7201a8\"],[0.3333333333333333,\"#9c179e\"],[0.4444444444444444,\"#bd3786\"],[0.5555555555555556,\"#d8576b\"],[0.6666666666666666,\"#ed7953\"],[0.7777777777777778,\"#fb9f3a\"],[0.8888888888888888,\"#fdca26\"],[1.0,\"#f0f921\"]]}],\"contourcarpet\":[{\"type\":\"contourcarpet\",\"colorbar\":{\"outlinewidth\":0,\"ticks\":\"\"}}],\"contour\":[{\"type\":\"contour\",\"colorbar\":{\"outlinewidth\":0,\"ticks\":\"\"},\"colorscale\":[[0.0,\"#0d0887\"],[0.1111111111111111,\"#46039f\"],[0.2222222222222222,\"#7201a8\"],[0.3333333333333333,\"#9c179e\"],[0.4444444444444444,\"#bd3786\"],[0.5555555555555556,\"#d8576b\"],[0.6666666666666666,\"#ed7953\"],[0.7777777777777778,\"#fb9f3a\"],[0.8888888888888888,\"#fdca26\"],[1.0,\"#f0f921\"]]}],\"surface\":[{\"type\":\"surface\",\"colorbar\":{\"outlinewidth\":0,\"ticks\":\"\"},\"colorscale\":[[0.0,\"#0d0887\"],[0.1111111111111111,\"#46039f\"],[0.2222222222222222,\"#7201a8\"],[0.3333333333333333,\"#9c179e\"],[0.4444444444444444,\"#bd3786\"],[0.5555555555555556,\"#d8576b\"],[0.6666666666666666,\"#ed7953\"],[0.7777777777777778,\"#fb9f3a\"],[0.8888888888888888,\"#fdca26\"],[1.0,\"#f0f921\"]]}],\"mesh3d\":[{\"type\":\"mesh3d\",\"colorbar\":{\"outlinewidth\":0,\"ticks\":\"\"}}],\"scatter\":[{\"fillpattern\":{\"fillmode\":\"overlay\",\"size\":10,\"solidity\":0.2},\"type\":\"scatter\"}],\"parcoords\":[{\"type\":\"parcoords\",\"line\":{\"colorbar\":{\"outlinewidth\":0,\"ticks\":\"\"}}}],\"scatterpolargl\":[{\"type\":\"scatterpolargl\",\"marker\":{\"colorbar\":{\"outlinewidth\":0,\"ticks\":\"\"}}}],\"bar\":[{\"error_x\":{\"color\":\"#2a3f5f\"},\"error_y\":{\"color\":\"#2a3f5f\"},\"marker\":{\"line\":{\"color\":\"#E5ECF6\",\"width\":0.5},\"pattern\":{\"fillmode\":\"overlay\",\"size\":10,\"solidity\":0.2}},\"type\":\"bar\"}],\"scattergeo\":[{\"type\":\"scattergeo\",\"marker\":{\"colorbar\":{\"outlinewidth\":0,\"ticks\":\"\"}}}],\"scatterpolar\":[{\"type\":\"scatterpolar\",\"marker\":{\"colorbar\":{\"outlinewidth\":0,\"ticks\":\"\"}}}],\"histogram\":[{\"marker\":{\"pattern\":{\"fillmode\":\"overlay\",\"size\":10,\"solidity\":0.2}},\"type\":\"histogram\"}],\"scattergl\":[{\"type\":\"scattergl\",\"marker\":{\"colorbar\":{\"outlinewidth\":0,\"ticks\":\"\"}}}],\"scatter3d\":[{\"type\":\"scatter3d\",\"line\":{\"colorbar\":{\"outlinewidth\":0,\"ticks\":\"\"}},\"marker\":{\"colorbar\":{\"outlinewidth\":0,\"ticks\":\"\"}}}],\"scattermapbox\":[{\"type\":\"scattermapbox\",\"marker\":{\"colorbar\":{\"outlinewidth\":0,\"ticks\":\"\"}}}],\"scatterternary\":[{\"type\":\"scatterternary\",\"marker\":{\"colorbar\":{\"outlinewidth\":0,\"ticks\":\"\"}}}],\"scattercarpet\":[{\"type\":\"scattercarpet\",\"marker\":{\"colorbar\":{\"outlinewidth\":0,\"ticks\":\"\"}}}],\"carpet\":[{\"aaxis\":{\"endlinecolor\":\"#2a3f5f\",\"gridcolor\":\"white\",\"linecolor\":\"white\",\"minorgridcolor\":\"white\",\"startlinecolor\":\"#2a3f5f\"},\"baxis\":{\"endlinecolor\":\"#2a3f5f\",\"gridcolor\":\"white\",\"linecolor\":\"white\",\"minorgridcolor\":\"white\",\"startlinecolor\":\"#2a3f5f\"},\"type\":\"carpet\"}],\"table\":[{\"cells\":{\"fill\":{\"color\":\"#EBF0F8\"},\"line\":{\"color\":\"white\"}},\"header\":{\"fill\":{\"color\":\"#C8D4E3\"},\"line\":{\"color\":\"white\"}},\"type\":\"table\"}],\"barpolar\":[{\"marker\":{\"line\":{\"color\":\"#E5ECF6\",\"width\":0.5},\"pattern\":{\"fillmode\":\"overlay\",\"size\":10,\"solidity\":0.2}},\"type\":\"barpolar\"}],\"pie\":[{\"automargin\":true,\"type\":\"pie\"}]},\"layout\":{\"autotypenumbers\":\"strict\",\"colorway\":[\"#636efa\",\"#EF553B\",\"#00cc96\",\"#ab63fa\",\"#FFA15A\",\"#19d3f3\",\"#FF6692\",\"#B6E880\",\"#FF97FF\",\"#FECB52\"],\"font\":{\"color\":\"#2a3f5f\"},\"hovermode\":\"closest\",\"hoverlabel\":{\"align\":\"left\"},\"paper_bgcolor\":\"white\",\"plot_bgcolor\":\"#E5ECF6\",\"polar\":{\"bgcolor\":\"#E5ECF6\",\"angularaxis\":{\"gridcolor\":\"white\",\"linecolor\":\"white\",\"ticks\":\"\"},\"radialaxis\":{\"gridcolor\":\"white\",\"linecolor\":\"white\",\"ticks\":\"\"}},\"ternary\":{\"bgcolor\":\"#E5ECF6\",\"aaxis\":{\"gridcolor\":\"white\",\"linecolor\":\"white\",\"ticks\":\"\"},\"baxis\":{\"gridcolor\":\"white\",\"linecolor\":\"white\",\"ticks\":\"\"},\"caxis\":{\"gridcolor\":\"white\",\"linecolor\":\"white\",\"ticks\":\"\"}},\"coloraxis\":{\"colorbar\":{\"outlinewidth\":0,\"ticks\":\"\"}},\"colorscale\":{\"sequential\":[[0.0,\"#0d0887\"],[0.1111111111111111,\"#46039f\"],[0.2222222222222222,\"#7201a8\"],[0.3333333333333333,\"#9c179e\"],[0.4444444444444444,\"#bd3786\"],[0.5555555555555556,\"#d8576b\"],[0.6666666666666666,\"#ed7953\"],[0.7777777777777778,\"#fb9f3a\"],[0.8888888888888888,\"#fdca26\"],[1.0,\"#f0f921\"]],\"sequentialminus\":[[0.0,\"#0d0887\"],[0.1111111111111111,\"#46039f\"],[0.2222222222222222,\"#7201a8\"],[0.3333333333333333,\"#9c179e\"],[0.4444444444444444,\"#bd3786\"],[0.5555555555555556,\"#d8576b\"],[0.6666666666666666,\"#ed7953\"],[0.7777777777777778,\"#fb9f3a\"],[0.8888888888888888,\"#fdca26\"],[1.0,\"#f0f921\"]],\"diverging\":[[0,\"#8e0152\"],[0.1,\"#c51b7d\"],[0.2,\"#de77ae\"],[0.3,\"#f1b6da\"],[0.4,\"#fde0ef\"],[0.5,\"#f7f7f7\"],[0.6,\"#e6f5d0\"],[0.7,\"#b8e186\"],[0.8,\"#7fbc41\"],[0.9,\"#4d9221\"],[1,\"#276419\"]]},\"xaxis\":{\"gridcolor\":\"white\",\"linecolor\":\"white\",\"ticks\":\"\",\"title\":{\"standoff\":15},\"zerolinecolor\":\"white\",\"automargin\":true,\"zerolinewidth\":2},\"yaxis\":{\"gridcolor\":\"white\",\"linecolor\":\"white\",\"ticks\":\"\",\"title\":{\"standoff\":15},\"zerolinecolor\":\"white\",\"automargin\":true,\"zerolinewidth\":2},\"scene\":{\"xaxis\":{\"backgroundcolor\":\"#E5ECF6\",\"gridcolor\":\"white\",\"linecolor\":\"white\",\"showbackground\":true,\"ticks\":\"\",\"zerolinecolor\":\"white\",\"gridwidth\":2},\"yaxis\":{\"backgroundcolor\":\"#E5ECF6\",\"gridcolor\":\"white\",\"linecolor\":\"white\",\"showbackground\":true,\"ticks\":\"\",\"zerolinecolor\":\"white\",\"gridwidth\":2},\"zaxis\":{\"backgroundcolor\":\"#E5ECF6\",\"gridcolor\":\"white\",\"linecolor\":\"white\",\"showbackground\":true,\"ticks\":\"\",\"zerolinecolor\":\"white\",\"gridwidth\":2}},\"shapedefaults\":{\"line\":{\"color\":\"#2a3f5f\"}},\"annotationdefaults\":{\"arrowcolor\":\"#2a3f5f\",\"arrowhead\":0,\"arrowwidth\":1},\"geo\":{\"bgcolor\":\"white\",\"landcolor\":\"#E5ECF6\",\"subunitcolor\":\"white\",\"showland\":true,\"showlakes\":true,\"lakecolor\":\"white\"},\"title\":{\"x\":0.05},\"mapbox\":{\"style\":\"light\"}}},\"annotations\":[{\"arrowcolor\":\"rgb(68, 1, 84, 255)\",\"arrowhead\":2,\"arrowsize\":2,\"arrowwidth\":1.0,\"ax\":0.7000000000000001,\"axref\":\"x\",\"ay\":3.303013170341393e-11,\"ayref\":\"y\",\"showarrow\":true,\"x\":0.6,\"xref\":\"x\",\"y\":3.175454271468128e-11,\"yref\":\"y\"},{\"arrowcolor\":\"rgb(72, 33, 114, 255)\",\"arrowhead\":2,\"arrowsize\":2,\"arrowwidth\":0.6000000000000001,\"ax\":0.69,\"axref\":\"x\",\"ay\":3.358818947069852e-11,\"ayref\":\"y\",\"showarrow\":true,\"x\":0.49,\"xref\":\"x\",\"y\":3.175454271468128e-11,\"yref\":\"y\"},{\"arrowcolor\":\"rgb(66, 61, 132, 255)\",\"arrowhead\":2,\"arrowsize\":2,\"arrowwidth\":0.4,\"ax\":0.7100000000000001,\"axref\":\"x\",\"ay\":3.358820456768623e-11,\"ayref\":\"y\",\"showarrow\":true,\"x\":0.41000000000000003,\"xref\":\"x\",\"y\":3.175454271468128e-11,\"yref\":\"y\"},{\"arrowcolor\":\"rgb(56, 87, 140, 255)\",\"arrowhead\":2,\"arrowsize\":2,\"arrowwidth\":0.2,\"ax\":0.5800000000000001,\"axref\":\"x\",\"ay\":3.358818947069852e-11,\"ayref\":\"y\",\"showarrow\":true,\"x\":0.48000000000000004,\"xref\":\"x\",\"y\":3.303013170341393e-11,\"yref\":\"y\"},{\"arrowcolor\":\"rgb(45, 111, 142, 255)\",\"arrowhead\":2,\"arrowsize\":2,\"arrowwidth\":0.2,\"ax\":0.63,\"axref\":\"x\",\"ay\":3.358820456768623e-11,\"ayref\":\"y\",\"showarrow\":true,\"x\":0.43000000000000005,\"xref\":\"x\",\"y\":3.303013170341393e-11,\"yref\":\"y\"},{\"arrowcolor\":\"rgb(36, 133, 141, 255)\",\"arrowhead\":2,\"arrowsize\":2,\"arrowwidth\":0.2,\"ax\":0.5800000000000001,\"axref\":\"x\",\"ay\":3.358820456768623e-11,\"ayref\":\"y\",\"showarrow\":true,\"x\":0.48000000000000004,\"xref\":\"x\",\"y\":3.358818947069852e-11,\"yref\":\"y\"},{\"arrowcolor\":\"rgb(30, 154, 137, 255)\",\"arrowhead\":2,\"arrowsize\":2,\"arrowwidth\":1.4000000000000001,\"ax\":0.76,\"axref\":\"x\",\"ay\":3.175454271468128e-11,\"ayref\":\"y\",\"showarrow\":true,\"x\":0.6599999999999999,\"xref\":\"x\",\"y\":3.303013170341393e-11,\"yref\":\"y\"},{\"arrowcolor\":\"rgb(42, 176, 126, 255)\",\"arrowhead\":2,\"arrowsize\":2,\"arrowwidth\":1.0,\"ax\":0.75,\"axref\":\"x\",\"ay\":3.175454271468128e-11,\"ayref\":\"y\",\"showarrow\":true,\"x\":0.55,\"xref\":\"x\",\"y\":3.358818947069852e-11,\"yref\":\"y\"},{\"arrowcolor\":\"rgb(81, 196, 104, 255)\",\"arrowhead\":2,\"arrowsize\":2,\"arrowwidth\":0.2,\"ax\":0.68,\"axref\":\"x\",\"ay\":3.175454271468128e-11,\"ayref\":\"y\",\"showarrow\":true,\"x\":0.38,\"xref\":\"x\",\"y\":3.358820456768623e-11,\"yref\":\"y\"},{\"arrowcolor\":\"rgb(134, 212, 73, 255)\",\"arrowhead\":2,\"arrowsize\":2,\"arrowwidth\":0.2,\"ax\":0.5800000000000001,\"axref\":\"x\",\"ay\":3.303013170341393e-11,\"ayref\":\"y\",\"showarrow\":true,\"x\":0.48000000000000004,\"xref\":\"x\",\"y\":3.358818947069852e-11,\"yref\":\"y\"},{\"arrowcolor\":\"rgb(194, 223, 34, 255)\",\"arrowhead\":2,\"arrowsize\":2,\"arrowwidth\":1.2000000000000002,\"ax\":0.7799999999999999,\"axref\":\"x\",\"ay\":3.303013170341393e-11,\"ayref\":\"y\",\"showarrow\":true,\"x\":0.58,\"xref\":\"x\",\"y\":3.358820456768623e-11,\"yref\":\"y\"},{\"arrowcolor\":\"rgb(253, 231, 36, 255)\",\"arrowhead\":2,\"arrowsize\":2,\"arrowwidth\":0.2,\"ax\":0.5800000000000001,\"axref\":\"x\",\"ay\":3.358818947069852e-11,\"ayref\":\"y\",\"showarrow\":true,\"x\":0.48000000000000004,\"xref\":\"x\",\"y\":3.358820456768623e-11,\"yref\":\"y\"}],\"title\":{\"text\":\"Grotrian Diagram for Helium\",\"x\":0.5},\"xaxis\":{\"showticklabels\":false,\"showgrid\":false},\"yaxis\":{\"title\":{\"text\":\"Energy Level (eV)\"},\"showgrid\":false},\"plot_bgcolor\":\"white\",\"autosize\":false,\"width\":700,\"height\":700},                        {\"responsive\": true}                    ).then(function(){\n",
       "                            \n",
       "var gd = document.getElementById('4c76facc-93b4-4129-aca2-eb30d190cbe2');\n",
       "var x = new MutationObserver(function (mutations, observer) {{\n",
       "        var display = window.getComputedStyle(gd).display;\n",
       "        if (!display || display === 'none') {{\n",
       "            console.log([gd, 'removed!']);\n",
       "            Plotly.purge(gd);\n",
       "            observer.disconnect();\n",
       "        }}\n",
       "}});\n",
       "\n",
       "// Listen for the removal of the full notebook cells\n",
       "var notebookContainer = gd.closest('#notebook-container');\n",
       "if (notebookContainer) {{\n",
       "    x.observe(notebookContainer, {childList: true});\n",
       "}}\n",
       "\n",
       "// Listen for the clearing of the current output cell\n",
       "var outputEl = gd.closest('.output');\n",
       "if (outputEl) {{\n",
       "    x.observe(outputEl, {childList: true});\n",
       "}}\n",
       "\n",
       "                        })                };                });            </script>        </div>"
      ]
     },
     "metadata": {},
     "output_type": "display_data"
    }
   ],
   "source": [
    "# Define colors for the transitions based on wavelengths\n",
    "cmap = plt.get_cmap('viridis')\n",
    "colors = cmap(np.linspace(0, 1, len(transition_wavelengths)))\n",
    "\n",
    "fig = go.Figure()\n",
    "\n",
    "# Plot energy levels\n",
    "for i, energy in enumerate(energy_levels):\n",
    "    fig.add_trace(go.Scatter(\n",
    "        x=[0, 1],\n",
    "        y=[energy, energy],\n",
    "        mode='lines+text',\n",
    "        text=['', f'n={i+1}'], textposition='top right',\n",
    "        line=dict(color='black'),\n",
    "        showlegend=False))\n",
    "\n",
    "# Transition offset for avoiding overlap of transitions\n",
    "transition_offset = 0.03  # Horizontal offset for transitions\n",
    "slant = 0.05  # Horizontal offset for slanting\n",
    "\n",
    "# Plot transitions\n",
    "for i, transition in enumerate(transitions):\n",
    "    start, end = transition\n",
    "    x_offset = transition_electrons[i] * transition_offset  # Apply offset to x position\n",
    "    slant_offset = abs(end-start) * slant  # Apply slant to x position\n",
    "\n",
    "    fig.add_trace(go.Scatter(\n",
    "    x=[0.5 + x_offset - slant_offset, 0.5 + x_offset + slant_offset],  # Apply slant offset\n",
    "    y=[energy_levels[start], energy_levels[end]],  # Actual energy level values\n",
    "    mode='lines',\n",
    "    line=dict(color='rgb'+str(tuple((colors[i]*255).astype(int))), width=transition_electrons[i]*0.2),  # Adjust width accordingly\n",
    "    name=f'{int(transition_wavelengths[i])} nm',\n",
    "    hoverinfo='name',\n",
    "    line_shape='linear'))\n",
    "\n",
    "    # Add arrow\n",
    "    fig.add_annotation(\n",
    "        x=0.5 + x_offset - slant_offset, y=energy_levels[start],  # Start of arrow\n",
    "        ax=0.5 + x_offset + slant_offset, ay=energy_levels[end],  # End of arrow\n",
    "        xref='x', yref='y',\n",
    "        axref='x', ayref='y',\n",
    "        showarrow=True,\n",
    "        arrowhead=2,  # Arrow style\n",
    "        arrowsize=2,  # Make the arrowhead 2 times bigger\n",
    "        arrowwidth=transition_electrons[i]*0.2,  # Adjust width accordingly\n",
    "        arrowcolor='rgb'+str(tuple((colors[i]*255).astype(int))))\n",
    "\n",
    "fig.update_layout(\n",
    "    title=f\"Grotrian Diagram for {ATOM_NAME}\",\n",
    "    title_x=0.5,\n",
    "    yaxis_title=\"Energy Level (eV)\",\n",
    "    plot_bgcolor='white',\n",
    "    autosize=False,\n",
    "    width=700,\n",
    "    height=700,\n",
    "    xaxis=dict(showticklabels=False, showgrid=False,),  # Hide x-axis labels\n",
    "    yaxis=dict(showgrid=False,)  # Adjust y-axis range accordingly\n",
    ")\n",
    "\n",
    "\n",
    "fig.show()"
   ]
  },
  {
   "cell_type": "code",
   "execution_count": 6,
   "metadata": {},
   "outputs": [
    {
     "data": {
      "text/plain": [
       "atomic_number  ion_number  level_number\n",
       "2              0           1               3.175454e-11\n",
       "                           2               3.303013e-11\n",
       "                           3               3.358819e-11\n",
       "                           4               3.358820e-11\n",
       "                           5               3.358840e-11\n",
       "                           6               3.399504e-11\n",
       "Name: energy, dtype: float64"
      ]
     },
     "execution_count": 6,
     "metadata": {},
     "output_type": "execute_result"
    }
   ],
   "source": [
    "atom_data.levels.loc[ATOMIC_NUMBER, ION_NUMBER, 1:NUM_SHELLS+1].energy"
   ]
  },
  {
   "cell_type": "code",
   "execution_count": null,
   "metadata": {},
   "outputs": [],
   "source": []
  }
 ],
 "metadata": {
  "kernelspec": {
   "display_name": "Python 3 (ipykernel)",
   "language": "python",
   "name": "python3"
  },
  "language_info": {
   "codemirror_mode": {
    "name": "ipython",
    "version": 3
   },
   "file_extension": ".py",
   "mimetype": "text/x-python",
   "name": "python",
   "nbconvert_exporter": "python",
   "pygments_lexer": "ipython3",
   "version": "3.8.16"
  }
 },
 "nbformat": 4,
 "nbformat_minor": 2
}
