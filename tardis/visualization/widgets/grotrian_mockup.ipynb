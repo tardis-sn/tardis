{
 "cells": [
  {
   "cell_type": "code",
   "execution_count": 1,
   "metadata": {},
   "outputs": [
    {
     "data": {
      "application/vnd.jupyter.widget-view+json": {
       "model_id": "",
       "version_major": 2,
       "version_minor": 0
      },
      "text/plain": [
       "Iterations:          0/? [00:00<?, ?it/s]"
      ]
     },
     "metadata": {},
     "output_type": "display_data"
    },
    {
     "data": {
      "application/vnd.jupyter.widget-view+json": {
       "model_id": "",
       "version_major": 2,
       "version_minor": 0
      },
      "text/plain": [
       "Packets:             0/? [00:00<?, ?it/s]"
      ]
     },
     "metadata": {},
     "output_type": "display_data"
    },
    {
     "data": {
      "text/html": [
       "        <script type=\"text/javascript\">\n",
       "        window.PlotlyConfig = {MathJaxConfig: 'local'};\n",
       "        if (window.MathJax && window.MathJax.Hub && window.MathJax.Hub.Config) {window.MathJax.Hub.Config({SVG: {font: \"STIX-Web\"}});}\n",
       "        if (typeof require !== 'undefined') {\n",
       "        require.undef(\"plotly\");\n",
       "        requirejs.config({\n",
       "            paths: {\n",
       "                'plotly': ['https://cdn.plot.ly/plotly-2.18.0.min']\n",
       "            }\n",
       "        });\n",
       "        require(['plotly'], function(Plotly) {\n",
       "            window._Plotly = Plotly;\n",
       "        });\n",
       "        }\n",
       "        </script>\n",
       "        "
      ]
     },
     "metadata": {},
     "output_type": "display_data"
    }
   ],
   "source": [
    "from tardis.io.config_reader import Configuration\n",
    "from tardis.simulation import Simulation\n",
    "from tardis.plasma.standard_plasmas import assemble_plasma\n",
    "from tardis.model import Radial1DModel\n",
    "from tardis.io.atom_data import AtomData\n",
    "from tardis.visualization.widgets.grotrian import GrotrianWidget\n",
    "from tardis.io.config_internal import get_data_dir\n",
    "from plotly.offline import init_notebook_mode\n",
    "init_notebook_mode(connected=True)\n",
    "import os"
   ]
  },
  {
   "cell_type": "code",
   "execution_count": 2,
   "metadata": {},
   "outputs": [
    {
     "name": "stderr",
     "output_type": "stream",
     "text": [
      "Abundances have not been normalized to 1. - normalizing\n",
      "Zeta_data missing - replaced with 1s. Missing ions: [(12, 13), (14, 15), (16, 17), (18, 19), (20, 21)]\n",
      "/Users/archil/Documents/tardis_ayushi/tardis/plasma/properties/radiative_properties.py:93: RuntimeWarning:\n",
      "\n",
      "divide by zero encountered in true_divide\n",
      "\n",
      "/Users/archil/Documents/tardis_ayushi/tardis/plasma/properties/radiative_properties.py:93: RuntimeWarning:\n",
      "\n",
      "invalid value encountered in true_divide\n",
      "\n",
      "OMP: Info #276: omp_set_nested routine deprecated, please use omp_set_max_active_levels instead.\n",
      "Zeta_data missing - replaced with 1s. Missing ions: [(12, 13), (14, 15), (16, 17), (18, 19), (20, 21)]\n",
      "/Users/archil/Documents/tardis_ayushi/tardis/plasma/properties/radiative_properties.py:93: RuntimeWarning:\n",
      "\n",
      "divide by zero encountered in true_divide\n",
      "\n",
      "/Users/archil/Documents/tardis_ayushi/tardis/plasma/properties/radiative_properties.py:93: RuntimeWarning:\n",
      "\n",
      "invalid value encountered in true_divide\n",
      "\n"
     ]
    },
    {
     "data": {
      "application/vnd.jupyter.widget-view+json": {
       "model_id": "e63aa26d3a004825acedb10d0a190a58",
       "version_major": 2,
       "version_minor": 0
      },
      "text/plain": [
       "TqdmHBox(children=(HTML(value='Iterations:', layout=Layout(width='6%')), FloatProgress(value=0.0, layout=Layou…"
      ]
     },
     "metadata": {},
     "output_type": "display_data"
    },
    {
     "data": {
      "application/vnd.jupyter.widget-view+json": {
       "model_id": "99322dbc443c4c209fcab51d3c0cea77",
       "version_major": 2,
       "version_minor": 0
      },
      "text/plain": [
       "TqdmHBox(children=(HTML(value='Packets:   ', layout=Layout(width='6%')), FloatProgress(value=0.0, layout=Layou…"
      ]
     },
     "metadata": {},
     "output_type": "display_data"
    },
    {
     "data": {
      "text/html": [
       "<style  type=\"text/css\" >\n",
       "</style><table id=\"T_db72d79a_0bcb_11ee_a0b6_12e413fbf88c\" ><thead>    <tr>        <th class=\"index_name level0\" >Shell No.</th>        <th class=\"col_heading level0 col0\" >t_rad</th>        <th class=\"col_heading level0 col1\" >next_t_rad</th>        <th class=\"col_heading level0 col2\" >w</th>        <th class=\"col_heading level0 col3\" >next_w</th>    </tr></thead><tbody>\n",
       "                <tr>\n",
       "                        <th id=\"T_db72d79a_0bcb_11ee_a0b6_12e413fbf88clevel0_row0\" class=\"row_heading level0 row0\" >0</th>\n",
       "                        <td id=\"T_db72d79a_0bcb_11ee_a0b6_12e413fbf88crow0_col0\" class=\"data row0 col0\" >9.93e+03</td>\n",
       "                        <td id=\"T_db72d79a_0bcb_11ee_a0b6_12e413fbf88crow0_col1\" class=\"data row0 col1\" >1.01e+04</td>\n",
       "                        <td id=\"T_db72d79a_0bcb_11ee_a0b6_12e413fbf88crow0_col2\" class=\"data row0 col2\" >0.4</td>\n",
       "                        <td id=\"T_db72d79a_0bcb_11ee_a0b6_12e413fbf88crow0_col3\" class=\"data row0 col3\" >0.525</td>\n",
       "            </tr>\n",
       "            <tr>\n",
       "                        <th id=\"T_db72d79a_0bcb_11ee_a0b6_12e413fbf88clevel0_row1\" class=\"row_heading level0 row1\" >5</th>\n",
       "                        <td id=\"T_db72d79a_0bcb_11ee_a0b6_12e413fbf88crow1_col0\" class=\"data row1 col0\" >9.85e+03</td>\n",
       "                        <td id=\"T_db72d79a_0bcb_11ee_a0b6_12e413fbf88crow1_col1\" class=\"data row1 col1\" >1.03e+04</td>\n",
       "                        <td id=\"T_db72d79a_0bcb_11ee_a0b6_12e413fbf88crow1_col2\" class=\"data row1 col2\" >0.211</td>\n",
       "                        <td id=\"T_db72d79a_0bcb_11ee_a0b6_12e413fbf88crow1_col3\" class=\"data row1 col3\" >0.196</td>\n",
       "            </tr>\n",
       "            <tr>\n",
       "                        <th id=\"T_db72d79a_0bcb_11ee_a0b6_12e413fbf88clevel0_row2\" class=\"row_heading level0 row2\" >10</th>\n",
       "                        <td id=\"T_db72d79a_0bcb_11ee_a0b6_12e413fbf88crow2_col0\" class=\"data row2 col0\" >9.78e+03</td>\n",
       "                        <td id=\"T_db72d79a_0bcb_11ee_a0b6_12e413fbf88crow2_col1\" class=\"data row2 col1\" >1.02e+04</td>\n",
       "                        <td id=\"T_db72d79a_0bcb_11ee_a0b6_12e413fbf88crow2_col2\" class=\"data row2 col2\" >0.143</td>\n",
       "                        <td id=\"T_db72d79a_0bcb_11ee_a0b6_12e413fbf88crow2_col3\" class=\"data row2 col3\" >0.115</td>\n",
       "            </tr>\n",
       "            <tr>\n",
       "                        <th id=\"T_db72d79a_0bcb_11ee_a0b6_12e413fbf88clevel0_row3\" class=\"row_heading level0 row3\" >15</th>\n",
       "                        <td id=\"T_db72d79a_0bcb_11ee_a0b6_12e413fbf88crow3_col0\" class=\"data row3 col0\" >9.71e+03</td>\n",
       "                        <td id=\"T_db72d79a_0bcb_11ee_a0b6_12e413fbf88crow3_col1\" class=\"data row3 col1\" >9.88e+03</td>\n",
       "                        <td id=\"T_db72d79a_0bcb_11ee_a0b6_12e413fbf88crow3_col2\" class=\"data row3 col2\" >0.105</td>\n",
       "                        <td id=\"T_db72d79a_0bcb_11ee_a0b6_12e413fbf88crow3_col3\" class=\"data row3 col3\" >0.0843</td>\n",
       "            </tr>\n",
       "    </tbody></table>"
      ],
      "text/plain": [
       "<pandas.io.formats.style.Styler at 0x7feb803552b0>"
      ]
     },
     "metadata": {},
     "output_type": "display_data"
    },
    {
     "name": "stderr",
     "output_type": "stream",
     "text": [
      "/Users/archil/Documents/tardis_ayushi/tardis/plasma/properties/radiative_properties.py:93: RuntimeWarning:\n",
      "\n",
      "divide by zero encountered in true_divide\n",
      "\n",
      "/Users/archil/Documents/tardis_ayushi/tardis/plasma/properties/radiative_properties.py:93: RuntimeWarning:\n",
      "\n",
      "invalid value encountered in true_divide\n",
      "\n"
     ]
    },
    {
     "data": {
      "application/vnd.jupyter.widget-view+json": {
       "model_id": "14e2ba54c97b4e0b81274773bd323afc",
       "version_major": 2,
       "version_minor": 0
      },
      "text/plain": [
       "VBox(children=(FigureWidget({\n",
       "    'data': [{'type': 'scatter', 'uid': 'cf4a960e-6eae-4586-a8ab-4c67b798f1ac', …"
      ]
     },
     "metadata": {},
     "output_type": "display_data"
    },
    {
     "data": {
      "text/html": [
       "<style  type=\"text/css\" >\n",
       "</style><table id=\"T_dc25bc7a_0bcb_11ee_a0b6_12e413fbf88c\" ><thead>    <tr>        <th class=\"index_name level0\" >Shell No.</th>        <th class=\"col_heading level0 col0\" >t_rad</th>        <th class=\"col_heading level0 col1\" >next_t_rad</th>        <th class=\"col_heading level0 col2\" >w</th>        <th class=\"col_heading level0 col3\" >next_w</th>    </tr></thead><tbody>\n",
       "                <tr>\n",
       "                        <th id=\"T_dc25bc7a_0bcb_11ee_a0b6_12e413fbf88clevel0_row0\" class=\"row_heading level0 row0\" >0</th>\n",
       "                        <td id=\"T_dc25bc7a_0bcb_11ee_a0b6_12e413fbf88crow0_col0\" class=\"data row0 col0\" >1.01e+04</td>\n",
       "                        <td id=\"T_dc25bc7a_0bcb_11ee_a0b6_12e413fbf88crow0_col1\" class=\"data row0 col1\" >1.1e+04</td>\n",
       "                        <td id=\"T_dc25bc7a_0bcb_11ee_a0b6_12e413fbf88crow0_col2\" class=\"data row0 col2\" >0.525</td>\n",
       "                        <td id=\"T_dc25bc7a_0bcb_11ee_a0b6_12e413fbf88crow0_col3\" class=\"data row0 col3\" >0.544</td>\n",
       "            </tr>\n",
       "            <tr>\n",
       "                        <th id=\"T_dc25bc7a_0bcb_11ee_a0b6_12e413fbf88clevel0_row1\" class=\"row_heading level0 row1\" >5</th>\n",
       "                        <td id=\"T_dc25bc7a_0bcb_11ee_a0b6_12e413fbf88crow1_col0\" class=\"data row1 col0\" >1.03e+04</td>\n",
       "                        <td id=\"T_dc25bc7a_0bcb_11ee_a0b6_12e413fbf88crow1_col1\" class=\"data row1 col1\" >1.11e+04</td>\n",
       "                        <td id=\"T_dc25bc7a_0bcb_11ee_a0b6_12e413fbf88crow1_col2\" class=\"data row1 col2\" >0.196</td>\n",
       "                        <td id=\"T_dc25bc7a_0bcb_11ee_a0b6_12e413fbf88crow1_col3\" class=\"data row1 col3\" >0.204</td>\n",
       "            </tr>\n",
       "            <tr>\n",
       "                        <th id=\"T_dc25bc7a_0bcb_11ee_a0b6_12e413fbf88clevel0_row2\" class=\"row_heading level0 row2\" >10</th>\n",
       "                        <td id=\"T_dc25bc7a_0bcb_11ee_a0b6_12e413fbf88crow2_col0\" class=\"data row2 col0\" >1.02e+04</td>\n",
       "                        <td id=\"T_dc25bc7a_0bcb_11ee_a0b6_12e413fbf88crow2_col1\" class=\"data row2 col1\" >1.08e+04</td>\n",
       "                        <td id=\"T_dc25bc7a_0bcb_11ee_a0b6_12e413fbf88crow2_col2\" class=\"data row2 col2\" >0.115</td>\n",
       "                        <td id=\"T_dc25bc7a_0bcb_11ee_a0b6_12e413fbf88crow2_col3\" class=\"data row2 col3\" >0.125</td>\n",
       "            </tr>\n",
       "            <tr>\n",
       "                        <th id=\"T_dc25bc7a_0bcb_11ee_a0b6_12e413fbf88clevel0_row3\" class=\"row_heading level0 row3\" >15</th>\n",
       "                        <td id=\"T_dc25bc7a_0bcb_11ee_a0b6_12e413fbf88crow3_col0\" class=\"data row3 col0\" >9.88e+03</td>\n",
       "                        <td id=\"T_dc25bc7a_0bcb_11ee_a0b6_12e413fbf88crow3_col1\" class=\"data row3 col1\" >1.06e+04</td>\n",
       "                        <td id=\"T_dc25bc7a_0bcb_11ee_a0b6_12e413fbf88crow3_col2\" class=\"data row3 col2\" >0.0843</td>\n",
       "                        <td id=\"T_dc25bc7a_0bcb_11ee_a0b6_12e413fbf88crow3_col3\" class=\"data row3 col3\" >0.0914</td>\n",
       "            </tr>\n",
       "    </tbody></table>"
      ],
      "text/plain": [
       "<pandas.io.formats.style.Styler at 0x7feb81491070>"
      ]
     },
     "metadata": {},
     "output_type": "display_data"
    },
    {
     "name": "stderr",
     "output_type": "stream",
     "text": [
      "/Users/archil/Documents/tardis_ayushi/tardis/plasma/properties/radiative_properties.py:93: RuntimeWarning:\n",
      "\n",
      "divide by zero encountered in true_divide\n",
      "\n",
      "/Users/archil/Documents/tardis_ayushi/tardis/plasma/properties/radiative_properties.py:93: RuntimeWarning:\n",
      "\n",
      "invalid value encountered in true_divide\n",
      "\n"
     ]
    },
    {
     "data": {
      "text/html": [
       "<style  type=\"text/css\" >\n",
       "</style><table id=\"T_dc8cb380_0bcb_11ee_a0b6_12e413fbf88c\" ><thead>    <tr>        <th class=\"index_name level0\" >Shell No.</th>        <th class=\"col_heading level0 col0\" >t_rad</th>        <th class=\"col_heading level0 col1\" >next_t_rad</th>        <th class=\"col_heading level0 col2\" >w</th>        <th class=\"col_heading level0 col3\" >next_w</th>    </tr></thead><tbody>\n",
       "                <tr>\n",
       "                        <th id=\"T_dc8cb380_0bcb_11ee_a0b6_12e413fbf88clevel0_row0\" class=\"row_heading level0 row0\" >0</th>\n",
       "                        <td id=\"T_dc8cb380_0bcb_11ee_a0b6_12e413fbf88crow0_col0\" class=\"data row0 col0\" >1.1e+04</td>\n",
       "                        <td id=\"T_dc8cb380_0bcb_11ee_a0b6_12e413fbf88crow0_col1\" class=\"data row0 col1\" >1.11e+04</td>\n",
       "                        <td id=\"T_dc8cb380_0bcb_11ee_a0b6_12e413fbf88crow0_col2\" class=\"data row0 col2\" >0.544</td>\n",
       "                        <td id=\"T_dc8cb380_0bcb_11ee_a0b6_12e413fbf88crow0_col3\" class=\"data row0 col3\" >0.501</td>\n",
       "            </tr>\n",
       "            <tr>\n",
       "                        <th id=\"T_dc8cb380_0bcb_11ee_a0b6_12e413fbf88clevel0_row1\" class=\"row_heading level0 row1\" >5</th>\n",
       "                        <td id=\"T_dc8cb380_0bcb_11ee_a0b6_12e413fbf88crow1_col0\" class=\"data row1 col0\" >1.11e+04</td>\n",
       "                        <td id=\"T_dc8cb380_0bcb_11ee_a0b6_12e413fbf88crow1_col1\" class=\"data row1 col1\" >1.14e+04</td>\n",
       "                        <td id=\"T_dc8cb380_0bcb_11ee_a0b6_12e413fbf88crow1_col2\" class=\"data row1 col2\" >0.204</td>\n",
       "                        <td id=\"T_dc8cb380_0bcb_11ee_a0b6_12e413fbf88crow1_col3\" class=\"data row1 col3\" >0.185</td>\n",
       "            </tr>\n",
       "            <tr>\n",
       "                        <th id=\"T_dc8cb380_0bcb_11ee_a0b6_12e413fbf88clevel0_row2\" class=\"row_heading level0 row2\" >10</th>\n",
       "                        <td id=\"T_dc8cb380_0bcb_11ee_a0b6_12e413fbf88crow2_col0\" class=\"data row2 col0\" >1.08e+04</td>\n",
       "                        <td id=\"T_dc8cb380_0bcb_11ee_a0b6_12e413fbf88crow2_col1\" class=\"data row2 col1\" >1.11e+04</td>\n",
       "                        <td id=\"T_dc8cb380_0bcb_11ee_a0b6_12e413fbf88crow2_col2\" class=\"data row2 col2\" >0.125</td>\n",
       "                        <td id=\"T_dc8cb380_0bcb_11ee_a0b6_12e413fbf88crow2_col3\" class=\"data row2 col3\" >0.115</td>\n",
       "            </tr>\n",
       "            <tr>\n",
       "                        <th id=\"T_dc8cb380_0bcb_11ee_a0b6_12e413fbf88clevel0_row3\" class=\"row_heading level0 row3\" >15</th>\n",
       "                        <td id=\"T_dc8cb380_0bcb_11ee_a0b6_12e413fbf88crow3_col0\" class=\"data row3 col0\" >1.06e+04</td>\n",
       "                        <td id=\"T_dc8cb380_0bcb_11ee_a0b6_12e413fbf88crow3_col1\" class=\"data row3 col1\" >1.08e+04</td>\n",
       "                        <td id=\"T_dc8cb380_0bcb_11ee_a0b6_12e413fbf88crow3_col2\" class=\"data row3 col2\" >0.0914</td>\n",
       "                        <td id=\"T_dc8cb380_0bcb_11ee_a0b6_12e413fbf88crow3_col3\" class=\"data row3 col3\" >0.086</td>\n",
       "            </tr>\n",
       "    </tbody></table>"
      ],
      "text/plain": [
       "<pandas.io.formats.style.Styler at 0x7feb83339130>"
      ]
     },
     "metadata": {},
     "output_type": "display_data"
    },
    {
     "data": {
      "text/html": [
       "<style  type=\"text/css\" >\n",
       "</style><table id=\"T_dcfc0d66_0bcb_11ee_a0b6_12e413fbf88c\" ><thead>    <tr>        <th class=\"index_name level0\" >Shell No.</th>        <th class=\"col_heading level0 col0\" >t_rad</th>        <th class=\"col_heading level0 col1\" >next_t_rad</th>        <th class=\"col_heading level0 col2\" >w</th>        <th class=\"col_heading level0 col3\" >next_w</th>    </tr></thead><tbody>\n",
       "                <tr>\n",
       "                        <th id=\"T_dcfc0d66_0bcb_11ee_a0b6_12e413fbf88clevel0_row0\" class=\"row_heading level0 row0\" >0</th>\n",
       "                        <td id=\"T_dcfc0d66_0bcb_11ee_a0b6_12e413fbf88crow0_col0\" class=\"data row0 col0\" >1.11e+04</td>\n",
       "                        <td id=\"T_dcfc0d66_0bcb_11ee_a0b6_12e413fbf88crow0_col1\" class=\"data row0 col1\" >1.11e+04</td>\n",
       "                        <td id=\"T_dcfc0d66_0bcb_11ee_a0b6_12e413fbf88crow0_col2\" class=\"data row0 col2\" >0.501</td>\n",
       "                        <td id=\"T_dcfc0d66_0bcb_11ee_a0b6_12e413fbf88crow0_col3\" class=\"data row0 col3\" >0.487</td>\n",
       "            </tr>\n",
       "            <tr>\n",
       "                        <th id=\"T_dcfc0d66_0bcb_11ee_a0b6_12e413fbf88clevel0_row1\" class=\"row_heading level0 row1\" >5</th>\n",
       "                        <td id=\"T_dcfc0d66_0bcb_11ee_a0b6_12e413fbf88crow1_col0\" class=\"data row1 col0\" >1.14e+04</td>\n",
       "                        <td id=\"T_dcfc0d66_0bcb_11ee_a0b6_12e413fbf88crow1_col1\" class=\"data row1 col1\" >1.14e+04</td>\n",
       "                        <td id=\"T_dcfc0d66_0bcb_11ee_a0b6_12e413fbf88crow1_col2\" class=\"data row1 col2\" >0.185</td>\n",
       "                        <td id=\"T_dcfc0d66_0bcb_11ee_a0b6_12e413fbf88crow1_col3\" class=\"data row1 col3\" >0.181</td>\n",
       "            </tr>\n",
       "            <tr>\n",
       "                        <th id=\"T_dcfc0d66_0bcb_11ee_a0b6_12e413fbf88clevel0_row2\" class=\"row_heading level0 row2\" >10</th>\n",
       "                        <td id=\"T_dcfc0d66_0bcb_11ee_a0b6_12e413fbf88crow2_col0\" class=\"data row2 col0\" >1.11e+04</td>\n",
       "                        <td id=\"T_dcfc0d66_0bcb_11ee_a0b6_12e413fbf88crow2_col1\" class=\"data row2 col1\" >1.11e+04</td>\n",
       "                        <td id=\"T_dcfc0d66_0bcb_11ee_a0b6_12e413fbf88crow2_col2\" class=\"data row2 col2\" >0.115</td>\n",
       "                        <td id=\"T_dcfc0d66_0bcb_11ee_a0b6_12e413fbf88crow2_col3\" class=\"data row2 col3\" >0.112</td>\n",
       "            </tr>\n",
       "            <tr>\n",
       "                        <th id=\"T_dcfc0d66_0bcb_11ee_a0b6_12e413fbf88clevel0_row3\" class=\"row_heading level0 row3\" >15</th>\n",
       "                        <td id=\"T_dcfc0d66_0bcb_11ee_a0b6_12e413fbf88crow3_col0\" class=\"data row3 col0\" >1.08e+04</td>\n",
       "                        <td id=\"T_dcfc0d66_0bcb_11ee_a0b6_12e413fbf88crow3_col1\" class=\"data row3 col1\" >1.08e+04</td>\n",
       "                        <td id=\"T_dcfc0d66_0bcb_11ee_a0b6_12e413fbf88crow3_col2\" class=\"data row3 col2\" >0.086</td>\n",
       "                        <td id=\"T_dcfc0d66_0bcb_11ee_a0b6_12e413fbf88crow3_col3\" class=\"data row3 col3\" >0.0819</td>\n",
       "            </tr>\n",
       "    </tbody></table>"
      ],
      "text/plain": [
       "<pandas.io.formats.style.Styler at 0x7feb8333d190>"
      ]
     },
     "metadata": {},
     "output_type": "display_data"
    },
    {
     "data": {
      "text/html": [
       "<style  type=\"text/css\" >\n",
       "</style><table id=\"T_dd676714_0bcb_11ee_a0b6_12e413fbf88c\" ><thead>    <tr>        <th class=\"index_name level0\" >Shell No.</th>        <th class=\"col_heading level0 col0\" >t_rad</th>        <th class=\"col_heading level0 col1\" >next_t_rad</th>        <th class=\"col_heading level0 col2\" >w</th>        <th class=\"col_heading level0 col3\" >next_w</th>    </tr></thead><tbody>\n",
       "                <tr>\n",
       "                        <th id=\"T_dd676714_0bcb_11ee_a0b6_12e413fbf88clevel0_row0\" class=\"row_heading level0 row0\" >0</th>\n",
       "                        <td id=\"T_dd676714_0bcb_11ee_a0b6_12e413fbf88crow0_col0\" class=\"data row0 col0\" >1.11e+04</td>\n",
       "                        <td id=\"T_dd676714_0bcb_11ee_a0b6_12e413fbf88crow0_col1\" class=\"data row0 col1\" >1.11e+04</td>\n",
       "                        <td id=\"T_dd676714_0bcb_11ee_a0b6_12e413fbf88crow0_col2\" class=\"data row0 col2\" >0.487</td>\n",
       "                        <td id=\"T_dd676714_0bcb_11ee_a0b6_12e413fbf88crow0_col3\" class=\"data row0 col3\" >0.497</td>\n",
       "            </tr>\n",
       "            <tr>\n",
       "                        <th id=\"T_dd676714_0bcb_11ee_a0b6_12e413fbf88clevel0_row1\" class=\"row_heading level0 row1\" >5</th>\n",
       "                        <td id=\"T_dd676714_0bcb_11ee_a0b6_12e413fbf88crow1_col0\" class=\"data row1 col0\" >1.14e+04</td>\n",
       "                        <td id=\"T_dd676714_0bcb_11ee_a0b6_12e413fbf88crow1_col1\" class=\"data row1 col1\" >1.14e+04</td>\n",
       "                        <td id=\"T_dd676714_0bcb_11ee_a0b6_12e413fbf88crow1_col2\" class=\"data row1 col2\" >0.181</td>\n",
       "                        <td id=\"T_dd676714_0bcb_11ee_a0b6_12e413fbf88crow1_col3\" class=\"data row1 col3\" >0.178</td>\n",
       "            </tr>\n",
       "            <tr>\n",
       "                        <th id=\"T_dd676714_0bcb_11ee_a0b6_12e413fbf88clevel0_row2\" class=\"row_heading level0 row2\" >10</th>\n",
       "                        <td id=\"T_dd676714_0bcb_11ee_a0b6_12e413fbf88crow2_col0\" class=\"data row2 col0\" >1.11e+04</td>\n",
       "                        <td id=\"T_dd676714_0bcb_11ee_a0b6_12e413fbf88crow2_col1\" class=\"data row2 col1\" >1.13e+04</td>\n",
       "                        <td id=\"T_dd676714_0bcb_11ee_a0b6_12e413fbf88crow2_col2\" class=\"data row2 col2\" >0.112</td>\n",
       "                        <td id=\"T_dd676714_0bcb_11ee_a0b6_12e413fbf88crow2_col3\" class=\"data row2 col3\" >0.107</td>\n",
       "            </tr>\n",
       "            <tr>\n",
       "                        <th id=\"T_dd676714_0bcb_11ee_a0b6_12e413fbf88clevel0_row3\" class=\"row_heading level0 row3\" >15</th>\n",
       "                        <td id=\"T_dd676714_0bcb_11ee_a0b6_12e413fbf88crow3_col0\" class=\"data row3 col0\" >1.08e+04</td>\n",
       "                        <td id=\"T_dd676714_0bcb_11ee_a0b6_12e413fbf88crow3_col1\" class=\"data row3 col1\" >1.1e+04</td>\n",
       "                        <td id=\"T_dd676714_0bcb_11ee_a0b6_12e413fbf88crow3_col2\" class=\"data row3 col2\" >0.0819</td>\n",
       "                        <td id=\"T_dd676714_0bcb_11ee_a0b6_12e413fbf88crow3_col3\" class=\"data row3 col3\" >0.0779</td>\n",
       "            </tr>\n",
       "    </tbody></table>"
      ],
      "text/plain": [
       "<pandas.io.formats.style.Styler at 0x7feb40b0b970>"
      ]
     },
     "metadata": {},
     "output_type": "display_data"
    },
    {
     "data": {
      "text/html": [
       "<style  type=\"text/css\" >\n",
       "</style><table id=\"T_ddd4c8ae_0bcb_11ee_a0b6_12e413fbf88c\" ><thead>    <tr>        <th class=\"index_name level0\" >Shell No.</th>        <th class=\"col_heading level0 col0\" >t_rad</th>        <th class=\"col_heading level0 col1\" >next_t_rad</th>        <th class=\"col_heading level0 col2\" >w</th>        <th class=\"col_heading level0 col3\" >next_w</th>    </tr></thead><tbody>\n",
       "                <tr>\n",
       "                        <th id=\"T_ddd4c8ae_0bcb_11ee_a0b6_12e413fbf88clevel0_row0\" class=\"row_heading level0 row0\" >0</th>\n",
       "                        <td id=\"T_ddd4c8ae_0bcb_11ee_a0b6_12e413fbf88crow0_col0\" class=\"data row0 col0\" >1.11e+04</td>\n",
       "                        <td id=\"T_ddd4c8ae_0bcb_11ee_a0b6_12e413fbf88crow0_col1\" class=\"data row0 col1\" >1.12e+04</td>\n",
       "                        <td id=\"T_ddd4c8ae_0bcb_11ee_a0b6_12e413fbf88crow0_col2\" class=\"data row0 col2\" >0.497</td>\n",
       "                        <td id=\"T_ddd4c8ae_0bcb_11ee_a0b6_12e413fbf88crow0_col3\" class=\"data row0 col3\" >0.488</td>\n",
       "            </tr>\n",
       "            <tr>\n",
       "                        <th id=\"T_ddd4c8ae_0bcb_11ee_a0b6_12e413fbf88clevel0_row1\" class=\"row_heading level0 row1\" >5</th>\n",
       "                        <td id=\"T_ddd4c8ae_0bcb_11ee_a0b6_12e413fbf88crow1_col0\" class=\"data row1 col0\" >1.14e+04</td>\n",
       "                        <td id=\"T_ddd4c8ae_0bcb_11ee_a0b6_12e413fbf88crow1_col1\" class=\"data row1 col1\" >1.14e+04</td>\n",
       "                        <td id=\"T_ddd4c8ae_0bcb_11ee_a0b6_12e413fbf88crow1_col2\" class=\"data row1 col2\" >0.178</td>\n",
       "                        <td id=\"T_ddd4c8ae_0bcb_11ee_a0b6_12e413fbf88crow1_col3\" class=\"data row1 col3\" >0.184</td>\n",
       "            </tr>\n",
       "            <tr>\n",
       "                        <th id=\"T_ddd4c8ae_0bcb_11ee_a0b6_12e413fbf88clevel0_row2\" class=\"row_heading level0 row2\" >10</th>\n",
       "                        <td id=\"T_ddd4c8ae_0bcb_11ee_a0b6_12e413fbf88crow2_col0\" class=\"data row2 col0\" >1.13e+04</td>\n",
       "                        <td id=\"T_ddd4c8ae_0bcb_11ee_a0b6_12e413fbf88crow2_col1\" class=\"data row2 col1\" >1.11e+04</td>\n",
       "                        <td id=\"T_ddd4c8ae_0bcb_11ee_a0b6_12e413fbf88crow2_col2\" class=\"data row2 col2\" >0.107</td>\n",
       "                        <td id=\"T_ddd4c8ae_0bcb_11ee_a0b6_12e413fbf88crow2_col3\" class=\"data row2 col3\" >0.113</td>\n",
       "            </tr>\n",
       "            <tr>\n",
       "                        <th id=\"T_ddd4c8ae_0bcb_11ee_a0b6_12e413fbf88clevel0_row3\" class=\"row_heading level0 row3\" >15</th>\n",
       "                        <td id=\"T_ddd4c8ae_0bcb_11ee_a0b6_12e413fbf88crow3_col0\" class=\"data row3 col0\" >1.1e+04</td>\n",
       "                        <td id=\"T_ddd4c8ae_0bcb_11ee_a0b6_12e413fbf88crow3_col1\" class=\"data row3 col1\" >1.08e+04</td>\n",
       "                        <td id=\"T_ddd4c8ae_0bcb_11ee_a0b6_12e413fbf88crow3_col2\" class=\"data row3 col2\" >0.0779</td>\n",
       "                        <td id=\"T_ddd4c8ae_0bcb_11ee_a0b6_12e413fbf88crow3_col3\" class=\"data row3 col3\" >0.082</td>\n",
       "            </tr>\n",
       "    </tbody></table>"
      ],
      "text/plain": [
       "<pandas.io.formats.style.Styler at 0x7feb83350e20>"
      ]
     },
     "metadata": {},
     "output_type": "display_data"
    },
    {
     "data": {
      "text/html": [
       "<style  type=\"text/css\" >\n",
       "</style><table id=\"T_de464d9e_0bcb_11ee_a0b6_12e413fbf88c\" ><thead>    <tr>        <th class=\"index_name level0\" >Shell No.</th>        <th class=\"col_heading level0 col0\" >t_rad</th>        <th class=\"col_heading level0 col1\" >next_t_rad</th>        <th class=\"col_heading level0 col2\" >w</th>        <th class=\"col_heading level0 col3\" >next_w</th>    </tr></thead><tbody>\n",
       "                <tr>\n",
       "                        <th id=\"T_de464d9e_0bcb_11ee_a0b6_12e413fbf88clevel0_row0\" class=\"row_heading level0 row0\" >0</th>\n",
       "                        <td id=\"T_de464d9e_0bcb_11ee_a0b6_12e413fbf88crow0_col0\" class=\"data row0 col0\" >1.12e+04</td>\n",
       "                        <td id=\"T_de464d9e_0bcb_11ee_a0b6_12e413fbf88crow0_col1\" class=\"data row0 col1\" >1.11e+04</td>\n",
       "                        <td id=\"T_de464d9e_0bcb_11ee_a0b6_12e413fbf88crow0_col2\" class=\"data row0 col2\" >0.488</td>\n",
       "                        <td id=\"T_de464d9e_0bcb_11ee_a0b6_12e413fbf88crow0_col3\" class=\"data row0 col3\" >0.496</td>\n",
       "            </tr>\n",
       "            <tr>\n",
       "                        <th id=\"T_de464d9e_0bcb_11ee_a0b6_12e413fbf88clevel0_row1\" class=\"row_heading level0 row1\" >5</th>\n",
       "                        <td id=\"T_de464d9e_0bcb_11ee_a0b6_12e413fbf88crow1_col0\" class=\"data row1 col0\" >1.14e+04</td>\n",
       "                        <td id=\"T_de464d9e_0bcb_11ee_a0b6_12e413fbf88crow1_col1\" class=\"data row1 col1\" >1.15e+04</td>\n",
       "                        <td id=\"T_de464d9e_0bcb_11ee_a0b6_12e413fbf88crow1_col2\" class=\"data row1 col2\" >0.184</td>\n",
       "                        <td id=\"T_de464d9e_0bcb_11ee_a0b6_12e413fbf88crow1_col3\" class=\"data row1 col3\" >0.175</td>\n",
       "            </tr>\n",
       "            <tr>\n",
       "                        <th id=\"T_de464d9e_0bcb_11ee_a0b6_12e413fbf88clevel0_row2\" class=\"row_heading level0 row2\" >10</th>\n",
       "                        <td id=\"T_de464d9e_0bcb_11ee_a0b6_12e413fbf88crow2_col0\" class=\"data row2 col0\" >1.11e+04</td>\n",
       "                        <td id=\"T_de464d9e_0bcb_11ee_a0b6_12e413fbf88crow2_col1\" class=\"data row2 col1\" >1.12e+04</td>\n",
       "                        <td id=\"T_de464d9e_0bcb_11ee_a0b6_12e413fbf88crow2_col2\" class=\"data row2 col2\" >0.113</td>\n",
       "                        <td id=\"T_de464d9e_0bcb_11ee_a0b6_12e413fbf88crow2_col3\" class=\"data row2 col3\" >0.109</td>\n",
       "            </tr>\n",
       "            <tr>\n",
       "                        <th id=\"T_de464d9e_0bcb_11ee_a0b6_12e413fbf88clevel0_row3\" class=\"row_heading level0 row3\" >15</th>\n",
       "                        <td id=\"T_de464d9e_0bcb_11ee_a0b6_12e413fbf88crow3_col0\" class=\"data row3 col0\" >1.08e+04</td>\n",
       "                        <td id=\"T_de464d9e_0bcb_11ee_a0b6_12e413fbf88crow3_col1\" class=\"data row3 col1\" >1.09e+04</td>\n",
       "                        <td id=\"T_de464d9e_0bcb_11ee_a0b6_12e413fbf88crow3_col2\" class=\"data row3 col2\" >0.082</td>\n",
       "                        <td id=\"T_de464d9e_0bcb_11ee_a0b6_12e413fbf88crow3_col3\" class=\"data row3 col3\" >0.0816</td>\n",
       "            </tr>\n",
       "    </tbody></table>"
      ],
      "text/plain": [
       "<pandas.io.formats.style.Styler at 0x7feb833502e0>"
      ]
     },
     "metadata": {},
     "output_type": "display_data"
    },
    {
     "data": {
      "text/html": [
       "<style  type=\"text/css\" >\n",
       "</style><table id=\"T_decc54de_0bcb_11ee_a0b6_12e413fbf88c\" ><thead>    <tr>        <th class=\"index_name level0\" >Shell No.</th>        <th class=\"col_heading level0 col0\" >t_rad</th>        <th class=\"col_heading level0 col1\" >next_t_rad</th>        <th class=\"col_heading level0 col2\" >w</th>        <th class=\"col_heading level0 col3\" >next_w</th>    </tr></thead><tbody>\n",
       "                <tr>\n",
       "                        <th id=\"T_decc54de_0bcb_11ee_a0b6_12e413fbf88clevel0_row0\" class=\"row_heading level0 row0\" >0</th>\n",
       "                        <td id=\"T_decc54de_0bcb_11ee_a0b6_12e413fbf88crow0_col0\" class=\"data row0 col0\" >1.11e+04</td>\n",
       "                        <td id=\"T_decc54de_0bcb_11ee_a0b6_12e413fbf88crow0_col1\" class=\"data row0 col1\" >1.12e+04</td>\n",
       "                        <td id=\"T_decc54de_0bcb_11ee_a0b6_12e413fbf88crow0_col2\" class=\"data row0 col2\" >0.496</td>\n",
       "                        <td id=\"T_decc54de_0bcb_11ee_a0b6_12e413fbf88crow0_col3\" class=\"data row0 col3\" >0.49</td>\n",
       "            </tr>\n",
       "            <tr>\n",
       "                        <th id=\"T_decc54de_0bcb_11ee_a0b6_12e413fbf88clevel0_row1\" class=\"row_heading level0 row1\" >5</th>\n",
       "                        <td id=\"T_decc54de_0bcb_11ee_a0b6_12e413fbf88crow1_col0\" class=\"data row1 col0\" >1.15e+04</td>\n",
       "                        <td id=\"T_decc54de_0bcb_11ee_a0b6_12e413fbf88crow1_col1\" class=\"data row1 col1\" >1.16e+04</td>\n",
       "                        <td id=\"T_decc54de_0bcb_11ee_a0b6_12e413fbf88crow1_col2\" class=\"data row1 col2\" >0.175</td>\n",
       "                        <td id=\"T_decc54de_0bcb_11ee_a0b6_12e413fbf88crow1_col3\" class=\"data row1 col3\" >0.174</td>\n",
       "            </tr>\n",
       "            <tr>\n",
       "                        <th id=\"T_decc54de_0bcb_11ee_a0b6_12e413fbf88clevel0_row2\" class=\"row_heading level0 row2\" >10</th>\n",
       "                        <td id=\"T_decc54de_0bcb_11ee_a0b6_12e413fbf88crow2_col0\" class=\"data row2 col0\" >1.12e+04</td>\n",
       "                        <td id=\"T_decc54de_0bcb_11ee_a0b6_12e413fbf88crow2_col1\" class=\"data row2 col1\" >1.14e+04</td>\n",
       "                        <td id=\"T_decc54de_0bcb_11ee_a0b6_12e413fbf88crow2_col2\" class=\"data row2 col2\" >0.109</td>\n",
       "                        <td id=\"T_decc54de_0bcb_11ee_a0b6_12e413fbf88crow2_col3\" class=\"data row2 col3\" >0.106</td>\n",
       "            </tr>\n",
       "            <tr>\n",
       "                        <th id=\"T_decc54de_0bcb_11ee_a0b6_12e413fbf88clevel0_row3\" class=\"row_heading level0 row3\" >15</th>\n",
       "                        <td id=\"T_decc54de_0bcb_11ee_a0b6_12e413fbf88crow3_col0\" class=\"data row3 col0\" >1.09e+04</td>\n",
       "                        <td id=\"T_decc54de_0bcb_11ee_a0b6_12e413fbf88crow3_col1\" class=\"data row3 col1\" >1.09e+04</td>\n",
       "                        <td id=\"T_decc54de_0bcb_11ee_a0b6_12e413fbf88crow3_col2\" class=\"data row3 col2\" >0.0816</td>\n",
       "                        <td id=\"T_decc54de_0bcb_11ee_a0b6_12e413fbf88crow3_col3\" class=\"data row3 col3\" >0.0802</td>\n",
       "            </tr>\n",
       "    </tbody></table>"
      ],
      "text/plain": [
       "<pandas.io.formats.style.Styler at 0x7feb83350940>"
      ]
     },
     "metadata": {},
     "output_type": "display_data"
    },
    {
     "data": {
      "text/html": [
       "<style  type=\"text/css\" >\n",
       "</style><table id=\"T_df32f888_0bcb_11ee_a0b6_12e413fbf88c\" ><thead>    <tr>        <th class=\"index_name level0\" >Shell No.</th>        <th class=\"col_heading level0 col0\" >t_rad</th>        <th class=\"col_heading level0 col1\" >next_t_rad</th>        <th class=\"col_heading level0 col2\" >w</th>        <th class=\"col_heading level0 col3\" >next_w</th>    </tr></thead><tbody>\n",
       "                <tr>\n",
       "                        <th id=\"T_df32f888_0bcb_11ee_a0b6_12e413fbf88clevel0_row0\" class=\"row_heading level0 row0\" >0</th>\n",
       "                        <td id=\"T_df32f888_0bcb_11ee_a0b6_12e413fbf88crow0_col0\" class=\"data row0 col0\" >1.12e+04</td>\n",
       "                        <td id=\"T_df32f888_0bcb_11ee_a0b6_12e413fbf88crow0_col1\" class=\"data row0 col1\" >1.11e+04</td>\n",
       "                        <td id=\"T_df32f888_0bcb_11ee_a0b6_12e413fbf88crow0_col2\" class=\"data row0 col2\" >0.49</td>\n",
       "                        <td id=\"T_df32f888_0bcb_11ee_a0b6_12e413fbf88crow0_col3\" class=\"data row0 col3\" >0.49</td>\n",
       "            </tr>\n",
       "            <tr>\n",
       "                        <th id=\"T_df32f888_0bcb_11ee_a0b6_12e413fbf88clevel0_row1\" class=\"row_heading level0 row1\" >5</th>\n",
       "                        <td id=\"T_df32f888_0bcb_11ee_a0b6_12e413fbf88crow1_col0\" class=\"data row1 col0\" >1.16e+04</td>\n",
       "                        <td id=\"T_df32f888_0bcb_11ee_a0b6_12e413fbf88crow1_col1\" class=\"data row1 col1\" >1.15e+04</td>\n",
       "                        <td id=\"T_df32f888_0bcb_11ee_a0b6_12e413fbf88crow1_col2\" class=\"data row1 col2\" >0.174</td>\n",
       "                        <td id=\"T_df32f888_0bcb_11ee_a0b6_12e413fbf88crow1_col3\" class=\"data row1 col3\" >0.174</td>\n",
       "            </tr>\n",
       "            <tr>\n",
       "                        <th id=\"T_df32f888_0bcb_11ee_a0b6_12e413fbf88clevel0_row2\" class=\"row_heading level0 row2\" >10</th>\n",
       "                        <td id=\"T_df32f888_0bcb_11ee_a0b6_12e413fbf88crow2_col0\" class=\"data row2 col0\" >1.14e+04</td>\n",
       "                        <td id=\"T_df32f888_0bcb_11ee_a0b6_12e413fbf88crow2_col1\" class=\"data row2 col1\" >1.13e+04</td>\n",
       "                        <td id=\"T_df32f888_0bcb_11ee_a0b6_12e413fbf88crow2_col2\" class=\"data row2 col2\" >0.106</td>\n",
       "                        <td id=\"T_df32f888_0bcb_11ee_a0b6_12e413fbf88crow2_col3\" class=\"data row2 col3\" >0.104</td>\n",
       "            </tr>\n",
       "            <tr>\n",
       "                        <th id=\"T_df32f888_0bcb_11ee_a0b6_12e413fbf88clevel0_row3\" class=\"row_heading level0 row3\" >15</th>\n",
       "                        <td id=\"T_df32f888_0bcb_11ee_a0b6_12e413fbf88crow3_col0\" class=\"data row3 col0\" >1.09e+04</td>\n",
       "                        <td id=\"T_df32f888_0bcb_11ee_a0b6_12e413fbf88crow3_col1\" class=\"data row3 col1\" >1.09e+04</td>\n",
       "                        <td id=\"T_df32f888_0bcb_11ee_a0b6_12e413fbf88crow3_col2\" class=\"data row3 col2\" >0.0802</td>\n",
       "                        <td id=\"T_df32f888_0bcb_11ee_a0b6_12e413fbf88crow3_col3\" class=\"data row3 col3\" >0.0799</td>\n",
       "            </tr>\n",
       "    </tbody></table>"
      ],
      "text/plain": [
       "<pandas.io.formats.style.Styler at 0x7feb75515a30>"
      ]
     },
     "metadata": {},
     "output_type": "display_data"
    },
    {
     "data": {
      "text/html": [
       "<style  type=\"text/css\" >\n",
       "</style><table id=\"T_dfa8c734_0bcb_11ee_a0b6_12e413fbf88c\" ><thead>    <tr>        <th class=\"index_name level0\" >Shell No.</th>        <th class=\"col_heading level0 col0\" >t_rad</th>        <th class=\"col_heading level0 col1\" >next_t_rad</th>        <th class=\"col_heading level0 col2\" >w</th>        <th class=\"col_heading level0 col3\" >next_w</th>    </tr></thead><tbody>\n",
       "                <tr>\n",
       "                        <th id=\"T_dfa8c734_0bcb_11ee_a0b6_12e413fbf88clevel0_row0\" class=\"row_heading level0 row0\" >0</th>\n",
       "                        <td id=\"T_dfa8c734_0bcb_11ee_a0b6_12e413fbf88crow0_col0\" class=\"data row0 col0\" >1.11e+04</td>\n",
       "                        <td id=\"T_dfa8c734_0bcb_11ee_a0b6_12e413fbf88crow0_col1\" class=\"data row0 col1\" >1.11e+04</td>\n",
       "                        <td id=\"T_dfa8c734_0bcb_11ee_a0b6_12e413fbf88crow0_col2\" class=\"data row0 col2\" >0.49</td>\n",
       "                        <td id=\"T_dfa8c734_0bcb_11ee_a0b6_12e413fbf88crow0_col3\" class=\"data row0 col3\" >0.496</td>\n",
       "            </tr>\n",
       "            <tr>\n",
       "                        <th id=\"T_dfa8c734_0bcb_11ee_a0b6_12e413fbf88clevel0_row1\" class=\"row_heading level0 row1\" >5</th>\n",
       "                        <td id=\"T_dfa8c734_0bcb_11ee_a0b6_12e413fbf88crow1_col0\" class=\"data row1 col0\" >1.15e+04</td>\n",
       "                        <td id=\"T_dfa8c734_0bcb_11ee_a0b6_12e413fbf88crow1_col1\" class=\"data row1 col1\" >1.15e+04</td>\n",
       "                        <td id=\"T_dfa8c734_0bcb_11ee_a0b6_12e413fbf88crow1_col2\" class=\"data row1 col2\" >0.174</td>\n",
       "                        <td id=\"T_dfa8c734_0bcb_11ee_a0b6_12e413fbf88crow1_col3\" class=\"data row1 col3\" >0.177</td>\n",
       "            </tr>\n",
       "            <tr>\n",
       "                        <th id=\"T_dfa8c734_0bcb_11ee_a0b6_12e413fbf88clevel0_row2\" class=\"row_heading level0 row2\" >10</th>\n",
       "                        <td id=\"T_dfa8c734_0bcb_11ee_a0b6_12e413fbf88crow2_col0\" class=\"data row2 col0\" >1.13e+04</td>\n",
       "                        <td id=\"T_dfa8c734_0bcb_11ee_a0b6_12e413fbf88crow2_col1\" class=\"data row2 col1\" >1.14e+04</td>\n",
       "                        <td id=\"T_dfa8c734_0bcb_11ee_a0b6_12e413fbf88crow2_col2\" class=\"data row2 col2\" >0.104</td>\n",
       "                        <td id=\"T_dfa8c734_0bcb_11ee_a0b6_12e413fbf88crow2_col3\" class=\"data row2 col3\" >0.105</td>\n",
       "            </tr>\n",
       "            <tr>\n",
       "                        <th id=\"T_dfa8c734_0bcb_11ee_a0b6_12e413fbf88clevel0_row3\" class=\"row_heading level0 row3\" >15</th>\n",
       "                        <td id=\"T_dfa8c734_0bcb_11ee_a0b6_12e413fbf88crow3_col0\" class=\"data row3 col0\" >1.09e+04</td>\n",
       "                        <td id=\"T_dfa8c734_0bcb_11ee_a0b6_12e413fbf88crow3_col1\" class=\"data row3 col1\" >1.09e+04</td>\n",
       "                        <td id=\"T_dfa8c734_0bcb_11ee_a0b6_12e413fbf88crow3_col2\" class=\"data row3 col2\" >0.0799</td>\n",
       "                        <td id=\"T_dfa8c734_0bcb_11ee_a0b6_12e413fbf88crow3_col3\" class=\"data row3 col3\" >0.081</td>\n",
       "            </tr>\n",
       "    </tbody></table>"
      ],
      "text/plain": [
       "<pandas.io.formats.style.Styler at 0x7feb83350e50>"
      ]
     },
     "metadata": {},
     "output_type": "display_data"
    },
    {
     "data": {
      "text/html": [
       "<style  type=\"text/css\" >\n",
       "</style><table id=\"T_e00f7f60_0bcb_11ee_a0b6_12e413fbf88c\" ><thead>    <tr>        <th class=\"index_name level0\" >Shell No.</th>        <th class=\"col_heading level0 col0\" >t_rad</th>        <th class=\"col_heading level0 col1\" >next_t_rad</th>        <th class=\"col_heading level0 col2\" >w</th>        <th class=\"col_heading level0 col3\" >next_w</th>    </tr></thead><tbody>\n",
       "                <tr>\n",
       "                        <th id=\"T_e00f7f60_0bcb_11ee_a0b6_12e413fbf88clevel0_row0\" class=\"row_heading level0 row0\" >0</th>\n",
       "                        <td id=\"T_e00f7f60_0bcb_11ee_a0b6_12e413fbf88crow0_col0\" class=\"data row0 col0\" >1.11e+04</td>\n",
       "                        <td id=\"T_e00f7f60_0bcb_11ee_a0b6_12e413fbf88crow0_col1\" class=\"data row0 col1\" >1.11e+04</td>\n",
       "                        <td id=\"T_e00f7f60_0bcb_11ee_a0b6_12e413fbf88crow0_col2\" class=\"data row0 col2\" >0.496</td>\n",
       "                        <td id=\"T_e00f7f60_0bcb_11ee_a0b6_12e413fbf88crow0_col3\" class=\"data row0 col3\" >0.501</td>\n",
       "            </tr>\n",
       "            <tr>\n",
       "                        <th id=\"T_e00f7f60_0bcb_11ee_a0b6_12e413fbf88clevel0_row1\" class=\"row_heading level0 row1\" >5</th>\n",
       "                        <td id=\"T_e00f7f60_0bcb_11ee_a0b6_12e413fbf88crow1_col0\" class=\"data row1 col0\" >1.15e+04</td>\n",
       "                        <td id=\"T_e00f7f60_0bcb_11ee_a0b6_12e413fbf88crow1_col1\" class=\"data row1 col1\" >1.16e+04</td>\n",
       "                        <td id=\"T_e00f7f60_0bcb_11ee_a0b6_12e413fbf88crow1_col2\" class=\"data row1 col2\" >0.177</td>\n",
       "                        <td id=\"T_e00f7f60_0bcb_11ee_a0b6_12e413fbf88crow1_col3\" class=\"data row1 col3\" >0.174</td>\n",
       "            </tr>\n",
       "            <tr>\n",
       "                        <th id=\"T_e00f7f60_0bcb_11ee_a0b6_12e413fbf88clevel0_row2\" class=\"row_heading level0 row2\" >10</th>\n",
       "                        <td id=\"T_e00f7f60_0bcb_11ee_a0b6_12e413fbf88crow2_col0\" class=\"data row2 col0\" >1.14e+04</td>\n",
       "                        <td id=\"T_e00f7f60_0bcb_11ee_a0b6_12e413fbf88crow2_col1\" class=\"data row2 col1\" >1.14e+04</td>\n",
       "                        <td id=\"T_e00f7f60_0bcb_11ee_a0b6_12e413fbf88crow2_col2\" class=\"data row2 col2\" >0.105</td>\n",
       "                        <td id=\"T_e00f7f60_0bcb_11ee_a0b6_12e413fbf88crow2_col3\" class=\"data row2 col3\" >0.104</td>\n",
       "            </tr>\n",
       "            <tr>\n",
       "                        <th id=\"T_e00f7f60_0bcb_11ee_a0b6_12e413fbf88clevel0_row3\" class=\"row_heading level0 row3\" >15</th>\n",
       "                        <td id=\"T_e00f7f60_0bcb_11ee_a0b6_12e413fbf88crow3_col0\" class=\"data row3 col0\" >1.09e+04</td>\n",
       "                        <td id=\"T_e00f7f60_0bcb_11ee_a0b6_12e413fbf88crow3_col1\" class=\"data row3 col1\" >1.09e+04</td>\n",
       "                        <td id=\"T_e00f7f60_0bcb_11ee_a0b6_12e413fbf88crow3_col2\" class=\"data row3 col2\" >0.081</td>\n",
       "                        <td id=\"T_e00f7f60_0bcb_11ee_a0b6_12e413fbf88crow3_col3\" class=\"data row3 col3\" >0.0809</td>\n",
       "            </tr>\n",
       "    </tbody></table>"
      ],
      "text/plain": [
       "<pandas.io.formats.style.Styler at 0x7feb776d0040>"
      ]
     },
     "metadata": {},
     "output_type": "display_data"
    },
    {
     "data": {
      "text/html": [
       "<style  type=\"text/css\" >\n",
       "</style><table id=\"T_e073e20c_0bcb_11ee_a0b6_12e413fbf88c\" ><thead>    <tr>        <th class=\"index_name level0\" >Shell No.</th>        <th class=\"col_heading level0 col0\" >t_rad</th>        <th class=\"col_heading level0 col1\" >next_t_rad</th>        <th class=\"col_heading level0 col2\" >w</th>        <th class=\"col_heading level0 col3\" >next_w</th>    </tr></thead><tbody>\n",
       "                <tr>\n",
       "                        <th id=\"T_e073e20c_0bcb_11ee_a0b6_12e413fbf88clevel0_row0\" class=\"row_heading level0 row0\" >0</th>\n",
       "                        <td id=\"T_e073e20c_0bcb_11ee_a0b6_12e413fbf88crow0_col0\" class=\"data row0 col0\" >1.11e+04</td>\n",
       "                        <td id=\"T_e073e20c_0bcb_11ee_a0b6_12e413fbf88crow0_col1\" class=\"data row0 col1\" >1.12e+04</td>\n",
       "                        <td id=\"T_e073e20c_0bcb_11ee_a0b6_12e413fbf88crow0_col2\" class=\"data row0 col2\" >0.501</td>\n",
       "                        <td id=\"T_e073e20c_0bcb_11ee_a0b6_12e413fbf88crow0_col3\" class=\"data row0 col3\" >0.485</td>\n",
       "            </tr>\n",
       "            <tr>\n",
       "                        <th id=\"T_e073e20c_0bcb_11ee_a0b6_12e413fbf88clevel0_row1\" class=\"row_heading level0 row1\" >5</th>\n",
       "                        <td id=\"T_e073e20c_0bcb_11ee_a0b6_12e413fbf88crow1_col0\" class=\"data row1 col0\" >1.16e+04</td>\n",
       "                        <td id=\"T_e073e20c_0bcb_11ee_a0b6_12e413fbf88crow1_col1\" class=\"data row1 col1\" >1.16e+04</td>\n",
       "                        <td id=\"T_e073e20c_0bcb_11ee_a0b6_12e413fbf88crow1_col2\" class=\"data row1 col2\" >0.174</td>\n",
       "                        <td id=\"T_e073e20c_0bcb_11ee_a0b6_12e413fbf88crow1_col3\" class=\"data row1 col3\" >0.17</td>\n",
       "            </tr>\n",
       "            <tr>\n",
       "                        <th id=\"T_e073e20c_0bcb_11ee_a0b6_12e413fbf88clevel0_row2\" class=\"row_heading level0 row2\" >10</th>\n",
       "                        <td id=\"T_e073e20c_0bcb_11ee_a0b6_12e413fbf88crow2_col0\" class=\"data row2 col0\" >1.14e+04</td>\n",
       "                        <td id=\"T_e073e20c_0bcb_11ee_a0b6_12e413fbf88crow2_col1\" class=\"data row2 col1\" >1.13e+04</td>\n",
       "                        <td id=\"T_e073e20c_0bcb_11ee_a0b6_12e413fbf88crow2_col2\" class=\"data row2 col2\" >0.104</td>\n",
       "                        <td id=\"T_e073e20c_0bcb_11ee_a0b6_12e413fbf88crow2_col3\" class=\"data row2 col3\" >0.105</td>\n",
       "            </tr>\n",
       "            <tr>\n",
       "                        <th id=\"T_e073e20c_0bcb_11ee_a0b6_12e413fbf88clevel0_row3\" class=\"row_heading level0 row3\" >15</th>\n",
       "                        <td id=\"T_e073e20c_0bcb_11ee_a0b6_12e413fbf88crow3_col0\" class=\"data row3 col0\" >1.09e+04</td>\n",
       "                        <td id=\"T_e073e20c_0bcb_11ee_a0b6_12e413fbf88crow3_col1\" class=\"data row3 col1\" >1.1e+04</td>\n",
       "                        <td id=\"T_e073e20c_0bcb_11ee_a0b6_12e413fbf88crow3_col2\" class=\"data row3 col2\" >0.0809</td>\n",
       "                        <td id=\"T_e073e20c_0bcb_11ee_a0b6_12e413fbf88crow3_col3\" class=\"data row3 col3\" >0.0777</td>\n",
       "            </tr>\n",
       "    </tbody></table>"
      ],
      "text/plain": [
       "<pandas.io.formats.style.Styler at 0x7feb776d00a0>"
      ]
     },
     "metadata": {},
     "output_type": "display_data"
    },
    {
     "data": {
      "text/html": [
       "<style  type=\"text/css\" >\n",
       "</style><table id=\"T_e0dae876_0bcb_11ee_a0b6_12e413fbf88c\" ><thead>    <tr>        <th class=\"index_name level0\" >Shell No.</th>        <th class=\"col_heading level0 col0\" >t_rad</th>        <th class=\"col_heading level0 col1\" >next_t_rad</th>        <th class=\"col_heading level0 col2\" >w</th>        <th class=\"col_heading level0 col3\" >next_w</th>    </tr></thead><tbody>\n",
       "                <tr>\n",
       "                        <th id=\"T_e0dae876_0bcb_11ee_a0b6_12e413fbf88clevel0_row0\" class=\"row_heading level0 row0\" >0</th>\n",
       "                        <td id=\"T_e0dae876_0bcb_11ee_a0b6_12e413fbf88crow0_col0\" class=\"data row0 col0\" >1.12e+04</td>\n",
       "                        <td id=\"T_e0dae876_0bcb_11ee_a0b6_12e413fbf88crow0_col1\" class=\"data row0 col1\" >1.12e+04</td>\n",
       "                        <td id=\"T_e0dae876_0bcb_11ee_a0b6_12e413fbf88crow0_col2\" class=\"data row0 col2\" >0.485</td>\n",
       "                        <td id=\"T_e0dae876_0bcb_11ee_a0b6_12e413fbf88crow0_col3\" class=\"data row0 col3\" >0.483</td>\n",
       "            </tr>\n",
       "            <tr>\n",
       "                        <th id=\"T_e0dae876_0bcb_11ee_a0b6_12e413fbf88clevel0_row1\" class=\"row_heading level0 row1\" >5</th>\n",
       "                        <td id=\"T_e0dae876_0bcb_11ee_a0b6_12e413fbf88crow1_col0\" class=\"data row1 col0\" >1.16e+04</td>\n",
       "                        <td id=\"T_e0dae876_0bcb_11ee_a0b6_12e413fbf88crow1_col1\" class=\"data row1 col1\" >1.16e+04</td>\n",
       "                        <td id=\"T_e0dae876_0bcb_11ee_a0b6_12e413fbf88crow1_col2\" class=\"data row1 col2\" >0.17</td>\n",
       "                        <td id=\"T_e0dae876_0bcb_11ee_a0b6_12e413fbf88crow1_col3\" class=\"data row1 col3\" >0.174</td>\n",
       "            </tr>\n",
       "            <tr>\n",
       "                        <th id=\"T_e0dae876_0bcb_11ee_a0b6_12e413fbf88clevel0_row2\" class=\"row_heading level0 row2\" >10</th>\n",
       "                        <td id=\"T_e0dae876_0bcb_11ee_a0b6_12e413fbf88crow2_col0\" class=\"data row2 col0\" >1.13e+04</td>\n",
       "                        <td id=\"T_e0dae876_0bcb_11ee_a0b6_12e413fbf88crow2_col1\" class=\"data row2 col1\" >1.14e+04</td>\n",
       "                        <td id=\"T_e0dae876_0bcb_11ee_a0b6_12e413fbf88crow2_col2\" class=\"data row2 col2\" >0.105</td>\n",
       "                        <td id=\"T_e0dae876_0bcb_11ee_a0b6_12e413fbf88crow2_col3\" class=\"data row2 col3\" >0.105</td>\n",
       "            </tr>\n",
       "            <tr>\n",
       "                        <th id=\"T_e0dae876_0bcb_11ee_a0b6_12e413fbf88clevel0_row3\" class=\"row_heading level0 row3\" >15</th>\n",
       "                        <td id=\"T_e0dae876_0bcb_11ee_a0b6_12e413fbf88crow3_col0\" class=\"data row3 col0\" >1.1e+04</td>\n",
       "                        <td id=\"T_e0dae876_0bcb_11ee_a0b6_12e413fbf88crow3_col1\" class=\"data row3 col1\" >1.1e+04</td>\n",
       "                        <td id=\"T_e0dae876_0bcb_11ee_a0b6_12e413fbf88crow3_col2\" class=\"data row3 col2\" >0.0777</td>\n",
       "                        <td id=\"T_e0dae876_0bcb_11ee_a0b6_12e413fbf88crow3_col3\" class=\"data row3 col3\" >0.0789</td>\n",
       "            </tr>\n",
       "    </tbody></table>"
      ],
      "text/plain": [
       "<pandas.io.formats.style.Styler at 0x7feb776d0190>"
      ]
     },
     "metadata": {},
     "output_type": "display_data"
    },
    {
     "data": {
      "text/html": [
       "<style  type=\"text/css\" >\n",
       "</style><table id=\"T_e1423206_0bcb_11ee_a0b6_12e413fbf88c\" ><thead>    <tr>        <th class=\"index_name level0\" >Shell No.</th>        <th class=\"col_heading level0 col0\" >t_rad</th>        <th class=\"col_heading level0 col1\" >next_t_rad</th>        <th class=\"col_heading level0 col2\" >w</th>        <th class=\"col_heading level0 col3\" >next_w</th>    </tr></thead><tbody>\n",
       "                <tr>\n",
       "                        <th id=\"T_e1423206_0bcb_11ee_a0b6_12e413fbf88clevel0_row0\" class=\"row_heading level0 row0\" >0</th>\n",
       "                        <td id=\"T_e1423206_0bcb_11ee_a0b6_12e413fbf88crow0_col0\" class=\"data row0 col0\" >1.12e+04</td>\n",
       "                        <td id=\"T_e1423206_0bcb_11ee_a0b6_12e413fbf88crow0_col1\" class=\"data row0 col1\" >1.12e+04</td>\n",
       "                        <td id=\"T_e1423206_0bcb_11ee_a0b6_12e413fbf88crow0_col2\" class=\"data row0 col2\" >0.483</td>\n",
       "                        <td id=\"T_e1423206_0bcb_11ee_a0b6_12e413fbf88crow0_col3\" class=\"data row0 col3\" >0.48</td>\n",
       "            </tr>\n",
       "            <tr>\n",
       "                        <th id=\"T_e1423206_0bcb_11ee_a0b6_12e413fbf88clevel0_row1\" class=\"row_heading level0 row1\" >5</th>\n",
       "                        <td id=\"T_e1423206_0bcb_11ee_a0b6_12e413fbf88crow1_col0\" class=\"data row1 col0\" >1.16e+04</td>\n",
       "                        <td id=\"T_e1423206_0bcb_11ee_a0b6_12e413fbf88crow1_col1\" class=\"data row1 col1\" >1.16e+04</td>\n",
       "                        <td id=\"T_e1423206_0bcb_11ee_a0b6_12e413fbf88crow1_col2\" class=\"data row1 col2\" >0.174</td>\n",
       "                        <td id=\"T_e1423206_0bcb_11ee_a0b6_12e413fbf88crow1_col3\" class=\"data row1 col3\" >0.174</td>\n",
       "            </tr>\n",
       "            <tr>\n",
       "                        <th id=\"T_e1423206_0bcb_11ee_a0b6_12e413fbf88clevel0_row2\" class=\"row_heading level0 row2\" >10</th>\n",
       "                        <td id=\"T_e1423206_0bcb_11ee_a0b6_12e413fbf88crow2_col0\" class=\"data row2 col0\" >1.14e+04</td>\n",
       "                        <td id=\"T_e1423206_0bcb_11ee_a0b6_12e413fbf88crow2_col1\" class=\"data row2 col1\" >1.13e+04</td>\n",
       "                        <td id=\"T_e1423206_0bcb_11ee_a0b6_12e413fbf88crow2_col2\" class=\"data row2 col2\" >0.105</td>\n",
       "                        <td id=\"T_e1423206_0bcb_11ee_a0b6_12e413fbf88crow2_col3\" class=\"data row2 col3\" >0.105</td>\n",
       "            </tr>\n",
       "            <tr>\n",
       "                        <th id=\"T_e1423206_0bcb_11ee_a0b6_12e413fbf88clevel0_row3\" class=\"row_heading level0 row3\" >15</th>\n",
       "                        <td id=\"T_e1423206_0bcb_11ee_a0b6_12e413fbf88crow3_col0\" class=\"data row3 col0\" >1.1e+04</td>\n",
       "                        <td id=\"T_e1423206_0bcb_11ee_a0b6_12e413fbf88crow3_col1\" class=\"data row3 col1\" >1.09e+04</td>\n",
       "                        <td id=\"T_e1423206_0bcb_11ee_a0b6_12e413fbf88crow3_col2\" class=\"data row3 col2\" >0.0789</td>\n",
       "                        <td id=\"T_e1423206_0bcb_11ee_a0b6_12e413fbf88crow3_col3\" class=\"data row3 col3\" >0.0789</td>\n",
       "            </tr>\n",
       "    </tbody></table>"
      ],
      "text/plain": [
       "<pandas.io.formats.style.Styler at 0x7feb83339e20>"
      ]
     },
     "metadata": {},
     "output_type": "display_data"
    },
    {
     "data": {
      "text/html": [
       "<style  type=\"text/css\" >\n",
       "</style><table id=\"T_e1a60af6_0bcb_11ee_a0b6_12e413fbf88c\" ><thead>    <tr>        <th class=\"index_name level0\" >Shell No.</th>        <th class=\"col_heading level0 col0\" >t_rad</th>        <th class=\"col_heading level0 col1\" >next_t_rad</th>        <th class=\"col_heading level0 col2\" >w</th>        <th class=\"col_heading level0 col3\" >next_w</th>    </tr></thead><tbody>\n",
       "                <tr>\n",
       "                        <th id=\"T_e1a60af6_0bcb_11ee_a0b6_12e413fbf88clevel0_row0\" class=\"row_heading level0 row0\" >0</th>\n",
       "                        <td id=\"T_e1a60af6_0bcb_11ee_a0b6_12e413fbf88crow0_col0\" class=\"data row0 col0\" >1.12e+04</td>\n",
       "                        <td id=\"T_e1a60af6_0bcb_11ee_a0b6_12e413fbf88crow0_col1\" class=\"data row0 col1\" >1.12e+04</td>\n",
       "                        <td id=\"T_e1a60af6_0bcb_11ee_a0b6_12e413fbf88crow0_col2\" class=\"data row0 col2\" >0.48</td>\n",
       "                        <td id=\"T_e1a60af6_0bcb_11ee_a0b6_12e413fbf88crow0_col3\" class=\"data row0 col3\" >0.486</td>\n",
       "            </tr>\n",
       "            <tr>\n",
       "                        <th id=\"T_e1a60af6_0bcb_11ee_a0b6_12e413fbf88clevel0_row1\" class=\"row_heading level0 row1\" >5</th>\n",
       "                        <td id=\"T_e1a60af6_0bcb_11ee_a0b6_12e413fbf88crow1_col0\" class=\"data row1 col0\" >1.16e+04</td>\n",
       "                        <td id=\"T_e1a60af6_0bcb_11ee_a0b6_12e413fbf88crow1_col1\" class=\"data row1 col1\" >1.15e+04</td>\n",
       "                        <td id=\"T_e1a60af6_0bcb_11ee_a0b6_12e413fbf88crow1_col2\" class=\"data row1 col2\" >0.174</td>\n",
       "                        <td id=\"T_e1a60af6_0bcb_11ee_a0b6_12e413fbf88crow1_col3\" class=\"data row1 col3\" >0.18</td>\n",
       "            </tr>\n",
       "            <tr>\n",
       "                        <th id=\"T_e1a60af6_0bcb_11ee_a0b6_12e413fbf88clevel0_row2\" class=\"row_heading level0 row2\" >10</th>\n",
       "                        <td id=\"T_e1a60af6_0bcb_11ee_a0b6_12e413fbf88crow2_col0\" class=\"data row2 col0\" >1.13e+04</td>\n",
       "                        <td id=\"T_e1a60af6_0bcb_11ee_a0b6_12e413fbf88crow2_col1\" class=\"data row2 col1\" >1.12e+04</td>\n",
       "                        <td id=\"T_e1a60af6_0bcb_11ee_a0b6_12e413fbf88crow2_col2\" class=\"data row2 col2\" >0.105</td>\n",
       "                        <td id=\"T_e1a60af6_0bcb_11ee_a0b6_12e413fbf88crow2_col3\" class=\"data row2 col3\" >0.108</td>\n",
       "            </tr>\n",
       "            <tr>\n",
       "                        <th id=\"T_e1a60af6_0bcb_11ee_a0b6_12e413fbf88clevel0_row3\" class=\"row_heading level0 row3\" >15</th>\n",
       "                        <td id=\"T_e1a60af6_0bcb_11ee_a0b6_12e413fbf88crow3_col0\" class=\"data row3 col0\" >1.09e+04</td>\n",
       "                        <td id=\"T_e1a60af6_0bcb_11ee_a0b6_12e413fbf88crow3_col1\" class=\"data row3 col1\" >1.09e+04</td>\n",
       "                        <td id=\"T_e1a60af6_0bcb_11ee_a0b6_12e413fbf88crow3_col2\" class=\"data row3 col2\" >0.0789</td>\n",
       "                        <td id=\"T_e1a60af6_0bcb_11ee_a0b6_12e413fbf88crow3_col3\" class=\"data row3 col3\" >0.0793</td>\n",
       "            </tr>\n",
       "    </tbody></table>"
      ],
      "text/plain": [
       "<pandas.io.formats.style.Styler at 0x7feb776dac40>"
      ]
     },
     "metadata": {},
     "output_type": "display_data"
    },
    {
     "data": {
      "text/html": [
       "<style  type=\"text/css\" >\n",
       "</style><table id=\"T_e20bf3f2_0bcb_11ee_a0b6_12e413fbf88c\" ><thead>    <tr>        <th class=\"index_name level0\" >Shell No.</th>        <th class=\"col_heading level0 col0\" >t_rad</th>        <th class=\"col_heading level0 col1\" >next_t_rad</th>        <th class=\"col_heading level0 col2\" >w</th>        <th class=\"col_heading level0 col3\" >next_w</th>    </tr></thead><tbody>\n",
       "                <tr>\n",
       "                        <th id=\"T_e20bf3f2_0bcb_11ee_a0b6_12e413fbf88clevel0_row0\" class=\"row_heading level0 row0\" >0</th>\n",
       "                        <td id=\"T_e20bf3f2_0bcb_11ee_a0b6_12e413fbf88crow0_col0\" class=\"data row0 col0\" >1.12e+04</td>\n",
       "                        <td id=\"T_e20bf3f2_0bcb_11ee_a0b6_12e413fbf88crow0_col1\" class=\"data row0 col1\" >1.12e+04</td>\n",
       "                        <td id=\"T_e20bf3f2_0bcb_11ee_a0b6_12e413fbf88crow0_col2\" class=\"data row0 col2\" >0.486</td>\n",
       "                        <td id=\"T_e20bf3f2_0bcb_11ee_a0b6_12e413fbf88crow0_col3\" class=\"data row0 col3\" >0.486</td>\n",
       "            </tr>\n",
       "            <tr>\n",
       "                        <th id=\"T_e20bf3f2_0bcb_11ee_a0b6_12e413fbf88clevel0_row1\" class=\"row_heading level0 row1\" >5</th>\n",
       "                        <td id=\"T_e20bf3f2_0bcb_11ee_a0b6_12e413fbf88crow1_col0\" class=\"data row1 col0\" >1.15e+04</td>\n",
       "                        <td id=\"T_e20bf3f2_0bcb_11ee_a0b6_12e413fbf88crow1_col1\" class=\"data row1 col1\" >1.15e+04</td>\n",
       "                        <td id=\"T_e20bf3f2_0bcb_11ee_a0b6_12e413fbf88crow1_col2\" class=\"data row1 col2\" >0.18</td>\n",
       "                        <td id=\"T_e20bf3f2_0bcb_11ee_a0b6_12e413fbf88crow1_col3\" class=\"data row1 col3\" >0.177</td>\n",
       "            </tr>\n",
       "            <tr>\n",
       "                        <th id=\"T_e20bf3f2_0bcb_11ee_a0b6_12e413fbf88clevel0_row2\" class=\"row_heading level0 row2\" >10</th>\n",
       "                        <td id=\"T_e20bf3f2_0bcb_11ee_a0b6_12e413fbf88crow2_col0\" class=\"data row2 col0\" >1.12e+04</td>\n",
       "                        <td id=\"T_e20bf3f2_0bcb_11ee_a0b6_12e413fbf88crow2_col1\" class=\"data row2 col1\" >1.13e+04</td>\n",
       "                        <td id=\"T_e20bf3f2_0bcb_11ee_a0b6_12e413fbf88crow2_col2\" class=\"data row2 col2\" >0.108</td>\n",
       "                        <td id=\"T_e20bf3f2_0bcb_11ee_a0b6_12e413fbf88crow2_col3\" class=\"data row2 col3\" >0.107</td>\n",
       "            </tr>\n",
       "            <tr>\n",
       "                        <th id=\"T_e20bf3f2_0bcb_11ee_a0b6_12e413fbf88clevel0_row3\" class=\"row_heading level0 row3\" >15</th>\n",
       "                        <td id=\"T_e20bf3f2_0bcb_11ee_a0b6_12e413fbf88crow3_col0\" class=\"data row3 col0\" >1.09e+04</td>\n",
       "                        <td id=\"T_e20bf3f2_0bcb_11ee_a0b6_12e413fbf88crow3_col1\" class=\"data row3 col1\" >1.09e+04</td>\n",
       "                        <td id=\"T_e20bf3f2_0bcb_11ee_a0b6_12e413fbf88crow3_col2\" class=\"data row3 col2\" >0.0793</td>\n",
       "                        <td id=\"T_e20bf3f2_0bcb_11ee_a0b6_12e413fbf88crow3_col3\" class=\"data row3 col3\" >0.0811</td>\n",
       "            </tr>\n",
       "    </tbody></table>"
      ],
      "text/plain": [
       "<pandas.io.formats.style.Styler at 0x7feb776da9d0>"
      ]
     },
     "metadata": {},
     "output_type": "display_data"
    },
    {
     "data": {
      "text/html": [
       "<style  type=\"text/css\" >\n",
       "</style><table id=\"T_e26f45ba_0bcb_11ee_a0b6_12e413fbf88c\" ><thead>    <tr>        <th class=\"index_name level0\" >Shell No.</th>        <th class=\"col_heading level0 col0\" >t_rad</th>        <th class=\"col_heading level0 col1\" >next_t_rad</th>        <th class=\"col_heading level0 col2\" >w</th>        <th class=\"col_heading level0 col3\" >next_w</th>    </tr></thead><tbody>\n",
       "                <tr>\n",
       "                        <th id=\"T_e26f45ba_0bcb_11ee_a0b6_12e413fbf88clevel0_row0\" class=\"row_heading level0 row0\" >0</th>\n",
       "                        <td id=\"T_e26f45ba_0bcb_11ee_a0b6_12e413fbf88crow0_col0\" class=\"data row0 col0\" >1.12e+04</td>\n",
       "                        <td id=\"T_e26f45ba_0bcb_11ee_a0b6_12e413fbf88crow0_col1\" class=\"data row0 col1\" >1.12e+04</td>\n",
       "                        <td id=\"T_e26f45ba_0bcb_11ee_a0b6_12e413fbf88crow0_col2\" class=\"data row0 col2\" >0.486</td>\n",
       "                        <td id=\"T_e26f45ba_0bcb_11ee_a0b6_12e413fbf88crow0_col3\" class=\"data row0 col3\" >0.483</td>\n",
       "            </tr>\n",
       "            <tr>\n",
       "                        <th id=\"T_e26f45ba_0bcb_11ee_a0b6_12e413fbf88clevel0_row1\" class=\"row_heading level0 row1\" >5</th>\n",
       "                        <td id=\"T_e26f45ba_0bcb_11ee_a0b6_12e413fbf88crow1_col0\" class=\"data row1 col0\" >1.15e+04</td>\n",
       "                        <td id=\"T_e26f45ba_0bcb_11ee_a0b6_12e413fbf88crow1_col1\" class=\"data row1 col1\" >1.16e+04</td>\n",
       "                        <td id=\"T_e26f45ba_0bcb_11ee_a0b6_12e413fbf88crow1_col2\" class=\"data row1 col2\" >0.177</td>\n",
       "                        <td id=\"T_e26f45ba_0bcb_11ee_a0b6_12e413fbf88crow1_col3\" class=\"data row1 col3\" >0.17</td>\n",
       "            </tr>\n",
       "            <tr>\n",
       "                        <th id=\"T_e26f45ba_0bcb_11ee_a0b6_12e413fbf88clevel0_row2\" class=\"row_heading level0 row2\" >10</th>\n",
       "                        <td id=\"T_e26f45ba_0bcb_11ee_a0b6_12e413fbf88crow2_col0\" class=\"data row2 col0\" >1.13e+04</td>\n",
       "                        <td id=\"T_e26f45ba_0bcb_11ee_a0b6_12e413fbf88crow2_col1\" class=\"data row2 col1\" >1.13e+04</td>\n",
       "                        <td id=\"T_e26f45ba_0bcb_11ee_a0b6_12e413fbf88crow2_col2\" class=\"data row2 col2\" >0.107</td>\n",
       "                        <td id=\"T_e26f45ba_0bcb_11ee_a0b6_12e413fbf88crow2_col3\" class=\"data row2 col3\" >0.107</td>\n",
       "            </tr>\n",
       "            <tr>\n",
       "                        <th id=\"T_e26f45ba_0bcb_11ee_a0b6_12e413fbf88clevel0_row3\" class=\"row_heading level0 row3\" >15</th>\n",
       "                        <td id=\"T_e26f45ba_0bcb_11ee_a0b6_12e413fbf88crow3_col0\" class=\"data row3 col0\" >1.09e+04</td>\n",
       "                        <td id=\"T_e26f45ba_0bcb_11ee_a0b6_12e413fbf88crow3_col1\" class=\"data row3 col1\" >1.09e+04</td>\n",
       "                        <td id=\"T_e26f45ba_0bcb_11ee_a0b6_12e413fbf88crow3_col2\" class=\"data row3 col2\" >0.0811</td>\n",
       "                        <td id=\"T_e26f45ba_0bcb_11ee_a0b6_12e413fbf88crow3_col3\" class=\"data row3 col3\" >0.0799</td>\n",
       "            </tr>\n",
       "    </tbody></table>"
      ],
      "text/plain": [
       "<pandas.io.formats.style.Styler at 0x7feb83339040>"
      ]
     },
     "metadata": {},
     "output_type": "display_data"
    },
    {
     "data": {
      "text/html": [
       "<style  type=\"text/css\" >\n",
       "</style><table id=\"T_e2d3ba9a_0bcb_11ee_a0b6_12e413fbf88c\" ><thead>    <tr>        <th class=\"index_name level0\" >Shell No.</th>        <th class=\"col_heading level0 col0\" >t_rad</th>        <th class=\"col_heading level0 col1\" >next_t_rad</th>        <th class=\"col_heading level0 col2\" >w</th>        <th class=\"col_heading level0 col3\" >next_w</th>    </tr></thead><tbody>\n",
       "                <tr>\n",
       "                        <th id=\"T_e2d3ba9a_0bcb_11ee_a0b6_12e413fbf88clevel0_row0\" class=\"row_heading level0 row0\" >0</th>\n",
       "                        <td id=\"T_e2d3ba9a_0bcb_11ee_a0b6_12e413fbf88crow0_col0\" class=\"data row0 col0\" >1.12e+04</td>\n",
       "                        <td id=\"T_e2d3ba9a_0bcb_11ee_a0b6_12e413fbf88crow0_col1\" class=\"data row0 col1\" >1.12e+04</td>\n",
       "                        <td id=\"T_e2d3ba9a_0bcb_11ee_a0b6_12e413fbf88crow0_col2\" class=\"data row0 col2\" >0.483</td>\n",
       "                        <td id=\"T_e2d3ba9a_0bcb_11ee_a0b6_12e413fbf88crow0_col3\" class=\"data row0 col3\" >0.482</td>\n",
       "            </tr>\n",
       "            <tr>\n",
       "                        <th id=\"T_e2d3ba9a_0bcb_11ee_a0b6_12e413fbf88clevel0_row1\" class=\"row_heading level0 row1\" >5</th>\n",
       "                        <td id=\"T_e2d3ba9a_0bcb_11ee_a0b6_12e413fbf88crow1_col0\" class=\"data row1 col0\" >1.16e+04</td>\n",
       "                        <td id=\"T_e2d3ba9a_0bcb_11ee_a0b6_12e413fbf88crow1_col1\" class=\"data row1 col1\" >1.16e+04</td>\n",
       "                        <td id=\"T_e2d3ba9a_0bcb_11ee_a0b6_12e413fbf88crow1_col2\" class=\"data row1 col2\" >0.17</td>\n",
       "                        <td id=\"T_e2d3ba9a_0bcb_11ee_a0b6_12e413fbf88crow1_col3\" class=\"data row1 col3\" >0.172</td>\n",
       "            </tr>\n",
       "            <tr>\n",
       "                        <th id=\"T_e2d3ba9a_0bcb_11ee_a0b6_12e413fbf88clevel0_row2\" class=\"row_heading level0 row2\" >10</th>\n",
       "                        <td id=\"T_e2d3ba9a_0bcb_11ee_a0b6_12e413fbf88crow2_col0\" class=\"data row2 col0\" >1.13e+04</td>\n",
       "                        <td id=\"T_e2d3ba9a_0bcb_11ee_a0b6_12e413fbf88crow2_col1\" class=\"data row2 col1\" >1.13e+04</td>\n",
       "                        <td id=\"T_e2d3ba9a_0bcb_11ee_a0b6_12e413fbf88crow2_col2\" class=\"data row2 col2\" >0.107</td>\n",
       "                        <td id=\"T_e2d3ba9a_0bcb_11ee_a0b6_12e413fbf88crow2_col3\" class=\"data row2 col3\" >0.105</td>\n",
       "            </tr>\n",
       "            <tr>\n",
       "                        <th id=\"T_e2d3ba9a_0bcb_11ee_a0b6_12e413fbf88clevel0_row3\" class=\"row_heading level0 row3\" >15</th>\n",
       "                        <td id=\"T_e2d3ba9a_0bcb_11ee_a0b6_12e413fbf88crow3_col0\" class=\"data row3 col0\" >1.09e+04</td>\n",
       "                        <td id=\"T_e2d3ba9a_0bcb_11ee_a0b6_12e413fbf88crow3_col1\" class=\"data row3 col1\" >1.09e+04</td>\n",
       "                        <td id=\"T_e2d3ba9a_0bcb_11ee_a0b6_12e413fbf88crow3_col2\" class=\"data row3 col2\" >0.0799</td>\n",
       "                        <td id=\"T_e2d3ba9a_0bcb_11ee_a0b6_12e413fbf88crow3_col3\" class=\"data row3 col3\" >0.0807</td>\n",
       "            </tr>\n",
       "    </tbody></table>"
      ],
      "text/plain": [
       "<pandas.io.formats.style.Styler at 0x7feb776da070>"
      ]
     },
     "metadata": {},
     "output_type": "display_data"
    },
    {
     "data": {
      "text/html": [
       "<style  type=\"text/css\" >\n",
       "</style><table id=\"T_e336e0a2_0bcb_11ee_a0b6_12e413fbf88c\" ><thead>    <tr>        <th class=\"index_name level0\" >Shell No.</th>        <th class=\"col_heading level0 col0\" >t_rad</th>        <th class=\"col_heading level0 col1\" >next_t_rad</th>        <th class=\"col_heading level0 col2\" >w</th>        <th class=\"col_heading level0 col3\" >next_w</th>    </tr></thead><tbody>\n",
       "                <tr>\n",
       "                        <th id=\"T_e336e0a2_0bcb_11ee_a0b6_12e413fbf88clevel0_row0\" class=\"row_heading level0 row0\" >0</th>\n",
       "                        <td id=\"T_e336e0a2_0bcb_11ee_a0b6_12e413fbf88crow0_col0\" class=\"data row0 col0\" >1.12e+04</td>\n",
       "                        <td id=\"T_e336e0a2_0bcb_11ee_a0b6_12e413fbf88crow0_col1\" class=\"data row0 col1\" >1.12e+04</td>\n",
       "                        <td id=\"T_e336e0a2_0bcb_11ee_a0b6_12e413fbf88crow0_col2\" class=\"data row0 col2\" >0.482</td>\n",
       "                        <td id=\"T_e336e0a2_0bcb_11ee_a0b6_12e413fbf88crow0_col3\" class=\"data row0 col3\" >0.478</td>\n",
       "            </tr>\n",
       "            <tr>\n",
       "                        <th id=\"T_e336e0a2_0bcb_11ee_a0b6_12e413fbf88clevel0_row1\" class=\"row_heading level0 row1\" >5</th>\n",
       "                        <td id=\"T_e336e0a2_0bcb_11ee_a0b6_12e413fbf88crow1_col0\" class=\"data row1 col0\" >1.16e+04</td>\n",
       "                        <td id=\"T_e336e0a2_0bcb_11ee_a0b6_12e413fbf88crow1_col1\" class=\"data row1 col1\" >1.14e+04</td>\n",
       "                        <td id=\"T_e336e0a2_0bcb_11ee_a0b6_12e413fbf88crow1_col2\" class=\"data row1 col2\" >0.172</td>\n",
       "                        <td id=\"T_e336e0a2_0bcb_11ee_a0b6_12e413fbf88crow1_col3\" class=\"data row1 col3\" >0.177</td>\n",
       "            </tr>\n",
       "            <tr>\n",
       "                        <th id=\"T_e336e0a2_0bcb_11ee_a0b6_12e413fbf88clevel0_row2\" class=\"row_heading level0 row2\" >10</th>\n",
       "                        <td id=\"T_e336e0a2_0bcb_11ee_a0b6_12e413fbf88crow2_col0\" class=\"data row2 col0\" >1.13e+04</td>\n",
       "                        <td id=\"T_e336e0a2_0bcb_11ee_a0b6_12e413fbf88crow2_col1\" class=\"data row2 col1\" >1.13e+04</td>\n",
       "                        <td id=\"T_e336e0a2_0bcb_11ee_a0b6_12e413fbf88crow2_col2\" class=\"data row2 col2\" >0.105</td>\n",
       "                        <td id=\"T_e336e0a2_0bcb_11ee_a0b6_12e413fbf88crow2_col3\" class=\"data row2 col3\" >0.107</td>\n",
       "            </tr>\n",
       "            <tr>\n",
       "                        <th id=\"T_e336e0a2_0bcb_11ee_a0b6_12e413fbf88clevel0_row3\" class=\"row_heading level0 row3\" >15</th>\n",
       "                        <td id=\"T_e336e0a2_0bcb_11ee_a0b6_12e413fbf88crow3_col0\" class=\"data row3 col0\" >1.09e+04</td>\n",
       "                        <td id=\"T_e336e0a2_0bcb_11ee_a0b6_12e413fbf88crow3_col1\" class=\"data row3 col1\" >1.08e+04</td>\n",
       "                        <td id=\"T_e336e0a2_0bcb_11ee_a0b6_12e413fbf88crow3_col2\" class=\"data row3 col2\" >0.0807</td>\n",
       "                        <td id=\"T_e336e0a2_0bcb_11ee_a0b6_12e413fbf88crow3_col3\" class=\"data row3 col3\" >0.0814</td>\n",
       "            </tr>\n",
       "    </tbody></table>"
      ],
      "text/plain": [
       "<pandas.io.formats.style.Styler at 0x7feb776e0190>"
      ]
     },
     "metadata": {},
     "output_type": "display_data"
    }
   ],
   "source": [
    "### Run Simulation\n",
    "config = Configuration.from_yaml('../../../docs/tardis_example.yml')\n",
    "atom_data = AtomData.from_hdf(os.path.join(get_data_dir(), 'kurucz_cd23_chianti_H_He.h5'))\n",
    "model = Radial1DModel.from_config(config, atom_data=atom_data)\n",
    "plasma = assemble_plasma(config, model, atom_data=atom_data)\n",
    "sim = Simulation.from_config(config, model=model, plasma=plasma)\n",
    "sim.run()"
   ]
  },
  {
   "cell_type": "code",
   "execution_count": 3,
   "metadata": {},
   "outputs": [
    {
     "name": "stderr",
     "output_type": "stream",
     "text": [
      "/Users/archil/Documents/tardis_ayushi/tardis/visualization/widgets/grotrian.py:102: PerformanceWarning:\n",
      "\n",
      "indexing past lexsort depth may impact performance.\n",
      "\n",
      "/Users/archil/Documents/tardis_ayushi/tardis/visualization/widgets/grotrian.py:107: PerformanceWarning:\n",
      "\n",
      "indexing past lexsort depth may impact performance.\n",
      "\n"
     ]
    },
    {
     "data": {
      "application/vnd.jupyter.widget-view+json": {
       "model_id": "7ad3af1c094449018ee78f7c09488c15",
       "version_major": 2,
       "version_minor": 0
      },
      "text/plain": [
       "FigureWidget({\n",
       "    'data': [{'hovertemplate': 'Energy: 19.8 eV<br>Population: 1.96e-01<extra></extra>',\n",
       "              'line': {'color': 'black', 'width': 4.0},\n",
       "              'mode': 'lines+text',\n",
       "              'showlegend': False,\n",
       "              'type': 'scatter',\n",
       "              'uid': '8997929c-63a7-40a7-94f2-4e66e2b79111',\n",
       "              'x': [0, 1],\n",
       "              'y': [1, 1]},\n",
       "             {'hovertemplate': 'Energy: 20.6 eV<br>Population: 2.89e-02<extra></extra>',\n",
       "              'line': {'color': 'black', 'width': 1.0},\n",
       "              'mode': 'lines+text',\n",
       "              'showlegend': False,\n",
       "              'type': 'scatter',\n",
       "              'uid': 'd5c0045f-1a99-4aea-9527-bc3f12ba1a9f',\n",
       "              'x': [0, 1],\n",
       "              'y': [2, 2]},\n",
       "             {'hovertemplate': 'Energy: 21.0 eV<br>Population: 1.82e-01<extra></extra>',\n",
       "              'line': {'color': 'black', 'width': 3.886147641627425},\n",
       "              'mode': 'lines+text',\n",
       "              'showlegend': False,\n",
       "              'type': 'scatter',\n",
       "              'uid': '8e37f4eb-bf2d-4640-bef2-78f848ba417b',\n",
       "              'x': [0, 1],\n",
       "              'y': [3, 3]},\n",
       "             {'hovertemplate': 'Energy: 21.2 eV<br>Population: 4.68e-02<extra></extra>',\n",
       "              'line': {'color': 'black', 'width': 1.7562902008221155},\n",
       "              'mode': 'lines+text',\n",
       "              'showlegend': False,\n",
       "              'type': 'scatter',\n",
       "              'uid': '15387310-7f4f-4e73-b0d5-b06778d2f4d4',\n",
       "              'x': [0, 1],\n",
       "              'y': [4, 4]},\n",
       "             {'hovertemplate': 'Energy: 22.9 eV<br>Population: 3.28e-02<extra></extra>',\n",
       "              'line': {'color': 'black', 'width': 1.2005525985385797},\n",
       "              'mode': 'lines+text',\n",
       "              'showlegend': False,\n",
       "              'type': 'scatter',\n",
       "              'uid': '2cd650a9-08be-410d-ac02-85649599ad59',\n",
       "              'x': [0, 1],\n",
       "              'y': [5, 5]},\n",
       "             {'line': {'color': '#8d0ba5', 'width': 2.7924749837993907},\n",
       "              'marker': {'angleref': 'previous', 'color': '#8d0ba5', 'size': 9, 'symbol': 'arrow-bar-up'},\n",
       "              'type': 'scatter',\n",
       "              'uid': 'aec4b584-cc6c-4b87-960c-391158f2fac5',\n",
       "              'x': [0, 0.369961408666242],\n",
       "              'y': [1.0, 3.0]},\n",
       "             {'line': {'color': '#6700a8', 'width': 1.3271955345121476},\n",
       "              'marker': {'angleref': 'previous', 'color': '#6700a8', 'size': 9, 'symbol': 'arrow-bar-up'},\n",
       "              'type': 'scatter',\n",
       "              'uid': '425bf532-1427-443a-8a81-a7c0efd174b4',\n",
       "              'x': [0, 1.0],\n",
       "              'y': [1.0, 5.0]},\n",
       "             {'line': {'color': '#7d03a8', 'width': 1.0},\n",
       "              'marker': {'angleref': 'previous', 'color': '#7d03a8', 'size': 9, 'symbol': 'arrow-bar-up'},\n",
       "              'type': 'scatter',\n",
       "              'uid': '20c9d984-7a0e-40c5-ac0c-a95e8326bad7',\n",
       "              'x': [0, 1.0],\n",
       "              'y': [3.0, 5.0]},\n",
       "             {'line': {'color': '#8d0ba5', 'width': 3.0},\n",
       "              'marker': {'angleref': 'previous', 'color': '#8d0ba5', 'size': 9, 'symbol': 'arrow-bar-up'},\n",
       "              'type': 'scatter',\n",
       "              'uid': '6d152a40-74c0-4f9a-816c-dd100f2c7401',\n",
       "              'x': [0, 0.369961408666242],\n",
       "              'y': [3.0, 1.0]},\n",
       "             {'line': {'color': '#6700a8', 'width': 1.3924163792656352},\n",
       "              'marker': {'angleref': 'previous', 'color': '#6700a8', 'size': 9, 'symbol': 'arrow-bar-up'},\n",
       "              'type': 'scatter',\n",
       "              'uid': '86a60b38-b6ce-4991-9a02-d1dc5c65bd53',\n",
       "              'x': [0, 1.0],\n",
       "              'y': [5.0, 1.0]},\n",
       "             {'line': {'color': '#7d03a8', 'width': 1.3271955345121476},\n",
       "              'marker': {'angleref': 'previous', 'color': '#7d03a8', 'size': 9, 'symbol': 'arrow-bar-up'},\n",
       "              'type': 'scatter',\n",
       "              'uid': '3044b993-fd6f-453b-9928-1df73a6af67b',\n",
       "              'x': [0, 1.0],\n",
       "              'y': [5.0, 3.0]},\n",
       "             {'hoverinfo': 'none',\n",
       "              'marker': {'cmax': 7.264242261657182,\n",
       "                         'cmin': 2.7123280699773766,\n",
       "                         'colorbar': {'outlinewidth': 0,\n",
       "                                      'thickness': 5,\n",
       "                                      'ticktext': [5.2e+02, 7.1e+03, 9.7e+04,\n",
       "                                                   1.3e+06, 1.8e+07],\n",
       "                                      'tickvals': array([2.71232807, 3.85030662, 4.98828517, 6.12626371, 7.26424226]),\n",
       "                                      'title': {'text': 'Wavelength (Å)'},\n",
       "                                      'x': 1.2},\n",
       "                         'colorscale': [[0.0, '#0d0887'], [0.1111111111111111,\n",
       "                                        '#46039f'], [0.2222222222222222,\n",
       "                                        '#7201a8'], [0.3333333333333333,\n",
       "                                        '#9c179e'], [0.4444444444444444,\n",
       "                                        '#bd3786'], [0.5555555555555556,\n",
       "                                        '#d8576b'], [0.6666666666666666,\n",
       "                                        '#ed7953'], [0.7777777777777778,\n",
       "                                        '#fb9f3a'], [0.8888888888888888,\n",
       "                                        '#fdca26'], [1.0, '#f0f921']],\n",
       "                         'showscale': True},\n",
       "              'mode': 'markers',\n",
       "              'type': 'scatter',\n",
       "              'uid': '1d9ae921-510b-4018-b57b-c48e9a6441f6',\n",
       "              'x': [None],\n",
       "              'y': [None]}],\n",
       "    'layout': {'annotations': [{'showarrow': False, 'text': '0.0 eV', 'x': 1.1, 'y': 0},\n",
       "                               {'showarrow': False, 'text': '19.8 eV', 'x': 1.1, 'y': 1},\n",
       "                               {'showarrow': False, 'text': '20.6 eV', 'x': 1.1, 'y': 2},\n",
       "                               {'showarrow': False, 'text': '21.0 eV', 'x': 1.1, 'y': 3},\n",
       "                               {'showarrow': False, 'text': '21.2 eV', 'x': 1.1, 'y': 4},\n",
       "                               {'showarrow': False, 'text': '22.9 eV', 'x': 1.1, 'y': 5}],\n",
       "               'autosize': False,\n",
       "               'height': 700,\n",
       "               'plot_bgcolor': 'white',\n",
       "               'showlegend': False,\n",
       "               'template': '...',\n",
       "               'title': {'text': 'Grotrian Diagram for Helium I', 'x': 0.5},\n",
       "               'width': 700,\n",
       "               'xaxis': {'showgrid': False, 'showticklabels': False},\n",
       "               'yaxis': {'range': [0, None], 'showgrid': False, 'title': {'text': 'Level Number'}}}\n",
       "})"
      ]
     },
     "execution_count": 3,
     "metadata": {},
     "output_type": "execute_result"
    }
   ],
   "source": [
    "diag = GrotrianWidget.from_simulation(sim)\n",
    "diag.display()"
   ]
  },
  {
   "cell_type": "code",
   "execution_count": 4,
   "metadata": {},
   "outputs": [
    {
     "data": {
      "application/vnd.jupyter.widget-view+json": {
       "model_id": "14c7f8219609479592af941024923bbf",
       "version_major": 2,
       "version_minor": 0
      },
      "text/plain": [
       "FigureWidget({\n",
       "    'data': [{'hovertemplate': 'Energy: 0.0 eV<br>Population: 3.97e+01<extra></extra>',\n",
       "              'line': {'color': 'black', 'width': 4.0},\n",
       "              'mode': 'lines+text',\n",
       "              'showlegend': False,\n",
       "              'type': 'scatter',\n",
       "              'uid': '3fac8471-67d9-4e59-952b-5b2ad1a25e9b',\n",
       "              'x': [0, 1],\n",
       "              'y': [1, 1]},\n",
       "             {'hovertemplate': 'Energy: 2.0 eV<br>Population: 6.73e+00<extra></extra>',\n",
       "              'line': {'color': 'black', 'width': 3.5388805608331086},\n",
       "              'mode': 'lines+text',\n",
       "              'showlegend': False,\n",
       "              'type': 'scatter',\n",
       "              'uid': '8ea0f880-bb5f-4f6a-a8a8-160e9f20faef',\n",
       "              'x': [0, 1],\n",
       "              'y': [2, 2]},\n",
       "             {'hovertemplate': 'Energy: 4.2 eV<br>Population: 1.38e-01<extra></extra>',\n",
       "              'line': {'color': 'black', 'width': 2.5277328375747725},\n",
       "              'mode': 'lines+text',\n",
       "              'showlegend': False,\n",
       "              'type': 'scatter',\n",
       "              'uid': 'd12e281e-3150-4006-ad17-898ed98f3c26',\n",
       "              'x': [0, 1],\n",
       "              'y': [3, 3]},\n",
       "             {'hovertemplate': 'Energy: 9.1 eV<br>Population: 4.25e-03<extra></extra>',\n",
       "              'line': {'color': 'black', 'width': 1.624110156053765},\n",
       "              'mode': 'lines+text',\n",
       "              'showlegend': False,\n",
       "              'type': 'scatter',\n",
       "              'uid': 'c9aa41f6-bf17-49a5-904f-be74eb99fd1d',\n",
       "              'x': [0, 1],\n",
       "              'y': [4, 4]},\n",
       "             {'hovertemplate': 'Energy: 9.5 eV<br>Population: 1.74e-03<extra></extra>',\n",
       "              'line': {'color': 'black', 'width': 1.391281402740513},\n",
       "              'mode': 'lines+text',\n",
       "              'showlegend': False,\n",
       "              'type': 'scatter',\n",
       "              'uid': '700aa812-e787-4040-92f5-1b87bafecd41',\n",
       "              'x': [0, 1],\n",
       "              'y': [5, 5]},\n",
       "             {'hovertemplate': 'Energy: 10.7 eV<br>Population: 2.48e-03<extra></extra>',\n",
       "              'line': {'color': 'black', 'width': 1.484442400956719},\n",
       "              'mode': 'lines+text',\n",
       "              'showlegend': False,\n",
       "              'type': 'scatter',\n",
       "              'uid': '42d92fad-8147-4865-9d6a-4014b4d37ee8',\n",
       "              'x': [0, 1],\n",
       "              'y': [6, 6]},\n",
       "             {'hovertemplate': 'Energy: 11.0 eV<br>Population: 3.85e-04<extra></extra>',\n",
       "              'line': {'color': 'black', 'width': 1.0},\n",
       "              'mode': 'lines+text',\n",
       "              'showlegend': False,\n",
       "              'type': 'scatter',\n",
       "              'uid': '262273fe-7862-427c-b1c7-586daa19c65c',\n",
       "              'x': [0, 1],\n",
       "              'y': [7, 7]},\n",
       "             {'line': {'color': '#370499', 'width': 2.9037617551449957},\n",
       "              'marker': {'angleref': 'previous', 'color': '#370499', 'size': 9, 'symbol': 'arrow-bar-up'},\n",
       "              'type': 'scatter',\n",
       "              'uid': 'e52fdb9f-c935-4011-9a79-02610afdb8cb',\n",
       "              'x': [0, 0.8661704974083189],\n",
       "              'y': [1.0, 5.0]},\n",
       "             {'line': {'color': '#c33d80', 'width': 1.0},\n",
       "              'marker': {'angleref': 'previous', 'color': '#c33d80', 'size': 9, 'symbol': 'arrow-bar-up'},\n",
       "              'type': 'scatter',\n",
       "              'uid': 'f93df70b-cc0a-4727-a60e-011985736cc8',\n",
       "              'x': [0, 0.86528023167925],\n",
       "              'y': [4.0, 6.0]},\n",
       "             {'line': {'color': '#370499', 'width': 3.0},\n",
       "              'marker': {'angleref': 'previous', 'color': '#370499', 'size': 9, 'symbol': 'arrow-bar-up'},\n",
       "              'type': 'scatter',\n",
       "              'uid': '3ebdfb1a-3b18-41a4-9cf4-90d9188dd999',\n",
       "              'x': [0, 0.8661704974083189],\n",
       "              'y': [5.0, 1.0]},\n",
       "             {'line': {'color': '#c33d80', 'width': 1.9789842158915474},\n",
       "              'marker': {'angleref': 'previous', 'color': '#c33d80', 'size': 9, 'symbol': 'arrow-bar-up'},\n",
       "              'type': 'scatter',\n",
       "              'uid': '41939042-b17d-4f07-b45c-f39d853d78ec',\n",
       "              'x': [0, 0.86528023167925],\n",
       "              'y': [6.0, 4.0]},\n",
       "             {'hoverinfo': 'none',\n",
       "              'marker': {'cmax': 4.944484063098661,\n",
       "                         'cmin': 2.9636263530774882,\n",
       "                         'colorbar': {'outlinewidth': 0,\n",
       "                                      'thickness': 5,\n",
       "                                      'ticktext': [9.2e+02, 2.9e+03, 9.0e+03,\n",
       "                                                   2.8e+04, 8.8e+04],\n",
       "                                      'tickvals': array([2.96362635, 3.45884078, 3.95405521, 4.44926964, 4.94448406]),\n",
       "                                      'title': {'text': 'Wavelength (Å)'},\n",
       "                                      'x': 1.2},\n",
       "                         'colorscale': [[0.0, '#0d0887'], [0.1111111111111111,\n",
       "                                        '#46039f'], [0.2222222222222222,\n",
       "                                        '#7201a8'], [0.3333333333333333,\n",
       "                                        '#9c179e'], [0.4444444444444444,\n",
       "                                        '#bd3786'], [0.5555555555555556,\n",
       "                                        '#d8576b'], [0.6666666666666666,\n",
       "                                        '#ed7953'], [0.7777777777777778,\n",
       "                                        '#fb9f3a'], [0.8888888888888888,\n",
       "                                        '#fdca26'], [1.0, '#f0f921']],\n",
       "                         'showscale': True},\n",
       "              'mode': 'markers',\n",
       "              'type': 'scatter',\n",
       "              'uid': 'da234959-4ecb-43eb-8b96-ccb3145fed51',\n",
       "              'x': [None],\n",
       "              'y': [None]}],\n",
       "    'layout': {'annotations': [{'showarrow': False, 'text': '0.0 eV', 'x': 1.1, 'y': 0},\n",
       "                               {'showarrow': False, 'text': '0.0 eV', 'x': 1.1, 'y': 1},\n",
       "                               {'showarrow': False, 'text': '2.0 eV', 'x': 1.1, 'y': 2},\n",
       "                               {'showarrow': False, 'text': '4.2 eV', 'x': 1.1, 'y': 3},\n",
       "                               {'showarrow': False, 'text': '9.1 eV', 'x': 1.1, 'y': 4},\n",
       "                               {'showarrow': False, 'text': '9.5 eV', 'x': 1.1, 'y': 5},\n",
       "                               {'showarrow': False, 'text': '10.7 eV', 'x': 1.1, 'y': 6},\n",
       "                               {'showarrow': False, 'text': '11.0 eV', 'x': 1.1, 'y': 7}],\n",
       "               'autosize': False,\n",
       "               'height': 700,\n",
       "               'plot_bgcolor': 'white',\n",
       "               'showlegend': False,\n",
       "               'template': '...',\n",
       "               'title': {'text': 'Grotrian Diagram for Oxygen I', 'x': 0.5},\n",
       "               'width': 700,\n",
       "               'xaxis': {'showgrid': False, 'showticklabels': False},\n",
       "               'yaxis': {'range': [0, None], 'showgrid': False, 'title': {'text': 'Level Number'}}}\n",
       "})"
      ]
     },
     "execution_count": 4,
     "metadata": {},
     "output_type": "execute_result"
    }
   ],
   "source": [
    "diag = GrotrianWidget.from_simulation(sim)\n",
    "diag.atomic_number = 8\n",
    "diag.ion_number = 0\n",
    "diag.display()"
   ]
  },
  {
   "cell_type": "code",
   "execution_count": 5,
   "metadata": {},
   "outputs": [],
   "source": [
    "# When number of electrons are very less (see atomic number 16),\n",
    "# then just render an empty Grotrian diagram (or don't show it in options)\n",
    "\n"
   ]
  },
  {
   "cell_type": "code",
   "execution_count": null,
   "metadata": {},
   "outputs": [],
   "source": []
  }
 ],
 "metadata": {
  "kernelspec": {
   "display_name": "Python 3 (ipykernel)",
   "language": "python",
   "name": "python3"
  },
  "language_info": {
   "codemirror_mode": {
    "name": "ipython",
    "version": 3
   },
   "file_extension": ".py",
   "mimetype": "text/x-python",
   "name": "python",
   "nbconvert_exporter": "python",
   "pygments_lexer": "ipython3",
   "version": "3.8.16"
  }
 },
 "nbformat": 4,
 "nbformat_minor": 2
}
