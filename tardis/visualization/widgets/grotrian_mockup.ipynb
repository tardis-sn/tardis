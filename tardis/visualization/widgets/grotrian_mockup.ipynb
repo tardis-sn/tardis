{
 "cells": [
  {
   "cell_type": "code",
   "execution_count": 1,
   "metadata": {},
   "outputs": [
    {
     "data": {
      "application/vnd.jupyter.widget-view+json": {
       "model_id": "",
       "version_major": 2,
       "version_minor": 0
      },
      "text/plain": [
       "Iterations:          0/? [00:00<?, ?it/s]"
      ]
     },
     "metadata": {},
     "output_type": "display_data"
    },
    {
     "data": {
      "application/vnd.jupyter.widget-view+json": {
       "model_id": "",
       "version_major": 2,
       "version_minor": 0
      },
      "text/plain": [
       "Packets:             0/? [00:00<?, ?it/s]"
      ]
     },
     "metadata": {},
     "output_type": "display_data"
    },
    {
     "data": {
      "text/html": [
       "        <script type=\"text/javascript\">\n",
       "        window.PlotlyConfig = {MathJaxConfig: 'local'};\n",
       "        if (window.MathJax && window.MathJax.Hub && window.MathJax.Hub.Config) {window.MathJax.Hub.Config({SVG: {font: \"STIX-Web\"}});}\n",
       "        if (typeof require !== 'undefined') {\n",
       "        require.undef(\"plotly\");\n",
       "        requirejs.config({\n",
       "            paths: {\n",
       "                'plotly': ['https://cdn.plot.ly/plotly-2.18.0.min']\n",
       "            }\n",
       "        });\n",
       "        require(['plotly'], function(Plotly) {\n",
       "            window._Plotly = Plotly;\n",
       "        });\n",
       "        }\n",
       "        </script>\n",
       "        "
      ]
     },
     "metadata": {},
     "output_type": "display_data"
    }
   ],
   "source": [
    "from tardis.io.config_reader import Configuration\n",
    "from tardis.simulation import Simulation\n",
    "from tardis.plasma.standard_plasmas import assemble_plasma\n",
    "from tardis.model import Radial1DModel\n",
    "from tardis.io.atom_data import AtomData\n",
    "from tardis.visualization.widgets.grotrian import GrotrianWidget\n",
    "from tardis.io.config_internal import get_data_dir\n",
    "from plotly.offline import init_notebook_mode\n",
    "init_notebook_mode(connected=True)\n",
    "import os"
   ]
  },
  {
   "cell_type": "code",
   "execution_count": 2,
   "metadata": {},
   "outputs": [
    {
     "name": "stderr",
     "output_type": "stream",
     "text": [
      "Abundances have not been normalized to 1. - normalizing\n",
      "Zeta_data missing - replaced with 1s. Missing ions: [(12, 13), (14, 15), (16, 17), (18, 19), (20, 21)]\n",
      "/Users/archil/Documents/tardis_ayushi/tardis/plasma/properties/radiative_properties.py:93: RuntimeWarning:\n",
      "\n",
      "divide by zero encountered in true_divide\n",
      "\n",
      "/Users/archil/Documents/tardis_ayushi/tardis/plasma/properties/radiative_properties.py:93: RuntimeWarning:\n",
      "\n",
      "invalid value encountered in true_divide\n",
      "\n",
      "OMP: Info #276: omp_set_nested routine deprecated, please use omp_set_max_active_levels instead.\n",
      "Zeta_data missing - replaced with 1s. Missing ions: [(12, 13), (14, 15), (16, 17), (18, 19), (20, 21)]\n",
      "/Users/archil/Documents/tardis_ayushi/tardis/plasma/properties/radiative_properties.py:93: RuntimeWarning:\n",
      "\n",
      "divide by zero encountered in true_divide\n",
      "\n",
      "/Users/archil/Documents/tardis_ayushi/tardis/plasma/properties/radiative_properties.py:93: RuntimeWarning:\n",
      "\n",
      "invalid value encountered in true_divide\n",
      "\n"
     ]
    },
    {
     "data": {
      "application/vnd.jupyter.widget-view+json": {
       "model_id": "2891aa9cc3e543ab8147972349f4284e",
       "version_major": 2,
       "version_minor": 0
      },
      "text/plain": [
       "TqdmHBox(children=(HTML(value='Iterations:', layout=Layout(width='6%')), FloatProgress(value=0.0, layout=Layou…"
      ]
     },
     "metadata": {},
     "output_type": "display_data"
    },
    {
     "data": {
      "application/vnd.jupyter.widget-view+json": {
       "model_id": "ad3d12a306c94394b14bcfc59aeeaa37",
       "version_major": 2,
       "version_minor": 0
      },
      "text/plain": [
       "TqdmHBox(children=(HTML(value='Packets:   ', layout=Layout(width='6%')), FloatProgress(value=0.0, layout=Layou…"
      ]
     },
     "metadata": {},
     "output_type": "display_data"
    },
    {
     "data": {
      "text/html": [
       "<style  type=\"text/css\" >\n",
       "</style><table id=\"T_9f09bbc0_1f44_11ee_83b2_12e413fbf88c\" ><thead>    <tr>        <th class=\"index_name level0\" >Shell No.</th>        <th class=\"col_heading level0 col0\" >t_rad</th>        <th class=\"col_heading level0 col1\" >next_t_rad</th>        <th class=\"col_heading level0 col2\" >w</th>        <th class=\"col_heading level0 col3\" >next_w</th>    </tr></thead><tbody>\n",
       "                <tr>\n",
       "                        <th id=\"T_9f09bbc0_1f44_11ee_83b2_12e413fbf88clevel0_row0\" class=\"row_heading level0 row0\" >0</th>\n",
       "                        <td id=\"T_9f09bbc0_1f44_11ee_83b2_12e413fbf88crow0_col0\" class=\"data row0 col0\" >9.93e+03</td>\n",
       "                        <td id=\"T_9f09bbc0_1f44_11ee_83b2_12e413fbf88crow0_col1\" class=\"data row0 col1\" >1.01e+04</td>\n",
       "                        <td id=\"T_9f09bbc0_1f44_11ee_83b2_12e413fbf88crow0_col2\" class=\"data row0 col2\" >0.4</td>\n",
       "                        <td id=\"T_9f09bbc0_1f44_11ee_83b2_12e413fbf88crow0_col3\" class=\"data row0 col3\" >0.525</td>\n",
       "            </tr>\n",
       "            <tr>\n",
       "                        <th id=\"T_9f09bbc0_1f44_11ee_83b2_12e413fbf88clevel0_row1\" class=\"row_heading level0 row1\" >5</th>\n",
       "                        <td id=\"T_9f09bbc0_1f44_11ee_83b2_12e413fbf88crow1_col0\" class=\"data row1 col0\" >9.85e+03</td>\n",
       "                        <td id=\"T_9f09bbc0_1f44_11ee_83b2_12e413fbf88crow1_col1\" class=\"data row1 col1\" >1.03e+04</td>\n",
       "                        <td id=\"T_9f09bbc0_1f44_11ee_83b2_12e413fbf88crow1_col2\" class=\"data row1 col2\" >0.211</td>\n",
       "                        <td id=\"T_9f09bbc0_1f44_11ee_83b2_12e413fbf88crow1_col3\" class=\"data row1 col3\" >0.196</td>\n",
       "            </tr>\n",
       "            <tr>\n",
       "                        <th id=\"T_9f09bbc0_1f44_11ee_83b2_12e413fbf88clevel0_row2\" class=\"row_heading level0 row2\" >10</th>\n",
       "                        <td id=\"T_9f09bbc0_1f44_11ee_83b2_12e413fbf88crow2_col0\" class=\"data row2 col0\" >9.78e+03</td>\n",
       "                        <td id=\"T_9f09bbc0_1f44_11ee_83b2_12e413fbf88crow2_col1\" class=\"data row2 col1\" >1.02e+04</td>\n",
       "                        <td id=\"T_9f09bbc0_1f44_11ee_83b2_12e413fbf88crow2_col2\" class=\"data row2 col2\" >0.143</td>\n",
       "                        <td id=\"T_9f09bbc0_1f44_11ee_83b2_12e413fbf88crow2_col3\" class=\"data row2 col3\" >0.115</td>\n",
       "            </tr>\n",
       "            <tr>\n",
       "                        <th id=\"T_9f09bbc0_1f44_11ee_83b2_12e413fbf88clevel0_row3\" class=\"row_heading level0 row3\" >15</th>\n",
       "                        <td id=\"T_9f09bbc0_1f44_11ee_83b2_12e413fbf88crow3_col0\" class=\"data row3 col0\" >9.71e+03</td>\n",
       "                        <td id=\"T_9f09bbc0_1f44_11ee_83b2_12e413fbf88crow3_col1\" class=\"data row3 col1\" >9.88e+03</td>\n",
       "                        <td id=\"T_9f09bbc0_1f44_11ee_83b2_12e413fbf88crow3_col2\" class=\"data row3 col2\" >0.105</td>\n",
       "                        <td id=\"T_9f09bbc0_1f44_11ee_83b2_12e413fbf88crow3_col3\" class=\"data row3 col3\" >0.0843</td>\n",
       "            </tr>\n",
       "    </tbody></table>"
      ],
      "text/plain": [
       "<pandas.io.formats.style.Styler at 0x7f974c6f2fa0>"
      ]
     },
     "metadata": {},
     "output_type": "display_data"
    },
    {
     "name": "stderr",
     "output_type": "stream",
     "text": [
      "/Users/archil/Documents/tardis_ayushi/tardis/plasma/properties/radiative_properties.py:93: RuntimeWarning:\n",
      "\n",
      "divide by zero encountered in true_divide\n",
      "\n",
      "/Users/archil/Documents/tardis_ayushi/tardis/plasma/properties/radiative_properties.py:93: RuntimeWarning:\n",
      "\n",
      "invalid value encountered in true_divide\n",
      "\n"
     ]
    },
    {
     "data": {
      "application/vnd.jupyter.widget-view+json": {
       "model_id": "a57cab1bbd7a4ee686e77586d4cf09a9",
       "version_major": 2,
       "version_minor": 0
      },
      "text/plain": [
       "VBox(children=(FigureWidget({\n",
       "    'data': [{'type': 'scatter', 'uid': 'a53af338-2162-47bc-b359-ee02c323560f', …"
      ]
     },
     "metadata": {},
     "output_type": "display_data"
    },
    {
     "data": {
      "text/html": [
       "<style  type=\"text/css\" >\n",
       "</style><table id=\"T_a05b6c6c_1f44_11ee_83b2_12e413fbf88c\" ><thead>    <tr>        <th class=\"index_name level0\" >Shell No.</th>        <th class=\"col_heading level0 col0\" >t_rad</th>        <th class=\"col_heading level0 col1\" >next_t_rad</th>        <th class=\"col_heading level0 col2\" >w</th>        <th class=\"col_heading level0 col3\" >next_w</th>    </tr></thead><tbody>\n",
       "                <tr>\n",
       "                        <th id=\"T_a05b6c6c_1f44_11ee_83b2_12e413fbf88clevel0_row0\" class=\"row_heading level0 row0\" >0</th>\n",
       "                        <td id=\"T_a05b6c6c_1f44_11ee_83b2_12e413fbf88crow0_col0\" class=\"data row0 col0\" >1.01e+04</td>\n",
       "                        <td id=\"T_a05b6c6c_1f44_11ee_83b2_12e413fbf88crow0_col1\" class=\"data row0 col1\" >1.1e+04</td>\n",
       "                        <td id=\"T_a05b6c6c_1f44_11ee_83b2_12e413fbf88crow0_col2\" class=\"data row0 col2\" >0.525</td>\n",
       "                        <td id=\"T_a05b6c6c_1f44_11ee_83b2_12e413fbf88crow0_col3\" class=\"data row0 col3\" >0.544</td>\n",
       "            </tr>\n",
       "            <tr>\n",
       "                        <th id=\"T_a05b6c6c_1f44_11ee_83b2_12e413fbf88clevel0_row1\" class=\"row_heading level0 row1\" >5</th>\n",
       "                        <td id=\"T_a05b6c6c_1f44_11ee_83b2_12e413fbf88crow1_col0\" class=\"data row1 col0\" >1.03e+04</td>\n",
       "                        <td id=\"T_a05b6c6c_1f44_11ee_83b2_12e413fbf88crow1_col1\" class=\"data row1 col1\" >1.11e+04</td>\n",
       "                        <td id=\"T_a05b6c6c_1f44_11ee_83b2_12e413fbf88crow1_col2\" class=\"data row1 col2\" >0.196</td>\n",
       "                        <td id=\"T_a05b6c6c_1f44_11ee_83b2_12e413fbf88crow1_col3\" class=\"data row1 col3\" >0.204</td>\n",
       "            </tr>\n",
       "            <tr>\n",
       "                        <th id=\"T_a05b6c6c_1f44_11ee_83b2_12e413fbf88clevel0_row2\" class=\"row_heading level0 row2\" >10</th>\n",
       "                        <td id=\"T_a05b6c6c_1f44_11ee_83b2_12e413fbf88crow2_col0\" class=\"data row2 col0\" >1.02e+04</td>\n",
       "                        <td id=\"T_a05b6c6c_1f44_11ee_83b2_12e413fbf88crow2_col1\" class=\"data row2 col1\" >1.08e+04</td>\n",
       "                        <td id=\"T_a05b6c6c_1f44_11ee_83b2_12e413fbf88crow2_col2\" class=\"data row2 col2\" >0.115</td>\n",
       "                        <td id=\"T_a05b6c6c_1f44_11ee_83b2_12e413fbf88crow2_col3\" class=\"data row2 col3\" >0.125</td>\n",
       "            </tr>\n",
       "            <tr>\n",
       "                        <th id=\"T_a05b6c6c_1f44_11ee_83b2_12e413fbf88clevel0_row3\" class=\"row_heading level0 row3\" >15</th>\n",
       "                        <td id=\"T_a05b6c6c_1f44_11ee_83b2_12e413fbf88crow3_col0\" class=\"data row3 col0\" >9.88e+03</td>\n",
       "                        <td id=\"T_a05b6c6c_1f44_11ee_83b2_12e413fbf88crow3_col1\" class=\"data row3 col1\" >1.06e+04</td>\n",
       "                        <td id=\"T_a05b6c6c_1f44_11ee_83b2_12e413fbf88crow3_col2\" class=\"data row3 col2\" >0.0843</td>\n",
       "                        <td id=\"T_a05b6c6c_1f44_11ee_83b2_12e413fbf88crow3_col3\" class=\"data row3 col3\" >0.0914</td>\n",
       "            </tr>\n",
       "    </tbody></table>"
      ],
      "text/plain": [
       "<pandas.io.formats.style.Styler at 0x7f9728e90370>"
      ]
     },
     "metadata": {},
     "output_type": "display_data"
    },
    {
     "name": "stderr",
     "output_type": "stream",
     "text": [
      "/Users/archil/Documents/tardis_ayushi/tardis/plasma/properties/radiative_properties.py:93: RuntimeWarning:\n",
      "\n",
      "divide by zero encountered in true_divide\n",
      "\n",
      "/Users/archil/Documents/tardis_ayushi/tardis/plasma/properties/radiative_properties.py:93: RuntimeWarning:\n",
      "\n",
      "invalid value encountered in true_divide\n",
      "\n"
     ]
    },
    {
     "data": {
      "text/html": [
       "<style  type=\"text/css\" >\n",
       "</style><table id=\"T_a0df7e3a_1f44_11ee_83b2_12e413fbf88c\" ><thead>    <tr>        <th class=\"index_name level0\" >Shell No.</th>        <th class=\"col_heading level0 col0\" >t_rad</th>        <th class=\"col_heading level0 col1\" >next_t_rad</th>        <th class=\"col_heading level0 col2\" >w</th>        <th class=\"col_heading level0 col3\" >next_w</th>    </tr></thead><tbody>\n",
       "                <tr>\n",
       "                        <th id=\"T_a0df7e3a_1f44_11ee_83b2_12e413fbf88clevel0_row0\" class=\"row_heading level0 row0\" >0</th>\n",
       "                        <td id=\"T_a0df7e3a_1f44_11ee_83b2_12e413fbf88crow0_col0\" class=\"data row0 col0\" >1.1e+04</td>\n",
       "                        <td id=\"T_a0df7e3a_1f44_11ee_83b2_12e413fbf88crow0_col1\" class=\"data row0 col1\" >1.11e+04</td>\n",
       "                        <td id=\"T_a0df7e3a_1f44_11ee_83b2_12e413fbf88crow0_col2\" class=\"data row0 col2\" >0.544</td>\n",
       "                        <td id=\"T_a0df7e3a_1f44_11ee_83b2_12e413fbf88crow0_col3\" class=\"data row0 col3\" >0.501</td>\n",
       "            </tr>\n",
       "            <tr>\n",
       "                        <th id=\"T_a0df7e3a_1f44_11ee_83b2_12e413fbf88clevel0_row1\" class=\"row_heading level0 row1\" >5</th>\n",
       "                        <td id=\"T_a0df7e3a_1f44_11ee_83b2_12e413fbf88crow1_col0\" class=\"data row1 col0\" >1.11e+04</td>\n",
       "                        <td id=\"T_a0df7e3a_1f44_11ee_83b2_12e413fbf88crow1_col1\" class=\"data row1 col1\" >1.14e+04</td>\n",
       "                        <td id=\"T_a0df7e3a_1f44_11ee_83b2_12e413fbf88crow1_col2\" class=\"data row1 col2\" >0.204</td>\n",
       "                        <td id=\"T_a0df7e3a_1f44_11ee_83b2_12e413fbf88crow1_col3\" class=\"data row1 col3\" >0.185</td>\n",
       "            </tr>\n",
       "            <tr>\n",
       "                        <th id=\"T_a0df7e3a_1f44_11ee_83b2_12e413fbf88clevel0_row2\" class=\"row_heading level0 row2\" >10</th>\n",
       "                        <td id=\"T_a0df7e3a_1f44_11ee_83b2_12e413fbf88crow2_col0\" class=\"data row2 col0\" >1.08e+04</td>\n",
       "                        <td id=\"T_a0df7e3a_1f44_11ee_83b2_12e413fbf88crow2_col1\" class=\"data row2 col1\" >1.11e+04</td>\n",
       "                        <td id=\"T_a0df7e3a_1f44_11ee_83b2_12e413fbf88crow2_col2\" class=\"data row2 col2\" >0.125</td>\n",
       "                        <td id=\"T_a0df7e3a_1f44_11ee_83b2_12e413fbf88crow2_col3\" class=\"data row2 col3\" >0.115</td>\n",
       "            </tr>\n",
       "            <tr>\n",
       "                        <th id=\"T_a0df7e3a_1f44_11ee_83b2_12e413fbf88clevel0_row3\" class=\"row_heading level0 row3\" >15</th>\n",
       "                        <td id=\"T_a0df7e3a_1f44_11ee_83b2_12e413fbf88crow3_col0\" class=\"data row3 col0\" >1.06e+04</td>\n",
       "                        <td id=\"T_a0df7e3a_1f44_11ee_83b2_12e413fbf88crow3_col1\" class=\"data row3 col1\" >1.08e+04</td>\n",
       "                        <td id=\"T_a0df7e3a_1f44_11ee_83b2_12e413fbf88crow3_col2\" class=\"data row3 col2\" >0.0914</td>\n",
       "                        <td id=\"T_a0df7e3a_1f44_11ee_83b2_12e413fbf88crow3_col3\" class=\"data row3 col3\" >0.086</td>\n",
       "            </tr>\n",
       "    </tbody></table>"
      ],
      "text/plain": [
       "<pandas.io.formats.style.Styler at 0x7f975dd86b50>"
      ]
     },
     "metadata": {},
     "output_type": "display_data"
    },
    {
     "data": {
      "text/html": [
       "<style  type=\"text/css\" >\n",
       "</style><table id=\"T_a15c5e8c_1f44_11ee_83b2_12e413fbf88c\" ><thead>    <tr>        <th class=\"index_name level0\" >Shell No.</th>        <th class=\"col_heading level0 col0\" >t_rad</th>        <th class=\"col_heading level0 col1\" >next_t_rad</th>        <th class=\"col_heading level0 col2\" >w</th>        <th class=\"col_heading level0 col3\" >next_w</th>    </tr></thead><tbody>\n",
       "                <tr>\n",
       "                        <th id=\"T_a15c5e8c_1f44_11ee_83b2_12e413fbf88clevel0_row0\" class=\"row_heading level0 row0\" >0</th>\n",
       "                        <td id=\"T_a15c5e8c_1f44_11ee_83b2_12e413fbf88crow0_col0\" class=\"data row0 col0\" >1.11e+04</td>\n",
       "                        <td id=\"T_a15c5e8c_1f44_11ee_83b2_12e413fbf88crow0_col1\" class=\"data row0 col1\" >1.11e+04</td>\n",
       "                        <td id=\"T_a15c5e8c_1f44_11ee_83b2_12e413fbf88crow0_col2\" class=\"data row0 col2\" >0.501</td>\n",
       "                        <td id=\"T_a15c5e8c_1f44_11ee_83b2_12e413fbf88crow0_col3\" class=\"data row0 col3\" >0.487</td>\n",
       "            </tr>\n",
       "            <tr>\n",
       "                        <th id=\"T_a15c5e8c_1f44_11ee_83b2_12e413fbf88clevel0_row1\" class=\"row_heading level0 row1\" >5</th>\n",
       "                        <td id=\"T_a15c5e8c_1f44_11ee_83b2_12e413fbf88crow1_col0\" class=\"data row1 col0\" >1.14e+04</td>\n",
       "                        <td id=\"T_a15c5e8c_1f44_11ee_83b2_12e413fbf88crow1_col1\" class=\"data row1 col1\" >1.14e+04</td>\n",
       "                        <td id=\"T_a15c5e8c_1f44_11ee_83b2_12e413fbf88crow1_col2\" class=\"data row1 col2\" >0.185</td>\n",
       "                        <td id=\"T_a15c5e8c_1f44_11ee_83b2_12e413fbf88crow1_col3\" class=\"data row1 col3\" >0.181</td>\n",
       "            </tr>\n",
       "            <tr>\n",
       "                        <th id=\"T_a15c5e8c_1f44_11ee_83b2_12e413fbf88clevel0_row2\" class=\"row_heading level0 row2\" >10</th>\n",
       "                        <td id=\"T_a15c5e8c_1f44_11ee_83b2_12e413fbf88crow2_col0\" class=\"data row2 col0\" >1.11e+04</td>\n",
       "                        <td id=\"T_a15c5e8c_1f44_11ee_83b2_12e413fbf88crow2_col1\" class=\"data row2 col1\" >1.11e+04</td>\n",
       "                        <td id=\"T_a15c5e8c_1f44_11ee_83b2_12e413fbf88crow2_col2\" class=\"data row2 col2\" >0.115</td>\n",
       "                        <td id=\"T_a15c5e8c_1f44_11ee_83b2_12e413fbf88crow2_col3\" class=\"data row2 col3\" >0.112</td>\n",
       "            </tr>\n",
       "            <tr>\n",
       "                        <th id=\"T_a15c5e8c_1f44_11ee_83b2_12e413fbf88clevel0_row3\" class=\"row_heading level0 row3\" >15</th>\n",
       "                        <td id=\"T_a15c5e8c_1f44_11ee_83b2_12e413fbf88crow3_col0\" class=\"data row3 col0\" >1.08e+04</td>\n",
       "                        <td id=\"T_a15c5e8c_1f44_11ee_83b2_12e413fbf88crow3_col1\" class=\"data row3 col1\" >1.08e+04</td>\n",
       "                        <td id=\"T_a15c5e8c_1f44_11ee_83b2_12e413fbf88crow3_col2\" class=\"data row3 col2\" >0.086</td>\n",
       "                        <td id=\"T_a15c5e8c_1f44_11ee_83b2_12e413fbf88crow3_col3\" class=\"data row3 col3\" >0.0819</td>\n",
       "            </tr>\n",
       "    </tbody></table>"
      ],
      "text/plain": [
       "<pandas.io.formats.style.Styler at 0x7f975dd9aac0>"
      ]
     },
     "metadata": {},
     "output_type": "display_data"
    },
    {
     "data": {
      "text/html": [
       "<style  type=\"text/css\" >\n",
       "</style><table id=\"T_a1d5f2f6_1f44_11ee_83b2_12e413fbf88c\" ><thead>    <tr>        <th class=\"index_name level0\" >Shell No.</th>        <th class=\"col_heading level0 col0\" >t_rad</th>        <th class=\"col_heading level0 col1\" >next_t_rad</th>        <th class=\"col_heading level0 col2\" >w</th>        <th class=\"col_heading level0 col3\" >next_w</th>    </tr></thead><tbody>\n",
       "                <tr>\n",
       "                        <th id=\"T_a1d5f2f6_1f44_11ee_83b2_12e413fbf88clevel0_row0\" class=\"row_heading level0 row0\" >0</th>\n",
       "                        <td id=\"T_a1d5f2f6_1f44_11ee_83b2_12e413fbf88crow0_col0\" class=\"data row0 col0\" >1.11e+04</td>\n",
       "                        <td id=\"T_a1d5f2f6_1f44_11ee_83b2_12e413fbf88crow0_col1\" class=\"data row0 col1\" >1.11e+04</td>\n",
       "                        <td id=\"T_a1d5f2f6_1f44_11ee_83b2_12e413fbf88crow0_col2\" class=\"data row0 col2\" >0.487</td>\n",
       "                        <td id=\"T_a1d5f2f6_1f44_11ee_83b2_12e413fbf88crow0_col3\" class=\"data row0 col3\" >0.497</td>\n",
       "            </tr>\n",
       "            <tr>\n",
       "                        <th id=\"T_a1d5f2f6_1f44_11ee_83b2_12e413fbf88clevel0_row1\" class=\"row_heading level0 row1\" >5</th>\n",
       "                        <td id=\"T_a1d5f2f6_1f44_11ee_83b2_12e413fbf88crow1_col0\" class=\"data row1 col0\" >1.14e+04</td>\n",
       "                        <td id=\"T_a1d5f2f6_1f44_11ee_83b2_12e413fbf88crow1_col1\" class=\"data row1 col1\" >1.14e+04</td>\n",
       "                        <td id=\"T_a1d5f2f6_1f44_11ee_83b2_12e413fbf88crow1_col2\" class=\"data row1 col2\" >0.181</td>\n",
       "                        <td id=\"T_a1d5f2f6_1f44_11ee_83b2_12e413fbf88crow1_col3\" class=\"data row1 col3\" >0.178</td>\n",
       "            </tr>\n",
       "            <tr>\n",
       "                        <th id=\"T_a1d5f2f6_1f44_11ee_83b2_12e413fbf88clevel0_row2\" class=\"row_heading level0 row2\" >10</th>\n",
       "                        <td id=\"T_a1d5f2f6_1f44_11ee_83b2_12e413fbf88crow2_col0\" class=\"data row2 col0\" >1.11e+04</td>\n",
       "                        <td id=\"T_a1d5f2f6_1f44_11ee_83b2_12e413fbf88crow2_col1\" class=\"data row2 col1\" >1.13e+04</td>\n",
       "                        <td id=\"T_a1d5f2f6_1f44_11ee_83b2_12e413fbf88crow2_col2\" class=\"data row2 col2\" >0.112</td>\n",
       "                        <td id=\"T_a1d5f2f6_1f44_11ee_83b2_12e413fbf88crow2_col3\" class=\"data row2 col3\" >0.107</td>\n",
       "            </tr>\n",
       "            <tr>\n",
       "                        <th id=\"T_a1d5f2f6_1f44_11ee_83b2_12e413fbf88clevel0_row3\" class=\"row_heading level0 row3\" >15</th>\n",
       "                        <td id=\"T_a1d5f2f6_1f44_11ee_83b2_12e413fbf88crow3_col0\" class=\"data row3 col0\" >1.08e+04</td>\n",
       "                        <td id=\"T_a1d5f2f6_1f44_11ee_83b2_12e413fbf88crow3_col1\" class=\"data row3 col1\" >1.1e+04</td>\n",
       "                        <td id=\"T_a1d5f2f6_1f44_11ee_83b2_12e413fbf88crow3_col2\" class=\"data row3 col2\" >0.0819</td>\n",
       "                        <td id=\"T_a1d5f2f6_1f44_11ee_83b2_12e413fbf88crow3_col3\" class=\"data row3 col3\" >0.0779</td>\n",
       "            </tr>\n",
       "    </tbody></table>"
      ],
      "text/plain": [
       "<pandas.io.formats.style.Styler at 0x7f975d58e700>"
      ]
     },
     "metadata": {},
     "output_type": "display_data"
    },
    {
     "data": {
      "text/html": [
       "<style  type=\"text/css\" >\n",
       "</style><table id=\"T_a24d37d0_1f44_11ee_83b2_12e413fbf88c\" ><thead>    <tr>        <th class=\"index_name level0\" >Shell No.</th>        <th class=\"col_heading level0 col0\" >t_rad</th>        <th class=\"col_heading level0 col1\" >next_t_rad</th>        <th class=\"col_heading level0 col2\" >w</th>        <th class=\"col_heading level0 col3\" >next_w</th>    </tr></thead><tbody>\n",
       "                <tr>\n",
       "                        <th id=\"T_a24d37d0_1f44_11ee_83b2_12e413fbf88clevel0_row0\" class=\"row_heading level0 row0\" >0</th>\n",
       "                        <td id=\"T_a24d37d0_1f44_11ee_83b2_12e413fbf88crow0_col0\" class=\"data row0 col0\" >1.11e+04</td>\n",
       "                        <td id=\"T_a24d37d0_1f44_11ee_83b2_12e413fbf88crow0_col1\" class=\"data row0 col1\" >1.12e+04</td>\n",
       "                        <td id=\"T_a24d37d0_1f44_11ee_83b2_12e413fbf88crow0_col2\" class=\"data row0 col2\" >0.497</td>\n",
       "                        <td id=\"T_a24d37d0_1f44_11ee_83b2_12e413fbf88crow0_col3\" class=\"data row0 col3\" >0.488</td>\n",
       "            </tr>\n",
       "            <tr>\n",
       "                        <th id=\"T_a24d37d0_1f44_11ee_83b2_12e413fbf88clevel0_row1\" class=\"row_heading level0 row1\" >5</th>\n",
       "                        <td id=\"T_a24d37d0_1f44_11ee_83b2_12e413fbf88crow1_col0\" class=\"data row1 col0\" >1.14e+04</td>\n",
       "                        <td id=\"T_a24d37d0_1f44_11ee_83b2_12e413fbf88crow1_col1\" class=\"data row1 col1\" >1.14e+04</td>\n",
       "                        <td id=\"T_a24d37d0_1f44_11ee_83b2_12e413fbf88crow1_col2\" class=\"data row1 col2\" >0.178</td>\n",
       "                        <td id=\"T_a24d37d0_1f44_11ee_83b2_12e413fbf88crow1_col3\" class=\"data row1 col3\" >0.184</td>\n",
       "            </tr>\n",
       "            <tr>\n",
       "                        <th id=\"T_a24d37d0_1f44_11ee_83b2_12e413fbf88clevel0_row2\" class=\"row_heading level0 row2\" >10</th>\n",
       "                        <td id=\"T_a24d37d0_1f44_11ee_83b2_12e413fbf88crow2_col0\" class=\"data row2 col0\" >1.13e+04</td>\n",
       "                        <td id=\"T_a24d37d0_1f44_11ee_83b2_12e413fbf88crow2_col1\" class=\"data row2 col1\" >1.11e+04</td>\n",
       "                        <td id=\"T_a24d37d0_1f44_11ee_83b2_12e413fbf88crow2_col2\" class=\"data row2 col2\" >0.107</td>\n",
       "                        <td id=\"T_a24d37d0_1f44_11ee_83b2_12e413fbf88crow2_col3\" class=\"data row2 col3\" >0.113</td>\n",
       "            </tr>\n",
       "            <tr>\n",
       "                        <th id=\"T_a24d37d0_1f44_11ee_83b2_12e413fbf88clevel0_row3\" class=\"row_heading level0 row3\" >15</th>\n",
       "                        <td id=\"T_a24d37d0_1f44_11ee_83b2_12e413fbf88crow3_col0\" class=\"data row3 col0\" >1.1e+04</td>\n",
       "                        <td id=\"T_a24d37d0_1f44_11ee_83b2_12e413fbf88crow3_col1\" class=\"data row3 col1\" >1.08e+04</td>\n",
       "                        <td id=\"T_a24d37d0_1f44_11ee_83b2_12e413fbf88crow3_col2\" class=\"data row3 col2\" >0.0779</td>\n",
       "                        <td id=\"T_a24d37d0_1f44_11ee_83b2_12e413fbf88crow3_col3\" class=\"data row3 col3\" >0.082</td>\n",
       "            </tr>\n",
       "    </tbody></table>"
      ],
      "text/plain": [
       "<pandas.io.formats.style.Styler at 0x7f97295c2ee0>"
      ]
     },
     "metadata": {},
     "output_type": "display_data"
    },
    {
     "data": {
      "text/html": [
       "<style  type=\"text/css\" >\n",
       "</style><table id=\"T_a2c68a7c_1f44_11ee_83b2_12e413fbf88c\" ><thead>    <tr>        <th class=\"index_name level0\" >Shell No.</th>        <th class=\"col_heading level0 col0\" >t_rad</th>        <th class=\"col_heading level0 col1\" >next_t_rad</th>        <th class=\"col_heading level0 col2\" >w</th>        <th class=\"col_heading level0 col3\" >next_w</th>    </tr></thead><tbody>\n",
       "                <tr>\n",
       "                        <th id=\"T_a2c68a7c_1f44_11ee_83b2_12e413fbf88clevel0_row0\" class=\"row_heading level0 row0\" >0</th>\n",
       "                        <td id=\"T_a2c68a7c_1f44_11ee_83b2_12e413fbf88crow0_col0\" class=\"data row0 col0\" >1.12e+04</td>\n",
       "                        <td id=\"T_a2c68a7c_1f44_11ee_83b2_12e413fbf88crow0_col1\" class=\"data row0 col1\" >1.11e+04</td>\n",
       "                        <td id=\"T_a2c68a7c_1f44_11ee_83b2_12e413fbf88crow0_col2\" class=\"data row0 col2\" >0.488</td>\n",
       "                        <td id=\"T_a2c68a7c_1f44_11ee_83b2_12e413fbf88crow0_col3\" class=\"data row0 col3\" >0.496</td>\n",
       "            </tr>\n",
       "            <tr>\n",
       "                        <th id=\"T_a2c68a7c_1f44_11ee_83b2_12e413fbf88clevel0_row1\" class=\"row_heading level0 row1\" >5</th>\n",
       "                        <td id=\"T_a2c68a7c_1f44_11ee_83b2_12e413fbf88crow1_col0\" class=\"data row1 col0\" >1.14e+04</td>\n",
       "                        <td id=\"T_a2c68a7c_1f44_11ee_83b2_12e413fbf88crow1_col1\" class=\"data row1 col1\" >1.15e+04</td>\n",
       "                        <td id=\"T_a2c68a7c_1f44_11ee_83b2_12e413fbf88crow1_col2\" class=\"data row1 col2\" >0.184</td>\n",
       "                        <td id=\"T_a2c68a7c_1f44_11ee_83b2_12e413fbf88crow1_col3\" class=\"data row1 col3\" >0.175</td>\n",
       "            </tr>\n",
       "            <tr>\n",
       "                        <th id=\"T_a2c68a7c_1f44_11ee_83b2_12e413fbf88clevel0_row2\" class=\"row_heading level0 row2\" >10</th>\n",
       "                        <td id=\"T_a2c68a7c_1f44_11ee_83b2_12e413fbf88crow2_col0\" class=\"data row2 col0\" >1.11e+04</td>\n",
       "                        <td id=\"T_a2c68a7c_1f44_11ee_83b2_12e413fbf88crow2_col1\" class=\"data row2 col1\" >1.12e+04</td>\n",
       "                        <td id=\"T_a2c68a7c_1f44_11ee_83b2_12e413fbf88crow2_col2\" class=\"data row2 col2\" >0.113</td>\n",
       "                        <td id=\"T_a2c68a7c_1f44_11ee_83b2_12e413fbf88crow2_col3\" class=\"data row2 col3\" >0.109</td>\n",
       "            </tr>\n",
       "            <tr>\n",
       "                        <th id=\"T_a2c68a7c_1f44_11ee_83b2_12e413fbf88clevel0_row3\" class=\"row_heading level0 row3\" >15</th>\n",
       "                        <td id=\"T_a2c68a7c_1f44_11ee_83b2_12e413fbf88crow3_col0\" class=\"data row3 col0\" >1.08e+04</td>\n",
       "                        <td id=\"T_a2c68a7c_1f44_11ee_83b2_12e413fbf88crow3_col1\" class=\"data row3 col1\" >1.09e+04</td>\n",
       "                        <td id=\"T_a2c68a7c_1f44_11ee_83b2_12e413fbf88crow3_col2\" class=\"data row3 col2\" >0.082</td>\n",
       "                        <td id=\"T_a2c68a7c_1f44_11ee_83b2_12e413fbf88crow3_col3\" class=\"data row3 col3\" >0.0816</td>\n",
       "            </tr>\n",
       "    </tbody></table>"
      ],
      "text/plain": [
       "<pandas.io.formats.style.Styler at 0x7f975dd9afd0>"
      ]
     },
     "metadata": {},
     "output_type": "display_data"
    },
    {
     "data": {
      "text/html": [
       "<style  type=\"text/css\" >\n",
       "</style><table id=\"T_a33dc06a_1f44_11ee_83b2_12e413fbf88c\" ><thead>    <tr>        <th class=\"index_name level0\" >Shell No.</th>        <th class=\"col_heading level0 col0\" >t_rad</th>        <th class=\"col_heading level0 col1\" >next_t_rad</th>        <th class=\"col_heading level0 col2\" >w</th>        <th class=\"col_heading level0 col3\" >next_w</th>    </tr></thead><tbody>\n",
       "                <tr>\n",
       "                        <th id=\"T_a33dc06a_1f44_11ee_83b2_12e413fbf88clevel0_row0\" class=\"row_heading level0 row0\" >0</th>\n",
       "                        <td id=\"T_a33dc06a_1f44_11ee_83b2_12e413fbf88crow0_col0\" class=\"data row0 col0\" >1.11e+04</td>\n",
       "                        <td id=\"T_a33dc06a_1f44_11ee_83b2_12e413fbf88crow0_col1\" class=\"data row0 col1\" >1.12e+04</td>\n",
       "                        <td id=\"T_a33dc06a_1f44_11ee_83b2_12e413fbf88crow0_col2\" class=\"data row0 col2\" >0.496</td>\n",
       "                        <td id=\"T_a33dc06a_1f44_11ee_83b2_12e413fbf88crow0_col3\" class=\"data row0 col3\" >0.49</td>\n",
       "            </tr>\n",
       "            <tr>\n",
       "                        <th id=\"T_a33dc06a_1f44_11ee_83b2_12e413fbf88clevel0_row1\" class=\"row_heading level0 row1\" >5</th>\n",
       "                        <td id=\"T_a33dc06a_1f44_11ee_83b2_12e413fbf88crow1_col0\" class=\"data row1 col0\" >1.15e+04</td>\n",
       "                        <td id=\"T_a33dc06a_1f44_11ee_83b2_12e413fbf88crow1_col1\" class=\"data row1 col1\" >1.16e+04</td>\n",
       "                        <td id=\"T_a33dc06a_1f44_11ee_83b2_12e413fbf88crow1_col2\" class=\"data row1 col2\" >0.175</td>\n",
       "                        <td id=\"T_a33dc06a_1f44_11ee_83b2_12e413fbf88crow1_col3\" class=\"data row1 col3\" >0.174</td>\n",
       "            </tr>\n",
       "            <tr>\n",
       "                        <th id=\"T_a33dc06a_1f44_11ee_83b2_12e413fbf88clevel0_row2\" class=\"row_heading level0 row2\" >10</th>\n",
       "                        <td id=\"T_a33dc06a_1f44_11ee_83b2_12e413fbf88crow2_col0\" class=\"data row2 col0\" >1.12e+04</td>\n",
       "                        <td id=\"T_a33dc06a_1f44_11ee_83b2_12e413fbf88crow2_col1\" class=\"data row2 col1\" >1.14e+04</td>\n",
       "                        <td id=\"T_a33dc06a_1f44_11ee_83b2_12e413fbf88crow2_col2\" class=\"data row2 col2\" >0.109</td>\n",
       "                        <td id=\"T_a33dc06a_1f44_11ee_83b2_12e413fbf88crow2_col3\" class=\"data row2 col3\" >0.106</td>\n",
       "            </tr>\n",
       "            <tr>\n",
       "                        <th id=\"T_a33dc06a_1f44_11ee_83b2_12e413fbf88clevel0_row3\" class=\"row_heading level0 row3\" >15</th>\n",
       "                        <td id=\"T_a33dc06a_1f44_11ee_83b2_12e413fbf88crow3_col0\" class=\"data row3 col0\" >1.09e+04</td>\n",
       "                        <td id=\"T_a33dc06a_1f44_11ee_83b2_12e413fbf88crow3_col1\" class=\"data row3 col1\" >1.09e+04</td>\n",
       "                        <td id=\"T_a33dc06a_1f44_11ee_83b2_12e413fbf88crow3_col2\" class=\"data row3 col2\" >0.0816</td>\n",
       "                        <td id=\"T_a33dc06a_1f44_11ee_83b2_12e413fbf88crow3_col3\" class=\"data row3 col3\" >0.0802</td>\n",
       "            </tr>\n",
       "    </tbody></table>"
      ],
      "text/plain": [
       "<pandas.io.formats.style.Styler at 0x7f97295c2880>"
      ]
     },
     "metadata": {},
     "output_type": "display_data"
    },
    {
     "data": {
      "text/html": [
       "<style  type=\"text/css\" >\n",
       "</style><table id=\"T_a3b8cfbc_1f44_11ee_83b2_12e413fbf88c\" ><thead>    <tr>        <th class=\"index_name level0\" >Shell No.</th>        <th class=\"col_heading level0 col0\" >t_rad</th>        <th class=\"col_heading level0 col1\" >next_t_rad</th>        <th class=\"col_heading level0 col2\" >w</th>        <th class=\"col_heading level0 col3\" >next_w</th>    </tr></thead><tbody>\n",
       "                <tr>\n",
       "                        <th id=\"T_a3b8cfbc_1f44_11ee_83b2_12e413fbf88clevel0_row0\" class=\"row_heading level0 row0\" >0</th>\n",
       "                        <td id=\"T_a3b8cfbc_1f44_11ee_83b2_12e413fbf88crow0_col0\" class=\"data row0 col0\" >1.12e+04</td>\n",
       "                        <td id=\"T_a3b8cfbc_1f44_11ee_83b2_12e413fbf88crow0_col1\" class=\"data row0 col1\" >1.11e+04</td>\n",
       "                        <td id=\"T_a3b8cfbc_1f44_11ee_83b2_12e413fbf88crow0_col2\" class=\"data row0 col2\" >0.49</td>\n",
       "                        <td id=\"T_a3b8cfbc_1f44_11ee_83b2_12e413fbf88crow0_col3\" class=\"data row0 col3\" >0.49</td>\n",
       "            </tr>\n",
       "            <tr>\n",
       "                        <th id=\"T_a3b8cfbc_1f44_11ee_83b2_12e413fbf88clevel0_row1\" class=\"row_heading level0 row1\" >5</th>\n",
       "                        <td id=\"T_a3b8cfbc_1f44_11ee_83b2_12e413fbf88crow1_col0\" class=\"data row1 col0\" >1.16e+04</td>\n",
       "                        <td id=\"T_a3b8cfbc_1f44_11ee_83b2_12e413fbf88crow1_col1\" class=\"data row1 col1\" >1.15e+04</td>\n",
       "                        <td id=\"T_a3b8cfbc_1f44_11ee_83b2_12e413fbf88crow1_col2\" class=\"data row1 col2\" >0.174</td>\n",
       "                        <td id=\"T_a3b8cfbc_1f44_11ee_83b2_12e413fbf88crow1_col3\" class=\"data row1 col3\" >0.174</td>\n",
       "            </tr>\n",
       "            <tr>\n",
       "                        <th id=\"T_a3b8cfbc_1f44_11ee_83b2_12e413fbf88clevel0_row2\" class=\"row_heading level0 row2\" >10</th>\n",
       "                        <td id=\"T_a3b8cfbc_1f44_11ee_83b2_12e413fbf88crow2_col0\" class=\"data row2 col0\" >1.14e+04</td>\n",
       "                        <td id=\"T_a3b8cfbc_1f44_11ee_83b2_12e413fbf88crow2_col1\" class=\"data row2 col1\" >1.13e+04</td>\n",
       "                        <td id=\"T_a3b8cfbc_1f44_11ee_83b2_12e413fbf88crow2_col2\" class=\"data row2 col2\" >0.106</td>\n",
       "                        <td id=\"T_a3b8cfbc_1f44_11ee_83b2_12e413fbf88crow2_col3\" class=\"data row2 col3\" >0.104</td>\n",
       "            </tr>\n",
       "            <tr>\n",
       "                        <th id=\"T_a3b8cfbc_1f44_11ee_83b2_12e413fbf88clevel0_row3\" class=\"row_heading level0 row3\" >15</th>\n",
       "                        <td id=\"T_a3b8cfbc_1f44_11ee_83b2_12e413fbf88crow3_col0\" class=\"data row3 col0\" >1.09e+04</td>\n",
       "                        <td id=\"T_a3b8cfbc_1f44_11ee_83b2_12e413fbf88crow3_col1\" class=\"data row3 col1\" >1.09e+04</td>\n",
       "                        <td id=\"T_a3b8cfbc_1f44_11ee_83b2_12e413fbf88crow3_col2\" class=\"data row3 col2\" >0.0802</td>\n",
       "                        <td id=\"T_a3b8cfbc_1f44_11ee_83b2_12e413fbf88crow3_col3\" class=\"data row3 col3\" >0.0799</td>\n",
       "            </tr>\n",
       "    </tbody></table>"
      ],
      "text/plain": [
       "<pandas.io.formats.style.Styler at 0x7f97295d6130>"
      ]
     },
     "metadata": {},
     "output_type": "display_data"
    },
    {
     "data": {
      "text/html": [
       "<style  type=\"text/css\" >\n",
       "</style><table id=\"T_a42ff8ee_1f44_11ee_83b2_12e413fbf88c\" ><thead>    <tr>        <th class=\"index_name level0\" >Shell No.</th>        <th class=\"col_heading level0 col0\" >t_rad</th>        <th class=\"col_heading level0 col1\" >next_t_rad</th>        <th class=\"col_heading level0 col2\" >w</th>        <th class=\"col_heading level0 col3\" >next_w</th>    </tr></thead><tbody>\n",
       "                <tr>\n",
       "                        <th id=\"T_a42ff8ee_1f44_11ee_83b2_12e413fbf88clevel0_row0\" class=\"row_heading level0 row0\" >0</th>\n",
       "                        <td id=\"T_a42ff8ee_1f44_11ee_83b2_12e413fbf88crow0_col0\" class=\"data row0 col0\" >1.11e+04</td>\n",
       "                        <td id=\"T_a42ff8ee_1f44_11ee_83b2_12e413fbf88crow0_col1\" class=\"data row0 col1\" >1.11e+04</td>\n",
       "                        <td id=\"T_a42ff8ee_1f44_11ee_83b2_12e413fbf88crow0_col2\" class=\"data row0 col2\" >0.49</td>\n",
       "                        <td id=\"T_a42ff8ee_1f44_11ee_83b2_12e413fbf88crow0_col3\" class=\"data row0 col3\" >0.496</td>\n",
       "            </tr>\n",
       "            <tr>\n",
       "                        <th id=\"T_a42ff8ee_1f44_11ee_83b2_12e413fbf88clevel0_row1\" class=\"row_heading level0 row1\" >5</th>\n",
       "                        <td id=\"T_a42ff8ee_1f44_11ee_83b2_12e413fbf88crow1_col0\" class=\"data row1 col0\" >1.15e+04</td>\n",
       "                        <td id=\"T_a42ff8ee_1f44_11ee_83b2_12e413fbf88crow1_col1\" class=\"data row1 col1\" >1.15e+04</td>\n",
       "                        <td id=\"T_a42ff8ee_1f44_11ee_83b2_12e413fbf88crow1_col2\" class=\"data row1 col2\" >0.174</td>\n",
       "                        <td id=\"T_a42ff8ee_1f44_11ee_83b2_12e413fbf88crow1_col3\" class=\"data row1 col3\" >0.177</td>\n",
       "            </tr>\n",
       "            <tr>\n",
       "                        <th id=\"T_a42ff8ee_1f44_11ee_83b2_12e413fbf88clevel0_row2\" class=\"row_heading level0 row2\" >10</th>\n",
       "                        <td id=\"T_a42ff8ee_1f44_11ee_83b2_12e413fbf88crow2_col0\" class=\"data row2 col0\" >1.13e+04</td>\n",
       "                        <td id=\"T_a42ff8ee_1f44_11ee_83b2_12e413fbf88crow2_col1\" class=\"data row2 col1\" >1.14e+04</td>\n",
       "                        <td id=\"T_a42ff8ee_1f44_11ee_83b2_12e413fbf88crow2_col2\" class=\"data row2 col2\" >0.104</td>\n",
       "                        <td id=\"T_a42ff8ee_1f44_11ee_83b2_12e413fbf88crow2_col3\" class=\"data row2 col3\" >0.105</td>\n",
       "            </tr>\n",
       "            <tr>\n",
       "                        <th id=\"T_a42ff8ee_1f44_11ee_83b2_12e413fbf88clevel0_row3\" class=\"row_heading level0 row3\" >15</th>\n",
       "                        <td id=\"T_a42ff8ee_1f44_11ee_83b2_12e413fbf88crow3_col0\" class=\"data row3 col0\" >1.09e+04</td>\n",
       "                        <td id=\"T_a42ff8ee_1f44_11ee_83b2_12e413fbf88crow3_col1\" class=\"data row3 col1\" >1.09e+04</td>\n",
       "                        <td id=\"T_a42ff8ee_1f44_11ee_83b2_12e413fbf88crow3_col2\" class=\"data row3 col2\" >0.0799</td>\n",
       "                        <td id=\"T_a42ff8ee_1f44_11ee_83b2_12e413fbf88crow3_col3\" class=\"data row3 col3\" >0.081</td>\n",
       "            </tr>\n",
       "    </tbody></table>"
      ],
      "text/plain": [
       "<pandas.io.formats.style.Styler at 0x7f97295c2220>"
      ]
     },
     "metadata": {},
     "output_type": "display_data"
    },
    {
     "data": {
      "text/html": [
       "<style  type=\"text/css\" >\n",
       "</style><table id=\"T_a4c02f36_1f44_11ee_83b2_12e413fbf88c\" ><thead>    <tr>        <th class=\"index_name level0\" >Shell No.</th>        <th class=\"col_heading level0 col0\" >t_rad</th>        <th class=\"col_heading level0 col1\" >next_t_rad</th>        <th class=\"col_heading level0 col2\" >w</th>        <th class=\"col_heading level0 col3\" >next_w</th>    </tr></thead><tbody>\n",
       "                <tr>\n",
       "                        <th id=\"T_a4c02f36_1f44_11ee_83b2_12e413fbf88clevel0_row0\" class=\"row_heading level0 row0\" >0</th>\n",
       "                        <td id=\"T_a4c02f36_1f44_11ee_83b2_12e413fbf88crow0_col0\" class=\"data row0 col0\" >1.11e+04</td>\n",
       "                        <td id=\"T_a4c02f36_1f44_11ee_83b2_12e413fbf88crow0_col1\" class=\"data row0 col1\" >1.11e+04</td>\n",
       "                        <td id=\"T_a4c02f36_1f44_11ee_83b2_12e413fbf88crow0_col2\" class=\"data row0 col2\" >0.496</td>\n",
       "                        <td id=\"T_a4c02f36_1f44_11ee_83b2_12e413fbf88crow0_col3\" class=\"data row0 col3\" >0.501</td>\n",
       "            </tr>\n",
       "            <tr>\n",
       "                        <th id=\"T_a4c02f36_1f44_11ee_83b2_12e413fbf88clevel0_row1\" class=\"row_heading level0 row1\" >5</th>\n",
       "                        <td id=\"T_a4c02f36_1f44_11ee_83b2_12e413fbf88crow1_col0\" class=\"data row1 col0\" >1.15e+04</td>\n",
       "                        <td id=\"T_a4c02f36_1f44_11ee_83b2_12e413fbf88crow1_col1\" class=\"data row1 col1\" >1.16e+04</td>\n",
       "                        <td id=\"T_a4c02f36_1f44_11ee_83b2_12e413fbf88crow1_col2\" class=\"data row1 col2\" >0.177</td>\n",
       "                        <td id=\"T_a4c02f36_1f44_11ee_83b2_12e413fbf88crow1_col3\" class=\"data row1 col3\" >0.174</td>\n",
       "            </tr>\n",
       "            <tr>\n",
       "                        <th id=\"T_a4c02f36_1f44_11ee_83b2_12e413fbf88clevel0_row2\" class=\"row_heading level0 row2\" >10</th>\n",
       "                        <td id=\"T_a4c02f36_1f44_11ee_83b2_12e413fbf88crow2_col0\" class=\"data row2 col0\" >1.14e+04</td>\n",
       "                        <td id=\"T_a4c02f36_1f44_11ee_83b2_12e413fbf88crow2_col1\" class=\"data row2 col1\" >1.14e+04</td>\n",
       "                        <td id=\"T_a4c02f36_1f44_11ee_83b2_12e413fbf88crow2_col2\" class=\"data row2 col2\" >0.105</td>\n",
       "                        <td id=\"T_a4c02f36_1f44_11ee_83b2_12e413fbf88crow2_col3\" class=\"data row2 col3\" >0.104</td>\n",
       "            </tr>\n",
       "            <tr>\n",
       "                        <th id=\"T_a4c02f36_1f44_11ee_83b2_12e413fbf88clevel0_row3\" class=\"row_heading level0 row3\" >15</th>\n",
       "                        <td id=\"T_a4c02f36_1f44_11ee_83b2_12e413fbf88crow3_col0\" class=\"data row3 col0\" >1.09e+04</td>\n",
       "                        <td id=\"T_a4c02f36_1f44_11ee_83b2_12e413fbf88crow3_col1\" class=\"data row3 col1\" >1.09e+04</td>\n",
       "                        <td id=\"T_a4c02f36_1f44_11ee_83b2_12e413fbf88crow3_col2\" class=\"data row3 col2\" >0.081</td>\n",
       "                        <td id=\"T_a4c02f36_1f44_11ee_83b2_12e413fbf88crow3_col3\" class=\"data row3 col3\" >0.0809</td>\n",
       "            </tr>\n",
       "    </tbody></table>"
      ],
      "text/plain": [
       "<pandas.io.formats.style.Styler at 0x7f97295d6a30>"
      ]
     },
     "metadata": {},
     "output_type": "display_data"
    },
    {
     "data": {
      "text/html": [
       "<style  type=\"text/css\" >\n",
       "</style><table id=\"T_a5382b12_1f44_11ee_83b2_12e413fbf88c\" ><thead>    <tr>        <th class=\"index_name level0\" >Shell No.</th>        <th class=\"col_heading level0 col0\" >t_rad</th>        <th class=\"col_heading level0 col1\" >next_t_rad</th>        <th class=\"col_heading level0 col2\" >w</th>        <th class=\"col_heading level0 col3\" >next_w</th>    </tr></thead><tbody>\n",
       "                <tr>\n",
       "                        <th id=\"T_a5382b12_1f44_11ee_83b2_12e413fbf88clevel0_row0\" class=\"row_heading level0 row0\" >0</th>\n",
       "                        <td id=\"T_a5382b12_1f44_11ee_83b2_12e413fbf88crow0_col0\" class=\"data row0 col0\" >1.11e+04</td>\n",
       "                        <td id=\"T_a5382b12_1f44_11ee_83b2_12e413fbf88crow0_col1\" class=\"data row0 col1\" >1.12e+04</td>\n",
       "                        <td id=\"T_a5382b12_1f44_11ee_83b2_12e413fbf88crow0_col2\" class=\"data row0 col2\" >0.501</td>\n",
       "                        <td id=\"T_a5382b12_1f44_11ee_83b2_12e413fbf88crow0_col3\" class=\"data row0 col3\" >0.485</td>\n",
       "            </tr>\n",
       "            <tr>\n",
       "                        <th id=\"T_a5382b12_1f44_11ee_83b2_12e413fbf88clevel0_row1\" class=\"row_heading level0 row1\" >5</th>\n",
       "                        <td id=\"T_a5382b12_1f44_11ee_83b2_12e413fbf88crow1_col0\" class=\"data row1 col0\" >1.16e+04</td>\n",
       "                        <td id=\"T_a5382b12_1f44_11ee_83b2_12e413fbf88crow1_col1\" class=\"data row1 col1\" >1.16e+04</td>\n",
       "                        <td id=\"T_a5382b12_1f44_11ee_83b2_12e413fbf88crow1_col2\" class=\"data row1 col2\" >0.174</td>\n",
       "                        <td id=\"T_a5382b12_1f44_11ee_83b2_12e413fbf88crow1_col3\" class=\"data row1 col3\" >0.17</td>\n",
       "            </tr>\n",
       "            <tr>\n",
       "                        <th id=\"T_a5382b12_1f44_11ee_83b2_12e413fbf88clevel0_row2\" class=\"row_heading level0 row2\" >10</th>\n",
       "                        <td id=\"T_a5382b12_1f44_11ee_83b2_12e413fbf88crow2_col0\" class=\"data row2 col0\" >1.14e+04</td>\n",
       "                        <td id=\"T_a5382b12_1f44_11ee_83b2_12e413fbf88crow2_col1\" class=\"data row2 col1\" >1.13e+04</td>\n",
       "                        <td id=\"T_a5382b12_1f44_11ee_83b2_12e413fbf88crow2_col2\" class=\"data row2 col2\" >0.104</td>\n",
       "                        <td id=\"T_a5382b12_1f44_11ee_83b2_12e413fbf88crow2_col3\" class=\"data row2 col3\" >0.105</td>\n",
       "            </tr>\n",
       "            <tr>\n",
       "                        <th id=\"T_a5382b12_1f44_11ee_83b2_12e413fbf88clevel0_row3\" class=\"row_heading level0 row3\" >15</th>\n",
       "                        <td id=\"T_a5382b12_1f44_11ee_83b2_12e413fbf88crow3_col0\" class=\"data row3 col0\" >1.09e+04</td>\n",
       "                        <td id=\"T_a5382b12_1f44_11ee_83b2_12e413fbf88crow3_col1\" class=\"data row3 col1\" >1.1e+04</td>\n",
       "                        <td id=\"T_a5382b12_1f44_11ee_83b2_12e413fbf88crow3_col2\" class=\"data row3 col2\" >0.0809</td>\n",
       "                        <td id=\"T_a5382b12_1f44_11ee_83b2_12e413fbf88crow3_col3\" class=\"data row3 col3\" >0.0777</td>\n",
       "            </tr>\n",
       "    </tbody></table>"
      ],
      "text/plain": [
       "<pandas.io.formats.style.Styler at 0x7f97295c2640>"
      ]
     },
     "metadata": {},
     "output_type": "display_data"
    },
    {
     "data": {
      "text/html": [
       "<style  type=\"text/css\" >\n",
       "</style><table id=\"T_a5bb9998_1f44_11ee_83b2_12e413fbf88c\" ><thead>    <tr>        <th class=\"index_name level0\" >Shell No.</th>        <th class=\"col_heading level0 col0\" >t_rad</th>        <th class=\"col_heading level0 col1\" >next_t_rad</th>        <th class=\"col_heading level0 col2\" >w</th>        <th class=\"col_heading level0 col3\" >next_w</th>    </tr></thead><tbody>\n",
       "                <tr>\n",
       "                        <th id=\"T_a5bb9998_1f44_11ee_83b2_12e413fbf88clevel0_row0\" class=\"row_heading level0 row0\" >0</th>\n",
       "                        <td id=\"T_a5bb9998_1f44_11ee_83b2_12e413fbf88crow0_col0\" class=\"data row0 col0\" >1.12e+04</td>\n",
       "                        <td id=\"T_a5bb9998_1f44_11ee_83b2_12e413fbf88crow0_col1\" class=\"data row0 col1\" >1.12e+04</td>\n",
       "                        <td id=\"T_a5bb9998_1f44_11ee_83b2_12e413fbf88crow0_col2\" class=\"data row0 col2\" >0.485</td>\n",
       "                        <td id=\"T_a5bb9998_1f44_11ee_83b2_12e413fbf88crow0_col3\" class=\"data row0 col3\" >0.483</td>\n",
       "            </tr>\n",
       "            <tr>\n",
       "                        <th id=\"T_a5bb9998_1f44_11ee_83b2_12e413fbf88clevel0_row1\" class=\"row_heading level0 row1\" >5</th>\n",
       "                        <td id=\"T_a5bb9998_1f44_11ee_83b2_12e413fbf88crow1_col0\" class=\"data row1 col0\" >1.16e+04</td>\n",
       "                        <td id=\"T_a5bb9998_1f44_11ee_83b2_12e413fbf88crow1_col1\" class=\"data row1 col1\" >1.16e+04</td>\n",
       "                        <td id=\"T_a5bb9998_1f44_11ee_83b2_12e413fbf88crow1_col2\" class=\"data row1 col2\" >0.17</td>\n",
       "                        <td id=\"T_a5bb9998_1f44_11ee_83b2_12e413fbf88crow1_col3\" class=\"data row1 col3\" >0.174</td>\n",
       "            </tr>\n",
       "            <tr>\n",
       "                        <th id=\"T_a5bb9998_1f44_11ee_83b2_12e413fbf88clevel0_row2\" class=\"row_heading level0 row2\" >10</th>\n",
       "                        <td id=\"T_a5bb9998_1f44_11ee_83b2_12e413fbf88crow2_col0\" class=\"data row2 col0\" >1.13e+04</td>\n",
       "                        <td id=\"T_a5bb9998_1f44_11ee_83b2_12e413fbf88crow2_col1\" class=\"data row2 col1\" >1.14e+04</td>\n",
       "                        <td id=\"T_a5bb9998_1f44_11ee_83b2_12e413fbf88crow2_col2\" class=\"data row2 col2\" >0.105</td>\n",
       "                        <td id=\"T_a5bb9998_1f44_11ee_83b2_12e413fbf88crow2_col3\" class=\"data row2 col3\" >0.105</td>\n",
       "            </tr>\n",
       "            <tr>\n",
       "                        <th id=\"T_a5bb9998_1f44_11ee_83b2_12e413fbf88clevel0_row3\" class=\"row_heading level0 row3\" >15</th>\n",
       "                        <td id=\"T_a5bb9998_1f44_11ee_83b2_12e413fbf88crow3_col0\" class=\"data row3 col0\" >1.1e+04</td>\n",
       "                        <td id=\"T_a5bb9998_1f44_11ee_83b2_12e413fbf88crow3_col1\" class=\"data row3 col1\" >1.1e+04</td>\n",
       "                        <td id=\"T_a5bb9998_1f44_11ee_83b2_12e413fbf88crow3_col2\" class=\"data row3 col2\" >0.0777</td>\n",
       "                        <td id=\"T_a5bb9998_1f44_11ee_83b2_12e413fbf88crow3_col3\" class=\"data row3 col3\" >0.0789</td>\n",
       "            </tr>\n",
       "    </tbody></table>"
      ],
      "text/plain": [
       "<pandas.io.formats.style.Styler at 0x7f97299308e0>"
      ]
     },
     "metadata": {},
     "output_type": "display_data"
    },
    {
     "data": {
      "text/html": [
       "<style  type=\"text/css\" >\n",
       "</style><table id=\"T_a634c1e2_1f44_11ee_83b2_12e413fbf88c\" ><thead>    <tr>        <th class=\"index_name level0\" >Shell No.</th>        <th class=\"col_heading level0 col0\" >t_rad</th>        <th class=\"col_heading level0 col1\" >next_t_rad</th>        <th class=\"col_heading level0 col2\" >w</th>        <th class=\"col_heading level0 col3\" >next_w</th>    </tr></thead><tbody>\n",
       "                <tr>\n",
       "                        <th id=\"T_a634c1e2_1f44_11ee_83b2_12e413fbf88clevel0_row0\" class=\"row_heading level0 row0\" >0</th>\n",
       "                        <td id=\"T_a634c1e2_1f44_11ee_83b2_12e413fbf88crow0_col0\" class=\"data row0 col0\" >1.12e+04</td>\n",
       "                        <td id=\"T_a634c1e2_1f44_11ee_83b2_12e413fbf88crow0_col1\" class=\"data row0 col1\" >1.12e+04</td>\n",
       "                        <td id=\"T_a634c1e2_1f44_11ee_83b2_12e413fbf88crow0_col2\" class=\"data row0 col2\" >0.483</td>\n",
       "                        <td id=\"T_a634c1e2_1f44_11ee_83b2_12e413fbf88crow0_col3\" class=\"data row0 col3\" >0.48</td>\n",
       "            </tr>\n",
       "            <tr>\n",
       "                        <th id=\"T_a634c1e2_1f44_11ee_83b2_12e413fbf88clevel0_row1\" class=\"row_heading level0 row1\" >5</th>\n",
       "                        <td id=\"T_a634c1e2_1f44_11ee_83b2_12e413fbf88crow1_col0\" class=\"data row1 col0\" >1.16e+04</td>\n",
       "                        <td id=\"T_a634c1e2_1f44_11ee_83b2_12e413fbf88crow1_col1\" class=\"data row1 col1\" >1.16e+04</td>\n",
       "                        <td id=\"T_a634c1e2_1f44_11ee_83b2_12e413fbf88crow1_col2\" class=\"data row1 col2\" >0.174</td>\n",
       "                        <td id=\"T_a634c1e2_1f44_11ee_83b2_12e413fbf88crow1_col3\" class=\"data row1 col3\" >0.174</td>\n",
       "            </tr>\n",
       "            <tr>\n",
       "                        <th id=\"T_a634c1e2_1f44_11ee_83b2_12e413fbf88clevel0_row2\" class=\"row_heading level0 row2\" >10</th>\n",
       "                        <td id=\"T_a634c1e2_1f44_11ee_83b2_12e413fbf88crow2_col0\" class=\"data row2 col0\" >1.14e+04</td>\n",
       "                        <td id=\"T_a634c1e2_1f44_11ee_83b2_12e413fbf88crow2_col1\" class=\"data row2 col1\" >1.13e+04</td>\n",
       "                        <td id=\"T_a634c1e2_1f44_11ee_83b2_12e413fbf88crow2_col2\" class=\"data row2 col2\" >0.105</td>\n",
       "                        <td id=\"T_a634c1e2_1f44_11ee_83b2_12e413fbf88crow2_col3\" class=\"data row2 col3\" >0.105</td>\n",
       "            </tr>\n",
       "            <tr>\n",
       "                        <th id=\"T_a634c1e2_1f44_11ee_83b2_12e413fbf88clevel0_row3\" class=\"row_heading level0 row3\" >15</th>\n",
       "                        <td id=\"T_a634c1e2_1f44_11ee_83b2_12e413fbf88crow3_col0\" class=\"data row3 col0\" >1.1e+04</td>\n",
       "                        <td id=\"T_a634c1e2_1f44_11ee_83b2_12e413fbf88crow3_col1\" class=\"data row3 col1\" >1.09e+04</td>\n",
       "                        <td id=\"T_a634c1e2_1f44_11ee_83b2_12e413fbf88crow3_col2\" class=\"data row3 col2\" >0.0789</td>\n",
       "                        <td id=\"T_a634c1e2_1f44_11ee_83b2_12e413fbf88crow3_col3\" class=\"data row3 col3\" >0.0789</td>\n",
       "            </tr>\n",
       "    </tbody></table>"
      ],
      "text/plain": [
       "<pandas.io.formats.style.Styler at 0x7f975f3b7610>"
      ]
     },
     "metadata": {},
     "output_type": "display_data"
    },
    {
     "data": {
      "text/html": [
       "<style  type=\"text/css\" >\n",
       "</style><table id=\"T_a6af0038_1f44_11ee_83b2_12e413fbf88c\" ><thead>    <tr>        <th class=\"index_name level0\" >Shell No.</th>        <th class=\"col_heading level0 col0\" >t_rad</th>        <th class=\"col_heading level0 col1\" >next_t_rad</th>        <th class=\"col_heading level0 col2\" >w</th>        <th class=\"col_heading level0 col3\" >next_w</th>    </tr></thead><tbody>\n",
       "                <tr>\n",
       "                        <th id=\"T_a6af0038_1f44_11ee_83b2_12e413fbf88clevel0_row0\" class=\"row_heading level0 row0\" >0</th>\n",
       "                        <td id=\"T_a6af0038_1f44_11ee_83b2_12e413fbf88crow0_col0\" class=\"data row0 col0\" >1.12e+04</td>\n",
       "                        <td id=\"T_a6af0038_1f44_11ee_83b2_12e413fbf88crow0_col1\" class=\"data row0 col1\" >1.12e+04</td>\n",
       "                        <td id=\"T_a6af0038_1f44_11ee_83b2_12e413fbf88crow0_col2\" class=\"data row0 col2\" >0.48</td>\n",
       "                        <td id=\"T_a6af0038_1f44_11ee_83b2_12e413fbf88crow0_col3\" class=\"data row0 col3\" >0.486</td>\n",
       "            </tr>\n",
       "            <tr>\n",
       "                        <th id=\"T_a6af0038_1f44_11ee_83b2_12e413fbf88clevel0_row1\" class=\"row_heading level0 row1\" >5</th>\n",
       "                        <td id=\"T_a6af0038_1f44_11ee_83b2_12e413fbf88crow1_col0\" class=\"data row1 col0\" >1.16e+04</td>\n",
       "                        <td id=\"T_a6af0038_1f44_11ee_83b2_12e413fbf88crow1_col1\" class=\"data row1 col1\" >1.15e+04</td>\n",
       "                        <td id=\"T_a6af0038_1f44_11ee_83b2_12e413fbf88crow1_col2\" class=\"data row1 col2\" >0.174</td>\n",
       "                        <td id=\"T_a6af0038_1f44_11ee_83b2_12e413fbf88crow1_col3\" class=\"data row1 col3\" >0.18</td>\n",
       "            </tr>\n",
       "            <tr>\n",
       "                        <th id=\"T_a6af0038_1f44_11ee_83b2_12e413fbf88clevel0_row2\" class=\"row_heading level0 row2\" >10</th>\n",
       "                        <td id=\"T_a6af0038_1f44_11ee_83b2_12e413fbf88crow2_col0\" class=\"data row2 col0\" >1.13e+04</td>\n",
       "                        <td id=\"T_a6af0038_1f44_11ee_83b2_12e413fbf88crow2_col1\" class=\"data row2 col1\" >1.12e+04</td>\n",
       "                        <td id=\"T_a6af0038_1f44_11ee_83b2_12e413fbf88crow2_col2\" class=\"data row2 col2\" >0.105</td>\n",
       "                        <td id=\"T_a6af0038_1f44_11ee_83b2_12e413fbf88crow2_col3\" class=\"data row2 col3\" >0.108</td>\n",
       "            </tr>\n",
       "            <tr>\n",
       "                        <th id=\"T_a6af0038_1f44_11ee_83b2_12e413fbf88clevel0_row3\" class=\"row_heading level0 row3\" >15</th>\n",
       "                        <td id=\"T_a6af0038_1f44_11ee_83b2_12e413fbf88crow3_col0\" class=\"data row3 col0\" >1.09e+04</td>\n",
       "                        <td id=\"T_a6af0038_1f44_11ee_83b2_12e413fbf88crow3_col1\" class=\"data row3 col1\" >1.09e+04</td>\n",
       "                        <td id=\"T_a6af0038_1f44_11ee_83b2_12e413fbf88crow3_col2\" class=\"data row3 col2\" >0.0789</td>\n",
       "                        <td id=\"T_a6af0038_1f44_11ee_83b2_12e413fbf88crow3_col3\" class=\"data row3 col3\" >0.0793</td>\n",
       "            </tr>\n",
       "    </tbody></table>"
      ],
      "text/plain": [
       "<pandas.io.formats.style.Styler at 0x7f97295df940>"
      ]
     },
     "metadata": {},
     "output_type": "display_data"
    },
    {
     "data": {
      "text/html": [
       "<style  type=\"text/css\" >\n",
       "</style><table id=\"T_a726471a_1f44_11ee_83b2_12e413fbf88c\" ><thead>    <tr>        <th class=\"index_name level0\" >Shell No.</th>        <th class=\"col_heading level0 col0\" >t_rad</th>        <th class=\"col_heading level0 col1\" >next_t_rad</th>        <th class=\"col_heading level0 col2\" >w</th>        <th class=\"col_heading level0 col3\" >next_w</th>    </tr></thead><tbody>\n",
       "                <tr>\n",
       "                        <th id=\"T_a726471a_1f44_11ee_83b2_12e413fbf88clevel0_row0\" class=\"row_heading level0 row0\" >0</th>\n",
       "                        <td id=\"T_a726471a_1f44_11ee_83b2_12e413fbf88crow0_col0\" class=\"data row0 col0\" >1.12e+04</td>\n",
       "                        <td id=\"T_a726471a_1f44_11ee_83b2_12e413fbf88crow0_col1\" class=\"data row0 col1\" >1.12e+04</td>\n",
       "                        <td id=\"T_a726471a_1f44_11ee_83b2_12e413fbf88crow0_col2\" class=\"data row0 col2\" >0.486</td>\n",
       "                        <td id=\"T_a726471a_1f44_11ee_83b2_12e413fbf88crow0_col3\" class=\"data row0 col3\" >0.486</td>\n",
       "            </tr>\n",
       "            <tr>\n",
       "                        <th id=\"T_a726471a_1f44_11ee_83b2_12e413fbf88clevel0_row1\" class=\"row_heading level0 row1\" >5</th>\n",
       "                        <td id=\"T_a726471a_1f44_11ee_83b2_12e413fbf88crow1_col0\" class=\"data row1 col0\" >1.15e+04</td>\n",
       "                        <td id=\"T_a726471a_1f44_11ee_83b2_12e413fbf88crow1_col1\" class=\"data row1 col1\" >1.15e+04</td>\n",
       "                        <td id=\"T_a726471a_1f44_11ee_83b2_12e413fbf88crow1_col2\" class=\"data row1 col2\" >0.18</td>\n",
       "                        <td id=\"T_a726471a_1f44_11ee_83b2_12e413fbf88crow1_col3\" class=\"data row1 col3\" >0.177</td>\n",
       "            </tr>\n",
       "            <tr>\n",
       "                        <th id=\"T_a726471a_1f44_11ee_83b2_12e413fbf88clevel0_row2\" class=\"row_heading level0 row2\" >10</th>\n",
       "                        <td id=\"T_a726471a_1f44_11ee_83b2_12e413fbf88crow2_col0\" class=\"data row2 col0\" >1.12e+04</td>\n",
       "                        <td id=\"T_a726471a_1f44_11ee_83b2_12e413fbf88crow2_col1\" class=\"data row2 col1\" >1.13e+04</td>\n",
       "                        <td id=\"T_a726471a_1f44_11ee_83b2_12e413fbf88crow2_col2\" class=\"data row2 col2\" >0.108</td>\n",
       "                        <td id=\"T_a726471a_1f44_11ee_83b2_12e413fbf88crow2_col3\" class=\"data row2 col3\" >0.107</td>\n",
       "            </tr>\n",
       "            <tr>\n",
       "                        <th id=\"T_a726471a_1f44_11ee_83b2_12e413fbf88clevel0_row3\" class=\"row_heading level0 row3\" >15</th>\n",
       "                        <td id=\"T_a726471a_1f44_11ee_83b2_12e413fbf88crow3_col0\" class=\"data row3 col0\" >1.09e+04</td>\n",
       "                        <td id=\"T_a726471a_1f44_11ee_83b2_12e413fbf88crow3_col1\" class=\"data row3 col1\" >1.09e+04</td>\n",
       "                        <td id=\"T_a726471a_1f44_11ee_83b2_12e413fbf88crow3_col2\" class=\"data row3 col2\" >0.0793</td>\n",
       "                        <td id=\"T_a726471a_1f44_11ee_83b2_12e413fbf88crow3_col3\" class=\"data row3 col3\" >0.0811</td>\n",
       "            </tr>\n",
       "    </tbody></table>"
      ],
      "text/plain": [
       "<pandas.io.formats.style.Styler at 0x7f975dd9a370>"
      ]
     },
     "metadata": {},
     "output_type": "display_data"
    },
    {
     "data": {
      "text/html": [
       "<style  type=\"text/css\" >\n",
       "</style><table id=\"T_a7a26426_1f44_11ee_83b2_12e413fbf88c\" ><thead>    <tr>        <th class=\"index_name level0\" >Shell No.</th>        <th class=\"col_heading level0 col0\" >t_rad</th>        <th class=\"col_heading level0 col1\" >next_t_rad</th>        <th class=\"col_heading level0 col2\" >w</th>        <th class=\"col_heading level0 col3\" >next_w</th>    </tr></thead><tbody>\n",
       "                <tr>\n",
       "                        <th id=\"T_a7a26426_1f44_11ee_83b2_12e413fbf88clevel0_row0\" class=\"row_heading level0 row0\" >0</th>\n",
       "                        <td id=\"T_a7a26426_1f44_11ee_83b2_12e413fbf88crow0_col0\" class=\"data row0 col0\" >1.12e+04</td>\n",
       "                        <td id=\"T_a7a26426_1f44_11ee_83b2_12e413fbf88crow0_col1\" class=\"data row0 col1\" >1.12e+04</td>\n",
       "                        <td id=\"T_a7a26426_1f44_11ee_83b2_12e413fbf88crow0_col2\" class=\"data row0 col2\" >0.486</td>\n",
       "                        <td id=\"T_a7a26426_1f44_11ee_83b2_12e413fbf88crow0_col3\" class=\"data row0 col3\" >0.483</td>\n",
       "            </tr>\n",
       "            <tr>\n",
       "                        <th id=\"T_a7a26426_1f44_11ee_83b2_12e413fbf88clevel0_row1\" class=\"row_heading level0 row1\" >5</th>\n",
       "                        <td id=\"T_a7a26426_1f44_11ee_83b2_12e413fbf88crow1_col0\" class=\"data row1 col0\" >1.15e+04</td>\n",
       "                        <td id=\"T_a7a26426_1f44_11ee_83b2_12e413fbf88crow1_col1\" class=\"data row1 col1\" >1.16e+04</td>\n",
       "                        <td id=\"T_a7a26426_1f44_11ee_83b2_12e413fbf88crow1_col2\" class=\"data row1 col2\" >0.177</td>\n",
       "                        <td id=\"T_a7a26426_1f44_11ee_83b2_12e413fbf88crow1_col3\" class=\"data row1 col3\" >0.17</td>\n",
       "            </tr>\n",
       "            <tr>\n",
       "                        <th id=\"T_a7a26426_1f44_11ee_83b2_12e413fbf88clevel0_row2\" class=\"row_heading level0 row2\" >10</th>\n",
       "                        <td id=\"T_a7a26426_1f44_11ee_83b2_12e413fbf88crow2_col0\" class=\"data row2 col0\" >1.13e+04</td>\n",
       "                        <td id=\"T_a7a26426_1f44_11ee_83b2_12e413fbf88crow2_col1\" class=\"data row2 col1\" >1.13e+04</td>\n",
       "                        <td id=\"T_a7a26426_1f44_11ee_83b2_12e413fbf88crow2_col2\" class=\"data row2 col2\" >0.107</td>\n",
       "                        <td id=\"T_a7a26426_1f44_11ee_83b2_12e413fbf88crow2_col3\" class=\"data row2 col3\" >0.107</td>\n",
       "            </tr>\n",
       "            <tr>\n",
       "                        <th id=\"T_a7a26426_1f44_11ee_83b2_12e413fbf88clevel0_row3\" class=\"row_heading level0 row3\" >15</th>\n",
       "                        <td id=\"T_a7a26426_1f44_11ee_83b2_12e413fbf88crow3_col0\" class=\"data row3 col0\" >1.09e+04</td>\n",
       "                        <td id=\"T_a7a26426_1f44_11ee_83b2_12e413fbf88crow3_col1\" class=\"data row3 col1\" >1.09e+04</td>\n",
       "                        <td id=\"T_a7a26426_1f44_11ee_83b2_12e413fbf88crow3_col2\" class=\"data row3 col2\" >0.0811</td>\n",
       "                        <td id=\"T_a7a26426_1f44_11ee_83b2_12e413fbf88crow3_col3\" class=\"data row3 col3\" >0.0799</td>\n",
       "            </tr>\n",
       "    </tbody></table>"
      ],
      "text/plain": [
       "<pandas.io.formats.style.Styler at 0x7f97295c2670>"
      ]
     },
     "metadata": {},
     "output_type": "display_data"
    },
    {
     "data": {
      "text/html": [
       "<style  type=\"text/css\" >\n",
       "</style><table id=\"T_a818ea4c_1f44_11ee_83b2_12e413fbf88c\" ><thead>    <tr>        <th class=\"index_name level0\" >Shell No.</th>        <th class=\"col_heading level0 col0\" >t_rad</th>        <th class=\"col_heading level0 col1\" >next_t_rad</th>        <th class=\"col_heading level0 col2\" >w</th>        <th class=\"col_heading level0 col3\" >next_w</th>    </tr></thead><tbody>\n",
       "                <tr>\n",
       "                        <th id=\"T_a818ea4c_1f44_11ee_83b2_12e413fbf88clevel0_row0\" class=\"row_heading level0 row0\" >0</th>\n",
       "                        <td id=\"T_a818ea4c_1f44_11ee_83b2_12e413fbf88crow0_col0\" class=\"data row0 col0\" >1.12e+04</td>\n",
       "                        <td id=\"T_a818ea4c_1f44_11ee_83b2_12e413fbf88crow0_col1\" class=\"data row0 col1\" >1.12e+04</td>\n",
       "                        <td id=\"T_a818ea4c_1f44_11ee_83b2_12e413fbf88crow0_col2\" class=\"data row0 col2\" >0.483</td>\n",
       "                        <td id=\"T_a818ea4c_1f44_11ee_83b2_12e413fbf88crow0_col3\" class=\"data row0 col3\" >0.482</td>\n",
       "            </tr>\n",
       "            <tr>\n",
       "                        <th id=\"T_a818ea4c_1f44_11ee_83b2_12e413fbf88clevel0_row1\" class=\"row_heading level0 row1\" >5</th>\n",
       "                        <td id=\"T_a818ea4c_1f44_11ee_83b2_12e413fbf88crow1_col0\" class=\"data row1 col0\" >1.16e+04</td>\n",
       "                        <td id=\"T_a818ea4c_1f44_11ee_83b2_12e413fbf88crow1_col1\" class=\"data row1 col1\" >1.16e+04</td>\n",
       "                        <td id=\"T_a818ea4c_1f44_11ee_83b2_12e413fbf88crow1_col2\" class=\"data row1 col2\" >0.17</td>\n",
       "                        <td id=\"T_a818ea4c_1f44_11ee_83b2_12e413fbf88crow1_col3\" class=\"data row1 col3\" >0.172</td>\n",
       "            </tr>\n",
       "            <tr>\n",
       "                        <th id=\"T_a818ea4c_1f44_11ee_83b2_12e413fbf88clevel0_row2\" class=\"row_heading level0 row2\" >10</th>\n",
       "                        <td id=\"T_a818ea4c_1f44_11ee_83b2_12e413fbf88crow2_col0\" class=\"data row2 col0\" >1.13e+04</td>\n",
       "                        <td id=\"T_a818ea4c_1f44_11ee_83b2_12e413fbf88crow2_col1\" class=\"data row2 col1\" >1.13e+04</td>\n",
       "                        <td id=\"T_a818ea4c_1f44_11ee_83b2_12e413fbf88crow2_col2\" class=\"data row2 col2\" >0.107</td>\n",
       "                        <td id=\"T_a818ea4c_1f44_11ee_83b2_12e413fbf88crow2_col3\" class=\"data row2 col3\" >0.105</td>\n",
       "            </tr>\n",
       "            <tr>\n",
       "                        <th id=\"T_a818ea4c_1f44_11ee_83b2_12e413fbf88clevel0_row3\" class=\"row_heading level0 row3\" >15</th>\n",
       "                        <td id=\"T_a818ea4c_1f44_11ee_83b2_12e413fbf88crow3_col0\" class=\"data row3 col0\" >1.09e+04</td>\n",
       "                        <td id=\"T_a818ea4c_1f44_11ee_83b2_12e413fbf88crow3_col1\" class=\"data row3 col1\" >1.09e+04</td>\n",
       "                        <td id=\"T_a818ea4c_1f44_11ee_83b2_12e413fbf88crow3_col2\" class=\"data row3 col2\" >0.0799</td>\n",
       "                        <td id=\"T_a818ea4c_1f44_11ee_83b2_12e413fbf88crow3_col3\" class=\"data row3 col3\" >0.0807</td>\n",
       "            </tr>\n",
       "    </tbody></table>"
      ],
      "text/plain": [
       "<pandas.io.formats.style.Styler at 0x7f97295e6c40>"
      ]
     },
     "metadata": {},
     "output_type": "display_data"
    },
    {
     "data": {
      "text/html": [
       "<style  type=\"text/css\" >\n",
       "</style><table id=\"T_a8bde574_1f44_11ee_83b2_12e413fbf88c\" ><thead>    <tr>        <th class=\"index_name level0\" >Shell No.</th>        <th class=\"col_heading level0 col0\" >t_rad</th>        <th class=\"col_heading level0 col1\" >next_t_rad</th>        <th class=\"col_heading level0 col2\" >w</th>        <th class=\"col_heading level0 col3\" >next_w</th>    </tr></thead><tbody>\n",
       "                <tr>\n",
       "                        <th id=\"T_a8bde574_1f44_11ee_83b2_12e413fbf88clevel0_row0\" class=\"row_heading level0 row0\" >0</th>\n",
       "                        <td id=\"T_a8bde574_1f44_11ee_83b2_12e413fbf88crow0_col0\" class=\"data row0 col0\" >1.12e+04</td>\n",
       "                        <td id=\"T_a8bde574_1f44_11ee_83b2_12e413fbf88crow0_col1\" class=\"data row0 col1\" >1.12e+04</td>\n",
       "                        <td id=\"T_a8bde574_1f44_11ee_83b2_12e413fbf88crow0_col2\" class=\"data row0 col2\" >0.482</td>\n",
       "                        <td id=\"T_a8bde574_1f44_11ee_83b2_12e413fbf88crow0_col3\" class=\"data row0 col3\" >0.478</td>\n",
       "            </tr>\n",
       "            <tr>\n",
       "                        <th id=\"T_a8bde574_1f44_11ee_83b2_12e413fbf88clevel0_row1\" class=\"row_heading level0 row1\" >5</th>\n",
       "                        <td id=\"T_a8bde574_1f44_11ee_83b2_12e413fbf88crow1_col0\" class=\"data row1 col0\" >1.16e+04</td>\n",
       "                        <td id=\"T_a8bde574_1f44_11ee_83b2_12e413fbf88crow1_col1\" class=\"data row1 col1\" >1.14e+04</td>\n",
       "                        <td id=\"T_a8bde574_1f44_11ee_83b2_12e413fbf88crow1_col2\" class=\"data row1 col2\" >0.172</td>\n",
       "                        <td id=\"T_a8bde574_1f44_11ee_83b2_12e413fbf88crow1_col3\" class=\"data row1 col3\" >0.177</td>\n",
       "            </tr>\n",
       "            <tr>\n",
       "                        <th id=\"T_a8bde574_1f44_11ee_83b2_12e413fbf88clevel0_row2\" class=\"row_heading level0 row2\" >10</th>\n",
       "                        <td id=\"T_a8bde574_1f44_11ee_83b2_12e413fbf88crow2_col0\" class=\"data row2 col0\" >1.13e+04</td>\n",
       "                        <td id=\"T_a8bde574_1f44_11ee_83b2_12e413fbf88crow2_col1\" class=\"data row2 col1\" >1.13e+04</td>\n",
       "                        <td id=\"T_a8bde574_1f44_11ee_83b2_12e413fbf88crow2_col2\" class=\"data row2 col2\" >0.105</td>\n",
       "                        <td id=\"T_a8bde574_1f44_11ee_83b2_12e413fbf88crow2_col3\" class=\"data row2 col3\" >0.107</td>\n",
       "            </tr>\n",
       "            <tr>\n",
       "                        <th id=\"T_a8bde574_1f44_11ee_83b2_12e413fbf88clevel0_row3\" class=\"row_heading level0 row3\" >15</th>\n",
       "                        <td id=\"T_a8bde574_1f44_11ee_83b2_12e413fbf88crow3_col0\" class=\"data row3 col0\" >1.09e+04</td>\n",
       "                        <td id=\"T_a8bde574_1f44_11ee_83b2_12e413fbf88crow3_col1\" class=\"data row3 col1\" >1.08e+04</td>\n",
       "                        <td id=\"T_a8bde574_1f44_11ee_83b2_12e413fbf88crow3_col2\" class=\"data row3 col2\" >0.0807</td>\n",
       "                        <td id=\"T_a8bde574_1f44_11ee_83b2_12e413fbf88crow3_col3\" class=\"data row3 col3\" >0.0814</td>\n",
       "            </tr>\n",
       "    </tbody></table>"
      ],
      "text/plain": [
       "<pandas.io.formats.style.Styler at 0x7f97295e62b0>"
      ]
     },
     "metadata": {},
     "output_type": "display_data"
    }
   ],
   "source": [
    "### Run Simulation\n",
    "config = Configuration.from_yaml('../../../docs/tardis_example.yml')\n",
    "atom_data = AtomData.from_hdf(os.path.join(get_data_dir(), 'kurucz_cd23_chianti_H_He.h5'))\n",
    "model = Radial1DModel.from_config(config, atom_data=atom_data)\n",
    "plasma = assemble_plasma(config, model, atom_data=atom_data)\n",
    "sim = Simulation.from_config(config, model=model, plasma=plasma)\n",
    "sim.run_convergence()\n",
    "sim.run_final()"
   ]
  },
  {
   "cell_type": "code",
   "execution_count": 3,
   "metadata": {
    "scrolled": false
   },
   "outputs": [
    {
     "name": "stderr",
     "output_type": "stream",
     "text": [
      "/Users/archil/miniforge3/envs/tardis/lib/python3.8/site-packages/pandas/core/series.py:679: RuntimeWarning:\n",
      "\n",
      "divide by zero encountered in log\n",
      "\n"
     ]
    },
    {
     "data": {
      "application/vnd.plotly.v1+json": {
       "config": {
        "plotlyServerURL": "https://plot.ly"
       },
       "data": [
        {
         "hovertemplate": "Energy: 0.00e+00 eV<br>Population: 0.00e+00<extra></extra>",
         "line": {
          "color": "grey",
          "dash": "dash"
         },
         "mode": "lines",
         "showlegend": false,
         "type": "scatter",
         "x": [
          -0.05,
          0.07222222222222223,
          0.19444444444444448,
          0.3166666666666667,
          0.43888888888888894,
          0.5611111111111111,
          0.6833333333333333,
          0.8055555555555556,
          0.9277777777777778,
          1.05
         ],
         "xaxis": "x2",
         "y": [
          0,
          0,
          0,
          0,
          0,
          0,
          0,
          0,
          0,
          0
         ],
         "yaxis": "y2"
        },
        {
         "hovertemplate": "Energy: 1.98e+01 eV<br>Population: 1.96e-01<extra></extra>",
         "line": {
          "color": "black",
          "width": 4.003
         },
         "mode": "lines",
         "showlegend": false,
         "type": "scatter",
         "x": [
          -0.05,
          0.07222222222222223,
          0.19444444444444448,
          0.3166666666666667,
          0.43888888888888894,
          0.5611111111111111,
          0.6833333333333333,
          0.8055555555555556,
          0.9277777777777778,
          1.05
         ],
         "xaxis": "x2",
         "y": [
          0.1,
          0.1,
          0.1,
          0.1,
          0.1,
          0.1,
          0.1,
          0.1,
          0.1,
          0.1
         ],
         "yaxis": "y2"
        },
        {
         "hovertemplate": "Energy: 2.06e+01 eV<br>Population: 2.89e-02<extra></extra>",
         "line": {
          "color": "black",
          "width": 1.003
         },
         "mode": "lines",
         "showlegend": false,
         "type": "scatter",
         "x": [
          -0.05,
          0.07222222222222223,
          0.19444444444444448,
          0.3166666666666667,
          0.43888888888888894,
          0.5611111111111111,
          0.6833333333333333,
          0.8055555555555556,
          0.9277777777777778,
          1.05
         ],
         "xaxis": "x2",
         "y": [
          0.3573556063238298,
          0.3573556063238298,
          0.3573556063238298,
          0.3573556063238298,
          0.3573556063238298,
          0.3573556063238298,
          0.3573556063238298,
          0.3573556063238298,
          0.3573556063238298,
          0.3573556063238298
         ],
         "yaxis": "y2"
        },
        {
         "hovertemplate": "Energy: 2.10e+01 eV<br>Population: 1.82e-01<extra></extra>",
         "line": {
          "color": "black",
          "width": 3.8891476416274253
         },
         "mode": "lines",
         "showlegend": false,
         "type": "scatter",
         "x": [
          -0.05,
          0.07222222222222223,
          0.19444444444444448,
          0.3166666666666667,
          0.43888888888888894,
          0.5611111111111111,
          0.6833333333333333,
          0.8055555555555556,
          0.9277777777777778,
          1.05
         ],
         "xaxis": "x2",
         "y": [
          0.46996140866624203,
          0.46996140866624203,
          0.46996140866624203,
          0.46996140866624203,
          0.46996140866624203,
          0.46996140866624203,
          0.46996140866624203,
          0.46996140866624203,
          0.46996140866624203,
          0.46996140866624203
         ],
         "yaxis": "y2"
        },
        {
         "hovertemplate": "Energy: 2.12e+01 eV<br>Population: 4.68e-02<extra></extra>",
         "line": {
          "color": "black",
          "width": 1.7592902008221152
         },
         "mode": "lines",
         "showlegend": false,
         "type": "scatter",
         "x": [
          -0.05,
          0.07222222222222223,
          0.19444444444444448,
          0.3166666666666667,
          0.43888888888888894,
          0.5611111111111111,
          0.6833333333333333,
          0.8055555555555556,
          0.9277777777777778,
          1.05
         ],
         "xaxis": "x2",
         "y": [
          0.5520299124917911,
          0.5520299124917911,
          0.5520299124917911,
          0.5520299124917911,
          0.5520299124917911,
          0.5520299124917911,
          0.5520299124917911,
          0.5520299124917911,
          0.5520299124917911,
          0.5520299124917911
         ],
         "yaxis": "y2"
        },
        {
         "hovertemplate": "Energy: 2.29e+01 eV<br>Population: 3.28e-02<extra></extra>",
         "line": {
          "color": "black",
          "width": 1.2035525985385798
         },
         "mode": "lines",
         "showlegend": false,
         "type": "scatter",
         "x": [
          -0.05,
          0.07222222222222223,
          0.19444444444444448,
          0.3166666666666667,
          0.43888888888888894,
          0.5611111111111111,
          0.6833333333333333,
          0.8055555555555556,
          0.9277777777777778,
          1.05
         ],
         "xaxis": "x2",
         "y": [
          1.1,
          1.1,
          1.1,
          1.1,
          1.1,
          1.1,
          1.1,
          1.1,
          1.1,
          1.1
         ],
         "yaxis": "y2"
        },
        {
         "hovertemplate": "Count: 360<br>Wavelength: 1.08e+04 Å<extra></extra>",
         "line": {
          "color": "#ff0000",
          "width": 2.8556681226064136
         },
         "marker": {
          "angleref": "previous",
          "color": "#ff0000",
          "size": 9,
          "symbol": "arrow-bar-up"
         },
         "type": "scatter",
         "x": [
          0,
          0.369961408666242
         ],
         "xaxis": "x2",
         "y": [
          0.1,
          0.46996140866624203
         ],
         "yaxis": "y2"
        },
        {
         "hovertemplate": "Count: 38<br>Wavelength: 3.89e+03 Å<extra></extra>",
         "line": {
          "color": "#cce385",
          "width": 1.8365787728316847
         },
         "marker": {
          "angleref": "previous",
          "color": "#cce385",
          "size": 9,
          "symbol": "arrow-bar-up"
         },
         "type": "scatter",
         "x": [
          0,
          1
         ],
         "xaxis": "x2",
         "y": [
          0.1,
          1.1
         ],
         "yaxis": "y2"
        },
        {
         "hovertemplate": "Count: 23<br>Wavelength: 7.07e+03 Å<extra></extra>",
         "line": {
          "color": "#ff703a",
          "width": 1.6090170714255976
         },
         "marker": {
          "angleref": "previous",
          "color": "#ff703a",
          "size": 9,
          "symbol": "arrow-bar-up"
         },
         "type": "scatter",
         "x": [
          0,
          1
         ],
         "xaxis": "x2",
         "y": [
          0.46996140866624203,
          1.1
         ],
         "yaxis": "y2"
        },
        {
         "hovertemplate": "Count: 6<br>Wavelength: 5.84e+02 Å<extra></extra>",
         "line": {
          "color": "#8000ff",
          "width": 1
         },
         "marker": {
          "angleref": "previous",
          "color": "#8000ff",
          "size": 9,
          "symbol": "arrow-bar-up"
         },
         "type": "scatter",
         "x": [
          0,
          0.9260161397738454
         ],
         "xaxis": "x2",
         "y": [
          0.5520299124917911,
          0
         ],
         "yaxis": "y2"
        },
        {
         "hovertemplate": "Count: 495<br>Wavelength: 1.08e+04 Å<extra></extra>",
         "line": {
          "color": "#ff0000",
          "width": 3
         },
         "marker": {
          "angleref": "previous",
          "color": "#ff0000",
          "size": 9,
          "symbol": "arrow-bar-up"
         },
         "type": "scatter",
         "x": [
          0,
          0.369961408666242
         ],
         "xaxis": "x2",
         "y": [
          0.46996140866624203,
          0.1
         ],
         "yaxis": "y2"
        },
        {
         "hovertemplate": "Count: 42<br>Wavelength: 3.89e+03 Å<extra></extra>",
         "line": {
          "color": "#cce385",
          "width": 1.881939313651336
         },
         "marker": {
          "angleref": "previous",
          "color": "#cce385",
          "size": 9,
          "symbol": "arrow-bar-up"
         },
         "type": "scatter",
         "x": [
          0,
          1
         ],
         "xaxis": "x2",
         "y": [
          1.1,
          0.1
         ],
         "yaxis": "y2"
        },
        {
         "hovertemplate": "Count: 38<br>Wavelength: 7.07e+03 Å<extra></extra>",
         "line": {
          "color": "#ff703a",
          "width": 1.8365787728316847
         },
         "marker": {
          "angleref": "previous",
          "color": "#ff703a",
          "size": 9,
          "symbol": "arrow-bar-up"
         },
         "type": "scatter",
         "x": [
          0,
          1
         ],
         "xaxis": "x2",
         "y": [
          1.1,
          0.46996140866624203
         ],
         "yaxis": "y2"
        },
        {
         "hoverinfo": "none",
         "marker": {
          "cmax": 9.29033944792864,
          "cmin": 6.370474448502337,
          "colorbar": {
           "outlinewidth": 0,
           "thickness": 5,
           "ticktext": [
            "5.8e+02",
            "8.1e+02",
            "1.1e+03",
            "1.5e+03",
            "2.1e+03",
            "3.0e+03",
            "4.1e+03",
            "5.7e+03",
            "7.8e+03",
            "1.1e+04"
           ],
           "tickvals": [
            6.370474448502337,
            6.694903892883037,
            7.019333337263737,
            7.343762781644437,
            7.668192226025137,
            7.992621670405838,
            8.317051114786539,
            8.641480559167238,
            8.965910003547938,
            9.290339447928638
           ],
           "title": {
            "font": {
             "size": 12
            },
            "text": "Wavelength (Å)<br>&nbsp;"
           }
          },
          "colorscale": [
           [
            0,
            "rgb(150,0,90)"
           ],
           [
            0.125,
            "rgb(0,0,200)"
           ],
           [
            0.25,
            "rgb(0,25,255)"
           ],
           [
            0.375,
            "rgb(0,152,255)"
           ],
           [
            0.5,
            "rgb(44,255,150)"
           ],
           [
            0.625,
            "rgb(151,255,0)"
           ],
           [
            0.75,
            "rgb(255,234,0)"
           ],
           [
            0.875,
            "rgb(255,111,0)"
           ],
           [
            1,
            "rgb(255,0,0)"
           ]
          ],
          "showscale": true
         },
         "mode": "markers",
         "type": "scatter",
         "x": [
          null
         ],
         "xaxis": "x2",
         "y": [
          null
         ],
         "yaxis": "y2"
        }
       ],
       "layout": {
        "annotations": [
         {
          "showarrow": false,
          "text": "n=0",
          "x": 1.1,
          "xref": "x2",
          "y": 0,
          "yref": "y2"
         },
         {
          "showarrow": false,
          "text": "n=1",
          "x": 1.1,
          "xref": "x2",
          "y": 0.1,
          "yref": "y2"
         },
         {
          "showarrow": false,
          "text": "n=2",
          "x": 1.1,
          "xref": "x2",
          "y": 0.3573556063238298,
          "yref": "y2"
         },
         {
          "showarrow": false,
          "text": "n=3",
          "x": 1.1,
          "xref": "x2",
          "y": 0.46996140866624203,
          "yref": "y2"
         },
         {
          "showarrow": false,
          "text": "n=4",
          "x": 1.1,
          "xref": "x2",
          "y": 0.5520299124917911,
          "yref": "y2"
         },
         {
          "showarrow": false,
          "text": "n=5",
          "x": 1.1,
          "xref": "x2",
          "y": 1.1,
          "yref": "y2"
         },
         {
          "showarrow": false,
          "text": "2.9e-02",
          "x": 0.35,
          "xref": "x",
          "y": 0,
          "yref": "y"
         },
         {
          "showarrow": false,
          "text": "3.6e-02",
          "x": 0.35,
          "xref": "x",
          "y": 0.1111111111111111,
          "yref": "y"
         },
         {
          "showarrow": false,
          "text": "4.4e-02",
          "x": 0.35,
          "xref": "x",
          "y": 0.2222222222222222,
          "yref": "y"
         },
         {
          "showarrow": false,
          "text": "5.5e-02",
          "x": 0.35,
          "xref": "x",
          "y": 0.3333333333333333,
          "yref": "y"
         },
         {
          "showarrow": false,
          "text": "6.8e-02",
          "x": 0.35,
          "xref": "x",
          "y": 0.4444444444444444,
          "yref": "y"
         },
         {
          "showarrow": false,
          "text": "8.4e-02",
          "x": 0.35,
          "xref": "x",
          "y": 0.5555555555555556,
          "yref": "y"
         },
         {
          "showarrow": false,
          "text": "1.0e-01",
          "x": 0.35,
          "xref": "x",
          "y": 0.6666666666666666,
          "yref": "y"
         },
         {
          "showarrow": false,
          "text": "1.3e-01",
          "x": 0.35,
          "xref": "x",
          "y": 0.7777777777777777,
          "yref": "y"
         },
         {
          "showarrow": false,
          "text": "1.6e-01",
          "x": 0.35,
          "xref": "x",
          "y": 0.8888888888888888,
          "yref": "y"
         },
         {
          "showarrow": false,
          "text": "2.0e-01",
          "x": 0.35,
          "xref": "x",
          "y": 1,
          "yref": "y"
         },
         {
          "showarrow": false,
          "text": "Populations",
          "x": 0.28,
          "xref": "x",
          "y": -0.08,
          "yref": "y"
         },
         {
          "showarrow": false,
          "text": "6.0e+00",
          "x": 0.9,
          "xref": "x",
          "y": 0,
          "yref": "y"
         },
         {
          "showarrow": false,
          "text": "9.8e+00",
          "x": 0.9,
          "xref": "x",
          "y": 0.1111111111111111,
          "yref": "y"
         },
         {
          "showarrow": false,
          "text": "1.6e+01",
          "x": 0.9,
          "xref": "x",
          "y": 0.2222222222222222,
          "yref": "y"
         },
         {
          "showarrow": false,
          "text": "2.6e+01",
          "x": 0.9,
          "xref": "x",
          "y": 0.3333333333333333,
          "yref": "y"
         },
         {
          "showarrow": false,
          "text": "4.3e+01",
          "x": 0.9,
          "xref": "x",
          "y": 0.4444444444444444,
          "yref": "y"
         },
         {
          "showarrow": false,
          "text": "7.0e+01",
          "x": 0.9,
          "xref": "x",
          "y": 0.5555555555555556,
          "yref": "y"
         },
         {
          "showarrow": false,
          "text": "1.1e+02",
          "x": 0.9,
          "xref": "x",
          "y": 0.6666666666666666,
          "yref": "y"
         },
         {
          "showarrow": false,
          "text": "1.9e+02",
          "x": 0.9,
          "xref": "x",
          "y": 0.7777777777777777,
          "yref": "y"
         },
         {
          "showarrow": false,
          "text": "3.0e+02",
          "x": 0.9,
          "xref": "x",
          "y": 0.8888888888888888,
          "yref": "y"
         },
         {
          "showarrow": false,
          "text": "5.0e+02",
          "x": 0.9,
          "xref": "x",
          "y": 1,
          "yref": "y"
         },
         {
          "showarrow": false,
          "text": "#Packets",
          "x": 0.83,
          "xref": "x",
          "y": -0.08,
          "yref": "y"
         }
        ],
        "autosize": false,
        "height": 700,
        "plot_bgcolor": "white",
        "shapes": [
         {
          "line": {
           "width": 1.003
          },
          "type": "line",
          "x0": 0.1,
          "x1": 0.2,
          "xref": "x",
          "y0": 0,
          "y1": 0,
          "yref": "y"
         },
         {
          "line": {
           "width": 1.3363333333333332
          },
          "type": "line",
          "x0": 0.1,
          "x1": 0.2,
          "xref": "x",
          "y0": 0.1111111111111111,
          "y1": 0.1111111111111111,
          "yref": "y"
         },
         {
          "line": {
           "width": 1.6696666666666666
          },
          "type": "line",
          "x0": 0.1,
          "x1": 0.2,
          "xref": "x",
          "y0": 0.2222222222222222,
          "y1": 0.2222222222222222,
          "yref": "y"
         },
         {
          "line": {
           "width": 2.003
          },
          "type": "line",
          "x0": 0.1,
          "x1": 0.2,
          "xref": "x",
          "y0": 0.3333333333333333,
          "y1": 0.3333333333333333,
          "yref": "y"
         },
         {
          "line": {
           "width": 2.336333333333333
          },
          "type": "line",
          "x0": 0.1,
          "x1": 0.2,
          "xref": "x",
          "y0": 0.4444444444444444,
          "y1": 0.4444444444444444,
          "yref": "y"
         },
         {
          "line": {
           "width": 2.669666666666666
          },
          "type": "line",
          "x0": 0.1,
          "x1": 0.2,
          "xref": "x",
          "y0": 0.5555555555555556,
          "y1": 0.5555555555555556,
          "yref": "y"
         },
         {
          "line": {
           "width": 3.003
          },
          "type": "line",
          "x0": 0.1,
          "x1": 0.2,
          "xref": "x",
          "y0": 0.6666666666666666,
          "y1": 0.6666666666666666,
          "yref": "y"
         },
         {
          "line": {
           "width": 3.336333333333333
          },
          "type": "line",
          "x0": 0.1,
          "x1": 0.2,
          "xref": "x",
          "y0": 0.7777777777777777,
          "y1": 0.7777777777777777,
          "yref": "y"
         },
         {
          "line": {
           "width": 3.669666666666666
          },
          "type": "line",
          "x0": 0.1,
          "x1": 0.2,
          "xref": "x",
          "y0": 0.8888888888888888,
          "y1": 0.8888888888888888,
          "yref": "y"
         },
         {
          "line": {
           "width": 4.003
          },
          "type": "line",
          "x0": 0.1,
          "x1": 0.2,
          "xref": "x",
          "y0": 1,
          "y1": 1,
          "yref": "y"
         },
         {
          "line": {
           "color": "grey",
           "dash": "dash",
           "width": 0.5
          },
          "type": "line",
          "x0": 0.55,
          "x1": 0.55,
          "xref": "x",
          "y0": 0,
          "y1": 1,
          "yref": "y"
         },
         {
          "line": {
           "width": 1
          },
          "type": "line",
          "x0": 0.65,
          "x1": 0.75,
          "xref": "x",
          "y0": 0,
          "y1": 0,
          "yref": "y"
         },
         {
          "line": {
           "width": 1.2222222222222223
          },
          "type": "line",
          "x0": 0.65,
          "x1": 0.75,
          "xref": "x",
          "y0": 0.1111111111111111,
          "y1": 0.1111111111111111,
          "yref": "y"
         },
         {
          "line": {
           "width": 1.4444444444444444
          },
          "type": "line",
          "x0": 0.65,
          "x1": 0.75,
          "xref": "x",
          "y0": 0.2222222222222222,
          "y1": 0.2222222222222222,
          "yref": "y"
         },
         {
          "line": {
           "width": 1.6666666666666665
          },
          "type": "line",
          "x0": 0.65,
          "x1": 0.75,
          "xref": "x",
          "y0": 0.3333333333333333,
          "y1": 0.3333333333333333,
          "yref": "y"
         },
         {
          "line": {
           "width": 1.8888888888888888
          },
          "type": "line",
          "x0": 0.65,
          "x1": 0.75,
          "xref": "x",
          "y0": 0.4444444444444444,
          "y1": 0.4444444444444444,
          "yref": "y"
         },
         {
          "line": {
           "width": 2.111111111111111
          },
          "type": "line",
          "x0": 0.65,
          "x1": 0.75,
          "xref": "x",
          "y0": 0.5555555555555556,
          "y1": 0.5555555555555556,
          "yref": "y"
         },
         {
          "line": {
           "width": 2.333333333333333
          },
          "type": "line",
          "x0": 0.65,
          "x1": 0.75,
          "xref": "x",
          "y0": 0.6666666666666666,
          "y1": 0.6666666666666666,
          "yref": "y"
         },
         {
          "line": {
           "width": 2.5555555555555554
          },
          "type": "line",
          "x0": 0.65,
          "x1": 0.75,
          "xref": "x",
          "y0": 0.7777777777777777,
          "y1": 0.7777777777777777,
          "yref": "y"
         },
         {
          "line": {
           "width": 2.7777777777777777
          },
          "type": "line",
          "x0": 0.65,
          "x1": 0.75,
          "xref": "x",
          "y0": 0.8888888888888888,
          "y1": 0.8888888888888888,
          "yref": "y"
         },
         {
          "line": {
           "width": 3
          },
          "type": "line",
          "x0": 0.65,
          "x1": 0.75,
          "xref": "x",
          "y0": 1,
          "y1": 1,
          "yref": "y"
         }
        ],
        "showlegend": false,
        "template": {
         "data": {
          "bar": [
           {
            "error_x": {
             "color": "#2a3f5f"
            },
            "error_y": {
             "color": "#2a3f5f"
            },
            "marker": {
             "line": {
              "color": "#E5ECF6",
              "width": 0.5
             },
             "pattern": {
              "fillmode": "overlay",
              "size": 10,
              "solidity": 0.2
             }
            },
            "type": "bar"
           }
          ],
          "barpolar": [
           {
            "marker": {
             "line": {
              "color": "#E5ECF6",
              "width": 0.5
             },
             "pattern": {
              "fillmode": "overlay",
              "size": 10,
              "solidity": 0.2
             }
            },
            "type": "barpolar"
           }
          ],
          "carpet": [
           {
            "aaxis": {
             "endlinecolor": "#2a3f5f",
             "gridcolor": "white",
             "linecolor": "white",
             "minorgridcolor": "white",
             "startlinecolor": "#2a3f5f"
            },
            "baxis": {
             "endlinecolor": "#2a3f5f",
             "gridcolor": "white",
             "linecolor": "white",
             "minorgridcolor": "white",
             "startlinecolor": "#2a3f5f"
            },
            "type": "carpet"
           }
          ],
          "choropleth": [
           {
            "colorbar": {
             "outlinewidth": 0,
             "ticks": ""
            },
            "type": "choropleth"
           }
          ],
          "contour": [
           {
            "colorbar": {
             "outlinewidth": 0,
             "ticks": ""
            },
            "colorscale": [
             [
              0,
              "#0d0887"
             ],
             [
              0.1111111111111111,
              "#46039f"
             ],
             [
              0.2222222222222222,
              "#7201a8"
             ],
             [
              0.3333333333333333,
              "#9c179e"
             ],
             [
              0.4444444444444444,
              "#bd3786"
             ],
             [
              0.5555555555555556,
              "#d8576b"
             ],
             [
              0.6666666666666666,
              "#ed7953"
             ],
             [
              0.7777777777777778,
              "#fb9f3a"
             ],
             [
              0.8888888888888888,
              "#fdca26"
             ],
             [
              1,
              "#f0f921"
             ]
            ],
            "type": "contour"
           }
          ],
          "contourcarpet": [
           {
            "colorbar": {
             "outlinewidth": 0,
             "ticks": ""
            },
            "type": "contourcarpet"
           }
          ],
          "heatmap": [
           {
            "colorbar": {
             "outlinewidth": 0,
             "ticks": ""
            },
            "colorscale": [
             [
              0,
              "#0d0887"
             ],
             [
              0.1111111111111111,
              "#46039f"
             ],
             [
              0.2222222222222222,
              "#7201a8"
             ],
             [
              0.3333333333333333,
              "#9c179e"
             ],
             [
              0.4444444444444444,
              "#bd3786"
             ],
             [
              0.5555555555555556,
              "#d8576b"
             ],
             [
              0.6666666666666666,
              "#ed7953"
             ],
             [
              0.7777777777777778,
              "#fb9f3a"
             ],
             [
              0.8888888888888888,
              "#fdca26"
             ],
             [
              1,
              "#f0f921"
             ]
            ],
            "type": "heatmap"
           }
          ],
          "heatmapgl": [
           {
            "colorbar": {
             "outlinewidth": 0,
             "ticks": ""
            },
            "colorscale": [
             [
              0,
              "#0d0887"
             ],
             [
              0.1111111111111111,
              "#46039f"
             ],
             [
              0.2222222222222222,
              "#7201a8"
             ],
             [
              0.3333333333333333,
              "#9c179e"
             ],
             [
              0.4444444444444444,
              "#bd3786"
             ],
             [
              0.5555555555555556,
              "#d8576b"
             ],
             [
              0.6666666666666666,
              "#ed7953"
             ],
             [
              0.7777777777777778,
              "#fb9f3a"
             ],
             [
              0.8888888888888888,
              "#fdca26"
             ],
             [
              1,
              "#f0f921"
             ]
            ],
            "type": "heatmapgl"
           }
          ],
          "histogram": [
           {
            "marker": {
             "pattern": {
              "fillmode": "overlay",
              "size": 10,
              "solidity": 0.2
             }
            },
            "type": "histogram"
           }
          ],
          "histogram2d": [
           {
            "colorbar": {
             "outlinewidth": 0,
             "ticks": ""
            },
            "colorscale": [
             [
              0,
              "#0d0887"
             ],
             [
              0.1111111111111111,
              "#46039f"
             ],
             [
              0.2222222222222222,
              "#7201a8"
             ],
             [
              0.3333333333333333,
              "#9c179e"
             ],
             [
              0.4444444444444444,
              "#bd3786"
             ],
             [
              0.5555555555555556,
              "#d8576b"
             ],
             [
              0.6666666666666666,
              "#ed7953"
             ],
             [
              0.7777777777777778,
              "#fb9f3a"
             ],
             [
              0.8888888888888888,
              "#fdca26"
             ],
             [
              1,
              "#f0f921"
             ]
            ],
            "type": "histogram2d"
           }
          ],
          "histogram2dcontour": [
           {
            "colorbar": {
             "outlinewidth": 0,
             "ticks": ""
            },
            "colorscale": [
             [
              0,
              "#0d0887"
             ],
             [
              0.1111111111111111,
              "#46039f"
             ],
             [
              0.2222222222222222,
              "#7201a8"
             ],
             [
              0.3333333333333333,
              "#9c179e"
             ],
             [
              0.4444444444444444,
              "#bd3786"
             ],
             [
              0.5555555555555556,
              "#d8576b"
             ],
             [
              0.6666666666666666,
              "#ed7953"
             ],
             [
              0.7777777777777778,
              "#fb9f3a"
             ],
             [
              0.8888888888888888,
              "#fdca26"
             ],
             [
              1,
              "#f0f921"
             ]
            ],
            "type": "histogram2dcontour"
           }
          ],
          "mesh3d": [
           {
            "colorbar": {
             "outlinewidth": 0,
             "ticks": ""
            },
            "type": "mesh3d"
           }
          ],
          "parcoords": [
           {
            "line": {
             "colorbar": {
              "outlinewidth": 0,
              "ticks": ""
             }
            },
            "type": "parcoords"
           }
          ],
          "pie": [
           {
            "automargin": true,
            "type": "pie"
           }
          ],
          "scatter": [
           {
            "fillpattern": {
             "fillmode": "overlay",
             "size": 10,
             "solidity": 0.2
            },
            "type": "scatter"
           }
          ],
          "scatter3d": [
           {
            "line": {
             "colorbar": {
              "outlinewidth": 0,
              "ticks": ""
             }
            },
            "marker": {
             "colorbar": {
              "outlinewidth": 0,
              "ticks": ""
             }
            },
            "type": "scatter3d"
           }
          ],
          "scattercarpet": [
           {
            "marker": {
             "colorbar": {
              "outlinewidth": 0,
              "ticks": ""
             }
            },
            "type": "scattercarpet"
           }
          ],
          "scattergeo": [
           {
            "marker": {
             "colorbar": {
              "outlinewidth": 0,
              "ticks": ""
             }
            },
            "type": "scattergeo"
           }
          ],
          "scattergl": [
           {
            "marker": {
             "colorbar": {
              "outlinewidth": 0,
              "ticks": ""
             }
            },
            "type": "scattergl"
           }
          ],
          "scattermapbox": [
           {
            "marker": {
             "colorbar": {
              "outlinewidth": 0,
              "ticks": ""
             }
            },
            "type": "scattermapbox"
           }
          ],
          "scatterpolar": [
           {
            "marker": {
             "colorbar": {
              "outlinewidth": 0,
              "ticks": ""
             }
            },
            "type": "scatterpolar"
           }
          ],
          "scatterpolargl": [
           {
            "marker": {
             "colorbar": {
              "outlinewidth": 0,
              "ticks": ""
             }
            },
            "type": "scatterpolargl"
           }
          ],
          "scatterternary": [
           {
            "marker": {
             "colorbar": {
              "outlinewidth": 0,
              "ticks": ""
             }
            },
            "type": "scatterternary"
           }
          ],
          "surface": [
           {
            "colorbar": {
             "outlinewidth": 0,
             "ticks": ""
            },
            "colorscale": [
             [
              0,
              "#0d0887"
             ],
             [
              0.1111111111111111,
              "#46039f"
             ],
             [
              0.2222222222222222,
              "#7201a8"
             ],
             [
              0.3333333333333333,
              "#9c179e"
             ],
             [
              0.4444444444444444,
              "#bd3786"
             ],
             [
              0.5555555555555556,
              "#d8576b"
             ],
             [
              0.6666666666666666,
              "#ed7953"
             ],
             [
              0.7777777777777778,
              "#fb9f3a"
             ],
             [
              0.8888888888888888,
              "#fdca26"
             ],
             [
              1,
              "#f0f921"
             ]
            ],
            "type": "surface"
           }
          ],
          "table": [
           {
            "cells": {
             "fill": {
              "color": "#EBF0F8"
             },
             "line": {
              "color": "white"
             }
            },
            "header": {
             "fill": {
              "color": "#C8D4E3"
             },
             "line": {
              "color": "white"
             }
            },
            "type": "table"
           }
          ]
         },
         "layout": {
          "annotationdefaults": {
           "arrowcolor": "#2a3f5f",
           "arrowhead": 0,
           "arrowwidth": 1
          },
          "autotypenumbers": "strict",
          "coloraxis": {
           "colorbar": {
            "outlinewidth": 0,
            "ticks": ""
           }
          },
          "colorscale": {
           "diverging": [
            [
             0,
             "#8e0152"
            ],
            [
             0.1,
             "#c51b7d"
            ],
            [
             0.2,
             "#de77ae"
            ],
            [
             0.3,
             "#f1b6da"
            ],
            [
             0.4,
             "#fde0ef"
            ],
            [
             0.5,
             "#f7f7f7"
            ],
            [
             0.6,
             "#e6f5d0"
            ],
            [
             0.7,
             "#b8e186"
            ],
            [
             0.8,
             "#7fbc41"
            ],
            [
             0.9,
             "#4d9221"
            ],
            [
             1,
             "#276419"
            ]
           ],
           "sequential": [
            [
             0,
             "#0d0887"
            ],
            [
             0.1111111111111111,
             "#46039f"
            ],
            [
             0.2222222222222222,
             "#7201a8"
            ],
            [
             0.3333333333333333,
             "#9c179e"
            ],
            [
             0.4444444444444444,
             "#bd3786"
            ],
            [
             0.5555555555555556,
             "#d8576b"
            ],
            [
             0.6666666666666666,
             "#ed7953"
            ],
            [
             0.7777777777777778,
             "#fb9f3a"
            ],
            [
             0.8888888888888888,
             "#fdca26"
            ],
            [
             1,
             "#f0f921"
            ]
           ],
           "sequentialminus": [
            [
             0,
             "#0d0887"
            ],
            [
             0.1111111111111111,
             "#46039f"
            ],
            [
             0.2222222222222222,
             "#7201a8"
            ],
            [
             0.3333333333333333,
             "#9c179e"
            ],
            [
             0.4444444444444444,
             "#bd3786"
            ],
            [
             0.5555555555555556,
             "#d8576b"
            ],
            [
             0.6666666666666666,
             "#ed7953"
            ],
            [
             0.7777777777777778,
             "#fb9f3a"
            ],
            [
             0.8888888888888888,
             "#fdca26"
            ],
            [
             1,
             "#f0f921"
            ]
           ]
          },
          "colorway": [
           "#636efa",
           "#EF553B",
           "#00cc96",
           "#ab63fa",
           "#FFA15A",
           "#19d3f3",
           "#FF6692",
           "#B6E880",
           "#FF97FF",
           "#FECB52"
          ],
          "font": {
           "color": "#2a3f5f"
          },
          "geo": {
           "bgcolor": "white",
           "lakecolor": "white",
           "landcolor": "#E5ECF6",
           "showlakes": true,
           "showland": true,
           "subunitcolor": "white"
          },
          "hoverlabel": {
           "align": "left"
          },
          "hovermode": "closest",
          "mapbox": {
           "style": "light"
          },
          "paper_bgcolor": "white",
          "plot_bgcolor": "#E5ECF6",
          "polar": {
           "angularaxis": {
            "gridcolor": "white",
            "linecolor": "white",
            "ticks": ""
           },
           "bgcolor": "#E5ECF6",
           "radialaxis": {
            "gridcolor": "white",
            "linecolor": "white",
            "ticks": ""
           }
          },
          "scene": {
           "xaxis": {
            "backgroundcolor": "#E5ECF6",
            "gridcolor": "white",
            "gridwidth": 2,
            "linecolor": "white",
            "showbackground": true,
            "ticks": "",
            "zerolinecolor": "white"
           },
           "yaxis": {
            "backgroundcolor": "#E5ECF6",
            "gridcolor": "white",
            "gridwidth": 2,
            "linecolor": "white",
            "showbackground": true,
            "ticks": "",
            "zerolinecolor": "white"
           },
           "zaxis": {
            "backgroundcolor": "#E5ECF6",
            "gridcolor": "white",
            "gridwidth": 2,
            "linecolor": "white",
            "showbackground": true,
            "ticks": "",
            "zerolinecolor": "white"
           }
          },
          "shapedefaults": {
           "line": {
            "color": "#2a3f5f"
           }
          },
          "ternary": {
           "aaxis": {
            "gridcolor": "white",
            "linecolor": "white",
            "ticks": ""
           },
           "baxis": {
            "gridcolor": "white",
            "linecolor": "white",
            "ticks": ""
           },
           "bgcolor": "#E5ECF6",
           "caxis": {
            "gridcolor": "white",
            "linecolor": "white",
            "ticks": ""
           }
          },
          "title": {
           "x": 0.05
          },
          "xaxis": {
           "automargin": true,
           "gridcolor": "white",
           "linecolor": "white",
           "ticks": "",
           "title": {
            "standoff": 15
           },
           "zerolinecolor": "white",
           "zerolinewidth": 2
          },
          "yaxis": {
           "automargin": true,
           "gridcolor": "white",
           "linecolor": "white",
           "ticks": "",
           "title": {
            "standoff": 15
           },
           "zerolinecolor": "white",
           "zerolinewidth": 2
          }
         }
        },
        "title": {
         "text": "Grotrian Diagram for Helium I (Shell: All)",
         "x": 0.5
        },
        "width": 1000,
        "xaxis": {
         "anchor": "y",
         "domain": [
          0,
          0.258
         ],
         "fixedrange": true,
         "showticklabels": false
        },
        "xaxis2": {
         "anchor": "y2",
         "domain": [
          0.398,
          1
         ],
         "fixedrange": true,
         "showticklabels": false
        },
        "yaxis": {
         "anchor": "x",
         "domain": [
          0,
          1
         ],
         "fixedrange": true,
         "showticklabels": false
        },
        "yaxis2": {
         "anchor": "x2",
         "domain": [
          0,
          1
         ],
         "fixedrange": true,
         "range": [
          0,
          null
         ],
         "tickmode": "array",
         "ticktext": [
          "0.00e+00",
          "1.98e+01",
          "2.06e+01",
          "2.10e+01",
          "2.12e+01",
          "2.29e+01"
         ],
         "tickvals": [
          0,
          0.1,
          0.3573556063238298,
          0.46996140866624203,
          0.5520299124917911,
          1.1
         ],
         "title": {
          "standoff": 5,
          "text": "Energy (eV)"
         }
        }
       }
      },
      "text/html": [
       "<div>                            <div id=\"6ed36f72-f296-4def-97e1-8a0ea15ad10d\" class=\"plotly-graph-div\" style=\"height:700px; width:1000px;\"></div>            <script type=\"text/javascript\">                require([\"plotly\"], function(Plotly) {                    window.PLOTLYENV=window.PLOTLYENV || {};                                    if (document.getElementById(\"6ed36f72-f296-4def-97e1-8a0ea15ad10d\")) {                    Plotly.newPlot(                        \"6ed36f72-f296-4def-97e1-8a0ea15ad10d\",                        [{\"hovertemplate\":\"Energy: 0.00e+00 eV<br>Population: 0.00e+00<extra></extra>\",\"line\":{\"color\":\"grey\",\"dash\":\"dash\"},\"mode\":\"lines\",\"showlegend\":false,\"x\":[-0.05,0.07222222222222223,0.19444444444444448,0.3166666666666667,0.43888888888888894,0.5611111111111111,0.6833333333333333,0.8055555555555556,0.9277777777777778,1.05],\"y\":[0.0,0.0,0.0,0.0,0.0,0.0,0.0,0.0,0.0,0.0],\"type\":\"scatter\",\"xaxis\":\"x2\",\"yaxis\":\"y2\"},{\"hovertemplate\":\"Energy: 1.98e+01 eV<br>Population: 1.96e-01<extra></extra>\",\"line\":{\"color\":\"black\",\"width\":4.003},\"mode\":\"lines\",\"showlegend\":false,\"x\":[-0.05,0.07222222222222223,0.19444444444444448,0.3166666666666667,0.43888888888888894,0.5611111111111111,0.6833333333333333,0.8055555555555556,0.9277777777777778,1.05],\"y\":[0.1,0.1,0.1,0.1,0.1,0.1,0.1,0.1,0.1,0.1],\"type\":\"scatter\",\"xaxis\":\"x2\",\"yaxis\":\"y2\"},{\"hovertemplate\":\"Energy: 2.06e+01 eV<br>Population: 2.89e-02<extra></extra>\",\"line\":{\"color\":\"black\",\"width\":1.003},\"mode\":\"lines\",\"showlegend\":false,\"x\":[-0.05,0.07222222222222223,0.19444444444444448,0.3166666666666667,0.43888888888888894,0.5611111111111111,0.6833333333333333,0.8055555555555556,0.9277777777777778,1.05],\"y\":[0.3573556063238298,0.3573556063238298,0.3573556063238298,0.3573556063238298,0.3573556063238298,0.3573556063238298,0.3573556063238298,0.3573556063238298,0.3573556063238298,0.3573556063238298],\"type\":\"scatter\",\"xaxis\":\"x2\",\"yaxis\":\"y2\"},{\"hovertemplate\":\"Energy: 2.10e+01 eV<br>Population: 1.82e-01<extra></extra>\",\"line\":{\"color\":\"black\",\"width\":3.8891476416274253},\"mode\":\"lines\",\"showlegend\":false,\"x\":[-0.05,0.07222222222222223,0.19444444444444448,0.3166666666666667,0.43888888888888894,0.5611111111111111,0.6833333333333333,0.8055555555555556,0.9277777777777778,1.05],\"y\":[0.46996140866624203,0.46996140866624203,0.46996140866624203,0.46996140866624203,0.46996140866624203,0.46996140866624203,0.46996140866624203,0.46996140866624203,0.46996140866624203,0.46996140866624203],\"type\":\"scatter\",\"xaxis\":\"x2\",\"yaxis\":\"y2\"},{\"hovertemplate\":\"Energy: 2.12e+01 eV<br>Population: 4.68e-02<extra></extra>\",\"line\":{\"color\":\"black\",\"width\":1.7592902008221152},\"mode\":\"lines\",\"showlegend\":false,\"x\":[-0.05,0.07222222222222223,0.19444444444444448,0.3166666666666667,0.43888888888888894,0.5611111111111111,0.6833333333333333,0.8055555555555556,0.9277777777777778,1.05],\"y\":[0.5520299124917911,0.5520299124917911,0.5520299124917911,0.5520299124917911,0.5520299124917911,0.5520299124917911,0.5520299124917911,0.5520299124917911,0.5520299124917911,0.5520299124917911],\"type\":\"scatter\",\"xaxis\":\"x2\",\"yaxis\":\"y2\"},{\"hovertemplate\":\"Energy: 2.29e+01 eV<br>Population: 3.28e-02<extra></extra>\",\"line\":{\"color\":\"black\",\"width\":1.2035525985385798},\"mode\":\"lines\",\"showlegend\":false,\"x\":[-0.05,0.07222222222222223,0.19444444444444448,0.3166666666666667,0.43888888888888894,0.5611111111111111,0.6833333333333333,0.8055555555555556,0.9277777777777778,1.05],\"y\":[1.1,1.1,1.1,1.1,1.1,1.1,1.1,1.1,1.1,1.1],\"type\":\"scatter\",\"xaxis\":\"x2\",\"yaxis\":\"y2\"},{\"hovertemplate\":\"Count: 360<br>Wavelength: 1.08e+04 \\u212b<extra></extra>\",\"line\":{\"color\":\"#ff0000\",\"width\":2.8556681226064136},\"marker\":{\"angleref\":\"previous\",\"color\":\"#ff0000\",\"size\":9,\"symbol\":\"arrow-bar-up\"},\"x\":[0,0.369961408666242],\"y\":[0.1,0.46996140866624203],\"type\":\"scatter\",\"xaxis\":\"x2\",\"yaxis\":\"y2\"},{\"hovertemplate\":\"Count: 38<br>Wavelength: 3.89e+03 \\u212b<extra></extra>\",\"line\":{\"color\":\"#cce385\",\"width\":1.8365787728316847},\"marker\":{\"angleref\":\"previous\",\"color\":\"#cce385\",\"size\":9,\"symbol\":\"arrow-bar-up\"},\"x\":[0,1.0],\"y\":[0.1,1.1],\"type\":\"scatter\",\"xaxis\":\"x2\",\"yaxis\":\"y2\"},{\"hovertemplate\":\"Count: 23<br>Wavelength: 7.07e+03 \\u212b<extra></extra>\",\"line\":{\"color\":\"#ff703a\",\"width\":1.6090170714255976},\"marker\":{\"angleref\":\"previous\",\"color\":\"#ff703a\",\"size\":9,\"symbol\":\"arrow-bar-up\"},\"x\":[0,1.0],\"y\":[0.46996140866624203,1.1],\"type\":\"scatter\",\"xaxis\":\"x2\",\"yaxis\":\"y2\"},{\"hovertemplate\":\"Count: 6<br>Wavelength: 5.84e+02 \\u212b<extra></extra>\",\"line\":{\"color\":\"#8000ff\",\"width\":1.0},\"marker\":{\"angleref\":\"previous\",\"color\":\"#8000ff\",\"size\":9,\"symbol\":\"arrow-bar-up\"},\"x\":[0,0.9260161397738454],\"y\":[0.5520299124917911,0.0],\"type\":\"scatter\",\"xaxis\":\"x2\",\"yaxis\":\"y2\"},{\"hovertemplate\":\"Count: 495<br>Wavelength: 1.08e+04 \\u212b<extra></extra>\",\"line\":{\"color\":\"#ff0000\",\"width\":3.0},\"marker\":{\"angleref\":\"previous\",\"color\":\"#ff0000\",\"size\":9,\"symbol\":\"arrow-bar-up\"},\"x\":[0,0.369961408666242],\"y\":[0.46996140866624203,0.1],\"type\":\"scatter\",\"xaxis\":\"x2\",\"yaxis\":\"y2\"},{\"hovertemplate\":\"Count: 42<br>Wavelength: 3.89e+03 \\u212b<extra></extra>\",\"line\":{\"color\":\"#cce385\",\"width\":1.881939313651336},\"marker\":{\"angleref\":\"previous\",\"color\":\"#cce385\",\"size\":9,\"symbol\":\"arrow-bar-up\"},\"x\":[0,1.0],\"y\":[1.1,0.1],\"type\":\"scatter\",\"xaxis\":\"x2\",\"yaxis\":\"y2\"},{\"hovertemplate\":\"Count: 38<br>Wavelength: 7.07e+03 \\u212b<extra></extra>\",\"line\":{\"color\":\"#ff703a\",\"width\":1.8365787728316847},\"marker\":{\"angleref\":\"previous\",\"color\":\"#ff703a\",\"size\":9,\"symbol\":\"arrow-bar-up\"},\"x\":[0,1.0],\"y\":[1.1,0.46996140866624203],\"type\":\"scatter\",\"xaxis\":\"x2\",\"yaxis\":\"y2\"},{\"hoverinfo\":\"none\",\"marker\":{\"cmax\":9.29033944792864,\"cmin\":6.370474448502337,\"colorbar\":{\"outlinewidth\":0,\"thickness\":5,\"ticktext\":[\"5.8e+02\",\"8.1e+02\",\"1.1e+03\",\"1.5e+03\",\"2.1e+03\",\"3.0e+03\",\"4.1e+03\",\"5.7e+03\",\"7.8e+03\",\"1.1e+04\"],\"tickvals\":[6.370474448502337,6.694903892883037,7.019333337263737,7.343762781644437,7.668192226025137,7.992621670405838,8.317051114786539,8.641480559167238,8.965910003547938,9.290339447928638],\"title\":{\"font\":{\"size\":12},\"text\":\"Wavelength (\\u212b)<br>&nbsp;\"}},\"colorscale\":[[0.0,\"rgb(150,0,90)\"],[0.125,\"rgb(0,0,200)\"],[0.25,\"rgb(0,25,255)\"],[0.375,\"rgb(0,152,255)\"],[0.5,\"rgb(44,255,150)\"],[0.625,\"rgb(151,255,0)\"],[0.75,\"rgb(255,234,0)\"],[0.875,\"rgb(255,111,0)\"],[1.0,\"rgb(255,0,0)\"]],\"showscale\":true},\"mode\":\"markers\",\"x\":[null],\"y\":[null],\"type\":\"scatter\",\"xaxis\":\"x2\",\"yaxis\":\"y2\"}],                        {\"template\":{\"data\":{\"histogram2dcontour\":[{\"type\":\"histogram2dcontour\",\"colorbar\":{\"outlinewidth\":0,\"ticks\":\"\"},\"colorscale\":[[0.0,\"#0d0887\"],[0.1111111111111111,\"#46039f\"],[0.2222222222222222,\"#7201a8\"],[0.3333333333333333,\"#9c179e\"],[0.4444444444444444,\"#bd3786\"],[0.5555555555555556,\"#d8576b\"],[0.6666666666666666,\"#ed7953\"],[0.7777777777777778,\"#fb9f3a\"],[0.8888888888888888,\"#fdca26\"],[1.0,\"#f0f921\"]]}],\"choropleth\":[{\"type\":\"choropleth\",\"colorbar\":{\"outlinewidth\":0,\"ticks\":\"\"}}],\"histogram2d\":[{\"type\":\"histogram2d\",\"colorbar\":{\"outlinewidth\":0,\"ticks\":\"\"},\"colorscale\":[[0.0,\"#0d0887\"],[0.1111111111111111,\"#46039f\"],[0.2222222222222222,\"#7201a8\"],[0.3333333333333333,\"#9c179e\"],[0.4444444444444444,\"#bd3786\"],[0.5555555555555556,\"#d8576b\"],[0.6666666666666666,\"#ed7953\"],[0.7777777777777778,\"#fb9f3a\"],[0.8888888888888888,\"#fdca26\"],[1.0,\"#f0f921\"]]}],\"heatmap\":[{\"type\":\"heatmap\",\"colorbar\":{\"outlinewidth\":0,\"ticks\":\"\"},\"colorscale\":[[0.0,\"#0d0887\"],[0.1111111111111111,\"#46039f\"],[0.2222222222222222,\"#7201a8\"],[0.3333333333333333,\"#9c179e\"],[0.4444444444444444,\"#bd3786\"],[0.5555555555555556,\"#d8576b\"],[0.6666666666666666,\"#ed7953\"],[0.7777777777777778,\"#fb9f3a\"],[0.8888888888888888,\"#fdca26\"],[1.0,\"#f0f921\"]]}],\"heatmapgl\":[{\"type\":\"heatmapgl\",\"colorbar\":{\"outlinewidth\":0,\"ticks\":\"\"},\"colorscale\":[[0.0,\"#0d0887\"],[0.1111111111111111,\"#46039f\"],[0.2222222222222222,\"#7201a8\"],[0.3333333333333333,\"#9c179e\"],[0.4444444444444444,\"#bd3786\"],[0.5555555555555556,\"#d8576b\"],[0.6666666666666666,\"#ed7953\"],[0.7777777777777778,\"#fb9f3a\"],[0.8888888888888888,\"#fdca26\"],[1.0,\"#f0f921\"]]}],\"contourcarpet\":[{\"type\":\"contourcarpet\",\"colorbar\":{\"outlinewidth\":0,\"ticks\":\"\"}}],\"contour\":[{\"type\":\"contour\",\"colorbar\":{\"outlinewidth\":0,\"ticks\":\"\"},\"colorscale\":[[0.0,\"#0d0887\"],[0.1111111111111111,\"#46039f\"],[0.2222222222222222,\"#7201a8\"],[0.3333333333333333,\"#9c179e\"],[0.4444444444444444,\"#bd3786\"],[0.5555555555555556,\"#d8576b\"],[0.6666666666666666,\"#ed7953\"],[0.7777777777777778,\"#fb9f3a\"],[0.8888888888888888,\"#fdca26\"],[1.0,\"#f0f921\"]]}],\"surface\":[{\"type\":\"surface\",\"colorbar\":{\"outlinewidth\":0,\"ticks\":\"\"},\"colorscale\":[[0.0,\"#0d0887\"],[0.1111111111111111,\"#46039f\"],[0.2222222222222222,\"#7201a8\"],[0.3333333333333333,\"#9c179e\"],[0.4444444444444444,\"#bd3786\"],[0.5555555555555556,\"#d8576b\"],[0.6666666666666666,\"#ed7953\"],[0.7777777777777778,\"#fb9f3a\"],[0.8888888888888888,\"#fdca26\"],[1.0,\"#f0f921\"]]}],\"mesh3d\":[{\"type\":\"mesh3d\",\"colorbar\":{\"outlinewidth\":0,\"ticks\":\"\"}}],\"scatter\":[{\"fillpattern\":{\"fillmode\":\"overlay\",\"size\":10,\"solidity\":0.2},\"type\":\"scatter\"}],\"parcoords\":[{\"type\":\"parcoords\",\"line\":{\"colorbar\":{\"outlinewidth\":0,\"ticks\":\"\"}}}],\"scatterpolargl\":[{\"type\":\"scatterpolargl\",\"marker\":{\"colorbar\":{\"outlinewidth\":0,\"ticks\":\"\"}}}],\"bar\":[{\"error_x\":{\"color\":\"#2a3f5f\"},\"error_y\":{\"color\":\"#2a3f5f\"},\"marker\":{\"line\":{\"color\":\"#E5ECF6\",\"width\":0.5},\"pattern\":{\"fillmode\":\"overlay\",\"size\":10,\"solidity\":0.2}},\"type\":\"bar\"}],\"scattergeo\":[{\"type\":\"scattergeo\",\"marker\":{\"colorbar\":{\"outlinewidth\":0,\"ticks\":\"\"}}}],\"scatterpolar\":[{\"type\":\"scatterpolar\",\"marker\":{\"colorbar\":{\"outlinewidth\":0,\"ticks\":\"\"}}}],\"histogram\":[{\"marker\":{\"pattern\":{\"fillmode\":\"overlay\",\"size\":10,\"solidity\":0.2}},\"type\":\"histogram\"}],\"scattergl\":[{\"type\":\"scattergl\",\"marker\":{\"colorbar\":{\"outlinewidth\":0,\"ticks\":\"\"}}}],\"scatter3d\":[{\"type\":\"scatter3d\",\"line\":{\"colorbar\":{\"outlinewidth\":0,\"ticks\":\"\"}},\"marker\":{\"colorbar\":{\"outlinewidth\":0,\"ticks\":\"\"}}}],\"scattermapbox\":[{\"type\":\"scattermapbox\",\"marker\":{\"colorbar\":{\"outlinewidth\":0,\"ticks\":\"\"}}}],\"scatterternary\":[{\"type\":\"scatterternary\",\"marker\":{\"colorbar\":{\"outlinewidth\":0,\"ticks\":\"\"}}}],\"scattercarpet\":[{\"type\":\"scattercarpet\",\"marker\":{\"colorbar\":{\"outlinewidth\":0,\"ticks\":\"\"}}}],\"carpet\":[{\"aaxis\":{\"endlinecolor\":\"#2a3f5f\",\"gridcolor\":\"white\",\"linecolor\":\"white\",\"minorgridcolor\":\"white\",\"startlinecolor\":\"#2a3f5f\"},\"baxis\":{\"endlinecolor\":\"#2a3f5f\",\"gridcolor\":\"white\",\"linecolor\":\"white\",\"minorgridcolor\":\"white\",\"startlinecolor\":\"#2a3f5f\"},\"type\":\"carpet\"}],\"table\":[{\"cells\":{\"fill\":{\"color\":\"#EBF0F8\"},\"line\":{\"color\":\"white\"}},\"header\":{\"fill\":{\"color\":\"#C8D4E3\"},\"line\":{\"color\":\"white\"}},\"type\":\"table\"}],\"barpolar\":[{\"marker\":{\"line\":{\"color\":\"#E5ECF6\",\"width\":0.5},\"pattern\":{\"fillmode\":\"overlay\",\"size\":10,\"solidity\":0.2}},\"type\":\"barpolar\"}],\"pie\":[{\"automargin\":true,\"type\":\"pie\"}]},\"layout\":{\"autotypenumbers\":\"strict\",\"colorway\":[\"#636efa\",\"#EF553B\",\"#00cc96\",\"#ab63fa\",\"#FFA15A\",\"#19d3f3\",\"#FF6692\",\"#B6E880\",\"#FF97FF\",\"#FECB52\"],\"font\":{\"color\":\"#2a3f5f\"},\"hovermode\":\"closest\",\"hoverlabel\":{\"align\":\"left\"},\"paper_bgcolor\":\"white\",\"plot_bgcolor\":\"#E5ECF6\",\"polar\":{\"bgcolor\":\"#E5ECF6\",\"angularaxis\":{\"gridcolor\":\"white\",\"linecolor\":\"white\",\"ticks\":\"\"},\"radialaxis\":{\"gridcolor\":\"white\",\"linecolor\":\"white\",\"ticks\":\"\"}},\"ternary\":{\"bgcolor\":\"#E5ECF6\",\"aaxis\":{\"gridcolor\":\"white\",\"linecolor\":\"white\",\"ticks\":\"\"},\"baxis\":{\"gridcolor\":\"white\",\"linecolor\":\"white\",\"ticks\":\"\"},\"caxis\":{\"gridcolor\":\"white\",\"linecolor\":\"white\",\"ticks\":\"\"}},\"coloraxis\":{\"colorbar\":{\"outlinewidth\":0,\"ticks\":\"\"}},\"colorscale\":{\"sequential\":[[0.0,\"#0d0887\"],[0.1111111111111111,\"#46039f\"],[0.2222222222222222,\"#7201a8\"],[0.3333333333333333,\"#9c179e\"],[0.4444444444444444,\"#bd3786\"],[0.5555555555555556,\"#d8576b\"],[0.6666666666666666,\"#ed7953\"],[0.7777777777777778,\"#fb9f3a\"],[0.8888888888888888,\"#fdca26\"],[1.0,\"#f0f921\"]],\"sequentialminus\":[[0.0,\"#0d0887\"],[0.1111111111111111,\"#46039f\"],[0.2222222222222222,\"#7201a8\"],[0.3333333333333333,\"#9c179e\"],[0.4444444444444444,\"#bd3786\"],[0.5555555555555556,\"#d8576b\"],[0.6666666666666666,\"#ed7953\"],[0.7777777777777778,\"#fb9f3a\"],[0.8888888888888888,\"#fdca26\"],[1.0,\"#f0f921\"]],\"diverging\":[[0,\"#8e0152\"],[0.1,\"#c51b7d\"],[0.2,\"#de77ae\"],[0.3,\"#f1b6da\"],[0.4,\"#fde0ef\"],[0.5,\"#f7f7f7\"],[0.6,\"#e6f5d0\"],[0.7,\"#b8e186\"],[0.8,\"#7fbc41\"],[0.9,\"#4d9221\"],[1,\"#276419\"]]},\"xaxis\":{\"gridcolor\":\"white\",\"linecolor\":\"white\",\"ticks\":\"\",\"title\":{\"standoff\":15},\"zerolinecolor\":\"white\",\"automargin\":true,\"zerolinewidth\":2},\"yaxis\":{\"gridcolor\":\"white\",\"linecolor\":\"white\",\"ticks\":\"\",\"title\":{\"standoff\":15},\"zerolinecolor\":\"white\",\"automargin\":true,\"zerolinewidth\":2},\"scene\":{\"xaxis\":{\"backgroundcolor\":\"#E5ECF6\",\"gridcolor\":\"white\",\"linecolor\":\"white\",\"showbackground\":true,\"ticks\":\"\",\"zerolinecolor\":\"white\",\"gridwidth\":2},\"yaxis\":{\"backgroundcolor\":\"#E5ECF6\",\"gridcolor\":\"white\",\"linecolor\":\"white\",\"showbackground\":true,\"ticks\":\"\",\"zerolinecolor\":\"white\",\"gridwidth\":2},\"zaxis\":{\"backgroundcolor\":\"#E5ECF6\",\"gridcolor\":\"white\",\"linecolor\":\"white\",\"showbackground\":true,\"ticks\":\"\",\"zerolinecolor\":\"white\",\"gridwidth\":2}},\"shapedefaults\":{\"line\":{\"color\":\"#2a3f5f\"}},\"annotationdefaults\":{\"arrowcolor\":\"#2a3f5f\",\"arrowhead\":0,\"arrowwidth\":1},\"geo\":{\"bgcolor\":\"white\",\"landcolor\":\"#E5ECF6\",\"subunitcolor\":\"white\",\"showland\":true,\"showlakes\":true,\"lakecolor\":\"white\"},\"title\":{\"x\":0.05},\"mapbox\":{\"style\":\"light\"}}},\"xaxis\":{\"anchor\":\"y\",\"domain\":[0.0,0.258],\"showticklabels\":false,\"fixedrange\":true},\"yaxis\":{\"anchor\":\"x\",\"domain\":[0.0,1.0],\"showticklabels\":false,\"fixedrange\":true},\"xaxis2\":{\"anchor\":\"y2\",\"domain\":[0.398,1.0],\"showticklabels\":false,\"fixedrange\":true},\"yaxis2\":{\"anchor\":\"x2\",\"domain\":[0.0,1.0],\"title\":{\"text\":\"Energy (eV)\",\"standoff\":5},\"range\":[0,null],\"tickmode\":\"array\",\"tickvals\":[0.0,0.1,0.3573556063238298,0.46996140866624203,0.5520299124917911,1.1],\"ticktext\":[\"0.00e+00\",\"1.98e+01\",\"2.06e+01\",\"2.10e+01\",\"2.12e+01\",\"2.29e+01\"],\"fixedrange\":true},\"title\":{\"text\":\"Grotrian Diagram for Helium I (Shell: All)\",\"x\":0.5},\"plot_bgcolor\":\"white\",\"autosize\":false,\"width\":1000,\"height\":700,\"showlegend\":false,\"annotations\":[{\"showarrow\":false,\"text\":\"n=0\",\"x\":1.1,\"xref\":\"x2\",\"y\":0.0,\"yref\":\"y2\"},{\"showarrow\":false,\"text\":\"n=1\",\"x\":1.1,\"xref\":\"x2\",\"y\":0.1,\"yref\":\"y2\"},{\"showarrow\":false,\"text\":\"n=2\",\"x\":1.1,\"xref\":\"x2\",\"y\":0.3573556063238298,\"yref\":\"y2\"},{\"showarrow\":false,\"text\":\"n=3\",\"x\":1.1,\"xref\":\"x2\",\"y\":0.46996140866624203,\"yref\":\"y2\"},{\"showarrow\":false,\"text\":\"n=4\",\"x\":1.1,\"xref\":\"x2\",\"y\":0.5520299124917911,\"yref\":\"y2\"},{\"showarrow\":false,\"text\":\"n=5\",\"x\":1.1,\"xref\":\"x2\",\"y\":1.1,\"yref\":\"y2\"},{\"showarrow\":false,\"text\":\"2.9e-02\",\"x\":0.35,\"xref\":\"x\",\"y\":0.0,\"yref\":\"y\"},{\"showarrow\":false,\"text\":\"3.6e-02\",\"x\":0.35,\"xref\":\"x\",\"y\":0.1111111111111111,\"yref\":\"y\"},{\"showarrow\":false,\"text\":\"4.4e-02\",\"x\":0.35,\"xref\":\"x\",\"y\":0.2222222222222222,\"yref\":\"y\"},{\"showarrow\":false,\"text\":\"5.5e-02\",\"x\":0.35,\"xref\":\"x\",\"y\":0.3333333333333333,\"yref\":\"y\"},{\"showarrow\":false,\"text\":\"6.8e-02\",\"x\":0.35,\"xref\":\"x\",\"y\":0.4444444444444444,\"yref\":\"y\"},{\"showarrow\":false,\"text\":\"8.4e-02\",\"x\":0.35,\"xref\":\"x\",\"y\":0.5555555555555556,\"yref\":\"y\"},{\"showarrow\":false,\"text\":\"1.0e-01\",\"x\":0.35,\"xref\":\"x\",\"y\":0.6666666666666666,\"yref\":\"y\"},{\"showarrow\":false,\"text\":\"1.3e-01\",\"x\":0.35,\"xref\":\"x\",\"y\":0.7777777777777777,\"yref\":\"y\"},{\"showarrow\":false,\"text\":\"1.6e-01\",\"x\":0.35,\"xref\":\"x\",\"y\":0.8888888888888888,\"yref\":\"y\"},{\"showarrow\":false,\"text\":\"2.0e-01\",\"x\":0.35,\"xref\":\"x\",\"y\":1.0,\"yref\":\"y\"},{\"showarrow\":false,\"text\":\"Populations\",\"x\":0.28,\"xref\":\"x\",\"y\":-0.08,\"yref\":\"y\"},{\"showarrow\":false,\"text\":\"6.0e+00\",\"x\":0.9,\"xref\":\"x\",\"y\":0.0,\"yref\":\"y\"},{\"showarrow\":false,\"text\":\"9.8e+00\",\"x\":0.9,\"xref\":\"x\",\"y\":0.1111111111111111,\"yref\":\"y\"},{\"showarrow\":false,\"text\":\"1.6e+01\",\"x\":0.9,\"xref\":\"x\",\"y\":0.2222222222222222,\"yref\":\"y\"},{\"showarrow\":false,\"text\":\"2.6e+01\",\"x\":0.9,\"xref\":\"x\",\"y\":0.3333333333333333,\"yref\":\"y\"},{\"showarrow\":false,\"text\":\"4.3e+01\",\"x\":0.9,\"xref\":\"x\",\"y\":0.4444444444444444,\"yref\":\"y\"},{\"showarrow\":false,\"text\":\"7.0e+01\",\"x\":0.9,\"xref\":\"x\",\"y\":0.5555555555555556,\"yref\":\"y\"},{\"showarrow\":false,\"text\":\"1.1e+02\",\"x\":0.9,\"xref\":\"x\",\"y\":0.6666666666666666,\"yref\":\"y\"},{\"showarrow\":false,\"text\":\"1.9e+02\",\"x\":0.9,\"xref\":\"x\",\"y\":0.7777777777777777,\"yref\":\"y\"},{\"showarrow\":false,\"text\":\"3.0e+02\",\"x\":0.9,\"xref\":\"x\",\"y\":0.8888888888888888,\"yref\":\"y\"},{\"showarrow\":false,\"text\":\"5.0e+02\",\"x\":0.9,\"xref\":\"x\",\"y\":1.0,\"yref\":\"y\"},{\"showarrow\":false,\"text\":\"#Packets\",\"x\":0.83,\"xref\":\"x\",\"y\":-0.08,\"yref\":\"y\"}],\"shapes\":[{\"line\":{\"width\":1.003},\"type\":\"line\",\"x0\":0.1,\"x1\":0.2,\"xref\":\"x\",\"y0\":0.0,\"y1\":0.0,\"yref\":\"y\"},{\"line\":{\"width\":1.3363333333333332},\"type\":\"line\",\"x0\":0.1,\"x1\":0.2,\"xref\":\"x\",\"y0\":0.1111111111111111,\"y1\":0.1111111111111111,\"yref\":\"y\"},{\"line\":{\"width\":1.6696666666666666},\"type\":\"line\",\"x0\":0.1,\"x1\":0.2,\"xref\":\"x\",\"y0\":0.2222222222222222,\"y1\":0.2222222222222222,\"yref\":\"y\"},{\"line\":{\"width\":2.003},\"type\":\"line\",\"x0\":0.1,\"x1\":0.2,\"xref\":\"x\",\"y0\":0.3333333333333333,\"y1\":0.3333333333333333,\"yref\":\"y\"},{\"line\":{\"width\":2.336333333333333},\"type\":\"line\",\"x0\":0.1,\"x1\":0.2,\"xref\":\"x\",\"y0\":0.4444444444444444,\"y1\":0.4444444444444444,\"yref\":\"y\"},{\"line\":{\"width\":2.669666666666666},\"type\":\"line\",\"x0\":0.1,\"x1\":0.2,\"xref\":\"x\",\"y0\":0.5555555555555556,\"y1\":0.5555555555555556,\"yref\":\"y\"},{\"line\":{\"width\":3.003},\"type\":\"line\",\"x0\":0.1,\"x1\":0.2,\"xref\":\"x\",\"y0\":0.6666666666666666,\"y1\":0.6666666666666666,\"yref\":\"y\"},{\"line\":{\"width\":3.336333333333333},\"type\":\"line\",\"x0\":0.1,\"x1\":0.2,\"xref\":\"x\",\"y0\":0.7777777777777777,\"y1\":0.7777777777777777,\"yref\":\"y\"},{\"line\":{\"width\":3.669666666666666},\"type\":\"line\",\"x0\":0.1,\"x1\":0.2,\"xref\":\"x\",\"y0\":0.8888888888888888,\"y1\":0.8888888888888888,\"yref\":\"y\"},{\"line\":{\"width\":4.003},\"type\":\"line\",\"x0\":0.1,\"x1\":0.2,\"xref\":\"x\",\"y0\":1.0,\"y1\":1.0,\"yref\":\"y\"},{\"line\":{\"color\":\"grey\",\"dash\":\"dash\",\"width\":0.5},\"type\":\"line\",\"x0\":0.55,\"x1\":0.55,\"xref\":\"x\",\"y0\":0,\"y1\":1,\"yref\":\"y\"},{\"line\":{\"width\":1.0},\"type\":\"line\",\"x0\":0.65,\"x1\":0.75,\"xref\":\"x\",\"y0\":0.0,\"y1\":0.0,\"yref\":\"y\"},{\"line\":{\"width\":1.2222222222222223},\"type\":\"line\",\"x0\":0.65,\"x1\":0.75,\"xref\":\"x\",\"y0\":0.1111111111111111,\"y1\":0.1111111111111111,\"yref\":\"y\"},{\"line\":{\"width\":1.4444444444444444},\"type\":\"line\",\"x0\":0.65,\"x1\":0.75,\"xref\":\"x\",\"y0\":0.2222222222222222,\"y1\":0.2222222222222222,\"yref\":\"y\"},{\"line\":{\"width\":1.6666666666666665},\"type\":\"line\",\"x0\":0.65,\"x1\":0.75,\"xref\":\"x\",\"y0\":0.3333333333333333,\"y1\":0.3333333333333333,\"yref\":\"y\"},{\"line\":{\"width\":1.8888888888888888},\"type\":\"line\",\"x0\":0.65,\"x1\":0.75,\"xref\":\"x\",\"y0\":0.4444444444444444,\"y1\":0.4444444444444444,\"yref\":\"y\"},{\"line\":{\"width\":2.111111111111111},\"type\":\"line\",\"x0\":0.65,\"x1\":0.75,\"xref\":\"x\",\"y0\":0.5555555555555556,\"y1\":0.5555555555555556,\"yref\":\"y\"},{\"line\":{\"width\":2.333333333333333},\"type\":\"line\",\"x0\":0.65,\"x1\":0.75,\"xref\":\"x\",\"y0\":0.6666666666666666,\"y1\":0.6666666666666666,\"yref\":\"y\"},{\"line\":{\"width\":2.5555555555555554},\"type\":\"line\",\"x0\":0.65,\"x1\":0.75,\"xref\":\"x\",\"y0\":0.7777777777777777,\"y1\":0.7777777777777777,\"yref\":\"y\"},{\"line\":{\"width\":2.7777777777777777},\"type\":\"line\",\"x0\":0.65,\"x1\":0.75,\"xref\":\"x\",\"y0\":0.8888888888888888,\"y1\":0.8888888888888888,\"yref\":\"y\"},{\"line\":{\"width\":3.0},\"type\":\"line\",\"x0\":0.65,\"x1\":0.75,\"xref\":\"x\",\"y0\":1.0,\"y1\":1.0,\"yref\":\"y\"}]},                        {\"responsive\": true}                    ).then(function(){\n",
       "                            \n",
       "var gd = document.getElementById('6ed36f72-f296-4def-97e1-8a0ea15ad10d');\n",
       "var x = new MutationObserver(function (mutations, observer) {{\n",
       "        var display = window.getComputedStyle(gd).display;\n",
       "        if (!display || display === 'none') {{\n",
       "            console.log([gd, 'removed!']);\n",
       "            Plotly.purge(gd);\n",
       "            observer.disconnect();\n",
       "        }}\n",
       "}});\n",
       "\n",
       "// Listen for the removal of the full notebook cells\n",
       "var notebookContainer = gd.closest('#notebook-container');\n",
       "if (notebookContainer) {{\n",
       "    x.observe(notebookContainer, {childList: true});\n",
       "}}\n",
       "\n",
       "// Listen for the clearing of the current output cell\n",
       "var outputEl = gd.closest('.output');\n",
       "if (outputEl) {{\n",
       "    x.observe(outputEl, {childList: true});\n",
       "}}\n",
       "\n",
       "                        })                };                });            </script>        </div>"
      ]
     },
     "metadata": {},
     "output_type": "display_data"
    }
   ],
   "source": [
    "diag = GrotrianWidget.from_simulation(sim)\n",
    "diag.set_ion(2, 0) # He I\n",
    "diag.display()"
   ]
  },
  {
   "cell_type": "code",
   "execution_count": 4,
   "metadata": {},
   "outputs": [
    {
     "data": {
      "application/vnd.plotly.v1+json": {
       "config": {
        "plotlyServerURL": "https://plot.ly"
       },
       "data": [
        {
         "hovertemplate": "Energy: 0.00e+00 eV<br>Population: 0.00e+00<extra></extra>",
         "line": {
          "color": "grey",
          "dash": "dash"
         },
         "mode": "lines",
         "showlegend": false,
         "type": "scatter",
         "x": [
          -0.05,
          0.07222222222222223,
          0.19444444444444448,
          0.3166666666666667,
          0.43888888888888894,
          0.5611111111111111,
          0.6833333333333333,
          0.8055555555555556,
          0.9277777777777778,
          1.05
         ],
         "xaxis": "x2",
         "y": [
          0,
          0,
          0,
          0,
          0,
          0,
          0,
          0,
          0,
          0
         ],
         "yaxis": "y2"
        },
        {
         "hovertemplate": "Energy: 1.98e+01 eV<br>Population: 2.42e-01<extra></extra>",
         "line": {
          "color": "black",
          "width": 4.003
         },
         "mode": "lines",
         "showlegend": false,
         "type": "scatter",
         "x": [
          -0.05,
          0.07222222222222223,
          0.19444444444444448,
          0.3166666666666667,
          0.43888888888888894,
          0.5611111111111111,
          0.6833333333333333,
          0.8055555555555556,
          0.9277777777777778,
          1.05
         ],
         "xaxis": "x2",
         "y": [
          0.1,
          0.1,
          0.1,
          0.1,
          0.1,
          0.1,
          0.1,
          0.1,
          0.1,
          0.1
         ],
         "yaxis": "y2"
        },
        {
         "hovertemplate": "Energy: 2.06e+01 eV<br>Population: 3.61e-02<extra></extra>",
         "line": {
          "color": "black",
          "width": 1.003
         },
         "mode": "lines",
         "showlegend": false,
         "type": "scatter",
         "x": [
          -0.05,
          0.07222222222222223,
          0.19444444444444448,
          0.3166666666666667,
          0.43888888888888894,
          0.5611111111111111,
          0.6833333333333333,
          0.8055555555555556,
          0.9277777777777778,
          1.05
         ],
         "xaxis": "x2",
         "y": [
          0.3573556063238298,
          0.3573556063238298,
          0.3573556063238298,
          0.3573556063238298,
          0.3573556063238298,
          0.3573556063238298,
          0.3573556063238298,
          0.3573556063238298,
          0.3573556063238298,
          0.3573556063238298
         ],
         "yaxis": "y2"
        },
        {
         "hovertemplate": "Energy: 2.10e+01 eV<br>Population: 2.29e-01<extra></extra>",
         "line": {
          "color": "black",
          "width": 3.917923208581535
         },
         "mode": "lines",
         "showlegend": false,
         "type": "scatter",
         "x": [
          -0.05,
          0.07222222222222223,
          0.19444444444444448,
          0.3166666666666667,
          0.43888888888888894,
          0.5611111111111111,
          0.6833333333333333,
          0.8055555555555556,
          0.9277777777777778,
          1.05
         ],
         "xaxis": "x2",
         "y": [
          0.46996140866624203,
          0.46996140866624203,
          0.46996140866624203,
          0.46996140866624203,
          0.46996140866624203,
          0.46996140866624203,
          0.46996140866624203,
          0.46996140866624203,
          0.46996140866624203,
          0.46996140866624203
         ],
         "yaxis": "y2"
        },
        {
         "hovertemplate": "Energy: 2.12e+01 eV<br>Population: 5.91e-02<extra></extra>",
         "line": {
          "color": "black",
          "width": 1.7799325153131442
         },
         "mode": "lines",
         "showlegend": false,
         "type": "scatter",
         "x": [
          -0.05,
          0.07222222222222223,
          0.19444444444444448,
          0.3166666666666667,
          0.43888888888888894,
          0.5611111111111111,
          0.6833333333333333,
          0.8055555555555556,
          0.9277777777777778,
          1.05
         ],
         "xaxis": "x2",
         "y": [
          0.5520299124917911,
          0.5520299124917911,
          0.5520299124917911,
          0.5520299124917911,
          0.5520299124917911,
          0.5520299124917911,
          0.5520299124917911,
          0.5520299124917911,
          0.5520299124917911,
          0.5520299124917911
         ],
         "yaxis": "y2"
        },
        {
         "hovertemplate": "Energy: 2.29e+01 eV<br>Population: 4.26e-02<extra></extra>",
         "line": {
          "color": "black",
          "width": 1.2631707162923118
         },
         "mode": "lines",
         "showlegend": false,
         "type": "scatter",
         "x": [
          -0.05,
          0.07222222222222223,
          0.19444444444444448,
          0.3166666666666667,
          0.43888888888888894,
          0.5611111111111111,
          0.6833333333333333,
          0.8055555555555556,
          0.9277777777777778,
          1.05
         ],
         "xaxis": "x2",
         "y": [
          1.1,
          1.1,
          1.1,
          1.1,
          1.1,
          1.1,
          1.1,
          1.1,
          1.1,
          1.1
         ],
         "yaxis": "y2"
        },
        {
         "hovertemplate": "Count: 27<br>Wavelength: 1.08e+04 Å<extra></extra>",
         "line": {
          "color": "#ff0000",
          "width": 2.856835605704566
         },
         "marker": {
          "angleref": "previous",
          "color": "#ff0000",
          "size": 9,
          "symbol": "arrow-bar-up"
         },
         "type": "scatter",
         "x": [
          0,
          0.369961408666242
         ],
         "xaxis": "x2",
         "y": [
          0.1,
          0.46996140866624203
         ],
         "yaxis": "y2"
        },
        {
         "hovertemplate": "Count: 2<br>Wavelength: 3.89e+03 Å<extra></extra>",
         "line": {
          "color": "#cce385",
          "width": 1
         },
         "marker": {
          "angleref": "previous",
          "color": "#cce385",
          "size": 9,
          "symbol": "arrow-bar-up"
         },
         "type": "scatter",
         "x": [
          0,
          1
         ],
         "xaxis": "x2",
         "y": [
          0.1,
          1.1
         ],
         "yaxis": "y2"
        },
        {
         "hovertemplate": "Count: 2<br>Wavelength: 7.07e+03 Å<extra></extra>",
         "line": {
          "color": "#ff703a",
          "width": 1
         },
         "marker": {
          "angleref": "previous",
          "color": "#ff703a",
          "size": 9,
          "symbol": "arrow-bar-up"
         },
         "type": "scatter",
         "x": [
          0,
          1
         ],
         "xaxis": "x2",
         "y": [
          0.46996140866624203,
          1.1
         ],
         "yaxis": "y2"
        },
        {
         "hovertemplate": "Count: 33<br>Wavelength: 1.08e+04 Å<extra></extra>",
         "line": {
          "color": "#ff0000",
          "width": 3
         },
         "marker": {
          "angleref": "previous",
          "color": "#ff0000",
          "size": 9,
          "symbol": "arrow-bar-up"
         },
         "type": "scatter",
         "x": [
          0,
          0.369961408666242
         ],
         "xaxis": "x2",
         "y": [
          0.46996140866624203,
          0.1
         ],
         "yaxis": "y2"
        },
        {
         "hovertemplate": "Count: 2<br>Wavelength: 3.89e+03 Å<extra></extra>",
         "line": {
          "color": "#cce385",
          "width": 1
         },
         "marker": {
          "angleref": "previous",
          "color": "#cce385",
          "size": 9,
          "symbol": "arrow-bar-up"
         },
         "type": "scatter",
         "x": [
          0,
          1
         ],
         "xaxis": "x2",
         "y": [
          1.1,
          0.1
         ],
         "yaxis": "y2"
        },
        {
         "hovertemplate": "Count: 2<br>Wavelength: 7.07e+03 Å<extra></extra>",
         "line": {
          "color": "#ff703a",
          "width": 1
         },
         "marker": {
          "angleref": "previous",
          "color": "#ff703a",
          "size": 9,
          "symbol": "arrow-bar-up"
         },
         "type": "scatter",
         "x": [
          0,
          1
         ],
         "xaxis": "x2",
         "y": [
          1.1,
          0.46996140866624203
         ],
         "yaxis": "y2"
        },
        {
         "hoverinfo": "none",
         "marker": {
          "cmax": 9.29033944792864,
          "cmin": 6.370474448502337,
          "colorbar": {
           "outlinewidth": 0,
           "thickness": 5,
           "ticktext": [
            "5.8e+02",
            "8.1e+02",
            "1.1e+03",
            "1.5e+03",
            "2.1e+03",
            "3.0e+03",
            "4.1e+03",
            "5.7e+03",
            "7.8e+03",
            "1.1e+04"
           ],
           "tickvals": [
            6.370474448502337,
            6.694903892883037,
            7.019333337263737,
            7.343762781644437,
            7.668192226025137,
            7.992621670405838,
            8.317051114786539,
            8.641480559167238,
            8.965910003547938,
            9.290339447928638
           ],
           "title": {
            "font": {
             "size": 12
            },
            "text": "Wavelength (Å)<br>&nbsp;"
           }
          },
          "colorscale": [
           [
            0,
            "rgb(150,0,90)"
           ],
           [
            0.125,
            "rgb(0,0,200)"
           ],
           [
            0.25,
            "rgb(0,25,255)"
           ],
           [
            0.375,
            "rgb(0,152,255)"
           ],
           [
            0.5,
            "rgb(44,255,150)"
           ],
           [
            0.625,
            "rgb(151,255,0)"
           ],
           [
            0.75,
            "rgb(255,234,0)"
           ],
           [
            0.875,
            "rgb(255,111,0)"
           ],
           [
            1,
            "rgb(255,0,0)"
           ]
          ],
          "showscale": true
         },
         "mode": "markers",
         "type": "scatter",
         "x": [
          null
         ],
         "xaxis": "x2",
         "y": [
          null
         ],
         "yaxis": "y2"
        }
       ],
       "layout": {
        "annotations": [
         {
          "showarrow": false,
          "text": "n=0",
          "x": 1.1,
          "xref": "x2",
          "y": 0,
          "yref": "y2"
         },
         {
          "showarrow": false,
          "text": "n=1",
          "x": 1.1,
          "xref": "x2",
          "y": 0.1,
          "yref": "y2"
         },
         {
          "showarrow": false,
          "text": "n=2",
          "x": 1.1,
          "xref": "x2",
          "y": 0.3573556063238298,
          "yref": "y2"
         },
         {
          "showarrow": false,
          "text": "n=3",
          "x": 1.1,
          "xref": "x2",
          "y": 0.46996140866624203,
          "yref": "y2"
         },
         {
          "showarrow": false,
          "text": "n=4",
          "x": 1.1,
          "xref": "x2",
          "y": 0.5520299124917911,
          "yref": "y2"
         },
         {
          "showarrow": false,
          "text": "n=5",
          "x": 1.1,
          "xref": "x2",
          "y": 1.1,
          "yref": "y2"
         },
         {
          "showarrow": false,
          "text": "3.6e-02",
          "x": 0.35,
          "xref": "x",
          "y": 0,
          "yref": "y"
         },
         {
          "showarrow": false,
          "text": "4.5e-02",
          "x": 0.35,
          "xref": "x",
          "y": 0.1111111111111111,
          "yref": "y"
         },
         {
          "showarrow": false,
          "text": "5.5e-02",
          "x": 0.35,
          "xref": "x",
          "y": 0.2222222222222222,
          "yref": "y"
         },
         {
          "showarrow": false,
          "text": "6.8e-02",
          "x": 0.35,
          "xref": "x",
          "y": 0.3333333333333333,
          "yref": "y"
         },
         {
          "showarrow": false,
          "text": "8.4e-02",
          "x": 0.35,
          "xref": "x",
          "y": 0.4444444444444444,
          "yref": "y"
         },
         {
          "showarrow": false,
          "text": "1.0e-01",
          "x": 0.35,
          "xref": "x",
          "y": 0.5555555555555556,
          "yref": "y"
         },
         {
          "showarrow": false,
          "text": "1.3e-01",
          "x": 0.35,
          "xref": "x",
          "y": 0.6666666666666666,
          "yref": "y"
         },
         {
          "showarrow": false,
          "text": "1.6e-01",
          "x": 0.35,
          "xref": "x",
          "y": 0.7777777777777777,
          "yref": "y"
         },
         {
          "showarrow": false,
          "text": "2.0e-01",
          "x": 0.35,
          "xref": "x",
          "y": 0.8888888888888888,
          "yref": "y"
         },
         {
          "showarrow": false,
          "text": "2.4e-01",
          "x": 0.35,
          "xref": "x",
          "y": 1,
          "yref": "y"
         },
         {
          "showarrow": false,
          "text": "Populations",
          "x": 0.28,
          "xref": "x",
          "y": -0.08,
          "yref": "y"
         },
         {
          "showarrow": false,
          "text": "2.0e+00",
          "x": 0.9,
          "xref": "x",
          "y": 0,
          "yref": "y"
         },
         {
          "showarrow": false,
          "text": "2.7e+00",
          "x": 0.9,
          "xref": "x",
          "y": 0.1111111111111111,
          "yref": "y"
         },
         {
          "showarrow": false,
          "text": "3.7e+00",
          "x": 0.9,
          "xref": "x",
          "y": 0.2222222222222222,
          "yref": "y"
         },
         {
          "showarrow": false,
          "text": "5.1e+00",
          "x": 0.9,
          "xref": "x",
          "y": 0.3333333333333333,
          "yref": "y"
         },
         {
          "showarrow": false,
          "text": "7.0e+00",
          "x": 0.9,
          "xref": "x",
          "y": 0.4444444444444444,
          "yref": "y"
         },
         {
          "showarrow": false,
          "text": "9.5e+00",
          "x": 0.9,
          "xref": "x",
          "y": 0.5555555555555556,
          "yref": "y"
         },
         {
          "showarrow": false,
          "text": "1.3e+01",
          "x": 0.9,
          "xref": "x",
          "y": 0.6666666666666666,
          "yref": "y"
         },
         {
          "showarrow": false,
          "text": "1.8e+01",
          "x": 0.9,
          "xref": "x",
          "y": 0.7777777777777777,
          "yref": "y"
         },
         {
          "showarrow": false,
          "text": "2.4e+01",
          "x": 0.9,
          "xref": "x",
          "y": 0.8888888888888888,
          "yref": "y"
         },
         {
          "showarrow": false,
          "text": "3.3e+01",
          "x": 0.9,
          "xref": "x",
          "y": 1,
          "yref": "y"
         },
         {
          "showarrow": false,
          "text": "#Packets",
          "x": 0.83,
          "xref": "x",
          "y": -0.08,
          "yref": "y"
         }
        ],
        "autosize": false,
        "height": 700,
        "plot_bgcolor": "white",
        "shapes": [
         {
          "line": {
           "width": 1.003
          },
          "type": "line",
          "x0": 0.1,
          "x1": 0.2,
          "xref": "x",
          "y0": 0,
          "y1": 0,
          "yref": "y"
         },
         {
          "line": {
           "width": 1.3363333333333332
          },
          "type": "line",
          "x0": 0.1,
          "x1": 0.2,
          "xref": "x",
          "y0": 0.1111111111111111,
          "y1": 0.1111111111111111,
          "yref": "y"
         },
         {
          "line": {
           "width": 1.6696666666666666
          },
          "type": "line",
          "x0": 0.1,
          "x1": 0.2,
          "xref": "x",
          "y0": 0.2222222222222222,
          "y1": 0.2222222222222222,
          "yref": "y"
         },
         {
          "line": {
           "width": 2.003
          },
          "type": "line",
          "x0": 0.1,
          "x1": 0.2,
          "xref": "x",
          "y0": 0.3333333333333333,
          "y1": 0.3333333333333333,
          "yref": "y"
         },
         {
          "line": {
           "width": 2.336333333333333
          },
          "type": "line",
          "x0": 0.1,
          "x1": 0.2,
          "xref": "x",
          "y0": 0.4444444444444444,
          "y1": 0.4444444444444444,
          "yref": "y"
         },
         {
          "line": {
           "width": 2.669666666666666
          },
          "type": "line",
          "x0": 0.1,
          "x1": 0.2,
          "xref": "x",
          "y0": 0.5555555555555556,
          "y1": 0.5555555555555556,
          "yref": "y"
         },
         {
          "line": {
           "width": 3.003
          },
          "type": "line",
          "x0": 0.1,
          "x1": 0.2,
          "xref": "x",
          "y0": 0.6666666666666666,
          "y1": 0.6666666666666666,
          "yref": "y"
         },
         {
          "line": {
           "width": 3.336333333333333
          },
          "type": "line",
          "x0": 0.1,
          "x1": 0.2,
          "xref": "x",
          "y0": 0.7777777777777777,
          "y1": 0.7777777777777777,
          "yref": "y"
         },
         {
          "line": {
           "width": 3.669666666666666
          },
          "type": "line",
          "x0": 0.1,
          "x1": 0.2,
          "xref": "x",
          "y0": 0.8888888888888888,
          "y1": 0.8888888888888888,
          "yref": "y"
         },
         {
          "line": {
           "width": 4.003
          },
          "type": "line",
          "x0": 0.1,
          "x1": 0.2,
          "xref": "x",
          "y0": 1,
          "y1": 1,
          "yref": "y"
         },
         {
          "line": {
           "color": "grey",
           "dash": "dash",
           "width": 0.5
          },
          "type": "line",
          "x0": 0.55,
          "x1": 0.55,
          "xref": "x",
          "y0": 0,
          "y1": 1,
          "yref": "y"
         },
         {
          "line": {
           "width": 1
          },
          "type": "line",
          "x0": 0.65,
          "x1": 0.75,
          "xref": "x",
          "y0": 0,
          "y1": 0,
          "yref": "y"
         },
         {
          "line": {
           "width": 1.2222222222222223
          },
          "type": "line",
          "x0": 0.65,
          "x1": 0.75,
          "xref": "x",
          "y0": 0.1111111111111111,
          "y1": 0.1111111111111111,
          "yref": "y"
         },
         {
          "line": {
           "width": 1.4444444444444444
          },
          "type": "line",
          "x0": 0.65,
          "x1": 0.75,
          "xref": "x",
          "y0": 0.2222222222222222,
          "y1": 0.2222222222222222,
          "yref": "y"
         },
         {
          "line": {
           "width": 1.6666666666666665
          },
          "type": "line",
          "x0": 0.65,
          "x1": 0.75,
          "xref": "x",
          "y0": 0.3333333333333333,
          "y1": 0.3333333333333333,
          "yref": "y"
         },
         {
          "line": {
           "width": 1.8888888888888888
          },
          "type": "line",
          "x0": 0.65,
          "x1": 0.75,
          "xref": "x",
          "y0": 0.4444444444444444,
          "y1": 0.4444444444444444,
          "yref": "y"
         },
         {
          "line": {
           "width": 2.111111111111111
          },
          "type": "line",
          "x0": 0.65,
          "x1": 0.75,
          "xref": "x",
          "y0": 0.5555555555555556,
          "y1": 0.5555555555555556,
          "yref": "y"
         },
         {
          "line": {
           "width": 2.333333333333333
          },
          "type": "line",
          "x0": 0.65,
          "x1": 0.75,
          "xref": "x",
          "y0": 0.6666666666666666,
          "y1": 0.6666666666666666,
          "yref": "y"
         },
         {
          "line": {
           "width": 2.5555555555555554
          },
          "type": "line",
          "x0": 0.65,
          "x1": 0.75,
          "xref": "x",
          "y0": 0.7777777777777777,
          "y1": 0.7777777777777777,
          "yref": "y"
         },
         {
          "line": {
           "width": 2.7777777777777777
          },
          "type": "line",
          "x0": 0.65,
          "x1": 0.75,
          "xref": "x",
          "y0": 0.8888888888888888,
          "y1": 0.8888888888888888,
          "yref": "y"
         },
         {
          "line": {
           "width": 3
          },
          "type": "line",
          "x0": 0.65,
          "x1": 0.75,
          "xref": "x",
          "y0": 1,
          "y1": 1,
          "yref": "y"
         }
        ],
        "showlegend": false,
        "template": {
         "data": {
          "bar": [
           {
            "error_x": {
             "color": "#2a3f5f"
            },
            "error_y": {
             "color": "#2a3f5f"
            },
            "marker": {
             "line": {
              "color": "#E5ECF6",
              "width": 0.5
             },
             "pattern": {
              "fillmode": "overlay",
              "size": 10,
              "solidity": 0.2
             }
            },
            "type": "bar"
           }
          ],
          "barpolar": [
           {
            "marker": {
             "line": {
              "color": "#E5ECF6",
              "width": 0.5
             },
             "pattern": {
              "fillmode": "overlay",
              "size": 10,
              "solidity": 0.2
             }
            },
            "type": "barpolar"
           }
          ],
          "carpet": [
           {
            "aaxis": {
             "endlinecolor": "#2a3f5f",
             "gridcolor": "white",
             "linecolor": "white",
             "minorgridcolor": "white",
             "startlinecolor": "#2a3f5f"
            },
            "baxis": {
             "endlinecolor": "#2a3f5f",
             "gridcolor": "white",
             "linecolor": "white",
             "minorgridcolor": "white",
             "startlinecolor": "#2a3f5f"
            },
            "type": "carpet"
           }
          ],
          "choropleth": [
           {
            "colorbar": {
             "outlinewidth": 0,
             "ticks": ""
            },
            "type": "choropleth"
           }
          ],
          "contour": [
           {
            "colorbar": {
             "outlinewidth": 0,
             "ticks": ""
            },
            "colorscale": [
             [
              0,
              "#0d0887"
             ],
             [
              0.1111111111111111,
              "#46039f"
             ],
             [
              0.2222222222222222,
              "#7201a8"
             ],
             [
              0.3333333333333333,
              "#9c179e"
             ],
             [
              0.4444444444444444,
              "#bd3786"
             ],
             [
              0.5555555555555556,
              "#d8576b"
             ],
             [
              0.6666666666666666,
              "#ed7953"
             ],
             [
              0.7777777777777778,
              "#fb9f3a"
             ],
             [
              0.8888888888888888,
              "#fdca26"
             ],
             [
              1,
              "#f0f921"
             ]
            ],
            "type": "contour"
           }
          ],
          "contourcarpet": [
           {
            "colorbar": {
             "outlinewidth": 0,
             "ticks": ""
            },
            "type": "contourcarpet"
           }
          ],
          "heatmap": [
           {
            "colorbar": {
             "outlinewidth": 0,
             "ticks": ""
            },
            "colorscale": [
             [
              0,
              "#0d0887"
             ],
             [
              0.1111111111111111,
              "#46039f"
             ],
             [
              0.2222222222222222,
              "#7201a8"
             ],
             [
              0.3333333333333333,
              "#9c179e"
             ],
             [
              0.4444444444444444,
              "#bd3786"
             ],
             [
              0.5555555555555556,
              "#d8576b"
             ],
             [
              0.6666666666666666,
              "#ed7953"
             ],
             [
              0.7777777777777778,
              "#fb9f3a"
             ],
             [
              0.8888888888888888,
              "#fdca26"
             ],
             [
              1,
              "#f0f921"
             ]
            ],
            "type": "heatmap"
           }
          ],
          "heatmapgl": [
           {
            "colorbar": {
             "outlinewidth": 0,
             "ticks": ""
            },
            "colorscale": [
             [
              0,
              "#0d0887"
             ],
             [
              0.1111111111111111,
              "#46039f"
             ],
             [
              0.2222222222222222,
              "#7201a8"
             ],
             [
              0.3333333333333333,
              "#9c179e"
             ],
             [
              0.4444444444444444,
              "#bd3786"
             ],
             [
              0.5555555555555556,
              "#d8576b"
             ],
             [
              0.6666666666666666,
              "#ed7953"
             ],
             [
              0.7777777777777778,
              "#fb9f3a"
             ],
             [
              0.8888888888888888,
              "#fdca26"
             ],
             [
              1,
              "#f0f921"
             ]
            ],
            "type": "heatmapgl"
           }
          ],
          "histogram": [
           {
            "marker": {
             "pattern": {
              "fillmode": "overlay",
              "size": 10,
              "solidity": 0.2
             }
            },
            "type": "histogram"
           }
          ],
          "histogram2d": [
           {
            "colorbar": {
             "outlinewidth": 0,
             "ticks": ""
            },
            "colorscale": [
             [
              0,
              "#0d0887"
             ],
             [
              0.1111111111111111,
              "#46039f"
             ],
             [
              0.2222222222222222,
              "#7201a8"
             ],
             [
              0.3333333333333333,
              "#9c179e"
             ],
             [
              0.4444444444444444,
              "#bd3786"
             ],
             [
              0.5555555555555556,
              "#d8576b"
             ],
             [
              0.6666666666666666,
              "#ed7953"
             ],
             [
              0.7777777777777778,
              "#fb9f3a"
             ],
             [
              0.8888888888888888,
              "#fdca26"
             ],
             [
              1,
              "#f0f921"
             ]
            ],
            "type": "histogram2d"
           }
          ],
          "histogram2dcontour": [
           {
            "colorbar": {
             "outlinewidth": 0,
             "ticks": ""
            },
            "colorscale": [
             [
              0,
              "#0d0887"
             ],
             [
              0.1111111111111111,
              "#46039f"
             ],
             [
              0.2222222222222222,
              "#7201a8"
             ],
             [
              0.3333333333333333,
              "#9c179e"
             ],
             [
              0.4444444444444444,
              "#bd3786"
             ],
             [
              0.5555555555555556,
              "#d8576b"
             ],
             [
              0.6666666666666666,
              "#ed7953"
             ],
             [
              0.7777777777777778,
              "#fb9f3a"
             ],
             [
              0.8888888888888888,
              "#fdca26"
             ],
             [
              1,
              "#f0f921"
             ]
            ],
            "type": "histogram2dcontour"
           }
          ],
          "mesh3d": [
           {
            "colorbar": {
             "outlinewidth": 0,
             "ticks": ""
            },
            "type": "mesh3d"
           }
          ],
          "parcoords": [
           {
            "line": {
             "colorbar": {
              "outlinewidth": 0,
              "ticks": ""
             }
            },
            "type": "parcoords"
           }
          ],
          "pie": [
           {
            "automargin": true,
            "type": "pie"
           }
          ],
          "scatter": [
           {
            "fillpattern": {
             "fillmode": "overlay",
             "size": 10,
             "solidity": 0.2
            },
            "type": "scatter"
           }
          ],
          "scatter3d": [
           {
            "line": {
             "colorbar": {
              "outlinewidth": 0,
              "ticks": ""
             }
            },
            "marker": {
             "colorbar": {
              "outlinewidth": 0,
              "ticks": ""
             }
            },
            "type": "scatter3d"
           }
          ],
          "scattercarpet": [
           {
            "marker": {
             "colorbar": {
              "outlinewidth": 0,
              "ticks": ""
             }
            },
            "type": "scattercarpet"
           }
          ],
          "scattergeo": [
           {
            "marker": {
             "colorbar": {
              "outlinewidth": 0,
              "ticks": ""
             }
            },
            "type": "scattergeo"
           }
          ],
          "scattergl": [
           {
            "marker": {
             "colorbar": {
              "outlinewidth": 0,
              "ticks": ""
             }
            },
            "type": "scattergl"
           }
          ],
          "scattermapbox": [
           {
            "marker": {
             "colorbar": {
              "outlinewidth": 0,
              "ticks": ""
             }
            },
            "type": "scattermapbox"
           }
          ],
          "scatterpolar": [
           {
            "marker": {
             "colorbar": {
              "outlinewidth": 0,
              "ticks": ""
             }
            },
            "type": "scatterpolar"
           }
          ],
          "scatterpolargl": [
           {
            "marker": {
             "colorbar": {
              "outlinewidth": 0,
              "ticks": ""
             }
            },
            "type": "scatterpolargl"
           }
          ],
          "scatterternary": [
           {
            "marker": {
             "colorbar": {
              "outlinewidth": 0,
              "ticks": ""
             }
            },
            "type": "scatterternary"
           }
          ],
          "surface": [
           {
            "colorbar": {
             "outlinewidth": 0,
             "ticks": ""
            },
            "colorscale": [
             [
              0,
              "#0d0887"
             ],
             [
              0.1111111111111111,
              "#46039f"
             ],
             [
              0.2222222222222222,
              "#7201a8"
             ],
             [
              0.3333333333333333,
              "#9c179e"
             ],
             [
              0.4444444444444444,
              "#bd3786"
             ],
             [
              0.5555555555555556,
              "#d8576b"
             ],
             [
              0.6666666666666666,
              "#ed7953"
             ],
             [
              0.7777777777777778,
              "#fb9f3a"
             ],
             [
              0.8888888888888888,
              "#fdca26"
             ],
             [
              1,
              "#f0f921"
             ]
            ],
            "type": "surface"
           }
          ],
          "table": [
           {
            "cells": {
             "fill": {
              "color": "#EBF0F8"
             },
             "line": {
              "color": "white"
             }
            },
            "header": {
             "fill": {
              "color": "#C8D4E3"
             },
             "line": {
              "color": "white"
             }
            },
            "type": "table"
           }
          ]
         },
         "layout": {
          "annotationdefaults": {
           "arrowcolor": "#2a3f5f",
           "arrowhead": 0,
           "arrowwidth": 1
          },
          "autotypenumbers": "strict",
          "coloraxis": {
           "colorbar": {
            "outlinewidth": 0,
            "ticks": ""
           }
          },
          "colorscale": {
           "diverging": [
            [
             0,
             "#8e0152"
            ],
            [
             0.1,
             "#c51b7d"
            ],
            [
             0.2,
             "#de77ae"
            ],
            [
             0.3,
             "#f1b6da"
            ],
            [
             0.4,
             "#fde0ef"
            ],
            [
             0.5,
             "#f7f7f7"
            ],
            [
             0.6,
             "#e6f5d0"
            ],
            [
             0.7,
             "#b8e186"
            ],
            [
             0.8,
             "#7fbc41"
            ],
            [
             0.9,
             "#4d9221"
            ],
            [
             1,
             "#276419"
            ]
           ],
           "sequential": [
            [
             0,
             "#0d0887"
            ],
            [
             0.1111111111111111,
             "#46039f"
            ],
            [
             0.2222222222222222,
             "#7201a8"
            ],
            [
             0.3333333333333333,
             "#9c179e"
            ],
            [
             0.4444444444444444,
             "#bd3786"
            ],
            [
             0.5555555555555556,
             "#d8576b"
            ],
            [
             0.6666666666666666,
             "#ed7953"
            ],
            [
             0.7777777777777778,
             "#fb9f3a"
            ],
            [
             0.8888888888888888,
             "#fdca26"
            ],
            [
             1,
             "#f0f921"
            ]
           ],
           "sequentialminus": [
            [
             0,
             "#0d0887"
            ],
            [
             0.1111111111111111,
             "#46039f"
            ],
            [
             0.2222222222222222,
             "#7201a8"
            ],
            [
             0.3333333333333333,
             "#9c179e"
            ],
            [
             0.4444444444444444,
             "#bd3786"
            ],
            [
             0.5555555555555556,
             "#d8576b"
            ],
            [
             0.6666666666666666,
             "#ed7953"
            ],
            [
             0.7777777777777778,
             "#fb9f3a"
            ],
            [
             0.8888888888888888,
             "#fdca26"
            ],
            [
             1,
             "#f0f921"
            ]
           ]
          },
          "colorway": [
           "#636efa",
           "#EF553B",
           "#00cc96",
           "#ab63fa",
           "#FFA15A",
           "#19d3f3",
           "#FF6692",
           "#B6E880",
           "#FF97FF",
           "#FECB52"
          ],
          "font": {
           "color": "#2a3f5f"
          },
          "geo": {
           "bgcolor": "white",
           "lakecolor": "white",
           "landcolor": "#E5ECF6",
           "showlakes": true,
           "showland": true,
           "subunitcolor": "white"
          },
          "hoverlabel": {
           "align": "left"
          },
          "hovermode": "closest",
          "mapbox": {
           "style": "light"
          },
          "paper_bgcolor": "white",
          "plot_bgcolor": "#E5ECF6",
          "polar": {
           "angularaxis": {
            "gridcolor": "white",
            "linecolor": "white",
            "ticks": ""
           },
           "bgcolor": "#E5ECF6",
           "radialaxis": {
            "gridcolor": "white",
            "linecolor": "white",
            "ticks": ""
           }
          },
          "scene": {
           "xaxis": {
            "backgroundcolor": "#E5ECF6",
            "gridcolor": "white",
            "gridwidth": 2,
            "linecolor": "white",
            "showbackground": true,
            "ticks": "",
            "zerolinecolor": "white"
           },
           "yaxis": {
            "backgroundcolor": "#E5ECF6",
            "gridcolor": "white",
            "gridwidth": 2,
            "linecolor": "white",
            "showbackground": true,
            "ticks": "",
            "zerolinecolor": "white"
           },
           "zaxis": {
            "backgroundcolor": "#E5ECF6",
            "gridcolor": "white",
            "gridwidth": 2,
            "linecolor": "white",
            "showbackground": true,
            "ticks": "",
            "zerolinecolor": "white"
           }
          },
          "shapedefaults": {
           "line": {
            "color": "#2a3f5f"
           }
          },
          "ternary": {
           "aaxis": {
            "gridcolor": "white",
            "linecolor": "white",
            "ticks": ""
           },
           "baxis": {
            "gridcolor": "white",
            "linecolor": "white",
            "ticks": ""
           },
           "bgcolor": "#E5ECF6",
           "caxis": {
            "gridcolor": "white",
            "linecolor": "white",
            "ticks": ""
           }
          },
          "title": {
           "x": 0.05
          },
          "xaxis": {
           "automargin": true,
           "gridcolor": "white",
           "linecolor": "white",
           "ticks": "",
           "title": {
            "standoff": 15
           },
           "zerolinecolor": "white",
           "zerolinewidth": 2
          },
          "yaxis": {
           "automargin": true,
           "gridcolor": "white",
           "linecolor": "white",
           "ticks": "",
           "title": {
            "standoff": 15
           },
           "zerolinecolor": "white",
           "zerolinewidth": 2
          }
         }
        },
        "title": {
         "text": "Grotrian Diagram for Helium I (Shell: 6)",
         "x": 0.5
        },
        "width": 1000,
        "xaxis": {
         "anchor": "y",
         "domain": [
          0,
          0.258
         ],
         "fixedrange": true,
         "showticklabels": false
        },
        "xaxis2": {
         "anchor": "y2",
         "domain": [
          0.398,
          1
         ],
         "fixedrange": true,
         "showticklabels": false
        },
        "yaxis": {
         "anchor": "x",
         "domain": [
          0,
          1
         ],
         "fixedrange": true,
         "showticklabels": false
        },
        "yaxis2": {
         "anchor": "x2",
         "domain": [
          0,
          1
         ],
         "fixedrange": true,
         "range": [
          0,
          null
         ],
         "tickmode": "array",
         "ticktext": [
          "0.00e+00",
          "1.98e+01",
          "2.06e+01",
          "2.10e+01",
          "2.12e+01",
          "2.29e+01"
         ],
         "tickvals": [
          0,
          0.1,
          0.3573556063238298,
          0.46996140866624203,
          0.5520299124917911,
          1.1
         ],
         "title": {
          "standoff": 5,
          "text": "Energy (eV)"
         }
        }
       }
      },
      "text/html": [
       "<div>                            <div id=\"900e318d-27f3-43b0-8b44-aff6fe52efe7\" class=\"plotly-graph-div\" style=\"height:700px; width:1000px;\"></div>            <script type=\"text/javascript\">                require([\"plotly\"], function(Plotly) {                    window.PLOTLYENV=window.PLOTLYENV || {};                                    if (document.getElementById(\"900e318d-27f3-43b0-8b44-aff6fe52efe7\")) {                    Plotly.newPlot(                        \"900e318d-27f3-43b0-8b44-aff6fe52efe7\",                        [{\"hovertemplate\":\"Energy: 0.00e+00 eV<br>Population: 0.00e+00<extra></extra>\",\"line\":{\"color\":\"grey\",\"dash\":\"dash\"},\"mode\":\"lines\",\"showlegend\":false,\"x\":[-0.05,0.07222222222222223,0.19444444444444448,0.3166666666666667,0.43888888888888894,0.5611111111111111,0.6833333333333333,0.8055555555555556,0.9277777777777778,1.05],\"y\":[0.0,0.0,0.0,0.0,0.0,0.0,0.0,0.0,0.0,0.0],\"type\":\"scatter\",\"xaxis\":\"x2\",\"yaxis\":\"y2\"},{\"hovertemplate\":\"Energy: 1.98e+01 eV<br>Population: 2.42e-01<extra></extra>\",\"line\":{\"color\":\"black\",\"width\":4.003},\"mode\":\"lines\",\"showlegend\":false,\"x\":[-0.05,0.07222222222222223,0.19444444444444448,0.3166666666666667,0.43888888888888894,0.5611111111111111,0.6833333333333333,0.8055555555555556,0.9277777777777778,1.05],\"y\":[0.1,0.1,0.1,0.1,0.1,0.1,0.1,0.1,0.1,0.1],\"type\":\"scatter\",\"xaxis\":\"x2\",\"yaxis\":\"y2\"},{\"hovertemplate\":\"Energy: 2.06e+01 eV<br>Population: 3.61e-02<extra></extra>\",\"line\":{\"color\":\"black\",\"width\":1.003},\"mode\":\"lines\",\"showlegend\":false,\"x\":[-0.05,0.07222222222222223,0.19444444444444448,0.3166666666666667,0.43888888888888894,0.5611111111111111,0.6833333333333333,0.8055555555555556,0.9277777777777778,1.05],\"y\":[0.3573556063238298,0.3573556063238298,0.3573556063238298,0.3573556063238298,0.3573556063238298,0.3573556063238298,0.3573556063238298,0.3573556063238298,0.3573556063238298,0.3573556063238298],\"type\":\"scatter\",\"xaxis\":\"x2\",\"yaxis\":\"y2\"},{\"hovertemplate\":\"Energy: 2.10e+01 eV<br>Population: 2.29e-01<extra></extra>\",\"line\":{\"color\":\"black\",\"width\":3.917923208581535},\"mode\":\"lines\",\"showlegend\":false,\"x\":[-0.05,0.07222222222222223,0.19444444444444448,0.3166666666666667,0.43888888888888894,0.5611111111111111,0.6833333333333333,0.8055555555555556,0.9277777777777778,1.05],\"y\":[0.46996140866624203,0.46996140866624203,0.46996140866624203,0.46996140866624203,0.46996140866624203,0.46996140866624203,0.46996140866624203,0.46996140866624203,0.46996140866624203,0.46996140866624203],\"type\":\"scatter\",\"xaxis\":\"x2\",\"yaxis\":\"y2\"},{\"hovertemplate\":\"Energy: 2.12e+01 eV<br>Population: 5.91e-02<extra></extra>\",\"line\":{\"color\":\"black\",\"width\":1.7799325153131442},\"mode\":\"lines\",\"showlegend\":false,\"x\":[-0.05,0.07222222222222223,0.19444444444444448,0.3166666666666667,0.43888888888888894,0.5611111111111111,0.6833333333333333,0.8055555555555556,0.9277777777777778,1.05],\"y\":[0.5520299124917911,0.5520299124917911,0.5520299124917911,0.5520299124917911,0.5520299124917911,0.5520299124917911,0.5520299124917911,0.5520299124917911,0.5520299124917911,0.5520299124917911],\"type\":\"scatter\",\"xaxis\":\"x2\",\"yaxis\":\"y2\"},{\"hovertemplate\":\"Energy: 2.29e+01 eV<br>Population: 4.26e-02<extra></extra>\",\"line\":{\"color\":\"black\",\"width\":1.2631707162923118},\"mode\":\"lines\",\"showlegend\":false,\"x\":[-0.05,0.07222222222222223,0.19444444444444448,0.3166666666666667,0.43888888888888894,0.5611111111111111,0.6833333333333333,0.8055555555555556,0.9277777777777778,1.05],\"y\":[1.1,1.1,1.1,1.1,1.1,1.1,1.1,1.1,1.1,1.1],\"type\":\"scatter\",\"xaxis\":\"x2\",\"yaxis\":\"y2\"},{\"hovertemplate\":\"Count: 27<br>Wavelength: 1.08e+04 \\u212b<extra></extra>\",\"line\":{\"color\":\"#ff0000\",\"width\":2.856835605704566},\"marker\":{\"angleref\":\"previous\",\"color\":\"#ff0000\",\"size\":9,\"symbol\":\"arrow-bar-up\"},\"x\":[0,0.369961408666242],\"y\":[0.1,0.46996140866624203],\"type\":\"scatter\",\"xaxis\":\"x2\",\"yaxis\":\"y2\"},{\"hovertemplate\":\"Count: 2<br>Wavelength: 3.89e+03 \\u212b<extra></extra>\",\"line\":{\"color\":\"#cce385\",\"width\":1.0},\"marker\":{\"angleref\":\"previous\",\"color\":\"#cce385\",\"size\":9,\"symbol\":\"arrow-bar-up\"},\"x\":[0,1.0],\"y\":[0.1,1.1],\"type\":\"scatter\",\"xaxis\":\"x2\",\"yaxis\":\"y2\"},{\"hovertemplate\":\"Count: 2<br>Wavelength: 7.07e+03 \\u212b<extra></extra>\",\"line\":{\"color\":\"#ff703a\",\"width\":1.0},\"marker\":{\"angleref\":\"previous\",\"color\":\"#ff703a\",\"size\":9,\"symbol\":\"arrow-bar-up\"},\"x\":[0,1.0],\"y\":[0.46996140866624203,1.1],\"type\":\"scatter\",\"xaxis\":\"x2\",\"yaxis\":\"y2\"},{\"hovertemplate\":\"Count: 33<br>Wavelength: 1.08e+04 \\u212b<extra></extra>\",\"line\":{\"color\":\"#ff0000\",\"width\":3.0},\"marker\":{\"angleref\":\"previous\",\"color\":\"#ff0000\",\"size\":9,\"symbol\":\"arrow-bar-up\"},\"x\":[0,0.369961408666242],\"y\":[0.46996140866624203,0.1],\"type\":\"scatter\",\"xaxis\":\"x2\",\"yaxis\":\"y2\"},{\"hovertemplate\":\"Count: 2<br>Wavelength: 3.89e+03 \\u212b<extra></extra>\",\"line\":{\"color\":\"#cce385\",\"width\":1.0},\"marker\":{\"angleref\":\"previous\",\"color\":\"#cce385\",\"size\":9,\"symbol\":\"arrow-bar-up\"},\"x\":[0,1.0],\"y\":[1.1,0.1],\"type\":\"scatter\",\"xaxis\":\"x2\",\"yaxis\":\"y2\"},{\"hovertemplate\":\"Count: 2<br>Wavelength: 7.07e+03 \\u212b<extra></extra>\",\"line\":{\"color\":\"#ff703a\",\"width\":1.0},\"marker\":{\"angleref\":\"previous\",\"color\":\"#ff703a\",\"size\":9,\"symbol\":\"arrow-bar-up\"},\"x\":[0,1.0],\"y\":[1.1,0.46996140866624203],\"type\":\"scatter\",\"xaxis\":\"x2\",\"yaxis\":\"y2\"},{\"hoverinfo\":\"none\",\"marker\":{\"cmax\":9.29033944792864,\"cmin\":6.370474448502337,\"colorbar\":{\"outlinewidth\":0,\"thickness\":5,\"ticktext\":[\"5.8e+02\",\"8.1e+02\",\"1.1e+03\",\"1.5e+03\",\"2.1e+03\",\"3.0e+03\",\"4.1e+03\",\"5.7e+03\",\"7.8e+03\",\"1.1e+04\"],\"tickvals\":[6.370474448502337,6.694903892883037,7.019333337263737,7.343762781644437,7.668192226025137,7.992621670405838,8.317051114786539,8.641480559167238,8.965910003547938,9.290339447928638],\"title\":{\"font\":{\"size\":12},\"text\":\"Wavelength (\\u212b)<br>&nbsp;\"}},\"colorscale\":[[0.0,\"rgb(150,0,90)\"],[0.125,\"rgb(0,0,200)\"],[0.25,\"rgb(0,25,255)\"],[0.375,\"rgb(0,152,255)\"],[0.5,\"rgb(44,255,150)\"],[0.625,\"rgb(151,255,0)\"],[0.75,\"rgb(255,234,0)\"],[0.875,\"rgb(255,111,0)\"],[1.0,\"rgb(255,0,0)\"]],\"showscale\":true},\"mode\":\"markers\",\"x\":[null],\"y\":[null],\"type\":\"scatter\",\"xaxis\":\"x2\",\"yaxis\":\"y2\"}],                        {\"template\":{\"data\":{\"histogram2dcontour\":[{\"type\":\"histogram2dcontour\",\"colorbar\":{\"outlinewidth\":0,\"ticks\":\"\"},\"colorscale\":[[0.0,\"#0d0887\"],[0.1111111111111111,\"#46039f\"],[0.2222222222222222,\"#7201a8\"],[0.3333333333333333,\"#9c179e\"],[0.4444444444444444,\"#bd3786\"],[0.5555555555555556,\"#d8576b\"],[0.6666666666666666,\"#ed7953\"],[0.7777777777777778,\"#fb9f3a\"],[0.8888888888888888,\"#fdca26\"],[1.0,\"#f0f921\"]]}],\"choropleth\":[{\"type\":\"choropleth\",\"colorbar\":{\"outlinewidth\":0,\"ticks\":\"\"}}],\"histogram2d\":[{\"type\":\"histogram2d\",\"colorbar\":{\"outlinewidth\":0,\"ticks\":\"\"},\"colorscale\":[[0.0,\"#0d0887\"],[0.1111111111111111,\"#46039f\"],[0.2222222222222222,\"#7201a8\"],[0.3333333333333333,\"#9c179e\"],[0.4444444444444444,\"#bd3786\"],[0.5555555555555556,\"#d8576b\"],[0.6666666666666666,\"#ed7953\"],[0.7777777777777778,\"#fb9f3a\"],[0.8888888888888888,\"#fdca26\"],[1.0,\"#f0f921\"]]}],\"heatmap\":[{\"type\":\"heatmap\",\"colorbar\":{\"outlinewidth\":0,\"ticks\":\"\"},\"colorscale\":[[0.0,\"#0d0887\"],[0.1111111111111111,\"#46039f\"],[0.2222222222222222,\"#7201a8\"],[0.3333333333333333,\"#9c179e\"],[0.4444444444444444,\"#bd3786\"],[0.5555555555555556,\"#d8576b\"],[0.6666666666666666,\"#ed7953\"],[0.7777777777777778,\"#fb9f3a\"],[0.8888888888888888,\"#fdca26\"],[1.0,\"#f0f921\"]]}],\"heatmapgl\":[{\"type\":\"heatmapgl\",\"colorbar\":{\"outlinewidth\":0,\"ticks\":\"\"},\"colorscale\":[[0.0,\"#0d0887\"],[0.1111111111111111,\"#46039f\"],[0.2222222222222222,\"#7201a8\"],[0.3333333333333333,\"#9c179e\"],[0.4444444444444444,\"#bd3786\"],[0.5555555555555556,\"#d8576b\"],[0.6666666666666666,\"#ed7953\"],[0.7777777777777778,\"#fb9f3a\"],[0.8888888888888888,\"#fdca26\"],[1.0,\"#f0f921\"]]}],\"contourcarpet\":[{\"type\":\"contourcarpet\",\"colorbar\":{\"outlinewidth\":0,\"ticks\":\"\"}}],\"contour\":[{\"type\":\"contour\",\"colorbar\":{\"outlinewidth\":0,\"ticks\":\"\"},\"colorscale\":[[0.0,\"#0d0887\"],[0.1111111111111111,\"#46039f\"],[0.2222222222222222,\"#7201a8\"],[0.3333333333333333,\"#9c179e\"],[0.4444444444444444,\"#bd3786\"],[0.5555555555555556,\"#d8576b\"],[0.6666666666666666,\"#ed7953\"],[0.7777777777777778,\"#fb9f3a\"],[0.8888888888888888,\"#fdca26\"],[1.0,\"#f0f921\"]]}],\"surface\":[{\"type\":\"surface\",\"colorbar\":{\"outlinewidth\":0,\"ticks\":\"\"},\"colorscale\":[[0.0,\"#0d0887\"],[0.1111111111111111,\"#46039f\"],[0.2222222222222222,\"#7201a8\"],[0.3333333333333333,\"#9c179e\"],[0.4444444444444444,\"#bd3786\"],[0.5555555555555556,\"#d8576b\"],[0.6666666666666666,\"#ed7953\"],[0.7777777777777778,\"#fb9f3a\"],[0.8888888888888888,\"#fdca26\"],[1.0,\"#f0f921\"]]}],\"mesh3d\":[{\"type\":\"mesh3d\",\"colorbar\":{\"outlinewidth\":0,\"ticks\":\"\"}}],\"scatter\":[{\"fillpattern\":{\"fillmode\":\"overlay\",\"size\":10,\"solidity\":0.2},\"type\":\"scatter\"}],\"parcoords\":[{\"type\":\"parcoords\",\"line\":{\"colorbar\":{\"outlinewidth\":0,\"ticks\":\"\"}}}],\"scatterpolargl\":[{\"type\":\"scatterpolargl\",\"marker\":{\"colorbar\":{\"outlinewidth\":0,\"ticks\":\"\"}}}],\"bar\":[{\"error_x\":{\"color\":\"#2a3f5f\"},\"error_y\":{\"color\":\"#2a3f5f\"},\"marker\":{\"line\":{\"color\":\"#E5ECF6\",\"width\":0.5},\"pattern\":{\"fillmode\":\"overlay\",\"size\":10,\"solidity\":0.2}},\"type\":\"bar\"}],\"scattergeo\":[{\"type\":\"scattergeo\",\"marker\":{\"colorbar\":{\"outlinewidth\":0,\"ticks\":\"\"}}}],\"scatterpolar\":[{\"type\":\"scatterpolar\",\"marker\":{\"colorbar\":{\"outlinewidth\":0,\"ticks\":\"\"}}}],\"histogram\":[{\"marker\":{\"pattern\":{\"fillmode\":\"overlay\",\"size\":10,\"solidity\":0.2}},\"type\":\"histogram\"}],\"scattergl\":[{\"type\":\"scattergl\",\"marker\":{\"colorbar\":{\"outlinewidth\":0,\"ticks\":\"\"}}}],\"scatter3d\":[{\"type\":\"scatter3d\",\"line\":{\"colorbar\":{\"outlinewidth\":0,\"ticks\":\"\"}},\"marker\":{\"colorbar\":{\"outlinewidth\":0,\"ticks\":\"\"}}}],\"scattermapbox\":[{\"type\":\"scattermapbox\",\"marker\":{\"colorbar\":{\"outlinewidth\":0,\"ticks\":\"\"}}}],\"scatterternary\":[{\"type\":\"scatterternary\",\"marker\":{\"colorbar\":{\"outlinewidth\":0,\"ticks\":\"\"}}}],\"scattercarpet\":[{\"type\":\"scattercarpet\",\"marker\":{\"colorbar\":{\"outlinewidth\":0,\"ticks\":\"\"}}}],\"carpet\":[{\"aaxis\":{\"endlinecolor\":\"#2a3f5f\",\"gridcolor\":\"white\",\"linecolor\":\"white\",\"minorgridcolor\":\"white\",\"startlinecolor\":\"#2a3f5f\"},\"baxis\":{\"endlinecolor\":\"#2a3f5f\",\"gridcolor\":\"white\",\"linecolor\":\"white\",\"minorgridcolor\":\"white\",\"startlinecolor\":\"#2a3f5f\"},\"type\":\"carpet\"}],\"table\":[{\"cells\":{\"fill\":{\"color\":\"#EBF0F8\"},\"line\":{\"color\":\"white\"}},\"header\":{\"fill\":{\"color\":\"#C8D4E3\"},\"line\":{\"color\":\"white\"}},\"type\":\"table\"}],\"barpolar\":[{\"marker\":{\"line\":{\"color\":\"#E5ECF6\",\"width\":0.5},\"pattern\":{\"fillmode\":\"overlay\",\"size\":10,\"solidity\":0.2}},\"type\":\"barpolar\"}],\"pie\":[{\"automargin\":true,\"type\":\"pie\"}]},\"layout\":{\"autotypenumbers\":\"strict\",\"colorway\":[\"#636efa\",\"#EF553B\",\"#00cc96\",\"#ab63fa\",\"#FFA15A\",\"#19d3f3\",\"#FF6692\",\"#B6E880\",\"#FF97FF\",\"#FECB52\"],\"font\":{\"color\":\"#2a3f5f\"},\"hovermode\":\"closest\",\"hoverlabel\":{\"align\":\"left\"},\"paper_bgcolor\":\"white\",\"plot_bgcolor\":\"#E5ECF6\",\"polar\":{\"bgcolor\":\"#E5ECF6\",\"angularaxis\":{\"gridcolor\":\"white\",\"linecolor\":\"white\",\"ticks\":\"\"},\"radialaxis\":{\"gridcolor\":\"white\",\"linecolor\":\"white\",\"ticks\":\"\"}},\"ternary\":{\"bgcolor\":\"#E5ECF6\",\"aaxis\":{\"gridcolor\":\"white\",\"linecolor\":\"white\",\"ticks\":\"\"},\"baxis\":{\"gridcolor\":\"white\",\"linecolor\":\"white\",\"ticks\":\"\"},\"caxis\":{\"gridcolor\":\"white\",\"linecolor\":\"white\",\"ticks\":\"\"}},\"coloraxis\":{\"colorbar\":{\"outlinewidth\":0,\"ticks\":\"\"}},\"colorscale\":{\"sequential\":[[0.0,\"#0d0887\"],[0.1111111111111111,\"#46039f\"],[0.2222222222222222,\"#7201a8\"],[0.3333333333333333,\"#9c179e\"],[0.4444444444444444,\"#bd3786\"],[0.5555555555555556,\"#d8576b\"],[0.6666666666666666,\"#ed7953\"],[0.7777777777777778,\"#fb9f3a\"],[0.8888888888888888,\"#fdca26\"],[1.0,\"#f0f921\"]],\"sequentialminus\":[[0.0,\"#0d0887\"],[0.1111111111111111,\"#46039f\"],[0.2222222222222222,\"#7201a8\"],[0.3333333333333333,\"#9c179e\"],[0.4444444444444444,\"#bd3786\"],[0.5555555555555556,\"#d8576b\"],[0.6666666666666666,\"#ed7953\"],[0.7777777777777778,\"#fb9f3a\"],[0.8888888888888888,\"#fdca26\"],[1.0,\"#f0f921\"]],\"diverging\":[[0,\"#8e0152\"],[0.1,\"#c51b7d\"],[0.2,\"#de77ae\"],[0.3,\"#f1b6da\"],[0.4,\"#fde0ef\"],[0.5,\"#f7f7f7\"],[0.6,\"#e6f5d0\"],[0.7,\"#b8e186\"],[0.8,\"#7fbc41\"],[0.9,\"#4d9221\"],[1,\"#276419\"]]},\"xaxis\":{\"gridcolor\":\"white\",\"linecolor\":\"white\",\"ticks\":\"\",\"title\":{\"standoff\":15},\"zerolinecolor\":\"white\",\"automargin\":true,\"zerolinewidth\":2},\"yaxis\":{\"gridcolor\":\"white\",\"linecolor\":\"white\",\"ticks\":\"\",\"title\":{\"standoff\":15},\"zerolinecolor\":\"white\",\"automargin\":true,\"zerolinewidth\":2},\"scene\":{\"xaxis\":{\"backgroundcolor\":\"#E5ECF6\",\"gridcolor\":\"white\",\"linecolor\":\"white\",\"showbackground\":true,\"ticks\":\"\",\"zerolinecolor\":\"white\",\"gridwidth\":2},\"yaxis\":{\"backgroundcolor\":\"#E5ECF6\",\"gridcolor\":\"white\",\"linecolor\":\"white\",\"showbackground\":true,\"ticks\":\"\",\"zerolinecolor\":\"white\",\"gridwidth\":2},\"zaxis\":{\"backgroundcolor\":\"#E5ECF6\",\"gridcolor\":\"white\",\"linecolor\":\"white\",\"showbackground\":true,\"ticks\":\"\",\"zerolinecolor\":\"white\",\"gridwidth\":2}},\"shapedefaults\":{\"line\":{\"color\":\"#2a3f5f\"}},\"annotationdefaults\":{\"arrowcolor\":\"#2a3f5f\",\"arrowhead\":0,\"arrowwidth\":1},\"geo\":{\"bgcolor\":\"white\",\"landcolor\":\"#E5ECF6\",\"subunitcolor\":\"white\",\"showland\":true,\"showlakes\":true,\"lakecolor\":\"white\"},\"title\":{\"x\":0.05},\"mapbox\":{\"style\":\"light\"}}},\"xaxis\":{\"anchor\":\"y\",\"domain\":[0.0,0.258],\"showticklabels\":false,\"fixedrange\":true},\"yaxis\":{\"anchor\":\"x\",\"domain\":[0.0,1.0],\"showticklabels\":false,\"fixedrange\":true},\"xaxis2\":{\"anchor\":\"y2\",\"domain\":[0.398,1.0],\"showticklabels\":false,\"fixedrange\":true},\"yaxis2\":{\"anchor\":\"x2\",\"domain\":[0.0,1.0],\"title\":{\"text\":\"Energy (eV)\",\"standoff\":5},\"range\":[0,null],\"tickmode\":\"array\",\"tickvals\":[0.0,0.1,0.3573556063238298,0.46996140866624203,0.5520299124917911,1.1],\"ticktext\":[\"0.00e+00\",\"1.98e+01\",\"2.06e+01\",\"2.10e+01\",\"2.12e+01\",\"2.29e+01\"],\"fixedrange\":true},\"title\":{\"text\":\"Grotrian Diagram for Helium I (Shell: 6)\",\"x\":0.5},\"plot_bgcolor\":\"white\",\"autosize\":false,\"width\":1000,\"height\":700,\"showlegend\":false,\"annotations\":[{\"showarrow\":false,\"text\":\"n=0\",\"x\":1.1,\"xref\":\"x2\",\"y\":0.0,\"yref\":\"y2\"},{\"showarrow\":false,\"text\":\"n=1\",\"x\":1.1,\"xref\":\"x2\",\"y\":0.1,\"yref\":\"y2\"},{\"showarrow\":false,\"text\":\"n=2\",\"x\":1.1,\"xref\":\"x2\",\"y\":0.3573556063238298,\"yref\":\"y2\"},{\"showarrow\":false,\"text\":\"n=3\",\"x\":1.1,\"xref\":\"x2\",\"y\":0.46996140866624203,\"yref\":\"y2\"},{\"showarrow\":false,\"text\":\"n=4\",\"x\":1.1,\"xref\":\"x2\",\"y\":0.5520299124917911,\"yref\":\"y2\"},{\"showarrow\":false,\"text\":\"n=5\",\"x\":1.1,\"xref\":\"x2\",\"y\":1.1,\"yref\":\"y2\"},{\"showarrow\":false,\"text\":\"3.6e-02\",\"x\":0.35,\"xref\":\"x\",\"y\":0.0,\"yref\":\"y\"},{\"showarrow\":false,\"text\":\"4.5e-02\",\"x\":0.35,\"xref\":\"x\",\"y\":0.1111111111111111,\"yref\":\"y\"},{\"showarrow\":false,\"text\":\"5.5e-02\",\"x\":0.35,\"xref\":\"x\",\"y\":0.2222222222222222,\"yref\":\"y\"},{\"showarrow\":false,\"text\":\"6.8e-02\",\"x\":0.35,\"xref\":\"x\",\"y\":0.3333333333333333,\"yref\":\"y\"},{\"showarrow\":false,\"text\":\"8.4e-02\",\"x\":0.35,\"xref\":\"x\",\"y\":0.4444444444444444,\"yref\":\"y\"},{\"showarrow\":false,\"text\":\"1.0e-01\",\"x\":0.35,\"xref\":\"x\",\"y\":0.5555555555555556,\"yref\":\"y\"},{\"showarrow\":false,\"text\":\"1.3e-01\",\"x\":0.35,\"xref\":\"x\",\"y\":0.6666666666666666,\"yref\":\"y\"},{\"showarrow\":false,\"text\":\"1.6e-01\",\"x\":0.35,\"xref\":\"x\",\"y\":0.7777777777777777,\"yref\":\"y\"},{\"showarrow\":false,\"text\":\"2.0e-01\",\"x\":0.35,\"xref\":\"x\",\"y\":0.8888888888888888,\"yref\":\"y\"},{\"showarrow\":false,\"text\":\"2.4e-01\",\"x\":0.35,\"xref\":\"x\",\"y\":1.0,\"yref\":\"y\"},{\"showarrow\":false,\"text\":\"Populations\",\"x\":0.28,\"xref\":\"x\",\"y\":-0.08,\"yref\":\"y\"},{\"showarrow\":false,\"text\":\"2.0e+00\",\"x\":0.9,\"xref\":\"x\",\"y\":0.0,\"yref\":\"y\"},{\"showarrow\":false,\"text\":\"2.7e+00\",\"x\":0.9,\"xref\":\"x\",\"y\":0.1111111111111111,\"yref\":\"y\"},{\"showarrow\":false,\"text\":\"3.7e+00\",\"x\":0.9,\"xref\":\"x\",\"y\":0.2222222222222222,\"yref\":\"y\"},{\"showarrow\":false,\"text\":\"5.1e+00\",\"x\":0.9,\"xref\":\"x\",\"y\":0.3333333333333333,\"yref\":\"y\"},{\"showarrow\":false,\"text\":\"7.0e+00\",\"x\":0.9,\"xref\":\"x\",\"y\":0.4444444444444444,\"yref\":\"y\"},{\"showarrow\":false,\"text\":\"9.5e+00\",\"x\":0.9,\"xref\":\"x\",\"y\":0.5555555555555556,\"yref\":\"y\"},{\"showarrow\":false,\"text\":\"1.3e+01\",\"x\":0.9,\"xref\":\"x\",\"y\":0.6666666666666666,\"yref\":\"y\"},{\"showarrow\":false,\"text\":\"1.8e+01\",\"x\":0.9,\"xref\":\"x\",\"y\":0.7777777777777777,\"yref\":\"y\"},{\"showarrow\":false,\"text\":\"2.4e+01\",\"x\":0.9,\"xref\":\"x\",\"y\":0.8888888888888888,\"yref\":\"y\"},{\"showarrow\":false,\"text\":\"3.3e+01\",\"x\":0.9,\"xref\":\"x\",\"y\":1.0,\"yref\":\"y\"},{\"showarrow\":false,\"text\":\"#Packets\",\"x\":0.83,\"xref\":\"x\",\"y\":-0.08,\"yref\":\"y\"}],\"shapes\":[{\"line\":{\"width\":1.003},\"type\":\"line\",\"x0\":0.1,\"x1\":0.2,\"xref\":\"x\",\"y0\":0.0,\"y1\":0.0,\"yref\":\"y\"},{\"line\":{\"width\":1.3363333333333332},\"type\":\"line\",\"x0\":0.1,\"x1\":0.2,\"xref\":\"x\",\"y0\":0.1111111111111111,\"y1\":0.1111111111111111,\"yref\":\"y\"},{\"line\":{\"width\":1.6696666666666666},\"type\":\"line\",\"x0\":0.1,\"x1\":0.2,\"xref\":\"x\",\"y0\":0.2222222222222222,\"y1\":0.2222222222222222,\"yref\":\"y\"},{\"line\":{\"width\":2.003},\"type\":\"line\",\"x0\":0.1,\"x1\":0.2,\"xref\":\"x\",\"y0\":0.3333333333333333,\"y1\":0.3333333333333333,\"yref\":\"y\"},{\"line\":{\"width\":2.336333333333333},\"type\":\"line\",\"x0\":0.1,\"x1\":0.2,\"xref\":\"x\",\"y0\":0.4444444444444444,\"y1\":0.4444444444444444,\"yref\":\"y\"},{\"line\":{\"width\":2.669666666666666},\"type\":\"line\",\"x0\":0.1,\"x1\":0.2,\"xref\":\"x\",\"y0\":0.5555555555555556,\"y1\":0.5555555555555556,\"yref\":\"y\"},{\"line\":{\"width\":3.003},\"type\":\"line\",\"x0\":0.1,\"x1\":0.2,\"xref\":\"x\",\"y0\":0.6666666666666666,\"y1\":0.6666666666666666,\"yref\":\"y\"},{\"line\":{\"width\":3.336333333333333},\"type\":\"line\",\"x0\":0.1,\"x1\":0.2,\"xref\":\"x\",\"y0\":0.7777777777777777,\"y1\":0.7777777777777777,\"yref\":\"y\"},{\"line\":{\"width\":3.669666666666666},\"type\":\"line\",\"x0\":0.1,\"x1\":0.2,\"xref\":\"x\",\"y0\":0.8888888888888888,\"y1\":0.8888888888888888,\"yref\":\"y\"},{\"line\":{\"width\":4.003},\"type\":\"line\",\"x0\":0.1,\"x1\":0.2,\"xref\":\"x\",\"y0\":1.0,\"y1\":1.0,\"yref\":\"y\"},{\"line\":{\"color\":\"grey\",\"dash\":\"dash\",\"width\":0.5},\"type\":\"line\",\"x0\":0.55,\"x1\":0.55,\"xref\":\"x\",\"y0\":0,\"y1\":1,\"yref\":\"y\"},{\"line\":{\"width\":1.0},\"type\":\"line\",\"x0\":0.65,\"x1\":0.75,\"xref\":\"x\",\"y0\":0.0,\"y1\":0.0,\"yref\":\"y\"},{\"line\":{\"width\":1.2222222222222223},\"type\":\"line\",\"x0\":0.65,\"x1\":0.75,\"xref\":\"x\",\"y0\":0.1111111111111111,\"y1\":0.1111111111111111,\"yref\":\"y\"},{\"line\":{\"width\":1.4444444444444444},\"type\":\"line\",\"x0\":0.65,\"x1\":0.75,\"xref\":\"x\",\"y0\":0.2222222222222222,\"y1\":0.2222222222222222,\"yref\":\"y\"},{\"line\":{\"width\":1.6666666666666665},\"type\":\"line\",\"x0\":0.65,\"x1\":0.75,\"xref\":\"x\",\"y0\":0.3333333333333333,\"y1\":0.3333333333333333,\"yref\":\"y\"},{\"line\":{\"width\":1.8888888888888888},\"type\":\"line\",\"x0\":0.65,\"x1\":0.75,\"xref\":\"x\",\"y0\":0.4444444444444444,\"y1\":0.4444444444444444,\"yref\":\"y\"},{\"line\":{\"width\":2.111111111111111},\"type\":\"line\",\"x0\":0.65,\"x1\":0.75,\"xref\":\"x\",\"y0\":0.5555555555555556,\"y1\":0.5555555555555556,\"yref\":\"y\"},{\"line\":{\"width\":2.333333333333333},\"type\":\"line\",\"x0\":0.65,\"x1\":0.75,\"xref\":\"x\",\"y0\":0.6666666666666666,\"y1\":0.6666666666666666,\"yref\":\"y\"},{\"line\":{\"width\":2.5555555555555554},\"type\":\"line\",\"x0\":0.65,\"x1\":0.75,\"xref\":\"x\",\"y0\":0.7777777777777777,\"y1\":0.7777777777777777,\"yref\":\"y\"},{\"line\":{\"width\":2.7777777777777777},\"type\":\"line\",\"x0\":0.65,\"x1\":0.75,\"xref\":\"x\",\"y0\":0.8888888888888888,\"y1\":0.8888888888888888,\"yref\":\"y\"},{\"line\":{\"width\":3.0},\"type\":\"line\",\"x0\":0.65,\"x1\":0.75,\"xref\":\"x\",\"y0\":1.0,\"y1\":1.0,\"yref\":\"y\"}]},                        {\"responsive\": true}                    ).then(function(){\n",
       "                            \n",
       "var gd = document.getElementById('900e318d-27f3-43b0-8b44-aff6fe52efe7');\n",
       "var x = new MutationObserver(function (mutations, observer) {{\n",
       "        var display = window.getComputedStyle(gd).display;\n",
       "        if (!display || display === 'none') {{\n",
       "            console.log([gd, 'removed!']);\n",
       "            Plotly.purge(gd);\n",
       "            observer.disconnect();\n",
       "        }}\n",
       "}});\n",
       "\n",
       "// Listen for the removal of the full notebook cells\n",
       "var notebookContainer = gd.closest('#notebook-container');\n",
       "if (notebookContainer) {{\n",
       "    x.observe(notebookContainer, {childList: true});\n",
       "}}\n",
       "\n",
       "// Listen for the clearing of the current output cell\n",
       "var outputEl = gd.closest('.output');\n",
       "if (outputEl) {{\n",
       "    x.observe(outputEl, {childList: true});\n",
       "}}\n",
       "\n",
       "                        })                };                });            </script>        </div>"
      ]
     },
     "metadata": {},
     "output_type": "display_data"
    }
   ],
   "source": [
    "diag.shell = 6\n",
    "diag.display()"
   ]
  },
  {
   "cell_type": "code",
   "execution_count": 5,
   "metadata": {
    "scrolled": false
   },
   "outputs": [
    {
     "data": {
      "application/vnd.plotly.v1+json": {
       "config": {
        "plotlyServerURL": "https://plot.ly"
       },
       "data": [
        {
         "hovertemplate": "Energy: 0.00e+00 eV<br>Population: 5.08e+01<extra></extra>",
         "line": {
          "color": "black",
          "width": 4.003
         },
         "mode": "lines",
         "showlegend": false,
         "type": "scatter",
         "x": [
          -0.05,
          0.07222222222222223,
          0.19444444444444448,
          0.3166666666666667,
          0.43888888888888894,
          0.5611111111111111,
          0.6833333333333333,
          0.8055555555555556,
          0.9277777777777778,
          1.05
         ],
         "xaxis": "x2",
         "y": [
          0,
          0,
          0,
          0,
          0,
          0,
          0,
          0,
          0,
          0
         ],
         "yaxis": "y2"
        },
        {
         "hovertemplate": "Energy: 2.39e-02 eV<br>Population: 3.97e+01<extra></extra>",
         "line": {
          "color": "black",
          "width": 3.940533415955088
         },
         "mode": "lines",
         "showlegend": false,
         "type": "scatter",
         "x": [
          -0.05,
          0.07222222222222223,
          0.19444444444444448,
          0.3166666666666667,
          0.43888888888888894,
          0.5611111111111111,
          0.6833333333333333,
          0.8055555555555556,
          0.9277777777777778,
          1.05
         ],
         "xaxis": "x2",
         "y": [
          0.1,
          0.1,
          0.1,
          0.1,
          0.1,
          0.1,
          0.1,
          0.1,
          0.1,
          0.1
         ],
         "yaxis": "y2"
        },
        {
         "hovertemplate": "Energy: 1.97e+00 eV<br>Population: 6.73e+00<extra></extra>",
         "line": {
          "color": "black",
          "width": 3.4890154955220174
         },
         "mode": "lines",
         "showlegend": false,
         "type": "scatter",
         "x": [
          -0.05,
          0.07222222222222223,
          0.19444444444444448,
          0.3166666666666667,
          0.43888888888888894,
          0.5611111111111111,
          0.6833333333333333,
          0.8055555555555556,
          0.9277777777777778,
          1.05
         ],
         "xaxis": "x2",
         "y": [
          0.27724560738993026,
          0.27724560738993026,
          0.27724560738993026,
          0.27724560738993026,
          0.27724560738993026,
          0.27724560738993026,
          0.27724560738993026,
          0.27724560738993026,
          0.27724560738993026,
          0.27724560738993026
         ],
         "yaxis": "y2"
        },
        {
         "hovertemplate": "Energy: 4.19e+00 eV<br>Population: 1.38e-01<extra></extra>",
         "line": {
          "color": "black",
          "width": 2.49892208700926
         },
         "mode": "lines",
         "showlegend": false,
         "type": "scatter",
         "x": [
          -0.05,
          0.07222222222222223,
          0.19444444444444448,
          0.3166666666666667,
          0.43888888888888894,
          0.5611111111111111,
          0.6833333333333333,
          0.8055555555555556,
          0.9277777777777778,
          1.05
         ],
         "xaxis": "x2",
         "y": [
          0.47992689700710667,
          0.47992689700710667,
          0.47992689700710667,
          0.47992689700710667,
          0.47992689700710667,
          0.47992689700710667,
          0.47992689700710667,
          0.47992689700710667,
          0.47992689700710667,
          0.47992689700710667
         ],
         "yaxis": "y2"
        },
        {
         "hovertemplate": "Energy: 9.15e+00 eV<br>Population: 4.25e-03<extra></extra>",
         "line": {
          "color": "black",
          "width": 1.6141148128816263
         },
         "mode": "lines",
         "showlegend": false,
         "type": "scatter",
         "x": [
          -0.05,
          0.07222222222222223,
          0.19444444444444448,
          0.3166666666666667,
          0.43888888888888894,
          0.5611111111111111,
          0.6833333333333333,
          0.8055555555555556,
          0.9277777777777778,
          1.05
         ],
         "xaxis": "x2",
         "y": [
          0.9319456261578879,
          0.9319456261578879,
          0.9319456261578879,
          0.9319456261578879,
          0.9319456261578879,
          0.9319456261578879,
          0.9319456261578879,
          0.9319456261578879,
          0.9319456261578879,
          0.9319456261578879
         ],
         "yaxis": "y2"
        },
        {
         "hovertemplate": "Energy: 9.52e+00 eV<br>Population: 1.74e-03<extra></extra>",
         "line": {
          "color": "black",
          "width": 1.386134065197346
         },
         "mode": "lines",
         "showlegend": false,
         "type": "scatter",
         "x": [
          -0.05,
          0.07222222222222223,
          0.19444444444444448,
          0.3166666666666667,
          0.43888888888888894,
          0.5611111111111111,
          0.6833333333333333,
          0.8055555555555556,
          0.9277777777777778,
          1.05
         ],
         "xaxis": "x2",
         "y": [
          0.9661704974083188,
          0.9661704974083188,
          0.9661704974083188,
          0.9661704974083188,
          0.9661704974083188,
          0.9661704974083188,
          0.9661704974083188,
          0.9661704974083188,
          0.9661704974083188,
          0.9661704974083188
         ],
         "yaxis": "y2"
        },
        {
         "hovertemplate": "Energy: 1.07e+01 eV<br>Population: 2.48e-03<extra></extra>",
         "line": {
          "color": "black",
          "width": 1.4773552469719584
         },
         "mode": "lines",
         "showlegend": false,
         "type": "scatter",
         "x": [
          -0.05,
          0.07222222222222223,
          0.19444444444444448,
          0.3166666666666667,
          0.43888888888888894,
          0.5611111111111111,
          0.6833333333333333,
          0.8055555555555556,
          0.9277777777777778,
          1.05
         ],
         "xaxis": "x2",
         "y": [
          1.077359753690702,
          1.077359753690702,
          1.077359753690702,
          1.077359753690702,
          1.077359753690702,
          1.077359753690702,
          1.077359753690702,
          1.077359753690702,
          1.077359753690702,
          1.077359753690702
         ],
         "yaxis": "y2"
        },
        {
         "hovertemplate": "Energy: 1.10e+01 eV<br>Population: 3.85e-04<extra></extra>",
         "line": {
          "color": "black",
          "width": 1.003
         },
         "mode": "lines",
         "showlegend": false,
         "type": "scatter",
         "x": [
          -0.05,
          0.07222222222222223,
          0.19444444444444448,
          0.3166666666666667,
          0.43888888888888894,
          0.5611111111111111,
          0.6833333333333333,
          0.8055555555555556,
          0.9277777777777778,
          1.05
         ],
         "xaxis": "x2",
         "y": [
          1.1,
          1.1,
          1.1,
          1.1,
          1.1,
          1.1,
          1.1,
          1.1,
          1.1,
          1.1
         ],
         "yaxis": "y2"
        },
        {
         "hovertemplate": "Count: 11<br>Wavelength: 1.30e+03 Å<extra></extra>",
         "line": {
          "color": "#8000ff",
          "width": 1.582981914100094
         },
         "marker": {
          "angleref": "previous",
          "color": "#8000ff",
          "size": 9,
          "symbol": "arrow-bar-up"
         },
         "type": "scatter",
         "x": [
          0,
          0.8664613492856591
         ],
         "xaxis": "x2",
         "y": [
          0,
          0.9661704974083188
         ],
         "yaxis": "y2"
        },
        {
         "hovertemplate": "Count: 31<br>Wavelength: 1.31e+03 Å<extra></extra>",
         "line": {
          "color": "#8000ff",
          "width": 2.9193596526333483
         },
         "marker": {
          "angleref": "previous",
          "color": "#8000ff",
          "size": 9,
          "symbol": "arrow-bar-up"
         },
         "type": "scatter",
         "x": [
          0,
          0.8661704974083189
         ],
         "xaxis": "x2",
         "y": [
          0.1,
          0.9661704974083188
         ],
         "yaxis": "y2"
        },
        {
         "hovertemplate": "Count: 9<br>Wavelength: 7.78e+03 Å<extra></extra>",
         "line": {
          "color": "#ff0000",
          "width": 1.3241517447009206
         },
         "marker": {
          "angleref": "previous",
          "color": "#ff0000",
          "size": 9,
          "symbol": "arrow-bar-up"
         },
         "type": "scatter",
         "x": [
          0,
          0.86528023167925
         ],
         "xaxis": "x2",
         "y": [
          0.9319456261578879,
          1.077359753690702
         ],
         "yaxis": "y2"
        },
        {
         "hovertemplate": "Count: 7<br>Wavelength: 1.30e+03 Å<extra></extra>",
         "line": {
          "color": "#8000ff",
          "width": 1
         },
         "marker": {
          "angleref": "previous",
          "color": "#8000ff",
          "size": 9,
          "symbol": "arrow-bar-up"
         },
         "type": "scatter",
         "x": [
          0,
          0.8664613492856591
         ],
         "xaxis": "x2",
         "y": [
          0.9661704974083188,
          0
         ],
         "yaxis": "y2"
        },
        {
         "hovertemplate": "Count: 33<br>Wavelength: 1.31e+03 Å<extra></extra>",
         "line": {
          "color": "#8000ff",
          "width": 3
         },
         "marker": {
          "angleref": "previous",
          "color": "#8000ff",
          "size": 9,
          "symbol": "arrow-bar-up"
         },
         "type": "scatter",
         "x": [
          0,
          0.8661704974083189
         ],
         "xaxis": "x2",
         "y": [
          0.9661704974083188,
          0.1
         ],
         "yaxis": "y2"
        },
        {
         "hovertemplate": "Count: 17<br>Wavelength: 7.78e+03 Å<extra></extra>",
         "line": {
          "color": "#ff0000",
          "width": 2.1444662397845144
         },
         "marker": {
          "angleref": "previous",
          "color": "#ff0000",
          "size": 9,
          "symbol": "arrow-bar-up"
         },
         "type": "scatter",
         "x": [
          0,
          0.86528023167925
         ],
         "xaxis": "x2",
         "y": [
          1.077359753690702,
          0.9319456261578879
         ],
         "yaxis": "y2"
        },
        {
         "hoverinfo": "none",
         "marker": {
          "cmax": 8.958793741798225,
          "cmin": 7.171785846702633,
          "colorbar": {
           "outlinewidth": 0,
           "thickness": 5,
           "ticktext": [
            "1.3e+03",
            "1.6e+03",
            "1.9e+03",
            "2.4e+03",
            "2.9e+03",
            "3.5e+03",
            "4.3e+03",
            "5.2e+03",
            "6.4e+03",
            "7.8e+03"
           ],
           "tickvals": [
            7.171785846702633,
            7.370342279491033,
            7.568898712279431,
            7.76745514506783,
            7.9660115778562295,
            8.164568010644627,
            8.363124443433026,
            8.561680876221427,
            8.760237309009824,
            8.958793741798223
           ],
           "title": {
            "font": {
             "size": 12
            },
            "text": "Wavelength (Å)<br>&nbsp;"
           }
          },
          "colorscale": [
           [
            0,
            "rgb(150,0,90)"
           ],
           [
            0.125,
            "rgb(0,0,200)"
           ],
           [
            0.25,
            "rgb(0,25,255)"
           ],
           [
            0.375,
            "rgb(0,152,255)"
           ],
           [
            0.5,
            "rgb(44,255,150)"
           ],
           [
            0.625,
            "rgb(151,255,0)"
           ],
           [
            0.75,
            "rgb(255,234,0)"
           ],
           [
            0.875,
            "rgb(255,111,0)"
           ],
           [
            1,
            "rgb(255,0,0)"
           ]
          ],
          "showscale": true
         },
         "mode": "markers",
         "type": "scatter",
         "x": [
          null
         ],
         "xaxis": "x2",
         "y": [
          null
         ],
         "yaxis": "y2"
        }
       ],
       "layout": {
        "annotations": [
         {
          "showarrow": false,
          "text": "n=0",
          "x": 1.1,
          "xref": "x2",
          "y": 0,
          "yref": "y2"
         },
         {
          "showarrow": false,
          "text": "n=1",
          "x": 1.1,
          "xref": "x2",
          "y": 0.1,
          "yref": "y2"
         },
         {
          "showarrow": false,
          "text": "n=2",
          "x": 1.1,
          "xref": "x2",
          "y": 0.27724560738993026,
          "yref": "y2"
         },
         {
          "showarrow": false,
          "text": "n=3",
          "x": 1.1,
          "xref": "x2",
          "y": 0.47992689700710667,
          "yref": "y2"
         },
         {
          "showarrow": false,
          "text": "n=4",
          "x": 1.1,
          "xref": "x2",
          "y": 0.9319456261578879,
          "yref": "y2"
         },
         {
          "showarrow": false,
          "text": "n=5",
          "x": 1.1,
          "xref": "x2",
          "y": 0.9661704974083188,
          "yref": "y2"
         },
         {
          "showarrow": false,
          "text": "n=6",
          "x": 1.1,
          "xref": "x2",
          "y": 1.077359753690702,
          "yref": "y2"
         },
         {
          "showarrow": false,
          "text": "n=7",
          "x": 1.1,
          "xref": "x2",
          "y": 1.1,
          "yref": "y2"
         },
         {
          "showarrow": false,
          "text": "3.9e-04",
          "x": 0.35,
          "xref": "x",
          "y": 0,
          "yref": "y"
         },
         {
          "showarrow": false,
          "text": "1.4e-03",
          "x": 0.35,
          "xref": "x",
          "y": 0.1111111111111111,
          "yref": "y"
         },
         {
          "showarrow": false,
          "text": "5.3e-03",
          "x": 0.35,
          "xref": "x",
          "y": 0.2222222222222222,
          "yref": "y"
         },
         {
          "showarrow": false,
          "text": "2.0e-02",
          "x": 0.35,
          "xref": "x",
          "y": 0.3333333333333333,
          "yref": "y"
         },
         {
          "showarrow": false,
          "text": "7.3e-02",
          "x": 0.35,
          "xref": "x",
          "y": 0.4444444444444444,
          "yref": "y"
         },
         {
          "showarrow": false,
          "text": "2.7e-01",
          "x": 0.35,
          "xref": "x",
          "y": 0.5555555555555556,
          "yref": "y"
         },
         {
          "showarrow": false,
          "text": "1.0e+00",
          "x": 0.35,
          "xref": "x",
          "y": 0.6666666666666666,
          "yref": "y"
         },
         {
          "showarrow": false,
          "text": "3.7e+00",
          "x": 0.35,
          "xref": "x",
          "y": 0.7777777777777777,
          "yref": "y"
         },
         {
          "showarrow": false,
          "text": "1.4e+01",
          "x": 0.35,
          "xref": "x",
          "y": 0.8888888888888888,
          "yref": "y"
         },
         {
          "showarrow": false,
          "text": "5.1e+01",
          "x": 0.35,
          "xref": "x",
          "y": 1,
          "yref": "y"
         },
         {
          "showarrow": false,
          "text": "Populations",
          "x": 0.28,
          "xref": "x",
          "y": -0.08,
          "yref": "y"
         },
         {
          "showarrow": false,
          "text": "7.0e+00",
          "x": 0.9,
          "xref": "x",
          "y": 0,
          "yref": "y"
         },
         {
          "showarrow": false,
          "text": "8.3e+00",
          "x": 0.9,
          "xref": "x",
          "y": 0.1111111111111111,
          "yref": "y"
         },
         {
          "showarrow": false,
          "text": "9.9e+00",
          "x": 0.9,
          "xref": "x",
          "y": 0.2222222222222222,
          "yref": "y"
         },
         {
          "showarrow": false,
          "text": "1.2e+01",
          "x": 0.9,
          "xref": "x",
          "y": 0.3333333333333333,
          "yref": "y"
         },
         {
          "showarrow": false,
          "text": "1.4e+01",
          "x": 0.9,
          "xref": "x",
          "y": 0.4444444444444444,
          "yref": "y"
         },
         {
          "showarrow": false,
          "text": "1.7e+01",
          "x": 0.9,
          "xref": "x",
          "y": 0.5555555555555556,
          "yref": "y"
         },
         {
          "showarrow": false,
          "text": "2.0e+01",
          "x": 0.9,
          "xref": "x",
          "y": 0.6666666666666666,
          "yref": "y"
         },
         {
          "showarrow": false,
          "text": "2.3e+01",
          "x": 0.9,
          "xref": "x",
          "y": 0.7777777777777777,
          "yref": "y"
         },
         {
          "showarrow": false,
          "text": "2.8e+01",
          "x": 0.9,
          "xref": "x",
          "y": 0.8888888888888888,
          "yref": "y"
         },
         {
          "showarrow": false,
          "text": "3.3e+01",
          "x": 0.9,
          "xref": "x",
          "y": 1,
          "yref": "y"
         },
         {
          "showarrow": false,
          "text": "#Packets",
          "x": 0.83,
          "xref": "x",
          "y": -0.08,
          "yref": "y"
         }
        ],
        "autosize": false,
        "height": 700,
        "plot_bgcolor": "white",
        "shapes": [
         {
          "line": {
           "width": 1.003
          },
          "type": "line",
          "x0": 0.1,
          "x1": 0.2,
          "xref": "x",
          "y0": 0,
          "y1": 0,
          "yref": "y"
         },
         {
          "line": {
           "width": 1.3363333333333332
          },
          "type": "line",
          "x0": 0.1,
          "x1": 0.2,
          "xref": "x",
          "y0": 0.1111111111111111,
          "y1": 0.1111111111111111,
          "yref": "y"
         },
         {
          "line": {
           "width": 1.6696666666666666
          },
          "type": "line",
          "x0": 0.1,
          "x1": 0.2,
          "xref": "x",
          "y0": 0.2222222222222222,
          "y1": 0.2222222222222222,
          "yref": "y"
         },
         {
          "line": {
           "width": 2.003
          },
          "type": "line",
          "x0": 0.1,
          "x1": 0.2,
          "xref": "x",
          "y0": 0.3333333333333333,
          "y1": 0.3333333333333333,
          "yref": "y"
         },
         {
          "line": {
           "width": 2.336333333333333
          },
          "type": "line",
          "x0": 0.1,
          "x1": 0.2,
          "xref": "x",
          "y0": 0.4444444444444444,
          "y1": 0.4444444444444444,
          "yref": "y"
         },
         {
          "line": {
           "width": 2.669666666666666
          },
          "type": "line",
          "x0": 0.1,
          "x1": 0.2,
          "xref": "x",
          "y0": 0.5555555555555556,
          "y1": 0.5555555555555556,
          "yref": "y"
         },
         {
          "line": {
           "width": 3.003
          },
          "type": "line",
          "x0": 0.1,
          "x1": 0.2,
          "xref": "x",
          "y0": 0.6666666666666666,
          "y1": 0.6666666666666666,
          "yref": "y"
         },
         {
          "line": {
           "width": 3.336333333333333
          },
          "type": "line",
          "x0": 0.1,
          "x1": 0.2,
          "xref": "x",
          "y0": 0.7777777777777777,
          "y1": 0.7777777777777777,
          "yref": "y"
         },
         {
          "line": {
           "width": 3.669666666666666
          },
          "type": "line",
          "x0": 0.1,
          "x1": 0.2,
          "xref": "x",
          "y0": 0.8888888888888888,
          "y1": 0.8888888888888888,
          "yref": "y"
         },
         {
          "line": {
           "width": 4.003
          },
          "type": "line",
          "x0": 0.1,
          "x1": 0.2,
          "xref": "x",
          "y0": 1,
          "y1": 1,
          "yref": "y"
         },
         {
          "line": {
           "color": "grey",
           "dash": "dash",
           "width": 0.5
          },
          "type": "line",
          "x0": 0.55,
          "x1": 0.55,
          "xref": "x",
          "y0": 0,
          "y1": 1,
          "yref": "y"
         },
         {
          "line": {
           "width": 1
          },
          "type": "line",
          "x0": 0.65,
          "x1": 0.75,
          "xref": "x",
          "y0": 0,
          "y1": 0,
          "yref": "y"
         },
         {
          "line": {
           "width": 1.2222222222222223
          },
          "type": "line",
          "x0": 0.65,
          "x1": 0.75,
          "xref": "x",
          "y0": 0.1111111111111111,
          "y1": 0.1111111111111111,
          "yref": "y"
         },
         {
          "line": {
           "width": 1.4444444444444444
          },
          "type": "line",
          "x0": 0.65,
          "x1": 0.75,
          "xref": "x",
          "y0": 0.2222222222222222,
          "y1": 0.2222222222222222,
          "yref": "y"
         },
         {
          "line": {
           "width": 1.6666666666666665
          },
          "type": "line",
          "x0": 0.65,
          "x1": 0.75,
          "xref": "x",
          "y0": 0.3333333333333333,
          "y1": 0.3333333333333333,
          "yref": "y"
         },
         {
          "line": {
           "width": 1.8888888888888888
          },
          "type": "line",
          "x0": 0.65,
          "x1": 0.75,
          "xref": "x",
          "y0": 0.4444444444444444,
          "y1": 0.4444444444444444,
          "yref": "y"
         },
         {
          "line": {
           "width": 2.111111111111111
          },
          "type": "line",
          "x0": 0.65,
          "x1": 0.75,
          "xref": "x",
          "y0": 0.5555555555555556,
          "y1": 0.5555555555555556,
          "yref": "y"
         },
         {
          "line": {
           "width": 2.333333333333333
          },
          "type": "line",
          "x0": 0.65,
          "x1": 0.75,
          "xref": "x",
          "y0": 0.6666666666666666,
          "y1": 0.6666666666666666,
          "yref": "y"
         },
         {
          "line": {
           "width": 2.5555555555555554
          },
          "type": "line",
          "x0": 0.65,
          "x1": 0.75,
          "xref": "x",
          "y0": 0.7777777777777777,
          "y1": 0.7777777777777777,
          "yref": "y"
         },
         {
          "line": {
           "width": 2.7777777777777777
          },
          "type": "line",
          "x0": 0.65,
          "x1": 0.75,
          "xref": "x",
          "y0": 0.8888888888888888,
          "y1": 0.8888888888888888,
          "yref": "y"
         },
         {
          "line": {
           "width": 3
          },
          "type": "line",
          "x0": 0.65,
          "x1": 0.75,
          "xref": "x",
          "y0": 1,
          "y1": 1,
          "yref": "y"
         }
        ],
        "showlegend": false,
        "template": {
         "data": {
          "bar": [
           {
            "error_x": {
             "color": "#2a3f5f"
            },
            "error_y": {
             "color": "#2a3f5f"
            },
            "marker": {
             "line": {
              "color": "#E5ECF6",
              "width": 0.5
             },
             "pattern": {
              "fillmode": "overlay",
              "size": 10,
              "solidity": 0.2
             }
            },
            "type": "bar"
           }
          ],
          "barpolar": [
           {
            "marker": {
             "line": {
              "color": "#E5ECF6",
              "width": 0.5
             },
             "pattern": {
              "fillmode": "overlay",
              "size": 10,
              "solidity": 0.2
             }
            },
            "type": "barpolar"
           }
          ],
          "carpet": [
           {
            "aaxis": {
             "endlinecolor": "#2a3f5f",
             "gridcolor": "white",
             "linecolor": "white",
             "minorgridcolor": "white",
             "startlinecolor": "#2a3f5f"
            },
            "baxis": {
             "endlinecolor": "#2a3f5f",
             "gridcolor": "white",
             "linecolor": "white",
             "minorgridcolor": "white",
             "startlinecolor": "#2a3f5f"
            },
            "type": "carpet"
           }
          ],
          "choropleth": [
           {
            "colorbar": {
             "outlinewidth": 0,
             "ticks": ""
            },
            "type": "choropleth"
           }
          ],
          "contour": [
           {
            "colorbar": {
             "outlinewidth": 0,
             "ticks": ""
            },
            "colorscale": [
             [
              0,
              "#0d0887"
             ],
             [
              0.1111111111111111,
              "#46039f"
             ],
             [
              0.2222222222222222,
              "#7201a8"
             ],
             [
              0.3333333333333333,
              "#9c179e"
             ],
             [
              0.4444444444444444,
              "#bd3786"
             ],
             [
              0.5555555555555556,
              "#d8576b"
             ],
             [
              0.6666666666666666,
              "#ed7953"
             ],
             [
              0.7777777777777778,
              "#fb9f3a"
             ],
             [
              0.8888888888888888,
              "#fdca26"
             ],
             [
              1,
              "#f0f921"
             ]
            ],
            "type": "contour"
           }
          ],
          "contourcarpet": [
           {
            "colorbar": {
             "outlinewidth": 0,
             "ticks": ""
            },
            "type": "contourcarpet"
           }
          ],
          "heatmap": [
           {
            "colorbar": {
             "outlinewidth": 0,
             "ticks": ""
            },
            "colorscale": [
             [
              0,
              "#0d0887"
             ],
             [
              0.1111111111111111,
              "#46039f"
             ],
             [
              0.2222222222222222,
              "#7201a8"
             ],
             [
              0.3333333333333333,
              "#9c179e"
             ],
             [
              0.4444444444444444,
              "#bd3786"
             ],
             [
              0.5555555555555556,
              "#d8576b"
             ],
             [
              0.6666666666666666,
              "#ed7953"
             ],
             [
              0.7777777777777778,
              "#fb9f3a"
             ],
             [
              0.8888888888888888,
              "#fdca26"
             ],
             [
              1,
              "#f0f921"
             ]
            ],
            "type": "heatmap"
           }
          ],
          "heatmapgl": [
           {
            "colorbar": {
             "outlinewidth": 0,
             "ticks": ""
            },
            "colorscale": [
             [
              0,
              "#0d0887"
             ],
             [
              0.1111111111111111,
              "#46039f"
             ],
             [
              0.2222222222222222,
              "#7201a8"
             ],
             [
              0.3333333333333333,
              "#9c179e"
             ],
             [
              0.4444444444444444,
              "#bd3786"
             ],
             [
              0.5555555555555556,
              "#d8576b"
             ],
             [
              0.6666666666666666,
              "#ed7953"
             ],
             [
              0.7777777777777778,
              "#fb9f3a"
             ],
             [
              0.8888888888888888,
              "#fdca26"
             ],
             [
              1,
              "#f0f921"
             ]
            ],
            "type": "heatmapgl"
           }
          ],
          "histogram": [
           {
            "marker": {
             "pattern": {
              "fillmode": "overlay",
              "size": 10,
              "solidity": 0.2
             }
            },
            "type": "histogram"
           }
          ],
          "histogram2d": [
           {
            "colorbar": {
             "outlinewidth": 0,
             "ticks": ""
            },
            "colorscale": [
             [
              0,
              "#0d0887"
             ],
             [
              0.1111111111111111,
              "#46039f"
             ],
             [
              0.2222222222222222,
              "#7201a8"
             ],
             [
              0.3333333333333333,
              "#9c179e"
             ],
             [
              0.4444444444444444,
              "#bd3786"
             ],
             [
              0.5555555555555556,
              "#d8576b"
             ],
             [
              0.6666666666666666,
              "#ed7953"
             ],
             [
              0.7777777777777778,
              "#fb9f3a"
             ],
             [
              0.8888888888888888,
              "#fdca26"
             ],
             [
              1,
              "#f0f921"
             ]
            ],
            "type": "histogram2d"
           }
          ],
          "histogram2dcontour": [
           {
            "colorbar": {
             "outlinewidth": 0,
             "ticks": ""
            },
            "colorscale": [
             [
              0,
              "#0d0887"
             ],
             [
              0.1111111111111111,
              "#46039f"
             ],
             [
              0.2222222222222222,
              "#7201a8"
             ],
             [
              0.3333333333333333,
              "#9c179e"
             ],
             [
              0.4444444444444444,
              "#bd3786"
             ],
             [
              0.5555555555555556,
              "#d8576b"
             ],
             [
              0.6666666666666666,
              "#ed7953"
             ],
             [
              0.7777777777777778,
              "#fb9f3a"
             ],
             [
              0.8888888888888888,
              "#fdca26"
             ],
             [
              1,
              "#f0f921"
             ]
            ],
            "type": "histogram2dcontour"
           }
          ],
          "mesh3d": [
           {
            "colorbar": {
             "outlinewidth": 0,
             "ticks": ""
            },
            "type": "mesh3d"
           }
          ],
          "parcoords": [
           {
            "line": {
             "colorbar": {
              "outlinewidth": 0,
              "ticks": ""
             }
            },
            "type": "parcoords"
           }
          ],
          "pie": [
           {
            "automargin": true,
            "type": "pie"
           }
          ],
          "scatter": [
           {
            "fillpattern": {
             "fillmode": "overlay",
             "size": 10,
             "solidity": 0.2
            },
            "type": "scatter"
           }
          ],
          "scatter3d": [
           {
            "line": {
             "colorbar": {
              "outlinewidth": 0,
              "ticks": ""
             }
            },
            "marker": {
             "colorbar": {
              "outlinewidth": 0,
              "ticks": ""
             }
            },
            "type": "scatter3d"
           }
          ],
          "scattercarpet": [
           {
            "marker": {
             "colorbar": {
              "outlinewidth": 0,
              "ticks": ""
             }
            },
            "type": "scattercarpet"
           }
          ],
          "scattergeo": [
           {
            "marker": {
             "colorbar": {
              "outlinewidth": 0,
              "ticks": ""
             }
            },
            "type": "scattergeo"
           }
          ],
          "scattergl": [
           {
            "marker": {
             "colorbar": {
              "outlinewidth": 0,
              "ticks": ""
             }
            },
            "type": "scattergl"
           }
          ],
          "scattermapbox": [
           {
            "marker": {
             "colorbar": {
              "outlinewidth": 0,
              "ticks": ""
             }
            },
            "type": "scattermapbox"
           }
          ],
          "scatterpolar": [
           {
            "marker": {
             "colorbar": {
              "outlinewidth": 0,
              "ticks": ""
             }
            },
            "type": "scatterpolar"
           }
          ],
          "scatterpolargl": [
           {
            "marker": {
             "colorbar": {
              "outlinewidth": 0,
              "ticks": ""
             }
            },
            "type": "scatterpolargl"
           }
          ],
          "scatterternary": [
           {
            "marker": {
             "colorbar": {
              "outlinewidth": 0,
              "ticks": ""
             }
            },
            "type": "scatterternary"
           }
          ],
          "surface": [
           {
            "colorbar": {
             "outlinewidth": 0,
             "ticks": ""
            },
            "colorscale": [
             [
              0,
              "#0d0887"
             ],
             [
              0.1111111111111111,
              "#46039f"
             ],
             [
              0.2222222222222222,
              "#7201a8"
             ],
             [
              0.3333333333333333,
              "#9c179e"
             ],
             [
              0.4444444444444444,
              "#bd3786"
             ],
             [
              0.5555555555555556,
              "#d8576b"
             ],
             [
              0.6666666666666666,
              "#ed7953"
             ],
             [
              0.7777777777777778,
              "#fb9f3a"
             ],
             [
              0.8888888888888888,
              "#fdca26"
             ],
             [
              1,
              "#f0f921"
             ]
            ],
            "type": "surface"
           }
          ],
          "table": [
           {
            "cells": {
             "fill": {
              "color": "#EBF0F8"
             },
             "line": {
              "color": "white"
             }
            },
            "header": {
             "fill": {
              "color": "#C8D4E3"
             },
             "line": {
              "color": "white"
             }
            },
            "type": "table"
           }
          ]
         },
         "layout": {
          "annotationdefaults": {
           "arrowcolor": "#2a3f5f",
           "arrowhead": 0,
           "arrowwidth": 1
          },
          "autotypenumbers": "strict",
          "coloraxis": {
           "colorbar": {
            "outlinewidth": 0,
            "ticks": ""
           }
          },
          "colorscale": {
           "diverging": [
            [
             0,
             "#8e0152"
            ],
            [
             0.1,
             "#c51b7d"
            ],
            [
             0.2,
             "#de77ae"
            ],
            [
             0.3,
             "#f1b6da"
            ],
            [
             0.4,
             "#fde0ef"
            ],
            [
             0.5,
             "#f7f7f7"
            ],
            [
             0.6,
             "#e6f5d0"
            ],
            [
             0.7,
             "#b8e186"
            ],
            [
             0.8,
             "#7fbc41"
            ],
            [
             0.9,
             "#4d9221"
            ],
            [
             1,
             "#276419"
            ]
           ],
           "sequential": [
            [
             0,
             "#0d0887"
            ],
            [
             0.1111111111111111,
             "#46039f"
            ],
            [
             0.2222222222222222,
             "#7201a8"
            ],
            [
             0.3333333333333333,
             "#9c179e"
            ],
            [
             0.4444444444444444,
             "#bd3786"
            ],
            [
             0.5555555555555556,
             "#d8576b"
            ],
            [
             0.6666666666666666,
             "#ed7953"
            ],
            [
             0.7777777777777778,
             "#fb9f3a"
            ],
            [
             0.8888888888888888,
             "#fdca26"
            ],
            [
             1,
             "#f0f921"
            ]
           ],
           "sequentialminus": [
            [
             0,
             "#0d0887"
            ],
            [
             0.1111111111111111,
             "#46039f"
            ],
            [
             0.2222222222222222,
             "#7201a8"
            ],
            [
             0.3333333333333333,
             "#9c179e"
            ],
            [
             0.4444444444444444,
             "#bd3786"
            ],
            [
             0.5555555555555556,
             "#d8576b"
            ],
            [
             0.6666666666666666,
             "#ed7953"
            ],
            [
             0.7777777777777778,
             "#fb9f3a"
            ],
            [
             0.8888888888888888,
             "#fdca26"
            ],
            [
             1,
             "#f0f921"
            ]
           ]
          },
          "colorway": [
           "#636efa",
           "#EF553B",
           "#00cc96",
           "#ab63fa",
           "#FFA15A",
           "#19d3f3",
           "#FF6692",
           "#B6E880",
           "#FF97FF",
           "#FECB52"
          ],
          "font": {
           "color": "#2a3f5f"
          },
          "geo": {
           "bgcolor": "white",
           "lakecolor": "white",
           "landcolor": "#E5ECF6",
           "showlakes": true,
           "showland": true,
           "subunitcolor": "white"
          },
          "hoverlabel": {
           "align": "left"
          },
          "hovermode": "closest",
          "mapbox": {
           "style": "light"
          },
          "paper_bgcolor": "white",
          "plot_bgcolor": "#E5ECF6",
          "polar": {
           "angularaxis": {
            "gridcolor": "white",
            "linecolor": "white",
            "ticks": ""
           },
           "bgcolor": "#E5ECF6",
           "radialaxis": {
            "gridcolor": "white",
            "linecolor": "white",
            "ticks": ""
           }
          },
          "scene": {
           "xaxis": {
            "backgroundcolor": "#E5ECF6",
            "gridcolor": "white",
            "gridwidth": 2,
            "linecolor": "white",
            "showbackground": true,
            "ticks": "",
            "zerolinecolor": "white"
           },
           "yaxis": {
            "backgroundcolor": "#E5ECF6",
            "gridcolor": "white",
            "gridwidth": 2,
            "linecolor": "white",
            "showbackground": true,
            "ticks": "",
            "zerolinecolor": "white"
           },
           "zaxis": {
            "backgroundcolor": "#E5ECF6",
            "gridcolor": "white",
            "gridwidth": 2,
            "linecolor": "white",
            "showbackground": true,
            "ticks": "",
            "zerolinecolor": "white"
           }
          },
          "shapedefaults": {
           "line": {
            "color": "#2a3f5f"
           }
          },
          "ternary": {
           "aaxis": {
            "gridcolor": "white",
            "linecolor": "white",
            "ticks": ""
           },
           "baxis": {
            "gridcolor": "white",
            "linecolor": "white",
            "ticks": ""
           },
           "bgcolor": "#E5ECF6",
           "caxis": {
            "gridcolor": "white",
            "linecolor": "white",
            "ticks": ""
           }
          },
          "title": {
           "x": 0.05
          },
          "xaxis": {
           "automargin": true,
           "gridcolor": "white",
           "linecolor": "white",
           "ticks": "",
           "title": {
            "standoff": 15
           },
           "zerolinecolor": "white",
           "zerolinewidth": 2
          },
          "yaxis": {
           "automargin": true,
           "gridcolor": "white",
           "linecolor": "white",
           "ticks": "",
           "title": {
            "standoff": 15
           },
           "zerolinecolor": "white",
           "zerolinewidth": 2
          }
         }
        },
        "title": {
         "text": "Grotrian Diagram for Oxygen I (Shell: All)",
         "x": 0.5
        },
        "width": 1000,
        "xaxis": {
         "anchor": "y",
         "domain": [
          0,
          0.258
         ],
         "fixedrange": true,
         "showticklabels": false
        },
        "xaxis2": {
         "anchor": "y2",
         "domain": [
          0.398,
          1
         ],
         "fixedrange": true,
         "showticklabels": false
        },
        "yaxis": {
         "anchor": "x",
         "domain": [
          0,
          1
         ],
         "fixedrange": true,
         "showticklabels": false
        },
        "yaxis2": {
         "anchor": "x2",
         "domain": [
          0,
          1
         ],
         "fixedrange": true,
         "range": [
          0,
          null
         ],
         "tickmode": "array",
         "ticktext": [
          "0.00e+00",
          "2.39e-02",
          "1.97e+00",
          "4.19e+00",
          "9.15e+00",
          "9.52e+00",
          "1.07e+01",
          "1.10e+01"
         ],
         "tickvals": [
          0,
          0.1,
          0.27724560738993026,
          0.47992689700710667,
          0.9319456261578879,
          0.9661704974083188,
          1.077359753690702,
          1.1
         ],
         "title": {
          "standoff": 5,
          "text": "Energy (eV)"
         }
        }
       }
      },
      "text/html": [
       "<div>                            <div id=\"6beabdad-b989-4b47-be58-c7c182dff068\" class=\"plotly-graph-div\" style=\"height:700px; width:1000px;\"></div>            <script type=\"text/javascript\">                require([\"plotly\"], function(Plotly) {                    window.PLOTLYENV=window.PLOTLYENV || {};                                    if (document.getElementById(\"6beabdad-b989-4b47-be58-c7c182dff068\")) {                    Plotly.newPlot(                        \"6beabdad-b989-4b47-be58-c7c182dff068\",                        [{\"hovertemplate\":\"Energy: 0.00e+00 eV<br>Population: 5.08e+01<extra></extra>\",\"line\":{\"color\":\"black\",\"width\":4.003},\"mode\":\"lines\",\"showlegend\":false,\"x\":[-0.05,0.07222222222222223,0.19444444444444448,0.3166666666666667,0.43888888888888894,0.5611111111111111,0.6833333333333333,0.8055555555555556,0.9277777777777778,1.05],\"y\":[0.0,0.0,0.0,0.0,0.0,0.0,0.0,0.0,0.0,0.0],\"type\":\"scatter\",\"xaxis\":\"x2\",\"yaxis\":\"y2\"},{\"hovertemplate\":\"Energy: 2.39e-02 eV<br>Population: 3.97e+01<extra></extra>\",\"line\":{\"color\":\"black\",\"width\":3.940533415955088},\"mode\":\"lines\",\"showlegend\":false,\"x\":[-0.05,0.07222222222222223,0.19444444444444448,0.3166666666666667,0.43888888888888894,0.5611111111111111,0.6833333333333333,0.8055555555555556,0.9277777777777778,1.05],\"y\":[0.1,0.1,0.1,0.1,0.1,0.1,0.1,0.1,0.1,0.1],\"type\":\"scatter\",\"xaxis\":\"x2\",\"yaxis\":\"y2\"},{\"hovertemplate\":\"Energy: 1.97e+00 eV<br>Population: 6.73e+00<extra></extra>\",\"line\":{\"color\":\"black\",\"width\":3.4890154955220174},\"mode\":\"lines\",\"showlegend\":false,\"x\":[-0.05,0.07222222222222223,0.19444444444444448,0.3166666666666667,0.43888888888888894,0.5611111111111111,0.6833333333333333,0.8055555555555556,0.9277777777777778,1.05],\"y\":[0.27724560738993026,0.27724560738993026,0.27724560738993026,0.27724560738993026,0.27724560738993026,0.27724560738993026,0.27724560738993026,0.27724560738993026,0.27724560738993026,0.27724560738993026],\"type\":\"scatter\",\"xaxis\":\"x2\",\"yaxis\":\"y2\"},{\"hovertemplate\":\"Energy: 4.19e+00 eV<br>Population: 1.38e-01<extra></extra>\",\"line\":{\"color\":\"black\",\"width\":2.49892208700926},\"mode\":\"lines\",\"showlegend\":false,\"x\":[-0.05,0.07222222222222223,0.19444444444444448,0.3166666666666667,0.43888888888888894,0.5611111111111111,0.6833333333333333,0.8055555555555556,0.9277777777777778,1.05],\"y\":[0.47992689700710667,0.47992689700710667,0.47992689700710667,0.47992689700710667,0.47992689700710667,0.47992689700710667,0.47992689700710667,0.47992689700710667,0.47992689700710667,0.47992689700710667],\"type\":\"scatter\",\"xaxis\":\"x2\",\"yaxis\":\"y2\"},{\"hovertemplate\":\"Energy: 9.15e+00 eV<br>Population: 4.25e-03<extra></extra>\",\"line\":{\"color\":\"black\",\"width\":1.6141148128816263},\"mode\":\"lines\",\"showlegend\":false,\"x\":[-0.05,0.07222222222222223,0.19444444444444448,0.3166666666666667,0.43888888888888894,0.5611111111111111,0.6833333333333333,0.8055555555555556,0.9277777777777778,1.05],\"y\":[0.9319456261578879,0.9319456261578879,0.9319456261578879,0.9319456261578879,0.9319456261578879,0.9319456261578879,0.9319456261578879,0.9319456261578879,0.9319456261578879,0.9319456261578879],\"type\":\"scatter\",\"xaxis\":\"x2\",\"yaxis\":\"y2\"},{\"hovertemplate\":\"Energy: 9.52e+00 eV<br>Population: 1.74e-03<extra></extra>\",\"line\":{\"color\":\"black\",\"width\":1.386134065197346},\"mode\":\"lines\",\"showlegend\":false,\"x\":[-0.05,0.07222222222222223,0.19444444444444448,0.3166666666666667,0.43888888888888894,0.5611111111111111,0.6833333333333333,0.8055555555555556,0.9277777777777778,1.05],\"y\":[0.9661704974083188,0.9661704974083188,0.9661704974083188,0.9661704974083188,0.9661704974083188,0.9661704974083188,0.9661704974083188,0.9661704974083188,0.9661704974083188,0.9661704974083188],\"type\":\"scatter\",\"xaxis\":\"x2\",\"yaxis\":\"y2\"},{\"hovertemplate\":\"Energy: 1.07e+01 eV<br>Population: 2.48e-03<extra></extra>\",\"line\":{\"color\":\"black\",\"width\":1.4773552469719584},\"mode\":\"lines\",\"showlegend\":false,\"x\":[-0.05,0.07222222222222223,0.19444444444444448,0.3166666666666667,0.43888888888888894,0.5611111111111111,0.6833333333333333,0.8055555555555556,0.9277777777777778,1.05],\"y\":[1.077359753690702,1.077359753690702,1.077359753690702,1.077359753690702,1.077359753690702,1.077359753690702,1.077359753690702,1.077359753690702,1.077359753690702,1.077359753690702],\"type\":\"scatter\",\"xaxis\":\"x2\",\"yaxis\":\"y2\"},{\"hovertemplate\":\"Energy: 1.10e+01 eV<br>Population: 3.85e-04<extra></extra>\",\"line\":{\"color\":\"black\",\"width\":1.003},\"mode\":\"lines\",\"showlegend\":false,\"x\":[-0.05,0.07222222222222223,0.19444444444444448,0.3166666666666667,0.43888888888888894,0.5611111111111111,0.6833333333333333,0.8055555555555556,0.9277777777777778,1.05],\"y\":[1.1,1.1,1.1,1.1,1.1,1.1,1.1,1.1,1.1,1.1],\"type\":\"scatter\",\"xaxis\":\"x2\",\"yaxis\":\"y2\"},{\"hovertemplate\":\"Count: 11<br>Wavelength: 1.30e+03 \\u212b<extra></extra>\",\"line\":{\"color\":\"#8000ff\",\"width\":1.582981914100094},\"marker\":{\"angleref\":\"previous\",\"color\":\"#8000ff\",\"size\":9,\"symbol\":\"arrow-bar-up\"},\"x\":[0,0.8664613492856591],\"y\":[0.0,0.9661704974083188],\"type\":\"scatter\",\"xaxis\":\"x2\",\"yaxis\":\"y2\"},{\"hovertemplate\":\"Count: 31<br>Wavelength: 1.31e+03 \\u212b<extra></extra>\",\"line\":{\"color\":\"#8000ff\",\"width\":2.9193596526333483},\"marker\":{\"angleref\":\"previous\",\"color\":\"#8000ff\",\"size\":9,\"symbol\":\"arrow-bar-up\"},\"x\":[0,0.8661704974083189],\"y\":[0.1,0.9661704974083188],\"type\":\"scatter\",\"xaxis\":\"x2\",\"yaxis\":\"y2\"},{\"hovertemplate\":\"Count: 9<br>Wavelength: 7.78e+03 \\u212b<extra></extra>\",\"line\":{\"color\":\"#ff0000\",\"width\":1.3241517447009206},\"marker\":{\"angleref\":\"previous\",\"color\":\"#ff0000\",\"size\":9,\"symbol\":\"arrow-bar-up\"},\"x\":[0,0.86528023167925],\"y\":[0.9319456261578879,1.077359753690702],\"type\":\"scatter\",\"xaxis\":\"x2\",\"yaxis\":\"y2\"},{\"hovertemplate\":\"Count: 7<br>Wavelength: 1.30e+03 \\u212b<extra></extra>\",\"line\":{\"color\":\"#8000ff\",\"width\":1.0},\"marker\":{\"angleref\":\"previous\",\"color\":\"#8000ff\",\"size\":9,\"symbol\":\"arrow-bar-up\"},\"x\":[0,0.8664613492856591],\"y\":[0.9661704974083188,0.0],\"type\":\"scatter\",\"xaxis\":\"x2\",\"yaxis\":\"y2\"},{\"hovertemplate\":\"Count: 33<br>Wavelength: 1.31e+03 \\u212b<extra></extra>\",\"line\":{\"color\":\"#8000ff\",\"width\":3.0},\"marker\":{\"angleref\":\"previous\",\"color\":\"#8000ff\",\"size\":9,\"symbol\":\"arrow-bar-up\"},\"x\":[0,0.8661704974083189],\"y\":[0.9661704974083188,0.1],\"type\":\"scatter\",\"xaxis\":\"x2\",\"yaxis\":\"y2\"},{\"hovertemplate\":\"Count: 17<br>Wavelength: 7.78e+03 \\u212b<extra></extra>\",\"line\":{\"color\":\"#ff0000\",\"width\":2.1444662397845144},\"marker\":{\"angleref\":\"previous\",\"color\":\"#ff0000\",\"size\":9,\"symbol\":\"arrow-bar-up\"},\"x\":[0,0.86528023167925],\"y\":[1.077359753690702,0.9319456261578879],\"type\":\"scatter\",\"xaxis\":\"x2\",\"yaxis\":\"y2\"},{\"hoverinfo\":\"none\",\"marker\":{\"cmax\":8.958793741798225,\"cmin\":7.171785846702633,\"colorbar\":{\"outlinewidth\":0,\"thickness\":5,\"ticktext\":[\"1.3e+03\",\"1.6e+03\",\"1.9e+03\",\"2.4e+03\",\"2.9e+03\",\"3.5e+03\",\"4.3e+03\",\"5.2e+03\",\"6.4e+03\",\"7.8e+03\"],\"tickvals\":[7.171785846702633,7.370342279491033,7.568898712279431,7.76745514506783,7.9660115778562295,8.164568010644627,8.363124443433026,8.561680876221427,8.760237309009824,8.958793741798223],\"title\":{\"font\":{\"size\":12},\"text\":\"Wavelength (\\u212b)<br>&nbsp;\"}},\"colorscale\":[[0.0,\"rgb(150,0,90)\"],[0.125,\"rgb(0,0,200)\"],[0.25,\"rgb(0,25,255)\"],[0.375,\"rgb(0,152,255)\"],[0.5,\"rgb(44,255,150)\"],[0.625,\"rgb(151,255,0)\"],[0.75,\"rgb(255,234,0)\"],[0.875,\"rgb(255,111,0)\"],[1.0,\"rgb(255,0,0)\"]],\"showscale\":true},\"mode\":\"markers\",\"x\":[null],\"y\":[null],\"type\":\"scatter\",\"xaxis\":\"x2\",\"yaxis\":\"y2\"}],                        {\"template\":{\"data\":{\"histogram2dcontour\":[{\"type\":\"histogram2dcontour\",\"colorbar\":{\"outlinewidth\":0,\"ticks\":\"\"},\"colorscale\":[[0.0,\"#0d0887\"],[0.1111111111111111,\"#46039f\"],[0.2222222222222222,\"#7201a8\"],[0.3333333333333333,\"#9c179e\"],[0.4444444444444444,\"#bd3786\"],[0.5555555555555556,\"#d8576b\"],[0.6666666666666666,\"#ed7953\"],[0.7777777777777778,\"#fb9f3a\"],[0.8888888888888888,\"#fdca26\"],[1.0,\"#f0f921\"]]}],\"choropleth\":[{\"type\":\"choropleth\",\"colorbar\":{\"outlinewidth\":0,\"ticks\":\"\"}}],\"histogram2d\":[{\"type\":\"histogram2d\",\"colorbar\":{\"outlinewidth\":0,\"ticks\":\"\"},\"colorscale\":[[0.0,\"#0d0887\"],[0.1111111111111111,\"#46039f\"],[0.2222222222222222,\"#7201a8\"],[0.3333333333333333,\"#9c179e\"],[0.4444444444444444,\"#bd3786\"],[0.5555555555555556,\"#d8576b\"],[0.6666666666666666,\"#ed7953\"],[0.7777777777777778,\"#fb9f3a\"],[0.8888888888888888,\"#fdca26\"],[1.0,\"#f0f921\"]]}],\"heatmap\":[{\"type\":\"heatmap\",\"colorbar\":{\"outlinewidth\":0,\"ticks\":\"\"},\"colorscale\":[[0.0,\"#0d0887\"],[0.1111111111111111,\"#46039f\"],[0.2222222222222222,\"#7201a8\"],[0.3333333333333333,\"#9c179e\"],[0.4444444444444444,\"#bd3786\"],[0.5555555555555556,\"#d8576b\"],[0.6666666666666666,\"#ed7953\"],[0.7777777777777778,\"#fb9f3a\"],[0.8888888888888888,\"#fdca26\"],[1.0,\"#f0f921\"]]}],\"heatmapgl\":[{\"type\":\"heatmapgl\",\"colorbar\":{\"outlinewidth\":0,\"ticks\":\"\"},\"colorscale\":[[0.0,\"#0d0887\"],[0.1111111111111111,\"#46039f\"],[0.2222222222222222,\"#7201a8\"],[0.3333333333333333,\"#9c179e\"],[0.4444444444444444,\"#bd3786\"],[0.5555555555555556,\"#d8576b\"],[0.6666666666666666,\"#ed7953\"],[0.7777777777777778,\"#fb9f3a\"],[0.8888888888888888,\"#fdca26\"],[1.0,\"#f0f921\"]]}],\"contourcarpet\":[{\"type\":\"contourcarpet\",\"colorbar\":{\"outlinewidth\":0,\"ticks\":\"\"}}],\"contour\":[{\"type\":\"contour\",\"colorbar\":{\"outlinewidth\":0,\"ticks\":\"\"},\"colorscale\":[[0.0,\"#0d0887\"],[0.1111111111111111,\"#46039f\"],[0.2222222222222222,\"#7201a8\"],[0.3333333333333333,\"#9c179e\"],[0.4444444444444444,\"#bd3786\"],[0.5555555555555556,\"#d8576b\"],[0.6666666666666666,\"#ed7953\"],[0.7777777777777778,\"#fb9f3a\"],[0.8888888888888888,\"#fdca26\"],[1.0,\"#f0f921\"]]}],\"surface\":[{\"type\":\"surface\",\"colorbar\":{\"outlinewidth\":0,\"ticks\":\"\"},\"colorscale\":[[0.0,\"#0d0887\"],[0.1111111111111111,\"#46039f\"],[0.2222222222222222,\"#7201a8\"],[0.3333333333333333,\"#9c179e\"],[0.4444444444444444,\"#bd3786\"],[0.5555555555555556,\"#d8576b\"],[0.6666666666666666,\"#ed7953\"],[0.7777777777777778,\"#fb9f3a\"],[0.8888888888888888,\"#fdca26\"],[1.0,\"#f0f921\"]]}],\"mesh3d\":[{\"type\":\"mesh3d\",\"colorbar\":{\"outlinewidth\":0,\"ticks\":\"\"}}],\"scatter\":[{\"fillpattern\":{\"fillmode\":\"overlay\",\"size\":10,\"solidity\":0.2},\"type\":\"scatter\"}],\"parcoords\":[{\"type\":\"parcoords\",\"line\":{\"colorbar\":{\"outlinewidth\":0,\"ticks\":\"\"}}}],\"scatterpolargl\":[{\"type\":\"scatterpolargl\",\"marker\":{\"colorbar\":{\"outlinewidth\":0,\"ticks\":\"\"}}}],\"bar\":[{\"error_x\":{\"color\":\"#2a3f5f\"},\"error_y\":{\"color\":\"#2a3f5f\"},\"marker\":{\"line\":{\"color\":\"#E5ECF6\",\"width\":0.5},\"pattern\":{\"fillmode\":\"overlay\",\"size\":10,\"solidity\":0.2}},\"type\":\"bar\"}],\"scattergeo\":[{\"type\":\"scattergeo\",\"marker\":{\"colorbar\":{\"outlinewidth\":0,\"ticks\":\"\"}}}],\"scatterpolar\":[{\"type\":\"scatterpolar\",\"marker\":{\"colorbar\":{\"outlinewidth\":0,\"ticks\":\"\"}}}],\"histogram\":[{\"marker\":{\"pattern\":{\"fillmode\":\"overlay\",\"size\":10,\"solidity\":0.2}},\"type\":\"histogram\"}],\"scattergl\":[{\"type\":\"scattergl\",\"marker\":{\"colorbar\":{\"outlinewidth\":0,\"ticks\":\"\"}}}],\"scatter3d\":[{\"type\":\"scatter3d\",\"line\":{\"colorbar\":{\"outlinewidth\":0,\"ticks\":\"\"}},\"marker\":{\"colorbar\":{\"outlinewidth\":0,\"ticks\":\"\"}}}],\"scattermapbox\":[{\"type\":\"scattermapbox\",\"marker\":{\"colorbar\":{\"outlinewidth\":0,\"ticks\":\"\"}}}],\"scatterternary\":[{\"type\":\"scatterternary\",\"marker\":{\"colorbar\":{\"outlinewidth\":0,\"ticks\":\"\"}}}],\"scattercarpet\":[{\"type\":\"scattercarpet\",\"marker\":{\"colorbar\":{\"outlinewidth\":0,\"ticks\":\"\"}}}],\"carpet\":[{\"aaxis\":{\"endlinecolor\":\"#2a3f5f\",\"gridcolor\":\"white\",\"linecolor\":\"white\",\"minorgridcolor\":\"white\",\"startlinecolor\":\"#2a3f5f\"},\"baxis\":{\"endlinecolor\":\"#2a3f5f\",\"gridcolor\":\"white\",\"linecolor\":\"white\",\"minorgridcolor\":\"white\",\"startlinecolor\":\"#2a3f5f\"},\"type\":\"carpet\"}],\"table\":[{\"cells\":{\"fill\":{\"color\":\"#EBF0F8\"},\"line\":{\"color\":\"white\"}},\"header\":{\"fill\":{\"color\":\"#C8D4E3\"},\"line\":{\"color\":\"white\"}},\"type\":\"table\"}],\"barpolar\":[{\"marker\":{\"line\":{\"color\":\"#E5ECF6\",\"width\":0.5},\"pattern\":{\"fillmode\":\"overlay\",\"size\":10,\"solidity\":0.2}},\"type\":\"barpolar\"}],\"pie\":[{\"automargin\":true,\"type\":\"pie\"}]},\"layout\":{\"autotypenumbers\":\"strict\",\"colorway\":[\"#636efa\",\"#EF553B\",\"#00cc96\",\"#ab63fa\",\"#FFA15A\",\"#19d3f3\",\"#FF6692\",\"#B6E880\",\"#FF97FF\",\"#FECB52\"],\"font\":{\"color\":\"#2a3f5f\"},\"hovermode\":\"closest\",\"hoverlabel\":{\"align\":\"left\"},\"paper_bgcolor\":\"white\",\"plot_bgcolor\":\"#E5ECF6\",\"polar\":{\"bgcolor\":\"#E5ECF6\",\"angularaxis\":{\"gridcolor\":\"white\",\"linecolor\":\"white\",\"ticks\":\"\"},\"radialaxis\":{\"gridcolor\":\"white\",\"linecolor\":\"white\",\"ticks\":\"\"}},\"ternary\":{\"bgcolor\":\"#E5ECF6\",\"aaxis\":{\"gridcolor\":\"white\",\"linecolor\":\"white\",\"ticks\":\"\"},\"baxis\":{\"gridcolor\":\"white\",\"linecolor\":\"white\",\"ticks\":\"\"},\"caxis\":{\"gridcolor\":\"white\",\"linecolor\":\"white\",\"ticks\":\"\"}},\"coloraxis\":{\"colorbar\":{\"outlinewidth\":0,\"ticks\":\"\"}},\"colorscale\":{\"sequential\":[[0.0,\"#0d0887\"],[0.1111111111111111,\"#46039f\"],[0.2222222222222222,\"#7201a8\"],[0.3333333333333333,\"#9c179e\"],[0.4444444444444444,\"#bd3786\"],[0.5555555555555556,\"#d8576b\"],[0.6666666666666666,\"#ed7953\"],[0.7777777777777778,\"#fb9f3a\"],[0.8888888888888888,\"#fdca26\"],[1.0,\"#f0f921\"]],\"sequentialminus\":[[0.0,\"#0d0887\"],[0.1111111111111111,\"#46039f\"],[0.2222222222222222,\"#7201a8\"],[0.3333333333333333,\"#9c179e\"],[0.4444444444444444,\"#bd3786\"],[0.5555555555555556,\"#d8576b\"],[0.6666666666666666,\"#ed7953\"],[0.7777777777777778,\"#fb9f3a\"],[0.8888888888888888,\"#fdca26\"],[1.0,\"#f0f921\"]],\"diverging\":[[0,\"#8e0152\"],[0.1,\"#c51b7d\"],[0.2,\"#de77ae\"],[0.3,\"#f1b6da\"],[0.4,\"#fde0ef\"],[0.5,\"#f7f7f7\"],[0.6,\"#e6f5d0\"],[0.7,\"#b8e186\"],[0.8,\"#7fbc41\"],[0.9,\"#4d9221\"],[1,\"#276419\"]]},\"xaxis\":{\"gridcolor\":\"white\",\"linecolor\":\"white\",\"ticks\":\"\",\"title\":{\"standoff\":15},\"zerolinecolor\":\"white\",\"automargin\":true,\"zerolinewidth\":2},\"yaxis\":{\"gridcolor\":\"white\",\"linecolor\":\"white\",\"ticks\":\"\",\"title\":{\"standoff\":15},\"zerolinecolor\":\"white\",\"automargin\":true,\"zerolinewidth\":2},\"scene\":{\"xaxis\":{\"backgroundcolor\":\"#E5ECF6\",\"gridcolor\":\"white\",\"linecolor\":\"white\",\"showbackground\":true,\"ticks\":\"\",\"zerolinecolor\":\"white\",\"gridwidth\":2},\"yaxis\":{\"backgroundcolor\":\"#E5ECF6\",\"gridcolor\":\"white\",\"linecolor\":\"white\",\"showbackground\":true,\"ticks\":\"\",\"zerolinecolor\":\"white\",\"gridwidth\":2},\"zaxis\":{\"backgroundcolor\":\"#E5ECF6\",\"gridcolor\":\"white\",\"linecolor\":\"white\",\"showbackground\":true,\"ticks\":\"\",\"zerolinecolor\":\"white\",\"gridwidth\":2}},\"shapedefaults\":{\"line\":{\"color\":\"#2a3f5f\"}},\"annotationdefaults\":{\"arrowcolor\":\"#2a3f5f\",\"arrowhead\":0,\"arrowwidth\":1},\"geo\":{\"bgcolor\":\"white\",\"landcolor\":\"#E5ECF6\",\"subunitcolor\":\"white\",\"showland\":true,\"showlakes\":true,\"lakecolor\":\"white\"},\"title\":{\"x\":0.05},\"mapbox\":{\"style\":\"light\"}}},\"xaxis\":{\"anchor\":\"y\",\"domain\":[0.0,0.258],\"showticklabels\":false,\"fixedrange\":true},\"yaxis\":{\"anchor\":\"x\",\"domain\":[0.0,1.0],\"showticklabels\":false,\"fixedrange\":true},\"xaxis2\":{\"anchor\":\"y2\",\"domain\":[0.398,1.0],\"showticklabels\":false,\"fixedrange\":true},\"yaxis2\":{\"anchor\":\"x2\",\"domain\":[0.0,1.0],\"title\":{\"text\":\"Energy (eV)\",\"standoff\":5},\"range\":[0,null],\"tickmode\":\"array\",\"tickvals\":[0.0,0.1,0.27724560738993026,0.47992689700710667,0.9319456261578879,0.9661704974083188,1.077359753690702,1.1],\"ticktext\":[\"0.00e+00\",\"2.39e-02\",\"1.97e+00\",\"4.19e+00\",\"9.15e+00\",\"9.52e+00\",\"1.07e+01\",\"1.10e+01\"],\"fixedrange\":true},\"title\":{\"text\":\"Grotrian Diagram for Oxygen I (Shell: All)\",\"x\":0.5},\"plot_bgcolor\":\"white\",\"autosize\":false,\"width\":1000,\"height\":700,\"showlegend\":false,\"annotations\":[{\"showarrow\":false,\"text\":\"n=0\",\"x\":1.1,\"xref\":\"x2\",\"y\":0.0,\"yref\":\"y2\"},{\"showarrow\":false,\"text\":\"n=1\",\"x\":1.1,\"xref\":\"x2\",\"y\":0.1,\"yref\":\"y2\"},{\"showarrow\":false,\"text\":\"n=2\",\"x\":1.1,\"xref\":\"x2\",\"y\":0.27724560738993026,\"yref\":\"y2\"},{\"showarrow\":false,\"text\":\"n=3\",\"x\":1.1,\"xref\":\"x2\",\"y\":0.47992689700710667,\"yref\":\"y2\"},{\"showarrow\":false,\"text\":\"n=4\",\"x\":1.1,\"xref\":\"x2\",\"y\":0.9319456261578879,\"yref\":\"y2\"},{\"showarrow\":false,\"text\":\"n=5\",\"x\":1.1,\"xref\":\"x2\",\"y\":0.9661704974083188,\"yref\":\"y2\"},{\"showarrow\":false,\"text\":\"n=6\",\"x\":1.1,\"xref\":\"x2\",\"y\":1.077359753690702,\"yref\":\"y2\"},{\"showarrow\":false,\"text\":\"n=7\",\"x\":1.1,\"xref\":\"x2\",\"y\":1.1,\"yref\":\"y2\"},{\"showarrow\":false,\"text\":\"3.9e-04\",\"x\":0.35,\"xref\":\"x\",\"y\":0.0,\"yref\":\"y\"},{\"showarrow\":false,\"text\":\"1.4e-03\",\"x\":0.35,\"xref\":\"x\",\"y\":0.1111111111111111,\"yref\":\"y\"},{\"showarrow\":false,\"text\":\"5.3e-03\",\"x\":0.35,\"xref\":\"x\",\"y\":0.2222222222222222,\"yref\":\"y\"},{\"showarrow\":false,\"text\":\"2.0e-02\",\"x\":0.35,\"xref\":\"x\",\"y\":0.3333333333333333,\"yref\":\"y\"},{\"showarrow\":false,\"text\":\"7.3e-02\",\"x\":0.35,\"xref\":\"x\",\"y\":0.4444444444444444,\"yref\":\"y\"},{\"showarrow\":false,\"text\":\"2.7e-01\",\"x\":0.35,\"xref\":\"x\",\"y\":0.5555555555555556,\"yref\":\"y\"},{\"showarrow\":false,\"text\":\"1.0e+00\",\"x\":0.35,\"xref\":\"x\",\"y\":0.6666666666666666,\"yref\":\"y\"},{\"showarrow\":false,\"text\":\"3.7e+00\",\"x\":0.35,\"xref\":\"x\",\"y\":0.7777777777777777,\"yref\":\"y\"},{\"showarrow\":false,\"text\":\"1.4e+01\",\"x\":0.35,\"xref\":\"x\",\"y\":0.8888888888888888,\"yref\":\"y\"},{\"showarrow\":false,\"text\":\"5.1e+01\",\"x\":0.35,\"xref\":\"x\",\"y\":1.0,\"yref\":\"y\"},{\"showarrow\":false,\"text\":\"Populations\",\"x\":0.28,\"xref\":\"x\",\"y\":-0.08,\"yref\":\"y\"},{\"showarrow\":false,\"text\":\"7.0e+00\",\"x\":0.9,\"xref\":\"x\",\"y\":0.0,\"yref\":\"y\"},{\"showarrow\":false,\"text\":\"8.3e+00\",\"x\":0.9,\"xref\":\"x\",\"y\":0.1111111111111111,\"yref\":\"y\"},{\"showarrow\":false,\"text\":\"9.9e+00\",\"x\":0.9,\"xref\":\"x\",\"y\":0.2222222222222222,\"yref\":\"y\"},{\"showarrow\":false,\"text\":\"1.2e+01\",\"x\":0.9,\"xref\":\"x\",\"y\":0.3333333333333333,\"yref\":\"y\"},{\"showarrow\":false,\"text\":\"1.4e+01\",\"x\":0.9,\"xref\":\"x\",\"y\":0.4444444444444444,\"yref\":\"y\"},{\"showarrow\":false,\"text\":\"1.7e+01\",\"x\":0.9,\"xref\":\"x\",\"y\":0.5555555555555556,\"yref\":\"y\"},{\"showarrow\":false,\"text\":\"2.0e+01\",\"x\":0.9,\"xref\":\"x\",\"y\":0.6666666666666666,\"yref\":\"y\"},{\"showarrow\":false,\"text\":\"2.3e+01\",\"x\":0.9,\"xref\":\"x\",\"y\":0.7777777777777777,\"yref\":\"y\"},{\"showarrow\":false,\"text\":\"2.8e+01\",\"x\":0.9,\"xref\":\"x\",\"y\":0.8888888888888888,\"yref\":\"y\"},{\"showarrow\":false,\"text\":\"3.3e+01\",\"x\":0.9,\"xref\":\"x\",\"y\":1.0,\"yref\":\"y\"},{\"showarrow\":false,\"text\":\"#Packets\",\"x\":0.83,\"xref\":\"x\",\"y\":-0.08,\"yref\":\"y\"}],\"shapes\":[{\"line\":{\"width\":1.003},\"type\":\"line\",\"x0\":0.1,\"x1\":0.2,\"xref\":\"x\",\"y0\":0.0,\"y1\":0.0,\"yref\":\"y\"},{\"line\":{\"width\":1.3363333333333332},\"type\":\"line\",\"x0\":0.1,\"x1\":0.2,\"xref\":\"x\",\"y0\":0.1111111111111111,\"y1\":0.1111111111111111,\"yref\":\"y\"},{\"line\":{\"width\":1.6696666666666666},\"type\":\"line\",\"x0\":0.1,\"x1\":0.2,\"xref\":\"x\",\"y0\":0.2222222222222222,\"y1\":0.2222222222222222,\"yref\":\"y\"},{\"line\":{\"width\":2.003},\"type\":\"line\",\"x0\":0.1,\"x1\":0.2,\"xref\":\"x\",\"y0\":0.3333333333333333,\"y1\":0.3333333333333333,\"yref\":\"y\"},{\"line\":{\"width\":2.336333333333333},\"type\":\"line\",\"x0\":0.1,\"x1\":0.2,\"xref\":\"x\",\"y0\":0.4444444444444444,\"y1\":0.4444444444444444,\"yref\":\"y\"},{\"line\":{\"width\":2.669666666666666},\"type\":\"line\",\"x0\":0.1,\"x1\":0.2,\"xref\":\"x\",\"y0\":0.5555555555555556,\"y1\":0.5555555555555556,\"yref\":\"y\"},{\"line\":{\"width\":3.003},\"type\":\"line\",\"x0\":0.1,\"x1\":0.2,\"xref\":\"x\",\"y0\":0.6666666666666666,\"y1\":0.6666666666666666,\"yref\":\"y\"},{\"line\":{\"width\":3.336333333333333},\"type\":\"line\",\"x0\":0.1,\"x1\":0.2,\"xref\":\"x\",\"y0\":0.7777777777777777,\"y1\":0.7777777777777777,\"yref\":\"y\"},{\"line\":{\"width\":3.669666666666666},\"type\":\"line\",\"x0\":0.1,\"x1\":0.2,\"xref\":\"x\",\"y0\":0.8888888888888888,\"y1\":0.8888888888888888,\"yref\":\"y\"},{\"line\":{\"width\":4.003},\"type\":\"line\",\"x0\":0.1,\"x1\":0.2,\"xref\":\"x\",\"y0\":1.0,\"y1\":1.0,\"yref\":\"y\"},{\"line\":{\"color\":\"grey\",\"dash\":\"dash\",\"width\":0.5},\"type\":\"line\",\"x0\":0.55,\"x1\":0.55,\"xref\":\"x\",\"y0\":0,\"y1\":1,\"yref\":\"y\"},{\"line\":{\"width\":1.0},\"type\":\"line\",\"x0\":0.65,\"x1\":0.75,\"xref\":\"x\",\"y0\":0.0,\"y1\":0.0,\"yref\":\"y\"},{\"line\":{\"width\":1.2222222222222223},\"type\":\"line\",\"x0\":0.65,\"x1\":0.75,\"xref\":\"x\",\"y0\":0.1111111111111111,\"y1\":0.1111111111111111,\"yref\":\"y\"},{\"line\":{\"width\":1.4444444444444444},\"type\":\"line\",\"x0\":0.65,\"x1\":0.75,\"xref\":\"x\",\"y0\":0.2222222222222222,\"y1\":0.2222222222222222,\"yref\":\"y\"},{\"line\":{\"width\":1.6666666666666665},\"type\":\"line\",\"x0\":0.65,\"x1\":0.75,\"xref\":\"x\",\"y0\":0.3333333333333333,\"y1\":0.3333333333333333,\"yref\":\"y\"},{\"line\":{\"width\":1.8888888888888888},\"type\":\"line\",\"x0\":0.65,\"x1\":0.75,\"xref\":\"x\",\"y0\":0.4444444444444444,\"y1\":0.4444444444444444,\"yref\":\"y\"},{\"line\":{\"width\":2.111111111111111},\"type\":\"line\",\"x0\":0.65,\"x1\":0.75,\"xref\":\"x\",\"y0\":0.5555555555555556,\"y1\":0.5555555555555556,\"yref\":\"y\"},{\"line\":{\"width\":2.333333333333333},\"type\":\"line\",\"x0\":0.65,\"x1\":0.75,\"xref\":\"x\",\"y0\":0.6666666666666666,\"y1\":0.6666666666666666,\"yref\":\"y\"},{\"line\":{\"width\":2.5555555555555554},\"type\":\"line\",\"x0\":0.65,\"x1\":0.75,\"xref\":\"x\",\"y0\":0.7777777777777777,\"y1\":0.7777777777777777,\"yref\":\"y\"},{\"line\":{\"width\":2.7777777777777777},\"type\":\"line\",\"x0\":0.65,\"x1\":0.75,\"xref\":\"x\",\"y0\":0.8888888888888888,\"y1\":0.8888888888888888,\"yref\":\"y\"},{\"line\":{\"width\":3.0},\"type\":\"line\",\"x0\":0.65,\"x1\":0.75,\"xref\":\"x\",\"y0\":1.0,\"y1\":1.0,\"yref\":\"y\"}]},                        {\"responsive\": true}                    ).then(function(){\n",
       "                            \n",
       "var gd = document.getElementById('6beabdad-b989-4b47-be58-c7c182dff068');\n",
       "var x = new MutationObserver(function (mutations, observer) {{\n",
       "        var display = window.getComputedStyle(gd).display;\n",
       "        if (!display || display === 'none') {{\n",
       "            console.log([gd, 'removed!']);\n",
       "            Plotly.purge(gd);\n",
       "            observer.disconnect();\n",
       "        }}\n",
       "}});\n",
       "\n",
       "// Listen for the removal of the full notebook cells\n",
       "var notebookContainer = gd.closest('#notebook-container');\n",
       "if (notebookContainer) {{\n",
       "    x.observe(notebookContainer, {childList: true});\n",
       "}}\n",
       "\n",
       "// Listen for the clearing of the current output cell\n",
       "var outputEl = gd.closest('.output');\n",
       "if (outputEl) {{\n",
       "    x.observe(outputEl, {childList: true});\n",
       "}}\n",
       "\n",
       "                        })                };                });            </script>        </div>"
      ]
     },
     "metadata": {},
     "output_type": "display_data"
    }
   ],
   "source": [
    "diag = GrotrianWidget.from_simulation(sim)\n",
    "diag.set_ion(8, 0) # O I\n",
    "diag.display()"
   ]
  },
  {
   "cell_type": "code",
   "execution_count": 6,
   "metadata": {},
   "outputs": [
    {
     "data": {
      "application/vnd.plotly.v1+json": {
       "config": {
        "plotlyServerURL": "https://plot.ly"
       },
       "data": [
        {
         "hovertemplate": "Energy: 0.00e+00 eV<br>Population: 4.57e+02<extra></extra>",
         "line": {
          "color": "black",
          "width": 4.003
         },
         "mode": "lines",
         "showlegend": false,
         "type": "scatter",
         "x": [
          -0.05,
          0.07222222222222223,
          0.19444444444444448,
          0.3166666666666667,
          0.43888888888888894,
          0.5611111111111111,
          0.6833333333333333,
          0.8055555555555556,
          0.9277777777777778,
          1.05
         ],
         "xaxis": "x2",
         "y": [
          0,
          0,
          0,
          0,
          0,
          0,
          0,
          0,
          0,
          0
         ],
         "yaxis": "y2"
        },
        {
         "hovertemplate": "Energy: 2.39e-02 eV<br>Population: 3.58e+02<extra></extra>",
         "line": {
          "color": "black",
          "width": 3.9408892564087155
         },
         "mode": "lines",
         "showlegend": false,
         "type": "scatter",
         "x": [
          -0.05,
          0.07222222222222223,
          0.19444444444444448,
          0.3166666666666667,
          0.43888888888888894,
          0.5611111111111111,
          0.6833333333333333,
          0.8055555555555556,
          0.9277777777777778,
          1.05
         ],
         "xaxis": "x2",
         "y": [
          0.1,
          0.1,
          0.1,
          0.1,
          0.1,
          0.1,
          0.1,
          0.1,
          0.1,
          0.1
         ],
         "yaxis": "y2"
        },
        {
         "hovertemplate": "Energy: 1.97e+00 eV<br>Population: 5.99e+01<extra></extra>",
         "line": {
          "color": "black",
          "width": 3.489026566703482
         },
         "mode": "lines",
         "showlegend": false,
         "type": "scatter",
         "x": [
          -0.05,
          0.07222222222222223,
          0.19444444444444448,
          0.3166666666666667,
          0.43888888888888894,
          0.5611111111111111,
          0.6833333333333333,
          0.8055555555555556,
          0.9277777777777778,
          1.05
         ],
         "xaxis": "x2",
         "y": [
          0.27724560738993026,
          0.27724560738993026,
          0.27724560738993026,
          0.27724560738993026,
          0.27724560738993026,
          0.27724560738993026,
          0.27724560738993026,
          0.27724560738993026,
          0.27724560738993026,
          0.27724560738993026
         ],
         "yaxis": "y2"
        },
        {
         "hovertemplate": "Energy: 4.19e+00 eV<br>Population: 1.21e+00<extra></extra>",
         "line": {
          "color": "black",
          "width": 2.5014257774925226
         },
         "mode": "lines",
         "showlegend": false,
         "type": "scatter",
         "x": [
          -0.05,
          0.07222222222222223,
          0.19444444444444448,
          0.3166666666666667,
          0.43888888888888894,
          0.5611111111111111,
          0.6833333333333333,
          0.8055555555555556,
          0.9277777777777778,
          1.05
         ],
         "xaxis": "x2",
         "y": [
          0.47992689700710667,
          0.47992689700710667,
          0.47992689700710667,
          0.47992689700710667,
          0.47992689700710667,
          0.47992689700710667,
          0.47992689700710667,
          0.47992689700710667,
          0.47992689700710667,
          0.47992689700710667
         ],
         "yaxis": "y2"
        },
        {
         "hovertemplate": "Energy: 9.15e+00 eV<br>Population: 3.60e-02<extra></extra>",
         "line": {
          "color": "black",
          "width": 1.6135857851483588
         },
         "mode": "lines",
         "showlegend": false,
         "type": "scatter",
         "x": [
          -0.05,
          0.07222222222222223,
          0.19444444444444448,
          0.3166666666666667,
          0.43888888888888894,
          0.5611111111111111,
          0.6833333333333333,
          0.8055555555555556,
          0.9277777777777778,
          1.05
         ],
         "xaxis": "x2",
         "y": [
          0.9319456261578879,
          0.9319456261578879,
          0.9319456261578879,
          0.9319456261578879,
          0.9319456261578879,
          0.9319456261578879,
          0.9319456261578879,
          0.9319456261578879,
          0.9319456261578879,
          0.9319456261578879
         ],
         "yaxis": "y2"
        },
        {
         "hovertemplate": "Energy: 9.52e+00 eV<br>Population: 1.47e-02<extra></extra>",
         "line": {
          "color": "black",
          "width": 1.3863653577832453
         },
         "mode": "lines",
         "showlegend": false,
         "type": "scatter",
         "x": [
          -0.05,
          0.07222222222222223,
          0.19444444444444448,
          0.3166666666666667,
          0.43888888888888894,
          0.5611111111111111,
          0.6833333333333333,
          0.8055555555555556,
          0.9277777777777778,
          1.05
         ],
         "xaxis": "x2",
         "y": [
          0.9661704974083188,
          0.9661704974083188,
          0.9661704974083188,
          0.9661704974083188,
          0.9661704974083188,
          0.9661704974083188,
          0.9661704974083188,
          0.9661704974083188,
          0.9661704974083188,
          0.9661704974083188
         ],
         "yaxis": "y2"
        },
        {
         "hovertemplate": "Energy: 1.07e+01 eV<br>Population: 2.08e-02<extra></extra>",
         "line": {
          "color": "black",
          "width": 1.474834169004034
         },
         "mode": "lines",
         "showlegend": false,
         "type": "scatter",
         "x": [
          -0.05,
          0.07222222222222223,
          0.19444444444444448,
          0.3166666666666667,
          0.43888888888888894,
          0.5611111111111111,
          0.6833333333333333,
          0.8055555555555556,
          0.9277777777777778,
          1.05
         ],
         "xaxis": "x2",
         "y": [
          1.077359753690702,
          1.077359753690702,
          1.077359753690702,
          1.077359753690702,
          1.077359753690702,
          1.077359753690702,
          1.077359753690702,
          1.077359753690702,
          1.077359753690702,
          1.077359753690702
         ],
         "yaxis": "y2"
        },
        {
         "hovertemplate": "Energy: 1.10e+01 eV<br>Population: 3.22e-03<extra></extra>",
         "line": {
          "color": "black",
          "width": 1.003
         },
         "mode": "lines",
         "showlegend": false,
         "type": "scatter",
         "x": [
          -0.05,
          0.07222222222222223,
          0.19444444444444448,
          0.3166666666666667,
          0.43888888888888894,
          0.5611111111111111,
          0.6833333333333333,
          0.8055555555555556,
          0.9277777777777778,
          1.05
         ],
         "xaxis": "x2",
         "y": [
          1.1,
          1.1,
          1.1,
          1.1,
          1.1,
          1.1,
          1.1,
          1.1,
          1.1,
          1.1
         ],
         "yaxis": "y2"
        },
        {
         "hovertemplate": "Count: 7<br>Wavelength: 1.30e+03 Å<extra></extra>",
         "line": {
          "color": "#8000ff",
          "width": 1.5649827087262111
         },
         "marker": {
          "angleref": "previous",
          "color": "#8000ff",
          "size": 9,
          "symbol": "arrow-bar-up"
         },
         "type": "scatter",
         "x": [
          0,
          0.8664613492856591
         ],
         "xaxis": "x2",
         "y": [
          0,
          0.9661704974083188
         ],
         "yaxis": "y2"
        },
        {
         "hovertemplate": "Count: 29<br>Wavelength: 1.31e+03 Å<extra></extra>",
         "line": {
          "color": "#8000ff",
          "width": 3
         },
         "marker": {
          "angleref": "previous",
          "color": "#8000ff",
          "size": 9,
          "symbol": "arrow-bar-up"
         },
         "type": "scatter",
         "x": [
          0,
          0.8661704974083189
         ],
         "xaxis": "x2",
         "y": [
          0.1,
          0.9661704974083188
         ],
         "yaxis": "y2"
        },
        {
         "hovertemplate": "Count: 7<br>Wavelength: 1.30e+03 Å<extra></extra>",
         "line": {
          "color": "#8000ff",
          "width": 1.5649827087262111
         },
         "marker": {
          "angleref": "previous",
          "color": "#8000ff",
          "size": 9,
          "symbol": "arrow-bar-up"
         },
         "type": "scatter",
         "x": [
          0,
          0.8664613492856591
         ],
         "xaxis": "x2",
         "y": [
          0.9661704974083188,
          0
         ],
         "yaxis": "y2"
        },
        {
         "hovertemplate": "Count: 27<br>Wavelength: 1.31e+03 Å<extra></extra>",
         "line": {
          "color": "#8000ff",
          "width": 2.927855718327125
         },
         "marker": {
          "angleref": "previous",
          "color": "#8000ff",
          "size": 9,
          "symbol": "arrow-bar-up"
         },
         "type": "scatter",
         "x": [
          0,
          0.8661704974083189
         ],
         "xaxis": "x2",
         "y": [
          0.9661704974083188,
          0.1
         ],
         "yaxis": "y2"
        },
        {
         "hovertemplate": "Count: 4<br>Wavelength: 7.78e+03 Å<extra></extra>",
         "line": {
          "color": "#ff0000",
          "width": 1
         },
         "marker": {
          "angleref": "previous",
          "color": "#ff0000",
          "size": 9,
          "symbol": "arrow-bar-up"
         },
         "type": "scatter",
         "x": [
          0,
          0.86528023167925
         ],
         "xaxis": "x2",
         "y": [
          1.077359753690702,
          0.9319456261578879
         ],
         "yaxis": "y2"
        },
        {
         "hoverinfo": "none",
         "marker": {
          "cmax": 8.958793741798225,
          "cmin": 7.171785846702633,
          "colorbar": {
           "outlinewidth": 0,
           "thickness": 5,
           "ticktext": [
            "1.3e+03",
            "1.6e+03",
            "1.9e+03",
            "2.4e+03",
            "2.9e+03",
            "3.5e+03",
            "4.3e+03",
            "5.2e+03",
            "6.4e+03",
            "7.8e+03"
           ],
           "tickvals": [
            7.171785846702633,
            7.370342279491033,
            7.568898712279431,
            7.76745514506783,
            7.9660115778562295,
            8.164568010644627,
            8.363124443433026,
            8.561680876221427,
            8.760237309009824,
            8.958793741798223
           ],
           "title": {
            "font": {
             "size": 12
            },
            "text": "Wavelength (Å)<br>&nbsp;"
           }
          },
          "colorscale": [
           [
            0,
            "rgb(150,0,90)"
           ],
           [
            0.125,
            "rgb(0,0,200)"
           ],
           [
            0.25,
            "rgb(0,25,255)"
           ],
           [
            0.375,
            "rgb(0,152,255)"
           ],
           [
            0.5,
            "rgb(44,255,150)"
           ],
           [
            0.625,
            "rgb(151,255,0)"
           ],
           [
            0.75,
            "rgb(255,234,0)"
           ],
           [
            0.875,
            "rgb(255,111,0)"
           ],
           [
            1,
            "rgb(255,0,0)"
           ]
          ],
          "showscale": true
         },
         "mode": "markers",
         "type": "scatter",
         "x": [
          null
         ],
         "xaxis": "x2",
         "y": [
          null
         ],
         "yaxis": "y2"
        }
       ],
       "layout": {
        "annotations": [
         {
          "showarrow": false,
          "text": "n=0",
          "x": 1.1,
          "xref": "x2",
          "y": 0,
          "yref": "y2"
         },
         {
          "showarrow": false,
          "text": "n=1",
          "x": 1.1,
          "xref": "x2",
          "y": 0.1,
          "yref": "y2"
         },
         {
          "showarrow": false,
          "text": "n=2",
          "x": 1.1,
          "xref": "x2",
          "y": 0.27724560738993026,
          "yref": "y2"
         },
         {
          "showarrow": false,
          "text": "n=3",
          "x": 1.1,
          "xref": "x2",
          "y": 0.47992689700710667,
          "yref": "y2"
         },
         {
          "showarrow": false,
          "text": "n=4",
          "x": 1.1,
          "xref": "x2",
          "y": 0.9319456261578879,
          "yref": "y2"
         },
         {
          "showarrow": false,
          "text": "n=5",
          "x": 1.1,
          "xref": "x2",
          "y": 0.9661704974083188,
          "yref": "y2"
         },
         {
          "showarrow": false,
          "text": "n=6",
          "x": 1.1,
          "xref": "x2",
          "y": 1.077359753690702,
          "yref": "y2"
         },
         {
          "showarrow": false,
          "text": "n=7",
          "x": 1.1,
          "xref": "x2",
          "y": 1.1,
          "yref": "y2"
         },
         {
          "showarrow": false,
          "text": "3.2e-03",
          "x": 0.35,
          "xref": "x",
          "y": 0,
          "yref": "y"
         },
         {
          "showarrow": false,
          "text": "1.2e-02",
          "x": 0.35,
          "xref": "x",
          "y": 0.1111111111111111,
          "yref": "y"
         },
         {
          "showarrow": false,
          "text": "4.5e-02",
          "x": 0.35,
          "xref": "x",
          "y": 0.2222222222222222,
          "yref": "y"
         },
         {
          "showarrow": false,
          "text": "1.7e-01",
          "x": 0.35,
          "xref": "x",
          "y": 0.3333333333333333,
          "yref": "y"
         },
         {
          "showarrow": false,
          "text": "6.3e-01",
          "x": 0.35,
          "xref": "x",
          "y": 0.4444444444444444,
          "yref": "y"
         },
         {
          "showarrow": false,
          "text": "2.3e+00",
          "x": 0.35,
          "xref": "x",
          "y": 0.5555555555555556,
          "yref": "y"
         },
         {
          "showarrow": false,
          "text": "8.8e+00",
          "x": 0.35,
          "xref": "x",
          "y": 0.6666666666666666,
          "yref": "y"
         },
         {
          "showarrow": false,
          "text": "3.3e+01",
          "x": 0.35,
          "xref": "x",
          "y": 0.7777777777777777,
          "yref": "y"
         },
         {
          "showarrow": false,
          "text": "1.2e+02",
          "x": 0.35,
          "xref": "x",
          "y": 0.8888888888888888,
          "yref": "y"
         },
         {
          "showarrow": false,
          "text": "4.6e+02",
          "x": 0.35,
          "xref": "x",
          "y": 1,
          "yref": "y"
         },
         {
          "showarrow": false,
          "text": "Populations",
          "x": 0.28,
          "xref": "x",
          "y": -0.08,
          "yref": "y"
         },
         {
          "showarrow": false,
          "text": "4.0e+00",
          "x": 0.9,
          "xref": "x",
          "y": 0,
          "yref": "y"
         },
         {
          "showarrow": false,
          "text": "5.0e+00",
          "x": 0.9,
          "xref": "x",
          "y": 0.1111111111111111,
          "yref": "y"
         },
         {
          "showarrow": false,
          "text": "6.2e+00",
          "x": 0.9,
          "xref": "x",
          "y": 0.2222222222222222,
          "yref": "y"
         },
         {
          "showarrow": false,
          "text": "7.7e+00",
          "x": 0.9,
          "xref": "x",
          "y": 0.3333333333333333,
          "yref": "y"
         },
         {
          "showarrow": false,
          "text": "9.6e+00",
          "x": 0.9,
          "xref": "x",
          "y": 0.4444444444444444,
          "yref": "y"
         },
         {
          "showarrow": false,
          "text": "1.2e+01",
          "x": 0.9,
          "xref": "x",
          "y": 0.5555555555555556,
          "yref": "y"
         },
         {
          "showarrow": false,
          "text": "1.5e+01",
          "x": 0.9,
          "xref": "x",
          "y": 0.6666666666666666,
          "yref": "y"
         },
         {
          "showarrow": false,
          "text": "1.9e+01",
          "x": 0.9,
          "xref": "x",
          "y": 0.7777777777777777,
          "yref": "y"
         },
         {
          "showarrow": false,
          "text": "2.3e+01",
          "x": 0.9,
          "xref": "x",
          "y": 0.8888888888888888,
          "yref": "y"
         },
         {
          "showarrow": false,
          "text": "2.9e+01",
          "x": 0.9,
          "xref": "x",
          "y": 1,
          "yref": "y"
         },
         {
          "showarrow": false,
          "text": "#Packets",
          "x": 0.83,
          "xref": "x",
          "y": -0.08,
          "yref": "y"
         }
        ],
        "autosize": false,
        "height": 700,
        "plot_bgcolor": "white",
        "shapes": [
         {
          "line": {
           "width": 1.003
          },
          "type": "line",
          "x0": 0.1,
          "x1": 0.2,
          "xref": "x",
          "y0": 0,
          "y1": 0,
          "yref": "y"
         },
         {
          "line": {
           "width": 1.3363333333333332
          },
          "type": "line",
          "x0": 0.1,
          "x1": 0.2,
          "xref": "x",
          "y0": 0.1111111111111111,
          "y1": 0.1111111111111111,
          "yref": "y"
         },
         {
          "line": {
           "width": 1.6696666666666666
          },
          "type": "line",
          "x0": 0.1,
          "x1": 0.2,
          "xref": "x",
          "y0": 0.2222222222222222,
          "y1": 0.2222222222222222,
          "yref": "y"
         },
         {
          "line": {
           "width": 2.003
          },
          "type": "line",
          "x0": 0.1,
          "x1": 0.2,
          "xref": "x",
          "y0": 0.3333333333333333,
          "y1": 0.3333333333333333,
          "yref": "y"
         },
         {
          "line": {
           "width": 2.336333333333333
          },
          "type": "line",
          "x0": 0.1,
          "x1": 0.2,
          "xref": "x",
          "y0": 0.4444444444444444,
          "y1": 0.4444444444444444,
          "yref": "y"
         },
         {
          "line": {
           "width": 2.669666666666666
          },
          "type": "line",
          "x0": 0.1,
          "x1": 0.2,
          "xref": "x",
          "y0": 0.5555555555555556,
          "y1": 0.5555555555555556,
          "yref": "y"
         },
         {
          "line": {
           "width": 3.003
          },
          "type": "line",
          "x0": 0.1,
          "x1": 0.2,
          "xref": "x",
          "y0": 0.6666666666666666,
          "y1": 0.6666666666666666,
          "yref": "y"
         },
         {
          "line": {
           "width": 3.336333333333333
          },
          "type": "line",
          "x0": 0.1,
          "x1": 0.2,
          "xref": "x",
          "y0": 0.7777777777777777,
          "y1": 0.7777777777777777,
          "yref": "y"
         },
         {
          "line": {
           "width": 3.669666666666666
          },
          "type": "line",
          "x0": 0.1,
          "x1": 0.2,
          "xref": "x",
          "y0": 0.8888888888888888,
          "y1": 0.8888888888888888,
          "yref": "y"
         },
         {
          "line": {
           "width": 4.003
          },
          "type": "line",
          "x0": 0.1,
          "x1": 0.2,
          "xref": "x",
          "y0": 1,
          "y1": 1,
          "yref": "y"
         },
         {
          "line": {
           "color": "grey",
           "dash": "dash",
           "width": 0.5
          },
          "type": "line",
          "x0": 0.55,
          "x1": 0.55,
          "xref": "x",
          "y0": 0,
          "y1": 1,
          "yref": "y"
         },
         {
          "line": {
           "width": 1
          },
          "type": "line",
          "x0": 0.65,
          "x1": 0.75,
          "xref": "x",
          "y0": 0,
          "y1": 0,
          "yref": "y"
         },
         {
          "line": {
           "width": 1.2222222222222223
          },
          "type": "line",
          "x0": 0.65,
          "x1": 0.75,
          "xref": "x",
          "y0": 0.1111111111111111,
          "y1": 0.1111111111111111,
          "yref": "y"
         },
         {
          "line": {
           "width": 1.4444444444444444
          },
          "type": "line",
          "x0": 0.65,
          "x1": 0.75,
          "xref": "x",
          "y0": 0.2222222222222222,
          "y1": 0.2222222222222222,
          "yref": "y"
         },
         {
          "line": {
           "width": 1.6666666666666665
          },
          "type": "line",
          "x0": 0.65,
          "x1": 0.75,
          "xref": "x",
          "y0": 0.3333333333333333,
          "y1": 0.3333333333333333,
          "yref": "y"
         },
         {
          "line": {
           "width": 1.8888888888888888
          },
          "type": "line",
          "x0": 0.65,
          "x1": 0.75,
          "xref": "x",
          "y0": 0.4444444444444444,
          "y1": 0.4444444444444444,
          "yref": "y"
         },
         {
          "line": {
           "width": 2.111111111111111
          },
          "type": "line",
          "x0": 0.65,
          "x1": 0.75,
          "xref": "x",
          "y0": 0.5555555555555556,
          "y1": 0.5555555555555556,
          "yref": "y"
         },
         {
          "line": {
           "width": 2.333333333333333
          },
          "type": "line",
          "x0": 0.65,
          "x1": 0.75,
          "xref": "x",
          "y0": 0.6666666666666666,
          "y1": 0.6666666666666666,
          "yref": "y"
         },
         {
          "line": {
           "width": 2.5555555555555554
          },
          "type": "line",
          "x0": 0.65,
          "x1": 0.75,
          "xref": "x",
          "y0": 0.7777777777777777,
          "y1": 0.7777777777777777,
          "yref": "y"
         },
         {
          "line": {
           "width": 2.7777777777777777
          },
          "type": "line",
          "x0": 0.65,
          "x1": 0.75,
          "xref": "x",
          "y0": 0.8888888888888888,
          "y1": 0.8888888888888888,
          "yref": "y"
         },
         {
          "line": {
           "width": 3
          },
          "type": "line",
          "x0": 0.65,
          "x1": 0.75,
          "xref": "x",
          "y0": 1,
          "y1": 1,
          "yref": "y"
         }
        ],
        "showlegend": false,
        "template": {
         "data": {
          "bar": [
           {
            "error_x": {
             "color": "#2a3f5f"
            },
            "error_y": {
             "color": "#2a3f5f"
            },
            "marker": {
             "line": {
              "color": "#E5ECF6",
              "width": 0.5
             },
             "pattern": {
              "fillmode": "overlay",
              "size": 10,
              "solidity": 0.2
             }
            },
            "type": "bar"
           }
          ],
          "barpolar": [
           {
            "marker": {
             "line": {
              "color": "#E5ECF6",
              "width": 0.5
             },
             "pattern": {
              "fillmode": "overlay",
              "size": 10,
              "solidity": 0.2
             }
            },
            "type": "barpolar"
           }
          ],
          "carpet": [
           {
            "aaxis": {
             "endlinecolor": "#2a3f5f",
             "gridcolor": "white",
             "linecolor": "white",
             "minorgridcolor": "white",
             "startlinecolor": "#2a3f5f"
            },
            "baxis": {
             "endlinecolor": "#2a3f5f",
             "gridcolor": "white",
             "linecolor": "white",
             "minorgridcolor": "white",
             "startlinecolor": "#2a3f5f"
            },
            "type": "carpet"
           }
          ],
          "choropleth": [
           {
            "colorbar": {
             "outlinewidth": 0,
             "ticks": ""
            },
            "type": "choropleth"
           }
          ],
          "contour": [
           {
            "colorbar": {
             "outlinewidth": 0,
             "ticks": ""
            },
            "colorscale": [
             [
              0,
              "#0d0887"
             ],
             [
              0.1111111111111111,
              "#46039f"
             ],
             [
              0.2222222222222222,
              "#7201a8"
             ],
             [
              0.3333333333333333,
              "#9c179e"
             ],
             [
              0.4444444444444444,
              "#bd3786"
             ],
             [
              0.5555555555555556,
              "#d8576b"
             ],
             [
              0.6666666666666666,
              "#ed7953"
             ],
             [
              0.7777777777777778,
              "#fb9f3a"
             ],
             [
              0.8888888888888888,
              "#fdca26"
             ],
             [
              1,
              "#f0f921"
             ]
            ],
            "type": "contour"
           }
          ],
          "contourcarpet": [
           {
            "colorbar": {
             "outlinewidth": 0,
             "ticks": ""
            },
            "type": "contourcarpet"
           }
          ],
          "heatmap": [
           {
            "colorbar": {
             "outlinewidth": 0,
             "ticks": ""
            },
            "colorscale": [
             [
              0,
              "#0d0887"
             ],
             [
              0.1111111111111111,
              "#46039f"
             ],
             [
              0.2222222222222222,
              "#7201a8"
             ],
             [
              0.3333333333333333,
              "#9c179e"
             ],
             [
              0.4444444444444444,
              "#bd3786"
             ],
             [
              0.5555555555555556,
              "#d8576b"
             ],
             [
              0.6666666666666666,
              "#ed7953"
             ],
             [
              0.7777777777777778,
              "#fb9f3a"
             ],
             [
              0.8888888888888888,
              "#fdca26"
             ],
             [
              1,
              "#f0f921"
             ]
            ],
            "type": "heatmap"
           }
          ],
          "heatmapgl": [
           {
            "colorbar": {
             "outlinewidth": 0,
             "ticks": ""
            },
            "colorscale": [
             [
              0,
              "#0d0887"
             ],
             [
              0.1111111111111111,
              "#46039f"
             ],
             [
              0.2222222222222222,
              "#7201a8"
             ],
             [
              0.3333333333333333,
              "#9c179e"
             ],
             [
              0.4444444444444444,
              "#bd3786"
             ],
             [
              0.5555555555555556,
              "#d8576b"
             ],
             [
              0.6666666666666666,
              "#ed7953"
             ],
             [
              0.7777777777777778,
              "#fb9f3a"
             ],
             [
              0.8888888888888888,
              "#fdca26"
             ],
             [
              1,
              "#f0f921"
             ]
            ],
            "type": "heatmapgl"
           }
          ],
          "histogram": [
           {
            "marker": {
             "pattern": {
              "fillmode": "overlay",
              "size": 10,
              "solidity": 0.2
             }
            },
            "type": "histogram"
           }
          ],
          "histogram2d": [
           {
            "colorbar": {
             "outlinewidth": 0,
             "ticks": ""
            },
            "colorscale": [
             [
              0,
              "#0d0887"
             ],
             [
              0.1111111111111111,
              "#46039f"
             ],
             [
              0.2222222222222222,
              "#7201a8"
             ],
             [
              0.3333333333333333,
              "#9c179e"
             ],
             [
              0.4444444444444444,
              "#bd3786"
             ],
             [
              0.5555555555555556,
              "#d8576b"
             ],
             [
              0.6666666666666666,
              "#ed7953"
             ],
             [
              0.7777777777777778,
              "#fb9f3a"
             ],
             [
              0.8888888888888888,
              "#fdca26"
             ],
             [
              1,
              "#f0f921"
             ]
            ],
            "type": "histogram2d"
           }
          ],
          "histogram2dcontour": [
           {
            "colorbar": {
             "outlinewidth": 0,
             "ticks": ""
            },
            "colorscale": [
             [
              0,
              "#0d0887"
             ],
             [
              0.1111111111111111,
              "#46039f"
             ],
             [
              0.2222222222222222,
              "#7201a8"
             ],
             [
              0.3333333333333333,
              "#9c179e"
             ],
             [
              0.4444444444444444,
              "#bd3786"
             ],
             [
              0.5555555555555556,
              "#d8576b"
             ],
             [
              0.6666666666666666,
              "#ed7953"
             ],
             [
              0.7777777777777778,
              "#fb9f3a"
             ],
             [
              0.8888888888888888,
              "#fdca26"
             ],
             [
              1,
              "#f0f921"
             ]
            ],
            "type": "histogram2dcontour"
           }
          ],
          "mesh3d": [
           {
            "colorbar": {
             "outlinewidth": 0,
             "ticks": ""
            },
            "type": "mesh3d"
           }
          ],
          "parcoords": [
           {
            "line": {
             "colorbar": {
              "outlinewidth": 0,
              "ticks": ""
             }
            },
            "type": "parcoords"
           }
          ],
          "pie": [
           {
            "automargin": true,
            "type": "pie"
           }
          ],
          "scatter": [
           {
            "fillpattern": {
             "fillmode": "overlay",
             "size": 10,
             "solidity": 0.2
            },
            "type": "scatter"
           }
          ],
          "scatter3d": [
           {
            "line": {
             "colorbar": {
              "outlinewidth": 0,
              "ticks": ""
             }
            },
            "marker": {
             "colorbar": {
              "outlinewidth": 0,
              "ticks": ""
             }
            },
            "type": "scatter3d"
           }
          ],
          "scattercarpet": [
           {
            "marker": {
             "colorbar": {
              "outlinewidth": 0,
              "ticks": ""
             }
            },
            "type": "scattercarpet"
           }
          ],
          "scattergeo": [
           {
            "marker": {
             "colorbar": {
              "outlinewidth": 0,
              "ticks": ""
             }
            },
            "type": "scattergeo"
           }
          ],
          "scattergl": [
           {
            "marker": {
             "colorbar": {
              "outlinewidth": 0,
              "ticks": ""
             }
            },
            "type": "scattergl"
           }
          ],
          "scattermapbox": [
           {
            "marker": {
             "colorbar": {
              "outlinewidth": 0,
              "ticks": ""
             }
            },
            "type": "scattermapbox"
           }
          ],
          "scatterpolar": [
           {
            "marker": {
             "colorbar": {
              "outlinewidth": 0,
              "ticks": ""
             }
            },
            "type": "scatterpolar"
           }
          ],
          "scatterpolargl": [
           {
            "marker": {
             "colorbar": {
              "outlinewidth": 0,
              "ticks": ""
             }
            },
            "type": "scatterpolargl"
           }
          ],
          "scatterternary": [
           {
            "marker": {
             "colorbar": {
              "outlinewidth": 0,
              "ticks": ""
             }
            },
            "type": "scatterternary"
           }
          ],
          "surface": [
           {
            "colorbar": {
             "outlinewidth": 0,
             "ticks": ""
            },
            "colorscale": [
             [
              0,
              "#0d0887"
             ],
             [
              0.1111111111111111,
              "#46039f"
             ],
             [
              0.2222222222222222,
              "#7201a8"
             ],
             [
              0.3333333333333333,
              "#9c179e"
             ],
             [
              0.4444444444444444,
              "#bd3786"
             ],
             [
              0.5555555555555556,
              "#d8576b"
             ],
             [
              0.6666666666666666,
              "#ed7953"
             ],
             [
              0.7777777777777778,
              "#fb9f3a"
             ],
             [
              0.8888888888888888,
              "#fdca26"
             ],
             [
              1,
              "#f0f921"
             ]
            ],
            "type": "surface"
           }
          ],
          "table": [
           {
            "cells": {
             "fill": {
              "color": "#EBF0F8"
             },
             "line": {
              "color": "white"
             }
            },
            "header": {
             "fill": {
              "color": "#C8D4E3"
             },
             "line": {
              "color": "white"
             }
            },
            "type": "table"
           }
          ]
         },
         "layout": {
          "annotationdefaults": {
           "arrowcolor": "#2a3f5f",
           "arrowhead": 0,
           "arrowwidth": 1
          },
          "autotypenumbers": "strict",
          "coloraxis": {
           "colorbar": {
            "outlinewidth": 0,
            "ticks": ""
           }
          },
          "colorscale": {
           "diverging": [
            [
             0,
             "#8e0152"
            ],
            [
             0.1,
             "#c51b7d"
            ],
            [
             0.2,
             "#de77ae"
            ],
            [
             0.3,
             "#f1b6da"
            ],
            [
             0.4,
             "#fde0ef"
            ],
            [
             0.5,
             "#f7f7f7"
            ],
            [
             0.6,
             "#e6f5d0"
            ],
            [
             0.7,
             "#b8e186"
            ],
            [
             0.8,
             "#7fbc41"
            ],
            [
             0.9,
             "#4d9221"
            ],
            [
             1,
             "#276419"
            ]
           ],
           "sequential": [
            [
             0,
             "#0d0887"
            ],
            [
             0.1111111111111111,
             "#46039f"
            ],
            [
             0.2222222222222222,
             "#7201a8"
            ],
            [
             0.3333333333333333,
             "#9c179e"
            ],
            [
             0.4444444444444444,
             "#bd3786"
            ],
            [
             0.5555555555555556,
             "#d8576b"
            ],
            [
             0.6666666666666666,
             "#ed7953"
            ],
            [
             0.7777777777777778,
             "#fb9f3a"
            ],
            [
             0.8888888888888888,
             "#fdca26"
            ],
            [
             1,
             "#f0f921"
            ]
           ],
           "sequentialminus": [
            [
             0,
             "#0d0887"
            ],
            [
             0.1111111111111111,
             "#46039f"
            ],
            [
             0.2222222222222222,
             "#7201a8"
            ],
            [
             0.3333333333333333,
             "#9c179e"
            ],
            [
             0.4444444444444444,
             "#bd3786"
            ],
            [
             0.5555555555555556,
             "#d8576b"
            ],
            [
             0.6666666666666666,
             "#ed7953"
            ],
            [
             0.7777777777777778,
             "#fb9f3a"
            ],
            [
             0.8888888888888888,
             "#fdca26"
            ],
            [
             1,
             "#f0f921"
            ]
           ]
          },
          "colorway": [
           "#636efa",
           "#EF553B",
           "#00cc96",
           "#ab63fa",
           "#FFA15A",
           "#19d3f3",
           "#FF6692",
           "#B6E880",
           "#FF97FF",
           "#FECB52"
          ],
          "font": {
           "color": "#2a3f5f"
          },
          "geo": {
           "bgcolor": "white",
           "lakecolor": "white",
           "landcolor": "#E5ECF6",
           "showlakes": true,
           "showland": true,
           "subunitcolor": "white"
          },
          "hoverlabel": {
           "align": "left"
          },
          "hovermode": "closest",
          "mapbox": {
           "style": "light"
          },
          "paper_bgcolor": "white",
          "plot_bgcolor": "#E5ECF6",
          "polar": {
           "angularaxis": {
            "gridcolor": "white",
            "linecolor": "white",
            "ticks": ""
           },
           "bgcolor": "#E5ECF6",
           "radialaxis": {
            "gridcolor": "white",
            "linecolor": "white",
            "ticks": ""
           }
          },
          "scene": {
           "xaxis": {
            "backgroundcolor": "#E5ECF6",
            "gridcolor": "white",
            "gridwidth": 2,
            "linecolor": "white",
            "showbackground": true,
            "ticks": "",
            "zerolinecolor": "white"
           },
           "yaxis": {
            "backgroundcolor": "#E5ECF6",
            "gridcolor": "white",
            "gridwidth": 2,
            "linecolor": "white",
            "showbackground": true,
            "ticks": "",
            "zerolinecolor": "white"
           },
           "zaxis": {
            "backgroundcolor": "#E5ECF6",
            "gridcolor": "white",
            "gridwidth": 2,
            "linecolor": "white",
            "showbackground": true,
            "ticks": "",
            "zerolinecolor": "white"
           }
          },
          "shapedefaults": {
           "line": {
            "color": "#2a3f5f"
           }
          },
          "ternary": {
           "aaxis": {
            "gridcolor": "white",
            "linecolor": "white",
            "ticks": ""
           },
           "baxis": {
            "gridcolor": "white",
            "linecolor": "white",
            "ticks": ""
           },
           "bgcolor": "#E5ECF6",
           "caxis": {
            "gridcolor": "white",
            "linecolor": "white",
            "ticks": ""
           }
          },
          "title": {
           "x": 0.05
          },
          "xaxis": {
           "automargin": true,
           "gridcolor": "white",
           "linecolor": "white",
           "ticks": "",
           "title": {
            "standoff": 15
           },
           "zerolinecolor": "white",
           "zerolinewidth": 2
          },
          "yaxis": {
           "automargin": true,
           "gridcolor": "white",
           "linecolor": "white",
           "ticks": "",
           "title": {
            "standoff": 15
           },
           "zerolinecolor": "white",
           "zerolinewidth": 2
          }
         }
        },
        "title": {
         "text": "Grotrian Diagram for Oxygen I (Shell: 0)",
         "x": 0.5
        },
        "width": 1000,
        "xaxis": {
         "anchor": "y",
         "domain": [
          0,
          0.258
         ],
         "fixedrange": true,
         "showticklabels": false
        },
        "xaxis2": {
         "anchor": "y2",
         "domain": [
          0.398,
          1
         ],
         "fixedrange": true,
         "showticklabels": false
        },
        "yaxis": {
         "anchor": "x",
         "domain": [
          0,
          1
         ],
         "fixedrange": true,
         "showticklabels": false
        },
        "yaxis2": {
         "anchor": "x2",
         "domain": [
          0,
          1
         ],
         "fixedrange": true,
         "range": [
          0,
          null
         ],
         "tickmode": "array",
         "ticktext": [
          "0.00e+00",
          "2.39e-02",
          "1.97e+00",
          "4.19e+00",
          "9.15e+00",
          "9.52e+00",
          "1.07e+01",
          "1.10e+01"
         ],
         "tickvals": [
          0,
          0.1,
          0.27724560738993026,
          0.47992689700710667,
          0.9319456261578879,
          0.9661704974083188,
          1.077359753690702,
          1.1
         ],
         "title": {
          "standoff": 5,
          "text": "Energy (eV)"
         }
        }
       }
      },
      "text/html": [
       "<div>                            <div id=\"64898ced-ff9f-4ba1-802e-dbafe02982ea\" class=\"plotly-graph-div\" style=\"height:700px; width:1000px;\"></div>            <script type=\"text/javascript\">                require([\"plotly\"], function(Plotly) {                    window.PLOTLYENV=window.PLOTLYENV || {};                                    if (document.getElementById(\"64898ced-ff9f-4ba1-802e-dbafe02982ea\")) {                    Plotly.newPlot(                        \"64898ced-ff9f-4ba1-802e-dbafe02982ea\",                        [{\"hovertemplate\":\"Energy: 0.00e+00 eV<br>Population: 4.57e+02<extra></extra>\",\"line\":{\"color\":\"black\",\"width\":4.003},\"mode\":\"lines\",\"showlegend\":false,\"x\":[-0.05,0.07222222222222223,0.19444444444444448,0.3166666666666667,0.43888888888888894,0.5611111111111111,0.6833333333333333,0.8055555555555556,0.9277777777777778,1.05],\"y\":[0.0,0.0,0.0,0.0,0.0,0.0,0.0,0.0,0.0,0.0],\"type\":\"scatter\",\"xaxis\":\"x2\",\"yaxis\":\"y2\"},{\"hovertemplate\":\"Energy: 2.39e-02 eV<br>Population: 3.58e+02<extra></extra>\",\"line\":{\"color\":\"black\",\"width\":3.9408892564087155},\"mode\":\"lines\",\"showlegend\":false,\"x\":[-0.05,0.07222222222222223,0.19444444444444448,0.3166666666666667,0.43888888888888894,0.5611111111111111,0.6833333333333333,0.8055555555555556,0.9277777777777778,1.05],\"y\":[0.1,0.1,0.1,0.1,0.1,0.1,0.1,0.1,0.1,0.1],\"type\":\"scatter\",\"xaxis\":\"x2\",\"yaxis\":\"y2\"},{\"hovertemplate\":\"Energy: 1.97e+00 eV<br>Population: 5.99e+01<extra></extra>\",\"line\":{\"color\":\"black\",\"width\":3.489026566703482},\"mode\":\"lines\",\"showlegend\":false,\"x\":[-0.05,0.07222222222222223,0.19444444444444448,0.3166666666666667,0.43888888888888894,0.5611111111111111,0.6833333333333333,0.8055555555555556,0.9277777777777778,1.05],\"y\":[0.27724560738993026,0.27724560738993026,0.27724560738993026,0.27724560738993026,0.27724560738993026,0.27724560738993026,0.27724560738993026,0.27724560738993026,0.27724560738993026,0.27724560738993026],\"type\":\"scatter\",\"xaxis\":\"x2\",\"yaxis\":\"y2\"},{\"hovertemplate\":\"Energy: 4.19e+00 eV<br>Population: 1.21e+00<extra></extra>\",\"line\":{\"color\":\"black\",\"width\":2.5014257774925226},\"mode\":\"lines\",\"showlegend\":false,\"x\":[-0.05,0.07222222222222223,0.19444444444444448,0.3166666666666667,0.43888888888888894,0.5611111111111111,0.6833333333333333,0.8055555555555556,0.9277777777777778,1.05],\"y\":[0.47992689700710667,0.47992689700710667,0.47992689700710667,0.47992689700710667,0.47992689700710667,0.47992689700710667,0.47992689700710667,0.47992689700710667,0.47992689700710667,0.47992689700710667],\"type\":\"scatter\",\"xaxis\":\"x2\",\"yaxis\":\"y2\"},{\"hovertemplate\":\"Energy: 9.15e+00 eV<br>Population: 3.60e-02<extra></extra>\",\"line\":{\"color\":\"black\",\"width\":1.6135857851483588},\"mode\":\"lines\",\"showlegend\":false,\"x\":[-0.05,0.07222222222222223,0.19444444444444448,0.3166666666666667,0.43888888888888894,0.5611111111111111,0.6833333333333333,0.8055555555555556,0.9277777777777778,1.05],\"y\":[0.9319456261578879,0.9319456261578879,0.9319456261578879,0.9319456261578879,0.9319456261578879,0.9319456261578879,0.9319456261578879,0.9319456261578879,0.9319456261578879,0.9319456261578879],\"type\":\"scatter\",\"xaxis\":\"x2\",\"yaxis\":\"y2\"},{\"hovertemplate\":\"Energy: 9.52e+00 eV<br>Population: 1.47e-02<extra></extra>\",\"line\":{\"color\":\"black\",\"width\":1.3863653577832453},\"mode\":\"lines\",\"showlegend\":false,\"x\":[-0.05,0.07222222222222223,0.19444444444444448,0.3166666666666667,0.43888888888888894,0.5611111111111111,0.6833333333333333,0.8055555555555556,0.9277777777777778,1.05],\"y\":[0.9661704974083188,0.9661704974083188,0.9661704974083188,0.9661704974083188,0.9661704974083188,0.9661704974083188,0.9661704974083188,0.9661704974083188,0.9661704974083188,0.9661704974083188],\"type\":\"scatter\",\"xaxis\":\"x2\",\"yaxis\":\"y2\"},{\"hovertemplate\":\"Energy: 1.07e+01 eV<br>Population: 2.08e-02<extra></extra>\",\"line\":{\"color\":\"black\",\"width\":1.474834169004034},\"mode\":\"lines\",\"showlegend\":false,\"x\":[-0.05,0.07222222222222223,0.19444444444444448,0.3166666666666667,0.43888888888888894,0.5611111111111111,0.6833333333333333,0.8055555555555556,0.9277777777777778,1.05],\"y\":[1.077359753690702,1.077359753690702,1.077359753690702,1.077359753690702,1.077359753690702,1.077359753690702,1.077359753690702,1.077359753690702,1.077359753690702,1.077359753690702],\"type\":\"scatter\",\"xaxis\":\"x2\",\"yaxis\":\"y2\"},{\"hovertemplate\":\"Energy: 1.10e+01 eV<br>Population: 3.22e-03<extra></extra>\",\"line\":{\"color\":\"black\",\"width\":1.003},\"mode\":\"lines\",\"showlegend\":false,\"x\":[-0.05,0.07222222222222223,0.19444444444444448,0.3166666666666667,0.43888888888888894,0.5611111111111111,0.6833333333333333,0.8055555555555556,0.9277777777777778,1.05],\"y\":[1.1,1.1,1.1,1.1,1.1,1.1,1.1,1.1,1.1,1.1],\"type\":\"scatter\",\"xaxis\":\"x2\",\"yaxis\":\"y2\"},{\"hovertemplate\":\"Count: 7<br>Wavelength: 1.30e+03 \\u212b<extra></extra>\",\"line\":{\"color\":\"#8000ff\",\"width\":1.5649827087262111},\"marker\":{\"angleref\":\"previous\",\"color\":\"#8000ff\",\"size\":9,\"symbol\":\"arrow-bar-up\"},\"x\":[0,0.8664613492856591],\"y\":[0.0,0.9661704974083188],\"type\":\"scatter\",\"xaxis\":\"x2\",\"yaxis\":\"y2\"},{\"hovertemplate\":\"Count: 29<br>Wavelength: 1.31e+03 \\u212b<extra></extra>\",\"line\":{\"color\":\"#8000ff\",\"width\":3.0},\"marker\":{\"angleref\":\"previous\",\"color\":\"#8000ff\",\"size\":9,\"symbol\":\"arrow-bar-up\"},\"x\":[0,0.8661704974083189],\"y\":[0.1,0.9661704974083188],\"type\":\"scatter\",\"xaxis\":\"x2\",\"yaxis\":\"y2\"},{\"hovertemplate\":\"Count: 7<br>Wavelength: 1.30e+03 \\u212b<extra></extra>\",\"line\":{\"color\":\"#8000ff\",\"width\":1.5649827087262111},\"marker\":{\"angleref\":\"previous\",\"color\":\"#8000ff\",\"size\":9,\"symbol\":\"arrow-bar-up\"},\"x\":[0,0.8664613492856591],\"y\":[0.9661704974083188,0.0],\"type\":\"scatter\",\"xaxis\":\"x2\",\"yaxis\":\"y2\"},{\"hovertemplate\":\"Count: 27<br>Wavelength: 1.31e+03 \\u212b<extra></extra>\",\"line\":{\"color\":\"#8000ff\",\"width\":2.927855718327125},\"marker\":{\"angleref\":\"previous\",\"color\":\"#8000ff\",\"size\":9,\"symbol\":\"arrow-bar-up\"},\"x\":[0,0.8661704974083189],\"y\":[0.9661704974083188,0.1],\"type\":\"scatter\",\"xaxis\":\"x2\",\"yaxis\":\"y2\"},{\"hovertemplate\":\"Count: 4<br>Wavelength: 7.78e+03 \\u212b<extra></extra>\",\"line\":{\"color\":\"#ff0000\",\"width\":1.0},\"marker\":{\"angleref\":\"previous\",\"color\":\"#ff0000\",\"size\":9,\"symbol\":\"arrow-bar-up\"},\"x\":[0,0.86528023167925],\"y\":[1.077359753690702,0.9319456261578879],\"type\":\"scatter\",\"xaxis\":\"x2\",\"yaxis\":\"y2\"},{\"hoverinfo\":\"none\",\"marker\":{\"cmax\":8.958793741798225,\"cmin\":7.171785846702633,\"colorbar\":{\"outlinewidth\":0,\"thickness\":5,\"ticktext\":[\"1.3e+03\",\"1.6e+03\",\"1.9e+03\",\"2.4e+03\",\"2.9e+03\",\"3.5e+03\",\"4.3e+03\",\"5.2e+03\",\"6.4e+03\",\"7.8e+03\"],\"tickvals\":[7.171785846702633,7.370342279491033,7.568898712279431,7.76745514506783,7.9660115778562295,8.164568010644627,8.363124443433026,8.561680876221427,8.760237309009824,8.958793741798223],\"title\":{\"font\":{\"size\":12},\"text\":\"Wavelength (\\u212b)<br>&nbsp;\"}},\"colorscale\":[[0.0,\"rgb(150,0,90)\"],[0.125,\"rgb(0,0,200)\"],[0.25,\"rgb(0,25,255)\"],[0.375,\"rgb(0,152,255)\"],[0.5,\"rgb(44,255,150)\"],[0.625,\"rgb(151,255,0)\"],[0.75,\"rgb(255,234,0)\"],[0.875,\"rgb(255,111,0)\"],[1.0,\"rgb(255,0,0)\"]],\"showscale\":true},\"mode\":\"markers\",\"x\":[null],\"y\":[null],\"type\":\"scatter\",\"xaxis\":\"x2\",\"yaxis\":\"y2\"}],                        {\"template\":{\"data\":{\"histogram2dcontour\":[{\"type\":\"histogram2dcontour\",\"colorbar\":{\"outlinewidth\":0,\"ticks\":\"\"},\"colorscale\":[[0.0,\"#0d0887\"],[0.1111111111111111,\"#46039f\"],[0.2222222222222222,\"#7201a8\"],[0.3333333333333333,\"#9c179e\"],[0.4444444444444444,\"#bd3786\"],[0.5555555555555556,\"#d8576b\"],[0.6666666666666666,\"#ed7953\"],[0.7777777777777778,\"#fb9f3a\"],[0.8888888888888888,\"#fdca26\"],[1.0,\"#f0f921\"]]}],\"choropleth\":[{\"type\":\"choropleth\",\"colorbar\":{\"outlinewidth\":0,\"ticks\":\"\"}}],\"histogram2d\":[{\"type\":\"histogram2d\",\"colorbar\":{\"outlinewidth\":0,\"ticks\":\"\"},\"colorscale\":[[0.0,\"#0d0887\"],[0.1111111111111111,\"#46039f\"],[0.2222222222222222,\"#7201a8\"],[0.3333333333333333,\"#9c179e\"],[0.4444444444444444,\"#bd3786\"],[0.5555555555555556,\"#d8576b\"],[0.6666666666666666,\"#ed7953\"],[0.7777777777777778,\"#fb9f3a\"],[0.8888888888888888,\"#fdca26\"],[1.0,\"#f0f921\"]]}],\"heatmap\":[{\"type\":\"heatmap\",\"colorbar\":{\"outlinewidth\":0,\"ticks\":\"\"},\"colorscale\":[[0.0,\"#0d0887\"],[0.1111111111111111,\"#46039f\"],[0.2222222222222222,\"#7201a8\"],[0.3333333333333333,\"#9c179e\"],[0.4444444444444444,\"#bd3786\"],[0.5555555555555556,\"#d8576b\"],[0.6666666666666666,\"#ed7953\"],[0.7777777777777778,\"#fb9f3a\"],[0.8888888888888888,\"#fdca26\"],[1.0,\"#f0f921\"]]}],\"heatmapgl\":[{\"type\":\"heatmapgl\",\"colorbar\":{\"outlinewidth\":0,\"ticks\":\"\"},\"colorscale\":[[0.0,\"#0d0887\"],[0.1111111111111111,\"#46039f\"],[0.2222222222222222,\"#7201a8\"],[0.3333333333333333,\"#9c179e\"],[0.4444444444444444,\"#bd3786\"],[0.5555555555555556,\"#d8576b\"],[0.6666666666666666,\"#ed7953\"],[0.7777777777777778,\"#fb9f3a\"],[0.8888888888888888,\"#fdca26\"],[1.0,\"#f0f921\"]]}],\"contourcarpet\":[{\"type\":\"contourcarpet\",\"colorbar\":{\"outlinewidth\":0,\"ticks\":\"\"}}],\"contour\":[{\"type\":\"contour\",\"colorbar\":{\"outlinewidth\":0,\"ticks\":\"\"},\"colorscale\":[[0.0,\"#0d0887\"],[0.1111111111111111,\"#46039f\"],[0.2222222222222222,\"#7201a8\"],[0.3333333333333333,\"#9c179e\"],[0.4444444444444444,\"#bd3786\"],[0.5555555555555556,\"#d8576b\"],[0.6666666666666666,\"#ed7953\"],[0.7777777777777778,\"#fb9f3a\"],[0.8888888888888888,\"#fdca26\"],[1.0,\"#f0f921\"]]}],\"surface\":[{\"type\":\"surface\",\"colorbar\":{\"outlinewidth\":0,\"ticks\":\"\"},\"colorscale\":[[0.0,\"#0d0887\"],[0.1111111111111111,\"#46039f\"],[0.2222222222222222,\"#7201a8\"],[0.3333333333333333,\"#9c179e\"],[0.4444444444444444,\"#bd3786\"],[0.5555555555555556,\"#d8576b\"],[0.6666666666666666,\"#ed7953\"],[0.7777777777777778,\"#fb9f3a\"],[0.8888888888888888,\"#fdca26\"],[1.0,\"#f0f921\"]]}],\"mesh3d\":[{\"type\":\"mesh3d\",\"colorbar\":{\"outlinewidth\":0,\"ticks\":\"\"}}],\"scatter\":[{\"fillpattern\":{\"fillmode\":\"overlay\",\"size\":10,\"solidity\":0.2},\"type\":\"scatter\"}],\"parcoords\":[{\"type\":\"parcoords\",\"line\":{\"colorbar\":{\"outlinewidth\":0,\"ticks\":\"\"}}}],\"scatterpolargl\":[{\"type\":\"scatterpolargl\",\"marker\":{\"colorbar\":{\"outlinewidth\":0,\"ticks\":\"\"}}}],\"bar\":[{\"error_x\":{\"color\":\"#2a3f5f\"},\"error_y\":{\"color\":\"#2a3f5f\"},\"marker\":{\"line\":{\"color\":\"#E5ECF6\",\"width\":0.5},\"pattern\":{\"fillmode\":\"overlay\",\"size\":10,\"solidity\":0.2}},\"type\":\"bar\"}],\"scattergeo\":[{\"type\":\"scattergeo\",\"marker\":{\"colorbar\":{\"outlinewidth\":0,\"ticks\":\"\"}}}],\"scatterpolar\":[{\"type\":\"scatterpolar\",\"marker\":{\"colorbar\":{\"outlinewidth\":0,\"ticks\":\"\"}}}],\"histogram\":[{\"marker\":{\"pattern\":{\"fillmode\":\"overlay\",\"size\":10,\"solidity\":0.2}},\"type\":\"histogram\"}],\"scattergl\":[{\"type\":\"scattergl\",\"marker\":{\"colorbar\":{\"outlinewidth\":0,\"ticks\":\"\"}}}],\"scatter3d\":[{\"type\":\"scatter3d\",\"line\":{\"colorbar\":{\"outlinewidth\":0,\"ticks\":\"\"}},\"marker\":{\"colorbar\":{\"outlinewidth\":0,\"ticks\":\"\"}}}],\"scattermapbox\":[{\"type\":\"scattermapbox\",\"marker\":{\"colorbar\":{\"outlinewidth\":0,\"ticks\":\"\"}}}],\"scatterternary\":[{\"type\":\"scatterternary\",\"marker\":{\"colorbar\":{\"outlinewidth\":0,\"ticks\":\"\"}}}],\"scattercarpet\":[{\"type\":\"scattercarpet\",\"marker\":{\"colorbar\":{\"outlinewidth\":0,\"ticks\":\"\"}}}],\"carpet\":[{\"aaxis\":{\"endlinecolor\":\"#2a3f5f\",\"gridcolor\":\"white\",\"linecolor\":\"white\",\"minorgridcolor\":\"white\",\"startlinecolor\":\"#2a3f5f\"},\"baxis\":{\"endlinecolor\":\"#2a3f5f\",\"gridcolor\":\"white\",\"linecolor\":\"white\",\"minorgridcolor\":\"white\",\"startlinecolor\":\"#2a3f5f\"},\"type\":\"carpet\"}],\"table\":[{\"cells\":{\"fill\":{\"color\":\"#EBF0F8\"},\"line\":{\"color\":\"white\"}},\"header\":{\"fill\":{\"color\":\"#C8D4E3\"},\"line\":{\"color\":\"white\"}},\"type\":\"table\"}],\"barpolar\":[{\"marker\":{\"line\":{\"color\":\"#E5ECF6\",\"width\":0.5},\"pattern\":{\"fillmode\":\"overlay\",\"size\":10,\"solidity\":0.2}},\"type\":\"barpolar\"}],\"pie\":[{\"automargin\":true,\"type\":\"pie\"}]},\"layout\":{\"autotypenumbers\":\"strict\",\"colorway\":[\"#636efa\",\"#EF553B\",\"#00cc96\",\"#ab63fa\",\"#FFA15A\",\"#19d3f3\",\"#FF6692\",\"#B6E880\",\"#FF97FF\",\"#FECB52\"],\"font\":{\"color\":\"#2a3f5f\"},\"hovermode\":\"closest\",\"hoverlabel\":{\"align\":\"left\"},\"paper_bgcolor\":\"white\",\"plot_bgcolor\":\"#E5ECF6\",\"polar\":{\"bgcolor\":\"#E5ECF6\",\"angularaxis\":{\"gridcolor\":\"white\",\"linecolor\":\"white\",\"ticks\":\"\"},\"radialaxis\":{\"gridcolor\":\"white\",\"linecolor\":\"white\",\"ticks\":\"\"}},\"ternary\":{\"bgcolor\":\"#E5ECF6\",\"aaxis\":{\"gridcolor\":\"white\",\"linecolor\":\"white\",\"ticks\":\"\"},\"baxis\":{\"gridcolor\":\"white\",\"linecolor\":\"white\",\"ticks\":\"\"},\"caxis\":{\"gridcolor\":\"white\",\"linecolor\":\"white\",\"ticks\":\"\"}},\"coloraxis\":{\"colorbar\":{\"outlinewidth\":0,\"ticks\":\"\"}},\"colorscale\":{\"sequential\":[[0.0,\"#0d0887\"],[0.1111111111111111,\"#46039f\"],[0.2222222222222222,\"#7201a8\"],[0.3333333333333333,\"#9c179e\"],[0.4444444444444444,\"#bd3786\"],[0.5555555555555556,\"#d8576b\"],[0.6666666666666666,\"#ed7953\"],[0.7777777777777778,\"#fb9f3a\"],[0.8888888888888888,\"#fdca26\"],[1.0,\"#f0f921\"]],\"sequentialminus\":[[0.0,\"#0d0887\"],[0.1111111111111111,\"#46039f\"],[0.2222222222222222,\"#7201a8\"],[0.3333333333333333,\"#9c179e\"],[0.4444444444444444,\"#bd3786\"],[0.5555555555555556,\"#d8576b\"],[0.6666666666666666,\"#ed7953\"],[0.7777777777777778,\"#fb9f3a\"],[0.8888888888888888,\"#fdca26\"],[1.0,\"#f0f921\"]],\"diverging\":[[0,\"#8e0152\"],[0.1,\"#c51b7d\"],[0.2,\"#de77ae\"],[0.3,\"#f1b6da\"],[0.4,\"#fde0ef\"],[0.5,\"#f7f7f7\"],[0.6,\"#e6f5d0\"],[0.7,\"#b8e186\"],[0.8,\"#7fbc41\"],[0.9,\"#4d9221\"],[1,\"#276419\"]]},\"xaxis\":{\"gridcolor\":\"white\",\"linecolor\":\"white\",\"ticks\":\"\",\"title\":{\"standoff\":15},\"zerolinecolor\":\"white\",\"automargin\":true,\"zerolinewidth\":2},\"yaxis\":{\"gridcolor\":\"white\",\"linecolor\":\"white\",\"ticks\":\"\",\"title\":{\"standoff\":15},\"zerolinecolor\":\"white\",\"automargin\":true,\"zerolinewidth\":2},\"scene\":{\"xaxis\":{\"backgroundcolor\":\"#E5ECF6\",\"gridcolor\":\"white\",\"linecolor\":\"white\",\"showbackground\":true,\"ticks\":\"\",\"zerolinecolor\":\"white\",\"gridwidth\":2},\"yaxis\":{\"backgroundcolor\":\"#E5ECF6\",\"gridcolor\":\"white\",\"linecolor\":\"white\",\"showbackground\":true,\"ticks\":\"\",\"zerolinecolor\":\"white\",\"gridwidth\":2},\"zaxis\":{\"backgroundcolor\":\"#E5ECF6\",\"gridcolor\":\"white\",\"linecolor\":\"white\",\"showbackground\":true,\"ticks\":\"\",\"zerolinecolor\":\"white\",\"gridwidth\":2}},\"shapedefaults\":{\"line\":{\"color\":\"#2a3f5f\"}},\"annotationdefaults\":{\"arrowcolor\":\"#2a3f5f\",\"arrowhead\":0,\"arrowwidth\":1},\"geo\":{\"bgcolor\":\"white\",\"landcolor\":\"#E5ECF6\",\"subunitcolor\":\"white\",\"showland\":true,\"showlakes\":true,\"lakecolor\":\"white\"},\"title\":{\"x\":0.05},\"mapbox\":{\"style\":\"light\"}}},\"xaxis\":{\"anchor\":\"y\",\"domain\":[0.0,0.258],\"showticklabels\":false,\"fixedrange\":true},\"yaxis\":{\"anchor\":\"x\",\"domain\":[0.0,1.0],\"showticklabels\":false,\"fixedrange\":true},\"xaxis2\":{\"anchor\":\"y2\",\"domain\":[0.398,1.0],\"showticklabels\":false,\"fixedrange\":true},\"yaxis2\":{\"anchor\":\"x2\",\"domain\":[0.0,1.0],\"title\":{\"text\":\"Energy (eV)\",\"standoff\":5},\"range\":[0,null],\"tickmode\":\"array\",\"tickvals\":[0.0,0.1,0.27724560738993026,0.47992689700710667,0.9319456261578879,0.9661704974083188,1.077359753690702,1.1],\"ticktext\":[\"0.00e+00\",\"2.39e-02\",\"1.97e+00\",\"4.19e+00\",\"9.15e+00\",\"9.52e+00\",\"1.07e+01\",\"1.10e+01\"],\"fixedrange\":true},\"title\":{\"text\":\"Grotrian Diagram for Oxygen I (Shell: 0)\",\"x\":0.5},\"plot_bgcolor\":\"white\",\"autosize\":false,\"width\":1000,\"height\":700,\"showlegend\":false,\"annotations\":[{\"showarrow\":false,\"text\":\"n=0\",\"x\":1.1,\"xref\":\"x2\",\"y\":0.0,\"yref\":\"y2\"},{\"showarrow\":false,\"text\":\"n=1\",\"x\":1.1,\"xref\":\"x2\",\"y\":0.1,\"yref\":\"y2\"},{\"showarrow\":false,\"text\":\"n=2\",\"x\":1.1,\"xref\":\"x2\",\"y\":0.27724560738993026,\"yref\":\"y2\"},{\"showarrow\":false,\"text\":\"n=3\",\"x\":1.1,\"xref\":\"x2\",\"y\":0.47992689700710667,\"yref\":\"y2\"},{\"showarrow\":false,\"text\":\"n=4\",\"x\":1.1,\"xref\":\"x2\",\"y\":0.9319456261578879,\"yref\":\"y2\"},{\"showarrow\":false,\"text\":\"n=5\",\"x\":1.1,\"xref\":\"x2\",\"y\":0.9661704974083188,\"yref\":\"y2\"},{\"showarrow\":false,\"text\":\"n=6\",\"x\":1.1,\"xref\":\"x2\",\"y\":1.077359753690702,\"yref\":\"y2\"},{\"showarrow\":false,\"text\":\"n=7\",\"x\":1.1,\"xref\":\"x2\",\"y\":1.1,\"yref\":\"y2\"},{\"showarrow\":false,\"text\":\"3.2e-03\",\"x\":0.35,\"xref\":\"x\",\"y\":0.0,\"yref\":\"y\"},{\"showarrow\":false,\"text\":\"1.2e-02\",\"x\":0.35,\"xref\":\"x\",\"y\":0.1111111111111111,\"yref\":\"y\"},{\"showarrow\":false,\"text\":\"4.5e-02\",\"x\":0.35,\"xref\":\"x\",\"y\":0.2222222222222222,\"yref\":\"y\"},{\"showarrow\":false,\"text\":\"1.7e-01\",\"x\":0.35,\"xref\":\"x\",\"y\":0.3333333333333333,\"yref\":\"y\"},{\"showarrow\":false,\"text\":\"6.3e-01\",\"x\":0.35,\"xref\":\"x\",\"y\":0.4444444444444444,\"yref\":\"y\"},{\"showarrow\":false,\"text\":\"2.3e+00\",\"x\":0.35,\"xref\":\"x\",\"y\":0.5555555555555556,\"yref\":\"y\"},{\"showarrow\":false,\"text\":\"8.8e+00\",\"x\":0.35,\"xref\":\"x\",\"y\":0.6666666666666666,\"yref\":\"y\"},{\"showarrow\":false,\"text\":\"3.3e+01\",\"x\":0.35,\"xref\":\"x\",\"y\":0.7777777777777777,\"yref\":\"y\"},{\"showarrow\":false,\"text\":\"1.2e+02\",\"x\":0.35,\"xref\":\"x\",\"y\":0.8888888888888888,\"yref\":\"y\"},{\"showarrow\":false,\"text\":\"4.6e+02\",\"x\":0.35,\"xref\":\"x\",\"y\":1.0,\"yref\":\"y\"},{\"showarrow\":false,\"text\":\"Populations\",\"x\":0.28,\"xref\":\"x\",\"y\":-0.08,\"yref\":\"y\"},{\"showarrow\":false,\"text\":\"4.0e+00\",\"x\":0.9,\"xref\":\"x\",\"y\":0.0,\"yref\":\"y\"},{\"showarrow\":false,\"text\":\"5.0e+00\",\"x\":0.9,\"xref\":\"x\",\"y\":0.1111111111111111,\"yref\":\"y\"},{\"showarrow\":false,\"text\":\"6.2e+00\",\"x\":0.9,\"xref\":\"x\",\"y\":0.2222222222222222,\"yref\":\"y\"},{\"showarrow\":false,\"text\":\"7.7e+00\",\"x\":0.9,\"xref\":\"x\",\"y\":0.3333333333333333,\"yref\":\"y\"},{\"showarrow\":false,\"text\":\"9.6e+00\",\"x\":0.9,\"xref\":\"x\",\"y\":0.4444444444444444,\"yref\":\"y\"},{\"showarrow\":false,\"text\":\"1.2e+01\",\"x\":0.9,\"xref\":\"x\",\"y\":0.5555555555555556,\"yref\":\"y\"},{\"showarrow\":false,\"text\":\"1.5e+01\",\"x\":0.9,\"xref\":\"x\",\"y\":0.6666666666666666,\"yref\":\"y\"},{\"showarrow\":false,\"text\":\"1.9e+01\",\"x\":0.9,\"xref\":\"x\",\"y\":0.7777777777777777,\"yref\":\"y\"},{\"showarrow\":false,\"text\":\"2.3e+01\",\"x\":0.9,\"xref\":\"x\",\"y\":0.8888888888888888,\"yref\":\"y\"},{\"showarrow\":false,\"text\":\"2.9e+01\",\"x\":0.9,\"xref\":\"x\",\"y\":1.0,\"yref\":\"y\"},{\"showarrow\":false,\"text\":\"#Packets\",\"x\":0.83,\"xref\":\"x\",\"y\":-0.08,\"yref\":\"y\"}],\"shapes\":[{\"line\":{\"width\":1.003},\"type\":\"line\",\"x0\":0.1,\"x1\":0.2,\"xref\":\"x\",\"y0\":0.0,\"y1\":0.0,\"yref\":\"y\"},{\"line\":{\"width\":1.3363333333333332},\"type\":\"line\",\"x0\":0.1,\"x1\":0.2,\"xref\":\"x\",\"y0\":0.1111111111111111,\"y1\":0.1111111111111111,\"yref\":\"y\"},{\"line\":{\"width\":1.6696666666666666},\"type\":\"line\",\"x0\":0.1,\"x1\":0.2,\"xref\":\"x\",\"y0\":0.2222222222222222,\"y1\":0.2222222222222222,\"yref\":\"y\"},{\"line\":{\"width\":2.003},\"type\":\"line\",\"x0\":0.1,\"x1\":0.2,\"xref\":\"x\",\"y0\":0.3333333333333333,\"y1\":0.3333333333333333,\"yref\":\"y\"},{\"line\":{\"width\":2.336333333333333},\"type\":\"line\",\"x0\":0.1,\"x1\":0.2,\"xref\":\"x\",\"y0\":0.4444444444444444,\"y1\":0.4444444444444444,\"yref\":\"y\"},{\"line\":{\"width\":2.669666666666666},\"type\":\"line\",\"x0\":0.1,\"x1\":0.2,\"xref\":\"x\",\"y0\":0.5555555555555556,\"y1\":0.5555555555555556,\"yref\":\"y\"},{\"line\":{\"width\":3.003},\"type\":\"line\",\"x0\":0.1,\"x1\":0.2,\"xref\":\"x\",\"y0\":0.6666666666666666,\"y1\":0.6666666666666666,\"yref\":\"y\"},{\"line\":{\"width\":3.336333333333333},\"type\":\"line\",\"x0\":0.1,\"x1\":0.2,\"xref\":\"x\",\"y0\":0.7777777777777777,\"y1\":0.7777777777777777,\"yref\":\"y\"},{\"line\":{\"width\":3.669666666666666},\"type\":\"line\",\"x0\":0.1,\"x1\":0.2,\"xref\":\"x\",\"y0\":0.8888888888888888,\"y1\":0.8888888888888888,\"yref\":\"y\"},{\"line\":{\"width\":4.003},\"type\":\"line\",\"x0\":0.1,\"x1\":0.2,\"xref\":\"x\",\"y0\":1.0,\"y1\":1.0,\"yref\":\"y\"},{\"line\":{\"color\":\"grey\",\"dash\":\"dash\",\"width\":0.5},\"type\":\"line\",\"x0\":0.55,\"x1\":0.55,\"xref\":\"x\",\"y0\":0,\"y1\":1,\"yref\":\"y\"},{\"line\":{\"width\":1.0},\"type\":\"line\",\"x0\":0.65,\"x1\":0.75,\"xref\":\"x\",\"y0\":0.0,\"y1\":0.0,\"yref\":\"y\"},{\"line\":{\"width\":1.2222222222222223},\"type\":\"line\",\"x0\":0.65,\"x1\":0.75,\"xref\":\"x\",\"y0\":0.1111111111111111,\"y1\":0.1111111111111111,\"yref\":\"y\"},{\"line\":{\"width\":1.4444444444444444},\"type\":\"line\",\"x0\":0.65,\"x1\":0.75,\"xref\":\"x\",\"y0\":0.2222222222222222,\"y1\":0.2222222222222222,\"yref\":\"y\"},{\"line\":{\"width\":1.6666666666666665},\"type\":\"line\",\"x0\":0.65,\"x1\":0.75,\"xref\":\"x\",\"y0\":0.3333333333333333,\"y1\":0.3333333333333333,\"yref\":\"y\"},{\"line\":{\"width\":1.8888888888888888},\"type\":\"line\",\"x0\":0.65,\"x1\":0.75,\"xref\":\"x\",\"y0\":0.4444444444444444,\"y1\":0.4444444444444444,\"yref\":\"y\"},{\"line\":{\"width\":2.111111111111111},\"type\":\"line\",\"x0\":0.65,\"x1\":0.75,\"xref\":\"x\",\"y0\":0.5555555555555556,\"y1\":0.5555555555555556,\"yref\":\"y\"},{\"line\":{\"width\":2.333333333333333},\"type\":\"line\",\"x0\":0.65,\"x1\":0.75,\"xref\":\"x\",\"y0\":0.6666666666666666,\"y1\":0.6666666666666666,\"yref\":\"y\"},{\"line\":{\"width\":2.5555555555555554},\"type\":\"line\",\"x0\":0.65,\"x1\":0.75,\"xref\":\"x\",\"y0\":0.7777777777777777,\"y1\":0.7777777777777777,\"yref\":\"y\"},{\"line\":{\"width\":2.7777777777777777},\"type\":\"line\",\"x0\":0.65,\"x1\":0.75,\"xref\":\"x\",\"y0\":0.8888888888888888,\"y1\":0.8888888888888888,\"yref\":\"y\"},{\"line\":{\"width\":3.0},\"type\":\"line\",\"x0\":0.65,\"x1\":0.75,\"xref\":\"x\",\"y0\":1.0,\"y1\":1.0,\"yref\":\"y\"}]},                        {\"responsive\": true}                    ).then(function(){\n",
       "                            \n",
       "var gd = document.getElementById('64898ced-ff9f-4ba1-802e-dbafe02982ea');\n",
       "var x = new MutationObserver(function (mutations, observer) {{\n",
       "        var display = window.getComputedStyle(gd).display;\n",
       "        if (!display || display === 'none') {{\n",
       "            console.log([gd, 'removed!']);\n",
       "            Plotly.purge(gd);\n",
       "            observer.disconnect();\n",
       "        }}\n",
       "}});\n",
       "\n",
       "// Listen for the removal of the full notebook cells\n",
       "var notebookContainer = gd.closest('#notebook-container');\n",
       "if (notebookContainer) {{\n",
       "    x.observe(notebookContainer, {childList: true});\n",
       "}}\n",
       "\n",
       "// Listen for the clearing of the current output cell\n",
       "var outputEl = gd.closest('.output');\n",
       "if (outputEl) {{\n",
       "    x.observe(outputEl, {childList: true});\n",
       "}}\n",
       "\n",
       "                        })                };                });            </script>        </div>"
      ]
     },
     "metadata": {},
     "output_type": "display_data"
    }
   ],
   "source": [
    "diag.shell = 0\n",
    "diag.display()"
   ]
  },
  {
   "cell_type": "code",
   "execution_count": 7,
   "metadata": {},
   "outputs": [
    {
     "data": {
      "application/vnd.plotly.v1+json": {
       "config": {
        "plotlyServerURL": "https://plot.ly"
       },
       "data": [
        {
         "hovertemplate": "Energy: 0.00e+00 eV<br>Population: 4.57e+02<extra></extra>",
         "line": {
          "color": "black",
          "width": 4.003
         },
         "mode": "lines",
         "showlegend": false,
         "type": "scatter",
         "x": [
          -0.05,
          0.07222222222222223,
          0.19444444444444448,
          0.3166666666666667,
          0.43888888888888894,
          0.5611111111111111,
          0.6833333333333333,
          0.8055555555555556,
          0.9277777777777778,
          1.05
         ],
         "xaxis": "x2",
         "y": [
          0,
          0,
          0,
          0,
          0,
          0,
          0,
          0,
          0,
          0
         ],
         "yaxis": "y2"
        },
        {
         "hovertemplate": "Energy: 2.39e-02 eV<br>Population: 3.58e+02<extra></extra>",
         "line": {
          "color": "black",
          "width": 3.9408892564087155
         },
         "mode": "lines",
         "showlegend": false,
         "type": "scatter",
         "x": [
          -0.05,
          0.07222222222222223,
          0.19444444444444448,
          0.3166666666666667,
          0.43888888888888894,
          0.5611111111111111,
          0.6833333333333333,
          0.8055555555555556,
          0.9277777777777778,
          1.05
         ],
         "xaxis": "x2",
         "y": [
          0.1,
          0.1,
          0.1,
          0.1,
          0.1,
          0.1,
          0.1,
          0.1,
          0.1,
          0.1
         ],
         "yaxis": "y2"
        },
        {
         "hovertemplate": "Energy: 1.97e+00 eV<br>Population: 5.99e+01<extra></extra>",
         "line": {
          "color": "black",
          "width": 3.489026566703482
         },
         "mode": "lines",
         "showlegend": false,
         "type": "scatter",
         "x": [
          -0.05,
          0.07222222222222223,
          0.19444444444444448,
          0.3166666666666667,
          0.43888888888888894,
          0.5611111111111111,
          0.6833333333333333,
          0.8055555555555556,
          0.9277777777777778,
          1.05
         ],
         "xaxis": "x2",
         "y": [
          0.8194521672306786,
          0.8194521672306786,
          0.8194521672306786,
          0.8194521672306786,
          0.8194521672306786,
          0.8194521672306786,
          0.8194521672306786,
          0.8194521672306786,
          0.8194521672306786,
          0.8194521672306786
         ],
         "yaxis": "y2"
        },
        {
         "hovertemplate": "Energy: 4.19e+00 eV<br>Population: 1.21e+00<extra></extra>",
         "line": {
          "color": "black",
          "width": 2.5014257774925226
         },
         "mode": "lines",
         "showlegend": false,
         "type": "scatter",
         "x": [
          -0.05,
          0.07222222222222223,
          0.19444444444444448,
          0.3166666666666667,
          0.43888888888888894,
          0.5611111111111111,
          0.6833333333333333,
          0.8055555555555556,
          0.9277777777777778,
          1.05
         ],
         "xaxis": "x2",
         "y": [
          0.9427408528860436,
          0.9427408528860436,
          0.9427408528860436,
          0.9427408528860436,
          0.9427408528860436,
          0.9427408528860436,
          0.9427408528860436,
          0.9427408528860436,
          0.9427408528860436,
          0.9427408528860436
         ],
         "yaxis": "y2"
        },
        {
         "hovertemplate": "Energy: 9.15e+00 eV<br>Population: 3.60e-02<extra></extra>",
         "line": {
          "color": "black",
          "width": 1.6135857851483588
         },
         "mode": "lines",
         "showlegend": false,
         "type": "scatter",
         "x": [
          -0.05,
          0.07222222222222223,
          0.19444444444444448,
          0.3166666666666667,
          0.43888888888888894,
          0.5611111111111111,
          0.6833333333333333,
          0.8055555555555556,
          0.9277777777777778,
          1.05
         ],
         "xaxis": "x2",
         "y": [
          1.0700645769253276,
          1.0700645769253276,
          1.0700645769253276,
          1.0700645769253276,
          1.0700645769253276,
          1.0700645769253276,
          1.0700645769253276,
          1.0700645769253276,
          1.0700645769253276,
          1.0700645769253276
         ],
         "yaxis": "y2"
        },
        {
         "hovertemplate": "Energy: 9.52e+00 eV<br>Population: 1.47e-02<extra></extra>",
         "line": {
          "color": "black",
          "width": 1.3863653577832453
         },
         "mode": "lines",
         "showlegend": false,
         "type": "scatter",
         "x": [
          -0.05,
          0.07222222222222223,
          0.19444444444444448,
          0.3166666666666667,
          0.43888888888888894,
          0.5611111111111111,
          0.6833333333333333,
          0.8055555555555556,
          0.9277777777777778,
          1.05
         ],
         "xaxis": "x2",
         "y": [
          1.0766227522436824,
          1.0766227522436824,
          1.0766227522436824,
          1.0766227522436824,
          1.0766227522436824,
          1.0766227522436824,
          1.0766227522436824,
          1.0766227522436824,
          1.0766227522436824,
          1.0766227522436824
         ],
         "yaxis": "y2"
        },
        {
         "hovertemplate": "Energy: 1.07e+01 eV<br>Population: 2.08e-02<extra></extra>",
         "line": {
          "color": "black",
          "width": 1.474834169004034
         },
         "mode": "lines",
         "showlegend": false,
         "type": "scatter",
         "x": [
          -0.05,
          0.07222222222222223,
          0.19444444444444448,
          0.3166666666666667,
          0.43888888888888894,
          0.5611111111111111,
          0.6833333333333333,
          0.8055555555555556,
          0.9277777777777778,
          1.05
         ],
         "xaxis": "x2",
         "y": [
          1.0962733262152717,
          1.0962733262152717,
          1.0962733262152717,
          1.0962733262152717,
          1.0962733262152717,
          1.0962733262152717,
          1.0962733262152717,
          1.0962733262152717,
          1.0962733262152717,
          1.0962733262152717
         ],
         "yaxis": "y2"
        },
        {
         "hovertemplate": "Energy: 1.10e+01 eV<br>Population: 3.22e-03<extra></extra>",
         "line": {
          "color": "black",
          "width": 1.003
         },
         "mode": "lines",
         "showlegend": false,
         "type": "scatter",
         "x": [
          -0.05,
          0.07222222222222223,
          0.19444444444444448,
          0.3166666666666667,
          0.43888888888888894,
          0.5611111111111111,
          0.6833333333333333,
          0.8055555555555556,
          0.9277777777777778,
          1.05
         ],
         "xaxis": "x2",
         "y": [
          1.1,
          1.1,
          1.1,
          1.1,
          1.1,
          1.1,
          1.1,
          1.1,
          1.1,
          1.1
         ],
         "yaxis": "y2"
        },
        {
         "hovertemplate": "Count: 7<br>Wavelength: 1.30e+03 Å<extra></extra>",
         "line": {
          "color": "#8000ff",
          "width": 1.5649827087262111
         },
         "marker": {
          "angleref": "previous",
          "color": "#8000ff",
          "size": 9,
          "symbol": "arrow-bar-up"
         },
         "type": "scatter",
         "x": [
          0,
          0.8664613492856591
         ],
         "xaxis": "x2",
         "y": [
          0,
          1.0766227522436824
         ],
         "yaxis": "y2"
        },
        {
         "hovertemplate": "Count: 29<br>Wavelength: 1.31e+03 Å<extra></extra>",
         "line": {
          "color": "#8000ff",
          "width": 3
         },
         "marker": {
          "angleref": "previous",
          "color": "#8000ff",
          "size": 9,
          "symbol": "arrow-bar-up"
         },
         "type": "scatter",
         "x": [
          0,
          0.8661704974083189
         ],
         "xaxis": "x2",
         "y": [
          0.1,
          1.0766227522436824
         ],
         "yaxis": "y2"
        },
        {
         "hovertemplate": "Count: 7<br>Wavelength: 1.30e+03 Å<extra></extra>",
         "line": {
          "color": "#8000ff",
          "width": 1.5649827087262111
         },
         "marker": {
          "angleref": "previous",
          "color": "#8000ff",
          "size": 9,
          "symbol": "arrow-bar-up"
         },
         "type": "scatter",
         "x": [
          0,
          0.8664613492856591
         ],
         "xaxis": "x2",
         "y": [
          1.0766227522436824,
          0
         ],
         "yaxis": "y2"
        },
        {
         "hovertemplate": "Count: 27<br>Wavelength: 1.31e+03 Å<extra></extra>",
         "line": {
          "color": "#8000ff",
          "width": 2.927855718327125
         },
         "marker": {
          "angleref": "previous",
          "color": "#8000ff",
          "size": 9,
          "symbol": "arrow-bar-up"
         },
         "type": "scatter",
         "x": [
          0,
          0.8661704974083189
         ],
         "xaxis": "x2",
         "y": [
          1.0766227522436824,
          0.1
         ],
         "yaxis": "y2"
        },
        {
         "hovertemplate": "Count: 4<br>Wavelength: 7.78e+03 Å<extra></extra>",
         "line": {
          "color": "#ff0000",
          "width": 1
         },
         "marker": {
          "angleref": "previous",
          "color": "#ff0000",
          "size": 9,
          "symbol": "arrow-bar-up"
         },
         "type": "scatter",
         "x": [
          0,
          0.86528023167925
         ],
         "xaxis": "x2",
         "y": [
          1.0962733262152717,
          1.0700645769253276
         ],
         "yaxis": "y2"
        },
        {
         "hoverinfo": "none",
         "marker": {
          "cmax": 8.958793741798225,
          "cmin": 7.171785846702633,
          "colorbar": {
           "outlinewidth": 0,
           "thickness": 5,
           "ticktext": [
            "1.3e+03",
            "1.6e+03",
            "1.9e+03",
            "2.4e+03",
            "2.9e+03",
            "3.5e+03",
            "4.3e+03",
            "5.2e+03",
            "6.4e+03",
            "7.8e+03"
           ],
           "tickvals": [
            7.171785846702633,
            7.370342279491033,
            7.568898712279431,
            7.76745514506783,
            7.9660115778562295,
            8.164568010644627,
            8.363124443433026,
            8.561680876221427,
            8.760237309009824,
            8.958793741798223
           ],
           "title": {
            "font": {
             "size": 12
            },
            "text": "Wavelength (Å)<br>&nbsp;"
           }
          },
          "colorscale": [
           [
            0,
            "rgb(150,0,90)"
           ],
           [
            0.125,
            "rgb(0,0,200)"
           ],
           [
            0.25,
            "rgb(0,25,255)"
           ],
           [
            0.375,
            "rgb(0,152,255)"
           ],
           [
            0.5,
            "rgb(44,255,150)"
           ],
           [
            0.625,
            "rgb(151,255,0)"
           ],
           [
            0.75,
            "rgb(255,234,0)"
           ],
           [
            0.875,
            "rgb(255,111,0)"
           ],
           [
            1,
            "rgb(255,0,0)"
           ]
          ],
          "showscale": true
         },
         "mode": "markers",
         "type": "scatter",
         "x": [
          null
         ],
         "xaxis": "x2",
         "y": [
          null
         ],
         "yaxis": "y2"
        }
       ],
       "layout": {
        "annotations": [
         {
          "showarrow": false,
          "text": "n=0",
          "x": 1.1,
          "xref": "x2",
          "y": 0,
          "yref": "y2"
         },
         {
          "showarrow": false,
          "text": "n=1",
          "x": 1.1,
          "xref": "x2",
          "y": 0.1,
          "yref": "y2"
         },
         {
          "showarrow": false,
          "text": "n=2",
          "x": 1.1,
          "xref": "x2",
          "y": 0.8194521672306786,
          "yref": "y2"
         },
         {
          "showarrow": false,
          "text": "n=3",
          "x": 1.1,
          "xref": "x2",
          "y": 0.9427408528860436,
          "yref": "y2"
         },
         {
          "showarrow": false,
          "text": "n=4",
          "x": 1.1,
          "xref": "x2",
          "y": 1.0700645769253276,
          "yref": "y2"
         },
         {
          "showarrow": false,
          "text": "n=5",
          "x": 1.1,
          "xref": "x2",
          "y": 1.0766227522436824,
          "yref": "y2"
         },
         {
          "showarrow": false,
          "text": "n=6",
          "x": 1.1,
          "xref": "x2",
          "y": 1.0962733262152717,
          "yref": "y2"
         },
         {
          "showarrow": false,
          "text": "n=7",
          "x": 1.1,
          "xref": "x2",
          "y": 1.1,
          "yref": "y2"
         },
         {
          "showarrow": false,
          "text": "3.2e-03",
          "x": 0.35,
          "xref": "x",
          "y": 0,
          "yref": "y"
         },
         {
          "showarrow": false,
          "text": "1.2e-02",
          "x": 0.35,
          "xref": "x",
          "y": 0.1111111111111111,
          "yref": "y"
         },
         {
          "showarrow": false,
          "text": "4.5e-02",
          "x": 0.35,
          "xref": "x",
          "y": 0.2222222222222222,
          "yref": "y"
         },
         {
          "showarrow": false,
          "text": "1.7e-01",
          "x": 0.35,
          "xref": "x",
          "y": 0.3333333333333333,
          "yref": "y"
         },
         {
          "showarrow": false,
          "text": "6.3e-01",
          "x": 0.35,
          "xref": "x",
          "y": 0.4444444444444444,
          "yref": "y"
         },
         {
          "showarrow": false,
          "text": "2.3e+00",
          "x": 0.35,
          "xref": "x",
          "y": 0.5555555555555556,
          "yref": "y"
         },
         {
          "showarrow": false,
          "text": "8.8e+00",
          "x": 0.35,
          "xref": "x",
          "y": 0.6666666666666666,
          "yref": "y"
         },
         {
          "showarrow": false,
          "text": "3.3e+01",
          "x": 0.35,
          "xref": "x",
          "y": 0.7777777777777777,
          "yref": "y"
         },
         {
          "showarrow": false,
          "text": "1.2e+02",
          "x": 0.35,
          "xref": "x",
          "y": 0.8888888888888888,
          "yref": "y"
         },
         {
          "showarrow": false,
          "text": "4.6e+02",
          "x": 0.35,
          "xref": "x",
          "y": 1,
          "yref": "y"
         },
         {
          "showarrow": false,
          "text": "Populations",
          "x": 0.28,
          "xref": "x",
          "y": -0.08,
          "yref": "y"
         },
         {
          "showarrow": false,
          "text": "4.0e+00",
          "x": 0.9,
          "xref": "x",
          "y": 0,
          "yref": "y"
         },
         {
          "showarrow": false,
          "text": "5.0e+00",
          "x": 0.9,
          "xref": "x",
          "y": 0.1111111111111111,
          "yref": "y"
         },
         {
          "showarrow": false,
          "text": "6.2e+00",
          "x": 0.9,
          "xref": "x",
          "y": 0.2222222222222222,
          "yref": "y"
         },
         {
          "showarrow": false,
          "text": "7.7e+00",
          "x": 0.9,
          "xref": "x",
          "y": 0.3333333333333333,
          "yref": "y"
         },
         {
          "showarrow": false,
          "text": "9.6e+00",
          "x": 0.9,
          "xref": "x",
          "y": 0.4444444444444444,
          "yref": "y"
         },
         {
          "showarrow": false,
          "text": "1.2e+01",
          "x": 0.9,
          "xref": "x",
          "y": 0.5555555555555556,
          "yref": "y"
         },
         {
          "showarrow": false,
          "text": "1.5e+01",
          "x": 0.9,
          "xref": "x",
          "y": 0.6666666666666666,
          "yref": "y"
         },
         {
          "showarrow": false,
          "text": "1.9e+01",
          "x": 0.9,
          "xref": "x",
          "y": 0.7777777777777777,
          "yref": "y"
         },
         {
          "showarrow": false,
          "text": "2.3e+01",
          "x": 0.9,
          "xref": "x",
          "y": 0.8888888888888888,
          "yref": "y"
         },
         {
          "showarrow": false,
          "text": "2.9e+01",
          "x": 0.9,
          "xref": "x",
          "y": 1,
          "yref": "y"
         },
         {
          "showarrow": false,
          "text": "#Packets",
          "x": 0.83,
          "xref": "x",
          "y": -0.08,
          "yref": "y"
         }
        ],
        "autosize": false,
        "height": 700,
        "plot_bgcolor": "white",
        "shapes": [
         {
          "line": {
           "width": 1.003
          },
          "type": "line",
          "x0": 0.1,
          "x1": 0.2,
          "xref": "x",
          "y0": 0,
          "y1": 0,
          "yref": "y"
         },
         {
          "line": {
           "width": 1.3363333333333332
          },
          "type": "line",
          "x0": 0.1,
          "x1": 0.2,
          "xref": "x",
          "y0": 0.1111111111111111,
          "y1": 0.1111111111111111,
          "yref": "y"
         },
         {
          "line": {
           "width": 1.6696666666666666
          },
          "type": "line",
          "x0": 0.1,
          "x1": 0.2,
          "xref": "x",
          "y0": 0.2222222222222222,
          "y1": 0.2222222222222222,
          "yref": "y"
         },
         {
          "line": {
           "width": 2.003
          },
          "type": "line",
          "x0": 0.1,
          "x1": 0.2,
          "xref": "x",
          "y0": 0.3333333333333333,
          "y1": 0.3333333333333333,
          "yref": "y"
         },
         {
          "line": {
           "width": 2.336333333333333
          },
          "type": "line",
          "x0": 0.1,
          "x1": 0.2,
          "xref": "x",
          "y0": 0.4444444444444444,
          "y1": 0.4444444444444444,
          "yref": "y"
         },
         {
          "line": {
           "width": 2.669666666666666
          },
          "type": "line",
          "x0": 0.1,
          "x1": 0.2,
          "xref": "x",
          "y0": 0.5555555555555556,
          "y1": 0.5555555555555556,
          "yref": "y"
         },
         {
          "line": {
           "width": 3.003
          },
          "type": "line",
          "x0": 0.1,
          "x1": 0.2,
          "xref": "x",
          "y0": 0.6666666666666666,
          "y1": 0.6666666666666666,
          "yref": "y"
         },
         {
          "line": {
           "width": 3.336333333333333
          },
          "type": "line",
          "x0": 0.1,
          "x1": 0.2,
          "xref": "x",
          "y0": 0.7777777777777777,
          "y1": 0.7777777777777777,
          "yref": "y"
         },
         {
          "line": {
           "width": 3.669666666666666
          },
          "type": "line",
          "x0": 0.1,
          "x1": 0.2,
          "xref": "x",
          "y0": 0.8888888888888888,
          "y1": 0.8888888888888888,
          "yref": "y"
         },
         {
          "line": {
           "width": 4.003
          },
          "type": "line",
          "x0": 0.1,
          "x1": 0.2,
          "xref": "x",
          "y0": 1,
          "y1": 1,
          "yref": "y"
         },
         {
          "line": {
           "color": "grey",
           "dash": "dash",
           "width": 0.5
          },
          "type": "line",
          "x0": 0.55,
          "x1": 0.55,
          "xref": "x",
          "y0": 0,
          "y1": 1,
          "yref": "y"
         },
         {
          "line": {
           "width": 1
          },
          "type": "line",
          "x0": 0.65,
          "x1": 0.75,
          "xref": "x",
          "y0": 0,
          "y1": 0,
          "yref": "y"
         },
         {
          "line": {
           "width": 1.2222222222222223
          },
          "type": "line",
          "x0": 0.65,
          "x1": 0.75,
          "xref": "x",
          "y0": 0.1111111111111111,
          "y1": 0.1111111111111111,
          "yref": "y"
         },
         {
          "line": {
           "width": 1.4444444444444444
          },
          "type": "line",
          "x0": 0.65,
          "x1": 0.75,
          "xref": "x",
          "y0": 0.2222222222222222,
          "y1": 0.2222222222222222,
          "yref": "y"
         },
         {
          "line": {
           "width": 1.6666666666666665
          },
          "type": "line",
          "x0": 0.65,
          "x1": 0.75,
          "xref": "x",
          "y0": 0.3333333333333333,
          "y1": 0.3333333333333333,
          "yref": "y"
         },
         {
          "line": {
           "width": 1.8888888888888888
          },
          "type": "line",
          "x0": 0.65,
          "x1": 0.75,
          "xref": "x",
          "y0": 0.4444444444444444,
          "y1": 0.4444444444444444,
          "yref": "y"
         },
         {
          "line": {
           "width": 2.111111111111111
          },
          "type": "line",
          "x0": 0.65,
          "x1": 0.75,
          "xref": "x",
          "y0": 0.5555555555555556,
          "y1": 0.5555555555555556,
          "yref": "y"
         },
         {
          "line": {
           "width": 2.333333333333333
          },
          "type": "line",
          "x0": 0.65,
          "x1": 0.75,
          "xref": "x",
          "y0": 0.6666666666666666,
          "y1": 0.6666666666666666,
          "yref": "y"
         },
         {
          "line": {
           "width": 2.5555555555555554
          },
          "type": "line",
          "x0": 0.65,
          "x1": 0.75,
          "xref": "x",
          "y0": 0.7777777777777777,
          "y1": 0.7777777777777777,
          "yref": "y"
         },
         {
          "line": {
           "width": 2.7777777777777777
          },
          "type": "line",
          "x0": 0.65,
          "x1": 0.75,
          "xref": "x",
          "y0": 0.8888888888888888,
          "y1": 0.8888888888888888,
          "yref": "y"
         },
         {
          "line": {
           "width": 3
          },
          "type": "line",
          "x0": 0.65,
          "x1": 0.75,
          "xref": "x",
          "y0": 1,
          "y1": 1,
          "yref": "y"
         }
        ],
        "showlegend": false,
        "template": {
         "data": {
          "bar": [
           {
            "error_x": {
             "color": "#2a3f5f"
            },
            "error_y": {
             "color": "#2a3f5f"
            },
            "marker": {
             "line": {
              "color": "#E5ECF6",
              "width": 0.5
             },
             "pattern": {
              "fillmode": "overlay",
              "size": 10,
              "solidity": 0.2
             }
            },
            "type": "bar"
           }
          ],
          "barpolar": [
           {
            "marker": {
             "line": {
              "color": "#E5ECF6",
              "width": 0.5
             },
             "pattern": {
              "fillmode": "overlay",
              "size": 10,
              "solidity": 0.2
             }
            },
            "type": "barpolar"
           }
          ],
          "carpet": [
           {
            "aaxis": {
             "endlinecolor": "#2a3f5f",
             "gridcolor": "white",
             "linecolor": "white",
             "minorgridcolor": "white",
             "startlinecolor": "#2a3f5f"
            },
            "baxis": {
             "endlinecolor": "#2a3f5f",
             "gridcolor": "white",
             "linecolor": "white",
             "minorgridcolor": "white",
             "startlinecolor": "#2a3f5f"
            },
            "type": "carpet"
           }
          ],
          "choropleth": [
           {
            "colorbar": {
             "outlinewidth": 0,
             "ticks": ""
            },
            "type": "choropleth"
           }
          ],
          "contour": [
           {
            "colorbar": {
             "outlinewidth": 0,
             "ticks": ""
            },
            "colorscale": [
             [
              0,
              "#0d0887"
             ],
             [
              0.1111111111111111,
              "#46039f"
             ],
             [
              0.2222222222222222,
              "#7201a8"
             ],
             [
              0.3333333333333333,
              "#9c179e"
             ],
             [
              0.4444444444444444,
              "#bd3786"
             ],
             [
              0.5555555555555556,
              "#d8576b"
             ],
             [
              0.6666666666666666,
              "#ed7953"
             ],
             [
              0.7777777777777778,
              "#fb9f3a"
             ],
             [
              0.8888888888888888,
              "#fdca26"
             ],
             [
              1,
              "#f0f921"
             ]
            ],
            "type": "contour"
           }
          ],
          "contourcarpet": [
           {
            "colorbar": {
             "outlinewidth": 0,
             "ticks": ""
            },
            "type": "contourcarpet"
           }
          ],
          "heatmap": [
           {
            "colorbar": {
             "outlinewidth": 0,
             "ticks": ""
            },
            "colorscale": [
             [
              0,
              "#0d0887"
             ],
             [
              0.1111111111111111,
              "#46039f"
             ],
             [
              0.2222222222222222,
              "#7201a8"
             ],
             [
              0.3333333333333333,
              "#9c179e"
             ],
             [
              0.4444444444444444,
              "#bd3786"
             ],
             [
              0.5555555555555556,
              "#d8576b"
             ],
             [
              0.6666666666666666,
              "#ed7953"
             ],
             [
              0.7777777777777778,
              "#fb9f3a"
             ],
             [
              0.8888888888888888,
              "#fdca26"
             ],
             [
              1,
              "#f0f921"
             ]
            ],
            "type": "heatmap"
           }
          ],
          "heatmapgl": [
           {
            "colorbar": {
             "outlinewidth": 0,
             "ticks": ""
            },
            "colorscale": [
             [
              0,
              "#0d0887"
             ],
             [
              0.1111111111111111,
              "#46039f"
             ],
             [
              0.2222222222222222,
              "#7201a8"
             ],
             [
              0.3333333333333333,
              "#9c179e"
             ],
             [
              0.4444444444444444,
              "#bd3786"
             ],
             [
              0.5555555555555556,
              "#d8576b"
             ],
             [
              0.6666666666666666,
              "#ed7953"
             ],
             [
              0.7777777777777778,
              "#fb9f3a"
             ],
             [
              0.8888888888888888,
              "#fdca26"
             ],
             [
              1,
              "#f0f921"
             ]
            ],
            "type": "heatmapgl"
           }
          ],
          "histogram": [
           {
            "marker": {
             "pattern": {
              "fillmode": "overlay",
              "size": 10,
              "solidity": 0.2
             }
            },
            "type": "histogram"
           }
          ],
          "histogram2d": [
           {
            "colorbar": {
             "outlinewidth": 0,
             "ticks": ""
            },
            "colorscale": [
             [
              0,
              "#0d0887"
             ],
             [
              0.1111111111111111,
              "#46039f"
             ],
             [
              0.2222222222222222,
              "#7201a8"
             ],
             [
              0.3333333333333333,
              "#9c179e"
             ],
             [
              0.4444444444444444,
              "#bd3786"
             ],
             [
              0.5555555555555556,
              "#d8576b"
             ],
             [
              0.6666666666666666,
              "#ed7953"
             ],
             [
              0.7777777777777778,
              "#fb9f3a"
             ],
             [
              0.8888888888888888,
              "#fdca26"
             ],
             [
              1,
              "#f0f921"
             ]
            ],
            "type": "histogram2d"
           }
          ],
          "histogram2dcontour": [
           {
            "colorbar": {
             "outlinewidth": 0,
             "ticks": ""
            },
            "colorscale": [
             [
              0,
              "#0d0887"
             ],
             [
              0.1111111111111111,
              "#46039f"
             ],
             [
              0.2222222222222222,
              "#7201a8"
             ],
             [
              0.3333333333333333,
              "#9c179e"
             ],
             [
              0.4444444444444444,
              "#bd3786"
             ],
             [
              0.5555555555555556,
              "#d8576b"
             ],
             [
              0.6666666666666666,
              "#ed7953"
             ],
             [
              0.7777777777777778,
              "#fb9f3a"
             ],
             [
              0.8888888888888888,
              "#fdca26"
             ],
             [
              1,
              "#f0f921"
             ]
            ],
            "type": "histogram2dcontour"
           }
          ],
          "mesh3d": [
           {
            "colorbar": {
             "outlinewidth": 0,
             "ticks": ""
            },
            "type": "mesh3d"
           }
          ],
          "parcoords": [
           {
            "line": {
             "colorbar": {
              "outlinewidth": 0,
              "ticks": ""
             }
            },
            "type": "parcoords"
           }
          ],
          "pie": [
           {
            "automargin": true,
            "type": "pie"
           }
          ],
          "scatter": [
           {
            "fillpattern": {
             "fillmode": "overlay",
             "size": 10,
             "solidity": 0.2
            },
            "type": "scatter"
           }
          ],
          "scatter3d": [
           {
            "line": {
             "colorbar": {
              "outlinewidth": 0,
              "ticks": ""
             }
            },
            "marker": {
             "colorbar": {
              "outlinewidth": 0,
              "ticks": ""
             }
            },
            "type": "scatter3d"
           }
          ],
          "scattercarpet": [
           {
            "marker": {
             "colorbar": {
              "outlinewidth": 0,
              "ticks": ""
             }
            },
            "type": "scattercarpet"
           }
          ],
          "scattergeo": [
           {
            "marker": {
             "colorbar": {
              "outlinewidth": 0,
              "ticks": ""
             }
            },
            "type": "scattergeo"
           }
          ],
          "scattergl": [
           {
            "marker": {
             "colorbar": {
              "outlinewidth": 0,
              "ticks": ""
             }
            },
            "type": "scattergl"
           }
          ],
          "scattermapbox": [
           {
            "marker": {
             "colorbar": {
              "outlinewidth": 0,
              "ticks": ""
             }
            },
            "type": "scattermapbox"
           }
          ],
          "scatterpolar": [
           {
            "marker": {
             "colorbar": {
              "outlinewidth": 0,
              "ticks": ""
             }
            },
            "type": "scatterpolar"
           }
          ],
          "scatterpolargl": [
           {
            "marker": {
             "colorbar": {
              "outlinewidth": 0,
              "ticks": ""
             }
            },
            "type": "scatterpolargl"
           }
          ],
          "scatterternary": [
           {
            "marker": {
             "colorbar": {
              "outlinewidth": 0,
              "ticks": ""
             }
            },
            "type": "scatterternary"
           }
          ],
          "surface": [
           {
            "colorbar": {
             "outlinewidth": 0,
             "ticks": ""
            },
            "colorscale": [
             [
              0,
              "#0d0887"
             ],
             [
              0.1111111111111111,
              "#46039f"
             ],
             [
              0.2222222222222222,
              "#7201a8"
             ],
             [
              0.3333333333333333,
              "#9c179e"
             ],
             [
              0.4444444444444444,
              "#bd3786"
             ],
             [
              0.5555555555555556,
              "#d8576b"
             ],
             [
              0.6666666666666666,
              "#ed7953"
             ],
             [
              0.7777777777777778,
              "#fb9f3a"
             ],
             [
              0.8888888888888888,
              "#fdca26"
             ],
             [
              1,
              "#f0f921"
             ]
            ],
            "type": "surface"
           }
          ],
          "table": [
           {
            "cells": {
             "fill": {
              "color": "#EBF0F8"
             },
             "line": {
              "color": "white"
             }
            },
            "header": {
             "fill": {
              "color": "#C8D4E3"
             },
             "line": {
              "color": "white"
             }
            },
            "type": "table"
           }
          ]
         },
         "layout": {
          "annotationdefaults": {
           "arrowcolor": "#2a3f5f",
           "arrowhead": 0,
           "arrowwidth": 1
          },
          "autotypenumbers": "strict",
          "coloraxis": {
           "colorbar": {
            "outlinewidth": 0,
            "ticks": ""
           }
          },
          "colorscale": {
           "diverging": [
            [
             0,
             "#8e0152"
            ],
            [
             0.1,
             "#c51b7d"
            ],
            [
             0.2,
             "#de77ae"
            ],
            [
             0.3,
             "#f1b6da"
            ],
            [
             0.4,
             "#fde0ef"
            ],
            [
             0.5,
             "#f7f7f7"
            ],
            [
             0.6,
             "#e6f5d0"
            ],
            [
             0.7,
             "#b8e186"
            ],
            [
             0.8,
             "#7fbc41"
            ],
            [
             0.9,
             "#4d9221"
            ],
            [
             1,
             "#276419"
            ]
           ],
           "sequential": [
            [
             0,
             "#0d0887"
            ],
            [
             0.1111111111111111,
             "#46039f"
            ],
            [
             0.2222222222222222,
             "#7201a8"
            ],
            [
             0.3333333333333333,
             "#9c179e"
            ],
            [
             0.4444444444444444,
             "#bd3786"
            ],
            [
             0.5555555555555556,
             "#d8576b"
            ],
            [
             0.6666666666666666,
             "#ed7953"
            ],
            [
             0.7777777777777778,
             "#fb9f3a"
            ],
            [
             0.8888888888888888,
             "#fdca26"
            ],
            [
             1,
             "#f0f921"
            ]
           ],
           "sequentialminus": [
            [
             0,
             "#0d0887"
            ],
            [
             0.1111111111111111,
             "#46039f"
            ],
            [
             0.2222222222222222,
             "#7201a8"
            ],
            [
             0.3333333333333333,
             "#9c179e"
            ],
            [
             0.4444444444444444,
             "#bd3786"
            ],
            [
             0.5555555555555556,
             "#d8576b"
            ],
            [
             0.6666666666666666,
             "#ed7953"
            ],
            [
             0.7777777777777778,
             "#fb9f3a"
            ],
            [
             0.8888888888888888,
             "#fdca26"
            ],
            [
             1,
             "#f0f921"
            ]
           ]
          },
          "colorway": [
           "#636efa",
           "#EF553B",
           "#00cc96",
           "#ab63fa",
           "#FFA15A",
           "#19d3f3",
           "#FF6692",
           "#B6E880",
           "#FF97FF",
           "#FECB52"
          ],
          "font": {
           "color": "#2a3f5f"
          },
          "geo": {
           "bgcolor": "white",
           "lakecolor": "white",
           "landcolor": "#E5ECF6",
           "showlakes": true,
           "showland": true,
           "subunitcolor": "white"
          },
          "hoverlabel": {
           "align": "left"
          },
          "hovermode": "closest",
          "mapbox": {
           "style": "light"
          },
          "paper_bgcolor": "white",
          "plot_bgcolor": "#E5ECF6",
          "polar": {
           "angularaxis": {
            "gridcolor": "white",
            "linecolor": "white",
            "ticks": ""
           },
           "bgcolor": "#E5ECF6",
           "radialaxis": {
            "gridcolor": "white",
            "linecolor": "white",
            "ticks": ""
           }
          },
          "scene": {
           "xaxis": {
            "backgroundcolor": "#E5ECF6",
            "gridcolor": "white",
            "gridwidth": 2,
            "linecolor": "white",
            "showbackground": true,
            "ticks": "",
            "zerolinecolor": "white"
           },
           "yaxis": {
            "backgroundcolor": "#E5ECF6",
            "gridcolor": "white",
            "gridwidth": 2,
            "linecolor": "white",
            "showbackground": true,
            "ticks": "",
            "zerolinecolor": "white"
           },
           "zaxis": {
            "backgroundcolor": "#E5ECF6",
            "gridcolor": "white",
            "gridwidth": 2,
            "linecolor": "white",
            "showbackground": true,
            "ticks": "",
            "zerolinecolor": "white"
           }
          },
          "shapedefaults": {
           "line": {
            "color": "#2a3f5f"
           }
          },
          "ternary": {
           "aaxis": {
            "gridcolor": "white",
            "linecolor": "white",
            "ticks": ""
           },
           "baxis": {
            "gridcolor": "white",
            "linecolor": "white",
            "ticks": ""
           },
           "bgcolor": "#E5ECF6",
           "caxis": {
            "gridcolor": "white",
            "linecolor": "white",
            "ticks": ""
           }
          },
          "title": {
           "x": 0.05
          },
          "xaxis": {
           "automargin": true,
           "gridcolor": "white",
           "linecolor": "white",
           "ticks": "",
           "title": {
            "standoff": 15
           },
           "zerolinecolor": "white",
           "zerolinewidth": 2
          },
          "yaxis": {
           "automargin": true,
           "gridcolor": "white",
           "linecolor": "white",
           "ticks": "",
           "title": {
            "standoff": 15
           },
           "zerolinecolor": "white",
           "zerolinewidth": 2
          }
         }
        },
        "title": {
         "text": "Grotrian Diagram for Oxygen I (Shell: 0)",
         "x": 0.5
        },
        "width": 1000,
        "xaxis": {
         "anchor": "y",
         "domain": [
          0,
          0.258
         ],
         "fixedrange": true,
         "showticklabels": false
        },
        "xaxis2": {
         "anchor": "y2",
         "domain": [
          0.398,
          1
         ],
         "fixedrange": true,
         "showticklabels": false
        },
        "yaxis": {
         "anchor": "x",
         "domain": [
          0,
          1
         ],
         "fixedrange": true,
         "showticklabels": false
        },
        "yaxis2": {
         "anchor": "x2",
         "domain": [
          0,
          1
         ],
         "fixedrange": true,
         "range": [
          0,
          null
         ],
         "tickmode": "array",
         "ticktext": [
          "0.00e+00",
          "2.39e-02",
          "1.97e+00",
          "4.19e+00",
          "9.15e+00",
          "9.52e+00",
          "1.07e+01",
          "1.10e+01"
         ],
         "tickvals": [
          0,
          0.1,
          0.8194521672306786,
          0.9427408528860436,
          1.0700645769253276,
          1.0766227522436824,
          1.0962733262152717,
          1.1
         ],
         "title": {
          "standoff": 5,
          "text": "Energy (eV)"
         }
        }
       }
      },
      "text/html": [
       "<div>                            <div id=\"41effd9e-2c34-4c3a-8e07-949d05ab2dd2\" class=\"plotly-graph-div\" style=\"height:700px; width:1000px;\"></div>            <script type=\"text/javascript\">                require([\"plotly\"], function(Plotly) {                    window.PLOTLYENV=window.PLOTLYENV || {};                                    if (document.getElementById(\"41effd9e-2c34-4c3a-8e07-949d05ab2dd2\")) {                    Plotly.newPlot(                        \"41effd9e-2c34-4c3a-8e07-949d05ab2dd2\",                        [{\"hovertemplate\":\"Energy: 0.00e+00 eV<br>Population: 4.57e+02<extra></extra>\",\"line\":{\"color\":\"black\",\"width\":4.003},\"mode\":\"lines\",\"showlegend\":false,\"x\":[-0.05,0.07222222222222223,0.19444444444444448,0.3166666666666667,0.43888888888888894,0.5611111111111111,0.6833333333333333,0.8055555555555556,0.9277777777777778,1.05],\"y\":[0.0,0.0,0.0,0.0,0.0,0.0,0.0,0.0,0.0,0.0],\"type\":\"scatter\",\"xaxis\":\"x2\",\"yaxis\":\"y2\"},{\"hovertemplate\":\"Energy: 2.39e-02 eV<br>Population: 3.58e+02<extra></extra>\",\"line\":{\"color\":\"black\",\"width\":3.9408892564087155},\"mode\":\"lines\",\"showlegend\":false,\"x\":[-0.05,0.07222222222222223,0.19444444444444448,0.3166666666666667,0.43888888888888894,0.5611111111111111,0.6833333333333333,0.8055555555555556,0.9277777777777778,1.05],\"y\":[0.1,0.1,0.1,0.1,0.1,0.1,0.1,0.1,0.1,0.1],\"type\":\"scatter\",\"xaxis\":\"x2\",\"yaxis\":\"y2\"},{\"hovertemplate\":\"Energy: 1.97e+00 eV<br>Population: 5.99e+01<extra></extra>\",\"line\":{\"color\":\"black\",\"width\":3.489026566703482},\"mode\":\"lines\",\"showlegend\":false,\"x\":[-0.05,0.07222222222222223,0.19444444444444448,0.3166666666666667,0.43888888888888894,0.5611111111111111,0.6833333333333333,0.8055555555555556,0.9277777777777778,1.05],\"y\":[0.8194521672306786,0.8194521672306786,0.8194521672306786,0.8194521672306786,0.8194521672306786,0.8194521672306786,0.8194521672306786,0.8194521672306786,0.8194521672306786,0.8194521672306786],\"type\":\"scatter\",\"xaxis\":\"x2\",\"yaxis\":\"y2\"},{\"hovertemplate\":\"Energy: 4.19e+00 eV<br>Population: 1.21e+00<extra></extra>\",\"line\":{\"color\":\"black\",\"width\":2.5014257774925226},\"mode\":\"lines\",\"showlegend\":false,\"x\":[-0.05,0.07222222222222223,0.19444444444444448,0.3166666666666667,0.43888888888888894,0.5611111111111111,0.6833333333333333,0.8055555555555556,0.9277777777777778,1.05],\"y\":[0.9427408528860436,0.9427408528860436,0.9427408528860436,0.9427408528860436,0.9427408528860436,0.9427408528860436,0.9427408528860436,0.9427408528860436,0.9427408528860436,0.9427408528860436],\"type\":\"scatter\",\"xaxis\":\"x2\",\"yaxis\":\"y2\"},{\"hovertemplate\":\"Energy: 9.15e+00 eV<br>Population: 3.60e-02<extra></extra>\",\"line\":{\"color\":\"black\",\"width\":1.6135857851483588},\"mode\":\"lines\",\"showlegend\":false,\"x\":[-0.05,0.07222222222222223,0.19444444444444448,0.3166666666666667,0.43888888888888894,0.5611111111111111,0.6833333333333333,0.8055555555555556,0.9277777777777778,1.05],\"y\":[1.0700645769253276,1.0700645769253276,1.0700645769253276,1.0700645769253276,1.0700645769253276,1.0700645769253276,1.0700645769253276,1.0700645769253276,1.0700645769253276,1.0700645769253276],\"type\":\"scatter\",\"xaxis\":\"x2\",\"yaxis\":\"y2\"},{\"hovertemplate\":\"Energy: 9.52e+00 eV<br>Population: 1.47e-02<extra></extra>\",\"line\":{\"color\":\"black\",\"width\":1.3863653577832453},\"mode\":\"lines\",\"showlegend\":false,\"x\":[-0.05,0.07222222222222223,0.19444444444444448,0.3166666666666667,0.43888888888888894,0.5611111111111111,0.6833333333333333,0.8055555555555556,0.9277777777777778,1.05],\"y\":[1.0766227522436824,1.0766227522436824,1.0766227522436824,1.0766227522436824,1.0766227522436824,1.0766227522436824,1.0766227522436824,1.0766227522436824,1.0766227522436824,1.0766227522436824],\"type\":\"scatter\",\"xaxis\":\"x2\",\"yaxis\":\"y2\"},{\"hovertemplate\":\"Energy: 1.07e+01 eV<br>Population: 2.08e-02<extra></extra>\",\"line\":{\"color\":\"black\",\"width\":1.474834169004034},\"mode\":\"lines\",\"showlegend\":false,\"x\":[-0.05,0.07222222222222223,0.19444444444444448,0.3166666666666667,0.43888888888888894,0.5611111111111111,0.6833333333333333,0.8055555555555556,0.9277777777777778,1.05],\"y\":[1.0962733262152717,1.0962733262152717,1.0962733262152717,1.0962733262152717,1.0962733262152717,1.0962733262152717,1.0962733262152717,1.0962733262152717,1.0962733262152717,1.0962733262152717],\"type\":\"scatter\",\"xaxis\":\"x2\",\"yaxis\":\"y2\"},{\"hovertemplate\":\"Energy: 1.10e+01 eV<br>Population: 3.22e-03<extra></extra>\",\"line\":{\"color\":\"black\",\"width\":1.003},\"mode\":\"lines\",\"showlegend\":false,\"x\":[-0.05,0.07222222222222223,0.19444444444444448,0.3166666666666667,0.43888888888888894,0.5611111111111111,0.6833333333333333,0.8055555555555556,0.9277777777777778,1.05],\"y\":[1.1,1.1,1.1,1.1,1.1,1.1,1.1,1.1,1.1,1.1],\"type\":\"scatter\",\"xaxis\":\"x2\",\"yaxis\":\"y2\"},{\"hovertemplate\":\"Count: 7<br>Wavelength: 1.30e+03 \\u212b<extra></extra>\",\"line\":{\"color\":\"#8000ff\",\"width\":1.5649827087262111},\"marker\":{\"angleref\":\"previous\",\"color\":\"#8000ff\",\"size\":9,\"symbol\":\"arrow-bar-up\"},\"x\":[0,0.8664613492856591],\"y\":[0.0,1.0766227522436824],\"type\":\"scatter\",\"xaxis\":\"x2\",\"yaxis\":\"y2\"},{\"hovertemplate\":\"Count: 29<br>Wavelength: 1.31e+03 \\u212b<extra></extra>\",\"line\":{\"color\":\"#8000ff\",\"width\":3.0},\"marker\":{\"angleref\":\"previous\",\"color\":\"#8000ff\",\"size\":9,\"symbol\":\"arrow-bar-up\"},\"x\":[0,0.8661704974083189],\"y\":[0.1,1.0766227522436824],\"type\":\"scatter\",\"xaxis\":\"x2\",\"yaxis\":\"y2\"},{\"hovertemplate\":\"Count: 7<br>Wavelength: 1.30e+03 \\u212b<extra></extra>\",\"line\":{\"color\":\"#8000ff\",\"width\":1.5649827087262111},\"marker\":{\"angleref\":\"previous\",\"color\":\"#8000ff\",\"size\":9,\"symbol\":\"arrow-bar-up\"},\"x\":[0,0.8664613492856591],\"y\":[1.0766227522436824,0.0],\"type\":\"scatter\",\"xaxis\":\"x2\",\"yaxis\":\"y2\"},{\"hovertemplate\":\"Count: 27<br>Wavelength: 1.31e+03 \\u212b<extra></extra>\",\"line\":{\"color\":\"#8000ff\",\"width\":2.927855718327125},\"marker\":{\"angleref\":\"previous\",\"color\":\"#8000ff\",\"size\":9,\"symbol\":\"arrow-bar-up\"},\"x\":[0,0.8661704974083189],\"y\":[1.0766227522436824,0.1],\"type\":\"scatter\",\"xaxis\":\"x2\",\"yaxis\":\"y2\"},{\"hovertemplate\":\"Count: 4<br>Wavelength: 7.78e+03 \\u212b<extra></extra>\",\"line\":{\"color\":\"#ff0000\",\"width\":1.0},\"marker\":{\"angleref\":\"previous\",\"color\":\"#ff0000\",\"size\":9,\"symbol\":\"arrow-bar-up\"},\"x\":[0,0.86528023167925],\"y\":[1.0962733262152717,1.0700645769253276],\"type\":\"scatter\",\"xaxis\":\"x2\",\"yaxis\":\"y2\"},{\"hoverinfo\":\"none\",\"marker\":{\"cmax\":8.958793741798225,\"cmin\":7.171785846702633,\"colorbar\":{\"outlinewidth\":0,\"thickness\":5,\"ticktext\":[\"1.3e+03\",\"1.6e+03\",\"1.9e+03\",\"2.4e+03\",\"2.9e+03\",\"3.5e+03\",\"4.3e+03\",\"5.2e+03\",\"6.4e+03\",\"7.8e+03\"],\"tickvals\":[7.171785846702633,7.370342279491033,7.568898712279431,7.76745514506783,7.9660115778562295,8.164568010644627,8.363124443433026,8.561680876221427,8.760237309009824,8.958793741798223],\"title\":{\"font\":{\"size\":12},\"text\":\"Wavelength (\\u212b)<br>&nbsp;\"}},\"colorscale\":[[0.0,\"rgb(150,0,90)\"],[0.125,\"rgb(0,0,200)\"],[0.25,\"rgb(0,25,255)\"],[0.375,\"rgb(0,152,255)\"],[0.5,\"rgb(44,255,150)\"],[0.625,\"rgb(151,255,0)\"],[0.75,\"rgb(255,234,0)\"],[0.875,\"rgb(255,111,0)\"],[1.0,\"rgb(255,0,0)\"]],\"showscale\":true},\"mode\":\"markers\",\"x\":[null],\"y\":[null],\"type\":\"scatter\",\"xaxis\":\"x2\",\"yaxis\":\"y2\"}],                        {\"template\":{\"data\":{\"histogram2dcontour\":[{\"type\":\"histogram2dcontour\",\"colorbar\":{\"outlinewidth\":0,\"ticks\":\"\"},\"colorscale\":[[0.0,\"#0d0887\"],[0.1111111111111111,\"#46039f\"],[0.2222222222222222,\"#7201a8\"],[0.3333333333333333,\"#9c179e\"],[0.4444444444444444,\"#bd3786\"],[0.5555555555555556,\"#d8576b\"],[0.6666666666666666,\"#ed7953\"],[0.7777777777777778,\"#fb9f3a\"],[0.8888888888888888,\"#fdca26\"],[1.0,\"#f0f921\"]]}],\"choropleth\":[{\"type\":\"choropleth\",\"colorbar\":{\"outlinewidth\":0,\"ticks\":\"\"}}],\"histogram2d\":[{\"type\":\"histogram2d\",\"colorbar\":{\"outlinewidth\":0,\"ticks\":\"\"},\"colorscale\":[[0.0,\"#0d0887\"],[0.1111111111111111,\"#46039f\"],[0.2222222222222222,\"#7201a8\"],[0.3333333333333333,\"#9c179e\"],[0.4444444444444444,\"#bd3786\"],[0.5555555555555556,\"#d8576b\"],[0.6666666666666666,\"#ed7953\"],[0.7777777777777778,\"#fb9f3a\"],[0.8888888888888888,\"#fdca26\"],[1.0,\"#f0f921\"]]}],\"heatmap\":[{\"type\":\"heatmap\",\"colorbar\":{\"outlinewidth\":0,\"ticks\":\"\"},\"colorscale\":[[0.0,\"#0d0887\"],[0.1111111111111111,\"#46039f\"],[0.2222222222222222,\"#7201a8\"],[0.3333333333333333,\"#9c179e\"],[0.4444444444444444,\"#bd3786\"],[0.5555555555555556,\"#d8576b\"],[0.6666666666666666,\"#ed7953\"],[0.7777777777777778,\"#fb9f3a\"],[0.8888888888888888,\"#fdca26\"],[1.0,\"#f0f921\"]]}],\"heatmapgl\":[{\"type\":\"heatmapgl\",\"colorbar\":{\"outlinewidth\":0,\"ticks\":\"\"},\"colorscale\":[[0.0,\"#0d0887\"],[0.1111111111111111,\"#46039f\"],[0.2222222222222222,\"#7201a8\"],[0.3333333333333333,\"#9c179e\"],[0.4444444444444444,\"#bd3786\"],[0.5555555555555556,\"#d8576b\"],[0.6666666666666666,\"#ed7953\"],[0.7777777777777778,\"#fb9f3a\"],[0.8888888888888888,\"#fdca26\"],[1.0,\"#f0f921\"]]}],\"contourcarpet\":[{\"type\":\"contourcarpet\",\"colorbar\":{\"outlinewidth\":0,\"ticks\":\"\"}}],\"contour\":[{\"type\":\"contour\",\"colorbar\":{\"outlinewidth\":0,\"ticks\":\"\"},\"colorscale\":[[0.0,\"#0d0887\"],[0.1111111111111111,\"#46039f\"],[0.2222222222222222,\"#7201a8\"],[0.3333333333333333,\"#9c179e\"],[0.4444444444444444,\"#bd3786\"],[0.5555555555555556,\"#d8576b\"],[0.6666666666666666,\"#ed7953\"],[0.7777777777777778,\"#fb9f3a\"],[0.8888888888888888,\"#fdca26\"],[1.0,\"#f0f921\"]]}],\"surface\":[{\"type\":\"surface\",\"colorbar\":{\"outlinewidth\":0,\"ticks\":\"\"},\"colorscale\":[[0.0,\"#0d0887\"],[0.1111111111111111,\"#46039f\"],[0.2222222222222222,\"#7201a8\"],[0.3333333333333333,\"#9c179e\"],[0.4444444444444444,\"#bd3786\"],[0.5555555555555556,\"#d8576b\"],[0.6666666666666666,\"#ed7953\"],[0.7777777777777778,\"#fb9f3a\"],[0.8888888888888888,\"#fdca26\"],[1.0,\"#f0f921\"]]}],\"mesh3d\":[{\"type\":\"mesh3d\",\"colorbar\":{\"outlinewidth\":0,\"ticks\":\"\"}}],\"scatter\":[{\"fillpattern\":{\"fillmode\":\"overlay\",\"size\":10,\"solidity\":0.2},\"type\":\"scatter\"}],\"parcoords\":[{\"type\":\"parcoords\",\"line\":{\"colorbar\":{\"outlinewidth\":0,\"ticks\":\"\"}}}],\"scatterpolargl\":[{\"type\":\"scatterpolargl\",\"marker\":{\"colorbar\":{\"outlinewidth\":0,\"ticks\":\"\"}}}],\"bar\":[{\"error_x\":{\"color\":\"#2a3f5f\"},\"error_y\":{\"color\":\"#2a3f5f\"},\"marker\":{\"line\":{\"color\":\"#E5ECF6\",\"width\":0.5},\"pattern\":{\"fillmode\":\"overlay\",\"size\":10,\"solidity\":0.2}},\"type\":\"bar\"}],\"scattergeo\":[{\"type\":\"scattergeo\",\"marker\":{\"colorbar\":{\"outlinewidth\":0,\"ticks\":\"\"}}}],\"scatterpolar\":[{\"type\":\"scatterpolar\",\"marker\":{\"colorbar\":{\"outlinewidth\":0,\"ticks\":\"\"}}}],\"histogram\":[{\"marker\":{\"pattern\":{\"fillmode\":\"overlay\",\"size\":10,\"solidity\":0.2}},\"type\":\"histogram\"}],\"scattergl\":[{\"type\":\"scattergl\",\"marker\":{\"colorbar\":{\"outlinewidth\":0,\"ticks\":\"\"}}}],\"scatter3d\":[{\"type\":\"scatter3d\",\"line\":{\"colorbar\":{\"outlinewidth\":0,\"ticks\":\"\"}},\"marker\":{\"colorbar\":{\"outlinewidth\":0,\"ticks\":\"\"}}}],\"scattermapbox\":[{\"type\":\"scattermapbox\",\"marker\":{\"colorbar\":{\"outlinewidth\":0,\"ticks\":\"\"}}}],\"scatterternary\":[{\"type\":\"scatterternary\",\"marker\":{\"colorbar\":{\"outlinewidth\":0,\"ticks\":\"\"}}}],\"scattercarpet\":[{\"type\":\"scattercarpet\",\"marker\":{\"colorbar\":{\"outlinewidth\":0,\"ticks\":\"\"}}}],\"carpet\":[{\"aaxis\":{\"endlinecolor\":\"#2a3f5f\",\"gridcolor\":\"white\",\"linecolor\":\"white\",\"minorgridcolor\":\"white\",\"startlinecolor\":\"#2a3f5f\"},\"baxis\":{\"endlinecolor\":\"#2a3f5f\",\"gridcolor\":\"white\",\"linecolor\":\"white\",\"minorgridcolor\":\"white\",\"startlinecolor\":\"#2a3f5f\"},\"type\":\"carpet\"}],\"table\":[{\"cells\":{\"fill\":{\"color\":\"#EBF0F8\"},\"line\":{\"color\":\"white\"}},\"header\":{\"fill\":{\"color\":\"#C8D4E3\"},\"line\":{\"color\":\"white\"}},\"type\":\"table\"}],\"barpolar\":[{\"marker\":{\"line\":{\"color\":\"#E5ECF6\",\"width\":0.5},\"pattern\":{\"fillmode\":\"overlay\",\"size\":10,\"solidity\":0.2}},\"type\":\"barpolar\"}],\"pie\":[{\"automargin\":true,\"type\":\"pie\"}]},\"layout\":{\"autotypenumbers\":\"strict\",\"colorway\":[\"#636efa\",\"#EF553B\",\"#00cc96\",\"#ab63fa\",\"#FFA15A\",\"#19d3f3\",\"#FF6692\",\"#B6E880\",\"#FF97FF\",\"#FECB52\"],\"font\":{\"color\":\"#2a3f5f\"},\"hovermode\":\"closest\",\"hoverlabel\":{\"align\":\"left\"},\"paper_bgcolor\":\"white\",\"plot_bgcolor\":\"#E5ECF6\",\"polar\":{\"bgcolor\":\"#E5ECF6\",\"angularaxis\":{\"gridcolor\":\"white\",\"linecolor\":\"white\",\"ticks\":\"\"},\"radialaxis\":{\"gridcolor\":\"white\",\"linecolor\":\"white\",\"ticks\":\"\"}},\"ternary\":{\"bgcolor\":\"#E5ECF6\",\"aaxis\":{\"gridcolor\":\"white\",\"linecolor\":\"white\",\"ticks\":\"\"},\"baxis\":{\"gridcolor\":\"white\",\"linecolor\":\"white\",\"ticks\":\"\"},\"caxis\":{\"gridcolor\":\"white\",\"linecolor\":\"white\",\"ticks\":\"\"}},\"coloraxis\":{\"colorbar\":{\"outlinewidth\":0,\"ticks\":\"\"}},\"colorscale\":{\"sequential\":[[0.0,\"#0d0887\"],[0.1111111111111111,\"#46039f\"],[0.2222222222222222,\"#7201a8\"],[0.3333333333333333,\"#9c179e\"],[0.4444444444444444,\"#bd3786\"],[0.5555555555555556,\"#d8576b\"],[0.6666666666666666,\"#ed7953\"],[0.7777777777777778,\"#fb9f3a\"],[0.8888888888888888,\"#fdca26\"],[1.0,\"#f0f921\"]],\"sequentialminus\":[[0.0,\"#0d0887\"],[0.1111111111111111,\"#46039f\"],[0.2222222222222222,\"#7201a8\"],[0.3333333333333333,\"#9c179e\"],[0.4444444444444444,\"#bd3786\"],[0.5555555555555556,\"#d8576b\"],[0.6666666666666666,\"#ed7953\"],[0.7777777777777778,\"#fb9f3a\"],[0.8888888888888888,\"#fdca26\"],[1.0,\"#f0f921\"]],\"diverging\":[[0,\"#8e0152\"],[0.1,\"#c51b7d\"],[0.2,\"#de77ae\"],[0.3,\"#f1b6da\"],[0.4,\"#fde0ef\"],[0.5,\"#f7f7f7\"],[0.6,\"#e6f5d0\"],[0.7,\"#b8e186\"],[0.8,\"#7fbc41\"],[0.9,\"#4d9221\"],[1,\"#276419\"]]},\"xaxis\":{\"gridcolor\":\"white\",\"linecolor\":\"white\",\"ticks\":\"\",\"title\":{\"standoff\":15},\"zerolinecolor\":\"white\",\"automargin\":true,\"zerolinewidth\":2},\"yaxis\":{\"gridcolor\":\"white\",\"linecolor\":\"white\",\"ticks\":\"\",\"title\":{\"standoff\":15},\"zerolinecolor\":\"white\",\"automargin\":true,\"zerolinewidth\":2},\"scene\":{\"xaxis\":{\"backgroundcolor\":\"#E5ECF6\",\"gridcolor\":\"white\",\"linecolor\":\"white\",\"showbackground\":true,\"ticks\":\"\",\"zerolinecolor\":\"white\",\"gridwidth\":2},\"yaxis\":{\"backgroundcolor\":\"#E5ECF6\",\"gridcolor\":\"white\",\"linecolor\":\"white\",\"showbackground\":true,\"ticks\":\"\",\"zerolinecolor\":\"white\",\"gridwidth\":2},\"zaxis\":{\"backgroundcolor\":\"#E5ECF6\",\"gridcolor\":\"white\",\"linecolor\":\"white\",\"showbackground\":true,\"ticks\":\"\",\"zerolinecolor\":\"white\",\"gridwidth\":2}},\"shapedefaults\":{\"line\":{\"color\":\"#2a3f5f\"}},\"annotationdefaults\":{\"arrowcolor\":\"#2a3f5f\",\"arrowhead\":0,\"arrowwidth\":1},\"geo\":{\"bgcolor\":\"white\",\"landcolor\":\"#E5ECF6\",\"subunitcolor\":\"white\",\"showland\":true,\"showlakes\":true,\"lakecolor\":\"white\"},\"title\":{\"x\":0.05},\"mapbox\":{\"style\":\"light\"}}},\"xaxis\":{\"anchor\":\"y\",\"domain\":[0.0,0.258],\"showticklabels\":false,\"fixedrange\":true},\"yaxis\":{\"anchor\":\"x\",\"domain\":[0.0,1.0],\"showticklabels\":false,\"fixedrange\":true},\"xaxis2\":{\"anchor\":\"y2\",\"domain\":[0.398,1.0],\"showticklabels\":false,\"fixedrange\":true},\"yaxis2\":{\"anchor\":\"x2\",\"domain\":[0.0,1.0],\"title\":{\"text\":\"Energy (eV)\",\"standoff\":5},\"range\":[0,null],\"tickmode\":\"array\",\"tickvals\":[0.0,0.1,0.8194521672306786,0.9427408528860436,1.0700645769253276,1.0766227522436824,1.0962733262152717,1.1],\"ticktext\":[\"0.00e+00\",\"2.39e-02\",\"1.97e+00\",\"4.19e+00\",\"9.15e+00\",\"9.52e+00\",\"1.07e+01\",\"1.10e+01\"],\"fixedrange\":true},\"title\":{\"text\":\"Grotrian Diagram for Oxygen I (Shell: 0)\",\"x\":0.5},\"plot_bgcolor\":\"white\",\"autosize\":false,\"width\":1000,\"height\":700,\"showlegend\":false,\"annotations\":[{\"showarrow\":false,\"text\":\"n=0\",\"x\":1.1,\"xref\":\"x2\",\"y\":0.0,\"yref\":\"y2\"},{\"showarrow\":false,\"text\":\"n=1\",\"x\":1.1,\"xref\":\"x2\",\"y\":0.1,\"yref\":\"y2\"},{\"showarrow\":false,\"text\":\"n=2\",\"x\":1.1,\"xref\":\"x2\",\"y\":0.8194521672306786,\"yref\":\"y2\"},{\"showarrow\":false,\"text\":\"n=3\",\"x\":1.1,\"xref\":\"x2\",\"y\":0.9427408528860436,\"yref\":\"y2\"},{\"showarrow\":false,\"text\":\"n=4\",\"x\":1.1,\"xref\":\"x2\",\"y\":1.0700645769253276,\"yref\":\"y2\"},{\"showarrow\":false,\"text\":\"n=5\",\"x\":1.1,\"xref\":\"x2\",\"y\":1.0766227522436824,\"yref\":\"y2\"},{\"showarrow\":false,\"text\":\"n=6\",\"x\":1.1,\"xref\":\"x2\",\"y\":1.0962733262152717,\"yref\":\"y2\"},{\"showarrow\":false,\"text\":\"n=7\",\"x\":1.1,\"xref\":\"x2\",\"y\":1.1,\"yref\":\"y2\"},{\"showarrow\":false,\"text\":\"3.2e-03\",\"x\":0.35,\"xref\":\"x\",\"y\":0.0,\"yref\":\"y\"},{\"showarrow\":false,\"text\":\"1.2e-02\",\"x\":0.35,\"xref\":\"x\",\"y\":0.1111111111111111,\"yref\":\"y\"},{\"showarrow\":false,\"text\":\"4.5e-02\",\"x\":0.35,\"xref\":\"x\",\"y\":0.2222222222222222,\"yref\":\"y\"},{\"showarrow\":false,\"text\":\"1.7e-01\",\"x\":0.35,\"xref\":\"x\",\"y\":0.3333333333333333,\"yref\":\"y\"},{\"showarrow\":false,\"text\":\"6.3e-01\",\"x\":0.35,\"xref\":\"x\",\"y\":0.4444444444444444,\"yref\":\"y\"},{\"showarrow\":false,\"text\":\"2.3e+00\",\"x\":0.35,\"xref\":\"x\",\"y\":0.5555555555555556,\"yref\":\"y\"},{\"showarrow\":false,\"text\":\"8.8e+00\",\"x\":0.35,\"xref\":\"x\",\"y\":0.6666666666666666,\"yref\":\"y\"},{\"showarrow\":false,\"text\":\"3.3e+01\",\"x\":0.35,\"xref\":\"x\",\"y\":0.7777777777777777,\"yref\":\"y\"},{\"showarrow\":false,\"text\":\"1.2e+02\",\"x\":0.35,\"xref\":\"x\",\"y\":0.8888888888888888,\"yref\":\"y\"},{\"showarrow\":false,\"text\":\"4.6e+02\",\"x\":0.35,\"xref\":\"x\",\"y\":1.0,\"yref\":\"y\"},{\"showarrow\":false,\"text\":\"Populations\",\"x\":0.28,\"xref\":\"x\",\"y\":-0.08,\"yref\":\"y\"},{\"showarrow\":false,\"text\":\"4.0e+00\",\"x\":0.9,\"xref\":\"x\",\"y\":0.0,\"yref\":\"y\"},{\"showarrow\":false,\"text\":\"5.0e+00\",\"x\":0.9,\"xref\":\"x\",\"y\":0.1111111111111111,\"yref\":\"y\"},{\"showarrow\":false,\"text\":\"6.2e+00\",\"x\":0.9,\"xref\":\"x\",\"y\":0.2222222222222222,\"yref\":\"y\"},{\"showarrow\":false,\"text\":\"7.7e+00\",\"x\":0.9,\"xref\":\"x\",\"y\":0.3333333333333333,\"yref\":\"y\"},{\"showarrow\":false,\"text\":\"9.6e+00\",\"x\":0.9,\"xref\":\"x\",\"y\":0.4444444444444444,\"yref\":\"y\"},{\"showarrow\":false,\"text\":\"1.2e+01\",\"x\":0.9,\"xref\":\"x\",\"y\":0.5555555555555556,\"yref\":\"y\"},{\"showarrow\":false,\"text\":\"1.5e+01\",\"x\":0.9,\"xref\":\"x\",\"y\":0.6666666666666666,\"yref\":\"y\"},{\"showarrow\":false,\"text\":\"1.9e+01\",\"x\":0.9,\"xref\":\"x\",\"y\":0.7777777777777777,\"yref\":\"y\"},{\"showarrow\":false,\"text\":\"2.3e+01\",\"x\":0.9,\"xref\":\"x\",\"y\":0.8888888888888888,\"yref\":\"y\"},{\"showarrow\":false,\"text\":\"2.9e+01\",\"x\":0.9,\"xref\":\"x\",\"y\":1.0,\"yref\":\"y\"},{\"showarrow\":false,\"text\":\"#Packets\",\"x\":0.83,\"xref\":\"x\",\"y\":-0.08,\"yref\":\"y\"}],\"shapes\":[{\"line\":{\"width\":1.003},\"type\":\"line\",\"x0\":0.1,\"x1\":0.2,\"xref\":\"x\",\"y0\":0.0,\"y1\":0.0,\"yref\":\"y\"},{\"line\":{\"width\":1.3363333333333332},\"type\":\"line\",\"x0\":0.1,\"x1\":0.2,\"xref\":\"x\",\"y0\":0.1111111111111111,\"y1\":0.1111111111111111,\"yref\":\"y\"},{\"line\":{\"width\":1.6696666666666666},\"type\":\"line\",\"x0\":0.1,\"x1\":0.2,\"xref\":\"x\",\"y0\":0.2222222222222222,\"y1\":0.2222222222222222,\"yref\":\"y\"},{\"line\":{\"width\":2.003},\"type\":\"line\",\"x0\":0.1,\"x1\":0.2,\"xref\":\"x\",\"y0\":0.3333333333333333,\"y1\":0.3333333333333333,\"yref\":\"y\"},{\"line\":{\"width\":2.336333333333333},\"type\":\"line\",\"x0\":0.1,\"x1\":0.2,\"xref\":\"x\",\"y0\":0.4444444444444444,\"y1\":0.4444444444444444,\"yref\":\"y\"},{\"line\":{\"width\":2.669666666666666},\"type\":\"line\",\"x0\":0.1,\"x1\":0.2,\"xref\":\"x\",\"y0\":0.5555555555555556,\"y1\":0.5555555555555556,\"yref\":\"y\"},{\"line\":{\"width\":3.003},\"type\":\"line\",\"x0\":0.1,\"x1\":0.2,\"xref\":\"x\",\"y0\":0.6666666666666666,\"y1\":0.6666666666666666,\"yref\":\"y\"},{\"line\":{\"width\":3.336333333333333},\"type\":\"line\",\"x0\":0.1,\"x1\":0.2,\"xref\":\"x\",\"y0\":0.7777777777777777,\"y1\":0.7777777777777777,\"yref\":\"y\"},{\"line\":{\"width\":3.669666666666666},\"type\":\"line\",\"x0\":0.1,\"x1\":0.2,\"xref\":\"x\",\"y0\":0.8888888888888888,\"y1\":0.8888888888888888,\"yref\":\"y\"},{\"line\":{\"width\":4.003},\"type\":\"line\",\"x0\":0.1,\"x1\":0.2,\"xref\":\"x\",\"y0\":1.0,\"y1\":1.0,\"yref\":\"y\"},{\"line\":{\"color\":\"grey\",\"dash\":\"dash\",\"width\":0.5},\"type\":\"line\",\"x0\":0.55,\"x1\":0.55,\"xref\":\"x\",\"y0\":0,\"y1\":1,\"yref\":\"y\"},{\"line\":{\"width\":1.0},\"type\":\"line\",\"x0\":0.65,\"x1\":0.75,\"xref\":\"x\",\"y0\":0.0,\"y1\":0.0,\"yref\":\"y\"},{\"line\":{\"width\":1.2222222222222223},\"type\":\"line\",\"x0\":0.65,\"x1\":0.75,\"xref\":\"x\",\"y0\":0.1111111111111111,\"y1\":0.1111111111111111,\"yref\":\"y\"},{\"line\":{\"width\":1.4444444444444444},\"type\":\"line\",\"x0\":0.65,\"x1\":0.75,\"xref\":\"x\",\"y0\":0.2222222222222222,\"y1\":0.2222222222222222,\"yref\":\"y\"},{\"line\":{\"width\":1.6666666666666665},\"type\":\"line\",\"x0\":0.65,\"x1\":0.75,\"xref\":\"x\",\"y0\":0.3333333333333333,\"y1\":0.3333333333333333,\"yref\":\"y\"},{\"line\":{\"width\":1.8888888888888888},\"type\":\"line\",\"x0\":0.65,\"x1\":0.75,\"xref\":\"x\",\"y0\":0.4444444444444444,\"y1\":0.4444444444444444,\"yref\":\"y\"},{\"line\":{\"width\":2.111111111111111},\"type\":\"line\",\"x0\":0.65,\"x1\":0.75,\"xref\":\"x\",\"y0\":0.5555555555555556,\"y1\":0.5555555555555556,\"yref\":\"y\"},{\"line\":{\"width\":2.333333333333333},\"type\":\"line\",\"x0\":0.65,\"x1\":0.75,\"xref\":\"x\",\"y0\":0.6666666666666666,\"y1\":0.6666666666666666,\"yref\":\"y\"},{\"line\":{\"width\":2.5555555555555554},\"type\":\"line\",\"x0\":0.65,\"x1\":0.75,\"xref\":\"x\",\"y0\":0.7777777777777777,\"y1\":0.7777777777777777,\"yref\":\"y\"},{\"line\":{\"width\":2.7777777777777777},\"type\":\"line\",\"x0\":0.65,\"x1\":0.75,\"xref\":\"x\",\"y0\":0.8888888888888888,\"y1\":0.8888888888888888,\"yref\":\"y\"},{\"line\":{\"width\":3.0},\"type\":\"line\",\"x0\":0.65,\"x1\":0.75,\"xref\":\"x\",\"y0\":1.0,\"y1\":1.0,\"yref\":\"y\"}]},                        {\"responsive\": true}                    ).then(function(){\n",
       "                            \n",
       "var gd = document.getElementById('41effd9e-2c34-4c3a-8e07-949d05ab2dd2');\n",
       "var x = new MutationObserver(function (mutations, observer) {{\n",
       "        var display = window.getComputedStyle(gd).display;\n",
       "        if (!display || display === 'none') {{\n",
       "            console.log([gd, 'removed!']);\n",
       "            Plotly.purge(gd);\n",
       "            observer.disconnect();\n",
       "        }}\n",
       "}});\n",
       "\n",
       "// Listen for the removal of the full notebook cells\n",
       "var notebookContainer = gd.closest('#notebook-container');\n",
       "if (notebookContainer) {{\n",
       "    x.observe(notebookContainer, {childList: true});\n",
       "}}\n",
       "\n",
       "// Listen for the clearing of the current output cell\n",
       "var outputEl = gd.closest('.output');\n",
       "if (outputEl) {{\n",
       "    x.observe(outputEl, {childList: true});\n",
       "}}\n",
       "\n",
       "                        })                };                });            </script>        </div>"
      ]
     },
     "metadata": {},
     "output_type": "display_data"
    }
   ],
   "source": [
    "diag.y_scale = \"Log\"\n",
    "diag.display()"
   ]
  },
  {
   "cell_type": "code",
   "execution_count": 8,
   "metadata": {},
   "outputs": [
    {
     "data": {
      "application/vnd.plotly.v1+json": {
       "config": {
        "plotlyServerURL": "https://plot.ly"
       },
       "data": [
        {
         "hovertemplate": "Energy: 0.00e+00 eV<br>Population: 2.24e+03<extra></extra>",
         "line": {
          "color": "black",
          "width": 3.813866190245463
         },
         "mode": "lines",
         "showlegend": false,
         "type": "scatter",
         "x": [
          -0.05,
          0.07222222222222223,
          0.19444444444444448,
          0.3166666666666667,
          0.43888888888888894,
          0.5611111111111111,
          0.6833333333333333,
          0.8055555555555556,
          0.9277777777777778,
          1.05
         ],
         "xaxis": "x2",
         "y": [
          0,
          0,
          0,
          0,
          0,
          0,
          0,
          0,
          0,
          0
         ],
         "yaxis": "y2"
        },
        {
         "hovertemplate": "Energy: 3.56e-02 eV<br>Population: 4.31e+03<extra></extra>",
         "line": {
          "color": "black",
          "width": 4.003
         },
         "mode": "lines",
         "showlegend": false,
         "type": "scatter",
         "x": [
          -0.05,
          0.07222222222222223,
          0.19444444444444448,
          0.3166666666666667,
          0.43888888888888894,
          0.5611111111111111,
          0.6833333333333333,
          0.8055555555555556,
          0.9277777777777778,
          1.05
         ],
         "xaxis": "x2",
         "y": [
          0.1,
          0.1,
          0.1,
          0.1,
          0.1,
          0.1,
          0.1,
          0.1,
          0.1,
          0.1
         ],
         "yaxis": "y2"
        },
        {
         "hovertemplate": "Energy: 5.33e+00 eV<br>Population: 5.63e+01<extra></extra>",
         "line": {
          "color": "black",
          "width": 2.7531715714693474
         },
         "mode": "lines",
         "showlegend": false,
         "type": "scatter",
         "x": [
          -0.05,
          0.07222222222222223,
          0.19444444444444448,
          0.3166666666666667,
          0.43888888888888894,
          0.5611111111111111,
          0.6833333333333333,
          0.8055555555555556,
          0.9277777777777778,
          1.05
         ],
         "xaxis": "x2",
         "y": [
          0.6397472475454533,
          0.6397472475454533,
          0.6397472475454533,
          0.6397472475454533,
          0.6397472475454533,
          0.6397472475454533,
          0.6397472475454533,
          0.6397472475454533,
          0.6397472475454533,
          0.6397472475454533
         ],
         "yaxis": "y2"
        },
        {
         "hovertemplate": "Energy: 6.86e+00 eV<br>Population: 9.78e+00<extra></extra>",
         "line": {
          "color": "black",
          "width": 2.2490856216624016
         },
         "mode": "lines",
         "showlegend": false,
         "type": "scatter",
         "x": [
          -0.05,
          0.07222222222222223,
          0.19444444444444448,
          0.3166666666666667,
          0.43888888888888894,
          0.5611111111111111,
          0.6833333333333333,
          0.8055555555555556,
          0.9277777777777778,
          1.05
         ],
         "xaxis": "x2",
         "y": [
          0.7961309029103393,
          0.7961309029103393,
          0.7961309029103393,
          0.7961309029103393,
          0.7961309029103393,
          0.7961309029103393,
          0.7961309029103393,
          0.7961309029103393,
          0.7961309029103393,
          0.7961309029103393
         ],
         "yaxis": "y2"
        },
        {
         "hovertemplate": "Energy: 8.12e+00 eV<br>Population: 5.35e-01<extra></extra>",
         "line": {
          "color": "black",
          "width": 1.412238362960783
         },
         "mode": "lines",
         "showlegend": false,
         "type": "scatter",
         "x": [
          -0.05,
          0.07222222222222223,
          0.19444444444444448,
          0.3166666666666667,
          0.43888888888888894,
          0.5611111111111111,
          0.6833333333333333,
          0.8055555555555556,
          0.9277777777777778,
          1.05
         ],
         "xaxis": "x2",
         "y": [
          0.924948647244838,
          0.924948647244838,
          0.924948647244838,
          0.924948647244838,
          0.924948647244838,
          0.924948647244838,
          0.924948647244838,
          0.924948647244838,
          0.924948647244838,
          0.924948647244838
         ],
         "yaxis": "y2"
        },
        {
         "hovertemplate": "Energy: 9.51e+00 eV<br>Population: 1.29e-01<extra></extra>",
         "line": {
          "color": "black",
          "width": 1.003
         },
         "mode": "lines",
         "showlegend": false,
         "type": "scatter",
         "x": [
          -0.05,
          0.07222222222222223,
          0.19444444444444448,
          0.3166666666666667,
          0.43888888888888894,
          0.5611111111111111,
          0.6833333333333333,
          0.8055555555555556,
          0.9277777777777778,
          1.05
         ],
         "xaxis": "x2",
         "y": [
          1.06618459971416,
          1.06618459971416,
          1.06618459971416,
          1.06618459971416,
          1.06618459971416,
          1.06618459971416,
          1.06618459971416,
          1.06618459971416,
          1.06618459971416,
          1.06618459971416
         ],
         "yaxis": "y2"
        },
        {
         "hovertemplate": "Energy: 9.84e+00 eV<br>Population: 3.68e-01<extra></extra>",
         "line": {
          "color": "black",
          "width": 1.3043609655139132
         },
         "mode": "lines",
         "showlegend": false,
         "type": "scatter",
         "x": [
          -0.05,
          0.07222222222222223,
          0.19444444444444448,
          0.3166666666666667,
          0.43888888888888894,
          0.5611111111111111,
          0.6833333333333333,
          0.8055555555555556,
          0.9277777777777778,
          1.05
         ],
         "xaxis": "x2",
         "y": [
          1.1,
          1.1,
          1.1,
          1.1,
          1.1,
          1.1,
          1.1,
          1.1,
          1.1,
          1.1
         ],
         "yaxis": "y2"
        },
        {
         "hovertemplate": "Count: 230<br>Wavelength: 1.81e+03 Å<extra></extra>",
         "line": {
          "color": "#ff0905",
          "width": 2.5182224041500563
         },
         "marker": {
          "angleref": "previous",
          "color": "#ff0905",
          "size": 9,
          "symbol": "arrow-bar-up"
         },
         "type": "scatter",
         "x": [
          0,
          0.697231041675857
         ],
         "xaxis": "x2",
         "y": [
          0,
          0.7961309029103393
         ],
         "yaxis": "y2"
        },
        {
         "hovertemplate": "Count: 234<br>Wavelength: 1.53e+03 Å<extra></extra>",
         "line": {
          "color": "#8cfead",
          "width": 2.524682988103575
         },
         "marker": {
          "angleref": "previous",
          "color": "#8cfead",
          "size": 9,
          "symbol": "arrow-bar-up"
         },
         "type": "scatter",
         "x": [
          0,
          0.8255824095489577
         ],
         "xaxis": "x2",
         "y": [
          0,
          0.924948647244838
         ],
         "yaxis": "y2"
        },
        {
         "hovertemplate": "Count: 48<br>Wavelength: 1.30e+03 Å<extra></extra>",
         "line": {
          "color": "#5247fc",
          "width": 1.9311059191270643
         },
         "marker": {
          "angleref": "previous",
          "color": "#5247fc",
          "size": 9,
          "symbol": "arrow-bar-up"
         },
         "type": "scatter",
         "x": [
          0,
          0.9663070262230818
         ],
         "xaxis": "x2",
         "y": [
          0,
          1.06618459971416
         ],
         "yaxis": "y2"
        },
        {
         "hovertemplate": "Count: 51<br>Wavelength: 1.26e+03 Å<extra></extra>",
         "line": {
          "color": "#8000ff",
          "width": 1.9538222429869316
         },
         "marker": {
          "angleref": "previous",
          "color": "#8000ff",
          "size": 9,
          "symbol": "arrow-bar-up"
         },
         "type": "scatter",
         "x": [
          0,
          1
         ],
         "xaxis": "x2",
         "y": [
          0,
          1.1
         ],
         "yaxis": "y2"
        },
        {
         "hovertemplate": "Count: 683<br>Wavelength: 1.82e+03 Å<extra></extra>",
         "line": {
          "color": "#ff0000",
          "width": 2.92605670318273
         },
         "marker": {
          "angleref": "previous",
          "color": "#ff0000",
          "size": 9,
          "symbol": "arrow-bar-up"
         },
         "type": "scatter",
         "x": [
          0,
          0.6961309029103393
         ],
         "xaxis": "x2",
         "y": [
          0.1,
          0.7961309029103393
         ],
         "yaxis": "y2"
        },
        {
         "hovertemplate": "Count: 434<br>Wavelength: 1.53e+03 Å<extra></extra>",
         "line": {
          "color": "#92fda9",
          "width": 2.7561467864011115
         },
         "marker": {
          "angleref": "previous",
          "color": "#92fda9",
          "size": 9,
          "symbol": "arrow-bar-up"
         },
         "type": "scatter",
         "x": [
          0,
          0.8249486472448381
         ],
         "xaxis": "x2",
         "y": [
          0.1,
          0.924948647244838
         ],
         "yaxis": "y2"
        },
        {
         "hovertemplate": "Count: 42<br>Wavelength: 1.31e+03 Å<extra></extra>",
         "line": {
          "color": "#4c50fc",
          "width": 1.8810710938459696
         },
         "marker": {
          "angleref": "previous",
          "color": "#4c50fc",
          "size": 9,
          "symbol": "arrow-bar-up"
         },
         "type": "scatter",
         "x": [
          0,
          0.9661845997141599
         ],
         "xaxis": "x2",
         "y": [
          0.1,
          1.06618459971416
         ],
         "yaxis": "y2"
        },
        {
         "hovertemplate": "Count: 119<br>Wavelength: 1.27e+03 Å<extra></extra>",
         "line": {
          "color": "#7c06ff",
          "width": 2.2713086375513027
         },
         "marker": {
          "angleref": "previous",
          "color": "#7c06ff",
          "size": 9,
          "symbol": "arrow-bar-up"
         },
         "type": "scatter",
         "x": [
          0,
          1
         ],
         "xaxis": "x2",
         "y": [
          0.1,
          1.1
         ],
         "yaxis": "y2"
        },
        {
         "hovertemplate": "Count: 239<br>Wavelength: 1.81e+03 Å<extra></extra>",
         "line": {
          "color": "#ff0905",
          "width": 2.5326051560612006
         },
         "marker": {
          "angleref": "previous",
          "color": "#ff0905",
          "size": 9,
          "symbol": "arrow-bar-up"
         },
         "type": "scatter",
         "x": [
          0,
          0.697231041675857
         ],
         "xaxis": "x2",
         "y": [
          0.7961309029103393,
          0
         ],
         "yaxis": "y2"
        },
        {
         "hovertemplate": "Count: 101<br>Wavelength: 1.53e+03 Å<extra></extra>",
         "line": {
          "color": "#8cfead",
          "width": 2.20985597011499
         },
         "marker": {
          "angleref": "previous",
          "color": "#8cfead",
          "size": 9,
          "symbol": "arrow-bar-up"
         },
         "type": "scatter",
         "x": [
          0,
          0.8255824095489577
         ],
         "xaxis": "x2",
         "y": [
          0.924948647244838,
          0
         ],
         "yaxis": "y2"
        },
        {
         "hovertemplate": "Count: 10<br>Wavelength: 1.30e+03 Å<extra></extra>",
         "line": {
          "color": "#5247fc",
          "width": 1.3433383399581966
         },
         "marker": {
          "angleref": "previous",
          "color": "#5247fc",
          "size": 9,
          "symbol": "arrow-bar-up"
         },
         "type": "scatter",
         "x": [
          0,
          0.9663070262230818
         ],
         "xaxis": "x2",
         "y": [
          1.06618459971416,
          0
         ],
         "yaxis": "y2"
        },
        {
         "hovertemplate": "Count: 24<br>Wavelength: 1.26e+03 Å<extra></extra>",
         "line": {
          "color": "#8000ff",
          "width": 1.6713804913325583
         },
         "marker": {
          "angleref": "previous",
          "color": "#8000ff",
          "size": 9,
          "symbol": "arrow-bar-up"
         },
         "type": "scatter",
         "x": [
          0,
          1
         ],
         "xaxis": "x2",
         "y": [
          1.1,
          0
         ],
         "yaxis": "y2"
        },
        {
         "hovertemplate": "Count: 464<br>Wavelength: 1.82e+03 Å<extra></extra>",
         "line": {
          "color": "#ff0000",
          "width": 2.7811920477661003
         },
         "marker": {
          "angleref": "previous",
          "color": "#ff0000",
          "size": 9,
          "symbol": "arrow-bar-up"
         },
         "type": "scatter",
         "x": [
          0,
          0.6961309029103393
         ],
         "xaxis": "x2",
         "y": [
          0.7961309029103393,
          0.1
         ],
         "yaxis": "y2"
        },
        {
         "hovertemplate": "Count: 832<br>Wavelength: 1.53e+03 Å<extra></extra>",
         "line": {
          "color": "#92fda9",
          "width": 3
         },
         "marker": {
          "angleref": "previous",
          "color": "#92fda9",
          "size": 9,
          "symbol": "arrow-bar-up"
         },
         "type": "scatter",
         "x": [
          0,
          0.8249486472448381
         ],
         "xaxis": "x2",
         "y": [
          0.924948647244838,
          0.1
         ],
         "yaxis": "y2"
        },
        {
         "hovertemplate": "Count: 4<br>Wavelength: 1.31e+03 Å<extra></extra>",
         "line": {
          "color": "#4c50fc",
          "width": 1
         },
         "marker": {
          "angleref": "previous",
          "color": "#4c50fc",
          "size": 9,
          "symbol": "arrow-bar-up"
         },
         "type": "scatter",
         "x": [
          0,
          0.9661845997141599
         ],
         "xaxis": "x2",
         "y": [
          1.06618459971416,
          0.1
         ],
         "yaxis": "y2"
        },
        {
         "hovertemplate": "Count: 120<br>Wavelength: 1.27e+03 Å<extra></extra>",
         "line": {
          "color": "#7c06ff",
          "width": 2.2744442590852607
         },
         "marker": {
          "angleref": "previous",
          "color": "#7c06ff",
          "size": 9,
          "symbol": "arrow-bar-up"
         },
         "type": "scatter",
         "x": [
          0,
          1
         ],
         "xaxis": "x2",
         "y": [
          1.1,
          0.1
         ],
         "yaxis": "y2"
        },
        {
         "hoverinfo": "none",
         "marker": {
          "cmax": 7.5050463557483695,
          "cmin": 7.139201864507048,
          "colorbar": {
           "outlinewidth": 0,
           "thickness": 5,
           "ticktext": [
            "1.3e+03",
            "1.3e+03",
            "1.4e+03",
            "1.4e+03",
            "1.5e+03",
            "1.5e+03",
            "1.6e+03",
            "1.7e+03",
            "1.7e+03",
            "1.8e+03"
           ],
           "tickvals": [
            7.139201864507048,
            7.1798512524227505,
            7.220500640338453,
            7.261150028254155,
            7.301799416169858,
            7.34244880408556,
            7.383098192001262,
            7.423747579916965,
            7.464396967832667,
            7.5050463557483695
           ],
           "title": {
            "font": {
             "size": 12
            },
            "text": "Wavelength (Å)<br>&nbsp;"
           }
          },
          "colorscale": [
           [
            0,
            "rgb(150,0,90)"
           ],
           [
            0.125,
            "rgb(0,0,200)"
           ],
           [
            0.25,
            "rgb(0,25,255)"
           ],
           [
            0.375,
            "rgb(0,152,255)"
           ],
           [
            0.5,
            "rgb(44,255,150)"
           ],
           [
            0.625,
            "rgb(151,255,0)"
           ],
           [
            0.75,
            "rgb(255,234,0)"
           ],
           [
            0.875,
            "rgb(255,111,0)"
           ],
           [
            1,
            "rgb(255,0,0)"
           ]
          ],
          "showscale": true
         },
         "mode": "markers",
         "type": "scatter",
         "x": [
          null
         ],
         "xaxis": "x2",
         "y": [
          null
         ],
         "yaxis": "y2"
        }
       ],
       "layout": {
        "annotations": [
         {
          "showarrow": false,
          "text": "n=0",
          "x": 1.1,
          "xref": "x2",
          "y": 0,
          "yref": "y2"
         },
         {
          "showarrow": false,
          "text": "n=1",
          "x": 1.1,
          "xref": "x2",
          "y": 0.1,
          "yref": "y2"
         },
         {
          "showarrow": false,
          "text": "n=2",
          "x": 1.1,
          "xref": "x2",
          "y": 0.6397472475454533,
          "yref": "y2"
         },
         {
          "showarrow": false,
          "text": "n=3",
          "x": 1.1,
          "xref": "x2",
          "y": 0.7961309029103393,
          "yref": "y2"
         },
         {
          "showarrow": false,
          "text": "n=4",
          "x": 1.1,
          "xref": "x2",
          "y": 0.924948647244838,
          "yref": "y2"
         },
         {
          "showarrow": false,
          "text": "n=5",
          "x": 1.1,
          "xref": "x2",
          "y": 1.06618459971416,
          "yref": "y2"
         },
         {
          "showarrow": false,
          "text": "n=6",
          "x": 1.1,
          "xref": "x2",
          "y": 1.1,
          "yref": "y2"
         },
         {
          "showarrow": false,
          "text": "1.3e-01",
          "x": 0.35,
          "xref": "x",
          "y": 0,
          "yref": "y"
         },
         {
          "showarrow": false,
          "text": "4.1e-01",
          "x": 0.35,
          "xref": "x",
          "y": 0.1111111111111111,
          "yref": "y"
         },
         {
          "showarrow": false,
          "text": "1.3e+00",
          "x": 0.35,
          "xref": "x",
          "y": 0.2222222222222222,
          "yref": "y"
         },
         {
          "showarrow": false,
          "text": "4.2e+00",
          "x": 0.35,
          "xref": "x",
          "y": 0.3333333333333333,
          "yref": "y"
         },
         {
          "showarrow": false,
          "text": "1.3e+01",
          "x": 0.35,
          "xref": "x",
          "y": 0.4444444444444444,
          "yref": "y"
         },
         {
          "showarrow": false,
          "text": "4.2e+01",
          "x": 0.35,
          "xref": "x",
          "y": 0.5555555555555556,
          "yref": "y"
         },
         {
          "showarrow": false,
          "text": "1.3e+02",
          "x": 0.35,
          "xref": "x",
          "y": 0.6666666666666666,
          "yref": "y"
         },
         {
          "showarrow": false,
          "text": "4.3e+02",
          "x": 0.35,
          "xref": "x",
          "y": 0.7777777777777777,
          "yref": "y"
         },
         {
          "showarrow": false,
          "text": "1.4e+03",
          "x": 0.35,
          "xref": "x",
          "y": 0.8888888888888888,
          "yref": "y"
         },
         {
          "showarrow": false,
          "text": "4.3e+03",
          "x": 0.35,
          "xref": "x",
          "y": 1,
          "yref": "y"
         },
         {
          "showarrow": false,
          "text": "Populations",
          "x": 0.28,
          "xref": "x",
          "y": -0.08,
          "yref": "y"
         },
         {
          "showarrow": false,
          "text": "4.0e+00",
          "x": 0.9,
          "xref": "x",
          "y": 0,
          "yref": "y"
         },
         {
          "showarrow": false,
          "text": "7.2e+00",
          "x": 0.9,
          "xref": "x",
          "y": 0.1111111111111111,
          "yref": "y"
         },
         {
          "showarrow": false,
          "text": "1.3e+01",
          "x": 0.9,
          "xref": "x",
          "y": 0.2222222222222222,
          "yref": "y"
         },
         {
          "showarrow": false,
          "text": "2.4e+01",
          "x": 0.9,
          "xref": "x",
          "y": 0.3333333333333333,
          "yref": "y"
         },
         {
          "showarrow": false,
          "text": "4.3e+01",
          "x": 0.9,
          "xref": "x",
          "y": 0.4444444444444444,
          "yref": "y"
         },
         {
          "showarrow": false,
          "text": "7.8e+01",
          "x": 0.9,
          "xref": "x",
          "y": 0.5555555555555556,
          "yref": "y"
         },
         {
          "showarrow": false,
          "text": "1.4e+02",
          "x": 0.9,
          "xref": "x",
          "y": 0.6666666666666666,
          "yref": "y"
         },
         {
          "showarrow": false,
          "text": "2.5e+02",
          "x": 0.9,
          "xref": "x",
          "y": 0.7777777777777777,
          "yref": "y"
         },
         {
          "showarrow": false,
          "text": "4.6e+02",
          "x": 0.9,
          "xref": "x",
          "y": 0.8888888888888888,
          "yref": "y"
         },
         {
          "showarrow": false,
          "text": "8.3e+02",
          "x": 0.9,
          "xref": "x",
          "y": 1,
          "yref": "y"
         },
         {
          "showarrow": false,
          "text": "#Packets",
          "x": 0.83,
          "xref": "x",
          "y": -0.08,
          "yref": "y"
         }
        ],
        "autosize": false,
        "height": 700,
        "plot_bgcolor": "white",
        "shapes": [
         {
          "line": {
           "width": 1.003
          },
          "type": "line",
          "x0": 0.1,
          "x1": 0.2,
          "xref": "x",
          "y0": 0,
          "y1": 0,
          "yref": "y"
         },
         {
          "line": {
           "width": 1.3363333333333332
          },
          "type": "line",
          "x0": 0.1,
          "x1": 0.2,
          "xref": "x",
          "y0": 0.1111111111111111,
          "y1": 0.1111111111111111,
          "yref": "y"
         },
         {
          "line": {
           "width": 1.6696666666666666
          },
          "type": "line",
          "x0": 0.1,
          "x1": 0.2,
          "xref": "x",
          "y0": 0.2222222222222222,
          "y1": 0.2222222222222222,
          "yref": "y"
         },
         {
          "line": {
           "width": 2.003
          },
          "type": "line",
          "x0": 0.1,
          "x1": 0.2,
          "xref": "x",
          "y0": 0.3333333333333333,
          "y1": 0.3333333333333333,
          "yref": "y"
         },
         {
          "line": {
           "width": 2.336333333333333
          },
          "type": "line",
          "x0": 0.1,
          "x1": 0.2,
          "xref": "x",
          "y0": 0.4444444444444444,
          "y1": 0.4444444444444444,
          "yref": "y"
         },
         {
          "line": {
           "width": 2.669666666666666
          },
          "type": "line",
          "x0": 0.1,
          "x1": 0.2,
          "xref": "x",
          "y0": 0.5555555555555556,
          "y1": 0.5555555555555556,
          "yref": "y"
         },
         {
          "line": {
           "width": 3.003
          },
          "type": "line",
          "x0": 0.1,
          "x1": 0.2,
          "xref": "x",
          "y0": 0.6666666666666666,
          "y1": 0.6666666666666666,
          "yref": "y"
         },
         {
          "line": {
           "width": 3.336333333333333
          },
          "type": "line",
          "x0": 0.1,
          "x1": 0.2,
          "xref": "x",
          "y0": 0.7777777777777777,
          "y1": 0.7777777777777777,
          "yref": "y"
         },
         {
          "line": {
           "width": 3.669666666666666
          },
          "type": "line",
          "x0": 0.1,
          "x1": 0.2,
          "xref": "x",
          "y0": 0.8888888888888888,
          "y1": 0.8888888888888888,
          "yref": "y"
         },
         {
          "line": {
           "width": 4.003
          },
          "type": "line",
          "x0": 0.1,
          "x1": 0.2,
          "xref": "x",
          "y0": 1,
          "y1": 1,
          "yref": "y"
         },
         {
          "line": {
           "color": "grey",
           "dash": "dash",
           "width": 0.5
          },
          "type": "line",
          "x0": 0.55,
          "x1": 0.55,
          "xref": "x",
          "y0": 0,
          "y1": 1,
          "yref": "y"
         },
         {
          "line": {
           "width": 1
          },
          "type": "line",
          "x0": 0.65,
          "x1": 0.75,
          "xref": "x",
          "y0": 0,
          "y1": 0,
          "yref": "y"
         },
         {
          "line": {
           "width": 1.2222222222222223
          },
          "type": "line",
          "x0": 0.65,
          "x1": 0.75,
          "xref": "x",
          "y0": 0.1111111111111111,
          "y1": 0.1111111111111111,
          "yref": "y"
         },
         {
          "line": {
           "width": 1.4444444444444444
          },
          "type": "line",
          "x0": 0.65,
          "x1": 0.75,
          "xref": "x",
          "y0": 0.2222222222222222,
          "y1": 0.2222222222222222,
          "yref": "y"
         },
         {
          "line": {
           "width": 1.6666666666666665
          },
          "type": "line",
          "x0": 0.65,
          "x1": 0.75,
          "xref": "x",
          "y0": 0.3333333333333333,
          "y1": 0.3333333333333333,
          "yref": "y"
         },
         {
          "line": {
           "width": 1.8888888888888888
          },
          "type": "line",
          "x0": 0.65,
          "x1": 0.75,
          "xref": "x",
          "y0": 0.4444444444444444,
          "y1": 0.4444444444444444,
          "yref": "y"
         },
         {
          "line": {
           "width": 2.111111111111111
          },
          "type": "line",
          "x0": 0.65,
          "x1": 0.75,
          "xref": "x",
          "y0": 0.5555555555555556,
          "y1": 0.5555555555555556,
          "yref": "y"
         },
         {
          "line": {
           "width": 2.333333333333333
          },
          "type": "line",
          "x0": 0.65,
          "x1": 0.75,
          "xref": "x",
          "y0": 0.6666666666666666,
          "y1": 0.6666666666666666,
          "yref": "y"
         },
         {
          "line": {
           "width": 2.5555555555555554
          },
          "type": "line",
          "x0": 0.65,
          "x1": 0.75,
          "xref": "x",
          "y0": 0.7777777777777777,
          "y1": 0.7777777777777777,
          "yref": "y"
         },
         {
          "line": {
           "width": 2.7777777777777777
          },
          "type": "line",
          "x0": 0.65,
          "x1": 0.75,
          "xref": "x",
          "y0": 0.8888888888888888,
          "y1": 0.8888888888888888,
          "yref": "y"
         },
         {
          "line": {
           "width": 3
          },
          "type": "line",
          "x0": 0.65,
          "x1": 0.75,
          "xref": "x",
          "y0": 1,
          "y1": 1,
          "yref": "y"
         }
        ],
        "showlegend": false,
        "template": {
         "data": {
          "bar": [
           {
            "error_x": {
             "color": "#2a3f5f"
            },
            "error_y": {
             "color": "#2a3f5f"
            },
            "marker": {
             "line": {
              "color": "#E5ECF6",
              "width": 0.5
             },
             "pattern": {
              "fillmode": "overlay",
              "size": 10,
              "solidity": 0.2
             }
            },
            "type": "bar"
           }
          ],
          "barpolar": [
           {
            "marker": {
             "line": {
              "color": "#E5ECF6",
              "width": 0.5
             },
             "pattern": {
              "fillmode": "overlay",
              "size": 10,
              "solidity": 0.2
             }
            },
            "type": "barpolar"
           }
          ],
          "carpet": [
           {
            "aaxis": {
             "endlinecolor": "#2a3f5f",
             "gridcolor": "white",
             "linecolor": "white",
             "minorgridcolor": "white",
             "startlinecolor": "#2a3f5f"
            },
            "baxis": {
             "endlinecolor": "#2a3f5f",
             "gridcolor": "white",
             "linecolor": "white",
             "minorgridcolor": "white",
             "startlinecolor": "#2a3f5f"
            },
            "type": "carpet"
           }
          ],
          "choropleth": [
           {
            "colorbar": {
             "outlinewidth": 0,
             "ticks": ""
            },
            "type": "choropleth"
           }
          ],
          "contour": [
           {
            "colorbar": {
             "outlinewidth": 0,
             "ticks": ""
            },
            "colorscale": [
             [
              0,
              "#0d0887"
             ],
             [
              0.1111111111111111,
              "#46039f"
             ],
             [
              0.2222222222222222,
              "#7201a8"
             ],
             [
              0.3333333333333333,
              "#9c179e"
             ],
             [
              0.4444444444444444,
              "#bd3786"
             ],
             [
              0.5555555555555556,
              "#d8576b"
             ],
             [
              0.6666666666666666,
              "#ed7953"
             ],
             [
              0.7777777777777778,
              "#fb9f3a"
             ],
             [
              0.8888888888888888,
              "#fdca26"
             ],
             [
              1,
              "#f0f921"
             ]
            ],
            "type": "contour"
           }
          ],
          "contourcarpet": [
           {
            "colorbar": {
             "outlinewidth": 0,
             "ticks": ""
            },
            "type": "contourcarpet"
           }
          ],
          "heatmap": [
           {
            "colorbar": {
             "outlinewidth": 0,
             "ticks": ""
            },
            "colorscale": [
             [
              0,
              "#0d0887"
             ],
             [
              0.1111111111111111,
              "#46039f"
             ],
             [
              0.2222222222222222,
              "#7201a8"
             ],
             [
              0.3333333333333333,
              "#9c179e"
             ],
             [
              0.4444444444444444,
              "#bd3786"
             ],
             [
              0.5555555555555556,
              "#d8576b"
             ],
             [
              0.6666666666666666,
              "#ed7953"
             ],
             [
              0.7777777777777778,
              "#fb9f3a"
             ],
             [
              0.8888888888888888,
              "#fdca26"
             ],
             [
              1,
              "#f0f921"
             ]
            ],
            "type": "heatmap"
           }
          ],
          "heatmapgl": [
           {
            "colorbar": {
             "outlinewidth": 0,
             "ticks": ""
            },
            "colorscale": [
             [
              0,
              "#0d0887"
             ],
             [
              0.1111111111111111,
              "#46039f"
             ],
             [
              0.2222222222222222,
              "#7201a8"
             ],
             [
              0.3333333333333333,
              "#9c179e"
             ],
             [
              0.4444444444444444,
              "#bd3786"
             ],
             [
              0.5555555555555556,
              "#d8576b"
             ],
             [
              0.6666666666666666,
              "#ed7953"
             ],
             [
              0.7777777777777778,
              "#fb9f3a"
             ],
             [
              0.8888888888888888,
              "#fdca26"
             ],
             [
              1,
              "#f0f921"
             ]
            ],
            "type": "heatmapgl"
           }
          ],
          "histogram": [
           {
            "marker": {
             "pattern": {
              "fillmode": "overlay",
              "size": 10,
              "solidity": 0.2
             }
            },
            "type": "histogram"
           }
          ],
          "histogram2d": [
           {
            "colorbar": {
             "outlinewidth": 0,
             "ticks": ""
            },
            "colorscale": [
             [
              0,
              "#0d0887"
             ],
             [
              0.1111111111111111,
              "#46039f"
             ],
             [
              0.2222222222222222,
              "#7201a8"
             ],
             [
              0.3333333333333333,
              "#9c179e"
             ],
             [
              0.4444444444444444,
              "#bd3786"
             ],
             [
              0.5555555555555556,
              "#d8576b"
             ],
             [
              0.6666666666666666,
              "#ed7953"
             ],
             [
              0.7777777777777778,
              "#fb9f3a"
             ],
             [
              0.8888888888888888,
              "#fdca26"
             ],
             [
              1,
              "#f0f921"
             ]
            ],
            "type": "histogram2d"
           }
          ],
          "histogram2dcontour": [
           {
            "colorbar": {
             "outlinewidth": 0,
             "ticks": ""
            },
            "colorscale": [
             [
              0,
              "#0d0887"
             ],
             [
              0.1111111111111111,
              "#46039f"
             ],
             [
              0.2222222222222222,
              "#7201a8"
             ],
             [
              0.3333333333333333,
              "#9c179e"
             ],
             [
              0.4444444444444444,
              "#bd3786"
             ],
             [
              0.5555555555555556,
              "#d8576b"
             ],
             [
              0.6666666666666666,
              "#ed7953"
             ],
             [
              0.7777777777777778,
              "#fb9f3a"
             ],
             [
              0.8888888888888888,
              "#fdca26"
             ],
             [
              1,
              "#f0f921"
             ]
            ],
            "type": "histogram2dcontour"
           }
          ],
          "mesh3d": [
           {
            "colorbar": {
             "outlinewidth": 0,
             "ticks": ""
            },
            "type": "mesh3d"
           }
          ],
          "parcoords": [
           {
            "line": {
             "colorbar": {
              "outlinewidth": 0,
              "ticks": ""
             }
            },
            "type": "parcoords"
           }
          ],
          "pie": [
           {
            "automargin": true,
            "type": "pie"
           }
          ],
          "scatter": [
           {
            "fillpattern": {
             "fillmode": "overlay",
             "size": 10,
             "solidity": 0.2
            },
            "type": "scatter"
           }
          ],
          "scatter3d": [
           {
            "line": {
             "colorbar": {
              "outlinewidth": 0,
              "ticks": ""
             }
            },
            "marker": {
             "colorbar": {
              "outlinewidth": 0,
              "ticks": ""
             }
            },
            "type": "scatter3d"
           }
          ],
          "scattercarpet": [
           {
            "marker": {
             "colorbar": {
              "outlinewidth": 0,
              "ticks": ""
             }
            },
            "type": "scattercarpet"
           }
          ],
          "scattergeo": [
           {
            "marker": {
             "colorbar": {
              "outlinewidth": 0,
              "ticks": ""
             }
            },
            "type": "scattergeo"
           }
          ],
          "scattergl": [
           {
            "marker": {
             "colorbar": {
              "outlinewidth": 0,
              "ticks": ""
             }
            },
            "type": "scattergl"
           }
          ],
          "scattermapbox": [
           {
            "marker": {
             "colorbar": {
              "outlinewidth": 0,
              "ticks": ""
             }
            },
            "type": "scattermapbox"
           }
          ],
          "scatterpolar": [
           {
            "marker": {
             "colorbar": {
              "outlinewidth": 0,
              "ticks": ""
             }
            },
            "type": "scatterpolar"
           }
          ],
          "scatterpolargl": [
           {
            "marker": {
             "colorbar": {
              "outlinewidth": 0,
              "ticks": ""
             }
            },
            "type": "scatterpolargl"
           }
          ],
          "scatterternary": [
           {
            "marker": {
             "colorbar": {
              "outlinewidth": 0,
              "ticks": ""
             }
            },
            "type": "scatterternary"
           }
          ],
          "surface": [
           {
            "colorbar": {
             "outlinewidth": 0,
             "ticks": ""
            },
            "colorscale": [
             [
              0,
              "#0d0887"
             ],
             [
              0.1111111111111111,
              "#46039f"
             ],
             [
              0.2222222222222222,
              "#7201a8"
             ],
             [
              0.3333333333333333,
              "#9c179e"
             ],
             [
              0.4444444444444444,
              "#bd3786"
             ],
             [
              0.5555555555555556,
              "#d8576b"
             ],
             [
              0.6666666666666666,
              "#ed7953"
             ],
             [
              0.7777777777777778,
              "#fb9f3a"
             ],
             [
              0.8888888888888888,
              "#fdca26"
             ],
             [
              1,
              "#f0f921"
             ]
            ],
            "type": "surface"
           }
          ],
          "table": [
           {
            "cells": {
             "fill": {
              "color": "#EBF0F8"
             },
             "line": {
              "color": "white"
             }
            },
            "header": {
             "fill": {
              "color": "#C8D4E3"
             },
             "line": {
              "color": "white"
             }
            },
            "type": "table"
           }
          ]
         },
         "layout": {
          "annotationdefaults": {
           "arrowcolor": "#2a3f5f",
           "arrowhead": 0,
           "arrowwidth": 1
          },
          "autotypenumbers": "strict",
          "coloraxis": {
           "colorbar": {
            "outlinewidth": 0,
            "ticks": ""
           }
          },
          "colorscale": {
           "diverging": [
            [
             0,
             "#8e0152"
            ],
            [
             0.1,
             "#c51b7d"
            ],
            [
             0.2,
             "#de77ae"
            ],
            [
             0.3,
             "#f1b6da"
            ],
            [
             0.4,
             "#fde0ef"
            ],
            [
             0.5,
             "#f7f7f7"
            ],
            [
             0.6,
             "#e6f5d0"
            ],
            [
             0.7,
             "#b8e186"
            ],
            [
             0.8,
             "#7fbc41"
            ],
            [
             0.9,
             "#4d9221"
            ],
            [
             1,
             "#276419"
            ]
           ],
           "sequential": [
            [
             0,
             "#0d0887"
            ],
            [
             0.1111111111111111,
             "#46039f"
            ],
            [
             0.2222222222222222,
             "#7201a8"
            ],
            [
             0.3333333333333333,
             "#9c179e"
            ],
            [
             0.4444444444444444,
             "#bd3786"
            ],
            [
             0.5555555555555556,
             "#d8576b"
            ],
            [
             0.6666666666666666,
             "#ed7953"
            ],
            [
             0.7777777777777778,
             "#fb9f3a"
            ],
            [
             0.8888888888888888,
             "#fdca26"
            ],
            [
             1,
             "#f0f921"
            ]
           ],
           "sequentialminus": [
            [
             0,
             "#0d0887"
            ],
            [
             0.1111111111111111,
             "#46039f"
            ],
            [
             0.2222222222222222,
             "#7201a8"
            ],
            [
             0.3333333333333333,
             "#9c179e"
            ],
            [
             0.4444444444444444,
             "#bd3786"
            ],
            [
             0.5555555555555556,
             "#d8576b"
            ],
            [
             0.6666666666666666,
             "#ed7953"
            ],
            [
             0.7777777777777778,
             "#fb9f3a"
            ],
            [
             0.8888888888888888,
             "#fdca26"
            ],
            [
             1,
             "#f0f921"
            ]
           ]
          },
          "colorway": [
           "#636efa",
           "#EF553B",
           "#00cc96",
           "#ab63fa",
           "#FFA15A",
           "#19d3f3",
           "#FF6692",
           "#B6E880",
           "#FF97FF",
           "#FECB52"
          ],
          "font": {
           "color": "#2a3f5f"
          },
          "geo": {
           "bgcolor": "white",
           "lakecolor": "white",
           "landcolor": "#E5ECF6",
           "showlakes": true,
           "showland": true,
           "subunitcolor": "white"
          },
          "hoverlabel": {
           "align": "left"
          },
          "hovermode": "closest",
          "mapbox": {
           "style": "light"
          },
          "paper_bgcolor": "white",
          "plot_bgcolor": "#E5ECF6",
          "polar": {
           "angularaxis": {
            "gridcolor": "white",
            "linecolor": "white",
            "ticks": ""
           },
           "bgcolor": "#E5ECF6",
           "radialaxis": {
            "gridcolor": "white",
            "linecolor": "white",
            "ticks": ""
           }
          },
          "scene": {
           "xaxis": {
            "backgroundcolor": "#E5ECF6",
            "gridcolor": "white",
            "gridwidth": 2,
            "linecolor": "white",
            "showbackground": true,
            "ticks": "",
            "zerolinecolor": "white"
           },
           "yaxis": {
            "backgroundcolor": "#E5ECF6",
            "gridcolor": "white",
            "gridwidth": 2,
            "linecolor": "white",
            "showbackground": true,
            "ticks": "",
            "zerolinecolor": "white"
           },
           "zaxis": {
            "backgroundcolor": "#E5ECF6",
            "gridcolor": "white",
            "gridwidth": 2,
            "linecolor": "white",
            "showbackground": true,
            "ticks": "",
            "zerolinecolor": "white"
           }
          },
          "shapedefaults": {
           "line": {
            "color": "#2a3f5f"
           }
          },
          "ternary": {
           "aaxis": {
            "gridcolor": "white",
            "linecolor": "white",
            "ticks": ""
           },
           "baxis": {
            "gridcolor": "white",
            "linecolor": "white",
            "ticks": ""
           },
           "bgcolor": "#E5ECF6",
           "caxis": {
            "gridcolor": "white",
            "linecolor": "white",
            "ticks": ""
           }
          },
          "title": {
           "x": 0.05
          },
          "xaxis": {
           "automargin": true,
           "gridcolor": "white",
           "linecolor": "white",
           "ticks": "",
           "title": {
            "standoff": 15
           },
           "zerolinecolor": "white",
           "zerolinewidth": 2
          },
          "yaxis": {
           "automargin": true,
           "gridcolor": "white",
           "linecolor": "white",
           "ticks": "",
           "title": {
            "standoff": 15
           },
           "zerolinecolor": "white",
           "zerolinewidth": 2
          }
         }
        },
        "title": {
         "text": "Grotrian Diagram for Silicon II (Shell: All)",
         "x": 0.5
        },
        "width": 1000,
        "xaxis": {
         "anchor": "y",
         "domain": [
          0,
          0.258
         ],
         "fixedrange": true,
         "showticklabels": false
        },
        "xaxis2": {
         "anchor": "y2",
         "domain": [
          0.398,
          1
         ],
         "fixedrange": true,
         "showticklabels": false
        },
        "yaxis": {
         "anchor": "x",
         "domain": [
          0,
          1
         ],
         "fixedrange": true,
         "showticklabels": false
        },
        "yaxis2": {
         "anchor": "x2",
         "domain": [
          0,
          1
         ],
         "fixedrange": true,
         "range": [
          0,
          null
         ],
         "tickmode": "array",
         "ticktext": [
          "0.00e+00",
          "3.56e-02",
          "5.33e+00",
          "6.86e+00",
          "8.12e+00",
          "9.51e+00",
          "9.84e+00"
         ],
         "tickvals": [
          0,
          0.1,
          0.6397472475454533,
          0.7961309029103393,
          0.924948647244838,
          1.06618459971416,
          1.1
         ],
         "title": {
          "standoff": 5,
          "text": "Energy (eV)"
         }
        }
       }
      },
      "text/html": [
       "<div>                            <div id=\"efde392a-e39b-41f7-a835-e7261a7f8bbc\" class=\"plotly-graph-div\" style=\"height:700px; width:1000px;\"></div>            <script type=\"text/javascript\">                require([\"plotly\"], function(Plotly) {                    window.PLOTLYENV=window.PLOTLYENV || {};                                    if (document.getElementById(\"efde392a-e39b-41f7-a835-e7261a7f8bbc\")) {                    Plotly.newPlot(                        \"efde392a-e39b-41f7-a835-e7261a7f8bbc\",                        [{\"hovertemplate\":\"Energy: 0.00e+00 eV<br>Population: 2.24e+03<extra></extra>\",\"line\":{\"color\":\"black\",\"width\":3.813866190245463},\"mode\":\"lines\",\"showlegend\":false,\"x\":[-0.05,0.07222222222222223,0.19444444444444448,0.3166666666666667,0.43888888888888894,0.5611111111111111,0.6833333333333333,0.8055555555555556,0.9277777777777778,1.05],\"y\":[0.0,0.0,0.0,0.0,0.0,0.0,0.0,0.0,0.0,0.0],\"type\":\"scatter\",\"xaxis\":\"x2\",\"yaxis\":\"y2\"},{\"hovertemplate\":\"Energy: 3.56e-02 eV<br>Population: 4.31e+03<extra></extra>\",\"line\":{\"color\":\"black\",\"width\":4.003},\"mode\":\"lines\",\"showlegend\":false,\"x\":[-0.05,0.07222222222222223,0.19444444444444448,0.3166666666666667,0.43888888888888894,0.5611111111111111,0.6833333333333333,0.8055555555555556,0.9277777777777778,1.05],\"y\":[0.1,0.1,0.1,0.1,0.1,0.1,0.1,0.1,0.1,0.1],\"type\":\"scatter\",\"xaxis\":\"x2\",\"yaxis\":\"y2\"},{\"hovertemplate\":\"Energy: 5.33e+00 eV<br>Population: 5.63e+01<extra></extra>\",\"line\":{\"color\":\"black\",\"width\":2.7531715714693474},\"mode\":\"lines\",\"showlegend\":false,\"x\":[-0.05,0.07222222222222223,0.19444444444444448,0.3166666666666667,0.43888888888888894,0.5611111111111111,0.6833333333333333,0.8055555555555556,0.9277777777777778,1.05],\"y\":[0.6397472475454533,0.6397472475454533,0.6397472475454533,0.6397472475454533,0.6397472475454533,0.6397472475454533,0.6397472475454533,0.6397472475454533,0.6397472475454533,0.6397472475454533],\"type\":\"scatter\",\"xaxis\":\"x2\",\"yaxis\":\"y2\"},{\"hovertemplate\":\"Energy: 6.86e+00 eV<br>Population: 9.78e+00<extra></extra>\",\"line\":{\"color\":\"black\",\"width\":2.2490856216624016},\"mode\":\"lines\",\"showlegend\":false,\"x\":[-0.05,0.07222222222222223,0.19444444444444448,0.3166666666666667,0.43888888888888894,0.5611111111111111,0.6833333333333333,0.8055555555555556,0.9277777777777778,1.05],\"y\":[0.7961309029103393,0.7961309029103393,0.7961309029103393,0.7961309029103393,0.7961309029103393,0.7961309029103393,0.7961309029103393,0.7961309029103393,0.7961309029103393,0.7961309029103393],\"type\":\"scatter\",\"xaxis\":\"x2\",\"yaxis\":\"y2\"},{\"hovertemplate\":\"Energy: 8.12e+00 eV<br>Population: 5.35e-01<extra></extra>\",\"line\":{\"color\":\"black\",\"width\":1.412238362960783},\"mode\":\"lines\",\"showlegend\":false,\"x\":[-0.05,0.07222222222222223,0.19444444444444448,0.3166666666666667,0.43888888888888894,0.5611111111111111,0.6833333333333333,0.8055555555555556,0.9277777777777778,1.05],\"y\":[0.924948647244838,0.924948647244838,0.924948647244838,0.924948647244838,0.924948647244838,0.924948647244838,0.924948647244838,0.924948647244838,0.924948647244838,0.924948647244838],\"type\":\"scatter\",\"xaxis\":\"x2\",\"yaxis\":\"y2\"},{\"hovertemplate\":\"Energy: 9.51e+00 eV<br>Population: 1.29e-01<extra></extra>\",\"line\":{\"color\":\"black\",\"width\":1.003},\"mode\":\"lines\",\"showlegend\":false,\"x\":[-0.05,0.07222222222222223,0.19444444444444448,0.3166666666666667,0.43888888888888894,0.5611111111111111,0.6833333333333333,0.8055555555555556,0.9277777777777778,1.05],\"y\":[1.06618459971416,1.06618459971416,1.06618459971416,1.06618459971416,1.06618459971416,1.06618459971416,1.06618459971416,1.06618459971416,1.06618459971416,1.06618459971416],\"type\":\"scatter\",\"xaxis\":\"x2\",\"yaxis\":\"y2\"},{\"hovertemplate\":\"Energy: 9.84e+00 eV<br>Population: 3.68e-01<extra></extra>\",\"line\":{\"color\":\"black\",\"width\":1.3043609655139132},\"mode\":\"lines\",\"showlegend\":false,\"x\":[-0.05,0.07222222222222223,0.19444444444444448,0.3166666666666667,0.43888888888888894,0.5611111111111111,0.6833333333333333,0.8055555555555556,0.9277777777777778,1.05],\"y\":[1.1,1.1,1.1,1.1,1.1,1.1,1.1,1.1,1.1,1.1],\"type\":\"scatter\",\"xaxis\":\"x2\",\"yaxis\":\"y2\"},{\"hovertemplate\":\"Count: 230<br>Wavelength: 1.81e+03 \\u212b<extra></extra>\",\"line\":{\"color\":\"#ff0905\",\"width\":2.5182224041500563},\"marker\":{\"angleref\":\"previous\",\"color\":\"#ff0905\",\"size\":9,\"symbol\":\"arrow-bar-up\"},\"x\":[0,0.697231041675857],\"y\":[0.0,0.7961309029103393],\"type\":\"scatter\",\"xaxis\":\"x2\",\"yaxis\":\"y2\"},{\"hovertemplate\":\"Count: 234<br>Wavelength: 1.53e+03 \\u212b<extra></extra>\",\"line\":{\"color\":\"#8cfead\",\"width\":2.524682988103575},\"marker\":{\"angleref\":\"previous\",\"color\":\"#8cfead\",\"size\":9,\"symbol\":\"arrow-bar-up\"},\"x\":[0,0.8255824095489577],\"y\":[0.0,0.924948647244838],\"type\":\"scatter\",\"xaxis\":\"x2\",\"yaxis\":\"y2\"},{\"hovertemplate\":\"Count: 48<br>Wavelength: 1.30e+03 \\u212b<extra></extra>\",\"line\":{\"color\":\"#5247fc\",\"width\":1.9311059191270643},\"marker\":{\"angleref\":\"previous\",\"color\":\"#5247fc\",\"size\":9,\"symbol\":\"arrow-bar-up\"},\"x\":[0,0.9663070262230818],\"y\":[0.0,1.06618459971416],\"type\":\"scatter\",\"xaxis\":\"x2\",\"yaxis\":\"y2\"},{\"hovertemplate\":\"Count: 51<br>Wavelength: 1.26e+03 \\u212b<extra></extra>\",\"line\":{\"color\":\"#8000ff\",\"width\":1.9538222429869316},\"marker\":{\"angleref\":\"previous\",\"color\":\"#8000ff\",\"size\":9,\"symbol\":\"arrow-bar-up\"},\"x\":[0,1.0],\"y\":[0.0,1.1],\"type\":\"scatter\",\"xaxis\":\"x2\",\"yaxis\":\"y2\"},{\"hovertemplate\":\"Count: 683<br>Wavelength: 1.82e+03 \\u212b<extra></extra>\",\"line\":{\"color\":\"#ff0000\",\"width\":2.92605670318273},\"marker\":{\"angleref\":\"previous\",\"color\":\"#ff0000\",\"size\":9,\"symbol\":\"arrow-bar-up\"},\"x\":[0,0.6961309029103393],\"y\":[0.1,0.7961309029103393],\"type\":\"scatter\",\"xaxis\":\"x2\",\"yaxis\":\"y2\"},{\"hovertemplate\":\"Count: 434<br>Wavelength: 1.53e+03 \\u212b<extra></extra>\",\"line\":{\"color\":\"#92fda9\",\"width\":2.7561467864011115},\"marker\":{\"angleref\":\"previous\",\"color\":\"#92fda9\",\"size\":9,\"symbol\":\"arrow-bar-up\"},\"x\":[0,0.8249486472448381],\"y\":[0.1,0.924948647244838],\"type\":\"scatter\",\"xaxis\":\"x2\",\"yaxis\":\"y2\"},{\"hovertemplate\":\"Count: 42<br>Wavelength: 1.31e+03 \\u212b<extra></extra>\",\"line\":{\"color\":\"#4c50fc\",\"width\":1.8810710938459696},\"marker\":{\"angleref\":\"previous\",\"color\":\"#4c50fc\",\"size\":9,\"symbol\":\"arrow-bar-up\"},\"x\":[0,0.9661845997141599],\"y\":[0.1,1.06618459971416],\"type\":\"scatter\",\"xaxis\":\"x2\",\"yaxis\":\"y2\"},{\"hovertemplate\":\"Count: 119<br>Wavelength: 1.27e+03 \\u212b<extra></extra>\",\"line\":{\"color\":\"#7c06ff\",\"width\":2.2713086375513027},\"marker\":{\"angleref\":\"previous\",\"color\":\"#7c06ff\",\"size\":9,\"symbol\":\"arrow-bar-up\"},\"x\":[0,1.0],\"y\":[0.1,1.1],\"type\":\"scatter\",\"xaxis\":\"x2\",\"yaxis\":\"y2\"},{\"hovertemplate\":\"Count: 239<br>Wavelength: 1.81e+03 \\u212b<extra></extra>\",\"line\":{\"color\":\"#ff0905\",\"width\":2.5326051560612006},\"marker\":{\"angleref\":\"previous\",\"color\":\"#ff0905\",\"size\":9,\"symbol\":\"arrow-bar-up\"},\"x\":[0,0.697231041675857],\"y\":[0.7961309029103393,0.0],\"type\":\"scatter\",\"xaxis\":\"x2\",\"yaxis\":\"y2\"},{\"hovertemplate\":\"Count: 101<br>Wavelength: 1.53e+03 \\u212b<extra></extra>\",\"line\":{\"color\":\"#8cfead\",\"width\":2.20985597011499},\"marker\":{\"angleref\":\"previous\",\"color\":\"#8cfead\",\"size\":9,\"symbol\":\"arrow-bar-up\"},\"x\":[0,0.8255824095489577],\"y\":[0.924948647244838,0.0],\"type\":\"scatter\",\"xaxis\":\"x2\",\"yaxis\":\"y2\"},{\"hovertemplate\":\"Count: 10<br>Wavelength: 1.30e+03 \\u212b<extra></extra>\",\"line\":{\"color\":\"#5247fc\",\"width\":1.3433383399581966},\"marker\":{\"angleref\":\"previous\",\"color\":\"#5247fc\",\"size\":9,\"symbol\":\"arrow-bar-up\"},\"x\":[0,0.9663070262230818],\"y\":[1.06618459971416,0.0],\"type\":\"scatter\",\"xaxis\":\"x2\",\"yaxis\":\"y2\"},{\"hovertemplate\":\"Count: 24<br>Wavelength: 1.26e+03 \\u212b<extra></extra>\",\"line\":{\"color\":\"#8000ff\",\"width\":1.6713804913325583},\"marker\":{\"angleref\":\"previous\",\"color\":\"#8000ff\",\"size\":9,\"symbol\":\"arrow-bar-up\"},\"x\":[0,1.0],\"y\":[1.1,0.0],\"type\":\"scatter\",\"xaxis\":\"x2\",\"yaxis\":\"y2\"},{\"hovertemplate\":\"Count: 464<br>Wavelength: 1.82e+03 \\u212b<extra></extra>\",\"line\":{\"color\":\"#ff0000\",\"width\":2.7811920477661003},\"marker\":{\"angleref\":\"previous\",\"color\":\"#ff0000\",\"size\":9,\"symbol\":\"arrow-bar-up\"},\"x\":[0,0.6961309029103393],\"y\":[0.7961309029103393,0.1],\"type\":\"scatter\",\"xaxis\":\"x2\",\"yaxis\":\"y2\"},{\"hovertemplate\":\"Count: 832<br>Wavelength: 1.53e+03 \\u212b<extra></extra>\",\"line\":{\"color\":\"#92fda9\",\"width\":3.0},\"marker\":{\"angleref\":\"previous\",\"color\":\"#92fda9\",\"size\":9,\"symbol\":\"arrow-bar-up\"},\"x\":[0,0.8249486472448381],\"y\":[0.924948647244838,0.1],\"type\":\"scatter\",\"xaxis\":\"x2\",\"yaxis\":\"y2\"},{\"hovertemplate\":\"Count: 4<br>Wavelength: 1.31e+03 \\u212b<extra></extra>\",\"line\":{\"color\":\"#4c50fc\",\"width\":1.0},\"marker\":{\"angleref\":\"previous\",\"color\":\"#4c50fc\",\"size\":9,\"symbol\":\"arrow-bar-up\"},\"x\":[0,0.9661845997141599],\"y\":[1.06618459971416,0.1],\"type\":\"scatter\",\"xaxis\":\"x2\",\"yaxis\":\"y2\"},{\"hovertemplate\":\"Count: 120<br>Wavelength: 1.27e+03 \\u212b<extra></extra>\",\"line\":{\"color\":\"#7c06ff\",\"width\":2.2744442590852607},\"marker\":{\"angleref\":\"previous\",\"color\":\"#7c06ff\",\"size\":9,\"symbol\":\"arrow-bar-up\"},\"x\":[0,1.0],\"y\":[1.1,0.1],\"type\":\"scatter\",\"xaxis\":\"x2\",\"yaxis\":\"y2\"},{\"hoverinfo\":\"none\",\"marker\":{\"cmax\":7.5050463557483695,\"cmin\":7.139201864507048,\"colorbar\":{\"outlinewidth\":0,\"thickness\":5,\"ticktext\":[\"1.3e+03\",\"1.3e+03\",\"1.4e+03\",\"1.4e+03\",\"1.5e+03\",\"1.5e+03\",\"1.6e+03\",\"1.7e+03\",\"1.7e+03\",\"1.8e+03\"],\"tickvals\":[7.139201864507048,7.1798512524227505,7.220500640338453,7.261150028254155,7.301799416169858,7.34244880408556,7.383098192001262,7.423747579916965,7.464396967832667,7.5050463557483695],\"title\":{\"font\":{\"size\":12},\"text\":\"Wavelength (\\u212b)<br>&nbsp;\"}},\"colorscale\":[[0.0,\"rgb(150,0,90)\"],[0.125,\"rgb(0,0,200)\"],[0.25,\"rgb(0,25,255)\"],[0.375,\"rgb(0,152,255)\"],[0.5,\"rgb(44,255,150)\"],[0.625,\"rgb(151,255,0)\"],[0.75,\"rgb(255,234,0)\"],[0.875,\"rgb(255,111,0)\"],[1.0,\"rgb(255,0,0)\"]],\"showscale\":true},\"mode\":\"markers\",\"x\":[null],\"y\":[null],\"type\":\"scatter\",\"xaxis\":\"x2\",\"yaxis\":\"y2\"}],                        {\"template\":{\"data\":{\"histogram2dcontour\":[{\"type\":\"histogram2dcontour\",\"colorbar\":{\"outlinewidth\":0,\"ticks\":\"\"},\"colorscale\":[[0.0,\"#0d0887\"],[0.1111111111111111,\"#46039f\"],[0.2222222222222222,\"#7201a8\"],[0.3333333333333333,\"#9c179e\"],[0.4444444444444444,\"#bd3786\"],[0.5555555555555556,\"#d8576b\"],[0.6666666666666666,\"#ed7953\"],[0.7777777777777778,\"#fb9f3a\"],[0.8888888888888888,\"#fdca26\"],[1.0,\"#f0f921\"]]}],\"choropleth\":[{\"type\":\"choropleth\",\"colorbar\":{\"outlinewidth\":0,\"ticks\":\"\"}}],\"histogram2d\":[{\"type\":\"histogram2d\",\"colorbar\":{\"outlinewidth\":0,\"ticks\":\"\"},\"colorscale\":[[0.0,\"#0d0887\"],[0.1111111111111111,\"#46039f\"],[0.2222222222222222,\"#7201a8\"],[0.3333333333333333,\"#9c179e\"],[0.4444444444444444,\"#bd3786\"],[0.5555555555555556,\"#d8576b\"],[0.6666666666666666,\"#ed7953\"],[0.7777777777777778,\"#fb9f3a\"],[0.8888888888888888,\"#fdca26\"],[1.0,\"#f0f921\"]]}],\"heatmap\":[{\"type\":\"heatmap\",\"colorbar\":{\"outlinewidth\":0,\"ticks\":\"\"},\"colorscale\":[[0.0,\"#0d0887\"],[0.1111111111111111,\"#46039f\"],[0.2222222222222222,\"#7201a8\"],[0.3333333333333333,\"#9c179e\"],[0.4444444444444444,\"#bd3786\"],[0.5555555555555556,\"#d8576b\"],[0.6666666666666666,\"#ed7953\"],[0.7777777777777778,\"#fb9f3a\"],[0.8888888888888888,\"#fdca26\"],[1.0,\"#f0f921\"]]}],\"heatmapgl\":[{\"type\":\"heatmapgl\",\"colorbar\":{\"outlinewidth\":0,\"ticks\":\"\"},\"colorscale\":[[0.0,\"#0d0887\"],[0.1111111111111111,\"#46039f\"],[0.2222222222222222,\"#7201a8\"],[0.3333333333333333,\"#9c179e\"],[0.4444444444444444,\"#bd3786\"],[0.5555555555555556,\"#d8576b\"],[0.6666666666666666,\"#ed7953\"],[0.7777777777777778,\"#fb9f3a\"],[0.8888888888888888,\"#fdca26\"],[1.0,\"#f0f921\"]]}],\"contourcarpet\":[{\"type\":\"contourcarpet\",\"colorbar\":{\"outlinewidth\":0,\"ticks\":\"\"}}],\"contour\":[{\"type\":\"contour\",\"colorbar\":{\"outlinewidth\":0,\"ticks\":\"\"},\"colorscale\":[[0.0,\"#0d0887\"],[0.1111111111111111,\"#46039f\"],[0.2222222222222222,\"#7201a8\"],[0.3333333333333333,\"#9c179e\"],[0.4444444444444444,\"#bd3786\"],[0.5555555555555556,\"#d8576b\"],[0.6666666666666666,\"#ed7953\"],[0.7777777777777778,\"#fb9f3a\"],[0.8888888888888888,\"#fdca26\"],[1.0,\"#f0f921\"]]}],\"surface\":[{\"type\":\"surface\",\"colorbar\":{\"outlinewidth\":0,\"ticks\":\"\"},\"colorscale\":[[0.0,\"#0d0887\"],[0.1111111111111111,\"#46039f\"],[0.2222222222222222,\"#7201a8\"],[0.3333333333333333,\"#9c179e\"],[0.4444444444444444,\"#bd3786\"],[0.5555555555555556,\"#d8576b\"],[0.6666666666666666,\"#ed7953\"],[0.7777777777777778,\"#fb9f3a\"],[0.8888888888888888,\"#fdca26\"],[1.0,\"#f0f921\"]]}],\"mesh3d\":[{\"type\":\"mesh3d\",\"colorbar\":{\"outlinewidth\":0,\"ticks\":\"\"}}],\"scatter\":[{\"fillpattern\":{\"fillmode\":\"overlay\",\"size\":10,\"solidity\":0.2},\"type\":\"scatter\"}],\"parcoords\":[{\"type\":\"parcoords\",\"line\":{\"colorbar\":{\"outlinewidth\":0,\"ticks\":\"\"}}}],\"scatterpolargl\":[{\"type\":\"scatterpolargl\",\"marker\":{\"colorbar\":{\"outlinewidth\":0,\"ticks\":\"\"}}}],\"bar\":[{\"error_x\":{\"color\":\"#2a3f5f\"},\"error_y\":{\"color\":\"#2a3f5f\"},\"marker\":{\"line\":{\"color\":\"#E5ECF6\",\"width\":0.5},\"pattern\":{\"fillmode\":\"overlay\",\"size\":10,\"solidity\":0.2}},\"type\":\"bar\"}],\"scattergeo\":[{\"type\":\"scattergeo\",\"marker\":{\"colorbar\":{\"outlinewidth\":0,\"ticks\":\"\"}}}],\"scatterpolar\":[{\"type\":\"scatterpolar\",\"marker\":{\"colorbar\":{\"outlinewidth\":0,\"ticks\":\"\"}}}],\"histogram\":[{\"marker\":{\"pattern\":{\"fillmode\":\"overlay\",\"size\":10,\"solidity\":0.2}},\"type\":\"histogram\"}],\"scattergl\":[{\"type\":\"scattergl\",\"marker\":{\"colorbar\":{\"outlinewidth\":0,\"ticks\":\"\"}}}],\"scatter3d\":[{\"type\":\"scatter3d\",\"line\":{\"colorbar\":{\"outlinewidth\":0,\"ticks\":\"\"}},\"marker\":{\"colorbar\":{\"outlinewidth\":0,\"ticks\":\"\"}}}],\"scattermapbox\":[{\"type\":\"scattermapbox\",\"marker\":{\"colorbar\":{\"outlinewidth\":0,\"ticks\":\"\"}}}],\"scatterternary\":[{\"type\":\"scatterternary\",\"marker\":{\"colorbar\":{\"outlinewidth\":0,\"ticks\":\"\"}}}],\"scattercarpet\":[{\"type\":\"scattercarpet\",\"marker\":{\"colorbar\":{\"outlinewidth\":0,\"ticks\":\"\"}}}],\"carpet\":[{\"aaxis\":{\"endlinecolor\":\"#2a3f5f\",\"gridcolor\":\"white\",\"linecolor\":\"white\",\"minorgridcolor\":\"white\",\"startlinecolor\":\"#2a3f5f\"},\"baxis\":{\"endlinecolor\":\"#2a3f5f\",\"gridcolor\":\"white\",\"linecolor\":\"white\",\"minorgridcolor\":\"white\",\"startlinecolor\":\"#2a3f5f\"},\"type\":\"carpet\"}],\"table\":[{\"cells\":{\"fill\":{\"color\":\"#EBF0F8\"},\"line\":{\"color\":\"white\"}},\"header\":{\"fill\":{\"color\":\"#C8D4E3\"},\"line\":{\"color\":\"white\"}},\"type\":\"table\"}],\"barpolar\":[{\"marker\":{\"line\":{\"color\":\"#E5ECF6\",\"width\":0.5},\"pattern\":{\"fillmode\":\"overlay\",\"size\":10,\"solidity\":0.2}},\"type\":\"barpolar\"}],\"pie\":[{\"automargin\":true,\"type\":\"pie\"}]},\"layout\":{\"autotypenumbers\":\"strict\",\"colorway\":[\"#636efa\",\"#EF553B\",\"#00cc96\",\"#ab63fa\",\"#FFA15A\",\"#19d3f3\",\"#FF6692\",\"#B6E880\",\"#FF97FF\",\"#FECB52\"],\"font\":{\"color\":\"#2a3f5f\"},\"hovermode\":\"closest\",\"hoverlabel\":{\"align\":\"left\"},\"paper_bgcolor\":\"white\",\"plot_bgcolor\":\"#E5ECF6\",\"polar\":{\"bgcolor\":\"#E5ECF6\",\"angularaxis\":{\"gridcolor\":\"white\",\"linecolor\":\"white\",\"ticks\":\"\"},\"radialaxis\":{\"gridcolor\":\"white\",\"linecolor\":\"white\",\"ticks\":\"\"}},\"ternary\":{\"bgcolor\":\"#E5ECF6\",\"aaxis\":{\"gridcolor\":\"white\",\"linecolor\":\"white\",\"ticks\":\"\"},\"baxis\":{\"gridcolor\":\"white\",\"linecolor\":\"white\",\"ticks\":\"\"},\"caxis\":{\"gridcolor\":\"white\",\"linecolor\":\"white\",\"ticks\":\"\"}},\"coloraxis\":{\"colorbar\":{\"outlinewidth\":0,\"ticks\":\"\"}},\"colorscale\":{\"sequential\":[[0.0,\"#0d0887\"],[0.1111111111111111,\"#46039f\"],[0.2222222222222222,\"#7201a8\"],[0.3333333333333333,\"#9c179e\"],[0.4444444444444444,\"#bd3786\"],[0.5555555555555556,\"#d8576b\"],[0.6666666666666666,\"#ed7953\"],[0.7777777777777778,\"#fb9f3a\"],[0.8888888888888888,\"#fdca26\"],[1.0,\"#f0f921\"]],\"sequentialminus\":[[0.0,\"#0d0887\"],[0.1111111111111111,\"#46039f\"],[0.2222222222222222,\"#7201a8\"],[0.3333333333333333,\"#9c179e\"],[0.4444444444444444,\"#bd3786\"],[0.5555555555555556,\"#d8576b\"],[0.6666666666666666,\"#ed7953\"],[0.7777777777777778,\"#fb9f3a\"],[0.8888888888888888,\"#fdca26\"],[1.0,\"#f0f921\"]],\"diverging\":[[0,\"#8e0152\"],[0.1,\"#c51b7d\"],[0.2,\"#de77ae\"],[0.3,\"#f1b6da\"],[0.4,\"#fde0ef\"],[0.5,\"#f7f7f7\"],[0.6,\"#e6f5d0\"],[0.7,\"#b8e186\"],[0.8,\"#7fbc41\"],[0.9,\"#4d9221\"],[1,\"#276419\"]]},\"xaxis\":{\"gridcolor\":\"white\",\"linecolor\":\"white\",\"ticks\":\"\",\"title\":{\"standoff\":15},\"zerolinecolor\":\"white\",\"automargin\":true,\"zerolinewidth\":2},\"yaxis\":{\"gridcolor\":\"white\",\"linecolor\":\"white\",\"ticks\":\"\",\"title\":{\"standoff\":15},\"zerolinecolor\":\"white\",\"automargin\":true,\"zerolinewidth\":2},\"scene\":{\"xaxis\":{\"backgroundcolor\":\"#E5ECF6\",\"gridcolor\":\"white\",\"linecolor\":\"white\",\"showbackground\":true,\"ticks\":\"\",\"zerolinecolor\":\"white\",\"gridwidth\":2},\"yaxis\":{\"backgroundcolor\":\"#E5ECF6\",\"gridcolor\":\"white\",\"linecolor\":\"white\",\"showbackground\":true,\"ticks\":\"\",\"zerolinecolor\":\"white\",\"gridwidth\":2},\"zaxis\":{\"backgroundcolor\":\"#E5ECF6\",\"gridcolor\":\"white\",\"linecolor\":\"white\",\"showbackground\":true,\"ticks\":\"\",\"zerolinecolor\":\"white\",\"gridwidth\":2}},\"shapedefaults\":{\"line\":{\"color\":\"#2a3f5f\"}},\"annotationdefaults\":{\"arrowcolor\":\"#2a3f5f\",\"arrowhead\":0,\"arrowwidth\":1},\"geo\":{\"bgcolor\":\"white\",\"landcolor\":\"#E5ECF6\",\"subunitcolor\":\"white\",\"showland\":true,\"showlakes\":true,\"lakecolor\":\"white\"},\"title\":{\"x\":0.05},\"mapbox\":{\"style\":\"light\"}}},\"xaxis\":{\"anchor\":\"y\",\"domain\":[0.0,0.258],\"showticklabels\":false,\"fixedrange\":true},\"yaxis\":{\"anchor\":\"x\",\"domain\":[0.0,1.0],\"showticklabels\":false,\"fixedrange\":true},\"xaxis2\":{\"anchor\":\"y2\",\"domain\":[0.398,1.0],\"showticklabels\":false,\"fixedrange\":true},\"yaxis2\":{\"anchor\":\"x2\",\"domain\":[0.0,1.0],\"title\":{\"text\":\"Energy (eV)\",\"standoff\":5},\"range\":[0,null],\"tickmode\":\"array\",\"tickvals\":[0.0,0.1,0.6397472475454533,0.7961309029103393,0.924948647244838,1.06618459971416,1.1],\"ticktext\":[\"0.00e+00\",\"3.56e-02\",\"5.33e+00\",\"6.86e+00\",\"8.12e+00\",\"9.51e+00\",\"9.84e+00\"],\"fixedrange\":true},\"title\":{\"text\":\"Grotrian Diagram for Silicon II (Shell: All)\",\"x\":0.5},\"plot_bgcolor\":\"white\",\"autosize\":false,\"width\":1000,\"height\":700,\"showlegend\":false,\"annotations\":[{\"showarrow\":false,\"text\":\"n=0\",\"x\":1.1,\"xref\":\"x2\",\"y\":0.0,\"yref\":\"y2\"},{\"showarrow\":false,\"text\":\"n=1\",\"x\":1.1,\"xref\":\"x2\",\"y\":0.1,\"yref\":\"y2\"},{\"showarrow\":false,\"text\":\"n=2\",\"x\":1.1,\"xref\":\"x2\",\"y\":0.6397472475454533,\"yref\":\"y2\"},{\"showarrow\":false,\"text\":\"n=3\",\"x\":1.1,\"xref\":\"x2\",\"y\":0.7961309029103393,\"yref\":\"y2\"},{\"showarrow\":false,\"text\":\"n=4\",\"x\":1.1,\"xref\":\"x2\",\"y\":0.924948647244838,\"yref\":\"y2\"},{\"showarrow\":false,\"text\":\"n=5\",\"x\":1.1,\"xref\":\"x2\",\"y\":1.06618459971416,\"yref\":\"y2\"},{\"showarrow\":false,\"text\":\"n=6\",\"x\":1.1,\"xref\":\"x2\",\"y\":1.1,\"yref\":\"y2\"},{\"showarrow\":false,\"text\":\"1.3e-01\",\"x\":0.35,\"xref\":\"x\",\"y\":0.0,\"yref\":\"y\"},{\"showarrow\":false,\"text\":\"4.1e-01\",\"x\":0.35,\"xref\":\"x\",\"y\":0.1111111111111111,\"yref\":\"y\"},{\"showarrow\":false,\"text\":\"1.3e+00\",\"x\":0.35,\"xref\":\"x\",\"y\":0.2222222222222222,\"yref\":\"y\"},{\"showarrow\":false,\"text\":\"4.2e+00\",\"x\":0.35,\"xref\":\"x\",\"y\":0.3333333333333333,\"yref\":\"y\"},{\"showarrow\":false,\"text\":\"1.3e+01\",\"x\":0.35,\"xref\":\"x\",\"y\":0.4444444444444444,\"yref\":\"y\"},{\"showarrow\":false,\"text\":\"4.2e+01\",\"x\":0.35,\"xref\":\"x\",\"y\":0.5555555555555556,\"yref\":\"y\"},{\"showarrow\":false,\"text\":\"1.3e+02\",\"x\":0.35,\"xref\":\"x\",\"y\":0.6666666666666666,\"yref\":\"y\"},{\"showarrow\":false,\"text\":\"4.3e+02\",\"x\":0.35,\"xref\":\"x\",\"y\":0.7777777777777777,\"yref\":\"y\"},{\"showarrow\":false,\"text\":\"1.4e+03\",\"x\":0.35,\"xref\":\"x\",\"y\":0.8888888888888888,\"yref\":\"y\"},{\"showarrow\":false,\"text\":\"4.3e+03\",\"x\":0.35,\"xref\":\"x\",\"y\":1.0,\"yref\":\"y\"},{\"showarrow\":false,\"text\":\"Populations\",\"x\":0.28,\"xref\":\"x\",\"y\":-0.08,\"yref\":\"y\"},{\"showarrow\":false,\"text\":\"4.0e+00\",\"x\":0.9,\"xref\":\"x\",\"y\":0.0,\"yref\":\"y\"},{\"showarrow\":false,\"text\":\"7.2e+00\",\"x\":0.9,\"xref\":\"x\",\"y\":0.1111111111111111,\"yref\":\"y\"},{\"showarrow\":false,\"text\":\"1.3e+01\",\"x\":0.9,\"xref\":\"x\",\"y\":0.2222222222222222,\"yref\":\"y\"},{\"showarrow\":false,\"text\":\"2.4e+01\",\"x\":0.9,\"xref\":\"x\",\"y\":0.3333333333333333,\"yref\":\"y\"},{\"showarrow\":false,\"text\":\"4.3e+01\",\"x\":0.9,\"xref\":\"x\",\"y\":0.4444444444444444,\"yref\":\"y\"},{\"showarrow\":false,\"text\":\"7.8e+01\",\"x\":0.9,\"xref\":\"x\",\"y\":0.5555555555555556,\"yref\":\"y\"},{\"showarrow\":false,\"text\":\"1.4e+02\",\"x\":0.9,\"xref\":\"x\",\"y\":0.6666666666666666,\"yref\":\"y\"},{\"showarrow\":false,\"text\":\"2.5e+02\",\"x\":0.9,\"xref\":\"x\",\"y\":0.7777777777777777,\"yref\":\"y\"},{\"showarrow\":false,\"text\":\"4.6e+02\",\"x\":0.9,\"xref\":\"x\",\"y\":0.8888888888888888,\"yref\":\"y\"},{\"showarrow\":false,\"text\":\"8.3e+02\",\"x\":0.9,\"xref\":\"x\",\"y\":1.0,\"yref\":\"y\"},{\"showarrow\":false,\"text\":\"#Packets\",\"x\":0.83,\"xref\":\"x\",\"y\":-0.08,\"yref\":\"y\"}],\"shapes\":[{\"line\":{\"width\":1.003},\"type\":\"line\",\"x0\":0.1,\"x1\":0.2,\"xref\":\"x\",\"y0\":0.0,\"y1\":0.0,\"yref\":\"y\"},{\"line\":{\"width\":1.3363333333333332},\"type\":\"line\",\"x0\":0.1,\"x1\":0.2,\"xref\":\"x\",\"y0\":0.1111111111111111,\"y1\":0.1111111111111111,\"yref\":\"y\"},{\"line\":{\"width\":1.6696666666666666},\"type\":\"line\",\"x0\":0.1,\"x1\":0.2,\"xref\":\"x\",\"y0\":0.2222222222222222,\"y1\":0.2222222222222222,\"yref\":\"y\"},{\"line\":{\"width\":2.003},\"type\":\"line\",\"x0\":0.1,\"x1\":0.2,\"xref\":\"x\",\"y0\":0.3333333333333333,\"y1\":0.3333333333333333,\"yref\":\"y\"},{\"line\":{\"width\":2.336333333333333},\"type\":\"line\",\"x0\":0.1,\"x1\":0.2,\"xref\":\"x\",\"y0\":0.4444444444444444,\"y1\":0.4444444444444444,\"yref\":\"y\"},{\"line\":{\"width\":2.669666666666666},\"type\":\"line\",\"x0\":0.1,\"x1\":0.2,\"xref\":\"x\",\"y0\":0.5555555555555556,\"y1\":0.5555555555555556,\"yref\":\"y\"},{\"line\":{\"width\":3.003},\"type\":\"line\",\"x0\":0.1,\"x1\":0.2,\"xref\":\"x\",\"y0\":0.6666666666666666,\"y1\":0.6666666666666666,\"yref\":\"y\"},{\"line\":{\"width\":3.336333333333333},\"type\":\"line\",\"x0\":0.1,\"x1\":0.2,\"xref\":\"x\",\"y0\":0.7777777777777777,\"y1\":0.7777777777777777,\"yref\":\"y\"},{\"line\":{\"width\":3.669666666666666},\"type\":\"line\",\"x0\":0.1,\"x1\":0.2,\"xref\":\"x\",\"y0\":0.8888888888888888,\"y1\":0.8888888888888888,\"yref\":\"y\"},{\"line\":{\"width\":4.003},\"type\":\"line\",\"x0\":0.1,\"x1\":0.2,\"xref\":\"x\",\"y0\":1.0,\"y1\":1.0,\"yref\":\"y\"},{\"line\":{\"color\":\"grey\",\"dash\":\"dash\",\"width\":0.5},\"type\":\"line\",\"x0\":0.55,\"x1\":0.55,\"xref\":\"x\",\"y0\":0,\"y1\":1,\"yref\":\"y\"},{\"line\":{\"width\":1.0},\"type\":\"line\",\"x0\":0.65,\"x1\":0.75,\"xref\":\"x\",\"y0\":0.0,\"y1\":0.0,\"yref\":\"y\"},{\"line\":{\"width\":1.2222222222222223},\"type\":\"line\",\"x0\":0.65,\"x1\":0.75,\"xref\":\"x\",\"y0\":0.1111111111111111,\"y1\":0.1111111111111111,\"yref\":\"y\"},{\"line\":{\"width\":1.4444444444444444},\"type\":\"line\",\"x0\":0.65,\"x1\":0.75,\"xref\":\"x\",\"y0\":0.2222222222222222,\"y1\":0.2222222222222222,\"yref\":\"y\"},{\"line\":{\"width\":1.6666666666666665},\"type\":\"line\",\"x0\":0.65,\"x1\":0.75,\"xref\":\"x\",\"y0\":0.3333333333333333,\"y1\":0.3333333333333333,\"yref\":\"y\"},{\"line\":{\"width\":1.8888888888888888},\"type\":\"line\",\"x0\":0.65,\"x1\":0.75,\"xref\":\"x\",\"y0\":0.4444444444444444,\"y1\":0.4444444444444444,\"yref\":\"y\"},{\"line\":{\"width\":2.111111111111111},\"type\":\"line\",\"x0\":0.65,\"x1\":0.75,\"xref\":\"x\",\"y0\":0.5555555555555556,\"y1\":0.5555555555555556,\"yref\":\"y\"},{\"line\":{\"width\":2.333333333333333},\"type\":\"line\",\"x0\":0.65,\"x1\":0.75,\"xref\":\"x\",\"y0\":0.6666666666666666,\"y1\":0.6666666666666666,\"yref\":\"y\"},{\"line\":{\"width\":2.5555555555555554},\"type\":\"line\",\"x0\":0.65,\"x1\":0.75,\"xref\":\"x\",\"y0\":0.7777777777777777,\"y1\":0.7777777777777777,\"yref\":\"y\"},{\"line\":{\"width\":2.7777777777777777},\"type\":\"line\",\"x0\":0.65,\"x1\":0.75,\"xref\":\"x\",\"y0\":0.8888888888888888,\"y1\":0.8888888888888888,\"yref\":\"y\"},{\"line\":{\"width\":3.0},\"type\":\"line\",\"x0\":0.65,\"x1\":0.75,\"xref\":\"x\",\"y0\":1.0,\"y1\":1.0,\"yref\":\"y\"}]},                        {\"responsive\": true}                    ).then(function(){\n",
       "                            \n",
       "var gd = document.getElementById('efde392a-e39b-41f7-a835-e7261a7f8bbc');\n",
       "var x = new MutationObserver(function (mutations, observer) {{\n",
       "        var display = window.getComputedStyle(gd).display;\n",
       "        if (!display || display === 'none') {{\n",
       "            console.log([gd, 'removed!']);\n",
       "            Plotly.purge(gd);\n",
       "            observer.disconnect();\n",
       "        }}\n",
       "}});\n",
       "\n",
       "// Listen for the removal of the full notebook cells\n",
       "var notebookContainer = gd.closest('#notebook-container');\n",
       "if (notebookContainer) {{\n",
       "    x.observe(notebookContainer, {childList: true});\n",
       "}}\n",
       "\n",
       "// Listen for the clearing of the current output cell\n",
       "var outputEl = gd.closest('.output');\n",
       "if (outputEl) {{\n",
       "    x.observe(outputEl, {childList: true});\n",
       "}}\n",
       "\n",
       "                        })                };                });            </script>        </div>"
      ]
     },
     "metadata": {},
     "output_type": "display_data"
    }
   ],
   "source": [
    "diag = GrotrianWidget.from_simulation(sim)\n",
    "diag.set_ion(14, 1) # Si II\n",
    "diag.display()"
   ]
  },
  {
   "cell_type": "code",
   "execution_count": 9,
   "metadata": {},
   "outputs": [
    {
     "data": {
      "application/vnd.plotly.v1+json": {
       "config": {
        "plotlyServerURL": "https://plot.ly"
       },
       "data": [
        {
         "hovertemplate": "Energy: 0.00e+00 eV<br>Population: 1.13e+03<extra></extra>",
         "line": {
          "color": "black",
          "width": 3.811596773331201
         },
         "mode": "lines",
         "showlegend": false,
         "type": "scatter",
         "x": [
          -0.05,
          0.07222222222222223,
          0.19444444444444448,
          0.3166666666666667,
          0.43888888888888894,
          0.5611111111111111,
          0.6833333333333333,
          0.8055555555555556,
          0.9277777777777778,
          1.05
         ],
         "xaxis": "x2",
         "y": [
          0,
          0,
          0,
          0,
          0,
          0,
          0,
          0,
          0,
          0
         ],
         "yaxis": "y2"
        },
        {
         "hovertemplate": "Energy: 3.56e-02 eV<br>Population: 2.17e+03<extra></extra>",
         "line": {
          "color": "black",
          "width": 4.003
         },
         "mode": "lines",
         "showlegend": false,
         "type": "scatter",
         "x": [
          -0.05,
          0.07222222222222223,
          0.19444444444444448,
          0.3166666666666667,
          0.43888888888888894,
          0.5611111111111111,
          0.6833333333333333,
          0.8055555555555556,
          0.9277777777777778,
          1.05
         ],
         "xaxis": "x2",
         "y": [
          0.1,
          0.1,
          0.1,
          0.1,
          0.1,
          0.1,
          0.1,
          0.1,
          0.1,
          0.1
         ],
         "yaxis": "y2"
        },
        {
         "hovertemplate": "Energy: 5.33e+00 eV<br>Population: 3.03e+01<extra></extra>",
         "line": {
          "color": "black",
          "width": 2.7582325384329485
         },
         "mode": "lines",
         "showlegend": false,
         "type": "scatter",
         "x": [
          -0.05,
          0.07222222222222223,
          0.19444444444444448,
          0.3166666666666667,
          0.43888888888888894,
          0.5611111111111111,
          0.6833333333333333,
          0.8055555555555556,
          0.9277777777777778,
          1.05
         ],
         "xaxis": "x2",
         "y": [
          0.6397472475454533,
          0.6397472475454533,
          0.6397472475454533,
          0.6397472475454533,
          0.6397472475454533,
          0.6397472475454533,
          0.6397472475454533,
          0.6397472475454533,
          0.6397472475454533,
          0.6397472475454533
         ],
         "yaxis": "y2"
        },
        {
         "hovertemplate": "Energy: 6.86e+00 eV<br>Population: 5.37e+00<extra></extra>",
         "line": {
          "color": "black",
          "width": 2.253876500747335
         },
         "mode": "lines",
         "showlegend": false,
         "type": "scatter",
         "x": [
          -0.05,
          0.07222222222222223,
          0.19444444444444448,
          0.3166666666666667,
          0.43888888888888894,
          0.5611111111111111,
          0.6833333333333333,
          0.8055555555555556,
          0.9277777777777778,
          1.05
         ],
         "xaxis": "x2",
         "y": [
          0.7961309029103393,
          0.7961309029103393,
          0.7961309029103393,
          0.7961309029103393,
          0.7961309029103393,
          0.7961309029103393,
          0.7961309029103393,
          0.7961309029103393,
          0.7961309029103393,
          0.7961309029103393
         ],
         "yaxis": "y2"
        },
        {
         "hovertemplate": "Energy: 8.12e+00 eV<br>Population: 2.98e-01<extra></extra>",
         "line": {
          "color": "black",
          "width": 1.4120197976351774
         },
         "mode": "lines",
         "showlegend": false,
         "type": "scatter",
         "x": [
          -0.05,
          0.07222222222222223,
          0.19444444444444448,
          0.3166666666666667,
          0.43888888888888894,
          0.5611111111111111,
          0.6833333333333333,
          0.8055555555555556,
          0.9277777777777778,
          1.05
         ],
         "xaxis": "x2",
         "y": [
          0.924948647244838,
          0.924948647244838,
          0.924948647244838,
          0.924948647244838,
          0.924948647244838,
          0.924948647244838,
          0.924948647244838,
          0.924948647244838,
          0.924948647244838,
          0.924948647244838
         ],
         "yaxis": "y2"
        },
        {
         "hovertemplate": "Energy: 9.51e+00 eV<br>Population: 7.32e-02<extra></extra>",
         "line": {
          "color": "black",
          "width": 1.003
         },
         "mode": "lines",
         "showlegend": false,
         "type": "scatter",
         "x": [
          -0.05,
          0.07222222222222223,
          0.19444444444444448,
          0.3166666666666667,
          0.43888888888888894,
          0.5611111111111111,
          0.6833333333333333,
          0.8055555555555556,
          0.9277777777777778,
          1.05
         ],
         "xaxis": "x2",
         "y": [
          1.06618459971416,
          1.06618459971416,
          1.06618459971416,
          1.06618459971416,
          1.06618459971416,
          1.06618459971416,
          1.06618459971416,
          1.06618459971416,
          1.06618459971416,
          1.06618459971416
         ],
         "yaxis": "y2"
        },
        {
         "hovertemplate": "Energy: 9.84e+00 eV<br>Population: 2.09e-01<extra></extra>",
         "line": {
          "color": "black",
          "width": 1.3089227269829027
         },
         "mode": "lines",
         "showlegend": false,
         "type": "scatter",
         "x": [
          -0.05,
          0.07222222222222223,
          0.19444444444444448,
          0.3166666666666667,
          0.43888888888888894,
          0.5611111111111111,
          0.6833333333333333,
          0.8055555555555556,
          0.9277777777777778,
          1.05
         ],
         "xaxis": "x2",
         "y": [
          1.1,
          1.1,
          1.1,
          1.1,
          1.1,
          1.1,
          1.1,
          1.1,
          1.1,
          1.1
         ],
         "yaxis": "y2"
        },
        {
         "hovertemplate": "Count: 3<br>Wavelength: 1.81e+03 Å<extra></extra>",
         "line": {
          "color": "#ff0905",
          "width": 1.5411292737342315
         },
         "marker": {
          "angleref": "previous",
          "color": "#ff0905",
          "size": 9,
          "symbol": "arrow-bar-up"
         },
         "type": "scatter",
         "x": [
          0,
          0.697231041675857
         ],
         "xaxis": "x2",
         "y": [
          0,
          0.7961309029103393
         ],
         "yaxis": "y2"
        },
        {
         "hovertemplate": "Count: 13<br>Wavelength: 1.53e+03 Å<extra></extra>",
         "line": {
          "color": "#8cfead",
          "width": 2.2633839956868984
         },
         "marker": {
          "angleref": "previous",
          "color": "#8cfead",
          "size": 9,
          "symbol": "arrow-bar-up"
         },
         "type": "scatter",
         "x": [
          0,
          0.8255824095489577
         ],
         "xaxis": "x2",
         "y": [
          0,
          0.924948647244838
         ],
         "yaxis": "y2"
        },
        {
         "hovertemplate": "Count: 2<br>Wavelength: 1.26e+03 Å<extra></extra>",
         "line": {
          "color": "#8000ff",
          "width": 1.3414145593274402
         },
         "marker": {
          "angleref": "previous",
          "color": "#8000ff",
          "size": 9,
          "symbol": "arrow-bar-up"
         },
         "type": "scatter",
         "x": [
          0,
          1
         ],
         "xaxis": "x2",
         "y": [
          0,
          1.1
         ],
         "yaxis": "y2"
        },
        {
         "hovertemplate": "Count: 29<br>Wavelength: 1.82e+03 Å<extra></extra>",
         "line": {
          "color": "#ff0000",
          "width": 2.65858544067256
         },
         "marker": {
          "angleref": "previous",
          "color": "#ff0000",
          "size": 9,
          "symbol": "arrow-bar-up"
         },
         "type": "scatter",
         "x": [
          0,
          0.6961309029103393
         ],
         "xaxis": "x2",
         "y": [
          0.1,
          0.7961309029103393
         ],
         "yaxis": "y2"
        },
        {
         "hovertemplate": "Count: 26<br>Wavelength: 1.53e+03 Å<extra></extra>",
         "line": {
          "color": "#92fda9",
          "width": 2.6047985550143387
         },
         "marker": {
          "angleref": "previous",
          "color": "#92fda9",
          "size": 9,
          "symbol": "arrow-bar-up"
         },
         "type": "scatter",
         "x": [
          0,
          0.8249486472448381
         ],
         "xaxis": "x2",
         "y": [
          0.1,
          0.924948647244838
         ],
         "yaxis": "y2"
        },
        {
         "hovertemplate": "Count: 1<br>Wavelength: 1.31e+03 Å<extra></extra>",
         "line": {
          "color": "#4c50fc",
          "width": 1
         },
         "marker": {
          "angleref": "previous",
          "color": "#4c50fc",
          "size": 9,
          "symbol": "arrow-bar-up"
         },
         "type": "scatter",
         "x": [
          0,
          0.9661845997141599
         ],
         "xaxis": "x2",
         "y": [
          0.1,
          1.06618459971416
         ],
         "yaxis": "y2"
        },
        {
         "hovertemplate": "Count: 6<br>Wavelength: 1.27e+03 Å<extra></extra>",
         "line": {
          "color": "#7c06ff",
          "width": 1.8825438330616715
         },
         "marker": {
          "angleref": "previous",
          "color": "#7c06ff",
          "size": 9,
          "symbol": "arrow-bar-up"
         },
         "type": "scatter",
         "x": [
          0,
          1
         ],
         "xaxis": "x2",
         "y": [
          0.1,
          1.1
         ],
         "yaxis": "y2"
        },
        {
         "hovertemplate": "Count: 4<br>Wavelength: 1.81e+03 Å<extra></extra>",
         "line": {
          "color": "#ff0905",
          "width": 1.6828291186548805
         },
         "marker": {
          "angleref": "previous",
          "color": "#ff0905",
          "size": 9,
          "symbol": "arrow-bar-up"
         },
         "type": "scatter",
         "x": [
          0,
          0.697231041675857
         ],
         "xaxis": "x2",
         "y": [
          0.7961309029103393,
          0
         ],
         "yaxis": "y2"
        },
        {
         "hovertemplate": "Count: 16<br>Wavelength: 1.82e+03 Å<extra></extra>",
         "line": {
          "color": "#ff0000",
          "width": 2.365658237309761
         },
         "marker": {
          "angleref": "previous",
          "color": "#ff0000",
          "size": 9,
          "symbol": "arrow-bar-up"
         },
         "type": "scatter",
         "x": [
          0,
          0.6961309029103393
         ],
         "xaxis": "x2",
         "y": [
          0.7961309029103393,
          0.1
         ],
         "yaxis": "y2"
        },
        {
         "hovertemplate": "Count: 58<br>Wavelength: 1.53e+03 Å<extra></extra>",
         "line": {
          "color": "#92fda9",
          "width": 3
         },
         "marker": {
          "angleref": "previous",
          "color": "#92fda9",
          "size": 9,
          "symbol": "arrow-bar-up"
         },
         "type": "scatter",
         "x": [
          0,
          0.8249486472448381
         ],
         "xaxis": "x2",
         "y": [
          0.924948647244838,
          0.1
         ],
         "yaxis": "y2"
        },
        {
         "hovertemplate": "Count: 3<br>Wavelength: 1.27e+03 Å<extra></extra>",
         "line": {
          "color": "#7c06ff",
          "width": 1.5411292737342315
         },
         "marker": {
          "angleref": "previous",
          "color": "#7c06ff",
          "size": 9,
          "symbol": "arrow-bar-up"
         },
         "type": "scatter",
         "x": [
          0,
          1
         ],
         "xaxis": "x2",
         "y": [
          1.1,
          0.1
         ],
         "yaxis": "y2"
        },
        {
         "hoverinfo": "none",
         "marker": {
          "cmax": 7.5050463557483695,
          "cmin": 7.139201864507048,
          "colorbar": {
           "outlinewidth": 0,
           "thickness": 5,
           "ticktext": [
            "1.3e+03",
            "1.3e+03",
            "1.4e+03",
            "1.4e+03",
            "1.5e+03",
            "1.5e+03",
            "1.6e+03",
            "1.7e+03",
            "1.7e+03",
            "1.8e+03"
           ],
           "tickvals": [
            7.139201864507048,
            7.1798512524227505,
            7.220500640338453,
            7.261150028254155,
            7.301799416169858,
            7.34244880408556,
            7.383098192001262,
            7.423747579916965,
            7.464396967832667,
            7.5050463557483695
           ],
           "title": {
            "font": {
             "size": 12
            },
            "text": "Wavelength (Å)<br>&nbsp;"
           }
          },
          "colorscale": [
           [
            0,
            "rgb(150,0,90)"
           ],
           [
            0.125,
            "rgb(0,0,200)"
           ],
           [
            0.25,
            "rgb(0,25,255)"
           ],
           [
            0.375,
            "rgb(0,152,255)"
           ],
           [
            0.5,
            "rgb(44,255,150)"
           ],
           [
            0.625,
            "rgb(151,255,0)"
           ],
           [
            0.75,
            "rgb(255,234,0)"
           ],
           [
            0.875,
            "rgb(255,111,0)"
           ],
           [
            1,
            "rgb(255,0,0)"
           ]
          ],
          "showscale": true
         },
         "mode": "markers",
         "type": "scatter",
         "x": [
          null
         ],
         "xaxis": "x2",
         "y": [
          null
         ],
         "yaxis": "y2"
        }
       ],
       "layout": {
        "annotations": [
         {
          "showarrow": false,
          "text": "n=0",
          "x": 1.1,
          "xref": "x2",
          "y": 0,
          "yref": "y2"
         },
         {
          "showarrow": false,
          "text": "n=1",
          "x": 1.1,
          "xref": "x2",
          "y": 0.1,
          "yref": "y2"
         },
         {
          "showarrow": false,
          "text": "n=2",
          "x": 1.1,
          "xref": "x2",
          "y": 0.6397472475454533,
          "yref": "y2"
         },
         {
          "showarrow": false,
          "text": "n=3",
          "x": 1.1,
          "xref": "x2",
          "y": 0.7961309029103393,
          "yref": "y2"
         },
         {
          "showarrow": false,
          "text": "n=4",
          "x": 1.1,
          "xref": "x2",
          "y": 0.924948647244838,
          "yref": "y2"
         },
         {
          "showarrow": false,
          "text": "n=5",
          "x": 1.1,
          "xref": "x2",
          "y": 1.06618459971416,
          "yref": "y2"
         },
         {
          "showarrow": false,
          "text": "n=6",
          "x": 1.1,
          "xref": "x2",
          "y": 1.1,
          "yref": "y2"
         },
         {
          "showarrow": false,
          "text": "7.3e-02",
          "x": 0.35,
          "xref": "x",
          "y": 0,
          "yref": "y"
         },
         {
          "showarrow": false,
          "text": "2.3e-01",
          "x": 0.35,
          "xref": "x",
          "y": 0.1111111111111111,
          "yref": "y"
         },
         {
          "showarrow": false,
          "text": "7.2e-01",
          "x": 0.35,
          "xref": "x",
          "y": 0.2222222222222222,
          "yref": "y"
         },
         {
          "showarrow": false,
          "text": "2.3e+00",
          "x": 0.35,
          "xref": "x",
          "y": 0.3333333333333333,
          "yref": "y"
         },
         {
          "showarrow": false,
          "text": "7.1e+00",
          "x": 0.35,
          "xref": "x",
          "y": 0.4444444444444444,
          "yref": "y"
         },
         {
          "showarrow": false,
          "text": "2.2e+01",
          "x": 0.35,
          "xref": "x",
          "y": 0.5555555555555556,
          "yref": "y"
         },
         {
          "showarrow": false,
          "text": "7.0e+01",
          "x": 0.35,
          "xref": "x",
          "y": 0.6666666666666666,
          "yref": "y"
         },
         {
          "showarrow": false,
          "text": "2.2e+02",
          "x": 0.35,
          "xref": "x",
          "y": 0.7777777777777777,
          "yref": "y"
         },
         {
          "showarrow": false,
          "text": "6.9e+02",
          "x": 0.35,
          "xref": "x",
          "y": 0.8888888888888888,
          "yref": "y"
         },
         {
          "showarrow": false,
          "text": "2.2e+03",
          "x": 0.35,
          "xref": "x",
          "y": 1,
          "yref": "y"
         },
         {
          "showarrow": false,
          "text": "Populations",
          "x": 0.28,
          "xref": "x",
          "y": -0.08,
          "yref": "y"
         },
         {
          "showarrow": false,
          "text": "1.0e+00",
          "x": 0.9,
          "xref": "x",
          "y": 0,
          "yref": "y"
         },
         {
          "showarrow": false,
          "text": "1.6e+00",
          "x": 0.9,
          "xref": "x",
          "y": 0.1111111111111111,
          "yref": "y"
         },
         {
          "showarrow": false,
          "text": "2.5e+00",
          "x": 0.9,
          "xref": "x",
          "y": 0.2222222222222222,
          "yref": "y"
         },
         {
          "showarrow": false,
          "text": "3.9e+00",
          "x": 0.9,
          "xref": "x",
          "y": 0.3333333333333333,
          "yref": "y"
         },
         {
          "showarrow": false,
          "text": "6.1e+00",
          "x": 0.9,
          "xref": "x",
          "y": 0.4444444444444444,
          "yref": "y"
         },
         {
          "showarrow": false,
          "text": "9.5e+00",
          "x": 0.9,
          "xref": "x",
          "y": 0.5555555555555556,
          "yref": "y"
         },
         {
          "showarrow": false,
          "text": "1.5e+01",
          "x": 0.9,
          "xref": "x",
          "y": 0.6666666666666666,
          "yref": "y"
         },
         {
          "showarrow": false,
          "text": "2.4e+01",
          "x": 0.9,
          "xref": "x",
          "y": 0.7777777777777777,
          "yref": "y"
         },
         {
          "showarrow": false,
          "text": "3.7e+01",
          "x": 0.9,
          "xref": "x",
          "y": 0.8888888888888888,
          "yref": "y"
         },
         {
          "showarrow": false,
          "text": "5.8e+01",
          "x": 0.9,
          "xref": "x",
          "y": 1,
          "yref": "y"
         },
         {
          "showarrow": false,
          "text": "#Packets",
          "x": 0.83,
          "xref": "x",
          "y": -0.08,
          "yref": "y"
         }
        ],
        "autosize": false,
        "height": 700,
        "plot_bgcolor": "white",
        "shapes": [
         {
          "line": {
           "width": 1.003
          },
          "type": "line",
          "x0": 0.1,
          "x1": 0.2,
          "xref": "x",
          "y0": 0,
          "y1": 0,
          "yref": "y"
         },
         {
          "line": {
           "width": 1.3363333333333332
          },
          "type": "line",
          "x0": 0.1,
          "x1": 0.2,
          "xref": "x",
          "y0": 0.1111111111111111,
          "y1": 0.1111111111111111,
          "yref": "y"
         },
         {
          "line": {
           "width": 1.6696666666666666
          },
          "type": "line",
          "x0": 0.1,
          "x1": 0.2,
          "xref": "x",
          "y0": 0.2222222222222222,
          "y1": 0.2222222222222222,
          "yref": "y"
         },
         {
          "line": {
           "width": 2.003
          },
          "type": "line",
          "x0": 0.1,
          "x1": 0.2,
          "xref": "x",
          "y0": 0.3333333333333333,
          "y1": 0.3333333333333333,
          "yref": "y"
         },
         {
          "line": {
           "width": 2.336333333333333
          },
          "type": "line",
          "x0": 0.1,
          "x1": 0.2,
          "xref": "x",
          "y0": 0.4444444444444444,
          "y1": 0.4444444444444444,
          "yref": "y"
         },
         {
          "line": {
           "width": 2.669666666666666
          },
          "type": "line",
          "x0": 0.1,
          "x1": 0.2,
          "xref": "x",
          "y0": 0.5555555555555556,
          "y1": 0.5555555555555556,
          "yref": "y"
         },
         {
          "line": {
           "width": 3.003
          },
          "type": "line",
          "x0": 0.1,
          "x1": 0.2,
          "xref": "x",
          "y0": 0.6666666666666666,
          "y1": 0.6666666666666666,
          "yref": "y"
         },
         {
          "line": {
           "width": 3.336333333333333
          },
          "type": "line",
          "x0": 0.1,
          "x1": 0.2,
          "xref": "x",
          "y0": 0.7777777777777777,
          "y1": 0.7777777777777777,
          "yref": "y"
         },
         {
          "line": {
           "width": 3.669666666666666
          },
          "type": "line",
          "x0": 0.1,
          "x1": 0.2,
          "xref": "x",
          "y0": 0.8888888888888888,
          "y1": 0.8888888888888888,
          "yref": "y"
         },
         {
          "line": {
           "width": 4.003
          },
          "type": "line",
          "x0": 0.1,
          "x1": 0.2,
          "xref": "x",
          "y0": 1,
          "y1": 1,
          "yref": "y"
         },
         {
          "line": {
           "color": "grey",
           "dash": "dash",
           "width": 0.5
          },
          "type": "line",
          "x0": 0.55,
          "x1": 0.55,
          "xref": "x",
          "y0": 0,
          "y1": 1,
          "yref": "y"
         },
         {
          "line": {
           "width": 1
          },
          "type": "line",
          "x0": 0.65,
          "x1": 0.75,
          "xref": "x",
          "y0": 0,
          "y1": 0,
          "yref": "y"
         },
         {
          "line": {
           "width": 1.2222222222222223
          },
          "type": "line",
          "x0": 0.65,
          "x1": 0.75,
          "xref": "x",
          "y0": 0.1111111111111111,
          "y1": 0.1111111111111111,
          "yref": "y"
         },
         {
          "line": {
           "width": 1.4444444444444444
          },
          "type": "line",
          "x0": 0.65,
          "x1": 0.75,
          "xref": "x",
          "y0": 0.2222222222222222,
          "y1": 0.2222222222222222,
          "yref": "y"
         },
         {
          "line": {
           "width": 1.6666666666666665
          },
          "type": "line",
          "x0": 0.65,
          "x1": 0.75,
          "xref": "x",
          "y0": 0.3333333333333333,
          "y1": 0.3333333333333333,
          "yref": "y"
         },
         {
          "line": {
           "width": 1.8888888888888888
          },
          "type": "line",
          "x0": 0.65,
          "x1": 0.75,
          "xref": "x",
          "y0": 0.4444444444444444,
          "y1": 0.4444444444444444,
          "yref": "y"
         },
         {
          "line": {
           "width": 2.111111111111111
          },
          "type": "line",
          "x0": 0.65,
          "x1": 0.75,
          "xref": "x",
          "y0": 0.5555555555555556,
          "y1": 0.5555555555555556,
          "yref": "y"
         },
         {
          "line": {
           "width": 2.333333333333333
          },
          "type": "line",
          "x0": 0.65,
          "x1": 0.75,
          "xref": "x",
          "y0": 0.6666666666666666,
          "y1": 0.6666666666666666,
          "yref": "y"
         },
         {
          "line": {
           "width": 2.5555555555555554
          },
          "type": "line",
          "x0": 0.65,
          "x1": 0.75,
          "xref": "x",
          "y0": 0.7777777777777777,
          "y1": 0.7777777777777777,
          "yref": "y"
         },
         {
          "line": {
           "width": 2.7777777777777777
          },
          "type": "line",
          "x0": 0.65,
          "x1": 0.75,
          "xref": "x",
          "y0": 0.8888888888888888,
          "y1": 0.8888888888888888,
          "yref": "y"
         },
         {
          "line": {
           "width": 3
          },
          "type": "line",
          "x0": 0.65,
          "x1": 0.75,
          "xref": "x",
          "y0": 1,
          "y1": 1,
          "yref": "y"
         }
        ],
        "showlegend": false,
        "template": {
         "data": {
          "bar": [
           {
            "error_x": {
             "color": "#2a3f5f"
            },
            "error_y": {
             "color": "#2a3f5f"
            },
            "marker": {
             "line": {
              "color": "#E5ECF6",
              "width": 0.5
             },
             "pattern": {
              "fillmode": "overlay",
              "size": 10,
              "solidity": 0.2
             }
            },
            "type": "bar"
           }
          ],
          "barpolar": [
           {
            "marker": {
             "line": {
              "color": "#E5ECF6",
              "width": 0.5
             },
             "pattern": {
              "fillmode": "overlay",
              "size": 10,
              "solidity": 0.2
             }
            },
            "type": "barpolar"
           }
          ],
          "carpet": [
           {
            "aaxis": {
             "endlinecolor": "#2a3f5f",
             "gridcolor": "white",
             "linecolor": "white",
             "minorgridcolor": "white",
             "startlinecolor": "#2a3f5f"
            },
            "baxis": {
             "endlinecolor": "#2a3f5f",
             "gridcolor": "white",
             "linecolor": "white",
             "minorgridcolor": "white",
             "startlinecolor": "#2a3f5f"
            },
            "type": "carpet"
           }
          ],
          "choropleth": [
           {
            "colorbar": {
             "outlinewidth": 0,
             "ticks": ""
            },
            "type": "choropleth"
           }
          ],
          "contour": [
           {
            "colorbar": {
             "outlinewidth": 0,
             "ticks": ""
            },
            "colorscale": [
             [
              0,
              "#0d0887"
             ],
             [
              0.1111111111111111,
              "#46039f"
             ],
             [
              0.2222222222222222,
              "#7201a8"
             ],
             [
              0.3333333333333333,
              "#9c179e"
             ],
             [
              0.4444444444444444,
              "#bd3786"
             ],
             [
              0.5555555555555556,
              "#d8576b"
             ],
             [
              0.6666666666666666,
              "#ed7953"
             ],
             [
              0.7777777777777778,
              "#fb9f3a"
             ],
             [
              0.8888888888888888,
              "#fdca26"
             ],
             [
              1,
              "#f0f921"
             ]
            ],
            "type": "contour"
           }
          ],
          "contourcarpet": [
           {
            "colorbar": {
             "outlinewidth": 0,
             "ticks": ""
            },
            "type": "contourcarpet"
           }
          ],
          "heatmap": [
           {
            "colorbar": {
             "outlinewidth": 0,
             "ticks": ""
            },
            "colorscale": [
             [
              0,
              "#0d0887"
             ],
             [
              0.1111111111111111,
              "#46039f"
             ],
             [
              0.2222222222222222,
              "#7201a8"
             ],
             [
              0.3333333333333333,
              "#9c179e"
             ],
             [
              0.4444444444444444,
              "#bd3786"
             ],
             [
              0.5555555555555556,
              "#d8576b"
             ],
             [
              0.6666666666666666,
              "#ed7953"
             ],
             [
              0.7777777777777778,
              "#fb9f3a"
             ],
             [
              0.8888888888888888,
              "#fdca26"
             ],
             [
              1,
              "#f0f921"
             ]
            ],
            "type": "heatmap"
           }
          ],
          "heatmapgl": [
           {
            "colorbar": {
             "outlinewidth": 0,
             "ticks": ""
            },
            "colorscale": [
             [
              0,
              "#0d0887"
             ],
             [
              0.1111111111111111,
              "#46039f"
             ],
             [
              0.2222222222222222,
              "#7201a8"
             ],
             [
              0.3333333333333333,
              "#9c179e"
             ],
             [
              0.4444444444444444,
              "#bd3786"
             ],
             [
              0.5555555555555556,
              "#d8576b"
             ],
             [
              0.6666666666666666,
              "#ed7953"
             ],
             [
              0.7777777777777778,
              "#fb9f3a"
             ],
             [
              0.8888888888888888,
              "#fdca26"
             ],
             [
              1,
              "#f0f921"
             ]
            ],
            "type": "heatmapgl"
           }
          ],
          "histogram": [
           {
            "marker": {
             "pattern": {
              "fillmode": "overlay",
              "size": 10,
              "solidity": 0.2
             }
            },
            "type": "histogram"
           }
          ],
          "histogram2d": [
           {
            "colorbar": {
             "outlinewidth": 0,
             "ticks": ""
            },
            "colorscale": [
             [
              0,
              "#0d0887"
             ],
             [
              0.1111111111111111,
              "#46039f"
             ],
             [
              0.2222222222222222,
              "#7201a8"
             ],
             [
              0.3333333333333333,
              "#9c179e"
             ],
             [
              0.4444444444444444,
              "#bd3786"
             ],
             [
              0.5555555555555556,
              "#d8576b"
             ],
             [
              0.6666666666666666,
              "#ed7953"
             ],
             [
              0.7777777777777778,
              "#fb9f3a"
             ],
             [
              0.8888888888888888,
              "#fdca26"
             ],
             [
              1,
              "#f0f921"
             ]
            ],
            "type": "histogram2d"
           }
          ],
          "histogram2dcontour": [
           {
            "colorbar": {
             "outlinewidth": 0,
             "ticks": ""
            },
            "colorscale": [
             [
              0,
              "#0d0887"
             ],
             [
              0.1111111111111111,
              "#46039f"
             ],
             [
              0.2222222222222222,
              "#7201a8"
             ],
             [
              0.3333333333333333,
              "#9c179e"
             ],
             [
              0.4444444444444444,
              "#bd3786"
             ],
             [
              0.5555555555555556,
              "#d8576b"
             ],
             [
              0.6666666666666666,
              "#ed7953"
             ],
             [
              0.7777777777777778,
              "#fb9f3a"
             ],
             [
              0.8888888888888888,
              "#fdca26"
             ],
             [
              1,
              "#f0f921"
             ]
            ],
            "type": "histogram2dcontour"
           }
          ],
          "mesh3d": [
           {
            "colorbar": {
             "outlinewidth": 0,
             "ticks": ""
            },
            "type": "mesh3d"
           }
          ],
          "parcoords": [
           {
            "line": {
             "colorbar": {
              "outlinewidth": 0,
              "ticks": ""
             }
            },
            "type": "parcoords"
           }
          ],
          "pie": [
           {
            "automargin": true,
            "type": "pie"
           }
          ],
          "scatter": [
           {
            "fillpattern": {
             "fillmode": "overlay",
             "size": 10,
             "solidity": 0.2
            },
            "type": "scatter"
           }
          ],
          "scatter3d": [
           {
            "line": {
             "colorbar": {
              "outlinewidth": 0,
              "ticks": ""
             }
            },
            "marker": {
             "colorbar": {
              "outlinewidth": 0,
              "ticks": ""
             }
            },
            "type": "scatter3d"
           }
          ],
          "scattercarpet": [
           {
            "marker": {
             "colorbar": {
              "outlinewidth": 0,
              "ticks": ""
             }
            },
            "type": "scattercarpet"
           }
          ],
          "scattergeo": [
           {
            "marker": {
             "colorbar": {
              "outlinewidth": 0,
              "ticks": ""
             }
            },
            "type": "scattergeo"
           }
          ],
          "scattergl": [
           {
            "marker": {
             "colorbar": {
              "outlinewidth": 0,
              "ticks": ""
             }
            },
            "type": "scattergl"
           }
          ],
          "scattermapbox": [
           {
            "marker": {
             "colorbar": {
              "outlinewidth": 0,
              "ticks": ""
             }
            },
            "type": "scattermapbox"
           }
          ],
          "scatterpolar": [
           {
            "marker": {
             "colorbar": {
              "outlinewidth": 0,
              "ticks": ""
             }
            },
            "type": "scatterpolar"
           }
          ],
          "scatterpolargl": [
           {
            "marker": {
             "colorbar": {
              "outlinewidth": 0,
              "ticks": ""
             }
            },
            "type": "scatterpolargl"
           }
          ],
          "scatterternary": [
           {
            "marker": {
             "colorbar": {
              "outlinewidth": 0,
              "ticks": ""
             }
            },
            "type": "scatterternary"
           }
          ],
          "surface": [
           {
            "colorbar": {
             "outlinewidth": 0,
             "ticks": ""
            },
            "colorscale": [
             [
              0,
              "#0d0887"
             ],
             [
              0.1111111111111111,
              "#46039f"
             ],
             [
              0.2222222222222222,
              "#7201a8"
             ],
             [
              0.3333333333333333,
              "#9c179e"
             ],
             [
              0.4444444444444444,
              "#bd3786"
             ],
             [
              0.5555555555555556,
              "#d8576b"
             ],
             [
              0.6666666666666666,
              "#ed7953"
             ],
             [
              0.7777777777777778,
              "#fb9f3a"
             ],
             [
              0.8888888888888888,
              "#fdca26"
             ],
             [
              1,
              "#f0f921"
             ]
            ],
            "type": "surface"
           }
          ],
          "table": [
           {
            "cells": {
             "fill": {
              "color": "#EBF0F8"
             },
             "line": {
              "color": "white"
             }
            },
            "header": {
             "fill": {
              "color": "#C8D4E3"
             },
             "line": {
              "color": "white"
             }
            },
            "type": "table"
           }
          ]
         },
         "layout": {
          "annotationdefaults": {
           "arrowcolor": "#2a3f5f",
           "arrowhead": 0,
           "arrowwidth": 1
          },
          "autotypenumbers": "strict",
          "coloraxis": {
           "colorbar": {
            "outlinewidth": 0,
            "ticks": ""
           }
          },
          "colorscale": {
           "diverging": [
            [
             0,
             "#8e0152"
            ],
            [
             0.1,
             "#c51b7d"
            ],
            [
             0.2,
             "#de77ae"
            ],
            [
             0.3,
             "#f1b6da"
            ],
            [
             0.4,
             "#fde0ef"
            ],
            [
             0.5,
             "#f7f7f7"
            ],
            [
             0.6,
             "#e6f5d0"
            ],
            [
             0.7,
             "#b8e186"
            ],
            [
             0.8,
             "#7fbc41"
            ],
            [
             0.9,
             "#4d9221"
            ],
            [
             1,
             "#276419"
            ]
           ],
           "sequential": [
            [
             0,
             "#0d0887"
            ],
            [
             0.1111111111111111,
             "#46039f"
            ],
            [
             0.2222222222222222,
             "#7201a8"
            ],
            [
             0.3333333333333333,
             "#9c179e"
            ],
            [
             0.4444444444444444,
             "#bd3786"
            ],
            [
             0.5555555555555556,
             "#d8576b"
            ],
            [
             0.6666666666666666,
             "#ed7953"
            ],
            [
             0.7777777777777778,
             "#fb9f3a"
            ],
            [
             0.8888888888888888,
             "#fdca26"
            ],
            [
             1,
             "#f0f921"
            ]
           ],
           "sequentialminus": [
            [
             0,
             "#0d0887"
            ],
            [
             0.1111111111111111,
             "#46039f"
            ],
            [
             0.2222222222222222,
             "#7201a8"
            ],
            [
             0.3333333333333333,
             "#9c179e"
            ],
            [
             0.4444444444444444,
             "#bd3786"
            ],
            [
             0.5555555555555556,
             "#d8576b"
            ],
            [
             0.6666666666666666,
             "#ed7953"
            ],
            [
             0.7777777777777778,
             "#fb9f3a"
            ],
            [
             0.8888888888888888,
             "#fdca26"
            ],
            [
             1,
             "#f0f921"
            ]
           ]
          },
          "colorway": [
           "#636efa",
           "#EF553B",
           "#00cc96",
           "#ab63fa",
           "#FFA15A",
           "#19d3f3",
           "#FF6692",
           "#B6E880",
           "#FF97FF",
           "#FECB52"
          ],
          "font": {
           "color": "#2a3f5f"
          },
          "geo": {
           "bgcolor": "white",
           "lakecolor": "white",
           "landcolor": "#E5ECF6",
           "showlakes": true,
           "showland": true,
           "subunitcolor": "white"
          },
          "hoverlabel": {
           "align": "left"
          },
          "hovermode": "closest",
          "mapbox": {
           "style": "light"
          },
          "paper_bgcolor": "white",
          "plot_bgcolor": "#E5ECF6",
          "polar": {
           "angularaxis": {
            "gridcolor": "white",
            "linecolor": "white",
            "ticks": ""
           },
           "bgcolor": "#E5ECF6",
           "radialaxis": {
            "gridcolor": "white",
            "linecolor": "white",
            "ticks": ""
           }
          },
          "scene": {
           "xaxis": {
            "backgroundcolor": "#E5ECF6",
            "gridcolor": "white",
            "gridwidth": 2,
            "linecolor": "white",
            "showbackground": true,
            "ticks": "",
            "zerolinecolor": "white"
           },
           "yaxis": {
            "backgroundcolor": "#E5ECF6",
            "gridcolor": "white",
            "gridwidth": 2,
            "linecolor": "white",
            "showbackground": true,
            "ticks": "",
            "zerolinecolor": "white"
           },
           "zaxis": {
            "backgroundcolor": "#E5ECF6",
            "gridcolor": "white",
            "gridwidth": 2,
            "linecolor": "white",
            "showbackground": true,
            "ticks": "",
            "zerolinecolor": "white"
           }
          },
          "shapedefaults": {
           "line": {
            "color": "#2a3f5f"
           }
          },
          "ternary": {
           "aaxis": {
            "gridcolor": "white",
            "linecolor": "white",
            "ticks": ""
           },
           "baxis": {
            "gridcolor": "white",
            "linecolor": "white",
            "ticks": ""
           },
           "bgcolor": "#E5ECF6",
           "caxis": {
            "gridcolor": "white",
            "linecolor": "white",
            "ticks": ""
           }
          },
          "title": {
           "x": 0.05
          },
          "xaxis": {
           "automargin": true,
           "gridcolor": "white",
           "linecolor": "white",
           "ticks": "",
           "title": {
            "standoff": 15
           },
           "zerolinecolor": "white",
           "zerolinewidth": 2
          },
          "yaxis": {
           "automargin": true,
           "gridcolor": "white",
           "linecolor": "white",
           "ticks": "",
           "title": {
            "standoff": 15
           },
           "zerolinecolor": "white",
           "zerolinewidth": 2
          }
         }
        },
        "title": {
         "text": "Grotrian Diagram for Silicon II (Shell: 5)",
         "x": 0.5
        },
        "width": 1000,
        "xaxis": {
         "anchor": "y",
         "domain": [
          0,
          0.258
         ],
         "fixedrange": true,
         "showticklabels": false
        },
        "xaxis2": {
         "anchor": "y2",
         "domain": [
          0.398,
          1
         ],
         "fixedrange": true,
         "showticklabels": false
        },
        "yaxis": {
         "anchor": "x",
         "domain": [
          0,
          1
         ],
         "fixedrange": true,
         "showticklabels": false
        },
        "yaxis2": {
         "anchor": "x2",
         "domain": [
          0,
          1
         ],
         "fixedrange": true,
         "range": [
          0,
          null
         ],
         "tickmode": "array",
         "ticktext": [
          "0.00e+00",
          "3.56e-02",
          "5.33e+00",
          "6.86e+00",
          "8.12e+00",
          "9.51e+00",
          "9.84e+00"
         ],
         "tickvals": [
          0,
          0.1,
          0.6397472475454533,
          0.7961309029103393,
          0.924948647244838,
          1.06618459971416,
          1.1
         ],
         "title": {
          "standoff": 5,
          "text": "Energy (eV)"
         }
        }
       }
      },
      "text/html": [
       "<div>                            <div id=\"449feebd-7954-489a-8248-2471f3e19b81\" class=\"plotly-graph-div\" style=\"height:700px; width:1000px;\"></div>            <script type=\"text/javascript\">                require([\"plotly\"], function(Plotly) {                    window.PLOTLYENV=window.PLOTLYENV || {};                                    if (document.getElementById(\"449feebd-7954-489a-8248-2471f3e19b81\")) {                    Plotly.newPlot(                        \"449feebd-7954-489a-8248-2471f3e19b81\",                        [{\"hovertemplate\":\"Energy: 0.00e+00 eV<br>Population: 1.13e+03<extra></extra>\",\"line\":{\"color\":\"black\",\"width\":3.811596773331201},\"mode\":\"lines\",\"showlegend\":false,\"x\":[-0.05,0.07222222222222223,0.19444444444444448,0.3166666666666667,0.43888888888888894,0.5611111111111111,0.6833333333333333,0.8055555555555556,0.9277777777777778,1.05],\"y\":[0.0,0.0,0.0,0.0,0.0,0.0,0.0,0.0,0.0,0.0],\"type\":\"scatter\",\"xaxis\":\"x2\",\"yaxis\":\"y2\"},{\"hovertemplate\":\"Energy: 3.56e-02 eV<br>Population: 2.17e+03<extra></extra>\",\"line\":{\"color\":\"black\",\"width\":4.003},\"mode\":\"lines\",\"showlegend\":false,\"x\":[-0.05,0.07222222222222223,0.19444444444444448,0.3166666666666667,0.43888888888888894,0.5611111111111111,0.6833333333333333,0.8055555555555556,0.9277777777777778,1.05],\"y\":[0.1,0.1,0.1,0.1,0.1,0.1,0.1,0.1,0.1,0.1],\"type\":\"scatter\",\"xaxis\":\"x2\",\"yaxis\":\"y2\"},{\"hovertemplate\":\"Energy: 5.33e+00 eV<br>Population: 3.03e+01<extra></extra>\",\"line\":{\"color\":\"black\",\"width\":2.7582325384329485},\"mode\":\"lines\",\"showlegend\":false,\"x\":[-0.05,0.07222222222222223,0.19444444444444448,0.3166666666666667,0.43888888888888894,0.5611111111111111,0.6833333333333333,0.8055555555555556,0.9277777777777778,1.05],\"y\":[0.6397472475454533,0.6397472475454533,0.6397472475454533,0.6397472475454533,0.6397472475454533,0.6397472475454533,0.6397472475454533,0.6397472475454533,0.6397472475454533,0.6397472475454533],\"type\":\"scatter\",\"xaxis\":\"x2\",\"yaxis\":\"y2\"},{\"hovertemplate\":\"Energy: 6.86e+00 eV<br>Population: 5.37e+00<extra></extra>\",\"line\":{\"color\":\"black\",\"width\":2.253876500747335},\"mode\":\"lines\",\"showlegend\":false,\"x\":[-0.05,0.07222222222222223,0.19444444444444448,0.3166666666666667,0.43888888888888894,0.5611111111111111,0.6833333333333333,0.8055555555555556,0.9277777777777778,1.05],\"y\":[0.7961309029103393,0.7961309029103393,0.7961309029103393,0.7961309029103393,0.7961309029103393,0.7961309029103393,0.7961309029103393,0.7961309029103393,0.7961309029103393,0.7961309029103393],\"type\":\"scatter\",\"xaxis\":\"x2\",\"yaxis\":\"y2\"},{\"hovertemplate\":\"Energy: 8.12e+00 eV<br>Population: 2.98e-01<extra></extra>\",\"line\":{\"color\":\"black\",\"width\":1.4120197976351774},\"mode\":\"lines\",\"showlegend\":false,\"x\":[-0.05,0.07222222222222223,0.19444444444444448,0.3166666666666667,0.43888888888888894,0.5611111111111111,0.6833333333333333,0.8055555555555556,0.9277777777777778,1.05],\"y\":[0.924948647244838,0.924948647244838,0.924948647244838,0.924948647244838,0.924948647244838,0.924948647244838,0.924948647244838,0.924948647244838,0.924948647244838,0.924948647244838],\"type\":\"scatter\",\"xaxis\":\"x2\",\"yaxis\":\"y2\"},{\"hovertemplate\":\"Energy: 9.51e+00 eV<br>Population: 7.32e-02<extra></extra>\",\"line\":{\"color\":\"black\",\"width\":1.003},\"mode\":\"lines\",\"showlegend\":false,\"x\":[-0.05,0.07222222222222223,0.19444444444444448,0.3166666666666667,0.43888888888888894,0.5611111111111111,0.6833333333333333,0.8055555555555556,0.9277777777777778,1.05],\"y\":[1.06618459971416,1.06618459971416,1.06618459971416,1.06618459971416,1.06618459971416,1.06618459971416,1.06618459971416,1.06618459971416,1.06618459971416,1.06618459971416],\"type\":\"scatter\",\"xaxis\":\"x2\",\"yaxis\":\"y2\"},{\"hovertemplate\":\"Energy: 9.84e+00 eV<br>Population: 2.09e-01<extra></extra>\",\"line\":{\"color\":\"black\",\"width\":1.3089227269829027},\"mode\":\"lines\",\"showlegend\":false,\"x\":[-0.05,0.07222222222222223,0.19444444444444448,0.3166666666666667,0.43888888888888894,0.5611111111111111,0.6833333333333333,0.8055555555555556,0.9277777777777778,1.05],\"y\":[1.1,1.1,1.1,1.1,1.1,1.1,1.1,1.1,1.1,1.1],\"type\":\"scatter\",\"xaxis\":\"x2\",\"yaxis\":\"y2\"},{\"hovertemplate\":\"Count: 3<br>Wavelength: 1.81e+03 \\u212b<extra></extra>\",\"line\":{\"color\":\"#ff0905\",\"width\":1.5411292737342315},\"marker\":{\"angleref\":\"previous\",\"color\":\"#ff0905\",\"size\":9,\"symbol\":\"arrow-bar-up\"},\"x\":[0,0.697231041675857],\"y\":[0.0,0.7961309029103393],\"type\":\"scatter\",\"xaxis\":\"x2\",\"yaxis\":\"y2\"},{\"hovertemplate\":\"Count: 13<br>Wavelength: 1.53e+03 \\u212b<extra></extra>\",\"line\":{\"color\":\"#8cfead\",\"width\":2.2633839956868984},\"marker\":{\"angleref\":\"previous\",\"color\":\"#8cfead\",\"size\":9,\"symbol\":\"arrow-bar-up\"},\"x\":[0,0.8255824095489577],\"y\":[0.0,0.924948647244838],\"type\":\"scatter\",\"xaxis\":\"x2\",\"yaxis\":\"y2\"},{\"hovertemplate\":\"Count: 2<br>Wavelength: 1.26e+03 \\u212b<extra></extra>\",\"line\":{\"color\":\"#8000ff\",\"width\":1.3414145593274402},\"marker\":{\"angleref\":\"previous\",\"color\":\"#8000ff\",\"size\":9,\"symbol\":\"arrow-bar-up\"},\"x\":[0,1.0],\"y\":[0.0,1.1],\"type\":\"scatter\",\"xaxis\":\"x2\",\"yaxis\":\"y2\"},{\"hovertemplate\":\"Count: 29<br>Wavelength: 1.82e+03 \\u212b<extra></extra>\",\"line\":{\"color\":\"#ff0000\",\"width\":2.65858544067256},\"marker\":{\"angleref\":\"previous\",\"color\":\"#ff0000\",\"size\":9,\"symbol\":\"arrow-bar-up\"},\"x\":[0,0.6961309029103393],\"y\":[0.1,0.7961309029103393],\"type\":\"scatter\",\"xaxis\":\"x2\",\"yaxis\":\"y2\"},{\"hovertemplate\":\"Count: 26<br>Wavelength: 1.53e+03 \\u212b<extra></extra>\",\"line\":{\"color\":\"#92fda9\",\"width\":2.6047985550143387},\"marker\":{\"angleref\":\"previous\",\"color\":\"#92fda9\",\"size\":9,\"symbol\":\"arrow-bar-up\"},\"x\":[0,0.8249486472448381],\"y\":[0.1,0.924948647244838],\"type\":\"scatter\",\"xaxis\":\"x2\",\"yaxis\":\"y2\"},{\"hovertemplate\":\"Count: 1<br>Wavelength: 1.31e+03 \\u212b<extra></extra>\",\"line\":{\"color\":\"#4c50fc\",\"width\":1.0},\"marker\":{\"angleref\":\"previous\",\"color\":\"#4c50fc\",\"size\":9,\"symbol\":\"arrow-bar-up\"},\"x\":[0,0.9661845997141599],\"y\":[0.1,1.06618459971416],\"type\":\"scatter\",\"xaxis\":\"x2\",\"yaxis\":\"y2\"},{\"hovertemplate\":\"Count: 6<br>Wavelength: 1.27e+03 \\u212b<extra></extra>\",\"line\":{\"color\":\"#7c06ff\",\"width\":1.8825438330616715},\"marker\":{\"angleref\":\"previous\",\"color\":\"#7c06ff\",\"size\":9,\"symbol\":\"arrow-bar-up\"},\"x\":[0,1.0],\"y\":[0.1,1.1],\"type\":\"scatter\",\"xaxis\":\"x2\",\"yaxis\":\"y2\"},{\"hovertemplate\":\"Count: 4<br>Wavelength: 1.81e+03 \\u212b<extra></extra>\",\"line\":{\"color\":\"#ff0905\",\"width\":1.6828291186548805},\"marker\":{\"angleref\":\"previous\",\"color\":\"#ff0905\",\"size\":9,\"symbol\":\"arrow-bar-up\"},\"x\":[0,0.697231041675857],\"y\":[0.7961309029103393,0.0],\"type\":\"scatter\",\"xaxis\":\"x2\",\"yaxis\":\"y2\"},{\"hovertemplate\":\"Count: 16<br>Wavelength: 1.82e+03 \\u212b<extra></extra>\",\"line\":{\"color\":\"#ff0000\",\"width\":2.365658237309761},\"marker\":{\"angleref\":\"previous\",\"color\":\"#ff0000\",\"size\":9,\"symbol\":\"arrow-bar-up\"},\"x\":[0,0.6961309029103393],\"y\":[0.7961309029103393,0.1],\"type\":\"scatter\",\"xaxis\":\"x2\",\"yaxis\":\"y2\"},{\"hovertemplate\":\"Count: 58<br>Wavelength: 1.53e+03 \\u212b<extra></extra>\",\"line\":{\"color\":\"#92fda9\",\"width\":3.0},\"marker\":{\"angleref\":\"previous\",\"color\":\"#92fda9\",\"size\":9,\"symbol\":\"arrow-bar-up\"},\"x\":[0,0.8249486472448381],\"y\":[0.924948647244838,0.1],\"type\":\"scatter\",\"xaxis\":\"x2\",\"yaxis\":\"y2\"},{\"hovertemplate\":\"Count: 3<br>Wavelength: 1.27e+03 \\u212b<extra></extra>\",\"line\":{\"color\":\"#7c06ff\",\"width\":1.5411292737342315},\"marker\":{\"angleref\":\"previous\",\"color\":\"#7c06ff\",\"size\":9,\"symbol\":\"arrow-bar-up\"},\"x\":[0,1.0],\"y\":[1.1,0.1],\"type\":\"scatter\",\"xaxis\":\"x2\",\"yaxis\":\"y2\"},{\"hoverinfo\":\"none\",\"marker\":{\"cmax\":7.5050463557483695,\"cmin\":7.139201864507048,\"colorbar\":{\"outlinewidth\":0,\"thickness\":5,\"ticktext\":[\"1.3e+03\",\"1.3e+03\",\"1.4e+03\",\"1.4e+03\",\"1.5e+03\",\"1.5e+03\",\"1.6e+03\",\"1.7e+03\",\"1.7e+03\",\"1.8e+03\"],\"tickvals\":[7.139201864507048,7.1798512524227505,7.220500640338453,7.261150028254155,7.301799416169858,7.34244880408556,7.383098192001262,7.423747579916965,7.464396967832667,7.5050463557483695],\"title\":{\"font\":{\"size\":12},\"text\":\"Wavelength (\\u212b)<br>&nbsp;\"}},\"colorscale\":[[0.0,\"rgb(150,0,90)\"],[0.125,\"rgb(0,0,200)\"],[0.25,\"rgb(0,25,255)\"],[0.375,\"rgb(0,152,255)\"],[0.5,\"rgb(44,255,150)\"],[0.625,\"rgb(151,255,0)\"],[0.75,\"rgb(255,234,0)\"],[0.875,\"rgb(255,111,0)\"],[1.0,\"rgb(255,0,0)\"]],\"showscale\":true},\"mode\":\"markers\",\"x\":[null],\"y\":[null],\"type\":\"scatter\",\"xaxis\":\"x2\",\"yaxis\":\"y2\"}],                        {\"template\":{\"data\":{\"histogram2dcontour\":[{\"type\":\"histogram2dcontour\",\"colorbar\":{\"outlinewidth\":0,\"ticks\":\"\"},\"colorscale\":[[0.0,\"#0d0887\"],[0.1111111111111111,\"#46039f\"],[0.2222222222222222,\"#7201a8\"],[0.3333333333333333,\"#9c179e\"],[0.4444444444444444,\"#bd3786\"],[0.5555555555555556,\"#d8576b\"],[0.6666666666666666,\"#ed7953\"],[0.7777777777777778,\"#fb9f3a\"],[0.8888888888888888,\"#fdca26\"],[1.0,\"#f0f921\"]]}],\"choropleth\":[{\"type\":\"choropleth\",\"colorbar\":{\"outlinewidth\":0,\"ticks\":\"\"}}],\"histogram2d\":[{\"type\":\"histogram2d\",\"colorbar\":{\"outlinewidth\":0,\"ticks\":\"\"},\"colorscale\":[[0.0,\"#0d0887\"],[0.1111111111111111,\"#46039f\"],[0.2222222222222222,\"#7201a8\"],[0.3333333333333333,\"#9c179e\"],[0.4444444444444444,\"#bd3786\"],[0.5555555555555556,\"#d8576b\"],[0.6666666666666666,\"#ed7953\"],[0.7777777777777778,\"#fb9f3a\"],[0.8888888888888888,\"#fdca26\"],[1.0,\"#f0f921\"]]}],\"heatmap\":[{\"type\":\"heatmap\",\"colorbar\":{\"outlinewidth\":0,\"ticks\":\"\"},\"colorscale\":[[0.0,\"#0d0887\"],[0.1111111111111111,\"#46039f\"],[0.2222222222222222,\"#7201a8\"],[0.3333333333333333,\"#9c179e\"],[0.4444444444444444,\"#bd3786\"],[0.5555555555555556,\"#d8576b\"],[0.6666666666666666,\"#ed7953\"],[0.7777777777777778,\"#fb9f3a\"],[0.8888888888888888,\"#fdca26\"],[1.0,\"#f0f921\"]]}],\"heatmapgl\":[{\"type\":\"heatmapgl\",\"colorbar\":{\"outlinewidth\":0,\"ticks\":\"\"},\"colorscale\":[[0.0,\"#0d0887\"],[0.1111111111111111,\"#46039f\"],[0.2222222222222222,\"#7201a8\"],[0.3333333333333333,\"#9c179e\"],[0.4444444444444444,\"#bd3786\"],[0.5555555555555556,\"#d8576b\"],[0.6666666666666666,\"#ed7953\"],[0.7777777777777778,\"#fb9f3a\"],[0.8888888888888888,\"#fdca26\"],[1.0,\"#f0f921\"]]}],\"contourcarpet\":[{\"type\":\"contourcarpet\",\"colorbar\":{\"outlinewidth\":0,\"ticks\":\"\"}}],\"contour\":[{\"type\":\"contour\",\"colorbar\":{\"outlinewidth\":0,\"ticks\":\"\"},\"colorscale\":[[0.0,\"#0d0887\"],[0.1111111111111111,\"#46039f\"],[0.2222222222222222,\"#7201a8\"],[0.3333333333333333,\"#9c179e\"],[0.4444444444444444,\"#bd3786\"],[0.5555555555555556,\"#d8576b\"],[0.6666666666666666,\"#ed7953\"],[0.7777777777777778,\"#fb9f3a\"],[0.8888888888888888,\"#fdca26\"],[1.0,\"#f0f921\"]]}],\"surface\":[{\"type\":\"surface\",\"colorbar\":{\"outlinewidth\":0,\"ticks\":\"\"},\"colorscale\":[[0.0,\"#0d0887\"],[0.1111111111111111,\"#46039f\"],[0.2222222222222222,\"#7201a8\"],[0.3333333333333333,\"#9c179e\"],[0.4444444444444444,\"#bd3786\"],[0.5555555555555556,\"#d8576b\"],[0.6666666666666666,\"#ed7953\"],[0.7777777777777778,\"#fb9f3a\"],[0.8888888888888888,\"#fdca26\"],[1.0,\"#f0f921\"]]}],\"mesh3d\":[{\"type\":\"mesh3d\",\"colorbar\":{\"outlinewidth\":0,\"ticks\":\"\"}}],\"scatter\":[{\"fillpattern\":{\"fillmode\":\"overlay\",\"size\":10,\"solidity\":0.2},\"type\":\"scatter\"}],\"parcoords\":[{\"type\":\"parcoords\",\"line\":{\"colorbar\":{\"outlinewidth\":0,\"ticks\":\"\"}}}],\"scatterpolargl\":[{\"type\":\"scatterpolargl\",\"marker\":{\"colorbar\":{\"outlinewidth\":0,\"ticks\":\"\"}}}],\"bar\":[{\"error_x\":{\"color\":\"#2a3f5f\"},\"error_y\":{\"color\":\"#2a3f5f\"},\"marker\":{\"line\":{\"color\":\"#E5ECF6\",\"width\":0.5},\"pattern\":{\"fillmode\":\"overlay\",\"size\":10,\"solidity\":0.2}},\"type\":\"bar\"}],\"scattergeo\":[{\"type\":\"scattergeo\",\"marker\":{\"colorbar\":{\"outlinewidth\":0,\"ticks\":\"\"}}}],\"scatterpolar\":[{\"type\":\"scatterpolar\",\"marker\":{\"colorbar\":{\"outlinewidth\":0,\"ticks\":\"\"}}}],\"histogram\":[{\"marker\":{\"pattern\":{\"fillmode\":\"overlay\",\"size\":10,\"solidity\":0.2}},\"type\":\"histogram\"}],\"scattergl\":[{\"type\":\"scattergl\",\"marker\":{\"colorbar\":{\"outlinewidth\":0,\"ticks\":\"\"}}}],\"scatter3d\":[{\"type\":\"scatter3d\",\"line\":{\"colorbar\":{\"outlinewidth\":0,\"ticks\":\"\"}},\"marker\":{\"colorbar\":{\"outlinewidth\":0,\"ticks\":\"\"}}}],\"scattermapbox\":[{\"type\":\"scattermapbox\",\"marker\":{\"colorbar\":{\"outlinewidth\":0,\"ticks\":\"\"}}}],\"scatterternary\":[{\"type\":\"scatterternary\",\"marker\":{\"colorbar\":{\"outlinewidth\":0,\"ticks\":\"\"}}}],\"scattercarpet\":[{\"type\":\"scattercarpet\",\"marker\":{\"colorbar\":{\"outlinewidth\":0,\"ticks\":\"\"}}}],\"carpet\":[{\"aaxis\":{\"endlinecolor\":\"#2a3f5f\",\"gridcolor\":\"white\",\"linecolor\":\"white\",\"minorgridcolor\":\"white\",\"startlinecolor\":\"#2a3f5f\"},\"baxis\":{\"endlinecolor\":\"#2a3f5f\",\"gridcolor\":\"white\",\"linecolor\":\"white\",\"minorgridcolor\":\"white\",\"startlinecolor\":\"#2a3f5f\"},\"type\":\"carpet\"}],\"table\":[{\"cells\":{\"fill\":{\"color\":\"#EBF0F8\"},\"line\":{\"color\":\"white\"}},\"header\":{\"fill\":{\"color\":\"#C8D4E3\"},\"line\":{\"color\":\"white\"}},\"type\":\"table\"}],\"barpolar\":[{\"marker\":{\"line\":{\"color\":\"#E5ECF6\",\"width\":0.5},\"pattern\":{\"fillmode\":\"overlay\",\"size\":10,\"solidity\":0.2}},\"type\":\"barpolar\"}],\"pie\":[{\"automargin\":true,\"type\":\"pie\"}]},\"layout\":{\"autotypenumbers\":\"strict\",\"colorway\":[\"#636efa\",\"#EF553B\",\"#00cc96\",\"#ab63fa\",\"#FFA15A\",\"#19d3f3\",\"#FF6692\",\"#B6E880\",\"#FF97FF\",\"#FECB52\"],\"font\":{\"color\":\"#2a3f5f\"},\"hovermode\":\"closest\",\"hoverlabel\":{\"align\":\"left\"},\"paper_bgcolor\":\"white\",\"plot_bgcolor\":\"#E5ECF6\",\"polar\":{\"bgcolor\":\"#E5ECF6\",\"angularaxis\":{\"gridcolor\":\"white\",\"linecolor\":\"white\",\"ticks\":\"\"},\"radialaxis\":{\"gridcolor\":\"white\",\"linecolor\":\"white\",\"ticks\":\"\"}},\"ternary\":{\"bgcolor\":\"#E5ECF6\",\"aaxis\":{\"gridcolor\":\"white\",\"linecolor\":\"white\",\"ticks\":\"\"},\"baxis\":{\"gridcolor\":\"white\",\"linecolor\":\"white\",\"ticks\":\"\"},\"caxis\":{\"gridcolor\":\"white\",\"linecolor\":\"white\",\"ticks\":\"\"}},\"coloraxis\":{\"colorbar\":{\"outlinewidth\":0,\"ticks\":\"\"}},\"colorscale\":{\"sequential\":[[0.0,\"#0d0887\"],[0.1111111111111111,\"#46039f\"],[0.2222222222222222,\"#7201a8\"],[0.3333333333333333,\"#9c179e\"],[0.4444444444444444,\"#bd3786\"],[0.5555555555555556,\"#d8576b\"],[0.6666666666666666,\"#ed7953\"],[0.7777777777777778,\"#fb9f3a\"],[0.8888888888888888,\"#fdca26\"],[1.0,\"#f0f921\"]],\"sequentialminus\":[[0.0,\"#0d0887\"],[0.1111111111111111,\"#46039f\"],[0.2222222222222222,\"#7201a8\"],[0.3333333333333333,\"#9c179e\"],[0.4444444444444444,\"#bd3786\"],[0.5555555555555556,\"#d8576b\"],[0.6666666666666666,\"#ed7953\"],[0.7777777777777778,\"#fb9f3a\"],[0.8888888888888888,\"#fdca26\"],[1.0,\"#f0f921\"]],\"diverging\":[[0,\"#8e0152\"],[0.1,\"#c51b7d\"],[0.2,\"#de77ae\"],[0.3,\"#f1b6da\"],[0.4,\"#fde0ef\"],[0.5,\"#f7f7f7\"],[0.6,\"#e6f5d0\"],[0.7,\"#b8e186\"],[0.8,\"#7fbc41\"],[0.9,\"#4d9221\"],[1,\"#276419\"]]},\"xaxis\":{\"gridcolor\":\"white\",\"linecolor\":\"white\",\"ticks\":\"\",\"title\":{\"standoff\":15},\"zerolinecolor\":\"white\",\"automargin\":true,\"zerolinewidth\":2},\"yaxis\":{\"gridcolor\":\"white\",\"linecolor\":\"white\",\"ticks\":\"\",\"title\":{\"standoff\":15},\"zerolinecolor\":\"white\",\"automargin\":true,\"zerolinewidth\":2},\"scene\":{\"xaxis\":{\"backgroundcolor\":\"#E5ECF6\",\"gridcolor\":\"white\",\"linecolor\":\"white\",\"showbackground\":true,\"ticks\":\"\",\"zerolinecolor\":\"white\",\"gridwidth\":2},\"yaxis\":{\"backgroundcolor\":\"#E5ECF6\",\"gridcolor\":\"white\",\"linecolor\":\"white\",\"showbackground\":true,\"ticks\":\"\",\"zerolinecolor\":\"white\",\"gridwidth\":2},\"zaxis\":{\"backgroundcolor\":\"#E5ECF6\",\"gridcolor\":\"white\",\"linecolor\":\"white\",\"showbackground\":true,\"ticks\":\"\",\"zerolinecolor\":\"white\",\"gridwidth\":2}},\"shapedefaults\":{\"line\":{\"color\":\"#2a3f5f\"}},\"annotationdefaults\":{\"arrowcolor\":\"#2a3f5f\",\"arrowhead\":0,\"arrowwidth\":1},\"geo\":{\"bgcolor\":\"white\",\"landcolor\":\"#E5ECF6\",\"subunitcolor\":\"white\",\"showland\":true,\"showlakes\":true,\"lakecolor\":\"white\"},\"title\":{\"x\":0.05},\"mapbox\":{\"style\":\"light\"}}},\"xaxis\":{\"anchor\":\"y\",\"domain\":[0.0,0.258],\"showticklabels\":false,\"fixedrange\":true},\"yaxis\":{\"anchor\":\"x\",\"domain\":[0.0,1.0],\"showticklabels\":false,\"fixedrange\":true},\"xaxis2\":{\"anchor\":\"y2\",\"domain\":[0.398,1.0],\"showticklabels\":false,\"fixedrange\":true},\"yaxis2\":{\"anchor\":\"x2\",\"domain\":[0.0,1.0],\"title\":{\"text\":\"Energy (eV)\",\"standoff\":5},\"range\":[0,null],\"tickmode\":\"array\",\"tickvals\":[0.0,0.1,0.6397472475454533,0.7961309029103393,0.924948647244838,1.06618459971416,1.1],\"ticktext\":[\"0.00e+00\",\"3.56e-02\",\"5.33e+00\",\"6.86e+00\",\"8.12e+00\",\"9.51e+00\",\"9.84e+00\"],\"fixedrange\":true},\"title\":{\"text\":\"Grotrian Diagram for Silicon II (Shell: 5)\",\"x\":0.5},\"plot_bgcolor\":\"white\",\"autosize\":false,\"width\":1000,\"height\":700,\"showlegend\":false,\"annotations\":[{\"showarrow\":false,\"text\":\"n=0\",\"x\":1.1,\"xref\":\"x2\",\"y\":0.0,\"yref\":\"y2\"},{\"showarrow\":false,\"text\":\"n=1\",\"x\":1.1,\"xref\":\"x2\",\"y\":0.1,\"yref\":\"y2\"},{\"showarrow\":false,\"text\":\"n=2\",\"x\":1.1,\"xref\":\"x2\",\"y\":0.6397472475454533,\"yref\":\"y2\"},{\"showarrow\":false,\"text\":\"n=3\",\"x\":1.1,\"xref\":\"x2\",\"y\":0.7961309029103393,\"yref\":\"y2\"},{\"showarrow\":false,\"text\":\"n=4\",\"x\":1.1,\"xref\":\"x2\",\"y\":0.924948647244838,\"yref\":\"y2\"},{\"showarrow\":false,\"text\":\"n=5\",\"x\":1.1,\"xref\":\"x2\",\"y\":1.06618459971416,\"yref\":\"y2\"},{\"showarrow\":false,\"text\":\"n=6\",\"x\":1.1,\"xref\":\"x2\",\"y\":1.1,\"yref\":\"y2\"},{\"showarrow\":false,\"text\":\"7.3e-02\",\"x\":0.35,\"xref\":\"x\",\"y\":0.0,\"yref\":\"y\"},{\"showarrow\":false,\"text\":\"2.3e-01\",\"x\":0.35,\"xref\":\"x\",\"y\":0.1111111111111111,\"yref\":\"y\"},{\"showarrow\":false,\"text\":\"7.2e-01\",\"x\":0.35,\"xref\":\"x\",\"y\":0.2222222222222222,\"yref\":\"y\"},{\"showarrow\":false,\"text\":\"2.3e+00\",\"x\":0.35,\"xref\":\"x\",\"y\":0.3333333333333333,\"yref\":\"y\"},{\"showarrow\":false,\"text\":\"7.1e+00\",\"x\":0.35,\"xref\":\"x\",\"y\":0.4444444444444444,\"yref\":\"y\"},{\"showarrow\":false,\"text\":\"2.2e+01\",\"x\":0.35,\"xref\":\"x\",\"y\":0.5555555555555556,\"yref\":\"y\"},{\"showarrow\":false,\"text\":\"7.0e+01\",\"x\":0.35,\"xref\":\"x\",\"y\":0.6666666666666666,\"yref\":\"y\"},{\"showarrow\":false,\"text\":\"2.2e+02\",\"x\":0.35,\"xref\":\"x\",\"y\":0.7777777777777777,\"yref\":\"y\"},{\"showarrow\":false,\"text\":\"6.9e+02\",\"x\":0.35,\"xref\":\"x\",\"y\":0.8888888888888888,\"yref\":\"y\"},{\"showarrow\":false,\"text\":\"2.2e+03\",\"x\":0.35,\"xref\":\"x\",\"y\":1.0,\"yref\":\"y\"},{\"showarrow\":false,\"text\":\"Populations\",\"x\":0.28,\"xref\":\"x\",\"y\":-0.08,\"yref\":\"y\"},{\"showarrow\":false,\"text\":\"1.0e+00\",\"x\":0.9,\"xref\":\"x\",\"y\":0.0,\"yref\":\"y\"},{\"showarrow\":false,\"text\":\"1.6e+00\",\"x\":0.9,\"xref\":\"x\",\"y\":0.1111111111111111,\"yref\":\"y\"},{\"showarrow\":false,\"text\":\"2.5e+00\",\"x\":0.9,\"xref\":\"x\",\"y\":0.2222222222222222,\"yref\":\"y\"},{\"showarrow\":false,\"text\":\"3.9e+00\",\"x\":0.9,\"xref\":\"x\",\"y\":0.3333333333333333,\"yref\":\"y\"},{\"showarrow\":false,\"text\":\"6.1e+00\",\"x\":0.9,\"xref\":\"x\",\"y\":0.4444444444444444,\"yref\":\"y\"},{\"showarrow\":false,\"text\":\"9.5e+00\",\"x\":0.9,\"xref\":\"x\",\"y\":0.5555555555555556,\"yref\":\"y\"},{\"showarrow\":false,\"text\":\"1.5e+01\",\"x\":0.9,\"xref\":\"x\",\"y\":0.6666666666666666,\"yref\":\"y\"},{\"showarrow\":false,\"text\":\"2.4e+01\",\"x\":0.9,\"xref\":\"x\",\"y\":0.7777777777777777,\"yref\":\"y\"},{\"showarrow\":false,\"text\":\"3.7e+01\",\"x\":0.9,\"xref\":\"x\",\"y\":0.8888888888888888,\"yref\":\"y\"},{\"showarrow\":false,\"text\":\"5.8e+01\",\"x\":0.9,\"xref\":\"x\",\"y\":1.0,\"yref\":\"y\"},{\"showarrow\":false,\"text\":\"#Packets\",\"x\":0.83,\"xref\":\"x\",\"y\":-0.08,\"yref\":\"y\"}],\"shapes\":[{\"line\":{\"width\":1.003},\"type\":\"line\",\"x0\":0.1,\"x1\":0.2,\"xref\":\"x\",\"y0\":0.0,\"y1\":0.0,\"yref\":\"y\"},{\"line\":{\"width\":1.3363333333333332},\"type\":\"line\",\"x0\":0.1,\"x1\":0.2,\"xref\":\"x\",\"y0\":0.1111111111111111,\"y1\":0.1111111111111111,\"yref\":\"y\"},{\"line\":{\"width\":1.6696666666666666},\"type\":\"line\",\"x0\":0.1,\"x1\":0.2,\"xref\":\"x\",\"y0\":0.2222222222222222,\"y1\":0.2222222222222222,\"yref\":\"y\"},{\"line\":{\"width\":2.003},\"type\":\"line\",\"x0\":0.1,\"x1\":0.2,\"xref\":\"x\",\"y0\":0.3333333333333333,\"y1\":0.3333333333333333,\"yref\":\"y\"},{\"line\":{\"width\":2.336333333333333},\"type\":\"line\",\"x0\":0.1,\"x1\":0.2,\"xref\":\"x\",\"y0\":0.4444444444444444,\"y1\":0.4444444444444444,\"yref\":\"y\"},{\"line\":{\"width\":2.669666666666666},\"type\":\"line\",\"x0\":0.1,\"x1\":0.2,\"xref\":\"x\",\"y0\":0.5555555555555556,\"y1\":0.5555555555555556,\"yref\":\"y\"},{\"line\":{\"width\":3.003},\"type\":\"line\",\"x0\":0.1,\"x1\":0.2,\"xref\":\"x\",\"y0\":0.6666666666666666,\"y1\":0.6666666666666666,\"yref\":\"y\"},{\"line\":{\"width\":3.336333333333333},\"type\":\"line\",\"x0\":0.1,\"x1\":0.2,\"xref\":\"x\",\"y0\":0.7777777777777777,\"y1\":0.7777777777777777,\"yref\":\"y\"},{\"line\":{\"width\":3.669666666666666},\"type\":\"line\",\"x0\":0.1,\"x1\":0.2,\"xref\":\"x\",\"y0\":0.8888888888888888,\"y1\":0.8888888888888888,\"yref\":\"y\"},{\"line\":{\"width\":4.003},\"type\":\"line\",\"x0\":0.1,\"x1\":0.2,\"xref\":\"x\",\"y0\":1.0,\"y1\":1.0,\"yref\":\"y\"},{\"line\":{\"color\":\"grey\",\"dash\":\"dash\",\"width\":0.5},\"type\":\"line\",\"x0\":0.55,\"x1\":0.55,\"xref\":\"x\",\"y0\":0,\"y1\":1,\"yref\":\"y\"},{\"line\":{\"width\":1.0},\"type\":\"line\",\"x0\":0.65,\"x1\":0.75,\"xref\":\"x\",\"y0\":0.0,\"y1\":0.0,\"yref\":\"y\"},{\"line\":{\"width\":1.2222222222222223},\"type\":\"line\",\"x0\":0.65,\"x1\":0.75,\"xref\":\"x\",\"y0\":0.1111111111111111,\"y1\":0.1111111111111111,\"yref\":\"y\"},{\"line\":{\"width\":1.4444444444444444},\"type\":\"line\",\"x0\":0.65,\"x1\":0.75,\"xref\":\"x\",\"y0\":0.2222222222222222,\"y1\":0.2222222222222222,\"yref\":\"y\"},{\"line\":{\"width\":1.6666666666666665},\"type\":\"line\",\"x0\":0.65,\"x1\":0.75,\"xref\":\"x\",\"y0\":0.3333333333333333,\"y1\":0.3333333333333333,\"yref\":\"y\"},{\"line\":{\"width\":1.8888888888888888},\"type\":\"line\",\"x0\":0.65,\"x1\":0.75,\"xref\":\"x\",\"y0\":0.4444444444444444,\"y1\":0.4444444444444444,\"yref\":\"y\"},{\"line\":{\"width\":2.111111111111111},\"type\":\"line\",\"x0\":0.65,\"x1\":0.75,\"xref\":\"x\",\"y0\":0.5555555555555556,\"y1\":0.5555555555555556,\"yref\":\"y\"},{\"line\":{\"width\":2.333333333333333},\"type\":\"line\",\"x0\":0.65,\"x1\":0.75,\"xref\":\"x\",\"y0\":0.6666666666666666,\"y1\":0.6666666666666666,\"yref\":\"y\"},{\"line\":{\"width\":2.5555555555555554},\"type\":\"line\",\"x0\":0.65,\"x1\":0.75,\"xref\":\"x\",\"y0\":0.7777777777777777,\"y1\":0.7777777777777777,\"yref\":\"y\"},{\"line\":{\"width\":2.7777777777777777},\"type\":\"line\",\"x0\":0.65,\"x1\":0.75,\"xref\":\"x\",\"y0\":0.8888888888888888,\"y1\":0.8888888888888888,\"yref\":\"y\"},{\"line\":{\"width\":3.0},\"type\":\"line\",\"x0\":0.65,\"x1\":0.75,\"xref\":\"x\",\"y0\":1.0,\"y1\":1.0,\"yref\":\"y\"}]},                        {\"responsive\": true}                    ).then(function(){\n",
       "                            \n",
       "var gd = document.getElementById('449feebd-7954-489a-8248-2471f3e19b81');\n",
       "var x = new MutationObserver(function (mutations, observer) {{\n",
       "        var display = window.getComputedStyle(gd).display;\n",
       "        if (!display || display === 'none') {{\n",
       "            console.log([gd, 'removed!']);\n",
       "            Plotly.purge(gd);\n",
       "            observer.disconnect();\n",
       "        }}\n",
       "}});\n",
       "\n",
       "// Listen for the removal of the full notebook cells\n",
       "var notebookContainer = gd.closest('#notebook-container');\n",
       "if (notebookContainer) {{\n",
       "    x.observe(notebookContainer, {childList: true});\n",
       "}}\n",
       "\n",
       "// Listen for the clearing of the current output cell\n",
       "var outputEl = gd.closest('.output');\n",
       "if (outputEl) {{\n",
       "    x.observe(outputEl, {childList: true});\n",
       "}}\n",
       "\n",
       "                        })                };                });            </script>        </div>"
      ]
     },
     "metadata": {},
     "output_type": "display_data"
    }
   ],
   "source": [
    "diag.shell = 5\n",
    "diag.display()"
   ]
  },
  {
   "cell_type": "code",
   "execution_count": 10,
   "metadata": {},
   "outputs": [
    {
     "data": {
      "text/plain": [
       "array([ 6,  0, -1, ..., -1, -1, -1])"
      ]
     },
     "execution_count": 10,
     "metadata": {},
     "output_type": "execute_result"
    }
   ],
   "source": [
    "sim.transport.last_line_interaction_shell_id"
   ]
  },
  {
   "cell_type": "code",
   "execution_count": null,
   "metadata": {},
   "outputs": [],
   "source": []
  }
 ],
 "metadata": {
  "kernelspec": {
   "display_name": "Python 3 (ipykernel)",
   "language": "python",
   "name": "python3"
  },
  "language_info": {
   "codemirror_mode": {
    "name": "ipython",
    "version": 3
   },
   "file_extension": ".py",
   "mimetype": "text/x-python",
   "name": "python",
   "nbconvert_exporter": "python",
   "pygments_lexer": "ipython3",
   "version": "3.8.16"
  }
 },
 "nbformat": 4,
 "nbformat_minor": 2
}
