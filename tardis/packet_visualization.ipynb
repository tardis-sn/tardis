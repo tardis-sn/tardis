{
 "cells": [
  {
   "cell_type": "markdown",
   "metadata": {},
   "source": [
    "## Single Packet Tracking ##"
   ]
  },
  {
   "cell_type": "markdown",
   "metadata": {},
   "source": [
    "In this notebook, a single real packet will be tracked as it passes through the ejecta. For this we have to make changes in the existing configuration file. Finally we will be plotting its trajectory, by graphing `mu` vs `r`.\n",
    "\n",
    "`TARDIS` has the functionality to track the properties of the Real Packets that are generated when running the Simulation. The rpacket_tracker can track all the interactions a packet undergoes & thus keeps a track of the various properties, a packet may have. Currently, the rpacket_tracker tracks the properties of all the rpackets in the `Last Iteration` of the Simulation."
   ]
  },
  {
   "cell_type": "code",
   "execution_count": 1,
   "metadata": {},
   "outputs": [
    {
     "name": "stderr",
     "output_type": "stream",
     "text": [
      "/home/jayant/anaconda3/envs/tardis/lib/python3.7/importlib/_bootstrap.py:219: QAWarning: pyne.data is not yet QA compliant.\n",
      "  return f(*args, **kwds)\n"
     ]
    },
    {
     "data": {
      "application/vnd.jupyter.widget-view+json": {
       "model_id": "",
       "version_major": 2,
       "version_minor": 0
      },
      "text/plain": [
       "Iterations:          0/? [00:00<?, ?it/s]"
      ]
     },
     "metadata": {},
     "output_type": "display_data"
    },
    {
     "data": {
      "application/vnd.jupyter.widget-view+json": {
       "model_id": "",
       "version_major": 2,
       "version_minor": 0
      },
      "text/plain": [
       "Packets:             0/? [00:00<?, ?it/s]"
      ]
     },
     "metadata": {},
     "output_type": "display_data"
    }
   ],
   "source": [
    "from tardis import run_tardis\n",
    "from tardis.io.atom_data.util import download_atom_data\n",
    "from tardis.io.config_reader import Configuration"
   ]
  },
  {
   "cell_type": "markdown",
   "metadata": {},
   "source": [
    "#### Downloading the atomic data ####"
   ]
  },
  {
   "cell_type": "code",
   "execution_count": null,
   "metadata": {},
   "outputs": [],
   "source": [
    "# The data are automatically downloaded\n",
    "download_atom_data('kurucz_cd23_chianti_H_He')"
   ]
  },
  {
   "cell_type": "markdown",
   "metadata": {},
   "source": [
    "#### Downloading the example file ####"
   ]
  },
  {
   "cell_type": "code",
   "execution_count": 3,
   "metadata": {},
   "outputs": [
    {
     "name": "stdout",
     "output_type": "stream",
     "text": [
      "  % Total    % Received % Xferd  Average Speed   Time    Time     Time  Current\n",
      "                                 Dload  Upload   Total   Spent    Left  Speed\n",
      "100   980  100   980    0     0    668      0  0:00:01  0:00:01 --:--:--   668\n"
     ]
    }
   ],
   "source": [
    "!curl -O https://raw.githubusercontent.com/tardis-sn/tardis/master/docs/tardis_example.yml"
   ]
  },
  {
   "cell_type": "code",
   "execution_count": 2,
   "metadata": {},
   "outputs": [],
   "source": [
    "# Reading the Configuration stored in `tardis_example.yml` into config\n",
    "\n",
    "config = Configuration.from_yaml(\"tardis_example.yml\")"
   ]
  },
  {
   "cell_type": "markdown",
   "metadata": {},
   "source": [
    "#### Setting the model configuration ####\n",
    "\n",
    "Here we have to make some changes to config file to enable tracking of a single packet.\n",
    "\n",
    "The changes are:\n",
    "\n",
    "1. Setting `r_packet_tracking` to True to turn on the tracking of real packets.\n",
    "2. Setting `no of packets` to 1, since we are tracking only one packet.\n",
    "3. Setting `last no of packets` to 1. This won't make any difference for single iteration, since that will be the last iteration and the first.\n",
    "4. Setting `iterations` to 1, as one iteration is enough to track a single packet.\n",
    "5. Setting `no of virtual packets` to 0."
   ]
  },
  {
   "cell_type": "code",
   "execution_count": 3,
   "metadata": {},
   "outputs": [],
   "source": [
    "# Setting `r_packet_tracking` to True to turn on the Tracking \n",
    "\n",
    "config[\"montecarlo\"][\"tracking\"][\"track_rpacket\"] = True"
   ]
  },
  {
   "cell_type": "code",
   "execution_count": 137,
   "metadata": {},
   "outputs": [],
   "source": [
    "# Setting `no_of_packets` and `iterations` to 1\n",
    "\n",
    "config[\"montecarlo\"][\"no_of_packets\"]=1\n",
    "config[\"montecarlo\"][\"last_no_of_packets\"]=1\n",
    "config[\"montecarlo\"][\"iterations\"]=1\n",
    "\n",
    "# Setting number of virtual packets to 0\n",
    "\n",
    "config[\"montecarlo\"][\"no_of_virtual_packets\"]=0"
   ]
  },
  {
   "cell_type": "code",
   "execution_count": 138,
   "metadata": {},
   "outputs": [
    {
     "data": {
      "text/plain": [
       "{'seed': 23111963,\n",
       " 'no_of_packets': 1,\n",
       " 'iterations': 1,\n",
       " 'nthreads': 1,\n",
       " 'last_no_of_packets': 1,\n",
       " 'no_of_virtual_packets': 0,\n",
       " 'convergence_strategy': {'type': 'damped',\n",
       "  'damping_constant': 1.0,\n",
       "  'threshold': 0.05,\n",
       "  'fraction': 0.8,\n",
       "  'hold_iterations': 3,\n",
       "  't_inner': {'damping_constant': 0.5, 'threshold': 0.05},\n",
       "  'stop_if_converged': False,\n",
       "  'lock_t_inner_cycles': 1,\n",
       "  't_inner_update_exponent': -0.5,\n",
       "  't_rad': {'damping_constant': 1.0, 'threshold': 0.05},\n",
       "  'w': {'damping_constant': 1.0, 'threshold': 0.05}},\n",
       " 'virtual_spectrum_spawn_range': {'start': <Quantity 1. Angstrom>,\n",
       "  'end': <Quantity inf Angstrom>},\n",
       " 'enable_reflective_inner_boundary': False,\n",
       " 'inner_boundary_albedo': 0.0,\n",
       " 'enable_full_relativity': False,\n",
       " 'tracking': {'track_rpacket': True, 'initial_array_length': 10},\n",
       " 'debug_packets': False,\n",
       " 'logger_buffer': 1,\n",
       " 'single_packet_seed': -1}"
      ]
     },
     "execution_count": 138,
     "metadata": {},
     "output_type": "execute_result"
    }
   ],
   "source": [
    "# Checking the montecarlo config for the changes made\n",
    "\n",
    "config[\"montecarlo\"]"
   ]
  },
  {
   "cell_type": "markdown",
   "metadata": {},
   "source": [
    "#### Running the simulation (with custom configuration) ####"
   ]
  },
  {
   "cell_type": "code",
   "execution_count": 139,
   "metadata": {},
   "outputs": [
    {
     "name": "stdout",
     "output_type": "stream",
     "text": [
      "[\u001b[1mtardis.plasma.standard_plasmas\u001b[0m][\u001b[1;37mINFO\u001b[0m   ]  \n",
      "\t\n",
      "\tReading Atomic Data from kurucz_cd23_chianti_H_He.h5 (\u001b[1mstandard_plasmas.py\u001b[0m:92)\n",
      "[\u001b[1mtardis.io.atom_data.base\u001b[0m][\u001b[1;37mINFO\u001b[0m   ]  \n",
      "\tReading Atom Data with: UUID = 6f7b09e887a311e7a06b246e96350010 MD5  = 864f1753714343c41f99cb065710cace  (\u001b[1mbase.py\u001b[0m:204)\n",
      "[\u001b[1mtardis.io.atom_data.base\u001b[0m][\u001b[1;37mINFO\u001b[0m   ]  \n",
      "\tNon provided Atomic Data: synpp_refs, photoionization_data, yg_data, two_photon_data (\u001b[1mbase.py\u001b[0m:209)\n",
      "[\u001b[1mpy.warnings         \u001b[0m][\u001b[1;33mWARNING\u001b[0m]  \n",
      "\t/home/jayant/anaconda3/envs/tardis/lib/python3.7/site-packages/tardis-22.3.3.0.dev380+gf541e73b.d20220310-py3.7.egg/tardis/plasma/properties/radiative_properties.py:93: RuntimeWarning: invalid value encountered in true_divide\n",
      "  (g_lower * n_upper) / (g_upper * n_lower)\n",
      " (\u001b[1mwarnings.py\u001b[0m:110)\n",
      "[\u001b[1mtardis.simulation.base\u001b[0m][\u001b[1;37mINFO\u001b[0m   ]  \n",
      "\t\n",
      "\tStarting iteration 1 of 1 (\u001b[1mbase.py\u001b[0m:378)\n",
      "[\u001b[1mtardis.simulation.base\u001b[0m][\u001b[1;37mINFO\u001b[0m   ]  \n",
      "\t\n",
      "\tLuminosity emitted   = 1.051e+43 erg / s\n",
      "\tLuminosity absorbed  = 0.000e+00 erg / s\n",
      "\tLuminosity requested = 1.059e+43 erg / s\n",
      " (\u001b[1mbase.py\u001b[0m:547)\n",
      "[\u001b[1mtardis.simulation.base\u001b[0m][\u001b[1;37mINFO\u001b[0m   ]  \n",
      "\t\n",
      "\tSimulation finished in 1 iterations \n",
      "\tSimulation took 0.02 s\n",
      " (\u001b[1mbase.py\u001b[0m:468)\n"
     ]
    }
   ],
   "source": [
    "sim = run_tardis(config)"
   ]
  },
  {
   "cell_type": "markdown",
   "metadata": {},
   "source": [
    "#### RPacket Class Structure ####\n",
    "\n",
    "Basic structure for the RPacketCollection Class\n",
    "\n",
    "The properties that are tracked are as follows :\n",
    "\n",
    "1. `index` - Index of the Packet\n",
    "2. `seed` - Seed of the Packet\n",
    "3. `status` - Current Status for the Packet Interaction\n",
    "4. `r` - Radius of the Current Shell\n",
    "5. `nu` - Packet’s Frequency\n",
    "6. `mu` - Propagation Direction of the Packet (cosine of the angle the packet’s path makes with the radial direction)\n",
    "7. `energy` - Energy of the Packet\n",
    "8. `shell_id` - Current Shell Id where the Packet is present`"
   ]
  },
  {
   "cell_type": "code",
   "execution_count": 129,
   "metadata": {},
   "outputs": [
    {
     "data": {
      "text/plain": [
       "array([1.23552000e+15, 1.28606400e+15, 1.33660800e+15, 1.34160296e+15,\n",
       "       1.38715200e+15, 1.43769600e+15, 1.48824000e+15, 1.53878400e+15,\n",
       "       1.58932800e+15, 1.63987200e+15, 1.69041600e+15, 1.74096000e+15,\n",
       "       1.77601211e+15, 1.79150400e+15, 1.84204800e+15, 1.89259200e+15,\n",
       "       1.94313600e+15, 1.99368000e+15, 2.04422400e+15, 2.09476800e+15,\n",
       "       2.14531200e+15, 2.19585600e+15, 2.24640000e+15])"
      ]
     },
     "execution_count": 129,
     "metadata": {},
     "output_type": "execute_result"
    }
   ],
   "source": [
    "sim.runner.rpacket_tracker[0].r"
   ]
  },
  {
   "cell_type": "code",
   "execution_count": 130,
   "metadata": {},
   "outputs": [
    {
     "data": {
      "text/plain": [
       "array([ 0,  1,  2,  2,  3,  4,  5,  6,  7,  8,  9, 10, 10, 11, 12, 13, 14,\n",
       "       15, 16, 17, 18, 19, 19])"
      ]
     },
     "execution_count": 130,
     "metadata": {},
     "output_type": "execute_result"
    }
   ],
   "source": [
    "sim.runner.rpacket_tracker[0].shell_id"
   ]
  },
  {
   "cell_type": "markdown",
   "metadata": {},
   "source": [
    "#### Plotting the trajectory of Packet ####"
   ]
  },
  {
   "cell_type": "code",
   "execution_count": 140,
   "metadata": {},
   "outputs": [
    {
     "name": "stdout",
     "output_type": "stream",
     "text": [
      "Populating the interactive namespace from numpy and matplotlib\n"
     ]
    },
    {
     "data": {
      "text/plain": [
       "Text(0, 0.5, 'mu (Propagation Direction of the Packet)')"
      ]
     },
     "execution_count": 140,
     "metadata": {},
     "output_type": "execute_result"
    },
    {
     "data": {
      "image/png": "[encoded data removed]",
      "text/plain": [
       "<Figure size 1440x720 with 1 Axes>"
      ]
     },
     "metadata": {
      "needs_background": "light"
     },
     "output_type": "display_data"
    }
   ],
   "source": [
    "# Plotting the trajectory of real packet i.e. plotting the graph of mu vs r \n",
    "\n",
    "%pylab inline\n",
    "figure(figsize=(20,10))\n",
    "plot(sim.runner.rpacket_tracker[0].r,sim.runner.rpacket_tracker[0].mu)\n",
    "\n",
    "# Adding vertical lines for showing shell boundaries\n",
    "for r in sim.model.radius:\n",
    "    axvline(x=r.value,color='g',lw=1,ls='--',dashes=(5,5))\n",
    "    \n",
    "xlabel('r (Radius of the Current Shell)')\n",
    "ylabel('mu (Propagation Direction of the Packet)')"
   ]
  },
  {
   "cell_type": "code",
   "execution_count": null,
   "metadata": {},
   "outputs": [],
   "source": []
  }
 ],
 "metadata": {
  "interpreter": {
   "hash": "14c438b85bc0c5441332c56c5d68185f391ef15672c5492b27fc26d9164316c1"
  },
  "kernelspec": {
   "display_name": "Python 3 (ipykernel)",
   "language": "python",
   "name": "python3"
  },
  "language_info": {
   "codemirror_mode": {
    "name": "ipython",
    "version": 3
   },
   "file_extension": ".py",
   "mimetype": "text/x-python",
   "name": "python",
   "nbconvert_exporter": "python",
   "pygments_lexer": "ipython3",
   "version": "3.7.12"
  }
 },
 "nbformat": 4,
 "nbformat_minor": 2
}
