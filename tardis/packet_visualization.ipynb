{
 "cells": [
  {
   "cell_type": "markdown",
   "metadata": {},
   "source": [
    "### Single Packet Tracking ###"
   ]
  },
  {
   "cell_type": "code",
   "execution_count": 93,
   "metadata": {},
   "outputs": [],
   "source": [
    "from tardis import run_tardis\n",
    "from tardis.io.atom_data.util import download_atom_data\n",
    "from tardis.io.config_reader import Configuration"
   ]
  },
  {
   "cell_type": "markdown",
   "metadata": {},
   "source": [
    "#### Downloading the atomic data ####"
   ]
  },
  {
   "cell_type": "code",
   "execution_count": null,
   "metadata": {},
   "outputs": [],
   "source": [
    "# The data are automatically downloaded\n",
    "download_atom_data('kurucz_cd23_chianti_H_He')"
   ]
  },
  {
   "cell_type": "markdown",
   "metadata": {},
   "source": [
    "#### Downloading the example file ####"
   ]
  },
  {
   "cell_type": "code",
   "execution_count": 3,
   "metadata": {},
   "outputs": [
    {
     "name": "stdout",
     "output_type": "stream",
     "text": [
      "  % Total    % Received % Xferd  Average Speed   Time    Time     Time  Current\n",
      "                                 Dload  Upload   Total   Spent    Left  Speed\n",
      "100   980  100   980    0     0    668      0  0:00:01  0:00:01 --:--:--   668\n"
     ]
    }
   ],
   "source": [
    "!curl -O https://raw.githubusercontent.com/tardis-sn/tardis/master/docs/tardis_example.yml"
   ]
  },
  {
   "cell_type": "code",
   "execution_count": 94,
   "metadata": {},
   "outputs": [],
   "source": [
    "# Reading the Configuration stored in `tardis_config_packet_tracking.yml` into config\n",
    "\n",
    "config = Configuration.from_yaml(\"tardis_example.yml\")"
   ]
  },
  {
   "cell_type": "code",
   "execution_count": 95,
   "metadata": {},
   "outputs": [],
   "source": [
    "# Setting `r_packet_tracking` to True to turn on the Tracking \n",
    "\n",
    "config[\"montecarlo\"][\"tracking\"][\"track_rpacket\"] = True"
   ]
  },
  {
   "cell_type": "code",
   "execution_count": 96,
   "metadata": {},
   "outputs": [],
   "source": [
    "# Setting `no_of_packets` to 1 and iterations to 3\n",
    "\n",
    "config[\"montecarlo\"][\"no_of_packets\"]=1\n",
    "config[\"montecarlo\"][\"last_no_of_packets\"]=1\n",
    "config[\"montecarlo\"][\"iterations\"]=3\n",
    "config[\"montecarlo\"][\"no_of_virtual_packets\"]=5"
   ]
  },
  {
   "cell_type": "code",
   "execution_count": 97,
   "metadata": {},
   "outputs": [
    {
     "data": {
      "text/plain": [
       "{'seed': 23111963,\n",
       " 'no_of_packets': 1,\n",
       " 'iterations': 3,\n",
       " 'nthreads': 1,\n",
       " 'last_no_of_packets': 1,\n",
       " 'no_of_virtual_packets': 5,\n",
       " 'convergence_strategy': {'type': 'damped',\n",
       "  'damping_constant': 1.0,\n",
       "  'threshold': 0.05,\n",
       "  'fraction': 0.8,\n",
       "  'hold_iterations': 3,\n",
       "  't_inner': {'damping_constant': 0.5, 'threshold': 0.05},\n",
       "  'stop_if_converged': False,\n",
       "  'lock_t_inner_cycles': 1,\n",
       "  't_inner_update_exponent': -0.5,\n",
       "  't_rad': {'damping_constant': 1.0, 'threshold': 0.05},\n",
       "  'w': {'damping_constant': 1.0, 'threshold': 0.05}},\n",
       " 'virtual_spectrum_spawn_range': {'start': <Quantity 1. Angstrom>,\n",
       "  'end': <Quantity inf Angstrom>},\n",
       " 'enable_reflective_inner_boundary': False,\n",
       " 'inner_boundary_albedo': 0.0,\n",
       " 'enable_full_relativity': False,\n",
       " 'tracking': {'track_rpacket': True, 'initial_array_length': 10},\n",
       " 'debug_packets': False,\n",
       " 'logger_buffer': 1,\n",
       " 'single_packet_seed': -1}"
      ]
     },
     "execution_count": 97,
     "metadata": {},
     "output_type": "execute_result"
    }
   ],
   "source": [
    "config[\"montecarlo\"]"
   ]
  },
  {
   "cell_type": "markdown",
   "metadata": {},
   "source": [
    "#### Running the simulation (long output) ####"
   ]
  },
  {
   "cell_type": "code",
   "execution_count": 98,
   "metadata": {},
   "outputs": [
    {
     "name": "stdout",
     "output_type": "stream",
     "text": [
      "[\u001b[1mtardis.plasma.standard_plasmas\u001b[0m][\u001b[1;37mINFO\u001b[0m   ]  \n",
      "\t\n",
      "\tReading Atomic Data from kurucz_cd23_chianti_H_He.h5 (\u001b[1mstandard_plasmas.py\u001b[0m:92)\n",
      "[\u001b[1mtardis.io.atom_data.base\u001b[0m][\u001b[1;37mINFO\u001b[0m   ]  \n",
      "\tReading Atom Data with: UUID = 6f7b09e887a311e7a06b246e96350010 MD5  = 864f1753714343c41f99cb065710cace  (\u001b[1mbase.py\u001b[0m:204)\n",
      "[\u001b[1mtardis.io.atom_data.base\u001b[0m][\u001b[1;37mINFO\u001b[0m   ]  \n",
      "\tNon provided Atomic Data: synpp_refs, photoionization_data, yg_data, two_photon_data (\u001b[1mbase.py\u001b[0m:209)\n",
      "[\u001b[1mtardis.simulation.base\u001b[0m][\u001b[1;37mINFO\u001b[0m   ]  \n",
      "\t\n",
      "\tStarting iteration 1 of 3 (\u001b[1mbase.py\u001b[0m:378)\n"
     ]
    },
    {
     "data": {
      "application/vnd.jupyter.widget-view+json": {
       "model_id": "c6a73f64160c4da2b671d29dfb60fed1",
       "version_major": 2,
       "version_minor": 0
      },
      "text/plain": [
       "TqdmHBox(children=(HTML(value='Packets:   ', layout=Layout(width='6%')), FloatProgress(value=0.0, layout=Layou…"
      ]
     },
     "metadata": {},
     "output_type": "display_data"
    },
    {
     "name": "stdout",
     "output_type": "stream",
     "text": [
      "[\u001b[1mtardis.simulation.base\u001b[0m][\u001b[1;37mINFO\u001b[0m   ]  \n",
      "\t\n",
      "\tLuminosity emitted   = 1.051e+43 erg / s\n",
      "\tLuminosity absorbed  = 0.000e+00 erg / s\n",
      "\tLuminosity requested = 1.059e+43 erg / s\n",
      " (\u001b[1mbase.py\u001b[0m:547)\n",
      "[\u001b[1mtardis.simulation.base\u001b[0m][\u001b[1;37mINFO\u001b[0m   ]  \n",
      "\t\n",
      "\tPlasma stratification: (\u001b[1mbase.py\u001b[0m:514)\n"
     ]
    },
    {
     "data": {
      "text/html": [
       "<style  type=\"text/css\" >\n",
       "</style><table id=\"T_6cb32224_b5a0_11ec_a902_1c4d7048b5c0\" ><thead>    <tr>        <th class=\"index_name level0\" >Shell No.</th>        <th class=\"col_heading level0 col0\" >t_rad</th>        <th class=\"col_heading level0 col1\" >next_t_rad</th>        <th class=\"col_heading level0 col2\" >w</th>        <th class=\"col_heading level0 col3\" >next_w</th>    </tr></thead><tbody>\n",
       "                <tr>\n",
       "                        <th id=\"T_6cb32224_b5a0_11ec_a902_1c4d7048b5c0level0_row0\" class=\"row_heading level0 row0\" >0</th>\n",
       "                        <td id=\"T_6cb32224_b5a0_11ec_a902_1c4d7048b5c0row0_col0\" class=\"data row0 col0\" >9.93e+03</td>\n",
       "                        <td id=\"T_6cb32224_b5a0_11ec_a902_1c4d7048b5c0row0_col1\" class=\"data row0 col1\" >1.05e+04</td>\n",
       "                        <td id=\"T_6cb32224_b5a0_11ec_a902_1c4d7048b5c0row0_col2\" class=\"data row0 col2\" >0.4</td>\n",
       "                        <td id=\"T_6cb32224_b5a0_11ec_a902_1c4d7048b5c0row0_col3\" class=\"data row0 col3\" >0.323</td>\n",
       "            </tr>\n",
       "            <tr>\n",
       "                        <th id=\"T_6cb32224_b5a0_11ec_a902_1c4d7048b5c0level0_row1\" class=\"row_heading level0 row1\" >5</th>\n",
       "                        <td id=\"T_6cb32224_b5a0_11ec_a902_1c4d7048b5c0row1_col0\" class=\"data row1 col0\" >9.85e+03</td>\n",
       "                        <td id=\"T_6cb32224_b5a0_11ec_a902_1c4d7048b5c0row1_col1\" class=\"data row1 col1\" >1.03e+04</td>\n",
       "                        <td id=\"T_6cb32224_b5a0_11ec_a902_1c4d7048b5c0row1_col2\" class=\"data row1 col2\" >0.211</td>\n",
       "                        <td id=\"T_6cb32224_b5a0_11ec_a902_1c4d7048b5c0row1_col3\" class=\"data row1 col3\" >0.486</td>\n",
       "            </tr>\n",
       "            <tr>\n",
       "                        <th id=\"T_6cb32224_b5a0_11ec_a902_1c4d7048b5c0level0_row2\" class=\"row_heading level0 row2\" >10</th>\n",
       "                        <td id=\"T_6cb32224_b5a0_11ec_a902_1c4d7048b5c0row2_col0\" class=\"data row2 col0\" >9.78e+03</td>\n",
       "                        <td id=\"T_6cb32224_b5a0_11ec_a902_1c4d7048b5c0row2_col1\" class=\"data row2 col1\" >1.01e+04</td>\n",
       "                        <td id=\"T_6cb32224_b5a0_11ec_a902_1c4d7048b5c0row2_col2\" class=\"data row2 col2\" >0.143</td>\n",
       "                        <td id=\"T_6cb32224_b5a0_11ec_a902_1c4d7048b5c0row2_col3\" class=\"data row2 col3\" >0.191</td>\n",
       "            </tr>\n",
       "            <tr>\n",
       "                        <th id=\"T_6cb32224_b5a0_11ec_a902_1c4d7048b5c0level0_row3\" class=\"row_heading level0 row3\" >15</th>\n",
       "                        <td id=\"T_6cb32224_b5a0_11ec_a902_1c4d7048b5c0row3_col0\" class=\"data row3 col0\" >9.71e+03</td>\n",
       "                        <td id=\"T_6cb32224_b5a0_11ec_a902_1c4d7048b5c0row3_col1\" class=\"data row3 col1\" >9.99e+03</td>\n",
       "                        <td id=\"T_6cb32224_b5a0_11ec_a902_1c4d7048b5c0row3_col2\" class=\"data row3 col2\" >0.105</td>\n",
       "                        <td id=\"T_6cb32224_b5a0_11ec_a902_1c4d7048b5c0row3_col3\" class=\"data row3 col3\" >0.125</td>\n",
       "            </tr>\n",
       "    </tbody></table>"
      ],
      "text/plain": [
       "<pandas.io.formats.style.Styler at 0x7f564b62ed50>"
      ]
     },
     "metadata": {},
     "output_type": "display_data"
    },
    {
     "name": "stdout",
     "output_type": "stream",
     "text": [
      "[\u001b[1mtardis.simulation.base\u001b[0m][\u001b[1;37mINFO\u001b[0m   ]  \n",
      "\t\n",
      "\tCurrent t_inner = 9933.952 K\n",
      "\tExpected t_inner for next iteration = 9953.127 K\n",
      " (\u001b[1mbase.py\u001b[0m:542)\n",
      "[\u001b[1mtardis.simulation.base\u001b[0m][\u001b[1;37mINFO\u001b[0m   ]  \n",
      "\t\n",
      "\tStarting iteration 2 of 3 (\u001b[1mbase.py\u001b[0m:378)\n",
      "[\u001b[1mtardis.simulation.base\u001b[0m][\u001b[1;37mINFO\u001b[0m   ]  \n",
      "\t\n",
      "\tLuminosity emitted   = 1.103e+43 erg / s\n",
      "\tLuminosity absorbed  = 0.000e+00 erg / s\n",
      "\tLuminosity requested = 1.059e+43 erg / s\n",
      " (\u001b[1mbase.py\u001b[0m:547)\n",
      "[\u001b[1mtardis.simulation.base\u001b[0m][\u001b[1;37mINFO\u001b[0m   ]  \n",
      "\t\n",
      "\tPlasma stratification: (\u001b[1mbase.py\u001b[0m:514)\n"
     ]
    },
    {
     "data": {
      "text/html": [
       "<style  type=\"text/css\" >\n",
       "</style><table id=\"T_6cc41a84_b5a0_11ec_a902_1c4d7048b5c0\" ><thead>    <tr>        <th class=\"index_name level0\" >Shell No.</th>        <th class=\"col_heading level0 col0\" >t_rad</th>        <th class=\"col_heading level0 col1\" >next_t_rad</th>        <th class=\"col_heading level0 col2\" >w</th>        <th class=\"col_heading level0 col3\" >next_w</th>    </tr></thead><tbody>\n",
       "                <tr>\n",
       "                        <th id=\"T_6cc41a84_b5a0_11ec_a902_1c4d7048b5c0level0_row0\" class=\"row_heading level0 row0\" >0</th>\n",
       "                        <td id=\"T_6cc41a84_b5a0_11ec_a902_1c4d7048b5c0row0_col0\" class=\"data row0 col0\" >1.05e+04</td>\n",
       "                        <td id=\"T_6cc41a84_b5a0_11ec_a902_1c4d7048b5c0row0_col1\" class=\"data row0 col1\" >4.92e+03</td>\n",
       "                        <td id=\"T_6cc41a84_b5a0_11ec_a902_1c4d7048b5c0row0_col2\" class=\"data row0 col2\" >0.323</td>\n",
       "                        <td id=\"T_6cc41a84_b5a0_11ec_a902_1c4d7048b5c0row0_col3\" class=\"data row0 col3\" >4.51</td>\n",
       "            </tr>\n",
       "            <tr>\n",
       "                        <th id=\"T_6cc41a84_b5a0_11ec_a902_1c4d7048b5c0level0_row1\" class=\"row_heading level0 row1\" >5</th>\n",
       "                        <td id=\"T_6cc41a84_b5a0_11ec_a902_1c4d7048b5c0row1_col0\" class=\"data row1 col0\" >1.03e+04</td>\n",
       "                        <td id=\"T_6cc41a84_b5a0_11ec_a902_1c4d7048b5c0row1_col1\" class=\"data row1 col1\" >4.88e+03</td>\n",
       "                        <td id=\"T_6cc41a84_b5a0_11ec_a902_1c4d7048b5c0row1_col2\" class=\"data row1 col2\" >0.486</td>\n",
       "                        <td id=\"T_6cc41a84_b5a0_11ec_a902_1c4d7048b5c0row1_col3\" class=\"data row1 col3\" >3.09</td>\n",
       "            </tr>\n",
       "            <tr>\n",
       "                        <th id=\"T_6cc41a84_b5a0_11ec_a902_1c4d7048b5c0level0_row2\" class=\"row_heading level0 row2\" >10</th>\n",
       "                        <td id=\"T_6cc41a84_b5a0_11ec_a902_1c4d7048b5c0row2_col0\" class=\"data row2 col0\" >1.01e+04</td>\n",
       "                        <td id=\"T_6cc41a84_b5a0_11ec_a902_1c4d7048b5c0row2_col1\" class=\"data row2 col1\" >4.84e+03</td>\n",
       "                        <td id=\"T_6cc41a84_b5a0_11ec_a902_1c4d7048b5c0row2_col2\" class=\"data row2 col2\" >0.191</td>\n",
       "                        <td id=\"T_6cc41a84_b5a0_11ec_a902_1c4d7048b5c0row2_col3\" class=\"data row2 col3\" >2.27</td>\n",
       "            </tr>\n",
       "            <tr>\n",
       "                        <th id=\"T_6cc41a84_b5a0_11ec_a902_1c4d7048b5c0level0_row3\" class=\"row_heading level0 row3\" >15</th>\n",
       "                        <td id=\"T_6cc41a84_b5a0_11ec_a902_1c4d7048b5c0row3_col0\" class=\"data row3 col0\" >9.99e+03</td>\n",
       "                        <td id=\"T_6cc41a84_b5a0_11ec_a902_1c4d7048b5c0row3_col1\" class=\"data row3 col1\" >4.8e+03</td>\n",
       "                        <td id=\"T_6cc41a84_b5a0_11ec_a902_1c4d7048b5c0row3_col2\" class=\"data row3 col2\" >0.125</td>\n",
       "                        <td id=\"T_6cc41a84_b5a0_11ec_a902_1c4d7048b5c0row3_col3\" class=\"data row3 col3\" >1.76</td>\n",
       "            </tr>\n",
       "    </tbody></table>"
      ],
      "text/plain": [
       "<pandas.io.formats.style.Styler at 0x7f56445d9c90>"
      ]
     },
     "metadata": {},
     "output_type": "display_data"
    },
    {
     "name": "stdout",
     "output_type": "stream",
     "text": [
      "[\u001b[1mtardis.simulation.base\u001b[0m][\u001b[1;37mINFO\u001b[0m   ]  \n",
      "\t\n",
      "\tCurrent t_inner = 9953.127 K\n",
      "\tExpected t_inner for next iteration = 9852.805 K\n",
      " (\u001b[1mbase.py\u001b[0m:542)\n",
      "[\u001b[1mtardis.simulation.base\u001b[0m][\u001b[1;37mINFO\u001b[0m   ]  \n",
      "\t\n",
      "\tStarting iteration 3 of 3 (\u001b[1mbase.py\u001b[0m:378)\n",
      "[\u001b[1mtardis.simulation.base\u001b[0m][\u001b[1;37mINFO\u001b[0m   ]  \n",
      "\t\n",
      "\tLuminosity emitted   = 1.011e+43 erg / s\n",
      "\tLuminosity absorbed  = 0.000e+00 erg / s\n",
      "\tLuminosity requested = 1.059e+43 erg / s\n",
      " (\u001b[1mbase.py\u001b[0m:547)\n",
      "[\u001b[1mtardis.simulation.base\u001b[0m][\u001b[1;37mINFO\u001b[0m   ]  \n",
      "\t\n",
      "\tSimulation finished in 3 iterations \n",
      "\tSimulation took 0.27 s\n",
      " (\u001b[1mbase.py\u001b[0m:468)\n"
     ]
    }
   ],
   "source": [
    "sim = run_tardis(config,show_progress_bars=True,virtual_packet_logging=True)"
   ]
  },
  {
   "cell_type": "markdown",
   "metadata": {},
   "source": [
    "```python\n",
    "# Basic structure for the RPacketCollection Class\n",
    "class RPacketCollection:\n",
    "   # Properties\n",
    "    index\n",
    "    seed\n",
    "    status\n",
    "    r\n",
    "    nu\n",
    "    mu\n",
    "    energy\n",
    "    shell_id\n",
    "```"
   ]
  },
  {
   "cell_type": "code",
   "execution_count": 99,
   "metadata": {},
   "outputs": [
    {
     "data": {
      "text/plain": [
       "array([0.22523484, 0.35196527, 0.43461238, 0.47585226, 0.52574082,\n",
       "       0.57130286, 0.60939711, 0.64185964, 0.66991747, 0.69443827,\n",
       "       0.71606127, 0.73527229, 0.30651928, 0.33099281, 0.39717961,\n",
       "       0.44959703, 0.49305674, 0.53009079, 0.56223823, 0.59052207,\n",
       "       0.61566514, 0.63820122, 0.65853793])"
      ]
     },
     "execution_count": 99,
     "metadata": {},
     "output_type": "execute_result"
    }
   ],
   "source": [
    "sim.runner.rpacket_tracker[0].mu"
   ]
  },
  {
   "cell_type": "code",
   "execution_count": 100,
   "metadata": {},
   "outputs": [
    {
     "data": {
      "text/plain": [
       "array([ 0,  1,  2,  2,  3,  4,  5,  6,  7,  8,  9, 10, 10, 11, 12, 13, 14,\n",
       "       15, 16, 17, 18, 19, 19])"
      ]
     },
     "execution_count": 100,
     "metadata": {},
     "output_type": "execute_result"
    }
   ],
   "source": [
    "sim.runner.rpacket_tracker[0].shell_id"
   ]
  },
  {
   "cell_type": "markdown",
   "metadata": {},
   "source": [
    "#### Plotting the trajectory of Packet ####"
   ]
  },
  {
   "cell_type": "code",
   "execution_count": 101,
   "metadata": {},
   "outputs": [
    {
     "name": "stdout",
     "output_type": "stream",
     "text": [
      "Populating the interactive namespace from numpy and matplotlib\n"
     ]
    },
    {
     "data": {
      "text/plain": [
       "Text(0, 0.5, 'mu (Propagation Direction of the Packet)')"
      ]
     },
     "execution_count": 101,
     "metadata": {},
     "output_type": "execute_result"
    },
    {
     "data": {
      "image/png": "[encoded data removed]",
      "text/plain": [
       "<Figure size 1440x720 with 1 Axes>"
      ]
     },
     "metadata": {
      "needs_background": "light"
     },
     "output_type": "display_data"
    }
   ],
   "source": [
    "#Plotting the trajectory of real packet i.e. plotting the graph of mu vs r \n",
    "\n",
    "%pylab inline\n",
    "figure(figsize=(20,10))\n",
    "plot(sim.runner.rpacket_tracker[0].r,sim.runner.rpacket_tracker[0].mu)\n",
    "xlabel('r (Radius of the Current Shell)')\n",
    "ylabel('mu (Propagation Direction of the Packet)')"
   ]
  }
 ],
 "metadata": {
  "interpreter": {
   "hash": "14c438b85bc0c5441332c56c5d68185f391ef15672c5492b27fc26d9164316c1"
  },
  "kernelspec": {
   "display_name": "Python 3 (ipykernel)",
   "language": "python",
   "name": "python3"
  },
  "language_info": {
   "codemirror_mode": {
    "name": "ipython",
    "version": 3
   },
   "file_extension": ".py",
   "mimetype": "text/x-python",
   "name": "python",
   "nbconvert_exporter": "python",
   "pygments_lexer": "ipython3",
   "version": "3.7.12"
  }
 },
 "nbformat": 4,
 "nbformat_minor": 2
}
