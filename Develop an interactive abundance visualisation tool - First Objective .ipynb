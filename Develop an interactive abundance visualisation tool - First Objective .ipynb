{
 "cells": [
  {
   "cell_type": "code",
   "execution_count": 12,
   "id": "78668764",
   "metadata": {},
   "outputs": [],
   "source": [
    "#Import necessary libraries\n",
    "import numpy as np\n",
    "import matplotlib.pyplot as plt\n",
    "from tardis.io.atom_data import download_atom_data\n",
    "from tardis.simulation import Simulation\n",
    "from tardis import run_tardis\n",
    "from astropy import units as u\n",
    "from tardis.visualization import (\n",
    "    shell_info_from_simulation,\n",
    "    shell_info_from_hdf,\n",
    "    LineInfoWidget,\n",
    "    CustomAbundanceWidget)"
   ]
  },
  {
   "cell_type": "code",
   "execution_count": 8,
   "id": "3e2c6f0a",
   "metadata": {},
   "outputs": [],
   "source": [
    "# Download atomic data\n",
    "download_atom_data('kurucz_cd23_chianti_H_He')"
   ]
  },
  {
   "cell_type": "code",
   "execution_count": 11,
   "id": "f705dd8b",
   "metadata": {
    "scrolled": true
   },
   "outputs": [
    {
     "name": "stdout",
     "output_type": "stream",
     "text": [
      "# Example YAML configuration for TARDIS\r\n",
      "tardis_config_version: v1.0\r\n",
      "\r\n",
      "supernova:\r\n",
      "  luminosity_requested: 9.44 log_lsun\r\n",
      "  time_explosion: 13 day\r\n",
      "\r\n",
      "atom_data: kurucz_cd23_chianti_H_He.h5\r\n",
      "\r\n",
      "model:\r\n",
      "  structure:\r\n",
      "    type: specific\r\n",
      "    velocity:\r\n",
      "      start: 1.1e4 km/s\r\n",
      "      stop: 20000 km/s\r\n",
      "      num: 20\r\n",
      "    density:\r\n",
      "      type: branch85_w7\r\n",
      "\r\n",
      "  abundances:\r\n",
      "    type: uniform\r\n",
      "    O: 0.19\r\n",
      "    Mg: 0.03\r\n",
      "    Si: 0.52\r\n",
      "    S: 0.19\r\n",
      "    Ar: 0.04\r\n",
      "    Ca: 0.03\r\n",
      "\r\n",
      "plasma:\r\n",
      "  disable_electron_scattering: no\r\n",
      "  ionization: lte\r\n",
      "  excitation: lte\r\n",
      "  radiative_rates_type: dilute-blackbody\r\n",
      "  line_interaction_type: macroatom\r\n",
      "\r\n",
      "montecarlo:\r\n",
      "  seed: 23111963\r\n",
      "  no_of_packets: 4.0e+4\r\n",
      "  iterations: 20\r\n",
      "  nthreads: 1\r\n",
      "\r\n",
      "  last_no_of_packets: 1.e+5\r\n",
      "  no_of_virtual_packets: 10\r\n",
      "\r\n",
      "  convergence_strategy:\r\n",
      "    type: damped\r\n",
      "    damping_constant: 1.0\r\n",
      "    threshold: 0.05\r\n",
      "    fraction: 0.8\r\n",
      "    hold_iterations: 3\r\n",
      "    t_inner:\r\n",
      "      damping_constant: 0.5\r\n",
      "\r\n",
      "spectrum:\r\n",
      "  start: 500 angstrom\r\n",
      "  stop: 20000 angstrom\r\n",
      "  num: 10000\r\n"
     ]
    }
   ],
   "source": [
    "!wget -q -nc https://raw.githubusercontent.com/tardis-sn/tardis/master/docs/tardis_example.yml\n",
    "!cat tardis_example.yml"
   ]
  },
  {
   "cell_type": "code",
   "execution_count": 3,
   "id": "b35757ad",
   "metadata": {
    "scrolled": true
   },
   "outputs": [
    {
     "name": "stdout",
     "output_type": "stream",
     "text": [
      "[\u001b[1mtardis.plasma.standard_plasmas\u001b[0m][\u001b[1;37mINFO\u001b[0m   ]  \n",
      "\t\n",
      "\tReading Atomic Data from kurucz_cd23_chianti_H_He.h5 (\u001b[1mstandard_plasmas.py\u001b[0m:95)\n",
      "[\u001b[1mtardis.io.atom_data.util\u001b[0m][\u001b[1;37mINFO\u001b[0m   ]  \n",
      "\t\n",
      "\tAtom Data kurucz_cd23_chianti_H_He.h5 not found in local path.\n",
      "\tExists in TARDIS Data repo /home/utkarsh/Downloads/tardis-data/kurucz_cd23_chianti_H_He.h5 (\u001b[1mutil.py\u001b[0m:33)\n",
      "[\u001b[1mtardis.io.atom_data.base\u001b[0m][\u001b[1;37mINFO\u001b[0m   ]  \n",
      "\tReading Atom Data with: UUID = 6f7b09e887a311e7a06b246e96350010 MD5  = 864f1753714343c41f99cb065710cace  (\u001b[1mbase.py\u001b[0m:249)\n",
      "[\u001b[1mtardis.io.atom_data.base\u001b[0m][\u001b[1;37mINFO\u001b[0m   ]  \n",
      "\tNon provided Atomic Data: synpp_refs, photoionization_data, yg_data, two_photon_data (\u001b[1mbase.py\u001b[0m:253)\n",
      "[\u001b[1mpy.warnings         \u001b[0m][\u001b[1;33mWARNING\u001b[0m]  \n",
      "\t/home/utkarsh/anaconda3/envs/tardis/lib/python3.8/site-packages/tardis/plasma/properties/radiative_properties.py:93: RuntimeWarning: invalid value encountered in true_divide\n",
      "  (g_lower * n_upper) / (g_upper * n_lower)\n",
      " (\u001b[1mwarnings.py\u001b[0m:109)\n",
      "[\u001b[1mpy.warnings         \u001b[0m][\u001b[1;33mWARNING\u001b[0m]  \n",
      "\t/home/utkarsh/anaconda3/envs/tardis/lib/python3.8/site-packages/tardis/plasma/properties/radiative_properties.py:93: RuntimeWarning: invalid value encountered in true_divide\n",
      "  (g_lower * n_upper) / (g_upper * n_lower)\n",
      " (\u001b[1mwarnings.py\u001b[0m:109)\n",
      "[\u001b[1mtardis.simulation.base\u001b[0m][\u001b[1;37mINFO\u001b[0m   ]  \n",
      "\t\n",
      "\tStarting iteration 1 of 20 (\u001b[1mbase.py\u001b[0m:385)\n"
     ]
    },
    {
     "data": {
      "application/vnd.jupyter.widget-view+json": {
       "model_id": "55c9416f282c46eaaf7a198ae4ca780a",
       "version_major": 2,
       "version_minor": 0
      },
      "text/plain": [
       "TqdmHBox(children=(HTML(value='Iterations:', layout=Layout(width='6%')), FloatProgress(value=0.0, layout=Layou…"
      ]
     },
     "metadata": {},
     "output_type": "display_data"
    },
    {
     "data": {
      "application/vnd.jupyter.widget-view+json": {
       "model_id": "8cfc9ef857384ce6950445afa77a8fea",
       "version_major": 2,
       "version_minor": 0
      },
      "text/plain": [
       "TqdmHBox(children=(HTML(value='Packets:   ', layout=Layout(width='6%')), FloatProgress(value=0.0, layout=Layou…"
      ]
     },
     "metadata": {},
     "output_type": "display_data"
    },
    {
     "name": "stdout",
     "output_type": "stream",
     "text": [
      "[\u001b[1mtardis.simulation.base\u001b[0m][\u001b[1;37mINFO\u001b[0m   ]  \n",
      "\t\n",
      "\tLuminosity emitted   = 7.942e+42 erg / s\n",
      "\tLuminosity absorbed  = 2.659e+42 erg / s\n",
      "\tLuminosity requested = 1.059e+43 erg / s\n",
      " (\u001b[1mbase.py\u001b[0m:559)\n",
      "[\u001b[1mtardis.simulation.base\u001b[0m][\u001b[1;37mINFO\u001b[0m   ]  \n",
      "\t\n",
      "\tPlasma stratification: (\u001b[1mbase.py\u001b[0m:527)\n"
     ]
    },
    {
     "data": {
      "text/html": [
       "<style  type=\"text/css\" >\n",
       "</style><table id=\"T_eb33eff8_d119_11ed_8196_00155d01cde5\" ><thead>    <tr>        <th class=\"index_name level0\" >Shell No.</th>        <th class=\"col_heading level0 col0\" >t_rad</th>        <th class=\"col_heading level0 col1\" >next_t_rad</th>        <th class=\"col_heading level0 col2\" >w</th>        <th class=\"col_heading level0 col3\" >next_w</th>    </tr></thead><tbody>\n",
       "                <tr>\n",
       "                        <th id=\"T_eb33eff8_d119_11ed_8196_00155d01cde5level0_row0\" class=\"row_heading level0 row0\" >0</th>\n",
       "                        <td id=\"T_eb33eff8_d119_11ed_8196_00155d01cde5row0_col0\" class=\"data row0 col0\" >9.93e+03</td>\n",
       "                        <td id=\"T_eb33eff8_d119_11ed_8196_00155d01cde5row0_col1\" class=\"data row0 col1\" >1.01e+04</td>\n",
       "                        <td id=\"T_eb33eff8_d119_11ed_8196_00155d01cde5row0_col2\" class=\"data row0 col2\" >0.4</td>\n",
       "                        <td id=\"T_eb33eff8_d119_11ed_8196_00155d01cde5row0_col3\" class=\"data row0 col3\" >0.507</td>\n",
       "            </tr>\n",
       "            <tr>\n",
       "                        <th id=\"T_eb33eff8_d119_11ed_8196_00155d01cde5level0_row1\" class=\"row_heading level0 row1\" >5</th>\n",
       "                        <td id=\"T_eb33eff8_d119_11ed_8196_00155d01cde5row1_col0\" class=\"data row1 col0\" >9.85e+03</td>\n",
       "                        <td id=\"T_eb33eff8_d119_11ed_8196_00155d01cde5row1_col1\" class=\"data row1 col1\" >1.02e+04</td>\n",
       "                        <td id=\"T_eb33eff8_d119_11ed_8196_00155d01cde5row1_col2\" class=\"data row1 col2\" >0.211</td>\n",
       "                        <td id=\"T_eb33eff8_d119_11ed_8196_00155d01cde5row1_col3\" class=\"data row1 col3\" >0.197</td>\n",
       "            </tr>\n",
       "            <tr>\n",
       "                        <th id=\"T_eb33eff8_d119_11ed_8196_00155d01cde5level0_row2\" class=\"row_heading level0 row2\" >10</th>\n",
       "                        <td id=\"T_eb33eff8_d119_11ed_8196_00155d01cde5row2_col0\" class=\"data row2 col0\" >9.78e+03</td>\n",
       "                        <td id=\"T_eb33eff8_d119_11ed_8196_00155d01cde5row2_col1\" class=\"data row2 col1\" >1.01e+04</td>\n",
       "                        <td id=\"T_eb33eff8_d119_11ed_8196_00155d01cde5row2_col2\" class=\"data row2 col2\" >0.143</td>\n",
       "                        <td id=\"T_eb33eff8_d119_11ed_8196_00155d01cde5row2_col3\" class=\"data row2 col3\" >0.117</td>\n",
       "            </tr>\n",
       "            <tr>\n",
       "                        <th id=\"T_eb33eff8_d119_11ed_8196_00155d01cde5level0_row3\" class=\"row_heading level0 row3\" >15</th>\n",
       "                        <td id=\"T_eb33eff8_d119_11ed_8196_00155d01cde5row3_col0\" class=\"data row3 col0\" >9.71e+03</td>\n",
       "                        <td id=\"T_eb33eff8_d119_11ed_8196_00155d01cde5row3_col1\" class=\"data row3 col1\" >9.87e+03</td>\n",
       "                        <td id=\"T_eb33eff8_d119_11ed_8196_00155d01cde5row3_col2\" class=\"data row3 col2\" >0.105</td>\n",
       "                        <td id=\"T_eb33eff8_d119_11ed_8196_00155d01cde5row3_col3\" class=\"data row3 col3\" >0.0869</td>\n",
       "            </tr>\n",
       "    </tbody></table>"
      ],
      "text/plain": [
       "<pandas.io.formats.style.Styler at 0x7f3ec8f57fd0>"
      ]
     },
     "metadata": {},
     "output_type": "display_data"
    },
    {
     "name": "stdout",
     "output_type": "stream",
     "text": [
      "[\u001b[1mtardis.simulation.base\u001b[0m][\u001b[1;37mINFO\u001b[0m   ]  \n",
      "\t\n",
      "\tCurrent t_inner = 9933.952 K\n",
      "\tExpected t_inner for next iteration = 10703.212 K\n",
      " (\u001b[1mbase.py\u001b[0m:554)\n",
      "[\u001b[1mpy.warnings         \u001b[0m][\u001b[1;33mWARNING\u001b[0m]  \n",
      "\t/home/utkarsh/anaconda3/envs/tardis/lib/python3.8/site-packages/tardis/plasma/properties/radiative_properties.py:93: RuntimeWarning: invalid value encountered in true_divide\n",
      "  (g_lower * n_upper) / (g_upper * n_lower)\n",
      " (\u001b[1mwarnings.py\u001b[0m:109)\n"
     ]
    },
    {
     "data": {
      "application/vnd.jupyter.widget-view+json": {
       "model_id": "59c1b0788d4b47ebab3412d60ace06fa",
       "version_major": 2,
       "version_minor": 0
      },
      "text/plain": [
       "VBox(children=(FigureWidget({\n",
       "    'data': [{'type': 'scatter', 'uid': '9e40c88d-6f14-4b4c-8b66-2bd66b63c2b6', …"
      ]
     },
     "metadata": {},
     "output_type": "display_data"
    },
    {
     "name": "stdout",
     "output_type": "stream",
     "text": [
      "[\u001b[1mtardis.simulation.base\u001b[0m][\u001b[1;37mINFO\u001b[0m   ]  \n",
      "\t\n",
      "\tStarting iteration 2 of 20 (\u001b[1mbase.py\u001b[0m:385)\n",
      "[\u001b[1mtardis.simulation.base\u001b[0m][\u001b[1;37mINFO\u001b[0m   ]  \n",
      "\t\n",
      "\tLuminosity emitted   = 1.071e+43 erg / s\n",
      "\tLuminosity absorbed  = 3.576e+42 erg / s\n",
      "\tLuminosity requested = 1.059e+43 erg / s\n",
      " (\u001b[1mbase.py\u001b[0m:559)\n",
      "[\u001b[1mtardis.simulation.base\u001b[0m][\u001b[1;37mINFO\u001b[0m   ]  \n",
      "\t\n",
      "\tPlasma stratification: (\u001b[1mbase.py\u001b[0m:527)\n"
     ]
    },
    {
     "data": {
      "text/html": [
       "<style  type=\"text/css\" >\n",
       "</style><table id=\"T_f0c4e116_d119_11ed_8196_00155d01cde5\" ><thead>    <tr>        <th class=\"index_name level0\" >Shell No.</th>        <th class=\"col_heading level0 col0\" >t_rad</th>        <th class=\"col_heading level0 col1\" >next_t_rad</th>        <th class=\"col_heading level0 col2\" >w</th>        <th class=\"col_heading level0 col3\" >next_w</th>    </tr></thead><tbody>\n",
       "                <tr>\n",
       "                        <th id=\"T_f0c4e116_d119_11ed_8196_00155d01cde5level0_row0\" class=\"row_heading level0 row0\" >0</th>\n",
       "                        <td id=\"T_f0c4e116_d119_11ed_8196_00155d01cde5row0_col0\" class=\"data row0 col0\" >1.01e+04</td>\n",
       "                        <td id=\"T_f0c4e116_d119_11ed_8196_00155d01cde5row0_col1\" class=\"data row0 col1\" >1.08e+04</td>\n",
       "                        <td id=\"T_f0c4e116_d119_11ed_8196_00155d01cde5row0_col2\" class=\"data row0 col2\" >0.507</td>\n",
       "                        <td id=\"T_f0c4e116_d119_11ed_8196_00155d01cde5row0_col3\" class=\"data row0 col3\" >0.525</td>\n",
       "            </tr>\n",
       "            <tr>\n",
       "                        <th id=\"T_f0c4e116_d119_11ed_8196_00155d01cde5level0_row1\" class=\"row_heading level0 row1\" >5</th>\n",
       "                        <td id=\"T_f0c4e116_d119_11ed_8196_00155d01cde5row1_col0\" class=\"data row1 col0\" >1.02e+04</td>\n",
       "                        <td id=\"T_f0c4e116_d119_11ed_8196_00155d01cde5row1_col1\" class=\"data row1 col1\" >1.1e+04</td>\n",
       "                        <td id=\"T_f0c4e116_d119_11ed_8196_00155d01cde5row1_col2\" class=\"data row1 col2\" >0.197</td>\n",
       "                        <td id=\"T_f0c4e116_d119_11ed_8196_00155d01cde5row1_col3\" class=\"data row1 col3\" >0.203</td>\n",
       "            </tr>\n",
       "            <tr>\n",
       "                        <th id=\"T_f0c4e116_d119_11ed_8196_00155d01cde5level0_row2\" class=\"row_heading level0 row2\" >10</th>\n",
       "                        <td id=\"T_f0c4e116_d119_11ed_8196_00155d01cde5row2_col0\" class=\"data row2 col0\" >1.01e+04</td>\n",
       "                        <td id=\"T_f0c4e116_d119_11ed_8196_00155d01cde5row2_col1\" class=\"data row2 col1\" >1.08e+04</td>\n",
       "                        <td id=\"T_f0c4e116_d119_11ed_8196_00155d01cde5row2_col2\" class=\"data row2 col2\" >0.117</td>\n",
       "                        <td id=\"T_f0c4e116_d119_11ed_8196_00155d01cde5row2_col3\" class=\"data row2 col3\" >0.125</td>\n",
       "            </tr>\n",
       "            <tr>\n",
       "                        <th id=\"T_f0c4e116_d119_11ed_8196_00155d01cde5level0_row3\" class=\"row_heading level0 row3\" >15</th>\n",
       "                        <td id=\"T_f0c4e116_d119_11ed_8196_00155d01cde5row3_col0\" class=\"data row3 col0\" >9.87e+03</td>\n",
       "                        <td id=\"T_f0c4e116_d119_11ed_8196_00155d01cde5row3_col1\" class=\"data row3 col1\" >1.05e+04</td>\n",
       "                        <td id=\"T_f0c4e116_d119_11ed_8196_00155d01cde5row3_col2\" class=\"data row3 col2\" >0.0869</td>\n",
       "                        <td id=\"T_f0c4e116_d119_11ed_8196_00155d01cde5row3_col3\" class=\"data row3 col3\" >0.0933</td>\n",
       "            </tr>\n",
       "    </tbody></table>"
      ],
      "text/plain": [
       "<pandas.io.formats.style.Styler at 0x7f3eccbf8e50>"
      ]
     },
     "metadata": {},
     "output_type": "display_data"
    },
    {
     "name": "stdout",
     "output_type": "stream",
     "text": [
      "[\u001b[1mtardis.simulation.base\u001b[0m][\u001b[1;37mINFO\u001b[0m   ]  \n",
      "\t\n",
      "\tCurrent t_inner = 10703.212 K\n",
      "\tExpected t_inner for next iteration = 10673.712 K\n",
      " (\u001b[1mbase.py\u001b[0m:554)\n",
      "[\u001b[1mpy.warnings         \u001b[0m][\u001b[1;33mWARNING\u001b[0m]  \n",
      "\t/home/utkarsh/anaconda3/envs/tardis/lib/python3.8/site-packages/tardis/plasma/properties/radiative_properties.py:93: RuntimeWarning:\n",
      "\n",
      "invalid value encountered in true_divide\n",
      "\n",
      " (\u001b[1mwarnings.py\u001b[0m:109)\n",
      "[\u001b[1mtardis.simulation.base\u001b[0m][\u001b[1;37mINFO\u001b[0m   ]  \n",
      "\t\n",
      "\tStarting iteration 3 of 20 (\u001b[1mbase.py\u001b[0m:385)\n",
      "[\u001b[1mtardis.simulation.base\u001b[0m][\u001b[1;37mINFO\u001b[0m   ]  \n",
      "\t\n",
      "\tLuminosity emitted   = 1.074e+43 erg / s\n",
      "\tLuminosity absorbed  = 3.391e+42 erg / s\n",
      "\tLuminosity requested = 1.059e+43 erg / s\n",
      " (\u001b[1mbase.py\u001b[0m:559)\n",
      "[\u001b[1mtardis.simulation.base\u001b[0m][\u001b[1;37mINFO\u001b[0m   ]  \n",
      "\t\n",
      "\tPlasma stratification: (\u001b[1mbase.py\u001b[0m:527)\n"
     ]
    },
    {
     "data": {
      "text/html": [
       "<style  type=\"text/css\" >\n",
       "</style><table id=\"T_f1b27ac0_d119_11ed_8196_00155d01cde5\" ><thead>    <tr>        <th class=\"index_name level0\" >Shell No.</th>        <th class=\"col_heading level0 col0\" >t_rad</th>        <th class=\"col_heading level0 col1\" >next_t_rad</th>        <th class=\"col_heading level0 col2\" >w</th>        <th class=\"col_heading level0 col3\" >next_w</th>    </tr></thead><tbody>\n",
       "                <tr>\n",
       "                        <th id=\"T_f1b27ac0_d119_11ed_8196_00155d01cde5level0_row0\" class=\"row_heading level0 row0\" >0</th>\n",
       "                        <td id=\"T_f1b27ac0_d119_11ed_8196_00155d01cde5row0_col0\" class=\"data row0 col0\" >1.08e+04</td>\n",
       "                        <td id=\"T_f1b27ac0_d119_11ed_8196_00155d01cde5row0_col1\" class=\"data row0 col1\" >1.1e+04</td>\n",
       "                        <td id=\"T_f1b27ac0_d119_11ed_8196_00155d01cde5row0_col2\" class=\"data row0 col2\" >0.525</td>\n",
       "                        <td id=\"T_f1b27ac0_d119_11ed_8196_00155d01cde5row0_col3\" class=\"data row0 col3\" >0.483</td>\n",
       "            </tr>\n",
       "            <tr>\n",
       "                        <th id=\"T_f1b27ac0_d119_11ed_8196_00155d01cde5level0_row1\" class=\"row_heading level0 row1\" >5</th>\n",
       "                        <td id=\"T_f1b27ac0_d119_11ed_8196_00155d01cde5row1_col0\" class=\"data row1 col0\" >1.1e+04</td>\n",
       "                        <td id=\"T_f1b27ac0_d119_11ed_8196_00155d01cde5row1_col1\" class=\"data row1 col1\" >1.12e+04</td>\n",
       "                        <td id=\"T_f1b27ac0_d119_11ed_8196_00155d01cde5row1_col2\" class=\"data row1 col2\" >0.203</td>\n",
       "                        <td id=\"T_f1b27ac0_d119_11ed_8196_00155d01cde5row1_col3\" class=\"data row1 col3\" >0.189</td>\n",
       "            </tr>\n",
       "            <tr>\n",
       "                        <th id=\"T_f1b27ac0_d119_11ed_8196_00155d01cde5level0_row2\" class=\"row_heading level0 row2\" >10</th>\n",
       "                        <td id=\"T_f1b27ac0_d119_11ed_8196_00155d01cde5row2_col0\" class=\"data row2 col0\" >1.08e+04</td>\n",
       "                        <td id=\"T_f1b27ac0_d119_11ed_8196_00155d01cde5row2_col1\" class=\"data row2 col1\" >1.1e+04</td>\n",
       "                        <td id=\"T_f1b27ac0_d119_11ed_8196_00155d01cde5row2_col2\" class=\"data row2 col2\" >0.125</td>\n",
       "                        <td id=\"T_f1b27ac0_d119_11ed_8196_00155d01cde5row2_col3\" class=\"data row2 col3\" >0.118</td>\n",
       "            </tr>\n",
       "            <tr>\n",
       "                        <th id=\"T_f1b27ac0_d119_11ed_8196_00155d01cde5level0_row3\" class=\"row_heading level0 row3\" >15</th>\n",
       "                        <td id=\"T_f1b27ac0_d119_11ed_8196_00155d01cde5row3_col0\" class=\"data row3 col0\" >1.05e+04</td>\n",
       "                        <td id=\"T_f1b27ac0_d119_11ed_8196_00155d01cde5row3_col1\" class=\"data row3 col1\" >1.06e+04</td>\n",
       "                        <td id=\"T_f1b27ac0_d119_11ed_8196_00155d01cde5row3_col2\" class=\"data row3 col2\" >0.0933</td>\n",
       "                        <td id=\"T_f1b27ac0_d119_11ed_8196_00155d01cde5row3_col3\" class=\"data row3 col3\" >0.0895</td>\n",
       "            </tr>\n",
       "    </tbody></table>"
      ],
      "text/plain": [
       "<pandas.io.formats.style.Styler at 0x7f3ecce8fb20>"
      ]
     },
     "metadata": {},
     "output_type": "display_data"
    },
    {
     "name": "stdout",
     "output_type": "stream",
     "text": [
      "[\u001b[1mtardis.simulation.base\u001b[0m][\u001b[1;37mINFO\u001b[0m   ]  \n",
      "\t\n",
      "\tCurrent t_inner = 10673.712 K\n",
      "\tExpected t_inner for next iteration = 10635.953 K\n",
      " (\u001b[1mbase.py\u001b[0m:554)\n",
      "[\u001b[1mtardis.simulation.base\u001b[0m][\u001b[1;37mINFO\u001b[0m   ]  \n",
      "\t\n",
      "\tStarting iteration 4 of 20 (\u001b[1mbase.py\u001b[0m:385)\n",
      "[\u001b[1mtardis.simulation.base\u001b[0m][\u001b[1;37mINFO\u001b[0m   ]  \n",
      "\t\n",
      "\tLuminosity emitted   = 1.058e+43 erg / s\n",
      "\tLuminosity absorbed  = 3.352e+42 erg / s\n",
      "\tLuminosity requested = 1.059e+43 erg / s\n",
      " (\u001b[1mbase.py\u001b[0m:559)\n",
      "[\u001b[1mtardis.simulation.base\u001b[0m][\u001b[1;37mINFO\u001b[0m   ]  \n",
      "\t\n",
      "\tPlasma stratification: (\u001b[1mbase.py\u001b[0m:527)\n"
     ]
    },
    {
     "data": {
      "text/html": [
       "<style  type=\"text/css\" >\n",
       "</style><table id=\"T_f29cd37c_d119_11ed_8196_00155d01cde5\" ><thead>    <tr>        <th class=\"index_name level0\" >Shell No.</th>        <th class=\"col_heading level0 col0\" >t_rad</th>        <th class=\"col_heading level0 col1\" >next_t_rad</th>        <th class=\"col_heading level0 col2\" >w</th>        <th class=\"col_heading level0 col3\" >next_w</th>    </tr></thead><tbody>\n",
       "                <tr>\n",
       "                        <th id=\"T_f29cd37c_d119_11ed_8196_00155d01cde5level0_row0\" class=\"row_heading level0 row0\" >0</th>\n",
       "                        <td id=\"T_f29cd37c_d119_11ed_8196_00155d01cde5row0_col0\" class=\"data row0 col0\" >1.1e+04</td>\n",
       "                        <td id=\"T_f29cd37c_d119_11ed_8196_00155d01cde5row0_col1\" class=\"data row0 col1\" >1.1e+04</td>\n",
       "                        <td id=\"T_f29cd37c_d119_11ed_8196_00155d01cde5row0_col2\" class=\"data row0 col2\" >0.483</td>\n",
       "                        <td id=\"T_f29cd37c_d119_11ed_8196_00155d01cde5row0_col3\" class=\"data row0 col3\" >0.469</td>\n",
       "            </tr>\n",
       "            <tr>\n",
       "                        <th id=\"T_f29cd37c_d119_11ed_8196_00155d01cde5level0_row1\" class=\"row_heading level0 row1\" >5</th>\n",
       "                        <td id=\"T_f29cd37c_d119_11ed_8196_00155d01cde5row1_col0\" class=\"data row1 col0\" >1.12e+04</td>\n",
       "                        <td id=\"T_f29cd37c_d119_11ed_8196_00155d01cde5row1_col1\" class=\"data row1 col1\" >1.12e+04</td>\n",
       "                        <td id=\"T_f29cd37c_d119_11ed_8196_00155d01cde5row1_col2\" class=\"data row1 col2\" >0.189</td>\n",
       "                        <td id=\"T_f29cd37c_d119_11ed_8196_00155d01cde5row1_col3\" class=\"data row1 col3\" >0.182</td>\n",
       "            </tr>\n",
       "            <tr>\n",
       "                        <th id=\"T_f29cd37c_d119_11ed_8196_00155d01cde5level0_row2\" class=\"row_heading level0 row2\" >10</th>\n",
       "                        <td id=\"T_f29cd37c_d119_11ed_8196_00155d01cde5row2_col0\" class=\"data row2 col0\" >1.1e+04</td>\n",
       "                        <td id=\"T_f29cd37c_d119_11ed_8196_00155d01cde5row2_col1\" class=\"data row2 col1\" >1.1e+04</td>\n",
       "                        <td id=\"T_f29cd37c_d119_11ed_8196_00155d01cde5row2_col2\" class=\"data row2 col2\" >0.118</td>\n",
       "                        <td id=\"T_f29cd37c_d119_11ed_8196_00155d01cde5row2_col3\" class=\"data row2 col3\" >0.113</td>\n",
       "            </tr>\n",
       "            <tr>\n",
       "                        <th id=\"T_f29cd37c_d119_11ed_8196_00155d01cde5level0_row3\" class=\"row_heading level0 row3\" >15</th>\n",
       "                        <td id=\"T_f29cd37c_d119_11ed_8196_00155d01cde5row3_col0\" class=\"data row3 col0\" >1.06e+04</td>\n",
       "                        <td id=\"T_f29cd37c_d119_11ed_8196_00155d01cde5row3_col1\" class=\"data row3 col1\" >1.07e+04</td>\n",
       "                        <td id=\"T_f29cd37c_d119_11ed_8196_00155d01cde5row3_col2\" class=\"data row3 col2\" >0.0895</td>\n",
       "                        <td id=\"T_f29cd37c_d119_11ed_8196_00155d01cde5row3_col3\" class=\"data row3 col3\" >0.0861</td>\n",
       "            </tr>\n",
       "    </tbody></table>"
      ],
      "text/plain": [
       "<pandas.io.formats.style.Styler at 0x7f3ec8f49880>"
      ]
     },
     "metadata": {},
     "output_type": "display_data"
    },
    {
     "name": "stdout",
     "output_type": "stream",
     "text": [
      "[\u001b[1mtardis.simulation.base\u001b[0m][\u001b[1;37mINFO\u001b[0m   ]  \n",
      "\t\n",
      "\tCurrent t_inner = 10635.953 K\n",
      "\tExpected t_inner for next iteration = 10638.407 K\n",
      " (\u001b[1mbase.py\u001b[0m:554)\n",
      "[\u001b[1mtardis.simulation.base\u001b[0m][\u001b[1;37mINFO\u001b[0m   ]  \n",
      "\t\n",
      "\tStarting iteration 5 of 20 (\u001b[1mbase.py\u001b[0m:385)\n",
      "[\u001b[1mtardis.simulation.base\u001b[0m][\u001b[1;37mINFO\u001b[0m   ]  \n",
      "\t\n",
      "\tLuminosity emitted   = 1.055e+43 erg / s\n",
      "\tLuminosity absorbed  = 3.399e+42 erg / s\n",
      "\tLuminosity requested = 1.059e+43 erg / s\n",
      " (\u001b[1mbase.py\u001b[0m:559)\n",
      "[\u001b[1mtardis.simulation.base\u001b[0m][\u001b[1;37mINFO\u001b[0m   ]  \n",
      "\tIteration converged 1/4 consecutive times. (\u001b[1mbase.py\u001b[0m:266)\n",
      "[\u001b[1mtardis.simulation.base\u001b[0m][\u001b[1;37mINFO\u001b[0m   ]  \n",
      "\t\n",
      "\tPlasma stratification: (\u001b[1mbase.py\u001b[0m:527)\n"
     ]
    },
    {
     "data": {
      "text/html": [
       "<style  type=\"text/css\" >\n",
       "</style><table id=\"T_f3806dda_d119_11ed_8196_00155d01cde5\" ><thead>    <tr>        <th class=\"index_name level0\" >Shell No.</th>        <th class=\"col_heading level0 col0\" >t_rad</th>        <th class=\"col_heading level0 col1\" >next_t_rad</th>        <th class=\"col_heading level0 col2\" >w</th>        <th class=\"col_heading level0 col3\" >next_w</th>    </tr></thead><tbody>\n",
       "                <tr>\n",
       "                        <th id=\"T_f3806dda_d119_11ed_8196_00155d01cde5level0_row0\" class=\"row_heading level0 row0\" >0</th>\n",
       "                        <td id=\"T_f3806dda_d119_11ed_8196_00155d01cde5row0_col0\" class=\"data row0 col0\" >1.1e+04</td>\n",
       "                        <td id=\"T_f3806dda_d119_11ed_8196_00155d01cde5row0_col1\" class=\"data row0 col1\" >1.1e+04</td>\n",
       "                        <td id=\"T_f3806dda_d119_11ed_8196_00155d01cde5row0_col2\" class=\"data row0 col2\" >0.469</td>\n",
       "                        <td id=\"T_f3806dda_d119_11ed_8196_00155d01cde5row0_col3\" class=\"data row0 col3\" >0.479</td>\n",
       "            </tr>\n",
       "            <tr>\n",
       "                        <th id=\"T_f3806dda_d119_11ed_8196_00155d01cde5level0_row1\" class=\"row_heading level0 row1\" >5</th>\n",
       "                        <td id=\"T_f3806dda_d119_11ed_8196_00155d01cde5row1_col0\" class=\"data row1 col0\" >1.12e+04</td>\n",
       "                        <td id=\"T_f3806dda_d119_11ed_8196_00155d01cde5row1_col1\" class=\"data row1 col1\" >1.13e+04</td>\n",
       "                        <td id=\"T_f3806dda_d119_11ed_8196_00155d01cde5row1_col2\" class=\"data row1 col2\" >0.182</td>\n",
       "                        <td id=\"T_f3806dda_d119_11ed_8196_00155d01cde5row1_col3\" class=\"data row1 col3\" >0.178</td>\n",
       "            </tr>\n",
       "            <tr>\n",
       "                        <th id=\"T_f3806dda_d119_11ed_8196_00155d01cde5level0_row2\" class=\"row_heading level0 row2\" >10</th>\n",
       "                        <td id=\"T_f3806dda_d119_11ed_8196_00155d01cde5row2_col0\" class=\"data row2 col0\" >1.1e+04</td>\n",
       "                        <td id=\"T_f3806dda_d119_11ed_8196_00155d01cde5row2_col1\" class=\"data row2 col1\" >1.1e+04</td>\n",
       "                        <td id=\"T_f3806dda_d119_11ed_8196_00155d01cde5row2_col2\" class=\"data row2 col2\" >0.113</td>\n",
       "                        <td id=\"T_f3806dda_d119_11ed_8196_00155d01cde5row2_col3\" class=\"data row2 col3\" >0.113</td>\n",
       "            </tr>\n",
       "            <tr>\n",
       "                        <th id=\"T_f3806dda_d119_11ed_8196_00155d01cde5level0_row3\" class=\"row_heading level0 row3\" >15</th>\n",
       "                        <td id=\"T_f3806dda_d119_11ed_8196_00155d01cde5row3_col0\" class=\"data row3 col0\" >1.07e+04</td>\n",
       "                        <td id=\"T_f3806dda_d119_11ed_8196_00155d01cde5row3_col1\" class=\"data row3 col1\" >1.07e+04</td>\n",
       "                        <td id=\"T_f3806dda_d119_11ed_8196_00155d01cde5row3_col2\" class=\"data row3 col2\" >0.0861</td>\n",
       "                        <td id=\"T_f3806dda_d119_11ed_8196_00155d01cde5row3_col3\" class=\"data row3 col3\" >0.0839</td>\n",
       "            </tr>\n",
       "    </tbody></table>"
      ],
      "text/plain": [
       "<pandas.io.formats.style.Styler at 0x7f3ec8f496d0>"
      ]
     },
     "metadata": {},
     "output_type": "display_data"
    },
    {
     "name": "stdout",
     "output_type": "stream",
     "text": [
      "[\u001b[1mtardis.simulation.base\u001b[0m][\u001b[1;37mINFO\u001b[0m   ]  \n",
      "\t\n",
      "\tCurrent t_inner = 10638.407 K\n",
      "\tExpected t_inner for next iteration = 10650.202 K\n",
      " (\u001b[1mbase.py\u001b[0m:554)\n",
      "[\u001b[1mtardis.simulation.base\u001b[0m][\u001b[1;37mINFO\u001b[0m   ]  \n",
      "\t\n",
      "\tStarting iteration 6 of 20 (\u001b[1mbase.py\u001b[0m:385)\n",
      "[\u001b[1mtardis.simulation.base\u001b[0m][\u001b[1;37mINFO\u001b[0m   ]  \n",
      "\t\n",
      "\tLuminosity emitted   = 1.061e+43 erg / s\n",
      "\tLuminosity absorbed  = 3.398e+42 erg / s\n",
      "\tLuminosity requested = 1.059e+43 erg / s\n",
      " (\u001b[1mbase.py\u001b[0m:559)\n",
      "[\u001b[1mtardis.simulation.base\u001b[0m][\u001b[1;37mINFO\u001b[0m   ]  \n",
      "\tIteration converged 2/4 consecutive times. (\u001b[1mbase.py\u001b[0m:266)\n",
      "[\u001b[1mtardis.simulation.base\u001b[0m][\u001b[1;37mINFO\u001b[0m   ]  \n",
      "\t\n",
      "\tPlasma stratification: (\u001b[1mbase.py\u001b[0m:527)\n"
     ]
    },
    {
     "data": {
      "text/html": [
       "<style  type=\"text/css\" >\n",
       "</style><table id=\"T_f46cef3e_d119_11ed_8196_00155d01cde5\" ><thead>    <tr>        <th class=\"index_name level0\" >Shell No.</th>        <th class=\"col_heading level0 col0\" >t_rad</th>        <th class=\"col_heading level0 col1\" >next_t_rad</th>        <th class=\"col_heading level0 col2\" >w</th>        <th class=\"col_heading level0 col3\" >next_w</th>    </tr></thead><tbody>\n",
       "                <tr>\n",
       "                        <th id=\"T_f46cef3e_d119_11ed_8196_00155d01cde5level0_row0\" class=\"row_heading level0 row0\" >0</th>\n",
       "                        <td id=\"T_f46cef3e_d119_11ed_8196_00155d01cde5row0_col0\" class=\"data row0 col0\" >1.1e+04</td>\n",
       "                        <td id=\"T_f46cef3e_d119_11ed_8196_00155d01cde5row0_col1\" class=\"data row0 col1\" >1.1e+04</td>\n",
       "                        <td id=\"T_f46cef3e_d119_11ed_8196_00155d01cde5row0_col2\" class=\"data row0 col2\" >0.479</td>\n",
       "                        <td id=\"T_f46cef3e_d119_11ed_8196_00155d01cde5row0_col3\" class=\"data row0 col3\" >0.47</td>\n",
       "            </tr>\n",
       "            <tr>\n",
       "                        <th id=\"T_f46cef3e_d119_11ed_8196_00155d01cde5level0_row1\" class=\"row_heading level0 row1\" >5</th>\n",
       "                        <td id=\"T_f46cef3e_d119_11ed_8196_00155d01cde5row1_col0\" class=\"data row1 col0\" >1.13e+04</td>\n",
       "                        <td id=\"T_f46cef3e_d119_11ed_8196_00155d01cde5row1_col1\" class=\"data row1 col1\" >1.12e+04</td>\n",
       "                        <td id=\"T_f46cef3e_d119_11ed_8196_00155d01cde5row1_col2\" class=\"data row1 col2\" >0.178</td>\n",
       "                        <td id=\"T_f46cef3e_d119_11ed_8196_00155d01cde5row1_col3\" class=\"data row1 col3\" >0.185</td>\n",
       "            </tr>\n",
       "            <tr>\n",
       "                        <th id=\"T_f46cef3e_d119_11ed_8196_00155d01cde5level0_row2\" class=\"row_heading level0 row2\" >10</th>\n",
       "                        <td id=\"T_f46cef3e_d119_11ed_8196_00155d01cde5row2_col0\" class=\"data row2 col0\" >1.1e+04</td>\n",
       "                        <td id=\"T_f46cef3e_d119_11ed_8196_00155d01cde5row2_col1\" class=\"data row2 col1\" >1.11e+04</td>\n",
       "                        <td id=\"T_f46cef3e_d119_11ed_8196_00155d01cde5row2_col2\" class=\"data row2 col2\" >0.113</td>\n",
       "                        <td id=\"T_f46cef3e_d119_11ed_8196_00155d01cde5row2_col3\" class=\"data row2 col3\" >0.112</td>\n",
       "            </tr>\n",
       "            <tr>\n",
       "                        <th id=\"T_f46cef3e_d119_11ed_8196_00155d01cde5level0_row3\" class=\"row_heading level0 row3\" >15</th>\n",
       "                        <td id=\"T_f46cef3e_d119_11ed_8196_00155d01cde5row3_col0\" class=\"data row3 col0\" >1.07e+04</td>\n",
       "                        <td id=\"T_f46cef3e_d119_11ed_8196_00155d01cde5row3_col1\" class=\"data row3 col1\" >1.07e+04</td>\n",
       "                        <td id=\"T_f46cef3e_d119_11ed_8196_00155d01cde5row3_col2\" class=\"data row3 col2\" >0.0839</td>\n",
       "                        <td id=\"T_f46cef3e_d119_11ed_8196_00155d01cde5row3_col3\" class=\"data row3 col3\" >0.0856</td>\n",
       "            </tr>\n",
       "    </tbody></table>"
      ],
      "text/plain": [
       "<pandas.io.formats.style.Styler at 0x7f3ec8f57ca0>"
      ]
     },
     "metadata": {},
     "output_type": "display_data"
    },
    {
     "name": "stdout",
     "output_type": "stream",
     "text": [
      "[\u001b[1mtardis.simulation.base\u001b[0m][\u001b[1;37mINFO\u001b[0m   ]  \n",
      "\t\n",
      "\tCurrent t_inner = 10650.202 K\n",
      "\tExpected t_inner for next iteration = 10645.955 K\n",
      " (\u001b[1mbase.py\u001b[0m:554)\n",
      "[\u001b[1mtardis.simulation.base\u001b[0m][\u001b[1;37mINFO\u001b[0m   ]  \n",
      "\t\n",
      "\tStarting iteration 7 of 20 (\u001b[1mbase.py\u001b[0m:385)\n",
      "[\u001b[1mtardis.simulation.base\u001b[0m][\u001b[1;37mINFO\u001b[0m   ]  \n",
      "\t\n",
      "\tLuminosity emitted   = 1.061e+43 erg / s\n",
      "\tLuminosity absorbed  = 3.382e+42 erg / s\n",
      "\tLuminosity requested = 1.059e+43 erg / s\n",
      " (\u001b[1mbase.py\u001b[0m:559)\n",
      "[\u001b[1mtardis.simulation.base\u001b[0m][\u001b[1;37mINFO\u001b[0m   ]  \n",
      "\tIteration converged 3/4 consecutive times. (\u001b[1mbase.py\u001b[0m:266)\n",
      "[\u001b[1mtardis.simulation.base\u001b[0m][\u001b[1;37mINFO\u001b[0m   ]  \n",
      "\t\n",
      "\tPlasma stratification: (\u001b[1mbase.py\u001b[0m:527)\n"
     ]
    },
    {
     "data": {
      "text/html": [
       "<style  type=\"text/css\" >\n",
       "</style><table id=\"T_f558046a_d119_11ed_8196_00155d01cde5\" ><thead>    <tr>        <th class=\"index_name level0\" >Shell No.</th>        <th class=\"col_heading level0 col0\" >t_rad</th>        <th class=\"col_heading level0 col1\" >next_t_rad</th>        <th class=\"col_heading level0 col2\" >w</th>        <th class=\"col_heading level0 col3\" >next_w</th>    </tr></thead><tbody>\n",
       "                <tr>\n",
       "                        <th id=\"T_f558046a_d119_11ed_8196_00155d01cde5level0_row0\" class=\"row_heading level0 row0\" >0</th>\n",
       "                        <td id=\"T_f558046a_d119_11ed_8196_00155d01cde5row0_col0\" class=\"data row0 col0\" >1.1e+04</td>\n",
       "                        <td id=\"T_f558046a_d119_11ed_8196_00155d01cde5row0_col1\" class=\"data row0 col1\" >1.1e+04</td>\n",
       "                        <td id=\"T_f558046a_d119_11ed_8196_00155d01cde5row0_col2\" class=\"data row0 col2\" >0.47</td>\n",
       "                        <td id=\"T_f558046a_d119_11ed_8196_00155d01cde5row0_col3\" class=\"data row0 col3\" >0.47</td>\n",
       "            </tr>\n",
       "            <tr>\n",
       "                        <th id=\"T_f558046a_d119_11ed_8196_00155d01cde5level0_row1\" class=\"row_heading level0 row1\" >5</th>\n",
       "                        <td id=\"T_f558046a_d119_11ed_8196_00155d01cde5row1_col0\" class=\"data row1 col0\" >1.12e+04</td>\n",
       "                        <td id=\"T_f558046a_d119_11ed_8196_00155d01cde5row1_col1\" class=\"data row1 col1\" >1.13e+04</td>\n",
       "                        <td id=\"T_f558046a_d119_11ed_8196_00155d01cde5row1_col2\" class=\"data row1 col2\" >0.185</td>\n",
       "                        <td id=\"T_f558046a_d119_11ed_8196_00155d01cde5row1_col3\" class=\"data row1 col3\" >0.178</td>\n",
       "            </tr>\n",
       "            <tr>\n",
       "                        <th id=\"T_f558046a_d119_11ed_8196_00155d01cde5level0_row2\" class=\"row_heading level0 row2\" >10</th>\n",
       "                        <td id=\"T_f558046a_d119_11ed_8196_00155d01cde5row2_col0\" class=\"data row2 col0\" >1.11e+04</td>\n",
       "                        <td id=\"T_f558046a_d119_11ed_8196_00155d01cde5row2_col1\" class=\"data row2 col1\" >1.11e+04</td>\n",
       "                        <td id=\"T_f558046a_d119_11ed_8196_00155d01cde5row2_col2\" class=\"data row2 col2\" >0.112</td>\n",
       "                        <td id=\"T_f558046a_d119_11ed_8196_00155d01cde5row2_col3\" class=\"data row2 col3\" >0.112</td>\n",
       "            </tr>\n",
       "            <tr>\n",
       "                        <th id=\"T_f558046a_d119_11ed_8196_00155d01cde5level0_row3\" class=\"row_heading level0 row3\" >15</th>\n",
       "                        <td id=\"T_f558046a_d119_11ed_8196_00155d01cde5row3_col0\" class=\"data row3 col0\" >1.07e+04</td>\n",
       "                        <td id=\"T_f558046a_d119_11ed_8196_00155d01cde5row3_col1\" class=\"data row3 col1\" >1.07e+04</td>\n",
       "                        <td id=\"T_f558046a_d119_11ed_8196_00155d01cde5row3_col2\" class=\"data row3 col2\" >0.0856</td>\n",
       "                        <td id=\"T_f558046a_d119_11ed_8196_00155d01cde5row3_col3\" class=\"data row3 col3\" >0.086</td>\n",
       "            </tr>\n",
       "    </tbody></table>"
      ],
      "text/plain": [
       "<pandas.io.formats.style.Styler at 0x7f3ecd2546a0>"
      ]
     },
     "metadata": {},
     "output_type": "display_data"
    },
    {
     "name": "stdout",
     "output_type": "stream",
     "text": [
      "[\u001b[1mtardis.simulation.base\u001b[0m][\u001b[1;37mINFO\u001b[0m   ]  \n",
      "\t\n",
      "\tCurrent t_inner = 10645.955 K\n",
      "\tExpected t_inner for next iteration = 10642.050 K\n",
      " (\u001b[1mbase.py\u001b[0m:554)\n",
      "[\u001b[1mtardis.simulation.base\u001b[0m][\u001b[1;37mINFO\u001b[0m   ]  \n",
      "\t\n",
      "\tStarting iteration 8 of 20 (\u001b[1mbase.py\u001b[0m:385)\n",
      "[\u001b[1mtardis.simulation.base\u001b[0m][\u001b[1;37mINFO\u001b[0m   ]  \n",
      "\t\n",
      "\tLuminosity emitted   = 1.062e+43 erg / s\n",
      "\tLuminosity absorbed  = 3.350e+42 erg / s\n",
      "\tLuminosity requested = 1.059e+43 erg / s\n",
      " (\u001b[1mbase.py\u001b[0m:559)\n",
      "[\u001b[1mtardis.simulation.base\u001b[0m][\u001b[1;37mINFO\u001b[0m   ]  \n",
      "\tIteration converged 4/4 consecutive times. (\u001b[1mbase.py\u001b[0m:266)\n",
      "[\u001b[1mtardis.simulation.base\u001b[0m][\u001b[1;37mINFO\u001b[0m   ]  \n",
      "\t\n",
      "\tPlasma stratification: (\u001b[1mbase.py\u001b[0m:527)\n"
     ]
    },
    {
     "data": {
      "text/html": [
       "<style  type=\"text/css\" >\n",
       "</style><table id=\"T_f64954dc_d119_11ed_8196_00155d01cde5\" ><thead>    <tr>        <th class=\"index_name level0\" >Shell No.</th>        <th class=\"col_heading level0 col0\" >t_rad</th>        <th class=\"col_heading level0 col1\" >next_t_rad</th>        <th class=\"col_heading level0 col2\" >w</th>        <th class=\"col_heading level0 col3\" >next_w</th>    </tr></thead><tbody>\n",
       "                <tr>\n",
       "                        <th id=\"T_f64954dc_d119_11ed_8196_00155d01cde5level0_row0\" class=\"row_heading level0 row0\" >0</th>\n",
       "                        <td id=\"T_f64954dc_d119_11ed_8196_00155d01cde5row0_col0\" class=\"data row0 col0\" >1.1e+04</td>\n",
       "                        <td id=\"T_f64954dc_d119_11ed_8196_00155d01cde5row0_col1\" class=\"data row0 col1\" >1.11e+04</td>\n",
       "                        <td id=\"T_f64954dc_d119_11ed_8196_00155d01cde5row0_col2\" class=\"data row0 col2\" >0.47</td>\n",
       "                        <td id=\"T_f64954dc_d119_11ed_8196_00155d01cde5row0_col3\" class=\"data row0 col3\" >0.472</td>\n",
       "            </tr>\n",
       "            <tr>\n",
       "                        <th id=\"T_f64954dc_d119_11ed_8196_00155d01cde5level0_row1\" class=\"row_heading level0 row1\" >5</th>\n",
       "                        <td id=\"T_f64954dc_d119_11ed_8196_00155d01cde5row1_col0\" class=\"data row1 col0\" >1.13e+04</td>\n",
       "                        <td id=\"T_f64954dc_d119_11ed_8196_00155d01cde5row1_col1\" class=\"data row1 col1\" >1.14e+04</td>\n",
       "                        <td id=\"T_f64954dc_d119_11ed_8196_00155d01cde5row1_col2\" class=\"data row1 col2\" >0.178</td>\n",
       "                        <td id=\"T_f64954dc_d119_11ed_8196_00155d01cde5row1_col3\" class=\"data row1 col3\" >0.175</td>\n",
       "            </tr>\n",
       "            <tr>\n",
       "                        <th id=\"T_f64954dc_d119_11ed_8196_00155d01cde5level0_row2\" class=\"row_heading level0 row2\" >10</th>\n",
       "                        <td id=\"T_f64954dc_d119_11ed_8196_00155d01cde5row2_col0\" class=\"data row2 col0\" >1.11e+04</td>\n",
       "                        <td id=\"T_f64954dc_d119_11ed_8196_00155d01cde5row2_col1\" class=\"data row2 col1\" >1.11e+04</td>\n",
       "                        <td id=\"T_f64954dc_d119_11ed_8196_00155d01cde5row2_col2\" class=\"data row2 col2\" >0.112</td>\n",
       "                        <td id=\"T_f64954dc_d119_11ed_8196_00155d01cde5row2_col3\" class=\"data row2 col3\" >0.111</td>\n",
       "            </tr>\n",
       "            <tr>\n",
       "                        <th id=\"T_f64954dc_d119_11ed_8196_00155d01cde5level0_row3\" class=\"row_heading level0 row3\" >15</th>\n",
       "                        <td id=\"T_f64954dc_d119_11ed_8196_00155d01cde5row3_col0\" class=\"data row3 col0\" >1.07e+04</td>\n",
       "                        <td id=\"T_f64954dc_d119_11ed_8196_00155d01cde5row3_col1\" class=\"data row3 col1\" >1.07e+04</td>\n",
       "                        <td id=\"T_f64954dc_d119_11ed_8196_00155d01cde5row3_col2\" class=\"data row3 col2\" >0.086</td>\n",
       "                        <td id=\"T_f64954dc_d119_11ed_8196_00155d01cde5row3_col3\" class=\"data row3 col3\" >0.084</td>\n",
       "            </tr>\n",
       "    </tbody></table>"
      ],
      "text/plain": [
       "<pandas.io.formats.style.Styler at 0x7f3ecd254070>"
      ]
     },
     "metadata": {},
     "output_type": "display_data"
    },
    {
     "name": "stdout",
     "output_type": "stream",
     "text": [
      "[\u001b[1mtardis.simulation.base\u001b[0m][\u001b[1;37mINFO\u001b[0m   ]  \n",
      "\t\n",
      "\tCurrent t_inner = 10642.050 K\n",
      "\tExpected t_inner for next iteration = 10636.106 K\n",
      " (\u001b[1mbase.py\u001b[0m:554)\n",
      "[\u001b[1mtardis.simulation.base\u001b[0m][\u001b[1;37mINFO\u001b[0m   ]  \n",
      "\t\n",
      "\tStarting iteration 9 of 20 (\u001b[1mbase.py\u001b[0m:385)\n",
      "[\u001b[1mtardis.simulation.base\u001b[0m][\u001b[1;37mINFO\u001b[0m   ]  \n",
      "\t\n",
      "\tLuminosity emitted   = 1.052e+43 erg / s\n",
      "\tLuminosity absorbed  = 3.411e+42 erg / s\n",
      "\tLuminosity requested = 1.059e+43 erg / s\n",
      " (\u001b[1mbase.py\u001b[0m:559)\n",
      "[\u001b[1mtardis.simulation.base\u001b[0m][\u001b[1;37mINFO\u001b[0m   ]  \n",
      "\tIteration converged 5/4 consecutive times. (\u001b[1mbase.py\u001b[0m:266)\n",
      "[\u001b[1mtardis.simulation.base\u001b[0m][\u001b[1;37mINFO\u001b[0m   ]  \n",
      "\t\n",
      "\tPlasma stratification: (\u001b[1mbase.py\u001b[0m:527)\n"
     ]
    },
    {
     "data": {
      "text/html": [
       "<style  type=\"text/css\" >\n",
       "</style><table id=\"T_f734f036_d119_11ed_8196_00155d01cde5\" ><thead>    <tr>        <th class=\"index_name level0\" >Shell No.</th>        <th class=\"col_heading level0 col0\" >t_rad</th>        <th class=\"col_heading level0 col1\" >next_t_rad</th>        <th class=\"col_heading level0 col2\" >w</th>        <th class=\"col_heading level0 col3\" >next_w</th>    </tr></thead><tbody>\n",
       "                <tr>\n",
       "                        <th id=\"T_f734f036_d119_11ed_8196_00155d01cde5level0_row0\" class=\"row_heading level0 row0\" >0</th>\n",
       "                        <td id=\"T_f734f036_d119_11ed_8196_00155d01cde5row0_col0\" class=\"data row0 col0\" >1.11e+04</td>\n",
       "                        <td id=\"T_f734f036_d119_11ed_8196_00155d01cde5row0_col1\" class=\"data row0 col1\" >1.11e+04</td>\n",
       "                        <td id=\"T_f734f036_d119_11ed_8196_00155d01cde5row0_col2\" class=\"data row0 col2\" >0.472</td>\n",
       "                        <td id=\"T_f734f036_d119_11ed_8196_00155d01cde5row0_col3\" class=\"data row0 col3\" >0.469</td>\n",
       "            </tr>\n",
       "            <tr>\n",
       "                        <th id=\"T_f734f036_d119_11ed_8196_00155d01cde5level0_row1\" class=\"row_heading level0 row1\" >5</th>\n",
       "                        <td id=\"T_f734f036_d119_11ed_8196_00155d01cde5row1_col0\" class=\"data row1 col0\" >1.14e+04</td>\n",
       "                        <td id=\"T_f734f036_d119_11ed_8196_00155d01cde5row1_col1\" class=\"data row1 col1\" >1.15e+04</td>\n",
       "                        <td id=\"T_f734f036_d119_11ed_8196_00155d01cde5row1_col2\" class=\"data row1 col2\" >0.175</td>\n",
       "                        <td id=\"T_f734f036_d119_11ed_8196_00155d01cde5row1_col3\" class=\"data row1 col3\" >0.17</td>\n",
       "            </tr>\n",
       "            <tr>\n",
       "                        <th id=\"T_f734f036_d119_11ed_8196_00155d01cde5level0_row2\" class=\"row_heading level0 row2\" >10</th>\n",
       "                        <td id=\"T_f734f036_d119_11ed_8196_00155d01cde5row2_col0\" class=\"data row2 col0\" >1.11e+04</td>\n",
       "                        <td id=\"T_f734f036_d119_11ed_8196_00155d01cde5row2_col1\" class=\"data row2 col1\" >1.11e+04</td>\n",
       "                        <td id=\"T_f734f036_d119_11ed_8196_00155d01cde5row2_col2\" class=\"data row2 col2\" >0.111</td>\n",
       "                        <td id=\"T_f734f036_d119_11ed_8196_00155d01cde5row2_col3\" class=\"data row2 col3\" >0.109</td>\n",
       "            </tr>\n",
       "            <tr>\n",
       "                        <th id=\"T_f734f036_d119_11ed_8196_00155d01cde5level0_row3\" class=\"row_heading level0 row3\" >15</th>\n",
       "                        <td id=\"T_f734f036_d119_11ed_8196_00155d01cde5row3_col0\" class=\"data row3 col0\" >1.07e+04</td>\n",
       "                        <td id=\"T_f734f036_d119_11ed_8196_00155d01cde5row3_col1\" class=\"data row3 col1\" >1.08e+04</td>\n",
       "                        <td id=\"T_f734f036_d119_11ed_8196_00155d01cde5row3_col2\" class=\"data row3 col2\" >0.084</td>\n",
       "                        <td id=\"T_f734f036_d119_11ed_8196_00155d01cde5row3_col3\" class=\"data row3 col3\" >0.0822</td>\n",
       "            </tr>\n",
       "    </tbody></table>"
      ],
      "text/plain": [
       "<pandas.io.formats.style.Styler at 0x7f3ecc76c9d0>"
      ]
     },
     "metadata": {},
     "output_type": "display_data"
    },
    {
     "name": "stdout",
     "output_type": "stream",
     "text": [
      "[\u001b[1mtardis.simulation.base\u001b[0m][\u001b[1;37mINFO\u001b[0m   ]  \n",
      "\t\n",
      "\tCurrent t_inner = 10636.106 K\n",
      "\tExpected t_inner for next iteration = 10654.313 K\n",
      " (\u001b[1mbase.py\u001b[0m:554)\n",
      "[\u001b[1mtardis.simulation.base\u001b[0m][\u001b[1;37mINFO\u001b[0m   ]  \n",
      "\t\n",
      "\tStarting iteration 10 of 20 (\u001b[1mbase.py\u001b[0m:385)\n",
      "[\u001b[1mtardis.simulation.base\u001b[0m][\u001b[1;37mINFO\u001b[0m   ]  \n",
      "\t\n",
      "\tLuminosity emitted   = 1.070e+43 erg / s\n",
      "\tLuminosity absorbed  = 3.335e+42 erg / s\n",
      "\tLuminosity requested = 1.059e+43 erg / s\n",
      " (\u001b[1mbase.py\u001b[0m:559)\n",
      "[\u001b[1mtardis.simulation.base\u001b[0m][\u001b[1;37mINFO\u001b[0m   ]  \n",
      "\t\n",
      "\tPlasma stratification: (\u001b[1mbase.py\u001b[0m:527)\n"
     ]
    },
    {
     "data": {
      "text/html": [
       "<style  type=\"text/css\" >\n",
       "</style><table id=\"T_f81628e4_d119_11ed_8196_00155d01cde5\" ><thead>    <tr>        <th class=\"index_name level0\" >Shell No.</th>        <th class=\"col_heading level0 col0\" >t_rad</th>        <th class=\"col_heading level0 col1\" >next_t_rad</th>        <th class=\"col_heading level0 col2\" >w</th>        <th class=\"col_heading level0 col3\" >next_w</th>    </tr></thead><tbody>\n",
       "                <tr>\n",
       "                        <th id=\"T_f81628e4_d119_11ed_8196_00155d01cde5level0_row0\" class=\"row_heading level0 row0\" >0</th>\n",
       "                        <td id=\"T_f81628e4_d119_11ed_8196_00155d01cde5row0_col0\" class=\"data row0 col0\" >1.11e+04</td>\n",
       "                        <td id=\"T_f81628e4_d119_11ed_8196_00155d01cde5row0_col1\" class=\"data row0 col1\" >1.1e+04</td>\n",
       "                        <td id=\"T_f81628e4_d119_11ed_8196_00155d01cde5row0_col2\" class=\"data row0 col2\" >0.469</td>\n",
       "                        <td id=\"T_f81628e4_d119_11ed_8196_00155d01cde5row0_col3\" class=\"data row0 col3\" >0.475</td>\n",
       "            </tr>\n",
       "            <tr>\n",
       "                        <th id=\"T_f81628e4_d119_11ed_8196_00155d01cde5level0_row1\" class=\"row_heading level0 row1\" >5</th>\n",
       "                        <td id=\"T_f81628e4_d119_11ed_8196_00155d01cde5row1_col0\" class=\"data row1 col0\" >1.15e+04</td>\n",
       "                        <td id=\"T_f81628e4_d119_11ed_8196_00155d01cde5row1_col1\" class=\"data row1 col1\" >1.14e+04</td>\n",
       "                        <td id=\"T_f81628e4_d119_11ed_8196_00155d01cde5row1_col2\" class=\"data row1 col2\" >0.17</td>\n",
       "                        <td id=\"T_f81628e4_d119_11ed_8196_00155d01cde5row1_col3\" class=\"data row1 col3\" >0.177</td>\n",
       "            </tr>\n",
       "            <tr>\n",
       "                        <th id=\"T_f81628e4_d119_11ed_8196_00155d01cde5level0_row2\" class=\"row_heading level0 row2\" >10</th>\n",
       "                        <td id=\"T_f81628e4_d119_11ed_8196_00155d01cde5row2_col0\" class=\"data row2 col0\" >1.11e+04</td>\n",
       "                        <td id=\"T_f81628e4_d119_11ed_8196_00155d01cde5row2_col1\" class=\"data row2 col1\" >1.11e+04</td>\n",
       "                        <td id=\"T_f81628e4_d119_11ed_8196_00155d01cde5row2_col2\" class=\"data row2 col2\" >0.109</td>\n",
       "                        <td id=\"T_f81628e4_d119_11ed_8196_00155d01cde5row2_col3\" class=\"data row2 col3\" >0.112</td>\n",
       "            </tr>\n",
       "            <tr>\n",
       "                        <th id=\"T_f81628e4_d119_11ed_8196_00155d01cde5level0_row3\" class=\"row_heading level0 row3\" >15</th>\n",
       "                        <td id=\"T_f81628e4_d119_11ed_8196_00155d01cde5row3_col0\" class=\"data row3 col0\" >1.08e+04</td>\n",
       "                        <td id=\"T_f81628e4_d119_11ed_8196_00155d01cde5row3_col1\" class=\"data row3 col1\" >1.06e+04</td>\n",
       "                        <td id=\"T_f81628e4_d119_11ed_8196_00155d01cde5row3_col2\" class=\"data row3 col2\" >0.0822</td>\n",
       "                        <td id=\"T_f81628e4_d119_11ed_8196_00155d01cde5row3_col3\" class=\"data row3 col3\" >0.0878</td>\n",
       "            </tr>\n",
       "    </tbody></table>"
      ],
      "text/plain": [
       "<pandas.io.formats.style.Styler at 0x7f3ec8f49130>"
      ]
     },
     "metadata": {},
     "output_type": "display_data"
    },
    {
     "name": "stdout",
     "output_type": "stream",
     "text": [
      "[\u001b[1mtardis.simulation.base\u001b[0m][\u001b[1;37mINFO\u001b[0m   ]  \n",
      "\t\n",
      "\tCurrent t_inner = 10654.313 K\n",
      "\tExpected t_inner for next iteration = 10628.190 K\n",
      " (\u001b[1mbase.py\u001b[0m:554)\n",
      "[\u001b[1mtardis.simulation.base\u001b[0m][\u001b[1;37mINFO\u001b[0m   ]  \n",
      "\t\n",
      "\tStarting iteration 11 of 20 (\u001b[1mbase.py\u001b[0m:385)\n",
      "[\u001b[1mtardis.simulation.base\u001b[0m][\u001b[1;37mINFO\u001b[0m   ]  \n",
      "\t\n",
      "\tLuminosity emitted   = 1.053e+43 erg / s\n",
      "\tLuminosity absorbed  = 3.363e+42 erg / s\n",
      "\tLuminosity requested = 1.059e+43 erg / s\n",
      " (\u001b[1mbase.py\u001b[0m:559)\n",
      "[\u001b[1mtardis.simulation.base\u001b[0m][\u001b[1;37mINFO\u001b[0m   ]  \n",
      "\tIteration converged 1/4 consecutive times. (\u001b[1mbase.py\u001b[0m:266)\n",
      "[\u001b[1mtardis.simulation.base\u001b[0m][\u001b[1;37mINFO\u001b[0m   ]  \n",
      "\t\n",
      "\tPlasma stratification: (\u001b[1mbase.py\u001b[0m:527)\n"
     ]
    },
    {
     "data": {
      "text/html": [
       "<style  type=\"text/css\" >\n",
       "</style><table id=\"T_f90733f6_d119_11ed_8196_00155d01cde5\" ><thead>    <tr>        <th class=\"index_name level0\" >Shell No.</th>        <th class=\"col_heading level0 col0\" >t_rad</th>        <th class=\"col_heading level0 col1\" >next_t_rad</th>        <th class=\"col_heading level0 col2\" >w</th>        <th class=\"col_heading level0 col3\" >next_w</th>    </tr></thead><tbody>\n",
       "                <tr>\n",
       "                        <th id=\"T_f90733f6_d119_11ed_8196_00155d01cde5level0_row0\" class=\"row_heading level0 row0\" >0</th>\n",
       "                        <td id=\"T_f90733f6_d119_11ed_8196_00155d01cde5row0_col0\" class=\"data row0 col0\" >1.1e+04</td>\n",
       "                        <td id=\"T_f90733f6_d119_11ed_8196_00155d01cde5row0_col1\" class=\"data row0 col1\" >1.1e+04</td>\n",
       "                        <td id=\"T_f90733f6_d119_11ed_8196_00155d01cde5row0_col2\" class=\"data row0 col2\" >0.475</td>\n",
       "                        <td id=\"T_f90733f6_d119_11ed_8196_00155d01cde5row0_col3\" class=\"data row0 col3\" >0.472</td>\n",
       "            </tr>\n",
       "            <tr>\n",
       "                        <th id=\"T_f90733f6_d119_11ed_8196_00155d01cde5level0_row1\" class=\"row_heading level0 row1\" >5</th>\n",
       "                        <td id=\"T_f90733f6_d119_11ed_8196_00155d01cde5row1_col0\" class=\"data row1 col0\" >1.14e+04</td>\n",
       "                        <td id=\"T_f90733f6_d119_11ed_8196_00155d01cde5row1_col1\" class=\"data row1 col1\" >1.12e+04</td>\n",
       "                        <td id=\"T_f90733f6_d119_11ed_8196_00155d01cde5row1_col2\" class=\"data row1 col2\" >0.177</td>\n",
       "                        <td id=\"T_f90733f6_d119_11ed_8196_00155d01cde5row1_col3\" class=\"data row1 col3\" >0.184</td>\n",
       "            </tr>\n",
       "            <tr>\n",
       "                        <th id=\"T_f90733f6_d119_11ed_8196_00155d01cde5level0_row2\" class=\"row_heading level0 row2\" >10</th>\n",
       "                        <td id=\"T_f90733f6_d119_11ed_8196_00155d01cde5row2_col0\" class=\"data row2 col0\" >1.11e+04</td>\n",
       "                        <td id=\"T_f90733f6_d119_11ed_8196_00155d01cde5row2_col1\" class=\"data row2 col1\" >1.1e+04</td>\n",
       "                        <td id=\"T_f90733f6_d119_11ed_8196_00155d01cde5row2_col2\" class=\"data row2 col2\" >0.112</td>\n",
       "                        <td id=\"T_f90733f6_d119_11ed_8196_00155d01cde5row2_col3\" class=\"data row2 col3\" >0.114</td>\n",
       "            </tr>\n",
       "            <tr>\n",
       "                        <th id=\"T_f90733f6_d119_11ed_8196_00155d01cde5level0_row3\" class=\"row_heading level0 row3\" >15</th>\n",
       "                        <td id=\"T_f90733f6_d119_11ed_8196_00155d01cde5row3_col0\" class=\"data row3 col0\" >1.06e+04</td>\n",
       "                        <td id=\"T_f90733f6_d119_11ed_8196_00155d01cde5row3_col1\" class=\"data row3 col1\" >1.06e+04</td>\n",
       "                        <td id=\"T_f90733f6_d119_11ed_8196_00155d01cde5row3_col2\" class=\"data row3 col2\" >0.0878</td>\n",
       "                        <td id=\"T_f90733f6_d119_11ed_8196_00155d01cde5row3_col3\" class=\"data row3 col3\" >0.0859</td>\n",
       "            </tr>\n",
       "    </tbody></table>"
      ],
      "text/plain": [
       "<pandas.io.formats.style.Styler at 0x7f3ecd254ac0>"
      ]
     },
     "metadata": {},
     "output_type": "display_data"
    },
    {
     "name": "stdout",
     "output_type": "stream",
     "text": [
      "[\u001b[1mtardis.simulation.base\u001b[0m][\u001b[1;37mINFO\u001b[0m   ]  \n",
      "\t\n",
      "\tCurrent t_inner = 10628.190 K\n",
      "\tExpected t_inner for next iteration = 10644.054 K\n",
      " (\u001b[1mbase.py\u001b[0m:554)\n",
      "[\u001b[1mtardis.simulation.base\u001b[0m][\u001b[1;37mINFO\u001b[0m   ]  \n",
      "\t\n",
      "\tStarting iteration 12 of 20 (\u001b[1mbase.py\u001b[0m:385)\n",
      "[\u001b[1mtardis.simulation.base\u001b[0m][\u001b[1;37mINFO\u001b[0m   ]  \n",
      "\t\n",
      "\tLuminosity emitted   = 1.056e+43 erg / s\n",
      "\tLuminosity absorbed  = 3.420e+42 erg / s\n",
      "\tLuminosity requested = 1.059e+43 erg / s\n",
      " (\u001b[1mbase.py\u001b[0m:559)\n",
      "[\u001b[1mtardis.simulation.base\u001b[0m][\u001b[1;37mINFO\u001b[0m   ]  \n",
      "\t\n",
      "\tPlasma stratification: (\u001b[1mbase.py\u001b[0m:527)\n"
     ]
    },
    {
     "data": {
      "text/html": [
       "<style  type=\"text/css\" >\n",
       "</style><table id=\"T_f9eab48c_d119_11ed_8196_00155d01cde5\" ><thead>    <tr>        <th class=\"index_name level0\" >Shell No.</th>        <th class=\"col_heading level0 col0\" >t_rad</th>        <th class=\"col_heading level0 col1\" >next_t_rad</th>        <th class=\"col_heading level0 col2\" >w</th>        <th class=\"col_heading level0 col3\" >next_w</th>    </tr></thead><tbody>\n",
       "                <tr>\n",
       "                        <th id=\"T_f9eab48c_d119_11ed_8196_00155d01cde5level0_row0\" class=\"row_heading level0 row0\" >0</th>\n",
       "                        <td id=\"T_f9eab48c_d119_11ed_8196_00155d01cde5row0_col0\" class=\"data row0 col0\" >1.1e+04</td>\n",
       "                        <td id=\"T_f9eab48c_d119_11ed_8196_00155d01cde5row0_col1\" class=\"data row0 col1\" >1.11e+04</td>\n",
       "                        <td id=\"T_f9eab48c_d119_11ed_8196_00155d01cde5row0_col2\" class=\"data row0 col2\" >0.472</td>\n",
       "                        <td id=\"T_f9eab48c_d119_11ed_8196_00155d01cde5row0_col3\" class=\"data row0 col3\" >0.467</td>\n",
       "            </tr>\n",
       "            <tr>\n",
       "                        <th id=\"T_f9eab48c_d119_11ed_8196_00155d01cde5level0_row1\" class=\"row_heading level0 row1\" >5</th>\n",
       "                        <td id=\"T_f9eab48c_d119_11ed_8196_00155d01cde5row1_col0\" class=\"data row1 col0\" >1.12e+04</td>\n",
       "                        <td id=\"T_f9eab48c_d119_11ed_8196_00155d01cde5row1_col1\" class=\"data row1 col1\" >1.13e+04</td>\n",
       "                        <td id=\"T_f9eab48c_d119_11ed_8196_00155d01cde5row1_col2\" class=\"data row1 col2\" >0.184</td>\n",
       "                        <td id=\"T_f9eab48c_d119_11ed_8196_00155d01cde5row1_col3\" class=\"data row1 col3\" >0.176</td>\n",
       "            </tr>\n",
       "            <tr>\n",
       "                        <th id=\"T_f9eab48c_d119_11ed_8196_00155d01cde5level0_row2\" class=\"row_heading level0 row2\" >10</th>\n",
       "                        <td id=\"T_f9eab48c_d119_11ed_8196_00155d01cde5row2_col0\" class=\"data row2 col0\" >1.1e+04</td>\n",
       "                        <td id=\"T_f9eab48c_d119_11ed_8196_00155d01cde5row2_col1\" class=\"data row2 col1\" >1.11e+04</td>\n",
       "                        <td id=\"T_f9eab48c_d119_11ed_8196_00155d01cde5row2_col2\" class=\"data row2 col2\" >0.114</td>\n",
       "                        <td id=\"T_f9eab48c_d119_11ed_8196_00155d01cde5row2_col3\" class=\"data row2 col3\" >0.11</td>\n",
       "            </tr>\n",
       "            <tr>\n",
       "                        <th id=\"T_f9eab48c_d119_11ed_8196_00155d01cde5level0_row3\" class=\"row_heading level0 row3\" >15</th>\n",
       "                        <td id=\"T_f9eab48c_d119_11ed_8196_00155d01cde5row3_col0\" class=\"data row3 col0\" >1.06e+04</td>\n",
       "                        <td id=\"T_f9eab48c_d119_11ed_8196_00155d01cde5row3_col1\" class=\"data row3 col1\" >1.08e+04</td>\n",
       "                        <td id=\"T_f9eab48c_d119_11ed_8196_00155d01cde5row3_col2\" class=\"data row3 col2\" >0.0859</td>\n",
       "                        <td id=\"T_f9eab48c_d119_11ed_8196_00155d01cde5row3_col3\" class=\"data row3 col3\" >0.0821</td>\n",
       "            </tr>\n",
       "    </tbody></table>"
      ],
      "text/plain": [
       "<pandas.io.formats.style.Styler at 0x7f3ec8f495e0>"
      ]
     },
     "metadata": {},
     "output_type": "display_data"
    },
    {
     "name": "stdout",
     "output_type": "stream",
     "text": [
      "[\u001b[1mtardis.simulation.base\u001b[0m][\u001b[1;37mINFO\u001b[0m   ]  \n",
      "\t\n",
      "\tCurrent t_inner = 10644.054 K\n",
      "\tExpected t_inner for next iteration = 10653.543 K\n",
      " (\u001b[1mbase.py\u001b[0m:554)\n",
      "[\u001b[1mtardis.simulation.base\u001b[0m][\u001b[1;37mINFO\u001b[0m   ]  \n",
      "\t\n",
      "\tStarting iteration 13 of 20 (\u001b[1mbase.py\u001b[0m:385)\n",
      "[\u001b[1mtardis.simulation.base\u001b[0m][\u001b[1;37mINFO\u001b[0m   ]  \n",
      "\t\n",
      "\tLuminosity emitted   = 1.062e+43 erg / s\n",
      "\tLuminosity absorbed  = 3.406e+42 erg / s\n",
      "\tLuminosity requested = 1.059e+43 erg / s\n",
      " (\u001b[1mbase.py\u001b[0m:559)\n",
      "[\u001b[1mtardis.simulation.base\u001b[0m][\u001b[1;37mINFO\u001b[0m   ]  \n",
      "\tIteration converged 1/4 consecutive times. (\u001b[1mbase.py\u001b[0m:266)\n",
      "[\u001b[1mtardis.simulation.base\u001b[0m][\u001b[1;37mINFO\u001b[0m   ]  \n",
      "\t\n",
      "\tPlasma stratification: (\u001b[1mbase.py\u001b[0m:527)\n"
     ]
    },
    {
     "data": {
      "text/html": [
       "<style  type=\"text/css\" >\n",
       "</style><table id=\"T_facc2a2a_d119_11ed_8196_00155d01cde5\" ><thead>    <tr>        <th class=\"index_name level0\" >Shell No.</th>        <th class=\"col_heading level0 col0\" >t_rad</th>        <th class=\"col_heading level0 col1\" >next_t_rad</th>        <th class=\"col_heading level0 col2\" >w</th>        <th class=\"col_heading level0 col3\" >next_w</th>    </tr></thead><tbody>\n",
       "                <tr>\n",
       "                        <th id=\"T_facc2a2a_d119_11ed_8196_00155d01cde5level0_row0\" class=\"row_heading level0 row0\" >0</th>\n",
       "                        <td id=\"T_facc2a2a_d119_11ed_8196_00155d01cde5row0_col0\" class=\"data row0 col0\" >1.11e+04</td>\n",
       "                        <td id=\"T_facc2a2a_d119_11ed_8196_00155d01cde5row0_col1\" class=\"data row0 col1\" >1.11e+04</td>\n",
       "                        <td id=\"T_facc2a2a_d119_11ed_8196_00155d01cde5row0_col2\" class=\"data row0 col2\" >0.467</td>\n",
       "                        <td id=\"T_facc2a2a_d119_11ed_8196_00155d01cde5row0_col3\" class=\"data row0 col3\" >0.466</td>\n",
       "            </tr>\n",
       "            <tr>\n",
       "                        <th id=\"T_facc2a2a_d119_11ed_8196_00155d01cde5level0_row1\" class=\"row_heading level0 row1\" >5</th>\n",
       "                        <td id=\"T_facc2a2a_d119_11ed_8196_00155d01cde5row1_col0\" class=\"data row1 col0\" >1.13e+04</td>\n",
       "                        <td id=\"T_facc2a2a_d119_11ed_8196_00155d01cde5row1_col1\" class=\"data row1 col1\" >1.13e+04</td>\n",
       "                        <td id=\"T_facc2a2a_d119_11ed_8196_00155d01cde5row1_col2\" class=\"data row1 col2\" >0.176</td>\n",
       "                        <td id=\"T_facc2a2a_d119_11ed_8196_00155d01cde5row1_col3\" class=\"data row1 col3\" >0.18</td>\n",
       "            </tr>\n",
       "            <tr>\n",
       "                        <th id=\"T_facc2a2a_d119_11ed_8196_00155d01cde5level0_row2\" class=\"row_heading level0 row2\" >10</th>\n",
       "                        <td id=\"T_facc2a2a_d119_11ed_8196_00155d01cde5row2_col0\" class=\"data row2 col0\" >1.11e+04</td>\n",
       "                        <td id=\"T_facc2a2a_d119_11ed_8196_00155d01cde5row2_col1\" class=\"data row2 col1\" >1.11e+04</td>\n",
       "                        <td id=\"T_facc2a2a_d119_11ed_8196_00155d01cde5row2_col2\" class=\"data row2 col2\" >0.11</td>\n",
       "                        <td id=\"T_facc2a2a_d119_11ed_8196_00155d01cde5row2_col3\" class=\"data row2 col3\" >0.111</td>\n",
       "            </tr>\n",
       "            <tr>\n",
       "                        <th id=\"T_facc2a2a_d119_11ed_8196_00155d01cde5level0_row3\" class=\"row_heading level0 row3\" >15</th>\n",
       "                        <td id=\"T_facc2a2a_d119_11ed_8196_00155d01cde5row3_col0\" class=\"data row3 col0\" >1.08e+04</td>\n",
       "                        <td id=\"T_facc2a2a_d119_11ed_8196_00155d01cde5row3_col1\" class=\"data row3 col1\" >1.08e+04</td>\n",
       "                        <td id=\"T_facc2a2a_d119_11ed_8196_00155d01cde5row3_col2\" class=\"data row3 col2\" >0.0821</td>\n",
       "                        <td id=\"T_facc2a2a_d119_11ed_8196_00155d01cde5row3_col3\" class=\"data row3 col3\" >0.0841</td>\n",
       "            </tr>\n",
       "    </tbody></table>"
      ],
      "text/plain": [
       "<pandas.io.formats.style.Styler at 0x7f3eca47de80>"
      ]
     },
     "metadata": {},
     "output_type": "display_data"
    },
    {
     "name": "stdout",
     "output_type": "stream",
     "text": [
      "[\u001b[1mtardis.simulation.base\u001b[0m][\u001b[1;37mINFO\u001b[0m   ]  \n",
      "\t\n",
      "\tCurrent t_inner = 10653.543 K\n",
      "\tExpected t_inner for next iteration = 10647.277 K\n",
      " (\u001b[1mbase.py\u001b[0m:554)\n",
      "[\u001b[1mtardis.simulation.base\u001b[0m][\u001b[1;37mINFO\u001b[0m   ]  \n",
      "\t\n",
      "\tStarting iteration 14 of 20 (\u001b[1mbase.py\u001b[0m:385)\n",
      "[\u001b[1mtardis.simulation.base\u001b[0m][\u001b[1;37mINFO\u001b[0m   ]  \n",
      "\t\n",
      "\tLuminosity emitted   = 1.063e+43 erg / s\n",
      "\tLuminosity absorbed  = 3.369e+42 erg / s\n",
      "\tLuminosity requested = 1.059e+43 erg / s\n",
      " (\u001b[1mbase.py\u001b[0m:559)\n",
      "[\u001b[1mtardis.simulation.base\u001b[0m][\u001b[1;37mINFO\u001b[0m   ]  \n",
      "\tIteration converged 2/4 consecutive times. (\u001b[1mbase.py\u001b[0m:266)\n",
      "[\u001b[1mtardis.simulation.base\u001b[0m][\u001b[1;37mINFO\u001b[0m   ]  \n",
      "\t\n",
      "\tPlasma stratification: (\u001b[1mbase.py\u001b[0m:527)\n"
     ]
    },
    {
     "data": {
      "text/html": [
       "<style  type=\"text/css\" >\n",
       "</style><table id=\"T_fbb0a68c_d119_11ed_8196_00155d01cde5\" ><thead>    <tr>        <th class=\"index_name level0\" >Shell No.</th>        <th class=\"col_heading level0 col0\" >t_rad</th>        <th class=\"col_heading level0 col1\" >next_t_rad</th>        <th class=\"col_heading level0 col2\" >w</th>        <th class=\"col_heading level0 col3\" >next_w</th>    </tr></thead><tbody>\n",
       "                <tr>\n",
       "                        <th id=\"T_fbb0a68c_d119_11ed_8196_00155d01cde5level0_row0\" class=\"row_heading level0 row0\" >0</th>\n",
       "                        <td id=\"T_fbb0a68c_d119_11ed_8196_00155d01cde5row0_col0\" class=\"data row0 col0\" >1.11e+04</td>\n",
       "                        <td id=\"T_fbb0a68c_d119_11ed_8196_00155d01cde5row0_col1\" class=\"data row0 col1\" >1.11e+04</td>\n",
       "                        <td id=\"T_fbb0a68c_d119_11ed_8196_00155d01cde5row0_col2\" class=\"data row0 col2\" >0.466</td>\n",
       "                        <td id=\"T_fbb0a68c_d119_11ed_8196_00155d01cde5row0_col3\" class=\"data row0 col3\" >0.469</td>\n",
       "            </tr>\n",
       "            <tr>\n",
       "                        <th id=\"T_fbb0a68c_d119_11ed_8196_00155d01cde5level0_row1\" class=\"row_heading level0 row1\" >5</th>\n",
       "                        <td id=\"T_fbb0a68c_d119_11ed_8196_00155d01cde5row1_col0\" class=\"data row1 col0\" >1.13e+04</td>\n",
       "                        <td id=\"T_fbb0a68c_d119_11ed_8196_00155d01cde5row1_col1\" class=\"data row1 col1\" >1.13e+04</td>\n",
       "                        <td id=\"T_fbb0a68c_d119_11ed_8196_00155d01cde5row1_col2\" class=\"data row1 col2\" >0.18</td>\n",
       "                        <td id=\"T_fbb0a68c_d119_11ed_8196_00155d01cde5row1_col3\" class=\"data row1 col3\" >0.182</td>\n",
       "            </tr>\n",
       "            <tr>\n",
       "                        <th id=\"T_fbb0a68c_d119_11ed_8196_00155d01cde5level0_row2\" class=\"row_heading level0 row2\" >10</th>\n",
       "                        <td id=\"T_fbb0a68c_d119_11ed_8196_00155d01cde5row2_col0\" class=\"data row2 col0\" >1.11e+04</td>\n",
       "                        <td id=\"T_fbb0a68c_d119_11ed_8196_00155d01cde5row2_col1\" class=\"data row2 col1\" >1.1e+04</td>\n",
       "                        <td id=\"T_fbb0a68c_d119_11ed_8196_00155d01cde5row2_col2\" class=\"data row2 col2\" >0.111</td>\n",
       "                        <td id=\"T_fbb0a68c_d119_11ed_8196_00155d01cde5row2_col3\" class=\"data row2 col3\" >0.113</td>\n",
       "            </tr>\n",
       "            <tr>\n",
       "                        <th id=\"T_fbb0a68c_d119_11ed_8196_00155d01cde5level0_row3\" class=\"row_heading level0 row3\" >15</th>\n",
       "                        <td id=\"T_fbb0a68c_d119_11ed_8196_00155d01cde5row3_col0\" class=\"data row3 col0\" >1.08e+04</td>\n",
       "                        <td id=\"T_fbb0a68c_d119_11ed_8196_00155d01cde5row3_col1\" class=\"data row3 col1\" >1.07e+04</td>\n",
       "                        <td id=\"T_fbb0a68c_d119_11ed_8196_00155d01cde5row3_col2\" class=\"data row3 col2\" >0.0841</td>\n",
       "                        <td id=\"T_fbb0a68c_d119_11ed_8196_00155d01cde5row3_col3\" class=\"data row3 col3\" >0.0854</td>\n",
       "            </tr>\n",
       "    </tbody></table>"
      ],
      "text/plain": [
       "<pandas.io.formats.style.Styler at 0x7f3ec8f57c10>"
      ]
     },
     "metadata": {},
     "output_type": "display_data"
    },
    {
     "name": "stdout",
     "output_type": "stream",
     "text": [
      "[\u001b[1mtardis.simulation.base\u001b[0m][\u001b[1;37mINFO\u001b[0m   ]  \n",
      "\t\n",
      "\tCurrent t_inner = 10647.277 K\n",
      "\tExpected t_inner for next iteration = 10638.875 K\n",
      " (\u001b[1mbase.py\u001b[0m:554)\n",
      "[\u001b[1mtardis.simulation.base\u001b[0m][\u001b[1;37mINFO\u001b[0m   ]  \n",
      "\t\n",
      "\tStarting iteration 15 of 20 (\u001b[1mbase.py\u001b[0m:385)\n",
      "[\u001b[1mtardis.simulation.base\u001b[0m][\u001b[1;37mINFO\u001b[0m   ]  \n",
      "\t\n",
      "\tLuminosity emitted   = 1.053e+43 erg / s\n",
      "\tLuminosity absorbed  = 3.417e+42 erg / s\n",
      "\tLuminosity requested = 1.059e+43 erg / s\n",
      " (\u001b[1mbase.py\u001b[0m:559)\n",
      "[\u001b[1mtardis.simulation.base\u001b[0m][\u001b[1;37mINFO\u001b[0m   ]  \n",
      "\tIteration converged 3/4 consecutive times. (\u001b[1mbase.py\u001b[0m:266)\n",
      "[\u001b[1mtardis.simulation.base\u001b[0m][\u001b[1;37mINFO\u001b[0m   ]  \n",
      "\t\n",
      "\tPlasma stratification: (\u001b[1mbase.py\u001b[0m:527)\n"
     ]
    },
    {
     "data": {
      "text/html": [
       "<style  type=\"text/css\" >\n",
       "</style><table id=\"T_fc99d302_d119_11ed_8196_00155d01cde5\" ><thead>    <tr>        <th class=\"index_name level0\" >Shell No.</th>        <th class=\"col_heading level0 col0\" >t_rad</th>        <th class=\"col_heading level0 col1\" >next_t_rad</th>        <th class=\"col_heading level0 col2\" >w</th>        <th class=\"col_heading level0 col3\" >next_w</th>    </tr></thead><tbody>\n",
       "                <tr>\n",
       "                        <th id=\"T_fc99d302_d119_11ed_8196_00155d01cde5level0_row0\" class=\"row_heading level0 row0\" >0</th>\n",
       "                        <td id=\"T_fc99d302_d119_11ed_8196_00155d01cde5row0_col0\" class=\"data row0 col0\" >1.11e+04</td>\n",
       "                        <td id=\"T_fc99d302_d119_11ed_8196_00155d01cde5row0_col1\" class=\"data row0 col1\" >1.1e+04</td>\n",
       "                        <td id=\"T_fc99d302_d119_11ed_8196_00155d01cde5row0_col2\" class=\"data row0 col2\" >0.469</td>\n",
       "                        <td id=\"T_fc99d302_d119_11ed_8196_00155d01cde5row0_col3\" class=\"data row0 col3\" >0.484</td>\n",
       "            </tr>\n",
       "            <tr>\n",
       "                        <th id=\"T_fc99d302_d119_11ed_8196_00155d01cde5level0_row1\" class=\"row_heading level0 row1\" >5</th>\n",
       "                        <td id=\"T_fc99d302_d119_11ed_8196_00155d01cde5row1_col0\" class=\"data row1 col0\" >1.13e+04</td>\n",
       "                        <td id=\"T_fc99d302_d119_11ed_8196_00155d01cde5row1_col1\" class=\"data row1 col1\" >1.13e+04</td>\n",
       "                        <td id=\"T_fc99d302_d119_11ed_8196_00155d01cde5row1_col2\" class=\"data row1 col2\" >0.182</td>\n",
       "                        <td id=\"T_fc99d302_d119_11ed_8196_00155d01cde5row1_col3\" class=\"data row1 col3\" >0.181</td>\n",
       "            </tr>\n",
       "            <tr>\n",
       "                        <th id=\"T_fc99d302_d119_11ed_8196_00155d01cde5level0_row2\" class=\"row_heading level0 row2\" >10</th>\n",
       "                        <td id=\"T_fc99d302_d119_11ed_8196_00155d01cde5row2_col0\" class=\"data row2 col0\" >1.1e+04</td>\n",
       "                        <td id=\"T_fc99d302_d119_11ed_8196_00155d01cde5row2_col1\" class=\"data row2 col1\" >1.1e+04</td>\n",
       "                        <td id=\"T_fc99d302_d119_11ed_8196_00155d01cde5row2_col2\" class=\"data row2 col2\" >0.113</td>\n",
       "                        <td id=\"T_fc99d302_d119_11ed_8196_00155d01cde5row2_col3\" class=\"data row2 col3\" >0.113</td>\n",
       "            </tr>\n",
       "            <tr>\n",
       "                        <th id=\"T_fc99d302_d119_11ed_8196_00155d01cde5level0_row3\" class=\"row_heading level0 row3\" >15</th>\n",
       "                        <td id=\"T_fc99d302_d119_11ed_8196_00155d01cde5row3_col0\" class=\"data row3 col0\" >1.07e+04</td>\n",
       "                        <td id=\"T_fc99d302_d119_11ed_8196_00155d01cde5row3_col1\" class=\"data row3 col1\" >1.07e+04</td>\n",
       "                        <td id=\"T_fc99d302_d119_11ed_8196_00155d01cde5row3_col2\" class=\"data row3 col2\" >0.0854</td>\n",
       "                        <td id=\"T_fc99d302_d119_11ed_8196_00155d01cde5row3_col3\" class=\"data row3 col3\" >0.0858</td>\n",
       "            </tr>\n",
       "    </tbody></table>"
      ],
      "text/plain": [
       "<pandas.io.formats.style.Styler at 0x7f3eca6307c0>"
      ]
     },
     "metadata": {},
     "output_type": "display_data"
    },
    {
     "name": "stdout",
     "output_type": "stream",
     "text": [
      "[\u001b[1mtardis.simulation.base\u001b[0m][\u001b[1;37mINFO\u001b[0m   ]  \n",
      "\t\n",
      "\tCurrent t_inner = 10638.875 K\n",
      "\tExpected t_inner for next iteration = 10655.125 K\n",
      " (\u001b[1mbase.py\u001b[0m:554)\n",
      "[\u001b[1mtardis.simulation.base\u001b[0m][\u001b[1;37mINFO\u001b[0m   ]  \n",
      "\t\n",
      "\tStarting iteration 16 of 20 (\u001b[1mbase.py\u001b[0m:385)\n",
      "[\u001b[1mtardis.simulation.base\u001b[0m][\u001b[1;37mINFO\u001b[0m   ]  \n",
      "\t\n",
      "\tLuminosity emitted   = 1.059e+43 erg / s\n",
      "\tLuminosity absorbed  = 3.445e+42 erg / s\n",
      "\tLuminosity requested = 1.059e+43 erg / s\n",
      " (\u001b[1mbase.py\u001b[0m:559)\n",
      "[\u001b[1mtardis.simulation.base\u001b[0m][\u001b[1;37mINFO\u001b[0m   ]  \n",
      "\tIteration converged 4/4 consecutive times. (\u001b[1mbase.py\u001b[0m:266)\n",
      "[\u001b[1mtardis.simulation.base\u001b[0m][\u001b[1;37mINFO\u001b[0m   ]  \n",
      "\t\n",
      "\tPlasma stratification: (\u001b[1mbase.py\u001b[0m:527)\n"
     ]
    },
    {
     "data": {
      "text/html": [
       "<style  type=\"text/css\" >\n",
       "</style><table id=\"T_fd7d25b2_d119_11ed_8196_00155d01cde5\" ><thead>    <tr>        <th class=\"index_name level0\" >Shell No.</th>        <th class=\"col_heading level0 col0\" >t_rad</th>        <th class=\"col_heading level0 col1\" >next_t_rad</th>        <th class=\"col_heading level0 col2\" >w</th>        <th class=\"col_heading level0 col3\" >next_w</th>    </tr></thead><tbody>\n",
       "                <tr>\n",
       "                        <th id=\"T_fd7d25b2_d119_11ed_8196_00155d01cde5level0_row0\" class=\"row_heading level0 row0\" >0</th>\n",
       "                        <td id=\"T_fd7d25b2_d119_11ed_8196_00155d01cde5row0_col0\" class=\"data row0 col0\" >1.1e+04</td>\n",
       "                        <td id=\"T_fd7d25b2_d119_11ed_8196_00155d01cde5row0_col1\" class=\"data row0 col1\" >1.1e+04</td>\n",
       "                        <td id=\"T_fd7d25b2_d119_11ed_8196_00155d01cde5row0_col2\" class=\"data row0 col2\" >0.484</td>\n",
       "                        <td id=\"T_fd7d25b2_d119_11ed_8196_00155d01cde5row0_col3\" class=\"data row0 col3\" >0.472</td>\n",
       "            </tr>\n",
       "            <tr>\n",
       "                        <th id=\"T_fd7d25b2_d119_11ed_8196_00155d01cde5level0_row1\" class=\"row_heading level0 row1\" >5</th>\n",
       "                        <td id=\"T_fd7d25b2_d119_11ed_8196_00155d01cde5row1_col0\" class=\"data row1 col0\" >1.13e+04</td>\n",
       "                        <td id=\"T_fd7d25b2_d119_11ed_8196_00155d01cde5row1_col1\" class=\"data row1 col1\" >1.13e+04</td>\n",
       "                        <td id=\"T_fd7d25b2_d119_11ed_8196_00155d01cde5row1_col2\" class=\"data row1 col2\" >0.181</td>\n",
       "                        <td id=\"T_fd7d25b2_d119_11ed_8196_00155d01cde5row1_col3\" class=\"data row1 col3\" >0.177</td>\n",
       "            </tr>\n",
       "            <tr>\n",
       "                        <th id=\"T_fd7d25b2_d119_11ed_8196_00155d01cde5level0_row2\" class=\"row_heading level0 row2\" >10</th>\n",
       "                        <td id=\"T_fd7d25b2_d119_11ed_8196_00155d01cde5row2_col0\" class=\"data row2 col0\" >1.1e+04</td>\n",
       "                        <td id=\"T_fd7d25b2_d119_11ed_8196_00155d01cde5row2_col1\" class=\"data row2 col1\" >1.1e+04</td>\n",
       "                        <td id=\"T_fd7d25b2_d119_11ed_8196_00155d01cde5row2_col2\" class=\"data row2 col2\" >0.113</td>\n",
       "                        <td id=\"T_fd7d25b2_d119_11ed_8196_00155d01cde5row2_col3\" class=\"data row2 col3\" >0.113</td>\n",
       "            </tr>\n",
       "            <tr>\n",
       "                        <th id=\"T_fd7d25b2_d119_11ed_8196_00155d01cde5level0_row3\" class=\"row_heading level0 row3\" >15</th>\n",
       "                        <td id=\"T_fd7d25b2_d119_11ed_8196_00155d01cde5row3_col0\" class=\"data row3 col0\" >1.07e+04</td>\n",
       "                        <td id=\"T_fd7d25b2_d119_11ed_8196_00155d01cde5row3_col1\" class=\"data row3 col1\" >1.06e+04</td>\n",
       "                        <td id=\"T_fd7d25b2_d119_11ed_8196_00155d01cde5row3_col2\" class=\"data row3 col2\" >0.0858</td>\n",
       "                        <td id=\"T_fd7d25b2_d119_11ed_8196_00155d01cde5row3_col3\" class=\"data row3 col3\" >0.0858</td>\n",
       "            </tr>\n",
       "    </tbody></table>"
      ],
      "text/plain": [
       "<pandas.io.formats.style.Styler at 0x7f3eca4fe850>"
      ]
     },
     "metadata": {},
     "output_type": "display_data"
    },
    {
     "name": "stdout",
     "output_type": "stream",
     "text": [
      "[\u001b[1mtardis.simulation.base\u001b[0m][\u001b[1;37mINFO\u001b[0m   ]  \n",
      "\t\n",
      "\tCurrent t_inner = 10655.125 K\n",
      "\tExpected t_inner for next iteration = 10655.561 K\n",
      " (\u001b[1mbase.py\u001b[0m:554)\n",
      "[\u001b[1mtardis.simulation.base\u001b[0m][\u001b[1;37mINFO\u001b[0m   ]  \n",
      "\t\n",
      "\tStarting iteration 17 of 20 (\u001b[1mbase.py\u001b[0m:385)\n",
      "[\u001b[1mtardis.simulation.base\u001b[0m][\u001b[1;37mINFO\u001b[0m   ]  \n",
      "\t\n",
      "\tLuminosity emitted   = 1.067e+43 erg / s\n",
      "\tLuminosity absorbed  = 3.372e+42 erg / s\n",
      "\tLuminosity requested = 1.059e+43 erg / s\n",
      " (\u001b[1mbase.py\u001b[0m:559)\n",
      "[\u001b[1mtardis.simulation.base\u001b[0m][\u001b[1;37mINFO\u001b[0m   ]  \n",
      "\t\n",
      "\tPlasma stratification: (\u001b[1mbase.py\u001b[0m:527)\n"
     ]
    },
    {
     "data": {
      "text/html": [
       "<style  type=\"text/css\" >\n",
       "</style><table id=\"T_fe606660_d119_11ed_8196_00155d01cde5\" ><thead>    <tr>        <th class=\"index_name level0\" >Shell No.</th>        <th class=\"col_heading level0 col0\" >t_rad</th>        <th class=\"col_heading level0 col1\" >next_t_rad</th>        <th class=\"col_heading level0 col2\" >w</th>        <th class=\"col_heading level0 col3\" >next_w</th>    </tr></thead><tbody>\n",
       "                <tr>\n",
       "                        <th id=\"T_fe606660_d119_11ed_8196_00155d01cde5level0_row0\" class=\"row_heading level0 row0\" >0</th>\n",
       "                        <td id=\"T_fe606660_d119_11ed_8196_00155d01cde5row0_col0\" class=\"data row0 col0\" >1.1e+04</td>\n",
       "                        <td id=\"T_fe606660_d119_11ed_8196_00155d01cde5row0_col1\" class=\"data row0 col1\" >1.11e+04</td>\n",
       "                        <td id=\"T_fe606660_d119_11ed_8196_00155d01cde5row0_col2\" class=\"data row0 col2\" >0.472</td>\n",
       "                        <td id=\"T_fe606660_d119_11ed_8196_00155d01cde5row0_col3\" class=\"data row0 col3\" >0.468</td>\n",
       "            </tr>\n",
       "            <tr>\n",
       "                        <th id=\"T_fe606660_d119_11ed_8196_00155d01cde5level0_row1\" class=\"row_heading level0 row1\" >5</th>\n",
       "                        <td id=\"T_fe606660_d119_11ed_8196_00155d01cde5row1_col0\" class=\"data row1 col0\" >1.13e+04</td>\n",
       "                        <td id=\"T_fe606660_d119_11ed_8196_00155d01cde5row1_col1\" class=\"data row1 col1\" >1.14e+04</td>\n",
       "                        <td id=\"T_fe606660_d119_11ed_8196_00155d01cde5row1_col2\" class=\"data row1 col2\" >0.177</td>\n",
       "                        <td id=\"T_fe606660_d119_11ed_8196_00155d01cde5row1_col3\" class=\"data row1 col3\" >0.175</td>\n",
       "            </tr>\n",
       "            <tr>\n",
       "                        <th id=\"T_fe606660_d119_11ed_8196_00155d01cde5level0_row2\" class=\"row_heading level0 row2\" >10</th>\n",
       "                        <td id=\"T_fe606660_d119_11ed_8196_00155d01cde5row2_col0\" class=\"data row2 col0\" >1.1e+04</td>\n",
       "                        <td id=\"T_fe606660_d119_11ed_8196_00155d01cde5row2_col1\" class=\"data row2 col1\" >1.11e+04</td>\n",
       "                        <td id=\"T_fe606660_d119_11ed_8196_00155d01cde5row2_col2\" class=\"data row2 col2\" >0.113</td>\n",
       "                        <td id=\"T_fe606660_d119_11ed_8196_00155d01cde5row2_col3\" class=\"data row2 col3\" >0.11</td>\n",
       "            </tr>\n",
       "            <tr>\n",
       "                        <th id=\"T_fe606660_d119_11ed_8196_00155d01cde5level0_row3\" class=\"row_heading level0 row3\" >15</th>\n",
       "                        <td id=\"T_fe606660_d119_11ed_8196_00155d01cde5row3_col0\" class=\"data row3 col0\" >1.06e+04</td>\n",
       "                        <td id=\"T_fe606660_d119_11ed_8196_00155d01cde5row3_col1\" class=\"data row3 col1\" >1.08e+04</td>\n",
       "                        <td id=\"T_fe606660_d119_11ed_8196_00155d01cde5row3_col2\" class=\"data row3 col2\" >0.0858</td>\n",
       "                        <td id=\"T_fe606660_d119_11ed_8196_00155d01cde5row3_col3\" class=\"data row3 col3\" >0.0816</td>\n",
       "            </tr>\n",
       "    </tbody></table>"
      ],
      "text/plain": [
       "<pandas.io.formats.style.Styler at 0x7f3ecd254df0>"
      ]
     },
     "metadata": {},
     "output_type": "display_data"
    },
    {
     "name": "stdout",
     "output_type": "stream",
     "text": [
      "[\u001b[1mtardis.simulation.base\u001b[0m][\u001b[1;37mINFO\u001b[0m   ]  \n",
      "\t\n",
      "\tCurrent t_inner = 10655.561 K\n",
      "\tExpected t_inner for next iteration = 10636.536 K\n",
      " (\u001b[1mbase.py\u001b[0m:554)\n",
      "[\u001b[1mtardis.simulation.base\u001b[0m][\u001b[1;37mINFO\u001b[0m   ]  \n",
      "\t\n",
      "\tStarting iteration 18 of 20 (\u001b[1mbase.py\u001b[0m:385)\n",
      "[\u001b[1mtardis.simulation.base\u001b[0m][\u001b[1;37mINFO\u001b[0m   ]  \n",
      "\t\n",
      "\tLuminosity emitted   = 1.057e+43 erg / s\n",
      "\tLuminosity absorbed  = 3.365e+42 erg / s\n",
      "\tLuminosity requested = 1.059e+43 erg / s\n",
      " (\u001b[1mbase.py\u001b[0m:559)\n",
      "[\u001b[1mtardis.simulation.base\u001b[0m][\u001b[1;37mINFO\u001b[0m   ]  \n",
      "\tIteration converged 1/4 consecutive times. (\u001b[1mbase.py\u001b[0m:266)\n",
      "[\u001b[1mtardis.simulation.base\u001b[0m][\u001b[1;37mINFO\u001b[0m   ]  \n",
      "\t\n",
      "\tPlasma stratification: (\u001b[1mbase.py\u001b[0m:527)\n"
     ]
    },
    {
     "data": {
      "text/html": [
       "<style  type=\"text/css\" >\n",
       "</style><table id=\"T_ff457c6e_d119_11ed_8196_00155d01cde5\" ><thead>    <tr>        <th class=\"index_name level0\" >Shell No.</th>        <th class=\"col_heading level0 col0\" >t_rad</th>        <th class=\"col_heading level0 col1\" >next_t_rad</th>        <th class=\"col_heading level0 col2\" >w</th>        <th class=\"col_heading level0 col3\" >next_w</th>    </tr></thead><tbody>\n",
       "                <tr>\n",
       "                        <th id=\"T_ff457c6e_d119_11ed_8196_00155d01cde5level0_row0\" class=\"row_heading level0 row0\" >0</th>\n",
       "                        <td id=\"T_ff457c6e_d119_11ed_8196_00155d01cde5row0_col0\" class=\"data row0 col0\" >1.11e+04</td>\n",
       "                        <td id=\"T_ff457c6e_d119_11ed_8196_00155d01cde5row0_col1\" class=\"data row0 col1\" >1.11e+04</td>\n",
       "                        <td id=\"T_ff457c6e_d119_11ed_8196_00155d01cde5row0_col2\" class=\"data row0 col2\" >0.468</td>\n",
       "                        <td id=\"T_ff457c6e_d119_11ed_8196_00155d01cde5row0_col3\" class=\"data row0 col3\" >0.464</td>\n",
       "            </tr>\n",
       "            <tr>\n",
       "                        <th id=\"T_ff457c6e_d119_11ed_8196_00155d01cde5level0_row1\" class=\"row_heading level0 row1\" >5</th>\n",
       "                        <td id=\"T_ff457c6e_d119_11ed_8196_00155d01cde5row1_col0\" class=\"data row1 col0\" >1.14e+04</td>\n",
       "                        <td id=\"T_ff457c6e_d119_11ed_8196_00155d01cde5row1_col1\" class=\"data row1 col1\" >1.13e+04</td>\n",
       "                        <td id=\"T_ff457c6e_d119_11ed_8196_00155d01cde5row1_col2\" class=\"data row1 col2\" >0.175</td>\n",
       "                        <td id=\"T_ff457c6e_d119_11ed_8196_00155d01cde5row1_col3\" class=\"data row1 col3\" >0.177</td>\n",
       "            </tr>\n",
       "            <tr>\n",
       "                        <th id=\"T_ff457c6e_d119_11ed_8196_00155d01cde5level0_row2\" class=\"row_heading level0 row2\" >10</th>\n",
       "                        <td id=\"T_ff457c6e_d119_11ed_8196_00155d01cde5row2_col0\" class=\"data row2 col0\" >1.11e+04</td>\n",
       "                        <td id=\"T_ff457c6e_d119_11ed_8196_00155d01cde5row2_col1\" class=\"data row2 col1\" >1.1e+04</td>\n",
       "                        <td id=\"T_ff457c6e_d119_11ed_8196_00155d01cde5row2_col2\" class=\"data row2 col2\" >0.11</td>\n",
       "                        <td id=\"T_ff457c6e_d119_11ed_8196_00155d01cde5row2_col3\" class=\"data row2 col3\" >0.113</td>\n",
       "            </tr>\n",
       "            <tr>\n",
       "                        <th id=\"T_ff457c6e_d119_11ed_8196_00155d01cde5level0_row3\" class=\"row_heading level0 row3\" >15</th>\n",
       "                        <td id=\"T_ff457c6e_d119_11ed_8196_00155d01cde5row3_col0\" class=\"data row3 col0\" >1.08e+04</td>\n",
       "                        <td id=\"T_ff457c6e_d119_11ed_8196_00155d01cde5row3_col1\" class=\"data row3 col1\" >1.07e+04</td>\n",
       "                        <td id=\"T_ff457c6e_d119_11ed_8196_00155d01cde5row3_col2\" class=\"data row3 col2\" >0.0816</td>\n",
       "                        <td id=\"T_ff457c6e_d119_11ed_8196_00155d01cde5row3_col3\" class=\"data row3 col3\" >0.0848</td>\n",
       "            </tr>\n",
       "    </tbody></table>"
      ],
      "text/plain": [
       "<pandas.io.formats.style.Styler at 0x7f3eca47d850>"
      ]
     },
     "metadata": {},
     "output_type": "display_data"
    },
    {
     "name": "stdout",
     "output_type": "stream",
     "text": [
      "[\u001b[1mtardis.simulation.base\u001b[0m][\u001b[1;37mINFO\u001b[0m   ]  \n",
      "\t\n",
      "\tCurrent t_inner = 10636.536 K\n",
      "\tExpected t_inner for next iteration = 10641.692 K\n",
      " (\u001b[1mbase.py\u001b[0m:554)\n",
      "[\u001b[1mtardis.simulation.base\u001b[0m][\u001b[1;37mINFO\u001b[0m   ]  \n",
      "\t\n",
      "\tStarting iteration 19 of 20 (\u001b[1mbase.py\u001b[0m:385)\n",
      "[\u001b[1mtardis.simulation.base\u001b[0m][\u001b[1;37mINFO\u001b[0m   ]  \n",
      "\t\n",
      "\tLuminosity emitted   = 1.056e+43 erg / s\n",
      "\tLuminosity absorbed  = 3.405e+42 erg / s\n",
      "\tLuminosity requested = 1.059e+43 erg / s\n",
      " (\u001b[1mbase.py\u001b[0m:559)\n",
      "[\u001b[1mtardis.simulation.base\u001b[0m][\u001b[1;37mINFO\u001b[0m   ]  \n",
      "\tIteration converged 2/4 consecutive times. (\u001b[1mbase.py\u001b[0m:266)\n",
      "[\u001b[1mtardis.simulation.base\u001b[0m][\u001b[1;37mINFO\u001b[0m   ]  \n",
      "\t\n",
      "\tPlasma stratification: (\u001b[1mbase.py\u001b[0m:527)\n"
     ]
    },
    {
     "data": {
      "text/html": [
       "<style  type=\"text/css\" >\n",
       "</style><table id=\"T_0034015e_d11a_11ed_8196_00155d01cde5\" ><thead>    <tr>        <th class=\"index_name level0\" >Shell No.</th>        <th class=\"col_heading level0 col0\" >t_rad</th>        <th class=\"col_heading level0 col1\" >next_t_rad</th>        <th class=\"col_heading level0 col2\" >w</th>        <th class=\"col_heading level0 col3\" >next_w</th>    </tr></thead><tbody>\n",
       "                <tr>\n",
       "                        <th id=\"T_0034015e_d11a_11ed_8196_00155d01cde5level0_row0\" class=\"row_heading level0 row0\" >0</th>\n",
       "                        <td id=\"T_0034015e_d11a_11ed_8196_00155d01cde5row0_col0\" class=\"data row0 col0\" >1.11e+04</td>\n",
       "                        <td id=\"T_0034015e_d11a_11ed_8196_00155d01cde5row0_col1\" class=\"data row0 col1\" >1.11e+04</td>\n",
       "                        <td id=\"T_0034015e_d11a_11ed_8196_00155d01cde5row0_col2\" class=\"data row0 col2\" >0.464</td>\n",
       "                        <td id=\"T_0034015e_d11a_11ed_8196_00155d01cde5row0_col3\" class=\"data row0 col3\" >0.466</td>\n",
       "            </tr>\n",
       "            <tr>\n",
       "                        <th id=\"T_0034015e_d11a_11ed_8196_00155d01cde5level0_row1\" class=\"row_heading level0 row1\" >5</th>\n",
       "                        <td id=\"T_0034015e_d11a_11ed_8196_00155d01cde5row1_col0\" class=\"data row1 col0\" >1.13e+04</td>\n",
       "                        <td id=\"T_0034015e_d11a_11ed_8196_00155d01cde5row1_col1\" class=\"data row1 col1\" >1.13e+04</td>\n",
       "                        <td id=\"T_0034015e_d11a_11ed_8196_00155d01cde5row1_col2\" class=\"data row1 col2\" >0.177</td>\n",
       "                        <td id=\"T_0034015e_d11a_11ed_8196_00155d01cde5row1_col3\" class=\"data row1 col3\" >0.177</td>\n",
       "            </tr>\n",
       "            <tr>\n",
       "                        <th id=\"T_0034015e_d11a_11ed_8196_00155d01cde5level0_row2\" class=\"row_heading level0 row2\" >10</th>\n",
       "                        <td id=\"T_0034015e_d11a_11ed_8196_00155d01cde5row2_col0\" class=\"data row2 col0\" >1.1e+04</td>\n",
       "                        <td id=\"T_0034015e_d11a_11ed_8196_00155d01cde5row2_col1\" class=\"data row2 col1\" >1.11e+04</td>\n",
       "                        <td id=\"T_0034015e_d11a_11ed_8196_00155d01cde5row2_col2\" class=\"data row2 col2\" >0.113</td>\n",
       "                        <td id=\"T_0034015e_d11a_11ed_8196_00155d01cde5row2_col3\" class=\"data row2 col3\" >0.111</td>\n",
       "            </tr>\n",
       "            <tr>\n",
       "                        <th id=\"T_0034015e_d11a_11ed_8196_00155d01cde5level0_row3\" class=\"row_heading level0 row3\" >15</th>\n",
       "                        <td id=\"T_0034015e_d11a_11ed_8196_00155d01cde5row3_col0\" class=\"data row3 col0\" >1.07e+04</td>\n",
       "                        <td id=\"T_0034015e_d11a_11ed_8196_00155d01cde5row3_col1\" class=\"data row3 col1\" >1.07e+04</td>\n",
       "                        <td id=\"T_0034015e_d11a_11ed_8196_00155d01cde5row3_col2\" class=\"data row3 col2\" >0.0848</td>\n",
       "                        <td id=\"T_0034015e_d11a_11ed_8196_00155d01cde5row3_col3\" class=\"data row3 col3\" >0.0853</td>\n",
       "            </tr>\n",
       "    </tbody></table>"
      ],
      "text/plain": [
       "<pandas.io.formats.style.Styler at 0x7f3eca7b5b20>"
      ]
     },
     "metadata": {},
     "output_type": "display_data"
    },
    {
     "name": "stdout",
     "output_type": "stream",
     "text": [
      "[\u001b[1mtardis.simulation.base\u001b[0m][\u001b[1;37mINFO\u001b[0m   ]  \n",
      "\t\n",
      "\tCurrent t_inner = 10641.692 K\n",
      "\tExpected t_inner for next iteration = 10650.463 K\n",
      " (\u001b[1mbase.py\u001b[0m:554)\n",
      "[\u001b[1mtardis.simulation.base\u001b[0m][\u001b[1;37mINFO\u001b[0m   ]  \n",
      "\t\n",
      "\tStarting iteration 20 of 20 (\u001b[1mbase.py\u001b[0m:385)\n",
      "[\u001b[1mtardis.simulation.base\u001b[0m][\u001b[1;37mINFO\u001b[0m   ]  \n",
      "\t\n",
      "\tLuminosity emitted   = 1.061e+43 erg / s\n",
      "\tLuminosity absorbed  = 3.401e+42 erg / s\n",
      "\tLuminosity requested = 1.059e+43 erg / s\n",
      " (\u001b[1mbase.py\u001b[0m:559)\n"
     ]
    },
    {
     "data": {
      "text/html": [
       "        <script type=\"text/javascript\">\n",
       "        window.PlotlyConfig = {MathJaxConfig: 'local'};\n",
       "        if (window.MathJax && window.MathJax.Hub && window.MathJax.Hub.Config) {window.MathJax.Hub.Config({SVG: {font: \"STIX-Web\"}});}\n",
       "        if (typeof require !== 'undefined') {\n",
       "        require.undef(\"plotly\");\n",
       "        requirejs.config({\n",
       "            paths: {\n",
       "                'plotly': ['https://cdn.plot.ly/plotly-2.18.2.min']\n",
       "            }\n",
       "        });\n",
       "        require(['plotly'], function(Plotly) {\n",
       "            window._Plotly = Plotly;\n",
       "        });\n",
       "        }\n",
       "        </script>\n",
       "        "
      ]
     },
     "metadata": {},
     "output_type": "display_data"
    },
    {
     "data": {
      "text/html": [
       "<div>                            <div id=\"3c767fc2-028c-4e03-88a8-75e3452d52d2\" class=\"plotly-graph-div\" style=\"height:450px; width:100%;\"></div>            <script type=\"text/javascript\">                require([\"plotly\"], function(Plotly) {                    window.PLOTLYENV=window.PLOTLYENV || {};                                    if (document.getElementById(\"3c767fc2-028c-4e03-88a8-75e3452d52d2\")) {                    Plotly.newPlot(                        \"3c767fc2-028c-4e03-88a8-75e3452d52d2\",                        [{\"type\":\"scatter\",\"uid\":\"9e40c88d-6f14-4b4c-8b66-2bd66b63c2b6\",\"xaxis\":\"x\",\"yaxis\":\"y\"},{\"type\":\"scatter\",\"uid\":\"1dbdbe98-5288-4a32-8603-f30cf0a225ae\",\"xaxis\":\"x2\",\"yaxis\":\"y2\"},{\"customdata\":[\"<br>Emitted Luminosity: 7.942e+42<br>Requested Luminosity: 1.059e+43<br>Absorbed Luminosity: 2.659e+42\",\"<br>Emitted Luminosity: 7.942e+42<br>Requested Luminosity: 1.059e+43<br>Absorbed Luminosity: 2.659e+42\",\"<br>Emitted Luminosity: 7.942e+42<br>Requested Luminosity: 1.059e+43<br>Absorbed Luminosity: 2.659e+42\",\"<br>Emitted Luminosity: 7.942e+42<br>Requested Luminosity: 1.059e+43<br>Absorbed Luminosity: 2.659e+42\",\"<br>Emitted Luminosity: 7.942e+42<br>Requested Luminosity: 1.059e+43<br>Absorbed Luminosity: 2.659e+42\",\"<br>Emitted Luminosity: 7.942e+42<br>Requested Luminosity: 1.059e+43<br>Absorbed Luminosity: 2.659e+42\",\"<br>Emitted Luminosity: 7.942e+42<br>Requested Luminosity: 1.059e+43<br>Absorbed Luminosity: 2.659e+42\",\"<br>Emitted Luminosity: 7.942e+42<br>Requested Luminosity: 1.059e+43<br>Absorbed Luminosity: 2.659e+42\",\"<br>Emitted Luminosity: 7.942e+42<br>Requested Luminosity: 1.059e+43<br>Absorbed Luminosity: 2.659e+42\",\"<br>Emitted Luminosity: 7.942e+42<br>Requested Luminosity: 1.059e+43<br>Absorbed Luminosity: 2.659e+42\",\"<br>Emitted Luminosity: 7.942e+42<br>Requested Luminosity: 1.059e+43<br>Absorbed Luminosity: 2.659e+42\",\"<br>Emitted Luminosity: 7.942e+42<br>Requested Luminosity: 1.059e+43<br>Absorbed Luminosity: 2.659e+42\",\"<br>Emitted Luminosity: 7.942e+42<br>Requested Luminosity: 1.059e+43<br>Absorbed Luminosity: 2.659e+42\",\"<br>Emitted Luminosity: 7.942e+42<br>Requested Luminosity: 1.059e+43<br>Absorbed Luminosity: 2.659e+42\",\"<br>Emitted Luminosity: 7.942e+42<br>Requested Luminosity: 1.059e+43<br>Absorbed Luminosity: 2.659e+42\",\"<br>Emitted Luminosity: 7.942e+42<br>Requested Luminosity: 1.059e+43<br>Absorbed Luminosity: 2.659e+42\",\"<br>Emitted Luminosity: 7.942e+42<br>Requested Luminosity: 1.059e+43<br>Absorbed Luminosity: 2.659e+42\",\"<br>Emitted Luminosity: 7.942e+42<br>Requested Luminosity: 1.059e+43<br>Absorbed Luminosity: 2.659e+42\",\"<br>Emitted Luminosity: 7.942e+42<br>Requested Luminosity: 1.059e+43<br>Absorbed Luminosity: 2.659e+42\",\"<br>Emitted Luminosity: 7.942e+42<br>Requested Luminosity: 1.059e+43<br>Absorbed Luminosity: 2.659e+42\",\"<br>Emitted Luminosity: 7.942e+42<br>Requested Luminosity: 1.059e+43<br>Absorbed Luminosity: 2.659e+42\"],\"hovertemplate\":\"<b>Y</b>: %{y:.3f} at <b>X</b> = %{x:,.0f}%{customdata}\",\"legendgroup\":\"group-1\",\"line\":{\"color\":\"#000080\"},\"name\":\"1\",\"showlegend\":false,\"x\":[11000.0,11450.000000000002,11900.000000000002,12350.000000000002,12800.000000000002,13250.000000000002,13700.000000000002,14150.000000000002,14600.000000000002,15050.000000000002,15500.000000000002,15950.000000000002,16400.0,16850.0,17300.0,17750.0,18200.0,18650.0,19100.0,19550.0,20000.0],\"y\":[9926.501965464813,9911.63537753482,9896.813253389762,9882.035393850509,9867.301600925806,9852.611677803428,9837.96542884143,9823.362659559447,9808.803176630105,9794.286787870464,9779.813302233586,9765.382529800137,9750.99428177009,9736.64837045449,9722.344609267282,9708.082812717237,9693.862796399926,9679.684376989773,9665.547372232175,9651.451600935694],\"type\":\"scatter\",\"uid\":\"52bd219f-b876-45d4-a1fe-a3159ed823c3\",\"xaxis\":\"x\",\"yaxis\":\"y\"},{\"customdata\":[\"<br>Emitted Luminosity: 7.942e+42<br>Requested Luminosity: 1.059e+43<br>Absorbed Luminosity: 2.659e+42\",\"<br>Emitted Luminosity: 7.942e+42<br>Requested Luminosity: 1.059e+43<br>Absorbed Luminosity: 2.659e+42\",\"<br>Emitted Luminosity: 7.942e+42<br>Requested Luminosity: 1.059e+43<br>Absorbed Luminosity: 2.659e+42\",\"<br>Emitted Luminosity: 7.942e+42<br>Requested Luminosity: 1.059e+43<br>Absorbed Luminosity: 2.659e+42\",\"<br>Emitted Luminosity: 7.942e+42<br>Requested Luminosity: 1.059e+43<br>Absorbed Luminosity: 2.659e+42\",\"<br>Emitted Luminosity: 7.942e+42<br>Requested Luminosity: 1.059e+43<br>Absorbed Luminosity: 2.659e+42\",\"<br>Emitted Luminosity: 7.942e+42<br>Requested Luminosity: 1.059e+43<br>Absorbed Luminosity: 2.659e+42\",\"<br>Emitted Luminosity: 7.942e+42<br>Requested Luminosity: 1.059e+43<br>Absorbed Luminosity: 2.659e+42\",\"<br>Emitted Luminosity: 7.942e+42<br>Requested Luminosity: 1.059e+43<br>Absorbed Luminosity: 2.659e+42\",\"<br>Emitted Luminosity: 7.942e+42<br>Requested Luminosity: 1.059e+43<br>Absorbed Luminosity: 2.659e+42\",\"<br>Emitted Luminosity: 7.942e+42<br>Requested Luminosity: 1.059e+43<br>Absorbed Luminosity: 2.659e+42\",\"<br>Emitted Luminosity: 7.942e+42<br>Requested Luminosity: 1.059e+43<br>Absorbed Luminosity: 2.659e+42\",\"<br>Emitted Luminosity: 7.942e+42<br>Requested Luminosity: 1.059e+43<br>Absorbed Luminosity: 2.659e+42\",\"<br>Emitted Luminosity: 7.942e+42<br>Requested Luminosity: 1.059e+43<br>Absorbed Luminosity: 2.659e+42\",\"<br>Emitted Luminosity: 7.942e+42<br>Requested Luminosity: 1.059e+43<br>Absorbed Luminosity: 2.659e+42\",\"<br>Emitted Luminosity: 7.942e+42<br>Requested Luminosity: 1.059e+43<br>Absorbed Luminosity: 2.659e+42\",\"<br>Emitted Luminosity: 7.942e+42<br>Requested Luminosity: 1.059e+43<br>Absorbed Luminosity: 2.659e+42\",\"<br>Emitted Luminosity: 7.942e+42<br>Requested Luminosity: 1.059e+43<br>Absorbed Luminosity: 2.659e+42\",\"<br>Emitted Luminosity: 7.942e+42<br>Requested Luminosity: 1.059e+43<br>Absorbed Luminosity: 2.659e+42\",\"<br>Emitted Luminosity: 7.942e+42<br>Requested Luminosity: 1.059e+43<br>Absorbed Luminosity: 2.659e+42\",\"<br>Emitted Luminosity: 7.942e+42<br>Requested Luminosity: 1.059e+43<br>Absorbed Luminosity: 2.659e+42\"],\"hovertemplate\":\"<b>Y</b>: %{y:.3f} at <b>X</b> = %{x:,.0f}%{customdata}\",\"legendgroup\":\"group-1\",\"line\":{\"color\":\"#000080\"},\"name\":\"1\",\"x\":[11000.0,11450.000000000002,11900.000000000002,12350.000000000002,12800.000000000002,13250.000000000002,13700.000000000002,14150.000000000002,14600.000000000002,15050.000000000002,15500.000000000002,15950.000000000002,16400.0,16850.0,17300.0,17750.0,18200.0,18650.0,19100.0,19550.0,20000.0],\"y\":[0.40039163797855976,0.33245223097543924,0.2896679818236787,0.2577141002351936,0.23224568138195772,0.211204659222757,0.19341188222536587,0.17811401706296348,0.16479446041469908,0.15308090298851573,0.14269498356756605,0.13342261532969785,0.12509541040763922,0.11757848682757521,0.11076215248105115,0.10455605179542055,0.09888493580965113,0.09368553636653854,0.08890421153628925,0.08449514228457095],\"type\":\"scatter\",\"uid\":\"839b588c-27ee-4bd8-b67d-341d1cbb2858\",\"xaxis\":\"x2\",\"yaxis\":\"y2\"},{\"customdata\":[\"<br>Emitted Luminosity: 1.071e+43<br>Requested Luminosity: 1.059e+43<br>Absorbed Luminosity: 3.576e+42\",\"<br>Emitted Luminosity: 1.071e+43<br>Requested Luminosity: 1.059e+43<br>Absorbed Luminosity: 3.576e+42\",\"<br>Emitted Luminosity: 1.071e+43<br>Requested Luminosity: 1.059e+43<br>Absorbed Luminosity: 3.576e+42\",\"<br>Emitted Luminosity: 1.071e+43<br>Requested Luminosity: 1.059e+43<br>Absorbed Luminosity: 3.576e+42\",\"<br>Emitted Luminosity: 1.071e+43<br>Requested Luminosity: 1.059e+43<br>Absorbed Luminosity: 3.576e+42\",\"<br>Emitted Luminosity: 1.071e+43<br>Requested Luminosity: 1.059e+43<br>Absorbed Luminosity: 3.576e+42\",\"<br>Emitted Luminosity: 1.071e+43<br>Requested Luminosity: 1.059e+43<br>Absorbed Luminosity: 3.576e+42\",\"<br>Emitted Luminosity: 1.071e+43<br>Requested Luminosity: 1.059e+43<br>Absorbed Luminosity: 3.576e+42\",\"<br>Emitted Luminosity: 1.071e+43<br>Requested Luminosity: 1.059e+43<br>Absorbed Luminosity: 3.576e+42\",\"<br>Emitted Luminosity: 1.071e+43<br>Requested Luminosity: 1.059e+43<br>Absorbed Luminosity: 3.576e+42\",\"<br>Emitted Luminosity: 1.071e+43<br>Requested Luminosity: 1.059e+43<br>Absorbed Luminosity: 3.576e+42\",\"<br>Emitted Luminosity: 1.071e+43<br>Requested Luminosity: 1.059e+43<br>Absorbed Luminosity: 3.576e+42\",\"<br>Emitted Luminosity: 1.071e+43<br>Requested Luminosity: 1.059e+43<br>Absorbed Luminosity: 3.576e+42\",\"<br>Emitted Luminosity: 1.071e+43<br>Requested Luminosity: 1.059e+43<br>Absorbed Luminosity: 3.576e+42\",\"<br>Emitted Luminosity: 1.071e+43<br>Requested Luminosity: 1.059e+43<br>Absorbed Luminosity: 3.576e+42\",\"<br>Emitted Luminosity: 1.071e+43<br>Requested Luminosity: 1.059e+43<br>Absorbed Luminosity: 3.576e+42\",\"<br>Emitted Luminosity: 1.071e+43<br>Requested Luminosity: 1.059e+43<br>Absorbed Luminosity: 3.576e+42\",\"<br>Emitted Luminosity: 1.071e+43<br>Requested Luminosity: 1.059e+43<br>Absorbed Luminosity: 3.576e+42\",\"<br>Emitted Luminosity: 1.071e+43<br>Requested Luminosity: 1.059e+43<br>Absorbed Luminosity: 3.576e+42\",\"<br>Emitted Luminosity: 1.071e+43<br>Requested Luminosity: 1.059e+43<br>Absorbed Luminosity: 3.576e+42\",\"<br>Emitted Luminosity: 1.071e+43<br>Requested Luminosity: 1.059e+43<br>Absorbed Luminosity: 3.576e+42\"],\"hovertemplate\":\"<b>Y</b>: %{y:.3f} at <b>X</b> = %{x:,.0f}%{customdata}\",\"legendgroup\":\"group-2\",\"line\":{\"color\":\"#0000bd\"},\"name\":\"2\",\"showlegend\":false,\"x\":[11000.0,11450.000000000002,11900.000000000002,12350.000000000002,12800.000000000002,13250.000000000002,13700.000000000002,14150.000000000002,14600.000000000002,15050.000000000002,15500.000000000002,15950.000000000002,16400.0,16850.0,17300.0,17750.0,18200.0,18650.0,19100.0,19550.0,20000.0],\"y\":[10140.644658439542,10163.140953757294,10199.392781222336,10228.793058184721,10271.14775928106,10224.009713529731,10228.732523936602,10216.98049975123,10217.783033963953,10193.706231603874,10148.77879424612,10080.136790247385,10031.646882137076,10030.254549667037,9988.127023793642,9874.634222100454,9844.474903130327,9776.381862231508,9680.562581778318,9611.593058427065],\"type\":\"scatter\",\"uid\":\"27f2174f-925b-489f-aeac-a6c93c4abf51\",\"xaxis\":\"x\",\"yaxis\":\"y\"},{\"customdata\":[\"<br>Emitted Luminosity: 1.071e+43<br>Requested Luminosity: 1.059e+43<br>Absorbed Luminosity: 3.576e+42\",\"<br>Emitted Luminosity: 1.071e+43<br>Requested Luminosity: 1.059e+43<br>Absorbed Luminosity: 3.576e+42\",\"<br>Emitted Luminosity: 1.071e+43<br>Requested Luminosity: 1.059e+43<br>Absorbed Luminosity: 3.576e+42\",\"<br>Emitted Luminosity: 1.071e+43<br>Requested Luminosity: 1.059e+43<br>Absorbed Luminosity: 3.576e+42\",\"<br>Emitted Luminosity: 1.071e+43<br>Requested Luminosity: 1.059e+43<br>Absorbed Luminosity: 3.576e+42\",\"<br>Emitted Luminosity: 1.071e+43<br>Requested Luminosity: 1.059e+43<br>Absorbed Luminosity: 3.576e+42\",\"<br>Emitted Luminosity: 1.071e+43<br>Requested Luminosity: 1.059e+43<br>Absorbed Luminosity: 3.576e+42\",\"<br>Emitted Luminosity: 1.071e+43<br>Requested Luminosity: 1.059e+43<br>Absorbed Luminosity: 3.576e+42\",\"<br>Emitted Luminosity: 1.071e+43<br>Requested Luminosity: 1.059e+43<br>Absorbed Luminosity: 3.576e+42\",\"<br>Emitted Luminosity: 1.071e+43<br>Requested Luminosity: 1.059e+43<br>Absorbed Luminosity: 3.576e+42\",\"<br>Emitted Luminosity: 1.071e+43<br>Requested Luminosity: 1.059e+43<br>Absorbed Luminosity: 3.576e+42\",\"<br>Emitted Luminosity: 1.071e+43<br>Requested Luminosity: 1.059e+43<br>Absorbed Luminosity: 3.576e+42\",\"<br>Emitted Luminosity: 1.071e+43<br>Requested Luminosity: 1.059e+43<br>Absorbed Luminosity: 3.576e+42\",\"<br>Emitted Luminosity: 1.071e+43<br>Requested Luminosity: 1.059e+43<br>Absorbed Luminosity: 3.576e+42\",\"<br>Emitted Luminosity: 1.071e+43<br>Requested Luminosity: 1.059e+43<br>Absorbed Luminosity: 3.576e+42\",\"<br>Emitted Luminosity: 1.071e+43<br>Requested Luminosity: 1.059e+43<br>Absorbed Luminosity: 3.576e+42\",\"<br>Emitted Luminosity: 1.071e+43<br>Requested Luminosity: 1.059e+43<br>Absorbed Luminosity: 3.576e+42\",\"<br>Emitted Luminosity: 1.071e+43<br>Requested Luminosity: 1.059e+43<br>Absorbed Luminosity: 3.576e+42\",\"<br>Emitted Luminosity: 1.071e+43<br>Requested Luminosity: 1.059e+43<br>Absorbed Luminosity: 3.576e+42\",\"<br>Emitted Luminosity: 1.071e+43<br>Requested Luminosity: 1.059e+43<br>Absorbed Luminosity: 3.576e+42\",\"<br>Emitted Luminosity: 1.071e+43<br>Requested Luminosity: 1.059e+43<br>Absorbed Luminosity: 3.576e+42\"],\"hovertemplate\":\"<b>Y</b>: %{y:.3f} at <b>X</b> = %{x:,.0f}%{customdata}\",\"legendgroup\":\"group-2\",\"line\":{\"color\":\"#0000bd\"},\"name\":\"2\",\"x\":[11000.0,11450.000000000002,11900.000000000002,12350.000000000002,12800.000000000002,13250.000000000002,13700.000000000002,14150.000000000002,14600.000000000002,15050.000000000002,15500.000000000002,15950.000000000002,16400.0,16850.0,17300.0,17750.0,18200.0,18650.0,19100.0,19550.0,20000.0],\"y\":[0.5074939829206923,0.39593831162891974,0.32150485888655256,0.26573787630888046,0.2236515966575156,0.19686688849248643,0.1746427953806124,0.15625093331810624,0.13946942342362417,0.12759533918829524,0.11697794966442067,0.10915672831486313,0.10296463647641346,0.09515332126864076,0.08981745405810737,0.08689548233577292,0.08198790793189142,0.07881149990806682,0.07637264409196337,0.07345198061495406],\"type\":\"scatter\",\"uid\":\"d4ca5c51-4ae9-456f-ad7b-511884029b55\",\"xaxis\":\"x2\",\"yaxis\":\"y2\"},{\"customdata\":[\"<br>Emitted Luminosity: 1.074e+43<br>Requested Luminosity: 1.059e+43<br>Absorbed Luminosity: 3.391e+42\",\"<br>Emitted Luminosity: 1.074e+43<br>Requested Luminosity: 1.059e+43<br>Absorbed Luminosity: 3.391e+42\",\"<br>Emitted Luminosity: 1.074e+43<br>Requested Luminosity: 1.059e+43<br>Absorbed Luminosity: 3.391e+42\",\"<br>Emitted Luminosity: 1.074e+43<br>Requested Luminosity: 1.059e+43<br>Absorbed Luminosity: 3.391e+42\",\"<br>Emitted Luminosity: 1.074e+43<br>Requested Luminosity: 1.059e+43<br>Absorbed Luminosity: 3.391e+42\",\"<br>Emitted Luminosity: 1.074e+43<br>Requested Luminosity: 1.059e+43<br>Absorbed Luminosity: 3.391e+42\",\"<br>Emitted Luminosity: 1.074e+43<br>Requested Luminosity: 1.059e+43<br>Absorbed Luminosity: 3.391e+42\",\"<br>Emitted Luminosity: 1.074e+43<br>Requested Luminosity: 1.059e+43<br>Absorbed Luminosity: 3.391e+42\",\"<br>Emitted Luminosity: 1.074e+43<br>Requested Luminosity: 1.059e+43<br>Absorbed Luminosity: 3.391e+42\",\"<br>Emitted Luminosity: 1.074e+43<br>Requested Luminosity: 1.059e+43<br>Absorbed Luminosity: 3.391e+42\",\"<br>Emitted Luminosity: 1.074e+43<br>Requested Luminosity: 1.059e+43<br>Absorbed Luminosity: 3.391e+42\",\"<br>Emitted Luminosity: 1.074e+43<br>Requested Luminosity: 1.059e+43<br>Absorbed Luminosity: 3.391e+42\",\"<br>Emitted Luminosity: 1.074e+43<br>Requested Luminosity: 1.059e+43<br>Absorbed Luminosity: 3.391e+42\",\"<br>Emitted Luminosity: 1.074e+43<br>Requested Luminosity: 1.059e+43<br>Absorbed Luminosity: 3.391e+42\",\"<br>Emitted Luminosity: 1.074e+43<br>Requested Luminosity: 1.059e+43<br>Absorbed Luminosity: 3.391e+42\",\"<br>Emitted Luminosity: 1.074e+43<br>Requested Luminosity: 1.059e+43<br>Absorbed Luminosity: 3.391e+42\",\"<br>Emitted Luminosity: 1.074e+43<br>Requested Luminosity: 1.059e+43<br>Absorbed Luminosity: 3.391e+42\",\"<br>Emitted Luminosity: 1.074e+43<br>Requested Luminosity: 1.059e+43<br>Absorbed Luminosity: 3.391e+42\",\"<br>Emitted Luminosity: 1.074e+43<br>Requested Luminosity: 1.059e+43<br>Absorbed Luminosity: 3.391e+42\",\"<br>Emitted Luminosity: 1.074e+43<br>Requested Luminosity: 1.059e+43<br>Absorbed Luminosity: 3.391e+42\",\"<br>Emitted Luminosity: 1.074e+43<br>Requested Luminosity: 1.059e+43<br>Absorbed Luminosity: 3.391e+42\"],\"hovertemplate\":\"<b>Y</b>: %{y:.3f} at <b>X</b> = %{x:,.0f}%{customdata}\",\"legendgroup\":\"group-3\",\"line\":{\"color\":\"#0000fa\"},\"name\":\"3\",\"showlegend\":false,\"x\":[11000.0,11450.000000000002,11900.000000000002,12350.000000000002,12800.000000000002,13250.000000000002,13700.000000000002,14150.000000000002,14600.000000000002,15050.000000000002,15500.000000000002,15950.000000000002,16400.0,16850.0,17300.0,17750.0,18200.0,18650.0,19100.0,19550.0,20000.0],\"y\":[10821.384716452618,10824.073750748426,10898.794282582268,10931.581728038504,10962.883353030435,10956.472449386303,10935.661811838692,10896.39448533546,10868.778286813804,10846.86064742898,10799.242899977484,10741.078256171446,10679.036544922537,10616.6413627693,10548.485755133186,10483.027318852863,10402.58849317583,10353.528838881302,10280.790364670062,10205.898074506073],\"type\":\"scatter\",\"uid\":\"e526861b-986f-41fd-a073-1bd01c0695ae\",\"xaxis\":\"x\",\"yaxis\":\"y\"},{\"customdata\":[\"<br>Emitted Luminosity: 1.074e+43<br>Requested Luminosity: 1.059e+43<br>Absorbed Luminosity: 3.391e+42\",\"<br>Emitted Luminosity: 1.074e+43<br>Requested Luminosity: 1.059e+43<br>Absorbed Luminosity: 3.391e+42\",\"<br>Emitted Luminosity: 1.074e+43<br>Requested Luminosity: 1.059e+43<br>Absorbed Luminosity: 3.391e+42\",\"<br>Emitted Luminosity: 1.074e+43<br>Requested Luminosity: 1.059e+43<br>Absorbed Luminosity: 3.391e+42\",\"<br>Emitted Luminosity: 1.074e+43<br>Requested Luminosity: 1.059e+43<br>Absorbed Luminosity: 3.391e+42\",\"<br>Emitted Luminosity: 1.074e+43<br>Requested Luminosity: 1.059e+43<br>Absorbed Luminosity: 3.391e+42\",\"<br>Emitted Luminosity: 1.074e+43<br>Requested Luminosity: 1.059e+43<br>Absorbed Luminosity: 3.391e+42\",\"<br>Emitted Luminosity: 1.074e+43<br>Requested Luminosity: 1.059e+43<br>Absorbed Luminosity: 3.391e+42\",\"<br>Emitted Luminosity: 1.074e+43<br>Requested Luminosity: 1.059e+43<br>Absorbed Luminosity: 3.391e+42\",\"<br>Emitted Luminosity: 1.074e+43<br>Requested Luminosity: 1.059e+43<br>Absorbed Luminosity: 3.391e+42\",\"<br>Emitted Luminosity: 1.074e+43<br>Requested Luminosity: 1.059e+43<br>Absorbed Luminosity: 3.391e+42\",\"<br>Emitted Luminosity: 1.074e+43<br>Requested Luminosity: 1.059e+43<br>Absorbed Luminosity: 3.391e+42\",\"<br>Emitted Luminosity: 1.074e+43<br>Requested Luminosity: 1.059e+43<br>Absorbed Luminosity: 3.391e+42\",\"<br>Emitted Luminosity: 1.074e+43<br>Requested Luminosity: 1.059e+43<br>Absorbed Luminosity: 3.391e+42\",\"<br>Emitted Luminosity: 1.074e+43<br>Requested Luminosity: 1.059e+43<br>Absorbed Luminosity: 3.391e+42\",\"<br>Emitted Luminosity: 1.074e+43<br>Requested Luminosity: 1.059e+43<br>Absorbed Luminosity: 3.391e+42\",\"<br>Emitted Luminosity: 1.074e+43<br>Requested Luminosity: 1.059e+43<br>Absorbed Luminosity: 3.391e+42\",\"<br>Emitted Luminosity: 1.074e+43<br>Requested Luminosity: 1.059e+43<br>Absorbed Luminosity: 3.391e+42\",\"<br>Emitted Luminosity: 1.074e+43<br>Requested Luminosity: 1.059e+43<br>Absorbed Luminosity: 3.391e+42\",\"<br>Emitted Luminosity: 1.074e+43<br>Requested Luminosity: 1.059e+43<br>Absorbed Luminosity: 3.391e+42\",\"<br>Emitted Luminosity: 1.074e+43<br>Requested Luminosity: 1.059e+43<br>Absorbed Luminosity: 3.391e+42\"],\"hovertemplate\":\"<b>Y</b>: %{y:.3f} at <b>X</b> = %{x:,.0f}%{customdata}\",\"legendgroup\":\"group-3\",\"line\":{\"color\":\"#0000fa\"},\"name\":\"3\",\"x\":[11000.0,11450.000000000002,11900.000000000002,12350.000000000002,12800.000000000002,13250.000000000002,13700.000000000002,14150.000000000002,14600.000000000002,15050.000000000002,15500.000000000002,15950.000000000002,16400.0,16850.0,17300.0,17750.0,18200.0,18650.0,19100.0,19550.0,20000.0],\"y\":[0.5246621760292522,0.41191697242104874,0.3308242841928414,0.2739415803649503,0.23102276356532733,0.20265771066458735,0.18068103823778492,0.1621546746407504,0.14618948104529478,0.13362668956992607,0.12450448547982718,0.11605105087549324,0.10925211388307246,0.10302987363746915,0.09831778993852412,0.0932577131276202,0.08908435787384879,0.0844680544819523,0.08117712884118686,0.07815148665239899],\"type\":\"scatter\",\"uid\":\"ec4a4699-8007-4041-8893-665ba5493a44\",\"xaxis\":\"x2\",\"yaxis\":\"y2\"},{\"customdata\":[\"<br>Emitted Luminosity: 1.058e+43<br>Requested Luminosity: 1.059e+43<br>Absorbed Luminosity: 3.352e+42\",\"<br>Emitted Luminosity: 1.058e+43<br>Requested Luminosity: 1.059e+43<br>Absorbed Luminosity: 3.352e+42\",\"<br>Emitted Luminosity: 1.058e+43<br>Requested Luminosity: 1.059e+43<br>Absorbed Luminosity: 3.352e+42\",\"<br>Emitted Luminosity: 1.058e+43<br>Requested Luminosity: 1.059e+43<br>Absorbed Luminosity: 3.352e+42\",\"<br>Emitted Luminosity: 1.058e+43<br>Requested Luminosity: 1.059e+43<br>Absorbed Luminosity: 3.352e+42\",\"<br>Emitted Luminosity: 1.058e+43<br>Requested Luminosity: 1.059e+43<br>Absorbed Luminosity: 3.352e+42\",\"<br>Emitted Luminosity: 1.058e+43<br>Requested Luminosity: 1.059e+43<br>Absorbed Luminosity: 3.352e+42\",\"<br>Emitted Luminosity: 1.058e+43<br>Requested Luminosity: 1.059e+43<br>Absorbed Luminosity: 3.352e+42\",\"<br>Emitted Luminosity: 1.058e+43<br>Requested Luminosity: 1.059e+43<br>Absorbed Luminosity: 3.352e+42\",\"<br>Emitted Luminosity: 1.058e+43<br>Requested Luminosity: 1.059e+43<br>Absorbed Luminosity: 3.352e+42\",\"<br>Emitted Luminosity: 1.058e+43<br>Requested Luminosity: 1.059e+43<br>Absorbed Luminosity: 3.352e+42\",\"<br>Emitted Luminosity: 1.058e+43<br>Requested Luminosity: 1.059e+43<br>Absorbed Luminosity: 3.352e+42\",\"<br>Emitted Luminosity: 1.058e+43<br>Requested Luminosity: 1.059e+43<br>Absorbed Luminosity: 3.352e+42\",\"<br>Emitted Luminosity: 1.058e+43<br>Requested Luminosity: 1.059e+43<br>Absorbed Luminosity: 3.352e+42\",\"<br>Emitted Luminosity: 1.058e+43<br>Requested Luminosity: 1.059e+43<br>Absorbed Luminosity: 3.352e+42\",\"<br>Emitted Luminosity: 1.058e+43<br>Requested Luminosity: 1.059e+43<br>Absorbed Luminosity: 3.352e+42\",\"<br>Emitted Luminosity: 1.058e+43<br>Requested Luminosity: 1.059e+43<br>Absorbed Luminosity: 3.352e+42\",\"<br>Emitted Luminosity: 1.058e+43<br>Requested Luminosity: 1.059e+43<br>Absorbed Luminosity: 3.352e+42\",\"<br>Emitted Luminosity: 1.058e+43<br>Requested Luminosity: 1.059e+43<br>Absorbed Luminosity: 3.352e+42\",\"<br>Emitted Luminosity: 1.058e+43<br>Requested Luminosity: 1.059e+43<br>Absorbed Luminosity: 3.352e+42\",\"<br>Emitted Luminosity: 1.058e+43<br>Requested Luminosity: 1.059e+43<br>Absorbed Luminosity: 3.352e+42\"],\"hovertemplate\":\"<b>Y</b>: %{y:.3f} at <b>X</b> = %{x:,.0f}%{customdata}\",\"legendgroup\":\"group-4\",\"line\":{\"color\":\"#0022ff\"},\"name\":\"4\",\"showlegend\":false,\"x\":[11000.0,11450.000000000002,11900.000000000002,12350.000000000002,12800.000000000002,13250.000000000002,13700.000000000002,14150.000000000002,14600.000000000002,15050.000000000002,15500.000000000002,15950.000000000002,16400.0,16850.0,17300.0,17750.0,18200.0,18650.0,19100.0,19550.0,20000.0],\"y\":[11001.63491828877,11064.199689011102,11146.787545057517,11182.280653331733,11189.736123692379,11179.454369423815,11213.792074052692,11157.651049771413,11091.366692176985,11032.681911673415,10951.713111707237,10882.347593647746,10815.565741490967,10758.062388449987,10666.645789560242,10589.476597771141,10519.279070600584,10489.380846260961,10394.331364500695,10280.445356607623],\"type\":\"scatter\",\"uid\":\"4eb9bd8a-fac2-4f2c-b276-f39cfeb0848d\",\"xaxis\":\"x\",\"yaxis\":\"y\"},{\"customdata\":[\"<br>Emitted Luminosity: 1.058e+43<br>Requested Luminosity: 1.059e+43<br>Absorbed Luminosity: 3.352e+42\",\"<br>Emitted Luminosity: 1.058e+43<br>Requested Luminosity: 1.059e+43<br>Absorbed Luminosity: 3.352e+42\",\"<br>Emitted Luminosity: 1.058e+43<br>Requested Luminosity: 1.059e+43<br>Absorbed Luminosity: 3.352e+42\",\"<br>Emitted Luminosity: 1.058e+43<br>Requested Luminosity: 1.059e+43<br>Absorbed Luminosity: 3.352e+42\",\"<br>Emitted Luminosity: 1.058e+43<br>Requested Luminosity: 1.059e+43<br>Absorbed Luminosity: 3.352e+42\",\"<br>Emitted Luminosity: 1.058e+43<br>Requested Luminosity: 1.059e+43<br>Absorbed Luminosity: 3.352e+42\",\"<br>Emitted Luminosity: 1.058e+43<br>Requested Luminosity: 1.059e+43<br>Absorbed Luminosity: 3.352e+42\",\"<br>Emitted Luminosity: 1.058e+43<br>Requested Luminosity: 1.059e+43<br>Absorbed Luminosity: 3.352e+42\",\"<br>Emitted Luminosity: 1.058e+43<br>Requested Luminosity: 1.059e+43<br>Absorbed Luminosity: 3.352e+42\",\"<br>Emitted Luminosity: 1.058e+43<br>Requested Luminosity: 1.059e+43<br>Absorbed Luminosity: 3.352e+42\",\"<br>Emitted Luminosity: 1.058e+43<br>Requested Luminosity: 1.059e+43<br>Absorbed Luminosity: 3.352e+42\",\"<br>Emitted Luminosity: 1.058e+43<br>Requested Luminosity: 1.059e+43<br>Absorbed Luminosity: 3.352e+42\",\"<br>Emitted Luminosity: 1.058e+43<br>Requested Luminosity: 1.059e+43<br>Absorbed Luminosity: 3.352e+42\",\"<br>Emitted Luminosity: 1.058e+43<br>Requested Luminosity: 1.059e+43<br>Absorbed Luminosity: 3.352e+42\",\"<br>Emitted Luminosity: 1.058e+43<br>Requested Luminosity: 1.059e+43<br>Absorbed Luminosity: 3.352e+42\",\"<br>Emitted Luminosity: 1.058e+43<br>Requested Luminosity: 1.059e+43<br>Absorbed Luminosity: 3.352e+42\",\"<br>Emitted Luminosity: 1.058e+43<br>Requested Luminosity: 1.059e+43<br>Absorbed Luminosity: 3.352e+42\",\"<br>Emitted Luminosity: 1.058e+43<br>Requested Luminosity: 1.059e+43<br>Absorbed Luminosity: 3.352e+42\",\"<br>Emitted Luminosity: 1.058e+43<br>Requested Luminosity: 1.059e+43<br>Absorbed Luminosity: 3.352e+42\",\"<br>Emitted Luminosity: 1.058e+43<br>Requested Luminosity: 1.059e+43<br>Absorbed Luminosity: 3.352e+42\",\"<br>Emitted Luminosity: 1.058e+43<br>Requested Luminosity: 1.059e+43<br>Absorbed Luminosity: 3.352e+42\"],\"hovertemplate\":\"<b>Y</b>: %{y:.3f} at <b>X</b> = %{x:,.0f}%{customdata}\",\"legendgroup\":\"group-4\",\"line\":{\"color\":\"#0022ff\"},\"name\":\"4\",\"x\":[11000.0,11450.000000000002,11900.000000000002,12350.000000000002,12800.000000000002,13250.000000000002,13700.000000000002,14150.000000000002,14600.000000000002,15050.000000000002,15500.000000000002,15950.000000000002,16400.0,16850.0,17300.0,17750.0,18200.0,18650.0,19100.0,19550.0,20000.0],\"y\":[0.4825561102740267,0.37531673900188633,0.30088544054364375,0.24970650566435726,0.21504788747697892,0.18892102325998097,0.16485989155704636,0.14922567218546698,0.1373433490366654,0.12706282392806373,0.11816510452204845,0.11046612213518439,0.10408751562676469,0.09837704095780848,0.0938010779914792,0.08948233963910264,0.08532986022143944,0.08049857949608492,0.07819235373949814,0.07599589756382476],\"type\":\"scatter\",\"uid\":\"74994d67-e2de-4973-85ed-8923add71c6f\",\"xaxis\":\"x2\",\"yaxis\":\"y2\"},{\"customdata\":[\"<br>Emitted Luminosity: 1.055e+43<br>Requested Luminosity: 1.059e+43<br>Absorbed Luminosity: 3.399e+42\",\"<br>Emitted Luminosity: 1.055e+43<br>Requested Luminosity: 1.059e+43<br>Absorbed Luminosity: 3.399e+42\",\"<br>Emitted Luminosity: 1.055e+43<br>Requested Luminosity: 1.059e+43<br>Absorbed Luminosity: 3.399e+42\",\"<br>Emitted Luminosity: 1.055e+43<br>Requested Luminosity: 1.059e+43<br>Absorbed Luminosity: 3.399e+42\",\"<br>Emitted Luminosity: 1.055e+43<br>Requested Luminosity: 1.059e+43<br>Absorbed Luminosity: 3.399e+42\",\"<br>Emitted Luminosity: 1.055e+43<br>Requested Luminosity: 1.059e+43<br>Absorbed Luminosity: 3.399e+42\",\"<br>Emitted Luminosity: 1.055e+43<br>Requested Luminosity: 1.059e+43<br>Absorbed Luminosity: 3.399e+42\",\"<br>Emitted Luminosity: 1.055e+43<br>Requested Luminosity: 1.059e+43<br>Absorbed Luminosity: 3.399e+42\",\"<br>Emitted Luminosity: 1.055e+43<br>Requested Luminosity: 1.059e+43<br>Absorbed Luminosity: 3.399e+42\",\"<br>Emitted Luminosity: 1.055e+43<br>Requested Luminosity: 1.059e+43<br>Absorbed Luminosity: 3.399e+42\",\"<br>Emitted Luminosity: 1.055e+43<br>Requested Luminosity: 1.059e+43<br>Absorbed Luminosity: 3.399e+42\",\"<br>Emitted Luminosity: 1.055e+43<br>Requested Luminosity: 1.059e+43<br>Absorbed Luminosity: 3.399e+42\",\"<br>Emitted Luminosity: 1.055e+43<br>Requested Luminosity: 1.059e+43<br>Absorbed Luminosity: 3.399e+42\",\"<br>Emitted Luminosity: 1.055e+43<br>Requested Luminosity: 1.059e+43<br>Absorbed Luminosity: 3.399e+42\",\"<br>Emitted Luminosity: 1.055e+43<br>Requested Luminosity: 1.059e+43<br>Absorbed Luminosity: 3.399e+42\",\"<br>Emitted Luminosity: 1.055e+43<br>Requested Luminosity: 1.059e+43<br>Absorbed Luminosity: 3.399e+42\",\"<br>Emitted Luminosity: 1.055e+43<br>Requested Luminosity: 1.059e+43<br>Absorbed Luminosity: 3.399e+42\",\"<br>Emitted Luminosity: 1.055e+43<br>Requested Luminosity: 1.059e+43<br>Absorbed Luminosity: 3.399e+42\",\"<br>Emitted Luminosity: 1.055e+43<br>Requested Luminosity: 1.059e+43<br>Absorbed Luminosity: 3.399e+42\",\"<br>Emitted Luminosity: 1.055e+43<br>Requested Luminosity: 1.059e+43<br>Absorbed Luminosity: 3.399e+42\",\"<br>Emitted Luminosity: 1.055e+43<br>Requested Luminosity: 1.059e+43<br>Absorbed Luminosity: 3.399e+42\"],\"hovertemplate\":\"<b>Y</b>: %{y:.3f} at <b>X</b> = %{x:,.0f}%{customdata}\",\"legendgroup\":\"group-5\",\"line\":{\"color\":\"#0057ff\"},\"name\":\"5\",\"showlegend\":false,\"x\":[11000.0,11450.000000000002,11900.000000000002,12350.000000000002,12800.000000000002,13250.000000000002,13700.000000000002,14150.000000000002,14600.000000000002,15050.000000000002,15500.000000000002,15950.000000000002,16400.0,16850.0,17300.0,17750.0,18200.0,18650.0,19100.0,19550.0,20000.0],\"y\":[11038.698133319715,11131.435799441568,11213.984633035108,11254.938537458933,11264.10756107921,11231.114026250598,11180.23476709943,11161.437575828259,11095.861090734456,11098.458607564842,11036.77140577105,10960.496906399812,10968.575819463375,10890.828989905996,10799.341137335276,10659.853383147958,10549.231623432073,10506.788250185062,10398.595227817386,10289.349894730598],\"type\":\"scatter\",\"uid\":\"3ec7ea68-832b-4c51-9a0c-59f1d0bf80ae\",\"xaxis\":\"x\",\"yaxis\":\"y\"},{\"customdata\":[\"<br>Emitted Luminosity: 1.055e+43<br>Requested Luminosity: 1.059e+43<br>Absorbed Luminosity: 3.399e+42\",\"<br>Emitted Luminosity: 1.055e+43<br>Requested Luminosity: 1.059e+43<br>Absorbed Luminosity: 3.399e+42\",\"<br>Emitted Luminosity: 1.055e+43<br>Requested Luminosity: 1.059e+43<br>Absorbed Luminosity: 3.399e+42\",\"<br>Emitted Luminosity: 1.055e+43<br>Requested Luminosity: 1.059e+43<br>Absorbed Luminosity: 3.399e+42\",\"<br>Emitted Luminosity: 1.055e+43<br>Requested Luminosity: 1.059e+43<br>Absorbed Luminosity: 3.399e+42\",\"<br>Emitted Luminosity: 1.055e+43<br>Requested Luminosity: 1.059e+43<br>Absorbed Luminosity: 3.399e+42\",\"<br>Emitted Luminosity: 1.055e+43<br>Requested Luminosity: 1.059e+43<br>Absorbed Luminosity: 3.399e+42\",\"<br>Emitted Luminosity: 1.055e+43<br>Requested Luminosity: 1.059e+43<br>Absorbed Luminosity: 3.399e+42\",\"<br>Emitted Luminosity: 1.055e+43<br>Requested Luminosity: 1.059e+43<br>Absorbed Luminosity: 3.399e+42\",\"<br>Emitted Luminosity: 1.055e+43<br>Requested Luminosity: 1.059e+43<br>Absorbed Luminosity: 3.399e+42\",\"<br>Emitted Luminosity: 1.055e+43<br>Requested Luminosity: 1.059e+43<br>Absorbed Luminosity: 3.399e+42\",\"<br>Emitted Luminosity: 1.055e+43<br>Requested Luminosity: 1.059e+43<br>Absorbed Luminosity: 3.399e+42\",\"<br>Emitted Luminosity: 1.055e+43<br>Requested Luminosity: 1.059e+43<br>Absorbed Luminosity: 3.399e+42\",\"<br>Emitted Luminosity: 1.055e+43<br>Requested Luminosity: 1.059e+43<br>Absorbed Luminosity: 3.399e+42\",\"<br>Emitted Luminosity: 1.055e+43<br>Requested Luminosity: 1.059e+43<br>Absorbed Luminosity: 3.399e+42\",\"<br>Emitted Luminosity: 1.055e+43<br>Requested Luminosity: 1.059e+43<br>Absorbed Luminosity: 3.399e+42\",\"<br>Emitted Luminosity: 1.055e+43<br>Requested Luminosity: 1.059e+43<br>Absorbed Luminosity: 3.399e+42\",\"<br>Emitted Luminosity: 1.055e+43<br>Requested Luminosity: 1.059e+43<br>Absorbed Luminosity: 3.399e+42\",\"<br>Emitted Luminosity: 1.055e+43<br>Requested Luminosity: 1.059e+43<br>Absorbed Luminosity: 3.399e+42\",\"<br>Emitted Luminosity: 1.055e+43<br>Requested Luminosity: 1.059e+43<br>Absorbed Luminosity: 3.399e+42\",\"<br>Emitted Luminosity: 1.055e+43<br>Requested Luminosity: 1.059e+43<br>Absorbed Luminosity: 3.399e+42\"],\"hovertemplate\":\"<b>Y</b>: %{y:.3f} at <b>X</b> = %{x:,.0f}%{customdata}\",\"legendgroup\":\"group-5\",\"line\":{\"color\":\"#0057ff\"},\"name\":\"5\",\"x\":[11000.0,11450.000000000002,11900.000000000002,12350.000000000002,12800.000000000002,13250.000000000002,13700.000000000002,14150.000000000002,14600.000000000002,15050.000000000002,15500.000000000002,15950.000000000002,16400.0,16850.0,17300.0,17750.0,18200.0,18650.0,19100.0,19550.0,20000.0],\"y\":[0.4687538476918109,0.3582440793604919,0.28599634589916145,0.23841076673448713,0.20840515079453156,0.18245979900971596,0.163853028229353,0.14657197302070712,0.13503875104453528,0.12203984302262252,0.11334205862439263,0.10619057923554845,0.0976544578502103,0.09265039020379298,0.08856994824064779,0.0861030166939687,0.08350964472774983,0.07926097434257329,0.07675258324197395,0.07475268831395629],\"type\":\"scatter\",\"uid\":\"f778b7b3-c722-430b-9e16-5d8af4221ebb\",\"xaxis\":\"x2\",\"yaxis\":\"y2\"},{\"customdata\":[\"<br>Emitted Luminosity: 1.061e+43<br>Requested Luminosity: 1.059e+43<br>Absorbed Luminosity: 3.398e+42\",\"<br>Emitted Luminosity: 1.061e+43<br>Requested Luminosity: 1.059e+43<br>Absorbed Luminosity: 3.398e+42\",\"<br>Emitted Luminosity: 1.061e+43<br>Requested Luminosity: 1.059e+43<br>Absorbed Luminosity: 3.398e+42\",\"<br>Emitted Luminosity: 1.061e+43<br>Requested Luminosity: 1.059e+43<br>Absorbed Luminosity: 3.398e+42\",\"<br>Emitted Luminosity: 1.061e+43<br>Requested Luminosity: 1.059e+43<br>Absorbed Luminosity: 3.398e+42\",\"<br>Emitted Luminosity: 1.061e+43<br>Requested Luminosity: 1.059e+43<br>Absorbed Luminosity: 3.398e+42\",\"<br>Emitted Luminosity: 1.061e+43<br>Requested Luminosity: 1.059e+43<br>Absorbed Luminosity: 3.398e+42\",\"<br>Emitted Luminosity: 1.061e+43<br>Requested Luminosity: 1.059e+43<br>Absorbed Luminosity: 3.398e+42\",\"<br>Emitted Luminosity: 1.061e+43<br>Requested Luminosity: 1.059e+43<br>Absorbed Luminosity: 3.398e+42\",\"<br>Emitted Luminosity: 1.061e+43<br>Requested Luminosity: 1.059e+43<br>Absorbed Luminosity: 3.398e+42\",\"<br>Emitted Luminosity: 1.061e+43<br>Requested Luminosity: 1.059e+43<br>Absorbed Luminosity: 3.398e+42\",\"<br>Emitted Luminosity: 1.061e+43<br>Requested Luminosity: 1.059e+43<br>Absorbed Luminosity: 3.398e+42\",\"<br>Emitted Luminosity: 1.061e+43<br>Requested Luminosity: 1.059e+43<br>Absorbed Luminosity: 3.398e+42\",\"<br>Emitted Luminosity: 1.061e+43<br>Requested Luminosity: 1.059e+43<br>Absorbed Luminosity: 3.398e+42\",\"<br>Emitted Luminosity: 1.061e+43<br>Requested Luminosity: 1.059e+43<br>Absorbed Luminosity: 3.398e+42\",\"<br>Emitted Luminosity: 1.061e+43<br>Requested Luminosity: 1.059e+43<br>Absorbed Luminosity: 3.398e+42\",\"<br>Emitted Luminosity: 1.061e+43<br>Requested Luminosity: 1.059e+43<br>Absorbed Luminosity: 3.398e+42\",\"<br>Emitted Luminosity: 1.061e+43<br>Requested Luminosity: 1.059e+43<br>Absorbed Luminosity: 3.398e+42\",\"<br>Emitted Luminosity: 1.061e+43<br>Requested Luminosity: 1.059e+43<br>Absorbed Luminosity: 3.398e+42\",\"<br>Emitted Luminosity: 1.061e+43<br>Requested Luminosity: 1.059e+43<br>Absorbed Luminosity: 3.398e+42\",\"<br>Emitted Luminosity: 1.061e+43<br>Requested Luminosity: 1.059e+43<br>Absorbed Luminosity: 3.398e+42\"],\"hovertemplate\":\"<b>Y</b>: %{y:.3f} at <b>X</b> = %{x:,.0f}%{customdata}\",\"legendgroup\":\"group-6\",\"line\":{\"color\":\"#008dff\"},\"name\":\"6\",\"showlegend\":false,\"x\":[11000.0,11450.000000000002,11900.000000000002,12350.000000000002,12800.000000000002,13250.000000000002,13700.000000000002,14150.000000000002,14600.000000000002,15050.000000000002,15500.000000000002,15950.000000000002,16400.0,16850.0,17300.0,17750.0,18200.0,18650.0,19100.0,19550.0,20000.0],\"y\":[11004.02448965988,11119.370907976156,11195.435272777355,11259.07218492983,11285.207808046458,11285.177362845287,11257.669785381573,11225.435571936488,11186.445768225169,11099.126705981143,11029.75412478075,10939.092352940232,10877.977505280127,10799.952863140219,10803.94962659834,10716.294187213074,10608.390277767312,10536.800302652611,10451.345002096905,10351.499433918842],\"type\":\"scatter\",\"uid\":\"f6049e77-eeee-4f6c-9e27-e3fea44f376b\",\"xaxis\":\"x\",\"yaxis\":\"y\"},{\"customdata\":[\"<br>Emitted Luminosity: 1.061e+43<br>Requested Luminosity: 1.059e+43<br>Absorbed Luminosity: 3.398e+42\",\"<br>Emitted Luminosity: 1.061e+43<br>Requested Luminosity: 1.059e+43<br>Absorbed Luminosity: 3.398e+42\",\"<br>Emitted Luminosity: 1.061e+43<br>Requested Luminosity: 1.059e+43<br>Absorbed Luminosity: 3.398e+42\",\"<br>Emitted Luminosity: 1.061e+43<br>Requested Luminosity: 1.059e+43<br>Absorbed Luminosity: 3.398e+42\",\"<br>Emitted Luminosity: 1.061e+43<br>Requested Luminosity: 1.059e+43<br>Absorbed Luminosity: 3.398e+42\",\"<br>Emitted Luminosity: 1.061e+43<br>Requested Luminosity: 1.059e+43<br>Absorbed Luminosity: 3.398e+42\",\"<br>Emitted Luminosity: 1.061e+43<br>Requested Luminosity: 1.059e+43<br>Absorbed Luminosity: 3.398e+42\",\"<br>Emitted Luminosity: 1.061e+43<br>Requested Luminosity: 1.059e+43<br>Absorbed Luminosity: 3.398e+42\",\"<br>Emitted Luminosity: 1.061e+43<br>Requested Luminosity: 1.059e+43<br>Absorbed Luminosity: 3.398e+42\",\"<br>Emitted Luminosity: 1.061e+43<br>Requested Luminosity: 1.059e+43<br>Absorbed Luminosity: 3.398e+42\",\"<br>Emitted Luminosity: 1.061e+43<br>Requested Luminosity: 1.059e+43<br>Absorbed Luminosity: 3.398e+42\",\"<br>Emitted Luminosity: 1.061e+43<br>Requested Luminosity: 1.059e+43<br>Absorbed Luminosity: 3.398e+42\",\"<br>Emitted Luminosity: 1.061e+43<br>Requested Luminosity: 1.059e+43<br>Absorbed Luminosity: 3.398e+42\",\"<br>Emitted Luminosity: 1.061e+43<br>Requested Luminosity: 1.059e+43<br>Absorbed Luminosity: 3.398e+42\",\"<br>Emitted Luminosity: 1.061e+43<br>Requested Luminosity: 1.059e+43<br>Absorbed Luminosity: 3.398e+42\",\"<br>Emitted Luminosity: 1.061e+43<br>Requested Luminosity: 1.059e+43<br>Absorbed Luminosity: 3.398e+42\",\"<br>Emitted Luminosity: 1.061e+43<br>Requested Luminosity: 1.059e+43<br>Absorbed Luminosity: 3.398e+42\",\"<br>Emitted Luminosity: 1.061e+43<br>Requested Luminosity: 1.059e+43<br>Absorbed Luminosity: 3.398e+42\",\"<br>Emitted Luminosity: 1.061e+43<br>Requested Luminosity: 1.059e+43<br>Absorbed Luminosity: 3.398e+42\",\"<br>Emitted Luminosity: 1.061e+43<br>Requested Luminosity: 1.059e+43<br>Absorbed Luminosity: 3.398e+42\",\"<br>Emitted Luminosity: 1.061e+43<br>Requested Luminosity: 1.059e+43<br>Absorbed Luminosity: 3.398e+42\"],\"hovertemplate\":\"<b>Y</b>: %{y:.3f} at <b>X</b> = %{x:,.0f}%{customdata}\",\"legendgroup\":\"group-6\",\"line\":{\"color\":\"#008dff\"},\"name\":\"6\",\"x\":[11000.0,11450.000000000002,11900.000000000002,12350.000000000002,12800.000000000002,13250.000000000002,13700.000000000002,14150.000000000002,14600.000000000002,15050.000000000002,15500.000000000002,15950.000000000002,16400.0,16850.0,17300.0,17750.0,18200.0,18650.0,19100.0,19550.0,20000.0],\"y\":[0.47879511389335977,0.3672291183719122,0.29262089744493736,0.24239288815881777,0.20444578448470946,0.17802906434287472,0.15880728036632202,0.14352699270970717,0.13113431023478955,0.12123492206018875,0.11293848121019134,0.10720611537789493,0.09996151019829137,0.09452711171505654,0.08773741567449582,0.08385741258414964,0.08091696481124848,0.07741620755854663,0.07503066951006149,0.0727305286162828],\"type\":\"scatter\",\"uid\":\"549f2f34-f363-4625-a724-1cc6a3a87ae7\",\"xaxis\":\"x2\",\"yaxis\":\"y2\"},{\"customdata\":[\"<br>Emitted Luminosity: 1.061e+43<br>Requested Luminosity: 1.059e+43<br>Absorbed Luminosity: 3.382e+42\",\"<br>Emitted Luminosity: 1.061e+43<br>Requested Luminosity: 1.059e+43<br>Absorbed Luminosity: 3.382e+42\",\"<br>Emitted Luminosity: 1.061e+43<br>Requested Luminosity: 1.059e+43<br>Absorbed Luminosity: 3.382e+42\",\"<br>Emitted Luminosity: 1.061e+43<br>Requested Luminosity: 1.059e+43<br>Absorbed Luminosity: 3.382e+42\",\"<br>Emitted Luminosity: 1.061e+43<br>Requested Luminosity: 1.059e+43<br>Absorbed Luminosity: 3.382e+42\",\"<br>Emitted Luminosity: 1.061e+43<br>Requested Luminosity: 1.059e+43<br>Absorbed Luminosity: 3.382e+42\",\"<br>Emitted Luminosity: 1.061e+43<br>Requested Luminosity: 1.059e+43<br>Absorbed Luminosity: 3.382e+42\",\"<br>Emitted Luminosity: 1.061e+43<br>Requested Luminosity: 1.059e+43<br>Absorbed Luminosity: 3.382e+42\",\"<br>Emitted Luminosity: 1.061e+43<br>Requested Luminosity: 1.059e+43<br>Absorbed Luminosity: 3.382e+42\",\"<br>Emitted Luminosity: 1.061e+43<br>Requested Luminosity: 1.059e+43<br>Absorbed Luminosity: 3.382e+42\",\"<br>Emitted Luminosity: 1.061e+43<br>Requested Luminosity: 1.059e+43<br>Absorbed Luminosity: 3.382e+42\",\"<br>Emitted Luminosity: 1.061e+43<br>Requested Luminosity: 1.059e+43<br>Absorbed Luminosity: 3.382e+42\",\"<br>Emitted Luminosity: 1.061e+43<br>Requested Luminosity: 1.059e+43<br>Absorbed Luminosity: 3.382e+42\",\"<br>Emitted Luminosity: 1.061e+43<br>Requested Luminosity: 1.059e+43<br>Absorbed Luminosity: 3.382e+42\",\"<br>Emitted Luminosity: 1.061e+43<br>Requested Luminosity: 1.059e+43<br>Absorbed Luminosity: 3.382e+42\",\"<br>Emitted Luminosity: 1.061e+43<br>Requested Luminosity: 1.059e+43<br>Absorbed Luminosity: 3.382e+42\",\"<br>Emitted Luminosity: 1.061e+43<br>Requested Luminosity: 1.059e+43<br>Absorbed Luminosity: 3.382e+42\",\"<br>Emitted Luminosity: 1.061e+43<br>Requested Luminosity: 1.059e+43<br>Absorbed Luminosity: 3.382e+42\",\"<br>Emitted Luminosity: 1.061e+43<br>Requested Luminosity: 1.059e+43<br>Absorbed Luminosity: 3.382e+42\",\"<br>Emitted Luminosity: 1.061e+43<br>Requested Luminosity: 1.059e+43<br>Absorbed Luminosity: 3.382e+42\",\"<br>Emitted Luminosity: 1.061e+43<br>Requested Luminosity: 1.059e+43<br>Absorbed Luminosity: 3.382e+42\"],\"hovertemplate\":\"<b>Y</b>: %{y:.3f} at <b>X</b> = %{x:,.0f}%{customdata}\",\"legendgroup\":\"group-7\",\"line\":{\"color\":\"#00c3ff\"},\"name\":\"7\",\"showlegend\":false,\"x\":[11000.0,11450.000000000002,11900.000000000002,12350.000000000002,12800.000000000002,13250.000000000002,13700.000000000002,14150.000000000002,14600.000000000002,15050.000000000002,15500.000000000002,15950.000000000002,16400.0,16850.0,17300.0,17750.0,18200.0,18650.0,19100.0,19550.0,20000.0],\"y\":[11049.228732355556,11156.739354515781,11233.159171838808,11257.86819871853,11259.221213382083,11218.728487793936,11177.38354002748,11170.932602943101,11091.339644892225,11058.832588706184,11086.886472116768,10967.000400044035,10888.705512509967,10859.351173962054,10794.11621244714,10665.940454226306,10614.036765336796,10560.167635600492,10433.60010902555,10347.135454231407],\"type\":\"scatter\",\"uid\":\"c000bd75-c972-478b-a026-5e6220bda9b0\",\"xaxis\":\"x\",\"yaxis\":\"y\"},{\"customdata\":[\"<br>Emitted Luminosity: 1.061e+43<br>Requested Luminosity: 1.059e+43<br>Absorbed Luminosity: 3.382e+42\",\"<br>Emitted Luminosity: 1.061e+43<br>Requested Luminosity: 1.059e+43<br>Absorbed Luminosity: 3.382e+42\",\"<br>Emitted Luminosity: 1.061e+43<br>Requested Luminosity: 1.059e+43<br>Absorbed Luminosity: 3.382e+42\",\"<br>Emitted Luminosity: 1.061e+43<br>Requested Luminosity: 1.059e+43<br>Absorbed Luminosity: 3.382e+42\",\"<br>Emitted Luminosity: 1.061e+43<br>Requested Luminosity: 1.059e+43<br>Absorbed Luminosity: 3.382e+42\",\"<br>Emitted Luminosity: 1.061e+43<br>Requested Luminosity: 1.059e+43<br>Absorbed Luminosity: 3.382e+42\",\"<br>Emitted Luminosity: 1.061e+43<br>Requested Luminosity: 1.059e+43<br>Absorbed Luminosity: 3.382e+42\",\"<br>Emitted Luminosity: 1.061e+43<br>Requested Luminosity: 1.059e+43<br>Absorbed Luminosity: 3.382e+42\",\"<br>Emitted Luminosity: 1.061e+43<br>Requested Luminosity: 1.059e+43<br>Absorbed Luminosity: 3.382e+42\",\"<br>Emitted Luminosity: 1.061e+43<br>Requested Luminosity: 1.059e+43<br>Absorbed Luminosity: 3.382e+42\",\"<br>Emitted Luminosity: 1.061e+43<br>Requested Luminosity: 1.059e+43<br>Absorbed Luminosity: 3.382e+42\",\"<br>Emitted Luminosity: 1.061e+43<br>Requested Luminosity: 1.059e+43<br>Absorbed Luminosity: 3.382e+42\",\"<br>Emitted Luminosity: 1.061e+43<br>Requested Luminosity: 1.059e+43<br>Absorbed Luminosity: 3.382e+42\",\"<br>Emitted Luminosity: 1.061e+43<br>Requested Luminosity: 1.059e+43<br>Absorbed Luminosity: 3.382e+42\",\"<br>Emitted Luminosity: 1.061e+43<br>Requested Luminosity: 1.059e+43<br>Absorbed Luminosity: 3.382e+42\",\"<br>Emitted Luminosity: 1.061e+43<br>Requested Luminosity: 1.059e+43<br>Absorbed Luminosity: 3.382e+42\",\"<br>Emitted Luminosity: 1.061e+43<br>Requested Luminosity: 1.059e+43<br>Absorbed Luminosity: 3.382e+42\",\"<br>Emitted Luminosity: 1.061e+43<br>Requested Luminosity: 1.059e+43<br>Absorbed Luminosity: 3.382e+42\",\"<br>Emitted Luminosity: 1.061e+43<br>Requested Luminosity: 1.059e+43<br>Absorbed Luminosity: 3.382e+42\",\"<br>Emitted Luminosity: 1.061e+43<br>Requested Luminosity: 1.059e+43<br>Absorbed Luminosity: 3.382e+42\",\"<br>Emitted Luminosity: 1.061e+43<br>Requested Luminosity: 1.059e+43<br>Absorbed Luminosity: 3.382e+42\"],\"hovertemplate\":\"<b>Y</b>: %{y:.3f} at <b>X</b> = %{x:,.0f}%{customdata}\",\"legendgroup\":\"group-7\",\"line\":{\"color\":\"#00c3ff\"},\"name\":\"7\",\"x\":[11000.0,11450.000000000002,11900.000000000002,12350.000000000002,12800.000000000002,13250.000000000002,13700.000000000002,14150.000000000002,14600.000000000002,15050.000000000002,15500.000000000002,15950.000000000002,16400.0,16850.0,17300.0,17750.0,18200.0,18650.0,19100.0,19550.0,20000.0],\"y\":[0.4697400940159989,0.3588700697047578,0.29077776563828733,0.2443651184699209,0.20776673425141703,0.18520749605643985,0.16487114788798934,0.14711076442391705,0.13525030370898627,0.12403257789506678,0.1120823457302164,0.10708808842987295,0.10081990994107459,0.09351009430956674,0.08797758265708829,0.08557481001143187,0.08167863229931246,0.07764065281949219,0.07578960072572655,0.07324774090303574],\"type\":\"scatter\",\"uid\":\"e08243ab-d37f-4268-aac8-eac2f4094274\",\"xaxis\":\"x2\",\"yaxis\":\"y2\"},{\"customdata\":[\"<br>Emitted Luminosity: 1.062e+43<br>Requested Luminosity: 1.059e+43<br>Absorbed Luminosity: 3.35e+42\",\"<br>Emitted Luminosity: 1.062e+43<br>Requested Luminosity: 1.059e+43<br>Absorbed Luminosity: 3.35e+42\",\"<br>Emitted Luminosity: 1.062e+43<br>Requested Luminosity: 1.059e+43<br>Absorbed Luminosity: 3.35e+42\",\"<br>Emitted Luminosity: 1.062e+43<br>Requested Luminosity: 1.059e+43<br>Absorbed Luminosity: 3.35e+42\",\"<br>Emitted Luminosity: 1.062e+43<br>Requested Luminosity: 1.059e+43<br>Absorbed Luminosity: 3.35e+42\",\"<br>Emitted Luminosity: 1.062e+43<br>Requested Luminosity: 1.059e+43<br>Absorbed Luminosity: 3.35e+42\",\"<br>Emitted Luminosity: 1.062e+43<br>Requested Luminosity: 1.059e+43<br>Absorbed Luminosity: 3.35e+42\",\"<br>Emitted Luminosity: 1.062e+43<br>Requested Luminosity: 1.059e+43<br>Absorbed Luminosity: 3.35e+42\",\"<br>Emitted Luminosity: 1.062e+43<br>Requested Luminosity: 1.059e+43<br>Absorbed Luminosity: 3.35e+42\",\"<br>Emitted Luminosity: 1.062e+43<br>Requested Luminosity: 1.059e+43<br>Absorbed Luminosity: 3.35e+42\",\"<br>Emitted Luminosity: 1.062e+43<br>Requested Luminosity: 1.059e+43<br>Absorbed Luminosity: 3.35e+42\",\"<br>Emitted Luminosity: 1.062e+43<br>Requested Luminosity: 1.059e+43<br>Absorbed Luminosity: 3.35e+42\",\"<br>Emitted Luminosity: 1.062e+43<br>Requested Luminosity: 1.059e+43<br>Absorbed Luminosity: 3.35e+42\",\"<br>Emitted Luminosity: 1.062e+43<br>Requested Luminosity: 1.059e+43<br>Absorbed Luminosity: 3.35e+42\",\"<br>Emitted Luminosity: 1.062e+43<br>Requested Luminosity: 1.059e+43<br>Absorbed Luminosity: 3.35e+42\",\"<br>Emitted Luminosity: 1.062e+43<br>Requested Luminosity: 1.059e+43<br>Absorbed Luminosity: 3.35e+42\",\"<br>Emitted Luminosity: 1.062e+43<br>Requested Luminosity: 1.059e+43<br>Absorbed Luminosity: 3.35e+42\",\"<br>Emitted Luminosity: 1.062e+43<br>Requested Luminosity: 1.059e+43<br>Absorbed Luminosity: 3.35e+42\",\"<br>Emitted Luminosity: 1.062e+43<br>Requested Luminosity: 1.059e+43<br>Absorbed Luminosity: 3.35e+42\",\"<br>Emitted Luminosity: 1.062e+43<br>Requested Luminosity: 1.059e+43<br>Absorbed Luminosity: 3.35e+42\",\"<br>Emitted Luminosity: 1.062e+43<br>Requested Luminosity: 1.059e+43<br>Absorbed Luminosity: 3.35e+42\"],\"hovertemplate\":\"<b>Y</b>: %{y:.3f} at <b>X</b> = %{x:,.0f}%{customdata}\",\"legendgroup\":\"group-8\",\"line\":{\"color\":\"#0ff8e8\"},\"name\":\"8\",\"showlegend\":false,\"x\":[11000.0,11450.000000000002,11900.000000000002,12350.000000000002,12800.000000000002,13250.000000000002,13700.000000000002,14150.000000000002,14600.000000000002,15050.000000000002,15500.000000000002,15950.000000000002,16400.0,16850.0,17300.0,17750.0,18200.0,18650.0,19100.0,19550.0,20000.0],\"y\":[11037.085037194009,11149.996498693194,11245.895992066266,11293.021085350516,11348.844546340544,11303.814507501313,11275.886160361562,11193.561854480457,11139.76204035302,11142.501672440289,11052.1571050735,10947.278343765189,10930.67339710046,10870.232618754235,10717.538511627448,10653.978725318404,10563.076210054696,10483.387471111886,10423.154014947191,10305.269629801827],\"type\":\"scatter\",\"uid\":\"2df80be0-b604-48ce-a355-f438b6d0a645\",\"xaxis\":\"x\",\"yaxis\":\"y\"},{\"customdata\":[\"<br>Emitted Luminosity: 1.062e+43<br>Requested Luminosity: 1.059e+43<br>Absorbed Luminosity: 3.35e+42\",\"<br>Emitted Luminosity: 1.062e+43<br>Requested Luminosity: 1.059e+43<br>Absorbed Luminosity: 3.35e+42\",\"<br>Emitted Luminosity: 1.062e+43<br>Requested Luminosity: 1.059e+43<br>Absorbed Luminosity: 3.35e+42\",\"<br>Emitted Luminosity: 1.062e+43<br>Requested Luminosity: 1.059e+43<br>Absorbed Luminosity: 3.35e+42\",\"<br>Emitted Luminosity: 1.062e+43<br>Requested Luminosity: 1.059e+43<br>Absorbed Luminosity: 3.35e+42\",\"<br>Emitted Luminosity: 1.062e+43<br>Requested Luminosity: 1.059e+43<br>Absorbed Luminosity: 3.35e+42\",\"<br>Emitted Luminosity: 1.062e+43<br>Requested Luminosity: 1.059e+43<br>Absorbed Luminosity: 3.35e+42\",\"<br>Emitted Luminosity: 1.062e+43<br>Requested Luminosity: 1.059e+43<br>Absorbed Luminosity: 3.35e+42\",\"<br>Emitted Luminosity: 1.062e+43<br>Requested Luminosity: 1.059e+43<br>Absorbed Luminosity: 3.35e+42\",\"<br>Emitted Luminosity: 1.062e+43<br>Requested Luminosity: 1.059e+43<br>Absorbed Luminosity: 3.35e+42\",\"<br>Emitted Luminosity: 1.062e+43<br>Requested Luminosity: 1.059e+43<br>Absorbed Luminosity: 3.35e+42\",\"<br>Emitted Luminosity: 1.062e+43<br>Requested Luminosity: 1.059e+43<br>Absorbed Luminosity: 3.35e+42\",\"<br>Emitted Luminosity: 1.062e+43<br>Requested Luminosity: 1.059e+43<br>Absorbed Luminosity: 3.35e+42\",\"<br>Emitted Luminosity: 1.062e+43<br>Requested Luminosity: 1.059e+43<br>Absorbed Luminosity: 3.35e+42\",\"<br>Emitted Luminosity: 1.062e+43<br>Requested Luminosity: 1.059e+43<br>Absorbed Luminosity: 3.35e+42\",\"<br>Emitted Luminosity: 1.062e+43<br>Requested Luminosity: 1.059e+43<br>Absorbed Luminosity: 3.35e+42\",\"<br>Emitted Luminosity: 1.062e+43<br>Requested Luminosity: 1.059e+43<br>Absorbed Luminosity: 3.35e+42\",\"<br>Emitted Luminosity: 1.062e+43<br>Requested Luminosity: 1.059e+43<br>Absorbed Luminosity: 3.35e+42\",\"<br>Emitted Luminosity: 1.062e+43<br>Requested Luminosity: 1.059e+43<br>Absorbed Luminosity: 3.35e+42\",\"<br>Emitted Luminosity: 1.062e+43<br>Requested Luminosity: 1.059e+43<br>Absorbed Luminosity: 3.35e+42\",\"<br>Emitted Luminosity: 1.062e+43<br>Requested Luminosity: 1.059e+43<br>Absorbed Luminosity: 3.35e+42\"],\"hovertemplate\":\"<b>Y</b>: %{y:.3f} at <b>X</b> = %{x:,.0f}%{customdata}\",\"legendgroup\":\"group-8\",\"line\":{\"color\":\"#0ff8e8\"},\"name\":\"8\",\"x\":[11000.0,11450.000000000002,11900.000000000002,12350.000000000002,12800.000000000002,13250.000000000002,13700.000000000002,14150.000000000002,14600.000000000002,15050.000000000002,15500.000000000002,15950.000000000002,16400.0,16850.0,17300.0,17750.0,18200.0,18650.0,19100.0,19550.0,20000.0],\"y\":[0.4695170928704695,0.35581323779390794,0.28344389342857873,0.23679038121368753,0.20063186744576297,0.17752655689561778,0.1589681006377081,0.1456698378802275,0.13249513450931635,0.11945436911075201,0.11202516442423788,0.10653028310041686,0.09880763358506521,0.09250430944965728,0.09049045767406833,0.0859771673369659,0.08263854439908638,0.07942790299289666,0.0761618875049034,0.07438003691528036],\"type\":\"scatter\",\"uid\":\"e778eba4-9afb-4936-9e4e-6f7e1e61c9dc\",\"xaxis\":\"x2\",\"yaxis\":\"y2\"},{\"customdata\":[\"<br>Emitted Luminosity: 1.052e+43<br>Requested Luminosity: 1.059e+43<br>Absorbed Luminosity: 3.411e+42\",\"<br>Emitted Luminosity: 1.052e+43<br>Requested Luminosity: 1.059e+43<br>Absorbed Luminosity: 3.411e+42\",\"<br>Emitted Luminosity: 1.052e+43<br>Requested Luminosity: 1.059e+43<br>Absorbed Luminosity: 3.411e+42\",\"<br>Emitted Luminosity: 1.052e+43<br>Requested Luminosity: 1.059e+43<br>Absorbed Luminosity: 3.411e+42\",\"<br>Emitted Luminosity: 1.052e+43<br>Requested Luminosity: 1.059e+43<br>Absorbed Luminosity: 3.411e+42\",\"<br>Emitted Luminosity: 1.052e+43<br>Requested Luminosity: 1.059e+43<br>Absorbed Luminosity: 3.411e+42\",\"<br>Emitted Luminosity: 1.052e+43<br>Requested Luminosity: 1.059e+43<br>Absorbed Luminosity: 3.411e+42\",\"<br>Emitted Luminosity: 1.052e+43<br>Requested Luminosity: 1.059e+43<br>Absorbed Luminosity: 3.411e+42\",\"<br>Emitted Luminosity: 1.052e+43<br>Requested Luminosity: 1.059e+43<br>Absorbed Luminosity: 3.411e+42\",\"<br>Emitted Luminosity: 1.052e+43<br>Requested Luminosity: 1.059e+43<br>Absorbed Luminosity: 3.411e+42\",\"<br>Emitted Luminosity: 1.052e+43<br>Requested Luminosity: 1.059e+43<br>Absorbed Luminosity: 3.411e+42\",\"<br>Emitted Luminosity: 1.052e+43<br>Requested Luminosity: 1.059e+43<br>Absorbed Luminosity: 3.411e+42\",\"<br>Emitted Luminosity: 1.052e+43<br>Requested Luminosity: 1.059e+43<br>Absorbed Luminosity: 3.411e+42\",\"<br>Emitted Luminosity: 1.052e+43<br>Requested Luminosity: 1.059e+43<br>Absorbed Luminosity: 3.411e+42\",\"<br>Emitted Luminosity: 1.052e+43<br>Requested Luminosity: 1.059e+43<br>Absorbed Luminosity: 3.411e+42\",\"<br>Emitted Luminosity: 1.052e+43<br>Requested Luminosity: 1.059e+43<br>Absorbed Luminosity: 3.411e+42\",\"<br>Emitted Luminosity: 1.052e+43<br>Requested Luminosity: 1.059e+43<br>Absorbed Luminosity: 3.411e+42\",\"<br>Emitted Luminosity: 1.052e+43<br>Requested Luminosity: 1.059e+43<br>Absorbed Luminosity: 3.411e+42\",\"<br>Emitted Luminosity: 1.052e+43<br>Requested Luminosity: 1.059e+43<br>Absorbed Luminosity: 3.411e+42\",\"<br>Emitted Luminosity: 1.052e+43<br>Requested Luminosity: 1.059e+43<br>Absorbed Luminosity: 3.411e+42\",\"<br>Emitted Luminosity: 1.052e+43<br>Requested Luminosity: 1.059e+43<br>Absorbed Luminosity: 3.411e+42\"],\"hovertemplate\":\"<b>Y</b>: %{y:.3f} at <b>X</b> = %{x:,.0f}%{customdata}\",\"legendgroup\":\"group-9\",\"line\":{\"color\":\"#3affbc\"},\"name\":\"9\",\"showlegend\":false,\"x\":[11000.0,11450.000000000002,11900.000000000002,12350.000000000002,12800.000000000002,13250.000000000002,13700.000000000002,14150.000000000002,14600.000000000002,15050.000000000002,15500.000000000002,15950.000000000002,16400.0,16850.0,17300.0,17750.0,18200.0,18650.0,19100.0,19550.0,20000.0],\"y\":[11052.295325497002,11212.705361919512,11368.864591182273,11398.789963745721,11425.824065083909,11374.755681704642,11321.373184735607,11274.453385553124,11206.414763213432,11152.830452841747,11103.737908148853,10987.81945397592,10971.696465389155,10850.543109804717,10728.169760230838,10715.36023173836,10614.329903571435,10533.835974010104,10505.237794759547,10368.71936512106],\"type\":\"scatter\",\"uid\":\"ca0e5d96-5b8b-4b8c-b670-e52f860bef42\",\"xaxis\":\"x\",\"yaxis\":\"y\"},{\"customdata\":[\"<br>Emitted Luminosity: 1.052e+43<br>Requested Luminosity: 1.059e+43<br>Absorbed Luminosity: 3.411e+42\",\"<br>Emitted Luminosity: 1.052e+43<br>Requested Luminosity: 1.059e+43<br>Absorbed Luminosity: 3.411e+42\",\"<br>Emitted Luminosity: 1.052e+43<br>Requested Luminosity: 1.059e+43<br>Absorbed Luminosity: 3.411e+42\",\"<br>Emitted Luminosity: 1.052e+43<br>Requested Luminosity: 1.059e+43<br>Absorbed Luminosity: 3.411e+42\",\"<br>Emitted Luminosity: 1.052e+43<br>Requested Luminosity: 1.059e+43<br>Absorbed Luminosity: 3.411e+42\",\"<br>Emitted Luminosity: 1.052e+43<br>Requested Luminosity: 1.059e+43<br>Absorbed Luminosity: 3.411e+42\",\"<br>Emitted Luminosity: 1.052e+43<br>Requested Luminosity: 1.059e+43<br>Absorbed Luminosity: 3.411e+42\",\"<br>Emitted Luminosity: 1.052e+43<br>Requested Luminosity: 1.059e+43<br>Absorbed Luminosity: 3.411e+42\",\"<br>Emitted Luminosity: 1.052e+43<br>Requested Luminosity: 1.059e+43<br>Absorbed Luminosity: 3.411e+42\",\"<br>Emitted Luminosity: 1.052e+43<br>Requested Luminosity: 1.059e+43<br>Absorbed Luminosity: 3.411e+42\",\"<br>Emitted Luminosity: 1.052e+43<br>Requested Luminosity: 1.059e+43<br>Absorbed Luminosity: 3.411e+42\",\"<br>Emitted Luminosity: 1.052e+43<br>Requested Luminosity: 1.059e+43<br>Absorbed Luminosity: 3.411e+42\",\"<br>Emitted Luminosity: 1.052e+43<br>Requested Luminosity: 1.059e+43<br>Absorbed Luminosity: 3.411e+42\",\"<br>Emitted Luminosity: 1.052e+43<br>Requested Luminosity: 1.059e+43<br>Absorbed Luminosity: 3.411e+42\",\"<br>Emitted Luminosity: 1.052e+43<br>Requested Luminosity: 1.059e+43<br>Absorbed Luminosity: 3.411e+42\",\"<br>Emitted Luminosity: 1.052e+43<br>Requested Luminosity: 1.059e+43<br>Absorbed Luminosity: 3.411e+42\",\"<br>Emitted Luminosity: 1.052e+43<br>Requested Luminosity: 1.059e+43<br>Absorbed Luminosity: 3.411e+42\",\"<br>Emitted Luminosity: 1.052e+43<br>Requested Luminosity: 1.059e+43<br>Absorbed Luminosity: 3.411e+42\",\"<br>Emitted Luminosity: 1.052e+43<br>Requested Luminosity: 1.059e+43<br>Absorbed Luminosity: 3.411e+42\",\"<br>Emitted Luminosity: 1.052e+43<br>Requested Luminosity: 1.059e+43<br>Absorbed Luminosity: 3.411e+42\",\"<br>Emitted Luminosity: 1.052e+43<br>Requested Luminosity: 1.059e+43<br>Absorbed Luminosity: 3.411e+42\"],\"hovertemplate\":\"<b>Y</b>: %{y:.3f} at <b>X</b> = %{x:,.0f}%{customdata}\",\"legendgroup\":\"group-9\",\"line\":{\"color\":\"#3affbc\"},\"name\":\"9\",\"x\":[11000.0,11450.000000000002,11900.000000000002,12350.000000000002,12800.000000000002,13250.000000000002,13700.000000000002,14150.000000000002,14600.000000000002,15050.000000000002,15500.000000000002,15950.000000000002,16400.0,16850.0,17300.0,17750.0,18200.0,18650.0,19100.0,19550.0,20000.0],\"y\":[0.4717509845995566,0.35333643126433734,0.27692864002604434,0.23227462876251675,0.19923392730851686,0.1752154543235442,0.15695860796865838,0.14254015427092195,0.12987043769720158,0.11949812440071227,0.11065799714369336,0.10503597469582802,0.09725717606234445,0.09312192856965587,0.08970996968103637,0.08403489096779876,0.08128474934784591,0.07834393294338479,0.0738203172283877,0.07253718289337063],\"type\":\"scatter\",\"uid\":\"7e1e3783-d6fa-4c03-8189-8378c4340c99\",\"xaxis\":\"x2\",\"yaxis\":\"y2\"},{\"customdata\":[\"<br>Emitted Luminosity: 1.07e+43<br>Requested Luminosity: 1.059e+43<br>Absorbed Luminosity: 3.335e+42\",\"<br>Emitted Luminosity: 1.07e+43<br>Requested Luminosity: 1.059e+43<br>Absorbed Luminosity: 3.335e+42\",\"<br>Emitted Luminosity: 1.07e+43<br>Requested Luminosity: 1.059e+43<br>Absorbed Luminosity: 3.335e+42\",\"<br>Emitted Luminosity: 1.07e+43<br>Requested Luminosity: 1.059e+43<br>Absorbed Luminosity: 3.335e+42\",\"<br>Emitted Luminosity: 1.07e+43<br>Requested Luminosity: 1.059e+43<br>Absorbed Luminosity: 3.335e+42\",\"<br>Emitted Luminosity: 1.07e+43<br>Requested Luminosity: 1.059e+43<br>Absorbed Luminosity: 3.335e+42\",\"<br>Emitted Luminosity: 1.07e+43<br>Requested Luminosity: 1.059e+43<br>Absorbed Luminosity: 3.335e+42\",\"<br>Emitted Luminosity: 1.07e+43<br>Requested Luminosity: 1.059e+43<br>Absorbed Luminosity: 3.335e+42\",\"<br>Emitted Luminosity: 1.07e+43<br>Requested Luminosity: 1.059e+43<br>Absorbed Luminosity: 3.335e+42\",\"<br>Emitted Luminosity: 1.07e+43<br>Requested Luminosity: 1.059e+43<br>Absorbed Luminosity: 3.335e+42\",\"<br>Emitted Luminosity: 1.07e+43<br>Requested Luminosity: 1.059e+43<br>Absorbed Luminosity: 3.335e+42\",\"<br>Emitted Luminosity: 1.07e+43<br>Requested Luminosity: 1.059e+43<br>Absorbed Luminosity: 3.335e+42\",\"<br>Emitted Luminosity: 1.07e+43<br>Requested Luminosity: 1.059e+43<br>Absorbed Luminosity: 3.335e+42\",\"<br>Emitted Luminosity: 1.07e+43<br>Requested Luminosity: 1.059e+43<br>Absorbed Luminosity: 3.335e+42\",\"<br>Emitted Luminosity: 1.07e+43<br>Requested Luminosity: 1.059e+43<br>Absorbed Luminosity: 3.335e+42\",\"<br>Emitted Luminosity: 1.07e+43<br>Requested Luminosity: 1.059e+43<br>Absorbed Luminosity: 3.335e+42\",\"<br>Emitted Luminosity: 1.07e+43<br>Requested Luminosity: 1.059e+43<br>Absorbed Luminosity: 3.335e+42\",\"<br>Emitted Luminosity: 1.07e+43<br>Requested Luminosity: 1.059e+43<br>Absorbed Luminosity: 3.335e+42\",\"<br>Emitted Luminosity: 1.07e+43<br>Requested Luminosity: 1.059e+43<br>Absorbed Luminosity: 3.335e+42\",\"<br>Emitted Luminosity: 1.07e+43<br>Requested Luminosity: 1.059e+43<br>Absorbed Luminosity: 3.335e+42\",\"<br>Emitted Luminosity: 1.07e+43<br>Requested Luminosity: 1.059e+43<br>Absorbed Luminosity: 3.335e+42\"],\"hovertemplate\":\"<b>Y</b>: %{y:.3f} at <b>X</b> = %{x:,.0f}%{customdata}\",\"legendgroup\":\"group-10\",\"line\":{\"color\":\"#66ff91\"},\"name\":\"10\",\"showlegend\":false,\"x\":[11000.0,11450.000000000002,11900.000000000002,12350.000000000002,12800.000000000002,13250.000000000002,13700.000000000002,14150.000000000002,14600.000000000002,15050.000000000002,15500.000000000002,15950.000000000002,16400.0,16850.0,17300.0,17750.0,18200.0,18650.0,19100.0,19550.0,20000.0],\"y\":[11054.591787334151,11225.528282829362,11397.756567710428,11384.015365915015,11451.38927425492,11459.610588977717,11376.050029186566,11274.095516148467,11272.499217755427,11178.085961626613,11140.79175428764,11068.611912757306,11035.29165496959,10948.379622684988,10846.308434798446,10760.164548553726,10717.142639062211,10660.047073289421,10504.059452325992,10393.011181236434],\"type\":\"scatter\",\"uid\":\"d3e85c15-d25b-4e3d-9b79-df458bd76bf5\",\"xaxis\":\"x\",\"yaxis\":\"y\"},{\"customdata\":[\"<br>Emitted Luminosity: 1.07e+43<br>Requested Luminosity: 1.059e+43<br>Absorbed Luminosity: 3.335e+42\",\"<br>Emitted Luminosity: 1.07e+43<br>Requested Luminosity: 1.059e+43<br>Absorbed Luminosity: 3.335e+42\",\"<br>Emitted Luminosity: 1.07e+43<br>Requested Luminosity: 1.059e+43<br>Absorbed Luminosity: 3.335e+42\",\"<br>Emitted Luminosity: 1.07e+43<br>Requested Luminosity: 1.059e+43<br>Absorbed Luminosity: 3.335e+42\",\"<br>Emitted Luminosity: 1.07e+43<br>Requested Luminosity: 1.059e+43<br>Absorbed Luminosity: 3.335e+42\",\"<br>Emitted Luminosity: 1.07e+43<br>Requested Luminosity: 1.059e+43<br>Absorbed Luminosity: 3.335e+42\",\"<br>Emitted Luminosity: 1.07e+43<br>Requested Luminosity: 1.059e+43<br>Absorbed Luminosity: 3.335e+42\",\"<br>Emitted Luminosity: 1.07e+43<br>Requested Luminosity: 1.059e+43<br>Absorbed Luminosity: 3.335e+42\",\"<br>Emitted Luminosity: 1.07e+43<br>Requested Luminosity: 1.059e+43<br>Absorbed Luminosity: 3.335e+42\",\"<br>Emitted Luminosity: 1.07e+43<br>Requested Luminosity: 1.059e+43<br>Absorbed Luminosity: 3.335e+42\",\"<br>Emitted Luminosity: 1.07e+43<br>Requested Luminosity: 1.059e+43<br>Absorbed Luminosity: 3.335e+42\",\"<br>Emitted Luminosity: 1.07e+43<br>Requested Luminosity: 1.059e+43<br>Absorbed Luminosity: 3.335e+42\",\"<br>Emitted Luminosity: 1.07e+43<br>Requested Luminosity: 1.059e+43<br>Absorbed Luminosity: 3.335e+42\",\"<br>Emitted Luminosity: 1.07e+43<br>Requested Luminosity: 1.059e+43<br>Absorbed Luminosity: 3.335e+42\",\"<br>Emitted Luminosity: 1.07e+43<br>Requested Luminosity: 1.059e+43<br>Absorbed Luminosity: 3.335e+42\",\"<br>Emitted Luminosity: 1.07e+43<br>Requested Luminosity: 1.059e+43<br>Absorbed Luminosity: 3.335e+42\",\"<br>Emitted Luminosity: 1.07e+43<br>Requested Luminosity: 1.059e+43<br>Absorbed Luminosity: 3.335e+42\",\"<br>Emitted Luminosity: 1.07e+43<br>Requested Luminosity: 1.059e+43<br>Absorbed Luminosity: 3.335e+42\",\"<br>Emitted Luminosity: 1.07e+43<br>Requested Luminosity: 1.059e+43<br>Absorbed Luminosity: 3.335e+42\",\"<br>Emitted Luminosity: 1.07e+43<br>Requested Luminosity: 1.059e+43<br>Absorbed Luminosity: 3.335e+42\",\"<br>Emitted Luminosity: 1.07e+43<br>Requested Luminosity: 1.059e+43<br>Absorbed Luminosity: 3.335e+42\"],\"hovertemplate\":\"<b>Y</b>: %{y:.3f} at <b>X</b> = %{x:,.0f}%{customdata}\",\"legendgroup\":\"group-10\",\"line\":{\"color\":\"#66ff91\"},\"name\":\"10\",\"x\":[11000.0,11450.000000000002,11900.000000000002,12350.000000000002,12800.000000000002,13250.000000000002,13700.000000000002,14150.000000000002,14600.000000000002,15050.000000000002,15500.000000000002,15950.000000000002,16400.0,16850.0,17300.0,17750.0,18200.0,18650.0,19100.0,19550.0,20000.0],\"y\":[0.4686917542936278,0.34895532413728253,0.2722456226984868,0.23088331103266777,0.19396911644591505,0.16966303737984267,0.1536554171425806,0.1406685784693079,0.12625486648965387,0.11769844507310213,0.10873442822036555,0.10217357366795128,0.09428760780374032,0.08974201060071901,0.08619004289280523,0.08223115714542889,0.07778821666696925,0.07403971132288671,0.07307298001360511,0.0713140553719511],\"type\":\"scatter\",\"uid\":\"28794fd4-313a-471d-89ce-886bf5c5e6b8\",\"xaxis\":\"x2\",\"yaxis\":\"y2\"},{\"customdata\":[\"<br>Emitted Luminosity: 1.053e+43<br>Requested Luminosity: 1.059e+43<br>Absorbed Luminosity: 3.363e+42\",\"<br>Emitted Luminosity: 1.053e+43<br>Requested Luminosity: 1.059e+43<br>Absorbed Luminosity: 3.363e+42\",\"<br>Emitted Luminosity: 1.053e+43<br>Requested Luminosity: 1.059e+43<br>Absorbed Luminosity: 3.363e+42\",\"<br>Emitted Luminosity: 1.053e+43<br>Requested Luminosity: 1.059e+43<br>Absorbed Luminosity: 3.363e+42\",\"<br>Emitted Luminosity: 1.053e+43<br>Requested Luminosity: 1.059e+43<br>Absorbed Luminosity: 3.363e+42\",\"<br>Emitted Luminosity: 1.053e+43<br>Requested Luminosity: 1.059e+43<br>Absorbed Luminosity: 3.363e+42\",\"<br>Emitted Luminosity: 1.053e+43<br>Requested Luminosity: 1.059e+43<br>Absorbed Luminosity: 3.363e+42\",\"<br>Emitted Luminosity: 1.053e+43<br>Requested Luminosity: 1.059e+43<br>Absorbed Luminosity: 3.363e+42\",\"<br>Emitted Luminosity: 1.053e+43<br>Requested Luminosity: 1.059e+43<br>Absorbed Luminosity: 3.363e+42\",\"<br>Emitted Luminosity: 1.053e+43<br>Requested Luminosity: 1.059e+43<br>Absorbed Luminosity: 3.363e+42\",\"<br>Emitted Luminosity: 1.053e+43<br>Requested Luminosity: 1.059e+43<br>Absorbed Luminosity: 3.363e+42\",\"<br>Emitted Luminosity: 1.053e+43<br>Requested Luminosity: 1.059e+43<br>Absorbed Luminosity: 3.363e+42\",\"<br>Emitted Luminosity: 1.053e+43<br>Requested Luminosity: 1.059e+43<br>Absorbed Luminosity: 3.363e+42\",\"<br>Emitted Luminosity: 1.053e+43<br>Requested Luminosity: 1.059e+43<br>Absorbed Luminosity: 3.363e+42\",\"<br>Emitted Luminosity: 1.053e+43<br>Requested Luminosity: 1.059e+43<br>Absorbed Luminosity: 3.363e+42\",\"<br>Emitted Luminosity: 1.053e+43<br>Requested Luminosity: 1.059e+43<br>Absorbed Luminosity: 3.363e+42\",\"<br>Emitted Luminosity: 1.053e+43<br>Requested Luminosity: 1.059e+43<br>Absorbed Luminosity: 3.363e+42\",\"<br>Emitted Luminosity: 1.053e+43<br>Requested Luminosity: 1.059e+43<br>Absorbed Luminosity: 3.363e+42\",\"<br>Emitted Luminosity: 1.053e+43<br>Requested Luminosity: 1.059e+43<br>Absorbed Luminosity: 3.363e+42\",\"<br>Emitted Luminosity: 1.053e+43<br>Requested Luminosity: 1.059e+43<br>Absorbed Luminosity: 3.363e+42\",\"<br>Emitted Luminosity: 1.053e+43<br>Requested Luminosity: 1.059e+43<br>Absorbed Luminosity: 3.363e+42\"],\"hovertemplate\":\"<b>Y</b>: %{y:.3f} at <b>X</b> = %{x:,.0f}%{customdata}\",\"legendgroup\":\"group-11\",\"line\":{\"color\":\"#91ff66\"},\"name\":\"11\",\"showlegend\":false,\"x\":[11000.0,11450.000000000002,11900.000000000002,12350.000000000002,12800.000000000002,13250.000000000002,13700.000000000002,14150.000000000002,14600.000000000002,15050.000000000002,15500.000000000002,15950.000000000002,16400.0,16850.0,17300.0,17750.0,18200.0,18650.0,19100.0,19550.0,20000.0],\"y\":[11038.824129738194,11205.221198116975,11257.276210948366,11249.982124832775,11346.904548780481,11369.200845314614,11327.975637400816,11265.702779702737,11242.695668674245,11125.713354976322,11085.64318931285,11003.766807453341,10952.925463047206,10818.865962225487,10751.827669918473,10622.890289468805,10581.153922616171,10457.76532566985,10406.86329359304,10293.690965995089],\"type\":\"scatter\",\"uid\":\"182d406e-73cb-4d95-8951-a193e691038f\",\"xaxis\":\"x\",\"yaxis\":\"y\"},{\"customdata\":[\"<br>Emitted Luminosity: 1.053e+43<br>Requested Luminosity: 1.059e+43<br>Absorbed Luminosity: 3.363e+42\",\"<br>Emitted Luminosity: 1.053e+43<br>Requested Luminosity: 1.059e+43<br>Absorbed Luminosity: 3.363e+42\",\"<br>Emitted Luminosity: 1.053e+43<br>Requested Luminosity: 1.059e+43<br>Absorbed Luminosity: 3.363e+42\",\"<br>Emitted Luminosity: 1.053e+43<br>Requested Luminosity: 1.059e+43<br>Absorbed Luminosity: 3.363e+42\",\"<br>Emitted Luminosity: 1.053e+43<br>Requested Luminosity: 1.059e+43<br>Absorbed Luminosity: 3.363e+42\",\"<br>Emitted Luminosity: 1.053e+43<br>Requested Luminosity: 1.059e+43<br>Absorbed Luminosity: 3.363e+42\",\"<br>Emitted Luminosity: 1.053e+43<br>Requested Luminosity: 1.059e+43<br>Absorbed Luminosity: 3.363e+42\",\"<br>Emitted Luminosity: 1.053e+43<br>Requested Luminosity: 1.059e+43<br>Absorbed Luminosity: 3.363e+42\",\"<br>Emitted Luminosity: 1.053e+43<br>Requested Luminosity: 1.059e+43<br>Absorbed Luminosity: 3.363e+42\",\"<br>Emitted Luminosity: 1.053e+43<br>Requested Luminosity: 1.059e+43<br>Absorbed Luminosity: 3.363e+42\",\"<br>Emitted Luminosity: 1.053e+43<br>Requested Luminosity: 1.059e+43<br>Absorbed Luminosity: 3.363e+42\",\"<br>Emitted Luminosity: 1.053e+43<br>Requested Luminosity: 1.059e+43<br>Absorbed Luminosity: 3.363e+42\",\"<br>Emitted Luminosity: 1.053e+43<br>Requested Luminosity: 1.059e+43<br>Absorbed Luminosity: 3.363e+42\",\"<br>Emitted Luminosity: 1.053e+43<br>Requested Luminosity: 1.059e+43<br>Absorbed Luminosity: 3.363e+42\",\"<br>Emitted Luminosity: 1.053e+43<br>Requested Luminosity: 1.059e+43<br>Absorbed Luminosity: 3.363e+42\",\"<br>Emitted Luminosity: 1.053e+43<br>Requested Luminosity: 1.059e+43<br>Absorbed Luminosity: 3.363e+42\",\"<br>Emitted Luminosity: 1.053e+43<br>Requested Luminosity: 1.059e+43<br>Absorbed Luminosity: 3.363e+42\",\"<br>Emitted Luminosity: 1.053e+43<br>Requested Luminosity: 1.059e+43<br>Absorbed Luminosity: 3.363e+42\",\"<br>Emitted Luminosity: 1.053e+43<br>Requested Luminosity: 1.059e+43<br>Absorbed Luminosity: 3.363e+42\",\"<br>Emitted Luminosity: 1.053e+43<br>Requested Luminosity: 1.059e+43<br>Absorbed Luminosity: 3.363e+42\",\"<br>Emitted Luminosity: 1.053e+43<br>Requested Luminosity: 1.059e+43<br>Absorbed Luminosity: 3.363e+42\"],\"hovertemplate\":\"<b>Y</b>: %{y:.3f} at <b>X</b> = %{x:,.0f}%{customdata}\",\"legendgroup\":\"group-11\",\"line\":{\"color\":\"#91ff66\"},\"name\":\"11\",\"x\":[11000.0,11450.000000000002,11900.000000000002,12350.000000000002,12800.000000000002,13250.000000000002,13700.000000000002,14150.000000000002,14600.000000000002,15050.000000000002,15500.000000000002,15950.000000000002,16400.0,16850.0,17300.0,17750.0,18200.0,18650.0,19100.0,19550.0,20000.0],\"y\":[0.47454746626447714,0.35492209696574006,0.29087752114957444,0.24470866481882028,0.2050434741898592,0.1774136478420163,0.15853184856381086,0.1450182194643036,0.13008713859723567,0.12233533943053931,0.11238724105660707,0.10569730424606061,0.09826037906138704,0.0946963742294075,0.08992779920376795,0.0877518224215559,0.08291661849234436,0.08063515139722355,0.07697286067066784,0.0751747545515971],\"type\":\"scatter\",\"uid\":\"5f301027-049b-4df8-95e7-ba3246c963d9\",\"xaxis\":\"x2\",\"yaxis\":\"y2\"},{\"customdata\":[\"<br>Emitted Luminosity: 1.056e+43<br>Requested Luminosity: 1.059e+43<br>Absorbed Luminosity: 3.42e+42\",\"<br>Emitted Luminosity: 1.056e+43<br>Requested Luminosity: 1.059e+43<br>Absorbed Luminosity: 3.42e+42\",\"<br>Emitted Luminosity: 1.056e+43<br>Requested Luminosity: 1.059e+43<br>Absorbed Luminosity: 3.42e+42\",\"<br>Emitted Luminosity: 1.056e+43<br>Requested Luminosity: 1.059e+43<br>Absorbed Luminosity: 3.42e+42\",\"<br>Emitted Luminosity: 1.056e+43<br>Requested Luminosity: 1.059e+43<br>Absorbed Luminosity: 3.42e+42\",\"<br>Emitted Luminosity: 1.056e+43<br>Requested Luminosity: 1.059e+43<br>Absorbed Luminosity: 3.42e+42\",\"<br>Emitted Luminosity: 1.056e+43<br>Requested Luminosity: 1.059e+43<br>Absorbed Luminosity: 3.42e+42\",\"<br>Emitted Luminosity: 1.056e+43<br>Requested Luminosity: 1.059e+43<br>Absorbed Luminosity: 3.42e+42\",\"<br>Emitted Luminosity: 1.056e+43<br>Requested Luminosity: 1.059e+43<br>Absorbed Luminosity: 3.42e+42\",\"<br>Emitted Luminosity: 1.056e+43<br>Requested Luminosity: 1.059e+43<br>Absorbed Luminosity: 3.42e+42\",\"<br>Emitted Luminosity: 1.056e+43<br>Requested Luminosity: 1.059e+43<br>Absorbed Luminosity: 3.42e+42\",\"<br>Emitted Luminosity: 1.056e+43<br>Requested Luminosity: 1.059e+43<br>Absorbed Luminosity: 3.42e+42\",\"<br>Emitted Luminosity: 1.056e+43<br>Requested Luminosity: 1.059e+43<br>Absorbed Luminosity: 3.42e+42\",\"<br>Emitted Luminosity: 1.056e+43<br>Requested Luminosity: 1.059e+43<br>Absorbed Luminosity: 3.42e+42\",\"<br>Emitted Luminosity: 1.056e+43<br>Requested Luminosity: 1.059e+43<br>Absorbed Luminosity: 3.42e+42\",\"<br>Emitted Luminosity: 1.056e+43<br>Requested Luminosity: 1.059e+43<br>Absorbed Luminosity: 3.42e+42\",\"<br>Emitted Luminosity: 1.056e+43<br>Requested Luminosity: 1.059e+43<br>Absorbed Luminosity: 3.42e+42\",\"<br>Emitted Luminosity: 1.056e+43<br>Requested Luminosity: 1.059e+43<br>Absorbed Luminosity: 3.42e+42\",\"<br>Emitted Luminosity: 1.056e+43<br>Requested Luminosity: 1.059e+43<br>Absorbed Luminosity: 3.42e+42\",\"<br>Emitted Luminosity: 1.056e+43<br>Requested Luminosity: 1.059e+43<br>Absorbed Luminosity: 3.42e+42\",\"<br>Emitted Luminosity: 1.056e+43<br>Requested Luminosity: 1.059e+43<br>Absorbed Luminosity: 3.42e+42\"],\"hovertemplate\":\"<b>Y</b>: %{y:.3f} at <b>X</b> = %{x:,.0f}%{customdata}\",\"legendgroup\":\"group-12\",\"line\":{\"color\":\"#bcff3a\"},\"name\":\"12\",\"showlegend\":false,\"x\":[11000.0,11450.000000000002,11900.000000000002,12350.000000000002,12800.000000000002,13250.000000000002,13700.000000000002,14150.000000000002,14600.000000000002,15050.000000000002,15500.000000000002,15950.000000000002,16400.0,16850.0,17300.0,17750.0,18200.0,18650.0,19100.0,19550.0,20000.0],\"y\":[11033.009303410312,11148.879430055602,11221.615762493011,11261.573428125696,11263.081991396042,11194.36101620316,11176.65368617382,11119.362957181671,11160.897203210397,11060.876370200309,11002.144956546503,10869.256977805017,10791.65731617895,10690.963307625201,10679.126763159427,10633.713758297,10563.593823093464,10475.666642067616,10394.486610589733,10307.337749004722],\"type\":\"scatter\",\"uid\":\"c6b8bcd2-f666-4595-85bd-82d984fc990c\",\"xaxis\":\"x\",\"yaxis\":\"y\"},{\"customdata\":[\"<br>Emitted Luminosity: 1.056e+43<br>Requested Luminosity: 1.059e+43<br>Absorbed Luminosity: 3.42e+42\",\"<br>Emitted Luminosity: 1.056e+43<br>Requested Luminosity: 1.059e+43<br>Absorbed Luminosity: 3.42e+42\",\"<br>Emitted Luminosity: 1.056e+43<br>Requested Luminosity: 1.059e+43<br>Absorbed Luminosity: 3.42e+42\",\"<br>Emitted Luminosity: 1.056e+43<br>Requested Luminosity: 1.059e+43<br>Absorbed Luminosity: 3.42e+42\",\"<br>Emitted Luminosity: 1.056e+43<br>Requested Luminosity: 1.059e+43<br>Absorbed Luminosity: 3.42e+42\",\"<br>Emitted Luminosity: 1.056e+43<br>Requested Luminosity: 1.059e+43<br>Absorbed Luminosity: 3.42e+42\",\"<br>Emitted Luminosity: 1.056e+43<br>Requested Luminosity: 1.059e+43<br>Absorbed Luminosity: 3.42e+42\",\"<br>Emitted Luminosity: 1.056e+43<br>Requested Luminosity: 1.059e+43<br>Absorbed Luminosity: 3.42e+42\",\"<br>Emitted Luminosity: 1.056e+43<br>Requested Luminosity: 1.059e+43<br>Absorbed Luminosity: 3.42e+42\",\"<br>Emitted Luminosity: 1.056e+43<br>Requested Luminosity: 1.059e+43<br>Absorbed Luminosity: 3.42e+42\",\"<br>Emitted Luminosity: 1.056e+43<br>Requested Luminosity: 1.059e+43<br>Absorbed Luminosity: 3.42e+42\",\"<br>Emitted Luminosity: 1.056e+43<br>Requested Luminosity: 1.059e+43<br>Absorbed Luminosity: 3.42e+42\",\"<br>Emitted Luminosity: 1.056e+43<br>Requested Luminosity: 1.059e+43<br>Absorbed Luminosity: 3.42e+42\",\"<br>Emitted Luminosity: 1.056e+43<br>Requested Luminosity: 1.059e+43<br>Absorbed Luminosity: 3.42e+42\",\"<br>Emitted Luminosity: 1.056e+43<br>Requested Luminosity: 1.059e+43<br>Absorbed Luminosity: 3.42e+42\",\"<br>Emitted Luminosity: 1.056e+43<br>Requested Luminosity: 1.059e+43<br>Absorbed Luminosity: 3.42e+42\",\"<br>Emitted Luminosity: 1.056e+43<br>Requested Luminosity: 1.059e+43<br>Absorbed Luminosity: 3.42e+42\",\"<br>Emitted Luminosity: 1.056e+43<br>Requested Luminosity: 1.059e+43<br>Absorbed Luminosity: 3.42e+42\",\"<br>Emitted Luminosity: 1.056e+43<br>Requested Luminosity: 1.059e+43<br>Absorbed Luminosity: 3.42e+42\",\"<br>Emitted Luminosity: 1.056e+43<br>Requested Luminosity: 1.059e+43<br>Absorbed Luminosity: 3.42e+42\",\"<br>Emitted Luminosity: 1.056e+43<br>Requested Luminosity: 1.059e+43<br>Absorbed Luminosity: 3.42e+42\"],\"hovertemplate\":\"<b>Y</b>: %{y:.3f} at <b>X</b> = %{x:,.0f}%{customdata}\",\"legendgroup\":\"group-12\",\"line\":{\"color\":\"#bcff3a\"},\"name\":\"12\",\"x\":[11000.0,11450.000000000002,11900.000000000002,12350.000000000002,12800.000000000002,13250.000000000002,13700.000000000002,14150.000000000002,14600.000000000002,15050.000000000002,15500.000000000002,15950.000000000002,16400.0,16850.0,17300.0,17750.0,18200.0,18650.0,19100.0,19550.0,20000.0],\"y\":[0.4716537027008262,0.357890026521391,0.28915602828625814,0.24083880524214427,0.20785046373550403,0.18387932966246823,0.1631916771434068,0.14789250815492933,0.13152997741799577,0.12372087214587801,0.1142846612641664,0.1088361853507646,0.10279474447387715,0.0976657214604846,0.09081568508209238,0.08593330607508265,0.08216375648793371,0.0791168136316962,0.07642694755200086,0.0738461530246489],\"type\":\"scatter\",\"uid\":\"27b18690-df38-4331-b383-90a602379316\",\"xaxis\":\"x2\",\"yaxis\":\"y2\"},{\"customdata\":[\"<br>Emitted Luminosity: 1.062e+43<br>Requested Luminosity: 1.059e+43<br>Absorbed Luminosity: 3.406e+42\",\"<br>Emitted Luminosity: 1.062e+43<br>Requested Luminosity: 1.059e+43<br>Absorbed Luminosity: 3.406e+42\",\"<br>Emitted Luminosity: 1.062e+43<br>Requested Luminosity: 1.059e+43<br>Absorbed Luminosity: 3.406e+42\",\"<br>Emitted Luminosity: 1.062e+43<br>Requested Luminosity: 1.059e+43<br>Absorbed Luminosity: 3.406e+42\",\"<br>Emitted Luminosity: 1.062e+43<br>Requested Luminosity: 1.059e+43<br>Absorbed Luminosity: 3.406e+42\",\"<br>Emitted Luminosity: 1.062e+43<br>Requested Luminosity: 1.059e+43<br>Absorbed Luminosity: 3.406e+42\",\"<br>Emitted Luminosity: 1.062e+43<br>Requested Luminosity: 1.059e+43<br>Absorbed Luminosity: 3.406e+42\",\"<br>Emitted Luminosity: 1.062e+43<br>Requested Luminosity: 1.059e+43<br>Absorbed Luminosity: 3.406e+42\",\"<br>Emitted Luminosity: 1.062e+43<br>Requested Luminosity: 1.059e+43<br>Absorbed Luminosity: 3.406e+42\",\"<br>Emitted Luminosity: 1.062e+43<br>Requested Luminosity: 1.059e+43<br>Absorbed Luminosity: 3.406e+42\",\"<br>Emitted Luminosity: 1.062e+43<br>Requested Luminosity: 1.059e+43<br>Absorbed Luminosity: 3.406e+42\",\"<br>Emitted Luminosity: 1.062e+43<br>Requested Luminosity: 1.059e+43<br>Absorbed Luminosity: 3.406e+42\",\"<br>Emitted Luminosity: 1.062e+43<br>Requested Luminosity: 1.059e+43<br>Absorbed Luminosity: 3.406e+42\",\"<br>Emitted Luminosity: 1.062e+43<br>Requested Luminosity: 1.059e+43<br>Absorbed Luminosity: 3.406e+42\",\"<br>Emitted Luminosity: 1.062e+43<br>Requested Luminosity: 1.059e+43<br>Absorbed Luminosity: 3.406e+42\",\"<br>Emitted Luminosity: 1.062e+43<br>Requested Luminosity: 1.059e+43<br>Absorbed Luminosity: 3.406e+42\",\"<br>Emitted Luminosity: 1.062e+43<br>Requested Luminosity: 1.059e+43<br>Absorbed Luminosity: 3.406e+42\",\"<br>Emitted Luminosity: 1.062e+43<br>Requested Luminosity: 1.059e+43<br>Absorbed Luminosity: 3.406e+42\",\"<br>Emitted Luminosity: 1.062e+43<br>Requested Luminosity: 1.059e+43<br>Absorbed Luminosity: 3.406e+42\",\"<br>Emitted Luminosity: 1.062e+43<br>Requested Luminosity: 1.059e+43<br>Absorbed Luminosity: 3.406e+42\",\"<br>Emitted Luminosity: 1.062e+43<br>Requested Luminosity: 1.059e+43<br>Absorbed Luminosity: 3.406e+42\"],\"hovertemplate\":\"<b>Y</b>: %{y:.3f} at <b>X</b> = %{x:,.0f}%{customdata}\",\"legendgroup\":\"group-13\",\"line\":{\"color\":\"#e8ff0f\"},\"name\":\"13\",\"showlegend\":false,\"x\":[11000.0,11450.000000000002,11900.000000000002,12350.000000000002,12800.000000000002,13250.000000000002,13700.000000000002,14150.000000000002,14600.000000000002,15050.000000000002,15500.000000000002,15950.000000000002,16400.0,16850.0,17300.0,17750.0,18200.0,18650.0,19100.0,19550.0,20000.0],\"y\":[11074.304190284522,11270.074704391538,11337.646753844467,11393.767844361717,11382.432493098264,11342.026259991244,11307.597681129108,11335.171775993955,11250.639254234307,11213.127418727048,11110.772199549237,11064.25134351712,11042.85852054505,10922.450884499984,10850.738987811248,10785.376592676303,10674.16887867942,10522.169892052718,10443.423599659378,10348.151354322657],\"type\":\"scatter\",\"uid\":\"b888e0f8-059b-42e7-b125-b722aac5f08c\",\"xaxis\":\"x\",\"yaxis\":\"y\"},{\"customdata\":[\"<br>Emitted Luminosity: 1.062e+43<br>Requested Luminosity: 1.059e+43<br>Absorbed Luminosity: 3.406e+42\",\"<br>Emitted Luminosity: 1.062e+43<br>Requested Luminosity: 1.059e+43<br>Absorbed Luminosity: 3.406e+42\",\"<br>Emitted Luminosity: 1.062e+43<br>Requested Luminosity: 1.059e+43<br>Absorbed Luminosity: 3.406e+42\",\"<br>Emitted Luminosity: 1.062e+43<br>Requested Luminosity: 1.059e+43<br>Absorbed Luminosity: 3.406e+42\",\"<br>Emitted Luminosity: 1.062e+43<br>Requested Luminosity: 1.059e+43<br>Absorbed Luminosity: 3.406e+42\",\"<br>Emitted Luminosity: 1.062e+43<br>Requested Luminosity: 1.059e+43<br>Absorbed Luminosity: 3.406e+42\",\"<br>Emitted Luminosity: 1.062e+43<br>Requested Luminosity: 1.059e+43<br>Absorbed Luminosity: 3.406e+42\",\"<br>Emitted Luminosity: 1.062e+43<br>Requested Luminosity: 1.059e+43<br>Absorbed Luminosity: 3.406e+42\",\"<br>Emitted Luminosity: 1.062e+43<br>Requested Luminosity: 1.059e+43<br>Absorbed Luminosity: 3.406e+42\",\"<br>Emitted Luminosity: 1.062e+43<br>Requested Luminosity: 1.059e+43<br>Absorbed Luminosity: 3.406e+42\",\"<br>Emitted Luminosity: 1.062e+43<br>Requested Luminosity: 1.059e+43<br>Absorbed Luminosity: 3.406e+42\",\"<br>Emitted Luminosity: 1.062e+43<br>Requested Luminosity: 1.059e+43<br>Absorbed Luminosity: 3.406e+42\",\"<br>Emitted Luminosity: 1.062e+43<br>Requested Luminosity: 1.059e+43<br>Absorbed Luminosity: 3.406e+42\",\"<br>Emitted Luminosity: 1.062e+43<br>Requested Luminosity: 1.059e+43<br>Absorbed Luminosity: 3.406e+42\",\"<br>Emitted Luminosity: 1.062e+43<br>Requested Luminosity: 1.059e+43<br>Absorbed Luminosity: 3.406e+42\",\"<br>Emitted Luminosity: 1.062e+43<br>Requested Luminosity: 1.059e+43<br>Absorbed Luminosity: 3.406e+42\",\"<br>Emitted Luminosity: 1.062e+43<br>Requested Luminosity: 1.059e+43<br>Absorbed Luminosity: 3.406e+42\",\"<br>Emitted Luminosity: 1.062e+43<br>Requested Luminosity: 1.059e+43<br>Absorbed Luminosity: 3.406e+42\",\"<br>Emitted Luminosity: 1.062e+43<br>Requested Luminosity: 1.059e+43<br>Absorbed Luminosity: 3.406e+42\",\"<br>Emitted Luminosity: 1.062e+43<br>Requested Luminosity: 1.059e+43<br>Absorbed Luminosity: 3.406e+42\",\"<br>Emitted Luminosity: 1.062e+43<br>Requested Luminosity: 1.059e+43<br>Absorbed Luminosity: 3.406e+42\"],\"hovertemplate\":\"<b>Y</b>: %{y:.3f} at <b>X</b> = %{x:,.0f}%{customdata}\",\"legendgroup\":\"group-13\",\"line\":{\"color\":\"#e8ff0f\"},\"name\":\"13\",\"x\":[11000.0,11450.000000000002,11900.000000000002,12350.000000000002,12800.000000000002,13250.000000000002,13700.000000000002,14150.000000000002,14600.000000000002,15050.000000000002,15500.000000000002,15950.000000000002,16400.0,16850.0,17300.0,17750.0,18200.0,18650.0,19100.0,19550.0,20000.0],\"y\":[0.4673427774299123,0.34160244230872133,0.2791032117456702,0.2305091304338959,0.1985141843412628,0.17566634063265266,0.15711892203701322,0.13858010782473779,0.12834380644402346,0.11712263507790181,0.11007392939205876,0.10251441617453551,0.09467131931672479,0.09072574589902667,0.08637417761144366,0.08205309967814466,0.07907593632456153,0.0777284974038104,0.07510736536848113,0.07265137671612942],\"type\":\"scatter\",\"uid\":\"22610fba-fda2-4284-95fe-e3c73bbe8755\",\"xaxis\":\"x2\",\"yaxis\":\"y2\"},{\"customdata\":[\"<br>Emitted Luminosity: 1.063e+43<br>Requested Luminosity: 1.059e+43<br>Absorbed Luminosity: 3.369e+42\",\"<br>Emitted Luminosity: 1.063e+43<br>Requested Luminosity: 1.059e+43<br>Absorbed Luminosity: 3.369e+42\",\"<br>Emitted Luminosity: 1.063e+43<br>Requested Luminosity: 1.059e+43<br>Absorbed Luminosity: 3.369e+42\",\"<br>Emitted Luminosity: 1.063e+43<br>Requested Luminosity: 1.059e+43<br>Absorbed Luminosity: 3.369e+42\",\"<br>Emitted Luminosity: 1.063e+43<br>Requested Luminosity: 1.059e+43<br>Absorbed Luminosity: 3.369e+42\",\"<br>Emitted Luminosity: 1.063e+43<br>Requested Luminosity: 1.059e+43<br>Absorbed Luminosity: 3.369e+42\",\"<br>Emitted Luminosity: 1.063e+43<br>Requested Luminosity: 1.059e+43<br>Absorbed Luminosity: 3.369e+42\",\"<br>Emitted Luminosity: 1.063e+43<br>Requested Luminosity: 1.059e+43<br>Absorbed Luminosity: 3.369e+42\",\"<br>Emitted Luminosity: 1.063e+43<br>Requested Luminosity: 1.059e+43<br>Absorbed Luminosity: 3.369e+42\",\"<br>Emitted Luminosity: 1.063e+43<br>Requested Luminosity: 1.059e+43<br>Absorbed Luminosity: 3.369e+42\",\"<br>Emitted Luminosity: 1.063e+43<br>Requested Luminosity: 1.059e+43<br>Absorbed Luminosity: 3.369e+42\",\"<br>Emitted Luminosity: 1.063e+43<br>Requested Luminosity: 1.059e+43<br>Absorbed Luminosity: 3.369e+42\",\"<br>Emitted Luminosity: 1.063e+43<br>Requested Luminosity: 1.059e+43<br>Absorbed Luminosity: 3.369e+42\",\"<br>Emitted Luminosity: 1.063e+43<br>Requested Luminosity: 1.059e+43<br>Absorbed Luminosity: 3.369e+42\",\"<br>Emitted Luminosity: 1.063e+43<br>Requested Luminosity: 1.059e+43<br>Absorbed Luminosity: 3.369e+42\",\"<br>Emitted Luminosity: 1.063e+43<br>Requested Luminosity: 1.059e+43<br>Absorbed Luminosity: 3.369e+42\",\"<br>Emitted Luminosity: 1.063e+43<br>Requested Luminosity: 1.059e+43<br>Absorbed Luminosity: 3.369e+42\",\"<br>Emitted Luminosity: 1.063e+43<br>Requested Luminosity: 1.059e+43<br>Absorbed Luminosity: 3.369e+42\",\"<br>Emitted Luminosity: 1.063e+43<br>Requested Luminosity: 1.059e+43<br>Absorbed Luminosity: 3.369e+42\",\"<br>Emitted Luminosity: 1.063e+43<br>Requested Luminosity: 1.059e+43<br>Absorbed Luminosity: 3.369e+42\",\"<br>Emitted Luminosity: 1.063e+43<br>Requested Luminosity: 1.059e+43<br>Absorbed Luminosity: 3.369e+42\"],\"hovertemplate\":\"<b>Y</b>: %{y:.3f} at <b>X</b> = %{x:,.0f}%{customdata}\",\"legendgroup\":\"group-14\",\"line\":{\"color\":\"#ffd500\"},\"name\":\"14\",\"showlegend\":false,\"x\":[11000.0,11450.000000000002,11900.000000000002,12350.000000000002,12800.000000000002,13250.000000000002,13700.000000000002,14150.000000000002,14600.000000000002,15050.000000000002,15500.000000000002,15950.000000000002,16400.0,16850.0,17300.0,17750.0,18200.0,18650.0,19100.0,19550.0,20000.0],\"y\":[11087.525575426169,11201.22705956107,11264.115790406606,11292.824638098957,11317.156990270032,11281.498582331276,11322.207028926729,11339.771680388227,11327.178998980196,11167.493221384162,11090.703318109807,10991.061715905907,10921.092013305806,10921.414809706117,10849.20591350587,10756.107814500587,10644.630217581212,10587.886446170449,10437.516867167406,10342.489678405153],\"type\":\"scatter\",\"uid\":\"8a6cefa1-d31a-46d5-af4a-4c48403536f4\",\"xaxis\":\"x\",\"yaxis\":\"y\"},{\"customdata\":[\"<br>Emitted Luminosity: 1.063e+43<br>Requested Luminosity: 1.059e+43<br>Absorbed Luminosity: 3.369e+42\",\"<br>Emitted Luminosity: 1.063e+43<br>Requested Luminosity: 1.059e+43<br>Absorbed Luminosity: 3.369e+42\",\"<br>Emitted Luminosity: 1.063e+43<br>Requested Luminosity: 1.059e+43<br>Absorbed Luminosity: 3.369e+42\",\"<br>Emitted Luminosity: 1.063e+43<br>Requested Luminosity: 1.059e+43<br>Absorbed Luminosity: 3.369e+42\",\"<br>Emitted Luminosity: 1.063e+43<br>Requested Luminosity: 1.059e+43<br>Absorbed Luminosity: 3.369e+42\",\"<br>Emitted Luminosity: 1.063e+43<br>Requested Luminosity: 1.059e+43<br>Absorbed Luminosity: 3.369e+42\",\"<br>Emitted Luminosity: 1.063e+43<br>Requested Luminosity: 1.059e+43<br>Absorbed Luminosity: 3.369e+42\",\"<br>Emitted Luminosity: 1.063e+43<br>Requested Luminosity: 1.059e+43<br>Absorbed Luminosity: 3.369e+42\",\"<br>Emitted Luminosity: 1.063e+43<br>Requested Luminosity: 1.059e+43<br>Absorbed Luminosity: 3.369e+42\",\"<br>Emitted Luminosity: 1.063e+43<br>Requested Luminosity: 1.059e+43<br>Absorbed Luminosity: 3.369e+42\",\"<br>Emitted Luminosity: 1.063e+43<br>Requested Luminosity: 1.059e+43<br>Absorbed Luminosity: 3.369e+42\",\"<br>Emitted Luminosity: 1.063e+43<br>Requested Luminosity: 1.059e+43<br>Absorbed Luminosity: 3.369e+42\",\"<br>Emitted Luminosity: 1.063e+43<br>Requested Luminosity: 1.059e+43<br>Absorbed Luminosity: 3.369e+42\",\"<br>Emitted Luminosity: 1.063e+43<br>Requested Luminosity: 1.059e+43<br>Absorbed Luminosity: 3.369e+42\",\"<br>Emitted Luminosity: 1.063e+43<br>Requested Luminosity: 1.059e+43<br>Absorbed Luminosity: 3.369e+42\",\"<br>Emitted Luminosity: 1.063e+43<br>Requested Luminosity: 1.059e+43<br>Absorbed Luminosity: 3.369e+42\",\"<br>Emitted Luminosity: 1.063e+43<br>Requested Luminosity: 1.059e+43<br>Absorbed Luminosity: 3.369e+42\",\"<br>Emitted Luminosity: 1.063e+43<br>Requested Luminosity: 1.059e+43<br>Absorbed Luminosity: 3.369e+42\",\"<br>Emitted Luminosity: 1.063e+43<br>Requested Luminosity: 1.059e+43<br>Absorbed Luminosity: 3.369e+42\",\"<br>Emitted Luminosity: 1.063e+43<br>Requested Luminosity: 1.059e+43<br>Absorbed Luminosity: 3.369e+42\",\"<br>Emitted Luminosity: 1.063e+43<br>Requested Luminosity: 1.059e+43<br>Absorbed Luminosity: 3.369e+42\"],\"hovertemplate\":\"<b>Y</b>: %{y:.3f} at <b>X</b> = %{x:,.0f}%{customdata}\",\"legendgroup\":\"group-14\",\"line\":{\"color\":\"#ffd500\"},\"name\":\"14\",\"x\":[11000.0,11450.000000000002,11900.000000000002,12350.000000000002,12800.000000000002,13250.000000000002,13700.000000000002,14150.000000000002,14600.000000000002,15050.000000000002,15500.000000000002,15950.000000000002,16400.0,16850.0,17300.0,17750.0,18200.0,18650.0,19100.0,19550.0,20000.0],\"y\":[0.4656580542660174,0.3549669388200839,0.2890796008360588,0.2411840320437321,0.2044548355516537,0.18036279511146558,0.15735297031280962,0.1396762392149386,0.1258280828431834,0.11966817685100453,0.1113879468088015,0.1055940864813782,0.09923453037303105,0.09188690252759356,0.08696933388246794,0.08406815852725863,0.08086653912207445,0.07694310150792871,0.07586562190636104,0.07336532449072054],\"type\":\"scatter\",\"uid\":\"1773a107-45a8-4bef-b2bc-c00dec114fe8\",\"xaxis\":\"x2\",\"yaxis\":\"y2\"},{\"customdata\":[\"<br>Emitted Luminosity: 1.053e+43<br>Requested Luminosity: 1.059e+43<br>Absorbed Luminosity: 3.417e+42\",\"<br>Emitted Luminosity: 1.053e+43<br>Requested Luminosity: 1.059e+43<br>Absorbed Luminosity: 3.417e+42\",\"<br>Emitted Luminosity: 1.053e+43<br>Requested Luminosity: 1.059e+43<br>Absorbed Luminosity: 3.417e+42\",\"<br>Emitted Luminosity: 1.053e+43<br>Requested Luminosity: 1.059e+43<br>Absorbed Luminosity: 3.417e+42\",\"<br>Emitted Luminosity: 1.053e+43<br>Requested Luminosity: 1.059e+43<br>Absorbed Luminosity: 3.417e+42\",\"<br>Emitted Luminosity: 1.053e+43<br>Requested Luminosity: 1.059e+43<br>Absorbed Luminosity: 3.417e+42\",\"<br>Emitted Luminosity: 1.053e+43<br>Requested Luminosity: 1.059e+43<br>Absorbed Luminosity: 3.417e+42\",\"<br>Emitted Luminosity: 1.053e+43<br>Requested Luminosity: 1.059e+43<br>Absorbed Luminosity: 3.417e+42\",\"<br>Emitted Luminosity: 1.053e+43<br>Requested Luminosity: 1.059e+43<br>Absorbed Luminosity: 3.417e+42\",\"<br>Emitted Luminosity: 1.053e+43<br>Requested Luminosity: 1.059e+43<br>Absorbed Luminosity: 3.417e+42\",\"<br>Emitted Luminosity: 1.053e+43<br>Requested Luminosity: 1.059e+43<br>Absorbed Luminosity: 3.417e+42\",\"<br>Emitted Luminosity: 1.053e+43<br>Requested Luminosity: 1.059e+43<br>Absorbed Luminosity: 3.417e+42\",\"<br>Emitted Luminosity: 1.053e+43<br>Requested Luminosity: 1.059e+43<br>Absorbed Luminosity: 3.417e+42\",\"<br>Emitted Luminosity: 1.053e+43<br>Requested Luminosity: 1.059e+43<br>Absorbed Luminosity: 3.417e+42\",\"<br>Emitted Luminosity: 1.053e+43<br>Requested Luminosity: 1.059e+43<br>Absorbed Luminosity: 3.417e+42\",\"<br>Emitted Luminosity: 1.053e+43<br>Requested Luminosity: 1.059e+43<br>Absorbed Luminosity: 3.417e+42\",\"<br>Emitted Luminosity: 1.053e+43<br>Requested Luminosity: 1.059e+43<br>Absorbed Luminosity: 3.417e+42\",\"<br>Emitted Luminosity: 1.053e+43<br>Requested Luminosity: 1.059e+43<br>Absorbed Luminosity: 3.417e+42\",\"<br>Emitted Luminosity: 1.053e+43<br>Requested Luminosity: 1.059e+43<br>Absorbed Luminosity: 3.417e+42\",\"<br>Emitted Luminosity: 1.053e+43<br>Requested Luminosity: 1.059e+43<br>Absorbed Luminosity: 3.417e+42\",\"<br>Emitted Luminosity: 1.053e+43<br>Requested Luminosity: 1.059e+43<br>Absorbed Luminosity: 3.417e+42\"],\"hovertemplate\":\"<b>Y</b>: %{y:.3f} at <b>X</b> = %{x:,.0f}%{customdata}\",\"legendgroup\":\"group-15\",\"line\":{\"color\":\"#ffa400\"},\"name\":\"15\",\"showlegend\":false,\"x\":[11000.0,11450.000000000002,11900.000000000002,12350.000000000002,12800.000000000002,13250.000000000002,13700.000000000002,14150.000000000002,14600.000000000002,15050.000000000002,15500.000000000002,15950.000000000002,16400.0,16850.0,17300.0,17750.0,18200.0,18650.0,19100.0,19550.0,20000.0],\"y\":[11068.046309185876,11150.165777521795,11259.927945300615,11258.671949226653,11266.893687156795,11275.907138982933,11188.304547244114,11219.769555221625,11200.243476725236,11135.25166156878,11027.955393405395,10929.698720441846,10834.157175493461,10882.486108740271,10770.225563673814,10675.837041470653,10617.659929605461,10487.33328500243,10387.978004645705,10300.55139162352],\"type\":\"scatter\",\"uid\":\"dbc9049d-61a4-4087-ae89-15aa7590e250\",\"xaxis\":\"x\",\"yaxis\":\"y\"},{\"customdata\":[\"<br>Emitted Luminosity: 1.053e+43<br>Requested Luminosity: 1.059e+43<br>Absorbed Luminosity: 3.417e+42\",\"<br>Emitted Luminosity: 1.053e+43<br>Requested Luminosity: 1.059e+43<br>Absorbed Luminosity: 3.417e+42\",\"<br>Emitted Luminosity: 1.053e+43<br>Requested Luminosity: 1.059e+43<br>Absorbed Luminosity: 3.417e+42\",\"<br>Emitted Luminosity: 1.053e+43<br>Requested Luminosity: 1.059e+43<br>Absorbed Luminosity: 3.417e+42\",\"<br>Emitted Luminosity: 1.053e+43<br>Requested Luminosity: 1.059e+43<br>Absorbed Luminosity: 3.417e+42\",\"<br>Emitted Luminosity: 1.053e+43<br>Requested Luminosity: 1.059e+43<br>Absorbed Luminosity: 3.417e+42\",\"<br>Emitted Luminosity: 1.053e+43<br>Requested Luminosity: 1.059e+43<br>Absorbed Luminosity: 3.417e+42\",\"<br>Emitted Luminosity: 1.053e+43<br>Requested Luminosity: 1.059e+43<br>Absorbed Luminosity: 3.417e+42\",\"<br>Emitted Luminosity: 1.053e+43<br>Requested Luminosity: 1.059e+43<br>Absorbed Luminosity: 3.417e+42\",\"<br>Emitted Luminosity: 1.053e+43<br>Requested Luminosity: 1.059e+43<br>Absorbed Luminosity: 3.417e+42\",\"<br>Emitted Luminosity: 1.053e+43<br>Requested Luminosity: 1.059e+43<br>Absorbed Luminosity: 3.417e+42\",\"<br>Emitted Luminosity: 1.053e+43<br>Requested Luminosity: 1.059e+43<br>Absorbed Luminosity: 3.417e+42\",\"<br>Emitted Luminosity: 1.053e+43<br>Requested Luminosity: 1.059e+43<br>Absorbed Luminosity: 3.417e+42\",\"<br>Emitted Luminosity: 1.053e+43<br>Requested Luminosity: 1.059e+43<br>Absorbed Luminosity: 3.417e+42\",\"<br>Emitted Luminosity: 1.053e+43<br>Requested Luminosity: 1.059e+43<br>Absorbed Luminosity: 3.417e+42\",\"<br>Emitted Luminosity: 1.053e+43<br>Requested Luminosity: 1.059e+43<br>Absorbed Luminosity: 3.417e+42\",\"<br>Emitted Luminosity: 1.053e+43<br>Requested Luminosity: 1.059e+43<br>Absorbed Luminosity: 3.417e+42\",\"<br>Emitted Luminosity: 1.053e+43<br>Requested Luminosity: 1.059e+43<br>Absorbed Luminosity: 3.417e+42\",\"<br>Emitted Luminosity: 1.053e+43<br>Requested Luminosity: 1.059e+43<br>Absorbed Luminosity: 3.417e+42\",\"<br>Emitted Luminosity: 1.053e+43<br>Requested Luminosity: 1.059e+43<br>Absorbed Luminosity: 3.417e+42\",\"<br>Emitted Luminosity: 1.053e+43<br>Requested Luminosity: 1.059e+43<br>Absorbed Luminosity: 3.417e+42\"],\"hovertemplate\":\"<b>Y</b>: %{y:.3f} at <b>X</b> = %{x:,.0f}%{customdata}\",\"legendgroup\":\"group-15\",\"line\":{\"color\":\"#ffa400\"},\"name\":\"15\",\"x\":[11000.0,11450.000000000002,11900.000000000002,12350.000000000002,12800.000000000002,13250.000000000002,13700.000000000002,14150.000000000002,14600.000000000002,15050.000000000002,15500.000000000002,15950.000000000002,16400.0,16850.0,17300.0,17750.0,18200.0,18650.0,19100.0,19550.0,20000.0],\"y\":[0.46932795796874244,0.3598819872397995,0.28505597197300686,0.24047538038576177,0.20758977470283388,0.18247684789832208,0.164918688875003,0.14566113033387296,0.130538472346563,0.12057559589816053,0.11339699738857618,0.10727304278755384,0.1017123116730494,0.09280065223916528,0.0887940580427341,0.0853581238153426,0.08131280053377825,0.07954659088876881,0.07699622231440474,0.07445860956230053],\"type\":\"scatter\",\"uid\":\"c5db27c9-c1ff-4f35-bbb7-bb321d387ea7\",\"xaxis\":\"x2\",\"yaxis\":\"y2\"},{\"customdata\":[\"<br>Emitted Luminosity: 1.059e+43<br>Requested Luminosity: 1.059e+43<br>Absorbed Luminosity: 3.445e+42\",\"<br>Emitted Luminosity: 1.059e+43<br>Requested Luminosity: 1.059e+43<br>Absorbed Luminosity: 3.445e+42\",\"<br>Emitted Luminosity: 1.059e+43<br>Requested Luminosity: 1.059e+43<br>Absorbed Luminosity: 3.445e+42\",\"<br>Emitted Luminosity: 1.059e+43<br>Requested Luminosity: 1.059e+43<br>Absorbed Luminosity: 3.445e+42\",\"<br>Emitted Luminosity: 1.059e+43<br>Requested Luminosity: 1.059e+43<br>Absorbed Luminosity: 3.445e+42\",\"<br>Emitted Luminosity: 1.059e+43<br>Requested Luminosity: 1.059e+43<br>Absorbed Luminosity: 3.445e+42\",\"<br>Emitted Luminosity: 1.059e+43<br>Requested Luminosity: 1.059e+43<br>Absorbed Luminosity: 3.445e+42\",\"<br>Emitted Luminosity: 1.059e+43<br>Requested Luminosity: 1.059e+43<br>Absorbed Luminosity: 3.445e+42\",\"<br>Emitted Luminosity: 1.059e+43<br>Requested Luminosity: 1.059e+43<br>Absorbed Luminosity: 3.445e+42\",\"<br>Emitted Luminosity: 1.059e+43<br>Requested Luminosity: 1.059e+43<br>Absorbed Luminosity: 3.445e+42\",\"<br>Emitted Luminosity: 1.059e+43<br>Requested Luminosity: 1.059e+43<br>Absorbed Luminosity: 3.445e+42\",\"<br>Emitted Luminosity: 1.059e+43<br>Requested Luminosity: 1.059e+43<br>Absorbed Luminosity: 3.445e+42\",\"<br>Emitted Luminosity: 1.059e+43<br>Requested Luminosity: 1.059e+43<br>Absorbed Luminosity: 3.445e+42\",\"<br>Emitted Luminosity: 1.059e+43<br>Requested Luminosity: 1.059e+43<br>Absorbed Luminosity: 3.445e+42\",\"<br>Emitted Luminosity: 1.059e+43<br>Requested Luminosity: 1.059e+43<br>Absorbed Luminosity: 3.445e+42\",\"<br>Emitted Luminosity: 1.059e+43<br>Requested Luminosity: 1.059e+43<br>Absorbed Luminosity: 3.445e+42\",\"<br>Emitted Luminosity: 1.059e+43<br>Requested Luminosity: 1.059e+43<br>Absorbed Luminosity: 3.445e+42\",\"<br>Emitted Luminosity: 1.059e+43<br>Requested Luminosity: 1.059e+43<br>Absorbed Luminosity: 3.445e+42\",\"<br>Emitted Luminosity: 1.059e+43<br>Requested Luminosity: 1.059e+43<br>Absorbed Luminosity: 3.445e+42\",\"<br>Emitted Luminosity: 1.059e+43<br>Requested Luminosity: 1.059e+43<br>Absorbed Luminosity: 3.445e+42\",\"<br>Emitted Luminosity: 1.059e+43<br>Requested Luminosity: 1.059e+43<br>Absorbed Luminosity: 3.445e+42\"],\"hovertemplate\":\"<b>Y</b>: %{y:.3f} at <b>X</b> = %{x:,.0f}%{customdata}\",\"legendgroup\":\"group-16\",\"line\":{\"color\":\"#ff7200\"},\"name\":\"16\",\"showlegend\":false,\"x\":[11000.0,11450.000000000002,11900.000000000002,12350.000000000002,12800.000000000002,13250.000000000002,13700.000000000002,14150.000000000002,14600.000000000002,15050.000000000002,15500.000000000002,15950.000000000002,16400.0,16850.0,17300.0,17750.0,18200.0,18650.0,19100.0,19550.0,20000.0],\"y\":[10967.31969478168,11126.763191450418,11217.761301245826,11206.130309939237,11283.795667048485,11284.218727172114,11191.201175494092,11202.316834014988,11201.784297657407,11146.624926701426,11022.88656442053,10942.852665399469,10865.77960077685,10807.444186041452,10676.484158875332,10656.71918967577,10574.820743062715,10453.64676793487,10351.641526033647,10281.91872442257],\"type\":\"scatter\",\"uid\":\"31c06a3c-dd1c-42e0-be4e-860382c2a20c\",\"xaxis\":\"x\",\"yaxis\":\"y\"},{\"customdata\":[\"<br>Emitted Luminosity: 1.059e+43<br>Requested Luminosity: 1.059e+43<br>Absorbed Luminosity: 3.445e+42\",\"<br>Emitted Luminosity: 1.059e+43<br>Requested Luminosity: 1.059e+43<br>Absorbed Luminosity: 3.445e+42\",\"<br>Emitted Luminosity: 1.059e+43<br>Requested Luminosity: 1.059e+43<br>Absorbed Luminosity: 3.445e+42\",\"<br>Emitted Luminosity: 1.059e+43<br>Requested Luminosity: 1.059e+43<br>Absorbed Luminosity: 3.445e+42\",\"<br>Emitted Luminosity: 1.059e+43<br>Requested Luminosity: 1.059e+43<br>Absorbed Luminosity: 3.445e+42\",\"<br>Emitted Luminosity: 1.059e+43<br>Requested Luminosity: 1.059e+43<br>Absorbed Luminosity: 3.445e+42\",\"<br>Emitted Luminosity: 1.059e+43<br>Requested Luminosity: 1.059e+43<br>Absorbed Luminosity: 3.445e+42\",\"<br>Emitted Luminosity: 1.059e+43<br>Requested Luminosity: 1.059e+43<br>Absorbed Luminosity: 3.445e+42\",\"<br>Emitted Luminosity: 1.059e+43<br>Requested Luminosity: 1.059e+43<br>Absorbed Luminosity: 3.445e+42\",\"<br>Emitted Luminosity: 1.059e+43<br>Requested Luminosity: 1.059e+43<br>Absorbed Luminosity: 3.445e+42\",\"<br>Emitted Luminosity: 1.059e+43<br>Requested Luminosity: 1.059e+43<br>Absorbed Luminosity: 3.445e+42\",\"<br>Emitted Luminosity: 1.059e+43<br>Requested Luminosity: 1.059e+43<br>Absorbed Luminosity: 3.445e+42\",\"<br>Emitted Luminosity: 1.059e+43<br>Requested Luminosity: 1.059e+43<br>Absorbed Luminosity: 3.445e+42\",\"<br>Emitted Luminosity: 1.059e+43<br>Requested Luminosity: 1.059e+43<br>Absorbed Luminosity: 3.445e+42\",\"<br>Emitted Luminosity: 1.059e+43<br>Requested Luminosity: 1.059e+43<br>Absorbed Luminosity: 3.445e+42\",\"<br>Emitted Luminosity: 1.059e+43<br>Requested Luminosity: 1.059e+43<br>Absorbed Luminosity: 3.445e+42\",\"<br>Emitted Luminosity: 1.059e+43<br>Requested Luminosity: 1.059e+43<br>Absorbed Luminosity: 3.445e+42\",\"<br>Emitted Luminosity: 1.059e+43<br>Requested Luminosity: 1.059e+43<br>Absorbed Luminosity: 3.445e+42\",\"<br>Emitted Luminosity: 1.059e+43<br>Requested Luminosity: 1.059e+43<br>Absorbed Luminosity: 3.445e+42\",\"<br>Emitted Luminosity: 1.059e+43<br>Requested Luminosity: 1.059e+43<br>Absorbed Luminosity: 3.445e+42\",\"<br>Emitted Luminosity: 1.059e+43<br>Requested Luminosity: 1.059e+43<br>Absorbed Luminosity: 3.445e+42\"],\"hovertemplate\":\"<b>Y</b>: %{y:.3f} at <b>X</b> = %{x:,.0f}%{customdata}\",\"legendgroup\":\"group-16\",\"line\":{\"color\":\"#ff7200\"},\"name\":\"16\",\"x\":[11000.0,11450.000000000002,11900.000000000002,12350.000000000002,12800.000000000002,13250.000000000002,13700.000000000002,14150.000000000002,14600.000000000002,15050.000000000002,15500.000000000002,15950.000000000002,16400.0,16850.0,17300.0,17750.0,18200.0,18650.0,19100.0,19550.0,20000.0],\"y\":[0.48394896561611683,0.3618062130877217,0.29091502763590893,0.24583547261525912,0.20725074455177805,0.18050061388388078,0.16415609857638255,0.14437984693241654,0.12930093466256515,0.11929659161564003,0.1134047419164423,0.10641542212233511,0.10029313585188729,0.09450661081431391,0.09128329339615306,0.08583573790565022,0.08193986649167612,0.07966061032772177,0.07725470102319097,0.07431405273739551],\"type\":\"scatter\",\"uid\":\"e281fe6f-cd84-4246-ab50-fb67917b9ca9\",\"xaxis\":\"x2\",\"yaxis\":\"y2\"},{\"customdata\":[\"<br>Emitted Luminosity: 1.067e+43<br>Requested Luminosity: 1.059e+43<br>Absorbed Luminosity: 3.372e+42\",\"<br>Emitted Luminosity: 1.067e+43<br>Requested Luminosity: 1.059e+43<br>Absorbed Luminosity: 3.372e+42\",\"<br>Emitted Luminosity: 1.067e+43<br>Requested Luminosity: 1.059e+43<br>Absorbed Luminosity: 3.372e+42\",\"<br>Emitted Luminosity: 1.067e+43<br>Requested Luminosity: 1.059e+43<br>Absorbed Luminosity: 3.372e+42\",\"<br>Emitted Luminosity: 1.067e+43<br>Requested Luminosity: 1.059e+43<br>Absorbed Luminosity: 3.372e+42\",\"<br>Emitted Luminosity: 1.067e+43<br>Requested Luminosity: 1.059e+43<br>Absorbed Luminosity: 3.372e+42\",\"<br>Emitted Luminosity: 1.067e+43<br>Requested Luminosity: 1.059e+43<br>Absorbed Luminosity: 3.372e+42\",\"<br>Emitted Luminosity: 1.067e+43<br>Requested Luminosity: 1.059e+43<br>Absorbed Luminosity: 3.372e+42\",\"<br>Emitted Luminosity: 1.067e+43<br>Requested Luminosity: 1.059e+43<br>Absorbed Luminosity: 3.372e+42\",\"<br>Emitted Luminosity: 1.067e+43<br>Requested Luminosity: 1.059e+43<br>Absorbed Luminosity: 3.372e+42\",\"<br>Emitted Luminosity: 1.067e+43<br>Requested Luminosity: 1.059e+43<br>Absorbed Luminosity: 3.372e+42\",\"<br>Emitted Luminosity: 1.067e+43<br>Requested Luminosity: 1.059e+43<br>Absorbed Luminosity: 3.372e+42\",\"<br>Emitted Luminosity: 1.067e+43<br>Requested Luminosity: 1.059e+43<br>Absorbed Luminosity: 3.372e+42\",\"<br>Emitted Luminosity: 1.067e+43<br>Requested Luminosity: 1.059e+43<br>Absorbed Luminosity: 3.372e+42\",\"<br>Emitted Luminosity: 1.067e+43<br>Requested Luminosity: 1.059e+43<br>Absorbed Luminosity: 3.372e+42\",\"<br>Emitted Luminosity: 1.067e+43<br>Requested Luminosity: 1.059e+43<br>Absorbed Luminosity: 3.372e+42\",\"<br>Emitted Luminosity: 1.067e+43<br>Requested Luminosity: 1.059e+43<br>Absorbed Luminosity: 3.372e+42\",\"<br>Emitted Luminosity: 1.067e+43<br>Requested Luminosity: 1.059e+43<br>Absorbed Luminosity: 3.372e+42\",\"<br>Emitted Luminosity: 1.067e+43<br>Requested Luminosity: 1.059e+43<br>Absorbed Luminosity: 3.372e+42\",\"<br>Emitted Luminosity: 1.067e+43<br>Requested Luminosity: 1.059e+43<br>Absorbed Luminosity: 3.372e+42\",\"<br>Emitted Luminosity: 1.067e+43<br>Requested Luminosity: 1.059e+43<br>Absorbed Luminosity: 3.372e+42\"],\"hovertemplate\":\"<b>Y</b>: %{y:.3f} at <b>X</b> = %{x:,.0f}%{customdata}\",\"legendgroup\":\"group-17\",\"line\":{\"color\":\"#ff4000\"},\"name\":\"17\",\"showlegend\":false,\"x\":[11000.0,11450.000000000002,11900.000000000002,12350.000000000002,12800.000000000002,13250.000000000002,13700.000000000002,14150.000000000002,14600.000000000002,15050.000000000002,15500.000000000002,15950.000000000002,16400.0,16850.0,17300.0,17750.0,18200.0,18650.0,19100.0,19550.0,20000.0],\"y\":[11042.347172723761,11122.973037201844,11214.47667584529,11336.714091199532,11337.333756405547,11307.076261329576,11262.528844724051,11207.518823856928,11171.681766351447,11058.331353775347,11044.390776027107,10976.332366462932,10821.885484658194,10742.965724501102,10725.757122150602,10644.126114579374,10614.930269328568,10486.427933562276,10417.742463709854,10319.21159595824],\"type\":\"scatter\",\"uid\":\"d5436354-9514-4a62-b3c2-ae477736619f\",\"xaxis\":\"x\",\"yaxis\":\"y\"},{\"customdata\":[\"<br>Emitted Luminosity: 1.067e+43<br>Requested Luminosity: 1.059e+43<br>Absorbed Luminosity: 3.372e+42\",\"<br>Emitted Luminosity: 1.067e+43<br>Requested Luminosity: 1.059e+43<br>Absorbed Luminosity: 3.372e+42\",\"<br>Emitted Luminosity: 1.067e+43<br>Requested Luminosity: 1.059e+43<br>Absorbed Luminosity: 3.372e+42\",\"<br>Emitted Luminosity: 1.067e+43<br>Requested Luminosity: 1.059e+43<br>Absorbed Luminosity: 3.372e+42\",\"<br>Emitted Luminosity: 1.067e+43<br>Requested Luminosity: 1.059e+43<br>Absorbed Luminosity: 3.372e+42\",\"<br>Emitted Luminosity: 1.067e+43<br>Requested Luminosity: 1.059e+43<br>Absorbed Luminosity: 3.372e+42\",\"<br>Emitted Luminosity: 1.067e+43<br>Requested Luminosity: 1.059e+43<br>Absorbed Luminosity: 3.372e+42\",\"<br>Emitted Luminosity: 1.067e+43<br>Requested Luminosity: 1.059e+43<br>Absorbed Luminosity: 3.372e+42\",\"<br>Emitted Luminosity: 1.067e+43<br>Requested Luminosity: 1.059e+43<br>Absorbed Luminosity: 3.372e+42\",\"<br>Emitted Luminosity: 1.067e+43<br>Requested Luminosity: 1.059e+43<br>Absorbed Luminosity: 3.372e+42\",\"<br>Emitted Luminosity: 1.067e+43<br>Requested Luminosity: 1.059e+43<br>Absorbed Luminosity: 3.372e+42\",\"<br>Emitted Luminosity: 1.067e+43<br>Requested Luminosity: 1.059e+43<br>Absorbed Luminosity: 3.372e+42\",\"<br>Emitted Luminosity: 1.067e+43<br>Requested Luminosity: 1.059e+43<br>Absorbed Luminosity: 3.372e+42\",\"<br>Emitted Luminosity: 1.067e+43<br>Requested Luminosity: 1.059e+43<br>Absorbed Luminosity: 3.372e+42\",\"<br>Emitted Luminosity: 1.067e+43<br>Requested Luminosity: 1.059e+43<br>Absorbed Luminosity: 3.372e+42\",\"<br>Emitted Luminosity: 1.067e+43<br>Requested Luminosity: 1.059e+43<br>Absorbed Luminosity: 3.372e+42\",\"<br>Emitted Luminosity: 1.067e+43<br>Requested Luminosity: 1.059e+43<br>Absorbed Luminosity: 3.372e+42\",\"<br>Emitted Luminosity: 1.067e+43<br>Requested Luminosity: 1.059e+43<br>Absorbed Luminosity: 3.372e+42\",\"<br>Emitted Luminosity: 1.067e+43<br>Requested Luminosity: 1.059e+43<br>Absorbed Luminosity: 3.372e+42\",\"<br>Emitted Luminosity: 1.067e+43<br>Requested Luminosity: 1.059e+43<br>Absorbed Luminosity: 3.372e+42\",\"<br>Emitted Luminosity: 1.067e+43<br>Requested Luminosity: 1.059e+43<br>Absorbed Luminosity: 3.372e+42\"],\"hovertemplate\":\"<b>Y</b>: %{y:.3f} at <b>X</b> = %{x:,.0f}%{customdata}\",\"legendgroup\":\"group-17\",\"line\":{\"color\":\"#ff4000\"},\"name\":\"17\",\"x\":[11000.0,11450.000000000002,11900.000000000002,12350.000000000002,12800.000000000002,13250.000000000002,13700.000000000002,14150.000000000002,14600.000000000002,15050.000000000002,15500.000000000002,15950.000000000002,16400.0,16850.0,17300.0,17750.0,18200.0,18650.0,19100.0,19550.0,20000.0],\"y\":[0.47247373752193533,0.36203938747073033,0.2890816320248081,0.23539114185725943,0.2018308300714343,0.17676165818853307,0.15800650664756372,0.14388846834550909,0.13114228630278812,0.1230014421461069,0.1127739912439563,0.10539713038752765,0.10147886711690278,0.09667081343562231,0.09030685715510021,0.08580146888935998,0.08122763475653608,0.07912148699194739,0.07595030678843939,0.07373499783026392],\"type\":\"scatter\",\"uid\":\"17e48b15-84a1-427d-8e77-2ed9842d32c9\",\"xaxis\":\"x2\",\"yaxis\":\"y2\"},{\"customdata\":[\"<br>Emitted Luminosity: 1.057e+43<br>Requested Luminosity: 1.059e+43<br>Absorbed Luminosity: 3.365e+42\",\"<br>Emitted Luminosity: 1.057e+43<br>Requested Luminosity: 1.059e+43<br>Absorbed Luminosity: 3.365e+42\",\"<br>Emitted Luminosity: 1.057e+43<br>Requested Luminosity: 1.059e+43<br>Absorbed Luminosity: 3.365e+42\",\"<br>Emitted Luminosity: 1.057e+43<br>Requested Luminosity: 1.059e+43<br>Absorbed Luminosity: 3.365e+42\",\"<br>Emitted Luminosity: 1.057e+43<br>Requested Luminosity: 1.059e+43<br>Absorbed Luminosity: 3.365e+42\",\"<br>Emitted Luminosity: 1.057e+43<br>Requested Luminosity: 1.059e+43<br>Absorbed Luminosity: 3.365e+42\",\"<br>Emitted Luminosity: 1.057e+43<br>Requested Luminosity: 1.059e+43<br>Absorbed Luminosity: 3.365e+42\",\"<br>Emitted Luminosity: 1.057e+43<br>Requested Luminosity: 1.059e+43<br>Absorbed Luminosity: 3.365e+42\",\"<br>Emitted Luminosity: 1.057e+43<br>Requested Luminosity: 1.059e+43<br>Absorbed Luminosity: 3.365e+42\",\"<br>Emitted Luminosity: 1.057e+43<br>Requested Luminosity: 1.059e+43<br>Absorbed Luminosity: 3.365e+42\",\"<br>Emitted Luminosity: 1.057e+43<br>Requested Luminosity: 1.059e+43<br>Absorbed Luminosity: 3.365e+42\",\"<br>Emitted Luminosity: 1.057e+43<br>Requested Luminosity: 1.059e+43<br>Absorbed Luminosity: 3.365e+42\",\"<br>Emitted Luminosity: 1.057e+43<br>Requested Luminosity: 1.059e+43<br>Absorbed Luminosity: 3.365e+42\",\"<br>Emitted Luminosity: 1.057e+43<br>Requested Luminosity: 1.059e+43<br>Absorbed Luminosity: 3.365e+42\",\"<br>Emitted Luminosity: 1.057e+43<br>Requested Luminosity: 1.059e+43<br>Absorbed Luminosity: 3.365e+42\",\"<br>Emitted Luminosity: 1.057e+43<br>Requested Luminosity: 1.059e+43<br>Absorbed Luminosity: 3.365e+42\",\"<br>Emitted Luminosity: 1.057e+43<br>Requested Luminosity: 1.059e+43<br>Absorbed Luminosity: 3.365e+42\",\"<br>Emitted Luminosity: 1.057e+43<br>Requested Luminosity: 1.059e+43<br>Absorbed Luminosity: 3.365e+42\",\"<br>Emitted Luminosity: 1.057e+43<br>Requested Luminosity: 1.059e+43<br>Absorbed Luminosity: 3.365e+42\",\"<br>Emitted Luminosity: 1.057e+43<br>Requested Luminosity: 1.059e+43<br>Absorbed Luminosity: 3.365e+42\",\"<br>Emitted Luminosity: 1.057e+43<br>Requested Luminosity: 1.059e+43<br>Absorbed Luminosity: 3.365e+42\"],\"hovertemplate\":\"<b>Y</b>: %{y:.3f} at <b>X</b> = %{x:,.0f}%{customdata}\",\"legendgroup\":\"group-18\",\"line\":{\"color\":\"#fa0e00\"},\"name\":\"18\",\"showlegend\":false,\"x\":[11000.0,11450.000000000002,11900.000000000002,12350.000000000002,12800.000000000002,13250.000000000002,13700.000000000002,14150.000000000002,14600.000000000002,15050.000000000002,15500.000000000002,15950.000000000002,16400.0,16850.0,17300.0,17750.0,18200.0,18650.0,19100.0,19550.0,20000.0],\"y\":[11061.104094222763,11239.559981419901,11281.836667874491,11287.129683362744,11328.91317231443,11369.434920562884,11306.699883253495,11287.274234267417,11280.819840447972,11215.609120286588,11108.666525976649,11024.667197878094,10941.486197960681,10940.861997982878,10919.379371409233,10824.561557880077,10688.400325930348,10602.127733344892,10514.758739296243,10409.719642099033],\"type\":\"scatter\",\"uid\":\"8e1a9a70-f5ec-40cd-90e7-baf747629889\",\"xaxis\":\"x\",\"yaxis\":\"y\"},{\"customdata\":[\"<br>Emitted Luminosity: 1.057e+43<br>Requested Luminosity: 1.059e+43<br>Absorbed Luminosity: 3.365e+42\",\"<br>Emitted Luminosity: 1.057e+43<br>Requested Luminosity: 1.059e+43<br>Absorbed Luminosity: 3.365e+42\",\"<br>Emitted Luminosity: 1.057e+43<br>Requested Luminosity: 1.059e+43<br>Absorbed Luminosity: 3.365e+42\",\"<br>Emitted Luminosity: 1.057e+43<br>Requested Luminosity: 1.059e+43<br>Absorbed Luminosity: 3.365e+42\",\"<br>Emitted Luminosity: 1.057e+43<br>Requested Luminosity: 1.059e+43<br>Absorbed Luminosity: 3.365e+42\",\"<br>Emitted Luminosity: 1.057e+43<br>Requested Luminosity: 1.059e+43<br>Absorbed Luminosity: 3.365e+42\",\"<br>Emitted Luminosity: 1.057e+43<br>Requested Luminosity: 1.059e+43<br>Absorbed Luminosity: 3.365e+42\",\"<br>Emitted Luminosity: 1.057e+43<br>Requested Luminosity: 1.059e+43<br>Absorbed Luminosity: 3.365e+42\",\"<br>Emitted Luminosity: 1.057e+43<br>Requested Luminosity: 1.059e+43<br>Absorbed Luminosity: 3.365e+42\",\"<br>Emitted Luminosity: 1.057e+43<br>Requested Luminosity: 1.059e+43<br>Absorbed Luminosity: 3.365e+42\",\"<br>Emitted Luminosity: 1.057e+43<br>Requested Luminosity: 1.059e+43<br>Absorbed Luminosity: 3.365e+42\",\"<br>Emitted Luminosity: 1.057e+43<br>Requested Luminosity: 1.059e+43<br>Absorbed Luminosity: 3.365e+42\",\"<br>Emitted Luminosity: 1.057e+43<br>Requested Luminosity: 1.059e+43<br>Absorbed Luminosity: 3.365e+42\",\"<br>Emitted Luminosity: 1.057e+43<br>Requested Luminosity: 1.059e+43<br>Absorbed Luminosity: 3.365e+42\",\"<br>Emitted Luminosity: 1.057e+43<br>Requested Luminosity: 1.059e+43<br>Absorbed Luminosity: 3.365e+42\",\"<br>Emitted Luminosity: 1.057e+43<br>Requested Luminosity: 1.059e+43<br>Absorbed Luminosity: 3.365e+42\",\"<br>Emitted Luminosity: 1.057e+43<br>Requested Luminosity: 1.059e+43<br>Absorbed Luminosity: 3.365e+42\",\"<br>Emitted Luminosity: 1.057e+43<br>Requested Luminosity: 1.059e+43<br>Absorbed Luminosity: 3.365e+42\",\"<br>Emitted Luminosity: 1.057e+43<br>Requested Luminosity: 1.059e+43<br>Absorbed Luminosity: 3.365e+42\",\"<br>Emitted Luminosity: 1.057e+43<br>Requested Luminosity: 1.059e+43<br>Absorbed Luminosity: 3.365e+42\",\"<br>Emitted Luminosity: 1.057e+43<br>Requested Luminosity: 1.059e+43<br>Absorbed Luminosity: 3.365e+42\"],\"hovertemplate\":\"<b>Y</b>: %{y:.3f} at <b>X</b> = %{x:,.0f}%{customdata}\",\"legendgroup\":\"group-18\",\"line\":{\"color\":\"#fa0e00\"},\"name\":\"18\",\"x\":[11000.0,11450.000000000002,11900.000000000002,12350.000000000002,12800.000000000002,13250.000000000002,13700.000000000002,14150.000000000002,14600.000000000002,15050.000000000002,15500.000000000002,15950.000000000002,16400.0,16850.0,17300.0,17750.0,18200.0,18650.0,19100.0,19550.0,20000.0],\"y\":[0.4680443054089132,0.347234758087346,0.2836200023918085,0.24021190278159563,0.20427470053961802,0.175429927828036,0.157115459554543,0.14083908157267275,0.12665973122712756,0.11702302794897913,0.11040994489760704,0.10363904300376094,0.0981613234509696,0.09078706955631384,0.08479711521083541,0.0815984745270332,0.0795304848028644,0.07630910821344589,0.07363747785845447,0.07179028233909285],\"type\":\"scatter\",\"uid\":\"a6ef821f-49b7-4226-b1c1-d325de516d7c\",\"xaxis\":\"x2\",\"yaxis\":\"y2\"},{\"customdata\":[\"<br>Emitted Luminosity: 1.056e+43<br>Requested Luminosity: 1.059e+43<br>Absorbed Luminosity: 3.405e+42\",\"<br>Emitted Luminosity: 1.056e+43<br>Requested Luminosity: 1.059e+43<br>Absorbed Luminosity: 3.405e+42\",\"<br>Emitted Luminosity: 1.056e+43<br>Requested Luminosity: 1.059e+43<br>Absorbed Luminosity: 3.405e+42\",\"<br>Emitted Luminosity: 1.056e+43<br>Requested Luminosity: 1.059e+43<br>Absorbed Luminosity: 3.405e+42\",\"<br>Emitted Luminosity: 1.056e+43<br>Requested Luminosity: 1.059e+43<br>Absorbed Luminosity: 3.405e+42\",\"<br>Emitted Luminosity: 1.056e+43<br>Requested Luminosity: 1.059e+43<br>Absorbed Luminosity: 3.405e+42\",\"<br>Emitted Luminosity: 1.056e+43<br>Requested Luminosity: 1.059e+43<br>Absorbed Luminosity: 3.405e+42\",\"<br>Emitted Luminosity: 1.056e+43<br>Requested Luminosity: 1.059e+43<br>Absorbed Luminosity: 3.405e+42\",\"<br>Emitted Luminosity: 1.056e+43<br>Requested Luminosity: 1.059e+43<br>Absorbed Luminosity: 3.405e+42\",\"<br>Emitted Luminosity: 1.056e+43<br>Requested Luminosity: 1.059e+43<br>Absorbed Luminosity: 3.405e+42\",\"<br>Emitted Luminosity: 1.056e+43<br>Requested Luminosity: 1.059e+43<br>Absorbed Luminosity: 3.405e+42\",\"<br>Emitted Luminosity: 1.056e+43<br>Requested Luminosity: 1.059e+43<br>Absorbed Luminosity: 3.405e+42\",\"<br>Emitted Luminosity: 1.056e+43<br>Requested Luminosity: 1.059e+43<br>Absorbed Luminosity: 3.405e+42\",\"<br>Emitted Luminosity: 1.056e+43<br>Requested Luminosity: 1.059e+43<br>Absorbed Luminosity: 3.405e+42\",\"<br>Emitted Luminosity: 1.056e+43<br>Requested Luminosity: 1.059e+43<br>Absorbed Luminosity: 3.405e+42\",\"<br>Emitted Luminosity: 1.056e+43<br>Requested Luminosity: 1.059e+43<br>Absorbed Luminosity: 3.405e+42\",\"<br>Emitted Luminosity: 1.056e+43<br>Requested Luminosity: 1.059e+43<br>Absorbed Luminosity: 3.405e+42\",\"<br>Emitted Luminosity: 1.056e+43<br>Requested Luminosity: 1.059e+43<br>Absorbed Luminosity: 3.405e+42\",\"<br>Emitted Luminosity: 1.056e+43<br>Requested Luminosity: 1.059e+43<br>Absorbed Luminosity: 3.405e+42\",\"<br>Emitted Luminosity: 1.056e+43<br>Requested Luminosity: 1.059e+43<br>Absorbed Luminosity: 3.405e+42\",\"<br>Emitted Luminosity: 1.056e+43<br>Requested Luminosity: 1.059e+43<br>Absorbed Luminosity: 3.405e+42\"],\"hovertemplate\":\"<b>Y</b>: %{y:.3f} at <b>X</b> = %{x:,.0f}%{customdata}\",\"legendgroup\":\"group-19\",\"line\":{\"color\":\"#bd0000\"},\"name\":\"19\",\"showlegend\":false,\"x\":[11000.0,11450.000000000002,11900.000000000002,12350.000000000002,12800.000000000002,13250.000000000002,13700.000000000002,14150.000000000002,14600.000000000002,15050.000000000002,15500.000000000002,15950.000000000002,16400.0,16850.0,17300.0,17750.0,18200.0,18650.0,19100.0,19550.0,20000.0],\"y\":[11069.193823700834,11144.033206219896,11213.390462097446,11305.728531756518,11285.266184353559,11323.781974402698,11271.173666875116,11265.745450084161,11172.683228067404,11091.044477502059,11030.940701284268,10992.910316594747,10907.845154495473,10860.343885103199,10754.598368722307,10675.606608814991,10611.908848638646,10526.402210396032,10470.935047886072,10349.22810317362],\"type\":\"scatter\",\"uid\":\"11df3153-a628-466d-acda-7a6ca24cf597\",\"xaxis\":\"x\",\"yaxis\":\"y\"},{\"customdata\":[\"<br>Emitted Luminosity: 1.056e+43<br>Requested Luminosity: 1.059e+43<br>Absorbed Luminosity: 3.405e+42\",\"<br>Emitted Luminosity: 1.056e+43<br>Requested Luminosity: 1.059e+43<br>Absorbed Luminosity: 3.405e+42\",\"<br>Emitted Luminosity: 1.056e+43<br>Requested Luminosity: 1.059e+43<br>Absorbed Luminosity: 3.405e+42\",\"<br>Emitted Luminosity: 1.056e+43<br>Requested Luminosity: 1.059e+43<br>Absorbed Luminosity: 3.405e+42\",\"<br>Emitted Luminosity: 1.056e+43<br>Requested Luminosity: 1.059e+43<br>Absorbed Luminosity: 3.405e+42\",\"<br>Emitted Luminosity: 1.056e+43<br>Requested Luminosity: 1.059e+43<br>Absorbed Luminosity: 3.405e+42\",\"<br>Emitted Luminosity: 1.056e+43<br>Requested Luminosity: 1.059e+43<br>Absorbed Luminosity: 3.405e+42\",\"<br>Emitted Luminosity: 1.056e+43<br>Requested Luminosity: 1.059e+43<br>Absorbed Luminosity: 3.405e+42\",\"<br>Emitted Luminosity: 1.056e+43<br>Requested Luminosity: 1.059e+43<br>Absorbed Luminosity: 3.405e+42\",\"<br>Emitted Luminosity: 1.056e+43<br>Requested Luminosity: 1.059e+43<br>Absorbed Luminosity: 3.405e+42\",\"<br>Emitted Luminosity: 1.056e+43<br>Requested Luminosity: 1.059e+43<br>Absorbed Luminosity: 3.405e+42\",\"<br>Emitted Luminosity: 1.056e+43<br>Requested Luminosity: 1.059e+43<br>Absorbed Luminosity: 3.405e+42\",\"<br>Emitted Luminosity: 1.056e+43<br>Requested Luminosity: 1.059e+43<br>Absorbed Luminosity: 3.405e+42\",\"<br>Emitted Luminosity: 1.056e+43<br>Requested Luminosity: 1.059e+43<br>Absorbed Luminosity: 3.405e+42\",\"<br>Emitted Luminosity: 1.056e+43<br>Requested Luminosity: 1.059e+43<br>Absorbed Luminosity: 3.405e+42\",\"<br>Emitted Luminosity: 1.056e+43<br>Requested Luminosity: 1.059e+43<br>Absorbed Luminosity: 3.405e+42\",\"<br>Emitted Luminosity: 1.056e+43<br>Requested Luminosity: 1.059e+43<br>Absorbed Luminosity: 3.405e+42\",\"<br>Emitted Luminosity: 1.056e+43<br>Requested Luminosity: 1.059e+43<br>Absorbed Luminosity: 3.405e+42\",\"<br>Emitted Luminosity: 1.056e+43<br>Requested Luminosity: 1.059e+43<br>Absorbed Luminosity: 3.405e+42\",\"<br>Emitted Luminosity: 1.056e+43<br>Requested Luminosity: 1.059e+43<br>Absorbed Luminosity: 3.405e+42\",\"<br>Emitted Luminosity: 1.056e+43<br>Requested Luminosity: 1.059e+43<br>Absorbed Luminosity: 3.405e+42\"],\"hovertemplate\":\"<b>Y</b>: %{y:.3f} at <b>X</b> = %{x:,.0f}%{customdata}\",\"legendgroup\":\"group-19\",\"line\":{\"color\":\"#bd0000\"},\"name\":\"19\",\"x\":[11000.0,11450.000000000002,11900.000000000002,12350.000000000002,12800.000000000002,13250.000000000002,13700.000000000002,14150.000000000002,14600.000000000002,15050.000000000002,15500.000000000002,15950.000000000002,16400.0,16850.0,17300.0,17750.0,18200.0,18650.0,19100.0,19550.0,20000.0],\"y\":[0.4639715092825944,0.3556123749638907,0.28682866589375833,0.23621024823808653,0.206082634687198,0.17691635421177038,0.1590628166992471,0.14202949708480922,0.13175074456827993,0.1221220567057581,0.11300865795976013,0.10531621306129155,0.09917457589453389,0.0927465400481595,0.08897179267639928,0.08478992203293947,0.08135082266812885,0.07813940112787283,0.07443394184577573,0.07303258810237377],\"type\":\"scatter\",\"uid\":\"84462794-4ad2-481d-b36a-3cc03089b009\",\"xaxis\":\"x2\",\"yaxis\":\"y2\"},{\"customdata\":[\"<br>Emitted Luminosity: 1.061e+43<br>Requested Luminosity: 1.059e+43<br>Absorbed Luminosity: 3.401e+42\",\"<br>Emitted Luminosity: 1.061e+43<br>Requested Luminosity: 1.059e+43<br>Absorbed Luminosity: 3.401e+42\",\"<br>Emitted Luminosity: 1.061e+43<br>Requested Luminosity: 1.059e+43<br>Absorbed Luminosity: 3.401e+42\",\"<br>Emitted Luminosity: 1.061e+43<br>Requested Luminosity: 1.059e+43<br>Absorbed Luminosity: 3.401e+42\",\"<br>Emitted Luminosity: 1.061e+43<br>Requested Luminosity: 1.059e+43<br>Absorbed Luminosity: 3.401e+42\",\"<br>Emitted Luminosity: 1.061e+43<br>Requested Luminosity: 1.059e+43<br>Absorbed Luminosity: 3.401e+42\",\"<br>Emitted Luminosity: 1.061e+43<br>Requested Luminosity: 1.059e+43<br>Absorbed Luminosity: 3.401e+42\",\"<br>Emitted Luminosity: 1.061e+43<br>Requested Luminosity: 1.059e+43<br>Absorbed Luminosity: 3.401e+42\",\"<br>Emitted Luminosity: 1.061e+43<br>Requested Luminosity: 1.059e+43<br>Absorbed Luminosity: 3.401e+42\",\"<br>Emitted Luminosity: 1.061e+43<br>Requested Luminosity: 1.059e+43<br>Absorbed Luminosity: 3.401e+42\",\"<br>Emitted Luminosity: 1.061e+43<br>Requested Luminosity: 1.059e+43<br>Absorbed Luminosity: 3.401e+42\",\"<br>Emitted Luminosity: 1.061e+43<br>Requested Luminosity: 1.059e+43<br>Absorbed Luminosity: 3.401e+42\",\"<br>Emitted Luminosity: 1.061e+43<br>Requested Luminosity: 1.059e+43<br>Absorbed Luminosity: 3.401e+42\",\"<br>Emitted Luminosity: 1.061e+43<br>Requested Luminosity: 1.059e+43<br>Absorbed Luminosity: 3.401e+42\",\"<br>Emitted Luminosity: 1.061e+43<br>Requested Luminosity: 1.059e+43<br>Absorbed Luminosity: 3.401e+42\",\"<br>Emitted Luminosity: 1.061e+43<br>Requested Luminosity: 1.059e+43<br>Absorbed Luminosity: 3.401e+42\",\"<br>Emitted Luminosity: 1.061e+43<br>Requested Luminosity: 1.059e+43<br>Absorbed Luminosity: 3.401e+42\",\"<br>Emitted Luminosity: 1.061e+43<br>Requested Luminosity: 1.059e+43<br>Absorbed Luminosity: 3.401e+42\",\"<br>Emitted Luminosity: 1.061e+43<br>Requested Luminosity: 1.059e+43<br>Absorbed Luminosity: 3.401e+42\",\"<br>Emitted Luminosity: 1.061e+43<br>Requested Luminosity: 1.059e+43<br>Absorbed Luminosity: 3.401e+42\",\"<br>Emitted Luminosity: 1.061e+43<br>Requested Luminosity: 1.059e+43<br>Absorbed Luminosity: 3.401e+42\"],\"hovertemplate\":\"<b>Y</b>: %{y:.3f} at <b>X</b> = %{x:,.0f}%{customdata}\",\"legendgroup\":\"group-20\",\"line\":{\"color\":\"#800000\"},\"name\":\"20\",\"showlegend\":false,\"x\":[11000.0,11450.000000000002,11900.000000000002,12350.000000000002,12800.000000000002,13250.000000000002,13700.000000000002,14150.000000000002,14600.000000000002,15050.000000000002,15500.000000000002,15950.000000000002,16400.0,16850.0,17300.0,17750.0,18200.0,18650.0,19100.0,19550.0,20000.0],\"y\":[11069.193823700834,11144.033206219896,11213.390462097446,11305.728531756518,11285.266184353559,11323.781974402698,11271.173666875116,11265.745450084161,11172.683228067404,11091.044477502059,11030.940701284268,10992.910316594747,10907.845154495473,10860.343885103199,10754.598368722307,10675.606608814991,10611.908848638646,10526.402210396032,10470.935047886072,10349.22810317362],\"type\":\"scatter\",\"uid\":\"abbdc766-8752-4bd9-85f5-c456be9e67fd\",\"xaxis\":\"x\",\"yaxis\":\"y\"},{\"customdata\":[\"<br>Emitted Luminosity: 1.061e+43<br>Requested Luminosity: 1.059e+43<br>Absorbed Luminosity: 3.401e+42\",\"<br>Emitted Luminosity: 1.061e+43<br>Requested Luminosity: 1.059e+43<br>Absorbed Luminosity: 3.401e+42\",\"<br>Emitted Luminosity: 1.061e+43<br>Requested Luminosity: 1.059e+43<br>Absorbed Luminosity: 3.401e+42\",\"<br>Emitted Luminosity: 1.061e+43<br>Requested Luminosity: 1.059e+43<br>Absorbed Luminosity: 3.401e+42\",\"<br>Emitted Luminosity: 1.061e+43<br>Requested Luminosity: 1.059e+43<br>Absorbed Luminosity: 3.401e+42\",\"<br>Emitted Luminosity: 1.061e+43<br>Requested Luminosity: 1.059e+43<br>Absorbed Luminosity: 3.401e+42\",\"<br>Emitted Luminosity: 1.061e+43<br>Requested Luminosity: 1.059e+43<br>Absorbed Luminosity: 3.401e+42\",\"<br>Emitted Luminosity: 1.061e+43<br>Requested Luminosity: 1.059e+43<br>Absorbed Luminosity: 3.401e+42\",\"<br>Emitted Luminosity: 1.061e+43<br>Requested Luminosity: 1.059e+43<br>Absorbed Luminosity: 3.401e+42\",\"<br>Emitted Luminosity: 1.061e+43<br>Requested Luminosity: 1.059e+43<br>Absorbed Luminosity: 3.401e+42\",\"<br>Emitted Luminosity: 1.061e+43<br>Requested Luminosity: 1.059e+43<br>Absorbed Luminosity: 3.401e+42\",\"<br>Emitted Luminosity: 1.061e+43<br>Requested Luminosity: 1.059e+43<br>Absorbed Luminosity: 3.401e+42\",\"<br>Emitted Luminosity: 1.061e+43<br>Requested Luminosity: 1.059e+43<br>Absorbed Luminosity: 3.401e+42\",\"<br>Emitted Luminosity: 1.061e+43<br>Requested Luminosity: 1.059e+43<br>Absorbed Luminosity: 3.401e+42\",\"<br>Emitted Luminosity: 1.061e+43<br>Requested Luminosity: 1.059e+43<br>Absorbed Luminosity: 3.401e+42\",\"<br>Emitted Luminosity: 1.061e+43<br>Requested Luminosity: 1.059e+43<br>Absorbed Luminosity: 3.401e+42\",\"<br>Emitted Luminosity: 1.061e+43<br>Requested Luminosity: 1.059e+43<br>Absorbed Luminosity: 3.401e+42\",\"<br>Emitted Luminosity: 1.061e+43<br>Requested Luminosity: 1.059e+43<br>Absorbed Luminosity: 3.401e+42\",\"<br>Emitted Luminosity: 1.061e+43<br>Requested Luminosity: 1.059e+43<br>Absorbed Luminosity: 3.401e+42\",\"<br>Emitted Luminosity: 1.061e+43<br>Requested Luminosity: 1.059e+43<br>Absorbed Luminosity: 3.401e+42\",\"<br>Emitted Luminosity: 1.061e+43<br>Requested Luminosity: 1.059e+43<br>Absorbed Luminosity: 3.401e+42\"],\"hovertemplate\":\"<b>Y</b>: %{y:.3f} at <b>X</b> = %{x:,.0f}%{customdata}\",\"legendgroup\":\"group-20\",\"line\":{\"color\":\"#800000\"},\"name\":\"20\",\"x\":[11000.0,11450.000000000002,11900.000000000002,12350.000000000002,12800.000000000002,13250.000000000002,13700.000000000002,14150.000000000002,14600.000000000002,15050.000000000002,15500.000000000002,15950.000000000002,16400.0,16850.0,17300.0,17750.0,18200.0,18650.0,19100.0,19550.0,20000.0],\"y\":[0.4639715092825944,0.3556123749638907,0.28682866589375833,0.23621024823808653,0.206082634687198,0.17691635421177038,0.1590628166992471,0.14202949708480922,0.13175074456827993,0.1221220567057581,0.11300865795976013,0.10531621306129155,0.09917457589453389,0.0927465400481595,0.08897179267639928,0.08478992203293947,0.08135082266812885,0.07813940112787283,0.07443394184577573,0.07303258810237377],\"type\":\"scatter\",\"uid\":\"8dcf00ef-0f39-4c47-9385-e22a7c9aebab\",\"xaxis\":\"x2\",\"yaxis\":\"y2\"}],                        {\"template\":{\"data\":{\"barpolar\":[{\"marker\":{\"line\":{\"color\":\"#E5ECF6\",\"width\":0.5},\"pattern\":{\"fillmode\":\"overlay\",\"size\":10,\"solidity\":0.2}},\"type\":\"barpolar\"}],\"bar\":[{\"error_x\":{\"color\":\"#2a3f5f\"},\"error_y\":{\"color\":\"#2a3f5f\"},\"marker\":{\"line\":{\"color\":\"#E5ECF6\",\"width\":0.5},\"pattern\":{\"fillmode\":\"overlay\",\"size\":10,\"solidity\":0.2}},\"type\":\"bar\"}],\"carpet\":[{\"aaxis\":{\"endlinecolor\":\"#2a3f5f\",\"gridcolor\":\"white\",\"linecolor\":\"white\",\"minorgridcolor\":\"white\",\"startlinecolor\":\"#2a3f5f\"},\"baxis\":{\"endlinecolor\":\"#2a3f5f\",\"gridcolor\":\"white\",\"linecolor\":\"white\",\"minorgridcolor\":\"white\",\"startlinecolor\":\"#2a3f5f\"},\"type\":\"carpet\"}],\"choropleth\":[{\"colorbar\":{\"outlinewidth\":0,\"ticks\":\"\"},\"type\":\"choropleth\"}],\"contourcarpet\":[{\"colorbar\":{\"outlinewidth\":0,\"ticks\":\"\"},\"type\":\"contourcarpet\"}],\"contour\":[{\"colorbar\":{\"outlinewidth\":0,\"ticks\":\"\"},\"colorscale\":[[0.0,\"#0d0887\"],[0.1111111111111111,\"#46039f\"],[0.2222222222222222,\"#7201a8\"],[0.3333333333333333,\"#9c179e\"],[0.4444444444444444,\"#bd3786\"],[0.5555555555555556,\"#d8576b\"],[0.6666666666666666,\"#ed7953\"],[0.7777777777777778,\"#fb9f3a\"],[0.8888888888888888,\"#fdca26\"],[1.0,\"#f0f921\"]],\"type\":\"contour\"}],\"heatmapgl\":[{\"colorbar\":{\"outlinewidth\":0,\"ticks\":\"\"},\"colorscale\":[[0.0,\"#0d0887\"],[0.1111111111111111,\"#46039f\"],[0.2222222222222222,\"#7201a8\"],[0.3333333333333333,\"#9c179e\"],[0.4444444444444444,\"#bd3786\"],[0.5555555555555556,\"#d8576b\"],[0.6666666666666666,\"#ed7953\"],[0.7777777777777778,\"#fb9f3a\"],[0.8888888888888888,\"#fdca26\"],[1.0,\"#f0f921\"]],\"type\":\"heatmapgl\"}],\"heatmap\":[{\"colorbar\":{\"outlinewidth\":0,\"ticks\":\"\"},\"colorscale\":[[0.0,\"#0d0887\"],[0.1111111111111111,\"#46039f\"],[0.2222222222222222,\"#7201a8\"],[0.3333333333333333,\"#9c179e\"],[0.4444444444444444,\"#bd3786\"],[0.5555555555555556,\"#d8576b\"],[0.6666666666666666,\"#ed7953\"],[0.7777777777777778,\"#fb9f3a\"],[0.8888888888888888,\"#fdca26\"],[1.0,\"#f0f921\"]],\"type\":\"heatmap\"}],\"histogram2dcontour\":[{\"colorbar\":{\"outlinewidth\":0,\"ticks\":\"\"},\"colorscale\":[[0.0,\"#0d0887\"],[0.1111111111111111,\"#46039f\"],[0.2222222222222222,\"#7201a8\"],[0.3333333333333333,\"#9c179e\"],[0.4444444444444444,\"#bd3786\"],[0.5555555555555556,\"#d8576b\"],[0.6666666666666666,\"#ed7953\"],[0.7777777777777778,\"#fb9f3a\"],[0.8888888888888888,\"#fdca26\"],[1.0,\"#f0f921\"]],\"type\":\"histogram2dcontour\"}],\"histogram2d\":[{\"colorbar\":{\"outlinewidth\":0,\"ticks\":\"\"},\"colorscale\":[[0.0,\"#0d0887\"],[0.1111111111111111,\"#46039f\"],[0.2222222222222222,\"#7201a8\"],[0.3333333333333333,\"#9c179e\"],[0.4444444444444444,\"#bd3786\"],[0.5555555555555556,\"#d8576b\"],[0.6666666666666666,\"#ed7953\"],[0.7777777777777778,\"#fb9f3a\"],[0.8888888888888888,\"#fdca26\"],[1.0,\"#f0f921\"]],\"type\":\"histogram2d\"}],\"histogram\":[{\"marker\":{\"pattern\":{\"fillmode\":\"overlay\",\"size\":10,\"solidity\":0.2}},\"type\":\"histogram\"}],\"mesh3d\":[{\"colorbar\":{\"outlinewidth\":0,\"ticks\":\"\"},\"type\":\"mesh3d\"}],\"parcoords\":[{\"line\":{\"colorbar\":{\"outlinewidth\":0,\"ticks\":\"\"}},\"type\":\"parcoords\"}],\"pie\":[{\"automargin\":true,\"type\":\"pie\"}],\"scatter3d\":[{\"line\":{\"colorbar\":{\"outlinewidth\":0,\"ticks\":\"\"}},\"marker\":{\"colorbar\":{\"outlinewidth\":0,\"ticks\":\"\"}},\"type\":\"scatter3d\"}],\"scattercarpet\":[{\"marker\":{\"colorbar\":{\"outlinewidth\":0,\"ticks\":\"\"}},\"type\":\"scattercarpet\"}],\"scattergeo\":[{\"marker\":{\"colorbar\":{\"outlinewidth\":0,\"ticks\":\"\"}},\"type\":\"scattergeo\"}],\"scattergl\":[{\"marker\":{\"colorbar\":{\"outlinewidth\":0,\"ticks\":\"\"}},\"type\":\"scattergl\"}],\"scattermapbox\":[{\"marker\":{\"colorbar\":{\"outlinewidth\":0,\"ticks\":\"\"}},\"type\":\"scattermapbox\"}],\"scatterpolargl\":[{\"marker\":{\"colorbar\":{\"outlinewidth\":0,\"ticks\":\"\"}},\"type\":\"scatterpolargl\"}],\"scatterpolar\":[{\"marker\":{\"colorbar\":{\"outlinewidth\":0,\"ticks\":\"\"}},\"type\":\"scatterpolar\"}],\"scatter\":[{\"fillpattern\":{\"fillmode\":\"overlay\",\"size\":10,\"solidity\":0.2},\"type\":\"scatter\"}],\"scatterternary\":[{\"marker\":{\"colorbar\":{\"outlinewidth\":0,\"ticks\":\"\"}},\"type\":\"scatterternary\"}],\"surface\":[{\"colorbar\":{\"outlinewidth\":0,\"ticks\":\"\"},\"colorscale\":[[0.0,\"#0d0887\"],[0.1111111111111111,\"#46039f\"],[0.2222222222222222,\"#7201a8\"],[0.3333333333333333,\"#9c179e\"],[0.4444444444444444,\"#bd3786\"],[0.5555555555555556,\"#d8576b\"],[0.6666666666666666,\"#ed7953\"],[0.7777777777777778,\"#fb9f3a\"],[0.8888888888888888,\"#fdca26\"],[1.0,\"#f0f921\"]],\"type\":\"surface\"}],\"table\":[{\"cells\":{\"fill\":{\"color\":\"#EBF0F8\"},\"line\":{\"color\":\"white\"}},\"header\":{\"fill\":{\"color\":\"#C8D4E3\"},\"line\":{\"color\":\"white\"}},\"type\":\"table\"}]},\"layout\":{\"annotationdefaults\":{\"arrowcolor\":\"#2a3f5f\",\"arrowhead\":0,\"arrowwidth\":1},\"autotypenumbers\":\"strict\",\"coloraxis\":{\"colorbar\":{\"outlinewidth\":0,\"ticks\":\"\"}},\"colorscale\":{\"diverging\":[[0,\"#8e0152\"],[0.1,\"#c51b7d\"],[0.2,\"#de77ae\"],[0.3,\"#f1b6da\"],[0.4,\"#fde0ef\"],[0.5,\"#f7f7f7\"],[0.6,\"#e6f5d0\"],[0.7,\"#b8e186\"],[0.8,\"#7fbc41\"],[0.9,\"#4d9221\"],[1,\"#276419\"]],\"sequential\":[[0.0,\"#0d0887\"],[0.1111111111111111,\"#46039f\"],[0.2222222222222222,\"#7201a8\"],[0.3333333333333333,\"#9c179e\"],[0.4444444444444444,\"#bd3786\"],[0.5555555555555556,\"#d8576b\"],[0.6666666666666666,\"#ed7953\"],[0.7777777777777778,\"#fb9f3a\"],[0.8888888888888888,\"#fdca26\"],[1.0,\"#f0f921\"]],\"sequentialminus\":[[0.0,\"#0d0887\"],[0.1111111111111111,\"#46039f\"],[0.2222222222222222,\"#7201a8\"],[0.3333333333333333,\"#9c179e\"],[0.4444444444444444,\"#bd3786\"],[0.5555555555555556,\"#d8576b\"],[0.6666666666666666,\"#ed7953\"],[0.7777777777777778,\"#fb9f3a\"],[0.8888888888888888,\"#fdca26\"],[1.0,\"#f0f921\"]]},\"colorway\":[\"#636efa\",\"#EF553B\",\"#00cc96\",\"#ab63fa\",\"#FFA15A\",\"#19d3f3\",\"#FF6692\",\"#B6E880\",\"#FF97FF\",\"#FECB52\"],\"font\":{\"color\":\"#2a3f5f\"},\"geo\":{\"bgcolor\":\"white\",\"lakecolor\":\"white\",\"landcolor\":\"#E5ECF6\",\"showlakes\":true,\"showland\":true,\"subunitcolor\":\"white\"},\"hoverlabel\":{\"align\":\"left\"},\"hovermode\":\"closest\",\"mapbox\":{\"style\":\"light\"},\"paper_bgcolor\":\"white\",\"plot_bgcolor\":\"#E5ECF6\",\"polar\":{\"angularaxis\":{\"gridcolor\":\"white\",\"linecolor\":\"white\",\"ticks\":\"\"},\"bgcolor\":\"#E5ECF6\",\"radialaxis\":{\"gridcolor\":\"white\",\"linecolor\":\"white\",\"ticks\":\"\"}},\"scene\":{\"xaxis\":{\"backgroundcolor\":\"#E5ECF6\",\"gridcolor\":\"white\",\"gridwidth\":2,\"linecolor\":\"white\",\"showbackground\":true,\"ticks\":\"\",\"zerolinecolor\":\"white\"},\"yaxis\":{\"backgroundcolor\":\"#E5ECF6\",\"gridcolor\":\"white\",\"gridwidth\":2,\"linecolor\":\"white\",\"showbackground\":true,\"ticks\":\"\",\"zerolinecolor\":\"white\"},\"zaxis\":{\"backgroundcolor\":\"#E5ECF6\",\"gridcolor\":\"white\",\"gridwidth\":2,\"linecolor\":\"white\",\"showbackground\":true,\"ticks\":\"\",\"zerolinecolor\":\"white\"}},\"shapedefaults\":{\"line\":{\"color\":\"#2a3f5f\"}},\"ternary\":{\"aaxis\":{\"gridcolor\":\"white\",\"linecolor\":\"white\",\"ticks\":\"\"},\"baxis\":{\"gridcolor\":\"white\",\"linecolor\":\"white\",\"ticks\":\"\"},\"bgcolor\":\"#E5ECF6\",\"caxis\":{\"gridcolor\":\"white\",\"linecolor\":\"white\",\"ticks\":\"\"}},\"title\":{\"x\":0.05},\"xaxis\":{\"automargin\":true,\"gridcolor\":\"white\",\"linecolor\":\"white\",\"ticks\":\"\",\"title\":{\"standoff\":15},\"zerolinecolor\":\"white\",\"zerolinewidth\":2},\"yaxis\":{\"automargin\":true,\"gridcolor\":\"white\",\"linecolor\":\"white\",\"ticks\":\"\",\"title\":{\"standoff\":15},\"zerolinecolor\":\"white\",\"zerolinewidth\":2}}},\"xaxis\":{\"anchor\":\"y\",\"domain\":[0.0,0.45],\"tickformat\":\"g\",\"title\":{\"text\":\"$\\\\text{Velocity}~[\\\\text{km}~\\\\text{s}^{-1}]$\"}},\"yaxis\":{\"anchor\":\"x\",\"domain\":[0.0,1.0],\"tickformat\":\"g\",\"title\":{\"text\":\"$T_{\\\\text{rad}}\\\\ [\\\\text{K}]$\"},\"nticks\":15},\"xaxis2\":{\"anchor\":\"y2\",\"domain\":[0.55,1.0],\"tickformat\":\"g\",\"title\":{\"text\":\"$\\\\text{Velocity}~[\\\\text{km}~\\\\text{s}^{-1}]$\"},\"matches\":\"x\"},\"yaxis2\":{\"anchor\":\"x2\",\"domain\":[0.0,1.0],\"tickformat\":\"g\",\"title\":{\"text\":\"$W$\"},\"nticks\":15},\"legend\":{\"title\":{\"text\":\"Iterations\"},\"traceorder\":\"reversed\"},\"margin\":{\"l\":10,\"r\":135,\"b\":25,\"t\":25,\"pad\":0},\"height\":450},                        {\"responsive\": true}                    ).then(function(){\n",
       "                            \n",
       "var gd = document.getElementById('3c767fc2-028c-4e03-88a8-75e3452d52d2');\n",
       "var x = new MutationObserver(function (mutations, observer) {{\n",
       "        var display = window.getComputedStyle(gd).display;\n",
       "        if (!display || display === 'none') {{\n",
       "            console.log([gd, 'removed!']);\n",
       "            Plotly.purge(gd);\n",
       "            observer.disconnect();\n",
       "        }}\n",
       "}});\n",
       "\n",
       "// Listen for the removal of the full notebook cells\n",
       "var notebookContainer = gd.closest('#notebook-container');\n",
       "if (notebookContainer) {{\n",
       "    x.observe(notebookContainer, {childList: true});\n",
       "}}\n",
       "\n",
       "// Listen for the clearing of the current output cell\n",
       "var outputEl = gd.closest('.output');\n",
       "if (outputEl) {{\n",
       "    x.observe(outputEl, {childList: true});\n",
       "}}\n",
       "\n",
       "                        })                };                });            </script>        </div>"
      ]
     },
     "metadata": {},
     "output_type": "display_data"
    },
    {
     "data": {
      "text/html": [
       "        <script type=\"text/javascript\">\n",
       "        window.PlotlyConfig = {MathJaxConfig: 'local'};\n",
       "        if (window.MathJax && window.MathJax.Hub && window.MathJax.Hub.Config) {window.MathJax.Hub.Config({SVG: {font: \"STIX-Web\"}});}\n",
       "        if (typeof require !== 'undefined') {\n",
       "        require.undef(\"plotly\");\n",
       "        requirejs.config({\n",
       "            paths: {\n",
       "                'plotly': ['https://cdn.plot.ly/plotly-2.18.2.min']\n",
       "            }\n",
       "        });\n",
       "        require(['plotly'], function(Plotly) {\n",
       "            window._Plotly = Plotly;\n",
       "        });\n",
       "        }\n",
       "        </script>\n",
       "        "
      ]
     },
     "metadata": {},
     "output_type": "display_data"
    },
    {
     "data": {
      "text/html": [
       "<div>                            <div id=\"d07a6f83-cb24-4e0f-b392-e41e02fe2c3c\" class=\"plotly-graph-div\" style=\"height:630px; width:100%;\"></div>            <script type=\"text/javascript\">                require([\"plotly\"], function(Plotly) {                    window.PLOTLYENV=window.PLOTLYENV || {};                                    if (document.getElementById(\"d07a6f83-cb24-4e0f-b392-e41e02fe2c3c\")) {                    Plotly.newPlot(                        \"d07a6f83-cb24-4e0f-b392-e41e02fe2c3c\",                        [{\"hovertext\":\"text\",\"mode\":\"lines\",\"name\":\"Inner<br>Boundary<br>Temperature\",\"type\":\"scatter\",\"uid\":\"280c53fe-214e-407a-886e-4213e34c7404\",\"xaxis\":\"x\",\"yaxis\":\"y\",\"hovertemplate\":\"<b>%{y:.3f}</b> at X = %{x:,.0f}<extra>Inner Boundary Temperature</extra>\",\"x\":[1,2,3,4,5,6,7,8,9,10,11,12,13,14,15,16,17,18,19,20],\"y\":[9933.951995919648,10703.211562422348,10673.712103958489,10635.953012231908,10638.406528771677,10650.201962584773,10645.954540809485,10642.04961793771,10636.106123877908,10654.31259429839,10628.189659670263,10644.054374080555,10653.542691388262,10647.276919600397,10638.875341023482,10655.125193761738,10655.56115672498,10636.535622734587,10641.692058870438,10650.463255529794]},{\"mode\":\"lines\",\"name\":\"Emitted<br>Luminosity\",\"type\":\"scatter\",\"uid\":\"67934be2-a587-4cc6-bdfe-41c3b2f0229b\",\"xaxis\":\"x2\",\"yaxis\":\"y2\",\"hovertemplate\":\"<b>%{y:.4g}</b><br>at X = %{x}<br>\",\"x\":[1,2,3,4,5,6,7,8,9,10,11,12,13,14,15,16,17,18,19,20],\"y\":[7.94217490576629e+42,1.0710516521093005e+43,1.0744260406037996e+43,1.0582996138891918e+43,1.0545940091430878e+43,1.0609681890774418e+43,1.0608322361748786e+43,1.0616467173322811e+43,1.0520605244141124e+43,1.0697420878067399e+43,1.0529798362530551e+43,1.0555093978401453e+43,1.0617727732344976e+43,1.062627715933488e+43,1.0528341253755922e+43,1.059103016026169e+43,1.0668824405561532e+43,1.057225256379625e+43,1.0557926285002873e+43,1.0607832431314585e+43]},{\"mode\":\"lines\",\"name\":\"Absorbed<br>Luminosity\",\"type\":\"scatter\",\"uid\":\"5fbd170c-36a9-4659-afb6-36f29ee7e297\",\"xaxis\":\"x2\",\"yaxis\":\"y2\",\"hovertemplate\":\"<b>%{y:.4g}</b><br>at X = %{x}<br>\",\"x\":[1,2,3,4,5,6,7,8,9,10,11,12,13,14,15,16,17,18,19,20],\"y\":[2.6585269987163907e+42,3.576326047128917e+42,3.3912529573296815e+42,3.351960855778322e+42,3.3988597390168757e+42,3.3980646035039864e+42,3.382148957209404e+42,3.3498688262362067e+42,3.4108734276587443e+42,3.334917848389675e+42,3.363215048559226e+42,3.419737826808236e+42,3.405731111443267e+42,3.369133178888771e+42,3.41721250026907e+42,3.4445235238788086e+42,3.371808227073318e+42,3.3654653501429696e+42,3.40487735299688e+42,3.400790766998871e+42]},{\"mode\":\"lines\",\"name\":\"Requested<br>Luminosity\",\"type\":\"scatter\",\"uid\":\"4eedef2d-89d3-4c09-9d08-d194906bcf05\",\"xaxis\":\"x2\",\"yaxis\":\"y2\",\"hovertemplate\":\"<b>%{y:.4g}</b><br>at X = %{x}<br>\",\"x\":[1,2,3,4,5,6,7,8,9,10,11,12,13,14,15,16,17,18,19,20],\"y\":[1.0592763593038458e+43,1.0592763593038458e+43,1.0592763593038458e+43,1.0592763593038458e+43,1.0592763593038458e+43,1.0592763593038458e+43,1.0592763593038458e+43,1.0592763593038458e+43,1.0592763593038458e+43,1.0592763593038458e+43,1.0592763593038458e+43,1.0592763593038458e+43,1.0592763593038458e+43,1.0592763593038458e+43,1.0592763593038458e+43,1.0592763593038458e+43,1.0592763593038458e+43,1.0592763593038458e+43,1.0592763593038458e+43,1.0592763593038458e+43]},{\"mode\":\"lines\",\"name\":\"Residual<br>Luminosity\",\"type\":\"scatter\",\"uid\":\"6d7f0592-7517-469e-abc3-b7a853b0458b\",\"xaxis\":\"x3\",\"yaxis\":\"y3\",\"hovertemplate\":\"<b>%{y:.2f}%</b> at X = %{x:,.0f}\",\"x\":[1,2,3,4,5,6,7,8,9,10,11,12,13,14,15,16,17,18,19,20],\"y\":[-25.022636104275275,1.1116355710226051,1.4301915800245142,-0.09220874289084471,-0.44203291422789376,0.15971561705652318,0.1468811096714525,0.22377144619682712,-0.6812041849471281,0.9880073704063604,-0.59441740538123,-0.3556164952247293,0.2356716364643925,0.31638170721045433,-0.608173105315723,-0.016364310989694035,0.7180450300340984,-0.19363246486202446,-0.3288783680443794,0.14225596695115947]}],                        {\"template\":{\"data\":{\"barpolar\":[{\"marker\":{\"line\":{\"color\":\"#E5ECF6\",\"width\":0.5},\"pattern\":{\"fillmode\":\"overlay\",\"size\":10,\"solidity\":0.2}},\"type\":\"barpolar\"}],\"bar\":[{\"error_x\":{\"color\":\"#2a3f5f\"},\"error_y\":{\"color\":\"#2a3f5f\"},\"marker\":{\"line\":{\"color\":\"#E5ECF6\",\"width\":0.5},\"pattern\":{\"fillmode\":\"overlay\",\"size\":10,\"solidity\":0.2}},\"type\":\"bar\"}],\"carpet\":[{\"aaxis\":{\"endlinecolor\":\"#2a3f5f\",\"gridcolor\":\"white\",\"linecolor\":\"white\",\"minorgridcolor\":\"white\",\"startlinecolor\":\"#2a3f5f\"},\"baxis\":{\"endlinecolor\":\"#2a3f5f\",\"gridcolor\":\"white\",\"linecolor\":\"white\",\"minorgridcolor\":\"white\",\"startlinecolor\":\"#2a3f5f\"},\"type\":\"carpet\"}],\"choropleth\":[{\"colorbar\":{\"outlinewidth\":0,\"ticks\":\"\"},\"type\":\"choropleth\"}],\"contourcarpet\":[{\"colorbar\":{\"outlinewidth\":0,\"ticks\":\"\"},\"type\":\"contourcarpet\"}],\"contour\":[{\"colorbar\":{\"outlinewidth\":0,\"ticks\":\"\"},\"colorscale\":[[0.0,\"#0d0887\"],[0.1111111111111111,\"#46039f\"],[0.2222222222222222,\"#7201a8\"],[0.3333333333333333,\"#9c179e\"],[0.4444444444444444,\"#bd3786\"],[0.5555555555555556,\"#d8576b\"],[0.6666666666666666,\"#ed7953\"],[0.7777777777777778,\"#fb9f3a\"],[0.8888888888888888,\"#fdca26\"],[1.0,\"#f0f921\"]],\"type\":\"contour\"}],\"heatmapgl\":[{\"colorbar\":{\"outlinewidth\":0,\"ticks\":\"\"},\"colorscale\":[[0.0,\"#0d0887\"],[0.1111111111111111,\"#46039f\"],[0.2222222222222222,\"#7201a8\"],[0.3333333333333333,\"#9c179e\"],[0.4444444444444444,\"#bd3786\"],[0.5555555555555556,\"#d8576b\"],[0.6666666666666666,\"#ed7953\"],[0.7777777777777778,\"#fb9f3a\"],[0.8888888888888888,\"#fdca26\"],[1.0,\"#f0f921\"]],\"type\":\"heatmapgl\"}],\"heatmap\":[{\"colorbar\":{\"outlinewidth\":0,\"ticks\":\"\"},\"colorscale\":[[0.0,\"#0d0887\"],[0.1111111111111111,\"#46039f\"],[0.2222222222222222,\"#7201a8\"],[0.3333333333333333,\"#9c179e\"],[0.4444444444444444,\"#bd3786\"],[0.5555555555555556,\"#d8576b\"],[0.6666666666666666,\"#ed7953\"],[0.7777777777777778,\"#fb9f3a\"],[0.8888888888888888,\"#fdca26\"],[1.0,\"#f0f921\"]],\"type\":\"heatmap\"}],\"histogram2dcontour\":[{\"colorbar\":{\"outlinewidth\":0,\"ticks\":\"\"},\"colorscale\":[[0.0,\"#0d0887\"],[0.1111111111111111,\"#46039f\"],[0.2222222222222222,\"#7201a8\"],[0.3333333333333333,\"#9c179e\"],[0.4444444444444444,\"#bd3786\"],[0.5555555555555556,\"#d8576b\"],[0.6666666666666666,\"#ed7953\"],[0.7777777777777778,\"#fb9f3a\"],[0.8888888888888888,\"#fdca26\"],[1.0,\"#f0f921\"]],\"type\":\"histogram2dcontour\"}],\"histogram2d\":[{\"colorbar\":{\"outlinewidth\":0,\"ticks\":\"\"},\"colorscale\":[[0.0,\"#0d0887\"],[0.1111111111111111,\"#46039f\"],[0.2222222222222222,\"#7201a8\"],[0.3333333333333333,\"#9c179e\"],[0.4444444444444444,\"#bd3786\"],[0.5555555555555556,\"#d8576b\"],[0.6666666666666666,\"#ed7953\"],[0.7777777777777778,\"#fb9f3a\"],[0.8888888888888888,\"#fdca26\"],[1.0,\"#f0f921\"]],\"type\":\"histogram2d\"}],\"histogram\":[{\"marker\":{\"pattern\":{\"fillmode\":\"overlay\",\"size\":10,\"solidity\":0.2}},\"type\":\"histogram\"}],\"mesh3d\":[{\"colorbar\":{\"outlinewidth\":0,\"ticks\":\"\"},\"type\":\"mesh3d\"}],\"parcoords\":[{\"line\":{\"colorbar\":{\"outlinewidth\":0,\"ticks\":\"\"}},\"type\":\"parcoords\"}],\"pie\":[{\"automargin\":true,\"type\":\"pie\"}],\"scatter3d\":[{\"line\":{\"colorbar\":{\"outlinewidth\":0,\"ticks\":\"\"}},\"marker\":{\"colorbar\":{\"outlinewidth\":0,\"ticks\":\"\"}},\"type\":\"scatter3d\"}],\"scattercarpet\":[{\"marker\":{\"colorbar\":{\"outlinewidth\":0,\"ticks\":\"\"}},\"type\":\"scattercarpet\"}],\"scattergeo\":[{\"marker\":{\"colorbar\":{\"outlinewidth\":0,\"ticks\":\"\"}},\"type\":\"scattergeo\"}],\"scattergl\":[{\"marker\":{\"colorbar\":{\"outlinewidth\":0,\"ticks\":\"\"}},\"type\":\"scattergl\"}],\"scattermapbox\":[{\"marker\":{\"colorbar\":{\"outlinewidth\":0,\"ticks\":\"\"}},\"type\":\"scattermapbox\"}],\"scatterpolargl\":[{\"marker\":{\"colorbar\":{\"outlinewidth\":0,\"ticks\":\"\"}},\"type\":\"scatterpolargl\"}],\"scatterpolar\":[{\"marker\":{\"colorbar\":{\"outlinewidth\":0,\"ticks\":\"\"}},\"type\":\"scatterpolar\"}],\"scatter\":[{\"fillpattern\":{\"fillmode\":\"overlay\",\"size\":10,\"solidity\":0.2},\"type\":\"scatter\"}],\"scatterternary\":[{\"marker\":{\"colorbar\":{\"outlinewidth\":0,\"ticks\":\"\"}},\"type\":\"scatterternary\"}],\"surface\":[{\"colorbar\":{\"outlinewidth\":0,\"ticks\":\"\"},\"colorscale\":[[0.0,\"#0d0887\"],[0.1111111111111111,\"#46039f\"],[0.2222222222222222,\"#7201a8\"],[0.3333333333333333,\"#9c179e\"],[0.4444444444444444,\"#bd3786\"],[0.5555555555555556,\"#d8576b\"],[0.6666666666666666,\"#ed7953\"],[0.7777777777777778,\"#fb9f3a\"],[0.8888888888888888,\"#fdca26\"],[1.0,\"#f0f921\"]],\"type\":\"surface\"}],\"table\":[{\"cells\":{\"fill\":{\"color\":\"#EBF0F8\"},\"line\":{\"color\":\"white\"}},\"header\":{\"fill\":{\"color\":\"#C8D4E3\"},\"line\":{\"color\":\"white\"}},\"type\":\"table\"}]},\"layout\":{\"annotationdefaults\":{\"arrowcolor\":\"#2a3f5f\",\"arrowhead\":0,\"arrowwidth\":1},\"autotypenumbers\":\"strict\",\"coloraxis\":{\"colorbar\":{\"outlinewidth\":0,\"ticks\":\"\"}},\"colorscale\":{\"diverging\":[[0,\"#8e0152\"],[0.1,\"#c51b7d\"],[0.2,\"#de77ae\"],[0.3,\"#f1b6da\"],[0.4,\"#fde0ef\"],[0.5,\"#f7f7f7\"],[0.6,\"#e6f5d0\"],[0.7,\"#b8e186\"],[0.8,\"#7fbc41\"],[0.9,\"#4d9221\"],[1,\"#276419\"]],\"sequential\":[[0.0,\"#0d0887\"],[0.1111111111111111,\"#46039f\"],[0.2222222222222222,\"#7201a8\"],[0.3333333333333333,\"#9c179e\"],[0.4444444444444444,\"#bd3786\"],[0.5555555555555556,\"#d8576b\"],[0.6666666666666666,\"#ed7953\"],[0.7777777777777778,\"#fb9f3a\"],[0.8888888888888888,\"#fdca26\"],[1.0,\"#f0f921\"]],\"sequentialminus\":[[0.0,\"#0d0887\"],[0.1111111111111111,\"#46039f\"],[0.2222222222222222,\"#7201a8\"],[0.3333333333333333,\"#9c179e\"],[0.4444444444444444,\"#bd3786\"],[0.5555555555555556,\"#d8576b\"],[0.6666666666666666,\"#ed7953\"],[0.7777777777777778,\"#fb9f3a\"],[0.8888888888888888,\"#fdca26\"],[1.0,\"#f0f921\"]]},\"colorway\":[\"#636efa\",\"#EF553B\",\"#00cc96\",\"#ab63fa\",\"#FFA15A\",\"#19d3f3\",\"#FF6692\",\"#B6E880\",\"#FF97FF\",\"#FECB52\"],\"font\":{\"color\":\"#2a3f5f\"},\"geo\":{\"bgcolor\":\"white\",\"lakecolor\":\"white\",\"landcolor\":\"#E5ECF6\",\"showlakes\":true,\"showland\":true,\"subunitcolor\":\"white\"},\"hoverlabel\":{\"align\":\"left\"},\"hovermode\":\"closest\",\"mapbox\":{\"style\":\"light\"},\"paper_bgcolor\":\"white\",\"plot_bgcolor\":\"#E5ECF6\",\"polar\":{\"angularaxis\":{\"gridcolor\":\"white\",\"linecolor\":\"white\",\"ticks\":\"\"},\"bgcolor\":\"#E5ECF6\",\"radialaxis\":{\"gridcolor\":\"white\",\"linecolor\":\"white\",\"ticks\":\"\"}},\"scene\":{\"xaxis\":{\"backgroundcolor\":\"#E5ECF6\",\"gridcolor\":\"white\",\"gridwidth\":2,\"linecolor\":\"white\",\"showbackground\":true,\"ticks\":\"\",\"zerolinecolor\":\"white\"},\"yaxis\":{\"backgroundcolor\":\"#E5ECF6\",\"gridcolor\":\"white\",\"gridwidth\":2,\"linecolor\":\"white\",\"showbackground\":true,\"ticks\":\"\",\"zerolinecolor\":\"white\"},\"zaxis\":{\"backgroundcolor\":\"#E5ECF6\",\"gridcolor\":\"white\",\"gridwidth\":2,\"linecolor\":\"white\",\"showbackground\":true,\"ticks\":\"\",\"zerolinecolor\":\"white\"}},\"shapedefaults\":{\"line\":{\"color\":\"#2a3f5f\"}},\"ternary\":{\"aaxis\":{\"gridcolor\":\"white\",\"linecolor\":\"white\",\"ticks\":\"\"},\"baxis\":{\"gridcolor\":\"white\",\"linecolor\":\"white\",\"ticks\":\"\"},\"bgcolor\":\"#E5ECF6\",\"caxis\":{\"gridcolor\":\"white\",\"linecolor\":\"white\",\"ticks\":\"\"}},\"title\":{\"x\":0.05},\"xaxis\":{\"automargin\":true,\"gridcolor\":\"white\",\"linecolor\":\"white\",\"ticks\":\"\",\"title\":{\"standoff\":15},\"zerolinecolor\":\"white\",\"zerolinewidth\":2},\"yaxis\":{\"automargin\":true,\"gridcolor\":\"white\",\"linecolor\":\"white\",\"ticks\":\"\",\"title\":{\"standoff\":15},\"zerolinecolor\":\"white\",\"zerolinewidth\":2}}},\"xaxis\":{\"anchor\":\"y\",\"domain\":[0.0,1.0],\"matches\":\"x3\",\"showticklabels\":false,\"range\":[0,21],\"dtick\":2},\"yaxis\":{\"anchor\":\"x\",\"domain\":[0.79,1.0],\"title\":{\"text\":\"$T_{\\\\text{inner}}\\\\ [\\\\text{K}]$\"},\"automargin\":true,\"tickformat\":\"g\",\"exponentformat\":\"e\",\"nticks\":4},\"xaxis2\":{\"anchor\":\"y2\",\"domain\":[0.0,1.0],\"matches\":\"x\",\"showticklabels\":false,\"range\":[0,21],\"dtick\":2},\"yaxis2\":{\"anchor\":\"x2\",\"domain\":[0.29,0.71],\"title\":{\"text\":\"$\\\\text{Luminosity}~[\\\\text{erg s}^{-1}]$\",\"font\":{\"size\":13}},\"exponentformat\":\"e\",\"automargin\":true,\"nticks\":7},\"xaxis3\":{\"anchor\":\"y3\",\"domain\":[0.0,1.0],\"title\":{\"text\":\"$\\\\mbox{Iteration Number}$\"},\"dtick\":2},\"yaxis3\":{\"anchor\":\"x3\",\"domain\":[0.0,0.21],\"title\":{\"text\":\"$~~\\\\text{Residual}\\\\\\\\\\\\text{Luminosity[%]}$\",\"font\":{\"size\":12}},\"automargin\":true,\"nticks\":4},\"hoverlabel\":{\"align\":\"right\"},\"margin\":{\"b\":25,\"t\":25,\"pad\":0},\"height\":630},                        {\"responsive\": true}                    ).then(function(){\n",
       "                            \n",
       "var gd = document.getElementById('d07a6f83-cb24-4e0f-b392-e41e02fe2c3c');\n",
       "var x = new MutationObserver(function (mutations, observer) {{\n",
       "        var display = window.getComputedStyle(gd).display;\n",
       "        if (!display || display === 'none') {{\n",
       "            console.log([gd, 'removed!']);\n",
       "            Plotly.purge(gd);\n",
       "            observer.disconnect();\n",
       "        }}\n",
       "}});\n",
       "\n",
       "// Listen for the removal of the full notebook cells\n",
       "var notebookContainer = gd.closest('#notebook-container');\n",
       "if (notebookContainer) {{\n",
       "    x.observe(notebookContainer, {childList: true});\n",
       "}}\n",
       "\n",
       "// Listen for the clearing of the current output cell\n",
       "var outputEl = gd.closest('.output');\n",
       "if (outputEl) {{\n",
       "    x.observe(outputEl, {childList: true});\n",
       "}}\n",
       "\n",
       "                        })                };                });            </script>        </div>"
      ]
     },
     "metadata": {},
     "output_type": "display_data"
    },
    {
     "name": "stdout",
     "output_type": "stream",
     "text": [
      "[\u001b[1mtardis.simulation.base\u001b[0m][\u001b[1;37mINFO\u001b[0m   ]  \n",
      "\t\n",
      "\tSimulation finished in 20 iterations \n",
      "\tSimulation took 76.46 s\n",
      " (\u001b[1mbase.py\u001b[0m:480)\n"
     ]
    }
   ],
   "source": [
    "#Run simulation\n",
    "sim = run_tardis(\"tardis_example.yml\",\n",
    "                 virtual_packet_logging=True,\n",
    "                 show_convergence_plots=True,\n",
    "                 export_convergence_plots=True,\n",
    "                 log_level=\"INFO\")"
   ]
  },
  {
   "cell_type": "code",
   "execution_count": 42,
   "id": "51b6349e",
   "metadata": {},
   "outputs": [],
   "source": [
    "velocity = sim.model.v_inner.to(u.km/u.s)\n",
    "abundance = sim.model.abundance.T\n",
    "\n",
    "widget = CustomAbundanceWidget.from_simulation(sim)\n",
    "elements = widget.data.elements.tolist()"
   ]
  },
  {
   "cell_type": "code",
   "execution_count": 159,
   "id": "ec3529e9",
   "metadata": {},
   "outputs": [],
   "source": [
    "def check_duplicate(arr1, arr2):\n",
    "    for element in arr1:\n",
    "        if element in arr2:\n",
    "            return True\n",
    "    return False"
   ]
  },
  {
   "cell_type": "code",
   "execution_count": 162,
   "id": "6601a74b",
   "metadata": {
    "scrolled": false
   },
   "outputs": [
    {
     "data": {
      "application/vnd.plotly.v1+json": {
       "config": {
        "plotlyServerURL": "https://plot.ly"
       },
       "data": [
        {
         "line": {
          "color": "green"
         },
         "mode": "lines+markers",
         "name": "O",
         "type": "scatter",
         "x": [
          11000,
          11450.000000000002,
          11900.000000000002,
          12350.000000000002,
          12800.000000000002,
          13250.000000000002,
          13700.000000000002,
          14150.000000000002,
          14600.000000000002,
          15050.000000000002,
          15500.000000000002,
          15950.000000000002,
          16400,
          16850,
          17300,
          17750,
          18200,
          18650,
          19100,
          19550
         ],
         "y": [
          0.19,
          0.19,
          0.19,
          0.19,
          0.19,
          0.19,
          0.19,
          0.19,
          0.19,
          0.19,
          0.19,
          0.19,
          0.19,
          0.19,
          0.19,
          0.19,
          0.19,
          0.19,
          0.19,
          0.19
         ]
        },
        {
         "line": {
          "color": "red"
         },
         "mode": "lines+markers",
         "name": "Mg",
         "type": "scatter",
         "x": [
          11000,
          11450.000000000002,
          11900.000000000002,
          12350.000000000002,
          12800.000000000002,
          13250.000000000002,
          13700.000000000002,
          14150.000000000002,
          14600.000000000002,
          15050.000000000002,
          15500.000000000002,
          15950.000000000002,
          16400,
          16850,
          17300,
          17750,
          18200,
          18650,
          19100,
          19550
         ],
         "y": [
          0.03,
          0.03,
          0.03,
          0.03,
          0.03,
          0.03,
          0.03,
          0.03,
          0.03,
          0.03,
          0.03,
          0.03,
          0.03,
          0.03,
          0.03,
          0.03,
          0.03,
          0.03,
          0.03,
          0.03
         ]
        },
        {
         "line": {
          "color": "blue"
         },
         "mode": "lines+markers",
         "name": "Si",
         "type": "scatter",
         "x": [
          11000,
          11450.000000000002,
          11900.000000000002,
          12350.000000000002,
          12800.000000000002,
          13250.000000000002,
          13700.000000000002,
          14150.000000000002,
          14600.000000000002,
          15050.000000000002,
          15500.000000000002,
          15950.000000000002,
          16400,
          16850,
          17300,
          17750,
          18200,
          18650,
          19100,
          19550
         ],
         "y": [
          0.52,
          0.52,
          0.52,
          0.52,
          0.52,
          0.52,
          0.52,
          0.52,
          0.52,
          0.52,
          0.52,
          0.52,
          0.52,
          0.52,
          0.52,
          0.52,
          0.52,
          0.52,
          0.52,
          0.52
         ]
        },
        {
         "line": {
          "color": "magenta",
          "dash": "dash"
         },
         "mode": "lines+markers",
         "name": "S",
         "type": "scatter",
         "x": [
          11000,
          11450.000000000002,
          11900.000000000002,
          12350.000000000002,
          12800.000000000002,
          13250.000000000002,
          13700.000000000002,
          14150.000000000002,
          14600.000000000002,
          15050.000000000002,
          15500.000000000002,
          15950.000000000002,
          16400,
          16850,
          17300,
          17750,
          18200,
          18650,
          19100,
          19550
         ],
         "y": [
          0.19,
          0.19,
          0.19,
          0.19,
          0.19,
          0.19,
          0.19,
          0.19,
          0.19,
          0.19,
          0.19,
          0.19,
          0.19,
          0.19,
          0.19,
          0.19,
          0.19,
          0.19,
          0.19,
          0.19
         ]
        },
        {
         "line": {
          "color": "orange"
         },
         "mode": "lines+markers",
         "name": "Ar",
         "type": "scatter",
         "x": [
          11000,
          11450.000000000002,
          11900.000000000002,
          12350.000000000002,
          12800.000000000002,
          13250.000000000002,
          13700.000000000002,
          14150.000000000002,
          14600.000000000002,
          15050.000000000002,
          15500.000000000002,
          15950.000000000002,
          16400,
          16850,
          17300,
          17750,
          18200,
          18650,
          19100,
          19550
         ],
         "y": [
          0.04,
          0.04,
          0.04,
          0.04,
          0.04,
          0.04,
          0.04,
          0.04,
          0.04,
          0.04,
          0.04,
          0.04,
          0.04,
          0.04,
          0.04,
          0.04,
          0.04,
          0.04,
          0.04,
          0.04
         ]
        },
        {
         "line": {
          "color": "royalblue",
          "dash": "dash"
         },
         "mode": "lines+markers",
         "name": "Ca",
         "type": "scatter",
         "x": [
          11000,
          11450.000000000002,
          11900.000000000002,
          12350.000000000002,
          12800.000000000002,
          13250.000000000002,
          13700.000000000002,
          14150.000000000002,
          14600.000000000002,
          15050.000000000002,
          15500.000000000002,
          15950.000000000002,
          16400,
          16850,
          17300,
          17750,
          18200,
          18650,
          19100,
          19550
         ],
         "y": [
          0.03,
          0.03,
          0.03,
          0.03,
          0.03,
          0.03,
          0.03,
          0.03,
          0.03,
          0.03,
          0.03,
          0.03,
          0.03,
          0.03,
          0.03,
          0.03,
          0.03,
          0.03,
          0.03,
          0.03
         ]
        }
       ],
       "layout": {
        "template": {
         "data": {
          "bar": [
           {
            "error_x": {
             "color": "#2a3f5f"
            },
            "error_y": {
             "color": "#2a3f5f"
            },
            "marker": {
             "line": {
              "color": "#E5ECF6",
              "width": 0.5
             },
             "pattern": {
              "fillmode": "overlay",
              "size": 10,
              "solidity": 0.2
             }
            },
            "type": "bar"
           }
          ],
          "barpolar": [
           {
            "marker": {
             "line": {
              "color": "#E5ECF6",
              "width": 0.5
             },
             "pattern": {
              "fillmode": "overlay",
              "size": 10,
              "solidity": 0.2
             }
            },
            "type": "barpolar"
           }
          ],
          "carpet": [
           {
            "aaxis": {
             "endlinecolor": "#2a3f5f",
             "gridcolor": "white",
             "linecolor": "white",
             "minorgridcolor": "white",
             "startlinecolor": "#2a3f5f"
            },
            "baxis": {
             "endlinecolor": "#2a3f5f",
             "gridcolor": "white",
             "linecolor": "white",
             "minorgridcolor": "white",
             "startlinecolor": "#2a3f5f"
            },
            "type": "carpet"
           }
          ],
          "choropleth": [
           {
            "colorbar": {
             "outlinewidth": 0,
             "ticks": ""
            },
            "type": "choropleth"
           }
          ],
          "contour": [
           {
            "colorbar": {
             "outlinewidth": 0,
             "ticks": ""
            },
            "colorscale": [
             [
              0,
              "#0d0887"
             ],
             [
              0.1111111111111111,
              "#46039f"
             ],
             [
              0.2222222222222222,
              "#7201a8"
             ],
             [
              0.3333333333333333,
              "#9c179e"
             ],
             [
              0.4444444444444444,
              "#bd3786"
             ],
             [
              0.5555555555555556,
              "#d8576b"
             ],
             [
              0.6666666666666666,
              "#ed7953"
             ],
             [
              0.7777777777777778,
              "#fb9f3a"
             ],
             [
              0.8888888888888888,
              "#fdca26"
             ],
             [
              1,
              "#f0f921"
             ]
            ],
            "type": "contour"
           }
          ],
          "contourcarpet": [
           {
            "colorbar": {
             "outlinewidth": 0,
             "ticks": ""
            },
            "type": "contourcarpet"
           }
          ],
          "heatmap": [
           {
            "colorbar": {
             "outlinewidth": 0,
             "ticks": ""
            },
            "colorscale": [
             [
              0,
              "#0d0887"
             ],
             [
              0.1111111111111111,
              "#46039f"
             ],
             [
              0.2222222222222222,
              "#7201a8"
             ],
             [
              0.3333333333333333,
              "#9c179e"
             ],
             [
              0.4444444444444444,
              "#bd3786"
             ],
             [
              0.5555555555555556,
              "#d8576b"
             ],
             [
              0.6666666666666666,
              "#ed7953"
             ],
             [
              0.7777777777777778,
              "#fb9f3a"
             ],
             [
              0.8888888888888888,
              "#fdca26"
             ],
             [
              1,
              "#f0f921"
             ]
            ],
            "type": "heatmap"
           }
          ],
          "heatmapgl": [
           {
            "colorbar": {
             "outlinewidth": 0,
             "ticks": ""
            },
            "colorscale": [
             [
              0,
              "#0d0887"
             ],
             [
              0.1111111111111111,
              "#46039f"
             ],
             [
              0.2222222222222222,
              "#7201a8"
             ],
             [
              0.3333333333333333,
              "#9c179e"
             ],
             [
              0.4444444444444444,
              "#bd3786"
             ],
             [
              0.5555555555555556,
              "#d8576b"
             ],
             [
              0.6666666666666666,
              "#ed7953"
             ],
             [
              0.7777777777777778,
              "#fb9f3a"
             ],
             [
              0.8888888888888888,
              "#fdca26"
             ],
             [
              1,
              "#f0f921"
             ]
            ],
            "type": "heatmapgl"
           }
          ],
          "histogram": [
           {
            "marker": {
             "pattern": {
              "fillmode": "overlay",
              "size": 10,
              "solidity": 0.2
             }
            },
            "type": "histogram"
           }
          ],
          "histogram2d": [
           {
            "colorbar": {
             "outlinewidth": 0,
             "ticks": ""
            },
            "colorscale": [
             [
              0,
              "#0d0887"
             ],
             [
              0.1111111111111111,
              "#46039f"
             ],
             [
              0.2222222222222222,
              "#7201a8"
             ],
             [
              0.3333333333333333,
              "#9c179e"
             ],
             [
              0.4444444444444444,
              "#bd3786"
             ],
             [
              0.5555555555555556,
              "#d8576b"
             ],
             [
              0.6666666666666666,
              "#ed7953"
             ],
             [
              0.7777777777777778,
              "#fb9f3a"
             ],
             [
              0.8888888888888888,
              "#fdca26"
             ],
             [
              1,
              "#f0f921"
             ]
            ],
            "type": "histogram2d"
           }
          ],
          "histogram2dcontour": [
           {
            "colorbar": {
             "outlinewidth": 0,
             "ticks": ""
            },
            "colorscale": [
             [
              0,
              "#0d0887"
             ],
             [
              0.1111111111111111,
              "#46039f"
             ],
             [
              0.2222222222222222,
              "#7201a8"
             ],
             [
              0.3333333333333333,
              "#9c179e"
             ],
             [
              0.4444444444444444,
              "#bd3786"
             ],
             [
              0.5555555555555556,
              "#d8576b"
             ],
             [
              0.6666666666666666,
              "#ed7953"
             ],
             [
              0.7777777777777778,
              "#fb9f3a"
             ],
             [
              0.8888888888888888,
              "#fdca26"
             ],
             [
              1,
              "#f0f921"
             ]
            ],
            "type": "histogram2dcontour"
           }
          ],
          "mesh3d": [
           {
            "colorbar": {
             "outlinewidth": 0,
             "ticks": ""
            },
            "type": "mesh3d"
           }
          ],
          "parcoords": [
           {
            "line": {
             "colorbar": {
              "outlinewidth": 0,
              "ticks": ""
             }
            },
            "type": "parcoords"
           }
          ],
          "pie": [
           {
            "automargin": true,
            "type": "pie"
           }
          ],
          "scatter": [
           {
            "fillpattern": {
             "fillmode": "overlay",
             "size": 10,
             "solidity": 0.2
            },
            "type": "scatter"
           }
          ],
          "scatter3d": [
           {
            "line": {
             "colorbar": {
              "outlinewidth": 0,
              "ticks": ""
             }
            },
            "marker": {
             "colorbar": {
              "outlinewidth": 0,
              "ticks": ""
             }
            },
            "type": "scatter3d"
           }
          ],
          "scattercarpet": [
           {
            "marker": {
             "colorbar": {
              "outlinewidth": 0,
              "ticks": ""
             }
            },
            "type": "scattercarpet"
           }
          ],
          "scattergeo": [
           {
            "marker": {
             "colorbar": {
              "outlinewidth": 0,
              "ticks": ""
             }
            },
            "type": "scattergeo"
           }
          ],
          "scattergl": [
           {
            "marker": {
             "colorbar": {
              "outlinewidth": 0,
              "ticks": ""
             }
            },
            "type": "scattergl"
           }
          ],
          "scattermapbox": [
           {
            "marker": {
             "colorbar": {
              "outlinewidth": 0,
              "ticks": ""
             }
            },
            "type": "scattermapbox"
           }
          ],
          "scatterpolar": [
           {
            "marker": {
             "colorbar": {
              "outlinewidth": 0,
              "ticks": ""
             }
            },
            "type": "scatterpolar"
           }
          ],
          "scatterpolargl": [
           {
            "marker": {
             "colorbar": {
              "outlinewidth": 0,
              "ticks": ""
             }
            },
            "type": "scatterpolargl"
           }
          ],
          "scatterternary": [
           {
            "marker": {
             "colorbar": {
              "outlinewidth": 0,
              "ticks": ""
             }
            },
            "type": "scatterternary"
           }
          ],
          "surface": [
           {
            "colorbar": {
             "outlinewidth": 0,
             "ticks": ""
            },
            "colorscale": [
             [
              0,
              "#0d0887"
             ],
             [
              0.1111111111111111,
              "#46039f"
             ],
             [
              0.2222222222222222,
              "#7201a8"
             ],
             [
              0.3333333333333333,
              "#9c179e"
             ],
             [
              0.4444444444444444,
              "#bd3786"
             ],
             [
              0.5555555555555556,
              "#d8576b"
             ],
             [
              0.6666666666666666,
              "#ed7953"
             ],
             [
              0.7777777777777778,
              "#fb9f3a"
             ],
             [
              0.8888888888888888,
              "#fdca26"
             ],
             [
              1,
              "#f0f921"
             ]
            ],
            "type": "surface"
           }
          ],
          "table": [
           {
            "cells": {
             "fill": {
              "color": "#EBF0F8"
             },
             "line": {
              "color": "white"
             }
            },
            "header": {
             "fill": {
              "color": "#C8D4E3"
             },
             "line": {
              "color": "white"
             }
            },
            "type": "table"
           }
          ]
         },
         "layout": {
          "annotationdefaults": {
           "arrowcolor": "#2a3f5f",
           "arrowhead": 0,
           "arrowwidth": 1
          },
          "autotypenumbers": "strict",
          "coloraxis": {
           "colorbar": {
            "outlinewidth": 0,
            "ticks": ""
           }
          },
          "colorscale": {
           "diverging": [
            [
             0,
             "#8e0152"
            ],
            [
             0.1,
             "#c51b7d"
            ],
            [
             0.2,
             "#de77ae"
            ],
            [
             0.3,
             "#f1b6da"
            ],
            [
             0.4,
             "#fde0ef"
            ],
            [
             0.5,
             "#f7f7f7"
            ],
            [
             0.6,
             "#e6f5d0"
            ],
            [
             0.7,
             "#b8e186"
            ],
            [
             0.8,
             "#7fbc41"
            ],
            [
             0.9,
             "#4d9221"
            ],
            [
             1,
             "#276419"
            ]
           ],
           "sequential": [
            [
             0,
             "#0d0887"
            ],
            [
             0.1111111111111111,
             "#46039f"
            ],
            [
             0.2222222222222222,
             "#7201a8"
            ],
            [
             0.3333333333333333,
             "#9c179e"
            ],
            [
             0.4444444444444444,
             "#bd3786"
            ],
            [
             0.5555555555555556,
             "#d8576b"
            ],
            [
             0.6666666666666666,
             "#ed7953"
            ],
            [
             0.7777777777777778,
             "#fb9f3a"
            ],
            [
             0.8888888888888888,
             "#fdca26"
            ],
            [
             1,
             "#f0f921"
            ]
           ],
           "sequentialminus": [
            [
             0,
             "#0d0887"
            ],
            [
             0.1111111111111111,
             "#46039f"
            ],
            [
             0.2222222222222222,
             "#7201a8"
            ],
            [
             0.3333333333333333,
             "#9c179e"
            ],
            [
             0.4444444444444444,
             "#bd3786"
            ],
            [
             0.5555555555555556,
             "#d8576b"
            ],
            [
             0.6666666666666666,
             "#ed7953"
            ],
            [
             0.7777777777777778,
             "#fb9f3a"
            ],
            [
             0.8888888888888888,
             "#fdca26"
            ],
            [
             1,
             "#f0f921"
            ]
           ]
          },
          "colorway": [
           "#636efa",
           "#EF553B",
           "#00cc96",
           "#ab63fa",
           "#FFA15A",
           "#19d3f3",
           "#FF6692",
           "#B6E880",
           "#FF97FF",
           "#FECB52"
          ],
          "font": {
           "color": "#2a3f5f"
          },
          "geo": {
           "bgcolor": "white",
           "lakecolor": "white",
           "landcolor": "#E5ECF6",
           "showlakes": true,
           "showland": true,
           "subunitcolor": "white"
          },
          "hoverlabel": {
           "align": "left"
          },
          "hovermode": "closest",
          "mapbox": {
           "style": "light"
          },
          "paper_bgcolor": "white",
          "plot_bgcolor": "#E5ECF6",
          "polar": {
           "angularaxis": {
            "gridcolor": "white",
            "linecolor": "white",
            "ticks": ""
           },
           "bgcolor": "#E5ECF6",
           "radialaxis": {
            "gridcolor": "white",
            "linecolor": "white",
            "ticks": ""
           }
          },
          "scene": {
           "xaxis": {
            "backgroundcolor": "#E5ECF6",
            "gridcolor": "white",
            "gridwidth": 2,
            "linecolor": "white",
            "showbackground": true,
            "ticks": "",
            "zerolinecolor": "white"
           },
           "yaxis": {
            "backgroundcolor": "#E5ECF6",
            "gridcolor": "white",
            "gridwidth": 2,
            "linecolor": "white",
            "showbackground": true,
            "ticks": "",
            "zerolinecolor": "white"
           },
           "zaxis": {
            "backgroundcolor": "#E5ECF6",
            "gridcolor": "white",
            "gridwidth": 2,
            "linecolor": "white",
            "showbackground": true,
            "ticks": "",
            "zerolinecolor": "white"
           }
          },
          "shapedefaults": {
           "line": {
            "color": "#2a3f5f"
           }
          },
          "ternary": {
           "aaxis": {
            "gridcolor": "white",
            "linecolor": "white",
            "ticks": ""
           },
           "baxis": {
            "gridcolor": "white",
            "linecolor": "white",
            "ticks": ""
           },
           "bgcolor": "#E5ECF6",
           "caxis": {
            "gridcolor": "white",
            "linecolor": "white",
            "ticks": ""
           }
          },
          "title": {
           "x": 0.05
          },
          "xaxis": {
           "automargin": true,
           "gridcolor": "white",
           "linecolor": "white",
           "ticks": "",
           "title": {
            "standoff": 15
           },
           "zerolinecolor": "white",
           "zerolinewidth": 2
          },
          "yaxis": {
           "automargin": true,
           "gridcolor": "white",
           "linecolor": "white",
           "ticks": "",
           "title": {
            "standoff": 15
           },
           "zerolinecolor": "white",
           "zerolinewidth": 2
          }
         }
        },
        "title": {
         "text": "Abundance vs Velocity"
        },
        "xaxis": {
         "title": {
          "text": "Velocity (km/s)"
         }
        },
        "yaxis": {
         "title": {
          "text": "Abundance"
         }
        }
       }
      },
      "text/html": [
       "<div>                            <div id=\"2ff45b32-940b-41e4-8d65-8407a7818b95\" class=\"plotly-graph-div\" style=\"height:525px; width:100%;\"></div>            <script type=\"text/javascript\">                require([\"plotly\"], function(Plotly) {                    window.PLOTLYENV=window.PLOTLYENV || {};                                    if (document.getElementById(\"2ff45b32-940b-41e4-8d65-8407a7818b95\")) {                    Plotly.newPlot(                        \"2ff45b32-940b-41e4-8d65-8407a7818b95\",                        [{\"line\":{\"color\":\"green\"},\"mode\":\"lines+markers\",\"name\":\"O\",\"x\":[11000.0,11450.000000000002,11900.000000000002,12350.000000000002,12800.000000000002,13250.000000000002,13700.000000000002,14150.000000000002,14600.000000000002,15050.000000000002,15500.000000000002,15950.000000000002,16400.0,16850.0,17300.0,17750.0,18200.0,18650.0,19100.0,19550.0],\"y\":[0.19,0.19,0.19,0.19,0.19,0.19,0.19,0.19,0.19,0.19,0.19,0.19,0.19,0.19,0.19,0.19,0.19,0.19,0.19,0.19],\"type\":\"scatter\"},{\"line\":{\"color\":\"red\"},\"mode\":\"lines+markers\",\"name\":\"Mg\",\"x\":[11000.0,11450.000000000002,11900.000000000002,12350.000000000002,12800.000000000002,13250.000000000002,13700.000000000002,14150.000000000002,14600.000000000002,15050.000000000002,15500.000000000002,15950.000000000002,16400.0,16850.0,17300.0,17750.0,18200.0,18650.0,19100.0,19550.0],\"y\":[0.03,0.03,0.03,0.03,0.03,0.03,0.03,0.03,0.03,0.03,0.03,0.03,0.03,0.03,0.03,0.03,0.03,0.03,0.03,0.03],\"type\":\"scatter\"},{\"line\":{\"color\":\"blue\"},\"mode\":\"lines+markers\",\"name\":\"Si\",\"x\":[11000.0,11450.000000000002,11900.000000000002,12350.000000000002,12800.000000000002,13250.000000000002,13700.000000000002,14150.000000000002,14600.000000000002,15050.000000000002,15500.000000000002,15950.000000000002,16400.0,16850.0,17300.0,17750.0,18200.0,18650.0,19100.0,19550.0],\"y\":[0.52,0.52,0.52,0.52,0.52,0.52,0.52,0.52,0.52,0.52,0.52,0.52,0.52,0.52,0.52,0.52,0.52,0.52,0.52,0.52],\"type\":\"scatter\"},{\"line\":{\"color\":\"magenta\",\"dash\":\"dash\"},\"mode\":\"lines+markers\",\"name\":\"S\",\"x\":[11000.0,11450.000000000002,11900.000000000002,12350.000000000002,12800.000000000002,13250.000000000002,13700.000000000002,14150.000000000002,14600.000000000002,15050.000000000002,15500.000000000002,15950.000000000002,16400.0,16850.0,17300.0,17750.0,18200.0,18650.0,19100.0,19550.0],\"y\":[0.19,0.19,0.19,0.19,0.19,0.19,0.19,0.19,0.19,0.19,0.19,0.19,0.19,0.19,0.19,0.19,0.19,0.19,0.19,0.19],\"type\":\"scatter\"},{\"line\":{\"color\":\"orange\"},\"mode\":\"lines+markers\",\"name\":\"Ar\",\"x\":[11000.0,11450.000000000002,11900.000000000002,12350.000000000002,12800.000000000002,13250.000000000002,13700.000000000002,14150.000000000002,14600.000000000002,15050.000000000002,15500.000000000002,15950.000000000002,16400.0,16850.0,17300.0,17750.0,18200.0,18650.0,19100.0,19550.0],\"y\":[0.04,0.04,0.04,0.04,0.04,0.04,0.04,0.04,0.04,0.04,0.04,0.04,0.04,0.04,0.04,0.04,0.04,0.04,0.04,0.04],\"type\":\"scatter\"},{\"line\":{\"color\":\"royalblue\",\"dash\":\"dash\"},\"mode\":\"lines+markers\",\"name\":\"Ca\",\"x\":[11000.0,11450.000000000002,11900.000000000002,12350.000000000002,12800.000000000002,13250.000000000002,13700.000000000002,14150.000000000002,14600.000000000002,15050.000000000002,15500.000000000002,15950.000000000002,16400.0,16850.0,17300.0,17750.0,18200.0,18650.0,19100.0,19550.0],\"y\":[0.03,0.03,0.03,0.03,0.03,0.03,0.03,0.03,0.03,0.03,0.03,0.03,0.03,0.03,0.03,0.03,0.03,0.03,0.03,0.03],\"type\":\"scatter\"}],                        {\"template\":{\"data\":{\"histogram2dcontour\":[{\"type\":\"histogram2dcontour\",\"colorbar\":{\"outlinewidth\":0,\"ticks\":\"\"},\"colorscale\":[[0.0,\"#0d0887\"],[0.1111111111111111,\"#46039f\"],[0.2222222222222222,\"#7201a8\"],[0.3333333333333333,\"#9c179e\"],[0.4444444444444444,\"#bd3786\"],[0.5555555555555556,\"#d8576b\"],[0.6666666666666666,\"#ed7953\"],[0.7777777777777778,\"#fb9f3a\"],[0.8888888888888888,\"#fdca26\"],[1.0,\"#f0f921\"]]}],\"choropleth\":[{\"type\":\"choropleth\",\"colorbar\":{\"outlinewidth\":0,\"ticks\":\"\"}}],\"histogram2d\":[{\"type\":\"histogram2d\",\"colorbar\":{\"outlinewidth\":0,\"ticks\":\"\"},\"colorscale\":[[0.0,\"#0d0887\"],[0.1111111111111111,\"#46039f\"],[0.2222222222222222,\"#7201a8\"],[0.3333333333333333,\"#9c179e\"],[0.4444444444444444,\"#bd3786\"],[0.5555555555555556,\"#d8576b\"],[0.6666666666666666,\"#ed7953\"],[0.7777777777777778,\"#fb9f3a\"],[0.8888888888888888,\"#fdca26\"],[1.0,\"#f0f921\"]]}],\"heatmap\":[{\"type\":\"heatmap\",\"colorbar\":{\"outlinewidth\":0,\"ticks\":\"\"},\"colorscale\":[[0.0,\"#0d0887\"],[0.1111111111111111,\"#46039f\"],[0.2222222222222222,\"#7201a8\"],[0.3333333333333333,\"#9c179e\"],[0.4444444444444444,\"#bd3786\"],[0.5555555555555556,\"#d8576b\"],[0.6666666666666666,\"#ed7953\"],[0.7777777777777778,\"#fb9f3a\"],[0.8888888888888888,\"#fdca26\"],[1.0,\"#f0f921\"]]}],\"heatmapgl\":[{\"type\":\"heatmapgl\",\"colorbar\":{\"outlinewidth\":0,\"ticks\":\"\"},\"colorscale\":[[0.0,\"#0d0887\"],[0.1111111111111111,\"#46039f\"],[0.2222222222222222,\"#7201a8\"],[0.3333333333333333,\"#9c179e\"],[0.4444444444444444,\"#bd3786\"],[0.5555555555555556,\"#d8576b\"],[0.6666666666666666,\"#ed7953\"],[0.7777777777777778,\"#fb9f3a\"],[0.8888888888888888,\"#fdca26\"],[1.0,\"#f0f921\"]]}],\"contourcarpet\":[{\"type\":\"contourcarpet\",\"colorbar\":{\"outlinewidth\":0,\"ticks\":\"\"}}],\"contour\":[{\"type\":\"contour\",\"colorbar\":{\"outlinewidth\":0,\"ticks\":\"\"},\"colorscale\":[[0.0,\"#0d0887\"],[0.1111111111111111,\"#46039f\"],[0.2222222222222222,\"#7201a8\"],[0.3333333333333333,\"#9c179e\"],[0.4444444444444444,\"#bd3786\"],[0.5555555555555556,\"#d8576b\"],[0.6666666666666666,\"#ed7953\"],[0.7777777777777778,\"#fb9f3a\"],[0.8888888888888888,\"#fdca26\"],[1.0,\"#f0f921\"]]}],\"surface\":[{\"type\":\"surface\",\"colorbar\":{\"outlinewidth\":0,\"ticks\":\"\"},\"colorscale\":[[0.0,\"#0d0887\"],[0.1111111111111111,\"#46039f\"],[0.2222222222222222,\"#7201a8\"],[0.3333333333333333,\"#9c179e\"],[0.4444444444444444,\"#bd3786\"],[0.5555555555555556,\"#d8576b\"],[0.6666666666666666,\"#ed7953\"],[0.7777777777777778,\"#fb9f3a\"],[0.8888888888888888,\"#fdca26\"],[1.0,\"#f0f921\"]]}],\"mesh3d\":[{\"type\":\"mesh3d\",\"colorbar\":{\"outlinewidth\":0,\"ticks\":\"\"}}],\"scatter\":[{\"fillpattern\":{\"fillmode\":\"overlay\",\"size\":10,\"solidity\":0.2},\"type\":\"scatter\"}],\"parcoords\":[{\"type\":\"parcoords\",\"line\":{\"colorbar\":{\"outlinewidth\":0,\"ticks\":\"\"}}}],\"scatterpolargl\":[{\"type\":\"scatterpolargl\",\"marker\":{\"colorbar\":{\"outlinewidth\":0,\"ticks\":\"\"}}}],\"bar\":[{\"error_x\":{\"color\":\"#2a3f5f\"},\"error_y\":{\"color\":\"#2a3f5f\"},\"marker\":{\"line\":{\"color\":\"#E5ECF6\",\"width\":0.5},\"pattern\":{\"fillmode\":\"overlay\",\"size\":10,\"solidity\":0.2}},\"type\":\"bar\"}],\"scattergeo\":[{\"type\":\"scattergeo\",\"marker\":{\"colorbar\":{\"outlinewidth\":0,\"ticks\":\"\"}}}],\"scatterpolar\":[{\"type\":\"scatterpolar\",\"marker\":{\"colorbar\":{\"outlinewidth\":0,\"ticks\":\"\"}}}],\"histogram\":[{\"marker\":{\"pattern\":{\"fillmode\":\"overlay\",\"size\":10,\"solidity\":0.2}},\"type\":\"histogram\"}],\"scattergl\":[{\"type\":\"scattergl\",\"marker\":{\"colorbar\":{\"outlinewidth\":0,\"ticks\":\"\"}}}],\"scatter3d\":[{\"type\":\"scatter3d\",\"line\":{\"colorbar\":{\"outlinewidth\":0,\"ticks\":\"\"}},\"marker\":{\"colorbar\":{\"outlinewidth\":0,\"ticks\":\"\"}}}],\"scattermapbox\":[{\"type\":\"scattermapbox\",\"marker\":{\"colorbar\":{\"outlinewidth\":0,\"ticks\":\"\"}}}],\"scatterternary\":[{\"type\":\"scatterternary\",\"marker\":{\"colorbar\":{\"outlinewidth\":0,\"ticks\":\"\"}}}],\"scattercarpet\":[{\"type\":\"scattercarpet\",\"marker\":{\"colorbar\":{\"outlinewidth\":0,\"ticks\":\"\"}}}],\"carpet\":[{\"aaxis\":{\"endlinecolor\":\"#2a3f5f\",\"gridcolor\":\"white\",\"linecolor\":\"white\",\"minorgridcolor\":\"white\",\"startlinecolor\":\"#2a3f5f\"},\"baxis\":{\"endlinecolor\":\"#2a3f5f\",\"gridcolor\":\"white\",\"linecolor\":\"white\",\"minorgridcolor\":\"white\",\"startlinecolor\":\"#2a3f5f\"},\"type\":\"carpet\"}],\"table\":[{\"cells\":{\"fill\":{\"color\":\"#EBF0F8\"},\"line\":{\"color\":\"white\"}},\"header\":{\"fill\":{\"color\":\"#C8D4E3\"},\"line\":{\"color\":\"white\"}},\"type\":\"table\"}],\"barpolar\":[{\"marker\":{\"line\":{\"color\":\"#E5ECF6\",\"width\":0.5},\"pattern\":{\"fillmode\":\"overlay\",\"size\":10,\"solidity\":0.2}},\"type\":\"barpolar\"}],\"pie\":[{\"automargin\":true,\"type\":\"pie\"}]},\"layout\":{\"autotypenumbers\":\"strict\",\"colorway\":[\"#636efa\",\"#EF553B\",\"#00cc96\",\"#ab63fa\",\"#FFA15A\",\"#19d3f3\",\"#FF6692\",\"#B6E880\",\"#FF97FF\",\"#FECB52\"],\"font\":{\"color\":\"#2a3f5f\"},\"hovermode\":\"closest\",\"hoverlabel\":{\"align\":\"left\"},\"paper_bgcolor\":\"white\",\"plot_bgcolor\":\"#E5ECF6\",\"polar\":{\"bgcolor\":\"#E5ECF6\",\"angularaxis\":{\"gridcolor\":\"white\",\"linecolor\":\"white\",\"ticks\":\"\"},\"radialaxis\":{\"gridcolor\":\"white\",\"linecolor\":\"white\",\"ticks\":\"\"}},\"ternary\":{\"bgcolor\":\"#E5ECF6\",\"aaxis\":{\"gridcolor\":\"white\",\"linecolor\":\"white\",\"ticks\":\"\"},\"baxis\":{\"gridcolor\":\"white\",\"linecolor\":\"white\",\"ticks\":\"\"},\"caxis\":{\"gridcolor\":\"white\",\"linecolor\":\"white\",\"ticks\":\"\"}},\"coloraxis\":{\"colorbar\":{\"outlinewidth\":0,\"ticks\":\"\"}},\"colorscale\":{\"sequential\":[[0.0,\"#0d0887\"],[0.1111111111111111,\"#46039f\"],[0.2222222222222222,\"#7201a8\"],[0.3333333333333333,\"#9c179e\"],[0.4444444444444444,\"#bd3786\"],[0.5555555555555556,\"#d8576b\"],[0.6666666666666666,\"#ed7953\"],[0.7777777777777778,\"#fb9f3a\"],[0.8888888888888888,\"#fdca26\"],[1.0,\"#f0f921\"]],\"sequentialminus\":[[0.0,\"#0d0887\"],[0.1111111111111111,\"#46039f\"],[0.2222222222222222,\"#7201a8\"],[0.3333333333333333,\"#9c179e\"],[0.4444444444444444,\"#bd3786\"],[0.5555555555555556,\"#d8576b\"],[0.6666666666666666,\"#ed7953\"],[0.7777777777777778,\"#fb9f3a\"],[0.8888888888888888,\"#fdca26\"],[1.0,\"#f0f921\"]],\"diverging\":[[0,\"#8e0152\"],[0.1,\"#c51b7d\"],[0.2,\"#de77ae\"],[0.3,\"#f1b6da\"],[0.4,\"#fde0ef\"],[0.5,\"#f7f7f7\"],[0.6,\"#e6f5d0\"],[0.7,\"#b8e186\"],[0.8,\"#7fbc41\"],[0.9,\"#4d9221\"],[1,\"#276419\"]]},\"xaxis\":{\"gridcolor\":\"white\",\"linecolor\":\"white\",\"ticks\":\"\",\"title\":{\"standoff\":15},\"zerolinecolor\":\"white\",\"automargin\":true,\"zerolinewidth\":2},\"yaxis\":{\"gridcolor\":\"white\",\"linecolor\":\"white\",\"ticks\":\"\",\"title\":{\"standoff\":15},\"zerolinecolor\":\"white\",\"automargin\":true,\"zerolinewidth\":2},\"scene\":{\"xaxis\":{\"backgroundcolor\":\"#E5ECF6\",\"gridcolor\":\"white\",\"linecolor\":\"white\",\"showbackground\":true,\"ticks\":\"\",\"zerolinecolor\":\"white\",\"gridwidth\":2},\"yaxis\":{\"backgroundcolor\":\"#E5ECF6\",\"gridcolor\":\"white\",\"linecolor\":\"white\",\"showbackground\":true,\"ticks\":\"\",\"zerolinecolor\":\"white\",\"gridwidth\":2},\"zaxis\":{\"backgroundcolor\":\"#E5ECF6\",\"gridcolor\":\"white\",\"linecolor\":\"white\",\"showbackground\":true,\"ticks\":\"\",\"zerolinecolor\":\"white\",\"gridwidth\":2}},\"shapedefaults\":{\"line\":{\"color\":\"#2a3f5f\"}},\"annotationdefaults\":{\"arrowcolor\":\"#2a3f5f\",\"arrowhead\":0,\"arrowwidth\":1},\"geo\":{\"bgcolor\":\"white\",\"landcolor\":\"#E5ECF6\",\"subunitcolor\":\"white\",\"showland\":true,\"showlakes\":true,\"lakecolor\":\"white\"},\"title\":{\"x\":0.05},\"mapbox\":{\"style\":\"light\"}}},\"title\":{\"text\":\"Abundance vs Velocity\"},\"xaxis\":{\"title\":{\"text\":\"Velocity (km/s)\"}},\"yaxis\":{\"title\":{\"text\":\"Abundance\"}}},                        {\"responsive\": true}                    ).then(function(){\n",
       "                            \n",
       "var gd = document.getElementById('2ff45b32-940b-41e4-8d65-8407a7818b95');\n",
       "var x = new MutationObserver(function (mutations, observer) {{\n",
       "        var display = window.getComputedStyle(gd).display;\n",
       "        if (!display || display === 'none') {{\n",
       "            console.log([gd, 'removed!']);\n",
       "            Plotly.purge(gd);\n",
       "            observer.disconnect();\n",
       "        }}\n",
       "}});\n",
       "\n",
       "// Listen for the removal of the full notebook cells\n",
       "var notebookContainer = gd.closest('#notebook-container');\n",
       "if (notebookContainer) {{\n",
       "    x.observe(notebookContainer, {childList: true});\n",
       "}}\n",
       "\n",
       "// Listen for the clearing of the current output cell\n",
       "var outputEl = gd.closest('.output');\n",
       "if (outputEl) {{\n",
       "    x.observe(outputEl, {childList: true});\n",
       "}}\n",
       "\n",
       "                        })                };                });            </script>        </div>"
      ]
     },
     "metadata": {},
     "output_type": "display_data"
    }
   ],
   "source": [
    "import plotly.graph_objs as go\n",
    "\n",
    "fig = go.Figure()\n",
    "\n",
    "colors = ['green','red','blue','magenta','orange','royalblue']\n",
    "prev_vals = [[0]*20]\n",
    "\n",
    "for i, element in enumerate(elements):\n",
    "    if check_duplicate(prev_vals,[abundance[abundance.columns[i]].tolist()])==True:\n",
    "            fig.add_trace(\n",
    "                go.Scatter(\n",
    "                    x=velocity, \n",
    "                    y=abundance[abundance.columns[i]],\n",
    "                    mode='lines+markers',\n",
    "                    name=element,\n",
    "                    line=dict(dash='dash',color=colors[i])\n",
    "                )\n",
    "            )\n",
    "    else:\n",
    "        fig.add_trace(\n",
    "            go.Scatter(\n",
    "                x=velocity, \n",
    "                y=abundance[abundance.columns[i]],\n",
    "                mode='lines+markers',\n",
    "                name=element,\n",
    "                line=dict(color=colors[i])\n",
    "            \n",
    "                )\n",
    "            )\n",
    "    prev_vals.append(abundance[abundance.columns[i]].tolist())\n",
    "\n",
    "fig.update_layout(\n",
    "    title='Abundance vs Velocity', \n",
    "    xaxis_title='Velocity (km/s)', \n",
    "    yaxis_title='Abundance')\n",
    "fig.show()"
   ]
  }
 ],
 "metadata": {
  "kernelspec": {
   "display_name": "Python 3 (ipykernel)",
   "language": "python",
   "name": "python3"
  },
  "language_info": {
   "codemirror_mode": {
    "name": "ipython",
    "version": 3
   },
   "file_extension": ".py",
   "mimetype": "text/x-python",
   "name": "python",
   "nbconvert_exporter": "python",
   "pygments_lexer": "ipython3",
   "version": "3.8.16"
  }
 },
 "nbformat": 4,
 "nbformat_minor": 5
}
