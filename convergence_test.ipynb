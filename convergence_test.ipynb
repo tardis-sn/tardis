{
 "cells": [
  {
   "cell_type": "markdown",
   "metadata": {},
   "source": [
    "### Setting up and running the TARDIS example simulation "
   ]
  },
  {
   "cell_type": "code",
   "execution_count": 1,
   "metadata": {},
   "outputs": [],
   "source": [
    "from tardis.base import run_tardis\n",
    "import matplotlib.pyplot as plt\n",
    "import pandas as pd\n",
    "import numpy as np\n",
    "import logging\n",
    "import time\n",
    "import os"
   ]
  },
  {
   "cell_type": "code",
   "execution_count": 2,
   "metadata": {},
   "outputs": [
    {
     "data": {
      "application/vnd.jupyter.widget-view+json": {
       "model_id": "d8df4fb6a2b14601ae1641d20ab5c96e",
       "version_major": 2,
       "version_minor": 0
      },
      "text/plain": [
       "Tab(children=(Output(layout=Layout(height='300px', overflow_y='auto')), Output(layout=Layout(height='300px', o…"
      ]
     },
     "metadata": {},
     "output_type": "display_data"
    },
    {
     "data": {
      "application/vnd.jupyter.widget-view+json": {
       "model_id": "d8eb68745d68421592fe03b32b9b1431",
       "version_major": 2,
       "version_minor": 0
      },
      "text/plain": [
       "Iterations:          0/? [00:00<?, ?it/s]"
      ]
     },
     "metadata": {},
     "output_type": "display_data"
    },
    {
     "data": {
      "application/vnd.jupyter.widget-view+json": {
       "model_id": "6c1305d32b844d409cd7e1a20e763647",
       "version_major": 2,
       "version_minor": 0
      },
      "text/plain": [
       "Packets:             0/? [00:00<?, ?it/s]"
      ]
     },
     "metadata": {},
     "output_type": "display_data"
    },
    {
     "name": "stderr",
     "output_type": "stream",
     "text": [
      "OMP: Info #276: omp_set_nested routine deprecated, please use omp_set_max_active_levels instead.\n"
     ]
    },
    {
     "data": {
      "application/vnd.jupyter.widget-view+json": {
       "model_id": "fb9c6396421f42b884947b77ca5c1be9",
       "version_major": 2,
       "version_minor": 0
      },
      "text/plain": [
       "TqdmHBox(children=(HTML(value='Iterations:', layout=Layout(width='6%')), FloatProgress(value=0.0, layout=Layou…"
      ]
     },
     "metadata": {},
     "output_type": "display_data"
    },
    {
     "data": {
      "application/vnd.jupyter.widget-view+json": {
       "model_id": "f23f2b83b7ca48af9268a077ff7a5d8a",
       "version_major": 2,
       "version_minor": 0
      },
      "text/plain": [
       "TqdmHBox(children=(HTML(value='Packets:   ', layout=Layout(width='6%')), FloatProgress(value=0.0, layout=Layou…"
      ]
     },
     "metadata": {},
     "output_type": "display_data"
    },
    {
     "data": {
      "application/vnd.jupyter.widget-view+json": {
       "model_id": "71b00aae94d24fc0b1f18800ed66024f",
       "version_major": 2,
       "version_minor": 0
      },
      "text/plain": [
       "VBox(children=(FigureWidget({\n",
       "    'data': [{'type': 'scatter', 'uid': 'dcac35b5-d849-442a-ac0c-63973591b560', …"
      ]
     },
     "metadata": {},
     "output_type": "display_data"
    }
   ],
   "source": [
    "os.chdir(\"/Users/deekshamohanty/tardis\")  \n",
    "\n",
    "sim = run_tardis(\n",
    "    \"tardis_anderson.yml\",\n",
    "    virtual_packet_logging=False,\n",
    "    show_convergence_plots=True, \n",
    "    export_convergence_plots=False,\n",
    "    log_level=\"INFO\"\n",
    ")\n"
   ]
  },
  {
   "cell_type": "markdown",
   "metadata": {},
   "source": [
    "### Analysis of damped convergence iterations in TARDIS (0.2)"
   ]
  },
  {
   "cell_type": "code",
   "execution_count": 3,
   "metadata": {},
   "outputs": [
    {
     "data": {
      "text/latex": [
       "$[[10952.632,~11065.297,~11146.836,~11168.511,~11162.763,~11173.84,~11125.281,~11103.504,~11057.896,~10982.173,~10916.747,~10853.869,~10797.786,~10741.666,~10657.186,~10579.633,~10512.265,~10442,~10359.229,~10257.681],~\n",
       " [10974.414,~11079.825,~11155.414,~11184.452,~11180.51,~11186.08,~11145.732,~11121.478,~11075.743,~10993.74,~10924.911,~10853.816,~10798.874,~10731.344,~10658.819,~10581.855,~10513.57,~10441.748,~10359.804,~10261.247]] \\; \\mathrm{K}$"
      ],
      "text/plain": [
       "<Quantity [[10952.63231877, 11065.29655507, 11146.8359289 ,\n",
       "            11168.51126187, 11162.76266113, 11173.84014227,\n",
       "            11125.28131485, 11103.5044254 , 11057.89578328,\n",
       "            10982.17284381, 10916.74656888, 10853.86934121,\n",
       "            10797.7863424 , 10741.66583036, 10657.1863048 ,\n",
       "            10579.63315852, 10512.26505999, 10441.9998283 ,\n",
       "            10359.22941609, 10257.68110852],\n",
       "           [10974.413526  , 11079.82475989, 11155.4144222 ,\n",
       "            11184.4515512 , 11180.5101573 , 11186.08014564,\n",
       "            11145.73248128, 11121.47797056, 11075.74310553,\n",
       "            10993.74039084, 10924.91062725, 10853.81618167,\n",
       "            10798.87369014, 10731.34443456, 10658.81913311,\n",
       "            10581.85516831, 10513.56980191, 10441.74819424,\n",
       "            10359.80427222, 10261.24669165]] K>"
      ]
     },
     "execution_count": 3,
     "metadata": {},
     "output_type": "execute_result"
    }
   ],
   "source": [
    "sim.iterations_t_rad[-2:]"
   ]
  },
  {
   "cell_type": "code",
   "execution_count": 4,
   "metadata": {},
   "outputs": [
    {
     "name": "stdout",
     "output_type": "stream",
     "text": [
      "Iteration 19 values: [10952.63231877 11065.29655507 11146.8359289  11168.51126187\n",
      " 11162.76266113 11173.84014227 11125.28131485 11103.5044254\n",
      " 11057.89578328 10982.17284381 10916.74656888 10853.86934121\n",
      " 10797.7863424  10741.66583036 10657.1863048  10579.63315852\n",
      " 10512.26505999 10441.9998283  10359.22941609 10257.68110852] K\n",
      "Iteration 20 values: [10974.413526   11079.82475989 11155.4144222  11184.4515512\n",
      " 11180.5101573  11186.08014564 11145.73248128 11121.47797056\n",
      " 11075.74310553 10993.74039084 10924.91062725 10853.81618167\n",
      " 10798.87369014 10731.34443456 10658.81913311 10581.85516831\n",
      " 10513.56980191 10441.74819424 10359.80427222 10261.24669165] K\n"
     ]
    }
   ],
   "source": [
    "last_two_shells = sim.iterations_t_rad[-2:]\n",
    "\n",
    "for i, iteration in enumerate(last_two_shells, start=19):\n",
    "    print(f\"Iteration {i} values: {iteration}\")"
   ]
  },
  {
   "cell_type": "code",
   "execution_count": 5,
   "metadata": {},
   "outputs": [
    {
     "name": "stdout",
     "output_type": "stream",
     "text": [
      "Percentage differences between last two shells\n",
      "T_rad 0: 0.20%\n",
      "T_rad 1: 0.13%\n",
      "T_rad 2: 0.08%\n",
      "T_rad 3: 0.14%\n",
      "T_rad 4: 0.16%\n",
      "T_rad 5: 0.11%\n",
      "T_rad 6: 0.18%\n",
      "T_rad 7: 0.16%\n",
      "T_rad 8: 0.16%\n",
      "T_rad 9: 0.11%\n",
      "T_rad 10: 0.07%\n",
      "T_rad 11: -0.00%\n",
      "T_rad 12: 0.01%\n",
      "T_rad 13: -0.10%\n",
      "T_rad 14: 0.02%\n",
      "T_rad 15: 0.02%\n",
      "T_rad 16: 0.01%\n",
      "T_rad 17: -0.00%\n",
      "T_rad 18: 0.01%\n",
      "T_rad 19: 0.03%\n"
     ]
    }
   ],
   "source": [
    "last_two_shells = sim.iterations_t_rad[-2:]\n",
    "\n",
    "differences = last_two_shells[1] - last_two_shells[0]\n",
    "\n",
    "percentage_differences = (differences / last_two_shells[0]) * 100\n",
    "\n",
    "print(\"Percentage differences between last two shells\")\n",
    "for i, percentage_difference in enumerate(percentage_differences):\n",
    "    print(f\"T_rad {i}: {percentage_difference:.2f}%\")"
   ]
  },
  {
   "cell_type": "markdown",
   "metadata": {},
   "source": [
    "### Analysis of damped convergence iterations in TARDIS (0.4)"
   ]
  },
  {
   "cell_type": "code",
   "execution_count": 2,
   "metadata": {},
   "outputs": [
    {
     "data": {
      "application/vnd.jupyter.widget-view+json": {
       "model_id": "c949d2c71b8e4519a6a81aeb98b5c267",
       "version_major": 2,
       "version_minor": 0
      },
      "text/plain": [
       "Tab(children=(Output(layout=Layout(height='300px', overflow_y='auto')), Output(layout=Layout(height='300px', o…"
      ]
     },
     "metadata": {},
     "output_type": "display_data"
    },
    {
     "data": {
      "application/vnd.jupyter.widget-view+json": {
       "model_id": "958762d98764479e94b8c21455bb17b5",
       "version_major": 2,
       "version_minor": 0
      },
      "text/plain": [
       "Iterations:          0/? [00:00<?, ?it/s]"
      ]
     },
     "metadata": {},
     "output_type": "display_data"
    },
    {
     "data": {
      "application/vnd.jupyter.widget-view+json": {
       "model_id": "2383cb004dbc4d1b9d0399a7c8d36f72",
       "version_major": 2,
       "version_minor": 0
      },
      "text/plain": [
       "Packets:             0/? [00:00<?, ?it/s]"
      ]
     },
     "metadata": {},
     "output_type": "display_data"
    },
    {
     "name": "stderr",
     "output_type": "stream",
     "text": [
      "OMP: Info #276: omp_set_nested routine deprecated, please use omp_set_max_active_levels instead.\n"
     ]
    },
    {
     "data": {
      "application/vnd.jupyter.widget-view+json": {
       "model_id": "b6eae0b1de93465f9f0e29146e3d16d9",
       "version_major": 2,
       "version_minor": 0
      },
      "text/plain": [
       "TqdmHBox(children=(HTML(value='Iterations:', layout=Layout(width='6%')), FloatProgress(value=0.0, layout=Layou…"
      ]
     },
     "metadata": {},
     "output_type": "display_data"
    },
    {
     "data": {
      "application/vnd.jupyter.widget-view+json": {
       "model_id": "7f7d830f225c40b48359493ced2af76f",
       "version_major": 2,
       "version_minor": 0
      },
      "text/plain": [
       "TqdmHBox(children=(HTML(value='Packets:   ', layout=Layout(width='6%')), FloatProgress(value=0.0, layout=Layou…"
      ]
     },
     "metadata": {},
     "output_type": "display_data"
    },
    {
     "data": {
      "application/vnd.jupyter.widget-view+json": {
       "model_id": "1b4c73cf0f4a4627b0add147dbde4df7",
       "version_major": 2,
       "version_minor": 0
      },
      "text/plain": [
       "VBox(children=(FigureWidget({\n",
       "    'data': [{'type': 'scatter', 'uid': 'a30f7fcc-812d-44bb-bd9c-3ede2a772809', …"
      ]
     },
     "metadata": {},
     "output_type": "display_data"
    }
   ],
   "source": [
    "os.chdir(\"/Users/deekshamohanty/tardis\")  \n",
    "\n",
    "sim = run_tardis(\n",
    "    \"tardis_anderson.yml\",\n",
    "    virtual_packet_logging=False,\n",
    "    show_convergence_plots=True, \n",
    "    export_convergence_plots=False,\n",
    "    log_level=\"INFO\"\n",
    ")"
   ]
  },
  {
   "cell_type": "code",
   "execution_count": 3,
   "metadata": {},
   "outputs": [
    {
     "name": "stdout",
     "output_type": "stream",
     "text": [
      "Percentage differences between last two shells\n",
      "T_rad 0: 0.01%\n",
      "T_rad 1: -0.17%\n",
      "T_rad 2: -0.07%\n",
      "T_rad 3: 0.23%\n",
      "T_rad 4: 0.10%\n",
      "T_rad 5: 0.01%\n",
      "T_rad 6: 0.05%\n",
      "T_rad 7: 0.01%\n",
      "T_rad 8: 0.27%\n",
      "T_rad 9: 0.17%\n",
      "T_rad 10: -0.03%\n",
      "T_rad 11: 0.03%\n",
      "T_rad 12: -0.03%\n",
      "T_rad 13: -0.13%\n",
      "T_rad 14: -0.24%\n",
      "T_rad 15: -0.23%\n",
      "T_rad 16: -0.12%\n",
      "T_rad 17: 0.04%\n",
      "T_rad 18: -0.02%\n",
      "T_rad 19: 0.02%\n"
     ]
    }
   ],
   "source": [
    "last_two_shells = sim.iterations_t_rad[-2:]\n",
    "\n",
    "differences = last_two_shells[1] - last_two_shells[0]\n",
    "\n",
    "percentage_differences = (differences / last_two_shells[0]) * 100\n",
    "\n",
    "print(\"Percentage differences between last two shells\")\n",
    "for i, percentage_difference in enumerate(percentage_differences):\n",
    "    print(f\"T_rad {i}: {percentage_difference:.2f}%\")"
   ]
  },
  {
   "cell_type": "markdown",
   "metadata": {},
   "source": [
    "### Analysis of damped convergence iterations in TARDIS (0.396)"
   ]
  },
  {
   "cell_type": "code",
   "execution_count": 3,
   "metadata": {},
   "outputs": [
    {
     "data": {
      "application/vnd.jupyter.widget-view+json": {
       "model_id": "32621d06000a4e25880aa11044515349",
       "version_major": 2,
       "version_minor": 0
      },
      "text/plain": [
       "Tab(children=(Output(layout=Layout(height='300px', overflow_y='auto')), Output(layout=Layout(height='300px', o…"
      ]
     },
     "metadata": {},
     "output_type": "display_data"
    },
    {
     "data": {
      "application/vnd.jupyter.widget-view+json": {
       "model_id": "0908202c86a241449b64efeb0e920154",
       "version_major": 2,
       "version_minor": 0
      },
      "text/plain": [
       "Iterations:          0/? [00:00<?, ?it/s]"
      ]
     },
     "metadata": {},
     "output_type": "display_data"
    },
    {
     "data": {
      "application/vnd.jupyter.widget-view+json": {
       "model_id": "95f6246e3c904e98b20b10e8cb1bfdbd",
       "version_major": 2,
       "version_minor": 0
      },
      "text/plain": [
       "Packets:             0/? [00:00<?, ?it/s]"
      ]
     },
     "metadata": {},
     "output_type": "display_data"
    },
    {
     "name": "stderr",
     "output_type": "stream",
     "text": [
      "OMP: Info #276: omp_set_nested routine deprecated, please use omp_set_max_active_levels instead.\n"
     ]
    },
    {
     "data": {
      "application/vnd.jupyter.widget-view+json": {
       "model_id": "f3b84d6e4d6d4f849246949f85061d33",
       "version_major": 2,
       "version_minor": 0
      },
      "text/plain": [
       "TqdmHBox(children=(HTML(value='Iterations:', layout=Layout(width='6%')), FloatProgress(value=0.0, layout=Layou…"
      ]
     },
     "metadata": {},
     "output_type": "display_data"
    },
    {
     "data": {
      "application/vnd.jupyter.widget-view+json": {
       "model_id": "5b6c12a016e5426b8e32b2647f440e9b",
       "version_major": 2,
       "version_minor": 0
      },
      "text/plain": [
       "TqdmHBox(children=(HTML(value='Packets:   ', layout=Layout(width='6%')), FloatProgress(value=0.0, layout=Layou…"
      ]
     },
     "metadata": {},
     "output_type": "display_data"
    },
    {
     "data": {
      "application/vnd.jupyter.widget-view+json": {
       "model_id": "fad05a8f484748449a3329cbd6788abe",
       "version_major": 2,
       "version_minor": 0
      },
      "text/plain": [
       "VBox(children=(FigureWidget({\n",
       "    'data': [{'type': 'scatter', 'uid': '43d26906-2e85-454d-b0e9-32e763719c76', …"
      ]
     },
     "metadata": {},
     "output_type": "display_data"
    }
   ],
   "source": [
    "os.chdir(\"/Users/deekshamohanty/tardis\")  \n",
    "\n",
    "sim = run_tardis(\n",
    "    \"tardis_anderson.yml\",\n",
    "    virtual_packet_logging=False,\n",
    "    show_convergence_plots=True, \n",
    "    export_convergence_plots=False,\n",
    "    log_level=\"INFO\"\n",
    ")"
   ]
  },
  {
   "cell_type": "code",
   "execution_count": null,
   "metadata": {},
   "outputs": [],
   "source": [
    "last_two_shells = sim.iterations_t_rad[-2:]\n",
    "\n",
    "differences = last_two_shells[1] - last_two_shells[0]\n",
    "\n",
    "percentage_differences = (differences / last_two_shells[0]) * 100\n",
    "\n",
    "print(\"Percentage differences between last two shells\")\n",
    "for i, percentage_difference in enumerate(percentage_differences):\n",
    "    print(f\"T_rad {i}: {percentage_difference:.2f}%\")"
   ]
  },
  {
   "cell_type": "markdown",
   "metadata": {},
   "source": [
    "### Analysis of damped convergence iterations in TARDIS (0.6)"
   ]
  },
  {
   "cell_type": "code",
   "execution_count": 2,
   "metadata": {},
   "outputs": [
    {
     "data": {
      "application/vnd.jupyter.widget-view+json": {
       "model_id": "e6a2bbf56e634c77a9d21e21f482bd6e",
       "version_major": 2,
       "version_minor": 0
      },
      "text/plain": [
       "Tab(children=(Output(layout=Layout(height='300px', overflow_y='auto')), Output(layout=Layout(height='300px', o…"
      ]
     },
     "metadata": {},
     "output_type": "display_data"
    },
    {
     "data": {
      "application/vnd.jupyter.widget-view+json": {
       "model_id": "3f88443c37ab4ede9b24a39e94969ccc",
       "version_major": 2,
       "version_minor": 0
      },
      "text/plain": [
       "Iterations:          0/? [00:00<?, ?it/s]"
      ]
     },
     "metadata": {},
     "output_type": "display_data"
    },
    {
     "data": {
      "application/vnd.jupyter.widget-view+json": {
       "model_id": "4f86cacdc27e43d494911667f4671db6",
       "version_major": 2,
       "version_minor": 0
      },
      "text/plain": [
       "Packets:             0/? [00:00<?, ?it/s]"
      ]
     },
     "metadata": {},
     "output_type": "display_data"
    },
    {
     "name": "stderr",
     "output_type": "stream",
     "text": [
      "OMP: Info #276: omp_set_nested routine deprecated, please use omp_set_max_active_levels instead.\n"
     ]
    },
    {
     "data": {
      "application/vnd.jupyter.widget-view+json": {
       "model_id": "d9545a6c6c64418e838cb4bf174632ca",
       "version_major": 2,
       "version_minor": 0
      },
      "text/plain": [
       "TqdmHBox(children=(HTML(value='Iterations:', layout=Layout(width='6%')), FloatProgress(value=0.0, layout=Layou…"
      ]
     },
     "metadata": {},
     "output_type": "display_data"
    },
    {
     "data": {
      "application/vnd.jupyter.widget-view+json": {
       "model_id": "e59434c0485c4d99bf41b951d78e752d",
       "version_major": 2,
       "version_minor": 0
      },
      "text/plain": [
       "TqdmHBox(children=(HTML(value='Packets:   ', layout=Layout(width='6%')), FloatProgress(value=0.0, layout=Layou…"
      ]
     },
     "metadata": {},
     "output_type": "display_data"
    },
    {
     "data": {
      "application/vnd.jupyter.widget-view+json": {
       "model_id": "33d17119baa54b86a109cccd90932c5a",
       "version_major": 2,
       "version_minor": 0
      },
      "text/plain": [
       "VBox(children=(FigureWidget({\n",
       "    'data': [{'type': 'scatter', 'uid': '9fd7a044-c95c-4b15-8e01-8506c23617e3', …"
      ]
     },
     "metadata": {},
     "output_type": "display_data"
    }
   ],
   "source": [
    "os.chdir(\"/Users/deekshamohanty/tardis\")  \n",
    "\n",
    "sim = run_tardis(\n",
    "    \"tardis_anderson.yml\",\n",
    "    virtual_packet_logging=False,\n",
    "    show_convergence_plots=True, \n",
    "    export_convergence_plots=False,\n",
    "    log_level=\"INFO\"\n",
    ")"
   ]
  },
  {
   "cell_type": "code",
   "execution_count": 3,
   "metadata": {},
   "outputs": [
    {
     "name": "stdout",
     "output_type": "stream",
     "text": [
      "Percentage differences between last two shells\n",
      "T_rad 0: 0.11%\n",
      "T_rad 1: -0.19%\n",
      "T_rad 2: -0.08%\n",
      "T_rad 3: 0.31%\n",
      "T_rad 4: 0.29%\n",
      "T_rad 5: 0.13%\n",
      "T_rad 6: 0.51%\n",
      "T_rad 7: 0.13%\n",
      "T_rad 8: 0.10%\n",
      "T_rad 9: 0.03%\n",
      "T_rad 10: -0.18%\n",
      "T_rad 11: -0.32%\n",
      "T_rad 12: -0.42%\n",
      "T_rad 13: -0.30%\n",
      "T_rad 14: -0.34%\n",
      "T_rad 15: -0.18%\n",
      "T_rad 16: -0.24%\n",
      "T_rad 17: 0.07%\n",
      "T_rad 18: -0.06%\n",
      "T_rad 19: -0.16%\n"
     ]
    }
   ],
   "source": [
    "last_two_shells = sim.iterations_t_rad[-2:]\n",
    "\n",
    "differences = last_two_shells[1] - last_two_shells[0]\n",
    "\n",
    "percentage_differences = (differences / last_two_shells[0]) * 100\n",
    "\n",
    "print(\"Percentage differences between last two shells\")\n",
    "for i, percentage_difference in enumerate(percentage_differences):\n",
    "    print(f\"T_rad {i}: {percentage_difference:.2f}%\")"
   ]
  },
  {
   "cell_type": "markdown",
   "metadata": {},
   "source": [
    "### Analysis of damped convergence iterations in TARDIS (0.5)"
   ]
  },
  {
   "cell_type": "code",
   "execution_count": 2,
   "metadata": {},
   "outputs": [
    {
     "data": {
      "application/vnd.jupyter.widget-view+json": {
       "model_id": "a3b4290bbcea4e41b75dcc904d72bfbe",
       "version_major": 2,
       "version_minor": 0
      },
      "text/plain": [
       "Tab(children=(Output(layout=Layout(height='300px', overflow_y='auto')), Output(layout=Layout(height='300px', o…"
      ]
     },
     "metadata": {},
     "output_type": "display_data"
    },
    {
     "data": {
      "application/vnd.jupyter.widget-view+json": {
       "model_id": "c364fc866be94d43ae671c74955e432f",
       "version_major": 2,
       "version_minor": 0
      },
      "text/plain": [
       "Iterations:          0/? [00:00<?, ?it/s]"
      ]
     },
     "metadata": {},
     "output_type": "display_data"
    },
    {
     "data": {
      "application/vnd.jupyter.widget-view+json": {
       "model_id": "812805311026488bb656de1f88dd306a",
       "version_major": 2,
       "version_minor": 0
      },
      "text/plain": [
       "Packets:             0/? [00:00<?, ?it/s]"
      ]
     },
     "metadata": {},
     "output_type": "display_data"
    },
    {
     "name": "stderr",
     "output_type": "stream",
     "text": [
      "OMP: Info #276: omp_set_nested routine deprecated, please use omp_set_max_active_levels instead.\n"
     ]
    },
    {
     "data": {
      "application/vnd.jupyter.widget-view+json": {
       "model_id": "a3b44c38ae7e4f85ab7fa45697af823b",
       "version_major": 2,
       "version_minor": 0
      },
      "text/plain": [
       "TqdmHBox(children=(HTML(value='Iterations:', layout=Layout(width='6%')), FloatProgress(value=0.0, layout=Layou…"
      ]
     },
     "metadata": {},
     "output_type": "display_data"
    },
    {
     "data": {
      "application/vnd.jupyter.widget-view+json": {
       "model_id": "30486008bb574212a698dc47e2374da8",
       "version_major": 2,
       "version_minor": 0
      },
      "text/plain": [
       "TqdmHBox(children=(HTML(value='Packets:   ', layout=Layout(width='6%')), FloatProgress(value=0.0, layout=Layou…"
      ]
     },
     "metadata": {},
     "output_type": "display_data"
    },
    {
     "data": {
      "application/vnd.jupyter.widget-view+json": {
       "model_id": "b858c397c7744ccfb5806e4f041e3a75",
       "version_major": 2,
       "version_minor": 0
      },
      "text/plain": [
       "VBox(children=(FigureWidget({\n",
       "    'data': [{'type': 'scatter', 'uid': 'edde9180-7340-4479-83af-293daca53a6d', …"
      ]
     },
     "metadata": {},
     "output_type": "display_data"
    }
   ],
   "source": [
    "os.chdir(\"/Users/deekshamohanty/tardis\")  \n",
    "\n",
    "sim = run_tardis(\n",
    "    \"tardis_anderson.yml\",\n",
    "    virtual_packet_logging=False,\n",
    "    show_convergence_plots=True, \n",
    "    export_convergence_plots=False,\n",
    "    log_level=\"INFO\"\n",
    ")"
   ]
  },
  {
   "cell_type": "code",
   "execution_count": 3,
   "metadata": {},
   "outputs": [
    {
     "name": "stdout",
     "output_type": "stream",
     "text": [
      "Percentage differences between last two shells\n",
      "T_rad 0: 0.13%\n",
      "T_rad 1: -0.14%\n",
      "T_rad 2: 0.06%\n",
      "T_rad 3: -0.01%\n",
      "T_rad 4: 0.04%\n",
      "T_rad 5: -0.10%\n",
      "T_rad 6: 0.17%\n",
      "T_rad 7: 0.02%\n",
      "T_rad 8: -0.12%\n",
      "T_rad 9: -0.11%\n",
      "T_rad 10: 0.06%\n",
      "T_rad 11: -0.09%\n",
      "T_rad 12: 0.11%\n",
      "T_rad 13: -0.28%\n",
      "T_rad 14: -0.23%\n",
      "T_rad 15: -0.09%\n",
      "T_rad 16: -0.37%\n",
      "T_rad 17: -0.29%\n",
      "T_rad 18: -0.24%\n",
      "T_rad 19: -0.30%\n"
     ]
    }
   ],
   "source": [
    "last_two_shells = sim.iterations_t_rad[-2:]\n",
    "\n",
    "differences = last_two_shells[1] - last_two_shells[0]\n",
    "\n",
    "percentage_differences = (differences / last_two_shells[0]) * 100\n",
    "\n",
    "print(\"Percentage differences between last two shells\")\n",
    "for i, percentage_difference in enumerate(percentage_differences):\n",
    "    print(f\"T_rad {i}: {percentage_difference:.2f}%\")"
   ]
  },
  {
   "cell_type": "markdown",
   "metadata": {},
   "source": [
    "### Analysis of damped convergence iterations in TARDIS (0.25)"
   ]
  },
  {
   "cell_type": "code",
   "execution_count": 6,
   "metadata": {},
   "outputs": [
    {
     "data": {
      "application/vnd.jupyter.widget-view+json": {
       "model_id": "ae7ea6d9d02a4cc78621df4a29767958",
       "version_major": 2,
       "version_minor": 0
      },
      "text/plain": [
       "TqdmHBox(children=(HTML(value='Iterations:', layout=Layout(width='6%')), FloatProgress(value=0.0, layout=Layou…"
      ]
     },
     "metadata": {},
     "output_type": "display_data"
    },
    {
     "data": {
      "application/vnd.jupyter.widget-view+json": {
       "model_id": "b99f871794f54f938ce6a70350ee3eed",
       "version_major": 2,
       "version_minor": 0
      },
      "text/plain": [
       "TqdmHBox(children=(HTML(value='Packets:   ', layout=Layout(width='6%')), FloatProgress(value=0.0, layout=Layou…"
      ]
     },
     "metadata": {},
     "output_type": "display_data"
    },
    {
     "data": {
      "application/vnd.jupyter.widget-view+json": {
       "model_id": "127f29faa9d748d19d0cf1af2c00d658",
       "version_major": 2,
       "version_minor": 0
      },
      "text/plain": [
       "VBox(children=(FigureWidget({\n",
       "    'data': [{'type': 'scatter', 'uid': 'bc7066d1-2bb6-4ab9-a39e-e65dd1230c1b', …"
      ]
     },
     "metadata": {},
     "output_type": "display_data"
    }
   ],
   "source": [
    "os.chdir(\"/Users/deekshamohanty/tardis\")  \n",
    "\n",
    "sim = run_tardis(\n",
    "    \"tardis_anderson.yml\",\n",
    "    virtual_packet_logging=False,\n",
    "    show_convergence_plots=True, \n",
    "    export_convergence_plots=False,\n",
    "    log_level=\"INFO\"\n",
    ")"
   ]
  },
  {
   "cell_type": "code",
   "execution_count": 7,
   "metadata": {},
   "outputs": [
    {
     "name": "stdout",
     "output_type": "stream",
     "text": [
      "Percentage differences between last two shells\n",
      "T_rad 0: 0.12%\n",
      "T_rad 1: 0.07%\n",
      "T_rad 2: 0.05%\n",
      "T_rad 3: 0.07%\n",
      "T_rad 4: 0.10%\n",
      "T_rad 5: 0.11%\n",
      "T_rad 6: 0.25%\n",
      "T_rad 7: 0.23%\n",
      "T_rad 8: 0.23%\n",
      "T_rad 9: 0.12%\n",
      "T_rad 10: 0.05%\n",
      "T_rad 11: -0.09%\n",
      "T_rad 12: -0.04%\n",
      "T_rad 13: -0.11%\n",
      "T_rad 14: -0.01%\n",
      "T_rad 15: -0.00%\n",
      "T_rad 16: -0.01%\n",
      "T_rad 17: 0.09%\n",
      "T_rad 18: 0.01%\n",
      "T_rad 19: -0.05%\n"
     ]
    }
   ],
   "source": [
    "last_two_shells = sim.iterations_t_rad[-2:]\n",
    "\n",
    "differences = last_two_shells[1] - last_two_shells[0]\n",
    "\n",
    "percentage_differences = (differences / last_two_shells[0]) * 100\n",
    "\n",
    "print(\"Percentage differences between last two shells\")\n",
    "for i, percentage_difference in enumerate(percentage_differences):\n",
    "    print(f\"T_rad {i}: {percentage_difference:.2f}%\")"
   ]
  },
  {
   "cell_type": "markdown",
   "metadata": {},
   "source": [
    "### Analysis of damped convergence iterations in TARDIS (0.45)"
   ]
  },
  {
   "cell_type": "code",
   "execution_count": 6,
   "metadata": {},
   "outputs": [
    {
     "data": {
      "application/vnd.jupyter.widget-view+json": {
       "model_id": "06a2c6460dab465a9cb8147f6a397dc5",
       "version_major": 2,
       "version_minor": 0
      },
      "text/plain": [
       "TqdmHBox(children=(HTML(value='Iterations:', layout=Layout(width='6%')), FloatProgress(value=0.0, layout=Layou…"
      ]
     },
     "metadata": {},
     "output_type": "display_data"
    },
    {
     "data": {
      "application/vnd.jupyter.widget-view+json": {
       "model_id": "94cf6cbeed034aeeae1accb03af87496",
       "version_major": 2,
       "version_minor": 0
      },
      "text/plain": [
       "TqdmHBox(children=(HTML(value='Packets:   ', layout=Layout(width='6%')), FloatProgress(value=0.0, layout=Layou…"
      ]
     },
     "metadata": {},
     "output_type": "display_data"
    },
    {
     "data": {
      "application/vnd.jupyter.widget-view+json": {
       "model_id": "c887490aa65a4d13bafd69a7445a0905",
       "version_major": 2,
       "version_minor": 0
      },
      "text/plain": [
       "VBox(children=(FigureWidget({\n",
       "    'data': [{'type': 'scatter', 'uid': '1dc380cc-f7a1-4def-95f4-2f5979793966', …"
      ]
     },
     "metadata": {},
     "output_type": "display_data"
    }
   ],
   "source": [
    "os.chdir(\"/Users/deekshamohanty/tardis\")  \n",
    "\n",
    "sim = run_tardis(\n",
    "    \"tardis_anderson.yml\",\n",
    "    virtual_packet_logging=False,\n",
    "    show_convergence_plots=True, \n",
    "    export_convergence_plots=False,\n",
    "    log_level=\"INFO\"\n",
    ")"
   ]
  },
  {
   "cell_type": "code",
   "execution_count": 7,
   "metadata": {},
   "outputs": [
    {
     "name": "stdout",
     "output_type": "stream",
     "text": [
      "Percentage differences between last two shells\n",
      "T_rad 0: 0.06%\n",
      "T_rad 1: -0.18%\n",
      "T_rad 2: -0.07%\n",
      "T_rad 3: 0.12%\n",
      "T_rad 4: 0.04%\n",
      "T_rad 5: -0.00%\n",
      "T_rad 6: 0.09%\n",
      "T_rad 7: -0.08%\n",
      "T_rad 8: -0.12%\n",
      "T_rad 9: 0.05%\n",
      "T_rad 10: -0.13%\n",
      "T_rad 11: -0.30%\n",
      "T_rad 12: -0.17%\n",
      "T_rad 13: -0.24%\n",
      "T_rad 14: -0.17%\n",
      "T_rad 15: -0.20%\n",
      "T_rad 16: -0.31%\n",
      "T_rad 17: -0.16%\n",
      "T_rad 18: -0.26%\n",
      "T_rad 19: -0.29%\n"
     ]
    }
   ],
   "source": [
    "last_two_shells = sim.iterations_t_rad[-2:]\n",
    "\n",
    "differences = last_two_shells[1] - last_two_shells[0]\n",
    "\n",
    "percentage_differences = (differences / last_two_shells[0]) * 100\n",
    "\n",
    "print(\"Percentage differences between last two shells\")\n",
    "for i, percentage_difference in enumerate(percentage_differences):\n",
    "    print(f\"T_rad {i}: {percentage_difference:.2f}%\")"
   ]
  }
 ],
 "metadata": {
  "kernelspec": {
   "display_name": "tardis",
   "language": "python",
   "name": "python3"
  },
  "language_info": {
   "codemirror_mode": {
    "name": "ipython",
    "version": 3
   },
   "file_extension": ".py",
   "mimetype": "text/x-python",
   "name": "python",
   "nbconvert_exporter": "python",
   "pygments_lexer": "ipython3",
   "version": "3.11.5"
  }
 },
 "nbformat": 4,
 "nbformat_minor": 2
}
